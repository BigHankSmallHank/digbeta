{
 "metadata": {
  "name": "",
  "signature": "sha256:0ed798c1e9ee4ece10ff7cd9a4c5fe72a3b25194f2016dfe7213da1d6ac10985"
 },
 "nbformat": 3,
 "nbformat_minor": 0,
 "worksheets": [
  {
   "cells": [
    {
     "cell_type": "markdown",
     "metadata": {},
     "source": [
      "Process Melbourne Data using Methods presented in IJCAI15 Paper\n",
      "=================="
     ]
    },
    {
     "cell_type": "markdown",
     "metadata": {},
     "source": [
      "<a id='toc'></a>\n",
      "1. [Dataset](#dataset)\n",
      "  1. [Simple Facts](#dataset)\n",
      "  1. [Photo Scatter Plot](#scatter)\n",
      "  1. [Dataset Issues](#dataissue)"
     ]
    },
    {
     "cell_type": "markdown",
     "metadata": {},
     "source": [
      "**NOTE: Please view this page via [IPython Notebook Viewer Service](http://nbviewer.ipython.org/), otherwise the within-page links may not work properly.**\n",
      "<a id='dataset'></a>"
     ]
    },
    {
     "cell_type": "markdown",
     "metadata": {},
     "source": [
      "1. Dataset [&#8648;](#toc)\n",
      "-------------------\n",
      "###1.1 Simple Facts [&#8648;](#toc)\n",
      "\n",
      "The data used in this mini-project was selected from YFCC100M dataset, while [Melbourne's Geo-Coordinates is 37\u00b048\u203249\u2033S 144\u00b057\u203247\u2033E](https://en.wikipedia.org/wiki/Melbourne), data in a square, from (39.5S, 140.9E) to (35.5S, 148.5E) are used.\n",
      "\n",
      "The number of photos from the above range is 87,362, after picking 113 POIs manually, each photo was assigned to its nearest POI with distance between the two was less 0.2km as described in ijcai15 paper. Furthermore, POIs to which the number of assigned photos is less than 10 were discarded, two POIs were merged and replaced with their average geo-coordinates if their distance was less than 0.4km. Finally, each photo was assigned again, to its nearest POI with distance less 0.2km."
     ]
    },
    {
     "cell_type": "markdown",
     "metadata": {},
     "source": [
      "Some simple facts of Melbourne data as well as data of four other cities used in ijcai15 paper are summaried in the table below.\n",
      "\n",
      "<table>\n",
      "<tr>\n",
      "<td><b>City</b></td>\n",
      "<td><b>&Delta;Longtitude (degree)</b></td>\n",
      "<td><b>&Delta;Latitude (degree)</b></td>\n",
      "<td><b>#POIs</b></td>\n",
      "<td><b>#Users</b></td>\n",
      "<td><b>#POI_Visits</b></td>\n",
      "<td><b>#Travel_Sequences</b></td>\n",
      "<td><b>Min_Distance_between_POI (km)</b></td>\n",
      "<td><b>Max_Distance_between_POI (km)</b></td>\n",
      "</tr>\n",
      "<tr>\n",
      "<td>Edinburgh</td><td>0.25</td><td>0.08</td><td>28</td><td>1,454</td><td>33,944</td><td>5,028</td><td>0.088</td><td>16.354</td>\n",
      "</tr>\n",
      "<tr>\n",
      "<td>Toronto</td><td>0.28</td><td>0.20</td><td>29</td><td>1,395</td><td>39,419</td><td>6,057</td><td>0.147</td><td>29.655</td>\n",
      "</tr>\n",
      "<tr>\n",
      "<td>Glasgow</td><td>0.39</td><td>0.37</td><td>27</td><td>601</td><td>11,434</td><td>2,227</td><td>0.182</td><td>45.344</td>\n",
      "</tr>\n",
      "<tr>\n",
      "<td>Osaka</td><td>4.34</td><td>1.07</td><td>27</td><td>450</td><td>7,747</td><td>1,115</td><td>0.216</td><td>410.46</td>\n",
      "</tr>\n",
      "<tr>\n",
      "<td><b>Melbourne</b></td><td><b>5.55</b></td><td><b>2.32</b></td><td><b>66</b></td><td><b>717</b></td><td><b>12,966</b></td><td><b>3,459</b></td><td><b>0.441</b></td><td><b>461.26</b></td>\n",
      "</tr>\n",
      "</table>"
     ]
    },
    {
     "cell_type": "markdown",
     "metadata": {},
     "source": [
      "The distribution of sequence length for each city was shown below.\n",
      "\n",
      "<table>\n",
      "<tr>\n",
      "<td><b>City</b></td>\n",
      "<td><b>#Length 1</b></td>\n",
      "<td><b>#Length 2</b></td>\n",
      "<td><b>#Length 3</b></td>\n",
      "<td><b>#Length 4</b></td>\n",
      "<td><b>#Length 5</b></td>\n",
      "<td><b>#Length 6</b></td>\n",
      "<td><b>#Length 7</b></td>\n",
      "<td><b>#Length 8</b></td>\n",
      "<td><b>#Length 9</b></td>\n",
      "<td><b>#Length 10</b></td>\n",
      "<td><b>#Length 11</b></td>\n",
      "<td><b>#Length 12</b></td>\n",
      "<td><b>#Length 13</b></td>\n",
      "</tr>\n",
      "<tr><td>Edinburgh</td>\n",
      "<td>3616</td><td>778</td><td>300</td><td>146</td><td>76</td><td>48</td>\n",
      "<td>30</td><td>15</td><td>7</td><td>5</td><td><b>0</b></td><td>5</td><td>2</td>\n",
      "</tr>\n",
      "<tr><td>Toronto</td>\n",
      "<td>5080</td><td>642</td><td>216</td><td>60</td><td>33</td><td>9</td>\n",
      "<td>9</td><td>4</td><td>2</td><td>1</td><td><b>0</b></td><td><b>0</b></td><td>1</td>\n",
      "</tr>\n",
      "<tr><td>Glasgow</td>\n",
      "<td>1876</td><td>239</td><td>77</td><td>20</td><td>10</td><td>2</td><td>2</td><td>1</td>\n",
      "<td><b>0</b></td><td><b>0</b></td><td><b>0</b></td><td><b>0</b></td><td><b>0</b></td>\n",
      "</tr>\n",
      "<tr>\n",
      "<td>Osaka</td>\n",
      "<td>929</td><td>139</td><td>32</td><td>7</td><td>7</td><td>1</td><td><b>0</b></td><td><b>0</b></td>\n",
      "<td><b>0</b></td><td><b>0</b></td><td><b>0</b></td><td><b>0</b></td><td><b>0</b></td>\n",
      "</tr>\n",
      "<tr>\n",
      "<td><b>Melbourne</b></td>\n",
      "<td><b>3271</b></td><td><b>149</b></td><td><b>33 (18 with circles)</b></td><td><b>5 (3 with circles)</b></td>\n",
      "<td><b>0</b></td><td><b>0</b></td><td><b>0</b></td><td><b>0</b></td><td><b>1 (1 with circles)</b></td>\n",
      "<td><b>0</b></td><td><b>0</b></td><td><b>0</b></td><td><b>0</b></td>\n",
      "</tr>\n",
      "</table>\n",
      "\n",
      "<a id='scatter'></a>"
     ]
    },
    {
     "cell_type": "markdown",
     "metadata": {},
     "source": [
      "###1.2 Photo Scatter Plot [&#8648;](#toc)\n",
      "\n",
      "<a href=\"images/Edin_photo.png\" title=\"Edinburgh\"><img src=\"images/Edin_photo.png\" style=\"width:850px;position:relative;left:-100px\"></a>\n",
      "<a href=\"images/Glas_photo.png\" title=\"Glasgow\"><img src=\"images/Glas_photo.png\" style=\"width:850px;position:relative;left:-100px\"></a>\n",
      "<a href=\"images/Osak_photo.png\" title=\"Osaka\"><img src=\"images/Osak_photo.png\" style=\"width:850px;position:relative;left:-100px\"></a>\n",
      "<a href=\"images/Toro_photo.png\" title=\"Toronto\"><img src=\"images/Toro_photo.png\" style=\"width:850px;position:relative;left:-100px\"></a>\n",
      "<a href=\"images/Melb_photo.png\" title=\"Melbourne\"><img src=\"images/Melb_photo.png\" style=\"width:850px;position:relative;left:-100px\"></a>\n",
      "\n",
      "<a id='dataissue'></a>"
     ]
    },
    {
     "cell_type": "markdown",
     "metadata": {},
     "source": [
      "###1.3 Dataset Issues [&#8648;](#toc)\n",
      " * Picking POIs is a somewhat hard task\n",
      " * POIs picked manually according to photo scatter plot are much better than the results of k-means clustering, but still not good enough\n",
      " * Assign photo to a POI if their distance is less than 200m according to paper seems not to be a good idea, as\n",
      "  * if POI is something not large, e.g. buildings, 200m seems OK\n",
      "  * if POI is something large, e.g. natural park, 1-2km seems to be a reasonable distance\n",
      "  * but, we don't know the type of POI when assigning as picking POI and assigning photos are being done at the same time  "
     ]
    }
   ],
   "metadata": {}
  }
 ]
}