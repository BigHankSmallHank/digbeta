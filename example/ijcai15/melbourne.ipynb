{
 "metadata": {
  "name": "",
  "signature": "sha256:b59ac3349ebc67b7dc1c19aba9bf81869f8b2d099cc4ed0c59ac2fdc1f2dacaa"
 },
 "nbformat": 3,
 "nbformat_minor": 0,
 "worksheets": [
  {
   "cells": [
    {
     "cell_type": "markdown",
     "metadata": {},
     "source": [
      "Process Melbourne Data using Methods presented in IJCAI15 Paper\n",
      "=================="
     ]
    },
    {
     "cell_type": "markdown",
     "metadata": {},
     "source": [
      "<a id='toc'></a>\n",
      "1. [Dataset](#dataset)\n",
      "  * [Simple Facts](#dataset)\n",
      "  * [Photo Scatter Plot](#scatter)\n",
      "  * [Issues and Solutions](#issue)"
     ]
    },
    {
     "cell_type": "markdown",
     "metadata": {},
     "source": [
      "**NOTE: Please view this page via [IPython Notebook Viewer Service](http://nbviewer.ipython.org/), otherwise the within-page links may not work properly.**\n",
      "<a id='dataset'></a>"
     ]
    },
    {
     "cell_type": "markdown",
     "metadata": {},
     "source": [
      "1. Dataset [&#8648;](#toc)\n",
      "-------------------\n",
      "###1.1 Simple Facts [&#8648;](#toc)\n",
      "\n",
      "The data used in this mini-project was selected from YFCC100M dataset, while [Melbourne's Geo-Coordinates is 37\u00b048\u203249\u2033S 144\u00b057\u203247\u2033E](https://en.wikipedia.org/wiki/Melbourne), data in a square, from (39.5S, 140.9E) to (35.5S, 148.5E) are used.\n",
      "\n",
      "The number of photos from the above range is 87,362, after picking 113 POIs manually, each photo was assigned to its nearest POI with distance between the two was less 0.2km as described in ijcai15 paper. Furthermore, POIs to which the number of assigned photos is less than 10 were discarded, two POIs were merged and replaced with their average geo-coordinates if their distance was less than 0.4km. Finally, each photo was assigned again, to its nearest POI with distance less 0.2km."
     ]
    },
    {
     "cell_type": "markdown",
     "metadata": {},
     "source": [
      "Some simple facts of Melbourne data as well as data of four other cities used in ijcai15 paper are summaried in the table below.\n",
      "\n",
      "<table>\n",
      "<tr>\n",
      "<td><b>City</b></td>\n",
      "<td><b>&Delta;Longtitude (degree)</b></td>\n",
      "<td><b>&Delta;Latitude (degree)</b></td>\n",
      "<td><b>#POIs</b></td>\n",
      "<td><b>#Users</b></td>\n",
      "<td><b>#POI_Visits</b></td>\n",
      "<td><b>#Travel_Sequences</b></td>\n",
      "<td><b>Min_Distance_between_POI (km)</b></td>\n",
      "<td><b>Max_Distance_between_POI (km)</b></td>\n",
      "</tr>\n",
      "<tr>\n",
      "<td>Edinburgh</td><td>0.25</td><td>0.08</td><td>28</td><td>1,454</td><td>33,944</td><td>5,028</td><td>0.088</td><td>16.354</td>\n",
      "</tr>\n",
      "<tr>\n",
      "<td>Toronto</td><td>0.28</td><td>0.20</td><td>29</td><td>1,395</td><td>39,419</td><td>6,057</td><td>0.147</td><td>29.655</td>\n",
      "</tr>\n",
      "<tr>\n",
      "<td>Glasgow</td><td>0.39</td><td>0.37</td><td>27</td><td>601</td><td>11,434</td><td>2,227</td><td>0.182</td><td>45.344</td>\n",
      "</tr>\n",
      "<tr>\n",
      "<td>Osaka</td><td>4.34</td><td>1.07</td><td>27</td><td>450</td><td>7,747</td><td>1,115</td><td>0.216</td><td>410.46</td>\n",
      "</tr>\n",
      "<tr>\n",
      "<td><b>Melbourne</b></td><td><b>6.84</b></td><td><b>2.81</b></td><td><b>270</b></td><td><b>1,306</b></td><td><b>44,748</b></td><td><b>10,599</b></td><td><b>2.01</b></td><td><b>616.80</b></td>\n",
      "</tr>\n",
      "</table>"
     ]
    },
    {
     "cell_type": "markdown",
     "metadata": {},
     "source": [
      "The distribution of sequence length for each city was shown below.\n",
      "\n",
      "<table>\n",
      "<tr>\n",
      "<td><b>City</b></td>\n",
      "<td><b>#Length 1</b></td>\n",
      "<td><b>#Length 2</b></td>\n",
      "<td><b>#Length 3</b></td>\n",
      "<td><b>#Length 4</b></td>\n",
      "<td><b>#Length 5</b></td>\n",
      "<td><b>#Length 6</b></td>\n",
      "<td><b>#Length 7</b></td>\n",
      "<td><b>#Length 8</b></td>\n",
      "<td><b>#Length 9</b></td>\n",
      "<td><b>#Length 10</b></td>\n",
      "<td><b>#Length 11</b></td>\n",
      "<td><b>#Length 12</b></td>\n",
      "<td><b>#Length 13</b></td>\n",
      "</tr>\n",
      "<tr><td>Edinburgh</td>\n",
      "<td>3616</td><td>778</td><td>300</td><td>146</td><td>76</td><td>48</td>\n",
      "<td>30</td><td>15</td><td>7</td><td>5</td><td><b>0</b></td><td>5</td><td>2</td>\n",
      "</tr>\n",
      "<tr><td>Toronto</td>\n",
      "<td>5080</td><td>642</td><td>216</td><td>60</td><td>33</td><td>9</td>\n",
      "<td>9</td><td>4</td><td>2</td><td>1</td><td><b>0</b></td><td><b>0</b></td><td>1</td>\n",
      "</tr>\n",
      "<tr><td>Glasgow</td>\n",
      "<td>1876</td><td>239</td><td>77</td><td>20</td><td>10</td><td>2</td><td>2</td><td>1</td>\n",
      "<td><b>0</b></td><td><b>0</b></td><td><b>0</b></td><td><b>0</b></td><td><b>0</b></td>\n",
      "</tr>\n",
      "<tr>\n",
      "<td>Osaka</td>\n",
      "<td>929</td><td>139</td><td>32</td><td>7</td><td>7</td><td>1</td><td><b>0</b></td><td><b>0</b></td>\n",
      "<td><b>0</b></td><td><b>0</b></td><td><b>0</b></td><td><b>0</b></td><td><b>0</b></td>\n",
      "</tr>\n",
      "<tr>\n",
      "<td><b>Melbourne</b></td>\n",
      "<td><b>9817</b></td><td><b>672</b></td><td><b>81</b></td><td><b>22</b></td><td><b>4</b></td><td><b>2</b></td>\n",
      "<td><b>1</b></td><td><b>0</b></td><td><b>0</b></td><td><b>0</b></td><td><b>0</b></td><td><b>0</b></td><td><b>0</b></td>\n",
      "</tr>\n",
      "</table>\n",
      "\n",
      "<a id='scatter'></a>"
     ]
    },
    {
     "cell_type": "markdown",
     "metadata": {},
     "source": [
      "###1.2 Photo Scatter Plot [&#8648;](#toc)\n",
      "\n",
      "<a href=\"images/Edin_photo.png\" title=\"Edinburgh\"><img src=\"images/Edin_photo.png\" style=\"width:850px;position:relative;left:-100px\"></a>\n",
      "<a href=\"images/Glas_photo.png\" title=\"Glasgow\"><img src=\"images/Glas_photo.png\" style=\"width:850px;position:relative;left:-100px\"></a>\n",
      "<a href=\"images/Osak_photo.png\" title=\"Osaka\"><img src=\"images/Osak_photo.png\" style=\"width:850px;position:relative;left:-100px\"></a>\n",
      "<a href=\"images/Toro_photo.png\" title=\"Toronto\"><img src=\"images/Toro_photo.png\" style=\"width:850px;position:relative;left:-100px\"></a>\n",
      "<a href=\"images/Melb_photo.png\" title=\"Melbourne OLD\"><img src=\"images/Melb_photo.png\" style=\"width:850px;position:relative;left:-100px\"></a>\n",
      "<a href=\"images/Melb_photo2.png\" title=\"Melbourne NEW\"><img src=\"images/Melb_photo2.png\" style=\"width:850px;position:relative;left:-100px\"></a>\n",
      "\n",
      "<a id='issue'></a>"
     ]
    },
    {
     "cell_type": "markdown",
     "metadata": {},
     "source": [
      "###1.3 Issues &amp; Solutions [&#8648;](#toc)\n",
      "**Q:**\n",
      " * Picking POIs is a somewhat hard task\n",
      " * POIs picked manually according to photo scatter plot are much better than the results of k-means clustering/kernel density estimation, but still not good enough\n",
      "\n",
      "**A:**\n",
      " * With the help of [OpenStreeMap](http://www.openstreetmap.org/) and [NationalMap](http://www.nationalmap.gov.au/)/[Google Maps](https://www.google.com.au), it is much easier to select and visualize POIs\n",
      "  1. download OpenStreetMap data from one of these [mirrors](http://wiki.openstreetmap.org/wiki/Planet.osm), clipping and filtering using [these tools](http://wiki.openstreetmap.org/wiki/OSM_file_formats) or this [python library](http://imposm.org/docs/imposm.parser/latest/)\n",
      "  1. a list of tags are available [here](http://wiki.openstreetmap.org/wiki/Map_Features), tags used in this dataset are listed below\n",
      "  \n",
      "  <table>\n",
      "  <tr><td><b>key</b></td><td><b>values</b></td></tr>\n",
      "  <tr><td>```amenity```</td><td>```college, library, school, university, arts_centre, cinema, fountain, planetarium, theatre, clock, place_of_worship, ranger_station, townhall```</td></tr>\n",
      "  <tr><td>```building```</td><td>```farm, cathedral, chapel, church, mosque, temple, synagogue, shrine, school, stadium, university, bridge```</td></tr>\n",
      "  <tr><td>```geological```</td><td>```_ALL_```(indicating all values)</td></tr>\n",
      "  <tr><td>```historic```</td><td>```_ALL_``` (indicating all values)</td></tr>\n",
      "  <tr><td>```leisure```</td><td>```garden, nature_reserve, park, pitch, sports_centre, stadium, swimming_area, track, wildlife_hide```</td></tr>\n",
      "  <tr><td>```man_made```</td><td>```beacon, breakwater, bridge, communications_tower, embankment, dyke, groyne, lighthouse, pier, tower, windmill```</td></tr>\n",
      "  <tr><td>```natural```</td><td>```_ALL_``` (indicating all values)</td></tr>\n",
      "  <tr><td>```tourism```</td><td>```attraction, artwork, gallery, museum, picnic_site, theme_park, viewpoint, zoo```</td></tr>\n",
      "  <tr><td>```waterway```</td><td>```river, riverbank, stream, dam, weir, waterfall```</td></tr>\n",
      "  </table>\n",
      "  \n",
      "  * filtering the list of POIs further, such as POIs too close, POIs with too few photos etc.\n",
      "  * classify/label each POI with assistance of online maps and its original tag\n",
      "   * both NationalMap and GoogleMaps support headers in the first line, specify longitude and latitude in the first line when using NationalMap\n",
      "   * Images from GoogleMaps are better while NationalMap does not restrict the number of marks (GoogleMaps restrict <= 2000 marks each layer), marks on NationalMap will float around sometimes\n",
      "\n",
      "**Q:**\n",
      " * Assign photo to a POI if their distance is less than 200m according to paper seems not to be a good idea, as\n",
      "  * if POI is something not large, e.g. buildings, 200m seems OK\n",
      "  * if POI is something large, e.g. natural park, 1-2km seems to be a reasonable distance\n",
      "  * but, we don't know the type of POI when assigning as picking POI and assigning photos are being done at the same time\n",
      "\n",
      "**A:**\n",
      " * Assign a photo to the nearest POI if the distance between the two is less than, say 500m \n",
      " "
     ]
    }
   ],
   "metadata": {}
  }
 ]
}