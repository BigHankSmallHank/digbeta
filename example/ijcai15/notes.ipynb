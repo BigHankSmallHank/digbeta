{
 "metadata": {
  "name": "",
  "signature": "sha256:7ced52637747af7f6275dc6f1775eb375f8ae7351a33a79c8a1280a84ce59066"
 },
 "nbformat": 3,
 "nbformat_minor": 0,
 "worksheets": [
  {
   "cells": [
    {
     "cell_type": "markdown",
     "metadata": {},
     "source": [
      "Reproduce the Results of the IJCAI'15 Paper\n",
      "==========================================="
     ]
    },
    {
     "cell_type": "markdown",
     "metadata": {},
     "source": [
      "<a id='toc'></a>\n",
      "1. [Dataset](#dataset)\n",
      "1. [POI Geo-coordinates](#poi-coord)\n",
      "1. [Recommend Itinerary](#recommendation)\n",
      "1. [Issues](#issue)\n",
      "1. [Results](#result)\n",
      " * [Histogram: POI Popularity](#result1)\n",
      " * [Histogram: Time-based User Interest](#result2)\n",
      " * [Histogram: Frequency-based User Interest](#result3)\n",
      " * [Precision, Recall and F1-score](#result4)\n"
     ]
    },
    {
     "cell_type": "markdown",
     "metadata": {},
     "source": [
      "**NOTE: Please view this page via [IPython Notebook Viewer Service](http://nbviewer.ipython.org/), otherwise the within-page links may not work properly.**\n",
      "<a id='dataset'></a>"
     ]
    },
    {
     "cell_type": "markdown",
     "metadata": {},
     "source": [
      "1. Dataset [^](#toc)\n",
      "-------------------\n",
      "The dataset used in this paper can be downloaded [here](https://sites.google.com/site/limkwanhui/datacode#ijcai15).\n",
      "It also gives some description and statistics of this dataset.\n",
      "However, one critical portion of information is missing in this dataset, i.e. the geo-location of each Points of Interest(POI),\n",
      "which makes it impossible to calculate the travel time from one POI to another unless the longitude and latitude of each POI is provided by other means.\n",
      "\n",
      "Fortunately, this info could be retrived from the original YFCC100M dataset by search the individual photoID which is included in this dataset. The YFCC100M dataset could be downloaded from [here](http://www.referitgame.com/vicente/flickr100M/) easily (but with patience)."
     ]
    },
    {
     "cell_type": "markdown",
     "metadata": {},
     "source": [
      "<a id='poi-coord'></a>"
     ]
    },
    {
     "cell_type": "markdown",
     "metadata": {},
     "source": [
      "2. POI Geo-coordinates [^](#toc)\n",
      "----------------------------------------\n",
      "For each photo used in this paper, its POI ID is available in the [dataset](https://sites.google.com/site/limkwanhui/datacode#ijcai15), thus, the longitude and latitude of each POI could be approximated by the mean value of all the corresponding photos' coordinates which could be retrived from the YFCC100M dataset.\n",
      "\n",
      "To accelerate the searching process, first extract the photo id, longitude and latitude columns from the whole dataset"
     ]
    },
    {
     "cell_type": "code",
     "collapsed": false,
     "input": [
      "cut -d $'\\t' -f1,11,12 yfcc100m_dataset >> dataset.yfcc"
     ],
     "language": "python",
     "metadata": {},
     "outputs": []
    },
    {
     "cell_type": "markdown",
     "metadata": {},
     "source": [
      "then search the coordinates by grepping photo id"
     ]
    },
    {
     "cell_type": "code",
     "collapsed": false,
     "input": [
      "cut -d ';' -f 1,4 uservisit.txt |while read line\n",
      "do\n",
      "    photoid=`echo \"$line\" |cut -d ';' -f 1`\n",
      "    result=`grep -P \"^$photoid\\t\" dataset.yfcc`\n",
      "    if [ ! -z \"$result\" ]; then\n",
      "        coords=`echo \"$result\" |sed 's/\\t/:/g'`\n",
      "        echo \"$coords\" >> poi.coords\n",
      "    fi  \n",
      "done"
     ],
     "language": "python",
     "metadata": {},
     "outputs": []
    },
    {
     "cell_type": "markdown",
     "metadata": {},
     "source": [
      "For further accelertion, one could import YFCC100M dataset to a database, though very time-consuming, then search by photo id.\n",
      "The SQL statements for create a database and a table for the dataset looks like"
     ]
    },
    {
     "cell_type": "code",
     "collapsed": false,
     "input": [
      "CREATE DATABASE yfcc100m;\n",
      "CREATE TABLE yfcc100m.tdata(\n",
      "    pv_id           BIGINT UNSIGNED NOT NULL UNIQUE PRIMARY KEY, /* Photo/video identifier */\n",
      "    longitude       FLOAT,  /* Longitude */\n",
      "    latitude        FLOAT   /* Latitude */\n",
      ");\n",
      "COMMIT;"
     ],
     "language": "python",
     "metadata": {},
     "outputs": []
    },
    {
     "cell_type": "markdown",
     "metadata": {},
     "source": [
      "and Python code for importing dataset"
     ]
    },
    {
     "cell_type": "code",
     "collapsed": false,
     "input": [
      "import mysql.connector as db\n",
      "\n",
      "def import_data(fname):\n",
      "    \"\"\"Import data records from file\"\"\"\n",
      "    dbconnection = db.connect(user='USERNAME', password='PASSWORD')\n",
      "    cursor = dbconnection.cursor()\n",
      "    with open(fname, 'r') as f:\n",
      "        for line in f:\n",
      "            items = line.split('\\t')\n",
      "            assert(len(items) == 3)\n",
      "            pv_id     = items[0]\n",
      "            longitude = items[1]\n",
      "            latitude  = items[2]\n",
      "            if len(longitude.strip()) == 0 or len(latitude.strip()) == 0:\n",
      "                continue\n",
      "            sqlstr = 'INSERT INTO yfcc100m.tdata VALUES (' + pv_id + ', ' + longitude.strip() + ', ' + latitude.strip() + ')' \n",
      "            try:\n",
      "                cursor.execute(sqlstr)\n",
      "            except db.Error as error:\n",
      "                print('ERROR: {}'.format(error))\n",
      "    dbconnection.commit()\n",
      "    dbconnection.close()"
     ],
     "language": "python",
     "metadata": {},
     "outputs": []
    },
    {
     "cell_type": "markdown",
     "metadata": {},
     "source": [
      "Then, searching the coordinates of each photo is very easy and fast"
     ]
    },
    {
     "cell_type": "code",
     "collapsed": false,
     "input": [
      "import mysql.connector as db\n",
      "\n",
      "def search_coords(fin, fout):\n",
      "    \"\"\"Search Longitude and Latitude for each geo-tagged photo\"\"\"\n",
      "    dbconnection = db.connect(user='USERNAME', password='PASSWORD', database='yfcc100m')\n",
      "    cursor = dbconnection.cursor()\n",
      "    records = []\n",
      "    with open(fin, 'r') as f:\n",
      "        for line in f:\n",
      "            items = line.split(';')\n",
      "            assert len(items) == 7\n",
      "            photoID = items[0]\n",
      "            poiID   = items[3]\n",
      "            sqlstr = \"SELECT ROUND(longitude, 6), ROUND(latitude, 6) FROM tdata WHERE pv_id = \" + photoID\n",
      "            cursor.execute(sqlstr)\n",
      "            for longitude, latitude in cursor:\n",
      "                records.append(poiID + ':' + photoID + ':' + str(longitude) + ':' + str(latitude))\n",
      "    dbconnection.commit()\n",
      "    dbconnection.close()\n",
      "    with open(fout, 'w') as f:\n",
      "        for line in records:\n",
      "            f.write(line + '\\n')"
     ],
     "language": "python",
     "metadata": {},
     "outputs": []
    },
    {
     "cell_type": "markdown",
     "metadata": {},
     "source": [
      "<a id='recommendation'></a>"
     ]
    },
    {
     "cell_type": "markdown",
     "metadata": {},
     "source": [
      "3. Recommend Itinerary [^](#toc)\n",
      "----------------------\n",
      "The paper formulates an Integer Linear Programming(ILP) to recommend an itinerary given a set of POIs, a budget, a source and destination POI, it maximize an objective function which combines travelling time with personalized visit durations.\n",
      "\n",
      "[PuLP](https://github.com/coin-or/pulp) from the [COIN-OR](http://www.coin-or.org/) project is a useful Python library for modeling linear and integer programs, many LP solvers such as [GLPK](http://www.gnu.org/software/glpk/), [CBC](https://projects.coin-or.org/Cbc), [CPLEX](http://www.ibm.com/software/commerce/optimization/cplex-optimizer/) and [Gurobi](http://www.gurobi.com) can be called to solve the model.\n",
      "Its comprehensive documentation is available [here](https://pythonhosted.org/PuLP/index.html).The formulation details can be found in the [MIP_recommend()](https://github.com/cdawei/digbeta/blob/master/example/ijcai15/ijcai15.py) method."
     ]
    },
    {
     "cell_type": "markdown",
     "metadata": {},
     "source": [
      "<a id='issue'></a>"
     ]
    },
    {
     "cell_type": "markdown",
     "metadata": {},
     "source": [
      "4. Issues [^](#toc)\n",
      "---------\n",
      "1. Is it necessary to consider visiting a certain POI more than one times? This paper ignores this setting.\n",
      "\n",
      "1. Dealing with edge case $\\bar{V}(p) = 0$\n",
      " \n",
      " It appears when POIs at which just one photo was taken for each visited user (including some user just took/uploaded two or more photos with the same timestamp), the case does appear in this [dataset](https://sites.google.com/site/limkwanhui/datacode#ijcai15).\n",
      "\n",
      " For all users $U$, POI $p$, arrival time $p^a$ and depature time $p^d$, The Average POI Visit Duration is defined as: \n",
      "$\\bar{V}(p) = \\frac{1}{n}\\sum_{u \\in U}\\sum_{p_x \\in S_u}(t_{p_x}^d - t_{p_x}^a)\\delta(p_x = p), \\forall p \\in P$\n",
      "\n",
      " and Time-based User Interest is defined as:\n",
      "$Int_u^Time(c) = \\sum_{p_x \\in S_u} \\frac{t_{p_x}^d - t_{p_x}^a}{\\bar{V}(p_x)} \\delta(Cat_{p_x} = c), \\forall c \\in C$\n",
      "\n",
      " Up to now, two strategies have been tried:\n",
      "  * let the term $\\frac{t_{p_x}^d - t_{p_x}^a}{\\bar{V}(p_x)} = K$, where $K$ is a constant (e.g. 2). This approach seems to work, but the effects of different constants should be tested\n",
      "  * discard all photo records in [dataset](https://sites.google.com/site/limkwanhui/datacode#ijcai15) related to the edge case. This approach suffers from throwing too much information, makes the useful dataset too small (at about 1% of the original dataset sometimes)\n",
      "\n",
      "1. [CBC](https://projects.coin-or.org/Cbc) is still too slow for large sequences (length >= 4)\n",
      " * use [Gurobi](http://www.gurobi.com) on CECS servers"
     ]
    },
    {
     "cell_type": "markdown",
     "metadata": {},
     "source": [
      "<a id='result'></a>"
     ]
    },
    {
     "cell_type": "markdown",
     "metadata": {},
     "source": [
      "5. Results [^](#toc)\n",
      "----------\n",
      "<a id='result1'></a>"
     ]
    },
    {
     "cell_type": "markdown",
     "metadata": {},
     "source": [
      "###5.1 Histograms of POI popularity: Edinburgh, Glasgow, Osaka and Toronto [^](#toc)\n",
      "<a href=\"images/Edin_poi_pop.png\" title=\"Edinburgh\"><img src=\"images/Edin_poi_pop.png\" style=\"width:650px;position:relative;left:-100px\"></a>\n",
      "<a href=\"images/Glas_poi_pop.png\" title=\"Glasgow\"><img src=\"images/Glas_poi_pop.png\" style=\"width:650px;position:relative;left:-100px\"></a>\n",
      "<a href=\"images/Osak_poi_pop.png\" title=\"Osaka\"><img src=\"images/Osak_poi_pop.png\" style=\"width:650px;position:relative;left:-100px\"></a>\n",
      "<a href=\"images/Toro_poi_pop.png\" title=\"Toronto\"><img src=\"images/Toro_poi_pop.png\" style=\"width:650px;position:relative;left:-100px\"></a>\n",
      "<a id='result2'></a>"
     ]
    },
    {
     "cell_type": "markdown",
     "metadata": {},
     "source": [
      "###5.2 Histograms of time-based user interest: Edinburgh, Glasgow, Osaka and Toronto [^](#toc)\n",
      "<a href=\"images/Edin_time_usr_interest.png\" title=\"Edinburgh\"><img src=\"images/Edin_time_usr_interest.png\" style=\"width:650px;position:relative;left:-100px\"></a>\n",
      "<a href=\"images/Glas_time_usr_interest.png\" title=\"Glasgow\"><img src=\"images/Glas_time_usr_interest.png\" style=\"width:650px;position:relative;left:-100px\"></a>\n",
      "<a href=\"images/Osak_time_usr_interest.png\" title=\"Osaka\"><img src=\"images/Osak_time_usr_interest.png\" style=\"width:650px;position:relative;left:-100px\"></a>\n",
      "<a href=\"images/Toro_time_usr_interest.png\" title=\"Toronto\"><img src=\"images/Toro_time_usr_interest.png\" style=\"width:650px;position:relative;left:-100px\"></a>\n",
      "<a id='result3'></a>"
     ]
    },
    {
     "cell_type": "markdown",
     "metadata": {},
     "source": [
      "###5.3 Histograms of frequency-based user interest: Edinburgh, Glasgow, Osaka and Toronto [^](#toc)\n",
      "<a href=\"images/Edin_freq_usr_interest.png\" title=\"Edinburgh\"><img src=\"images/Edin_freq_usr_interest.png\" style=\"width:650px;position:relative;left:-100px\"></a>\n",
      "<a href=\"images/Glas_freq_usr_interest.png\" title=\"Glasgow\"><img src=\"images/Glas_freq_usr_interest.png\" style=\"width:650px;position:relative;left:-100px\"></a>\n",
      "<a href=\"images/Osak_freq_usr_interest.png\" title=\"Osaka\"><img src=\"images/Osak_freq_usr_interest.png\" style=\"width:650px;position:relative;left:-100px\"></a>\n",
      "<a href=\"images/Toro_freq_usr_interest.png\" title=\"Toronto\"><img src=\"images/Toro_freq_usr_interest.png\" style=\"width:650px;position:relative;left:-100px\"></a>\n",
      "<a id='result4'></a>"
     ]
    },
    {
     "cell_type": "markdown",
     "metadata": {},
     "source": [
      "###5.4 Precision, Recall and F1-score [^](#toc)\n",
      "**Setting: Toronto, $\\eta$=0.5 with time-based user interest**\n",
      "and 59/335 &asymp; 17.6% solutions are suboptimal\n",
      "<table>\n",
      "<tr><td></td><td><b>Recall</b></td><td><b>Precision</b></td><td><b>F1-score</b></td></tr>\n",
      "<tr><td><b>Paper</b></td><td>0.779&plusmn;0.010</td><td>0.706&plusmn;0.013</td><td>0.732&plusmn;0.012</td></tr>\n",
      "<tr><td><b>Reproduce</b></td><td>0.691&plusmn;0.157</td><td>0.693&plusmn;0.159</td><td>0.691&plusmn;0.158</td></tr>\n",
      "</table>"
     ]
    }
   ],
   "metadata": {}
  }
 ]
}