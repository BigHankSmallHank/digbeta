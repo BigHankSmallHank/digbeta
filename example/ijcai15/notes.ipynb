{
 "metadata": {
  "name": "",
  "signature": "sha256:a4956501671a32ed9a37940627ae4d807a0941bf070b0e5b37cb528f31ad8389"
 },
 "nbformat": 3,
 "nbformat_minor": 0,
 "worksheets": [
  {
   "cells": [
    {
     "cell_type": "markdown",
     "metadata": {},
     "source": [
      "Reproduce the Results of the IJCAI'15 Paper\n",
      "===========================================\n",
      "\n",
      "1. Download Dataset\n",
      "-------------------\n",
      "The dataset used in this paper can be downloaded [here](https://sites.google.com/site/limkwanhui/datacode#ijcai15).\n",
      "The [webpage](https://sites.google.com/site/limkwanhui/datacode#ijcai15) also states some description and statistics of this dataset.\n",
      "However, one critical portion of information is missing in this dataset, i.e. the geo-location of each Points of Interest(POI),\n",
      "which makes it impossible to calculate the travel time from one POI to another unless the longitude and latitude of each POI is  \n",
      "provided by other means. Fortunately, this info could be retrived from the original YFCC100M dataset by search the individual photoID\n",
      "which is included in this dataset. The YFCC100M dataset could be downloaded from [here](http://www.referitgame.com/vicente/flickr100M/) \n",
      "easily (but with patience).\n",
      "\n",
      "\n",
      "2. Retrive the geo-location for each POI \n",
      "----------------------------------------\n",
      "For each photo used in this paper, its coordinate is available from the YFCC100M dataset.\n",
      "To calculate the longitude and latitude of each POI, could be approximated by the mean value of all coordinates of photos taking there"
     ]
    },
    {
     "cell_type": "code",
     "collapsed": false,
     "input": [],
     "language": "python",
     "metadata": {},
     "outputs": []
    }
   ],
   "metadata": {}
  }
 ]
}