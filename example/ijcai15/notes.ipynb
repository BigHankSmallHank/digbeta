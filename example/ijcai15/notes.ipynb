{
 "metadata": {
  "name": "",
  "signature": "sha256:cf96ba79187ded32eedf8d51df5a1443c37cca9313579400d69db4f47107fe0a"
 },
 "nbformat": 3,
 "nbformat_minor": 0,
 "worksheets": [
  {
   "cells": [
    {
     "cell_type": "markdown",
     "metadata": {},
     "source": [
      "Reproduce the Results of the IJCAI'15 Paper\n",
      "===========================================\n",
      "\n",
      "1. Download Dataset\n",
      "-------------------\n",
      "The dataset used in this paper can be downloaded [here](https://sites.google.com/site/limkwanhui/datacode#ijcai15).\n",
      "It also gives some description and statistics of this dataset.\n",
      "However, one critical portion of information is missing in this dataset, i.e. the geo-location of each Points of Interest(POI),\n",
      "which makes it impossible to calculate the travel time from one POI to another unless the longitude and latitude of each POI is \n",
      "provided by other means. Fortunately, this info could be retrived from the original YFCC100M dataset by search the individual photoID which is included in this dataset. The YFCC100M dataset could be downloaded from [here](http://www.referitgame.com/vicente/flickr100M/) easily (but with patience).\n",
      "\n",
      "\n",
      "2. Retrive the geo-location for each POI \n",
      "----------------------------------------\n",
      "For each photo used in this paper, its POI ID is available in the [dataset](https://sites.google.com/site/limkwanhui/datacode#ijcai15), thus, the longitude and latitude of each POI could be approximated by the mean value of all the corresponding photos' coordinates which could be retrived from the YFCC100M dataset.\n",
      "\n",
      "To accelerate the searching process, first extract the photo id, longitude and latitude columns from the whole dataset"
     ]
    },
    {
     "cell_type": "code",
     "collapsed": false,
     "input": [
      "cut -d $'\\t' -f1,11,12 yfcc100m_dataset >> dataset.yfcc"
     ],
     "language": "python",
     "metadata": {},
     "outputs": []
    },
    {
     "cell_type": "markdown",
     "metadata": {},
     "source": [
      "then search the coordinates by grepping photo id"
     ]
    },
    {
     "cell_type": "code",
     "collapsed": false,
     "input": [
      "cut -d ';' -f 1,4 uservisit.txt |while read line\n",
      "do\n",
      "    photoid=`echo \"$line\" |cut -d ';' -f 1`\n",
      "    result=`grep -P \"^$photoid\\t\" dataset.yfcc`\n",
      "    if [ ! -z \"$result\" ]; then\n",
      "        coords=`echo \"$result\" |sed 's/\\t/:/g'`\n",
      "        echo \"$coords\" >> poi.coords\n",
      "    fi  \n",
      "done"
     ],
     "language": "python",
     "metadata": {},
     "outputs": []
    },
    {
     "cell_type": "markdown",
     "metadata": {},
     "source": [
      "For further accelertion, one could import YFCC100M dataset to a database, though very time-consuming, then search by photo id.\n",
      "The SQL statements for create a database and a table for the dataset looks like"
     ]
    },
    {
     "cell_type": "code",
     "collapsed": false,
     "input": [
      "CREATE DATABASE yfcc100m;\n",
      "CREATE TABLE yfcc100m.tdata(\n",
      "    pv_id           BIGINT UNSIGNED NOT NULL UNIQUE PRIMARY KEY, /* Photo/video identifier */\n",
      "    longitude       FLOAT,  /* Longitude */\n",
      "    latitude        FLOAT   /* Latitude */\n",
      ");\n",
      "COMMIT;"
     ],
     "language": "python",
     "metadata": {},
     "outputs": []
    },
    {
     "cell_type": "markdown",
     "metadata": {},
     "source": [
      "and Python code for importing dataset"
     ]
    },
    {
     "cell_type": "code",
     "collapsed": false,
     "input": [
      "import mysql.connector as db\n",
      "\n",
      "def import_data(fname):\n",
      "    \"\"\"Import data records from file\"\"\"\n",
      "    dbconnection = db.connect(user='USERNAME', password='PASSWORD')\n",
      "    cursor = dbconnection.cursor()\n",
      "    with open(fname, 'r') as f:\n",
      "        for line in f:\n",
      "            items = line.split('\\t')\n",
      "            assert(len(items) == 3)\n",
      "            pv_id     = items[0]\n",
      "            longitude = items[1]\n",
      "            latitude  = items[2]\n",
      "            if len(longitude.strip()) == 0 or len(latitude.strip()) == 0:\n",
      "                continue\n",
      "            sqlstr = 'INSERT INTO yfcc100m.tdata VALUES (' + pv_id + ', ' + longitude.strip() + ', ' + latitude.strip() + ')' \n",
      "            try:\n",
      "                cursor.execute(sqlstr)\n",
      "            except db.Error as error:\n",
      "                print('ERROR: {}'.format(error))\n",
      "    dbconnection.commit()\n",
      "    dbconnection.close()"
     ],
     "language": "python",
     "metadata": {},
     "outputs": []
    }
   ],
   "metadata": {}
  }
 ]
}