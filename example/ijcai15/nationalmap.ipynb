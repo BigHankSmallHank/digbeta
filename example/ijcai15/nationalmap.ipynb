{
 "cells": [
  {
   "cell_type": "markdown",
   "metadata": {},
   "source": [
    "# Visualise Flickr and OpenStreetMap data on National Map"
   ]
  },
  {
   "cell_type": "code",
   "execution_count": 4,
   "metadata": {
    "collapsed": true
   },
   "outputs": [],
   "source": [
    "import pandas as pd"
   ]
  },
  {
   "cell_type": "code",
   "execution_count": 21,
   "metadata": {
    "collapsed": false
   },
   "outputs": [],
   "source": [
    "flickr = pd.read_csv('photo.list', header=None)\n",
    "poi = pd.read_csv('poi.list', header=None)"
   ]
  },
  {
   "cell_type": "code",
   "execution_count": 12,
   "metadata": {
    "collapsed": false
   },
   "outputs": [
    {
     "data": {
      "text/html": [
       "<div>\n",
       "<table border=\"1\" class=\"dataframe\">\n",
       "  <thead>\n",
       "    <tr style=\"text-align: right;\">\n",
       "      <th></th>\n",
       "      <th>0</th>\n",
       "      <th>1</th>\n",
       "      <th>2</th>\n",
       "      <th>3</th>\n",
       "      <th>4</th>\n",
       "    </tr>\n",
       "  </thead>\n",
       "  <tbody>\n",
       "    <tr>\n",
       "      <th>0</th>\n",
       "      <td>361290</td>\n",
       "      <td>49503193552@N01</td>\n",
       "      <td>1094528249</td>\n",
       "      <td>144.990788</td>\n",
       "      <td>-37.823874</td>\n",
       "    </tr>\n",
       "    <tr>\n",
       "      <th>1</th>\n",
       "      <td>429494</td>\n",
       "      <td>56685562@N00</td>\n",
       "      <td>1095051416</td>\n",
       "      <td>144.967147</td>\n",
       "      <td>-37.817531</td>\n",
       "    </tr>\n",
       "    <tr>\n",
       "      <th>2</th>\n",
       "      <td>835663</td>\n",
       "      <td>36521966482@N01</td>\n",
       "      <td>1093758183</td>\n",
       "      <td>144.968355</td>\n",
       "      <td>-37.817838</td>\n",
       "    </tr>\n",
       "    <tr>\n",
       "      <th>3</th>\n",
       "      <td>835669</td>\n",
       "      <td>36521966482@N01</td>\n",
       "      <td>1093754825</td>\n",
       "      <td>144.958334</td>\n",
       "      <td>-37.821121</td>\n",
       "    </tr>\n",
       "    <tr>\n",
       "      <th>4</th>\n",
       "      <td>930089</td>\n",
       "      <td>36521966482@N01</td>\n",
       "      <td>1093767449</td>\n",
       "      <td>144.967625</td>\n",
       "      <td>-37.818182</td>\n",
       "    </tr>\n",
       "  </tbody>\n",
       "</table>\n",
       "</div>"
      ],
      "text/plain": [
       "        0                1           2           3          4\n",
       "0  361290  49503193552@N01  1094528249  144.990788 -37.823874\n",
       "1  429494     56685562@N00  1095051416  144.967147 -37.817531\n",
       "2  835663  36521966482@N01  1093758183  144.968355 -37.817838\n",
       "3  835669  36521966482@N01  1093754825  144.958334 -37.821121\n",
       "4  930089  36521966482@N01  1093767449  144.967625 -37.818182"
      ]
     },
     "execution_count": 12,
     "metadata": {},
     "output_type": "execute_result"
    }
   ],
   "source": [
    "flickr.head()"
   ]
  },
  {
   "cell_type": "code",
   "execution_count": 15,
   "metadata": {
    "collapsed": false
   },
   "outputs": [],
   "source": [
    "flickr_nm = flickr[[3,4,1]]\n",
    "flickr_nm.columns = ['longitude', 'latitude', 'user']"
   ]
  },
  {
   "cell_type": "code",
   "execution_count": 16,
   "metadata": {
    "collapsed": false
   },
   "outputs": [
    {
     "data": {
      "text/html": [
       "<div>\n",
       "<table border=\"1\" class=\"dataframe\">\n",
       "  <thead>\n",
       "    <tr style=\"text-align: right;\">\n",
       "      <th></th>\n",
       "      <th>longitude</th>\n",
       "      <th>latitude</th>\n",
       "      <th>user</th>\n",
       "    </tr>\n",
       "  </thead>\n",
       "  <tbody>\n",
       "    <tr>\n",
       "      <th>0</th>\n",
       "      <td>144.990788</td>\n",
       "      <td>-37.823874</td>\n",
       "      <td>49503193552@N01</td>\n",
       "    </tr>\n",
       "    <tr>\n",
       "      <th>1</th>\n",
       "      <td>144.967147</td>\n",
       "      <td>-37.817531</td>\n",
       "      <td>56685562@N00</td>\n",
       "    </tr>\n",
       "    <tr>\n",
       "      <th>2</th>\n",
       "      <td>144.968355</td>\n",
       "      <td>-37.817838</td>\n",
       "      <td>36521966482@N01</td>\n",
       "    </tr>\n",
       "    <tr>\n",
       "      <th>3</th>\n",
       "      <td>144.958334</td>\n",
       "      <td>-37.821121</td>\n",
       "      <td>36521966482@N01</td>\n",
       "    </tr>\n",
       "    <tr>\n",
       "      <th>4</th>\n",
       "      <td>144.967625</td>\n",
       "      <td>-37.818182</td>\n",
       "      <td>36521966482@N01</td>\n",
       "    </tr>\n",
       "  </tbody>\n",
       "</table>\n",
       "</div>"
      ],
      "text/plain": [
       "    longitude   latitude             user\n",
       "0  144.990788 -37.823874  49503193552@N01\n",
       "1  144.967147 -37.817531     56685562@N00\n",
       "2  144.968355 -37.817838  36521966482@N01\n",
       "3  144.958334 -37.821121  36521966482@N01\n",
       "4  144.967625 -37.818182  36521966482@N01"
      ]
     },
     "execution_count": 16,
     "metadata": {},
     "output_type": "execute_result"
    }
   ],
   "source": [
    "flickr_nm.head()"
   ]
  },
  {
   "cell_type": "code",
   "execution_count": 18,
   "metadata": {
    "collapsed": true
   },
   "outputs": [],
   "source": [
    "flickr_nm.to_csv('flickr.csv', index=False)"
   ]
  },
  {
   "cell_type": "code",
   "execution_count": 22,
   "metadata": {
    "collapsed": false
   },
   "outputs": [
    {
     "data": {
      "text/html": [
       "<div>\n",
       "<table border=\"1\" class=\"dataframe\">\n",
       "  <thead>\n",
       "    <tr style=\"text-align: right;\">\n",
       "      <th></th>\n",
       "      <th>0</th>\n",
       "      <th>1</th>\n",
       "      <th>2</th>\n",
       "    </tr>\n",
       "  </thead>\n",
       "  <tbody>\n",
       "    <tr>\n",
       "      <th>0</th>\n",
       "      <td>145.240752</td>\n",
       "      <td>-37.869372</td>\n",
       "      <td>Shopping</td>\n",
       "    </tr>\n",
       "    <tr>\n",
       "      <th>1</th>\n",
       "      <td>145.232902</td>\n",
       "      <td>-37.847676</td>\n",
       "      <td>Shopping</td>\n",
       "    </tr>\n",
       "    <tr>\n",
       "      <th>2</th>\n",
       "      <td>145.193971</td>\n",
       "      <td>-37.894628</td>\n",
       "      <td>Leisure</td>\n",
       "    </tr>\n",
       "    <tr>\n",
       "      <th>3</th>\n",
       "      <td>144.733443</td>\n",
       "      <td>-37.277277</td>\n",
       "      <td>Cultural</td>\n",
       "    </tr>\n",
       "    <tr>\n",
       "      <th>4</th>\n",
       "      <td>145.370272</td>\n",
       "      <td>-37.887377</td>\n",
       "      <td>Park</td>\n",
       "    </tr>\n",
       "  </tbody>\n",
       "</table>\n",
       "</div>"
      ],
      "text/plain": [
       "            0          1         2\n",
       "0  145.240752 -37.869372  Shopping\n",
       "1  145.232902 -37.847676  Shopping\n",
       "2  145.193971 -37.894628   Leisure\n",
       "3  144.733443 -37.277277  Cultural\n",
       "4  145.370272 -37.887377      Park"
      ]
     },
     "execution_count": 22,
     "metadata": {},
     "output_type": "execute_result"
    }
   ],
   "source": [
    "poi.head()"
   ]
  },
  {
   "cell_type": "code",
   "execution_count": 23,
   "metadata": {
    "collapsed": true
   },
   "outputs": [],
   "source": [
    "poi.columns = ['longitude', 'latitude', 'type']\n",
    "poi.to_csv('osm.csv', index=False)"
   ]
  },
  {
   "cell_type": "code",
   "execution_count": null,
   "metadata": {
    "collapsed": true
   },
   "outputs": [],
   "source": []
  }
 ],
 "metadata": {
  "kernelspec": {
   "display_name": "Python 3",
   "language": "python",
   "name": "python3"
  },
  "language_info": {
   "codemirror_mode": {
    "name": "ipython",
    "version": 3
   },
   "file_extension": ".py",
   "mimetype": "text/x-python",
   "name": "python",
   "nbconvert_exporter": "python",
   "pygments_lexer": "ipython3",
   "version": "3.4.3"
  }
 },
 "nbformat": 4,
 "nbformat_minor": 0
}
