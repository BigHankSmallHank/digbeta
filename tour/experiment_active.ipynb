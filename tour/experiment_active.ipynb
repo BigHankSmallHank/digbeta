{
 "cells": [
  {
   "cell_type": "markdown",
   "metadata": {},
   "source": [
    "Active Trajectory Recommendation without Personalisation\n",
    "====="
   ]
  },
  {
   "cell_type": "markdown",
   "metadata": {},
   "source": [
    "**NOTE: Before running this notebook, please run script `src/ijcai15_setup.py` to setup data properly.**"
   ]
  },
  {
   "cell_type": "markdown",
   "metadata": {},
   "source": [
    "<a id='sec1'></a>"
   ]
  },
  {
   "cell_type": "markdown",
   "metadata": {},
   "source": [
    "# 1. Overview"
   ]
  },
  {
   "cell_type": "markdown",
   "metadata": {},
   "source": [
    "### Features\n",
    "Transition Features\n",
    "1. POI category (a transition matrix between different categories)\n",
    "1. POI popularity (a transition matrix between different class of popularity)\n",
    "1. POI pair distance (a transition matrix between different class of distance)"
   ]
  },
  {
   "cell_type": "markdown",
   "metadata": {},
   "source": [
    "### Recommend Trajectories\n",
    "Given (start, end) and trajectory length $l$ for a specific user $u$, we'll recommend a trajectory to user $u$ as follows:\n",
    "- Compute/enumerate all trajectories of length $l$ with (start, end) as candidates\n",
    "- Use a uniform prior for all candidates\n",
    "- Compute the likelihood of candidates using the above transition features estimated from travelling sequences in the training set\n",
    "- Sort candidates by their posterior probabilities (i.e. $\\text{prior} \\times \\text{likelihood}$) in descending order\n",
    "- Recommend a trajectory from the top $K$ (e.g. 5) candidates with probability proportional to its posterior"
   ]
  },
  {
   "cell_type": "markdown",
   "metadata": {},
   "source": [
    "**NOTE** that we use the same leave-one-out cross validation approach described in the [ijcai15 paper](#https://sites.google.com/site/limkwanhui/publications/2015-IJCAI-personalTour.pdf?attredirects=0), concretely, for each user $u$ in the dataset, choose one trajectory (length >= 3) from all trajectories of $u$ uniformly at random, this trajectory is used as the ground truth to measure the performance of the recommendation (i.e. compute the [precision, recall and F1-score](./ijcai15.ipynb#sec2.1)), all other trajectories are used to train/estimate parameters. So the training set will change when iterating through all users."
   ]
  },
  {
   "cell_type": "markdown",
   "metadata": {},
   "source": [
    "### Notations"
   ]
  },
  {
   "cell_type": "markdown",
   "metadata": {},
   "source": [
    "- $Traj$: a trajectory\n",
    "- $\\lvert Traj \\rvert$: the number of POIs in trajectory $Traj$\n",
    "- $P_s$: the `start` (first) POI of a trajectory\n",
    "- $P_e$: the `end` (last) POI of a trajectory\n",
    "- $u$: a specific user\n",
    "- $\\textbf{x}$: an example\n",
    "- $\\textbf{y}$: label of example $\\textbf{x}$"
   ]
  },
  {
   "cell_type": "markdown",
   "metadata": {},
   "source": [
    "- Example: $\\textbf{x} = (P_s, P_e, \\lvert Traj \\rvert)$\n",
    "- Label of Example: $\\textbf{y} = Traj$\n",
    "- Assume that all examples are i.i.d."
   ]
  },
  {
   "cell_type": "markdown",
   "metadata": {},
   "source": [
    "<a id='sec2'></a>"
   ]
  },
  {
   "cell_type": "markdown",
   "metadata": {},
   "source": [
    "# 2. Load Data"
   ]
  },
  {
   "cell_type": "code",
   "execution_count": 3,
   "metadata": {
    "collapsed": false
   },
   "outputs": [],
   "source": [
    "%matplotlib inline\n",
    "\n",
    "import os\n",
    "import re\n",
    "import sys\n",
    "import math\n",
    "import random\n",
    "import pickle\n",
    "import pandas as pd\n",
    "import numpy as np\n",
    "import scipy.misc\n",
    "#from numba import jit\n",
    "import pylab\n",
    "import matplotlib.pyplot as plt\n",
    "from datetime import datetime\n",
    "from joblib import Parallel, delayed\n",
    "from scipy.optimize import minimize, OptimizeResult, fmin_l_bfgs_b, fmin, fmin_powell"
   ]
  },
  {
   "cell_type": "code",
   "execution_count": 4,
   "metadata": {
    "collapsed": false
   },
   "outputs": [],
   "source": [
    "#nfeatures = 8 # number of features\n",
    "EPS = 1e-12 # smooth, deal with 0 probability\n",
    "random.seed(987654321) # control random choice when splitting training/testing set\n",
    "np.random.seed(987654321)"
   ]
  },
  {
   "cell_type": "code",
   "execution_count": 5,
   "metadata": {
    "collapsed": false
   },
   "outputs": [],
   "source": [
    "data_dir = 'data/data-ijcai15'\n",
    "fvisit = os.path.join(data_dir, 'userVisits-Osak.csv')\n",
    "fcoord = os.path.join(data_dir, 'photoCoords-Osak.csv')\n",
    "#fvisit = os.path.join(data_dir, 'userVisits-Glas.csv')\n",
    "#fcoord = os.path.join(data_dir, 'photoCoords-Glas.csv')\n",
    "#fvisit = os.path.join(data_dir, 'userVisits-Edin.csv')\n",
    "#fcoord = os.path.join(data_dir, 'photoCoords-Edin.csv')\n",
    "#fvisit = os.path.join(data_dir, 'userVisits-Toro.csv')\n",
    "#fcoord = os.path.join(data_dir, 'photoCoords-Toro.csv')"
   ]
  },
  {
   "cell_type": "code",
   "execution_count": 6,
   "metadata": {
    "collapsed": false
   },
   "outputs": [],
   "source": [
    "suffix = fvisit.split('-')[-1].split('.')[0]\n",
    "fseqpart = os.path.join(data_dir, 'seqPart-' + suffix + '.pkl')\n",
    "frand = os.path.join(data_dir, 'F1-rand-' + suffix + '.pkl')\n",
    "flc = os.path.join(data_dir, 'F1-lc-' + suffix + '.pkl')\n",
    "fse = os.path.join(data_dir, 'F1-se-' + suffix + '.pkl')\n",
    "fid = os.path.join(data_dir, 'F1-id-' + suffix + '.pkl')\n",
    "forand = os.path.join(data_dir, 'seq-rand-' + suffix + '.pkl')\n",
    "folc = os.path.join(data_dir, 'seq-lc-' + suffix + '.pkl')\n",
    "fose = os.path.join(data_dir, 'seq-se-' + suffix + '.pkl')\n",
    "foid = os.path.join(data_dir, 'seq-id-' + suffix + '.pkl')"
   ]
  },
  {
   "cell_type": "code",
   "execution_count": 7,
   "metadata": {
    "collapsed": false
   },
   "outputs": [],
   "source": [
    "visits = pd.read_csv(fvisit, sep=';')\n",
    "coords = pd.read_csv(fcoord, sep=';')\n",
    "# merge data frames according to column 'photoID'\n",
    "assert(visits.shape[0] == coords.shape[0])\n",
    "traj = pd.merge(visits, coords, on='photoID')\n",
    "#traj.head()"
   ]
  },
  {
   "cell_type": "code",
   "execution_count": 8,
   "metadata": {
    "collapsed": false
   },
   "outputs": [
    {
     "data": {
      "text/html": [
       "<div>\n",
       "<table border=\"1\" class=\"dataframe\">\n",
       "  <thead>\n",
       "    <tr style=\"text-align: right;\">\n",
       "      <th></th>\n",
       "      <th>#photo</th>\n",
       "      <th>#photo/user</th>\n",
       "      <th>#poi</th>\n",
       "      <th>#seq</th>\n",
       "      <th>#seq/user</th>\n",
       "      <th>#user</th>\n",
       "    </tr>\n",
       "  </thead>\n",
       "  <tbody>\n",
       "    <tr>\n",
       "      <th>Osak</th>\n",
       "      <td>7747</td>\n",
       "      <td>17.215556</td>\n",
       "      <td>27</td>\n",
       "      <td>1115</td>\n",
       "      <td>2.477778</td>\n",
       "      <td>450</td>\n",
       "    </tr>\n",
       "  </tbody>\n",
       "</table>\n",
       "</div>"
      ],
      "text/plain": [
       "      #photo  #photo/user  #poi  #seq  #seq/user  #user\n",
       "Osak    7747    17.215556    27  1115   2.477778    450"
      ]
     },
     "execution_count": 8,
     "metadata": {},
     "output_type": "execute_result"
    }
   ],
   "source": [
    "num_photo = traj['photoID'].unique().shape[0]\n",
    "num_user = traj['userID'].unique().shape[0]\n",
    "num_poi = traj['poiID'].unique().shape[0]\n",
    "num_seq = traj['seqID'].unique().shape[0]\n",
    "pd.DataFrame({'#photo': num_photo, '#user': num_user, '#poi': num_poi, '#seq': num_seq, \\\n",
    "              '#photo/user': num_photo/num_user, '#seq/user': num_seq/num_user}, index=[str(suffix)])"
   ]
  },
  {
   "cell_type": "markdown",
   "metadata": {},
   "source": [
    "<a id='sec2.1'></a>"
   ]
  },
  {
   "cell_type": "markdown",
   "metadata": {},
   "source": [
    "## 2.1 Compute POI Information"
   ]
  },
  {
   "cell_type": "markdown",
   "metadata": {},
   "source": [
    "Compute POI (Longitude, Latitude) as the average coordinates of the assigned photos."
   ]
  },
  {
   "cell_type": "code",
   "execution_count": 9,
   "metadata": {
    "collapsed": false
   },
   "outputs": [],
   "source": [
    "poi_coords = traj[['poiID', 'photoLon', 'photoLat']].groupby('poiID').mean()\n",
    "poi_coords.reset_index(inplace=True)\n",
    "poi_coords.rename(columns={'photoLon':'poiLon', 'photoLat':'poiLat'}, inplace=True)"
   ]
  },
  {
   "cell_type": "markdown",
   "metadata": {},
   "source": [
    "Extract POI category and visiting frequency."
   ]
  },
  {
   "cell_type": "code",
   "execution_count": 10,
   "metadata": {
    "collapsed": false
   },
   "outputs": [],
   "source": [
    "poi_catfreq = traj[['poiID', 'poiTheme', 'poiFreq']].groupby('poiID').first()\n",
    "poi_catfreq.reset_index(inplace=True)"
   ]
  },
  {
   "cell_type": "code",
   "execution_count": 11,
   "metadata": {
    "collapsed": false
   },
   "outputs": [],
   "source": [
    "poi_all = pd.merge(poi_catfreq, poi_coords, on='poiID')\n",
    "poi_all.set_index('poiID', inplace=True)\n",
    "#poi_all.to_csv(fpoi, index=True)"
   ]
  },
  {
   "cell_type": "markdown",
   "metadata": {},
   "source": [
    "<a id='sec2.2'></a>"
   ]
  },
  {
   "cell_type": "markdown",
   "metadata": {},
   "source": [
    "## 2.2 Construct Travelling Sequences"
   ]
  },
  {
   "cell_type": "code",
   "execution_count": 12,
   "metadata": {
    "collapsed": false
   },
   "outputs": [
    {
     "data": {
      "text/html": [
       "<div>\n",
       "<table border=\"1\" class=\"dataframe\">\n",
       "  <thead>\n",
       "    <tr style=\"text-align: right;\">\n",
       "      <th></th>\n",
       "      <th>userID</th>\n",
       "      <th>seqID</th>\n",
       "      <th>poiID</th>\n",
       "      <th>arrivalTime</th>\n",
       "      <th>departureTime</th>\n",
       "      <th>#photo</th>\n",
       "      <th>poiDuration(sec)</th>\n",
       "    </tr>\n",
       "  </thead>\n",
       "  <tbody>\n",
       "    <tr>\n",
       "      <th>0</th>\n",
       "      <td>10297518@N00</td>\n",
       "      <td>1</td>\n",
       "      <td>20</td>\n",
       "      <td>1277719324</td>\n",
       "      <td>1277720832</td>\n",
       "      <td>6</td>\n",
       "      <td>1508</td>\n",
       "    </tr>\n",
       "    <tr>\n",
       "      <th>1</th>\n",
       "      <td>10307040@N08</td>\n",
       "      <td>2</td>\n",
       "      <td>6</td>\n",
       "      <td>1382608644</td>\n",
       "      <td>1382608644</td>\n",
       "      <td>1</td>\n",
       "      <td>0</td>\n",
       "    </tr>\n",
       "    <tr>\n",
       "      <th>2</th>\n",
       "      <td>10307040@N08</td>\n",
       "      <td>2</td>\n",
       "      <td>8</td>\n",
       "      <td>1382607812</td>\n",
       "      <td>1382607812</td>\n",
       "      <td>1</td>\n",
       "      <td>0</td>\n",
       "    </tr>\n",
       "    <tr>\n",
       "      <th>3</th>\n",
       "      <td>10307040@N08</td>\n",
       "      <td>2</td>\n",
       "      <td>21</td>\n",
       "      <td>1382607761</td>\n",
       "      <td>1382607774</td>\n",
       "      <td>2</td>\n",
       "      <td>13</td>\n",
       "    </tr>\n",
       "    <tr>\n",
       "      <th>4</th>\n",
       "      <td>10307040@N08</td>\n",
       "      <td>2</td>\n",
       "      <td>22</td>\n",
       "      <td>1382607879</td>\n",
       "      <td>1382608628</td>\n",
       "      <td>9</td>\n",
       "      <td>749</td>\n",
       "    </tr>\n",
       "  </tbody>\n",
       "</table>\n",
       "</div>"
      ],
      "text/plain": [
       "         userID  seqID  poiID  arrivalTime  departureTime  #photo  \\\n",
       "0  10297518@N00      1     20   1277719324     1277720832       6   \n",
       "1  10307040@N08      2      6   1382608644     1382608644       1   \n",
       "2  10307040@N08      2      8   1382607812     1382607812       1   \n",
       "3  10307040@N08      2     21   1382607761     1382607774       2   \n",
       "4  10307040@N08      2     22   1382607879     1382608628       9   \n",
       "\n",
       "   poiDuration(sec)  \n",
       "0              1508  \n",
       "1                 0  \n",
       "2                 0  \n",
       "3                13  \n",
       "4               749  "
      ]
     },
     "execution_count": 12,
     "metadata": {},
     "output_type": "execute_result"
    }
   ],
   "source": [
    "seq_all = traj[['userID', 'seqID', 'poiID', 'dateTaken']].copy().groupby(['userID', 'seqID', 'poiID'])\\\n",
    "          .agg([np.min, np.max, np.size])\n",
    "seq_all.columns = seq_all.columns.droplevel()\n",
    "seq_all.reset_index(inplace=True)\n",
    "seq_all.rename(columns={'amin':'arrivalTime', 'amax':'departureTime', 'size':'#photo'}, inplace=True)\n",
    "seq_all['poiDuration(sec)'] = seq_all['departureTime'] - seq_all['arrivalTime']\n",
    "seq_all.head()"
   ]
  },
  {
   "cell_type": "code",
   "execution_count": 13,
   "metadata": {
    "collapsed": false
   },
   "outputs": [],
   "source": [
    "seq_user = seq_all[['userID', 'seqID', 'poiID']].copy().groupby(['userID', 'seqID']).agg(np.size)\n",
    "seq_user.reset_index(inplace=True)\n",
    "seq_user.rename(columns={'poiID':'seqLen'}, inplace=True)\n",
    "seq_user.set_index('seqID', inplace=True)\n",
    "#seq_user.head()"
   ]
  },
  {
   "cell_type": "code",
   "execution_count": 65,
   "metadata": {
    "collapsed": true
   },
   "outputs": [],
   "source": [
    "def extract_seq(seqid, seq_all):\n",
    "    seqi = seq_all[seq_all['seqID'] == seqid].copy()\n",
    "    seqi.sort_values(by=['arrivalTime'], ascending=True, inplace=True)\n",
    "    return seqi['poiID'].tolist()"
   ]
  },
  {
   "cell_type": "markdown",
   "metadata": {},
   "source": [
    "<a id='sec3'></a>"
   ]
  },
  {
   "cell_type": "markdown",
   "metadata": {},
   "source": [
    "# 3. Compute Transition Probabilities"
   ]
  },
  {
   "cell_type": "markdown",
   "metadata": {},
   "source": [
    "<a id='sec3.1'></a>"
   ]
  },
  {
   "cell_type": "markdown",
   "metadata": {},
   "source": [
    "## 3.1 Basic Definitions"
   ]
  },
  {
   "cell_type": "markdown",
   "metadata": {},
   "source": [
    "- $\\text{Pr}(\\text{Cat}_j ~\\vert~ \\text{Cat}_i)$:\n",
    "   the transition probability from a POI of category $\\text{Cat}_i$ to a POI of category $\\text{Cat}_j$\n",
    "- $\\text{Pr}(\\text{Pop}_j ~\\vert~ \\text{Pop}_i)$:\n",
    "   the transition probability from a POI of Popularity class $\\text{Pop}_i$ to a POI of Popularity class $\\text{Pop}_j$\n",
    "- $\\text{Pr}(\\text{Dist}_j ~\\vert~ \\text{Dist}_i)$:\n",
    "   the transition probability from a POI-POI pair with distance (between the two) class $\\text{Dist}_i$ to a POI-POI pair with distance (between the two) class $\\text{Dist}_j$"
   ]
  },
  {
   "cell_type": "markdown",
   "metadata": {},
   "source": [
    "Smoothing by adding each cell a small number (i.e. $0.2$ times the minimum value of that row) if there exists a zero cell, adding a uniform count (i.e. 1) for all-zero rows."
   ]
  },
  {
   "cell_type": "code",
   "execution_count": 15,
   "metadata": {
    "collapsed": true
   },
   "outputs": [],
   "source": [
    "def smooth_obsmat(obsmat):\n",
    "    assert(isinstance(obsmat, pd.DataFrame))\n",
    "    for row in range(obsmat.index.shape[0]):\n",
    "        nonzeroidx = np.nonzero(obsmat.iloc[row])[0].tolist()\n",
    "        if len(nonzeroidx) == 0: # all zero in this row\n",
    "            obsmat.iloc[row] = 1  # smooth\n",
    "        elif len(nonzeroidx) < obsmat.columns.shape[0]: # some cells are zero\n",
    "            minv = np.min(obsmat.iloc[row, nonzeroidx])\n",
    "            EPS = 0.2 * minv  # row-specific smooth factor\n",
    "            obsmat.iloc[row] += EPS\n",
    "    return obsmat"
   ]
  },
  {
   "cell_type": "code",
   "execution_count": 16,
   "metadata": {
    "collapsed": false
   },
   "outputs": [],
   "source": [
    "def normalise_transmat(transmat):\n",
    "    assert(isinstance(transmat, pd.DataFrame))\n",
    "    assert(np.all(transmat.dtypes == np.float))\n",
    "    for row in range(transmat.index.shape[0]):\n",
    "        rowsum = np.sum(transmat.iloc[row])\n",
    "        assert(rowsum > 0)\n",
    "        transmat.iloc[row] /= rowsum\n",
    "    return transmat"
   ]
  },
  {
   "cell_type": "markdown",
   "metadata": {},
   "source": [
    "Compute posterior: $\\log(\\text{posterior}) = \\log(\\text{likelihood}) + \\log(\\text{prior})$ and then normalise."
   ]
  },
  {
   "cell_type": "code",
   "execution_count": 17,
   "metadata": {
    "collapsed": true
   },
   "outputs": [],
   "source": [
    "def calc_log_transmat(obs_log_transmat, prior_log_transmat):\n",
    "    assert(isinstance(obs_log_transmat, pd.DataFrame))\n",
    "    assert(isinstance(prior_log_transmat, pd.DataFrame))\n",
    "    assert(np.all(obs_log_transmat.get_values() < 0))\n",
    "    assert(np.all(prior_log_transmat.get_values() < 0))\n",
    "    assert(np.all(obs_log_transmat.index == prior_log_transmat.index))\n",
    "    assert(np.all(obs_log_transmat.columns == prior_log_transmat.columns))\n",
    "    log_transmat = obs_log_transmat + prior_log_transmat\n",
    "    for row in range(log_transmat.index.shape[0]):\n",
    "        logrowsum = scipy.misc.logsumexp(log_transmat.iloc[row]) # logsumexp(vec) = log(sum(exp(vec)))\n",
    "        log_transmat.iloc[row] -= logrowsum # normalisation\n",
    "    return log_transmat"
   ]
  },
  {
   "cell_type": "markdown",
   "metadata": {},
   "source": [
    "<a id='sec3.2'></a>"
   ]
  },
  {
   "cell_type": "markdown",
   "metadata": {},
   "source": [
    "## 3.2 Transition Probabilities between POI Categories"
   ]
  },
  {
   "cell_type": "markdown",
   "metadata": {},
   "source": [
    "We model transition probabilities between POI categories, i.e.\n",
    "$\\text{Pr}(\\text{Cat}_{\\text{POI}_j} ~\\vert~ \\text{Cat}_{\\text{POI}_i})$."
   ]
  },
  {
   "cell_type": "markdown",
   "metadata": {},
   "source": [
    "We count the number of transition first, then normalise each row while taking care of zero by smoothing."
   ]
  },
  {
   "cell_type": "markdown",
   "metadata": {},
   "source": [
    "Version 1: update the transition matrix using the current queried sequence and the previous posterior as prior."
   ]
  },
  {
   "cell_type": "code",
   "execution_count": 18,
   "metadata": {
    "collapsed": true
   },
   "outputs": [],
   "source": [
    "def calc_poi_cat_log_transmat1(seq, poi_info, poi_cats, seq_all, prior_log_transmat=None):\n",
    "    assert(len(poi_cats) > 0)\n",
    "    \n",
    "    if len(seq) == 0:\n",
    "        return pd.DataFrame(data=np.log((1/len(poi_cats)) * np.ones((len(poi_cats), len(poi_cats)), \\\n",
    "                                 dtype=np.float)), index=poi_cats, columns=poi_cats) # uniform prior\n",
    "    \n",
    "    assert(len(seq) > 1)\n",
    "    \n",
    "    # observation\n",
    "    poi_cat_obsmat = pd.DataFrame(data=np.zeros((len(poi_cats), len(poi_cats)), dtype=np.float), \\\n",
    "                                  index=poi_cats, columns=poi_cats)\n",
    "    for j in range(len(seq)-1):\n",
    "        poi1 = seq[j]\n",
    "        poi2 = seq[j+1]\n",
    "        cat1 = poi_info.loc[poi1, 'poiTheme']\n",
    "        cat2 = poi_info.loc[poi2, 'poiTheme']\n",
    "        poi_cat_obsmat.loc[cat1, cat2] += 1\n",
    "    poi_cat_obsmat = smooth_obsmat(poi_cat_obsmat)\n",
    "    \n",
    "    if prior_log_transmat is None: \n",
    "        prior_log_transmat = pd.DataFrame(data=np.log((1/len(poi_cats)) * np.ones((len(poi_cats), len(poi_cats)), \\\n",
    "                                          dtype=np.float)), index=poi_cats, columns=poi_cats) # uniform prior\n",
    "        \n",
    "    return calc_log_transmat(np.log(normalise_transmat(poi_cat_obsmat)), prior_log_transmat)"
   ]
  },
  {
   "cell_type": "markdown",
   "metadata": {},
   "source": [
    "Version 2: calculate the transition matrix using all observed sequences up to now and an uniform prior."
   ]
  },
  {
   "cell_type": "code",
   "execution_count": 19,
   "metadata": {
    "collapsed": true
   },
   "outputs": [],
   "source": [
    "def calc_poi_cat_log_transmat2(seqid_set, poi_info, poi_cats, seq_all):\n",
    "    assert(len(poi_cats) > 0)\n",
    "    \n",
    "    # observation\n",
    "    poi_cat_obsmat = pd.DataFrame(data=np.zeros((len(poi_cats), len(poi_cats)), dtype=np.float), \\\n",
    "                                  index=poi_cats, columns=poi_cats)\n",
    "    for seqid in seqid_set:\n",
    "        seq = extract_seq(seqid, seq_all)\n",
    "        for j in range(len(seq)-1):\n",
    "            poi1 = seq[j]\n",
    "            poi2 = seq[j+1]\n",
    "            cat1 = poi_info.loc[poi1, 'poiTheme']\n",
    "            cat2 = poi_info.loc[poi2, 'poiTheme']\n",
    "            poi_cat_obsmat.loc[cat1, cat2] += 1\n",
    "    poi_cat_obsmat = smooth_obsmat(poi_cat_obsmat)\n",
    "    \n",
    "    # uniform prior\n",
    "    prior_log_transmat = pd.DataFrame(data=np.log((1/len(poi_cats)) * np.ones((len(poi_cats), len(poi_cats)), \\\n",
    "                                      dtype=np.float)), index=poi_cats, columns=poi_cats)\n",
    "    \n",
    "    return calc_log_transmat(np.log(normalise_transmat(poi_cat_obsmat)), prior_log_transmat)"
   ]
  },
  {
   "cell_type": "markdown",
   "metadata": {},
   "source": [
    "<a id='sec3.3'></a>"
   ]
  },
  {
   "cell_type": "markdown",
   "metadata": {},
   "source": [
    "## 3.3 Transition Probabilities between POI Popularity Classes"
   ]
  },
  {
   "cell_type": "markdown",
   "metadata": {},
   "source": [
    "We model transition probabilities between POI popularities, i.e.\n",
    "$\\text{Pr}(\\text{Pop}_{\\text{POI}_j} ~\\vert~ \\text{Pop}_{\\text{POI}_i})$\n",
    "after discretizing POI popularities."
   ]
  },
  {
   "cell_type": "code",
   "execution_count": 20,
   "metadata": {
    "collapsed": true
   },
   "outputs": [],
   "source": [
    "def calc_poi_info(seqid_set, poi_all, seq_all):\n",
    "    poi_info = seq_all[seq_all['seqID'].isin(seqid_set)][['poiID', 'seqID']].copy()\n",
    "    poi_info = poi_info.groupby('poiID').agg(np.size)\n",
    "    poi_info.rename(columns={'seqID':'popularity'}, inplace=True)\n",
    "    poi_info['poiTheme'] = poi_all.loc[poi_info.index, 'poiTheme']\n",
    "    poi_info['poiLon'] = poi_all.loc[poi_info.index, 'poiLon']\n",
    "    poi_info['poiLat'] = poi_all.loc[poi_info.index, 'poiLat']  \n",
    "    return poi_info"
   ]
  },
  {
   "cell_type": "markdown",
   "metadata": {},
   "source": [
    "### 3.3.2 Compute Transition Probabilities"
   ]
  },
  {
   "cell_type": "markdown",
   "metadata": {},
   "source": [
    "Version 1: update the transition matrix using the current queried sequence and the previous posterior as prior."
   ]
  },
  {
   "cell_type": "code",
   "execution_count": 21,
   "metadata": {
    "collapsed": true
   },
   "outputs": [],
   "source": [
    "def calc_poi_pop_log_transmat1(seq, poi_info, bins_pop, seq_all, prior_log_transmat=None):\n",
    "    pop_class = np.arange(1, len(bins_pop))\n",
    "    \n",
    "    if len(seq) == 0:\n",
    "        return pd.DataFrame(data=np.log((1/len(pop_class)) * np.ones((len(pop_class), len(pop_class)), \\\n",
    "                                 dtype=np.float)), index=pop_class, columns=pop_class) # uniform prior\n",
    "    \n",
    "    assert(len(seq) > 1)\n",
    "    \n",
    "    # observation\n",
    "    poi_pop_obsmat = pd.DataFrame(data=np.zeros((len(pop_class), len(pop_class)), dtype=np.float), \\\n",
    "                                  index=pop_class, columns=pop_class)\n",
    "    for j in range(len(seq)-1):\n",
    "        poi1 = seq[j]\n",
    "        poi2 = seq[j+1]\n",
    "        pop1 = poi_info.loc[poi1, 'popularity']\n",
    "        pop2 = poi_info.loc[poi2, 'popularity']\n",
    "        pc1 = np.digitize([pop1], bins_pop)[0]\n",
    "        pc2 = np.digitize([pop2], bins_pop)[0]\n",
    "        poi_pop_obsmat.loc[pc1, pc2] += 1\n",
    "    poi_pop_obsmat = smooth_obsmat(poi_pop_obsmat)\n",
    "    \n",
    "    if prior_log_transmat is None:\n",
    "        prior_log_transmat = pd.DataFrame(data=np.log((1/len(pop_class)) * np.ones((len(pop_class), len(pop_class)), \\\n",
    "                                          dtype=np.float)), index=pop_class, columns=pop_class) # uniform prior\n",
    "    \n",
    "    return calc_log_transmat(np.log(normalise_transmat(poi_pop_obsmat)), prior_log_transmat)"
   ]
  },
  {
   "cell_type": "markdown",
   "metadata": {},
   "source": [
    "Version 2: calculate the transition matrix using all observed sequences up to now and an uniform prior."
   ]
  },
  {
   "cell_type": "code",
   "execution_count": 22,
   "metadata": {
    "collapsed": true
   },
   "outputs": [],
   "source": [
    "def calc_poi_pop_log_transmat2(seqid_set, poi_info, bins_pop, seq_all):\n",
    "    pop_class = np.arange(1, len(bins_pop))\n",
    "    \n",
    "    # observation\n",
    "    poi_pop_obsmat = pd.DataFrame(data=np.zeros((len(pop_class), len(pop_class)), dtype=np.float), \\\n",
    "                                  index=pop_class, columns=pop_class)\n",
    "    for seqid in seqid_set:\n",
    "        seq = extract_seq(seqid, seq_all)\n",
    "        for j in range(len(seq)-1):\n",
    "            poi1 = seq[j]\n",
    "            poi2 = seq[j+1]\n",
    "            pop1 = poi_info.loc[poi1, 'popularity']\n",
    "            pop2 = poi_info.loc[poi2, 'popularity']\n",
    "            pc1 = np.digitize([pop1], bins_pop)[0]\n",
    "            pc2 = np.digitize([pop2], bins_pop)[0]\n",
    "            poi_pop_obsmat.loc[pc1, pc2] += 1\n",
    "    poi_pop_obsmat = smooth_obsmat(poi_pop_obsmat)\n",
    "    \n",
    "    # uniform prior\n",
    "    prior_log_transmat = pd.DataFrame(data=np.log((1/len(pop_class)) * np.ones((len(pop_class), len(pop_class)), \\\n",
    "                                      dtype=np.float)), index=pop_class, columns=pop_class)\n",
    "    \n",
    "    return calc_log_transmat(np.log(normalise_transmat(poi_pop_obsmat)), prior_log_transmat)"
   ]
  },
  {
   "cell_type": "markdown",
   "metadata": {},
   "source": [
    "<a id='sec3.4'></a>"
   ]
  },
  {
   "cell_type": "markdown",
   "metadata": {},
   "source": [
    "## 3.4 Transition Probabilities between POI Pair Distance Classes"
   ]
  },
  {
   "cell_type": "markdown",
   "metadata": {},
   "source": [
    "We model transition probabilities between different POI pair distances, i.e.\n",
    "$\\text{Pr}(\\text{Dist}_{\\text{POI}_{i} \\to \\text{POI}_{i+1}} ~\\vert~ \\text{Dist}_{\\text{POI}_{i-1} \\to \\text{POI}_i})$\n",
    "after discretize POI pair distances."
   ]
  },
  {
   "cell_type": "markdown",
   "metadata": {},
   "source": [
    "### TODO: Improve the distance calculation using Google maps [distance API](https://developers.google.com/maps/documentation/distance-matrix/intro) with different [travel modes](https://developers.google.com/maps/documentation/distance-matrix/intro#travel_modes) demonstrated [here](https://jakevdp.github.io/blog/2015/10/17/analyzing-pronto-cycleshare-data-with-python-and-pandas/)."
   ]
  },
  {
   "cell_type": "markdown",
   "metadata": {},
   "source": [
    "### 3.4.2 Compute Transition Probabilities"
   ]
  },
  {
   "cell_type": "markdown",
   "metadata": {},
   "source": [
    "Version 1: update the transition matrix using the current queried sequence and the previous posterior as prior."
   ]
  },
  {
   "cell_type": "code",
   "execution_count": 23,
   "metadata": {
    "collapsed": false
   },
   "outputs": [],
   "source": [
    "def calc_poipair_dist_log_transmat1(seq, bins_dist, poi_distmat, seq_all, prior_log_transmat=None):\n",
    "    dist_class = np.arange(1, len(bins_dist))\n",
    "    if len(seq) == 0:\n",
    "        return pd.DataFrame(data=np.log((1/len(dist_class))*np.ones((len(dist_class), len(dist_class)), \\\n",
    "                                 dtype=np.float)), index=dist_class, columns=dist_class) # uniform prior\n",
    "    \n",
    "    assert(len(seq) > 1)\n",
    "    \n",
    "    # observation\n",
    "    poipair_dist_obsmat = pd.DataFrame(data=np.zeros((len(dist_class), len(dist_class)), dtype=np.float), \\\n",
    "                                       index=dist_class, columns=dist_class)\n",
    "    if len(seq) >= 3:\n",
    "        for j in range(1, len(seq)-1):\n",
    "            poi1 = seq[j-1]\n",
    "            poi2 = seq[j]\n",
    "            poi3 = seq[j+1]\n",
    "            dist12 = poi_distmat.loc[poi1, poi2]\n",
    "            dist23 = poi_distmat.loc[poi2, poi3]\n",
    "            dc12 = np.digitize([dist12], bins_dist)[0]\n",
    "            dc23 = np.digitize([dist23], bins_dist)[0]\n",
    "            poipair_dist_obsmat.loc[dc12, dc23] += 1\n",
    "    poipair_dist_obsmat = smooth_obsmat(poipair_dist_obsmat)\n",
    "    \n",
    "    if prior_log_transmat is None:\n",
    "        prior_log_transmat = pd.DataFrame(data=np.log((1/len(dist_class))*np.ones((len(dist_class), len(dist_class)), \\\n",
    "                                          dtype=np.float)), index=dist_class, columns=dist_class) # uniform prior\n",
    "        \n",
    "    return calc_log_transmat(np.log(normalise_transmat(poipair_dist_obsmat)), prior_log_transmat)"
   ]
  },
  {
   "cell_type": "markdown",
   "metadata": {},
   "source": [
    "Version 2: calculate the transition matrix using all observed sequences up to now and an uniform prior."
   ]
  },
  {
   "cell_type": "code",
   "execution_count": 24,
   "metadata": {
    "collapsed": false
   },
   "outputs": [],
   "source": [
    "def calc_poipair_dist_log_transmat2(seqid_set, bins_dist, poi_distmat, seq_all):\n",
    "    dist_class = np.arange(1, len(bins_dist))\n",
    "    \n",
    "    # observation\n",
    "    poipair_dist_obsmat = pd.DataFrame(data=np.zeros((len(dist_class), len(dist_class)), dtype=np.float), \\\n",
    "                                       index=dist_class, columns=dist_class)\n",
    "    for seqid in seqid_set:\n",
    "        seq = extract_seq(seqid, seq_all)\n",
    "        if len(seq) < 3: continue\n",
    "        for j in range(1, len(seq)-1):\n",
    "            poi1 = seq[j-1]\n",
    "            poi2 = seq[j]\n",
    "            poi3 = seq[j+1]\n",
    "            dist12 = poi_distmat.loc[poi1, poi2]\n",
    "            dist23 = poi_distmat.loc[poi2, poi3]\n",
    "            dc12 = np.digitize([dist12], bins_dist)[0]\n",
    "            dc23 = np.digitize([dist23], bins_dist)[0]\n",
    "            poipair_dist_obsmat.loc[dc12, dc23] += 1\n",
    "    poipair_dist_obsmat = smooth_obsmat(poipair_dist_obsmat)\n",
    "    \n",
    "    # uniform prior\n",
    "    prior_log_transmat = pd.DataFrame(data=np.log((1/len(dist_class))*np.ones((len(dist_class), len(dist_class)), \\\n",
    "                                      dtype=np.float)), index=dist_class, columns=dist_class)\n",
    "            \n",
    "    return calc_log_transmat(np.log(normalise_transmat(poipair_dist_obsmat)), prior_log_transmat)"
   ]
  },
  {
   "cell_type": "markdown",
   "metadata": {},
   "source": [
    "<a id='sec4'></a>"
   ]
  },
  {
   "cell_type": "markdown",
   "metadata": {},
   "source": [
    "# 4. Compute Trajectory Likelihood"
   ]
  },
  {
   "cell_type": "markdown",
   "metadata": {},
   "source": [
    "Log likelihood of trajectory $[\\text{POI}_1, \\text{POI}_2, \\dots, \\text{POI}_i, ..., \\text{POI}_N]$ is defined as\n",
    "\\begin{align}\n",
    "\\text{loglikelihood} = &~\n",
    "w_1 \\sum_{i=1}^{N-1} \\log(\\text{Pr}(\\text{Cat}_{\\text{POI}_{i+1}} ~\\vert~ \\text{Cat}_{\\text{POI}_i})) + \n",
    "w_2 \\sum_{i=1}^{N-1} \\log(\\text{Pr}(\\text{Pop}_{\\text{POI}_{i+1}} ~\\vert~ \\text{Pop}_{\\text{POI}_i})) + \\\\\n",
    "&~ w_3 \\sum_{i=2}^{N-1} \\log(\\text{Pr}(\\text{Dist}_{\\text{POI}_i \\to \\text{POI}_{i+1}} ~\\vert~ \n",
    "\\text{Dist}_{\\text{POI}_{i-1} \\to \\text{POI}_i}))\n",
    "+ \\log(\\text{Pr}(\\text{POI}_1)) \n",
    "\\end{align}"
   ]
  },
  {
   "cell_type": "markdown",
   "metadata": {},
   "source": [
    "where $w_i \\in \\mathbb{R}$ are weights and $\\text{Pr}(\\text{POI}_1)$ is the prior of $\\text{POI}_1$, \n",
    "we assume $\\text{Pr}(\\text{POI}_1)=1.0$."
   ]
  },
  {
   "cell_type": "code",
   "execution_count": 25,
   "metadata": {
    "collapsed": true
   },
   "outputs": [],
   "source": [
    "def calc_seq_loglikelihood(seq, weights, poi_all, poi_info, bins_pop, bins_dist, poi_distmat, \\\n",
    "                           poi_cat_log_transmat, poi_pop_log_transmat, poipair_dist_log_transmat):\n",
    "    assert(len(seq) > 1)\n",
    "    assert(len(weights) == 3)\n",
    "    #assert(abs(1 - sum(weights)) < 1e-9) # sum(weights) == 1 # No longer assume that\n",
    "    \n",
    "    cat1 = poi_all.loc[seq[0], 'poiTheme']\n",
    "    cat2 = poi_all.loc[seq[1], 'poiTheme']\n",
    "    logL = weights[0] * poi_cat_log_transmat.loc[cat1, cat2]\n",
    "    \n",
    "    pop1 = 1; pop2 = 1  # just this very observation if not in poi_info\n",
    "    if seq[0] in poi_info.index:\n",
    "        pop1 = poi_info.loc[seq[0], 'popularity']\n",
    "    if seq[1] in poi_info.index:\n",
    "        pop2 = poi_info.loc[seq[1], 'popularity']\n",
    "    pc1 = np.digitize([pop1], bins_pop)[0]\n",
    "    pc2 = np.digitize([pop2], bins_pop)[0]\n",
    "    logL += weights[1] * poi_pop_log_transmat.loc[pc1, pc2]\n",
    "    \n",
    "    for j in range(1, len(seq)-1):\n",
    "        poi1 = seq[j-1]\n",
    "        poi2 = seq[j]\n",
    "        poi3 = seq[j+1]\n",
    "        cat2 = poi_all.loc[poi2, 'poiTheme']\n",
    "        cat3 = poi_all.loc[poi3, 'poiTheme']\n",
    "        logL += weights[0] * poi_cat_log_transmat.loc[cat2, cat3]\n",
    "        \n",
    "        pop2 = 1; pop3 = 1\n",
    "        if poi2 in poi_info.index:\n",
    "            pop2 = poi_info.loc[poi2, 'popularity']\n",
    "        if poi3 in poi_info.index:\n",
    "            pop3 = poi_info.loc[poi3, 'popularity']\n",
    "        pc2 = np.digitize([pop2], bins_pop)[0]\n",
    "        pc3 = np.digitize([pop3], bins_pop)[0]\n",
    "        logL += weights[1] * poi_pop_log_transmat.loc[pc2, pc3]\n",
    "        \n",
    "        dist12 = poi_distmat.loc[poi1, poi2]\n",
    "        dist23 = poi_distmat.loc[poi2, poi3]\n",
    "        dc12 = np.digitize([dist12], bins_dist)[0]\n",
    "        dc23 = np.digitize([dist23], bins_dist)[0]\n",
    "        logL += weights[2] * poipair_dist_log_transmat.loc[dc12, dc23]\n",
    "    return logL"
   ]
  },
  {
   "cell_type": "markdown",
   "metadata": {},
   "source": [
    "<a id='sec5'></a>"
   ]
  },
  {
   "cell_type": "markdown",
   "metadata": {},
   "source": [
    "# 5. Trajectory Recommendation & Evaluation"
   ]
  },
  {
   "cell_type": "markdown",
   "metadata": {},
   "source": [
    "### Cost function"
   ]
  },
  {
   "cell_type": "markdown",
   "metadata": {},
   "source": [
    "Learn weights by optimising an cost function."
   ]
  },
  {
   "cell_type": "markdown",
   "metadata": {},
   "source": [
    "For convenience, example and its label are defined as:\n",
    "- Example: $\\textbf{x} = (P_s, P_e, \\lvert Traj \\rvert)$\n",
    "- Label of Example: $\\textbf{y} = Traj$"
   ]
  },
  {
   "cell_type": "markdown",
   "metadata": {},
   "source": [
    "Cost function is defined as\n",
    "\\begin{equation}\n",
    "J(\\mathbf{w}) = C \\sum_i \\left( 1 - \n",
    "\\frac{\\lvert \\text{set}(\\mathbf{y}^{*(i)}) \\cap \\text{set}(\\mathbf{y}^{(i)}) \\rvert -2}\n",
    "     {\\lvert \\text{set}(\\mathbf{y}^{*(i)}) \\cup \\text{set}(\\mathbf{y}^{(i)}) \\rvert -2} \\right)\n",
    "\\end{equation}"
   ]
  },
  {
   "cell_type": "markdown",
   "metadata": {},
   "source": [
    "where $\\mathbf{w}$ are weights and $C$ is a constant, $\\mathbf{y}^{*(i)}$ is the most likely label of $\\textbf{x}$ \n",
    "as defined below, $\\text{set}(\\mathbf{y})$ denotes the set of POIs in the recommended trajectory $\\textbf{y}$."
   ]
  },
  {
   "cell_type": "markdown",
   "metadata": {},
   "source": [
    "\\begin{equation}\n",
    "\\mathbf{y}^{*(i)} = \n",
    "\\text{arg}\\max_{\\hat{\\mathbf{y}}^{(i)}} \\text{Pr}(\\hat{\\mathbf{y}}^{(i)} \\vert \\mathbf{x}; \\mathbf{w}; \\Theta)\n",
    "\\end{equation}"
   ]
  },
  {
   "cell_type": "markdown",
   "metadata": {},
   "source": [
    "Parameters $\\Theta$ are estimated using the `estimate_parameter` function defined below,\n",
    "and weights $\\mathbf{w}$ are learned by minimizing the above cost function on training set."
   ]
  },
  {
   "cell_type": "markdown",
   "metadata": {},
   "source": [
    "**Problem**: the cost function is not differentiable, how to optimize it?"
   ]
  },
  {
   "cell_type": "markdown",
   "metadata": {},
   "source": [
    "Parameter estimation of the Markov Chain."
   ]
  },
  {
   "cell_type": "markdown",
   "metadata": {},
   "source": [
    "Version 1: update the transition matrix using the current queried sequence and the previous posterior as prior."
   ]
  },
  {
   "cell_type": "code",
   "execution_count": 26,
   "metadata": {
    "collapsed": true
   },
   "outputs": [],
   "source": [
    "def estimate_parameter1(seqid_set_training, poi_cats, bins_pop, bins_dist, poi_distmat, poi_all, seq_all, \\\n",
    "                        poi_cat_log_prior=None, poi_pop_log_prior=None, poipair_dist_log_prior=None):\n",
    "    # compute POI info using training set\n",
    "    poi_info = calc_poi_info(seqid_set_training, poi_all, seq_all)\n",
    "    \n",
    "    # the last sequence is the result of current querying\n",
    "    seq = []\n",
    "    if len(seqid_set_training) > 0:\n",
    "        seqid = seqid_set_training[-1]\n",
    "        seq = extract_seq(seqid, seq_all)\n",
    "    \n",
    "    # compute POI category transition matrix\n",
    "    poi_cat_log_transmat = calc_poi_cat_log_transmat1(seq, poi_info, poi_cats, seq_all, poi_cat_log_prior)\n",
    "    \n",
    "    # compute POI popularity transition matrix\n",
    "    poi_pop_log_transmat = calc_poi_pop_log_transmat1(seq, poi_info, bins_pop, seq_all, poi_pop_log_prior)\n",
    "    \n",
    "    # compute POI pair distance transition matrix\n",
    "    poipair_dist_log_transmat = calc_poipair_dist_log_transmat1(seq, bins_dist, poi_distmat, seq_all, \\\n",
    "                                                                poipair_dist_log_prior)\n",
    "    \n",
    "    return (poi_info, poi_cat_log_transmat, poi_pop_log_transmat, poipair_dist_log_transmat)"
   ]
  },
  {
   "cell_type": "markdown",
   "metadata": {},
   "source": [
    "Version 2: calculate the transition matrix using all observed sequences up to now and an uniform prior."
   ]
  },
  {
   "cell_type": "code",
   "execution_count": 27,
   "metadata": {
    "collapsed": true
   },
   "outputs": [],
   "source": [
    "def estimate_parameter2(seqid_set_training, poi_cats, bins_pop, bins_dist, poi_distmat, poi_all, seq_all):\n",
    "    # compute POI info using training set\n",
    "    poi_info = calc_poi_info(seqid_set_training, poi_all, seq_all)\n",
    "    \n",
    "    # compute POI category transition matrix\n",
    "    poi_cat_log_transmat = calc_poi_cat_log_transmat2(seqid_set_training, poi_info, poi_cats, seq_all)\n",
    "    \n",
    "    # compute POI popularity transition matrix\n",
    "    poi_pop_log_transmat = calc_poi_pop_log_transmat2(seqid_set_training, poi_info, bins_pop, seq_all)\n",
    "    \n",
    "    # compute POI pair distance transition matrix\n",
    "    poipair_dist_log_transmat = calc_poipair_dist_log_transmat2(seqid_set_training, bins_dist, poi_distmat, seq_all)\n",
    "    \n",
    "    return (poi_info, poi_cat_log_transmat, poi_pop_log_transmat, poipair_dist_log_transmat)"
   ]
  },
  {
   "cell_type": "markdown",
   "metadata": {},
   "source": [
    "Enumerate trajectories of the same (start, end) and length (3, 4 or 5) with respect to an actual sequence."
   ]
  },
  {
   "cell_type": "code",
   "execution_count": 28,
   "metadata": {
    "collapsed": true
   },
   "outputs": [],
   "source": [
    "def enum_seq345(start, end, length, poi_list): \n",
    "    assert(length in {3, 4, 5})\n",
    "    p0 = start\n",
    "    pN = end\n",
    "    \n",
    "    # enumerate sequences with length 3\n",
    "    if length == 3:\n",
    "        return [[p0, p, pN] \\\n",
    "                for p in poi_list if p not in {p0, pN}]\n",
    "    \n",
    "    # enumerate sequences with length 4\n",
    "    if length == 4:\n",
    "        return [[p0, p1, p2, pN] \\\n",
    "                for p1 in poi_list if p1 not in {p0, pN} \\\n",
    "                for p2 in poi_list if p2 not in {p0, p1, pN}]\n",
    "    \n",
    "    # enumerate sequences with length 5\n",
    "    if length == 5:\n",
    "        return [[p0, p1, p2, p3, pN] \\\n",
    "                for p1 in poi_list if p1 not in {p0, pN} \\\n",
    "                for p2 in poi_list if p2 not in {p0, p1, pN} \\\n",
    "                for p3 in poi_list if p3 not in {p0, p1, p2, pN}]"
   ]
  },
  {
   "cell_type": "code",
   "execution_count": 29,
   "metadata": {
    "collapsed": true
   },
   "outputs": [],
   "source": [
    "def parse_seqstr(seqstr):\n",
    "    term = re.sub('[ \\[\\]]', '', seqstr).split(',')\n",
    "    return [int(x) for x in term]"
   ]
  },
  {
   "cell_type": "markdown",
   "metadata": {},
   "source": [
    "With uniform prior, the posterior probability of trajectory is proportional to its likelihood."
   ]
  },
  {
   "cell_type": "code",
   "execution_count": 66,
   "metadata": {
    "collapsed": false
   },
   "outputs": [],
   "source": [
    "def recommend_trajectory(start, end, length, weights, poi_list, poi_info, bins_pop, bins_dist, poi_distmat, \\\n",
    "                         poi_cat_log_transmat, poi_pop_log_transmat, poipair_dist_log_transmat):\n",
    "    assert(len(weights) == 3)\n",
    "    # enumerate trajectory\n",
    "    enum_seqs = enum_seq345(start, end, length, poi_list)\n",
    "    \n",
    "    # compute log likelihood   \n",
    "    logL = []\n",
    "    for seq in enum_seqs:\n",
    "        logl = calc_seq_loglikelihood(seq, weights, poi_all, poi_info, bins_pop, bins_dist, poi_distmat, \\\n",
    "                                      poi_cat_log_transmat, poi_pop_log_transmat, poipair_dist_log_transmat)\n",
    "        logL.append(logl)\n",
    "    \n",
    "    # sanity check: passed\n",
    "    seq1 = [10, 21, 28, 22]\n",
    "    pops = []\n",
    "    for i in range(len(seq1)):\n",
    "        if seq1[i] in poi_info.index: pops.append(poi_info.loc[seq1[i], 'popularity'])\n",
    "        else: pops.append(1)\n",
    "    cats = [poi_all.loc[x, 'poiTheme'] for x in seq1] # use the ugly global variable\n",
    "    dc12 = np.digitize([poi_distmat.loc[seq1[0], seq1[1]]], bins_dist)[0]\n",
    "    dc23 = np.digitize([poi_distmat.loc[seq1[1], seq1[2]]], bins_dist)[0]\n",
    "    dc34 = np.digitize([poi_distmat.loc[seq1[2], seq1[3]]], bins_dist)[0]\n",
    "    s1 = weights[0] * (\\\n",
    "         poi_cat_log_transmat.loc[cats[0], cats[1]] + poi_cat_log_transmat.loc[cats[1], cats[2]] + \\\n",
    "         poi_cat_log_transmat.loc[cats[2], cats[3]]) + \\\n",
    "         weights[1] * (\\\n",
    "         poi_pop_log_transmat.loc[np.digitize([pops[0]], bins_pop)[0], np.digitize([pops[1]], bins_pop)[0]] + \\\n",
    "         poi_pop_log_transmat.loc[np.digitize([pops[1]], bins_pop)[0], np.digitize([pops[2]], bins_pop)[0]] + \\\n",
    "         poi_pop_log_transmat.loc[np.digitize([pops[2]], bins_pop)[0], np.digitize([pops[3]], bins_pop)[0]])\n",
    "    s2 = weights[2] * (poipair_dist_log_transmat.loc[dc12, dc23] + poipair_dist_log_transmat.loc[dc23, dc34])\n",
    "    logL1 = calc_seq_loglikelihood(seq1, weights, poi_all, poi_info, bins_pop, bins_dist, poi_distmat, \\\n",
    "                                   poi_cat_log_transmat, poi_pop_log_transmat, poipair_dist_log_transmat)\n",
    "    #print(s1+s2, '-', logL1, '=', s1+s2-logL1); sys.stdout.flush()\n",
    "    assert(abs(s1+s2-logL1) < 1e-9)\n",
    "    \n",
    "    # dataframe of enumerated trajectories\n",
    "    enum_seq_df = pd.DataFrame(data=np.array(logL), index=[str(x) for x in enum_seqs], columns=['logLikelihood'])\n",
    "    \n",
    "    # sort by loglikeilihood in descending order\n",
    "    enum_seq_df.sort_values(by=['logLikelihood'], ascending=False, inplace=True)\n",
    "    \n",
    "    # recommend trajectory\n",
    "    probs = enum_seq_df['logLikelihood'].get_values(); #print(probs)\n",
    "    probs = np.exp(probs)\n",
    "    probs /= np.sum(probs); #print(probs)\n",
    "    #enum_seq_df['probability'] = probs\n",
    "    \n",
    "    # recommend a trajectory with probability proportional to its posterior (i.e. likelihood when prior is uniform)\n",
    "    #sample = np.random.multinomial(1, probs) # catgorical/multinoulli distribution, multinomial distribution (n=1)\n",
    "    #idx = sample.nonzero()[0][0]\n",
    "    #return (parse_seqstr(enum_seq_df.index[idx]), probs[idx]) # return the recommended sequence and its probability\n",
    "    \n",
    "    # recommend the topk trajectories with their probabilities\n",
    "    k = 10\n",
    "    if enum_seq_df.shape[0] < k: \n",
    "        k = enum_seq_df.shape[0]\n",
    "    result_df = enum_seq_df.iloc[0:k].copy()\n",
    "    result_df.reset_index(inplace=True)\n",
    "    result_df.rename(columns={'index':'sequence'}, inplace=True)\n",
    "    result_df.drop('logLikelihood', axis=1, inplace=True)\n",
    "    result_df['probability'] = probs[0:k]\n",
    "    return result_df"
   ]
  },
  {
   "cell_type": "markdown",
   "metadata": {},
   "source": [
    "Use F1 measure defined [here](./ijcai15.ipynb#sec2.1) to evaluate the performance of recommender."
   ]
  },
  {
   "cell_type": "code",
   "execution_count": 31,
   "metadata": {
    "collapsed": true
   },
   "outputs": [],
   "source": [
    "def calc_F1score(seq_act, seq_rec):\n",
    "    assert(len(seq_act) > 0)\n",
    "    assert(len(seq_rec) > 0)\n",
    "    actset = set(seq_act)\n",
    "    recset = set(seq_rec)\n",
    "    intersect = actset & recset\n",
    "    recall = len(intersect) / len(seq_act)\n",
    "    precision = len(intersect) / len(seq_rec)\n",
    "    F1score = 2. * precision * recall / (precision + recall)\n",
    "    return F1score"
   ]
  },
  {
   "cell_type": "markdown",
   "metadata": {},
   "source": [
    "Evaluation on test set."
   ]
  },
  {
   "cell_type": "code",
   "execution_count": 32,
   "metadata": {
    "collapsed": false
   },
   "outputs": [],
   "source": [
    "def evaluate_parallel(seqid_set, weights, poi_list, poi_info, seq_all, bins_pop, bins_dist, poi_distmat, \\\n",
    "                      poi_cat_log_transmat, poi_pop_log_transmat, poipair_dist_log_transmat):\n",
    "    seq_act_list = [extract_seq(seqid, seq_all) for seqid in seqid_set]\n",
    "    seq_rec_df_list = Parallel(n_jobs=-2)(delayed(recommend_trajectory)\\\n",
    "                      (seq[0], seq[-1], len(seq), weights, poi_list, poi_info, bins_pop, bins_dist, poi_distmat, \\\n",
    "                       poi_cat_log_transmat, poi_pop_log_transmat, poipair_dist_log_transmat) \\\n",
    "                      for seq in seq_act_list)    \n",
    "    seq_rec_list = [parse_seqstr(seq_rec_df.iloc[0]['sequence']) for seq_rec_df in seq_rec_df_list]\n",
    "    assert(len(seq_act_list) == len(seq_rec_list))\n",
    "    #F1scores = [calc_F1score(seq_act_list[x], seq_rec_list[x]) for x in range(len(seq_act_list))] # OK\n",
    "    F1scores = Parallel(n_jobs=-2)(delayed(calc_F1score)\\\n",
    "               (seq_act_list[x], seq_rec_list[x]) for x in range(len(seq_act_list))) # OK\n",
    "                                   \n",
    "    return F1scores"
   ]
  },
  {
   "cell_type": "code",
   "execution_count": 33,
   "metadata": {
    "collapsed": false
   },
   "outputs": [],
   "source": [
    "def evaluate_random(seqid_set, poi_list, seq_all):\n",
    "    seq_act_list = [extract_seq(seqid, seq_all) for seqid in seqid_set]\n",
    "    seq_rec_list = []\n",
    "    for seq in seq_act_list:\n",
    "        enum_seqs = enum_seq345(seq[0], seq[-1], len(seq), poi_list)\n",
    "        seq_rec_list.append(random.choice(enum_seqs))    \n",
    "    assert(len(seq_act_list) == len(seq_rec_list))\n",
    "    F1scores = Parallel(n_jobs=-2)(delayed(calc_F1score)\\\n",
    "               (seq_act_list[x], seq_rec_list[x]) for x in range(len(seq_act_list)))\n",
    "    return F1scores"
   ]
  },
  {
   "cell_type": "markdown",
   "metadata": {},
   "source": [
    "Compute the total cost, \n",
    "1. use `F1` based metric as cost,\n",
    "1. use the cost function defined above."
   ]
  },
  {
   "cell_type": "code",
   "execution_count": 34,
   "metadata": {
    "collapsed": true
   },
   "outputs": [],
   "source": [
    "def calc_cost1(weights, seqid_set, poi_list, poi_info, seq_all, bins_pop, bins_dist, poi_distmat, \\\n",
    "              poi_cat_log_transmat, poi_pop_log_transmat, poipair_dist_log_transmat):\n",
    "    F1scores = evaluate_parallel(seqid_set, weights, poi_list, poi_info, seq_all, bins_pop, bins_dist, poi_distmat, \\\n",
    "                                 poi_cat_log_transmat, poi_pop_log_transmat, poipair_dist_log_transmat)\n",
    "    C = 1e3 # 0.61, 0.60, (0.59, 0.11), (0.63, 0.12), (0.65, 0.08)\n",
    "    #return C * np.sum(1 - np.array(F1scores))\n",
    "    #return C * ((1 - np.mean(F1scores)) + np.std(F1scores))\n",
    "    #return C * np.sum(np.array(F1scores) < 0.6)\n",
    "    return C * np.sum(np.array(F1scores) < 0.7) \n",
    "    #return C * np.sum(np.array(F1scores) < 0.8)    "
   ]
  },
  {
   "cell_type": "code",
   "execution_count": 35,
   "metadata": {
    "collapsed": true
   },
   "outputs": [],
   "source": [
    "def calc_cost2(weights, seqid_set, poi_list, poi_info, seq_all, bins_pop, bins_dist, poi_distmat, \\\n",
    "              poi_cat_log_transmat, poi_pop_log_transmat, poipair_dist_log_transmat):\n",
    "    seq_act_list = [extract_seq(seqid, seq_all) for seqid in seqid_set]\n",
    "    seq_rec_df_list = Parallel(n_jobs=-2)(delayed(recommend_trajectory)\\\n",
    "                      (seq[0], seq[-1], len(seq), weights, poi_list, poi_info, bins_pop, bins_dist, poi_distmat, \\\n",
    "                       poi_cat_log_transmat, poi_pop_log_transmat, poipair_dist_log_transmat) \\\n",
    "                      for seq in seq_act_list)    \n",
    "    seq_rec_list = [parse_seqstr(seq_rec_df.iloc[0]['sequence']) for seq_rec_df in seq_rec_df_list]\n",
    "    assert(len(seq_act_list) == len(seq_rec_list))\n",
    "    costs = [(1-(len(set(seq_act_list[x]) & set(seq_rec_list[x]))-2) / \\\n",
    "                (len(set(seq_act_list[x]) | set(seq_rec_list[x]))-2)) for x in range(len(seq_act_list))]\n",
    "    C = 1e3 \n",
    "    #return C * np.sum(costs)\n",
    "    return C * np.dot(costs, costs)"
   ]
  },
  {
   "cell_type": "markdown",
   "metadata": {},
   "source": [
    "<a id='sec6'></a>"
   ]
  },
  {
   "cell_type": "markdown",
   "metadata": {},
   "source": [
    "# 6. Active Learning without Personalisation"
   ]
  },
  {
   "cell_type": "markdown",
   "metadata": {},
   "source": [
    "**Two Approaches**"
   ]
  },
  {
   "cell_type": "markdown",
   "metadata": {},
   "source": [
    "**Approach ONE** \n",
    "1. At each query step, setting the `prior` as the `posterior` of the previous step \n",
    "(using an uniform `prior` at the first step), \n",
    "1. compute the `likelihood` using the trajectory gotten by current querying, \n",
    "1. multiplying the `likelihood` and the `prior` to get the `posterior`, \n",
    "1. using maximum a posteriori (MAP) to recommend trajectory and evaluate the performance on test set."
   ]
  },
  {
   "cell_type": "markdown",
   "metadata": {},
   "source": [
    "**Approach TWO**\n",
    "1. At each query step, using all trajectories (including the one get by current querying) \n",
    "in current training set to compute the `likelihood`, \n",
    "1. multiplying the `likelihood` and an uniform `prior` to get the `posterior`, \n",
    "1. using maximum a posteriori (MAP) to recommend trajectory and evaluate the performance on test set."
   ]
  },
  {
   "cell_type": "markdown",
   "metadata": {},
   "source": [
    "**NOTE** that the above `prior`, `likelihood` and `posterior` are corresponding to the parameters of the probabilistic model, i.e. the transition probabilities of three Markov Chains (POI category, POI popularity, POI pair distance)."
   ]
  },
  {
   "cell_type": "markdown",
   "metadata": {},
   "source": [
    "**Question:** : are they equivalent?  \n",
    "Generally **NO**.   \n",
    "By compute a toy example, it is easy to show that the first approach is a `count -> normalise -> multiply -> normalise` procedure, while the second approach is a `count -> sum -> normalise` procedure\n",
    "(both will multiply an uniform prior at the very beginning)."
   ]
  },
  {
   "cell_type": "markdown",
   "metadata": {},
   "source": [
    "<table>\n",
    "<tr>\n",
    "<td>ONE</td>\n",
    "<td> count &rarr; </td>\n",
    "<td><table><tr><td>1</td><td>2</td></tr><tr><td>2</td><td>1</td></tr></table></td>\n",
    "<td><table><tr><td>1</td><td>3</td></tr><tr><td>3</td><td>1</td></tr></table></td>\n",
    "<td><table><tr><td>1</td><td>4</td></tr><tr><td>4</td><td>1</td></tr></table></td>\n",
    "<td> normalise &rarr; </td>\n",
    "<td><table><tr><td>1/3</td><td>2/3</td></tr><tr><td>2/3</td><td>1/3</td></tr></table></td>\n",
    "<td><table><tr><td>1/4</td><td>3/4</td></tr><tr><td>3/4</td><td>1/4</td></tr></table></td>\n",
    "<td><table><tr><td>1/5</td><td>4/5</td></tr><tr><td>4/5</td><td>1/5</td></tr></table></td>\n",
    "<td> multiply &rarr; </td>\n",
    "<td><table><tr><td>1/60</td><td>24/60</td></tr><tr><td>24/60</td><td>1/60</td></tr></table></td>\n",
    "<td> normalise &rarr; </td>\n",
    "<td><table><tr><td>1/25</td><td>24/25</td></tr><tr><td>24/25</td><td>1/25</td></tr></table></td>\n",
    "</tr>\n",
    "<tr>\n",
    "<td>TWO</td>\n",
    "<td> count &rarr; </td>\n",
    "<td><table><tr><td>1</td><td>2</td></tr><tr><td>2</td><td>1</td></tr></table></td>\n",
    "<td><table><tr><td>1</td><td>3</td></tr><tr><td>3</td><td>1</td></tr></table></td>\n",
    "<td><table><tr><td>1</td><td>4</td></tr><tr><td>4</td><td>1</td></tr></table></td>\n",
    "<td> sum &rarr; </td>\n",
    "<td><table><tr><td>3</td><td>9</td></tr><tr><td>9</td><td>3</td></tr></table></td>\n",
    "<td> normalise &rarr; </td>\n",
    "<td><table><tr><td>1/4</td><td>3/4</td></tr><tr><td>3/4</td><td>1/4</td></tr></table></td>\n",
    "</tr>\n",
    "</table>"
   ]
  },
  {
   "cell_type": "markdown",
   "metadata": {},
   "source": [
    "### 5.1 Travelling Sequences Dataset Partition"
   ]
  },
  {
   "cell_type": "markdown",
   "metadata": {},
   "source": [
    "Split dataset (travelling sequences with length 3/4/5) into \n",
    "- training set (i.e. initial training) ~~(10%)~~, start from empty training set,\n",
    "- annotation set (i.e. simulate user annotation) (80%), \n",
    "- evaluation set (a.k.a. test set) ~~(40%)~~ (20%)."
   ]
  },
  {
   "cell_type": "code",
   "execution_count": 36,
   "metadata": {
    "collapsed": false
   },
   "outputs": [
    {
     "name": "stdout",
     "output_type": "stream",
     "text": [
      "1115\n"
     ]
    }
   ],
   "source": [
    "seq_stats = seq_all[['userID', 'seqID', 'poiID']].copy().groupby(['userID', 'seqID']).agg(np.size)\n",
    "seq_stats.reset_index(inplace=True)\n",
    "seq_stats.rename(columns={'poiID':'seqLen'}, inplace=True)\n",
    "seq_stats.set_index('seqID', inplace=True)\n",
    "print(seq_stats.index.shape[0])"
   ]
  },
  {
   "cell_type": "code",
   "execution_count": 37,
   "metadata": {
    "collapsed": false
   },
   "outputs": [
    {
     "name": "stdout",
     "output_type": "stream",
     "text": [
      "46\n"
     ]
    }
   ],
   "source": [
    "seqid_set_exp = seq_stats[seq_stats['seqLen'].isin({3, 4, 5})].index\n",
    "print(len(seqid_set_exp))"
   ]
  },
  {
   "cell_type": "markdown",
   "metadata": {},
   "source": [
    "Choose a random portion of sequences as training data that span all POIs in annotation/evaluation set."
   ]
  },
  {
   "cell_type": "code",
   "execution_count": 38,
   "metadata": {
    "collapsed": true
   },
   "outputs": [],
   "source": [
    "seqid_set_annotate0 = []\n",
    "seqid_set_evaluate0 = []"
   ]
  },
  {
   "cell_type": "code",
   "execution_count": 39,
   "metadata": {
    "collapsed": true
   },
   "outputs": [],
   "source": [
    "doCompute = True"
   ]
  },
  {
   "cell_type": "code",
   "execution_count": 40,
   "metadata": {
    "collapsed": true
   },
   "outputs": [],
   "source": [
    "if os.path.exists(fseqpart):\n",
    "    doCompute = False\n",
    "    (seqid_set_annotate0, seqid_set_evaluate0) = pickle.load(open(fseqpart, 'rb'))"
   ]
  },
  {
   "cell_type": "code",
   "execution_count": 41,
   "metadata": {
    "collapsed": false
   },
   "outputs": [],
   "source": [
    "if doCompute:\n",
    "    idx_range = np.arange(len(seqid_set_exp))\n",
    "    num_annotate = round(len(seqid_set_exp) * 0.8)\n",
    "    np.random.shuffle(idx_range) \n",
    "    seqid_set_annotate0 = list(seqid_set_exp[idx_range[0:num_annotate]])\n",
    "    seqid_set_evaluate0 = list(seqid_set_exp[idx_range[num_annotate:]])\n",
    "    \n",
    "    pickle.dump((seqid_set_annotate0, seqid_set_evaluate0), open(fseqpart, 'wb'))"
   ]
  },
  {
   "cell_type": "code",
   "execution_count": 42,
   "metadata": {
    "collapsed": false
   },
   "outputs": [
    {
     "name": "stdout",
     "output_type": "stream",
     "text": [
      "46\n",
      "37\n",
      "9\n"
     ]
    }
   ],
   "source": [
    "print(len(seqid_set_exp))\n",
    "print(len(seqid_set_annotate0))\n",
    "print(len(seqid_set_evaluate0))"
   ]
  },
  {
   "cell_type": "markdown",
   "metadata": {},
   "source": [
    "### 5.2 Compute all states of Markov Chain using all data"
   ]
  },
  {
   "cell_type": "markdown",
   "metadata": {},
   "source": [
    "Compute POI information using all data."
   ]
  },
  {
   "cell_type": "code",
   "execution_count": 43,
   "metadata": {
    "collapsed": true
   },
   "outputs": [],
   "source": [
    "poi_info0 = calc_poi_info(seqid_set_exp, poi_all, seq_all)"
   ]
  },
  {
   "cell_type": "markdown",
   "metadata": {},
   "source": [
    "A list of POIs."
   ]
  },
  {
   "cell_type": "code",
   "execution_count": 44,
   "metadata": {
    "collapsed": false
   },
   "outputs": [
    {
     "data": {
      "text/plain": [
       "[1, 2, 3, 5, 6, 7, 8, 10, 11, 12, 15, 16, 17, 18, 20, 21, 22, 23, 24, 25, 28]"
      ]
     },
     "execution_count": 44,
     "metadata": {},
     "output_type": "execute_result"
    }
   ],
   "source": [
    "poi_list = poi_info0.index.tolist()\n",
    "poi_list"
   ]
  },
  {
   "cell_type": "markdown",
   "metadata": {},
   "source": [
    "POI categories."
   ]
  },
  {
   "cell_type": "code",
   "execution_count": 45,
   "metadata": {
    "collapsed": false
   },
   "outputs": [
    {
     "data": {
      "text/plain": [
       "['Amusement', 'Entertainment', 'Historical', 'Park']"
      ]
     },
     "execution_count": 45,
     "metadata": {},
     "output_type": "execute_result"
    }
   ],
   "source": [
    "poi_cats = poi_info0['poiTheme'].unique().tolist()\n",
    "poi_cats.sort()\n",
    "poi_cats"
   ]
  },
  {
   "cell_type": "markdown",
   "metadata": {},
   "source": [
    "POI popularity classes (i.e. discretization), discretization method is choosen according to [this experiment](./traj_feature.ipynb#sec3.3)."
   ]
  },
  {
   "cell_type": "code",
   "execution_count": 46,
   "metadata": {
    "collapsed": true
   },
   "outputs": [],
   "source": [
    "bins_pop = []"
   ]
  },
  {
   "cell_type": "code",
   "execution_count": 47,
   "metadata": {
    "collapsed": true
   },
   "outputs": [],
   "source": [
    "nbins_pop = 5\n",
    "quantiles_pop = np.round(np.linspace(0, 1, nbins_pop+1), 2)[1:-1]\n",
    "bins_pop.append(0)\n",
    "bins_pop.extend(poi_info0['popularity'].quantile(quantiles_pop))\n",
    "bins_pop.append(poi_info0['popularity'].max() + 1)\n",
    "bins_pop = np.round(bins_pop, 2)"
   ]
  },
  {
   "cell_type": "code",
   "execution_count": 48,
   "metadata": {
    "collapsed": false
   },
   "outputs": [
    {
     "data": {
      "text/plain": [
       "array([  0.,   1.,   4.,   7.,  13.,  23.])"
      ]
     },
     "execution_count": 48,
     "metadata": {},
     "output_type": "execute_result"
    }
   ],
   "source": [
    "bins_pop"
   ]
  },
  {
   "cell_type": "markdown",
   "metadata": {},
   "source": [
    "POI pair distance classes (i.e. discretization), discretization method is choosen according to [this experiment](./traj_feature.ipynb#sec3.4)."
   ]
  },
  {
   "cell_type": "code",
   "execution_count": 49,
   "metadata": {
    "collapsed": true
   },
   "outputs": [],
   "source": [
    "poi_distmat = pd.DataFrame(data=np.zeros((poi_info0.shape[0], poi_info0.shape[0]), dtype=np.float), \\\n",
    "                           index=poi_info0.index, columns=poi_info0.index)"
   ]
  },
  {
   "cell_type": "code",
   "execution_count": 50,
   "metadata": {
    "collapsed": true
   },
   "outputs": [],
   "source": [
    "def calc_dist(longitude1, latitude1, longitude2, latitude2):\n",
    "    \"\"\"Calculate the distance (unit: km) between two places on earth\"\"\"\n",
    "    # convert degrees to radians\n",
    "    lon1 = math.radians(longitude1)\n",
    "    lat1 = math.radians(latitude1)\n",
    "    lon2 = math.radians(longitude2)\n",
    "    lat2 = math.radians(latitude2)\n",
    "    radius = 6371.009 # mean earth radius is 6371.009km, en.wikipedia.org/wiki/Earth_radius#Mean_radius\n",
    "    # The haversine formula, en.wikipedia.org/wiki/Great-circle_distance\n",
    "    dlon = math.fabs(lon1 - lon2)\n",
    "    dlat = math.fabs(lat1 - lat2)\n",
    "    return 2 * radius * math.asin( math.sqrt( \\\n",
    "               (math.sin(0.5*dlat))**2 + math.cos(lat1) * math.cos(lat2) * (math.sin(0.5*dlon))**2 ))"
   ]
  },
  {
   "cell_type": "code",
   "execution_count": 51,
   "metadata": {
    "collapsed": true
   },
   "outputs": [],
   "source": [
    "for i in range(poi_info0.shape[0]):\n",
    "    for j in range(i+1, poi_info0.shape[0]):\n",
    "        poi1 = poi_info0.index[i]\n",
    "        poi2 = poi_info0.index[j]\n",
    "        dist = calc_dist(poi_info0.loc[poi1, 'poiLon'], poi_info0.loc[poi1, 'poiLat'], \\\n",
    "                         poi_info0.loc[poi2, 'poiLon'], poi_info0.loc[poi2, 'poiLat'])\n",
    "        poi_distmat.loc[poi1, poi2] = dist\n",
    "        poi_distmat.loc[poi2, poi1] = dist"
   ]
  },
  {
   "cell_type": "code",
   "execution_count": 52,
   "metadata": {
    "collapsed": false
   },
   "outputs": [],
   "source": [
    "#poi_distmat"
   ]
  },
  {
   "cell_type": "code",
   "execution_count": 53,
   "metadata": {
    "collapsed": true
   },
   "outputs": [],
   "source": [
    "bins_dist = []"
   ]
  },
  {
   "cell_type": "code",
   "execution_count": 54,
   "metadata": {
    "collapsed": false
   },
   "outputs": [],
   "source": [
    "distdata = pd.Series([poi_distmat.iloc[x, y] for x in range(poi_info0.shape[0]) for y in range(x+1, poi_info0.shape[0])])\n",
    "nbins_dist = 5\n",
    "quantiles_dist = np.round(np.linspace(0, 1, nbins_dist+1), 2)[1:-1]\n",
    "bins_dist.append(0)\n",
    "bins_dist.extend(distdata.quantile(quantiles_dist))\n",
    "bins_dist.append(round(distdata.max()) + 1)\n",
    "bins_dist = np.round(bins_dist, 2)"
   ]
  },
  {
   "cell_type": "code",
   "execution_count": 55,
   "metadata": {
    "collapsed": false
   },
   "outputs": [
    {
     "data": {
      "text/plain": [
       "array([  0.  ,   2.29,   3.68,   5.49,   7.47,  14.  ])"
      ]
     },
     "execution_count": 55,
     "metadata": {},
     "output_type": "execute_result"
    }
   ],
   "source": [
    "bins_dist"
   ]
  },
  {
   "cell_type": "markdown",
   "metadata": {},
   "source": [
    "### 5.2 Passive Learning: Random Weights"
   ]
  },
  {
   "cell_type": "code",
   "execution_count": 56,
   "metadata": {
    "collapsed": true
   },
   "outputs": [],
   "source": [
    "runRandom = True\n",
    "F1_train = []\n",
    "F1_test  = []\n",
    "weights_rand = []"
   ]
  },
  {
   "cell_type": "code",
   "execution_count": 265,
   "metadata": {
    "collapsed": false
   },
   "outputs": [],
   "source": [
    "if runRandom:\n",
    "    (poi_info, poi_cat_log_transmat, poi_pop_log_transmat, poipair_dist_log_transmat) = estimate_parameter2(\\\n",
    "     seqid_set_annotate0, poi_cats, bins_pop, bins_dist, poi_distmat, poi_all, seq_all)"
   ]
  },
  {
   "cell_type": "code",
   "execution_count": null,
   "metadata": {
    "collapsed": false
   },
   "outputs": [],
   "source": [
    "if runRandom:\n",
    "    best = 0\n",
    "    bestweight = None\n",
    "    for i in range(30):\n",
    "        weights = np.random.uniform(-1, 1, 3)\n",
    "        weights_rand.append(weights)\n",
    "        F1scores_train = evaluate_parallel(seqid_set_annotate0, weights, poi_list, poi_info, seq_all, bins_pop, \\\n",
    "                         bins_dist, poi_distmat, poi_cat_log_transmat, poi_pop_log_transmat, poipair_dist_log_transmat)\n",
    "        F1_train.append(F1scores_train)\n",
    "        print('F1 train: %.2f, %.2f' % (np.mean(F1scores_train), np.std(F1scores_train)))\n",
    "        F1scores_test  = evaluate_parallel(seqid_set_evaluate0, weights, poi_list, poi_info, seq_all, bins_pop, \\\n",
    "                         bins_dist, poi_distmat, poi_cat_log_transmat, poi_pop_log_transmat, poipair_dist_log_transmat)\n",
    "        F1_test.append(F1scores_test)\n",
    "        print('F1 test : %.2f, %.2f' % (np.mean(F1scores_test), np.std(F1scores_test)))"
   ]
  },
  {
   "cell_type": "markdown",
   "metadata": {},
   "source": [
    "Plot the random weights results."
   ]
  },
  {
   "cell_type": "code",
   "execution_count": 298,
   "metadata": {
    "collapsed": false
   },
   "outputs": [
    {
     "data": {
      "image/png": "[encoded data removed]",
      "text/plain": [
       "<matplotlib.figure.Figure at 0x7fe0f6d878d0>"
      ]
     },
     "metadata": {},
     "output_type": "display_data"
    }
   ],
   "source": [
    "if runRandom:\n",
    "    plt.figure(figsize=[20, 15])\n",
    "    #plt.boxplot(F1_train)\n",
    "    #plt.boxplot(F1_test)\n",
    "    plt.plot(np.arange(1, len(F1_train)+1), [np.mean(x) for x in F1_train], color='r', marker='o', label='training F1')\n",
    "    plt.plot(np.arange(1, len(F1_test)+1), [np.mean(x) for x in F1_test], color='g', marker='s', label='testing F1')\n",
    "    xticks = [10*x for x in range(int(round(len(F1_test), -1)/10))]\n",
    "    plt.xticks(xticks, xticks) # xticks starts from 1\n",
    "    plt.ylim([0.3, 1.1])\n",
    "    plt.xlabel('Trial with random weights')\n",
    "    plt.ylabel('F1')\n",
    "    plt.legend(loc='lower right')"
   ]
  },
  {
   "cell_type": "markdown",
   "metadata": {},
   "source": [
    "### 5.3 Passive Learning: Optimised Weights"
   ]
  },
  {
   "cell_type": "code",
   "execution_count": 364,
   "metadata": {
    "collapsed": true
   },
   "outputs": [],
   "source": [
    "(poi_info, poi_cat_log_transmat, poi_pop_log_transmat, poipair_dist_log_transmat) = estimate_parameter2(\\\n",
    "seqid_set_annotate0, poi_cats, bins_pop, bins_dist, poi_distmat, poi_all, seq_all)"
   ]
  },
  {
   "cell_type": "code",
   "execution_count": 365,
   "metadata": {
    "collapsed": false
   },
   "outputs": [
    {
     "name": "stdout",
     "output_type": "stream",
     "text": [
      "[ 0.2963127  -0.49852733  0.36535179]\n"
     ]
    }
   ],
   "source": [
    "weights0 = np.random.uniform(-1, 1, 3)\n",
    "#weights0 = np.array([0.1, 0.1, 0.1])\n",
    "print(weights0)"
   ]
  },
  {
   "cell_type": "code",
   "execution_count": 373,
   "metadata": {
    "collapsed": false
   },
   "outputs": [
    {
     "name": "stdout",
     "output_type": "stream",
     "text": [
      "Optimization terminated successfully.\n",
      "         Current function value: 32530.000000\n",
      "         Iterations: 9\n",
      "         Function evaluations: 44\n"
     ]
    }
   ],
   "source": [
    "results = fmin(func=calc_cost2, x0=weights0, maxfun=1e2, \\\n",
    "               args=(seqid_set_annotate0, poi_list, poi_info, seq_all, bins_pop, bins_dist, poi_distmat, \\\n",
    "                     poi_cat_log_transmat, poi_pop_log_transmat, poipair_dist_log_transmat))"
   ]
  },
  {
   "cell_type": "code",
   "execution_count": 377,
   "metadata": {
    "collapsed": false
   },
   "outputs": [
    {
     "name": "stdout",
     "output_type": "stream",
     "text": [
      "[ 0.2963127  -0.49852733  0.36535179]\n"
     ]
    }
   ],
   "source": [
    "print(results)"
   ]
  },
  {
   "cell_type": "markdown",
   "metadata": {},
   "source": [
    "The same weights as the initial guess. The optimisation seems not working as expected."
   ]
  },
  {
   "cell_type": "code",
   "execution_count": 359,
   "metadata": {
    "collapsed": false
   },
   "outputs": [
    {
     "name": "stdout",
     "output_type": "stream",
     "text": [
      "[-0.85155365 -0.72265802 -0.73252187]\n",
      "x: [-0.85155365 -0.72265802 -0.73252187]\n",
      "f: 37000.0\n",
      "d: {'task': b'CONVERGENCE: NORM_OF_PROJECTED_GRADIENT_<=_PGTOL', 'nit': 0, 'grad': array([ 0.,  0.,  0.]), 'warnflag': 0, 'funcalls': 4}\n"
     ]
    }
   ],
   "source": [
    "# x just doesn't move at all, 0 iterations\n",
    "#optres = minimize(fun=calc_cost1, x0=weights0, method='L-BFGS-B', jac=False, bounds=((-1, 1), (-1, 1), (-1, 1)), \\\n",
    "#                  args=(seqid_set_annotate0, poi_list, poi_info, seq_all, bins_pop, bins_dist, poi_distmat, \\\n",
    "#                        poi_cat_log_transmat, poi_pop_log_transmat, poipair_dist_log_transmat))\n",
    "#(x, f, d) = fmin_l_bfgs_b(func=calc_cost1, x0=weights0, approx_grad=True, epsilon=1e-6, \\\n",
    "#                          bounds=[(-1, 1), (-1, 1), (-1, 1)], \\\n",
    "#                          args=(seqid_set_annotate0, poi_list, poi_info, seq_all, bins_pop, bins_dist, poi_distmat, \\\n",
    "#                                poi_cat_log_transmat, poi_pop_log_transmat, poipair_dist_log_transmat))\n",
    "#print('x:', x)\n",
    "#print('f:', f)\n",
    "#print('d:', d)"
   ]
  },
  {
   "cell_type": "code",
   "execution_count": 351,
   "metadata": {
    "collapsed": true
   },
   "outputs": [],
   "source": [
    "optFound = False"
   ]
  },
  {
   "cell_type": "code",
   "execution_count": 352,
   "metadata": {
    "collapsed": false
   },
   "outputs": [
    {
     "name": "stdout",
     "output_type": "stream",
     "text": [
      "optimal weights found: [ 0.93373706 -0.11054203 -0.27024967]\n",
      "status: 0\n",
      "message: b'CONVERGENCE: NORM_OF_PROJECTED_GRADIENT_<=_PGTOL'\n",
      "#iteration: 0\n"
     ]
    }
   ],
   "source": [
    "#if optres.success:\n",
    "#    optFound = True\n",
    "#    print('optimal weights found:', optres.x)\n",
    "#else:\n",
    "#    print('optimisation failed!')\n",
    "#print('status:', optres.status)\n",
    "#print('message:', optres.message)\n",
    "#print('#iteration:', optres.nit)"
   ]
  },
  {
   "cell_type": "code",
   "execution_count": 331,
   "metadata": {
    "collapsed": false
   },
   "outputs": [
    {
     "name": "stdout",
     "output_type": "stream",
     "text": [
      "F1 train: 0.71, 0.17\n",
      "F1 test : 0.67, 0.14\n"
     ]
    }
   ],
   "source": [
    "if optFound:\n",
    "    #weights = optres.x\n",
    "    weights = results[0]\n",
    "    F1scores_train = evaluate_parallel(seqid_set_annotate0, weights, poi_list, poi_info, seq_all, bins_pop, \\\n",
    "                     bins_dist, poi_distmat, poi_cat_log_transmat, poi_pop_log_transmat, poipair_dist_log_transmat)\n",
    "    print('F1 train: %.2f, %.2f' % (np.mean(F1scores_train), np.std(F1scores_train)))\n",
    "    F1scores_test  = evaluate_parallel(seqid_set_evaluate0, weights, poi_list, poi_info, seq_all, bins_pop, \\\n",
    "                     bins_dist, poi_distmat, poi_cat_log_transmat, poi_pop_log_transmat, poipair_dist_log_transmat)\n",
    "    print('F1 test : %.2f, %.2f' % (np.mean(F1scores_test), np.std(F1scores_test)))"
   ]
  },
  {
   "cell_type": "markdown",
   "metadata": {},
   "source": [
    "Use a naive iterative random guessing procedure to optimise, return the best guessing."
   ]
  },
  {
   "cell_type": "code",
   "execution_count": 414,
   "metadata": {
    "collapsed": true
   },
   "outputs": [],
   "source": [
    "def optimise_weight(weights0, seqid_set, poi_list, poi_info, seq_all, bins_pop, bins_dist, poi_distmat, \\\n",
    "                    poi_cat_log_transmat, poi_pop_log_transmat, poipair_dist_log_transmat):\n",
    "    t1 = datetime.now()\n",
    "    #results = fmin_powell(func=calc_cost2, x0=weights0, \\\n",
    "    #                      args=(seqid_set_annotate0, poi_list, poi_info, seq_all, bins_pop, bins_dist, poi_distmat, \\\n",
    "    #                            poi_cat_log_transmat, poi_pop_log_transmat, poipair_dist_log_transmat))\n",
    "    #return results\n",
    "    best = 0\n",
    "    bestweights = []\n",
    "    for i in range(30):\n",
    "        weights = np.random.uniform(-1, 1, 3)\n",
    "        F1scores_train = evaluate_parallel(seqid_set_annotate0, weights, poi_list, poi_info, seq_all, bins_pop, \\\n",
    "                         bins_dist, poi_distmat, poi_cat_log_transmat, poi_pop_log_transmat, poipair_dist_log_transmat)\n",
    "        meanF1 = np.mean(F1scores_train)\n",
    "        if meanF1 > best:\n",
    "            best = meanF1\n",
    "            bestweights = weights\n",
    "    print('%d seconds used' % (datetime.now()-t1).total_seconds())\n",
    "    return bestweights"
   ]
  },
  {
   "cell_type": "markdown",
   "metadata": {},
   "source": [
    "### 5.2 Random Baseline"
   ]
  },
  {
   "cell_type": "markdown",
   "metadata": {},
   "source": [
    "Query strategy: choose a random example in annotation set to query (passive learning)."
   ]
  },
  {
   "cell_type": "markdown",
   "metadata": {},
   "source": [
    "Make a copy of annotation set and use the copy."
   ]
  },
  {
   "cell_type": "code",
   "execution_count": 57,
   "metadata": {
    "collapsed": true
   },
   "outputs": [],
   "source": [
    "seqid_set_training = []\n",
    "seqid_set_annotate = list(seqid_set_annotate0)\n",
    "seqid_set_evaluate = list(seqid_set_evaluate0)\n",
    "weights0 = np.random.uniform(-1, 1, 3)"
   ]
  },
  {
   "cell_type": "code",
   "execution_count": 58,
   "metadata": {
    "collapsed": true
   },
   "outputs": [],
   "source": [
    "query_order = np.arange(len(seqid_set_annotate))\n",
    "np.random.shuffle(query_order)"
   ]
  },
  {
   "cell_type": "code",
   "execution_count": 59,
   "metadata": {
    "collapsed": true
   },
   "outputs": [],
   "source": [
    "F1_scores_rand = []\n",
    "seq_order_rand = []"
   ]
  },
  {
   "cell_type": "code",
   "execution_count": 60,
   "metadata": {
    "collapsed": true
   },
   "outputs": [],
   "source": [
    "doCompute = True"
   ]
  },
  {
   "cell_type": "code",
   "execution_count": 61,
   "metadata": {
    "collapsed": true
   },
   "outputs": [],
   "source": [
    "if os.path.exists(frand) and os.path.exists(forand):\n",
    "    doCompute = False\n",
    "    F1_scores_rand = pickle.load(open(frand, 'rb'))\n",
    "    seq_order_rand = pickle.load(open(forand, 'rb'))"
   ]
  },
  {
   "cell_type": "markdown",
   "metadata": {},
   "source": [
    "Sanity check: should be uniform transitions."
   ]
  },
  {
   "cell_type": "code",
   "execution_count": 62,
   "metadata": {
    "collapsed": false
   },
   "outputs": [],
   "source": [
    "#(poi_info, poi_cat_log_transmat, poi_pop_log_transmat, poipair_dist_log_transmat) = estimate_parameter1(\\\n",
    "#seqid_set_training, poi_cats, bins_pop, bins_dist, poi_distmat, poi_all, seq_all)"
   ]
  },
  {
   "cell_type": "code",
   "execution_count": 63,
   "metadata": {
    "collapsed": false
   },
   "outputs": [],
   "source": [
    "#poi_info\n",
    "#poi_cat_log_transmat\n",
    "#poi_pop_log_transmat\n",
    "#poipair_dist_log_transmat"
   ]
  },
  {
   "cell_type": "markdown",
   "metadata": {},
   "source": [
    "Sanity check: recommend by random guessing, different F1 for different run."
   ]
  },
  {
   "cell_type": "code",
   "execution_count": 67,
   "metadata": {
    "collapsed": false
   },
   "outputs": [
    {
     "name": "stdout",
     "output_type": "stream",
     "text": [
      "F1 mean: 0.67, std: 0.14\n",
      "[0.6666666666666666, 0.6666666666666666, 0.6666666666666666, 1.0, 0.6666666666666666, 0.6666666666666666, 0.5, 0.5, 0.6666666666666666]\n"
     ]
    }
   ],
   "source": [
    "F1scores = evaluate_random(seqid_set_evaluate, poi_list, seq_all)\n",
    "print('F1 mean: %.2f, std: %.2f' % (np.mean(F1scores), np.std(F1scores)))\n",
    "print(F1scores)"
   ]
  },
  {
   "cell_type": "markdown",
   "metadata": {},
   "source": [
    "Sanity check: evaluate using the first example in test set."
   ]
  },
  {
   "cell_type": "code",
   "execution_count": 68,
   "metadata": {
    "collapsed": false
   },
   "outputs": [],
   "source": [
    "if doCompute:\n",
    "    seqid = seqid_set_evaluate[0]\n",
    "    seq_act = extract_seq(seqid, seq_all)\n",
    "    seq_rec_df = recommend_trajectory(seq_act[0], seq_act[-1], len(seq_act), weights0, poi_list, poi_info, bins_pop, \\\n",
    "                 bins_dist, poi_distmat, poi_cat_log_transmat, poi_pop_log_transmat, poipair_dist_log_transmat)\n",
    "    seq_rec = parse_seqstr(seq_rec_df.iloc[0]['sequence']) # choose the one with max posterior\n",
    "    F1 = calc_F1score(seq_act, seq_rec) \n",
    "    print('Actual: %-23s  Recommended: %-23s F1: %.2f' % (str(seq_act), str(seq_rec), F1))\n",
    "    seq_rec_df"
   ]
  },
  {
   "cell_type": "markdown",
   "metadata": {},
   "source": [
    "Estimate parameters using the initial training set."
   ]
  },
  {
   "cell_type": "code",
   "execution_count": 69,
   "metadata": {
    "collapsed": false
   },
   "outputs": [],
   "source": [
    "if doCompute:\n",
    "    (poi_info, poi_cat_log_transmat, poi_pop_log_transmat, poipair_dist_log_transmat) = estimate_parameter1(\\\n",
    "     seqid_set_training, poi_cats, bins_pop, bins_dist, poi_distmat, poi_all, seq_all)"
   ]
  },
  {
   "cell_type": "markdown",
   "metadata": {},
   "source": [
    "Recommend trajectories using the initial training set and evaluate on test set."
   ]
  },
  {
   "cell_type": "code",
   "execution_count": 70,
   "metadata": {
    "collapsed": false,
    "scrolled": true
   },
   "outputs": [],
   "source": [
    "if doCompute:\n",
    "    # no tie-breaking when sorting in recommend_trajectory()\n",
    "    #F1scores = evaluate_parallel(seqid_set_evaluate, weights0, poi_list, poi_info, seq_all, bins_pop, \\\n",
    "    #                 bins_dist, poi_distmat, poi_cat_log_transmat, poi_pop_log_transmat, poipair_dist_log_transmat)\n",
    "    F1scores = evaluate_random(seqid_set_evaluate, poi_list, seq_all)\n",
    "    F1_scores_rand.append(F1scores)\n",
    "    print('Evaluation 0, F1 mean: %.2f, std: %.2f' % (np.mean(F1_scores_rand[-1]), np.std(F1_scores_rand[-1])))\n",
    "    sys.stdout.flush()"
   ]
  },
  {
   "cell_type": "markdown",
   "metadata": {},
   "source": [
    "Evaluate the baseline on test set using random query strategy."
   ]
  },
  {
   "cell_type": "code",
   "execution_count": 413,
   "metadata": {
    "collapsed": false
   },
   "outputs": [
    {
     "name": "stdout",
     "output_type": "stream",
     "text": [
      "Evaluation 1 /37, F1 mean: 0.67, std: 0.14\n",
      "Evaluation 2 /37, F1 mean: 0.73, std: 0.16\n",
      "Evaluation 3 /37, F1 mean: 0.67, std: 0.14\n",
      "Evaluation 4 /37, F1 mean: 0.63, std: 0.07\n",
      "Evaluation 5 /37, F1 mean: 0.63, std: 0.07\n",
      "Evaluation 6 /37, F1 mean: 0.73, std: 0.16\n",
      "Evaluation 7 /37, F1 mean: 0.73, std: 0.16\n",
      "Evaluation 8 /37, F1 mean: 0.67, std: 0.14\n",
      "Evaluation 9 /37, F1 mean: 0.67, std: 0.14\n",
      "Evaluation 10/37, F1 mean: 0.70, std: 0.17\n",
      "Evaluation 11/37, F1 mean: 0.69, std: 0.12\n",
      "Evaluation 12/37, F1 mean: 0.69, std: 0.12\n",
      "Evaluation 13/37, F1 mean: 0.73, std: 0.16\n",
      "Evaluation 14/37, F1 mean: 0.73, std: 0.16\n",
      "Evaluation 15/37, F1 mean: 0.73, std: 0.16\n",
      "Evaluation 16/37, F1 mean: 0.73, std: 0.16\n",
      "Evaluation 17/37, F1 mean: 0.74, std: 0.19\n",
      "Evaluation 18/37, F1 mean: 0.70, std: 0.17\n",
      "Evaluation 19/37, F1 mean: 0.66, std: 0.06\n",
      "Evaluation 20/37, F1 mean: 0.78, std: 0.21\n",
      "Evaluation 21/37, F1 mean: 0.74, std: 0.19\n",
      "Evaluation 22/37, F1 mean: 0.70, std: 0.17\n",
      "Evaluation 23/37, F1 mean: 0.74, std: 0.19\n",
      "Evaluation 24/37, F1 mean: 0.67, std: 0.14\n",
      "Evaluation 25/37, F1 mean: 0.67, std: 0.14\n",
      "Evaluation 26/37, F1 mean: 0.70, std: 0.17\n",
      "Evaluation 27/37, F1 mean: 0.70, std: 0.17\n",
      "Evaluation 28/37, F1 mean: 0.70, std: 0.17\n",
      "Evaluation 29/37, F1 mean: 0.70, std: 0.17\n",
      "Evaluation 30/37, F1 mean: 0.67, std: 0.14\n",
      "Evaluation 31/37, F1 mean: 0.67, std: 0.14\n",
      "Evaluation 32/37, F1 mean: 0.67, std: 0.14\n",
      "Evaluation 33/37, F1 mean: 0.67, std: 0.14\n",
      "Evaluation 34/37, F1 mean: 0.67, std: 0.14\n",
      "Evaluation 35/37, F1 mean: 0.67, std: 0.14\n",
      "Evaluation 36/37, F1 mean: 0.70, std: 0.17\n",
      "Evaluation 37/37, F1 mean: 0.70, std: 0.17\n"
     ]
    }
   ],
   "source": [
    "if doCompute:\n",
    "    n = 1\n",
    "    weights = weights0\n",
    "    for idx in query_order:\n",
    "        # choose sequence to query\n",
    "        seqid = seqid_set_annotate[idx]\n",
    "        \n",
    "        # add query result to training set, here just add the sequence id to training set\n",
    "        seq_order_rand.append(seqid)\n",
    "        seqid_set_training.append(seqid)\n",
    "        \n",
    "        # estimate parameters using current training set\n",
    "        (poi_info, poi_cat_log_transmat, poi_pop_log_transmat, poipair_dist_log_transmat) = estimate_parameter1(\\\n",
    "        seqid_set_training, poi_cats, bins_pop, bins_dist, poi_distmat, poi_all, seq_all, \\\n",
    "        poi_cat_log_transmat, poi_pop_log_transmat, poipair_dist_log_transmat)\n",
    "        \n",
    "        # optimise weights\n",
    "        weights = optimise_weight(weights, seqid_set_training, poi_list, poi_info, seq_all, bins_pop, bins_dist, \\\n",
    "                                  poi_distmat, poi_cat_log_transmat, poi_pop_log_transmat, poipair_dist_log_transmat)\n",
    "        \n",
    "        # evaluate on test set\n",
    "        F1scores = evaluate_parallel(seqid_set_evaluate, weights, poi_list, poi_info, seq_all, bins_pop, bins_dist, \\\n",
    "                                     poi_distmat, poi_cat_log_transmat, poi_pop_log_transmat, poipair_dist_log_transmat)\n",
    "        F1_scores_rand.append(F1scores)\n",
    "        print('Evaluation %-2d/%d, F1 mean: %.2f, std: %.2f' % \\\n",
    "              (n, len(seqid_set_annotate0), np.mean(F1_scores_rand[-1]), np.std(F1_scores_rand[-1])))\n",
    "        sys.stdout.flush()\n",
    "        n += 1\n",
    "        \n",
    "    pickle.dump(F1_scores_rand, open(frand, 'wb'))\n",
    "    pickle.dump(seq_order_rand, open(forand, 'wb'))"
   ]
  },
  {
   "cell_type": "markdown",
   "metadata": {},
   "source": [
    "Plot the learning curve."
   ]
  },
  {
   "cell_type": "code",
   "execution_count": 71,
   "metadata": {
    "collapsed": false
   },
   "outputs": [
    {
     "data": {
      "text/plain": [
       "<matplotlib.text.Text at 0x7efd68886f98>"
      ]
     },
     "execution_count": 71,
     "metadata": {},
     "output_type": "execute_result"
    },
    {
     "data": {
      "image/png": "[encoded data removed]",
      "text/plain": [
       "<matplotlib.figure.Figure at 0x7efd37095dd8>"
      ]
     },
     "metadata": {},
     "output_type": "display_data"
    }
   ],
   "source": [
    "plt.figure(figsize=[15, 10])\n",
    "plt.boxplot(F1_scores_rand)\n",
    "plt.plot(np.arange(1, len(F1_scores_rand)+1), [np.mean(x) for x in F1_scores_rand], color='g', marker='o')\n",
    "#plt.plot(np.arange(len(seqid_set_annotate)+1), F1_random, marker='s', color='g', linestyle='--', label='random baseline')\n",
    "#plt.errorbar(np.arange(len(seqid_set_annotate0)+1), F1_mean_rand, yerr=F1_std_rand, color='g', \\\n",
    "#             linestyle='--', marker='s', label='random baseline')\n",
    "plt.ylim([0.3, 1.1])\n",
    "xticks = [10*x for x in range(int(round(len(F1_scores_rand), -1)/10))]\n",
    "plt.xticks(xticks, xticks) # xticks starts from 1\n",
    "plt.xlabel('#query')\n",
    "plt.ylabel('mean F1')\n",
    "#plt.legend(loc='lower right')"
   ]
  },
  {
   "cell_type": "markdown",
   "metadata": {},
   "source": [
    "### 5.3 Least Confident Strategy"
   ]
  },
  {
   "cell_type": "markdown",
   "metadata": {},
   "source": [
    "Query Strategy:\n",
    "\\begin{equation}\n",
    "\\phi^{LC}(\\textbf{x}) = 1 - P(\\textbf{y}^* | \\textbf{x}; \\Theta)\n",
    "\\end{equation}\n",
    "where $\\textbf{y}^*$ is the most likely label of example $\\textbf{x}$ with respect to a probabilistic model of which the parameters are denoted by $\\Theta$.  \n",
    "This query strategy select the example $\\textbf{x}$ of maximum $\\phi^{LC}$ from all unlabelled examples in a pool to query."
   ]
  },
  {
   "cell_type": "markdown",
   "metadata": {},
   "source": [
    "**Problem**:\n",
    "- This query strategy biases to sequences with more POIs, as the number of candidate trajectories grows exponentially as the number of POIs specified, the probability of the most likely candidate trajectory becomes smaller and smaller."
   ]
  },
  {
   "cell_type": "markdown",
   "metadata": {},
   "source": [
    "Make a copy of training set and annotation set and use the copies."
   ]
  },
  {
   "cell_type": "code",
   "execution_count": 72,
   "metadata": {
    "collapsed": true
   },
   "outputs": [],
   "source": [
    "seqid_set_training = []\n",
    "seqid_set_annotate = list(seqid_set_annotate0)\n",
    "seqid_set_evaluate = list(seqid_set_evaluate0)"
   ]
  },
  {
   "cell_type": "code",
   "execution_count": 73,
   "metadata": {
    "collapsed": true
   },
   "outputs": [],
   "source": [
    "F1_scores_lc = []\n",
    "seq_order_lc = []"
   ]
  },
  {
   "cell_type": "code",
   "execution_count": 74,
   "metadata": {
    "collapsed": true
   },
   "outputs": [],
   "source": [
    "doCompute = True"
   ]
  },
  {
   "cell_type": "code",
   "execution_count": 75,
   "metadata": {
    "collapsed": true
   },
   "outputs": [],
   "source": [
    "if os.path.exists(flc) and os.path.exists(folc):\n",
    "    doCompute = False\n",
    "    F1_scores_lc = pickle.load(open(flc, 'rb'))\n",
    "    seq_order_lc = pickle.load(open(folc, 'rb'))"
   ]
  },
  {
   "cell_type": "markdown",
   "metadata": {},
   "source": [
    "Sanity check."
   ]
  },
  {
   "cell_type": "code",
   "execution_count": 76,
   "metadata": {
    "collapsed": false
   },
   "outputs": [],
   "source": [
    "#(poi_info, poi_cat_transmat_log, poi_pop_transmat_log, poipair_distclass_mat, poipair_dist_transmat_log) = \\\n",
    "#estimate_parameter(seqid_set_training, poi_all, seq_all)"
   ]
  },
  {
   "cell_type": "code",
   "execution_count": 77,
   "metadata": {
    "collapsed": false
   },
   "outputs": [],
   "source": [
    "#print(poi_info)\n",
    "#print(poi_cat_transmat_log)\n",
    "#print(poi_pop_transmat_log)"
   ]
  },
  {
   "cell_type": "code",
   "execution_count": 78,
   "metadata": {
    "collapsed": false
   },
   "outputs": [],
   "source": [
    "#seq_act = [8, 19, 22]\n",
    "#seq_rec_df = recommend_trajectory(seq_act[0], seq_act[-1], len(seq_act), poi_info, poi_cat_transmat_log, \\\n",
    "#                                  poi_pop_transmat_log, poipair_distclass_mat, poipair_dist_transmat_log)\n",
    "#print(seq_act); print(seq_rec_df); print(); sys.stdout.flush()"
   ]
  },
  {
   "cell_type": "markdown",
   "metadata": {},
   "source": [
    "Recommend trajectories using the initial training set and evaluate on test set."
   ]
  },
  {
   "cell_type": "code",
   "execution_count": 79,
   "metadata": {
    "collapsed": false
   },
   "outputs": [],
   "source": [
    "if doCompute:\n",
    "    (poi_info, poi_cat_log_transmat, poi_pop_log_transmat, poipair_dist_log_transmat) = estimate_parameter1(\\\n",
    "     seqid_set_training, poi_cats, bins_pop, bins_dist, poi_distmat, poi_all, seq_all)\n",
    "    #F1scores = evaluate_parallel(seqid_set_evaluate, weights0, poi_list, poi_info, seq_all, bins_pop, \\\n",
    "    #           bins_dist, poi_distmat, poi_cat_log_transmat, poi_pop_log_transmat, poipair_dist_log_transmat)\n",
    "    F1scores = evaluate_random(seqid_set_evaluate, poi_list, seq_all)\n",
    "    F1_scores_lc.append(F1scores)\n",
    "    print('Evaluation 0, F1 mean: %.2f, std: %.2f' % (np.mean(F1_scores_lc[-1]), np.std(F1_scores_lc[-1])))\n",
    "    sys.stdout.flush()"
   ]
  },
  {
   "cell_type": "markdown",
   "metadata": {},
   "source": [
    "Evaluate on test set using least confident query strategy."
   ]
  },
  {
   "cell_type": "code",
   "execution_count": 80,
   "metadata": {
    "collapsed": false
   },
   "outputs": [],
   "source": [
    "if doCompute:\n",
    "    n = 1\n",
    "    seqs_annotate = [extract_seq(seqid, seq_all) for seqid in seqid_set_annotate]\n",
    "    weights = weights0\n",
    "    # repeat until all sequences in annotation set have been queried \n",
    "    while len(seqid_set_annotate) > 0:\n",
    "        # parallel\n",
    "        seq_rec_df_list = Parallel(n_jobs=-2)(delayed(recommend_trajectory)\\\n",
    "                          (seq[0], seq[-1], len(seq), weights, poi_list, poi_info, bins_pop, bins_dist, poi_distmat, \\\n",
    "                           poi_cat_log_transmat, poi_pop_log_transmat, poipair_dist_log_transmat) \\\n",
    "                          for seq in seqs_annotate)\n",
    "        maxprobs = np.array([seq_rec_df.iloc[0]['probability'] for seq_rec_df in seq_rec_df_list])\n",
    "        assert(np.any(np.isnan(maxprobs)) == False) # No NaN value\n",
    "        #lc = 1 - maxprobs; seq_idx = np.argmax(lc)\n",
    "        seq_idx = np.argmin(maxprobs)\n",
    "\n",
    "        # add query result to training set, here just add the sequence id to training set\n",
    "        seq_order_lc.append(seqid_set_annotate[seq_idx])\n",
    "        seqid_set_training.append(seqid_set_annotate[seq_idx])\n",
    "        print('Choose sequence %23s, LC: %.4f' % (str(seqs_annotate[seq_idx]), 1-maxprobs[seq_idx])); sys.stdout.flush()\n",
    "\n",
    "        # remove the selected example from annotation set\n",
    "        del seqid_set_annotate[seq_idx]\n",
    "        del seqs_annotate[seq_idx]\n",
    "\n",
    "        # estimate parameters using current training set\n",
    "        (poi_info, poi_cat_log_transmat, poi_pop_log_transmat, poipair_dist_log_transmat) = estimate_parameter1(\\\n",
    "        seqid_set_training, poi_cats, bins_pop, bins_dist, poi_distmat, poi_all, seq_all, \\\n",
    "        poi_cat_log_transmat, poi_pop_log_transmat, poipair_dist_log_transmat)\n",
    "        \n",
    "        # optimise weights\n",
    "        weights = optimise_weight(weights, seqid_set_training, poi_list, poi_info, seq_all, bins_pop, bins_dist, \\\n",
    "                                  poi_distmat, poi_cat_log_transmat, poi_pop_log_transmat, poipair_dist_log_transmat)\n",
    " \n",
    "        # evaluate on test set\n",
    "        F1scores = evaluate_parallel(seqid_set_evaluate, weights, poi_list, poi_info, seq_all, bins_pop, bins_dist, \\\n",
    "                                     poi_distmat, poi_cat_log_transmat, poi_pop_log_transmat, poipair_dist_log_transmat)\n",
    "\n",
    "        F1_scores_lc.append(F1scores)\n",
    "        print('Evaluation %-3d/%d, F1 mean: %.2f, std: %.2f' % \\\n",
    "              (n, len(seqid_set_annotate0), np.mean(F1_scores_lc[-1]), np.std(F1_scores_lc[-1])))\n",
    "        sys.stdout.flush()\n",
    "        n += 1\n",
    "        \n",
    "    pickle.dump(F1_scores_lc, open(flc, 'wb'))\n",
    "    pickle.dump(seq_order_lc, open(folc, 'wb'))"
   ]
  },
  {
   "cell_type": "markdown",
   "metadata": {},
   "source": [
    "Plot the learning curve."
   ]
  },
  {
   "cell_type": "code",
   "execution_count": 81,
   "metadata": {
    "collapsed": false
   },
   "outputs": [
    {
     "data": {
      "text/plain": [
       "<matplotlib.text.Text at 0x7efd684d3128>"
      ]
     },
     "execution_count": 81,
     "metadata": {},
     "output_type": "execute_result"
    },
    {
     "data": {
      "image/png": "[encoded data removed]",
      "text/plain": [
       "<matplotlib.figure.Figure at 0x7efd68157668>"
      ]
     },
     "metadata": {},
     "output_type": "display_data"
    }
   ],
   "source": [
    "plt.figure(figsize=[15, 10])\n",
    "plt.boxplot(F1_scores_lc, labels=np.arange(len(F1_scores_lc)))\n",
    "plt.plot(np.arange(1, len(F1_scores_lc)+1), [np.mean(x) for x in F1_scores_lc], color='g', marker='o')\n",
    "#plt.errorbar(np.arange(len(seqid_set_annotate0)+1), F1_mean_lc, yerr=F1_std_lc, \\\n",
    "#             linestyle='--', marker='s', label='least confident')\n",
    "xticks = [10*x for x in range(int(round(len(F1_scores_lc), -1)/10))]\n",
    "plt.xticks(xticks, xticks) # xticks starts from 1\n",
    "plt.ylim([0.3, 1.1])\n",
    "plt.xlabel('#query')\n",
    "plt.ylabel('mean F1')\n",
    "#plt.legend(loc='lower right')"
   ]
  },
  {
   "cell_type": "markdown",
   "metadata": {},
   "source": [
    "### 5.4 Maximum Sequence Entropy Strategy"
   ]
  },
  {
   "cell_type": "markdown",
   "metadata": {},
   "source": [
    "\\begin{equation}\n",
    "\\phi^{SE}(\\textbf{x}) = - \\sum_{\\hat{\\textbf{y}}} P(\\hat{\\textbf{y}} | \\textbf{x}; \\Theta) \n",
    "\\log(P(\\hat{\\textbf{y}} | \\textbf{x}; \\Theta))\n",
    "\\end{equation}\n",
    "where $\\hat{\\textbf{y}}$ ranges over all possible labels for example $\\textbf{x}$.  \n",
    "**Note** that the number of possible labels grows exponentially with $|Traj|$ in $\\textbf{x}$, to make computation feasible,\n",
    "[Kim06](http://www.aclweb.org/anthology/N06-2018) used the $N$-best possible labels to approximate, concretely, \n",
    "define **N-best Sequence Entropy** as\n",
    "\\begin{equation}\n",
    "\\phi^{NSE}(\\textbf{x}) = - \\sum_{\\hat{\\textbf{y}} \\in \\mathcal{N}} P(\\hat{\\textbf{y}} | \\textbf{x}; \\Theta) \n",
    "\\log(P(\\hat{\\textbf{y}} | \\textbf{x}; \\Theta))\n",
    "\\end{equation}\n",
    "where $\\mathcal{N} = \\{\\textbf{y}_1^*, \\dots, \\textbf{y}_N^*\\}$ is the set of the $N$ most likely labels of example $\\textbf{x}$.  \n",
    "This query strategy select the example $\\textbf{x}$ of maximum $\\phi^{SE}$ or $\\phi^{NSE}$ from all unlabelled examples in a pool to query."
   ]
  },
  {
   "cell_type": "markdown",
   "metadata": {},
   "source": [
    "Make a copy of training set and annotation set and use the copies."
   ]
  },
  {
   "cell_type": "code",
   "execution_count": 82,
   "metadata": {
    "collapsed": true
   },
   "outputs": [],
   "source": [
    "seqid_set_training = []\n",
    "seqid_set_annotate = list(seqid_set_annotate0)\n",
    "seqid_set_evaluate = list(seqid_set_evaluate0)"
   ]
  },
  {
   "cell_type": "code",
   "execution_count": 83,
   "metadata": {
    "collapsed": true
   },
   "outputs": [],
   "source": [
    "F1_scores_se = []\n",
    "seq_order_se = []"
   ]
  },
  {
   "cell_type": "code",
   "execution_count": 84,
   "metadata": {
    "collapsed": true
   },
   "outputs": [],
   "source": [
    "doCompute = True"
   ]
  },
  {
   "cell_type": "code",
   "execution_count": 91,
   "metadata": {
    "collapsed": true
   },
   "outputs": [],
   "source": [
    "if os.path.exists(fse) and os.path.exists(fose):\n",
    "    doCompute = False\n",
    "    F1_scores_se = pickle.load(open(fse, 'rb'))\n",
    "    seq_order_se = pickle.load(open(fose, 'rb'))"
   ]
  },
  {
   "cell_type": "markdown",
   "metadata": {},
   "source": [
    "Recommend trajectories using the initial training set and evaluate on test set."
   ]
  },
  {
   "cell_type": "code",
   "execution_count": 92,
   "metadata": {
    "collapsed": false
   },
   "outputs": [],
   "source": [
    "if doCompute:\n",
    "    (poi_info, poi_cat_log_transmat, poi_pop_log_transmat, poipair_dist_log_transmat) = estimate_parameter1(\\\n",
    "     seqid_set_training, poi_cats, bins_pop, bins_dist, poi_distmat, poi_all, seq_all)\n",
    "    #F1scores = evaluate_parallel(seqid_set_evaluate, weights0, poi_list, poi_info, seq_all, bins_pop, \\\n",
    "    #           bins_dist, poi_distmat, poi_cat_log_transmat, poi_pop_log_transmat, poipair_dist_log_transmat)\n",
    "    F1scores = evaluate_random(seqid_set_evaluate, poi_list, seq_all)\n",
    "    F1_scores_se.append(F1scores)\n",
    "    print('Evaluation 0, F1 mean: %.2f, std: %.2f' % (np.mean(F1_scores_se[-1]), np.std(F1_scores_se[-1])))\n",
    "    sys.stdout.flush()"
   ]
  },
  {
   "cell_type": "markdown",
   "metadata": {},
   "source": [
    "Compute sequence entropy."
   ]
  },
  {
   "cell_type": "code",
   "execution_count": 93,
   "metadata": {
    "collapsed": false
   },
   "outputs": [],
   "source": [
    "def calc_sequence_entropy(start, end, length, weights, poi_list, poi_info, poi_all, bins_pop, bins_dist, poi_distmat,\\\n",
    "                          poi_cat_log_transmat, poi_pop_log_transmat, poipair_dist_log_transmat):\n",
    "    # enumerate trajectory\n",
    "    enum_seqs = enum_seq345(start, end, length, poi_list)\n",
    "\n",
    "    # sequential\n",
    "    logL = []\n",
    "    for seq in enum_seqs:\n",
    "        logl = calc_seq_loglikelihood(seq, weights, poi_all, poi_info, bins_pop, bins_dist, poi_distmat, \\\n",
    "                                      poi_cat_log_transmat, poi_pop_log_transmat, poipair_dist_log_transmat)\n",
    "        logL.append(logl)\n",
    "    \n",
    "    probs = np.array(logL)\n",
    "    probs = np.exp(probs)\n",
    "    probs /= np.sum(probs) # normalise\n",
    "    \n",
    "    return -1 * np.dot(probs, np.log(probs))"
   ]
  },
  {
   "cell_type": "markdown",
   "metadata": {},
   "source": [
    "Evaluate on test set using sequence entropy query strategy."
   ]
  },
  {
   "cell_type": "code",
   "execution_count": 94,
   "metadata": {
    "collapsed": false
   },
   "outputs": [],
   "source": [
    "if doCompute:\n",
    "    n = 1\n",
    "    weights = weights0\n",
    "    seqs_annotate = [extract_seq(seqid, seq_all) for seqid in seqid_set_annotate]\n",
    "    # repeat until all sequences in annotation set have been queried \n",
    "    while len(seqid_set_annotate) > 0:\n",
    "        # choose sequence to query\n",
    "        seq_entropy_list = Parallel(n_jobs=-2)(delayed(calc_sequence_entropy)\\\n",
    "                           (seq[0], seq[-1], len(seq), weights, poi_list, poi_info, poi_all, bins_pop, bins_dist, \\\n",
    "                            poi_distmat, poi_cat_log_transmat, poi_pop_log_transmat, poipair_dist_log_transmat) \\\n",
    "                           for seq in seqs_annotate)\n",
    "        assert(np.any(np.isnan(np.array(seq_entropy_list))) == False) # No NaN value\n",
    "        seq_idx = np.argmax(np.array(seq_entropy_list))\n",
    "\n",
    "        # add query result to training set, here just add the sequence id to training set\n",
    "        seq_order_se.append(seqid_set_annotate[seq_idx])\n",
    "        seqid_set_training.append(seqid_set_annotate[seq_idx])\n",
    "        print('Choose sequence %23s, SE: %.4f' % (str(seqs_annotate[seq_idx]), seq_entropy_list[seq_idx]))\n",
    "        sys.stdout.flush()\n",
    "\n",
    "        # remove the selected example from annotation set\n",
    "        del seqid_set_annotate[seq_idx]\n",
    "        del seqs_annotate[seq_idx]\n",
    "\n",
    "        # estimate parameters using current training set\n",
    "        (poi_info, poi_cat_log_transmat, poi_pop_log_transmat, poipair_dist_log_transmat) = estimate_parameter1(\\\n",
    "        seqid_set_training, poi_cats, bins_pop, bins_dist, poi_distmat, poi_all, seq_all, \\\n",
    "        poi_cat_log_transmat, poi_pop_log_transmat, poipair_dist_log_transmat)\n",
    "        \n",
    "        # optimise weights\n",
    "        weights = optimise_weight(weights, seqid_set_training, poi_list, poi_info, seq_all, bins_pop, bins_dist, \\\n",
    "                                  poi_distmat, poi_cat_log_transmat, poi_pop_log_transmat, poipair_dist_log_transmat)\n",
    " \n",
    "        # evaluate on test set\n",
    "        F1scores = evaluate_parallel(seqid_set_evaluate, weights, poi_list, poi_info, seq_all, bins_pop, bins_dist, \\\n",
    "                                     poi_distmat, poi_cat_log_transmat, poi_pop_log_transmat, poipair_dist_log_transmat)\n",
    "        F1_scores_se.append(F1scores)\n",
    "        print('Evaluation %-3d/%d, F1 mean: %.2f, std: %.2f' % \\\n",
    "              (n, len(seqid_set_annotate0), np.mean(F1_scores_se[-1]), np.std(F1_scores_se[-1])))\n",
    "        sys.stdout.flush()\n",
    "        n += 1\n",
    "        \n",
    "    pickle.dump(F1_scores_se, open(fse, 'wb'))\n",
    "    pickle.dump(seq_order_se, open(fose, 'wb'))    "
   ]
  },
  {
   "cell_type": "markdown",
   "metadata": {},
   "source": [
    "Plot the learning curve."
   ]
  },
  {
   "cell_type": "code",
   "execution_count": 96,
   "metadata": {
    "collapsed": false
   },
   "outputs": [
    {
     "data": {
      "text/plain": [
       "<matplotlib.text.Text at 0x7efd680e6dd8>"
      ]
     },
     "execution_count": 96,
     "metadata": {},
     "output_type": "execute_result"
    },
    {
     "data": {
      "image/png": "[encoded data removed]",
      "text/plain": [
       "<matplotlib.figure.Figure at 0x7efd343d0dd8>"
      ]
     },
     "metadata": {},
     "output_type": "display_data"
    }
   ],
   "source": [
    "plt.figure(figsize=[15, 10])\n",
    "plt.boxplot(F1_scores_se)\n",
    "plt.plot(np.arange(1, len(F1_scores_se)+1), [np.mean(x) for x in F1_scores_se], color='g', marker='o')\n",
    "xticks = [10*x for x in range(int(round(len(F1_scores_se), -1)/10))]\n",
    "plt.xticks(xticks, xticks) # xticks starts from 1\n",
    "plt.ylim([0.3, 1.1])\n",
    "plt.xlabel('#query')\n",
    "plt.ylabel('mean F1')\n",
    "#plt.legend(loc='lower right')"
   ]
  },
  {
   "cell_type": "markdown",
   "metadata": {},
   "source": [
    "### 5.5 Maximum Information Density Strategy"
   ]
  },
  {
   "cell_type": "markdown",
   "metadata": {},
   "source": [
    "\\begin{equation}\n",
    "\\phi^{ID}(\\textbf{x}) = \\phi^{SE}(\\textbf{x}) \\times \n",
    "\\left(\n",
    "\\frac{1}{U} \\sum_{u=1}^U \\text{sim}(\\textbf{x}, \\textbf{x}^u)\n",
    "\\right)^\\beta\n",
    "\\end{equation}\n",
    "That is, the informativeness of example $\\textbf{x}$ is weighted by its average similarity to all other unlabelled examples (denoted by $\\mathcal{U})$ in the pool, subject to parameter $\\beta$ which was set to $1$ in [Settles08](http://citeseerx.ist.psu.edu/viewdoc/download?doi=10.1.1.187.7401&rep=rep1&type=pdf) giving no reason, \n",
    "sequence entropy $\\phi^{SE}$ measures the \"base\" informativeness and could be replaced by $\\phi^{NSE}$ defined above.  \n",
    "This query strategy select the example $\\textbf{x}$ of maximum $\\phi^{ID}$ from all unlabelled examples in a pool to query."
   ]
  },
  {
   "cell_type": "markdown",
   "metadata": {},
   "source": [
    "Define a function to compute the simularity between two trajectories, [Settles08](http://citeseerx.ist.psu.edu/viewdoc/download?doi=10.1.1.187.7401&rep=rep1&type=pdf) uses cosine simularity after transforming a sequence into a fixed length feature vector."
   ]
  },
  {
   "cell_type": "markdown",
   "metadata": {},
   "source": [
    "Let sequence $i$ $[p_{i_1}, p_{i_2}, \\dots, p_{i_{N1}}]$ and sequence $j$ $[p_{j_1}, p_{j_2}, \\dots, p_{j_{N1}}]$,\n",
    "define the similarity between sequence $i$ and $j$ as follows:\n",
    "\\begin{equation}\n",
    "\\text{sim}([p_{i_1}, p_{i_2}, \\dots, p_{i_{N1}}], [p_{j_1}, p_{j_2}, \\dots, p_{j_{N1}}]) = \n",
    "\\frac{\\lvert [p_{i_1}, p_{i_2}, \\dots, p_{i_{N1}}] \\cap [p_{j_1}, p_{j_2}, \\dots, p_{j_{N1}}] \\rvert}\n",
    "     {\\lvert [p_{i_1}, p_{i_2}, \\dots, p_{i_{N1}}] \\cup [p_{j_1}, p_{j_2}, \\dots, p_{j_{N1}}] \\rvert}\n",
    "\\end{equation}"
   ]
  },
  {
   "cell_type": "code",
   "execution_count": 97,
   "metadata": {
    "collapsed": true
   },
   "outputs": [],
   "source": [
    "def calc_sequence_similarity(seq1, seq2):\n",
    "    assert(len(seq1) > 0 and len(seq2) > 0)\n",
    "    return len(set(seq1) & set(seq2)) / len(set(seq1) | set(seq2))"
   ]
  },
  {
   "cell_type": "markdown",
   "metadata": {},
   "source": [
    "Make a copy of training set and annotation set and use the copies."
   ]
  },
  {
   "cell_type": "code",
   "execution_count": 98,
   "metadata": {
    "collapsed": false
   },
   "outputs": [],
   "source": [
    "seqid_set_training = []\n",
    "seqid_set_annotate = list(seqid_set_annotate0)\n",
    "seqid_set_evaluate = list(seqid_set_evaluate0)"
   ]
  },
  {
   "cell_type": "markdown",
   "metadata": {},
   "source": [
    "Compute the simularity between all pair of unlabelled exmaples.  \n",
    "**NOTE** that there are duplicate sequences exist."
   ]
  },
  {
   "cell_type": "code",
   "execution_count": 99,
   "metadata": {
    "collapsed": false
   },
   "outputs": [],
   "source": [
    "distinct_seqstr_list = {str(extract_seq(seqid, seq_all)) for seqid in seqid_set_annotate0}\n",
    "seqs_annotate0 = [parse_seqstr(seqstr) for seqstr in sorted(distinct_seqstr_list)] # distinct sequences\n",
    "seq_sim_mat = pd.DataFrame(data=np.zeros((len(seqs_annotate0), len(seqs_annotate0)), dtype=np.float), \\\n",
    "                           index=[str(x) for x in seqs_annotate0], columns=[str(x) for x in seqs_annotate0])\n",
    "for i in range(len(seqs_annotate0)):\n",
    "    for j in range(i, len(seqs_annotate0)):\n",
    "        sim = calc_sequence_similarity(seqs_annotate0[i], seqs_annotate0[j])\n",
    "        assert(not np.isnan(sim))\n",
    "        seq_sim_mat.iloc[i, j] = sim\n",
    "        seq_sim_mat.iloc[j, i] = sim"
   ]
  },
  {
   "cell_type": "markdown",
   "metadata": {},
   "source": [
    "Sanity check."
   ]
  },
  {
   "cell_type": "code",
   "execution_count": 100,
   "metadata": {
    "collapsed": false
   },
   "outputs": [],
   "source": [
    "#seq_sim_mat.head()"
   ]
  },
  {
   "cell_type": "code",
   "execution_count": 101,
   "metadata": {
    "collapsed": false
   },
   "outputs": [],
   "source": [
    "#k = 5\n",
    "#sumk = seq_sim_mat.iloc[k].sum()\n",
    "#sumk /= len(seqs_annotate0)\n",
    "#sumk = sumk**1\n",
    "#print(sumk)"
   ]
  },
  {
   "cell_type": "code",
   "execution_count": 102,
   "metadata": {
    "collapsed": false
   },
   "outputs": [],
   "source": [
    "#sums=[(np.sum([seq_sim_mat.loc[str(x), str(y)] for y in seqs_annotate0])/len(seqs_annotate0))**1 for x in seqs_annotate0]\n",
    "#sums"
   ]
  },
  {
   "cell_type": "code",
   "execution_count": 103,
   "metadata": {
    "collapsed": true
   },
   "outputs": [],
   "source": [
    "F1_scores_id = []\n",
    "seq_order_id = []"
   ]
  },
  {
   "cell_type": "code",
   "execution_count": 104,
   "metadata": {
    "collapsed": true
   },
   "outputs": [],
   "source": [
    "doCompute = True"
   ]
  },
  {
   "cell_type": "code",
   "execution_count": 105,
   "metadata": {
    "collapsed": false
   },
   "outputs": [],
   "source": [
    "if os.path.exists(fid) and os.path.exists(foid):\n",
    "    doCompute = False\n",
    "    F1_scores_id = pickle.load(open(fid, 'rb'))\n",
    "    seq_order_id = pickle.load(open(foid, 'rb'))"
   ]
  },
  {
   "cell_type": "markdown",
   "metadata": {},
   "source": [
    "Recommend trajectories using the initial training set and evaluate on test set."
   ]
  },
  {
   "cell_type": "code",
   "execution_count": 106,
   "metadata": {
    "collapsed": false
   },
   "outputs": [],
   "source": [
    "if doCompute:\n",
    "    (poi_info, poi_cat_log_transmat, poi_pop_log_transmat, poipair_dist_log_transmat) = estimate_parameter1(\\\n",
    "     seqid_set_training, poi_cats, bins_pop, bins_dist, poi_distmat, poi_all, seq_all)\n",
    "    #F1scores = evaluate_parallel(seqid_set_evaluate, weights0, poi_list, poi_info, seq_all, bins_pop, \\\n",
    "    #           bins_dist, poi_distmat, poi_cat_log_transmat, poi_pop_log_transmat, poipair_dist_log_transmat)\n",
    "    F1scores = evaluate_random(seqid_set_evaluate, poi_list, seq_all)\n",
    "    F1_scores_id.append(F1scores)\n",
    "    print('Evaluation 0, F1 mean: %.2f, std: %.2f' % (np.mean(F1_scores_id[-1]), np.std(F1_scores_id[-1])))\n",
    "    sys.stdout.flush()"
   ]
  },
  {
   "cell_type": "markdown",
   "metadata": {},
   "source": [
    "Evaluate on test set using information density query strategy."
   ]
  },
  {
   "cell_type": "code",
   "execution_count": 107,
   "metadata": {
    "collapsed": false
   },
   "outputs": [],
   "source": [
    "if doCompute:\n",
    "    n = 1\n",
    "    beta = 1\n",
    "    weights = weights0\n",
    "    seqs_annotate = [extract_seq(seqid, seq_all) for seqid in seqid_set_annotate]\n",
    "    # repeat until all sequences in annotation set have been queried \n",
    "    while len(seqid_set_annotate) > 0:\n",
    "        # choose sequence to query\n",
    "        seq_entropy_list = Parallel(n_jobs=-2)(delayed(calc_sequence_entropy)\\\n",
    "                           (seq[0], seq[-1], len(seq), weights, poi_list, poi_info, poi_all, bins_pop, bins_dist, \\\n",
    "                            poi_distmat, poi_cat_log_transmat, poi_pop_log_transmat, poipair_dist_log_transmat) \\\n",
    "                           for seq in seqs_annotate)        \n",
    "        assert(np.any(np.isnan(np.array(seq_entropy_list))) == False) # No NaN value\n",
    "        seq_sim_list = [(np.sum([seq_sim_mat.loc[str(x), str(y)] for y in seqs_annotate])/len(seqs_annotate))**beta \\\n",
    "                        for x in seqs_annotate]\n",
    "        assert(len(seq_entropy_list) == len(seq_sim_list))\n",
    "        seq_ids = np.multiply(np.array(seq_entropy_list), np.array(seq_sim_list))\n",
    "        seq_idx = np.argmax(seq_ids)\n",
    "\n",
    "        # add query result to training set, here just add the sequence id to training set\n",
    "        seq_order_id.append(seqid_set_annotate[seq_idx])\n",
    "        seqid_set_training.append(seqid_set_annotate[seq_idx])\n",
    "        print('Choose sequence %23s, ID:%.4f' % (str(seqs_annotate[seq_idx]), seq_ids[seq_idx]))\n",
    "        sys.stdout.flush()\n",
    "\n",
    "        # remove the selected example from annotation set\n",
    "        del seqid_set_annotate[seq_idx]\n",
    "        del seqs_annotate[seq_idx]\n",
    "\n",
    "        # estimate parameters using current training set\n",
    "        (poi_info, poi_cat_log_transmat, poi_pop_log_transmat, poipair_dist_log_transmat) = estimate_parameter1(\\\n",
    "        seqid_set_training, poi_cats, bins_pop, bins_dist, poi_distmat, poi_all, seq_all, \\\n",
    "        poi_cat_log_transmat, poi_pop_log_transmat, poipair_dist_log_transmat)\n",
    "        \n",
    "        # optimise weights\n",
    "        weights = optimise_weight(weights, seqid_set_training, poi_list, poi_info, seq_all, bins_pop, bins_dist, \\\n",
    "                                  poi_distmat, poi_cat_log_transmat, poi_pop_log_transmat, poipair_dist_log_transmat)\n",
    " \n",
    "        # evaluate on test set\n",
    "        F1scores = evaluate_parallel(seqid_set_evaluate, weights, poi_list, poi_info, seq_all, bins_pop, bins_dist, \\\n",
    "                                     poi_distmat, poi_cat_log_transmat, poi_pop_log_transmat, poipair_dist_log_transmat)\n",
    "        F1_scores_id.append(F1scores)\n",
    "        print('Evaluation %-3d/%d, F1 mean: %.2f, std: %.2f' % \\\n",
    "              (n, len(seqid_set_annotate0), np.mean(F1_scores_id[-1]), np.std(F1_scores_id[-1])))\n",
    "        sys.stdout.flush()\n",
    "        n += 1\n",
    "        \n",
    "    pickle.dump(F1_scores_id, open(fid, 'wb'))\n",
    "    pickle.dump(seq_order_id, open(foid, 'wb'))"
   ]
  },
  {
   "cell_type": "markdown",
   "metadata": {},
   "source": [
    "Plot the learning curve."
   ]
  },
  {
   "cell_type": "code",
   "execution_count": 113,
   "metadata": {
    "collapsed": false
   },
   "outputs": [
    {
     "data": {
      "text/plain": [
       "<matplotlib.text.Text at 0x7efd253e4f98>"
      ]
     },
     "execution_count": 113,
     "metadata": {},
     "output_type": "execute_result"
    },
    {
     "data": {
      "image/png": "[encoded data removed]",
      "text/plain": [
       "<matplotlib.figure.Figure at 0x7efd2542d9b0>"
      ]
     },
     "metadata": {},
     "output_type": "display_data"
    }
   ],
   "source": [
    "plt.figure(figsize=[15, 10])\n",
    "plt.boxplot(F1_scores_id)\n",
    "plt.plot(np.arange(1, len(F1_scores_id)+1), [np.mean(x) for x in F1_scores_id], color='g', marker='s')\n",
    "xticks = [10*x for x in range(int(round(len(F1_scores_id), -1)/10))]\n",
    "plt.xticks(xticks, xticks) # xticks starts from 1\n",
    "plt.ylim([0.4, 1.05])\n",
    "plt.xlabel('#query')\n",
    "plt.ylabel('mean F1')\n",
    "#plt.legend(loc='lower right')"
   ]
  },
  {
   "cell_type": "markdown",
   "metadata": {},
   "source": [
    "### 5.6 Performance Comparison"
   ]
  },
  {
   "cell_type": "markdown",
   "metadata": {},
   "source": [
    "Random guessing probability on test set."
   ]
  },
  {
   "cell_type": "code",
   "execution_count": 114,
   "metadata": {
    "collapsed": true
   },
   "outputs": [],
   "source": [
    "#n3 = seq_stats[seq_stats['seqLen'] == 3].shape[0]\n",
    "#n4 = seq_stats[seq_stats['seqLen'] == 4].shape[0]\n",
    "#n5 = seq_stats[seq_stats['seqLen'] == 5].shape[0]\n",
    "#nseq = n3 + n4 + n5\n",
    "#npoi = seq_all[seq_all['seqID'].isin(seqid_set_exp)]['poiID'].unique().shape[0]"
   ]
  },
  {
   "cell_type": "code",
   "execution_count": 115,
   "metadata": {
    "collapsed": false
   },
   "outputs": [
    {
     "name": "stdout",
     "output_type": "stream",
     "text": [
      "npoi: 21, n3: 7, n4: 2, n5: 0, nseq: 9, 9\n"
     ]
    }
   ],
   "source": [
    "test_seqs = [extract_seq(seqid, seq_all) for seqid in seqid_set_evaluate0]\n",
    "n3 = np.sum(np.array([len(seq) for seq in test_seqs]) == 3)\n",
    "n4 = np.sum(np.array([len(seq) for seq in test_seqs]) == 4)\n",
    "n5 = np.sum(np.array([len(seq) for seq in test_seqs]) == 5)\n",
    "nseq = n3 + n4 + n5\n",
    "npoi = len(poi_list)\n",
    "print('npoi: %d, n3: %d, n4: %d, n5: %d, nseq: %d, %d' % (npoi, n3, n4, n5, nseq, len(test_seqs)))"
   ]
  },
  {
   "cell_type": "code",
   "execution_count": 116,
   "metadata": {
    "collapsed": true
   },
   "outputs": [],
   "source": [
    "from scipy.misc import comb\n",
    "from math import factorial\n",
    "prob3 = (1*comb(1, 1) + (2/3)*comb(npoi-3, 1)) / (npoi-2)\n",
    "prob4 = (1*comb(2, 2) + (3/4)*comb(2, 1)*comb(npoi-4, 1) + (2/4)*comb(npoi-4, 2)) * factorial(2) / ((npoi-2) * (npoi-3))\n",
    "prob5 = (1*comb(3, 3) + (4/5)*comb(3, 2)*comb(npoi-5, 1) + (3/5)*comb(3, 1)*comb(npoi-5, 2) + (2/5)*comb(npoi-5, 3)) * \\\n",
    "        factorial(3) / ((npoi-2) * (npoi-3) * (npoi-4))"
   ]
  },
  {
   "cell_type": "code",
   "execution_count": 117,
   "metadata": {
    "collapsed": false
   },
   "outputs": [
    {
     "name": "stdout",
     "output_type": "stream",
     "text": [
      "0.654970760234\n"
     ]
    }
   ],
   "source": [
    "randguess = prob3 * (n3 / nseq) + prob4 * (n4 / nseq) + prob5 * (n5 / nseq)\n",
    "print(randguess)"
   ]
  },
  {
   "cell_type": "markdown",
   "metadata": {},
   "source": [
    "Compare learning curves using the mean of F1."
   ]
  },
  {
   "cell_type": "code",
   "execution_count": 122,
   "metadata": {
    "collapsed": false
   },
   "outputs": [
    {
     "data": {
      "text/plain": [
       "<matplotlib.legend.Legend at 0x7efd24da0390>"
      ]
     },
     "execution_count": 122,
     "metadata": {},
     "output_type": "execute_result"
    },
    {
     "data": {
      "image/png": "[encoded data removed]",
      "text/plain": [
       "<matplotlib.figure.Figure at 0x7efd24ee5160>"
      ]
     },
     "metadata": {},
     "output_type": "display_data"
    }
   ],
   "source": [
    "plt.figure(figsize=[15, 10])\n",
    "plt.plot(np.arange(1, len(F1_scores_rand)+1), [np.mean(x) for x in F1_scores_rand], ls='--', marker='o', label='random baseline')\n",
    "plt.plot(np.arange(1, len(F1_scores_lc)+1),   [np.mean(x) for x in F1_scores_lc],   ls='--', marker='d', label='least confident')\n",
    "plt.plot(np.arange(1, len(F1_scores_se)+1),   [np.mean(x) for x in F1_scores_se],   ls='--', marker='s', label='sequence entropy')\n",
    "plt.plot(np.arange(1, len(F1_scores_id)+1),   [np.mean(x) for x in F1_scores_id],   ls='--', marker='^', label='information density')\n",
    "plt.plot([0, len(F1_scores_rand)+1], [randguess, randguess], linestyle='-', label='random guessing')\n",
    "plt.xlim([0, len(F1_scores_rand)+1])\n",
    "plt.ylim([0.6, 0.85])\n",
    "plt.xlabel('#query')\n",
    "plt.ylabel('mean F1')\n",
    "plt.legend(loc='upper right')"
   ]
  },
  {
   "cell_type": "markdown",
   "metadata": {},
   "source": [
    "Compare learning curves using the median of F1."
   ]
  },
  {
   "cell_type": "code",
   "execution_count": 123,
   "metadata": {
    "collapsed": false
   },
   "outputs": [
    {
     "data": {
      "text/plain": [
       "<matplotlib.legend.Legend at 0x7efd24d2a518>"
      ]
     },
     "execution_count": 123,
     "metadata": {},
     "output_type": "execute_result"
    },
    {
     "data": {
      "image/png": "[encoded data removed]",
      "text/plain": [
       "<matplotlib.figure.Figure at 0x7efd24ddc4a8>"
      ]
     },
     "metadata": {},
     "output_type": "display_data"
    }
   ],
   "source": [
    "plt.figure(figsize=[20, 12])\n",
    "plt.plot(np.arange(len(F1_scores_rand)), [np.median(x) for x in F1_scores_rand], ls='--', marker='o', label='random baseline')\n",
    "plt.plot(np.arange(len(F1_scores_lc)),   [np.median(x) for x in F1_scores_lc],   ls='--', marker='d', label='least confident')\n",
    "plt.plot(np.arange(len(F1_scores_se)),   [np.median(x) for x in F1_scores_se],   ls='--', marker='s', label='sequence entropy')\n",
    "plt.plot(np.arange(len(F1_scores_id)),   [np.median(x) for x in F1_scores_id],   ls='--', marker='^', label='information density')\n",
    "plt.plot([0, len(F1_scores_rand)+1], [randguess, randguess], linestyle='-', label='random guessing')\n",
    "plt.xlim([0, len(F1_scores_rand)+1])\n",
    "plt.ylim([0.6, 0.8])\n",
    "plt.xlabel('#query')\n",
    "plt.ylabel('F1')\n",
    "plt.legend(loc='upper right')"
   ]
  }
 ],
 "metadata": {
  "kernelspec": {
   "display_name": "Python 3",
   "language": "python",
   "name": "python3"
  },
  "language_info": {
   "codemirror_mode": {
    "name": "ipython",
    "version": 3
   },
   "file_extension": ".py",
   "mimetype": "text/x-python",
   "name": "python",
   "nbconvert_exporter": "python",
   "pygments_lexer": "ipython3",
   "version": "3.4.3"
  }
 },
 "nbformat": 4,
 "nbformat_minor": 0
}
