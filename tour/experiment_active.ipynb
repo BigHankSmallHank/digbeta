{
 "cells": [
  {
   "cell_type": "markdown",
   "metadata": {},
   "source": [
    "Trajectory Recommendation using Markov Chain\n",
    "====="
   ]
  },
  {
   "cell_type": "markdown",
   "metadata": {},
   "source": [
    "<a id='sec1'></a>"
   ]
  },
  {
   "cell_type": "markdown",
   "metadata": {},
   "source": [
    "# 1. Overview"
   ]
  },
  {
   "cell_type": "markdown",
   "metadata": {},
   "source": [
    "### Features\n",
    "Transition Features\n",
    "1. POI category (a transition matrix between different categories)\n",
    "1. POI popularity (a transition matrix between different class of popularity)\n",
    "1. POI pair distance (a transition matrix between different class of distance)"
   ]
  },
  {
   "cell_type": "markdown",
   "metadata": {},
   "source": [
    "### Recommend Trajectories\n",
    "Given (start, end) and trajectory length $l$ for a specific user $u$, we'll recommend a trajectory to user $u$ as follows:\n",
    "- Compute/enumerate all trajectories of length $l$ with (start, end) as candidates\n",
    "- Use a uniform prior for all candidates\n",
    "- Compute the likelihood of candidates using the above transition features estimated from travelling sequences in the training set\n",
    "- Sort candidates by their posterior probabilities (i.e. $\\text{prior} \\times \\text{likelihood}$) in descending order\n",
    "- Recommend a trajectory from the top $K$ (e.g. 5) candidates with probability proportional to its posterior"
   ]
  },
  {
   "cell_type": "markdown",
   "metadata": {},
   "source": [
    "**NOTE** that we use the same leave-one-out cross validation approach described in the [ijcai15 paper](#https://sites.google.com/site/limkwanhui/publications/2015-IJCAI-personalTour.pdf?attredirects=0), concretely, for each user $u$ in the dataset, choose one trajectory (length >= 3) from all trajectories of $u$ uniformly at random, this trajectory is used as the ground truth to measure the performance of the recommendation (i.e. compute the [precision, recall and F1-score](./ijcai15.ipynb#sec2.1)), all other trajectories are used to train/estimate parameters. So the training set will change when iterating through all users."
   ]
  },
  {
   "cell_type": "markdown",
   "metadata": {},
   "source": [
    "<a id='sec2'></a>"
   ]
  },
  {
   "cell_type": "markdown",
   "metadata": {},
   "source": [
    "# 2. Load Data"
   ]
  },
  {
   "cell_type": "code",
   "execution_count": 1,
   "metadata": {
    "collapsed": false
   },
   "outputs": [],
   "source": [
    "%matplotlib inline\n",
    "\n",
    "import os\n",
    "import re\n",
    "import sys\n",
    "import math\n",
    "import random\n",
    "import pickle\n",
    "import pandas as pd\n",
    "import numpy as np\n",
    "#import scipy.stats\n",
    "#from numba import jit\n",
    "import pylab\n",
    "import matplotlib.pyplot as plt\n",
    "from datetime import datetime\n",
    "from joblib import Parallel, delayed"
   ]
  },
  {
   "cell_type": "code",
   "execution_count": 2,
   "metadata": {
    "collapsed": false
   },
   "outputs": [],
   "source": [
    "nfeatures = 8 # number of features\n",
    "EPS = 1e-12 # smooth, deal with 0 probability\n",
    "random.seed(987654321) # control random choice when splitting training/testing set\n",
    "np.random.seed(987654321)"
   ]
  },
  {
   "cell_type": "code",
   "execution_count": 3,
   "metadata": {
    "collapsed": false
   },
   "outputs": [],
   "source": [
    "data_dir = 'data/data-ijcai15'\n",
    "#fvisit = os.path.join(data_dir, 'userVisits-Osak.csv')\n",
    "#fcoord = os.path.join(data_dir, 'photoCoords-Osak.csv')\n",
    "#fvisit = os.path.join(data_dir, 'userVisits-Glas.csv')\n",
    "#fcoord = os.path.join(data_dir, 'photoCoords-Glas.csv')\n",
    "#fvisit = os.path.join(data_dir, 'userVisits-Edin.csv')\n",
    "#fcoord = os.path.join(data_dir, 'photoCoords-Edin.csv')\n",
    "fvisit = os.path.join(data_dir, 'userVisits-Toro.csv')\n",
    "fcoord = os.path.join(data_dir, 'photoCoords-Toro.csv')"
   ]
  },
  {
   "cell_type": "code",
   "execution_count": 4,
   "metadata": {
    "collapsed": false
   },
   "outputs": [],
   "source": [
    "suffix = fvisit.split('-')[-1].split('.')[0]\n",
    "fseqpart = os.path.join(data_dir, 'seqPart-' + suffix + '.pkl')\n",
    "frand = os.path.join(data_dir, 'F1-rand-' + suffix + '.pkl')\n",
    "flc = os.path.join(data_dir, 'F1-lc-' + suffix + '.pkl')\n",
    "fse = os.path.join(data_dir, 'F1-se-' + suffix + '.pkl')\n",
    "fid = os.path.join(data_dir, 'F1-id-' + suffix + '.pkl')\n",
    "forand = os.path.join(data_dir, 'seq-rand-' + suffix + '.pkl')\n",
    "folc = os.path.join(data_dir, 'seq-lc-' + suffix + '.pkl')\n",
    "fose = os.path.join(data_dir, 'seq-se-' + suffix + '.pkl')\n",
    "foid = os.path.join(data_dir, 'seq-id-' + suffix + '.pkl')"
   ]
  },
  {
   "cell_type": "code",
   "execution_count": 5,
   "metadata": {
    "collapsed": false
   },
   "outputs": [],
   "source": [
    "visits = pd.read_csv(fvisit, sep=';')\n",
    "coords = pd.read_csv(fcoord, sep=';')\n",
    "# merge data frames according to column 'photoID'\n",
    "assert(visits.shape[0] == coords.shape[0])\n",
    "traj = pd.merge(visits, coords, on='photoID')\n",
    "#traj.head()"
   ]
  },
  {
   "cell_type": "code",
   "execution_count": 6,
   "metadata": {
    "collapsed": false
   },
   "outputs": [
    {
     "data": {
      "text/html": [
       "<div>\n",
       "<table border=\"1\" class=\"dataframe\">\n",
       "  <thead>\n",
       "    <tr style=\"text-align: right;\">\n",
       "      <th></th>\n",
       "      <th>#photo</th>\n",
       "      <th>#photo/user</th>\n",
       "      <th>#poi</th>\n",
       "      <th>#seq</th>\n",
       "      <th>#seq/user</th>\n",
       "      <th>#user</th>\n",
       "    </tr>\n",
       "  </thead>\n",
       "  <tbody>\n",
       "    <tr>\n",
       "      <th>Toro</th>\n",
       "      <td>39419</td>\n",
       "      <td>28.257348</td>\n",
       "      <td>29</td>\n",
       "      <td>6057</td>\n",
       "      <td>4.341935</td>\n",
       "      <td>1395</td>\n",
       "    </tr>\n",
       "  </tbody>\n",
       "</table>\n",
       "</div>"
      ],
      "text/plain": [
       "      #photo  #photo/user  #poi  #seq  #seq/user  #user\n",
       "Toro   39419    28.257348    29  6057   4.341935   1395"
      ]
     },
     "execution_count": 6,
     "metadata": {},
     "output_type": "execute_result"
    }
   ],
   "source": [
    "num_photo = traj['photoID'].unique().shape[0]\n",
    "num_user = traj['userID'].unique().shape[0]\n",
    "num_poi = traj['poiID'].unique().shape[0]\n",
    "num_seq = traj['seqID'].unique().shape[0]\n",
    "pd.DataFrame({'#photo': num_photo, '#user': num_user, '#poi': num_poi, '#seq': num_seq, \\\n",
    "              '#photo/user': num_photo/num_user, '#seq/user': num_seq/num_user}, index=[str(suffix)])"
   ]
  },
  {
   "cell_type": "markdown",
   "metadata": {},
   "source": [
    "<a id='sec2.1'></a>"
   ]
  },
  {
   "cell_type": "markdown",
   "metadata": {},
   "source": [
    "## 2.1 Compute POI Info"
   ]
  },
  {
   "cell_type": "markdown",
   "metadata": {},
   "source": [
    "Compute POI (Longitude, Latitude) as the average coordinates of the assigned photos."
   ]
  },
  {
   "cell_type": "code",
   "execution_count": 7,
   "metadata": {
    "collapsed": false
   },
   "outputs": [],
   "source": [
    "poi_coords = traj[['poiID', 'photoLon', 'photoLat']].groupby('poiID').mean()\n",
    "poi_coords.reset_index(inplace=True)\n",
    "poi_coords.rename(columns={'photoLon':'poiLon', 'photoLat':'poiLat'}, inplace=True)"
   ]
  },
  {
   "cell_type": "markdown",
   "metadata": {},
   "source": [
    "Extract POI category and visiting frequency."
   ]
  },
  {
   "cell_type": "code",
   "execution_count": 8,
   "metadata": {
    "collapsed": false
   },
   "outputs": [],
   "source": [
    "poi_catfreq = traj[['poiID', 'poiTheme', 'poiFreq']].groupby('poiID').first()\n",
    "poi_catfreq.reset_index(inplace=True)"
   ]
  },
  {
   "cell_type": "code",
   "execution_count": 9,
   "metadata": {
    "collapsed": false
   },
   "outputs": [],
   "source": [
    "poi_all = pd.merge(poi_catfreq, poi_coords, on='poiID')\n",
    "poi_all.set_index('poiID', inplace=True)\n",
    "#poi_all.to_csv(fpoi, index=True)"
   ]
  },
  {
   "cell_type": "markdown",
   "metadata": {},
   "source": [
    "<a id='sec2.2'></a>"
   ]
  },
  {
   "cell_type": "markdown",
   "metadata": {},
   "source": [
    "## 2.2 Construct Travelling Sequences"
   ]
  },
  {
   "cell_type": "code",
   "execution_count": 10,
   "metadata": {
    "collapsed": false
   },
   "outputs": [
    {
     "data": {
      "text/html": [
       "<div>\n",
       "<table border=\"1\" class=\"dataframe\">\n",
       "  <thead>\n",
       "    <tr style=\"text-align: right;\">\n",
       "      <th></th>\n",
       "      <th>userID</th>\n",
       "      <th>seqID</th>\n",
       "      <th>poiID</th>\n",
       "      <th>arrivalTime</th>\n",
       "      <th>departureTime</th>\n",
       "      <th>#photo</th>\n",
       "      <th>poiDuration(sec)</th>\n",
       "    </tr>\n",
       "  </thead>\n",
       "  <tbody>\n",
       "    <tr>\n",
       "      <th>0</th>\n",
       "      <td>10007579@N00</td>\n",
       "      <td>1</td>\n",
       "      <td>30</td>\n",
       "      <td>1346844688</td>\n",
       "      <td>1346844688</td>\n",
       "      <td>1</td>\n",
       "      <td>0</td>\n",
       "    </tr>\n",
       "    <tr>\n",
       "      <th>1</th>\n",
       "      <td>10012675@N05</td>\n",
       "      <td>2</td>\n",
       "      <td>6</td>\n",
       "      <td>1142731848</td>\n",
       "      <td>1142732445</td>\n",
       "      <td>4</td>\n",
       "      <td>597</td>\n",
       "    </tr>\n",
       "    <tr>\n",
       "      <th>2</th>\n",
       "      <td>10012675@N05</td>\n",
       "      <td>3</td>\n",
       "      <td>6</td>\n",
       "      <td>1142916492</td>\n",
       "      <td>1142916492</td>\n",
       "      <td>1</td>\n",
       "      <td>0</td>\n",
       "    </tr>\n",
       "    <tr>\n",
       "      <th>3</th>\n",
       "      <td>10012675@N05</td>\n",
       "      <td>4</td>\n",
       "      <td>13</td>\n",
       "      <td>1319327174</td>\n",
       "      <td>1319332848</td>\n",
       "      <td>9</td>\n",
       "      <td>5674</td>\n",
       "    </tr>\n",
       "    <tr>\n",
       "      <th>4</th>\n",
       "      <td>10014440@N06</td>\n",
       "      <td>5</td>\n",
       "      <td>24</td>\n",
       "      <td>1196128621</td>\n",
       "      <td>1196128878</td>\n",
       "      <td>3</td>\n",
       "      <td>257</td>\n",
       "    </tr>\n",
       "  </tbody>\n",
       "</table>\n",
       "</div>"
      ],
      "text/plain": [
       "         userID  seqID  poiID  arrivalTime  departureTime  #photo  \\\n",
       "0  10007579@N00      1     30   1346844688     1346844688       1   \n",
       "1  10012675@N05      2      6   1142731848     1142732445       4   \n",
       "2  10012675@N05      3      6   1142916492     1142916492       1   \n",
       "3  10012675@N05      4     13   1319327174     1319332848       9   \n",
       "4  10014440@N06      5     24   1196128621     1196128878       3   \n",
       "\n",
       "   poiDuration(sec)  \n",
       "0                 0  \n",
       "1               597  \n",
       "2                 0  \n",
       "3              5674  \n",
       "4               257  "
      ]
     },
     "execution_count": 10,
     "metadata": {},
     "output_type": "execute_result"
    }
   ],
   "source": [
    "seq_all = traj[['userID', 'seqID', 'poiID', 'dateTaken']].copy().groupby(['userID', 'seqID', 'poiID'])\\\n",
    "          .agg([np.min, np.max, np.size])\n",
    "seq_all.columns = seq_all.columns.droplevel()\n",
    "seq_all.reset_index(inplace=True)\n",
    "seq_all.rename(columns={'amin':'arrivalTime', 'amax':'departureTime', 'size':'#photo'}, inplace=True)\n",
    "seq_all['poiDuration(sec)'] = seq_all['departureTime'] - seq_all['arrivalTime']\n",
    "seq_all.head()"
   ]
  },
  {
   "cell_type": "code",
   "execution_count": 11,
   "metadata": {
    "collapsed": false
   },
   "outputs": [],
   "source": [
    "seq_user = seq_all[['userID', 'seqID', 'poiID']].copy().groupby(['userID', 'seqID']).agg(np.size)\n",
    "seq_user.reset_index(inplace=True)\n",
    "seq_user.rename(columns={'poiID':'seqLen'}, inplace=True)\n",
    "seq_user.set_index('seqID', inplace=True)\n",
    "#seq_user.head()"
   ]
  },
  {
   "cell_type": "code",
   "execution_count": 12,
   "metadata": {
    "collapsed": true
   },
   "outputs": [],
   "source": [
    "def extract_seq(seqid, seq_all):\n",
    "    seqi = seq_all[seq_all['seqID'] == seqid].copy()\n",
    "    seqi.sort(columns=['arrivalTime'], ascending=True, inplace=True)\n",
    "    return seqi['poiID'].tolist()"
   ]
  },
  {
   "cell_type": "markdown",
   "metadata": {},
   "source": [
    "<a id='sec3'></a>"
   ]
  },
  {
   "cell_type": "markdown",
   "metadata": {},
   "source": [
    "# 3. Compute Transition Probabilities"
   ]
  },
  {
   "cell_type": "markdown",
   "metadata": {},
   "source": [
    "<a id='sec3.1'></a>"
   ]
  },
  {
   "cell_type": "markdown",
   "metadata": {},
   "source": [
    "## 3.1 Basic Definitions"
   ]
  },
  {
   "cell_type": "markdown",
   "metadata": {},
   "source": [
    "- $\\text{Pr}(\\text{Cat}_i \\to \\text{Cat}_j)$:\n",
    "   the transition probability from a POI of category $\\text{Cat}_i$ to a POI of category $\\text{Cat}_j$\n",
    "- $\\text{Pr}(\\text{Pop}_i \\to \\text{Pop}_j)$:\n",
    "   the transition probability from a POI of Popularity class $\\text{Pop}_i$ to a POI of Popularity class $\\text{Pop}_j$\n",
    "- $\\text{Pr}(\\text{Dist}_i \\to \\text{Dist}_j)$:\n",
    "   the transition probability from a POI-POI pair with distance (between the two) class $\\text{Dist}_i$ to a POI-POI pair with distance (between the two) class $\\text{Dist}_j$"
   ]
  },
  {
   "cell_type": "markdown",
   "metadata": {},
   "source": [
    "<a id='sec3.2'></a>"
   ]
  },
  {
   "cell_type": "markdown",
   "metadata": {},
   "source": [
    "## 3.2 Transition Probabilities between POI Categories"
   ]
  },
  {
   "cell_type": "markdown",
   "metadata": {},
   "source": [
    "We model transition probabilities between POI categories, i.e.\n",
    "$\\text{Pr}(\\text{Cat}_{\\text{POI}_i} \\to \\text{Cat}_{\\text{POI}_j})$."
   ]
  },
  {
   "cell_type": "markdown",
   "metadata": {},
   "source": [
    "We count the number of transition first, then normalise each row while taking care of zero by adding each cell a small number (i.e. $0.1$ times the minimum value of that row) if there exists a zero cell, use a uniform prior for all-zero rows."
   ]
  },
  {
   "cell_type": "code",
   "execution_count": 13,
   "metadata": {
    "collapsed": false
   },
   "outputs": [],
   "source": [
    "def normalise_transmat(transmat):\n",
    "    assert(isinstance(transmat, pd.DataFrame))\n",
    "    for row in range(transmat.index.shape[0]):\n",
    "        nonzeroidx = np.nonzero(transmat.iloc[row])[0].tolist()\n",
    "        \n",
    "        if len(nonzeroidx) == 0: # all zero in this row\n",
    "            transmat.iloc[row] = 1  # uniform prior\n",
    "            \n",
    "        elif len(nonzeroidx) < transmat.columns.shape[0]: # some cells are zero\n",
    "            minv = np.min(transmat.iloc[row, nonzeroidx])\n",
    "            EPS = 0.1 * minv  # row-specific smooth factor\n",
    "            transmat.iloc[row] += EPS \n",
    "            \n",
    "        rowsum = np.sum(transmat.iloc[row])\n",
    "        assert(rowsum > 0)\n",
    "        transmat.iloc[row] /= rowsum\n",
    "    return transmat        "
   ]
  },
  {
   "cell_type": "code",
   "execution_count": 14,
   "metadata": {
    "collapsed": true
   },
   "outputs": [],
   "source": [
    "def calc_poi_cat_transmat(seqid_set, poi_all, seq_all):\n",
    "    poi_cats = poi_all['poiTheme'].unique().tolist()\n",
    "    poi_cats.sort()\n",
    "    poi_cat_transmat = pd.DataFrame(data=np.zeros((len(poi_cats), len(poi_cats)), dtype=np.float), \\\n",
    "                                    index=poi_cats, columns=poi_cats)\n",
    "    for seqid in seqid_set:\n",
    "        seq = extract_seq(seqid, seq_all)\n",
    "        for j in range(len(seq)-1):\n",
    "            poi1 = seq[j]\n",
    "            poi2 = seq[j+1]\n",
    "            cat1 = poi_all.loc[poi1, 'poiTheme']\n",
    "            cat2 = poi_all.loc[poi2, 'poiTheme']\n",
    "            poi_cat_transmat.loc[cat1, cat2] += 1\n",
    "    \n",
    "    return normalise_transmat(poi_cat_transmat)"
   ]
  },
  {
   "cell_type": "markdown",
   "metadata": {},
   "source": [
    "<a id='sec3.3'></a>"
   ]
  },
  {
   "cell_type": "markdown",
   "metadata": {},
   "source": [
    "## 3.3 Transition Probabilities between POI Popularity Classes"
   ]
  },
  {
   "cell_type": "markdown",
   "metadata": {},
   "source": [
    "We model transition probabilities between POI popularities, i.e.\n",
    "$\\text{Pr}(\\text{Pop}_{\\text{POI}_i} \\to \\text{Pop}_{\\text{POI}_j})$\n",
    "after discretizing POI popularities."
   ]
  },
  {
   "cell_type": "markdown",
   "metadata": {},
   "source": [
    "### 3.3.1 Discretize POI Popularity"
   ]
  },
  {
   "cell_type": "markdown",
   "metadata": {},
   "source": [
    "Discretization method is choosen according to [this experiment](./traj_feature.ipynb#sec3.3)."
   ]
  },
  {
   "cell_type": "code",
   "execution_count": 15,
   "metadata": {
    "collapsed": true
   },
   "outputs": [],
   "source": [
    "def calc_poi_info(seqid_set, seq_all, poi_all):\n",
    "    poi_info = seq_all[seq_all['seqID'].isin(seqid_set)][['poiID', 'seqID']].copy()\n",
    "    poi_info = poi_info.groupby('poiID').agg(np.size)\n",
    "    poi_info.rename(columns={'seqID':'popularity'}, inplace=True)\n",
    "    #poi_info.set_index('poiID', inplace=True)\n",
    "    poi_info['poiTheme'] = poi_all.loc[poi_info.index, 'poiTheme']\n",
    "    poi_info['poiLon'] = poi_all.loc[poi_info.index, 'poiLon']\n",
    "    poi_info['poiLat'] = poi_all.loc[poi_info.index, 'poiLat']\n",
    "    # POI popularity discretization: quantile based bins\n",
    "    #nbins = 9\n",
    "    nbins = 5\n",
    "    quantiles = np.round(np.linspace(0, 1, nbins+1), 2)[1:-1]\n",
    "    bins_qt = [0]\n",
    "    bins_qt.extend(poi_info['popularity'].quantile(quantiles))\n",
    "    bins_qt.append(poi_info['popularity'].max() + 1)\n",
    "    poi_info['popClass'] = np.digitize(poi_info['popularity'].get_values(), bins_qt)\n",
    "    #print(poi_info)\n",
    "    \n",
    "    #assert(len(set(poi_info['popClass'].unique())) >= nbins) # NO empty bin\n",
    "    \n",
    "    return (poi_info, nbins)"
   ]
  },
  {
   "cell_type": "markdown",
   "metadata": {},
   "source": [
    "### 3.3.2 Compute Transition Probabilities"
   ]
  },
  {
   "cell_type": "code",
   "execution_count": 16,
   "metadata": {
    "collapsed": true
   },
   "outputs": [],
   "source": [
    "def calc_poi_pop_transmat(seqid_set, nbins_pop, poi_all, seq_all):\n",
    "    pop_class = np.arange(1, nbins_pop+1)\n",
    "    poi_pop_transmat = pd.DataFrame(data=np.zeros((len(pop_class), len(pop_class)), dtype=np.float), \\\n",
    "                                    index=pop_class, columns=pop_class)\n",
    "    for seqid in seqid_set:\n",
    "        seq = extract_seq(seqid, seq_all)\n",
    "        for j in range(len(seq)-1):\n",
    "            poi1 = seq[j]\n",
    "            poi2 = seq[j+1]\n",
    "            pc1 = poi_all.loc[poi1, 'popClass']\n",
    "            pc2 = poi_all.loc[poi2, 'popClass']\n",
    "            poi_pop_transmat.loc[pc1, pc2] += 1\n",
    "    #print(poi_pop_transmat)\n",
    "    return normalise_transmat(poi_pop_transmat)"
   ]
  },
  {
   "cell_type": "markdown",
   "metadata": {},
   "source": [
    "<a id='sec3.4'></a>"
   ]
  },
  {
   "cell_type": "markdown",
   "metadata": {},
   "source": [
    "## 3.4 Transition Probabilities between POI Pair Distance Classes"
   ]
  },
  {
   "cell_type": "markdown",
   "metadata": {},
   "source": [
    "We model transition probabilities between different POI pair distances, i.e.\n",
    "$\\text{Pr}(\\text{Dist}_{\\text{POI}_{i-1} \\to \\text{POI}_i} \\to \\text{Dist}_{\\text{POI}_{i} \\to \\text{POI}_j})$\n",
    "after discretize POI pair distances."
   ]
  },
  {
   "cell_type": "markdown",
   "metadata": {},
   "source": [
    "### TODO: Improve the distance calculation using Google maps [distance API](https://developers.google.com/maps/documentation/distance-matrix/intro) with different [travel modes](https://developers.google.com/maps/documentation/distance-matrix/intro#travel_modes) demonstrated [here](https://jakevdp.github.io/blog/2015/10/17/analyzing-pronto-cycleshare-data-with-python-and-pandas/)."
   ]
  },
  {
   "cell_type": "markdown",
   "metadata": {},
   "source": [
    "### 3.4.1 Discretize POI Pair Distance"
   ]
  },
  {
   "cell_type": "code",
   "execution_count": 17,
   "metadata": {
    "collapsed": true
   },
   "outputs": [],
   "source": [
    "def calc_dist(longitude1, latitude1, longitude2, latitude2):\n",
    "    \"\"\"Calculate the distance (unit: km) between two places on earth\"\"\"\n",
    "    # convert degrees to radians\n",
    "    lon1 = math.radians(longitude1)\n",
    "    lat1 = math.radians(latitude1)\n",
    "    lon2 = math.radians(longitude2)\n",
    "    lat2 = math.radians(latitude2)\n",
    "    radius = 6371.009 # mean earth radius is 6371.009km, en.wikipedia.org/wiki/Earth_radius#Mean_radius\n",
    "    # The haversine formula, en.wikipedia.org/wiki/Great-circle_distance\n",
    "    dlon = math.fabs(lon1 - lon2)\n",
    "    dlat = math.fabs(lat1 - lat2)\n",
    "    return 2 * radius * math.asin( math.sqrt( \\\n",
    "               (math.sin(0.5*dlat))**2 + math.cos(lat1) * math.cos(lat2) * (math.sin(0.5*dlon))**2 ))"
   ]
  },
  {
   "cell_type": "markdown",
   "metadata": {},
   "source": [
    "Discretization method is choosen according to [this experiment](./traj_feature.ipynb#sec3.4)."
   ]
  },
  {
   "cell_type": "code",
   "execution_count": 18,
   "metadata": {
    "collapsed": true
   },
   "outputs": [],
   "source": [
    "def calc_poipair_distclass_mat(poi_all):\n",
    "    poi_distmat = pd.DataFrame(data=np.zeros((poi_all.shape[0], poi_all.shape[0]), dtype=np.float), \\\n",
    "                               index=poi_all.index, columns=poi_all.index)\n",
    "    distdata = []\n",
    "    for i in range(poi_all.index.shape[0]):\n",
    "        poi1 = poi_all.index[i]\n",
    "        for j in range(i+1, poi_all.index.shape[0]):\n",
    "            poi2 = poi_all.index[j]\n",
    "            dist = calc_dist(poi_all.loc[poi1, 'poiLon'], poi_all.loc[poi1, 'poiLat'], \\\n",
    "                             poi_all.loc[poi2, 'poiLon'], poi_all.loc[poi2, 'poiLat'])\n",
    "            poi_distmat.loc[poi1, poi2] = dist\n",
    "            poi_distmat.loc[poi2, poi1] = dist\n",
    "            distdata.append(dist)\n",
    "            \n",
    "    # discretize POI pair distance: quantile based bins\n",
    "    distdata = pd.Series(distdata)\n",
    "    #nbins = 10\n",
    "    nbins = 5\n",
    "    quantiles = np.round(np.linspace(0, 1, nbins+1), 2)[1:-1]\n",
    "    bins_qt = [0]\n",
    "    bins_qt.extend(distdata.quantile(quantiles))\n",
    "    bins_qt.append(10*round(distdata.max()))\n",
    "    \n",
    "    poipair_distclass_mat = pd.DataFrame(data=np.zeros((poi_all.shape[0], poi_all.shape[0]), dtype=np.int), \\\n",
    "                                         index=poi_all.index, columns=poi_all.index)\n",
    "    for i in range(poi_all.index.shape[0]):\n",
    "        poi1 = poi_all.index[i]\n",
    "        for j in range(i+1, poi_all.index.shape[0]):\n",
    "            poi2 = poi_all.index[j]\n",
    "            dc = np.digitize([poi_distmat.loc[poi1, poi2]], bins_qt)[0]\n",
    "            poipair_distclass_mat.loc[poi1, poi2] = dc\n",
    "            poipair_distclass_mat.loc[poi2, poi1] = dc\n",
    "    \n",
    "    #assert(len(set(poipair_distclass_mat.get_values().flatten())) > nbins) # No empty bin, NOTE zero diagonal\n",
    "    if len(set(poipair_distclass_mat.get_values().flatten())) <= nbins:\n",
    "        print('Bins:', np.arange(1, nbins+1))\n",
    "        print(poipair_distclass_mat)\n",
    "    \n",
    "    return (poipair_distclass_mat, nbins)"
   ]
  },
  {
   "cell_type": "markdown",
   "metadata": {},
   "source": [
    "### 3.4.2 Compute Transition Probabilities"
   ]
  },
  {
   "cell_type": "markdown",
   "metadata": {},
   "source": [
    "Use POI pair that is **observed** in dataset to compute the transition matrix between different \"class\" of distances."
   ]
  },
  {
   "cell_type": "code",
   "execution_count": 19,
   "metadata": {
    "collapsed": false
   },
   "outputs": [],
   "source": [
    "def calc_poipair_dist_transmat(seqid_set, nbins_dist, seq_all, poipair_distclass_mat):\n",
    "    dist_class = np.arange(1, nbins_dist+1)\n",
    "    poipair_dist_transmat = pd.DataFrame(data=np.zeros((len(dist_class), len(dist_class)), dtype=np.float), \\\n",
    "                                         index=dist_class, columns=dist_class)\n",
    "    for seqid in seqid_set:\n",
    "        seq = extract_seq(seqid, seq_all)\n",
    "        if len(seq) < 3: continue\n",
    "        for j in range(1, len(seq)-1):\n",
    "            poi1 = seq[j-1]\n",
    "            poi2 = seq[j]\n",
    "            poi3 = seq[j+1]\n",
    "            dc1 = poipair_distclass_mat.loc[poi1, poi2]\n",
    "            dc2 = poipair_distclass_mat.loc[poi2, poi3]\n",
    "            poipair_dist_transmat.loc[dc1, dc2] += 1\n",
    "    return normalise_transmat(poipair_dist_transmat)"
   ]
  },
  {
   "cell_type": "markdown",
   "metadata": {},
   "source": [
    "<a id='sec4'></a>"
   ]
  },
  {
   "cell_type": "markdown",
   "metadata": {},
   "source": [
    "# 4. Compute Trajectory Likelihood"
   ]
  },
  {
   "cell_type": "markdown",
   "metadata": {},
   "source": [
    "Log likelihood of trajectory $[\\text{POI}_1, \\text{POI}_2, \\dots, \\text{POI}_i, ..., \\text{POI}_N]$ is defined as\n",
    "\\begin{align}\n",
    "\\text{logl} =& \n",
    "\\sum_{i=1}^{N-1} \\log(\\text{Pr}(\\text{Cat}_{\\text{POI}_i} \\to \\text{Cat}_{\\text{POI}_{i+1}})) + \n",
    "\\sum_{i=1}^{N-1} \\log(\\text{Pr}(\\text{Pop}_{\\text{POI}_i} \\to \\text{Pop}_{\\text{POI}_{i+1}})) + \n",
    "\\sum_{i=2}^{N-1} \\log(\\text{Pr}(\\text{Dist}_{\\text{POI}_{i-1} \\to \\text{POI}_i} \\to \n",
    "\\text{Dist}_{\\text{POI}_{i} \\to \\text{POI}_{i+1}})) \\\\\n",
    "& + \\log(\\text{Pr}(\\text{POI}_1)) \n",
    "\\end{align}"
   ]
  },
  {
   "cell_type": "markdown",
   "metadata": {},
   "source": [
    "where $\\text{Pr}(\\text{POI}_1)$ is the prior of $\\text{POI}_1$ and we assume $\\text{Pr}(\\text{POI}_1)=1.0$, 10-based logarithm is used here."
   ]
  },
  {
   "cell_type": "code",
   "execution_count": 20,
   "metadata": {
    "collapsed": true
   },
   "outputs": [],
   "source": [
    "def calc_seq_loglikelihood(seq, poi_all, poi_cat_transmat_log, poi_pop_transmat_log, \\\n",
    "                           poi_distclass_mat, poipair_dist_transmat_log):\n",
    "    assert(len(seq) > 1)\n",
    "    cat1 = poi_all.loc[seq[0], 'poiTheme']\n",
    "    cat2 = poi_all.loc[seq[1], 'poiTheme']\n",
    "    pc1  = poi_all.loc[seq[0], 'popClass']\n",
    "    pc2  = poi_all.loc[seq[1], 'popClass']\n",
    "    logL = poi_cat_transmat_log.loc[cat1, cat2] + poi_pop_transmat_log.loc[pc1, pc2]\n",
    "    for j in range(1, len(seq)-1):\n",
    "        poi1 = seq[j-1]\n",
    "        poi2 = seq[j]\n",
    "        poi3 = seq[j+1]\n",
    "        cat2 = poi_all.loc[poi2, 'poiTheme']\n",
    "        cat3 = poi_all.loc[poi3, 'poiTheme']\n",
    "        pc2  = poi_all.loc[poi2, 'popClass']\n",
    "        pc3  = poi_all.loc[poi3, 'popClass']\n",
    "        dc12 = poi_distclass_mat.loc[poi1, poi2]\n",
    "        dc23 = poi_distclass_mat.loc[poi2, poi3]\n",
    "        logL += poi_cat_transmat_log.loc[cat2, cat3] + poi_pop_transmat_log.loc[pc2, pc3]\n",
    "        #print(seq, dc12, dc23)\n",
    "        logL += poipair_dist_transmat_log.loc[dc12, dc23]\n",
    "    return logL"
   ]
  },
  {
   "cell_type": "markdown",
   "metadata": {},
   "source": [
    "<a id='sec5'></a>"
   ]
  },
  {
   "cell_type": "markdown",
   "metadata": {},
   "source": [
    "# 5. Trajectory Recommendation & Evaluation"
   ]
  },
  {
   "cell_type": "markdown",
   "metadata": {},
   "source": [
    "Parameter estimation of the Markov Chain."
   ]
  },
  {
   "cell_type": "code",
   "execution_count": 21,
   "metadata": {
    "collapsed": true
   },
   "outputs": [],
   "source": [
    "def estimate_parameter(seqid_set_training, poi_all, seq_all):\n",
    "    # compute POI info using training set\n",
    "    (poi_info, nbins_pop) = calc_poi_info(seqid_set_training, seq_all, poi_all)\n",
    "    \n",
    "    # compute POI category transition matrix\n",
    "    poi_cat_transmat = calc_poi_cat_transmat(seqid_set_training, poi_info, seq_all)\n",
    "    poi_cat_transmat_log = np.log10(poi_cat_transmat)\n",
    "    \n",
    "    # compute POI popularity transition matrix    \n",
    "    poi_pop_transmat = calc_poi_pop_transmat(seqid_set_training, nbins_pop, poi_info, seq_all)\n",
    "    poi_pop_transmat_log = np.log10(poi_pop_transmat)\n",
    "    \n",
    "    # compute POI pair distance transition matrix\n",
    "    (poipair_distclass_mat, nbins_dist) = calc_poipair_distclass_mat(poi_info)\n",
    "    poipair_dist_transmat = calc_poipair_dist_transmat(seqid_set_training, nbins_dist, seq_all, poipair_distclass_mat)\n",
    "    poipair_dist_transmat_log = np.log10(poipair_dist_transmat)\n",
    "    \n",
    "    return (poi_info, poi_cat_transmat_log, poi_pop_transmat_log, poipair_distclass_mat, poipair_dist_transmat_log)    "
   ]
  },
  {
   "cell_type": "markdown",
   "metadata": {},
   "source": [
    "Enumerate trajectories of the same (start, end) and length (3, 4 or 5) with respect to an actual sequence."
   ]
  },
  {
   "cell_type": "code",
   "execution_count": 22,
   "metadata": {
    "collapsed": true
   },
   "outputs": [],
   "source": [
    "def enum_seq345(start, end, length, poi_list): \n",
    "    assert(length in {3, 4, 5})\n",
    "    p0 = start\n",
    "    pN = end\n",
    "    \n",
    "    # enumerate sequences with length 3\n",
    "    if length == 3:\n",
    "        return [[p0, p, pN] \\\n",
    "                for p in poi_list if p not in {p0, pN}]\n",
    "    \n",
    "    # enumerate sequences with length 4\n",
    "    if length == 4:\n",
    "        return [[p0, p1, p2, pN] \\\n",
    "                for p1 in poi_list if p1 not in {p0, pN} \\\n",
    "                for p2 in poi_list if p2 not in {p0, p1, pN}]\n",
    "    \n",
    "    # enumerate sequences with length 5\n",
    "    if length == 5:\n",
    "        return [[p0, p1, p2, p3, pN] \\\n",
    "                for p1 in poi_list if p1 not in {p0, pN} \\\n",
    "                for p2 in poi_list if p2 not in {p0, p1, pN} \\\n",
    "                for p3 in poi_list if p3 not in {p0, p1, p2, pN}]"
   ]
  },
  {
   "cell_type": "code",
   "execution_count": 23,
   "metadata": {
    "collapsed": true
   },
   "outputs": [],
   "source": [
    "def parse_seqstr(seqstr):\n",
    "    term = re.sub('[ \\[\\]]', '', seqstr).split(',')\n",
    "    return [int(x) for x in term]"
   ]
  },
  {
   "cell_type": "markdown",
   "metadata": {},
   "source": [
    "With uniform prior, the posterior probability of trajectory is proportional to its likelihood."
   ]
  },
  {
   "cell_type": "code",
   "execution_count": 24,
   "metadata": {
    "collapsed": true
   },
   "outputs": [],
   "source": [
    "def recommend_trajectory(start, end, length, poi_info, poi_cat_transmat_log, poi_pop_transmat_log, \\\n",
    "                         poipair_distclass_mat, poipair_dist_transmat_log):    \n",
    "    # enumerate trajectory\n",
    "    poi_list = poi_info.index.tolist()\n",
    "    enum_seqs = enum_seq345(start, end, length, poi_list)\n",
    "    \n",
    "    # compute log likelihood\n",
    "    # parallel: OK\n",
    "    #t1 = datetime.now()\n",
    "    #logL = Parallel(n_jobs=-2)(delayed(calc_seq_loglikelihood)\\\n",
    "    #       (seq, poi_info, poi_cat_transmat_log, poi_pop_transmat_log, poipair_distclass_mat, poipair_dist_transmat_log)\\\n",
    "    #       for seq in enum_seqs)\n",
    "    #print('%d seconds used' % (datetime.now()-t1).total_seconds())\n",
    "    \n",
    "    # sequential\n",
    "    logL = []\n",
    "    for seq in enum_seqs:\n",
    "        logl = calc_seq_loglikelihood(seq, poi_info, poi_cat_transmat_log, poi_pop_transmat_log, \\\n",
    "                                      poipair_distclass_mat, poipair_dist_transmat_log)\n",
    "        logL.append(logl)\n",
    "    \n",
    "    # sanity check: passed\n",
    "    #seq1 = [10, 21, 28, 22]\n",
    "    #dc12 = poipair_distclass_mat.loc[seq1[0], seq1[1]]\n",
    "    #dc23 = poipair_distclass_mat.loc[seq1[1], seq1[2]]\n",
    "    #dc34 = poipair_distclass_mat.loc[seq1[2], seq1[3]]\n",
    "    #s1 = poi_cat_transmat_log.loc[poi_info.loc[seq1[0], 'poiTheme'], poi_info.loc[seq1[1], 'poiTheme']] + \\\n",
    "    #     poi_cat_transmat_log.loc[poi_info.loc[seq1[1], 'poiTheme'], poi_info.loc[seq1[2], 'poiTheme']] + \\\n",
    "    #     poi_cat_transmat_log.loc[poi_info.loc[seq1[2], 'poiTheme'], poi_info.loc[seq1[3], 'poiTheme']] + \\\n",
    "    #     poi_pop_transmat_log.loc[poi_info.loc[seq1[0], 'popClass'], poi_info.loc[seq1[1], 'popClass']] + \\\n",
    "    #     poi_pop_transmat_log.loc[poi_info.loc[seq1[1], 'popClass'], poi_info.loc[seq1[2], 'popClass']] + \\\n",
    "    #     poi_pop_transmat_log.loc[poi_info.loc[seq1[2], 'popClass'], poi_info.loc[seq1[3], 'popClass']]\n",
    "    #s2 = poipair_dist_transmat_log.loc[dc12, dc23] + poipair_dist_transmat_log.loc[dc23, dc34]\n",
    "    #logL1 = calc_seq_loglikelihood(seq1, poi_info, poi_cat_transmat_log, poi_pop_transmat_log, \\\n",
    "    #                               poipair_distclass_mat, poipair_dist_transmat_log)\n",
    "    #print(s1+s2, '==', logL1, '?')\n",
    "    \n",
    "    # dataframe of enumerated trajectories\n",
    "    enum_seq_df = pd.DataFrame(data=np.array(logL), index=[str(x) for x in enum_seqs], columns=['logLikelihood'])\n",
    "    \n",
    "    # sort by loglikeilihood in descending order\n",
    "    enum_seq_df.sort(columns=['logLikelihood'], ascending=False, inplace=True)\n",
    "    \n",
    "    # recommend trajectory\n",
    "    probs = enum_seq_df['logLikelihood'].get_values(); #print(probs)\n",
    "    probs = np.exp(probs)\n",
    "    probs /= np.sum(probs); #print(probs)\n",
    "    #enum_seq_df['probability'] = probs\n",
    "    \n",
    "    # recommend a trajectory with probability proportional to its posterior (i.e. likelihood when prior is uniform)\n",
    "    #sample = np.random.multinomial(1, probs) # catgorical/multinoulli distribution, multinomial distribution (n=1)\n",
    "    #idx = sample.nonzero()[0][0]\n",
    "    #return (parse_seqstr(enum_seq_df.index[idx]), probs[idx]) # return the recommended sequence and its probability\n",
    "    \n",
    "    # recommend the topk trajectories with their probabilities\n",
    "    k = 10\n",
    "    if enum_seq_df.shape[0] < k: \n",
    "        k = enum_seq_df.shape[0]\n",
    "    result_df = enum_seq_df.iloc[0:k].copy()\n",
    "    result_df.reset_index(inplace=True)\n",
    "    result_df.rename(columns={'index':'sequence'}, inplace=True)\n",
    "    result_df.drop('logLikelihood', axis=1, inplace=True)\n",
    "    result_df['probability'] = probs[0:k]\n",
    "    return result_df"
   ]
  },
  {
   "cell_type": "markdown",
   "metadata": {},
   "source": [
    "Use F1 measure defined [here](./ijcai15.ipynb#sec2.1) to evaluate the performance of recommender."
   ]
  },
  {
   "cell_type": "code",
   "execution_count": 25,
   "metadata": {
    "collapsed": true
   },
   "outputs": [],
   "source": [
    "def calc_F1score(seq_act, seq_rec):\n",
    "    assert(len(seq_act) > 0)\n",
    "    assert(len(seq_rec) > 0)\n",
    "    actset = set(seq_act)\n",
    "    recset = set(seq_rec)\n",
    "    intersect = actset & recset\n",
    "    recall = len(intersect) / len(seq_act)\n",
    "    precision = len(intersect) / len(seq_rec)\n",
    "    F1score = 2. * precision * recall / (precision + recall)\n",
    "    return F1score"
   ]
  },
  {
   "cell_type": "markdown",
   "metadata": {},
   "source": [
    "Evaluation on test set."
   ]
  },
  {
   "cell_type": "code",
   "execution_count": 26,
   "metadata": {
    "collapsed": false
   },
   "outputs": [],
   "source": [
    "def evaluate_parallel(seqid_set, poi_all, seq_all, poi_cat_transmat_log, poi_pop_transmat_log, \\\n",
    "             poipair_distclass_mat, poipair_dist_transmat_log):\n",
    "    seq_act_list = [extract_seq(seqid, seq_all) for seqid in seqid_set]\n",
    "    seq_rec_df_list = Parallel(n_jobs=-2)(delayed(recommend_trajectory)\\\n",
    "                      (seq[0], seq[-1], len(seq), poi_all, poi_cat_transmat_log, \\\n",
    "                       poi_pop_transmat_log, poipair_distclass_mat, poipair_dist_transmat_log) \\\n",
    "                      for seq in seq_act_list)    \n",
    "    seq_rec_list = [parse_seqstr(seq_rec_df.iloc[0]['sequence']) for seq_rec_df in seq_rec_df_list]\n",
    "    assert(len(seq_act_list) == len(seq_rec_list))\n",
    "    #F1scores = [calc_F1score(seq_act_list[x], seq_rec_list[x]) for x in range(len(seq_act_list))] # OK\n",
    "    F1scores = Parallel(n_jobs=-2)(delayed(calc_F1score)\\\n",
    "               (seq_act_list[x], seq_rec_list[x]) for x in range(len(seq_act_list))) # OK\n",
    "                                   \n",
    "    return F1scores"
   ]
  },
  {
   "cell_type": "code",
   "execution_count": 27,
   "metadata": {
    "collapsed": true
   },
   "outputs": [],
   "source": [
    "def evaluate_sequential(seqid_set, poi_all, seq_all, poi_cat_transmat_log, poi_pop_transmat_log, \\\n",
    "             poipair_distclass_mat, poipair_dist_transmat_log):\n",
    "    F1scores = []\n",
    "    for seqid in seqid_set:\n",
    "        seq_act = extract_seq(seqid, seq_all)\n",
    "        seq_rec_df = recommend_trajectory(seq_act[0], seq_act[-1], len(seq_act), poi_all, poi_cat_transmat_log, \\\n",
    "                                          poi_pop_transmat_log, poipair_distclass_mat, poipair_dist_transmat_log)\n",
    "        seq_rec = parse_seqstr(seq_rec_df.iloc[0]['sequence']) # choose the one with max posterior\n",
    "        F1 = calc_F1score(seq_act, seq_rec)\n",
    "        F1scores.append(F1)\n",
    "        #print('Actual: %-23s  Recommended: %-23s F1: %.2f' % (str(seq_act), str(seq_rec), F1)); sys.stdout.flush()\n",
    "    return F1scores"
   ]
  },
  {
   "cell_type": "markdown",
   "metadata": {},
   "source": [
    "<a id='sec6'></a>"
   ]
  },
  {
   "cell_type": "markdown",
   "metadata": {},
   "source": [
    "# 6. Active Learning without Personalisation"
   ]
  },
  {
   "cell_type": "markdown",
   "metadata": {},
   "source": [
    "**Notations**"
   ]
  },
  {
   "cell_type": "markdown",
   "metadata": {},
   "source": [
    "- $Traj$: a trajectory\n",
    "- $|Traj|$: the number of POIs in trajectory $Traj$\n",
    "- $P_s$: the `start` (first) POI of a trajectory\n",
    "- $P_e$: the `end` (last) POI of a trajectory\n",
    "- $T_s$: the earlist start time of a trajectory\n",
    "- $T_e$: the latest end time of a trajectory\n",
    "- $u$: a specific user\n",
    "- $\\textbf{x}$: an example\n",
    "- $\\textbf{y}$: label of an example $\\textbf{x}$"
   ]
  },
  {
   "cell_type": "markdown",
   "metadata": {},
   "source": [
    "- Example: $\\textbf{x} = (P_s, P_e, T_s, T_e, |Traj|)$\n",
    "- Label of Example: $\\textbf{y} = Traj$\n",
    "- Assume that all examples are i.i.d."
   ]
  },
  {
   "cell_type": "markdown",
   "metadata": {},
   "source": [
    "<a id='sec5.1'></a>"
   ]
  },
  {
   "cell_type": "markdown",
   "metadata": {},
   "source": [
    "### 5.1 Travelling Sequences Dataset Partition"
   ]
  },
  {
   "cell_type": "markdown",
   "metadata": {},
   "source": [
    "Split dataset (travelling sequences with length 3/4/5) into \n",
    "- training set (i.e. initial training) ~~(10%)~~ (30%), \n",
    "- annotation set (i.e. simulate user annotation) (50%), \n",
    "- evaluation set (a.k.a. test set) ~~(40%)~~ (20%)."
   ]
  },
  {
   "cell_type": "markdown",
   "metadata": {},
   "source": [
    "**Problem**:\n",
    "- when the initial training set is too small such that the travelling sequences in training set can not span all POIs in annotation/evaluation set, then the annotation/evaluation will fail. "
   ]
  },
  {
   "cell_type": "code",
   "execution_count": 28,
   "metadata": {
    "collapsed": false
   },
   "outputs": [
    {
     "name": "stdout",
     "output_type": "stream",
     "text": [
      "6057\n"
     ]
    }
   ],
   "source": [
    "seq_stats = seq_all[['userID', 'seqID', 'poiID']].copy().groupby(['userID', 'seqID']).agg(np.size)\n",
    "seq_stats.reset_index(inplace=True)\n",
    "seq_stats.rename(columns={'poiID':'seqLen'}, inplace=True)\n",
    "seq_stats.set_index('seqID', inplace=True)\n",
    "print(seq_stats.index.shape[0])"
   ]
  },
  {
   "cell_type": "code",
   "execution_count": 29,
   "metadata": {
    "collapsed": false
   },
   "outputs": [
    {
     "name": "stdout",
     "output_type": "stream",
     "text": [
      "309\n"
     ]
    }
   ],
   "source": [
    "seqid_set_exp = seq_stats[seq_stats['seqLen'].isin({3, 4, 5})].index\n",
    "print(len(seqid_set_exp))"
   ]
  },
  {
   "cell_type": "markdown",
   "metadata": {},
   "source": [
    "Choose a random portion of sequences as training data that span all POIs in annotation/evaluation set."
   ]
  },
  {
   "cell_type": "code",
   "execution_count": 30,
   "metadata": {
    "collapsed": true
   },
   "outputs": [],
   "source": [
    "seqid_set_training0 = []\n",
    "seqid_set_annotate0 = []\n",
    "seqid_set_evaluate0 = []"
   ]
  },
  {
   "cell_type": "code",
   "execution_count": 31,
   "metadata": {
    "collapsed": true
   },
   "outputs": [],
   "source": [
    "doCompute = True"
   ]
  },
  {
   "cell_type": "code",
   "execution_count": 32,
   "metadata": {
    "collapsed": true
   },
   "outputs": [],
   "source": [
    "if os.path.exists(fseqpart):\n",
    "    doCompute = False\n",
    "    (seqid_set_training0, seqid_set_annotate0, seqid_set_evaluate0) = pickle.load(open(fseqpart, 'rb'))"
   ]
  },
  {
   "cell_type": "code",
   "execution_count": 33,
   "metadata": {
    "collapsed": false
   },
   "outputs": [],
   "source": [
    "if doCompute:\n",
    "    idx_range = np.arange(len(seqid_set_exp))\n",
    "    num_train = round(len(seqid_set_exp) * 0.3)\n",
    "    num_annotate = round(len(seqid_set_exp) * 0.5)\n",
    "    poi_coverage_ok = False\n",
    "    for i in range(200):\n",
    "        np.random.shuffle(idx_range) \n",
    "        seqid_set_training0 = list(seqid_set_exp[idx_range[0:num_train]])\n",
    "        seqid_set_annotate0 = list(seqid_set_exp[idx_range[num_train:num_train+num_annotate]])\n",
    "        seqid_set_evaluate0 = list(seqid_set_exp[idx_range[num_train+num_annotate:]])\n",
    "        poi_set_training = {poi for seqid in seqid_set_training0 for poi in extract_seq(seqid, seq_all)}\n",
    "        poi_set_annotate = {poi for seqid in seqid_set_annotate0 for poi in extract_seq(seqid, seq_all)}\n",
    "        poi_set_evaluate = {poi for seqid in seqid_set_evaluate0 for poi in extract_seq(seqid, seq_all)}\n",
    "        #print(len(poi_set_training), len(poi_set_annotate), len(poi_set_evaluate))\n",
    "        #for seqid in seqid_set_training0: poi_set_training = poi_set_training | set(extract_seq(seqid, seq_all))\n",
    "        if len(poi_set_training & poi_set_annotate) == len(poi_set_annotate) and \\\n",
    "           len(poi_set_training & poi_set_evaluate) == len(poi_set_evaluate):\n",
    "            poi_coverage_ok = True\n",
    "            pickle.dump((seqid_set_training0, seqid_set_annotate0, seqid_set_evaluate0), open(fseqpart, 'wb'))\n",
    "            break\n",
    "    if poi_coverage_ok == False:\n",
    "        print('Failed to find a training set of sequences that span all POIs in annotation/evaluation set.')"
   ]
  },
  {
   "cell_type": "code",
   "execution_count": 34,
   "metadata": {
    "collapsed": false
   },
   "outputs": [
    {
     "name": "stdout",
     "output_type": "stream",
     "text": [
      "309\n",
      "93\n",
      "154\n",
      "62\n"
     ]
    }
   ],
   "source": [
    "print(len(seqid_set_exp))\n",
    "print(len(seqid_set_training0))\n",
    "print(len(seqid_set_annotate0))\n",
    "print(len(seqid_set_evaluate0))"
   ]
  },
  {
   "cell_type": "markdown",
   "metadata": {},
   "source": [
    "### 5.2 Random Baseline"
   ]
  },
  {
   "cell_type": "markdown",
   "metadata": {},
   "source": [
    "Query strategy: choose a random example in annotation set to query (passive learning)."
   ]
  },
  {
   "cell_type": "markdown",
   "metadata": {},
   "source": [
    "Make a copy of training set and annotation set and use the copies."
   ]
  },
  {
   "cell_type": "code",
   "execution_count": 35,
   "metadata": {
    "collapsed": true
   },
   "outputs": [],
   "source": [
    "seqid_set_training = list(seqid_set_training0)\n",
    "seqid_set_annotate = list(seqid_set_annotate0)\n",
    "seqid_set_evaluate = list(seqid_set_evaluate0)"
   ]
  },
  {
   "cell_type": "code",
   "execution_count": 36,
   "metadata": {
    "collapsed": true
   },
   "outputs": [],
   "source": [
    "query_order = np.arange(len(seqid_set_annotate))\n",
    "np.random.shuffle(query_order)"
   ]
  },
  {
   "cell_type": "code",
   "execution_count": 37,
   "metadata": {
    "collapsed": true
   },
   "outputs": [],
   "source": [
    "F1_scores_rand = []\n",
    "seq_order_rand = []"
   ]
  },
  {
   "cell_type": "code",
   "execution_count": 38,
   "metadata": {
    "collapsed": true
   },
   "outputs": [],
   "source": [
    "doCompute = True"
   ]
  },
  {
   "cell_type": "code",
   "execution_count": 39,
   "metadata": {
    "collapsed": true
   },
   "outputs": [],
   "source": [
    "if os.path.exists(frand) and os.path.exists(forand)\n",
    "    doCompute = False\n",
    "    F1_scores_rand = pickle.load(open(frand, 'rb'))\n",
    "    seq_order_rand = pickle.load(open(forand, 'rb'))"
   ]
  },
  {
   "cell_type": "markdown",
   "metadata": {},
   "source": [
    "Estimate parameters using the initial training set."
   ]
  },
  {
   "cell_type": "code",
   "execution_count": 40,
   "metadata": {
    "collapsed": false
   },
   "outputs": [],
   "source": [
    "if doCompute:\n",
    "    (poi_info, poi_cat_transmat_log, poi_pop_transmat_log, poipair_distclass_mat, poipair_dist_transmat_log) = \\\n",
    "    estimate_parameter(seqid_set_training, poi_all, seq_all)"
   ]
  },
  {
   "cell_type": "markdown",
   "metadata": {},
   "source": [
    "Sanity check: evaluate using the first example in test set."
   ]
  },
  {
   "cell_type": "code",
   "execution_count": 41,
   "metadata": {
    "collapsed": false
   },
   "outputs": [],
   "source": [
    "if doCompute:\n",
    "    seqid = seqid_set_evaluate[0]\n",
    "    seq_act = extract_seq(seqid, seq_all)\n",
    "    seq_rec_df = recommend_trajectory(seq_act[0], seq_act[-1], len(seq_act), poi_info, poi_cat_transmat_log, \\\n",
    "                                      poi_pop_transmat_log, poipair_distclass_mat, poipair_dist_transmat_log)\n",
    "    seq_rec = parse_seqstr(seq_rec_df.iloc[0]['sequence']) # choose the one with max posterior\n",
    "    F1 = calc_F1score(seq_act, seq_rec) \n",
    "    print('Actual: %-23s  Recommended: %-23s F1: %.2f' % (str(seq_act), str(seq_rec), F1))\n",
    "    seq_rec_df"
   ]
  },
  {
   "cell_type": "markdown",
   "metadata": {},
   "source": [
    "Recommend trajectories using the initial training set and evaluate on test set."
   ]
  },
  {
   "cell_type": "code",
   "execution_count": 42,
   "metadata": {
    "collapsed": false
   },
   "outputs": [],
   "source": [
    "if doCompute:\n",
    "    F1scores = evaluate_parallel(seqid_set_evaluate, poi_info, seq_all, poi_cat_transmat_log, \\\n",
    "                                 poi_pop_transmat_log, poipair_distclass_mat, poipair_dist_transmat_log)\n",
    "    F1_scores_rand.append(F1scores)\n",
    "    print('Evaluation 0, F1 mean: %.2f, std: %.2f' % (np.mean(F1_scores_rand[-1]), np.std(F1_scores_rand[-1])))\n",
    "    sys.stdout.flush()"
   ]
  },
  {
   "cell_type": "markdown",
   "metadata": {},
   "source": [
    "Evaluate the baseline on test set using random query strategy."
   ]
  },
  {
   "cell_type": "code",
   "execution_count": 43,
   "metadata": {
    "collapsed": false
   },
   "outputs": [],
   "source": [
    "if doCompute:\n",
    "    n = 1\n",
    "    for idx in query_order:\n",
    "        # choose sequence to query\n",
    "        seqid = seqid_set_annotate[idx]\n",
    "        \n",
    "        # add query result to training set, here just add the sequence id to training set\n",
    "        seq_order_rand.append(seqid)\n",
    "        seqid_set_training.append(seqid)\n",
    "        \n",
    "        # estimate parameters using current training set\n",
    "        (poi_info, poi_cat_transmat_log, poi_pop_transmat_log, poipair_distclass_mat, poipair_dist_transmat_log) = \\\n",
    "        estimate_parameter(seqid_set_training, poi_all, seq_all)\n",
    "        \n",
    "        # evaluate on test set\n",
    "        F1scores = evaluate_parallel(seqid_set_evaluate, poi_info, seq_all, poi_cat_transmat_log, \\\n",
    "                                     poi_pop_transmat_log, poipair_distclass_mat, poipair_dist_transmat_log)\n",
    "        F1_scores_rand.append(F1scores)\n",
    "        print('Evaluation %-2d/%d, F1 mean: %.2f, std: %.2f' % \\\n",
    "              (n, len(seqid_set_annotate0), np.mean(F1_scores_rand[-1]), np.std(F1_scores_rand[-1])))\n",
    "        sys.stdout.flush()\n",
    "        n += 1\n",
    "        \n",
    "    pickle.dump(F1_scores_rand, open(frand, 'wb'))\n",
    "    pickle.dump(seq_order_rand, open(forand, 'wb'))"
   ]
  },
  {
   "cell_type": "markdown",
   "metadata": {},
   "source": [
    "Plot the learning curve."
   ]
  },
  {
   "cell_type": "code",
   "execution_count": 114,
   "metadata": {
    "collapsed": false
   },
   "outputs": [
    {
     "data": {
      "text/plain": [
       "<matplotlib.text.Text at 0x7f115402cd30>"
      ]
     },
     "execution_count": 114,
     "metadata": {},
     "output_type": "execute_result"
    },
    {
     "data": {
      "image/png": "[encoded data removed]",
      "text/plain": [
       "<matplotlib.figure.Figure at 0x7f115ed22fd0>"
      ]
     },
     "metadata": {},
     "output_type": "display_data"
    }
   ],
   "source": [
    "plt.figure(figsize=[15, 10])\n",
    "plt.boxplot(F1_scores_rand)\n",
    "plt.plot(np.arange(len(F1_scores_rand)), [np.mean(x) for x in F1_scores_rand], color='g', marker='o')\n",
    "#plt.plot(np.arange(len(seqid_set_annotate)+1), F1_random, marker='s', color='g', linestyle='--', label='random baseline')\n",
    "#plt.errorbar(np.arange(len(seqid_set_annotate0)+1), F1_mean_rand, yerr=F1_std_rand, color='g', \\\n",
    "#             linestyle='--', marker='s', label='random baseline')\n",
    "plt.ylim([0.3, 1.1])\n",
    "xticks = [10*x for x in range(int(round(len(F1_scores_rand), -1)/10))]\n",
    "plt.xticks(xticks, xticks) # xticks starts from 1\n",
    "plt.xlabel('#query')\n",
    "plt.ylabel('F1')\n",
    "#plt.legend(loc='lower right')"
   ]
  },
  {
   "cell_type": "markdown",
   "metadata": {},
   "source": [
    "### 5.3 Least Confident Strategy"
   ]
  },
  {
   "cell_type": "markdown",
   "metadata": {},
   "source": [
    "Query Strategy:\n",
    "\\begin{equation}\n",
    "\\phi^{LC}(\\textbf{x}) = 1 - P(\\textbf{y}^* | \\textbf{x}; \\Theta)\n",
    "\\end{equation}\n",
    "where $\\textbf{y}^*$ is the most likely label of example $\\textbf{x}$ with respect to a probabilistic model of which the parameters are denoted by $\\Theta$.  \n",
    "This query strategy select the example $\\textbf{x}$ of maximum $\\phi^{LC}$ from all unlabelled examples in a pool to query."
   ]
  },
  {
   "cell_type": "markdown",
   "metadata": {},
   "source": [
    "**Problem**:\n",
    "- This query strategy biases to sequences with more POIs, as the number of candidate trajectories grows exponentially as the number of POIs specified, the probability of the most likely candidate trajectory becomes smaller and smaller."
   ]
  },
  {
   "cell_type": "markdown",
   "metadata": {},
   "source": [
    "Make a copy of training set and annotation set and use the copies."
   ]
  },
  {
   "cell_type": "code",
   "execution_count": 45,
   "metadata": {
    "collapsed": true
   },
   "outputs": [],
   "source": [
    "seqid_set_training = list(seqid_set_training0)\n",
    "seqid_set_annotate = list(seqid_set_annotate0)\n",
    "seqid_set_evaluate = list(seqid_set_evaluate0)"
   ]
  },
  {
   "cell_type": "code",
   "execution_count": 46,
   "metadata": {
    "collapsed": true
   },
   "outputs": [],
   "source": [
    "F1_scores_lc = []\n",
    "seq_order_lc = []"
   ]
  },
  {
   "cell_type": "code",
   "execution_count": 47,
   "metadata": {
    "collapsed": true
   },
   "outputs": [],
   "source": [
    "doCompute = True"
   ]
  },
  {
   "cell_type": "code",
   "execution_count": 48,
   "metadata": {
    "collapsed": true
   },
   "outputs": [],
   "source": [
    "if os.path.exists(flc) and os.path.exists(folc):\n",
    "    doCompute = False\n",
    "    F1_scores_lc = pickle.load(open(flc, 'rb'))\n",
    "    seq_order_lc = pickle.load(open(folc, 'rb'))"
   ]
  },
  {
   "cell_type": "markdown",
   "metadata": {},
   "source": [
    "Recommend trajectories using the initial training set and evaluate on test set."
   ]
  },
  {
   "cell_type": "code",
   "execution_count": 49,
   "metadata": {
    "collapsed": false
   },
   "outputs": [],
   "source": [
    "#(poi_info, poi_cat_transmat_log, poi_pop_transmat_log, poipair_distclass_mat, poipair_dist_transmat_log) = \\\n",
    "#estimate_parameter(seqid_set_training, poi_all, seq_all)"
   ]
  },
  {
   "cell_type": "code",
   "execution_count": 50,
   "metadata": {
    "collapsed": false
   },
   "outputs": [],
   "source": [
    "#print(poi_info)\n",
    "#print(poi_cat_transmat_log)\n",
    "#print(poi_pop_transmat_log)"
   ]
  },
  {
   "cell_type": "code",
   "execution_count": 51,
   "metadata": {
    "collapsed": false
   },
   "outputs": [],
   "source": [
    "#seq_act = [8, 19, 22]\n",
    "#seq_rec_df = recommend_trajectory(seq_act[0], seq_act[-1], len(seq_act), poi_info, poi_cat_transmat_log, \\\n",
    "#                                  poi_pop_transmat_log, poipair_distclass_mat, poipair_dist_transmat_log)\n",
    "#print(seq_act); print(seq_rec_df); print(); sys.stdout.flush()"
   ]
  },
  {
   "cell_type": "code",
   "execution_count": 52,
   "metadata": {
    "collapsed": false
   },
   "outputs": [],
   "source": [
    "if doCompute:\n",
    "    (poi_info, poi_cat_transmat_log, poi_pop_transmat_log, poipair_distclass_mat, poipair_dist_transmat_log) = \\\n",
    "    estimate_parameter(seqid_set_training, poi_all, seq_all)\n",
    "    F1scores = evaluate_parallel(seqid_set_evaluate, poi_info, seq_all, poi_cat_transmat_log, \\\n",
    "                                 poi_pop_transmat_log, poipair_distclass_mat, poipair_dist_transmat_log)\n",
    "    F1_scores_lc.append(F1scores)\n",
    "    print('Evaluation 0, F1 mean: %.2f, std: %.2f' % (np.mean(F1_scores_lc[-1]), np.std(F1_scores_lc[-1])))\n",
    "    sys.stdout.flush()"
   ]
  },
  {
   "cell_type": "markdown",
   "metadata": {},
   "source": [
    "Evaluate the baseline on test set using least confident query strategy."
   ]
  },
  {
   "cell_type": "code",
   "execution_count": 53,
   "metadata": {
    "collapsed": false
   },
   "outputs": [],
   "source": [
    "if doCompute:\n",
    "    n = 1\n",
    "    seqs_annotate = [extract_seq(seqid, seq_all) for seqid in seqid_set_annotate]\n",
    "    # repeat until all sequences in annotation set have been queried \n",
    "    while len(seqid_set_annotate) > 0:\n",
    "        # choose sequence to query\n",
    "        # sequential: OK\n",
    "        #seq_idx = 0; max_lc = 0\n",
    "        #for idx in range(len(seqid_set_annotate)):\n",
    "        #    seq_act = seqs_annotate[idx]\n",
    "        #    seq_rec_df = recommend_trajectory(seq_act[0], seq_act[-1], len(seq_act), poi_info, poi_cat_transmat_log, \\\n",
    "        #                                      poi_pop_transmat_log, poipair_distclass_mat, poipair_dist_transmat_log)\n",
    "        #    #print(seq_act); print(seq_rec_df); print(); sys.stdout.flush()\n",
    "        #    maxprob = seq_rec_df.iloc[0]['probability']\n",
    "        #    assert(not np.isnan(maxprob))\n",
    "        #    lc = 1 - maxprob\n",
    "        #    if lc > max_lc:\n",
    "        #        max_lc = lc; seq_idx = idx\n",
    "                \n",
    "        # parallel\n",
    "        seq_rec_df_list = Parallel(n_jobs=-2)(delayed(recommend_trajectory)\\\n",
    "                          (seq[0], seq[-1], len(seq), poi_info, poi_cat_transmat_log, \\\n",
    "                           poi_pop_transmat_log, poipair_distclass_mat, poipair_dist_transmat_log) \\\n",
    "                          for seq in seqs_annotate)\n",
    "        maxprobs = np.array([seq_rec_df.iloc[0]['probability'] for seq_rec_df in seq_rec_df_list])\n",
    "        assert(np.any(np.isnan(maxprobs)) == False) # No NaN value\n",
    "        #lc = 1 - maxprobs\n",
    "        #seq_idx = np.argmax(lc)\n",
    "        seq_idx = np.argmin(maxprobs)\n",
    "\n",
    "        # add query result to training set, here just add the sequence id to training set\n",
    "        seq_order_lc.append(seqid_set_annotate[seq_idx])\n",
    "        seqid_set_training.append(seqid_set_annotate[seq_idx])\n",
    "        print('Choose sequence %-23s, LC: %.4f' % (str(seqs_annotate[seq_idx]), 1-maxprobs[seq_idx])); sys.stdout.flush()\n",
    "\n",
    "        # remove the selected example from annotation set\n",
    "        del seqid_set_annotate[seq_idx]\n",
    "        del seqs_annotate[seq_idx]\n",
    "\n",
    "        # estimate parameters using the updated training set\n",
    "        (poi_info, poi_cat_transmat_log, poi_pop_transmat_log, poipair_distclass_mat, poipair_dist_transmat_log) = \\\n",
    "        estimate_parameter(seqid_set_training, poi_all, seq_all)\n",
    "\n",
    "        # evaluate on test set\n",
    "        F1scores = evaluate_parallel(seqid_set_evaluate, poi_info, seq_all, poi_cat_transmat_log, \\\n",
    "                                     poi_pop_transmat_log, poipair_distclass_mat, poipair_dist_transmat_log)\n",
    "        F1_scores_lc.append(F1scores)\n",
    "        print('Evaluation %-3d/%d, F1 mean: %.2f, std: %.2f' % \\\n",
    "              (n, len(seqid_set_annotate0), np.mean(F1_scores_lc[-1]), np.std(F1_scores_lc[-1])))\n",
    "        sys.stdout.flush()\n",
    "        n += 1\n",
    "        \n",
    "    pickle.dump(F1_scores_lc, open(flc, 'wb'))\n",
    "    pickle.dump(seq_order_lc, open(folc, 'wb'))"
   ]
  },
  {
   "cell_type": "markdown",
   "metadata": {},
   "source": [
    "Plot the learning curve."
   ]
  },
  {
   "cell_type": "code",
   "execution_count": 113,
   "metadata": {
    "collapsed": false
   },
   "outputs": [
    {
     "data": {
      "text/plain": [
       "<matplotlib.text.Text at 0x7f1154e9f320>"
      ]
     },
     "execution_count": 113,
     "metadata": {},
     "output_type": "execute_result"
    },
    {
     "data": {
      "image/png": "[encoded data removed]",
      "text/plain": [
       "<matplotlib.figure.Figure at 0x7f1154ef78d0>"
      ]
     },
     "metadata": {},
     "output_type": "display_data"
    }
   ],
   "source": [
    "plt.figure(figsize=[15, 10])\n",
    "plt.boxplot(F1_scores_lc, labels=np.arange(len(F1_scores_lc)))\n",
    "plt.plot(np.arange(len(F1_scores_lc)), [np.mean(x) for x in F1_scores_lc], color='g', marker='o')\n",
    "#plt.errorbar(np.arange(len(seqid_set_annotate0)+1), F1_mean_rand, yerr=F1_std_rand, \\\n",
    "#             linestyle='--', marker='s', label='random baseline')\n",
    "#plt.errorbar(np.arange(len(seqid_set_annotate0)+1), F1_mean_lc, yerr=F1_std_lc, \\\n",
    "#             linestyle='--', marker='s', label='least confident')\n",
    "xticks = [10*x for x in range(int(round(len(F1_scores_lc), -1)/10))]\n",
    "plt.xticks(xticks, xticks) # xticks starts from 1\n",
    "plt.ylim([0.3, 1.1])\n",
    "plt.xlabel('#query')\n",
    "plt.ylabel('F1')\n",
    "#plt.legend(loc='lower right')"
   ]
  },
  {
   "cell_type": "markdown",
   "metadata": {},
   "source": [
    "### 5.4 Maximum Sequence Entropy Strategy"
   ]
  },
  {
   "cell_type": "markdown",
   "metadata": {},
   "source": [
    "\\begin{equation}\n",
    "\\phi^{SE}(\\textbf{x}) = - \\sum_{\\hat{\\textbf{y}}} P(\\hat{\\textbf{y}} | \\textbf{x}; \\Theta) \n",
    "\\log(P(\\hat{\\textbf{y}} | \\textbf{x}; \\Theta))\n",
    "\\end{equation}\n",
    "where $\\hat{\\textbf{y}}$ ranges over all possible labels for example $\\textbf{x}$.  \n",
    "**Note** that the number of possible labels grows exponentially with $|Traj|$ in $\\textbf{x}$, to make computation feasible,\n",
    "[Kim06](http://www.aclweb.org/anthology/N06-2018) used the $N$-best possible labels to approximate, concretely, \n",
    "define **N-best Sequence Entropy** as\n",
    "\\begin{equation}\n",
    "\\phi^{NSE}(\\textbf{x}) = - \\sum_{\\hat{\\textbf{y}} \\in \\mathcal{N}} P(\\hat{\\textbf{y}} | \\textbf{x}; \\Theta) \n",
    "\\log(P(\\hat{\\textbf{y}} | \\textbf{x}; \\Theta))\n",
    "\\end{equation}\n",
    "where $\\mathcal{N} = \\{\\textbf{y}_1^*, \\dots, \\textbf{y}_N^*\\}$ is the set of the $N$ most likely labels of example $\\textbf{x}$.  \n",
    "This query strategy select the example $\\textbf{x}$ of maximum $\\phi^{SE}$ or $\\phi^{NSE}$ from all unlabelled examples in a pool to query."
   ]
  },
  {
   "cell_type": "markdown",
   "metadata": {},
   "source": [
    "Make a copy of training set and annotation set and use the copies."
   ]
  },
  {
   "cell_type": "code",
   "execution_count": 55,
   "metadata": {
    "collapsed": true
   },
   "outputs": [],
   "source": [
    "seqid_set_training = list(seqid_set_training0)\n",
    "seqid_set_annotate = list(seqid_set_annotate0)\n",
    "seqid_set_evaluate = list(seqid_set_evaluate0)"
   ]
  },
  {
   "cell_type": "code",
   "execution_count": 56,
   "metadata": {
    "collapsed": true
   },
   "outputs": [],
   "source": [
    "F1_scores_se = []\n",
    "seq_order_se = []"
   ]
  },
  {
   "cell_type": "code",
   "execution_count": 57,
   "metadata": {
    "collapsed": true
   },
   "outputs": [],
   "source": [
    "doCompute = True"
   ]
  },
  {
   "cell_type": "code",
   "execution_count": 58,
   "metadata": {
    "collapsed": true
   },
   "outputs": [],
   "source": [
    "if os.path.exists(fse) and os.path.exists(fose):\n",
    "    doCompute = False\n",
    "    F1_scores_se = pickle.load(open(fse, 'rb'))\n",
    "    seq_order_se = pickle.load(open(fose, 'rb'))"
   ]
  },
  {
   "cell_type": "markdown",
   "metadata": {},
   "source": [
    "Recommend trajectories using the initial training set and evaluate on test set."
   ]
  },
  {
   "cell_type": "code",
   "execution_count": 59,
   "metadata": {
    "collapsed": false
   },
   "outputs": [],
   "source": [
    "if doCompute:\n",
    "    (poi_info, poi_cat_transmat_log, poi_pop_transmat_log, poipair_distclass_mat, poipair_dist_transmat_log) = \\\n",
    "    estimate_parameter(seqid_set_training, poi_all, seq_all)\n",
    "    F1scores = evaluate_parallel(seqid_set_evaluate, poi_info, seq_all, poi_cat_transmat_log, \\\n",
    "                                 poi_pop_transmat_log, poipair_distclass_mat, poipair_dist_transmat_log)\n",
    "    F1_scores_se.append(F1scores)\n",
    "    print('Evaluation 0, F1 mean: %.2f, std: %.2f' % (np.mean(F1_scores_se[-1]), np.std(F1_scores_se[-1])))\n",
    "    sys.stdout.flush()"
   ]
  },
  {
   "cell_type": "markdown",
   "metadata": {},
   "source": [
    "Compute sequence entropy."
   ]
  },
  {
   "cell_type": "code",
   "execution_count": 60,
   "metadata": {
    "collapsed": true
   },
   "outputs": [],
   "source": [
    "def calc_sequence_entropy(start, end, length, poi_info, poi_cat_transmat_log, poi_pop_transmat_log, \\\n",
    "                          poipair_distclass_mat, poipair_dist_transmat_log):    \n",
    "    # enumerate trajectory\n",
    "    poi_list = poi_info.index.tolist()\n",
    "    enum_seqs = enum_seq345(start, end, length, poi_list)\n",
    "\n",
    "    # sequential\n",
    "    logL = []\n",
    "    for seq in enum_seqs:\n",
    "        logl = calc_seq_loglikelihood(seq, poi_info, poi_cat_transmat_log, poi_pop_transmat_log, \\\n",
    "                                      poipair_distclass_mat, poipair_dist_transmat_log)\n",
    "        logL.append(logl)\n",
    "    \n",
    "    probs = np.array(logL)\n",
    "    probs = np.exp(probs)\n",
    "    probs /= np.sum(probs) # normalise\n",
    "    \n",
    "    return -1 * np.dot(probs, np.log10(probs))"
   ]
  },
  {
   "cell_type": "markdown",
   "metadata": {},
   "source": [
    "Evaluate the baseline on test set using sequence entropy query strategy."
   ]
  },
  {
   "cell_type": "code",
   "execution_count": 61,
   "metadata": {
    "collapsed": false
   },
   "outputs": [],
   "source": [
    "if doCompute:\n",
    "    n = 1\n",
    "    seqs_annotate = [extract_seq(seqid, seq_all) for seqid in seqid_set_annotate]\n",
    "    # repeat until all sequences in annotation set have been queried \n",
    "    while len(seqid_set_annotate) > 0:\n",
    "        # choose sequence to query\n",
    "        seq_entropy_list = Parallel(n_jobs=-2)(delayed(calc_sequence_entropy)\\\n",
    "                           (seq[0], seq[-1], len(seq), poi_info, poi_cat_transmat_log, \\\n",
    "                            poi_pop_transmat_log, poipair_distclass_mat, poipair_dist_transmat_log) \\\n",
    "                           for seq in seqs_annotate)\n",
    "        assert(np.any(np.isnan(np.array(seq_entropy_list))) == False) # No NaN value\n",
    "        seq_idx = np.argmax(np.array(seq_entropy_list))\n",
    "\n",
    "        # add query result to training set, here just add the sequence id to training set\n",
    "        seq_order_se.append(seqid_set_annotate[seq_idx])\n",
    "        seqid_set_training.append(seqid_set_annotate[seq_idx])\n",
    "        print('Choose sequence %23s, SE: %.4f' % (str(seqs_annotate[seq_idx]), seq_entropy_list[seq_idx]))\n",
    "        sys.stdout.flush()\n",
    "\n",
    "        # remove the selected example from annotation set\n",
    "        del seqid_set_annotate[seq_idx]\n",
    "        del seqs_annotate[seq_idx]\n",
    "\n",
    "        # estimate parameters using the updated training set\n",
    "        (poi_info, poi_cat_transmat_log, poi_pop_transmat_log, poipair_distclass_mat, poipair_dist_transmat_log) = \\\n",
    "        estimate_parameter(seqid_set_training, poi_all, seq_all)\n",
    "\n",
    "        # evaluate on test set\n",
    "        F1scores = evaluate_parallel(seqid_set_evaluate, poi_info, seq_all, poi_cat_transmat_log, \\\n",
    "                                     poi_pop_transmat_log, poipair_distclass_mat, poipair_dist_transmat_log)\n",
    "        F1_scores_se.append(F1scores)\n",
    "        print('Evaluation %-3d/%d, F1 mean: %.2f, std: %.2f' % \\\n",
    "              (n, len(seqid_set_annotate0), np.mean(F1_scores_se[-1]), np.std(F1_scores_se[-1])))\n",
    "        sys.stdout.flush()\n",
    "        n += 1\n",
    "        \n",
    "    pickle.dump(F1_scores_se, open(fse, 'wb'))\n",
    "    pickle.dump(seq_order_se, open(fose, 'wb'))    "
   ]
  },
  {
   "cell_type": "markdown",
   "metadata": {},
   "source": [
    "Plot the learning curve."
   ]
  },
  {
   "cell_type": "code",
   "execution_count": 110,
   "metadata": {
    "collapsed": false
   },
   "outputs": [
    {
     "data": {
      "text/plain": [
       "<matplotlib.text.Text at 0x7f1157d20ba8>"
      ]
     },
     "execution_count": 110,
     "metadata": {},
     "output_type": "execute_result"
    },
    {
     "data": {
      "image/png": "[encoded data removed]",
      "text/plain": [
       "<matplotlib.figure.Figure at 0x7f115ed28048>"
      ]
     },
     "metadata": {},
     "output_type": "display_data"
    }
   ],
   "source": [
    "plt.figure(figsize=[15, 10])\n",
    "plt.boxplot(F1_scores_se)\n",
    "plt.plot(np.arange(len(F1_scores_se)), [np.mean(x) for x in F1_scores_se], color='g', marker='o')\n",
    "xticks = [10*x for x in range(int(round(len(F1_scores_se), -1)/10))]\n",
    "plt.xticks(xticks, xticks) # xticks starts from 1\n",
    "plt.ylim([0.3, 1.1])\n",
    "plt.xlabel('#query')\n",
    "plt.ylabel('F1')\n",
    "#plt.legend(loc='lower right')"
   ]
  },
  {
   "cell_type": "markdown",
   "metadata": {},
   "source": [
    "### 5.5 Maximum Information Density Strategy"
   ]
  },
  {
   "cell_type": "markdown",
   "metadata": {},
   "source": [
    "\\begin{equation}\n",
    "\\phi^{ID}(\\textbf{x}) = \\phi^{SE}(\\textbf{x}) \\times \n",
    "\\left(\n",
    "\\frac{1}{U} \\sum_{u=1}^U \\text{sim}(\\textbf{x}, \\textbf{x}^u)\n",
    "\\right)^\\beta\n",
    "\\end{equation}\n",
    "That is, the informativeness of example $\\textbf{x}$ is weighted by its average similarity to all other unlabelled examples (denoted by $\\mathcal{U})$ in the pool, subject to parameter $\\beta$ which was set to $1$ in [Settles08](http://citeseerx.ist.psu.edu/viewdoc/download?doi=10.1.1.187.7401&rep=rep1&type=pdf) giving no reason, \n",
    "sequence entropy $\\phi^{SE}$ measures the \"base\" informativeness and could be replaced by $\\phi^{NSE}$ defined above.  \n",
    "This query strategy select the example $\\textbf{x}$ of maximum $\\phi^{ID}$ from all unlabelled examples in a pool to query."
   ]
  },
  {
   "cell_type": "markdown",
   "metadata": {},
   "source": [
    "Define a function to compute the simularity between two trajectories, [Settles08](http://citeseerx.ist.psu.edu/viewdoc/download?doi=10.1.1.187.7401&rep=rep1&type=pdf) uses cosine simularity after transforming a sequence into a fixed length feature vector."
   ]
  },
  {
   "cell_type": "markdown",
   "metadata": {},
   "source": [
    "Let sequence $i$ $[p_{i_1}, p_{i_2}, \\dots, p_{i_{N1}}]$ and sequence $j$ $[p_{j_1}, p_{j_2}, \\dots, p_{j_{N1}}]$,\n",
    "define the similarity between sequence $i$ and $j$ as follows:\n",
    "\\begin{equation}\n",
    "\\text{sim}([p_{i_1}, p_{i_2}, \\dots, p_{i_{N1}}], [p_{j_1}, p_{j_2}, \\dots, p_{j_{N1}}]) = \n",
    "\\frac{\\lvert [p_{i_1}, p_{i_2}, \\dots, p_{i_{N1}}] \\cap [p_{j_1}, p_{j_2}, \\dots, p_{j_{N1}}] \\rvert}\n",
    "     {\\lvert [p_{i_1}, p_{i_2}, \\dots, p_{i_{N1}}] \\cup [p_{j_1}, p_{j_2}, \\dots, p_{j_{N1}}] \\rvert}\n",
    "\\end{equation}"
   ]
  },
  {
   "cell_type": "code",
   "execution_count": 63,
   "metadata": {
    "collapsed": true
   },
   "outputs": [],
   "source": [
    "def calc_sequence_similarity(seq1, seq2):\n",
    "    assert(len(seq1) > 0 and len(seq2) > 0)\n",
    "    return len(set(seq1) & set(seq2)) / len(set(seq1) | set(seq2))"
   ]
  },
  {
   "cell_type": "markdown",
   "metadata": {},
   "source": [
    "Make a copy of training set and annotation set and use the copies."
   ]
  },
  {
   "cell_type": "code",
   "execution_count": 64,
   "metadata": {
    "collapsed": true
   },
   "outputs": [],
   "source": [
    "seqid_set_training = list(seqid_set_training0)\n",
    "seqid_set_annotate = list(seqid_set_annotate0)\n",
    "seqid_set_evaluate = list(seqid_set_evaluate0)"
   ]
  },
  {
   "cell_type": "markdown",
   "metadata": {},
   "source": [
    "Compute the simularity between all pair of unlabelled exmaples.  \n",
    "**NOTE** that there are duplicate sequences exist."
   ]
  },
  {
   "cell_type": "code",
   "execution_count": 65,
   "metadata": {
    "collapsed": false
   },
   "outputs": [],
   "source": [
    "distinct_seqstr_list = {str(extract_seq(seqid, seq_all)) for seqid in seqid_set_annotate0}\n",
    "seqs_annotate0 = [parse_seqstr(seqstr) for seqstr in sorted(distinct_seqstr_list)] # distinct sequences\n",
    "seq_sim_mat = pd.DataFrame(data=np.zeros((len(seqs_annotate0), len(seqs_annotate0)), dtype=np.float), \\\n",
    "                           index=[str(x) for x in seqs_annotate0], columns=[str(x) for x in seqs_annotate0])\n",
    "for i in range(len(seqs_annotate0)):\n",
    "    for j in range(i, len(seqs_annotate0)):\n",
    "        sim = calc_sequence_similarity(seqs_annotate0[i], seqs_annotate0[j])\n",
    "        assert(not np.isnan(sim))\n",
    "        seq_sim_mat.iloc[i, j] = sim\n",
    "        seq_sim_mat.iloc[j, i] = sim"
   ]
  },
  {
   "cell_type": "markdown",
   "metadata": {},
   "source": [
    "Sanity check."
   ]
  },
  {
   "cell_type": "code",
   "execution_count": 66,
   "metadata": {
    "collapsed": false
   },
   "outputs": [
    {
     "data": {
      "text/html": [
       "<div>\n",
       "<table border=\"1\" class=\"dataframe\">\n",
       "  <thead>\n",
       "    <tr style=\"text-align: right;\">\n",
       "      <th></th>\n",
       "      <th>[1, 30, 4]</th>\n",
       "      <th>[1, 30, 7]</th>\n",
       "      <th>[11, 13, 30]</th>\n",
       "      <th>[11, 22, 23, 21]</th>\n",
       "      <th>[11, 24, 16, 7]</th>\n",
       "      <th>[11, 29, 7]</th>\n",
       "      <th>[13, 16, 29]</th>\n",
       "      <th>[13, 24, 16]</th>\n",
       "      <th>[16, 11, 23]</th>\n",
       "      <th>[16, 22, 29]</th>\n",
       "      <th>...</th>\n",
       "      <th>[8, 16, 1]</th>\n",
       "      <th>[8, 16, 22]</th>\n",
       "      <th>[8, 16, 4, 1, 29]</th>\n",
       "      <th>[8, 16, 4, 22]</th>\n",
       "      <th>[8, 16, 7]</th>\n",
       "      <th>[8, 19, 22]</th>\n",
       "      <th>[8, 24, 30]</th>\n",
       "      <th>[8, 30, 16]</th>\n",
       "      <th>[8, 30, 28, 23]</th>\n",
       "      <th>[8, 4, 16]</th>\n",
       "    </tr>\n",
       "  </thead>\n",
       "  <tbody>\n",
       "    <tr>\n",
       "      <th>[1, 30, 4]</th>\n",
       "      <td>1.0</td>\n",
       "      <td>0.500000</td>\n",
       "      <td>0.200000</td>\n",
       "      <td>0.000000</td>\n",
       "      <td>0.000000</td>\n",
       "      <td>0.000000</td>\n",
       "      <td>0.000000</td>\n",
       "      <td>0.0</td>\n",
       "      <td>0.0</td>\n",
       "      <td>0.000000</td>\n",
       "      <td>...</td>\n",
       "      <td>0.200000</td>\n",
       "      <td>0.000000</td>\n",
       "      <td>0.333333</td>\n",
       "      <td>0.166667</td>\n",
       "      <td>0.0</td>\n",
       "      <td>0.000000</td>\n",
       "      <td>0.200000</td>\n",
       "      <td>0.200000</td>\n",
       "      <td>0.166667</td>\n",
       "      <td>0.200000</td>\n",
       "    </tr>\n",
       "    <tr>\n",
       "      <th>[1, 30, 7]</th>\n",
       "      <td>0.5</td>\n",
       "      <td>1.000000</td>\n",
       "      <td>0.200000</td>\n",
       "      <td>0.000000</td>\n",
       "      <td>0.166667</td>\n",
       "      <td>0.200000</td>\n",
       "      <td>0.000000</td>\n",
       "      <td>0.0</td>\n",
       "      <td>0.0</td>\n",
       "      <td>0.000000</td>\n",
       "      <td>...</td>\n",
       "      <td>0.200000</td>\n",
       "      <td>0.000000</td>\n",
       "      <td>0.142857</td>\n",
       "      <td>0.000000</td>\n",
       "      <td>0.2</td>\n",
       "      <td>0.000000</td>\n",
       "      <td>0.200000</td>\n",
       "      <td>0.200000</td>\n",
       "      <td>0.166667</td>\n",
       "      <td>0.000000</td>\n",
       "    </tr>\n",
       "    <tr>\n",
       "      <th>[11, 13, 30]</th>\n",
       "      <td>0.2</td>\n",
       "      <td>0.200000</td>\n",
       "      <td>1.000000</td>\n",
       "      <td>0.166667</td>\n",
       "      <td>0.166667</td>\n",
       "      <td>0.200000</td>\n",
       "      <td>0.200000</td>\n",
       "      <td>0.2</td>\n",
       "      <td>0.2</td>\n",
       "      <td>0.000000</td>\n",
       "      <td>...</td>\n",
       "      <td>0.000000</td>\n",
       "      <td>0.000000</td>\n",
       "      <td>0.000000</td>\n",
       "      <td>0.000000</td>\n",
       "      <td>0.0</td>\n",
       "      <td>0.000000</td>\n",
       "      <td>0.200000</td>\n",
       "      <td>0.200000</td>\n",
       "      <td>0.166667</td>\n",
       "      <td>0.000000</td>\n",
       "    </tr>\n",
       "    <tr>\n",
       "      <th>[11, 22, 23, 21]</th>\n",
       "      <td>0.0</td>\n",
       "      <td>0.000000</td>\n",
       "      <td>0.166667</td>\n",
       "      <td>1.000000</td>\n",
       "      <td>0.142857</td>\n",
       "      <td>0.166667</td>\n",
       "      <td>0.000000</td>\n",
       "      <td>0.0</td>\n",
       "      <td>0.4</td>\n",
       "      <td>0.166667</td>\n",
       "      <td>...</td>\n",
       "      <td>0.000000</td>\n",
       "      <td>0.166667</td>\n",
       "      <td>0.000000</td>\n",
       "      <td>0.142857</td>\n",
       "      <td>0.0</td>\n",
       "      <td>0.166667</td>\n",
       "      <td>0.000000</td>\n",
       "      <td>0.000000</td>\n",
       "      <td>0.142857</td>\n",
       "      <td>0.000000</td>\n",
       "    </tr>\n",
       "    <tr>\n",
       "      <th>[11, 24, 16, 7]</th>\n",
       "      <td>0.0</td>\n",
       "      <td>0.166667</td>\n",
       "      <td>0.166667</td>\n",
       "      <td>0.142857</td>\n",
       "      <td>1.000000</td>\n",
       "      <td>0.400000</td>\n",
       "      <td>0.166667</td>\n",
       "      <td>0.4</td>\n",
       "      <td>0.4</td>\n",
       "      <td>0.166667</td>\n",
       "      <td>...</td>\n",
       "      <td>0.166667</td>\n",
       "      <td>0.166667</td>\n",
       "      <td>0.125000</td>\n",
       "      <td>0.142857</td>\n",
       "      <td>0.4</td>\n",
       "      <td>0.000000</td>\n",
       "      <td>0.166667</td>\n",
       "      <td>0.166667</td>\n",
       "      <td>0.000000</td>\n",
       "      <td>0.166667</td>\n",
       "    </tr>\n",
       "  </tbody>\n",
       "</table>\n",
       "<p>5 rows × 136 columns</p>\n",
       "</div>"
      ],
      "text/plain": [
       "                  [1, 30, 4]  [1, 30, 7]  [11, 13, 30]  [11, 22, 23, 21]  \\\n",
       "[1, 30, 4]               1.0    0.500000      0.200000          0.000000   \n",
       "[1, 30, 7]               0.5    1.000000      0.200000          0.000000   \n",
       "[11, 13, 30]             0.2    0.200000      1.000000          0.166667   \n",
       "[11, 22, 23, 21]         0.0    0.000000      0.166667          1.000000   \n",
       "[11, 24, 16, 7]          0.0    0.166667      0.166667          0.142857   \n",
       "\n",
       "                  [11, 24, 16, 7]  [11, 29, 7]  [13, 16, 29]  [13, 24, 16]  \\\n",
       "[1, 30, 4]               0.000000     0.000000      0.000000           0.0   \n",
       "[1, 30, 7]               0.166667     0.200000      0.000000           0.0   \n",
       "[11, 13, 30]             0.166667     0.200000      0.200000           0.2   \n",
       "[11, 22, 23, 21]         0.142857     0.166667      0.000000           0.0   \n",
       "[11, 24, 16, 7]          1.000000     0.400000      0.166667           0.4   \n",
       "\n",
       "                  [16, 11, 23]  [16, 22, 29]     ...      [8, 16, 1]  \\\n",
       "[1, 30, 4]                 0.0      0.000000     ...        0.200000   \n",
       "[1, 30, 7]                 0.0      0.000000     ...        0.200000   \n",
       "[11, 13, 30]               0.2      0.000000     ...        0.000000   \n",
       "[11, 22, 23, 21]           0.4      0.166667     ...        0.000000   \n",
       "[11, 24, 16, 7]            0.4      0.166667     ...        0.166667   \n",
       "\n",
       "                  [8, 16, 22]  [8, 16, 4, 1, 29]  [8, 16, 4, 22]  [8, 16, 7]  \\\n",
       "[1, 30, 4]           0.000000           0.333333        0.166667         0.0   \n",
       "[1, 30, 7]           0.000000           0.142857        0.000000         0.2   \n",
       "[11, 13, 30]         0.000000           0.000000        0.000000         0.0   \n",
       "[11, 22, 23, 21]     0.166667           0.000000        0.142857         0.0   \n",
       "[11, 24, 16, 7]      0.166667           0.125000        0.142857         0.4   \n",
       "\n",
       "                  [8, 19, 22]  [8, 24, 30]  [8, 30, 16]  [8, 30, 28, 23]  \\\n",
       "[1, 30, 4]           0.000000     0.200000     0.200000         0.166667   \n",
       "[1, 30, 7]           0.000000     0.200000     0.200000         0.166667   \n",
       "[11, 13, 30]         0.000000     0.200000     0.200000         0.166667   \n",
       "[11, 22, 23, 21]     0.166667     0.000000     0.000000         0.142857   \n",
       "[11, 24, 16, 7]      0.000000     0.166667     0.166667         0.000000   \n",
       "\n",
       "                  [8, 4, 16]  \n",
       "[1, 30, 4]          0.200000  \n",
       "[1, 30, 7]          0.000000  \n",
       "[11, 13, 30]        0.000000  \n",
       "[11, 22, 23, 21]    0.000000  \n",
       "[11, 24, 16, 7]     0.166667  \n",
       "\n",
       "[5 rows x 136 columns]"
      ]
     },
     "execution_count": 66,
     "metadata": {},
     "output_type": "execute_result"
    }
   ],
   "source": [
    "seq_sim_mat.head()"
   ]
  },
  {
   "cell_type": "code",
   "execution_count": 67,
   "metadata": {
    "collapsed": false
   },
   "outputs": [
    {
     "name": "stdout",
     "output_type": "stream",
     "text": [
      "0.100595238095\n"
     ]
    }
   ],
   "source": [
    "k = 5\n",
    "sumk = seq_sim_mat.iloc[k].sum()\n",
    "sumk /= len(seqs_annotate0)\n",
    "sumk = sumk**1\n",
    "print(sumk)"
   ]
  },
  {
   "cell_type": "code",
   "execution_count": 68,
   "metadata": {
    "collapsed": false
   },
   "outputs": [
    {
     "data": {
      "text/plain": [
       "[0.11134453781512604,\n",
       " 0.15213585434173668,\n",
       " 0.096848739495798308,\n",
       " 0.21778711484593835,\n",
       " 0.14343487394957982,\n",
       " 0.10059523809523808,\n",
       " 0.090371148459383752,\n",
       " 0.087815126050420175,\n",
       " 0.14880952380952381,\n",
       " 0.16785714285714287,\n",
       " 0.25099789915966381,\n",
       " 0.23102532679738561,\n",
       " 0.20733543417366948,\n",
       " 0.17941176470588238,\n",
       " 0.10675770308123249,\n",
       " 0.20588235294117646,\n",
       " 0.15830415499533146,\n",
       " 0.22120973389355739,\n",
       " 0.042498249299719883,\n",
       " 0.028676470588235293,\n",
       " 0.028676470588235293,\n",
       " 0.028676470588235293,\n",
       " 0.21843487394957983,\n",
       " 0.15843837535014005,\n",
       " 0.15262605042016805,\n",
       " 0.27563025210084036,\n",
       " 0.23961834733893556,\n",
       " 0.22380952380952379,\n",
       " 0.255234593837535,\n",
       " 0.22191876750700282,\n",
       " 0.16036414565826329,\n",
       " 0.21031162464985995,\n",
       " 0.21010445845004663,\n",
       " 0.20552345938375349,\n",
       " 0.092542016806722693,\n",
       " 0.23246965452847804,\n",
       " 0.21151960784313725,\n",
       " 0.16950280112044816,\n",
       " 0.17941176470588238,\n",
       " 0.24033321661998136,\n",
       " 0.2304096638655462,\n",
       " 0.19902836134453783,\n",
       " 0.23308823529411762,\n",
       " 0.22743347338935571,\n",
       " 0.22722338935574229,\n",
       " 0.27563025210084036,\n",
       " 0.20248599439775911,\n",
       " 0.23308823529411762,\n",
       " 0.12218137254901962,\n",
       " 0.11022408963585434,\n",
       " 0.11821603641456585,\n",
       " 0.19002100840336134,\n",
       " 0.12055322128851541,\n",
       " 0.23961834733893556,\n",
       " 0.22380952380952379,\n",
       " 0.22191876750700282,\n",
       " 0.21783963585434171,\n",
       " 0.23961834733893556,\n",
       " 0.23308823529411762,\n",
       " 0.15028011204481792,\n",
       " 0.22380952380952379,\n",
       " 0.23308823529411762,\n",
       " 0.14311974789915966,\n",
       " 0.17812500000000001,\n",
       " 0.23059640522875813,\n",
       " 0.024019607843137253,\n",
       " 0.15929621848739495,\n",
       " 0.13060224089635855,\n",
       " 0.082037815126050434,\n",
       " 0.20779936974789914,\n",
       " 0.094397759103641454,\n",
       " 0.068592436974789922,\n",
       " 0.22380952380952379,\n",
       " 0.22722338935574229,\n",
       " 0.15420168067226891,\n",
       " 0.15971638655462184,\n",
       " 0.2489437441643324,\n",
       " 0.22380952380952379,\n",
       " 0.23308823529411762,\n",
       " 0.14320728291316528,\n",
       " 0.15372899159663866,\n",
       " 0.12790616246498598,\n",
       " 0.15948879551820727,\n",
       " 0.19136321195144723,\n",
       " 0.19043534080298782,\n",
       " 0.21675420168067228,\n",
       " 0.18569677871148457,\n",
       " 0.23102532679738561,\n",
       " 0.16453081232492997,\n",
       " 0.21885504201680672,\n",
       " 0.27020308123249304,\n",
       " 0.16992296918767505,\n",
       " 0.11778711484593837,\n",
       " 0.15105042016806725,\n",
       " 0.23859418767507001,\n",
       " 0.20983018207282914,\n",
       " 0.21151960784313725,\n",
       " 0.28281979458450046,\n",
       " 0.19831057422969187,\n",
       " 0.17963935574229689,\n",
       " 0.042752100840336135,\n",
       " 0.14282212885154061,\n",
       " 0.12803162931839401,\n",
       " 0.10983893557422969,\n",
       " 0.1676470588235294,\n",
       " 0.092471988795518212,\n",
       " 0.15117296918767509,\n",
       " 0.21675420168067228,\n",
       " 0.17208508403361344,\n",
       " 0.17044817927170869,\n",
       " 0.20884103641456586,\n",
       " 0.19477415966386555,\n",
       " 0.25359768907563024,\n",
       " 0.13613445378151259,\n",
       " 0.2387955182072829,\n",
       " 0.20187324929971989,\n",
       " 0.23859418767507001,\n",
       " 0.14887955182072829,\n",
       " 0.13707983193277309,\n",
       " 0.20218837535014006,\n",
       " 0.23509278711484594,\n",
       " 0.21675420168067228,\n",
       " 0.27152777777777776,\n",
       " 0.28281979458450046,\n",
       " 0.17963935574229689,\n",
       " 0.11081932773109245,\n",
       " 0.1171218487394958,\n",
       " 0.18744747899159661,\n",
       " 0.12505543884220352,\n",
       " 0.18776260504201681,\n",
       " 0.17044817927170869,\n",
       " 0.11383053221288515,\n",
       " 0.13060224089635855,\n",
       " 0.18569677871148457,\n",
       " 0.20680147058823528,\n",
       " 0.13935574229691877]"
      ]
     },
     "execution_count": 68,
     "metadata": {},
     "output_type": "execute_result"
    }
   ],
   "source": [
    "sums=[(np.sum([seq_sim_mat.loc[str(x), str(y)] for y in seqs_annotate0])/len(seqs_annotate0))**1 for x in seqs_annotate0]\n",
    "sums"
   ]
  },
  {
   "cell_type": "code",
   "execution_count": 69,
   "metadata": {
    "collapsed": true
   },
   "outputs": [],
   "source": [
    "F1_scores_id = []\n",
    "seq_order_id = []"
   ]
  },
  {
   "cell_type": "code",
   "execution_count": 70,
   "metadata": {
    "collapsed": true
   },
   "outputs": [],
   "source": [
    "doCompute = True"
   ]
  },
  {
   "cell_type": "code",
   "execution_count": 71,
   "metadata": {
    "collapsed": false
   },
   "outputs": [],
   "source": [
    "if os.path.exists(fid) and os.path.exists(foid):\n",
    "    doCompute = False\n",
    "    F1_scores_id = pickle.load(open(fid, 'rb'))\n",
    "    seq_order_id = pickle.load(open(foid, 'rb'))"
   ]
  },
  {
   "cell_type": "markdown",
   "metadata": {},
   "source": [
    "Recommend trajectories using the initial training set and evaluate on test set."
   ]
  },
  {
   "cell_type": "code",
   "execution_count": 72,
   "metadata": {
    "collapsed": false
   },
   "outputs": [],
   "source": [
    "if doCompute:\n",
    "    (poi_info, poi_cat_transmat_log, poi_pop_transmat_log, poipair_distclass_mat, poipair_dist_transmat_log) = \\\n",
    "    estimate_parameter(seqid_set_training, poi_all, seq_all)\n",
    "    F1scores = evaluate_parallel(seqid_set_evaluate, poi_info, seq_all, poi_cat_transmat_log, \\\n",
    "                                 poi_pop_transmat_log, poipair_distclass_mat, poipair_dist_transmat_log)\n",
    "    F1_scores_id.append(F1scores)\n",
    "    print('Evaluation 0, F1 mean: %.2f, std: %.2f' % (np.mean(F1_scores_id[-1]), np.std(F1_scores_id[-1])))\n",
    "    sys.stdout.flush()"
   ]
  },
  {
   "cell_type": "markdown",
   "metadata": {},
   "source": [
    "Evaluate the baseline on test set using information density query strategy."
   ]
  },
  {
   "cell_type": "code",
   "execution_count": 73,
   "metadata": {
    "collapsed": false
   },
   "outputs": [],
   "source": [
    "if doCompute:\n",
    "    n = 1\n",
    "    beta = 1\n",
    "    seqs_annotate = [extract_seq(seqid, seq_all) for seqid in seqid_set_annotate]\n",
    "    # repeat until all sequences in annotation set have been queried \n",
    "    while len(seqid_set_annotate) > 0:\n",
    "        # choose sequence to query\n",
    "        seq_entropy_list = Parallel(n_jobs=-2)(delayed(calc_sequence_entropy)\\\n",
    "                           (seq[0], seq[-1], len(seq), poi_info, poi_cat_transmat_log, \\\n",
    "                            poi_pop_transmat_log, poipair_distclass_mat, poipair_dist_transmat_log) \\\n",
    "                           for seq in seqs_annotate)\n",
    "        assert(np.any(np.isnan(np.array(seq_entropy_list))) == False) # No NaN value\n",
    "        seq_sim_list = [(np.sum([seq_sim_mat.loc[str(x), str(y)] for y in seqs_annotate])/len(seqs_annotate))**beta \\\n",
    "                        for x in seqs_annotate]\n",
    "        assert(len(seq_entropy_list) == len(seq_sim_list))\n",
    "        seq_ids = np.multiply(np.array(seq_entropy_list), np.array(seq_sim_list))\n",
    "        seq_idx = np.argmax(seq_ids)\n",
    "\n",
    "        # add query result to training set, here just add the sequence id to training set\n",
    "        seq_order_id.append(seqid_set_annotate[seq_idx])\n",
    "        seqid_set_training.append(seqid_set_annotate[seq_idx])\n",
    "        print('Choose sequence %23s, ID:%.4f' % (str(seqs_annotate[seq_idx]), seq_ids[seq_idx]))\n",
    "        sys.stdout.flush()\n",
    "\n",
    "        # remove the selected example from annotation set\n",
    "        del seqid_set_annotate[seq_idx]\n",
    "        del seqs_annotate[seq_idx]\n",
    "\n",
    "        # estimate parameters using the updated training set\n",
    "        (poi_info, poi_cat_transmat_log, poi_pop_transmat_log, poipair_distclass_mat, poipair_dist_transmat_log) = \\\n",
    "        estimate_parameter(seqid_set_training, poi_all, seq_all)\n",
    "\n",
    "        # evaluate on test set\n",
    "        F1scores = evaluate_parallel(seqid_set_evaluate, poi_info, seq_all, poi_cat_transmat_log, \\\n",
    "                                     poi_pop_transmat_log, poipair_distclass_mat, poipair_dist_transmat_log)\n",
    "        F1_scores_id.append(F1scores)\n",
    "        print('Evaluation %-3d/%d, F1 mean: %.2f, std: %.2f' % \\\n",
    "              (n, len(seqid_set_annotate0), np.mean(F1_scores_id[-1]), np.std(F1_scores_id[-1])))\n",
    "        sys.stdout.flush()\n",
    "        n += 1\n",
    "        \n",
    "    pickle.dump(F1_scores_id, open(fse, 'wb'))\n",
    "    pickle.dump(seq_order_id, open(fose, 'wb'))"
   ]
  },
  {
   "cell_type": "markdown",
   "metadata": {},
   "source": [
    "Plot the learning curve."
   ]
  },
  {
   "cell_type": "code",
   "execution_count": 74,
   "metadata": {
    "collapsed": false
   },
   "outputs": [
    {
     "data": {
      "text/plain": [
       "<matplotlib.text.Text at 0x7f1165906c50>"
      ]
     },
     "execution_count": 74,
     "metadata": {},
     "output_type": "execute_result"
    },
    {
     "data": {
      "image/png": "[encoded data removed]",
      "text/plain": [
       "<matplotlib.figure.Figure at 0x7f11658f7a58>"
      ]
     },
     "metadata": {},
     "output_type": "display_data"
    }
   ],
   "source": [
    "plt.figure(figsize=[20, 15])\n",
    "plt.boxplot(F1_scores_id)\n",
    "plt.plot(np.arange(len(F1_scores_id)), [np.mean(x) for x in F1_scores_id], color='g', marker='s')\n",
    "xticks = [10*x for x in range(int(round(len(F1_scores_id), -1)/10))]\n",
    "plt.xticks(xticks, xticks) # xticks starts from 1\n",
    "plt.ylim([0.3, 1.1])\n",
    "plt.xlabel('#query')\n",
    "plt.ylabel('F1')\n",
    "#plt.legend(loc='lower right')"
   ]
  },
  {
   "cell_type": "markdown",
   "metadata": {},
   "source": [
    "### 5.6 Performance Comparison"
   ]
  },
  {
   "cell_type": "markdown",
   "metadata": {},
   "source": [
    "Random guessing probability."
   ]
  },
  {
   "cell_type": "code",
   "execution_count": 97,
   "metadata": {
    "collapsed": true
   },
   "outputs": [],
   "source": [
    "n3 = seq_stats[seq_stats['seqLen'] == 3].shape[0]\n",
    "n4 = seq_stats[seq_stats['seqLen'] == 4].shape[0]\n",
    "n5 = seq_stats[seq_stats['seqLen'] == 5].shape[0]\n",
    "nseq = n3 + n4 + n5\n",
    "npoi = seq_all[seq_all['seqID'].isin(seqid_set_exp)]['poiID'].unique().shape[0]"
   ]
  },
  {
   "cell_type": "code",
   "execution_count": 98,
   "metadata": {
    "collapsed": true
   },
   "outputs": [],
   "source": [
    "from scipy.misc import comb\n",
    "from math import factorial\n",
    "prob3 = (1*comb(1, 1) + (2/3)*comb(npoi-3, 1)) / (npoi-2)\n",
    "prob4 = (1*comb(2, 2) + (3/4)*comb(2, 1)*comb(npoi-4, 1) + (2/4)*comb(npoi-4, 2)) * factorial(2) / ((npoi-2) * (npoi-3))\n",
    "prob5 = (1*comb(3, 3) + (4/5)*comb(3, 2)*comb(npoi-5, 1) + (3/5)*comb(3, 1)*comb(npoi-5, 2) + (2/5)*comb(npoi-5, 3)) * \\\n",
    "        factorial(3) / ((npoi-2) * (npoi-3) * (npoi-4))"
   ]
  },
  {
   "cell_type": "code",
   "execution_count": 100,
   "metadata": {
    "collapsed": false
   },
   "outputs": [
    {
     "name": "stdout",
     "output_type": "stream",
     "text": [
      "0.632756437315\n"
     ]
    }
   ],
   "source": [
    "randguess = prob3 * (n3 / nseq) + prob4 * (n4 / nseq) + prob5 * (n5 / nseq)\n",
    "print(randguess)"
   ]
  },
  {
   "cell_type": "markdown",
   "metadata": {},
   "source": [
    "Compare learning curves using the mean of F1."
   ]
  },
  {
   "cell_type": "code",
   "execution_count": 109,
   "metadata": {
    "collapsed": false
   },
   "outputs": [
    {
     "data": {
      "text/plain": [
       "<matplotlib.legend.Legend at 0x7f1157cddcf8>"
      ]
     },
     "execution_count": 109,
     "metadata": {},
     "output_type": "execute_result"
    },
    {
     "data": {
      "image/png": "[encoded data removed]",
      "text/plain": [
       "<matplotlib.figure.Figure at 0x7f1157d7d080>"
      ]
     },
     "metadata": {},
     "output_type": "display_data"
    }
   ],
   "source": [
    "plt.figure(figsize=[20, 12])\n",
    "plt.plot(np.arange(len(F1_scores_rand)), [np.mean(x) for x in F1_scores_rand], marker='o', label='random baseline')\n",
    "plt.plot(np.arange(len(F1_scores_lc)),   [np.mean(x) for x in F1_scores_lc],   marker='d', label='least confident')\n",
    "plt.plot(np.arange(len(F1_scores_se)),   [np.mean(x) for x in F1_scores_se],   marker='s', label='sequence entropy')\n",
    "plt.plot(np.arange(len(F1_scores_id)),   [np.mean(x) for x in F1_scores_id],   marker='^', label='information density')\n",
    "plt.plot([0, len(F1_scores_rand)+1], [randguess, randguess], linestyle='--', label='random guessing')\n",
    "plt.xlim([0, len(F1_scores_rand)+1])\n",
    "plt.ylim([0.6, 0.8])\n",
    "plt.xlabel('#query')\n",
    "plt.ylabel('F1')\n",
    "plt.legend(loc='lower right')"
   ]
  },
  {
   "cell_type": "markdown",
   "metadata": {},
   "source": [
    "Compare learning curves using the median of F1."
   ]
  },
  {
   "cell_type": "code",
   "execution_count": 107,
   "metadata": {
    "collapsed": false
   },
   "outputs": [
    {
     "data": {
      "text/plain": [
       "<matplotlib.legend.Legend at 0x7f1157dd03c8>"
      ]
     },
     "execution_count": 107,
     "metadata": {},
     "output_type": "execute_result"
    },
    {
     "data": {
      "image/png": "[encoded data removed]",
      "text/plain": [
       "<matplotlib.figure.Figure at 0x7f1157e6aeb8>"
      ]
     },
     "metadata": {},
     "output_type": "display_data"
    }
   ],
   "source": [
    "plt.figure(figsize=[20, 12])\n",
    "plt.plot(np.arange(len(F1_scores_rand)), [np.median(x) for x in F1_scores_rand], marker='o', label='random baseline')\n",
    "plt.plot(np.arange(len(F1_scores_lc)),   [np.median(x) for x in F1_scores_lc],   marker='d', label='least confident')\n",
    "plt.plot(np.arange(len(F1_scores_se)),   [np.median(x) for x in F1_scores_se],   marker='s', label='sequence entropy')\n",
    "plt.plot(np.arange(len(F1_scores_id)),   [np.median(x) for x in F1_scores_id],   marker='^', label='information density')\n",
    "plt.plot([0, len(F1_scores_rand)+1], [randguess, randguess], linestyle='--', label='random guessing')\n",
    "plt.xlim([0, len(F1_scores_rand)+1])\n",
    "plt.ylim([0.6, 0.8])\n",
    "plt.xlabel('#query')\n",
    "plt.ylabel('F1')\n",
    "plt.legend(loc='lower right')"
   ]
  },
  {
   "cell_type": "code",
   "execution_count": null,
   "metadata": {
    "collapsed": true
   },
   "outputs": [],
   "source": []
  }
 ],
 "metadata": {
  "kernelspec": {
   "display_name": "Python 3",
   "language": "python",
   "name": "python3"
  },
  "language_info": {
   "codemirror_mode": {
    "name": "ipython",
    "version": 3
   },
   "file_extension": ".py",
   "mimetype": "text/x-python",
   "name": "python",
   "nbconvert_exporter": "python",
   "pygments_lexer": "ipython3",
   "version": "3.4.3"
  }
 },
 "nbformat": 4,
 "nbformat_minor": 0
}
