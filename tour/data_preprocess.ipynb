{
 "cells": [
  {
   "cell_type": "markdown",
   "metadata": {
    "collapsed": true
   },
   "source": [
    "# Dataset Preprocess"
   ]
  },
  {
   "cell_type": "markdown",
   "metadata": {},
   "source": [
    "<a id='toc'></a>"
   ]
  },
  {
   "cell_type": "markdown",
   "metadata": {},
   "source": [
    "[Table of Contents](#toc)\n",
    "1. [Load Data](#sec1)\n",
    "1. [Compute POI Information](#sec2)\n",
    "1. [Compute Trajectory Statistics](#sec3)\n",
    "1. [Filtering out Short Trajectories](#sec4)\n",
    "1. [Filtering out Trajectories with Sub-tours](#sec5)"
   ]
  },
  {
   "cell_type": "code",
   "execution_count": 1,
   "metadata": {
    "collapsed": false
   },
   "outputs": [],
   "source": [
    "% matplotlib inline\n",
    "\n",
    "import os\n",
    "import pandas as pd\n",
    "import numpy as np\n",
    "import matplotlib.pyplot as plt"
   ]
  },
  {
   "cell_type": "code",
   "execution_count": 2,
   "metadata": {
    "collapsed": true
   },
   "outputs": [],
   "source": [
    "dir_ijcai = 'data/data-ijcai15'\n",
    "dir_recsys = 'data/data-recsys16'"
   ]
  },
  {
   "cell_type": "code",
   "execution_count": 3,
   "metadata": {
    "collapsed": false
   },
   "outputs": [],
   "source": [
    "fvisit = os.path.join(dir_ijcai, 'userVisits-Osak.csv')\n",
    "fcoord = os.path.join(dir_ijcai, 'photoCoords-Osak.csv')\n",
    "#fvisit = os.path.join(dir_ijcai, 'userVisits-Glas.csv')\n",
    "#fcoord = os.path.join(dir_ijcai, 'photoCoords-Glas.csv')\n",
    "#fvisit = os.path.join(dir_ijcai, 'userVisits-Edin.csv')\n",
    "#fcoord = os.path.join(dir_ijcai, 'photoCoords-Edin.csv')\n",
    "#fvisit = os.path.join(dir_ijcai, 'userVisits-Toro.csv')\n",
    "#fcoord = os.path.join(dir_ijcai, 'photoCoords-Toro.csv')"
   ]
  },
  {
   "cell_type": "code",
   "execution_count": 4,
   "metadata": {
    "collapsed": true
   },
   "outputs": [],
   "source": [
    "suffix = fvisit.split('-')[-1].split('.')[0]"
   ]
  },
  {
   "cell_type": "code",
   "execution_count": 5,
   "metadata": {
    "collapsed": true
   },
   "outputs": [],
   "source": [
    "fpoi = os.path.join(dir_recsys, 'poi-' + suffix + '.csv')\n",
    "ftraj_all = os.path.join(dir_recsys, 'traj-all-' + suffix + '.csv')\n",
    "ftraj_noshort = os.path.join(dir_recsys, 'traj-noshort-' + suffix + '.csv')\n",
    "ftraj_nofew = os.path.join(dir_recsys, 'traj-nofew-' + suffix + '.csv')"
   ]
  },
  {
   "cell_type": "markdown",
   "metadata": {},
   "source": [
    "<a id='sec1'></a>"
   ]
  },
  {
   "cell_type": "markdown",
   "metadata": {},
   "source": [
    "## 1. Load Data"
   ]
  },
  {
   "cell_type": "markdown",
   "metadata": {},
   "source": [
    "Load user visit data and photo coordinates."
   ]
  },
  {
   "cell_type": "code",
   "execution_count": 6,
   "metadata": {
    "collapsed": false
   },
   "outputs": [
    {
     "data": {
      "text/html": [
       "<div>\n",
       "<table border=\"1\" class=\"dataframe\">\n",
       "  <thead>\n",
       "    <tr style=\"text-align: right;\">\n",
       "      <th></th>\n",
       "      <th>photoID</th>\n",
       "      <th>userID</th>\n",
       "      <th>dateTaken</th>\n",
       "      <th>poiID</th>\n",
       "      <th>poiTheme</th>\n",
       "      <th>poiFreq</th>\n",
       "      <th>seqID</th>\n",
       "      <th>photoLon</th>\n",
       "      <th>photoLat</th>\n",
       "    </tr>\n",
       "  </thead>\n",
       "  <tbody>\n",
       "    <tr>\n",
       "      <th>0</th>\n",
       "      <td>6656416589</td>\n",
       "      <td>10297518@N00</td>\n",
       "      <td>1277719324</td>\n",
       "      <td>20</td>\n",
       "      <td>Entertainment</td>\n",
       "      <td>514</td>\n",
       "      <td>1</td>\n",
       "      <td>135.500597</td>\n",
       "      <td>34.668722</td>\n",
       "    </tr>\n",
       "    <tr>\n",
       "      <th>1</th>\n",
       "      <td>6656418463</td>\n",
       "      <td>10297518@N00</td>\n",
       "      <td>1277719344</td>\n",
       "      <td>20</td>\n",
       "      <td>Entertainment</td>\n",
       "      <td>514</td>\n",
       "      <td>1</td>\n",
       "      <td>135.500447</td>\n",
       "      <td>34.668502</td>\n",
       "    </tr>\n",
       "    <tr>\n",
       "      <th>2</th>\n",
       "      <td>6656420371</td>\n",
       "      <td>10297518@N00</td>\n",
       "      <td>1277719541</td>\n",
       "      <td>20</td>\n",
       "      <td>Entertainment</td>\n",
       "      <td>514</td>\n",
       "      <td>1</td>\n",
       "      <td>135.500447</td>\n",
       "      <td>34.668502</td>\n",
       "    </tr>\n",
       "    <tr>\n",
       "      <th>3</th>\n",
       "      <td>6656421479</td>\n",
       "      <td>10297518@N00</td>\n",
       "      <td>1277719558</td>\n",
       "      <td>20</td>\n",
       "      <td>Entertainment</td>\n",
       "      <td>514</td>\n",
       "      <td>1</td>\n",
       "      <td>135.500447</td>\n",
       "      <td>34.668502</td>\n",
       "    </tr>\n",
       "    <tr>\n",
       "      <th>4</th>\n",
       "      <td>6656422763</td>\n",
       "      <td>10297518@N00</td>\n",
       "      <td>1277719573</td>\n",
       "      <td>20</td>\n",
       "      <td>Entertainment</td>\n",
       "      <td>514</td>\n",
       "      <td>1</td>\n",
       "      <td>135.500447</td>\n",
       "      <td>34.668502</td>\n",
       "    </tr>\n",
       "  </tbody>\n",
       "</table>\n",
       "</div>"
      ],
      "text/plain": [
       "      photoID        userID   dateTaken  poiID       poiTheme  poiFreq  seqID  \\\n",
       "0  6656416589  10297518@N00  1277719324     20  Entertainment      514      1   \n",
       "1  6656418463  10297518@N00  1277719344     20  Entertainment      514      1   \n",
       "2  6656420371  10297518@N00  1277719541     20  Entertainment      514      1   \n",
       "3  6656421479  10297518@N00  1277719558     20  Entertainment      514      1   \n",
       "4  6656422763  10297518@N00  1277719573     20  Entertainment      514      1   \n",
       "\n",
       "     photoLon   photoLat  \n",
       "0  135.500597  34.668722  \n",
       "1  135.500447  34.668502  \n",
       "2  135.500447  34.668502  \n",
       "3  135.500447  34.668502  \n",
       "4  135.500447  34.668502  "
      ]
     },
     "execution_count": 6,
     "metadata": {},
     "output_type": "execute_result"
    }
   ],
   "source": [
    "visits = pd.read_csv(fvisit, sep=';')\n",
    "coords = pd.read_csv(fcoord, sep=';')\n",
    "assert(visits.shape[0] == coords.shape[0])\n",
    "visits = pd.merge(visits, coords, on='photoID') # merge data frames according to column 'photoID'\n",
    "visits.head()"
   ]
  },
  {
   "cell_type": "code",
   "execution_count": 7,
   "metadata": {
    "collapsed": false
   },
   "outputs": [
    {
     "data": {
      "text/html": [
       "<div>\n",
       "<table border=\"1\" class=\"dataframe\">\n",
       "  <thead>\n",
       "    <tr style=\"text-align: right;\">\n",
       "      <th></th>\n",
       "      <th>#photo</th>\n",
       "      <th>#photo/user</th>\n",
       "      <th>#poi</th>\n",
       "      <th>#traj</th>\n",
       "      <th>#traj/user</th>\n",
       "      <th>#user</th>\n",
       "    </tr>\n",
       "  </thead>\n",
       "  <tbody>\n",
       "    <tr>\n",
       "      <th>Osak</th>\n",
       "      <td>7747</td>\n",
       "      <td>17.215556</td>\n",
       "      <td>27</td>\n",
       "      <td>1115</td>\n",
       "      <td>2.477778</td>\n",
       "      <td>450</td>\n",
       "    </tr>\n",
       "  </tbody>\n",
       "</table>\n",
       "</div>"
      ],
      "text/plain": [
       "      #photo  #photo/user  #poi  #traj  #traj/user  #user\n",
       "Osak    7747    17.215556    27   1115    2.477778    450"
      ]
     },
     "execution_count": 7,
     "metadata": {},
     "output_type": "execute_result"
    }
   ],
   "source": [
    "num_photo = visits['photoID'].unique().shape[0]\n",
    "num_user = visits['userID'].unique().shape[0]\n",
    "num_poi = visits['poiID'].unique().shape[0]\n",
    "num_traj = visits['seqID'].unique().shape[0]\n",
    "pd.DataFrame({'#photo': num_photo, '#user': num_user, '#poi': num_poi, '#traj': num_traj, \\\n",
    "              '#photo/user': num_photo/num_user, '#traj/user': num_traj/num_user}, index=[str(suffix)])"
   ]
  },
  {
   "cell_type": "markdown",
   "metadata": {},
   "source": [
    "<a id='sec2'></a>"
   ]
  },
  {
   "cell_type": "markdown",
   "metadata": {},
   "source": [
    "## 2. Compute POI Information"
   ]
  },
  {
   "cell_type": "markdown",
   "metadata": {},
   "source": [
    "Compute POI (Longitude, Latitude) as the average coordinates of the assigned photos."
   ]
  },
  {
   "cell_type": "code",
   "execution_count": 8,
   "metadata": {
    "collapsed": true
   },
   "outputs": [],
   "source": [
    "poi_coords = visits[['poiID', 'photoLon', 'photoLat']].groupby('poiID').mean()\n",
    "poi_coords.reset_index(inplace=True)\n",
    "poi_coords.rename(columns={'photoLon':'poiLon', 'photoLat':'poiLat'}, inplace=True)"
   ]
  },
  {
   "cell_type": "markdown",
   "metadata": {},
   "source": [
    "Extract POI category."
   ]
  },
  {
   "cell_type": "code",
   "execution_count": 9,
   "metadata": {
    "collapsed": true
   },
   "outputs": [],
   "source": [
    "poi_cat = visits[['poiID', 'poiTheme']].groupby('poiID').first()\n",
    "poi_cat.reset_index(inplace=True)"
   ]
  },
  {
   "cell_type": "code",
   "execution_count": 10,
   "metadata": {
    "collapsed": false
   },
   "outputs": [
    {
     "data": {
      "text/html": [
       "<div>\n",
       "<table border=\"1\" class=\"dataframe\">\n",
       "  <thead>\n",
       "    <tr style=\"text-align: right;\">\n",
       "      <th></th>\n",
       "      <th>poiCat</th>\n",
       "      <th>poiLon</th>\n",
       "      <th>poiLat</th>\n",
       "    </tr>\n",
       "    <tr>\n",
       "      <th>poiID</th>\n",
       "      <th></th>\n",
       "      <th></th>\n",
       "      <th></th>\n",
       "    </tr>\n",
       "  </thead>\n",
       "  <tbody>\n",
       "    <tr>\n",
       "      <th>1</th>\n",
       "      <td>Amusement</td>\n",
       "      <td>135.428938</td>\n",
       "      <td>34.654792</td>\n",
       "    </tr>\n",
       "    <tr>\n",
       "      <th>2</th>\n",
       "      <td>Amusement</td>\n",
       "      <td>135.430627</td>\n",
       "      <td>34.656145</td>\n",
       "    </tr>\n",
       "    <tr>\n",
       "      <th>3</th>\n",
       "      <td>Amusement</td>\n",
       "      <td>135.508558</td>\n",
       "      <td>34.652423</td>\n",
       "    </tr>\n",
       "    <tr>\n",
       "      <th>4</th>\n",
       "      <td>Amusement</td>\n",
       "      <td>135.433627</td>\n",
       "      <td>34.664758</td>\n",
       "    </tr>\n",
       "    <tr>\n",
       "      <th>5</th>\n",
       "      <td>Amusement</td>\n",
       "      <td>135.499894</td>\n",
       "      <td>34.703680</td>\n",
       "    </tr>\n",
       "    <tr>\n",
       "      <th>6</th>\n",
       "      <td>Amusement</td>\n",
       "      <td>135.490133</td>\n",
       "      <td>34.705323</td>\n",
       "    </tr>\n",
       "    <tr>\n",
       "      <th>7</th>\n",
       "      <td>Park</td>\n",
       "      <td>135.506961</td>\n",
       "      <td>34.692664</td>\n",
       "    </tr>\n",
       "    <tr>\n",
       "      <th>8</th>\n",
       "      <td>Park</td>\n",
       "      <td>135.525824</td>\n",
       "      <td>34.686534</td>\n",
       "    </tr>\n",
       "    <tr>\n",
       "      <th>9</th>\n",
       "      <td>Park</td>\n",
       "      <td>135.488806</td>\n",
       "      <td>34.612893</td>\n",
       "    </tr>\n",
       "    <tr>\n",
       "      <th>10</th>\n",
       "      <td>Park</td>\n",
       "      <td>135.510437</td>\n",
       "      <td>34.651042</td>\n",
       "    </tr>\n",
       "    <tr>\n",
       "      <th>11</th>\n",
       "      <td>Park</td>\n",
       "      <td>135.493854</td>\n",
       "      <td>34.685460</td>\n",
       "    </tr>\n",
       "    <tr>\n",
       "      <th>12</th>\n",
       "      <td>Park</td>\n",
       "      <td>135.521285</td>\n",
       "      <td>34.611329</td>\n",
       "    </tr>\n",
       "    <tr>\n",
       "      <th>15</th>\n",
       "      <td>Historical</td>\n",
       "      <td>135.516439</td>\n",
       "      <td>34.654092</td>\n",
       "    </tr>\n",
       "    <tr>\n",
       "      <th>16</th>\n",
       "      <td>Historical</td>\n",
       "      <td>135.492564</td>\n",
       "      <td>34.612657</td>\n",
       "    </tr>\n",
       "    <tr>\n",
       "      <th>17</th>\n",
       "      <td>Historical</td>\n",
       "      <td>135.529940</td>\n",
       "      <td>34.677757</td>\n",
       "    </tr>\n",
       "    <tr>\n",
       "      <th>18</th>\n",
       "      <td>Historical</td>\n",
       "      <td>135.512468</td>\n",
       "      <td>34.695621</td>\n",
       "    </tr>\n",
       "    <tr>\n",
       "      <th>19</th>\n",
       "      <td>Entertainment</td>\n",
       "      <td>135.479630</td>\n",
       "      <td>34.667784</td>\n",
       "    </tr>\n",
       "    <tr>\n",
       "      <th>20</th>\n",
       "      <td>Entertainment</td>\n",
       "      <td>135.500932</td>\n",
       "      <td>34.667430</td>\n",
       "    </tr>\n",
       "    <tr>\n",
       "      <th>21</th>\n",
       "      <td>Entertainment</td>\n",
       "      <td>135.500556</td>\n",
       "      <td>34.672393</td>\n",
       "    </tr>\n",
       "    <tr>\n",
       "      <th>22</th>\n",
       "      <td>Entertainment</td>\n",
       "      <td>135.506196</td>\n",
       "      <td>34.652166</td>\n",
       "    </tr>\n",
       "    <tr>\n",
       "      <th>23</th>\n",
       "      <td>Entertainment</td>\n",
       "      <td>135.505614</td>\n",
       "      <td>34.660004</td>\n",
       "    </tr>\n",
       "    <tr>\n",
       "      <th>24</th>\n",
       "      <td>Entertainment</td>\n",
       "      <td>135.498080</td>\n",
       "      <td>34.672085</td>\n",
       "    </tr>\n",
       "    <tr>\n",
       "      <th>25</th>\n",
       "      <td>Entertainment</td>\n",
       "      <td>135.482247</td>\n",
       "      <td>34.720070</td>\n",
       "    </tr>\n",
       "    <tr>\n",
       "      <th>26</th>\n",
       "      <td>Entertainment</td>\n",
       "      <td>139.768961</td>\n",
       "      <td>35.675154</td>\n",
       "    </tr>\n",
       "    <tr>\n",
       "      <th>27</th>\n",
       "      <td>Entertainment</td>\n",
       "      <td>135.501092</td>\n",
       "      <td>34.657725</td>\n",
       "    </tr>\n",
       "    <tr>\n",
       "      <th>28</th>\n",
       "      <td>Entertainment</td>\n",
       "      <td>135.502448</td>\n",
       "      <td>34.703257</td>\n",
       "    </tr>\n",
       "    <tr>\n",
       "      <th>29</th>\n",
       "      <td>Entertainment</td>\n",
       "      <td>135.505838</td>\n",
       "      <td>34.644641</td>\n",
       "    </tr>\n",
       "  </tbody>\n",
       "</table>\n",
       "</div>"
      ],
      "text/plain": [
       "              poiCat      poiLon     poiLat\n",
       "poiID                                      \n",
       "1          Amusement  135.428938  34.654792\n",
       "2          Amusement  135.430627  34.656145\n",
       "3          Amusement  135.508558  34.652423\n",
       "4          Amusement  135.433627  34.664758\n",
       "5          Amusement  135.499894  34.703680\n",
       "6          Amusement  135.490133  34.705323\n",
       "7               Park  135.506961  34.692664\n",
       "8               Park  135.525824  34.686534\n",
       "9               Park  135.488806  34.612893\n",
       "10              Park  135.510437  34.651042\n",
       "11              Park  135.493854  34.685460\n",
       "12              Park  135.521285  34.611329\n",
       "15        Historical  135.516439  34.654092\n",
       "16        Historical  135.492564  34.612657\n",
       "17        Historical  135.529940  34.677757\n",
       "18        Historical  135.512468  34.695621\n",
       "19     Entertainment  135.479630  34.667784\n",
       "20     Entertainment  135.500932  34.667430\n",
       "21     Entertainment  135.500556  34.672393\n",
       "22     Entertainment  135.506196  34.652166\n",
       "23     Entertainment  135.505614  34.660004\n",
       "24     Entertainment  135.498080  34.672085\n",
       "25     Entertainment  135.482247  34.720070\n",
       "26     Entertainment  139.768961  35.675154\n",
       "27     Entertainment  135.501092  34.657725\n",
       "28     Entertainment  135.502448  34.703257\n",
       "29     Entertainment  135.505838  34.644641"
      ]
     },
     "execution_count": 10,
     "metadata": {},
     "output_type": "execute_result"
    }
   ],
   "source": [
    "poi_all = pd.merge(poi_cat, poi_coords, on='poiID')\n",
    "poi_all.set_index('poiID', inplace=True)\n",
    "poi_all.rename(columns={'poiTheme':'poiCat'}, inplace=True)\n",
    "poi_all"
   ]
  },
  {
   "cell_type": "markdown",
   "metadata": {},
   "source": [
    "Scatter plot of POI coordinates."
   ]
  },
  {
   "cell_type": "code",
   "execution_count": 11,
   "metadata": {
    "collapsed": false
   },
   "outputs": [
    {
     "data": {
      "text/plain": [
       "<matplotlib.collections.PathCollection at 0x7f87f289dd68>"
      ]
     },
     "execution_count": 11,
     "metadata": {},
     "output_type": "execute_result"
    },
    {
     "data": {
      "image/png": "[encoded data removed]",
      "text/plain": [
       "<matplotlib.figure.Figure at 0x7f87f4931198>"
      ]
     },
     "metadata": {},
     "output_type": "display_data"
    }
   ],
   "source": [
    "height = 3\n",
    "ratio = (poi_all['poiLon'].max() - poi_all['poiLon'].min()) / (poi_all['poiLat'].max() - poi_all['poiLat'].min())\n",
    "plt.figure(figsize=[height * np.round(ratio), height])\n",
    "plt.scatter(poi_all['poiLon'], poi_all['poiLat'])"
   ]
  },
  {
   "cell_type": "markdown",
   "metadata": {},
   "source": [
    "Save POI information to CSV file."
   ]
  },
  {
   "cell_type": "code",
   "execution_count": 12,
   "metadata": {
    "collapsed": true
   },
   "outputs": [],
   "source": [
    "#poi_all.to_csv(fpoi, index=True)"
   ]
  },
  {
   "cell_type": "markdown",
   "metadata": {},
   "source": [
    "<a id='sec3'></a>"
   ]
  },
  {
   "cell_type": "markdown",
   "metadata": {},
   "source": [
    "## 3. Compute Trajectory Statistics"
   ]
  },
  {
   "cell_type": "markdown",
   "metadata": {},
   "source": [
    "Compute trajectories information including simple statistics such as length (#POIs), POI start time, POI endtime, etc."
   ]
  },
  {
   "cell_type": "code",
   "execution_count": 13,
   "metadata": {
    "collapsed": true
   },
   "outputs": [],
   "source": [
    "def calc_traj_df(seqid, visits):\n",
    "    \"\"\"Compute trajectories info, taking care of trajectories that contain sub-tours\"\"\"\n",
    "    traj_df = visits[visits['seqID'] == seqid].copy()\n",
    "    traj_df.sort_values(by='dateTaken', ascending=True, inplace=True)\n",
    "    df_ = pd.DataFrame(columns=['poiID', 'startTime', 'endTime', '#photo'])\n",
    "    assert(traj_df.shape[0] > 0)\n",
    "    ix = traj_df.index[0]\n",
    "    j = 0\n",
    "    df_.loc[j] = [traj_df.loc[ix, 'poiID'], traj_df.loc[ix, 'dateTaken'], traj_df.loc[ix, 'dateTaken'], 1]\n",
    "    for i in range(1, traj_df.shape[0]):\n",
    "        ix = traj_df.index[i]\n",
    "        if traj_df.loc[ix, 'poiID'] == df_.loc[j, 'poiID']:\n",
    "            df_.loc[j, 'endTime'] = traj_df.loc[ix, 'dateTaken']\n",
    "            df_.loc[j, '#photo'] += 1\n",
    "        else:\n",
    "            j += 1\n",
    "            df_.loc[j] = [traj_df.loc[ix, 'poiID'], traj_df.loc[ix, 'dateTaken'], traj_df.loc[ix, 'dateTaken'], 1]\n",
    "    df_['userID'] = traj_df.loc[traj_df.index[0], 'userID']\n",
    "    df_['trajID'] = seqid\n",
    "    df_['trajLen'] = df_.shape[0]\n",
    "    return df_"
   ]
  },
  {
   "cell_type": "code",
   "execution_count": 36,
   "metadata": {
    "collapsed": false
   },
   "outputs": [
    {
     "data": {
      "text/plain": [
       "1419"
      ]
     },
     "execution_count": 36,
     "metadata": {},
     "output_type": "execute_result"
    }
   ],
   "source": [
    "traj_all[['trajID', 'trajLen']].copy().groupby('trajID').first().sum().values[0]"
   ]
  },
  {
   "cell_type": "code",
   "execution_count": 14,
   "metadata": {
    "collapsed": false
   },
   "outputs": [
    {
     "data": {
      "text/html": [
       "<div>\n",
       "<table border=\"1\" class=\"dataframe\">\n",
       "  <thead>\n",
       "    <tr style=\"text-align: right;\">\n",
       "      <th></th>\n",
       "      <th>#photo</th>\n",
       "      <th>endTime</th>\n",
       "      <th>poiID</th>\n",
       "      <th>startTime</th>\n",
       "      <th>trajID</th>\n",
       "      <th>trajLen</th>\n",
       "      <th>userID</th>\n",
       "    </tr>\n",
       "  </thead>\n",
       "  <tbody>\n",
       "    <tr>\n",
       "      <th>0</th>\n",
       "      <td>6.0</td>\n",
       "      <td>1.277721e+09</td>\n",
       "      <td>20.0</td>\n",
       "      <td>1.277719e+09</td>\n",
       "      <td>1.0</td>\n",
       "      <td>1.0</td>\n",
       "      <td>10297518@N00</td>\n",
       "    </tr>\n",
       "    <tr>\n",
       "      <th>1</th>\n",
       "      <td>2.0</td>\n",
       "      <td>1.382608e+09</td>\n",
       "      <td>21.0</td>\n",
       "      <td>1.382608e+09</td>\n",
       "      <td>2.0</td>\n",
       "      <td>4.0</td>\n",
       "      <td>10307040@N08</td>\n",
       "    </tr>\n",
       "    <tr>\n",
       "      <th>2</th>\n",
       "      <td>1.0</td>\n",
       "      <td>1.382608e+09</td>\n",
       "      <td>8.0</td>\n",
       "      <td>1.382608e+09</td>\n",
       "      <td>2.0</td>\n",
       "      <td>4.0</td>\n",
       "      <td>10307040@N08</td>\n",
       "    </tr>\n",
       "    <tr>\n",
       "      <th>3</th>\n",
       "      <td>9.0</td>\n",
       "      <td>1.382609e+09</td>\n",
       "      <td>22.0</td>\n",
       "      <td>1.382608e+09</td>\n",
       "      <td>2.0</td>\n",
       "      <td>4.0</td>\n",
       "      <td>10307040@N08</td>\n",
       "    </tr>\n",
       "    <tr>\n",
       "      <th>4</th>\n",
       "      <td>1.0</td>\n",
       "      <td>1.382609e+09</td>\n",
       "      <td>6.0</td>\n",
       "      <td>1.382609e+09</td>\n",
       "      <td>2.0</td>\n",
       "      <td>4.0</td>\n",
       "      <td>10307040@N08</td>\n",
       "    </tr>\n",
       "  </tbody>\n",
       "</table>\n",
       "</div>"
      ],
      "text/plain": [
       "   #photo       endTime  poiID     startTime  trajID  trajLen        userID\n",
       "0     6.0  1.277721e+09   20.0  1.277719e+09     1.0      1.0  10297518@N00\n",
       "1     2.0  1.382608e+09   21.0  1.382608e+09     2.0      4.0  10307040@N08\n",
       "2     1.0  1.382608e+09    8.0  1.382608e+09     2.0      4.0  10307040@N08\n",
       "3     9.0  1.382609e+09   22.0  1.382608e+09     2.0      4.0  10307040@N08\n",
       "4     1.0  1.382609e+09    6.0  1.382609e+09     2.0      4.0  10307040@N08"
      ]
     },
     "execution_count": 14,
     "metadata": {},
     "output_type": "execute_result"
    }
   ],
   "source": [
    "traj_all = pd.DataFrame(columns=['userID', 'trajID', 'poiID', 'startTime', 'endTime', '#photo', 'trajLen'])\n",
    "for seqid in sorted(visits['seqID'].unique().tolist()):\n",
    "    traj_df = calc_traj_df(seqid, visits)\n",
    "    assert(int(traj_df['#photo'].sum()) >= traj_df.loc[0, 'trajLen'])\n",
    "    traj_all = traj_all.append(traj_df, ignore_index=True)\n",
    "traj_all.head()"
   ]
  },
  {
   "cell_type": "code",
   "execution_count": 15,
   "metadata": {
    "collapsed": false
   },
   "outputs": [
    {
     "data": {
      "text/plain": [
       "#photo       float64\n",
       "endTime      float64\n",
       "poiID        float64\n",
       "startTime    float64\n",
       "trajID       float64\n",
       "trajLen      float64\n",
       "userID        object\n",
       "dtype: object"
      ]
     },
     "execution_count": 15,
     "metadata": {},
     "output_type": "execute_result"
    }
   ],
   "source": [
    "traj_all.dtypes"
   ]
  },
  {
   "cell_type": "code",
   "execution_count": 16,
   "metadata": {
    "collapsed": true
   },
   "outputs": [],
   "source": [
    "int_cols = ['trajID', 'poiID', 'trajLen', 'startTime', 'endTime', '#photo']\n",
    "traj_all[int_cols] = traj_all[int_cols].astype(np.int, copy=False)"
   ]
  },
  {
   "cell_type": "markdown",
   "metadata": {},
   "source": [
    "Sanity check."
   ]
  },
  {
   "cell_type": "code",
   "execution_count": 17,
   "metadata": {
    "collapsed": false
   },
   "outputs": [
    {
     "name": "stdout",
     "output_type": "stream",
     "text": [
      "True\n",
      "True\n",
      "True\n"
     ]
    }
   ],
   "source": [
    "print(np.all(traj_all['trajLen'] >= 1))\n",
    "print(np.all(traj_all['#photo'] >= 1))\n",
    "print(np.all(traj_all['startTime'] <= traj_all['endTime']))"
   ]
  },
  {
   "cell_type": "code",
   "execution_count": 18,
   "metadata": {
    "collapsed": false
   },
   "outputs": [
    {
     "name": "stdout",
     "output_type": "stream",
     "text": [
      "(1419, 8)\n"
     ]
    },
    {
     "data": {
      "text/html": [
       "<div>\n",
       "<table border=\"1\" class=\"dataframe\">\n",
       "  <thead>\n",
       "    <tr style=\"text-align: right;\">\n",
       "      <th></th>\n",
       "      <th>#photo</th>\n",
       "      <th>endTime</th>\n",
       "      <th>poiID</th>\n",
       "      <th>startTime</th>\n",
       "      <th>trajID</th>\n",
       "      <th>trajLen</th>\n",
       "      <th>userID</th>\n",
       "      <th>poiDuration</th>\n",
       "    </tr>\n",
       "  </thead>\n",
       "  <tbody>\n",
       "    <tr>\n",
       "      <th>0</th>\n",
       "      <td>6</td>\n",
       "      <td>1277720832</td>\n",
       "      <td>20</td>\n",
       "      <td>1277719324</td>\n",
       "      <td>1</td>\n",
       "      <td>1</td>\n",
       "      <td>10297518@N00</td>\n",
       "      <td>1508</td>\n",
       "    </tr>\n",
       "    <tr>\n",
       "      <th>1</th>\n",
       "      <td>2</td>\n",
       "      <td>1382607774</td>\n",
       "      <td>21</td>\n",
       "      <td>1382607761</td>\n",
       "      <td>2</td>\n",
       "      <td>4</td>\n",
       "      <td>10307040@N08</td>\n",
       "      <td>13</td>\n",
       "    </tr>\n",
       "    <tr>\n",
       "      <th>2</th>\n",
       "      <td>1</td>\n",
       "      <td>1382607812</td>\n",
       "      <td>8</td>\n",
       "      <td>1382607812</td>\n",
       "      <td>2</td>\n",
       "      <td>4</td>\n",
       "      <td>10307040@N08</td>\n",
       "      <td>0</td>\n",
       "    </tr>\n",
       "    <tr>\n",
       "      <th>3</th>\n",
       "      <td>9</td>\n",
       "      <td>1382608628</td>\n",
       "      <td>22</td>\n",
       "      <td>1382607879</td>\n",
       "      <td>2</td>\n",
       "      <td>4</td>\n",
       "      <td>10307040@N08</td>\n",
       "      <td>749</td>\n",
       "    </tr>\n",
       "    <tr>\n",
       "      <th>4</th>\n",
       "      <td>1</td>\n",
       "      <td>1382608644</td>\n",
       "      <td>6</td>\n",
       "      <td>1382608644</td>\n",
       "      <td>2</td>\n",
       "      <td>4</td>\n",
       "      <td>10307040@N08</td>\n",
       "      <td>0</td>\n",
       "    </tr>\n",
       "  </tbody>\n",
       "</table>\n",
       "</div>"
      ],
      "text/plain": [
       "   #photo     endTime  poiID   startTime  trajID  trajLen        userID  \\\n",
       "0       6  1277720832     20  1277719324       1        1  10297518@N00   \n",
       "1       2  1382607774     21  1382607761       2        4  10307040@N08   \n",
       "2       1  1382607812      8  1382607812       2        4  10307040@N08   \n",
       "3       9  1382608628     22  1382607879       2        4  10307040@N08   \n",
       "4       1  1382608644      6  1382608644       2        4  10307040@N08   \n",
       "\n",
       "   poiDuration  \n",
       "0         1508  \n",
       "1           13  \n",
       "2            0  \n",
       "3          749  \n",
       "4            0  "
      ]
     },
     "execution_count": 18,
     "metadata": {},
     "output_type": "execute_result"
    }
   ],
   "source": [
    "traj_all['poiDuration'] = traj_all['endTime'] - traj_all['startTime']\n",
    "print(traj_all.shape)\n",
    "traj_all.head()"
   ]
  },
  {
   "cell_type": "code",
   "execution_count": 19,
   "metadata": {
    "collapsed": false
   },
   "outputs": [
    {
     "data": {
      "text/plain": [
       "#photo          int64\n",
       "endTime         int64\n",
       "poiID           int64\n",
       "startTime       int64\n",
       "trajID          int64\n",
       "trajLen         int64\n",
       "userID         object\n",
       "poiDuration     int64\n",
       "dtype: object"
      ]
     },
     "execution_count": 19,
     "metadata": {},
     "output_type": "execute_result"
    }
   ],
   "source": [
    "traj_all.dtypes"
   ]
  },
  {
   "cell_type": "code",
   "execution_count": 20,
   "metadata": {
    "collapsed": false
   },
   "outputs": [],
   "source": [
    "# ERROR: this method doesn't consider sub-tours in trajectory\n",
    "#traj_all = traj[['userID', 'seqID', 'poiID', 'dateTaken']].copy().groupby(['userID', 'seqID', 'poiID'])\\\n",
    "#           .agg([np.min, np.max, np.size])  \n",
    "#traj_all.columns = traj_all.columns.droplevel()\n",
    "#traj_all.reset_index(inplace=True)\n",
    "#traj_all.rename(columns={'amin':'startTime', 'amax':'endTime', 'size':'#photo', 'seqID':'trajID'}, inplace=True)"
   ]
  },
  {
   "cell_type": "markdown",
   "metadata": {},
   "source": [
    "Save trajectories and the associated stats to CSV files."
   ]
  },
  {
   "cell_type": "code",
   "execution_count": 21,
   "metadata": {
    "collapsed": true
   },
   "outputs": [],
   "source": [
    "#traj_all.to_csv(ftraj_all, index=False)"
   ]
  },
  {
   "cell_type": "markdown",
   "metadata": {},
   "source": [
    "<a id='sec4'></a>"
   ]
  },
  {
   "cell_type": "markdown",
   "metadata": {},
   "source": [
    "## 4. Filtering out Short Trajectories"
   ]
  },
  {
   "cell_type": "markdown",
   "metadata": {},
   "source": [
    "Filtering out short trajectories, i.e., trajectories with only 1 or 2 POIs."
   ]
  },
  {
   "cell_type": "code",
   "execution_count": 22,
   "metadata": {
    "collapsed": false
   },
   "outputs": [
    {
     "name": "stdout",
     "output_type": "stream",
     "text": [
      "(246, 8)\n"
     ]
    },
    {
     "data": {
      "text/html": [
       "<div>\n",
       "<table border=\"1\" class=\"dataframe\">\n",
       "  <thead>\n",
       "    <tr style=\"text-align: right;\">\n",
       "      <th></th>\n",
       "      <th>#photo</th>\n",
       "      <th>endTime</th>\n",
       "      <th>poiID</th>\n",
       "      <th>startTime</th>\n",
       "      <th>trajID</th>\n",
       "      <th>trajLen</th>\n",
       "      <th>userID</th>\n",
       "      <th>poiDuration</th>\n",
       "    </tr>\n",
       "  </thead>\n",
       "  <tbody>\n",
       "    <tr>\n",
       "      <th>1</th>\n",
       "      <td>2</td>\n",
       "      <td>1382607774</td>\n",
       "      <td>21</td>\n",
       "      <td>1382607761</td>\n",
       "      <td>2</td>\n",
       "      <td>4</td>\n",
       "      <td>10307040@N08</td>\n",
       "      <td>13</td>\n",
       "    </tr>\n",
       "    <tr>\n",
       "      <th>2</th>\n",
       "      <td>1</td>\n",
       "      <td>1382607812</td>\n",
       "      <td>8</td>\n",
       "      <td>1382607812</td>\n",
       "      <td>2</td>\n",
       "      <td>4</td>\n",
       "      <td>10307040@N08</td>\n",
       "      <td>0</td>\n",
       "    </tr>\n",
       "    <tr>\n",
       "      <th>3</th>\n",
       "      <td>9</td>\n",
       "      <td>1382608628</td>\n",
       "      <td>22</td>\n",
       "      <td>1382607879</td>\n",
       "      <td>2</td>\n",
       "      <td>4</td>\n",
       "      <td>10307040@N08</td>\n",
       "      <td>749</td>\n",
       "    </tr>\n",
       "    <tr>\n",
       "      <th>4</th>\n",
       "      <td>1</td>\n",
       "      <td>1382608644</td>\n",
       "      <td>6</td>\n",
       "      <td>1382608644</td>\n",
       "      <td>2</td>\n",
       "      <td>4</td>\n",
       "      <td>10307040@N08</td>\n",
       "      <td>0</td>\n",
       "    </tr>\n",
       "    <tr>\n",
       "      <th>5</th>\n",
       "      <td>8</td>\n",
       "      <td>1364287231</td>\n",
       "      <td>21</td>\n",
       "      <td>1364286248</td>\n",
       "      <td>3</td>\n",
       "      <td>3</td>\n",
       "      <td>10340578@N06</td>\n",
       "      <td>983</td>\n",
       "    </tr>\n",
       "  </tbody>\n",
       "</table>\n",
       "</div>"
      ],
      "text/plain": [
       "   #photo     endTime  poiID   startTime  trajID  trajLen        userID  \\\n",
       "1       2  1382607774     21  1382607761       2        4  10307040@N08   \n",
       "2       1  1382607812      8  1382607812       2        4  10307040@N08   \n",
       "3       9  1382608628     22  1382607879       2        4  10307040@N08   \n",
       "4       1  1382608644      6  1382608644       2        4  10307040@N08   \n",
       "5       8  1364287231     21  1364286248       3        3  10340578@N06   \n",
       "\n",
       "   poiDuration  \n",
       "1           13  \n",
       "2            0  \n",
       "3          749  \n",
       "4            0  \n",
       "5          983  "
      ]
     },
     "execution_count": 22,
     "metadata": {},
     "output_type": "execute_result"
    }
   ],
   "source": [
    "traj_noshort = traj_all[traj_all['trajLen'] >= 3].copy()\n",
    "print(traj_noshort.shape)\n",
    "traj_noshort.head()"
   ]
  },
  {
   "cell_type": "code",
   "execution_count": 23,
   "metadata": {
    "collapsed": false
   },
   "outputs": [
    {
     "data": {
      "text/plain": [
       "1595"
      ]
     },
     "execution_count": 23,
     "metadata": {},
     "output_type": "execute_result"
    }
   ],
   "source": [
    "traj_noshort['#photo'].sum()"
   ]
  },
  {
   "cell_type": "markdown",
   "metadata": {},
   "source": [
    "Save trajectories and the associated stats without short trajectories to CSV files."
   ]
  },
  {
   "cell_type": "code",
   "execution_count": 24,
   "metadata": {
    "collapsed": true
   },
   "outputs": [],
   "source": [
    "#traj_noshort.to_csv(ftraj_noshort, index=False)"
   ]
  },
  {
   "cell_type": "markdown",
   "metadata": {},
   "source": [
    "<a id='sec5'></a>"
   ]
  },
  {
   "cell_type": "markdown",
   "metadata": {},
   "source": [
    "## 5. Filtering out Users with Few Trajectories"
   ]
  },
  {
   "cell_type": "markdown",
   "metadata": {},
   "source": [
    "Filtering out users (and related trajectories) with few trajectories, e.g. less than $5$ trajectories."
   ]
  },
  {
   "cell_type": "code",
   "execution_count": 25,
   "metadata": {
    "collapsed": true
   },
   "outputs": [],
   "source": [
    "MIN_N = 5"
   ]
  },
  {
   "cell_type": "code",
   "execution_count": 26,
   "metadata": {
    "collapsed": true
   },
   "outputs": [],
   "source": [
    "user_list = []"
   ]
  },
  {
   "cell_type": "code",
   "execution_count": 27,
   "metadata": {
    "collapsed": true
   },
   "outputs": [],
   "source": [
    "for user in sorted(traj_all['userID'].unique().tolist()):\n",
    "    ntraj = traj_all[traj_all['userID'] == user]['trajID'].unique().shape[0]\n",
    "    if ntraj >= MIN_N:\n",
    "        user_list.append(user)"
   ]
  },
  {
   "cell_type": "code",
   "execution_count": 28,
   "metadata": {
    "collapsed": false
   },
   "outputs": [
    {
     "name": "stdout",
     "output_type": "stream",
     "text": [
      "(577, 8)\n"
     ]
    },
    {
     "data": {
      "text/html": [
       "<div>\n",
       "<table border=\"1\" class=\"dataframe\">\n",
       "  <thead>\n",
       "    <tr style=\"text-align: right;\">\n",
       "      <th></th>\n",
       "      <th>#photo</th>\n",
       "      <th>endTime</th>\n",
       "      <th>poiID</th>\n",
       "      <th>startTime</th>\n",
       "      <th>trajID</th>\n",
       "      <th>trajLen</th>\n",
       "      <th>userID</th>\n",
       "      <th>poiDuration</th>\n",
       "    </tr>\n",
       "  </thead>\n",
       "  <tbody>\n",
       "    <tr>\n",
       "      <th>39</th>\n",
       "      <td>2</td>\n",
       "      <td>1324897703</td>\n",
       "      <td>20</td>\n",
       "      <td>1324897657</td>\n",
       "      <td>20</td>\n",
       "      <td>1</td>\n",
       "      <td>12452841@N00</td>\n",
       "      <td>46</td>\n",
       "    </tr>\n",
       "    <tr>\n",
       "      <th>40</th>\n",
       "      <td>2</td>\n",
       "      <td>1325017685</td>\n",
       "      <td>20</td>\n",
       "      <td>1325017611</td>\n",
       "      <td>21</td>\n",
       "      <td>2</td>\n",
       "      <td>12452841@N00</td>\n",
       "      <td>74</td>\n",
       "    </tr>\n",
       "    <tr>\n",
       "      <th>41</th>\n",
       "      <td>1</td>\n",
       "      <td>1325022901</td>\n",
       "      <td>27</td>\n",
       "      <td>1325022901</td>\n",
       "      <td>21</td>\n",
       "      <td>2</td>\n",
       "      <td>12452841@N00</td>\n",
       "      <td>0</td>\n",
       "    </tr>\n",
       "    <tr>\n",
       "      <th>42</th>\n",
       "      <td>2</td>\n",
       "      <td>1397814456</td>\n",
       "      <td>21</td>\n",
       "      <td>1397807372</td>\n",
       "      <td>22</td>\n",
       "      <td>1</td>\n",
       "      <td>12452841@N00</td>\n",
       "      <td>7084</td>\n",
       "    </tr>\n",
       "    <tr>\n",
       "      <th>43</th>\n",
       "      <td>6</td>\n",
       "      <td>1397866532</td>\n",
       "      <td>20</td>\n",
       "      <td>1397866441</td>\n",
       "      <td>23</td>\n",
       "      <td>3</td>\n",
       "      <td>12452841@N00</td>\n",
       "      <td>91</td>\n",
       "    </tr>\n",
       "  </tbody>\n",
       "</table>\n",
       "</div>"
      ],
      "text/plain": [
       "    #photo     endTime  poiID   startTime  trajID  trajLen        userID  \\\n",
       "39       2  1324897703     20  1324897657      20        1  12452841@N00   \n",
       "40       2  1325017685     20  1325017611      21        2  12452841@N00   \n",
       "41       1  1325022901     27  1325022901      21        2  12452841@N00   \n",
       "42       2  1397814456     21  1397807372      22        1  12452841@N00   \n",
       "43       6  1397866532     20  1397866441      23        3  12452841@N00   \n",
       "\n",
       "    poiDuration  \n",
       "39           46  \n",
       "40           74  \n",
       "41            0  \n",
       "42         7084  \n",
       "43           91  "
      ]
     },
     "execution_count": 28,
     "metadata": {},
     "output_type": "execute_result"
    }
   ],
   "source": [
    "traj_nofew = traj_all[traj_all['userID'].isin(user_list)].copy()\n",
    "print(traj_nofew.shape)\n",
    "traj_nofew.head()"
   ]
  },
  {
   "cell_type": "markdown",
   "metadata": {},
   "source": [
    "Save trajectories."
   ]
  },
  {
   "cell_type": "code",
   "execution_count": 29,
   "metadata": {
    "collapsed": true
   },
   "outputs": [],
   "source": [
    "#traj_nofew.to_csv(ftraj_nofew, index=False)"
   ]
  },
  {
   "cell_type": "markdown",
   "metadata": {},
   "source": [
    "Sanity check."
   ]
  },
  {
   "cell_type": "code",
   "execution_count": 30,
   "metadata": {
    "collapsed": false
   },
   "outputs": [
    {
     "name": "stdout",
     "output_type": "stream",
     "text": [
      "Checking finished.\n"
     ]
    }
   ],
   "source": [
    "for user in sorted(traj_nofew['userID'].unique().tolist()):\n",
    "    udf = traj_nofew[traj_nofew['userID'] == user]\n",
    "    assert(udf['trajID'].unique().shape[0] >= MIN_N)\n",
    "print('Checking finished.')"
   ]
  }
 ],
 "metadata": {
  "kernelspec": {
   "display_name": "Python 3",
   "language": "python",
   "name": "python3"
  },
  "language_info": {
   "codemirror_mode": {
    "name": "ipython",
    "version": 3
   },
   "file_extension": ".py",
   "mimetype": "text/x-python",
   "name": "python",
   "nbconvert_exporter": "python",
   "pygments_lexer": "ipython3",
   "version": "3.5.1"
  }
 },
 "nbformat": 4,
 "nbformat_minor": 0
}
