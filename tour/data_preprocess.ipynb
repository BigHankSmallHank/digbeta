{
 "cells": [
  {
   "cell_type": "markdown",
   "metadata": {
    "collapsed": true
   },
   "source": [
    "# Dataset Preprocess"
   ]
  },
  {
   "cell_type": "markdown",
   "metadata": {},
   "source": [
    "<a id='toc'></a>"
   ]
  },
  {
   "cell_type": "markdown",
   "metadata": {},
   "source": [
    "[Table of Contents](#toc)\n",
    "1. [Load Data](#sec1)\n",
    "1. [Compute POI Information](#sec2)\n",
    "1. [Compute Trajectory Statistics](#sec3)\n",
    "1. [Filtering out Short Trajectories](#sec4)\n",
    "1. [Filtering out Trajectories with Sub-tours](#sec5)"
   ]
  },
  {
   "cell_type": "code",
   "execution_count": null,
   "metadata": {
    "collapsed": false
   },
   "outputs": [],
   "source": [
    "% matplotlib inline\n",
    "\n",
    "import os\n",
    "import pandas as pd\n",
    "import numpy as np\n",
    "import matplotlib.pyplot as plt"
   ]
  },
  {
   "cell_type": "code",
   "execution_count": null,
   "metadata": {
    "collapsed": true
   },
   "outputs": [],
   "source": [
    "dir_ijcai = 'data/data-ijcai15'\n",
    "dir_recsys = 'data/data-recsys16'"
   ]
  },
  {
   "cell_type": "code",
   "execution_count": null,
   "metadata": {
    "collapsed": false
   },
   "outputs": [],
   "source": [
    "#fvisit = os.path.join(dir_ijcai, 'userVisits-Osak.csv')\n",
    "#fcoord = os.path.join(dir_ijcai, 'photoCoords-Osak.csv')\n",
    "#fvisit = os.path.join(dir_ijcai, 'userVisits-Glas.csv')\n",
    "#fcoord = os.path.join(dir_ijcai, 'photoCoords-Glas.csv')\n",
    "#fvisit = os.path.join(dir_ijcai, 'userVisits-Edin.csv')\n",
    "#fcoord = os.path.join(dir_ijcai, 'photoCoords-Edin.csv')\n",
    "fvisit = os.path.join(dir_ijcai, 'userVisits-Toro.csv')\n",
    "fcoord = os.path.join(dir_ijcai, 'photoCoords-Toro.csv')"
   ]
  },
  {
   "cell_type": "code",
   "execution_count": null,
   "metadata": {
    "collapsed": true
   },
   "outputs": [],
   "source": [
    "suffix = fvisit.split('-')[-1].split('.')[0]"
   ]
  },
  {
   "cell_type": "code",
   "execution_count": null,
   "metadata": {
    "collapsed": true
   },
   "outputs": [],
   "source": [
    "fpoi = os.path.join(dir_recsys, 'poi-' + suffix + '.csv')\n",
    "ftraj_all = os.path.join(dir_recsys, 'traj-all-' + suffix + '.csv')\n",
    "ftraj_noshort = os.path.join(dir_recsys, 'traj-noshort-' + suffix + '.csv')\n",
    "ftraj_nofew = os.path.join(dir_recsys, 'traj-nofew-' + suffix + '.csv')"
   ]
  },
  {
   "cell_type": "markdown",
   "metadata": {},
   "source": [
    "<a id='sec1'></a>"
   ]
  },
  {
   "cell_type": "markdown",
   "metadata": {},
   "source": [
    "## 1. Load Data"
   ]
  },
  {
   "cell_type": "markdown",
   "metadata": {},
   "source": [
    "Load user visit data and photo coordinates."
   ]
  },
  {
   "cell_type": "code",
   "execution_count": null,
   "metadata": {
    "collapsed": false
   },
   "outputs": [],
   "source": [
    "visits = pd.read_csv(fvisit, sep=';')\n",
    "coords = pd.read_csv(fcoord, sep=';')\n",
    "assert(visits.shape[0] == coords.shape[0])\n",
    "visits = pd.merge(visits, coords, on='photoID') # merge data frames according to column 'photoID'\n",
    "visits.head()"
   ]
  },
  {
   "cell_type": "code",
   "execution_count": null,
   "metadata": {
    "collapsed": false
   },
   "outputs": [],
   "source": [
    "num_photo = visits['photoID'].unique().shape[0]\n",
    "num_user = visits['userID'].unique().shape[0]\n",
    "num_poi = visits['poiID'].unique().shape[0]\n",
    "num_traj = visits['seqID'].unique().shape[0]\n",
    "pd.DataFrame({'#photo': num_photo, '#user': num_user, '#poi': num_poi, '#traj': num_traj, \\\n",
    "              '#photo/user': num_photo/num_user, '#traj/user': num_traj/num_user}, index=[str(suffix)])"
   ]
  },
  {
   "cell_type": "markdown",
   "metadata": {},
   "source": [
    "<a id='sec2'></a>"
   ]
  },
  {
   "cell_type": "markdown",
   "metadata": {},
   "source": [
    "## 2. Compute POI Information"
   ]
  },
  {
   "cell_type": "markdown",
   "metadata": {},
   "source": [
    "Compute POI (Longitude, Latitude) as the average coordinates of the assigned photos."
   ]
  },
  {
   "cell_type": "code",
   "execution_count": null,
   "metadata": {
    "collapsed": true
   },
   "outputs": [],
   "source": [
    "poi_coords = visits[['poiID', 'photoLon', 'photoLat']].groupby('poiID').mean()\n",
    "poi_coords.reset_index(inplace=True)\n",
    "poi_coords.rename(columns={'photoLon':'poiLon', 'photoLat':'poiLat'}, inplace=True)"
   ]
  },
  {
   "cell_type": "markdown",
   "metadata": {},
   "source": [
    "Extract POI category."
   ]
  },
  {
   "cell_type": "code",
   "execution_count": null,
   "metadata": {
    "collapsed": true
   },
   "outputs": [],
   "source": [
    "poi_cat = visits[['poiID', 'poiTheme']].groupby('poiID').first()\n",
    "poi_cat.reset_index(inplace=True)"
   ]
  },
  {
   "cell_type": "code",
   "execution_count": null,
   "metadata": {
    "collapsed": false
   },
   "outputs": [],
   "source": [
    "poi_all = pd.merge(poi_cat, poi_coords, on='poiID')\n",
    "poi_all.set_index('poiID', inplace=True)\n",
    "poi_all.rename(columns={'poiTheme':'poiCat'}, inplace=True)\n",
    "poi_all"
   ]
  },
  {
   "cell_type": "markdown",
   "metadata": {},
   "source": [
    "Scatter plot of POI coordinates."
   ]
  },
  {
   "cell_type": "code",
   "execution_count": null,
   "metadata": {
    "collapsed": false
   },
   "outputs": [],
   "source": [
    "height = 3\n",
    "ratio = (poi_all['poiLon'].max() - poi_all['poiLon'].min()) / (poi_all['poiLat'].max() - poi_all['poiLat'].min())\n",
    "plt.figure(figsize=[height * np.round(ratio), height])\n",
    "plt.scatter(poi_all['poiLon'], poi_all['poiLat'])"
   ]
  },
  {
   "cell_type": "markdown",
   "metadata": {},
   "source": [
    "Save POI information to CSV file."
   ]
  },
  {
   "cell_type": "code",
   "execution_count": null,
   "metadata": {
    "collapsed": true
   },
   "outputs": [],
   "source": [
    "#poi_all.to_csv(fpoi, index=True)"
   ]
  },
  {
   "cell_type": "markdown",
   "metadata": {},
   "source": [
    "<a id='sec3'></a>"
   ]
  },
  {
   "cell_type": "markdown",
   "metadata": {},
   "source": [
    "## 3. Compute Trajectory Statistics"
   ]
  },
  {
   "cell_type": "markdown",
   "metadata": {},
   "source": [
    "Compute trajectories information including simple statistics such as length (#POIs), POI start time, POI endtime, etc."
   ]
  },
  {
   "cell_type": "code",
   "execution_count": null,
   "metadata": {
    "collapsed": true
   },
   "outputs": [],
   "source": [
    "def calc_traj_df(seqid, visits):\n",
    "    \"\"\"Compute trajectories info, taking care of trajectories that contain sub-tours\"\"\"\n",
    "    traj_df = visits[visits['seqID'] == seqid].copy()\n",
    "    traj_df.sort_values(by='dateTaken', ascending=True, inplace=True)\n",
    "    df_ = pd.DataFrame(columns=['poiID', 'startTime', 'endTime', '#photo'])\n",
    "    assert(traj_df.shape[0] > 0)\n",
    "    ix = traj_df.index[0]\n",
    "    j = 0\n",
    "    df_.loc[j] = [traj_df.loc[ix, 'poiID'], traj_df.loc[ix, 'dateTaken'], traj_df.loc[ix, 'dateTaken'], 1]\n",
    "    for i in range(1, traj_df.shape[0]):\n",
    "        ix = traj_df.index[i]\n",
    "        if traj_df.loc[ix, 'poiID'] == df_.loc[j, 'poiID']:\n",
    "            df_.loc[j, 'endTime'] = traj_df.loc[ix, 'dateTaken']\n",
    "            df_.loc[j, '#photo'] += 1\n",
    "        else:\n",
    "            j += 1\n",
    "            df_.loc[j] = [traj_df.loc[ix, 'poiID'], traj_df.loc[ix, 'dateTaken'], traj_df.loc[ix, 'dateTaken'], 1]\n",
    "    df_['userID'] = traj_df.loc[traj_df.index[0], 'userID']\n",
    "    df_['trajID'] = traj_df.loc[traj_df.index[0], 'seqID']\n",
    "    df_['trajLen'] = df_.shape[0]\n",
    "    return df_"
   ]
  },
  {
   "cell_type": "code",
   "execution_count": null,
   "metadata": {
    "collapsed": false
   },
   "outputs": [],
   "source": [
    "traj_all = pd.DataFrame(columns=['userID', 'trajID', 'poiID', 'startTime', 'endTime', '#photo', 'trajLen'])\n",
    "for seqid in sorted(visits['seqID'].unique().tolist()):\n",
    "    traj_df = calc_traj_df(seqid, visits)\n",
    "    traj_all = traj_all.append(traj_df, ignore_index=True)\n",
    "traj_all.head()"
   ]
  },
  {
   "cell_type": "code",
   "execution_count": null,
   "metadata": {
    "collapsed": false
   },
   "outputs": [],
   "source": [
    "traj_all.dtypes"
   ]
  },
  {
   "cell_type": "code",
   "execution_count": null,
   "metadata": {
    "collapsed": true
   },
   "outputs": [],
   "source": [
    "int_cols = ['trajID', 'poiID', 'trajLen', 'startTime', 'endTime', '#photo']\n",
    "traj_all[int_cols] = traj_all[int_cols].astype(np.int, copy=False)"
   ]
  },
  {
   "cell_type": "markdown",
   "metadata": {},
   "source": [
    "Sanity check."
   ]
  },
  {
   "cell_type": "code",
   "execution_count": null,
   "metadata": {
    "collapsed": false
   },
   "outputs": [],
   "source": [
    "print(np.all(traj_all['trajLen'] >= 1))\n",
    "print(np.all(traj_all['#photo'] >= 1))\n",
    "print(np.all(traj_all['startTime'] <= traj_all['endTime']))"
   ]
  },
  {
   "cell_type": "code",
   "execution_count": null,
   "metadata": {
    "collapsed": false
   },
   "outputs": [],
   "source": [
    "traj_all['poiDuration'] = traj_all['endTime'] - traj_all['startTime']\n",
    "print(traj_all.shape)\n",
    "traj_all.head()"
   ]
  },
  {
   "cell_type": "code",
   "execution_count": null,
   "metadata": {
    "collapsed": false
   },
   "outputs": [],
   "source": [
    "traj_all.dtypes"
   ]
  },
  {
   "cell_type": "code",
   "execution_count": null,
   "metadata": {
    "collapsed": false
   },
   "outputs": [],
   "source": [
    "# ERROR: this method doesn't consider sub-tours in trajectory\n",
    "#traj_all = traj[['userID', 'seqID', 'poiID', 'dateTaken']].copy().groupby(['userID', 'seqID', 'poiID'])\\\n",
    "#           .agg([np.min, np.max, np.size])  \n",
    "#traj_all.columns = traj_all.columns.droplevel()\n",
    "#traj_all.reset_index(inplace=True)\n",
    "#traj_all.rename(columns={'amin':'startTime', 'amax':'endTime', 'size':'#photo', 'seqID':'trajID'}, inplace=True)"
   ]
  },
  {
   "cell_type": "markdown",
   "metadata": {},
   "source": [
    "Save trajectories and the associated stats to CSV files."
   ]
  },
  {
   "cell_type": "code",
   "execution_count": null,
   "metadata": {
    "collapsed": true
   },
   "outputs": [],
   "source": [
    "#traj_all.to_csv(ftraj_all, index=False)"
   ]
  },
  {
   "cell_type": "markdown",
   "metadata": {},
   "source": [
    "<a id='sec4'></a>"
   ]
  },
  {
   "cell_type": "markdown",
   "metadata": {},
   "source": [
    "## 4. Filtering out Short Trajectories"
   ]
  },
  {
   "cell_type": "markdown",
   "metadata": {},
   "source": [
    "Filtering out short trajectories, i.e., trajectories with only 1 or 2 POIs."
   ]
  },
  {
   "cell_type": "code",
   "execution_count": null,
   "metadata": {
    "collapsed": false
   },
   "outputs": [],
   "source": [
    "traj_noshort = traj_all[traj_all['trajLen'] >= 3].copy()\n",
    "print(traj_noshort.shape)\n",
    "traj_noshort.head()"
   ]
  },
  {
   "cell_type": "code",
   "execution_count": null,
   "metadata": {
    "collapsed": false
   },
   "outputs": [],
   "source": [
    "traj_noshort['#photo'].sum()"
   ]
  },
  {
   "cell_type": "markdown",
   "metadata": {},
   "source": [
    "Save trajectories and the associated stats without short trajectories to CSV files."
   ]
  },
  {
   "cell_type": "code",
   "execution_count": null,
   "metadata": {
    "collapsed": true
   },
   "outputs": [],
   "source": [
    "#traj_noshort.to_csv(ftraj_noshort, index=False)"
   ]
  },
  {
   "cell_type": "markdown",
   "metadata": {},
   "source": [
    "<a id='sec5'></a>"
   ]
  },
  {
   "cell_type": "markdown",
   "metadata": {},
   "source": [
    "## 5. Filtering out Users with Few Trajectories"
   ]
  },
  {
   "cell_type": "markdown",
   "metadata": {},
   "source": [
    "Filtering out users (and related trajectories) with few trajectories, e.g. less than $5$ trajectories."
   ]
  },
  {
   "cell_type": "code",
   "execution_count": null,
   "metadata": {
    "collapsed": true
   },
   "outputs": [],
   "source": [
    "MIN_N = 5"
   ]
  },
  {
   "cell_type": "code",
   "execution_count": null,
   "metadata": {
    "collapsed": true
   },
   "outputs": [],
   "source": [
    "user_list = []"
   ]
  },
  {
   "cell_type": "code",
   "execution_count": null,
   "metadata": {
    "collapsed": true
   },
   "outputs": [],
   "source": [
    "for user in sorted(traj_all['userID'].unique().tolist()):\n",
    "    ntraj = traj_all[traj_all['userID'] == user]['trajID'].unique().shape[0]\n",
    "    if ntraj >= MIN_N:\n",
    "        user_list.append(user)"
   ]
  },
  {
   "cell_type": "code",
   "execution_count": null,
   "metadata": {
    "collapsed": false
   },
   "outputs": [],
   "source": [
    "traj_nofew = traj_all[traj_all['userID'].isin(user_list)].copy()\n",
    "print(traj_nofew.shape)\n",
    "traj_nofew.head()"
   ]
  },
  {
   "cell_type": "markdown",
   "metadata": {},
   "source": [
    "Save trajectories."
   ]
  },
  {
   "cell_type": "code",
   "execution_count": null,
   "metadata": {
    "collapsed": true
   },
   "outputs": [],
   "source": [
    "traj_nofew.to_csv(ftraj_nofew, index=False)"
   ]
  },
  {
   "cell_type": "markdown",
   "metadata": {},
   "source": [
    "Sanity check."
   ]
  },
  {
   "cell_type": "code",
   "execution_count": null,
   "metadata": {
    "collapsed": false
   },
   "outputs": [],
   "source": [
    "for user in sorted(traj_nofew['userID'].unique().tolist()):\n",
    "    udf = traj_nofew[traj_nofew['userID'] == user]\n",
    "    assert(udf['trajID'].unique().shape[0] >= MIN_N)\n",
    "print('Checking finished.')"
   ]
  }
 ],
 "metadata": {
  "kernelspec": {
   "display_name": "Python 3",
   "language": "python",
   "name": "python3"
  },
  "language_info": {
   "codemirror_mode": {
    "name": "ipython",
    "version": 3
   },
   "file_extension": ".py",
   "mimetype": "text/x-python",
   "name": "python",
   "nbconvert_exporter": "python",
   "pygments_lexer": "ipython3",
   "version": "3.5.1"
  }
 },
 "nbformat": 4,
 "nbformat_minor": 0
}
