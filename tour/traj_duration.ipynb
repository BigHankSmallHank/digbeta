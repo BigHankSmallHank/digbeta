{
 "cells": [
  {
   "cell_type": "markdown",
   "metadata": {},
   "source": [
    "# Trajectory Recommendation - POI Visit Duration"
   ]
  },
  {
   "cell_type": "markdown",
   "metadata": {},
   "source": [
    "## 1. Overview"
   ]
  },
  {
   "cell_type": "markdown",
   "metadata": {},
   "source": [
    "1. BPR ranking of POIs\n",
    "1. Recommend a set of POIs given (start, end, length)\n",
    "1. Recommend POI visit duration\n",
    "1. Recommend visiting order"
   ]
  },
  {
   "cell_type": "code",
   "execution_count": 1,
   "metadata": {
    "collapsed": false
   },
   "outputs": [],
   "source": [
    "% matplotlib inline\n",
    "\n",
    "import os, re, sys, time, pickle\n",
    "import math, random, itertools\n",
    "import pandas as pd\n",
    "import numpy as np\n",
    "import matplotlib.pyplot as plt\n",
    "import scipy.optimize as sop\n",
    "from joblib import Parallel, delayed\n",
    "import pymc as pm\n",
    "from pymc.Matplot import plot as mcplot"
   ]
  },
  {
   "cell_type": "code",
   "execution_count": 2,
   "metadata": {
    "collapsed": true
   },
   "outputs": [],
   "source": [
    "random.seed(987654321) # control random choice when splitting training/testing set\n",
    "np.random.seed(987654321)"
   ]
  },
  {
   "cell_type": "code",
   "execution_count": 3,
   "metadata": {
    "collapsed": true
   },
   "outputs": [],
   "source": [
    "def print_progress(cnt, total):\n",
    "    \"\"\"\n",
    "    Display a progress bar.\n",
    "    \"\"\"\n",
    "    assert(cnt > 0 and total > 0 and cnt <= total)\n",
    "    length = 80\n",
    "    ratio = cnt / total\n",
    "    n = int(length * ratio)\n",
    "    sys.stdout.write('\\r[%-80s] %d%%' % ('-'*n, int(ratio*100)))\n",
    "    sys.stdout.flush()"
   ]
  },
  {
   "cell_type": "code",
   "execution_count": 4,
   "metadata": {
    "collapsed": true
   },
   "outputs": [],
   "source": [
    "data_dir = 'data/data-ijcai15'\n",
    "#fvisit = os.path.join(data_dir, 'userVisits-Osak.csv')\n",
    "#fcoord = os.path.join(data_dir, 'photoCoords-Osak.csv')\n",
    "#fvisit = os.path.join(data_dir, 'userVisits-Glas.csv')\n",
    "#fcoord = os.path.join(data_dir, 'photoCoords-Glas.csv')\n",
    "#fvisit = os.path.join(data_dir, 'userVisits-Edin.csv')\n",
    "#fcoord = os.path.join(data_dir, 'photoCoords-Edin.csv')\n",
    "fvisit = os.path.join(data_dir, 'userVisits-Toro.csv')\n",
    "fcoord = os.path.join(data_dir, 'photoCoords-Toro.csv')"
   ]
  },
  {
   "cell_type": "code",
   "execution_count": 5,
   "metadata": {
    "collapsed": true
   },
   "outputs": [],
   "source": [
    "suffix = fvisit.split('-')[-1].split('.')[0]\n",
    "#fseqpart = os.path.join(data_dir, 'seqPart-' + suffix + '.pkl')"
   ]
  },
  {
   "cell_type": "code",
   "execution_count": 6,
   "metadata": {
    "collapsed": true
   },
   "outputs": [],
   "source": [
    "visits = pd.read_csv(fvisit, sep=';')\n",
    "coords = pd.read_csv(fcoord, sep=';')\n",
    "assert(visits.shape[0] == coords.shape[0])\n",
    "traj = pd.merge(visits, coords, on='photoID') # merge data frames according to column 'photoID'\n",
    "#traj.head()"
   ]
  },
  {
   "cell_type": "code",
   "execution_count": 7,
   "metadata": {
    "collapsed": false
   },
   "outputs": [
    {
     "data": {
      "text/html": [
       "<div>\n",
       "<table border=\"1\" class=\"dataframe\">\n",
       "  <thead>\n",
       "    <tr style=\"text-align: right;\">\n",
       "      <th></th>\n",
       "      <th>#photo</th>\n",
       "      <th>#photo/user</th>\n",
       "      <th>#poi</th>\n",
       "      <th>#seq</th>\n",
       "      <th>#seq/user</th>\n",
       "      <th>#user</th>\n",
       "    </tr>\n",
       "  </thead>\n",
       "  <tbody>\n",
       "    <tr>\n",
       "      <th>Toro</th>\n",
       "      <td>39419</td>\n",
       "      <td>28.257348</td>\n",
       "      <td>29</td>\n",
       "      <td>6057</td>\n",
       "      <td>4.341935</td>\n",
       "      <td>1395</td>\n",
       "    </tr>\n",
       "  </tbody>\n",
       "</table>\n",
       "</div>"
      ],
      "text/plain": [
       "      #photo  #photo/user  #poi  #seq  #seq/user  #user\n",
       "Toro   39419    28.257348    29  6057   4.341935   1395"
      ]
     },
     "execution_count": 7,
     "metadata": {},
     "output_type": "execute_result"
    }
   ],
   "source": [
    "num_photo = traj['photoID'].unique().shape[0]\n",
    "num_user = traj['userID'].unique().shape[0]\n",
    "num_poi = traj['poiID'].unique().shape[0]\n",
    "num_seq = traj['seqID'].unique().shape[0]\n",
    "pd.DataFrame({'#photo': num_photo, '#user': num_user, '#poi': num_poi, '#seq': num_seq, \\\n",
    "              '#photo/user': num_photo/num_user, '#seq/user': num_seq/num_user}, index=[str(suffix)])"
   ]
  },
  {
   "cell_type": "markdown",
   "metadata": {},
   "source": [
    "## 2.1 Compute POI Information"
   ]
  },
  {
   "cell_type": "markdown",
   "metadata": {},
   "source": [
    "Compute POI (Longitude, Latitude) as the average coordinates of the assigned photos."
   ]
  },
  {
   "cell_type": "code",
   "execution_count": 8,
   "metadata": {
    "collapsed": true
   },
   "outputs": [],
   "source": [
    "poi_coords = traj[['poiID', 'photoLon', 'photoLat']].groupby('poiID').mean()\n",
    "poi_coords.reset_index(inplace=True)\n",
    "poi_coords.rename(columns={'photoLon':'poiLon', 'photoLat':'poiLat'}, inplace=True)"
   ]
  },
  {
   "cell_type": "markdown",
   "metadata": {},
   "source": [
    "Extract POI category and visiting frequency."
   ]
  },
  {
   "cell_type": "code",
   "execution_count": 9,
   "metadata": {
    "collapsed": true
   },
   "outputs": [],
   "source": [
    "poi_catfreq = traj[['poiID', 'poiTheme', 'poiFreq']].groupby('poiID').first()\n",
    "poi_catfreq.reset_index(inplace=True)"
   ]
  },
  {
   "cell_type": "code",
   "execution_count": 10,
   "metadata": {
    "collapsed": false
   },
   "outputs": [
    {
     "data": {
      "text/html": [
       "<div>\n",
       "<table border=\"1\" class=\"dataframe\">\n",
       "  <thead>\n",
       "    <tr style=\"text-align: right;\">\n",
       "      <th></th>\n",
       "      <th>poiTheme</th>\n",
       "      <th>poiFreq</th>\n",
       "      <th>poiLon</th>\n",
       "      <th>poiLat</th>\n",
       "    </tr>\n",
       "    <tr>\n",
       "      <th>poiID</th>\n",
       "      <th></th>\n",
       "      <th></th>\n",
       "      <th></th>\n",
       "      <th></th>\n",
       "    </tr>\n",
       "  </thead>\n",
       "  <tbody>\n",
       "    <tr>\n",
       "      <th>1</th>\n",
       "      <td>Sport</td>\n",
       "      <td>3506</td>\n",
       "      <td>-79.379243</td>\n",
       "      <td>43.643183</td>\n",
       "    </tr>\n",
       "    <tr>\n",
       "      <th>2</th>\n",
       "      <td>Sport</td>\n",
       "      <td>609</td>\n",
       "      <td>-79.418634</td>\n",
       "      <td>43.632772</td>\n",
       "    </tr>\n",
       "    <tr>\n",
       "      <th>3</th>\n",
       "      <td>Sport</td>\n",
       "      <td>688</td>\n",
       "      <td>-79.380045</td>\n",
       "      <td>43.662175</td>\n",
       "    </tr>\n",
       "    <tr>\n",
       "      <th>4</th>\n",
       "      <td>Sport</td>\n",
       "      <td>3056</td>\n",
       "      <td>-79.389290</td>\n",
       "      <td>43.641297</td>\n",
       "    </tr>\n",
       "    <tr>\n",
       "      <th>6</th>\n",
       "      <td>Cultural</td>\n",
       "      <td>986</td>\n",
       "      <td>-79.392396</td>\n",
       "      <td>43.653662</td>\n",
       "    </tr>\n",
       "  </tbody>\n",
       "</table>\n",
       "</div>"
      ],
      "text/plain": [
       "       poiTheme  poiFreq     poiLon     poiLat\n",
       "poiID                                         \n",
       "1         Sport     3506 -79.379243  43.643183\n",
       "2         Sport      609 -79.418634  43.632772\n",
       "3         Sport      688 -79.380045  43.662175\n",
       "4         Sport     3056 -79.389290  43.641297\n",
       "6      Cultural      986 -79.392396  43.653662"
      ]
     },
     "execution_count": 10,
     "metadata": {},
     "output_type": "execute_result"
    }
   ],
   "source": [
    "poi_all = pd.merge(poi_catfreq, poi_coords, on='poiID')\n",
    "poi_all.set_index('poiID', inplace=True)\n",
    "poi_all.head()\n",
    "#poi_all.to_csv(fpoi, index=True)"
   ]
  },
  {
   "cell_type": "markdown",
   "metadata": {},
   "source": [
    "## 2.2 Construct Travelling Sequences"
   ]
  },
  {
   "cell_type": "code",
   "execution_count": 11,
   "metadata": {
    "collapsed": false
   },
   "outputs": [
    {
     "data": {
      "text/html": [
       "<div>\n",
       "<table border=\"1\" class=\"dataframe\">\n",
       "  <thead>\n",
       "    <tr style=\"text-align: right;\">\n",
       "      <th></th>\n",
       "      <th>userID</th>\n",
       "      <th>seqID</th>\n",
       "      <th>poiID</th>\n",
       "      <th>arrivalTime</th>\n",
       "      <th>departureTime</th>\n",
       "      <th>#photo</th>\n",
       "      <th>poiDuration(sec)</th>\n",
       "    </tr>\n",
       "  </thead>\n",
       "  <tbody>\n",
       "    <tr>\n",
       "      <th>0</th>\n",
       "      <td>10007579@N00</td>\n",
       "      <td>1</td>\n",
       "      <td>30</td>\n",
       "      <td>1346844688</td>\n",
       "      <td>1346844688</td>\n",
       "      <td>1</td>\n",
       "      <td>0</td>\n",
       "    </tr>\n",
       "    <tr>\n",
       "      <th>1</th>\n",
       "      <td>10012675@N05</td>\n",
       "      <td>2</td>\n",
       "      <td>6</td>\n",
       "      <td>1142731848</td>\n",
       "      <td>1142732445</td>\n",
       "      <td>4</td>\n",
       "      <td>597</td>\n",
       "    </tr>\n",
       "    <tr>\n",
       "      <th>2</th>\n",
       "      <td>10012675@N05</td>\n",
       "      <td>3</td>\n",
       "      <td>6</td>\n",
       "      <td>1142916492</td>\n",
       "      <td>1142916492</td>\n",
       "      <td>1</td>\n",
       "      <td>0</td>\n",
       "    </tr>\n",
       "    <tr>\n",
       "      <th>3</th>\n",
       "      <td>10012675@N05</td>\n",
       "      <td>4</td>\n",
       "      <td>13</td>\n",
       "      <td>1319327174</td>\n",
       "      <td>1319332848</td>\n",
       "      <td>9</td>\n",
       "      <td>5674</td>\n",
       "    </tr>\n",
       "    <tr>\n",
       "      <th>4</th>\n",
       "      <td>10014440@N06</td>\n",
       "      <td>5</td>\n",
       "      <td>24</td>\n",
       "      <td>1196128621</td>\n",
       "      <td>1196128878</td>\n",
       "      <td>3</td>\n",
       "      <td>257</td>\n",
       "    </tr>\n",
       "  </tbody>\n",
       "</table>\n",
       "</div>"
      ],
      "text/plain": [
       "         userID  seqID  poiID  arrivalTime  departureTime  #photo  \\\n",
       "0  10007579@N00      1     30   1346844688     1346844688       1   \n",
       "1  10012675@N05      2      6   1142731848     1142732445       4   \n",
       "2  10012675@N05      3      6   1142916492     1142916492       1   \n",
       "3  10012675@N05      4     13   1319327174     1319332848       9   \n",
       "4  10014440@N06      5     24   1196128621     1196128878       3   \n",
       "\n",
       "   poiDuration(sec)  \n",
       "0                 0  \n",
       "1               597  \n",
       "2                 0  \n",
       "3              5674  \n",
       "4               257  "
      ]
     },
     "execution_count": 11,
     "metadata": {},
     "output_type": "execute_result"
    }
   ],
   "source": [
    "seq_all = traj[['userID', 'seqID', 'poiID', 'dateTaken']].copy().groupby(['userID', 'seqID', 'poiID'])\\\n",
    "          .agg([np.min, np.max, np.size])\n",
    "seq_all.columns = seq_all.columns.droplevel()\n",
    "seq_all.reset_index(inplace=True)\n",
    "seq_all.rename(columns={'amin':'arrivalTime', 'amax':'departureTime', 'size':'#photo'}, inplace=True)\n",
    "seq_all['poiDuration(sec)'] = seq_all['departureTime'] - seq_all['arrivalTime']\n",
    "seq_all.head()"
   ]
  },
  {
   "cell_type": "markdown",
   "metadata": {},
   "source": [
    "**Filtering out** a visit of POI with $0$ duration, i.e. only one photo was taken."
   ]
  },
  {
   "cell_type": "code",
   "execution_count": 12,
   "metadata": {
    "collapsed": true
   },
   "outputs": [],
   "source": [
    "seq_all = seq_all[seq_all['#photo'] > 1]"
   ]
  },
  {
   "cell_type": "code",
   "execution_count": 13,
   "metadata": {
    "collapsed": false
   },
   "outputs": [],
   "source": [
    "seq_stats = seq_all[['userID', 'seqID', 'poiID']].copy().groupby(['userID', 'seqID']).agg(np.size)\n",
    "seq_stats.reset_index(inplace=True)\n",
    "seq_stats.rename(columns={'poiID':'seqLen'}, inplace=True)\n",
    "seq_stats.set_index('seqID', inplace=True)\n",
    "#seq_stats.head()"
   ]
  },
  {
   "cell_type": "markdown",
   "metadata": {},
   "source": [
    "Start time of each sequence."
   ]
  },
  {
   "cell_type": "code",
   "execution_count": 14,
   "metadata": {
    "collapsed": true
   },
   "outputs": [],
   "source": [
    "seq_starttime = seq_all[['userID', 'seqID', 'arrivalTime']].copy().groupby(['userID', 'seqID']).agg(np.min)\n",
    "seq_starttime.reset_index(inplace=True)\n",
    "seq_starttime.rename(columns={'arrivalTime':'startTime'}, inplace=True)\n",
    "seq_starttime.set_index('seqID', inplace=True)\n",
    "#seq_starttime.head()"
   ]
  },
  {
   "cell_type": "code",
   "execution_count": 15,
   "metadata": {
    "collapsed": false
   },
   "outputs": [
    {
     "data": {
      "text/html": [
       "<div>\n",
       "<table border=\"1\" class=\"dataframe\">\n",
       "  <thead>\n",
       "    <tr style=\"text-align: right;\">\n",
       "      <th></th>\n",
       "      <th>userID</th>\n",
       "      <th>seqLen</th>\n",
       "      <th>startTime</th>\n",
       "    </tr>\n",
       "    <tr>\n",
       "      <th>seqID</th>\n",
       "      <th></th>\n",
       "      <th></th>\n",
       "      <th></th>\n",
       "    </tr>\n",
       "  </thead>\n",
       "  <tbody>\n",
       "    <tr>\n",
       "      <th>2</th>\n",
       "      <td>10012675@N05</td>\n",
       "      <td>1</td>\n",
       "      <td>1142731848</td>\n",
       "    </tr>\n",
       "    <tr>\n",
       "      <th>4</th>\n",
       "      <td>10012675@N05</td>\n",
       "      <td>1</td>\n",
       "      <td>1319327174</td>\n",
       "    </tr>\n",
       "    <tr>\n",
       "      <th>5</th>\n",
       "      <td>10014440@N06</td>\n",
       "      <td>1</td>\n",
       "      <td>1196128621</td>\n",
       "    </tr>\n",
       "    <tr>\n",
       "      <th>6</th>\n",
       "      <td>10014440@N06</td>\n",
       "      <td>1</td>\n",
       "      <td>1198051767</td>\n",
       "    </tr>\n",
       "    <tr>\n",
       "      <th>7</th>\n",
       "      <td>10014440@N06</td>\n",
       "      <td>1</td>\n",
       "      <td>1198627025</td>\n",
       "    </tr>\n",
       "  </tbody>\n",
       "</table>\n",
       "</div>"
      ],
      "text/plain": [
       "             userID  seqLen   startTime\n",
       "seqID                                  \n",
       "2      10012675@N05       1  1142731848\n",
       "4      10012675@N05       1  1319327174\n",
       "5      10014440@N06       1  1196128621\n",
       "6      10014440@N06       1  1198051767\n",
       "7      10014440@N06       1  1198627025"
      ]
     },
     "execution_count": 15,
     "metadata": {},
     "output_type": "execute_result"
    }
   ],
   "source": [
    "seq_stats['startTime'] = seq_starttime.loc[seq_stats.index, 'startTime']\n",
    "seq_stats.head()"
   ]
  },
  {
   "cell_type": "code",
   "execution_count": 16,
   "metadata": {
    "collapsed": false
   },
   "outputs": [
    {
     "data": {
      "text/plain": [
       "(2817, 3)"
      ]
     },
     "execution_count": 16,
     "metadata": {},
     "output_type": "execute_result"
    }
   ],
   "source": [
    "seq_stats.shape"
   ]
  },
  {
   "cell_type": "code",
   "execution_count": 17,
   "metadata": {
    "collapsed": false
   },
   "outputs": [
    {
     "data": {
      "text/plain": [
       "(859,)"
      ]
     },
     "execution_count": 17,
     "metadata": {},
     "output_type": "execute_result"
    }
   ],
   "source": [
    "seq_stats['userID'].unique().shape"
   ]
  },
  {
   "cell_type": "code",
   "execution_count": 18,
   "metadata": {
    "collapsed": true
   },
   "outputs": [],
   "source": [
    "def extract_seq(seqid, seq_all):\n",
    "    seqi = seq_all[seq_all['seqID'] == seqid].copy()\n",
    "    seqi.sort_values(by=['arrivalTime'], ascending=True, inplace=True)\n",
    "    return seqi['poiID'].tolist()"
   ]
  },
  {
   "cell_type": "code",
   "execution_count": 19,
   "metadata": {
    "collapsed": true
   },
   "outputs": [],
   "source": [
    "def calc_poi_info(seqid_set, seq_all, poi_all):\n",
    "    poi_info = seq_all[seq_all['seqID'].isin(seqid_set)][['poiID', 'poiDuration(sec)']].copy()\n",
    "    poi_info = poi_info.groupby('poiID').agg([np.mean, np.size])\n",
    "    poi_info.columns = poi_info.columns.droplevel()\n",
    "    poi_info.reset_index(inplace=True)\n",
    "    poi_info.rename(columns={'mean':'avgDuration(sec)', 'size':'nVisit'}, inplace=True)\n",
    "    poi_info.set_index('poiID', inplace=True) \n",
    "    poi_info['poiTheme'] = poi_all.loc[poi_info.index, 'poiTheme']\n",
    "    poi_info['poiLon'] = poi_all.loc[poi_info.index, 'poiLon']\n",
    "    poi_info['poiLat'] = poi_all.loc[poi_info.index, 'poiLat']\n",
    "    \n",
    "    # POI popularity: the number of distinct users that visited the POI\n",
    "    pop_df = seq_all[seq_all['seqID'].isin(seqid_set)][['poiID', 'userID']].copy()\n",
    "    pop_df = pop_df.groupby('poiID').agg(pd.Series.nunique)\n",
    "    pop_df.rename(columns={'userID':'nunique'}, inplace=True)\n",
    "    poi_info['popularity'] = pop_df.loc[poi_info.index, 'nunique']\n",
    "    \n",
    "    return poi_info.copy()"
   ]
  },
  {
   "cell_type": "markdown",
   "metadata": {},
   "source": [
    "## 2.4 Train vs. Test Data"
   ]
  },
  {
   "cell_type": "markdown",
   "metadata": {},
   "source": [
    "Pick the latest trajectory for each user to form the test set, all remaining trajectories form the training set."
   ]
  },
  {
   "cell_type": "code",
   "execution_count": 20,
   "metadata": {
    "collapsed": true
   },
   "outputs": [],
   "source": [
    "seqid_set_train = []\n",
    "seqid_set_test = []"
   ]
  },
  {
   "cell_type": "code",
   "execution_count": 21,
   "metadata": {
    "collapsed": false
   },
   "outputs": [],
   "source": [
    "user_list = []"
   ]
  },
  {
   "cell_type": "markdown",
   "metadata": {},
   "source": [
    "**Filtering out** users (and their trajectories) with less than $2$ trajectories."
   ]
  },
  {
   "cell_type": "code",
   "execution_count": 22,
   "metadata": {
    "collapsed": false
   },
   "outputs": [],
   "source": [
    "for user in seq_stats['userID'].unique():\n",
    "    seqid_set_u = seq_stats[seq_stats['userID'] == user].copy().sort_values(by='startTime', ascending=True)\n",
    "    if seqid_set_u.shape[0] > 1:\n",
    "        user_list.append(user)\n",
    "        seqid_set_test.append(seqid_set_u.index.values[-1])\n",
    "        seqid_set_train = seqid_set_train + seqid_set_u.index.values[:-1].tolist()"
   ]
  },
  {
   "cell_type": "code",
   "execution_count": 23,
   "metadata": {
    "collapsed": false
   },
   "outputs": [
    {
     "name": "stdout",
     "output_type": "stream",
     "text": [
      "Number of trajectories for training: 1958\n",
      "Number of trajectories for testing : 413\n",
      "Number of users: 413\n"
     ]
    }
   ],
   "source": [
    "print('Number of trajectories for training:', len(seqid_set_train))\n",
    "print('Number of trajectories for testing :', len(seqid_set_test))\n",
    "print('Number of users:', len(user_list))"
   ]
  },
  {
   "cell_type": "markdown",
   "metadata": {},
   "source": [
    "POIs in training/test set."
   ]
  },
  {
   "cell_type": "code",
   "execution_count": 24,
   "metadata": {
    "collapsed": true
   },
   "outputs": [],
   "source": [
    "poi_train = seq_all[seq_all['seqID'].isin(seqid_set_train)]['poiID'].unique().tolist()\n",
    "poi_test  = seq_all[seq_all['seqID'].isin(seqid_set_test)]['poiID'].unique().tolist()"
   ]
  },
  {
   "cell_type": "code",
   "execution_count": 25,
   "metadata": {
    "collapsed": true
   },
   "outputs": [],
   "source": [
    "assert(len(set(poi_test)) == len(set(poi_train) & set(poi_test)))"
   ]
  },
  {
   "cell_type": "code",
   "execution_count": 26,
   "metadata": {
    "collapsed": false
   },
   "outputs": [
    {
     "name": "stdout",
     "output_type": "stream",
     "text": [
      "Number of POIs: 29\n"
     ]
    }
   ],
   "source": [
    "poi_list = poi_train.copy()\n",
    "poi_list.sort()\n",
    "print('Number of POIs:', len(poi_list))"
   ]
  },
  {
   "cell_type": "markdown",
   "metadata": {},
   "source": [
    "## 2.5 Construct User-POI Visiting Matrix"
   ]
  },
  {
   "cell_type": "markdown",
   "metadata": {},
   "source": [
    "$M_{ij}$ denotes the number of visits for user $u_i$ at POI $p_j$, $NaN$ for non-observed visits."
   ]
  },
  {
   "cell_type": "code",
   "execution_count": 27,
   "metadata": {
    "collapsed": true
   },
   "outputs": [],
   "source": [
    "visit_cnt_df = pd.DataFrame(data=np.full((len(user_list), len(poi_list)), np.nan), columns=poi_list, index=user_list)"
   ]
  },
  {
   "cell_type": "code",
   "execution_count": 28,
   "metadata": {
    "collapsed": true
   },
   "outputs": [],
   "source": [
    "for seqid in seqid_set_train:\n",
    "    user = seq_stats.loc[seqid, 'userID']\n",
    "    seq = extract_seq(seqid, seq_all)\n",
    "    for poi in seq:\n",
    "        if np.isnan(visit_cnt_df.loc[user, poi]):\n",
    "            visit_cnt_df.loc[user, poi] = 1\n",
    "        else:\n",
    "            visit_cnt_df.loc[user, poi] += 1"
   ]
  },
  {
   "cell_type": "code",
   "execution_count": 29,
   "metadata": {
    "collapsed": false
   },
   "outputs": [
    {
     "data": {
      "text/html": [
       "<div>\n",
       "<table border=\"1\" class=\"dataframe\">\n",
       "  <thead>\n",
       "    <tr style=\"text-align: right;\">\n",
       "      <th></th>\n",
       "      <th>1</th>\n",
       "      <th>2</th>\n",
       "      <th>3</th>\n",
       "      <th>4</th>\n",
       "      <th>6</th>\n",
       "      <th>7</th>\n",
       "      <th>8</th>\n",
       "      <th>9</th>\n",
       "      <th>10</th>\n",
       "      <th>11</th>\n",
       "      <th>...</th>\n",
       "      <th>21</th>\n",
       "      <th>22</th>\n",
       "      <th>23</th>\n",
       "      <th>24</th>\n",
       "      <th>25</th>\n",
       "      <th>26</th>\n",
       "      <th>27</th>\n",
       "      <th>28</th>\n",
       "      <th>29</th>\n",
       "      <th>30</th>\n",
       "    </tr>\n",
       "  </thead>\n",
       "  <tbody>\n",
       "    <tr>\n",
       "      <th>10012675@N05</th>\n",
       "      <td>NaN</td>\n",
       "      <td>NaN</td>\n",
       "      <td>NaN</td>\n",
       "      <td>NaN</td>\n",
       "      <td>1</td>\n",
       "      <td>NaN</td>\n",
       "      <td>NaN</td>\n",
       "      <td>NaN</td>\n",
       "      <td>NaN</td>\n",
       "      <td>NaN</td>\n",
       "      <td>...</td>\n",
       "      <td>NaN</td>\n",
       "      <td>NaN</td>\n",
       "      <td>NaN</td>\n",
       "      <td>NaN</td>\n",
       "      <td>NaN</td>\n",
       "      <td>NaN</td>\n",
       "      <td>NaN</td>\n",
       "      <td>NaN</td>\n",
       "      <td>NaN</td>\n",
       "      <td>NaN</td>\n",
       "    </tr>\n",
       "    <tr>\n",
       "      <th>10014440@N06</th>\n",
       "      <td>NaN</td>\n",
       "      <td>NaN</td>\n",
       "      <td>NaN</td>\n",
       "      <td>NaN</td>\n",
       "      <td>NaN</td>\n",
       "      <td>NaN</td>\n",
       "      <td>NaN</td>\n",
       "      <td>NaN</td>\n",
       "      <td>NaN</td>\n",
       "      <td>NaN</td>\n",
       "      <td>...</td>\n",
       "      <td>NaN</td>\n",
       "      <td>NaN</td>\n",
       "      <td>4</td>\n",
       "      <td>4</td>\n",
       "      <td>1</td>\n",
       "      <td>NaN</td>\n",
       "      <td>NaN</td>\n",
       "      <td>NaN</td>\n",
       "      <td>NaN</td>\n",
       "      <td>NaN</td>\n",
       "    </tr>\n",
       "    <tr>\n",
       "      <th>10502709@N05</th>\n",
       "      <td>NaN</td>\n",
       "      <td>NaN</td>\n",
       "      <td>NaN</td>\n",
       "      <td>NaN</td>\n",
       "      <td>NaN</td>\n",
       "      <td>4</td>\n",
       "      <td>NaN</td>\n",
       "      <td>NaN</td>\n",
       "      <td>NaN</td>\n",
       "      <td>2</td>\n",
       "      <td>...</td>\n",
       "      <td>2</td>\n",
       "      <td>1</td>\n",
       "      <td>1</td>\n",
       "      <td>NaN</td>\n",
       "      <td>1</td>\n",
       "      <td>NaN</td>\n",
       "      <td>3</td>\n",
       "      <td>2</td>\n",
       "      <td>NaN</td>\n",
       "      <td>NaN</td>\n",
       "    </tr>\n",
       "    <tr>\n",
       "      <th>10575698@N02</th>\n",
       "      <td>NaN</td>\n",
       "      <td>NaN</td>\n",
       "      <td>NaN</td>\n",
       "      <td>NaN</td>\n",
       "      <td>NaN</td>\n",
       "      <td>NaN</td>\n",
       "      <td>NaN</td>\n",
       "      <td>NaN</td>\n",
       "      <td>NaN</td>\n",
       "      <td>NaN</td>\n",
       "      <td>...</td>\n",
       "      <td>NaN</td>\n",
       "      <td>NaN</td>\n",
       "      <td>NaN</td>\n",
       "      <td>NaN</td>\n",
       "      <td>1</td>\n",
       "      <td>NaN</td>\n",
       "      <td>NaN</td>\n",
       "      <td>NaN</td>\n",
       "      <td>NaN</td>\n",
       "      <td>NaN</td>\n",
       "    </tr>\n",
       "    <tr>\n",
       "      <th>10627620@N06</th>\n",
       "      <td>1</td>\n",
       "      <td>NaN</td>\n",
       "      <td>1</td>\n",
       "      <td>NaN</td>\n",
       "      <td>NaN</td>\n",
       "      <td>3</td>\n",
       "      <td>1</td>\n",
       "      <td>NaN</td>\n",
       "      <td>NaN</td>\n",
       "      <td>1</td>\n",
       "      <td>...</td>\n",
       "      <td>2</td>\n",
       "      <td>NaN</td>\n",
       "      <td>3</td>\n",
       "      <td>NaN</td>\n",
       "      <td>1</td>\n",
       "      <td>NaN</td>\n",
       "      <td>1</td>\n",
       "      <td>NaN</td>\n",
       "      <td>NaN</td>\n",
       "      <td>6</td>\n",
       "    </tr>\n",
       "  </tbody>\n",
       "</table>\n",
       "<p>5 rows × 29 columns</p>\n",
       "</div>"
      ],
      "text/plain": [
       "              1   2   3   4   6   7   8   9   10  11 ...  21  22  23  24  25  \\\n",
       "10012675@N05 NaN NaN NaN NaN   1 NaN NaN NaN NaN NaN ... NaN NaN NaN NaN NaN   \n",
       "10014440@N06 NaN NaN NaN NaN NaN NaN NaN NaN NaN NaN ... NaN NaN   4   4   1   \n",
       "10502709@N05 NaN NaN NaN NaN NaN   4 NaN NaN NaN   2 ...   2   1   1 NaN   1   \n",
       "10575698@N02 NaN NaN NaN NaN NaN NaN NaN NaN NaN NaN ... NaN NaN NaN NaN   1   \n",
       "10627620@N06   1 NaN   1 NaN NaN   3   1 NaN NaN   1 ...   2 NaN   3 NaN   1   \n",
       "\n",
       "              26  27  28  29  30  \n",
       "10012675@N05 NaN NaN NaN NaN NaN  \n",
       "10014440@N06 NaN NaN NaN NaN NaN  \n",
       "10502709@N05 NaN   3   2 NaN NaN  \n",
       "10575698@N02 NaN NaN NaN NaN NaN  \n",
       "10627620@N06 NaN   1 NaN NaN   6  \n",
       "\n",
       "[5 rows x 29 columns]"
      ]
     },
     "execution_count": 29,
     "metadata": {},
     "output_type": "execute_result"
    }
   ],
   "source": [
    "visit_cnt_df.head()"
   ]
  },
  {
   "cell_type": "code",
   "execution_count": 30,
   "metadata": {
    "collapsed": false
   },
   "outputs": [],
   "source": [
    "nan_mask = np.isnan(visit_cnt_df)\n",
    "masked_visit = np.ma.masked_array(visit_cnt_df, nan_mask)"
   ]
  },
  {
   "cell_type": "code",
   "execution_count": 31,
   "metadata": {
    "collapsed": false
   },
   "outputs": [
    {
     "data": {
      "text/plain": [
       "count    1225.000000\n",
       "mean        1.934694\n",
       "std         4.039913\n",
       "min         1.000000\n",
       "25%         1.000000\n",
       "50%         1.000000\n",
       "75%         2.000000\n",
       "max        63.000000\n",
       "dtype: float64"
      ]
     },
     "execution_count": 31,
     "metadata": {},
     "output_type": "execute_result"
    }
   ],
   "source": [
    "visits = pd.Series(masked_visit.flatten())\n",
    "visits.describe()"
   ]
  },
  {
   "cell_type": "code",
   "execution_count": 32,
   "metadata": {
    "collapsed": false,
    "scrolled": true
   },
   "outputs": [
    {
     "data": {
      "image/png": "[encoded data removed]",
      "text/plain": [
       "<matplotlib.figure.Figure at 0x7fb853d207f0>"
      ]
     },
     "metadata": {},
     "output_type": "display_data"
    }
   ],
   "source": [
    "fig, (ax1, ax2, ax3) = plt.subplots(1, 3, figsize=(15, 4))\n",
    "\n",
    "visits.plot(kind='hist', ax=ax1, bins=20, grid=False, title='Histogram of #visit')\n",
    "ax1.set_xscale('log')\n",
    "ax1.set_yscale('log')\n",
    "\n",
    "poi_means = visit_cnt_df.mean(axis=0, skipna=True)\n",
    "poi_means.plot(kind='bar', ax=ax2, grid=False, title='Mean #visit for all POIs')\n",
    "xticks2 = np.arange(0, len(poi_list), 10)\n",
    "plt.setp(ax2.get_xticklabels()[:], visible=False)\n",
    "plt.setp(ax2.get_xticklabels()[::5], visible=True)\n",
    "\n",
    "user_means = visit_cnt_df.mean(axis=1, skipna=True)\n",
    "user_means.plot(kind='bar', ax=ax3, grid=False, title='Mean #visit for all users')\n",
    "plt.setp(ax3.get_xticklabels()[:], visible=False)\n",
    "plt.setp(ax3.get_xticklabels()[::90], visible=True, rotation=35)\n",
    "ax3.set_yscale('log')"
   ]
  },
  {
   "cell_type": "markdown",
   "metadata": {},
   "source": [
    "## 4. POI Visit Duration Prediction"
   ]
  },
  {
   "cell_type": "code",
   "execution_count": 33,
   "metadata": {
    "collapsed": false
   },
   "outputs": [
    {
     "data": {
      "text/html": [
       "<div>\n",
       "<table border=\"1\" class=\"dataframe\">\n",
       "  <thead>\n",
       "    <tr style=\"text-align: right;\">\n",
       "      <th></th>\n",
       "      <th></th>\n",
       "      <th></th>\n",
       "      <th>poiDuration(sec)</th>\n",
       "    </tr>\n",
       "    <tr>\n",
       "      <th>userID</th>\n",
       "      <th>seqID</th>\n",
       "      <th>poiID</th>\n",
       "      <th></th>\n",
       "    </tr>\n",
       "  </thead>\n",
       "  <tbody>\n",
       "    <tr>\n",
       "      <th rowspan=\"2\" valign=\"top\">10012675@N05</th>\n",
       "      <th>2</th>\n",
       "      <th>6</th>\n",
       "      <td>597</td>\n",
       "    </tr>\n",
       "    <tr>\n",
       "      <th>4</th>\n",
       "      <th>13</th>\n",
       "      <td>5674</td>\n",
       "    </tr>\n",
       "    <tr>\n",
       "      <th rowspan=\"3\" valign=\"top\">10014440@N06</th>\n",
       "      <th>5</th>\n",
       "      <th>24</th>\n",
       "      <td>257</td>\n",
       "    </tr>\n",
       "    <tr>\n",
       "      <th>6</th>\n",
       "      <th>23</th>\n",
       "      <td>1065</td>\n",
       "    </tr>\n",
       "    <tr>\n",
       "      <th>7</th>\n",
       "      <th>23</th>\n",
       "      <td>573</td>\n",
       "    </tr>\n",
       "  </tbody>\n",
       "</table>\n",
       "</div>"
      ],
      "text/plain": [
       "                          poiDuration(sec)\n",
       "userID       seqID poiID                  \n",
       "10012675@N05 2     6                   597\n",
       "             4     13                 5674\n",
       "10014440@N06 5     24                  257\n",
       "             6     23                 1065\n",
       "             7     23                  573"
      ]
     },
     "execution_count": 33,
     "metadata": {},
     "output_type": "execute_result"
    }
   ],
   "source": [
    "poi_duration_df = seq_all[['userID', 'seqID', 'poiID', 'poiDuration(sec)']].copy()\n",
    "poi_duration_df.set_index(['userID', 'seqID', 'poiID'], inplace=True)\n",
    "poi_duration_df.head()"
   ]
  },
  {
   "cell_type": "code",
   "execution_count": 34,
   "metadata": {
    "collapsed": false
   },
   "outputs": [],
   "source": [
    "visit_duration_df = pd.DataFrame(data=np.full((len(user_list), len(poi_list)), np.nan, dtype=np.object), \\\n",
    "                                 columns=poi_list, index=user_list)"
   ]
  },
  {
   "cell_type": "code",
   "execution_count": 35,
   "metadata": {
    "collapsed": false
   },
   "outputs": [],
   "source": [
    "nan_mask_train = pd.DataFrame(data=np.ones(visit_duration_df.shape, dtype=np.bool), columns=poi_list, index=user_list)"
   ]
  },
  {
   "cell_type": "code",
   "execution_count": 36,
   "metadata": {
    "collapsed": false
   },
   "outputs": [],
   "source": [
    "for seqid in seqid_set_train:\n",
    "    user = seq_stats.loc[seqid, 'userID']\n",
    "    seq = extract_seq(seqid, seq_all)\n",
    "    for poi in seq:\n",
    "        duration = poi_duration_df.loc[(user, seqid, poi), 'poiDuration(sec)']\n",
    "        nan_mask_train.loc[user, poi] = False\n",
    "        if np.all(np.isnan(visit_duration_df.loc[user, poi])):\n",
    "            visit_duration_df.loc[user, poi] = np.array([duration])\n",
    "        else:\n",
    "            visit_duration_df.loc[user, poi] = np.r_[visit_duration_df.loc[user, poi], duration]"
   ]
  },
  {
   "cell_type": "code",
   "execution_count": 37,
   "metadata": {
    "collapsed": false
   },
   "outputs": [
    {
     "data": {
      "text/html": [
       "<div>\n",
       "<table border=\"1\" class=\"dataframe\">\n",
       "  <thead>\n",
       "    <tr style=\"text-align: right;\">\n",
       "      <th></th>\n",
       "      <th>1</th>\n",
       "      <th>2</th>\n",
       "      <th>3</th>\n",
       "      <th>4</th>\n",
       "      <th>6</th>\n",
       "      <th>7</th>\n",
       "      <th>8</th>\n",
       "      <th>9</th>\n",
       "      <th>10</th>\n",
       "      <th>11</th>\n",
       "      <th>...</th>\n",
       "      <th>21</th>\n",
       "      <th>22</th>\n",
       "      <th>23</th>\n",
       "      <th>24</th>\n",
       "      <th>25</th>\n",
       "      <th>26</th>\n",
       "      <th>27</th>\n",
       "      <th>28</th>\n",
       "      <th>29</th>\n",
       "      <th>30</th>\n",
       "    </tr>\n",
       "  </thead>\n",
       "  <tbody>\n",
       "    <tr>\n",
       "      <th>10012675@N05</th>\n",
       "      <td>NaN</td>\n",
       "      <td>NaN</td>\n",
       "      <td>NaN</td>\n",
       "      <td>NaN</td>\n",
       "      <td>[597]</td>\n",
       "      <td>NaN</td>\n",
       "      <td>NaN</td>\n",
       "      <td>NaN</td>\n",
       "      <td>NaN</td>\n",
       "      <td>NaN</td>\n",
       "      <td>...</td>\n",
       "      <td>NaN</td>\n",
       "      <td>NaN</td>\n",
       "      <td>NaN</td>\n",
       "      <td>NaN</td>\n",
       "      <td>NaN</td>\n",
       "      <td>NaN</td>\n",
       "      <td>NaN</td>\n",
       "      <td>NaN</td>\n",
       "      <td>NaN</td>\n",
       "      <td>NaN</td>\n",
       "    </tr>\n",
       "    <tr>\n",
       "      <th>10014440@N06</th>\n",
       "      <td>NaN</td>\n",
       "      <td>NaN</td>\n",
       "      <td>NaN</td>\n",
       "      <td>NaN</td>\n",
       "      <td>NaN</td>\n",
       "      <td>NaN</td>\n",
       "      <td>NaN</td>\n",
       "      <td>NaN</td>\n",
       "      <td>NaN</td>\n",
       "      <td>NaN</td>\n",
       "      <td>...</td>\n",
       "      <td>NaN</td>\n",
       "      <td>NaN</td>\n",
       "      <td>[1065, 573, 1615, 421]</td>\n",
       "      <td>[257, 1359, 296, 36]</td>\n",
       "      <td>[7991]</td>\n",
       "      <td>NaN</td>\n",
       "      <td>NaN</td>\n",
       "      <td>NaN</td>\n",
       "      <td>NaN</td>\n",
       "      <td>NaN</td>\n",
       "    </tr>\n",
       "    <tr>\n",
       "      <th>10502709@N05</th>\n",
       "      <td>NaN</td>\n",
       "      <td>NaN</td>\n",
       "      <td>NaN</td>\n",
       "      <td>NaN</td>\n",
       "      <td>NaN</td>\n",
       "      <td>[6484, 5302, 3739, 5430]</td>\n",
       "      <td>NaN</td>\n",
       "      <td>NaN</td>\n",
       "      <td>NaN</td>\n",
       "      <td>[106, 3048]</td>\n",
       "      <td>...</td>\n",
       "      <td>[1111, 9596]</td>\n",
       "      <td>[2164]</td>\n",
       "      <td>[5133]</td>\n",
       "      <td>NaN</td>\n",
       "      <td>[15776]</td>\n",
       "      <td>NaN</td>\n",
       "      <td>[242, 1354, 4622]</td>\n",
       "      <td>[17388, 335]</td>\n",
       "      <td>NaN</td>\n",
       "      <td>NaN</td>\n",
       "    </tr>\n",
       "    <tr>\n",
       "      <th>10575698@N02</th>\n",
       "      <td>NaN</td>\n",
       "      <td>NaN</td>\n",
       "      <td>NaN</td>\n",
       "      <td>NaN</td>\n",
       "      <td>NaN</td>\n",
       "      <td>NaN</td>\n",
       "      <td>NaN</td>\n",
       "      <td>NaN</td>\n",
       "      <td>NaN</td>\n",
       "      <td>NaN</td>\n",
       "      <td>...</td>\n",
       "      <td>NaN</td>\n",
       "      <td>NaN</td>\n",
       "      <td>NaN</td>\n",
       "      <td>NaN</td>\n",
       "      <td>[3554]</td>\n",
       "      <td>NaN</td>\n",
       "      <td>NaN</td>\n",
       "      <td>NaN</td>\n",
       "      <td>NaN</td>\n",
       "      <td>NaN</td>\n",
       "    </tr>\n",
       "    <tr>\n",
       "      <th>10627620@N06</th>\n",
       "      <td>[1723]</td>\n",
       "      <td>NaN</td>\n",
       "      <td>[2989]</td>\n",
       "      <td>NaN</td>\n",
       "      <td>NaN</td>\n",
       "      <td>[434, 52, 14]</td>\n",
       "      <td>[663]</td>\n",
       "      <td>NaN</td>\n",
       "      <td>NaN</td>\n",
       "      <td>[530]</td>\n",
       "      <td>...</td>\n",
       "      <td>[51, 186]</td>\n",
       "      <td>NaN</td>\n",
       "      <td>[129, 185, 70]</td>\n",
       "      <td>NaN</td>\n",
       "      <td>[292]</td>\n",
       "      <td>NaN</td>\n",
       "      <td>[11]</td>\n",
       "      <td>NaN</td>\n",
       "      <td>NaN</td>\n",
       "      <td>[3306, 1500, 19994, 21, 185, 744]</td>\n",
       "    </tr>\n",
       "  </tbody>\n",
       "</table>\n",
       "<p>5 rows × 29 columns</p>\n",
       "</div>"
      ],
      "text/plain": [
       "                  1    2       3    4      6                         7   \\\n",
       "10012675@N05     NaN  NaN     NaN  NaN  [597]                       NaN   \n",
       "10014440@N06     NaN  NaN     NaN  NaN    NaN                       NaN   \n",
       "10502709@N05     NaN  NaN     NaN  NaN    NaN  [6484, 5302, 3739, 5430]   \n",
       "10575698@N02     NaN  NaN     NaN  NaN    NaN                       NaN   \n",
       "10627620@N06  [1723]  NaN  [2989]  NaN    NaN             [434, 52, 14]   \n",
       "\n",
       "                 8    9    10           11                ...                  \\\n",
       "10012675@N05    NaN  NaN  NaN          NaN                ...                   \n",
       "10014440@N06    NaN  NaN  NaN          NaN                ...                   \n",
       "10502709@N05    NaN  NaN  NaN  [106, 3048]                ...                   \n",
       "10575698@N02    NaN  NaN  NaN          NaN                ...                   \n",
       "10627620@N06  [663]  NaN  NaN        [530]                ...                   \n",
       "\n",
       "                        21      22                      23  \\\n",
       "10012675@N05           NaN     NaN                     NaN   \n",
       "10014440@N06           NaN     NaN  [1065, 573, 1615, 421]   \n",
       "10502709@N05  [1111, 9596]  [2164]                  [5133]   \n",
       "10575698@N02           NaN     NaN                     NaN   \n",
       "10627620@N06     [51, 186]     NaN          [129, 185, 70]   \n",
       "\n",
       "                                24       25   26                 27  \\\n",
       "10012675@N05                   NaN      NaN  NaN                NaN   \n",
       "10014440@N06  [257, 1359, 296, 36]   [7991]  NaN                NaN   \n",
       "10502709@N05                   NaN  [15776]  NaN  [242, 1354, 4622]   \n",
       "10575698@N02                   NaN   [3554]  NaN                NaN   \n",
       "10627620@N06                   NaN    [292]  NaN               [11]   \n",
       "\n",
       "                        28   29                                 30  \n",
       "10012675@N05           NaN  NaN                                NaN  \n",
       "10014440@N06           NaN  NaN                                NaN  \n",
       "10502709@N05  [17388, 335]  NaN                                NaN  \n",
       "10575698@N02           NaN  NaN                                NaN  \n",
       "10627620@N06           NaN  NaN  [3306, 1500, 19994, 21, 185, 744]  \n",
       "\n",
       "[5 rows x 29 columns]"
      ]
     },
     "execution_count": 37,
     "metadata": {},
     "output_type": "execute_result"
    }
   ],
   "source": [
    "visit_duration_df.head()"
   ]
  },
  {
   "cell_type": "code",
   "execution_count": 38,
   "metadata": {
    "collapsed": false
   },
   "outputs": [
    {
     "data": {
      "text/plain": [
       "array([6484, 5302, 3739, 5430])"
      ]
     },
     "execution_count": 38,
     "metadata": {},
     "output_type": "execute_result"
    }
   ],
   "source": [
    "visit_duration_df.iloc[2, 5]"
   ]
  },
  {
   "cell_type": "markdown",
   "metadata": {},
   "source": [
    "### Build PMF model"
   ]
  },
  {
   "cell_type": "code",
   "execution_count": 39,
   "metadata": {
    "collapsed": true
   },
   "outputs": [],
   "source": [
    "def build_pmf(duration_df, mask, dim):\n",
    "    \"\"\"\n",
    "    Build the Probabilistic Matrix Factorization model using pymc3.\n",
    "    \"\"\"\n",
    "    obs_data = duration_df.copy()\n",
    "    n, m = obs_data.shape\n",
    "    print('obs_data:', obs_data.shape)\n",
    "    print('dim:', dim)\n",
    "\n",
    "    # Low precision reflects uncertainty; prevents overfitting.\n",
    "    alpha_u = 0.01\n",
    "    alpha_p = 0.01\n",
    "    alpha = 1\n",
    "    \n",
    "    U = []\n",
    "    P = []\n",
    "    Obs = []\n",
    "    for i in range(n):\n",
    "        U_i = pm.MvNormal(str('U_%d' % i), mu=np.zeros(dim), tau=alpha_u * np.eye(dim))\n",
    "        U.append(U_i)\n",
    "    for j in range(m):\n",
    "        P_j = pm.MvNormal(str('P_%d' % j), mu=np.zeros(dim), tau=alpha_p * np.eye(dim))\n",
    "        P.append(P_j)\n",
    "    for i in range(n):\n",
    "        for j in range(m):\n",
    "            if mask.iloc[i, j]: continue\n",
    "            mu_ij = pm.sum([U[i][x] * P[j][x] for x in range(dim)])\n",
    "            R_ij = pm.Normal(str('R_%d_%d' % (i, j)), mu=mu_ij, tau=alpha, observed=True, value=duration_df.iloc[i, j])\n",
    "            Obs.append(R_ij)\n",
    "                \n",
    "    return pm.Model([x for x in U] + [x for x in P] + Obs)"
   ]
  },
  {
   "cell_type": "code",
   "execution_count": 40,
   "metadata": {
    "collapsed": false
   },
   "outputs": [
    {
     "name": "stdout",
     "output_type": "stream",
     "text": [
      "obs_data: (413, 29)\n",
      "dim: 5\n"
     ]
    }
   ],
   "source": [
    "pmf = build_pmf(visit_duration_df, nan_mask_train, dim=5)"
   ]
  },
  {
   "cell_type": "markdown",
   "metadata": {},
   "source": [
    "### Find the MAP"
   ]
  },
  {
   "cell_type": "code",
   "execution_count": null,
   "metadata": {
    "collapsed": false
   },
   "outputs": [],
   "source": [
    "t0 = time.time()\n",
    "map_ = pm.MAP(pmf)\n",
    "map_.fit()\n",
    "#map_.fit(method='fmin_powell')\n",
    "print('%d seconds used.' % int(time.time() - t0))"
   ]
  },
  {
   "cell_type": "markdown",
   "metadata": {},
   "source": [
    "### Run MCMC"
   ]
  },
  {
   "cell_type": "code",
   "execution_count": null,
   "metadata": {
    "collapsed": false
   },
   "outputs": [],
   "source": [
    "mcmc = pm.MCMC(pmf)\n",
    "mcmc.sample(10000, burn=5000, thin=10)"
   ]
  },
  {
   "cell_type": "code",
   "execution_count": null,
   "metadata": {
    "collapsed": false
   },
   "outputs": [],
   "source": [
    "mcplot(mcmc.trace('P_5'), common_scale=False)"
   ]
  },
  {
   "cell_type": "code",
   "execution_count": null,
   "metadata": {
    "collapsed": false
   },
   "outputs": [],
   "source": [
    "mcmc.trace('U_0')[:].mean(axis=0)"
   ]
  },
  {
   "cell_type": "markdown",
   "metadata": {},
   "source": [
    "### Compute Prediction Error"
   ]
  },
  {
   "cell_type": "code",
   "execution_count": null,
   "metadata": {
    "collapsed": true
   },
   "outputs": [],
   "source": [
    "def rmse(U, P, user_list, poi_list, test_tuples, seq_exp_all, poi_duration_df):\n",
    "    predicted = pd.DataFrame(data=np.dot(U, P.T), columns=poi_list, index=user_list)\n",
    "    #print(predicted)\n",
    "    se = [] # squared errors\n",
    "    for user, seqid in test_tuples:\n",
    "        seq = extract_seq(seqid, seq_exp_all)\n",
    "        for poi in seq:\n",
    "            if (user, seqid, poi) in poi_duration_df.index:\n",
    "                duration = poi_duration_df.loc[(user, seqid, poi), 'poiDuration(sec)']\n",
    "                se.append(abs(duration - predicted.loc[user, poi]) ** 2)\n",
    "    return math.sqrt(np.mean(se))    "
   ]
  },
  {
   "cell_type": "code",
   "execution_count": null,
   "metadata": {
    "collapsed": true
   },
   "outputs": [],
   "source": [
    "#U = map_estimate['U']\n",
    "#P = map_estimate['P']"
   ]
  },
  {
   "cell_type": "code",
   "execution_count": null,
   "metadata": {
    "collapsed": true
   },
   "outputs": [],
   "source": [
    "dim = 5\n",
    "U = np.zeros((len(user_list), dim), dtype=np.float)\n",
    "P = np.zeros((len(poi_list), dim), dtype=np.float)\n",
    "for i in range(len(user_list)):\n",
    "    U[i] = mcmc.trace(str('U_%d' % i))[:].mean(axis=0)\n",
    "for j in range(len(poi_list)):\n",
    "    P[j] = mcmc.trace(str('P_%d' % j))[:].mean(axis=0)"
   ]
  },
  {
   "cell_type": "code",
   "execution_count": null,
   "metadata": {
    "collapsed": false
   },
   "outputs": [],
   "source": [
    "# Make predictions and calculate RMSE on train & test sets.\n",
    "pmf_map_train_rmse = rmse(U, P, user_list, poi_list, tuples, seq_exp_all, poi_duration_df)\n",
    "pmf_map_test_rmse = rmse(U, P, user_list, poi_list, user_seqid_tuples_test, seq_exp_all, poi_duration_df)\n",
    "overfit = pmf_map_test_rmse - pmf_map_train_rmse"
   ]
  },
  {
   "cell_type": "code",
   "execution_count": null,
   "metadata": {
    "collapsed": false
   },
   "outputs": [],
   "source": [
    "print('PMF MAP training RMSE: %.5f' % pmf_map_train_rmse)\n",
    "print('PMF MAP testing RMSE:  %.5f' % pmf_map_test_rmse)\n",
    "print('Train/test difference: %.5f' % overfit)"
   ]
  },
  {
   "cell_type": "markdown",
   "metadata": {},
   "source": [
    "### Build BPMF model"
   ]
  },
  {
   "cell_type": "code",
   "execution_count": null,
   "metadata": {
    "collapsed": true
   },
   "outputs": [],
   "source": [
    "def build_bpmf(duration_df, mask, dim):\n",
    "    \"\"\"\n",
    "    Build the original BPMF model\n",
    "    \"\"\"\n",
    "    obs_data = duration_df.copy()\n",
    "    n, m = obs_data.shape\n",
    "    alpha = 0.01 # low precision means high variance\n",
    "    print('obs_data:', obs_data.shape)\n",
    "    print('dim:', dim)\n",
    "    \n",
    "    # user feature hyperparameters\n",
    "    lambda_u = pm.Wishart('lambda_u', n=dim, Tau=np.eye(dim))\n",
    "    mu_u = pm.Normal('mu_u', mu=0, tau=1, size=dim)\n",
    "    \n",
    "    # POI feature hyperparameters\n",
    "    lambda_p = pm.Wishart('lambda_p', n=dim, Tau=np.eye(dim))\n",
    "    mu_p = pm.Normal('mu_p', mu=0, tau=1, size=dim)\n",
    "    \n",
    "    # user feature matrix\n",
    "    U = []\n",
    "    for i in range(n): \n",
    "        U_i = pm.MvNormal(str('U_%d' % i), mu=mu_u, tau=lambda_u)\n",
    "        U.append(U_i)\n",
    "    \n",
    "    # POI feature matrix\n",
    "    P = []\n",
    "    for j in range(m): \n",
    "        P_j = pm.MvNormal(str('P_%d' % j), mu=mu_p, tau=lambda_p)\n",
    "        P.append(P_j)\n",
    "    \n",
    "    # observations\n",
    "    Obs = []\n",
    "    for i in range(n): \n",
    "        for j in range(m):\n",
    "            if mask.iloc[i, j]: continue\n",
    "            mu_ij = pm.sum([U[i][x] * P[j][x] for x in range(dim)])\n",
    "            R_ij = pm.Normal(str('R_%d_%d' % (i,j)), mu=mu_ij, tau=alpha, observed=True, value=duration_df.iloc[i,j])\n",
    "            Obs.append(R_ij)\n",
    "            \n",
    "    return pm.Model([lambda_u, mu_u, lambda_p, mu_p] + U + P + Obs)"
   ]
  },
  {
   "cell_type": "code",
   "execution_count": null,
   "metadata": {
    "collapsed": false
   },
   "outputs": [],
   "source": [
    "bpmf = build_bpmf(visit_duration_df, nan_mask_train, dim=5)"
   ]
  },
  {
   "cell_type": "markdown",
   "metadata": {},
   "source": [
    "### Find the MAP"
   ]
  },
  {
   "cell_type": "code",
   "execution_count": null,
   "metadata": {
    "collapsed": false
   },
   "outputs": [],
   "source": [
    "t0 = time.time()\n",
    "map_ = pm.MAP(bpmf)\n",
    "map_.fit()\n",
    "#map_.fit(method='fmin_powell')\n",
    "print('%d seconds used.' % int(time.time() - t0))"
   ]
  },
  {
   "cell_type": "markdown",
   "metadata": {},
   "source": [
    "### Run MCMC"
   ]
  },
  {
   "cell_type": "code",
   "execution_count": null,
   "metadata": {
    "collapsed": false
   },
   "outputs": [],
   "source": [
    "mcmc = pm.MCMC(bpmf)\n",
    "mcmc.sample(10000000, burn=5000000, thin=100)"
   ]
  },
  {
   "cell_type": "code",
   "execution_count": null,
   "metadata": {
    "collapsed": false
   },
   "outputs": [],
   "source": [
    "mcplot(mcmc.trace('mu_u'), common_scale=False)"
   ]
  },
  {
   "cell_type": "code",
   "execution_count": null,
   "metadata": {
    "collapsed": false
   },
   "outputs": [],
   "source": [
    "mcplot(mcmc.trace('mu_p'), common_scale=False)"
   ]
  },
  {
   "cell_type": "code",
   "execution_count": null,
   "metadata": {
    "collapsed": false
   },
   "outputs": [],
   "source": [
    "mcplot(mcmc.trace('P_2'), common_scale=False)"
   ]
  },
  {
   "cell_type": "code",
   "execution_count": null,
   "metadata": {
    "collapsed": true
   },
   "outputs": [],
   "source": []
  }
 ],
 "metadata": {
  "kernelspec": {
   "display_name": "Python 3",
   "language": "python",
   "name": "python3"
  },
  "language_info": {
   "codemirror_mode": {
    "name": "ipython",
    "version": 3
   },
   "file_extension": ".py",
   "mimetype": "text/x-python",
   "name": "python",
   "nbconvert_exporter": "python",
   "pygments_lexer": "ipython3",
   "version": "3.5.1"
  }
 },
 "nbformat": 4,
 "nbformat_minor": 0
}
