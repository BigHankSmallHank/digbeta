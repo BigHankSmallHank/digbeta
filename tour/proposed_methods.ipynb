{
 "cells": [
  {
   "cell_type": "markdown",
   "metadata": {
    "collapsed": true
   },
   "source": [
    "# Trajectory Recommendation"
   ]
  },
  {
   "cell_type": "markdown",
   "metadata": {},
   "source": [
    "<a id='toc'></a>"
   ]
  },
  {
   "cell_type": "markdown",
   "metadata": {},
   "source": [
    "[Table of Contents](#toc)\n",
    "1. [Preprocess Dataset](#sec1)\n",
    "  1. [Load Data](#sec1.1)\n",
    "  1. [Utility function](#sec1.2)\n",
    "1. [POI Ranking](#sec2)\n",
    "  1. [POI Features for Ranking](#sec2.1)\n",
    "  1. [Training DataFrame](#sec2.2)\n",
    "  1. [Test DataFrame](#sec2.3)\n",
    "  1. [Ranking POIs using rankSVM](#sec2.4)\n",
    "  1. [Recommendation based on POI Ranking](#sec2.5)\n",
    "1. [Factorise Transition Probabilities in POI Feature Space](#sec3)\n",
    "  1. [POI Features for Factorisation](#sec3.1)\n",
    "  1. [Transition Matrix between POI Cateogries](#sec3.2)\n",
    "  1. [Transition Matrix between POI Popularity Classes](#sec3.3)\n",
    "  1. [Transition Matrix between the Number of POI Visit Classes](#sec3.4)\n",
    "  1. [Transition Matrix between POI Average Visit Duration Classes](#sec3.5)\n",
    "  1. [Transition Matrix between POI Neighborhood Classes](#sec3.6)\n",
    "  1. [Transition Matrix between POIs](#sec3.7)\n",
    "  1. [Recommendation based on POI Transition Matrix](#sec3.8)\n",
    "1. [Combine POI Ranking with Factorised Markov Chain](#sec4)\n",
    "1. [Comparison](#sec5)"
   ]
  },
  {
   "cell_type": "markdown",
   "metadata": {},
   "source": [
    "<a id='sec1'></a>"
   ]
  },
  {
   "cell_type": "markdown",
   "metadata": {},
   "source": [
    "# 1. Preprocess Dataset"
   ]
  },
  {
   "cell_type": "code",
   "execution_count": 1,
   "metadata": {
    "collapsed": false
   },
   "outputs": [],
   "source": [
    "% matplotlib inline\n",
    "\n",
    "import os, sys, time, pickle, tempfile\n",
    "import math, random, itertools, scipy\n",
    "import pandas as pd\n",
    "import numpy as np\n",
    "import matplotlib.pyplot as plt\n",
    "import scipy.optimize as sop\n",
    "from scipy.linalg import kron\n",
    "from scipy.misc import logsumexp\n",
    "from joblib import Parallel, delayed\n",
    "from sklearn.cluster import KMeans\n",
    "import seaborn as sns\n",
    "import pulp"
   ]
  },
  {
   "cell_type": "code",
   "execution_count": 2,
   "metadata": {
    "collapsed": true
   },
   "outputs": [],
   "source": [
    "random.seed(987654321) # control random choice when splitting training/testing set\n",
    "np.random.seed(987654321)\n",
    "ranksvm_dir = '$HOME/work/ranksvm'"
   ]
  },
  {
   "cell_type": "code",
   "execution_count": 3,
   "metadata": {
    "collapsed": true
   },
   "outputs": [],
   "source": [
    "data_dir = 'data/data-recsys16'\n",
    "suffix = ['Osak', 'Glas', 'Edin', 'Toro', 'Melb']"
   ]
  },
  {
   "cell_type": "code",
   "execution_count": 4,
   "metadata": {
    "collapsed": true
   },
   "outputs": [],
   "source": [
    "dat_ix = 1"
   ]
  },
  {
   "cell_type": "code",
   "execution_count": 5,
   "metadata": {
    "collapsed": true
   },
   "outputs": [],
   "source": [
    "datasettypes = ['all', 'noshort', 'perfect']"
   ]
  },
  {
   "cell_type": "code",
   "execution_count": 6,
   "metadata": {
    "collapsed": true
   },
   "outputs": [],
   "source": [
    "dstype = datasettypes[2]"
   ]
  },
  {
   "cell_type": "markdown",
   "metadata": {},
   "source": [
    "Hyperparameters."
   ]
  },
  {
   "cell_type": "code",
   "execution_count": 7,
   "metadata": {
    "collapsed": true
   },
   "outputs": [],
   "source": [
    "uspecific = True\n",
    "KX = 100  # 100 folds in user specific setting\n",
    "kxstr = str(KX) + 'X-'"
   ]
  },
  {
   "cell_type": "code",
   "execution_count": 8,
   "metadata": {
    "collapsed": false
   },
   "outputs": [],
   "source": [
    "ALPHA = 0.5\n",
    "alphastr = str(ALPHA).replace('.', '_') + '-'"
   ]
  },
  {
   "cell_type": "markdown",
   "metadata": {},
   "source": [
    "Method switches."
   ]
  },
  {
   "cell_type": "code",
   "execution_count": 9,
   "metadata": {
    "collapsed": true
   },
   "outputs": [],
   "source": [
    "run_rank = True\n",
    "run_tran = True\n",
    "run_comb = True"
   ]
  },
  {
   "cell_type": "code",
   "execution_count": 10,
   "metadata": {
    "collapsed": true
   },
   "outputs": [],
   "source": [
    "fpoi = os.path.join(data_dir, 'poi-' + suffix[dat_ix] + '.csv')"
   ]
  },
  {
   "cell_type": "code",
   "execution_count": 11,
   "metadata": {
    "collapsed": true
   },
   "outputs": [],
   "source": [
    "ftraj = os.path.join(data_dir, 'traj-' + dstype + '-' + suffix[dat_ix] + '.csv')"
   ]
  },
  {
   "cell_type": "markdown",
   "metadata": {},
   "source": [
    "Files to store results."
   ]
  },
  {
   "cell_type": "code",
   "execution_count": 12,
   "metadata": {
    "collapsed": true
   },
   "outputs": [],
   "source": [
    "if uspecific == True:\n",
    "    frecdict_rank = os.path.join(data_dir, 'rank-' + dstype + '-specific-' + kxstr + suffix[dat_ix] + '.pkl')\n",
    "    frecdict_tran = os.path.join(data_dir, 'tran-' + dstype + '-specific-' + kxstr + suffix[dat_ix] + '.pkl')\n",
    "    frecdict_comb = os.path.join(data_dir, 'comb-' + dstype + '-specific-' + alphastr + kxstr + suffix[dat_ix] + '.pkl')\n",
    "else:\n",
    "    frecdict_rank = os.path.join(data_dir, 'rank-' + dstype + '-agnostic-' + suffix[dat_ix] + '.pkl')\n",
    "    frecdict_tran = os.path.join(data_dir, 'tran-' + dstype + '-agnostic-' + suffix[dat_ix] + '.pkl')\n",
    "    frecdict_comb = os.path.join(data_dir, 'comb-' + dstype + '-agnostic-' + alphastr + suffix[dat_ix] + '.pkl')"
   ]
  },
  {
   "cell_type": "markdown",
   "metadata": {},
   "source": [
    "<a id='sec1.1'></a>"
   ]
  },
  {
   "cell_type": "markdown",
   "metadata": {},
   "source": [
    "## 1.1 Load Data"
   ]
  },
  {
   "cell_type": "code",
   "execution_count": 13,
   "metadata": {
    "collapsed": false
   },
   "outputs": [
    {
     "data": {
      "text/html": [
       "<div>\n",
       "<table border=\"1\" class=\"dataframe\">\n",
       "  <thead>\n",
       "    <tr style=\"text-align: right;\">\n",
       "      <th></th>\n",
       "      <th>#photo</th>\n",
       "      <th>endTime</th>\n",
       "      <th>poiID</th>\n",
       "      <th>startTime</th>\n",
       "      <th>trajID</th>\n",
       "      <th>trajLen</th>\n",
       "      <th>userID</th>\n",
       "      <th>poiDuration</th>\n",
       "    </tr>\n",
       "  </thead>\n",
       "  <tbody>\n",
       "    <tr>\n",
       "      <th>0</th>\n",
       "      <td>5</td>\n",
       "      <td>1308366396</td>\n",
       "      <td>13</td>\n",
       "      <td>1308361705</td>\n",
       "      <td>38</td>\n",
       "      <td>3</td>\n",
       "      <td>11037560@N04</td>\n",
       "      <td>4691</td>\n",
       "    </tr>\n",
       "    <tr>\n",
       "      <th>1</th>\n",
       "      <td>1</td>\n",
       "      <td>1308369674</td>\n",
       "      <td>21</td>\n",
       "      <td>1308369674</td>\n",
       "      <td>38</td>\n",
       "      <td>3</td>\n",
       "      <td>11037560@N04</td>\n",
       "      <td>0</td>\n",
       "    </tr>\n",
       "    <tr>\n",
       "      <th>2</th>\n",
       "      <td>2</td>\n",
       "      <td>1308376173</td>\n",
       "      <td>2</td>\n",
       "      <td>1308376102</td>\n",
       "      <td>38</td>\n",
       "      <td>3</td>\n",
       "      <td>11037560@N04</td>\n",
       "      <td>71</td>\n",
       "    </tr>\n",
       "    <tr>\n",
       "      <th>3</th>\n",
       "      <td>2</td>\n",
       "      <td>1308461617</td>\n",
       "      <td>2</td>\n",
       "      <td>1308454575</td>\n",
       "      <td>39</td>\n",
       "      <td>3</td>\n",
       "      <td>11037560@N04</td>\n",
       "      <td>7042</td>\n",
       "    </tr>\n",
       "    <tr>\n",
       "      <th>4</th>\n",
       "      <td>1</td>\n",
       "      <td>1308462069</td>\n",
       "      <td>21</td>\n",
       "      <td>1308462069</td>\n",
       "      <td>39</td>\n",
       "      <td>3</td>\n",
       "      <td>11037560@N04</td>\n",
       "      <td>0</td>\n",
       "    </tr>\n",
       "  </tbody>\n",
       "</table>\n",
       "</div>"
      ],
      "text/plain": [
       "   #photo     endTime  poiID   startTime  trajID  trajLen        userID  \\\n",
       "0       5  1308366396     13  1308361705      38        3  11037560@N04   \n",
       "1       1  1308369674     21  1308369674      38        3  11037560@N04   \n",
       "2       2  1308376173      2  1308376102      38        3  11037560@N04   \n",
       "3       2  1308461617      2  1308454575      39        3  11037560@N04   \n",
       "4       1  1308462069     21  1308462069      39        3  11037560@N04   \n",
       "\n",
       "   poiDuration  \n",
       "0         4691  \n",
       "1            0  \n",
       "2           71  \n",
       "3         7042  \n",
       "4            0  "
      ]
     },
     "execution_count": 13,
     "metadata": {},
     "output_type": "execute_result"
    }
   ],
   "source": [
    "traj_all = pd.read_csv(ftraj)\n",
    "traj_all.head()"
   ]
  },
  {
   "cell_type": "code",
   "execution_count": 14,
   "metadata": {
    "collapsed": false
   },
   "outputs": [
    {
     "data": {
      "text/html": [
       "<div>\n",
       "<table border=\"1\" class=\"dataframe\">\n",
       "  <thead>\n",
       "    <tr style=\"text-align: right;\">\n",
       "      <th></th>\n",
       "      <th>poiCat</th>\n",
       "      <th>poiLon</th>\n",
       "      <th>poiLat</th>\n",
       "    </tr>\n",
       "    <tr>\n",
       "      <th>poiID</th>\n",
       "      <th></th>\n",
       "      <th></th>\n",
       "      <th></th>\n",
       "    </tr>\n",
       "  </thead>\n",
       "  <tbody>\n",
       "    <tr>\n",
       "      <th>1</th>\n",
       "      <td>Transport</td>\n",
       "      <td>-4.258101</td>\n",
       "      <td>55.857920</td>\n",
       "    </tr>\n",
       "    <tr>\n",
       "      <th>2</th>\n",
       "      <td>Transport</td>\n",
       "      <td>-4.250728</td>\n",
       "      <td>55.861496</td>\n",
       "    </tr>\n",
       "    <tr>\n",
       "      <th>4</th>\n",
       "      <td>Transport</td>\n",
       "      <td>-4.595632</td>\n",
       "      <td>55.509388</td>\n",
       "    </tr>\n",
       "    <tr>\n",
       "      <th>5</th>\n",
       "      <td>Transport</td>\n",
       "      <td>-4.331517</td>\n",
       "      <td>55.868897</td>\n",
       "    </tr>\n",
       "    <tr>\n",
       "      <th>6</th>\n",
       "      <td>Transport</td>\n",
       "      <td>-4.269905</td>\n",
       "      <td>55.856135</td>\n",
       "    </tr>\n",
       "  </tbody>\n",
       "</table>\n",
       "</div>"
      ],
      "text/plain": [
       "          poiCat    poiLon     poiLat\n",
       "poiID                                \n",
       "1      Transport -4.258101  55.857920\n",
       "2      Transport -4.250728  55.861496\n",
       "4      Transport -4.595632  55.509388\n",
       "5      Transport -4.331517  55.868897\n",
       "6      Transport -4.269905  55.856135"
      ]
     },
     "execution_count": 14,
     "metadata": {},
     "output_type": "execute_result"
    }
   ],
   "source": [
    "poi_all = pd.read_csv(fpoi)\n",
    "poi_all.set_index('poiID', inplace=True)\n",
    "poi_all.head()"
   ]
  },
  {
   "cell_type": "code",
   "execution_count": 15,
   "metadata": {
    "collapsed": false
   },
   "outputs": [
    {
     "data": {
      "text/html": [
       "<div>\n",
       "<table border=\"1\" class=\"dataframe\">\n",
       "  <thead>\n",
       "    <tr style=\"text-align: right;\">\n",
       "      <th></th>\n",
       "      <th>#poi</th>\n",
       "      <th>#traj</th>\n",
       "      <th>#traj/user</th>\n",
       "      <th>#user</th>\n",
       "    </tr>\n",
       "  </thead>\n",
       "  <tbody>\n",
       "    <tr>\n",
       "      <th>Glas</th>\n",
       "      <td>23</td>\n",
       "      <td>75</td>\n",
       "      <td>1.136364</td>\n",
       "      <td>66</td>\n",
       "    </tr>\n",
       "  </tbody>\n",
       "</table>\n",
       "</div>"
      ],
      "text/plain": [
       "      #poi  #traj  #traj/user  #user\n",
       "Glas    23     75    1.136364     66"
      ]
     },
     "execution_count": 15,
     "metadata": {},
     "output_type": "execute_result"
    }
   ],
   "source": [
    "num_user = traj_all['userID'].unique().shape[0]\n",
    "num_poi = traj_all['poiID'].unique().shape[0]\n",
    "num_traj = traj_all['trajID'].unique().shape[0]\n",
    "#assert(num_poi == poi_all.shape[0])\n",
    "pd.DataFrame({'#user': num_user, '#poi': num_poi, '#traj': num_traj, '#traj/user': num_traj/num_user}, \\\n",
    "             index=[str(suffix[dat_ix])])"
   ]
  },
  {
   "cell_type": "code",
   "execution_count": 16,
   "metadata": {
    "collapsed": false
   },
   "outputs": [
    {
     "data": {
      "image/png": "[encoded data removed]",
      "text/plain": [
       "<matplotlib.figure.Figure at 0x7f065cc9b5c0>"
      ]
     },
     "metadata": {},
     "output_type": "display_data"
    }
   ],
   "source": [
    "ax = traj_all['trajLen'].hist(bins=20)\n",
    "ax.set_yscale('log')"
   ]
  },
  {
   "cell_type": "markdown",
   "metadata": {},
   "source": [
    "Mapping trajectory to user."
   ]
  },
  {
   "cell_type": "code",
   "execution_count": 17,
   "metadata": {
    "collapsed": false
   },
   "outputs": [
    {
     "data": {
      "text/html": [
       "<div>\n",
       "<table border=\"1\" class=\"dataframe\">\n",
       "  <thead>\n",
       "    <tr style=\"text-align: right;\">\n",
       "      <th></th>\n",
       "      <th>userID</th>\n",
       "    </tr>\n",
       "    <tr>\n",
       "      <th>trajID</th>\n",
       "      <th></th>\n",
       "    </tr>\n",
       "  </thead>\n",
       "  <tbody>\n",
       "    <tr>\n",
       "      <th>38</th>\n",
       "      <td>11037560@N04</td>\n",
       "    </tr>\n",
       "    <tr>\n",
       "      <th>39</th>\n",
       "      <td>11037560@N04</td>\n",
       "    </tr>\n",
       "    <tr>\n",
       "      <th>55</th>\n",
       "      <td>11452054@N00</td>\n",
       "    </tr>\n",
       "    <tr>\n",
       "      <th>107</th>\n",
       "      <td>14086506@N02</td>\n",
       "    </tr>\n",
       "    <tr>\n",
       "      <th>119</th>\n",
       "      <td>14578360@N00</td>\n",
       "    </tr>\n",
       "  </tbody>\n",
       "</table>\n",
       "</div>"
      ],
      "text/plain": [
       "              userID\n",
       "trajID              \n",
       "38      11037560@N04\n",
       "39      11037560@N04\n",
       "55      11452054@N00\n",
       "107     14086506@N02\n",
       "119     14578360@N00"
      ]
     },
     "execution_count": 17,
     "metadata": {},
     "output_type": "execute_result"
    }
   ],
   "source": [
    "traj_user = traj_all[['trajID', 'userID']].copy().groupby('trajID').first()\n",
    "traj_user.head()"
   ]
  },
  {
   "cell_type": "markdown",
   "metadata": {},
   "source": [
    "<a id='sec1.2'></a>"
   ]
  },
  {
   "cell_type": "markdown",
   "metadata": {},
   "source": [
    "## 1.2 Utility function"
   ]
  },
  {
   "cell_type": "markdown",
   "metadata": {},
   "source": [
    "Print computing progress."
   ]
  },
  {
   "cell_type": "code",
   "execution_count": 18,
   "metadata": {
    "collapsed": true
   },
   "outputs": [],
   "source": [
    "def print_progress(cnt, total):\n",
    "    \"\"\"Display a progress bar\"\"\"\n",
    "    assert(cnt > 0 and total > 0 and cnt <= total)\n",
    "    length = 80\n",
    "    ratio = cnt / total\n",
    "    n = int(length * ratio)\n",
    "    sys.stdout.write('\\r[%-80s] %d%%' % ('-'*n, int(ratio*100)))\n",
    "    sys.stdout.flush()"
   ]
  },
  {
   "cell_type": "markdown",
   "metadata": {},
   "source": [
    "Extract trajectory, i.e., a list of POIs."
   ]
  },
  {
   "cell_type": "code",
   "execution_count": 19,
   "metadata": {
    "collapsed": true
   },
   "outputs": [],
   "source": [
    "def extract_traj(tid, traj_all):\n",
    "    traj = traj_all[traj_all['trajID'] == tid].copy()\n",
    "    traj.sort_values(by=['startTime'], ascending=True, inplace=True)\n",
    "    return traj['poiID'].tolist()"
   ]
  },
  {
   "cell_type": "markdown",
   "metadata": {},
   "source": [
    "Compute POI properties, e.g., popularity, total number of visit, average visit duration."
   ]
  },
  {
   "cell_type": "code",
   "execution_count": 20,
   "metadata": {
    "collapsed": true
   },
   "outputs": [],
   "source": [
    "def calc_poi_info(trajid_list, traj_all, poi_all):\n",
    "    assert(len(trajid_list) > 0)\n",
    "    # to allow duplicated trajid\n",
    "    poi_info = traj_all[traj_all['trajID'] == trajid_list[0]][['poiID', 'poiDuration']].copy() \n",
    "    for i in range(1, len(trajid_list)):\n",
    "        traj = traj_all[traj_all['trajID'] == trajid_list[i]][['poiID', 'poiDuration']]\n",
    "        poi_info = poi_info.append(traj, ignore_index=True)\n",
    "    \n",
    "    poi_info = poi_info.groupby('poiID').agg([np.mean, np.size])\n",
    "    poi_info.columns = poi_info.columns.droplevel()\n",
    "    poi_info.reset_index(inplace=True)\n",
    "    poi_info.rename(columns={'mean':'avgDuration', 'size':'nVisit'}, inplace=True)\n",
    "    poi_info.set_index('poiID', inplace=True) \n",
    "    poi_info['poiCat'] = poi_all.loc[poi_info.index, 'poiCat']\n",
    "    poi_info['poiLon'] = poi_all.loc[poi_info.index, 'poiLon']\n",
    "    poi_info['poiLat'] = poi_all.loc[poi_info.index, 'poiLat']\n",
    "    \n",
    "    # POI popularity: the number of distinct users that visited the POI\n",
    "    pop_df = traj_all[traj_all['trajID'].isin(trajid_list)][['poiID', 'userID']].copy()\n",
    "    pop_df = pop_df.groupby('poiID').agg(pd.Series.nunique)\n",
    "    pop_df.rename(columns={'userID':'nunique'}, inplace=True)\n",
    "    poi_info['popularity'] = pop_df.loc[poi_info.index, 'nunique']\n",
    "    \n",
    "    return poi_info.copy()"
   ]
  },
  {
   "cell_type": "markdown",
   "metadata": {},
   "source": [
    "Compute the F1 score for recommended trajectory."
   ]
  },
  {
   "cell_type": "code",
   "execution_count": 21,
   "metadata": {
    "collapsed": true
   },
   "outputs": [],
   "source": [
    "def calc_F1(seq_act, seq_rec):\n",
    "    '''Compute recall, precision and F1 when trajectories contain sub-tours'''\n",
    "    assert(len(seq_act) > 0)\n",
    "    assert(len(seq_rec) > 0)\n",
    "    #actset = set(seq_act)\n",
    "    #recset = set(seq_rec)\n",
    "    #intersect = actset & recset\n",
    "    \n",
    "    match_tags = np.zeros(len(seq_act), dtype=np.bool)\n",
    "    for poi in seq_rec:\n",
    "        for j in range(len(seq_act)):\n",
    "            if match_tags[j] == False and poi == seq_act[j]:\n",
    "                match_tags[j] = True\n",
    "                break\n",
    "    intersize = np.nonzero(match_tags)[0].shape[0]\n",
    "    recall = intersize / len(seq_act)\n",
    "    precision = intersize / len(seq_rec)\n",
    "    F1 = 2 * precision * recall / (precision + recall)\n",
    "    return F1"
   ]
  },
  {
   "cell_type": "markdown",
   "metadata": {},
   "source": [
    "Compute distance between two POIs using [Haversine formula](http://en.wikipedia.org/wiki/Great-circle_distance)."
   ]
  },
  {
   "cell_type": "code",
   "execution_count": 22,
   "metadata": {
    "collapsed": true
   },
   "outputs": [],
   "source": [
    "def calc_dist(longitude1, latitude1, longitude2, latitude2):\n",
    "    \"\"\"Calculate the distance (unit: km) between two places on earth\"\"\"\n",
    "    # convert degrees to radians\n",
    "    lon1 = math.radians(longitude1)\n",
    "    lat1 = math.radians(latitude1)\n",
    "    lon2 = math.radians(longitude2)\n",
    "    lat2 = math.radians(latitude2)\n",
    "    radius = 6371.0088 # mean earth radius is 6371.0088km, en.wikipedia.org/wiki/Earth_radius#Mean_radius\n",
    "    # The haversine formula, en.wikipedia.org/wiki/Great-circle_distance\n",
    "    dlon = math.fabs(lon1 - lon2)\n",
    "    dlat = math.fabs(lat1 - lat2)\n",
    "    return 2 * radius * math.asin(math.sqrt(\\\n",
    "               (math.sin(0.5*dlat))**2 + math.cos(lat1) * math.cos(lat2) * (math.sin(0.5*dlon))**2 ))"
   ]
  },
  {
   "cell_type": "markdown",
   "metadata": {},
   "source": [
    "Define a *query* (in IR terminology) using tuple (start POI, end POI, #POI) ~~user ID.~~"
   ]
  },
  {
   "cell_type": "code",
   "execution_count": 23,
   "metadata": {
    "collapsed": false
   },
   "outputs": [],
   "source": [
    "trajid_set_all = sorted(traj_all['trajID'].unique().tolist())"
   ]
  },
  {
   "cell_type": "code",
   "execution_count": 24,
   "metadata": {
    "collapsed": true
   },
   "outputs": [],
   "source": [
    "query_id_dict = dict()  # (start, end, length) --> qid"
   ]
  },
  {
   "cell_type": "code",
   "execution_count": 25,
   "metadata": {
    "collapsed": true
   },
   "outputs": [],
   "source": [
    "trajs = [extract_traj(tid, traj_all) for tid in trajid_set_all]\n",
    "keys = [(t[0], t[-1], len(t)) for t in trajs if len(t) > 2]\n",
    "cnt = 0\n",
    "for key in keys:\n",
    "    if key not in query_id_dict:   # (start, end, length) --> qid\n",
    "        query_id_dict[key] = cnt\n",
    "        cnt += 1"
   ]
  },
  {
   "cell_type": "code",
   "execution_count": 26,
   "metadata": {
    "collapsed": false
   },
   "outputs": [
    {
     "data": {
      "text/html": [
       "<div>\n",
       "<table border=\"1\" class=\"dataframe\">\n",
       "  <thead>\n",
       "    <tr style=\"text-align: right;\">\n",
       "      <th></th>\n",
       "      <th>avgDuration</th>\n",
       "      <th>nVisit</th>\n",
       "      <th>poiCat</th>\n",
       "      <th>poiLon</th>\n",
       "      <th>poiLat</th>\n",
       "      <th>popularity</th>\n",
       "    </tr>\n",
       "    <tr>\n",
       "      <th>poiID</th>\n",
       "      <th></th>\n",
       "      <th></th>\n",
       "      <th></th>\n",
       "      <th></th>\n",
       "      <th></th>\n",
       "      <th></th>\n",
       "    </tr>\n",
       "  </thead>\n",
       "  <tbody>\n",
       "    <tr>\n",
       "      <th>1</th>\n",
       "      <td>1793.450000</td>\n",
       "      <td>20</td>\n",
       "      <td>Transport</td>\n",
       "      <td>-4.258101</td>\n",
       "      <td>55.857920</td>\n",
       "      <td>20</td>\n",
       "    </tr>\n",
       "    <tr>\n",
       "      <th>2</th>\n",
       "      <td>858.189189</td>\n",
       "      <td>37</td>\n",
       "      <td>Transport</td>\n",
       "      <td>-4.250728</td>\n",
       "      <td>55.861496</td>\n",
       "      <td>36</td>\n",
       "    </tr>\n",
       "    <tr>\n",
       "      <th>5</th>\n",
       "      <td>0.000000</td>\n",
       "      <td>1</td>\n",
       "      <td>Transport</td>\n",
       "      <td>-4.331517</td>\n",
       "      <td>55.868897</td>\n",
       "      <td>1</td>\n",
       "    </tr>\n",
       "    <tr>\n",
       "      <th>6</th>\n",
       "      <td>0.000000</td>\n",
       "      <td>2</td>\n",
       "      <td>Transport</td>\n",
       "      <td>-4.269905</td>\n",
       "      <td>55.856135</td>\n",
       "      <td>2</td>\n",
       "    </tr>\n",
       "    <tr>\n",
       "      <th>8</th>\n",
       "      <td>2628.000000</td>\n",
       "      <td>1</td>\n",
       "      <td>Education</td>\n",
       "      <td>-4.249762</td>\n",
       "      <td>55.867072</td>\n",
       "      <td>1</td>\n",
       "    </tr>\n",
       "  </tbody>\n",
       "</table>\n",
       "</div>"
      ],
      "text/plain": [
       "       avgDuration  nVisit     poiCat    poiLon     poiLat  popularity\n",
       "poiID                                                                 \n",
       "1      1793.450000      20  Transport -4.258101  55.857920          20\n",
       "2       858.189189      37  Transport -4.250728  55.861496          36\n",
       "5         0.000000       1  Transport -4.331517  55.868897           1\n",
       "6         0.000000       2  Transport -4.269905  55.856135           2\n",
       "8      2628.000000       1  Education -4.249762  55.867072           1"
      ]
     },
     "execution_count": 26,
     "metadata": {},
     "output_type": "execute_result"
    }
   ],
   "source": [
    "poi_info_ = calc_poi_info(trajid_set_all, traj_all, poi_all)\n",
    "poi_info_.head()"
   ]
  },
  {
   "cell_type": "code",
   "execution_count": 27,
   "metadata": {
    "collapsed": false
   },
   "outputs": [
    {
     "name": "stdout",
     "output_type": "stream",
     "text": [
      "#traj in total: 75\n",
      "#traj (length > 2): 75\n",
      "#query tuple: 66\n"
     ]
    }
   ],
   "source": [
    "print('#traj in total:', len(trajid_set_all))\n",
    "print('#traj (length > 2):', traj_all[traj_all['trajLen'] > 2]['trajID'].unique().shape[0])\n",
    "print('#query tuple:', len(query_id_dict))"
   ]
  },
  {
   "cell_type": "markdown",
   "metadata": {},
   "source": [
    "<a id='sec2'></a>"
   ]
  },
  {
   "cell_type": "markdown",
   "metadata": {},
   "source": [
    "# 2. POI Ranking"
   ]
  },
  {
   "cell_type": "markdown",
   "metadata": {},
   "source": [
    "<a id='sec2.1'></a>"
   ]
  },
  {
   "cell_type": "markdown",
   "metadata": {},
   "source": [
    "## 2.1 POI Features for Ranking"
   ]
  },
  {
   "cell_type": "markdown",
   "metadata": {},
   "source": [
    "POI Features used for ranking:\n",
    "1. `popularity`: POI popularity, i.e., the number of distinct users that visited the POI\n",
    "1. `nVisit`: the total number of visit by all users\n",
    "1. `avgDuration`: average POI visit duration\n",
    "1. `sameCatStart`: 1 if POI category is the same as that of `startPOI`, -1 otherwise\n",
    "1. `sameCatEnd`: 1 if POI category is the same as that of `endPOI`, -1 otherwise\n",
    "1. `distStart`: distance (haversine formula) from `startPOI`\n",
    "1. `distEnd`: distance from `endPOI`\n",
    "1. `seqLen`: trajectory length (copy from query)\n",
    "1. `diffPopStart`: difference in POI popularity from `startPOI`\n",
    "1. `diffPopEnd`: difference in POI popularity from `endPOI`\n",
    "1. `diffNVisitStart`: difference in the total number of visit from `startPOI`\n",
    "1. `diffNVisitEnd`: difference in the total number of visit from `endPOI`\n",
    "1. `diffDurationStart`: difference in average POI visit duration from the actual duration spent at `startPOI`\n",
    "1. `diffDurationEnd`: difference in average POI visit duration from the actual duration spent at `endPOI`"
   ]
  },
  {
   "cell_type": "code",
   "execution_count": 28,
   "metadata": {
    "collapsed": true
   },
   "outputs": [],
   "source": [
    "df_columns = ['poiID', 'label', 'queryID', 'popularity', 'nVisit', 'avgDuration', \\\n",
    "              'sameCatStart', 'sameCatEnd', 'distStart', 'distEnd', 'seqLen', 'diffPopStart', \\\n",
    "              'diffPopEnd', 'diffNVisitStart', 'diffNVisitEnd', 'diffDurationStart', 'diffDurationEnd']"
   ]
  },
  {
   "cell_type": "markdown",
   "metadata": {},
   "source": [
    "~~Features aggregated from a number of trajectories:~~\n",
    "~~1. Compute POI `popularity` and average visit `duration` using all trajectories from training and querying set,~~\n",
    "~~1. Use the same features that computed above for the test set, except the distance based features.~~"
   ]
  },
  {
   "cell_type": "markdown",
   "metadata": {},
   "source": [
    "<a id='sec2.2'></a>"
   ]
  },
  {
   "cell_type": "markdown",
   "metadata": {},
   "source": [
    "## 2.2 Training DataFrame"
   ]
  },
  {
   "cell_type": "markdown",
   "metadata": {},
   "source": [
    "Training data are generated as follows:\n",
    "1. each input tuple $(\\text{startPOI}, \\text{endPOI}, \\text{#POI})$ form a `query` (in IR terminology).\n",
    "1. the label of a specific POI is the number of presence of that POI in a specific `query`, excluding the presence as $\\text{startPOI}$ or $\\text{endPOI}$.\n",
    "1. for each `query`, the label of all absence POIs from trajectories of that `query` in training set got a label 0."
   ]
  },
  {
   "cell_type": "markdown",
   "metadata": {},
   "source": [
    "The dimension of training data matrix is `#(qid, poi)` by `#feature`."
   ]
  },
  {
   "cell_type": "code",
   "execution_count": 29,
   "metadata": {
    "collapsed": true
   },
   "outputs": [],
   "source": [
    "def gen_train_subdf(poi_id, query_id_set, columns, poi_info, query_id_rdict):\n",
    "    df_ = pd.DataFrame(data=np.zeros((len(query_id_set), len(columns)), dtype=np.float), columns=columns)\n",
    "    \n",
    "    lon = poi_info.loc[poi_id, 'poiLon']; lat = poi_info.loc[poi_id, 'poiLat']\n",
    "    pop = poi_info.loc[poi_id, 'popularity']; nvisit = poi_info.loc[poi_id, 'nVisit']\n",
    "    cat = poi_info.loc[poi_id, 'poiCat']; duration = poi_info.loc[poi_id, 'avgDuration']\n",
    "    \n",
    "    for j in range(len(query_id_set)):\n",
    "        qid = query_id_set[j]\n",
    "        assert(qid in query_id_rdict) # qid --> (start, end, length)\n",
    "        (p0, pN, trajLen) = query_id_rdict[qid]\n",
    "        lon0 = poi_info.loc[p0, 'poiLon']; lat0 = poi_info.loc[p0, 'poiLat']\n",
    "        lonN = poi_info.loc[pN, 'poiLon']; latN = poi_info.loc[pN, 'poiLat']\n",
    "        idx = df_.index[j]\n",
    "        df_.loc[idx, 'poiID'] = poi_id\n",
    "        df_.loc[idx, 'queryID'] = qid\n",
    "        df_.loc[idx, 'popularity'] = pop\n",
    "        df_.loc[idx, 'nVisit'] = nvisit\n",
    "        df_.loc[idx, 'avgDuration'] = duration\n",
    "        df_.loc[idx, 'sameCatStart'] = 1 if cat == poi_info.loc[p0, 'poiCat'] else -1\n",
    "        df_.loc[idx, 'sameCatEnd']   = 1 if cat == poi_info.loc[pN, 'poiCat'] else -1\n",
    "        df_.loc[idx, 'distStart'] = 0 if poi_id == p0 else calc_dist(lon, lat, lon0, lat0)\n",
    "        df_.loc[idx, 'distEnd']   = 0 if poi_id == pN else calc_dist(lon, lat, lonN, latN)\n",
    "        df_.loc[idx, 'trajLen'] = trajLen\n",
    "        df_.loc[idx, 'diffPopStart'] = 0 if poi_id == p0 else pop - poi_info.loc[p0, 'popularity']\n",
    "        df_.loc[idx, 'diffPopEnd']   = 0 if poi_id == pN else pop - poi_info.loc[pN, 'popularity']\n",
    "        df_.loc[idx, 'diffNVisitStart'] = 0 if poi_id == p0 else nvisit - poi_info.loc[p0, 'nVisit']\n",
    "        df_.loc[idx, 'diffNVisitEnd']   = 0 if poi_id == pN else nvisit - poi_info.loc[pN, 'nVisit']\n",
    "        df_.loc[idx, 'diffDurationStart'] = 0 if poi_id == p0 else duration - poi_info.loc[p0, 'avgDuration']\n",
    "        df_.loc[idx, 'diffDurationEnd']   = 0 if poi_id == pN else duration - poi_info.loc[pN, 'avgDuration']\n",
    "        \n",
    "    return df_"
   ]
  },
  {
   "cell_type": "code",
   "execution_count": 30,
   "metadata": {
    "collapsed": true
   },
   "outputs": [],
   "source": [
    "def gen_train_df(trajid_list, columns, traj_all, poi_info, query_id_dict):\n",
    "    columns = columns.copy()\n",
    "    train_trajs = [extract_traj(tid, traj_all) for tid in trajid_list]\n",
    "    \n",
    "    qid_set = sorted(set([query_id_dict[(t[0], t[-1], len(t))] for t in train_trajs if len(t) > 2]))\n",
    "    poi_set = sorted(set(poi_info.index.tolist()))\n",
    "    \n",
    "    #qid_poi_pair = list(itertools.product(qid_set, poi_set)) # Cartesian product of qid_set and poi_set\n",
    "    #df_ = pd.DataFrame(data=np.zeros((len(qid_poi_pair), len(columns)), dtype= np.float), columns=columns)\n",
    "    \n",
    "    query_id_rdict = dict()\n",
    "    for k, v in query_id_dict.items(): \n",
    "        query_id_rdict[v] = k  # qid --> (start, end, length)\n",
    "    \n",
    "    train_df_list = Parallel(n_jobs=-2)\\\n",
    "                            (delayed(gen_train_subdf)(poi, qid_set, columns, poi_info, query_id_rdict) \\\n",
    "                             for poi in poi_set)\n",
    "                        \n",
    "    assert(len(train_df_list) > 0)\n",
    "    df_ = train_df_list[0]\n",
    "    for j in range(1, len(train_df_list)):\n",
    "        df_ = df_.append(train_df_list[j], ignore_index=True)            \n",
    "        \n",
    "    # set label\n",
    "    df_.set_index(['queryID', 'poiID'], inplace=True)\n",
    "    for t in train_trajs:\n",
    "        if len(t) > 2:\n",
    "            qid = query_id_dict[(t[0], t[-1], len(t))]\n",
    "            for poi in t[1:-1]:  # do NOT count if the POI is startPOI/endPOI\n",
    "                df_.loc[(qid, poi), 'label'] += 1\n",
    "    \n",
    "    df_.reset_index(inplace=True)\n",
    "    return df_"
   ]
  },
  {
   "cell_type": "markdown",
   "metadata": {},
   "source": [
    "Sanity check: \n",
    "- different POIs have different features for the same query trajectory\n",
    "- the same POI get different features for different query-id"
   ]
  },
  {
   "cell_type": "markdown",
   "metadata": {},
   "source": [
    "<a id='sec2.3'></a>"
   ]
  },
  {
   "cell_type": "markdown",
   "metadata": {},
   "source": [
    "## 2.3 Test DataFrame"
   ]
  },
  {
   "cell_type": "markdown",
   "metadata": {},
   "source": [
    "Test data are generated the same way as training data, except that the labels of testing data (unknown) could be arbitrary values as suggested in [libsvm FAQ](http://www.csie.ntu.edu.tw/~cjlin/libsvm/faq.html#f431).\n",
    "The reported accuracy (by `svm-predict` command) is meaningless as it is calculated based on these labels."
   ]
  },
  {
   "cell_type": "markdown",
   "metadata": {},
   "source": [
    "The dimension of training data matrix is `#poi` by `#feature` with one specific `query`, i.e. tuple $(\\text{startPOI}, \\text{endPOI}, \\text{#POI})$."
   ]
  },
  {
   "cell_type": "code",
   "execution_count": 31,
   "metadata": {
    "collapsed": true
   },
   "outputs": [],
   "source": [
    "def gen_test_df(startPOI, endPOI, nPOI, columns, poi_info, query_id_dict):\n",
    "    columns = columns.copy()\n",
    "    key = (p0, pN, trajLen) = (startPOI, endPOI, nPOI)\n",
    "    assert(key in query_id_dict)\n",
    "    assert(p0 in poi_info.index)\n",
    "    assert(pN in poi_info.index)\n",
    "    \n",
    "    poi_set = sorted(set(poi_info.index.tolist()))\n",
    "    df_ = pd.DataFrame(data=np.zeros((len(poi_set), len(columns)), dtype= np.float), columns=columns)\n",
    "    \n",
    "    qid = query_id_dict[key]\n",
    "    df_['queryID'] = qid\n",
    "    df_['label'] = np.random.rand(df_.shape[0]) # label for test data is arbitrary according to libsvm FAQ\n",
    "\n",
    "    lon0 = poi_info.loc[p0, 'poiLon']; lat0 = poi_info.loc[p0, 'poiLat']\n",
    "    lonN = poi_info.loc[pN, 'poiLon']; latN = poi_info.loc[pN, 'poiLat']\n",
    "    for i in range(df_.index.shape[0]):\n",
    "        poi = poi_set[i]\n",
    "        lon = poi_info.loc[poi, 'poiLon']; lat = poi_info.loc[poi, 'poiLat']\n",
    "        pop = poi_info.loc[poi, 'popularity']; nvisit = poi_info.loc[poi, 'nVisit']\n",
    "        cat = poi_info.loc[poi, 'poiCat']; duration = poi_info.loc[poi, 'avgDuration']\n",
    "        idx = df_.index[i]\n",
    "        df_.loc[idx, 'poiID'] = poi \n",
    "        df_.loc[idx, 'popularity'] = pop\n",
    "        df_.loc[idx, 'nVisit'] = nvisit\n",
    "        df_.loc[idx, 'avgDuration'] = duration\n",
    "        df_.loc[idx, 'sameCatStart'] = 1 if cat == poi_all.loc[p0, 'poiCat'] else -1\n",
    "        df_.loc[idx, 'sameCatEnd']   = 1 if cat == poi_all.loc[pN, 'poiCat'] else -1\n",
    "        df_.loc[idx, 'distStart'] = 0 if poi == p0 else calc_dist(lon, lat, lon0, lat0)\n",
    "        df_.loc[idx, 'distEnd']   = 0 if poi == pN else calc_dist(lon, lat, lonN, latN)\n",
    "        df_.loc[idx, 'trajLen'] = trajLen\n",
    "        df_.loc[idx, 'diffPopStart'] = pop - poi_info.loc[p0, 'popularity']\n",
    "        df_.loc[idx, 'diffPopEnd']   = pop - poi_info.loc[pN, 'popularity']\n",
    "        df_.loc[idx, 'diffNVisitStart'] = nvisit - poi_info.loc[p0, 'nVisit']\n",
    "        df_.loc[idx, 'diffNVisitEnd']   = nvisit - poi_info.loc[pN, 'nVisit']\n",
    "        df_.loc[idx, 'diffDurationStart'] = duration - poi_info.loc[p0, 'avgDuration']\n",
    "        df_.loc[idx, 'diffDurationEnd']   = duration - poi_info.loc[pN, 'avgDuration']\n",
    "    return df_"
   ]
  },
  {
   "cell_type": "markdown",
   "metadata": {},
   "source": [
    "Sanity check: \n",
    "- different POIs have different features for the same query trajectory\n",
    "- the same POI get different features for different query-id"
   ]
  },
  {
   "cell_type": "markdown",
   "metadata": {},
   "source": [
    "Generate a string for a training/test data frame."
   ]
  },
  {
   "cell_type": "code",
   "execution_count": 32,
   "metadata": {
    "collapsed": true
   },
   "outputs": [],
   "source": [
    "def gen_data_str(df_):\n",
    "    columns = df_columns[1:].copy()  # get rid of 'poiID'\n",
    "    for col in columns:\n",
    "        assert(col in df_.columns)\n",
    "        \n",
    "    lines = []\n",
    "    for idx in df_.index:\n",
    "        slist = [str(df_.loc[idx, 'label'])]\n",
    "        slist.append(' qid:')\n",
    "        slist.append(str(int(df_.loc[idx, 'queryID'])))\n",
    "        for j in range(2, len(columns)):\n",
    "            slist.append(' ')\n",
    "            slist.append(str(j-1))\n",
    "            slist.append(':')\n",
    "            slist.append(str(df_.loc[idx, columns[j]]))\n",
    "        slist.append('\\n')\n",
    "        lines.append(''.join(slist))\n",
    "    return ''.join(lines)"
   ]
  },
  {
   "cell_type": "markdown",
   "metadata": {},
   "source": [
    "<a id='sec2.4'></a>"
   ]
  },
  {
   "cell_type": "markdown",
   "metadata": {},
   "source": [
    "## 2.4 Ranking POIs using rankSVM"
   ]
  },
  {
   "cell_type": "markdown",
   "metadata": {},
   "source": [
    "RankSVM implementation in [libsvm.zip](https://www.csie.ntu.edu.tw/~cjlin/libsvmtools/ranksvm/libsvm-ranksvm-3.20.zip) or [liblinear.zip](https://www.csie.ntu.edu.tw/~cjlin/libsvmtools/ranksvm/liblinear-ranksvm-1.95.zip), please read `README.ranksvm` in the zip file for installation instructions."
   ]
  },
  {
   "cell_type": "markdown",
   "metadata": {},
   "source": [
    "Use [softmax function](https://en.wikipedia.org/wiki/Softmax_function) to convert ranking scores to a probability distribution."
   ]
  },
  {
   "cell_type": "code",
   "execution_count": 33,
   "metadata": {
    "collapsed": true
   },
   "outputs": [],
   "source": [
    "def softmax(x):\n",
    "    expx = np.exp(x)\n",
    "    return expx / np.sum(expx, axis=0) # column-wise sum"
   ]
  },
  {
   "cell_type": "markdown",
   "metadata": {},
   "source": [
    "Below is a python wrapper of the `svm-train` or `train` and `svm-predict` or `predict` commands of rankSVM with ranking probabilities $P(p_i \\lvert (p_s, p_e, len))$ computed using [softmax function](https://en.wikipedia.org/wiki/Softmax_function)."
   ]
  },
  {
   "cell_type": "code",
   "execution_count": 34,
   "metadata": {
    "collapsed": true
   },
   "outputs": [],
   "source": [
    "# python wrapper of rankSVM\n",
    "class RankSVM:\n",
    "    def __init__(self, bin_dir, useLinear=True, debug=False):\n",
    "        dir_ = !echo $bin_dir  # deal with environmental variables in path\n",
    "        assert(os.path.exists(dir_[0]))\n",
    "        self.bin_dir = dir_[0]\n",
    "        \n",
    "        self.bin_train = 'svm-train'\n",
    "        self.bin_predict = 'svm-predict'\n",
    "        if useLinear:\n",
    "            self.bin_train = 'train'\n",
    "            self.bin_predict = 'predict'\n",
    "        \n",
    "        assert(isinstance(debug, bool))\n",
    "        self.debug = debug\n",
    "        \n",
    "        # create named tmp files for model and feature scaling parameters\n",
    "        self.fmodel = None\n",
    "        self.fscale = None\n",
    "        with tempfile.NamedTemporaryFile(delete=False) as fd: \n",
    "            self.fmodel = fd.name\n",
    "        with tempfile.NamedTemporaryFile(delete=False) as fd: \n",
    "            self.fscale = fd.name\n",
    "        \n",
    "        if self.debug:\n",
    "            print('model file:', self.fmodel)\n",
    "            print('feature scaling parameter file:', self.fscale)\n",
    "    \n",
    "    \n",
    "    def __del__(self):\n",
    "        # remove tmp files\n",
    "        if self.fmodel is not None and os.path.exists(self.fmodel):\n",
    "            os.unlink(self.fmodel)\n",
    "        if self.fscale is not None and os.path.exists(self.fscale):\n",
    "            os.unlink(self.fscale)\n",
    "    \n",
    "    \n",
    "    def train(self, train_df, cost=1):\n",
    "        # cost is parameter C in SVM\n",
    "        # write train data to file\n",
    "        ftrain = None\n",
    "        with tempfile.NamedTemporaryFile(mode='w+t', delete=False) as fd: \n",
    "            ftrain = fd.name\n",
    "            datastr = gen_data_str(train_df)\n",
    "            fd.write(datastr)\n",
    "        \n",
    "        # feature scaling\n",
    "        ftrain_scaled = None\n",
    "        with tempfile.NamedTemporaryFile(mode='w+t', delete=False) as fd: \n",
    "            ftrain_scaled = fd.name\n",
    "        result = !$self.bin_dir/svm-scale -s $self.fscale $ftrain > $ftrain_scaled\n",
    "        \n",
    "        if self.debug:\n",
    "            print('cost:', cost)\n",
    "            print('train data file:', ftrain)\n",
    "            print('feature scaled train data file:', ftrain_scaled)\n",
    "        \n",
    "        # train rank svm and generate model file, if the model file exists, rewrite it\n",
    "        #n_cv = 10  # parameter k for k-fold cross-validation, NO model file will be generated in CV mode\n",
    "        #result = !$self.bin_dir/svm-train -c $cost -v $n_cv $ftrain $self.fmodel\n",
    "        result = !$self.bin_dir/$self.bin_train -c $cost $ftrain_scaled $self.fmodel\n",
    "        if self.debug:\n",
    "            print('Training finished.')\n",
    "            for i in range(len(result)): print(result[i])\n",
    "\n",
    "        # remove train data file\n",
    "        os.unlink(ftrain)\n",
    "        os.unlink(ftrain_scaled)        \n",
    "    \n",
    "    \n",
    "    def predict(self, test_df):\n",
    "        # predict ranking scores for the given feature matrix\n",
    "        if self.fmodel is None or not os.path.exists(self.fmodel):\n",
    "            print('Model should be trained before predicting')\n",
    "            return\n",
    "        \n",
    "        # write test data to file\n",
    "        ftest = None\n",
    "        with tempfile.NamedTemporaryFile(mode='w+t', delete=False) as fd: \n",
    "            ftest = fd.name\n",
    "            datastr = gen_data_str(test_df)\n",
    "            fd.write(datastr)\n",
    "                \n",
    "        # feature scaling\n",
    "        ftest_scaled = None\n",
    "        with tempfile.NamedTemporaryFile(delete=False) as fd: \n",
    "            ftest_scaled = fd.name\n",
    "        result = !$self.bin_dir/svm-scale -r $self.fscale $ftest > $ftest_scaled\n",
    "            \n",
    "        # generate prediction file\n",
    "        fpredict = None\n",
    "        with tempfile.NamedTemporaryFile(delete=False) as fd: \n",
    "            fpredict = fd.name\n",
    "            \n",
    "        if self.debug:\n",
    "            print('test data file:', ftest)\n",
    "            print('feature scaled test data file:', ftest_scaled)\n",
    "            print('predict result file:', fpredict)\n",
    "            \n",
    "        # predict using trained model and write prediction to file\n",
    "        result = !$self.bin_dir/$self.bin_predict $ftest_scaled $self.fmodel $fpredict\n",
    "        if self.debug:\n",
    "            print('Predict result: %-30s  %s' % (result[0], result[1]))\n",
    "        \n",
    "        # generate prediction DataFrame from prediction file\n",
    "        poi_rank_df = pd.read_csv(fpredict, header=None)\n",
    "        poi_rank_df.rename(columns={0:'rank'}, inplace=True)\n",
    "        poi_rank_df['poiID'] = test_df['poiID'].astype(np.int)\n",
    "        #poi_rank_df.set_index('poiID', inplace=True) # duplicated 'poiID' when evaluating training data\n",
    "        poi_rank_df['probability'] = softmax(poi_rank_df['rank'])  # softmax\n",
    "        \n",
    "        # remove test file and prediction file\n",
    "        os.unlink(ftest)\n",
    "        os.unlink(ftest_scaled)\n",
    "        os.unlink(fpredict)\n",
    "        \n",
    "        return poi_rank_df"
   ]
  },
  {
   "cell_type": "markdown",
   "metadata": {},
   "source": [
    "Sanity check."
   ]
  },
  {
   "cell_type": "code",
   "execution_count": 35,
   "metadata": {
    "collapsed": false
   },
   "outputs": [],
   "source": [
    "poi_info_ = calc_poi_info(trajid_set_all, traj_all, poi_all)"
   ]
  },
  {
   "cell_type": "code",
   "execution_count": 36,
   "metadata": {
    "collapsed": false
   },
   "outputs": [],
   "source": [
    "train_df_ = gen_train_df(trajid_set_all, df_columns, traj_all, poi_info_, query_id_dict)"
   ]
  },
  {
   "cell_type": "code",
   "execution_count": 37,
   "metadata": {
    "collapsed": false
   },
   "outputs": [],
   "source": [
    "ranksvm_ = RankSVM(ranksvm_dir, useLinear=True)\n",
    "ranksvm_.train(train_df_, cost=1000)"
   ]
  },
  {
   "cell_type": "markdown",
   "metadata": {},
   "source": [
    "Histograms on training set."
   ]
  },
  {
   "cell_type": "code",
   "execution_count": 38,
   "metadata": {
    "collapsed": true
   },
   "outputs": [],
   "source": [
    "rank_train_ = ranksvm_.predict(train_df_)"
   ]
  },
  {
   "cell_type": "code",
   "execution_count": 39,
   "metadata": {
    "collapsed": false
   },
   "outputs": [
    {
     "name": "stdout",
     "output_type": "stream",
     "text": [
      "(1518, 18) (1518, 3)\n"
     ]
    }
   ],
   "source": [
    "print(train_df_.shape, rank_train_.shape)"
   ]
  },
  {
   "cell_type": "code",
   "execution_count": 40,
   "metadata": {
    "collapsed": false
   },
   "outputs": [
    {
     "data": {
      "text/plain": [
       "[0.0, 1.0, 2.0, 3.0]"
      ]
     },
     "execution_count": 40,
     "metadata": {},
     "output_type": "execute_result"
    }
   ],
   "source": [
    "labels = sorted(train_df_['label'].unique())\n",
    "labels"
   ]
  },
  {
   "cell_type": "code",
   "execution_count": 41,
   "metadata": {
    "collapsed": false
   },
   "outputs": [
    {
     "name": "stdout",
     "output_type": "stream",
     "text": [
      "-1.4205 1.51191\n",
      "-2.0 2.0\n"
     ]
    }
   ],
   "source": [
    "rmin_ = rank_train_['rank'].min()\n",
    "rmax_ = rank_train_['rank'].max()\n",
    "print(rmin_, rmax_)\n",
    "rmin1_ = np.round(rmin_); rmin1_ = rmin1_ if rmin1_ < rmin_ else rmin1_ - 1\n",
    "rmax1_ = np.round(rmax_); rmax1_ = rmax1_ if rmax1_ > rmax_ else rmax1_ + 1\n",
    "print(rmin1_, rmax1_)"
   ]
  },
  {
   "cell_type": "code",
   "execution_count": 42,
   "metadata": {
    "collapsed": false
   },
   "outputs": [
    {
     "name": "stdout",
     "output_type": "stream",
     "text": [
      "9.98451772327e-05 0.00187437539187\n",
      "0.0 0.001\n"
     ]
    }
   ],
   "source": [
    "pmin_ = rank_train_['probability'].min()\n",
    "pmax_ = rank_train_['probability'].max()\n",
    "print(pmin_, pmax_)\n",
    "pmin1_ = np.round(pmin_); pmin1_ = pmin1_ if pmin1_ < pmin_ else max(0, pmin1_ - 0.001)\n",
    "pmax1_ = np.round(pmax_); pmax1_ = pmax1_ if pmax1_ > pmax_ else min(1, pmax1_ + 0.001)\n",
    "print(pmin1_, pmax1_)"
   ]
  },
  {
   "cell_type": "code",
   "execution_count": 43,
   "metadata": {
    "collapsed": false
   },
   "outputs": [
    {
     "name": "stdout",
     "output_type": "stream",
     "text": [
      "NOTE: labels of POI in training set is query specific\n"
     ]
    },
    {
     "data": {
      "image/png": "[encoded data removed]",
      "text/plain": [
       "<matplotlib.figure.Figure at 0x7f065aba8668>"
      ]
     },
     "metadata": {},
     "output_type": "display_data"
    }
   ],
   "source": [
    "plt.figure(figsize=[15, 4])\n",
    "ax1 = plt.subplot(1, 3, 1); plt.title('Histogram of Lables (Train)')\n",
    "train_df_['label'].hist(ax=ax1, bins=2*len(labels))\n",
    "ax1.set_yscale('log')\n",
    "\n",
    "ax2 = plt.subplot(1, 3, 2); plt.title('Histogram of Ranking Score (Train)')\n",
    "#hist1, bins1 = np.histogram(rank_train_['rank'], bins=5)\n",
    "bins1_train = np.r_[np.arange(rmin1_, rmax1_, 0.5), rmax1_]  # [-1.5, -1.0, -0.5, 0, 0.5, 1.0, 1.5, 2.0]\n",
    "for l in labels:\n",
    "    ix = train_df_[train_df_['label'] == l].index\n",
    "    rank_train_.loc[ix, 'rank'].hist(ax=ax2, bins=bins1_train, label='Label=%d' % l, alpha=0.7)\n",
    "ax2.set_yscale('log')\n",
    "ax2.set_ylim(ymin=0.1)\n",
    "ax2.set_xlabel('Ranking Score')\n",
    "plt.legend(loc='upper left')\n",
    "\n",
    "ax3 = plt.subplot(1, 3, 3); plt.title('Histogram of Ranking Probability (Train)')\n",
    "#hist2, bins2 = np.histogram(rank_train_['probability'], bins=5)\n",
    "bins2_train = np.r_[np.arange(pmin1_, pmax1_, 0.0001), pmax1_]  # [0.0, 0.05, 0.1, 0.15, 0.2, 0.25, 0.3, 0.35, 0.4, 0.45]\n",
    "for l in labels:\n",
    "    ix = train_df_[train_df_['label'] == l].index\n",
    "    rank_train_.loc[ix, 'probability'].hist(ax=ax3, bins=bins2_train, label='Label=%d' % l, alpha=0.7)\n",
    "ax3.set_yscale('log')\n",
    "ax3.set_ylim(ymin=0.1)\n",
    "ax3.set_xlabel('Ranking Probability')\n",
    "plt.legend(loc='upper right')\n",
    "print('NOTE: labels of POI in training set is query specific')"
   ]
  },
  {
   "cell_type": "markdown",
   "metadata": {},
   "source": [
    "<a id='sec2.5'></a>"
   ]
  },
  {
   "cell_type": "markdown",
   "metadata": {},
   "source": [
    "## 2.5 Recommendation based on POI Ranking"
   ]
  },
  {
   "cell_type": "markdown",
   "metadata": {},
   "source": [
    "Recommend trajectories based on ranking of POIs."
   ]
  },
  {
   "cell_type": "code",
   "execution_count": 44,
   "metadata": {
    "collapsed": false,
    "scrolled": true
   },
   "outputs": [
    {
     "name": "stdout",
     "output_type": "stream",
     "text": [
      "[13, 21, 2] #1 ->\n",
      "           [13, 16, 2]\n",
      "           [13, 16, 2]\n",
      "[2, 21, 16] #2 ->\n",
      "           [2, 21, 16]\n",
      "           [2, 21, 16]\n",
      "[28, 2, 13] #3 ->\n",
      "           [28, 2, 13]\n",
      "           [28, 2, 13]\n",
      "[2, 16, 1, 12, 21, 14] #4 ->\n",
      "           [2, 16, 21, 1, 26, 14]\n",
      "           [2, 21, 16, 12, 20, 14]\n",
      "[9, 10, 15] #5 ->\n",
      "           [9, 2, 15]\n",
      "           [9, 26, 15]\n",
      "[19, 11, 28] #6 ->\n",
      "           [19, 2, 28]\n",
      "           [19, 2, 28]\n",
      "[12, 1, 16, 21, 2] #7 ->\n",
      "           [12, 16, 21, 1, 2]\n",
      "           [12, 21, 16, 20, 2]\n",
      "[28, 11, 16] #8 ->\n",
      "           [28, 2, 16]\n",
      "           [28, 2, 16]\n",
      "[1, 2, 21] #9 ->\n",
      "           [1, 2, 21]\n",
      "           [1, 2, 21]\n",
      "[13, 2, 21, 16] #10 ->\n",
      "           [13, 2, 21, 16]\n",
      "           [13, 2, 21, 16]\n",
      "[9, 26, 2] #11 ->\n",
      "           [9, 16, 2]\n",
      "           [9, 26, 2]\n",
      "[1, 16, 2] #12 ->\n",
      "           [1, 16, 2]\n",
      "           [1, 21, 2]\n",
      "[16, 21, 26] #13 ->\n",
      "           [16, 2, 26]\n",
      "           [16, 2, 26]\n",
      "[17, 26, 27] #14 ->\n",
      "           [17, 2, 27]\n",
      "           [17, 16, 27]\n",
      "[15, 25, 26] #15 ->\n",
      "           [15, 2, 26]\n",
      "           [15, 10, 26]\n",
      "[1, 21, 2] #16 ->\n",
      "           [1, 16, 2]\n",
      "           [1, 21, 2]\n",
      "[26, 19, 2] #17 ->\n",
      "           [26, 16, 2]\n",
      "           [26, 10, 2]\n",
      "[21, 2, 11] #18 ->\n",
      "           [21, 2, 11]\n",
      "           [21, 2, 11]\n",
      "[25, 10, 12] #19 ->\n",
      "           [25, 2, 12]\n",
      "           [25, 2, 12]\n",
      "[11, 12, 26] #20 ->\n",
      "           [11, 2, 26]\n",
      "           [11, 2, 26]\n",
      "[28, 12, 20] #21 ->\n",
      "           [28, 2, 20]\n",
      "           [28, 2, 20]\n",
      "[21, 5, 2] #22 ->\n",
      "           [21, 16, 2]\n",
      "           [21, 16, 2]\n",
      "[2, 16, 1] #23 ->\n",
      "           [2, 16, 1]\n",
      "           [2, 21, 1]\n",
      "[21, 2, 16] #24 ->\n",
      "           [21, 2, 16]\n",
      "           [21, 2, 16]\n",
      "[2, 13, 22] #25 ->\n",
      "           [2, 16, 22]\n",
      "           [2, 21, 22]\n",
      "[1, 16, 2] #26 ->\n",
      "           [1, 16, 2]\n",
      "           [1, 21, 2]\n",
      "[16, 14, 13] #27 ->\n",
      "           [16, 2, 13]\n",
      "           [16, 2, 13]\n",
      "[1, 21, 16, 6] #28 ->\n",
      "           [1, 2, 16, 6]\n",
      "           [1, 21, 16, 6]\n",
      "[13, 20, 28] #29 ->\n",
      "           [13, 2, 28]\n",
      "           [13, 2, 28]\n",
      "[1, 16, 28] #30 ->\n",
      "           [1, 2, 28]\n",
      "           [1, 21, 28]\n",
      "[29, 28, 12] #31 ->\n",
      "           [29, 2, 12]\n",
      "           [29, 2, 12]\n",
      "[15, 10, 26, 25] #32 ->\n",
      "           [15, 2, 16, 25]\n",
      "           [15, 10, 26, 25]\n",
      "[10, 15, 25] #33 ->\n",
      "           [10, 2, 25]\n",
      "           [10, 26, 25]\n",
      "[25, 10, 9, 2] #34 ->\n",
      "           [25, 16, 21, 2]\n",
      "           [25, 10, 16, 2]\n",
      "[15, 10, 19] #35 ->\n",
      "           [15, 2, 19]\n",
      "           [15, 10, 19]\n",
      "[21, 16, 1, 26, 9, 10, 15] #36 ->\n",
      "           [21, 2, 16, 1, 26, 13, 15]\n",
      "           [21, 2, 16, 12, 20, 1, 15]\n",
      "[10, 9, 26] #37 ->\n",
      "           [10, 2, 26]\n",
      "           [10, 15, 26]\n",
      "[26, 13, 20] #38 ->\n",
      "           [26, 2, 20]\n",
      "           [26, 10, 20]\n",
      "[16, 2, 21] #39 ->\n",
      "           [16, 2, 21]\n",
      "           [16, 2, 21]\n",
      "[1, 21, 2] #40 ->\n",
      "           [1, 16, 2]\n",
      "           [1, 21, 2]\n",
      "[26, 10, 9] #41 ->\n",
      "           [26, 2, 9]\n",
      "           [26, 10, 9]\n",
      "[13, 28, 2, 26] #42 ->\n",
      "           [13, 2, 16, 26]\n",
      "           [13, 2, 21, 26]\n",
      "[1, 2, 20] #43 ->\n",
      "           [1, 2, 20]\n",
      "           [1, 21, 20]\n",
      "[2, 20, 26] #44 ->\n",
      "           [2, 16, 26]\n",
      "           [2, 21, 26]\n",
      "[13, 28, 12] #45 ->\n",
      "           [13, 2, 12]\n",
      "           [13, 2, 12]\n",
      "[16, 2, 21] #46 ->\n",
      "           [16, 2, 21]\n",
      "           [16, 2, 21]\n",
      "[9, 10, 15] #47 ->\n",
      "           [9, 2, 15]\n",
      "           [9, 10, 15]\n",
      "[9, 10, 1] #48 ->\n",
      "           [9, 2, 1]\n",
      "           [9, 10, 1]\n",
      "[1, 16, 2, 26, 6] #49 ->\n",
      "           [1, 2, 16, 21, 6]\n",
      "           [1, 21, 16, 2, 6]\n",
      "[10, 15, 11, 16, 21] #50 ->\n",
      "           [10, 2, 16, 1, 21]\n",
      "           [10, 26, 2, 16, 21]\n",
      "[2, 28, 12] #51 ->\n",
      "           [2, 16, 12]\n",
      "           [2, 21, 12]\n",
      "[13, 1, 11] #52 ->\n",
      "           [13, 2, 11]\n",
      "           [13, 2, 11]\n",
      "[19, 25, 26] #53 ->\n",
      "           [19, 2, 26]\n",
      "           [19, 10, 26]\n",
      "[8, 21, 16] #54 ->\n",
      "           [8, 2, 16]\n",
      "           [8, 2, 16]\n",
      "[15, 21, 12] #55 ->\n",
      "           [15, 2, 12]\n",
      "           [15, 10, 12]\n",
      "[20, 16, 2] #56 ->\n",
      "           [20, 16, 2]\n",
      "           [20, 21, 2]\n",
      "[20, 2, 16] #57 ->\n",
      "           [20, 2, 16]\n",
      "           [20, 2, 16]\n",
      "[21, 16, 20, 11] #58 ->\n",
      "           [21, 2, 16, 11]\n",
      "           [21, 2, 16, 11]\n",
      "[11, 20, 10] #59 ->\n",
      "           [11, 2, 10]\n",
      "           [11, 2, 10]\n",
      "[1, 16, 13] #60 ->\n",
      "           [1, 2, 13]\n",
      "           [1, 21, 13]\n",
      "[1, 16, 20] #61 ->\n",
      "           [1, 2, 20]\n",
      "           [1, 21, 20]\n",
      "[21, 16, 12, 20, 2] #62 ->\n",
      "           [21, 16, 1, 26, 2]\n",
      "           [21, 16, 12, 20, 2]\n",
      "[1, 21, 2] #63 ->\n",
      "           [1, 16, 2]\n",
      "           [1, 21, 2]\n",
      "[26, 10, 20] #64 ->\n",
      "           [26, 2, 20]\n",
      "           [26, 10, 20]\n",
      "[13, 2, 28] #65 ->\n",
      "           [13, 2, 28]\n",
      "           [13, 2, 28]\n",
      "[2, 21, 13] #66 ->\n",
      "           [2, 16, 13]\n",
      "           [2, 21, 13]\n",
      "[16, 21, 20] #67 ->\n",
      "           [16, 2, 20]\n",
      "           [16, 2, 20]\n",
      "[10, 12, 2] #68 ->\n",
      "           [10, 16, 2]\n",
      "           [10, 26, 2]\n",
      "[2, 16, 21] #69 ->\n",
      "           [2, 16, 21]\n",
      "           [2, 16, 21]\n",
      "[26, 9, 10, 1, 2] #70 ->\n",
      "           [26, 16, 21, 1, 2]\n",
      "           [26, 10, 16, 9, 2]\n",
      "[16, 20, 29, 1] #71 ->\n",
      "           [16, 2, 21, 1]\n",
      "           [16, 2, 21, 1]\n",
      "[16, 21, 2] #72 ->\n",
      "           [16, 21, 2]\n",
      "           [16, 21, 2]\n",
      "[27, 17, 26] #73 ->\n",
      "           [27, 2, 26]\n",
      "           [27, 17, 26]\n",
      "[26, 11, 28] #74 ->\n",
      "           [26, 2, 28]\n",
      "           [26, 10, 28]\n",
      "[13, 2, 21] #75 ->\n",
      "           [13, 2, 21]\n",
      "           [13, 2, 21]\n"
     ]
    }
   ],
   "source": [
    "if run_rank == True:\n",
    "    recdict_rank = dict()\n",
    "    cost = 1000\n",
    "    cnt = 1\n",
    "    for i in range(len(trajid_set_all)):\n",
    "        tid = trajid_set_all[i]\n",
    "        t = extract_traj(tid, traj_all)\n",
    "        \n",
    "        # trajectory too short\n",
    "        if len(t) < 3: continue\n",
    "            \n",
    "        # TSP, generally an ILP very hard for solvers (GUROBI/CBC)\n",
    "        if t[0] == t[-1]: continue\n",
    "\n",
    "        if uspecific == True:\n",
    "            user = traj_user.loc[tid, 'userID']\n",
    "            trajid_set_user = traj_user[traj_user['userID'] == user].index.tolist()\n",
    "            trajid_set_other = traj_user[traj_user['userID'] != user].index.tolist()\n",
    "            assert(tid in trajid_set_user)\n",
    "            trajid_set_add = [x for x in trajid_set_user if x != tid]\n",
    "            trajid_list_train = trajid_set_other.copy()\n",
    "            assert(KX > 0)\n",
    "            for k in range(KX):\n",
    "                trajid_list_train = trajid_list_train + trajid_set_add\n",
    "        else:\n",
    "            trajid_list_train = trajid_set_all[:i] + trajid_set_all[i+1:]\n",
    "        \n",
    "        trajid_list_train.append(tid)  # make sure the start/end is in training set\n",
    "        poi_info = calc_poi_info(trajid_list_train, traj_all, poi_all)\n",
    "        \n",
    "        # trajectory too long\n",
    "        if len(t) > poi_info.shape[0]: continue\n",
    "            \n",
    "        # start/end is not in training set\n",
    "        #if not (t[0] in poi_info.index and t[-1] in poi_info.index): continue\n",
    "        \n",
    "        print(t, '#%d ->' % cnt); cnt += 1; sys.stdout.flush()\n",
    "\n",
    "        # POI popularity based ranking\n",
    "        poi_info.sort_values(by='popularity', ascending=False, inplace=True)\n",
    "        ranks1 = poi_info.index.tolist()\n",
    "        rec_pop = [t[0]] + [x for x in ranks1 if x not in {t[0], t[-1]}][:len(t)-2] + [t[-1]]\n",
    "\n",
    "        # POI feature based ranking\n",
    "        train_df = gen_train_df(trajid_list_train, df_columns, traj_all, poi_info, query_id_dict)\n",
    "        ranksvm = RankSVM(ranksvm_dir, useLinear=True)\n",
    "        ranksvm.train(train_df, cost=cost)\n",
    "        test_df = gen_test_df(t[0], t[-1], len(t), df_columns, poi_info, query_id_dict)\n",
    "        rank_df = ranksvm.predict(test_df)\n",
    "        rank_df.sort_values(by='rank', ascending=False, inplace=True)\n",
    "        ranks2 = rank_df['poiID'].tolist()\n",
    "        rec_feature = [t[0]] + [x for x in ranks2 if x not in {t[0], t[-1]}][:len(t)-2] + [t[-1]]\n",
    "\n",
    "        recdict_rank[tid] = {'REAL':t, 'REC_POP':rec_pop, 'REC_FEATURE':rec_feature}\n",
    "\n",
    "        print(' '*10, rec_pop)\n",
    "        print(' '*10, rec_feature); sys.stdout.flush()"
   ]
  },
  {
   "cell_type": "code",
   "execution_count": 45,
   "metadata": {
    "collapsed": true
   },
   "outputs": [],
   "source": [
    "if run_rank == True:\n",
    "    pickle.dump(recdict_rank, open(frecdict_rank, 'bw'))"
   ]
  },
  {
   "cell_type": "code",
   "execution_count": 46,
   "metadata": {
    "collapsed": false
   },
   "outputs": [
    {
     "name": "stdout",
     "output_type": "stream",
     "text": [
      "POP    : 0.750, 0.153\n",
      "FEATURE: 0.793, 0.161\n"
     ]
    }
   ],
   "source": [
    "if run_rank == True:\n",
    "    F11_rank = []\n",
    "    F12_rank = []\n",
    "    for key in sorted(recdict_rank.keys()):\n",
    "        F11_rank.append(calc_F1(recdict_rank[key]['REAL'], recdict_rank[key]['REC_POP']))\n",
    "        F12_rank.append(calc_F1(recdict_rank[key]['REAL'], recdict_rank[key]['REC_FEATURE']))\n",
    "    print('POP    : %.3f, %.3f' % (np.mean(F11_rank), np.std(F11_rank)))\n",
    "    print('FEATURE: %.3f, %.3f' % (np.mean(F12_rank), np.std(F12_rank)))"
   ]
  },
  {
   "cell_type": "markdown",
   "metadata": {},
   "source": [
    "<a id='sec3'></a>"
   ]
  },
  {
   "cell_type": "markdown",
   "metadata": {},
   "source": [
    "# 3. Factorise Transition Probabilities in POI Feature Space"
   ]
  },
  {
   "cell_type": "markdown",
   "metadata": {},
   "source": [
    "Estimate a transition matrix for each feature of POI, transition probabilities (matrix) between different POI features (vector) is obtrained by the [Kronecker product](https://en.wikipedia.org/wiki/Kronecker_product) of the individual transition matrix corresponding to each feature."
   ]
  },
  {
   "cell_type": "markdown",
   "metadata": {},
   "source": [
    "<a id='sec3.1'></a>"
   ]
  },
  {
   "cell_type": "markdown",
   "metadata": {},
   "source": [
    "## 3.1 POI Features for Factorisation"
   ]
  },
  {
   "cell_type": "markdown",
   "metadata": {},
   "source": [
    "POI features used to factorise transition matrix of Markov Chain with POI features (vector) as states:\n",
    "- Category of POI\n",
    "- Popularity of POI (discritize with uniform log-scale bins, #bins <=5 )\n",
    "- The number of POI visits (discritize with uniform log-scale bins, #bins <=5 )\n",
    "- The average visit duration of POI (discritise with uniform log-scale bins, #bins <= 5)\n",
    "- The neighborhood relationship between POIs (clustering POI(lat, lon) using k-means, #clusters <= 5)"
   ]
  },
  {
   "cell_type": "markdown",
   "metadata": {},
   "source": [
    "We count the number of transition first, then normalise each row while taking care of zero by adding each cell a small number (i.e. $0.2$ times the minimum value of that row) if there exists a zero cell."
   ]
  },
  {
   "cell_type": "code",
   "execution_count": 47,
   "metadata": {
    "collapsed": true
   },
   "outputs": [],
   "source": [
    "def normalise_transmat(transmat):\n",
    "    assert(isinstance(transmat, pd.DataFrame))\n",
    "    for row in range(transmat.index.shape[0]):\n",
    "        nonzeroidx = np.nonzero(transmat.iloc[row])[0].tolist()    \n",
    "        if len(nonzeroidx) < transmat.columns.shape[0]:\n",
    "            if len(nonzeroidx) == 0:  # all zeros in row\n",
    "                transmat.iloc[row] = 1 / transmat.columns.shape[0]  # uniform distribution\n",
    "            else:\n",
    "                minv = np.min(transmat.iloc[row, nonzeroidx])\n",
    "                EPS = 0.2 * minv  # row-specific smooth factor\n",
    "                #zeroidx = list(set(range(len(transmat.columns))) - set(nonzeroidx))\n",
    "                #transmat.iloc[row, zeroidx] = EPS\n",
    "                transmat.iloc[row] += EPS\n",
    "                rowsum = np.sum(transmat.iloc[row])\n",
    "                assert(rowsum > 0)\n",
    "                transmat.iloc[row] /= rowsum\n",
    "        else:\n",
    "            assert(len(nonzeroidx) == transmat.columns.shape[0])  # all non-zero in row\n",
    "            transmat.iloc[row] /= np.sum(transmat.iloc[row])\n",
    "    return transmat"
   ]
  },
  {
   "cell_type": "markdown",
   "metadata": {},
   "source": [
    "POIs in training set."
   ]
  },
  {
   "cell_type": "code",
   "execution_count": 48,
   "metadata": {
    "collapsed": false
   },
   "outputs": [],
   "source": [
    "poi_train_ = traj_all[traj_all['trajID'].isin(trajid_set_all)]['poiID'].unique().tolist()\n",
    "poi_train_.sort()\n",
    "#poi_train"
   ]
  },
  {
   "cell_type": "markdown",
   "metadata": {},
   "source": [
    "<a id='sec3.2'></a>"
   ]
  },
  {
   "cell_type": "markdown",
   "metadata": {},
   "source": [
    "## 3.2 Transition Matrix between POI Cateogries"
   ]
  },
  {
   "cell_type": "code",
   "execution_count": 49,
   "metadata": {
    "collapsed": false
   },
   "outputs": [
    {
     "data": {
      "text/plain": [
       "['Education',\n",
       " 'Museum',\n",
       " 'Park',\n",
       " 'Religion',\n",
       " 'Shopping',\n",
       " 'Structure',\n",
       " 'Transport']"
      ]
     },
     "execution_count": 49,
     "metadata": {},
     "output_type": "execute_result"
    }
   ],
   "source": [
    "poi_cats = poi_all.loc[poi_train_, 'poiCat'].unique().tolist()\n",
    "poi_cats.sort()\n",
    "poi_cats"
   ]
  },
  {
   "cell_type": "code",
   "execution_count": 50,
   "metadata": {
    "collapsed": true
   },
   "outputs": [],
   "source": [
    "transmat_cat = pd.DataFrame(data=np.zeros((len(poi_cats), len(poi_cats)), dtype=np.float), \\\n",
    "                            columns=poi_cats, index=poi_cats)"
   ]
  },
  {
   "cell_type": "markdown",
   "metadata": {},
   "source": [
    "Count the number of transitions between POI categories."
   ]
  },
  {
   "cell_type": "code",
   "execution_count": 51,
   "metadata": {
    "collapsed": false
   },
   "outputs": [],
   "source": [
    "for tid in trajid_set_all:\n",
    "    t = extract_traj(tid, traj_all)\n",
    "    if len(t) > 1:\n",
    "        for pi in range(len(t)-1):\n",
    "            p1 = t[pi]\n",
    "            p2 = t[pi+1]\n",
    "            cat1 = poi_all.loc[p1, 'poiCat']\n",
    "            cat2 = poi_all.loc[p2, 'poiCat']\n",
    "            transmat_cat.loc[cat1, cat2] += 1"
   ]
  },
  {
   "cell_type": "code",
   "execution_count": 52,
   "metadata": {
    "collapsed": false
   },
   "outputs": [
    {
     "data": {
      "text/html": [
       "<div>\n",
       "<table border=\"1\" class=\"dataframe\">\n",
       "  <thead>\n",
       "    <tr style=\"text-align: right;\">\n",
       "      <th></th>\n",
       "      <th>Education</th>\n",
       "      <th>Museum</th>\n",
       "      <th>Park</th>\n",
       "      <th>Religion</th>\n",
       "      <th>Shopping</th>\n",
       "      <th>Structure</th>\n",
       "      <th>Transport</th>\n",
       "    </tr>\n",
       "  </thead>\n",
       "  <tbody>\n",
       "    <tr>\n",
       "      <th>Education</th>\n",
       "      <td>11</td>\n",
       "      <td>6</td>\n",
       "      <td>0</td>\n",
       "      <td>0</td>\n",
       "      <td>7</td>\n",
       "      <td>7</td>\n",
       "      <td>5</td>\n",
       "    </tr>\n",
       "    <tr>\n",
       "      <th>Museum</th>\n",
       "      <td>8</td>\n",
       "      <td>6</td>\n",
       "      <td>0</td>\n",
       "      <td>3</td>\n",
       "      <td>7</td>\n",
       "      <td>3</td>\n",
       "      <td>11</td>\n",
       "    </tr>\n",
       "    <tr>\n",
       "      <th>Park</th>\n",
       "      <td>0</td>\n",
       "      <td>0</td>\n",
       "      <td>0</td>\n",
       "      <td>0</td>\n",
       "      <td>0</td>\n",
       "      <td>0</td>\n",
       "      <td>0</td>\n",
       "    </tr>\n",
       "    <tr>\n",
       "      <th>Religion</th>\n",
       "      <td>0</td>\n",
       "      <td>1</td>\n",
       "      <td>1</td>\n",
       "      <td>1</td>\n",
       "      <td>0</td>\n",
       "      <td>4</td>\n",
       "      <td>4</td>\n",
       "    </tr>\n",
       "    <tr>\n",
       "      <th>Shopping</th>\n",
       "      <td>4</td>\n",
       "      <td>9</td>\n",
       "      <td>0</td>\n",
       "      <td>2</td>\n",
       "      <td>0</td>\n",
       "      <td>4</td>\n",
       "      <td>10</td>\n",
       "    </tr>\n",
       "    <tr>\n",
       "      <th>Structure</th>\n",
       "      <td>8</td>\n",
       "      <td>3</td>\n",
       "      <td>0</td>\n",
       "      <td>0</td>\n",
       "      <td>1</td>\n",
       "      <td>3</td>\n",
       "      <td>6</td>\n",
       "    </tr>\n",
       "    <tr>\n",
       "      <th>Transport</th>\n",
       "      <td>3</td>\n",
       "      <td>14</td>\n",
       "      <td>0</td>\n",
       "      <td>2</td>\n",
       "      <td>12</td>\n",
       "      <td>4</td>\n",
       "      <td>4</td>\n",
       "    </tr>\n",
       "  </tbody>\n",
       "</table>\n",
       "</div>"
      ],
      "text/plain": [
       "           Education  Museum  Park  Religion  Shopping  Structure  Transport\n",
       "Education         11       6     0         0         7          7          5\n",
       "Museum             8       6     0         3         7          3         11\n",
       "Park               0       0     0         0         0          0          0\n",
       "Religion           0       1     1         1         0          4          4\n",
       "Shopping           4       9     0         2         0          4         10\n",
       "Structure          8       3     0         0         1          3          6\n",
       "Transport          3      14     0         2        12          4          4"
      ]
     },
     "execution_count": 52,
     "metadata": {},
     "output_type": "execute_result"
    }
   ],
   "source": [
    "transmat_cat"
   ]
  },
  {
   "cell_type": "markdown",
   "metadata": {},
   "source": [
    "Normalise each row to obtain transition probabilities."
   ]
  },
  {
   "cell_type": "code",
   "execution_count": 53,
   "metadata": {
    "collapsed": false
   },
   "outputs": [],
   "source": [
    "transmat_cat = normalise_transmat(transmat_cat)"
   ]
  },
  {
   "cell_type": "code",
   "execution_count": 54,
   "metadata": {
    "collapsed": false
   },
   "outputs": [
    {
     "data": {
      "text/html": [
       "<div>\n",
       "<table border=\"1\" class=\"dataframe\">\n",
       "  <thead>\n",
       "    <tr style=\"text-align: right;\">\n",
       "      <th></th>\n",
       "      <th>Education</th>\n",
       "      <th>Museum</th>\n",
       "      <th>Park</th>\n",
       "      <th>Religion</th>\n",
       "      <th>Shopping</th>\n",
       "      <th>Structure</th>\n",
       "      <th>Transport</th>\n",
       "    </tr>\n",
       "  </thead>\n",
       "  <tbody>\n",
       "    <tr>\n",
       "      <th>Education</th>\n",
       "      <td>0.279070</td>\n",
       "      <td>0.162791</td>\n",
       "      <td>0.023256</td>\n",
       "      <td>0.023256</td>\n",
       "      <td>0.186047</td>\n",
       "      <td>0.186047</td>\n",
       "      <td>0.139535</td>\n",
       "    </tr>\n",
       "    <tr>\n",
       "      <th>Museum</th>\n",
       "      <td>0.203791</td>\n",
       "      <td>0.156398</td>\n",
       "      <td>0.014218</td>\n",
       "      <td>0.085308</td>\n",
       "      <td>0.180095</td>\n",
       "      <td>0.085308</td>\n",
       "      <td>0.274882</td>\n",
       "    </tr>\n",
       "    <tr>\n",
       "      <th>Park</th>\n",
       "      <td>0.142857</td>\n",
       "      <td>0.142857</td>\n",
       "      <td>0.142857</td>\n",
       "      <td>0.142857</td>\n",
       "      <td>0.142857</td>\n",
       "      <td>0.142857</td>\n",
       "      <td>0.142857</td>\n",
       "    </tr>\n",
       "    <tr>\n",
       "      <th>Religion</th>\n",
       "      <td>0.016129</td>\n",
       "      <td>0.096774</td>\n",
       "      <td>0.096774</td>\n",
       "      <td>0.096774</td>\n",
       "      <td>0.016129</td>\n",
       "      <td>0.338710</td>\n",
       "      <td>0.338710</td>\n",
       "    </tr>\n",
       "    <tr>\n",
       "      <th>Shopping</th>\n",
       "      <td>0.138365</td>\n",
       "      <td>0.295597</td>\n",
       "      <td>0.012579</td>\n",
       "      <td>0.075472</td>\n",
       "      <td>0.012579</td>\n",
       "      <td>0.138365</td>\n",
       "      <td>0.327044</td>\n",
       "    </tr>\n",
       "    <tr>\n",
       "      <th>Structure</th>\n",
       "      <td>0.366071</td>\n",
       "      <td>0.142857</td>\n",
       "      <td>0.008929</td>\n",
       "      <td>0.008929</td>\n",
       "      <td>0.053571</td>\n",
       "      <td>0.142857</td>\n",
       "      <td>0.276786</td>\n",
       "    </tr>\n",
       "    <tr>\n",
       "      <th>Transport</th>\n",
       "      <td>0.081340</td>\n",
       "      <td>0.344498</td>\n",
       "      <td>0.009569</td>\n",
       "      <td>0.057416</td>\n",
       "      <td>0.296651</td>\n",
       "      <td>0.105263</td>\n",
       "      <td>0.105263</td>\n",
       "    </tr>\n",
       "  </tbody>\n",
       "</table>\n",
       "</div>"
      ],
      "text/plain": [
       "           Education    Museum      Park  Religion  Shopping  Structure  \\\n",
       "Education   0.279070  0.162791  0.023256  0.023256  0.186047   0.186047   \n",
       "Museum      0.203791  0.156398  0.014218  0.085308  0.180095   0.085308   \n",
       "Park        0.142857  0.142857  0.142857  0.142857  0.142857   0.142857   \n",
       "Religion    0.016129  0.096774  0.096774  0.096774  0.016129   0.338710   \n",
       "Shopping    0.138365  0.295597  0.012579  0.075472  0.012579   0.138365   \n",
       "Structure   0.366071  0.142857  0.008929  0.008929  0.053571   0.142857   \n",
       "Transport   0.081340  0.344498  0.009569  0.057416  0.296651   0.105263   \n",
       "\n",
       "           Transport  \n",
       "Education   0.139535  \n",
       "Museum      0.274882  \n",
       "Park        0.142857  \n",
       "Religion    0.338710  \n",
       "Shopping    0.327044  \n",
       "Structure   0.276786  \n",
       "Transport   0.105263  "
      ]
     },
     "execution_count": 54,
     "metadata": {},
     "output_type": "execute_result"
    }
   ],
   "source": [
    "transmat_cat"
   ]
  },
  {
   "cell_type": "markdown",
   "metadata": {},
   "source": [
    "Combine the above steps."
   ]
  },
  {
   "cell_type": "code",
   "execution_count": 55,
   "metadata": {
    "collapsed": true
   },
   "outputs": [],
   "source": [
    "def gen_transmat_cat(trajid_list, traj_all, poi_info, poi_cats=poi_cats):    \n",
    "    transmat_cat = pd.DataFrame(data=np.zeros((len(poi_cats), len(poi_cats)), dtype=np.float), \\\n",
    "                                columns=poi_cats, index=poi_cats)\n",
    "    for tid in trajid_list:\n",
    "        t = extract_traj(tid, traj_all)\n",
    "        if len(t) > 1:\n",
    "            for pi in range(len(t)-1):\n",
    "                p1 = t[pi]\n",
    "                p2 = t[pi+1]\n",
    "                cat1 = poi_info.loc[p1, 'poiCat']\n",
    "                cat2 = poi_info.loc[p2, 'poiCat']\n",
    "                transmat_cat.loc[cat1, cat2] += 1\n",
    "    return normalise_transmat(transmat_cat)"
   ]
  },
  {
   "cell_type": "markdown",
   "metadata": {},
   "source": [
    "<a id='sec3.3'></a>"
   ]
  },
  {
   "cell_type": "markdown",
   "metadata": {},
   "source": [
    "## 3.3 Transition Matrix between POI Popularity Classes"
   ]
  },
  {
   "cell_type": "code",
   "execution_count": 56,
   "metadata": {
    "collapsed": false
   },
   "outputs": [
    {
     "data": {
      "text/plain": [
       "[1, 2, 4, 5, 8, 9, 12, 13, 14, 17, 20, 26, 29, 36]"
      ]
     },
     "execution_count": 56,
     "metadata": {},
     "output_type": "execute_result"
    }
   ],
   "source": [
    "poi_pops = poi_info_.loc[poi_train_, 'popularity']\n",
    "sorted(poi_pops.unique().tolist())"
   ]
  },
  {
   "cell_type": "markdown",
   "metadata": {},
   "source": [
    "Discretize POI popularity with uniform log-scale bins (#bins $\\le 5$)."
   ]
  },
  {
   "cell_type": "code",
   "execution_count": 57,
   "metadata": {
    "collapsed": false
   },
   "outputs": [
    {
     "name": "stdout",
     "output_type": "stream",
     "text": [
      "0.0 1.55630250077\n"
     ]
    }
   ],
   "source": [
    "expo_pop1 = np.log10(max(1, min(poi_pops)))\n",
    "expo_pop2 = np.log10(max(poi_pops))\n",
    "print(expo_pop1, expo_pop2)"
   ]
  },
  {
   "cell_type": "code",
   "execution_count": 58,
   "metadata": {
    "collapsed": false
   },
   "outputs": [
    {
     "data": {
      "text/plain": [
       "array([     0.,     10.,  10000.])"
      ]
     },
     "execution_count": 58,
     "metadata": {},
     "output_type": "execute_result"
    }
   ],
   "source": [
    "nbins_pop = 2\n",
    "logbins_pop = np.logspace(np.floor(expo_pop1), np.ceil(expo_pop2), nbins_pop+1)\n",
    "logbins_pop[0] = 0  # deal with underflow\n",
    "if uspecific == True:\n",
    "    logbins_pop[-1] = KX * logbins_pop[-1]  # deal with overflow\n",
    "logbins_pop"
   ]
  },
  {
   "cell_type": "code",
   "execution_count": 59,
   "metadata": {
    "collapsed": false
   },
   "outputs": [
    {
     "data": {
      "image/png": "[encoded data removed]",
      "text/plain": [
       "<matplotlib.figure.Figure at 0x7f0682b576a0>"
      ]
     },
     "metadata": {},
     "output_type": "display_data"
    }
   ],
   "source": [
    "ax = pd.Series(poi_pops).hist(figsize=(5, 3), bins=logbins_pop)\n",
    "ax.set_xlim(xmin=0.1)\n",
    "ax.set_xscale('log')"
   ]
  },
  {
   "cell_type": "code",
   "execution_count": 60,
   "metadata": {
    "collapsed": false
   },
   "outputs": [],
   "source": [
    "transmat_pop = pd.DataFrame(data=np.zeros((nbins_pop, nbins_pop), dtype=np.float), \\\n",
    "                            columns=np.arange(1, nbins_pop+1), index=np.arange(1, nbins_pop+1))"
   ]
  },
  {
   "cell_type": "markdown",
   "metadata": {},
   "source": [
    "Count the number of transitions between POI popularity classes."
   ]
  },
  {
   "cell_type": "code",
   "execution_count": 61,
   "metadata": {
    "collapsed": true
   },
   "outputs": [],
   "source": [
    "for tid in trajid_set_all:\n",
    "    t = extract_traj(tid, traj_all)\n",
    "    if len(t) > 1:\n",
    "        for pi in range(len(t)-1):\n",
    "            p1 = t[pi]\n",
    "            p2 = t[pi+1]\n",
    "            pop1 = poi_info_.loc[p1, 'popularity']\n",
    "            pop2 = poi_info_.loc[p2, 'popularity']\n",
    "            pc1, pc2 = np.digitize([pop1, pop2], logbins_pop)\n",
    "            transmat_pop.loc[pc1, pc2] += 1"
   ]
  },
  {
   "cell_type": "code",
   "execution_count": 62,
   "metadata": {
    "collapsed": false
   },
   "outputs": [
    {
     "data": {
      "text/html": [
       "<div>\n",
       "<table border=\"1\" class=\"dataframe\">\n",
       "  <thead>\n",
       "    <tr style=\"text-align: right;\">\n",
       "      <th></th>\n",
       "      <th>1</th>\n",
       "      <th>2</th>\n",
       "    </tr>\n",
       "  </thead>\n",
       "  <tbody>\n",
       "    <tr>\n",
       "      <th>1</th>\n",
       "      <td>7</td>\n",
       "      <td>34</td>\n",
       "    </tr>\n",
       "    <tr>\n",
       "      <th>2</th>\n",
       "      <td>35</td>\n",
       "      <td>98</td>\n",
       "    </tr>\n",
       "  </tbody>\n",
       "</table>\n",
       "</div>"
      ],
      "text/plain": [
       "    1   2\n",
       "1   7  34\n",
       "2  35  98"
      ]
     },
     "execution_count": 62,
     "metadata": {},
     "output_type": "execute_result"
    }
   ],
   "source": [
    "transmat_pop"
   ]
  },
  {
   "cell_type": "markdown",
   "metadata": {},
   "source": [
    "Normalise each row to obtain transition probabilities."
   ]
  },
  {
   "cell_type": "code",
   "execution_count": 63,
   "metadata": {
    "collapsed": false
   },
   "outputs": [],
   "source": [
    "transmat_pop = normalise_transmat(transmat_pop)"
   ]
  },
  {
   "cell_type": "code",
   "execution_count": 64,
   "metadata": {
    "collapsed": false
   },
   "outputs": [
    {
     "data": {
      "text/html": [
       "<div>\n",
       "<table border=\"1\" class=\"dataframe\">\n",
       "  <thead>\n",
       "    <tr style=\"text-align: right;\">\n",
       "      <th></th>\n",
       "      <th>1</th>\n",
       "      <th>2</th>\n",
       "    </tr>\n",
       "  </thead>\n",
       "  <tbody>\n",
       "    <tr>\n",
       "      <th>1</th>\n",
       "      <td>0.170732</td>\n",
       "      <td>0.829268</td>\n",
       "    </tr>\n",
       "    <tr>\n",
       "      <th>2</th>\n",
       "      <td>0.263158</td>\n",
       "      <td>0.736842</td>\n",
       "    </tr>\n",
       "  </tbody>\n",
       "</table>\n",
       "</div>"
      ],
      "text/plain": [
       "          1         2\n",
       "1  0.170732  0.829268\n",
       "2  0.263158  0.736842"
      ]
     },
     "execution_count": 64,
     "metadata": {},
     "output_type": "execute_result"
    }
   ],
   "source": [
    "transmat_pop"
   ]
  },
  {
   "cell_type": "markdown",
   "metadata": {},
   "source": [
    "Combine the above steps."
   ]
  },
  {
   "cell_type": "code",
   "execution_count": 65,
   "metadata": {
    "collapsed": true
   },
   "outputs": [],
   "source": [
    "def gen_transmat_pop(trajid_list, traj_all, poi_info, logbins_pop=logbins_pop):\n",
    "    nbins = len(logbins_pop) - 1\n",
    "    transmat_pop = pd.DataFrame(data=np.zeros((nbins, nbins), dtype=np.float), \\\n",
    "                                columns=np.arange(1, nbins+1), index=np.arange(1, nbins+1))\n",
    "    for tid in trajid_list:\n",
    "        t = extract_traj(tid, traj_all)\n",
    "        if len(t) > 1:\n",
    "            for pi in range(len(t)-1):\n",
    "                p1 = t[pi]\n",
    "                p2 = t[pi+1]\n",
    "                pop1 = poi_info.loc[p1, 'popularity']\n",
    "                pop2 = poi_info.loc[p2, 'popularity']\n",
    "                pc1, pc2 = np.digitize([pop1, pop2], logbins_pop)\n",
    "                transmat_pop.loc[pc1, pc2] += 1\n",
    "    return normalise_transmat(transmat_pop), logbins_pop"
   ]
  },
  {
   "cell_type": "markdown",
   "metadata": {},
   "source": [
    "<a id='sec3.4'></a>"
   ]
  },
  {
   "cell_type": "markdown",
   "metadata": {},
   "source": [
    "## 3.4 Transition Matrix between the Number of POI Visit Classes"
   ]
  },
  {
   "cell_type": "code",
   "execution_count": 66,
   "metadata": {
    "collapsed": false
   },
   "outputs": [],
   "source": [
    "poi_visits = poi_info_.loc[poi_train_, 'nVisit']\n",
    "#sorted(poi_visits.unique().tolist())"
   ]
  },
  {
   "cell_type": "markdown",
   "metadata": {},
   "source": [
    "Discretize the number of POI visit with uniform log-scale bins (#bins $\\le 5$)."
   ]
  },
  {
   "cell_type": "code",
   "execution_count": 67,
   "metadata": {
    "collapsed": false
   },
   "outputs": [
    {
     "name": "stdout",
     "output_type": "stream",
     "text": [
      "0.0 1.56820172407\n"
     ]
    }
   ],
   "source": [
    "expo_visit1 = np.log10(max(1, min(poi_visits)))\n",
    "expo_visit2 = np.log10(max(poi_visits))\n",
    "print(expo_visit1, expo_visit2)"
   ]
  },
  {
   "cell_type": "code",
   "execution_count": 68,
   "metadata": {
    "collapsed": false
   },
   "outputs": [
    {
     "data": {
      "text/plain": [
       "array([     0.,     10.,  10000.])"
      ]
     },
     "execution_count": 68,
     "metadata": {},
     "output_type": "execute_result"
    }
   ],
   "source": [
    "nbins_visit = 2\n",
    "logbins_visit = np.logspace(np.floor(expo_visit1), np.ceil(expo_visit2), nbins_visit+1)\n",
    "logbins_visit[0] = 0  # deal with underflow\n",
    "if uspecific == True:\n",
    "    logbins_visit[-1] = KX * logbins_visit[-1]  # deal with overflow\n",
    "logbins_visit"
   ]
  },
  {
   "cell_type": "code",
   "execution_count": 69,
   "metadata": {
    "collapsed": false
   },
   "outputs": [
    {
     "data": {
      "image/png": "[encoded data removed]",
      "text/plain": [
       "<matplotlib.figure.Figure at 0x7f0682de7278>"
      ]
     },
     "metadata": {},
     "output_type": "display_data"
    }
   ],
   "source": [
    "ax = pd.Series(poi_visits).hist(figsize=(5, 3), bins=logbins_visit)\n",
    "ax.set_xlim(xmin=0.1)\n",
    "ax.set_xscale('log')"
   ]
  },
  {
   "cell_type": "code",
   "execution_count": 70,
   "metadata": {
    "collapsed": false
   },
   "outputs": [],
   "source": [
    "transmat_visit = pd.DataFrame(data=np.zeros((nbins_visit, nbins_visit), dtype=np.float), \\\n",
    "                              columns=np.arange(1, nbins_visit+1), index=np.arange(1, nbins_visit+1))"
   ]
  },
  {
   "cell_type": "markdown",
   "metadata": {},
   "source": [
    "Count the number of transitions between POI popularity classes."
   ]
  },
  {
   "cell_type": "code",
   "execution_count": 71,
   "metadata": {
    "collapsed": true
   },
   "outputs": [],
   "source": [
    "for tid in trajid_set_all:\n",
    "    t = extract_traj(tid, traj_all)\n",
    "    if len(t) > 1:\n",
    "        for pi in range(len(t)-1):\n",
    "            p1 = t[pi]\n",
    "            p2 = t[pi+1]\n",
    "            visit1 = poi_info_.loc[p1, 'nVisit']\n",
    "            visit2 = poi_info_.loc[p2, 'nVisit']\n",
    "            vc1, vc2 = np.digitize([visit1, visit2], logbins_visit)\n",
    "            transmat_visit.loc[vc1, vc2] += 1"
   ]
  },
  {
   "cell_type": "code",
   "execution_count": 72,
   "metadata": {
    "collapsed": false
   },
   "outputs": [
    {
     "data": {
      "text/html": [
       "<div>\n",
       "<table border=\"1\" class=\"dataframe\">\n",
       "  <thead>\n",
       "    <tr style=\"text-align: right;\">\n",
       "      <th></th>\n",
       "      <th>1</th>\n",
       "      <th>2</th>\n",
       "    </tr>\n",
       "  </thead>\n",
       "  <tbody>\n",
       "    <tr>\n",
       "      <th>1</th>\n",
       "      <td>6</td>\n",
       "      <td>29</td>\n",
       "    </tr>\n",
       "    <tr>\n",
       "      <th>2</th>\n",
       "      <td>26</td>\n",
       "      <td>113</td>\n",
       "    </tr>\n",
       "  </tbody>\n",
       "</table>\n",
       "</div>"
      ],
      "text/plain": [
       "    1    2\n",
       "1   6   29\n",
       "2  26  113"
      ]
     },
     "execution_count": 72,
     "metadata": {},
     "output_type": "execute_result"
    }
   ],
   "source": [
    "transmat_visit"
   ]
  },
  {
   "cell_type": "markdown",
   "metadata": {},
   "source": [
    "Normalise each row to obtain transition probabilities."
   ]
  },
  {
   "cell_type": "code",
   "execution_count": 73,
   "metadata": {
    "collapsed": false
   },
   "outputs": [],
   "source": [
    "transmat_visit = normalise_transmat(transmat_visit)"
   ]
  },
  {
   "cell_type": "code",
   "execution_count": 74,
   "metadata": {
    "collapsed": false
   },
   "outputs": [
    {
     "data": {
      "text/html": [
       "<div>\n",
       "<table border=\"1\" class=\"dataframe\">\n",
       "  <thead>\n",
       "    <tr style=\"text-align: right;\">\n",
       "      <th></th>\n",
       "      <th>1</th>\n",
       "      <th>2</th>\n",
       "    </tr>\n",
       "  </thead>\n",
       "  <tbody>\n",
       "    <tr>\n",
       "      <th>1</th>\n",
       "      <td>0.171429</td>\n",
       "      <td>0.828571</td>\n",
       "    </tr>\n",
       "    <tr>\n",
       "      <th>2</th>\n",
       "      <td>0.187050</td>\n",
       "      <td>0.812950</td>\n",
       "    </tr>\n",
       "  </tbody>\n",
       "</table>\n",
       "</div>"
      ],
      "text/plain": [
       "          1         2\n",
       "1  0.171429  0.828571\n",
       "2  0.187050  0.812950"
      ]
     },
     "execution_count": 74,
     "metadata": {},
     "output_type": "execute_result"
    }
   ],
   "source": [
    "transmat_visit"
   ]
  },
  {
   "cell_type": "markdown",
   "metadata": {},
   "source": [
    "Combine the above steps."
   ]
  },
  {
   "cell_type": "code",
   "execution_count": 75,
   "metadata": {
    "collapsed": true
   },
   "outputs": [],
   "source": [
    "def gen_transmat_visit(trajid_list, traj_all, poi_info, logbins_visit=logbins_visit):\n",
    "    nbins = len(logbins_visit) - 1\n",
    "    transmat_visit = pd.DataFrame(data=np.zeros((nbins, nbins), dtype=np.float), \\\n",
    "                                  columns=np.arange(1, nbins+1), index=np.arange(1, nbins+1))\n",
    "    for tid in trajid_list:\n",
    "        t = extract_traj(tid, traj_all)\n",
    "        if len(t) > 1:\n",
    "            for pi in range(len(t)-1):\n",
    "                p1 = t[pi]\n",
    "                p2 = t[pi+1]\n",
    "                visit1 = poi_info.loc[p1, 'nVisit']\n",
    "                visit2 = poi_info.loc[p2, 'nVisit']\n",
    "                vc1, vc2 = np.digitize([visit1, visit2], logbins_visit)\n",
    "                transmat_visit.loc[vc1, vc2] += 1\n",
    "    return normalise_transmat(transmat_visit), logbins_visit"
   ]
  },
  {
   "cell_type": "markdown",
   "metadata": {},
   "source": [
    "<a id='sec3.5'></a>"
   ]
  },
  {
   "cell_type": "markdown",
   "metadata": {},
   "source": [
    "## 3.5 Transition Matrix between POI Average Visit Duration Classes"
   ]
  },
  {
   "cell_type": "code",
   "execution_count": 76,
   "metadata": {
    "collapsed": false
   },
   "outputs": [],
   "source": [
    "poi_durations = poi_info_.loc[poi_train_, 'avgDuration']\n",
    "#sorted(poi_durations.unique().tolist())"
   ]
  },
  {
   "cell_type": "markdown",
   "metadata": {},
   "source": [
    "Discretize POI average visit duration with uniform log-scale bins (#bins $\\le 5$)."
   ]
  },
  {
   "cell_type": "code",
   "execution_count": 77,
   "metadata": {
    "collapsed": false
   },
   "outputs": [
    {
     "name": "stdout",
     "output_type": "stream",
     "text": [
      "0.0 3.51541017229\n"
     ]
    }
   ],
   "source": [
    "expo_duration1 = np.log10(max(1, min(poi_durations)))\n",
    "expo_duration2 = np.log10(max(poi_durations))\n",
    "print(expo_duration1, expo_duration2)"
   ]
  },
  {
   "cell_type": "code",
   "execution_count": 78,
   "metadata": {
    "collapsed": false
   },
   "outputs": [
    {
     "data": {
      "text/plain": [
       "array([  0.00000000e+00,   2.15443469e+01,   4.64158883e+02,\n",
       "         1.00000000e+06])"
      ]
     },
     "execution_count": 78,
     "metadata": {},
     "output_type": "execute_result"
    }
   ],
   "source": [
    "nbins_duration = 3\n",
    "logbins_duration = np.logspace(np.floor(expo_duration1), np.ceil(expo_duration2), nbins_duration+1)\n",
    "logbins_duration[0] = 0  # deal with underflow\n",
    "if uspecific == True:\n",
    "    logbins_duration[-1] = KX * logbins_duration[-1]  # deal with overflow\n",
    "logbins_duration"
   ]
  },
  {
   "cell_type": "code",
   "execution_count": 79,
   "metadata": {
    "collapsed": false
   },
   "outputs": [
    {
     "data": {
      "image/png": "[encoded data removed]",
      "text/plain": [
       "<matplotlib.figure.Figure at 0x7f0682c6ee48>"
      ]
     },
     "metadata": {},
     "output_type": "display_data"
    }
   ],
   "source": [
    "ax = pd.Series(poi_durations).hist(figsize=(5, 3), bins=logbins_duration)\n",
    "ax.set_xlim(xmin=0.1)\n",
    "ax.set_xscale('log')"
   ]
  },
  {
   "cell_type": "code",
   "execution_count": 80,
   "metadata": {
    "collapsed": false
   },
   "outputs": [],
   "source": [
    "transmat_duration = pd.DataFrame(data=np.zeros((nbins_duration, nbins_duration), dtype=np.float), \\\n",
    "                                 columns=np.arange(1, nbins_duration+1), index=np.arange(1, nbins_duration+1))"
   ]
  },
  {
   "cell_type": "markdown",
   "metadata": {},
   "source": [
    "Count the number of transitions between POI average visit duration classes."
   ]
  },
  {
   "cell_type": "code",
   "execution_count": 81,
   "metadata": {
    "collapsed": false
   },
   "outputs": [],
   "source": [
    "for tid in trajid_set_all:\n",
    "    t = extract_traj(tid, traj_all)\n",
    "    if len(t) > 1:\n",
    "        for pi in range(len(t)-1):\n",
    "            p1 = t[pi]\n",
    "            p2 = t[pi+1]\n",
    "            d1 = poi_info_.loc[p1, 'avgDuration']\n",
    "            d2 = poi_info_.loc[p2, 'avgDuration']\n",
    "            dc1, dc2 = np.digitize([d1, d2], logbins_duration)\n",
    "            transmat_duration.loc[dc1, dc2] += 1"
   ]
  },
  {
   "cell_type": "code",
   "execution_count": 82,
   "metadata": {
    "collapsed": false
   },
   "outputs": [
    {
     "data": {
      "text/html": [
       "<div>\n",
       "<table border=\"1\" class=\"dataframe\">\n",
       "  <thead>\n",
       "    <tr style=\"text-align: right;\">\n",
       "      <th></th>\n",
       "      <th>1</th>\n",
       "      <th>2</th>\n",
       "      <th>3</th>\n",
       "    </tr>\n",
       "  </thead>\n",
       "  <tbody>\n",
       "    <tr>\n",
       "      <th>1</th>\n",
       "      <td>1</td>\n",
       "      <td>5</td>\n",
       "      <td>9</td>\n",
       "    </tr>\n",
       "    <tr>\n",
       "      <th>2</th>\n",
       "      <td>5</td>\n",
       "      <td>25</td>\n",
       "      <td>41</td>\n",
       "    </tr>\n",
       "    <tr>\n",
       "      <th>3</th>\n",
       "      <td>10</td>\n",
       "      <td>46</td>\n",
       "      <td>32</td>\n",
       "    </tr>\n",
       "  </tbody>\n",
       "</table>\n",
       "</div>"
      ],
      "text/plain": [
       "    1   2   3\n",
       "1   1   5   9\n",
       "2   5  25  41\n",
       "3  10  46  32"
      ]
     },
     "execution_count": 82,
     "metadata": {},
     "output_type": "execute_result"
    }
   ],
   "source": [
    "transmat_duration"
   ]
  },
  {
   "cell_type": "markdown",
   "metadata": {},
   "source": [
    "Normalise each row to obtain transition probabilities."
   ]
  },
  {
   "cell_type": "code",
   "execution_count": 83,
   "metadata": {
    "collapsed": true
   },
   "outputs": [],
   "source": [
    "transmat_duration = normalise_transmat(transmat_duration)"
   ]
  },
  {
   "cell_type": "code",
   "execution_count": 84,
   "metadata": {
    "collapsed": false
   },
   "outputs": [
    {
     "data": {
      "text/html": [
       "<div>\n",
       "<table border=\"1\" class=\"dataframe\">\n",
       "  <thead>\n",
       "    <tr style=\"text-align: right;\">\n",
       "      <th></th>\n",
       "      <th>1</th>\n",
       "      <th>2</th>\n",
       "      <th>3</th>\n",
       "    </tr>\n",
       "  </thead>\n",
       "  <tbody>\n",
       "    <tr>\n",
       "      <th>1</th>\n",
       "      <td>0.066667</td>\n",
       "      <td>0.333333</td>\n",
       "      <td>0.600000</td>\n",
       "    </tr>\n",
       "    <tr>\n",
       "      <th>2</th>\n",
       "      <td>0.070423</td>\n",
       "      <td>0.352113</td>\n",
       "      <td>0.577465</td>\n",
       "    </tr>\n",
       "    <tr>\n",
       "      <th>3</th>\n",
       "      <td>0.113636</td>\n",
       "      <td>0.522727</td>\n",
       "      <td>0.363636</td>\n",
       "    </tr>\n",
       "  </tbody>\n",
       "</table>\n",
       "</div>"
      ],
      "text/plain": [
       "          1         2         3\n",
       "1  0.066667  0.333333  0.600000\n",
       "2  0.070423  0.352113  0.577465\n",
       "3  0.113636  0.522727  0.363636"
      ]
     },
     "execution_count": 84,
     "metadata": {},
     "output_type": "execute_result"
    }
   ],
   "source": [
    "transmat_duration"
   ]
  },
  {
   "cell_type": "markdown",
   "metadata": {},
   "source": [
    "Combine the above steps."
   ]
  },
  {
   "cell_type": "code",
   "execution_count": 85,
   "metadata": {
    "collapsed": true
   },
   "outputs": [],
   "source": [
    "def gen_transmat_duration(trajid_list, traj_all, poi_info, logbins_duration=logbins_duration):\n",
    "    nbins = len(logbins_duration) - 1\n",
    "    transmat_duration = pd.DataFrame(data=np.zeros((nbins, nbins), dtype=np.float), \\\n",
    "                                     columns=np.arange(1, nbins+1), index=np.arange(1, nbins+1))\n",
    "    for tid in trajid_list:\n",
    "        t = extract_traj(tid, traj_all)\n",
    "        if len(t) > 1:\n",
    "            for pi in range(len(t)-1):\n",
    "                p1 = t[pi]\n",
    "                p2 = t[pi+1]\n",
    "                d1 = poi_info.loc[p1, 'avgDuration']\n",
    "                d2 = poi_info.loc[p2, 'avgDuration']\n",
    "                dc1, dc2 = np.digitize([d1, d2], logbins_duration)\n",
    "                transmat_duration.loc[dc1, dc2] += 1\n",
    "    return normalise_transmat(transmat_duration), logbins_duration"
   ]
  },
  {
   "cell_type": "markdown",
   "metadata": {},
   "source": [
    "<a id='sec3.6'></a>"
   ]
  },
  {
   "cell_type": "markdown",
   "metadata": {},
   "source": [
    "## 3.6 Transition Matrix between POI Neighborhood Classes"
   ]
  },
  {
   "cell_type": "markdown",
   "metadata": {},
   "source": [
    "Compute POI neighborhoods, i.e., clustering POI (lat, lon) in training set using k-means, #clusters $\\le 5$."
   ]
  },
  {
   "cell_type": "markdown",
   "metadata": {},
   "source": [
    "KMeans in scikit-learn seems unable to use custom distance metric and no implementation of [Haversine formula](http://en.wikipedia.org/wiki/Great-circle_distance), use Euclidean distance to approximate."
   ]
  },
  {
   "cell_type": "code",
   "execution_count": 86,
   "metadata": {
    "collapsed": false
   },
   "outputs": [],
   "source": [
    "#from sklearn.cluster import KMeans\n",
    "X = poi_all.loc[poi_train_, ['poiLon', 'poiLat']]\n",
    "nclusters = 4"
   ]
  },
  {
   "cell_type": "code",
   "execution_count": 87,
   "metadata": {
    "collapsed": false
   },
   "outputs": [
    {
     "data": {
      "text/plain": [
       "KMeans(copy_x=True, init='k-means++', max_iter=300, n_clusters=4, n_init=10,\n",
       "    n_jobs=1, precompute_distances='auto', random_state=None, tol=0.0001,\n",
       "    verbose=0)"
      ]
     },
     "execution_count": 87,
     "metadata": {},
     "output_type": "execute_result"
    }
   ],
   "source": [
    "kmeans = KMeans(n_clusters=nclusters)\n",
    "kmeans.fit(X)"
   ]
  },
  {
   "cell_type": "code",
   "execution_count": 88,
   "metadata": {
    "collapsed": false
   },
   "outputs": [
    {
     "data": {
      "text/plain": [
       "array([1, 1, 3, 1, 1, 0, 0, 1, 1, 1, 1, 0, 1, 2, 0, 1, 1, 1, 0, 0, 2, 1, 1], dtype=int32)"
      ]
     },
     "execution_count": 88,
     "metadata": {},
     "output_type": "execute_result"
    }
   ],
   "source": [
    "clusters = kmeans.predict(X)\n",
    "clusters"
   ]
  },
  {
   "cell_type": "code",
   "execution_count": 89,
   "metadata": {
    "collapsed": false
   },
   "outputs": [],
   "source": [
    "poi_clusters = pd.DataFrame(data=clusters, index=poi_train_)\n",
    "poi_clusters.index.name = 'poiID'\n",
    "poi_clusters.rename(columns={0:'clusterID'}, inplace=True)\n",
    "#poi_clusters"
   ]
  },
  {
   "cell_type": "code",
   "execution_count": 90,
   "metadata": {
    "collapsed": false
   },
   "outputs": [
    {
     "data": {
      "text/plain": [
       "2.0774414137206629"
      ]
     },
     "execution_count": 90,
     "metadata": {},
     "output_type": "execute_result"
    }
   ],
   "source": [
    "diff = poi_all.loc[poi_train_, ['poiLon', 'poiLat']].max() - poi_all.loc[poi_train_, ['poiLon', 'poiLat']].min()\n",
    "ratio = diff['poiLon'] / diff['poiLat']\n",
    "ratio"
   ]
  },
  {
   "cell_type": "markdown",
   "metadata": {},
   "source": [
    "Scatter plot of POI coordinates with clustering results."
   ]
  },
  {
   "cell_type": "code",
   "execution_count": 91,
   "metadata": {
    "collapsed": false
   },
   "outputs": [
    {
     "data": {
      "text/plain": [
       "<matplotlib.collections.PathCollection at 0x7f0682b5b2b0>"
      ]
     },
     "execution_count": 91,
     "metadata": {},
     "output_type": "execute_result"
    },
    {
     "data": {
      "image/png": "[encoded data removed]",
      "text/plain": [
       "<matplotlib.figure.Figure at 0x7f065ab68a20>"
      ]
     },
     "metadata": {},
     "output_type": "display_data"
    }
   ],
   "source": [
    "height = 4; width = int(round(ratio)*height)\n",
    "plt.figure(figsize=[width, height])\n",
    "plt.scatter(poi_all.loc[poi_train_, 'poiLon'], poi_all.loc[poi_train_, 'poiLat'], c=clusters, s=50)"
   ]
  },
  {
   "cell_type": "code",
   "execution_count": 92,
   "metadata": {
    "collapsed": false
   },
   "outputs": [],
   "source": [
    "transmat_neighbor = pd.DataFrame(data=np.zeros((nclusters, nclusters), dtype=np.float), \\\n",
    "                                 columns=np.arange(nclusters), index=np.arange(nclusters))"
   ]
  },
  {
   "cell_type": "markdown",
   "metadata": {},
   "source": [
    "Count the number of transitions between POIs in different clusters."
   ]
  },
  {
   "cell_type": "code",
   "execution_count": 93,
   "metadata": {
    "collapsed": false
   },
   "outputs": [],
   "source": [
    "for tid in trajid_set_all:\n",
    "    t = extract_traj(tid, traj_all)\n",
    "    if len(t) > 1:\n",
    "        for pi in range(len(t)-1):\n",
    "            p1 = t[pi]\n",
    "            p2 = t[pi+1]\n",
    "            c1 = poi_clusters.loc[p1, 'clusterID']\n",
    "            c2 = poi_clusters.loc[p2, 'clusterID']\n",
    "            transmat_neighbor.loc[c1, c2] += 1"
   ]
  },
  {
   "cell_type": "code",
   "execution_count": 94,
   "metadata": {
    "collapsed": false
   },
   "outputs": [
    {
     "data": {
      "text/html": [
       "<div>\n",
       "<table border=\"1\" class=\"dataframe\">\n",
       "  <thead>\n",
       "    <tr style=\"text-align: right;\">\n",
       "      <th></th>\n",
       "      <th>0</th>\n",
       "      <th>1</th>\n",
       "      <th>2</th>\n",
       "      <th>3</th>\n",
       "    </tr>\n",
       "  </thead>\n",
       "  <tbody>\n",
       "    <tr>\n",
       "      <th>0</th>\n",
       "      <td>32</td>\n",
       "      <td>14</td>\n",
       "      <td>1</td>\n",
       "      <td>0</td>\n",
       "    </tr>\n",
       "    <tr>\n",
       "      <th>1</th>\n",
       "      <td>7</td>\n",
       "      <td>115</td>\n",
       "      <td>0</td>\n",
       "      <td>1</td>\n",
       "    </tr>\n",
       "    <tr>\n",
       "      <th>2</th>\n",
       "      <td>2</td>\n",
       "      <td>0</td>\n",
       "      <td>1</td>\n",
       "      <td>0</td>\n",
       "    </tr>\n",
       "    <tr>\n",
       "      <th>3</th>\n",
       "      <td>0</td>\n",
       "      <td>1</td>\n",
       "      <td>0</td>\n",
       "      <td>0</td>\n",
       "    </tr>\n",
       "  </tbody>\n",
       "</table>\n",
       "</div>"
      ],
      "text/plain": [
       "    0    1  2  3\n",
       "0  32   14  1  0\n",
       "1   7  115  0  1\n",
       "2   2    0  1  0\n",
       "3   0    1  0  0"
      ]
     },
     "execution_count": 94,
     "metadata": {},
     "output_type": "execute_result"
    }
   ],
   "source": [
    "transmat_neighbor"
   ]
  },
  {
   "cell_type": "markdown",
   "metadata": {},
   "source": [
    "Normalise each row to obtain transition probabilities."
   ]
  },
  {
   "cell_type": "code",
   "execution_count": 95,
   "metadata": {
    "collapsed": true
   },
   "outputs": [],
   "source": [
    "transmat_neighbor = normalise_transmat(transmat_neighbor)"
   ]
  },
  {
   "cell_type": "code",
   "execution_count": 96,
   "metadata": {
    "collapsed": false
   },
   "outputs": [
    {
     "data": {
      "text/html": [
       "<div>\n",
       "<table border=\"1\" class=\"dataframe\">\n",
       "  <thead>\n",
       "    <tr style=\"text-align: right;\">\n",
       "      <th></th>\n",
       "      <th>0</th>\n",
       "      <th>1</th>\n",
       "      <th>2</th>\n",
       "      <th>3</th>\n",
       "    </tr>\n",
       "  </thead>\n",
       "  <tbody>\n",
       "    <tr>\n",
       "      <th>0</th>\n",
       "      <td>0.673640</td>\n",
       "      <td>0.297071</td>\n",
       "      <td>0.025105</td>\n",
       "      <td>0.004184</td>\n",
       "    </tr>\n",
       "    <tr>\n",
       "      <th>1</th>\n",
       "      <td>0.058158</td>\n",
       "      <td>0.930533</td>\n",
       "      <td>0.001616</td>\n",
       "      <td>0.009693</td>\n",
       "    </tr>\n",
       "    <tr>\n",
       "      <th>2</th>\n",
       "      <td>0.578947</td>\n",
       "      <td>0.052632</td>\n",
       "      <td>0.315789</td>\n",
       "      <td>0.052632</td>\n",
       "    </tr>\n",
       "    <tr>\n",
       "      <th>3</th>\n",
       "      <td>0.111111</td>\n",
       "      <td>0.666667</td>\n",
       "      <td>0.111111</td>\n",
       "      <td>0.111111</td>\n",
       "    </tr>\n",
       "  </tbody>\n",
       "</table>\n",
       "</div>"
      ],
      "text/plain": [
       "          0         1         2         3\n",
       "0  0.673640  0.297071  0.025105  0.004184\n",
       "1  0.058158  0.930533  0.001616  0.009693\n",
       "2  0.578947  0.052632  0.315789  0.052632\n",
       "3  0.111111  0.666667  0.111111  0.111111"
      ]
     },
     "execution_count": 96,
     "metadata": {},
     "output_type": "execute_result"
    }
   ],
   "source": [
    "transmat_neighbor"
   ]
  },
  {
   "cell_type": "markdown",
   "metadata": {},
   "source": [
    "Combine the above steps."
   ]
  },
  {
   "cell_type": "code",
   "execution_count": 97,
   "metadata": {
    "collapsed": true
   },
   "outputs": [],
   "source": [
    "def gen_transmat_neighbor(trajid_list, traj_all, poi_info, poi_clusters=poi_clusters):\n",
    "    nclusters = len(poi_clusters['clusterID'].unique())\n",
    "    transmat_neighbor = pd.DataFrame(data=np.zeros((nclusters, nclusters), dtype=np.float), \\\n",
    "                                     columns=np.arange(nclusters), index=np.arange(nclusters))\n",
    "    for tid in trajid_list:\n",
    "        t = extract_traj(tid, traj_all)\n",
    "        if len(t) > 1:\n",
    "            for pi in range(len(t)-1):\n",
    "                p1 = t[pi]\n",
    "                p2 = t[pi+1]\n",
    "                c1 = poi_clusters.loc[p1, 'clusterID']\n",
    "                c2 = poi_clusters.loc[p2, 'clusterID']\n",
    "                transmat_neighbor.loc[c1, c2] += 1\n",
    "    return normalise_transmat(transmat_neighbor), poi_clusters"
   ]
  },
  {
   "cell_type": "markdown",
   "metadata": {},
   "source": [
    "<a id='sec3.7'></a>"
   ]
  },
  {
   "cell_type": "markdown",
   "metadata": {},
   "source": [
    "## 3.7 Transition Matrix between POIs"
   ]
  },
  {
   "cell_type": "markdown",
   "metadata": {},
   "source": [
    "Approximate transition probabilities (matrix) between different POI features (vector) using the [Kronecker product](https://en.wikipedia.org/wiki/Kronecker_product) of individual transition matrix corresponding to each feature, i.e., POI category, POI popularity (discritized), POI average visit duration (discritized) and POI neighborhoods (clusters)."
   ]
  },
  {
   "cell_type": "code",
   "execution_count": 98,
   "metadata": {
    "collapsed": false
   },
   "outputs": [],
   "source": [
    "#from scipy.linalg import kron\n",
    "transmat_value = transmat_cat.values\n",
    "for transmat in [transmat_pop, transmat_visit, transmat_duration, transmat_neighbor]:\n",
    "    transmat_value = kron(transmat_value, transmat.values)"
   ]
  },
  {
   "cell_type": "markdown",
   "metadata": {},
   "source": [
    "Index of Kronecker product."
   ]
  },
  {
   "cell_type": "code",
   "execution_count": 99,
   "metadata": {
    "collapsed": true
   },
   "outputs": [],
   "source": [
    "transmat_ix = list(itertools.product(transmat_cat.index, transmat_pop.index, transmat_visit.index, \\\n",
    "                                     transmat_duration.index, transmat_neighbor.index))"
   ]
  },
  {
   "cell_type": "code",
   "execution_count": 100,
   "metadata": {
    "collapsed": false
   },
   "outputs": [],
   "source": [
    "transmat_feature = pd.DataFrame(data=transmat_value, index=transmat_ix, columns=transmat_ix)\n",
    "transmat_feature.index.name = '(poiTheme, popularity, avgDuration, clusterID)'\n",
    "#transmat_feature.head()"
   ]
  },
  {
   "cell_type": "code",
   "execution_count": 101,
   "metadata": {
    "collapsed": false
   },
   "outputs": [
    {
     "name": "stdout",
     "output_type": "stream",
     "text": [
      "(7, 7)\n",
      "(2, 2)\n",
      "(2, 2)\n",
      "(3, 3)\n",
      "(4, 4)\n",
      "(336, 336)\n"
     ]
    }
   ],
   "source": [
    "print(transmat_cat.shape)\n",
    "print(transmat_pop.shape)\n",
    "print(transmat_visit.shape)\n",
    "print(transmat_duration.shape)\n",
    "print(transmat_neighbor.shape)\n",
    "print(transmat_feature.shape)"
   ]
  },
  {
   "cell_type": "code",
   "execution_count": 102,
   "metadata": {
    "collapsed": false
   },
   "outputs": [
    {
     "data": {
      "text/html": [
       "<div>\n",
       "<table border=\"1\" class=\"dataframe\">\n",
       "  <thead>\n",
       "    <tr style=\"text-align: right;\">\n",
       "      <th></th>\n",
       "      <th>(Education, 1, 1, 1, 0)</th>\n",
       "      <th>(Education, 1, 1, 1, 1)</th>\n",
       "      <th>(Education, 1, 1, 1, 2)</th>\n",
       "      <th>(Education, 1, 1, 1, 3)</th>\n",
       "      <th>(Education, 1, 1, 2, 0)</th>\n",
       "      <th>(Education, 1, 1, 2, 1)</th>\n",
       "      <th>(Education, 1, 1, 2, 2)</th>\n",
       "      <th>(Education, 1, 1, 2, 3)</th>\n",
       "      <th>(Education, 1, 1, 3, 0)</th>\n",
       "      <th>(Education, 1, 1, 3, 1)</th>\n",
       "      <th>...</th>\n",
       "      <th>(Transport, 2, 2, 1, 2)</th>\n",
       "      <th>(Transport, 2, 2, 1, 3)</th>\n",
       "      <th>(Transport, 2, 2, 2, 0)</th>\n",
       "      <th>(Transport, 2, 2, 2, 1)</th>\n",
       "      <th>(Transport, 2, 2, 2, 2)</th>\n",
       "      <th>(Transport, 2, 2, 2, 3)</th>\n",
       "      <th>(Transport, 2, 2, 3, 0)</th>\n",
       "      <th>(Transport, 2, 2, 3, 1)</th>\n",
       "      <th>(Transport, 2, 2, 3, 2)</th>\n",
       "      <th>(Transport, 2, 2, 3, 3)</th>\n",
       "    </tr>\n",
       "    <tr>\n",
       "      <th>(poiTheme, popularity, avgDuration, clusterID)</th>\n",
       "      <th></th>\n",
       "      <th></th>\n",
       "      <th></th>\n",
       "      <th></th>\n",
       "      <th></th>\n",
       "      <th></th>\n",
       "      <th></th>\n",
       "      <th></th>\n",
       "      <th></th>\n",
       "      <th></th>\n",
       "      <th></th>\n",
       "      <th></th>\n",
       "      <th></th>\n",
       "      <th></th>\n",
       "      <th></th>\n",
       "      <th></th>\n",
       "      <th></th>\n",
       "      <th></th>\n",
       "      <th></th>\n",
       "      <th></th>\n",
       "      <th></th>\n",
       "    </tr>\n",
       "  </thead>\n",
       "  <tbody>\n",
       "    <tr>\n",
       "      <th>(Education, 1, 1, 1, 0)</th>\n",
       "      <td>0.000367</td>\n",
       "      <td>0.000162</td>\n",
       "      <td>1.367012e-05</td>\n",
       "      <td>0.000002</td>\n",
       "      <td>0.001834</td>\n",
       "      <td>0.000809</td>\n",
       "      <td>0.000068</td>\n",
       "      <td>0.000011</td>\n",
       "      <td>0.003301</td>\n",
       "      <td>0.001456</td>\n",
       "      <td>...</td>\n",
       "      <td>0.000160</td>\n",
       "      <td>0.000027</td>\n",
       "      <td>0.021529</td>\n",
       "      <td>0.009494</td>\n",
       "      <td>0.000802</td>\n",
       "      <td>0.000134</td>\n",
       "      <td>0.038751</td>\n",
       "      <td>0.017089</td>\n",
       "      <td>0.001444</td>\n",
       "      <td>0.000241</td>\n",
       "    </tr>\n",
       "    <tr>\n",
       "      <th>(Education, 1, 1, 1, 1)</th>\n",
       "      <td>0.000032</td>\n",
       "      <td>0.000507</td>\n",
       "      <td>8.796872e-07</td>\n",
       "      <td>0.000005</td>\n",
       "      <td>0.000158</td>\n",
       "      <td>0.002533</td>\n",
       "      <td>0.000004</td>\n",
       "      <td>0.000026</td>\n",
       "      <td>0.000285</td>\n",
       "      <td>0.004560</td>\n",
       "      <td>...</td>\n",
       "      <td>0.000010</td>\n",
       "      <td>0.000062</td>\n",
       "      <td>0.001859</td>\n",
       "      <td>0.029738</td>\n",
       "      <td>0.000052</td>\n",
       "      <td>0.000310</td>\n",
       "      <td>0.003346</td>\n",
       "      <td>0.053529</td>\n",
       "      <td>0.000093</td>\n",
       "      <td>0.000558</td>\n",
       "    </tr>\n",
       "    <tr>\n",
       "      <th>(Education, 1, 1, 1, 2)</th>\n",
       "      <td>0.000315</td>\n",
       "      <td>0.000029</td>\n",
       "      <td>1.719557e-04</td>\n",
       "      <td>0.000029</td>\n",
       "      <td>0.001576</td>\n",
       "      <td>0.000143</td>\n",
       "      <td>0.000860</td>\n",
       "      <td>0.000143</td>\n",
       "      <td>0.002837</td>\n",
       "      <td>0.000258</td>\n",
       "      <td>...</td>\n",
       "      <td>0.002018</td>\n",
       "      <td>0.000336</td>\n",
       "      <td>0.018502</td>\n",
       "      <td>0.001682</td>\n",
       "      <td>0.010092</td>\n",
       "      <td>0.001682</td>\n",
       "      <td>0.033304</td>\n",
       "      <td>0.003028</td>\n",
       "      <td>0.018166</td>\n",
       "      <td>0.003028</td>\n",
       "    </tr>\n",
       "    <tr>\n",
       "      <th>(Education, 1, 1, 1, 3)</th>\n",
       "      <td>0.000061</td>\n",
       "      <td>0.000363</td>\n",
       "      <td>6.050293e-05</td>\n",
       "      <td>0.000061</td>\n",
       "      <td>0.000303</td>\n",
       "      <td>0.001815</td>\n",
       "      <td>0.000303</td>\n",
       "      <td>0.000303</td>\n",
       "      <td>0.000545</td>\n",
       "      <td>0.003267</td>\n",
       "      <td>...</td>\n",
       "      <td>0.000710</td>\n",
       "      <td>0.000710</td>\n",
       "      <td>0.003551</td>\n",
       "      <td>0.021306</td>\n",
       "      <td>0.003551</td>\n",
       "      <td>0.003551</td>\n",
       "      <td>0.006392</td>\n",
       "      <td>0.038350</td>\n",
       "      <td>0.006392</td>\n",
       "      <td>0.006392</td>\n",
       "    </tr>\n",
       "    <tr>\n",
       "      <th>(Education, 1, 1, 2, 0)</th>\n",
       "      <td>0.000387</td>\n",
       "      <td>0.000171</td>\n",
       "      <td>1.444027e-05</td>\n",
       "      <td>0.000002</td>\n",
       "      <td>0.001937</td>\n",
       "      <td>0.000854</td>\n",
       "      <td>0.000072</td>\n",
       "      <td>0.000012</td>\n",
       "      <td>0.003177</td>\n",
       "      <td>0.001401</td>\n",
       "      <td>...</td>\n",
       "      <td>0.000170</td>\n",
       "      <td>0.000028</td>\n",
       "      <td>0.022741</td>\n",
       "      <td>0.010029</td>\n",
       "      <td>0.000848</td>\n",
       "      <td>0.000141</td>\n",
       "      <td>0.037296</td>\n",
       "      <td>0.016447</td>\n",
       "      <td>0.001390</td>\n",
       "      <td>0.000232</td>\n",
       "    </tr>\n",
       "  </tbody>\n",
       "</table>\n",
       "<p>5 rows × 336 columns</p>\n",
       "</div>"
      ],
      "text/plain": [
       "                                                (Education, 1, 1, 1, 0)  \\\n",
       "(poiTheme, popularity, avgDuration, clusterID)                            \n",
       "(Education, 1, 1, 1, 0)                                        0.000367   \n",
       "(Education, 1, 1, 1, 1)                                        0.000032   \n",
       "(Education, 1, 1, 1, 2)                                        0.000315   \n",
       "(Education, 1, 1, 1, 3)                                        0.000061   \n",
       "(Education, 1, 1, 2, 0)                                        0.000387   \n",
       "\n",
       "                                                (Education, 1, 1, 1, 1)  \\\n",
       "(poiTheme, popularity, avgDuration, clusterID)                            \n",
       "(Education, 1, 1, 1, 0)                                        0.000162   \n",
       "(Education, 1, 1, 1, 1)                                        0.000507   \n",
       "(Education, 1, 1, 1, 2)                                        0.000029   \n",
       "(Education, 1, 1, 1, 3)                                        0.000363   \n",
       "(Education, 1, 1, 2, 0)                                        0.000171   \n",
       "\n",
       "                                                (Education, 1, 1, 1, 2)  \\\n",
       "(poiTheme, popularity, avgDuration, clusterID)                            \n",
       "(Education, 1, 1, 1, 0)                                    1.367012e-05   \n",
       "(Education, 1, 1, 1, 1)                                    8.796872e-07   \n",
       "(Education, 1, 1, 1, 2)                                    1.719557e-04   \n",
       "(Education, 1, 1, 1, 3)                                    6.050293e-05   \n",
       "(Education, 1, 1, 2, 0)                                    1.444027e-05   \n",
       "\n",
       "                                                (Education, 1, 1, 1, 3)  \\\n",
       "(poiTheme, popularity, avgDuration, clusterID)                            \n",
       "(Education, 1, 1, 1, 0)                                        0.000002   \n",
       "(Education, 1, 1, 1, 1)                                        0.000005   \n",
       "(Education, 1, 1, 1, 2)                                        0.000029   \n",
       "(Education, 1, 1, 1, 3)                                        0.000061   \n",
       "(Education, 1, 1, 2, 0)                                        0.000002   \n",
       "\n",
       "                                                (Education, 1, 1, 2, 0)  \\\n",
       "(poiTheme, popularity, avgDuration, clusterID)                            \n",
       "(Education, 1, 1, 1, 0)                                        0.001834   \n",
       "(Education, 1, 1, 1, 1)                                        0.000158   \n",
       "(Education, 1, 1, 1, 2)                                        0.001576   \n",
       "(Education, 1, 1, 1, 3)                                        0.000303   \n",
       "(Education, 1, 1, 2, 0)                                        0.001937   \n",
       "\n",
       "                                                (Education, 1, 1, 2, 1)  \\\n",
       "(poiTheme, popularity, avgDuration, clusterID)                            \n",
       "(Education, 1, 1, 1, 0)                                        0.000809   \n",
       "(Education, 1, 1, 1, 1)                                        0.002533   \n",
       "(Education, 1, 1, 1, 2)                                        0.000143   \n",
       "(Education, 1, 1, 1, 3)                                        0.001815   \n",
       "(Education, 1, 1, 2, 0)                                        0.000854   \n",
       "\n",
       "                                                (Education, 1, 1, 2, 2)  \\\n",
       "(poiTheme, popularity, avgDuration, clusterID)                            \n",
       "(Education, 1, 1, 1, 0)                                        0.000068   \n",
       "(Education, 1, 1, 1, 1)                                        0.000004   \n",
       "(Education, 1, 1, 1, 2)                                        0.000860   \n",
       "(Education, 1, 1, 1, 3)                                        0.000303   \n",
       "(Education, 1, 1, 2, 0)                                        0.000072   \n",
       "\n",
       "                                                (Education, 1, 1, 2, 3)  \\\n",
       "(poiTheme, popularity, avgDuration, clusterID)                            \n",
       "(Education, 1, 1, 1, 0)                                        0.000011   \n",
       "(Education, 1, 1, 1, 1)                                        0.000026   \n",
       "(Education, 1, 1, 1, 2)                                        0.000143   \n",
       "(Education, 1, 1, 1, 3)                                        0.000303   \n",
       "(Education, 1, 1, 2, 0)                                        0.000012   \n",
       "\n",
       "                                                (Education, 1, 1, 3, 0)  \\\n",
       "(poiTheme, popularity, avgDuration, clusterID)                            \n",
       "(Education, 1, 1, 1, 0)                                        0.003301   \n",
       "(Education, 1, 1, 1, 1)                                        0.000285   \n",
       "(Education, 1, 1, 1, 2)                                        0.002837   \n",
       "(Education, 1, 1, 1, 3)                                        0.000545   \n",
       "(Education, 1, 1, 2, 0)                                        0.003177   \n",
       "\n",
       "                                                (Education, 1, 1, 3, 1)  \\\n",
       "(poiTheme, popularity, avgDuration, clusterID)                            \n",
       "(Education, 1, 1, 1, 0)                                        0.001456   \n",
       "(Education, 1, 1, 1, 1)                                        0.004560   \n",
       "(Education, 1, 1, 1, 2)                                        0.000258   \n",
       "(Education, 1, 1, 1, 3)                                        0.003267   \n",
       "(Education, 1, 1, 2, 0)                                        0.001401   \n",
       "\n",
       "                                                         ...             \\\n",
       "(poiTheme, popularity, avgDuration, clusterID)           ...              \n",
       "(Education, 1, 1, 1, 0)                                  ...              \n",
       "(Education, 1, 1, 1, 1)                                  ...              \n",
       "(Education, 1, 1, 1, 2)                                  ...              \n",
       "(Education, 1, 1, 1, 3)                                  ...              \n",
       "(Education, 1, 1, 2, 0)                                  ...              \n",
       "\n",
       "                                                (Transport, 2, 2, 1, 2)  \\\n",
       "(poiTheme, popularity, avgDuration, clusterID)                            \n",
       "(Education, 1, 1, 1, 0)                                        0.000160   \n",
       "(Education, 1, 1, 1, 1)                                        0.000010   \n",
       "(Education, 1, 1, 1, 2)                                        0.002018   \n",
       "(Education, 1, 1, 1, 3)                                        0.000710   \n",
       "(Education, 1, 1, 2, 0)                                        0.000170   \n",
       "\n",
       "                                                (Transport, 2, 2, 1, 3)  \\\n",
       "(poiTheme, popularity, avgDuration, clusterID)                            \n",
       "(Education, 1, 1, 1, 0)                                        0.000027   \n",
       "(Education, 1, 1, 1, 1)                                        0.000062   \n",
       "(Education, 1, 1, 1, 2)                                        0.000336   \n",
       "(Education, 1, 1, 1, 3)                                        0.000710   \n",
       "(Education, 1, 1, 2, 0)                                        0.000028   \n",
       "\n",
       "                                                (Transport, 2, 2, 2, 0)  \\\n",
       "(poiTheme, popularity, avgDuration, clusterID)                            \n",
       "(Education, 1, 1, 1, 0)                                        0.021529   \n",
       "(Education, 1, 1, 1, 1)                                        0.001859   \n",
       "(Education, 1, 1, 1, 2)                                        0.018502   \n",
       "(Education, 1, 1, 1, 3)                                        0.003551   \n",
       "(Education, 1, 1, 2, 0)                                        0.022741   \n",
       "\n",
       "                                                (Transport, 2, 2, 2, 1)  \\\n",
       "(poiTheme, popularity, avgDuration, clusterID)                            \n",
       "(Education, 1, 1, 1, 0)                                        0.009494   \n",
       "(Education, 1, 1, 1, 1)                                        0.029738   \n",
       "(Education, 1, 1, 1, 2)                                        0.001682   \n",
       "(Education, 1, 1, 1, 3)                                        0.021306   \n",
       "(Education, 1, 1, 2, 0)                                        0.010029   \n",
       "\n",
       "                                                (Transport, 2, 2, 2, 2)  \\\n",
       "(poiTheme, popularity, avgDuration, clusterID)                            \n",
       "(Education, 1, 1, 1, 0)                                        0.000802   \n",
       "(Education, 1, 1, 1, 1)                                        0.000052   \n",
       "(Education, 1, 1, 1, 2)                                        0.010092   \n",
       "(Education, 1, 1, 1, 3)                                        0.003551   \n",
       "(Education, 1, 1, 2, 0)                                        0.000848   \n",
       "\n",
       "                                                (Transport, 2, 2, 2, 3)  \\\n",
       "(poiTheme, popularity, avgDuration, clusterID)                            \n",
       "(Education, 1, 1, 1, 0)                                        0.000134   \n",
       "(Education, 1, 1, 1, 1)                                        0.000310   \n",
       "(Education, 1, 1, 1, 2)                                        0.001682   \n",
       "(Education, 1, 1, 1, 3)                                        0.003551   \n",
       "(Education, 1, 1, 2, 0)                                        0.000141   \n",
       "\n",
       "                                                (Transport, 2, 2, 3, 0)  \\\n",
       "(poiTheme, popularity, avgDuration, clusterID)                            \n",
       "(Education, 1, 1, 1, 0)                                        0.038751   \n",
       "(Education, 1, 1, 1, 1)                                        0.003346   \n",
       "(Education, 1, 1, 1, 2)                                        0.033304   \n",
       "(Education, 1, 1, 1, 3)                                        0.006392   \n",
       "(Education, 1, 1, 2, 0)                                        0.037296   \n",
       "\n",
       "                                                (Transport, 2, 2, 3, 1)  \\\n",
       "(poiTheme, popularity, avgDuration, clusterID)                            \n",
       "(Education, 1, 1, 1, 0)                                        0.017089   \n",
       "(Education, 1, 1, 1, 1)                                        0.053529   \n",
       "(Education, 1, 1, 1, 2)                                        0.003028   \n",
       "(Education, 1, 1, 1, 3)                                        0.038350   \n",
       "(Education, 1, 1, 2, 0)                                        0.016447   \n",
       "\n",
       "                                                (Transport, 2, 2, 3, 2)  \\\n",
       "(poiTheme, popularity, avgDuration, clusterID)                            \n",
       "(Education, 1, 1, 1, 0)                                        0.001444   \n",
       "(Education, 1, 1, 1, 1)                                        0.000093   \n",
       "(Education, 1, 1, 1, 2)                                        0.018166   \n",
       "(Education, 1, 1, 1, 3)                                        0.006392   \n",
       "(Education, 1, 1, 2, 0)                                        0.001390   \n",
       "\n",
       "                                                (Transport, 2, 2, 3, 3)  \n",
       "(poiTheme, popularity, avgDuration, clusterID)                           \n",
       "(Education, 1, 1, 1, 0)                                        0.000241  \n",
       "(Education, 1, 1, 1, 1)                                        0.000558  \n",
       "(Education, 1, 1, 1, 2)                                        0.003028  \n",
       "(Education, 1, 1, 1, 3)                                        0.006392  \n",
       "(Education, 1, 1, 2, 0)                                        0.000232  \n",
       "\n",
       "[5 rows x 336 columns]"
      ]
     },
     "execution_count": 102,
     "metadata": {},
     "output_type": "execute_result"
    }
   ],
   "source": [
    "transmat_feature.head()"
   ]
  },
  {
   "cell_type": "markdown",
   "metadata": {},
   "source": [
    "The result of [Kronecker product](https://en.wikipedia.org/wiki/Kronecker_product) should be normalised to obtain transition probabilities."
   ]
  },
  {
   "cell_type": "code",
   "execution_count": 103,
   "metadata": {
    "collapsed": false
   },
   "outputs": [
    {
     "data": {
      "text/html": [
       "<div>\n",
       "<table border=\"1\" class=\"dataframe\">\n",
       "  <thead>\n",
       "    <tr style=\"text-align: right;\">\n",
       "      <th></th>\n",
       "      <th>(Education, 1, 1, 1, 0)</th>\n",
       "      <th>(Education, 1, 1, 1, 1)</th>\n",
       "      <th>(Education, 1, 1, 1, 2)</th>\n",
       "      <th>(Education, 1, 1, 1, 3)</th>\n",
       "      <th>(Education, 1, 1, 2, 0)</th>\n",
       "      <th>(Education, 1, 1, 2, 1)</th>\n",
       "      <th>(Education, 1, 1, 2, 2)</th>\n",
       "      <th>(Education, 1, 1, 2, 3)</th>\n",
       "      <th>(Education, 1, 1, 3, 0)</th>\n",
       "      <th>(Education, 1, 1, 3, 1)</th>\n",
       "      <th>...</th>\n",
       "      <th>(Transport, 2, 2, 1, 2)</th>\n",
       "      <th>(Transport, 2, 2, 1, 3)</th>\n",
       "      <th>(Transport, 2, 2, 2, 0)</th>\n",
       "      <th>(Transport, 2, 2, 2, 1)</th>\n",
       "      <th>(Transport, 2, 2, 2, 2)</th>\n",
       "      <th>(Transport, 2, 2, 2, 3)</th>\n",
       "      <th>(Transport, 2, 2, 3, 0)</th>\n",
       "      <th>(Transport, 2, 2, 3, 1)</th>\n",
       "      <th>(Transport, 2, 2, 3, 2)</th>\n",
       "      <th>(Transport, 2, 2, 3, 3)</th>\n",
       "    </tr>\n",
       "    <tr>\n",
       "      <th>(poiTheme, popularity, avgDuration, clusterID)</th>\n",
       "      <th></th>\n",
       "      <th></th>\n",
       "      <th></th>\n",
       "      <th></th>\n",
       "      <th></th>\n",
       "      <th></th>\n",
       "      <th></th>\n",
       "      <th></th>\n",
       "      <th></th>\n",
       "      <th></th>\n",
       "      <th></th>\n",
       "      <th></th>\n",
       "      <th></th>\n",
       "      <th></th>\n",
       "      <th></th>\n",
       "      <th></th>\n",
       "      <th></th>\n",
       "      <th></th>\n",
       "      <th></th>\n",
       "      <th></th>\n",
       "      <th></th>\n",
       "    </tr>\n",
       "  </thead>\n",
       "  <tbody>\n",
       "    <tr>\n",
       "      <th>(Education, 1, 1, 1, 0)</th>\n",
       "      <td>-7.910653</td>\n",
       "      <td>-8.729378</td>\n",
       "      <td>-11.200298</td>\n",
       "      <td>-12.992058</td>\n",
       "      <td>-6.301215</td>\n",
       "      <td>-7.119940</td>\n",
       "      <td>-9.590860</td>\n",
       "      <td>-11.382620</td>\n",
       "      <td>-5.713429</td>\n",
       "      <td>-6.532153</td>\n",
       "      <td>...</td>\n",
       "      <td>-8.737459</td>\n",
       "      <td>-10.529218</td>\n",
       "      <td>-3.838376</td>\n",
       "      <td>-4.657100</td>\n",
       "      <td>-7.128021</td>\n",
       "      <td>-8.919780</td>\n",
       "      <td>-3.250589</td>\n",
       "      <td>-4.069314</td>\n",
       "      <td>-6.540234</td>\n",
       "      <td>-8.331994</td>\n",
       "    </tr>\n",
       "    <tr>\n",
       "      <th>(Education, 1, 1, 1, 1)</th>\n",
       "      <td>-10.360181</td>\n",
       "      <td>-7.587592</td>\n",
       "      <td>-13.943699</td>\n",
       "      <td>-12.151940</td>\n",
       "      <td>-8.750743</td>\n",
       "      <td>-5.978154</td>\n",
       "      <td>-12.334262</td>\n",
       "      <td>-10.542502</td>\n",
       "      <td>-8.162956</td>\n",
       "      <td>-5.390367</td>\n",
       "      <td>...</td>\n",
       "      <td>-11.480860</td>\n",
       "      <td>-9.689100</td>\n",
       "      <td>-6.287903</td>\n",
       "      <td>-3.515314</td>\n",
       "      <td>-9.871422</td>\n",
       "      <td>-8.079663</td>\n",
       "      <td>-5.700116</td>\n",
       "      <td>-2.927528</td>\n",
       "      <td>-9.283635</td>\n",
       "      <td>-7.491876</td>\n",
       "    </tr>\n",
       "    <tr>\n",
       "      <th>(Education, 1, 1, 1, 2)</th>\n",
       "      <td>-8.062138</td>\n",
       "      <td>-10.460033</td>\n",
       "      <td>-8.668274</td>\n",
       "      <td>-10.460033</td>\n",
       "      <td>-6.452700</td>\n",
       "      <td>-8.850595</td>\n",
       "      <td>-7.058836</td>\n",
       "      <td>-8.850595</td>\n",
       "      <td>-5.864913</td>\n",
       "      <td>-8.262809</td>\n",
       "      <td>...</td>\n",
       "      <td>-6.205434</td>\n",
       "      <td>-7.997194</td>\n",
       "      <td>-3.989860</td>\n",
       "      <td>-6.387756</td>\n",
       "      <td>-4.595996</td>\n",
       "      <td>-6.387756</td>\n",
       "      <td>-3.402074</td>\n",
       "      <td>-5.799969</td>\n",
       "      <td>-4.008210</td>\n",
       "      <td>-5.799969</td>\n",
       "    </tr>\n",
       "    <tr>\n",
       "      <th>(Education, 1, 1, 1, 3)</th>\n",
       "      <td>-9.712819</td>\n",
       "      <td>-7.921059</td>\n",
       "      <td>-9.712819</td>\n",
       "      <td>-9.712819</td>\n",
       "      <td>-8.103381</td>\n",
       "      <td>-6.311621</td>\n",
       "      <td>-8.103381</td>\n",
       "      <td>-8.103381</td>\n",
       "      <td>-7.515594</td>\n",
       "      <td>-5.723835</td>\n",
       "      <td>...</td>\n",
       "      <td>-7.249979</td>\n",
       "      <td>-7.249979</td>\n",
       "      <td>-5.640541</td>\n",
       "      <td>-3.848782</td>\n",
       "      <td>-5.640541</td>\n",
       "      <td>-5.640541</td>\n",
       "      <td>-5.052755</td>\n",
       "      <td>-3.260995</td>\n",
       "      <td>-5.052755</td>\n",
       "      <td>-5.052755</td>\n",
       "    </tr>\n",
       "    <tr>\n",
       "      <th>(Education, 1, 1, 2, 0)</th>\n",
       "      <td>-7.855845</td>\n",
       "      <td>-8.674570</td>\n",
       "      <td>-11.145490</td>\n",
       "      <td>-12.937249</td>\n",
       "      <td>-6.246407</td>\n",
       "      <td>-7.065132</td>\n",
       "      <td>-9.536052</td>\n",
       "      <td>-11.327812</td>\n",
       "      <td>-5.751711</td>\n",
       "      <td>-6.570435</td>\n",
       "      <td>...</td>\n",
       "      <td>-8.682650</td>\n",
       "      <td>-10.474410</td>\n",
       "      <td>-3.783568</td>\n",
       "      <td>-4.602292</td>\n",
       "      <td>-7.073213</td>\n",
       "      <td>-8.864972</td>\n",
       "      <td>-3.288871</td>\n",
       "      <td>-4.107596</td>\n",
       "      <td>-6.578516</td>\n",
       "      <td>-8.370276</td>\n",
       "    </tr>\n",
       "  </tbody>\n",
       "</table>\n",
       "<p>5 rows × 336 columns</p>\n",
       "</div>"
      ],
      "text/plain": [
       "                                                (Education, 1, 1, 1, 0)  \\\n",
       "(poiTheme, popularity, avgDuration, clusterID)                            \n",
       "(Education, 1, 1, 1, 0)                                       -7.910653   \n",
       "(Education, 1, 1, 1, 1)                                      -10.360181   \n",
       "(Education, 1, 1, 1, 2)                                       -8.062138   \n",
       "(Education, 1, 1, 1, 3)                                       -9.712819   \n",
       "(Education, 1, 1, 2, 0)                                       -7.855845   \n",
       "\n",
       "                                                (Education, 1, 1, 1, 1)  \\\n",
       "(poiTheme, popularity, avgDuration, clusterID)                            \n",
       "(Education, 1, 1, 1, 0)                                       -8.729378   \n",
       "(Education, 1, 1, 1, 1)                                       -7.587592   \n",
       "(Education, 1, 1, 1, 2)                                      -10.460033   \n",
       "(Education, 1, 1, 1, 3)                                       -7.921059   \n",
       "(Education, 1, 1, 2, 0)                                       -8.674570   \n",
       "\n",
       "                                                (Education, 1, 1, 1, 2)  \\\n",
       "(poiTheme, popularity, avgDuration, clusterID)                            \n",
       "(Education, 1, 1, 1, 0)                                      -11.200298   \n",
       "(Education, 1, 1, 1, 1)                                      -13.943699   \n",
       "(Education, 1, 1, 1, 2)                                       -8.668274   \n",
       "(Education, 1, 1, 1, 3)                                       -9.712819   \n",
       "(Education, 1, 1, 2, 0)                                      -11.145490   \n",
       "\n",
       "                                                (Education, 1, 1, 1, 3)  \\\n",
       "(poiTheme, popularity, avgDuration, clusterID)                            \n",
       "(Education, 1, 1, 1, 0)                                      -12.992058   \n",
       "(Education, 1, 1, 1, 1)                                      -12.151940   \n",
       "(Education, 1, 1, 1, 2)                                      -10.460033   \n",
       "(Education, 1, 1, 1, 3)                                       -9.712819   \n",
       "(Education, 1, 1, 2, 0)                                      -12.937249   \n",
       "\n",
       "                                                (Education, 1, 1, 2, 0)  \\\n",
       "(poiTheme, popularity, avgDuration, clusterID)                            \n",
       "(Education, 1, 1, 1, 0)                                       -6.301215   \n",
       "(Education, 1, 1, 1, 1)                                       -8.750743   \n",
       "(Education, 1, 1, 1, 2)                                       -6.452700   \n",
       "(Education, 1, 1, 1, 3)                                       -8.103381   \n",
       "(Education, 1, 1, 2, 0)                                       -6.246407   \n",
       "\n",
       "                                                (Education, 1, 1, 2, 1)  \\\n",
       "(poiTheme, popularity, avgDuration, clusterID)                            \n",
       "(Education, 1, 1, 1, 0)                                       -7.119940   \n",
       "(Education, 1, 1, 1, 1)                                       -5.978154   \n",
       "(Education, 1, 1, 1, 2)                                       -8.850595   \n",
       "(Education, 1, 1, 1, 3)                                       -6.311621   \n",
       "(Education, 1, 1, 2, 0)                                       -7.065132   \n",
       "\n",
       "                                                (Education, 1, 1, 2, 2)  \\\n",
       "(poiTheme, popularity, avgDuration, clusterID)                            \n",
       "(Education, 1, 1, 1, 0)                                       -9.590860   \n",
       "(Education, 1, 1, 1, 1)                                      -12.334262   \n",
       "(Education, 1, 1, 1, 2)                                       -7.058836   \n",
       "(Education, 1, 1, 1, 3)                                       -8.103381   \n",
       "(Education, 1, 1, 2, 0)                                       -9.536052   \n",
       "\n",
       "                                                (Education, 1, 1, 2, 3)  \\\n",
       "(poiTheme, popularity, avgDuration, clusterID)                            \n",
       "(Education, 1, 1, 1, 0)                                      -11.382620   \n",
       "(Education, 1, 1, 1, 1)                                      -10.542502   \n",
       "(Education, 1, 1, 1, 2)                                       -8.850595   \n",
       "(Education, 1, 1, 1, 3)                                       -8.103381   \n",
       "(Education, 1, 1, 2, 0)                                      -11.327812   \n",
       "\n",
       "                                                (Education, 1, 1, 3, 0)  \\\n",
       "(poiTheme, popularity, avgDuration, clusterID)                            \n",
       "(Education, 1, 1, 1, 0)                                       -5.713429   \n",
       "(Education, 1, 1, 1, 1)                                       -8.162956   \n",
       "(Education, 1, 1, 1, 2)                                       -5.864913   \n",
       "(Education, 1, 1, 1, 3)                                       -7.515594   \n",
       "(Education, 1, 1, 2, 0)                                       -5.751711   \n",
       "\n",
       "                                                (Education, 1, 1, 3, 1)  \\\n",
       "(poiTheme, popularity, avgDuration, clusterID)                            \n",
       "(Education, 1, 1, 1, 0)                                       -6.532153   \n",
       "(Education, 1, 1, 1, 1)                                       -5.390367   \n",
       "(Education, 1, 1, 1, 2)                                       -8.262809   \n",
       "(Education, 1, 1, 1, 3)                                       -5.723835   \n",
       "(Education, 1, 1, 2, 0)                                       -6.570435   \n",
       "\n",
       "                                                         ...             \\\n",
       "(poiTheme, popularity, avgDuration, clusterID)           ...              \n",
       "(Education, 1, 1, 1, 0)                                  ...              \n",
       "(Education, 1, 1, 1, 1)                                  ...              \n",
       "(Education, 1, 1, 1, 2)                                  ...              \n",
       "(Education, 1, 1, 1, 3)                                  ...              \n",
       "(Education, 1, 1, 2, 0)                                  ...              \n",
       "\n",
       "                                                (Transport, 2, 2, 1, 2)  \\\n",
       "(poiTheme, popularity, avgDuration, clusterID)                            \n",
       "(Education, 1, 1, 1, 0)                                       -8.737459   \n",
       "(Education, 1, 1, 1, 1)                                      -11.480860   \n",
       "(Education, 1, 1, 1, 2)                                       -6.205434   \n",
       "(Education, 1, 1, 1, 3)                                       -7.249979   \n",
       "(Education, 1, 1, 2, 0)                                       -8.682650   \n",
       "\n",
       "                                                (Transport, 2, 2, 1, 3)  \\\n",
       "(poiTheme, popularity, avgDuration, clusterID)                            \n",
       "(Education, 1, 1, 1, 0)                                      -10.529218   \n",
       "(Education, 1, 1, 1, 1)                                       -9.689100   \n",
       "(Education, 1, 1, 1, 2)                                       -7.997194   \n",
       "(Education, 1, 1, 1, 3)                                       -7.249979   \n",
       "(Education, 1, 1, 2, 0)                                      -10.474410   \n",
       "\n",
       "                                                (Transport, 2, 2, 2, 0)  \\\n",
       "(poiTheme, popularity, avgDuration, clusterID)                            \n",
       "(Education, 1, 1, 1, 0)                                       -3.838376   \n",
       "(Education, 1, 1, 1, 1)                                       -6.287903   \n",
       "(Education, 1, 1, 1, 2)                                       -3.989860   \n",
       "(Education, 1, 1, 1, 3)                                       -5.640541   \n",
       "(Education, 1, 1, 2, 0)                                       -3.783568   \n",
       "\n",
       "                                                (Transport, 2, 2, 2, 1)  \\\n",
       "(poiTheme, popularity, avgDuration, clusterID)                            \n",
       "(Education, 1, 1, 1, 0)                                       -4.657100   \n",
       "(Education, 1, 1, 1, 1)                                       -3.515314   \n",
       "(Education, 1, 1, 1, 2)                                       -6.387756   \n",
       "(Education, 1, 1, 1, 3)                                       -3.848782   \n",
       "(Education, 1, 1, 2, 0)                                       -4.602292   \n",
       "\n",
       "                                                (Transport, 2, 2, 2, 2)  \\\n",
       "(poiTheme, popularity, avgDuration, clusterID)                            \n",
       "(Education, 1, 1, 1, 0)                                       -7.128021   \n",
       "(Education, 1, 1, 1, 1)                                       -9.871422   \n",
       "(Education, 1, 1, 1, 2)                                       -4.595996   \n",
       "(Education, 1, 1, 1, 3)                                       -5.640541   \n",
       "(Education, 1, 1, 2, 0)                                       -7.073213   \n",
       "\n",
       "                                                (Transport, 2, 2, 2, 3)  \\\n",
       "(poiTheme, popularity, avgDuration, clusterID)                            \n",
       "(Education, 1, 1, 1, 0)                                       -8.919780   \n",
       "(Education, 1, 1, 1, 1)                                       -8.079663   \n",
       "(Education, 1, 1, 1, 2)                                       -6.387756   \n",
       "(Education, 1, 1, 1, 3)                                       -5.640541   \n",
       "(Education, 1, 1, 2, 0)                                       -8.864972   \n",
       "\n",
       "                                                (Transport, 2, 2, 3, 0)  \\\n",
       "(poiTheme, popularity, avgDuration, clusterID)                            \n",
       "(Education, 1, 1, 1, 0)                                       -3.250589   \n",
       "(Education, 1, 1, 1, 1)                                       -5.700116   \n",
       "(Education, 1, 1, 1, 2)                                       -3.402074   \n",
       "(Education, 1, 1, 1, 3)                                       -5.052755   \n",
       "(Education, 1, 1, 2, 0)                                       -3.288871   \n",
       "\n",
       "                                                (Transport, 2, 2, 3, 1)  \\\n",
       "(poiTheme, popularity, avgDuration, clusterID)                            \n",
       "(Education, 1, 1, 1, 0)                                       -4.069314   \n",
       "(Education, 1, 1, 1, 1)                                       -2.927528   \n",
       "(Education, 1, 1, 1, 2)                                       -5.799969   \n",
       "(Education, 1, 1, 1, 3)                                       -3.260995   \n",
       "(Education, 1, 1, 2, 0)                                       -4.107596   \n",
       "\n",
       "                                                (Transport, 2, 2, 3, 2)  \\\n",
       "(poiTheme, popularity, avgDuration, clusterID)                            \n",
       "(Education, 1, 1, 1, 0)                                       -6.540234   \n",
       "(Education, 1, 1, 1, 1)                                       -9.283635   \n",
       "(Education, 1, 1, 1, 2)                                       -4.008210   \n",
       "(Education, 1, 1, 1, 3)                                       -5.052755   \n",
       "(Education, 1, 1, 2, 0)                                       -6.578516   \n",
       "\n",
       "                                                (Transport, 2, 2, 3, 3)  \n",
       "(poiTheme, popularity, avgDuration, clusterID)                           \n",
       "(Education, 1, 1, 1, 0)                                       -8.331994  \n",
       "(Education, 1, 1, 1, 1)                                       -7.491876  \n",
       "(Education, 1, 1, 1, 2)                                       -5.799969  \n",
       "(Education, 1, 1, 1, 3)                                       -5.052755  \n",
       "(Education, 1, 1, 2, 0)                                       -8.370276  \n",
       "\n",
       "[5 rows x 336 columns]"
      ]
     },
     "execution_count": 103,
     "metadata": {},
     "output_type": "execute_result"
    }
   ],
   "source": [
    "#from scipy.misc import logsumexp\n",
    "logtransmat_feature = np.log(transmat_feature)\n",
    "for row in range(logtransmat_feature.shape[0]):\n",
    "    logtransmat_feature.iloc[row] -= logsumexp(logtransmat_feature.iloc[row])\n",
    "logtransmat_feature.head()"
   ]
  },
  {
   "cell_type": "code",
   "execution_count": 104,
   "metadata": {
    "collapsed": false
   },
   "outputs": [
    {
     "data": {
      "text/plain": [
       "(Education, 2, 2, 3, 1)   -1.963014\n",
       "(Museum, 2, 2, 3, 1)      -2.023755\n",
       "(Structure, 2, 2, 3, 1)   -2.040699\n",
       "(Transport, 2, 2, 3, 1)   -2.040699\n",
       "(Education, 2, 2, 2, 1)   -2.100884\n",
       "(Museum, 2, 2, 2, 1)      -2.161625\n",
       "(Shopping, 2, 2, 3, 1)    -2.173287\n",
       "(Structure, 2, 2, 2, 1)   -2.178569\n",
       "(Transport, 2, 2, 2, 1)   -2.178569\n",
       "(Education, 2, 2, 3, 0)   -2.286075\n",
       "dtype: float64"
      ]
     },
     "execution_count": 104,
     "metadata": {},
     "output_type": "execute_result"
    }
   ],
   "source": [
    "logtransmat_feature.max().sort_values(ascending=False).head(10)"
   ]
  },
  {
   "cell_type": "code",
   "execution_count": 105,
   "metadata": {
    "collapsed": false
   },
   "outputs": [
    {
     "data": {
      "text/plain": [
       "<matplotlib.axes._subplots.AxesSubplot at 0x7f065ac667f0>"
      ]
     },
     "execution_count": 105,
     "metadata": {},
     "output_type": "execute_result"
    },
    {
     "data": {
      "image/png": "[encoded data removed]",
      "text/plain": [
       "<matplotlib.figure.Figure at 0x7f065abb13c8>"
      ]
     },
     "metadata": {},
     "output_type": "display_data"
    }
   ],
   "source": [
    "plt.figure(figsize=[13, 10])\n",
    "sns.heatmap(np.exp(logtransmat_feature), xticklabels=False, yticklabels=False)"
   ]
  },
  {
   "cell_type": "markdown",
   "metadata": {},
   "source": [
    "Deal with features without corresponding POIs and feature with more than one corresponding POIs. (*Before Normalisation*)\n",
    "- For features without corresponding POIs, just remove the rows and columns from the matrix obtained by Kronecker product.\n",
    "- For different POIs with the exact same feature, \n",
    "  - Let POIs with the same feature as a POI group,\n",
    "  - The *incoming* **transition value (i.e., unnormalised transition probability)** of this POI group \n",
    "    should be divided uniformly among the group members, \n",
    "    *which corresponds to choose a group member uniformly at random in the incoming case*.\n",
    "  - The *outgoing* transition value should be duplicated (i.e., the same) among all group members, \n",
    "    **as we were already in that group in the outgoing case**.\n",
    "  - For each POI in the group, the allocation transition value of the *self-loop of the POI group* is similar to \n",
    "    that in the *outgoing* case, **as we were already in that group**, so just duplicate and then divide uniformly among \n",
    "    the transitions from this POI to other POIs in the same group, \n",
    "    *which corresponds to choose a outgoing transition uniformly at random from all outgoing transitions\n",
    "    excluding the self-loop of this POI*.\n",
    "- **Concretely**, for a POI group with $n$ POIs, \n",
    "    1. If the *incoming* transition value of POI group is $m_1$,\n",
    "       then the corresponding *incoming* transition value for each group member is $\\frac{m_1}{n}$.\n",
    "    1. If the *outgoing* transition value of POI group is $m_2$,\n",
    "       then the corresponding *outgoing* transition value for each group member is also $m_2$.\n",
    "    1. If the transition value of *self-loop of the POI group* is $m_3$,\n",
    "       then transition value of *self-loop of individual POIs* should be $0$,  \n",
    "       and *other in-group transitions* with value $\\frac{m_3}{n-1}$\n",
    "       as the total number of outgoing transitions to other POIs in the same group is $n-1$ (excluding the self-loop),\n",
    "       i.e. $n-1$ choose $1$.\n",
    "       \n",
    "**NOTE**: execute the above division before or after row normalisation will lead to the same result, *as the division itself does NOT change the normalising constant of each row (i.e., the sum of each row before normalising)*."
   ]
  },
  {
   "cell_type": "code",
   "execution_count": 106,
   "metadata": {
    "collapsed": true
   },
   "outputs": [],
   "source": [
    "feature_names = ['poiCat', 'popularity', 'nVisit', 'avgDuration', 'clusterID']\n",
    "poi_features = pd.DataFrame(data=np.zeros((len(poi_train_), len(feature_names))), \\\n",
    "                            columns=feature_names, index=poi_train_)\n",
    "poi_features.index.name = 'poiID'"
   ]
  },
  {
   "cell_type": "code",
   "execution_count": 107,
   "metadata": {
    "collapsed": true
   },
   "outputs": [],
   "source": [
    "poi_features['poiCat'] = poi_info_.loc[poi_train_, 'poiCat']\n",
    "poi_features['popularity'] = np.digitize(poi_info_.loc[poi_train_, 'popularity'], logbins_pop)\n",
    "poi_features['nVisit'] = np.digitize(poi_info_.loc[poi_train_, 'nVisit'], logbins_visit)\n",
    "poi_features['avgDuration'] = np.digitize(poi_info_.loc[poi_train_, 'avgDuration'], logbins_duration)\n",
    "poi_features['clusterID'] = poi_clusters.loc[poi_train_, 'clusterID']"
   ]
  },
  {
   "cell_type": "code",
   "execution_count": 108,
   "metadata": {
    "collapsed": false
   },
   "outputs": [
    {
     "data": {
      "text/html": [
       "<div>\n",
       "<table border=\"1\" class=\"dataframe\">\n",
       "  <thead>\n",
       "    <tr style=\"text-align: right;\">\n",
       "      <th></th>\n",
       "      <th>(Education, 1, 1, 1, 1)</th>\n",
       "    </tr>\n",
       "    <tr>\n",
       "      <th>(poiTheme, popularity, avgDuration, clusterID)</th>\n",
       "      <th></th>\n",
       "    </tr>\n",
       "  </thead>\n",
       "  <tbody>\n",
       "    <tr>\n",
       "      <th>(Education, 1, 1, 1, 0)</th>\n",
       "      <td>0.000162</td>\n",
       "    </tr>\n",
       "  </tbody>\n",
       "</table>\n",
       "</div>"
      ],
      "text/plain": [
       "                                                (Education, 1, 1, 1, 1)\n",
       "(poiTheme, popularity, avgDuration, clusterID)                         \n",
       "(Education, 1, 1, 1, 0)                                        0.000162"
      ]
     },
     "execution_count": 108,
     "metadata": {},
     "output_type": "execute_result"
    }
   ],
   "source": [
    "ix = transmat_feature.index[0]; ix1 = transmat_feature.index[1]\n",
    "# simply use df.loc[tuple,:] will trigger an error as pandas treat the tuple as multiindex\n",
    "# see https://github.com/pydata/pandas/issues/7548\n",
    "#transmat_feature.loc[(ix,),]   # OK\n",
    "#transmat_feature.loc[(ix,),:]  # OK\n",
    "transmat_feature.loc[(ix,), (ix1,)] "
   ]
  },
  {
   "cell_type": "code",
   "execution_count": 109,
   "metadata": {
    "collapsed": true
   },
   "outputs": [],
   "source": [
    "poi_logtransmat = pd.DataFrame(data=np.zeros((len(poi_train_), len(poi_train_)), dtype=np.float), \\\n",
    "                               columns=poi_train_, index=poi_train_)"
   ]
  },
  {
   "cell_type": "markdown",
   "metadata": {},
   "source": [
    "Copy transition values between features with corresponding POIs."
   ]
  },
  {
   "cell_type": "code",
   "execution_count": 110,
   "metadata": {
    "collapsed": false
   },
   "outputs": [],
   "source": [
    "for p1 in poi_logtransmat.index:\n",
    "    rix = tuple(poi_features.loc[p1])\n",
    "    for p2 in poi_logtransmat.columns:\n",
    "        cix = tuple(poi_features.loc[p2])\n",
    "        value_ = transmat_feature.loc[(rix,), (cix,)]\n",
    "        #print(value_.values)\n",
    "        poi_logtransmat.loc[p1, p2] = value_.values[0, 0]"
   ]
  },
  {
   "cell_type": "code",
   "execution_count": 111,
   "metadata": {
    "collapsed": false
   },
   "outputs": [
    {
     "data": {
      "text/html": [
       "<div>\n",
       "<table border=\"1\" class=\"dataframe\">\n",
       "  <thead>\n",
       "    <tr style=\"text-align: right;\">\n",
       "      <th></th>\n",
       "      <th>1</th>\n",
       "      <th>2</th>\n",
       "      <th>5</th>\n",
       "      <th>6</th>\n",
       "      <th>8</th>\n",
       "      <th>9</th>\n",
       "      <th>10</th>\n",
       "      <th>11</th>\n",
       "      <th>12</th>\n",
       "      <th>13</th>\n",
       "      <th>...</th>\n",
       "      <th>17</th>\n",
       "      <th>19</th>\n",
       "      <th>20</th>\n",
       "      <th>21</th>\n",
       "      <th>22</th>\n",
       "      <th>25</th>\n",
       "      <th>26</th>\n",
       "      <th>27</th>\n",
       "      <th>28</th>\n",
       "      <th>29</th>\n",
       "    </tr>\n",
       "  </thead>\n",
       "  <tbody>\n",
       "    <tr>\n",
       "      <th>1</th>\n",
       "      <td>0.021336</td>\n",
       "      <td>0.021336</td>\n",
       "      <td>0.000006</td>\n",
       "      <td>0.000548</td>\n",
       "      <td>0.001355</td>\n",
       "      <td>0.000122</td>\n",
       "      <td>0.001030</td>\n",
       "      <td>0.001355</td>\n",
       "      <td>0.008464</td>\n",
       "      <td>0.011638</td>\n",
       "      <td>...</td>\n",
       "      <td>3.113063e-06</td>\n",
       "      <td>0.000034</td>\n",
       "      <td>0.030671</td>\n",
       "      <td>0.100376</td>\n",
       "      <td>0.000159</td>\n",
       "      <td>0.000516</td>\n",
       "      <td>0.004364</td>\n",
       "      <td>0.000003</td>\n",
       "      <td>0.006668</td>\n",
       "      <td>0.000548</td>\n",
       "    </tr>\n",
       "    <tr>\n",
       "      <th>2</th>\n",
       "      <td>0.021336</td>\n",
       "      <td>0.021336</td>\n",
       "      <td>0.000006</td>\n",
       "      <td>0.000548</td>\n",
       "      <td>0.001355</td>\n",
       "      <td>0.000122</td>\n",
       "      <td>0.001030</td>\n",
       "      <td>0.001355</td>\n",
       "      <td>0.008464</td>\n",
       "      <td>0.011638</td>\n",
       "      <td>...</td>\n",
       "      <td>3.113063e-06</td>\n",
       "      <td>0.000034</td>\n",
       "      <td>0.030671</td>\n",
       "      <td>0.100376</td>\n",
       "      <td>0.000159</td>\n",
       "      <td>0.000516</td>\n",
       "      <td>0.004364</td>\n",
       "      <td>0.000003</td>\n",
       "      <td>0.006668</td>\n",
       "      <td>0.000548</td>\n",
       "    </tr>\n",
       "    <tr>\n",
       "      <th>5</th>\n",
       "      <td>0.028931</td>\n",
       "      <td>0.028931</td>\n",
       "      <td>0.000023</td>\n",
       "      <td>0.000137</td>\n",
       "      <td>0.000952</td>\n",
       "      <td>0.000088</td>\n",
       "      <td>0.003726</td>\n",
       "      <td>0.000952</td>\n",
       "      <td>0.002557</td>\n",
       "      <td>0.015780</td>\n",
       "      <td>...</td>\n",
       "      <td>7.468783e-05</td>\n",
       "      <td>0.000023</td>\n",
       "      <td>0.016073</td>\n",
       "      <td>0.052602</td>\n",
       "      <td>0.000112</td>\n",
       "      <td>0.000373</td>\n",
       "      <td>0.015780</td>\n",
       "      <td>0.000205</td>\n",
       "      <td>0.003215</td>\n",
       "      <td>0.000137</td>\n",
       "    </tr>\n",
       "    <tr>\n",
       "      <th>6</th>\n",
       "      <td>0.040382</td>\n",
       "      <td>0.040382</td>\n",
       "      <td>0.000002</td>\n",
       "      <td>0.000191</td>\n",
       "      <td>0.001329</td>\n",
       "      <td>0.000046</td>\n",
       "      <td>0.001950</td>\n",
       "      <td>0.001329</td>\n",
       "      <td>0.003569</td>\n",
       "      <td>0.022026</td>\n",
       "      <td>...</td>\n",
       "      <td>1.085930e-06</td>\n",
       "      <td>0.000012</td>\n",
       "      <td>0.022434</td>\n",
       "      <td>0.073421</td>\n",
       "      <td>0.000156</td>\n",
       "      <td>0.000195</td>\n",
       "      <td>0.008260</td>\n",
       "      <td>0.000003</td>\n",
       "      <td>0.004487</td>\n",
       "      <td>0.000191</td>\n",
       "    </tr>\n",
       "    <tr>\n",
       "      <th>8</th>\n",
       "      <td>0.032442</td>\n",
       "      <td>0.032442</td>\n",
       "      <td>0.000004</td>\n",
       "      <td>0.000432</td>\n",
       "      <td>0.002764</td>\n",
       "      <td>0.000248</td>\n",
       "      <td>0.004055</td>\n",
       "      <td>0.002764</td>\n",
       "      <td>0.019203</td>\n",
       "      <td>0.005407</td>\n",
       "      <td>...</td>\n",
       "      <td>8.746890e-07</td>\n",
       "      <td>0.000036</td>\n",
       "      <td>0.062180</td>\n",
       "      <td>0.054408</td>\n",
       "      <td>0.000230</td>\n",
       "      <td>0.000145</td>\n",
       "      <td>0.002366</td>\n",
       "      <td>0.000003</td>\n",
       "      <td>0.013517</td>\n",
       "      <td>0.000576</td>\n",
       "    </tr>\n",
       "    <tr>\n",
       "      <th>9</th>\n",
       "      <td>0.016447</td>\n",
       "      <td>0.016447</td>\n",
       "      <td>0.000001</td>\n",
       "      <td>0.000085</td>\n",
       "      <td>0.001401</td>\n",
       "      <td>0.001937</td>\n",
       "      <td>0.074592</td>\n",
       "      <td>0.001401</td>\n",
       "      <td>0.004130</td>\n",
       "      <td>0.002741</td>\n",
       "      <td>...</td>\n",
       "      <td>8.423488e-06</td>\n",
       "      <td>0.000258</td>\n",
       "      <td>0.013372</td>\n",
       "      <td>0.011700</td>\n",
       "      <td>0.000117</td>\n",
       "      <td>0.001130</td>\n",
       "      <td>0.043512</td>\n",
       "      <td>0.000079</td>\n",
       "      <td>0.002674</td>\n",
       "      <td>0.000114</td>\n",
       "    </tr>\n",
       "    <tr>\n",
       "      <th>10</th>\n",
       "      <td>0.009029</td>\n",
       "      <td>0.009029</td>\n",
       "      <td>0.000003</td>\n",
       "      <td>0.000232</td>\n",
       "      <td>0.001484</td>\n",
       "      <td>0.004837</td>\n",
       "      <td>0.040949</td>\n",
       "      <td>0.001484</td>\n",
       "      <td>0.009271</td>\n",
       "      <td>0.001505</td>\n",
       "      <td>...</td>\n",
       "      <td>2.285995e-05</td>\n",
       "      <td>0.000701</td>\n",
       "      <td>0.017306</td>\n",
       "      <td>0.015143</td>\n",
       "      <td>0.000124</td>\n",
       "      <td>0.002822</td>\n",
       "      <td>0.023887</td>\n",
       "      <td>0.000084</td>\n",
       "      <td>0.003762</td>\n",
       "      <td>0.000309</td>\n",
       "    </tr>\n",
       "    <tr>\n",
       "      <th>11</th>\n",
       "      <td>0.032442</td>\n",
       "      <td>0.032442</td>\n",
       "      <td>0.000004</td>\n",
       "      <td>0.000432</td>\n",
       "      <td>0.002764</td>\n",
       "      <td>0.000248</td>\n",
       "      <td>0.004055</td>\n",
       "      <td>0.002764</td>\n",
       "      <td>0.019203</td>\n",
       "      <td>0.005407</td>\n",
       "      <td>...</td>\n",
       "      <td>8.746890e-07</td>\n",
       "      <td>0.000036</td>\n",
       "      <td>0.062180</td>\n",
       "      <td>0.054408</td>\n",
       "      <td>0.000230</td>\n",
       "      <td>0.000145</td>\n",
       "      <td>0.002366</td>\n",
       "      <td>0.000003</td>\n",
       "      <td>0.013517</td>\n",
       "      <td>0.000576</td>\n",
       "    </tr>\n",
       "    <tr>\n",
       "      <th>12</th>\n",
       "      <td>0.050547</td>\n",
       "      <td>0.050547</td>\n",
       "      <td>0.000003</td>\n",
       "      <td>0.000292</td>\n",
       "      <td>0.004789</td>\n",
       "      <td>0.000183</td>\n",
       "      <td>0.006318</td>\n",
       "      <td>0.004789</td>\n",
       "      <td>0.012691</td>\n",
       "      <td>0.008425</td>\n",
       "      <td>...</td>\n",
       "      <td>5.914572e-07</td>\n",
       "      <td>0.000024</td>\n",
       "      <td>0.041095</td>\n",
       "      <td>0.035959</td>\n",
       "      <td>0.000399</td>\n",
       "      <td>0.000106</td>\n",
       "      <td>0.003686</td>\n",
       "      <td>0.000006</td>\n",
       "      <td>0.008219</td>\n",
       "      <td>0.000389</td>\n",
       "    </tr>\n",
       "    <tr>\n",
       "      <th>13</th>\n",
       "      <td>0.068654</td>\n",
       "      <td>0.068654</td>\n",
       "      <td>0.000018</td>\n",
       "      <td>0.001763</td>\n",
       "      <td>0.000269</td>\n",
       "      <td>0.000024</td>\n",
       "      <td>0.000204</td>\n",
       "      <td>0.000269</td>\n",
       "      <td>0.001678</td>\n",
       "      <td>0.019615</td>\n",
       "      <td>...</td>\n",
       "      <td>8.745028e-07</td>\n",
       "      <td>0.000110</td>\n",
       "      <td>0.098690</td>\n",
       "      <td>0.028197</td>\n",
       "      <td>0.001612</td>\n",
       "      <td>0.000145</td>\n",
       "      <td>0.001226</td>\n",
       "      <td>0.000010</td>\n",
       "      <td>0.021454</td>\n",
       "      <td>0.001763</td>\n",
       "    </tr>\n",
       "    <tr>\n",
       "      <th>14</th>\n",
       "      <td>0.125058</td>\n",
       "      <td>0.125058</td>\n",
       "      <td>0.000007</td>\n",
       "      <td>0.000650</td>\n",
       "      <td>0.000254</td>\n",
       "      <td>0.000010</td>\n",
       "      <td>0.000372</td>\n",
       "      <td>0.000254</td>\n",
       "      <td>0.000748</td>\n",
       "      <td>0.035731</td>\n",
       "      <td>...</td>\n",
       "      <td>3.222389e-07</td>\n",
       "      <td>0.000041</td>\n",
       "      <td>0.076255</td>\n",
       "      <td>0.021787</td>\n",
       "      <td>0.001522</td>\n",
       "      <td>0.000058</td>\n",
       "      <td>0.002233</td>\n",
       "      <td>0.000009</td>\n",
       "      <td>0.015251</td>\n",
       "      <td>0.000650</td>\n",
       "    </tr>\n",
       "  </tbody>\n",
       "</table>\n",
       "<p>11 rows × 23 columns</p>\n",
       "</div>"
      ],
      "text/plain": [
       "          1         2         5         6         8         9         10  \\\n",
       "1   0.021336  0.021336  0.000006  0.000548  0.001355  0.000122  0.001030   \n",
       "2   0.021336  0.021336  0.000006  0.000548  0.001355  0.000122  0.001030   \n",
       "5   0.028931  0.028931  0.000023  0.000137  0.000952  0.000088  0.003726   \n",
       "6   0.040382  0.040382  0.000002  0.000191  0.001329  0.000046  0.001950   \n",
       "8   0.032442  0.032442  0.000004  0.000432  0.002764  0.000248  0.004055   \n",
       "9   0.016447  0.016447  0.000001  0.000085  0.001401  0.001937  0.074592   \n",
       "10  0.009029  0.009029  0.000003  0.000232  0.001484  0.004837  0.040949   \n",
       "11  0.032442  0.032442  0.000004  0.000432  0.002764  0.000248  0.004055   \n",
       "12  0.050547  0.050547  0.000003  0.000292  0.004789  0.000183  0.006318   \n",
       "13  0.068654  0.068654  0.000018  0.001763  0.000269  0.000024  0.000204   \n",
       "14  0.125058  0.125058  0.000007  0.000650  0.000254  0.000010  0.000372   \n",
       "\n",
       "          11        12        13    ...               17        19        20  \\\n",
       "1   0.001355  0.008464  0.011638    ...     3.113063e-06  0.000034  0.030671   \n",
       "2   0.001355  0.008464  0.011638    ...     3.113063e-06  0.000034  0.030671   \n",
       "5   0.000952  0.002557  0.015780    ...     7.468783e-05  0.000023  0.016073   \n",
       "6   0.001329  0.003569  0.022026    ...     1.085930e-06  0.000012  0.022434   \n",
       "8   0.002764  0.019203  0.005407    ...     8.746890e-07  0.000036  0.062180   \n",
       "9   0.001401  0.004130  0.002741    ...     8.423488e-06  0.000258  0.013372   \n",
       "10  0.001484  0.009271  0.001505    ...     2.285995e-05  0.000701  0.017306   \n",
       "11  0.002764  0.019203  0.005407    ...     8.746890e-07  0.000036  0.062180   \n",
       "12  0.004789  0.012691  0.008425    ...     5.914572e-07  0.000024  0.041095   \n",
       "13  0.000269  0.001678  0.019615    ...     8.745028e-07  0.000110  0.098690   \n",
       "14  0.000254  0.000748  0.035731    ...     3.222389e-07  0.000041  0.076255   \n",
       "\n",
       "          21        22        25        26        27        28        29  \n",
       "1   0.100376  0.000159  0.000516  0.004364  0.000003  0.006668  0.000548  \n",
       "2   0.100376  0.000159  0.000516  0.004364  0.000003  0.006668  0.000548  \n",
       "5   0.052602  0.000112  0.000373  0.015780  0.000205  0.003215  0.000137  \n",
       "6   0.073421  0.000156  0.000195  0.008260  0.000003  0.004487  0.000191  \n",
       "8   0.054408  0.000230  0.000145  0.002366  0.000003  0.013517  0.000576  \n",
       "9   0.011700  0.000117  0.001130  0.043512  0.000079  0.002674  0.000114  \n",
       "10  0.015143  0.000124  0.002822  0.023887  0.000084  0.003762  0.000309  \n",
       "11  0.054408  0.000230  0.000145  0.002366  0.000003  0.013517  0.000576  \n",
       "12  0.035959  0.000399  0.000106  0.003686  0.000006  0.008219  0.000389  \n",
       "13  0.028197  0.001612  0.000145  0.001226  0.000010  0.021454  0.001763  \n",
       "14  0.021787  0.001522  0.000058  0.002233  0.000009  0.015251  0.000650  \n",
       "\n",
       "[11 rows x 23 columns]"
      ]
     },
     "execution_count": 111,
     "metadata": {},
     "output_type": "execute_result"
    }
   ],
   "source": [
    "poi_logtransmat.head(11)"
   ]
  },
  {
   "cell_type": "markdown",
   "metadata": {},
   "source": [
    "Deal with POI features that correspond to more than once POIs."
   ]
  },
  {
   "cell_type": "code",
   "execution_count": 112,
   "metadata": {
    "collapsed": false
   },
   "outputs": [
    {
     "data": {
      "text/plain": [
       "{('Education', 1, 1, 2, 0): [9],\n",
       " ('Education', 1, 1, 3, 1): [8, 11],\n",
       " ('Education', 1, 2, 2, 1): [12],\n",
       " ('Education', 2, 2, 3, 0): [10],\n",
       " ('Museum', 1, 1, 1, 2): [17],\n",
       " ('Museum', 1, 1, 2, 0): [25],\n",
       " ('Museum', 2, 2, 2, 1): [21],\n",
       " ('Museum', 2, 2, 3, 0): [26],\n",
       " ('Park', 1, 1, 3, 1): [22],\n",
       " ('Religion', 1, 1, 2, 1): [14],\n",
       " ('Religion', 2, 2, 3, 1): [13],\n",
       " ('Shopping', 1, 1, 3, 0): [15],\n",
       " ('Shopping', 2, 2, 2, 1): [16],\n",
       " ('Structure', 1, 1, 1, 0): [19],\n",
       " ('Structure', 1, 1, 1, 1): [29],\n",
       " ('Structure', 1, 1, 3, 2): [27],\n",
       " ('Structure', 2, 2, 1, 1): [28],\n",
       " ('Structure', 2, 2, 2, 1): [20],\n",
       " ('Transport', 1, 1, 1, 1): [6],\n",
       " ('Transport', 1, 1, 1, 3): [5],\n",
       " ('Transport', 2, 2, 3, 1): [1, 2]}"
      ]
     },
     "execution_count": 112,
     "metadata": {},
     "output_type": "execute_result"
    }
   ],
   "source": [
    "features_dup = dict()\n",
    "for poi in poi_features.index:\n",
    "    key = tuple(poi_features.loc[poi])\n",
    "    if key in features_dup:\n",
    "        features_dup[key].append(poi)\n",
    "    else:\n",
    "        features_dup[key] = [poi]\n",
    "features_dup"
   ]
  },
  {
   "cell_type": "code",
   "execution_count": 113,
   "metadata": {
    "collapsed": true
   },
   "outputs": [],
   "source": [
    "for feature in sorted(features_dup.keys()):\n",
    "    n = len(features_dup[feature])\n",
    "    if n > 1:\n",
    "        group = features_dup[feature]\n",
    "        v1 = poi_logtransmat.loc[group[0], group[0]]  # transition value of self-loop of POI group\n",
    "        \n",
    "        # divide incoming transition value (i.e. unnormalised transition probability) uniformly among group members\n",
    "        for poi in group:\n",
    "            poi_logtransmat[poi] /= n\n",
    "        \n",
    "        # outgoing transition value has already been duplicated (value copied above)\n",
    "        \n",
    "        # duplicate & divide transition value of self-loop of POI group uniformly among all outgoing transitions,\n",
    "        # from a POI to all other POIs in the same group (excluding POI self-loop)\n",
    "        v2 = v1 / (n - 1)\n",
    "        for pair in itertools.permutations(group, 2):\n",
    "            poi_logtransmat.loc[pair[0], pair[1]] = v2"
   ]
  },
  {
   "cell_type": "markdown",
   "metadata": {},
   "source": [
    "Make the transition value of all self-loops of POIs to $0$."
   ]
  },
  {
   "cell_type": "code",
   "execution_count": 114,
   "metadata": {
    "collapsed": true
   },
   "outputs": [],
   "source": [
    "for p1 in poi_logtransmat.index:\n",
    "    poi_logtransmat.loc[p1, p1] = 0"
   ]
  },
  {
   "cell_type": "code",
   "execution_count": 115,
   "metadata": {
    "collapsed": false
   },
   "outputs": [
    {
     "data": {
      "text/html": [
       "<div>\n",
       "<table border=\"1\" class=\"dataframe\">\n",
       "  <thead>\n",
       "    <tr style=\"text-align: right;\">\n",
       "      <th></th>\n",
       "      <th>1</th>\n",
       "      <th>2</th>\n",
       "      <th>5</th>\n",
       "      <th>6</th>\n",
       "      <th>8</th>\n",
       "      <th>9</th>\n",
       "      <th>10</th>\n",
       "      <th>11</th>\n",
       "      <th>12</th>\n",
       "      <th>13</th>\n",
       "      <th>...</th>\n",
       "      <th>17</th>\n",
       "      <th>19</th>\n",
       "      <th>20</th>\n",
       "      <th>21</th>\n",
       "      <th>22</th>\n",
       "      <th>25</th>\n",
       "      <th>26</th>\n",
       "      <th>27</th>\n",
       "      <th>28</th>\n",
       "      <th>29</th>\n",
       "    </tr>\n",
       "  </thead>\n",
       "  <tbody>\n",
       "    <tr>\n",
       "      <th>1</th>\n",
       "      <td>0.000000</td>\n",
       "      <td>0.021336</td>\n",
       "      <td>0.000006</td>\n",
       "      <td>0.000548</td>\n",
       "      <td>0.000677</td>\n",
       "      <td>0.000122</td>\n",
       "      <td>0.001030</td>\n",
       "      <td>0.000677</td>\n",
       "      <td>0.008464</td>\n",
       "      <td>0.011638</td>\n",
       "      <td>...</td>\n",
       "      <td>3.113063e-06</td>\n",
       "      <td>0.000034</td>\n",
       "      <td>0.030671</td>\n",
       "      <td>0.100376</td>\n",
       "      <td>0.000159</td>\n",
       "      <td>0.000516</td>\n",
       "      <td>0.004364</td>\n",
       "      <td>0.000003</td>\n",
       "      <td>0.006668</td>\n",
       "      <td>0.000548</td>\n",
       "    </tr>\n",
       "    <tr>\n",
       "      <th>2</th>\n",
       "      <td>0.021336</td>\n",
       "      <td>0.000000</td>\n",
       "      <td>0.000006</td>\n",
       "      <td>0.000548</td>\n",
       "      <td>0.000677</td>\n",
       "      <td>0.000122</td>\n",
       "      <td>0.001030</td>\n",
       "      <td>0.000677</td>\n",
       "      <td>0.008464</td>\n",
       "      <td>0.011638</td>\n",
       "      <td>...</td>\n",
       "      <td>3.113063e-06</td>\n",
       "      <td>0.000034</td>\n",
       "      <td>0.030671</td>\n",
       "      <td>0.100376</td>\n",
       "      <td>0.000159</td>\n",
       "      <td>0.000516</td>\n",
       "      <td>0.004364</td>\n",
       "      <td>0.000003</td>\n",
       "      <td>0.006668</td>\n",
       "      <td>0.000548</td>\n",
       "    </tr>\n",
       "    <tr>\n",
       "      <th>5</th>\n",
       "      <td>0.014465</td>\n",
       "      <td>0.014465</td>\n",
       "      <td>0.000000</td>\n",
       "      <td>0.000137</td>\n",
       "      <td>0.000476</td>\n",
       "      <td>0.000088</td>\n",
       "      <td>0.003726</td>\n",
       "      <td>0.000476</td>\n",
       "      <td>0.002557</td>\n",
       "      <td>0.015780</td>\n",
       "      <td>...</td>\n",
       "      <td>7.468783e-05</td>\n",
       "      <td>0.000023</td>\n",
       "      <td>0.016073</td>\n",
       "      <td>0.052602</td>\n",
       "      <td>0.000112</td>\n",
       "      <td>0.000373</td>\n",
       "      <td>0.015780</td>\n",
       "      <td>0.000205</td>\n",
       "      <td>0.003215</td>\n",
       "      <td>0.000137</td>\n",
       "    </tr>\n",
       "    <tr>\n",
       "      <th>6</th>\n",
       "      <td>0.020191</td>\n",
       "      <td>0.020191</td>\n",
       "      <td>0.000002</td>\n",
       "      <td>0.000000</td>\n",
       "      <td>0.000665</td>\n",
       "      <td>0.000046</td>\n",
       "      <td>0.001950</td>\n",
       "      <td>0.000665</td>\n",
       "      <td>0.003569</td>\n",
       "      <td>0.022026</td>\n",
       "      <td>...</td>\n",
       "      <td>1.085930e-06</td>\n",
       "      <td>0.000012</td>\n",
       "      <td>0.022434</td>\n",
       "      <td>0.073421</td>\n",
       "      <td>0.000156</td>\n",
       "      <td>0.000195</td>\n",
       "      <td>0.008260</td>\n",
       "      <td>0.000003</td>\n",
       "      <td>0.004487</td>\n",
       "      <td>0.000191</td>\n",
       "    </tr>\n",
       "    <tr>\n",
       "      <th>8</th>\n",
       "      <td>0.016221</td>\n",
       "      <td>0.016221</td>\n",
       "      <td>0.000004</td>\n",
       "      <td>0.000432</td>\n",
       "      <td>0.000000</td>\n",
       "      <td>0.000248</td>\n",
       "      <td>0.004055</td>\n",
       "      <td>0.002764</td>\n",
       "      <td>0.019203</td>\n",
       "      <td>0.005407</td>\n",
       "      <td>...</td>\n",
       "      <td>8.746890e-07</td>\n",
       "      <td>0.000036</td>\n",
       "      <td>0.062180</td>\n",
       "      <td>0.054408</td>\n",
       "      <td>0.000230</td>\n",
       "      <td>0.000145</td>\n",
       "      <td>0.002366</td>\n",
       "      <td>0.000003</td>\n",
       "      <td>0.013517</td>\n",
       "      <td>0.000576</td>\n",
       "    </tr>\n",
       "    <tr>\n",
       "      <th>9</th>\n",
       "      <td>0.008224</td>\n",
       "      <td>0.008224</td>\n",
       "      <td>0.000001</td>\n",
       "      <td>0.000085</td>\n",
       "      <td>0.000701</td>\n",
       "      <td>0.000000</td>\n",
       "      <td>0.074592</td>\n",
       "      <td>0.000701</td>\n",
       "      <td>0.004130</td>\n",
       "      <td>0.002741</td>\n",
       "      <td>...</td>\n",
       "      <td>8.423488e-06</td>\n",
       "      <td>0.000258</td>\n",
       "      <td>0.013372</td>\n",
       "      <td>0.011700</td>\n",
       "      <td>0.000117</td>\n",
       "      <td>0.001130</td>\n",
       "      <td>0.043512</td>\n",
       "      <td>0.000079</td>\n",
       "      <td>0.002674</td>\n",
       "      <td>0.000114</td>\n",
       "    </tr>\n",
       "    <tr>\n",
       "      <th>10</th>\n",
       "      <td>0.004515</td>\n",
       "      <td>0.004515</td>\n",
       "      <td>0.000003</td>\n",
       "      <td>0.000232</td>\n",
       "      <td>0.000742</td>\n",
       "      <td>0.004837</td>\n",
       "      <td>0.000000</td>\n",
       "      <td>0.000742</td>\n",
       "      <td>0.009271</td>\n",
       "      <td>0.001505</td>\n",
       "      <td>...</td>\n",
       "      <td>2.285995e-05</td>\n",
       "      <td>0.000701</td>\n",
       "      <td>0.017306</td>\n",
       "      <td>0.015143</td>\n",
       "      <td>0.000124</td>\n",
       "      <td>0.002822</td>\n",
       "      <td>0.023887</td>\n",
       "      <td>0.000084</td>\n",
       "      <td>0.003762</td>\n",
       "      <td>0.000309</td>\n",
       "    </tr>\n",
       "    <tr>\n",
       "      <th>11</th>\n",
       "      <td>0.016221</td>\n",
       "      <td>0.016221</td>\n",
       "      <td>0.000004</td>\n",
       "      <td>0.000432</td>\n",
       "      <td>0.002764</td>\n",
       "      <td>0.000248</td>\n",
       "      <td>0.004055</td>\n",
       "      <td>0.000000</td>\n",
       "      <td>0.019203</td>\n",
       "      <td>0.005407</td>\n",
       "      <td>...</td>\n",
       "      <td>8.746890e-07</td>\n",
       "      <td>0.000036</td>\n",
       "      <td>0.062180</td>\n",
       "      <td>0.054408</td>\n",
       "      <td>0.000230</td>\n",
       "      <td>0.000145</td>\n",
       "      <td>0.002366</td>\n",
       "      <td>0.000003</td>\n",
       "      <td>0.013517</td>\n",
       "      <td>0.000576</td>\n",
       "    </tr>\n",
       "    <tr>\n",
       "      <th>12</th>\n",
       "      <td>0.025274</td>\n",
       "      <td>0.025274</td>\n",
       "      <td>0.000003</td>\n",
       "      <td>0.000292</td>\n",
       "      <td>0.002394</td>\n",
       "      <td>0.000183</td>\n",
       "      <td>0.006318</td>\n",
       "      <td>0.002394</td>\n",
       "      <td>0.000000</td>\n",
       "      <td>0.008425</td>\n",
       "      <td>...</td>\n",
       "      <td>5.914572e-07</td>\n",
       "      <td>0.000024</td>\n",
       "      <td>0.041095</td>\n",
       "      <td>0.035959</td>\n",
       "      <td>0.000399</td>\n",
       "      <td>0.000106</td>\n",
       "      <td>0.003686</td>\n",
       "      <td>0.000006</td>\n",
       "      <td>0.008219</td>\n",
       "      <td>0.000389</td>\n",
       "    </tr>\n",
       "    <tr>\n",
       "      <th>13</th>\n",
       "      <td>0.034327</td>\n",
       "      <td>0.034327</td>\n",
       "      <td>0.000018</td>\n",
       "      <td>0.001763</td>\n",
       "      <td>0.000134</td>\n",
       "      <td>0.000024</td>\n",
       "      <td>0.000204</td>\n",
       "      <td>0.000134</td>\n",
       "      <td>0.001678</td>\n",
       "      <td>0.000000</td>\n",
       "      <td>...</td>\n",
       "      <td>8.745028e-07</td>\n",
       "      <td>0.000110</td>\n",
       "      <td>0.098690</td>\n",
       "      <td>0.028197</td>\n",
       "      <td>0.001612</td>\n",
       "      <td>0.000145</td>\n",
       "      <td>0.001226</td>\n",
       "      <td>0.000010</td>\n",
       "      <td>0.021454</td>\n",
       "      <td>0.001763</td>\n",
       "    </tr>\n",
       "    <tr>\n",
       "      <th>14</th>\n",
       "      <td>0.062529</td>\n",
       "      <td>0.062529</td>\n",
       "      <td>0.000007</td>\n",
       "      <td>0.000650</td>\n",
       "      <td>0.000127</td>\n",
       "      <td>0.000010</td>\n",
       "      <td>0.000372</td>\n",
       "      <td>0.000127</td>\n",
       "      <td>0.000748</td>\n",
       "      <td>0.035731</td>\n",
       "      <td>...</td>\n",
       "      <td>3.222389e-07</td>\n",
       "      <td>0.000041</td>\n",
       "      <td>0.076255</td>\n",
       "      <td>0.021787</td>\n",
       "      <td>0.001522</td>\n",
       "      <td>0.000058</td>\n",
       "      <td>0.002233</td>\n",
       "      <td>0.000009</td>\n",
       "      <td>0.015251</td>\n",
       "      <td>0.000650</td>\n",
       "    </tr>\n",
       "  </tbody>\n",
       "</table>\n",
       "<p>11 rows × 23 columns</p>\n",
       "</div>"
      ],
      "text/plain": [
       "          1         2         5         6         8         9         10  \\\n",
       "1   0.000000  0.021336  0.000006  0.000548  0.000677  0.000122  0.001030   \n",
       "2   0.021336  0.000000  0.000006  0.000548  0.000677  0.000122  0.001030   \n",
       "5   0.014465  0.014465  0.000000  0.000137  0.000476  0.000088  0.003726   \n",
       "6   0.020191  0.020191  0.000002  0.000000  0.000665  0.000046  0.001950   \n",
       "8   0.016221  0.016221  0.000004  0.000432  0.000000  0.000248  0.004055   \n",
       "9   0.008224  0.008224  0.000001  0.000085  0.000701  0.000000  0.074592   \n",
       "10  0.004515  0.004515  0.000003  0.000232  0.000742  0.004837  0.000000   \n",
       "11  0.016221  0.016221  0.000004  0.000432  0.002764  0.000248  0.004055   \n",
       "12  0.025274  0.025274  0.000003  0.000292  0.002394  0.000183  0.006318   \n",
       "13  0.034327  0.034327  0.000018  0.001763  0.000134  0.000024  0.000204   \n",
       "14  0.062529  0.062529  0.000007  0.000650  0.000127  0.000010  0.000372   \n",
       "\n",
       "          11        12        13    ...               17        19        20  \\\n",
       "1   0.000677  0.008464  0.011638    ...     3.113063e-06  0.000034  0.030671   \n",
       "2   0.000677  0.008464  0.011638    ...     3.113063e-06  0.000034  0.030671   \n",
       "5   0.000476  0.002557  0.015780    ...     7.468783e-05  0.000023  0.016073   \n",
       "6   0.000665  0.003569  0.022026    ...     1.085930e-06  0.000012  0.022434   \n",
       "8   0.002764  0.019203  0.005407    ...     8.746890e-07  0.000036  0.062180   \n",
       "9   0.000701  0.004130  0.002741    ...     8.423488e-06  0.000258  0.013372   \n",
       "10  0.000742  0.009271  0.001505    ...     2.285995e-05  0.000701  0.017306   \n",
       "11  0.000000  0.019203  0.005407    ...     8.746890e-07  0.000036  0.062180   \n",
       "12  0.002394  0.000000  0.008425    ...     5.914572e-07  0.000024  0.041095   \n",
       "13  0.000134  0.001678  0.000000    ...     8.745028e-07  0.000110  0.098690   \n",
       "14  0.000127  0.000748  0.035731    ...     3.222389e-07  0.000041  0.076255   \n",
       "\n",
       "          21        22        25        26        27        28        29  \n",
       "1   0.100376  0.000159  0.000516  0.004364  0.000003  0.006668  0.000548  \n",
       "2   0.100376  0.000159  0.000516  0.004364  0.000003  0.006668  0.000548  \n",
       "5   0.052602  0.000112  0.000373  0.015780  0.000205  0.003215  0.000137  \n",
       "6   0.073421  0.000156  0.000195  0.008260  0.000003  0.004487  0.000191  \n",
       "8   0.054408  0.000230  0.000145  0.002366  0.000003  0.013517  0.000576  \n",
       "9   0.011700  0.000117  0.001130  0.043512  0.000079  0.002674  0.000114  \n",
       "10  0.015143  0.000124  0.002822  0.023887  0.000084  0.003762  0.000309  \n",
       "11  0.054408  0.000230  0.000145  0.002366  0.000003  0.013517  0.000576  \n",
       "12  0.035959  0.000399  0.000106  0.003686  0.000006  0.008219  0.000389  \n",
       "13  0.028197  0.001612  0.000145  0.001226  0.000010  0.021454  0.001763  \n",
       "14  0.021787  0.001522  0.000058  0.002233  0.000009  0.015251  0.000650  \n",
       "\n",
       "[11 rows x 23 columns]"
      ]
     },
     "execution_count": 115,
     "metadata": {},
     "output_type": "execute_result"
    }
   ],
   "source": [
    "poi_logtransmat.head(11)"
   ]
  },
  {
   "cell_type": "markdown",
   "metadata": {},
   "source": [
    "Normalise and compute log probability."
   ]
  },
  {
   "cell_type": "code",
   "execution_count": 116,
   "metadata": {
    "collapsed": true
   },
   "outputs": [],
   "source": [
    "for p1 in poi_logtransmat.index:\n",
    "    rowsum = poi_logtransmat.loc[p1].sum()\n",
    "    assert(rowsum > 0)\n",
    "    logrowsum = np.log10(rowsum)\n",
    "    for p2 in poi_logtransmat.columns:\n",
    "        if p1 == p2:\n",
    "            poi_logtransmat.loc[p1, p2] = -np.inf  # deal with log(0) explicitly\n",
    "        else:\n",
    "            poi_logtransmat.loc[p1, p2] = np.log10(poi_logtransmat.loc[p1, p2]) - logrowsum"
   ]
  },
  {
   "cell_type": "code",
   "execution_count": 117,
   "metadata": {
    "collapsed": false
   },
   "outputs": [
    {
     "data": {
      "text/html": [
       "<div>\n",
       "<table border=\"1\" class=\"dataframe\">\n",
       "  <thead>\n",
       "    <tr style=\"text-align: right;\">\n",
       "      <th></th>\n",
       "      <th>1</th>\n",
       "      <th>2</th>\n",
       "      <th>5</th>\n",
       "      <th>6</th>\n",
       "      <th>8</th>\n",
       "      <th>9</th>\n",
       "      <th>10</th>\n",
       "      <th>11</th>\n",
       "      <th>12</th>\n",
       "      <th>13</th>\n",
       "      <th>...</th>\n",
       "      <th>17</th>\n",
       "      <th>19</th>\n",
       "      <th>20</th>\n",
       "      <th>21</th>\n",
       "      <th>22</th>\n",
       "      <th>25</th>\n",
       "      <th>26</th>\n",
       "      <th>27</th>\n",
       "      <th>28</th>\n",
       "      <th>29</th>\n",
       "    </tr>\n",
       "  </thead>\n",
       "  <tbody>\n",
       "    <tr>\n",
       "      <th>1</th>\n",
       "      <td>-inf</td>\n",
       "      <td>-1.111731</td>\n",
       "      <td>-4.684416</td>\n",
       "      <td>-2.702144</td>\n",
       "      <td>-2.609998</td>\n",
       "      <td>-3.355480</td>\n",
       "      <td>-2.427825</td>\n",
       "      <td>-2.609998</td>\n",
       "      <td>-1.513255</td>\n",
       "      <td>-1.374973</td>\n",
       "      <td>...</td>\n",
       "      <td>-4.947657</td>\n",
       "      <td>-3.906264</td>\n",
       "      <td>-0.954123</td>\n",
       "      <td>-0.439214</td>\n",
       "      <td>-3.238387</td>\n",
       "      <td>-2.728597</td>\n",
       "      <td>-1.800941</td>\n",
       "      <td>-4.957417</td>\n",
       "      <td>-1.616881</td>\n",
       "      <td>-2.702144</td>\n",
       "    </tr>\n",
       "    <tr>\n",
       "      <th>2</th>\n",
       "      <td>-1.111731</td>\n",
       "      <td>-inf</td>\n",
       "      <td>-4.684416</td>\n",
       "      <td>-2.702144</td>\n",
       "      <td>-2.609998</td>\n",
       "      <td>-3.355480</td>\n",
       "      <td>-2.427825</td>\n",
       "      <td>-2.609998</td>\n",
       "      <td>-1.513255</td>\n",
       "      <td>-1.374973</td>\n",
       "      <td>...</td>\n",
       "      <td>-4.947657</td>\n",
       "      <td>-3.906264</td>\n",
       "      <td>-0.954123</td>\n",
       "      <td>-0.439214</td>\n",
       "      <td>-3.238387</td>\n",
       "      <td>-2.728597</td>\n",
       "      <td>-1.800941</td>\n",
       "      <td>-4.957417</td>\n",
       "      <td>-1.616881</td>\n",
       "      <td>-2.702144</td>\n",
       "    </tr>\n",
       "    <tr>\n",
       "      <th>5</th>\n",
       "      <td>-1.111543</td>\n",
       "      <td>-1.111543</td>\n",
       "      <td>-inf</td>\n",
       "      <td>-3.135384</td>\n",
       "      <td>-2.594145</td>\n",
       "      <td>-3.326539</td>\n",
       "      <td>-1.700638</td>\n",
       "      <td>-2.594145</td>\n",
       "      <td>-1.864141</td>\n",
       "      <td>-1.073755</td>\n",
       "      <td>...</td>\n",
       "      <td>-3.398625</td>\n",
       "      <td>-3.913535</td>\n",
       "      <td>-1.065786</td>\n",
       "      <td>-0.550876</td>\n",
       "      <td>-3.222534</td>\n",
       "      <td>-2.699655</td>\n",
       "      <td>-1.073755</td>\n",
       "      <td>-2.959292</td>\n",
       "      <td>-1.764756</td>\n",
       "      <td>-3.135384</td>\n",
       "    </tr>\n",
       "    <tr>\n",
       "      <th>6</th>\n",
       "      <td>-1.079582</td>\n",
       "      <td>-1.079582</td>\n",
       "      <td>-5.085694</td>\n",
       "      <td>-inf</td>\n",
       "      <td>-2.562184</td>\n",
       "      <td>-3.720546</td>\n",
       "      <td>-2.094646</td>\n",
       "      <td>-2.562184</td>\n",
       "      <td>-1.832180</td>\n",
       "      <td>-1.041794</td>\n",
       "      <td>...</td>\n",
       "      <td>-5.348935</td>\n",
       "      <td>-4.307543</td>\n",
       "      <td>-1.033825</td>\n",
       "      <td>-0.518915</td>\n",
       "      <td>-3.190573</td>\n",
       "      <td>-3.093663</td>\n",
       "      <td>-1.467763</td>\n",
       "      <td>-4.909603</td>\n",
       "      <td>-1.732795</td>\n",
       "      <td>-3.103423</td>\n",
       "    </tr>\n",
       "    <tr>\n",
       "      <th>8</th>\n",
       "      <td>-1.205971</td>\n",
       "      <td>-1.205971</td>\n",
       "      <td>-4.762990</td>\n",
       "      <td>-2.780719</td>\n",
       "      <td>-inf</td>\n",
       "      <td>-3.021051</td>\n",
       "      <td>-1.808031</td>\n",
       "      <td>-1.974539</td>\n",
       "      <td>-1.132684</td>\n",
       "      <td>-1.683093</td>\n",
       "      <td>...</td>\n",
       "      <td>-5.474195</td>\n",
       "      <td>-3.859900</td>\n",
       "      <td>-0.622395</td>\n",
       "      <td>-0.680387</td>\n",
       "      <td>-3.053720</td>\n",
       "      <td>-3.255134</td>\n",
       "      <td>-2.042115</td>\n",
       "      <td>-4.911053</td>\n",
       "      <td>-1.285153</td>\n",
       "      <td>-2.655780</td>\n",
       "    </tr>\n",
       "    <tr>\n",
       "      <th>9</th>\n",
       "      <td>-1.358918</td>\n",
       "      <td>-1.358918</td>\n",
       "      <td>-5.193588</td>\n",
       "      <td>-3.342329</td>\n",
       "      <td>-2.428515</td>\n",
       "      <td>-inf</td>\n",
       "      <td>-0.401290</td>\n",
       "      <td>-2.428515</td>\n",
       "      <td>-1.658082</td>\n",
       "      <td>-1.836039</td>\n",
       "      <td>...</td>\n",
       "      <td>-4.348490</td>\n",
       "      <td>-2.861823</td>\n",
       "      <td>-1.147793</td>\n",
       "      <td>-1.205785</td>\n",
       "      <td>-3.206667</td>\n",
       "      <td>-2.220845</td>\n",
       "      <td>-0.635373</td>\n",
       "      <td>-3.376684</td>\n",
       "      <td>-1.846763</td>\n",
       "      <td>-3.217390</td>\n",
       "    </tr>\n",
       "    <tr>\n",
       "      <th>10</th>\n",
       "      <td>-1.387753</td>\n",
       "      <td>-1.387753</td>\n",
       "      <td>-4.528394</td>\n",
       "      <td>-2.677136</td>\n",
       "      <td>-2.171986</td>\n",
       "      <td>-1.357781</td>\n",
       "      <td>-inf</td>\n",
       "      <td>-2.171986</td>\n",
       "      <td>-1.075243</td>\n",
       "      <td>-1.864874</td>\n",
       "      <td>...</td>\n",
       "      <td>-3.683296</td>\n",
       "      <td>-2.196630</td>\n",
       "      <td>-0.804176</td>\n",
       "      <td>-0.862168</td>\n",
       "      <td>-2.950137</td>\n",
       "      <td>-1.591864</td>\n",
       "      <td>-0.664209</td>\n",
       "      <td>-3.120154</td>\n",
       "      <td>-1.466934</td>\n",
       "      <td>-2.552197</td>\n",
       "    </tr>\n",
       "    <tr>\n",
       "      <th>11</th>\n",
       "      <td>-1.205971</td>\n",
       "      <td>-1.205971</td>\n",
       "      <td>-4.762990</td>\n",
       "      <td>-2.780719</td>\n",
       "      <td>-1.974539</td>\n",
       "      <td>-3.021051</td>\n",
       "      <td>-1.808031</td>\n",
       "      <td>-inf</td>\n",
       "      <td>-1.132684</td>\n",
       "      <td>-1.683093</td>\n",
       "      <td>...</td>\n",
       "      <td>-5.474195</td>\n",
       "      <td>-3.859900</td>\n",
       "      <td>-0.622395</td>\n",
       "      <td>-0.680387</td>\n",
       "      <td>-3.053720</td>\n",
       "      <td>-3.255134</td>\n",
       "      <td>-2.042115</td>\n",
       "      <td>-4.911053</td>\n",
       "      <td>-1.285153</td>\n",
       "      <td>-2.655780</td>\n",
       "    </tr>\n",
       "    <tr>\n",
       "      <th>12</th>\n",
       "      <td>-0.902638</td>\n",
       "      <td>-0.902638</td>\n",
       "      <td>-4.822179</td>\n",
       "      <td>-2.839908</td>\n",
       "      <td>-1.926094</td>\n",
       "      <td>-3.044028</td>\n",
       "      <td>-1.504698</td>\n",
       "      <td>-1.926094</td>\n",
       "      <td>-inf</td>\n",
       "      <td>-1.379760</td>\n",
       "      <td>...</td>\n",
       "      <td>-5.533384</td>\n",
       "      <td>-3.919089</td>\n",
       "      <td>-0.691513</td>\n",
       "      <td>-0.749505</td>\n",
       "      <td>-2.704246</td>\n",
       "      <td>-3.278111</td>\n",
       "      <td>-1.738781</td>\n",
       "      <td>-4.561578</td>\n",
       "      <td>-1.390483</td>\n",
       "      <td>-2.714969</td>\n",
       "    </tr>\n",
       "    <tr>\n",
       "      <th>13</th>\n",
       "      <td>-0.831445</td>\n",
       "      <td>-0.831445</td>\n",
       "      <td>-4.103099</td>\n",
       "      <td>-2.120828</td>\n",
       "      <td>-3.238927</td>\n",
       "      <td>-3.984410</td>\n",
       "      <td>-3.056754</td>\n",
       "      <td>-3.238927</td>\n",
       "      <td>-2.142185</td>\n",
       "      <td>-inf</td>\n",
       "      <td>...</td>\n",
       "      <td>-5.425319</td>\n",
       "      <td>-3.324948</td>\n",
       "      <td>-0.372807</td>\n",
       "      <td>-0.916875</td>\n",
       "      <td>-2.159746</td>\n",
       "      <td>-3.206258</td>\n",
       "      <td>-2.278603</td>\n",
       "      <td>-4.376101</td>\n",
       "      <td>-1.035565</td>\n",
       "      <td>-2.120828</td>\n",
       "    </tr>\n",
       "    <tr>\n",
       "      <th>14</th>\n",
       "      <td>-0.657667</td>\n",
       "      <td>-0.657667</td>\n",
       "      <td>-4.623350</td>\n",
       "      <td>-2.641078</td>\n",
       "      <td>-3.350514</td>\n",
       "      <td>-4.468448</td>\n",
       "      <td>-2.882976</td>\n",
       "      <td>-3.350514</td>\n",
       "      <td>-2.580081</td>\n",
       "      <td>-0.900705</td>\n",
       "      <td>...</td>\n",
       "      <td>-5.945569</td>\n",
       "      <td>-3.845198</td>\n",
       "      <td>-0.571481</td>\n",
       "      <td>-1.115549</td>\n",
       "      <td>-2.271333</td>\n",
       "      <td>-3.690296</td>\n",
       "      <td>-2.104825</td>\n",
       "      <td>-4.487687</td>\n",
       "      <td>-1.270451</td>\n",
       "      <td>-2.641078</td>\n",
       "    </tr>\n",
       "  </tbody>\n",
       "</table>\n",
       "<p>11 rows × 23 columns</p>\n",
       "</div>"
      ],
      "text/plain": [
       "          1         2         5         6         8         9         10  \\\n",
       "1       -inf -1.111731 -4.684416 -2.702144 -2.609998 -3.355480 -2.427825   \n",
       "2  -1.111731      -inf -4.684416 -2.702144 -2.609998 -3.355480 -2.427825   \n",
       "5  -1.111543 -1.111543      -inf -3.135384 -2.594145 -3.326539 -1.700638   \n",
       "6  -1.079582 -1.079582 -5.085694      -inf -2.562184 -3.720546 -2.094646   \n",
       "8  -1.205971 -1.205971 -4.762990 -2.780719      -inf -3.021051 -1.808031   \n",
       "9  -1.358918 -1.358918 -5.193588 -3.342329 -2.428515      -inf -0.401290   \n",
       "10 -1.387753 -1.387753 -4.528394 -2.677136 -2.171986 -1.357781      -inf   \n",
       "11 -1.205971 -1.205971 -4.762990 -2.780719 -1.974539 -3.021051 -1.808031   \n",
       "12 -0.902638 -0.902638 -4.822179 -2.839908 -1.926094 -3.044028 -1.504698   \n",
       "13 -0.831445 -0.831445 -4.103099 -2.120828 -3.238927 -3.984410 -3.056754   \n",
       "14 -0.657667 -0.657667 -4.623350 -2.641078 -3.350514 -4.468448 -2.882976   \n",
       "\n",
       "          11        12        13    ...           17        19        20  \\\n",
       "1  -2.609998 -1.513255 -1.374973    ...    -4.947657 -3.906264 -0.954123   \n",
       "2  -2.609998 -1.513255 -1.374973    ...    -4.947657 -3.906264 -0.954123   \n",
       "5  -2.594145 -1.864141 -1.073755    ...    -3.398625 -3.913535 -1.065786   \n",
       "6  -2.562184 -1.832180 -1.041794    ...    -5.348935 -4.307543 -1.033825   \n",
       "8  -1.974539 -1.132684 -1.683093    ...    -5.474195 -3.859900 -0.622395   \n",
       "9  -2.428515 -1.658082 -1.836039    ...    -4.348490 -2.861823 -1.147793   \n",
       "10 -2.171986 -1.075243 -1.864874    ...    -3.683296 -2.196630 -0.804176   \n",
       "11      -inf -1.132684 -1.683093    ...    -5.474195 -3.859900 -0.622395   \n",
       "12 -1.926094      -inf -1.379760    ...    -5.533384 -3.919089 -0.691513   \n",
       "13 -3.238927 -2.142185      -inf    ...    -5.425319 -3.324948 -0.372807   \n",
       "14 -3.350514 -2.580081 -0.900705    ...    -5.945569 -3.845198 -0.571481   \n",
       "\n",
       "          21        22        25        26        27        28        29  \n",
       "1  -0.439214 -3.238387 -2.728597 -1.800941 -4.957417 -1.616881 -2.702144  \n",
       "2  -0.439214 -3.238387 -2.728597 -1.800941 -4.957417 -1.616881 -2.702144  \n",
       "5  -0.550876 -3.222534 -2.699655 -1.073755 -2.959292 -1.764756 -3.135384  \n",
       "6  -0.518915 -3.190573 -3.093663 -1.467763 -4.909603 -1.732795 -3.103423  \n",
       "8  -0.680387 -3.053720 -3.255134 -2.042115 -4.911053 -1.285153 -2.655780  \n",
       "9  -1.205785 -3.206667 -2.220845 -0.635373 -3.376684 -1.846763 -3.217390  \n",
       "10 -0.862168 -2.950137 -1.591864 -0.664209 -3.120154 -1.466934 -2.552197  \n",
       "11 -0.680387 -3.053720 -3.255134 -2.042115 -4.911053 -1.285153 -2.655780  \n",
       "12 -0.749505 -2.704246 -3.278111 -1.738781 -4.561578 -1.390483 -2.714969  \n",
       "13 -0.916875 -2.159746 -3.206258 -2.278603 -4.376101 -1.035565 -2.120828  \n",
       "14 -1.115549 -2.271333 -3.690296 -2.104825 -4.487687 -1.270451 -2.641078  \n",
       "\n",
       "[11 rows x 23 columns]"
      ]
     },
     "execution_count": 117,
     "metadata": {},
     "output_type": "execute_result"
    }
   ],
   "source": [
    "poi_logtransmat.head(11)"
   ]
  },
  {
   "cell_type": "markdown",
   "metadata": {},
   "source": [
    "Plot transition matrix heatmap."
   ]
  },
  {
   "cell_type": "code",
   "execution_count": 118,
   "metadata": {
    "collapsed": false
   },
   "outputs": [],
   "source": [
    "prob_mat = np.power(10, poi_logtransmat)"
   ]
  },
  {
   "cell_type": "code",
   "execution_count": 119,
   "metadata": {
    "collapsed": false
   },
   "outputs": [
    {
     "data": {
      "text/plain": [
       "<matplotlib.axes._subplots.AxesSubplot at 0x7f065abc8208>"
      ]
     },
     "execution_count": 119,
     "metadata": {},
     "output_type": "execute_result"
    },
    {
     "data": {
      "image/png": "[encoded data removed]",
      "text/plain": [
       "<matplotlib.figure.Figure at 0x7f065abf7dd8>"
      ]
     },
     "metadata": {},
     "output_type": "display_data"
    }
   ],
   "source": [
    "plt.figure(figsize=[13, 10])\n",
    "#plt.imshow(prob_mat, interpolation='none', cmap=plt.cm.hot)  # OK\n",
    "#ticks = prob_mat.index\n",
    "#plt.xticks(np.arange(prob_mat.shape[0]), ticks)\n",
    "#plt.yticks(np.arange(prob_mat.shape[0]), ticks)\n",
    "#plt.xlabel('POI ID')\n",
    "#plt.ylabel('POI ID')\n",
    "sns.heatmap(prob_mat)"
   ]
  },
  {
   "cell_type": "code",
   "execution_count": 120,
   "metadata": {
    "collapsed": false
   },
   "outputs": [],
   "source": [
    "#print(prob_mat.loc[2, 1])\n",
    "#print(poi_all.loc[[2, 17]])\n",
    "#d_ = calc_dist(poi_all.loc[2, 'poiLon'], poi_all.loc[2, 'poiLat'], poi_all.loc[1, 'poiLon'], poi_all.loc[1, 'poiLat'])\n",
    "#print('Distance between POI %d and %d is %.3f km.' % (2, 1, d_))"
   ]
  },
  {
   "cell_type": "markdown",
   "metadata": {},
   "source": [
    "Combine the above steps."
   ]
  },
  {
   "cell_type": "code",
   "execution_count": 121,
   "metadata": {
    "collapsed": true
   },
   "outputs": [],
   "source": [
    "def gen_poi_logtransmat(trajid_list, traj_all, poi_info):\n",
    "    transmat_cat                        = gen_transmat_cat(trajid_list, traj_all, poi_info)\n",
    "    transmat_pop,      logbins_pop      = gen_transmat_pop(trajid_list, traj_all, poi_info)\n",
    "    transmat_visit,    logbins_visit    = gen_transmat_visit(trajid_list, traj_all, poi_info)\n",
    "    transmat_duration, logbins_duration = gen_transmat_duration(trajid_list, traj_all, poi_info)\n",
    "    transmat_neighbor, poi_clusters     = gen_transmat_neighbor(trajid_list, traj_all, poi_info)\n",
    "\n",
    "    # Kronecker product\n",
    "    transmat_ix = list(itertools.product(transmat_cat.index, transmat_pop.index, transmat_visit.index, \\\n",
    "                                         transmat_duration.index, transmat_neighbor.index))\n",
    "    transmat_value = transmat_cat.values\n",
    "    for transmat in [transmat_pop, transmat_visit, transmat_duration, transmat_neighbor]:\n",
    "        transmat_value = kron(transmat_value, transmat.values)\n",
    "    transmat_feature = pd.DataFrame(data=transmat_value, index=transmat_ix, columns=transmat_ix)\n",
    "    \n",
    "    poi_train = poi_info.index.tolist()\n",
    "    feature_names = ['poiCat', 'popularity', 'nVisit', 'avgDuration', 'clusterID']\n",
    "    poi_features = pd.DataFrame(data=np.zeros((len(poi_train), len(feature_names))), \\\n",
    "                                columns=feature_names, index=poi_train)\n",
    "    poi_features.index.name = 'poiID'\n",
    "    poi_features['poiCat'] = poi_info.loc[poi_train, 'poiCat']\n",
    "    poi_features['popularity'] = np.digitize(poi_info.loc[poi_train, 'popularity'], logbins_pop)\n",
    "    poi_features['nVisit'] = np.digitize(poi_info.loc[poi_train, 'nVisit'], logbins_visit)\n",
    "    poi_features['avgDuration'] = np.digitize(poi_info.loc[poi_train, 'avgDuration'], logbins_duration)\n",
    "    poi_features['clusterID'] = poi_clusters.loc[poi_train, 'clusterID']\n",
    "    \n",
    "    # shrink the result of Kronecker product and deal with POIs with the same features\n",
    "    poi_logtransmat = pd.DataFrame(data=np.zeros((len(poi_train), len(poi_train)), dtype=np.float), \\\n",
    "                                   columns=poi_train, index=poi_train)\n",
    "    for p1 in poi_logtransmat.index:\n",
    "        rix = tuple(poi_features.loc[p1])\n",
    "        for p2 in poi_logtransmat.columns:\n",
    "            cix = tuple(poi_features.loc[p2])\n",
    "            value_ = transmat_feature.loc[(rix,), (cix,)]\n",
    "            poi_logtransmat.loc[p1, p2] = value_.values[0, 0]\n",
    "    \n",
    "    # group POIs with the same features\n",
    "    features_dup = dict()\n",
    "    for poi in poi_features.index:\n",
    "        key = tuple(poi_features.loc[poi])\n",
    "        if key in features_dup:\n",
    "            features_dup[key].append(poi)\n",
    "        else:\n",
    "            features_dup[key] = [poi]\n",
    "            \n",
    "    # deal with POIs with the same features\n",
    "    for feature in sorted(features_dup.keys()):\n",
    "        n = len(features_dup[feature])\n",
    "        if n > 1:\n",
    "            group = features_dup[feature]\n",
    "            v1 = poi_logtransmat.loc[group[0], group[0]]  # transition value of self-loop of POI group\n",
    "            \n",
    "            # divide incoming transition value (i.e. unnormalised transition probability) uniformly among group members\n",
    "            for poi in group:\n",
    "                poi_logtransmat[poi] /= n\n",
    "                \n",
    "            # outgoing transition value has already been duplicated (value copied above)\n",
    "            \n",
    "            # duplicate & divide transition value of self-loop of POI group uniformly among all outgoing transitions,\n",
    "            # from a POI to all other POIs in the same group (excluding POI self-loop)\n",
    "            v2 = v1 / (n - 1)\n",
    "            for pair in itertools.permutations(group, 2):\n",
    "                poi_logtransmat.loc[pair[0], pair[1]] = v2\n",
    "                            \n",
    "    # normalise each row\n",
    "    for p1 in poi_logtransmat.index:\n",
    "        poi_logtransmat.loc[p1, p1] = 0\n",
    "        rowsum = poi_logtransmat.loc[p1].sum()\n",
    "        assert(rowsum > 0)\n",
    "        logrowsum = np.log10(rowsum)\n",
    "        for p2 in poi_logtransmat.columns:\n",
    "            if p1 == p2:\n",
    "                poi_logtransmat.loc[p1, p2] = -np.inf  # deal with log(0) explicitly\n",
    "            else:\n",
    "                poi_logtransmat.loc[p1, p2] = np.log10(poi_logtransmat.loc[p1, p2]) - logrowsum\n",
    "    return poi_logtransmat"
   ]
  },
  {
   "cell_type": "markdown",
   "metadata": {},
   "source": [
    "<a id='sec3.8'></a>"
   ]
  },
  {
   "cell_type": "markdown",
   "metadata": {},
   "source": [
    "## 3.8 Recommendation based on POI Transition Matrix"
   ]
  },
  {
   "cell_type": "markdown",
   "metadata": {},
   "source": [
    "Use dynamic programming to find a possibly non-simple path, i.e., walk."
   ]
  },
  {
   "cell_type": "code",
   "execution_count": 122,
   "metadata": {
    "collapsed": true
   },
   "outputs": [],
   "source": [
    "def find_path(V, E, ps, pe, L, withNodeWeight=False, alpha=0.5):\n",
    "    assert(isinstance(V, pd.DataFrame))\n",
    "    assert(isinstance(E, pd.DataFrame))\n",
    "    assert(ps in V.index)\n",
    "    assert(pe in V.index)\n",
    "    # with sub-tours in trajectory, this is not the case any more, but it is nonsense to recommend such trajectories\n",
    "    assert(2 < L <= V.index.shape[0])  \n",
    "    if withNodeWeight == True:\n",
    "        assert(0 < alpha < 1)\n",
    "    beta = 1 - alpha\n",
    "    \n",
    "    A = pd.DataFrame(data=np.zeros((L-1, V.shape[0]), dtype=np.float), columns=V.index, index=np.arange(2, L+1))\n",
    "    B = pd.DataFrame(data=np.zeros((L-1, V.shape[0]), dtype=np.int),   columns=V.index, index=np.arange(2, L+1))\n",
    "    A += np.inf\n",
    "    for v in V.index:\n",
    "        if v != ps:\n",
    "            if withNodeWeight == True:\n",
    "                A.loc[2, v] = alpha * (V.loc[ps, 'weight'] + V.loc[v, 'weight']) + beta * E.loc[ps, v]  # ps--v\n",
    "            else:\n",
    "                A.loc[2, v] = E.loc[ps, v]  # ps--v\n",
    "            B.loc[2, v] = ps\n",
    "    \n",
    "    for l in range(3, L+1):\n",
    "        for v in V.index:\n",
    "            if withNodeWeight == True: # ps-~-v1---v\n",
    "                values = [A.loc[l-1, v1] + alpha * V.loc[v, 'weight'] + beta * E.loc[v1, v] for v1 in V.index]\n",
    "            else:\n",
    "                values = [A.loc[l-1, v1] + E.loc[v1, v] for v1 in V.index]  # ps-~-v1---v   \n",
    "            \n",
    "            minix = np.argmin(values)\n",
    "            A.loc[l, v] = values[minix]\n",
    "            B.loc[l, v] = V.index[minix]\n",
    "            \n",
    "    path = [pe]\n",
    "    v = path[-1]\n",
    "    l = L\n",
    "    #while v != ps:  #incorrect if 'ps' happens to appear in the middle of a path\n",
    "    while l >= 2:\n",
    "        path.append(B.loc[l, v])\n",
    "        v = path[-1]\n",
    "        l -= 1\n",
    "    path.reverse()\n",
    "    return path"
   ]
  },
  {
   "cell_type": "markdown",
   "metadata": {},
   "source": [
    "Use integer linear programming (ILP) to find a simple path."
   ]
  },
  {
   "cell_type": "code",
   "execution_count": 123,
   "metadata": {
    "collapsed": true
   },
   "outputs": [],
   "source": [
    "def find_path_ILP(V, E, ps, pe, L, withNodeWeight=False, alpha=0.5):\n",
    "    assert(isinstance(V, pd.DataFrame))\n",
    "    assert(isinstance(E, pd.DataFrame))\n",
    "    assert(ps in V.index)\n",
    "    assert(pe in V.index)\n",
    "    assert(2 < L <= V.index.shape[0])\n",
    "    if withNodeWeight == True:\n",
    "        assert(0 < alpha < 1)\n",
    "    beta = 1 - alpha\n",
    "    \n",
    "    p0 = str(ps); pN = str(pe); N = V.index.shape[0]\n",
    "    \n",
    "    # deal with np.inf which will cause ILP solver failure\n",
    "    Edges = E.copy()\n",
    "    INF = 1e6\n",
    "    for p in Edges.index:\n",
    "        Edges.loc[p, p] = INF \n",
    "    maxL = np.max(Edges.values.flatten())\n",
    "    if maxL > INF:\n",
    "        for p in Edges.index:\n",
    "            Edges.loc[p, p] = maxL    \n",
    "    \n",
    "    # REF: pythonhosted.org/PuLP/index.html\n",
    "    pois = [str(p) for p in V.index] # create a string list for each POI\n",
    "    pb = pulp.LpProblem('MostLikelyTraj', pulp.LpMinimize) # create problem\n",
    "    # visit_i_j = 1 means POI i and j are visited in sequence\n",
    "    visit_vars = pulp.LpVariable.dicts('visit', (pois, pois), 0, 1, pulp.LpInteger) \n",
    "    # a dictionary contains all dummy variables\n",
    "    dummy_vars = pulp.LpVariable.dicts('u', [x for x in pois if x != p0], 2, N, pulp.LpInteger)\n",
    "    \n",
    "    # add objective\n",
    "    objlist = []\n",
    "    if withNodeWeight == True:\n",
    "        objlist.append(alpha * V.loc[int(p0), 'weight'])\n",
    "    for pi in [x for x in pois if x != pN]:     # from\n",
    "        for pj in [y for y in pois if y != p0]: # to\n",
    "            if withNodeWeight == True:\n",
    "                objlist.append(visit_vars[pi][pj] * (alpha*V.loc[int(pj), 'weight'] + beta*Edges.loc[int(pi), int(pj)]))\n",
    "            else:\n",
    "                objlist.append(visit_vars[pi][pj] * Edges.loc[int(pi), int(pj)])\n",
    "    pb += pulp.lpSum(objlist), 'Objective'\n",
    "    \n",
    "    # add constraints, each constraint should be in ONE line\n",
    "    pb += pulp.lpSum([visit_vars[p0][pj] for pj in pois if pj != p0]) == 1, 'StartAt_p0'\n",
    "    pb += pulp.lpSum([visit_vars[pi][pN] for pi in pois if pi != pN]) == 1, 'EndAt_pN'\n",
    "    if p0 != pN:\n",
    "        pb += pulp.lpSum([visit_vars[pi][p0] for pi in pois]) == 0, 'NoIncoming_p0'\n",
    "        pb += pulp.lpSum([visit_vars[pN][pj] for pj in pois]) == 0, 'NoOutgoing_pN'\n",
    "    pb += pulp.lpSum([visit_vars[pi][pj] for pi in pois if pi != pN for pj in pois if pj != p0]) == L-1, 'Length'\n",
    "    for pk in [x for x in pois if x not in {p0, pN}]:\n",
    "        pb += pulp.lpSum([visit_vars[pi][pk] for pi in pois if pi != pN]) == \\\n",
    "              pulp.lpSum([visit_vars[pk][pj] for pj in pois if pj != p0]), 'ConnectedAt_' + pk\n",
    "        pb += pulp.lpSum([visit_vars[pi][pk] for pi in pois if pi != pN]) <= 1, 'Enter_' + pk + '_AtMostOnce'\n",
    "        pb += pulp.lpSum([visit_vars[pk][pj] for pj in pois if pj != p0]) <= 1, 'Leave_' + pk + '_AtMostOnce'\n",
    "    for pi in [x for x in pois if x != p0]:\n",
    "        for pj in [y for y in pois if y != p0]:\n",
    "            pb += dummy_vars[pi] - dummy_vars[pj] + 1 <= (N - 1) * (1 - visit_vars[pi][pj]), \\\n",
    "                    'SubTourElimination_' + pi + '_' + pj\n",
    "    #pb.writeLP(\"traj_tmp.lp\")\n",
    "    # solve problem\n",
    "    pb.solve(pulp.PULP_CBC_CMD(options=['-threads', '6', '-strategy', '1', '-maxIt', '2000000'])) # CBC\n",
    "    #gurobi_options = [('TimeLimit', '7200'), ('Threads', '8'), ('NodefileStart', '0.9'), ('Cuts', '2')]\n",
    "    #pb.solve(pulp.GUROBI_CMD(options=gurobi_options)) # GUROBI\n",
    "    visit_mat = pd.DataFrame(data=np.zeros((len(pois), len(pois)), dtype=np.float), index=pois, columns=pois)\n",
    "    for pi in pois:\n",
    "        for pj in pois: visit_mat.loc[pi, pj] = visit_vars[pi][pj].varValue\n",
    "\n",
    "    # build the recommended trajectory\n",
    "    recseq = [p0]\n",
    "    while True:\n",
    "        pi = recseq[-1]\n",
    "        pj = visit_mat.loc[pi].idxmax()\n",
    "        assert(round(visit_mat.loc[pi, pj]) == 1)\n",
    "        recseq.append(pj); \n",
    "        #print(recseq); sys.stdout.flush()\n",
    "        if pj == pN: return [int(x) for x in recseq]"
   ]
  },
  {
   "cell_type": "code",
   "execution_count": 124,
   "metadata": {
    "collapsed": false,
    "scrolled": true
   },
   "outputs": [
    {
     "name": "stdout",
     "output_type": "stream",
     "text": [
      "[13, 21, 2] #1 ->\n",
      "           [13, 20, 2]\n",
      "           [13, 20, 2]\n",
      "[2, 21, 16] #2 ->\n",
      "           [2, 21, 16]\n",
      "           [2, 21, 16]\n",
      "[28, 2, 13] #3 ->\n",
      "           [28, 21, 13]\n",
      "           [28, 21, 13]\n",
      "[2, 16, 1, 12, 21, 14] #4 ->\n",
      "           [2, 16, 21, 1, 21, 14]\n",
      "           [2, 16, 1, 21, 13, 14]\n",
      "[9, 10, 15] #5 ->\n",
      "           [9, 10, 15]\n",
      "           [9, 10, 15]\n",
      "[19, 11, 28] #6 ->\n",
      "           [19, 10, 28]\n",
      "           [19, 10, 28]\n",
      "[12, 1, 16, 21, 2] #7 ->\n",
      "           [12, 20, 1, 21, 2]\n",
      "           [12, 20, 1, 21, 2]\n",
      "[28, 11, 16] #8 ->\n",
      "           [28, 1, 16]\n",
      "           [28, 1, 16]\n",
      "[1, 2, 21] #9 ->\n",
      "           [1, 16, 21]\n",
      "           [1, 16, 21]\n",
      "[13, 2, 21, 16] #10 ->\n",
      "           [13, 20, 1, 16]\n",
      "           [13, 20, 1, 16]\n",
      "[9, 26, 2] #11 ->\n",
      "           [9, 26, 2]\n",
      "           [9, 26, 2]\n",
      "[1, 16, 2] #12 ->\n",
      "           [1, 21, 2]\n",
      "           [1, 21, 2]\n",
      "[16, 21, 26] #13 ->\n",
      "           [16, 25, 26]\n",
      "           [16, 25, 26]\n",
      "[17, 26, 27] #14 ->\n",
      "           [17, 26, 27]\n",
      "           [17, 26, 27]\n",
      "[15, 25, 26] #15 ->\n",
      "           [15, 21, 26]\n",
      "           [15, 21, 26]\n",
      "[1, 21, 2] #16 ->\n",
      "           [1, 21, 2]\n",
      "           [1, 21, 2]\n",
      "[26, 19, 2] #17 ->\n",
      "           [26, 16, 2]\n",
      "           [26, 16, 2]\n",
      "[21, 2, 11] #18 ->\n",
      "           [21, 20, 11]\n",
      "           [21, 20, 11]\n",
      "[25, 10, 12] #19 ->\n",
      "           [25, 26, 12]\n",
      "           [25, 26, 12]\n",
      "[11, 12, 26] #20 ->\n",
      "           [11, 16, 26]\n",
      "           [11, 16, 26]\n",
      "[28, 12, 20] #21 ->\n",
      "           [28, 16, 20]\n",
      "           [28, 16, 20]\n",
      "[21, 5, 2] #22 ->\n",
      "           [21, 16, 2]\n",
      "           [21, 16, 2]\n",
      "[2, 16, 1] #23 ->\n",
      "           [2, 21, 1]\n",
      "           [2, 21, 1]\n",
      "[21, 2, 16] #24 ->\n",
      "           [21, 1, 16]\n",
      "           [21, 1, 16]\n",
      "[2, 13, 22] #25 ->\n",
      "           [2, 21, 22]\n",
      "           [2, 21, 22]\n",
      "[1, 16, 2] #26 ->\n",
      "           [1, 21, 2]\n",
      "           [1, 21, 2]\n",
      "[16, 14, 13] #27 ->\n",
      "           [16, 21, 13]\n",
      "           [16, 21, 13]\n",
      "[1, 21, 16, 6] #28 ->\n",
      "           [1, 21, 13, 6]\n",
      "           [1, 21, 13, 6]\n",
      "[13, 20, 28] #29 ->\n",
      "           [13, 20, 28]\n",
      "           [13, 20, 28]\n",
      "[1, 16, 28] #30 ->\n",
      "           [1, 16, 28]\n",
      "           [1, 16, 28]\n",
      "[29, 28, 12] #31 ->\n",
      "           [29, 20, 12]\n",
      "           [29, 20, 12]\n",
      "[15, 10, 26, 25] #32 ->\n",
      "           [15, 25, 15, 25]\n",
      "           [15, 26, 10, 25]\n",
      "[10, 15, 25] #33 ->\n",
      "           [10, 26, 25]\n",
      "           [10, 26, 25]\n",
      "[25, 10, 9, 2] #34 ->\n",
      "           [25, 10, 19, 2]\n",
      "           [25, 10, 19, 2]\n",
      "[15, 10, 19] #35 ->\n",
      "           [15, 26, 19]\n",
      "           [15, 26, 19]\n",
      "[21, 16, 1, 26, 9, 10, 15] #36 ->\n",
      "           [21, 1, 21, 13, 20, 10, 15]\n",
      "           [21, 1, 16, 13, 20, 10, 15]\n",
      "[10, 9, 26] #37 ->\n",
      "           [10, 9, 26]\n",
      "           [10, 9, 26]\n",
      "[26, 13, 20] #38 ->\n",
      "           [26, 10, 20]\n",
      "           [26, 10, 20]\n",
      "[16, 2, 21] #39 ->\n",
      "           [16, 1, 21]\n",
      "           [16, 1, 21]\n",
      "[1, 21, 2] #40 ->\n",
      "           [1, 21, 2]\n",
      "           [1, 21, 2]\n",
      "[26, 10, 9] #41 ->\n",
      "           [26, 10, 9]\n",
      "           [26, 10, 9]\n",
      "[13, 28, 2, 26] #42 ->\n",
      "           [13, 20, 10, 26]\n",
      "           [13, 20, 10, 26]\n",
      "[1, 2, 20] #43 ->\n",
      "           [1, 16, 20]\n",
      "           [1, 16, 20]\n",
      "[2, 20, 26] #44 ->\n",
      "           [2, 16, 26]\n",
      "           [2, 16, 26]\n",
      "[13, 28, 12] #45 ->\n",
      "           [13, 20, 12]\n",
      "           [13, 20, 12]\n",
      "[16, 2, 21] #46 ->\n",
      "           [16, 1, 21]\n",
      "           [16, 1, 21]\n",
      "[9, 10, 15] #47 ->\n",
      "           [9, 10, 15]\n",
      "           [9, 10, 15]\n",
      "[9, 10, 1] #48 ->\n",
      "           [9, 16, 1]\n",
      "           [9, 16, 1]\n",
      "[1, 16, 2, 26, 6] #49 ->\n",
      "           [1, 21, 1, 21, 6]\n",
      "           [1, 16, 2, 21, 6]\n",
      "[10, 15, 11, 16, 21] #50 ->\n",
      "           [10, 16, 21, 1, 21]\n",
      "           [10, 20, 2, 16, 21]\n",
      "[2, 28, 12] #51 ->\n",
      "           [2, 21, 12]\n",
      "           [2, 21, 12]\n",
      "[13, 1, 11] #52 ->\n",
      "           [13, 20, 11]\n",
      "           [13, 20, 11]\n",
      "[19, 25, 26] #53 ->\n",
      "           [19, 10, 26]\n",
      "           [19, 10, 26]\n",
      "[8, 21, 16] #54 ->\n",
      "           [8, 21, 16]\n",
      "           [8, 21, 16]\n",
      "[15, 21, 12] #55 ->\n",
      "           [15, 26, 12]\n",
      "           [15, 26, 12]\n",
      "[20, 16, 2] #56 ->\n",
      "           [20, 21, 2]\n",
      "           [20, 21, 2]\n",
      "[20, 2, 16] #57 ->\n",
      "           [20, 1, 16]\n",
      "           [20, 1, 16]\n",
      "[21, 16, 20, 11] #58 ->\n",
      "           [21, 10, 20, 11]\n",
      "           [21, 10, 28, 11]\n",
      "[11, 20, 10] #59 ->\n",
      "           [11, 20, 10]\n",
      "           [11, 20, 10]\n",
      "[1, 16, 13] #60 ->\n",
      "           [1, 21, 13]\n",
      "           [1, 21, 13]\n",
      "[1, 16, 20] #61 ->\n",
      "           [1, 16, 20]\n",
      "           [1, 16, 20]\n",
      "[21, 16, 12, 20, 2] #62 ->\n",
      "           [21, 1, 16, 21, 2]\n",
      "           [21, 1, 16, 20, 2]\n",
      "[1, 21, 2] #63 ->\n",
      "           [1, 21, 2]\n",
      "           [1, 21, 2]\n",
      "[26, 10, 20] #64 ->\n",
      "           [26, 10, 20]\n",
      "           [26, 10, 20]\n",
      "[13, 2, 28] #65 ->\n",
      "           [13, 20, 28]\n",
      "           [13, 20, 28]\n",
      "[2, 21, 13] #66 ->\n",
      "           [2, 21, 13]\n",
      "           [2, 21, 13]\n",
      "[16, 21, 20] #67 ->\n",
      "           [16, 13, 20]\n",
      "           [16, 13, 20]\n",
      "[10, 12, 2] #68 ->\n",
      "           [10, 20, 2]\n",
      "           [10, 20, 2]\n",
      "[2, 16, 21] #69 ->\n",
      "           [2, 16, 21]\n",
      "           [2, 16, 21]\n",
      "[26, 9, 10, 1, 2] #70 ->\n",
      "           [26, 16, 1, 21, 2]\n",
      "           [26, 16, 1, 21, 2]\n",
      "[16, 20, 29, 1] #71 ->\n",
      "           [16, 1, 21, 1]\n",
      "           [16, 2, 21, 1]\n",
      "[16, 21, 2] #72 ->\n",
      "           [16, 21, 2]\n",
      "           [16, 21, 2]\n",
      "[27, 17, 26] #73 ->\n",
      "           [27, 10, 26]\n",
      "           [27, 10, 26]\n",
      "[26, 11, 28] #74 ->\n",
      "           [26, 10, 28]\n",
      "           [26, 10, 28]\n",
      "[13, 2, 21] #75 ->\n",
      "           [13, 20, 21]\n",
      "           [13, 20, 21]\n"
     ]
    }
   ],
   "source": [
    "if run_tran == True:\n",
    "    recdict_tran = dict()\n",
    "    cnt = 1\n",
    "    for i in range(len(trajid_set_all)):\n",
    "        tid = trajid_set_all[i]\n",
    "        t = extract_traj(tid, traj_all)\n",
    "        \n",
    "        # trajectory too short\n",
    "        if len(t) < 3: continue\n",
    "            \n",
    "        # TSP, generally an ILP very hard for solvers (GUROBI/CBC)\n",
    "        if t[0] == t[-1]: continue\n",
    "\n",
    "        if uspecific == True:\n",
    "            user = traj_user.loc[tid, 'userID']\n",
    "            trajid_set_user = traj_user[traj_user['userID'] == user].index.tolist()\n",
    "            trajid_set_other = traj_user[traj_user['userID'] != user].index.tolist()\n",
    "            assert(tid in trajid_set_user)\n",
    "            trajid_set_add = [x for x in trajid_set_user if x != tid]\n",
    "            trajid_list_train = trajid_set_other.copy()\n",
    "            assert(KX > 0)\n",
    "            for k in range(KX):\n",
    "                trajid_list_train = trajid_list_train + trajid_set_add\n",
    "        else:\n",
    "            trajid_list_train = trajid_set_all[:i] + trajid_set_all[i+1:]\n",
    "            \n",
    "        trajid_list_train.append(tid)  # make sure the start/end is in training set\n",
    "        poi_info = calc_poi_info(trajid_list_train, traj_all, poi_all)\n",
    "        \n",
    "        # trajectory too long\n",
    "        if len(t) > poi_info.shape[0]: continue\n",
    "            \n",
    "        # start/end is not in training set\n",
    "        #if not (t[0] in poi_info.index and t[-1] in poi_info.index): continue\n",
    "        \n",
    "        print(t, '#%d ->' % cnt); cnt += 1; sys.stdout.flush()\n",
    "        \n",
    "        poi_logtransmat = gen_poi_logtransmat(trajid_list_train, traj_all, poi_info)\n",
    "        nodes = poi_info.copy()\n",
    "        edges = poi_logtransmat.copy()\n",
    "        edges = -1 * edges  # edge weight is negative log of transition probability\n",
    "\n",
    "        # DP\n",
    "        rec_dp = find_path(nodes, edges, t[0], t[-1], len(t))\n",
    "\n",
    "        # ILP\n",
    "        rec_ilp = find_path_ILP(nodes, edges, t[0], t[-1], len(t))\n",
    "\n",
    "        recdict_tran[tid] = {'REAL':t, 'REC_DP':rec_dp, 'REC_ILP':rec_ilp}\n",
    "        print(' '*10, rec_dp)\n",
    "        print(' '*10, rec_ilp); sys.stdout.flush()"
   ]
  },
  {
   "cell_type": "code",
   "execution_count": 125,
   "metadata": {
    "collapsed": true
   },
   "outputs": [],
   "source": [
    "if run_tran == True:\n",
    "    pickle.dump(recdict_tran, open(frecdict_tran, 'bw'))"
   ]
  },
  {
   "cell_type": "code",
   "execution_count": 126,
   "metadata": {
    "collapsed": false
   },
   "outputs": [
    {
     "name": "stdout",
     "output_type": "stream",
     "text": [
      "DP : 0.742, 0.161\n",
      "ILP: 0.755, 0.157\n"
     ]
    }
   ],
   "source": [
    "if run_tran == True:\n",
    "    F11_tran = []\n",
    "    F12_tran = []\n",
    "    for tid in sorted(recdict_tran.keys()):\n",
    "        F11_tran.append(calc_F1(recdict_tran[tid]['REAL'], recdict_tran[tid]['REC_DP']))\n",
    "        F12_tran.append(calc_F1(recdict_tran[tid]['REAL'], recdict_tran[tid]['REC_ILP']))\n",
    "    print('DP : %.3f, %.3f' % (np.mean(F11_tran), np.std(F11_tran)))\n",
    "    print('ILP: %.3f, %.3f' % (np.mean(F12_tran), np.std(F12_tran)))"
   ]
  },
  {
   "cell_type": "markdown",
   "metadata": {},
   "source": [
    "<a id='sec4'></a>"
   ]
  },
  {
   "cell_type": "markdown",
   "metadata": {},
   "source": [
    "# 4. Combine POI Ranking with Factorised Markov Chain"
   ]
  },
  {
   "cell_type": "markdown",
   "metadata": {},
   "source": [
    "NOTE that:\n",
    "- Ranking is over POIs (in POI space)\n",
    "- Transition probabilities of Markov Chain of POI features (in POI feature space)"
   ]
  },
  {
   "cell_type": "markdown",
   "metadata": {},
   "source": [
    "Two approaches to combine ranking with MC:\n",
    "- recommend trajectory in POI space: \n",
    "  - transform transition matrix of feature vector into transition matrix of POIs,\n",
    "  - recommend a sequence of POIs.\n",
    "- recommend trajectory in POI feature space: \n",
    "  - transform ranking probability of POIs into ranking probability of POI features,\n",
    "  - recommend a sequence of features, \n",
    "  - transform the squence of features into a sequence of POIs."
   ]
  },
  {
   "cell_type": "markdown",
   "metadata": {},
   "source": [
    "Here we implement the first approach, i.e., recommend trajectory in POI space."
   ]
  },
  {
   "cell_type": "markdown",
   "metadata": {},
   "source": [
    "Two methods for recommendation:\n",
    "- find a simple path with maximum objective in a digraph. (by negating log probabilities, it can be reduced to a finding shortest path will $k$-edges, which is probably NP-hard as it is the same as TSP when $L=|P|$, dynamic programming can be used for non-simple path.)\n",
    "- make greedy choice (of POI or POI feature vector) step-by-step"
   ]
  },
  {
   "cell_type": "markdown",
   "metadata": {},
   "source": [
    "Here we use dynamic programming to find a possibly non-simple path and use ILP to find a simple path."
   ]
  },
  {
   "cell_type": "code",
   "execution_count": 127,
   "metadata": {
    "collapsed": false,
    "scrolled": true
   },
   "outputs": [
    {
     "name": "stdout",
     "output_type": "stream",
     "text": [
      "[13, 21, 2] #1 ->\n",
      "           [13, 20, 2]\n",
      "           [13, 20, 2]\n",
      "[2, 21, 16] #2 ->\n",
      "           [2, 21, 16]\n",
      "           [2, 21, 16]\n",
      "[28, 2, 13] #3 ->\n",
      "           [28, 21, 13]\n",
      "           [28, 21, 13]\n",
      "[2, 16, 1, 12, 21, 14] #4 ->\n",
      "           [2, 21, 2, 21, 2, 14]\n",
      "           [2, 16, 20, 1, 21, 14]\n",
      "[9, 10, 15] #5 ->\n",
      "           [9, 10, 15]\n",
      "           [9, 10, 15]\n",
      "[19, 11, 28] #6 ->\n",
      "           [19, 10, 28]\n",
      "           [19, 10, 28]\n",
      "[12, 1, 16, 21, 2] #7 ->\n",
      "           [12, 16, 2, 21, 2]\n",
      "           [12, 16, 1, 21, 2]\n",
      "[28, 11, 16] #8 ->\n",
      "           [28, 2, 16]\n",
      "           [28, 2, 16]\n",
      "[1, 2, 21] #9 ->\n",
      "           [1, 16, 21]\n",
      "           [1, 16, 21]\n",
      "[13, 2, 21, 16] #10 ->\n",
      "           [13, 20, 2, 16]\n",
      "           [13, 20, 2, 16]\n",
      "[9, 26, 2] #11 ->\n",
      "           [9, 26, 2]\n",
      "           [9, 26, 2]\n",
      "[1, 16, 2] #12 ->\n",
      "           [1, 21, 2]\n",
      "           [1, 21, 2]\n",
      "[16, 21, 26] #13 ->\n",
      "           [16, 2, 26]\n",
      "           [16, 2, 26]\n",
      "[17, 26, 27] #14 ->\n",
      "           [17, 10, 27]\n",
      "           [17, 10, 27]\n",
      "[15, 25, 26] #15 ->\n",
      "           [15, 10, 26]\n",
      "           [15, 10, 26]\n",
      "[1, 21, 2] #16 ->\n",
      "           [1, 21, 2]\n",
      "           [1, 21, 2]\n",
      "[26, 19, 2] #17 ->\n",
      "           [26, 16, 2]\n",
      "           [26, 16, 2]\n",
      "[21, 2, 11] #18 ->\n",
      "           [21, 16, 11]\n",
      "           [21, 16, 11]\n",
      "[25, 10, 12] #19 ->\n",
      "           [25, 10, 12]\n",
      "           [25, 10, 12]\n",
      "[11, 12, 26] #20 ->\n",
      "           [11, 16, 26]\n",
      "           [11, 16, 26]\n",
      "[28, 12, 20] #21 ->\n",
      "           [28, 2, 20]\n",
      "           [28, 2, 20]\n",
      "[21, 5, 2] #22 ->\n",
      "           [21, 16, 2]\n",
      "           [21, 16, 2]\n",
      "[2, 16, 1] #23 ->\n",
      "           [2, 21, 1]\n",
      "           [2, 21, 1]\n",
      "[21, 2, 16] #24 ->\n",
      "           [21, 2, 16]\n",
      "           [21, 2, 16]\n",
      "[2, 13, 22] #25 ->\n",
      "           [2, 21, 22]\n",
      "           [2, 21, 22]\n",
      "[1, 16, 2] #26 ->\n",
      "           [1, 21, 2]\n",
      "           [1, 21, 2]\n",
      "[16, 14, 13] #27 ->\n",
      "           [16, 21, 13]\n",
      "           [16, 21, 13]\n",
      "[1, 21, 16, 6] #28 ->\n",
      "           [1, 16, 21, 6]\n",
      "           [1, 16, 21, 6]\n",
      "[13, 20, 28] #29 ->\n",
      "           [13, 20, 28]\n",
      "           [13, 20, 28]\n",
      "[1, 16, 28] #30 ->\n",
      "           [1, 16, 28]\n",
      "           [1, 16, 28]\n",
      "[29, 28, 12] #31 ->\n",
      "           [29, 2, 12]\n",
      "           [29, 2, 12]\n",
      "[15, 10, 26, 25] #32 ->\n",
      "           [15, 26, 10, 25]\n",
      "           [15, 26, 10, 25]\n",
      "[10, 15, 25] #33 ->\n",
      "           [10, 26, 25]\n",
      "           [10, 26, 25]\n",
      "[25, 10, 9, 2] #34 ->\n",
      "           [25, 10, 16, 2]\n",
      "           [25, 10, 16, 2]\n",
      "[15, 10, 19] #35 ->\n",
      "           [15, 10, 19]\n",
      "           [15, 10, 19]\n",
      "[21, 16, 1, 26, 9, 10, 15] #36 ->\n",
      "           [21, 2, 21, 2, 21, 2, 15]\n",
      "           [21, 2, 16, 1, 20, 10, 15]\n",
      "[10, 9, 26] #37 ->\n",
      "           [10, 9, 26]\n",
      "           [10, 9, 26]\n",
      "[26, 13, 20] #38 ->\n",
      "           [26, 10, 20]\n",
      "           [26, 10, 20]\n",
      "[16, 2, 21] #39 ->\n",
      "           [16, 2, 21]\n",
      "           [16, 2, 21]\n",
      "[1, 21, 2] #40 ->\n",
      "           [1, 21, 2]\n",
      "           [1, 21, 2]\n",
      "[26, 10, 9] #41 ->\n",
      "           [26, 10, 9]\n",
      "           [26, 10, 9]\n",
      "[13, 28, 2, 26] #42 ->\n",
      "           [13, 2, 16, 26]\n",
      "           [13, 2, 16, 26]\n",
      "[1, 2, 20] #43 ->\n",
      "           [1, 16, 20]\n",
      "           [1, 16, 20]\n",
      "[2, 20, 26] #44 ->\n",
      "           [2, 16, 26]\n",
      "           [2, 16, 26]\n",
      "[13, 28, 12] #45 ->\n",
      "           [13, 20, 12]\n",
      "           [13, 20, 12]\n",
      "[16, 2, 21] #46 ->\n",
      "           [16, 2, 21]\n",
      "           [16, 2, 21]\n",
      "[9, 10, 15] #47 ->\n",
      "           [9, 10, 15]\n",
      "           [9, 10, 15]\n",
      "[9, 10, 1] #48 ->\n",
      "           [9, 10, 1]\n",
      "           [9, 10, 1]\n",
      "[1, 16, 2, 26, 6] #49 ->\n",
      "           [1, 21, 2, 21, 6]\n",
      "           [1, 21, 2, 16, 6]\n",
      "[10, 15, 11, 16, 21] #50 ->\n",
      "           [10, 26, 10, 26, 21]\n",
      "           [10, 26, 16, 2, 21]\n",
      "[2, 28, 12] #51 ->\n",
      "           [2, 21, 12]\n",
      "           [2, 21, 12]\n",
      "[13, 1, 11] #52 ->\n",
      "           [13, 20, 11]\n",
      "           [13, 20, 11]\n",
      "[19, 25, 26] #53 ->\n",
      "           [19, 10, 26]\n",
      "           [19, 10, 26]\n",
      "[8, 21, 16] #54 ->\n",
      "           [8, 21, 16]\n",
      "           [8, 21, 16]\n",
      "[15, 21, 12] #55 ->\n",
      "           [15, 26, 12]\n",
      "           [15, 26, 12]\n",
      "[20, 16, 2] #56 ->\n",
      "           [20, 21, 2]\n",
      "           [20, 21, 2]\n",
      "[20, 2, 16] #57 ->\n",
      "           [20, 2, 16]\n",
      "           [20, 2, 16]\n",
      "[21, 16, 20, 11] #58 ->\n",
      "           [21, 2, 21, 11]\n",
      "           [21, 2, 16, 11]\n",
      "[11, 20, 10] #59 ->\n",
      "           [11, 20, 10]\n",
      "           [11, 20, 10]\n",
      "[1, 16, 13] #60 ->\n",
      "           [1, 21, 13]\n",
      "           [1, 21, 13]\n",
      "[1, 16, 20] #61 ->\n",
      "           [1, 16, 20]\n",
      "           [1, 16, 20]\n",
      "[21, 16, 12, 20, 2] #62 ->\n",
      "           [21, 2, 16, 21, 2]\n",
      "           [21, 1, 16, 20, 2]\n",
      "[1, 21, 2] #63 ->\n",
      "           [1, 21, 2]\n",
      "           [1, 21, 2]\n",
      "[26, 10, 20] #64 ->\n",
      "           [26, 10, 20]\n",
      "           [26, 10, 20]\n",
      "[13, 2, 28] #65 ->\n",
      "           [13, 20, 28]\n",
      "           [13, 20, 28]\n",
      "[2, 21, 13] #66 ->\n",
      "           [2, 21, 13]\n",
      "           [2, 21, 13]\n",
      "[16, 21, 20] #67 ->\n",
      "           [16, 2, 20]\n",
      "           [16, 2, 20]\n",
      "[10, 12, 2] #68 ->\n",
      "           [10, 16, 2]\n",
      "           [10, 16, 2]\n",
      "[2, 16, 21] #69 ->\n",
      "           [2, 16, 21]\n",
      "           [2, 16, 21]\n",
      "[26, 9, 10, 1, 2] #70 ->\n",
      "           [26, 10, 26, 16, 2]\n",
      "           [26, 10, 16, 21, 2]\n",
      "[16, 20, 29, 1] #71 ->\n",
      "           [16, 2, 21, 1]\n",
      "           [16, 2, 21, 1]\n",
      "[16, 21, 2] #72 ->\n",
      "           [16, 21, 2]\n",
      "           [16, 21, 2]\n",
      "[27, 17, 26] #73 ->\n",
      "           [27, 10, 26]\n",
      "           [27, 10, 26]\n",
      "[26, 11, 28] #74 ->\n",
      "           [26, 10, 28]\n",
      "           [26, 10, 28]\n",
      "[13, 2, 21] #75 ->\n",
      "           [13, 2, 21]\n",
      "           [13, 2, 21]\n"
     ]
    }
   ],
   "source": [
    "if run_comb == True:\n",
    "    recdict_comb = dict()\n",
    "    cnt = 1\n",
    "    for i in range(len(trajid_set_all)):\n",
    "        tid = trajid_set_all[i]\n",
    "        t = extract_traj(tid, traj_all)\n",
    "        \n",
    "        # trajectory too short\n",
    "        if len(t) < 3: continue\n",
    "        \n",
    "        # TSP, generally an ILP very hard for solvers (GUROBI/CBC)\n",
    "        if t[0] == t[-1]: continue\n",
    "\n",
    "        if uspecific == True:\n",
    "            user = traj_user.loc[tid, 'userID']\n",
    "            trajid_set_user = traj_user[traj_user['userID'] == user].index.tolist()\n",
    "            trajid_set_other = traj_user[traj_user['userID'] != user].index.tolist()\n",
    "            assert(tid in trajid_set_user)\n",
    "            trajid_set_add = [x for x in trajid_set_user if x != tid]\n",
    "            trajid_list_train = trajid_set_other.copy()\n",
    "            assert(KX > 0)\n",
    "            for k in range(KX):\n",
    "                trajid_list_train = trajid_list_train + trajid_set_add\n",
    "        else:\n",
    "            trajid_list_train = trajid_set_all[:i] + trajid_set_all[i+1:]\n",
    "\n",
    "        trajid_list_train.append(tid)  # make sure the start/end is in training set\n",
    "        poi_info = calc_poi_info(trajid_list_train, traj_all, poi_all)\n",
    "        \n",
    "        # trajectory too long\n",
    "        if len(t) > poi_info.shape[0]: continue\n",
    "            \n",
    "        # start/end is not in training set\n",
    "        #if not (t[0] in poi_info.index and t[-1] in poi_info.index): continue\n",
    "        \n",
    "        print(t, '#%d ->' % cnt); cnt += 1; sys.stdout.flush()\n",
    "        \n",
    "        train_df = gen_train_df(trajid_list_train, df_columns, traj_all, poi_info, query_id_dict)\n",
    "        ranksvm = RankSVM(ranksvm_dir, useLinear=True)\n",
    "        ranksvm.train(train_df)\n",
    "        test_df = gen_test_df(t[0], t[-1], len(t), df_columns, poi_info, query_id_dict)\n",
    "        rank_df = ranksvm.predict(test_df)\n",
    "        rank_df.set_index('poiID', inplace=True)\n",
    "\n",
    "        nodes = rank_df.copy()\n",
    "        nodes['weight'] = -np.log(nodes['probability'])  # node weight is negative log of ranking probability\n",
    "        nodes.drop('probability', axis=1, inplace=True)\n",
    "        edges = poi_logtransmat.copy()\n",
    "        edges = -1 * edges  # edge weight is negative log of transition probability\n",
    "\n",
    "        # DP\n",
    "        rec_dp = find_path(nodes, edges, t[0], t[-1], len(t), withNodeWeight=True, alpha=ALPHA)\n",
    "\n",
    "        # ILP\n",
    "        rec_ilp = find_path_ILP(nodes, edges, t[0], t[-1], len(t), withNodeWeight=True, alpha=ALPHA)\n",
    "\n",
    "        recdict_comb[tid] = {'REAL':t, 'REC_DP':rec_dp, 'REC_ILP':rec_ilp} # save recommended trajectories\n",
    "        print(' '*10, rec_dp)\n",
    "        print(' '*10, rec_ilp); sys.stdout.flush()   "
   ]
  },
  {
   "cell_type": "code",
   "execution_count": 128,
   "metadata": {
    "collapsed": true
   },
   "outputs": [],
   "source": [
    "if run_comb == True:\n",
    "    pickle.dump(recdict_comb, open(frecdict_comb, 'bw'))"
   ]
  },
  {
   "cell_type": "code",
   "execution_count": 129,
   "metadata": {
    "collapsed": false
   },
   "outputs": [
    {
     "name": "stdout",
     "output_type": "stream",
     "text": [
      "DP : 0.778, 0.184\n",
      "ILP: 0.802, 0.162\n"
     ]
    }
   ],
   "source": [
    "if run_comb == True:\n",
    "    F11_comb = []\n",
    "    F12_comb = []\n",
    "    for tid in sorted(recdict_comb.keys()):\n",
    "        F11_comb.append(calc_F1(recdict_comb[tid]['REAL'], recdict_comb[tid]['REC_DP']))\n",
    "        F12_comb.append(calc_F1(recdict_comb[tid]['REAL'], recdict_comb[tid]['REC_ILP']))\n",
    "    print('DP : %.3f, %.3f' % (np.mean(F11_comb), np.std(F11_comb)))\n",
    "    print('ILP: %.3f, %.3f' % (np.mean(F12_comb), np.std(F12_comb)))"
   ]
  },
  {
   "cell_type": "markdown",
   "metadata": {},
   "source": [
    "<a id='sec5'></a>"
   ]
  },
  {
   "cell_type": "markdown",
   "metadata": {},
   "source": [
    "# 5. Comparison"
   ]
  },
  {
   "cell_type": "markdown",
   "metadata": {},
   "source": [
    "Random guessing."
   ]
  },
  {
   "cell_type": "code",
   "execution_count": 130,
   "metadata": {
    "collapsed": true
   },
   "outputs": [],
   "source": [
    "from scipy.misc import comb\n",
    "from math import factorial\n",
    "def rand_guess(npoi, length):\n",
    "    assert(length <= npoi)\n",
    "    if length == npoi: return 1\n",
    "    N = npoi - 2\n",
    "    m = length - 2 # number of correct POIs\n",
    "    k = m\n",
    "    expected_F1 = 0\n",
    "    while k >= 0:\n",
    "        F1 = (k + 2) / length\n",
    "        prob = comb(m, k) * comb(N-m, m-k) / comb(N, m)\n",
    "        expected_F1 += prob * F1\n",
    "        k -= 1\n",
    "    return expected_F1"
   ]
  },
  {
   "cell_type": "markdown",
   "metadata": {},
   "source": [
    "Sanity check."
   ]
  },
  {
   "cell_type": "code",
   "execution_count": 131,
   "metadata": {
    "collapsed": false
   },
   "outputs": [
    {
     "data": {
      "text/plain": [
       "0.5"
      ]
     },
     "execution_count": 131,
     "metadata": {},
     "output_type": "execute_result"
    }
   ],
   "source": [
    "rand_guess(20, 5)"
   ]
  }
 ],
 "metadata": {
  "kernelspec": {
   "display_name": "Python 3",
   "language": "python",
   "name": "python3"
  },
  "language_info": {
   "codemirror_mode": {
    "name": "ipython",
    "version": 3
   },
   "file_extension": ".py",
   "mimetype": "text/x-python",
   "name": "python",
   "nbconvert_exporter": "python",
   "pygments_lexer": "ipython3",
   "version": "3.5.1"
  }
 },
 "nbformat": 4,
 "nbformat_minor": 0
}
