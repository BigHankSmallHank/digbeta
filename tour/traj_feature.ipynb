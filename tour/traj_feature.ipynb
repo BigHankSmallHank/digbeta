{
 "cells": [
  {
   "cell_type": "markdown",
   "metadata": {},
   "source": [
    "Features for Trajectory Recommendation\n",
    "====="
   ]
  },
  {
   "cell_type": "markdown",
   "metadata": {},
   "source": [
    "1. [Features](#sec1)\n",
    "1. [Load Data](#sec2)\n",
    "  1. [Compute POI Info](#sec2.1)\n",
    "  1. [Construct Travelling Sequences](#sec2.2)\n",
    "  1. [Compute Some Sequence Statistics](#sec2.3)\n",
    "1. [Compute Transition Probabilities](#sec3)\n",
    "  1. [Basic Definitions](#sec3.1)\n",
    "  1. [Transition Probabilities between POI Categories](#sec3.2)\n",
    "  1. [Transition Probabilities between POI Popularity Classes](#sec3.3)\n",
    "  1. [Transition Probabilities between POI Pair Distance Classes](#sec3.4)\n",
    "1. [Compute Trajectory Likelihood (For tuning the discretization strategy)](#sec4)\n",
    "  1. [Log Likelihood of Actual Trajectories](#sec4.1)\n",
    "  1. [Log Likelihood of Enumerated Trajectories](#sec4.2)\n",
    "  1. [Compare the Log Likelihood of Actual and Enumerated Trajectories](#sec4.3)\n",
    "  1. [Compute the F1-score of Enumerated Trajectories](#sec4.4)"
   ]
  },
  {
   "cell_type": "markdown",
   "metadata": {},
   "source": [
    "<a id='sec1'></a>"
   ]
  },
  {
   "cell_type": "markdown",
   "metadata": {},
   "source": [
    "# 1. Features"
   ]
  },
  {
   "cell_type": "markdown",
   "metadata": {},
   "source": [
    "### POI Features ?\n",
    "1. POI category\n",
    "1. POI popularity\n",
    "1. POI location\n",
    "\n",
    "### Transition Features\n",
    "1. POI category (a transition matrix between different categories)\n",
    "1. POI popularity (a transition matrix between different class of popularity)\n",
    "1. POI pair distance (a transition matrix between different class of distance)\n",
    "\n",
    "### Computation Steps\n",
    "1. First compute the above features using a set of travelling sequences,\n",
    "1. Then compute the log likelihood of (actual/enumerated) sequences using POI category/popularity transition matrix and POI pair distance transition matrix and make comparison."
   ]
  },
  {
   "cell_type": "markdown",
   "metadata": {},
   "source": [
    "<a id='sec2'></a>"
   ]
  },
  {
   "cell_type": "markdown",
   "metadata": {},
   "source": [
    "# 2. Load Data"
   ]
  },
  {
   "cell_type": "code",
   "execution_count": 3,
   "metadata": {
    "collapsed": false
   },
   "outputs": [],
   "source": [
    "%matplotlib inline\n",
    "\n",
    "import os\n",
    "import re\n",
    "import math\n",
    "import random\n",
    "import pickle\n",
    "import pandas as pd\n",
    "import numpy as np\n",
    "import scipy.stats\n",
    "#from numba import jit\n",
    "from datetime import datetime\n",
    "from joblib import Parallel, delayed\n",
    "import matplotlib.pyplot as plt"
   ]
  },
  {
   "cell_type": "code",
   "execution_count": 3,
   "metadata": {
    "collapsed": false
   },
   "outputs": [],
   "source": [
    "nfeatures = 8 # number of features\n",
    "EPS = 1e-12 # smooth, deal with 0 probability\n",
    "random.seed(123456789) # control random choice when splitting training/testing set\n",
    "np.random.seed(123456789)"
   ]
  },
  {
   "cell_type": "code",
   "execution_count": 103,
   "metadata": {
    "collapsed": false
   },
   "outputs": [],
   "source": [
    "data_dir = 'data/data-ijcai15'\n",
    "#fvisit = os.path.join(data_dir, 'userVisits-Osak.csv')\n",
    "#fcoord = os.path.join(data_dir, 'photoCoords-Osak.csv')\n",
    "#fvisit = os.path.join(data_dir, 'userVisits-Glas.csv')\n",
    "#fcoord = os.path.join(data_dir, 'photoCoords-Glas.csv')\n",
    "#fvisit = os.path.join(data_dir, 'userVisits-Edin.csv')\n",
    "#fcoord = os.path.join(data_dir, 'photoCoords-Edin.csv')\n",
    "fvisit = os.path.join(data_dir, 'userVisits-Toro.csv')\n",
    "fcoord = os.path.join(data_dir, 'photoCoords-Toro.csv')"
   ]
  },
  {
   "cell_type": "code",
   "execution_count": 104,
   "metadata": {
    "collapsed": false
   },
   "outputs": [],
   "source": [
    "suffix = fvisit.split('-')[-1].split('.')[0]"
   ]
  },
  {
   "cell_type": "code",
   "execution_count": 105,
   "metadata": {
    "collapsed": false
   },
   "outputs": [
    {
     "data": {
      "text/html": [
       "<div>\n",
       "<table border=\"1\" class=\"dataframe\">\n",
       "  <thead>\n",
       "    <tr style=\"text-align: right;\">\n",
       "      <th></th>\n",
       "      <th>photoID</th>\n",
       "      <th>userID</th>\n",
       "      <th>dateTaken</th>\n",
       "      <th>poiID</th>\n",
       "      <th>poiTheme</th>\n",
       "      <th>poiFreq</th>\n",
       "      <th>seqID</th>\n",
       "      <th>photoLon</th>\n",
       "      <th>photoLat</th>\n",
       "    </tr>\n",
       "  </thead>\n",
       "  <tbody>\n",
       "    <tr>\n",
       "      <th>0</th>\n",
       "      <td>7941504100</td>\n",
       "      <td>10007579@N00</td>\n",
       "      <td>1346844688</td>\n",
       "      <td>30</td>\n",
       "      <td>Structure</td>\n",
       "      <td>1538</td>\n",
       "      <td>1</td>\n",
       "      <td>-79.380844</td>\n",
       "      <td>43.645641</td>\n",
       "    </tr>\n",
       "    <tr>\n",
       "      <th>1</th>\n",
       "      <td>4886005532</td>\n",
       "      <td>10012675@N05</td>\n",
       "      <td>1142731848</td>\n",
       "      <td>6</td>\n",
       "      <td>Cultural</td>\n",
       "      <td>986</td>\n",
       "      <td>2</td>\n",
       "      <td>-79.391525</td>\n",
       "      <td>43.654335</td>\n",
       "    </tr>\n",
       "    <tr>\n",
       "      <th>2</th>\n",
       "      <td>4886006468</td>\n",
       "      <td>10012675@N05</td>\n",
       "      <td>1142732248</td>\n",
       "      <td>6</td>\n",
       "      <td>Cultural</td>\n",
       "      <td>986</td>\n",
       "      <td>2</td>\n",
       "      <td>-79.391525</td>\n",
       "      <td>43.654335</td>\n",
       "    </tr>\n",
       "    <tr>\n",
       "      <th>3</th>\n",
       "      <td>4885404441</td>\n",
       "      <td>10012675@N05</td>\n",
       "      <td>1142732373</td>\n",
       "      <td>6</td>\n",
       "      <td>Cultural</td>\n",
       "      <td>986</td>\n",
       "      <td>2</td>\n",
       "      <td>-79.391525</td>\n",
       "      <td>43.654335</td>\n",
       "    </tr>\n",
       "    <tr>\n",
       "      <th>4</th>\n",
       "      <td>4886008334</td>\n",
       "      <td>10012675@N05</td>\n",
       "      <td>1142732445</td>\n",
       "      <td>6</td>\n",
       "      <td>Cultural</td>\n",
       "      <td>986</td>\n",
       "      <td>2</td>\n",
       "      <td>-79.391525</td>\n",
       "      <td>43.654335</td>\n",
       "    </tr>\n",
       "  </tbody>\n",
       "</table>\n",
       "</div>"
      ],
      "text/plain": [
       "      photoID        userID   dateTaken  poiID   poiTheme  poiFreq  seqID  \\\n",
       "0  7941504100  10007579@N00  1346844688     30  Structure     1538      1   \n",
       "1  4886005532  10012675@N05  1142731848      6   Cultural      986      2   \n",
       "2  4886006468  10012675@N05  1142732248      6   Cultural      986      2   \n",
       "3  4885404441  10012675@N05  1142732373      6   Cultural      986      2   \n",
       "4  4886008334  10012675@N05  1142732445      6   Cultural      986      2   \n",
       "\n",
       "    photoLon   photoLat  \n",
       "0 -79.380844  43.645641  \n",
       "1 -79.391525  43.654335  \n",
       "2 -79.391525  43.654335  \n",
       "3 -79.391525  43.654335  \n",
       "4 -79.391525  43.654335  "
      ]
     },
     "execution_count": 105,
     "metadata": {},
     "output_type": "execute_result"
    }
   ],
   "source": [
    "visits = pd.read_csv(fvisit, sep=';')\n",
    "coords = pd.read_csv(fcoord, sep=';')\n",
    "# merge data frames according to column 'photoID'\n",
    "assert(visits.shape[0] == coords.shape[0])\n",
    "traj = pd.merge(visits, coords, on='photoID')\n",
    "traj.head()"
   ]
  },
  {
   "cell_type": "code",
   "execution_count": 106,
   "metadata": {
    "collapsed": false
   },
   "outputs": [
    {
     "data": {
      "text/html": [
       "<div>\n",
       "<table border=\"1\" class=\"dataframe\">\n",
       "  <thead>\n",
       "    <tr style=\"text-align: right;\">\n",
       "      <th></th>\n",
       "      <th>#photo</th>\n",
       "      <th>#photo/user</th>\n",
       "      <th>#poi</th>\n",
       "      <th>#seq</th>\n",
       "      <th>#seq/user</th>\n",
       "      <th>#user</th>\n",
       "    </tr>\n",
       "  </thead>\n",
       "  <tbody>\n",
       "    <tr>\n",
       "      <th>Toro</th>\n",
       "      <td>39419</td>\n",
       "      <td>28.257348</td>\n",
       "      <td>29</td>\n",
       "      <td>6057</td>\n",
       "      <td>4.341935</td>\n",
       "      <td>1395</td>\n",
       "    </tr>\n",
       "  </tbody>\n",
       "</table>\n",
       "</div>"
      ],
      "text/plain": [
       "      #photo  #photo/user  #poi  #seq  #seq/user  #user\n",
       "Toro   39419    28.257348    29  6057   4.341935   1395"
      ]
     },
     "execution_count": 106,
     "metadata": {},
     "output_type": "execute_result"
    }
   ],
   "source": [
    "num_photo = traj['photoID'].unique().shape[0]\n",
    "num_user = traj['userID'].unique().shape[0]\n",
    "num_poi = traj['poiID'].unique().shape[0]\n",
    "num_seq = traj['seqID'].unique().shape[0]\n",
    "pd.DataFrame({'#photo': num_photo, '#user': num_user, '#poi': num_poi, '#seq': num_seq, \\\n",
    "              '#photo/user': num_photo/num_user, '#seq/user': num_seq/num_user}, index=[str(suffix)])"
   ]
  },
  {
   "cell_type": "code",
   "execution_count": 107,
   "metadata": {
    "collapsed": false
   },
   "outputs": [],
   "source": [
    "#plt.figure(figsize=[15, 5])\n",
    "#plt.xlabel('Longitude')\n",
    "#plt.ylabel('Latitude')\n",
    "#plt.scatter(traj['photoLon'], traj['photoLat'], marker='+')"
   ]
  },
  {
   "cell_type": "markdown",
   "metadata": {},
   "source": [
    "<a id='sec2.1'></a>"
   ]
  },
  {
   "cell_type": "markdown",
   "metadata": {},
   "source": [
    "## 2.1 Compute POI Info"
   ]
  },
  {
   "cell_type": "markdown",
   "metadata": {},
   "source": [
    "Compute POI (Longitude, Latitude) as the average coordinates of the assigned photos."
   ]
  },
  {
   "cell_type": "code",
   "execution_count": 108,
   "metadata": {
    "collapsed": false
   },
   "outputs": [],
   "source": [
    "poi_coords = traj[['poiID', 'photoLon', 'photoLat']].groupby('poiID').mean()\n",
    "poi_coords.reset_index(inplace=True)\n",
    "poi_coords.rename(columns={'photoLon':'poiLon', 'photoLat':'poiLat'}, inplace=True)"
   ]
  },
  {
   "cell_type": "markdown",
   "metadata": {},
   "source": [
    "Extract POI category and visiting frequency."
   ]
  },
  {
   "cell_type": "code",
   "execution_count": 109,
   "metadata": {
    "collapsed": false
   },
   "outputs": [],
   "source": [
    "poi_catfreq = traj[['poiID', 'poiTheme', 'poiFreq']].groupby('poiID').first()\n",
    "poi_catfreq.reset_index(inplace=True)"
   ]
  },
  {
   "cell_type": "code",
   "execution_count": 110,
   "metadata": {
    "collapsed": false
   },
   "outputs": [],
   "source": [
    "poi_all = pd.merge(poi_catfreq, poi_coords, on='poiID')\n",
    "poi_all.set_index('poiID', inplace=True)\n",
    "#poi_all.to_csv(fpoi, index=True)"
   ]
  },
  {
   "cell_type": "markdown",
   "metadata": {},
   "source": [
    "<a id='sec2.2'></a>"
   ]
  },
  {
   "cell_type": "markdown",
   "metadata": {},
   "source": [
    "## 2.2 Construct Travelling Sequences"
   ]
  },
  {
   "cell_type": "code",
   "execution_count": 111,
   "metadata": {
    "collapsed": false
   },
   "outputs": [],
   "source": [
    "seq_all = traj[['userID', 'seqID', 'poiID', 'dateTaken']].copy().groupby(['userID', 'seqID', 'poiID'])\\\n",
    "          .agg([np.min, np.max, np.size])\n",
    "seq_all.columns = seq_all.columns.droplevel()\n",
    "seq_all.reset_index(inplace=True)\n",
    "seq_all.rename(columns={'amin':'arrivalTime', 'amax':'departureTime', 'size':'#photo'}, inplace=True)\n",
    "seq_all['poiDuration(sec)'] = seq_all['departureTime'] - seq_all['arrivalTime']\n",
    "#seq_all.head()"
   ]
  },
  {
   "cell_type": "code",
   "execution_count": 112,
   "metadata": {
    "collapsed": false
   },
   "outputs": [],
   "source": [
    "seq_user = seq_all[['userID', 'seqID', 'poiID']].copy().groupby(['userID', 'seqID']).agg(np.size)\n",
    "seq_user.reset_index(inplace=True)\n",
    "seq_user.rename(columns={'size':'seqLen'}, inplace=True)\n",
    "seq_user.set_index('seqID', inplace=True)\n",
    "#seq_user.head()"
   ]
  },
  {
   "cell_type": "markdown",
   "metadata": {},
   "source": [
    "<a id='sec2.3'></a>"
   ]
  },
  {
   "cell_type": "markdown",
   "metadata": {},
   "source": [
    "## 2.3 Compute Some Sequence Statistics"
   ]
  },
  {
   "cell_type": "code",
   "execution_count": 113,
   "metadata": {
    "collapsed": false
   },
   "outputs": [],
   "source": [
    "seq_len = seq_all[['seqID', 'poiID']].copy().groupby('seqID').agg(np.size)\n",
    "seq_len.reset_index(inplace=True)\n",
    "seq_len.rename(columns={'poiID':'seqLen'}, inplace=True)\n",
    "#seq_len.head()"
   ]
  },
  {
   "cell_type": "code",
   "execution_count": 114,
   "metadata": {
    "collapsed": false
   },
   "outputs": [],
   "source": [
    "seq_stats = seq_all[['seqID', '#photo', 'poiDuration(sec)']].copy().groupby('seqID').agg(np.sum)\n",
    "seq_stats.reset_index(inplace=True)\n",
    "#seq_stats.rename(columns={'poiDuration(sec)':'totalPoiDuration(sec)'}, inplace=True)\n",
    "seq_stats = pd.merge(seq_len, seq_stats, on='seqID')\n",
    "seq_stats['poiDuration(sec)'] /= 60\n",
    "seq_stats.rename(columns={'poiDuration(sec)':'totalPoiDuration(min)'}, inplace=True)\n",
    "seq_stats.set_index('seqID', inplace=True)\n",
    "#seq_stats.head()"
   ]
  },
  {
   "cell_type": "code",
   "execution_count": 115,
   "metadata": {
    "collapsed": false
   },
   "outputs": [],
   "source": [
    "#ax = seq_stats['seqLen'].hist(bins=50)\n",
    "#ax.set_xlabel('sequence length')\n",
    "#ax.set_ylim([0.1, 1e4])\n",
    "#ax.set_yscale('log')"
   ]
  },
  {
   "cell_type": "code",
   "execution_count": 116,
   "metadata": {
    "collapsed": false
   },
   "outputs": [],
   "source": [
    "#ax = seq_stats['#photo'].hist(bins=50)\n",
    "#ax.set_xlabel('#photo for sequence')\n",
    "#ax.set_ylim([0.1, 1e4])\n",
    "#ax.set_yscale('log')"
   ]
  },
  {
   "cell_type": "code",
   "execution_count": 117,
   "metadata": {
    "collapsed": false
   },
   "outputs": [],
   "source": [
    "#ax = seq_stats['totalPoiDuration(min)'].hist(bins=100)\n",
    "#ax.set_xlabel('totalPoiDuration(min)')\n",
    "#ax.set_ylim([0.1, 1e4])\n",
    "#ax.set_yscale('log')\n",
    "#ax.set_xscale('log')"
   ]
  },
  {
   "cell_type": "markdown",
   "metadata": {},
   "source": [
    "Sequences with length {3, 4, 5}"
   ]
  },
  {
   "cell_type": "code",
   "execution_count": 118,
   "metadata": {
    "collapsed": false
   },
   "outputs": [],
   "source": [
    "#seq_stats = seq_stats[seq_stats['seqLen'].isin({3, 4, 5})]\n",
    "#ax = seq_stats['totalPoiDuration(min)'].hist(bins=50)\n",
    "#ax.set_xlabel('totalPoiDuration(min)')\n",
    "#ax.set_ylim([0.1, 1e4])\n",
    "#ax.set_yscale('log')"
   ]
  },
  {
   "cell_type": "code",
   "execution_count": 119,
   "metadata": {
    "collapsed": true
   },
   "outputs": [],
   "source": [
    "def extract_seq(seqid, seq_all):\n",
    "    seqi = seq_all[seq_all['seqID'] == seqid].copy()\n",
    "    seqi.sort(columns=['arrivalTime'], ascending=True, inplace=True)\n",
    "    return seqi['poiID'].tolist()"
   ]
  },
  {
   "cell_type": "markdown",
   "metadata": {},
   "source": [
    "<a id='sec3'></a>"
   ]
  },
  {
   "cell_type": "markdown",
   "metadata": {},
   "source": [
    "# 3. Compute Transition Probabilities"
   ]
  },
  {
   "cell_type": "markdown",
   "metadata": {},
   "source": [
    "<a id='sec3.1'></a>"
   ]
  },
  {
   "cell_type": "markdown",
   "metadata": {},
   "source": [
    "## 3.1 Basic Definitions"
   ]
  },
  {
   "cell_type": "markdown",
   "metadata": {},
   "source": [
    "- $\\text{Pr}(\\text{POI}_i \\to \\text{POI}_j)$: \n",
    "   the transition probability from $\\text{POI}_i$ to $\\text{POI }_j$\n",
    "- $\\text{Pr}(\\text{Cat}_i \\to \\text{Cat}_j)$:\n",
    "   the transition probability from a POI of category $\\text{Cat}_i$ to a POI of category $\\text{Cat}_j$\n",
    "- $\\text{Pr}(\\text{Pop}_i \\to \\text{Pop}_j)$:\n",
    "   the transition probability from a POI of Popularity class $\\text{Pop}_i$ to a POI of Popularity class $\\text{Pop}_j$\n",
    "- $\\text{Pr}(\\text{Dist}_i \\to \\text{Dist}_j)$:\n",
    "   the transition probability from a POI-POI pair with distance (between the two) class $\\text{Dist}_i$ to a POI-POI pair with distance (between the two) class $\\text{Dist}_j$"
   ]
  },
  {
   "cell_type": "markdown",
   "metadata": {},
   "source": [
    "By design, $\\text{Pr}(\\text{POI}_i \\to \\text{POI}_j)$ should be bigger \n",
    "if any of $\\text{Pr}(\\text{Cat}_i \\to \\text{Cat}_j)$, $\\text{Pr}(\\text{Pop}_i \\to \\text{Pop}_j)$ and\n",
    "$\\text{Pr}(\\text{Dist}_i \\to \\text{Dist}_j)$ becomes bigger (if other factors stay the same)."
   ]
  },
  {
   "cell_type": "markdown",
   "metadata": {},
   "source": [
    "So how to combine these probabilities?  \n",
    "Both addition and multiplication seems to be able to serve this purpose, what is the difference?"
   ]
  },
  {
   "cell_type": "markdown",
   "metadata": {},
   "source": [
    "### The Addition Case"
   ]
  },
  {
   "cell_type": "markdown",
   "metadata": {},
   "source": [
    "For the addtion case, \n",
    "\n",
    "\\begin{equation}\n",
    "\\text{Pr}(\\text{POI}_i \\to \\text{POI}_j) = \\frac{\n",
    "\\text{Pr}(\\text{Cat}_{\\text{POI}_i} \\to \\text{Cat}_{\\text{POI}_j}) + \n",
    "\\text{Pr}(\\text{Pop}_{\\text{POI}_i} \\to \\text{Pop}_{\\text{POI}_j}) + \n",
    "\\text{Pr}(\\text{Dist}_{\\text{POI}_{i-1} \\to \\text{POI}_i} \\to \\text{Dist}_{\\text{POI}_{i} \\to \\text{POI}_j})\n",
    "}\n",
    "{Z_i}\n",
    "\\end{equation}\n",
    "\n",
    "where $\\text{POI}_{i-1}$ is the direct predecessor of $\\text{POI}_i$ in a trajectory and $Z_i$ is a normalizing constant."
   ]
  },
  {
   "cell_type": "markdown",
   "metadata": {},
   "source": [
    "### The Multiplication Case"
   ]
  },
  {
   "cell_type": "markdown",
   "metadata": {},
   "source": [
    "For the multiplication case, \n",
    "\n",
    "\\begin{equation}\n",
    "\\text{Pr}(\\text{POI}_i \\to \\text{POI}_j) = \\frac{\n",
    "\\text{Pr}(\\text{Cat}_{\\text{POI}_i} \\to \\text{Cat}_{\\text{POI}_j}) \\times\n",
    "\\text{Pr}(\\text{Pop}_{\\text{POI}_i} \\to \\text{Pop}_{\\text{POI}_j}) \\times\n",
    "\\text{Pr}(\\text{Dist}_{\\text{POI}_{i-1} \\to \\text{POI}_i} \\to \\text{Dist}_{\\text{POI}_{i} \\to \\text{POI}_j})\n",
    "}\n",
    "{Z_i}\n",
    "\\end{equation}\n",
    "\n",
    "similarly, $\\text{POI}_{i-1}$ is the direct predecessor of $\\text{POI}_i$ in a trajectory and $Z_i$ is again a normalizing constant."
   ]
  },
  {
   "cell_type": "markdown",
   "metadata": {},
   "source": [
    "### The Difference between Addition and Multiplication"
   ]
  },
  {
   "cell_type": "markdown",
   "metadata": {},
   "source": [
    "It is important to note the fact that, by design, $\\text{Pr}(\\text{POI}_i \\to \\text{POI}_j)$ should be very small\n",
    "if any of $\\text{Pr}(\\text{Cat}_i \\to \\text{Cat}_j)$, $\\text{Pr}(\\text{Pop}_i \\to \\text{Pop}_j)$ and\n",
    "$\\text{Pr}(\\text{Dist}_i \\to \\text{Dist}_j)$ is very small, in the extreme case, if any of the three probabilities is $0$, then $\\text{Pr}(\\text{POI}_i \\to \\text{POI}_j)$ should be $0$\n",
    "because the event \"*Transition from POI$_i$ to POI$_j$*\" is impossible."
   ]
  },
  {
   "cell_type": "markdown",
   "metadata": {},
   "source": [
    "From the equation of the addition case, it is clear that the addition rule **contradicts** the above fact while the multiplication rule is **consistent** with it."
   ]
  },
  {
   "cell_type": "markdown",
   "metadata": {},
   "source": [
    "Intuitively, the addition rule could make an unlikely event become much more likely, specifically, \n",
    "make an impossible event become possible."
   ]
  },
  {
   "cell_type": "markdown",
   "metadata": {},
   "source": [
    "<a id='sec3.2'></a>"
   ]
  },
  {
   "cell_type": "markdown",
   "metadata": {},
   "source": [
    "## 3.2 Transition Probabilities between POI Categories"
   ]
  },
  {
   "cell_type": "markdown",
   "metadata": {},
   "source": [
    "We model transition probabilities between POI categories, i.e.\n",
    "$\\text{Pr}(\\text{Cat}_{\\text{POI}_i} \\to \\text{Cat}_{\\text{POI}_j})$."
   ]
  },
  {
   "cell_type": "markdown",
   "metadata": {},
   "source": [
    "We count the number of transition first, then normalise each row while taking care of zero by adding each cell a small number (i.e. $0.1$ times the minimum value of that row) if there exists a zero cell."
   ]
  },
  {
   "cell_type": "code",
   "execution_count": 120,
   "metadata": {
    "collapsed": true
   },
   "outputs": [],
   "source": [
    "def calc_poi_cat_transmat(seqid_set, poi_all, seq_all):\n",
    "    poi_cats = poi_all['poiTheme'].unique().tolist()\n",
    "    poi_cats.sort()\n",
    "    poi_cat_transmat = pd.DataFrame(data=np.zeros((len(poi_cats), len(poi_cats)), dtype=np.float), \\\n",
    "                                    index=poi_cats, columns=poi_cats)\n",
    "    for seqid in seqid_set:\n",
    "        seq = extract_seq(seqid, seq_all)\n",
    "        for j in range(len(seq)-1):\n",
    "            poi1 = seq[j]\n",
    "            poi2 = seq[j+1]\n",
    "            cat1 = poi_all.loc[poi1, 'poiTheme']\n",
    "            cat2 = poi_all.loc[poi2, 'poiTheme']\n",
    "            poi_cat_transmat.loc[cat1, cat2] += 1\n",
    "    return poi_cat_transmat"
   ]
  },
  {
   "cell_type": "code",
   "execution_count": 121,
   "metadata": {
    "collapsed": false
   },
   "outputs": [],
   "source": [
    "def normalise_transmat(transmat):\n",
    "    assert(isinstance(transmat, pd.DataFrame))\n",
    "    for row in range(transmat.index.shape[0]):\n",
    "        nonzeroidx = np.nonzero(transmat.iloc[row])[0].tolist()\n",
    "        if len(nonzeroidx) < transmat.columns.shape[0]:\n",
    "            minv = np.min(transmat.iloc[row, nonzeroidx])\n",
    "            EPS = 0.1 * minv  # row-specific smooth factor\n",
    "            #zeroidx = list(set(range(len(transmat.columns))) - set(nonzeroidx))\n",
    "            #transmat.iloc[row, zeroidx] = EPS\n",
    "            transmat.iloc[row] += EPS\n",
    "        rowsum = np.sum(transmat.iloc[row])\n",
    "        assert(rowsum > 0)\n",
    "        transmat.iloc[row] /= rowsum\n",
    "    return transmat        "
   ]
  },
  {
   "cell_type": "code",
   "execution_count": 122,
   "metadata": {
    "collapsed": false
   },
   "outputs": [
    {
     "data": {
      "text/html": [
       "<div>\n",
       "<table border=\"1\" class=\"dataframe\">\n",
       "  <thead>\n",
       "    <tr style=\"text-align: right;\">\n",
       "      <th></th>\n",
       "      <th>Amusement</th>\n",
       "      <th>Beach</th>\n",
       "      <th>Cultural</th>\n",
       "      <th>Shopping</th>\n",
       "      <th>Sport</th>\n",
       "      <th>Structure</th>\n",
       "    </tr>\n",
       "  </thead>\n",
       "  <tbody>\n",
       "    <tr>\n",
       "      <th>Amusement</th>\n",
       "      <td>14</td>\n",
       "      <td>20</td>\n",
       "      <td>51</td>\n",
       "      <td>17</td>\n",
       "      <td>35</td>\n",
       "      <td>16</td>\n",
       "    </tr>\n",
       "    <tr>\n",
       "      <th>Beach</th>\n",
       "      <td>18</td>\n",
       "      <td>43</td>\n",
       "      <td>61</td>\n",
       "      <td>92</td>\n",
       "      <td>19</td>\n",
       "      <td>106</td>\n",
       "    </tr>\n",
       "    <tr>\n",
       "      <th>Cultural</th>\n",
       "      <td>46</td>\n",
       "      <td>70</td>\n",
       "      <td>40</td>\n",
       "      <td>72</td>\n",
       "      <td>22</td>\n",
       "      <td>94</td>\n",
       "    </tr>\n",
       "    <tr>\n",
       "      <th>Shopping</th>\n",
       "      <td>16</td>\n",
       "      <td>101</td>\n",
       "      <td>58</td>\n",
       "      <td>16</td>\n",
       "      <td>19</td>\n",
       "      <td>71</td>\n",
       "    </tr>\n",
       "    <tr>\n",
       "      <th>Sport</th>\n",
       "      <td>42</td>\n",
       "      <td>23</td>\n",
       "      <td>21</td>\n",
       "      <td>13</td>\n",
       "      <td>8</td>\n",
       "      <td>21</td>\n",
       "    </tr>\n",
       "    <tr>\n",
       "      <th>Structure</th>\n",
       "      <td>26</td>\n",
       "      <td>91</td>\n",
       "      <td>81</td>\n",
       "      <td>59</td>\n",
       "      <td>24</td>\n",
       "      <td>24</td>\n",
       "    </tr>\n",
       "  </tbody>\n",
       "</table>\n",
       "</div>"
      ],
      "text/plain": [
       "           Amusement  Beach  Cultural  Shopping  Sport  Structure\n",
       "Amusement         14     20        51        17     35         16\n",
       "Beach             18     43        61        92     19        106\n",
       "Cultural          46     70        40        72     22         94\n",
       "Shopping          16    101        58        16     19         71\n",
       "Sport             42     23        21        13      8         21\n",
       "Structure         26     91        81        59     24         24"
      ]
     },
     "execution_count": 122,
     "metadata": {},
     "output_type": "execute_result"
    }
   ],
   "source": [
    "poi_cat_transmat = calc_poi_cat_transmat(seq_all['seqID'].unique(), poi_all, seq_all)\n",
    "poi_cat_transmat"
   ]
  },
  {
   "cell_type": "code",
   "execution_count": 123,
   "metadata": {
    "collapsed": false
   },
   "outputs": [
    {
     "data": {
      "text/html": [
       "<div>\n",
       "<table border=\"1\" class=\"dataframe\">\n",
       "  <thead>\n",
       "    <tr style=\"text-align: right;\">\n",
       "      <th></th>\n",
       "      <th>Amusement</th>\n",
       "      <th>Beach</th>\n",
       "      <th>Cultural</th>\n",
       "      <th>Shopping</th>\n",
       "      <th>Sport</th>\n",
       "      <th>Structure</th>\n",
       "    </tr>\n",
       "  </thead>\n",
       "  <tbody>\n",
       "    <tr>\n",
       "      <th>Amusement</th>\n",
       "      <td>0.091503</td>\n",
       "      <td>0.130719</td>\n",
       "      <td>0.333333</td>\n",
       "      <td>0.111111</td>\n",
       "      <td>0.228758</td>\n",
       "      <td>0.104575</td>\n",
       "    </tr>\n",
       "    <tr>\n",
       "      <th>Beach</th>\n",
       "      <td>0.053097</td>\n",
       "      <td>0.126844</td>\n",
       "      <td>0.179941</td>\n",
       "      <td>0.271386</td>\n",
       "      <td>0.056047</td>\n",
       "      <td>0.312684</td>\n",
       "    </tr>\n",
       "    <tr>\n",
       "      <th>Cultural</th>\n",
       "      <td>0.133721</td>\n",
       "      <td>0.203488</td>\n",
       "      <td>0.116279</td>\n",
       "      <td>0.209302</td>\n",
       "      <td>0.063953</td>\n",
       "      <td>0.273256</td>\n",
       "    </tr>\n",
       "    <tr>\n",
       "      <th>Shopping</th>\n",
       "      <td>0.056940</td>\n",
       "      <td>0.359431</td>\n",
       "      <td>0.206406</td>\n",
       "      <td>0.056940</td>\n",
       "      <td>0.067616</td>\n",
       "      <td>0.252669</td>\n",
       "    </tr>\n",
       "    <tr>\n",
       "      <th>Sport</th>\n",
       "      <td>0.328125</td>\n",
       "      <td>0.179688</td>\n",
       "      <td>0.164062</td>\n",
       "      <td>0.101562</td>\n",
       "      <td>0.062500</td>\n",
       "      <td>0.164062</td>\n",
       "    </tr>\n",
       "    <tr>\n",
       "      <th>Structure</th>\n",
       "      <td>0.085246</td>\n",
       "      <td>0.298361</td>\n",
       "      <td>0.265574</td>\n",
       "      <td>0.193443</td>\n",
       "      <td>0.078689</td>\n",
       "      <td>0.078689</td>\n",
       "    </tr>\n",
       "  </tbody>\n",
       "</table>\n",
       "</div>"
      ],
      "text/plain": [
       "           Amusement     Beach  Cultural  Shopping     Sport  Structure\n",
       "Amusement   0.091503  0.130719  0.333333  0.111111  0.228758   0.104575\n",
       "Beach       0.053097  0.126844  0.179941  0.271386  0.056047   0.312684\n",
       "Cultural    0.133721  0.203488  0.116279  0.209302  0.063953   0.273256\n",
       "Shopping    0.056940  0.359431  0.206406  0.056940  0.067616   0.252669\n",
       "Sport       0.328125  0.179688  0.164062  0.101562  0.062500   0.164062\n",
       "Structure   0.085246  0.298361  0.265574  0.193443  0.078689   0.078689"
      ]
     },
     "execution_count": 123,
     "metadata": {},
     "output_type": "execute_result"
    }
   ],
   "source": [
    "poi_cat_transmat = normalise_transmat(poi_cat_transmat)\n",
    "poi_cat_transmat"
   ]
  },
  {
   "cell_type": "code",
   "execution_count": 124,
   "metadata": {
    "collapsed": false
   },
   "outputs": [
    {
     "data": {
      "text/html": [
       "<div>\n",
       "<table border=\"1\" class=\"dataframe\">\n",
       "  <thead>\n",
       "    <tr style=\"text-align: right;\">\n",
       "      <th></th>\n",
       "      <th>Amusement</th>\n",
       "      <th>Beach</th>\n",
       "      <th>Cultural</th>\n",
       "      <th>Shopping</th>\n",
       "      <th>Sport</th>\n",
       "      <th>Structure</th>\n",
       "    </tr>\n",
       "  </thead>\n",
       "  <tbody>\n",
       "    <tr>\n",
       "      <th>Amusement</th>\n",
       "      <td>-1.038563</td>\n",
       "      <td>-0.883661</td>\n",
       "      <td>-0.477121</td>\n",
       "      <td>-0.954243</td>\n",
       "      <td>-0.640623</td>\n",
       "      <td>-0.980571</td>\n",
       "    </tr>\n",
       "    <tr>\n",
       "      <th>Beach</th>\n",
       "      <td>-1.274927</td>\n",
       "      <td>-0.896731</td>\n",
       "      <td>-0.744870</td>\n",
       "      <td>-0.566412</td>\n",
       "      <td>-1.251446</td>\n",
       "      <td>-0.504894</td>\n",
       "    </tr>\n",
       "    <tr>\n",
       "      <th>Cultural</th>\n",
       "      <td>-0.873801</td>\n",
       "      <td>-0.691460</td>\n",
       "      <td>-0.934498</td>\n",
       "      <td>-0.679226</td>\n",
       "      <td>-1.194136</td>\n",
       "      <td>-0.563431</td>\n",
       "    </tr>\n",
       "    <tr>\n",
       "      <th>Shopping</th>\n",
       "      <td>-1.244586</td>\n",
       "      <td>-0.444385</td>\n",
       "      <td>-0.685278</td>\n",
       "      <td>-1.244586</td>\n",
       "      <td>-1.169953</td>\n",
       "      <td>-0.597448</td>\n",
       "    </tr>\n",
       "    <tr>\n",
       "      <th>Sport</th>\n",
       "      <td>-0.483961</td>\n",
       "      <td>-0.745482</td>\n",
       "      <td>-0.784991</td>\n",
       "      <td>-0.993267</td>\n",
       "      <td>-1.204120</td>\n",
       "      <td>-0.784991</td>\n",
       "    </tr>\n",
       "    <tr>\n",
       "      <th>Structure</th>\n",
       "      <td>-1.069326</td>\n",
       "      <td>-0.525258</td>\n",
       "      <td>-0.575815</td>\n",
       "      <td>-0.713448</td>\n",
       "      <td>-1.104089</td>\n",
       "      <td>-1.104089</td>\n",
       "    </tr>\n",
       "  </tbody>\n",
       "</table>\n",
       "</div>"
      ],
      "text/plain": [
       "           Amusement     Beach  Cultural  Shopping     Sport  Structure\n",
       "Amusement  -1.038563 -0.883661 -0.477121 -0.954243 -0.640623  -0.980571\n",
       "Beach      -1.274927 -0.896731 -0.744870 -0.566412 -1.251446  -0.504894\n",
       "Cultural   -0.873801 -0.691460 -0.934498 -0.679226 -1.194136  -0.563431\n",
       "Shopping   -1.244586 -0.444385 -0.685278 -1.244586 -1.169953  -0.597448\n",
       "Sport      -0.483961 -0.745482 -0.784991 -0.993267 -1.204120  -0.784991\n",
       "Structure  -1.069326 -0.525258 -0.575815 -0.713448 -1.104089  -1.104089"
      ]
     },
     "execution_count": 124,
     "metadata": {},
     "output_type": "execute_result"
    }
   ],
   "source": [
    "poi_cat_transmat_log = np.log10(poi_cat_transmat)\n",
    "poi_cat_transmat_log"
   ]
  },
  {
   "cell_type": "markdown",
   "metadata": {},
   "source": [
    "<a id='sec3.3'></a>"
   ]
  },
  {
   "cell_type": "markdown",
   "metadata": {},
   "source": [
    "## 3.3 Transition Probabilities between POI Popularity Classes"
   ]
  },
  {
   "cell_type": "markdown",
   "metadata": {},
   "source": [
    "We model transition probabilities between POI popularities, i.e.\n",
    "$\\text{Pr}(\\text{Pop}_{\\text{POI}_i} \\to \\text{Pop}_{\\text{POI}_j})$\n",
    "after discretizing POI popularities."
   ]
  },
  {
   "cell_type": "markdown",
   "metadata": {},
   "source": [
    "### 3.3.1 Discretize POI Popularity"
   ]
  },
  {
   "cell_type": "markdown",
   "metadata": {},
   "source": [
    "What the general criteria of data discretization? [Discretization of continuous features](https://en.wikipedia.org/wiki/Discretization_of_continuous_features) from Wikipedia. "
   ]
  },
  {
   "cell_type": "markdown",
   "metadata": {},
   "source": [
    "~~**TODO**: Improve the discritization using Fayyad's minimum description length principle (MDLP)  described by [this paper](http://ijcai.org/Past%20Proceedings/IJCAI-93-VOL2/PDF/022.pdf)~~.\n",
    "\n",
    "**NOTE**: MDLP is a supervised discretization method which requires some sort of class labels that are not available here. We need an unsupervised discretization method, well-known ones including equal width, equal frequency, clustering based, etc."
   ]
  },
  {
   "cell_type": "markdown",
   "metadata": {},
   "source": [
    "Try different discretization strategies and choose the best one using the following metrics:"
   ]
  },
  {
   "cell_type": "markdown",
   "metadata": {},
   "source": [
    "`actSeqRank(Top%)` = $100 \\times \\frac{\\text{rank of actual sequence}~S_a}{\\text{number of enumerated sequence w.r.p}~S_a}$"
   ]
  },
  {
   "cell_type": "markdown",
   "metadata": {},
   "source": [
    "`rankedTop5(%)` = $100 \\times \\frac{\\sum{\\delta(\\text{rank of actual sequence} \\le 5)}}\n",
    "{\\text{number of actual sequence}}$, where $\\delta(\\text{True}) = 1$ and $\\delta(\\text{False}) = 0$  \n",
    "i.e. the percentage of actual sequence $S_a$ ranked top 5 among all enumerated sequences with respect to $S_a$."
   ]
  },
  {
   "cell_type": "markdown",
   "metadata": {},
   "source": [
    "<table>\n",
    "<tr><td><b>descretization strategy</b></td><td><b>actSeqRank(Top%) Toronto (smaller is better)</b></td><td><b>rankedTop5(%) Toronto (larger is better)</b></td><td><b>actSeqRank(Top%) Glasgow</b></td><td><b>rankedTop5(%) Glasgow</b></td></tr>\n",
    "<tr><td>quantile, nbins=2</td><td>mean: 18.496, std: 24.746</td><td>131/266 = 49.25%</td><td>mean: 16.328, std: 19.763</td><td>55/100 = 55.00%</td></tr>\n",
    "<tr><td>quantile, nbins=3</td><td>mean: 16.049, std: 19.873</td><td>131/266 = 49.25%</td><td>mean: 16.188, std: 18.117</td><td>52/100 = 52.00%</td></tr>\n",
    "<tr><td>quantile, nbins=4</td><td>mean: 16.478, std: 21.002</td><td>132/266 = 49.62%</td><td>mean: 15.130, std: 18.643</td><td>58/100 = 58.00%</td></tr>\n",
    "<tr><td>quantile, nbins=5</td><td>mean: 16.811, std: 22.159</td><td>127/266 = 47.74%</td><td>mean: 14.316, std: 17.294</td><td>61/100 = 61.00%</td></tr>\n",
    "<tr><td>quantile, nbins=6</td><td>mean: 15.049, std: 18.722</td><td>128/266 = 48.12%</td><td>mean: 14.581, std: 17.522</td><td>58/100 = 58.00%</td></tr>\n",
    "<tr><td>quantile, nbins=7</td><td>mean: 15.831, std: 20.140</td><td>130/266 = 48.87%</td><td>mean: 14.777, std: 17.175</td><td>59/100 = 59.00%</td></tr>\n",
    "<tr><td>quantile, nbins=8</td><td>mean: 15.567, std: 19.811</td><td>135/266 = 50.75%</td><td>mean: 15.019, std: 17.101</td><td>56/100 = 56.00%</td></tr>\n",
    "<tr><td>quantile, nbins=9</td><td>mean: 14.556, std: 17.937</td><td>138/266 = 51.88%</td><td>mean: 14.255, std: 16.184</td><td>64/100 = 64.00%</td></tr>\n",
    "<tr><td>quantile, nbins=10</td><td>mean: 14.398, std: 17.694</td><td>135/266 = 50.75%</td><td>mean: 13.771, std: 16.043</td><td>62/100 = 62.00%</td></tr>\n",
    "<tr><td>quantile, nbins=11</td><td>mean: 14.874, std: 18.915</td><td>138/266 = 51.88%</td><td>mean: 13.568, std: 15.522</td><td>63/100 = 63.00%</td></tr>\n",
    "<tr><td>quantile, nbins=12</td><td>mean: 13.491, std: 16.760</td><td>145/266 = 54.51%</td><td>mean: 11.464, std: 13.896</td><td>66/100 = 66.00%</td></tr>\n",
    "<tr><td>quantile, nbins=13</td><td>mean: 13.528, std: 16.964</td><td>144/266 = 54.14%</td><td>mean: 12.416, std: 13.081</td><td>63/100 = 63.00%</td></tr>\n",
    "<tr><td>quantile, nbins=14</td><td>mean: 13.279, std: 15.960</td><td>142/266 = 53.38%</td><td>mean: 12.596, std: 14.259</td><td>65/100 = 65.00%</td></tr>\n",
    "<tr><td>quantile, nbins=15</td><td>mean: 12.784, std: 15.796</td><td>151/266 = 56.77%</td><td>mean: 12.209, std: 13.527</td><td>66/100 = 66.00%</td></tr>\n",
    "\n",
    "<tr><td>equalWidth, nbins=2</td><td>mean: 24.761, std: 29.356</td><td>115/266 = 43.23%</td><td>mean: 23.705, std: 24.304</td><td>47/100 = 47.00%</td></tr>\n",
    "<tr><td>equalWidth, nbins=3</td><td>mean: 21.841, std: 28.366</td><td>127/266 = 47.74%</td><td>mean: 23.225, std: 25.065</td><td>47/100 = 47.00%</td></tr>\n",
    "<tr><td>equalWidth, nbins=4</td><td>mean: 23.636, std: 29.252</td><td>120/266 = 45.11%</td><td>mean: 19.416, std: 22.059</td><td>53/100 = 53.00%</td></tr>\n",
    "<tr><td>equalWidth, nbins=5</td><td>mean: 20.154, std: 26.713</td><td>125/266 = 46.99%</td><td>mean: 19.201, std: 23.250</td><td>54/100 = 54.00%</td></tr>\n",
    "<tr><td>equalWidth, nbins=6</td><td>mean: 19.129, std: 25.530</td><td>125/266 = 46.99%</td><td>mean: 19.907, std: 23.132</td><td>53/100 = 53.00%</td></tr>\n",
    "<tr><td>equalWidth, nbins=7</td><td>mean: 16.922, std: 20.619</td><td>126/266 = 47.37%</td><td>mean: 17.030, std: 19.898</td><td>57/100 = 57.00%</td></tr>\n",
    "<tr><td>equalWidth, nbins=8</td><td>mean: 18.240, std: 22.739</td><td>121/266 = 45.49%</td><td>mean: 19.977, std: 23.118</td><td>54/100 = 54.00%</td></tr>\n",
    "<tr><td>equalWidth, nbins=9</td><td>mean: 17.507, std: 22.659</td><td>129/266 = 48.50%</td><td>mean: 18.183, std: 22.388</td><td>55/100 = 55.00%</td></tr>\n",
    "<tr><td>equalWidth, nbins=10</td><td>mean: 18.196, std: 23.321</td><td>125/266 = 46.99%</td><td>mean: 18.158, std: 21.773</td><td>52/100 = 52.00%</td></tr>\n",
    "<tr><td>equalWidth, nbins=11</td><td>mean: 17.711, std: 23.398</td><td>131/266 = 49.25%</td><td>mean: 15.555, std: 19.722</td><td>60/100 = 60.00%</td></tr>\n",
    "<tr><td>equalWidth, nbins=12</td><td>mean: 17.389, std: 22.718</td><td>132/266 = 49.62%</td><td>mean: 15.174, std: 17.188</td><td>60/100 = 60.00%</td></tr>\n",
    "<tr><td>equalWidth, nbins=13</td><td>mean: 15.820, std: 20.856</td><td>141/266 = 53.01%</td><td>mean: 15.184, std: 18.837</td><td>61/100 = 61.00%</td></tr>\n",
    "<tr><td>equalWidth, nbins=14</td><td>mean: 15.681, std: 19.559</td><td>136/266 = 51.13%</td><td>mean: 12.922, std: 15.119</td><td>63/100 = 63.00%</td></tr>\n",
    "<tr><td>equalWidth, nbins=15</td><td>mean: 15.712, std: 19.794</td><td>136/266 = 51.13%</td><td>mean: 14.274, std: 16.828</td><td>61/100 = 61.00%</td></tr>\n",
    "\n",
    "<tr><td>another, bins=[0, 500, 1500, 10000]</td><td>mean: 15.977, std: 20.373</td><td>132/266 = 49.62%</td><td>mean: 20.427, std: 21.596</td><td>50/100 = 50.00%</td></tr>\n",
    "</table>"
   ]
  },
  {
   "cell_type": "code",
   "execution_count": 1,
   "metadata": {
    "collapsed": false
   },
   "outputs": [],
   "source": [
    "rank_mean_Toro = [18.496, 16.049, 16.478, 16.811, 15.049, 15.831, 15.567, 14.556, 14.398, 14.874, 13.491, 13.528, \\\n",
    "                  13.279, 12.784, 24.761, 21.841, 23.636, 20.154, 19.129, 16.922, 18.240, 17.507, 18.196, 17.711, \\\n",
    "                  17.389, 15.820, 15.681, 15.712, 15.977]\n",
    "rank_std_Toro = [24.746, 19.873, 21.002, 22.159, 18.722, 20.140, 19.811, 17.937, 17.694, 18.915, 16.760, 16.964, \\\n",
    "                 15.960, 15.796, 29.356, 28.366, 29.252, 26.713, 25.530, 20.619, 22.739, 22.659, 23.321, 23.398, \\\n",
    "                 22.718, 20.856, 19.559, 19.794, 20.373]\n",
    "rank_mean_Glas = [16.328, 16.188, 15.130, 14.316, 14.581, 14.777, 15.019, 14.255, 13.771, 13.568, 11.464, 12.416, \\\n",
    "                  12.596, 12.209, 23.705, 23.225, 19.416, 19.201, 19.907, 17.030, 19.977, 18.183, 18.158, 15.555, \\\n",
    "                  15.174, 15.184, 12.922, 14.274, 20.427]\n",
    "rank_std_Glas = [19.763, 18.117, 18.643, 17.294, 17.522, 17.175, 17.101, 16.184, 16.043, 15.522, 13.896, 13.081, \\\n",
    "                 14.259, 13.527, 24.304, 25.065, 22.059, 23.250, 23.132, 19.898, 23.118, 22.388, 21.773, 19.722, \\\n",
    "                 17.188, 18.837, 15.119, 16.828, 21.596]\n",
    "rank_top5_Toro = [49.25, 49.25, 49.62, 47.74, 48.12, 48.87, 50.75, 51.88, 50.75, 51.88, 54.51, 54.14, \\\n",
    "                  53.38, 56.77, 43.23, 47.74, 45.11, 46.99, 46.99, 47.37, 45.49, 48.50, 46.99, 49.25, \\\n",
    "                  49.62, 53.01, 51.13, 51.13, 49.62]\n",
    "rank_top5_Glas = [55, 52, 58, 61, 58, 59, 56, 64, 62, 63, 66, 63, 65, 66, 47, 47, 53, 54, 53, 57, 54, 55, 52, 60, 60, \\\n",
    "                  61, 63, 61, 50]\n",
    "#xlabels = ['qbins='+str(x) for x in range(2, 16)]\n",
    "#xlabels.extend(['ebins='+str(x) for x in range(2, 16)])\n",
    "#xlabels.append('another')\n",
    "xlabels = [x for x in range(2, len(rank_mean_Toro)+2)]"
   ]
  },
  {
   "cell_type": "code",
   "execution_count": 6,
   "metadata": {
    "collapsed": false
   },
   "outputs": [
    {
     "data": {
      "text/plain": [
       "<matplotlib.text.Annotation at 0x7f8634bb37b8>"
      ]
     },
     "execution_count": 6,
     "metadata": {},
     "output_type": "execute_result"
    },
    {
     "data": {
      "image/png": "[encoded data removed]",
      "text/plain": [
       "<matplotlib.figure.Figure at 0x7f8634c99ac8>"
      ]
     },
     "metadata": {},
     "output_type": "display_data"
    }
   ],
   "source": [
    "plt.figure(figsize=[15, 10])\n",
    "plt.xlim([0, len(rank_mean_Toro)+2])\n",
    "plt.ylim([-20, 100])\n",
    "plt.errorbar(xlabels, rank_mean_Toro, yerr=rank_std_Toro, linestyle='--', marker='s', label='errorbar_Toronto')\n",
    "plt.errorbar(xlabels, rank_mean_Glas, yerr=rank_std_Glas, linestyle='--', marker='s', label='errorbar_Glasgow')\n",
    "plt.plot(xlabels, rank_top5_Toro, linestyle='--', marker='s', label='top5_Toronto')\n",
    "plt.plot(xlabels, rank_top5_Glas, linestyle='--', marker='s', label='top5_Glasgow')\n",
    "plt.legend()\n",
    "idx1 = 3\n",
    "idx2 = 7\n",
    "plt.annotate('quantile, nbins=5', xy=(xlabels[idx1], rank_top5_Glas[idx1]), xytext=(xlabels[idx1], \\\n",
    "             rank_top5_Glas[idx1]+15), arrowprops=dict(facecolor='green', shrink=0.1))\n",
    "plt.annotate('quantile, nbins=9', xy=(xlabels[idx2], rank_top5_Glas[idx2]), xytext=(xlabels[idx2], \\\n",
    "             rank_top5_Glas[idx2]+15), arrowprops=dict(facecolor='blue', shrink=0.1))"
   ]
  },
  {
   "cell_type": "markdown",
   "metadata": {},
   "source": [
    "It could be seen from the above plot that discretization based on equal frequency (quantiles) performs better than that based on equal width, to balance the complexity and accuracy, \n",
    "we can choose either `\"quantile, nbins=5\"` or `\"quantile, nbins=9\"`."
   ]
  },
  {
   "cell_type": "code",
   "execution_count": 127,
   "metadata": {
    "collapsed": false
   },
   "outputs": [
    {
     "data": {
      "text/plain": [
       "array([3506,  609,  688, 3056,  986, 2064, 1736,  278,  346, 4142,  481,\n",
       "        964,  141,  113, 3553,  808,   26,  111,   89, 3594, 3619, 1874,\n",
       "       1028, 1701,  104,  631,  936,  744, 1538])"
      ]
     },
     "execution_count": 127,
     "metadata": {},
     "output_type": "execute_result"
    }
   ],
   "source": [
    "poi_all['poiFreq'].get_values()"
   ]
  },
  {
   "cell_type": "code",
   "execution_count": 128,
   "metadata": {
    "collapsed": false
   },
   "outputs": [
    {
     "data": {
      "text/plain": [
       "count      29.000000\n",
       "mean     1360.896552\n",
       "std      1289.191534\n",
       "min        26.000000\n",
       "25%       346.000000\n",
       "50%       936.000000\n",
       "75%      1874.000000\n",
       "max      4142.000000\n",
       "Name: poiFreq, dtype: float64"
      ]
     },
     "execution_count": 128,
     "metadata": {},
     "output_type": "execute_result"
    }
   ],
   "source": [
    "poi_all['poiFreq'].describe()"
   ]
  },
  {
   "cell_type": "code",
   "execution_count": 129,
   "metadata": {
    "collapsed": false
   },
   "outputs": [
    {
     "data": {
      "text/plain": [
       "[346.0, 936.0, 1874.0]"
      ]
     },
     "execution_count": 129,
     "metadata": {},
     "output_type": "execute_result"
    }
   ],
   "source": [
    "poi_all['poiFreq'].quantile([.25, .5, .75]).tolist()"
   ]
  },
  {
   "cell_type": "code",
   "execution_count": 130,
   "metadata": {
    "collapsed": false
   },
   "outputs": [
    {
     "data": {
      "text/plain": [
       "<matplotlib.text.Text at 0x7f289a5209e8>"
      ]
     },
     "execution_count": 130,
     "metadata": {},
     "output_type": "execute_result"
    },
    {
     "data": {
      "image/png": "[encoded data removed]",
      "text/plain": [
       "<matplotlib.figure.Figure at 0x7f28650d0320>"
      ]
     },
     "metadata": {},
     "output_type": "display_data"
    }
   ],
   "source": [
    "ax = poi_all['poiFreq'].hist(bins=10)\n",
    "ax.set_xlabel('POI Popularity')\n",
    "ax.set_ylabel('#POI')"
   ]
  },
  {
   "cell_type": "code",
   "execution_count": 131,
   "metadata": {
    "collapsed": false
   },
   "outputs": [],
   "source": [
    "#plt.plot(np.ones(poi_all.index.shape[0]), np.sqrt(poi_all['poiFreq']), marker='+')"
   ]
  },
  {
   "cell_type": "markdown",
   "metadata": {},
   "source": [
    "### Quantile based bins (equal frequency)"
   ]
  },
  {
   "cell_type": "code",
   "execution_count": 132,
   "metadata": {
    "collapsed": false
   },
   "outputs": [
    {
     "data": {
      "text/plain": [
       "array([ 0.11,  0.22,  0.33,  0.44,  0.56,  0.67,  0.78,  0.89])"
      ]
     },
     "execution_count": 132,
     "metadata": {},
     "output_type": "execute_result"
    }
   ],
   "source": [
    "nbins = 9\n",
    "quantiles = np.round(np.linspace(0, 1, nbins+1), 2)[1:-1]\n",
    "quantiles"
   ]
  },
  {
   "cell_type": "code",
   "execution_count": 133,
   "metadata": {
    "collapsed": false
   },
   "outputs": [
    {
     "data": {
      "text/plain": [
       "[0,\n",
       " 111.16,\n",
       " 288.88,\n",
       " 614.27999999999997,\n",
       " 764.48000000000002,\n",
       " 978.96000000000004,\n",
       " 1661.8800000000003,\n",
       " 2033.5999999999999,\n",
       " 3549.2400000000002,\n",
       " 4143]"
      ]
     },
     "execution_count": 133,
     "metadata": {},
     "output_type": "execute_result"
    }
   ],
   "source": [
    "bins_qt = [0]\n",
    "bins_qt.extend(poi_all['poiFreq'].quantile(quantiles))\n",
    "bins_qt.append(poi_all['poiFreq'].max() + 1)\n",
    "bins_qt"
   ]
  },
  {
   "cell_type": "markdown",
   "metadata": {},
   "source": [
    "### Equal width bins"
   ]
  },
  {
   "cell_type": "code",
   "execution_count": 134,
   "metadata": {
    "collapsed": false
   },
   "outputs": [],
   "source": [
    "#nbins = 15\n",
    "#inter = round((poi_all['poiFreq'].max() + 1) / nbins)\n",
    "#bins_ew = [x*inter for x in range(nbins)]\n",
    "#bins_ew.append(poi_all['poiFreq'].max() + 1)\n",
    "#bins_ew"
   ]
  },
  {
   "cell_type": "markdown",
   "metadata": {},
   "source": [
    "### Another Equal frequency bins"
   ]
  },
  {
   "cell_type": "code",
   "execution_count": 135,
   "metadata": {
    "collapsed": true
   },
   "outputs": [],
   "source": [
    "#bins = np.linspace(0, 10000, 11)\n",
    "#bins = np.logspace(0, 4, 5)\n",
    "#bins = [1, 100, 500, 1000, 2000, 5000]\n",
    "#bins_ef = [0, 500, 1500, 10000]"
   ]
  },
  {
   "cell_type": "code",
   "execution_count": 136,
   "metadata": {
    "collapsed": true
   },
   "outputs": [],
   "source": [
    "bins_pop = bins_qt\n",
    "#bins_pop = bins_ew\n",
    "#bins_pop = bins_ef"
   ]
  },
  {
   "cell_type": "code",
   "execution_count": 137,
   "metadata": {
    "collapsed": false
   },
   "outputs": [
    {
     "data": {
      "image/png": "[encoded data removed]",
      "text/plain": [
       "<matplotlib.figure.Figure at 0x7f2898e9ea90>"
      ]
     },
     "metadata": {},
     "output_type": "display_data"
    }
   ],
   "source": [
    "ax = poi_all['poiFreq'].hist(bins=bins_pop)\n",
    "ax.set_xlabel('POI Popularity')\n",
    "ax.set_ylabel('#POI')\n",
    "ax.set_xscale('log')"
   ]
  },
  {
   "cell_type": "code",
   "execution_count": 138,
   "metadata": {
    "collapsed": false
   },
   "outputs": [],
   "source": [
    "poi_all['popClass'] = np.digitize(poi_all['poiFreq'].get_values(), bins_pop)\n",
    "#poi_all"
   ]
  },
  {
   "cell_type": "markdown",
   "metadata": {},
   "source": [
    "### 3.3.2 Compute Transition Probabilities"
   ]
  },
  {
   "cell_type": "code",
   "execution_count": 139,
   "metadata": {
    "collapsed": true
   },
   "outputs": [],
   "source": [
    "def calc_poi_pop_transmat(seqid_set, poi_all, seq_all):\n",
    "    pop_class = poi_all['popClass'].unique().tolist()\n",
    "    pop_class.sort()\n",
    "    poi_pop_transmat = pd.DataFrame(data=np.zeros((len(pop_class), len(pop_class)), dtype=np.float), \\\n",
    "                                    index=pop_class, columns=pop_class)\n",
    "    for seqid in seqid_set:\n",
    "        seq = extract_seq(seqid, seq_all)\n",
    "        for j in range(len(seq)-1):\n",
    "            poi1 = seq[j]\n",
    "            poi2 = seq[j+1]\n",
    "            pc1 = poi_all.loc[poi1, 'popClass']\n",
    "            pc2 = poi_all.loc[poi2, 'popClass']\n",
    "            poi_pop_transmat.loc[pc1, pc2] += 1\n",
    "    return poi_pop_transmat"
   ]
  },
  {
   "cell_type": "code",
   "execution_count": 140,
   "metadata": {
    "collapsed": false
   },
   "outputs": [
    {
     "data": {
      "text/html": [
       "<div>\n",
       "<table border=\"1\" class=\"dataframe\">\n",
       "  <thead>\n",
       "    <tr style=\"text-align: right;\">\n",
       "      <th></th>\n",
       "      <th>1</th>\n",
       "      <th>2</th>\n",
       "      <th>3</th>\n",
       "      <th>4</th>\n",
       "      <th>5</th>\n",
       "      <th>6</th>\n",
       "      <th>7</th>\n",
       "      <th>8</th>\n",
       "      <th>9</th>\n",
       "    </tr>\n",
       "  </thead>\n",
       "  <tbody>\n",
       "    <tr>\n",
       "      <th>1</th>\n",
       "      <td>0</td>\n",
       "      <td>4</td>\n",
       "      <td>0</td>\n",
       "      <td>0</td>\n",
       "      <td>0</td>\n",
       "      <td>3</td>\n",
       "      <td>0</td>\n",
       "      <td>4</td>\n",
       "      <td>5</td>\n",
       "    </tr>\n",
       "    <tr>\n",
       "      <th>2</th>\n",
       "      <td>4</td>\n",
       "      <td>0</td>\n",
       "      <td>2</td>\n",
       "      <td>1</td>\n",
       "      <td>6</td>\n",
       "      <td>0</td>\n",
       "      <td>0</td>\n",
       "      <td>3</td>\n",
       "      <td>1</td>\n",
       "    </tr>\n",
       "    <tr>\n",
       "      <th>3</th>\n",
       "      <td>0</td>\n",
       "      <td>5</td>\n",
       "      <td>0</td>\n",
       "      <td>0</td>\n",
       "      <td>12</td>\n",
       "      <td>0</td>\n",
       "      <td>1</td>\n",
       "      <td>1</td>\n",
       "      <td>3</td>\n",
       "    </tr>\n",
       "    <tr>\n",
       "      <th>4</th>\n",
       "      <td>0</td>\n",
       "      <td>0</td>\n",
       "      <td>1</td>\n",
       "      <td>4</td>\n",
       "      <td>3</td>\n",
       "      <td>17</td>\n",
       "      <td>13</td>\n",
       "      <td>6</td>\n",
       "      <td>45</td>\n",
       "    </tr>\n",
       "    <tr>\n",
       "      <th>5</th>\n",
       "      <td>1</td>\n",
       "      <td>7</td>\n",
       "      <td>2</td>\n",
       "      <td>6</td>\n",
       "      <td>1</td>\n",
       "      <td>17</td>\n",
       "      <td>38</td>\n",
       "      <td>13</td>\n",
       "      <td>80</td>\n",
       "    </tr>\n",
       "    <tr>\n",
       "      <th>6</th>\n",
       "      <td>2</td>\n",
       "      <td>2</td>\n",
       "      <td>1</td>\n",
       "      <td>6</td>\n",
       "      <td>13</td>\n",
       "      <td>16</td>\n",
       "      <td>36</td>\n",
       "      <td>67</td>\n",
       "      <td>92</td>\n",
       "    </tr>\n",
       "    <tr>\n",
       "      <th>7</th>\n",
       "      <td>2</td>\n",
       "      <td>1</td>\n",
       "      <td>0</td>\n",
       "      <td>18</td>\n",
       "      <td>45</td>\n",
       "      <td>46</td>\n",
       "      <td>7</td>\n",
       "      <td>23</td>\n",
       "      <td>131</td>\n",
       "    </tr>\n",
       "    <tr>\n",
       "      <th>8</th>\n",
       "      <td>2</td>\n",
       "      <td>2</td>\n",
       "      <td>3</td>\n",
       "      <td>5</td>\n",
       "      <td>16</td>\n",
       "      <td>68</td>\n",
       "      <td>32</td>\n",
       "      <td>18</td>\n",
       "      <td>76</td>\n",
       "    </tr>\n",
       "    <tr>\n",
       "      <th>9</th>\n",
       "      <td>2</td>\n",
       "      <td>1</td>\n",
       "      <td>1</td>\n",
       "      <td>54</td>\n",
       "      <td>86</td>\n",
       "      <td>73</td>\n",
       "      <td>131</td>\n",
       "      <td>72</td>\n",
       "      <td>91</td>\n",
       "    </tr>\n",
       "  </tbody>\n",
       "</table>\n",
       "</div>"
      ],
      "text/plain": [
       "   1  2  3   4   5   6    7   8    9\n",
       "1  0  4  0   0   0   3    0   4    5\n",
       "2  4  0  2   1   6   0    0   3    1\n",
       "3  0  5  0   0  12   0    1   1    3\n",
       "4  0  0  1   4   3  17   13   6   45\n",
       "5  1  7  2   6   1  17   38  13   80\n",
       "6  2  2  1   6  13  16   36  67   92\n",
       "7  2  1  0  18  45  46    7  23  131\n",
       "8  2  2  3   5  16  68   32  18   76\n",
       "9  2  1  1  54  86  73  131  72   91"
      ]
     },
     "execution_count": 140,
     "metadata": {},
     "output_type": "execute_result"
    }
   ],
   "source": [
    "poi_pop_transmat = calc_poi_pop_transmat(seq_all['seqID'].unique(), poi_all, seq_all)\n",
    "poi_pop_transmat"
   ]
  },
  {
   "cell_type": "code",
   "execution_count": 141,
   "metadata": {
    "collapsed": false
   },
   "outputs": [
    {
     "data": {
      "text/html": [
       "<div>\n",
       "<table border=\"1\" class=\"dataframe\">\n",
       "  <thead>\n",
       "    <tr style=\"text-align: right;\">\n",
       "      <th></th>\n",
       "      <th>1</th>\n",
       "      <th>2</th>\n",
       "      <th>3</th>\n",
       "      <th>4</th>\n",
       "      <th>5</th>\n",
       "      <th>6</th>\n",
       "      <th>7</th>\n",
       "      <th>8</th>\n",
       "      <th>9</th>\n",
       "    </tr>\n",
       "  </thead>\n",
       "  <tbody>\n",
       "    <tr>\n",
       "      <th>1</th>\n",
       "      <td>0.016043</td>\n",
       "      <td>0.229947</td>\n",
       "      <td>0.016043</td>\n",
       "      <td>0.016043</td>\n",
       "      <td>0.016043</td>\n",
       "      <td>0.176471</td>\n",
       "      <td>0.016043</td>\n",
       "      <td>0.229947</td>\n",
       "      <td>0.283422</td>\n",
       "    </tr>\n",
       "    <tr>\n",
       "      <th>2</th>\n",
       "      <td>0.229050</td>\n",
       "      <td>0.005587</td>\n",
       "      <td>0.117318</td>\n",
       "      <td>0.061453</td>\n",
       "      <td>0.340782</td>\n",
       "      <td>0.005587</td>\n",
       "      <td>0.005587</td>\n",
       "      <td>0.173184</td>\n",
       "      <td>0.061453</td>\n",
       "    </tr>\n",
       "    <tr>\n",
       "      <th>3</th>\n",
       "      <td>0.004367</td>\n",
       "      <td>0.222707</td>\n",
       "      <td>0.004367</td>\n",
       "      <td>0.004367</td>\n",
       "      <td>0.528384</td>\n",
       "      <td>0.004367</td>\n",
       "      <td>0.048035</td>\n",
       "      <td>0.048035</td>\n",
       "      <td>0.135371</td>\n",
       "    </tr>\n",
       "    <tr>\n",
       "      <th>4</th>\n",
       "      <td>0.001112</td>\n",
       "      <td>0.001112</td>\n",
       "      <td>0.012236</td>\n",
       "      <td>0.045606</td>\n",
       "      <td>0.034483</td>\n",
       "      <td>0.190211</td>\n",
       "      <td>0.145717</td>\n",
       "      <td>0.067853</td>\n",
       "      <td>0.501669</td>\n",
       "    </tr>\n",
       "    <tr>\n",
       "      <th>5</th>\n",
       "      <td>0.006061</td>\n",
       "      <td>0.042424</td>\n",
       "      <td>0.012121</td>\n",
       "      <td>0.036364</td>\n",
       "      <td>0.006061</td>\n",
       "      <td>0.103030</td>\n",
       "      <td>0.230303</td>\n",
       "      <td>0.078788</td>\n",
       "      <td>0.484848</td>\n",
       "    </tr>\n",
       "    <tr>\n",
       "      <th>6</th>\n",
       "      <td>0.008511</td>\n",
       "      <td>0.008511</td>\n",
       "      <td>0.004255</td>\n",
       "      <td>0.025532</td>\n",
       "      <td>0.055319</td>\n",
       "      <td>0.068085</td>\n",
       "      <td>0.153191</td>\n",
       "      <td>0.285106</td>\n",
       "      <td>0.391489</td>\n",
       "    </tr>\n",
       "    <tr>\n",
       "      <th>7</th>\n",
       "      <td>0.007667</td>\n",
       "      <td>0.004016</td>\n",
       "      <td>0.000365</td>\n",
       "      <td>0.066083</td>\n",
       "      <td>0.164659</td>\n",
       "      <td>0.168310</td>\n",
       "      <td>0.025922</td>\n",
       "      <td>0.084337</td>\n",
       "      <td>0.478642</td>\n",
       "    </tr>\n",
       "    <tr>\n",
       "      <th>8</th>\n",
       "      <td>0.009009</td>\n",
       "      <td>0.009009</td>\n",
       "      <td>0.013514</td>\n",
       "      <td>0.022523</td>\n",
       "      <td>0.072072</td>\n",
       "      <td>0.306306</td>\n",
       "      <td>0.144144</td>\n",
       "      <td>0.081081</td>\n",
       "      <td>0.342342</td>\n",
       "    </tr>\n",
       "    <tr>\n",
       "      <th>9</th>\n",
       "      <td>0.003914</td>\n",
       "      <td>0.001957</td>\n",
       "      <td>0.001957</td>\n",
       "      <td>0.105675</td>\n",
       "      <td>0.168297</td>\n",
       "      <td>0.142857</td>\n",
       "      <td>0.256360</td>\n",
       "      <td>0.140900</td>\n",
       "      <td>0.178082</td>\n",
       "    </tr>\n",
       "  </tbody>\n",
       "</table>\n",
       "</div>"
      ],
      "text/plain": [
       "          1         2         3         4         5         6         7  \\\n",
       "1  0.016043  0.229947  0.016043  0.016043  0.016043  0.176471  0.016043   \n",
       "2  0.229050  0.005587  0.117318  0.061453  0.340782  0.005587  0.005587   \n",
       "3  0.004367  0.222707  0.004367  0.004367  0.528384  0.004367  0.048035   \n",
       "4  0.001112  0.001112  0.012236  0.045606  0.034483  0.190211  0.145717   \n",
       "5  0.006061  0.042424  0.012121  0.036364  0.006061  0.103030  0.230303   \n",
       "6  0.008511  0.008511  0.004255  0.025532  0.055319  0.068085  0.153191   \n",
       "7  0.007667  0.004016  0.000365  0.066083  0.164659  0.168310  0.025922   \n",
       "8  0.009009  0.009009  0.013514  0.022523  0.072072  0.306306  0.144144   \n",
       "9  0.003914  0.001957  0.001957  0.105675  0.168297  0.142857  0.256360   \n",
       "\n",
       "          8         9  \n",
       "1  0.229947  0.283422  \n",
       "2  0.173184  0.061453  \n",
       "3  0.048035  0.135371  \n",
       "4  0.067853  0.501669  \n",
       "5  0.078788  0.484848  \n",
       "6  0.285106  0.391489  \n",
       "7  0.084337  0.478642  \n",
       "8  0.081081  0.342342  \n",
       "9  0.140900  0.178082  "
      ]
     },
     "execution_count": 141,
     "metadata": {},
     "output_type": "execute_result"
    }
   ],
   "source": [
    "poi_pop_transmat = normalise_transmat(poi_pop_transmat)\n",
    "poi_pop_transmat"
   ]
  },
  {
   "cell_type": "code",
   "execution_count": 142,
   "metadata": {
    "collapsed": false
   },
   "outputs": [
    {
     "data": {
      "text/html": [
       "<div>\n",
       "<table border=\"1\" class=\"dataframe\">\n",
       "  <thead>\n",
       "    <tr style=\"text-align: right;\">\n",
       "      <th></th>\n",
       "      <th>1</th>\n",
       "      <th>2</th>\n",
       "      <th>3</th>\n",
       "      <th>4</th>\n",
       "      <th>5</th>\n",
       "      <th>6</th>\n",
       "      <th>7</th>\n",
       "      <th>8</th>\n",
       "      <th>9</th>\n",
       "    </tr>\n",
       "  </thead>\n",
       "  <tbody>\n",
       "    <tr>\n",
       "      <th>1</th>\n",
       "      <td>-1.794720</td>\n",
       "      <td>-0.638373</td>\n",
       "      <td>-1.794720</td>\n",
       "      <td>-1.794720</td>\n",
       "      <td>-1.794720</td>\n",
       "      <td>-0.753328</td>\n",
       "      <td>-1.794720</td>\n",
       "      <td>-0.638373</td>\n",
       "      <td>-0.547566</td>\n",
       "    </tr>\n",
       "    <tr>\n",
       "      <th>2</th>\n",
       "      <td>-0.640069</td>\n",
       "      <td>-2.252853</td>\n",
       "      <td>-0.930634</td>\n",
       "      <td>-1.211460</td>\n",
       "      <td>-0.467523</td>\n",
       "      <td>-2.252853</td>\n",
       "      <td>-2.252853</td>\n",
       "      <td>-0.761491</td>\n",
       "      <td>-1.211460</td>\n",
       "    </tr>\n",
       "    <tr>\n",
       "      <th>3</th>\n",
       "      <td>-2.359835</td>\n",
       "      <td>-0.652265</td>\n",
       "      <td>-2.359835</td>\n",
       "      <td>-2.359835</td>\n",
       "      <td>-0.277050</td>\n",
       "      <td>-2.359835</td>\n",
       "      <td>-1.318443</td>\n",
       "      <td>-1.318443</td>\n",
       "      <td>-0.868474</td>\n",
       "    </tr>\n",
       "    <tr>\n",
       "      <th>4</th>\n",
       "      <td>-2.953760</td>\n",
       "      <td>-2.953760</td>\n",
       "      <td>-1.912367</td>\n",
       "      <td>-1.340976</td>\n",
       "      <td>-1.462398</td>\n",
       "      <td>-0.720764</td>\n",
       "      <td>-0.836488</td>\n",
       "      <td>-1.168430</td>\n",
       "      <td>-0.299583</td>\n",
       "    </tr>\n",
       "    <tr>\n",
       "      <th>5</th>\n",
       "      <td>-2.217484</td>\n",
       "      <td>-1.372386</td>\n",
       "      <td>-1.916454</td>\n",
       "      <td>-1.439333</td>\n",
       "      <td>-2.217484</td>\n",
       "      <td>-0.987035</td>\n",
       "      <td>-0.637700</td>\n",
       "      <td>-1.103541</td>\n",
       "      <td>-0.314394</td>\n",
       "    </tr>\n",
       "    <tr>\n",
       "      <th>6</th>\n",
       "      <td>-2.070038</td>\n",
       "      <td>-2.070038</td>\n",
       "      <td>-2.371068</td>\n",
       "      <td>-1.592917</td>\n",
       "      <td>-1.257125</td>\n",
       "      <td>-1.166948</td>\n",
       "      <td>-0.814765</td>\n",
       "      <td>-0.544993</td>\n",
       "      <td>-0.407280</td>\n",
       "    </tr>\n",
       "    <tr>\n",
       "      <th>7</th>\n",
       "      <td>-2.115373</td>\n",
       "      <td>-2.396199</td>\n",
       "      <td>-3.437592</td>\n",
       "      <td>-1.179913</td>\n",
       "      <td>-0.783415</td>\n",
       "      <td>-0.773891</td>\n",
       "      <td>-1.586334</td>\n",
       "      <td>-1.073980</td>\n",
       "      <td>-0.319989</td>\n",
       "    </tr>\n",
       "    <tr>\n",
       "      <th>8</th>\n",
       "      <td>-2.045323</td>\n",
       "      <td>-2.045323</td>\n",
       "      <td>-1.869232</td>\n",
       "      <td>-1.647383</td>\n",
       "      <td>-1.142233</td>\n",
       "      <td>-0.513844</td>\n",
       "      <td>-0.841203</td>\n",
       "      <td>-1.091080</td>\n",
       "      <td>-0.465539</td>\n",
       "    </tr>\n",
       "    <tr>\n",
       "      <th>9</th>\n",
       "      <td>-2.407391</td>\n",
       "      <td>-2.708421</td>\n",
       "      <td>-2.708421</td>\n",
       "      <td>-0.976027</td>\n",
       "      <td>-0.773922</td>\n",
       "      <td>-0.845098</td>\n",
       "      <td>-0.591150</td>\n",
       "      <td>-0.851088</td>\n",
       "      <td>-0.749380</td>\n",
       "    </tr>\n",
       "  </tbody>\n",
       "</table>\n",
       "</div>"
      ],
      "text/plain": [
       "          1         2         3         4         5         6         7  \\\n",
       "1 -1.794720 -0.638373 -1.794720 -1.794720 -1.794720 -0.753328 -1.794720   \n",
       "2 -0.640069 -2.252853 -0.930634 -1.211460 -0.467523 -2.252853 -2.252853   \n",
       "3 -2.359835 -0.652265 -2.359835 -2.359835 -0.277050 -2.359835 -1.318443   \n",
       "4 -2.953760 -2.953760 -1.912367 -1.340976 -1.462398 -0.720764 -0.836488   \n",
       "5 -2.217484 -1.372386 -1.916454 -1.439333 -2.217484 -0.987035 -0.637700   \n",
       "6 -2.070038 -2.070038 -2.371068 -1.592917 -1.257125 -1.166948 -0.814765   \n",
       "7 -2.115373 -2.396199 -3.437592 -1.179913 -0.783415 -0.773891 -1.586334   \n",
       "8 -2.045323 -2.045323 -1.869232 -1.647383 -1.142233 -0.513844 -0.841203   \n",
       "9 -2.407391 -2.708421 -2.708421 -0.976027 -0.773922 -0.845098 -0.591150   \n",
       "\n",
       "          8         9  \n",
       "1 -0.638373 -0.547566  \n",
       "2 -0.761491 -1.211460  \n",
       "3 -1.318443 -0.868474  \n",
       "4 -1.168430 -0.299583  \n",
       "5 -1.103541 -0.314394  \n",
       "6 -0.544993 -0.407280  \n",
       "7 -1.073980 -0.319989  \n",
       "8 -1.091080 -0.465539  \n",
       "9 -0.851088 -0.749380  "
      ]
     },
     "execution_count": 142,
     "metadata": {},
     "output_type": "execute_result"
    }
   ],
   "source": [
    "poi_pop_transmat_log = np.log10(poi_pop_transmat)\n",
    "poi_pop_transmat_log"
   ]
  },
  {
   "cell_type": "markdown",
   "metadata": {},
   "source": [
    "<a id='sec3.4'></a>"
   ]
  },
  {
   "cell_type": "markdown",
   "metadata": {},
   "source": [
    "## 3.4 Transition Probabilities between POI Pair Distance Classes"
   ]
  },
  {
   "cell_type": "markdown",
   "metadata": {},
   "source": [
    "We model transition probabilities between different POI pair distances, i.e.\n",
    "$\\text{Pr}(\\text{Dist}_{\\text{POI}_{i-1} \\to \\text{POI}_i} \\to \\text{Dist}_{\\text{POI}_{i} \\to \\text{POI}_j})$\n",
    "after discretize POI pair distances."
   ]
  },
  {
   "cell_type": "markdown",
   "metadata": {},
   "source": [
    "### TODO: Improve the distance calculation using Google maps [distance API](https://developers.google.com/maps/documentation/distance-matrix/intro) with different [travel modes](https://developers.google.com/maps/documentation/distance-matrix/intro#travel_modes) demonstrated [here](https://jakevdp.github.io/blog/2015/10/17/analyzing-pronto-cycleshare-data-with-python-and-pandas/)."
   ]
  },
  {
   "cell_type": "markdown",
   "metadata": {},
   "source": [
    "### 3.4.1 Compute POI Pair Distance"
   ]
  },
  {
   "cell_type": "markdown",
   "metadata": {},
   "source": [
    "Compute POI-pair distance if the pair is **observed** in dataset."
   ]
  },
  {
   "cell_type": "code",
   "execution_count": 143,
   "metadata": {
    "collapsed": true
   },
   "outputs": [],
   "source": [
    "def calc_dist(longitude1, latitude1, longitude2, latitude2):\n",
    "    \"\"\"Calculate the distance (unit: km) between two places on earth\"\"\"\n",
    "    # convert degrees to radians\n",
    "    lon1 = math.radians(longitude1)\n",
    "    lat1 = math.radians(latitude1)\n",
    "    lon2 = math.radians(longitude2)\n",
    "    lat2 = math.radians(latitude2)\n",
    "    radius = 6371.009 # mean earth radius is 6371.009km, en.wikipedia.org/wiki/Earth_radius#Mean_radius\n",
    "    # The haversine formula, en.wikipedia.org/wiki/Great-circle_distance\n",
    "    dlon = math.fabs(lon1 - lon2)\n",
    "    dlat = math.fabs(lat1 - lat2)\n",
    "    return 2 * radius * math.asin( math.sqrt( \\\n",
    "               (math.sin(0.5*dlat))**2 + math.cos(lat1) * math.cos(lat2) * (math.sin(0.5*dlon))**2 ))"
   ]
  },
  {
   "cell_type": "code",
   "execution_count": 144,
   "metadata": {
    "collapsed": false
   },
   "outputs": [],
   "source": [
    "def calc_obs_poipair_distmat(seqid_set, poi_all, seq_all):\n",
    "    poi_distmat = pd.DataFrame(data=np.full((poi_all.shape[0], poi_all.shape[0]), np.nan, dtype=np.float), \\\n",
    "                               index=poi_all.index, columns=poi_all.index)\n",
    "    for seqid in seqid_set:\n",
    "        seq = extract_seq(seqid, seq_all)\n",
    "        if len(seq) < 2: continue\n",
    "        for j in range(len(seq)-1):\n",
    "            poi1 = seq[j]\n",
    "            poi2 = seq[j+1]\n",
    "            if np.isnan(poi_distmat.loc[poi1, poi2]):\n",
    "                dist = calc_dist(poi_all.loc[poi1, 'poiLon'], poi_all.loc[poi1, 'poiLat'], \\\n",
    "                                 poi_all.loc[poi2, 'poiLon'], poi_all.loc[poi2, 'poiLat'])\n",
    "                poi_distmat.loc[poi1, poi2] = dist\n",
    "                poi_distmat.loc[poi2, poi1] = dist\n",
    "    return poi_distmat"
   ]
  },
  {
   "cell_type": "code",
   "execution_count": 145,
   "metadata": {
    "collapsed": false
   },
   "outputs": [],
   "source": [
    "poi_distmat = calc_obs_poipair_distmat(seq_all['seqID'].unique(), poi_all, seq_all)\n",
    "#poi_distmat"
   ]
  },
  {
   "cell_type": "markdown",
   "metadata": {},
   "source": [
    "### 3.4.2 Discretize POI Pair Distance"
   ]
  },
  {
   "cell_type": "markdown",
   "metadata": {},
   "source": [
    "We use the same metrics as described [above](#sec3.3) to choose a discretization strategy for POI pair distances."
   ]
  },
  {
   "cell_type": "markdown",
   "metadata": {},
   "source": [
    "<table>\n",
    "<tr><td><b>descretization strategy</b></td><td><b>actSeqRank(Top%) Toronto (smaller is better)</b></td><td><b>rankedTop5(%) Toronto (larger is better)</b></td><td><b>actSeqRank(Top%) Glasgow</b></td><td><b>rankedTop5(%) Glasgow</b></td></tr>\n",
    "<tr><td>quantile, nbins=2</td><td>mean: 15.156, std: 16.911</td><td>120/266 = 45.11%</td><td>mean: 14.354, std: 16.541</td><td>60/100 = 60.00%</td></tr>\n",
    "<tr><td>quantile, nbins=3</td><td>mean: 14.917, std: 17.484</td><td>130/266 = 48.87%</td><td>mean: 14.450, std: 16.173</td><td>60/100 = 60.00%</td></tr>\n",
    "<tr><td>quantile, nbins=4</td><td>mean: 14.389, std: 17.527</td><td>139/266 = 52.26%</td><td>mean: 14.255, std: 16.184</td><td>64/100 = 64.00%</td></tr>\n",
    "<tr><td>quantile, nbins=5</td><td>mean: 13.645, std: 16.550</td><td>148/266 = 55.64%</td><td>mean: 14.085, std: 16.159</td><td>63/100 = 63.00%</td></tr>\n",
    "<tr><td>quantile, nbins=6</td><td>mean: 14.299, std: 17.550</td><td>138/266 = 51.88%</td><td>mean: 13.156, std: 14.436</td><td>63/100 = 63.00%</td></tr>\n",
    "<tr><td>quantile, nbins=7</td><td>mean: 12.689, std: 14.674</td><td>140/266 = 52.63%</td><td>mean: 12.755, std: 13.681</td><td>62/100 = 62.00%</td></tr>\n",
    "<tr><td>quantile, nbins=8</td><td>mean: 12.996, std: 15.606</td><td>143/266 = 53.76%</td><td>mean: 11.716, std: 13.003</td><td>64/100 = 64.00%</td></tr>\n",
    "<tr><td>quantile, nbins=9</td><td>mean: 12.510, std: 14.946</td><td>140/266 = 52.63%</td><td>mean: 11.355, std: 12.893</td><td>66/100 = 66.00%</td></tr>\n",
    "<tr><td>quantile, nbins=10</td><td>mean: 12.467, std: 14.549</td><td>146/266 = 54.89%</td><td>mean: 11.181, std: 12.107</td><td>68/100 = 68.00%</td></tr>\n",
    "<tr><td>quantile, nbins=11</td><td>mean: 12.548, std: 14.758</td><td>143/266 = 53.76%</td><td>mean: 10.214, std: 10.872</td><td>68/100 = 68.00%</td></tr>\n",
    "<tr><td>quantile, nbins=12</td><td>mean: 11.980, std: 13.883</td><td>147/266 = 55.26%</td><td>mean: 10.041, std: 10.895</td><td>73/100 = 73.00%</td></tr>\n",
    "<tr><td>quantile, nbins=13</td><td>mean: 12.170, std: 13.983</td><td>140/266 = 52.63%</td><td>mean: 9.345, std: 9.759</td><td>73/100 = 73.00%</td></tr>\n",
    "<tr><td>quantile, nbins=14</td><td>mean: 11.384, std: 12.787</td><td>153/266 = 57.52%</td><td>mean: 9.008, std: 9.444</td><td>73/100 = 73.00%</td></tr>\n",
    "<tr><td>quantile, nbins=15</td><td>mean: 11.444, std: 12.888</td><td>151/266 = 56.77%</td><td>mean: 8.613, std: 9.052</td><td>75/100 = 75.00%</td></tr>\n",
    "<tr><td>quantile, nbins=16</td><td>mean: 10.932, std: 12.621</td><td>156/266 = 58.65%</td><td>mean: 8.553, std: 9.336</td><td>74/100 = 74.00%</td></tr>\n",
    "<tr><td>quantile, nbins=17</td><td>mean: 10.991, std: 12.950</td><td>156/266 = 58.65%</td><td>mean: 8.025, std: 8.502</td><td>79/100 = 79.00%</td></tr>\n",
    "<tr><td>quantile, nbins=18</td><td>mean: 10.728, std: 12.285</td><td>155/266 = 58.27%</td><td>EMPTY ROW 13</td><td>NaN</td></tr>\n",
    "<tr><td>quantile, nbins=19</td><td>mean: 10.754, std: 12.368</td><td>150/266 = 56.39%</td><td>EMPTY ROW 11</td><td>NaN</td></tr>\n",
    "<tr><td>quantile, nbins=20</td><td>mean: 10.836, std: 12.383</td><td>152/266 = 57.14%</td><td>mean: 7.922, std: 8.702</td><td>79/100 = 79.00%</td></tr>\n",
    "<tr><td>quantile, nbins=21</td><td>mean: 10.579, std: 12.301</td><td>162/266 = 60.90%</td><td>EMPTY ROW 15</td><td>NaN</td></tr>\n",
    "<tr><td>equalWidth, nbins=2</td><td>EMPTY LAST BIN</td><td>NaN</td><td>EMPTY LAST BIN</td><td>NaN</td></tr>\n",
    "<tr><td>equalWidth, nbins=3</td><td>EMPTY LAST BIN</td><td>NaN</td><td>EMPTY LAST TWO BIN</td><td>NaN</td></tr>\n",
    "<tr><td>equalWidth, nbins=4</td><td>EMPTY LAST TWO BIN</td><td>NaN</td><td>EMPTY LAST TWO BIN</td><td>NaN</td></tr>\n",
    "<tr><td>another, bins=[0, 2, 5, 100]</td><td>mean: 15.110, std: 16.204</td><td>117/266 = 43.98%</td><td>mean: 14.937, std: 16.630</td><td>60/100 = 60.00%</td></tr>\n",
    "</table>"
   ]
  },
  {
   "cell_type": "code",
   "execution_count": 7,
   "metadata": {
    "collapsed": true
   },
   "outputs": [],
   "source": [
    "rank_mean_Toro = [15.156, 14.917, 14.389, 13.645, 14.299, 12.689, 12.996, 12.510, 12.467, 12.548, 11.980, \\\n",
    "                  12.170, 11.384, 11.444, 10.932, 10.991, 10.836, 15.110]\n",
    "rank_std_Toro = [16.911, 17.484, 17.527, 16.550, 17.550, 14.674, 15.606, 14.946, 14.549, 14.758, 13.883, \\\n",
    "                 13.983, 12.787, 12.888, 12.621, 12.950, 12.383, 16.204]\n",
    "rank_mean_Glas = [14.354, 14.450, 14.255, 14.085, 13.156, 12.755, 11.716, 11.355, 11.181, 10.214, 10.041, \\\n",
    "                  9.345, 9.008, 8.613, 8.553, 8.025, 7.922, 14.937]\n",
    "rank_std_Glas = [16.541, 16.173, 16.184, 16.159, 14.436, 13.681, 13.003, 12.893, 12.107, 10.872, 10.895, \\\n",
    "                 9.759, 9.444, 9.052, 9.336, 8.502, 8.702, 16.630]\n",
    "rank_top5_Toro = [45.11, 48.87, 52.26, 55.64, 51.88, 52.63, 53.76, 52.63, 54.89, 53.76, 55.26, 52.63, 57.52, \\\n",
    "                  56.77, 58.65, 58.65, 57.14, 43.98]\n",
    "rank_top5_Glas = [60, 60, 64, 63, 63, 62, 64, 66, 68, 68, 73, 73, 73, 75, 74, 79, 79, 60]\n",
    "xlabels = [x for x in range(2, len(rank_mean_Toro)+2)]"
   ]
  },
  {
   "cell_type": "code",
   "execution_count": 9,
   "metadata": {
    "collapsed": false
   },
   "outputs": [
    {
     "data": {
      "text/plain": [
       "<matplotlib.text.Annotation at 0x7f8634a6cc18>"
      ]
     },
     "execution_count": 9,
     "metadata": {},
     "output_type": "execute_result"
    },
    {
     "data": {
      "image/png": "[encoded data removed]",
      "text/plain": [
       "<matplotlib.figure.Figure at 0x7f8634c99978>"
      ]
     },
     "metadata": {},
     "output_type": "display_data"
    }
   ],
   "source": [
    "plt.figure(figsize=[15, 10])\n",
    "plt.xlim([0, len(rank_mean_Toro)+2])\n",
    "plt.ylim([-20, 100])\n",
    "plt.errorbar(xlabels, rank_mean_Toro, rank_std_Toro, linestyle='--', marker='s', label='errorbar_Toronto')\n",
    "plt.errorbar(xlabels, rank_mean_Glas, rank_std_Glas, linestyle='--', marker='s', label='errorbar_Glasgow')\n",
    "plt.plot(xlabels, rank_top5_Toro, linestyle='--', marker='s', label='top5_Toronto')\n",
    "plt.plot(xlabels, rank_top5_Glas, linestyle='--', marker='s', label='top5_Glasgow')\n",
    "plt.legend()\n",
    "idx1 = 3\n",
    "idx2 = 8\n",
    "plt.annotate('quantile, nbins=5', xy=(xlabels[idx1], rank_top5_Glas[idx1]), xytext=(xlabels[idx1], \\\n",
    "             rank_top5_Glas[idx1]+15), arrowprops=dict(facecolor='green', shrink=0.1))\n",
    "plt.annotate('quantile, nbins=10', xy=(xlabels[idx2], rank_top5_Glas[idx2]), xytext=(xlabels[idx2], \\\n",
    "             rank_top5_Glas[idx2]+15), arrowprops=dict(facecolor='blue', shrink=0.1))"
   ]
  },
  {
   "cell_type": "markdown",
   "metadata": {},
   "source": [
    "Remove rows that contain `NaN` and plot the curve, \n",
    "we can choose either `\"quantile, nbins=5\"` or `\"quantile, nbins=10\"` to balance the complexity and accuracy."
   ]
  },
  {
   "cell_type": "code",
   "execution_count": 148,
   "metadata": {
    "collapsed": false
   },
   "outputs": [],
   "source": [
    "#distdata = pd.Series([x for x in np.unique(poi_distmat.get_values().flatten()) if not np.isnan(x)])\n",
    "distdata = pd.Series([poi_distmat.iloc[x, y] \\\n",
    "                      for x in range(poi_distmat.index.shape[0]) \\\n",
    "                      for y in range(x+1, poi_distmat.index.shape[0]) \\\n",
    "                      if not np.isnan(poi_distmat.iloc[x, y])])"
   ]
  },
  {
   "cell_type": "code",
   "execution_count": 149,
   "metadata": {
    "collapsed": false
   },
   "outputs": [
    {
     "data": {
      "text/plain": [
       "count    179.000000\n",
       "mean       2.069742\n",
       "std        1.659092\n",
       "min        0.147439\n",
       "25%        0.975327\n",
       "50%        1.710602\n",
       "75%        2.655934\n",
       "max        9.857157\n",
       "dtype: float64"
      ]
     },
     "execution_count": 149,
     "metadata": {},
     "output_type": "execute_result"
    }
   ],
   "source": [
    "distdata.describe()"
   ]
  },
  {
   "cell_type": "code",
   "execution_count": 150,
   "metadata": {
    "collapsed": false
   },
   "outputs": [
    {
     "data": {
      "text/plain": [
       "<matplotlib.text.Text at 0x7f28bf9b94e0>"
      ]
     },
     "execution_count": 150,
     "metadata": {},
     "output_type": "execute_result"
    },
    {
     "data": {
      "image/png": "[encoded data removed]",
      "text/plain": [
       "<matplotlib.figure.Figure at 0x7f289a0e8278>"
      ]
     },
     "metadata": {},
     "output_type": "display_data"
    }
   ],
   "source": [
    "ax = distdata.hist(bins=20)\n",
    "ax.set_xlabel('POI-Pair Distance (km)')\n",
    "ax.set_ylabel('#POI-Pair')"
   ]
  },
  {
   "cell_type": "markdown",
   "metadata": {},
   "source": [
    "### Quantile based bins (equal frequency)"
   ]
  },
  {
   "cell_type": "code",
   "execution_count": 151,
   "metadata": {
    "collapsed": false
   },
   "outputs": [
    {
     "data": {
      "text/plain": [
       "array([ 0.1,  0.2,  0.3,  0.4,  0.5,  0.6,  0.7,  0.8,  0.9])"
      ]
     },
     "execution_count": 151,
     "metadata": {},
     "output_type": "execute_result"
    }
   ],
   "source": [
    "nbins = 10\n",
    "quantiles = np.round(np.linspace(0, 1, nbins+1), 2)[1:-1]\n",
    "quantiles"
   ]
  },
  {
   "cell_type": "code",
   "execution_count": 152,
   "metadata": {
    "collapsed": false
   },
   "outputs": [
    {
     "data": {
      "text/plain": [
       "[0,\n",
       " 0.49867513032727601,\n",
       " 0.83513546479600187,\n",
       " 1.1161185353028702,\n",
       " 1.3750370714330364,\n",
       " 1.7106015051827066,\n",
       " 2.0006314262495546,\n",
       " 2.4371396900920255,\n",
       " 2.8751184490006279,\n",
       " 3.7563375218812638,\n",
       " 100.0]"
      ]
     },
     "execution_count": 152,
     "metadata": {},
     "output_type": "execute_result"
    }
   ],
   "source": [
    "bins_qt = [0]\n",
    "bins_qt.extend(distdata.quantile(quantiles))\n",
    "bins_qt.append(10*round(distdata.max()))\n",
    "bins_qt"
   ]
  },
  {
   "cell_type": "markdown",
   "metadata": {},
   "source": [
    "### Equal width bins"
   ]
  },
  {
   "cell_type": "code",
   "execution_count": 153,
   "metadata": {
    "collapsed": false
   },
   "outputs": [],
   "source": [
    "#nbins = 4\n",
    "#inter = round((round(distdata.max()) + 1) / nbins)\n",
    "#maxdist = 30 # Toronto, maximum distance among all POI pairs\n",
    "#maxdist = 46 # Glasgow\n",
    "#inter = round(maxdist / nbins) \n",
    "#bins_ew = [x*inter for x in range(nbins)]\n",
    "#bins_ew.append(maxdist)\n",
    "#bins_ew"
   ]
  },
  {
   "cell_type": "markdown",
   "metadata": {},
   "source": [
    "### Another Equal frequency bins"
   ]
  },
  {
   "cell_type": "code",
   "execution_count": 154,
   "metadata": {
    "collapsed": true
   },
   "outputs": [],
   "source": [
    "#bins = np.linspace(0, 10, 7)\n",
    "#bins = np.logspace(0, 2, 4)\n",
    "#bins = [0, 1, 2, 3, 10]\n",
    "#bins_a = [0, 2, 5, 100] # walk, ride, drive"
   ]
  },
  {
   "cell_type": "code",
   "execution_count": 155,
   "metadata": {
    "collapsed": true
   },
   "outputs": [],
   "source": [
    "#bins_ef = [0, 1.15, 2.25, 100]"
   ]
  },
  {
   "cell_type": "code",
   "execution_count": 156,
   "metadata": {
    "collapsed": true
   },
   "outputs": [],
   "source": [
    "bins_dist = bins_qt\n",
    "#bins_dist = bins_ew\n",
    "#bins_dist = bins_ef\n",
    "#bins_dist = bins_a"
   ]
  },
  {
   "cell_type": "code",
   "execution_count": 157,
   "metadata": {
    "collapsed": false
   },
   "outputs": [
    {
     "data": {
      "image/png": "[encoded data removed]",
      "text/plain": [
       "<matplotlib.figure.Figure at 0x7f2899e2b198>"
      ]
     },
     "metadata": {},
     "output_type": "display_data"
    }
   ],
   "source": [
    "ax = distdata.ix[np.nonzero(distdata)].hist(bins=bins_dist)\n",
    "ax.set_xlabel('POI-Pair Distance (km)')\n",
    "ax.set_ylabel('#POI-Pair')\n",
    "ax.set_xscale('log')"
   ]
  },
  {
   "cell_type": "code",
   "execution_count": 158,
   "metadata": {
    "collapsed": true
   },
   "outputs": [],
   "source": [
    "poi_distclass_mat = pd.DataFrame(data=np.zeros((poi_all.shape[0], poi_all.shape[0]), dtype=np.int), \\\n",
    "                                 index=poi_all.index, columns=poi_all.index)"
   ]
  },
  {
   "cell_type": "code",
   "execution_count": 159,
   "metadata": {
    "collapsed": true
   },
   "outputs": [],
   "source": [
    "for i in range(poi_all.index.shape[0]):\n",
    "    poi1 = poi_all.index[i]\n",
    "    for j in range(i+1, poi_all.index.shape[0]):\n",
    "        poi2 = poi_all.index[j]\n",
    "        dc = None\n",
    "        if np.isnan(poi_distmat.loc[poi1, poi2]):\n",
    "            dist = calc_dist(poi_all.loc[poi1, 'poiLon'], poi_all.loc[poi1, 'poiLat'], \\\n",
    "                             poi_all.loc[poi2, 'poiLon'], poi_all.loc[poi2, 'poiLat'])\n",
    "            dc = np.digitize([dist], bins_dist)[0]\n",
    "        else:\n",
    "            dc = np.digitize([poi_distmat.loc[poi1, poi2]], bins_dist)[0]\n",
    "        assert(dc is not None)\n",
    "        poi_distclass_mat.loc[poi1, poi2] = dc\n",
    "        poi_distclass_mat.loc[poi2, poi1] = dc"
   ]
  },
  {
   "cell_type": "code",
   "execution_count": 160,
   "metadata": {
    "collapsed": false
   },
   "outputs": [
    {
     "data": {
      "text/html": [
       "<div>\n",
       "<table border=\"1\" class=\"dataframe\">\n",
       "  <thead>\n",
       "    <tr style=\"text-align: right;\">\n",
       "      <th>poiID</th>\n",
       "      <th>1</th>\n",
       "      <th>2</th>\n",
       "      <th>3</th>\n",
       "      <th>4</th>\n",
       "      <th>6</th>\n",
       "      <th>7</th>\n",
       "      <th>8</th>\n",
       "      <th>9</th>\n",
       "      <th>10</th>\n",
       "      <th>11</th>\n",
       "      <th>...</th>\n",
       "      <th>21</th>\n",
       "      <th>22</th>\n",
       "      <th>23</th>\n",
       "      <th>24</th>\n",
       "      <th>25</th>\n",
       "      <th>26</th>\n",
       "      <th>27</th>\n",
       "      <th>28</th>\n",
       "      <th>29</th>\n",
       "      <th>30</th>\n",
       "    </tr>\n",
       "    <tr>\n",
       "      <th>poiID</th>\n",
       "      <th></th>\n",
       "      <th></th>\n",
       "      <th></th>\n",
       "      <th></th>\n",
       "      <th></th>\n",
       "      <th></th>\n",
       "      <th></th>\n",
       "      <th></th>\n",
       "      <th></th>\n",
       "      <th></th>\n",
       "      <th></th>\n",
       "      <th></th>\n",
       "      <th></th>\n",
       "      <th></th>\n",
       "      <th></th>\n",
       "      <th></th>\n",
       "      <th></th>\n",
       "      <th></th>\n",
       "      <th></th>\n",
       "      <th></th>\n",
       "      <th></th>\n",
       "    </tr>\n",
       "  </thead>\n",
       "  <tbody>\n",
       "    <tr>\n",
       "      <th>1</th>\n",
       "      <td>0</td>\n",
       "      <td>9</td>\n",
       "      <td>7</td>\n",
       "      <td>3</td>\n",
       "      <td>5</td>\n",
       "      <td>1</td>\n",
       "      <td>2</td>\n",
       "      <td>10</td>\n",
       "      <td>9</td>\n",
       "      <td>9</td>\n",
       "      <td>...</td>\n",
       "      <td>5</td>\n",
       "      <td>3</td>\n",
       "      <td>4</td>\n",
       "      <td>2</td>\n",
       "      <td>7</td>\n",
       "      <td>10</td>\n",
       "      <td>9</td>\n",
       "      <td>3</td>\n",
       "      <td>7</td>\n",
       "      <td>1</td>\n",
       "    </tr>\n",
       "    <tr>\n",
       "      <th>2</th>\n",
       "      <td>9</td>\n",
       "      <td>0</td>\n",
       "      <td>10</td>\n",
       "      <td>8</td>\n",
       "      <td>9</td>\n",
       "      <td>9</td>\n",
       "      <td>9</td>\n",
       "      <td>10</td>\n",
       "      <td>10</td>\n",
       "      <td>10</td>\n",
       "      <td>...</td>\n",
       "      <td>10</td>\n",
       "      <td>9</td>\n",
       "      <td>10</td>\n",
       "      <td>9</td>\n",
       "      <td>8</td>\n",
       "      <td>10</td>\n",
       "      <td>10</td>\n",
       "      <td>9</td>\n",
       "      <td>10</td>\n",
       "      <td>9</td>\n",
       "    </tr>\n",
       "    <tr>\n",
       "      <th>3</th>\n",
       "      <td>7</td>\n",
       "      <td>10</td>\n",
       "      <td>0</td>\n",
       "      <td>8</td>\n",
       "      <td>4</td>\n",
       "      <td>5</td>\n",
       "      <td>7</td>\n",
       "      <td>10</td>\n",
       "      <td>5</td>\n",
       "      <td>4</td>\n",
       "      <td>...</td>\n",
       "      <td>2</td>\n",
       "      <td>4</td>\n",
       "      <td>3</td>\n",
       "      <td>8</td>\n",
       "      <td>6</td>\n",
       "      <td>10</td>\n",
       "      <td>4</td>\n",
       "      <td>3</td>\n",
       "      <td>3</td>\n",
       "      <td>6</td>\n",
       "    </tr>\n",
       "    <tr>\n",
       "      <th>4</th>\n",
       "      <td>3</td>\n",
       "      <td>8</td>\n",
       "      <td>8</td>\n",
       "      <td>0</td>\n",
       "      <td>5</td>\n",
       "      <td>4</td>\n",
       "      <td>1</td>\n",
       "      <td>10</td>\n",
       "      <td>9</td>\n",
       "      <td>9</td>\n",
       "      <td>...</td>\n",
       "      <td>6</td>\n",
       "      <td>4</td>\n",
       "      <td>5</td>\n",
       "      <td>2</td>\n",
       "      <td>6</td>\n",
       "      <td>10</td>\n",
       "      <td>9</td>\n",
       "      <td>4</td>\n",
       "      <td>7</td>\n",
       "      <td>3</td>\n",
       "    </tr>\n",
       "    <tr>\n",
       "      <th>6</th>\n",
       "      <td>5</td>\n",
       "      <td>9</td>\n",
       "      <td>4</td>\n",
       "      <td>5</td>\n",
       "      <td>0</td>\n",
       "      <td>5</td>\n",
       "      <td>5</td>\n",
       "      <td>10</td>\n",
       "      <td>9</td>\n",
       "      <td>5</td>\n",
       "      <td>...</td>\n",
       "      <td>3</td>\n",
       "      <td>2</td>\n",
       "      <td>3</td>\n",
       "      <td>6</td>\n",
       "      <td>2</td>\n",
       "      <td>10</td>\n",
       "      <td>6</td>\n",
       "      <td>3</td>\n",
       "      <td>3</td>\n",
       "      <td>4</td>\n",
       "    </tr>\n",
       "    <tr>\n",
       "      <th>7</th>\n",
       "      <td>1</td>\n",
       "      <td>9</td>\n",
       "      <td>5</td>\n",
       "      <td>4</td>\n",
       "      <td>5</td>\n",
       "      <td>0</td>\n",
       "      <td>2</td>\n",
       "      <td>10</td>\n",
       "      <td>8</td>\n",
       "      <td>8</td>\n",
       "      <td>...</td>\n",
       "      <td>3</td>\n",
       "      <td>2</td>\n",
       "      <td>2</td>\n",
       "      <td>3</td>\n",
       "      <td>7</td>\n",
       "      <td>10</td>\n",
       "      <td>8</td>\n",
       "      <td>2</td>\n",
       "      <td>7</td>\n",
       "      <td>1</td>\n",
       "    </tr>\n",
       "    <tr>\n",
       "      <th>8</th>\n",
       "      <td>2</td>\n",
       "      <td>9</td>\n",
       "      <td>7</td>\n",
       "      <td>1</td>\n",
       "      <td>5</td>\n",
       "      <td>2</td>\n",
       "      <td>0</td>\n",
       "      <td>10</td>\n",
       "      <td>9</td>\n",
       "      <td>8</td>\n",
       "      <td>...</td>\n",
       "      <td>5</td>\n",
       "      <td>4</td>\n",
       "      <td>4</td>\n",
       "      <td>1</td>\n",
       "      <td>6</td>\n",
       "      <td>10</td>\n",
       "      <td>9</td>\n",
       "      <td>4</td>\n",
       "      <td>7</td>\n",
       "      <td>2</td>\n",
       "    </tr>\n",
       "    <tr>\n",
       "      <th>9</th>\n",
       "      <td>10</td>\n",
       "      <td>10</td>\n",
       "      <td>10</td>\n",
       "      <td>10</td>\n",
       "      <td>10</td>\n",
       "      <td>10</td>\n",
       "      <td>10</td>\n",
       "      <td>0</td>\n",
       "      <td>10</td>\n",
       "      <td>10</td>\n",
       "      <td>...</td>\n",
       "      <td>10</td>\n",
       "      <td>10</td>\n",
       "      <td>10</td>\n",
       "      <td>10</td>\n",
       "      <td>10</td>\n",
       "      <td>10</td>\n",
       "      <td>10</td>\n",
       "      <td>10</td>\n",
       "      <td>10</td>\n",
       "      <td>10</td>\n",
       "    </tr>\n",
       "    <tr>\n",
       "      <th>10</th>\n",
       "      <td>9</td>\n",
       "      <td>10</td>\n",
       "      <td>5</td>\n",
       "      <td>9</td>\n",
       "      <td>9</td>\n",
       "      <td>8</td>\n",
       "      <td>9</td>\n",
       "      <td>10</td>\n",
       "      <td>0</td>\n",
       "      <td>8</td>\n",
       "      <td>...</td>\n",
       "      <td>6</td>\n",
       "      <td>7</td>\n",
       "      <td>7</td>\n",
       "      <td>9</td>\n",
       "      <td>9</td>\n",
       "      <td>10</td>\n",
       "      <td>7</td>\n",
       "      <td>7</td>\n",
       "      <td>8</td>\n",
       "      <td>8</td>\n",
       "    </tr>\n",
       "    <tr>\n",
       "      <th>11</th>\n",
       "      <td>9</td>\n",
       "      <td>10</td>\n",
       "      <td>4</td>\n",
       "      <td>9</td>\n",
       "      <td>5</td>\n",
       "      <td>8</td>\n",
       "      <td>8</td>\n",
       "      <td>10</td>\n",
       "      <td>8</td>\n",
       "      <td>0</td>\n",
       "      <td>...</td>\n",
       "      <td>5</td>\n",
       "      <td>6</td>\n",
       "      <td>6</td>\n",
       "      <td>9</td>\n",
       "      <td>5</td>\n",
       "      <td>10</td>\n",
       "      <td>1</td>\n",
       "      <td>6</td>\n",
       "      <td>2</td>\n",
       "      <td>8</td>\n",
       "    </tr>\n",
       "    <tr>\n",
       "      <th>12</th>\n",
       "      <td>10</td>\n",
       "      <td>10</td>\n",
       "      <td>10</td>\n",
       "      <td>10</td>\n",
       "      <td>10</td>\n",
       "      <td>10</td>\n",
       "      <td>10</td>\n",
       "      <td>10</td>\n",
       "      <td>10</td>\n",
       "      <td>10</td>\n",
       "      <td>...</td>\n",
       "      <td>10</td>\n",
       "      <td>10</td>\n",
       "      <td>10</td>\n",
       "      <td>10</td>\n",
       "      <td>10</td>\n",
       "      <td>10</td>\n",
       "      <td>10</td>\n",
       "      <td>10</td>\n",
       "      <td>10</td>\n",
       "      <td>10</td>\n",
       "    </tr>\n",
       "    <tr>\n",
       "      <th>13</th>\n",
       "      <td>10</td>\n",
       "      <td>10</td>\n",
       "      <td>9</td>\n",
       "      <td>10</td>\n",
       "      <td>9</td>\n",
       "      <td>10</td>\n",
       "      <td>10</td>\n",
       "      <td>10</td>\n",
       "      <td>10</td>\n",
       "      <td>6</td>\n",
       "      <td>...</td>\n",
       "      <td>9</td>\n",
       "      <td>9</td>\n",
       "      <td>9</td>\n",
       "      <td>10</td>\n",
       "      <td>8</td>\n",
       "      <td>10</td>\n",
       "      <td>6</td>\n",
       "      <td>9</td>\n",
       "      <td>7</td>\n",
       "      <td>10</td>\n",
       "    </tr>\n",
       "    <tr>\n",
       "      <th>14</th>\n",
       "      <td>9</td>\n",
       "      <td>1</td>\n",
       "      <td>10</td>\n",
       "      <td>7</td>\n",
       "      <td>9</td>\n",
       "      <td>9</td>\n",
       "      <td>8</td>\n",
       "      <td>10</td>\n",
       "      <td>10</td>\n",
       "      <td>10</td>\n",
       "      <td>...</td>\n",
       "      <td>10</td>\n",
       "      <td>9</td>\n",
       "      <td>9</td>\n",
       "      <td>8</td>\n",
       "      <td>8</td>\n",
       "      <td>10</td>\n",
       "      <td>10</td>\n",
       "      <td>9</td>\n",
       "      <td>10</td>\n",
       "      <td>9</td>\n",
       "    </tr>\n",
       "    <tr>\n",
       "      <th>15</th>\n",
       "      <td>8</td>\n",
       "      <td>10</td>\n",
       "      <td>10</td>\n",
       "      <td>8</td>\n",
       "      <td>10</td>\n",
       "      <td>9</td>\n",
       "      <td>8</td>\n",
       "      <td>10</td>\n",
       "      <td>10</td>\n",
       "      <td>10</td>\n",
       "      <td>...</td>\n",
       "      <td>10</td>\n",
       "      <td>9</td>\n",
       "      <td>10</td>\n",
       "      <td>7</td>\n",
       "      <td>10</td>\n",
       "      <td>10</td>\n",
       "      <td>10</td>\n",
       "      <td>9</td>\n",
       "      <td>10</td>\n",
       "      <td>9</td>\n",
       "    </tr>\n",
       "    <tr>\n",
       "      <th>16</th>\n",
       "      <td>2</td>\n",
       "      <td>8</td>\n",
       "      <td>7</td>\n",
       "      <td>1</td>\n",
       "      <td>4</td>\n",
       "      <td>3</td>\n",
       "      <td>1</td>\n",
       "      <td>10</td>\n",
       "      <td>9</td>\n",
       "      <td>8</td>\n",
       "      <td>...</td>\n",
       "      <td>5</td>\n",
       "      <td>3</td>\n",
       "      <td>4</td>\n",
       "      <td>2</td>\n",
       "      <td>6</td>\n",
       "      <td>10</td>\n",
       "      <td>9</td>\n",
       "      <td>4</td>\n",
       "      <td>7</td>\n",
       "      <td>2</td>\n",
       "    </tr>\n",
       "    <tr>\n",
       "      <th>17</th>\n",
       "      <td>9</td>\n",
       "      <td>1</td>\n",
       "      <td>10</td>\n",
       "      <td>7</td>\n",
       "      <td>9</td>\n",
       "      <td>9</td>\n",
       "      <td>8</td>\n",
       "      <td>10</td>\n",
       "      <td>10</td>\n",
       "      <td>10</td>\n",
       "      <td>...</td>\n",
       "      <td>10</td>\n",
       "      <td>9</td>\n",
       "      <td>9</td>\n",
       "      <td>8</td>\n",
       "      <td>8</td>\n",
       "      <td>10</td>\n",
       "      <td>10</td>\n",
       "      <td>9</td>\n",
       "      <td>10</td>\n",
       "      <td>9</td>\n",
       "    </tr>\n",
       "    <tr>\n",
       "      <th>18</th>\n",
       "      <td>10</td>\n",
       "      <td>8</td>\n",
       "      <td>10</td>\n",
       "      <td>10</td>\n",
       "      <td>10</td>\n",
       "      <td>10</td>\n",
       "      <td>10</td>\n",
       "      <td>10</td>\n",
       "      <td>10</td>\n",
       "      <td>10</td>\n",
       "      <td>...</td>\n",
       "      <td>10</td>\n",
       "      <td>10</td>\n",
       "      <td>10</td>\n",
       "      <td>10</td>\n",
       "      <td>10</td>\n",
       "      <td>10</td>\n",
       "      <td>10</td>\n",
       "      <td>10</td>\n",
       "      <td>10</td>\n",
       "      <td>10</td>\n",
       "    </tr>\n",
       "    <tr>\n",
       "      <th>19</th>\n",
       "      <td>7</td>\n",
       "      <td>9</td>\n",
       "      <td>10</td>\n",
       "      <td>7</td>\n",
       "      <td>9</td>\n",
       "      <td>8</td>\n",
       "      <td>7</td>\n",
       "      <td>10</td>\n",
       "      <td>10</td>\n",
       "      <td>10</td>\n",
       "      <td>...</td>\n",
       "      <td>10</td>\n",
       "      <td>9</td>\n",
       "      <td>9</td>\n",
       "      <td>6</td>\n",
       "      <td>10</td>\n",
       "      <td>10</td>\n",
       "      <td>10</td>\n",
       "      <td>9</td>\n",
       "      <td>10</td>\n",
       "      <td>8</td>\n",
       "    </tr>\n",
       "    <tr>\n",
       "      <th>20</th>\n",
       "      <td>10</td>\n",
       "      <td>10</td>\n",
       "      <td>10</td>\n",
       "      <td>10</td>\n",
       "      <td>10</td>\n",
       "      <td>10</td>\n",
       "      <td>10</td>\n",
       "      <td>10</td>\n",
       "      <td>10</td>\n",
       "      <td>10</td>\n",
       "      <td>...</td>\n",
       "      <td>10</td>\n",
       "      <td>10</td>\n",
       "      <td>10</td>\n",
       "      <td>10</td>\n",
       "      <td>10</td>\n",
       "      <td>10</td>\n",
       "      <td>10</td>\n",
       "      <td>10</td>\n",
       "      <td>10</td>\n",
       "      <td>10</td>\n",
       "    </tr>\n",
       "    <tr>\n",
       "      <th>21</th>\n",
       "      <td>5</td>\n",
       "      <td>10</td>\n",
       "      <td>2</td>\n",
       "      <td>6</td>\n",
       "      <td>3</td>\n",
       "      <td>3</td>\n",
       "      <td>5</td>\n",
       "      <td>10</td>\n",
       "      <td>6</td>\n",
       "      <td>5</td>\n",
       "      <td>...</td>\n",
       "      <td>0</td>\n",
       "      <td>1</td>\n",
       "      <td>1</td>\n",
       "      <td>6</td>\n",
       "      <td>5</td>\n",
       "      <td>10</td>\n",
       "      <td>6</td>\n",
       "      <td>1</td>\n",
       "      <td>3</td>\n",
       "      <td>4</td>\n",
       "    </tr>\n",
       "    <tr>\n",
       "      <th>22</th>\n",
       "      <td>3</td>\n",
       "      <td>9</td>\n",
       "      <td>4</td>\n",
       "      <td>4</td>\n",
       "      <td>2</td>\n",
       "      <td>2</td>\n",
       "      <td>4</td>\n",
       "      <td>10</td>\n",
       "      <td>7</td>\n",
       "      <td>6</td>\n",
       "      <td>...</td>\n",
       "      <td>1</td>\n",
       "      <td>0</td>\n",
       "      <td>1</td>\n",
       "      <td>5</td>\n",
       "      <td>5</td>\n",
       "      <td>10</td>\n",
       "      <td>7</td>\n",
       "      <td>1</td>\n",
       "      <td>4</td>\n",
       "      <td>2</td>\n",
       "    </tr>\n",
       "    <tr>\n",
       "      <th>23</th>\n",
       "      <td>4</td>\n",
       "      <td>10</td>\n",
       "      <td>3</td>\n",
       "      <td>5</td>\n",
       "      <td>3</td>\n",
       "      <td>2</td>\n",
       "      <td>4</td>\n",
       "      <td>10</td>\n",
       "      <td>7</td>\n",
       "      <td>6</td>\n",
       "      <td>...</td>\n",
       "      <td>1</td>\n",
       "      <td>1</td>\n",
       "      <td>0</td>\n",
       "      <td>5</td>\n",
       "      <td>6</td>\n",
       "      <td>10</td>\n",
       "      <td>7</td>\n",
       "      <td>1</td>\n",
       "      <td>4</td>\n",
       "      <td>3</td>\n",
       "    </tr>\n",
       "    <tr>\n",
       "      <th>24</th>\n",
       "      <td>2</td>\n",
       "      <td>9</td>\n",
       "      <td>8</td>\n",
       "      <td>2</td>\n",
       "      <td>6</td>\n",
       "      <td>3</td>\n",
       "      <td>1</td>\n",
       "      <td>10</td>\n",
       "      <td>9</td>\n",
       "      <td>9</td>\n",
       "      <td>...</td>\n",
       "      <td>6</td>\n",
       "      <td>5</td>\n",
       "      <td>5</td>\n",
       "      <td>0</td>\n",
       "      <td>7</td>\n",
       "      <td>10</td>\n",
       "      <td>9</td>\n",
       "      <td>5</td>\n",
       "      <td>8</td>\n",
       "      <td>2</td>\n",
       "    </tr>\n",
       "    <tr>\n",
       "      <th>25</th>\n",
       "      <td>7</td>\n",
       "      <td>8</td>\n",
       "      <td>6</td>\n",
       "      <td>6</td>\n",
       "      <td>2</td>\n",
       "      <td>7</td>\n",
       "      <td>6</td>\n",
       "      <td>10</td>\n",
       "      <td>9</td>\n",
       "      <td>5</td>\n",
       "      <td>...</td>\n",
       "      <td>5</td>\n",
       "      <td>5</td>\n",
       "      <td>6</td>\n",
       "      <td>7</td>\n",
       "      <td>0</td>\n",
       "      <td>10</td>\n",
       "      <td>6</td>\n",
       "      <td>5</td>\n",
       "      <td>4</td>\n",
       "      <td>6</td>\n",
       "    </tr>\n",
       "    <tr>\n",
       "      <th>26</th>\n",
       "      <td>10</td>\n",
       "      <td>10</td>\n",
       "      <td>10</td>\n",
       "      <td>10</td>\n",
       "      <td>10</td>\n",
       "      <td>10</td>\n",
       "      <td>10</td>\n",
       "      <td>10</td>\n",
       "      <td>10</td>\n",
       "      <td>10</td>\n",
       "      <td>...</td>\n",
       "      <td>10</td>\n",
       "      <td>10</td>\n",
       "      <td>10</td>\n",
       "      <td>10</td>\n",
       "      <td>10</td>\n",
       "      <td>0</td>\n",
       "      <td>10</td>\n",
       "      <td>10</td>\n",
       "      <td>10</td>\n",
       "      <td>10</td>\n",
       "    </tr>\n",
       "    <tr>\n",
       "      <th>27</th>\n",
       "      <td>9</td>\n",
       "      <td>10</td>\n",
       "      <td>4</td>\n",
       "      <td>9</td>\n",
       "      <td>6</td>\n",
       "      <td>8</td>\n",
       "      <td>9</td>\n",
       "      <td>10</td>\n",
       "      <td>7</td>\n",
       "      <td>1</td>\n",
       "      <td>...</td>\n",
       "      <td>6</td>\n",
       "      <td>7</td>\n",
       "      <td>7</td>\n",
       "      <td>9</td>\n",
       "      <td>6</td>\n",
       "      <td>10</td>\n",
       "      <td>0</td>\n",
       "      <td>7</td>\n",
       "      <td>3</td>\n",
       "      <td>8</td>\n",
       "    </tr>\n",
       "    <tr>\n",
       "      <th>28</th>\n",
       "      <td>3</td>\n",
       "      <td>9</td>\n",
       "      <td>3</td>\n",
       "      <td>4</td>\n",
       "      <td>3</td>\n",
       "      <td>2</td>\n",
       "      <td>4</td>\n",
       "      <td>10</td>\n",
       "      <td>7</td>\n",
       "      <td>6</td>\n",
       "      <td>...</td>\n",
       "      <td>1</td>\n",
       "      <td>1</td>\n",
       "      <td>1</td>\n",
       "      <td>5</td>\n",
       "      <td>5</td>\n",
       "      <td>10</td>\n",
       "      <td>7</td>\n",
       "      <td>0</td>\n",
       "      <td>4</td>\n",
       "      <td>2</td>\n",
       "    </tr>\n",
       "    <tr>\n",
       "      <th>29</th>\n",
       "      <td>7</td>\n",
       "      <td>10</td>\n",
       "      <td>3</td>\n",
       "      <td>7</td>\n",
       "      <td>3</td>\n",
       "      <td>7</td>\n",
       "      <td>7</td>\n",
       "      <td>10</td>\n",
       "      <td>8</td>\n",
       "      <td>2</td>\n",
       "      <td>...</td>\n",
       "      <td>3</td>\n",
       "      <td>4</td>\n",
       "      <td>4</td>\n",
       "      <td>8</td>\n",
       "      <td>4</td>\n",
       "      <td>10</td>\n",
       "      <td>3</td>\n",
       "      <td>4</td>\n",
       "      <td>0</td>\n",
       "      <td>7</td>\n",
       "    </tr>\n",
       "    <tr>\n",
       "      <th>30</th>\n",
       "      <td>1</td>\n",
       "      <td>9</td>\n",
       "      <td>6</td>\n",
       "      <td>3</td>\n",
       "      <td>4</td>\n",
       "      <td>1</td>\n",
       "      <td>2</td>\n",
       "      <td>10</td>\n",
       "      <td>8</td>\n",
       "      <td>8</td>\n",
       "      <td>...</td>\n",
       "      <td>4</td>\n",
       "      <td>2</td>\n",
       "      <td>3</td>\n",
       "      <td>2</td>\n",
       "      <td>6</td>\n",
       "      <td>10</td>\n",
       "      <td>8</td>\n",
       "      <td>2</td>\n",
       "      <td>7</td>\n",
       "      <td>0</td>\n",
       "    </tr>\n",
       "  </tbody>\n",
       "</table>\n",
       "<p>29 rows × 29 columns</p>\n",
       "</div>"
      ],
      "text/plain": [
       "poiID  1   2   3   4   6   7   8   9   10  11 ...  21  22  23  24  25  26  27  \\\n",
       "poiID                                         ...                               \n",
       "1       0   9   7   3   5   1   2  10   9   9 ...   5   3   4   2   7  10   9   \n",
       "2       9   0  10   8   9   9   9  10  10  10 ...  10   9  10   9   8  10  10   \n",
       "3       7  10   0   8   4   5   7  10   5   4 ...   2   4   3   8   6  10   4   \n",
       "4       3   8   8   0   5   4   1  10   9   9 ...   6   4   5   2   6  10   9   \n",
       "6       5   9   4   5   0   5   5  10   9   5 ...   3   2   3   6   2  10   6   \n",
       "7       1   9   5   4   5   0   2  10   8   8 ...   3   2   2   3   7  10   8   \n",
       "8       2   9   7   1   5   2   0  10   9   8 ...   5   4   4   1   6  10   9   \n",
       "9      10  10  10  10  10  10  10   0  10  10 ...  10  10  10  10  10  10  10   \n",
       "10      9  10   5   9   9   8   9  10   0   8 ...   6   7   7   9   9  10   7   \n",
       "11      9  10   4   9   5   8   8  10   8   0 ...   5   6   6   9   5  10   1   \n",
       "12     10  10  10  10  10  10  10  10  10  10 ...  10  10  10  10  10  10  10   \n",
       "13     10  10   9  10   9  10  10  10  10   6 ...   9   9   9  10   8  10   6   \n",
       "14      9   1  10   7   9   9   8  10  10  10 ...  10   9   9   8   8  10  10   \n",
       "15      8  10  10   8  10   9   8  10  10  10 ...  10   9  10   7  10  10  10   \n",
       "16      2   8   7   1   4   3   1  10   9   8 ...   5   3   4   2   6  10   9   \n",
       "17      9   1  10   7   9   9   8  10  10  10 ...  10   9   9   8   8  10  10   \n",
       "18     10   8  10  10  10  10  10  10  10  10 ...  10  10  10  10  10  10  10   \n",
       "19      7   9  10   7   9   8   7  10  10  10 ...  10   9   9   6  10  10  10   \n",
       "20     10  10  10  10  10  10  10  10  10  10 ...  10  10  10  10  10  10  10   \n",
       "21      5  10   2   6   3   3   5  10   6   5 ...   0   1   1   6   5  10   6   \n",
       "22      3   9   4   4   2   2   4  10   7   6 ...   1   0   1   5   5  10   7   \n",
       "23      4  10   3   5   3   2   4  10   7   6 ...   1   1   0   5   6  10   7   \n",
       "24      2   9   8   2   6   3   1  10   9   9 ...   6   5   5   0   7  10   9   \n",
       "25      7   8   6   6   2   7   6  10   9   5 ...   5   5   6   7   0  10   6   \n",
       "26     10  10  10  10  10  10  10  10  10  10 ...  10  10  10  10  10   0  10   \n",
       "27      9  10   4   9   6   8   9  10   7   1 ...   6   7   7   9   6  10   0   \n",
       "28      3   9   3   4   3   2   4  10   7   6 ...   1   1   1   5   5  10   7   \n",
       "29      7  10   3   7   3   7   7  10   8   2 ...   3   4   4   8   4  10   3   \n",
       "30      1   9   6   3   4   1   2  10   8   8 ...   4   2   3   2   6  10   8   \n",
       "\n",
       "poiID  28  29  30  \n",
       "poiID              \n",
       "1       3   7   1  \n",
       "2       9  10   9  \n",
       "3       3   3   6  \n",
       "4       4   7   3  \n",
       "6       3   3   4  \n",
       "7       2   7   1  \n",
       "8       4   7   2  \n",
       "9      10  10  10  \n",
       "10      7   8   8  \n",
       "11      6   2   8  \n",
       "12     10  10  10  \n",
       "13      9   7  10  \n",
       "14      9  10   9  \n",
       "15      9  10   9  \n",
       "16      4   7   2  \n",
       "17      9  10   9  \n",
       "18     10  10  10  \n",
       "19      9  10   8  \n",
       "20     10  10  10  \n",
       "21      1   3   4  \n",
       "22      1   4   2  \n",
       "23      1   4   3  \n",
       "24      5   8   2  \n",
       "25      5   4   6  \n",
       "26     10  10  10  \n",
       "27      7   3   8  \n",
       "28      0   4   2  \n",
       "29      4   0   7  \n",
       "30      2   7   0  \n",
       "\n",
       "[29 rows x 29 columns]"
      ]
     },
     "execution_count": 160,
     "metadata": {},
     "output_type": "execute_result"
    }
   ],
   "source": [
    "poi_distclass_mat"
   ]
  },
  {
   "cell_type": "markdown",
   "metadata": {},
   "source": [
    "### 3.4.3 Compute Transition Probabilities"
   ]
  },
  {
   "cell_type": "markdown",
   "metadata": {},
   "source": [
    "Use POI pair that is **observed** in dataset to compute the transition matrix between different \"class\" of distances."
   ]
  },
  {
   "cell_type": "code",
   "execution_count": 161,
   "metadata": {
    "collapsed": false
   },
   "outputs": [],
   "source": [
    "def calc_poipair_dist_transmat(seqid_set, poi_all, seq_all, poi_distclass_mat, bins_dist):\n",
    "    dist_class = list(range(1, len(bins_dist)))\n",
    "    poipair_dist_transmat = pd.DataFrame(data=np.zeros((len(dist_class), len(dist_class)), dtype=np.float), \\\n",
    "                                         index=dist_class, columns=dist_class)\n",
    "    for seqid in seqid_set:\n",
    "        seq = extract_seq(seqid, seq_all)\n",
    "        if len(seq) < 3: continue\n",
    "        for j in range(1, len(seq)-1):\n",
    "            poi1 = seq[j-1]\n",
    "            poi2 = seq[j]\n",
    "            poi3 = seq[j+1]\n",
    "            dc1 = poi_distclass_mat.loc[poi1, poi2]\n",
    "            dc2 = poi_distclass_mat.loc[poi2, poi3]\n",
    "            poipair_dist_transmat.loc[dc1, dc2] += 1\n",
    "    return poipair_dist_transmat"
   ]
  },
  {
   "cell_type": "code",
   "execution_count": 162,
   "metadata": {
    "collapsed": false
   },
   "outputs": [
    {
     "data": {
      "text/html": [
       "<div>\n",
       "<table border=\"1\" class=\"dataframe\">\n",
       "  <thead>\n",
       "    <tr style=\"text-align: right;\">\n",
       "      <th></th>\n",
       "      <th>1</th>\n",
       "      <th>2</th>\n",
       "      <th>3</th>\n",
       "      <th>4</th>\n",
       "      <th>5</th>\n",
       "      <th>6</th>\n",
       "      <th>7</th>\n",
       "      <th>8</th>\n",
       "      <th>9</th>\n",
       "      <th>10</th>\n",
       "    </tr>\n",
       "  </thead>\n",
       "  <tbody>\n",
       "    <tr>\n",
       "      <th>1</th>\n",
       "      <td>121</td>\n",
       "      <td>54</td>\n",
       "      <td>36</td>\n",
       "      <td>30</td>\n",
       "      <td>9</td>\n",
       "      <td>5</td>\n",
       "      <td>3</td>\n",
       "      <td>3</td>\n",
       "      <td>0</td>\n",
       "      <td>2</td>\n",
       "    </tr>\n",
       "    <tr>\n",
       "      <th>2</th>\n",
       "      <td>65</td>\n",
       "      <td>25</td>\n",
       "      <td>11</td>\n",
       "      <td>7</td>\n",
       "      <td>5</td>\n",
       "      <td>3</td>\n",
       "      <td>4</td>\n",
       "      <td>3</td>\n",
       "      <td>0</td>\n",
       "      <td>1</td>\n",
       "    </tr>\n",
       "    <tr>\n",
       "      <th>3</th>\n",
       "      <td>25</td>\n",
       "      <td>20</td>\n",
       "      <td>4</td>\n",
       "      <td>4</td>\n",
       "      <td>2</td>\n",
       "      <td>2</td>\n",
       "      <td>3</td>\n",
       "      <td>2</td>\n",
       "      <td>1</td>\n",
       "      <td>0</td>\n",
       "    </tr>\n",
       "    <tr>\n",
       "      <th>4</th>\n",
       "      <td>20</td>\n",
       "      <td>8</td>\n",
       "      <td>3</td>\n",
       "      <td>2</td>\n",
       "      <td>0</td>\n",
       "      <td>0</td>\n",
       "      <td>6</td>\n",
       "      <td>2</td>\n",
       "      <td>0</td>\n",
       "      <td>0</td>\n",
       "    </tr>\n",
       "    <tr>\n",
       "      <th>5</th>\n",
       "      <td>6</td>\n",
       "      <td>1</td>\n",
       "      <td>3</td>\n",
       "      <td>2</td>\n",
       "      <td>3</td>\n",
       "      <td>2</td>\n",
       "      <td>0</td>\n",
       "      <td>1</td>\n",
       "      <td>1</td>\n",
       "      <td>1</td>\n",
       "    </tr>\n",
       "    <tr>\n",
       "      <th>6</th>\n",
       "      <td>5</td>\n",
       "      <td>3</td>\n",
       "      <td>1</td>\n",
       "      <td>1</td>\n",
       "      <td>2</td>\n",
       "      <td>1</td>\n",
       "      <td>0</td>\n",
       "      <td>2</td>\n",
       "      <td>0</td>\n",
       "      <td>1</td>\n",
       "    </tr>\n",
       "    <tr>\n",
       "      <th>7</th>\n",
       "      <td>4</td>\n",
       "      <td>2</td>\n",
       "      <td>0</td>\n",
       "      <td>1</td>\n",
       "      <td>1</td>\n",
       "      <td>2</td>\n",
       "      <td>1</td>\n",
       "      <td>0</td>\n",
       "      <td>1</td>\n",
       "      <td>1</td>\n",
       "    </tr>\n",
       "    <tr>\n",
       "      <th>8</th>\n",
       "      <td>3</td>\n",
       "      <td>2</td>\n",
       "      <td>0</td>\n",
       "      <td>0</td>\n",
       "      <td>2</td>\n",
       "      <td>3</td>\n",
       "      <td>0</td>\n",
       "      <td>1</td>\n",
       "      <td>3</td>\n",
       "      <td>0</td>\n",
       "    </tr>\n",
       "    <tr>\n",
       "      <th>9</th>\n",
       "      <td>1</td>\n",
       "      <td>2</td>\n",
       "      <td>0</td>\n",
       "      <td>0</td>\n",
       "      <td>1</td>\n",
       "      <td>1</td>\n",
       "      <td>0</td>\n",
       "      <td>0</td>\n",
       "      <td>2</td>\n",
       "      <td>2</td>\n",
       "    </tr>\n",
       "    <tr>\n",
       "      <th>10</th>\n",
       "      <td>5</td>\n",
       "      <td>3</td>\n",
       "      <td>0</td>\n",
       "      <td>0</td>\n",
       "      <td>0</td>\n",
       "      <td>0</td>\n",
       "      <td>1</td>\n",
       "      <td>0</td>\n",
       "      <td>1</td>\n",
       "      <td>0</td>\n",
       "    </tr>\n",
       "  </tbody>\n",
       "</table>\n",
       "</div>"
      ],
      "text/plain": [
       "     1   2   3   4   5   6   7   8   9   10\n",
       "1   121  54  36  30   9   5   3   3   0   2\n",
       "2    65  25  11   7   5   3   4   3   0   1\n",
       "3    25  20   4   4   2   2   3   2   1   0\n",
       "4    20   8   3   2   0   0   6   2   0   0\n",
       "5     6   1   3   2   3   2   0   1   1   1\n",
       "6     5   3   1   1   2   1   0   2   0   1\n",
       "7     4   2   0   1   1   2   1   0   1   1\n",
       "8     3   2   0   0   2   3   0   1   3   0\n",
       "9     1   2   0   0   1   1   0   0   2   2\n",
       "10    5   3   0   0   0   0   1   0   1   0"
      ]
     },
     "execution_count": 162,
     "metadata": {},
     "output_type": "execute_result"
    }
   ],
   "source": [
    "poipair_dist_transmat = calc_poipair_dist_transmat(seq_all['seqID'].unique(), poi_all, seq_all, \\\n",
    "                                                   poi_distclass_mat, bins_dist)\n",
    "poipair_dist_transmat"
   ]
  },
  {
   "cell_type": "code",
   "execution_count": 163,
   "metadata": {
    "collapsed": false
   },
   "outputs": [
    {
     "data": {
      "text/html": [
       "<div>\n",
       "<table border=\"1\" class=\"dataframe\">\n",
       "  <thead>\n",
       "    <tr style=\"text-align: right;\">\n",
       "      <th></th>\n",
       "      <th>1</th>\n",
       "      <th>2</th>\n",
       "      <th>3</th>\n",
       "      <th>4</th>\n",
       "      <th>5</th>\n",
       "      <th>6</th>\n",
       "      <th>7</th>\n",
       "      <th>8</th>\n",
       "      <th>9</th>\n",
       "      <th>10</th>\n",
       "    </tr>\n",
       "  </thead>\n",
       "  <tbody>\n",
       "    <tr>\n",
       "      <th>1</th>\n",
       "      <td>0.457358</td>\n",
       "      <td>0.204528</td>\n",
       "      <td>0.136604</td>\n",
       "      <td>0.113962</td>\n",
       "      <td>0.034717</td>\n",
       "      <td>0.019623</td>\n",
       "      <td>0.012075</td>\n",
       "      <td>0.012075</td>\n",
       "      <td>0.000755</td>\n",
       "      <td>0.008302</td>\n",
       "    </tr>\n",
       "    <tr>\n",
       "      <th>2</th>\n",
       "      <td>0.520800</td>\n",
       "      <td>0.200800</td>\n",
       "      <td>0.088800</td>\n",
       "      <td>0.056800</td>\n",
       "      <td>0.040800</td>\n",
       "      <td>0.024800</td>\n",
       "      <td>0.032800</td>\n",
       "      <td>0.024800</td>\n",
       "      <td>0.000800</td>\n",
       "      <td>0.008800</td>\n",
       "    </tr>\n",
       "    <tr>\n",
       "      <th>3</th>\n",
       "      <td>0.392188</td>\n",
       "      <td>0.314063</td>\n",
       "      <td>0.064062</td>\n",
       "      <td>0.064062</td>\n",
       "      <td>0.032813</td>\n",
       "      <td>0.032813</td>\n",
       "      <td>0.048438</td>\n",
       "      <td>0.032813</td>\n",
       "      <td>0.017188</td>\n",
       "      <td>0.001563</td>\n",
       "    </tr>\n",
       "    <tr>\n",
       "      <th>4</th>\n",
       "      <td>0.469767</td>\n",
       "      <td>0.190698</td>\n",
       "      <td>0.074419</td>\n",
       "      <td>0.051163</td>\n",
       "      <td>0.004651</td>\n",
       "      <td>0.004651</td>\n",
       "      <td>0.144186</td>\n",
       "      <td>0.051163</td>\n",
       "      <td>0.004651</td>\n",
       "      <td>0.004651</td>\n",
       "    </tr>\n",
       "    <tr>\n",
       "      <th>5</th>\n",
       "      <td>0.290476</td>\n",
       "      <td>0.052381</td>\n",
       "      <td>0.147619</td>\n",
       "      <td>0.100000</td>\n",
       "      <td>0.147619</td>\n",
       "      <td>0.100000</td>\n",
       "      <td>0.004762</td>\n",
       "      <td>0.052381</td>\n",
       "      <td>0.052381</td>\n",
       "      <td>0.052381</td>\n",
       "    </tr>\n",
       "    <tr>\n",
       "      <th>6</th>\n",
       "      <td>0.300000</td>\n",
       "      <td>0.182353</td>\n",
       "      <td>0.064706</td>\n",
       "      <td>0.064706</td>\n",
       "      <td>0.123529</td>\n",
       "      <td>0.064706</td>\n",
       "      <td>0.005882</td>\n",
       "      <td>0.123529</td>\n",
       "      <td>0.005882</td>\n",
       "      <td>0.064706</td>\n",
       "    </tr>\n",
       "    <tr>\n",
       "      <th>7</th>\n",
       "      <td>0.292857</td>\n",
       "      <td>0.150000</td>\n",
       "      <td>0.007143</td>\n",
       "      <td>0.078571</td>\n",
       "      <td>0.078571</td>\n",
       "      <td>0.150000</td>\n",
       "      <td>0.078571</td>\n",
       "      <td>0.007143</td>\n",
       "      <td>0.078571</td>\n",
       "      <td>0.078571</td>\n",
       "    </tr>\n",
       "    <tr>\n",
       "      <th>8</th>\n",
       "      <td>0.206667</td>\n",
       "      <td>0.140000</td>\n",
       "      <td>0.006667</td>\n",
       "      <td>0.006667</td>\n",
       "      <td>0.140000</td>\n",
       "      <td>0.206667</td>\n",
       "      <td>0.006667</td>\n",
       "      <td>0.073333</td>\n",
       "      <td>0.206667</td>\n",
       "      <td>0.006667</td>\n",
       "    </tr>\n",
       "    <tr>\n",
       "      <th>9</th>\n",
       "      <td>0.110000</td>\n",
       "      <td>0.210000</td>\n",
       "      <td>0.010000</td>\n",
       "      <td>0.010000</td>\n",
       "      <td>0.110000</td>\n",
       "      <td>0.110000</td>\n",
       "      <td>0.010000</td>\n",
       "      <td>0.010000</td>\n",
       "      <td>0.210000</td>\n",
       "      <td>0.210000</td>\n",
       "    </tr>\n",
       "    <tr>\n",
       "      <th>10</th>\n",
       "      <td>0.463636</td>\n",
       "      <td>0.281818</td>\n",
       "      <td>0.009091</td>\n",
       "      <td>0.009091</td>\n",
       "      <td>0.009091</td>\n",
       "      <td>0.009091</td>\n",
       "      <td>0.100000</td>\n",
       "      <td>0.009091</td>\n",
       "      <td>0.100000</td>\n",
       "      <td>0.009091</td>\n",
       "    </tr>\n",
       "  </tbody>\n",
       "</table>\n",
       "</div>"
      ],
      "text/plain": [
       "          1         2         3         4         5         6         7   \\\n",
       "1   0.457358  0.204528  0.136604  0.113962  0.034717  0.019623  0.012075   \n",
       "2   0.520800  0.200800  0.088800  0.056800  0.040800  0.024800  0.032800   \n",
       "3   0.392188  0.314063  0.064062  0.064062  0.032813  0.032813  0.048438   \n",
       "4   0.469767  0.190698  0.074419  0.051163  0.004651  0.004651  0.144186   \n",
       "5   0.290476  0.052381  0.147619  0.100000  0.147619  0.100000  0.004762   \n",
       "6   0.300000  0.182353  0.064706  0.064706  0.123529  0.064706  0.005882   \n",
       "7   0.292857  0.150000  0.007143  0.078571  0.078571  0.150000  0.078571   \n",
       "8   0.206667  0.140000  0.006667  0.006667  0.140000  0.206667  0.006667   \n",
       "9   0.110000  0.210000  0.010000  0.010000  0.110000  0.110000  0.010000   \n",
       "10  0.463636  0.281818  0.009091  0.009091  0.009091  0.009091  0.100000   \n",
       "\n",
       "          8         9         10  \n",
       "1   0.012075  0.000755  0.008302  \n",
       "2   0.024800  0.000800  0.008800  \n",
       "3   0.032813  0.017188  0.001563  \n",
       "4   0.051163  0.004651  0.004651  \n",
       "5   0.052381  0.052381  0.052381  \n",
       "6   0.123529  0.005882  0.064706  \n",
       "7   0.007143  0.078571  0.078571  \n",
       "8   0.073333  0.206667  0.006667  \n",
       "9   0.010000  0.210000  0.210000  \n",
       "10  0.009091  0.100000  0.009091  "
      ]
     },
     "execution_count": 163,
     "metadata": {},
     "output_type": "execute_result"
    }
   ],
   "source": [
    "poipair_dist_transmat = normalise_transmat(poipair_dist_transmat)\n",
    "poipair_dist_transmat"
   ]
  },
  {
   "cell_type": "code",
   "execution_count": 164,
   "metadata": {
    "collapsed": false
   },
   "outputs": [
    {
     "data": {
      "text/html": [
       "<div>\n",
       "<table border=\"1\" class=\"dataframe\">\n",
       "  <thead>\n",
       "    <tr style=\"text-align: right;\">\n",
       "      <th></th>\n",
       "      <th>1</th>\n",
       "      <th>2</th>\n",
       "      <th>3</th>\n",
       "      <th>4</th>\n",
       "      <th>5</th>\n",
       "      <th>6</th>\n",
       "      <th>7</th>\n",
       "      <th>8</th>\n",
       "      <th>9</th>\n",
       "      <th>10</th>\n",
       "    </tr>\n",
       "  </thead>\n",
       "  <tbody>\n",
       "    <tr>\n",
       "      <th>1</th>\n",
       "      <td>-0.339743</td>\n",
       "      <td>-0.689247</td>\n",
       "      <td>-0.864537</td>\n",
       "      <td>-0.943239</td>\n",
       "      <td>-1.459458</td>\n",
       "      <td>-1.707243</td>\n",
       "      <td>-1.918096</td>\n",
       "      <td>-1.918096</td>\n",
       "      <td>-3.122216</td>\n",
       "      <td>-2.080823</td>\n",
       "    </tr>\n",
       "    <tr>\n",
       "      <th>2</th>\n",
       "      <td>-0.283329</td>\n",
       "      <td>-0.697236</td>\n",
       "      <td>-1.051587</td>\n",
       "      <td>-1.245652</td>\n",
       "      <td>-1.389340</td>\n",
       "      <td>-1.605548</td>\n",
       "      <td>-1.484126</td>\n",
       "      <td>-1.605548</td>\n",
       "      <td>-3.096910</td>\n",
       "      <td>-2.055517</td>\n",
       "    </tr>\n",
       "    <tr>\n",
       "      <th>3</th>\n",
       "      <td>-0.406506</td>\n",
       "      <td>-0.502984</td>\n",
       "      <td>-1.193396</td>\n",
       "      <td>-1.193396</td>\n",
       "      <td>-1.483961</td>\n",
       "      <td>-1.483961</td>\n",
       "      <td>-1.314818</td>\n",
       "      <td>-1.483961</td>\n",
       "      <td>-1.764787</td>\n",
       "      <td>-2.806180</td>\n",
       "    </tr>\n",
       "    <tr>\n",
       "      <th>4</th>\n",
       "      <td>-0.328117</td>\n",
       "      <td>-0.719655</td>\n",
       "      <td>-1.128318</td>\n",
       "      <td>-1.291046</td>\n",
       "      <td>-2.332438</td>\n",
       "      <td>-2.332438</td>\n",
       "      <td>-0.841077</td>\n",
       "      <td>-1.291046</td>\n",
       "      <td>-2.332438</td>\n",
       "      <td>-2.332438</td>\n",
       "    </tr>\n",
       "    <tr>\n",
       "      <th>5</th>\n",
       "      <td>-0.536889</td>\n",
       "      <td>-1.280827</td>\n",
       "      <td>-0.830858</td>\n",
       "      <td>-1.000000</td>\n",
       "      <td>-0.830858</td>\n",
       "      <td>-1.000000</td>\n",
       "      <td>-2.322219</td>\n",
       "      <td>-1.280827</td>\n",
       "      <td>-1.280827</td>\n",
       "      <td>-1.280827</td>\n",
       "    </tr>\n",
       "    <tr>\n",
       "      <th>6</th>\n",
       "      <td>-0.522879</td>\n",
       "      <td>-0.739087</td>\n",
       "      <td>-1.189056</td>\n",
       "      <td>-1.189056</td>\n",
       "      <td>-0.908230</td>\n",
       "      <td>-1.189056</td>\n",
       "      <td>-2.230449</td>\n",
       "      <td>-0.908230</td>\n",
       "      <td>-2.230449</td>\n",
       "      <td>-1.189056</td>\n",
       "    </tr>\n",
       "    <tr>\n",
       "      <th>7</th>\n",
       "      <td>-0.533344</td>\n",
       "      <td>-0.823909</td>\n",
       "      <td>-2.146128</td>\n",
       "      <td>-1.104735</td>\n",
       "      <td>-1.104735</td>\n",
       "      <td>-0.823909</td>\n",
       "      <td>-1.104735</td>\n",
       "      <td>-2.146128</td>\n",
       "      <td>-1.104735</td>\n",
       "      <td>-1.104735</td>\n",
       "    </tr>\n",
       "    <tr>\n",
       "      <th>8</th>\n",
       "      <td>-0.684730</td>\n",
       "      <td>-0.853872</td>\n",
       "      <td>-2.176091</td>\n",
       "      <td>-2.176091</td>\n",
       "      <td>-0.853872</td>\n",
       "      <td>-0.684730</td>\n",
       "      <td>-2.176091</td>\n",
       "      <td>-1.134699</td>\n",
       "      <td>-0.684730</td>\n",
       "      <td>-2.176091</td>\n",
       "    </tr>\n",
       "    <tr>\n",
       "      <th>9</th>\n",
       "      <td>-0.958607</td>\n",
       "      <td>-0.677781</td>\n",
       "      <td>-2.000000</td>\n",
       "      <td>-2.000000</td>\n",
       "      <td>-0.958607</td>\n",
       "      <td>-0.958607</td>\n",
       "      <td>-2.000000</td>\n",
       "      <td>-2.000000</td>\n",
       "      <td>-0.677781</td>\n",
       "      <td>-0.677781</td>\n",
       "    </tr>\n",
       "    <tr>\n",
       "      <th>10</th>\n",
       "      <td>-0.333823</td>\n",
       "      <td>-0.550031</td>\n",
       "      <td>-2.041393</td>\n",
       "      <td>-2.041393</td>\n",
       "      <td>-2.041393</td>\n",
       "      <td>-2.041393</td>\n",
       "      <td>-1.000000</td>\n",
       "      <td>-2.041393</td>\n",
       "      <td>-1.000000</td>\n",
       "      <td>-2.041393</td>\n",
       "    </tr>\n",
       "  </tbody>\n",
       "</table>\n",
       "</div>"
      ],
      "text/plain": [
       "          1         2         3         4         5         6         7   \\\n",
       "1  -0.339743 -0.689247 -0.864537 -0.943239 -1.459458 -1.707243 -1.918096   \n",
       "2  -0.283329 -0.697236 -1.051587 -1.245652 -1.389340 -1.605548 -1.484126   \n",
       "3  -0.406506 -0.502984 -1.193396 -1.193396 -1.483961 -1.483961 -1.314818   \n",
       "4  -0.328117 -0.719655 -1.128318 -1.291046 -2.332438 -2.332438 -0.841077   \n",
       "5  -0.536889 -1.280827 -0.830858 -1.000000 -0.830858 -1.000000 -2.322219   \n",
       "6  -0.522879 -0.739087 -1.189056 -1.189056 -0.908230 -1.189056 -2.230449   \n",
       "7  -0.533344 -0.823909 -2.146128 -1.104735 -1.104735 -0.823909 -1.104735   \n",
       "8  -0.684730 -0.853872 -2.176091 -2.176091 -0.853872 -0.684730 -2.176091   \n",
       "9  -0.958607 -0.677781 -2.000000 -2.000000 -0.958607 -0.958607 -2.000000   \n",
       "10 -0.333823 -0.550031 -2.041393 -2.041393 -2.041393 -2.041393 -1.000000   \n",
       "\n",
       "          8         9         10  \n",
       "1  -1.918096 -3.122216 -2.080823  \n",
       "2  -1.605548 -3.096910 -2.055517  \n",
       "3  -1.483961 -1.764787 -2.806180  \n",
       "4  -1.291046 -2.332438 -2.332438  \n",
       "5  -1.280827 -1.280827 -1.280827  \n",
       "6  -0.908230 -2.230449 -1.189056  \n",
       "7  -2.146128 -1.104735 -1.104735  \n",
       "8  -1.134699 -0.684730 -2.176091  \n",
       "9  -2.000000 -0.677781 -0.677781  \n",
       "10 -2.041393 -1.000000 -2.041393  "
      ]
     },
     "execution_count": 164,
     "metadata": {},
     "output_type": "execute_result"
    }
   ],
   "source": [
    "poipair_dist_transmat_log = np.log10(poipair_dist_transmat)\n",
    "poipair_dist_transmat_log"
   ]
  },
  {
   "cell_type": "markdown",
   "metadata": {},
   "source": [
    "<a id='sec4'></a>"
   ]
  },
  {
   "cell_type": "markdown",
   "metadata": {},
   "source": [
    "# 4. Compute Trajectory Likelihood (For tuning the discretization strategy)"
   ]
  },
  {
   "cell_type": "markdown",
   "metadata": {},
   "source": [
    "Log likelihood of trajectory $[\\text{POI}_1, \\text{POI}_2, \\dots, \\text{POI}_i, ..., \\text{POI}_N]$ is defined as\n",
    "\\begin{align}\n",
    "\\text{logl} =& \n",
    "\\sum_{i=1}^{N-1} \\log(\\text{Pr}(\\text{Cat}_{\\text{POI}_i} \\to \\text{Cat}_{\\text{POI}_{i+1}})) + \n",
    "\\sum_{i=1}^{N-1} \\log(\\text{Pr}(\\text{Pop}_{\\text{POI}_i} \\to \\text{Pop}_{\\text{POI}_{i+1}})) + \n",
    "\\sum_{i=2}^{N-1} \\log(\\text{Pr}(\\text{Dist}_{\\text{POI}_{i-1} \\to \\text{POI}_i} \\to \n",
    "\\text{Dist}_{\\text{POI}_{i} \\to \\text{POI}_{i+1}})) \\\\\n",
    "& + \\log(\\text{Pr}(\\text{POI}_1)) \n",
    "\\end{align}"
   ]
  },
  {
   "cell_type": "markdown",
   "metadata": {},
   "source": [
    "where $\\text{Pr}(\\text{POI}_1)$ is the prior of $\\text{POI}_1$ and we assume $\\text{Pr}(\\text{POI}_1)=1.0$, 10-based logarithm is used here."
   ]
  },
  {
   "cell_type": "code",
   "execution_count": 165,
   "metadata": {
    "collapsed": true
   },
   "outputs": [],
   "source": [
    "def calc_seq_loglikelihood(seq, poi_all, poi_cat_transmat_log, poi_pop_transmat_log, \\\n",
    "                           poi_distclass_mat, poipair_dist_transmat_log):\n",
    "    assert(len(seq) > 1)\n",
    "    cat1 = poi_all.loc[seq[0], 'poiTheme']\n",
    "    cat2 = poi_all.loc[seq[1], 'poiTheme']\n",
    "    pc1  = poi_all.loc[seq[0], 'popClass']\n",
    "    pc2  = poi_all.loc[seq[1], 'popClass']\n",
    "    logL = poi_cat_transmat_log.loc[cat1, cat2] + poi_pop_transmat_log.loc[pc1, pc2]\n",
    "    for j in range(1, len(seq)-1):\n",
    "        poi1 = seq[j-1]\n",
    "        poi2 = seq[j]\n",
    "        poi3 = seq[j+1]\n",
    "        cat2 = poi_all.loc[poi2, 'poiTheme']\n",
    "        cat3 = poi_all.loc[poi3, 'poiTheme']\n",
    "        pc2  = poi_all.loc[poi2, 'popClass']\n",
    "        pc3  = poi_all.loc[poi3, 'popClass']\n",
    "        dc12 = poi_distclass_mat.loc[poi1, poi2]\n",
    "        dc23 = poi_distclass_mat.loc[poi2, poi3]\n",
    "        logL += poi_cat_transmat_log.loc[cat2, cat3] + poi_pop_transmat_log.loc[pc2, pc3]\n",
    "        #print(seq, dc12, dc23)\n",
    "        logL += poipair_dist_transmat_log.loc[dc12, dc23]\n",
    "    return logL"
   ]
  },
  {
   "cell_type": "markdown",
   "metadata": {},
   "source": [
    "Simple check."
   ]
  },
  {
   "cell_type": "code",
   "execution_count": 166,
   "metadata": {
    "collapsed": true
   },
   "outputs": [],
   "source": [
    "seq1 = [10, 21, 28, 22]\n",
    "d12 = calc_dist(poi_all.loc[10,'poiLon'], poi_all.loc[10,'poiLat'], poi_all.loc[21,'poiLon'], poi_all.loc[21, 'poiLat'])\n",
    "d23 = calc_dist(poi_all.loc[21,'poiLon'], poi_all.loc[21,'poiLat'], poi_all.loc[28,'poiLon'], poi_all.loc[28, 'poiLat'])\n",
    "d34 = calc_dist(poi_all.loc[28,'poiLon'], poi_all.loc[28,'poiLat'], poi_all.loc[22,'poiLon'], poi_all.loc[22, 'poiLat'])"
   ]
  },
  {
   "cell_type": "code",
   "execution_count": 167,
   "metadata": {
    "collapsed": false
   },
   "outputs": [
    {
     "name": "stdout",
     "output_type": "stream",
     "text": [
      "1.965215721038275 0.45890229014413647 0.20523940866045706\n",
      "[0, 0.49867513032727601, 0.83513546479600187, 1.1161185353028702, 1.3750370714330364, 1.7106015051827066, 2.0006314262495546, 2.4371396900920255, 2.8751184490006279, 3.7563375218812638, 100.0]\n"
     ]
    }
   ],
   "source": [
    "print(d12, d23, d34)\n",
    "print(bins_dist)"
   ]
  },
  {
   "cell_type": "code",
   "execution_count": 168,
   "metadata": {
    "collapsed": false
   },
   "outputs": [
    {
     "name": "stdout",
     "output_type": "stream",
     "text": [
      "-4.54102487653\n"
     ]
    }
   ],
   "source": [
    "s1 = poi_cat_transmat_log.loc[poi_all.loc[10, 'poiTheme'], poi_all.loc[21, 'poiTheme']] + \\\n",
    "     poi_cat_transmat_log.loc[poi_all.loc[21, 'poiTheme'], poi_all.loc[28, 'poiTheme']] + \\\n",
    "     poi_cat_transmat_log.loc[poi_all.loc[28, 'poiTheme'], poi_all.loc[22, 'poiTheme']] + \\\n",
    "     poi_pop_transmat_log.loc[poi_all.loc[10, 'popClass'], poi_all.loc[21, 'popClass']] + \\\n",
    "     poi_pop_transmat_log.loc[poi_all.loc[21, 'popClass'], poi_all.loc[28, 'popClass']] + \\\n",
    "     poi_pop_transmat_log.loc[poi_all.loc[28, 'popClass'], poi_all.loc[22, 'popClass']]\n",
    "s2 = poipair_dist_transmat_log.loc[np.digitize([d12], bins_dist)[0], np.digitize([d23], bins_dist)[0]] + \\\n",
    "     poipair_dist_transmat_log.loc[np.digitize([d23], bins_dist)[0], np.digitize([d34], bins_dist)[0]]\n",
    "print(s1+s2)"
   ]
  },
  {
   "cell_type": "code",
   "execution_count": 169,
   "metadata": {
    "collapsed": false
   },
   "outputs": [
    {
     "data": {
      "text/plain": [
       "-4.5410248765268788"
      ]
     },
     "execution_count": 169,
     "metadata": {},
     "output_type": "execute_result"
    }
   ],
   "source": [
    "calc_seq_loglikelihood([10, 21, 28, 22], poi_all, poi_cat_transmat_log, poi_pop_transmat_log, \\\n",
    "                       poi_distclass_mat, poipair_dist_transmat_log)"
   ]
  },
  {
   "cell_type": "code",
   "execution_count": 170,
   "metadata": {
    "collapsed": true
   },
   "outputs": [],
   "source": [
    "def parse_seqstr(seqstr):\n",
    "    term = re.sub('[ \\[\\]]', '', seqstr).split(',')\n",
    "    return [int(x) for x in term]"
   ]
  },
  {
   "cell_type": "markdown",
   "metadata": {},
   "source": [
    "<a id='sec4.1'></a>"
   ]
  },
  {
   "cell_type": "markdown",
   "metadata": {},
   "source": [
    "## 4.1 Log Likelihood of Actual Trajectories"
   ]
  },
  {
   "cell_type": "markdown",
   "metadata": {},
   "source": [
    "To save computation power, we consider unique travelling sequences only (i.e. treat sequences with the same list of POI and visiting order of different users as one sequence) as no user-specific features are used here."
   ]
  },
  {
   "cell_type": "code",
   "execution_count": 171,
   "metadata": {
    "collapsed": true
   },
   "outputs": [],
   "source": [
    "unique_seq = dict() # seq -> [(seqid, userid)]"
   ]
  },
  {
   "cell_type": "code",
   "execution_count": 172,
   "metadata": {
    "collapsed": true
   },
   "outputs": [],
   "source": [
    "for seqid in sorted(seq_all['seqID'].unique().tolist()):\n",
    "    seq = extract_seq(seqid, seq_all)\n",
    "    if str(seq) not in unique_seq:\n",
    "        unique_seq[str(seq)] = [(seqid, seq_user.loc[seqid])]\n",
    "    else:\n",
    "        unique_seq[str(seq)].append((seqid, seq_user.loc[seqid]))"
   ]
  },
  {
   "cell_type": "code",
   "execution_count": 173,
   "metadata": {
    "collapsed": true
   },
   "outputs": [],
   "source": [
    "unique_seq345 = [parse_seqstr(x) for x in sorted(unique_seq.keys()) if len(x.split(',')) in {3,4,5}]"
   ]
  },
  {
   "cell_type": "code",
   "execution_count": 174,
   "metadata": {
    "collapsed": true
   },
   "outputs": [],
   "source": [
    "unique_seq345_logL = pd.DataFrame(data=np.zeros((len(unique_seq345), 2), dtype=np.float), \\\n",
    "                                  index=[str(x) for x in unique_seq345], columns=['logLikelihood', 'seqLen'])\n",
    "unique_seq345_logL.index.name = 'actSeq'"
   ]
  },
  {
   "cell_type": "code",
   "execution_count": 175,
   "metadata": {
    "collapsed": false
   },
   "outputs": [],
   "source": [
    "for seq in unique_seq345:\n",
    "    assert(len(seq) in {3,4,5})\n",
    "    logL = calc_seq_loglikelihood(seq, poi_all, poi_cat_transmat_log, poi_pop_transmat_log, \\\n",
    "                                  poi_distclass_mat, poipair_dist_transmat_log)\n",
    "    unique_seq345_logL.loc[str(seq), 'logLikelihood'] = logL\n",
    "    unique_seq345_logL.loc[str(seq), 'seqLen'] = len(seq)\n",
    "    #print('Sequence %-20s Log likelihood: %.3f' % (str(seq), logL))"
   ]
  },
  {
   "cell_type": "code",
   "execution_count": 176,
   "metadata": {
    "collapsed": false
   },
   "outputs": [
    {
     "name": "stdout",
     "output_type": "stream",
     "text": [
      "266\n"
     ]
    },
    {
     "data": {
      "text/html": [
       "<div>\n",
       "<table border=\"1\" class=\"dataframe\">\n",
       "  <thead>\n",
       "    <tr style=\"text-align: right;\">\n",
       "      <th></th>\n",
       "      <th>logLikelihood</th>\n",
       "      <th>seqLen</th>\n",
       "    </tr>\n",
       "    <tr>\n",
       "      <th>actSeq</th>\n",
       "      <th></th>\n",
       "      <th></th>\n",
       "    </tr>\n",
       "  </thead>\n",
       "  <tbody>\n",
       "    <tr>\n",
       "      <th>[1, 30, 4]</th>\n",
       "      <td>-3.812454</td>\n",
       "      <td>3</td>\n",
       "    </tr>\n",
       "    <tr>\n",
       "      <th>[1, 30, 7]</th>\n",
       "      <td>-2.759386</td>\n",
       "      <td>3</td>\n",
       "    </tr>\n",
       "    <tr>\n",
       "      <th>[1, 7, 28]</th>\n",
       "      <td>-4.270981</td>\n",
       "      <td>3</td>\n",
       "    </tr>\n",
       "    <tr>\n",
       "      <th>[1, 8, 24]</th>\n",
       "      <td>-3.362640</td>\n",
       "      <td>3</td>\n",
       "    </tr>\n",
       "    <tr>\n",
       "      <th>[10, 21, 28, 22]</th>\n",
       "      <td>-4.541025</td>\n",
       "      <td>4</td>\n",
       "    </tr>\n",
       "  </tbody>\n",
       "</table>\n",
       "</div>"
      ],
      "text/plain": [
       "                  logLikelihood  seqLen\n",
       "actSeq                                 \n",
       "[1, 30, 4]            -3.812454       3\n",
       "[1, 30, 7]            -2.759386       3\n",
       "[1, 7, 28]            -4.270981       3\n",
       "[1, 8, 24]            -3.362640       3\n",
       "[10, 21, 28, 22]      -4.541025       4"
      ]
     },
     "execution_count": 176,
     "metadata": {},
     "output_type": "execute_result"
    }
   ],
   "source": [
    "print(unique_seq345_logL.index.shape[0])\n",
    "unique_seq345_logL.head()"
   ]
  },
  {
   "cell_type": "code",
   "execution_count": 177,
   "metadata": {
    "collapsed": false
   },
   "outputs": [
    {
     "data": {
      "text/plain": [
       "<matplotlib.axes._subplots.AxesSubplot at 0x7f289881fb00>"
      ]
     },
     "execution_count": 177,
     "metadata": {},
     "output_type": "execute_result"
    },
    {
     "data": {
      "image/png": "[encoded data removed]",
      "text/plain": [
       "<matplotlib.figure.Figure at 0x7f28a35409e8>"
      ]
     },
     "metadata": {},
     "output_type": "display_data"
    }
   ],
   "source": [
    "unique_seq345_logL['seqLen'].hist(bins=10)"
   ]
  },
  {
   "cell_type": "markdown",
   "metadata": {},
   "source": [
    "<a id='sec4.2'></a>"
   ]
  },
  {
   "cell_type": "markdown",
   "metadata": {},
   "source": [
    "## 4.2 Log Likelihood of Enumerated Trajectories"
   ]
  },
  {
   "cell_type": "markdown",
   "metadata": {},
   "source": [
    "Compute [log likelihood](#sec4) of enumerated trajectories for all unique actual sequences of length {3, 4, 5}."
   ]
  },
  {
   "cell_type": "code",
   "execution_count": 178,
   "metadata": {
    "collapsed": false
   },
   "outputs": [],
   "source": [
    "poi_list = poi_all.index.tolist()\n",
    "#poi_list"
   ]
  },
  {
   "cell_type": "markdown",
   "metadata": {},
   "source": [
    "Enumerate trajectories of the same (start, end) and length (3, 4 or 5) with respect to an actual sequence."
   ]
  },
  {
   "cell_type": "code",
   "execution_count": 179,
   "metadata": {
    "collapsed": true
   },
   "outputs": [],
   "source": [
    "def enum_seq345(seq, poi_list): \n",
    "    assert(len(seq) in {3, 4, 5})\n",
    "    p0 = seq[0]\n",
    "    pN = seq[-1]\n",
    "    \n",
    "    # enumerate sequences with length 3\n",
    "    if len(seq) == 3:\n",
    "        return [[p0, p, pN] \\\n",
    "                for p in poi_list if p not in {p0, pN}]\n",
    "    \n",
    "    # enumerate sequences with length 4\n",
    "    if len(seq) == 4:\n",
    "        return [[p0, p1, p2, pN] \\\n",
    "                for p1 in poi_list if p1 not in {p0, pN} \\\n",
    "                for p2 in poi_list if p2 not in {p0, p1, pN}]\n",
    "    \n",
    "    # enumerate sequences with length 5\n",
    "    if len(seq) == 5:\n",
    "        return [[p0, p1, p2, p3, pN] \\\n",
    "                for p1 in poi_list if p1 not in {p0, pN} \\\n",
    "                for p2 in poi_list if p2 not in {p0, p1, pN} \\\n",
    "                for p3 in poi_list if p3 not in {p0, p1, p2, pN}]"
   ]
  },
  {
   "cell_type": "markdown",
   "metadata": {},
   "source": [
    "Compute the [log likelihood](#sec4) of enumerated trajectories."
   ]
  },
  {
   "cell_type": "code",
   "execution_count": 180,
   "metadata": {
    "collapsed": true
   },
   "outputs": [],
   "source": [
    "enum_logL_df = pd.DataFrame()"
   ]
  },
  {
   "cell_type": "code",
   "execution_count": 181,
   "metadata": {
    "collapsed": false
   },
   "outputs": [],
   "source": [
    "for seq in unique_seq345:\n",
    "    enum_seqs = enum_seq345(seq, poi_list)\n",
    "    df = pd.DataFrame(data=sorted([str(x) for x in enum_seqs]), columns=['enumSeq'])\n",
    "    df.set_index('enumSeq', inplace=True)\n",
    "    df['actSeq'] = str(seq)\n",
    "    enum_logL_df = enum_logL_df.append(df)"
   ]
  },
  {
   "cell_type": "code",
   "execution_count": 182,
   "metadata": {
    "collapsed": false
   },
   "outputs": [
    {
     "name": "stdout",
     "output_type": "stream",
     "text": [
      "(622566, 1)\n"
     ]
    },
    {
     "data": {
      "text/html": [
       "<div>\n",
       "<table border=\"1\" class=\"dataframe\">\n",
       "  <thead>\n",
       "    <tr style=\"text-align: right;\">\n",
       "      <th></th>\n",
       "      <th>actSeq</th>\n",
       "    </tr>\n",
       "    <tr>\n",
       "      <th>enumSeq</th>\n",
       "      <th></th>\n",
       "    </tr>\n",
       "  </thead>\n",
       "  <tbody>\n",
       "    <tr>\n",
       "      <th>[1, 10, 4]</th>\n",
       "      <td>[1, 30, 4]</td>\n",
       "    </tr>\n",
       "    <tr>\n",
       "      <th>[1, 11, 4]</th>\n",
       "      <td>[1, 30, 4]</td>\n",
       "    </tr>\n",
       "    <tr>\n",
       "      <th>[1, 12, 4]</th>\n",
       "      <td>[1, 30, 4]</td>\n",
       "    </tr>\n",
       "    <tr>\n",
       "      <th>[1, 13, 4]</th>\n",
       "      <td>[1, 30, 4]</td>\n",
       "    </tr>\n",
       "    <tr>\n",
       "      <th>[1, 14, 4]</th>\n",
       "      <td>[1, 30, 4]</td>\n",
       "    </tr>\n",
       "  </tbody>\n",
       "</table>\n",
       "</div>"
      ],
      "text/plain": [
       "                actSeq\n",
       "enumSeq               \n",
       "[1, 10, 4]  [1, 30, 4]\n",
       "[1, 11, 4]  [1, 30, 4]\n",
       "[1, 12, 4]  [1, 30, 4]\n",
       "[1, 13, 4]  [1, 30, 4]\n",
       "[1, 14, 4]  [1, 30, 4]"
      ]
     },
     "execution_count": 182,
     "metadata": {},
     "output_type": "execute_result"
    }
   ],
   "source": [
    "print(enum_logL_df.shape)\n",
    "enum_logL_df.head()"
   ]
  },
  {
   "cell_type": "code",
   "execution_count": 183,
   "metadata": {
    "collapsed": false
   },
   "outputs": [
    {
     "name": "stdout",
     "output_type": "stream",
     "text": [
      "930 seconds used\n"
     ]
    }
   ],
   "source": [
    "t1 = datetime.now()\n",
    "logL = Parallel(n_jobs=-2)(delayed(calc_seq_loglikelihood)\\\n",
    "       (seq, poi_all, poi_cat_transmat_log, poi_pop_transmat_log, poi_distclass_mat, poipair_dist_transmat_log)\\\n",
    "       for seq in [parse_seqstr(x) for x in enum_logL_df.index])\n",
    "print('%d seconds used' % (datetime.now()-t1).total_seconds()) # 930 seconds"
   ]
  },
  {
   "cell_type": "code",
   "execution_count": 184,
   "metadata": {
    "collapsed": true
   },
   "outputs": [],
   "source": [
    "enum_logL_df['enumSeqLogLikelihood'] = logL"
   ]
  },
  {
   "cell_type": "code",
   "execution_count": 185,
   "metadata": {
    "collapsed": false
   },
   "outputs": [],
   "source": [
    "#enum_logL_df.head(23)"
   ]
  },
  {
   "cell_type": "markdown",
   "metadata": {},
   "source": [
    "<a id='sec4.3'></a>"
   ]
  },
  {
   "cell_type": "markdown",
   "metadata": {},
   "source": [
    "## 4.3 Compare the Log Likelihood of Actual and Enumerated Trajectories"
   ]
  },
  {
   "cell_type": "markdown",
   "metadata": {},
   "source": [
    "Compare the log likelihood between actual sequences $S_a$ and the one of highest log likelihood among enumerated sequences with respect to $S_a$ as well as the log likelihood rank of $S_a$."
   ]
  },
  {
   "cell_type": "code",
   "execution_count": 186,
   "metadata": {
    "collapsed": false
   },
   "outputs": [],
   "source": [
    "df = pd.DataFrame(data=sorted([str(x) for x in unique_seq345]), columns=['actSeq'])\n",
    "df.set_index('actSeq', inplace=True)\n",
    "df['actSeqLogLikelihood'] = unique_seq345_logL.loc[df.index, 'logLikelihood']\n",
    "df['enumSeq'] = ''\n",
    "df['enumSeqLogLikelihood'] = 0\n",
    "df['actSeqRank'] = 0\n",
    "df['#enumSeq'] = 0\n",
    "for seqstr in df.index:\n",
    "    sub_df = enum_logL_df[enum_logL_df['actSeq'] == seqstr].copy()\n",
    "    sub_df.reset_index(inplace=True)\n",
    "    sub_df.sort(columns=['enumSeqLogLikelihood'], ascending=False, inplace=True)\n",
    "    df.loc[seqstr, 'enumSeq'] = sub_df.iloc[0]['enumSeq']\n",
    "    df.loc[seqstr, 'enumSeqLogLikelihood'] = sub_df.iloc[0]['enumSeqLogLikelihood']\n",
    "    df.loc[seqstr, 'actSeqRank'] = 1 + np.nonzero(sub_df['enumSeq'] == seqstr)[0][0] # rank of actual sequence\n",
    "    df.loc[seqstr, '#enumSeq'] = sub_df.index.shape[0]\n",
    "df['actSeqRank(Top%)'] = 100*df['actSeqRank']/df['#enumSeq']"
   ]
  },
  {
   "cell_type": "code",
   "execution_count": 187,
   "metadata": {
    "collapsed": false
   },
   "outputs": [],
   "source": [
    "#df"
   ]
  },
  {
   "cell_type": "code",
   "execution_count": 188,
   "metadata": {
    "collapsed": false
   },
   "outputs": [
    {
     "name": "stdout",
     "output_type": "stream",
     "text": [
      "mean: 12.467, std: 14.549\n"
     ]
    },
    {
     "data": {
      "text/plain": [
       "count    266.000000\n",
       "mean      12.467022\n",
       "std       14.548930\n",
       "min        0.011396\n",
       "25%        3.703704\n",
       "50%        7.407407\n",
       "75%       15.455840\n",
       "max       66.666667\n",
       "Name: actSeqRank(Top%), dtype: float64"
      ]
     },
     "execution_count": 188,
     "metadata": {},
     "output_type": "execute_result"
    }
   ],
   "source": [
    "print('mean: %.3f, std: %.3f' % (round(df['actSeqRank(Top%)'].mean(),3), round(df['actSeqRank(Top%)'].std(),3)))\n",
    "df['actSeqRank(Top%)'].describe()"
   ]
  },
  {
   "cell_type": "code",
   "execution_count": 189,
   "metadata": {
    "collapsed": false
   },
   "outputs": [
    {
     "name": "stdout",
     "output_type": "stream",
     "text": [
      "146/266 = 54.89%\n"
     ]
    }
   ],
   "source": [
    "ntop = np.nonzero(df['actSeqRank'] <= 5)[0].shape[0]\n",
    "print('%d/%d = %.2f%%' % (ntop, df.index.shape[0], 100*ntop/df.index.shape[0]))"
   ]
  },
  {
   "cell_type": "markdown",
   "metadata": {},
   "source": [
    "[Pop section](#sec3.3)  \n",
    "[Dist section](#sec3.4)"
   ]
  }
 ],
 "metadata": {
  "kernelspec": {
   "display_name": "Python 3",
   "language": "python",
   "name": "python3"
  },
  "language_info": {
   "codemirror_mode": {
    "name": "ipython",
    "version": 3
   },
   "file_extension": ".py",
   "mimetype": "text/x-python",
   "name": "python",
   "nbconvert_exporter": "python",
   "pygments_lexer": "ipython3",
   "version": "3.4.3"
  }
 },
 "nbformat": 4,
 "nbformat_minor": 0
}
