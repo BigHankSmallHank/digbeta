{
 "cells": [
  {
   "cell_type": "markdown",
   "metadata": {},
   "source": [
    "Features for Trajectory Recommendation\n",
    "====="
   ]
  },
  {
   "cell_type": "markdown",
   "metadata": {},
   "source": [
    "1. [Features](#sec1)\n",
    "1. [Load Data](#sec2)\n",
    "  1. [Compute POI Info](#sec2.1)\n",
    "  1. [Construct Travelling Sequences](#sec2.2)\n",
    "  1. [Compute Some Sequence Statistics](#sec2.3)\n",
    "1. [Compute Transition Probabilities](#sec3)\n",
    "  1. [Basic Definitions](#sec3.1)\n",
    "  1. [Transition Probabilities between POI Categories](#sec3.2)\n",
    "  1. [Transition Probabilities between POI Popularity Classes](#sec3.3)\n",
    "  1. [Transition Probabilities between POI Pair Distance Classes](#sec3.5)\n",
    "1. [Compute Trajectory Likelihood (For tuning the discretization strategy)](#sec4)\n",
    "  1. [Log Likelihood of Actual Trajectories](#sec4.1)\n",
    "  1. [Log Likelihood of Enumerated Trajectories](#sec4.2)\n",
    "  1. [Compare the Log Likelihood of Actual and Enumerated Trajectories](#sec4.3)\n",
    "  1. [Compute the F1-score of Enumerated Trajectories](#sec4.4)"
   ]
  },
  {
   "cell_type": "markdown",
   "metadata": {},
   "source": [
    "<a id='sec1'></a>"
   ]
  },
  {
   "cell_type": "markdown",
   "metadata": {},
   "source": [
    "# 1. Features"
   ]
  },
  {
   "cell_type": "markdown",
   "metadata": {},
   "source": [
    "1. POI category (a transition matrix between different categories)\n",
    "1. POI popularity (a transition matrix between different class of popularity)\n",
    "1. POI pair distance (a transition matrix between different class of distance)\n",
    "\n",
    "**Computation Steps:**\n",
    "1. First compute the above features using a set of travelling sequences,\n",
    "1. Then compute the log likelihood of (actual/enumerated) sequences using POI category/popularity transition matrix and POI pair distance transition matrix and make comparison."
   ]
  },
  {
   "cell_type": "markdown",
   "metadata": {},
   "source": [
    "<a id='sec2'></a>"
   ]
  },
  {
   "cell_type": "markdown",
   "metadata": {},
   "source": [
    "# 2. Load Data"
   ]
  },
  {
   "cell_type": "code",
   "execution_count": 1483,
   "metadata": {
    "collapsed": true
   },
   "outputs": [],
   "source": [
    "%matplotlib inline\n",
    "\n",
    "import os\n",
    "import re\n",
    "import math\n",
    "import random\n",
    "import pickle\n",
    "import pandas as pd\n",
    "import numpy as np\n",
    "import scipy.stats\n",
    "from numba import jit\n",
    "from datetime import datetime\n",
    "from joblib import Parallel, delayed\n",
    "import matplotlib.pyplot as plt"
   ]
  },
  {
   "cell_type": "code",
   "execution_count": 1484,
   "metadata": {
    "collapsed": true
   },
   "outputs": [],
   "source": [
    "nfeatures = 8 # number of features\n",
    "EPS = 1e-12 # smooth, deal with 0 probability\n",
    "random.seed(123456789) # control random choice when splitting training/testing set"
   ]
  },
  {
   "cell_type": "code",
   "execution_count": 1485,
   "metadata": {
    "collapsed": true
   },
   "outputs": [],
   "source": [
    "data_dir = 'data/data-ijcai15'\n",
    "#fvisit = os.path.join(data_dir, 'userVisits-Osak.csv')\n",
    "#fcoord = os.path.join(data_dir, 'photoCoords-Osak.csv')\n",
    "#fvisit = os.path.join(data_dir, 'userVisits-Glas.csv')\n",
    "#fcoord = os.path.join(data_dir, 'photoCoords-Glas.csv')\n",
    "#fvisit = os.path.join(data_dir, 'userVisits-Edin.csv')\n",
    "#fcoord = os.path.join(data_dir, 'photoCoords-Edin.csv')\n",
    "fvisit = os.path.join(data_dir, 'userVisits-Toro.csv')\n",
    "fcoord = os.path.join(data_dir, 'photoCoords-Toro.csv')"
   ]
  },
  {
   "cell_type": "code",
   "execution_count": 1486,
   "metadata": {
    "collapsed": true
   },
   "outputs": [],
   "source": [
    "suffix = fvisit.split('-')[-1].split('.')[0]"
   ]
  },
  {
   "cell_type": "code",
   "execution_count": 1487,
   "metadata": {
    "collapsed": false
   },
   "outputs": [
    {
     "data": {
      "text/html": [
       "<div>\n",
       "<table border=\"1\" class=\"dataframe\">\n",
       "  <thead>\n",
       "    <tr style=\"text-align: right;\">\n",
       "      <th></th>\n",
       "      <th>photoID</th>\n",
       "      <th>userID</th>\n",
       "      <th>dateTaken</th>\n",
       "      <th>poiID</th>\n",
       "      <th>poiTheme</th>\n",
       "      <th>poiFreq</th>\n",
       "      <th>seqID</th>\n",
       "      <th>photoLon</th>\n",
       "      <th>photoLat</th>\n",
       "    </tr>\n",
       "  </thead>\n",
       "  <tbody>\n",
       "    <tr>\n",
       "      <th>0</th>\n",
       "      <td>7941504100</td>\n",
       "      <td>10007579@N00</td>\n",
       "      <td>1346844688</td>\n",
       "      <td>30</td>\n",
       "      <td>Structure</td>\n",
       "      <td>1538</td>\n",
       "      <td>1</td>\n",
       "      <td>-79.380844</td>\n",
       "      <td>43.645641</td>\n",
       "    </tr>\n",
       "    <tr>\n",
       "      <th>1</th>\n",
       "      <td>4886005532</td>\n",
       "      <td>10012675@N05</td>\n",
       "      <td>1142731848</td>\n",
       "      <td>6</td>\n",
       "      <td>Cultural</td>\n",
       "      <td>986</td>\n",
       "      <td>2</td>\n",
       "      <td>-79.391525</td>\n",
       "      <td>43.654335</td>\n",
       "    </tr>\n",
       "    <tr>\n",
       "      <th>2</th>\n",
       "      <td>4886006468</td>\n",
       "      <td>10012675@N05</td>\n",
       "      <td>1142732248</td>\n",
       "      <td>6</td>\n",
       "      <td>Cultural</td>\n",
       "      <td>986</td>\n",
       "      <td>2</td>\n",
       "      <td>-79.391525</td>\n",
       "      <td>43.654335</td>\n",
       "    </tr>\n",
       "    <tr>\n",
       "      <th>3</th>\n",
       "      <td>4885404441</td>\n",
       "      <td>10012675@N05</td>\n",
       "      <td>1142732373</td>\n",
       "      <td>6</td>\n",
       "      <td>Cultural</td>\n",
       "      <td>986</td>\n",
       "      <td>2</td>\n",
       "      <td>-79.391525</td>\n",
       "      <td>43.654335</td>\n",
       "    </tr>\n",
       "    <tr>\n",
       "      <th>4</th>\n",
       "      <td>4886008334</td>\n",
       "      <td>10012675@N05</td>\n",
       "      <td>1142732445</td>\n",
       "      <td>6</td>\n",
       "      <td>Cultural</td>\n",
       "      <td>986</td>\n",
       "      <td>2</td>\n",
       "      <td>-79.391525</td>\n",
       "      <td>43.654335</td>\n",
       "    </tr>\n",
       "  </tbody>\n",
       "</table>\n",
       "</div>"
      ],
      "text/plain": [
       "      photoID        userID   dateTaken  poiID   poiTheme  poiFreq  seqID  \\\n",
       "0  7941504100  10007579@N00  1346844688     30  Structure     1538      1   \n",
       "1  4886005532  10012675@N05  1142731848      6   Cultural      986      2   \n",
       "2  4886006468  10012675@N05  1142732248      6   Cultural      986      2   \n",
       "3  4885404441  10012675@N05  1142732373      6   Cultural      986      2   \n",
       "4  4886008334  10012675@N05  1142732445      6   Cultural      986      2   \n",
       "\n",
       "    photoLon   photoLat  \n",
       "0 -79.380844  43.645641  \n",
       "1 -79.391525  43.654335  \n",
       "2 -79.391525  43.654335  \n",
       "3 -79.391525  43.654335  \n",
       "4 -79.391525  43.654335  "
      ]
     },
     "execution_count": 1487,
     "metadata": {},
     "output_type": "execute_result"
    }
   ],
   "source": [
    "visits = pd.read_csv(fvisit, sep=';')\n",
    "coords = pd.read_csv(fcoord, sep=';')\n",
    "# merge data frames according to column 'photoID'\n",
    "assert(visits.shape[0] == coords.shape[0])\n",
    "traj = pd.merge(visits, coords, on='photoID')\n",
    "traj.head()"
   ]
  },
  {
   "cell_type": "code",
   "execution_count": 1488,
   "metadata": {
    "collapsed": false
   },
   "outputs": [
    {
     "data": {
      "text/html": [
       "<div>\n",
       "<table border=\"1\" class=\"dataframe\">\n",
       "  <thead>\n",
       "    <tr style=\"text-align: right;\">\n",
       "      <th></th>\n",
       "      <th>#photo</th>\n",
       "      <th>#photo/user</th>\n",
       "      <th>#poi</th>\n",
       "      <th>#seq</th>\n",
       "      <th>#seq/user</th>\n",
       "      <th>#user</th>\n",
       "    </tr>\n",
       "  </thead>\n",
       "  <tbody>\n",
       "    <tr>\n",
       "      <th>Toro</th>\n",
       "      <td>39419</td>\n",
       "      <td>28.257348</td>\n",
       "      <td>29</td>\n",
       "      <td>6057</td>\n",
       "      <td>4.341935</td>\n",
       "      <td>1395</td>\n",
       "    </tr>\n",
       "  </tbody>\n",
       "</table>\n",
       "</div>"
      ],
      "text/plain": [
       "      #photo  #photo/user  #poi  #seq  #seq/user  #user\n",
       "Toro   39419    28.257348    29  6057   4.341935   1395"
      ]
     },
     "execution_count": 1488,
     "metadata": {},
     "output_type": "execute_result"
    }
   ],
   "source": [
    "num_photo = traj['photoID'].unique().shape[0]\n",
    "num_user = traj['userID'].unique().shape[0]\n",
    "num_poi = traj['poiID'].unique().shape[0]\n",
    "num_seq = traj['seqID'].unique().shape[0]\n",
    "pd.DataFrame({'#photo': num_photo, '#user': num_user, '#poi': num_poi, '#seq': num_seq, \\\n",
    "              '#photo/user': num_photo/num_user, '#seq/user': num_seq/num_user}, index=[str(suffix)])"
   ]
  },
  {
   "cell_type": "code",
   "execution_count": 1489,
   "metadata": {
    "collapsed": false
   },
   "outputs": [],
   "source": [
    "#plt.figure(figsize=[15, 5])\n",
    "#plt.xlabel('Longitude')\n",
    "#plt.ylabel('Latitude')\n",
    "#plt.scatter(traj['photoLon'], traj['photoLat'], marker='+')"
   ]
  },
  {
   "cell_type": "markdown",
   "metadata": {},
   "source": [
    "<a id='sec2.1'></a>"
   ]
  },
  {
   "cell_type": "markdown",
   "metadata": {},
   "source": [
    "## 2.1 Compute POI Info"
   ]
  },
  {
   "cell_type": "markdown",
   "metadata": {},
   "source": [
    "Compute POI (Longitude, Latitude) as the average coordinates of the assigned photos."
   ]
  },
  {
   "cell_type": "code",
   "execution_count": 1490,
   "metadata": {
    "collapsed": true
   },
   "outputs": [],
   "source": [
    "poi_coords = traj[['poiID', 'photoLon', 'photoLat']].groupby('poiID').mean()\n",
    "poi_coords.reset_index(inplace=True)\n",
    "poi_coords.rename(columns={'photoLon':'poiLon', 'photoLat':'poiLat'}, inplace=True)"
   ]
  },
  {
   "cell_type": "markdown",
   "metadata": {},
   "source": [
    "Extract POI category and visiting frequency."
   ]
  },
  {
   "cell_type": "code",
   "execution_count": 1491,
   "metadata": {
    "collapsed": true
   },
   "outputs": [],
   "source": [
    "poi_catfreq = traj[['poiID', 'poiTheme', 'poiFreq']].groupby('poiID').first()\n",
    "poi_catfreq.reset_index(inplace=True)"
   ]
  },
  {
   "cell_type": "code",
   "execution_count": 1492,
   "metadata": {
    "collapsed": true
   },
   "outputs": [],
   "source": [
    "poi_all = pd.merge(poi_catfreq, poi_coords, on='poiID')\n",
    "poi_all.set_index('poiID', inplace=True)\n",
    "#poi_all.to_csv(fpoi, index=True)"
   ]
  },
  {
   "cell_type": "markdown",
   "metadata": {},
   "source": [
    "<a id='sec2.2'></a>"
   ]
  },
  {
   "cell_type": "markdown",
   "metadata": {},
   "source": [
    "## 2.2 Construct Travelling Sequences"
   ]
  },
  {
   "cell_type": "code",
   "execution_count": 1493,
   "metadata": {
    "collapsed": false
   },
   "outputs": [],
   "source": [
    "seq_all = traj[['userID', 'seqID', 'poiID', 'dateTaken']].copy().groupby(['userID', 'seqID', 'poiID'])\\\n",
    "          .agg([np.min, np.max, np.size])\n",
    "seq_all.columns = seq_all.columns.droplevel()\n",
    "seq_all.reset_index(inplace=True)\n",
    "seq_all.rename(columns={'amin':'arrivalTime', 'amax':'departureTime', 'size':'#photo'}, inplace=True)\n",
    "seq_all['poiDuration(sec)'] = seq_all['departureTime'] - seq_all['arrivalTime']\n",
    "#seq_all.head()"
   ]
  },
  {
   "cell_type": "code",
   "execution_count": 1494,
   "metadata": {
    "collapsed": false
   },
   "outputs": [],
   "source": [
    "seq_user = seq_all[['userID', 'seqID', 'poiID']].copy().groupby(['userID', 'seqID']).agg(np.size)\n",
    "seq_user.reset_index(inplace=True)\n",
    "seq_user.rename(columns={'size':'seqLen'}, inplace=True)\n",
    "seq_user.set_index('seqID', inplace=True)\n",
    "#seq_user.head()"
   ]
  },
  {
   "cell_type": "markdown",
   "metadata": {},
   "source": [
    "<a id='sec2.3'></a>"
   ]
  },
  {
   "cell_type": "markdown",
   "metadata": {},
   "source": [
    "## 2.3 Compute Some Sequence Statistics"
   ]
  },
  {
   "cell_type": "code",
   "execution_count": 1495,
   "metadata": {
    "collapsed": false
   },
   "outputs": [],
   "source": [
    "seq_len = seq_all[['seqID', 'poiID']].copy().groupby('seqID').agg(np.size)\n",
    "seq_len.reset_index(inplace=True)\n",
    "seq_len.rename(columns={'poiID':'seqLen'}, inplace=True)\n",
    "#seq_len.head()"
   ]
  },
  {
   "cell_type": "code",
   "execution_count": 1496,
   "metadata": {
    "collapsed": false
   },
   "outputs": [],
   "source": [
    "seq_stats = seq_all[['seqID', '#photo', 'poiDuration(sec)']].copy().groupby('seqID').agg(np.sum)\n",
    "seq_stats.reset_index(inplace=True)\n",
    "#seq_stats.rename(columns={'poiDuration(sec)':'totalPoiDuration(sec)'}, inplace=True)\n",
    "seq_stats = pd.merge(seq_len, seq_stats, on='seqID')\n",
    "seq_stats['poiDuration(sec)'] /= 60\n",
    "seq_stats.rename(columns={'poiDuration(sec)':'totalPoiDuration(min)'}, inplace=True)\n",
    "seq_stats.set_index('seqID', inplace=True)\n",
    "#seq_stats.head()"
   ]
  },
  {
   "cell_type": "code",
   "execution_count": 1497,
   "metadata": {
    "collapsed": false
   },
   "outputs": [],
   "source": [
    "#ax = seq_stats['seqLen'].hist(bins=50)\n",
    "#ax.set_xlabel('sequence length')\n",
    "#ax.set_ylim([0.1, 1e4])\n",
    "#ax.set_yscale('log')"
   ]
  },
  {
   "cell_type": "code",
   "execution_count": 1498,
   "metadata": {
    "collapsed": false
   },
   "outputs": [],
   "source": [
    "#ax = seq_stats['#photo'].hist(bins=50)\n",
    "#ax.set_xlabel('#photo for sequence')\n",
    "#ax.set_ylim([0.1, 1e4])\n",
    "#ax.set_yscale('log')"
   ]
  },
  {
   "cell_type": "code",
   "execution_count": 1499,
   "metadata": {
    "collapsed": false
   },
   "outputs": [],
   "source": [
    "#ax = seq_stats['totalPoiDuration(min)'].hist(bins=100)\n",
    "#ax.set_xlabel('totalPoiDuration(min)')\n",
    "#ax.set_ylim([0.1, 1e4])\n",
    "#ax.set_yscale('log')\n",
    "#ax.set_xscale('log')"
   ]
  },
  {
   "cell_type": "markdown",
   "metadata": {},
   "source": [
    "Sequences with length {3, 4, 5}"
   ]
  },
  {
   "cell_type": "code",
   "execution_count": 1500,
   "metadata": {
    "collapsed": false
   },
   "outputs": [],
   "source": [
    "#seq_stats = seq_stats[seq_stats['seqLen'].isin({3, 4, 5})]\n",
    "#ax = seq_stats['totalPoiDuration(min)'].hist(bins=50)\n",
    "#ax.set_xlabel('totalPoiDuration(min)')\n",
    "#ax.set_ylim([0.1, 1e4])\n",
    "#ax.set_yscale('log')"
   ]
  },
  {
   "cell_type": "code",
   "execution_count": 1501,
   "metadata": {
    "collapsed": true
   },
   "outputs": [],
   "source": [
    "def extract_seq(seqid, seq_all):\n",
    "    seqi = seq_all[seq_all['seqID'] == seqid].copy()\n",
    "    seqi.sort(columns=['arrivalTime'], ascending=True, inplace=True)\n",
    "    return seqi['poiID'].tolist()"
   ]
  },
  {
   "cell_type": "markdown",
   "metadata": {},
   "source": [
    "<a id='sec3'></a>"
   ]
  },
  {
   "cell_type": "markdown",
   "metadata": {},
   "source": [
    "# 3. Compute Transition Probabilities"
   ]
  },
  {
   "cell_type": "markdown",
   "metadata": {},
   "source": [
    "<a id='sec3.1'></a>"
   ]
  },
  {
   "cell_type": "markdown",
   "metadata": {},
   "source": [
    "## 3.1 Basic Definitions"
   ]
  },
  {
   "cell_type": "markdown",
   "metadata": {},
   "source": [
    "- $\\text{Pr}(\\text{POI}_i \\to \\text{POI}_j)$: \n",
    "   the transition probability from $\\text{POI}_i$ to $\\text{POI }_j$\n",
    "- $\\text{Pr}(\\text{Cat}_i \\to \\text{Cat}_j)$:\n",
    "   the transition probability from a POI of category $\\text{Cat}_i$ to a POI of category $\\text{Cat}_j$\n",
    "- $\\text{Pr}(\\text{Pop}_i \\to \\text{Pop}_j)$:\n",
    "   the transition probability from a POI of Popularity class $\\text{Pop}_i$ to a POI of Popularity class $\\text{Pop}_j$\n",
    "- $\\text{Pr}(\\text{Dist}_i \\to \\text{Dist}_j)$:\n",
    "   the transition probability from a POI-POI pair with distance (between the two) class $\\text{Dist}_i$ to a POI-POI pair with distance (between the two) class $\\text{Dist}_j$"
   ]
  },
  {
   "cell_type": "markdown",
   "metadata": {},
   "source": [
    "By design, $\\text{Pr}(\\text{POI}_i \\to \\text{POI}_j)$ should be bigger \n",
    "if any of $\\text{Pr}(\\text{Cat}_i \\to \\text{Cat}_j)$, $\\text{Pr}(\\text{Pop}_i \\to \\text{Pop}_j)$ and\n",
    "$\\text{Pr}(\\text{Dist}_i \\to \\text{Dist}_j)$ becomes bigger (if other factors stay the same)."
   ]
  },
  {
   "cell_type": "markdown",
   "metadata": {},
   "source": [
    "So how to combine these probabilities?  \n",
    "Both addition and multiplication seems to be able to serve this purpose, what is the difference?"
   ]
  },
  {
   "cell_type": "markdown",
   "metadata": {},
   "source": [
    "### The Addition Case"
   ]
  },
  {
   "cell_type": "markdown",
   "metadata": {},
   "source": [
    "For the addtion case, \n",
    "\n",
    "\\begin{equation}\n",
    "\\text{Pr}(\\text{POI}_i \\to \\text{POI}_j) = \\frac{\n",
    "\\text{Pr}(\\text{Cat}_{\\text{POI}_i} \\to \\text{Cat}_{\\text{POI}_j}) + \n",
    "\\text{Pr}(\\text{Pop}_{\\text{POI}_i} \\to \\text{Pop}_{\\text{POI}_j}) + \n",
    "\\text{Pr}(\\text{Dist}_{\\text{POI}_{i-1} \\to \\text{POI}_i} \\to \\text{Dist}_{\\text{POI}_{i} \\to \\text{POI}_j})\n",
    "}\n",
    "{Z_i}\n",
    "\\end{equation}\n",
    "\n",
    "where $\\text{POI}_{i-1}$ is the direct predecessor of $\\text{POI}_i$ in a trajectory and $Z_i$ is a normalizing constant."
   ]
  },
  {
   "cell_type": "markdown",
   "metadata": {},
   "source": [
    "### The Multiplication Case"
   ]
  },
  {
   "cell_type": "markdown",
   "metadata": {},
   "source": [
    "For the multiplication case, \n",
    "\n",
    "\\begin{equation}\n",
    "\\text{Pr}(\\text{POI}_i \\to \\text{POI}_j) = \\frac{\n",
    "\\text{Pr}(\\text{Cat}_{\\text{POI}_i} \\to \\text{Cat}_{\\text{POI}_j}) \\times\n",
    "\\text{Pr}(\\text{Pop}_{\\text{POI}_i} \\to \\text{Pop}_{\\text{POI}_j}) \\times\n",
    "\\text{Pr}(\\text{Dist}_{\\text{POI}_{i-1} \\to \\text{POI}_i} \\to \\text{Dist}_{\\text{POI}_{i} \\to \\text{POI}_j})\n",
    "}\n",
    "{Z_i}\n",
    "\\end{equation}\n",
    "\n",
    "similarly, $\\text{POI}_{i-1}$ is the direct predecessor of $\\text{POI}_i$ in a trajectory and $Z_i$ is again a normalizing constant."
   ]
  },
  {
   "cell_type": "markdown",
   "metadata": {},
   "source": [
    "### The Difference between Addition and Multiplication"
   ]
  },
  {
   "cell_type": "markdown",
   "metadata": {},
   "source": [
    "It is important to note the fact that, by design, $\\text{Pr}(\\text{POI}_i \\to \\text{POI}_j)$ should be very small\n",
    "if any of $\\text{Pr}(\\text{Cat}_i \\to \\text{Cat}_j)$, $\\text{Pr}(\\text{Pop}_i \\to \\text{Pop}_j)$ and\n",
    "$\\text{Pr}(\\text{Dist}_i \\to \\text{Dist}_j)$ is very small, in the extreme case, if any of the three probabilities is $0$, then $\\text{Pr}(\\text{POI}_i \\to \\text{POI}_j)$ should be $0$\n",
    "because the event \"*Transition from POI$_i$ to POI$_j$*\" is impossible."
   ]
  },
  {
   "cell_type": "markdown",
   "metadata": {},
   "source": [
    "From the equation of the addition case, it is clear that the addition rule **contradicts** the above fact while the multiplication rule is **consistent** with it."
   ]
  },
  {
   "cell_type": "markdown",
   "metadata": {},
   "source": [
    "Intuitively, the addition rule could make an unlikely event become much more likely, specifically, \n",
    "make an impossible event become possible."
   ]
  },
  {
   "cell_type": "markdown",
   "metadata": {},
   "source": [
    "<a id='sec3.2'></a>"
   ]
  },
  {
   "cell_type": "markdown",
   "metadata": {},
   "source": [
    "## 3.2 Transition Probabilities between POI Categories"
   ]
  },
  {
   "cell_type": "markdown",
   "metadata": {},
   "source": [
    "We model transition probabilities between POI categories, i.e.\n",
    "$\\text{Pr}(\\text{Cat}_{\\text{POI}_i} \\to \\text{Cat}_{\\text{POI}_j})$."
   ]
  },
  {
   "cell_type": "markdown",
   "metadata": {},
   "source": [
    "We count the number of transition first, then normalise each row while taking care of zero by adding each cell a small number (i.e. $0.1$ times the minimum value of that row) if there exists a zero cell."
   ]
  },
  {
   "cell_type": "code",
   "execution_count": 1502,
   "metadata": {
    "collapsed": true
   },
   "outputs": [],
   "source": [
    "def calc_poi_cat_transmat(seqid_set, poi_all, seq_all):\n",
    "    poi_cats = poi_all['poiTheme'].unique().tolist()\n",
    "    poi_cats.sort()\n",
    "    poi_cat_transmat = pd.DataFrame(data=np.zeros((len(poi_cats), len(poi_cats)), dtype=np.float), \\\n",
    "                                    index=poi_cats, columns=poi_cats)\n",
    "    for seqid in seqid_set:\n",
    "        seq = extract_seq(seqid, seq_all)\n",
    "        for j in range(len(seq)-1):\n",
    "            poi1 = seq[j]\n",
    "            poi2 = seq[j+1]\n",
    "            cat1 = poi_all.loc[poi1, 'poiTheme']\n",
    "            cat2 = poi_all.loc[poi2, 'poiTheme']\n",
    "            poi_cat_transmat.loc[cat1, cat2] += 1\n",
    "    return poi_cat_transmat"
   ]
  },
  {
   "cell_type": "code",
   "execution_count": 1503,
   "metadata": {
    "collapsed": false
   },
   "outputs": [],
   "source": [
    "def normalise_transmat(transmat):\n",
    "    assert(isinstance(transmat, pd.DataFrame))\n",
    "    for row in range(transmat.index.shape[0]):\n",
    "        nonzeroidx = np.nonzero(transmat.iloc[row])[0].tolist()\n",
    "        if len(nonzeroidx) < transmat.columns.shape[0]:\n",
    "            minv = np.min(transmat.iloc[row, nonzeroidx])\n",
    "            EPS = 0.1 * minv  # row-specific smooth factor\n",
    "            #zeroidx = list(set(range(len(transmat.columns))) - set(nonzeroidx))\n",
    "            #transmat.iloc[row, zeroidx] = EPS\n",
    "            transmat.iloc[row] += EPS\n",
    "        rowsum = np.sum(transmat.iloc[row])\n",
    "        assert(rowsum > 0)\n",
    "        transmat.iloc[row] /= rowsum\n",
    "    return transmat        "
   ]
  },
  {
   "cell_type": "code",
   "execution_count": 1504,
   "metadata": {
    "collapsed": false
   },
   "outputs": [
    {
     "data": {
      "text/html": [
       "<div>\n",
       "<table border=\"1\" class=\"dataframe\">\n",
       "  <thead>\n",
       "    <tr style=\"text-align: right;\">\n",
       "      <th></th>\n",
       "      <th>Amusement</th>\n",
       "      <th>Beach</th>\n",
       "      <th>Cultural</th>\n",
       "      <th>Shopping</th>\n",
       "      <th>Sport</th>\n",
       "      <th>Structure</th>\n",
       "    </tr>\n",
       "  </thead>\n",
       "  <tbody>\n",
       "    <tr>\n",
       "      <th>Amusement</th>\n",
       "      <td>14</td>\n",
       "      <td>20</td>\n",
       "      <td>51</td>\n",
       "      <td>17</td>\n",
       "      <td>35</td>\n",
       "      <td>16</td>\n",
       "    </tr>\n",
       "    <tr>\n",
       "      <th>Beach</th>\n",
       "      <td>18</td>\n",
       "      <td>43</td>\n",
       "      <td>61</td>\n",
       "      <td>92</td>\n",
       "      <td>19</td>\n",
       "      <td>106</td>\n",
       "    </tr>\n",
       "    <tr>\n",
       "      <th>Cultural</th>\n",
       "      <td>46</td>\n",
       "      <td>70</td>\n",
       "      <td>40</td>\n",
       "      <td>72</td>\n",
       "      <td>22</td>\n",
       "      <td>94</td>\n",
       "    </tr>\n",
       "    <tr>\n",
       "      <th>Shopping</th>\n",
       "      <td>16</td>\n",
       "      <td>101</td>\n",
       "      <td>58</td>\n",
       "      <td>16</td>\n",
       "      <td>19</td>\n",
       "      <td>71</td>\n",
       "    </tr>\n",
       "    <tr>\n",
       "      <th>Sport</th>\n",
       "      <td>42</td>\n",
       "      <td>23</td>\n",
       "      <td>21</td>\n",
       "      <td>13</td>\n",
       "      <td>8</td>\n",
       "      <td>21</td>\n",
       "    </tr>\n",
       "    <tr>\n",
       "      <th>Structure</th>\n",
       "      <td>26</td>\n",
       "      <td>91</td>\n",
       "      <td>81</td>\n",
       "      <td>59</td>\n",
       "      <td>24</td>\n",
       "      <td>24</td>\n",
       "    </tr>\n",
       "  </tbody>\n",
       "</table>\n",
       "</div>"
      ],
      "text/plain": [
       "           Amusement  Beach  Cultural  Shopping  Sport  Structure\n",
       "Amusement         14     20        51        17     35         16\n",
       "Beach             18     43        61        92     19        106\n",
       "Cultural          46     70        40        72     22         94\n",
       "Shopping          16    101        58        16     19         71\n",
       "Sport             42     23        21        13      8         21\n",
       "Structure         26     91        81        59     24         24"
      ]
     },
     "execution_count": 1504,
     "metadata": {},
     "output_type": "execute_result"
    }
   ],
   "source": [
    "poi_cat_transmat = calc_poi_cat_transmat(seq_all['seqID'].unique(), poi_all, seq_all)\n",
    "poi_cat_transmat"
   ]
  },
  {
   "cell_type": "code",
   "execution_count": 1505,
   "metadata": {
    "collapsed": false
   },
   "outputs": [
    {
     "data": {
      "text/html": [
       "<div>\n",
       "<table border=\"1\" class=\"dataframe\">\n",
       "  <thead>\n",
       "    <tr style=\"text-align: right;\">\n",
       "      <th></th>\n",
       "      <th>Amusement</th>\n",
       "      <th>Beach</th>\n",
       "      <th>Cultural</th>\n",
       "      <th>Shopping</th>\n",
       "      <th>Sport</th>\n",
       "      <th>Structure</th>\n",
       "    </tr>\n",
       "  </thead>\n",
       "  <tbody>\n",
       "    <tr>\n",
       "      <th>Amusement</th>\n",
       "      <td>0.091503</td>\n",
       "      <td>0.130719</td>\n",
       "      <td>0.333333</td>\n",
       "      <td>0.111111</td>\n",
       "      <td>0.228758</td>\n",
       "      <td>0.104575</td>\n",
       "    </tr>\n",
       "    <tr>\n",
       "      <th>Beach</th>\n",
       "      <td>0.053097</td>\n",
       "      <td>0.126844</td>\n",
       "      <td>0.179941</td>\n",
       "      <td>0.271386</td>\n",
       "      <td>0.056047</td>\n",
       "      <td>0.312684</td>\n",
       "    </tr>\n",
       "    <tr>\n",
       "      <th>Cultural</th>\n",
       "      <td>0.133721</td>\n",
       "      <td>0.203488</td>\n",
       "      <td>0.116279</td>\n",
       "      <td>0.209302</td>\n",
       "      <td>0.063953</td>\n",
       "      <td>0.273256</td>\n",
       "    </tr>\n",
       "    <tr>\n",
       "      <th>Shopping</th>\n",
       "      <td>0.056940</td>\n",
       "      <td>0.359431</td>\n",
       "      <td>0.206406</td>\n",
       "      <td>0.056940</td>\n",
       "      <td>0.067616</td>\n",
       "      <td>0.252669</td>\n",
       "    </tr>\n",
       "    <tr>\n",
       "      <th>Sport</th>\n",
       "      <td>0.328125</td>\n",
       "      <td>0.179688</td>\n",
       "      <td>0.164062</td>\n",
       "      <td>0.101562</td>\n",
       "      <td>0.062500</td>\n",
       "      <td>0.164062</td>\n",
       "    </tr>\n",
       "    <tr>\n",
       "      <th>Structure</th>\n",
       "      <td>0.085246</td>\n",
       "      <td>0.298361</td>\n",
       "      <td>0.265574</td>\n",
       "      <td>0.193443</td>\n",
       "      <td>0.078689</td>\n",
       "      <td>0.078689</td>\n",
       "    </tr>\n",
       "  </tbody>\n",
       "</table>\n",
       "</div>"
      ],
      "text/plain": [
       "           Amusement     Beach  Cultural  Shopping     Sport  Structure\n",
       "Amusement   0.091503  0.130719  0.333333  0.111111  0.228758   0.104575\n",
       "Beach       0.053097  0.126844  0.179941  0.271386  0.056047   0.312684\n",
       "Cultural    0.133721  0.203488  0.116279  0.209302  0.063953   0.273256\n",
       "Shopping    0.056940  0.359431  0.206406  0.056940  0.067616   0.252669\n",
       "Sport       0.328125  0.179688  0.164062  0.101562  0.062500   0.164062\n",
       "Structure   0.085246  0.298361  0.265574  0.193443  0.078689   0.078689"
      ]
     },
     "execution_count": 1505,
     "metadata": {},
     "output_type": "execute_result"
    }
   ],
   "source": [
    "poi_cat_transmat = normalise_transmat(poi_cat_transmat)\n",
    "poi_cat_transmat"
   ]
  },
  {
   "cell_type": "markdown",
   "metadata": {},
   "source": [
    "<a id='sec3.3'></a>"
   ]
  },
  {
   "cell_type": "markdown",
   "metadata": {},
   "source": [
    "## 3.3 Transition Probabilities between POI Popularity Classes"
   ]
  },
  {
   "cell_type": "markdown",
   "metadata": {},
   "source": [
    "We model transition probabilities between POI popularities, i.e.\n",
    "$\\text{Pr}(\\text{Pop}_{\\text{POI}_i} \\to \\text{Pop}_{\\text{POI}_j})$\n",
    "after discretizing POI popularities."
   ]
  },
  {
   "cell_type": "markdown",
   "metadata": {},
   "source": [
    "### 3.3.1 Discretize POI Popularity"
   ]
  },
  {
   "cell_type": "markdown",
   "metadata": {},
   "source": [
    "What the general criteria of data discretization? [Discretization of continuous features](https://en.wikipedia.org/wiki/Discretization_of_continuous_features) from Wikipedia. "
   ]
  },
  {
   "cell_type": "markdown",
   "metadata": {},
   "source": [
    "~~**TODO**: Improve the discritization using Fayyad's minimum description length principle (MDLP)  described by [this paper](http://ijcai.org/Past%20Proceedings/IJCAI-93-VOL2/PDF/022.pdf)~~.\n",
    "\n",
    "**NOTE**: MDLP is a supervised discretization method which requires some sort of class labels that are not available here. We need an unsupervised discretization method, well-known ones including equal width, equal frequency, clustering based, etc."
   ]
  },
  {
   "cell_type": "markdown",
   "metadata": {},
   "source": [
    "Try different discretization strategies and choose the best one using the following metrics:"
   ]
  },
  {
   "cell_type": "markdown",
   "metadata": {},
   "source": [
    "`actSeqRank(Top%)` = $100 \\times \\frac{\\text{rank of actual sequence}~S_a}{\\text{number of enumerated sequence w.r.p}~S_a}$"
   ]
  },
  {
   "cell_type": "markdown",
   "metadata": {},
   "source": [
    "`rankTop5(%)` = $100 \\times \\frac{\\sum{\\delta(\\text{rank of actual sequence} \\le 5)}}\n",
    "{\\text{number of actual sequence}}$, where $\\delta(\\text{True}) = 1$ and $\\delta(\\text{False}) = 0$  \n",
    "i.e. the percentage of actual sequence $S_a$ ranked top 5 among all enumerated sequences with respect to $S_a$."
   ]
  },
  {
   "cell_type": "code",
   "execution_count": 1506,
   "metadata": {
    "collapsed": false
   },
   "outputs": [
    {
     "data": {
      "text/plain": [
       "array([3506,  609,  688, 3056,  986, 2064, 1736,  278,  346, 4142,  481,\n",
       "        964,  141,  113, 3553,  808,   26,  111,   89, 3594, 3619, 1874,\n",
       "       1028, 1701,  104,  631,  936,  744, 1538])"
      ]
     },
     "execution_count": 1506,
     "metadata": {},
     "output_type": "execute_result"
    }
   ],
   "source": [
    "poi_all['poiFreq'].get_values()"
   ]
  },
  {
   "cell_type": "code",
   "execution_count": 1507,
   "metadata": {
    "collapsed": false
   },
   "outputs": [
    {
     "data": {
      "text/plain": [
       "count      29.000000\n",
       "mean     1360.896552\n",
       "std      1289.191534\n",
       "min        26.000000\n",
       "25%       346.000000\n",
       "50%       936.000000\n",
       "75%      1874.000000\n",
       "max      4142.000000\n",
       "Name: poiFreq, dtype: float64"
      ]
     },
     "execution_count": 1507,
     "metadata": {},
     "output_type": "execute_result"
    }
   ],
   "source": [
    "poi_all['poiFreq'].describe()"
   ]
  },
  {
   "cell_type": "code",
   "execution_count": 1508,
   "metadata": {
    "collapsed": false
   },
   "outputs": [
    {
     "data": {
      "text/plain": [
       "[346.0, 936.0, 1874.0]"
      ]
     },
     "execution_count": 1508,
     "metadata": {},
     "output_type": "execute_result"
    }
   ],
   "source": [
    "poi_all['poiFreq'].quantile([.25, .5, .75]).tolist()"
   ]
  },
  {
   "cell_type": "code",
   "execution_count": 1509,
   "metadata": {
    "collapsed": false
   },
   "outputs": [
    {
     "data": {
      "text/plain": [
       "<matplotlib.text.Text at 0x7ff966093c88>"
      ]
     },
     "execution_count": 1509,
     "metadata": {},
     "output_type": "execute_result"
    },
    {
     "data": {
      "image/png": "[encoded data removed]",
      "text/plain": [
       "<matplotlib.figure.Figure at 0x7ff95e386080>"
      ]
     },
     "metadata": {},
     "output_type": "display_data"
    }
   ],
   "source": [
    "ax = poi_all['poiFreq'].hist(bins=10)\n",
    "ax.set_xlabel('POI Popularity')\n",
    "ax.set_ylabel('#POI')"
   ]
  },
  {
   "cell_type": "code",
   "execution_count": 1510,
   "metadata": {
    "collapsed": false
   },
   "outputs": [],
   "source": [
    "#plt.plot(np.ones(poi_all.index.shape[0]), np.sqrt(poi_all['poiFreq']), marker='+')"
   ]
  },
  {
   "cell_type": "markdown",
   "metadata": {},
   "source": [
    "### Quantile based bins (equal frequency)"
   ]
  },
  {
   "cell_type": "code",
   "execution_count": 1511,
   "metadata": {
    "collapsed": false
   },
   "outputs": [],
   "source": [
    "#nbins = 3\n",
    "#quantiles = np.round(np.linspace(0, 1, nbins+1), 2)[1:-1]\n",
    "#quantiles"
   ]
  },
  {
   "cell_type": "code",
   "execution_count": 1512,
   "metadata": {
    "collapsed": false
   },
   "outputs": [],
   "source": [
    "#bins_qt = [0]\n",
    "#bins_qt.extend(poi_all['poiFreq'].quantile(quantiles))\n",
    "#bins_qt.append(poi_all['poiFreq'].max() + 1)\n",
    "#bins_qt"
   ]
  },
  {
   "cell_type": "markdown",
   "metadata": {},
   "source": [
    "<table>\n",
    "<tr><td><b>descretization strategy</b></td><td><b>actSeqRank(Top%) (smaller is better) Toronto</b></td><td><b>rankTop5(%) (larger is better) Toronto</b></td></tr>\n",
    "<tr><td>quantile [0.33, 0.67]</td><td>mean: 16.049, std: 19.873</td><td>131/266 = 49.25%</td>\n",
    "<tr><td>quantile [0.25, 0.5, 0.75]</td><td>mean: 16.478, std: 21.002</td><td>132/266 = 49.62%</td>\n",
    "<tr><td>quantile [0.2, 0.4, 0.6, 0.8]</td><td>mean: 16.811, std: 22.159</td><td>127/266 = 47.74%</td>\n",
    "<tr><td>quantile [0.17, 0.33, 0.5, 0.67, 0.83]</td><td>mean: 15.049, std: 18.722</td><td>128/266 = 48.12%</td>\n",
    "<tr><td>quantile [0.14, 0.29, 0.43, 0.57, 0.71, 0.86]</td><td>mean: 15.831, std: 20.140</td><td>130/266 = 48.87%</td>\n",
    "<tr><td>quantile [0.12, 0.25, 0.38, 0.5, 0.62, 0.75, 0.88]</td><td>mean: 15.567, std: 19.811</td><td>135/266 = 50.75%</td>\n",
    "<tr><td>quantile [0.11, 0.22, 0.33, 0.44, 0.56, 0.67, 0.78, 0.89]</td><td>mean: 14.556, std: 17.937</td><td>138/266 = 51.88%</td>\n",
    "<tr><td>quantile [0.1, 0.2, 0.3, 0.4, 0.5, 0.6, 0.7, 0.8, 0.9]</td><td>mean: 14.398, std: 17.694</td><td>135/266 = 50.75%</td>\n",
    "<tr><td>quantile [0.09, 0.18, 0.27, 0.36, 0.45, 0.55, 0.64, 0.73, 0.82, 0.91]</td><td>mean: 14.874, std: 18.915</td><td>138/266 = 51.88%</td>\n",
    "<tr><td>quantile [0.08, 0.17, 0.25, 0.33, 0.42, 0.5, 0.58, 0.67, 0.75, 0.83, 0.92]</td><td>mean: 13.491, std: 16.760</td><td>145/266 = 54.51%</td>\n",
    "<tr><td>quantile [0.08, 0.15, 0.23, 0.31, 0.38, 0.46, 0.54, 0.62, 0.69, 0.77, 0.85, 0.92]</td><td>mean: 13.528, std: 16.964</td><td>144/266 = 54.14%</td>\n",
    "<tr><td>quantile [0.07, 0.14, 0.21, 0.29, 0.36, 0.43, 0.5, 0.57, 0.64, 0.71, 0.79, 0.86, 0.93]</td><td>mean: 13.279, std: 15.960</td><td>142/266 = 53.38%</td>\n",
    "<tr><td>quantile [0.07, 0.13, 0.2, 0.27, 0.33, 0.4, 0.47, 0.53, 0.6, 0.67, 0.73, 0.8, 0.87, 0.93]</td><td>mean: 12.784, std: 15.796</td><td>151/266 = 56.77%</td>\n",
    "<tr><td>equalWidth, nbins=2</td><td>mean: 24.761, std: 29.356</td><td>115/266 = 43.23%</td>\n",
    "<tr><td>equalWidth, nbins=3</td><td>mean: 21.841, std: 28.366</td><td>127/266 = 47.74%</td>\n",
    "<tr><td>equalWidth, nbins=4</td><td>mean: 23.636, std: 29.252</td><td>120/266 = 45.11%</td>\n",
    "<tr><td>equalWidth, nbins=5</td><td>mean: 20.154, std: 26.713</td><td>125/266 = 46.99%</td>\n",
    "<tr><td>equalWidth, nbins=6</td><td>mean: 19.129, std: 25.530</td><td>125/266 = 46.99%</td>\n",
    "<tr><td>equalWidth, nbins=7</td><td>mean: 16.922, std: 20.619</td><td>126/266 = 47.37%</td>\n",
    "<tr><td>equalWidth, nbins=8</td><td>mean: 18.240, std: 22.739</td><td>121/266 = 45.49%</td>\n",
    "<tr><td>equalWidth, nbins=9</td><td>mean: 17.507, std: 22.659</td><td>129/266 = 48.50%</td>\n",
    "<tr><td>equalWidth, nbins=10</td><td>mean: 18.196, std: 23.321</td><td>125/266 = 46.99%</td>\n",
    "<tr><td>equalWidth, nbins=11</td><td>mean: 17.711, std: 23.398</td><td>131/266 = 49.25%</td>\n",
    "<tr><td>equalWidth, nbins=12</td><td>mean: 17.389, std: 22.718</td><td>132/266 = 49.62%</td>\n",
    "<tr><td>equalWidth, nbins=13</td><td>mean: 15.820, std: 20.856</td><td>141/266 = 53.01%</td>\n",
    "<tr><td>equalWidth, nbins=14</td><td>mean: 15.681, std: 19.559</td><td>136/266 = 51.13%</td>\n",
    "<tr><td>equalWidth, nbins=15</td><td>mean: 15.712, std: 19.794</td><td>136/266 = 51.13%</td>\n",
    "</table>"
   ]
  },
  {
   "cell_type": "markdown",
   "metadata": {},
   "source": [
    "### Equal width bins"
   ]
  },
  {
   "cell_type": "code",
   "execution_count": 1513,
   "metadata": {
    "collapsed": false
   },
   "outputs": [
    {
     "data": {
      "text/plain": [
       "[0.0,\n",
       " 276.0,\n",
       " 552.0,\n",
       " 828.0,\n",
       " 1104.0,\n",
       " 1380.0,\n",
       " 1656.0,\n",
       " 1932.0,\n",
       " 2208.0,\n",
       " 2484.0,\n",
       " 2760.0,\n",
       " 3036.0,\n",
       " 3312.0,\n",
       " 3588.0,\n",
       " 3864.0,\n",
       " 4143]"
      ]
     },
     "execution_count": 1513,
     "metadata": {},
     "output_type": "execute_result"
    }
   ],
   "source": [
    "nbins = 15\n",
    "inter = round((poi_all['poiFreq'].max() + 1) / nbins)\n",
    "bins_ew = [x*inter for x in range(nbins)]\n",
    "bins_ew.append(poi_all['poiFreq'].max() + 1)\n",
    "bins_ew"
   ]
  },
  {
   "cell_type": "markdown",
   "metadata": {},
   "source": [
    "### Another Equal frequency bins"
   ]
  },
  {
   "cell_type": "code",
   "execution_count": 1514,
   "metadata": {
    "collapsed": true
   },
   "outputs": [],
   "source": [
    "#bins = np.linspace(0, 10000, 11)\n",
    "#bins = np.logspace(0, 4, 5)\n",
    "#bins = [1, 100, 500, 1000, 2000, 5000]\n",
    "bins_ef = [0, 500, 1500, 10000]"
   ]
  },
  {
   "cell_type": "markdown",
   "metadata": {},
   "source": [
    "The mean and standard deviation of actSeqRank(Top%) with respect to the above bins are `(mean: 16.4152260994, std: 17.410357672)`, `numRankTop5 = 114`"
   ]
  },
  {
   "cell_type": "markdown",
   "metadata": {},
   "source": [
    "It seems that the type of POI popularity discretization has little effect on the results, let's use Quantile based bins."
   ]
  },
  {
   "cell_type": "code",
   "execution_count": 1515,
   "metadata": {
    "collapsed": true
   },
   "outputs": [],
   "source": [
    "#bins_pop = bins_qt\n",
    "bins_pop = bins_ew\n",
    "#bins_pop = bins_ef"
   ]
  },
  {
   "cell_type": "code",
   "execution_count": 1516,
   "metadata": {
    "collapsed": false
   },
   "outputs": [
    {
     "data": {
      "image/png": "[encoded data removed]",
      "text/plain": [
       "<matplotlib.figure.Figure at 0x7ff9907a8f98>"
      ]
     },
     "metadata": {},
     "output_type": "display_data"
    }
   ],
   "source": [
    "ax = poi_all['poiFreq'].hist(bins=bins_pop)\n",
    "ax.set_xlabel('POI Popularity')\n",
    "ax.set_ylabel('#POI')\n",
    "ax.set_xscale('log')"
   ]
  },
  {
   "cell_type": "code",
   "execution_count": 1517,
   "metadata": {
    "collapsed": false
   },
   "outputs": [],
   "source": [
    "poi_all['popClass'] = np.digitize(poi_all['poiFreq'].get_values(), bins_pop)\n",
    "#poi_all"
   ]
  },
  {
   "cell_type": "markdown",
   "metadata": {},
   "source": [
    "### 3.3.2 Compute Transition Probabilities"
   ]
  },
  {
   "cell_type": "code",
   "execution_count": 1518,
   "metadata": {
    "collapsed": true
   },
   "outputs": [],
   "source": [
    "def calc_poi_pop_transmat(seqid_set, poi_all, seq_all):\n",
    "    pop_class = poi_all['popClass'].unique().tolist()\n",
    "    pop_class.sort()\n",
    "    poi_pop_transmat = pd.DataFrame(data=np.zeros((len(pop_class), len(pop_class)), dtype=np.float), \\\n",
    "                                    index=pop_class, columns=pop_class)\n",
    "    for seqid in seqid_set:\n",
    "        seq = extract_seq(seqid, seq_all)\n",
    "        for j in range(len(seq)-1):\n",
    "            poi1 = seq[j]\n",
    "            poi2 = seq[j+1]\n",
    "            pc1 = poi_all.loc[poi1, 'popClass']\n",
    "            pc2 = poi_all.loc[poi2, 'popClass']\n",
    "            poi_pop_transmat.loc[pc1, pc2] += 1\n",
    "    return poi_pop_transmat"
   ]
  },
  {
   "cell_type": "code",
   "execution_count": 1519,
   "metadata": {
    "collapsed": false
   },
   "outputs": [
    {
     "data": {
      "text/html": [
       "<div>\n",
       "<table border=\"1\" class=\"dataframe\">\n",
       "  <thead>\n",
       "    <tr style=\"text-align: right;\">\n",
       "      <th></th>\n",
       "      <th>1</th>\n",
       "      <th>2</th>\n",
       "      <th>3</th>\n",
       "      <th>4</th>\n",
       "      <th>6</th>\n",
       "      <th>7</th>\n",
       "      <th>8</th>\n",
       "      <th>12</th>\n",
       "      <th>13</th>\n",
       "      <th>14</th>\n",
       "      <th>15</th>\n",
       "    </tr>\n",
       "  </thead>\n",
       "  <tbody>\n",
       "    <tr>\n",
       "      <th>1</th>\n",
       "      <td>8</td>\n",
       "      <td>0</td>\n",
       "      <td>9</td>\n",
       "      <td>2</td>\n",
       "      <td>1</td>\n",
       "      <td>0</td>\n",
       "      <td>4</td>\n",
       "      <td>1</td>\n",
       "      <td>3</td>\n",
       "      <td>4</td>\n",
       "      <td>0</td>\n",
       "    </tr>\n",
       "    <tr>\n",
       "      <th>2</th>\n",
       "      <td>0</td>\n",
       "      <td>0</td>\n",
       "      <td>0</td>\n",
       "      <td>0</td>\n",
       "      <td>0</td>\n",
       "      <td>0</td>\n",
       "      <td>0</td>\n",
       "      <td>0</td>\n",
       "      <td>1</td>\n",
       "      <td>3</td>\n",
       "      <td>1</td>\n",
       "    </tr>\n",
       "    <tr>\n",
       "      <th>3</th>\n",
       "      <td>13</td>\n",
       "      <td>1</td>\n",
       "      <td>18</td>\n",
       "      <td>13</td>\n",
       "      <td>7</td>\n",
       "      <td>14</td>\n",
       "      <td>3</td>\n",
       "      <td>1</td>\n",
       "      <td>5</td>\n",
       "      <td>22</td>\n",
       "      <td>21</td>\n",
       "    </tr>\n",
       "    <tr>\n",
       "      <th>4</th>\n",
       "      <td>4</td>\n",
       "      <td>0</td>\n",
       "      <td>11</td>\n",
       "      <td>10</td>\n",
       "      <td>22</td>\n",
       "      <td>54</td>\n",
       "      <td>13</td>\n",
       "      <td>8</td>\n",
       "      <td>26</td>\n",
       "      <td>87</td>\n",
       "      <td>18</td>\n",
       "    </tr>\n",
       "    <tr>\n",
       "      <th>6</th>\n",
       "      <td>0</td>\n",
       "      <td>0</td>\n",
       "      <td>2</td>\n",
       "      <td>15</td>\n",
       "      <td>0</td>\n",
       "      <td>20</td>\n",
       "      <td>41</td>\n",
       "      <td>3</td>\n",
       "      <td>29</td>\n",
       "      <td>25</td>\n",
       "      <td>1</td>\n",
       "    </tr>\n",
       "    <tr>\n",
       "      <th>7</th>\n",
       "      <td>3</td>\n",
       "      <td>0</td>\n",
       "      <td>18</td>\n",
       "      <td>62</td>\n",
       "      <td>29</td>\n",
       "      <td>7</td>\n",
       "      <td>9</td>\n",
       "      <td>10</td>\n",
       "      <td>30</td>\n",
       "      <td>95</td>\n",
       "      <td>10</td>\n",
       "    </tr>\n",
       "    <tr>\n",
       "      <th>8</th>\n",
       "      <td>2</td>\n",
       "      <td>0</td>\n",
       "      <td>3</td>\n",
       "      <td>22</td>\n",
       "      <td>42</td>\n",
       "      <td>17</td>\n",
       "      <td>0</td>\n",
       "      <td>1</td>\n",
       "      <td>20</td>\n",
       "      <td>25</td>\n",
       "      <td>4</td>\n",
       "    </tr>\n",
       "    <tr>\n",
       "      <th>12</th>\n",
       "      <td>0</td>\n",
       "      <td>1</td>\n",
       "      <td>1</td>\n",
       "      <td>4</td>\n",
       "      <td>5</td>\n",
       "      <td>7</td>\n",
       "      <td>0</td>\n",
       "      <td>0</td>\n",
       "      <td>25</td>\n",
       "      <td>5</td>\n",
       "      <td>0</td>\n",
       "    </tr>\n",
       "    <tr>\n",
       "      <th>13</th>\n",
       "      <td>2</td>\n",
       "      <td>0</td>\n",
       "      <td>6</td>\n",
       "      <td>23</td>\n",
       "      <td>21</td>\n",
       "      <td>41</td>\n",
       "      <td>15</td>\n",
       "      <td>26</td>\n",
       "      <td>6</td>\n",
       "      <td>19</td>\n",
       "      <td>5</td>\n",
       "    </tr>\n",
       "    <tr>\n",
       "      <th>14</th>\n",
       "      <td>0</td>\n",
       "      <td>2</td>\n",
       "      <td>25</td>\n",
       "      <td>99</td>\n",
       "      <td>19</td>\n",
       "      <td>89</td>\n",
       "      <td>21</td>\n",
       "      <td>6</td>\n",
       "      <td>17</td>\n",
       "      <td>41</td>\n",
       "      <td>6</td>\n",
       "    </tr>\n",
       "    <tr>\n",
       "      <th>15</th>\n",
       "      <td>2</td>\n",
       "      <td>0</td>\n",
       "      <td>27</td>\n",
       "      <td>5</td>\n",
       "      <td>2</td>\n",
       "      <td>9</td>\n",
       "      <td>2</td>\n",
       "      <td>1</td>\n",
       "      <td>2</td>\n",
       "      <td>10</td>\n",
       "      <td>0</td>\n",
       "    </tr>\n",
       "  </tbody>\n",
       "</table>\n",
       "</div>"
      ],
      "text/plain": [
       "    1   2   3   4   6   7   8   12  13  14  15\n",
       "1    8   0   9   2   1   0   4   1   3   4   0\n",
       "2    0   0   0   0   0   0   0   0   1   3   1\n",
       "3   13   1  18  13   7  14   3   1   5  22  21\n",
       "4    4   0  11  10  22  54  13   8  26  87  18\n",
       "6    0   0   2  15   0  20  41   3  29  25   1\n",
       "7    3   0  18  62  29   7   9  10  30  95  10\n",
       "8    2   0   3  22  42  17   0   1  20  25   4\n",
       "12   0   1   1   4   5   7   0   0  25   5   0\n",
       "13   2   0   6  23  21  41  15  26   6  19   5\n",
       "14   0   2  25  99  19  89  21   6  17  41   6\n",
       "15   2   0  27   5   2   9   2   1   2  10   0"
      ]
     },
     "execution_count": 1519,
     "metadata": {},
     "output_type": "execute_result"
    }
   ],
   "source": [
    "poi_pop_transmat = calc_poi_pop_transmat(seq_all['seqID'].unique(), poi_all, seq_all)\n",
    "poi_pop_transmat"
   ]
  },
  {
   "cell_type": "code",
   "execution_count": 1520,
   "metadata": {
    "collapsed": false
   },
   "outputs": [
    {
     "data": {
      "text/html": [
       "<div>\n",
       "<table border=\"1\" class=\"dataframe\">\n",
       "  <thead>\n",
       "    <tr style=\"text-align: right;\">\n",
       "      <th></th>\n",
       "      <th>1</th>\n",
       "      <th>2</th>\n",
       "      <th>3</th>\n",
       "      <th>4</th>\n",
       "      <th>6</th>\n",
       "      <th>7</th>\n",
       "      <th>8</th>\n",
       "      <th>12</th>\n",
       "      <th>13</th>\n",
       "      <th>14</th>\n",
       "      <th>15</th>\n",
       "    </tr>\n",
       "  </thead>\n",
       "  <tbody>\n",
       "    <tr>\n",
       "      <th>1</th>\n",
       "      <td>0.244713</td>\n",
       "      <td>0.003021</td>\n",
       "      <td>0.274924</td>\n",
       "      <td>0.063444</td>\n",
       "      <td>0.033233</td>\n",
       "      <td>0.003021</td>\n",
       "      <td>0.123867</td>\n",
       "      <td>0.033233</td>\n",
       "      <td>0.093656</td>\n",
       "      <td>0.123867</td>\n",
       "      <td>0.003021</td>\n",
       "    </tr>\n",
       "    <tr>\n",
       "      <th>2</th>\n",
       "      <td>0.016393</td>\n",
       "      <td>0.016393</td>\n",
       "      <td>0.016393</td>\n",
       "      <td>0.016393</td>\n",
       "      <td>0.016393</td>\n",
       "      <td>0.016393</td>\n",
       "      <td>0.016393</td>\n",
       "      <td>0.016393</td>\n",
       "      <td>0.180328</td>\n",
       "      <td>0.508197</td>\n",
       "      <td>0.180328</td>\n",
       "    </tr>\n",
       "    <tr>\n",
       "      <th>3</th>\n",
       "      <td>0.110169</td>\n",
       "      <td>0.008475</td>\n",
       "      <td>0.152542</td>\n",
       "      <td>0.110169</td>\n",
       "      <td>0.059322</td>\n",
       "      <td>0.118644</td>\n",
       "      <td>0.025424</td>\n",
       "      <td>0.008475</td>\n",
       "      <td>0.042373</td>\n",
       "      <td>0.186441</td>\n",
       "      <td>0.177966</td>\n",
       "    </tr>\n",
       "    <tr>\n",
       "      <th>4</th>\n",
       "      <td>0.017094</td>\n",
       "      <td>0.001554</td>\n",
       "      <td>0.044289</td>\n",
       "      <td>0.040404</td>\n",
       "      <td>0.087024</td>\n",
       "      <td>0.211344</td>\n",
       "      <td>0.052059</td>\n",
       "      <td>0.032634</td>\n",
       "      <td>0.102564</td>\n",
       "      <td>0.339549</td>\n",
       "      <td>0.071484</td>\n",
       "    </tr>\n",
       "    <tr>\n",
       "      <th>6</th>\n",
       "      <td>0.000729</td>\n",
       "      <td>0.000729</td>\n",
       "      <td>0.015317</td>\n",
       "      <td>0.110139</td>\n",
       "      <td>0.000729</td>\n",
       "      <td>0.146608</td>\n",
       "      <td>0.299781</td>\n",
       "      <td>0.022611</td>\n",
       "      <td>0.212254</td>\n",
       "      <td>0.183078</td>\n",
       "      <td>0.008023</td>\n",
       "    </tr>\n",
       "    <tr>\n",
       "      <th>7</th>\n",
       "      <td>0.011944</td>\n",
       "      <td>0.001086</td>\n",
       "      <td>0.066232</td>\n",
       "      <td>0.225480</td>\n",
       "      <td>0.106044</td>\n",
       "      <td>0.026421</td>\n",
       "      <td>0.033659</td>\n",
       "      <td>0.037278</td>\n",
       "      <td>0.109663</td>\n",
       "      <td>0.344915</td>\n",
       "      <td>0.037278</td>\n",
       "    </tr>\n",
       "    <tr>\n",
       "      <th>8</th>\n",
       "      <td>0.015317</td>\n",
       "      <td>0.000729</td>\n",
       "      <td>0.022611</td>\n",
       "      <td>0.161196</td>\n",
       "      <td>0.307075</td>\n",
       "      <td>0.124726</td>\n",
       "      <td>0.000729</td>\n",
       "      <td>0.008023</td>\n",
       "      <td>0.146608</td>\n",
       "      <td>0.183078</td>\n",
       "      <td>0.029905</td>\n",
       "    </tr>\n",
       "    <tr>\n",
       "      <th>12</th>\n",
       "      <td>0.002037</td>\n",
       "      <td>0.022403</td>\n",
       "      <td>0.022403</td>\n",
       "      <td>0.083503</td>\n",
       "      <td>0.103870</td>\n",
       "      <td>0.144603</td>\n",
       "      <td>0.002037</td>\n",
       "      <td>0.002037</td>\n",
       "      <td>0.511202</td>\n",
       "      <td>0.103870</td>\n",
       "      <td>0.002037</td>\n",
       "    </tr>\n",
       "    <tr>\n",
       "      <th>13</th>\n",
       "      <td>0.013237</td>\n",
       "      <td>0.001203</td>\n",
       "      <td>0.037304</td>\n",
       "      <td>0.139591</td>\n",
       "      <td>0.127557</td>\n",
       "      <td>0.247894</td>\n",
       "      <td>0.091456</td>\n",
       "      <td>0.157641</td>\n",
       "      <td>0.037304</td>\n",
       "      <td>0.115523</td>\n",
       "      <td>0.031288</td>\n",
       "    </tr>\n",
       "    <tr>\n",
       "      <th>14</th>\n",
       "      <td>0.000611</td>\n",
       "      <td>0.006724</td>\n",
       "      <td>0.077017</td>\n",
       "      <td>0.303178</td>\n",
       "      <td>0.058680</td>\n",
       "      <td>0.272616</td>\n",
       "      <td>0.064792</td>\n",
       "      <td>0.018949</td>\n",
       "      <td>0.052567</td>\n",
       "      <td>0.125917</td>\n",
       "      <td>0.018949</td>\n",
       "    </tr>\n",
       "    <tr>\n",
       "      <th>15</th>\n",
       "      <td>0.034370</td>\n",
       "      <td>0.001637</td>\n",
       "      <td>0.443535</td>\n",
       "      <td>0.083470</td>\n",
       "      <td>0.034370</td>\n",
       "      <td>0.148936</td>\n",
       "      <td>0.034370</td>\n",
       "      <td>0.018003</td>\n",
       "      <td>0.034370</td>\n",
       "      <td>0.165303</td>\n",
       "      <td>0.001637</td>\n",
       "    </tr>\n",
       "  </tbody>\n",
       "</table>\n",
       "</div>"
      ],
      "text/plain": [
       "          1         2         3         4         6         7         8   \\\n",
       "1   0.244713  0.003021  0.274924  0.063444  0.033233  0.003021  0.123867   \n",
       "2   0.016393  0.016393  0.016393  0.016393  0.016393  0.016393  0.016393   \n",
       "3   0.110169  0.008475  0.152542  0.110169  0.059322  0.118644  0.025424   \n",
       "4   0.017094  0.001554  0.044289  0.040404  0.087024  0.211344  0.052059   \n",
       "6   0.000729  0.000729  0.015317  0.110139  0.000729  0.146608  0.299781   \n",
       "7   0.011944  0.001086  0.066232  0.225480  0.106044  0.026421  0.033659   \n",
       "8   0.015317  0.000729  0.022611  0.161196  0.307075  0.124726  0.000729   \n",
       "12  0.002037  0.022403  0.022403  0.083503  0.103870  0.144603  0.002037   \n",
       "13  0.013237  0.001203  0.037304  0.139591  0.127557  0.247894  0.091456   \n",
       "14  0.000611  0.006724  0.077017  0.303178  0.058680  0.272616  0.064792   \n",
       "15  0.034370  0.001637  0.443535  0.083470  0.034370  0.148936  0.034370   \n",
       "\n",
       "          12        13        14        15  \n",
       "1   0.033233  0.093656  0.123867  0.003021  \n",
       "2   0.016393  0.180328  0.508197  0.180328  \n",
       "3   0.008475  0.042373  0.186441  0.177966  \n",
       "4   0.032634  0.102564  0.339549  0.071484  \n",
       "6   0.022611  0.212254  0.183078  0.008023  \n",
       "7   0.037278  0.109663  0.344915  0.037278  \n",
       "8   0.008023  0.146608  0.183078  0.029905  \n",
       "12  0.002037  0.511202  0.103870  0.002037  \n",
       "13  0.157641  0.037304  0.115523  0.031288  \n",
       "14  0.018949  0.052567  0.125917  0.018949  \n",
       "15  0.018003  0.034370  0.165303  0.001637  "
      ]
     },
     "execution_count": 1520,
     "metadata": {},
     "output_type": "execute_result"
    }
   ],
   "source": [
    "poi_pop_transmat = normalise_transmat(poi_pop_transmat)\n",
    "poi_pop_transmat"
   ]
  },
  {
   "cell_type": "markdown",
   "metadata": {},
   "source": [
    "<a id='sec3.5'></a>"
   ]
  },
  {
   "cell_type": "markdown",
   "metadata": {},
   "source": [
    "## 3.5 Transition Probabilities between POI Pair Distance Classes"
   ]
  },
  {
   "cell_type": "markdown",
   "metadata": {},
   "source": [
    "We model transition probabilities between different POI pair distances, i.e.\n",
    "$\\text{Pr}(\\text{Dist}_{\\text{POI}_{i-1} \\to \\text{POI}_i} \\to \\text{Dist}_{\\text{POI}_{i} \\to \\text{POI}_j})$\n",
    "after discretize POI pair distances."
   ]
  },
  {
   "cell_type": "markdown",
   "metadata": {},
   "source": [
    "Compute POI-pair distance if the pair is **observed** in dataset."
   ]
  },
  {
   "cell_type": "markdown",
   "metadata": {},
   "source": [
    "### TODO: Improve the distance calculation using Google maps [distance API](https://developers.google.com/maps/documentation/distance-matrix/intro) with different [travel modes](https://developers.google.com/maps/documentation/distance-matrix/intro#travel_modes) demonstrated [here](https://jakevdp.github.io/blog/2015/10/17/analyzing-pronto-cycleshare-data-with-python-and-pandas/)."
   ]
  },
  {
   "cell_type": "markdown",
   "metadata": {},
   "source": [
    "### 3.5.1 Compute POI Pair Distance"
   ]
  },
  {
   "cell_type": "code",
   "execution_count": 1521,
   "metadata": {
    "collapsed": true
   },
   "outputs": [],
   "source": [
    "def calc_dist(longitude1, latitude1, longitude2, latitude2):\n",
    "    \"\"\"Calculate the distance (unit: km) between two places on earth\"\"\"\n",
    "    # convert degrees to radians\n",
    "    lon1 = math.radians(longitude1)\n",
    "    lat1 = math.radians(latitude1)\n",
    "    lon2 = math.radians(longitude2)\n",
    "    lat2 = math.radians(latitude2)\n",
    "    radius = 6371.009 # mean earth radius is 6371.009km, en.wikipedia.org/wiki/Earth_radius#Mean_radius\n",
    "    # The haversine formula, en.wikipedia.org/wiki/Great-circle_distance\n",
    "    dlon = math.fabs(lon1 - lon2)\n",
    "    dlat = math.fabs(lat1 - lat2)\n",
    "    return 2 * radius * math.asin( math.sqrt( \\\n",
    "               (math.sin(0.5*dlat))**2 + math.cos(lat1) * math.cos(lat2) * (math.sin(0.5*dlon))**2 ))"
   ]
  },
  {
   "cell_type": "code",
   "execution_count": 1522,
   "metadata": {
    "collapsed": false
   },
   "outputs": [],
   "source": [
    "def calc_obs_poipair_distmat(seqid_set, poi_all, seq_all):\n",
    "    poi_distmat = pd.DataFrame(data=np.full((poi_all.shape[0], poi_all.shape[0]), np.nan, dtype=np.float), \\\n",
    "                               index=poi_all.index, columns=poi_all.index)\n",
    "    for seqid in seqid_set:\n",
    "        seq = extract_seq(seqid, seq_all)\n",
    "        if len(seq) < 2: continue\n",
    "        for j in range(len(seq)-1):\n",
    "            poi1 = seq[j]\n",
    "            poi2 = seq[j+1]\n",
    "            if np.isnan(poi_distmat.loc[poi1, poi2]):\n",
    "                dist = calc_dist(poi_all.loc[poi1, 'poiLon'], poi_all.loc[poi1, 'poiLat'], \\\n",
    "                                 poi_all.loc[poi2, 'poiLon'], poi_all.loc[poi2, 'poiLat'])\n",
    "                poi_distmat.loc[poi1, poi2] = dist\n",
    "                poi_distmat.loc[poi2, poi1] = dist\n",
    "    return poi_distmat"
   ]
  },
  {
   "cell_type": "code",
   "execution_count": 1523,
   "metadata": {
    "collapsed": false
   },
   "outputs": [],
   "source": [
    "poi_distmat = calc_obs_poipair_distmat(seq_all['seqID'].unique(), poi_all, seq_all)\n",
    "#poi_distmat"
   ]
  },
  {
   "cell_type": "markdown",
   "metadata": {},
   "source": [
    "### 3.5.2 Discretize POI Pair Distance"
   ]
  },
  {
   "cell_type": "code",
   "execution_count": 1524,
   "metadata": {
    "collapsed": false
   },
   "outputs": [],
   "source": [
    "#distdata = pd.Series([x for x in np.unique(poi_distmat.get_values().flatten()) if not np.isnan(x)])\n",
    "distdata = pd.Series([poi_distmat.iloc[x, y] \\\n",
    "                      for x in range(poi_distmat.index.shape[0]) \\\n",
    "                      for y in range(x+1, poi_distmat.index.shape[0]) \\\n",
    "                      if not np.isnan(poi_distmat.iloc[x, y])])"
   ]
  },
  {
   "cell_type": "code",
   "execution_count": 1525,
   "metadata": {
    "collapsed": false
   },
   "outputs": [
    {
     "data": {
      "text/plain": [
       "count    179.000000\n",
       "mean       2.069742\n",
       "std        1.659092\n",
       "min        0.147439\n",
       "25%        0.975327\n",
       "50%        1.710602\n",
       "75%        2.655934\n",
       "max        9.857157\n",
       "dtype: float64"
      ]
     },
     "execution_count": 1525,
     "metadata": {},
     "output_type": "execute_result"
    }
   ],
   "source": [
    "distdata.describe()"
   ]
  },
  {
   "cell_type": "code",
   "execution_count": 1526,
   "metadata": {
    "collapsed": false
   },
   "outputs": [
    {
     "data": {
      "text/plain": [
       "<matplotlib.text.Text at 0x7ff995d98f98>"
      ]
     },
     "execution_count": 1526,
     "metadata": {},
     "output_type": "execute_result"
    },
    {
     "data": {
      "image/png": "[encoded data removed]",
      "text/plain": [
       "<matplotlib.figure.Figure at 0x7ff972134978>"
      ]
     },
     "metadata": {},
     "output_type": "display_data"
    }
   ],
   "source": [
    "ax = distdata.hist(bins=20)\n",
    "ax.set_xlabel('POI-Pair Distance (km)')\n",
    "ax.set_ylabel('#POI-Pair')"
   ]
  },
  {
   "cell_type": "markdown",
   "metadata": {},
   "source": [
    "### Quantile based bins (equal frequency)"
   ]
  },
  {
   "cell_type": "code",
   "execution_count": 1527,
   "metadata": {
    "collapsed": false
   },
   "outputs": [
    {
     "data": {
      "text/plain": [
       "[0, 0.97499999999999998, 1.7110000000000001, 2.6560000000000001, 100.0]"
      ]
     },
     "execution_count": 1527,
     "metadata": {},
     "output_type": "execute_result"
    }
   ],
   "source": [
    "#bins = [0, 0.976, 1.711, 2.656, 10]\n",
    "bins_qt = [0]\n",
    "bins_qt.extend(np.round(distdata.quantile([.25, .5, .75]).get_values(), 3))\n",
    "bins_qt.append(10*round(distdata.max()))\n",
    "bins_qt"
   ]
  },
  {
   "cell_type": "markdown",
   "metadata": {},
   "source": [
    "The mean and standard deviation of actSeqRank(Top%) with respect to the above bins are `(mean: 16.4152260994, std: 17.410357672), numRankTop5 = 114`"
   ]
  },
  {
   "cell_type": "markdown",
   "metadata": {},
   "source": [
    "### Equal width bins"
   ]
  },
  {
   "cell_type": "code",
   "execution_count": 1528,
   "metadata": {
    "collapsed": false
   },
   "outputs": [
    {
     "data": {
      "text/plain": [
       "[0.0, 3.0, 6.0, 9.0, 100.0]"
      ]
     },
     "execution_count": 1528,
     "metadata": {},
     "output_type": "execute_result"
    }
   ],
   "source": [
    "nbins = 4 # 2 results the last bin be empty\n",
    "inter = round((round(distdata.max()) + 1) / nbins)\n",
    "bins_ew = [x*inter for x in range(nbins)]\n",
    "bins_ew.append(10*round(distdata.max()))\n",
    "bins_ew"
   ]
  },
  {
   "cell_type": "markdown",
   "metadata": {},
   "source": [
    "`nbins=2` results the last bin be empty  \n",
    "`nbins=3` results the last bin be empty  \n",
    "`nbins=4` results the last two bins be empty  "
   ]
  },
  {
   "cell_type": "markdown",
   "metadata": {},
   "source": [
    "### Another Equal frequency bins"
   ]
  },
  {
   "cell_type": "code",
   "execution_count": 1529,
   "metadata": {
    "collapsed": true
   },
   "outputs": [],
   "source": [
    "bins_ef = [0, 1.15, 2.25, 100]"
   ]
  },
  {
   "cell_type": "markdown",
   "metadata": {},
   "source": [
    "The mean and standard deviation of `actSeqRank(Top%)` with respect to the above bins are `(mean: 16.4152260994, std: 17.410357672), numRankTop5 = 114`"
   ]
  },
  {
   "cell_type": "markdown",
   "metadata": {},
   "source": [
    "It seems that the type of POI-pair distance discretization has little effect on the results, let's use Quantile based bins."
   ]
  },
  {
   "cell_type": "code",
   "execution_count": 1530,
   "metadata": {
    "collapsed": true
   },
   "outputs": [],
   "source": [
    "#bins = np.linspace(0, 10, 7)\n",
    "#bins = np.logspace(0, 2, 4)\n",
    "#bins = [0, 1, 2, 3, 10]\n",
    "#bins = [0, 2, 5, 100] # walk, ride, drive"
   ]
  },
  {
   "cell_type": "code",
   "execution_count": 1531,
   "metadata": {
    "collapsed": true
   },
   "outputs": [],
   "source": [
    "bins_dist = bins_qt\n",
    "#bins_dist = bins_ew\n",
    "#bins_dist = bins_ef"
   ]
  },
  {
   "cell_type": "code",
   "execution_count": 1532,
   "metadata": {
    "collapsed": false
   },
   "outputs": [
    {
     "data": {
      "image/png": "[encoded data removed]",
      "text/plain": [
       "<matplotlib.figure.Figure at 0x7ff972134588>"
      ]
     },
     "metadata": {},
     "output_type": "display_data"
    }
   ],
   "source": [
    "ax = distdata.ix[np.nonzero(distdata)].hist(bins=bins_dist)\n",
    "ax.set_xlabel('POI-Pair Distance (km)')\n",
    "ax.set_ylabel('#POI-Pair')\n",
    "ax.set_xscale('log')"
   ]
  },
  {
   "cell_type": "code",
   "execution_count": 1533,
   "metadata": {
    "collapsed": true
   },
   "outputs": [],
   "source": [
    "poi_distclass_mat = pd.DataFrame(data=np.full((poi_all.shape[0], poi_all.shape[0]), np.nan, dtype=np.float), \\\n",
    "                                 index=poi_all.index, columns=poi_all.index)"
   ]
  },
  {
   "cell_type": "code",
   "execution_count": 1534,
   "metadata": {
    "collapsed": true
   },
   "outputs": [],
   "source": [
    "for i in range(poi_all.index.shape[0]):\n",
    "    poi1 = poi_all.index[i]\n",
    "    for j in range(i+1, poi_all.index.shape[0]):\n",
    "        poi2 = poi_all.index[j]\n",
    "        if np.isnan(poi_distmat.loc[poi1, poi2]): continue\n",
    "        dc = np.digitize([poi_distmat.loc[poi1, poi2]], bins_dist)[0]\n",
    "        poi_distclass_mat.loc[poi1, poi2] = dc\n",
    "        poi_distclass_mat.loc[poi2, poi1] = dc"
   ]
  },
  {
   "cell_type": "code",
   "execution_count": 1535,
   "metadata": {
    "collapsed": false
   },
   "outputs": [],
   "source": [
    "#poi_distclass_mat"
   ]
  },
  {
   "cell_type": "markdown",
   "metadata": {},
   "source": [
    "### 3.5.3 Compute Transition Probabilities"
   ]
  },
  {
   "cell_type": "code",
   "execution_count": 1536,
   "metadata": {
    "collapsed": false
   },
   "outputs": [],
   "source": [
    "def calc_poipair_dist_transmat(seqid_set, poi_all, seq_all, poi_distclass_mat):\n",
    "    dist_class = [int(poi_distclass_mat.iloc[x, y]) \\\n",
    "                  for x in range(poi_distclass_mat.index.shape[0]) \\\n",
    "                  for y in range(x+1, poi_distclass_mat.index.shape[0]) \\\n",
    "                  if not np.isnan(poi_distclass_mat.iloc[x, y])]\n",
    "    dist_class = np.unique(np.array(dist_class))\n",
    "    poipair_dist_transmat = pd.DataFrame(data=np.zeros((len(dist_class), len(dist_class)), dtype=np.float), \\\n",
    "                                         index=dist_class, columns=dist_class)\n",
    "    for seqid in seqid_set:\n",
    "        seq = extract_seq(seqid, seq_all)\n",
    "        if len(seq) < 3: continue\n",
    "        for j in range(1, len(seq)-1):\n",
    "            poi1 = seq[j-1]\n",
    "            poi2 = seq[j]\n",
    "            poi3 = seq[j+1]\n",
    "            dc1 = int(poi_distclass_mat.loc[poi1, poi2])\n",
    "            dc2 = int(poi_distclass_mat.loc[poi2, poi3])\n",
    "            assert(not np.isnan(dc1))\n",
    "            assert(not np.isnan(dc2))\n",
    "            poipair_dist_transmat.loc[dc1, dc2] += 1\n",
    "    return poipair_dist_transmat"
   ]
  },
  {
   "cell_type": "code",
   "execution_count": 1537,
   "metadata": {
    "collapsed": false
   },
   "outputs": [
    {
     "data": {
      "text/html": [
       "<div>\n",
       "<table border=\"1\" class=\"dataframe\">\n",
       "  <thead>\n",
       "    <tr style=\"text-align: right;\">\n",
       "      <th></th>\n",
       "      <th>1</th>\n",
       "      <th>2</th>\n",
       "      <th>3</th>\n",
       "      <th>4</th>\n",
       "    </tr>\n",
       "  </thead>\n",
       "  <tbody>\n",
       "    <tr>\n",
       "      <th>1</th>\n",
       "      <td>317</td>\n",
       "      <td>74</td>\n",
       "      <td>23</td>\n",
       "      <td>7</td>\n",
       "    </tr>\n",
       "    <tr>\n",
       "      <th>2</th>\n",
       "      <td>59</td>\n",
       "      <td>16</td>\n",
       "      <td>10</td>\n",
       "      <td>6</td>\n",
       "    </tr>\n",
       "    <tr>\n",
       "      <th>3</th>\n",
       "      <td>19</td>\n",
       "      <td>7</td>\n",
       "      <td>5</td>\n",
       "      <td>4</td>\n",
       "    </tr>\n",
       "    <tr>\n",
       "      <th>4</th>\n",
       "      <td>12</td>\n",
       "      <td>3</td>\n",
       "      <td>3</td>\n",
       "      <td>8</td>\n",
       "    </tr>\n",
       "  </tbody>\n",
       "</table>\n",
       "</div>"
      ],
      "text/plain": [
       "     1   2   3  4\n",
       "1  317  74  23  7\n",
       "2   59  16  10  6\n",
       "3   19   7   5  4\n",
       "4   12   3   3  8"
      ]
     },
     "execution_count": 1537,
     "metadata": {},
     "output_type": "execute_result"
    }
   ],
   "source": [
    "poipair_dist_transmat = calc_poipair_dist_transmat(seq_all['seqID'].unique(), poi_all, seq_all, poi_distclass_mat)\n",
    "poipair_dist_transmat"
   ]
  },
  {
   "cell_type": "code",
   "execution_count": 1538,
   "metadata": {
    "collapsed": false
   },
   "outputs": [
    {
     "data": {
      "text/html": [
       "<div>\n",
       "<table border=\"1\" class=\"dataframe\">\n",
       "  <thead>\n",
       "    <tr style=\"text-align: right;\">\n",
       "      <th></th>\n",
       "      <th>1</th>\n",
       "      <th>2</th>\n",
       "      <th>3</th>\n",
       "      <th>4</th>\n",
       "    </tr>\n",
       "  </thead>\n",
       "  <tbody>\n",
       "    <tr>\n",
       "      <th>1</th>\n",
       "      <td>0.752969</td>\n",
       "      <td>0.175772</td>\n",
       "      <td>0.054632</td>\n",
       "      <td>0.016627</td>\n",
       "    </tr>\n",
       "    <tr>\n",
       "      <th>2</th>\n",
       "      <td>0.648352</td>\n",
       "      <td>0.175824</td>\n",
       "      <td>0.109890</td>\n",
       "      <td>0.065934</td>\n",
       "    </tr>\n",
       "    <tr>\n",
       "      <th>3</th>\n",
       "      <td>0.542857</td>\n",
       "      <td>0.200000</td>\n",
       "      <td>0.142857</td>\n",
       "      <td>0.114286</td>\n",
       "    </tr>\n",
       "    <tr>\n",
       "      <th>4</th>\n",
       "      <td>0.461538</td>\n",
       "      <td>0.115385</td>\n",
       "      <td>0.115385</td>\n",
       "      <td>0.307692</td>\n",
       "    </tr>\n",
       "  </tbody>\n",
       "</table>\n",
       "</div>"
      ],
      "text/plain": [
       "          1         2         3         4\n",
       "1  0.752969  0.175772  0.054632  0.016627\n",
       "2  0.648352  0.175824  0.109890  0.065934\n",
       "3  0.542857  0.200000  0.142857  0.114286\n",
       "4  0.461538  0.115385  0.115385  0.307692"
      ]
     },
     "execution_count": 1538,
     "metadata": {},
     "output_type": "execute_result"
    }
   ],
   "source": [
    "poipair_dist_transmat = normalise_transmat(poipair_dist_transmat)\n",
    "poipair_dist_transmat"
   ]
  },
  {
   "cell_type": "markdown",
   "metadata": {},
   "source": [
    "<a id='sec4'></a>"
   ]
  },
  {
   "cell_type": "markdown",
   "metadata": {},
   "source": [
    "# 4. Compute Trajectory Likelihood (For tuning the discretization strategy)"
   ]
  },
  {
   "cell_type": "markdown",
   "metadata": {},
   "source": [
    "Log likelihood of trajectory $[\\text{POI}_1, \\text{POI}_2, \\dots, \\text{POI}_i, ..., \\text{POI}_N]$ is defined as\n",
    "\\begin{align}\n",
    "\\text{logl} =& \n",
    "\\sum_{i=1}^{N-1} \\log(\\text{Pr}(\\text{Cat}_{\\text{POI}_i} \\to \\text{Cat}_{\\text{POI}_{i+1}})) + \n",
    "\\sum_{i=1}^{N-1} \\log(\\text{Pr}(\\text{Pop}_{\\text{POI}_i} \\to \\text{Pop}_{\\text{POI}_{i+1}})) + \n",
    "\\sum_{i=2}^{N-1} \\log(\\text{Pr}(\\text{Dist}_{\\text{POI}_{i-1} \\to \\text{POI}_i} \\to \n",
    "\\text{Dist}_{\\text{POI}_{i} \\to \\text{POI}_{i+1}})) \\\\\n",
    "& + \\log(\\text{Pr}(\\text{POI}_1)) \n",
    "\\end{align}"
   ]
  },
  {
   "cell_type": "markdown",
   "metadata": {},
   "source": [
    "where $\\text{Pr}(\\text{POI}_1)$ is the prior of $\\text{POI}_1$ and we assume $\\text{Pr}(\\text{POI}_1)=1.0$, 10-based logarithm is used here."
   ]
  },
  {
   "cell_type": "code",
   "execution_count": 1539,
   "metadata": {
    "collapsed": true
   },
   "outputs": [],
   "source": [
    "def calc_seq_loglikelihood(seq, poi_all, poi_cat_transmat, poi_pop_transmat, \\\n",
    "                           poi_distclass_mat, poipair_dist_transmat, bins_dist):\n",
    "    assert(len(seq) > 1)\n",
    "    cat1 = poi_all.loc[seq[0], 'poiTheme']\n",
    "    cat2 = poi_all.loc[seq[1], 'poiTheme']\n",
    "    pc1  = poi_all.loc[seq[0], 'popClass']\n",
    "    pc2  = poi_all.loc[seq[1], 'popClass']\n",
    "    logL = math.log10(poi_cat_transmat.loc[cat1, cat2]) + math.log10(poi_pop_transmat.loc[pc1, pc2])\n",
    "    for j in range(1, len(seq)-1):\n",
    "        poi1 = seq[j-1]\n",
    "        poi2 = seq[j]\n",
    "        poi3 = seq[j+1]\n",
    "        cat2 = poi_all.loc[poi2, 'poiTheme']\n",
    "        cat3 = poi_all.loc[poi3, 'poiTheme']\n",
    "        pc2  = poi_all.loc[poi2, 'popClass']\n",
    "        pc3  = poi_all.loc[poi3, 'popClass']\n",
    "        dc12 = poi_distclass_mat.loc[poi1, poi2]\n",
    "        dc23 = poi_distclass_mat.loc[poi2, poi3]\n",
    "        if np.isnan(dc12):\n",
    "            dist12 = calc_dist(poi_all.loc[poi1, 'poiLon'], poi_all.loc[poi1, 'poiLat'], \\\n",
    "                               poi_all.loc[poi2, 'poiLon'], poi_all.loc[poi2, 'poiLat'])\n",
    "            #print(dist12)\n",
    "            dc12 = np.digitize([dist12], bins_dist)[0]\n",
    "        if np.isnan(dc23):\n",
    "            dist23 = calc_dist(poi_all.loc[poi2, 'poiLon'], poi_all.loc[poi2, 'poiLat'], \\\n",
    "                               poi_all.loc[poi3, 'poiLon'], poi_all.loc[poi3, 'poiLat'])\n",
    "            #print(dist23)\n",
    "            dc23 = np.digitize([dist23], bins_dist)[0]\n",
    "        logL += math.log10(poi_cat_transmat.loc[cat2, cat3]) + math.log10(poi_pop_transmat.loc[pc2, pc3])\n",
    "        #print(seq, dc12, dc23)\n",
    "        logL += math.log10(poipair_dist_transmat.loc[int(dc12), int(dc23)])\n",
    "    return logL"
   ]
  },
  {
   "cell_type": "markdown",
   "metadata": {},
   "source": [
    "Simple check."
   ]
  },
  {
   "cell_type": "code",
   "execution_count": 1540,
   "metadata": {
    "collapsed": true
   },
   "outputs": [],
   "source": [
    "#seq1 = [10, 21, 28, 22]\n",
    "#d12 = calc_dist(poi_all.loc[10,'poiLon'], poi_all.loc[10,'poiLat'], poi_all.loc[21,'poiLon'], poi_all.loc[21, 'poiLat'])\n",
    "#d23 = calc_dist(poi_all.loc[21,'poiLon'], poi_all.loc[21,'poiLat'], poi_all.loc[28,'poiLon'], poi_all.loc[28, 'poiLat'])\n",
    "#d34 = calc_dist(poi_all.loc[28,'poiLon'], poi_all.loc[28,'poiLat'], poi_all.loc[22,'poiLon'], poi_all.loc[22, 'poiLat'])"
   ]
  },
  {
   "cell_type": "code",
   "execution_count": 1541,
   "metadata": {
    "collapsed": false
   },
   "outputs": [],
   "source": [
    "#print(d12, d23, d34, bins_dist)"
   ]
  },
  {
   "cell_type": "code",
   "execution_count": 1542,
   "metadata": {
    "collapsed": false
   },
   "outputs": [],
   "source": [
    "#s1 = math.log10(poi_cat_transmat.loc[poi_all.loc[10, 'poiTheme'], poi_all.loc[21, 'poiTheme']]) + \\\n",
    "#     math.log10(poi_cat_transmat.loc[poi_all.loc[21, 'poiTheme'], poi_all.loc[28, 'poiTheme']]) + \\\n",
    "#     math.log10(poi_cat_transmat.loc[poi_all.loc[28, 'poiTheme'], poi_all.loc[22, 'poiTheme']]) + \\\n",
    "#     math.log10(poi_pop_transmat.loc[poi_all.loc[10, 'popClass'], poi_all.loc[21, 'popClass']]) + \\\n",
    "#     math.log10(poi_pop_transmat.loc[poi_all.loc[21, 'popClass'], poi_all.loc[28, 'popClass']]) + \\\n",
    "#     math.log10(poi_pop_transmat.loc[poi_all.loc[28, 'popClass'], poi_all.loc[22, 'popClass']])\n",
    "#s2 = math.log10(poipair_dist_transmat.loc[3, 1]) + math.log10(poipair_dist_transmat.loc[1, 1])\n",
    "#print(s1+s2)"
   ]
  },
  {
   "cell_type": "code",
   "execution_count": 1543,
   "metadata": {
    "collapsed": false
   },
   "outputs": [],
   "source": [
    "#calc_seq_loglikelihood([10, 21, 28, 22], poi_all, poi_cat_transmat, poi_pop_transmat, \\\n",
    "#                       poi_distclass_mat, poipair_dist_transmat, bins_dist)"
   ]
  },
  {
   "cell_type": "code",
   "execution_count": 1544,
   "metadata": {
    "collapsed": true
   },
   "outputs": [],
   "source": [
    "def parse_seqstr(seqstr):\n",
    "    term = re.sub('[ \\[\\]]', '', seqstr).split(',')\n",
    "    return [int(x) for x in term]"
   ]
  },
  {
   "cell_type": "markdown",
   "metadata": {},
   "source": [
    "<a id='sec4.1'></a>"
   ]
  },
  {
   "cell_type": "markdown",
   "metadata": {},
   "source": [
    "## 4.1 Log Likelihood of Actual Trajectories"
   ]
  },
  {
   "cell_type": "markdown",
   "metadata": {},
   "source": [
    "To save computation power, we consider unique travelling sequences only (i.e. treat sequences with the same list of POI and visiting order of different users as one sequence) as no user-specific features are used here."
   ]
  },
  {
   "cell_type": "code",
   "execution_count": 1545,
   "metadata": {
    "collapsed": true
   },
   "outputs": [],
   "source": [
    "unique_seq = dict() # seq -> [(seqid, userid)]"
   ]
  },
  {
   "cell_type": "code",
   "execution_count": 1546,
   "metadata": {
    "collapsed": true
   },
   "outputs": [],
   "source": [
    "for seqid in sorted(seq_all['seqID'].unique().tolist()):\n",
    "    seq = extract_seq(seqid, seq_all)\n",
    "    if str(seq) not in unique_seq:\n",
    "        unique_seq[str(seq)] = [(seqid, seq_user.loc[seqid])]\n",
    "    else:\n",
    "        unique_seq[str(seq)].append((seqid, seq_user.loc[seqid]))"
   ]
  },
  {
   "cell_type": "code",
   "execution_count": 1547,
   "metadata": {
    "collapsed": true
   },
   "outputs": [],
   "source": [
    "unique_seq345 = [parse_seqstr(x) for x in sorted(unique_seq.keys()) if len(x.split(',')) in {3,4,5}]"
   ]
  },
  {
   "cell_type": "code",
   "execution_count": 1548,
   "metadata": {
    "collapsed": true
   },
   "outputs": [],
   "source": [
    "unique_seq345_logL = pd.DataFrame(data=np.zeros((len(unique_seq345), 2), dtype=np.float), \\\n",
    "                               index=[str(x) for x in unique_seq345], columns=['logLikelihood', 'seqLen'])\n",
    "unique_seq345_logL.index.name = 'actSeq'"
   ]
  },
  {
   "cell_type": "code",
   "execution_count": 1549,
   "metadata": {
    "collapsed": false
   },
   "outputs": [],
   "source": [
    "for seq in unique_seq345:\n",
    "    assert(len(seq) in {3,4,5})\n",
    "    logL = calc_seq_loglikelihood(seq, poi_all, poi_cat_transmat, poi_pop_transmat, \\\n",
    "                                  poi_distclass_mat, poipair_dist_transmat, bins_dist)\n",
    "    unique_seq345_logL.loc[str(seq), 'logLikelihood'] = logL\n",
    "    unique_seq345_logL.loc[str(seq), 'seqLen'] = len(seq)\n",
    "    #print('Sequence %-20s Log likelihood: %.3f' % (str(seq), logL))"
   ]
  },
  {
   "cell_type": "code",
   "execution_count": 1550,
   "metadata": {
    "collapsed": false
   },
   "outputs": [
    {
     "name": "stdout",
     "output_type": "stream",
     "text": [
      "266\n"
     ]
    },
    {
     "data": {
      "text/html": [
       "<div>\n",
       "<table border=\"1\" class=\"dataframe\">\n",
       "  <thead>\n",
       "    <tr style=\"text-align: right;\">\n",
       "      <th></th>\n",
       "      <th>logLikelihood</th>\n",
       "      <th>seqLen</th>\n",
       "    </tr>\n",
       "    <tr>\n",
       "      <th>actSeq</th>\n",
       "      <th></th>\n",
       "      <th></th>\n",
       "    </tr>\n",
       "  </thead>\n",
       "  <tbody>\n",
       "    <tr>\n",
       "      <th>[1, 30, 4]</th>\n",
       "      <td>-4.552273</td>\n",
       "      <td>3</td>\n",
       "    </tr>\n",
       "    <tr>\n",
       "      <th>[1, 30, 7]</th>\n",
       "      <td>-2.901519</td>\n",
       "      <td>3</td>\n",
       "    </tr>\n",
       "    <tr>\n",
       "      <th>[1, 7, 28]</th>\n",
       "      <td>-3.303077</td>\n",
       "      <td>3</td>\n",
       "    </tr>\n",
       "    <tr>\n",
       "      <th>[1, 8, 24]</th>\n",
       "      <td>-2.840066</td>\n",
       "      <td>3</td>\n",
       "    </tr>\n",
       "    <tr>\n",
       "      <th>[10, 21, 28, 22]</th>\n",
       "      <td>-3.391517</td>\n",
       "      <td>4</td>\n",
       "    </tr>\n",
       "  </tbody>\n",
       "</table>\n",
       "</div>"
      ],
      "text/plain": [
       "                  logLikelihood  seqLen\n",
       "actSeq                                 \n",
       "[1, 30, 4]            -4.552273       3\n",
       "[1, 30, 7]            -2.901519       3\n",
       "[1, 7, 28]            -3.303077       3\n",
       "[1, 8, 24]            -2.840066       3\n",
       "[10, 21, 28, 22]      -3.391517       4"
      ]
     },
     "execution_count": 1550,
     "metadata": {},
     "output_type": "execute_result"
    }
   ],
   "source": [
    "print(unique_seq345_logL.index.shape[0])\n",
    "unique_seq345_logL.head()"
   ]
  },
  {
   "cell_type": "code",
   "execution_count": 1551,
   "metadata": {
    "collapsed": false
   },
   "outputs": [],
   "source": [
    "#unique_seq345_logL['seqLen'].hist(bins=10)"
   ]
  },
  {
   "cell_type": "markdown",
   "metadata": {},
   "source": [
    "<a id='sec4.2'></a>"
   ]
  },
  {
   "cell_type": "markdown",
   "metadata": {},
   "source": [
    "## 4.2 Log Likelihood of Enumerated Trajectories"
   ]
  },
  {
   "cell_type": "markdown",
   "metadata": {},
   "source": [
    "Compute [log likelihood](#sec4) of enumerated trajectories for all unique actual sequences of length {3, 4, 5}."
   ]
  },
  {
   "cell_type": "code",
   "execution_count": 1552,
   "metadata": {
    "collapsed": false
   },
   "outputs": [],
   "source": [
    "poi_list = poi_all.index.tolist()\n",
    "#poi_list"
   ]
  },
  {
   "cell_type": "markdown",
   "metadata": {},
   "source": [
    "Enumerate trajectories of the same (start, end) and length (3, 4 or 5) with respect to an actual sequence."
   ]
  },
  {
   "cell_type": "code",
   "execution_count": 1553,
   "metadata": {
    "collapsed": true
   },
   "outputs": [],
   "source": [
    "def enum_seq345(seq, poi_list): \n",
    "    assert(len(seq) in {3, 4, 5})\n",
    "    p0 = seq[0]\n",
    "    pN = seq[-1]\n",
    "    \n",
    "    # enumerate sequences with length 3\n",
    "    if len(seq) == 3:\n",
    "        return [[p0, p, pN] \\\n",
    "                for p in poi_list if p not in {p0, pN}]\n",
    "    \n",
    "    # enumerate sequences with length 4\n",
    "    if len(seq) == 4:\n",
    "        return [[p0, p1, p2, pN] \\\n",
    "                for p1 in poi_list if p1 not in {p0, pN} \\\n",
    "                for p2 in poi_list if p2 not in {p0, p1, pN}]\n",
    "    \n",
    "    # enumerate sequences with length 5\n",
    "    if len(seq) == 5:\n",
    "        return [[p0, p1, p2, p3, pN] \\\n",
    "                for p1 in poi_list if p1 not in {p0, pN} \\\n",
    "                for p2 in poi_list if p2 not in {p0, p1, pN} \\\n",
    "                for p3 in poi_list if p3 not in {p0, p1, p2, pN}]"
   ]
  },
  {
   "cell_type": "markdown",
   "metadata": {},
   "source": [
    "Compute the [log likelihood](#sec4) of enumerated trajectories."
   ]
  },
  {
   "cell_type": "code",
   "execution_count": 1554,
   "metadata": {
    "collapsed": true
   },
   "outputs": [],
   "source": [
    "enum_logL_df = pd.DataFrame()"
   ]
  },
  {
   "cell_type": "code",
   "execution_count": 1555,
   "metadata": {
    "collapsed": false
   },
   "outputs": [],
   "source": [
    "for seq in unique_seq345:\n",
    "    enum_seqs = enum_seq345(seq, poi_list)\n",
    "    df = pd.DataFrame(data=sorted([str(x) for x in enum_seqs]), columns=['enumSeq'])\n",
    "    df.set_index('enumSeq', inplace=True)\n",
    "    df['actSeq'] = str(seq)\n",
    "    enum_logL_df = enum_logL_df.append(df)"
   ]
  },
  {
   "cell_type": "code",
   "execution_count": 1556,
   "metadata": {
    "collapsed": false
   },
   "outputs": [
    {
     "name": "stdout",
     "output_type": "stream",
     "text": [
      "(622566, 1)\n"
     ]
    },
    {
     "data": {
      "text/html": [
       "<div>\n",
       "<table border=\"1\" class=\"dataframe\">\n",
       "  <thead>\n",
       "    <tr style=\"text-align: right;\">\n",
       "      <th></th>\n",
       "      <th>actSeq</th>\n",
       "    </tr>\n",
       "    <tr>\n",
       "      <th>enumSeq</th>\n",
       "      <th></th>\n",
       "    </tr>\n",
       "  </thead>\n",
       "  <tbody>\n",
       "    <tr>\n",
       "      <th>[1, 10, 4]</th>\n",
       "      <td>[1, 30, 4]</td>\n",
       "    </tr>\n",
       "    <tr>\n",
       "      <th>[1, 11, 4]</th>\n",
       "      <td>[1, 30, 4]</td>\n",
       "    </tr>\n",
       "    <tr>\n",
       "      <th>[1, 12, 4]</th>\n",
       "      <td>[1, 30, 4]</td>\n",
       "    </tr>\n",
       "    <tr>\n",
       "      <th>[1, 13, 4]</th>\n",
       "      <td>[1, 30, 4]</td>\n",
       "    </tr>\n",
       "    <tr>\n",
       "      <th>[1, 14, 4]</th>\n",
       "      <td>[1, 30, 4]</td>\n",
       "    </tr>\n",
       "  </tbody>\n",
       "</table>\n",
       "</div>"
      ],
      "text/plain": [
       "                actSeq\n",
       "enumSeq               \n",
       "[1, 10, 4]  [1, 30, 4]\n",
       "[1, 11, 4]  [1, 30, 4]\n",
       "[1, 12, 4]  [1, 30, 4]\n",
       "[1, 13, 4]  [1, 30, 4]\n",
       "[1, 14, 4]  [1, 30, 4]"
      ]
     },
     "execution_count": 1556,
     "metadata": {},
     "output_type": "execute_result"
    }
   ],
   "source": [
    "print(enum_logL_df.shape)\n",
    "enum_logL_df.head()"
   ]
  },
  {
   "cell_type": "code",
   "execution_count": 1557,
   "metadata": {
    "collapsed": false
   },
   "outputs": [
    {
     "name": "stdout",
     "output_type": "stream",
     "text": [
      "1160 seconds used\n"
     ]
    }
   ],
   "source": [
    "t1 = datetime.now()\n",
    "logL = Parallel(n_jobs=-2)(delayed(calc_seq_loglikelihood)\\\n",
    "       (seq, poi_all, poi_cat_transmat, poi_pop_transmat, poi_distclass_mat, poipair_dist_transmat, bins_dist)\\\n",
    "       for seq in [parse_seqstr(x) for x in enum_logL_df.index])\n",
    "print('%d seconds used' % (datetime.now()-t1).total_seconds()) # 1156 seconds"
   ]
  },
  {
   "cell_type": "code",
   "execution_count": 1558,
   "metadata": {
    "collapsed": true
   },
   "outputs": [],
   "source": [
    "enum_logL_df['enumSeqLogLikelihood'] = logL"
   ]
  },
  {
   "cell_type": "code",
   "execution_count": 1559,
   "metadata": {
    "collapsed": false
   },
   "outputs": [],
   "source": [
    "#enum_logL_df.head(23)"
   ]
  },
  {
   "cell_type": "markdown",
   "metadata": {},
   "source": [
    "<a id='sec4.3'></a>"
   ]
  },
  {
   "cell_type": "markdown",
   "metadata": {},
   "source": [
    "## 4.3 Compare the Log Likelihood of Actual and Enumerated Trajectories"
   ]
  },
  {
   "cell_type": "markdown",
   "metadata": {},
   "source": [
    "Compare the log likelihood between actual sequences $S_a$ and the one of highest log likelihood among enumerated sequences with respect to $S_a$ as well as the log likelihood rank of $S_a$."
   ]
  },
  {
   "cell_type": "code",
   "execution_count": 1560,
   "metadata": {
    "collapsed": false
   },
   "outputs": [],
   "source": [
    "df = pd.DataFrame(data=sorted([str(x) for x in unique_seq345]), columns=['actSeq'])\n",
    "df.set_index('actSeq', inplace=True)\n",
    "df['actSeqLogLikelihood'] = unique_seq345_logL.loc[df.index, 'logLikelihood']\n",
    "df['enumSeq'] = ''\n",
    "df['enumSeqLogLikelihood'] = 0\n",
    "df['actSeqRank'] = 0\n",
    "df['#enumSeq'] = 0\n",
    "for seqstr in df.index:\n",
    "    sub_df = enum_logL_df[enum_logL_df['actSeq'] == seqstr].copy()\n",
    "    sub_df.reset_index(inplace=True)\n",
    "    sub_df.sort(columns=['enumSeqLogLikelihood'], ascending=False, inplace=True)\n",
    "    df.loc[seqstr, 'enumSeq'] = sub_df.iloc[0]['enumSeq']\n",
    "    df.loc[seqstr, 'enumSeqLogLikelihood'] = sub_df.iloc[0]['enumSeqLogLikelihood']\n",
    "    df.loc[seqstr, 'actSeqRank'] = 1 + np.nonzero(sub_df['enumSeq'] == seqstr)[0][0] # rank of actual sequence\n",
    "    df.loc[seqstr, '#enumSeq'] = sub_df.index.shape[0]\n",
    "df['actSeqRank(Top%)'] = 100*df['actSeqRank']/df['#enumSeq']"
   ]
  },
  {
   "cell_type": "code",
   "execution_count": 1561,
   "metadata": {
    "collapsed": false
   },
   "outputs": [],
   "source": [
    "#df"
   ]
  },
  {
   "cell_type": "code",
   "execution_count": 1562,
   "metadata": {
    "collapsed": false
   },
   "outputs": [
    {
     "name": "stdout",
     "output_type": "stream",
     "text": [
      "mean: 15.712, std: 19.794\n"
     ]
    },
    {
     "data": {
      "text/plain": [
       "count    266.000000\n",
       "mean      15.711501\n",
       "std       19.794118\n",
       "min        0.017094\n",
       "25%        3.703704\n",
       "50%        7.407407\n",
       "75%       22.222222\n",
       "max       88.888889\n",
       "Name: actSeqRank(Top%), dtype: float64"
      ]
     },
     "execution_count": 1562,
     "metadata": {},
     "output_type": "execute_result"
    }
   ],
   "source": [
    "print('mean: %.3f, std: %.3f' % (round(df['actSeqRank(Top%)'].mean(),3), round(df['actSeqRank(Top%)'].std(),3)))\n",
    "df['actSeqRank(Top%)'].describe()"
   ]
  },
  {
   "cell_type": "code",
   "execution_count": 1563,
   "metadata": {
    "collapsed": false
   },
   "outputs": [
    {
     "name": "stdout",
     "output_type": "stream",
     "text": [
      "136/266 = 51.13%\n"
     ]
    }
   ],
   "source": [
    "ntop = np.nonzero(df['actSeqRank'] <= 5)[0].shape[0]\n",
    "print('%d/%d = %.2f%%' % (ntop, df.index.shape[0], 100*ntop/df.index.shape[0]))"
   ]
  },
  {
   "cell_type": "markdown",
   "metadata": {},
   "source": [
    "[Pop section](#sec3.3)  \n",
    "[Dist section](#sec3.5)"
   ]
  }
 ],
 "metadata": {
  "kernelspec": {
   "display_name": "Python 3",
   "language": "python",
   "name": "python3"
  },
  "language_info": {
   "codemirror_mode": {
    "name": "ipython",
    "version": 3
   },
   "file_extension": ".py",
   "mimetype": "text/x-python",
   "name": "python",
   "nbconvert_exporter": "python",
   "pygments_lexer": "ipython3",
   "version": "3.4.3"
  }
 },
 "nbformat": 4,
 "nbformat_minor": 0
}
