{
 "cells": [
  {
   "cell_type": "markdown",
   "metadata": {
    "collapsed": true
   },
   "source": [
    "# POI Transition Matrix"
   ]
  },
  {
   "cell_type": "markdown",
   "metadata": {},
   "source": [
    "<a id='toc'></a>"
   ]
  },
  {
   "cell_type": "markdown",
   "metadata": {},
   "source": [
    "[Table of Contents](#toc)\n",
    "1. [Preprocess](#sec1)\n",
    "  1. [Load Data](#sec1.1)\n",
    "  1. [Utility function](#sec1.2)\n",
    "1. [Factorise Transition Probabilities in POI Feature Space](#sec2)\n",
    "  1. [POI Features for Factorisation](#sec2.1)\n",
    "  1. [Transition Matrix between POI Cateogries](#sec2.2)\n",
    "  1. [Transition Matrix between POI Popularity Classes](#sec2.3)\n",
    "  1. [Transition Matrix between the Number of POI Visit Classes](#sec2.4)\n",
    "  1. [Transition Matrix between POI Average Visit Duration Classes](#sec2.5)\n",
    "  1. [Transition Matrix between POI Neighborhood Classes](#sec2.6)\n",
    "  1. [Transition Matrix between POIs](#sec2.7)"
   ]
  },
  {
   "cell_type": "markdown",
   "metadata": {},
   "source": [
    "<a id='sec1'></a>"
   ]
  },
  {
   "cell_type": "markdown",
   "metadata": {},
   "source": [
    "# 1. Preprocess"
   ]
  },
  {
   "cell_type": "code",
   "execution_count": 93,
   "metadata": {
    "collapsed": false
   },
   "outputs": [],
   "source": [
    "% matplotlib inline\n",
    "\n",
    "import os, sys, time\n",
    "import math, itertools, scipy\n",
    "import pandas as pd\n",
    "import numpy as np\n",
    "import matplotlib.pyplot as plt\n",
    "from scipy.linalg import kron\n",
    "from scipy.misc import logsumexp\n",
    "from sklearn.cluster import KMeans\n",
    "import seaborn as sns"
   ]
  },
  {
   "cell_type": "code",
   "execution_count": 94,
   "metadata": {
    "collapsed": true
   },
   "outputs": [],
   "source": [
    "data_dir = 'data/data-recsys16'\n",
    "suffix = ['Osak', 'Glas', 'Edin', 'Toro', 'Melb']"
   ]
  },
  {
   "cell_type": "code",
   "execution_count": 95,
   "metadata": {
    "collapsed": true
   },
   "outputs": [],
   "source": [
    "dat_ix = 4"
   ]
  },
  {
   "cell_type": "code",
   "execution_count": 96,
   "metadata": {
    "collapsed": true
   },
   "outputs": [],
   "source": [
    "datasettypes = ['all', 'noshort', 'perfect']"
   ]
  },
  {
   "cell_type": "code",
   "execution_count": 97,
   "metadata": {
    "collapsed": true
   },
   "outputs": [],
   "source": [
    "dstype = datasettypes[0]"
   ]
  },
  {
   "cell_type": "code",
   "execution_count": 98,
   "metadata": {
    "collapsed": true
   },
   "outputs": [],
   "source": [
    "fpoi = os.path.join(data_dir, 'poi-' + suffix[dat_ix] + '.csv')\n",
    "ftraj = os.path.join(data_dir, 'traj-all-' + suffix[dat_ix] + '.csv')"
   ]
  },
  {
   "cell_type": "markdown",
   "metadata": {},
   "source": [
    "<a id='sec1.1'></a>"
   ]
  },
  {
   "cell_type": "markdown",
   "metadata": {},
   "source": [
    "## 1.1 Load Data"
   ]
  },
  {
   "cell_type": "code",
   "execution_count": 99,
   "metadata": {
    "collapsed": false
   },
   "outputs": [
    {
     "data": {
      "text/html": [
       "<div>\n",
       "<table border=\"1\" class=\"dataframe\">\n",
       "  <thead>\n",
       "    <tr style=\"text-align: right;\">\n",
       "      <th></th>\n",
       "      <th>#photo</th>\n",
       "      <th>endTime</th>\n",
       "      <th>poiID</th>\n",
       "      <th>startTime</th>\n",
       "      <th>trajID</th>\n",
       "      <th>trajLen</th>\n",
       "      <th>userID</th>\n",
       "      <th>poiDuration</th>\n",
       "    </tr>\n",
       "  </thead>\n",
       "  <tbody>\n",
       "    <tr>\n",
       "      <th>0</th>\n",
       "      <td>1</td>\n",
       "      <td>1226726126</td>\n",
       "      <td>25</td>\n",
       "      <td>1226726126</td>\n",
       "      <td>0</td>\n",
       "      <td>1</td>\n",
       "      <td>10058801@N06</td>\n",
       "      <td>0</td>\n",
       "    </tr>\n",
       "    <tr>\n",
       "      <th>1</th>\n",
       "      <td>2</td>\n",
       "      <td>1205332541</td>\n",
       "      <td>58</td>\n",
       "      <td>1205332532</td>\n",
       "      <td>1</td>\n",
       "      <td>2</td>\n",
       "      <td>10087938@N02</td>\n",
       "      <td>9</td>\n",
       "    </tr>\n",
       "    <tr>\n",
       "      <th>2</th>\n",
       "      <td>2</td>\n",
       "      <td>1205342729</td>\n",
       "      <td>66</td>\n",
       "      <td>1205342722</td>\n",
       "      <td>1</td>\n",
       "      <td>2</td>\n",
       "      <td>10087938@N02</td>\n",
       "      <td>7</td>\n",
       "    </tr>\n",
       "    <tr>\n",
       "      <th>3</th>\n",
       "      <td>1</td>\n",
       "      <td>1205374109</td>\n",
       "      <td>59</td>\n",
       "      <td>1205374109</td>\n",
       "      <td>2</td>\n",
       "      <td>1</td>\n",
       "      <td>10087938@N02</td>\n",
       "      <td>0</td>\n",
       "    </tr>\n",
       "    <tr>\n",
       "      <th>4</th>\n",
       "      <td>1</td>\n",
       "      <td>1205417265</td>\n",
       "      <td>58</td>\n",
       "      <td>1205417265</td>\n",
       "      <td>3</td>\n",
       "      <td>1</td>\n",
       "      <td>10087938@N02</td>\n",
       "      <td>0</td>\n",
       "    </tr>\n",
       "  </tbody>\n",
       "</table>\n",
       "</div>"
      ],
      "text/plain": [
       "   #photo     endTime  poiID   startTime  trajID  trajLen        userID  \\\n",
       "0       1  1226726126     25  1226726126       0        1  10058801@N06   \n",
       "1       2  1205332541     58  1205332532       1        2  10087938@N02   \n",
       "2       2  1205342729     66  1205342722       1        2  10087938@N02   \n",
       "3       1  1205374109     59  1205374109       2        1  10087938@N02   \n",
       "4       1  1205417265     58  1205417265       3        1  10087938@N02   \n",
       "\n",
       "   poiDuration  \n",
       "0            0  \n",
       "1            9  \n",
       "2            7  \n",
       "3            0  \n",
       "4            0  "
      ]
     },
     "execution_count": 99,
     "metadata": {},
     "output_type": "execute_result"
    }
   ],
   "source": [
    "traj_all = pd.read_csv(ftraj)\n",
    "traj_all.head()"
   ]
  },
  {
   "cell_type": "code",
   "execution_count": 100,
   "metadata": {
    "collapsed": false
   },
   "outputs": [
    {
     "data": {
      "text/html": [
       "<div>\n",
       "<table border=\"1\" class=\"dataframe\">\n",
       "  <thead>\n",
       "    <tr style=\"text-align: right;\">\n",
       "      <th></th>\n",
       "      <th>poiCat</th>\n",
       "      <th>poiLon</th>\n",
       "      <th>poiLat</th>\n",
       "    </tr>\n",
       "    <tr>\n",
       "      <th>poiID</th>\n",
       "      <th></th>\n",
       "      <th></th>\n",
       "      <th></th>\n",
       "    </tr>\n",
       "  </thead>\n",
       "  <tbody>\n",
       "    <tr>\n",
       "      <th>0</th>\n",
       "      <td>City precincts</td>\n",
       "      <td>144.96778</td>\n",
       "      <td>-37.82167</td>\n",
       "    </tr>\n",
       "    <tr>\n",
       "      <th>1</th>\n",
       "      <td>City precincts</td>\n",
       "      <td>144.94600</td>\n",
       "      <td>-37.81700</td>\n",
       "    </tr>\n",
       "    <tr>\n",
       "      <th>2</th>\n",
       "      <td>City precincts</td>\n",
       "      <td>144.97300</td>\n",
       "      <td>-37.81190</td>\n",
       "    </tr>\n",
       "    <tr>\n",
       "      <th>3</th>\n",
       "      <td>City precincts</td>\n",
       "      <td>144.96694</td>\n",
       "      <td>-37.79972</td>\n",
       "    </tr>\n",
       "    <tr>\n",
       "      <th>4</th>\n",
       "      <td>City precincts</td>\n",
       "      <td>144.96333</td>\n",
       "      <td>-37.80778</td>\n",
       "    </tr>\n",
       "  </tbody>\n",
       "</table>\n",
       "</div>"
      ],
      "text/plain": [
       "               poiCat     poiLon    poiLat\n",
       "poiID                                     \n",
       "0      City precincts  144.96778 -37.82167\n",
       "1      City precincts  144.94600 -37.81700\n",
       "2      City precincts  144.97300 -37.81190\n",
       "3      City precincts  144.96694 -37.79972\n",
       "4      City precincts  144.96333 -37.80778"
      ]
     },
     "execution_count": 100,
     "metadata": {},
     "output_type": "execute_result"
    }
   ],
   "source": [
    "poi_all = pd.read_csv(fpoi)\n",
    "poi_all.set_index('poiID', inplace=True)\n",
    "poi_all.head()"
   ]
  },
  {
   "cell_type": "code",
   "execution_count": 101,
   "metadata": {
    "collapsed": false
   },
   "outputs": [
    {
     "data": {
      "text/html": [
       "<div>\n",
       "<table border=\"1\" class=\"dataframe\">\n",
       "  <thead>\n",
       "    <tr style=\"text-align: right;\">\n",
       "      <th></th>\n",
       "      <th>#poi</th>\n",
       "      <th>#traj</th>\n",
       "      <th>#traj/user</th>\n",
       "      <th>#user</th>\n",
       "    </tr>\n",
       "  </thead>\n",
       "  <tbody>\n",
       "    <tr>\n",
       "      <th>Melb</th>\n",
       "      <td>85</td>\n",
       "      <td>4918</td>\n",
       "      <td>5.911058</td>\n",
       "      <td>832</td>\n",
       "    </tr>\n",
       "  </tbody>\n",
       "</table>\n",
       "</div>"
      ],
      "text/plain": [
       "      #poi  #traj  #traj/user  #user\n",
       "Melb    85   4918    5.911058    832"
      ]
     },
     "execution_count": 101,
     "metadata": {},
     "output_type": "execute_result"
    }
   ],
   "source": [
    "num_user = traj_all['userID'].unique().shape[0]\n",
    "num_poi = traj_all['poiID'].unique().shape[0]\n",
    "num_traj = traj_all['trajID'].unique().shape[0]\n",
    "pd.DataFrame({'#user': num_user, '#poi': num_poi, '#traj': num_traj, '#traj/user': num_traj/num_user}, \\\n",
    "             index=[str(suffix[dat_ix])])"
   ]
  },
  {
   "cell_type": "markdown",
   "metadata": {},
   "source": [
    "Mapping trajectory to user."
   ]
  },
  {
   "cell_type": "code",
   "execution_count": 102,
   "metadata": {
    "collapsed": false
   },
   "outputs": [
    {
     "data": {
      "text/html": [
       "<div>\n",
       "<table border=\"1\" class=\"dataframe\">\n",
       "  <thead>\n",
       "    <tr style=\"text-align: right;\">\n",
       "      <th></th>\n",
       "      <th>userID</th>\n",
       "    </tr>\n",
       "    <tr>\n",
       "      <th>trajID</th>\n",
       "      <th></th>\n",
       "    </tr>\n",
       "  </thead>\n",
       "  <tbody>\n",
       "    <tr>\n",
       "      <th>0</th>\n",
       "      <td>10058801@N06</td>\n",
       "    </tr>\n",
       "    <tr>\n",
       "      <th>1</th>\n",
       "      <td>10087938@N02</td>\n",
       "    </tr>\n",
       "    <tr>\n",
       "      <th>2</th>\n",
       "      <td>10087938@N02</td>\n",
       "    </tr>\n",
       "    <tr>\n",
       "      <th>3</th>\n",
       "      <td>10087938@N02</td>\n",
       "    </tr>\n",
       "    <tr>\n",
       "      <th>4</th>\n",
       "      <td>10087938@N02</td>\n",
       "    </tr>\n",
       "  </tbody>\n",
       "</table>\n",
       "</div>"
      ],
      "text/plain": [
       "              userID\n",
       "trajID              \n",
       "0       10058801@N06\n",
       "1       10087938@N02\n",
       "2       10087938@N02\n",
       "3       10087938@N02\n",
       "4       10087938@N02"
      ]
     },
     "execution_count": 102,
     "metadata": {},
     "output_type": "execute_result"
    }
   ],
   "source": [
    "traj_user = traj_all[['trajID', 'userID']].copy().groupby('trajID').first()\n",
    "traj_user.head()"
   ]
  },
  {
   "cell_type": "markdown",
   "metadata": {},
   "source": [
    "<a id='sec1.2'></a>"
   ]
  },
  {
   "cell_type": "markdown",
   "metadata": {},
   "source": [
    "## 1.2 Utility function"
   ]
  },
  {
   "cell_type": "markdown",
   "metadata": {},
   "source": [
    "Print computing progress."
   ]
  },
  {
   "cell_type": "code",
   "execution_count": 103,
   "metadata": {
    "collapsed": true
   },
   "outputs": [],
   "source": [
    "def print_progress(cnt, total):\n",
    "    \"\"\"Display a progress bar\"\"\"\n",
    "    assert(cnt > 0 and total > 0 and cnt <= total)\n",
    "    length = 80\n",
    "    ratio = cnt / total\n",
    "    n = int(length * ratio)\n",
    "    sys.stdout.write('\\r[%-80s] %d%%' % ('-'*n, int(ratio*100)))\n",
    "    sys.stdout.flush()"
   ]
  },
  {
   "cell_type": "markdown",
   "metadata": {},
   "source": [
    "Extract trajectory, i.e., a list of POIs."
   ]
  },
  {
   "cell_type": "code",
   "execution_count": 104,
   "metadata": {
    "collapsed": true
   },
   "outputs": [],
   "source": [
    "def extract_traj(tid, traj_all):\n",
    "    traj = traj_all[traj_all['trajID'] == tid].copy()\n",
    "    traj.sort_values(by=['startTime'], ascending=True, inplace=True)\n",
    "    return traj['poiID'].tolist()"
   ]
  },
  {
   "cell_type": "markdown",
   "metadata": {},
   "source": [
    "Compute POI properties, e.g., popularity, total number of visit, average visit duration."
   ]
  },
  {
   "cell_type": "code",
   "execution_count": 105,
   "metadata": {
    "collapsed": true
   },
   "outputs": [],
   "source": [
    "def calc_poi_info(trajid_list, traj_all, poi_all):\n",
    "    assert(len(trajid_list) > 0)\n",
    "    # to allow duplicated trajid\n",
    "    poi_info = traj_all[traj_all['trajID'] == trajid_list[0]][['poiID', 'poiDuration']].copy() \n",
    "    for i in range(1, len(trajid_list)):\n",
    "        traj = traj_all[traj_all['trajID'] == trajid_list[i]][['poiID', 'poiDuration']]\n",
    "        poi_info = poi_info.append(traj, ignore_index=True)\n",
    "    \n",
    "    poi_info = poi_info.groupby('poiID').agg([np.mean, np.size])\n",
    "    poi_info.columns = poi_info.columns.droplevel()\n",
    "    poi_info.reset_index(inplace=True)\n",
    "    poi_info.rename(columns={'mean':'avgDuration', 'size':'nVisit'}, inplace=True)\n",
    "    poi_info.set_index('poiID', inplace=True) \n",
    "    poi_info['poiCat'] = poi_all.loc[poi_info.index, 'poiCat']\n",
    "    poi_info['poiLon'] = poi_all.loc[poi_info.index, 'poiLon']\n",
    "    poi_info['poiLat'] = poi_all.loc[poi_info.index, 'poiLat']\n",
    "    \n",
    "    # POI popularity: the number of distinct users that visited the POI\n",
    "    pop_df = traj_all[traj_all['trajID'].isin(trajid_list)][['poiID', 'userID']].copy()\n",
    "    pop_df = pop_df.groupby('poiID').agg(pd.Series.nunique)\n",
    "    pop_df.rename(columns={'userID':'nunique'}, inplace=True)\n",
    "    poi_info['popularity'] = pop_df.loc[poi_info.index, 'nunique']\n",
    "    \n",
    "    return poi_info.copy()"
   ]
  },
  {
   "cell_type": "markdown",
   "metadata": {},
   "source": [
    "Compute distance between two POIs using [Haversine formula](http://en.wikipedia.org/wiki/Great-circle_distance)."
   ]
  },
  {
   "cell_type": "code",
   "execution_count": 106,
   "metadata": {
    "collapsed": true
   },
   "outputs": [],
   "source": [
    "def calc_dist(longitude1, latitude1, longitude2, latitude2):\n",
    "    \"\"\"Calculate the distance (unit: km) between two places on earth\"\"\"\n",
    "    # convert degrees to radians\n",
    "    lon1 = math.radians(longitude1)\n",
    "    lat1 = math.radians(latitude1)\n",
    "    lon2 = math.radians(longitude2)\n",
    "    lat2 = math.radians(latitude2)\n",
    "    radius = 6371.0088 # mean earth radius is 6371.0088km, en.wikipedia.org/wiki/Earth_radius#Mean_radius\n",
    "    # The haversine formula, en.wikipedia.org/wiki/Great-circle_distance\n",
    "    dlon = math.fabs(lon1 - lon2)\n",
    "    dlat = math.fabs(lat1 - lat2)\n",
    "    return 2 * radius * math.asin(math.sqrt(\\\n",
    "               (math.sin(0.5*dlat))**2 + math.cos(lat1) * math.cos(lat2) * (math.sin(0.5*dlon))**2 ))"
   ]
  },
  {
   "cell_type": "code",
   "execution_count": 107,
   "metadata": {
    "collapsed": false
   },
   "outputs": [],
   "source": [
    "trajid_set_all = sorted(traj_all['trajID'].unique().tolist())"
   ]
  },
  {
   "cell_type": "code",
   "execution_count": 108,
   "metadata": {
    "collapsed": false
   },
   "outputs": [
    {
     "name": "stdout",
     "output_type": "stream",
     "text": [
      "#traj in total: 4918\n"
     ]
    }
   ],
   "source": [
    "print('#traj in total:', len(trajid_set_all))"
   ]
  },
  {
   "cell_type": "code",
   "execution_count": 109,
   "metadata": {
    "collapsed": false
   },
   "outputs": [
    {
     "data": {
      "text/html": [
       "<div>\n",
       "<table border=\"1\" class=\"dataframe\">\n",
       "  <thead>\n",
       "    <tr style=\"text-align: right;\">\n",
       "      <th></th>\n",
       "      <th>avgDuration</th>\n",
       "      <th>nVisit</th>\n",
       "      <th>poiCat</th>\n",
       "      <th>poiLon</th>\n",
       "      <th>poiLat</th>\n",
       "      <th>popularity</th>\n",
       "    </tr>\n",
       "    <tr>\n",
       "      <th>poiID</th>\n",
       "      <th></th>\n",
       "      <th></th>\n",
       "      <th></th>\n",
       "      <th></th>\n",
       "      <th></th>\n",
       "      <th></th>\n",
       "    </tr>\n",
       "  </thead>\n",
       "  <tbody>\n",
       "    <tr>\n",
       "      <th>0</th>\n",
       "      <td>389.647887</td>\n",
       "      <td>71</td>\n",
       "      <td>City precincts</td>\n",
       "      <td>144.96778</td>\n",
       "      <td>-37.82167</td>\n",
       "      <td>53</td>\n",
       "    </tr>\n",
       "    <tr>\n",
       "      <th>1</th>\n",
       "      <td>884.979167</td>\n",
       "      <td>48</td>\n",
       "      <td>City precincts</td>\n",
       "      <td>144.94600</td>\n",
       "      <td>-37.81700</td>\n",
       "      <td>36</td>\n",
       "    </tr>\n",
       "    <tr>\n",
       "      <th>2</th>\n",
       "      <td>1188.785124</td>\n",
       "      <td>121</td>\n",
       "      <td>City precincts</td>\n",
       "      <td>144.97300</td>\n",
       "      <td>-37.81190</td>\n",
       "      <td>78</td>\n",
       "    </tr>\n",
       "    <tr>\n",
       "      <th>3</th>\n",
       "      <td>401.436364</td>\n",
       "      <td>55</td>\n",
       "      <td>City precincts</td>\n",
       "      <td>144.96694</td>\n",
       "      <td>-37.79972</td>\n",
       "      <td>44</td>\n",
       "    </tr>\n",
       "    <tr>\n",
       "      <th>4</th>\n",
       "      <td>1434.607143</td>\n",
       "      <td>84</td>\n",
       "      <td>City precincts</td>\n",
       "      <td>144.96333</td>\n",
       "      <td>-37.80778</td>\n",
       "      <td>48</td>\n",
       "    </tr>\n",
       "  </tbody>\n",
       "</table>\n",
       "</div>"
      ],
      "text/plain": [
       "       avgDuration  nVisit          poiCat     poiLon    poiLat  popularity\n",
       "poiID                                                                      \n",
       "0       389.647887      71  City precincts  144.96778 -37.82167          53\n",
       "1       884.979167      48  City precincts  144.94600 -37.81700          36\n",
       "2      1188.785124     121  City precincts  144.97300 -37.81190          78\n",
       "3       401.436364      55  City precincts  144.96694 -37.79972          44\n",
       "4      1434.607143      84  City precincts  144.96333 -37.80778          48"
      ]
     },
     "execution_count": 109,
     "metadata": {},
     "output_type": "execute_result"
    }
   ],
   "source": [
    "poi_info_ = calc_poi_info(trajid_set_all, traj_all, poi_all)\n",
    "poi_info_.head()"
   ]
  },
  {
   "cell_type": "markdown",
   "metadata": {},
   "source": [
    "<a id='sec2'></a>"
   ]
  },
  {
   "cell_type": "markdown",
   "metadata": {},
   "source": [
    "# 2. Factorise Transition Probabilities in POI Feature Space"
   ]
  },
  {
   "cell_type": "markdown",
   "metadata": {},
   "source": [
    "Estimate a transition matrix for each feature of POI, transition probabilities (matrix) between different POI features (vector) is obtrained by the [Kronecker product](https://en.wikipedia.org/wiki/Kronecker_product) of the individual transition matrix corresponding to each feature."
   ]
  },
  {
   "cell_type": "markdown",
   "metadata": {},
   "source": [
    "<a id='sec2.1'></a>"
   ]
  },
  {
   "cell_type": "markdown",
   "metadata": {},
   "source": [
    "## 2.1 POI Features for Factorisation"
   ]
  },
  {
   "cell_type": "markdown",
   "metadata": {},
   "source": [
    "POI features used to factorise transition matrix of Markov Chain with POI features (vector) as states:\n",
    "- Category of POI\n",
    "- Popularity of POI (discritize with uniform log-scale bins, #bins <=5 )\n",
    "- The number of POI visits (discritize with uniform log-scale bins, #bins <=5 )\n",
    "- The average visit duration of POI (discritise with uniform log-scale bins, #bins <= 5)\n",
    "- The neighborhood relationship between POIs (clustering POI(lat, lon) using k-means, #clusters <= 5)"
   ]
  },
  {
   "cell_type": "markdown",
   "metadata": {},
   "source": [
    "The number of bins/clusters of POI features for all dataset, obtained by looking at the binning results (more uniform is better and the corresponding transition matrix of counts (denser is better)."
   ]
  },
  {
   "cell_type": "code",
   "execution_count": 110,
   "metadata": {
    "collapsed": true
   },
   "outputs": [],
   "source": [
    "discretization_all_df = pd.DataFrame(data=np.zeros((5, 4), dtype=np.int), \\\n",
    "                                     columns=['Pop', 'Visit', 'Duration', 'Cluster'], \\\n",
    "                                     index=['Osak', 'Glas', 'Edin', 'Toro', 'Melb'])"
   ]
  },
  {
   "cell_type": "code",
   "execution_count": 111,
   "metadata": {
    "collapsed": true
   },
   "outputs": [],
   "source": [
    "discretization_noshort_df = pd.DataFrame(data=np.zeros((5, 4), dtype=np.int), \\\n",
    "                                         columns=['Pop', 'Visit', 'Duration', 'Cluster'], \\\n",
    "                                         index=['Osak', 'Glas', 'Edin', 'Toro', 'Melb'])"
   ]
  },
  {
   "cell_type": "code",
   "execution_count": 112,
   "metadata": {
    "collapsed": true
   },
   "outputs": [],
   "source": [
    "discretization_perfect_df = pd.DataFrame(data=np.zeros((5, 4), dtype=np.int), \\\n",
    "                                         columns=['Pop', 'Visit', 'Duration', 'Cluster'], \\\n",
    "                                         index=['Osak', 'Glas', 'Edin', 'Toro', 'Melb'])"
   ]
  },
  {
   "cell_type": "code",
   "execution_count": 113,
   "metadata": {
    "collapsed": true
   },
   "outputs": [],
   "source": [
    "discretization_all_df.loc['Osak'] = [2, 2, 3, 4]\n",
    "discretization_all_df.loc['Glas'] = [4, 4, 3, 3]\n",
    "discretization_all_df.loc['Edin'] = [4, 3, 3, 3]\n",
    "discretization_all_df.loc['Toro'] = [3, 3, 3, 3]\n",
    "discretization_all_df.loc['Melb'] = [5, 4, 3, 5]"
   ]
  },
  {
   "cell_type": "code",
   "execution_count": 114,
   "metadata": {
    "collapsed": true
   },
   "outputs": [],
   "source": [
    "discretization_noshort_df.loc['Osak'] = [3, 3, 5, 4]\n",
    "discretization_noshort_df.loc['Glas'] = [3, 4, 5, 4]\n",
    "discretization_noshort_df.loc['Edin'] = [4, 4, 3, 3]\n",
    "discretization_noshort_df.loc['Toro'] = [2, 4, 3, 3]\n",
    "discretization_noshort_df.loc['Melb'] = [3, 2, 5, 3]"
   ]
  },
  {
   "cell_type": "code",
   "execution_count": 115,
   "metadata": {
    "collapsed": true
   },
   "outputs": [],
   "source": [
    "discretization_perfect_df.loc['Osak'] = [2, 2, 3, 4]\n",
    "discretization_perfect_df.loc['Glas'] = [2, 2, 3, 4]\n",
    "discretization_perfect_df.loc['Edin'] = [4, 2, 3, 4]\n",
    "discretization_perfect_df.loc['Toro'] = [3, 3, 3, 3]\n",
    "discretization_perfect_df.loc['Melb'] = [5, 5, 4, 3]"
   ]
  },
  {
   "cell_type": "markdown",
   "metadata": {},
   "source": [
    "We count the number of transition first, then normalise each row while taking care of zero by adding each cell a small number (i.e. $0.2$ times the minimum value of that row) if there exists a zero cell."
   ]
  },
  {
   "cell_type": "code",
   "execution_count": 116,
   "metadata": {
    "collapsed": true
   },
   "outputs": [],
   "source": [
    "def normalise_transmat(transmat):\n",
    "    assert(isinstance(transmat, pd.DataFrame))\n",
    "    for row in range(transmat.index.shape[0]):\n",
    "        nonzeroidx = np.nonzero(transmat.iloc[row])[0].tolist()    \n",
    "        if len(nonzeroidx) < transmat.columns.shape[0]:\n",
    "            if len(nonzeroidx) == 0:  # all zeros in row\n",
    "                transmat.iloc[row] = 1 / transmat.columns.shape[0]  # uniform distribution\n",
    "            else:\n",
    "                minv = np.min(transmat.iloc[row, nonzeroidx])\n",
    "                EPS = 0.2 * minv  # row-specific smooth factor\n",
    "                #zeroidx = list(set(range(len(transmat.columns))) - set(nonzeroidx))\n",
    "                #transmat.iloc[row, zeroidx] = EPS\n",
    "                transmat.iloc[row] += EPS\n",
    "                rowsum = np.sum(transmat.iloc[row])\n",
    "                assert(rowsum > 0)\n",
    "                transmat.iloc[row] /= rowsum\n",
    "        else:\n",
    "            assert(len(nonzeroidx) == transmat.columns.shape[0])  # all non-zero in row\n",
    "            transmat.iloc[row] /= np.sum(transmat.iloc[row])\n",
    "    return transmat"
   ]
  },
  {
   "cell_type": "markdown",
   "metadata": {},
   "source": [
    "POIs in training set."
   ]
  },
  {
   "cell_type": "code",
   "execution_count": 117,
   "metadata": {
    "collapsed": false
   },
   "outputs": [],
   "source": [
    "poi_train_ = traj_all[traj_all['trajID'].isin(trajid_set_all)]['poiID'].unique().tolist()\n",
    "poi_train_.sort()\n",
    "#poi_train"
   ]
  },
  {
   "cell_type": "markdown",
   "metadata": {},
   "source": [
    "<a id='sec2.2'></a>"
   ]
  },
  {
   "cell_type": "markdown",
   "metadata": {},
   "source": [
    "## 2.2 Transition Matrix between POI Cateogries"
   ]
  },
  {
   "cell_type": "code",
   "execution_count": 118,
   "metadata": {
    "collapsed": false
   },
   "outputs": [
    {
     "data": {
      "text/plain": [
       "['City precincts',\n",
       " 'Entertainment',\n",
       " 'Institutions',\n",
       " 'Parks and spaces',\n",
       " 'Public galleries',\n",
       " 'Shopping',\n",
       " 'Sports stadiums',\n",
       " 'Structures',\n",
       " 'Transport']"
      ]
     },
     "execution_count": 118,
     "metadata": {},
     "output_type": "execute_result"
    }
   ],
   "source": [
    "poi_cats = poi_all.loc[poi_train_, 'poiCat'].unique().tolist()\n",
    "poi_cats.sort()\n",
    "poi_cats"
   ]
  },
  {
   "cell_type": "code",
   "execution_count": 119,
   "metadata": {
    "collapsed": true
   },
   "outputs": [],
   "source": [
    "transmat_cat = pd.DataFrame(data=np.zeros((len(poi_cats), len(poi_cats)), dtype=np.float), \\\n",
    "                            columns=poi_cats, index=poi_cats)"
   ]
  },
  {
   "cell_type": "markdown",
   "metadata": {},
   "source": [
    "Count the number of transitions between POI categories."
   ]
  },
  {
   "cell_type": "code",
   "execution_count": 120,
   "metadata": {
    "collapsed": false
   },
   "outputs": [],
   "source": [
    "for tid in trajid_set_all:\n",
    "    t = extract_traj(tid, traj_all)\n",
    "    if len(t) > 1:\n",
    "        for pi in range(len(t)-1):\n",
    "            p1 = t[pi]\n",
    "            p2 = t[pi+1]\n",
    "            cat1 = poi_all.loc[p1, 'poiCat']\n",
    "            cat2 = poi_all.loc[p2, 'poiCat']\n",
    "            transmat_cat.loc[cat1, cat2] += 1"
   ]
  },
  {
   "cell_type": "code",
   "execution_count": 121,
   "metadata": {
    "collapsed": false
   },
   "outputs": [
    {
     "data": {
      "text/html": [
       "<div>\n",
       "<table border=\"1\" class=\"dataframe\">\n",
       "  <thead>\n",
       "    <tr style=\"text-align: right;\">\n",
       "      <th></th>\n",
       "      <th>City precincts</th>\n",
       "      <th>Entertainment</th>\n",
       "      <th>Institutions</th>\n",
       "      <th>Parks and spaces</th>\n",
       "      <th>Public galleries</th>\n",
       "      <th>Shopping</th>\n",
       "      <th>Sports stadiums</th>\n",
       "      <th>Structures</th>\n",
       "      <th>Transport</th>\n",
       "    </tr>\n",
       "  </thead>\n",
       "  <tbody>\n",
       "    <tr>\n",
       "      <th>City precincts</th>\n",
       "      <td>6</td>\n",
       "      <td>5</td>\n",
       "      <td>23</td>\n",
       "      <td>17</td>\n",
       "      <td>5</td>\n",
       "      <td>36</td>\n",
       "      <td>4</td>\n",
       "      <td>27</td>\n",
       "      <td>17</td>\n",
       "    </tr>\n",
       "    <tr>\n",
       "      <th>Entertainment</th>\n",
       "      <td>4</td>\n",
       "      <td>15</td>\n",
       "      <td>7</td>\n",
       "      <td>5</td>\n",
       "      <td>2</td>\n",
       "      <td>25</td>\n",
       "      <td>1</td>\n",
       "      <td>26</td>\n",
       "      <td>20</td>\n",
       "    </tr>\n",
       "    <tr>\n",
       "      <th>Institutions</th>\n",
       "      <td>21</td>\n",
       "      <td>9</td>\n",
       "      <td>54</td>\n",
       "      <td>54</td>\n",
       "      <td>2</td>\n",
       "      <td>84</td>\n",
       "      <td>5</td>\n",
       "      <td>43</td>\n",
       "      <td>21</td>\n",
       "    </tr>\n",
       "    <tr>\n",
       "      <th>Parks and spaces</th>\n",
       "      <td>18</td>\n",
       "      <td>9</td>\n",
       "      <td>41</td>\n",
       "      <td>67</td>\n",
       "      <td>5</td>\n",
       "      <td>44</td>\n",
       "      <td>19</td>\n",
       "      <td>63</td>\n",
       "      <td>55</td>\n",
       "    </tr>\n",
       "    <tr>\n",
       "      <th>Public galleries</th>\n",
       "      <td>6</td>\n",
       "      <td>3</td>\n",
       "      <td>7</td>\n",
       "      <td>6</td>\n",
       "      <td>4</td>\n",
       "      <td>5</td>\n",
       "      <td>1</td>\n",
       "      <td>7</td>\n",
       "      <td>6</td>\n",
       "    </tr>\n",
       "    <tr>\n",
       "      <th>Shopping</th>\n",
       "      <td>40</td>\n",
       "      <td>21</td>\n",
       "      <td>85</td>\n",
       "      <td>40</td>\n",
       "      <td>2</td>\n",
       "      <td>136</td>\n",
       "      <td>5</td>\n",
       "      <td>46</td>\n",
       "      <td>51</td>\n",
       "    </tr>\n",
       "    <tr>\n",
       "      <th>Sports stadiums</th>\n",
       "      <td>3</td>\n",
       "      <td>7</td>\n",
       "      <td>4</td>\n",
       "      <td>18</td>\n",
       "      <td>2</td>\n",
       "      <td>6</td>\n",
       "      <td>25</td>\n",
       "      <td>4</td>\n",
       "      <td>8</td>\n",
       "    </tr>\n",
       "    <tr>\n",
       "      <th>Structures</th>\n",
       "      <td>17</td>\n",
       "      <td>25</td>\n",
       "      <td>33</td>\n",
       "      <td>60</td>\n",
       "      <td>7</td>\n",
       "      <td>45</td>\n",
       "      <td>5</td>\n",
       "      <td>36</td>\n",
       "      <td>44</td>\n",
       "    </tr>\n",
       "    <tr>\n",
       "      <th>Transport</th>\n",
       "      <td>14</td>\n",
       "      <td>22</td>\n",
       "      <td>25</td>\n",
       "      <td>42</td>\n",
       "      <td>4</td>\n",
       "      <td>46</td>\n",
       "      <td>11</td>\n",
       "      <td>45</td>\n",
       "      <td>24</td>\n",
       "    </tr>\n",
       "  </tbody>\n",
       "</table>\n",
       "</div>"
      ],
      "text/plain": [
       "                  City precincts  Entertainment  Institutions  \\\n",
       "City precincts                 6              5            23   \n",
       "Entertainment                  4             15             7   \n",
       "Institutions                  21              9            54   \n",
       "Parks and spaces              18              9            41   \n",
       "Public galleries               6              3             7   \n",
       "Shopping                      40             21            85   \n",
       "Sports stadiums                3              7             4   \n",
       "Structures                    17             25            33   \n",
       "Transport                     14             22            25   \n",
       "\n",
       "                  Parks and spaces  Public galleries  Shopping  \\\n",
       "City precincts                  17                 5        36   \n",
       "Entertainment                    5                 2        25   \n",
       "Institutions                    54                 2        84   \n",
       "Parks and spaces                67                 5        44   \n",
       "Public galleries                 6                 4         5   \n",
       "Shopping                        40                 2       136   \n",
       "Sports stadiums                 18                 2         6   \n",
       "Structures                      60                 7        45   \n",
       "Transport                       42                 4        46   \n",
       "\n",
       "                  Sports stadiums  Structures  Transport  \n",
       "City precincts                  4          27         17  \n",
       "Entertainment                   1          26         20  \n",
       "Institutions                    5          43         21  \n",
       "Parks and spaces               19          63         55  \n",
       "Public galleries                1           7          6  \n",
       "Shopping                        5          46         51  \n",
       "Sports stadiums                25           4          8  \n",
       "Structures                      5          36         44  \n",
       "Transport                      11          45         24  "
      ]
     },
     "execution_count": 121,
     "metadata": {},
     "output_type": "execute_result"
    }
   ],
   "source": [
    "transmat_cat"
   ]
  },
  {
   "cell_type": "markdown",
   "metadata": {},
   "source": [
    "Normalise each row to obtain transition probabilities."
   ]
  },
  {
   "cell_type": "code",
   "execution_count": 122,
   "metadata": {
    "collapsed": false
   },
   "outputs": [],
   "source": [
    "transmat_cat = normalise_transmat(transmat_cat)"
   ]
  },
  {
   "cell_type": "code",
   "execution_count": 123,
   "metadata": {
    "collapsed": false
   },
   "outputs": [
    {
     "data": {
      "text/html": [
       "<div>\n",
       "<table border=\"1\" class=\"dataframe\">\n",
       "  <thead>\n",
       "    <tr style=\"text-align: right;\">\n",
       "      <th></th>\n",
       "      <th>City precincts</th>\n",
       "      <th>Entertainment</th>\n",
       "      <th>Institutions</th>\n",
       "      <th>Parks and spaces</th>\n",
       "      <th>Public galleries</th>\n",
       "      <th>Shopping</th>\n",
       "      <th>Sports stadiums</th>\n",
       "      <th>Structures</th>\n",
       "      <th>Transport</th>\n",
       "    </tr>\n",
       "  </thead>\n",
       "  <tbody>\n",
       "    <tr>\n",
       "      <th>City precincts</th>\n",
       "      <td>0.042857</td>\n",
       "      <td>0.035714</td>\n",
       "      <td>0.164286</td>\n",
       "      <td>0.121429</td>\n",
       "      <td>0.035714</td>\n",
       "      <td>0.257143</td>\n",
       "      <td>0.028571</td>\n",
       "      <td>0.192857</td>\n",
       "      <td>0.121429</td>\n",
       "    </tr>\n",
       "    <tr>\n",
       "      <th>Entertainment</th>\n",
       "      <td>0.038095</td>\n",
       "      <td>0.142857</td>\n",
       "      <td>0.066667</td>\n",
       "      <td>0.047619</td>\n",
       "      <td>0.019048</td>\n",
       "      <td>0.238095</td>\n",
       "      <td>0.009524</td>\n",
       "      <td>0.247619</td>\n",
       "      <td>0.190476</td>\n",
       "    </tr>\n",
       "    <tr>\n",
       "      <th>Institutions</th>\n",
       "      <td>0.071672</td>\n",
       "      <td>0.030717</td>\n",
       "      <td>0.184300</td>\n",
       "      <td>0.184300</td>\n",
       "      <td>0.006826</td>\n",
       "      <td>0.286689</td>\n",
       "      <td>0.017065</td>\n",
       "      <td>0.146758</td>\n",
       "      <td>0.071672</td>\n",
       "    </tr>\n",
       "    <tr>\n",
       "      <th>Parks and spaces</th>\n",
       "      <td>0.056075</td>\n",
       "      <td>0.028037</td>\n",
       "      <td>0.127726</td>\n",
       "      <td>0.208723</td>\n",
       "      <td>0.015576</td>\n",
       "      <td>0.137072</td>\n",
       "      <td>0.059190</td>\n",
       "      <td>0.196262</td>\n",
       "      <td>0.171340</td>\n",
       "    </tr>\n",
       "    <tr>\n",
       "      <th>Public galleries</th>\n",
       "      <td>0.133333</td>\n",
       "      <td>0.066667</td>\n",
       "      <td>0.155556</td>\n",
       "      <td>0.133333</td>\n",
       "      <td>0.088889</td>\n",
       "      <td>0.111111</td>\n",
       "      <td>0.022222</td>\n",
       "      <td>0.155556</td>\n",
       "      <td>0.133333</td>\n",
       "    </tr>\n",
       "    <tr>\n",
       "      <th>Shopping</th>\n",
       "      <td>0.093897</td>\n",
       "      <td>0.049296</td>\n",
       "      <td>0.199531</td>\n",
       "      <td>0.093897</td>\n",
       "      <td>0.004695</td>\n",
       "      <td>0.319249</td>\n",
       "      <td>0.011737</td>\n",
       "      <td>0.107981</td>\n",
       "      <td>0.119718</td>\n",
       "    </tr>\n",
       "    <tr>\n",
       "      <th>Sports stadiums</th>\n",
       "      <td>0.038961</td>\n",
       "      <td>0.090909</td>\n",
       "      <td>0.051948</td>\n",
       "      <td>0.233766</td>\n",
       "      <td>0.025974</td>\n",
       "      <td>0.077922</td>\n",
       "      <td>0.324675</td>\n",
       "      <td>0.051948</td>\n",
       "      <td>0.103896</td>\n",
       "    </tr>\n",
       "    <tr>\n",
       "      <th>Structures</th>\n",
       "      <td>0.062500</td>\n",
       "      <td>0.091912</td>\n",
       "      <td>0.121324</td>\n",
       "      <td>0.220588</td>\n",
       "      <td>0.025735</td>\n",
       "      <td>0.165441</td>\n",
       "      <td>0.018382</td>\n",
       "      <td>0.132353</td>\n",
       "      <td>0.161765</td>\n",
       "    </tr>\n",
       "    <tr>\n",
       "      <th>Transport</th>\n",
       "      <td>0.060086</td>\n",
       "      <td>0.094421</td>\n",
       "      <td>0.107296</td>\n",
       "      <td>0.180258</td>\n",
       "      <td>0.017167</td>\n",
       "      <td>0.197425</td>\n",
       "      <td>0.047210</td>\n",
       "      <td>0.193133</td>\n",
       "      <td>0.103004</td>\n",
       "    </tr>\n",
       "  </tbody>\n",
       "</table>\n",
       "</div>"
      ],
      "text/plain": [
       "                  City precincts  Entertainment  Institutions  \\\n",
       "City precincts          0.042857       0.035714      0.164286   \n",
       "Entertainment           0.038095       0.142857      0.066667   \n",
       "Institutions            0.071672       0.030717      0.184300   \n",
       "Parks and spaces        0.056075       0.028037      0.127726   \n",
       "Public galleries        0.133333       0.066667      0.155556   \n",
       "Shopping                0.093897       0.049296      0.199531   \n",
       "Sports stadiums         0.038961       0.090909      0.051948   \n",
       "Structures              0.062500       0.091912      0.121324   \n",
       "Transport               0.060086       0.094421      0.107296   \n",
       "\n",
       "                  Parks and spaces  Public galleries  Shopping  \\\n",
       "City precincts            0.121429          0.035714  0.257143   \n",
       "Entertainment             0.047619          0.019048  0.238095   \n",
       "Institutions              0.184300          0.006826  0.286689   \n",
       "Parks and spaces          0.208723          0.015576  0.137072   \n",
       "Public galleries          0.133333          0.088889  0.111111   \n",
       "Shopping                  0.093897          0.004695  0.319249   \n",
       "Sports stadiums           0.233766          0.025974  0.077922   \n",
       "Structures                0.220588          0.025735  0.165441   \n",
       "Transport                 0.180258          0.017167  0.197425   \n",
       "\n",
       "                  Sports stadiums  Structures  Transport  \n",
       "City precincts           0.028571    0.192857   0.121429  \n",
       "Entertainment            0.009524    0.247619   0.190476  \n",
       "Institutions             0.017065    0.146758   0.071672  \n",
       "Parks and spaces         0.059190    0.196262   0.171340  \n",
       "Public galleries         0.022222    0.155556   0.133333  \n",
       "Shopping                 0.011737    0.107981   0.119718  \n",
       "Sports stadiums          0.324675    0.051948   0.103896  \n",
       "Structures               0.018382    0.132353   0.161765  \n",
       "Transport                0.047210    0.193133   0.103004  "
      ]
     },
     "execution_count": 123,
     "metadata": {},
     "output_type": "execute_result"
    }
   ],
   "source": [
    "transmat_cat"
   ]
  },
  {
   "cell_type": "markdown",
   "metadata": {},
   "source": [
    "<a id='sec2.3'></a>"
   ]
  },
  {
   "cell_type": "markdown",
   "metadata": {},
   "source": [
    "## 2.3 Transition Matrix between POI Popularity Classes"
   ]
  },
  {
   "cell_type": "code",
   "execution_count": 124,
   "metadata": {
    "collapsed": false
   },
   "outputs": [],
   "source": [
    "poi_pops = poi_info_.loc[poi_train_, 'popularity']\n",
    "#sorted(poi_pops.unique().tolist())"
   ]
  },
  {
   "cell_type": "markdown",
   "metadata": {},
   "source": [
    "Discretize POI popularity with uniform log-scale bins (#bins $\\le 5$)."
   ]
  },
  {
   "cell_type": "code",
   "execution_count": 125,
   "metadata": {
    "collapsed": false
   },
   "outputs": [
    {
     "name": "stdout",
     "output_type": "stream",
     "text": [
      "Number of bins: 5\n"
     ]
    }
   ],
   "source": [
    "if dstype == 'all':     nbins_pop = discretization_all_df.loc[suffix[dat_ix], 'Pop']\n",
    "if dstype == 'noshort': nbins_pop = discretization_noshort_df.loc[suffix[dat_ix], 'Pop']\n",
    "if dstype == 'perfect': nbins_pop = discretization_perfect_df.loc[suffix[dat_ix], 'Pop']\n",
    "print('Number of bins:', nbins_pop)"
   ]
  },
  {
   "cell_type": "code",
   "execution_count": 126,
   "metadata": {
    "collapsed": false
   },
   "outputs": [
    {
     "name": "stdout",
     "output_type": "stream",
     "text": [
      "0.0 2.41497334797\n"
     ]
    }
   ],
   "source": [
    "expo_pop1 = np.log10(max(1, min(poi_pops)))\n",
    "expo_pop2 = np.log10(max(poi_pops))\n",
    "print(expo_pop1, expo_pop2)"
   ]
  },
  {
   "cell_type": "code",
   "execution_count": 127,
   "metadata": {
    "collapsed": false
   },
   "outputs": [
    {
     "data": {
      "text/plain": [
       "array([    0.        ,     3.98107171,    15.84893192,    63.09573445,\n",
       "         251.18864315,  1000.        ])"
      ]
     },
     "execution_count": 127,
     "metadata": {},
     "output_type": "execute_result"
    }
   ],
   "source": [
    "logbins_pop = np.logspace(np.floor(expo_pop1), np.ceil(expo_pop2), nbins_pop+1)\n",
    "logbins_pop[0] = 0  # deal with underflow\n",
    "logbins_pop"
   ]
  },
  {
   "cell_type": "code",
   "execution_count": 128,
   "metadata": {
    "collapsed": false
   },
   "outputs": [
    {
     "data": {
      "image/png": "[encoded data removed]",
      "text/plain": [
       "<matplotlib.figure.Figure at 0x7efbcabb3f28>"
      ]
     },
     "metadata": {},
     "output_type": "display_data"
    }
   ],
   "source": [
    "ax = pd.Series(poi_pops).hist(figsize=(5, 3), bins=logbins_pop)\n",
    "ax.set_xlim(xmin=0.1)\n",
    "ax.set_xscale('log')"
   ]
  },
  {
   "cell_type": "code",
   "execution_count": 129,
   "metadata": {
    "collapsed": false
   },
   "outputs": [],
   "source": [
    "transmat_pop = pd.DataFrame(data=np.zeros((nbins_pop, nbins_pop), dtype=np.float), \\\n",
    "                            columns=np.arange(1, nbins_pop+1), index=np.arange(1, nbins_pop+1))"
   ]
  },
  {
   "cell_type": "markdown",
   "metadata": {},
   "source": [
    "Count the number of transitions between POI popularity classes."
   ]
  },
  {
   "cell_type": "code",
   "execution_count": 130,
   "metadata": {
    "collapsed": true
   },
   "outputs": [],
   "source": [
    "for tid in trajid_set_all:\n",
    "    t = extract_traj(tid, traj_all)\n",
    "    if len(t) > 1:\n",
    "        for pi in range(len(t)-1):\n",
    "            p1 = t[pi]\n",
    "            p2 = t[pi+1]\n",
    "            pop1 = poi_info_.loc[p1, 'popularity']\n",
    "            pop2 = poi_info_.loc[p2, 'popularity']\n",
    "            pc1, pc2 = np.digitize([pop1, pop2], logbins_pop)\n",
    "            transmat_pop.loc[pc1, pc2] += 1"
   ]
  },
  {
   "cell_type": "code",
   "execution_count": 131,
   "metadata": {
    "collapsed": false
   },
   "outputs": [
    {
     "data": {
      "text/html": [
       "<div>\n",
       "<table border=\"1\" class=\"dataframe\">\n",
       "  <thead>\n",
       "    <tr style=\"text-align: right;\">\n",
       "      <th></th>\n",
       "      <th>1</th>\n",
       "      <th>2</th>\n",
       "      <th>3</th>\n",
       "      <th>4</th>\n",
       "      <th>5</th>\n",
       "    </tr>\n",
       "  </thead>\n",
       "  <tbody>\n",
       "    <tr>\n",
       "      <th>1</th>\n",
       "      <td>0</td>\n",
       "      <td>0</td>\n",
       "      <td>1</td>\n",
       "      <td>0</td>\n",
       "      <td>0</td>\n",
       "    </tr>\n",
       "    <tr>\n",
       "      <th>2</th>\n",
       "      <td>0</td>\n",
       "      <td>15</td>\n",
       "      <td>17</td>\n",
       "      <td>38</td>\n",
       "      <td>2</td>\n",
       "    </tr>\n",
       "    <tr>\n",
       "      <th>3</th>\n",
       "      <td>0</td>\n",
       "      <td>21</td>\n",
       "      <td>151</td>\n",
       "      <td>311</td>\n",
       "      <td>22</td>\n",
       "    </tr>\n",
       "    <tr>\n",
       "      <th>4</th>\n",
       "      <td>1</td>\n",
       "      <td>40</td>\n",
       "      <td>295</td>\n",
       "      <td>781</td>\n",
       "      <td>93</td>\n",
       "    </tr>\n",
       "    <tr>\n",
       "      <th>5</th>\n",
       "      <td>0</td>\n",
       "      <td>5</td>\n",
       "      <td>23</td>\n",
       "      <td>96</td>\n",
       "      <td>0</td>\n",
       "    </tr>\n",
       "  </tbody>\n",
       "</table>\n",
       "</div>"
      ],
      "text/plain": [
       "   1   2    3    4   5\n",
       "1  0   0    1    0   0\n",
       "2  0  15   17   38   2\n",
       "3  0  21  151  311  22\n",
       "4  1  40  295  781  93\n",
       "5  0   5   23   96   0"
      ]
     },
     "execution_count": 131,
     "metadata": {},
     "output_type": "execute_result"
    }
   ],
   "source": [
    "transmat_pop"
   ]
  },
  {
   "cell_type": "markdown",
   "metadata": {},
   "source": [
    "Normalise each row to obtain transition probabilities."
   ]
  },
  {
   "cell_type": "code",
   "execution_count": 132,
   "metadata": {
    "collapsed": false
   },
   "outputs": [],
   "source": [
    "transmat_pop = normalise_transmat(transmat_pop)"
   ]
  },
  {
   "cell_type": "code",
   "execution_count": 133,
   "metadata": {
    "collapsed": false
   },
   "outputs": [
    {
     "data": {
      "text/html": [
       "<div>\n",
       "<table border=\"1\" class=\"dataframe\">\n",
       "  <thead>\n",
       "    <tr style=\"text-align: right;\">\n",
       "      <th></th>\n",
       "      <th>1</th>\n",
       "      <th>2</th>\n",
       "      <th>3</th>\n",
       "      <th>4</th>\n",
       "      <th>5</th>\n",
       "    </tr>\n",
       "  </thead>\n",
       "  <tbody>\n",
       "    <tr>\n",
       "      <th>1</th>\n",
       "      <td>0.100000</td>\n",
       "      <td>0.100000</td>\n",
       "      <td>0.600000</td>\n",
       "      <td>0.100000</td>\n",
       "      <td>0.100000</td>\n",
       "    </tr>\n",
       "    <tr>\n",
       "      <th>2</th>\n",
       "      <td>0.005405</td>\n",
       "      <td>0.208108</td>\n",
       "      <td>0.235135</td>\n",
       "      <td>0.518919</td>\n",
       "      <td>0.032432</td>\n",
       "    </tr>\n",
       "    <tr>\n",
       "      <th>3</th>\n",
       "      <td>0.007985</td>\n",
       "      <td>0.047909</td>\n",
       "      <td>0.295057</td>\n",
       "      <td>0.599240</td>\n",
       "      <td>0.049810</td>\n",
       "    </tr>\n",
       "    <tr>\n",
       "      <th>4</th>\n",
       "      <td>0.000826</td>\n",
       "      <td>0.033058</td>\n",
       "      <td>0.243802</td>\n",
       "      <td>0.645455</td>\n",
       "      <td>0.076860</td>\n",
       "    </tr>\n",
       "    <tr>\n",
       "      <th>5</th>\n",
       "      <td>0.007752</td>\n",
       "      <td>0.046512</td>\n",
       "      <td>0.186047</td>\n",
       "      <td>0.751938</td>\n",
       "      <td>0.007752</td>\n",
       "    </tr>\n",
       "  </tbody>\n",
       "</table>\n",
       "</div>"
      ],
      "text/plain": [
       "          1         2         3         4         5\n",
       "1  0.100000  0.100000  0.600000  0.100000  0.100000\n",
       "2  0.005405  0.208108  0.235135  0.518919  0.032432\n",
       "3  0.007985  0.047909  0.295057  0.599240  0.049810\n",
       "4  0.000826  0.033058  0.243802  0.645455  0.076860\n",
       "5  0.007752  0.046512  0.186047  0.751938  0.007752"
      ]
     },
     "execution_count": 133,
     "metadata": {},
     "output_type": "execute_result"
    }
   ],
   "source": [
    "transmat_pop"
   ]
  },
  {
   "cell_type": "markdown",
   "metadata": {},
   "source": [
    "<a id='sec2.4'></a>"
   ]
  },
  {
   "cell_type": "markdown",
   "metadata": {},
   "source": [
    "## 2.4 Transition Matrix between the Number of POI Visit Classes"
   ]
  },
  {
   "cell_type": "code",
   "execution_count": 134,
   "metadata": {
    "collapsed": false
   },
   "outputs": [],
   "source": [
    "poi_visits = poi_info_.loc[poi_train_, 'nVisit']\n",
    "#sorted(poi_visits.unique().tolist())"
   ]
  },
  {
   "cell_type": "markdown",
   "metadata": {},
   "source": [
    "Discretize the number of POI visit with uniform log-scale bins (#bins $\\le 5$)."
   ]
  },
  {
   "cell_type": "code",
   "execution_count": 135,
   "metadata": {
    "collapsed": false
   },
   "outputs": [
    {
     "name": "stdout",
     "output_type": "stream",
     "text": [
      "Number of bins: 4\n"
     ]
    }
   ],
   "source": [
    "if dstype == 'all':     nbins_visit = discretization_all_df.loc[suffix[dat_ix], 'Visit']\n",
    "if dstype == 'noshort': nbins_visit = discretization_noshort_df.loc[suffix[dat_ix], 'Visit']\n",
    "if dstype == 'perfect': nbins_visit = discretization_perfect_df.loc[suffix[dat_ix], 'Visit']\n",
    "print('Number of bins:', nbins_visit)"
   ]
  },
  {
   "cell_type": "code",
   "execution_count": 136,
   "metadata": {
    "collapsed": false
   },
   "outputs": [
    {
     "name": "stdout",
     "output_type": "stream",
     "text": [
      "0.0 2.64738297011\n"
     ]
    }
   ],
   "source": [
    "expo_visit1 = np.log10(max(1, min(poi_visits)))\n",
    "expo_visit2 = np.log10(max(poi_visits))\n",
    "print(expo_visit1, expo_visit2)"
   ]
  },
  {
   "cell_type": "code",
   "execution_count": 137,
   "metadata": {
    "collapsed": false
   },
   "outputs": [
    {
     "data": {
      "text/plain": [
       "array([    0.        ,     5.62341325,    31.6227766 ,   177.827941  ,\n",
       "        1000.        ])"
      ]
     },
     "execution_count": 137,
     "metadata": {},
     "output_type": "execute_result"
    }
   ],
   "source": [
    "logbins_visit = np.logspace(np.floor(expo_visit1), np.ceil(expo_visit2), nbins_visit+1)\n",
    "logbins_visit[0] = 0  # deal with underflow\n",
    "logbins_visit"
   ]
  },
  {
   "cell_type": "code",
   "execution_count": 138,
   "metadata": {
    "collapsed": false
   },
   "outputs": [
    {
     "data": {
      "image/png": "[encoded data removed]",
      "text/plain": [
       "<matplotlib.figure.Figure at 0x7efbc7206ac8>"
      ]
     },
     "metadata": {},
     "output_type": "display_data"
    }
   ],
   "source": [
    "ax = pd.Series(poi_visits).hist(figsize=(5, 3), bins=logbins_visit)\n",
    "ax.set_xlim(xmin=0.1)\n",
    "ax.set_xscale('log')"
   ]
  },
  {
   "cell_type": "code",
   "execution_count": 139,
   "metadata": {
    "collapsed": false
   },
   "outputs": [],
   "source": [
    "transmat_visit = pd.DataFrame(data=np.zeros((nbins_visit, nbins_visit), dtype=np.float), \\\n",
    "                              columns=np.arange(1, nbins_visit+1), index=np.arange(1, nbins_visit+1))"
   ]
  },
  {
   "cell_type": "markdown",
   "metadata": {},
   "source": [
    "Count the number of transitions between POI popularity classes."
   ]
  },
  {
   "cell_type": "code",
   "execution_count": 140,
   "metadata": {
    "collapsed": true
   },
   "outputs": [],
   "source": [
    "for tid in trajid_set_all:\n",
    "    t = extract_traj(tid, traj_all)\n",
    "    if len(t) > 1:\n",
    "        for pi in range(len(t)-1):\n",
    "            p1 = t[pi]\n",
    "            p2 = t[pi+1]\n",
    "            visit1 = poi_info_.loc[p1, 'nVisit']\n",
    "            visit2 = poi_info_.loc[p2, 'nVisit']\n",
    "            vc1, vc2 = np.digitize([visit1, visit2], logbins_visit)\n",
    "            transmat_visit.loc[vc1, vc2] += 1"
   ]
  },
  {
   "cell_type": "code",
   "execution_count": 141,
   "metadata": {
    "collapsed": false
   },
   "outputs": [
    {
     "data": {
      "text/html": [
       "<div>\n",
       "<table border=\"1\" class=\"dataframe\">\n",
       "  <thead>\n",
       "    <tr style=\"text-align: right;\">\n",
       "      <th></th>\n",
       "      <th>1</th>\n",
       "      <th>2</th>\n",
       "      <th>3</th>\n",
       "      <th>4</th>\n",
       "    </tr>\n",
       "  </thead>\n",
       "  <tbody>\n",
       "    <tr>\n",
       "      <th>1</th>\n",
       "      <td>0</td>\n",
       "      <td>1</td>\n",
       "      <td>0</td>\n",
       "      <td>0</td>\n",
       "    </tr>\n",
       "    <tr>\n",
       "      <th>2</th>\n",
       "      <td>0</td>\n",
       "      <td>41</td>\n",
       "      <td>89</td>\n",
       "      <td>19</td>\n",
       "    </tr>\n",
       "    <tr>\n",
       "      <th>3</th>\n",
       "      <td>0</td>\n",
       "      <td>92</td>\n",
       "      <td>799</td>\n",
       "      <td>348</td>\n",
       "    </tr>\n",
       "    <tr>\n",
       "      <th>4</th>\n",
       "      <td>0</td>\n",
       "      <td>19</td>\n",
       "      <td>329</td>\n",
       "      <td>175</td>\n",
       "    </tr>\n",
       "  </tbody>\n",
       "</table>\n",
       "</div>"
      ],
      "text/plain": [
       "   1   2    3    4\n",
       "1  0   1    0    0\n",
       "2  0  41   89   19\n",
       "3  0  92  799  348\n",
       "4  0  19  329  175"
      ]
     },
     "execution_count": 141,
     "metadata": {},
     "output_type": "execute_result"
    }
   ],
   "source": [
    "transmat_visit"
   ]
  },
  {
   "cell_type": "markdown",
   "metadata": {},
   "source": [
    "Normalise each row to obtain transition probabilities."
   ]
  },
  {
   "cell_type": "code",
   "execution_count": 142,
   "metadata": {
    "collapsed": false
   },
   "outputs": [],
   "source": [
    "transmat_visit = normalise_transmat(transmat_visit)"
   ]
  },
  {
   "cell_type": "code",
   "execution_count": 143,
   "metadata": {
    "collapsed": false
   },
   "outputs": [
    {
     "data": {
      "text/html": [
       "<div>\n",
       "<table border=\"1\" class=\"dataframe\">\n",
       "  <thead>\n",
       "    <tr style=\"text-align: right;\">\n",
       "      <th></th>\n",
       "      <th>1</th>\n",
       "      <th>2</th>\n",
       "      <th>3</th>\n",
       "      <th>4</th>\n",
       "    </tr>\n",
       "  </thead>\n",
       "  <tbody>\n",
       "    <tr>\n",
       "      <th>1</th>\n",
       "      <td>0.111111</td>\n",
       "      <td>0.666667</td>\n",
       "      <td>0.111111</td>\n",
       "      <td>0.111111</td>\n",
       "    </tr>\n",
       "    <tr>\n",
       "      <th>2</th>\n",
       "      <td>0.023143</td>\n",
       "      <td>0.272838</td>\n",
       "      <td>0.565164</td>\n",
       "      <td>0.138855</td>\n",
       "    </tr>\n",
       "    <tr>\n",
       "      <th>3</th>\n",
       "      <td>0.014018</td>\n",
       "      <td>0.084108</td>\n",
       "      <td>0.622734</td>\n",
       "      <td>0.279141</td>\n",
       "    </tr>\n",
       "    <tr>\n",
       "      <th>4</th>\n",
       "      <td>0.007061</td>\n",
       "      <td>0.042363</td>\n",
       "      <td>0.618357</td>\n",
       "      <td>0.332219</td>\n",
       "    </tr>\n",
       "  </tbody>\n",
       "</table>\n",
       "</div>"
      ],
      "text/plain": [
       "          1         2         3         4\n",
       "1  0.111111  0.666667  0.111111  0.111111\n",
       "2  0.023143  0.272838  0.565164  0.138855\n",
       "3  0.014018  0.084108  0.622734  0.279141\n",
       "4  0.007061  0.042363  0.618357  0.332219"
      ]
     },
     "execution_count": 143,
     "metadata": {},
     "output_type": "execute_result"
    }
   ],
   "source": [
    "transmat_visit"
   ]
  },
  {
   "cell_type": "markdown",
   "metadata": {},
   "source": [
    "<a id='sec2.5'></a>"
   ]
  },
  {
   "cell_type": "markdown",
   "metadata": {},
   "source": [
    "## 2.5 Transition Matrix between POI Average Visit Duration Classes"
   ]
  },
  {
   "cell_type": "code",
   "execution_count": 144,
   "metadata": {
    "collapsed": false
   },
   "outputs": [],
   "source": [
    "poi_durations = poi_info_.loc[poi_train_, 'avgDuration']\n",
    "#sorted(poi_durations.unique().tolist())"
   ]
  },
  {
   "cell_type": "markdown",
   "metadata": {},
   "source": [
    "Discretize POI average visit duration with uniform log-scale bins (#bins $\\le 5$)."
   ]
  },
  {
   "cell_type": "code",
   "execution_count": 145,
   "metadata": {
    "collapsed": false
   },
   "outputs": [
    {
     "name": "stdout",
     "output_type": "stream",
     "text": [
      "Number of bins: 3\n"
     ]
    }
   ],
   "source": [
    "if dstype == 'all':     nbins_duration = discretization_all_df.loc[suffix[dat_ix], 'Duration']\n",
    "if dstype == 'noshort': nbins_duration = discretization_noshort_df.loc[suffix[dat_ix], 'Duration']\n",
    "if dstype == 'perfect': nbins_duration = discretization_perfect_df.loc[suffix[dat_ix], 'Duration']\n",
    "print('Number of bins:', nbins_duration)"
   ]
  },
  {
   "cell_type": "code",
   "execution_count": 146,
   "metadata": {
    "collapsed": false
   },
   "outputs": [
    {
     "name": "stdout",
     "output_type": "stream",
     "text": [
      "0.0 3.80257953449\n"
     ]
    }
   ],
   "source": [
    "expo_duration1 = np.log10(max(1, min(poi_durations)))\n",
    "expo_duration2 = np.log10(max(poi_durations))\n",
    "print(expo_duration1, expo_duration2)"
   ]
  },
  {
   "cell_type": "code",
   "execution_count": 147,
   "metadata": {
    "collapsed": false
   },
   "outputs": [
    {
     "data": {
      "text/plain": [
       "array([     0.        ,     21.5443469 ,    464.15888336,  10000.        ])"
      ]
     },
     "execution_count": 147,
     "metadata": {},
     "output_type": "execute_result"
    }
   ],
   "source": [
    "logbins_duration = np.logspace(np.floor(expo_duration1), np.ceil(expo_duration2), nbins_duration+1)\n",
    "logbins_duration[0] = 0  # deal with underflow\n",
    "logbins_duration"
   ]
  },
  {
   "cell_type": "code",
   "execution_count": 148,
   "metadata": {
    "collapsed": false
   },
   "outputs": [
    {
     "data": {
      "image/png": "[encoded data removed]",
      "text/plain": [
       "<matplotlib.figure.Figure at 0x7efbc7206f60>"
      ]
     },
     "metadata": {},
     "output_type": "display_data"
    }
   ],
   "source": [
    "ax = pd.Series(poi_durations).hist(figsize=(5, 3), bins=logbins_duration)\n",
    "ax.set_xlim(xmin=0.1)\n",
    "ax.set_xscale('log')"
   ]
  },
  {
   "cell_type": "code",
   "execution_count": 149,
   "metadata": {
    "collapsed": false
   },
   "outputs": [],
   "source": [
    "transmat_duration = pd.DataFrame(data=np.zeros((nbins_duration, nbins_duration), dtype=np.float), \\\n",
    "                                 columns=np.arange(1, nbins_duration+1), index=np.arange(1, nbins_duration+1))"
   ]
  },
  {
   "cell_type": "markdown",
   "metadata": {},
   "source": [
    "Count the number of transitions between POI average visit duration classes."
   ]
  },
  {
   "cell_type": "code",
   "execution_count": 150,
   "metadata": {
    "collapsed": false
   },
   "outputs": [],
   "source": [
    "for tid in trajid_set_all:\n",
    "    t = extract_traj(tid, traj_all)\n",
    "    if len(t) > 1:\n",
    "        for pi in range(len(t)-1):\n",
    "            p1 = t[pi]\n",
    "            p2 = t[pi+1]\n",
    "            d1 = poi_info_.loc[p1, 'avgDuration']\n",
    "            d2 = poi_info_.loc[p2, 'avgDuration']\n",
    "            dc1, dc2 = np.digitize([d1, d2], logbins_duration)\n",
    "            transmat_duration.loc[dc1, dc2] += 1"
   ]
  },
  {
   "cell_type": "code",
   "execution_count": 151,
   "metadata": {
    "collapsed": false
   },
   "outputs": [
    {
     "data": {
      "text/html": [
       "<div>\n",
       "<table border=\"1\" class=\"dataframe\">\n",
       "  <thead>\n",
       "    <tr style=\"text-align: right;\">\n",
       "      <th></th>\n",
       "      <th>1</th>\n",
       "      <th>2</th>\n",
       "      <th>3</th>\n",
       "    </tr>\n",
       "  </thead>\n",
       "  <tbody>\n",
       "    <tr>\n",
       "      <th>1</th>\n",
       "      <td>0</td>\n",
       "      <td>0</td>\n",
       "      <td>1</td>\n",
       "    </tr>\n",
       "    <tr>\n",
       "      <th>2</th>\n",
       "      <td>0</td>\n",
       "      <td>16</td>\n",
       "      <td>219</td>\n",
       "    </tr>\n",
       "    <tr>\n",
       "      <th>3</th>\n",
       "      <td>1</td>\n",
       "      <td>203</td>\n",
       "      <td>1472</td>\n",
       "    </tr>\n",
       "  </tbody>\n",
       "</table>\n",
       "</div>"
      ],
      "text/plain": [
       "   1    2     3\n",
       "1  0    0     1\n",
       "2  0   16   219\n",
       "3  1  203  1472"
      ]
     },
     "execution_count": 151,
     "metadata": {},
     "output_type": "execute_result"
    }
   ],
   "source": [
    "transmat_duration"
   ]
  },
  {
   "cell_type": "markdown",
   "metadata": {},
   "source": [
    "Normalise each row to obtain transition probabilities."
   ]
  },
  {
   "cell_type": "code",
   "execution_count": 152,
   "metadata": {
    "collapsed": true
   },
   "outputs": [],
   "source": [
    "transmat_duration = normalise_transmat(transmat_duration)"
   ]
  },
  {
   "cell_type": "code",
   "execution_count": 153,
   "metadata": {
    "collapsed": false
   },
   "outputs": [
    {
     "data": {
      "text/html": [
       "<div>\n",
       "<table border=\"1\" class=\"dataframe\">\n",
       "  <thead>\n",
       "    <tr style=\"text-align: right;\">\n",
       "      <th></th>\n",
       "      <th>1</th>\n",
       "      <th>2</th>\n",
       "      <th>3</th>\n",
       "    </tr>\n",
       "  </thead>\n",
       "  <tbody>\n",
       "    <tr>\n",
       "      <th>1</th>\n",
       "      <td>0.125000</td>\n",
       "      <td>0.125000</td>\n",
       "      <td>0.750000</td>\n",
       "    </tr>\n",
       "    <tr>\n",
       "      <th>2</th>\n",
       "      <td>0.013083</td>\n",
       "      <td>0.078496</td>\n",
       "      <td>0.908422</td>\n",
       "    </tr>\n",
       "    <tr>\n",
       "      <th>3</th>\n",
       "      <td>0.000597</td>\n",
       "      <td>0.121122</td>\n",
       "      <td>0.878282</td>\n",
       "    </tr>\n",
       "  </tbody>\n",
       "</table>\n",
       "</div>"
      ],
      "text/plain": [
       "          1         2         3\n",
       "1  0.125000  0.125000  0.750000\n",
       "2  0.013083  0.078496  0.908422\n",
       "3  0.000597  0.121122  0.878282"
      ]
     },
     "execution_count": 153,
     "metadata": {},
     "output_type": "execute_result"
    }
   ],
   "source": [
    "transmat_duration"
   ]
  },
  {
   "cell_type": "markdown",
   "metadata": {},
   "source": [
    "<a id='sec2.6'></a>"
   ]
  },
  {
   "cell_type": "markdown",
   "metadata": {},
   "source": [
    "## 2.6 Transition Matrix between POI Neighborhood Classes"
   ]
  },
  {
   "cell_type": "markdown",
   "metadata": {},
   "source": [
    "Compute POI neighborhoods, i.e., clustering POI (lat, lon) in training set using k-means, #clusters $\\le 5$."
   ]
  },
  {
   "cell_type": "markdown",
   "metadata": {},
   "source": [
    "KMeans in scikit-learn seems unable to use custom distance metric and no implementation of [Haversine formula](http://en.wikipedia.org/wiki/Great-circle_distance), use Euclidean distance to approximate."
   ]
  },
  {
   "cell_type": "code",
   "execution_count": 154,
   "metadata": {
    "collapsed": false
   },
   "outputs": [
    {
     "name": "stdout",
     "output_type": "stream",
     "text": [
      "Number of clusters: 5\n"
     ]
    }
   ],
   "source": [
    "if dstype == 'all':     nclusters = discretization_all_df.loc[suffix[dat_ix], 'Cluster']\n",
    "if dstype == 'noshort': nclusters = discretization_noshort_df.loc[suffix[dat_ix], 'Cluster']\n",
    "if dstype == 'perfect': nclusters = discretization_perfect_df.loc[suffix[dat_ix], 'Cluster']\n",
    "print('Number of clusters:', nclusters)"
   ]
  },
  {
   "cell_type": "code",
   "execution_count": 155,
   "metadata": {
    "collapsed": false
   },
   "outputs": [],
   "source": [
    "X = poi_all.loc[poi_train_, ['poiLon', 'poiLat']]"
   ]
  },
  {
   "cell_type": "code",
   "execution_count": 156,
   "metadata": {
    "collapsed": false
   },
   "outputs": [
    {
     "data": {
      "text/plain": [
       "KMeans(copy_x=True, init='k-means++', max_iter=300, n_clusters=5, n_init=10,\n",
       "    n_jobs=1, precompute_distances='auto', random_state=None, tol=0.0001,\n",
       "    verbose=0)"
      ]
     },
     "execution_count": 156,
     "metadata": {},
     "output_type": "execute_result"
    }
   ],
   "source": [
    "kmeans = KMeans(n_clusters=nclusters)\n",
    "kmeans.fit(X)"
   ]
  },
  {
   "cell_type": "code",
   "execution_count": 157,
   "metadata": {
    "collapsed": false
   },
   "outputs": [],
   "source": [
    "clusters = kmeans.predict(X)\n",
    "#clusters"
   ]
  },
  {
   "cell_type": "code",
   "execution_count": 158,
   "metadata": {
    "collapsed": false
   },
   "outputs": [],
   "source": [
    "poi_clusters = pd.DataFrame(data=clusters, index=poi_train_)\n",
    "poi_clusters.index.name = 'poiID'\n",
    "poi_clusters.rename(columns={0:'clusterID'}, inplace=True)\n",
    "#poi_clusters"
   ]
  },
  {
   "cell_type": "markdown",
   "metadata": {},
   "source": [
    "Scatter plot of POI coordinates with clustering results."
   ]
  },
  {
   "cell_type": "code",
   "execution_count": 159,
   "metadata": {
    "collapsed": false
   },
   "outputs": [],
   "source": [
    "diff = poi_all.loc[poi_train_, ['poiLon', 'poiLat']].max() - poi_all.loc[poi_train_, ['poiLon', 'poiLat']].min()\n",
    "ratio = diff['poiLon'] / diff['poiLat']\n",
    "#ratio"
   ]
  },
  {
   "cell_type": "code",
   "execution_count": 160,
   "metadata": {
    "collapsed": false
   },
   "outputs": [
    {
     "data": {
      "text/plain": [
       "<matplotlib.collections.PathCollection at 0x7efbcae60160>"
      ]
     },
     "execution_count": 160,
     "metadata": {},
     "output_type": "execute_result"
    },
    {
     "data": {
      "image/png": "[encoded data removed]",
      "text/plain": [
       "<matplotlib.figure.Figure at 0x7efbcac14710>"
      ]
     },
     "metadata": {},
     "output_type": "display_data"
    }
   ],
   "source": [
    "height = 4; width = int(round(ratio)*height)\n",
    "plt.figure(figsize=[width, height])\n",
    "plt.scatter(poi_all.loc[poi_train_, 'poiLon'], poi_all.loc[poi_train_, 'poiLat'], c=clusters, s=50)"
   ]
  },
  {
   "cell_type": "code",
   "execution_count": 161,
   "metadata": {
    "collapsed": false
   },
   "outputs": [],
   "source": [
    "transmat_neighbor = pd.DataFrame(data=np.zeros((nclusters, nclusters), dtype=np.float), \\\n",
    "                                 columns=np.arange(nclusters), index=np.arange(nclusters))"
   ]
  },
  {
   "cell_type": "markdown",
   "metadata": {},
   "source": [
    "Count the number of transitions between POIs in different clusters."
   ]
  },
  {
   "cell_type": "code",
   "execution_count": 162,
   "metadata": {
    "collapsed": false
   },
   "outputs": [],
   "source": [
    "for tid in trajid_set_all:\n",
    "    t = extract_traj(tid, traj_all)\n",
    "    if len(t) > 1:\n",
    "        for pi in range(len(t)-1):\n",
    "            p1 = t[pi]\n",
    "            p2 = t[pi+1]\n",
    "            c1 = poi_clusters.loc[p1, 'clusterID']\n",
    "            c2 = poi_clusters.loc[p2, 'clusterID']\n",
    "            transmat_neighbor.loc[c1, c2] += 1"
   ]
  },
  {
   "cell_type": "code",
   "execution_count": 163,
   "metadata": {
    "collapsed": false
   },
   "outputs": [
    {
     "data": {
      "text/html": [
       "<div>\n",
       "<table border=\"1\" class=\"dataframe\">\n",
       "  <thead>\n",
       "    <tr style=\"text-align: right;\">\n",
       "      <th></th>\n",
       "      <th>0</th>\n",
       "      <th>1</th>\n",
       "      <th>2</th>\n",
       "      <th>3</th>\n",
       "      <th>4</th>\n",
       "    </tr>\n",
       "  </thead>\n",
       "  <tbody>\n",
       "    <tr>\n",
       "      <th>0</th>\n",
       "      <td>632</td>\n",
       "      <td>0</td>\n",
       "      <td>12</td>\n",
       "      <td>24</td>\n",
       "      <td>299</td>\n",
       "    </tr>\n",
       "    <tr>\n",
       "      <th>1</th>\n",
       "      <td>0</td>\n",
       "      <td>0</td>\n",
       "      <td>0</td>\n",
       "      <td>0</td>\n",
       "      <td>0</td>\n",
       "    </tr>\n",
       "    <tr>\n",
       "      <th>2</th>\n",
       "      <td>18</td>\n",
       "      <td>0</td>\n",
       "      <td>12</td>\n",
       "      <td>0</td>\n",
       "      <td>9</td>\n",
       "    </tr>\n",
       "    <tr>\n",
       "      <th>3</th>\n",
       "      <td>22</td>\n",
       "      <td>0</td>\n",
       "      <td>0</td>\n",
       "      <td>6</td>\n",
       "      <td>6</td>\n",
       "    </tr>\n",
       "    <tr>\n",
       "      <th>4</th>\n",
       "      <td>273</td>\n",
       "      <td>0</td>\n",
       "      <td>14</td>\n",
       "      <td>4</td>\n",
       "      <td>581</td>\n",
       "    </tr>\n",
       "  </tbody>\n",
       "</table>\n",
       "</div>"
      ],
      "text/plain": [
       "     0  1   2   3    4\n",
       "0  632  0  12  24  299\n",
       "1    0  0   0   0    0\n",
       "2   18  0  12   0    9\n",
       "3   22  0   0   6    6\n",
       "4  273  0  14   4  581"
      ]
     },
     "execution_count": 163,
     "metadata": {},
     "output_type": "execute_result"
    }
   ],
   "source": [
    "transmat_neighbor"
   ]
  },
  {
   "cell_type": "markdown",
   "metadata": {},
   "source": [
    "Normalise each row to obtain transition probabilities."
   ]
  },
  {
   "cell_type": "code",
   "execution_count": 164,
   "metadata": {
    "collapsed": true
   },
   "outputs": [],
   "source": [
    "transmat_neighbor = normalise_transmat(transmat_neighbor)"
   ]
  },
  {
   "cell_type": "code",
   "execution_count": 165,
   "metadata": {
    "collapsed": false
   },
   "outputs": [
    {
     "data": {
      "text/html": [
       "<div>\n",
       "<table border=\"1\" class=\"dataframe\">\n",
       "  <thead>\n",
       "    <tr style=\"text-align: right;\">\n",
       "      <th></th>\n",
       "      <th>0</th>\n",
       "      <th>1</th>\n",
       "      <th>2</th>\n",
       "      <th>3</th>\n",
       "      <th>4</th>\n",
       "    </tr>\n",
       "  </thead>\n",
       "  <tbody>\n",
       "    <tr>\n",
       "      <th>0</th>\n",
       "      <td>0.648008</td>\n",
       "      <td>0.002451</td>\n",
       "      <td>0.014709</td>\n",
       "      <td>0.026966</td>\n",
       "      <td>0.307865</td>\n",
       "    </tr>\n",
       "    <tr>\n",
       "      <th>1</th>\n",
       "      <td>0.200000</td>\n",
       "      <td>0.200000</td>\n",
       "      <td>0.200000</td>\n",
       "      <td>0.200000</td>\n",
       "      <td>0.200000</td>\n",
       "    </tr>\n",
       "    <tr>\n",
       "      <th>2</th>\n",
       "      <td>0.412500</td>\n",
       "      <td>0.037500</td>\n",
       "      <td>0.287500</td>\n",
       "      <td>0.037500</td>\n",
       "      <td>0.225000</td>\n",
       "    </tr>\n",
       "    <tr>\n",
       "      <th>3</th>\n",
       "      <td>0.580000</td>\n",
       "      <td>0.030000</td>\n",
       "      <td>0.030000</td>\n",
       "      <td>0.180000</td>\n",
       "      <td>0.180000</td>\n",
       "    </tr>\n",
       "    <tr>\n",
       "      <th>4</th>\n",
       "      <td>0.312557</td>\n",
       "      <td>0.000913</td>\n",
       "      <td>0.016895</td>\n",
       "      <td>0.005479</td>\n",
       "      <td>0.664155</td>\n",
       "    </tr>\n",
       "  </tbody>\n",
       "</table>\n",
       "</div>"
      ],
      "text/plain": [
       "          0         1         2         3         4\n",
       "0  0.648008  0.002451  0.014709  0.026966  0.307865\n",
       "1  0.200000  0.200000  0.200000  0.200000  0.200000\n",
       "2  0.412500  0.037500  0.287500  0.037500  0.225000\n",
       "3  0.580000  0.030000  0.030000  0.180000  0.180000\n",
       "4  0.312557  0.000913  0.016895  0.005479  0.664155"
      ]
     },
     "execution_count": 165,
     "metadata": {},
     "output_type": "execute_result"
    }
   ],
   "source": [
    "transmat_neighbor"
   ]
  },
  {
   "cell_type": "markdown",
   "metadata": {},
   "source": [
    "<a id='sec2.7'></a>"
   ]
  },
  {
   "cell_type": "markdown",
   "metadata": {},
   "source": [
    "## 2.7 Transition Matrix between POIs"
   ]
  },
  {
   "cell_type": "markdown",
   "metadata": {},
   "source": [
    "Approximate transition probabilities (matrix) between different POI features (vector) using the [Kronecker product](https://en.wikipedia.org/wiki/Kronecker_product) of individual transition matrix corresponding to each feature, i.e., POI category, POI popularity (discritized), POI average visit duration (discritized) and POI neighborhoods (clusters)."
   ]
  },
  {
   "cell_type": "code",
   "execution_count": 166,
   "metadata": {
    "collapsed": false
   },
   "outputs": [],
   "source": [
    "transmat_value = transmat_cat.values\n",
    "for transmat in [transmat_pop, transmat_visit, transmat_duration, transmat_neighbor]:\n",
    "    transmat_value = kron(transmat_value, transmat.values)"
   ]
  },
  {
   "cell_type": "markdown",
   "metadata": {},
   "source": [
    "Index of Kronecker product."
   ]
  },
  {
   "cell_type": "code",
   "execution_count": 167,
   "metadata": {
    "collapsed": true
   },
   "outputs": [],
   "source": [
    "transmat_ix = list(itertools.product(transmat_cat.index, transmat_pop.index, transmat_visit.index, \\\n",
    "                                     transmat_duration.index, transmat_neighbor.index))"
   ]
  },
  {
   "cell_type": "code",
   "execution_count": 168,
   "metadata": {
    "collapsed": false
   },
   "outputs": [],
   "source": [
    "transmat_feature = pd.DataFrame(data=transmat_value, index=transmat_ix, columns=transmat_ix)\n",
    "transmat_feature.index.name = '(poiTheme, popularity, avgDuration, clusterID)'\n",
    "#transmat_feature.head()"
   ]
  },
  {
   "cell_type": "code",
   "execution_count": 169,
   "metadata": {
    "collapsed": false
   },
   "outputs": [
    {
     "name": "stdout",
     "output_type": "stream",
     "text": [
      "(9, 9)\n",
      "(5, 5)\n",
      "(4, 4)\n",
      "(3, 3)\n",
      "(5, 5)\n",
      "(2700, 2700)\n"
     ]
    }
   ],
   "source": [
    "print(transmat_cat.shape)\n",
    "print(transmat_pop.shape)\n",
    "print(transmat_visit.shape)\n",
    "print(transmat_duration.shape)\n",
    "print(transmat_neighbor.shape)\n",
    "print(transmat_feature.shape)"
   ]
  },
  {
   "cell_type": "code",
   "execution_count": 170,
   "metadata": {
    "collapsed": false
   },
   "outputs": [
    {
     "data": {
      "text/html": [
       "<div>\n",
       "<table border=\"1\" class=\"dataframe\">\n",
       "  <thead>\n",
       "    <tr style=\"text-align: right;\">\n",
       "      <th></th>\n",
       "      <th>(City precincts, 1, 1, 1, 0)</th>\n",
       "      <th>(City precincts, 1, 1, 1, 1)</th>\n",
       "      <th>(City precincts, 1, 1, 1, 2)</th>\n",
       "      <th>(City precincts, 1, 1, 1, 3)</th>\n",
       "      <th>(City precincts, 1, 1, 1, 4)</th>\n",
       "      <th>(City precincts, 1, 1, 2, 0)</th>\n",
       "      <th>(City precincts, 1, 1, 2, 1)</th>\n",
       "      <th>(City precincts, 1, 1, 2, 2)</th>\n",
       "      <th>(City precincts, 1, 1, 2, 3)</th>\n",
       "      <th>(City precincts, 1, 1, 2, 4)</th>\n",
       "      <th>...</th>\n",
       "      <th>(Transport, 5, 4, 2, 0)</th>\n",
       "      <th>(Transport, 5, 4, 2, 1)</th>\n",
       "      <th>(Transport, 5, 4, 2, 2)</th>\n",
       "      <th>(Transport, 5, 4, 2, 3)</th>\n",
       "      <th>(Transport, 5, 4, 2, 4)</th>\n",
       "      <th>(Transport, 5, 4, 3, 0)</th>\n",
       "      <th>(Transport, 5, 4, 3, 1)</th>\n",
       "      <th>(Transport, 5, 4, 3, 2)</th>\n",
       "      <th>(Transport, 5, 4, 3, 3)</th>\n",
       "      <th>(Transport, 5, 4, 3, 4)</th>\n",
       "    </tr>\n",
       "    <tr>\n",
       "      <th>(poiTheme, popularity, avgDuration, clusterID)</th>\n",
       "      <th></th>\n",
       "      <th></th>\n",
       "      <th></th>\n",
       "      <th></th>\n",
       "      <th></th>\n",
       "      <th></th>\n",
       "      <th></th>\n",
       "      <th></th>\n",
       "      <th></th>\n",
       "      <th></th>\n",
       "      <th></th>\n",
       "      <th></th>\n",
       "      <th></th>\n",
       "      <th></th>\n",
       "      <th></th>\n",
       "      <th></th>\n",
       "      <th></th>\n",
       "      <th></th>\n",
       "      <th></th>\n",
       "      <th></th>\n",
       "      <th></th>\n",
       "    </tr>\n",
       "  </thead>\n",
       "  <tbody>\n",
       "    <tr>\n",
       "      <th>(City precincts, 1, 1, 1, 0)</th>\n",
       "      <td>0.000039</td>\n",
       "      <td>1.459215e-07</td>\n",
       "      <td>8.755290e-07</td>\n",
       "      <td>1.605136e-06</td>\n",
       "      <td>0.000018</td>\n",
       "      <td>0.000039</td>\n",
       "      <td>1.459215e-07</td>\n",
       "      <td>8.755290e-07</td>\n",
       "      <td>1.605136e-06</td>\n",
       "      <td>0.000018</td>\n",
       "      <td>...</td>\n",
       "      <td>0.000109</td>\n",
       "      <td>4.134442e-07</td>\n",
       "      <td>0.000002</td>\n",
       "      <td>4.547887e-06</td>\n",
       "      <td>0.000052</td>\n",
       "      <td>0.000656</td>\n",
       "      <td>2.480665e-06</td>\n",
       "      <td>0.000015</td>\n",
       "      <td>0.000027</td>\n",
       "      <td>0.000312</td>\n",
       "    </tr>\n",
       "    <tr>\n",
       "      <th>(City precincts, 1, 1, 1, 1)</th>\n",
       "      <td>0.000012</td>\n",
       "      <td>1.190476e-05</td>\n",
       "      <td>1.190476e-05</td>\n",
       "      <td>1.190476e-05</td>\n",
       "      <td>0.000012</td>\n",
       "      <td>0.000012</td>\n",
       "      <td>1.190476e-05</td>\n",
       "      <td>1.190476e-05</td>\n",
       "      <td>1.190476e-05</td>\n",
       "      <td>0.000012</td>\n",
       "      <td>...</td>\n",
       "      <td>0.000034</td>\n",
       "      <td>3.373016e-05</td>\n",
       "      <td>0.000034</td>\n",
       "      <td>3.373016e-05</td>\n",
       "      <td>0.000034</td>\n",
       "      <td>0.000202</td>\n",
       "      <td>2.023810e-04</td>\n",
       "      <td>0.000202</td>\n",
       "      <td>0.000202</td>\n",
       "      <td>0.000202</td>\n",
       "    </tr>\n",
       "    <tr>\n",
       "      <th>(City precincts, 1, 1, 1, 2)</th>\n",
       "      <td>0.000025</td>\n",
       "      <td>2.232143e-06</td>\n",
       "      <td>1.711310e-05</td>\n",
       "      <td>2.232143e-06</td>\n",
       "      <td>0.000013</td>\n",
       "      <td>0.000025</td>\n",
       "      <td>2.232143e-06</td>\n",
       "      <td>1.711310e-05</td>\n",
       "      <td>2.232143e-06</td>\n",
       "      <td>0.000013</td>\n",
       "      <td>...</td>\n",
       "      <td>0.000070</td>\n",
       "      <td>6.324405e-06</td>\n",
       "      <td>0.000048</td>\n",
       "      <td>6.324405e-06</td>\n",
       "      <td>0.000038</td>\n",
       "      <td>0.000417</td>\n",
       "      <td>3.794643e-05</td>\n",
       "      <td>0.000291</td>\n",
       "      <td>0.000038</td>\n",
       "      <td>0.000228</td>\n",
       "    </tr>\n",
       "    <tr>\n",
       "      <th>(City precincts, 1, 1, 1, 3)</th>\n",
       "      <td>0.000035</td>\n",
       "      <td>1.785714e-06</td>\n",
       "      <td>1.785714e-06</td>\n",
       "      <td>1.071429e-05</td>\n",
       "      <td>0.000011</td>\n",
       "      <td>0.000035</td>\n",
       "      <td>1.785714e-06</td>\n",
       "      <td>1.785714e-06</td>\n",
       "      <td>1.071429e-05</td>\n",
       "      <td>0.000011</td>\n",
       "      <td>...</td>\n",
       "      <td>0.000098</td>\n",
       "      <td>5.059524e-06</td>\n",
       "      <td>0.000005</td>\n",
       "      <td>3.035714e-05</td>\n",
       "      <td>0.000030</td>\n",
       "      <td>0.000587</td>\n",
       "      <td>3.035714e-05</td>\n",
       "      <td>0.000030</td>\n",
       "      <td>0.000182</td>\n",
       "      <td>0.000182</td>\n",
       "    </tr>\n",
       "    <tr>\n",
       "      <th>(City precincts, 1, 1, 1, 4)</th>\n",
       "      <td>0.000019</td>\n",
       "      <td>5.435964e-08</td>\n",
       "      <td>1.005653e-06</td>\n",
       "      <td>3.261579e-07</td>\n",
       "      <td>0.000040</td>\n",
       "      <td>0.000019</td>\n",
       "      <td>5.435964e-08</td>\n",
       "      <td>1.005653e-06</td>\n",
       "      <td>3.261579e-07</td>\n",
       "      <td>0.000040</td>\n",
       "      <td>...</td>\n",
       "      <td>0.000053</td>\n",
       "      <td>1.540190e-07</td>\n",
       "      <td>0.000003</td>\n",
       "      <td>9.241139e-07</td>\n",
       "      <td>0.000112</td>\n",
       "      <td>0.000316</td>\n",
       "      <td>9.241139e-07</td>\n",
       "      <td>0.000017</td>\n",
       "      <td>0.000006</td>\n",
       "      <td>0.000672</td>\n",
       "    </tr>\n",
       "  </tbody>\n",
       "</table>\n",
       "<p>5 rows × 2700 columns</p>\n",
       "</div>"
      ],
      "text/plain": [
       "                                                (City precincts, 1, 1, 1, 0)  \\\n",
       "(poiTheme, popularity, avgDuration, clusterID)                                 \n",
       "(City precincts, 1, 1, 1, 0)                                        0.000039   \n",
       "(City precincts, 1, 1, 1, 1)                                        0.000012   \n",
       "(City precincts, 1, 1, 1, 2)                                        0.000025   \n",
       "(City precincts, 1, 1, 1, 3)                                        0.000035   \n",
       "(City precincts, 1, 1, 1, 4)                                        0.000019   \n",
       "\n",
       "                                                (City precincts, 1, 1, 1, 1)  \\\n",
       "(poiTheme, popularity, avgDuration, clusterID)                                 \n",
       "(City precincts, 1, 1, 1, 0)                                    1.459215e-07   \n",
       "(City precincts, 1, 1, 1, 1)                                    1.190476e-05   \n",
       "(City precincts, 1, 1, 1, 2)                                    2.232143e-06   \n",
       "(City precincts, 1, 1, 1, 3)                                    1.785714e-06   \n",
       "(City precincts, 1, 1, 1, 4)                                    5.435964e-08   \n",
       "\n",
       "                                                (City precincts, 1, 1, 1, 2)  \\\n",
       "(poiTheme, popularity, avgDuration, clusterID)                                 \n",
       "(City precincts, 1, 1, 1, 0)                                    8.755290e-07   \n",
       "(City precincts, 1, 1, 1, 1)                                    1.190476e-05   \n",
       "(City precincts, 1, 1, 1, 2)                                    1.711310e-05   \n",
       "(City precincts, 1, 1, 1, 3)                                    1.785714e-06   \n",
       "(City precincts, 1, 1, 1, 4)                                    1.005653e-06   \n",
       "\n",
       "                                                (City precincts, 1, 1, 1, 3)  \\\n",
       "(poiTheme, popularity, avgDuration, clusterID)                                 \n",
       "(City precincts, 1, 1, 1, 0)                                    1.605136e-06   \n",
       "(City precincts, 1, 1, 1, 1)                                    1.190476e-05   \n",
       "(City precincts, 1, 1, 1, 2)                                    2.232143e-06   \n",
       "(City precincts, 1, 1, 1, 3)                                    1.071429e-05   \n",
       "(City precincts, 1, 1, 1, 4)                                    3.261579e-07   \n",
       "\n",
       "                                                (City precincts, 1, 1, 1, 4)  \\\n",
       "(poiTheme, popularity, avgDuration, clusterID)                                 \n",
       "(City precincts, 1, 1, 1, 0)                                        0.000018   \n",
       "(City precincts, 1, 1, 1, 1)                                        0.000012   \n",
       "(City precincts, 1, 1, 1, 2)                                        0.000013   \n",
       "(City precincts, 1, 1, 1, 3)                                        0.000011   \n",
       "(City precincts, 1, 1, 1, 4)                                        0.000040   \n",
       "\n",
       "                                                (City precincts, 1, 1, 2, 0)  \\\n",
       "(poiTheme, popularity, avgDuration, clusterID)                                 \n",
       "(City precincts, 1, 1, 1, 0)                                        0.000039   \n",
       "(City precincts, 1, 1, 1, 1)                                        0.000012   \n",
       "(City precincts, 1, 1, 1, 2)                                        0.000025   \n",
       "(City precincts, 1, 1, 1, 3)                                        0.000035   \n",
       "(City precincts, 1, 1, 1, 4)                                        0.000019   \n",
       "\n",
       "                                                (City precincts, 1, 1, 2, 1)  \\\n",
       "(poiTheme, popularity, avgDuration, clusterID)                                 \n",
       "(City precincts, 1, 1, 1, 0)                                    1.459215e-07   \n",
       "(City precincts, 1, 1, 1, 1)                                    1.190476e-05   \n",
       "(City precincts, 1, 1, 1, 2)                                    2.232143e-06   \n",
       "(City precincts, 1, 1, 1, 3)                                    1.785714e-06   \n",
       "(City precincts, 1, 1, 1, 4)                                    5.435964e-08   \n",
       "\n",
       "                                                (City precincts, 1, 1, 2, 2)  \\\n",
       "(poiTheme, popularity, avgDuration, clusterID)                                 \n",
       "(City precincts, 1, 1, 1, 0)                                    8.755290e-07   \n",
       "(City precincts, 1, 1, 1, 1)                                    1.190476e-05   \n",
       "(City precincts, 1, 1, 1, 2)                                    1.711310e-05   \n",
       "(City precincts, 1, 1, 1, 3)                                    1.785714e-06   \n",
       "(City precincts, 1, 1, 1, 4)                                    1.005653e-06   \n",
       "\n",
       "                                                (City precincts, 1, 1, 2, 3)  \\\n",
       "(poiTheme, popularity, avgDuration, clusterID)                                 \n",
       "(City precincts, 1, 1, 1, 0)                                    1.605136e-06   \n",
       "(City precincts, 1, 1, 1, 1)                                    1.190476e-05   \n",
       "(City precincts, 1, 1, 1, 2)                                    2.232143e-06   \n",
       "(City precincts, 1, 1, 1, 3)                                    1.071429e-05   \n",
       "(City precincts, 1, 1, 1, 4)                                    3.261579e-07   \n",
       "\n",
       "                                                (City precincts, 1, 1, 2, 4)  \\\n",
       "(poiTheme, popularity, avgDuration, clusterID)                                 \n",
       "(City precincts, 1, 1, 1, 0)                                        0.000018   \n",
       "(City precincts, 1, 1, 1, 1)                                        0.000012   \n",
       "(City precincts, 1, 1, 1, 2)                                        0.000013   \n",
       "(City precincts, 1, 1, 1, 3)                                        0.000011   \n",
       "(City precincts, 1, 1, 1, 4)                                        0.000040   \n",
       "\n",
       "                                                         ...             \\\n",
       "(poiTheme, popularity, avgDuration, clusterID)           ...              \n",
       "(City precincts, 1, 1, 1, 0)                             ...              \n",
       "(City precincts, 1, 1, 1, 1)                             ...              \n",
       "(City precincts, 1, 1, 1, 2)                             ...              \n",
       "(City precincts, 1, 1, 1, 3)                             ...              \n",
       "(City precincts, 1, 1, 1, 4)                             ...              \n",
       "\n",
       "                                                (Transport, 5, 4, 2, 0)  \\\n",
       "(poiTheme, popularity, avgDuration, clusterID)                            \n",
       "(City precincts, 1, 1, 1, 0)                                   0.000109   \n",
       "(City precincts, 1, 1, 1, 1)                                   0.000034   \n",
       "(City precincts, 1, 1, 1, 2)                                   0.000070   \n",
       "(City precincts, 1, 1, 1, 3)                                   0.000098   \n",
       "(City precincts, 1, 1, 1, 4)                                   0.000053   \n",
       "\n",
       "                                                (Transport, 5, 4, 2, 1)  \\\n",
       "(poiTheme, popularity, avgDuration, clusterID)                            \n",
       "(City precincts, 1, 1, 1, 0)                               4.134442e-07   \n",
       "(City precincts, 1, 1, 1, 1)                               3.373016e-05   \n",
       "(City precincts, 1, 1, 1, 2)                               6.324405e-06   \n",
       "(City precincts, 1, 1, 1, 3)                               5.059524e-06   \n",
       "(City precincts, 1, 1, 1, 4)                               1.540190e-07   \n",
       "\n",
       "                                                (Transport, 5, 4, 2, 2)  \\\n",
       "(poiTheme, popularity, avgDuration, clusterID)                            \n",
       "(City precincts, 1, 1, 1, 0)                                   0.000002   \n",
       "(City precincts, 1, 1, 1, 1)                                   0.000034   \n",
       "(City precincts, 1, 1, 1, 2)                                   0.000048   \n",
       "(City precincts, 1, 1, 1, 3)                                   0.000005   \n",
       "(City precincts, 1, 1, 1, 4)                                   0.000003   \n",
       "\n",
       "                                                (Transport, 5, 4, 2, 3)  \\\n",
       "(poiTheme, popularity, avgDuration, clusterID)                            \n",
       "(City precincts, 1, 1, 1, 0)                               4.547887e-06   \n",
       "(City precincts, 1, 1, 1, 1)                               3.373016e-05   \n",
       "(City precincts, 1, 1, 1, 2)                               6.324405e-06   \n",
       "(City precincts, 1, 1, 1, 3)                               3.035714e-05   \n",
       "(City precincts, 1, 1, 1, 4)                               9.241139e-07   \n",
       "\n",
       "                                                (Transport, 5, 4, 2, 4)  \\\n",
       "(poiTheme, popularity, avgDuration, clusterID)                            \n",
       "(City precincts, 1, 1, 1, 0)                                   0.000052   \n",
       "(City precincts, 1, 1, 1, 1)                                   0.000034   \n",
       "(City precincts, 1, 1, 1, 2)                                   0.000038   \n",
       "(City precincts, 1, 1, 1, 3)                                   0.000030   \n",
       "(City precincts, 1, 1, 1, 4)                                   0.000112   \n",
       "\n",
       "                                                (Transport, 5, 4, 3, 0)  \\\n",
       "(poiTheme, popularity, avgDuration, clusterID)                            \n",
       "(City precincts, 1, 1, 1, 0)                                   0.000656   \n",
       "(City precincts, 1, 1, 1, 1)                                   0.000202   \n",
       "(City precincts, 1, 1, 1, 2)                                   0.000417   \n",
       "(City precincts, 1, 1, 1, 3)                                   0.000587   \n",
       "(City precincts, 1, 1, 1, 4)                                   0.000316   \n",
       "\n",
       "                                                (Transport, 5, 4, 3, 1)  \\\n",
       "(poiTheme, popularity, avgDuration, clusterID)                            \n",
       "(City precincts, 1, 1, 1, 0)                               2.480665e-06   \n",
       "(City precincts, 1, 1, 1, 1)                               2.023810e-04   \n",
       "(City precincts, 1, 1, 1, 2)                               3.794643e-05   \n",
       "(City precincts, 1, 1, 1, 3)                               3.035714e-05   \n",
       "(City precincts, 1, 1, 1, 4)                               9.241139e-07   \n",
       "\n",
       "                                                (Transport, 5, 4, 3, 2)  \\\n",
       "(poiTheme, popularity, avgDuration, clusterID)                            \n",
       "(City precincts, 1, 1, 1, 0)                                   0.000015   \n",
       "(City precincts, 1, 1, 1, 1)                                   0.000202   \n",
       "(City precincts, 1, 1, 1, 2)                                   0.000291   \n",
       "(City precincts, 1, 1, 1, 3)                                   0.000030   \n",
       "(City precincts, 1, 1, 1, 4)                                   0.000017   \n",
       "\n",
       "                                                (Transport, 5, 4, 3, 3)  \\\n",
       "(poiTheme, popularity, avgDuration, clusterID)                            \n",
       "(City precincts, 1, 1, 1, 0)                                   0.000027   \n",
       "(City precincts, 1, 1, 1, 1)                                   0.000202   \n",
       "(City precincts, 1, 1, 1, 2)                                   0.000038   \n",
       "(City precincts, 1, 1, 1, 3)                                   0.000182   \n",
       "(City precincts, 1, 1, 1, 4)                                   0.000006   \n",
       "\n",
       "                                                (Transport, 5, 4, 3, 4)  \n",
       "(poiTheme, popularity, avgDuration, clusterID)                           \n",
       "(City precincts, 1, 1, 1, 0)                                   0.000312  \n",
       "(City precincts, 1, 1, 1, 1)                                   0.000202  \n",
       "(City precincts, 1, 1, 1, 2)                                   0.000228  \n",
       "(City precincts, 1, 1, 1, 3)                                   0.000182  \n",
       "(City precincts, 1, 1, 1, 4)                                   0.000672  \n",
       "\n",
       "[5 rows x 2700 columns]"
      ]
     },
     "execution_count": 170,
     "metadata": {},
     "output_type": "execute_result"
    }
   ],
   "source": [
    "transmat_feature.head()"
   ]
  },
  {
   "cell_type": "markdown",
   "metadata": {},
   "source": [
    "The result of [Kronecker product](https://en.wikipedia.org/wiki/Kronecker_product) should be normalised to obtain transition probabilities."
   ]
  },
  {
   "cell_type": "code",
   "execution_count": 171,
   "metadata": {
    "collapsed": false
   },
   "outputs": [],
   "source": [
    "#from scipy.misc import logsumexp\n",
    "logtransmat_feature = np.log(transmat_feature)\n",
    "for row in range(logtransmat_feature.shape[0]):\n",
    "    logtransmat_feature.iloc[row] -= logsumexp(logtransmat_feature.iloc[row])\n",
    "#logtransmat_feature.head()"
   ]
  },
  {
   "cell_type": "code",
   "execution_count": 172,
   "metadata": {
    "collapsed": false
   },
   "outputs": [],
   "source": [
    "#logtransmat_feature.max().sort_values(ascending=False).head(10)"
   ]
  },
  {
   "cell_type": "code",
   "execution_count": 173,
   "metadata": {
    "collapsed": false
   },
   "outputs": [
    {
     "data": {
      "text/plain": [
       "<matplotlib.axes._subplots.AxesSubplot at 0x7efbcad00c18>"
      ]
     },
     "execution_count": 173,
     "metadata": {},
     "output_type": "execute_result"
    },
    {
     "data": {
      "image/png": "[encoded data removed]",
      "text/plain": [
       "<matplotlib.figure.Figure at 0x7efbcabbb518>"
      ]
     },
     "metadata": {},
     "output_type": "display_data"
    }
   ],
   "source": [
    "plt.figure(figsize=[18, 12])\n",
    "sns.heatmap(np.exp(logtransmat_feature), xticklabels=False, yticklabels=False)"
   ]
  },
  {
   "cell_type": "markdown",
   "metadata": {},
   "source": [
    "Deal with features without corresponding POIs and feature with more than one corresponding POIs. (*Before Normalisation*)\n",
    "- For features without corresponding POIs, just remove the rows and columns from the matrix obtained by Kronecker product.\n",
    "- For different POIs with the exact same feature, \n",
    "  - Let POIs with the same feature as a POI group,\n",
    "  - The *incoming* **transition value (i.e., unnormalised transition probability)** of this POI group \n",
    "    should be divided uniformly among the group members, \n",
    "    *which corresponds to choose a group member uniformly at random in the incoming case*.\n",
    "  - The *outgoing* transition value should be duplicated (i.e., the same) among all group members, \n",
    "    **as we were already in that group in the outgoing case**.\n",
    "  - For each POI in the group, the allocation transition value of the *self-loop of the POI group* is similar to \n",
    "    that in the *outgoing* case, **as we were already in that group**, so just duplicate and then divide uniformly among \n",
    "    the transitions from this POI to other POIs in the same group, \n",
    "    *which corresponds to choose a outgoing transition uniformly at random from all outgoing transitions\n",
    "    excluding the self-loop of this POI*.\n",
    "- **Concretely**, for a POI group with $n$ POIs, \n",
    "    1. If the *incoming* transition value of POI group is $m_1$,\n",
    "       then the corresponding *incoming* transition value for each group member is $\\frac{m_1}{n}$.\n",
    "    1. If the *outgoing* transition value of POI group is $m_2$,\n",
    "       then the corresponding *outgoing* transition value for each group member is also $m_2$.\n",
    "    1. If the transition value of *self-loop of the POI group* is $m_3$,\n",
    "       then transition value of *self-loop of individual POIs* should be $0$,  \n",
    "       and *other in-group transitions* with value $\\frac{m_3}{n-1}$\n",
    "       as the total number of outgoing transitions to other POIs in the same group is $n-1$ (excluding the self-loop),\n",
    "       i.e. $n-1$ choose $1$.\n",
    "       \n",
    "**NOTE**: execute the above division before or after row normalisation will lead to the same result, *as the division itself does NOT change the normalising constant of each row (i.e., the sum of each row before normalising)*."
   ]
  },
  {
   "cell_type": "code",
   "execution_count": 174,
   "metadata": {
    "collapsed": true
   },
   "outputs": [],
   "source": [
    "feature_names = ['poiCat', 'popularity', 'nVisit', 'avgDuration', 'clusterID']\n",
    "poi_features = pd.DataFrame(data=np.zeros((len(poi_train_), len(feature_names))), \\\n",
    "                            columns=feature_names, index=poi_train_)\n",
    "poi_features.index.name = 'poiID'"
   ]
  },
  {
   "cell_type": "code",
   "execution_count": 175,
   "metadata": {
    "collapsed": true
   },
   "outputs": [],
   "source": [
    "poi_features['poiCat'] = poi_info_.loc[poi_train_, 'poiCat']\n",
    "poi_features['popularity'] = np.digitize(poi_info_.loc[poi_train_, 'popularity'], logbins_pop)\n",
    "poi_features['nVisit'] = np.digitize(poi_info_.loc[poi_train_, 'nVisit'], logbins_visit)\n",
    "poi_features['avgDuration'] = np.digitize(poi_info_.loc[poi_train_, 'avgDuration'], logbins_duration)\n",
    "poi_features['clusterID'] = poi_clusters.loc[poi_train_, 'clusterID']"
   ]
  },
  {
   "cell_type": "code",
   "execution_count": 176,
   "metadata": {
    "collapsed": true
   },
   "outputs": [],
   "source": [
    "poi_logtransmat = pd.DataFrame(data=np.zeros((len(poi_train_), len(poi_train_)), dtype=np.float), \\\n",
    "                               columns=poi_train_, index=poi_train_)"
   ]
  },
  {
   "cell_type": "markdown",
   "metadata": {},
   "source": [
    "Copy transition values between features with corresponding POIs."
   ]
  },
  {
   "cell_type": "code",
   "execution_count": 177,
   "metadata": {
    "collapsed": false
   },
   "outputs": [],
   "source": [
    "for p1 in poi_logtransmat.index:\n",
    "    rix = tuple(poi_features.loc[p1])\n",
    "    for p2 in poi_logtransmat.columns:\n",
    "        cix = tuple(poi_features.loc[p2])\n",
    "        value_ = transmat_feature.loc[(rix,), (cix,)]\n",
    "        #print(value_.values)\n",
    "        poi_logtransmat.loc[p1, p2] = value_.values[0, 0]\n",
    "#poi_logtransmat.head()"
   ]
  },
  {
   "cell_type": "markdown",
   "metadata": {},
   "source": [
    "Deal with POI features that correspond to more than once POIs."
   ]
  },
  {
   "cell_type": "code",
   "execution_count": 178,
   "metadata": {
    "collapsed": false
   },
   "outputs": [
    {
     "data": {
      "text/plain": [
       "{('City precincts', 2, 2, 3, 4): [5, 6],\n",
       " ('City precincts', 3, 3, 2, 0): [3],\n",
       " ('City precincts', 3, 3, 2, 4): [0],\n",
       " ('City precincts', 3, 3, 3, 0): [4, 7],\n",
       " ('City precincts', 3, 3, 3, 3): [1],\n",
       " ('City precincts', 4, 3, 3, 4): [2],\n",
       " ('Entertainment', 3, 3, 3, 0): [28],\n",
       " ('Entertainment', 4, 3, 3, 0): [25, 27],\n",
       " ('Entertainment', 4, 3, 3, 2): [26],\n",
       " ('Institutions', 2, 2, 2, 4): [43],\n",
       " ('Institutions', 2, 2, 3, 4): [33],\n",
       " ('Institutions', 3, 3, 2, 0): [42],\n",
       " ('Institutions', 3, 3, 3, 0): [36, 37, 38],\n",
       " ('Institutions', 3, 3, 3, 4): [34, 39],\n",
       " ('Institutions', 4, 3, 3, 0): [41],\n",
       " ('Institutions', 4, 3, 3, 4): [40],\n",
       " ('Institutions', 4, 4, 3, 0): [32, 35],\n",
       " ('Parks and spaces', 1, 3, 1, 0): [77],\n",
       " ('Parks and spaces', 2, 2, 2, 4): [79],\n",
       " ('Parks and spaces', 2, 2, 3, 2): [66],\n",
       " ('Parks and spaces', 2, 2, 3, 4): [74],\n",
       " ('Parks and spaces', 3, 2, 2, 4): [72],\n",
       " ('Parks and spaces', 3, 2, 3, 4): [75, 76, 78],\n",
       " ('Parks and spaces', 3, 3, 2, 0): [69, 73],\n",
       " ('Parks and spaces', 3, 3, 3, 4): [67],\n",
       " ('Parks and spaces', 4, 3, 3, 0): [70],\n",
       " ('Parks and spaces', 4, 3, 3, 4): [68],\n",
       " ('Parks and spaces', 5, 4, 3, 4): [71],\n",
       " ('Public galleries', 2, 2, 3, 0): [30],\n",
       " ('Public galleries', 3, 2, 2, 4): [29],\n",
       " ('Public galleries', 4, 3, 3, 4): [31],\n",
       " ('Shopping', 2, 2, 2, 4): [10],\n",
       " ('Shopping', 3, 2, 3, 2): [12],\n",
       " ('Shopping', 3, 3, 3, 0): [16, 17, 18, 19, 21, 23, 24],\n",
       " ('Shopping', 3, 3, 3, 2): [20],\n",
       " ('Shopping', 4, 3, 2, 0): [13, 15],\n",
       " ('Shopping', 4, 3, 3, 0): [8, 11, 14],\n",
       " ('Shopping', 4, 4, 3, 0): [9, 22],\n",
       " ('Sports stadiums', 2, 1, 3, 2): [60],\n",
       " ('Sports stadiums', 2, 2, 3, 0): [65],\n",
       " ('Sports stadiums', 2, 2, 3, 2): [58, 59],\n",
       " ('Sports stadiums', 2, 2, 3, 3): [61],\n",
       " ('Sports stadiums', 2, 2, 3, 4): [52, 62],\n",
       " ('Sports stadiums', 3, 2, 3, 4): [55, 56],\n",
       " ('Sports stadiums', 3, 3, 3, 3): [53],\n",
       " ('Sports stadiums', 3, 3, 3, 4): [63],\n",
       " ('Sports stadiums', 4, 3, 3, 4): [57],\n",
       " ('Structures', 3, 2, 3, 3): [47],\n",
       " ('Structures', 3, 3, 3, 0): [46],\n",
       " ('Structures', 3, 3, 3, 4): [51],\n",
       " ('Structures', 4, 3, 3, 0): [48],\n",
       " ('Structures', 4, 3, 3, 4): [44, 45, 49],\n",
       " ('Structures', 4, 4, 3, 4): [50],\n",
       " ('Transport', 1, 1, 1, 1): [83],\n",
       " ('Transport', 2, 2, 2, 3): [86],\n",
       " ('Transport', 2, 2, 3, 3): [80],\n",
       " ('Transport', 4, 3, 2, 0): [85],\n",
       " ('Transport', 4, 3, 3, 0): [84],\n",
       " ('Transport', 4, 3, 3, 4): [81],\n",
       " ('Transport', 4, 4, 3, 4): [82]}"
      ]
     },
     "execution_count": 178,
     "metadata": {},
     "output_type": "execute_result"
    }
   ],
   "source": [
    "features_dup = dict()\n",
    "for poi in poi_features.index:\n",
    "    key = tuple(poi_features.loc[poi])\n",
    "    if key in features_dup:\n",
    "        features_dup[key].append(poi)\n",
    "    else:\n",
    "        features_dup[key] = [poi]\n",
    "features_dup"
   ]
  },
  {
   "cell_type": "code",
   "execution_count": 179,
   "metadata": {
    "collapsed": true
   },
   "outputs": [],
   "source": [
    "for feature in sorted(features_dup.keys()):\n",
    "    n = len(features_dup[feature])\n",
    "    if n > 1:\n",
    "        group = features_dup[feature]\n",
    "        v1 = poi_logtransmat.loc[group[0], group[0]]  # transition value of self-loop of POI group\n",
    "        \n",
    "        # divide incoming transition value (i.e. unnormalised transition probability) uniformly among group members\n",
    "        for poi in group:\n",
    "            poi_logtransmat[poi] /= n\n",
    "        \n",
    "        # outgoing transition value has already been duplicated (value copied above)\n",
    "        \n",
    "        # duplicate & divide transition value of self-loop of POI group uniformly among all outgoing transitions,\n",
    "        # from a POI to all other POIs in the same group (excluding POI self-loop)\n",
    "        v2 = v1 / (n - 1)\n",
    "        for pair in itertools.permutations(group, 2):\n",
    "            poi_logtransmat.loc[pair[0], pair[1]] = v2"
   ]
  },
  {
   "cell_type": "markdown",
   "metadata": {},
   "source": [
    "Make the transition value of all self-loops of POIs to $0$."
   ]
  },
  {
   "cell_type": "code",
   "execution_count": 180,
   "metadata": {
    "collapsed": true
   },
   "outputs": [],
   "source": [
    "for p1 in poi_logtransmat.index:\n",
    "    poi_logtransmat.loc[p1, p1] = 0\n",
    "#poi_logtransmat.head()"
   ]
  },
  {
   "cell_type": "markdown",
   "metadata": {},
   "source": [
    "Normalise and compute log probability."
   ]
  },
  {
   "cell_type": "code",
   "execution_count": 181,
   "metadata": {
    "collapsed": false
   },
   "outputs": [
    {
     "data": {
      "text/html": [
       "<div>\n",
       "<table border=\"1\" class=\"dataframe\">\n",
       "  <thead>\n",
       "    <tr style=\"text-align: right;\">\n",
       "      <th></th>\n",
       "      <th>0</th>\n",
       "      <th>1</th>\n",
       "      <th>2</th>\n",
       "      <th>3</th>\n",
       "      <th>4</th>\n",
       "      <th>5</th>\n",
       "      <th>6</th>\n",
       "      <th>7</th>\n",
       "      <th>8</th>\n",
       "      <th>9</th>\n",
       "      <th>...</th>\n",
       "      <th>77</th>\n",
       "      <th>78</th>\n",
       "      <th>79</th>\n",
       "      <th>80</th>\n",
       "      <th>81</th>\n",
       "      <th>82</th>\n",
       "      <th>83</th>\n",
       "      <th>84</th>\n",
       "      <th>85</th>\n",
       "      <th>86</th>\n",
       "    </tr>\n",
       "  </thead>\n",
       "  <tbody>\n",
       "    <tr>\n",
       "      <th>0</th>\n",
       "      <td>-inf</td>\n",
       "      <td>-4.017952</td>\n",
       "      <td>-1.626725</td>\n",
       "      <td>-3.325202</td>\n",
       "      <td>-2.562789</td>\n",
       "      <td>-3.894406</td>\n",
       "      <td>-3.894406</td>\n",
       "      <td>-2.562789</td>\n",
       "      <td>-1.653035</td>\n",
       "      <td>-1.825423</td>\n",
       "      <td>...</td>\n",
       "      <td>-5.218698</td>\n",
       "      <td>-2.828708</td>\n",
       "      <td>-4.204521</td>\n",
       "      <td>-5.224611</td>\n",
       "      <td>-1.174427</td>\n",
       "      <td>-1.522906</td>\n",
       "      <td>-9.400658</td>\n",
       "      <td>-1.501767</td>\n",
       "      <td>-2.565210</td>\n",
       "      <td>-6.288053</td>\n",
       "    </tr>\n",
       "    <tr>\n",
       "      <th>1</th>\n",
       "      <td>-3.314772</td>\n",
       "      <td>-inf</td>\n",
       "      <td>-2.146666</td>\n",
       "      <td>-2.806617</td>\n",
       "      <td>-2.247235</td>\n",
       "      <td>-4.414347</td>\n",
       "      <td>-4.414347</td>\n",
       "      <td>-2.247235</td>\n",
       "      <td>-1.337480</td>\n",
       "      <td>-1.509868</td>\n",
       "      <td>...</td>\n",
       "      <td>-6.229457</td>\n",
       "      <td>-3.348649</td>\n",
       "      <td>-4.521431</td>\n",
       "      <td>-3.661019</td>\n",
       "      <td>-1.694368</td>\n",
       "      <td>-2.042847</td>\n",
       "      <td>-9.163381</td>\n",
       "      <td>-1.186213</td>\n",
       "      <td>-2.046624</td>\n",
       "      <td>-4.521431</td>\n",
       "    </tr>\n",
       "    <tr>\n",
       "      <th>2</th>\n",
       "      <td>-2.878157</td>\n",
       "      <td>-4.101278</td>\n",
       "      <td>-inf</td>\n",
       "      <td>-3.205497</td>\n",
       "      <td>-2.646116</td>\n",
       "      <td>-4.056003</td>\n",
       "      <td>-4.056003</td>\n",
       "      <td>-2.646116</td>\n",
       "      <td>-1.621227</td>\n",
       "      <td>-1.793614</td>\n",
       "      <td>...</td>\n",
       "      <td>-7.530518</td>\n",
       "      <td>-2.912034</td>\n",
       "      <td>-4.163087</td>\n",
       "      <td>-5.386208</td>\n",
       "      <td>-1.142619</td>\n",
       "      <td>-1.491098</td>\n",
       "      <td>-11.712478</td>\n",
       "      <td>-1.469959</td>\n",
       "      <td>-2.330371</td>\n",
       "      <td>-6.246619</td>\n",
       "    </tr>\n",
       "    <tr>\n",
       "      <th>3</th>\n",
       "      <td>-3.364766</td>\n",
       "      <td>-3.358862</td>\n",
       "      <td>-1.993628</td>\n",
       "      <td>-inf</td>\n",
       "      <td>-2.279133</td>\n",
       "      <td>-4.261309</td>\n",
       "      <td>-4.261309</td>\n",
       "      <td>-2.279133</td>\n",
       "      <td>-1.369378</td>\n",
       "      <td>-1.541766</td>\n",
       "      <td>...</td>\n",
       "      <td>-4.935042</td>\n",
       "      <td>-3.195612</td>\n",
       "      <td>-4.571425</td>\n",
       "      <td>-4.565521</td>\n",
       "      <td>-1.541331</td>\n",
       "      <td>-1.889810</td>\n",
       "      <td>-9.004810</td>\n",
       "      <td>-1.218111</td>\n",
       "      <td>-2.281553</td>\n",
       "      <td>-5.628964</td>\n",
       "    </tr>\n",
       "    <tr>\n",
       "      <th>4</th>\n",
       "      <td>-3.168296</td>\n",
       "      <td>-3.365424</td>\n",
       "      <td>-2.000190</td>\n",
       "      <td>-2.845077</td>\n",
       "      <td>-inf</td>\n",
       "      <td>-4.267871</td>\n",
       "      <td>-4.267871</td>\n",
       "      <td>-1.984665</td>\n",
       "      <td>-1.375940</td>\n",
       "      <td>-1.548328</td>\n",
       "      <td>...</td>\n",
       "      <td>-6.267917</td>\n",
       "      <td>-3.202174</td>\n",
       "      <td>-4.374956</td>\n",
       "      <td>-4.572083</td>\n",
       "      <td>-1.547893</td>\n",
       "      <td>-1.896372</td>\n",
       "      <td>-10.337686</td>\n",
       "      <td>-1.224673</td>\n",
       "      <td>-2.085084</td>\n",
       "      <td>-5.432495</td>\n",
       "    </tr>\n",
       "  </tbody>\n",
       "</table>\n",
       "<p>5 rows × 85 columns</p>\n",
       "</div>"
      ],
      "text/plain": [
       "         0         1         2         3         4         5         6   \\\n",
       "0      -inf -4.017952 -1.626725 -3.325202 -2.562789 -3.894406 -3.894406   \n",
       "1 -3.314772      -inf -2.146666 -2.806617 -2.247235 -4.414347 -4.414347   \n",
       "2 -2.878157 -4.101278      -inf -3.205497 -2.646116 -4.056003 -4.056003   \n",
       "3 -3.364766 -3.358862 -1.993628      -inf -2.279133 -4.261309 -4.261309   \n",
       "4 -3.168296 -3.365424 -2.000190 -2.845077      -inf -4.267871 -4.267871   \n",
       "\n",
       "         7         8         9     ...           77        78        79  \\\n",
       "0 -2.562789 -1.653035 -1.825423    ...    -5.218698 -2.828708 -4.204521   \n",
       "1 -2.247235 -1.337480 -1.509868    ...    -6.229457 -3.348649 -4.521431   \n",
       "2 -2.646116 -1.621227 -1.793614    ...    -7.530518 -2.912034 -4.163087   \n",
       "3 -2.279133 -1.369378 -1.541766    ...    -4.935042 -3.195612 -4.571425   \n",
       "4 -1.984665 -1.375940 -1.548328    ...    -6.267917 -3.202174 -4.374956   \n",
       "\n",
       "         80        81        82         83        84        85        86  \n",
       "0 -5.224611 -1.174427 -1.522906  -9.400658 -1.501767 -2.565210 -6.288053  \n",
       "1 -3.661019 -1.694368 -2.042847  -9.163381 -1.186213 -2.046624 -4.521431  \n",
       "2 -5.386208 -1.142619 -1.491098 -11.712478 -1.469959 -2.330371 -6.246619  \n",
       "3 -4.565521 -1.541331 -1.889810  -9.004810 -1.218111 -2.281553 -5.628964  \n",
       "4 -4.572083 -1.547893 -1.896372 -10.337686 -1.224673 -2.085084 -5.432495  \n",
       "\n",
       "[5 rows x 85 columns]"
      ]
     },
     "execution_count": 181,
     "metadata": {},
     "output_type": "execute_result"
    }
   ],
   "source": [
    "for p1 in poi_logtransmat.index:\n",
    "    rowsum = poi_logtransmat.loc[p1].sum()\n",
    "    assert(rowsum > 0)\n",
    "    logrowsum = np.log10(rowsum)\n",
    "    for p2 in poi_logtransmat.columns:\n",
    "        if p1 == p2:\n",
    "            poi_logtransmat.loc[p1, p2] = -np.inf  # deal with log(0) explicitly\n",
    "        else:\n",
    "            poi_logtransmat.loc[p1, p2] = np.log10(poi_logtransmat.loc[p1, p2]) - logrowsum\n",
    "poi_logtransmat.head()"
   ]
  },
  {
   "cell_type": "markdown",
   "metadata": {},
   "source": [
    "Plot transition matrix heatmap."
   ]
  },
  {
   "cell_type": "code",
   "execution_count": 182,
   "metadata": {
    "collapsed": false
   },
   "outputs": [],
   "source": [
    "prob_mat = np.power(10, poi_logtransmat)"
   ]
  },
  {
   "cell_type": "code",
   "execution_count": 183,
   "metadata": {
    "collapsed": false
   },
   "outputs": [
    {
     "data": {
      "text/plain": [
       "<matplotlib.axes._subplots.AxesSubplot at 0x7efbc70cd898>"
      ]
     },
     "execution_count": 183,
     "metadata": {},
     "output_type": "execute_result"
    },
    {
     "data": {
      "image/png": "[encoded data removed]",
      "text/plain": [
       "<matplotlib.figure.Figure at 0x7efbcac17518>"
      ]
     },
     "metadata": {},
     "output_type": "display_data"
    }
   ],
   "source": [
    "plt.figure(figsize=[16, 12])\n",
    "sns.heatmap(prob_mat)"
   ]
  }
 ],
 "metadata": {
  "kernelspec": {
   "display_name": "Python 3",
   "language": "python",
   "name": "python3"
  },
  "language_info": {
   "codemirror_mode": {
    "name": "ipython",
    "version": 3
   },
   "file_extension": ".py",
   "mimetype": "text/x-python",
   "name": "python",
   "nbconvert_exporter": "python",
   "pygments_lexer": "ipython3",
   "version": "3.5.1"
  }
 },
 "nbformat": 4,
 "nbformat_minor": 0
}
