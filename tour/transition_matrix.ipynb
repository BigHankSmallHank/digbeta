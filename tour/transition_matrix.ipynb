{
 "cells": [
  {
   "cell_type": "markdown",
   "metadata": {
    "collapsed": true
   },
   "source": [
    "# Trajectory Recommendation"
   ]
  },
  {
   "cell_type": "markdown",
   "metadata": {},
   "source": [
    "<a id='toc'></a>"
   ]
  },
  {
   "cell_type": "markdown",
   "metadata": {},
   "source": [
    "[Table of Contents](#toc)\n",
    "1. [Preprocess](#sec1)\n",
    "  1. [Load Data](#sec1.1)\n",
    "  1. [Utility function](#sec1.2)\n",
    "1. [Factorise Transition Probabilities in POI Feature Space](#sec2)\n",
    "  1. [POI Features for Factorisation](#sec2.1)\n",
    "  1. [Transition Matrix between POI Cateogries](#sec2.2)\n",
    "  1. [Transition Matrix between POI Popularity Classes](#sec2.3)\n",
    "  1. [Transition Matrix between the Number of POI Visit Classes](#sec2.4)\n",
    "  1. [Transition Matrix between POI Average Visit Duration Classes](#sec2.5)\n",
    "  1. [Transition Matrix between POI Neighborhood Classes](#sec2.6)\n",
    "  1. [Transition Matrix between POIs](#sec2.7)"
   ]
  },
  {
   "cell_type": "markdown",
   "metadata": {},
   "source": [
    "<a id='sec1'></a>"
   ]
  },
  {
   "cell_type": "markdown",
   "metadata": {},
   "source": [
    "# 1. Preprocess"
   ]
  },
  {
   "cell_type": "code",
   "execution_count": 1,
   "metadata": {
    "collapsed": false
   },
   "outputs": [],
   "source": [
    "% matplotlib inline\n",
    "\n",
    "import os, sys, time\n",
    "import math, itertools, scipy\n",
    "import pandas as pd\n",
    "import numpy as np\n",
    "import matplotlib.pyplot as plt\n",
    "from scipy.linalg import kron\n",
    "from scipy.misc import logsumexp\n",
    "from sklearn.cluster import KMeans\n",
    "import seaborn as sns"
   ]
  },
  {
   "cell_type": "code",
   "execution_count": 2,
   "metadata": {
    "collapsed": true
   },
   "outputs": [],
   "source": [
    "data_dir = 'data/data-recsys16'\n",
    "suffix = ['Osak', 'Glas', 'Edin', 'Toro', 'Melb']"
   ]
  },
  {
   "cell_type": "markdown",
   "metadata": {},
   "source": [
    "Number of bins/clusters of POI features for each dataset."
   ]
  },
  {
   "cell_type": "code",
   "execution_count": 3,
   "metadata": {
    "collapsed": true
   },
   "outputs": [],
   "source": [
    "dat_ix = 4"
   ]
  },
  {
   "cell_type": "code",
   "execution_count": 4,
   "metadata": {
    "collapsed": true
   },
   "outputs": [],
   "source": [
    "fpoi = os.path.join(data_dir, 'poi-' + suffix[dat_ix] + '.csv')\n",
    "ftraj = os.path.join(data_dir, 'traj-all-' + suffix[dat_ix] + '.csv')"
   ]
  },
  {
   "cell_type": "markdown",
   "metadata": {},
   "source": [
    "<a id='sec1.1'></a>"
   ]
  },
  {
   "cell_type": "markdown",
   "metadata": {},
   "source": [
    "## 1.1 Load Data"
   ]
  },
  {
   "cell_type": "code",
   "execution_count": 5,
   "metadata": {
    "collapsed": false
   },
   "outputs": [
    {
     "data": {
      "text/html": [
       "<div>\n",
       "<table border=\"1\" class=\"dataframe\">\n",
       "  <thead>\n",
       "    <tr style=\"text-align: right;\">\n",
       "      <th></th>\n",
       "      <th>#photo</th>\n",
       "      <th>endTime</th>\n",
       "      <th>poiID</th>\n",
       "      <th>startTime</th>\n",
       "      <th>trajID</th>\n",
       "      <th>trajLen</th>\n",
       "      <th>userID</th>\n",
       "      <th>poiDuration</th>\n",
       "    </tr>\n",
       "  </thead>\n",
       "  <tbody>\n",
       "    <tr>\n",
       "      <th>0</th>\n",
       "      <td>1</td>\n",
       "      <td>1226726126</td>\n",
       "      <td>25</td>\n",
       "      <td>1226726126</td>\n",
       "      <td>0</td>\n",
       "      <td>1</td>\n",
       "      <td>10058801@N06</td>\n",
       "      <td>0</td>\n",
       "    </tr>\n",
       "    <tr>\n",
       "      <th>1</th>\n",
       "      <td>2</td>\n",
       "      <td>1205332541</td>\n",
       "      <td>58</td>\n",
       "      <td>1205332532</td>\n",
       "      <td>1</td>\n",
       "      <td>2</td>\n",
       "      <td>10087938@N02</td>\n",
       "      <td>9</td>\n",
       "    </tr>\n",
       "    <tr>\n",
       "      <th>2</th>\n",
       "      <td>2</td>\n",
       "      <td>1205342729</td>\n",
       "      <td>66</td>\n",
       "      <td>1205342722</td>\n",
       "      <td>1</td>\n",
       "      <td>2</td>\n",
       "      <td>10087938@N02</td>\n",
       "      <td>7</td>\n",
       "    </tr>\n",
       "    <tr>\n",
       "      <th>3</th>\n",
       "      <td>1</td>\n",
       "      <td>1205374109</td>\n",
       "      <td>59</td>\n",
       "      <td>1205374109</td>\n",
       "      <td>2</td>\n",
       "      <td>1</td>\n",
       "      <td>10087938@N02</td>\n",
       "      <td>0</td>\n",
       "    </tr>\n",
       "    <tr>\n",
       "      <th>4</th>\n",
       "      <td>1</td>\n",
       "      <td>1205417265</td>\n",
       "      <td>58</td>\n",
       "      <td>1205417265</td>\n",
       "      <td>3</td>\n",
       "      <td>1</td>\n",
       "      <td>10087938@N02</td>\n",
       "      <td>0</td>\n",
       "    </tr>\n",
       "  </tbody>\n",
       "</table>\n",
       "</div>"
      ],
      "text/plain": [
       "   #photo     endTime  poiID   startTime  trajID  trajLen        userID  \\\n",
       "0       1  1226726126     25  1226726126       0        1  10058801@N06   \n",
       "1       2  1205332541     58  1205332532       1        2  10087938@N02   \n",
       "2       2  1205342729     66  1205342722       1        2  10087938@N02   \n",
       "3       1  1205374109     59  1205374109       2        1  10087938@N02   \n",
       "4       1  1205417265     58  1205417265       3        1  10087938@N02   \n",
       "\n",
       "   poiDuration  \n",
       "0            0  \n",
       "1            9  \n",
       "2            7  \n",
       "3            0  \n",
       "4            0  "
      ]
     },
     "execution_count": 5,
     "metadata": {},
     "output_type": "execute_result"
    }
   ],
   "source": [
    "traj_all = pd.read_csv(ftraj)\n",
    "traj_all.head()"
   ]
  },
  {
   "cell_type": "code",
   "execution_count": 6,
   "metadata": {
    "collapsed": false
   },
   "outputs": [
    {
     "data": {
      "text/html": [
       "<div>\n",
       "<table border=\"1\" class=\"dataframe\">\n",
       "  <thead>\n",
       "    <tr style=\"text-align: right;\">\n",
       "      <th></th>\n",
       "      <th>poiCat</th>\n",
       "      <th>poiLon</th>\n",
       "      <th>poiLat</th>\n",
       "    </tr>\n",
       "    <tr>\n",
       "      <th>poiID</th>\n",
       "      <th></th>\n",
       "      <th></th>\n",
       "      <th></th>\n",
       "    </tr>\n",
       "  </thead>\n",
       "  <tbody>\n",
       "    <tr>\n",
       "      <th>0</th>\n",
       "      <td>City precincts</td>\n",
       "      <td>144.96778</td>\n",
       "      <td>-37.82167</td>\n",
       "    </tr>\n",
       "    <tr>\n",
       "      <th>1</th>\n",
       "      <td>City precincts</td>\n",
       "      <td>144.94600</td>\n",
       "      <td>-37.81700</td>\n",
       "    </tr>\n",
       "    <tr>\n",
       "      <th>2</th>\n",
       "      <td>City precincts</td>\n",
       "      <td>144.97300</td>\n",
       "      <td>-37.81190</td>\n",
       "    </tr>\n",
       "    <tr>\n",
       "      <th>3</th>\n",
       "      <td>City precincts</td>\n",
       "      <td>144.96694</td>\n",
       "      <td>-37.79972</td>\n",
       "    </tr>\n",
       "    <tr>\n",
       "      <th>4</th>\n",
       "      <td>City precincts</td>\n",
       "      <td>144.96333</td>\n",
       "      <td>-37.80778</td>\n",
       "    </tr>\n",
       "  </tbody>\n",
       "</table>\n",
       "</div>"
      ],
      "text/plain": [
       "               poiCat     poiLon    poiLat\n",
       "poiID                                     \n",
       "0      City precincts  144.96778 -37.82167\n",
       "1      City precincts  144.94600 -37.81700\n",
       "2      City precincts  144.97300 -37.81190\n",
       "3      City precincts  144.96694 -37.79972\n",
       "4      City precincts  144.96333 -37.80778"
      ]
     },
     "execution_count": 6,
     "metadata": {},
     "output_type": "execute_result"
    }
   ],
   "source": [
    "poi_all = pd.read_csv(fpoi)\n",
    "poi_all.set_index('poiID', inplace=True)\n",
    "poi_all.head()"
   ]
  },
  {
   "cell_type": "code",
   "execution_count": 7,
   "metadata": {
    "collapsed": false
   },
   "outputs": [
    {
     "data": {
      "text/html": [
       "<div>\n",
       "<table border=\"1\" class=\"dataframe\">\n",
       "  <thead>\n",
       "    <tr style=\"text-align: right;\">\n",
       "      <th></th>\n",
       "      <th>#poi</th>\n",
       "      <th>#traj</th>\n",
       "      <th>#traj/user</th>\n",
       "      <th>#user</th>\n",
       "    </tr>\n",
       "  </thead>\n",
       "  <tbody>\n",
       "    <tr>\n",
       "      <th>Melb</th>\n",
       "      <td>85</td>\n",
       "      <td>4918</td>\n",
       "      <td>5.911058</td>\n",
       "      <td>832</td>\n",
       "    </tr>\n",
       "  </tbody>\n",
       "</table>\n",
       "</div>"
      ],
      "text/plain": [
       "      #poi  #traj  #traj/user  #user\n",
       "Melb    85   4918    5.911058    832"
      ]
     },
     "execution_count": 7,
     "metadata": {},
     "output_type": "execute_result"
    }
   ],
   "source": [
    "num_user = traj_all['userID'].unique().shape[0]\n",
    "num_poi = traj_all['poiID'].unique().shape[0]\n",
    "num_traj = traj_all['trajID'].unique().shape[0]\n",
    "pd.DataFrame({'#user': num_user, '#poi': num_poi, '#traj': num_traj, '#traj/user': num_traj/num_user}, \\\n",
    "             index=[str(suffix[dat_ix])])"
   ]
  },
  {
   "cell_type": "code",
   "execution_count": 8,
   "metadata": {
    "collapsed": false
   },
   "outputs": [
    {
     "data": {
      "image/png": "[encoded data removed]",
      "text/plain": [
       "<matplotlib.figure.Figure at 0x7f73394c1e10>"
      ]
     },
     "metadata": {},
     "output_type": "display_data"
    }
   ],
   "source": [
    "ax = traj_all['trajLen'].hist(bins=20)\n",
    "ax.set_yscale('log')"
   ]
  },
  {
   "cell_type": "markdown",
   "metadata": {},
   "source": [
    "Mapping trajectory to user."
   ]
  },
  {
   "cell_type": "code",
   "execution_count": 9,
   "metadata": {
    "collapsed": false
   },
   "outputs": [
    {
     "data": {
      "text/html": [
       "<div>\n",
       "<table border=\"1\" class=\"dataframe\">\n",
       "  <thead>\n",
       "    <tr style=\"text-align: right;\">\n",
       "      <th></th>\n",
       "      <th>userID</th>\n",
       "    </tr>\n",
       "    <tr>\n",
       "      <th>trajID</th>\n",
       "      <th></th>\n",
       "    </tr>\n",
       "  </thead>\n",
       "  <tbody>\n",
       "    <tr>\n",
       "      <th>0</th>\n",
       "      <td>10058801@N06</td>\n",
       "    </tr>\n",
       "    <tr>\n",
       "      <th>1</th>\n",
       "      <td>10087938@N02</td>\n",
       "    </tr>\n",
       "    <tr>\n",
       "      <th>2</th>\n",
       "      <td>10087938@N02</td>\n",
       "    </tr>\n",
       "    <tr>\n",
       "      <th>3</th>\n",
       "      <td>10087938@N02</td>\n",
       "    </tr>\n",
       "    <tr>\n",
       "      <th>4</th>\n",
       "      <td>10087938@N02</td>\n",
       "    </tr>\n",
       "  </tbody>\n",
       "</table>\n",
       "</div>"
      ],
      "text/plain": [
       "              userID\n",
       "trajID              \n",
       "0       10058801@N06\n",
       "1       10087938@N02\n",
       "2       10087938@N02\n",
       "3       10087938@N02\n",
       "4       10087938@N02"
      ]
     },
     "execution_count": 9,
     "metadata": {},
     "output_type": "execute_result"
    }
   ],
   "source": [
    "traj_user = traj_all[['trajID', 'userID']].copy().groupby('trajID').first()\n",
    "traj_user.head()"
   ]
  },
  {
   "cell_type": "markdown",
   "metadata": {},
   "source": [
    "<a id='sec1.2'></a>"
   ]
  },
  {
   "cell_type": "markdown",
   "metadata": {},
   "source": [
    "## 1.2 Utility function"
   ]
  },
  {
   "cell_type": "markdown",
   "metadata": {},
   "source": [
    "Print computing progress."
   ]
  },
  {
   "cell_type": "code",
   "execution_count": 10,
   "metadata": {
    "collapsed": true
   },
   "outputs": [],
   "source": [
    "def print_progress(cnt, total):\n",
    "    \"\"\"Display a progress bar\"\"\"\n",
    "    assert(cnt > 0 and total > 0 and cnt <= total)\n",
    "    length = 80\n",
    "    ratio = cnt / total\n",
    "    n = int(length * ratio)\n",
    "    sys.stdout.write('\\r[%-80s] %d%%' % ('-'*n, int(ratio*100)))\n",
    "    sys.stdout.flush()"
   ]
  },
  {
   "cell_type": "markdown",
   "metadata": {},
   "source": [
    "Extract trajectory, i.e., a list of POIs."
   ]
  },
  {
   "cell_type": "code",
   "execution_count": 11,
   "metadata": {
    "collapsed": true
   },
   "outputs": [],
   "source": [
    "def extract_traj(tid, traj_all):\n",
    "    traj = traj_all[traj_all['trajID'] == tid].copy()\n",
    "    traj.sort_values(by=['startTime'], ascending=True, inplace=True)\n",
    "    return traj['poiID'].tolist()"
   ]
  },
  {
   "cell_type": "markdown",
   "metadata": {},
   "source": [
    "Compute POI properties, e.g., popularity, total number of visit, average visit duration."
   ]
  },
  {
   "cell_type": "code",
   "execution_count": 12,
   "metadata": {
    "collapsed": true
   },
   "outputs": [],
   "source": [
    "def calc_poi_info(trajid_list, traj_all, poi_all):\n",
    "    assert(len(trajid_list) > 0)\n",
    "    # to allow duplicated trajid\n",
    "    poi_info = traj_all[traj_all['trajID'] == trajid_list[0]][['poiID', 'poiDuration']].copy() \n",
    "    for i in range(1, len(trajid_list)):\n",
    "        traj = traj_all[traj_all['trajID'] == trajid_list[i]][['poiID', 'poiDuration']]\n",
    "        poi_info = poi_info.append(traj, ignore_index=True)\n",
    "    \n",
    "    poi_info = poi_info.groupby('poiID').agg([np.mean, np.size])\n",
    "    poi_info.columns = poi_info.columns.droplevel()\n",
    "    poi_info.reset_index(inplace=True)\n",
    "    poi_info.rename(columns={'mean':'avgDuration', 'size':'nVisit'}, inplace=True)\n",
    "    poi_info.set_index('poiID', inplace=True) \n",
    "    poi_info['poiCat'] = poi_all.loc[poi_info.index, 'poiCat']\n",
    "    poi_info['poiLon'] = poi_all.loc[poi_info.index, 'poiLon']\n",
    "    poi_info['poiLat'] = poi_all.loc[poi_info.index, 'poiLat']\n",
    "    \n",
    "    # POI popularity: the number of distinct users that visited the POI\n",
    "    pop_df = traj_all[traj_all['trajID'].isin(trajid_list)][['poiID', 'userID']].copy()\n",
    "    pop_df = pop_df.groupby('poiID').agg(pd.Series.nunique)\n",
    "    pop_df.rename(columns={'userID':'nunique'}, inplace=True)\n",
    "    poi_info['popularity'] = pop_df.loc[poi_info.index, 'nunique']\n",
    "    \n",
    "    return poi_info.copy()"
   ]
  },
  {
   "cell_type": "markdown",
   "metadata": {},
   "source": [
    "Compute distance between two POIs using [Haversine formula](http://en.wikipedia.org/wiki/Great-circle_distance)."
   ]
  },
  {
   "cell_type": "code",
   "execution_count": 13,
   "metadata": {
    "collapsed": true
   },
   "outputs": [],
   "source": [
    "def calc_dist(longitude1, latitude1, longitude2, latitude2):\n",
    "    \"\"\"Calculate the distance (unit: km) between two places on earth\"\"\"\n",
    "    # convert degrees to radians\n",
    "    lon1 = math.radians(longitude1)\n",
    "    lat1 = math.radians(latitude1)\n",
    "    lon2 = math.radians(longitude2)\n",
    "    lat2 = math.radians(latitude2)\n",
    "    radius = 6371.0088 # mean earth radius is 6371.0088km, en.wikipedia.org/wiki/Earth_radius#Mean_radius\n",
    "    # The haversine formula, en.wikipedia.org/wiki/Great-circle_distance\n",
    "    dlon = math.fabs(lon1 - lon2)\n",
    "    dlat = math.fabs(lat1 - lat2)\n",
    "    return 2 * radius * math.asin(math.sqrt(\\\n",
    "               (math.sin(0.5*dlat))**2 + math.cos(lat1) * math.cos(lat2) * (math.sin(0.5*dlon))**2 ))"
   ]
  },
  {
   "cell_type": "code",
   "execution_count": 14,
   "metadata": {
    "collapsed": false
   },
   "outputs": [],
   "source": [
    "trajid_set_all = sorted(traj_all['trajID'].unique().tolist())"
   ]
  },
  {
   "cell_type": "code",
   "execution_count": 15,
   "metadata": {
    "collapsed": false
   },
   "outputs": [
    {
     "name": "stdout",
     "output_type": "stream",
     "text": [
      "#traj in total: 4918\n"
     ]
    }
   ],
   "source": [
    "print('#traj in total:', len(trajid_set_all))"
   ]
  },
  {
   "cell_type": "code",
   "execution_count": 16,
   "metadata": {
    "collapsed": false
   },
   "outputs": [
    {
     "data": {
      "text/html": [
       "<div>\n",
       "<table border=\"1\" class=\"dataframe\">\n",
       "  <thead>\n",
       "    <tr style=\"text-align: right;\">\n",
       "      <th></th>\n",
       "      <th>avgDuration</th>\n",
       "      <th>nVisit</th>\n",
       "      <th>poiCat</th>\n",
       "      <th>poiLon</th>\n",
       "      <th>poiLat</th>\n",
       "      <th>popularity</th>\n",
       "    </tr>\n",
       "    <tr>\n",
       "      <th>poiID</th>\n",
       "      <th></th>\n",
       "      <th></th>\n",
       "      <th></th>\n",
       "      <th></th>\n",
       "      <th></th>\n",
       "      <th></th>\n",
       "    </tr>\n",
       "  </thead>\n",
       "  <tbody>\n",
       "    <tr>\n",
       "      <th>0</th>\n",
       "      <td>389.647887</td>\n",
       "      <td>71</td>\n",
       "      <td>City precincts</td>\n",
       "      <td>144.96778</td>\n",
       "      <td>-37.82167</td>\n",
       "      <td>53</td>\n",
       "    </tr>\n",
       "    <tr>\n",
       "      <th>1</th>\n",
       "      <td>884.979167</td>\n",
       "      <td>48</td>\n",
       "      <td>City precincts</td>\n",
       "      <td>144.94600</td>\n",
       "      <td>-37.81700</td>\n",
       "      <td>36</td>\n",
       "    </tr>\n",
       "    <tr>\n",
       "      <th>2</th>\n",
       "      <td>1188.785124</td>\n",
       "      <td>121</td>\n",
       "      <td>City precincts</td>\n",
       "      <td>144.97300</td>\n",
       "      <td>-37.81190</td>\n",
       "      <td>78</td>\n",
       "    </tr>\n",
       "    <tr>\n",
       "      <th>3</th>\n",
       "      <td>401.436364</td>\n",
       "      <td>55</td>\n",
       "      <td>City precincts</td>\n",
       "      <td>144.96694</td>\n",
       "      <td>-37.79972</td>\n",
       "      <td>44</td>\n",
       "    </tr>\n",
       "    <tr>\n",
       "      <th>4</th>\n",
       "      <td>1434.607143</td>\n",
       "      <td>84</td>\n",
       "      <td>City precincts</td>\n",
       "      <td>144.96333</td>\n",
       "      <td>-37.80778</td>\n",
       "      <td>48</td>\n",
       "    </tr>\n",
       "  </tbody>\n",
       "</table>\n",
       "</div>"
      ],
      "text/plain": [
       "       avgDuration  nVisit          poiCat     poiLon    poiLat  popularity\n",
       "poiID                                                                      \n",
       "0       389.647887      71  City precincts  144.96778 -37.82167          53\n",
       "1       884.979167      48  City precincts  144.94600 -37.81700          36\n",
       "2      1188.785124     121  City precincts  144.97300 -37.81190          78\n",
       "3       401.436364      55  City precincts  144.96694 -37.79972          44\n",
       "4      1434.607143      84  City precincts  144.96333 -37.80778          48"
      ]
     },
     "execution_count": 16,
     "metadata": {},
     "output_type": "execute_result"
    }
   ],
   "source": [
    "poi_info_ = calc_poi_info(trajid_set_all, traj_all, poi_all)\n",
    "poi_info_.head()"
   ]
  },
  {
   "cell_type": "markdown",
   "metadata": {},
   "source": [
    "<a id='sec2'></a>"
   ]
  },
  {
   "cell_type": "markdown",
   "metadata": {},
   "source": [
    "# 2. Factorise Transition Probabilities in POI Feature Space"
   ]
  },
  {
   "cell_type": "markdown",
   "metadata": {},
   "source": [
    "Estimate a transition matrix for each feature of POI, transition probabilities (matrix) between different POI features (vector) is obtrained by the [Kronecker product](https://en.wikipedia.org/wiki/Kronecker_product) of the individual transition matrix corresponding to each feature."
   ]
  },
  {
   "cell_type": "markdown",
   "metadata": {},
   "source": [
    "<a id='sec2.1'></a>"
   ]
  },
  {
   "cell_type": "markdown",
   "metadata": {},
   "source": [
    "## 2.1 POI Features for Factorisation"
   ]
  },
  {
   "cell_type": "markdown",
   "metadata": {},
   "source": [
    "POI features used to factorise transition matrix of Markov Chain with POI features (vector) as states:\n",
    "- Category of POI\n",
    "- Popularity of POI (discritize with uniform log-scale bins, #bins <=5 )\n",
    "- The number of POI visits (discritize with uniform log-scale bins, #bins <=5 )\n",
    "- The average visit duration of POI (discritise with uniform log-scale bins, #bins <= 5)\n",
    "- The neighborhood relationship between POIs (clustering POI(lat, lon) using k-means, #clusters <= 5)"
   ]
  },
  {
   "cell_type": "markdown",
   "metadata": {},
   "source": [
    "The number of bins/clusters of POI features for all dataset, obtained by looking at the binning results (more uniform is better and the corresponding transition matrix of counts (denser is better)."
   ]
  },
  {
   "cell_type": "code",
   "execution_count": 17,
   "metadata": {
    "collapsed": true
   },
   "outputs": [],
   "source": [
    "nbins_df = pd.DataFrame(data=np.zeros((5, 4), dtype=np.int), \\\n",
    "                        columns=['Pop', 'Visit', 'Duration', 'Cluster'], \\\n",
    "                        index=['Osak', 'Glas', 'Edin', 'Toro', 'Melb'])"
   ]
  },
  {
   "cell_type": "code",
   "execution_count": 18,
   "metadata": {
    "collapsed": true
   },
   "outputs": [],
   "source": [
    "nbins_df.loc['Osak'] = [2, 2, 3, 4]\n",
    "nbins_df.loc['Glas'] = [4, 4, 3, 3]\n",
    "nbins_df.loc['Edin'] = [4, 3, 3, 3]\n",
    "nbins_df.loc['Toro'] = [3, 3, 3, 3]\n",
    "nbins_df.loc['Melb'] = [5, 4, 3, 5]"
   ]
  },
  {
   "cell_type": "markdown",
   "metadata": {},
   "source": [
    "We count the number of transition first, then normalise each row while taking care of zero by adding each cell a small number (i.e. $0.2$ times the minimum value of that row) if there exists a zero cell."
   ]
  },
  {
   "cell_type": "code",
   "execution_count": 19,
   "metadata": {
    "collapsed": true
   },
   "outputs": [],
   "source": [
    "def normalise_transmat(transmat):\n",
    "    assert(isinstance(transmat, pd.DataFrame))\n",
    "    for row in range(transmat.index.shape[0]):\n",
    "        nonzeroidx = np.nonzero(transmat.iloc[row])[0].tolist()    \n",
    "        if len(nonzeroidx) < transmat.columns.shape[0]:\n",
    "            if len(nonzeroidx) == 0:  # all zeros in row\n",
    "                transmat.iloc[row] = 1 / transmat.columns.shape[0]  # uniform distribution\n",
    "            else:\n",
    "                minv = np.min(transmat.iloc[row, nonzeroidx])\n",
    "                EPS = 0.2 * minv  # row-specific smooth factor\n",
    "                #zeroidx = list(set(range(len(transmat.columns))) - set(nonzeroidx))\n",
    "                #transmat.iloc[row, zeroidx] = EPS\n",
    "                transmat.iloc[row] += EPS\n",
    "                rowsum = np.sum(transmat.iloc[row])\n",
    "                assert(rowsum > 0)\n",
    "                transmat.iloc[row] /= rowsum\n",
    "        else:\n",
    "            assert(len(nonzeroidx) == transmat.columns.shape[0])  # all non-zero in row\n",
    "            transmat.iloc[row] /= np.sum(transmat.iloc[row])\n",
    "    return transmat"
   ]
  },
  {
   "cell_type": "markdown",
   "metadata": {},
   "source": [
    "POIs in training set."
   ]
  },
  {
   "cell_type": "code",
   "execution_count": 20,
   "metadata": {
    "collapsed": false
   },
   "outputs": [],
   "source": [
    "poi_train_ = traj_all[traj_all['trajID'].isin(trajid_set_all)]['poiID'].unique().tolist()\n",
    "poi_train_.sort()\n",
    "#poi_train"
   ]
  },
  {
   "cell_type": "markdown",
   "metadata": {},
   "source": [
    "<a id='sec2.2'></a>"
   ]
  },
  {
   "cell_type": "markdown",
   "metadata": {},
   "source": [
    "## 2.2 Transition Matrix between POI Cateogries"
   ]
  },
  {
   "cell_type": "code",
   "execution_count": 21,
   "metadata": {
    "collapsed": false
   },
   "outputs": [
    {
     "data": {
      "text/plain": [
       "['City precincts',\n",
       " 'Entertainment',\n",
       " 'Institutions',\n",
       " 'Parks and spaces',\n",
       " 'Public galleries',\n",
       " 'Shopping',\n",
       " 'Sports stadiums',\n",
       " 'Structures',\n",
       " 'Transport']"
      ]
     },
     "execution_count": 21,
     "metadata": {},
     "output_type": "execute_result"
    }
   ],
   "source": [
    "poi_cats = poi_all.loc[poi_train_, 'poiCat'].unique().tolist()\n",
    "poi_cats.sort()\n",
    "poi_cats"
   ]
  },
  {
   "cell_type": "code",
   "execution_count": 22,
   "metadata": {
    "collapsed": true
   },
   "outputs": [],
   "source": [
    "transmat_cat = pd.DataFrame(data=np.zeros((len(poi_cats), len(poi_cats)), dtype=np.float), \\\n",
    "                            columns=poi_cats, index=poi_cats)"
   ]
  },
  {
   "cell_type": "markdown",
   "metadata": {},
   "source": [
    "Count the number of transitions between POI categories."
   ]
  },
  {
   "cell_type": "code",
   "execution_count": 23,
   "metadata": {
    "collapsed": false
   },
   "outputs": [],
   "source": [
    "for tid in trajid_set_all:\n",
    "    t = extract_traj(tid, traj_all)\n",
    "    if len(t) > 1:\n",
    "        for pi in range(len(t)-1):\n",
    "            p1 = t[pi]\n",
    "            p2 = t[pi+1]\n",
    "            cat1 = poi_all.loc[p1, 'poiCat']\n",
    "            cat2 = poi_all.loc[p2, 'poiCat']\n",
    "            transmat_cat.loc[cat1, cat2] += 1"
   ]
  },
  {
   "cell_type": "code",
   "execution_count": 24,
   "metadata": {
    "collapsed": false
   },
   "outputs": [
    {
     "data": {
      "text/html": [
       "<div>\n",
       "<table border=\"1\" class=\"dataframe\">\n",
       "  <thead>\n",
       "    <tr style=\"text-align: right;\">\n",
       "      <th></th>\n",
       "      <th>City precincts</th>\n",
       "      <th>Entertainment</th>\n",
       "      <th>Institutions</th>\n",
       "      <th>Parks and spaces</th>\n",
       "      <th>Public galleries</th>\n",
       "      <th>Shopping</th>\n",
       "      <th>Sports stadiums</th>\n",
       "      <th>Structures</th>\n",
       "      <th>Transport</th>\n",
       "    </tr>\n",
       "  </thead>\n",
       "  <tbody>\n",
       "    <tr>\n",
       "      <th>City precincts</th>\n",
       "      <td>6</td>\n",
       "      <td>5</td>\n",
       "      <td>23</td>\n",
       "      <td>17</td>\n",
       "      <td>5</td>\n",
       "      <td>36</td>\n",
       "      <td>4</td>\n",
       "      <td>27</td>\n",
       "      <td>17</td>\n",
       "    </tr>\n",
       "    <tr>\n",
       "      <th>Entertainment</th>\n",
       "      <td>4</td>\n",
       "      <td>15</td>\n",
       "      <td>7</td>\n",
       "      <td>5</td>\n",
       "      <td>2</td>\n",
       "      <td>25</td>\n",
       "      <td>1</td>\n",
       "      <td>26</td>\n",
       "      <td>20</td>\n",
       "    </tr>\n",
       "    <tr>\n",
       "      <th>Institutions</th>\n",
       "      <td>21</td>\n",
       "      <td>9</td>\n",
       "      <td>54</td>\n",
       "      <td>54</td>\n",
       "      <td>2</td>\n",
       "      <td>84</td>\n",
       "      <td>5</td>\n",
       "      <td>43</td>\n",
       "      <td>21</td>\n",
       "    </tr>\n",
       "    <tr>\n",
       "      <th>Parks and spaces</th>\n",
       "      <td>18</td>\n",
       "      <td>9</td>\n",
       "      <td>41</td>\n",
       "      <td>67</td>\n",
       "      <td>5</td>\n",
       "      <td>44</td>\n",
       "      <td>19</td>\n",
       "      <td>63</td>\n",
       "      <td>55</td>\n",
       "    </tr>\n",
       "    <tr>\n",
       "      <th>Public galleries</th>\n",
       "      <td>6</td>\n",
       "      <td>3</td>\n",
       "      <td>7</td>\n",
       "      <td>6</td>\n",
       "      <td>4</td>\n",
       "      <td>5</td>\n",
       "      <td>1</td>\n",
       "      <td>7</td>\n",
       "      <td>6</td>\n",
       "    </tr>\n",
       "    <tr>\n",
       "      <th>Shopping</th>\n",
       "      <td>40</td>\n",
       "      <td>21</td>\n",
       "      <td>85</td>\n",
       "      <td>40</td>\n",
       "      <td>2</td>\n",
       "      <td>136</td>\n",
       "      <td>5</td>\n",
       "      <td>46</td>\n",
       "      <td>51</td>\n",
       "    </tr>\n",
       "    <tr>\n",
       "      <th>Sports stadiums</th>\n",
       "      <td>3</td>\n",
       "      <td>7</td>\n",
       "      <td>4</td>\n",
       "      <td>18</td>\n",
       "      <td>2</td>\n",
       "      <td>6</td>\n",
       "      <td>25</td>\n",
       "      <td>4</td>\n",
       "      <td>8</td>\n",
       "    </tr>\n",
       "    <tr>\n",
       "      <th>Structures</th>\n",
       "      <td>17</td>\n",
       "      <td>25</td>\n",
       "      <td>33</td>\n",
       "      <td>60</td>\n",
       "      <td>7</td>\n",
       "      <td>45</td>\n",
       "      <td>5</td>\n",
       "      <td>36</td>\n",
       "      <td>44</td>\n",
       "    </tr>\n",
       "    <tr>\n",
       "      <th>Transport</th>\n",
       "      <td>14</td>\n",
       "      <td>22</td>\n",
       "      <td>25</td>\n",
       "      <td>42</td>\n",
       "      <td>4</td>\n",
       "      <td>46</td>\n",
       "      <td>11</td>\n",
       "      <td>45</td>\n",
       "      <td>24</td>\n",
       "    </tr>\n",
       "  </tbody>\n",
       "</table>\n",
       "</div>"
      ],
      "text/plain": [
       "                  City precincts  Entertainment  Institutions  \\\n",
       "City precincts                 6              5            23   \n",
       "Entertainment                  4             15             7   \n",
       "Institutions                  21              9            54   \n",
       "Parks and spaces              18              9            41   \n",
       "Public galleries               6              3             7   \n",
       "Shopping                      40             21            85   \n",
       "Sports stadiums                3              7             4   \n",
       "Structures                    17             25            33   \n",
       "Transport                     14             22            25   \n",
       "\n",
       "                  Parks and spaces  Public galleries  Shopping  \\\n",
       "City precincts                  17                 5        36   \n",
       "Entertainment                    5                 2        25   \n",
       "Institutions                    54                 2        84   \n",
       "Parks and spaces                67                 5        44   \n",
       "Public galleries                 6                 4         5   \n",
       "Shopping                        40                 2       136   \n",
       "Sports stadiums                 18                 2         6   \n",
       "Structures                      60                 7        45   \n",
       "Transport                       42                 4        46   \n",
       "\n",
       "                  Sports stadiums  Structures  Transport  \n",
       "City precincts                  4          27         17  \n",
       "Entertainment                   1          26         20  \n",
       "Institutions                    5          43         21  \n",
       "Parks and spaces               19          63         55  \n",
       "Public galleries                1           7          6  \n",
       "Shopping                        5          46         51  \n",
       "Sports stadiums                25           4          8  \n",
       "Structures                      5          36         44  \n",
       "Transport                      11          45         24  "
      ]
     },
     "execution_count": 24,
     "metadata": {},
     "output_type": "execute_result"
    }
   ],
   "source": [
    "transmat_cat"
   ]
  },
  {
   "cell_type": "markdown",
   "metadata": {},
   "source": [
    "Normalise each row to obtain transition probabilities."
   ]
  },
  {
   "cell_type": "code",
   "execution_count": 25,
   "metadata": {
    "collapsed": false
   },
   "outputs": [],
   "source": [
    "transmat_cat = normalise_transmat(transmat_cat)"
   ]
  },
  {
   "cell_type": "code",
   "execution_count": 26,
   "metadata": {
    "collapsed": false
   },
   "outputs": [
    {
     "data": {
      "text/html": [
       "<div>\n",
       "<table border=\"1\" class=\"dataframe\">\n",
       "  <thead>\n",
       "    <tr style=\"text-align: right;\">\n",
       "      <th></th>\n",
       "      <th>City precincts</th>\n",
       "      <th>Entertainment</th>\n",
       "      <th>Institutions</th>\n",
       "      <th>Parks and spaces</th>\n",
       "      <th>Public galleries</th>\n",
       "      <th>Shopping</th>\n",
       "      <th>Sports stadiums</th>\n",
       "      <th>Structures</th>\n",
       "      <th>Transport</th>\n",
       "    </tr>\n",
       "  </thead>\n",
       "  <tbody>\n",
       "    <tr>\n",
       "      <th>City precincts</th>\n",
       "      <td>0.042857</td>\n",
       "      <td>0.035714</td>\n",
       "      <td>0.164286</td>\n",
       "      <td>0.121429</td>\n",
       "      <td>0.035714</td>\n",
       "      <td>0.257143</td>\n",
       "      <td>0.028571</td>\n",
       "      <td>0.192857</td>\n",
       "      <td>0.121429</td>\n",
       "    </tr>\n",
       "    <tr>\n",
       "      <th>Entertainment</th>\n",
       "      <td>0.038095</td>\n",
       "      <td>0.142857</td>\n",
       "      <td>0.066667</td>\n",
       "      <td>0.047619</td>\n",
       "      <td>0.019048</td>\n",
       "      <td>0.238095</td>\n",
       "      <td>0.009524</td>\n",
       "      <td>0.247619</td>\n",
       "      <td>0.190476</td>\n",
       "    </tr>\n",
       "    <tr>\n",
       "      <th>Institutions</th>\n",
       "      <td>0.071672</td>\n",
       "      <td>0.030717</td>\n",
       "      <td>0.184300</td>\n",
       "      <td>0.184300</td>\n",
       "      <td>0.006826</td>\n",
       "      <td>0.286689</td>\n",
       "      <td>0.017065</td>\n",
       "      <td>0.146758</td>\n",
       "      <td>0.071672</td>\n",
       "    </tr>\n",
       "    <tr>\n",
       "      <th>Parks and spaces</th>\n",
       "      <td>0.056075</td>\n",
       "      <td>0.028037</td>\n",
       "      <td>0.127726</td>\n",
       "      <td>0.208723</td>\n",
       "      <td>0.015576</td>\n",
       "      <td>0.137072</td>\n",
       "      <td>0.059190</td>\n",
       "      <td>0.196262</td>\n",
       "      <td>0.171340</td>\n",
       "    </tr>\n",
       "    <tr>\n",
       "      <th>Public galleries</th>\n",
       "      <td>0.133333</td>\n",
       "      <td>0.066667</td>\n",
       "      <td>0.155556</td>\n",
       "      <td>0.133333</td>\n",
       "      <td>0.088889</td>\n",
       "      <td>0.111111</td>\n",
       "      <td>0.022222</td>\n",
       "      <td>0.155556</td>\n",
       "      <td>0.133333</td>\n",
       "    </tr>\n",
       "    <tr>\n",
       "      <th>Shopping</th>\n",
       "      <td>0.093897</td>\n",
       "      <td>0.049296</td>\n",
       "      <td>0.199531</td>\n",
       "      <td>0.093897</td>\n",
       "      <td>0.004695</td>\n",
       "      <td>0.319249</td>\n",
       "      <td>0.011737</td>\n",
       "      <td>0.107981</td>\n",
       "      <td>0.119718</td>\n",
       "    </tr>\n",
       "    <tr>\n",
       "      <th>Sports stadiums</th>\n",
       "      <td>0.038961</td>\n",
       "      <td>0.090909</td>\n",
       "      <td>0.051948</td>\n",
       "      <td>0.233766</td>\n",
       "      <td>0.025974</td>\n",
       "      <td>0.077922</td>\n",
       "      <td>0.324675</td>\n",
       "      <td>0.051948</td>\n",
       "      <td>0.103896</td>\n",
       "    </tr>\n",
       "    <tr>\n",
       "      <th>Structures</th>\n",
       "      <td>0.062500</td>\n",
       "      <td>0.091912</td>\n",
       "      <td>0.121324</td>\n",
       "      <td>0.220588</td>\n",
       "      <td>0.025735</td>\n",
       "      <td>0.165441</td>\n",
       "      <td>0.018382</td>\n",
       "      <td>0.132353</td>\n",
       "      <td>0.161765</td>\n",
       "    </tr>\n",
       "    <tr>\n",
       "      <th>Transport</th>\n",
       "      <td>0.060086</td>\n",
       "      <td>0.094421</td>\n",
       "      <td>0.107296</td>\n",
       "      <td>0.180258</td>\n",
       "      <td>0.017167</td>\n",
       "      <td>0.197425</td>\n",
       "      <td>0.047210</td>\n",
       "      <td>0.193133</td>\n",
       "      <td>0.103004</td>\n",
       "    </tr>\n",
       "  </tbody>\n",
       "</table>\n",
       "</div>"
      ],
      "text/plain": [
       "                  City precincts  Entertainment  Institutions  \\\n",
       "City precincts          0.042857       0.035714      0.164286   \n",
       "Entertainment           0.038095       0.142857      0.066667   \n",
       "Institutions            0.071672       0.030717      0.184300   \n",
       "Parks and spaces        0.056075       0.028037      0.127726   \n",
       "Public galleries        0.133333       0.066667      0.155556   \n",
       "Shopping                0.093897       0.049296      0.199531   \n",
       "Sports stadiums         0.038961       0.090909      0.051948   \n",
       "Structures              0.062500       0.091912      0.121324   \n",
       "Transport               0.060086       0.094421      0.107296   \n",
       "\n",
       "                  Parks and spaces  Public galleries  Shopping  \\\n",
       "City precincts            0.121429          0.035714  0.257143   \n",
       "Entertainment             0.047619          0.019048  0.238095   \n",
       "Institutions              0.184300          0.006826  0.286689   \n",
       "Parks and spaces          0.208723          0.015576  0.137072   \n",
       "Public galleries          0.133333          0.088889  0.111111   \n",
       "Shopping                  0.093897          0.004695  0.319249   \n",
       "Sports stadiums           0.233766          0.025974  0.077922   \n",
       "Structures                0.220588          0.025735  0.165441   \n",
       "Transport                 0.180258          0.017167  0.197425   \n",
       "\n",
       "                  Sports stadiums  Structures  Transport  \n",
       "City precincts           0.028571    0.192857   0.121429  \n",
       "Entertainment            0.009524    0.247619   0.190476  \n",
       "Institutions             0.017065    0.146758   0.071672  \n",
       "Parks and spaces         0.059190    0.196262   0.171340  \n",
       "Public galleries         0.022222    0.155556   0.133333  \n",
       "Shopping                 0.011737    0.107981   0.119718  \n",
       "Sports stadiums          0.324675    0.051948   0.103896  \n",
       "Structures               0.018382    0.132353   0.161765  \n",
       "Transport                0.047210    0.193133   0.103004  "
      ]
     },
     "execution_count": 26,
     "metadata": {},
     "output_type": "execute_result"
    }
   ],
   "source": [
    "transmat_cat"
   ]
  },
  {
   "cell_type": "markdown",
   "metadata": {},
   "source": [
    "<a id='sec2.3'></a>"
   ]
  },
  {
   "cell_type": "markdown",
   "metadata": {},
   "source": [
    "## 2.3 Transition Matrix between POI Popularity Classes"
   ]
  },
  {
   "cell_type": "code",
   "execution_count": 27,
   "metadata": {
    "collapsed": false
   },
   "outputs": [],
   "source": [
    "poi_pops = poi_info_.loc[poi_train_, 'popularity']\n",
    "#sorted(poi_pops.unique().tolist())"
   ]
  },
  {
   "cell_type": "markdown",
   "metadata": {},
   "source": [
    "Discretize POI popularity with uniform log-scale bins (#bins $\\le 5$)."
   ]
  },
  {
   "cell_type": "code",
   "execution_count": 28,
   "metadata": {
    "collapsed": false
   },
   "outputs": [
    {
     "name": "stdout",
     "output_type": "stream",
     "text": [
      "Number of bins: 5\n"
     ]
    }
   ],
   "source": [
    "nbins_pop = nbins_df.loc[suffix[dat_ix], 'Pop']\n",
    "print('Number of bins:', nbins_pop)"
   ]
  },
  {
   "cell_type": "code",
   "execution_count": 29,
   "metadata": {
    "collapsed": false
   },
   "outputs": [
    {
     "name": "stdout",
     "output_type": "stream",
     "text": [
      "0.0 2.41497334797\n"
     ]
    }
   ],
   "source": [
    "expo_pop1 = np.log10(max(1, min(poi_pops)))\n",
    "expo_pop2 = np.log10(max(poi_pops))\n",
    "print(expo_pop1, expo_pop2)"
   ]
  },
  {
   "cell_type": "code",
   "execution_count": 30,
   "metadata": {
    "collapsed": false
   },
   "outputs": [
    {
     "data": {
      "text/plain": [
       "array([    0.        ,     3.98107171,    15.84893192,    63.09573445,\n",
       "         251.18864315,  1000.        ])"
      ]
     },
     "execution_count": 30,
     "metadata": {},
     "output_type": "execute_result"
    }
   ],
   "source": [
    "logbins_pop = np.logspace(np.floor(expo_pop1), np.ceil(expo_pop2), nbins_pop+1)\n",
    "logbins_pop[0] = 0  # deal with underflow\n",
    "logbins_pop"
   ]
  },
  {
   "cell_type": "code",
   "execution_count": 31,
   "metadata": {
    "collapsed": false
   },
   "outputs": [
    {
     "data": {
      "image/png": "[encoded data removed]",
      "text/plain": [
       "<matplotlib.figure.Figure at 0x7f73371cbfd0>"
      ]
     },
     "metadata": {},
     "output_type": "display_data"
    }
   ],
   "source": [
    "ax = pd.Series(poi_pops).hist(figsize=(5, 3), bins=logbins_pop)\n",
    "ax.set_xscale('log')"
   ]
  },
  {
   "cell_type": "code",
   "execution_count": 32,
   "metadata": {
    "collapsed": false
   },
   "outputs": [],
   "source": [
    "transmat_pop = pd.DataFrame(data=np.zeros((nbins_pop, nbins_pop), dtype=np.float), \\\n",
    "                            columns=np.arange(1, nbins_pop+1), index=np.arange(1, nbins_pop+1))"
   ]
  },
  {
   "cell_type": "markdown",
   "metadata": {},
   "source": [
    "Count the number of transitions between POI popularity classes."
   ]
  },
  {
   "cell_type": "code",
   "execution_count": 33,
   "metadata": {
    "collapsed": true
   },
   "outputs": [],
   "source": [
    "for tid in trajid_set_all:\n",
    "    t = extract_traj(tid, traj_all)\n",
    "    if len(t) > 1:\n",
    "        for pi in range(len(t)-1):\n",
    "            p1 = t[pi]\n",
    "            p2 = t[pi+1]\n",
    "            pop1 = poi_info_.loc[p1, 'popularity']\n",
    "            pop2 = poi_info_.loc[p2, 'popularity']\n",
    "            pc1, pc2 = np.digitize([pop1, pop2], logbins_pop)\n",
    "            transmat_pop.loc[pc1, pc2] += 1"
   ]
  },
  {
   "cell_type": "code",
   "execution_count": 34,
   "metadata": {
    "collapsed": false
   },
   "outputs": [
    {
     "data": {
      "text/html": [
       "<div>\n",
       "<table border=\"1\" class=\"dataframe\">\n",
       "  <thead>\n",
       "    <tr style=\"text-align: right;\">\n",
       "      <th></th>\n",
       "      <th>1</th>\n",
       "      <th>2</th>\n",
       "      <th>3</th>\n",
       "      <th>4</th>\n",
       "      <th>5</th>\n",
       "    </tr>\n",
       "  </thead>\n",
       "  <tbody>\n",
       "    <tr>\n",
       "      <th>1</th>\n",
       "      <td>0</td>\n",
       "      <td>0</td>\n",
       "      <td>1</td>\n",
       "      <td>0</td>\n",
       "      <td>0</td>\n",
       "    </tr>\n",
       "    <tr>\n",
       "      <th>2</th>\n",
       "      <td>0</td>\n",
       "      <td>15</td>\n",
       "      <td>17</td>\n",
       "      <td>38</td>\n",
       "      <td>2</td>\n",
       "    </tr>\n",
       "    <tr>\n",
       "      <th>3</th>\n",
       "      <td>0</td>\n",
       "      <td>21</td>\n",
       "      <td>151</td>\n",
       "      <td>311</td>\n",
       "      <td>22</td>\n",
       "    </tr>\n",
       "    <tr>\n",
       "      <th>4</th>\n",
       "      <td>1</td>\n",
       "      <td>40</td>\n",
       "      <td>295</td>\n",
       "      <td>781</td>\n",
       "      <td>93</td>\n",
       "    </tr>\n",
       "    <tr>\n",
       "      <th>5</th>\n",
       "      <td>0</td>\n",
       "      <td>5</td>\n",
       "      <td>23</td>\n",
       "      <td>96</td>\n",
       "      <td>0</td>\n",
       "    </tr>\n",
       "  </tbody>\n",
       "</table>\n",
       "</div>"
      ],
      "text/plain": [
       "   1   2    3    4   5\n",
       "1  0   0    1    0   0\n",
       "2  0  15   17   38   2\n",
       "3  0  21  151  311  22\n",
       "4  1  40  295  781  93\n",
       "5  0   5   23   96   0"
      ]
     },
     "execution_count": 34,
     "metadata": {},
     "output_type": "execute_result"
    }
   ],
   "source": [
    "transmat_pop"
   ]
  },
  {
   "cell_type": "markdown",
   "metadata": {},
   "source": [
    "Normalise each row to obtain transition probabilities."
   ]
  },
  {
   "cell_type": "code",
   "execution_count": 35,
   "metadata": {
    "collapsed": false
   },
   "outputs": [],
   "source": [
    "transmat_pop = normalise_transmat(transmat_pop)"
   ]
  },
  {
   "cell_type": "code",
   "execution_count": 36,
   "metadata": {
    "collapsed": false
   },
   "outputs": [
    {
     "data": {
      "text/html": [
       "<div>\n",
       "<table border=\"1\" class=\"dataframe\">\n",
       "  <thead>\n",
       "    <tr style=\"text-align: right;\">\n",
       "      <th></th>\n",
       "      <th>1</th>\n",
       "      <th>2</th>\n",
       "      <th>3</th>\n",
       "      <th>4</th>\n",
       "      <th>5</th>\n",
       "    </tr>\n",
       "  </thead>\n",
       "  <tbody>\n",
       "    <tr>\n",
       "      <th>1</th>\n",
       "      <td>0.100000</td>\n",
       "      <td>0.100000</td>\n",
       "      <td>0.600000</td>\n",
       "      <td>0.100000</td>\n",
       "      <td>0.100000</td>\n",
       "    </tr>\n",
       "    <tr>\n",
       "      <th>2</th>\n",
       "      <td>0.005405</td>\n",
       "      <td>0.208108</td>\n",
       "      <td>0.235135</td>\n",
       "      <td>0.518919</td>\n",
       "      <td>0.032432</td>\n",
       "    </tr>\n",
       "    <tr>\n",
       "      <th>3</th>\n",
       "      <td>0.007985</td>\n",
       "      <td>0.047909</td>\n",
       "      <td>0.295057</td>\n",
       "      <td>0.599240</td>\n",
       "      <td>0.049810</td>\n",
       "    </tr>\n",
       "    <tr>\n",
       "      <th>4</th>\n",
       "      <td>0.000826</td>\n",
       "      <td>0.033058</td>\n",
       "      <td>0.243802</td>\n",
       "      <td>0.645455</td>\n",
       "      <td>0.076860</td>\n",
       "    </tr>\n",
       "    <tr>\n",
       "      <th>5</th>\n",
       "      <td>0.007752</td>\n",
       "      <td>0.046512</td>\n",
       "      <td>0.186047</td>\n",
       "      <td>0.751938</td>\n",
       "      <td>0.007752</td>\n",
       "    </tr>\n",
       "  </tbody>\n",
       "</table>\n",
       "</div>"
      ],
      "text/plain": [
       "          1         2         3         4         5\n",
       "1  0.100000  0.100000  0.600000  0.100000  0.100000\n",
       "2  0.005405  0.208108  0.235135  0.518919  0.032432\n",
       "3  0.007985  0.047909  0.295057  0.599240  0.049810\n",
       "4  0.000826  0.033058  0.243802  0.645455  0.076860\n",
       "5  0.007752  0.046512  0.186047  0.751938  0.007752"
      ]
     },
     "execution_count": 36,
     "metadata": {},
     "output_type": "execute_result"
    }
   ],
   "source": [
    "transmat_pop"
   ]
  },
  {
   "cell_type": "markdown",
   "metadata": {},
   "source": [
    "<a id='sec2.4'></a>"
   ]
  },
  {
   "cell_type": "markdown",
   "metadata": {},
   "source": [
    "## 2.4 Transition Matrix between the Number of POI Visit Classes"
   ]
  },
  {
   "cell_type": "code",
   "execution_count": 37,
   "metadata": {
    "collapsed": false
   },
   "outputs": [],
   "source": [
    "poi_visits = poi_info_.loc[poi_train_, 'nVisit']\n",
    "#sorted(poi_visits.unique().tolist())"
   ]
  },
  {
   "cell_type": "markdown",
   "metadata": {},
   "source": [
    "Discretize the number of POI visit with uniform log-scale bins (#bins $\\le 5$)."
   ]
  },
  {
   "cell_type": "code",
   "execution_count": 38,
   "metadata": {
    "collapsed": false
   },
   "outputs": [
    {
     "name": "stdout",
     "output_type": "stream",
     "text": [
      "Number of bins: 4\n"
     ]
    }
   ],
   "source": [
    "nbins_visit = nbins_df.loc[suffix[dat_ix], 'Visit']\n",
    "print('Number of bins:', nbins_visit)"
   ]
  },
  {
   "cell_type": "code",
   "execution_count": 39,
   "metadata": {
    "collapsed": false
   },
   "outputs": [
    {
     "name": "stdout",
     "output_type": "stream",
     "text": [
      "0.0 2.64738297011\n"
     ]
    }
   ],
   "source": [
    "expo_visit1 = np.log10(max(1, min(poi_visits)))\n",
    "expo_visit2 = np.log10(max(poi_visits))\n",
    "print(expo_visit1, expo_visit2)"
   ]
  },
  {
   "cell_type": "code",
   "execution_count": 40,
   "metadata": {
    "collapsed": false
   },
   "outputs": [
    {
     "data": {
      "text/plain": [
       "array([    0.        ,     5.62341325,    31.6227766 ,   177.827941  ,\n",
       "        1000.        ])"
      ]
     },
     "execution_count": 40,
     "metadata": {},
     "output_type": "execute_result"
    }
   ],
   "source": [
    "logbins_visit = np.logspace(np.floor(expo_visit1), np.ceil(expo_visit2), nbins_visit+1)\n",
    "logbins_visit[0] = 0  # deal with underflow\n",
    "logbins_visit"
   ]
  },
  {
   "cell_type": "code",
   "execution_count": 41,
   "metadata": {
    "collapsed": false
   },
   "outputs": [
    {
     "data": {
      "image/png": "[encoded data removed]",
      "text/plain": [
       "<matplotlib.figure.Figure at 0x7f73372d2908>"
      ]
     },
     "metadata": {},
     "output_type": "display_data"
    }
   ],
   "source": [
    "ax = pd.Series(poi_visits).hist(figsize=(5, 3), bins=logbins_visit)\n",
    "ax.set_xscale('log')"
   ]
  },
  {
   "cell_type": "code",
   "execution_count": 42,
   "metadata": {
    "collapsed": false
   },
   "outputs": [],
   "source": [
    "transmat_visit = pd.DataFrame(data=np.zeros((nbins_visit, nbins_visit), dtype=np.float), \\\n",
    "                              columns=np.arange(1, nbins_visit+1), index=np.arange(1, nbins_visit+1))"
   ]
  },
  {
   "cell_type": "markdown",
   "metadata": {},
   "source": [
    "Count the number of transitions between POI popularity classes."
   ]
  },
  {
   "cell_type": "code",
   "execution_count": 43,
   "metadata": {
    "collapsed": true
   },
   "outputs": [],
   "source": [
    "for tid in trajid_set_all:\n",
    "    t = extract_traj(tid, traj_all)\n",
    "    if len(t) > 1:\n",
    "        for pi in range(len(t)-1):\n",
    "            p1 = t[pi]\n",
    "            p2 = t[pi+1]\n",
    "            visit1 = poi_info_.loc[p1, 'nVisit']\n",
    "            visit2 = poi_info_.loc[p2, 'nVisit']\n",
    "            vc1, vc2 = np.digitize([visit1, visit2], logbins_visit)\n",
    "            transmat_visit.loc[vc1, vc2] += 1"
   ]
  },
  {
   "cell_type": "code",
   "execution_count": 44,
   "metadata": {
    "collapsed": false
   },
   "outputs": [
    {
     "data": {
      "text/html": [
       "<div>\n",
       "<table border=\"1\" class=\"dataframe\">\n",
       "  <thead>\n",
       "    <tr style=\"text-align: right;\">\n",
       "      <th></th>\n",
       "      <th>1</th>\n",
       "      <th>2</th>\n",
       "      <th>3</th>\n",
       "      <th>4</th>\n",
       "    </tr>\n",
       "  </thead>\n",
       "  <tbody>\n",
       "    <tr>\n",
       "      <th>1</th>\n",
       "      <td>0</td>\n",
       "      <td>1</td>\n",
       "      <td>0</td>\n",
       "      <td>0</td>\n",
       "    </tr>\n",
       "    <tr>\n",
       "      <th>2</th>\n",
       "      <td>0</td>\n",
       "      <td>41</td>\n",
       "      <td>89</td>\n",
       "      <td>19</td>\n",
       "    </tr>\n",
       "    <tr>\n",
       "      <th>3</th>\n",
       "      <td>0</td>\n",
       "      <td>92</td>\n",
       "      <td>799</td>\n",
       "      <td>348</td>\n",
       "    </tr>\n",
       "    <tr>\n",
       "      <th>4</th>\n",
       "      <td>0</td>\n",
       "      <td>19</td>\n",
       "      <td>329</td>\n",
       "      <td>175</td>\n",
       "    </tr>\n",
       "  </tbody>\n",
       "</table>\n",
       "</div>"
      ],
      "text/plain": [
       "   1   2    3    4\n",
       "1  0   1    0    0\n",
       "2  0  41   89   19\n",
       "3  0  92  799  348\n",
       "4  0  19  329  175"
      ]
     },
     "execution_count": 44,
     "metadata": {},
     "output_type": "execute_result"
    }
   ],
   "source": [
    "transmat_visit"
   ]
  },
  {
   "cell_type": "markdown",
   "metadata": {},
   "source": [
    "Normalise each row to obtain transition probabilities."
   ]
  },
  {
   "cell_type": "code",
   "execution_count": 45,
   "metadata": {
    "collapsed": false
   },
   "outputs": [],
   "source": [
    "transmat_visit = normalise_transmat(transmat_visit)"
   ]
  },
  {
   "cell_type": "code",
   "execution_count": 46,
   "metadata": {
    "collapsed": false
   },
   "outputs": [
    {
     "data": {
      "text/html": [
       "<div>\n",
       "<table border=\"1\" class=\"dataframe\">\n",
       "  <thead>\n",
       "    <tr style=\"text-align: right;\">\n",
       "      <th></th>\n",
       "      <th>1</th>\n",
       "      <th>2</th>\n",
       "      <th>3</th>\n",
       "      <th>4</th>\n",
       "    </tr>\n",
       "  </thead>\n",
       "  <tbody>\n",
       "    <tr>\n",
       "      <th>1</th>\n",
       "      <td>0.111111</td>\n",
       "      <td>0.666667</td>\n",
       "      <td>0.111111</td>\n",
       "      <td>0.111111</td>\n",
       "    </tr>\n",
       "    <tr>\n",
       "      <th>2</th>\n",
       "      <td>0.023143</td>\n",
       "      <td>0.272838</td>\n",
       "      <td>0.565164</td>\n",
       "      <td>0.138855</td>\n",
       "    </tr>\n",
       "    <tr>\n",
       "      <th>3</th>\n",
       "      <td>0.014018</td>\n",
       "      <td>0.084108</td>\n",
       "      <td>0.622734</td>\n",
       "      <td>0.279141</td>\n",
       "    </tr>\n",
       "    <tr>\n",
       "      <th>4</th>\n",
       "      <td>0.007061</td>\n",
       "      <td>0.042363</td>\n",
       "      <td>0.618357</td>\n",
       "      <td>0.332219</td>\n",
       "    </tr>\n",
       "  </tbody>\n",
       "</table>\n",
       "</div>"
      ],
      "text/plain": [
       "          1         2         3         4\n",
       "1  0.111111  0.666667  0.111111  0.111111\n",
       "2  0.023143  0.272838  0.565164  0.138855\n",
       "3  0.014018  0.084108  0.622734  0.279141\n",
       "4  0.007061  0.042363  0.618357  0.332219"
      ]
     },
     "execution_count": 46,
     "metadata": {},
     "output_type": "execute_result"
    }
   ],
   "source": [
    "transmat_visit"
   ]
  },
  {
   "cell_type": "markdown",
   "metadata": {},
   "source": [
    "<a id='sec2.5'></a>"
   ]
  },
  {
   "cell_type": "markdown",
   "metadata": {},
   "source": [
    "## 2.5 Transition Matrix between POI Average Visit Duration Classes"
   ]
  },
  {
   "cell_type": "code",
   "execution_count": 47,
   "metadata": {
    "collapsed": false
   },
   "outputs": [],
   "source": [
    "poi_durations = poi_info_.loc[poi_train_, 'avgDuration']\n",
    "#sorted(poi_durations.unique().tolist())"
   ]
  },
  {
   "cell_type": "markdown",
   "metadata": {},
   "source": [
    "Discretize POI average visit duration with uniform log-scale bins (#bins $\\le 5$)."
   ]
  },
  {
   "cell_type": "code",
   "execution_count": 48,
   "metadata": {
    "collapsed": false
   },
   "outputs": [
    {
     "name": "stdout",
     "output_type": "stream",
     "text": [
      "Number of bins: 3\n"
     ]
    }
   ],
   "source": [
    "nbins_duration = nbins_df.loc[suffix[dat_ix], 'Duration']\n",
    "print('Number of bins:', nbins_duration)"
   ]
  },
  {
   "cell_type": "code",
   "execution_count": 49,
   "metadata": {
    "collapsed": false
   },
   "outputs": [
    {
     "name": "stdout",
     "output_type": "stream",
     "text": [
      "0.0 3.80257953449\n"
     ]
    }
   ],
   "source": [
    "expo_duration1 = np.log10(max(1, min(poi_durations)))\n",
    "expo_duration2 = np.log10(max(poi_durations))\n",
    "print(expo_duration1, expo_duration2)"
   ]
  },
  {
   "cell_type": "code",
   "execution_count": 50,
   "metadata": {
    "collapsed": false
   },
   "outputs": [
    {
     "data": {
      "text/plain": [
       "array([     0.        ,     21.5443469 ,    464.15888336,  10000.        ])"
      ]
     },
     "execution_count": 50,
     "metadata": {},
     "output_type": "execute_result"
    }
   ],
   "source": [
    "logbins_duration = np.logspace(np.floor(expo_duration1), np.ceil(expo_duration2), nbins_duration+1)\n",
    "logbins_duration[0] = 0  # deal with underflow\n",
    "logbins_duration"
   ]
  },
  {
   "cell_type": "code",
   "execution_count": 51,
   "metadata": {
    "collapsed": false
   },
   "outputs": [
    {
     "data": {
      "image/png": "[encoded data removed]",
      "text/plain": [
       "<matplotlib.figure.Figure at 0x7f7337251828>"
      ]
     },
     "metadata": {},
     "output_type": "display_data"
    }
   ],
   "source": [
    "ax = pd.Series(poi_durations).hist(figsize=(5, 3), bins=logbins_duration)\n",
    "ax.set_xscale('log')"
   ]
  },
  {
   "cell_type": "code",
   "execution_count": 52,
   "metadata": {
    "collapsed": false
   },
   "outputs": [],
   "source": [
    "transmat_duration = pd.DataFrame(data=np.zeros((nbins_duration, nbins_duration), dtype=np.float), \\\n",
    "                                 columns=np.arange(1, nbins_duration+1), index=np.arange(1, nbins_duration+1))"
   ]
  },
  {
   "cell_type": "markdown",
   "metadata": {},
   "source": [
    "Count the number of transitions between POI average visit duration classes."
   ]
  },
  {
   "cell_type": "code",
   "execution_count": 53,
   "metadata": {
    "collapsed": false
   },
   "outputs": [],
   "source": [
    "for tid in trajid_set_all:\n",
    "    t = extract_traj(tid, traj_all)\n",
    "    if len(t) > 1:\n",
    "        for pi in range(len(t)-1):\n",
    "            p1 = t[pi]\n",
    "            p2 = t[pi+1]\n",
    "            d1 = poi_info_.loc[p1, 'avgDuration']\n",
    "            d2 = poi_info_.loc[p2, 'avgDuration']\n",
    "            dc1, dc2 = np.digitize([d1, d2], logbins_duration)\n",
    "            transmat_duration.loc[dc1, dc2] += 1"
   ]
  },
  {
   "cell_type": "code",
   "execution_count": 54,
   "metadata": {
    "collapsed": false
   },
   "outputs": [
    {
     "data": {
      "text/html": [
       "<div>\n",
       "<table border=\"1\" class=\"dataframe\">\n",
       "  <thead>\n",
       "    <tr style=\"text-align: right;\">\n",
       "      <th></th>\n",
       "      <th>1</th>\n",
       "      <th>2</th>\n",
       "      <th>3</th>\n",
       "    </tr>\n",
       "  </thead>\n",
       "  <tbody>\n",
       "    <tr>\n",
       "      <th>1</th>\n",
       "      <td>0</td>\n",
       "      <td>0</td>\n",
       "      <td>1</td>\n",
       "    </tr>\n",
       "    <tr>\n",
       "      <th>2</th>\n",
       "      <td>0</td>\n",
       "      <td>16</td>\n",
       "      <td>219</td>\n",
       "    </tr>\n",
       "    <tr>\n",
       "      <th>3</th>\n",
       "      <td>1</td>\n",
       "      <td>203</td>\n",
       "      <td>1472</td>\n",
       "    </tr>\n",
       "  </tbody>\n",
       "</table>\n",
       "</div>"
      ],
      "text/plain": [
       "   1    2     3\n",
       "1  0    0     1\n",
       "2  0   16   219\n",
       "3  1  203  1472"
      ]
     },
     "execution_count": 54,
     "metadata": {},
     "output_type": "execute_result"
    }
   ],
   "source": [
    "transmat_duration"
   ]
  },
  {
   "cell_type": "markdown",
   "metadata": {},
   "source": [
    "Normalise each row to obtain transition probabilities."
   ]
  },
  {
   "cell_type": "code",
   "execution_count": 55,
   "metadata": {
    "collapsed": true
   },
   "outputs": [],
   "source": [
    "transmat_duration = normalise_transmat(transmat_duration)"
   ]
  },
  {
   "cell_type": "code",
   "execution_count": 56,
   "metadata": {
    "collapsed": false
   },
   "outputs": [
    {
     "data": {
      "text/html": [
       "<div>\n",
       "<table border=\"1\" class=\"dataframe\">\n",
       "  <thead>\n",
       "    <tr style=\"text-align: right;\">\n",
       "      <th></th>\n",
       "      <th>1</th>\n",
       "      <th>2</th>\n",
       "      <th>3</th>\n",
       "    </tr>\n",
       "  </thead>\n",
       "  <tbody>\n",
       "    <tr>\n",
       "      <th>1</th>\n",
       "      <td>0.125000</td>\n",
       "      <td>0.125000</td>\n",
       "      <td>0.750000</td>\n",
       "    </tr>\n",
       "    <tr>\n",
       "      <th>2</th>\n",
       "      <td>0.013083</td>\n",
       "      <td>0.078496</td>\n",
       "      <td>0.908422</td>\n",
       "    </tr>\n",
       "    <tr>\n",
       "      <th>3</th>\n",
       "      <td>0.000597</td>\n",
       "      <td>0.121122</td>\n",
       "      <td>0.878282</td>\n",
       "    </tr>\n",
       "  </tbody>\n",
       "</table>\n",
       "</div>"
      ],
      "text/plain": [
       "          1         2         3\n",
       "1  0.125000  0.125000  0.750000\n",
       "2  0.013083  0.078496  0.908422\n",
       "3  0.000597  0.121122  0.878282"
      ]
     },
     "execution_count": 56,
     "metadata": {},
     "output_type": "execute_result"
    }
   ],
   "source": [
    "transmat_duration"
   ]
  },
  {
   "cell_type": "markdown",
   "metadata": {},
   "source": [
    "<a id='sec2.6'></a>"
   ]
  },
  {
   "cell_type": "markdown",
   "metadata": {},
   "source": [
    "## 2.6 Transition Matrix between POI Neighborhood Classes"
   ]
  },
  {
   "cell_type": "markdown",
   "metadata": {},
   "source": [
    "Compute POI neighborhoods, i.e., clustering POI (lat, lon) in training set using k-means, #clusters $\\le 5$."
   ]
  },
  {
   "cell_type": "markdown",
   "metadata": {},
   "source": [
    "KMeans in scikit-learn seems unable to use custom distance metric and no implementation of [Haversine formula](http://en.wikipedia.org/wiki/Great-circle_distance), use Euclidean distance to approximate."
   ]
  },
  {
   "cell_type": "code",
   "execution_count": 57,
   "metadata": {
    "collapsed": false
   },
   "outputs": [
    {
     "name": "stdout",
     "output_type": "stream",
     "text": [
      "Number of clusters: 5\n"
     ]
    }
   ],
   "source": [
    "nclusters = nbins_df.loc[suffix[dat_ix], 'Cluster']\n",
    "print('Number of clusters:', nclusters)"
   ]
  },
  {
   "cell_type": "code",
   "execution_count": 58,
   "metadata": {
    "collapsed": false
   },
   "outputs": [],
   "source": [
    "X = poi_all.loc[poi_train_, ['poiLon', 'poiLat']]"
   ]
  },
  {
   "cell_type": "code",
   "execution_count": 59,
   "metadata": {
    "collapsed": false
   },
   "outputs": [
    {
     "data": {
      "text/plain": [
       "KMeans(copy_x=True, init='k-means++', max_iter=300, n_clusters=5, n_init=10,\n",
       "    n_jobs=1, precompute_distances='auto', random_state=None, tol=0.0001,\n",
       "    verbose=0)"
      ]
     },
     "execution_count": 59,
     "metadata": {},
     "output_type": "execute_result"
    }
   ],
   "source": [
    "kmeans = KMeans(n_clusters=nclusters)\n",
    "kmeans.fit(X)"
   ]
  },
  {
   "cell_type": "code",
   "execution_count": 60,
   "metadata": {
    "collapsed": false
   },
   "outputs": [],
   "source": [
    "clusters = kmeans.predict(X)\n",
    "#clusters"
   ]
  },
  {
   "cell_type": "code",
   "execution_count": 61,
   "metadata": {
    "collapsed": false
   },
   "outputs": [],
   "source": [
    "poi_clusters = pd.DataFrame(data=clusters, index=poi_train_)\n",
    "poi_clusters.index.name = 'poiID'\n",
    "poi_clusters.rename(columns={0:'clusterID'}, inplace=True)\n",
    "#poi_clusters"
   ]
  },
  {
   "cell_type": "markdown",
   "metadata": {},
   "source": [
    "Scatter plot of POI coordinates with clustering results."
   ]
  },
  {
   "cell_type": "code",
   "execution_count": 62,
   "metadata": {
    "collapsed": false
   },
   "outputs": [],
   "source": [
    "diff = poi_all.loc[poi_train_, ['poiLon', 'poiLat']].max() - poi_all.loc[poi_train_, ['poiLon', 'poiLat']].min()\n",
    "ratio = diff['poiLon'] / diff['poiLat']\n",
    "#ratio"
   ]
  },
  {
   "cell_type": "code",
   "execution_count": 63,
   "metadata": {
    "collapsed": false
   },
   "outputs": [
    {
     "data": {
      "text/plain": [
       "<matplotlib.collections.PathCollection at 0x7f733747a748>"
      ]
     },
     "execution_count": 63,
     "metadata": {},
     "output_type": "execute_result"
    },
    {
     "data": {
      "image/png": "[encoded data removed]",
      "text/plain": [
       "<matplotlib.figure.Figure at 0x7f73372bd400>"
      ]
     },
     "metadata": {},
     "output_type": "display_data"
    }
   ],
   "source": [
    "height = 4; width = int(round(ratio)*height)\n",
    "plt.figure(figsize=[width, height])\n",
    "plt.scatter(poi_all.loc[poi_train_, 'poiLon'], poi_all.loc[poi_train_, 'poiLat'], c=clusters, s=50)"
   ]
  },
  {
   "cell_type": "code",
   "execution_count": 64,
   "metadata": {
    "collapsed": false
   },
   "outputs": [],
   "source": [
    "transmat_neighbor = pd.DataFrame(data=np.zeros((nclusters, nclusters), dtype=np.float), \\\n",
    "                                 columns=np.arange(nclusters), index=np.arange(nclusters))"
   ]
  },
  {
   "cell_type": "markdown",
   "metadata": {},
   "source": [
    "Count the number of transitions between POIs in different clusters."
   ]
  },
  {
   "cell_type": "code",
   "execution_count": 65,
   "metadata": {
    "collapsed": false
   },
   "outputs": [],
   "source": [
    "for tid in trajid_set_all:\n",
    "    t = extract_traj(tid, traj_all)\n",
    "    if len(t) > 1:\n",
    "        for pi in range(len(t)-1):\n",
    "            p1 = t[pi]\n",
    "            p2 = t[pi+1]\n",
    "            c1 = poi_clusters.loc[p1, 'clusterID']\n",
    "            c2 = poi_clusters.loc[p2, 'clusterID']\n",
    "            transmat_neighbor.loc[c1, c2] += 1"
   ]
  },
  {
   "cell_type": "code",
   "execution_count": 66,
   "metadata": {
    "collapsed": false
   },
   "outputs": [
    {
     "data": {
      "text/html": [
       "<div>\n",
       "<table border=\"1\" class=\"dataframe\">\n",
       "  <thead>\n",
       "    <tr style=\"text-align: right;\">\n",
       "      <th></th>\n",
       "      <th>0</th>\n",
       "      <th>1</th>\n",
       "      <th>2</th>\n",
       "      <th>3</th>\n",
       "      <th>4</th>\n",
       "    </tr>\n",
       "  </thead>\n",
       "  <tbody>\n",
       "    <tr>\n",
       "      <th>0</th>\n",
       "      <td>1153</td>\n",
       "      <td>0</td>\n",
       "      <td>191</td>\n",
       "      <td>5</td>\n",
       "      <td>27</td>\n",
       "    </tr>\n",
       "    <tr>\n",
       "      <th>1</th>\n",
       "      <td>0</td>\n",
       "      <td>0</td>\n",
       "      <td>0</td>\n",
       "      <td>0</td>\n",
       "      <td>0</td>\n",
       "    </tr>\n",
       "    <tr>\n",
       "      <th>2</th>\n",
       "      <td>227</td>\n",
       "      <td>0</td>\n",
       "      <td>233</td>\n",
       "      <td>8</td>\n",
       "      <td>9</td>\n",
       "    </tr>\n",
       "    <tr>\n",
       "      <th>3</th>\n",
       "      <td>6</td>\n",
       "      <td>0</td>\n",
       "      <td>5</td>\n",
       "      <td>0</td>\n",
       "      <td>0</td>\n",
       "    </tr>\n",
       "    <tr>\n",
       "      <th>4</th>\n",
       "      <td>28</td>\n",
       "      <td>0</td>\n",
       "      <td>8</td>\n",
       "      <td>0</td>\n",
       "      <td>12</td>\n",
       "    </tr>\n",
       "  </tbody>\n",
       "</table>\n",
       "</div>"
      ],
      "text/plain": [
       "      0  1    2  3   4\n",
       "0  1153  0  191  5  27\n",
       "1     0  0    0  0   0\n",
       "2   227  0  233  8   9\n",
       "3     6  0    5  0   0\n",
       "4    28  0    8  0  12"
      ]
     },
     "execution_count": 66,
     "metadata": {},
     "output_type": "execute_result"
    }
   ],
   "source": [
    "transmat_neighbor"
   ]
  },
  {
   "cell_type": "markdown",
   "metadata": {},
   "source": [
    "Normalise each row to obtain transition probabilities."
   ]
  },
  {
   "cell_type": "code",
   "execution_count": 67,
   "metadata": {
    "collapsed": true
   },
   "outputs": [],
   "source": [
    "transmat_neighbor = normalise_transmat(transmat_neighbor)"
   ]
  },
  {
   "cell_type": "code",
   "execution_count": 68,
   "metadata": {
    "collapsed": false
   },
   "outputs": [
    {
     "data": {
      "text/html": [
       "<div>\n",
       "<table border=\"1\" class=\"dataframe\">\n",
       "  <thead>\n",
       "    <tr style=\"text-align: right;\">\n",
       "      <th></th>\n",
       "      <th>0</th>\n",
       "      <th>1</th>\n",
       "      <th>2</th>\n",
       "      <th>3</th>\n",
       "      <th>4</th>\n",
       "    </tr>\n",
       "  </thead>\n",
       "  <tbody>\n",
       "    <tr>\n",
       "      <th>0</th>\n",
       "      <td>0.835626</td>\n",
       "      <td>0.000724</td>\n",
       "      <td>0.139030</td>\n",
       "      <td>0.004345</td>\n",
       "      <td>0.020275</td>\n",
       "    </tr>\n",
       "    <tr>\n",
       "      <th>1</th>\n",
       "      <td>0.200000</td>\n",
       "      <td>0.200000</td>\n",
       "      <td>0.200000</td>\n",
       "      <td>0.200000</td>\n",
       "      <td>0.200000</td>\n",
       "    </tr>\n",
       "    <tr>\n",
       "      <th>2</th>\n",
       "      <td>0.471340</td>\n",
       "      <td>0.003299</td>\n",
       "      <td>0.483711</td>\n",
       "      <td>0.019794</td>\n",
       "      <td>0.021856</td>\n",
       "    </tr>\n",
       "    <tr>\n",
       "      <th>3</th>\n",
       "      <td>0.437500</td>\n",
       "      <td>0.062500</td>\n",
       "      <td>0.375000</td>\n",
       "      <td>0.062500</td>\n",
       "      <td>0.062500</td>\n",
       "    </tr>\n",
       "    <tr>\n",
       "      <th>4</th>\n",
       "      <td>0.528571</td>\n",
       "      <td>0.028571</td>\n",
       "      <td>0.171429</td>\n",
       "      <td>0.028571</td>\n",
       "      <td>0.242857</td>\n",
       "    </tr>\n",
       "  </tbody>\n",
       "</table>\n",
       "</div>"
      ],
      "text/plain": [
       "          0         1         2         3         4\n",
       "0  0.835626  0.000724  0.139030  0.004345  0.020275\n",
       "1  0.200000  0.200000  0.200000  0.200000  0.200000\n",
       "2  0.471340  0.003299  0.483711  0.019794  0.021856\n",
       "3  0.437500  0.062500  0.375000  0.062500  0.062500\n",
       "4  0.528571  0.028571  0.171429  0.028571  0.242857"
      ]
     },
     "execution_count": 68,
     "metadata": {},
     "output_type": "execute_result"
    }
   ],
   "source": [
    "transmat_neighbor"
   ]
  },
  {
   "cell_type": "markdown",
   "metadata": {},
   "source": [
    "<a id='sec2.7'></a>"
   ]
  },
  {
   "cell_type": "markdown",
   "metadata": {},
   "source": [
    "## 2.7 Transition Matrix between POIs"
   ]
  },
  {
   "cell_type": "markdown",
   "metadata": {},
   "source": [
    "Approximate transition probabilities (matrix) between different POI features (vector) using the [Kronecker product](https://en.wikipedia.org/wiki/Kronecker_product) of individual transition matrix corresponding to each feature, i.e., POI category, POI popularity (discritized), POI average visit duration (discritized) and POI neighborhoods (clusters)."
   ]
  },
  {
   "cell_type": "code",
   "execution_count": 69,
   "metadata": {
    "collapsed": false
   },
   "outputs": [],
   "source": [
    "transmat_value = transmat_cat.values\n",
    "for transmat in [transmat_pop, transmat_visit, transmat_duration, transmat_neighbor]:\n",
    "    transmat_value = kron(transmat_value, transmat.values)"
   ]
  },
  {
   "cell_type": "markdown",
   "metadata": {},
   "source": [
    "Index of Kronecker product."
   ]
  },
  {
   "cell_type": "code",
   "execution_count": 70,
   "metadata": {
    "collapsed": true
   },
   "outputs": [],
   "source": [
    "transmat_ix = list(itertools.product(transmat_cat.index, transmat_pop.index, transmat_visit.index, \\\n",
    "                                     transmat_duration.index, transmat_neighbor.index))"
   ]
  },
  {
   "cell_type": "code",
   "execution_count": 71,
   "metadata": {
    "collapsed": false
   },
   "outputs": [],
   "source": [
    "transmat_feature = pd.DataFrame(data=transmat_value, index=transmat_ix, columns=transmat_ix)\n",
    "transmat_feature.index.name = '(poiTheme, popularity, avgDuration, clusterID)'\n",
    "#transmat_feature.head()"
   ]
  },
  {
   "cell_type": "code",
   "execution_count": 72,
   "metadata": {
    "collapsed": false
   },
   "outputs": [
    {
     "name": "stdout",
     "output_type": "stream",
     "text": [
      "(9, 9)\n",
      "(5, 5)\n",
      "(4, 4)\n",
      "(3, 3)\n",
      "(5, 5)\n",
      "(2700, 2700)\n"
     ]
    }
   ],
   "source": [
    "print(transmat_cat.shape)\n",
    "print(transmat_pop.shape)\n",
    "print(transmat_visit.shape)\n",
    "print(transmat_duration.shape)\n",
    "print(transmat_neighbor.shape)\n",
    "print(transmat_feature.shape)"
   ]
  },
  {
   "cell_type": "code",
   "execution_count": 73,
   "metadata": {
    "collapsed": false
   },
   "outputs": [
    {
     "data": {
      "text/html": [
       "<div>\n",
       "<table border=\"1\" class=\"dataframe\">\n",
       "  <thead>\n",
       "    <tr style=\"text-align: right;\">\n",
       "      <th></th>\n",
       "      <th>(City precincts, 1, 1, 1, 0)</th>\n",
       "      <th>(City precincts, 1, 1, 1, 1)</th>\n",
       "      <th>(City precincts, 1, 1, 1, 2)</th>\n",
       "      <th>(City precincts, 1, 1, 1, 3)</th>\n",
       "      <th>(City precincts, 1, 1, 1, 4)</th>\n",
       "      <th>(City precincts, 1, 1, 2, 0)</th>\n",
       "      <th>(City precincts, 1, 1, 2, 1)</th>\n",
       "      <th>(City precincts, 1, 1, 2, 2)</th>\n",
       "      <th>(City precincts, 1, 1, 2, 3)</th>\n",
       "      <th>(City precincts, 1, 1, 2, 4)</th>\n",
       "      <th>...</th>\n",
       "      <th>(Transport, 5, 4, 2, 0)</th>\n",
       "      <th>(Transport, 5, 4, 2, 1)</th>\n",
       "      <th>(Transport, 5, 4, 2, 2)</th>\n",
       "      <th>(Transport, 5, 4, 2, 3)</th>\n",
       "      <th>(Transport, 5, 4, 2, 4)</th>\n",
       "      <th>(Transport, 5, 4, 3, 0)</th>\n",
       "      <th>(Transport, 5, 4, 3, 1)</th>\n",
       "      <th>(Transport, 5, 4, 3, 2)</th>\n",
       "      <th>(Transport, 5, 4, 3, 3)</th>\n",
       "      <th>(Transport, 5, 4, 3, 4)</th>\n",
       "    </tr>\n",
       "    <tr>\n",
       "      <th>(poiTheme, popularity, avgDuration, clusterID)</th>\n",
       "      <th></th>\n",
       "      <th></th>\n",
       "      <th></th>\n",
       "      <th></th>\n",
       "      <th></th>\n",
       "      <th></th>\n",
       "      <th></th>\n",
       "      <th></th>\n",
       "      <th></th>\n",
       "      <th></th>\n",
       "      <th></th>\n",
       "      <th></th>\n",
       "      <th></th>\n",
       "      <th></th>\n",
       "      <th></th>\n",
       "      <th></th>\n",
       "      <th></th>\n",
       "      <th></th>\n",
       "      <th></th>\n",
       "      <th></th>\n",
       "      <th></th>\n",
       "    </tr>\n",
       "  </thead>\n",
       "  <tbody>\n",
       "    <tr>\n",
       "      <th>(City precincts, 1, 1, 1, 0)</th>\n",
       "      <td>0.000050</td>\n",
       "      <td>4.310196e-08</td>\n",
       "      <td>0.000008</td>\n",
       "      <td>2.586118e-07</td>\n",
       "      <td>0.000001</td>\n",
       "      <td>0.000050</td>\n",
       "      <td>4.310196e-08</td>\n",
       "      <td>0.000008</td>\n",
       "      <td>2.586118e-07</td>\n",
       "      <td>0.000001</td>\n",
       "      <td>...</td>\n",
       "      <td>0.000141</td>\n",
       "      <td>1.221222e-07</td>\n",
       "      <td>0.000023</td>\n",
       "      <td>7.327334e-07</td>\n",
       "      <td>0.000003</td>\n",
       "      <td>0.000846</td>\n",
       "      <td>7.327334e-07</td>\n",
       "      <td>0.000141</td>\n",
       "      <td>0.000004</td>\n",
       "      <td>0.000021</td>\n",
       "    </tr>\n",
       "    <tr>\n",
       "      <th>(City precincts, 1, 1, 1, 1)</th>\n",
       "      <td>0.000012</td>\n",
       "      <td>1.190476e-05</td>\n",
       "      <td>0.000012</td>\n",
       "      <td>1.190476e-05</td>\n",
       "      <td>0.000012</td>\n",
       "      <td>0.000012</td>\n",
       "      <td>1.190476e-05</td>\n",
       "      <td>0.000012</td>\n",
       "      <td>1.190476e-05</td>\n",
       "      <td>0.000012</td>\n",
       "      <td>...</td>\n",
       "      <td>0.000034</td>\n",
       "      <td>3.373016e-05</td>\n",
       "      <td>0.000034</td>\n",
       "      <td>3.373016e-05</td>\n",
       "      <td>0.000034</td>\n",
       "      <td>0.000202</td>\n",
       "      <td>2.023810e-04</td>\n",
       "      <td>0.000202</td>\n",
       "      <td>0.000202</td>\n",
       "      <td>0.000202</td>\n",
       "    </tr>\n",
       "    <tr>\n",
       "      <th>(City precincts, 1, 1, 1, 2)</th>\n",
       "      <td>0.000028</td>\n",
       "      <td>1.963672e-07</td>\n",
       "      <td>0.000029</td>\n",
       "      <td>1.178203e-06</td>\n",
       "      <td>0.000001</td>\n",
       "      <td>0.000028</td>\n",
       "      <td>1.963672e-07</td>\n",
       "      <td>0.000029</td>\n",
       "      <td>1.178203e-06</td>\n",
       "      <td>0.000001</td>\n",
       "      <td>...</td>\n",
       "      <td>0.000079</td>\n",
       "      <td>5.563738e-07</td>\n",
       "      <td>0.000082</td>\n",
       "      <td>3.338243e-06</td>\n",
       "      <td>0.000004</td>\n",
       "      <td>0.000477</td>\n",
       "      <td>3.338243e-06</td>\n",
       "      <td>0.000489</td>\n",
       "      <td>0.000020</td>\n",
       "      <td>0.000022</td>\n",
       "    </tr>\n",
       "    <tr>\n",
       "      <th>(City precincts, 1, 1, 1, 3)</th>\n",
       "      <td>0.000026</td>\n",
       "      <td>3.720238e-06</td>\n",
       "      <td>0.000022</td>\n",
       "      <td>3.720238e-06</td>\n",
       "      <td>0.000004</td>\n",
       "      <td>0.000026</td>\n",
       "      <td>3.720238e-06</td>\n",
       "      <td>0.000022</td>\n",
       "      <td>3.720238e-06</td>\n",
       "      <td>0.000004</td>\n",
       "      <td>...</td>\n",
       "      <td>0.000074</td>\n",
       "      <td>1.054067e-05</td>\n",
       "      <td>0.000063</td>\n",
       "      <td>1.054067e-05</td>\n",
       "      <td>0.000011</td>\n",
       "      <td>0.000443</td>\n",
       "      <td>6.324405e-05</td>\n",
       "      <td>0.000379</td>\n",
       "      <td>0.000063</td>\n",
       "      <td>0.000063</td>\n",
       "    </tr>\n",
       "    <tr>\n",
       "      <th>(City precincts, 1, 1, 1, 4)</th>\n",
       "      <td>0.000031</td>\n",
       "      <td>1.700680e-06</td>\n",
       "      <td>0.000010</td>\n",
       "      <td>1.700680e-06</td>\n",
       "      <td>0.000014</td>\n",
       "      <td>0.000031</td>\n",
       "      <td>1.700680e-06</td>\n",
       "      <td>0.000010</td>\n",
       "      <td>1.700680e-06</td>\n",
       "      <td>0.000014</td>\n",
       "      <td>...</td>\n",
       "      <td>0.000089</td>\n",
       "      <td>4.818594e-06</td>\n",
       "      <td>0.000029</td>\n",
       "      <td>4.818594e-06</td>\n",
       "      <td>0.000041</td>\n",
       "      <td>0.000535</td>\n",
       "      <td>2.891156e-05</td>\n",
       "      <td>0.000173</td>\n",
       "      <td>0.000029</td>\n",
       "      <td>0.000246</td>\n",
       "    </tr>\n",
       "  </tbody>\n",
       "</table>\n",
       "<p>5 rows × 2700 columns</p>\n",
       "</div>"
      ],
      "text/plain": [
       "                                                (City precincts, 1, 1, 1, 0)  \\\n",
       "(poiTheme, popularity, avgDuration, clusterID)                                 \n",
       "(City precincts, 1, 1, 1, 0)                                        0.000050   \n",
       "(City precincts, 1, 1, 1, 1)                                        0.000012   \n",
       "(City precincts, 1, 1, 1, 2)                                        0.000028   \n",
       "(City precincts, 1, 1, 1, 3)                                        0.000026   \n",
       "(City precincts, 1, 1, 1, 4)                                        0.000031   \n",
       "\n",
       "                                                (City precincts, 1, 1, 1, 1)  \\\n",
       "(poiTheme, popularity, avgDuration, clusterID)                                 \n",
       "(City precincts, 1, 1, 1, 0)                                    4.310196e-08   \n",
       "(City precincts, 1, 1, 1, 1)                                    1.190476e-05   \n",
       "(City precincts, 1, 1, 1, 2)                                    1.963672e-07   \n",
       "(City precincts, 1, 1, 1, 3)                                    3.720238e-06   \n",
       "(City precincts, 1, 1, 1, 4)                                    1.700680e-06   \n",
       "\n",
       "                                                (City precincts, 1, 1, 1, 2)  \\\n",
       "(poiTheme, popularity, avgDuration, clusterID)                                 \n",
       "(City precincts, 1, 1, 1, 0)                                        0.000008   \n",
       "(City precincts, 1, 1, 1, 1)                                        0.000012   \n",
       "(City precincts, 1, 1, 1, 2)                                        0.000029   \n",
       "(City precincts, 1, 1, 1, 3)                                        0.000022   \n",
       "(City precincts, 1, 1, 1, 4)                                        0.000010   \n",
       "\n",
       "                                                (City precincts, 1, 1, 1, 3)  \\\n",
       "(poiTheme, popularity, avgDuration, clusterID)                                 \n",
       "(City precincts, 1, 1, 1, 0)                                    2.586118e-07   \n",
       "(City precincts, 1, 1, 1, 1)                                    1.190476e-05   \n",
       "(City precincts, 1, 1, 1, 2)                                    1.178203e-06   \n",
       "(City precincts, 1, 1, 1, 3)                                    3.720238e-06   \n",
       "(City precincts, 1, 1, 1, 4)                                    1.700680e-06   \n",
       "\n",
       "                                                (City precincts, 1, 1, 1, 4)  \\\n",
       "(poiTheme, popularity, avgDuration, clusterID)                                 \n",
       "(City precincts, 1, 1, 1, 0)                                        0.000001   \n",
       "(City precincts, 1, 1, 1, 1)                                        0.000012   \n",
       "(City precincts, 1, 1, 1, 2)                                        0.000001   \n",
       "(City precincts, 1, 1, 1, 3)                                        0.000004   \n",
       "(City precincts, 1, 1, 1, 4)                                        0.000014   \n",
       "\n",
       "                                                (City precincts, 1, 1, 2, 0)  \\\n",
       "(poiTheme, popularity, avgDuration, clusterID)                                 \n",
       "(City precincts, 1, 1, 1, 0)                                        0.000050   \n",
       "(City precincts, 1, 1, 1, 1)                                        0.000012   \n",
       "(City precincts, 1, 1, 1, 2)                                        0.000028   \n",
       "(City precincts, 1, 1, 1, 3)                                        0.000026   \n",
       "(City precincts, 1, 1, 1, 4)                                        0.000031   \n",
       "\n",
       "                                                (City precincts, 1, 1, 2, 1)  \\\n",
       "(poiTheme, popularity, avgDuration, clusterID)                                 \n",
       "(City precincts, 1, 1, 1, 0)                                    4.310196e-08   \n",
       "(City precincts, 1, 1, 1, 1)                                    1.190476e-05   \n",
       "(City precincts, 1, 1, 1, 2)                                    1.963672e-07   \n",
       "(City precincts, 1, 1, 1, 3)                                    3.720238e-06   \n",
       "(City precincts, 1, 1, 1, 4)                                    1.700680e-06   \n",
       "\n",
       "                                                (City precincts, 1, 1, 2, 2)  \\\n",
       "(poiTheme, popularity, avgDuration, clusterID)                                 \n",
       "(City precincts, 1, 1, 1, 0)                                        0.000008   \n",
       "(City precincts, 1, 1, 1, 1)                                        0.000012   \n",
       "(City precincts, 1, 1, 1, 2)                                        0.000029   \n",
       "(City precincts, 1, 1, 1, 3)                                        0.000022   \n",
       "(City precincts, 1, 1, 1, 4)                                        0.000010   \n",
       "\n",
       "                                                (City precincts, 1, 1, 2, 3)  \\\n",
       "(poiTheme, popularity, avgDuration, clusterID)                                 \n",
       "(City precincts, 1, 1, 1, 0)                                    2.586118e-07   \n",
       "(City precincts, 1, 1, 1, 1)                                    1.190476e-05   \n",
       "(City precincts, 1, 1, 1, 2)                                    1.178203e-06   \n",
       "(City precincts, 1, 1, 1, 3)                                    3.720238e-06   \n",
       "(City precincts, 1, 1, 1, 4)                                    1.700680e-06   \n",
       "\n",
       "                                                (City precincts, 1, 1, 2, 4)  \\\n",
       "(poiTheme, popularity, avgDuration, clusterID)                                 \n",
       "(City precincts, 1, 1, 1, 0)                                        0.000001   \n",
       "(City precincts, 1, 1, 1, 1)                                        0.000012   \n",
       "(City precincts, 1, 1, 1, 2)                                        0.000001   \n",
       "(City precincts, 1, 1, 1, 3)                                        0.000004   \n",
       "(City precincts, 1, 1, 1, 4)                                        0.000014   \n",
       "\n",
       "                                                         ...             \\\n",
       "(poiTheme, popularity, avgDuration, clusterID)           ...              \n",
       "(City precincts, 1, 1, 1, 0)                             ...              \n",
       "(City precincts, 1, 1, 1, 1)                             ...              \n",
       "(City precincts, 1, 1, 1, 2)                             ...              \n",
       "(City precincts, 1, 1, 1, 3)                             ...              \n",
       "(City precincts, 1, 1, 1, 4)                             ...              \n",
       "\n",
       "                                                (Transport, 5, 4, 2, 0)  \\\n",
       "(poiTheme, popularity, avgDuration, clusterID)                            \n",
       "(City precincts, 1, 1, 1, 0)                                   0.000141   \n",
       "(City precincts, 1, 1, 1, 1)                                   0.000034   \n",
       "(City precincts, 1, 1, 1, 2)                                   0.000079   \n",
       "(City precincts, 1, 1, 1, 3)                                   0.000074   \n",
       "(City precincts, 1, 1, 1, 4)                                   0.000089   \n",
       "\n",
       "                                                (Transport, 5, 4, 2, 1)  \\\n",
       "(poiTheme, popularity, avgDuration, clusterID)                            \n",
       "(City precincts, 1, 1, 1, 0)                               1.221222e-07   \n",
       "(City precincts, 1, 1, 1, 1)                               3.373016e-05   \n",
       "(City precincts, 1, 1, 1, 2)                               5.563738e-07   \n",
       "(City precincts, 1, 1, 1, 3)                               1.054067e-05   \n",
       "(City precincts, 1, 1, 1, 4)                               4.818594e-06   \n",
       "\n",
       "                                                (Transport, 5, 4, 2, 2)  \\\n",
       "(poiTheme, popularity, avgDuration, clusterID)                            \n",
       "(City precincts, 1, 1, 1, 0)                                   0.000023   \n",
       "(City precincts, 1, 1, 1, 1)                                   0.000034   \n",
       "(City precincts, 1, 1, 1, 2)                                   0.000082   \n",
       "(City precincts, 1, 1, 1, 3)                                   0.000063   \n",
       "(City precincts, 1, 1, 1, 4)                                   0.000029   \n",
       "\n",
       "                                                (Transport, 5, 4, 2, 3)  \\\n",
       "(poiTheme, popularity, avgDuration, clusterID)                            \n",
       "(City precincts, 1, 1, 1, 0)                               7.327334e-07   \n",
       "(City precincts, 1, 1, 1, 1)                               3.373016e-05   \n",
       "(City precincts, 1, 1, 1, 2)                               3.338243e-06   \n",
       "(City precincts, 1, 1, 1, 3)                               1.054067e-05   \n",
       "(City precincts, 1, 1, 1, 4)                               4.818594e-06   \n",
       "\n",
       "                                                (Transport, 5, 4, 2, 4)  \\\n",
       "(poiTheme, popularity, avgDuration, clusterID)                            \n",
       "(City precincts, 1, 1, 1, 0)                                   0.000003   \n",
       "(City precincts, 1, 1, 1, 1)                                   0.000034   \n",
       "(City precincts, 1, 1, 1, 2)                                   0.000004   \n",
       "(City precincts, 1, 1, 1, 3)                                   0.000011   \n",
       "(City precincts, 1, 1, 1, 4)                                   0.000041   \n",
       "\n",
       "                                                (Transport, 5, 4, 3, 0)  \\\n",
       "(poiTheme, popularity, avgDuration, clusterID)                            \n",
       "(City precincts, 1, 1, 1, 0)                                   0.000846   \n",
       "(City precincts, 1, 1, 1, 1)                                   0.000202   \n",
       "(City precincts, 1, 1, 1, 2)                                   0.000477   \n",
       "(City precincts, 1, 1, 1, 3)                                   0.000443   \n",
       "(City precincts, 1, 1, 1, 4)                                   0.000535   \n",
       "\n",
       "                                                (Transport, 5, 4, 3, 1)  \\\n",
       "(poiTheme, popularity, avgDuration, clusterID)                            \n",
       "(City precincts, 1, 1, 1, 0)                               7.327334e-07   \n",
       "(City precincts, 1, 1, 1, 1)                               2.023810e-04   \n",
       "(City precincts, 1, 1, 1, 2)                               3.338243e-06   \n",
       "(City precincts, 1, 1, 1, 3)                               6.324405e-05   \n",
       "(City precincts, 1, 1, 1, 4)                               2.891156e-05   \n",
       "\n",
       "                                                (Transport, 5, 4, 3, 2)  \\\n",
       "(poiTheme, popularity, avgDuration, clusterID)                            \n",
       "(City precincts, 1, 1, 1, 0)                                   0.000141   \n",
       "(City precincts, 1, 1, 1, 1)                                   0.000202   \n",
       "(City precincts, 1, 1, 1, 2)                                   0.000489   \n",
       "(City precincts, 1, 1, 1, 3)                                   0.000379   \n",
       "(City precincts, 1, 1, 1, 4)                                   0.000173   \n",
       "\n",
       "                                                (Transport, 5, 4, 3, 3)  \\\n",
       "(poiTheme, popularity, avgDuration, clusterID)                            \n",
       "(City precincts, 1, 1, 1, 0)                                   0.000004   \n",
       "(City precincts, 1, 1, 1, 1)                                   0.000202   \n",
       "(City precincts, 1, 1, 1, 2)                                   0.000020   \n",
       "(City precincts, 1, 1, 1, 3)                                   0.000063   \n",
       "(City precincts, 1, 1, 1, 4)                                   0.000029   \n",
       "\n",
       "                                                (Transport, 5, 4, 3, 4)  \n",
       "(poiTheme, popularity, avgDuration, clusterID)                           \n",
       "(City precincts, 1, 1, 1, 0)                                   0.000021  \n",
       "(City precincts, 1, 1, 1, 1)                                   0.000202  \n",
       "(City precincts, 1, 1, 1, 2)                                   0.000022  \n",
       "(City precincts, 1, 1, 1, 3)                                   0.000063  \n",
       "(City precincts, 1, 1, 1, 4)                                   0.000246  \n",
       "\n",
       "[5 rows x 2700 columns]"
      ]
     },
     "execution_count": 73,
     "metadata": {},
     "output_type": "execute_result"
    }
   ],
   "source": [
    "transmat_feature.head()"
   ]
  },
  {
   "cell_type": "markdown",
   "metadata": {},
   "source": [
    "The result of [Kronecker product](https://en.wikipedia.org/wiki/Kronecker_product) should be normalised to obtain transition probabilities."
   ]
  },
  {
   "cell_type": "code",
   "execution_count": 74,
   "metadata": {
    "collapsed": false
   },
   "outputs": [],
   "source": [
    "#from scipy.misc import logsumexp\n",
    "logtransmat_feature = np.log(transmat_feature)\n",
    "for row in range(logtransmat_feature.shape[0]):\n",
    "    logtransmat_feature.iloc[row] -= logsumexp(logtransmat_feature.iloc[row])\n",
    "#logtransmat_feature.head()"
   ]
  },
  {
   "cell_type": "code",
   "execution_count": 75,
   "metadata": {
    "collapsed": false
   },
   "outputs": [],
   "source": [
    "#logtransmat_feature.max().sort_values(ascending=False).head(10)"
   ]
  },
  {
   "cell_type": "code",
   "execution_count": 76,
   "metadata": {
    "collapsed": false
   },
   "outputs": [
    {
     "data": {
      "text/plain": [
       "<matplotlib.axes._subplots.AxesSubplot at 0x7f733747eef0>"
      ]
     },
     "execution_count": 76,
     "metadata": {},
     "output_type": "execute_result"
    },
    {
     "data": {
      "image/png": "[encoded data removed]",
      "text/plain": [
       "<matplotlib.figure.Figure at 0x7f73373646a0>"
      ]
     },
     "metadata": {},
     "output_type": "display_data"
    }
   ],
   "source": [
    "plt.figure(figsize=[18, 12])\n",
    "sns.heatmap(np.exp(logtransmat_feature), xticklabels=False, yticklabels=False)"
   ]
  },
  {
   "cell_type": "markdown",
   "metadata": {},
   "source": [
    "Deal with features without corresponding POIs and feature with more than one corresponding POIs. (*Before Normalisation*)\n",
    "- For features without corresponding POIs, just remove the rows and columns from the matrix obtained by Kronecker product.\n",
    "- For different POIs with the exact same feature, \n",
    "  - Let POIs with the same feature as a POI group,\n",
    "  - The *incoming* **transition value (i.e., unnormalised transition probability)** of this POI group \n",
    "    should be divided uniformly among the group members, \n",
    "    *which corresponds to choose a group member uniformly at random in the incoming case*.\n",
    "  - The *outgoing* transition value should be duplicated (i.e., the same) among all group members, \n",
    "    **as we were already in that group in the outgoing case**.\n",
    "  - For each POI in the group, the allocation transition value of the *self-loop of the POI group* is similar to \n",
    "    that in the *outgoing* case, **as we were already in that group**, so just duplicate and then divide uniformly among \n",
    "    the transitions from this POI to other POIs in the same group, \n",
    "    *which corresponds to choose a outgoing transition uniformly at random from all outgoing transitions\n",
    "    excluding the self-loop of this POI*.\n",
    "- **Concretely**, for a POI group with $n$ POIs, \n",
    "    1. If the *incoming* transition value of POI group is $m_1$,\n",
    "       then the corresponding *incoming* transition value for each group member is $\\frac{m_1}{n}$.\n",
    "    1. If the *outgoing* transition value of POI group is $m_2$,\n",
    "       then the corresponding *outgoing* transition value for each group member is also $m_2$.\n",
    "    1. If the transition value of *self-loop of the POI group* is $m_3$,\n",
    "       then transition value of *self-loop of individual POIs* should be $0$,  \n",
    "       and *other in-group transitions* with value $\\frac{m_3}{n-1}$\n",
    "       as the total number of outgoing transitions to other POIs in the same group is $n-1$ (excluding the self-loop),\n",
    "       i.e. $n-1$ choose $1$.\n",
    "       \n",
    "**NOTE**: execute the above division before or after row normalisation will lead to the same result, *as the division itself does NOT change the normalising constant of each row (i.e., the sum of each row before normalising)*."
   ]
  },
  {
   "cell_type": "code",
   "execution_count": 77,
   "metadata": {
    "collapsed": true
   },
   "outputs": [],
   "source": [
    "feature_names = ['poiCat', 'popularity', 'nVisit', 'avgDuration', 'clusterID']\n",
    "poi_features = pd.DataFrame(data=np.zeros((len(poi_train_), len(feature_names))), \\\n",
    "                            columns=feature_names, index=poi_train_)\n",
    "poi_features.index.name = 'poiID'"
   ]
  },
  {
   "cell_type": "code",
   "execution_count": 78,
   "metadata": {
    "collapsed": true
   },
   "outputs": [],
   "source": [
    "poi_features['poiCat'] = poi_info_.loc[poi_train_, 'poiCat']\n",
    "poi_features['popularity'] = np.digitize(poi_info_.loc[poi_train_, 'popularity'], logbins_pop)\n",
    "poi_features['nVisit'] = np.digitize(poi_info_.loc[poi_train_, 'nVisit'], logbins_visit)\n",
    "poi_features['avgDuration'] = np.digitize(poi_info_.loc[poi_train_, 'avgDuration'], logbins_duration)\n",
    "poi_features['clusterID'] = poi_clusters.loc[poi_train_, 'clusterID']"
   ]
  },
  {
   "cell_type": "code",
   "execution_count": 79,
   "metadata": {
    "collapsed": true
   },
   "outputs": [],
   "source": [
    "poi_logtransmat = pd.DataFrame(data=np.zeros((len(poi_train_), len(poi_train_)), dtype=np.float), \\\n",
    "                               columns=poi_train_, index=poi_train_)"
   ]
  },
  {
   "cell_type": "markdown",
   "metadata": {},
   "source": [
    "Copy transition values between features with corresponding POIs."
   ]
  },
  {
   "cell_type": "code",
   "execution_count": 80,
   "metadata": {
    "collapsed": false
   },
   "outputs": [],
   "source": [
    "for p1 in poi_logtransmat.index:\n",
    "    rix = tuple(poi_features.loc[p1])\n",
    "    for p2 in poi_logtransmat.columns:\n",
    "        cix = tuple(poi_features.loc[p2])\n",
    "        value_ = transmat_feature.loc[(rix,), (cix,)]\n",
    "        #print(value_.values)\n",
    "        poi_logtransmat.loc[p1, p2] = value_.values[0, 0]\n",
    "#poi_logtransmat.head()"
   ]
  },
  {
   "cell_type": "markdown",
   "metadata": {},
   "source": [
    "Deal with POI features that correspond to more than once POIs."
   ]
  },
  {
   "cell_type": "code",
   "execution_count": 81,
   "metadata": {
    "collapsed": false
   },
   "outputs": [
    {
     "data": {
      "text/plain": [
       "{('City precincts', 2, 2, 3, 0): [5, 6],\n",
       " ('City precincts', 3, 3, 2, 0): [0],\n",
       " ('City precincts', 3, 3, 2, 2): [3],\n",
       " ('City precincts', 3, 3, 3, 2): [1, 4, 7],\n",
       " ('City precincts', 4, 3, 3, 0): [2],\n",
       " ('Entertainment', 3, 3, 3, 2): [28],\n",
       " ('Entertainment', 4, 3, 3, 0): [25, 27],\n",
       " ('Entertainment', 4, 3, 3, 4): [26],\n",
       " ('Institutions', 2, 2, 2, 0): [43],\n",
       " ('Institutions', 2, 2, 3, 0): [33],\n",
       " ('Institutions', 3, 3, 2, 2): [42],\n",
       " ('Institutions', 3, 3, 3, 0): [34, 39],\n",
       " ('Institutions', 3, 3, 3, 2): [36, 37, 38],\n",
       " ('Institutions', 4, 3, 3, 0): [40],\n",
       " ('Institutions', 4, 3, 3, 2): [41],\n",
       " ('Institutions', 4, 4, 3, 0): [35],\n",
       " ('Institutions', 4, 4, 3, 2): [32],\n",
       " ('Parks and spaces', 1, 3, 1, 2): [77],\n",
       " ('Parks and spaces', 2, 2, 2, 0): [79],\n",
       " ('Parks and spaces', 2, 2, 3, 0): [74],\n",
       " ('Parks and spaces', 2, 2, 3, 4): [66],\n",
       " ('Parks and spaces', 3, 2, 2, 0): [72],\n",
       " ('Parks and spaces', 3, 2, 3, 0): [75, 78],\n",
       " ('Parks and spaces', 3, 2, 3, 4): [76],\n",
       " ('Parks and spaces', 3, 3, 2, 2): [69, 73],\n",
       " ('Parks and spaces', 3, 3, 3, 0): [67],\n",
       " ('Parks and spaces', 4, 3, 3, 0): [68, 70],\n",
       " ('Parks and spaces', 5, 4, 3, 0): [71],\n",
       " ('Public galleries', 2, 2, 3, 2): [30],\n",
       " ('Public galleries', 3, 2, 2, 0): [29],\n",
       " ('Public galleries', 4, 3, 3, 0): [31],\n",
       " ('Shopping', 2, 2, 2, 0): [10],\n",
       " ('Shopping', 3, 2, 3, 4): [12],\n",
       " ('Shopping', 3, 3, 3, 0): [17, 18, 23],\n",
       " ('Shopping', 3, 3, 3, 2): [16, 19, 21, 24],\n",
       " ('Shopping', 3, 3, 3, 4): [20],\n",
       " ('Shopping', 4, 3, 2, 0): [13, 15],\n",
       " ('Shopping', 4, 3, 3, 0): [8, 14],\n",
       " ('Shopping', 4, 3, 3, 2): [11],\n",
       " ('Shopping', 4, 4, 3, 0): [9],\n",
       " ('Shopping', 4, 4, 3, 2): [22],\n",
       " ('Sports stadiums', 2, 1, 3, 4): [60],\n",
       " ('Sports stadiums', 2, 2, 3, 0): [52, 62],\n",
       " ('Sports stadiums', 2, 2, 3, 2): [65],\n",
       " ('Sports stadiums', 2, 2, 3, 3): [61],\n",
       " ('Sports stadiums', 2, 2, 3, 4): [58, 59],\n",
       " ('Sports stadiums', 3, 2, 3, 0): [55, 56],\n",
       " ('Sports stadiums', 3, 3, 3, 0): [63],\n",
       " ('Sports stadiums', 3, 3, 3, 2): [53],\n",
       " ('Sports stadiums', 4, 3, 3, 0): [57],\n",
       " ('Structures', 3, 2, 3, 3): [47],\n",
       " ('Structures', 3, 3, 3, 0): [46, 51],\n",
       " ('Structures', 4, 3, 3, 0): [44, 45, 49],\n",
       " ('Structures', 4, 3, 3, 2): [48],\n",
       " ('Structures', 4, 4, 3, 0): [50],\n",
       " ('Transport', 1, 1, 1, 1): [83],\n",
       " ('Transport', 2, 2, 2, 3): [86],\n",
       " ('Transport', 2, 2, 3, 3): [80],\n",
       " ('Transport', 4, 3, 2, 2): [85],\n",
       " ('Transport', 4, 3, 3, 0): [81],\n",
       " ('Transport', 4, 3, 3, 2): [84],\n",
       " ('Transport', 4, 4, 3, 0): [82]}"
      ]
     },
     "execution_count": 81,
     "metadata": {},
     "output_type": "execute_result"
    }
   ],
   "source": [
    "features_dup = dict()\n",
    "for poi in poi_features.index:\n",
    "    key = tuple(poi_features.loc[poi])\n",
    "    if key in features_dup:\n",
    "        features_dup[key].append(poi)\n",
    "    else:\n",
    "        features_dup[key] = [poi]\n",
    "features_dup"
   ]
  },
  {
   "cell_type": "code",
   "execution_count": 82,
   "metadata": {
    "collapsed": true
   },
   "outputs": [],
   "source": [
    "for feature in sorted(features_dup.keys()):\n",
    "    n = len(features_dup[feature])\n",
    "    if n > 1:\n",
    "        group = features_dup[feature]\n",
    "        v1 = poi_logtransmat.loc[group[0], group[0]]  # transition value of self-loop of POI group\n",
    "        \n",
    "        # divide incoming transition value (i.e. unnormalised transition probability) uniformly among group members\n",
    "        for poi in group:\n",
    "            poi_logtransmat[poi] /= n\n",
    "        \n",
    "        # outgoing transition value has already been duplicated (value copied above)\n",
    "        \n",
    "        # duplicate & divide transition value of self-loop of POI group uniformly among all outgoing transitions,\n",
    "        # from a POI to all other POIs in the same group (excluding POI self-loop)\n",
    "        v2 = v1 / (n - 1)\n",
    "        for pair in itertools.permutations(group, 2):\n",
    "            poi_logtransmat.loc[pair[0], pair[1]] = v2"
   ]
  },
  {
   "cell_type": "markdown",
   "metadata": {},
   "source": [
    "Make the transition value of all self-loops of POIs to $0$."
   ]
  },
  {
   "cell_type": "code",
   "execution_count": 83,
   "metadata": {
    "collapsed": true
   },
   "outputs": [],
   "source": [
    "for p1 in poi_logtransmat.index:\n",
    "    poi_logtransmat.loc[p1, p1] = 0\n",
    "#poi_logtransmat.head()"
   ]
  },
  {
   "cell_type": "markdown",
   "metadata": {},
   "source": [
    "Normalise and compute log probability."
   ]
  },
  {
   "cell_type": "code",
   "execution_count": 84,
   "metadata": {
    "collapsed": false
   },
   "outputs": [
    {
     "data": {
      "text/html": [
       "<div>\n",
       "<table border=\"1\" class=\"dataframe\">\n",
       "  <thead>\n",
       "    <tr style=\"text-align: right;\">\n",
       "      <th></th>\n",
       "      <th>0</th>\n",
       "      <th>1</th>\n",
       "      <th>2</th>\n",
       "      <th>3</th>\n",
       "      <th>4</th>\n",
       "      <th>5</th>\n",
       "      <th>6</th>\n",
       "      <th>7</th>\n",
       "      <th>8</th>\n",
       "      <th>9</th>\n",
       "      <th>...</th>\n",
       "      <th>77</th>\n",
       "      <th>78</th>\n",
       "      <th>79</th>\n",
       "      <th>80</th>\n",
       "      <th>81</th>\n",
       "      <th>82</th>\n",
       "      <th>83</th>\n",
       "      <th>84</th>\n",
       "      <th>85</th>\n",
       "      <th>86</th>\n",
       "    </tr>\n",
       "  </thead>\n",
       "  <tbody>\n",
       "    <tr>\n",
       "      <th>0</th>\n",
       "      <td>-inf</td>\n",
       "      <td>-3.222641</td>\n",
       "      <td>-1.658921</td>\n",
       "      <td>-3.808963</td>\n",
       "      <td>-3.222641</td>\n",
       "      <td>-3.926602</td>\n",
       "      <td>-3.926602</td>\n",
       "      <td>-3.222641</td>\n",
       "      <td>-1.181800</td>\n",
       "      <td>-1.229249</td>\n",
       "      <td>...</td>\n",
       "      <td>-5.702459</td>\n",
       "      <td>-2.684813</td>\n",
       "      <td>-4.236717</td>\n",
       "      <td>-5.457329</td>\n",
       "      <td>-1.206623</td>\n",
       "      <td>-1.555102</td>\n",
       "      <td>-9.633377</td>\n",
       "      <td>-1.985528</td>\n",
       "      <td>-3.048971</td>\n",
       "      <td>-6.520772</td>\n",
       "    </tr>\n",
       "    <tr>\n",
       "      <th>1</th>\n",
       "      <td>-3.017704</td>\n",
       "      <td>-inf</td>\n",
       "      <td>-1.849598</td>\n",
       "      <td>-3.006453</td>\n",
       "      <td>-2.447071</td>\n",
       "      <td>-4.117279</td>\n",
       "      <td>-4.117279</td>\n",
       "      <td>-2.447071</td>\n",
       "      <td>-1.372477</td>\n",
       "      <td>-1.419926</td>\n",
       "      <td>...</td>\n",
       "      <td>-6.429294</td>\n",
       "      <td>-2.875491</td>\n",
       "      <td>-4.224364</td>\n",
       "      <td>-4.740757</td>\n",
       "      <td>-1.397301</td>\n",
       "      <td>-1.745780</td>\n",
       "      <td>-10.243118</td>\n",
       "      <td>-1.386049</td>\n",
       "      <td>-2.246461</td>\n",
       "      <td>-5.601169</td>\n",
       "    </tr>\n",
       "    <tr>\n",
       "      <th>2</th>\n",
       "      <td>-2.913211</td>\n",
       "      <td>-3.308825</td>\n",
       "      <td>-inf</td>\n",
       "      <td>-3.692116</td>\n",
       "      <td>-3.308825</td>\n",
       "      <td>-4.091057</td>\n",
       "      <td>-4.091057</td>\n",
       "      <td>-3.308825</td>\n",
       "      <td>-1.152849</td>\n",
       "      <td>-1.200298</td>\n",
       "      <td>...</td>\n",
       "      <td>-8.017136</td>\n",
       "      <td>-2.770997</td>\n",
       "      <td>-4.198141</td>\n",
       "      <td>-5.621784</td>\n",
       "      <td>-1.177673</td>\n",
       "      <td>-1.526152</td>\n",
       "      <td>-11.948054</td>\n",
       "      <td>-1.956577</td>\n",
       "      <td>-2.816989</td>\n",
       "      <td>-6.482196</td>\n",
       "    </tr>\n",
       "    <tr>\n",
       "      <th>3</th>\n",
       "      <td>-3.216128</td>\n",
       "      <td>-2.618555</td>\n",
       "      <td>-1.844991</td>\n",
       "      <td>-inf</td>\n",
       "      <td>-2.618555</td>\n",
       "      <td>-4.112672</td>\n",
       "      <td>-4.112672</td>\n",
       "      <td>-2.618555</td>\n",
       "      <td>-1.367870</td>\n",
       "      <td>-1.415319</td>\n",
       "      <td>...</td>\n",
       "      <td>-5.098372</td>\n",
       "      <td>-2.870883</td>\n",
       "      <td>-4.422787</td>\n",
       "      <td>-4.736149</td>\n",
       "      <td>-1.392693</td>\n",
       "      <td>-1.741172</td>\n",
       "      <td>-8.912197</td>\n",
       "      <td>-1.381441</td>\n",
       "      <td>-2.444884</td>\n",
       "      <td>-5.799592</td>\n",
       "    </tr>\n",
       "    <tr>\n",
       "      <th>4</th>\n",
       "      <td>-3.017704</td>\n",
       "      <td>-2.447071</td>\n",
       "      <td>-1.849598</td>\n",
       "      <td>-3.006453</td>\n",
       "      <td>-inf</td>\n",
       "      <td>-4.117279</td>\n",
       "      <td>-4.117279</td>\n",
       "      <td>-2.447071</td>\n",
       "      <td>-1.372477</td>\n",
       "      <td>-1.419926</td>\n",
       "      <td>...</td>\n",
       "      <td>-6.429294</td>\n",
       "      <td>-2.875491</td>\n",
       "      <td>-4.224364</td>\n",
       "      <td>-4.740757</td>\n",
       "      <td>-1.397301</td>\n",
       "      <td>-1.745780</td>\n",
       "      <td>-10.243118</td>\n",
       "      <td>-1.386049</td>\n",
       "      <td>-2.246461</td>\n",
       "      <td>-5.601169</td>\n",
       "    </tr>\n",
       "  </tbody>\n",
       "</table>\n",
       "<p>5 rows × 85 columns</p>\n",
       "</div>"
      ],
      "text/plain": [
       "         0         1         2         3         4         5         6   \\\n",
       "0      -inf -3.222641 -1.658921 -3.808963 -3.222641 -3.926602 -3.926602   \n",
       "1 -3.017704      -inf -1.849598 -3.006453 -2.447071 -4.117279 -4.117279   \n",
       "2 -2.913211 -3.308825      -inf -3.692116 -3.308825 -4.091057 -4.091057   \n",
       "3 -3.216128 -2.618555 -1.844991      -inf -2.618555 -4.112672 -4.112672   \n",
       "4 -3.017704 -2.447071 -1.849598 -3.006453      -inf -4.117279 -4.117279   \n",
       "\n",
       "         7         8         9     ...           77        78        79  \\\n",
       "0 -3.222641 -1.181800 -1.229249    ...    -5.702459 -2.684813 -4.236717   \n",
       "1 -2.447071 -1.372477 -1.419926    ...    -6.429294 -2.875491 -4.224364   \n",
       "2 -3.308825 -1.152849 -1.200298    ...    -8.017136 -2.770997 -4.198141   \n",
       "3 -2.618555 -1.367870 -1.415319    ...    -5.098372 -2.870883 -4.422787   \n",
       "4 -2.447071 -1.372477 -1.419926    ...    -6.429294 -2.875491 -4.224364   \n",
       "\n",
       "         80        81        82         83        84        85        86  \n",
       "0 -5.457329 -1.206623 -1.555102  -9.633377 -1.985528 -3.048971 -6.520772  \n",
       "1 -4.740757 -1.397301 -1.745780 -10.243118 -1.386049 -2.246461 -5.601169  \n",
       "2 -5.621784 -1.177673 -1.526152 -11.948054 -1.956577 -2.816989 -6.482196  \n",
       "3 -4.736149 -1.392693 -1.741172  -8.912197 -1.381441 -2.444884 -5.799592  \n",
       "4 -4.740757 -1.397301 -1.745780 -10.243118 -1.386049 -2.246461 -5.601169  \n",
       "\n",
       "[5 rows x 85 columns]"
      ]
     },
     "execution_count": 84,
     "metadata": {},
     "output_type": "execute_result"
    }
   ],
   "source": [
    "for p1 in poi_logtransmat.index:\n",
    "    rowsum = poi_logtransmat.loc[p1].sum()\n",
    "    assert(rowsum > 0)\n",
    "    logrowsum = np.log10(rowsum)\n",
    "    for p2 in poi_logtransmat.columns:\n",
    "        if p1 == p2:\n",
    "            poi_logtransmat.loc[p1, p2] = -np.inf  # deal with log(0) explicitly\n",
    "        else:\n",
    "            poi_logtransmat.loc[p1, p2] = np.log10(poi_logtransmat.loc[p1, p2]) - logrowsum\n",
    "poi_logtransmat.head()"
   ]
  },
  {
   "cell_type": "markdown",
   "metadata": {},
   "source": [
    "Plot transition matrix heatmap."
   ]
  },
  {
   "cell_type": "code",
   "execution_count": 85,
   "metadata": {
    "collapsed": false
   },
   "outputs": [],
   "source": [
    "prob_mat = np.power(10, poi_logtransmat)"
   ]
  },
  {
   "cell_type": "code",
   "execution_count": 86,
   "metadata": {
    "collapsed": false
   },
   "outputs": [
    {
     "data": {
      "text/plain": [
       "<matplotlib.axes._subplots.AxesSubplot at 0x7f733723c0f0>"
      ]
     },
     "execution_count": 86,
     "metadata": {},
     "output_type": "execute_result"
    },
    {
     "data": {
      "image/png": "[encoded data removed]",
      "text/plain": [
       "<matplotlib.figure.Figure at 0x7f733723c9b0>"
      ]
     },
     "metadata": {},
     "output_type": "display_data"
    }
   ],
   "source": [
    "plt.figure(figsize=[16, 12])\n",
    "sns.heatmap(prob_mat)"
   ]
  }
 ],
 "metadata": {
  "kernelspec": {
   "display_name": "Python 3",
   "language": "python",
   "name": "python3"
  },
  "language_info": {
   "codemirror_mode": {
    "name": "ipython",
    "version": 3
   },
   "file_extension": ".py",
   "mimetype": "text/x-python",
   "name": "python",
   "nbconvert_exporter": "python",
   "pygments_lexer": "ipython3",
   "version": "3.5.1"
  }
 },
 "nbformat": 4,
 "nbformat_minor": 0
}
