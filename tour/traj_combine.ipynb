{
 "cells": [
  {
   "cell_type": "markdown",
   "metadata": {},
   "source": [
    "# Trajectory Recommendation"
   ]
  },
  {
   "cell_type": "markdown",
   "metadata": {},
   "source": [
    "<a id='toc'></a>"
   ]
  },
  {
   "cell_type": "markdown",
   "metadata": {},
   "source": [
    "[Table of Contents](#toc)\n",
    "1. [Preprocess Dataset](#sec1)\n",
    "  1. [Load Data](#sec1.1)\n",
    "  1. [Compute POI Information](#sec1.2)\n",
    "  1. [Construct Travelling Sequences](#sec1.3)\n",
    "  1. [Train vs. Test Data](#sec1.4)\n",
    "\n",
    "1. [User Agnostic POI Ranking](#sec2)\n",
    "  1. [POI Features for Ranking](#sec2.1)\n",
    "  1. [Training DataFrame](#sec2.2)\n",
    "  1. [Test DataFrame](#sec2.3)\n",
    "  1. [Platt Scaling](#sec2.4)\n",
    "  1. [Ranking POIs using rankSVM](#sec2.5)\n",
    "\n",
    "1. [Factorise Transition Probabilities in POI Feature Space](#sec3)\n",
    "  1. [POI Features for Factorisation](#sec3.1)\n",
    "  1. [Transition Matrix between POI Cateogries](#sec3.2)\n",
    "  1. [Transition Matrix between POI Popularity Classes](#sec3.3)\n",
    "  1. [Transition Matrix between POI Average Visit Duration Classes](#sec3.4)\n",
    "  1. [Transition Matrix between POI Neighborhood Classes](#sec3.5)\n",
    "  1. [Transition Matrix between POIs](#sec3.6)\n",
    "\n",
    "1. [Combine Ranking with Factorised Markov Chain to Recommend](#sec4)\n",
    "1. [IJCAI15 Methods](#sec5)\n",
    "1. [Comparison](#sec6)\n",
    "  1. [Evaluation on test set](#sec6.1)\n",
    "  1. [Leave-one-out cross validation](#sec6.2)"
   ]
  },
  {
   "cell_type": "markdown",
   "metadata": {},
   "source": [
    "<a id='sec1'></a>"
   ]
  },
  {
   "cell_type": "markdown",
   "metadata": {},
   "source": [
    "# 1. Preprocess Dataset"
   ]
  },
  {
   "cell_type": "code",
   "execution_count": 691,
   "metadata": {
    "collapsed": false
   },
   "outputs": [],
   "source": [
    "% matplotlib inline\n",
    "\n",
    "import os, re, sys, time, pickle, tempfile\n",
    "import math, random, itertools, scipy\n",
    "import pandas as pd\n",
    "import numpy as np\n",
    "import matplotlib.pyplot as plt\n",
    "import scipy.optimize as sop\n",
    "from scipy.linalg import kron\n",
    "from scipy.misc import logsumexp\n",
    "from joblib import Parallel, delayed\n",
    "from numba import jit\n",
    "from sklearn.cluster import KMeans\n",
    "import seaborn as sns\n",
    "import pulp"
   ]
  },
  {
   "cell_type": "code",
   "execution_count": 692,
   "metadata": {
    "collapsed": true
   },
   "outputs": [],
   "source": [
    "random.seed(987654321) # control random choice when splitting training/testing set\n",
    "np.random.seed(987654321)\n",
    "ranksvm_dir = '$HOME/work/ranksvm'"
   ]
  },
  {
   "cell_type": "code",
   "execution_count": 693,
   "metadata": {
    "collapsed": true
   },
   "outputs": [],
   "source": [
    "def print_progress(cnt, total):\n",
    "    \"\"\"\n",
    "    Display a progress bar.\n",
    "    \"\"\"\n",
    "    assert(cnt > 0 and total > 0 and cnt <= total)\n",
    "    length = 80\n",
    "    ratio = cnt / total\n",
    "    n = int(length * ratio)\n",
    "    sys.stdout.write('\\r[%-80s] %d%%' % ('-'*n, int(ratio*100)))\n",
    "    sys.stdout.flush()"
   ]
  },
  {
   "cell_type": "code",
   "execution_count": 694,
   "metadata": {
    "collapsed": true
   },
   "outputs": [],
   "source": [
    "data_dir = 'data/data-ijcai15'\n",
    "#fvisit = os.path.join(data_dir, 'userVisits-Osak.csv')\n",
    "#fcoord = os.path.join(data_dir, 'photoCoords-Osak.csv')\n",
    "#fvisit = os.path.join(data_dir, 'userVisits-Glas.csv')\n",
    "#fcoord = os.path.join(data_dir, 'photoCoords-Glas.csv')\n",
    "#fvisit = os.path.join(data_dir, 'userVisits-Edin.csv')\n",
    "#fcoord = os.path.join(data_dir, 'photoCoords-Edin.csv')\n",
    "fvisit = os.path.join(data_dir, 'userVisits-Toro.csv')\n",
    "fcoord = os.path.join(data_dir, 'photoCoords-Toro.csv')"
   ]
  },
  {
   "cell_type": "code",
   "execution_count": 695,
   "metadata": {
    "collapsed": true
   },
   "outputs": [],
   "source": [
    "suffix = fvisit.split('-')[-1].split('.')[0]\n",
    "fseqpart = os.path.join(data_dir, 'seqPart-combine-' + suffix + '.pkl')\n",
    "#fF1data = os.path.join(data_dir, 'F1-combine-' + suffix + '.pkl')\n",
    "#fmlikeseq = os.path.join(data_dir, 'mlike-seq-' + suffix + '.pkl')"
   ]
  },
  {
   "cell_type": "markdown",
   "metadata": {},
   "source": [
    "<a id='sec1.1'></a>"
   ]
  },
  {
   "cell_type": "markdown",
   "metadata": {},
   "source": [
    "## 1.1 Load Data"
   ]
  },
  {
   "cell_type": "code",
   "execution_count": 696,
   "metadata": {
    "collapsed": true
   },
   "outputs": [],
   "source": [
    "visits = pd.read_csv(fvisit, sep=';')\n",
    "coords = pd.read_csv(fcoord, sep=';')\n",
    "assert(visits.shape[0] == coords.shape[0])\n",
    "traj = pd.merge(visits, coords, on='photoID') # merge data frames according to column 'photoID'\n",
    "#traj.head()"
   ]
  },
  {
   "cell_type": "code",
   "execution_count": 697,
   "metadata": {
    "collapsed": false
   },
   "outputs": [
    {
     "data": {
      "text/html": [
       "<div>\n",
       "<table border=\"1\" class=\"dataframe\">\n",
       "  <thead>\n",
       "    <tr style=\"text-align: right;\">\n",
       "      <th></th>\n",
       "      <th>#photo</th>\n",
       "      <th>#photo/user</th>\n",
       "      <th>#poi</th>\n",
       "      <th>#seq</th>\n",
       "      <th>#seq/user</th>\n",
       "      <th>#user</th>\n",
       "    </tr>\n",
       "  </thead>\n",
       "  <tbody>\n",
       "    <tr>\n",
       "      <th>Toro</th>\n",
       "      <td>39419</td>\n",
       "      <td>28.257348</td>\n",
       "      <td>29</td>\n",
       "      <td>6057</td>\n",
       "      <td>4.341935</td>\n",
       "      <td>1395</td>\n",
       "    </tr>\n",
       "  </tbody>\n",
       "</table>\n",
       "</div>"
      ],
      "text/plain": [
       "      #photo  #photo/user  #poi  #seq  #seq/user  #user\n",
       "Toro   39419    28.257348    29  6057   4.341935   1395"
      ]
     },
     "execution_count": 697,
     "metadata": {},
     "output_type": "execute_result"
    }
   ],
   "source": [
    "num_photo = traj['photoID'].unique().shape[0]\n",
    "num_user = traj['userID'].unique().shape[0]\n",
    "num_poi = traj['poiID'].unique().shape[0]\n",
    "num_seq = traj['seqID'].unique().shape[0]\n",
    "pd.DataFrame({'#photo': num_photo, '#user': num_user, '#poi': num_poi, '#seq': num_seq, \\\n",
    "              '#photo/user': num_photo/num_user, '#seq/user': num_seq/num_user}, index=[str(suffix)])"
   ]
  },
  {
   "cell_type": "markdown",
   "metadata": {},
   "source": [
    "<a id='sec1.2'></a>"
   ]
  },
  {
   "cell_type": "markdown",
   "metadata": {},
   "source": [
    "## 1.2 Compute POI Information"
   ]
  },
  {
   "cell_type": "markdown",
   "metadata": {},
   "source": [
    "Compute POI (Longitude, Latitude) as the average coordinates of the assigned photos."
   ]
  },
  {
   "cell_type": "code",
   "execution_count": 698,
   "metadata": {
    "collapsed": true
   },
   "outputs": [],
   "source": [
    "poi_coords = traj[['poiID', 'photoLon', 'photoLat']].groupby('poiID').mean()\n",
    "poi_coords.reset_index(inplace=True)\n",
    "poi_coords.rename(columns={'photoLon':'poiLon', 'photoLat':'poiLat'}, inplace=True)"
   ]
  },
  {
   "cell_type": "markdown",
   "metadata": {},
   "source": [
    "Extract POI category and visiting frequency."
   ]
  },
  {
   "cell_type": "code",
   "execution_count": 699,
   "metadata": {
    "collapsed": true
   },
   "outputs": [],
   "source": [
    "poi_catfreq = traj[['poiID', 'poiTheme', 'poiFreq']].groupby('poiID').first()\n",
    "poi_catfreq.reset_index(inplace=True)"
   ]
  },
  {
   "cell_type": "code",
   "execution_count": 700,
   "metadata": {
    "collapsed": false
   },
   "outputs": [
    {
     "data": {
      "text/html": [
       "<div>\n",
       "<table border=\"1\" class=\"dataframe\">\n",
       "  <thead>\n",
       "    <tr style=\"text-align: right;\">\n",
       "      <th></th>\n",
       "      <th>poiTheme</th>\n",
       "      <th>poiFreq</th>\n",
       "      <th>poiLon</th>\n",
       "      <th>poiLat</th>\n",
       "    </tr>\n",
       "    <tr>\n",
       "      <th>poiID</th>\n",
       "      <th></th>\n",
       "      <th></th>\n",
       "      <th></th>\n",
       "      <th></th>\n",
       "    </tr>\n",
       "  </thead>\n",
       "  <tbody>\n",
       "    <tr>\n",
       "      <th>1</th>\n",
       "      <td>Sport</td>\n",
       "      <td>3506</td>\n",
       "      <td>-79.379243</td>\n",
       "      <td>43.643183</td>\n",
       "    </tr>\n",
       "    <tr>\n",
       "      <th>2</th>\n",
       "      <td>Sport</td>\n",
       "      <td>609</td>\n",
       "      <td>-79.418634</td>\n",
       "      <td>43.632772</td>\n",
       "    </tr>\n",
       "    <tr>\n",
       "      <th>3</th>\n",
       "      <td>Sport</td>\n",
       "      <td>688</td>\n",
       "      <td>-79.380045</td>\n",
       "      <td>43.662175</td>\n",
       "    </tr>\n",
       "    <tr>\n",
       "      <th>4</th>\n",
       "      <td>Sport</td>\n",
       "      <td>3056</td>\n",
       "      <td>-79.389290</td>\n",
       "      <td>43.641297</td>\n",
       "    </tr>\n",
       "    <tr>\n",
       "      <th>6</th>\n",
       "      <td>Cultural</td>\n",
       "      <td>986</td>\n",
       "      <td>-79.392396</td>\n",
       "      <td>43.653662</td>\n",
       "    </tr>\n",
       "  </tbody>\n",
       "</table>\n",
       "</div>"
      ],
      "text/plain": [
       "       poiTheme  poiFreq     poiLon     poiLat\n",
       "poiID                                         \n",
       "1         Sport     3506 -79.379243  43.643183\n",
       "2         Sport      609 -79.418634  43.632772\n",
       "3         Sport      688 -79.380045  43.662175\n",
       "4         Sport     3056 -79.389290  43.641297\n",
       "6      Cultural      986 -79.392396  43.653662"
      ]
     },
     "execution_count": 700,
     "metadata": {},
     "output_type": "execute_result"
    }
   ],
   "source": [
    "poi_all = pd.merge(poi_catfreq, poi_coords, on='poiID')\n",
    "poi_all.set_index('poiID', inplace=True)\n",
    "poi_all.head()\n",
    "#poi_all.to_csv(fpoi, index=True)"
   ]
  },
  {
   "cell_type": "markdown",
   "metadata": {},
   "source": [
    "<a id='sec1.3'></a>"
   ]
  },
  {
   "cell_type": "markdown",
   "metadata": {},
   "source": [
    "## 1.3 Construct Travelling Sequences"
   ]
  },
  {
   "cell_type": "code",
   "execution_count": 701,
   "metadata": {
    "collapsed": false
   },
   "outputs": [
    {
     "data": {
      "text/html": [
       "<div>\n",
       "<table border=\"1\" class=\"dataframe\">\n",
       "  <thead>\n",
       "    <tr style=\"text-align: right;\">\n",
       "      <th></th>\n",
       "      <th>userID</th>\n",
       "      <th>seqID</th>\n",
       "      <th>poiID</th>\n",
       "      <th>arrivalTime</th>\n",
       "      <th>departureTime</th>\n",
       "      <th>#photo</th>\n",
       "      <th>poiDuration(sec)</th>\n",
       "    </tr>\n",
       "  </thead>\n",
       "  <tbody>\n",
       "    <tr>\n",
       "      <th>0</th>\n",
       "      <td>10007579@N00</td>\n",
       "      <td>1</td>\n",
       "      <td>30</td>\n",
       "      <td>1346844688</td>\n",
       "      <td>1346844688</td>\n",
       "      <td>1</td>\n",
       "      <td>0</td>\n",
       "    </tr>\n",
       "    <tr>\n",
       "      <th>1</th>\n",
       "      <td>10012675@N05</td>\n",
       "      <td>2</td>\n",
       "      <td>6</td>\n",
       "      <td>1142731848</td>\n",
       "      <td>1142732445</td>\n",
       "      <td>4</td>\n",
       "      <td>597</td>\n",
       "    </tr>\n",
       "    <tr>\n",
       "      <th>2</th>\n",
       "      <td>10012675@N05</td>\n",
       "      <td>3</td>\n",
       "      <td>6</td>\n",
       "      <td>1142916492</td>\n",
       "      <td>1142916492</td>\n",
       "      <td>1</td>\n",
       "      <td>0</td>\n",
       "    </tr>\n",
       "    <tr>\n",
       "      <th>3</th>\n",
       "      <td>10012675@N05</td>\n",
       "      <td>4</td>\n",
       "      <td>13</td>\n",
       "      <td>1319327174</td>\n",
       "      <td>1319332848</td>\n",
       "      <td>9</td>\n",
       "      <td>5674</td>\n",
       "    </tr>\n",
       "    <tr>\n",
       "      <th>4</th>\n",
       "      <td>10014440@N06</td>\n",
       "      <td>5</td>\n",
       "      <td>24</td>\n",
       "      <td>1196128621</td>\n",
       "      <td>1196128878</td>\n",
       "      <td>3</td>\n",
       "      <td>257</td>\n",
       "    </tr>\n",
       "  </tbody>\n",
       "</table>\n",
       "</div>"
      ],
      "text/plain": [
       "         userID  seqID  poiID  arrivalTime  departureTime  #photo  \\\n",
       "0  10007579@N00      1     30   1346844688     1346844688       1   \n",
       "1  10012675@N05      2      6   1142731848     1142732445       4   \n",
       "2  10012675@N05      3      6   1142916492     1142916492       1   \n",
       "3  10012675@N05      4     13   1319327174     1319332848       9   \n",
       "4  10014440@N06      5     24   1196128621     1196128878       3   \n",
       "\n",
       "   poiDuration(sec)  \n",
       "0                 0  \n",
       "1               597  \n",
       "2                 0  \n",
       "3              5674  \n",
       "4               257  "
      ]
     },
     "execution_count": 701,
     "metadata": {},
     "output_type": "execute_result"
    }
   ],
   "source": [
    "seq_all = traj[['userID', 'seqID', 'poiID', 'dateTaken']].copy().groupby(['userID', 'seqID', 'poiID'])\\\n",
    "          .agg([np.min, np.max, np.size])\n",
    "seq_all.columns = seq_all.columns.droplevel()\n",
    "seq_all.reset_index(inplace=True)\n",
    "seq_all.rename(columns={'amin':'arrivalTime', 'amax':'departureTime', 'size':'#photo'}, inplace=True)\n",
    "seq_all['poiDuration(sec)'] = seq_all['departureTime'] - seq_all['arrivalTime']\n",
    "seq_all.head()"
   ]
  },
  {
   "cell_type": "markdown",
   "metadata": {},
   "source": [
    "**Filtering out** a visit of POI with $0$ duration, i.e. only one photo was taken."
   ]
  },
  {
   "cell_type": "code",
   "execution_count": 702,
   "metadata": {
    "collapsed": true
   },
   "outputs": [],
   "source": [
    "seq_all = seq_all[seq_all['#photo'] > 1]"
   ]
  },
  {
   "cell_type": "code",
   "execution_count": 703,
   "metadata": {
    "collapsed": false
   },
   "outputs": [
    {
     "data": {
      "text/html": [
       "<div>\n",
       "<table border=\"1\" class=\"dataframe\">\n",
       "  <thead>\n",
       "    <tr style=\"text-align: right;\">\n",
       "      <th></th>\n",
       "      <th>userID</th>\n",
       "      <th>seqLen</th>\n",
       "    </tr>\n",
       "    <tr>\n",
       "      <th>seqID</th>\n",
       "      <th></th>\n",
       "      <th></th>\n",
       "    </tr>\n",
       "  </thead>\n",
       "  <tbody>\n",
       "    <tr>\n",
       "      <th>2</th>\n",
       "      <td>10012675@N05</td>\n",
       "      <td>1</td>\n",
       "    </tr>\n",
       "    <tr>\n",
       "      <th>4</th>\n",
       "      <td>10012675@N05</td>\n",
       "      <td>1</td>\n",
       "    </tr>\n",
       "    <tr>\n",
       "      <th>5</th>\n",
       "      <td>10014440@N06</td>\n",
       "      <td>1</td>\n",
       "    </tr>\n",
       "    <tr>\n",
       "      <th>6</th>\n",
       "      <td>10014440@N06</td>\n",
       "      <td>1</td>\n",
       "    </tr>\n",
       "    <tr>\n",
       "      <th>7</th>\n",
       "      <td>10014440@N06</td>\n",
       "      <td>1</td>\n",
       "    </tr>\n",
       "  </tbody>\n",
       "</table>\n",
       "</div>"
      ],
      "text/plain": [
       "             userID  seqLen\n",
       "seqID                      \n",
       "2      10012675@N05       1\n",
       "4      10012675@N05       1\n",
       "5      10014440@N06       1\n",
       "6      10014440@N06       1\n",
       "7      10014440@N06       1"
      ]
     },
     "execution_count": 703,
     "metadata": {},
     "output_type": "execute_result"
    }
   ],
   "source": [
    "seq_stats = seq_all[['userID', 'seqID', 'poiID']].copy().groupby(['userID', 'seqID']).agg(np.size)\n",
    "seq_stats.reset_index(inplace=True)\n",
    "seq_stats.rename(columns={'poiID':'seqLen'}, inplace=True)\n",
    "seq_stats.set_index('seqID', inplace=True)\n",
    "seq_stats.head()"
   ]
  },
  {
   "cell_type": "code",
   "execution_count": 704,
   "metadata": {
    "collapsed": true
   },
   "outputs": [],
   "source": [
    "def extract_seq(seqid, seq_all):\n",
    "    seqi = seq_all[seq_all['seqID'] == seqid].copy()\n",
    "    seqi.sort_values(by=['arrivalTime'], ascending=True, inplace=True)\n",
    "    return seqi['poiID'].tolist()"
   ]
  },
  {
   "cell_type": "code",
   "execution_count": 705,
   "metadata": {
    "collapsed": true
   },
   "outputs": [],
   "source": [
    "def calc_poi_info(seqid_set, seq_all, poi_all):\n",
    "    poi_info = seq_all[seq_all['seqID'].isin(seqid_set)][['poiID', 'poiDuration(sec)']].copy()\n",
    "    poi_info = poi_info.groupby('poiID').agg([np.mean, np.size])\n",
    "    poi_info.columns = poi_info.columns.droplevel()\n",
    "    poi_info.reset_index(inplace=True)\n",
    "    poi_info.rename(columns={'mean':'avgDuration(sec)', 'size':'nVisit'}, inplace=True)\n",
    "    poi_info.set_index('poiID', inplace=True) \n",
    "    poi_info['poiTheme'] = poi_all.loc[poi_info.index, 'poiTheme']\n",
    "    poi_info['poiLon'] = poi_all.loc[poi_info.index, 'poiLon']\n",
    "    poi_info['poiLat'] = poi_all.loc[poi_info.index, 'poiLat']\n",
    "    \n",
    "    # POI popularity: the number of distinct users that visited the POI\n",
    "    pop_df = seq_all[seq_all['seqID'].isin(seqid_set)][['poiID', 'userID']].copy()\n",
    "    pop_df = pop_df.groupby('poiID').agg(pd.Series.nunique)\n",
    "    pop_df.rename(columns={'userID':'nunique'}, inplace=True)\n",
    "    poi_info['popularity'] = pop_df.loc[poi_info.index, 'nunique']\n",
    "    \n",
    "    return poi_info.copy()"
   ]
  },
  {
   "cell_type": "markdown",
   "metadata": {},
   "source": [
    "<a id='sec1.4'></a>"
   ]
  },
  {
   "cell_type": "markdown",
   "metadata": {},
   "source": [
    "## 1.4 Train vs. Test Data"
   ]
  },
  {
   "cell_type": "markdown",
   "metadata": {},
   "source": [
    "Remove duplicate trajectories, i.e. same trajectory for different users."
   ]
  },
  {
   "cell_type": "code",
   "execution_count": 706,
   "metadata": {
    "collapsed": true
   },
   "outputs": [],
   "source": [
    "seq_stats = seq_stats[seq_stats['seqLen'] > 2]\n",
    "seq_stats = seq_stats[seq_stats['seqLen'] < 10]\n",
    "seqid_set_ = seq_stats.index.tolist()\n",
    "seq_dict = dict()\n",
    "for seqid in seqid_set_:\n",
    "    seq = extract_seq(seqid, seq_all)\n",
    "    key = str(seq)\n",
    "    if key in seq_dict: seq_dict[key].append(seqid)\n",
    "    else: seq_dict[key] = [seqid]"
   ]
  },
  {
   "cell_type": "code",
   "execution_count": 707,
   "metadata": {
    "collapsed": false
   },
   "outputs": [
    {
     "data": {
      "text/plain": [
       "120"
      ]
     },
     "execution_count": 707,
     "metadata": {},
     "output_type": "execute_result"
    }
   ],
   "source": [
    "len(seqid_set_)"
   ]
  },
  {
   "cell_type": "code",
   "execution_count": 708,
   "metadata": {
    "collapsed": true
   },
   "outputs": [],
   "source": [
    "seqid_set_exp = [seq_dict[x][0] for x in sorted(seq_dict.keys())]"
   ]
  },
  {
   "cell_type": "code",
   "execution_count": 709,
   "metadata": {
    "collapsed": false
   },
   "outputs": [
    {
     "data": {
      "text/plain": [
       "116"
      ]
     },
     "execution_count": 709,
     "metadata": {},
     "output_type": "execute_result"
    }
   ],
   "source": [
    "len(seqid_set_exp)"
   ]
  },
  {
   "cell_type": "markdown",
   "metadata": {},
   "source": [
    "Define a *query* (in IR terminology) using tuple (start POI, end POI, #POI) ~~user ID.~~"
   ]
  },
  {
   "cell_type": "code",
   "execution_count": 710,
   "metadata": {
    "collapsed": true
   },
   "outputs": [],
   "source": [
    "query_id_dict = dict()  # (start, end, length) --> qid"
   ]
  },
  {
   "cell_type": "code",
   "execution_count": 711,
   "metadata": {
    "collapsed": true
   },
   "outputs": [],
   "source": [
    "seqs_exp = [extract_seq(seqid, seq_all) for seqid in seqid_set_exp]\n",
    "keys = [(seq[0], seq[-1], len(seq)) for seq in seqs_exp]\n",
    "cnt = 0\n",
    "for key in keys:\n",
    "    if key not in query_id_dict:   # (start, end, length) --> qid\n",
    "        query_id_dict[key] = cnt\n",
    "        cnt += 1"
   ]
  },
  {
   "cell_type": "code",
   "execution_count": 712,
   "metadata": {
    "collapsed": false
   },
   "outputs": [
    {
     "name": "stdout",
     "output_type": "stream",
     "text": [
      "106\n"
     ]
    }
   ],
   "source": [
    "print(len(query_id_dict))"
   ]
  },
  {
   "cell_type": "markdown",
   "metadata": {},
   "source": [
    "Random split trajectories for training and testing.  \n",
    "Make sure all POIs in test set are covered in trajectories for training."
   ]
  },
  {
   "cell_type": "code",
   "execution_count": 713,
   "metadata": {
    "collapsed": true
   },
   "outputs": [],
   "source": [
    "train_percent = 0.8\n",
    "seqid_set_train0 = []\n",
    "seqid_set_test0 = []"
   ]
  },
  {
   "cell_type": "code",
   "execution_count": 714,
   "metadata": {
    "collapsed": true
   },
   "outputs": [],
   "source": [
    "if os.path.exists(fseqpart):\n",
    "    (seqid_set_train0, seqid_set_test0) = pickle.load(open(fseqpart, 'rb'))\n",
    "else:\n",
    "    ntrain = int(train_percent * len(seqid_set_exp))\n",
    "    while True:\n",
    "        np.random.shuffle(seqid_set_exp)\n",
    "\n",
    "        seqid_set_train0 = sorted(list(seqid_set_exp[:ntrain]))\n",
    "        seqid_set_test0 = sorted(list(seqid_set_exp[ntrain:]))\n",
    "        poi_train = seq_all[seq_all['seqID'].isin(seqid_set_train0)]['poiID'].unique().tolist()\n",
    "        poi_test  = seq_all[seq_all['seqID'].isin(seqid_set_test0)]['poiID'].unique().tolist()\n",
    "        if len(set(poi_test)) == len(set(poi_train) & set(poi_test)):\n",
    "            pickle.dump((seqid_set_train0, seqid_set_test0), open(fseqpart, 'wb'))\n",
    "            break"
   ]
  },
  {
   "cell_type": "code",
   "execution_count": 715,
   "metadata": {
    "collapsed": false
   },
   "outputs": [
    {
     "name": "stdout",
     "output_type": "stream",
     "text": [
      "#seq in total: 116\n",
      "#seq for training: 92\n",
      "#seq for testing: 24\n",
      "#query tuple: 106\n"
     ]
    }
   ],
   "source": [
    "print('#seq in total:', len(seqid_set_exp))\n",
    "print('#seq for training:', len(seqid_set_train0))\n",
    "print('#seq for testing:', len(seqid_set_test0))\n",
    "print('#query tuple:', len(query_id_dict))"
   ]
  },
  {
   "cell_type": "markdown",
   "metadata": {},
   "source": [
    "<a id='sec2'></a>"
   ]
  },
  {
   "cell_type": "markdown",
   "metadata": {},
   "source": [
    "# 2. User Agnostic POI Ranking"
   ]
  },
  {
   "cell_type": "markdown",
   "metadata": {},
   "source": [
    "<a id='sec2.1'></a>"
   ]
  },
  {
   "cell_type": "markdown",
   "metadata": {},
   "source": [
    "## 2.1 POI Features for Ranking"
   ]
  },
  {
   "cell_type": "markdown",
   "metadata": {},
   "source": [
    "POI Features used for ranking:\n",
    "1. `popularity`: POI popularity, i.e., the number of distinct users that visited the POI\n",
    "1. `nVisit`: the total number of visit by all users\n",
    "1. `avgDuration`: average POI visit duration\n",
    "1. `sameCatStart`: 1 if POI category is the same as that of `startPOI`, -1 otherwise\n",
    "1. `sameCatEnd`: 1 if POI category is the same as that of `endPOI`, -1 otherwise\n",
    "1. `distStart`: distance (haversine formula) from `startPOI`\n",
    "1. `distEnd`: distance from `endPOI`\n",
    "1. `seqLen`: trajectory length (copy from query)\n",
    "1. `diffPopStart`: difference in POI popularity from `startPOI`\n",
    "1. `diffPopEnd`: difference in POI popularity from `endPOI`\n",
    "1. `diffNVisitStart`: difference in the total number of visit from `startPOI`\n",
    "1. `diffNVisitEnd`: difference in the total number of visit from `endPOI`\n",
    "1. `diffDurationStart`: difference in average POI visit duration from the actual duration spent at `startPOI`\n",
    "1. `diffDurationEnd`: difference in average POI visit duration from the actual duration spent at `endPOI`"
   ]
  },
  {
   "cell_type": "code",
   "execution_count": 716,
   "metadata": {
    "collapsed": true
   },
   "outputs": [],
   "source": [
    "df_columns = ['poiID', 'label', 'queryID', 'popularity', 'nVisit', 'avgDuration(sec)', \\\n",
    "              'sameCatStart', 'sameCatEnd', 'distStart', 'distEnd', 'seqLen', 'diffPopStart', \\\n",
    "              'diffPopEnd', 'diffNVisitStart', 'diffNVisitEnd', 'diffDurationStart', 'diffDurationEnd']"
   ]
  },
  {
   "cell_type": "markdown",
   "metadata": {},
   "source": [
    "Features aggregated from a number of trajectories:\n",
    "1. Compute POI `popularity` and average visit `duration` using all trajectories from training and querying set,\n",
    "1. Use the same features that computed above for the test set, except the distance based features."
   ]
  },
  {
   "cell_type": "code",
   "execution_count": 717,
   "metadata": {
    "collapsed": false
   },
   "outputs": [
    {
     "name": "stdout",
     "output_type": "stream",
     "text": [
      "(24, 6)\n"
     ]
    }
   ],
   "source": [
    "poi_info_t = calc_poi_info(seqid_set_train0, seq_all, poi_all)\n",
    "print(poi_info_t.shape)"
   ]
  },
  {
   "cell_type": "code",
   "execution_count": 718,
   "metadata": {
    "collapsed": false
   },
   "outputs": [
    {
     "data": {
      "text/html": [
       "<div>\n",
       "<table border=\"1\" class=\"dataframe\">\n",
       "  <thead>\n",
       "    <tr style=\"text-align: right;\">\n",
       "      <th></th>\n",
       "      <th>avgDuration(sec)</th>\n",
       "      <th>nVisit</th>\n",
       "      <th>poiTheme</th>\n",
       "      <th>poiLon</th>\n",
       "      <th>poiLat</th>\n",
       "      <th>popularity</th>\n",
       "    </tr>\n",
       "    <tr>\n",
       "      <th>poiID</th>\n",
       "      <th></th>\n",
       "      <th></th>\n",
       "      <th></th>\n",
       "      <th></th>\n",
       "      <th></th>\n",
       "      <th></th>\n",
       "    </tr>\n",
       "  </thead>\n",
       "  <tbody>\n",
       "    <tr>\n",
       "      <th>1</th>\n",
       "      <td>1411.444444</td>\n",
       "      <td>9</td>\n",
       "      <td>Sport</td>\n",
       "      <td>-79.379243</td>\n",
       "      <td>43.643183</td>\n",
       "      <td>9</td>\n",
       "    </tr>\n",
       "    <tr>\n",
       "      <th>2</th>\n",
       "      <td>2475.000000</td>\n",
       "      <td>3</td>\n",
       "      <td>Sport</td>\n",
       "      <td>-79.418634</td>\n",
       "      <td>43.632772</td>\n",
       "      <td>3</td>\n",
       "    </tr>\n",
       "    <tr>\n",
       "      <th>3</th>\n",
       "      <td>1262.428571</td>\n",
       "      <td>7</td>\n",
       "      <td>Sport</td>\n",
       "      <td>-79.380045</td>\n",
       "      <td>43.662175</td>\n",
       "      <td>4</td>\n",
       "    </tr>\n",
       "    <tr>\n",
       "      <th>4</th>\n",
       "      <td>2088.285714</td>\n",
       "      <td>14</td>\n",
       "      <td>Sport</td>\n",
       "      <td>-79.389290</td>\n",
       "      <td>43.641297</td>\n",
       "      <td>13</td>\n",
       "    </tr>\n",
       "    <tr>\n",
       "      <th>6</th>\n",
       "      <td>2136.357143</td>\n",
       "      <td>14</td>\n",
       "      <td>Cultural</td>\n",
       "      <td>-79.392396</td>\n",
       "      <td>43.653662</td>\n",
       "      <td>12</td>\n",
       "    </tr>\n",
       "    <tr>\n",
       "      <th>7</th>\n",
       "      <td>3411.709677</td>\n",
       "      <td>31</td>\n",
       "      <td>Cultural</td>\n",
       "      <td>-79.377327</td>\n",
       "      <td>43.647151</td>\n",
       "      <td>19</td>\n",
       "    </tr>\n",
       "    <tr>\n",
       "      <th>8</th>\n",
       "      <td>3438.636364</td>\n",
       "      <td>22</td>\n",
       "      <td>Cultural</td>\n",
       "      <td>-79.385349</td>\n",
       "      <td>43.642385</td>\n",
       "      <td>22</td>\n",
       "    </tr>\n",
       "    <tr>\n",
       "      <th>11</th>\n",
       "      <td>817.800000</td>\n",
       "      <td>10</td>\n",
       "      <td>Cultural</td>\n",
       "      <td>-79.394458</td>\n",
       "      <td>43.667183</td>\n",
       "      <td>10</td>\n",
       "    </tr>\n",
       "    <tr>\n",
       "      <th>13</th>\n",
       "      <td>4719.000000</td>\n",
       "      <td>5</td>\n",
       "      <td>Cultural</td>\n",
       "      <td>-79.409364</td>\n",
       "      <td>43.678157</td>\n",
       "      <td>5</td>\n",
       "    </tr>\n",
       "    <tr>\n",
       "      <th>14</th>\n",
       "      <td>673.500000</td>\n",
       "      <td>2</td>\n",
       "      <td>Amusement</td>\n",
       "      <td>-79.417001</td>\n",
       "      <td>43.633924</td>\n",
       "      <td>2</td>\n",
       "    </tr>\n",
       "    <tr>\n",
       "      <th>15</th>\n",
       "      <td>29.000000</td>\n",
       "      <td>1</td>\n",
       "      <td>Amusement</td>\n",
       "      <td>-79.373573</td>\n",
       "      <td>43.619836</td>\n",
       "      <td>1</td>\n",
       "    </tr>\n",
       "    <tr>\n",
       "      <th>16</th>\n",
       "      <td>5248.151515</td>\n",
       "      <td>33</td>\n",
       "      <td>Amusement</td>\n",
       "      <td>-79.387065</td>\n",
       "      <td>43.642849</td>\n",
       "      <td>33</td>\n",
       "    </tr>\n",
       "    <tr>\n",
       "      <th>17</th>\n",
       "      <td>9911.500000</td>\n",
       "      <td>2</td>\n",
       "      <td>Amusement</td>\n",
       "      <td>-79.416011</td>\n",
       "      <td>43.632563</td>\n",
       "      <td>2</td>\n",
       "    </tr>\n",
       "    <tr>\n",
       "      <th>19</th>\n",
       "      <td>61.000000</td>\n",
       "      <td>1</td>\n",
       "      <td>Beach</td>\n",
       "      <td>-79.378227</td>\n",
       "      <td>43.621697</td>\n",
       "      <td>1</td>\n",
       "    </tr>\n",
       "    <tr>\n",
       "      <th>20</th>\n",
       "      <td>4331.000000</td>\n",
       "      <td>1</td>\n",
       "      <td>Beach</td>\n",
       "      <td>-79.462382</td>\n",
       "      <td>43.646557</td>\n",
       "      <td>1</td>\n",
       "    </tr>\n",
       "    <tr>\n",
       "      <th>21</th>\n",
       "      <td>3457.388889</td>\n",
       "      <td>36</td>\n",
       "      <td>Beach</td>\n",
       "      <td>-79.380453</td>\n",
       "      <td>43.656274</td>\n",
       "      <td>24</td>\n",
       "    </tr>\n",
       "    <tr>\n",
       "      <th>22</th>\n",
       "      <td>3470.511111</td>\n",
       "      <td>45</td>\n",
       "      <td>Beach</td>\n",
       "      <td>-79.383702</td>\n",
       "      <td>43.652478</td>\n",
       "      <td>31</td>\n",
       "    </tr>\n",
       "    <tr>\n",
       "      <th>23</th>\n",
       "      <td>4121.900000</td>\n",
       "      <td>30</td>\n",
       "      <td>Shopping</td>\n",
       "      <td>-79.379884</td>\n",
       "      <td>43.653868</td>\n",
       "      <td>20</td>\n",
       "    </tr>\n",
       "    <tr>\n",
       "      <th>24</th>\n",
       "      <td>6772.200000</td>\n",
       "      <td>5</td>\n",
       "      <td>Shopping</td>\n",
       "      <td>-79.382320</td>\n",
       "      <td>43.638621</td>\n",
       "      <td>5</td>\n",
       "    </tr>\n",
       "    <tr>\n",
       "      <th>25</th>\n",
       "      <td>512.000000</td>\n",
       "      <td>6</td>\n",
       "      <td>Shopping</td>\n",
       "      <td>-79.401168</td>\n",
       "      <td>43.654748</td>\n",
       "      <td>6</td>\n",
       "    </tr>\n",
       "    <tr>\n",
       "      <th>27</th>\n",
       "      <td>57.666667</td>\n",
       "      <td>3</td>\n",
       "      <td>Shopping</td>\n",
       "      <td>-79.390935</td>\n",
       "      <td>43.670104</td>\n",
       "      <td>3</td>\n",
       "    </tr>\n",
       "    <tr>\n",
       "      <th>28</th>\n",
       "      <td>2309.281250</td>\n",
       "      <td>32</td>\n",
       "      <td>Structure</td>\n",
       "      <td>-79.381184</td>\n",
       "      <td>43.652181</td>\n",
       "      <td>24</td>\n",
       "    </tr>\n",
       "    <tr>\n",
       "      <th>29</th>\n",
       "      <td>1660.250000</td>\n",
       "      <td>4</td>\n",
       "      <td>Structure</td>\n",
       "      <td>-79.391265</td>\n",
       "      <td>43.662138</td>\n",
       "      <td>4</td>\n",
       "    </tr>\n",
       "    <tr>\n",
       "      <th>30</th>\n",
       "      <td>5315.931034</td>\n",
       "      <td>29</td>\n",
       "      <td>Structure</td>\n",
       "      <td>-79.380584</td>\n",
       "      <td>43.645651</td>\n",
       "      <td>22</td>\n",
       "    </tr>\n",
       "  </tbody>\n",
       "</table>\n",
       "</div>"
      ],
      "text/plain": [
       "       avgDuration(sec)  nVisit   poiTheme     poiLon     poiLat  popularity\n",
       "poiID                                                                       \n",
       "1           1411.444444       9      Sport -79.379243  43.643183           9\n",
       "2           2475.000000       3      Sport -79.418634  43.632772           3\n",
       "3           1262.428571       7      Sport -79.380045  43.662175           4\n",
       "4           2088.285714      14      Sport -79.389290  43.641297          13\n",
       "6           2136.357143      14   Cultural -79.392396  43.653662          12\n",
       "7           3411.709677      31   Cultural -79.377327  43.647151          19\n",
       "8           3438.636364      22   Cultural -79.385349  43.642385          22\n",
       "11           817.800000      10   Cultural -79.394458  43.667183          10\n",
       "13          4719.000000       5   Cultural -79.409364  43.678157           5\n",
       "14           673.500000       2  Amusement -79.417001  43.633924           2\n",
       "15            29.000000       1  Amusement -79.373573  43.619836           1\n",
       "16          5248.151515      33  Amusement -79.387065  43.642849          33\n",
       "17          9911.500000       2  Amusement -79.416011  43.632563           2\n",
       "19            61.000000       1      Beach -79.378227  43.621697           1\n",
       "20          4331.000000       1      Beach -79.462382  43.646557           1\n",
       "21          3457.388889      36      Beach -79.380453  43.656274          24\n",
       "22          3470.511111      45      Beach -79.383702  43.652478          31\n",
       "23          4121.900000      30   Shopping -79.379884  43.653868          20\n",
       "24          6772.200000       5   Shopping -79.382320  43.638621           5\n",
       "25           512.000000       6   Shopping -79.401168  43.654748           6\n",
       "27            57.666667       3   Shopping -79.390935  43.670104           3\n",
       "28          2309.281250      32  Structure -79.381184  43.652181          24\n",
       "29          1660.250000       4  Structure -79.391265  43.662138           4\n",
       "30          5315.931034      29  Structure -79.380584  43.645651          22"
      ]
     },
     "execution_count": 718,
     "metadata": {},
     "output_type": "execute_result"
    }
   ],
   "source": [
    "poi_info_t"
   ]
  },
  {
   "cell_type": "markdown",
   "metadata": {},
   "source": [
    "Compute distance between two POIs using [Haversine formula](http://en.wikipedia.org/wiki/Great-circle_distance)."
   ]
  },
  {
   "cell_type": "code",
   "execution_count": 719,
   "metadata": {
    "collapsed": true
   },
   "outputs": [],
   "source": [
    "def calc_dist(longitude1, latitude1, longitude2, latitude2):\n",
    "    \"\"\"Calculate the distance (unit: km) between two places on earth\"\"\"\n",
    "    # convert degrees to radians\n",
    "    lon1 = math.radians(longitude1)\n",
    "    lat1 = math.radians(latitude1)\n",
    "    lon2 = math.radians(longitude2)\n",
    "    lat2 = math.radians(latitude2)\n",
    "    radius = 6371.0088 # mean earth radius is 6371.009km, en.wikipedia.org/wiki/Earth_radius#Mean_radius\n",
    "    # The haversine formula, en.wikipedia.org/wiki/Great-circle_distance\n",
    "    dlon = math.fabs(lon1 - lon2)\n",
    "    dlat = math.fabs(lat1 - lat2)\n",
    "    return 2 * radius * math.asin(math.sqrt(\\\n",
    "               (math.sin(0.5*dlat))**2 + math.cos(lat1) * math.cos(lat2) * (math.sin(0.5*dlon))**2 ))"
   ]
  },
  {
   "cell_type": "markdown",
   "metadata": {},
   "source": [
    "<a id='sec2.2'></a>"
   ]
  },
  {
   "cell_type": "markdown",
   "metadata": {},
   "source": [
    "## 2.2 Training DataFrame"
   ]
  },
  {
   "cell_type": "markdown",
   "metadata": {},
   "source": [
    "Training data are generated as follows:\n",
    "1. each input tuple $(\\text{startPOI}, \\text{endPOI}, \\text{#POI})$ form a `query` (in IR terminology).\n",
    "1. the label of a specific POI is the number of presence of that POI in a specific `query`, excluding the presence as $\\text{startPOI}$ or $\\text{endPOI}$.\n",
    "1. for each `query`, the label of all absence POIs from trajectories of that `query` in training set got a label 0."
   ]
  },
  {
   "cell_type": "markdown",
   "metadata": {},
   "source": [
    "The dimension of training data matrix is `#(qid, poi)` by `#feature`."
   ]
  },
  {
   "cell_type": "code",
   "execution_count": 720,
   "metadata": {
    "collapsed": true
   },
   "outputs": [],
   "source": [
    "def gen_train_df(seqid_set, seq_all, poi_info, query_id_dict):\n",
    "    columns = df_columns.copy()\n",
    "    seqid_set = sorted(set(seqid_set))\n",
    "    train_seqs = [extract_seq(seqid, seq_all) for seqid in seqid_set]\n",
    "    for seq in train_seqs:\n",
    "        assert(len(seq) > 2)\n",
    "    \n",
    "    qid_set = sorted(set([query_id_dict[(seq[0], seq[-1], len(seq))] for seq in train_seqs]))\n",
    "    poi_set = sorted(set(poi_info.index.tolist()))\n",
    "    qid_poi_pair = list(itertools.product(qid_set, poi_set)) # Cartesian product of qid_set and poi_set\n",
    "    \n",
    "    df_ = pd.DataFrame(data=np.zeros((len(qid_poi_pair), len(columns)), dtype= np.float), columns=columns)\n",
    "    \n",
    "    query_id_rdict = dict()\n",
    "    for k, v in query_id_dict.items(): \n",
    "        query_id_rdict[v] = k  # qid --> (start, end, length)\n",
    "    \n",
    "    for i in range(df_.index.shape[0]):\n",
    "        qid = qid_poi_pair[i][0]\n",
    "        poi = qid_poi_pair[i][1]\n",
    "        (p0, pN, seqLen) = query_id_rdict[qid]\n",
    "        lon0 = poi_info.loc[p0, 'poiLon']; lat0 = poi_info.loc[p0, 'poiLat']\n",
    "        lonN = poi_info.loc[pN, 'poiLon']; latN = poi_info.loc[pN, 'poiLat']\n",
    "        lon = poi_info.loc[poi, 'poiLon']; lat = poi_info.loc[poi, 'poiLat']\n",
    "        pop = poi_info.loc[poi, 'popularity']; nvisit = poi_info.loc[poi, 'nVisit']\n",
    "        cat = poi_info.loc[poi, 'poiTheme']; duration = poi_info.loc[poi, 'avgDuration(sec)']\n",
    "        idx = df_.index[i]\n",
    "        df_.loc[idx, 'poiID'] = poi\n",
    "        df_.loc[idx, 'queryID'] = qid\n",
    "        df_.loc[idx, 'popularity'] = pop\n",
    "        df_.loc[idx, 'nVisit'] = nvisit\n",
    "        df_.loc[idx, 'avgDuration(sec)'] = duration\n",
    "        df_.loc[idx, 'sameCatStart'] = 1 if cat == poi_info.loc[p0, 'poiTheme'] else -1\n",
    "        df_.loc[idx, 'sameCatEnd']   = 1 if cat == poi_info.loc[pN, 'poiTheme'] else -1\n",
    "        df_.loc[idx, 'distStart'] = 0 if poi == p0 else calc_dist(lon, lat, lon0, lat0)\n",
    "        df_.loc[idx, 'distEnd']   = 0 if poi == pN else calc_dist(lon, lat, lonN, latN)\n",
    "        df_.loc[idx, 'seqLen'] = seqLen\n",
    "        df_.loc[idx, 'diffPopStart'] = 0 if poi == p0 else pop - poi_info.loc[p0, 'popularity']\n",
    "        df_.loc[idx, 'diffPopEnd']   = 0 if poi == pN else pop - poi_info.loc[pN, 'popularity']\n",
    "        df_.loc[idx, 'diffNVisitStart'] = 0 if poi == p0 else nvisit - poi_info.loc[p0, 'nVisit']\n",
    "        df_.loc[idx, 'diffNVisitEnd']   = 0 if poi == pN else nvisit - poi_info.loc[pN, 'nVisit']\n",
    "        df_.loc[idx, 'diffDurationStart'] = 0 if poi == p0 else duration - poi_info.loc[p0, 'avgDuration(sec)']\n",
    "        df_.loc[idx, 'diffDurationEnd']   = 0 if poi == pN else duration - poi_info.loc[pN, 'avgDuration(sec)']\n",
    "    \n",
    "    # set label\n",
    "    df_.set_index(['queryID', 'poiID'], inplace=True)\n",
    "    for seq in train_seqs:\n",
    "        qid = query_id_dict[(seq[0], seq[-1], len(seq))]\n",
    "        for poi in seq[1:-1]:  # do NOT count if the POI is startPOI/endPOI\n",
    "            df_.loc[(qid, poi), 'label'] += 1\n",
    "    \n",
    "    df_.reset_index(inplace=True)\n",
    "    return df_"
   ]
  },
  {
   "cell_type": "markdown",
   "metadata": {},
   "source": [
    "Sanity check: \n",
    "- different POIs have different features for the same query trajectory\n",
    "- the same POI get different features for different query-id"
   ]
  },
  {
   "cell_type": "markdown",
   "metadata": {},
   "source": [
    "<a id='sec2.3'></a>"
   ]
  },
  {
   "cell_type": "markdown",
   "metadata": {},
   "source": [
    "## 2.3 Test DataFrame"
   ]
  },
  {
   "cell_type": "markdown",
   "metadata": {},
   "source": [
    "Test data are generated the same way as training data, except that the labels of testing data (unknown) could be arbitrary values as suggested in [libsvm FAQ](http://www.csie.ntu.edu.tw/~cjlin/libsvm/faq.html#f431).\n",
    "The reported accuracy (by `svm-predict` command) is meaningless as it is calculated based on these labels."
   ]
  },
  {
   "cell_type": "markdown",
   "metadata": {},
   "source": [
    "The dimension of training data matrix is `#poi` by `#feature` with one specific `query`, i.e. tuple $(\\text{startPOI}, \\text{endPOI}, \\text{#POI})$."
   ]
  },
  {
   "cell_type": "code",
   "execution_count": 721,
   "metadata": {
    "collapsed": true
   },
   "outputs": [],
   "source": [
    "def gen_test_df(startPOI, endPOI, nPOI, poi_info, query_id_dict):\n",
    "    columns = df_columns.copy()\n",
    "    key = (p0, pN, seqLen) = (startPOI, endPOI, nPOI)\n",
    "    assert(key in query_id_dict)\n",
    "    \n",
    "    poi_set = sorted(set(poi_info.index.tolist()))\n",
    "    df_ = pd.DataFrame(data=np.zeros((len(poi_set), len(columns)), dtype= np.float), columns=columns)\n",
    "    \n",
    "    qid = query_id_dict[key]\n",
    "    df_['queryID'] = qid\n",
    "    df_['label'] = np.random.rand(df_.shape[0]) # label for test data is arbitrary according to libsvm FAQ\n",
    "\n",
    "    lon0 = poi_info.loc[p0, 'poiLon']; lat0 = poi_info.loc[p0, 'poiLat']\n",
    "    lonN = poi_info.loc[pN, 'poiLon']; latN = poi_info.loc[pN, 'poiLat']\n",
    "    for i in range(df_.index.shape[0]):\n",
    "        poi = poi_set[i]\n",
    "        lon = poi_info.loc[poi, 'poiLon']; lat = poi_info.loc[poi, 'poiLat']\n",
    "        pop = poi_info.loc[poi, 'popularity']; nvisit = poi_info.loc[poi, 'nVisit']\n",
    "        cat = poi_info.loc[poi, 'poiTheme']; duration = poi_info.loc[poi, 'avgDuration(sec)']\n",
    "        idx = df_.index[i]\n",
    "        df_.loc[idx, 'poiID'] = poi \n",
    "        df_.loc[idx, 'popularity'] = pop\n",
    "        df_.loc[idx, 'nVisit'] = nvisit\n",
    "        df_.loc[idx, 'avgDuration(sec)'] = duration\n",
    "        df_.loc[idx, 'sameCatStart'] = 1 if cat == poi_info.loc[p0, 'poiTheme'] else -1\n",
    "        df_.loc[idx, 'sameCatEnd']   = 1 if cat == poi_info.loc[pN, 'poiTheme'] else -1\n",
    "        df_.loc[idx, 'distStart'] = 0 if poi == p0 else calc_dist(lon, lat, lon0, lat0)\n",
    "        df_.loc[idx, 'distEnd']   = 0 if poi == pN else calc_dist(lon, lat, lonN, latN)\n",
    "        df_.loc[idx, 'seqLen'] = seqLen\n",
    "        df_.loc[idx, 'diffPopStart'] = 0 if poi == p0 else pop - poi_info.loc[p0, 'popularity']\n",
    "        df_.loc[idx, 'diffPopEnd']   = 0 if poi == pN else pop - poi_info.loc[pN, 'popularity']\n",
    "        df_.loc[idx, 'diffNVisitStart'] = 0 if poi == p0 else nvisit - poi_info.loc[p0, 'nVisit']\n",
    "        df_.loc[idx, 'diffNVisitEnd']   = 0 if poi == pN else nvisit - poi_info.loc[pN, 'nVisit']\n",
    "        df_.loc[idx, 'diffDurationStart'] = 0 if poi == p0 else duration - poi_info.loc[p0, 'avgDuration(sec)']\n",
    "        df_.loc[idx, 'diffDurationEnd']   = 0 if poi == pN else duration - poi_info.loc[pN, 'avgDuration(sec)']\n",
    "    return df_"
   ]
  },
  {
   "cell_type": "markdown",
   "metadata": {},
   "source": [
    "Sanity check: \n",
    "- different POIs have different features for the same query trajectory\n",
    "- the same POI get different features for different query-id"
   ]
  },
  {
   "cell_type": "markdown",
   "metadata": {},
   "source": [
    "Generate a string for a training/test data frame."
   ]
  },
  {
   "cell_type": "code",
   "execution_count": 722,
   "metadata": {
    "collapsed": true
   },
   "outputs": [],
   "source": [
    "def gen_data_str(df_):\n",
    "    columns = df_columns[1:].copy()  # get rid of 'poiID'\n",
    "    for col in columns:\n",
    "        assert(col in df_.columns)\n",
    "        \n",
    "    lines = []\n",
    "    for idx in df_.index:\n",
    "        slist = [str(df_.loc[idx, 'label'])]\n",
    "        slist.append(' qid:')\n",
    "        slist.append(str(int(df_.loc[idx, 'queryID'])))\n",
    "        for j in range(2, len(columns)):\n",
    "            slist.append(' ')\n",
    "            slist.append(str(j-1))\n",
    "            slist.append(':')\n",
    "            slist.append(str(df_.loc[idx, columns[j]]))\n",
    "        slist.append('\\n')\n",
    "        lines.append(''.join(slist))\n",
    "    return ''.join(lines)"
   ]
  },
  {
   "cell_type": "markdown",
   "metadata": {},
   "source": [
    "<a id='sec2.4'></a>"
   ]
  },
  {
   "cell_type": "markdown",
   "metadata": {},
   "source": [
    "## 2.4 Platt Scaling"
   ]
  },
  {
   "cell_type": "markdown",
   "metadata": {},
   "source": [
    "Transform ranking scores (output of rankSVM) to a probability distribution using [Platt scaling](https://en.wikipedia.org/wiki/Platt_scaling)."
   ]
  },
  {
   "cell_type": "markdown",
   "metadata": {},
   "source": [
    "Code from paper `Lin, Hsuan-Tien; Lin, Chih-Jen; Weng, Ruby C. (2007).` \n",
    "[`A note on Platt's probabilistic outputs for support vector machines`](http://stocktrendresearch.googlecode.com/svn-history/r77/trunk/Paper/SVM_ANN/plattprob.pdf).\n",
    "`Machine Learning 68 (3): 267–276.`"
   ]
  },
  {
   "cell_type": "code",
   "execution_count": 723,
   "metadata": {
    "collapsed": true
   },
   "outputs": [],
   "source": [
    "def platt_scaling_params(deci, label, prior1, prior0):\n",
    "    \"\"\"\n",
    "    Input parameters:\n",
    "    - deci = array of SVM decision values (of examples in training set)\n",
    "    - label = array of booleans: is the example labeled +1? (in training set)\n",
    "    - prior1 = number of positive examples (in training set)\n",
    "    - prior0 = number of negative examples (in training set)\n",
    "    Outputs:\n",
    "    - A, B = parameters of sigmoid\n",
    "    \"\"\"\n",
    "\n",
    "    # Parameter setting\n",
    "    maxiter = 100   # Maximum number of iterations\n",
    "    minstep = 1e-10 # Minimum step taken in line search\n",
    "    sigma = 1e-12   # Set to any value > 0\n",
    "\n",
    "    # Construct initial values: target support in array t, initial function value in fval\n",
    "    hiTarget = (prior1 + 1.0) / (prior1 + 2.0)\n",
    "    loTarget = 1 / (prior0 + 2.0)\n",
    "    len_ = prior1 + prior0  # Total number of data\n",
    "    t = np.zeros(len_, dtype=np.float)\n",
    "    for i in range(len_):\n",
    "        if label[i] == True: \n",
    "            t[i] = hiTarget\n",
    "        else:\n",
    "            t[i] = loTarget\n",
    "\n",
    "    A = 0.0\n",
    "    B = math.log((prior0 + 1.0) / (prior1 + 1.0))\n",
    "    fval = 0.0\n",
    "    for i in range(len_):\n",
    "        fApB = deci[i] * A + B\n",
    "        if fApB >= 0:\n",
    "            fval += t[i] * fApB + math.log(1 + math.exp(-fApB))\n",
    "        else:\n",
    "            fval += (t[i] - 1) * fApB + math.log(1 + math.exp(fApB))\n",
    "\n",
    "    for it in range(maxiter):\n",
    "        # Update Gradient and Hessian (use H' = H + sigma I)\n",
    "        h11 = h22 = sigma\n",
    "        h21 = g1 = g2 = 0.0\n",
    "        for i in range(len_):\n",
    "            fApB = deci[i] * A + B\n",
    "            if fApB >= 0:\n",
    "                p = math.exp(-fApB) / (1.0 + math.exp(-fApB))\n",
    "                q = 1.0 / (1.0 + math.exp(-fApB))\n",
    "            else:\n",
    "                p = 1.0 / (1.0 + math.exp(fApB))\n",
    "                q = math.exp(fApB) / (1.0 + math.exp(fApB))\n",
    "            d2 = p * q\n",
    "            h11 += deci[i] * deci[i] * d2\n",
    "            h22 += d2\n",
    "            h21 += deci[i] * d2\n",
    "            d1 = t[i] - p\n",
    "            g1 += deci[i] * d1\n",
    "            g2 += d1\n",
    "\n",
    "        # Stopping criteria\n",
    "        if math.fabs(g1) < 1e-5 and math.fabs(g2) < 1e-5:  \n",
    "            break\n",
    "\n",
    "        # Compute modified Newton directions\n",
    "        det = h11 * h22 - h21 * h21\n",
    "        dA = -(h22 * g1 - h21 * g2) / det\n",
    "        dB = -(-h21 * g1 + h11 * g2) / det\n",
    "        gd = g1 * dA + g2 * dB\n",
    "\n",
    "        # Line search\n",
    "        stepsize = 1\n",
    "        while stepsize >= minstep:\n",
    "            newA = A + stepsize * dA\n",
    "            newB = B + stepsize * dB\n",
    "            newf = 0.0\n",
    "            for i in range(len_):\n",
    "                fApB = deci[i] * newA + newB\n",
    "                if fApB >= 0:\n",
    "                    newf += t[i] * fApB + math.log(1 + math.exp(-fApB))\n",
    "                else:\n",
    "                    newf += (t[i] - 1) * fApB + math.log(1 + math.exp(fApB))\n",
    "\n",
    "            # Sufficient decrease satisfied\n",
    "            if newf < fval + 0.0001 * stepsize * gd:\n",
    "                A = newA\n",
    "                B = newB\n",
    "                fval = newf\n",
    "                break\n",
    "            else:\n",
    "                stepsize /= 2.0\n",
    "\n",
    "        if stepsize < minstep:\n",
    "            print('Line search fails')\n",
    "            break\n",
    "\n",
    "    if it >= maxiter:\n",
    "        print('Reaching maximum iterations')\n",
    "\n",
    "    return (A, B)"
   ]
  },
  {
   "cell_type": "markdown",
   "metadata": {},
   "source": [
    "<a id='sec2.5'></a>"
   ]
  },
  {
   "cell_type": "markdown",
   "metadata": {},
   "source": [
    "## 2.5 Ranking POIs using rankSVM"
   ]
  },
  {
   "cell_type": "markdown",
   "metadata": {},
   "source": [
    "RankSVM implementation in [libsvm.zip](https://www.csie.ntu.edu.tw/~cjlin/libsvmtools/ranksvm/libsvm-ranksvm-3.20.zip) or [liblinear.zip](https://www.csie.ntu.edu.tw/~cjlin/libsvmtools/ranksvm/liblinear-ranksvm-1.95.zip), please read `README.ranksvm` in the zip file for installation instructions."
   ]
  },
  {
   "cell_type": "markdown",
   "metadata": {},
   "source": [
    "Below is a python wrapper of the `svm-train` or `train` and `svm-predict` or `predict` commands of rankSVM with ranking probabilities $P(p_i \\lvert (p_s, p_e, len))$ calibrated using [Platt scaling](https://en.wikipedia.org/wiki/Platt_scaling)."
   ]
  },
  {
   "cell_type": "code",
   "execution_count": 724,
   "metadata": {
    "collapsed": true
   },
   "outputs": [],
   "source": [
    "# python wrapper of rankSVM\n",
    "class RankSVM:\n",
    "    def __init__(self, bin_dir, useLinear=True, debug=False):\n",
    "        dir_ = !echo $bin_dir  # deal with environmental variables in path\n",
    "        assert(os.path.exists(dir_[0]))\n",
    "        self.bin_dir = dir_[0]\n",
    "        \n",
    "        self.bin_train = 'svm-train'\n",
    "        self.bin_predict = 'svm-predict'\n",
    "        if useLinear:\n",
    "            self.bin_train = 'train'\n",
    "            self.bin_predict = 'predict'\n",
    "        \n",
    "        # Platt scaling parameters\n",
    "        self.A = None\n",
    "        self.B = None\n",
    "        \n",
    "        assert(isinstance(debug, bool))\n",
    "        self.debug = debug\n",
    "        \n",
    "        # create named tmp files for model and feature scaling parameters\n",
    "        self.fmodel = None\n",
    "        self.fscale = None\n",
    "        with tempfile.NamedTemporaryFile(delete=False) as fd: \n",
    "            self.fmodel = fd.name\n",
    "        with tempfile.NamedTemporaryFile(delete=False) as fd: \n",
    "            self.fscale = fd.name\n",
    "        \n",
    "        if self.debug:\n",
    "            print('model file:', self.fmodel)\n",
    "            print('feature scaling parameter file:', self.fscale)\n",
    "    \n",
    "    \n",
    "    def __del__(self):\n",
    "        # remove tmp files\n",
    "        if self.fmodel is not None and os.path.exists(self.fmodel):\n",
    "            os.unlink(self.fmodel)\n",
    "        if self.fscale is not None and os.path.exists(self.fscale):\n",
    "            os.unlink(self.fscale)\n",
    "    \n",
    "    \n",
    "    def train(self, train_df, cost=1):\n",
    "        # cost is parameter C in SVM\n",
    "        # write train data to file\n",
    "        ftrain = None\n",
    "        with tempfile.NamedTemporaryFile(mode='w+t', delete=False) as fd: \n",
    "            ftrain = fd.name\n",
    "            datastr = gen_data_str(train_df)\n",
    "            fd.write(datastr)\n",
    "        \n",
    "        # feature scaling\n",
    "        ftrain_scaled = None\n",
    "        with tempfile.NamedTemporaryFile(mode='w+t', delete=False) as fd: \n",
    "            ftrain_scaled = fd.name\n",
    "        result = !$self.bin_dir/svm-scale -s $self.fscale $ftrain > $ftrain_scaled\n",
    "        \n",
    "        if self.debug:\n",
    "            print('cost:', cost)\n",
    "            print('train data file:', ftrain)\n",
    "            print('feature scaled train data file:', ftrain_scaled)\n",
    "        \n",
    "        # train rank svm and generate model file, if the model file exists, rewrite it\n",
    "        #n_cv = 10  # parameter k for k-fold cross-validation, NO model file will be generated in CV mode\n",
    "        #result = !$self.bin_dir/svm-train -c $cost -v $n_cv $ftrain $self.fmodel\n",
    "        result = !$self.bin_dir/$self.bin_train -c $cost $ftrain_scaled $self.fmodel\n",
    "        if self.debug:\n",
    "            print('Training finished.')\n",
    "            for i in range(len(result)): print(result[i])\n",
    "\n",
    "        # remove train data file\n",
    "        os.unlink(ftrain)\n",
    "        os.unlink(ftrain_scaled)\n",
    "        \n",
    "        # learn Platt scaling parameters\n",
    "        rank_df = self.predict(train_df)\n",
    "        deci = rank_df['rank']                  # array of SVM decision values (of examples in training set)\n",
    "        label = (train_df['label'] > 0).values  # array of booleans: is the example labeled +1? (in training set)\n",
    "        prior1 = train_df[train_df['label'] > 0].shape[0] # number of positive examples (in training set)\n",
    "        prior0 = train_df.shape[0] - prior1               # number of negative examples (in training set)\n",
    "        (self.A, self.B) = platt_scaling_params(deci, label, prior1, prior0)\n",
    "    \n",
    "    \n",
    "    def predict(self, test_df):\n",
    "        # predict ranking scores for the given feature matrix\n",
    "        if self.fmodel is None or not os.path.exists(self.fmodel):\n",
    "            print('Model should be trained before predicting')\n",
    "            return\n",
    "        \n",
    "        # write test data to file\n",
    "        ftest = None\n",
    "        with tempfile.NamedTemporaryFile(mode='w+t', delete=False) as fd: \n",
    "            ftest = fd.name\n",
    "            datastr = gen_data_str(test_df)\n",
    "            fd.write(datastr)\n",
    "                \n",
    "        # feature scaling\n",
    "        ftest_scaled = None\n",
    "        with tempfile.NamedTemporaryFile(delete=False) as fd: \n",
    "            ftest_scaled = fd.name\n",
    "        result = !$self.bin_dir/svm-scale -r $self.fscale $ftest > $ftest_scaled\n",
    "            \n",
    "        # generate prediction file\n",
    "        fpredict = None\n",
    "        with tempfile.NamedTemporaryFile(delete=False) as fd: \n",
    "            fpredict = fd.name\n",
    "            \n",
    "        if self.debug:\n",
    "            print('test data file:', ftest)\n",
    "            print('feature scaled test data file:', ftest_scaled)\n",
    "            print('predict result file:', fpredict)\n",
    "            \n",
    "        # predict using trained model and write prediction to file\n",
    "        result = !$self.bin_dir/$self.bin_predict $ftest_scaled $self.fmodel $fpredict\n",
    "        if self.debug:\n",
    "            print('Predict result: %-30s  %s' % (result[0], result[1]))\n",
    "        \n",
    "        # generate prediction DataFrame from prediction file\n",
    "        poi_rank_df = pd.read_csv(fpredict, header=None)\n",
    "        poi_rank_df.rename(columns={0:'rank'}, inplace=True)\n",
    "        poi_rank_df['poiID'] = test_df['poiID'].astype(np.int)\n",
    "        #poi_rank_df.set_index('poiID', inplace=True) # duplicated 'poiID' when evaluating training data\n",
    "        if self.A is not None and self.B is not None: \n",
    "            # compute probability by Platt scaling: en.wikipedia.org/wiki/Platt_scaling\n",
    "            poi_rank_df['probability'] = 1 / (1 + np.exp(self.A * poi_rank_df['rank'] + self.B))\n",
    "        \n",
    "        # remove test file and prediction file\n",
    "        os.unlink(ftest)\n",
    "        os.unlink(ftest_scaled)\n",
    "        os.unlink(fpredict)\n",
    "        \n",
    "        return poi_rank_df"
   ]
  },
  {
   "cell_type": "markdown",
   "metadata": {},
   "source": [
    "Sanity check."
   ]
  },
  {
   "cell_type": "code",
   "execution_count": 725,
   "metadata": {
    "collapsed": true
   },
   "outputs": [],
   "source": [
    "train_df_ = gen_train_df(seqid_set_train0, seq_all, poi_info_t, query_id_dict)"
   ]
  },
  {
   "cell_type": "code",
   "execution_count": 726,
   "metadata": {
    "collapsed": false
   },
   "outputs": [],
   "source": [
    "ranksvm_ = RankSVM(ranksvm_dir, useLinear=True)\n",
    "ranksvm_.train(train_df_, cost=1000)"
   ]
  },
  {
   "cell_type": "code",
   "execution_count": 727,
   "metadata": {
    "collapsed": false
   },
   "outputs": [
    {
     "name": "stdout",
     "output_type": "stream",
     "text": [
      "A: -2.635, B: 4.568\n"
     ]
    }
   ],
   "source": [
    "print('A: %.3f, B: %.3f' % (ranksvm_.A, ranksvm_.B))"
   ]
  },
  {
   "cell_type": "markdown",
   "metadata": {},
   "source": [
    "Histograms on training set."
   ]
  },
  {
   "cell_type": "code",
   "execution_count": 728,
   "metadata": {
    "collapsed": true
   },
   "outputs": [],
   "source": [
    "rank_train_ = ranksvm_.predict(train_df_)"
   ]
  },
  {
   "cell_type": "code",
   "execution_count": 729,
   "metadata": {
    "collapsed": false
   },
   "outputs": [
    {
     "data": {
      "text/plain": [
       "<matplotlib.axes._subplots.AxesSubplot at 0x7fcb9dd519b0>"
      ]
     },
     "execution_count": 729,
     "metadata": {},
     "output_type": "execute_result"
    },
    {
     "data": {
      "image/png": "[encoded data removed]",
      "text/plain": [
       "<matplotlib.figure.Figure at 0x7fcb9e36e390>"
      ]
     },
     "metadata": {},
     "output_type": "display_data"
    }
   ],
   "source": [
    "plt.figure(figsize=[15, 3])\n",
    "ax1 = plt.subplot(1, 3, 1); plt.title('Histogram of Label (Train)')\n",
    "train_df_['label'].hist(ax=ax1, bins=6 )\n",
    "ax2 = plt.subplot(1, 3, 2); plt.title('Histogram of Ranking Score (Train)')\n",
    "rank_train_['rank'].hist(ax=ax2, bins=6)\n",
    "ax3 = plt.subplot(1, 3, 3); plt.title('Histogram of Ranking Probability (Train)')\n",
    "rank_train_['probability'].hist(ax=ax3, bins=8)"
   ]
  },
  {
   "cell_type": "code",
   "execution_count": 730,
   "metadata": {
    "collapsed": false
   },
   "outputs": [],
   "source": [
    "seqid_idx_ = 12\n",
    "seq_ = extract_seq(seqid_set_test0[seqid_idx_], seq_all)\n",
    "test_df_ = gen_test_df(seq_[0], seq_[-1], len(seq_), poi_info_t, query_id_dict)"
   ]
  },
  {
   "cell_type": "code",
   "execution_count": 731,
   "metadata": {
    "collapsed": false
   },
   "outputs": [],
   "source": [
    "rank_df_ = ranksvm_.predict(test_df_)\n",
    "rank_df_.set_index('poiID', inplace=True)\n",
    "rank_df_.sort_values(by='rank', ascending=False, inplace=True)"
   ]
  },
  {
   "cell_type": "markdown",
   "metadata": {},
   "source": [
    "Histograms of one test query."
   ]
  },
  {
   "cell_type": "code",
   "execution_count": 732,
   "metadata": {
    "collapsed": false
   },
   "outputs": [
    {
     "data": {
      "text/plain": [
       "<matplotlib.text.Text at 0x7fcb9de267f0>"
      ]
     },
     "execution_count": 732,
     "metadata": {},
     "output_type": "execute_result"
    },
    {
     "data": {
      "image/png": "[encoded data removed]",
      "text/plain": [
       "<matplotlib.figure.Figure at 0x7fcba18903c8>"
      ]
     },
     "metadata": {},
     "output_type": "display_data"
    }
   ],
   "source": [
    "plt.figure(figsize=[15, 4])\n",
    "ax1 = plt.subplot(1, 3, 1); plt.title('Histogram of Label (Test)')\n",
    "test_df_['label'].hist(ax=ax1, bins=6 )\n",
    "ax2 = plt.subplot(1, 3, 2); plt.title('Histogram of Ranking Score (Test)')\n",
    "rank_df_['rank'].hist(ax=ax2, bins=6)\n",
    "ax3 = plt.subplot(1, 3, 3); plt.title('Histogram of Ranking Probability (Test)')\n",
    "rank_df_['probability'].hist(ax=ax3, bins=8)\n",
    "plt.suptitle('Test Query: (start=%d, end=%d, length=%d)' % (seq_[0], seq_[-1], len(seq_)), fontsize=13, y=1)"
   ]
  },
  {
   "cell_type": "code",
   "execution_count": 733,
   "metadata": {
    "collapsed": false
   },
   "outputs": [
    {
     "name": "stdout",
     "output_type": "stream",
     "text": [
      "1.9466344321\n"
     ]
    },
    {
     "data": {
      "text/html": [
       "<div>\n",
       "<table border=\"1\" class=\"dataframe\">\n",
       "  <thead>\n",
       "    <tr style=\"text-align: right;\">\n",
       "      <th></th>\n",
       "      <th>rank</th>\n",
       "      <th>probability</th>\n",
       "    </tr>\n",
       "    <tr>\n",
       "      <th>poiID</th>\n",
       "      <th></th>\n",
       "      <th></th>\n",
       "    </tr>\n",
       "  </thead>\n",
       "  <tbody>\n",
       "    <tr>\n",
       "      <th>23</th>\n",
       "      <td>1.343710</td>\n",
       "      <td>0.263811</td>\n",
       "    </tr>\n",
       "    <tr>\n",
       "      <th>22</th>\n",
       "      <td>1.268450</td>\n",
       "      <td>0.227128</td>\n",
       "    </tr>\n",
       "    <tr>\n",
       "      <th>28</th>\n",
       "      <td>1.234830</td>\n",
       "      <td>0.211951</td>\n",
       "    </tr>\n",
       "    <tr>\n",
       "      <th>21</th>\n",
       "      <td>1.184540</td>\n",
       "      <td>0.190657</td>\n",
       "    </tr>\n",
       "    <tr>\n",
       "      <th>16</th>\n",
       "      <td>1.142390</td>\n",
       "      <td>0.174102</td>\n",
       "    </tr>\n",
       "    <tr>\n",
       "      <th>7</th>\n",
       "      <td>1.130020</td>\n",
       "      <td>0.169464</td>\n",
       "    </tr>\n",
       "    <tr>\n",
       "      <th>30</th>\n",
       "      <td>1.032300</td>\n",
       "      <td>0.136229</td>\n",
       "    </tr>\n",
       "    <tr>\n",
       "      <th>8</th>\n",
       "      <td>0.898046</td>\n",
       "      <td>0.099679</td>\n",
       "    </tr>\n",
       "    <tr>\n",
       "      <th>6</th>\n",
       "      <td>0.845452</td>\n",
       "      <td>0.087911</td>\n",
       "    </tr>\n",
       "    <tr>\n",
       "      <th>3</th>\n",
       "      <td>0.731817</td>\n",
       "      <td>0.066677</td>\n",
       "    </tr>\n",
       "    <tr>\n",
       "      <th>1</th>\n",
       "      <td>0.654902</td>\n",
       "      <td>0.055117</td>\n",
       "    </tr>\n",
       "    <tr>\n",
       "      <th>4</th>\n",
       "      <td>0.642803</td>\n",
       "      <td>0.053480</td>\n",
       "    </tr>\n",
       "    <tr>\n",
       "      <th>24</th>\n",
       "      <td>0.549371</td>\n",
       "      <td>0.042301</td>\n",
       "    </tr>\n",
       "    <tr>\n",
       "      <th>11</th>\n",
       "      <td>0.504938</td>\n",
       "      <td>0.037803</td>\n",
       "    </tr>\n",
       "    <tr>\n",
       "      <th>29</th>\n",
       "      <td>0.488014</td>\n",
       "      <td>0.036213</td>\n",
       "    </tr>\n",
       "    <tr>\n",
       "      <th>25</th>\n",
       "      <td>0.463084</td>\n",
       "      <td>0.033989</td>\n",
       "    </tr>\n",
       "    <tr>\n",
       "      <th>27</th>\n",
       "      <td>0.321376</td>\n",
       "      <td>0.023646</td>\n",
       "    </tr>\n",
       "    <tr>\n",
       "      <th>13</th>\n",
       "      <td>-0.026428</td>\n",
       "      <td>0.009591</td>\n",
       "    </tr>\n",
       "    <tr>\n",
       "      <th>17</th>\n",
       "      <td>-0.046020</td>\n",
       "      <td>0.009113</td>\n",
       "    </tr>\n",
       "    <tr>\n",
       "      <th>2</th>\n",
       "      <td>-0.247108</td>\n",
       "      <td>0.005384</td>\n",
       "    </tr>\n",
       "    <tr>\n",
       "      <th>14</th>\n",
       "      <td>-0.250413</td>\n",
       "      <td>0.005338</td>\n",
       "    </tr>\n",
       "    <tr>\n",
       "      <th>15</th>\n",
       "      <td>-0.344272</td>\n",
       "      <td>0.004173</td>\n",
       "    </tr>\n",
       "    <tr>\n",
       "      <th>19</th>\n",
       "      <td>-0.526715</td>\n",
       "      <td>0.002584</td>\n",
       "    </tr>\n",
       "    <tr>\n",
       "      <th>20</th>\n",
       "      <td>-1.350450</td>\n",
       "      <td>0.000295</td>\n",
       "    </tr>\n",
       "  </tbody>\n",
       "</table>\n",
       "</div>"
      ],
      "text/plain": [
       "           rank  probability\n",
       "poiID                       \n",
       "23     1.343710     0.263811\n",
       "22     1.268450     0.227128\n",
       "28     1.234830     0.211951\n",
       "21     1.184540     0.190657\n",
       "16     1.142390     0.174102\n",
       "7      1.130020     0.169464\n",
       "30     1.032300     0.136229\n",
       "8      0.898046     0.099679\n",
       "6      0.845452     0.087911\n",
       "3      0.731817     0.066677\n",
       "1      0.654902     0.055117\n",
       "4      0.642803     0.053480\n",
       "24     0.549371     0.042301\n",
       "11     0.504938     0.037803\n",
       "29     0.488014     0.036213\n",
       "25     0.463084     0.033989\n",
       "27     0.321376     0.023646\n",
       "13    -0.026428     0.009591\n",
       "17    -0.046020     0.009113\n",
       "2     -0.247108     0.005384\n",
       "14    -0.250413     0.005338\n",
       "15    -0.344272     0.004173\n",
       "19    -0.526715     0.002584\n",
       "20    -1.350450     0.000295"
      ]
     },
     "execution_count": 733,
     "metadata": {},
     "output_type": "execute_result"
    }
   ],
   "source": [
    "print(rank_df_['probability'].sum())  # it is ranking probabilities, not probability distribution\n",
    "rank_df_"
   ]
  },
  {
   "cell_type": "markdown",
   "metadata": {},
   "source": [
    "<a id='sec3'></a>"
   ]
  },
  {
   "cell_type": "markdown",
   "metadata": {},
   "source": [
    "# 3. Factorise Transition Probabilities in POI Feature Space"
   ]
  },
  {
   "cell_type": "markdown",
   "metadata": {},
   "source": [
    "Estimate a transition matrix for each feature of POI, transition probabilities (matrix) between different POI features (vector) is obtrained by the [Kronecker product](https://en.wikipedia.org/wiki/Kronecker_product) of the individual transition matrix corresponding to each feature."
   ]
  },
  {
   "cell_type": "markdown",
   "metadata": {},
   "source": [
    "<a id='sec3.1'></a>"
   ]
  },
  {
   "cell_type": "markdown",
   "metadata": {},
   "source": [
    "## 3.1 POI Features for Factorisation"
   ]
  },
  {
   "cell_type": "markdown",
   "metadata": {},
   "source": [
    "POI features used to factorise transition matrix of Markov Chain with POI features (vector) as states:\n",
    "- Category of POI\n",
    "- Popularity of POI (discritize with uniform log-scale bins, #bins <=5 )\n",
    "- The number of POI visits (discritize with uniform log-scale bins, #bins <=5 )\n",
    "- The average visit duration of POI (discritise with uniform log-scale bins, #bins <= 5)\n",
    "- The neighborhood relationship between POIs (clustering POI(lat, lon) using k-means, #clusters <= 5)"
   ]
  },
  {
   "cell_type": "markdown",
   "metadata": {},
   "source": [
    "We count the number of transition first, then normalise each row while taking care of zero by adding each cell a small number (i.e. $0.2$ times the minimum value of that row) if there exists a zero cell."
   ]
  },
  {
   "cell_type": "code",
   "execution_count": 734,
   "metadata": {
    "collapsed": true
   },
   "outputs": [],
   "source": [
    "def normalise_transmat(transmat):\n",
    "    assert(isinstance(transmat, pd.DataFrame))\n",
    "    for row in range(transmat.index.shape[0]):\n",
    "        nonzeroidx = np.nonzero(transmat.iloc[row])[0].tolist()    \n",
    "        if len(nonzeroidx) < transmat.columns.shape[0]:\n",
    "            if len(nonzeroidx) == 0:  # all zeros in row\n",
    "                transmat.iloc[row] = 1 / transmat.columns.shape[0]  # uniform distribution\n",
    "            else:\n",
    "                minv = np.min(transmat.iloc[row, nonzeroidx])\n",
    "                EPS = 0.2 * minv  # row-specific smooth factor\n",
    "                #zeroidx = list(set(range(len(transmat.columns))) - set(nonzeroidx))\n",
    "                #transmat.iloc[row, zeroidx] = EPS\n",
    "                transmat.iloc[row] += EPS\n",
    "                rowsum = np.sum(transmat.iloc[row])\n",
    "                assert(rowsum > 0)\n",
    "                transmat.iloc[row] /= rowsum\n",
    "        else:\n",
    "            assert(len(nonzeroidx) == transmat.columns.shape[0])  # all non-zero in row\n",
    "            transmat.iloc[row] /= np.sum(transmat.iloc[row])\n",
    "    return transmat"
   ]
  },
  {
   "cell_type": "markdown",
   "metadata": {},
   "source": [
    "POIs in training set."
   ]
  },
  {
   "cell_type": "code",
   "execution_count": 735,
   "metadata": {
    "collapsed": false
   },
   "outputs": [],
   "source": [
    "poi_train = seq_all[seq_all['seqID'].isin(seqid_set_train0)]['poiID'].unique().tolist()\n",
    "poi_train.sort()\n",
    "#poi_train"
   ]
  },
  {
   "cell_type": "markdown",
   "metadata": {},
   "source": [
    "<a id='sec3.2'></a>"
   ]
  },
  {
   "cell_type": "markdown",
   "metadata": {},
   "source": [
    "## 3.2 Transition Matrix between POI Cateogries"
   ]
  },
  {
   "cell_type": "code",
   "execution_count": 736,
   "metadata": {
    "collapsed": false
   },
   "outputs": [
    {
     "data": {
      "text/plain": [
       "['Amusement', 'Beach', 'Cultural', 'Shopping', 'Sport', 'Structure']"
      ]
     },
     "execution_count": 736,
     "metadata": {},
     "output_type": "execute_result"
    }
   ],
   "source": [
    "poi_cats = poi_all.loc[poi_train, 'poiTheme'].unique().tolist()\n",
    "poi_cats.sort()\n",
    "poi_cats"
   ]
  },
  {
   "cell_type": "code",
   "execution_count": 737,
   "metadata": {
    "collapsed": true
   },
   "outputs": [],
   "source": [
    "transmat_cat = pd.DataFrame(data=np.zeros((len(poi_cats), len(poi_cats)), dtype=np.float), \\\n",
    "                            columns=poi_cats, index=poi_cats)"
   ]
  },
  {
   "cell_type": "markdown",
   "metadata": {},
   "source": [
    "Count the number of transitions between POI categories."
   ]
  },
  {
   "cell_type": "code",
   "execution_count": 738,
   "metadata": {
    "collapsed": false
   },
   "outputs": [],
   "source": [
    "for seqid in seqid_set_train0:\n",
    "    seq = extract_seq(seqid, seq_all)\n",
    "    assert(len(seq) > 2)\n",
    "    for pi in range(len(seq)-1):\n",
    "        p1 = seq[pi]\n",
    "        p2 = seq[pi+1]\n",
    "        cat1 = poi_all.loc[p1, 'poiTheme']\n",
    "        cat2 = poi_all.loc[p2, 'poiTheme']\n",
    "        transmat_cat.loc[cat1, cat2] += 1"
   ]
  },
  {
   "cell_type": "code",
   "execution_count": 739,
   "metadata": {
    "collapsed": false
   },
   "outputs": [
    {
     "data": {
      "text/html": [
       "<div>\n",
       "<table border=\"1\" class=\"dataframe\">\n",
       "  <thead>\n",
       "    <tr style=\"text-align: right;\">\n",
       "      <th></th>\n",
       "      <th>Amusement</th>\n",
       "      <th>Beach</th>\n",
       "      <th>Cultural</th>\n",
       "      <th>Shopping</th>\n",
       "      <th>Sport</th>\n",
       "      <th>Structure</th>\n",
       "    </tr>\n",
       "  </thead>\n",
       "  <tbody>\n",
       "    <tr>\n",
       "      <th>Amusement</th>\n",
       "      <td>2</td>\n",
       "      <td>4</td>\n",
       "      <td>9</td>\n",
       "      <td>1</td>\n",
       "      <td>7</td>\n",
       "      <td>2</td>\n",
       "    </tr>\n",
       "    <tr>\n",
       "      <th>Beach</th>\n",
       "      <td>4</td>\n",
       "      <td>8</td>\n",
       "      <td>13</td>\n",
       "      <td>13</td>\n",
       "      <td>3</td>\n",
       "      <td>17</td>\n",
       "    </tr>\n",
       "    <tr>\n",
       "      <th>Cultural</th>\n",
       "      <td>11</td>\n",
       "      <td>15</td>\n",
       "      <td>6</td>\n",
       "      <td>7</td>\n",
       "      <td>8</td>\n",
       "      <td>13</td>\n",
       "    </tr>\n",
       "    <tr>\n",
       "      <th>Shopping</th>\n",
       "      <td>2</td>\n",
       "      <td>13</td>\n",
       "      <td>8</td>\n",
       "      <td>1</td>\n",
       "      <td>2</td>\n",
       "      <td>11</td>\n",
       "    </tr>\n",
       "    <tr>\n",
       "      <th>Sport</th>\n",
       "      <td>7</td>\n",
       "      <td>5</td>\n",
       "      <td>1</td>\n",
       "      <td>2</td>\n",
       "      <td>3</td>\n",
       "      <td>4</td>\n",
       "    </tr>\n",
       "    <tr>\n",
       "      <th>Structure</th>\n",
       "      <td>5</td>\n",
       "      <td>13</td>\n",
       "      <td>18</td>\n",
       "      <td>9</td>\n",
       "      <td>2</td>\n",
       "      <td>4</td>\n",
       "    </tr>\n",
       "  </tbody>\n",
       "</table>\n",
       "</div>"
      ],
      "text/plain": [
       "           Amusement  Beach  Cultural  Shopping  Sport  Structure\n",
       "Amusement          2      4         9         1      7          2\n",
       "Beach              4      8        13        13      3         17\n",
       "Cultural          11     15         6         7      8         13\n",
       "Shopping           2     13         8         1      2         11\n",
       "Sport              7      5         1         2      3          4\n",
       "Structure          5     13        18         9      2          4"
      ]
     },
     "execution_count": 739,
     "metadata": {},
     "output_type": "execute_result"
    }
   ],
   "source": [
    "transmat_cat"
   ]
  },
  {
   "cell_type": "markdown",
   "metadata": {},
   "source": [
    "Normalise each row to obtain transition probabilities."
   ]
  },
  {
   "cell_type": "code",
   "execution_count": 740,
   "metadata": {
    "collapsed": false
   },
   "outputs": [],
   "source": [
    "transmat_cat = normalise_transmat(transmat_cat)"
   ]
  },
  {
   "cell_type": "code",
   "execution_count": 741,
   "metadata": {
    "collapsed": false
   },
   "outputs": [
    {
     "data": {
      "text/html": [
       "<div>\n",
       "<table border=\"1\" class=\"dataframe\">\n",
       "  <thead>\n",
       "    <tr style=\"text-align: right;\">\n",
       "      <th></th>\n",
       "      <th>Amusement</th>\n",
       "      <th>Beach</th>\n",
       "      <th>Cultural</th>\n",
       "      <th>Shopping</th>\n",
       "      <th>Sport</th>\n",
       "      <th>Structure</th>\n",
       "    </tr>\n",
       "  </thead>\n",
       "  <tbody>\n",
       "    <tr>\n",
       "      <th>Amusement</th>\n",
       "      <td>0.080000</td>\n",
       "      <td>0.160000</td>\n",
       "      <td>0.360000</td>\n",
       "      <td>0.040000</td>\n",
       "      <td>0.280000</td>\n",
       "      <td>0.080000</td>\n",
       "    </tr>\n",
       "    <tr>\n",
       "      <th>Beach</th>\n",
       "      <td>0.068966</td>\n",
       "      <td>0.137931</td>\n",
       "      <td>0.224138</td>\n",
       "      <td>0.224138</td>\n",
       "      <td>0.051724</td>\n",
       "      <td>0.293103</td>\n",
       "    </tr>\n",
       "    <tr>\n",
       "      <th>Cultural</th>\n",
       "      <td>0.183333</td>\n",
       "      <td>0.250000</td>\n",
       "      <td>0.100000</td>\n",
       "      <td>0.116667</td>\n",
       "      <td>0.133333</td>\n",
       "      <td>0.216667</td>\n",
       "    </tr>\n",
       "    <tr>\n",
       "      <th>Shopping</th>\n",
       "      <td>0.054054</td>\n",
       "      <td>0.351351</td>\n",
       "      <td>0.216216</td>\n",
       "      <td>0.027027</td>\n",
       "      <td>0.054054</td>\n",
       "      <td>0.297297</td>\n",
       "    </tr>\n",
       "    <tr>\n",
       "      <th>Sport</th>\n",
       "      <td>0.318182</td>\n",
       "      <td>0.227273</td>\n",
       "      <td>0.045455</td>\n",
       "      <td>0.090909</td>\n",
       "      <td>0.136364</td>\n",
       "      <td>0.181818</td>\n",
       "    </tr>\n",
       "    <tr>\n",
       "      <th>Structure</th>\n",
       "      <td>0.098039</td>\n",
       "      <td>0.254902</td>\n",
       "      <td>0.352941</td>\n",
       "      <td>0.176471</td>\n",
       "      <td>0.039216</td>\n",
       "      <td>0.078431</td>\n",
       "    </tr>\n",
       "  </tbody>\n",
       "</table>\n",
       "</div>"
      ],
      "text/plain": [
       "           Amusement     Beach  Cultural  Shopping     Sport  Structure\n",
       "Amusement   0.080000  0.160000  0.360000  0.040000  0.280000   0.080000\n",
       "Beach       0.068966  0.137931  0.224138  0.224138  0.051724   0.293103\n",
       "Cultural    0.183333  0.250000  0.100000  0.116667  0.133333   0.216667\n",
       "Shopping    0.054054  0.351351  0.216216  0.027027  0.054054   0.297297\n",
       "Sport       0.318182  0.227273  0.045455  0.090909  0.136364   0.181818\n",
       "Structure   0.098039  0.254902  0.352941  0.176471  0.039216   0.078431"
      ]
     },
     "execution_count": 741,
     "metadata": {},
     "output_type": "execute_result"
    }
   ],
   "source": [
    "transmat_cat"
   ]
  },
  {
   "cell_type": "markdown",
   "metadata": {},
   "source": [
    "Combine the above steps."
   ]
  },
  {
   "cell_type": "code",
   "execution_count": 742,
   "metadata": {
    "collapsed": true
   },
   "outputs": [],
   "source": [
    "def gen_transmat_cat(seqid_set, seq_all, poi_info):\n",
    "    #poi_train = seq_all[seq_all['seqID'].isin(seqid_set)]['poiID'].unique().tolist()\n",
    "    poi_train = poi_info.index.tolist()\n",
    "    #poi_train.sort()\n",
    "    poi_cats = poi_info.loc[poi_train, 'poiTheme'].unique().tolist()\n",
    "    poi_cats.sort()\n",
    "    transmat_cat = pd.DataFrame(data=np.zeros((len(poi_cats), len(poi_cats)), dtype=np.float), \\\n",
    "                                columns=poi_cats, index=poi_cats)\n",
    "    for seqid in seqid_set:\n",
    "        seq = extract_seq(seqid, seq_all)\n",
    "        assert(len(seq) > 2)\n",
    "        for pi in range(len(seq)-1):\n",
    "            p1 = seq[pi]\n",
    "            p2 = seq[pi+1]\n",
    "            cat1 = poi_all.loc[p1, 'poiTheme']\n",
    "            cat2 = poi_all.loc[p2, 'poiTheme']\n",
    "            transmat_cat.loc[cat1, cat2] += 1\n",
    "    return normalise_transmat(transmat_cat)"
   ]
  },
  {
   "cell_type": "markdown",
   "metadata": {},
   "source": [
    "<a id='sec3.3'></a>"
   ]
  },
  {
   "cell_type": "markdown",
   "metadata": {},
   "source": [
    "## 3.3 Transition Matrix between POI Popularity Classes"
   ]
  },
  {
   "cell_type": "code",
   "execution_count": 743,
   "metadata": {
    "collapsed": false
   },
   "outputs": [
    {
     "data": {
      "text/plain": [
       "[1, 2, 3, 4, 5, 6, 9, 10, 12, 13, 19, 20, 22, 24, 31, 33]"
      ]
     },
     "execution_count": 743,
     "metadata": {},
     "output_type": "execute_result"
    }
   ],
   "source": [
    "poi_pops = poi_info_t.loc[poi_train, 'popularity'].unique().tolist()\n",
    "poi_pops.sort()\n",
    "poi_pops"
   ]
  },
  {
   "cell_type": "markdown",
   "metadata": {},
   "source": [
    "Discretize POI popularity with uniform log-scale bins (#bins $\\le 5$)."
   ]
  },
  {
   "cell_type": "code",
   "execution_count": 744,
   "metadata": {
    "collapsed": false
   },
   "outputs": [
    {
     "data": {
      "text/plain": [
       "4142"
      ]
     },
     "execution_count": 744,
     "metadata": {},
     "output_type": "execute_result"
    }
   ],
   "source": [
    "poi_all['poiFreq'].max()"
   ]
  },
  {
   "cell_type": "code",
   "execution_count": 745,
   "metadata": {
    "collapsed": false
   },
   "outputs": [
    {
     "name": "stdout",
     "output_type": "stream",
     "text": [
      "0.0 1.51851393988\n"
     ]
    }
   ],
   "source": [
    "expo_pop1 = np.log10(min(poi_pops))\n",
    "expo_pop2 = np.log10(max(poi_pops))\n",
    "print(expo_pop1, expo_pop2)"
   ]
  },
  {
   "cell_type": "code",
   "execution_count": 746,
   "metadata": {
    "collapsed": false
   },
   "outputs": [
    {
     "data": {
      "text/plain": [
       "array([   1.,   10.,  100.])"
      ]
     },
     "execution_count": 746,
     "metadata": {},
     "output_type": "execute_result"
    }
   ],
   "source": [
    "nbins_pop = 2\n",
    "logbins_pop = np.logspace(np.floor(expo_pop1), np.ceil(expo_pop2), nbins_pop+1)\n",
    "logbins_pop"
   ]
  },
  {
   "cell_type": "code",
   "execution_count": 747,
   "metadata": {
    "collapsed": false
   },
   "outputs": [
    {
     "data": {
      "image/png": "[encoded data removed]",
      "text/plain": [
       "<matplotlib.figure.Figure at 0x7fcb9e33ef60>"
      ]
     },
     "metadata": {},
     "output_type": "display_data"
    }
   ],
   "source": [
    "ax = pd.Series(poi_pops).hist(figsize=(5, 3), bins=logbins_pop)\n",
    "ax.set_xscale('log')"
   ]
  },
  {
   "cell_type": "code",
   "execution_count": 748,
   "metadata": {
    "collapsed": false
   },
   "outputs": [],
   "source": [
    "transmat_pop = pd.DataFrame(data=np.zeros((nbins_pop, nbins_pop), dtype=np.float), \\\n",
    "                            columns=np.arange(1, nbins_pop+1), index=np.arange(1, nbins_pop+1))"
   ]
  },
  {
   "cell_type": "markdown",
   "metadata": {},
   "source": [
    "Count the number of transitions between POI popularity classes."
   ]
  },
  {
   "cell_type": "code",
   "execution_count": 749,
   "metadata": {
    "collapsed": false
   },
   "outputs": [],
   "source": [
    "#np.digitize([101, 0.1], logbins_pop)"
   ]
  },
  {
   "cell_type": "code",
   "execution_count": 750,
   "metadata": {
    "collapsed": true
   },
   "outputs": [],
   "source": [
    "for seqid in seqid_set_train0:\n",
    "    seq = extract_seq(seqid, seq_all)\n",
    "    assert(len(seq) > 2)\n",
    "    for pi in range(len(seq)-1):\n",
    "        p1 = seq[pi]\n",
    "        p2 = seq[pi+1]\n",
    "        pop1 = poi_info_t.loc[p1, 'popularity']\n",
    "        pop2 = poi_info_t.loc[p2, 'popularity']\n",
    "        pc1, pc2 = np.digitize([pop1, pop2], logbins_pop)\n",
    "        transmat_pop.loc[pc1, pc2] += 1"
   ]
  },
  {
   "cell_type": "code",
   "execution_count": 751,
   "metadata": {
    "collapsed": false
   },
   "outputs": [
    {
     "data": {
      "text/html": [
       "<div>\n",
       "<table border=\"1\" class=\"dataframe\">\n",
       "  <thead>\n",
       "    <tr style=\"text-align: right;\">\n",
       "      <th></th>\n",
       "      <th>1</th>\n",
       "      <th>2</th>\n",
       "    </tr>\n",
       "  </thead>\n",
       "  <tbody>\n",
       "    <tr>\n",
       "      <th>1</th>\n",
       "      <td>10</td>\n",
       "      <td>23</td>\n",
       "    </tr>\n",
       "    <tr>\n",
       "      <th>2</th>\n",
       "      <td>28</td>\n",
       "      <td>192</td>\n",
       "    </tr>\n",
       "  </tbody>\n",
       "</table>\n",
       "</div>"
      ],
      "text/plain": [
       "    1    2\n",
       "1  10   23\n",
       "2  28  192"
      ]
     },
     "execution_count": 751,
     "metadata": {},
     "output_type": "execute_result"
    }
   ],
   "source": [
    "transmat_pop"
   ]
  },
  {
   "cell_type": "markdown",
   "metadata": {},
   "source": [
    "Normalise each row to obtain transition probabilities."
   ]
  },
  {
   "cell_type": "code",
   "execution_count": 752,
   "metadata": {
    "collapsed": false
   },
   "outputs": [],
   "source": [
    "transmat_pop = normalise_transmat(transmat_pop)"
   ]
  },
  {
   "cell_type": "code",
   "execution_count": 753,
   "metadata": {
    "collapsed": false
   },
   "outputs": [
    {
     "data": {
      "text/html": [
       "<div>\n",
       "<table border=\"1\" class=\"dataframe\">\n",
       "  <thead>\n",
       "    <tr style=\"text-align: right;\">\n",
       "      <th></th>\n",
       "      <th>1</th>\n",
       "      <th>2</th>\n",
       "    </tr>\n",
       "  </thead>\n",
       "  <tbody>\n",
       "    <tr>\n",
       "      <th>1</th>\n",
       "      <td>0.303030</td>\n",
       "      <td>0.696970</td>\n",
       "    </tr>\n",
       "    <tr>\n",
       "      <th>2</th>\n",
       "      <td>0.127273</td>\n",
       "      <td>0.872727</td>\n",
       "    </tr>\n",
       "  </tbody>\n",
       "</table>\n",
       "</div>"
      ],
      "text/plain": [
       "          1         2\n",
       "1  0.303030  0.696970\n",
       "2  0.127273  0.872727"
      ]
     },
     "execution_count": 753,
     "metadata": {},
     "output_type": "execute_result"
    }
   ],
   "source": [
    "transmat_pop"
   ]
  },
  {
   "cell_type": "markdown",
   "metadata": {},
   "source": [
    "Combine the above steps."
   ]
  },
  {
   "cell_type": "code",
   "execution_count": 754,
   "metadata": {
    "collapsed": true
   },
   "outputs": [],
   "source": [
    "def gen_transmat_pop(seqid_set, seq_all, poi_info, nbins=2):\n",
    "    #poi_train = seq_all[seq_all['seqID'].isin(seqid_set)]['poiID'].unique().tolist()\n",
    "    poi_train = poi_info.index.tolist()\n",
    "    #poi_train.sort()\n",
    "    #poi_info = calc_poi_info(seqid_set, seq_all, poi_all)\n",
    "    poi_pops = poi_info.loc[poi_train, 'popularity'].unique().tolist()\n",
    "    poi_pops.sort()\n",
    "    expo_pop1 = np.log10(min(poi_pops))\n",
    "    expo_pop2 = np.log10(max(poi_pops))\n",
    "    logbins_pop = np.logspace(np.floor(expo_pop1), np.ceil(expo_pop2), nbins+1)\n",
    "    transmat_pop = pd.DataFrame(data=np.zeros((nbins, nbins), dtype=np.float), \\\n",
    "                                columns=np.arange(1, nbins+1), index=np.arange(1, nbins+1))\n",
    "    for seqid in seqid_set:\n",
    "        seq = extract_seq(seqid, seq_all)\n",
    "        assert(len(seq) > 2)\n",
    "        for pi in range(len(seq)-1):\n",
    "            p1 = seq[pi]\n",
    "            p2 = seq[pi+1]\n",
    "            pop1 = poi_info.loc[p1, 'popularity']\n",
    "            pop2 = poi_info.loc[p2, 'popularity']\n",
    "            pc1, pc2 = np.digitize([pop1, pop2], logbins_pop)\n",
    "            transmat_pop.loc[pc1, pc2] += 1\n",
    "    return normalise_transmat(transmat_pop), logbins_pop"
   ]
  },
  {
   "cell_type": "markdown",
   "metadata": {},
   "source": [
    "<a id='sec3.4'></a>"
   ]
  },
  {
   "cell_type": "markdown",
   "metadata": {},
   "source": [
    "## 3.3 Transition Matrix between the Number of POI Visit Classes"
   ]
  },
  {
   "cell_type": "code",
   "execution_count": 755,
   "metadata": {
    "collapsed": false
   },
   "outputs": [
    {
     "data": {
      "text/plain": [
       "[1, 2, 3, 4, 5, 6, 7, 9, 10, 14, 22, 29, 30, 31, 32, 33, 36, 45]"
      ]
     },
     "execution_count": 755,
     "metadata": {},
     "output_type": "execute_result"
    }
   ],
   "source": [
    "poi_visits = poi_info_t.loc[poi_train, 'nVisit'].unique().tolist()\n",
    "poi_visits.sort()\n",
    "poi_visits"
   ]
  },
  {
   "cell_type": "markdown",
   "metadata": {},
   "source": [
    "Discretize the number of POI visit with uniform log-scale bins (#bins $\\le 5$)."
   ]
  },
  {
   "cell_type": "code",
   "execution_count": 756,
   "metadata": {
    "collapsed": false
   },
   "outputs": [
    {
     "name": "stdout",
     "output_type": "stream",
     "text": [
      "0.0 1.65321251378\n"
     ]
    }
   ],
   "source": [
    "expo_visit1 = np.log10(min(poi_visits))\n",
    "expo_visit2 = np.log10(max(poi_visits))\n",
    "print(expo_visit1, expo_visit2)"
   ]
  },
  {
   "cell_type": "code",
   "execution_count": 757,
   "metadata": {
    "collapsed": false
   },
   "outputs": [
    {
     "data": {
      "text/plain": [
       "array([   1.        ,    3.16227766,   10.        ,   31.6227766 ,  100.        ])"
      ]
     },
     "execution_count": 757,
     "metadata": {},
     "output_type": "execute_result"
    }
   ],
   "source": [
    "nbins_visit = 4\n",
    "logbins_visit = np.logspace(np.floor(expo_visit1), np.ceil(expo_visit2), nbins_visit+1)\n",
    "logbins_visit"
   ]
  },
  {
   "cell_type": "code",
   "execution_count": 758,
   "metadata": {
    "collapsed": false
   },
   "outputs": [
    {
     "data": {
      "image/png": "[encoded data removed]",
      "text/plain": [
       "<matplotlib.figure.Figure at 0x7fcb9d87d7f0>"
      ]
     },
     "metadata": {},
     "output_type": "display_data"
    }
   ],
   "source": [
    "ax = pd.Series(poi_visits).hist(figsize=(5, 3), bins=logbins_visit)\n",
    "ax.set_xscale('log')"
   ]
  },
  {
   "cell_type": "code",
   "execution_count": 759,
   "metadata": {
    "collapsed": false
   },
   "outputs": [],
   "source": [
    "transmat_visit = pd.DataFrame(data=np.zeros((nbins_visit, nbins_visit), dtype=np.float), \\\n",
    "                              columns=np.arange(1, nbins_visit+1), index=np.arange(1, nbins_visit+1))"
   ]
  },
  {
   "cell_type": "markdown",
   "metadata": {},
   "source": [
    "Count the number of transitions between POI popularity classes."
   ]
  },
  {
   "cell_type": "code",
   "execution_count": 760,
   "metadata": {
    "collapsed": true
   },
   "outputs": [],
   "source": [
    "for seqid in seqid_set_train0:\n",
    "    seq = extract_seq(seqid, seq_all)\n",
    "    assert(len(seq) > 2)\n",
    "    for pi in range(len(seq)-1):\n",
    "        p1 = seq[pi]\n",
    "        p2 = seq[pi+1]\n",
    "        visit1 = poi_info_t.loc[p1, 'nVisit']\n",
    "        visit2 = poi_info_t.loc[p2, 'nVisit']\n",
    "        vc1, vc2 = np.digitize([visit1, visit2], logbins_visit)\n",
    "        transmat_visit.loc[vc1, vc2] += 1"
   ]
  },
  {
   "cell_type": "code",
   "execution_count": 761,
   "metadata": {
    "collapsed": false
   },
   "outputs": [
    {
     "data": {
      "text/html": [
       "<div>\n",
       "<table border=\"1\" class=\"dataframe\">\n",
       "  <thead>\n",
       "    <tr style=\"text-align: right;\">\n",
       "      <th></th>\n",
       "      <th>1</th>\n",
       "      <th>2</th>\n",
       "      <th>3</th>\n",
       "      <th>4</th>\n",
       "    </tr>\n",
       "  </thead>\n",
       "  <tbody>\n",
       "    <tr>\n",
       "      <th>1</th>\n",
       "      <td>4</td>\n",
       "      <td>1</td>\n",
       "      <td>0</td>\n",
       "      <td>0</td>\n",
       "    </tr>\n",
       "    <tr>\n",
       "      <th>2</th>\n",
       "      <td>2</td>\n",
       "      <td>3</td>\n",
       "      <td>15</td>\n",
       "      <td>8</td>\n",
       "    </tr>\n",
       "    <tr>\n",
       "      <th>3</th>\n",
       "      <td>3</td>\n",
       "      <td>13</td>\n",
       "      <td>38</td>\n",
       "      <td>62</td>\n",
       "    </tr>\n",
       "    <tr>\n",
       "      <th>4</th>\n",
       "      <td>1</td>\n",
       "      <td>11</td>\n",
       "      <td>52</td>\n",
       "      <td>40</td>\n",
       "    </tr>\n",
       "  </tbody>\n",
       "</table>\n",
       "</div>"
      ],
      "text/plain": [
       "   1   2   3   4\n",
       "1  4   1   0   0\n",
       "2  2   3  15   8\n",
       "3  3  13  38  62\n",
       "4  1  11  52  40"
      ]
     },
     "execution_count": 761,
     "metadata": {},
     "output_type": "execute_result"
    }
   ],
   "source": [
    "transmat_visit"
   ]
  },
  {
   "cell_type": "markdown",
   "metadata": {},
   "source": [
    "Normalise each row to obtain transition probabilities."
   ]
  },
  {
   "cell_type": "code",
   "execution_count": 762,
   "metadata": {
    "collapsed": false
   },
   "outputs": [],
   "source": [
    "transmat_visit = normalise_transmat(transmat_visit)"
   ]
  },
  {
   "cell_type": "code",
   "execution_count": 763,
   "metadata": {
    "collapsed": false
   },
   "outputs": [
    {
     "data": {
      "text/html": [
       "<div>\n",
       "<table border=\"1\" class=\"dataframe\">\n",
       "  <thead>\n",
       "    <tr style=\"text-align: right;\">\n",
       "      <th></th>\n",
       "      <th>1</th>\n",
       "      <th>2</th>\n",
       "      <th>3</th>\n",
       "      <th>4</th>\n",
       "    </tr>\n",
       "  </thead>\n",
       "  <tbody>\n",
       "    <tr>\n",
       "      <th>1</th>\n",
       "      <td>0.724138</td>\n",
       "      <td>0.206897</td>\n",
       "      <td>0.034483</td>\n",
       "      <td>0.034483</td>\n",
       "    </tr>\n",
       "    <tr>\n",
       "      <th>2</th>\n",
       "      <td>0.071429</td>\n",
       "      <td>0.107143</td>\n",
       "      <td>0.535714</td>\n",
       "      <td>0.285714</td>\n",
       "    </tr>\n",
       "    <tr>\n",
       "      <th>3</th>\n",
       "      <td>0.025862</td>\n",
       "      <td>0.112069</td>\n",
       "      <td>0.327586</td>\n",
       "      <td>0.534483</td>\n",
       "    </tr>\n",
       "    <tr>\n",
       "      <th>4</th>\n",
       "      <td>0.009615</td>\n",
       "      <td>0.105769</td>\n",
       "      <td>0.500000</td>\n",
       "      <td>0.384615</td>\n",
       "    </tr>\n",
       "  </tbody>\n",
       "</table>\n",
       "</div>"
      ],
      "text/plain": [
       "          1         2         3         4\n",
       "1  0.724138  0.206897  0.034483  0.034483\n",
       "2  0.071429  0.107143  0.535714  0.285714\n",
       "3  0.025862  0.112069  0.327586  0.534483\n",
       "4  0.009615  0.105769  0.500000  0.384615"
      ]
     },
     "execution_count": 763,
     "metadata": {},
     "output_type": "execute_result"
    }
   ],
   "source": [
    "transmat_visit"
   ]
  },
  {
   "cell_type": "markdown",
   "metadata": {},
   "source": [
    "Combine the above steps."
   ]
  },
  {
   "cell_type": "code",
   "execution_count": 764,
   "metadata": {
    "collapsed": true
   },
   "outputs": [],
   "source": [
    "def gen_transmat_visit(seqid_set, seq_all, poi_info, nbins=4):\n",
    "    #poi_train = seq_all[seq_all['seqID'].isin(seqid_set)]['poiID'].unique().tolist()\n",
    "    poi_train = poi_info.index.tolist()\n",
    "    #poi_train.sort()\n",
    "    #poi_info = calc_poi_info(seqid_set, seq_all, poi_all)\n",
    "    poi_visits = poi_info.loc[poi_train, 'nVisit'].unique().tolist()\n",
    "    poi_visits.sort()\n",
    "    expo_visit1 = np.log10(min(poi_visits))\n",
    "    expo_visit2 = np.log10(max(poi_visits))\n",
    "    logbins_visit = np.logspace(np.floor(expo_visit1), np.ceil(expo_visit2), nbins+1)\n",
    "    transmat_visit = pd.DataFrame(data=np.zeros((nbins, nbins), dtype=np.float), \\\n",
    "                                  columns=np.arange(1, nbins+1), index=np.arange(1, nbins+1))\n",
    "    for seqid in seqid_set:\n",
    "        seq = extract_seq(seqid, seq_all)\n",
    "        assert(len(seq) > 2)\n",
    "        for pi in range(len(seq)-1):\n",
    "            p1 = seq[pi]\n",
    "            p2 = seq[pi+1]\n",
    "            visit1 = poi_info.loc[p1, 'nVisit']\n",
    "            visit2 = poi_info.loc[p2, 'nVisit']\n",
    "            vc1, vc2 = np.digitize([visit1, visit2], logbins_visit)\n",
    "            transmat_visit.loc[vc1, vc2] += 1\n",
    "    return normalise_transmat(transmat_visit), logbins_visit"
   ]
  },
  {
   "cell_type": "markdown",
   "metadata": {},
   "source": [
    "<a id='sec3.5'></a>"
   ]
  },
  {
   "cell_type": "markdown",
   "metadata": {},
   "source": [
    "## 3.5 Transition Matrix between POI Average Visit Duration Classes"
   ]
  },
  {
   "cell_type": "code",
   "execution_count": 765,
   "metadata": {
    "collapsed": false
   },
   "outputs": [
    {
     "data": {
      "text/plain": [
       "array([   29.  ,    57.67,    61.  ,   512.  ,   673.5 ,   817.8 ,\n",
       "        1262.43,  1411.44,  1660.25,  2088.29,  2136.36,  2309.28,\n",
       "        2475.  ,  3411.71,  3438.64,  3457.39,  3470.51,  4121.9 ,\n",
       "        4331.  ,  4719.  ,  5248.15,  5315.93,  6772.2 ,  9911.5 ])"
      ]
     },
     "execution_count": 765,
     "metadata": {},
     "output_type": "execute_result"
    }
   ],
   "source": [
    "poi_durations = poi_info_t.loc[poi_train, 'avgDuration(sec)'].unique().tolist()\n",
    "poi_durations.sort()\n",
    "np.round(poi_durations, 2)"
   ]
  },
  {
   "cell_type": "markdown",
   "metadata": {},
   "source": [
    "Discretize POI average visit duration with uniform log-scale bins (#bins $\\le 5$)."
   ]
  },
  {
   "cell_type": "code",
   "execution_count": 766,
   "metadata": {
    "collapsed": false
   },
   "outputs": [
    {
     "name": "stdout",
     "output_type": "stream",
     "text": [
      "1.4623979979 3.99613938531\n"
     ]
    }
   ],
   "source": [
    "expo_duration1 = np.log10(min(poi_durations))\n",
    "expo_duration2 = np.log10(max(poi_durations))\n",
    "print(expo_duration1, expo_duration2)"
   ]
  },
  {
   "cell_type": "code",
   "execution_count": 767,
   "metadata": {
    "collapsed": false
   },
   "outputs": [
    {
     "data": {
      "text/plain": [
       "array([    10.,    100.,   1000.,  10000.])"
      ]
     },
     "execution_count": 767,
     "metadata": {},
     "output_type": "execute_result"
    }
   ],
   "source": [
    "nbins_duration = 3\n",
    "logbins_duration = np.logspace(np.floor(expo_duration1), np.ceil(expo_duration2), nbins_duration+1)\n",
    "logbins_duration"
   ]
  },
  {
   "cell_type": "code",
   "execution_count": 768,
   "metadata": {
    "collapsed": false
   },
   "outputs": [
    {
     "data": {
      "image/png": "[encoded data removed]",
      "text/plain": [
       "<matplotlib.figure.Figure at 0x7fcb9dc34d68>"
      ]
     },
     "metadata": {},
     "output_type": "display_data"
    }
   ],
   "source": [
    "ax = pd.Series(poi_durations).hist(figsize=(5, 3), bins=logbins_duration)\n",
    "ax.set_xscale('log')"
   ]
  },
  {
   "cell_type": "code",
   "execution_count": 769,
   "metadata": {
    "collapsed": false
   },
   "outputs": [],
   "source": [
    "transmat_duration = pd.DataFrame(data=np.zeros((nbins_duration, nbins_duration), dtype=np.float), \\\n",
    "                                 columns=np.arange(1, nbins_duration+1), index=np.arange(1, nbins_duration+1))"
   ]
  },
  {
   "cell_type": "markdown",
   "metadata": {},
   "source": [
    "Count the number of transitions between POI average visit duration classes."
   ]
  },
  {
   "cell_type": "code",
   "execution_count": 770,
   "metadata": {
    "collapsed": false
   },
   "outputs": [],
   "source": [
    "for seqid in seqid_set_train0:\n",
    "    seq = extract_seq(seqid, seq_all)\n",
    "    assert(len(seq) > 2)\n",
    "    for pi in range(len(seq)-1):\n",
    "        p1 = seq[pi]\n",
    "        p2 = seq[pi+1]\n",
    "        d1 = poi_info_t.loc[p1, 'avgDuration(sec)']\n",
    "        d2 = poi_info_t.loc[p2, 'avgDuration(sec)']\n",
    "        dc1, dc2 = np.digitize([d1, d2], logbins_duration)\n",
    "        transmat_duration.loc[dc1, dc2] += 1"
   ]
  },
  {
   "cell_type": "code",
   "execution_count": 771,
   "metadata": {
    "collapsed": false
   },
   "outputs": [
    {
     "data": {
      "text/html": [
       "<div>\n",
       "<table border=\"1\" class=\"dataframe\">\n",
       "  <thead>\n",
       "    <tr style=\"text-align: right;\">\n",
       "      <th></th>\n",
       "      <th>1</th>\n",
       "      <th>2</th>\n",
       "      <th>3</th>\n",
       "    </tr>\n",
       "  </thead>\n",
       "  <tbody>\n",
       "    <tr>\n",
       "      <th>1</th>\n",
       "      <td>0</td>\n",
       "      <td>0</td>\n",
       "      <td>0</td>\n",
       "    </tr>\n",
       "    <tr>\n",
       "      <th>2</th>\n",
       "      <td>0</td>\n",
       "      <td>2</td>\n",
       "      <td>10</td>\n",
       "    </tr>\n",
       "    <tr>\n",
       "      <th>3</th>\n",
       "      <td>5</td>\n",
       "      <td>11</td>\n",
       "      <td>225</td>\n",
       "    </tr>\n",
       "  </tbody>\n",
       "</table>\n",
       "</div>"
      ],
      "text/plain": [
       "   1   2    3\n",
       "1  0   0    0\n",
       "2  0   2   10\n",
       "3  5  11  225"
      ]
     },
     "execution_count": 771,
     "metadata": {},
     "output_type": "execute_result"
    }
   ],
   "source": [
    "transmat_duration"
   ]
  },
  {
   "cell_type": "markdown",
   "metadata": {},
   "source": [
    "Normalise each row to obtain transition probabilities."
   ]
  },
  {
   "cell_type": "code",
   "execution_count": 772,
   "metadata": {
    "collapsed": true
   },
   "outputs": [],
   "source": [
    "transmat_duration = normalise_transmat(transmat_duration)"
   ]
  },
  {
   "cell_type": "code",
   "execution_count": 773,
   "metadata": {
    "collapsed": false
   },
   "outputs": [
    {
     "data": {
      "text/html": [
       "<div>\n",
       "<table border=\"1\" class=\"dataframe\">\n",
       "  <thead>\n",
       "    <tr style=\"text-align: right;\">\n",
       "      <th></th>\n",
       "      <th>1</th>\n",
       "      <th>2</th>\n",
       "      <th>3</th>\n",
       "    </tr>\n",
       "  </thead>\n",
       "  <tbody>\n",
       "    <tr>\n",
       "      <th>1</th>\n",
       "      <td>0.333333</td>\n",
       "      <td>0.333333</td>\n",
       "      <td>0.333333</td>\n",
       "    </tr>\n",
       "    <tr>\n",
       "      <th>2</th>\n",
       "      <td>0.030303</td>\n",
       "      <td>0.181818</td>\n",
       "      <td>0.787879</td>\n",
       "    </tr>\n",
       "    <tr>\n",
       "      <th>3</th>\n",
       "      <td>0.020747</td>\n",
       "      <td>0.045643</td>\n",
       "      <td>0.933610</td>\n",
       "    </tr>\n",
       "  </tbody>\n",
       "</table>\n",
       "</div>"
      ],
      "text/plain": [
       "          1         2         3\n",
       "1  0.333333  0.333333  0.333333\n",
       "2  0.030303  0.181818  0.787879\n",
       "3  0.020747  0.045643  0.933610"
      ]
     },
     "execution_count": 773,
     "metadata": {},
     "output_type": "execute_result"
    }
   ],
   "source": [
    "transmat_duration"
   ]
  },
  {
   "cell_type": "markdown",
   "metadata": {},
   "source": [
    "Combine the above steps."
   ]
  },
  {
   "cell_type": "code",
   "execution_count": 774,
   "metadata": {
    "collapsed": true
   },
   "outputs": [],
   "source": [
    "def gen_transmat_duration(seqid_set, seq_all, poi_info, nbins=3):\n",
    "    #poi_train = seq_all[seq_all['seqID'].isin(seqid_set)]['poiID'].unique().tolist()\n",
    "    poi_train = poi_info.index.tolist()\n",
    "    #poi_train.sort()\n",
    "    #poi_info = calc_poi_info(seqid_set, seq_all, poi_all)\n",
    "    poi_durations = poi_info.loc[poi_train, 'avgDuration(sec)'].unique().tolist()\n",
    "    poi_durations.sort()\n",
    "    expo_duration1 = np.log10(min(poi_durations))\n",
    "    expo_duration2 = np.log10(max(poi_durations))\n",
    "    logbins_duration = np.logspace(np.floor(expo_duration1), np.ceil(expo_duration2), nbins+1)\n",
    "    transmat_duration = pd.DataFrame(data=np.zeros((nbins, nbins), dtype=np.float), \\\n",
    "                                     columns=np.arange(1, nbins+1), index=np.arange(1, nbins+1))\n",
    "    for seqid in seqid_set:\n",
    "        seq = extract_seq(seqid, seq_all)\n",
    "        assert(len(seq) > 2)\n",
    "        for pi in range(len(seq)-1):\n",
    "            p1 = seq[pi]\n",
    "            p2 = seq[pi+1]\n",
    "            d1 = poi_info.loc[p1, 'avgDuration(sec)']\n",
    "            d2 = poi_info.loc[p2, 'avgDuration(sec)']\n",
    "            dc1, dc2 = np.digitize([d1, d2], logbins_duration)\n",
    "            transmat_duration.loc[dc1, dc2] += 1\n",
    "    return normalise_transmat(transmat_duration), logbins_duration"
   ]
  },
  {
   "cell_type": "markdown",
   "metadata": {},
   "source": [
    "<a id='sec3.6'></a>"
   ]
  },
  {
   "cell_type": "markdown",
   "metadata": {},
   "source": [
    "## 3.6 Transition Matrix between POI Neighborhood Classes"
   ]
  },
  {
   "cell_type": "markdown",
   "metadata": {},
   "source": [
    "Compute POI neighborhoods, i.e., clustering POI (lat, lon) in training set using k-means, #clusters $\\le 5$."
   ]
  },
  {
   "cell_type": "markdown",
   "metadata": {},
   "source": [
    "KMeans in scikit-learn seems unable to use custom distance metric and no implementation of [Haversine formula](http://en.wikipedia.org/wiki/Great-circle_distance), use Euclidean distance to approximate."
   ]
  },
  {
   "cell_type": "code",
   "execution_count": 775,
   "metadata": {
    "collapsed": false
   },
   "outputs": [],
   "source": [
    "#from sklearn.cluster import KMeans\n",
    "X = poi_all.loc[poi_train, ['poiLon', 'poiLat']]\n",
    "nclusters = 4"
   ]
  },
  {
   "cell_type": "code",
   "execution_count": 776,
   "metadata": {
    "collapsed": false
   },
   "outputs": [
    {
     "data": {
      "text/plain": [
       "KMeans(copy_x=True, init='k-means++', max_iter=300, n_clusters=4, n_init=10,\n",
       "    n_jobs=1, precompute_distances='auto', random_state=None, tol=0.0001,\n",
       "    verbose=0)"
      ]
     },
     "execution_count": 776,
     "metadata": {},
     "output_type": "execute_result"
    }
   ],
   "source": [
    "kmeans = KMeans(n_clusters=nclusters)\n",
    "kmeans.fit(X)"
   ]
  },
  {
   "cell_type": "code",
   "execution_count": 777,
   "metadata": {
    "collapsed": false
   },
   "outputs": [
    {
     "data": {
      "text/plain": [
       "array([0, 1, 2, 0, 2, 0, 0, 2, 2, 1, 0, 0, 1, 0, 3, 0, 0, 0, 0, 2, 2, 0, 2,\n",
       "       0], dtype=int32)"
      ]
     },
     "execution_count": 777,
     "metadata": {},
     "output_type": "execute_result"
    }
   ],
   "source": [
    "clusters = kmeans.predict(X)\n",
    "clusters"
   ]
  },
  {
   "cell_type": "code",
   "execution_count": 778,
   "metadata": {
    "collapsed": false
   },
   "outputs": [],
   "source": [
    "poi_clusters = pd.DataFrame(data=clusters, index=poi_train)\n",
    "poi_clusters.index.name = 'poiID'\n",
    "poi_clusters.rename(columns={0:'clusterID'}, inplace=True)\n",
    "#poi_clusters"
   ]
  },
  {
   "cell_type": "code",
   "execution_count": 779,
   "metadata": {
    "collapsed": false
   },
   "outputs": [
    {
     "data": {
      "text/plain": [
       "1.5227639511428037"
      ]
     },
     "execution_count": 779,
     "metadata": {},
     "output_type": "execute_result"
    }
   ],
   "source": [
    "diff = poi_all.loc[poi_train, ['poiLon', 'poiLat']].max() - poi_all.loc[poi_train, ['poiLon', 'poiLat']].min()\n",
    "diff['poiLon'] / diff['poiLat']"
   ]
  },
  {
   "cell_type": "markdown",
   "metadata": {},
   "source": [
    "A $3:2$ figure should be fine."
   ]
  },
  {
   "cell_type": "code",
   "execution_count": 780,
   "metadata": {
    "collapsed": false
   },
   "outputs": [
    {
     "data": {
      "text/plain": [
       "<matplotlib.collections.PathCollection at 0x7fcb9df8ef98>"
      ]
     },
     "execution_count": 780,
     "metadata": {},
     "output_type": "execute_result"
    },
    {
     "data": {
      "image/png": "[encoded data removed]",
      "text/plain": [
       "<matplotlib.figure.Figure at 0x7fcb9dd96ef0>"
      ]
     },
     "metadata": {},
     "output_type": "display_data"
    }
   ],
   "source": [
    "plt.figure(figsize=[12, 8])\n",
    "plt.scatter(poi_all.loc[poi_train, 'poiLon'], poi_all.loc[poi_train, 'poiLat'], c=clusters, s=50)"
   ]
  },
  {
   "cell_type": "code",
   "execution_count": 781,
   "metadata": {
    "collapsed": false
   },
   "outputs": [],
   "source": [
    "transmat_neighbor = pd.DataFrame(data=np.zeros((nclusters, nclusters), dtype=np.float), \\\n",
    "                                 columns=np.arange(nclusters), index=np.arange(nclusters))"
   ]
  },
  {
   "cell_type": "markdown",
   "metadata": {},
   "source": [
    "Count the number of transitions between POIs in different clusters."
   ]
  },
  {
   "cell_type": "code",
   "execution_count": 782,
   "metadata": {
    "collapsed": false
   },
   "outputs": [],
   "source": [
    "for seqid in seqid_set_train0:\n",
    "    seq = extract_seq(seqid, seq_all)\n",
    "    assert(len(seq) > 2)\n",
    "    for pi in range(len(seq)-1):\n",
    "        p1 = seq[pi]\n",
    "        p2 = seq[pi+1]\n",
    "        c1 = poi_clusters.loc[p1, 'clusterID']\n",
    "        c2 = poi_clusters.loc[p2, 'clusterID']\n",
    "        transmat_neighbor.loc[c1, c2] += 1"
   ]
  },
  {
   "cell_type": "code",
   "execution_count": 783,
   "metadata": {
    "collapsed": false
   },
   "outputs": [
    {
     "data": {
      "text/html": [
       "<div>\n",
       "<table border=\"1\" class=\"dataframe\">\n",
       "  <thead>\n",
       "    <tr style=\"text-align: right;\">\n",
       "      <th></th>\n",
       "      <th>0</th>\n",
       "      <th>1</th>\n",
       "      <th>2</th>\n",
       "      <th>3</th>\n",
       "    </tr>\n",
       "  </thead>\n",
       "  <tbody>\n",
       "    <tr>\n",
       "      <th>0</th>\n",
       "      <td>189</td>\n",
       "      <td>1</td>\n",
       "      <td>24</td>\n",
       "      <td>0</td>\n",
       "    </tr>\n",
       "    <tr>\n",
       "      <th>1</th>\n",
       "      <td>0</td>\n",
       "      <td>4</td>\n",
       "      <td>0</td>\n",
       "      <td>0</td>\n",
       "    </tr>\n",
       "    <tr>\n",
       "      <th>2</th>\n",
       "      <td>25</td>\n",
       "      <td>0</td>\n",
       "      <td>9</td>\n",
       "      <td>0</td>\n",
       "    </tr>\n",
       "    <tr>\n",
       "      <th>3</th>\n",
       "      <td>0</td>\n",
       "      <td>0</td>\n",
       "      <td>1</td>\n",
       "      <td>0</td>\n",
       "    </tr>\n",
       "  </tbody>\n",
       "</table>\n",
       "</div>"
      ],
      "text/plain": [
       "     0  1   2  3\n",
       "0  189  1  24  0\n",
       "1    0  4   0  0\n",
       "2   25  0   9  0\n",
       "3    0  0   1  0"
      ]
     },
     "execution_count": 783,
     "metadata": {},
     "output_type": "execute_result"
    }
   ],
   "source": [
    "transmat_neighbor"
   ]
  },
  {
   "cell_type": "markdown",
   "metadata": {},
   "source": [
    "Normalise each row to obtain transition probabilities."
   ]
  },
  {
   "cell_type": "code",
   "execution_count": 784,
   "metadata": {
    "collapsed": true
   },
   "outputs": [],
   "source": [
    "transmat_neighbor = normalise_transmat(transmat_neighbor)"
   ]
  },
  {
   "cell_type": "code",
   "execution_count": 785,
   "metadata": {
    "collapsed": false
   },
   "outputs": [
    {
     "data": {
      "text/html": [
       "<div>\n",
       "<table border=\"1\" class=\"dataframe\">\n",
       "  <thead>\n",
       "    <tr style=\"text-align: right;\">\n",
       "      <th></th>\n",
       "      <th>0</th>\n",
       "      <th>1</th>\n",
       "      <th>2</th>\n",
       "      <th>3</th>\n",
       "    </tr>\n",
       "  </thead>\n",
       "  <tbody>\n",
       "    <tr>\n",
       "      <th>0</th>\n",
       "      <td>0.880819</td>\n",
       "      <td>0.005587</td>\n",
       "      <td>0.112663</td>\n",
       "      <td>0.000931</td>\n",
       "    </tr>\n",
       "    <tr>\n",
       "      <th>1</th>\n",
       "      <td>0.111111</td>\n",
       "      <td>0.666667</td>\n",
       "      <td>0.111111</td>\n",
       "      <td>0.111111</td>\n",
       "    </tr>\n",
       "    <tr>\n",
       "      <th>2</th>\n",
       "      <td>0.650485</td>\n",
       "      <td>0.043689</td>\n",
       "      <td>0.262136</td>\n",
       "      <td>0.043689</td>\n",
       "    </tr>\n",
       "    <tr>\n",
       "      <th>3</th>\n",
       "      <td>0.111111</td>\n",
       "      <td>0.111111</td>\n",
       "      <td>0.666667</td>\n",
       "      <td>0.111111</td>\n",
       "    </tr>\n",
       "  </tbody>\n",
       "</table>\n",
       "</div>"
      ],
      "text/plain": [
       "          0         1         2         3\n",
       "0  0.880819  0.005587  0.112663  0.000931\n",
       "1  0.111111  0.666667  0.111111  0.111111\n",
       "2  0.650485  0.043689  0.262136  0.043689\n",
       "3  0.111111  0.111111  0.666667  0.111111"
      ]
     },
     "execution_count": 785,
     "metadata": {},
     "output_type": "execute_result"
    }
   ],
   "source": [
    "transmat_neighbor"
   ]
  },
  {
   "cell_type": "markdown",
   "metadata": {},
   "source": [
    "Combine the above steps."
   ]
  },
  {
   "cell_type": "code",
   "execution_count": 786,
   "metadata": {
    "collapsed": true
   },
   "outputs": [],
   "source": [
    "def gen_transmat_neighbor(seqid_set, seq_all, poi_info, nclusters=4):\n",
    "    #poi_train = seq_all[seq_all['seqID'].isin(seqid_set)]['poiID'].unique().tolist()\n",
    "    poi_train = poi_info.index.tolist()\n",
    "    #poi_train.sort()\n",
    "    X = poi_info.loc[poi_train, ['poiLon', 'poiLat']]\n",
    "    kmeans = KMeans(n_clusters=nclusters)\n",
    "    kmeans.fit(X)\n",
    "    clusters = kmeans.predict(X)\n",
    "    poi_clusters = pd.DataFrame(data=clusters, index=poi_train)\n",
    "    poi_clusters.index.name = 'poiID'\n",
    "    poi_clusters.rename(columns={0:'clusterID'}, inplace=True)\n",
    "    transmat_neighbor = pd.DataFrame(data=np.zeros((nclusters, nclusters), dtype=np.float), \\\n",
    "                                     columns=np.arange(nclusters), index=np.arange(nclusters))\n",
    "    for seqid in seqid_set:\n",
    "        seq = extract_seq(seqid, seq_all)\n",
    "        assert(len(seq) > 2)\n",
    "        for pi in range(len(seq)-1):\n",
    "            p1 = seq[pi]\n",
    "            p2 = seq[pi+1]\n",
    "            c1 = poi_clusters.loc[p1, 'clusterID']\n",
    "            c2 = poi_clusters.loc[p2, 'clusterID']\n",
    "            transmat_neighbor.loc[c1, c2] += 1\n",
    "    return normalise_transmat(transmat_neighbor), poi_clusters"
   ]
  },
  {
   "cell_type": "markdown",
   "metadata": {},
   "source": [
    "<a id='sec3.7'></a>"
   ]
  },
  {
   "cell_type": "markdown",
   "metadata": {},
   "source": [
    "## 3.7 Transition Matrix between POIs"
   ]
  },
  {
   "cell_type": "markdown",
   "metadata": {},
   "source": [
    "Approximate transition probabilities (matrix) between different POI features (vector) using the [Kronecker product](https://en.wikipedia.org/wiki/Kronecker_product) of individual transition matrix corresponding to each feature, i.e., POI category, POI popularity (discritized), POI average visit duration (discritized) and POI neighborhoods (clusters)."
   ]
  },
  {
   "cell_type": "code",
   "execution_count": 787,
   "metadata": {
    "collapsed": false
   },
   "outputs": [],
   "source": [
    "#from scipy.linalg import kron\n",
    "transmat_value = transmat_cat.values\n",
    "for transmat in [transmat_pop, transmat_visit, transmat_duration, transmat_neighbor]:\n",
    "    transmat_value = kron(transmat_value, transmat.values)"
   ]
  },
  {
   "cell_type": "markdown",
   "metadata": {},
   "source": [
    "Index of Kronecker product."
   ]
  },
  {
   "cell_type": "code",
   "execution_count": 788,
   "metadata": {
    "collapsed": true
   },
   "outputs": [],
   "source": [
    "transmat_ix = list(itertools.product(transmat_cat.index, transmat_pop.index, transmat_visit.index, \\\n",
    "                                     transmat_duration.index, transmat_neighbor.index))"
   ]
  },
  {
   "cell_type": "code",
   "execution_count": 789,
   "metadata": {
    "collapsed": false
   },
   "outputs": [],
   "source": [
    "transmat_feature = pd.DataFrame(data=transmat_value, index=transmat_ix, columns=transmat_ix)\n",
    "transmat_feature.index.name = '(poiTheme, popularity, avgDuration, clusterID)'\n",
    "#transmat_feature.head()"
   ]
  },
  {
   "cell_type": "code",
   "execution_count": 790,
   "metadata": {
    "collapsed": false
   },
   "outputs": [
    {
     "name": "stdout",
     "output_type": "stream",
     "text": [
      "(6, 6)\n",
      "(2, 2)\n",
      "(4, 4)\n",
      "(3, 3)\n",
      "(4, 4)\n",
      "(576, 576)\n"
     ]
    }
   ],
   "source": [
    "print(transmat_cat.shape)\n",
    "print(transmat_pop.shape)\n",
    "print(transmat_visit.shape)\n",
    "print(transmat_duration.shape)\n",
    "print(transmat_neighbor.shape)\n",
    "print(transmat_feature.shape)"
   ]
  },
  {
   "cell_type": "code",
   "execution_count": 791,
   "metadata": {
    "collapsed": false
   },
   "outputs": [
    {
     "data": {
      "text/html": [
       "<div>\n",
       "<table border=\"1\" class=\"dataframe\">\n",
       "  <thead>\n",
       "    <tr style=\"text-align: right;\">\n",
       "      <th></th>\n",
       "      <th>(Amusement, 1, 1, 1, 0)</th>\n",
       "      <th>(Amusement, 1, 1, 1, 1)</th>\n",
       "      <th>(Amusement, 1, 1, 1, 2)</th>\n",
       "      <th>(Amusement, 1, 1, 1, 3)</th>\n",
       "      <th>(Amusement, 1, 1, 2, 0)</th>\n",
       "      <th>(Amusement, 1, 1, 2, 1)</th>\n",
       "      <th>(Amusement, 1, 1, 2, 2)</th>\n",
       "      <th>(Amusement, 1, 1, 2, 3)</th>\n",
       "      <th>(Amusement, 1, 1, 3, 0)</th>\n",
       "      <th>(Amusement, 1, 1, 3, 1)</th>\n",
       "      <th>...</th>\n",
       "      <th>(Structure, 2, 4, 1, 2)</th>\n",
       "      <th>(Structure, 2, 4, 1, 3)</th>\n",
       "      <th>(Structure, 2, 4, 2, 0)</th>\n",
       "      <th>(Structure, 2, 4, 2, 1)</th>\n",
       "      <th>(Structure, 2, 4, 2, 2)</th>\n",
       "      <th>(Structure, 2, 4, 2, 3)</th>\n",
       "      <th>(Structure, 2, 4, 3, 0)</th>\n",
       "      <th>(Structure, 2, 4, 3, 1)</th>\n",
       "      <th>(Structure, 2, 4, 3, 2)</th>\n",
       "      <th>(Structure, 2, 4, 3, 3)</th>\n",
       "    </tr>\n",
       "    <tr>\n",
       "      <th>(poiTheme, popularity, avgDuration, clusterID)</th>\n",
       "      <th></th>\n",
       "      <th></th>\n",
       "      <th></th>\n",
       "      <th></th>\n",
       "      <th></th>\n",
       "      <th></th>\n",
       "      <th></th>\n",
       "      <th></th>\n",
       "      <th></th>\n",
       "      <th></th>\n",
       "      <th></th>\n",
       "      <th></th>\n",
       "      <th></th>\n",
       "      <th></th>\n",
       "      <th></th>\n",
       "      <th></th>\n",
       "      <th></th>\n",
       "      <th></th>\n",
       "      <th></th>\n",
       "      <th></th>\n",
       "      <th></th>\n",
       "    </tr>\n",
       "  </thead>\n",
       "  <tbody>\n",
       "    <tr>\n",
       "      <th>(Amusement, 1, 1, 1, 0)</th>\n",
       "      <td>0.005154</td>\n",
       "      <td>0.000033</td>\n",
       "      <td>0.000659</td>\n",
       "      <td>5.448435e-06</td>\n",
       "      <td>0.005154</td>\n",
       "      <td>0.000033</td>\n",
       "      <td>0.000659</td>\n",
       "      <td>0.000005</td>\n",
       "      <td>0.005154</td>\n",
       "      <td>0.000033</td>\n",
       "      <td>...</td>\n",
       "      <td>0.000072</td>\n",
       "      <td>5.967334e-07</td>\n",
       "      <td>0.000565</td>\n",
       "      <td>0.000004</td>\n",
       "      <td>0.000072</td>\n",
       "      <td>5.967334e-07</td>\n",
       "      <td>0.000565</td>\n",
       "      <td>0.000004</td>\n",
       "      <td>0.000072</td>\n",
       "      <td>5.967334e-07</td>\n",
       "    </tr>\n",
       "    <tr>\n",
       "      <th>(Amusement, 1, 1, 1, 1)</th>\n",
       "      <td>0.000650</td>\n",
       "      <td>0.003901</td>\n",
       "      <td>0.000650</td>\n",
       "      <td>6.501800e-04</td>\n",
       "      <td>0.000650</td>\n",
       "      <td>0.003901</td>\n",
       "      <td>0.000650</td>\n",
       "      <td>0.000650</td>\n",
       "      <td>0.000650</td>\n",
       "      <td>0.003901</td>\n",
       "      <td>...</td>\n",
       "      <td>0.000071</td>\n",
       "      <td>7.121019e-05</td>\n",
       "      <td>0.000071</td>\n",
       "      <td>0.000427</td>\n",
       "      <td>0.000071</td>\n",
       "      <td>7.121019e-05</td>\n",
       "      <td>0.000071</td>\n",
       "      <td>0.000427</td>\n",
       "      <td>0.000071</td>\n",
       "      <td>7.121019e-05</td>\n",
       "    </tr>\n",
       "    <tr>\n",
       "      <th>(Amusement, 1, 1, 1, 2)</th>\n",
       "      <td>0.003806</td>\n",
       "      <td>0.000256</td>\n",
       "      <td>0.001534</td>\n",
       "      <td>2.556533e-04</td>\n",
       "      <td>0.003806</td>\n",
       "      <td>0.000256</td>\n",
       "      <td>0.001534</td>\n",
       "      <td>0.000256</td>\n",
       "      <td>0.003806</td>\n",
       "      <td>0.000256</td>\n",
       "      <td>...</td>\n",
       "      <td>0.000168</td>\n",
       "      <td>2.800012e-05</td>\n",
       "      <td>0.000417</td>\n",
       "      <td>0.000028</td>\n",
       "      <td>0.000168</td>\n",
       "      <td>2.800012e-05</td>\n",
       "      <td>0.000417</td>\n",
       "      <td>0.000028</td>\n",
       "      <td>0.000168</td>\n",
       "      <td>2.800012e-05</td>\n",
       "    </tr>\n",
       "    <tr>\n",
       "      <th>(Amusement, 1, 1, 1, 3)</th>\n",
       "      <td>0.000650</td>\n",
       "      <td>0.000650</td>\n",
       "      <td>0.003901</td>\n",
       "      <td>6.501800e-04</td>\n",
       "      <td>0.000650</td>\n",
       "      <td>0.000650</td>\n",
       "      <td>0.003901</td>\n",
       "      <td>0.000650</td>\n",
       "      <td>0.000650</td>\n",
       "      <td>0.000650</td>\n",
       "      <td>...</td>\n",
       "      <td>0.000427</td>\n",
       "      <td>7.121019e-05</td>\n",
       "      <td>0.000071</td>\n",
       "      <td>0.000071</td>\n",
       "      <td>0.000427</td>\n",
       "      <td>7.121019e-05</td>\n",
       "      <td>0.000071</td>\n",
       "      <td>0.000071</td>\n",
       "      <td>0.000427</td>\n",
       "      <td>7.121019e-05</td>\n",
       "    </tr>\n",
       "    <tr>\n",
       "      <th>(Amusement, 1, 1, 2, 0)</th>\n",
       "      <td>0.000469</td>\n",
       "      <td>0.000003</td>\n",
       "      <td>0.000060</td>\n",
       "      <td>4.953123e-07</td>\n",
       "      <td>0.002811</td>\n",
       "      <td>0.000018</td>\n",
       "      <td>0.000360</td>\n",
       "      <td>0.000003</td>\n",
       "      <td>0.012183</td>\n",
       "      <td>0.000077</td>\n",
       "      <td>...</td>\n",
       "      <td>0.000007</td>\n",
       "      <td>5.424849e-08</td>\n",
       "      <td>0.000308</td>\n",
       "      <td>0.000002</td>\n",
       "      <td>0.000039</td>\n",
       "      <td>3.254909e-07</td>\n",
       "      <td>0.001334</td>\n",
       "      <td>0.000008</td>\n",
       "      <td>0.000171</td>\n",
       "      <td>1.410461e-06</td>\n",
       "    </tr>\n",
       "  </tbody>\n",
       "</table>\n",
       "<p>5 rows × 576 columns</p>\n",
       "</div>"
      ],
      "text/plain": [
       "                                                (Amusement, 1, 1, 1, 0)  \\\n",
       "(poiTheme, popularity, avgDuration, clusterID)                            \n",
       "(Amusement, 1, 1, 1, 0)                                        0.005154   \n",
       "(Amusement, 1, 1, 1, 1)                                        0.000650   \n",
       "(Amusement, 1, 1, 1, 2)                                        0.003806   \n",
       "(Amusement, 1, 1, 1, 3)                                        0.000650   \n",
       "(Amusement, 1, 1, 2, 0)                                        0.000469   \n",
       "\n",
       "                                                (Amusement, 1, 1, 1, 1)  \\\n",
       "(poiTheme, popularity, avgDuration, clusterID)                            \n",
       "(Amusement, 1, 1, 1, 0)                                        0.000033   \n",
       "(Amusement, 1, 1, 1, 1)                                        0.003901   \n",
       "(Amusement, 1, 1, 1, 2)                                        0.000256   \n",
       "(Amusement, 1, 1, 1, 3)                                        0.000650   \n",
       "(Amusement, 1, 1, 2, 0)                                        0.000003   \n",
       "\n",
       "                                                (Amusement, 1, 1, 1, 2)  \\\n",
       "(poiTheme, popularity, avgDuration, clusterID)                            \n",
       "(Amusement, 1, 1, 1, 0)                                        0.000659   \n",
       "(Amusement, 1, 1, 1, 1)                                        0.000650   \n",
       "(Amusement, 1, 1, 1, 2)                                        0.001534   \n",
       "(Amusement, 1, 1, 1, 3)                                        0.003901   \n",
       "(Amusement, 1, 1, 2, 0)                                        0.000060   \n",
       "\n",
       "                                                (Amusement, 1, 1, 1, 3)  \\\n",
       "(poiTheme, popularity, avgDuration, clusterID)                            \n",
       "(Amusement, 1, 1, 1, 0)                                    5.448435e-06   \n",
       "(Amusement, 1, 1, 1, 1)                                    6.501800e-04   \n",
       "(Amusement, 1, 1, 1, 2)                                    2.556533e-04   \n",
       "(Amusement, 1, 1, 1, 3)                                    6.501800e-04   \n",
       "(Amusement, 1, 1, 2, 0)                                    4.953123e-07   \n",
       "\n",
       "                                                (Amusement, 1, 1, 2, 0)  \\\n",
       "(poiTheme, popularity, avgDuration, clusterID)                            \n",
       "(Amusement, 1, 1, 1, 0)                                        0.005154   \n",
       "(Amusement, 1, 1, 1, 1)                                        0.000650   \n",
       "(Amusement, 1, 1, 1, 2)                                        0.003806   \n",
       "(Amusement, 1, 1, 1, 3)                                        0.000650   \n",
       "(Amusement, 1, 1, 2, 0)                                        0.002811   \n",
       "\n",
       "                                                (Amusement, 1, 1, 2, 1)  \\\n",
       "(poiTheme, popularity, avgDuration, clusterID)                            \n",
       "(Amusement, 1, 1, 1, 0)                                        0.000033   \n",
       "(Amusement, 1, 1, 1, 1)                                        0.003901   \n",
       "(Amusement, 1, 1, 1, 2)                                        0.000256   \n",
       "(Amusement, 1, 1, 1, 3)                                        0.000650   \n",
       "(Amusement, 1, 1, 2, 0)                                        0.000018   \n",
       "\n",
       "                                                (Amusement, 1, 1, 2, 2)  \\\n",
       "(poiTheme, popularity, avgDuration, clusterID)                            \n",
       "(Amusement, 1, 1, 1, 0)                                        0.000659   \n",
       "(Amusement, 1, 1, 1, 1)                                        0.000650   \n",
       "(Amusement, 1, 1, 1, 2)                                        0.001534   \n",
       "(Amusement, 1, 1, 1, 3)                                        0.003901   \n",
       "(Amusement, 1, 1, 2, 0)                                        0.000360   \n",
       "\n",
       "                                                (Amusement, 1, 1, 2, 3)  \\\n",
       "(poiTheme, popularity, avgDuration, clusterID)                            \n",
       "(Amusement, 1, 1, 1, 0)                                        0.000005   \n",
       "(Amusement, 1, 1, 1, 1)                                        0.000650   \n",
       "(Amusement, 1, 1, 1, 2)                                        0.000256   \n",
       "(Amusement, 1, 1, 1, 3)                                        0.000650   \n",
       "(Amusement, 1, 1, 2, 0)                                        0.000003   \n",
       "\n",
       "                                                (Amusement, 1, 1, 3, 0)  \\\n",
       "(poiTheme, popularity, avgDuration, clusterID)                            \n",
       "(Amusement, 1, 1, 1, 0)                                        0.005154   \n",
       "(Amusement, 1, 1, 1, 1)                                        0.000650   \n",
       "(Amusement, 1, 1, 1, 2)                                        0.003806   \n",
       "(Amusement, 1, 1, 1, 3)                                        0.000650   \n",
       "(Amusement, 1, 1, 2, 0)                                        0.012183   \n",
       "\n",
       "                                                (Amusement, 1, 1, 3, 1)  \\\n",
       "(poiTheme, popularity, avgDuration, clusterID)                            \n",
       "(Amusement, 1, 1, 1, 0)                                        0.000033   \n",
       "(Amusement, 1, 1, 1, 1)                                        0.003901   \n",
       "(Amusement, 1, 1, 1, 2)                                        0.000256   \n",
       "(Amusement, 1, 1, 1, 3)                                        0.000650   \n",
       "(Amusement, 1, 1, 2, 0)                                        0.000077   \n",
       "\n",
       "                                                         ...             \\\n",
       "(poiTheme, popularity, avgDuration, clusterID)           ...              \n",
       "(Amusement, 1, 1, 1, 0)                                  ...              \n",
       "(Amusement, 1, 1, 1, 1)                                  ...              \n",
       "(Amusement, 1, 1, 1, 2)                                  ...              \n",
       "(Amusement, 1, 1, 1, 3)                                  ...              \n",
       "(Amusement, 1, 1, 2, 0)                                  ...              \n",
       "\n",
       "                                                (Structure, 2, 4, 1, 2)  \\\n",
       "(poiTheme, popularity, avgDuration, clusterID)                            \n",
       "(Amusement, 1, 1, 1, 0)                                        0.000072   \n",
       "(Amusement, 1, 1, 1, 1)                                        0.000071   \n",
       "(Amusement, 1, 1, 1, 2)                                        0.000168   \n",
       "(Amusement, 1, 1, 1, 3)                                        0.000427   \n",
       "(Amusement, 1, 1, 2, 0)                                        0.000007   \n",
       "\n",
       "                                                (Structure, 2, 4, 1, 3)  \\\n",
       "(poiTheme, popularity, avgDuration, clusterID)                            \n",
       "(Amusement, 1, 1, 1, 0)                                    5.967334e-07   \n",
       "(Amusement, 1, 1, 1, 1)                                    7.121019e-05   \n",
       "(Amusement, 1, 1, 1, 2)                                    2.800012e-05   \n",
       "(Amusement, 1, 1, 1, 3)                                    7.121019e-05   \n",
       "(Amusement, 1, 1, 2, 0)                                    5.424849e-08   \n",
       "\n",
       "                                                (Structure, 2, 4, 2, 0)  \\\n",
       "(poiTheme, popularity, avgDuration, clusterID)                            \n",
       "(Amusement, 1, 1, 1, 0)                                        0.000565   \n",
       "(Amusement, 1, 1, 1, 1)                                        0.000071   \n",
       "(Amusement, 1, 1, 1, 2)                                        0.000417   \n",
       "(Amusement, 1, 1, 1, 3)                                        0.000071   \n",
       "(Amusement, 1, 1, 2, 0)                                        0.000308   \n",
       "\n",
       "                                                (Structure, 2, 4, 2, 1)  \\\n",
       "(poiTheme, popularity, avgDuration, clusterID)                            \n",
       "(Amusement, 1, 1, 1, 0)                                        0.000004   \n",
       "(Amusement, 1, 1, 1, 1)                                        0.000427   \n",
       "(Amusement, 1, 1, 1, 2)                                        0.000028   \n",
       "(Amusement, 1, 1, 1, 3)                                        0.000071   \n",
       "(Amusement, 1, 1, 2, 0)                                        0.000002   \n",
       "\n",
       "                                                (Structure, 2, 4, 2, 2)  \\\n",
       "(poiTheme, popularity, avgDuration, clusterID)                            \n",
       "(Amusement, 1, 1, 1, 0)                                        0.000072   \n",
       "(Amusement, 1, 1, 1, 1)                                        0.000071   \n",
       "(Amusement, 1, 1, 1, 2)                                        0.000168   \n",
       "(Amusement, 1, 1, 1, 3)                                        0.000427   \n",
       "(Amusement, 1, 1, 2, 0)                                        0.000039   \n",
       "\n",
       "                                                (Structure, 2, 4, 2, 3)  \\\n",
       "(poiTheme, popularity, avgDuration, clusterID)                            \n",
       "(Amusement, 1, 1, 1, 0)                                    5.967334e-07   \n",
       "(Amusement, 1, 1, 1, 1)                                    7.121019e-05   \n",
       "(Amusement, 1, 1, 1, 2)                                    2.800012e-05   \n",
       "(Amusement, 1, 1, 1, 3)                                    7.121019e-05   \n",
       "(Amusement, 1, 1, 2, 0)                                    3.254909e-07   \n",
       "\n",
       "                                                (Structure, 2, 4, 3, 0)  \\\n",
       "(poiTheme, popularity, avgDuration, clusterID)                            \n",
       "(Amusement, 1, 1, 1, 0)                                        0.000565   \n",
       "(Amusement, 1, 1, 1, 1)                                        0.000071   \n",
       "(Amusement, 1, 1, 1, 2)                                        0.000417   \n",
       "(Amusement, 1, 1, 1, 3)                                        0.000071   \n",
       "(Amusement, 1, 1, 2, 0)                                        0.001334   \n",
       "\n",
       "                                                (Structure, 2, 4, 3, 1)  \\\n",
       "(poiTheme, popularity, avgDuration, clusterID)                            \n",
       "(Amusement, 1, 1, 1, 0)                                        0.000004   \n",
       "(Amusement, 1, 1, 1, 1)                                        0.000427   \n",
       "(Amusement, 1, 1, 1, 2)                                        0.000028   \n",
       "(Amusement, 1, 1, 1, 3)                                        0.000071   \n",
       "(Amusement, 1, 1, 2, 0)                                        0.000008   \n",
       "\n",
       "                                                (Structure, 2, 4, 3, 2)  \\\n",
       "(poiTheme, popularity, avgDuration, clusterID)                            \n",
       "(Amusement, 1, 1, 1, 0)                                        0.000072   \n",
       "(Amusement, 1, 1, 1, 1)                                        0.000071   \n",
       "(Amusement, 1, 1, 1, 2)                                        0.000168   \n",
       "(Amusement, 1, 1, 1, 3)                                        0.000427   \n",
       "(Amusement, 1, 1, 2, 0)                                        0.000171   \n",
       "\n",
       "                                                (Structure, 2, 4, 3, 3)  \n",
       "(poiTheme, popularity, avgDuration, clusterID)                           \n",
       "(Amusement, 1, 1, 1, 0)                                    5.967334e-07  \n",
       "(Amusement, 1, 1, 1, 1)                                    7.121019e-05  \n",
       "(Amusement, 1, 1, 1, 2)                                    2.800012e-05  \n",
       "(Amusement, 1, 1, 1, 3)                                    7.121019e-05  \n",
       "(Amusement, 1, 1, 2, 0)                                    1.410461e-06  \n",
       "\n",
       "[5 rows x 576 columns]"
      ]
     },
     "execution_count": 791,
     "metadata": {},
     "output_type": "execute_result"
    }
   ],
   "source": [
    "transmat_feature.head()"
   ]
  },
  {
   "cell_type": "markdown",
   "metadata": {},
   "source": [
    "The result of [Kronecker product](https://en.wikipedia.org/wiki/Kronecker_product) should be normalised to obtain transition probabilities."
   ]
  },
  {
   "cell_type": "code",
   "execution_count": 792,
   "metadata": {
    "collapsed": false
   },
   "outputs": [
    {
     "data": {
      "text/html": [
       "<div>\n",
       "<table border=\"1\" class=\"dataframe\">\n",
       "  <thead>\n",
       "    <tr style=\"text-align: right;\">\n",
       "      <th></th>\n",
       "      <th>(Amusement, 1, 1, 1, 0)</th>\n",
       "      <th>(Amusement, 1, 1, 1, 1)</th>\n",
       "      <th>(Amusement, 1, 1, 1, 2)</th>\n",
       "      <th>(Amusement, 1, 1, 1, 3)</th>\n",
       "      <th>(Amusement, 1, 1, 2, 0)</th>\n",
       "      <th>(Amusement, 1, 1, 2, 1)</th>\n",
       "      <th>(Amusement, 1, 1, 2, 2)</th>\n",
       "      <th>(Amusement, 1, 1, 2, 3)</th>\n",
       "      <th>(Amusement, 1, 1, 3, 0)</th>\n",
       "      <th>(Amusement, 1, 1, 3, 1)</th>\n",
       "      <th>...</th>\n",
       "      <th>(Structure, 2, 4, 1, 2)</th>\n",
       "      <th>(Structure, 2, 4, 1, 3)</th>\n",
       "      <th>(Structure, 2, 4, 2, 0)</th>\n",
       "      <th>(Structure, 2, 4, 2, 1)</th>\n",
       "      <th>(Structure, 2, 4, 2, 2)</th>\n",
       "      <th>(Structure, 2, 4, 2, 3)</th>\n",
       "      <th>(Structure, 2, 4, 3, 0)</th>\n",
       "      <th>(Structure, 2, 4, 3, 1)</th>\n",
       "      <th>(Structure, 2, 4, 3, 2)</th>\n",
       "      <th>(Structure, 2, 4, 3, 3)</th>\n",
       "    </tr>\n",
       "    <tr>\n",
       "      <th>(poiTheme, popularity, avgDuration, clusterID)</th>\n",
       "      <th></th>\n",
       "      <th></th>\n",
       "      <th></th>\n",
       "      <th></th>\n",
       "      <th></th>\n",
       "      <th></th>\n",
       "      <th></th>\n",
       "      <th></th>\n",
       "      <th></th>\n",
       "      <th></th>\n",
       "      <th></th>\n",
       "      <th></th>\n",
       "      <th></th>\n",
       "      <th></th>\n",
       "      <th></th>\n",
       "      <th></th>\n",
       "      <th></th>\n",
       "      <th></th>\n",
       "      <th></th>\n",
       "      <th></th>\n",
       "      <th></th>\n",
       "    </tr>\n",
       "  </thead>\n",
       "  <tbody>\n",
       "    <tr>\n",
       "      <th>(Amusement, 1, 1, 1, 0)</th>\n",
       "      <td>-5.267939</td>\n",
       "      <td>-10.328423</td>\n",
       "      <td>-7.324392</td>\n",
       "      <td>-12.120182</td>\n",
       "      <td>-5.267939</td>\n",
       "      <td>-10.328423</td>\n",
       "      <td>-7.324392</td>\n",
       "      <td>-12.120182</td>\n",
       "      <td>-5.267939</td>\n",
       "      <td>-10.328423</td>\n",
       "      <td>...</td>\n",
       "      <td>-9.536005</td>\n",
       "      <td>-14.331795</td>\n",
       "      <td>-7.479553</td>\n",
       "      <td>-12.540036</td>\n",
       "      <td>-9.536005</td>\n",
       "      <td>-14.331795</td>\n",
       "      <td>-7.479553</td>\n",
       "      <td>-12.540036</td>\n",
       "      <td>-9.536005</td>\n",
       "      <td>-14.331795</td>\n",
       "    </tr>\n",
       "    <tr>\n",
       "      <th>(Amusement, 1, 1, 1, 1)</th>\n",
       "      <td>-7.338261</td>\n",
       "      <td>-5.546502</td>\n",
       "      <td>-7.338261</td>\n",
       "      <td>-7.338261</td>\n",
       "      <td>-7.338261</td>\n",
       "      <td>-5.546502</td>\n",
       "      <td>-7.338261</td>\n",
       "      <td>-7.338261</td>\n",
       "      <td>-7.338261</td>\n",
       "      <td>-5.546502</td>\n",
       "      <td>...</td>\n",
       "      <td>-9.549875</td>\n",
       "      <td>-9.549875</td>\n",
       "      <td>-9.549875</td>\n",
       "      <td>-7.758115</td>\n",
       "      <td>-9.549875</td>\n",
       "      <td>-9.549875</td>\n",
       "      <td>-9.549875</td>\n",
       "      <td>-7.758115</td>\n",
       "      <td>-9.549875</td>\n",
       "      <td>-9.549875</td>\n",
       "    </tr>\n",
       "    <tr>\n",
       "      <th>(Amusement, 1, 1, 1, 2)</th>\n",
       "      <td>-5.571073</td>\n",
       "      <td>-8.271688</td>\n",
       "      <td>-6.479929</td>\n",
       "      <td>-8.271688</td>\n",
       "      <td>-5.571073</td>\n",
       "      <td>-8.271688</td>\n",
       "      <td>-6.479929</td>\n",
       "      <td>-8.271688</td>\n",
       "      <td>-5.571073</td>\n",
       "      <td>-8.271688</td>\n",
       "      <td>...</td>\n",
       "      <td>-8.691542</td>\n",
       "      <td>-10.483302</td>\n",
       "      <td>-7.782686</td>\n",
       "      <td>-10.483302</td>\n",
       "      <td>-8.691542</td>\n",
       "      <td>-10.483302</td>\n",
       "      <td>-7.782686</td>\n",
       "      <td>-10.483302</td>\n",
       "      <td>-8.691542</td>\n",
       "      <td>-10.483302</td>\n",
       "    </tr>\n",
       "    <tr>\n",
       "      <th>(Amusement, 1, 1, 1, 3)</th>\n",
       "      <td>-7.338261</td>\n",
       "      <td>-7.338261</td>\n",
       "      <td>-5.546502</td>\n",
       "      <td>-7.338261</td>\n",
       "      <td>-7.338261</td>\n",
       "      <td>-7.338261</td>\n",
       "      <td>-5.546502</td>\n",
       "      <td>-7.338261</td>\n",
       "      <td>-7.338261</td>\n",
       "      <td>-7.338261</td>\n",
       "      <td>...</td>\n",
       "      <td>-7.758115</td>\n",
       "      <td>-9.549875</td>\n",
       "      <td>-9.549875</td>\n",
       "      <td>-9.549875</td>\n",
       "      <td>-7.758115</td>\n",
       "      <td>-9.549875</td>\n",
       "      <td>-9.549875</td>\n",
       "      <td>-9.549875</td>\n",
       "      <td>-7.758115</td>\n",
       "      <td>-9.549875</td>\n",
       "    </tr>\n",
       "    <tr>\n",
       "      <th>(Amusement, 1, 1, 2, 0)</th>\n",
       "      <td>-7.665835</td>\n",
       "      <td>-12.726318</td>\n",
       "      <td>-9.722287</td>\n",
       "      <td>-14.518077</td>\n",
       "      <td>-5.874075</td>\n",
       "      <td>-10.934558</td>\n",
       "      <td>-7.930527</td>\n",
       "      <td>-12.726318</td>\n",
       "      <td>-4.407738</td>\n",
       "      <td>-9.468221</td>\n",
       "      <td>...</td>\n",
       "      <td>-11.933900</td>\n",
       "      <td>-16.729691</td>\n",
       "      <td>-8.085689</td>\n",
       "      <td>-13.146172</td>\n",
       "      <td>-10.142141</td>\n",
       "      <td>-14.937931</td>\n",
       "      <td>-6.619352</td>\n",
       "      <td>-11.679835</td>\n",
       "      <td>-8.675804</td>\n",
       "      <td>-13.471594</td>\n",
       "    </tr>\n",
       "  </tbody>\n",
       "</table>\n",
       "<p>5 rows × 576 columns</p>\n",
       "</div>"
      ],
      "text/plain": [
       "                                                (Amusement, 1, 1, 1, 0)  \\\n",
       "(poiTheme, popularity, avgDuration, clusterID)                            \n",
       "(Amusement, 1, 1, 1, 0)                                       -5.267939   \n",
       "(Amusement, 1, 1, 1, 1)                                       -7.338261   \n",
       "(Amusement, 1, 1, 1, 2)                                       -5.571073   \n",
       "(Amusement, 1, 1, 1, 3)                                       -7.338261   \n",
       "(Amusement, 1, 1, 2, 0)                                       -7.665835   \n",
       "\n",
       "                                                (Amusement, 1, 1, 1, 1)  \\\n",
       "(poiTheme, popularity, avgDuration, clusterID)                            \n",
       "(Amusement, 1, 1, 1, 0)                                      -10.328423   \n",
       "(Amusement, 1, 1, 1, 1)                                       -5.546502   \n",
       "(Amusement, 1, 1, 1, 2)                                       -8.271688   \n",
       "(Amusement, 1, 1, 1, 3)                                       -7.338261   \n",
       "(Amusement, 1, 1, 2, 0)                                      -12.726318   \n",
       "\n",
       "                                                (Amusement, 1, 1, 1, 2)  \\\n",
       "(poiTheme, popularity, avgDuration, clusterID)                            \n",
       "(Amusement, 1, 1, 1, 0)                                       -7.324392   \n",
       "(Amusement, 1, 1, 1, 1)                                       -7.338261   \n",
       "(Amusement, 1, 1, 1, 2)                                       -6.479929   \n",
       "(Amusement, 1, 1, 1, 3)                                       -5.546502   \n",
       "(Amusement, 1, 1, 2, 0)                                       -9.722287   \n",
       "\n",
       "                                                (Amusement, 1, 1, 1, 3)  \\\n",
       "(poiTheme, popularity, avgDuration, clusterID)                            \n",
       "(Amusement, 1, 1, 1, 0)                                      -12.120182   \n",
       "(Amusement, 1, 1, 1, 1)                                       -7.338261   \n",
       "(Amusement, 1, 1, 1, 2)                                       -8.271688   \n",
       "(Amusement, 1, 1, 1, 3)                                       -7.338261   \n",
       "(Amusement, 1, 1, 2, 0)                                      -14.518077   \n",
       "\n",
       "                                                (Amusement, 1, 1, 2, 0)  \\\n",
       "(poiTheme, popularity, avgDuration, clusterID)                            \n",
       "(Amusement, 1, 1, 1, 0)                                       -5.267939   \n",
       "(Amusement, 1, 1, 1, 1)                                       -7.338261   \n",
       "(Amusement, 1, 1, 1, 2)                                       -5.571073   \n",
       "(Amusement, 1, 1, 1, 3)                                       -7.338261   \n",
       "(Amusement, 1, 1, 2, 0)                                       -5.874075   \n",
       "\n",
       "                                                (Amusement, 1, 1, 2, 1)  \\\n",
       "(poiTheme, popularity, avgDuration, clusterID)                            \n",
       "(Amusement, 1, 1, 1, 0)                                      -10.328423   \n",
       "(Amusement, 1, 1, 1, 1)                                       -5.546502   \n",
       "(Amusement, 1, 1, 1, 2)                                       -8.271688   \n",
       "(Amusement, 1, 1, 1, 3)                                       -7.338261   \n",
       "(Amusement, 1, 1, 2, 0)                                      -10.934558   \n",
       "\n",
       "                                                (Amusement, 1, 1, 2, 2)  \\\n",
       "(poiTheme, popularity, avgDuration, clusterID)                            \n",
       "(Amusement, 1, 1, 1, 0)                                       -7.324392   \n",
       "(Amusement, 1, 1, 1, 1)                                       -7.338261   \n",
       "(Amusement, 1, 1, 1, 2)                                       -6.479929   \n",
       "(Amusement, 1, 1, 1, 3)                                       -5.546502   \n",
       "(Amusement, 1, 1, 2, 0)                                       -7.930527   \n",
       "\n",
       "                                                (Amusement, 1, 1, 2, 3)  \\\n",
       "(poiTheme, popularity, avgDuration, clusterID)                            \n",
       "(Amusement, 1, 1, 1, 0)                                      -12.120182   \n",
       "(Amusement, 1, 1, 1, 1)                                       -7.338261   \n",
       "(Amusement, 1, 1, 1, 2)                                       -8.271688   \n",
       "(Amusement, 1, 1, 1, 3)                                       -7.338261   \n",
       "(Amusement, 1, 1, 2, 0)                                      -12.726318   \n",
       "\n",
       "                                                (Amusement, 1, 1, 3, 0)  \\\n",
       "(poiTheme, popularity, avgDuration, clusterID)                            \n",
       "(Amusement, 1, 1, 1, 0)                                       -5.267939   \n",
       "(Amusement, 1, 1, 1, 1)                                       -7.338261   \n",
       "(Amusement, 1, 1, 1, 2)                                       -5.571073   \n",
       "(Amusement, 1, 1, 1, 3)                                       -7.338261   \n",
       "(Amusement, 1, 1, 2, 0)                                       -4.407738   \n",
       "\n",
       "                                                (Amusement, 1, 1, 3, 1)  \\\n",
       "(poiTheme, popularity, avgDuration, clusterID)                            \n",
       "(Amusement, 1, 1, 1, 0)                                      -10.328423   \n",
       "(Amusement, 1, 1, 1, 1)                                       -5.546502   \n",
       "(Amusement, 1, 1, 1, 2)                                       -8.271688   \n",
       "(Amusement, 1, 1, 1, 3)                                       -7.338261   \n",
       "(Amusement, 1, 1, 2, 0)                                       -9.468221   \n",
       "\n",
       "                                                         ...             \\\n",
       "(poiTheme, popularity, avgDuration, clusterID)           ...              \n",
       "(Amusement, 1, 1, 1, 0)                                  ...              \n",
       "(Amusement, 1, 1, 1, 1)                                  ...              \n",
       "(Amusement, 1, 1, 1, 2)                                  ...              \n",
       "(Amusement, 1, 1, 1, 3)                                  ...              \n",
       "(Amusement, 1, 1, 2, 0)                                  ...              \n",
       "\n",
       "                                                (Structure, 2, 4, 1, 2)  \\\n",
       "(poiTheme, popularity, avgDuration, clusterID)                            \n",
       "(Amusement, 1, 1, 1, 0)                                       -9.536005   \n",
       "(Amusement, 1, 1, 1, 1)                                       -9.549875   \n",
       "(Amusement, 1, 1, 1, 2)                                       -8.691542   \n",
       "(Amusement, 1, 1, 1, 3)                                       -7.758115   \n",
       "(Amusement, 1, 1, 2, 0)                                      -11.933900   \n",
       "\n",
       "                                                (Structure, 2, 4, 1, 3)  \\\n",
       "(poiTheme, popularity, avgDuration, clusterID)                            \n",
       "(Amusement, 1, 1, 1, 0)                                      -14.331795   \n",
       "(Amusement, 1, 1, 1, 1)                                       -9.549875   \n",
       "(Amusement, 1, 1, 1, 2)                                      -10.483302   \n",
       "(Amusement, 1, 1, 1, 3)                                       -9.549875   \n",
       "(Amusement, 1, 1, 2, 0)                                      -16.729691   \n",
       "\n",
       "                                                (Structure, 2, 4, 2, 0)  \\\n",
       "(poiTheme, popularity, avgDuration, clusterID)                            \n",
       "(Amusement, 1, 1, 1, 0)                                       -7.479553   \n",
       "(Amusement, 1, 1, 1, 1)                                       -9.549875   \n",
       "(Amusement, 1, 1, 1, 2)                                       -7.782686   \n",
       "(Amusement, 1, 1, 1, 3)                                       -9.549875   \n",
       "(Amusement, 1, 1, 2, 0)                                       -8.085689   \n",
       "\n",
       "                                                (Structure, 2, 4, 2, 1)  \\\n",
       "(poiTheme, popularity, avgDuration, clusterID)                            \n",
       "(Amusement, 1, 1, 1, 0)                                      -12.540036   \n",
       "(Amusement, 1, 1, 1, 1)                                       -7.758115   \n",
       "(Amusement, 1, 1, 1, 2)                                      -10.483302   \n",
       "(Amusement, 1, 1, 1, 3)                                       -9.549875   \n",
       "(Amusement, 1, 1, 2, 0)                                      -13.146172   \n",
       "\n",
       "                                                (Structure, 2, 4, 2, 2)  \\\n",
       "(poiTheme, popularity, avgDuration, clusterID)                            \n",
       "(Amusement, 1, 1, 1, 0)                                       -9.536005   \n",
       "(Amusement, 1, 1, 1, 1)                                       -9.549875   \n",
       "(Amusement, 1, 1, 1, 2)                                       -8.691542   \n",
       "(Amusement, 1, 1, 1, 3)                                       -7.758115   \n",
       "(Amusement, 1, 1, 2, 0)                                      -10.142141   \n",
       "\n",
       "                                                (Structure, 2, 4, 2, 3)  \\\n",
       "(poiTheme, popularity, avgDuration, clusterID)                            \n",
       "(Amusement, 1, 1, 1, 0)                                      -14.331795   \n",
       "(Amusement, 1, 1, 1, 1)                                       -9.549875   \n",
       "(Amusement, 1, 1, 1, 2)                                      -10.483302   \n",
       "(Amusement, 1, 1, 1, 3)                                       -9.549875   \n",
       "(Amusement, 1, 1, 2, 0)                                      -14.937931   \n",
       "\n",
       "                                                (Structure, 2, 4, 3, 0)  \\\n",
       "(poiTheme, popularity, avgDuration, clusterID)                            \n",
       "(Amusement, 1, 1, 1, 0)                                       -7.479553   \n",
       "(Amusement, 1, 1, 1, 1)                                       -9.549875   \n",
       "(Amusement, 1, 1, 1, 2)                                       -7.782686   \n",
       "(Amusement, 1, 1, 1, 3)                                       -9.549875   \n",
       "(Amusement, 1, 1, 2, 0)                                       -6.619352   \n",
       "\n",
       "                                                (Structure, 2, 4, 3, 1)  \\\n",
       "(poiTheme, popularity, avgDuration, clusterID)                            \n",
       "(Amusement, 1, 1, 1, 0)                                      -12.540036   \n",
       "(Amusement, 1, 1, 1, 1)                                       -7.758115   \n",
       "(Amusement, 1, 1, 1, 2)                                      -10.483302   \n",
       "(Amusement, 1, 1, 1, 3)                                       -9.549875   \n",
       "(Amusement, 1, 1, 2, 0)                                      -11.679835   \n",
       "\n",
       "                                                (Structure, 2, 4, 3, 2)  \\\n",
       "(poiTheme, popularity, avgDuration, clusterID)                            \n",
       "(Amusement, 1, 1, 1, 0)                                       -9.536005   \n",
       "(Amusement, 1, 1, 1, 1)                                       -9.549875   \n",
       "(Amusement, 1, 1, 1, 2)                                       -8.691542   \n",
       "(Amusement, 1, 1, 1, 3)                                       -7.758115   \n",
       "(Amusement, 1, 1, 2, 0)                                       -8.675804   \n",
       "\n",
       "                                                (Structure, 2, 4, 3, 3)  \n",
       "(poiTheme, popularity, avgDuration, clusterID)                           \n",
       "(Amusement, 1, 1, 1, 0)                                      -14.331795  \n",
       "(Amusement, 1, 1, 1, 1)                                       -9.549875  \n",
       "(Amusement, 1, 1, 1, 2)                                      -10.483302  \n",
       "(Amusement, 1, 1, 1, 3)                                       -9.549875  \n",
       "(Amusement, 1, 1, 2, 0)                                      -13.471594  \n",
       "\n",
       "[5 rows x 576 columns]"
      ]
     },
     "execution_count": 792,
     "metadata": {},
     "output_type": "execute_result"
    }
   ],
   "source": [
    "#from scipy.misc import logsumexp\n",
    "logtransmat_feature = np.log(transmat_feature)\n",
    "for row in range(logtransmat_feature.shape[0]):\n",
    "    logtransmat_feature.iloc[row] -= logsumexp(logtransmat_feature.iloc[row])\n",
    "logtransmat_feature.head()"
   ]
  },
  {
   "cell_type": "code",
   "execution_count": 793,
   "metadata": {
    "collapsed": false
   },
   "outputs": [
    {
     "data": {
      "text/plain": [
       "(Cultural, 2, 1, 3, 0)    -1.676156\n",
       "(Beach, 2, 1, 3, 0)       -1.700473\n",
       "(Amusement, 2, 1, 3, 0)   -1.799637\n",
       "(Structure, 2, 1, 3, 0)   -1.867527\n",
       "(Sport, 2, 1, 3, 0)       -1.927470\n",
       "(Cultural, 2, 1, 3, 1)    -1.954718\n",
       "(Cultural, 2, 1, 3, 2)    -1.954718\n",
       "(Cultural, 2, 3, 3, 0)    -1.977537\n",
       "(Beach, 2, 1, 3, 1)       -1.979036\n",
       "(Beach, 2, 1, 3, 2)       -1.979036\n",
       "dtype: float64"
      ]
     },
     "execution_count": 793,
     "metadata": {},
     "output_type": "execute_result"
    }
   ],
   "source": [
    "logtransmat_feature.max().sort_values(ascending=False).head(10)"
   ]
  },
  {
   "cell_type": "code",
   "execution_count": 794,
   "metadata": {
    "collapsed": false
   },
   "outputs": [
    {
     "data": {
      "text/plain": [
       "<matplotlib.axes._subplots.AxesSubplot at 0x7fcb9dd41358>"
      ]
     },
     "execution_count": 794,
     "metadata": {},
     "output_type": "execute_result"
    },
    {
     "data": {
      "image/png": "[encoded data removed]",
      "text/plain": [
       "<matplotlib.figure.Figure at 0x7fcb9dd6e978>"
      ]
     },
     "metadata": {},
     "output_type": "display_data"
    }
   ],
   "source": [
    "plt.figure(figsize=[13, 10])\n",
    "sns.heatmap(np.exp(logtransmat_feature), xticklabels=False, yticklabels=False)"
   ]
  },
  {
   "cell_type": "markdown",
   "metadata": {},
   "source": [
    "Deal with features without corresponding POIs and feature with more than one corresponding POIs. (*Before Normalisation*)\n",
    "- For features without corresponding POIs, just remove the rows and columns from the matrix obtained by Kronecker product.\n",
    "- For different POIs with the exact same feature, \n",
    "  - Let POIs with the same feature as a POI group,\n",
    "  - Then the incoming and outgoing transition value of this POI group should be divided uniformly among\n",
    "    the group members, \n",
    "  - **EXCEPT** the transition value of the self-loop of the POI group, \n",
    "     which should be divided uniformly among in-groups transitions excluding self-loops of individual POIs.\n",
    "  - **Concretely**, for a POI group with $n$ POIs, \n",
    "    1. If the incoming/outgoing transition value of POI group (**NOT** the self-loop of POI group) is $m$,   \n",
    "       then the corresponding incoming/outgoing transition value for each group member is $\\frac{m}{n}$.\n",
    "    1. If the transition value of self-loop of the POI group is $m'$,   \n",
    "       then transition value of self-loop of individual POIs should be $0$,  \n",
    "       and other in-group transitions with value $\\frac{m'}{n^2 - n}$   \n",
    "       as the total number of in-group transitions without counting POI self-loops is $n^2 - n$."
   ]
  },
  {
   "cell_type": "code",
   "execution_count": 795,
   "metadata": {
    "collapsed": true
   },
   "outputs": [],
   "source": [
    "feature_names = ['poiTheme', 'popularity', 'nVisit', 'avgDuration', 'clusterID']\n",
    "poi_features = pd.DataFrame(data=np.zeros((len(poi_train), len(feature_names))), \\\n",
    "                            columns=feature_names, index=poi_train)\n",
    "poi_features.index.name = 'poiID'"
   ]
  },
  {
   "cell_type": "code",
   "execution_count": 796,
   "metadata": {
    "collapsed": true
   },
   "outputs": [],
   "source": [
    "poi_features['poiTheme'] = poi_info_t.loc[poi_train, 'poiTheme']\n",
    "poi_features['popularity'] = np.digitize(poi_info_t.loc[poi_train, 'popularity'], logbins_pop)\n",
    "poi_features['nVisit'] = np.digitize(poi_info_t.loc[poi_train, 'nVisit'], logbins_visit)\n",
    "poi_features['avgDuration'] = np.digitize(poi_info_t.loc[poi_train, 'avgDuration(sec)'], logbins_duration)\n",
    "poi_features['clusterID'] = poi_clusters.loc[poi_train, 'clusterID']"
   ]
  },
  {
   "cell_type": "code",
   "execution_count": 797,
   "metadata": {
    "collapsed": false,
    "scrolled": true
   },
   "outputs": [],
   "source": [
    "#poi_features.duplicated()"
   ]
  },
  {
   "cell_type": "code",
   "execution_count": 798,
   "metadata": {
    "collapsed": false
   },
   "outputs": [
    {
     "data": {
      "text/html": [
       "<div>\n",
       "<table border=\"1\" class=\"dataframe\">\n",
       "  <thead>\n",
       "    <tr style=\"text-align: right;\">\n",
       "      <th></th>\n",
       "      <th>(Amusement, 1, 1, 1, 1)</th>\n",
       "    </tr>\n",
       "    <tr>\n",
       "      <th>(poiTheme, popularity, avgDuration, clusterID)</th>\n",
       "      <th></th>\n",
       "    </tr>\n",
       "  </thead>\n",
       "  <tbody>\n",
       "    <tr>\n",
       "      <th>(Amusement, 1, 1, 1, 0)</th>\n",
       "      <td>0.000033</td>\n",
       "    </tr>\n",
       "  </tbody>\n",
       "</table>\n",
       "</div>"
      ],
      "text/plain": [
       "                                                (Amusement, 1, 1, 1, 1)\n",
       "(poiTheme, popularity, avgDuration, clusterID)                         \n",
       "(Amusement, 1, 1, 1, 0)                                        0.000033"
      ]
     },
     "execution_count": 798,
     "metadata": {},
     "output_type": "execute_result"
    }
   ],
   "source": [
    "ix = transmat_feature.index[0]; ix1 = transmat_feature.index[1]\n",
    "# simply use df.loc[tuple,:] will trigger an error as pandas treat the tuple as multiindex\n",
    "# see https://github.com/pydata/pandas/issues/7548\n",
    "#transmat_feature.loc[(ix,),]   # OK\n",
    "#transmat_feature.loc[(ix,),:]  # OK\n",
    "transmat_feature.loc[(ix,), (ix1,)] "
   ]
  },
  {
   "cell_type": "code",
   "execution_count": 799,
   "metadata": {
    "collapsed": true
   },
   "outputs": [],
   "source": [
    "poi_logtransmat = pd.DataFrame(data=np.zeros((len(poi_train), len(poi_train)), dtype=np.float), \\\n",
    "                               columns=poi_train, index=poi_train)"
   ]
  },
  {
   "cell_type": "markdown",
   "metadata": {},
   "source": [
    "Copy transition values between features with corresponding POIs."
   ]
  },
  {
   "cell_type": "code",
   "execution_count": 800,
   "metadata": {
    "collapsed": false
   },
   "outputs": [],
   "source": [
    "for p1 in poi_logtransmat.index:\n",
    "    rix = tuple(poi_features.loc[p1])\n",
    "    for p2 in poi_logtransmat.columns:\n",
    "        cix = tuple(poi_features.loc[p2])\n",
    "        value_ = transmat_feature.loc[(rix,), (cix,)]\n",
    "        #print(value_.values)\n",
    "        poi_logtransmat.loc[p1, p2] = value_.values[0, 0]"
   ]
  },
  {
   "cell_type": "code",
   "execution_count": 801,
   "metadata": {
    "collapsed": false
   },
   "outputs": [
    {
     "data": {
      "text/html": [
       "<div>\n",
       "<table border=\"1\" class=\"dataframe\">\n",
       "  <thead>\n",
       "    <tr style=\"text-align: right;\">\n",
       "      <th></th>\n",
       "      <th>1</th>\n",
       "      <th>2</th>\n",
       "      <th>3</th>\n",
       "      <th>4</th>\n",
       "      <th>6</th>\n",
       "      <th>7</th>\n",
       "      <th>8</th>\n",
       "      <th>11</th>\n",
       "      <th>13</th>\n",
       "      <th>14</th>\n",
       "      <th>...</th>\n",
       "      <th>20</th>\n",
       "      <th>21</th>\n",
       "      <th>22</th>\n",
       "      <th>23</th>\n",
       "      <th>24</th>\n",
       "      <th>25</th>\n",
       "      <th>27</th>\n",
       "      <th>28</th>\n",
       "      <th>29</th>\n",
       "      <th>30</th>\n",
       "    </tr>\n",
       "  </thead>\n",
       "  <tbody>\n",
       "    <tr>\n",
       "      <th>1</th>\n",
       "      <td>0.003641</td>\n",
       "      <td>0.000015</td>\n",
       "      <td>0.000466</td>\n",
       "      <td>0.041870</td>\n",
       "      <td>0.001785</td>\n",
       "      <td>0.013957</td>\n",
       "      <td>0.013957</td>\n",
       "      <td>0.000087</td>\n",
       "      <td>0.000155</td>\n",
       "      <td>1.756127e-06</td>\n",
       "      <td>...</td>\n",
       "      <td>4.276284e-06</td>\n",
       "      <td>0.037217</td>\n",
       "      <td>0.037217</td>\n",
       "      <td>0.027913</td>\n",
       "      <td>0.002427</td>\n",
       "      <td>0.000015</td>\n",
       "      <td>4.599381e-06</td>\n",
       "      <td>0.029774</td>\n",
       "      <td>0.000621</td>\n",
       "      <td>0.055826</td>\n",
       "    </tr>\n",
       "    <tr>\n",
       "      <th>2</th>\n",
       "      <td>0.000887</td>\n",
       "      <td>0.018624</td>\n",
       "      <td>0.000887</td>\n",
       "      <td>0.000340</td>\n",
       "      <td>0.000113</td>\n",
       "      <td>0.000113</td>\n",
       "      <td>0.000113</td>\n",
       "      <td>0.000006</td>\n",
       "      <td>0.000296</td>\n",
       "      <td>2.124551e-03</td>\n",
       "      <td>...</td>\n",
       "      <td>5.173419e-03</td>\n",
       "      <td>0.000567</td>\n",
       "      <td>0.000567</td>\n",
       "      <td>0.000227</td>\n",
       "      <td>0.000591</td>\n",
       "      <td>0.000029</td>\n",
       "      <td>4.598595e-05</td>\n",
       "      <td>0.000453</td>\n",
       "      <td>0.001182</td>\n",
       "      <td>0.000453</td>\n",
       "    </tr>\n",
       "    <tr>\n",
       "      <th>3</th>\n",
       "      <td>0.002689</td>\n",
       "      <td>0.000120</td>\n",
       "      <td>0.001084</td>\n",
       "      <td>0.030921</td>\n",
       "      <td>0.004154</td>\n",
       "      <td>0.010307</td>\n",
       "      <td>0.010307</td>\n",
       "      <td>0.000203</td>\n",
       "      <td>0.000361</td>\n",
       "      <td>1.373360e-05</td>\n",
       "      <td>...</td>\n",
       "      <td>2.006532e-04</td>\n",
       "      <td>0.027485</td>\n",
       "      <td>0.027485</td>\n",
       "      <td>0.020614</td>\n",
       "      <td>0.001793</td>\n",
       "      <td>0.000035</td>\n",
       "      <td>1.070150e-05</td>\n",
       "      <td>0.021988</td>\n",
       "      <td>0.001445</td>\n",
       "      <td>0.041228</td>\n",
       "    </tr>\n",
       "    <tr>\n",
       "      <th>4</th>\n",
       "      <td>0.001599</td>\n",
       "      <td>0.000002</td>\n",
       "      <td>0.000205</td>\n",
       "      <td>0.032059</td>\n",
       "      <td>0.001367</td>\n",
       "      <td>0.010686</td>\n",
       "      <td>0.010686</td>\n",
       "      <td>0.000067</td>\n",
       "      <td>0.000068</td>\n",
       "      <td>2.670525e-07</td>\n",
       "      <td>...</td>\n",
       "      <td>6.502901e-07</td>\n",
       "      <td>0.087179</td>\n",
       "      <td>0.087179</td>\n",
       "      <td>0.021373</td>\n",
       "      <td>0.001066</td>\n",
       "      <td>0.000007</td>\n",
       "      <td>6.994231e-07</td>\n",
       "      <td>0.069743</td>\n",
       "      <td>0.000273</td>\n",
       "      <td>0.042746</td>\n",
       "    </tr>\n",
       "    <tr>\n",
       "      <th>6</th>\n",
       "      <td>0.001155</td>\n",
       "      <td>0.000018</td>\n",
       "      <td>0.000465</td>\n",
       "      <td>0.023150</td>\n",
       "      <td>0.006997</td>\n",
       "      <td>0.017362</td>\n",
       "      <td>0.017362</td>\n",
       "      <td>0.000342</td>\n",
       "      <td>0.000349</td>\n",
       "      <td>1.203347e-06</td>\n",
       "      <td>...</td>\n",
       "      <td>3.356444e-05</td>\n",
       "      <td>0.070820</td>\n",
       "      <td>0.070820</td>\n",
       "      <td>0.020256</td>\n",
       "      <td>0.001011</td>\n",
       "      <td>0.000020</td>\n",
       "      <td>2.088454e-06</td>\n",
       "      <td>0.061377</td>\n",
       "      <td>0.000756</td>\n",
       "      <td>0.037618</td>\n",
       "    </tr>\n",
       "    <tr>\n",
       "      <th>7</th>\n",
       "      <td>0.001564</td>\n",
       "      <td>0.000002</td>\n",
       "      <td>0.000200</td>\n",
       "      <td>0.031347</td>\n",
       "      <td>0.003007</td>\n",
       "      <td>0.023510</td>\n",
       "      <td>0.023510</td>\n",
       "      <td>0.000147</td>\n",
       "      <td>0.000150</td>\n",
       "      <td>1.538731e-07</td>\n",
       "      <td>...</td>\n",
       "      <td>7.153191e-07</td>\n",
       "      <td>0.095897</td>\n",
       "      <td>0.095897</td>\n",
       "      <td>0.027429</td>\n",
       "      <td>0.001368</td>\n",
       "      <td>0.000009</td>\n",
       "      <td>8.975930e-07</td>\n",
       "      <td>0.083111</td>\n",
       "      <td>0.000325</td>\n",
       "      <td>0.050939</td>\n",
       "    </tr>\n",
       "    <tr>\n",
       "      <th>8</th>\n",
       "      <td>0.001564</td>\n",
       "      <td>0.000002</td>\n",
       "      <td>0.000200</td>\n",
       "      <td>0.031347</td>\n",
       "      <td>0.003007</td>\n",
       "      <td>0.023510</td>\n",
       "      <td>0.023510</td>\n",
       "      <td>0.000147</td>\n",
       "      <td>0.000150</td>\n",
       "      <td>1.538731e-07</td>\n",
       "      <td>...</td>\n",
       "      <td>7.153191e-07</td>\n",
       "      <td>0.095897</td>\n",
       "      <td>0.095897</td>\n",
       "      <td>0.027429</td>\n",
       "      <td>0.001368</td>\n",
       "      <td>0.000009</td>\n",
       "      <td>8.975930e-07</td>\n",
       "      <td>0.083111</td>\n",
       "      <td>0.000325</td>\n",
       "      <td>0.050939</td>\n",
       "    </tr>\n",
       "    <tr>\n",
       "      <th>11</th>\n",
       "      <td>0.000975</td>\n",
       "      <td>0.000015</td>\n",
       "      <td>0.000393</td>\n",
       "      <td>0.019536</td>\n",
       "      <td>0.005905</td>\n",
       "      <td>0.014652</td>\n",
       "      <td>0.014652</td>\n",
       "      <td>0.001363</td>\n",
       "      <td>0.000295</td>\n",
       "      <td>4.793499e-06</td>\n",
       "      <td>...</td>\n",
       "      <td>2.832522e-05</td>\n",
       "      <td>0.059765</td>\n",
       "      <td>0.059765</td>\n",
       "      <td>0.017094</td>\n",
       "      <td>0.000853</td>\n",
       "      <td>0.000079</td>\n",
       "      <td>3.050409e-06</td>\n",
       "      <td>0.051797</td>\n",
       "      <td>0.000638</td>\n",
       "      <td>0.031746</td>\n",
       "    </tr>\n",
       "    <tr>\n",
       "      <th>13</th>\n",
       "      <td>0.002629</td>\n",
       "      <td>0.000118</td>\n",
       "      <td>0.001059</td>\n",
       "      <td>0.030234</td>\n",
       "      <td>0.009138</td>\n",
       "      <td>0.022675</td>\n",
       "      <td>0.022675</td>\n",
       "      <td>0.000447</td>\n",
       "      <td>0.000795</td>\n",
       "      <td>7.913168e-06</td>\n",
       "      <td>...</td>\n",
       "      <td>2.207185e-04</td>\n",
       "      <td>0.030234</td>\n",
       "      <td>0.030234</td>\n",
       "      <td>0.026454</td>\n",
       "      <td>0.002300</td>\n",
       "      <td>0.000045</td>\n",
       "      <td>1.373360e-05</td>\n",
       "      <td>0.026202</td>\n",
       "      <td>0.001722</td>\n",
       "      <td>0.049129</td>\n",
       "    </tr>\n",
       "    <tr>\n",
       "      <th>14</th>\n",
       "      <td>0.001537</td>\n",
       "      <td>0.032273</td>\n",
       "      <td>0.001537</td>\n",
       "      <td>0.000589</td>\n",
       "      <td>0.000757</td>\n",
       "      <td>0.000757</td>\n",
       "      <td>0.000757</td>\n",
       "      <td>0.000175</td>\n",
       "      <td>0.001976</td>\n",
       "      <td>2.127862e-03</td>\n",
       "      <td>...</td>\n",
       "      <td>3.073578e-03</td>\n",
       "      <td>0.000337</td>\n",
       "      <td>0.000337</td>\n",
       "      <td>0.000084</td>\n",
       "      <td>0.000220</td>\n",
       "      <td>0.000051</td>\n",
       "      <td>2.955363e-05</td>\n",
       "      <td>0.000168</td>\n",
       "      <td>0.000439</td>\n",
       "      <td>0.000168</td>\n",
       "    </tr>\n",
       "    <tr>\n",
       "      <th>15</th>\n",
       "      <td>0.005154</td>\n",
       "      <td>0.000114</td>\n",
       "      <td>0.000659</td>\n",
       "      <td>0.001976</td>\n",
       "      <td>0.000325</td>\n",
       "      <td>0.002540</td>\n",
       "      <td>0.002540</td>\n",
       "      <td>0.000325</td>\n",
       "      <td>0.000848</td>\n",
       "      <td>3.269061e-05</td>\n",
       "      <td>...</td>\n",
       "      <td>1.089687e-05</td>\n",
       "      <td>0.001129</td>\n",
       "      <td>0.001129</td>\n",
       "      <td>0.000282</td>\n",
       "      <td>0.000736</td>\n",
       "      <td>0.000094</td>\n",
       "      <td>3.296303e-04</td>\n",
       "      <td>0.000565</td>\n",
       "      <td>0.000188</td>\n",
       "      <td>0.000565</td>\n",
       "    </tr>\n",
       "  </tbody>\n",
       "</table>\n",
       "<p>11 rows × 24 columns</p>\n",
       "</div>"
      ],
      "text/plain": [
       "          1         2         3         4         6         7         8   \\\n",
       "1   0.003641  0.000015  0.000466  0.041870  0.001785  0.013957  0.013957   \n",
       "2   0.000887  0.018624  0.000887  0.000340  0.000113  0.000113  0.000113   \n",
       "3   0.002689  0.000120  0.001084  0.030921  0.004154  0.010307  0.010307   \n",
       "4   0.001599  0.000002  0.000205  0.032059  0.001367  0.010686  0.010686   \n",
       "6   0.001155  0.000018  0.000465  0.023150  0.006997  0.017362  0.017362   \n",
       "7   0.001564  0.000002  0.000200  0.031347  0.003007  0.023510  0.023510   \n",
       "8   0.001564  0.000002  0.000200  0.031347  0.003007  0.023510  0.023510   \n",
       "11  0.000975  0.000015  0.000393  0.019536  0.005905  0.014652  0.014652   \n",
       "13  0.002629  0.000118  0.001059  0.030234  0.009138  0.022675  0.022675   \n",
       "14  0.001537  0.032273  0.001537  0.000589  0.000757  0.000757  0.000757   \n",
       "15  0.005154  0.000114  0.000659  0.001976  0.000325  0.002540  0.002540   \n",
       "\n",
       "          11        13            14    ...               20        21  \\\n",
       "1   0.000087  0.000155  1.756127e-06    ...     4.276284e-06  0.037217   \n",
       "2   0.000006  0.000296  2.124551e-03    ...     5.173419e-03  0.000567   \n",
       "3   0.000203  0.000361  1.373360e-05    ...     2.006532e-04  0.027485   \n",
       "4   0.000067  0.000068  2.670525e-07    ...     6.502901e-07  0.087179   \n",
       "6   0.000342  0.000349  1.203347e-06    ...     3.356444e-05  0.070820   \n",
       "7   0.000147  0.000150  1.538731e-07    ...     7.153191e-07  0.095897   \n",
       "8   0.000147  0.000150  1.538731e-07    ...     7.153191e-07  0.095897   \n",
       "11  0.001363  0.000295  4.793499e-06    ...     2.832522e-05  0.059765   \n",
       "13  0.000447  0.000795  7.913168e-06    ...     2.207185e-04  0.030234   \n",
       "14  0.000175  0.001976  2.127862e-03    ...     3.073578e-03  0.000337   \n",
       "15  0.000325  0.000848  3.269061e-05    ...     1.089687e-05  0.001129   \n",
       "\n",
       "          22        23        24        25            27        28        29  \\\n",
       "1   0.037217  0.027913  0.002427  0.000015  4.599381e-06  0.029774  0.000621   \n",
       "2   0.000567  0.000227  0.000591  0.000029  4.598595e-05  0.000453  0.001182   \n",
       "3   0.027485  0.020614  0.001793  0.000035  1.070150e-05  0.021988  0.001445   \n",
       "4   0.087179  0.021373  0.001066  0.000007  6.994231e-07  0.069743  0.000273   \n",
       "6   0.070820  0.020256  0.001011  0.000020  2.088454e-06  0.061377  0.000756   \n",
       "7   0.095897  0.027429  0.001368  0.000009  8.975930e-07  0.083111  0.000325   \n",
       "8   0.095897  0.027429  0.001368  0.000009  8.975930e-07  0.083111  0.000325   \n",
       "11  0.059765  0.017094  0.000853  0.000079  3.050409e-06  0.051797  0.000638   \n",
       "13  0.030234  0.026454  0.002300  0.000045  1.373360e-05  0.026202  0.001722   \n",
       "14  0.000337  0.000084  0.000220  0.000051  2.955363e-05  0.000168  0.000439   \n",
       "15  0.001129  0.000282  0.000736  0.000094  3.296303e-04  0.000565  0.000188   \n",
       "\n",
       "          30  \n",
       "1   0.055826  \n",
       "2   0.000453  \n",
       "3   0.041228  \n",
       "4   0.042746  \n",
       "6   0.037618  \n",
       "7   0.050939  \n",
       "8   0.050939  \n",
       "11  0.031746  \n",
       "13  0.049129  \n",
       "14  0.000168  \n",
       "15  0.000565  \n",
       "\n",
       "[11 rows x 24 columns]"
      ]
     },
     "execution_count": 801,
     "metadata": {},
     "output_type": "execute_result"
    }
   ],
   "source": [
    "poi_logtransmat.head(11)"
   ]
  },
  {
   "cell_type": "markdown",
   "metadata": {},
   "source": [
    "Deal with POI features that correspond to more than once POIs."
   ]
  },
  {
   "cell_type": "code",
   "execution_count": 802,
   "metadata": {
    "collapsed": false
   },
   "outputs": [
    {
     "data": {
      "text/plain": [
       "{('Amusement', 1, 1, 1, 0): [15],\n",
       " ('Amusement', 1, 1, 2, 1): [14],\n",
       " ('Amusement', 1, 1, 3, 1): [17],\n",
       " ('Amusement', 2, 4, 3, 0): [16],\n",
       " ('Beach', 1, 1, 1, 0): [19],\n",
       " ('Beach', 1, 1, 3, 3): [20],\n",
       " ('Beach', 2, 4, 3, 0): [21, 22],\n",
       " ('Cultural', 1, 2, 3, 2): [13],\n",
       " ('Cultural', 2, 3, 2, 2): [11],\n",
       " ('Cultural', 2, 3, 3, 0): [7, 8],\n",
       " ('Cultural', 2, 3, 3, 2): [6],\n",
       " ('Shopping', 1, 1, 1, 2): [27],\n",
       " ('Shopping', 1, 2, 2, 2): [25],\n",
       " ('Shopping', 1, 2, 3, 0): [24],\n",
       " ('Shopping', 2, 3, 3, 0): [23],\n",
       " ('Sport', 1, 1, 3, 1): [2],\n",
       " ('Sport', 1, 2, 3, 0): [1],\n",
       " ('Sport', 1, 2, 3, 2): [3],\n",
       " ('Sport', 2, 3, 3, 0): [4],\n",
       " ('Structure', 1, 2, 3, 2): [29],\n",
       " ('Structure', 2, 3, 3, 0): [30],\n",
       " ('Structure', 2, 4, 3, 0): [28]}"
      ]
     },
     "execution_count": 802,
     "metadata": {},
     "output_type": "execute_result"
    }
   ],
   "source": [
    "features_dup = dict()\n",
    "for poi in poi_features.index:\n",
    "    key = tuple(poi_features.loc[poi])\n",
    "    if key in features_dup:\n",
    "        features_dup[key].append(poi)\n",
    "    else:\n",
    "        features_dup[key] = [poi]\n",
    "features_dup"
   ]
  },
  {
   "cell_type": "code",
   "execution_count": 803,
   "metadata": {
    "collapsed": true
   },
   "outputs": [],
   "source": [
    "for feature in sorted(features_dup.keys()):\n",
    "    n = len(features_dup[feature])\n",
    "    if n > 1:\n",
    "        group = features_dup[feature]\n",
    "        m1 = poi_logtransmat.loc[group[0], group[0]]  # transition value of self-loop of POI group\n",
    "        \n",
    "        # divide incoming/outgoing transition value uniformly among group members\n",
    "        for poi in group:\n",
    "            poi_logtransmat.loc[poi] /= n\n",
    "            poi_logtransmat[poi] /= n\n",
    "            \n",
    "        # divide transition value of self-loop of POI group uniformly among in-group transitions,\n",
    "        # excluding self-loop of individual POI\n",
    "        m2 = m1 / (n*n - n)\n",
    "        for pair in itertools.permutations(group, 2):\n",
    "            poi_logtransmat.loc[pair[0], pair[1]] = m2        "
   ]
  },
  {
   "cell_type": "markdown",
   "metadata": {},
   "source": [
    "Make the transition value of all self-loops of POIs to $0$."
   ]
  },
  {
   "cell_type": "code",
   "execution_count": 804,
   "metadata": {
    "collapsed": true
   },
   "outputs": [],
   "source": [
    "for p1 in poi_logtransmat.index:\n",
    "    poi_logtransmat.loc[p1, p1] = 0"
   ]
  },
  {
   "cell_type": "code",
   "execution_count": 805,
   "metadata": {
    "collapsed": false
   },
   "outputs": [
    {
     "data": {
      "text/html": [
       "<div>\n",
       "<table border=\"1\" class=\"dataframe\">\n",
       "  <thead>\n",
       "    <tr style=\"text-align: right;\">\n",
       "      <th></th>\n",
       "      <th>1</th>\n",
       "      <th>2</th>\n",
       "      <th>3</th>\n",
       "      <th>4</th>\n",
       "      <th>6</th>\n",
       "      <th>7</th>\n",
       "      <th>8</th>\n",
       "      <th>11</th>\n",
       "      <th>13</th>\n",
       "      <th>14</th>\n",
       "      <th>...</th>\n",
       "      <th>20</th>\n",
       "      <th>21</th>\n",
       "      <th>22</th>\n",
       "      <th>23</th>\n",
       "      <th>24</th>\n",
       "      <th>25</th>\n",
       "      <th>27</th>\n",
       "      <th>28</th>\n",
       "      <th>29</th>\n",
       "      <th>30</th>\n",
       "    </tr>\n",
       "  </thead>\n",
       "  <tbody>\n",
       "    <tr>\n",
       "      <th>1</th>\n",
       "      <td>0.000000</td>\n",
       "      <td>0.000015</td>\n",
       "      <td>0.000466</td>\n",
       "      <td>0.041870</td>\n",
       "      <td>0.001785</td>\n",
       "      <td>0.006978</td>\n",
       "      <td>0.006978</td>\n",
       "      <td>0.000087</td>\n",
       "      <td>0.000155</td>\n",
       "      <td>1.756127e-06</td>\n",
       "      <td>...</td>\n",
       "      <td>4.276284e-06</td>\n",
       "      <td>0.018609</td>\n",
       "      <td>0.018609</td>\n",
       "      <td>0.027913</td>\n",
       "      <td>0.002427</td>\n",
       "      <td>0.000015</td>\n",
       "      <td>4.599381e-06</td>\n",
       "      <td>0.029774</td>\n",
       "      <td>0.000621</td>\n",
       "      <td>0.055826</td>\n",
       "    </tr>\n",
       "    <tr>\n",
       "      <th>2</th>\n",
       "      <td>0.000887</td>\n",
       "      <td>0.000000</td>\n",
       "      <td>0.000887</td>\n",
       "      <td>0.000340</td>\n",
       "      <td>0.000113</td>\n",
       "      <td>0.000057</td>\n",
       "      <td>0.000057</td>\n",
       "      <td>0.000006</td>\n",
       "      <td>0.000296</td>\n",
       "      <td>2.124551e-03</td>\n",
       "      <td>...</td>\n",
       "      <td>5.173419e-03</td>\n",
       "      <td>0.000283</td>\n",
       "      <td>0.000283</td>\n",
       "      <td>0.000227</td>\n",
       "      <td>0.000591</td>\n",
       "      <td>0.000029</td>\n",
       "      <td>4.598595e-05</td>\n",
       "      <td>0.000453</td>\n",
       "      <td>0.001182</td>\n",
       "      <td>0.000453</td>\n",
       "    </tr>\n",
       "    <tr>\n",
       "      <th>3</th>\n",
       "      <td>0.002689</td>\n",
       "      <td>0.000120</td>\n",
       "      <td>0.000000</td>\n",
       "      <td>0.030921</td>\n",
       "      <td>0.004154</td>\n",
       "      <td>0.005153</td>\n",
       "      <td>0.005153</td>\n",
       "      <td>0.000203</td>\n",
       "      <td>0.000361</td>\n",
       "      <td>1.373360e-05</td>\n",
       "      <td>...</td>\n",
       "      <td>2.006532e-04</td>\n",
       "      <td>0.013743</td>\n",
       "      <td>0.013743</td>\n",
       "      <td>0.020614</td>\n",
       "      <td>0.001793</td>\n",
       "      <td>0.000035</td>\n",
       "      <td>1.070150e-05</td>\n",
       "      <td>0.021988</td>\n",
       "      <td>0.001445</td>\n",
       "      <td>0.041228</td>\n",
       "    </tr>\n",
       "    <tr>\n",
       "      <th>4</th>\n",
       "      <td>0.001599</td>\n",
       "      <td>0.000002</td>\n",
       "      <td>0.000205</td>\n",
       "      <td>0.000000</td>\n",
       "      <td>0.001367</td>\n",
       "      <td>0.005343</td>\n",
       "      <td>0.005343</td>\n",
       "      <td>0.000067</td>\n",
       "      <td>0.000068</td>\n",
       "      <td>2.670525e-07</td>\n",
       "      <td>...</td>\n",
       "      <td>6.502901e-07</td>\n",
       "      <td>0.043590</td>\n",
       "      <td>0.043590</td>\n",
       "      <td>0.021373</td>\n",
       "      <td>0.001066</td>\n",
       "      <td>0.000007</td>\n",
       "      <td>6.994231e-07</td>\n",
       "      <td>0.069743</td>\n",
       "      <td>0.000273</td>\n",
       "      <td>0.042746</td>\n",
       "    </tr>\n",
       "    <tr>\n",
       "      <th>6</th>\n",
       "      <td>0.001155</td>\n",
       "      <td>0.000018</td>\n",
       "      <td>0.000465</td>\n",
       "      <td>0.023150</td>\n",
       "      <td>0.000000</td>\n",
       "      <td>0.008681</td>\n",
       "      <td>0.008681</td>\n",
       "      <td>0.000342</td>\n",
       "      <td>0.000349</td>\n",
       "      <td>1.203347e-06</td>\n",
       "      <td>...</td>\n",
       "      <td>3.356444e-05</td>\n",
       "      <td>0.035410</td>\n",
       "      <td>0.035410</td>\n",
       "      <td>0.020256</td>\n",
       "      <td>0.001011</td>\n",
       "      <td>0.000020</td>\n",
       "      <td>2.088454e-06</td>\n",
       "      <td>0.061377</td>\n",
       "      <td>0.000756</td>\n",
       "      <td>0.037618</td>\n",
       "    </tr>\n",
       "    <tr>\n",
       "      <th>7</th>\n",
       "      <td>0.000782</td>\n",
       "      <td>0.000001</td>\n",
       "      <td>0.000100</td>\n",
       "      <td>0.015673</td>\n",
       "      <td>0.001504</td>\n",
       "      <td>0.000000</td>\n",
       "      <td>0.011755</td>\n",
       "      <td>0.000074</td>\n",
       "      <td>0.000075</td>\n",
       "      <td>7.693654e-08</td>\n",
       "      <td>...</td>\n",
       "      <td>3.576595e-07</td>\n",
       "      <td>0.023974</td>\n",
       "      <td>0.023974</td>\n",
       "      <td>0.013714</td>\n",
       "      <td>0.000684</td>\n",
       "      <td>0.000004</td>\n",
       "      <td>4.487965e-07</td>\n",
       "      <td>0.041555</td>\n",
       "      <td>0.000163</td>\n",
       "      <td>0.025469</td>\n",
       "    </tr>\n",
       "    <tr>\n",
       "      <th>8</th>\n",
       "      <td>0.000782</td>\n",
       "      <td>0.000001</td>\n",
       "      <td>0.000100</td>\n",
       "      <td>0.015673</td>\n",
       "      <td>0.001504</td>\n",
       "      <td>0.011755</td>\n",
       "      <td>0.000000</td>\n",
       "      <td>0.000074</td>\n",
       "      <td>0.000075</td>\n",
       "      <td>7.693654e-08</td>\n",
       "      <td>...</td>\n",
       "      <td>3.576595e-07</td>\n",
       "      <td>0.023974</td>\n",
       "      <td>0.023974</td>\n",
       "      <td>0.013714</td>\n",
       "      <td>0.000684</td>\n",
       "      <td>0.000004</td>\n",
       "      <td>4.487965e-07</td>\n",
       "      <td>0.041555</td>\n",
       "      <td>0.000163</td>\n",
       "      <td>0.025469</td>\n",
       "    </tr>\n",
       "    <tr>\n",
       "      <th>11</th>\n",
       "      <td>0.000975</td>\n",
       "      <td>0.000015</td>\n",
       "      <td>0.000393</td>\n",
       "      <td>0.019536</td>\n",
       "      <td>0.005905</td>\n",
       "      <td>0.007326</td>\n",
       "      <td>0.007326</td>\n",
       "      <td>0.000000</td>\n",
       "      <td>0.000295</td>\n",
       "      <td>4.793499e-06</td>\n",
       "      <td>...</td>\n",
       "      <td>2.832522e-05</td>\n",
       "      <td>0.029883</td>\n",
       "      <td>0.029883</td>\n",
       "      <td>0.017094</td>\n",
       "      <td>0.000853</td>\n",
       "      <td>0.000079</td>\n",
       "      <td>3.050409e-06</td>\n",
       "      <td>0.051797</td>\n",
       "      <td>0.000638</td>\n",
       "      <td>0.031746</td>\n",
       "    </tr>\n",
       "    <tr>\n",
       "      <th>13</th>\n",
       "      <td>0.002629</td>\n",
       "      <td>0.000118</td>\n",
       "      <td>0.001059</td>\n",
       "      <td>0.030234</td>\n",
       "      <td>0.009138</td>\n",
       "      <td>0.011338</td>\n",
       "      <td>0.011338</td>\n",
       "      <td>0.000447</td>\n",
       "      <td>0.000000</td>\n",
       "      <td>7.913168e-06</td>\n",
       "      <td>...</td>\n",
       "      <td>2.207185e-04</td>\n",
       "      <td>0.015117</td>\n",
       "      <td>0.015117</td>\n",
       "      <td>0.026454</td>\n",
       "      <td>0.002300</td>\n",
       "      <td>0.000045</td>\n",
       "      <td>1.373360e-05</td>\n",
       "      <td>0.026202</td>\n",
       "      <td>0.001722</td>\n",
       "      <td>0.049129</td>\n",
       "    </tr>\n",
       "    <tr>\n",
       "      <th>14</th>\n",
       "      <td>0.001537</td>\n",
       "      <td>0.032273</td>\n",
       "      <td>0.001537</td>\n",
       "      <td>0.000589</td>\n",
       "      <td>0.000757</td>\n",
       "      <td>0.000379</td>\n",
       "      <td>0.000379</td>\n",
       "      <td>0.000175</td>\n",
       "      <td>0.001976</td>\n",
       "      <td>0.000000e+00</td>\n",
       "      <td>...</td>\n",
       "      <td>3.073578e-03</td>\n",
       "      <td>0.000168</td>\n",
       "      <td>0.000168</td>\n",
       "      <td>0.000084</td>\n",
       "      <td>0.000220</td>\n",
       "      <td>0.000051</td>\n",
       "      <td>2.955363e-05</td>\n",
       "      <td>0.000168</td>\n",
       "      <td>0.000439</td>\n",
       "      <td>0.000168</td>\n",
       "    </tr>\n",
       "    <tr>\n",
       "      <th>15</th>\n",
       "      <td>0.005154</td>\n",
       "      <td>0.000114</td>\n",
       "      <td>0.000659</td>\n",
       "      <td>0.001976</td>\n",
       "      <td>0.000325</td>\n",
       "      <td>0.001270</td>\n",
       "      <td>0.001270</td>\n",
       "      <td>0.000325</td>\n",
       "      <td>0.000848</td>\n",
       "      <td>3.269061e-05</td>\n",
       "      <td>...</td>\n",
       "      <td>1.089687e-05</td>\n",
       "      <td>0.000565</td>\n",
       "      <td>0.000565</td>\n",
       "      <td>0.000282</td>\n",
       "      <td>0.000736</td>\n",
       "      <td>0.000094</td>\n",
       "      <td>3.296303e-04</td>\n",
       "      <td>0.000565</td>\n",
       "      <td>0.000188</td>\n",
       "      <td>0.000565</td>\n",
       "    </tr>\n",
       "  </tbody>\n",
       "</table>\n",
       "<p>11 rows × 24 columns</p>\n",
       "</div>"
      ],
      "text/plain": [
       "          1         2         3         4         6         7         8   \\\n",
       "1   0.000000  0.000015  0.000466  0.041870  0.001785  0.006978  0.006978   \n",
       "2   0.000887  0.000000  0.000887  0.000340  0.000113  0.000057  0.000057   \n",
       "3   0.002689  0.000120  0.000000  0.030921  0.004154  0.005153  0.005153   \n",
       "4   0.001599  0.000002  0.000205  0.000000  0.001367  0.005343  0.005343   \n",
       "6   0.001155  0.000018  0.000465  0.023150  0.000000  0.008681  0.008681   \n",
       "7   0.000782  0.000001  0.000100  0.015673  0.001504  0.000000  0.011755   \n",
       "8   0.000782  0.000001  0.000100  0.015673  0.001504  0.011755  0.000000   \n",
       "11  0.000975  0.000015  0.000393  0.019536  0.005905  0.007326  0.007326   \n",
       "13  0.002629  0.000118  0.001059  0.030234  0.009138  0.011338  0.011338   \n",
       "14  0.001537  0.032273  0.001537  0.000589  0.000757  0.000379  0.000379   \n",
       "15  0.005154  0.000114  0.000659  0.001976  0.000325  0.001270  0.001270   \n",
       "\n",
       "          11        13            14    ...               20        21  \\\n",
       "1   0.000087  0.000155  1.756127e-06    ...     4.276284e-06  0.018609   \n",
       "2   0.000006  0.000296  2.124551e-03    ...     5.173419e-03  0.000283   \n",
       "3   0.000203  0.000361  1.373360e-05    ...     2.006532e-04  0.013743   \n",
       "4   0.000067  0.000068  2.670525e-07    ...     6.502901e-07  0.043590   \n",
       "6   0.000342  0.000349  1.203347e-06    ...     3.356444e-05  0.035410   \n",
       "7   0.000074  0.000075  7.693654e-08    ...     3.576595e-07  0.023974   \n",
       "8   0.000074  0.000075  7.693654e-08    ...     3.576595e-07  0.023974   \n",
       "11  0.000000  0.000295  4.793499e-06    ...     2.832522e-05  0.029883   \n",
       "13  0.000447  0.000000  7.913168e-06    ...     2.207185e-04  0.015117   \n",
       "14  0.000175  0.001976  0.000000e+00    ...     3.073578e-03  0.000168   \n",
       "15  0.000325  0.000848  3.269061e-05    ...     1.089687e-05  0.000565   \n",
       "\n",
       "          22        23        24        25            27        28        29  \\\n",
       "1   0.018609  0.027913  0.002427  0.000015  4.599381e-06  0.029774  0.000621   \n",
       "2   0.000283  0.000227  0.000591  0.000029  4.598595e-05  0.000453  0.001182   \n",
       "3   0.013743  0.020614  0.001793  0.000035  1.070150e-05  0.021988  0.001445   \n",
       "4   0.043590  0.021373  0.001066  0.000007  6.994231e-07  0.069743  0.000273   \n",
       "6   0.035410  0.020256  0.001011  0.000020  2.088454e-06  0.061377  0.000756   \n",
       "7   0.023974  0.013714  0.000684  0.000004  4.487965e-07  0.041555  0.000163   \n",
       "8   0.023974  0.013714  0.000684  0.000004  4.487965e-07  0.041555  0.000163   \n",
       "11  0.029883  0.017094  0.000853  0.000079  3.050409e-06  0.051797  0.000638   \n",
       "13  0.015117  0.026454  0.002300  0.000045  1.373360e-05  0.026202  0.001722   \n",
       "14  0.000168  0.000084  0.000220  0.000051  2.955363e-05  0.000168  0.000439   \n",
       "15  0.000565  0.000282  0.000736  0.000094  3.296303e-04  0.000565  0.000188   \n",
       "\n",
       "          30  \n",
       "1   0.055826  \n",
       "2   0.000453  \n",
       "3   0.041228  \n",
       "4   0.042746  \n",
       "6   0.037618  \n",
       "7   0.025469  \n",
       "8   0.025469  \n",
       "11  0.031746  \n",
       "13  0.049129  \n",
       "14  0.000168  \n",
       "15  0.000565  \n",
       "\n",
       "[11 rows x 24 columns]"
      ]
     },
     "execution_count": 805,
     "metadata": {},
     "output_type": "execute_result"
    }
   ],
   "source": [
    "poi_logtransmat.head(11)"
   ]
  },
  {
   "cell_type": "markdown",
   "metadata": {},
   "source": [
    "Normalise and compute log probability."
   ]
  },
  {
   "cell_type": "code",
   "execution_count": 806,
   "metadata": {
    "collapsed": true
   },
   "outputs": [],
   "source": [
    "for p1 in poi_logtransmat.index:\n",
    "    rowsum = poi_logtransmat.loc[p1].sum()\n",
    "    assert(rowsum > 0)\n",
    "    logrowsum = np.log10(rowsum)\n",
    "    for p2 in poi_logtransmat.columns:\n",
    "        if p1 == p2:\n",
    "            poi_logtransmat.loc[p1, p2] = -np.inf  # deal with log(0) explicitly\n",
    "        else:\n",
    "            poi_logtransmat.loc[p1, p2] = np.log10(poi_logtransmat.loc[p1, p2]) - logrowsum"
   ]
  },
  {
   "cell_type": "code",
   "execution_count": 807,
   "metadata": {
    "collapsed": false
   },
   "outputs": [
    {
     "data": {
      "text/html": [
       "<div>\n",
       "<table border=\"1\" class=\"dataframe\">\n",
       "  <thead>\n",
       "    <tr style=\"text-align: right;\">\n",
       "      <th></th>\n",
       "      <th>1</th>\n",
       "      <th>2</th>\n",
       "      <th>3</th>\n",
       "      <th>4</th>\n",
       "      <th>6</th>\n",
       "      <th>7</th>\n",
       "      <th>8</th>\n",
       "      <th>11</th>\n",
       "      <th>13</th>\n",
       "      <th>14</th>\n",
       "      <th>...</th>\n",
       "      <th>20</th>\n",
       "      <th>21</th>\n",
       "      <th>22</th>\n",
       "      <th>23</th>\n",
       "      <th>24</th>\n",
       "      <th>25</th>\n",
       "      <th>27</th>\n",
       "      <th>28</th>\n",
       "      <th>29</th>\n",
       "      <th>30</th>\n",
       "    </tr>\n",
       "  </thead>\n",
       "  <tbody>\n",
       "    <tr>\n",
       "      <th>1</th>\n",
       "      <td>-inf</td>\n",
       "      <td>-4.235048</td>\n",
       "      <td>-2.754323</td>\n",
       "      <td>-0.800519</td>\n",
       "      <td>-2.170746</td>\n",
       "      <td>-1.578671</td>\n",
       "      <td>-1.578671</td>\n",
       "      <td>-3.481536</td>\n",
       "      <td>-3.231444</td>\n",
       "      <td>-5.177861</td>\n",
       "      <td>...</td>\n",
       "      <td>-4.791351</td>\n",
       "      <td>-1.152702</td>\n",
       "      <td>-1.152702</td>\n",
       "      <td>-0.976611</td>\n",
       "      <td>-2.037308</td>\n",
       "      <td>-4.241204</td>\n",
       "      <td>-4.759718</td>\n",
       "      <td>-0.948582</td>\n",
       "      <td>-2.629384</td>\n",
       "      <td>-0.675581</td>\n",
       "    </tr>\n",
       "    <tr>\n",
       "      <th>2</th>\n",
       "      <td>-1.815671</td>\n",
       "      <td>-inf</td>\n",
       "      <td>-1.815671</td>\n",
       "      <td>-2.232094</td>\n",
       "      <td>-2.709216</td>\n",
       "      <td>-3.010246</td>\n",
       "      <td>-3.010246</td>\n",
       "      <td>-4.020005</td>\n",
       "      <td>-2.292792</td>\n",
       "      <td>-1.436265</td>\n",
       "      <td>...</td>\n",
       "      <td>-1.049754</td>\n",
       "      <td>-2.311276</td>\n",
       "      <td>-2.311276</td>\n",
       "      <td>-2.408186</td>\n",
       "      <td>-1.991762</td>\n",
       "      <td>-3.302552</td>\n",
       "      <td>-3.100907</td>\n",
       "      <td>-2.107156</td>\n",
       "      <td>-1.690732</td>\n",
       "      <td>-2.107156</td>\n",
       "    </tr>\n",
       "    <tr>\n",
       "      <th>3</th>\n",
       "      <td>-1.876843</td>\n",
       "      <td>-3.225797</td>\n",
       "      <td>-inf</td>\n",
       "      <td>-0.816146</td>\n",
       "      <td>-1.687978</td>\n",
       "      <td>-1.594297</td>\n",
       "      <td>-1.594297</td>\n",
       "      <td>-2.998768</td>\n",
       "      <td>-2.748676</td>\n",
       "      <td>-4.168610</td>\n",
       "      <td>...</td>\n",
       "      <td>-3.003948</td>\n",
       "      <td>-1.168328</td>\n",
       "      <td>-1.168328</td>\n",
       "      <td>-0.992237</td>\n",
       "      <td>-2.052935</td>\n",
       "      <td>-3.758436</td>\n",
       "      <td>-4.276950</td>\n",
       "      <td>-0.964208</td>\n",
       "      <td>-2.146616</td>\n",
       "      <td>-0.691207</td>\n",
       "    </tr>\n",
       "    <tr>\n",
       "      <th>4</th>\n",
       "      <td>-2.350484</td>\n",
       "      <td>-5.185046</td>\n",
       "      <td>-3.243589</td>\n",
       "      <td>-inf</td>\n",
       "      <td>-2.418727</td>\n",
       "      <td>-1.826651</td>\n",
       "      <td>-1.826651</td>\n",
       "      <td>-3.729517</td>\n",
       "      <td>-3.720711</td>\n",
       "      <td>-6.127859</td>\n",
       "      <td>...</td>\n",
       "      <td>-5.741348</td>\n",
       "      <td>-0.915073</td>\n",
       "      <td>-0.915073</td>\n",
       "      <td>-1.224591</td>\n",
       "      <td>-2.526575</td>\n",
       "      <td>-4.730470</td>\n",
       "      <td>-5.709715</td>\n",
       "      <td>-0.710953</td>\n",
       "      <td>-3.118651</td>\n",
       "      <td>-0.923561</td>\n",
       "    </tr>\n",
       "    <tr>\n",
       "      <th>6</th>\n",
       "      <td>-2.394888</td>\n",
       "      <td>-4.204572</td>\n",
       "      <td>-2.789599</td>\n",
       "      <td>-1.092905</td>\n",
       "      <td>-inf</td>\n",
       "      <td>-1.518873</td>\n",
       "      <td>-1.518873</td>\n",
       "      <td>-2.923344</td>\n",
       "      <td>-2.914538</td>\n",
       "      <td>-5.377059</td>\n",
       "      <td>...</td>\n",
       "      <td>-3.931571</td>\n",
       "      <td>-0.908325</td>\n",
       "      <td>-0.908325</td>\n",
       "      <td>-1.150896</td>\n",
       "      <td>-2.452880</td>\n",
       "      <td>-4.158381</td>\n",
       "      <td>-5.137626</td>\n",
       "      <td>-0.669443</td>\n",
       "      <td>-2.578746</td>\n",
       "      <td>-0.882051</td>\n",
       "    </tr>\n",
       "    <tr>\n",
       "      <th>7</th>\n",
       "      <td>-2.396139</td>\n",
       "      <td>-5.230701</td>\n",
       "      <td>-3.289245</td>\n",
       "      <td>-1.094156</td>\n",
       "      <td>-2.112200</td>\n",
       "      <td>-inf</td>\n",
       "      <td>-1.219095</td>\n",
       "      <td>-3.422990</td>\n",
       "      <td>-3.414184</td>\n",
       "      <td>-6.403189</td>\n",
       "      <td>...</td>\n",
       "      <td>-5.735851</td>\n",
       "      <td>-0.909577</td>\n",
       "      <td>-0.909577</td>\n",
       "      <td>-1.152148</td>\n",
       "      <td>-2.454131</td>\n",
       "      <td>-4.658027</td>\n",
       "      <td>-5.637272</td>\n",
       "      <td>-0.670695</td>\n",
       "      <td>-3.078392</td>\n",
       "      <td>-0.883303</td>\n",
       "    </tr>\n",
       "    <tr>\n",
       "      <th>8</th>\n",
       "      <td>-2.396139</td>\n",
       "      <td>-5.230701</td>\n",
       "      <td>-3.289245</td>\n",
       "      <td>-1.094156</td>\n",
       "      <td>-2.112200</td>\n",
       "      <td>-1.219095</td>\n",
       "      <td>-inf</td>\n",
       "      <td>-3.422990</td>\n",
       "      <td>-3.414184</td>\n",
       "      <td>-6.403189</td>\n",
       "      <td>...</td>\n",
       "      <td>-5.735851</td>\n",
       "      <td>-0.909577</td>\n",
       "      <td>-0.909577</td>\n",
       "      <td>-1.152148</td>\n",
       "      <td>-2.454131</td>\n",
       "      <td>-4.658027</td>\n",
       "      <td>-5.637272</td>\n",
       "      <td>-0.670695</td>\n",
       "      <td>-3.078392</td>\n",
       "      <td>-0.883303</td>\n",
       "    </tr>\n",
       "    <tr>\n",
       "      <th>11</th>\n",
       "      <td>-2.404992</td>\n",
       "      <td>-4.214677</td>\n",
       "      <td>-2.799703</td>\n",
       "      <td>-1.103009</td>\n",
       "      <td>-1.622658</td>\n",
       "      <td>-1.528977</td>\n",
       "      <td>-1.528977</td>\n",
       "      <td>-inf</td>\n",
       "      <td>-2.924642</td>\n",
       "      <td>-4.713196</td>\n",
       "      <td>...</td>\n",
       "      <td>-3.941675</td>\n",
       "      <td>-0.918429</td>\n",
       "      <td>-0.918429</td>\n",
       "      <td>-1.161001</td>\n",
       "      <td>-2.462984</td>\n",
       "      <td>-3.494517</td>\n",
       "      <td>-4.909491</td>\n",
       "      <td>-0.679547</td>\n",
       "      <td>-2.588850</td>\n",
       "      <td>-0.892155</td>\n",
       "    </tr>\n",
       "    <tr>\n",
       "      <th>13</th>\n",
       "      <td>-1.932562</td>\n",
       "      <td>-3.281516</td>\n",
       "      <td>-2.327273</td>\n",
       "      <td>-0.871864</td>\n",
       "      <td>-1.391514</td>\n",
       "      <td>-1.297833</td>\n",
       "      <td>-1.297833</td>\n",
       "      <td>-2.702304</td>\n",
       "      <td>-inf</td>\n",
       "      <td>-4.454003</td>\n",
       "      <td>...</td>\n",
       "      <td>-3.008514</td>\n",
       "      <td>-1.172894</td>\n",
       "      <td>-1.172894</td>\n",
       "      <td>-0.929856</td>\n",
       "      <td>-1.990554</td>\n",
       "      <td>-3.696055</td>\n",
       "      <td>-4.214569</td>\n",
       "      <td>-0.934012</td>\n",
       "      <td>-2.116420</td>\n",
       "      <td>-0.661011</td>\n",
       "    </tr>\n",
       "    <tr>\n",
       "      <th>14</th>\n",
       "      <td>-1.543659</td>\n",
       "      <td>-0.221439</td>\n",
       "      <td>-1.543659</td>\n",
       "      <td>-1.960082</td>\n",
       "      <td>-1.850938</td>\n",
       "      <td>-2.151968</td>\n",
       "      <td>-2.151968</td>\n",
       "      <td>-2.487760</td>\n",
       "      <td>-1.434514</td>\n",
       "      <td>-inf</td>\n",
       "      <td>...</td>\n",
       "      <td>-1.242629</td>\n",
       "      <td>-2.504150</td>\n",
       "      <td>-2.504150</td>\n",
       "      <td>-2.805180</td>\n",
       "      <td>-2.388757</td>\n",
       "      <td>-3.025579</td>\n",
       "      <td>-3.259662</td>\n",
       "      <td>-2.504150</td>\n",
       "      <td>-2.087727</td>\n",
       "      <td>-2.504150</td>\n",
       "    </tr>\n",
       "    <tr>\n",
       "      <th>15</th>\n",
       "      <td>-0.715639</td>\n",
       "      <td>-2.369311</td>\n",
       "      <td>-1.608744</td>\n",
       "      <td>-1.132062</td>\n",
       "      <td>-1.916023</td>\n",
       "      <td>-1.323948</td>\n",
       "      <td>-1.323948</td>\n",
       "      <td>-1.916023</td>\n",
       "      <td>-1.499600</td>\n",
       "      <td>-2.913379</td>\n",
       "      <td>...</td>\n",
       "      <td>-3.390500</td>\n",
       "      <td>-1.676130</td>\n",
       "      <td>-1.676130</td>\n",
       "      <td>-1.977160</td>\n",
       "      <td>-1.560737</td>\n",
       "      <td>-2.453843</td>\n",
       "      <td>-1.909774</td>\n",
       "      <td>-1.676130</td>\n",
       "      <td>-2.152813</td>\n",
       "      <td>-1.676130</td>\n",
       "    </tr>\n",
       "  </tbody>\n",
       "</table>\n",
       "<p>11 rows × 24 columns</p>\n",
       "</div>"
      ],
      "text/plain": [
       "          1         2         3         4         6         7         8   \\\n",
       "1       -inf -4.235048 -2.754323 -0.800519 -2.170746 -1.578671 -1.578671   \n",
       "2  -1.815671      -inf -1.815671 -2.232094 -2.709216 -3.010246 -3.010246   \n",
       "3  -1.876843 -3.225797      -inf -0.816146 -1.687978 -1.594297 -1.594297   \n",
       "4  -2.350484 -5.185046 -3.243589      -inf -2.418727 -1.826651 -1.826651   \n",
       "6  -2.394888 -4.204572 -2.789599 -1.092905      -inf -1.518873 -1.518873   \n",
       "7  -2.396139 -5.230701 -3.289245 -1.094156 -2.112200      -inf -1.219095   \n",
       "8  -2.396139 -5.230701 -3.289245 -1.094156 -2.112200 -1.219095      -inf   \n",
       "11 -2.404992 -4.214677 -2.799703 -1.103009 -1.622658 -1.528977 -1.528977   \n",
       "13 -1.932562 -3.281516 -2.327273 -0.871864 -1.391514 -1.297833 -1.297833   \n",
       "14 -1.543659 -0.221439 -1.543659 -1.960082 -1.850938 -2.151968 -2.151968   \n",
       "15 -0.715639 -2.369311 -1.608744 -1.132062 -1.916023 -1.323948 -1.323948   \n",
       "\n",
       "          11        13        14    ...           20        21        22  \\\n",
       "1  -3.481536 -3.231444 -5.177861    ...    -4.791351 -1.152702 -1.152702   \n",
       "2  -4.020005 -2.292792 -1.436265    ...    -1.049754 -2.311276 -2.311276   \n",
       "3  -2.998768 -2.748676 -4.168610    ...    -3.003948 -1.168328 -1.168328   \n",
       "4  -3.729517 -3.720711 -6.127859    ...    -5.741348 -0.915073 -0.915073   \n",
       "6  -2.923344 -2.914538 -5.377059    ...    -3.931571 -0.908325 -0.908325   \n",
       "7  -3.422990 -3.414184 -6.403189    ...    -5.735851 -0.909577 -0.909577   \n",
       "8  -3.422990 -3.414184 -6.403189    ...    -5.735851 -0.909577 -0.909577   \n",
       "11      -inf -2.924642 -4.713196    ...    -3.941675 -0.918429 -0.918429   \n",
       "13 -2.702304      -inf -4.454003    ...    -3.008514 -1.172894 -1.172894   \n",
       "14 -2.487760 -1.434514      -inf    ...    -1.242629 -2.504150 -2.504150   \n",
       "15 -1.916023 -1.499600 -2.913379    ...    -3.390500 -1.676130 -1.676130   \n",
       "\n",
       "          23        24        25        27        28        29        30  \n",
       "1  -0.976611 -2.037308 -4.241204 -4.759718 -0.948582 -2.629384 -0.675581  \n",
       "2  -2.408186 -1.991762 -3.302552 -3.100907 -2.107156 -1.690732 -2.107156  \n",
       "3  -0.992237 -2.052935 -3.758436 -4.276950 -0.964208 -2.146616 -0.691207  \n",
       "4  -1.224591 -2.526575 -4.730470 -5.709715 -0.710953 -3.118651 -0.923561  \n",
       "6  -1.150896 -2.452880 -4.158381 -5.137626 -0.669443 -2.578746 -0.882051  \n",
       "7  -1.152148 -2.454131 -4.658027 -5.637272 -0.670695 -3.078392 -0.883303  \n",
       "8  -1.152148 -2.454131 -4.658027 -5.637272 -0.670695 -3.078392 -0.883303  \n",
       "11 -1.161001 -2.462984 -3.494517 -4.909491 -0.679547 -2.588850 -0.892155  \n",
       "13 -0.929856 -1.990554 -3.696055 -4.214569 -0.934012 -2.116420 -0.661011  \n",
       "14 -2.805180 -2.388757 -3.025579 -3.259662 -2.504150 -2.087727 -2.504150  \n",
       "15 -1.977160 -1.560737 -2.453843 -1.909774 -1.676130 -2.152813 -1.676130  \n",
       "\n",
       "[11 rows x 24 columns]"
      ]
     },
     "execution_count": 807,
     "metadata": {},
     "output_type": "execute_result"
    }
   ],
   "source": [
    "poi_logtransmat.head(11)"
   ]
  },
  {
   "cell_type": "markdown",
   "metadata": {},
   "source": [
    "Plot transition matrix heatmap."
   ]
  },
  {
   "cell_type": "code",
   "execution_count": 808,
   "metadata": {
    "collapsed": false
   },
   "outputs": [],
   "source": [
    "prob_mat = np.power(10, poi_logtransmat)"
   ]
  },
  {
   "cell_type": "code",
   "execution_count": 809,
   "metadata": {
    "collapsed": false
   },
   "outputs": [
    {
     "data": {
      "text/plain": [
       "<matplotlib.axes._subplots.AxesSubplot at 0x7fcb9d8bcf98>"
      ]
     },
     "execution_count": 809,
     "metadata": {},
     "output_type": "execute_result"
    },
    {
     "data": {
      "image/png": "[encoded data removed]",
      "text/plain": [
       "<matplotlib.figure.Figure at 0x7fcb9d744940>"
      ]
     },
     "metadata": {},
     "output_type": "display_data"
    }
   ],
   "source": [
    "plt.figure(figsize=[13, 10])\n",
    "#plt.imshow(prob_mat, interpolation='none', cmap=plt.cm.hot)  # OK\n",
    "#ticks = prob_mat.index\n",
    "#plt.xticks(np.arange(prob_mat.shape[0]), ticks)\n",
    "#plt.yticks(np.arange(prob_mat.shape[0]), ticks)\n",
    "#plt.xlabel('POI ID')\n",
    "#plt.ylabel('POI ID')\n",
    "sns.heatmap(prob_mat)"
   ]
  },
  {
   "cell_type": "code",
   "execution_count": 810,
   "metadata": {
    "collapsed": false
   },
   "outputs": [
    {
     "data": {
      "text/plain": [
       "0.74907483878565717"
      ]
     },
     "execution_count": 810,
     "metadata": {},
     "output_type": "execute_result"
    }
   ],
   "source": [
    "prob_mat.loc[2, 17]"
   ]
  },
  {
   "cell_type": "code",
   "execution_count": 811,
   "metadata": {
    "collapsed": false
   },
   "outputs": [
    {
     "data": {
      "text/plain": [
       "0.60056568196103066"
      ]
     },
     "execution_count": 811,
     "metadata": {},
     "output_type": "execute_result"
    }
   ],
   "source": [
    "prob_mat.loc[14, 2]"
   ]
  },
  {
   "cell_type": "code",
   "execution_count": 812,
   "metadata": {
    "collapsed": false
   },
   "outputs": [
    {
     "data": {
      "text/plain": [
       "0.72194955848118825"
      ]
     },
     "execution_count": 812,
     "metadata": {},
     "output_type": "execute_result"
    }
   ],
   "source": [
    "prob_mat.loc[17, 2]"
   ]
  },
  {
   "cell_type": "code",
   "execution_count": 813,
   "metadata": {
    "collapsed": false
   },
   "outputs": [
    {
     "data": {
      "text/plain": [
       "0.50722527723933686"
      ]
     },
     "execution_count": 813,
     "metadata": {},
     "output_type": "execute_result"
    }
   ],
   "source": [
    "prob_mat.loc[27, 19]"
   ]
  },
  {
   "cell_type": "code",
   "execution_count": 814,
   "metadata": {
    "collapsed": false
   },
   "outputs": [
    {
     "data": {
      "text/plain": [
       "0.38493845460754827"
      ]
     },
     "execution_count": 814,
     "metadata": {},
     "output_type": "execute_result"
    }
   ],
   "source": [
    "prob_mat.loc[15, 19]"
   ]
  },
  {
   "cell_type": "code",
   "execution_count": 815,
   "metadata": {
    "collapsed": false
   },
   "outputs": [
    {
     "data": {
      "text/html": [
       "<div>\n",
       "<table border=\"1\" class=\"dataframe\">\n",
       "  <thead>\n",
       "    <tr style=\"text-align: right;\">\n",
       "      <th></th>\n",
       "      <th>poiTheme</th>\n",
       "      <th>poiFreq</th>\n",
       "      <th>poiLon</th>\n",
       "      <th>poiLat</th>\n",
       "    </tr>\n",
       "    <tr>\n",
       "      <th>poiID</th>\n",
       "      <th></th>\n",
       "      <th></th>\n",
       "      <th></th>\n",
       "      <th></th>\n",
       "    </tr>\n",
       "  </thead>\n",
       "  <tbody>\n",
       "    <tr>\n",
       "      <th>2</th>\n",
       "      <td>Sport</td>\n",
       "      <td>609</td>\n",
       "      <td>-79.418634</td>\n",
       "      <td>43.632772</td>\n",
       "    </tr>\n",
       "    <tr>\n",
       "      <th>17</th>\n",
       "      <td>Amusement</td>\n",
       "      <td>808</td>\n",
       "      <td>-79.416011</td>\n",
       "      <td>43.632563</td>\n",
       "    </tr>\n",
       "  </tbody>\n",
       "</table>\n",
       "</div>"
      ],
      "text/plain": [
       "        poiTheme  poiFreq     poiLon     poiLat\n",
       "poiID                                          \n",
       "2          Sport      609 -79.418634  43.632772\n",
       "17     Amusement      808 -79.416011  43.632563"
      ]
     },
     "execution_count": 815,
     "metadata": {},
     "output_type": "execute_result"
    }
   ],
   "source": [
    "poi_all.loc[[2, 17]]"
   ]
  },
  {
   "cell_type": "code",
   "execution_count": 816,
   "metadata": {
    "collapsed": false
   },
   "outputs": [
    {
     "name": "stdout",
     "output_type": "stream",
     "text": [
      "Distance between POI 2 and 17 is 0.212 km.\n"
     ]
    }
   ],
   "source": [
    "d_ = calc_dist(poi_all.loc[2, 'poiLon'], poi_all.loc[2, 'poiLat'], poi_all.loc[17, 'poiLon'], poi_all.loc[17, 'poiLat'])\n",
    "print('Distance between POI %d and %d is %.3f km.' % (2, 17, d_))"
   ]
  },
  {
   "cell_type": "markdown",
   "metadata": {},
   "source": [
    "Combine the above steps."
   ]
  },
  {
   "cell_type": "code",
   "execution_count": 817,
   "metadata": {
    "collapsed": true
   },
   "outputs": [],
   "source": [
    "def gen_poi_logtransmat(seqid_set, seq_all, poi_info, nbins_pop=2, nbins_visit=4, nbins_duration=3, nclusters=4):\n",
    "    transmat_cat                        = gen_transmat_cat(seqid_set, seq_all, poi_info)\n",
    "    transmat_pop,      logbins_pop      = gen_transmat_pop(seqid_set, seq_all, poi_info, nbins_pop)\n",
    "    transmat_visit,    logbins_visit    = gen_transmat_visit(seqid_set, seq_all, poi_info, nbins_visit)\n",
    "    transmat_duration, logbins_duration = gen_transmat_duration(seqid_set, seq_all, poi_info, nbins_duration)\n",
    "    transmat_neighbor, poi_clusters     = gen_transmat_neighbor(seqid_set, seq_all, poi_info, nclusters)\n",
    "\n",
    "    # Kronecker product\n",
    "    transmat_ix = list(itertools.product(transmat_cat.index, transmat_pop.index, transmat_visit.index, \\\n",
    "                                         transmat_duration.index, transmat_neighbor.index))\n",
    "    transmat_value = transmat_cat.values\n",
    "    for transmat in [transmat_pop, transmat_visit, transmat_duration, transmat_neighbor]:\n",
    "        transmat_value = kron(transmat_value, transmat.values)\n",
    "    transmat_feature = pd.DataFrame(data=transmat_value, index=transmat_ix, columns=transmat_ix)\n",
    "    \n",
    "    #poi_train = seq_all[seq_all['seqID'].isin(seqid_set)]['poiID'].unique().tolist()\n",
    "    poi_train = poi_info.index.tolist()\n",
    "    #poi_train.sort()\n",
    "    #poi_info = calc_poi_info(seqid_set, seq_all, poi_all)\n",
    "    feature_names = ['poiTheme', 'popularity', 'nVisit', 'avgDuration', 'clusterID']\n",
    "    poi_features = pd.DataFrame(data=np.zeros((len(poi_train), len(feature_names))), \\\n",
    "                                columns=feature_names, index=poi_train)\n",
    "    poi_features.index.name = 'poiID'\n",
    "    poi_features['poiTheme'] = poi_info.loc[poi_train, 'poiTheme']\n",
    "    poi_features['popularity'] = np.digitize(poi_info.loc[poi_train, 'popularity'], logbins_pop)\n",
    "    poi_features['nVisit'] = np.digitize(poi_info.loc[poi_train, 'nVisit'], logbins_visit)\n",
    "    poi_features['avgDuration'] = np.digitize(poi_info.loc[poi_train, 'avgDuration(sec)'], logbins_duration)\n",
    "    poi_features['clusterID'] = poi_clusters.loc[poi_train, 'clusterID']\n",
    "    \n",
    "    # shrink the result of Kronecker product and deal with POIs with the same features\n",
    "    poi_logtransmat = pd.DataFrame(data=np.zeros((len(poi_train), len(poi_train)), dtype=np.float), \\\n",
    "                                   columns=poi_train, index=poi_train)\n",
    "    for p1 in poi_logtransmat.index:\n",
    "        rix = tuple(poi_features.loc[p1])\n",
    "        for p2 in poi_logtransmat.columns:\n",
    "            cix = tuple(poi_features.loc[p2])\n",
    "            value_ = transmat_feature.loc[(rix,), (cix,)]\n",
    "            poi_logtransmat.loc[p1, p2] = value_.values[0, 0]\n",
    "    \n",
    "    # group POIs with the same features\n",
    "    features_dup = dict()\n",
    "    for poi in poi_features.index:\n",
    "        key = tuple(poi_features.loc[poi])\n",
    "        if key in features_dup:\n",
    "            features_dup[key].append(poi)\n",
    "        else:\n",
    "            features_dup[key] = [poi]\n",
    "            \n",
    "    # deal with POIs with the same features      \n",
    "    for feature in sorted(features_dup.keys()):\n",
    "        n = len(features_dup[feature])\n",
    "        if n > 1:\n",
    "            group = features_dup[feature]\n",
    "            m1 = poi_logtransmat.loc[group[0], group[0]]  # transition value of self-loop of POI group\n",
    "            # divide incoming/outgoing transition value uniformly among group members\n",
    "            for poi in group:\n",
    "                poi_logtransmat.loc[poi] /= n\n",
    "                poi_logtransmat[poi] /= n\n",
    "            # divide transition value of self-loop of POI group uniformly among in-group transitions,\n",
    "            # excluding self-loop of individual POI\n",
    "            m2 = m1 / (n*n - n)\n",
    "            for pair in itertools.permutations(group, 2):\n",
    "                poi_logtransmat.loc[pair[0], pair[1]] = m2\n",
    "                \n",
    "    # normalise each row\n",
    "    for p1 in poi_logtransmat.index:\n",
    "        poi_logtransmat.loc[p1, p1] = 0\n",
    "        rowsum = poi_logtransmat.loc[p1].sum()\n",
    "        assert(rowsum > 0)\n",
    "        logrowsum = np.log10(rowsum)\n",
    "        for p2 in poi_logtransmat.columns:\n",
    "            if p1 == p2:\n",
    "                poi_logtransmat.loc[p1, p2] = -np.inf  # deal with log(0) explicitly\n",
    "            else:\n",
    "                poi_logtransmat.loc[p1, p2] = np.log10(poi_logtransmat.loc[p1, p2]) - logrowsum\n",
    "    return poi_logtransmat"
   ]
  },
  {
   "cell_type": "markdown",
   "metadata": {},
   "source": [
    "<a id='sec4'></a>"
   ]
  },
  {
   "cell_type": "markdown",
   "metadata": {},
   "source": [
    "# 4. Combine Ranking with Factorised Markov Chain to Recommend"
   ]
  },
  {
   "cell_type": "markdown",
   "metadata": {},
   "source": [
    "NOTE that:\n",
    "- Ranking is over POIs (in POI space)\n",
    "- Transition probabilities of Markov Chain of POI features (in POI feature space)"
   ]
  },
  {
   "cell_type": "markdown",
   "metadata": {},
   "source": [
    "Two approaches to combine ranking with MC:\n",
    "- recommend trajectory in POI space: \n",
    "  - transform transition matrix of feature vector into transition matrix of POIs,\n",
    "  - recommend a sequence of POIs.\n",
    "- recommend trajectory in POI feature space: \n",
    "  - transform ranking probability of POIs into ranking probability of POI features,\n",
    "  - recommend a sequence of features, \n",
    "  - transform the squence of features into a sequence of POIs."
   ]
  },
  {
   "cell_type": "markdown",
   "metadata": {},
   "source": [
    "Here we implement the first approach, i.e., recommend trajectory in POI space."
   ]
  },
  {
   "cell_type": "markdown",
   "metadata": {},
   "source": [
    "Two methods for recommendation:\n",
    "- find a simple path with maximum objective in a digraph. (by negating log probabilities, it can be reduced to a finding shortest path will $k$-edges, which is probably NP-hard as it is the same as TSP when $L=|P|$, dynamic programming can be used for non-simple path.)\n",
    "- make greedy choice (of POI or POI feature vector) step-by-step"
   ]
  },
  {
   "cell_type": "markdown",
   "metadata": {},
   "source": [
    "Here we use dynamic programming to find a possibly non-simple path."
   ]
  },
  {
   "cell_type": "code",
   "execution_count": 818,
   "metadata": {
    "collapsed": true
   },
   "outputs": [],
   "source": [
    "def find_path(V, E, ps, pe, L):\n",
    "    assert(isinstance(V, pd.DataFrame))\n",
    "    assert(isinstance(E, pd.DataFrame))\n",
    "    assert(ps in V.index)\n",
    "    assert(pe in V.index)\n",
    "    assert(2 < L <= V.index.shape[0])\n",
    "    \n",
    "    A = pd.DataFrame(data=np.zeros((L-1, V.shape[0]), dtype=np.float), columns=V.index, index=np.arange(2, L+1))\n",
    "    B = pd.DataFrame(data=np.zeros((L-1, V.shape[0]), dtype=np.int),   columns=V.index, index=np.arange(2, L+1))\n",
    "    A += np.inf\n",
    "    for v in V.index:\n",
    "        if v != ps:\n",
    "            #A.loc[2, v] = E.loc[ps, v] + V.loc[ps, 'weight'] + V.loc[v, 'weight']\n",
    "            A.loc[2, v] = E.loc[ps, v] \n",
    "            A.loc[2, v] += V.loc[ps, 'weight'] \n",
    "            A.loc[2, v] += V.loc[v, 'weight']\n",
    "            B.loc[2, v] = ps\n",
    "    \n",
    "    for l in range(3, L+1):\n",
    "        for v in V.index:\n",
    "            values = [A.loc[l-1, v1] + E.loc[v1, v] + V.loc[v1, 'weight'] + V.loc[v, 'weight'] for v1 in V.index]\n",
    "            minix = np.argmin(values)\n",
    "            A.loc[l, v] = values[minix]\n",
    "            B.loc[l, v] = V.index[minix]\n",
    "            \n",
    "    path = [pe]\n",
    "    v = path[-1]\n",
    "    l = L\n",
    "    #while v != ps:  #incorrect if 'ps' happens to appear in the middle of a path\n",
    "    while l >= 2:\n",
    "        path.append(B.loc[l, v])\n",
    "        v = path[-1]\n",
    "        l -= 1\n",
    "    path.reverse()\n",
    "    return path"
   ]
  },
  {
   "cell_type": "code",
   "execution_count": 819,
   "metadata": {
    "collapsed": true
   },
   "outputs": [],
   "source": [
    "def recommend(seqid_set_train, seq_all, poi_info, query_id_dict, startPOI, endPOI, nPOI, poi_logtransmat):\n",
    "    t0 = time.time()\n",
    "    train_df = gen_train_df(seqid_set_train, seq_all, poi_info, query_id_dict)\n",
    "    ranksvm = RankSVM(ranksvm_dir, useLinear=True)\n",
    "    ranksvm.train(train_df, cost=1000)\n",
    "    test_df = gen_test_df(startPOI, endPOI, nPOI, poi_info, query_id_dict)\n",
    "    rank_df = ranksvm.predict(test_df)\n",
    "    rank_df.set_index('poiID', inplace=True)\n",
    "    #rank_df.sort_values(by='rank', ascending=False, inplace=True)\n",
    "    #t1 = time.time()\n",
    "    #print('Ranking finished in %.1f sec' % (t1 - t0)); sys.stdout.flush()\n",
    "    nodes = rank_df.copy()\n",
    "    nodes['weight'] = -np.log(nodes['probability'])  # node weight is negative log of ranking probability\n",
    "    nodes.drop('probability', axis=1, inplace=True)\n",
    "    edges = poi_logtransmat.copy()\n",
    "    edges = -1 * edges  # edge weight is negative log of transition probability\n",
    "    traj = find_path(nodes, edges, startPOI, endPOI, nPOI)\n",
    "    #print('DP finished in %.1f sec' % (time.time() - t1)); sys.stdout.flush()\n",
    "    return traj"
   ]
  },
  {
   "cell_type": "markdown",
   "metadata": {},
   "source": [
    "Sanity check."
   ]
  },
  {
   "cell_type": "code",
   "execution_count": 820,
   "metadata": {
    "collapsed": false
   },
   "outputs": [
    {
     "data": {
      "text/plain": [
       "[11, 29, 6, 22, 7, 1, 15]"
      ]
     },
     "execution_count": 820,
     "metadata": {},
     "output_type": "execute_result"
    }
   ],
   "source": [
    "#test_ix = 7\n",
    "#test_seq = extract_seq(seqid_set_test0[test_ix], seq_all)\n",
    "#test_seq = [22, 4, 25, 11]\n",
    "test_seq = [11, 29, 6, 22, 7, 1, 15]\n",
    "test_seq"
   ]
  },
  {
   "cell_type": "code",
   "execution_count": 821,
   "metadata": {
    "collapsed": false
   },
   "outputs": [
    {
     "data": {
      "text/plain": [
       "[11, 22, 30, 22, 30, 22, 15]"
      ]
     },
     "execution_count": 821,
     "metadata": {},
     "output_type": "execute_result"
    }
   ],
   "source": [
    "recommend(seqid_set_train0, seq_all, poi_info_t, query_id_dict, test_seq[0], test_seq[-1], len(test_seq), poi_logtransmat)"
   ]
  },
  {
   "cell_type": "markdown",
   "metadata": {},
   "source": [
    "<a id='sec5'></a>"
   ]
  },
  {
   "cell_type": "markdown",
   "metadata": {},
   "source": [
    "# 5. IJCAI15 Methods"
   ]
  },
  {
   "cell_type": "markdown",
   "metadata": {},
   "source": [
    "Evaluation metrics without considering visiting order."
   ]
  },
  {
   "cell_type": "code",
   "execution_count": 822,
   "metadata": {
    "collapsed": false
   },
   "outputs": [],
   "source": [
    "def calc_F1score(seq_act, seq_rec):#, includeStartEnd=True):\n",
    "    assert(len(seq_act) > 2)\n",
    "    assert(len(seq_rec) > 2)\n",
    "\n",
    "    act_set = set(seq_act)\n",
    "    rec_set = set(seq_rec)\n",
    "    intersect = act_set & rec_set\n",
    "    \n",
    "    recall    = len(intersect) / len(act_set) #if includeStartEnd else (len(intersect)-2) / (len(act_set)-2)\n",
    "    precision = len(intersect) / len(rec_set) #if includeStartEnd else (len(intersect)-2) / (len(rec_set)-2)\n",
    "    #F1score   = 0 if abs(precision + recall) < 1e-6 else 2. * precision * recall / (precision + recall)\n",
    "    F1score   = 2. * precision * recall / (precision + recall)\n",
    "  \n",
    "    return F1score"
   ]
  },
  {
   "cell_type": "markdown",
   "metadata": {},
   "source": [
    "The IJCAI15 approach with time-based constraint replaced with #POI visited."
   ]
  },
  {
   "cell_type": "markdown",
   "metadata": {},
   "source": [
    "Compute user interest using all trajectories from training and querying set."
   ]
  },
  {
   "cell_type": "code",
   "execution_count": 823,
   "metadata": {
    "collapsed": true
   },
   "outputs": [],
   "source": [
    "def calc_user_interest(seqid_set, seq_all, poi_all, poi_info):\n",
    "    user_interest = seq_all[seq_all['seqID'].isin(seqid_set)][['userID', 'poiID', 'poiDuration(sec)']].copy()\n",
    "    user_interest['timeRatio'] = [poi_info.loc[x, 'avgDuration(sec)'] for x in user_interest['poiID']]\n",
    "    user_interest['timeRatio'] = user_interest['poiDuration(sec)'] / user_interest['timeRatio']\n",
    "    user_interest['poiTheme'] = [poi_all.loc[x, 'poiTheme'] for x in user_interest['poiID']]\n",
    "    user_interest.drop(['poiID', 'poiDuration(sec)'], axis=1, inplace=True)\n",
    "    user_interest = user_interest.groupby(['userID', 'poiTheme']).agg([np.sum, np.size]) # the sum\n",
    "    user_interest.columns = user_interest.columns.droplevel()\n",
    "    user_interest.rename(columns={'sum':'timeBased', 'size':'freqBased'}, inplace=True)\n",
    "    user_interest.reset_index(inplace=True)\n",
    "    user_interest.set_index(['userID', 'poiTheme'], inplace=True)\n",
    "    return user_interest.copy()"
   ]
  },
  {
   "cell_type": "code",
   "execution_count": 824,
   "metadata": {
    "collapsed": true
   },
   "outputs": [],
   "source": [
    "def calc_dist_mat(poi_info):\n",
    "    poi_dist_mat = pd.DataFrame(data=np.zeros((poi_info.shape[0], poi_info.shape[0]), dtype=np.float64), \\\n",
    "                            index=poi_info.index, columns=poi_info.index)\n",
    "    for i in range(poi_info.index.shape[0]):\n",
    "        for j in range(i+1, poi_info.index.shape[0]):\n",
    "            r = poi_info.index[i]\n",
    "            c = poi_info.index[j]\n",
    "            dist = calc_dist(poi_info.loc[r, 'poiLon'], poi_info.loc[r, 'poiLat'], \\\n",
    "                             poi_info.loc[c, 'poiLon'], poi_info.loc[c, 'poiLat'])\n",
    "            assert(dist > 0.)\n",
    "            poi_dist_mat.loc[r, c] = dist\n",
    "            poi_dist_mat.loc[c, r] = dist\n",
    "    return poi_dist_mat"
   ]
  },
  {
   "cell_type": "code",
   "execution_count": 825,
   "metadata": {
    "collapsed": false
   },
   "outputs": [
    {
     "data": {
      "text/plain": [
       "(219, 2)"
      ]
     },
     "execution_count": 825,
     "metadata": {},
     "output_type": "execute_result"
    }
   ],
   "source": [
    "user_int_t = calc_user_interest(seqid_set_train0, seq_all, poi_all, poi_info_t)\n",
    "user_int_t.shape"
   ]
  },
  {
   "cell_type": "code",
   "execution_count": 826,
   "metadata": {
    "collapsed": false
   },
   "outputs": [
    {
     "data": {
      "text/plain": [
       "(24, 24)"
      ]
     },
     "execution_count": 826,
     "metadata": {},
     "output_type": "execute_result"
    }
   ],
   "source": [
    "poi_dist_mat = calc_dist_mat(poi_info_t)\n",
    "poi_dist_mat.shape"
   ]
  },
  {
   "cell_type": "markdown",
   "metadata": {},
   "source": [
    "Recommend trajectory using ILP with time-based budget constraint."
   ]
  },
  {
   "cell_type": "code",
   "execution_count": 827,
   "metadata": {
    "collapsed": true
   },
   "outputs": [],
   "source": [
    "def calc_seq_budget(user, seq, poi_info, poi_dist_mat, user_interest):\n",
    "    \"\"\"Calculate the travel budget for the given travelling sequence\"\"\"\n",
    "    assert(len(seq) > 1)\n",
    "    speed = 4  # 4km/h\n",
    "    budget = 0. # travel budget\n",
    "    for i in range(len(seq)-1):\n",
    "        px = seq[i]\n",
    "        py = seq[i+1]\n",
    "        assert(px in poi_info.index)\n",
    "        assert(py in poi_info.index)\n",
    "        budget += 60 * 60 * poi_dist_mat.loc[px, py] / speed  # travel time (seconds)\n",
    "        caty = poi_info.loc[py, 'poiTheme']\n",
    "        avgtime = poi_info.loc[py, 'avgDuration(sec)']\n",
    "        userint = 0\n",
    "        if (user, caty) in user_interest.index: userint = user_interest.loc[user, caty] # for testing set\n",
    "        budget += userint * avgtime  # expected visit duration\n",
    "    return budget"
   ]
  },
  {
   "cell_type": "code",
   "execution_count": 828,
   "metadata": {
    "collapsed": true
   },
   "outputs": [],
   "source": [
    "def recommend_ILP(user, budget, eta, startPOI, endPOI, poi_info, poi_dist_mat, user_interest):\n",
    "    assert(0 <= eta <= 1); assert(budget > 0)\n",
    "    speed = 4  # 4km/h\n",
    "    p0 = str(startPOI); pN = str(endPOI); N = poi_info.index.shape[0]\n",
    "    \n",
    "    # REF: pythonhosted.org/PuLP/index.html\n",
    "    pois = [str(p) for p in poi_info.index] # create a string list for each POI\n",
    "    prob = pulp.LpProblem('TourRecommendation', pulp.LpMaximize) # create problem\n",
    "    # visit_i_j = 1 means POI i and j are visited in sequence\n",
    "    visit_vars = pulp.LpVariable.dicts('visit', (pois, pois), 0, 1, pulp.LpInteger) \n",
    "    # a dictionary contains all dummy variables\n",
    "    dummy_vars = pulp.LpVariable.dicts('u', [x for x in pois if x != p0], 2, N, pulp.LpInteger)\n",
    "\n",
    "    # add objective\n",
    "    objlist = []\n",
    "    for pi in [x for x in pois if x not in {p0, pN}]:\n",
    "        for pj in [y for y in pois if y != p0]:\n",
    "            cati = poi_info.loc[int(pi), 'poiTheme']\n",
    "            userint = 0; poipop = 0\n",
    "            if (user, cati) in user_interest.index: \n",
    "                userint = user_interest.loc[user, cati]\n",
    "            if int(pi) in poi_info.index: \n",
    "                poipop = poi_info.loc[int(pi), 'popularity']\n",
    "            objlist.append(visit_vars[pi][pj] * (eta * userint + (1.-eta) * poipop))\n",
    "    prob += pulp.lpSum(objlist), 'Objective'\n",
    "    \n",
    "    # add constraints, each constraint should be in ONE line\n",
    "    prob += pulp.lpSum([visit_vars[p0][pj] for pj in pois if pj != p0]) == 1, 'StartAtp0'\n",
    "    prob += pulp.lpSum([visit_vars[pi][pN] for pi in pois if pi != pN]) == 1, 'EndAtpN'\n",
    "    for pk in [x for x in pois if x not in {p0, pN}]:\n",
    "        prob += pulp.lpSum([visit_vars[pi][pk] for pi in pois if pi != pN]) == \\\n",
    "                pulp.lpSum([visit_vars[pk][pj] for pj in pois if pj != p0]), 'Connected_' + pk\n",
    "        prob += pulp.lpSum([visit_vars[pi][pk] for pi in pois if pi != pN]) <= 1, 'LeaveAtMostOnce_' + pk\n",
    "        prob += pulp.lpSum([visit_vars[pk][pj] for pj in pois if pj != p0]) <= 1, 'EnterAtMostOnce_' + pk\n",
    "    \n",
    "    costlist = []\n",
    "    for pi in [x for x in pois if x != pN]:\n",
    "        for pj in [y for y in pois if y != p0]:\n",
    "            catj = poi_info.loc[int(pj), 'poiTheme']\n",
    "            traveltime = 60 * 60 * poi_dist_mat.loc[int(pi), int(pj)] / speed # seconds\n",
    "            userint = 0; avgtime = 0\n",
    "            if (user, catj) in user_interest.index: userint = user_interest.loc[user, catj]\n",
    "            if int(pj) in poi_info.index: avgtime = poi_info.loc[int(pj), 'avgDuration(sec)']\n",
    "            costlist.append(visit_vars[pi][pj] * (traveltime + userint * avgtime))\n",
    "    prob += pulp.lpSum(costlist) <= budget, 'WithinBudget'\n",
    "    \n",
    "    for pi in [x for x in pois if x != p0]:\n",
    "        for pj in [y for y in pois if y != p0]:\n",
    "            prob += dummy_vars[pi] - dummy_vars[pj] + 1 <= (N - 1) * (1 - visit_vars[pi][pj]), \\\n",
    "                    'SubTourElimination_' + str(pi) + '_' + str(pj)\n",
    "\n",
    "    # solve problem\n",
    "    prob.solve(pulp.PULP_CBC_CMD(options=['-threads', '6', '-strategy', '1', '-maxIt', '2000000'])) # CBC\n",
    "    \n",
    "    visit_mat = pd.DataFrame(data=np.zeros((len(pois), len(pois)), dtype=np.float), index=pois, columns=pois)\n",
    "    for pi in pois:\n",
    "        for pj in pois: visit_mat.loc[pi, pj] = visit_vars[pi][pj].varValue\n",
    "\n",
    "    # build the recommended trajectory\n",
    "    recseq = [p0]\n",
    "    while True:\n",
    "        pi = recseq[-1]\n",
    "        pj = visit_mat.loc[pi].idxmax()\n",
    "        assert(round(visit_mat.loc[pi, pj]) == 1)\n",
    "        recseq.append(pj); \n",
    "        #print(recseq); sys.stdout.flush()\n",
    "        if pj == pN: return [int(x) for x in recseq]"
   ]
  },
  {
   "cell_type": "markdown",
   "metadata": {},
   "source": [
    "Recommend trajectory using ILP, replace trajectory time budget constraint with trajectory length constraint."
   ]
  },
  {
   "cell_type": "code",
   "execution_count": 829,
   "metadata": {
    "collapsed": true
   },
   "outputs": [],
   "source": [
    "def recommend_ILP2(user, user_interest, poi_info, eta, startPOI, endPOI, nPOI):\n",
    "    assert(nPOI > 2)\n",
    "    assert(0 <= eta <= 1)\n",
    "    p0 = str(startPOI); pN = str(endPOI); N = poi_info.index.shape[0]\n",
    "    \n",
    "    # REF: pythonhosted.org/PuLP/index.html\n",
    "    pois = [str(p) for p in poi_info.index] # create a string list for each POI\n",
    "    pb = pulp.LpProblem('MostLikelyTraj', pulp.LpMaximize) # create problem\n",
    "    # visit_i_j = 1 means POI i and j are visited in sequence\n",
    "    visit_vars = pulp.LpVariable.dicts('visit', (pois, pois), 0, 1, pulp.LpInteger) \n",
    "    # a dictionary contains all dummy variables\n",
    "    dummy_vars = pulp.LpVariable.dicts('u', [x for x in pois if x != p0], 2, N, pulp.LpInteger)\n",
    "    \n",
    "    # add objective\n",
    "    objlist = []\n",
    "    for pi in [x for x in pois if x not in {p0, pN}]:\n",
    "        for pj in [y for y in pois if y != p0]:\n",
    "            cati = poi_info.loc[int(pi), 'poiTheme']\n",
    "            userint = 0; poipop = 0\n",
    "            if (user, cati) in user_interest.index: \n",
    "                userint = user_interest.loc[user, cati]\n",
    "            if int(pi) in poi_info.index: \n",
    "                #poipop = poi_info.loc[int(pi), 'nVisit']\n",
    "                poipop = poi_info.loc[int(pi), 'popularity']\n",
    "            objlist.append(visit_vars[pi][pj] * (eta * userint + (1.-eta) * poipop))\n",
    "    pb += pulp.lpSum(objlist), 'Objective'\n",
    "    \n",
    "    # add constraints, each constraint should be in ONE line\n",
    "    pb += pulp.lpSum([visit_vars[p0][pj] for pj in pois if pj != p0]) == 1, 'StartAt_p0'\n",
    "    pb += pulp.lpSum([visit_vars[pi][p0] for pi in pois]) == 0, 'NoIncoming_p0'\n",
    "    pb += pulp.lpSum([visit_vars[pi][pN] for pi in pois if pi != pN]) == 1, 'EndAt_pN'\n",
    "    pb += pulp.lpSum([visit_vars[pN][pj] for pj in pois]) == 0, 'NoOutgoing_pN'\n",
    "    pb += pulp.lpSum([visit_vars[pi][pj] for pi in pois if pi != pN for pj in pois if pj != p0]) == nPOI-1, 'Length'\n",
    "    for pk in [x for x in pois if x not in {p0, pN}]:\n",
    "        pb += pulp.lpSum([visit_vars[pi][pk] for pi in pois if pi != pN]) == \\\n",
    "                pulp.lpSum([visit_vars[pk][pj] for pj in pois if pj != p0]), 'Connected_' + pk\n",
    "        pb += pulp.lpSum([visit_vars[pi][pk] for pi in pois if pi != pN]) <= 1, 'LeaveAtMostOnce_' + pk\n",
    "        pb += pulp.lpSum([visit_vars[pk][pj] for pj in pois if pj != p0]) <= 1, 'EnterAtMostOnce_' + pk\n",
    "    for pi in [x for x in pois if x != p0]:\n",
    "        for pj in [y for y in pois if y != p0]:\n",
    "            pb += dummy_vars[pi] - dummy_vars[pj] + 1 <= (N - 1) * (1 - visit_vars[pi][pj]), \\\n",
    "                    'SubTourElimination_' + pi + '_' + pj\n",
    "    \n",
    "    # solve problem\n",
    "    pb.solve(pulp.PULP_CBC_CMD(options=['-threads', '6', '-strategy', '1', '-maxIt', '2000000'])) # CBC\n",
    "    visit_mat = pd.DataFrame(data=np.zeros((len(pois), len(pois)), dtype=np.float), index=pois, columns=pois)\n",
    "    for pi in pois:\n",
    "        for pj in pois: visit_mat.loc[pi, pj] = visit_vars[pi][pj].varValue\n",
    "\n",
    "    # build the recommended trajectory\n",
    "    recseq = [p0]\n",
    "    while True:\n",
    "        pi = recseq[-1]\n",
    "        pj = visit_mat.loc[pi].idxmax()\n",
    "        assert(round(visit_mat.loc[pi, pj]) == 1)\n",
    "        recseq.append(pj); \n",
    "        #print(recseq); sys.stdout.flush()\n",
    "        if pj == pN: return [int(x) for x in recseq]"
   ]
  },
  {
   "cell_type": "markdown",
   "metadata": {},
   "source": [
    "<a id='sec6'></a>"
   ]
  },
  {
   "cell_type": "markdown",
   "metadata": {},
   "source": [
    "# 6. Comparison"
   ]
  },
  {
   "cell_type": "markdown",
   "metadata": {},
   "source": [
    "<a id='sec6.1'></a>"
   ]
  },
  {
   "cell_type": "markdown",
   "metadata": {},
   "source": [
    "## 6.1 Evaluation on test set"
   ]
  },
  {
   "cell_type": "markdown",
   "metadata": {},
   "source": [
    "Random guessing."
   ]
  },
  {
   "cell_type": "code",
   "execution_count": 62,
   "metadata": {
    "collapsed": true
   },
   "outputs": [],
   "source": [
    "from scipy.misc import comb\n",
    "from math import factorial\n",
    "def rand_guess(npoi, length):\n",
    "    assert(length <= npoi)\n",
    "    if length == npoi: return 1\n",
    "    N = npoi - 2\n",
    "    m = length - 2 # number of correct POIs\n",
    "    k = m\n",
    "    expected_F1 = 0\n",
    "    while k >= 0:\n",
    "        F1 = (k + 2) / length\n",
    "        prob = comb(m, k) * comb(N-m, m-k) / comb(N, m)\n",
    "        expected_F1 += prob * F1\n",
    "        k -= 1\n",
    "    return expected_F1"
   ]
  },
  {
   "cell_type": "markdown",
   "metadata": {},
   "source": [
    "Sanity check."
   ]
  },
  {
   "cell_type": "code",
   "execution_count": 63,
   "metadata": {
    "collapsed": false
   },
   "outputs": [
    {
     "data": {
      "text/plain": [
       "0.5"
      ]
     },
     "execution_count": 63,
     "metadata": {},
     "output_type": "execute_result"
    }
   ],
   "source": [
    "rand_guess(20, 5)"
   ]
  },
  {
   "cell_type": "markdown",
   "metadata": {},
   "source": [
    "Proposed Method vs. IJCAI15 ILP vs. Random guessing."
   ]
  },
  {
   "cell_type": "code",
   "execution_count": 64,
   "metadata": {
    "collapsed": true
   },
   "outputs": [],
   "source": [
    "test_seqs = [extract_seq(seqid, seq_all) for seqid in seqid_set_test0]"
   ]
  },
  {
   "cell_type": "code",
   "execution_count": 189,
   "metadata": {
    "collapsed": true
   },
   "outputs": [],
   "source": [
    "F1_proposed = []\n",
    "F1_ILP = []\n",
    "#rec_seqs_ILP = []\n",
    "F1_guess = [rand_guess(len(poi_train), len(seq)) for seq in test_seqs]"
   ]
  },
  {
   "cell_type": "code",
   "execution_count": 120,
   "metadata": {
    "collapsed": false,
    "scrolled": true
   },
   "outputs": [
    {
     "name": "stdout",
     "output_type": "stream",
     "text": [
      "Ranking finished in 16.4 sec\n",
      "DP finished in 0.3 sec\n",
      "[21, 23, 30] -> [21, 23, 30]\n",
      "-------------------------------------------------- \n",
      "\n",
      "Ranking finished in 16.3 sec\n",
      "DP finished in 0.5 sec\n",
      "[3, 23, 22, 30] -> [3, 23, 22, 30]\n",
      "-------------------------------------------------- \n",
      "\n",
      "Ranking finished in 16.2 sec\n",
      "DP finished in 0.3 sec\n",
      "[22, 6, 25] -> [22, 28, 25]\n",
      "-------------------------------------------------- \n",
      "\n",
      "Ranking finished in 16.2 sec\n",
      "DP finished in 0.5 sec\n",
      "[7, 16, 4, 8] -> [7, 22, 30, 8]\n",
      "-------------------------------------------------- \n",
      "\n",
      "Ranking finished in 16.3 sec\n",
      "DP finished in 0.3 sec\n",
      "[7, 30, 23] -> [7, 22, 23]\n",
      "-------------------------------------------------- \n",
      "\n",
      "Ranking finished in 16.3 sec\n",
      "DP finished in 0.3 sec\n",
      "[7, 21, 23] -> [7, 22, 23]\n",
      "-------------------------------------------------- \n",
      "\n",
      "Ranking finished in 16.3 sec\n",
      "DP finished in 0.3 sec\n",
      "[7, 23, 21] -> [7, 28, 21]\n",
      "-------------------------------------------------- \n",
      "\n",
      "Ranking finished in 16.3 sec\n",
      "DP finished in 0.5 sec\n",
      "[7, 30, 16, 28] -> [7, 22, 23, 28]\n",
      "-------------------------------------------------- \n",
      "\n",
      "Ranking finished in 16.5 sec\n",
      "DP finished in 0.5 sec\n",
      "[7, 30, 21, 23] -> [7, 22, 28, 23]\n",
      "-------------------------------------------------- \n",
      "\n",
      "Ranking finished in 16.3 sec\n",
      "DP finished in 0.5 sec\n",
      "[30, 22, 29, 16] -> [30, 16, 7, 16]\n",
      "-------------------------------------------------- \n",
      "\n",
      "Ranking finished in 16.1 sec\n",
      "DP finished in 0.5 sec\n",
      "[6, 21, 28, 22] -> [6, 22, 23, 22]\n",
      "-------------------------------------------------- \n",
      "\n",
      "Ranking finished in 16.2 sec\n",
      "DP finished in 0.2 sec\n",
      "[24, 22, 21] -> [24, 30, 21]\n",
      "-------------------------------------------------- \n",
      "\n",
      "Ranking finished in 16.3 sec\n",
      "DP finished in 0.5 sec\n",
      "[21, 23, 22, 28] -> [21, 28, 23, 28]\n",
      "-------------------------------------------------- \n",
      "\n",
      "Ranking finished in 16.2 sec\n",
      "DP finished in 0.3 sec\n",
      "[23, 30, 16] -> [23, 22, 16]\n",
      "-------------------------------------------------- \n",
      "\n",
      "Ranking finished in 16.3 sec\n",
      "DP finished in 0.3 sec\n",
      "[22, 28, 23] -> [22, 28, 23]\n",
      "-------------------------------------------------- \n",
      "\n",
      "Ranking finished in 16.8 sec\n",
      "DP finished in 0.3 sec\n",
      "[27, 29, 23] -> [27, 22, 23]\n",
      "-------------------------------------------------- \n",
      "\n",
      "Ranking finished in 16.6 sec\n",
      "DP finished in 0.7 sec\n",
      "[16, 30, 28, 22, 29] -> [16, 22, 30, 22, 29]\n",
      "-------------------------------------------------- \n",
      "\n",
      "Ranking finished in 16.3 sec\n",
      "DP finished in 0.5 sec\n",
      "[30, 22, 28, 8] -> [30, 22, 16, 8]\n",
      "-------------------------------------------------- \n",
      "\n",
      "Ranking finished in 16.3 sec\n",
      "DP finished in 0.3 sec\n",
      "[4, 2, 17] -> [4, 16, 17]\n",
      "-------------------------------------------------- \n",
      "\n",
      "Ranking finished in 16.6 sec\n",
      "DP finished in 1.0 sec\n",
      "[29, 22, 28, 23, 21, 27] -> [29, 22, 21, 22, 21, 27]\n",
      "-------------------------------------------------- \n",
      "\n",
      "Ranking finished in 16.2 sec\n",
      "DP finished in 0.2 sec\n",
      "[22, 29, 24] -> [22, 30, 24]\n",
      "-------------------------------------------------- \n",
      "\n",
      "Ranking finished in 16.3 sec\n",
      "DP finished in 0.2 sec\n",
      "[22, 28, 3] -> [22, 23, 3]\n",
      "-------------------------------------------------- \n",
      "\n",
      "Ranking finished in 16.4 sec\n",
      "DP finished in 0.5 sec\n",
      "[7, 28, 23, 16] -> [7, 22, 30, 16]\n",
      "-------------------------------------------------- \n",
      "\n",
      "Ranking finished in 16.3 sec\n",
      "DP finished in 0.5 sec\n",
      "[11, 29, 23, 7] -> [11, 22, 28, 7]\n",
      "-------------------------------------------------- \n",
      "\n"
     ]
    }
   ],
   "source": [
    "for seq in test_seqs:\n",
    "    seq_rec = recommend(seqid_set_train0, seq_all, poi_info_t, query_id_dict, seq[0], seq[-1], len(seq), poi_logtransmat)\n",
    "    F1 = calc_F1score(seq, seq_rec)\n",
    "    F1_proposed.append(F1)\n",
    "    print(seq, '->', seq_rec)\n",
    "    print('-'*50, '\\n'); sys.stdout.flush()"
   ]
  },
  {
   "cell_type": "code",
   "execution_count": 190,
   "metadata": {
    "collapsed": false,
    "scrolled": true
   },
   "outputs": [
    {
     "name": "stdout",
     "output_type": "stream",
     "text": [
      "[21, 23, 30] ->\n",
      "         [21, 16, 30] used 0.7 sec, 23 remain to test\n",
      "[3, 23, 22, 30] ->\n",
      "         [3, 16, 22, 30] used 0.5 sec, 22 remain to test\n",
      "[22, 6, 25] ->\n",
      "         [22, 16, 25] used 0.7 sec, 21 remain to test\n",
      "[7, 16, 4, 8] ->\n",
      "         [7, 22, 16, 8] used 0.6 sec, 20 remain to test\n",
      "[7, 30, 23] ->\n",
      "         [7, 28, 23] used 0.7 sec, 19 remain to test\n",
      "[7, 21, 23] ->\n",
      "         [7, 28, 23] used 0.7 sec, 18 remain to test\n",
      "[7, 23, 21] ->\n",
      "         [7, 28, 21] used 0.7 sec, 17 remain to test\n",
      "[7, 30, 16, 28] ->\n",
      "         [7, 22, 16, 28] used 0.6 sec, 16 remain to test\n",
      "[7, 30, 21, 23] ->\n",
      "         [7, 22, 16, 23] used 0.6 sec, 15 remain to test\n",
      "[30, 22, 29, 16] ->\n",
      "         [30, 28, 22, 16] used 0.6 sec, 14 remain to test\n",
      "[6, 21, 28, 22] ->\n",
      "         [6, 21, 16, 22] used 0.7 sec, 13 remain to test\n",
      "[24, 22, 21] ->\n",
      "         [24, 16, 21] used 0.7 sec, 12 remain to test\n",
      "[21, 23, 22, 28] ->\n",
      "         [21, 16, 22, 28] used 0.6 sec, 11 remain to test\n",
      "[23, 30, 16] ->\n",
      "         [23, 22, 16] used 0.7 sec, 10 remain to test\n",
      "[22, 28, 23] ->\n",
      "         [22, 16, 23] used 0.7 sec, 9 remain to test\n",
      "[27, 29, 23] ->\n",
      "         [27, 16, 23] used 0.7 sec, 8 remain to test\n",
      "[16, 30, 28, 22, 29] ->\n",
      "         [16, 21, 22, 28, 29] used 0.6 sec, 7 remain to test\n",
      "[30, 22, 28, 8] ->\n",
      "         [30, 22, 16, 8] used 0.6 sec, 6 remain to test\n",
      "[4, 2, 17] ->\n",
      "         [4, 22, 17] used 0.7 sec, 5 remain to test\n",
      "[29, 22, 28, 23, 21, 27] ->\n",
      "         [29, 21, 30, 28, 22, 27] used 0.6 sec, 4 remain to test\n",
      "[22, 29, 24] ->\n",
      "         [22, 21, 24] used 0.7 sec, 3 remain to test\n",
      "[22, 28, 3] ->\n",
      "         [22, 21, 3] used 0.8 sec, 2 remain to test\n",
      "[7, 28, 23, 16] ->\n",
      "         [7, 21, 22, 16] used 0.6 sec, 1 remain to test\n",
      "[11, 29, 23, 7] ->\n",
      "         [11, 16, 22, 7] used 0.6 sec, 0 remain to test\n"
     ]
    }
   ],
   "source": [
    "time_based = True\n",
    "eta = 0.5\n",
    "cnt = len(seqid_set_test0)\n",
    "the_user_interest = None\n",
    "if time_based == True: \n",
    "    the_user_interest = user_int_t['timeBased'].copy()\n",
    "else: \n",
    "    the_user_interest = user_int_t['freqBased'].copy()\n",
    "for seqid in seqid_set_test0:\n",
    "    seq = extract_seq(seqid, seq_all)\n",
    "    print(seq, '->'); sys.stdout.flush()\n",
    "    t0 = time.time()\n",
    "    user = seq_stats.loc[seqid, 'userID']\n",
    "    seq_ = recommend_ILP(user, the_user_interest, poi_info_t, eta, seq[0], seq[-1], len(seq))\n",
    "    #rec_seqs_ILP.append(seq_)\n",
    "    F1 = calc_F1score(seq, seq_)\n",
    "    F1_ILP.append(F1)\n",
    "    cnt -= 1\n",
    "    print(' '*8, seq_, 'used %.1f sec,' % (time.time() - t0), '%d remain to test' % cnt); sys.stdout.flush()"
   ]
  },
  {
   "cell_type": "code",
   "execution_count": 192,
   "metadata": {
    "collapsed": false
   },
   "outputs": [
    {
     "name": "stdout",
     "output_type": "stream",
     "text": [
      "0.682638888889 0.0845027896026\n"
     ]
    }
   ],
   "source": [
    "print('Proposed:', np.mean(F1_proposed), np.std(F1_proposed))\n",
    "print('IJCAI15 ILP:', np.mean(F1_ILP), np.std(F1_ILP)) # 0.67 when use 'nVisit' instead of 'popularity' in ILP objective\n",
    "print('Random guessing:', np.mean(F1_guess), np.std(F1_guess))"
   ]
  },
  {
   "cell_type": "markdown",
   "metadata": {},
   "source": [
    "<a id='sec6.2'></a>"
   ]
  },
  {
   "cell_type": "markdown",
   "metadata": {},
   "source": [
    "## 6.2 Leave-one-out cross validation"
   ]
  },
  {
   "cell_type": "code",
   "execution_count": 830,
   "metadata": {
    "collapsed": true
   },
   "outputs": [],
   "source": [
    "F1_proposed_cv = []\n",
    "F1_ILP_cv = []\n",
    "F1_ILP2_cv = []\n",
    "F1_guess_cv = []"
   ]
  },
  {
   "cell_type": "code",
   "execution_count": 831,
   "metadata": {
    "collapsed": true
   },
   "outputs": [],
   "source": [
    "seqid_set_cv = seqid_set_exp.copy()\n",
    "#np.random.shuffle(seqid_set_cv)  # NOT necessary"
   ]
  },
  {
   "cell_type": "code",
   "execution_count": 832,
   "metadata": {
    "collapsed": false,
    "scrolled": true
   },
   "outputs": [
    {
     "name": "stdout",
     "output_type": "stream",
     "text": [
      "[1, 30, 7] ->\n",
      "           [1, 16, 7] Proposed: 22.2 sec\n",
      "           [1, 30, 7] ILP: 0.7 sec\n",
      "           [1, 22, 7] ILP2: 0.7 sec\n",
      "[11, 23, 3, 30, 7, 16, 4, 1, 2] ->\n",
      "           [11, 22, 23, 22, 23, 22, 23, 22, 2] Proposed: 23.9 sec\n",
      "           [11, 27, 29, 25, 6, 22, 21, 23, 28, 7, 30, 1, 24, 8, 16, 4, 17, 14, 2] ILP: 3.8 sec\n",
      "           [11, 30, 21, 28, 8, 16, 23, 22, 2] ILP2: 0.6 sec\n",
      "[11, 24, 7] ->\n",
      "           [11, 22, 7] Proposed: 22.4 sec\n",
      "           [11, 29, 21, 23, 28, 16, 8, 30, 7] ILP: 1.9 sec\n",
      "           [11, 22, 7] ILP2: 0.7 sec\n",
      "[11, 29, 23, 7] ->\n",
      "           [11, 22, 28, 7] Proposed: 23.1 sec\n",
      "           [11, 29, 22, 7] ILP: 0.7 sec\n",
      "           [11, 16, 22, 7] ILP2: 0.8 sec\n",
      "[11, 29, 6, 22, 7, 1, 15] ->\n",
      "           [11, 22, 28, 22, 28, 22, 15] Proposed: 23.3 sec\n",
      "           [11, 29, 21, 23, 28, 22, 30, 1, 15] ILP: 0.9 sec\n",
      "           [11, 22, 16, 28, 21, 30, 15] ILP2: 0.7 sec\n",
      "[11, 6, 23, 22] ->\n",
      "           [11, 22, 23, 22] Proposed: 22.9 sec\n",
      "           [11, 3, 21, 23, 28, 1, 4, 22] ILP: 1.6 sec\n",
      "           [11, 16, 28, 22] ILP2: 0.6 sec\n",
      "[13, 4, 16] ->\n",
      "           [13, 22, 16] Proposed: 22.4 sec\n",
      "           [13, 27, 11, 29, 25, 6, 22, 23, 21, 28, 7, 30, 8, 24, 16] ILP: 1.4 sec\n",
      "           [13, 22, 16] ILP2: 0.7 sec\n",
      "[16, 21, 23, 8, 28, 27] ->\n",
      "           [16, 28, 22, 28, 22, 27] Proposed: 23.5 sec\n",
      "           [16, 4, 8, 1, 30, 7, 21, 23, 28, 22, 6, 29, 11, 27] ILP: 1.4 sec\n",
      "           [16, 22, 21, 28, 30, 27] ILP2: 0.8 sec\n",
      "[16, 22, 6] ->\n",
      "           [16, 22, 6] Proposed: 22.6 sec\n",
      "           [16, 22, 6] ILP: 0.8 sec\n",
      "           [16, 22, 6] ILP2: 0.7 sec\n",
      "[16, 30, 21] ->\n",
      "           [16, 22, 21] Proposed: 22.3 sec\n",
      "           [16, 8, 28, 23, 21] ILP: 0.7 sec\n",
      "           [16, 22, 21] ILP2: 0.7 sec\n",
      "[16, 30, 25] ->\n",
      "           [16, 22, 25] Proposed: 22.3 sec\n",
      "           [16, 22, 6, 25] ILP: 1.1 sec\n",
      "           [16, 22, 25] ILP2: 0.7 sec\n",
      "[16, 30, 28, 22, 29] ->\n",
      "           [16, 22, 23, 22, 29] Proposed: 22.7 sec\n",
      "           [16, 30, 28, 22, 29] ILP: 0.8 sec\n",
      "           [16, 22, 28, 30, 29] ILP2: 0.6 sec\n",
      "[16, 4, 22, 28] ->\n",
      "           [16, 7, 22, 28] Proposed: 22.7 sec\n",
      "           [16, 8, 30, 22, 28] ILP: 0.7 sec\n",
      "           [16, 30, 22, 28] ILP2: 0.5 sec\n",
      "[16, 8, 22] ->\n",
      "           [16, 28, 22] Proposed: 22.4 sec\n",
      "           [16, 8, 22] ILP: 0.7 sec\n",
      "           [16, 28, 22] ILP2: 0.7 sec\n",
      "[16, 8, 30] ->\n",
      "           [16, 22, 30] Proposed: 22.2 sec\n",
      "           [16, 8, 30] ILP: 0.6 sec\n",
      "           [16, 22, 30] ILP2: 0.7 sec\n",
      "[2, 14, 17] ->\n",
      "           [2, 14, 17] Proposed: 22.3 sec\n",
      "           [2, 14, 17] ILP: 0.6 sec\n",
      "           [2, 22, 17] ILP2: 0.7 sec\n",
      "[2, 17, 14] ->\n",
      "           [2, 17, 14] Proposed: 22.2 sec\n",
      "           [2, 1, 24, 4, 14] ILP: 1.9 sec\n",
      "           [2, 22, 14] ILP2: 0.7 sec\n",
      "[20, 25, 30] ->\n",
      "           [20, 16, 30] Proposed: 22.9 sec\n",
      "           [20, 4, 16, 8, 30] ILP: 0.9 sec\n",
      "           [20, 22, 30] ILP2: 0.7 sec\n",
      "[21, 11, 22] ->\n",
      "           [21, 23, 22] Proposed: 23.7 sec\n",
      "           [21, 3, 16, 1, 19, 15, 4, 28, 25, 2, 14, 17, 22] ILP: 24.6 sec\n",
      "           [21, 30, 22] ILP2: 0.7 sec\n",
      "[21, 13, 8] ->\n",
      "           [21, 28, 8] Proposed: 22.5 sec\n",
      "           [21, 3, 11, 29, 6, 22, 28, 23, 7, 30, 1, 24, 4, 16, 8] ILP: 2.4 sec\n",
      "           [21, 22, 8] ILP2: 0.7 sec\n",
      "[21, 16, 4] ->\n",
      "           [21, 28, 4] Proposed: 22.5 sec\n",
      "           [21, 22, 4] ILP: 0.7 sec\n",
      "           [21, 22, 4] ILP2: 0.7 sec\n",
      "[21, 22, 6, 16] ->\n",
      "           [21, 23, 28, 16] Proposed: 22.8 sec\n",
      "           [21, 3, 28, 19, 15, 17, 14, 2, 13, 27, 11, 25, 6, 7, 1, 8, 4, 16] ILP: 87.2 sec\n",
      "           [21, 22, 30, 16] ILP2: 0.6 sec\n",
      "[21, 23, 22, 28] ->\n",
      "           [21, 23, 22, 28] Proposed: 22.5 sec\n",
      "           [21, 3, 13, 2, 14, 24, 15, 4, 8, 16, 6, 27, 29, 7, 30, 1, 11, 25, 19, 17, 23, 28] ILP: 3.8 sec\n",
      "           [21, 16, 22, 28] ILP2: 0.6 sec\n",
      "[21, 23, 22] ->\n",
      "           [21, 23, 22] Proposed: 22.8 sec\n",
      "           [21, 23, 22] ILP: 0.6 sec\n",
      "           [21, 16, 22] ILP2: 0.7 sec\n",
      "[21, 23, 27] ->\n",
      "           [21, 28, 27] Proposed: 22.3 sec\n",
      "           [21, 23, 27] ILP: 0.8 sec\n",
      "           [21, 22, 27] ILP2: 0.7 sec\n",
      "[21, 23, 28, 16, 1, 24, 7, 19] ->\n",
      "           [21, 23, 28, 23, 28, 23, 30, 19] Proposed: 23.6 sec\n",
      "           [21, 23, 28, 22, 6, 7, 30, 1, 8, 16, 4, 19] ILP: 2.2 sec\n",
      "           [21, 8, 23, 22, 30, 28, 16, 19] ILP2: 0.6 sec\n",
      "[21, 23, 28, 22, 7] ->\n",
      "           [21, 28, 23, 28, 7] Proposed: 22.8 sec\n",
      "           [21, 23, 28, 22, 7] ILP: 0.7 sec\n",
      "           [21, 28, 16, 22, 7] ILP2: 0.6 sec\n",
      "[21, 23, 28] ->\n",
      "           [21, 23, 28] Proposed: 22.5 sec\n",
      "           [21, 3, 11, 25, 6, 16, 4, 8, 19, 1, 7, 28] ILP: 4.3 sec\n",
      "           [21, 22, 28] ILP2: 0.7 sec\n",
      "[21, 23, 30] ->\n",
      "           [21, 23, 30] Proposed: 22.5 sec\n",
      "           [21, 28, 30] ILP: 0.7 sec\n",
      "           [21, 22, 30] ILP2: 0.7 sec\n",
      "[21, 28, 22, 16] ->\n",
      "           [21, 23, 28, 16] Proposed: 23.0 sec\n",
      "           [21, 28, 22, 16] ILP: 0.7 sec\n",
      "           [21, 30, 22, 16] ILP2: 0.6 sec\n",
      "[21, 30, 8, 16, 4] ->\n",
      "           [21, 28, 23, 28, 4] Proposed: 23.0 sec\n",
      "           [21, 23, 28, 22, 16, 4] ILP: 0.8 sec\n",
      "           [21, 28, 16, 22, 4] ILP2: 0.6 sec\n",
      "[21, 7, 30] ->\n",
      "           [21, 23, 30] Proposed: 22.6 sec\n",
      "           [21, 28, 22, 3, 27, 25, 14, 2, 17, 4, 16, 1, 30] ILP: 13.0 sec\n",
      "           [21, 28, 30] ILP2: 0.7 sec\n",
      "[21, 8, 22, 28, 23] ->\n",
      "           [21, 28, 23, 28, 23] Proposed: 23.4 sec\n",
      "           [21, 22, 16, 8, 28, 23] ILP: 3.1 sec\n",
      "           [21, 30, 16, 22, 23] ILP2: 0.6 sec\n",
      "[22, 21, 3, 28] ->\n",
      "           [22, 23, 22, 28] Proposed: 22.5 sec\n",
      "           [22, 7, 1, 8, 16, 25, 14, 2, 15, 19, 4, 6, 27, 11, 3, 28] ILP: 2.6 sec\n",
      "           [22, 21, 30, 28] ILP2: 0.6 sec\n",
      "[22, 23, 21] ->\n",
      "           [22, 28, 21] Proposed: 22.7 sec\n",
      "           [22, 7, 16, 8, 19, 15, 1, 4, 6, 25, 11, 3, 21] ILP: 2.0 sec\n",
      "           [22, 30, 21] ILP2: 0.7 sec\n",
      "[22, 28, 21] ->\n",
      "           [22, 23, 21] Proposed: 22.4 sec\n",
      "           [22, 28, 21] ILP: 0.7 sec\n",
      "           [22, 16, 21] ILP2: 0.7 sec\n",
      "[22, 28, 23, 21] ->\n",
      "           [22, 28, 23, 21] Proposed: 22.5 sec\n",
      "           [22, 28, 23, 21] ILP: 1.1 sec\n",
      "           [22, 16, 28, 21] ILP2: 0.6 sec\n",
      "[22, 28, 23] ->\n",
      "           [22, 28, 23] Proposed: 22.7 sec\n",
      "           [22, 28, 23] ILP: 0.6 sec\n",
      "           [22, 16, 23] ILP2: 0.7 sec\n",
      "[22, 28, 3] ->\n",
      "           [22, 23, 3] Proposed: 22.6 sec\n",
      "           [22, 7, 15, 19, 4, 16, 8, 6, 25, 27, 11, 3] ILP: 10.3 sec\n",
      "           [22, 21, 3] ILP2: 0.7 sec\n",
      "[22, 28, 4] ->\n",
      "           [22, 16, 4] Proposed: 22.4 sec\n",
      "           [22, 28, 4] ILP: 0.7 sec\n",
      "           [22, 16, 4] ILP2: 0.7 sec\n",
      "[22, 28, 6] ->\n",
      "           [22, 28, 6] Proposed: 22.5 sec\n",
      "           [22, 28, 6] ILP: 0.7 sec\n",
      "           [22, 16, 6] ILP2: 0.7 sec\n",
      "[22, 29, 24] ->\n",
      "           [22, 28, 24] Proposed: 22.5 sec\n",
      "           [22, 14, 2, 15, 19, 8, 4, 16, 25, 13, 11, 27, 3, 6, 7, 1, 24] ILP: 3.7 sec\n",
      "           [22, 21, 24] ILP2: 0.7 sec\n",
      "[22, 30, 7, 1, 16] ->\n",
      "           [22, 28, 22, 28, 16] Proposed: 22.8 sec\n",
      "           [22, 28, 23, 6, 25, 29, 21, 7, 30, 24, 8, 16] ILP: 2.6 sec\n",
      "           [22, 28, 30, 21, 16] ILP2: 0.8 sec\n",
      "[22, 4, 25, 11] ->\n",
      "           [22, 23, 28, 11] Proposed: 22.5 sec\n",
      "           [22, 28, 30, 1, 7, 23, 21, 29, 11] ILP: 3.7 sec\n",
      "           [22, 16, 30, 11] ILP2: 0.6 sec\n",
      "[22, 6, 16] ->\n",
      "           [22, 28, 16] Proposed: 22.2 sec\n",
      "           [22, 23, 28, 30, 8, 16] ILP: 0.7 sec\n",
      "           [22, 28, 16] ILP2: 0.7 sec\n",
      "[22, 6, 25] ->\n",
      "           [22, 28, 25] Proposed: 22.2 sec\n",
      "           [22, 6, 25] ILP: 0.6 sec\n",
      "           [22, 16, 25] ILP2: 0.7 sec\n",
      "[22, 7, 23, 28, 29, 30, 8, 4] ->\n",
      "           [22, 28, 22, 28, 22, 28, 16, 4] Proposed: 23.7 sec\n",
      "           [22, 6, 29, 21, 23, 28, 7, 30, 1, 24, 8, 16, 4] ILP: 2.3 sec\n",
      "           [22, 8, 23, 21, 30, 28, 16, 4] ILP2: 0.6 sec\n",
      "[22, 8, 30, 7, 28, 23, 21, 16] ->\n",
      "           [22, 28, 22, 28, 23, 22, 28, 16] Proposed: 23.3 sec\n",
      "           [22, 6, 21, 23, 28, 7, 30, 1, 8, 4, 16] ILP: 1.5 sec\n",
      "           [22, 30, 28, 23, 21, 8, 7, 16] ILP2: 0.7 sec\n",
      "[23, 13, 1, 22] ->\n",
      "           [23, 22, 28, 22] Proposed: 22.5 sec\n",
      "           [23, 21, 27, 11, 29, 25, 6, 4, 16, 8, 24, 1, 30, 7, 28, 22] ILP: 6.0 sec\n",
      "           [23, 30, 16, 22] ILP2: 0.6 sec\n",
      "[23, 16, 24, 8] ->\n",
      "           [23, 22, 28, 8] Proposed: 22.6 sec\n",
      "           [23, 22, 28, 7, 30, 16, 8] ILP: 0.8 sec\n",
      "           [23, 16, 22, 8] ILP2: 0.6 sec\n",
      "[23, 21, 22] ->\n",
      "           [23, 28, 22] Proposed: 22.4 sec\n",
      "           [23, 28, 22] ILP: 0.7 sec\n",
      "           [23, 16, 22] ILP2: 0.7 sec\n",
      "[23, 22, 21] ->\n",
      "           [23, 28, 21] Proposed: 22.2 sec\n",
      "           [23, 28, 1, 8, 7, 16, 14, 19, 15, 2, 4, 6, 25, 13, 11, 27, 3, 21] ILP: 251.4 sec\n",
      "           [23, 22, 21] ILP2: 0.7 sec\n",
      "[23, 22, 28] ->\n",
      "           [23, 22, 28] Proposed: 22.4 sec\n",
      "           [23, 1, 16, 4, 15, 2, 14, 17, 19, 25, 3, 28] ILP: 2.4 sec\n",
      "           [23, 30, 28] ILP2: 0.7 sec\n",
      "[23, 22, 7] ->\n",
      "           [23, 22, 7] Proposed: 22.2 sec\n",
      "           [23, 3, 27, 25, 16, 4, 1, 7] ILP: 2.7 sec\n",
      "           [23, 28, 7] ILP2: 0.7 sec\n",
      "[23, 28, 30] ->\n",
      "           [23, 22, 30] Proposed: 22.3 sec\n",
      "           [23, 3, 27, 25, 2, 14, 17, 19, 15, 4, 16, 1, 30] ILP: 1.6 sec\n",
      "           [23, 8, 30] ILP2: 0.7 sec\n",
      "[23, 28, 3] ->\n",
      "           [23, 22, 3] Proposed: 22.4 sec\n",
      "           [23, 28, 3] ILP: 0.7 sec\n",
      "           [23, 22, 3] ILP2: 0.7 sec\n",
      "[23, 30, 16] ->\n",
      "           [23, 22, 16] Proposed: 22.3 sec\n",
      "           [23, 28, 8, 16] ILP: 0.7 sec\n",
      "           [23, 22, 16] ILP2: 0.7 sec\n",
      "[24, 16, 6] ->\n",
      "           [24, 22, 6] Proposed: 22.4 sec\n",
      "           [24, 16, 6] ILP: 0.7 sec\n",
      "           [24, 22, 6] ILP2: 0.7 sec\n",
      "[24, 22, 21] ->\n",
      "           [24, 22, 21] Proposed: 22.3 sec\n",
      "           [24, 22, 21] ILP: 0.7 sec\n",
      "           [24, 22, 21] ILP2: 0.7 sec\n",
      "[24, 7, 28] ->\n",
      "           [24, 22, 28] Proposed: 22.2 sec\n",
      "           [24, 2, 14, 17, 15, 19, 22, 21, 3, 27, 25, 4, 16, 1, 28] ILP: 1.1 sec\n",
      "           [24, 30, 28] ILP2: 0.7 sec\n",
      "[25, 29, 8] ->\n",
      "           [25, 22, 8] Proposed: 22.2 sec\n",
      "           [25, 6, 22, 28, 7, 30, 16, 8] ILP: 1.2 sec\n",
      "           [25, 22, 8] ILP2: 0.9 sec\n",
      "[27, 29, 23] ->\n",
      "           [27, 22, 23] Proposed: 22.1 sec\n",
      "           [27, 3, 21, 23] ILP: 0.7 sec\n",
      "           [27, 22, 23] ILP2: 0.7 sec\n",
      "[28, 21, 1] ->\n",
      "           [28, 22, 1] Proposed: 22.4 sec\n",
      "           [28, 23, 22, 30, 1] ILP: 1.0 sec\n",
      "           [28, 22, 1] ILP2: 0.7 sec\n",
      "[28, 22, 16] ->\n",
      "           [28, 22, 16] Proposed: 22.5 sec\n",
      "           [28, 22, 16] ILP: 0.7 sec\n",
      "           [28, 22, 16] ILP2: 0.7 sec\n",
      "[28, 22, 29, 16, 21] ->\n",
      "           [28, 23, 22, 23, 21] Proposed: 22.7 sec\n",
      "           [28, 22, 6, 16, 4, 8, 1, 30, 7, 23, 21] ILP: 4.8 sec\n",
      "           [28, 16, 30, 22, 21] ILP2: 0.6 sec\n",
      "[28, 23, 22] ->\n",
      "           [28, 23, 22] Proposed: 22.6 sec\n",
      "           [28, 23, 22] ILP: 0.6 sec\n",
      "           [28, 16, 22] ILP2: 0.7 sec\n",
      "[28, 7, 27] ->\n",
      "           [28, 22, 27] Proposed: 22.2 sec\n",
      "           [28, 23, 22, 21, 29, 11, 27] ILP: 1.4 sec\n",
      "           [28, 22, 27] ILP2: 0.7 sec\n",
      "[29, 22, 28, 23, 21, 27] ->\n",
      "           [29, 22, 21, 22, 21, 27] Proposed: 23.4 sec\n",
      "           [29, 6, 25, 2, 19, 15, 4, 16, 8, 1, 30, 7, 28, 23, 21, 3, 11, 27] ILP: 2058.7 sec\n",
      "           [29, 21, 30, 28, 22, 27] ILP2: 0.6 sec\n",
      "[3, 21, 22, 25] ->\n",
      "           [3, 22, 28, 25] Proposed: 22.6 sec\n",
      "           [3, 27, 13, 11, 29, 6, 28, 23, 7, 1, 16, 4, 8, 19, 2, 14, 25] ILP: 263.3 sec\n",
      "           [3, 22, 21, 25] ILP2: 0.6 sec\n",
      "[3, 21, 22] ->\n",
      "           [3, 23, 22] Proposed: 22.5 sec\n",
      "           [3, 21, 22] ILP: 0.6 sec\n",
      "           [3, 16, 22] ILP2: 0.7 sec\n",
      "[3, 21, 23, 28, 7, 30, 22] ->\n",
      "           [3, 22, 28, 23, 22, 23, 22] Proposed: 23.4 sec\n",
      "           [3, 11, 29, 27, 21, 23, 28, 7, 1, 16, 4, 8, 15, 19, 14, 2, 25, 6, 22] ILP: 3927.2 sec\n",
      "           [3, 23, 21, 20, 30, 28, 22] ILP2: 0.6 sec\n",
      "[3, 23, 22, 30] ->\n",
      "           [3, 22, 23, 30] Proposed: 22.5 sec\n",
      "           [3, 21, 23, 28, 30] ILP: 0.7 sec\n",
      "           [3, 16, 22, 30] ILP2: 0.6 sec\n",
      "[30, 16, 4, 1] ->\n",
      "           [30, 7, 16, 1] Proposed: 23.3 sec\n",
      "           [30, 8, 16, 1] ILP: 1.2 sec\n",
      "           [30, 16, 22, 1] ILP2: 0.6 sec\n",
      "[30, 16, 8, 21] ->\n",
      "           [30, 22, 23, 21] Proposed: 22.4 sec\n",
      "           [30, 1, 7, 28, 22, 23, 21] ILP: 1.2 sec\n",
      "           [30, 16, 22, 21] ILP2: 0.6 sec\n",
      "[30, 16, 8, 4] ->\n",
      "           [30, 7, 16, 4] Proposed: 22.4 sec\n",
      "           [30, 8, 16, 4] ILP: 0.7 sec\n",
      "           [30, 16, 22, 4] ILP2: 0.6 sec\n",
      "[30, 22, 28, 8] ->\n",
      "           [30, 16, 22, 8] Proposed: 22.5 sec\n",
      "           [30, 7, 1, 16, 4, 8] ILP: 1.0 sec\n",
      "           [30, 16, 22, 8] ILP2: 0.6 sec\n",
      "[30, 22, 29, 16] ->\n",
      "           [30, 22, 7, 16] Proposed: 22.5 sec\n",
      "           [30, 23, 21, 22, 28, 7, 1, 8, 4, 16] ILP: 2.5 sec\n",
      "           [30, 28, 22, 16] ILP2: 0.6 sec\n",
      "[30, 22, 7] ->\n",
      "           [30, 22, 7] Proposed: 22.4 sec\n",
      "           [30, 1, 4, 16, 15, 17, 2, 14, 25, 3, 19, 7] ILP: 3.7 sec\n",
      "           [30, 8, 7] ILP2: 0.7 sec\n",
      "[30, 23, 21, 22] ->\n",
      "           [30, 22, 23, 22] Proposed: 22.6 sec\n",
      "           [30, 7, 23, 28, 22] ILP: 0.8 sec\n",
      "           [30, 16, 28, 22] ILP2: 0.6 sec\n",
      "[30, 23, 21] ->\n",
      "           [30, 23, 21] Proposed: 22.5 sec\n",
      "           [30, 28, 21] ILP: 0.7 sec\n",
      "           [30, 22, 21] ILP2: 0.7 sec\n",
      "[30, 25, 11] ->\n",
      "           [30, 22, 11] Proposed: 22.3 sec\n",
      "           [30, 22, 28, 23, 21, 29, 11] ILP: 1.0 sec\n",
      "           [30, 22, 11] ILP2: 0.7 sec\n",
      "[30, 7, 16] ->\n",
      "           [30, 7, 16] Proposed: 22.1 sec\n",
      "           [30, 8, 4, 16] ILP: 0.8 sec\n",
      "           [30, 22, 16] ILP2: 0.7 sec\n",
      "[30, 7, 21] ->\n",
      "           [30, 23, 21] Proposed: 22.5 sec\n",
      "           [30, 1, 19, 15, 14, 2, 17, 4, 16, 25, 27, 3, 28, 22, 21] ILP: 10.2 sec\n",
      "           [30, 28, 21] ILP2: 0.7 sec\n",
      "[4, 16, 8] ->\n",
      "           [4, 16, 8] Proposed: 22.2 sec\n",
      "           [4, 16, 8] ILP: 0.6 sec\n",
      "           [4, 22, 8] ILP2: 0.7 sec\n",
      "[4, 2, 17] ->\n",
      "           [4, 16, 17] Proposed: 22.2 sec\n",
      "           [4, 16, 14, 17] ILP: 0.7 sec\n",
      "           [4, 22, 17] ILP2: 0.7 sec\n",
      "[4, 30, 7] ->\n",
      "           [4, 16, 7] Proposed: 22.3 sec\n",
      "           [4, 6, 16, 8, 28, 3, 27, 13, 11, 25, 14, 17, 2, 15, 19, 1, 7] ILP: 28.7 sec\n",
      "           [4, 22, 7] ILP2: 0.7 sec\n",
      "[6, 11, 21, 28] ->\n",
      "           [6, 23, 22, 28] Proposed: 22.3 sec\n",
      "           [6, 16, 8, 30, 7, 23, 22, 28] ILP: 2.5 sec\n",
      "           [6, 16, 22, 28] ILP2: 0.6 sec\n",
      "[6, 13, 11] ->\n",
      "           [6, 22, 11] Proposed: 22.1 sec\n",
      "           [6, 22, 30, 7, 28, 23, 21, 29, 11] ILP: 4.5 sec\n",
      "           [6, 22, 11] ILP2: 0.7 sec\n",
      "[6, 16, 11, 4, 8] ->\n",
      "           [6, 22, 28, 22, 8] Proposed: 22.9 sec\n",
      "           [6, 29, 11, 3, 21, 23, 22, 28, 7, 30, 1, 24, 4, 16, 8] ILP: 1.5 sec\n",
      "           [6, 28, 16, 22, 8] ILP2: 0.6 sec\n",
      "[6, 21, 28, 22] ->\n",
      "           [6, 22, 28, 22] Proposed: 22.3 sec\n",
      "           [6, 21, 28, 22] ILP: 0.9 sec\n",
      "           [6, 16, 30, 22] ILP2: 0.8 sec\n",
      "[6, 22, 28, 21, 23, 30, 7] ->\n",
      "           [6, 22, 28, 22, 28, 22, 7] Proposed: 23.2 sec\n",
      "           [6, 25, 11, 27, 3, 28, 21, 23, 22, 16, 8, 4, 14, 15, 19, 24, 1, 7] ILP: 22220.0 sec\n",
      "           [6, 21, 30, 28, 16, 22, 7] ILP2: 0.6 sec\n",
      "[6, 22, 28, 21] ->\n",
      "           [6, 22, 23, 21] Proposed: 23.2 sec\n",
      "           [6, 22, 28, 21] ILP: 0.7 sec\n",
      "           [6, 16, 22, 21] ILP2: 0.6 sec\n",
      "[6, 22, 28] ->\n",
      "           [6, 22, 28] Proposed: 22.2 sec\n",
      "           [6, 22, 28] ILP: 0.6 sec\n",
      "           [6, 22, 28] ILP2: 0.7 sec\n",
      "[7, 16, 4, 8] ->\n",
      "           [7, 22, 30, 8] Proposed: 22.5 sec\n",
      "           [7, 28, 6, 22, 21, 23, 30, 16, 8] ILP: 2.6 sec\n",
      "           [7, 16, 22, 8] ILP2: 0.6 sec\n",
      "[7, 16, 8] ->\n",
      "           [7, 30, 8] Proposed: 22.6 sec\n",
      "           [7, 16, 8] ILP: 0.6 sec\n",
      "           [7, 22, 8] ILP2: 0.7 sec\n",
      "[7, 21, 22] ->\n",
      "           [7, 28, 22] Proposed: 22.4 sec\n",
      "           [7, 1, 16, 4, 25, 22] ILP: 1.2 sec\n",
      "           [7, 28, 22] ILP2: 0.7 sec\n",
      "[7, 21, 23] ->\n",
      "           [7, 22, 23] Proposed: 22.3 sec\n",
      "           [7, 1, 16, 4, 19, 2, 17, 14, 25, 3, 23] ILP: 2.0 sec\n",
      "           [7, 30, 23] ILP2: 0.7 sec\n",
      "[7, 22, 23, 3] ->\n",
      "           [7, 22, 28, 3] Proposed: 22.5 sec\n",
      "           [7, 28, 17, 4, 15, 19, 16, 8, 1, 6, 11, 2, 14, 25, 23, 27, 13, 3] ILP: 1.4 sec\n",
      "           [7, 22, 21, 3] ILP2: 0.6 sec\n",
      "[7, 22, 23] ->\n",
      "           [7, 22, 23] Proposed: 22.5 sec\n",
      "           [7, 1, 16, 4, 15, 19, 14, 17, 2, 25, 3, 23] ILP: 3.5 sec\n",
      "           [7, 30, 23] ILP2: 0.7 sec\n",
      "[7, 22, 28] ->\n",
      "           [7, 22, 28] Proposed: 22.3 sec\n",
      "           [7, 22, 28] ILP: 0.6 sec\n",
      "           [7, 22, 28] ILP2: 0.7 sec\n",
      "[7, 23, 21, 30] ->\n",
      "           [7, 30, 22, 30] Proposed: 22.7 sec\n",
      "           [7, 22, 25, 15, 19, 14, 2, 17, 27, 3, 21, 16, 4, 1, 30] ILP: 13.8 sec\n",
      "           [7, 22, 28, 30] ILP2: 0.6 sec\n",
      "[7, 23, 21] ->\n",
      "           [7, 28, 21] Proposed: 22.3 sec\n",
      "           [7, 1, 16, 4, 14, 17, 25, 27, 3, 22, 21] ILP: 6.4 sec\n",
      "           [7, 30, 21] ILP2: 0.7 sec\n",
      "[7, 23, 28, 30] ->\n",
      "           [7, 30, 22, 30] Proposed: 22.5 sec\n",
      "           [7, 1, 16, 4, 17, 2, 14, 25, 27, 3, 22, 28, 30] ILP: 5.2 sec\n",
      "           [7, 8, 22, 30] ILP2: 0.6 sec\n",
      "[7, 28, 22] ->\n",
      "           [7, 28, 22] Proposed: 22.4 sec\n",
      "           [7, 16, 8, 1, 15, 19, 4, 6, 25, 27, 11, 3, 22] ILP: 4.6 sec\n",
      "           [7, 21, 22] ILP2: 0.7 sec\n",
      "[7, 28, 23, 16] ->\n",
      "           [7, 22, 30, 16] Proposed: 22.4 sec\n",
      "           [7, 28, 22, 8, 16] ILP: 1.6 sec\n",
      "           [7, 22, 28, 16] ILP2: 0.6 sec\n",
      "[7, 30, 16, 28] ->\n",
      "           [7, 23, 22, 28] Proposed: 23.2 sec\n",
      "           [7, 30, 22, 23, 28] ILP: 1.1 sec\n",
      "           [7, 16, 22, 28] ILP2: 0.6 sec\n",
      "[7, 30, 21, 23] ->\n",
      "           [7, 22, 28, 23] Proposed: 22.4 sec\n",
      "           [7, 30, 22, 28, 23] ILP: 0.7 sec\n",
      "           [7, 22, 16, 23] ILP2: 0.6 sec\n",
      "[7, 30, 23] ->\n",
      "           [7, 22, 23] Proposed: 22.3 sec\n",
      "           [7, 1, 16, 4, 19, 15, 17, 2, 14, 25, 22, 27, 3, 28, 23] ILP: 25.7 sec\n",
      "           [7, 30, 23] ILP2: 0.7 sec\n",
      "[7, 30, 6] ->\n",
      "           [7, 22, 6] Proposed: 22.2 sec\n",
      "           [7, 28, 22, 6] ILP: 0.7 sec\n",
      "           [7, 22, 6] ILP2: 0.7 sec\n",
      "[7, 30, 8, 28, 22] ->\n",
      "           [7, 22, 28, 23, 22] Proposed: 22.8 sec\n",
      "           [7, 30, 21, 23, 28, 22] ILP: 1.2 sec\n",
      "           [7, 16, 28, 30, 22] ILP2: 0.7 sec\n",
      "[7, 30, 8] ->\n",
      "           [7, 30, 8] Proposed: 22.6 sec\n",
      "           [7, 30, 8] ILP: 0.6 sec\n",
      "           [7, 22, 8] ILP2: 0.7 sec\n",
      "[7, 8, 16] ->\n",
      "           [7, 30, 16] Proposed: 22.3 sec\n",
      "           [7, 30, 16] ILP: 0.6 sec\n",
      "           [7, 22, 16] ILP2: 0.7 sec\n",
      "[8, 16, 13] ->\n",
      "           [8, 22, 13] Proposed: 22.4 sec\n",
      "           [8, 1, 24, 4, 22, 28, 23, 21, 3, 25, 27, 13] ILP: 1.2 sec\n",
      "           [8, 16, 13] ILP2: 0.7 sec\n",
      "[8, 16, 1] ->\n",
      "           [8, 16, 1] Proposed: 22.3 sec\n",
      "           [8, 16, 1] ILP: 0.6 sec\n",
      "           [8, 22, 1] ILP2: 0.7 sec\n",
      "[8, 16, 22] ->\n",
      "           [8, 28, 22] Proposed: 23.0 sec\n",
      "           [8, 16, 22] ILP: 0.7 sec\n",
      "           [8, 16, 22] ILP2: 0.7 sec\n",
      "[8, 4, 16] ->\n",
      "           [8, 30, 16] Proposed: 22.2 sec\n",
      "           [8, 4, 16] ILP: 0.6 sec\n",
      "           [8, 22, 16] ILP2: 0.7 sec\n"
     ]
    }
   ],
   "source": [
    "poi_info_ = calc_poi_info(seqid_set_cv, seq_all, poi_all) # use all dataset to compute aggregated features\n",
    "poi_dist_mat = calc_dist_mat(poi_info_)\n",
    "eta = 0.5\n",
    "for i in range(len(seqid_set_cv)):\n",
    "    seqid_set_train = seqid_set_cv[:i] + seqid_set_cv[i+1:]\n",
    "    seqid = seqid_set_cv[i]\n",
    "    seq_ = extract_seq(seqid, seq_all)\n",
    "    # some POI in sequence, e.g. 20 in [20, 25, 30], not exist in training set\n",
    "    # NOTE: only sequence [11, 29, 6, 22, 7, 1, 15] (seqid:5964 in seqid_set_exp) contains POI '15'\n",
    "    #poi_info_ = calc_poi_info(seqid_set_train, seq_all, poi_all)\n",
    "    print(seq_, '->'); sys.stdout.flush()\n",
    "    t0 = time.time()\n",
    "    \n",
    "    # proposed method\n",
    "    poi_logtransmat = gen_poi_logtransmat(seqid_set_train, seq_all, poi_info_)\n",
    "    seq_r1 = recommend(seqid_set_train, seq_all, poi_info_, query_id_dict, seq_[0], seq_[-1], len(seq_), poi_logtransmat)\n",
    "    \n",
    "    t1 = time.time()\n",
    "    print(' '*10, seq_r1, 'Proposed: %.1f sec' % (t1 - t0)); sys.stdout.flush()\n",
    "    F1_proposed_cv.append(calc_F1score(seq_, seq_r1))\n",
    "    \n",
    "    # ILP\n",
    "    user_int_ = calc_user_interest(seqid_set_train, seq_all, poi_all, poi_info_) \n",
    "    the_user_interest = user_int_['timeBased'].copy()\n",
    "    user = seq_stats.loc[seqid, 'userID']\n",
    "    budget = calc_seq_budget(user, seq_, poi_info_, poi_dist_mat, the_user_interest)\n",
    "    seq_r2 = recommend_ILP(user, budget, eta, seq_[0], seq_[-1], poi_info_, poi_dist_mat, the_user_interest)\n",
    "    \n",
    "    t2 = time.time()\n",
    "    print(' '*10, seq_r2, 'ILP: %.1f sec' % (t2 - t1)); sys.stdout.flush()\n",
    "    F1_ILP_cv.append(calc_F1score(seq_, seq_r2))\n",
    "    \n",
    "    # ILP2\n",
    "    seq_r3 = recommend_ILP2(user, the_user_interest, poi_info_, eta, seq_[0], seq_[-1], len(seq_))\n",
    "    \n",
    "    print(' '*10, seq_r3, 'ILP2: %.1f sec' % (time.time() - t2)); sys.stdout.flush()\n",
    "    F1_ILP2_cv.append(calc_F1score(seq_, seq_r3))\n",
    "    \n",
    "    # Random guessing\n",
    "    F1_guess_cv.append(rand_guess(poi_info_.shape[0], len(seq_)))"
   ]
  },
  {
   "cell_type": "code",
   "execution_count": 833,
   "metadata": {
    "collapsed": false
   },
   "outputs": [
    {
     "name": "stdout",
     "output_type": "stream",
     "text": [
      "Proposed: 0.729412445792 0.166537040144\n",
      "IJCAI15 ILP: 0.604779794109 0.292807962858\n",
      "IJCAI15 ILP2: 0.702931718664 0.125695310026\n",
      "Random guessing: 0.616263621436 0.0844841130269\n"
     ]
    }
   ],
   "source": [
    "print('Proposed:', np.mean(F1_proposed_cv), np.std(F1_proposed_cv))\n",
    "print('IJCAI15 ILP:', np.mean(F1_ILP_cv), np.std(F1_ILP_cv))\n",
    "print('ILP2:', np.mean(F1_ILP2_cv), np.std(F1_ILP2_cv))\n",
    "print('Random guessing:', np.mean(F1_guess_cv), np.std(F1_guess_cv))"
   ]
  }
 ],
 "metadata": {
  "kernelspec": {
   "display_name": "Python 3",
   "language": "python",
   "name": "python3"
  },
  "language_info": {
   "codemirror_mode": {
    "name": "ipython",
    "version": 3
   },
   "file_extension": ".py",
   "mimetype": "text/x-python",
   "name": "python",
   "nbconvert_exporter": "python",
   "pygments_lexer": "ipython3",
   "version": "3.5.1"
  }
 },
 "nbformat": 4,
 "nbformat_minor": 0
}
