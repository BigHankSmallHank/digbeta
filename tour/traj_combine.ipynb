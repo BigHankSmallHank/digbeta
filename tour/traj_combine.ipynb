{
 "cells": [
  {
   "cell_type": "markdown",
   "metadata": {},
   "source": [
    "# Trajectory Recommendation"
   ]
  },
  {
   "cell_type": "markdown",
   "metadata": {},
   "source": [
    "<a id='toc'></a>"
   ]
  },
  {
   "cell_type": "markdown",
   "metadata": {},
   "source": [
    "[Table of Contents](#toc)\n",
    "1. [Preprocess Dataset](#sec1)\n",
    "  1. [Load Data](#sec1.1)\n",
    "  1. [Compute POI Information](#sec1.2)\n",
    "  1. [Construct Travelling Sequences](#sec1.3)\n",
    "  1. [Train vs. Test Data](#sec1.4)\n",
    "\n",
    "1. [User Agnostic POI Ranking](#sec2)\n",
    "  1. [POI Features for Ranking](#sec2.1)\n",
    "  1. [Training DataFrame](#sec2.2)\n",
    "  1. [Test DataFrame](#sec2.3)\n",
    "  1. [Platt Scaling](#sec2.4)\n",
    "  1. [Ranking POIs using rankSVM](#sec2.5)\n",
    "\n",
    "1. [Factorise Transition Probabilities in POI Feature Space](#sec3)\n",
    "  1. [POI Features for Factorisation](#sec3.1)\n",
    "  1. [Transition Matrix between POI Cateogries](#sec3.2)\n",
    "  1. [Transition Matrix between POI Popularity Classes](#sec3.3)\n",
    "  1. [Transition Matrix between POI Average Visit Duration Classes](#sec3.4)\n",
    "  1. [Transition Matrix between POI Neighborhood Classes](#sec3.5)\n",
    "  1. [Transition Matrix between POI Features](#sec3.6)\n",
    "\n",
    "1. [Combine Ranking with Factorised Markov Chain to Recommend](#sec4)\n",
    "1. [Evaluation](#sec5)"
   ]
  },
  {
   "cell_type": "markdown",
   "metadata": {},
   "source": [
    "<a id='sec1'></a>"
   ]
  },
  {
   "cell_type": "markdown",
   "metadata": {},
   "source": [
    "# 1. Preprocess Dataset"
   ]
  },
  {
   "cell_type": "code",
   "execution_count": 118,
   "metadata": {
    "collapsed": false
   },
   "outputs": [],
   "source": [
    "% matplotlib inline\n",
    "\n",
    "import os, re, sys, time, pickle, tempfile\n",
    "import math, random, itertools, scipy\n",
    "import pandas as pd\n",
    "import numpy as np\n",
    "import matplotlib.pyplot as plt\n",
    "import scipy.optimize as sop\n",
    "from scipy.linalg import kron\n",
    "from scipy.misc import logsumexp\n",
    "from joblib import Parallel, delayed\n",
    "from numba import jit\n",
    "from sklearn.cluster import KMeans"
   ]
  },
  {
   "cell_type": "code",
   "execution_count": 119,
   "metadata": {
    "collapsed": true
   },
   "outputs": [],
   "source": [
    "random.seed(987654321) # control random choice when splitting training/testing set\n",
    "np.random.seed(987654321)\n",
    "ranksvm_dir = '$HOME/work/ranksvm'"
   ]
  },
  {
   "cell_type": "code",
   "execution_count": 120,
   "metadata": {
    "collapsed": true
   },
   "outputs": [],
   "source": [
    "def print_progress(cnt, total):\n",
    "    \"\"\"\n",
    "    Display a progress bar.\n",
    "    \"\"\"\n",
    "    assert(cnt > 0 and total > 0 and cnt <= total)\n",
    "    length = 80\n",
    "    ratio = cnt / total\n",
    "    n = int(length * ratio)\n",
    "    sys.stdout.write('\\r[%-80s] %d%%' % ('-'*n, int(ratio*100)))\n",
    "    sys.stdout.flush()"
   ]
  },
  {
   "cell_type": "code",
   "execution_count": 121,
   "metadata": {
    "collapsed": true
   },
   "outputs": [],
   "source": [
    "data_dir = 'data/data-ijcai15'\n",
    "#fvisit = os.path.join(data_dir, 'userVisits-Osak.csv')\n",
    "#fcoord = os.path.join(data_dir, 'photoCoords-Osak.csv')\n",
    "#fvisit = os.path.join(data_dir, 'userVisits-Glas.csv')\n",
    "#fcoord = os.path.join(data_dir, 'photoCoords-Glas.csv')\n",
    "#fvisit = os.path.join(data_dir, 'userVisits-Edin.csv')\n",
    "#fcoord = os.path.join(data_dir, 'photoCoords-Edin.csv')\n",
    "fvisit = os.path.join(data_dir, 'userVisits-Toro.csv')\n",
    "fcoord = os.path.join(data_dir, 'photoCoords-Toro.csv')"
   ]
  },
  {
   "cell_type": "code",
   "execution_count": 122,
   "metadata": {
    "collapsed": true
   },
   "outputs": [],
   "source": [
    "suffix = fvisit.split('-')[-1].split('.')[0]\n",
    "fseqpart = os.path.join(data_dir, 'seqPart-combine-' + suffix + '.pkl')\n",
    "#fF1data = os.path.join(data_dir, 'F1-combine-' + suffix + '.pkl')\n",
    "#fmlikeseq = os.path.join(data_dir, 'mlike-seq-' + suffix + '.pkl')"
   ]
  },
  {
   "cell_type": "markdown",
   "metadata": {},
   "source": [
    "<a id='sec1.1'></a>"
   ]
  },
  {
   "cell_type": "markdown",
   "metadata": {},
   "source": [
    "## 1.1 Load Data"
   ]
  },
  {
   "cell_type": "code",
   "execution_count": 123,
   "metadata": {
    "collapsed": true
   },
   "outputs": [],
   "source": [
    "visits = pd.read_csv(fvisit, sep=';')\n",
    "coords = pd.read_csv(fcoord, sep=';')\n",
    "assert(visits.shape[0] == coords.shape[0])\n",
    "traj = pd.merge(visits, coords, on='photoID') # merge data frames according to column 'photoID'\n",
    "#traj.head()"
   ]
  },
  {
   "cell_type": "code",
   "execution_count": 124,
   "metadata": {
    "collapsed": false
   },
   "outputs": [
    {
     "data": {
      "text/html": [
       "<div>\n",
       "<table border=\"1\" class=\"dataframe\">\n",
       "  <thead>\n",
       "    <tr style=\"text-align: right;\">\n",
       "      <th></th>\n",
       "      <th>#photo</th>\n",
       "      <th>#photo/user</th>\n",
       "      <th>#poi</th>\n",
       "      <th>#seq</th>\n",
       "      <th>#seq/user</th>\n",
       "      <th>#user</th>\n",
       "    </tr>\n",
       "  </thead>\n",
       "  <tbody>\n",
       "    <tr>\n",
       "      <th>Toro</th>\n",
       "      <td>39419</td>\n",
       "      <td>28.257348</td>\n",
       "      <td>29</td>\n",
       "      <td>6057</td>\n",
       "      <td>4.341935</td>\n",
       "      <td>1395</td>\n",
       "    </tr>\n",
       "  </tbody>\n",
       "</table>\n",
       "</div>"
      ],
      "text/plain": [
       "      #photo  #photo/user  #poi  #seq  #seq/user  #user\n",
       "Toro   39419    28.257348    29  6057   4.341935   1395"
      ]
     },
     "execution_count": 124,
     "metadata": {},
     "output_type": "execute_result"
    }
   ],
   "source": [
    "num_photo = traj['photoID'].unique().shape[0]\n",
    "num_user = traj['userID'].unique().shape[0]\n",
    "num_poi = traj['poiID'].unique().shape[0]\n",
    "num_seq = traj['seqID'].unique().shape[0]\n",
    "pd.DataFrame({'#photo': num_photo, '#user': num_user, '#poi': num_poi, '#seq': num_seq, \\\n",
    "              '#photo/user': num_photo/num_user, '#seq/user': num_seq/num_user}, index=[str(suffix)])"
   ]
  },
  {
   "cell_type": "markdown",
   "metadata": {},
   "source": [
    "<a id='sec1.2'></a>"
   ]
  },
  {
   "cell_type": "markdown",
   "metadata": {},
   "source": [
    "## 1.2 Compute POI Information"
   ]
  },
  {
   "cell_type": "markdown",
   "metadata": {},
   "source": [
    "Compute POI (Longitude, Latitude) as the average coordinates of the assigned photos."
   ]
  },
  {
   "cell_type": "code",
   "execution_count": 125,
   "metadata": {
    "collapsed": true
   },
   "outputs": [],
   "source": [
    "poi_coords = traj[['poiID', 'photoLon', 'photoLat']].groupby('poiID').mean()\n",
    "poi_coords.reset_index(inplace=True)\n",
    "poi_coords.rename(columns={'photoLon':'poiLon', 'photoLat':'poiLat'}, inplace=True)"
   ]
  },
  {
   "cell_type": "markdown",
   "metadata": {},
   "source": [
    "Extract POI category and visiting frequency."
   ]
  },
  {
   "cell_type": "code",
   "execution_count": 126,
   "metadata": {
    "collapsed": true
   },
   "outputs": [],
   "source": [
    "poi_catfreq = traj[['poiID', 'poiTheme', 'poiFreq']].groupby('poiID').first()\n",
    "poi_catfreq.reset_index(inplace=True)"
   ]
  },
  {
   "cell_type": "code",
   "execution_count": 127,
   "metadata": {
    "collapsed": false
   },
   "outputs": [
    {
     "data": {
      "text/html": [
       "<div>\n",
       "<table border=\"1\" class=\"dataframe\">\n",
       "  <thead>\n",
       "    <tr style=\"text-align: right;\">\n",
       "      <th></th>\n",
       "      <th>poiTheme</th>\n",
       "      <th>poiFreq</th>\n",
       "      <th>poiLon</th>\n",
       "      <th>poiLat</th>\n",
       "    </tr>\n",
       "    <tr>\n",
       "      <th>poiID</th>\n",
       "      <th></th>\n",
       "      <th></th>\n",
       "      <th></th>\n",
       "      <th></th>\n",
       "    </tr>\n",
       "  </thead>\n",
       "  <tbody>\n",
       "    <tr>\n",
       "      <th>1</th>\n",
       "      <td>Sport</td>\n",
       "      <td>3506</td>\n",
       "      <td>-79.379243</td>\n",
       "      <td>43.643183</td>\n",
       "    </tr>\n",
       "    <tr>\n",
       "      <th>2</th>\n",
       "      <td>Sport</td>\n",
       "      <td>609</td>\n",
       "      <td>-79.418634</td>\n",
       "      <td>43.632772</td>\n",
       "    </tr>\n",
       "    <tr>\n",
       "      <th>3</th>\n",
       "      <td>Sport</td>\n",
       "      <td>688</td>\n",
       "      <td>-79.380045</td>\n",
       "      <td>43.662175</td>\n",
       "    </tr>\n",
       "    <tr>\n",
       "      <th>4</th>\n",
       "      <td>Sport</td>\n",
       "      <td>3056</td>\n",
       "      <td>-79.389290</td>\n",
       "      <td>43.641297</td>\n",
       "    </tr>\n",
       "    <tr>\n",
       "      <th>6</th>\n",
       "      <td>Cultural</td>\n",
       "      <td>986</td>\n",
       "      <td>-79.392396</td>\n",
       "      <td>43.653662</td>\n",
       "    </tr>\n",
       "  </tbody>\n",
       "</table>\n",
       "</div>"
      ],
      "text/plain": [
       "       poiTheme  poiFreq     poiLon     poiLat\n",
       "poiID                                         \n",
       "1         Sport     3506 -79.379243  43.643183\n",
       "2         Sport      609 -79.418634  43.632772\n",
       "3         Sport      688 -79.380045  43.662175\n",
       "4         Sport     3056 -79.389290  43.641297\n",
       "6      Cultural      986 -79.392396  43.653662"
      ]
     },
     "execution_count": 127,
     "metadata": {},
     "output_type": "execute_result"
    }
   ],
   "source": [
    "poi_all = pd.merge(poi_catfreq, poi_coords, on='poiID')\n",
    "poi_all.set_index('poiID', inplace=True)\n",
    "poi_all.head()\n",
    "#poi_all.to_csv(fpoi, index=True)"
   ]
  },
  {
   "cell_type": "markdown",
   "metadata": {},
   "source": [
    "<a id='sec1.3'></a>"
   ]
  },
  {
   "cell_type": "markdown",
   "metadata": {},
   "source": [
    "## 1.3 Construct Travelling Sequences"
   ]
  },
  {
   "cell_type": "code",
   "execution_count": 128,
   "metadata": {
    "collapsed": false
   },
   "outputs": [
    {
     "data": {
      "text/html": [
       "<div>\n",
       "<table border=\"1\" class=\"dataframe\">\n",
       "  <thead>\n",
       "    <tr style=\"text-align: right;\">\n",
       "      <th></th>\n",
       "      <th>userID</th>\n",
       "      <th>seqID</th>\n",
       "      <th>poiID</th>\n",
       "      <th>arrivalTime</th>\n",
       "      <th>departureTime</th>\n",
       "      <th>#photo</th>\n",
       "      <th>poiDuration(sec)</th>\n",
       "    </tr>\n",
       "  </thead>\n",
       "  <tbody>\n",
       "    <tr>\n",
       "      <th>0</th>\n",
       "      <td>10007579@N00</td>\n",
       "      <td>1</td>\n",
       "      <td>30</td>\n",
       "      <td>1346844688</td>\n",
       "      <td>1346844688</td>\n",
       "      <td>1</td>\n",
       "      <td>0</td>\n",
       "    </tr>\n",
       "    <tr>\n",
       "      <th>1</th>\n",
       "      <td>10012675@N05</td>\n",
       "      <td>2</td>\n",
       "      <td>6</td>\n",
       "      <td>1142731848</td>\n",
       "      <td>1142732445</td>\n",
       "      <td>4</td>\n",
       "      <td>597</td>\n",
       "    </tr>\n",
       "    <tr>\n",
       "      <th>2</th>\n",
       "      <td>10012675@N05</td>\n",
       "      <td>3</td>\n",
       "      <td>6</td>\n",
       "      <td>1142916492</td>\n",
       "      <td>1142916492</td>\n",
       "      <td>1</td>\n",
       "      <td>0</td>\n",
       "    </tr>\n",
       "    <tr>\n",
       "      <th>3</th>\n",
       "      <td>10012675@N05</td>\n",
       "      <td>4</td>\n",
       "      <td>13</td>\n",
       "      <td>1319327174</td>\n",
       "      <td>1319332848</td>\n",
       "      <td>9</td>\n",
       "      <td>5674</td>\n",
       "    </tr>\n",
       "    <tr>\n",
       "      <th>4</th>\n",
       "      <td>10014440@N06</td>\n",
       "      <td>5</td>\n",
       "      <td>24</td>\n",
       "      <td>1196128621</td>\n",
       "      <td>1196128878</td>\n",
       "      <td>3</td>\n",
       "      <td>257</td>\n",
       "    </tr>\n",
       "  </tbody>\n",
       "</table>\n",
       "</div>"
      ],
      "text/plain": [
       "         userID  seqID  poiID  arrivalTime  departureTime  #photo  \\\n",
       "0  10007579@N00      1     30   1346844688     1346844688       1   \n",
       "1  10012675@N05      2      6   1142731848     1142732445       4   \n",
       "2  10012675@N05      3      6   1142916492     1142916492       1   \n",
       "3  10012675@N05      4     13   1319327174     1319332848       9   \n",
       "4  10014440@N06      5     24   1196128621     1196128878       3   \n",
       "\n",
       "   poiDuration(sec)  \n",
       "0                 0  \n",
       "1               597  \n",
       "2                 0  \n",
       "3              5674  \n",
       "4               257  "
      ]
     },
     "execution_count": 128,
     "metadata": {},
     "output_type": "execute_result"
    }
   ],
   "source": [
    "seq_all = traj[['userID', 'seqID', 'poiID', 'dateTaken']].copy().groupby(['userID', 'seqID', 'poiID'])\\\n",
    "          .agg([np.min, np.max, np.size])\n",
    "seq_all.columns = seq_all.columns.droplevel()\n",
    "seq_all.reset_index(inplace=True)\n",
    "seq_all.rename(columns={'amin':'arrivalTime', 'amax':'departureTime', 'size':'#photo'}, inplace=True)\n",
    "seq_all['poiDuration(sec)'] = seq_all['departureTime'] - seq_all['arrivalTime']\n",
    "seq_all.head()"
   ]
  },
  {
   "cell_type": "markdown",
   "metadata": {},
   "source": [
    "**Filtering out** a visit of POI with $0$ duration, i.e. only one photo was taken."
   ]
  },
  {
   "cell_type": "code",
   "execution_count": 129,
   "metadata": {
    "collapsed": true
   },
   "outputs": [],
   "source": [
    "seq_all = seq_all[seq_all['#photo'] > 1]"
   ]
  },
  {
   "cell_type": "code",
   "execution_count": 130,
   "metadata": {
    "collapsed": false
   },
   "outputs": [
    {
     "data": {
      "text/html": [
       "<div>\n",
       "<table border=\"1\" class=\"dataframe\">\n",
       "  <thead>\n",
       "    <tr style=\"text-align: right;\">\n",
       "      <th></th>\n",
       "      <th>userID</th>\n",
       "      <th>seqLen</th>\n",
       "    </tr>\n",
       "    <tr>\n",
       "      <th>seqID</th>\n",
       "      <th></th>\n",
       "      <th></th>\n",
       "    </tr>\n",
       "  </thead>\n",
       "  <tbody>\n",
       "    <tr>\n",
       "      <th>2</th>\n",
       "      <td>10012675@N05</td>\n",
       "      <td>1</td>\n",
       "    </tr>\n",
       "    <tr>\n",
       "      <th>4</th>\n",
       "      <td>10012675@N05</td>\n",
       "      <td>1</td>\n",
       "    </tr>\n",
       "    <tr>\n",
       "      <th>5</th>\n",
       "      <td>10014440@N06</td>\n",
       "      <td>1</td>\n",
       "    </tr>\n",
       "    <tr>\n",
       "      <th>6</th>\n",
       "      <td>10014440@N06</td>\n",
       "      <td>1</td>\n",
       "    </tr>\n",
       "    <tr>\n",
       "      <th>7</th>\n",
       "      <td>10014440@N06</td>\n",
       "      <td>1</td>\n",
       "    </tr>\n",
       "  </tbody>\n",
       "</table>\n",
       "</div>"
      ],
      "text/plain": [
       "             userID  seqLen\n",
       "seqID                      \n",
       "2      10012675@N05       1\n",
       "4      10012675@N05       1\n",
       "5      10014440@N06       1\n",
       "6      10014440@N06       1\n",
       "7      10014440@N06       1"
      ]
     },
     "execution_count": 130,
     "metadata": {},
     "output_type": "execute_result"
    }
   ],
   "source": [
    "seq_stats = seq_all[['userID', 'seqID', 'poiID']].copy().groupby(['userID', 'seqID']).agg(np.size)\n",
    "seq_stats.reset_index(inplace=True)\n",
    "seq_stats.rename(columns={'poiID':'seqLen'}, inplace=True)\n",
    "seq_stats.set_index('seqID', inplace=True)\n",
    "seq_stats.head()"
   ]
  },
  {
   "cell_type": "code",
   "execution_count": 131,
   "metadata": {
    "collapsed": true
   },
   "outputs": [],
   "source": [
    "def extract_seq(seqid, seq_all):\n",
    "    seqi = seq_all[seq_all['seqID'] == seqid].copy()\n",
    "    seqi.sort_values(by=['arrivalTime'], ascending=True, inplace=True)\n",
    "    return seqi['poiID'].tolist()"
   ]
  },
  {
   "cell_type": "code",
   "execution_count": 132,
   "metadata": {
    "collapsed": true
   },
   "outputs": [],
   "source": [
    "def calc_poi_info(seqid_set, seq_all, poi_all):\n",
    "    poi_info = seq_all[seq_all['seqID'].isin(seqid_set)][['poiID', 'poiDuration(sec)']].copy()\n",
    "    poi_info = poi_info.groupby('poiID').agg([np.mean, np.size])\n",
    "    poi_info.columns = poi_info.columns.droplevel()\n",
    "    poi_info.reset_index(inplace=True)\n",
    "    poi_info.rename(columns={'mean':'avgDuration(sec)', 'size':'popularity'}, inplace=True)\n",
    "    poi_info.set_index('poiID', inplace=True)\n",
    "    poi_info['poiTheme'] = poi_all.loc[poi_info.index, 'poiTheme']\n",
    "    poi_info['poiLon'] = poi_all.loc[poi_info.index, 'poiLon']\n",
    "    poi_info['poiLat'] = poi_all.loc[poi_info.index, 'poiLat']\n",
    "    return poi_info.copy()"
   ]
  },
  {
   "cell_type": "markdown",
   "metadata": {},
   "source": [
    "<a id='sec1.4'></a>"
   ]
  },
  {
   "cell_type": "markdown",
   "metadata": {},
   "source": [
    "## 1.4 Train vs. Test Data"
   ]
  },
  {
   "cell_type": "markdown",
   "metadata": {},
   "source": [
    "Remove duplicate trajectories, i.e. same trajectory for different users."
   ]
  },
  {
   "cell_type": "code",
   "execution_count": 133,
   "metadata": {
    "collapsed": true
   },
   "outputs": [],
   "source": [
    "seq_stats = seq_stats[seq_stats['seqLen'] > 2]\n",
    "seq_stats = seq_stats[seq_stats['seqLen'] < 10]\n",
    "seqid_set_ = seq_stats.index.tolist()\n",
    "seq_dict = dict()\n",
    "for seqid in seqid_set_:\n",
    "    seq = extract_seq(seqid, seq_all)\n",
    "    key = str(seq)\n",
    "    if key in seq_dict: seq_dict[key].append(seqid)\n",
    "    else: seq_dict[key] = [seqid]"
   ]
  },
  {
   "cell_type": "code",
   "execution_count": 134,
   "metadata": {
    "collapsed": false
   },
   "outputs": [
    {
     "data": {
      "text/plain": [
       "120"
      ]
     },
     "execution_count": 134,
     "metadata": {},
     "output_type": "execute_result"
    }
   ],
   "source": [
    "len(seqid_set_)"
   ]
  },
  {
   "cell_type": "code",
   "execution_count": 135,
   "metadata": {
    "collapsed": true
   },
   "outputs": [],
   "source": [
    "seqid_set_exp = [seq_dict[x][0] for x in sorted(seq_dict.keys())]"
   ]
  },
  {
   "cell_type": "code",
   "execution_count": 136,
   "metadata": {
    "collapsed": false
   },
   "outputs": [
    {
     "data": {
      "text/plain": [
       "116"
      ]
     },
     "execution_count": 136,
     "metadata": {},
     "output_type": "execute_result"
    }
   ],
   "source": [
    "len(seqid_set_exp)"
   ]
  },
  {
   "cell_type": "markdown",
   "metadata": {},
   "source": [
    "Define a *query* (in IR terminology) using tuple (start POI, end POI, #POI) ~~user ID.~~"
   ]
  },
  {
   "cell_type": "code",
   "execution_count": 137,
   "metadata": {
    "collapsed": true
   },
   "outputs": [],
   "source": [
    "query_id_dict = dict()  # (start, end, length) --> qid"
   ]
  },
  {
   "cell_type": "code",
   "execution_count": 138,
   "metadata": {
    "collapsed": true
   },
   "outputs": [],
   "source": [
    "seqs_exp = [extract_seq(seqid, seq_all) for seqid in seqid_set_exp]\n",
    "keys = [(seq[0], seq[-1], len(seq)) for seq in seqs_exp]\n",
    "cnt = 0\n",
    "for key in keys:\n",
    "    if key not in query_id_dict:   # (start, end, length) --> qid\n",
    "        query_id_dict[key] = cnt\n",
    "        cnt += 1"
   ]
  },
  {
   "cell_type": "code",
   "execution_count": 139,
   "metadata": {
    "collapsed": false
   },
   "outputs": [
    {
     "name": "stdout",
     "output_type": "stream",
     "text": [
      "106\n"
     ]
    }
   ],
   "source": [
    "print(len(query_id_dict))"
   ]
  },
  {
   "cell_type": "markdown",
   "metadata": {},
   "source": [
    "Random split trajectories for training and testing.  \n",
    "Make sure all POIs in test set are covered in trajectories for training."
   ]
  },
  {
   "cell_type": "code",
   "execution_count": 140,
   "metadata": {
    "collapsed": true
   },
   "outputs": [],
   "source": [
    "train_percent = 0.8\n",
    "seqid_set_train0 = []\n",
    "seqid_set_test0 = []"
   ]
  },
  {
   "cell_type": "code",
   "execution_count": 141,
   "metadata": {
    "collapsed": true
   },
   "outputs": [],
   "source": [
    "if os.path.exists(fseqpart):\n",
    "    (seqid_set_train0, seqid_set_test0) = pickle.load(open(fseqpart, 'rb'))\n",
    "else:\n",
    "    ntrain = int(train_percent * len(seqid_set_exp))\n",
    "    while True:\n",
    "        np.random.shuffle(seqid_set_exp)\n",
    "\n",
    "        seqid_set_train0 = sorted(list(seqid_set_exp[:ntrain]))\n",
    "        seqid_set_test0 = sorted(list(seqid_set_exp[ntrain:]))\n",
    "        poi_train = seq_all[seq_all['seqID'].isin(seqid_set_train0)]['poiID'].unique().tolist()\n",
    "        poi_test  = seq_all[seq_all['seqID'].isin(seqid_set_test0)]['poiID'].unique().tolist()\n",
    "        if len(set(poi_test)) == len(set(poi_train) & set(poi_test)):\n",
    "            pickle.dump((seqid_set_train0, seqid_set_test0), open(fseqpart, 'wb'))\n",
    "            break"
   ]
  },
  {
   "cell_type": "code",
   "execution_count": 142,
   "metadata": {
    "collapsed": false
   },
   "outputs": [
    {
     "name": "stdout",
     "output_type": "stream",
     "text": [
      "#seq in total: 116\n",
      "#seq for training: 92\n",
      "#seq for testing: 24\n",
      "#query tuple: 106\n"
     ]
    }
   ],
   "source": [
    "print('#seq in total:', len(seqid_set_exp))\n",
    "print('#seq for training:', len(seqid_set_train0))\n",
    "print('#seq for testing:', len(seqid_set_test0))\n",
    "print('#query tuple:', len(query_id_dict))"
   ]
  },
  {
   "cell_type": "markdown",
   "metadata": {},
   "source": [
    "<a id='sec2'></a>"
   ]
  },
  {
   "cell_type": "markdown",
   "metadata": {},
   "source": [
    "# 2. User Agnostic POI Ranking"
   ]
  },
  {
   "cell_type": "markdown",
   "metadata": {},
   "source": [
    "<a id='sec2.1'></a>"
   ]
  },
  {
   "cell_type": "markdown",
   "metadata": {},
   "source": [
    "## 2.1 POI Features for Ranking"
   ]
  },
  {
   "cell_type": "markdown",
   "metadata": {},
   "source": [
    "POI Features used for ranking:\n",
    "1. `popularity`: POI popularity\n",
    "2. `avgDuration`: average POI visit duration\n",
    "3. `sameCatStart`: 1 if POI category is the same as that of `startPOI`, -1 otherwise\n",
    "4. `sameCatEnd`: 1 if POI category is the same as that of `endPOI`, -1 otherwise\n",
    "5. `distStart`: distance (haversine formula) from `startPOI`\n",
    "6. `distEnd`: distance from `endPOI`\n",
    "7. `seqLen`: trajectory length (copy from query)\n",
    "8. `diffPopStart`: difference in POI popularity from `startPOI`\n",
    "9. `diffPopEnd`: difference in POI popularity from `endPOI`\n",
    "10. `diffDurationStart`: difference in average POI visit duration from the actual duration spent at `startPOI`\n",
    "11. `diffDurationEnd`: difference in average POI visit duration from the actual duration spent at `endPOI`"
   ]
  },
  {
   "cell_type": "markdown",
   "metadata": {},
   "source": [
    "Features aggregated from a number of trajectories:\n",
    "1. Compute POI `popularity` and average visit `duration` using all trajectories from training and querying set,\n",
    "1. Use the same features that computed above for the test set, except the distance based features."
   ]
  },
  {
   "cell_type": "code",
   "execution_count": 143,
   "metadata": {
    "collapsed": false
   },
   "outputs": [
    {
     "name": "stdout",
     "output_type": "stream",
     "text": [
      "(24, 5)\n"
     ]
    }
   ],
   "source": [
    "poi_info_t = calc_poi_info(seqid_set_train0, seq_all, poi_all)\n",
    "print(poi_info_t.shape)"
   ]
  },
  {
   "cell_type": "markdown",
   "metadata": {},
   "source": [
    "Compute distance between two POIs using [Haversine formula](http://en.wikipedia.org/wiki/Great-circle_distance)."
   ]
  },
  {
   "cell_type": "code",
   "execution_count": 144,
   "metadata": {
    "collapsed": true
   },
   "outputs": [],
   "source": [
    "def calc_dist(longitude1, latitude1, longitude2, latitude2):\n",
    "    \"\"\"Calculate the distance (unit: km) between two places on earth\"\"\"\n",
    "    # convert degrees to radians\n",
    "    lon1 = math.radians(longitude1)\n",
    "    lat1 = math.radians(latitude1)\n",
    "    lon2 = math.radians(longitude2)\n",
    "    lat2 = math.radians(latitude2)\n",
    "    radius = 6371.0088 # mean earth radius is 6371.009km, en.wikipedia.org/wiki/Earth_radius#Mean_radius\n",
    "    # The haversine formula, en.wikipedia.org/wiki/Great-circle_distance\n",
    "    dlon = math.fabs(lon1 - lon2)\n",
    "    dlat = math.fabs(lat1 - lat2)\n",
    "    return 2 * radius * math.asin(math.sqrt(\\\n",
    "               (math.sin(0.5*dlat))**2 + math.cos(lat1) * math.cos(lat2) * (math.sin(0.5*dlon))**2 ))"
   ]
  },
  {
   "cell_type": "markdown",
   "metadata": {},
   "source": [
    "<a id='sec2.2'></a>"
   ]
  },
  {
   "cell_type": "markdown",
   "metadata": {},
   "source": [
    "## 2.2 Training DataFrame"
   ]
  },
  {
   "cell_type": "markdown",
   "metadata": {},
   "source": [
    "Training data are generated as follows:\n",
    "1. each input tuple $(\\text{startPOI}, \\text{endPOI}, \\text{#POI})$ form a `query` (in IR terminology).\n",
    "1. the label of a specific POI is the number of presence of that POI in a specific `query`, excluding the presence as $\\text{startPOI}$ or $\\text{endPOI}$.\n",
    "1. for each `query`, the label of all absence POIs from trajectories of that `query` in training set got a label 0."
   ]
  },
  {
   "cell_type": "markdown",
   "metadata": {},
   "source": [
    "The dimension of training data matrix is `#(qid, poi)` by `#feature`."
   ]
  },
  {
   "cell_type": "code",
   "execution_count": 145,
   "metadata": {
    "collapsed": true
   },
   "outputs": [],
   "source": [
    "def gen_train_df(seqid_set, seq_all, poi_info, query_id_dict):\n",
    "    columns = ['poiID', 'label', 'queryID', 'popularity', 'avgDuration(sec)', 'sameCatStart', 'sameCatEnd', \\\n",
    "               'distStart', 'distEnd', 'seqLen', 'diffPopStart', 'diffPopEnd', 'diffDurationStart', 'diffDurationEnd']\n",
    "    seqid_set = sorted(set(seqid_set))\n",
    "    train_seqs = [extract_seq(seqid, seq_all) for seqid in seqid_set]\n",
    "    for seq in train_seqs:\n",
    "        assert(len(seq) > 2)\n",
    "    \n",
    "    qid_set = sorted(set([query_id_dict[(seq[0], seq[-1], len(seq))] for seq in train_seqs]))\n",
    "    poi_set = sorted(set(poi_info.index.tolist()))\n",
    "    qid_poi_pair = list(itertools.product(qid_set, poi_set)) # Cartesian product of qid_set and poi_set\n",
    "    \n",
    "    df_ = pd.DataFrame(data=np.zeros((len(qid_poi_pair), len(columns)), dtype= np.float), columns=columns)\n",
    "    \n",
    "    query_id_rdict = dict()\n",
    "    for k, v in query_id_dict.items(): \n",
    "        query_id_rdict[v] = k  # qid --> (start, end, length)\n",
    "    \n",
    "    for i in range(df_.index.shape[0]):\n",
    "        qid = qid_poi_pair[i][0]\n",
    "        poi = qid_poi_pair[i][1]\n",
    "        (p0, pN, seqLen) = query_id_rdict[qid]\n",
    "        lon0 = poi_info.loc[p0, 'poiLon']; lat0 = poi_info.loc[p0, 'poiLat']\n",
    "        lonN = poi_info.loc[pN, 'poiLon']; latN = poi_info.loc[pN, 'poiLat']\n",
    "        lon = poi_info.loc[poi, 'poiLon']; lat = poi_info.loc[poi, 'poiLat']\n",
    "        pop = poi_info.loc[poi, 'popularity']; cat = poi_info.loc[poi, 'poiTheme']\n",
    "        duration = poi_info.loc[poi, 'avgDuration(sec)']\n",
    "        idx = df_.index[i]\n",
    "        df_.loc[idx, 'poiID'] = poi\n",
    "        df_.loc[idx, 'queryID'] = qid\n",
    "        df_.loc[idx, 'popularity'] = pop\n",
    "        df_.loc[idx, 'avgDuration(sec)'] = duration\n",
    "        df_.loc[idx, 'sameCatStart'] = 1 if cat == poi_info.loc[p0, 'poiTheme'] else -1\n",
    "        df_.loc[idx, 'sameCatEnd']   = 1 if cat == poi_info.loc[pN, 'poiTheme'] else -1\n",
    "        df_.loc[idx, 'distStart'] = 0 if poi == p0 else calc_dist(lon, lat, lon0, lat0)\n",
    "        df_.loc[idx, 'distEnd']   = 0 if poi == pN else calc_dist(lon, lat, lonN, latN)\n",
    "        df_.loc[idx, 'seqLen'] = seqLen\n",
    "        df_.loc[idx, 'diffPopStart'] = 0 if poi == p0 else pop - poi_info.loc[p0, 'popularity']\n",
    "        df_.loc[idx, 'diffPopEnd']   = 0 if poi == pN else pop - poi_info.loc[pN, 'popularity']\n",
    "        df_.loc[idx, 'diffDurationStart'] = 0 if poi == p0 else duration - poi_info.loc[p0, 'avgDuration(sec)']\n",
    "        df_.loc[idx, 'diffDurationEnd']   = 0 if poi == pN else duration - poi_info.loc[pN, 'avgDuration(sec)']\n",
    "    \n",
    "    # set label\n",
    "    df_.set_index(['queryID', 'poiID'], inplace=True)\n",
    "    for seq in train_seqs:\n",
    "        qid = query_id_dict[(seq[0], seq[-1], len(seq))]\n",
    "        for poi in seq[1:-1]:  # do NOT count if the POI is startPOI/endPOI\n",
    "            df_.loc[(qid, poi), 'label'] += 1\n",
    "    \n",
    "    df_.reset_index(inplace=True)\n",
    "    return df_"
   ]
  },
  {
   "cell_type": "markdown",
   "metadata": {},
   "source": [
    "Sanity check: \n",
    "- different POIs have different features for the same query trajectory\n",
    "- the same POI get different features for different query-id"
   ]
  },
  {
   "cell_type": "markdown",
   "metadata": {},
   "source": [
    "<a id='sec2.3'></a>"
   ]
  },
  {
   "cell_type": "markdown",
   "metadata": {},
   "source": [
    "## 2.3 Test DataFrame"
   ]
  },
  {
   "cell_type": "markdown",
   "metadata": {},
   "source": [
    "Test data are generated the same way as training data, except that the labels of testing data (unknown) could be arbitrary values as suggested in [libsvm FAQ](http://www.csie.ntu.edu.tw/~cjlin/libsvm/faq.html#f431).\n",
    "The reported accuracy (by `svm-predict` command) is meaningless as it is calculated based on these labels."
   ]
  },
  {
   "cell_type": "markdown",
   "metadata": {},
   "source": [
    "The dimension of training data matrix is `#poi` by `#feature` with one specific `query`, i.e. tuple $(\\text{startPOI}, \\text{endPOI}, \\text{#POI})$."
   ]
  },
  {
   "cell_type": "code",
   "execution_count": 146,
   "metadata": {
    "collapsed": true
   },
   "outputs": [],
   "source": [
    "def gen_test_df(startPOI, endPOI, nPOI, poi_info, query_id_dict):\n",
    "    columns = ['poiID', 'label', 'queryID', 'popularity', 'avgDuration(sec)', 'sameCatStart', 'sameCatEnd', \\\n",
    "               'distStart', 'distEnd', 'seqLen', 'diffPopStart', 'diffPopEnd', 'diffDurationStart', 'diffDurationEnd']\n",
    "    key = (p0, pN, seqLen) = (startPOI, endPOI, nPOI)\n",
    "    assert(key in query_id_dict)\n",
    "    \n",
    "    poi_set = sorted(set(poi_info.index.tolist()))\n",
    "    df_ = pd.DataFrame(data=np.zeros((len(poi_set), len(columns)), dtype= np.float), columns=columns)\n",
    "    \n",
    "    qid = query_id_dict[key]\n",
    "    df_['queryID'] = qid\n",
    "    df_['label'] = np.random.rand(df_.shape[0]) # label for test data is arbitrary according to libsvm FAQ\n",
    "\n",
    "    lon0 = poi_info.loc[p0, 'poiLon']; lat0 = poi_info.loc[p0, 'poiLat']\n",
    "    lonN = poi_info.loc[pN, 'poiLon']; latN = poi_info.loc[pN, 'poiLat']\n",
    "    for i in range(df_.index.shape[0]):\n",
    "        poi = poi_set[i]\n",
    "        lon = poi_info.loc[poi, 'poiLon']; lat = poi_info.loc[poi, 'poiLat']\n",
    "        pop = poi_info.loc[poi, 'popularity']; cat = poi_info.loc[poi, 'poiTheme']\n",
    "        duration = poi_info.loc[poi, 'avgDuration(sec)']\n",
    "        idx = df_.index[i]\n",
    "        df_.loc[idx, 'poiID'] = poi \n",
    "        df_.loc[idx, 'popularity'] = pop\n",
    "        df_.loc[idx, 'avgDuration(sec)'] = duration\n",
    "        df_.loc[idx, 'sameCatStart'] = 1 if cat == poi_info.loc[p0, 'poiTheme'] else -1\n",
    "        df_.loc[idx, 'sameCatEnd']   = 1 if cat == poi_info.loc[pN, 'poiTheme'] else -1\n",
    "        df_.loc[idx, 'distStart'] = 0 if poi == p0 else calc_dist(lon, lat, lon0, lat0)\n",
    "        df_.loc[idx, 'distEnd']   = 0 if poi == pN else calc_dist(lon, lat, lonN, latN)\n",
    "        df_.loc[idx, 'seqLen'] = seqLen\n",
    "        df_.loc[idx, 'diffPopStart'] = 0 if poi == p0 else pop - poi_info.loc[p0, 'popularity']\n",
    "        df_.loc[idx, 'diffPopEnd']   = 0 if poi == pN else pop - poi_info.loc[pN, 'popularity']\n",
    "        df_.loc[idx, 'diffDurationStart'] = 0 if poi == p0 else duration - poi_info.loc[p0, 'avgDuration(sec)']\n",
    "        df_.loc[idx, 'diffDurationEnd']   = 0 if poi == pN else duration - poi_info.loc[pN, 'avgDuration(sec)']\n",
    "    return df_"
   ]
  },
  {
   "cell_type": "markdown",
   "metadata": {},
   "source": [
    "Sanity check: \n",
    "- different POIs have different features for the same query trajectory\n",
    "- the same POI get different features for different query-id"
   ]
  },
  {
   "cell_type": "markdown",
   "metadata": {},
   "source": [
    "Generate a string for a training/test data frame."
   ]
  },
  {
   "cell_type": "code",
   "execution_count": 147,
   "metadata": {
    "collapsed": true
   },
   "outputs": [],
   "source": [
    "def gen_data_str(df_):\n",
    "    columns = ['label', 'queryID', 'popularity', 'avgDuration(sec)', 'sameCatStart', 'sameCatEnd', 'distStart', \\\n",
    "               'distEnd', 'seqLen', 'diffPopStart', 'diffPopEnd', 'diffDurationStart', 'diffDurationEnd']\n",
    "    for col in columns:\n",
    "        assert(col in df_.columns)\n",
    "        \n",
    "    lines = []\n",
    "    for idx in df_.index:\n",
    "        slist = [str(df_.loc[idx, 'label'])]\n",
    "        slist.append(' qid:')\n",
    "        slist.append(str(int(df_.loc[idx, 'queryID'])))\n",
    "        for j in range(2, len(columns)):\n",
    "            slist.append(' ')\n",
    "            slist.append(str(j-1))\n",
    "            slist.append(':')\n",
    "            slist.append(str(df_.loc[idx, columns[j]]))\n",
    "        slist.append('\\n')\n",
    "        lines.append(''.join(slist))\n",
    "    return ''.join(lines)"
   ]
  },
  {
   "cell_type": "markdown",
   "metadata": {},
   "source": [
    "<a id='sec2.4'></a>"
   ]
  },
  {
   "cell_type": "markdown",
   "metadata": {},
   "source": [
    "## 2.4 Platt Scaling"
   ]
  },
  {
   "cell_type": "markdown",
   "metadata": {},
   "source": [
    "Transform ranking scores (output of rankSVM) to a probability distribution using [Platt scaling](https://en.wikipedia.org/wiki/Platt_scaling)."
   ]
  },
  {
   "cell_type": "markdown",
   "metadata": {},
   "source": [
    "Code from paper `Lin, Hsuan-Tien; Lin, Chih-Jen; Weng, Ruby C. (2007).` \n",
    "[`A note on Platt's probabilistic outputs for support vector machines`](http://stocktrendresearch.googlecode.com/svn-history/r77/trunk/Paper/SVM_ANN/plattprob.pdf).\n",
    "`Machine Learning 68 (3): 267–276.`"
   ]
  },
  {
   "cell_type": "code",
   "execution_count": 148,
   "metadata": {
    "collapsed": true
   },
   "outputs": [],
   "source": [
    "def platt_scaling_params(deci, label, prior1, prior0):\n",
    "    \"\"\"\n",
    "    Input parameters:\n",
    "    - deci = array of SVM decision values (of examples in training set)\n",
    "    - label = array of booleans: is the example labeled +1? (in training set)\n",
    "    - prior1 = number of positive examples (in training set)\n",
    "    - prior0 = number of negative examples (in training set)\n",
    "    Outputs:\n",
    "    - A, B = parameters of sigmoid\n",
    "    \"\"\"\n",
    "\n",
    "    # Parameter setting\n",
    "    maxiter = 100   # Maximum number of iterations\n",
    "    minstep = 1e-10 # Minimum step taken in line search\n",
    "    sigma = 1e-12   # Set to any value > 0\n",
    "\n",
    "    # Construct initial values: target support in array t, initial function value in fval\n",
    "    hiTarget = (prior1 + 1.0) / (prior1 + 2.0)\n",
    "    loTarget = 1 / (prior0 + 2.0)\n",
    "    len_ = prior1 + prior0  # Total number of data\n",
    "    t = np.zeros(len_, dtype=np.float)\n",
    "    for i in range(len_):\n",
    "        if label[i] == True: \n",
    "            t[i] = hiTarget\n",
    "        else:\n",
    "            t[i] = loTarget\n",
    "\n",
    "    A = 0.0\n",
    "    B = math.log((prior0 + 1.0) / (prior1 + 1.0))\n",
    "    fval = 0.0\n",
    "    for i in range(len_):\n",
    "        fApB = deci[i] * A + B\n",
    "        if fApB >= 0:\n",
    "            fval += t[i] * fApB + math.log(1 + math.exp(-fApB))\n",
    "        else:\n",
    "            fval += (t[i] - 1) * fApB + math.log(1 + math.exp(fApB))\n",
    "\n",
    "    for it in range(maxiter):\n",
    "        # Update Gradient and Hessian (use H' = H + sigma I)\n",
    "        h11 = h22 = sigma\n",
    "        h21 = g1 = g2 = 0.0\n",
    "        for i in range(len_):\n",
    "            fApB = deci[i] * A + B\n",
    "            if fApB >= 0:\n",
    "                p = math.exp(-fApB) / (1.0 + math.exp(-fApB))\n",
    "                q = 1.0 / (1.0 + math.exp(-fApB))\n",
    "            else:\n",
    "                p = 1.0 / (1.0 + math.exp(fApB))\n",
    "                q = math.exp(fApB) / (1.0 + math.exp(fApB))\n",
    "            d2 = p * q\n",
    "            h11 += deci[i] * deci[i] * d2\n",
    "            h22 += d2\n",
    "            h21 += deci[i] * d2\n",
    "            d1 = t[i] - p\n",
    "            g1 += deci[i] * d1\n",
    "            g2 += d1\n",
    "\n",
    "        # Stopping criteria\n",
    "        if math.fabs(g1) < 1e-5 and math.fabs(g2) < 1e-5:  \n",
    "            break\n",
    "\n",
    "        # Compute modified Newton directions\n",
    "        det = h11 * h22 - h21 * h21\n",
    "        dA = -(h22 * g1 - h21 * g2) / det\n",
    "        dB = -(-h21 * g1 + h11 * g2) / det\n",
    "        gd = g1 * dA + g2 * dB\n",
    "\n",
    "        # Line search\n",
    "        stepsize = 1\n",
    "        while stepsize >= minstep:\n",
    "            newA = A + stepsize * dA\n",
    "            newB = B + stepsize * dB\n",
    "            newf = 0.0\n",
    "            for i in range(len_):\n",
    "                fApB = deci[i] * newA + newB\n",
    "                if fApB >= 0:\n",
    "                    newf += t[i] * fApB + math.log(1 + math.exp(-fApB))\n",
    "                else:\n",
    "                    newf += (t[i] - 1) * fApB + math.log(1 + math.exp(fApB))\n",
    "\n",
    "            # Sufficient decrease satisfied\n",
    "            if newf < fval + 0.0001 * stepsize * gd:\n",
    "                A = newA\n",
    "                B = newB\n",
    "                fval = newf\n",
    "                break\n",
    "            else:\n",
    "                stepsize /= 2.0\n",
    "\n",
    "        if stepsize < minstep:\n",
    "            print('Line search fails')\n",
    "            break\n",
    "\n",
    "    if it >= maxiter:\n",
    "        print('Reaching maximum iterations')\n",
    "\n",
    "    return (A, B)"
   ]
  },
  {
   "cell_type": "markdown",
   "metadata": {},
   "source": [
    "<a id='sec2.5'></a>"
   ]
  },
  {
   "cell_type": "markdown",
   "metadata": {},
   "source": [
    "## 2.5 Ranking POIs using rankSVM"
   ]
  },
  {
   "cell_type": "markdown",
   "metadata": {},
   "source": [
    "RankSVM implementation in [libsvm.zip](https://www.csie.ntu.edu.tw/~cjlin/libsvmtools/ranksvm/libsvm-ranksvm-3.20.zip) or [liblinear.zip](https://www.csie.ntu.edu.tw/~cjlin/libsvmtools/ranksvm/liblinear-ranksvm-1.95.zip), please read `README.ranksvm` in the zip file for installation instructions."
   ]
  },
  {
   "cell_type": "markdown",
   "metadata": {},
   "source": [
    "Below is a python wrapper of the `svm-train` or `train` and `svm-predict` or `predict` commands of rankSVM with ranking probabilities calibrated using [Platt scaling](https://en.wikipedia.org/wiki/Platt_scaling)."
   ]
  },
  {
   "cell_type": "code",
   "execution_count": 149,
   "metadata": {
    "collapsed": true
   },
   "outputs": [],
   "source": [
    "# python wrapper of rankSVM\n",
    "class RankSVM:\n",
    "    def __init__(self, bin_dir, useLinear=True, debug=False):\n",
    "        dir_ = !echo $bin_dir  # deal with environmental variables in path\n",
    "        assert(os.path.exists(dir_[0]))\n",
    "        self.bin_dir = dir_[0]\n",
    "        \n",
    "        self.bin_train = 'svm-train'\n",
    "        self.bin_predict = 'svm-predict'\n",
    "        if useLinear:\n",
    "            self.bin_train = 'train'\n",
    "            self.bin_predict = 'predict'\n",
    "        \n",
    "        # Platt scaling parameters\n",
    "        self.A = None\n",
    "        self.B = None\n",
    "        \n",
    "        assert(isinstance(debug, bool))\n",
    "        self.debug = debug\n",
    "        \n",
    "        # create named tmp files for model and feature scaling parameters\n",
    "        self.fmodel = None\n",
    "        self.fscale = None\n",
    "        with tempfile.NamedTemporaryFile(delete=False) as fd: \n",
    "            self.fmodel = fd.name\n",
    "        with tempfile.NamedTemporaryFile(delete=False) as fd: \n",
    "            self.fscale = fd.name\n",
    "        \n",
    "        if self.debug:\n",
    "            print('model file:', self.fmodel)\n",
    "            print('feature scaling parameter file:', self.fscale)\n",
    "    \n",
    "    \n",
    "    def __del__(self):\n",
    "        # remove tmp files\n",
    "        if self.fmodel is not None and os.path.exists(self.fmodel):\n",
    "            os.unlink(self.fmodel)\n",
    "        if self.fscale is not None and os.path.exists(self.fscale):\n",
    "            os.unlink(self.fscale)\n",
    "    \n",
    "    \n",
    "    def train(self, train_df, cost=1):\n",
    "        # cost is parameter C in SVM\n",
    "        # write train data to file\n",
    "        ftrain = None\n",
    "        with tempfile.NamedTemporaryFile(mode='w+t', delete=False) as fd: \n",
    "            ftrain = fd.name\n",
    "            datastr = gen_data_str(train_df)\n",
    "            fd.write(datastr)\n",
    "        \n",
    "        # feature scaling\n",
    "        ftrain_scaled = None\n",
    "        with tempfile.NamedTemporaryFile(mode='w+t', delete=False) as fd: \n",
    "            ftrain_scaled = fd.name\n",
    "        result = !$self.bin_dir/svm-scale -s $self.fscale $ftrain > $ftrain_scaled\n",
    "        \n",
    "        if self.debug:\n",
    "            print('cost:', cost)\n",
    "            print('train data file:', ftrain)\n",
    "            print('feature scaled train data file:', ftrain_scaled)\n",
    "        \n",
    "        # train rank svm and generate model file, if the model file exists, rewrite it\n",
    "        #n_cv = 10  # parameter k for k-fold cross-validation, NO model file will be generated in CV mode\n",
    "        #result = !$self.bin_dir/svm-train -c $cost -v $n_cv $ftrain $self.fmodel\n",
    "        result = !$self.bin_dir/$self.bin_train -c $cost $ftrain_scaled $self.fmodel\n",
    "        if self.debug:\n",
    "            print('Training finished.')\n",
    "            for i in range(len(result)): print(result[i])\n",
    "\n",
    "        # remove train data file\n",
    "        os.unlink(ftrain)\n",
    "        os.unlink(ftrain_scaled)\n",
    "        \n",
    "        # learn Platt scaling parameters\n",
    "        rank_df = self.predict(train_df)\n",
    "        deci = rank_df['rank']                  # array of SVM decision values (of examples in training set)\n",
    "        label = (train_df['label'] > 0).values  # array of booleans: is the example labeled +1? (in training set)\n",
    "        prior1 = train_df[train_df['label'] > 0].shape[0] # number of positive examples (in training set)\n",
    "        prior0 = train_df.shape[0] - prior1               # number of negative examples (in training set)\n",
    "        (self.A, self.B) = platt_scaling_params(deci, label, prior1, prior0)\n",
    "    \n",
    "    \n",
    "    def predict(self, test_df):\n",
    "        # predict ranking scores for the given feature matrix\n",
    "        if self.fmodel is None or not os.path.exists(self.fmodel):\n",
    "            print('Model should be trained before predicting')\n",
    "            return\n",
    "        \n",
    "        # write test data to file\n",
    "        ftest = None\n",
    "        with tempfile.NamedTemporaryFile(mode='w+t', delete=False) as fd: \n",
    "            ftest = fd.name\n",
    "            datastr = gen_data_str(test_df)\n",
    "            fd.write(datastr)\n",
    "                \n",
    "        # feature scaling\n",
    "        ftest_scaled = None\n",
    "        with tempfile.NamedTemporaryFile(delete=False) as fd: \n",
    "            ftest_scaled = fd.name\n",
    "        result = !$self.bin_dir/svm-scale -r $self.fscale $ftest > $ftest_scaled\n",
    "            \n",
    "        # generate prediction file\n",
    "        fpredict = None\n",
    "        with tempfile.NamedTemporaryFile(delete=False) as fd: \n",
    "            fpredict = fd.name\n",
    "            \n",
    "        if self.debug:\n",
    "            print('test data file:', ftest)\n",
    "            print('feature scaled test data file:', ftest_scaled)\n",
    "            print('predict result file:', fpredict)\n",
    "            \n",
    "        # predict using trained model and write prediction to file\n",
    "        result = !$self.bin_dir/$self.bin_predict $ftest_scaled $self.fmodel $fpredict\n",
    "        if self.debug:\n",
    "            print('Predict result: %-30s  %s' % (result[0], result[1]))\n",
    "        \n",
    "        # generate prediction DataFrame from prediction file\n",
    "        poi_rank_df = pd.read_csv(fpredict, header=None)\n",
    "        poi_rank_df.rename(columns={0:'rank'}, inplace=True)\n",
    "        poi_rank_df['poiID'] = test_df['poiID']\n",
    "        #poi_rank_df.set_index('poiID', inplace=True) # duplicated 'poiID' when evaluating training data\n",
    "        if self.A is not None and self.B is not None: \n",
    "            # compute probability by Platt scaling: en.wikipedia.org/wiki/Platt_scaling\n",
    "            poi_rank_df['probability'] = 1 / (1 + np.exp(self.A * poi_rank_df['rank'] + self.B))\n",
    "        \n",
    "        # remove test file and prediction file\n",
    "        os.unlink(ftest)\n",
    "        os.unlink(ftest_scaled)\n",
    "        os.unlink(fpredict)\n",
    "        \n",
    "        return poi_rank_df"
   ]
  },
  {
   "cell_type": "markdown",
   "metadata": {},
   "source": [
    "Sanity check."
   ]
  },
  {
   "cell_type": "code",
   "execution_count": 150,
   "metadata": {
    "collapsed": true
   },
   "outputs": [],
   "source": [
    "train_df_ = gen_train_df(seqid_set_train0, seq_all, poi_info_t, query_id_dict)"
   ]
  },
  {
   "cell_type": "code",
   "execution_count": 151,
   "metadata": {
    "collapsed": false
   },
   "outputs": [],
   "source": [
    "ranksvm_ = RankSVM(ranksvm_dir, useLinear=True)\n",
    "ranksvm_.train(train_df_, cost=1000)"
   ]
  },
  {
   "cell_type": "code",
   "execution_count": 152,
   "metadata": {
    "collapsed": false
   },
   "outputs": [
    {
     "name": "stdout",
     "output_type": "stream",
     "text": [
      "A: -2.633, B: 4.571\n"
     ]
    }
   ],
   "source": [
    "print('A: %.3f, B: %.3f' % (ranksvm_.A, ranksvm_.B))"
   ]
  },
  {
   "cell_type": "code",
   "execution_count": 153,
   "metadata": {
    "collapsed": true
   },
   "outputs": [],
   "source": [
    "seqid_idx_ = 12\n",
    "seq_ = extract_seq(seqid_set_test0[seqid_idx_], seq_all)\n",
    "test_df_ = gen_test_df(seq_[0], seq_[-1], len(seq_), poi_info_t, query_id_dict)"
   ]
  },
  {
   "cell_type": "code",
   "execution_count": 154,
   "metadata": {
    "collapsed": false
   },
   "outputs": [
    {
     "name": "stdout",
     "output_type": "stream",
     "text": [
      "1.94911065819\n"
     ]
    },
    {
     "data": {
      "text/html": [
       "<div>\n",
       "<table border=\"1\" class=\"dataframe\">\n",
       "  <thead>\n",
       "    <tr style=\"text-align: right;\">\n",
       "      <th></th>\n",
       "      <th>rank</th>\n",
       "      <th>probability</th>\n",
       "    </tr>\n",
       "    <tr>\n",
       "      <th>poiID</th>\n",
       "      <th></th>\n",
       "      <th></th>\n",
       "    </tr>\n",
       "  </thead>\n",
       "  <tbody>\n",
       "    <tr>\n",
       "      <th>23</th>\n",
       "      <td>1.369100</td>\n",
       "      <td>0.275604</td>\n",
       "    </tr>\n",
       "    <tr>\n",
       "      <th>22</th>\n",
       "      <td>1.281840</td>\n",
       "      <td>0.232173</td>\n",
       "    </tr>\n",
       "    <tr>\n",
       "      <th>28</th>\n",
       "      <td>1.228890</td>\n",
       "      <td>0.208255</td>\n",
       "    </tr>\n",
       "    <tr>\n",
       "      <th>21</th>\n",
       "      <td>1.206130</td>\n",
       "      <td>0.198548</td>\n",
       "    </tr>\n",
       "    <tr>\n",
       "      <th>7</th>\n",
       "      <td>1.165870</td>\n",
       "      <td>0.182220</td>\n",
       "    </tr>\n",
       "    <tr>\n",
       "      <th>16</th>\n",
       "      <td>1.078740</td>\n",
       "      <td>0.150492</td>\n",
       "    </tr>\n",
       "    <tr>\n",
       "      <th>30</th>\n",
       "      <td>1.031640</td>\n",
       "      <td>0.135318</td>\n",
       "    </tr>\n",
       "    <tr>\n",
       "      <th>8</th>\n",
       "      <td>0.861019</td>\n",
       "      <td>0.090800</td>\n",
       "    </tr>\n",
       "    <tr>\n",
       "      <th>6</th>\n",
       "      <td>0.844523</td>\n",
       "      <td>0.087279</td>\n",
       "    </tr>\n",
       "    <tr>\n",
       "      <th>3</th>\n",
       "      <td>0.755846</td>\n",
       "      <td>0.070386</td>\n",
       "    </tr>\n",
       "    <tr>\n",
       "      <th>1</th>\n",
       "      <td>0.649971</td>\n",
       "      <td>0.054193</td>\n",
       "    </tr>\n",
       "    <tr>\n",
       "      <th>4</th>\n",
       "      <td>0.632418</td>\n",
       "      <td>0.051873</td>\n",
       "    </tr>\n",
       "    <tr>\n",
       "      <th>24</th>\n",
       "      <td>0.566823</td>\n",
       "      <td>0.044008</td>\n",
       "    </tr>\n",
       "    <tr>\n",
       "      <th>11</th>\n",
       "      <td>0.492780</td>\n",
       "      <td>0.036499</td>\n",
       "    </tr>\n",
       "    <tr>\n",
       "      <th>29</th>\n",
       "      <td>0.490445</td>\n",
       "      <td>0.036283</td>\n",
       "    </tr>\n",
       "    <tr>\n",
       "      <th>25</th>\n",
       "      <td>0.462540</td>\n",
       "      <td>0.033800</td>\n",
       "    </tr>\n",
       "    <tr>\n",
       "      <th>27</th>\n",
       "      <td>0.326590</td>\n",
       "      <td>0.023874</td>\n",
       "    </tr>\n",
       "    <tr>\n",
       "      <th>17</th>\n",
       "      <td>-0.018813</td>\n",
       "      <td>0.009756</td>\n",
       "    </tr>\n",
       "    <tr>\n",
       "      <th>13</th>\n",
       "      <td>-0.020359</td>\n",
       "      <td>0.009717</td>\n",
       "    </tr>\n",
       "    <tr>\n",
       "      <th>2</th>\n",
       "      <td>-0.240681</td>\n",
       "      <td>0.005464</td>\n",
       "    </tr>\n",
       "    <tr>\n",
       "      <th>14</th>\n",
       "      <td>-0.244884</td>\n",
       "      <td>0.005404</td>\n",
       "    </tr>\n",
       "    <tr>\n",
       "      <th>15</th>\n",
       "      <td>-0.337793</td>\n",
       "      <td>0.004236</td>\n",
       "    </tr>\n",
       "    <tr>\n",
       "      <th>19</th>\n",
       "      <td>-0.520108</td>\n",
       "      <td>0.002626</td>\n",
       "    </tr>\n",
       "    <tr>\n",
       "      <th>20</th>\n",
       "      <td>-1.343220</td>\n",
       "      <td>0.000301</td>\n",
       "    </tr>\n",
       "  </tbody>\n",
       "</table>\n",
       "</div>"
      ],
      "text/plain": [
       "           rank  probability\n",
       "poiID                       \n",
       "23     1.369100     0.275604\n",
       "22     1.281840     0.232173\n",
       "28     1.228890     0.208255\n",
       "21     1.206130     0.198548\n",
       "7      1.165870     0.182220\n",
       "16     1.078740     0.150492\n",
       "30     1.031640     0.135318\n",
       "8      0.861019     0.090800\n",
       "6      0.844523     0.087279\n",
       "3      0.755846     0.070386\n",
       "1      0.649971     0.054193\n",
       "4      0.632418     0.051873\n",
       "24     0.566823     0.044008\n",
       "11     0.492780     0.036499\n",
       "29     0.490445     0.036283\n",
       "25     0.462540     0.033800\n",
       "27     0.326590     0.023874\n",
       "17    -0.018813     0.009756\n",
       "13    -0.020359     0.009717\n",
       "2     -0.240681     0.005464\n",
       "14    -0.244884     0.005404\n",
       "15    -0.337793     0.004236\n",
       "19    -0.520108     0.002626\n",
       "20    -1.343220     0.000301"
      ]
     },
     "execution_count": 154,
     "metadata": {},
     "output_type": "execute_result"
    }
   ],
   "source": [
    "rank_df_ = ranksvm_.predict(test_df_)\n",
    "rank_df_.set_index('poiID', inplace=True)\n",
    "rank_df_.sort_values(by='rank', ascending=False, inplace=True)\n",
    "print(rank_df_['probability'].sum())  # it is ranking probabilities, not probability distribution\n",
    "rank_df_"
   ]
  },
  {
   "cell_type": "markdown",
   "metadata": {},
   "source": [
    "<a id='sec3'></a>"
   ]
  },
  {
   "cell_type": "markdown",
   "metadata": {},
   "source": [
    "# 3. Factorise Transition Probabilities in POI Feature Space"
   ]
  },
  {
   "cell_type": "markdown",
   "metadata": {},
   "source": [
    "Estimate a transition matrix for each feature of POI, transition probabilities (matrix) between different POI features (vector) is obtrained by the [Kronecker product](https://en.wikipedia.org/wiki/Kronecker_product) of the individual transition matrix corresponding to each feature."
   ]
  },
  {
   "cell_type": "markdown",
   "metadata": {},
   "source": [
    "<a id='sec3.1'></a>"
   ]
  },
  {
   "cell_type": "markdown",
   "metadata": {},
   "source": [
    "## 3.1 POI Features for Factorisation"
   ]
  },
  {
   "cell_type": "markdown",
   "metadata": {},
   "source": [
    "POI features used to factorise transition matrix of Markov Chain with POI features (vector) as states:\n",
    "- POI category\n",
    "- POI popularity (discritize with uniform log-scale bins, #bins <=5 )\n",
    "- POI average visit duration (discritise with uniform log-scale bins, #bins <= 5)\n",
    "- POI neighborhood (clustering POI(lat, lon) using k-means, #clusters <= 5)"
   ]
  },
  {
   "cell_type": "markdown",
   "metadata": {},
   "source": [
    "We count the number of transition first, then normalise each row while taking care of zero by adding each cell a small number (i.e. $0.2$ times the minimum value of that row) if there exists a zero cell."
   ]
  },
  {
   "cell_type": "code",
   "execution_count": 168,
   "metadata": {
    "collapsed": true
   },
   "outputs": [],
   "source": [
    "def normalise_transmat(transmat):\n",
    "    assert(isinstance(transmat, pd.DataFrame))\n",
    "    for row in range(transmat.index.shape[0]):\n",
    "        nonzeroidx = np.nonzero(transmat.iloc[row])[0].tolist()    \n",
    "        if len(nonzeroidx) < transmat.columns.shape[0]:\n",
    "            if len(nonzeroidx) == 0:  # all zeros in row\n",
    "                transmat.iloc[row] = 1 / transmat.columns.shape[0]  # uniform distribution\n",
    "            else:\n",
    "                minv = np.min(transmat.iloc[row, nonzeroidx])\n",
    "                EPS = 0.2 * minv  # row-specific smooth factor\n",
    "                #zeroidx = list(set(range(len(transmat.columns))) - set(nonzeroidx))\n",
    "                #transmat.iloc[row, zeroidx] = EPS\n",
    "                transmat.iloc[row] += EPS\n",
    "                rowsum = np.sum(transmat.iloc[row])\n",
    "                assert(rowsum > 0)\n",
    "                transmat.iloc[row] /= rowsum\n",
    "        else:\n",
    "            assert(len(nonzeroidx) == transmat.columns.shape[0])  # all non-zero in row\n",
    "            transmat.iloc[row] /= np.sum(transmat.iloc[row])\n",
    "    return transmat"
   ]
  },
  {
   "cell_type": "markdown",
   "metadata": {},
   "source": [
    "POIs in training set."
   ]
  },
  {
   "cell_type": "code",
   "execution_count": 239,
   "metadata": {
    "collapsed": false
   },
   "outputs": [],
   "source": [
    "poi_train = seq_all[seq_all['seqID'].isin(seqid_set_train0)]['poiID'].unique().tolist()\n",
    "#poi_train"
   ]
  },
  {
   "cell_type": "markdown",
   "metadata": {},
   "source": [
    "<a id='sec3.2'></a>"
   ]
  },
  {
   "cell_type": "markdown",
   "metadata": {},
   "source": [
    "## 3.2 Transition Matrix between POI Cateogries"
   ]
  },
  {
   "cell_type": "code",
   "execution_count": 164,
   "metadata": {
    "collapsed": false
   },
   "outputs": [
    {
     "data": {
      "text/plain": [
       "['Amusement', 'Beach', 'Cultural', 'Shopping', 'Sport', 'Structure']"
      ]
     },
     "execution_count": 164,
     "metadata": {},
     "output_type": "execute_result"
    }
   ],
   "source": [
    "poi_cats = poi_all.loc[poi_train, 'poiTheme'].unique().tolist()\n",
    "poi_cats.sort()\n",
    "poi_cats"
   ]
  },
  {
   "cell_type": "code",
   "execution_count": 165,
   "metadata": {
    "collapsed": true
   },
   "outputs": [],
   "source": [
    "transmat_cat = pd.DataFrame(data=np.zeros((len(poi_cats), len(poi_cats)), dtype=np.float), \\\n",
    "                            columns=poi_cats, index=poi_cats)"
   ]
  },
  {
   "cell_type": "markdown",
   "metadata": {},
   "source": [
    "Count the number of transitions between POI categories."
   ]
  },
  {
   "cell_type": "code",
   "execution_count": 166,
   "metadata": {
    "collapsed": false
   },
   "outputs": [],
   "source": [
    "for seqid in seqid_set_train0:\n",
    "    seq = extract_seq(seqid, seq_all)\n",
    "    assert(len(seq) > 2)\n",
    "    for pi in range(len(seq)-1):\n",
    "        p1 = seq[pi]\n",
    "        p2 = seq[pi+1]\n",
    "        cat1 = poi_all.loc[p1, 'poiTheme']\n",
    "        cat2 = poi_all.loc[p2, 'poiTheme']\n",
    "        transmat_cat.loc[cat1, cat2] += 1"
   ]
  },
  {
   "cell_type": "code",
   "execution_count": 169,
   "metadata": {
    "collapsed": false
   },
   "outputs": [
    {
     "data": {
      "text/html": [
       "<div>\n",
       "<table border=\"1\" class=\"dataframe\">\n",
       "  <thead>\n",
       "    <tr style=\"text-align: right;\">\n",
       "      <th></th>\n",
       "      <th>Amusement</th>\n",
       "      <th>Beach</th>\n",
       "      <th>Cultural</th>\n",
       "      <th>Shopping</th>\n",
       "      <th>Sport</th>\n",
       "      <th>Structure</th>\n",
       "    </tr>\n",
       "  </thead>\n",
       "  <tbody>\n",
       "    <tr>\n",
       "      <th>Amusement</th>\n",
       "      <td>2</td>\n",
       "      <td>4</td>\n",
       "      <td>9</td>\n",
       "      <td>1</td>\n",
       "      <td>7</td>\n",
       "      <td>2</td>\n",
       "    </tr>\n",
       "    <tr>\n",
       "      <th>Beach</th>\n",
       "      <td>4</td>\n",
       "      <td>8</td>\n",
       "      <td>13</td>\n",
       "      <td>13</td>\n",
       "      <td>3</td>\n",
       "      <td>17</td>\n",
       "    </tr>\n",
       "    <tr>\n",
       "      <th>Cultural</th>\n",
       "      <td>11</td>\n",
       "      <td>15</td>\n",
       "      <td>6</td>\n",
       "      <td>7</td>\n",
       "      <td>8</td>\n",
       "      <td>13</td>\n",
       "    </tr>\n",
       "    <tr>\n",
       "      <th>Shopping</th>\n",
       "      <td>2</td>\n",
       "      <td>13</td>\n",
       "      <td>8</td>\n",
       "      <td>1</td>\n",
       "      <td>2</td>\n",
       "      <td>11</td>\n",
       "    </tr>\n",
       "    <tr>\n",
       "      <th>Sport</th>\n",
       "      <td>7</td>\n",
       "      <td>5</td>\n",
       "      <td>1</td>\n",
       "      <td>2</td>\n",
       "      <td>3</td>\n",
       "      <td>4</td>\n",
       "    </tr>\n",
       "    <tr>\n",
       "      <th>Structure</th>\n",
       "      <td>5</td>\n",
       "      <td>13</td>\n",
       "      <td>18</td>\n",
       "      <td>9</td>\n",
       "      <td>2</td>\n",
       "      <td>4</td>\n",
       "    </tr>\n",
       "  </tbody>\n",
       "</table>\n",
       "</div>"
      ],
      "text/plain": [
       "           Amusement  Beach  Cultural  Shopping  Sport  Structure\n",
       "Amusement          2      4         9         1      7          2\n",
       "Beach              4      8        13        13      3         17\n",
       "Cultural          11     15         6         7      8         13\n",
       "Shopping           2     13         8         1      2         11\n",
       "Sport              7      5         1         2      3          4\n",
       "Structure          5     13        18         9      2          4"
      ]
     },
     "execution_count": 169,
     "metadata": {},
     "output_type": "execute_result"
    }
   ],
   "source": [
    "transmat_cat"
   ]
  },
  {
   "cell_type": "markdown",
   "metadata": {},
   "source": [
    "Normalise each row to obtain transition probabilities."
   ]
  },
  {
   "cell_type": "code",
   "execution_count": 170,
   "metadata": {
    "collapsed": false
   },
   "outputs": [],
   "source": [
    "transmat_cat = normalise_transmat(transmat_cat)"
   ]
  },
  {
   "cell_type": "code",
   "execution_count": 171,
   "metadata": {
    "collapsed": false
   },
   "outputs": [
    {
     "data": {
      "text/html": [
       "<div>\n",
       "<table border=\"1\" class=\"dataframe\">\n",
       "  <thead>\n",
       "    <tr style=\"text-align: right;\">\n",
       "      <th></th>\n",
       "      <th>Amusement</th>\n",
       "      <th>Beach</th>\n",
       "      <th>Cultural</th>\n",
       "      <th>Shopping</th>\n",
       "      <th>Sport</th>\n",
       "      <th>Structure</th>\n",
       "    </tr>\n",
       "  </thead>\n",
       "  <tbody>\n",
       "    <tr>\n",
       "      <th>Amusement</th>\n",
       "      <td>0.080000</td>\n",
       "      <td>0.160000</td>\n",
       "      <td>0.360000</td>\n",
       "      <td>0.040000</td>\n",
       "      <td>0.280000</td>\n",
       "      <td>0.080000</td>\n",
       "    </tr>\n",
       "    <tr>\n",
       "      <th>Beach</th>\n",
       "      <td>0.068966</td>\n",
       "      <td>0.137931</td>\n",
       "      <td>0.224138</td>\n",
       "      <td>0.224138</td>\n",
       "      <td>0.051724</td>\n",
       "      <td>0.293103</td>\n",
       "    </tr>\n",
       "    <tr>\n",
       "      <th>Cultural</th>\n",
       "      <td>0.183333</td>\n",
       "      <td>0.250000</td>\n",
       "      <td>0.100000</td>\n",
       "      <td>0.116667</td>\n",
       "      <td>0.133333</td>\n",
       "      <td>0.216667</td>\n",
       "    </tr>\n",
       "    <tr>\n",
       "      <th>Shopping</th>\n",
       "      <td>0.054054</td>\n",
       "      <td>0.351351</td>\n",
       "      <td>0.216216</td>\n",
       "      <td>0.027027</td>\n",
       "      <td>0.054054</td>\n",
       "      <td>0.297297</td>\n",
       "    </tr>\n",
       "    <tr>\n",
       "      <th>Sport</th>\n",
       "      <td>0.318182</td>\n",
       "      <td>0.227273</td>\n",
       "      <td>0.045455</td>\n",
       "      <td>0.090909</td>\n",
       "      <td>0.136364</td>\n",
       "      <td>0.181818</td>\n",
       "    </tr>\n",
       "    <tr>\n",
       "      <th>Structure</th>\n",
       "      <td>0.098039</td>\n",
       "      <td>0.254902</td>\n",
       "      <td>0.352941</td>\n",
       "      <td>0.176471</td>\n",
       "      <td>0.039216</td>\n",
       "      <td>0.078431</td>\n",
       "    </tr>\n",
       "  </tbody>\n",
       "</table>\n",
       "</div>"
      ],
      "text/plain": [
       "           Amusement     Beach  Cultural  Shopping     Sport  Structure\n",
       "Amusement   0.080000  0.160000  0.360000  0.040000  0.280000   0.080000\n",
       "Beach       0.068966  0.137931  0.224138  0.224138  0.051724   0.293103\n",
       "Cultural    0.183333  0.250000  0.100000  0.116667  0.133333   0.216667\n",
       "Shopping    0.054054  0.351351  0.216216  0.027027  0.054054   0.297297\n",
       "Sport       0.318182  0.227273  0.045455  0.090909  0.136364   0.181818\n",
       "Structure   0.098039  0.254902  0.352941  0.176471  0.039216   0.078431"
      ]
     },
     "execution_count": 171,
     "metadata": {},
     "output_type": "execute_result"
    }
   ],
   "source": [
    "transmat_cat"
   ]
  },
  {
   "cell_type": "markdown",
   "metadata": {},
   "source": [
    "<a id='sec3.3'></a>"
   ]
  },
  {
   "cell_type": "markdown",
   "metadata": {},
   "source": [
    "## 3.3 Transition Matrix between POI Popularity Classes"
   ]
  },
  {
   "cell_type": "code",
   "execution_count": 172,
   "metadata": {
    "collapsed": false
   },
   "outputs": [
    {
     "data": {
      "text/plain": [
       "[1, 2, 3, 4, 5, 6, 7, 9, 10, 14, 22, 29, 30, 31, 32, 33, 36, 45]"
      ]
     },
     "execution_count": 172,
     "metadata": {},
     "output_type": "execute_result"
    }
   ],
   "source": [
    "poi_pops = poi_info_t.loc[poi_train, 'popularity'].unique().tolist()\n",
    "poi_pops.sort()\n",
    "poi_pops"
   ]
  },
  {
   "cell_type": "markdown",
   "metadata": {},
   "source": [
    "Discretize POI popularity with uniform log-scale bins (#bins $\\le 5$)."
   ]
  },
  {
   "cell_type": "code",
   "execution_count": 173,
   "metadata": {
    "collapsed": false
   },
   "outputs": [
    {
     "data": {
      "text/plain": [
       "4142"
      ]
     },
     "execution_count": 173,
     "metadata": {},
     "output_type": "execute_result"
    }
   ],
   "source": [
    "poi_all['poiFreq'].max()"
   ]
  },
  {
   "cell_type": "code",
   "execution_count": 174,
   "metadata": {
    "collapsed": false
   },
   "outputs": [
    {
     "data": {
      "text/plain": [
       "1.6532125137753437"
      ]
     },
     "execution_count": 174,
     "metadata": {},
     "output_type": "execute_result"
    }
   ],
   "source": [
    "exponent_pop = np.log10(max(poi_pops))\n",
    "exponent_pop"
   ]
  },
  {
   "cell_type": "code",
   "execution_count": 175,
   "metadata": {
    "collapsed": false
   },
   "outputs": [
    {
     "data": {
      "text/plain": [
       "array([   1.        ,    3.16227766,   10.        ,   31.6227766 ,  100.        ])"
      ]
     },
     "execution_count": 175,
     "metadata": {},
     "output_type": "execute_result"
    }
   ],
   "source": [
    "nbins_pop = 4\n",
    "logbins_pop = np.logspace(0, np.ceil(exponent_pop), nbins_pop+1)\n",
    "logbins_pop"
   ]
  },
  {
   "cell_type": "code",
   "execution_count": 176,
   "metadata": {
    "collapsed": false
   },
   "outputs": [
    {
     "data": {
      "image/png": "[encoded data removed]",
      "text/plain": [
       "<matplotlib.figure.Figure at 0x7f50b5bfe1d0>"
      ]
     },
     "metadata": {},
     "output_type": "display_data"
    }
   ],
   "source": [
    "ax = pd.Series(poi_pops).hist(figsize=(5, 3), bins=logbins_pop)\n",
    "ax.set_xscale('log')"
   ]
  },
  {
   "cell_type": "code",
   "execution_count": 177,
   "metadata": {
    "collapsed": false
   },
   "outputs": [],
   "source": [
    "transmat_pop = pd.DataFrame(data=np.zeros((nbins_pop, nbins_pop), dtype=np.float), \\\n",
    "                            columns=np.arange(1, nbins_pop+1), index=np.arange(1, nbins_pop+1))"
   ]
  },
  {
   "cell_type": "markdown",
   "metadata": {},
   "source": [
    "Count the number of transitions between POI popularity classes."
   ]
  },
  {
   "cell_type": "code",
   "execution_count": 178,
   "metadata": {
    "collapsed": false
   },
   "outputs": [],
   "source": [
    "#np.digitize([101, 0.1], logbins_pop)"
   ]
  },
  {
   "cell_type": "code",
   "execution_count": 179,
   "metadata": {
    "collapsed": true
   },
   "outputs": [],
   "source": [
    "for seqid in seqid_set_train0:\n",
    "    seq = extract_seq(seqid, seq_all)\n",
    "    assert(len(seq) > 2)\n",
    "    for pi in range(len(seq)-1):\n",
    "        p1 = seq[pi]\n",
    "        p2 = seq[pi+1]\n",
    "        pop1 = poi_info_t.loc[p1, 'popularity']\n",
    "        pop2 = poi_info_t.loc[p2, 'popularity']\n",
    "        pc1, pc2 = np.digitize([pop1, pop2], logbins_pop)\n",
    "        transmat_pop.loc[pc1, pc2] += 1"
   ]
  },
  {
   "cell_type": "code",
   "execution_count": 180,
   "metadata": {
    "collapsed": false
   },
   "outputs": [
    {
     "data": {
      "text/html": [
       "<div>\n",
       "<table border=\"1\" class=\"dataframe\">\n",
       "  <thead>\n",
       "    <tr style=\"text-align: right;\">\n",
       "      <th></th>\n",
       "      <th>1</th>\n",
       "      <th>2</th>\n",
       "      <th>3</th>\n",
       "      <th>4</th>\n",
       "    </tr>\n",
       "  </thead>\n",
       "  <tbody>\n",
       "    <tr>\n",
       "      <th>1</th>\n",
       "      <td>4</td>\n",
       "      <td>1</td>\n",
       "      <td>0</td>\n",
       "      <td>0</td>\n",
       "    </tr>\n",
       "    <tr>\n",
       "      <th>2</th>\n",
       "      <td>2</td>\n",
       "      <td>3</td>\n",
       "      <td>15</td>\n",
       "      <td>8</td>\n",
       "    </tr>\n",
       "    <tr>\n",
       "      <th>3</th>\n",
       "      <td>3</td>\n",
       "      <td>13</td>\n",
       "      <td>38</td>\n",
       "      <td>62</td>\n",
       "    </tr>\n",
       "    <tr>\n",
       "      <th>4</th>\n",
       "      <td>1</td>\n",
       "      <td>11</td>\n",
       "      <td>52</td>\n",
       "      <td>40</td>\n",
       "    </tr>\n",
       "  </tbody>\n",
       "</table>\n",
       "</div>"
      ],
      "text/plain": [
       "   1   2   3   4\n",
       "1  4   1   0   0\n",
       "2  2   3  15   8\n",
       "3  3  13  38  62\n",
       "4  1  11  52  40"
      ]
     },
     "execution_count": 180,
     "metadata": {},
     "output_type": "execute_result"
    }
   ],
   "source": [
    "transmat_pop"
   ]
  },
  {
   "cell_type": "markdown",
   "metadata": {},
   "source": [
    "Normalise each row to obtain transition probabilities."
   ]
  },
  {
   "cell_type": "code",
   "execution_count": 181,
   "metadata": {
    "collapsed": false
   },
   "outputs": [],
   "source": [
    "transmat_pop = normalise_transmat(transmat_pop)"
   ]
  },
  {
   "cell_type": "code",
   "execution_count": 182,
   "metadata": {
    "collapsed": false
   },
   "outputs": [
    {
     "data": {
      "text/html": [
       "<div>\n",
       "<table border=\"1\" class=\"dataframe\">\n",
       "  <thead>\n",
       "    <tr style=\"text-align: right;\">\n",
       "      <th></th>\n",
       "      <th>1</th>\n",
       "      <th>2</th>\n",
       "      <th>3</th>\n",
       "      <th>4</th>\n",
       "    </tr>\n",
       "  </thead>\n",
       "  <tbody>\n",
       "    <tr>\n",
       "      <th>1</th>\n",
       "      <td>0.724138</td>\n",
       "      <td>0.206897</td>\n",
       "      <td>0.034483</td>\n",
       "      <td>0.034483</td>\n",
       "    </tr>\n",
       "    <tr>\n",
       "      <th>2</th>\n",
       "      <td>0.071429</td>\n",
       "      <td>0.107143</td>\n",
       "      <td>0.535714</td>\n",
       "      <td>0.285714</td>\n",
       "    </tr>\n",
       "    <tr>\n",
       "      <th>3</th>\n",
       "      <td>0.025862</td>\n",
       "      <td>0.112069</td>\n",
       "      <td>0.327586</td>\n",
       "      <td>0.534483</td>\n",
       "    </tr>\n",
       "    <tr>\n",
       "      <th>4</th>\n",
       "      <td>0.009615</td>\n",
       "      <td>0.105769</td>\n",
       "      <td>0.500000</td>\n",
       "      <td>0.384615</td>\n",
       "    </tr>\n",
       "  </tbody>\n",
       "</table>\n",
       "</div>"
      ],
      "text/plain": [
       "          1         2         3         4\n",
       "1  0.724138  0.206897  0.034483  0.034483\n",
       "2  0.071429  0.107143  0.535714  0.285714\n",
       "3  0.025862  0.112069  0.327586  0.534483\n",
       "4  0.009615  0.105769  0.500000  0.384615"
      ]
     },
     "execution_count": 182,
     "metadata": {},
     "output_type": "execute_result"
    }
   ],
   "source": [
    "transmat_pop"
   ]
  },
  {
   "cell_type": "markdown",
   "metadata": {},
   "source": [
    "<a id='sec3.4'></a>"
   ]
  },
  {
   "cell_type": "markdown",
   "metadata": {},
   "source": [
    "## 3.4 Transition Matrix between POI Average Visit Duration Classes"
   ]
  },
  {
   "cell_type": "code",
   "execution_count": 183,
   "metadata": {
    "collapsed": false
   },
   "outputs": [
    {
     "data": {
      "text/plain": [
       "array([   29.  ,    57.67,    61.  ,   512.  ,   673.5 ,   817.8 ,\n",
       "        1262.43,  1411.44,  1660.25,  2088.29,  2136.36,  2309.28,\n",
       "        2475.  ,  3411.71,  3438.64,  3457.39,  3470.51,  4121.9 ,\n",
       "        4331.  ,  4719.  ,  5248.15,  5315.93,  6772.2 ,  9911.5 ])"
      ]
     },
     "execution_count": 183,
     "metadata": {},
     "output_type": "execute_result"
    }
   ],
   "source": [
    "poi_durations = poi_info_t.loc[poi_train, 'avgDuration(sec)'].unique().tolist()\n",
    "poi_durations.sort()\n",
    "np.round(poi_durations, 2)"
   ]
  },
  {
   "cell_type": "markdown",
   "metadata": {},
   "source": [
    "Discretize POI average visit duration with uniform log-scale bins (#bins $\\le 5$)."
   ]
  },
  {
   "cell_type": "code",
   "execution_count": 184,
   "metadata": {
    "collapsed": false
   },
   "outputs": [
    {
     "data": {
      "text/plain": [
       "3.9961393853052534"
      ]
     },
     "execution_count": 184,
     "metadata": {},
     "output_type": "execute_result"
    }
   ],
   "source": [
    "exponent_duration = np.log10(max(poi_durations))\n",
    "exponent_duration"
   ]
  },
  {
   "cell_type": "code",
   "execution_count": 189,
   "metadata": {
    "collapsed": false
   },
   "outputs": [
    {
     "data": {
      "text/plain": [
       "array([  1.00000000e+00,   6.30957344e+00,   3.98107171e+01,\n",
       "         2.51188643e+02,   1.58489319e+03,   1.00000000e+04])"
      ]
     },
     "execution_count": 189,
     "metadata": {},
     "output_type": "execute_result"
    }
   ],
   "source": [
    "nbins_duration = 5\n",
    "logbins_duration = np.logspace(0, np.ceil(exponent_duration), nbins_duration+1)\n",
    "logbins_duration"
   ]
  },
  {
   "cell_type": "code",
   "execution_count": 190,
   "metadata": {
    "collapsed": false
   },
   "outputs": [
    {
     "data": {
      "image/png": "[encoded data removed]",
      "text/plain": [
       "<matplotlib.figure.Figure at 0x7f50b5c77ac8>"
      ]
     },
     "metadata": {},
     "output_type": "display_data"
    }
   ],
   "source": [
    "ax = pd.Series(poi_durations).hist(figsize=(5, 3), bins=logbins_duration)\n",
    "ax.set_xscale('log')"
   ]
  },
  {
   "cell_type": "code",
   "execution_count": 191,
   "metadata": {
    "collapsed": false
   },
   "outputs": [],
   "source": [
    "transmat_duration = pd.DataFrame(data=np.zeros((nbins_duration, nbins_duration), dtype=np.float), \\\n",
    "                                 columns=np.arange(1, nbins_duration+1), index=np.arange(1, nbins_duration+1))"
   ]
  },
  {
   "cell_type": "markdown",
   "metadata": {},
   "source": [
    "Count the number of transitions between POI average visit duration classes."
   ]
  },
  {
   "cell_type": "code",
   "execution_count": 192,
   "metadata": {
    "collapsed": false
   },
   "outputs": [],
   "source": [
    "for seqid in seqid_set_train0:\n",
    "    seq = extract_seq(seqid, seq_all)\n",
    "    assert(len(seq) > 2)\n",
    "    for pi in range(len(seq)-1):\n",
    "        p1 = seq[pi]\n",
    "        p2 = seq[pi+1]\n",
    "        d1 = poi_info_t.loc[p1, 'avgDuration(sec)']\n",
    "        d2 = poi_info_t.loc[p2, 'avgDuration(sec)']\n",
    "        dc1, dc2 = np.digitize([d1, d2], logbins_duration)\n",
    "        transmat_duration.loc[dc1, dc2] += 1"
   ]
  },
  {
   "cell_type": "code",
   "execution_count": 193,
   "metadata": {
    "collapsed": false
   },
   "outputs": [
    {
     "data": {
      "text/html": [
       "<div>\n",
       "<table border=\"1\" class=\"dataframe\">\n",
       "  <thead>\n",
       "    <tr style=\"text-align: right;\">\n",
       "      <th></th>\n",
       "      <th>1</th>\n",
       "      <th>2</th>\n",
       "      <th>3</th>\n",
       "      <th>4</th>\n",
       "      <th>5</th>\n",
       "    </tr>\n",
       "  </thead>\n",
       "  <tbody>\n",
       "    <tr>\n",
       "      <th>1</th>\n",
       "      <td>0</td>\n",
       "      <td>0</td>\n",
       "      <td>0</td>\n",
       "      <td>0</td>\n",
       "      <td>0</td>\n",
       "    </tr>\n",
       "    <tr>\n",
       "      <th>2</th>\n",
       "      <td>0</td>\n",
       "      <td>0</td>\n",
       "      <td>0</td>\n",
       "      <td>0</td>\n",
       "      <td>0</td>\n",
       "    </tr>\n",
       "    <tr>\n",
       "      <th>3</th>\n",
       "      <td>0</td>\n",
       "      <td>0</td>\n",
       "      <td>0</td>\n",
       "      <td>0</td>\n",
       "      <td>0</td>\n",
       "    </tr>\n",
       "    <tr>\n",
       "      <th>4</th>\n",
       "      <td>0</td>\n",
       "      <td>1</td>\n",
       "      <td>0</td>\n",
       "      <td>2</td>\n",
       "      <td>20</td>\n",
       "    </tr>\n",
       "    <tr>\n",
       "      <th>5</th>\n",
       "      <td>0</td>\n",
       "      <td>0</td>\n",
       "      <td>4</td>\n",
       "      <td>23</td>\n",
       "      <td>203</td>\n",
       "    </tr>\n",
       "  </tbody>\n",
       "</table>\n",
       "</div>"
      ],
      "text/plain": [
       "   1  2  3   4    5\n",
       "1  0  0  0   0    0\n",
       "2  0  0  0   0    0\n",
       "3  0  0  0   0    0\n",
       "4  0  1  0   2   20\n",
       "5  0  0  4  23  203"
      ]
     },
     "execution_count": 193,
     "metadata": {},
     "output_type": "execute_result"
    }
   ],
   "source": [
    "transmat_duration"
   ]
  },
  {
   "cell_type": "markdown",
   "metadata": {},
   "source": [
    "Normalise each row to obtain transition probabilities."
   ]
  },
  {
   "cell_type": "code",
   "execution_count": 194,
   "metadata": {
    "collapsed": true
   },
   "outputs": [],
   "source": [
    "transmat_duration = normalise_transmat(transmat_duration)"
   ]
  },
  {
   "cell_type": "code",
   "execution_count": 195,
   "metadata": {
    "collapsed": false
   },
   "outputs": [
    {
     "data": {
      "text/html": [
       "<div>\n",
       "<table border=\"1\" class=\"dataframe\">\n",
       "  <thead>\n",
       "    <tr style=\"text-align: right;\">\n",
       "      <th></th>\n",
       "      <th>1</th>\n",
       "      <th>2</th>\n",
       "      <th>3</th>\n",
       "      <th>4</th>\n",
       "      <th>5</th>\n",
       "    </tr>\n",
       "  </thead>\n",
       "  <tbody>\n",
       "    <tr>\n",
       "      <th>1</th>\n",
       "      <td>0.200000</td>\n",
       "      <td>0.200000</td>\n",
       "      <td>0.200000</td>\n",
       "      <td>0.200000</td>\n",
       "      <td>0.200000</td>\n",
       "    </tr>\n",
       "    <tr>\n",
       "      <th>2</th>\n",
       "      <td>0.200000</td>\n",
       "      <td>0.200000</td>\n",
       "      <td>0.200000</td>\n",
       "      <td>0.200000</td>\n",
       "      <td>0.200000</td>\n",
       "    </tr>\n",
       "    <tr>\n",
       "      <th>3</th>\n",
       "      <td>0.200000</td>\n",
       "      <td>0.200000</td>\n",
       "      <td>0.200000</td>\n",
       "      <td>0.200000</td>\n",
       "      <td>0.200000</td>\n",
       "    </tr>\n",
       "    <tr>\n",
       "      <th>4</th>\n",
       "      <td>0.008333</td>\n",
       "      <td>0.050000</td>\n",
       "      <td>0.008333</td>\n",
       "      <td>0.091667</td>\n",
       "      <td>0.841667</td>\n",
       "    </tr>\n",
       "    <tr>\n",
       "      <th>5</th>\n",
       "      <td>0.003419</td>\n",
       "      <td>0.003419</td>\n",
       "      <td>0.020513</td>\n",
       "      <td>0.101709</td>\n",
       "      <td>0.870940</td>\n",
       "    </tr>\n",
       "  </tbody>\n",
       "</table>\n",
       "</div>"
      ],
      "text/plain": [
       "          1         2         3         4         5\n",
       "1  0.200000  0.200000  0.200000  0.200000  0.200000\n",
       "2  0.200000  0.200000  0.200000  0.200000  0.200000\n",
       "3  0.200000  0.200000  0.200000  0.200000  0.200000\n",
       "4  0.008333  0.050000  0.008333  0.091667  0.841667\n",
       "5  0.003419  0.003419  0.020513  0.101709  0.870940"
      ]
     },
     "execution_count": 195,
     "metadata": {},
     "output_type": "execute_result"
    }
   ],
   "source": [
    "transmat_duration"
   ]
  },
  {
   "cell_type": "markdown",
   "metadata": {},
   "source": [
    "<a id='sec3.5'></a>"
   ]
  },
  {
   "cell_type": "markdown",
   "metadata": {},
   "source": [
    "## 3.5 Transition Matrix between POI Neighborhood Classes"
   ]
  },
  {
   "cell_type": "markdown",
   "metadata": {},
   "source": [
    "Compute POI neighborhoods, i.e., clustering POI (lat, lon) in training set using k-means, #clusters $\\le 5$."
   ]
  },
  {
   "cell_type": "markdown",
   "metadata": {},
   "source": [
    "KMeans in scikit-learn seems unable to use custom distance metric and no implementation of [Haversine formula](http://en.wikipedia.org/wiki/Great-circle_distance), use Euclidean distance to approximate."
   ]
  },
  {
   "cell_type": "code",
   "execution_count": 230,
   "metadata": {
    "collapsed": false
   },
   "outputs": [],
   "source": [
    "#from sklearn.cluster import KMeans\n",
    "X = poi_all.loc[poi_train, ['poiLon', 'poiLat']]\n",
    "nclusters = 5"
   ]
  },
  {
   "cell_type": "code",
   "execution_count": 231,
   "metadata": {
    "collapsed": false
   },
   "outputs": [
    {
     "data": {
      "text/plain": [
       "KMeans(copy_x=True, init='k-means++', max_iter=300, n_clusters=5, n_init=10,\n",
       "    n_jobs=1, precompute_distances='auto', random_state=None, tol=0.0001,\n",
       "    verbose=0)"
      ]
     },
     "execution_count": 231,
     "metadata": {},
     "output_type": "execute_result"
    }
   ],
   "source": [
    "kmeans = KMeans(n_clusters=nclusters)\n",
    "kmeans.fit(X)"
   ]
  },
  {
   "cell_type": "code",
   "execution_count": 232,
   "metadata": {
    "collapsed": false
   },
   "outputs": [
    {
     "data": {
      "text/plain": [
       "array([1, 1, 1, 1, 1, 1, 3, 1, 1, 1, 3, 1, 1, 3, 3, 3, 2, 0, 0, 0, 1, 1, 4,\n",
       "       4], dtype=int32)"
      ]
     },
     "execution_count": 232,
     "metadata": {},
     "output_type": "execute_result"
    }
   ],
   "source": [
    "clusters = kmeans.predict(X)\n",
    "clusters"
   ]
  },
  {
   "cell_type": "code",
   "execution_count": 240,
   "metadata": {
    "collapsed": false
   },
   "outputs": [],
   "source": [
    "poi_clusters = pd.DataFrame(data=clusters, index=poi_train)\n",
    "poi_clusters.index.name = 'poiID'\n",
    "poi_clusters.rename(columns={0:'clusterID'}, inplace=True)\n",
    "#poi_clusters"
   ]
  },
  {
   "cell_type": "code",
   "execution_count": 229,
   "metadata": {
    "collapsed": false
   },
   "outputs": [
    {
     "data": {
      "text/plain": [
       "1.5227639511428037"
      ]
     },
     "execution_count": 229,
     "metadata": {},
     "output_type": "execute_result"
    }
   ],
   "source": [
    "diff = poi_all.loc[poi_train, ['poiLon', 'poiLat']].max() - poi_all.loc[poi_train, ['poiLon', 'poiLat']].min()\n",
    "diff['poiLon'] / diff['poiLat']"
   ]
  },
  {
   "cell_type": "markdown",
   "metadata": {},
   "source": [
    "A $3:2$ figure should be fine."
   ]
  },
  {
   "cell_type": "code",
   "execution_count": 233,
   "metadata": {
    "collapsed": false
   },
   "outputs": [
    {
     "data": {
      "text/plain": [
       "<matplotlib.collections.PathCollection at 0x7f508e42c048>"
      ]
     },
     "execution_count": 233,
     "metadata": {},
     "output_type": "execute_result"
    },
    {
     "data": {
      "image/png": "[encoded data removed]",
      "text/plain": [
       "<matplotlib.figure.Figure at 0x7f508e48f8d0>"
      ]
     },
     "metadata": {},
     "output_type": "display_data"
    }
   ],
   "source": [
    "plt.figure(figsize=[12, 8])\n",
    "plt.scatter(poi_all.loc[poi_train, 'poiLon'], poi_all.loc[poi_train, 'poiLat'], c=clusters, s=50)"
   ]
  },
  {
   "cell_type": "code",
   "execution_count": 242,
   "metadata": {
    "collapsed": false
   },
   "outputs": [],
   "source": [
    "transmat_neighbor = pd.DataFrame(data=np.zeros((nclusters, nclusters), dtype=np.float), \\\n",
    "                                 columns=np.arange(nclusters), index=np.arange(nclusters))"
   ]
  },
  {
   "cell_type": "markdown",
   "metadata": {},
   "source": [
    "Count the number of transitions between POIs in different clusters."
   ]
  },
  {
   "cell_type": "code",
   "execution_count": 243,
   "metadata": {
    "collapsed": false
   },
   "outputs": [],
   "source": [
    "for seqid in seqid_set_train0:\n",
    "    seq = extract_seq(seqid, seq_all)\n",
    "    assert(len(seq) > 2)\n",
    "    for pi in range(len(seq)-1):\n",
    "        p1 = seq[pi]\n",
    "        p2 = seq[pi+1]\n",
    "        c1 = poi_clusters.loc[p1, 'clusterID']\n",
    "        c2 = poi_clusters.loc[p2, 'clusterID']\n",
    "        transmat_neighbor.loc[c1, c2] += 1"
   ]
  },
  {
   "cell_type": "code",
   "execution_count": 244,
   "metadata": {
    "collapsed": false
   },
   "outputs": [
    {
     "data": {
      "text/html": [
       "<div>\n",
       "<table border=\"1\" class=\"dataframe\">\n",
       "  <thead>\n",
       "    <tr style=\"text-align: right;\">\n",
       "      <th></th>\n",
       "      <th>0</th>\n",
       "      <th>1</th>\n",
       "      <th>2</th>\n",
       "      <th>3</th>\n",
       "      <th>4</th>\n",
       "    </tr>\n",
       "  </thead>\n",
       "  <tbody>\n",
       "    <tr>\n",
       "      <th>0</th>\n",
       "      <td>4</td>\n",
       "      <td>0</td>\n",
       "      <td>0</td>\n",
       "      <td>0</td>\n",
       "      <td>0</td>\n",
       "    </tr>\n",
       "    <tr>\n",
       "      <th>1</th>\n",
       "      <td>1</td>\n",
       "      <td>210</td>\n",
       "      <td>0</td>\n",
       "      <td>16</td>\n",
       "      <td>2</td>\n",
       "    </tr>\n",
       "    <tr>\n",
       "      <th>2</th>\n",
       "      <td>0</td>\n",
       "      <td>0</td>\n",
       "      <td>0</td>\n",
       "      <td>1</td>\n",
       "      <td>0</td>\n",
       "    </tr>\n",
       "    <tr>\n",
       "      <th>3</th>\n",
       "      <td>0</td>\n",
       "      <td>14</td>\n",
       "      <td>0</td>\n",
       "      <td>5</td>\n",
       "      <td>0</td>\n",
       "    </tr>\n",
       "    <tr>\n",
       "      <th>4</th>\n",
       "      <td>0</td>\n",
       "      <td>0</td>\n",
       "      <td>0</td>\n",
       "      <td>0</td>\n",
       "      <td>0</td>\n",
       "    </tr>\n",
       "  </tbody>\n",
       "</table>\n",
       "</div>"
      ],
      "text/plain": [
       "   0    1  2   3  4\n",
       "0  4    0  0   0  0\n",
       "1  1  210  0  16  2\n",
       "2  0    0  0   1  0\n",
       "3  0   14  0   5  0\n",
       "4  0    0  0   0  0"
      ]
     },
     "execution_count": 244,
     "metadata": {},
     "output_type": "execute_result"
    }
   ],
   "source": [
    "transmat_neighbor"
   ]
  },
  {
   "cell_type": "markdown",
   "metadata": {},
   "source": [
    "Normalise each row to obtain transition probabilities."
   ]
  },
  {
   "cell_type": "code",
   "execution_count": 245,
   "metadata": {
    "collapsed": true
   },
   "outputs": [],
   "source": [
    "transmat_neighbor = normalise_transmat(transmat_neighbor)"
   ]
  },
  {
   "cell_type": "code",
   "execution_count": 246,
   "metadata": {
    "collapsed": false
   },
   "outputs": [
    {
     "data": {
      "text/html": [
       "<div>\n",
       "<table border=\"1\" class=\"dataframe\">\n",
       "  <thead>\n",
       "    <tr style=\"text-align: right;\">\n",
       "      <th></th>\n",
       "      <th>0</th>\n",
       "      <th>1</th>\n",
       "      <th>2</th>\n",
       "      <th>3</th>\n",
       "      <th>4</th>\n",
       "    </tr>\n",
       "  </thead>\n",
       "  <tbody>\n",
       "    <tr>\n",
       "      <th>0</th>\n",
       "      <td>0.600000</td>\n",
       "      <td>0.100000</td>\n",
       "      <td>0.100000</td>\n",
       "      <td>0.100000</td>\n",
       "      <td>0.100000</td>\n",
       "    </tr>\n",
       "    <tr>\n",
       "      <th>1</th>\n",
       "      <td>0.005217</td>\n",
       "      <td>0.913913</td>\n",
       "      <td>0.000870</td>\n",
       "      <td>0.070435</td>\n",
       "      <td>0.009565</td>\n",
       "    </tr>\n",
       "    <tr>\n",
       "      <th>2</th>\n",
       "      <td>0.100000</td>\n",
       "      <td>0.100000</td>\n",
       "      <td>0.100000</td>\n",
       "      <td>0.600000</td>\n",
       "      <td>0.100000</td>\n",
       "    </tr>\n",
       "    <tr>\n",
       "      <th>3</th>\n",
       "      <td>0.041667</td>\n",
       "      <td>0.625000</td>\n",
       "      <td>0.041667</td>\n",
       "      <td>0.250000</td>\n",
       "      <td>0.041667</td>\n",
       "    </tr>\n",
       "    <tr>\n",
       "      <th>4</th>\n",
       "      <td>0.200000</td>\n",
       "      <td>0.200000</td>\n",
       "      <td>0.200000</td>\n",
       "      <td>0.200000</td>\n",
       "      <td>0.200000</td>\n",
       "    </tr>\n",
       "  </tbody>\n",
       "</table>\n",
       "</div>"
      ],
      "text/plain": [
       "          0         1         2         3         4\n",
       "0  0.600000  0.100000  0.100000  0.100000  0.100000\n",
       "1  0.005217  0.913913  0.000870  0.070435  0.009565\n",
       "2  0.100000  0.100000  0.100000  0.600000  0.100000\n",
       "3  0.041667  0.625000  0.041667  0.250000  0.041667\n",
       "4  0.200000  0.200000  0.200000  0.200000  0.200000"
      ]
     },
     "execution_count": 246,
     "metadata": {},
     "output_type": "execute_result"
    }
   ],
   "source": [
    "transmat_neighbor"
   ]
  },
  {
   "cell_type": "markdown",
   "metadata": {},
   "source": [
    "<a id='sec3.6'></a>"
   ]
  },
  {
   "cell_type": "markdown",
   "metadata": {},
   "source": [
    "## 3.6 Transition Matrix between POI Features"
   ]
  },
  {
   "cell_type": "markdown",
   "metadata": {},
   "source": [
    "Approximate transition probabilities (matrix) between different POI features (vector) using the [Kronecker product](https://en.wikipedia.org/wiki/Kronecker_product) of individual transition matrix corresponding to each feature, i.e., POI category, POI popularity (discritized), POI average visit duration (discritized) and POI neighborhoods (clusters)."
   ]
  },
  {
   "cell_type": "code",
   "execution_count": 257,
   "metadata": {
    "collapsed": false
   },
   "outputs": [],
   "source": [
    "#from scipy.linalg import kron\n",
    "transmat_value = transmat_cat.values\n",
    "for transmat in [transmat_pop, transmat_duration, transmat_neighbor]:\n",
    "    transmat_value = kron(transmat_value, transmat.values)"
   ]
  },
  {
   "cell_type": "markdown",
   "metadata": {},
   "source": [
    "Index of Kronecker product."
   ]
  },
  {
   "cell_type": "code",
   "execution_count": 258,
   "metadata": {
    "collapsed": true
   },
   "outputs": [],
   "source": [
    "transmat_ix = list(itertools.product(transmat_cat.index, transmat_pop.index, transmat_duration, transmat_neighbor))"
   ]
  },
  {
   "cell_type": "code",
   "execution_count": 263,
   "metadata": {
    "collapsed": false
   },
   "outputs": [],
   "source": [
    "transmat_feature = pd.DataFrame(data=transmat_value, index=transmat_ix, columns=transmat_ix)\n",
    "transmat_feature.index.name = '(poiTheme, popularity, avgDuration, clusterID)'\n",
    "#transmat_feature.head()"
   ]
  },
  {
   "cell_type": "code",
   "execution_count": 264,
   "metadata": {
    "collapsed": false
   },
   "outputs": [
    {
     "name": "stdout",
     "output_type": "stream",
     "text": [
      "(6, 6)\n",
      "(4, 4)\n",
      "(5, 5)\n",
      "(5, 5)\n",
      "(600, 600)\n"
     ]
    }
   ],
   "source": [
    "print(transmat_cat.shape)\n",
    "print(transmat_pop.shape)\n",
    "print(transmat_duration.shape)\n",
    "print(transmat_neighbor.shape)\n",
    "print(transmat_feature.shape)"
   ]
  },
  {
   "cell_type": "markdown",
   "metadata": {},
   "source": [
    "The result of [Kronecker product](https://en.wikipedia.org/wiki/Kronecker_product) should be normalised to obtain transition probabilities."
   ]
  },
  {
   "cell_type": "markdown",
   "metadata": {},
   "source": [
    "Normalise and compute log probability."
   ]
  },
  {
   "cell_type": "code",
   "execution_count": 265,
   "metadata": {
    "collapsed": true
   },
   "outputs": [],
   "source": [
    "logtransmat_feature = np.log(transmat_feature)"
   ]
  },
  {
   "cell_type": "code",
   "execution_count": 266,
   "metadata": {
    "collapsed": true
   },
   "outputs": [],
   "source": [
    "#from scipy.misc import logsumexp\n",
    "for row in range(logtransmat_feature.shape[0]):\n",
    "    logtransmat_feature.iloc[row] -= logsumexp(logtransmat_feature.iloc[row])"
   ]
  },
  {
   "cell_type": "code",
   "execution_count": 268,
   "metadata": {
    "collapsed": false
   },
   "outputs": [
    {
     "data": {
      "text/html": [
       "<div>\n",
       "<table border=\"1\" class=\"dataframe\">\n",
       "  <thead>\n",
       "    <tr style=\"text-align: right;\">\n",
       "      <th></th>\n",
       "      <th>(Amusement, 1, 1, 0)</th>\n",
       "      <th>(Amusement, 1, 1, 1)</th>\n",
       "      <th>(Amusement, 1, 1, 2)</th>\n",
       "      <th>(Amusement, 1, 1, 3)</th>\n",
       "      <th>(Amusement, 1, 1, 4)</th>\n",
       "      <th>(Amusement, 1, 2, 0)</th>\n",
       "      <th>(Amusement, 1, 2, 1)</th>\n",
       "      <th>(Amusement, 1, 2, 2)</th>\n",
       "      <th>(Amusement, 1, 2, 3)</th>\n",
       "      <th>(Amusement, 1, 2, 4)</th>\n",
       "      <th>...</th>\n",
       "      <th>(Structure, 4, 4, 0)</th>\n",
       "      <th>(Structure, 4, 4, 1)</th>\n",
       "      <th>(Structure, 4, 4, 2)</th>\n",
       "      <th>(Structure, 4, 4, 3)</th>\n",
       "      <th>(Structure, 4, 4, 4)</th>\n",
       "      <th>(Structure, 4, 5, 0)</th>\n",
       "      <th>(Structure, 4, 5, 1)</th>\n",
       "      <th>(Structure, 4, 5, 2)</th>\n",
       "      <th>(Structure, 4, 5, 3)</th>\n",
       "      <th>(Structure, 4, 5, 4)</th>\n",
       "    </tr>\n",
       "    <tr>\n",
       "      <th>(poiTheme, popularity, avgDuration, clusterID)</th>\n",
       "      <th></th>\n",
       "      <th></th>\n",
       "      <th></th>\n",
       "      <th></th>\n",
       "      <th></th>\n",
       "      <th></th>\n",
       "      <th></th>\n",
       "      <th></th>\n",
       "      <th></th>\n",
       "      <th></th>\n",
       "      <th></th>\n",
       "      <th></th>\n",
       "      <th></th>\n",
       "      <th></th>\n",
       "      <th></th>\n",
       "      <th></th>\n",
       "      <th></th>\n",
       "      <th></th>\n",
       "      <th></th>\n",
       "      <th></th>\n",
       "      <th></th>\n",
       "    </tr>\n",
       "  </thead>\n",
       "  <tbody>\n",
       "    <tr>\n",
       "      <th>(Amusement, 1, 1, 0)</th>\n",
       "      <td>-4.968766</td>\n",
       "      <td>-6.760525</td>\n",
       "      <td>-6.760525</td>\n",
       "      <td>-6.760525</td>\n",
       "      <td>-6.760525</td>\n",
       "      <td>-4.968766</td>\n",
       "      <td>-6.760525</td>\n",
       "      <td>-6.760525</td>\n",
       "      <td>-6.760525</td>\n",
       "      <td>-6.760525</td>\n",
       "      <td>...</td>\n",
       "      <td>-8.013288</td>\n",
       "      <td>-9.805047</td>\n",
       "      <td>-9.805047</td>\n",
       "      <td>-9.805047</td>\n",
       "      <td>-9.805047</td>\n",
       "      <td>-8.013288</td>\n",
       "      <td>-9.805047</td>\n",
       "      <td>-9.805047</td>\n",
       "      <td>-9.805047</td>\n",
       "      <td>-9.805047</td>\n",
       "    </tr>\n",
       "    <tr>\n",
       "      <th>(Amusement, 1, 1, 1)</th>\n",
       "      <td>-9.713698</td>\n",
       "      <td>-4.547960</td>\n",
       "      <td>-11.505457</td>\n",
       "      <td>-7.111008</td>\n",
       "      <td>-9.107562</td>\n",
       "      <td>-9.713698</td>\n",
       "      <td>-4.547960</td>\n",
       "      <td>-11.505457</td>\n",
       "      <td>-7.111008</td>\n",
       "      <td>-9.107562</td>\n",
       "      <td>...</td>\n",
       "      <td>-12.758220</td>\n",
       "      <td>-7.592482</td>\n",
       "      <td>-14.549980</td>\n",
       "      <td>-10.155530</td>\n",
       "      <td>-12.152084</td>\n",
       "      <td>-12.758220</td>\n",
       "      <td>-7.592482</td>\n",
       "      <td>-14.549980</td>\n",
       "      <td>-10.155530</td>\n",
       "      <td>-12.152084</td>\n",
       "    </tr>\n",
       "    <tr>\n",
       "      <th>(Amusement, 1, 1, 2)</th>\n",
       "      <td>-6.760525</td>\n",
       "      <td>-6.760525</td>\n",
       "      <td>-6.760525</td>\n",
       "      <td>-4.968766</td>\n",
       "      <td>-6.760525</td>\n",
       "      <td>-6.760525</td>\n",
       "      <td>-6.760525</td>\n",
       "      <td>-6.760525</td>\n",
       "      <td>-4.968766</td>\n",
       "      <td>-6.760525</td>\n",
       "      <td>...</td>\n",
       "      <td>-9.805047</td>\n",
       "      <td>-9.805047</td>\n",
       "      <td>-9.805047</td>\n",
       "      <td>-8.013288</td>\n",
       "      <td>-9.805047</td>\n",
       "      <td>-9.805047</td>\n",
       "      <td>-9.805047</td>\n",
       "      <td>-9.805047</td>\n",
       "      <td>-8.013288</td>\n",
       "      <td>-9.805047</td>\n",
       "    </tr>\n",
       "    <tr>\n",
       "      <th>(Amusement, 1, 1, 3)</th>\n",
       "      <td>-7.635994</td>\n",
       "      <td>-4.927944</td>\n",
       "      <td>-7.635994</td>\n",
       "      <td>-5.844234</td>\n",
       "      <td>-7.635994</td>\n",
       "      <td>-7.635994</td>\n",
       "      <td>-4.927944</td>\n",
       "      <td>-7.635994</td>\n",
       "      <td>-5.844234</td>\n",
       "      <td>-7.635994</td>\n",
       "      <td>...</td>\n",
       "      <td>-10.680516</td>\n",
       "      <td>-7.972466</td>\n",
       "      <td>-10.680516</td>\n",
       "      <td>-8.888757</td>\n",
       "      <td>-10.680516</td>\n",
       "      <td>-10.680516</td>\n",
       "      <td>-7.972466</td>\n",
       "      <td>-10.680516</td>\n",
       "      <td>-8.888757</td>\n",
       "      <td>-10.680516</td>\n",
       "    </tr>\n",
       "    <tr>\n",
       "      <th>(Amusement, 1, 1, 4)</th>\n",
       "      <td>-6.067378</td>\n",
       "      <td>-6.067378</td>\n",
       "      <td>-6.067378</td>\n",
       "      <td>-6.067378</td>\n",
       "      <td>-6.067378</td>\n",
       "      <td>-6.067378</td>\n",
       "      <td>-6.067378</td>\n",
       "      <td>-6.067378</td>\n",
       "      <td>-6.067378</td>\n",
       "      <td>-6.067378</td>\n",
       "      <td>...</td>\n",
       "      <td>-9.111900</td>\n",
       "      <td>-9.111900</td>\n",
       "      <td>-9.111900</td>\n",
       "      <td>-9.111900</td>\n",
       "      <td>-9.111900</td>\n",
       "      <td>-9.111900</td>\n",
       "      <td>-9.111900</td>\n",
       "      <td>-9.111900</td>\n",
       "      <td>-9.111900</td>\n",
       "      <td>-9.111900</td>\n",
       "    </tr>\n",
       "  </tbody>\n",
       "</table>\n",
       "<p>5 rows × 600 columns</p>\n",
       "</div>"
      ],
      "text/plain": [
       "                                                (Amusement, 1, 1, 0)  \\\n",
       "(poiTheme, popularity, avgDuration, clusterID)                         \n",
       "(Amusement, 1, 1, 0)                                       -4.968766   \n",
       "(Amusement, 1, 1, 1)                                       -9.713698   \n",
       "(Amusement, 1, 1, 2)                                       -6.760525   \n",
       "(Amusement, 1, 1, 3)                                       -7.635994   \n",
       "(Amusement, 1, 1, 4)                                       -6.067378   \n",
       "\n",
       "                                                (Amusement, 1, 1, 1)  \\\n",
       "(poiTheme, popularity, avgDuration, clusterID)                         \n",
       "(Amusement, 1, 1, 0)                                       -6.760525   \n",
       "(Amusement, 1, 1, 1)                                       -4.547960   \n",
       "(Amusement, 1, 1, 2)                                       -6.760525   \n",
       "(Amusement, 1, 1, 3)                                       -4.927944   \n",
       "(Amusement, 1, 1, 4)                                       -6.067378   \n",
       "\n",
       "                                                (Amusement, 1, 1, 2)  \\\n",
       "(poiTheme, popularity, avgDuration, clusterID)                         \n",
       "(Amusement, 1, 1, 0)                                       -6.760525   \n",
       "(Amusement, 1, 1, 1)                                      -11.505457   \n",
       "(Amusement, 1, 1, 2)                                       -6.760525   \n",
       "(Amusement, 1, 1, 3)                                       -7.635994   \n",
       "(Amusement, 1, 1, 4)                                       -6.067378   \n",
       "\n",
       "                                                (Amusement, 1, 1, 3)  \\\n",
       "(poiTheme, popularity, avgDuration, clusterID)                         \n",
       "(Amusement, 1, 1, 0)                                       -6.760525   \n",
       "(Amusement, 1, 1, 1)                                       -7.111008   \n",
       "(Amusement, 1, 1, 2)                                       -4.968766   \n",
       "(Amusement, 1, 1, 3)                                       -5.844234   \n",
       "(Amusement, 1, 1, 4)                                       -6.067378   \n",
       "\n",
       "                                                (Amusement, 1, 1, 4)  \\\n",
       "(poiTheme, popularity, avgDuration, clusterID)                         \n",
       "(Amusement, 1, 1, 0)                                       -6.760525   \n",
       "(Amusement, 1, 1, 1)                                       -9.107562   \n",
       "(Amusement, 1, 1, 2)                                       -6.760525   \n",
       "(Amusement, 1, 1, 3)                                       -7.635994   \n",
       "(Amusement, 1, 1, 4)                                       -6.067378   \n",
       "\n",
       "                                                (Amusement, 1, 2, 0)  \\\n",
       "(poiTheme, popularity, avgDuration, clusterID)                         \n",
       "(Amusement, 1, 1, 0)                                       -4.968766   \n",
       "(Amusement, 1, 1, 1)                                       -9.713698   \n",
       "(Amusement, 1, 1, 2)                                       -6.760525   \n",
       "(Amusement, 1, 1, 3)                                       -7.635994   \n",
       "(Amusement, 1, 1, 4)                                       -6.067378   \n",
       "\n",
       "                                                (Amusement, 1, 2, 1)  \\\n",
       "(poiTheme, popularity, avgDuration, clusterID)                         \n",
       "(Amusement, 1, 1, 0)                                       -6.760525   \n",
       "(Amusement, 1, 1, 1)                                       -4.547960   \n",
       "(Amusement, 1, 1, 2)                                       -6.760525   \n",
       "(Amusement, 1, 1, 3)                                       -4.927944   \n",
       "(Amusement, 1, 1, 4)                                       -6.067378   \n",
       "\n",
       "                                                (Amusement, 1, 2, 2)  \\\n",
       "(poiTheme, popularity, avgDuration, clusterID)                         \n",
       "(Amusement, 1, 1, 0)                                       -6.760525   \n",
       "(Amusement, 1, 1, 1)                                      -11.505457   \n",
       "(Amusement, 1, 1, 2)                                       -6.760525   \n",
       "(Amusement, 1, 1, 3)                                       -7.635994   \n",
       "(Amusement, 1, 1, 4)                                       -6.067378   \n",
       "\n",
       "                                                (Amusement, 1, 2, 3)  \\\n",
       "(poiTheme, popularity, avgDuration, clusterID)                         \n",
       "(Amusement, 1, 1, 0)                                       -6.760525   \n",
       "(Amusement, 1, 1, 1)                                       -7.111008   \n",
       "(Amusement, 1, 1, 2)                                       -4.968766   \n",
       "(Amusement, 1, 1, 3)                                       -5.844234   \n",
       "(Amusement, 1, 1, 4)                                       -6.067378   \n",
       "\n",
       "                                                (Amusement, 1, 2, 4)  \\\n",
       "(poiTheme, popularity, avgDuration, clusterID)                         \n",
       "(Amusement, 1, 1, 0)                                       -6.760525   \n",
       "(Amusement, 1, 1, 1)                                       -9.107562   \n",
       "(Amusement, 1, 1, 2)                                       -6.760525   \n",
       "(Amusement, 1, 1, 3)                                       -7.635994   \n",
       "(Amusement, 1, 1, 4)                                       -6.067378   \n",
       "\n",
       "                                                        ...           \\\n",
       "(poiTheme, popularity, avgDuration, clusterID)          ...            \n",
       "(Amusement, 1, 1, 0)                                    ...            \n",
       "(Amusement, 1, 1, 1)                                    ...            \n",
       "(Amusement, 1, 1, 2)                                    ...            \n",
       "(Amusement, 1, 1, 3)                                    ...            \n",
       "(Amusement, 1, 1, 4)                                    ...            \n",
       "\n",
       "                                                (Structure, 4, 4, 0)  \\\n",
       "(poiTheme, popularity, avgDuration, clusterID)                         \n",
       "(Amusement, 1, 1, 0)                                       -8.013288   \n",
       "(Amusement, 1, 1, 1)                                      -12.758220   \n",
       "(Amusement, 1, 1, 2)                                       -9.805047   \n",
       "(Amusement, 1, 1, 3)                                      -10.680516   \n",
       "(Amusement, 1, 1, 4)                                       -9.111900   \n",
       "\n",
       "                                                (Structure, 4, 4, 1)  \\\n",
       "(poiTheme, popularity, avgDuration, clusterID)                         \n",
       "(Amusement, 1, 1, 0)                                       -9.805047   \n",
       "(Amusement, 1, 1, 1)                                       -7.592482   \n",
       "(Amusement, 1, 1, 2)                                       -9.805047   \n",
       "(Amusement, 1, 1, 3)                                       -7.972466   \n",
       "(Amusement, 1, 1, 4)                                       -9.111900   \n",
       "\n",
       "                                                (Structure, 4, 4, 2)  \\\n",
       "(poiTheme, popularity, avgDuration, clusterID)                         \n",
       "(Amusement, 1, 1, 0)                                       -9.805047   \n",
       "(Amusement, 1, 1, 1)                                      -14.549980   \n",
       "(Amusement, 1, 1, 2)                                       -9.805047   \n",
       "(Amusement, 1, 1, 3)                                      -10.680516   \n",
       "(Amusement, 1, 1, 4)                                       -9.111900   \n",
       "\n",
       "                                                (Structure, 4, 4, 3)  \\\n",
       "(poiTheme, popularity, avgDuration, clusterID)                         \n",
       "(Amusement, 1, 1, 0)                                       -9.805047   \n",
       "(Amusement, 1, 1, 1)                                      -10.155530   \n",
       "(Amusement, 1, 1, 2)                                       -8.013288   \n",
       "(Amusement, 1, 1, 3)                                       -8.888757   \n",
       "(Amusement, 1, 1, 4)                                       -9.111900   \n",
       "\n",
       "                                                (Structure, 4, 4, 4)  \\\n",
       "(poiTheme, popularity, avgDuration, clusterID)                         \n",
       "(Amusement, 1, 1, 0)                                       -9.805047   \n",
       "(Amusement, 1, 1, 1)                                      -12.152084   \n",
       "(Amusement, 1, 1, 2)                                       -9.805047   \n",
       "(Amusement, 1, 1, 3)                                      -10.680516   \n",
       "(Amusement, 1, 1, 4)                                       -9.111900   \n",
       "\n",
       "                                                (Structure, 4, 5, 0)  \\\n",
       "(poiTheme, popularity, avgDuration, clusterID)                         \n",
       "(Amusement, 1, 1, 0)                                       -8.013288   \n",
       "(Amusement, 1, 1, 1)                                      -12.758220   \n",
       "(Amusement, 1, 1, 2)                                       -9.805047   \n",
       "(Amusement, 1, 1, 3)                                      -10.680516   \n",
       "(Amusement, 1, 1, 4)                                       -9.111900   \n",
       "\n",
       "                                                (Structure, 4, 5, 1)  \\\n",
       "(poiTheme, popularity, avgDuration, clusterID)                         \n",
       "(Amusement, 1, 1, 0)                                       -9.805047   \n",
       "(Amusement, 1, 1, 1)                                       -7.592482   \n",
       "(Amusement, 1, 1, 2)                                       -9.805047   \n",
       "(Amusement, 1, 1, 3)                                       -7.972466   \n",
       "(Amusement, 1, 1, 4)                                       -9.111900   \n",
       "\n",
       "                                                (Structure, 4, 5, 2)  \\\n",
       "(poiTheme, popularity, avgDuration, clusterID)                         \n",
       "(Amusement, 1, 1, 0)                                       -9.805047   \n",
       "(Amusement, 1, 1, 1)                                      -14.549980   \n",
       "(Amusement, 1, 1, 2)                                       -9.805047   \n",
       "(Amusement, 1, 1, 3)                                      -10.680516   \n",
       "(Amusement, 1, 1, 4)                                       -9.111900   \n",
       "\n",
       "                                                (Structure, 4, 5, 3)  \\\n",
       "(poiTheme, popularity, avgDuration, clusterID)                         \n",
       "(Amusement, 1, 1, 0)                                       -9.805047   \n",
       "(Amusement, 1, 1, 1)                                      -10.155530   \n",
       "(Amusement, 1, 1, 2)                                       -8.013288   \n",
       "(Amusement, 1, 1, 3)                                       -8.888757   \n",
       "(Amusement, 1, 1, 4)                                       -9.111900   \n",
       "\n",
       "                                                (Structure, 4, 5, 4)  \n",
       "(poiTheme, popularity, avgDuration, clusterID)                        \n",
       "(Amusement, 1, 1, 0)                                       -9.805047  \n",
       "(Amusement, 1, 1, 1)                                      -12.152084  \n",
       "(Amusement, 1, 1, 2)                                       -9.805047  \n",
       "(Amusement, 1, 1, 3)                                      -10.680516  \n",
       "(Amusement, 1, 1, 4)                                       -9.111900  \n",
       "\n",
       "[5 rows x 600 columns]"
      ]
     },
     "execution_count": 268,
     "metadata": {},
     "output_type": "execute_result"
    }
   ],
   "source": [
    "logtransmat_feature.head()"
   ]
  },
  {
   "cell_type": "markdown",
   "metadata": {},
   "source": [
    "<a id='sec4'></a>"
   ]
  },
  {
   "cell_type": "markdown",
   "metadata": {},
   "source": [
    "# 4. Combine Ranking with Factorised Markov Chain to Recommend"
   ]
  },
  {
   "cell_type": "markdown",
   "metadata": {},
   "source": [
    "### Combine"
   ]
  },
  {
   "cell_type": "markdown",
   "metadata": {},
   "source": [
    "NOTE:\n",
    "- Ranking is over POIs (in POI space)\n",
    "- Transition probabilities of Markov Chain of POI features (in POI feature space)"
   ]
  },
  {
   "cell_type": "markdown",
   "metadata": {},
   "source": [
    "Two approaches:\n",
    "- recommend trajectory in POI space: \n",
    "  - transform transition matrix of feature vector into transition matrix of POIs,\n",
    "  - recommend a sequence of POIs.\n",
    "- recommend trajectory in POI feature space: \n",
    "  - transform ranking probability of POIs into ranking probability of POI features,\n",
    "  - recommend a sequence of features, \n",
    "  - transform the squence of features into a sequence of POIs."
   ]
  },
  {
   "cell_type": "markdown",
   "metadata": {},
   "source": [
    "### Recommendation"
   ]
  },
  {
   "cell_type": "markdown",
   "metadata": {},
   "source": [
    "Two methods for recommendation:\n",
    "- find a simple path with maximum objective in a digraph. (by negating log probabilities, it can be reduced to a finding shortest path will $k$-edges, which is probably NP-hard as it is the same as TSP when $L=|P|$, dynamic programming can be used for non-simple path.)\n",
    "- make greedy choice (of POI or POI feature vector) step-by-step"
   ]
  },
  {
   "cell_type": "markdown",
   "metadata": {},
   "source": [
    "<a id='sec5'></a>"
   ]
  },
  {
   "cell_type": "markdown",
   "metadata": {},
   "source": [
    "# 5. Evaluation"
   ]
  },
  {
   "cell_type": "markdown",
   "metadata": {},
   "source": [
    "Evaluation metrics without considering visiting order."
   ]
  },
  {
   "cell_type": "code",
   "execution_count": null,
   "metadata": {
    "collapsed": true
   },
   "outputs": [],
   "source": [
    "def calc_F1score(seq_act, seq_rec)#, includeStartEnd=True):\n",
    "    assert(len(seq_act) > 2)\n",
    "    assert(len(seq_rec) > 2)\n",
    "\n",
    "    act_set = set(seq_act)\n",
    "    rec_set = set(seq_rec)\n",
    "    intersect = act_set & rec_set\n",
    "    \n",
    "    recall    = len(intersect) / len(act_set) #if includeStartEnd else (len(intersect)-2) / (len(act_set)-2)\n",
    "    precision = len(intersect) / len(rec_set) #if includeStartEnd else (len(intersect)-2) / (len(rec_set)-2)\n",
    "    #F1score   = 0 if abs(precision + recall) < 1e-6 else 2. * precision * recall / (precision + recall)\n",
    "    F1score   = 2. * precision * recall / (precision + recall)\n",
    "  \n",
    "    return F1score"
   ]
  },
  {
   "cell_type": "code",
   "execution_count": null,
   "metadata": {
    "collapsed": true
   },
   "outputs": [],
   "source": [
    "from scipy.misc import comb\n",
    "from math import factorial\n",
    "def rand_guess(npoi, length):\n",
    "    assert(length <= npoi)\n",
    "    if length == npoi: return 1\n",
    "    N = npoi - 2\n",
    "    m = length - 2 # number of correct POIs\n",
    "    k = m\n",
    "    expected_F1 = 0\n",
    "    while k >= 0:\n",
    "        F1 = (k + 2) / length\n",
    "        prob = comb(m, k) * comb(N-m, m-k) / comb(N, m)\n",
    "        expected_F1 += prob * F1\n",
    "        k -= 1\n",
    "    return expected_F1"
   ]
  },
  {
   "cell_type": "markdown",
   "metadata": {},
   "source": [
    "Sanity check."
   ]
  },
  {
   "cell_type": "code",
   "execution_count": null,
   "metadata": {
    "collapsed": true
   },
   "outputs": [],
   "source": [
    "rand_guess(20, 5)"
   ]
  }
 ],
 "metadata": {
  "kernelspec": {
   "display_name": "Python 3",
   "language": "python",
   "name": "python3"
  },
  "language_info": {
   "codemirror_mode": {
    "name": "ipython",
    "version": 3
   },
   "file_extension": ".py",
   "mimetype": "text/x-python",
   "name": "python",
   "nbconvert_exporter": "python",
   "pygments_lexer": "ipython3",
   "version": "3.5.1"
  }
 },
 "nbformat": 4,
 "nbformat_minor": 0
}
