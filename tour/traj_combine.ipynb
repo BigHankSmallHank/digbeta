{
 "cells": [
  {
   "cell_type": "markdown",
   "metadata": {
    "collapsed": true
   },
   "source": [
    "# Trajectory Recommendation"
   ]
  },
  {
   "cell_type": "markdown",
   "metadata": {},
   "source": [
    "<a id='toc'></a>"
   ]
  },
  {
   "cell_type": "markdown",
   "metadata": {},
   "source": [
    "[Table of Contents](#toc)\n",
    "1. [Preprocess Dataset](#sec1)\n",
    "  1. [Load Data](#sec1.1)\n",
    "  1. [Compute POI Information](#sec1.2)\n",
    "  1. [Construct Travelling Sequences](#sec1.3)\n",
    "  1. [Train vs. Test Data](#sec1.4)\n",
    "\n",
    "1. [User Agnostic POI Ranking](#sec2)\n",
    "  1. [POI Features for Ranking](#sec2.1)\n",
    "  1. [Training DataFrame](#sec2.2)\n",
    "  1. [Test DataFrame](#sec2.3)\n",
    "  1. [Platt Scaling](#sec2.4)\n",
    "  1. [Ranking POIs using rankSVM](#sec2.5)\n",
    "\n",
    "1. [Factorise Transition Probabilities in POI Feature Space](#sec3)\n",
    "  1. [POI Features for Factorisation](#sec3.1)\n",
    "  1. [Transition Matrix between POI Cateogries](#sec3.2)\n",
    "  1. [Transition Matrix between POI Popularity Classes](#sec3.3)\n",
    "  1. [Transition Matrix between POI Average Visit Duration Classes](#sec3.4)\n",
    "  1. [Transition Matrix between POI Neighborhood Classes](#sec3.5)\n",
    "  1. [Transition Matrix between POIs](#sec3.6)\n",
    "\n",
    "1. [Combine Ranking with Factorised Markov Chain to Recommend](#sec4)\n",
    "1. [IJCAI15 Methods](#sec5)\n",
    "1. [Comparison](#sec6)\n",
    "  1. [Evaluation on test set](#sec6.1)\n",
    "  1. [Leave-one-out cross validation](#sec6.2)"
   ]
  },
  {
   "cell_type": "markdown",
   "metadata": {},
   "source": [
    "<a id='sec1'></a>"
   ]
  },
  {
   "cell_type": "markdown",
   "metadata": {},
   "source": [
    "# 1. Preprocess Dataset"
   ]
  },
  {
   "cell_type": "code",
   "execution_count": 1,
   "metadata": {
    "collapsed": false
   },
   "outputs": [],
   "source": [
    "% matplotlib inline\n",
    "\n",
    "import os, re, sys, time, pickle, tempfile\n",
    "import math, random, itertools, scipy\n",
    "import pandas as pd\n",
    "import numpy as np\n",
    "import matplotlib.pyplot as plt\n",
    "import scipy.optimize as sop\n",
    "from scipy.linalg import kron\n",
    "from scipy.misc import logsumexp\n",
    "from joblib import Parallel, delayed\n",
    "from numba import jit\n",
    "from sklearn.cluster import KMeans\n",
    "import seaborn as sns\n",
    "import pulp"
   ]
  },
  {
   "cell_type": "code",
   "execution_count": 2,
   "metadata": {
    "collapsed": true
   },
   "outputs": [],
   "source": [
    "random.seed(987654321) # control random choice when splitting training/testing set\n",
    "np.random.seed(987654321)\n",
    "ranksvm_dir = '$HOME/work/ranksvm'"
   ]
  },
  {
   "cell_type": "code",
   "execution_count": 3,
   "metadata": {
    "collapsed": true
   },
   "outputs": [],
   "source": [
    "def print_progress(cnt, total):\n",
    "    \"\"\"\n",
    "    Display a progress bar.\n",
    "    \"\"\"\n",
    "    assert(cnt > 0 and total > 0 and cnt <= total)\n",
    "    length = 80\n",
    "    ratio = cnt / total\n",
    "    n = int(length * ratio)\n",
    "    sys.stdout.write('\\r[%-80s] %d%%' % ('-'*n, int(ratio*100)))\n",
    "    sys.stdout.flush()"
   ]
  },
  {
   "cell_type": "code",
   "execution_count": 4,
   "metadata": {
    "collapsed": true
   },
   "outputs": [],
   "source": [
    "data_dir = 'data/data-ijcai15'\n",
    "#fvisit = os.path.join(data_dir, 'userVisits-Osak.csv')\n",
    "#fcoord = os.path.join(data_dir, 'photoCoords-Osak.csv')\n",
    "#fvisit = os.path.join(data_dir, 'userVisits-Glas.csv')\n",
    "#fcoord = os.path.join(data_dir, 'photoCoords-Glas.csv')\n",
    "#fvisit = os.path.join(data_dir, 'userVisits-Edin.csv')\n",
    "#fcoord = os.path.join(data_dir, 'photoCoords-Edin.csv')\n",
    "fvisit = os.path.join(data_dir, 'userVisits-Toro.csv')\n",
    "fcoord = os.path.join(data_dir, 'photoCoords-Toro.csv')"
   ]
  },
  {
   "cell_type": "code",
   "execution_count": 5,
   "metadata": {
    "collapsed": true
   },
   "outputs": [],
   "source": [
    "suffix = fvisit.split('-')[-1].split('.')[0]\n",
    "fseqpart = os.path.join(data_dir, 'seqPart-combine-' + suffix + '.pkl')\n",
    "#fF1data = os.path.join(data_dir, 'F1-combine-' + suffix + '.pkl')\n",
    "#fmlikeseq = os.path.join(data_dir, 'mlike-seq-' + suffix + '.pkl')"
   ]
  },
  {
   "cell_type": "markdown",
   "metadata": {},
   "source": [
    "<a id='sec1.1'></a>"
   ]
  },
  {
   "cell_type": "markdown",
   "metadata": {},
   "source": [
    "## 1.1 Load Data"
   ]
  },
  {
   "cell_type": "code",
   "execution_count": 6,
   "metadata": {
    "collapsed": true
   },
   "outputs": [],
   "source": [
    "visits = pd.read_csv(fvisit, sep=';')\n",
    "coords = pd.read_csv(fcoord, sep=';')\n",
    "assert(visits.shape[0] == coords.shape[0])\n",
    "traj = pd.merge(visits, coords, on='photoID') # merge data frames according to column 'photoID'\n",
    "#traj.head()"
   ]
  },
  {
   "cell_type": "code",
   "execution_count": 7,
   "metadata": {
    "collapsed": false
   },
   "outputs": [
    {
     "data": {
      "text/html": [
       "<div>\n",
       "<table border=\"1\" class=\"dataframe\">\n",
       "  <thead>\n",
       "    <tr style=\"text-align: right;\">\n",
       "      <th></th>\n",
       "      <th>#photo</th>\n",
       "      <th>#photo/user</th>\n",
       "      <th>#poi</th>\n",
       "      <th>#seq</th>\n",
       "      <th>#seq/user</th>\n",
       "      <th>#user</th>\n",
       "    </tr>\n",
       "  </thead>\n",
       "  <tbody>\n",
       "    <tr>\n",
       "      <th>Toro</th>\n",
       "      <td>39419</td>\n",
       "      <td>28.257348</td>\n",
       "      <td>29</td>\n",
       "      <td>6057</td>\n",
       "      <td>4.341935</td>\n",
       "      <td>1395</td>\n",
       "    </tr>\n",
       "  </tbody>\n",
       "</table>\n",
       "</div>"
      ],
      "text/plain": [
       "      #photo  #photo/user  #poi  #seq  #seq/user  #user\n",
       "Toro   39419    28.257348    29  6057   4.341935   1395"
      ]
     },
     "execution_count": 7,
     "metadata": {},
     "output_type": "execute_result"
    }
   ],
   "source": [
    "num_photo = traj['photoID'].unique().shape[0]\n",
    "num_user = traj['userID'].unique().shape[0]\n",
    "num_poi = traj['poiID'].unique().shape[0]\n",
    "num_seq = traj['seqID'].unique().shape[0]\n",
    "pd.DataFrame({'#photo': num_photo, '#user': num_user, '#poi': num_poi, '#seq': num_seq, \\\n",
    "              '#photo/user': num_photo/num_user, '#seq/user': num_seq/num_user}, index=[str(suffix)])"
   ]
  },
  {
   "cell_type": "markdown",
   "metadata": {},
   "source": [
    "<a id='sec1.2'></a>"
   ]
  },
  {
   "cell_type": "markdown",
   "metadata": {},
   "source": [
    "## 1.2 Compute POI Information"
   ]
  },
  {
   "cell_type": "markdown",
   "metadata": {},
   "source": [
    "Compute POI (Longitude, Latitude) as the average coordinates of the assigned photos."
   ]
  },
  {
   "cell_type": "code",
   "execution_count": 8,
   "metadata": {
    "collapsed": true
   },
   "outputs": [],
   "source": [
    "poi_coords = traj[['poiID', 'photoLon', 'photoLat']].groupby('poiID').mean()\n",
    "poi_coords.reset_index(inplace=True)\n",
    "poi_coords.rename(columns={'photoLon':'poiLon', 'photoLat':'poiLat'}, inplace=True)"
   ]
  },
  {
   "cell_type": "markdown",
   "metadata": {},
   "source": [
    "Extract POI category and visiting frequency."
   ]
  },
  {
   "cell_type": "code",
   "execution_count": 9,
   "metadata": {
    "collapsed": true
   },
   "outputs": [],
   "source": [
    "poi_catfreq = traj[['poiID', 'poiTheme', 'poiFreq']].groupby('poiID').first()\n",
    "poi_catfreq.reset_index(inplace=True)"
   ]
  },
  {
   "cell_type": "code",
   "execution_count": 10,
   "metadata": {
    "collapsed": false
   },
   "outputs": [
    {
     "data": {
      "text/html": [
       "<div>\n",
       "<table border=\"1\" class=\"dataframe\">\n",
       "  <thead>\n",
       "    <tr style=\"text-align: right;\">\n",
       "      <th></th>\n",
       "      <th>poiTheme</th>\n",
       "      <th>poiFreq</th>\n",
       "      <th>poiLon</th>\n",
       "      <th>poiLat</th>\n",
       "    </tr>\n",
       "    <tr>\n",
       "      <th>poiID</th>\n",
       "      <th></th>\n",
       "      <th></th>\n",
       "      <th></th>\n",
       "      <th></th>\n",
       "    </tr>\n",
       "  </thead>\n",
       "  <tbody>\n",
       "    <tr>\n",
       "      <th>1</th>\n",
       "      <td>Sport</td>\n",
       "      <td>3506</td>\n",
       "      <td>-79.379243</td>\n",
       "      <td>43.643183</td>\n",
       "    </tr>\n",
       "    <tr>\n",
       "      <th>2</th>\n",
       "      <td>Sport</td>\n",
       "      <td>609</td>\n",
       "      <td>-79.418634</td>\n",
       "      <td>43.632772</td>\n",
       "    </tr>\n",
       "    <tr>\n",
       "      <th>3</th>\n",
       "      <td>Sport</td>\n",
       "      <td>688</td>\n",
       "      <td>-79.380045</td>\n",
       "      <td>43.662175</td>\n",
       "    </tr>\n",
       "    <tr>\n",
       "      <th>4</th>\n",
       "      <td>Sport</td>\n",
       "      <td>3056</td>\n",
       "      <td>-79.389290</td>\n",
       "      <td>43.641297</td>\n",
       "    </tr>\n",
       "    <tr>\n",
       "      <th>6</th>\n",
       "      <td>Cultural</td>\n",
       "      <td>986</td>\n",
       "      <td>-79.392396</td>\n",
       "      <td>43.653662</td>\n",
       "    </tr>\n",
       "  </tbody>\n",
       "</table>\n",
       "</div>"
      ],
      "text/plain": [
       "       poiTheme  poiFreq     poiLon     poiLat\n",
       "poiID                                         \n",
       "1         Sport     3506 -79.379243  43.643183\n",
       "2         Sport      609 -79.418634  43.632772\n",
       "3         Sport      688 -79.380045  43.662175\n",
       "4         Sport     3056 -79.389290  43.641297\n",
       "6      Cultural      986 -79.392396  43.653662"
      ]
     },
     "execution_count": 10,
     "metadata": {},
     "output_type": "execute_result"
    }
   ],
   "source": [
    "poi_all = pd.merge(poi_catfreq, poi_coords, on='poiID')\n",
    "poi_all.set_index('poiID', inplace=True)\n",
    "poi_all.head()\n",
    "#poi_all.to_csv(fpoi, index=True)"
   ]
  },
  {
   "cell_type": "markdown",
   "metadata": {},
   "source": [
    "<a id='sec1.3'></a>"
   ]
  },
  {
   "cell_type": "markdown",
   "metadata": {},
   "source": [
    "## 1.3 Construct Travelling Sequences"
   ]
  },
  {
   "cell_type": "code",
   "execution_count": 11,
   "metadata": {
    "collapsed": false
   },
   "outputs": [],
   "source": [
    "seq_all = traj[['userID', 'seqID', 'poiID', 'dateTaken']].copy().groupby(['userID', 'seqID', 'poiID'])\\\n",
    "          .agg([np.min, np.max, np.size])\n",
    "seq_all.columns = seq_all.columns.droplevel()\n",
    "seq_all.reset_index(inplace=True)\n",
    "seq_all.rename(columns={'amin':'arrivalTime', 'amax':'departureTime', 'size':'#photo'}, inplace=True)\n",
    "seq_all['poiDuration(sec)'] = seq_all['departureTime'] - seq_all['arrivalTime']\n",
    "#seq_all.head()"
   ]
  },
  {
   "cell_type": "markdown",
   "metadata": {},
   "source": [
    "~~**Filtering out** a visit of POI with $0$ duration, i.e. only one photo was taken.~~"
   ]
  },
  {
   "cell_type": "code",
   "execution_count": 12,
   "metadata": {
    "collapsed": false
   },
   "outputs": [],
   "source": [
    "#seq_all = seq_all[seq_all['#photo'] > 1]\n",
    "#seq_all.head()"
   ]
  },
  {
   "cell_type": "code",
   "execution_count": 13,
   "metadata": {
    "collapsed": false
   },
   "outputs": [],
   "source": [
    "seq_stats = seq_all[['userID', 'seqID', 'poiID']].copy().groupby(['userID', 'seqID']).agg(np.size)\n",
    "seq_stats.reset_index(inplace=True)\n",
    "seq_stats.rename(columns={'poiID':'seqLen'}, inplace=True)\n",
    "seq_stats.set_index('seqID', inplace=True)\n",
    "#seq_stats.head()"
   ]
  },
  {
   "cell_type": "markdown",
   "metadata": {},
   "source": [
    "Start time of each sequence."
   ]
  },
  {
   "cell_type": "code",
   "execution_count": 14,
   "metadata": {
    "collapsed": false
   },
   "outputs": [],
   "source": [
    "seq_starttime = seq_all[['userID', 'seqID', 'arrivalTime']].copy().groupby(['userID', 'seqID']).agg(np.min)\n",
    "seq_starttime.reset_index(inplace=True)\n",
    "seq_starttime.rename(columns={'arrivalTime':'startTime'}, inplace=True)\n",
    "seq_starttime.set_index('seqID', inplace=True)\n",
    "#seq_starttime.head()"
   ]
  },
  {
   "cell_type": "code",
   "execution_count": 15,
   "metadata": {
    "collapsed": false
   },
   "outputs": [],
   "source": [
    "seq_stats['startTime'] = seq_starttime.loc[seq_stats.index, 'startTime']\n",
    "#seq_stats.head()"
   ]
  },
  {
   "cell_type": "markdown",
   "metadata": {},
   "source": [
    "**Filtering out** sequences that are too short ~~or too long.~~"
   ]
  },
  {
   "cell_type": "code",
   "execution_count": 16,
   "metadata": {
    "collapsed": false
   },
   "outputs": [
    {
     "data": {
      "text/html": [
       "<div>\n",
       "<table border=\"1\" class=\"dataframe\">\n",
       "  <thead>\n",
       "    <tr style=\"text-align: right;\">\n",
       "      <th></th>\n",
       "      <th>userID</th>\n",
       "      <th>seqLen</th>\n",
       "      <th>startTime</th>\n",
       "    </tr>\n",
       "    <tr>\n",
       "      <th>seqID</th>\n",
       "      <th></th>\n",
       "      <th></th>\n",
       "      <th></th>\n",
       "    </tr>\n",
       "  </thead>\n",
       "  <tbody>\n",
       "    <tr>\n",
       "      <th>58</th>\n",
       "      <td>10502709@N05</td>\n",
       "      <td>3</td>\n",
       "      <td>1180745959</td>\n",
       "    </tr>\n",
       "    <tr>\n",
       "      <th>67</th>\n",
       "      <td>10502709@N05</td>\n",
       "      <td>3</td>\n",
       "      <td>1211634164</td>\n",
       "    </tr>\n",
       "    <tr>\n",
       "      <th>71</th>\n",
       "      <td>10502709@N05</td>\n",
       "      <td>4</td>\n",
       "      <td>1255753089</td>\n",
       "    </tr>\n",
       "    <tr>\n",
       "      <th>99</th>\n",
       "      <td>10627620@N06</td>\n",
       "      <td>3</td>\n",
       "      <td>1331605212</td>\n",
       "    </tr>\n",
       "    <tr>\n",
       "      <th>100</th>\n",
       "      <td>10627620@N06</td>\n",
       "      <td>3</td>\n",
       "      <td>1332543210</td>\n",
       "    </tr>\n",
       "  </tbody>\n",
       "</table>\n",
       "</div>"
      ],
      "text/plain": [
       "             userID  seqLen   startTime\n",
       "seqID                                  \n",
       "58     10502709@N05       3  1180745959\n",
       "67     10502709@N05       3  1211634164\n",
       "71     10502709@N05       4  1255753089\n",
       "99     10627620@N06       3  1331605212\n",
       "100    10627620@N06       3  1332543210"
      ]
     },
     "execution_count": 16,
     "metadata": {},
     "output_type": "execute_result"
    }
   ],
   "source": [
    "seq_stats = seq_stats[seq_stats['seqLen'] > 2]\n",
    "#seq_stats = seq_stats[seq_stats['seqLen'] < 10]\n",
    "seq_stats.head()"
   ]
  },
  {
   "cell_type": "code",
   "execution_count": 17,
   "metadata": {
    "collapsed": false
   },
   "outputs": [
    {
     "data": {
      "text/plain": [
       "(335, 3)"
      ]
     },
     "execution_count": 17,
     "metadata": {},
     "output_type": "execute_result"
    }
   ],
   "source": [
    "seq_stats.shape"
   ]
  },
  {
   "cell_type": "code",
   "execution_count": 18,
   "metadata": {
    "collapsed": false
   },
   "outputs": [
    {
     "data": {
      "text/plain": [
       "(196,)"
      ]
     },
     "execution_count": 18,
     "metadata": {},
     "output_type": "execute_result"
    }
   ],
   "source": [
    "seq_stats['userID'].unique().shape"
   ]
  },
  {
   "cell_type": "code",
   "execution_count": 19,
   "metadata": {
    "collapsed": true
   },
   "outputs": [],
   "source": [
    "def extract_seq(seqid, seq_all):\n",
    "    seqi = seq_all[seq_all['seqID'] == seqid].copy()\n",
    "    seqi.sort_values(by=['arrivalTime'], ascending=True, inplace=True)\n",
    "    return seqi['poiID'].tolist()"
   ]
  },
  {
   "cell_type": "code",
   "execution_count": 20,
   "metadata": {
    "collapsed": true
   },
   "outputs": [],
   "source": [
    "def calc_poi_info(seqid_set, seq_all, poi_all):\n",
    "    poi_info = seq_all[seq_all['seqID'].isin(seqid_set)][['poiID', 'poiDuration(sec)']].copy()\n",
    "    poi_info = poi_info.groupby('poiID').agg([np.mean, np.size])\n",
    "    poi_info.columns = poi_info.columns.droplevel()\n",
    "    poi_info.reset_index(inplace=True)\n",
    "    poi_info.rename(columns={'mean':'avgDuration(sec)', 'size':'nVisit'}, inplace=True)\n",
    "    ixs = poi_info[poi_info['avgDuration(sec)'] < 1].index; poi_info.loc[ixs, 'avgDuration(sec)'] = 1 # edge case\n",
    "    poi_info.set_index('poiID', inplace=True) \n",
    "    poi_info['poiTheme'] = poi_all.loc[poi_info.index, 'poiTheme']\n",
    "    poi_info['poiLon'] = poi_all.loc[poi_info.index, 'poiLon']\n",
    "    poi_info['poiLat'] = poi_all.loc[poi_info.index, 'poiLat']\n",
    "    \n",
    "    # POI popularity: the number of distinct users that visited the POI\n",
    "    pop_df = seq_all[seq_all['seqID'].isin(seqid_set)][['poiID', 'userID']].copy()\n",
    "    pop_df = pop_df.groupby('poiID').agg(pd.Series.nunique)\n",
    "    pop_df.rename(columns={'userID':'nunique'}, inplace=True)\n",
    "    poi_info['popularity'] = pop_df.loc[poi_info.index, 'nunique']\n",
    "    \n",
    "    return poi_info.copy()"
   ]
  },
  {
   "cell_type": "markdown",
   "metadata": {},
   "source": [
    "<a id='sec1.4'></a>"
   ]
  },
  {
   "cell_type": "markdown",
   "metadata": {},
   "source": [
    "## 1.4 Train vs. Test Data"
   ]
  },
  {
   "cell_type": "markdown",
   "metadata": {},
   "source": [
    "~~Remove duplicate trajectories, i.e. same trajectory for different users.~~"
   ]
  },
  {
   "cell_type": "code",
   "execution_count": 21,
   "metadata": {
    "collapsed": true
   },
   "outputs": [],
   "source": [
    "#seqid_set_ = seq_stats.index.tolist()\n",
    "#seq_dict = dict()\n",
    "#for seqid in seqid_set_:\n",
    "#    seq = extract_seq(seqid, seq_all)\n",
    "#    key = str(seq)\n",
    "#    if key in seq_dict: seq_dict[key].append(seqid)\n",
    "#    else: seq_dict[key] = [seqid]"
   ]
  },
  {
   "cell_type": "code",
   "execution_count": 22,
   "metadata": {
    "collapsed": false
   },
   "outputs": [],
   "source": [
    "#len(seqid_set_)"
   ]
  },
  {
   "cell_type": "code",
   "execution_count": 23,
   "metadata": {
    "collapsed": true
   },
   "outputs": [],
   "source": [
    "#seqid_set_exp = [seq_dict[x][0] for x in sorted(seq_dict.keys())]"
   ]
  },
  {
   "cell_type": "code",
   "execution_count": 24,
   "metadata": {
    "collapsed": true
   },
   "outputs": [],
   "source": [
    "seqid_set_exp = sorted(seq_stats.index.tolist())"
   ]
  },
  {
   "cell_type": "code",
   "execution_count": 25,
   "metadata": {
    "collapsed": false
   },
   "outputs": [
    {
     "data": {
      "text/plain": [
       "335"
      ]
     },
     "execution_count": 25,
     "metadata": {},
     "output_type": "execute_result"
    }
   ],
   "source": [
    "len(seqid_set_exp)"
   ]
  },
  {
   "cell_type": "markdown",
   "metadata": {},
   "source": [
    "Define a *query* (in IR terminology) using tuple (start POI, end POI, #POI) ~~user ID.~~"
   ]
  },
  {
   "cell_type": "code",
   "execution_count": 26,
   "metadata": {
    "collapsed": true
   },
   "outputs": [],
   "source": [
    "query_id_dict = dict()  # (start, end, length) --> qid"
   ]
  },
  {
   "cell_type": "code",
   "execution_count": 27,
   "metadata": {
    "collapsed": true
   },
   "outputs": [],
   "source": [
    "seqs_exp = [extract_seq(seqid, seq_all) for seqid in seqid_set_exp]\n",
    "keys = [(seq[0], seq[-1], len(seq)) for seq in seqs_exp]\n",
    "cnt = 0\n",
    "for key in keys:\n",
    "    if key not in query_id_dict:   # (start, end, length) --> qid\n",
    "        query_id_dict[key] = cnt\n",
    "        cnt += 1"
   ]
  },
  {
   "cell_type": "code",
   "execution_count": 28,
   "metadata": {
    "collapsed": false
   },
   "outputs": [
    {
     "name": "stdout",
     "output_type": "stream",
     "text": [
      "232\n"
     ]
    }
   ],
   "source": [
    "print(len(query_id_dict))"
   ]
  },
  {
   "cell_type": "markdown",
   "metadata": {},
   "source": [
    "Random split trajectories for training and testing.  \n",
    "Make sure all POIs in test set are covered in trajectories for training."
   ]
  },
  {
   "cell_type": "code",
   "execution_count": 29,
   "metadata": {
    "collapsed": true
   },
   "outputs": [],
   "source": [
    "train_percent = 0.67\n",
    "seqid_set_train0 = []\n",
    "seqid_set_test0 = []"
   ]
  },
  {
   "cell_type": "code",
   "execution_count": 30,
   "metadata": {
    "collapsed": true
   },
   "outputs": [],
   "source": [
    "if os.path.exists(fseqpart):\n",
    "    (seqid_set_train0, seqid_set_test0) = pickle.load(open(fseqpart, 'rb'))\n",
    "else:\n",
    "    ntrain = int(train_percent * len(seqid_set_exp))\n",
    "    while True:\n",
    "        np.random.shuffle(seqid_set_exp)\n",
    "\n",
    "        seqid_set_train0 = sorted(list(seqid_set_exp[:ntrain]))\n",
    "        seqid_set_test0 = sorted(list(seqid_set_exp[ntrain:]))\n",
    "        poi_train = seq_all[seq_all['seqID'].isin(seqid_set_train0)]['poiID'].unique().tolist()\n",
    "        poi_test  = seq_all[seq_all['seqID'].isin(seqid_set_test0)]['poiID'].unique().tolist()\n",
    "        if len(set(poi_test)) == len(set(poi_train) & set(poi_test)):\n",
    "            pickle.dump((seqid_set_train0, seqid_set_test0), open(fseqpart, 'wb'))\n",
    "            break"
   ]
  },
  {
   "cell_type": "code",
   "execution_count": 31,
   "metadata": {
    "collapsed": false
   },
   "outputs": [
    {
     "name": "stdout",
     "output_type": "stream",
     "text": [
      "#seq in total: 335\n",
      "#seq for training: 224\n",
      "#seq for testing: 111\n",
      "#query tuple: 232\n"
     ]
    }
   ],
   "source": [
    "print('#seq in total:', len(seqid_set_exp))\n",
    "print('#seq for training:', len(seqid_set_train0))\n",
    "print('#seq for testing:', len(seqid_set_test0))\n",
    "print('#query tuple:', len(query_id_dict))"
   ]
  },
  {
   "cell_type": "markdown",
   "metadata": {},
   "source": [
    "<a id='sec2'></a>"
   ]
  },
  {
   "cell_type": "markdown",
   "metadata": {},
   "source": [
    "# 2. User Agnostic POI Ranking"
   ]
  },
  {
   "cell_type": "markdown",
   "metadata": {},
   "source": [
    "<a id='sec2.1'></a>"
   ]
  },
  {
   "cell_type": "markdown",
   "metadata": {},
   "source": [
    "## 2.1 POI Features for Ranking"
   ]
  },
  {
   "cell_type": "markdown",
   "metadata": {},
   "source": [
    "POI Features used for ranking:\n",
    "1. `popularity`: POI popularity, i.e., the number of distinct users that visited the POI\n",
    "1. `nVisit`: the total number of visit by all users\n",
    "1. `avgDuration`: average POI visit duration\n",
    "1. `sameCatStart`: 1 if POI category is the same as that of `startPOI`, -1 otherwise\n",
    "1. `sameCatEnd`: 1 if POI category is the same as that of `endPOI`, -1 otherwise\n",
    "1. `distStart`: distance (haversine formula) from `startPOI`\n",
    "1. `distEnd`: distance from `endPOI`\n",
    "1. `seqLen`: trajectory length (copy from query)\n",
    "1. `diffPopStart`: difference in POI popularity from `startPOI`\n",
    "1. `diffPopEnd`: difference in POI popularity from `endPOI`\n",
    "1. `diffNVisitStart`: difference in the total number of visit from `startPOI`\n",
    "1. `diffNVisitEnd`: difference in the total number of visit from `endPOI`\n",
    "1. `diffDurationStart`: difference in average POI visit duration from the actual duration spent at `startPOI`\n",
    "1. `diffDurationEnd`: difference in average POI visit duration from the actual duration spent at `endPOI`"
   ]
  },
  {
   "cell_type": "code",
   "execution_count": 32,
   "metadata": {
    "collapsed": true
   },
   "outputs": [],
   "source": [
    "df_columns = ['poiID', 'label', 'queryID', 'popularity', 'nVisit', 'avgDuration(sec)', \\\n",
    "              'sameCatStart', 'sameCatEnd', 'distStart', 'distEnd', 'seqLen', 'diffPopStart', \\\n",
    "              'diffPopEnd', 'diffNVisitStart', 'diffNVisitEnd', 'diffDurationStart', 'diffDurationEnd']"
   ]
  },
  {
   "cell_type": "markdown",
   "metadata": {},
   "source": [
    "Features aggregated from a number of trajectories:\n",
    "1. Compute POI `popularity` and average visit `duration` using all trajectories from training and querying set,\n",
    "1. Use the same features that computed above for the test set, except the distance based features."
   ]
  },
  {
   "cell_type": "code",
   "execution_count": 33,
   "metadata": {
    "collapsed": false
   },
   "outputs": [
    {
     "name": "stdout",
     "output_type": "stream",
     "text": [
      "(26, 6)\n"
     ]
    }
   ],
   "source": [
    "poi_info_t = calc_poi_info(seqid_set_train0, seq_all, poi_all)\n",
    "print(poi_info_t.shape)"
   ]
  },
  {
   "cell_type": "code",
   "execution_count": 34,
   "metadata": {
    "collapsed": false
   },
   "outputs": [
    {
     "data": {
      "text/html": [
       "<div>\n",
       "<table border=\"1\" class=\"dataframe\">\n",
       "  <thead>\n",
       "    <tr style=\"text-align: right;\">\n",
       "      <th></th>\n",
       "      <th>avgDuration(sec)</th>\n",
       "      <th>nVisit</th>\n",
       "      <th>poiTheme</th>\n",
       "      <th>poiLon</th>\n",
       "      <th>poiLat</th>\n",
       "      <th>popularity</th>\n",
       "    </tr>\n",
       "    <tr>\n",
       "      <th>poiID</th>\n",
       "      <th></th>\n",
       "      <th></th>\n",
       "      <th></th>\n",
       "      <th></th>\n",
       "      <th></th>\n",
       "      <th></th>\n",
       "    </tr>\n",
       "  </thead>\n",
       "  <tbody>\n",
       "    <tr>\n",
       "      <th>1</th>\n",
       "      <td>2665.631579</td>\n",
       "      <td>19</td>\n",
       "      <td>Sport</td>\n",
       "      <td>-79.379243</td>\n",
       "      <td>43.643183</td>\n",
       "      <td>18</td>\n",
       "    </tr>\n",
       "    <tr>\n",
       "      <th>2</th>\n",
       "      <td>4840.600000</td>\n",
       "      <td>5</td>\n",
       "      <td>Sport</td>\n",
       "      <td>-79.418634</td>\n",
       "      <td>43.632772</td>\n",
       "      <td>4</td>\n",
       "    </tr>\n",
       "    <tr>\n",
       "      <th>3</th>\n",
       "      <td>753.705882</td>\n",
       "      <td>17</td>\n",
       "      <td>Sport</td>\n",
       "      <td>-79.380045</td>\n",
       "      <td>43.662175</td>\n",
       "      <td>10</td>\n",
       "    </tr>\n",
       "    <tr>\n",
       "      <th>4</th>\n",
       "      <td>1973.800000</td>\n",
       "      <td>25</td>\n",
       "      <td>Sport</td>\n",
       "      <td>-79.389290</td>\n",
       "      <td>43.641297</td>\n",
       "      <td>25</td>\n",
       "    </tr>\n",
       "    <tr>\n",
       "      <th>6</th>\n",
       "      <td>1924.038462</td>\n",
       "      <td>26</td>\n",
       "      <td>Cultural</td>\n",
       "      <td>-79.392396</td>\n",
       "      <td>43.653662</td>\n",
       "      <td>24</td>\n",
       "    </tr>\n",
       "    <tr>\n",
       "      <th>7</th>\n",
       "      <td>2421.420290</td>\n",
       "      <td>69</td>\n",
       "      <td>Cultural</td>\n",
       "      <td>-79.377327</td>\n",
       "      <td>43.647151</td>\n",
       "      <td>47</td>\n",
       "    </tr>\n",
       "    <tr>\n",
       "      <th>8</th>\n",
       "      <td>3997.538462</td>\n",
       "      <td>39</td>\n",
       "      <td>Cultural</td>\n",
       "      <td>-79.385349</td>\n",
       "      <td>43.642385</td>\n",
       "      <td>35</td>\n",
       "    </tr>\n",
       "    <tr>\n",
       "      <th>10</th>\n",
       "      <td>1.000000</td>\n",
       "      <td>1</td>\n",
       "      <td>Cultural</td>\n",
       "      <td>-79.361107</td>\n",
       "      <td>43.667067</td>\n",
       "      <td>1</td>\n",
       "    </tr>\n",
       "    <tr>\n",
       "      <th>11</th>\n",
       "      <td>844.968750</td>\n",
       "      <td>32</td>\n",
       "      <td>Cultural</td>\n",
       "      <td>-79.394458</td>\n",
       "      <td>43.667183</td>\n",
       "      <td>30</td>\n",
       "    </tr>\n",
       "    <tr>\n",
       "      <th>13</th>\n",
       "      <td>2589.857143</td>\n",
       "      <td>7</td>\n",
       "      <td>Cultural</td>\n",
       "      <td>-79.409364</td>\n",
       "      <td>43.678157</td>\n",
       "      <td>7</td>\n",
       "    </tr>\n",
       "    <tr>\n",
       "      <th>14</th>\n",
       "      <td>606.200000</td>\n",
       "      <td>5</td>\n",
       "      <td>Amusement</td>\n",
       "      <td>-79.417001</td>\n",
       "      <td>43.633924</td>\n",
       "      <td>3</td>\n",
       "    </tr>\n",
       "    <tr>\n",
       "      <th>15</th>\n",
       "      <td>754.000000</td>\n",
       "      <td>4</td>\n",
       "      <td>Amusement</td>\n",
       "      <td>-79.373573</td>\n",
       "      <td>43.619836</td>\n",
       "      <td>4</td>\n",
       "    </tr>\n",
       "    <tr>\n",
       "      <th>16</th>\n",
       "      <td>2977.734375</td>\n",
       "      <td>64</td>\n",
       "      <td>Amusement</td>\n",
       "      <td>-79.387065</td>\n",
       "      <td>43.642849</td>\n",
       "      <td>62</td>\n",
       "    </tr>\n",
       "    <tr>\n",
       "      <th>17</th>\n",
       "      <td>9378.600000</td>\n",
       "      <td>5</td>\n",
       "      <td>Amusement</td>\n",
       "      <td>-79.416011</td>\n",
       "      <td>43.632563</td>\n",
       "      <td>3</td>\n",
       "    </tr>\n",
       "    <tr>\n",
       "      <th>19</th>\n",
       "      <td>1386.833333</td>\n",
       "      <td>6</td>\n",
       "      <td>Beach</td>\n",
       "      <td>-79.378227</td>\n",
       "      <td>43.621697</td>\n",
       "      <td>6</td>\n",
       "    </tr>\n",
       "    <tr>\n",
       "      <th>20</th>\n",
       "      <td>4331.000000</td>\n",
       "      <td>1</td>\n",
       "      <td>Beach</td>\n",
       "      <td>-79.462382</td>\n",
       "      <td>43.646557</td>\n",
       "      <td>1</td>\n",
       "    </tr>\n",
       "    <tr>\n",
       "      <th>21</th>\n",
       "      <td>2965.244444</td>\n",
       "      <td>90</td>\n",
       "      <td>Beach</td>\n",
       "      <td>-79.380453</td>\n",
       "      <td>43.656274</td>\n",
       "      <td>57</td>\n",
       "    </tr>\n",
       "    <tr>\n",
       "      <th>22</th>\n",
       "      <td>3397.478261</td>\n",
       "      <td>92</td>\n",
       "      <td>Beach</td>\n",
       "      <td>-79.383702</td>\n",
       "      <td>43.652478</td>\n",
       "      <td>64</td>\n",
       "    </tr>\n",
       "    <tr>\n",
       "      <th>23</th>\n",
       "      <td>1960.195652</td>\n",
       "      <td>92</td>\n",
       "      <td>Shopping</td>\n",
       "      <td>-79.379884</td>\n",
       "      <td>43.653868</td>\n",
       "      <td>58</td>\n",
       "    </tr>\n",
       "    <tr>\n",
       "      <th>24</th>\n",
       "      <td>3690.350000</td>\n",
       "      <td>20</td>\n",
       "      <td>Shopping</td>\n",
       "      <td>-79.382320</td>\n",
       "      <td>43.638621</td>\n",
       "      <td>19</td>\n",
       "    </tr>\n",
       "    <tr>\n",
       "      <th>25</th>\n",
       "      <td>794.642857</td>\n",
       "      <td>14</td>\n",
       "      <td>Shopping</td>\n",
       "      <td>-79.401168</td>\n",
       "      <td>43.654748</td>\n",
       "      <td>14</td>\n",
       "    </tr>\n",
       "    <tr>\n",
       "      <th>26</th>\n",
       "      <td>1.000000</td>\n",
       "      <td>1</td>\n",
       "      <td>Shopping</td>\n",
       "      <td>-79.452683</td>\n",
       "      <td>43.725761</td>\n",
       "      <td>1</td>\n",
       "    </tr>\n",
       "    <tr>\n",
       "      <th>27</th>\n",
       "      <td>1608.687500</td>\n",
       "      <td>16</td>\n",
       "      <td>Shopping</td>\n",
       "      <td>-79.390935</td>\n",
       "      <td>43.670104</td>\n",
       "      <td>16</td>\n",
       "    </tr>\n",
       "    <tr>\n",
       "      <th>28</th>\n",
       "      <td>1213.727273</td>\n",
       "      <td>88</td>\n",
       "      <td>Structure</td>\n",
       "      <td>-79.381184</td>\n",
       "      <td>43.652181</td>\n",
       "      <td>59</td>\n",
       "    </tr>\n",
       "    <tr>\n",
       "      <th>29</th>\n",
       "      <td>1554.058824</td>\n",
       "      <td>17</td>\n",
       "      <td>Structure</td>\n",
       "      <td>-79.391265</td>\n",
       "      <td>43.662138</td>\n",
       "      <td>15</td>\n",
       "    </tr>\n",
       "    <tr>\n",
       "      <th>30</th>\n",
       "      <td>2682.769231</td>\n",
       "      <td>78</td>\n",
       "      <td>Structure</td>\n",
       "      <td>-79.380584</td>\n",
       "      <td>43.645651</td>\n",
       "      <td>51</td>\n",
       "    </tr>\n",
       "  </tbody>\n",
       "</table>\n",
       "</div>"
      ],
      "text/plain": [
       "       avgDuration(sec)  nVisit   poiTheme     poiLon     poiLat  popularity\n",
       "poiID                                                                       \n",
       "1           2665.631579      19      Sport -79.379243  43.643183          18\n",
       "2           4840.600000       5      Sport -79.418634  43.632772           4\n",
       "3            753.705882      17      Sport -79.380045  43.662175          10\n",
       "4           1973.800000      25      Sport -79.389290  43.641297          25\n",
       "6           1924.038462      26   Cultural -79.392396  43.653662          24\n",
       "7           2421.420290      69   Cultural -79.377327  43.647151          47\n",
       "8           3997.538462      39   Cultural -79.385349  43.642385          35\n",
       "10             1.000000       1   Cultural -79.361107  43.667067           1\n",
       "11           844.968750      32   Cultural -79.394458  43.667183          30\n",
       "13          2589.857143       7   Cultural -79.409364  43.678157           7\n",
       "14           606.200000       5  Amusement -79.417001  43.633924           3\n",
       "15           754.000000       4  Amusement -79.373573  43.619836           4\n",
       "16          2977.734375      64  Amusement -79.387065  43.642849          62\n",
       "17          9378.600000       5  Amusement -79.416011  43.632563           3\n",
       "19          1386.833333       6      Beach -79.378227  43.621697           6\n",
       "20          4331.000000       1      Beach -79.462382  43.646557           1\n",
       "21          2965.244444      90      Beach -79.380453  43.656274          57\n",
       "22          3397.478261      92      Beach -79.383702  43.652478          64\n",
       "23          1960.195652      92   Shopping -79.379884  43.653868          58\n",
       "24          3690.350000      20   Shopping -79.382320  43.638621          19\n",
       "25           794.642857      14   Shopping -79.401168  43.654748          14\n",
       "26             1.000000       1   Shopping -79.452683  43.725761           1\n",
       "27          1608.687500      16   Shopping -79.390935  43.670104          16\n",
       "28          1213.727273      88  Structure -79.381184  43.652181          59\n",
       "29          1554.058824      17  Structure -79.391265  43.662138          15\n",
       "30          2682.769231      78  Structure -79.380584  43.645651          51"
      ]
     },
     "execution_count": 34,
     "metadata": {},
     "output_type": "execute_result"
    }
   ],
   "source": [
    "poi_info_t"
   ]
  },
  {
   "cell_type": "markdown",
   "metadata": {},
   "source": [
    "Compute distance between two POIs using [Haversine formula](http://en.wikipedia.org/wiki/Great-circle_distance)."
   ]
  },
  {
   "cell_type": "code",
   "execution_count": 35,
   "metadata": {
    "collapsed": true
   },
   "outputs": [],
   "source": [
    "def calc_dist(longitude1, latitude1, longitude2, latitude2):\n",
    "    \"\"\"Calculate the distance (unit: km) between two places on earth\"\"\"\n",
    "    # convert degrees to radians\n",
    "    lon1 = math.radians(longitude1)\n",
    "    lat1 = math.radians(latitude1)\n",
    "    lon2 = math.radians(longitude2)\n",
    "    lat2 = math.radians(latitude2)\n",
    "    radius = 6371.0088 # mean earth radius is 6371.009km, en.wikipedia.org/wiki/Earth_radius#Mean_radius\n",
    "    # The haversine formula, en.wikipedia.org/wiki/Great-circle_distance\n",
    "    dlon = math.fabs(lon1 - lon2)\n",
    "    dlat = math.fabs(lat1 - lat2)\n",
    "    return 2 * radius * math.asin(math.sqrt(\\\n",
    "               (math.sin(0.5*dlat))**2 + math.cos(lat1) * math.cos(lat2) * (math.sin(0.5*dlon))**2 ))"
   ]
  },
  {
   "cell_type": "markdown",
   "metadata": {},
   "source": [
    "<a id='sec2.2'></a>"
   ]
  },
  {
   "cell_type": "markdown",
   "metadata": {},
   "source": [
    "## 2.2 Training DataFrame"
   ]
  },
  {
   "cell_type": "markdown",
   "metadata": {},
   "source": [
    "Training data are generated as follows:\n",
    "1. each input tuple $(\\text{startPOI}, \\text{endPOI}, \\text{#POI})$ form a `query` (in IR terminology).\n",
    "1. the label of a specific POI is the number of presence of that POI in a specific `query`, excluding the presence as $\\text{startPOI}$ or $\\text{endPOI}$.\n",
    "1. for each `query`, the label of all absence POIs from trajectories of that `query` in training set got a label 0."
   ]
  },
  {
   "cell_type": "markdown",
   "metadata": {},
   "source": [
    "The dimension of training data matrix is `#(qid, poi)` by `#feature`."
   ]
  },
  {
   "cell_type": "code",
   "execution_count": 36,
   "metadata": {
    "collapsed": true
   },
   "outputs": [],
   "source": [
    "def gen_train_df(seqid_set, seq_all, poi_info, query_id_dict):\n",
    "    columns = df_columns.copy()\n",
    "    seqid_set = sorted(set(seqid_set))\n",
    "    train_seqs = [extract_seq(seqid, seq_all) for seqid in seqid_set]\n",
    "    for seq in train_seqs:\n",
    "        assert(len(seq) > 2)\n",
    "    \n",
    "    qid_set = sorted(set([query_id_dict[(seq[0], seq[-1], len(seq))] for seq in train_seqs]))\n",
    "    poi_set = sorted(set(poi_info.index.tolist()))\n",
    "    qid_poi_pair = list(itertools.product(qid_set, poi_set)) # Cartesian product of qid_set and poi_set\n",
    "    \n",
    "    df_ = pd.DataFrame(data=np.zeros((len(qid_poi_pair), len(columns)), dtype= np.float), columns=columns)\n",
    "    \n",
    "    query_id_rdict = dict()\n",
    "    for k, v in query_id_dict.items(): \n",
    "        query_id_rdict[v] = k  # qid --> (start, end, length)\n",
    "    \n",
    "    for i in range(df_.index.shape[0]):\n",
    "        qid = qid_poi_pair[i][0]\n",
    "        poi = qid_poi_pair[i][1]\n",
    "        (p0, pN, seqLen) = query_id_rdict[qid]\n",
    "        lon0 = poi_info.loc[p0, 'poiLon']; lat0 = poi_info.loc[p0, 'poiLat']\n",
    "        lonN = poi_info.loc[pN, 'poiLon']; latN = poi_info.loc[pN, 'poiLat']\n",
    "        lon = poi_info.loc[poi, 'poiLon']; lat = poi_info.loc[poi, 'poiLat']\n",
    "        pop = poi_info.loc[poi, 'popularity']; nvisit = poi_info.loc[poi, 'nVisit']\n",
    "        cat = poi_info.loc[poi, 'poiTheme']; duration = poi_info.loc[poi, 'avgDuration(sec)']\n",
    "        idx = df_.index[i]\n",
    "        df_.loc[idx, 'poiID'] = poi\n",
    "        df_.loc[idx, 'queryID'] = qid\n",
    "        df_.loc[idx, 'popularity'] = pop\n",
    "        df_.loc[idx, 'nVisit'] = nvisit\n",
    "        df_.loc[idx, 'avgDuration(sec)'] = duration\n",
    "        df_.loc[idx, 'sameCatStart'] = 1 if cat == poi_info.loc[p0, 'poiTheme'] else -1\n",
    "        df_.loc[idx, 'sameCatEnd']   = 1 if cat == poi_info.loc[pN, 'poiTheme'] else -1\n",
    "        df_.loc[idx, 'distStart'] = 0 if poi == p0 else calc_dist(lon, lat, lon0, lat0)\n",
    "        df_.loc[idx, 'distEnd']   = 0 if poi == pN else calc_dist(lon, lat, lonN, latN)\n",
    "        df_.loc[idx, 'seqLen'] = seqLen\n",
    "        df_.loc[idx, 'diffPopStart'] = 0 if poi == p0 else pop - poi_info.loc[p0, 'popularity']\n",
    "        df_.loc[idx, 'diffPopEnd']   = 0 if poi == pN else pop - poi_info.loc[pN, 'popularity']\n",
    "        df_.loc[idx, 'diffNVisitStart'] = 0 if poi == p0 else nvisit - poi_info.loc[p0, 'nVisit']\n",
    "        df_.loc[idx, 'diffNVisitEnd']   = 0 if poi == pN else nvisit - poi_info.loc[pN, 'nVisit']\n",
    "        df_.loc[idx, 'diffDurationStart'] = 0 if poi == p0 else duration - poi_info.loc[p0, 'avgDuration(sec)']\n",
    "        df_.loc[idx, 'diffDurationEnd']   = 0 if poi == pN else duration - poi_info.loc[pN, 'avgDuration(sec)']\n",
    "    \n",
    "    # set label\n",
    "    df_.set_index(['queryID', 'poiID'], inplace=True)\n",
    "    for seq in train_seqs:\n",
    "        qid = query_id_dict[(seq[0], seq[-1], len(seq))]\n",
    "        for poi in seq[1:-1]:  # do NOT count if the POI is startPOI/endPOI\n",
    "            df_.loc[(qid, poi), 'label'] += 1\n",
    "    \n",
    "    df_.reset_index(inplace=True)\n",
    "    return df_"
   ]
  },
  {
   "cell_type": "markdown",
   "metadata": {},
   "source": [
    "Sanity check: \n",
    "- different POIs have different features for the same query trajectory\n",
    "- the same POI get different features for different query-id"
   ]
  },
  {
   "cell_type": "markdown",
   "metadata": {},
   "source": [
    "<a id='sec2.3'></a>"
   ]
  },
  {
   "cell_type": "markdown",
   "metadata": {},
   "source": [
    "## 2.3 Test DataFrame"
   ]
  },
  {
   "cell_type": "markdown",
   "metadata": {},
   "source": [
    "Test data are generated the same way as training data, except that the labels of testing data (unknown) could be arbitrary values as suggested in [libsvm FAQ](http://www.csie.ntu.edu.tw/~cjlin/libsvm/faq.html#f431).\n",
    "The reported accuracy (by `svm-predict` command) is meaningless as it is calculated based on these labels."
   ]
  },
  {
   "cell_type": "markdown",
   "metadata": {},
   "source": [
    "The dimension of training data matrix is `#poi` by `#feature` with one specific `query`, i.e. tuple $(\\text{startPOI}, \\text{endPOI}, \\text{#POI})$."
   ]
  },
  {
   "cell_type": "code",
   "execution_count": 37,
   "metadata": {
    "collapsed": true
   },
   "outputs": [],
   "source": [
    "def gen_test_df(startPOI, endPOI, nPOI, poi_info, query_id_dict):\n",
    "    columns = df_columns.copy()\n",
    "    key = (p0, pN, seqLen) = (startPOI, endPOI, nPOI)\n",
    "    assert(key in query_id_dict)\n",
    "    \n",
    "    poi_set = sorted(set(poi_info.index.tolist()))\n",
    "    df_ = pd.DataFrame(data=np.zeros((len(poi_set), len(columns)), dtype= np.float), columns=columns)\n",
    "    \n",
    "    qid = query_id_dict[key]\n",
    "    df_['queryID'] = qid\n",
    "    df_['label'] = np.random.rand(df_.shape[0]) # label for test data is arbitrary according to libsvm FAQ\n",
    "\n",
    "    lon0 = poi_info.loc[p0, 'poiLon']; lat0 = poi_info.loc[p0, 'poiLat']\n",
    "    lonN = poi_info.loc[pN, 'poiLon']; latN = poi_info.loc[pN, 'poiLat']\n",
    "    for i in range(df_.index.shape[0]):\n",
    "        poi = poi_set[i]\n",
    "        lon = poi_info.loc[poi, 'poiLon']; lat = poi_info.loc[poi, 'poiLat']\n",
    "        pop = poi_info.loc[poi, 'popularity']; nvisit = poi_info.loc[poi, 'nVisit']\n",
    "        cat = poi_info.loc[poi, 'poiTheme']; duration = poi_info.loc[poi, 'avgDuration(sec)']\n",
    "        idx = df_.index[i]\n",
    "        df_.loc[idx, 'poiID'] = poi \n",
    "        df_.loc[idx, 'popularity'] = pop\n",
    "        df_.loc[idx, 'nVisit'] = nvisit\n",
    "        df_.loc[idx, 'avgDuration(sec)'] = duration\n",
    "        df_.loc[idx, 'sameCatStart'] = 1 if cat == poi_info.loc[p0, 'poiTheme'] else -1\n",
    "        df_.loc[idx, 'sameCatEnd']   = 1 if cat == poi_info.loc[pN, 'poiTheme'] else -1\n",
    "        df_.loc[idx, 'distStart'] = 0 if poi == p0 else calc_dist(lon, lat, lon0, lat0)\n",
    "        df_.loc[idx, 'distEnd']   = 0 if poi == pN else calc_dist(lon, lat, lonN, latN)\n",
    "        df_.loc[idx, 'seqLen'] = seqLen\n",
    "        df_.loc[idx, 'diffPopStart'] = 0 if poi == p0 else pop - poi_info.loc[p0, 'popularity']\n",
    "        df_.loc[idx, 'diffPopEnd']   = 0 if poi == pN else pop - poi_info.loc[pN, 'popularity']\n",
    "        df_.loc[idx, 'diffNVisitStart'] = 0 if poi == p0 else nvisit - poi_info.loc[p0, 'nVisit']\n",
    "        df_.loc[idx, 'diffNVisitEnd']   = 0 if poi == pN else nvisit - poi_info.loc[pN, 'nVisit']\n",
    "        df_.loc[idx, 'diffDurationStart'] = 0 if poi == p0 else duration - poi_info.loc[p0, 'avgDuration(sec)']\n",
    "        df_.loc[idx, 'diffDurationEnd']   = 0 if poi == pN else duration - poi_info.loc[pN, 'avgDuration(sec)']\n",
    "    return df_"
   ]
  },
  {
   "cell_type": "markdown",
   "metadata": {},
   "source": [
    "Sanity check: \n",
    "- different POIs have different features for the same query trajectory\n",
    "- the same POI get different features for different query-id"
   ]
  },
  {
   "cell_type": "markdown",
   "metadata": {},
   "source": [
    "Generate a string for a training/test data frame."
   ]
  },
  {
   "cell_type": "code",
   "execution_count": 38,
   "metadata": {
    "collapsed": true
   },
   "outputs": [],
   "source": [
    "def gen_data_str(df_):\n",
    "    columns = df_columns[1:].copy()  # get rid of 'poiID'\n",
    "    for col in columns:\n",
    "        assert(col in df_.columns)\n",
    "        \n",
    "    lines = []\n",
    "    for idx in df_.index:\n",
    "        slist = [str(df_.loc[idx, 'label'])]\n",
    "        slist.append(' qid:')\n",
    "        slist.append(str(int(df_.loc[idx, 'queryID'])))\n",
    "        for j in range(2, len(columns)):\n",
    "            slist.append(' ')\n",
    "            slist.append(str(j-1))\n",
    "            slist.append(':')\n",
    "            slist.append(str(df_.loc[idx, columns[j]]))\n",
    "        slist.append('\\n')\n",
    "        lines.append(''.join(slist))\n",
    "    return ''.join(lines)"
   ]
  },
  {
   "cell_type": "markdown",
   "metadata": {},
   "source": [
    "<a id='sec2.4'></a>"
   ]
  },
  {
   "cell_type": "markdown",
   "metadata": {},
   "source": [
    "## 2.4 Platt Scaling"
   ]
  },
  {
   "cell_type": "markdown",
   "metadata": {},
   "source": [
    "Transform ranking scores (output of rankSVM) to a probability distribution using [Platt scaling](https://en.wikipedia.org/wiki/Platt_scaling)."
   ]
  },
  {
   "cell_type": "markdown",
   "metadata": {},
   "source": [
    "One problem is that the training set is unbalanced, i.e., there are much more negative examples than positive examples.\n",
    "After talked to Suvash, he pointed out that unblanced training set is OK for ranking, but not good for logistic regression which [Platt scaling](https://en.wikipedia.org/wiki/Platt_scaling) unfortunately is. The best practice for dealing with this situation is weighting the loss of positive/negative examples when computing the loss function during training, i.e.,\n",
    "$$ \\text{Loss}_{\\text{all}} = \\text{Loss}_+ \\times w_+ + \\text{Loss}_- \\times w_- $$\n",
    "where\n",
    "- $w_+ = \\frac{\\text{num_negative_example}}{\\text{total_num_example}}$ and \n",
    "  $w_- = \\frac{\\text{num_positive_example}}{\\text{total_num_example}}$\n",
    "- $\\text{Loss}_{\\text{all}}$ is the total loss of all examples\n",
    "- $\\text{Loss}_+$ (or $\\text{Loss}_-$) is the total loss of all positive (or negative) examples\n",
    "\n",
    "The implementation of [logistic regression in scikit-learn](http://scikit-learn.org/stable/modules/generated/sklearn.linear_model.LogisticRegression.html) actually deals with this explicitly using a `class_weight` parameter."
   ]
  },
  {
   "cell_type": "markdown",
   "metadata": {},
   "source": [
    "Code from paper `Lin, Hsuan-Tien; Lin, Chih-Jen; Weng, Ruby C. (2007).` \n",
    "[`A note on Platt's probabilistic outputs for support vector machines`](http://stocktrendresearch.googlecode.com/svn-history/r77/trunk/Paper/SVM_ANN/plattprob.pdf).\n",
    "`Machine Learning 68 (3): 267–276.`"
   ]
  },
  {
   "cell_type": "code",
   "execution_count": 39,
   "metadata": {
    "collapsed": false
   },
   "outputs": [],
   "source": [
    "def platt_scaling_params(deci, label, prior1, prior0):\n",
    "    \"\"\"\n",
    "    Input parameters:\n",
    "    - deci = array of SVM decision values (of examples in training set)\n",
    "    - label = array of booleans: is the example labeled +1? (in training set)\n",
    "    - prior1 = number of positive examples (in training set)\n",
    "    - prior0 = number of negative examples (in training set)\n",
    "    Outputs:\n",
    "    - A, B = parameters of sigmoid\n",
    "    \"\"\"\n",
    "\n",
    "    # Parameter setting\n",
    "    maxiter = 100   # Maximum number of iterations\n",
    "    minstep = 1e-10 # Minimum step taken in line search\n",
    "    sigma = 1e-12   # Set to any value > 0\n",
    "    \n",
    "    # NOTE: deal with unbalanced positive/negative examples in training set (i.e., unbalances)\n",
    "    # weight of loss for positive/negative examples\n",
    "    w1 = prior0 / (prior0 + prior1)\n",
    "    w0 = prior1 / (prior0 + prior1)\n",
    "    #print(w1, w0)\n",
    "\n",
    "    # Construct initial values: target support in array t, initial function value in fval\n",
    "    hiTarget = (prior1 + 1.0) / (prior1 + 2.0)\n",
    "    loTarget = 1 / (prior0 + 2.0)\n",
    "    len_ = prior1 + prior0  # Total number of data\n",
    "    t = np.zeros(len_, dtype=np.float)\n",
    "    for i in range(len_):\n",
    "        if label[i] == True: \n",
    "            t[i] = hiTarget\n",
    "        else:\n",
    "            t[i] = loTarget\n",
    "\n",
    "    A = 0.0\n",
    "    B = math.log((prior0 + 1.0) / (prior1 + 1.0))\n",
    "    fval = 0.0                                                                # stores the objective function value\n",
    "    for i in range(len_):\n",
    "        fApB = deci[i] * A + B                                                # fApB = Af_i + B\n",
    "        weight = w1 if label[i] == True else w0                               # NOTE: deal with unbalances \n",
    "        if fApB >= 0:                                                         # Rule I\n",
    "            #fval += t[i] * fApB + math.log(1 + math.exp(-fApB))\n",
    "            fval += weight * (t[i] * fApB + math.log1p(math.exp(-fApB)))      # NOTE: deal with unbalances\n",
    "        else:\n",
    "            #fval += (t[i] - 1) * fApB + math.log(1 + math.exp(fApB))\n",
    "            fval += weight * ((t[i] - 1) * fApB + math.log1p(math.exp(fApB))) # NOTE: deal with unbalances\n",
    "\n",
    "    for it in range(maxiter):\n",
    "        # Update Gradient and Hessian (use H' = H + sigma I)\n",
    "        h11 = h22 = sigma\n",
    "        h21 = g1 = g2 = 0.0\n",
    "        for i in range(len_):\n",
    "            fApB = deci[i] * A + B\n",
    "            if fApB >= 0:                                                     # Rule II and III\n",
    "                p = math.exp(-fApB) / (1.0 + math.exp(-fApB))\n",
    "                q = 1.0 / (1.0 + math.exp(-fApB))\n",
    "            else:\n",
    "                p = 1.0 / (1.0 + math.exp(fApB))\n",
    "                q = math.exp(fApB) / (1.0 + math.exp(fApB))\n",
    "            d2 = p * q\n",
    "            h11 += deci[i] * deci[i] * d2\n",
    "            h22 += d2\n",
    "            h21 += deci[i] * d2\n",
    "            d1 = t[i] - p\n",
    "            g1 += deci[i] * d1\n",
    "            g2 += d1\n",
    "\n",
    "        # Stopping criteria\n",
    "        if math.fabs(g1) < 1e-5 and math.fabs(g2) < 1e-5:  \n",
    "            break\n",
    "\n",
    "        # Compute modified Newton directions\n",
    "        det = h11 * h22 - h21 * h21\n",
    "        dA = -(h22 * g1 - h21 * g2) / det\n",
    "        dB = -(-h21 * g1 + h11 * g2) / det\n",
    "        gd = g1 * dA + g2 * dB\n",
    "\n",
    "        # Line search\n",
    "        stepsize = 1\n",
    "        while stepsize >= minstep:\n",
    "            newA = A + stepsize * dA\n",
    "            newB = B + stepsize * dB\n",
    "            newf = 0.0                                                                 # stores the objective func value\n",
    "            for i in range(len_):\n",
    "                fApB = deci[i] * newA + newB\n",
    "                weight = w1 if label[i] == True else w0                                # NOTE: deal with unbalances\n",
    "                if fApB >= 0:                                                          # Rule I\n",
    "                    #newf += t[i] * fApB + math.log(1 + math.exp(-fApB))\n",
    "                    newf += weight * (t[i] * fApB + math.log1p(math.exp(-fApB)))       # NOTE: deal with unbalances\n",
    "                else:\n",
    "                    #newf += (t[i] - 1) * fApB + math.log(1 + math.exp(fApB))\n",
    "                    newf += weight * ((t[i] - 1) * fApB + math.log1p(math.exp(fApB)))  # NOTE: deal with unbalances\n",
    "\n",
    "            # Sufficient decrease satisfied\n",
    "            if newf < fval + 0.0001 * stepsize * gd:                                   # equation (3), OK\n",
    "            #fr = fval + 0.0001 * stepsize * gd\n",
    "            #if newf < fr or np.abs(newf - fr) < 1e-8:\n",
    "                #print(newf, '<?', fval + 0.0001 * stepsize * gd)\n",
    "                A = newA\n",
    "                B = newB\n",
    "                fval = newf\n",
    "                break\n",
    "            else:\n",
    "                stepsize /= 2.0\n",
    "\n",
    "        if stepsize < minstep:\n",
    "            #print('Line search fails')\n",
    "            #print(newf, '<?', fval + 0.0001 * stepsize * gd); print(gd)\n",
    "            break\n",
    "\n",
    "    if it >= maxiter:\n",
    "        print('Reaching maximum iterations')\n",
    "\n",
    "    return (A, B)"
   ]
  },
  {
   "cell_type": "markdown",
   "metadata": {},
   "source": [
    "<a id='sec2.5'></a>"
   ]
  },
  {
   "cell_type": "markdown",
   "metadata": {},
   "source": [
    "## 2.5 Ranking POIs using rankSVM"
   ]
  },
  {
   "cell_type": "markdown",
   "metadata": {},
   "source": [
    "RankSVM implementation in [libsvm.zip](https://www.csie.ntu.edu.tw/~cjlin/libsvmtools/ranksvm/libsvm-ranksvm-3.20.zip) or [liblinear.zip](https://www.csie.ntu.edu.tw/~cjlin/libsvmtools/ranksvm/liblinear-ranksvm-1.95.zip), please read `README.ranksvm` in the zip file for installation instructions."
   ]
  },
  {
   "cell_type": "markdown",
   "metadata": {},
   "source": [
    "Below is a python wrapper of the `svm-train` or `train` and `svm-predict` or `predict` commands of rankSVM with ranking probabilities $P(p_i \\lvert (p_s, p_e, len))$ calibrated using ~~[Platt scaling](https://en.wikipedia.org/wiki/Platt_scaling)~~ [softmax function](https://en.wikipedia.org/wiki/Softmax_function)."
   ]
  },
  {
   "cell_type": "code",
   "execution_count": 40,
   "metadata": {
    "collapsed": true
   },
   "outputs": [],
   "source": [
    "def softmax(x):\n",
    "    expx = np.exp(x)\n",
    "    return expx / np.sum(expx, axis=0) # column-wise sum"
   ]
  },
  {
   "cell_type": "code",
   "execution_count": 41,
   "metadata": {
    "collapsed": true
   },
   "outputs": [],
   "source": [
    "# python wrapper of rankSVM\n",
    "class RankSVM:\n",
    "    def __init__(self, bin_dir, useLinear=True, debug=False):\n",
    "        dir_ = !echo $bin_dir  # deal with environmental variables in path\n",
    "        assert(os.path.exists(dir_[0]))\n",
    "        self.bin_dir = dir_[0]\n",
    "        \n",
    "        self.bin_train = 'svm-train'\n",
    "        self.bin_predict = 'svm-predict'\n",
    "        if useLinear:\n",
    "            self.bin_train = 'train'\n",
    "            self.bin_predict = 'predict'\n",
    "        \n",
    "        # Platt scaling parameters\n",
    "        #self.A = None\n",
    "        #self.B = None\n",
    "        \n",
    "        assert(isinstance(debug, bool))\n",
    "        self.debug = debug\n",
    "        \n",
    "        # create named tmp files for model and feature scaling parameters\n",
    "        self.fmodel = None\n",
    "        self.fscale = None\n",
    "        with tempfile.NamedTemporaryFile(delete=False) as fd: \n",
    "            self.fmodel = fd.name\n",
    "        with tempfile.NamedTemporaryFile(delete=False) as fd: \n",
    "            self.fscale = fd.name\n",
    "        \n",
    "        if self.debug:\n",
    "            print('model file:', self.fmodel)\n",
    "            print('feature scaling parameter file:', self.fscale)\n",
    "    \n",
    "    \n",
    "    def __del__(self):\n",
    "        # remove tmp files\n",
    "        if self.fmodel is not None and os.path.exists(self.fmodel):\n",
    "            os.unlink(self.fmodel)\n",
    "        if self.fscale is not None and os.path.exists(self.fscale):\n",
    "            os.unlink(self.fscale)\n",
    "    \n",
    "    \n",
    "    def train(self, train_df, cost=1):\n",
    "        # cost is parameter C in SVM\n",
    "        # write train data to file\n",
    "        ftrain = None\n",
    "        with tempfile.NamedTemporaryFile(mode='w+t', delete=False) as fd: \n",
    "            ftrain = fd.name\n",
    "            datastr = gen_data_str(train_df)\n",
    "            fd.write(datastr)\n",
    "        \n",
    "        # feature scaling\n",
    "        ftrain_scaled = None\n",
    "        with tempfile.NamedTemporaryFile(mode='w+t', delete=False) as fd: \n",
    "            ftrain_scaled = fd.name\n",
    "        result = !$self.bin_dir/svm-scale -s $self.fscale $ftrain > $ftrain_scaled\n",
    "        \n",
    "        if self.debug:\n",
    "            print('cost:', cost)\n",
    "            print('train data file:', ftrain)\n",
    "            print('feature scaled train data file:', ftrain_scaled)\n",
    "        \n",
    "        # train rank svm and generate model file, if the model file exists, rewrite it\n",
    "        #n_cv = 10  # parameter k for k-fold cross-validation, NO model file will be generated in CV mode\n",
    "        #result = !$self.bin_dir/svm-train -c $cost -v $n_cv $ftrain $self.fmodel\n",
    "        result = !$self.bin_dir/$self.bin_train -c $cost $ftrain_scaled $self.fmodel\n",
    "        if self.debug:\n",
    "            print('Training finished.')\n",
    "            for i in range(len(result)): print(result[i])\n",
    "\n",
    "        # remove train data file\n",
    "        os.unlink(ftrain)\n",
    "        os.unlink(ftrain_scaled)\n",
    "        \n",
    "        # learn Platt scaling parameters\n",
    "        #rank_df = self.predict(train_df)\n",
    "        #deci = rank_df['rank']                  # array of SVM decision values (of examples in training set)\n",
    "        #label = (train_df['label'] > 0).values  # array of booleans: is the example labeled +1? (in training set)\n",
    "        #prior1 = train_df[train_df['label'] > 0].shape[0] # number of positive examples (in training set)\n",
    "        #prior0 = train_df.shape[0] - prior1               # number of negative examples (in training set)\n",
    "        #(self.A, self.B) = platt_scaling_params(deci, label, prior1, prior0)\n",
    "    \n",
    "    \n",
    "    def predict(self, test_df):\n",
    "        # predict ranking scores for the given feature matrix\n",
    "        if self.fmodel is None or not os.path.exists(self.fmodel):\n",
    "            print('Model should be trained before predicting')\n",
    "            return\n",
    "        \n",
    "        # write test data to file\n",
    "        ftest = None\n",
    "        with tempfile.NamedTemporaryFile(mode='w+t', delete=False) as fd: \n",
    "            ftest = fd.name\n",
    "            datastr = gen_data_str(test_df)\n",
    "            fd.write(datastr)\n",
    "                \n",
    "        # feature scaling\n",
    "        ftest_scaled = None\n",
    "        with tempfile.NamedTemporaryFile(delete=False) as fd: \n",
    "            ftest_scaled = fd.name\n",
    "        result = !$self.bin_dir/svm-scale -r $self.fscale $ftest > $ftest_scaled\n",
    "            \n",
    "        # generate prediction file\n",
    "        fpredict = None\n",
    "        with tempfile.NamedTemporaryFile(delete=False) as fd: \n",
    "            fpredict = fd.name\n",
    "            \n",
    "        if self.debug:\n",
    "            print('test data file:', ftest)\n",
    "            print('feature scaled test data file:', ftest_scaled)\n",
    "            print('predict result file:', fpredict)\n",
    "            \n",
    "        # predict using trained model and write prediction to file\n",
    "        result = !$self.bin_dir/$self.bin_predict $ftest_scaled $self.fmodel $fpredict\n",
    "        if self.debug:\n",
    "            print('Predict result: %-30s  %s' % (result[0], result[1]))\n",
    "        \n",
    "        # generate prediction DataFrame from prediction file\n",
    "        poi_rank_df = pd.read_csv(fpredict, header=None)\n",
    "        poi_rank_df.rename(columns={0:'rank'}, inplace=True)\n",
    "        poi_rank_df['poiID'] = test_df['poiID'].astype(np.int)\n",
    "        #poi_rank_df.set_index('poiID', inplace=True) # duplicated 'poiID' when evaluating training data\n",
    "        #if self.A is not None and self.B is not None: \n",
    "            # compute probability by Platt scaling: en.wikipedia.org/wiki/Platt_scaling\n",
    "        #    poi_rank_df['probability'] = 1 / (1 + np.exp(self.A * poi_rank_df['rank'] + self.B))\n",
    "        poi_rank_df['probability'] = softmax(poi_rank_df['rank'])  # softmax\n",
    "        \n",
    "        # remove test file and prediction file\n",
    "        os.unlink(ftest)\n",
    "        os.unlink(ftest_scaled)\n",
    "        os.unlink(fpredict)\n",
    "        \n",
    "        return poi_rank_df"
   ]
  },
  {
   "cell_type": "markdown",
   "metadata": {},
   "source": [
    "Sanity check."
   ]
  },
  {
   "cell_type": "code",
   "execution_count": 42,
   "metadata": {
    "collapsed": false
   },
   "outputs": [],
   "source": [
    "train_df_ = gen_train_df(seqid_set_train0, seq_all, poi_info_t, query_id_dict)"
   ]
  },
  {
   "cell_type": "code",
   "execution_count": 43,
   "metadata": {
    "collapsed": false
   },
   "outputs": [],
   "source": [
    "ranksvm_ = RankSVM(ranksvm_dir, useLinear=True)\n",
    "ranksvm_.train(train_df_, cost=1000)"
   ]
  },
  {
   "cell_type": "code",
   "execution_count": 44,
   "metadata": {
    "collapsed": false
   },
   "outputs": [],
   "source": [
    "#print('A: %.3f, B: %.3f' % (ranksvm_.A, ranksvm_.B))"
   ]
  },
  {
   "cell_type": "markdown",
   "metadata": {},
   "source": [
    "Histograms on training set."
   ]
  },
  {
   "cell_type": "code",
   "execution_count": 45,
   "metadata": {
    "collapsed": true
   },
   "outputs": [],
   "source": [
    "rank_train_ = ranksvm_.predict(train_df_)"
   ]
  },
  {
   "cell_type": "code",
   "execution_count": 46,
   "metadata": {
    "collapsed": false
   },
   "outputs": [
    {
     "name": "stdout",
     "output_type": "stream",
     "text": [
      "(4316, 17) (4316, 3)\n"
     ]
    }
   ],
   "source": [
    "print(train_df_.shape, rank_train_.shape)"
   ]
  },
  {
   "cell_type": "code",
   "execution_count": 47,
   "metadata": {
    "collapsed": false
   },
   "outputs": [
    {
     "data": {
      "text/plain": [
       "array([ 0.,  1.,  3.,  2.,  4.])"
      ]
     },
     "execution_count": 47,
     "metadata": {},
     "output_type": "execute_result"
    }
   ],
   "source": [
    "train_df_['label'].unique()"
   ]
  },
  {
   "cell_type": "code",
   "execution_count": 48,
   "metadata": {
    "collapsed": false
   },
   "outputs": [
    {
     "name": "stdout",
     "output_type": "stream",
     "text": [
      "#Label=0: 3959\n",
      "#Label=1: 335\n",
      "#Label=2: 17\n"
     ]
    }
   ],
   "source": [
    "ix0 = train_df_[train_df_['label'] == 0].index\n",
    "ix1 = train_df_[train_df_['label'] == 1].index\n",
    "ix2 = train_df_[train_df_['label'] == 2].index\n",
    "print('#Label=0:', ix0.shape[0])\n",
    "print('#Label=1:', ix1.shape[0])\n",
    "print('#Label=2:', ix2.shape[0])"
   ]
  },
  {
   "cell_type": "code",
   "execution_count": 49,
   "metadata": {
    "collapsed": false
   },
   "outputs": [
    {
     "name": "stdout",
     "output_type": "stream",
     "text": [
      "-1.85513 2.88284\n",
      "-2.0 3.0\n"
     ]
    }
   ],
   "source": [
    "rmin_ = rank_train_['rank'].min()\n",
    "rmax_ = rank_train_['rank'].max()\n",
    "print(rmin_, rmax_)\n",
    "rmin1_ = np.round(rmin_); rmin1_ = rmin1_ if rmin1_ < rmin_ else rmin1_ - 0.5\n",
    "rmax1_ = np.round(rmax_); rmax1_ = rmax1_ if rmax1_ > rmax_ else rmax1_ + 0.5\n",
    "print(rmin1_, rmax1_)"
   ]
  },
  {
   "cell_type": "code",
   "execution_count": 50,
   "metadata": {
    "collapsed": false
   },
   "outputs": [
    {
     "name": "stdout",
     "output_type": "stream",
     "text": [
      "5.65287136147e-06 0.000645569983319\n",
      "0.0 0.5\n"
     ]
    }
   ],
   "source": [
    "pmin_ = rank_train_['probability'].min()\n",
    "pmax_ = rank_train_['probability'].max()\n",
    "print(pmin_, pmax_)\n",
    "pmin1_ = np.round(pmin_); pmin1_ = pmin1_ if pmin1_ < pmin_ else max(0, pmin1_ - 0.5)\n",
    "pmax1_ = np.round(pmax_); pmax1_ = pmax1_ if pmax1_ > pmax_ else min(1, pmax1_ + 0.5)\n",
    "print(pmin1_, pmax1_)"
   ]
  },
  {
   "cell_type": "code",
   "execution_count": 51,
   "metadata": {
    "collapsed": false
   },
   "outputs": [
    {
     "data": {
      "text/plain": [
       "<matplotlib.legend.Legend at 0x7fb3408525f8>"
      ]
     },
     "execution_count": 51,
     "metadata": {},
     "output_type": "execute_result"
    },
    {
     "data": {
      "image/png": "[encoded data removed]",
      "text/plain": [
       "<matplotlib.figure.Figure at 0x7fb3408763c8>"
      ]
     },
     "metadata": {},
     "output_type": "display_data"
    }
   ],
   "source": [
    "plt.figure(figsize=[18, 4])\n",
    "ax1 = plt.subplot(1, 3, 1); plt.title('Histogram of Ranking Score (Train)')\n",
    "#hist1, bins1 = np.histogram(rank_train_['rank'], bins=5)\n",
    "bins1_train = np.r_[np.arange(rmin1_, rmax1_, 0.5), rmax1_]  # [-1.5, -1.0, -0.5, 0, 0.5, 1.0, 1.5, 2.0]\n",
    "rank_train_.loc[ix0, 'rank'].hist(ax=ax1, bins=bins1_train, label='Label=0', alpha=0.7)\n",
    "rank_train_.loc[ix1, 'rank'].hist(ax=ax1, bins=bins1_train, label='Label=1', alpha=0.7)\n",
    "rank_train_.loc[ix2, 'rank'].hist(ax=ax1, bins=bins1_train, label='Label=2', alpha=0.7)\n",
    "ax1.set_yscale('log')\n",
    "ax1.set_xlabel('Ranking Score')\n",
    "plt.legend(loc='upper left')\n",
    "\n",
    "ax2 = plt.subplot(1, 3, 2); plt.title('Histogram of Ranking Probability (Train)')\n",
    "#hist2, bins2 = np.histogram(rank_train_['probability'], bins=5)\n",
    "bins2_train = np.r_[np.arange(pmin1_, pmax1_, 0.05), pmax1_]  # [0.0, 0.05, 0.1, 0.15, 0.2, 0.25, 0.3, 0.35, 0.4, 0.45]\n",
    "rank_train_.loc[ix0, 'probability'].hist(ax=ax2, bins=bins2_train, label='Label=0', alpha=0.7)\n",
    "rank_train_.loc[ix1, 'probability'].hist(ax=ax2, bins=bins2_train, label='Label=1', alpha=0.7)\n",
    "rank_train_.loc[ix2, 'probability'].hist(ax=ax2, bins=bins2_train, label='Label=2', alpha=0.7)\n",
    "ax2.set_yscale('log')\n",
    "ax2.set_ylim(ymin=0.1)\n",
    "ax2.set_xlabel('Ranking Probability')\n",
    "plt.legend(loc='upper right')\n",
    "\n",
    "#ax3 = plt.subplot(1, 3, 3); plt.title('Scaling Curve: A=%.2f, B=%.2f' % (ranksvm_.A, ranksvm_.B))\n",
    "#xs = np.arange(-5, 5, 0.1)\n",
    "#ys = 1 / (1 + np.exp(ranksvm_.A * xs + ranksvm_.B))\n",
    "#plt.xlim([-5, 5]); plt.ylim([0, 1])\n",
    "#plt.plot(xs, ys, ls='-')"
   ]
  },
  {
   "cell_type": "code",
   "execution_count": 52,
   "metadata": {
    "collapsed": false
   },
   "outputs": [],
   "source": [
    "seqid_idx_ = 10\n",
    "seq_ = extract_seq(seqid_set_test0[seqid_idx_], seq_all)\n",
    "test_df_ = gen_test_df(seq_[0], seq_[-1], len(seq_), poi_info_t, query_id_dict)"
   ]
  },
  {
   "cell_type": "code",
   "execution_count": 53,
   "metadata": {
    "collapsed": false
   },
   "outputs": [],
   "source": [
    "rank_test_ = ranksvm_.predict(test_df_)\n",
    "rank_test_.set_index('poiID', inplace=True)\n",
    "rank_test_.sort_values(by='rank', ascending=False, inplace=True)"
   ]
  },
  {
   "cell_type": "markdown",
   "metadata": {},
   "source": [
    "Histograms of one test query."
   ]
  },
  {
   "cell_type": "code",
   "execution_count": 54,
   "metadata": {
    "collapsed": false
   },
   "outputs": [
    {
     "name": "stdout",
     "output_type": "stream",
     "text": [
      "(26, 17) (26, 2)\n"
     ]
    }
   ],
   "source": [
    "print(test_df_.shape, rank_test_.shape)"
   ]
  },
  {
   "cell_type": "code",
   "execution_count": 55,
   "metadata": {
    "collapsed": false
   },
   "outputs": [],
   "source": [
    "#test_df_['label'].unique()  # 'label' in test set are random numbers (a place holder)"
   ]
  },
  {
   "cell_type": "code",
   "execution_count": 56,
   "metadata": {
    "collapsed": false
   },
   "outputs": [
    {
     "name": "stdout",
     "output_type": "stream",
     "text": [
      "-1.21748 2.35781\n",
      "-1.5 2.5\n"
     ]
    }
   ],
   "source": [
    "rmin = rank_test_['rank'].min()\n",
    "rmax = rank_test_['rank'].max()\n",
    "print(rmin, rmax)\n",
    "rmin1 = np.round(rmin); rmin1 = rmin1 if rmin1 < rmin else rmin1 - 0.5\n",
    "rmax1 = np.round(rmax); rmax1 = rmax1 if rmax1 > rmax else rmax1 + 0.5\n",
    "print(rmin1, rmax1)"
   ]
  },
  {
   "cell_type": "code",
   "execution_count": 57,
   "metadata": {
    "collapsed": false
   },
   "outputs": [
    {
     "name": "stdout",
     "output_type": "stream",
     "text": [
      "0.0023877787687 0.0852555782734\n",
      "0.0 0.5\n"
     ]
    }
   ],
   "source": [
    "pmin = rank_test_['probability'].min()\n",
    "pmax = rank_test_['probability'].max()\n",
    "print(pmin, pmax)\n",
    "pmin1 = np.round(pmin); pmin1 = pmin1 if pmin1 < pmin else max(0, pmin1 - 0.5)\n",
    "pmax1 = np.round(pmax); pmax1 = pmax1 if pmax1 > pmax else min(1, pmax1 + 0.5)\n",
    "print(pmin1, pmax1)"
   ]
  },
  {
   "cell_type": "code",
   "execution_count": 58,
   "metadata": {
    "collapsed": false
   },
   "outputs": [
    {
     "data": {
      "text/plain": [
       "<matplotlib.axes._subplots.AxesSubplot at 0x7fb3047d6390>"
      ]
     },
     "execution_count": 58,
     "metadata": {},
     "output_type": "execute_result"
    },
    {
     "data": {
      "image/png": "[encoded data removed]",
      "text/plain": [
       "<matplotlib.figure.Figure at 0x7fb34042b6a0>"
      ]
     },
     "metadata": {},
     "output_type": "display_data"
    }
   ],
   "source": [
    "plt.figure(figsize=[18, 4])\n",
    "plt.suptitle('Test Query: (start=%d, end=%d, length=%d)' % (seq_[0], seq_[-1], len(seq_)), fontsize=13, y=1)\n",
    "\n",
    "ax1 = plt.subplot(1, 3, 1); plt.title('Histogram of Ranking Score (Test)')\n",
    "bins1_test = np.r_[np.arange(rmin1, rmax1, 0.5), rmax1]  # [-1.5, -1.0, -0.5, 0, 0.5, 1.0, 1.5]\n",
    "rank_test_['rank'].hist(ax=ax1, bins=bins1_test)\n",
    "\n",
    "ax2 = plt.subplot(1, 3, 2); plt.title('Histogram of Ranking Probability (Test)')\n",
    "bins2_test = np.r_[np.arange(pmin1, pmax1, 0.05), pmax1]  # [0.0, 0.05, 0.1, 0.15, 0.2, 0.25, 0.3]\n",
    "rank_test_['probability'].hist(ax=ax2, bins=bins2_test)\n",
    "\n",
    "#ax3 = plt.subplot(1, 3, 3); plt.title('Scaling Curve: A=%.2f, B=%.2f' % (ranksvm_.A, ranksvm_.B))\n",
    "#xs = np.arange(-5, 5, 0.1)\n",
    "#ys = 1 / (1 + np.exp(ranksvm_.A * xs + ranksvm_.B))\n",
    "#plt.xlim([-5, 5]); plt.ylim([0, 1])\n",
    "#plt.plot(xs, ys, ls='-')"
   ]
  },
  {
   "cell_type": "code",
   "execution_count": 59,
   "metadata": {
    "collapsed": false
   },
   "outputs": [
    {
     "name": "stdout",
     "output_type": "stream",
     "text": [
      "1.0\n"
     ]
    },
    {
     "data": {
      "text/html": [
       "<div>\n",
       "<table border=\"1\" class=\"dataframe\">\n",
       "  <thead>\n",
       "    <tr style=\"text-align: right;\">\n",
       "      <th></th>\n",
       "      <th>rank</th>\n",
       "      <th>probability</th>\n",
       "    </tr>\n",
       "    <tr>\n",
       "      <th>poiID</th>\n",
       "      <th></th>\n",
       "      <th></th>\n",
       "    </tr>\n",
       "  </thead>\n",
       "  <tbody>\n",
       "    <tr>\n",
       "      <th>2</th>\n",
       "      <td>2.357810</td>\n",
       "      <td>0.085256</td>\n",
       "    </tr>\n",
       "    <tr>\n",
       "      <th>14</th>\n",
       "      <td>1.962140</td>\n",
       "      <td>0.057397</td>\n",
       "    </tr>\n",
       "    <tr>\n",
       "      <th>22</th>\n",
       "      <td>1.909430</td>\n",
       "      <td>0.054449</td>\n",
       "    </tr>\n",
       "    <tr>\n",
       "      <th>4</th>\n",
       "      <td>1.889260</td>\n",
       "      <td>0.053362</td>\n",
       "    </tr>\n",
       "    <tr>\n",
       "      <th>28</th>\n",
       "      <td>1.876800</td>\n",
       "      <td>0.052701</td>\n",
       "    </tr>\n",
       "    <tr>\n",
       "      <th>30</th>\n",
       "      <td>1.868540</td>\n",
       "      <td>0.052268</td>\n",
       "    </tr>\n",
       "    <tr>\n",
       "      <th>8</th>\n",
       "      <td>1.814800</td>\n",
       "      <td>0.049533</td>\n",
       "    </tr>\n",
       "    <tr>\n",
       "      <th>23</th>\n",
       "      <td>1.782000</td>\n",
       "      <td>0.047935</td>\n",
       "    </tr>\n",
       "    <tr>\n",
       "      <th>7</th>\n",
       "      <td>1.721540</td>\n",
       "      <td>0.045123</td>\n",
       "    </tr>\n",
       "    <tr>\n",
       "      <th>17</th>\n",
       "      <td>1.705150</td>\n",
       "      <td>0.044389</td>\n",
       "    </tr>\n",
       "    <tr>\n",
       "      <th>25</th>\n",
       "      <td>1.699550</td>\n",
       "      <td>0.044141</td>\n",
       "    </tr>\n",
       "    <tr>\n",
       "      <th>21</th>\n",
       "      <td>1.693130</td>\n",
       "      <td>0.043859</td>\n",
       "    </tr>\n",
       "    <tr>\n",
       "      <th>6</th>\n",
       "      <td>1.664750</td>\n",
       "      <td>0.042632</td>\n",
       "    </tr>\n",
       "    <tr>\n",
       "      <th>24</th>\n",
       "      <td>1.622370</td>\n",
       "      <td>0.040863</td>\n",
       "    </tr>\n",
       "    <tr>\n",
       "      <th>16</th>\n",
       "      <td>1.598170</td>\n",
       "      <td>0.039886</td>\n",
       "    </tr>\n",
       "    <tr>\n",
       "      <th>1</th>\n",
       "      <td>1.508990</td>\n",
       "      <td>0.036483</td>\n",
       "    </tr>\n",
       "    <tr>\n",
       "      <th>19</th>\n",
       "      <td>1.377750</td>\n",
       "      <td>0.031995</td>\n",
       "    </tr>\n",
       "    <tr>\n",
       "      <th>11</th>\n",
       "      <td>1.340540</td>\n",
       "      <td>0.030827</td>\n",
       "    </tr>\n",
       "    <tr>\n",
       "      <th>29</th>\n",
       "      <td>1.299730</td>\n",
       "      <td>0.029594</td>\n",
       "    </tr>\n",
       "    <tr>\n",
       "      <th>3</th>\n",
       "      <td>1.086330</td>\n",
       "      <td>0.023907</td>\n",
       "    </tr>\n",
       "    <tr>\n",
       "      <th>27</th>\n",
       "      <td>1.029580</td>\n",
       "      <td>0.022588</td>\n",
       "    </tr>\n",
       "    <tr>\n",
       "      <th>20</th>\n",
       "      <td>1.012640</td>\n",
       "      <td>0.022209</td>\n",
       "    </tr>\n",
       "    <tr>\n",
       "      <th>13</th>\n",
       "      <td>0.755385</td>\n",
       "      <td>0.017171</td>\n",
       "    </tr>\n",
       "    <tr>\n",
       "      <th>15</th>\n",
       "      <td>0.676300</td>\n",
       "      <td>0.015865</td>\n",
       "    </tr>\n",
       "    <tr>\n",
       "      <th>10</th>\n",
       "      <td>0.490891</td>\n",
       "      <td>0.013180</td>\n",
       "    </tr>\n",
       "    <tr>\n",
       "      <th>26</th>\n",
       "      <td>-1.217480</td>\n",
       "      <td>0.002388</td>\n",
       "    </tr>\n",
       "  </tbody>\n",
       "</table>\n",
       "</div>"
      ],
      "text/plain": [
       "           rank  probability\n",
       "poiID                       \n",
       "2      2.357810     0.085256\n",
       "14     1.962140     0.057397\n",
       "22     1.909430     0.054449\n",
       "4      1.889260     0.053362\n",
       "28     1.876800     0.052701\n",
       "30     1.868540     0.052268\n",
       "8      1.814800     0.049533\n",
       "23     1.782000     0.047935\n",
       "7      1.721540     0.045123\n",
       "17     1.705150     0.044389\n",
       "25     1.699550     0.044141\n",
       "21     1.693130     0.043859\n",
       "6      1.664750     0.042632\n",
       "24     1.622370     0.040863\n",
       "16     1.598170     0.039886\n",
       "1      1.508990     0.036483\n",
       "19     1.377750     0.031995\n",
       "11     1.340540     0.030827\n",
       "29     1.299730     0.029594\n",
       "3      1.086330     0.023907\n",
       "27     1.029580     0.022588\n",
       "20     1.012640     0.022209\n",
       "13     0.755385     0.017171\n",
       "15     0.676300     0.015865\n",
       "10     0.490891     0.013180\n",
       "26    -1.217480     0.002388"
      ]
     },
     "execution_count": 59,
     "metadata": {},
     "output_type": "execute_result"
    }
   ],
   "source": [
    "print(rank_test_['probability'].sum())  # it is ranking probabilities, not probability distribution\n",
    "rank_test_"
   ]
  },
  {
   "cell_type": "markdown",
   "metadata": {},
   "source": [
    "<a id='sec3'></a>"
   ]
  },
  {
   "cell_type": "markdown",
   "metadata": {},
   "source": [
    "# 3. Factorise Transition Probabilities in POI Feature Space"
   ]
  },
  {
   "cell_type": "markdown",
   "metadata": {},
   "source": [
    "Estimate a transition matrix for each feature of POI, transition probabilities (matrix) between different POI features (vector) is obtrained by the [Kronecker product](https://en.wikipedia.org/wiki/Kronecker_product) of the individual transition matrix corresponding to each feature."
   ]
  },
  {
   "cell_type": "markdown",
   "metadata": {},
   "source": [
    "<a id='sec3.1'></a>"
   ]
  },
  {
   "cell_type": "markdown",
   "metadata": {},
   "source": [
    "## 3.1 POI Features for Factorisation"
   ]
  },
  {
   "cell_type": "markdown",
   "metadata": {},
   "source": [
    "POI features used to factorise transition matrix of Markov Chain with POI features (vector) as states:\n",
    "- Category of POI\n",
    "- Popularity of POI (discritize with uniform log-scale bins, #bins <=5 )\n",
    "- The number of POI visits (discritize with uniform log-scale bins, #bins <=5 )\n",
    "- The average visit duration of POI (discritise with uniform log-scale bins, #bins <= 5)\n",
    "- The neighborhood relationship between POIs (clustering POI(lat, lon) using k-means, #clusters <= 5)"
   ]
  },
  {
   "cell_type": "markdown",
   "metadata": {},
   "source": [
    "We count the number of transition first, then normalise each row while taking care of zero by adding each cell a small number (i.e. $0.2$ times the minimum value of that row) if there exists a zero cell."
   ]
  },
  {
   "cell_type": "code",
   "execution_count": 60,
   "metadata": {
    "collapsed": true
   },
   "outputs": [],
   "source": [
    "def normalise_transmat(transmat):\n",
    "    assert(isinstance(transmat, pd.DataFrame))\n",
    "    for row in range(transmat.index.shape[0]):\n",
    "        nonzeroidx = np.nonzero(transmat.iloc[row])[0].tolist()    \n",
    "        if len(nonzeroidx) < transmat.columns.shape[0]:\n",
    "            if len(nonzeroidx) == 0:  # all zeros in row\n",
    "                transmat.iloc[row] = 1 / transmat.columns.shape[0]  # uniform distribution\n",
    "            else:\n",
    "                minv = np.min(transmat.iloc[row, nonzeroidx])\n",
    "                EPS = 0.2 * minv  # row-specific smooth factor\n",
    "                #zeroidx = list(set(range(len(transmat.columns))) - set(nonzeroidx))\n",
    "                #transmat.iloc[row, zeroidx] = EPS\n",
    "                transmat.iloc[row] += EPS\n",
    "                rowsum = np.sum(transmat.iloc[row])\n",
    "                assert(rowsum > 0)\n",
    "                transmat.iloc[row] /= rowsum\n",
    "        else:\n",
    "            assert(len(nonzeroidx) == transmat.columns.shape[0])  # all non-zero in row\n",
    "            transmat.iloc[row] /= np.sum(transmat.iloc[row])\n",
    "    return transmat"
   ]
  },
  {
   "cell_type": "markdown",
   "metadata": {},
   "source": [
    "POIs in training set."
   ]
  },
  {
   "cell_type": "code",
   "execution_count": 61,
   "metadata": {
    "collapsed": false
   },
   "outputs": [],
   "source": [
    "poi_train = seq_all[seq_all['seqID'].isin(seqid_set_train0)]['poiID'].unique().tolist()\n",
    "poi_train.sort()\n",
    "#poi_train"
   ]
  },
  {
   "cell_type": "markdown",
   "metadata": {},
   "source": [
    "<a id='sec3.2'></a>"
   ]
  },
  {
   "cell_type": "markdown",
   "metadata": {},
   "source": [
    "## 3.2 Transition Matrix between POI Cateogries"
   ]
  },
  {
   "cell_type": "code",
   "execution_count": 62,
   "metadata": {
    "collapsed": false
   },
   "outputs": [
    {
     "data": {
      "text/plain": [
       "['Amusement', 'Beach', 'Cultural', 'Shopping', 'Sport', 'Structure']"
      ]
     },
     "execution_count": 62,
     "metadata": {},
     "output_type": "execute_result"
    }
   ],
   "source": [
    "poi_cats = poi_all.loc[poi_train, 'poiTheme'].unique().tolist()\n",
    "poi_cats.sort()\n",
    "poi_cats"
   ]
  },
  {
   "cell_type": "code",
   "execution_count": 63,
   "metadata": {
    "collapsed": true
   },
   "outputs": [],
   "source": [
    "transmat_cat = pd.DataFrame(data=np.zeros((len(poi_cats), len(poi_cats)), dtype=np.float), \\\n",
    "                            columns=poi_cats, index=poi_cats)"
   ]
  },
  {
   "cell_type": "markdown",
   "metadata": {},
   "source": [
    "Count the number of transitions between POI categories."
   ]
  },
  {
   "cell_type": "code",
   "execution_count": 64,
   "metadata": {
    "collapsed": false
   },
   "outputs": [],
   "source": [
    "for seqid in seqid_set_train0:\n",
    "    seq = extract_seq(seqid, seq_all)\n",
    "    assert(len(seq) > 2)\n",
    "    for pi in range(len(seq)-1):\n",
    "        p1 = seq[pi]\n",
    "        p2 = seq[pi+1]\n",
    "        cat1 = poi_all.loc[p1, 'poiTheme']\n",
    "        cat2 = poi_all.loc[p2, 'poiTheme']\n",
    "        transmat_cat.loc[cat1, cat2] += 1"
   ]
  },
  {
   "cell_type": "code",
   "execution_count": 65,
   "metadata": {
    "collapsed": false
   },
   "outputs": [
    {
     "data": {
      "text/html": [
       "<div>\n",
       "<table border=\"1\" class=\"dataframe\">\n",
       "  <thead>\n",
       "    <tr style=\"text-align: right;\">\n",
       "      <th></th>\n",
       "      <th>Amusement</th>\n",
       "      <th>Beach</th>\n",
       "      <th>Cultural</th>\n",
       "      <th>Shopping</th>\n",
       "      <th>Sport</th>\n",
       "      <th>Structure</th>\n",
       "    </tr>\n",
       "  </thead>\n",
       "  <tbody>\n",
       "    <tr>\n",
       "      <th>Amusement</th>\n",
       "      <td>3</td>\n",
       "      <td>4</td>\n",
       "      <td>19</td>\n",
       "      <td>8</td>\n",
       "      <td>13</td>\n",
       "      <td>4</td>\n",
       "    </tr>\n",
       "    <tr>\n",
       "      <th>Beach</th>\n",
       "      <td>6</td>\n",
       "      <td>18</td>\n",
       "      <td>23</td>\n",
       "      <td>38</td>\n",
       "      <td>8</td>\n",
       "      <td>43</td>\n",
       "    </tr>\n",
       "    <tr>\n",
       "      <th>Cultural</th>\n",
       "      <td>16</td>\n",
       "      <td>26</td>\n",
       "      <td>15</td>\n",
       "      <td>25</td>\n",
       "      <td>8</td>\n",
       "      <td>39</td>\n",
       "    </tr>\n",
       "    <tr>\n",
       "      <th>Shopping</th>\n",
       "      <td>5</td>\n",
       "      <td>40</td>\n",
       "      <td>19</td>\n",
       "      <td>5</td>\n",
       "      <td>10</td>\n",
       "      <td>34</td>\n",
       "    </tr>\n",
       "    <tr>\n",
       "      <th>Sport</th>\n",
       "      <td>14</td>\n",
       "      <td>8</td>\n",
       "      <td>8</td>\n",
       "      <td>2</td>\n",
       "      <td>5</td>\n",
       "      <td>10</td>\n",
       "    </tr>\n",
       "    <tr>\n",
       "      <th>Structure</th>\n",
       "      <td>15</td>\n",
       "      <td>40</td>\n",
       "      <td>31</td>\n",
       "      <td>29</td>\n",
       "      <td>9</td>\n",
       "      <td>9</td>\n",
       "    </tr>\n",
       "  </tbody>\n",
       "</table>\n",
       "</div>"
      ],
      "text/plain": [
       "           Amusement  Beach  Cultural  Shopping  Sport  Structure\n",
       "Amusement          3      4        19         8     13          4\n",
       "Beach              6     18        23        38      8         43\n",
       "Cultural          16     26        15        25      8         39\n",
       "Shopping           5     40        19         5     10         34\n",
       "Sport             14      8         8         2      5         10\n",
       "Structure         15     40        31        29      9          9"
      ]
     },
     "execution_count": 65,
     "metadata": {},
     "output_type": "execute_result"
    }
   ],
   "source": [
    "transmat_cat"
   ]
  },
  {
   "cell_type": "markdown",
   "metadata": {},
   "source": [
    "Normalise each row to obtain transition probabilities."
   ]
  },
  {
   "cell_type": "code",
   "execution_count": 66,
   "metadata": {
    "collapsed": false
   },
   "outputs": [],
   "source": [
    "transmat_cat = normalise_transmat(transmat_cat)"
   ]
  },
  {
   "cell_type": "code",
   "execution_count": 67,
   "metadata": {
    "collapsed": false
   },
   "outputs": [
    {
     "data": {
      "text/html": [
       "<div>\n",
       "<table border=\"1\" class=\"dataframe\">\n",
       "  <thead>\n",
       "    <tr style=\"text-align: right;\">\n",
       "      <th></th>\n",
       "      <th>Amusement</th>\n",
       "      <th>Beach</th>\n",
       "      <th>Cultural</th>\n",
       "      <th>Shopping</th>\n",
       "      <th>Sport</th>\n",
       "      <th>Structure</th>\n",
       "    </tr>\n",
       "  </thead>\n",
       "  <tbody>\n",
       "    <tr>\n",
       "      <th>Amusement</th>\n",
       "      <td>0.058824</td>\n",
       "      <td>0.078431</td>\n",
       "      <td>0.372549</td>\n",
       "      <td>0.156863</td>\n",
       "      <td>0.254902</td>\n",
       "      <td>0.078431</td>\n",
       "    </tr>\n",
       "    <tr>\n",
       "      <th>Beach</th>\n",
       "      <td>0.044118</td>\n",
       "      <td>0.132353</td>\n",
       "      <td>0.169118</td>\n",
       "      <td>0.279412</td>\n",
       "      <td>0.058824</td>\n",
       "      <td>0.316176</td>\n",
       "    </tr>\n",
       "    <tr>\n",
       "      <th>Cultural</th>\n",
       "      <td>0.124031</td>\n",
       "      <td>0.201550</td>\n",
       "      <td>0.116279</td>\n",
       "      <td>0.193798</td>\n",
       "      <td>0.062016</td>\n",
       "      <td>0.302326</td>\n",
       "    </tr>\n",
       "    <tr>\n",
       "      <th>Shopping</th>\n",
       "      <td>0.044248</td>\n",
       "      <td>0.353982</td>\n",
       "      <td>0.168142</td>\n",
       "      <td>0.044248</td>\n",
       "      <td>0.088496</td>\n",
       "      <td>0.300885</td>\n",
       "    </tr>\n",
       "    <tr>\n",
       "      <th>Sport</th>\n",
       "      <td>0.297872</td>\n",
       "      <td>0.170213</td>\n",
       "      <td>0.170213</td>\n",
       "      <td>0.042553</td>\n",
       "      <td>0.106383</td>\n",
       "      <td>0.212766</td>\n",
       "    </tr>\n",
       "    <tr>\n",
       "      <th>Structure</th>\n",
       "      <td>0.112782</td>\n",
       "      <td>0.300752</td>\n",
       "      <td>0.233083</td>\n",
       "      <td>0.218045</td>\n",
       "      <td>0.067669</td>\n",
       "      <td>0.067669</td>\n",
       "    </tr>\n",
       "  </tbody>\n",
       "</table>\n",
       "</div>"
      ],
      "text/plain": [
       "           Amusement     Beach  Cultural  Shopping     Sport  Structure\n",
       "Amusement   0.058824  0.078431  0.372549  0.156863  0.254902   0.078431\n",
       "Beach       0.044118  0.132353  0.169118  0.279412  0.058824   0.316176\n",
       "Cultural    0.124031  0.201550  0.116279  0.193798  0.062016   0.302326\n",
       "Shopping    0.044248  0.353982  0.168142  0.044248  0.088496   0.300885\n",
       "Sport       0.297872  0.170213  0.170213  0.042553  0.106383   0.212766\n",
       "Structure   0.112782  0.300752  0.233083  0.218045  0.067669   0.067669"
      ]
     },
     "execution_count": 67,
     "metadata": {},
     "output_type": "execute_result"
    }
   ],
   "source": [
    "transmat_cat"
   ]
  },
  {
   "cell_type": "markdown",
   "metadata": {},
   "source": [
    "Combine the above steps."
   ]
  },
  {
   "cell_type": "code",
   "execution_count": 68,
   "metadata": {
    "collapsed": true
   },
   "outputs": [],
   "source": [
    "def gen_transmat_cat(seqid_set, seq_all, poi_info):\n",
    "    #poi_train = seq_all[seq_all['seqID'].isin(seqid_set)]['poiID'].unique().tolist()\n",
    "    poi_train = poi_info.index.tolist()\n",
    "    #poi_train.sort()\n",
    "    poi_cats = poi_info.loc[poi_train, 'poiTheme'].unique().tolist()\n",
    "    poi_cats.sort()\n",
    "    transmat_cat = pd.DataFrame(data=np.zeros((len(poi_cats), len(poi_cats)), dtype=np.float), \\\n",
    "                                columns=poi_cats, index=poi_cats)\n",
    "    for seqid in seqid_set:\n",
    "        seq = extract_seq(seqid, seq_all)\n",
    "        assert(len(seq) > 2)\n",
    "        for pi in range(len(seq)-1):\n",
    "            p1 = seq[pi]\n",
    "            p2 = seq[pi+1]\n",
    "            cat1 = poi_all.loc[p1, 'poiTheme']\n",
    "            cat2 = poi_all.loc[p2, 'poiTheme']\n",
    "            transmat_cat.loc[cat1, cat2] += 1\n",
    "    return normalise_transmat(transmat_cat)"
   ]
  },
  {
   "cell_type": "markdown",
   "metadata": {},
   "source": [
    "<a id='sec3.3'></a>"
   ]
  },
  {
   "cell_type": "markdown",
   "metadata": {},
   "source": [
    "## 3.3 Transition Matrix between POI Popularity Classes"
   ]
  },
  {
   "cell_type": "code",
   "execution_count": 69,
   "metadata": {
    "collapsed": false
   },
   "outputs": [
    {
     "data": {
      "text/plain": [
       "[1,\n",
       " 3,\n",
       " 4,\n",
       " 6,\n",
       " 7,\n",
       " 10,\n",
       " 14,\n",
       " 15,\n",
       " 16,\n",
       " 18,\n",
       " 19,\n",
       " 24,\n",
       " 25,\n",
       " 30,\n",
       " 35,\n",
       " 47,\n",
       " 51,\n",
       " 57,\n",
       " 58,\n",
       " 59,\n",
       " 62,\n",
       " 64]"
      ]
     },
     "execution_count": 69,
     "metadata": {},
     "output_type": "execute_result"
    }
   ],
   "source": [
    "poi_pops = poi_info_t.loc[poi_train, 'popularity'].unique().tolist()\n",
    "poi_pops.sort()\n",
    "poi_pops"
   ]
  },
  {
   "cell_type": "markdown",
   "metadata": {},
   "source": [
    "Discretize POI popularity with uniform log-scale bins (#bins $\\le 5$)."
   ]
  },
  {
   "cell_type": "code",
   "execution_count": 70,
   "metadata": {
    "collapsed": false
   },
   "outputs": [
    {
     "data": {
      "text/plain": [
       "4142"
      ]
     },
     "execution_count": 70,
     "metadata": {},
     "output_type": "execute_result"
    }
   ],
   "source": [
    "poi_all['poiFreq'].max()"
   ]
  },
  {
   "cell_type": "code",
   "execution_count": 71,
   "metadata": {
    "collapsed": false
   },
   "outputs": [
    {
     "name": "stdout",
     "output_type": "stream",
     "text": [
      "0.0 1.80617997398\n"
     ]
    }
   ],
   "source": [
    "expo_pop1 = np.log10(min(poi_pops))\n",
    "expo_pop2 = np.log10(max(poi_pops))\n",
    "print(expo_pop1, expo_pop2)"
   ]
  },
  {
   "cell_type": "code",
   "execution_count": 72,
   "metadata": {
    "collapsed": false
   },
   "outputs": [
    {
     "data": {
      "text/plain": [
       "array([   1.,   10.,  100.])"
      ]
     },
     "execution_count": 72,
     "metadata": {},
     "output_type": "execute_result"
    }
   ],
   "source": [
    "nbins_pop = 2\n",
    "logbins_pop = np.logspace(np.floor(expo_pop1), np.ceil(expo_pop2), nbins_pop+1)\n",
    "logbins_pop"
   ]
  },
  {
   "cell_type": "code",
   "execution_count": 73,
   "metadata": {
    "collapsed": false
   },
   "outputs": [
    {
     "data": {
      "image/png": "[encoded data removed]",
      "text/plain": [
       "<matplotlib.figure.Figure at 0x7fb3407ac4e0>"
      ]
     },
     "metadata": {},
     "output_type": "display_data"
    }
   ],
   "source": [
    "ax = pd.Series(poi_pops).hist(figsize=(5, 3), bins=logbins_pop)\n",
    "ax.set_xscale('log')"
   ]
  },
  {
   "cell_type": "code",
   "execution_count": 74,
   "metadata": {
    "collapsed": false
   },
   "outputs": [],
   "source": [
    "transmat_pop = pd.DataFrame(data=np.zeros((nbins_pop, nbins_pop), dtype=np.float), \\\n",
    "                            columns=np.arange(1, nbins_pop+1), index=np.arange(1, nbins_pop+1))"
   ]
  },
  {
   "cell_type": "markdown",
   "metadata": {},
   "source": [
    "Count the number of transitions between POI popularity classes."
   ]
  },
  {
   "cell_type": "code",
   "execution_count": 75,
   "metadata": {
    "collapsed": false
   },
   "outputs": [],
   "source": [
    "#np.digitize([101, 0.1], logbins_pop)"
   ]
  },
  {
   "cell_type": "code",
   "execution_count": 76,
   "metadata": {
    "collapsed": true
   },
   "outputs": [],
   "source": [
    "for seqid in seqid_set_train0:\n",
    "    seq = extract_seq(seqid, seq_all)\n",
    "    assert(len(seq) > 2)\n",
    "    for pi in range(len(seq)-1):\n",
    "        p1 = seq[pi]\n",
    "        p2 = seq[pi+1]\n",
    "        pop1 = poi_info_t.loc[p1, 'popularity']\n",
    "        pop2 = poi_info_t.loc[p2, 'popularity']\n",
    "        pc1, pc2 = np.digitize([pop1, pop2], logbins_pop)\n",
    "        transmat_pop.loc[pc1, pc2] += 1"
   ]
  },
  {
   "cell_type": "code",
   "execution_count": 77,
   "metadata": {
    "collapsed": false
   },
   "outputs": [
    {
     "data": {
      "text/html": [
       "<div>\n",
       "<table border=\"1\" class=\"dataframe\">\n",
       "  <thead>\n",
       "    <tr style=\"text-align: right;\">\n",
       "      <th></th>\n",
       "      <th>1</th>\n",
       "      <th>2</th>\n",
       "    </tr>\n",
       "  </thead>\n",
       "  <tbody>\n",
       "    <tr>\n",
       "      <th>1</th>\n",
       "      <td>12</td>\n",
       "      <td>10</td>\n",
       "    </tr>\n",
       "    <tr>\n",
       "      <th>2</th>\n",
       "      <td>13</td>\n",
       "      <td>574</td>\n",
       "    </tr>\n",
       "  </tbody>\n",
       "</table>\n",
       "</div>"
      ],
      "text/plain": [
       "    1    2\n",
       "1  12   10\n",
       "2  13  574"
      ]
     },
     "execution_count": 77,
     "metadata": {},
     "output_type": "execute_result"
    }
   ],
   "source": [
    "transmat_pop"
   ]
  },
  {
   "cell_type": "markdown",
   "metadata": {},
   "source": [
    "Normalise each row to obtain transition probabilities."
   ]
  },
  {
   "cell_type": "code",
   "execution_count": 78,
   "metadata": {
    "collapsed": false
   },
   "outputs": [],
   "source": [
    "transmat_pop = normalise_transmat(transmat_pop)"
   ]
  },
  {
   "cell_type": "code",
   "execution_count": 79,
   "metadata": {
    "collapsed": false
   },
   "outputs": [
    {
     "data": {
      "text/html": [
       "<div>\n",
       "<table border=\"1\" class=\"dataframe\">\n",
       "  <thead>\n",
       "    <tr style=\"text-align: right;\">\n",
       "      <th></th>\n",
       "      <th>1</th>\n",
       "      <th>2</th>\n",
       "    </tr>\n",
       "  </thead>\n",
       "  <tbody>\n",
       "    <tr>\n",
       "      <th>1</th>\n",
       "      <td>0.545455</td>\n",
       "      <td>0.454545</td>\n",
       "    </tr>\n",
       "    <tr>\n",
       "      <th>2</th>\n",
       "      <td>0.022147</td>\n",
       "      <td>0.977853</td>\n",
       "    </tr>\n",
       "  </tbody>\n",
       "</table>\n",
       "</div>"
      ],
      "text/plain": [
       "          1         2\n",
       "1  0.545455  0.454545\n",
       "2  0.022147  0.977853"
      ]
     },
     "execution_count": 79,
     "metadata": {},
     "output_type": "execute_result"
    }
   ],
   "source": [
    "transmat_pop"
   ]
  },
  {
   "cell_type": "markdown",
   "metadata": {},
   "source": [
    "Combine the above steps."
   ]
  },
  {
   "cell_type": "code",
   "execution_count": 80,
   "metadata": {
    "collapsed": true
   },
   "outputs": [],
   "source": [
    "def gen_transmat_pop(seqid_set, seq_all, poi_info, nbins=2):\n",
    "    #poi_train = seq_all[seq_all['seqID'].isin(seqid_set)]['poiID'].unique().tolist()\n",
    "    poi_train = poi_info.index.tolist()\n",
    "    #poi_train.sort()\n",
    "    #poi_info = calc_poi_info(seqid_set, seq_all, poi_all)\n",
    "    poi_pops = poi_info.loc[poi_train, 'popularity'].unique().tolist()\n",
    "    poi_pops.sort()\n",
    "    expo_pop1 = np.log10(min(poi_pops))\n",
    "    expo_pop2 = np.log10(max(poi_pops))\n",
    "    logbins_pop = np.logspace(np.floor(expo_pop1), np.ceil(expo_pop2), nbins+1)\n",
    "    transmat_pop = pd.DataFrame(data=np.zeros((nbins, nbins), dtype=np.float), \\\n",
    "                                columns=np.arange(1, nbins+1), index=np.arange(1, nbins+1))\n",
    "    for seqid in seqid_set:\n",
    "        seq = extract_seq(seqid, seq_all)\n",
    "        assert(len(seq) > 2)\n",
    "        for pi in range(len(seq)-1):\n",
    "            p1 = seq[pi]\n",
    "            p2 = seq[pi+1]\n",
    "            pop1 = poi_info.loc[p1, 'popularity']\n",
    "            pop2 = poi_info.loc[p2, 'popularity']\n",
    "            pc1, pc2 = np.digitize([pop1, pop2], logbins_pop)\n",
    "            transmat_pop.loc[pc1, pc2] += 1\n",
    "    return normalise_transmat(transmat_pop), logbins_pop"
   ]
  },
  {
   "cell_type": "markdown",
   "metadata": {},
   "source": [
    "<a id='sec3.4'></a>"
   ]
  },
  {
   "cell_type": "markdown",
   "metadata": {},
   "source": [
    "## 3.3 Transition Matrix between the Number of POI Visit Classes"
   ]
  },
  {
   "cell_type": "code",
   "execution_count": 81,
   "metadata": {
    "collapsed": false
   },
   "outputs": [
    {
     "data": {
      "text/plain": [
       "[1, 4, 5, 6, 7, 14, 16, 17, 19, 20, 25, 26, 32, 39, 64, 69, 78, 88, 90, 92]"
      ]
     },
     "execution_count": 81,
     "metadata": {},
     "output_type": "execute_result"
    }
   ],
   "source": [
    "poi_visits = poi_info_t.loc[poi_train, 'nVisit'].unique().tolist()\n",
    "poi_visits.sort()\n",
    "poi_visits"
   ]
  },
  {
   "cell_type": "markdown",
   "metadata": {},
   "source": [
    "Discretize the number of POI visit with uniform log-scale bins (#bins $\\le 5$)."
   ]
  },
  {
   "cell_type": "code",
   "execution_count": 82,
   "metadata": {
    "collapsed": false
   },
   "outputs": [
    {
     "name": "stdout",
     "output_type": "stream",
     "text": [
      "0.0 1.96378782735\n"
     ]
    }
   ],
   "source": [
    "expo_visit1 = np.log10(min(poi_visits))\n",
    "expo_visit2 = np.log10(max(poi_visits))\n",
    "print(expo_visit1, expo_visit2)"
   ]
  },
  {
   "cell_type": "code",
   "execution_count": 83,
   "metadata": {
    "collapsed": false
   },
   "outputs": [
    {
     "data": {
      "text/plain": [
       "array([   1.,   10.,  100.])"
      ]
     },
     "execution_count": 83,
     "metadata": {},
     "output_type": "execute_result"
    }
   ],
   "source": [
    "nbins_visit = 2\n",
    "logbins_visit = np.logspace(np.floor(expo_visit1), np.ceil(expo_visit2), nbins_visit+1)\n",
    "logbins_visit"
   ]
  },
  {
   "cell_type": "code",
   "execution_count": 84,
   "metadata": {
    "collapsed": false
   },
   "outputs": [
    {
     "data": {
      "image/png": "[encoded data removed]",
      "text/plain": [
       "<matplotlib.figure.Figure at 0x7fb3406de828>"
      ]
     },
     "metadata": {},
     "output_type": "display_data"
    }
   ],
   "source": [
    "ax = pd.Series(poi_visits).hist(figsize=(5, 3), bins=logbins_visit)\n",
    "ax.set_xscale('log')"
   ]
  },
  {
   "cell_type": "code",
   "execution_count": 85,
   "metadata": {
    "collapsed": false
   },
   "outputs": [],
   "source": [
    "transmat_visit = pd.DataFrame(data=np.zeros((nbins_visit, nbins_visit), dtype=np.float), \\\n",
    "                              columns=np.arange(1, nbins_visit+1), index=np.arange(1, nbins_visit+1))"
   ]
  },
  {
   "cell_type": "markdown",
   "metadata": {},
   "source": [
    "Count the number of transitions between POI popularity classes."
   ]
  },
  {
   "cell_type": "code",
   "execution_count": 86,
   "metadata": {
    "collapsed": true
   },
   "outputs": [],
   "source": [
    "for seqid in seqid_set_train0:\n",
    "    seq = extract_seq(seqid, seq_all)\n",
    "    assert(len(seq) > 2)\n",
    "    for pi in range(len(seq)-1):\n",
    "        p1 = seq[pi]\n",
    "        p2 = seq[pi+1]\n",
    "        visit1 = poi_info_t.loc[p1, 'nVisit']\n",
    "        visit2 = poi_info_t.loc[p2, 'nVisit']\n",
    "        vc1, vc2 = np.digitize([visit1, visit2], logbins_visit)\n",
    "        transmat_visit.loc[vc1, vc2] += 1"
   ]
  },
  {
   "cell_type": "code",
   "execution_count": 87,
   "metadata": {
    "collapsed": false
   },
   "outputs": [
    {
     "data": {
      "text/html": [
       "<div>\n",
       "<table border=\"1\" class=\"dataframe\">\n",
       "  <thead>\n",
       "    <tr style=\"text-align: right;\">\n",
       "      <th></th>\n",
       "      <th>1</th>\n",
       "      <th>2</th>\n",
       "    </tr>\n",
       "  </thead>\n",
       "  <tbody>\n",
       "    <tr>\n",
       "      <th>1</th>\n",
       "      <td>12</td>\n",
       "      <td>10</td>\n",
       "    </tr>\n",
       "    <tr>\n",
       "      <th>2</th>\n",
       "      <td>13</td>\n",
       "      <td>574</td>\n",
       "    </tr>\n",
       "  </tbody>\n",
       "</table>\n",
       "</div>"
      ],
      "text/plain": [
       "    1    2\n",
       "1  12   10\n",
       "2  13  574"
      ]
     },
     "execution_count": 87,
     "metadata": {},
     "output_type": "execute_result"
    }
   ],
   "source": [
    "transmat_visit"
   ]
  },
  {
   "cell_type": "markdown",
   "metadata": {},
   "source": [
    "Normalise each row to obtain transition probabilities."
   ]
  },
  {
   "cell_type": "code",
   "execution_count": 88,
   "metadata": {
    "collapsed": false
   },
   "outputs": [],
   "source": [
    "transmat_visit = normalise_transmat(transmat_visit)"
   ]
  },
  {
   "cell_type": "code",
   "execution_count": 89,
   "metadata": {
    "collapsed": false
   },
   "outputs": [
    {
     "data": {
      "text/html": [
       "<div>\n",
       "<table border=\"1\" class=\"dataframe\">\n",
       "  <thead>\n",
       "    <tr style=\"text-align: right;\">\n",
       "      <th></th>\n",
       "      <th>1</th>\n",
       "      <th>2</th>\n",
       "    </tr>\n",
       "  </thead>\n",
       "  <tbody>\n",
       "    <tr>\n",
       "      <th>1</th>\n",
       "      <td>0.545455</td>\n",
       "      <td>0.454545</td>\n",
       "    </tr>\n",
       "    <tr>\n",
       "      <th>2</th>\n",
       "      <td>0.022147</td>\n",
       "      <td>0.977853</td>\n",
       "    </tr>\n",
       "  </tbody>\n",
       "</table>\n",
       "</div>"
      ],
      "text/plain": [
       "          1         2\n",
       "1  0.545455  0.454545\n",
       "2  0.022147  0.977853"
      ]
     },
     "execution_count": 89,
     "metadata": {},
     "output_type": "execute_result"
    }
   ],
   "source": [
    "transmat_visit"
   ]
  },
  {
   "cell_type": "markdown",
   "metadata": {},
   "source": [
    "Combine the above steps."
   ]
  },
  {
   "cell_type": "code",
   "execution_count": 90,
   "metadata": {
    "collapsed": true
   },
   "outputs": [],
   "source": [
    "def gen_transmat_visit(seqid_set, seq_all, poi_info, nbins=2):\n",
    "    #poi_train = seq_all[seq_all['seqID'].isin(seqid_set)]['poiID'].unique().tolist()\n",
    "    poi_train = poi_info.index.tolist()\n",
    "    #poi_train.sort()\n",
    "    #poi_info = calc_poi_info(seqid_set, seq_all, poi_all)\n",
    "    poi_visits = poi_info.loc[poi_train, 'nVisit'].unique().tolist()\n",
    "    poi_visits.sort()\n",
    "    expo_visit1 = np.log10(min(poi_visits))\n",
    "    expo_visit2 = np.log10(max(poi_visits))\n",
    "    logbins_visit = np.logspace(np.floor(expo_visit1), np.ceil(expo_visit2), nbins+1)\n",
    "    transmat_visit = pd.DataFrame(data=np.zeros((nbins, nbins), dtype=np.float), \\\n",
    "                                  columns=np.arange(1, nbins+1), index=np.arange(1, nbins+1))\n",
    "    for seqid in seqid_set:\n",
    "        seq = extract_seq(seqid, seq_all)\n",
    "        assert(len(seq) > 2)\n",
    "        for pi in range(len(seq)-1):\n",
    "            p1 = seq[pi]\n",
    "            p2 = seq[pi+1]\n",
    "            visit1 = poi_info.loc[p1, 'nVisit']\n",
    "            visit2 = poi_info.loc[p2, 'nVisit']\n",
    "            vc1, vc2 = np.digitize([visit1, visit2], logbins_visit)\n",
    "            transmat_visit.loc[vc1, vc2] += 1\n",
    "    return normalise_transmat(transmat_visit), logbins_visit"
   ]
  },
  {
   "cell_type": "markdown",
   "metadata": {},
   "source": [
    "<a id='sec3.5'></a>"
   ]
  },
  {
   "cell_type": "markdown",
   "metadata": {},
   "source": [
    "## 3.5 Transition Matrix between POI Average Visit Duration Classes"
   ]
  },
  {
   "cell_type": "code",
   "execution_count": 91,
   "metadata": {
    "collapsed": false
   },
   "outputs": [
    {
     "data": {
      "text/plain": [
       "array([  1.00000000e+00,   6.06200000e+02,   7.53710000e+02,\n",
       "         7.54000000e+02,   7.94640000e+02,   8.44970000e+02,\n",
       "         1.21373000e+03,   1.38683000e+03,   1.55406000e+03,\n",
       "         1.60869000e+03,   1.92404000e+03,   1.96020000e+03,\n",
       "         1.97380000e+03,   2.42142000e+03,   2.58986000e+03,\n",
       "         2.66563000e+03,   2.68277000e+03,   2.96524000e+03,\n",
       "         2.97773000e+03,   3.39748000e+03,   3.69035000e+03,\n",
       "         3.99754000e+03,   4.33100000e+03,   4.84060000e+03,\n",
       "         9.37860000e+03])"
      ]
     },
     "execution_count": 91,
     "metadata": {},
     "output_type": "execute_result"
    }
   ],
   "source": [
    "poi_durations = poi_info_t.loc[poi_train, 'avgDuration(sec)'].unique().tolist()\n",
    "poi_durations.sort()\n",
    "np.round(poi_durations, 2)"
   ]
  },
  {
   "cell_type": "markdown",
   "metadata": {},
   "source": [
    "Discretize POI average visit duration with uniform log-scale bins (#bins $\\le 5$)."
   ]
  },
  {
   "cell_type": "code",
   "execution_count": 92,
   "metadata": {
    "collapsed": false
   },
   "outputs": [
    {
     "name": "stdout",
     "output_type": "stream",
     "text": [
      "0.0 3.97213801347\n"
     ]
    }
   ],
   "source": [
    "expo_duration1 = np.log10(min(poi_durations))\n",
    "expo_duration2 = np.log10(max(poi_durations))\n",
    "print(expo_duration1, expo_duration2)"
   ]
  },
  {
   "cell_type": "code",
   "execution_count": 93,
   "metadata": {
    "collapsed": false
   },
   "outputs": [
    {
     "data": {
      "text/plain": [
       "array([  1.00000000e+00,   1.00000000e+02,   1.00000000e+04])"
      ]
     },
     "execution_count": 93,
     "metadata": {},
     "output_type": "execute_result"
    }
   ],
   "source": [
    "nbins_duration = 2\n",
    "logbins_duration = np.logspace(np.floor(expo_duration1), np.ceil(expo_duration2), nbins_duration+1)\n",
    "logbins_duration"
   ]
  },
  {
   "cell_type": "code",
   "execution_count": 94,
   "metadata": {
    "collapsed": false
   },
   "outputs": [
    {
     "data": {
      "image/png": "[encoded data removed]",
      "text/plain": [
       "<matplotlib.figure.Figure at 0x7fb340651e48>"
      ]
     },
     "metadata": {},
     "output_type": "display_data"
    }
   ],
   "source": [
    "ax = pd.Series(poi_durations).hist(figsize=(5, 3), bins=logbins_duration)\n",
    "ax.set_xscale('log')"
   ]
  },
  {
   "cell_type": "code",
   "execution_count": 95,
   "metadata": {
    "collapsed": false
   },
   "outputs": [],
   "source": [
    "transmat_duration = pd.DataFrame(data=np.zeros((nbins_duration, nbins_duration), dtype=np.float), \\\n",
    "                                 columns=np.arange(1, nbins_duration+1), index=np.arange(1, nbins_duration+1))"
   ]
  },
  {
   "cell_type": "markdown",
   "metadata": {},
   "source": [
    "Count the number of transitions between POI average visit duration classes."
   ]
  },
  {
   "cell_type": "code",
   "execution_count": 96,
   "metadata": {
    "collapsed": false
   },
   "outputs": [],
   "source": [
    "for seqid in seqid_set_train0:\n",
    "    seq = extract_seq(seqid, seq_all)\n",
    "    assert(len(seq) > 2)\n",
    "    for pi in range(len(seq)-1):\n",
    "        p1 = seq[pi]\n",
    "        p2 = seq[pi+1]\n",
    "        d1 = poi_info_t.loc[p1, 'avgDuration(sec)']\n",
    "        d2 = poi_info_t.loc[p2, 'avgDuration(sec)']\n",
    "        dc1, dc2 = np.digitize([d1, d2], logbins_duration)\n",
    "        transmat_duration.loc[dc1, dc2] += 1"
   ]
  },
  {
   "cell_type": "code",
   "execution_count": 97,
   "metadata": {
    "collapsed": false
   },
   "outputs": [
    {
     "data": {
      "text/html": [
       "<div>\n",
       "<table border=\"1\" class=\"dataframe\">\n",
       "  <thead>\n",
       "    <tr style=\"text-align: right;\">\n",
       "      <th></th>\n",
       "      <th>1</th>\n",
       "      <th>2</th>\n",
       "    </tr>\n",
       "  </thead>\n",
       "  <tbody>\n",
       "    <tr>\n",
       "      <th>1</th>\n",
       "      <td>0</td>\n",
       "      <td>1</td>\n",
       "    </tr>\n",
       "    <tr>\n",
       "      <th>2</th>\n",
       "      <td>2</td>\n",
       "      <td>606</td>\n",
       "    </tr>\n",
       "  </tbody>\n",
       "</table>\n",
       "</div>"
      ],
      "text/plain": [
       "   1    2\n",
       "1  0    1\n",
       "2  2  606"
      ]
     },
     "execution_count": 97,
     "metadata": {},
     "output_type": "execute_result"
    }
   ],
   "source": [
    "transmat_duration"
   ]
  },
  {
   "cell_type": "markdown",
   "metadata": {},
   "source": [
    "Normalise each row to obtain transition probabilities."
   ]
  },
  {
   "cell_type": "code",
   "execution_count": 98,
   "metadata": {
    "collapsed": true
   },
   "outputs": [],
   "source": [
    "transmat_duration = normalise_transmat(transmat_duration)"
   ]
  },
  {
   "cell_type": "code",
   "execution_count": 99,
   "metadata": {
    "collapsed": false
   },
   "outputs": [
    {
     "data": {
      "text/html": [
       "<div>\n",
       "<table border=\"1\" class=\"dataframe\">\n",
       "  <thead>\n",
       "    <tr style=\"text-align: right;\">\n",
       "      <th></th>\n",
       "      <th>1</th>\n",
       "      <th>2</th>\n",
       "    </tr>\n",
       "  </thead>\n",
       "  <tbody>\n",
       "    <tr>\n",
       "      <th>1</th>\n",
       "      <td>0.142857</td>\n",
       "      <td>0.857143</td>\n",
       "    </tr>\n",
       "    <tr>\n",
       "      <th>2</th>\n",
       "      <td>0.003289</td>\n",
       "      <td>0.996711</td>\n",
       "    </tr>\n",
       "  </tbody>\n",
       "</table>\n",
       "</div>"
      ],
      "text/plain": [
       "          1         2\n",
       "1  0.142857  0.857143\n",
       "2  0.003289  0.996711"
      ]
     },
     "execution_count": 99,
     "metadata": {},
     "output_type": "execute_result"
    }
   ],
   "source": [
    "transmat_duration"
   ]
  },
  {
   "cell_type": "markdown",
   "metadata": {},
   "source": [
    "Combine the above steps."
   ]
  },
  {
   "cell_type": "code",
   "execution_count": 100,
   "metadata": {
    "collapsed": true
   },
   "outputs": [],
   "source": [
    "def gen_transmat_duration(seqid_set, seq_all, poi_info, nbins=2):\n",
    "    #poi_train = seq_all[seq_all['seqID'].isin(seqid_set)]['poiID'].unique().tolist()\n",
    "    poi_train = poi_info.index.tolist()\n",
    "    #poi_train.sort()\n",
    "    #poi_info = calc_poi_info(seqid_set, seq_all, poi_all)\n",
    "    poi_durations = poi_info.loc[poi_train, 'avgDuration(sec)'].unique().tolist()\n",
    "    poi_durations.sort()\n",
    "    expo_duration1 = np.log10(min(poi_durations))\n",
    "    expo_duration2 = np.log10(max(poi_durations))\n",
    "    logbins_duration = np.logspace(np.floor(expo_duration1), np.ceil(expo_duration2), nbins+1)\n",
    "    transmat_duration = pd.DataFrame(data=np.zeros((nbins, nbins), dtype=np.float), \\\n",
    "                                     columns=np.arange(1, nbins+1), index=np.arange(1, nbins+1))\n",
    "    for seqid in seqid_set:\n",
    "        seq = extract_seq(seqid, seq_all)\n",
    "        assert(len(seq) > 2)\n",
    "        for pi in range(len(seq)-1):\n",
    "            p1 = seq[pi]\n",
    "            p2 = seq[pi+1]\n",
    "            d1 = poi_info.loc[p1, 'avgDuration(sec)']\n",
    "            d2 = poi_info.loc[p2, 'avgDuration(sec)']\n",
    "            dc1, dc2 = np.digitize([d1, d2], logbins_duration)\n",
    "            transmat_duration.loc[dc1, dc2] += 1\n",
    "    return normalise_transmat(transmat_duration), logbins_duration"
   ]
  },
  {
   "cell_type": "markdown",
   "metadata": {},
   "source": [
    "<a id='sec3.6'></a>"
   ]
  },
  {
   "cell_type": "markdown",
   "metadata": {},
   "source": [
    "## 3.6 Transition Matrix between POI Neighborhood Classes"
   ]
  },
  {
   "cell_type": "markdown",
   "metadata": {},
   "source": [
    "Compute POI neighborhoods, i.e., clustering POI (lat, lon) in training set using k-means, #clusters $\\le 5$."
   ]
  },
  {
   "cell_type": "markdown",
   "metadata": {},
   "source": [
    "KMeans in scikit-learn seems unable to use custom distance metric and no implementation of [Haversine formula](http://en.wikipedia.org/wiki/Great-circle_distance), use Euclidean distance to approximate."
   ]
  },
  {
   "cell_type": "code",
   "execution_count": 101,
   "metadata": {
    "collapsed": false
   },
   "outputs": [],
   "source": [
    "#from sklearn.cluster import KMeans\n",
    "X = poi_all.loc[poi_train, ['poiLon', 'poiLat']]\n",
    "nclusters = 5"
   ]
  },
  {
   "cell_type": "code",
   "execution_count": 102,
   "metadata": {
    "collapsed": false
   },
   "outputs": [
    {
     "data": {
      "text/plain": [
       "KMeans(copy_x=True, init='k-means++', max_iter=300, n_clusters=5, n_init=10,\n",
       "    n_jobs=1, precompute_distances='auto', random_state=None, tol=0.0001,\n",
       "    verbose=0)"
      ]
     },
     "execution_count": 102,
     "metadata": {},
     "output_type": "execute_result"
    }
   ],
   "source": [
    "kmeans = KMeans(n_clusters=nclusters)\n",
    "kmeans.fit(X)"
   ]
  },
  {
   "cell_type": "code",
   "execution_count": 103,
   "metadata": {
    "collapsed": false
   },
   "outputs": [
    {
     "data": {
      "text/plain": [
       "array([1, 4, 0, 1, 0, 1, 1, 0, 0, 0, 4, 1, 1, 4, 1, 2, 0, 1, 1, 1, 0, 3, 0,\n",
       "       1, 0, 1], dtype=int32)"
      ]
     },
     "execution_count": 103,
     "metadata": {},
     "output_type": "execute_result"
    }
   ],
   "source": [
    "clusters = kmeans.predict(X)\n",
    "clusters"
   ]
  },
  {
   "cell_type": "code",
   "execution_count": 104,
   "metadata": {
    "collapsed": false
   },
   "outputs": [],
   "source": [
    "poi_clusters = pd.DataFrame(data=clusters, index=poi_train)\n",
    "poi_clusters.index.name = 'poiID'\n",
    "poi_clusters.rename(columns={0:'clusterID'}, inplace=True)\n",
    "#poi_clusters"
   ]
  },
  {
   "cell_type": "code",
   "execution_count": 105,
   "metadata": {
    "collapsed": false
   },
   "outputs": [
    {
     "data": {
      "text/plain": [
       "0.95609563622894267"
      ]
     },
     "execution_count": 105,
     "metadata": {},
     "output_type": "execute_result"
    }
   ],
   "source": [
    "diff = poi_all.loc[poi_train, ['poiLon', 'poiLat']].max() - poi_all.loc[poi_train, ['poiLon', 'poiLat']].min()\n",
    "diff['poiLon'] / diff['poiLat']"
   ]
  },
  {
   "cell_type": "markdown",
   "metadata": {},
   "source": [
    "A $3:2$ figure should be fine."
   ]
  },
  {
   "cell_type": "code",
   "execution_count": 106,
   "metadata": {
    "collapsed": false
   },
   "outputs": [
    {
     "data": {
      "text/plain": [
       "<matplotlib.collections.PathCollection at 0x7fb3403447b8>"
      ]
     },
     "execution_count": 106,
     "metadata": {},
     "output_type": "execute_result"
    },
    {
     "data": {
      "image/png": "[encoded data removed]",
      "text/plain": [
       "<matplotlib.figure.Figure at 0x7fb3405e07f0>"
      ]
     },
     "metadata": {},
     "output_type": "display_data"
    }
   ],
   "source": [
    "plt.figure(figsize=[12, 8])\n",
    "plt.scatter(poi_all.loc[poi_train, 'poiLon'], poi_all.loc[poi_train, 'poiLat'], c=clusters, s=50)"
   ]
  },
  {
   "cell_type": "code",
   "execution_count": 107,
   "metadata": {
    "collapsed": false
   },
   "outputs": [],
   "source": [
    "transmat_neighbor = pd.DataFrame(data=np.zeros((nclusters, nclusters), dtype=np.float), \\\n",
    "                                 columns=np.arange(nclusters), index=np.arange(nclusters))"
   ]
  },
  {
   "cell_type": "markdown",
   "metadata": {},
   "source": [
    "Count the number of transitions between POIs in different clusters."
   ]
  },
  {
   "cell_type": "code",
   "execution_count": 108,
   "metadata": {
    "collapsed": false
   },
   "outputs": [],
   "source": [
    "for seqid in seqid_set_train0:\n",
    "    seq = extract_seq(seqid, seq_all)\n",
    "    assert(len(seq) > 2)\n",
    "    for pi in range(len(seq)-1):\n",
    "        p1 = seq[pi]\n",
    "        p2 = seq[pi+1]\n",
    "        c1 = poi_clusters.loc[p1, 'clusterID']\n",
    "        c2 = poi_clusters.loc[p2, 'clusterID']\n",
    "        transmat_neighbor.loc[c1, c2] += 1"
   ]
  },
  {
   "cell_type": "code",
   "execution_count": 109,
   "metadata": {
    "collapsed": false
   },
   "outputs": [
    {
     "data": {
      "text/html": [
       "<div>\n",
       "<table border=\"1\" class=\"dataframe\">\n",
       "  <thead>\n",
       "    <tr style=\"text-align: right;\">\n",
       "      <th></th>\n",
       "      <th>0</th>\n",
       "      <th>1</th>\n",
       "      <th>2</th>\n",
       "      <th>3</th>\n",
       "      <th>4</th>\n",
       "    </tr>\n",
       "  </thead>\n",
       "  <tbody>\n",
       "    <tr>\n",
       "      <th>0</th>\n",
       "      <td>52</td>\n",
       "      <td>95</td>\n",
       "      <td>0</td>\n",
       "      <td>1</td>\n",
       "      <td>0</td>\n",
       "    </tr>\n",
       "    <tr>\n",
       "      <th>1</th>\n",
       "      <td>103</td>\n",
       "      <td>346</td>\n",
       "      <td>0</td>\n",
       "      <td>0</td>\n",
       "      <td>1</td>\n",
       "    </tr>\n",
       "    <tr>\n",
       "      <th>2</th>\n",
       "      <td>1</td>\n",
       "      <td>0</td>\n",
       "      <td>0</td>\n",
       "      <td>0</td>\n",
       "      <td>0</td>\n",
       "    </tr>\n",
       "    <tr>\n",
       "      <th>3</th>\n",
       "      <td>0</td>\n",
       "      <td>0</td>\n",
       "      <td>0</td>\n",
       "      <td>0</td>\n",
       "      <td>0</td>\n",
       "    </tr>\n",
       "    <tr>\n",
       "      <th>4</th>\n",
       "      <td>1</td>\n",
       "      <td>0</td>\n",
       "      <td>0</td>\n",
       "      <td>0</td>\n",
       "      <td>9</td>\n",
       "    </tr>\n",
       "  </tbody>\n",
       "</table>\n",
       "</div>"
      ],
      "text/plain": [
       "     0    1  2  3  4\n",
       "0   52   95  0  1  0\n",
       "1  103  346  0  0  1\n",
       "2    1    0  0  0  0\n",
       "3    0    0  0  0  0\n",
       "4    1    0  0  0  9"
      ]
     },
     "execution_count": 109,
     "metadata": {},
     "output_type": "execute_result"
    }
   ],
   "source": [
    "transmat_neighbor"
   ]
  },
  {
   "cell_type": "markdown",
   "metadata": {},
   "source": [
    "Normalise each row to obtain transition probabilities."
   ]
  },
  {
   "cell_type": "code",
   "execution_count": 110,
   "metadata": {
    "collapsed": true
   },
   "outputs": [],
   "source": [
    "transmat_neighbor = normalise_transmat(transmat_neighbor)"
   ]
  },
  {
   "cell_type": "code",
   "execution_count": 111,
   "metadata": {
    "collapsed": false
   },
   "outputs": [
    {
     "data": {
      "text/html": [
       "<div>\n",
       "<table border=\"1\" class=\"dataframe\">\n",
       "  <thead>\n",
       "    <tr style=\"text-align: right;\">\n",
       "      <th></th>\n",
       "      <th>0</th>\n",
       "      <th>1</th>\n",
       "      <th>2</th>\n",
       "      <th>3</th>\n",
       "      <th>4</th>\n",
       "    </tr>\n",
       "  </thead>\n",
       "  <tbody>\n",
       "    <tr>\n",
       "      <th>0</th>\n",
       "      <td>0.350336</td>\n",
       "      <td>0.638926</td>\n",
       "      <td>0.001342</td>\n",
       "      <td>0.008054</td>\n",
       "      <td>0.001342</td>\n",
       "    </tr>\n",
       "    <tr>\n",
       "      <th>1</th>\n",
       "      <td>0.228825</td>\n",
       "      <td>0.767627</td>\n",
       "      <td>0.000443</td>\n",
       "      <td>0.000443</td>\n",
       "      <td>0.002661</td>\n",
       "    </tr>\n",
       "    <tr>\n",
       "      <th>2</th>\n",
       "      <td>0.600000</td>\n",
       "      <td>0.100000</td>\n",
       "      <td>0.100000</td>\n",
       "      <td>0.100000</td>\n",
       "      <td>0.100000</td>\n",
       "    </tr>\n",
       "    <tr>\n",
       "      <th>3</th>\n",
       "      <td>0.200000</td>\n",
       "      <td>0.200000</td>\n",
       "      <td>0.200000</td>\n",
       "      <td>0.200000</td>\n",
       "      <td>0.200000</td>\n",
       "    </tr>\n",
       "    <tr>\n",
       "      <th>4</th>\n",
       "      <td>0.109091</td>\n",
       "      <td>0.018182</td>\n",
       "      <td>0.018182</td>\n",
       "      <td>0.018182</td>\n",
       "      <td>0.836364</td>\n",
       "    </tr>\n",
       "  </tbody>\n",
       "</table>\n",
       "</div>"
      ],
      "text/plain": [
       "          0         1         2         3         4\n",
       "0  0.350336  0.638926  0.001342  0.008054  0.001342\n",
       "1  0.228825  0.767627  0.000443  0.000443  0.002661\n",
       "2  0.600000  0.100000  0.100000  0.100000  0.100000\n",
       "3  0.200000  0.200000  0.200000  0.200000  0.200000\n",
       "4  0.109091  0.018182  0.018182  0.018182  0.836364"
      ]
     },
     "execution_count": 111,
     "metadata": {},
     "output_type": "execute_result"
    }
   ],
   "source": [
    "transmat_neighbor"
   ]
  },
  {
   "cell_type": "markdown",
   "metadata": {},
   "source": [
    "Combine the above steps."
   ]
  },
  {
   "cell_type": "code",
   "execution_count": 112,
   "metadata": {
    "collapsed": true
   },
   "outputs": [],
   "source": [
    "def gen_transmat_neighbor(seqid_set, seq_all, poi_info, nclusters=5):\n",
    "    #poi_train = seq_all[seq_all['seqID'].isin(seqid_set)]['poiID'].unique().tolist()\n",
    "    poi_train = poi_info.index.tolist()\n",
    "    #poi_train.sort()\n",
    "    X = poi_info.loc[poi_train, ['poiLon', 'poiLat']]\n",
    "    kmeans = KMeans(n_clusters=nclusters)\n",
    "    kmeans.fit(X)\n",
    "    clusters = kmeans.predict(X)\n",
    "    poi_clusters = pd.DataFrame(data=clusters, index=poi_train)\n",
    "    poi_clusters.index.name = 'poiID'\n",
    "    poi_clusters.rename(columns={0:'clusterID'}, inplace=True)\n",
    "    transmat_neighbor = pd.DataFrame(data=np.zeros((nclusters, nclusters), dtype=np.float), \\\n",
    "                                     columns=np.arange(nclusters), index=np.arange(nclusters))\n",
    "    for seqid in seqid_set:\n",
    "        seq = extract_seq(seqid, seq_all)\n",
    "        assert(len(seq) > 2)\n",
    "        for pi in range(len(seq)-1):\n",
    "            p1 = seq[pi]\n",
    "            p2 = seq[pi+1]\n",
    "            c1 = poi_clusters.loc[p1, 'clusterID']\n",
    "            c2 = poi_clusters.loc[p2, 'clusterID']\n",
    "            transmat_neighbor.loc[c1, c2] += 1\n",
    "    return normalise_transmat(transmat_neighbor), poi_clusters"
   ]
  },
  {
   "cell_type": "markdown",
   "metadata": {},
   "source": [
    "<a id='sec3.7'></a>"
   ]
  },
  {
   "cell_type": "markdown",
   "metadata": {},
   "source": [
    "## 3.7 Transition Matrix between POIs"
   ]
  },
  {
   "cell_type": "markdown",
   "metadata": {},
   "source": [
    "Approximate transition probabilities (matrix) between different POI features (vector) using the [Kronecker product](https://en.wikipedia.org/wiki/Kronecker_product) of individual transition matrix corresponding to each feature, i.e., POI category, POI popularity (discritized), POI average visit duration (discritized) and POI neighborhoods (clusters)."
   ]
  },
  {
   "cell_type": "code",
   "execution_count": 113,
   "metadata": {
    "collapsed": false
   },
   "outputs": [],
   "source": [
    "#from scipy.linalg import kron\n",
    "transmat_value = transmat_cat.values\n",
    "for transmat in [transmat_pop, transmat_visit, transmat_duration, transmat_neighbor]:\n",
    "    transmat_value = kron(transmat_value, transmat.values)"
   ]
  },
  {
   "cell_type": "markdown",
   "metadata": {},
   "source": [
    "Index of Kronecker product."
   ]
  },
  {
   "cell_type": "code",
   "execution_count": 114,
   "metadata": {
    "collapsed": true
   },
   "outputs": [],
   "source": [
    "transmat_ix = list(itertools.product(transmat_cat.index, transmat_pop.index, transmat_visit.index, \\\n",
    "                                     transmat_duration.index, transmat_neighbor.index))"
   ]
  },
  {
   "cell_type": "code",
   "execution_count": 115,
   "metadata": {
    "collapsed": false
   },
   "outputs": [],
   "source": [
    "transmat_feature = pd.DataFrame(data=transmat_value, index=transmat_ix, columns=transmat_ix)\n",
    "transmat_feature.index.name = '(poiTheme, popularity, avgDuration, clusterID)'\n",
    "#transmat_feature.head()"
   ]
  },
  {
   "cell_type": "code",
   "execution_count": 116,
   "metadata": {
    "collapsed": false
   },
   "outputs": [
    {
     "name": "stdout",
     "output_type": "stream",
     "text": [
      "(6, 6)\n",
      "(2, 2)\n",
      "(2, 2)\n",
      "(2, 2)\n",
      "(5, 5)\n",
      "(240, 240)\n"
     ]
    }
   ],
   "source": [
    "print(transmat_cat.shape)\n",
    "print(transmat_pop.shape)\n",
    "print(transmat_visit.shape)\n",
    "print(transmat_duration.shape)\n",
    "print(transmat_neighbor.shape)\n",
    "print(transmat_feature.shape)"
   ]
  },
  {
   "cell_type": "code",
   "execution_count": 117,
   "metadata": {
    "collapsed": false
   },
   "outputs": [
    {
     "data": {
      "text/html": [
       "<div>\n",
       "<table border=\"1\" class=\"dataframe\">\n",
       "  <thead>\n",
       "    <tr style=\"text-align: right;\">\n",
       "      <th></th>\n",
       "      <th>(Amusement, 1, 1, 1, 0)</th>\n",
       "      <th>(Amusement, 1, 1, 1, 1)</th>\n",
       "      <th>(Amusement, 1, 1, 1, 2)</th>\n",
       "      <th>(Amusement, 1, 1, 1, 3)</th>\n",
       "      <th>(Amusement, 1, 1, 1, 4)</th>\n",
       "      <th>(Amusement, 1, 1, 2, 0)</th>\n",
       "      <th>(Amusement, 1, 1, 2, 1)</th>\n",
       "      <th>(Amusement, 1, 1, 2, 2)</th>\n",
       "      <th>(Amusement, 1, 1, 2, 3)</th>\n",
       "      <th>(Amusement, 1, 1, 2, 4)</th>\n",
       "      <th>...</th>\n",
       "      <th>(Structure, 2, 2, 1, 0)</th>\n",
       "      <th>(Structure, 2, 2, 1, 1)</th>\n",
       "      <th>(Structure, 2, 2, 1, 2)</th>\n",
       "      <th>(Structure, 2, 2, 1, 3)</th>\n",
       "      <th>(Structure, 2, 2, 1, 4)</th>\n",
       "      <th>(Structure, 2, 2, 2, 0)</th>\n",
       "      <th>(Structure, 2, 2, 2, 1)</th>\n",
       "      <th>(Structure, 2, 2, 2, 2)</th>\n",
       "      <th>(Structure, 2, 2, 2, 3)</th>\n",
       "      <th>(Structure, 2, 2, 2, 4)</th>\n",
       "    </tr>\n",
       "    <tr>\n",
       "      <th>(poiTheme, popularity, avgDuration, clusterID)</th>\n",
       "      <th></th>\n",
       "      <th></th>\n",
       "      <th></th>\n",
       "      <th></th>\n",
       "      <th></th>\n",
       "      <th></th>\n",
       "      <th></th>\n",
       "      <th></th>\n",
       "      <th></th>\n",
       "      <th></th>\n",
       "      <th></th>\n",
       "      <th></th>\n",
       "      <th></th>\n",
       "      <th></th>\n",
       "      <th></th>\n",
       "      <th></th>\n",
       "      <th></th>\n",
       "      <th></th>\n",
       "      <th></th>\n",
       "      <th></th>\n",
       "      <th></th>\n",
       "    </tr>\n",
       "  </thead>\n",
       "  <tbody>\n",
       "    <tr>\n",
       "      <th>(Amusement, 1, 1, 1, 0)</th>\n",
       "      <td>0.000876</td>\n",
       "      <td>0.001597</td>\n",
       "      <td>0.000003</td>\n",
       "      <td>0.000020</td>\n",
       "      <td>0.000003</td>\n",
       "      <td>0.005255</td>\n",
       "      <td>0.009585</td>\n",
       "      <td>0.000020</td>\n",
       "      <td>0.000121</td>\n",
       "      <td>0.000020</td>\n",
       "      <td>...</td>\n",
       "      <td>0.000811</td>\n",
       "      <td>0.001479</td>\n",
       "      <td>0.000003</td>\n",
       "      <td>0.000019</td>\n",
       "      <td>0.000003</td>\n",
       "      <td>0.004866</td>\n",
       "      <td>0.008875</td>\n",
       "      <td>0.000019</td>\n",
       "      <td>0.000112</td>\n",
       "      <td>0.000019</td>\n",
       "    </tr>\n",
       "    <tr>\n",
       "      <th>(Amusement, 1, 1, 1, 1)</th>\n",
       "      <td>0.000572</td>\n",
       "      <td>0.001919</td>\n",
       "      <td>0.000001</td>\n",
       "      <td>0.000001</td>\n",
       "      <td>0.000007</td>\n",
       "      <td>0.003433</td>\n",
       "      <td>0.011515</td>\n",
       "      <td>0.000007</td>\n",
       "      <td>0.000007</td>\n",
       "      <td>0.000040</td>\n",
       "      <td>...</td>\n",
       "      <td>0.000530</td>\n",
       "      <td>0.001777</td>\n",
       "      <td>0.000001</td>\n",
       "      <td>0.000001</td>\n",
       "      <td>0.000006</td>\n",
       "      <td>0.003178</td>\n",
       "      <td>0.010662</td>\n",
       "      <td>0.000006</td>\n",
       "      <td>0.000006</td>\n",
       "      <td>0.000037</td>\n",
       "    </tr>\n",
       "    <tr>\n",
       "      <th>(Amusement, 1, 1, 1, 2)</th>\n",
       "      <td>0.001500</td>\n",
       "      <td>0.000250</td>\n",
       "      <td>0.000250</td>\n",
       "      <td>0.000250</td>\n",
       "      <td>0.000250</td>\n",
       "      <td>0.009001</td>\n",
       "      <td>0.001500</td>\n",
       "      <td>0.001500</td>\n",
       "      <td>0.001500</td>\n",
       "      <td>0.001500</td>\n",
       "      <td>...</td>\n",
       "      <td>0.001389</td>\n",
       "      <td>0.000231</td>\n",
       "      <td>0.000231</td>\n",
       "      <td>0.000231</td>\n",
       "      <td>0.000231</td>\n",
       "      <td>0.008334</td>\n",
       "      <td>0.001389</td>\n",
       "      <td>0.001389</td>\n",
       "      <td>0.001389</td>\n",
       "      <td>0.001389</td>\n",
       "    </tr>\n",
       "    <tr>\n",
       "      <th>(Amusement, 1, 1, 1, 3)</th>\n",
       "      <td>0.000500</td>\n",
       "      <td>0.000500</td>\n",
       "      <td>0.000500</td>\n",
       "      <td>0.000500</td>\n",
       "      <td>0.000500</td>\n",
       "      <td>0.003000</td>\n",
       "      <td>0.003000</td>\n",
       "      <td>0.003000</td>\n",
       "      <td>0.003000</td>\n",
       "      <td>0.003000</td>\n",
       "      <td>...</td>\n",
       "      <td>0.000463</td>\n",
       "      <td>0.000463</td>\n",
       "      <td>0.000463</td>\n",
       "      <td>0.000463</td>\n",
       "      <td>0.000463</td>\n",
       "      <td>0.002778</td>\n",
       "      <td>0.002778</td>\n",
       "      <td>0.002778</td>\n",
       "      <td>0.002778</td>\n",
       "      <td>0.002778</td>\n",
       "    </tr>\n",
       "    <tr>\n",
       "      <th>(Amusement, 1, 1, 1, 4)</th>\n",
       "      <td>0.000273</td>\n",
       "      <td>0.000045</td>\n",
       "      <td>0.000045</td>\n",
       "      <td>0.000045</td>\n",
       "      <td>0.002091</td>\n",
       "      <td>0.001636</td>\n",
       "      <td>0.000273</td>\n",
       "      <td>0.000273</td>\n",
       "      <td>0.000273</td>\n",
       "      <td>0.012546</td>\n",
       "      <td>...</td>\n",
       "      <td>0.000253</td>\n",
       "      <td>0.000042</td>\n",
       "      <td>0.000042</td>\n",
       "      <td>0.000042</td>\n",
       "      <td>0.001936</td>\n",
       "      <td>0.001515</td>\n",
       "      <td>0.000253</td>\n",
       "      <td>0.000253</td>\n",
       "      <td>0.000253</td>\n",
       "      <td>0.011617</td>\n",
       "    </tr>\n",
       "  </tbody>\n",
       "</table>\n",
       "<p>5 rows × 240 columns</p>\n",
       "</div>"
      ],
      "text/plain": [
       "                                                (Amusement, 1, 1, 1, 0)  \\\n",
       "(poiTheme, popularity, avgDuration, clusterID)                            \n",
       "(Amusement, 1, 1, 1, 0)                                        0.000876   \n",
       "(Amusement, 1, 1, 1, 1)                                        0.000572   \n",
       "(Amusement, 1, 1, 1, 2)                                        0.001500   \n",
       "(Amusement, 1, 1, 1, 3)                                        0.000500   \n",
       "(Amusement, 1, 1, 1, 4)                                        0.000273   \n",
       "\n",
       "                                                (Amusement, 1, 1, 1, 1)  \\\n",
       "(poiTheme, popularity, avgDuration, clusterID)                            \n",
       "(Amusement, 1, 1, 1, 0)                                        0.001597   \n",
       "(Amusement, 1, 1, 1, 1)                                        0.001919   \n",
       "(Amusement, 1, 1, 1, 2)                                        0.000250   \n",
       "(Amusement, 1, 1, 1, 3)                                        0.000500   \n",
       "(Amusement, 1, 1, 1, 4)                                        0.000045   \n",
       "\n",
       "                                                (Amusement, 1, 1, 1, 2)  \\\n",
       "(poiTheme, popularity, avgDuration, clusterID)                            \n",
       "(Amusement, 1, 1, 1, 0)                                        0.000003   \n",
       "(Amusement, 1, 1, 1, 1)                                        0.000001   \n",
       "(Amusement, 1, 1, 1, 2)                                        0.000250   \n",
       "(Amusement, 1, 1, 1, 3)                                        0.000500   \n",
       "(Amusement, 1, 1, 1, 4)                                        0.000045   \n",
       "\n",
       "                                                (Amusement, 1, 1, 1, 3)  \\\n",
       "(poiTheme, popularity, avgDuration, clusterID)                            \n",
       "(Amusement, 1, 1, 1, 0)                                        0.000020   \n",
       "(Amusement, 1, 1, 1, 1)                                        0.000001   \n",
       "(Amusement, 1, 1, 1, 2)                                        0.000250   \n",
       "(Amusement, 1, 1, 1, 3)                                        0.000500   \n",
       "(Amusement, 1, 1, 1, 4)                                        0.000045   \n",
       "\n",
       "                                                (Amusement, 1, 1, 1, 4)  \\\n",
       "(poiTheme, popularity, avgDuration, clusterID)                            \n",
       "(Amusement, 1, 1, 1, 0)                                        0.000003   \n",
       "(Amusement, 1, 1, 1, 1)                                        0.000007   \n",
       "(Amusement, 1, 1, 1, 2)                                        0.000250   \n",
       "(Amusement, 1, 1, 1, 3)                                        0.000500   \n",
       "(Amusement, 1, 1, 1, 4)                                        0.002091   \n",
       "\n",
       "                                                (Amusement, 1, 1, 2, 0)  \\\n",
       "(poiTheme, popularity, avgDuration, clusterID)                            \n",
       "(Amusement, 1, 1, 1, 0)                                        0.005255   \n",
       "(Amusement, 1, 1, 1, 1)                                        0.003433   \n",
       "(Amusement, 1, 1, 1, 2)                                        0.009001   \n",
       "(Amusement, 1, 1, 1, 3)                                        0.003000   \n",
       "(Amusement, 1, 1, 1, 4)                                        0.001636   \n",
       "\n",
       "                                                (Amusement, 1, 1, 2, 1)  \\\n",
       "(poiTheme, popularity, avgDuration, clusterID)                            \n",
       "(Amusement, 1, 1, 1, 0)                                        0.009585   \n",
       "(Amusement, 1, 1, 1, 1)                                        0.011515   \n",
       "(Amusement, 1, 1, 1, 2)                                        0.001500   \n",
       "(Amusement, 1, 1, 1, 3)                                        0.003000   \n",
       "(Amusement, 1, 1, 1, 4)                                        0.000273   \n",
       "\n",
       "                                                (Amusement, 1, 1, 2, 2)  \\\n",
       "(poiTheme, popularity, avgDuration, clusterID)                            \n",
       "(Amusement, 1, 1, 1, 0)                                        0.000020   \n",
       "(Amusement, 1, 1, 1, 1)                                        0.000007   \n",
       "(Amusement, 1, 1, 1, 2)                                        0.001500   \n",
       "(Amusement, 1, 1, 1, 3)                                        0.003000   \n",
       "(Amusement, 1, 1, 1, 4)                                        0.000273   \n",
       "\n",
       "                                                (Amusement, 1, 1, 2, 3)  \\\n",
       "(poiTheme, popularity, avgDuration, clusterID)                            \n",
       "(Amusement, 1, 1, 1, 0)                                        0.000121   \n",
       "(Amusement, 1, 1, 1, 1)                                        0.000007   \n",
       "(Amusement, 1, 1, 1, 2)                                        0.001500   \n",
       "(Amusement, 1, 1, 1, 3)                                        0.003000   \n",
       "(Amusement, 1, 1, 1, 4)                                        0.000273   \n",
       "\n",
       "                                                (Amusement, 1, 1, 2, 4)  \\\n",
       "(poiTheme, popularity, avgDuration, clusterID)                            \n",
       "(Amusement, 1, 1, 1, 0)                                        0.000020   \n",
       "(Amusement, 1, 1, 1, 1)                                        0.000040   \n",
       "(Amusement, 1, 1, 1, 2)                                        0.001500   \n",
       "(Amusement, 1, 1, 1, 3)                                        0.003000   \n",
       "(Amusement, 1, 1, 1, 4)                                        0.012546   \n",
       "\n",
       "                                                         ...             \\\n",
       "(poiTheme, popularity, avgDuration, clusterID)           ...              \n",
       "(Amusement, 1, 1, 1, 0)                                  ...              \n",
       "(Amusement, 1, 1, 1, 1)                                  ...              \n",
       "(Amusement, 1, 1, 1, 2)                                  ...              \n",
       "(Amusement, 1, 1, 1, 3)                                  ...              \n",
       "(Amusement, 1, 1, 1, 4)                                  ...              \n",
       "\n",
       "                                                (Structure, 2, 2, 1, 0)  \\\n",
       "(poiTheme, popularity, avgDuration, clusterID)                            \n",
       "(Amusement, 1, 1, 1, 0)                                        0.000811   \n",
       "(Amusement, 1, 1, 1, 1)                                        0.000530   \n",
       "(Amusement, 1, 1, 1, 2)                                        0.001389   \n",
       "(Amusement, 1, 1, 1, 3)                                        0.000463   \n",
       "(Amusement, 1, 1, 1, 4)                                        0.000253   \n",
       "\n",
       "                                                (Structure, 2, 2, 1, 1)  \\\n",
       "(poiTheme, popularity, avgDuration, clusterID)                            \n",
       "(Amusement, 1, 1, 1, 0)                                        0.001479   \n",
       "(Amusement, 1, 1, 1, 1)                                        0.001777   \n",
       "(Amusement, 1, 1, 1, 2)                                        0.000231   \n",
       "(Amusement, 1, 1, 1, 3)                                        0.000463   \n",
       "(Amusement, 1, 1, 1, 4)                                        0.000042   \n",
       "\n",
       "                                                (Structure, 2, 2, 1, 2)  \\\n",
       "(poiTheme, popularity, avgDuration, clusterID)                            \n",
       "(Amusement, 1, 1, 1, 0)                                        0.000003   \n",
       "(Amusement, 1, 1, 1, 1)                                        0.000001   \n",
       "(Amusement, 1, 1, 1, 2)                                        0.000231   \n",
       "(Amusement, 1, 1, 1, 3)                                        0.000463   \n",
       "(Amusement, 1, 1, 1, 4)                                        0.000042   \n",
       "\n",
       "                                                (Structure, 2, 2, 1, 3)  \\\n",
       "(poiTheme, popularity, avgDuration, clusterID)                            \n",
       "(Amusement, 1, 1, 1, 0)                                        0.000019   \n",
       "(Amusement, 1, 1, 1, 1)                                        0.000001   \n",
       "(Amusement, 1, 1, 1, 2)                                        0.000231   \n",
       "(Amusement, 1, 1, 1, 3)                                        0.000463   \n",
       "(Amusement, 1, 1, 1, 4)                                        0.000042   \n",
       "\n",
       "                                                (Structure, 2, 2, 1, 4)  \\\n",
       "(poiTheme, popularity, avgDuration, clusterID)                            \n",
       "(Amusement, 1, 1, 1, 0)                                        0.000003   \n",
       "(Amusement, 1, 1, 1, 1)                                        0.000006   \n",
       "(Amusement, 1, 1, 1, 2)                                        0.000231   \n",
       "(Amusement, 1, 1, 1, 3)                                        0.000463   \n",
       "(Amusement, 1, 1, 1, 4)                                        0.001936   \n",
       "\n",
       "                                                (Structure, 2, 2, 2, 0)  \\\n",
       "(poiTheme, popularity, avgDuration, clusterID)                            \n",
       "(Amusement, 1, 1, 1, 0)                                        0.004866   \n",
       "(Amusement, 1, 1, 1, 1)                                        0.003178   \n",
       "(Amusement, 1, 1, 1, 2)                                        0.008334   \n",
       "(Amusement, 1, 1, 1, 3)                                        0.002778   \n",
       "(Amusement, 1, 1, 1, 4)                                        0.001515   \n",
       "\n",
       "                                                (Structure, 2, 2, 2, 1)  \\\n",
       "(poiTheme, popularity, avgDuration, clusterID)                            \n",
       "(Amusement, 1, 1, 1, 0)                                        0.008875   \n",
       "(Amusement, 1, 1, 1, 1)                                        0.010662   \n",
       "(Amusement, 1, 1, 1, 2)                                        0.001389   \n",
       "(Amusement, 1, 1, 1, 3)                                        0.002778   \n",
       "(Amusement, 1, 1, 1, 4)                                        0.000253   \n",
       "\n",
       "                                                (Structure, 2, 2, 2, 2)  \\\n",
       "(poiTheme, popularity, avgDuration, clusterID)                            \n",
       "(Amusement, 1, 1, 1, 0)                                        0.000019   \n",
       "(Amusement, 1, 1, 1, 1)                                        0.000006   \n",
       "(Amusement, 1, 1, 1, 2)                                        0.001389   \n",
       "(Amusement, 1, 1, 1, 3)                                        0.002778   \n",
       "(Amusement, 1, 1, 1, 4)                                        0.000253   \n",
       "\n",
       "                                                (Structure, 2, 2, 2, 3)  \\\n",
       "(poiTheme, popularity, avgDuration, clusterID)                            \n",
       "(Amusement, 1, 1, 1, 0)                                        0.000112   \n",
       "(Amusement, 1, 1, 1, 1)                                        0.000006   \n",
       "(Amusement, 1, 1, 1, 2)                                        0.001389   \n",
       "(Amusement, 1, 1, 1, 3)                                        0.002778   \n",
       "(Amusement, 1, 1, 1, 4)                                        0.000253   \n",
       "\n",
       "                                                (Structure, 2, 2, 2, 4)  \n",
       "(poiTheme, popularity, avgDuration, clusterID)                           \n",
       "(Amusement, 1, 1, 1, 0)                                        0.000019  \n",
       "(Amusement, 1, 1, 1, 1)                                        0.000037  \n",
       "(Amusement, 1, 1, 1, 2)                                        0.001389  \n",
       "(Amusement, 1, 1, 1, 3)                                        0.002778  \n",
       "(Amusement, 1, 1, 1, 4)                                        0.011617  \n",
       "\n",
       "[5 rows x 240 columns]"
      ]
     },
     "execution_count": 117,
     "metadata": {},
     "output_type": "execute_result"
    }
   ],
   "source": [
    "transmat_feature.head()"
   ]
  },
  {
   "cell_type": "markdown",
   "metadata": {},
   "source": [
    "The result of [Kronecker product](https://en.wikipedia.org/wiki/Kronecker_product) should be normalised to obtain transition probabilities."
   ]
  },
  {
   "cell_type": "code",
   "execution_count": 118,
   "metadata": {
    "collapsed": false
   },
   "outputs": [
    {
     "data": {
      "text/html": [
       "<div>\n",
       "<table border=\"1\" class=\"dataframe\">\n",
       "  <thead>\n",
       "    <tr style=\"text-align: right;\">\n",
       "      <th></th>\n",
       "      <th>(Amusement, 1, 1, 1, 0)</th>\n",
       "      <th>(Amusement, 1, 1, 1, 1)</th>\n",
       "      <th>(Amusement, 1, 1, 1, 2)</th>\n",
       "      <th>(Amusement, 1, 1, 1, 3)</th>\n",
       "      <th>(Amusement, 1, 1, 1, 4)</th>\n",
       "      <th>(Amusement, 1, 1, 2, 0)</th>\n",
       "      <th>(Amusement, 1, 1, 2, 1)</th>\n",
       "      <th>(Amusement, 1, 1, 2, 2)</th>\n",
       "      <th>(Amusement, 1, 1, 2, 3)</th>\n",
       "      <th>(Amusement, 1, 1, 2, 4)</th>\n",
       "      <th>...</th>\n",
       "      <th>(Structure, 2, 2, 1, 0)</th>\n",
       "      <th>(Structure, 2, 2, 1, 1)</th>\n",
       "      <th>(Structure, 2, 2, 1, 2)</th>\n",
       "      <th>(Structure, 2, 2, 1, 3)</th>\n",
       "      <th>(Structure, 2, 2, 1, 4)</th>\n",
       "      <th>(Structure, 2, 2, 2, 0)</th>\n",
       "      <th>(Structure, 2, 2, 2, 1)</th>\n",
       "      <th>(Structure, 2, 2, 2, 2)</th>\n",
       "      <th>(Structure, 2, 2, 2, 3)</th>\n",
       "      <th>(Structure, 2, 2, 2, 4)</th>\n",
       "    </tr>\n",
       "    <tr>\n",
       "      <th>(poiTheme, popularity, avgDuration, clusterID)</th>\n",
       "      <th></th>\n",
       "      <th></th>\n",
       "      <th></th>\n",
       "      <th></th>\n",
       "      <th></th>\n",
       "      <th></th>\n",
       "      <th></th>\n",
       "      <th></th>\n",
       "      <th></th>\n",
       "      <th></th>\n",
       "      <th></th>\n",
       "      <th></th>\n",
       "      <th></th>\n",
       "      <th></th>\n",
       "      <th></th>\n",
       "      <th></th>\n",
       "      <th></th>\n",
       "      <th></th>\n",
       "      <th></th>\n",
       "      <th></th>\n",
       "      <th></th>\n",
       "    </tr>\n",
       "  </thead>\n",
       "  <tbody>\n",
       "    <tr>\n",
       "      <th>(Amusement, 1, 1, 1, 0)</th>\n",
       "      <td>-7.040259</td>\n",
       "      <td>-6.439361</td>\n",
       "      <td>-12.604779</td>\n",
       "      <td>-10.813020</td>\n",
       "      <td>-12.604779</td>\n",
       "      <td>-5.248499</td>\n",
       "      <td>-4.647602</td>\n",
       "      <td>-10.813020</td>\n",
       "      <td>-9.021260</td>\n",
       "      <td>-10.813020</td>\n",
       "      <td>...</td>\n",
       "      <td>-7.117220</td>\n",
       "      <td>-6.516323</td>\n",
       "      <td>-12.681740</td>\n",
       "      <td>-10.889981</td>\n",
       "      <td>-12.681740</td>\n",
       "      <td>-5.325460</td>\n",
       "      <td>-4.724563</td>\n",
       "      <td>-10.889981</td>\n",
       "      <td>-9.098221</td>\n",
       "      <td>-10.889981</td>\n",
       "    </tr>\n",
       "    <tr>\n",
       "      <th>(Amusement, 1, 1, 1, 1)</th>\n",
       "      <td>-7.466194</td>\n",
       "      <td>-6.255846</td>\n",
       "      <td>-13.712300</td>\n",
       "      <td>-13.712300</td>\n",
       "      <td>-11.920541</td>\n",
       "      <td>-5.674434</td>\n",
       "      <td>-4.464086</td>\n",
       "      <td>-11.920541</td>\n",
       "      <td>-11.920541</td>\n",
       "      <td>-10.128781</td>\n",
       "      <td>...</td>\n",
       "      <td>-7.543155</td>\n",
       "      <td>-6.332807</td>\n",
       "      <td>-13.789261</td>\n",
       "      <td>-13.789261</td>\n",
       "      <td>-11.997502</td>\n",
       "      <td>-5.751395</td>\n",
       "      <td>-4.541047</td>\n",
       "      <td>-11.997502</td>\n",
       "      <td>-11.997502</td>\n",
       "      <td>-10.205742</td>\n",
       "    </tr>\n",
       "    <tr>\n",
       "      <th>(Amusement, 1, 1, 1, 2)</th>\n",
       "      <td>-6.502221</td>\n",
       "      <td>-8.293980</td>\n",
       "      <td>-8.293980</td>\n",
       "      <td>-8.293980</td>\n",
       "      <td>-8.293980</td>\n",
       "      <td>-4.710461</td>\n",
       "      <td>-6.502221</td>\n",
       "      <td>-6.502221</td>\n",
       "      <td>-6.502221</td>\n",
       "      <td>-6.502221</td>\n",
       "      <td>...</td>\n",
       "      <td>-6.579182</td>\n",
       "      <td>-8.370941</td>\n",
       "      <td>-8.370941</td>\n",
       "      <td>-8.370941</td>\n",
       "      <td>-8.370941</td>\n",
       "      <td>-4.787422</td>\n",
       "      <td>-6.579182</td>\n",
       "      <td>-6.579182</td>\n",
       "      <td>-6.579182</td>\n",
       "      <td>-6.579182</td>\n",
       "    </tr>\n",
       "    <tr>\n",
       "      <th>(Amusement, 1, 1, 1, 3)</th>\n",
       "      <td>-7.600833</td>\n",
       "      <td>-7.600833</td>\n",
       "      <td>-7.600833</td>\n",
       "      <td>-7.600833</td>\n",
       "      <td>-7.600833</td>\n",
       "      <td>-5.809074</td>\n",
       "      <td>-5.809074</td>\n",
       "      <td>-5.809074</td>\n",
       "      <td>-5.809074</td>\n",
       "      <td>-5.809074</td>\n",
       "      <td>...</td>\n",
       "      <td>-7.677794</td>\n",
       "      <td>-7.677794</td>\n",
       "      <td>-7.677794</td>\n",
       "      <td>-7.677794</td>\n",
       "      <td>-7.677794</td>\n",
       "      <td>-5.886035</td>\n",
       "      <td>-5.886035</td>\n",
       "      <td>-5.886035</td>\n",
       "      <td>-5.886035</td>\n",
       "      <td>-5.886035</td>\n",
       "    </tr>\n",
       "    <tr>\n",
       "      <th>(Amusement, 1, 1, 1, 4)</th>\n",
       "      <td>-8.206969</td>\n",
       "      <td>-9.998728</td>\n",
       "      <td>-9.998728</td>\n",
       "      <td>-9.998728</td>\n",
       "      <td>-6.170087</td>\n",
       "      <td>-6.415209</td>\n",
       "      <td>-8.206969</td>\n",
       "      <td>-8.206969</td>\n",
       "      <td>-8.206969</td>\n",
       "      <td>-4.378327</td>\n",
       "      <td>...</td>\n",
       "      <td>-8.283930</td>\n",
       "      <td>-10.075689</td>\n",
       "      <td>-10.075689</td>\n",
       "      <td>-10.075689</td>\n",
       "      <td>-6.247048</td>\n",
       "      <td>-6.492170</td>\n",
       "      <td>-8.283930</td>\n",
       "      <td>-8.283930</td>\n",
       "      <td>-8.283930</td>\n",
       "      <td>-4.455288</td>\n",
       "    </tr>\n",
       "  </tbody>\n",
       "</table>\n",
       "<p>5 rows × 240 columns</p>\n",
       "</div>"
      ],
      "text/plain": [
       "                                                (Amusement, 1, 1, 1, 0)  \\\n",
       "(poiTheme, popularity, avgDuration, clusterID)                            \n",
       "(Amusement, 1, 1, 1, 0)                                       -7.040259   \n",
       "(Amusement, 1, 1, 1, 1)                                       -7.466194   \n",
       "(Amusement, 1, 1, 1, 2)                                       -6.502221   \n",
       "(Amusement, 1, 1, 1, 3)                                       -7.600833   \n",
       "(Amusement, 1, 1, 1, 4)                                       -8.206969   \n",
       "\n",
       "                                                (Amusement, 1, 1, 1, 1)  \\\n",
       "(poiTheme, popularity, avgDuration, clusterID)                            \n",
       "(Amusement, 1, 1, 1, 0)                                       -6.439361   \n",
       "(Amusement, 1, 1, 1, 1)                                       -6.255846   \n",
       "(Amusement, 1, 1, 1, 2)                                       -8.293980   \n",
       "(Amusement, 1, 1, 1, 3)                                       -7.600833   \n",
       "(Amusement, 1, 1, 1, 4)                                       -9.998728   \n",
       "\n",
       "                                                (Amusement, 1, 1, 1, 2)  \\\n",
       "(poiTheme, popularity, avgDuration, clusterID)                            \n",
       "(Amusement, 1, 1, 1, 0)                                      -12.604779   \n",
       "(Amusement, 1, 1, 1, 1)                                      -13.712300   \n",
       "(Amusement, 1, 1, 1, 2)                                       -8.293980   \n",
       "(Amusement, 1, 1, 1, 3)                                       -7.600833   \n",
       "(Amusement, 1, 1, 1, 4)                                       -9.998728   \n",
       "\n",
       "                                                (Amusement, 1, 1, 1, 3)  \\\n",
       "(poiTheme, popularity, avgDuration, clusterID)                            \n",
       "(Amusement, 1, 1, 1, 0)                                      -10.813020   \n",
       "(Amusement, 1, 1, 1, 1)                                      -13.712300   \n",
       "(Amusement, 1, 1, 1, 2)                                       -8.293980   \n",
       "(Amusement, 1, 1, 1, 3)                                       -7.600833   \n",
       "(Amusement, 1, 1, 1, 4)                                       -9.998728   \n",
       "\n",
       "                                                (Amusement, 1, 1, 1, 4)  \\\n",
       "(poiTheme, popularity, avgDuration, clusterID)                            \n",
       "(Amusement, 1, 1, 1, 0)                                      -12.604779   \n",
       "(Amusement, 1, 1, 1, 1)                                      -11.920541   \n",
       "(Amusement, 1, 1, 1, 2)                                       -8.293980   \n",
       "(Amusement, 1, 1, 1, 3)                                       -7.600833   \n",
       "(Amusement, 1, 1, 1, 4)                                       -6.170087   \n",
       "\n",
       "                                                (Amusement, 1, 1, 2, 0)  \\\n",
       "(poiTheme, popularity, avgDuration, clusterID)                            \n",
       "(Amusement, 1, 1, 1, 0)                                       -5.248499   \n",
       "(Amusement, 1, 1, 1, 1)                                       -5.674434   \n",
       "(Amusement, 1, 1, 1, 2)                                       -4.710461   \n",
       "(Amusement, 1, 1, 1, 3)                                       -5.809074   \n",
       "(Amusement, 1, 1, 1, 4)                                       -6.415209   \n",
       "\n",
       "                                                (Amusement, 1, 1, 2, 1)  \\\n",
       "(poiTheme, popularity, avgDuration, clusterID)                            \n",
       "(Amusement, 1, 1, 1, 0)                                       -4.647602   \n",
       "(Amusement, 1, 1, 1, 1)                                       -4.464086   \n",
       "(Amusement, 1, 1, 1, 2)                                       -6.502221   \n",
       "(Amusement, 1, 1, 1, 3)                                       -5.809074   \n",
       "(Amusement, 1, 1, 1, 4)                                       -8.206969   \n",
       "\n",
       "                                                (Amusement, 1, 1, 2, 2)  \\\n",
       "(poiTheme, popularity, avgDuration, clusterID)                            \n",
       "(Amusement, 1, 1, 1, 0)                                      -10.813020   \n",
       "(Amusement, 1, 1, 1, 1)                                      -11.920541   \n",
       "(Amusement, 1, 1, 1, 2)                                       -6.502221   \n",
       "(Amusement, 1, 1, 1, 3)                                       -5.809074   \n",
       "(Amusement, 1, 1, 1, 4)                                       -8.206969   \n",
       "\n",
       "                                                (Amusement, 1, 1, 2, 3)  \\\n",
       "(poiTheme, popularity, avgDuration, clusterID)                            \n",
       "(Amusement, 1, 1, 1, 0)                                       -9.021260   \n",
       "(Amusement, 1, 1, 1, 1)                                      -11.920541   \n",
       "(Amusement, 1, 1, 1, 2)                                       -6.502221   \n",
       "(Amusement, 1, 1, 1, 3)                                       -5.809074   \n",
       "(Amusement, 1, 1, 1, 4)                                       -8.206969   \n",
       "\n",
       "                                                (Amusement, 1, 1, 2, 4)  \\\n",
       "(poiTheme, popularity, avgDuration, clusterID)                            \n",
       "(Amusement, 1, 1, 1, 0)                                      -10.813020   \n",
       "(Amusement, 1, 1, 1, 1)                                      -10.128781   \n",
       "(Amusement, 1, 1, 1, 2)                                       -6.502221   \n",
       "(Amusement, 1, 1, 1, 3)                                       -5.809074   \n",
       "(Amusement, 1, 1, 1, 4)                                       -4.378327   \n",
       "\n",
       "                                                         ...             \\\n",
       "(poiTheme, popularity, avgDuration, clusterID)           ...              \n",
       "(Amusement, 1, 1, 1, 0)                                  ...              \n",
       "(Amusement, 1, 1, 1, 1)                                  ...              \n",
       "(Amusement, 1, 1, 1, 2)                                  ...              \n",
       "(Amusement, 1, 1, 1, 3)                                  ...              \n",
       "(Amusement, 1, 1, 1, 4)                                  ...              \n",
       "\n",
       "                                                (Structure, 2, 2, 1, 0)  \\\n",
       "(poiTheme, popularity, avgDuration, clusterID)                            \n",
       "(Amusement, 1, 1, 1, 0)                                       -7.117220   \n",
       "(Amusement, 1, 1, 1, 1)                                       -7.543155   \n",
       "(Amusement, 1, 1, 1, 2)                                       -6.579182   \n",
       "(Amusement, 1, 1, 1, 3)                                       -7.677794   \n",
       "(Amusement, 1, 1, 1, 4)                                       -8.283930   \n",
       "\n",
       "                                                (Structure, 2, 2, 1, 1)  \\\n",
       "(poiTheme, popularity, avgDuration, clusterID)                            \n",
       "(Amusement, 1, 1, 1, 0)                                       -6.516323   \n",
       "(Amusement, 1, 1, 1, 1)                                       -6.332807   \n",
       "(Amusement, 1, 1, 1, 2)                                       -8.370941   \n",
       "(Amusement, 1, 1, 1, 3)                                       -7.677794   \n",
       "(Amusement, 1, 1, 1, 4)                                      -10.075689   \n",
       "\n",
       "                                                (Structure, 2, 2, 1, 2)  \\\n",
       "(poiTheme, popularity, avgDuration, clusterID)                            \n",
       "(Amusement, 1, 1, 1, 0)                                      -12.681740   \n",
       "(Amusement, 1, 1, 1, 1)                                      -13.789261   \n",
       "(Amusement, 1, 1, 1, 2)                                       -8.370941   \n",
       "(Amusement, 1, 1, 1, 3)                                       -7.677794   \n",
       "(Amusement, 1, 1, 1, 4)                                      -10.075689   \n",
       "\n",
       "                                                (Structure, 2, 2, 1, 3)  \\\n",
       "(poiTheme, popularity, avgDuration, clusterID)                            \n",
       "(Amusement, 1, 1, 1, 0)                                      -10.889981   \n",
       "(Amusement, 1, 1, 1, 1)                                      -13.789261   \n",
       "(Amusement, 1, 1, 1, 2)                                       -8.370941   \n",
       "(Amusement, 1, 1, 1, 3)                                       -7.677794   \n",
       "(Amusement, 1, 1, 1, 4)                                      -10.075689   \n",
       "\n",
       "                                                (Structure, 2, 2, 1, 4)  \\\n",
       "(poiTheme, popularity, avgDuration, clusterID)                            \n",
       "(Amusement, 1, 1, 1, 0)                                      -12.681740   \n",
       "(Amusement, 1, 1, 1, 1)                                      -11.997502   \n",
       "(Amusement, 1, 1, 1, 2)                                       -8.370941   \n",
       "(Amusement, 1, 1, 1, 3)                                       -7.677794   \n",
       "(Amusement, 1, 1, 1, 4)                                       -6.247048   \n",
       "\n",
       "                                                (Structure, 2, 2, 2, 0)  \\\n",
       "(poiTheme, popularity, avgDuration, clusterID)                            \n",
       "(Amusement, 1, 1, 1, 0)                                       -5.325460   \n",
       "(Amusement, 1, 1, 1, 1)                                       -5.751395   \n",
       "(Amusement, 1, 1, 1, 2)                                       -4.787422   \n",
       "(Amusement, 1, 1, 1, 3)                                       -5.886035   \n",
       "(Amusement, 1, 1, 1, 4)                                       -6.492170   \n",
       "\n",
       "                                                (Structure, 2, 2, 2, 1)  \\\n",
       "(poiTheme, popularity, avgDuration, clusterID)                            \n",
       "(Amusement, 1, 1, 1, 0)                                       -4.724563   \n",
       "(Amusement, 1, 1, 1, 1)                                       -4.541047   \n",
       "(Amusement, 1, 1, 1, 2)                                       -6.579182   \n",
       "(Amusement, 1, 1, 1, 3)                                       -5.886035   \n",
       "(Amusement, 1, 1, 1, 4)                                       -8.283930   \n",
       "\n",
       "                                                (Structure, 2, 2, 2, 2)  \\\n",
       "(poiTheme, popularity, avgDuration, clusterID)                            \n",
       "(Amusement, 1, 1, 1, 0)                                      -10.889981   \n",
       "(Amusement, 1, 1, 1, 1)                                      -11.997502   \n",
       "(Amusement, 1, 1, 1, 2)                                       -6.579182   \n",
       "(Amusement, 1, 1, 1, 3)                                       -5.886035   \n",
       "(Amusement, 1, 1, 1, 4)                                       -8.283930   \n",
       "\n",
       "                                                (Structure, 2, 2, 2, 3)  \\\n",
       "(poiTheme, popularity, avgDuration, clusterID)                            \n",
       "(Amusement, 1, 1, 1, 0)                                       -9.098221   \n",
       "(Amusement, 1, 1, 1, 1)                                      -11.997502   \n",
       "(Amusement, 1, 1, 1, 2)                                       -6.579182   \n",
       "(Amusement, 1, 1, 1, 3)                                       -5.886035   \n",
       "(Amusement, 1, 1, 1, 4)                                       -8.283930   \n",
       "\n",
       "                                                (Structure, 2, 2, 2, 4)  \n",
       "(poiTheme, popularity, avgDuration, clusterID)                           \n",
       "(Amusement, 1, 1, 1, 0)                                      -10.889981  \n",
       "(Amusement, 1, 1, 1, 1)                                      -10.205742  \n",
       "(Amusement, 1, 1, 1, 2)                                       -6.579182  \n",
       "(Amusement, 1, 1, 1, 3)                                       -5.886035  \n",
       "(Amusement, 1, 1, 1, 4)                                       -4.455288  \n",
       "\n",
       "[5 rows x 240 columns]"
      ]
     },
     "execution_count": 118,
     "metadata": {},
     "output_type": "execute_result"
    }
   ],
   "source": [
    "#from scipy.misc import logsumexp\n",
    "logtransmat_feature = np.log(transmat_feature)\n",
    "for row in range(logtransmat_feature.shape[0]):\n",
    "    logtransmat_feature.iloc[row] -= logsumexp(logtransmat_feature.iloc[row])\n",
    "logtransmat_feature.head()"
   ]
  },
  {
   "cell_type": "code",
   "execution_count": 119,
   "metadata": {
    "collapsed": false
   },
   "outputs": [
    {
     "data": {
      "text/plain": [
       "(Cultural, 2, 2, 2, 4)    -1.214164\n",
       "(Beach, 2, 2, 2, 4)       -1.265286\n",
       "(Cultural, 2, 2, 2, 1)    -1.299923\n",
       "(Beach, 2, 2, 2, 1)       -1.351045\n",
       "(Structure, 2, 2, 2, 4)   -1.378232\n",
       "(Amusement, 2, 2, 2, 4)   -1.437868\n",
       "(Structure, 2, 2, 2, 1)   -1.463991\n",
       "(Shopping, 2, 2, 2, 4)    -1.501846\n",
       "(Amusement, 2, 2, 2, 1)   -1.523627\n",
       "(Cultural, 2, 2, 2, 0)    -1.546298\n",
       "dtype: float64"
      ]
     },
     "execution_count": 119,
     "metadata": {},
     "output_type": "execute_result"
    }
   ],
   "source": [
    "logtransmat_feature.max().sort_values(ascending=False).head(10)"
   ]
  },
  {
   "cell_type": "code",
   "execution_count": 120,
   "metadata": {
    "collapsed": false
   },
   "outputs": [
    {
     "data": {
      "text/plain": [
       "<matplotlib.axes._subplots.AxesSubplot at 0x7fb340723b38>"
      ]
     },
     "execution_count": 120,
     "metadata": {},
     "output_type": "execute_result"
    },
    {
     "data": {
      "image/png": "[encoded data removed]",
      "text/plain": [
       "<matplotlib.figure.Figure at 0x7fb3406fd278>"
      ]
     },
     "metadata": {},
     "output_type": "display_data"
    }
   ],
   "source": [
    "plt.figure(figsize=[13, 10])\n",
    "sns.heatmap(np.exp(logtransmat_feature), xticklabels=False, yticklabels=False)"
   ]
  },
  {
   "cell_type": "markdown",
   "metadata": {},
   "source": [
    "Deal with features without corresponding POIs and feature with more than one corresponding POIs. (*Before Normalisation*)\n",
    "- For features without corresponding POIs, just remove the rows and columns from the matrix obtained by Kronecker product.\n",
    "- For different POIs with the exact same feature, \n",
    "  - Let POIs with the same feature as a POI group,\n",
    "  - The *incoming* **transition value (i.e., unnormalised transition probability)** of this POI group \n",
    "    should be divided uniformly among the group members, \n",
    "    *which corresponds to choose a group member uniformly at random in the incoming case*.\n",
    "  - The *outgoing* transition value should be duplicated (i.e., the same) among all group members, \n",
    "    **as we were already in that group in the outgoing case**.\n",
    "  - For each POI in the group, the allocation transition value of the *self-loop of the POI group* is similar to \n",
    "    that in the *outgoing* case, **as we were already in that group**, so just duplicate and then divide uniformly among \n",
    "    the transitions from this POI to other POIs in the same group, \n",
    "    *which corresponds to choose a outgoing transition uniformly at random from all outgoing transitions\n",
    "    excluding the self-loop of this POI*.\n",
    "- **Concretely**, for a POI group with $n$ POIs, \n",
    "    1. If the *incoming* transition value of POI group is $m_1$,\n",
    "       then the corresponding *incoming* transition value for each group member is $\\frac{m_1}{n}$.\n",
    "    1. If the *outgoing* transition value of POI group is $m_2$,\n",
    "       then the corresponding *outgoing* transition value for each group member is also $m_2$.\n",
    "    1. If the transition value of *self-loop of the POI group* is $m_3$,\n",
    "       then transition value of *self-loop of individual POIs* should be $0$,  \n",
    "       and *other in-group transitions* with value $\\frac{m_3}{n-1}$\n",
    "       as the total number of outgoing transitions to other POIs in the same group is $n-1$ (excluding the self-loop),\n",
    "       i.e. $n-1$ choose $1$.\n",
    "       \n",
    "**NOTE**: execute the above division before or after row normalisation will lead to the same result, *as the division itself does NOT change the normalising constant of each row (i.e., the sum of each row before normalising)*."
   ]
  },
  {
   "cell_type": "code",
   "execution_count": 121,
   "metadata": {
    "collapsed": true
   },
   "outputs": [],
   "source": [
    "feature_names = ['poiTheme', 'popularity', 'nVisit', 'avgDuration', 'clusterID']\n",
    "poi_features = pd.DataFrame(data=np.zeros((len(poi_train), len(feature_names))), \\\n",
    "                            columns=feature_names, index=poi_train)\n",
    "poi_features.index.name = 'poiID'"
   ]
  },
  {
   "cell_type": "code",
   "execution_count": 122,
   "metadata": {
    "collapsed": true
   },
   "outputs": [],
   "source": [
    "poi_features['poiTheme'] = poi_info_t.loc[poi_train, 'poiTheme']\n",
    "poi_features['popularity'] = np.digitize(poi_info_t.loc[poi_train, 'popularity'], logbins_pop)\n",
    "poi_features['nVisit'] = np.digitize(poi_info_t.loc[poi_train, 'nVisit'], logbins_visit)\n",
    "poi_features['avgDuration'] = np.digitize(poi_info_t.loc[poi_train, 'avgDuration(sec)'], logbins_duration)\n",
    "poi_features['clusterID'] = poi_clusters.loc[poi_train, 'clusterID']"
   ]
  },
  {
   "cell_type": "code",
   "execution_count": 123,
   "metadata": {
    "collapsed": false,
    "scrolled": true
   },
   "outputs": [],
   "source": [
    "#poi_features.duplicated()"
   ]
  },
  {
   "cell_type": "code",
   "execution_count": 124,
   "metadata": {
    "collapsed": false
   },
   "outputs": [
    {
     "data": {
      "text/html": [
       "<div>\n",
       "<table border=\"1\" class=\"dataframe\">\n",
       "  <thead>\n",
       "    <tr style=\"text-align: right;\">\n",
       "      <th></th>\n",
       "      <th>(Amusement, 1, 1, 1, 1)</th>\n",
       "    </tr>\n",
       "    <tr>\n",
       "      <th>(poiTheme, popularity, avgDuration, clusterID)</th>\n",
       "      <th></th>\n",
       "    </tr>\n",
       "  </thead>\n",
       "  <tbody>\n",
       "    <tr>\n",
       "      <th>(Amusement, 1, 1, 1, 0)</th>\n",
       "      <td>0.001597</td>\n",
       "    </tr>\n",
       "  </tbody>\n",
       "</table>\n",
       "</div>"
      ],
      "text/plain": [
       "                                                (Amusement, 1, 1, 1, 1)\n",
       "(poiTheme, popularity, avgDuration, clusterID)                         \n",
       "(Amusement, 1, 1, 1, 0)                                        0.001597"
      ]
     },
     "execution_count": 124,
     "metadata": {},
     "output_type": "execute_result"
    }
   ],
   "source": [
    "ix = transmat_feature.index[0]; ix1 = transmat_feature.index[1]\n",
    "# simply use df.loc[tuple,:] will trigger an error as pandas treat the tuple as multiindex\n",
    "# see https://github.com/pydata/pandas/issues/7548\n",
    "#transmat_feature.loc[(ix,),]   # OK\n",
    "#transmat_feature.loc[(ix,),:]  # OK\n",
    "transmat_feature.loc[(ix,), (ix1,)] "
   ]
  },
  {
   "cell_type": "code",
   "execution_count": 125,
   "metadata": {
    "collapsed": true
   },
   "outputs": [],
   "source": [
    "poi_logtransmat = pd.DataFrame(data=np.zeros((len(poi_train), len(poi_train)), dtype=np.float), \\\n",
    "                               columns=poi_train, index=poi_train)"
   ]
  },
  {
   "cell_type": "markdown",
   "metadata": {},
   "source": [
    "Copy transition values between features with corresponding POIs."
   ]
  },
  {
   "cell_type": "code",
   "execution_count": 126,
   "metadata": {
    "collapsed": false
   },
   "outputs": [],
   "source": [
    "for p1 in poi_logtransmat.index:\n",
    "    rix = tuple(poi_features.loc[p1])\n",
    "    for p2 in poi_logtransmat.columns:\n",
    "        cix = tuple(poi_features.loc[p2])\n",
    "        value_ = transmat_feature.loc[(rix,), (cix,)]\n",
    "        #print(value_.values)\n",
    "        poi_logtransmat.loc[p1, p2] = value_.values[0, 0]"
   ]
  },
  {
   "cell_type": "code",
   "execution_count": 127,
   "metadata": {
    "collapsed": false
   },
   "outputs": [
    {
     "data": {
      "text/html": [
       "<div>\n",
       "<table border=\"1\" class=\"dataframe\">\n",
       "  <thead>\n",
       "    <tr style=\"text-align: right;\">\n",
       "      <th></th>\n",
       "      <th>1</th>\n",
       "      <th>2</th>\n",
       "      <th>3</th>\n",
       "      <th>4</th>\n",
       "      <th>6</th>\n",
       "      <th>7</th>\n",
       "      <th>8</th>\n",
       "      <th>10</th>\n",
       "      <th>11</th>\n",
       "      <th>13</th>\n",
       "      <th>...</th>\n",
       "      <th>21</th>\n",
       "      <th>22</th>\n",
       "      <th>23</th>\n",
       "      <th>24</th>\n",
       "      <th>25</th>\n",
       "      <th>26</th>\n",
       "      <th>27</th>\n",
       "      <th>28</th>\n",
       "      <th>29</th>\n",
       "      <th>30</th>\n",
       "    </tr>\n",
       "  </thead>\n",
       "  <tbody>\n",
       "    <tr>\n",
       "      <th>1</th>\n",
       "      <td>0.077829</td>\n",
       "      <td>1.383746e-07</td>\n",
       "      <td>0.023200</td>\n",
       "      <td>0.077829</td>\n",
       "      <td>0.037120</td>\n",
       "      <td>0.124526</td>\n",
       "      <td>0.124526</td>\n",
       "      <td>6.283943e-08</td>\n",
       "      <td>0.037120</td>\n",
       "      <td>0.000019</td>\n",
       "      <td>...</td>\n",
       "      <td>0.037120</td>\n",
       "      <td>0.124526</td>\n",
       "      <td>0.031131</td>\n",
       "      <td>0.031131</td>\n",
       "      <td>0.009280</td>\n",
       "      <td>3.044546e-11</td>\n",
       "      <td>0.009280</td>\n",
       "      <td>0.155657</td>\n",
       "      <td>0.046400</td>\n",
       "      <td>0.155657</td>\n",
       "    </tr>\n",
       "    <tr>\n",
       "      <th>2</th>\n",
       "      <td>0.000398</td>\n",
       "      <td>2.638478e-02</td>\n",
       "      <td>0.002390</td>\n",
       "      <td>0.000398</td>\n",
       "      <td>0.003824</td>\n",
       "      <td>0.000637</td>\n",
       "      <td>0.000637</td>\n",
       "      <td>1.817290e-05</td>\n",
       "      <td>0.003824</td>\n",
       "      <td>0.005506</td>\n",
       "      <td>...</td>\n",
       "      <td>0.003824</td>\n",
       "      <td>0.000637</td>\n",
       "      <td>0.000159</td>\n",
       "      <td>0.000159</td>\n",
       "      <td>0.000956</td>\n",
       "      <td>7.572042e-07</td>\n",
       "      <td>0.000956</td>\n",
       "      <td>0.000797</td>\n",
       "      <td>0.004780</td>\n",
       "      <td>0.000797</td>\n",
       "    </tr>\n",
       "    <tr>\n",
       "      <th>3</th>\n",
       "      <td>0.064780</td>\n",
       "      <td>6.980643e-08</td>\n",
       "      <td>0.035520</td>\n",
       "      <td>0.064780</td>\n",
       "      <td>0.056832</td>\n",
       "      <td>0.103648</td>\n",
       "      <td>0.103648</td>\n",
       "      <td>9.620846e-08</td>\n",
       "      <td>0.056832</td>\n",
       "      <td>0.000029</td>\n",
       "      <td>...</td>\n",
       "      <td>0.056832</td>\n",
       "      <td>0.103648</td>\n",
       "      <td>0.025912</td>\n",
       "      <td>0.025912</td>\n",
       "      <td>0.014208</td>\n",
       "      <td>5.529222e-10</td>\n",
       "      <td>0.014208</td>\n",
       "      <td>0.129560</td>\n",
       "      <td>0.071040</td>\n",
       "      <td>0.129560</td>\n",
       "    </tr>\n",
       "    <tr>\n",
       "      <th>4</th>\n",
       "      <td>0.077829</td>\n",
       "      <td>1.383746e-07</td>\n",
       "      <td>0.023200</td>\n",
       "      <td>0.077829</td>\n",
       "      <td>0.037120</td>\n",
       "      <td>0.124526</td>\n",
       "      <td>0.124526</td>\n",
       "      <td>6.283943e-08</td>\n",
       "      <td>0.037120</td>\n",
       "      <td>0.000019</td>\n",
       "      <td>...</td>\n",
       "      <td>0.037120</td>\n",
       "      <td>0.124526</td>\n",
       "      <td>0.031131</td>\n",
       "      <td>0.031131</td>\n",
       "      <td>0.009280</td>\n",
       "      <td>3.044546e-11</td>\n",
       "      <td>0.009280</td>\n",
       "      <td>0.155657</td>\n",
       "      <td>0.046400</td>\n",
       "      <td>0.155657</td>\n",
       "    </tr>\n",
       "    <tr>\n",
       "      <th>6</th>\n",
       "      <td>0.037763</td>\n",
       "      <td>4.069336e-08</td>\n",
       "      <td>0.020706</td>\n",
       "      <td>0.037763</td>\n",
       "      <td>0.038824</td>\n",
       "      <td>0.070806</td>\n",
       "      <td>0.070806</td>\n",
       "      <td>6.572381e-08</td>\n",
       "      <td>0.038824</td>\n",
       "      <td>0.000020</td>\n",
       "      <td>...</td>\n",
       "      <td>0.067295</td>\n",
       "      <td>0.122730</td>\n",
       "      <td>0.118010</td>\n",
       "      <td>0.118010</td>\n",
       "      <td>0.064707</td>\n",
       "      <td>2.518153e-09</td>\n",
       "      <td>0.064707</td>\n",
       "      <td>0.184095</td>\n",
       "      <td>0.100943</td>\n",
       "      <td>0.184095</td>\n",
       "    </tr>\n",
       "    <tr>\n",
       "      <th>7</th>\n",
       "      <td>0.045370</td>\n",
       "      <td>8.066489e-08</td>\n",
       "      <td>0.013524</td>\n",
       "      <td>0.045370</td>\n",
       "      <td>0.025358</td>\n",
       "      <td>0.085068</td>\n",
       "      <td>0.085068</td>\n",
       "      <td>4.292810e-08</td>\n",
       "      <td>0.025358</td>\n",
       "      <td>0.000013</td>\n",
       "      <td>...</td>\n",
       "      <td>0.043955</td>\n",
       "      <td>0.147452</td>\n",
       "      <td>0.141781</td>\n",
       "      <td>0.141781</td>\n",
       "      <td>0.042264</td>\n",
       "      <td>1.386566e-10</td>\n",
       "      <td>0.042264</td>\n",
       "      <td>0.221178</td>\n",
       "      <td>0.065932</td>\n",
       "      <td>0.221178</td>\n",
       "    </tr>\n",
       "    <tr>\n",
       "      <th>8</th>\n",
       "      <td>0.045370</td>\n",
       "      <td>8.066489e-08</td>\n",
       "      <td>0.013524</td>\n",
       "      <td>0.045370</td>\n",
       "      <td>0.025358</td>\n",
       "      <td>0.085068</td>\n",
       "      <td>0.085068</td>\n",
       "      <td>4.292810e-08</td>\n",
       "      <td>0.025358</td>\n",
       "      <td>0.000013</td>\n",
       "      <td>...</td>\n",
       "      <td>0.043955</td>\n",
       "      <td>0.147452</td>\n",
       "      <td>0.141781</td>\n",
       "      <td>0.141781</td>\n",
       "      <td>0.042264</td>\n",
       "      <td>1.386566e-10</td>\n",
       "      <td>0.042264</td>\n",
       "      <td>0.221178</td>\n",
       "      <td>0.065932</td>\n",
       "      <td>0.221178</td>\n",
       "    </tr>\n",
       "    <tr>\n",
       "      <th>10</th>\n",
       "      <td>0.007017</td>\n",
       "      <td>2.122826e-05</td>\n",
       "      <td>0.003848</td>\n",
       "      <td>0.007017</td>\n",
       "      <td>0.007214</td>\n",
       "      <td>0.013157</td>\n",
       "      <td>0.013157</td>\n",
       "      <td>1.731430e-03</td>\n",
       "      <td>0.007214</td>\n",
       "      <td>0.010389</td>\n",
       "      <td>...</td>\n",
       "      <td>0.012505</td>\n",
       "      <td>0.022806</td>\n",
       "      <td>0.021928</td>\n",
       "      <td>0.021928</td>\n",
       "      <td>0.012024</td>\n",
       "      <td>6.633830e-05</td>\n",
       "      <td>0.012024</td>\n",
       "      <td>0.034208</td>\n",
       "      <td>0.018757</td>\n",
       "      <td>0.034208</td>\n",
       "    </tr>\n",
       "    <tr>\n",
       "      <th>11</th>\n",
       "      <td>0.037763</td>\n",
       "      <td>4.069336e-08</td>\n",
       "      <td>0.020706</td>\n",
       "      <td>0.037763</td>\n",
       "      <td>0.038824</td>\n",
       "      <td>0.070806</td>\n",
       "      <td>0.070806</td>\n",
       "      <td>6.572381e-08</td>\n",
       "      <td>0.038824</td>\n",
       "      <td>0.000020</td>\n",
       "      <td>...</td>\n",
       "      <td>0.067295</td>\n",
       "      <td>0.122730</td>\n",
       "      <td>0.118010</td>\n",
       "      <td>0.118010</td>\n",
       "      <td>0.064707</td>\n",
       "      <td>2.518153e-09</td>\n",
       "      <td>0.064707</td>\n",
       "      <td>0.184095</td>\n",
       "      <td>0.100943</td>\n",
       "      <td>0.184095</td>\n",
       "    </tr>\n",
       "    <tr>\n",
       "      <th>13</th>\n",
       "      <td>0.008160</td>\n",
       "      <td>2.468483e-05</td>\n",
       "      <td>0.004474</td>\n",
       "      <td>0.008160</td>\n",
       "      <td>0.008389</td>\n",
       "      <td>0.015299</td>\n",
       "      <td>0.015299</td>\n",
       "      <td>3.986845e-05</td>\n",
       "      <td>0.008389</td>\n",
       "      <td>0.012080</td>\n",
       "      <td>...</td>\n",
       "      <td>0.014541</td>\n",
       "      <td>0.026519</td>\n",
       "      <td>0.025499</td>\n",
       "      <td>0.025499</td>\n",
       "      <td>0.013982</td>\n",
       "      <td>1.527527e-06</td>\n",
       "      <td>0.013982</td>\n",
       "      <td>0.039779</td>\n",
       "      <td>0.021811</td>\n",
       "      <td>0.039779</td>\n",
       "    </tr>\n",
       "    <tr>\n",
       "      <th>14</th>\n",
       "      <td>0.000954</td>\n",
       "      <td>6.322000e-02</td>\n",
       "      <td>0.005726</td>\n",
       "      <td>0.000954</td>\n",
       "      <td>0.008369</td>\n",
       "      <td>0.001395</td>\n",
       "      <td>0.001395</td>\n",
       "      <td>3.977549e-05</td>\n",
       "      <td>0.008369</td>\n",
       "      <td>0.012052</td>\n",
       "      <td>...</td>\n",
       "      <td>0.001762</td>\n",
       "      <td>0.000294</td>\n",
       "      <td>0.000587</td>\n",
       "      <td>0.000587</td>\n",
       "      <td>0.003524</td>\n",
       "      <td>2.791262e-06</td>\n",
       "      <td>0.003524</td>\n",
       "      <td>0.000294</td>\n",
       "      <td>0.001762</td>\n",
       "      <td>0.000294</td>\n",
       "    </tr>\n",
       "  </tbody>\n",
       "</table>\n",
       "<p>11 rows × 26 columns</p>\n",
       "</div>"
      ],
      "text/plain": [
       "          1             2         3         4         6         7         8   \\\n",
       "1   0.077829  1.383746e-07  0.023200  0.077829  0.037120  0.124526  0.124526   \n",
       "2   0.000398  2.638478e-02  0.002390  0.000398  0.003824  0.000637  0.000637   \n",
       "3   0.064780  6.980643e-08  0.035520  0.064780  0.056832  0.103648  0.103648   \n",
       "4   0.077829  1.383746e-07  0.023200  0.077829  0.037120  0.124526  0.124526   \n",
       "6   0.037763  4.069336e-08  0.020706  0.037763  0.038824  0.070806  0.070806   \n",
       "7   0.045370  8.066489e-08  0.013524  0.045370  0.025358  0.085068  0.085068   \n",
       "8   0.045370  8.066489e-08  0.013524  0.045370  0.025358  0.085068  0.085068   \n",
       "10  0.007017  2.122826e-05  0.003848  0.007017  0.007214  0.013157  0.013157   \n",
       "11  0.037763  4.069336e-08  0.020706  0.037763  0.038824  0.070806  0.070806   \n",
       "13  0.008160  2.468483e-05  0.004474  0.008160  0.008389  0.015299  0.015299   \n",
       "14  0.000954  6.322000e-02  0.005726  0.000954  0.008369  0.001395  0.001395   \n",
       "\n",
       "              10        11        13    ...           21        22        23  \\\n",
       "1   6.283943e-08  0.037120  0.000019    ...     0.037120  0.124526  0.031131   \n",
       "2   1.817290e-05  0.003824  0.005506    ...     0.003824  0.000637  0.000159   \n",
       "3   9.620846e-08  0.056832  0.000029    ...     0.056832  0.103648  0.025912   \n",
       "4   6.283943e-08  0.037120  0.000019    ...     0.037120  0.124526  0.031131   \n",
       "6   6.572381e-08  0.038824  0.000020    ...     0.067295  0.122730  0.118010   \n",
       "7   4.292810e-08  0.025358  0.000013    ...     0.043955  0.147452  0.141781   \n",
       "8   4.292810e-08  0.025358  0.000013    ...     0.043955  0.147452  0.141781   \n",
       "10  1.731430e-03  0.007214  0.010389    ...     0.012505  0.022806  0.021928   \n",
       "11  6.572381e-08  0.038824  0.000020    ...     0.067295  0.122730  0.118010   \n",
       "13  3.986845e-05  0.008389  0.012080    ...     0.014541  0.026519  0.025499   \n",
       "14  3.977549e-05  0.008369  0.012052    ...     0.001762  0.000294  0.000587   \n",
       "\n",
       "          24        25            26        27        28        29        30  \n",
       "1   0.031131  0.009280  3.044546e-11  0.009280  0.155657  0.046400  0.155657  \n",
       "2   0.000159  0.000956  7.572042e-07  0.000956  0.000797  0.004780  0.000797  \n",
       "3   0.025912  0.014208  5.529222e-10  0.014208  0.129560  0.071040  0.129560  \n",
       "4   0.031131  0.009280  3.044546e-11  0.009280  0.155657  0.046400  0.155657  \n",
       "6   0.118010  0.064707  2.518153e-09  0.064707  0.184095  0.100943  0.184095  \n",
       "7   0.141781  0.042264  1.386566e-10  0.042264  0.221178  0.065932  0.221178  \n",
       "8   0.141781  0.042264  1.386566e-10  0.042264  0.221178  0.065932  0.221178  \n",
       "10  0.021928  0.012024  6.633830e-05  0.012024  0.034208  0.018757  0.034208  \n",
       "11  0.118010  0.064707  2.518153e-09  0.064707  0.184095  0.100943  0.184095  \n",
       "13  0.025499  0.013982  1.527527e-06  0.013982  0.039779  0.021811  0.039779  \n",
       "14  0.000587  0.003524  2.791262e-06  0.003524  0.000294  0.001762  0.000294  \n",
       "\n",
       "[11 rows x 26 columns]"
      ]
     },
     "execution_count": 127,
     "metadata": {},
     "output_type": "execute_result"
    }
   ],
   "source": [
    "poi_logtransmat.head(11)"
   ]
  },
  {
   "cell_type": "markdown",
   "metadata": {},
   "source": [
    "Deal with POI features that correspond to more than once POIs."
   ]
  },
  {
   "cell_type": "code",
   "execution_count": 128,
   "metadata": {
    "collapsed": false
   },
   "outputs": [
    {
     "data": {
      "text/plain": [
       "{('Amusement', 1, 1, 2, 1): [15],\n",
       " ('Amusement', 1, 1, 2, 4): [14, 17],\n",
       " ('Amusement', 2, 2, 2, 1): [16],\n",
       " ('Beach', 1, 1, 2, 1): [19],\n",
       " ('Beach', 1, 1, 2, 2): [20],\n",
       " ('Beach', 2, 2, 2, 0): [21],\n",
       " ('Beach', 2, 2, 2, 1): [22],\n",
       " ('Cultural', 1, 1, 1, 0): [10],\n",
       " ('Cultural', 1, 1, 2, 0): [13],\n",
       " ('Cultural', 2, 2, 2, 0): [6, 11],\n",
       " ('Cultural', 2, 2, 2, 1): [7, 8],\n",
       " ('Shopping', 1, 1, 1, 3): [26],\n",
       " ('Shopping', 2, 2, 2, 0): [25, 27],\n",
       " ('Shopping', 2, 2, 2, 1): [23, 24],\n",
       " ('Sport', 1, 1, 2, 4): [2],\n",
       " ('Sport', 2, 2, 2, 0): [3],\n",
       " ('Sport', 2, 2, 2, 1): [1, 4],\n",
       " ('Structure', 2, 2, 2, 0): [29],\n",
       " ('Structure', 2, 2, 2, 1): [28, 30]}"
      ]
     },
     "execution_count": 128,
     "metadata": {},
     "output_type": "execute_result"
    }
   ],
   "source": [
    "features_dup = dict()\n",
    "for poi in poi_features.index:\n",
    "    key = tuple(poi_features.loc[poi])\n",
    "    if key in features_dup:\n",
    "        features_dup[key].append(poi)\n",
    "    else:\n",
    "        features_dup[key] = [poi]\n",
    "features_dup"
   ]
  },
  {
   "cell_type": "code",
   "execution_count": 129,
   "metadata": {
    "collapsed": true
   },
   "outputs": [],
   "source": [
    "for feature in sorted(features_dup.keys()):\n",
    "    n = len(features_dup[feature])\n",
    "    if n > 1:\n",
    "        group = features_dup[feature]\n",
    "        v1 = poi_logtransmat.loc[group[0], group[0]]  # transition value of self-loop of POI group\n",
    "        \n",
    "        # divide incoming transition value (i.e. unnormalised transition probability) uniformly among group members\n",
    "        for poi in group:\n",
    "            poi_logtransmat[poi] /= n\n",
    "        \n",
    "        # outgoing transition value has already been duplicated (value copied above)\n",
    "        \n",
    "        # duplicate & divide transition value of self-loop of POI group uniformly among all outgoing transitions,\n",
    "        # from a POI to all other POIs in the same group (excluding POI self-loop)\n",
    "        v2 = v1 / (n - 1)\n",
    "        for pair in itertools.permutations(group, 2):\n",
    "            poi_logtransmat.loc[pair[0], pair[1]] = v2"
   ]
  },
  {
   "cell_type": "markdown",
   "metadata": {},
   "source": [
    "Make the transition value of all self-loops of POIs to $0$."
   ]
  },
  {
   "cell_type": "code",
   "execution_count": 130,
   "metadata": {
    "collapsed": true
   },
   "outputs": [],
   "source": [
    "for p1 in poi_logtransmat.index:\n",
    "    poi_logtransmat.loc[p1, p1] = 0"
   ]
  },
  {
   "cell_type": "code",
   "execution_count": 131,
   "metadata": {
    "collapsed": false
   },
   "outputs": [
    {
     "data": {
      "text/html": [
       "<div>\n",
       "<table border=\"1\" class=\"dataframe\">\n",
       "  <thead>\n",
       "    <tr style=\"text-align: right;\">\n",
       "      <th></th>\n",
       "      <th>1</th>\n",
       "      <th>2</th>\n",
       "      <th>3</th>\n",
       "      <th>4</th>\n",
       "      <th>6</th>\n",
       "      <th>7</th>\n",
       "      <th>8</th>\n",
       "      <th>10</th>\n",
       "      <th>11</th>\n",
       "      <th>13</th>\n",
       "      <th>...</th>\n",
       "      <th>21</th>\n",
       "      <th>22</th>\n",
       "      <th>23</th>\n",
       "      <th>24</th>\n",
       "      <th>25</th>\n",
       "      <th>26</th>\n",
       "      <th>27</th>\n",
       "      <th>28</th>\n",
       "      <th>29</th>\n",
       "      <th>30</th>\n",
       "    </tr>\n",
       "  </thead>\n",
       "  <tbody>\n",
       "    <tr>\n",
       "      <th>1</th>\n",
       "      <td>0.000000</td>\n",
       "      <td>1.383746e-07</td>\n",
       "      <td>0.023200</td>\n",
       "      <td>0.077829</td>\n",
       "      <td>0.018560</td>\n",
       "      <td>0.062263</td>\n",
       "      <td>0.062263</td>\n",
       "      <td>6.283943e-08</td>\n",
       "      <td>0.018560</td>\n",
       "      <td>0.000019</td>\n",
       "      <td>...</td>\n",
       "      <td>0.037120</td>\n",
       "      <td>0.124526</td>\n",
       "      <td>0.015566</td>\n",
       "      <td>0.015566</td>\n",
       "      <td>0.004640</td>\n",
       "      <td>3.044546e-11</td>\n",
       "      <td>0.004640</td>\n",
       "      <td>0.077829</td>\n",
       "      <td>0.046400</td>\n",
       "      <td>0.077829</td>\n",
       "    </tr>\n",
       "    <tr>\n",
       "      <th>2</th>\n",
       "      <td>0.000199</td>\n",
       "      <td>0.000000e+00</td>\n",
       "      <td>0.002390</td>\n",
       "      <td>0.000199</td>\n",
       "      <td>0.001912</td>\n",
       "      <td>0.000319</td>\n",
       "      <td>0.000319</td>\n",
       "      <td>1.817290e-05</td>\n",
       "      <td>0.001912</td>\n",
       "      <td>0.005506</td>\n",
       "      <td>...</td>\n",
       "      <td>0.003824</td>\n",
       "      <td>0.000637</td>\n",
       "      <td>0.000080</td>\n",
       "      <td>0.000080</td>\n",
       "      <td>0.000478</td>\n",
       "      <td>7.572042e-07</td>\n",
       "      <td>0.000478</td>\n",
       "      <td>0.000398</td>\n",
       "      <td>0.004780</td>\n",
       "      <td>0.000398</td>\n",
       "    </tr>\n",
       "    <tr>\n",
       "      <th>3</th>\n",
       "      <td>0.032390</td>\n",
       "      <td>6.980643e-08</td>\n",
       "      <td>0.000000</td>\n",
       "      <td>0.032390</td>\n",
       "      <td>0.028416</td>\n",
       "      <td>0.051824</td>\n",
       "      <td>0.051824</td>\n",
       "      <td>9.620846e-08</td>\n",
       "      <td>0.028416</td>\n",
       "      <td>0.000029</td>\n",
       "      <td>...</td>\n",
       "      <td>0.056832</td>\n",
       "      <td>0.103648</td>\n",
       "      <td>0.012956</td>\n",
       "      <td>0.012956</td>\n",
       "      <td>0.007104</td>\n",
       "      <td>5.529222e-10</td>\n",
       "      <td>0.007104</td>\n",
       "      <td>0.064780</td>\n",
       "      <td>0.071040</td>\n",
       "      <td>0.064780</td>\n",
       "    </tr>\n",
       "    <tr>\n",
       "      <th>4</th>\n",
       "      <td>0.077829</td>\n",
       "      <td>1.383746e-07</td>\n",
       "      <td>0.023200</td>\n",
       "      <td>0.000000</td>\n",
       "      <td>0.018560</td>\n",
       "      <td>0.062263</td>\n",
       "      <td>0.062263</td>\n",
       "      <td>6.283943e-08</td>\n",
       "      <td>0.018560</td>\n",
       "      <td>0.000019</td>\n",
       "      <td>...</td>\n",
       "      <td>0.037120</td>\n",
       "      <td>0.124526</td>\n",
       "      <td>0.015566</td>\n",
       "      <td>0.015566</td>\n",
       "      <td>0.004640</td>\n",
       "      <td>3.044546e-11</td>\n",
       "      <td>0.004640</td>\n",
       "      <td>0.077829</td>\n",
       "      <td>0.046400</td>\n",
       "      <td>0.077829</td>\n",
       "    </tr>\n",
       "    <tr>\n",
       "      <th>6</th>\n",
       "      <td>0.018882</td>\n",
       "      <td>4.069336e-08</td>\n",
       "      <td>0.020706</td>\n",
       "      <td>0.018882</td>\n",
       "      <td>0.000000</td>\n",
       "      <td>0.035403</td>\n",
       "      <td>0.035403</td>\n",
       "      <td>6.572381e-08</td>\n",
       "      <td>0.038824</td>\n",
       "      <td>0.000020</td>\n",
       "      <td>...</td>\n",
       "      <td>0.067295</td>\n",
       "      <td>0.122730</td>\n",
       "      <td>0.059005</td>\n",
       "      <td>0.059005</td>\n",
       "      <td>0.032353</td>\n",
       "      <td>2.518153e-09</td>\n",
       "      <td>0.032353</td>\n",
       "      <td>0.092048</td>\n",
       "      <td>0.100943</td>\n",
       "      <td>0.092048</td>\n",
       "    </tr>\n",
       "    <tr>\n",
       "      <th>7</th>\n",
       "      <td>0.022685</td>\n",
       "      <td>8.066489e-08</td>\n",
       "      <td>0.013524</td>\n",
       "      <td>0.022685</td>\n",
       "      <td>0.012679</td>\n",
       "      <td>0.000000</td>\n",
       "      <td>0.085068</td>\n",
       "      <td>4.292810e-08</td>\n",
       "      <td>0.012679</td>\n",
       "      <td>0.000013</td>\n",
       "      <td>...</td>\n",
       "      <td>0.043955</td>\n",
       "      <td>0.147452</td>\n",
       "      <td>0.070890</td>\n",
       "      <td>0.070890</td>\n",
       "      <td>0.021132</td>\n",
       "      <td>1.386566e-10</td>\n",
       "      <td>0.021132</td>\n",
       "      <td>0.110589</td>\n",
       "      <td>0.065932</td>\n",
       "      <td>0.110589</td>\n",
       "    </tr>\n",
       "    <tr>\n",
       "      <th>8</th>\n",
       "      <td>0.022685</td>\n",
       "      <td>8.066489e-08</td>\n",
       "      <td>0.013524</td>\n",
       "      <td>0.022685</td>\n",
       "      <td>0.012679</td>\n",
       "      <td>0.085068</td>\n",
       "      <td>0.000000</td>\n",
       "      <td>4.292810e-08</td>\n",
       "      <td>0.012679</td>\n",
       "      <td>0.000013</td>\n",
       "      <td>...</td>\n",
       "      <td>0.043955</td>\n",
       "      <td>0.147452</td>\n",
       "      <td>0.070890</td>\n",
       "      <td>0.070890</td>\n",
       "      <td>0.021132</td>\n",
       "      <td>1.386566e-10</td>\n",
       "      <td>0.021132</td>\n",
       "      <td>0.110589</td>\n",
       "      <td>0.065932</td>\n",
       "      <td>0.110589</td>\n",
       "    </tr>\n",
       "    <tr>\n",
       "      <th>10</th>\n",
       "      <td>0.003509</td>\n",
       "      <td>2.122826e-05</td>\n",
       "      <td>0.003848</td>\n",
       "      <td>0.003509</td>\n",
       "      <td>0.003607</td>\n",
       "      <td>0.006579</td>\n",
       "      <td>0.006579</td>\n",
       "      <td>0.000000e+00</td>\n",
       "      <td>0.003607</td>\n",
       "      <td>0.010389</td>\n",
       "      <td>...</td>\n",
       "      <td>0.012505</td>\n",
       "      <td>0.022806</td>\n",
       "      <td>0.010964</td>\n",
       "      <td>0.010964</td>\n",
       "      <td>0.006012</td>\n",
       "      <td>6.633830e-05</td>\n",
       "      <td>0.006012</td>\n",
       "      <td>0.017104</td>\n",
       "      <td>0.018757</td>\n",
       "      <td>0.017104</td>\n",
       "    </tr>\n",
       "    <tr>\n",
       "      <th>11</th>\n",
       "      <td>0.018882</td>\n",
       "      <td>4.069336e-08</td>\n",
       "      <td>0.020706</td>\n",
       "      <td>0.018882</td>\n",
       "      <td>0.038824</td>\n",
       "      <td>0.035403</td>\n",
       "      <td>0.035403</td>\n",
       "      <td>6.572381e-08</td>\n",
       "      <td>0.000000</td>\n",
       "      <td>0.000020</td>\n",
       "      <td>...</td>\n",
       "      <td>0.067295</td>\n",
       "      <td>0.122730</td>\n",
       "      <td>0.059005</td>\n",
       "      <td>0.059005</td>\n",
       "      <td>0.032353</td>\n",
       "      <td>2.518153e-09</td>\n",
       "      <td>0.032353</td>\n",
       "      <td>0.092048</td>\n",
       "      <td>0.100943</td>\n",
       "      <td>0.092048</td>\n",
       "    </tr>\n",
       "    <tr>\n",
       "      <th>13</th>\n",
       "      <td>0.004080</td>\n",
       "      <td>2.468483e-05</td>\n",
       "      <td>0.004474</td>\n",
       "      <td>0.004080</td>\n",
       "      <td>0.004194</td>\n",
       "      <td>0.007650</td>\n",
       "      <td>0.007650</td>\n",
       "      <td>3.986845e-05</td>\n",
       "      <td>0.004194</td>\n",
       "      <td>0.000000</td>\n",
       "      <td>...</td>\n",
       "      <td>0.014541</td>\n",
       "      <td>0.026519</td>\n",
       "      <td>0.012750</td>\n",
       "      <td>0.012750</td>\n",
       "      <td>0.006991</td>\n",
       "      <td>1.527527e-06</td>\n",
       "      <td>0.006991</td>\n",
       "      <td>0.019889</td>\n",
       "      <td>0.021811</td>\n",
       "      <td>0.019889</td>\n",
       "    </tr>\n",
       "    <tr>\n",
       "      <th>14</th>\n",
       "      <td>0.000477</td>\n",
       "      <td>6.322000e-02</td>\n",
       "      <td>0.005726</td>\n",
       "      <td>0.000477</td>\n",
       "      <td>0.004185</td>\n",
       "      <td>0.000697</td>\n",
       "      <td>0.000697</td>\n",
       "      <td>3.977549e-05</td>\n",
       "      <td>0.004185</td>\n",
       "      <td>0.012052</td>\n",
       "      <td>...</td>\n",
       "      <td>0.001762</td>\n",
       "      <td>0.000294</td>\n",
       "      <td>0.000294</td>\n",
       "      <td>0.000294</td>\n",
       "      <td>0.001762</td>\n",
       "      <td>2.791262e-06</td>\n",
       "      <td>0.001762</td>\n",
       "      <td>0.000147</td>\n",
       "      <td>0.001762</td>\n",
       "      <td>0.000147</td>\n",
       "    </tr>\n",
       "  </tbody>\n",
       "</table>\n",
       "<p>11 rows × 26 columns</p>\n",
       "</div>"
      ],
      "text/plain": [
       "          1             2         3         4         6         7         8   \\\n",
       "1   0.000000  1.383746e-07  0.023200  0.077829  0.018560  0.062263  0.062263   \n",
       "2   0.000199  0.000000e+00  0.002390  0.000199  0.001912  0.000319  0.000319   \n",
       "3   0.032390  6.980643e-08  0.000000  0.032390  0.028416  0.051824  0.051824   \n",
       "4   0.077829  1.383746e-07  0.023200  0.000000  0.018560  0.062263  0.062263   \n",
       "6   0.018882  4.069336e-08  0.020706  0.018882  0.000000  0.035403  0.035403   \n",
       "7   0.022685  8.066489e-08  0.013524  0.022685  0.012679  0.000000  0.085068   \n",
       "8   0.022685  8.066489e-08  0.013524  0.022685  0.012679  0.085068  0.000000   \n",
       "10  0.003509  2.122826e-05  0.003848  0.003509  0.003607  0.006579  0.006579   \n",
       "11  0.018882  4.069336e-08  0.020706  0.018882  0.038824  0.035403  0.035403   \n",
       "13  0.004080  2.468483e-05  0.004474  0.004080  0.004194  0.007650  0.007650   \n",
       "14  0.000477  6.322000e-02  0.005726  0.000477  0.004185  0.000697  0.000697   \n",
       "\n",
       "              10        11        13    ...           21        22        23  \\\n",
       "1   6.283943e-08  0.018560  0.000019    ...     0.037120  0.124526  0.015566   \n",
       "2   1.817290e-05  0.001912  0.005506    ...     0.003824  0.000637  0.000080   \n",
       "3   9.620846e-08  0.028416  0.000029    ...     0.056832  0.103648  0.012956   \n",
       "4   6.283943e-08  0.018560  0.000019    ...     0.037120  0.124526  0.015566   \n",
       "6   6.572381e-08  0.038824  0.000020    ...     0.067295  0.122730  0.059005   \n",
       "7   4.292810e-08  0.012679  0.000013    ...     0.043955  0.147452  0.070890   \n",
       "8   4.292810e-08  0.012679  0.000013    ...     0.043955  0.147452  0.070890   \n",
       "10  0.000000e+00  0.003607  0.010389    ...     0.012505  0.022806  0.010964   \n",
       "11  6.572381e-08  0.000000  0.000020    ...     0.067295  0.122730  0.059005   \n",
       "13  3.986845e-05  0.004194  0.000000    ...     0.014541  0.026519  0.012750   \n",
       "14  3.977549e-05  0.004185  0.012052    ...     0.001762  0.000294  0.000294   \n",
       "\n",
       "          24        25            26        27        28        29        30  \n",
       "1   0.015566  0.004640  3.044546e-11  0.004640  0.077829  0.046400  0.077829  \n",
       "2   0.000080  0.000478  7.572042e-07  0.000478  0.000398  0.004780  0.000398  \n",
       "3   0.012956  0.007104  5.529222e-10  0.007104  0.064780  0.071040  0.064780  \n",
       "4   0.015566  0.004640  3.044546e-11  0.004640  0.077829  0.046400  0.077829  \n",
       "6   0.059005  0.032353  2.518153e-09  0.032353  0.092048  0.100943  0.092048  \n",
       "7   0.070890  0.021132  1.386566e-10  0.021132  0.110589  0.065932  0.110589  \n",
       "8   0.070890  0.021132  1.386566e-10  0.021132  0.110589  0.065932  0.110589  \n",
       "10  0.010964  0.006012  6.633830e-05  0.006012  0.017104  0.018757  0.017104  \n",
       "11  0.059005  0.032353  2.518153e-09  0.032353  0.092048  0.100943  0.092048  \n",
       "13  0.012750  0.006991  1.527527e-06  0.006991  0.019889  0.021811  0.019889  \n",
       "14  0.000294  0.001762  2.791262e-06  0.001762  0.000147  0.001762  0.000147  \n",
       "\n",
       "[11 rows x 26 columns]"
      ]
     },
     "execution_count": 131,
     "metadata": {},
     "output_type": "execute_result"
    }
   ],
   "source": [
    "poi_logtransmat.head(11)"
   ]
  },
  {
   "cell_type": "markdown",
   "metadata": {},
   "source": [
    "Normalise and compute log probability."
   ]
  },
  {
   "cell_type": "code",
   "execution_count": 132,
   "metadata": {
    "collapsed": true
   },
   "outputs": [],
   "source": [
    "for p1 in poi_logtransmat.index:\n",
    "    rowsum = poi_logtransmat.loc[p1].sum()\n",
    "    assert(rowsum > 0)\n",
    "    logrowsum = np.log10(rowsum)\n",
    "    for p2 in poi_logtransmat.columns:\n",
    "        if p1 == p2:\n",
    "            poi_logtransmat.loc[p1, p2] = -np.inf  # deal with log(0) explicitly\n",
    "        else:\n",
    "            poi_logtransmat.loc[p1, p2] = np.log10(poi_logtransmat.loc[p1, p2]) - logrowsum"
   ]
  },
  {
   "cell_type": "code",
   "execution_count": 133,
   "metadata": {
    "collapsed": false
   },
   "outputs": [
    {
     "data": {
      "text/html": [
       "<div>\n",
       "<table border=\"1\" class=\"dataframe\">\n",
       "  <thead>\n",
       "    <tr style=\"text-align: right;\">\n",
       "      <th></th>\n",
       "      <th>1</th>\n",
       "      <th>2</th>\n",
       "      <th>3</th>\n",
       "      <th>4</th>\n",
       "      <th>6</th>\n",
       "      <th>7</th>\n",
       "      <th>8</th>\n",
       "      <th>10</th>\n",
       "      <th>11</th>\n",
       "      <th>13</th>\n",
       "      <th>...</th>\n",
       "      <th>21</th>\n",
       "      <th>22</th>\n",
       "      <th>23</th>\n",
       "      <th>24</th>\n",
       "      <th>25</th>\n",
       "      <th>26</th>\n",
       "      <th>27</th>\n",
       "      <th>28</th>\n",
       "      <th>29</th>\n",
       "      <th>30</th>\n",
       "    </tr>\n",
       "  </thead>\n",
       "  <tbody>\n",
       "    <tr>\n",
       "      <th>1</th>\n",
       "      <td>-inf</td>\n",
       "      <td>-6.805841</td>\n",
       "      <td>-1.581405</td>\n",
       "      <td>-1.055758</td>\n",
       "      <td>-1.678315</td>\n",
       "      <td>-1.152668</td>\n",
       "      <td>-1.152668</td>\n",
       "      <td>-7.148665</td>\n",
       "      <td>-1.678315</td>\n",
       "      <td>-4.667222</td>\n",
       "      <td>...</td>\n",
       "      <td>-1.377285</td>\n",
       "      <td>-0.851638</td>\n",
       "      <td>-1.754728</td>\n",
       "      <td>-1.754728</td>\n",
       "      <td>-2.280375</td>\n",
       "      <td>-10.463374</td>\n",
       "      <td>-2.280375</td>\n",
       "      <td>-1.055758</td>\n",
       "      <td>-1.280375</td>\n",
       "      <td>-1.055758</td>\n",
       "    </tr>\n",
       "    <tr>\n",
       "      <th>2</th>\n",
       "      <td>-2.710935</td>\n",
       "      <td>-inf</td>\n",
       "      <td>-1.631754</td>\n",
       "      <td>-2.710935</td>\n",
       "      <td>-1.728664</td>\n",
       "      <td>-2.506815</td>\n",
       "      <td>-2.506815</td>\n",
       "      <td>-3.750714</td>\n",
       "      <td>-1.728664</td>\n",
       "      <td>-1.269272</td>\n",
       "      <td>...</td>\n",
       "      <td>-1.427634</td>\n",
       "      <td>-2.205785</td>\n",
       "      <td>-3.108875</td>\n",
       "      <td>-3.108875</td>\n",
       "      <td>-2.330724</td>\n",
       "      <td>-5.130925</td>\n",
       "      <td>-2.330724</td>\n",
       "      <td>-2.409905</td>\n",
       "      <td>-1.330724</td>\n",
       "      <td>-2.409905</td>\n",
       "    </tr>\n",
       "    <tr>\n",
       "      <th>3</th>\n",
       "      <td>-1.397011</td>\n",
       "      <td>-7.063525</td>\n",
       "      <td>-inf</td>\n",
       "      <td>-1.397011</td>\n",
       "      <td>-1.453858</td>\n",
       "      <td>-1.192891</td>\n",
       "      <td>-1.192891</td>\n",
       "      <td>-6.924208</td>\n",
       "      <td>-1.453858</td>\n",
       "      <td>-4.442765</td>\n",
       "      <td>...</td>\n",
       "      <td>-1.152828</td>\n",
       "      <td>-0.891861</td>\n",
       "      <td>-1.794951</td>\n",
       "      <td>-1.794951</td>\n",
       "      <td>-2.055918</td>\n",
       "      <td>-9.164757</td>\n",
       "      <td>-2.055918</td>\n",
       "      <td>-1.095981</td>\n",
       "      <td>-1.055918</td>\n",
       "      <td>-1.095981</td>\n",
       "    </tr>\n",
       "    <tr>\n",
       "      <th>4</th>\n",
       "      <td>-1.055758</td>\n",
       "      <td>-6.805841</td>\n",
       "      <td>-1.581405</td>\n",
       "      <td>-inf</td>\n",
       "      <td>-1.678315</td>\n",
       "      <td>-1.152668</td>\n",
       "      <td>-1.152668</td>\n",
       "      <td>-7.148665</td>\n",
       "      <td>-1.678315</td>\n",
       "      <td>-4.667222</td>\n",
       "      <td>...</td>\n",
       "      <td>-1.377285</td>\n",
       "      <td>-0.851638</td>\n",
       "      <td>-1.754728</td>\n",
       "      <td>-1.754728</td>\n",
       "      <td>-2.280375</td>\n",
       "      <td>-10.463374</td>\n",
       "      <td>-2.280375</td>\n",
       "      <td>-1.055758</td>\n",
       "      <td>-1.280375</td>\n",
       "      <td>-1.055758</td>\n",
       "    </tr>\n",
       "    <tr>\n",
       "      <th>6</th>\n",
       "      <td>-1.678941</td>\n",
       "      <td>-7.345455</td>\n",
       "      <td>-1.638878</td>\n",
       "      <td>-1.678941</td>\n",
       "      <td>-inf</td>\n",
       "      <td>-1.405940</td>\n",
       "      <td>-1.405940</td>\n",
       "      <td>-7.137256</td>\n",
       "      <td>-1.365877</td>\n",
       "      <td>-4.655814</td>\n",
       "      <td>...</td>\n",
       "      <td>-1.126994</td>\n",
       "      <td>-0.866028</td>\n",
       "      <td>-1.184091</td>\n",
       "      <td>-1.184091</td>\n",
       "      <td>-1.445058</td>\n",
       "      <td>-8.553897</td>\n",
       "      <td>-1.445058</td>\n",
       "      <td>-0.990967</td>\n",
       "      <td>-0.950903</td>\n",
       "      <td>-0.990967</td>\n",
       "    </tr>\n",
       "    <tr>\n",
       "      <th>7</th>\n",
       "      <td>-1.609350</td>\n",
       "      <td>-7.058403</td>\n",
       "      <td>-1.833968</td>\n",
       "      <td>-1.609350</td>\n",
       "      <td>-1.861996</td>\n",
       "      <td>-inf</td>\n",
       "      <td>-1.035319</td>\n",
       "      <td>-7.332346</td>\n",
       "      <td>-1.861996</td>\n",
       "      <td>-4.850903</td>\n",
       "      <td>...</td>\n",
       "      <td>-1.322084</td>\n",
       "      <td>-0.796437</td>\n",
       "      <td>-1.114500</td>\n",
       "      <td>-1.114500</td>\n",
       "      <td>-1.640148</td>\n",
       "      <td>-9.823147</td>\n",
       "      <td>-1.640148</td>\n",
       "      <td>-0.921376</td>\n",
       "      <td>-1.145993</td>\n",
       "      <td>-0.921376</td>\n",
       "    </tr>\n",
       "    <tr>\n",
       "      <th>8</th>\n",
       "      <td>-1.609350</td>\n",
       "      <td>-7.058403</td>\n",
       "      <td>-1.833968</td>\n",
       "      <td>-1.609350</td>\n",
       "      <td>-1.861996</td>\n",
       "      <td>-1.035319</td>\n",
       "      <td>-inf</td>\n",
       "      <td>-7.332346</td>\n",
       "      <td>-1.861996</td>\n",
       "      <td>-4.850903</td>\n",
       "      <td>...</td>\n",
       "      <td>-1.322084</td>\n",
       "      <td>-0.796437</td>\n",
       "      <td>-1.114500</td>\n",
       "      <td>-1.114500</td>\n",
       "      <td>-1.640148</td>\n",
       "      <td>-9.823147</td>\n",
       "      <td>-1.640148</td>\n",
       "      <td>-0.921376</td>\n",
       "      <td>-1.145993</td>\n",
       "      <td>-0.921376</td>\n",
       "    </tr>\n",
       "    <tr>\n",
       "      <th>10</th>\n",
       "      <td>-1.818738</td>\n",
       "      <td>-4.036953</td>\n",
       "      <td>-1.778675</td>\n",
       "      <td>-1.818738</td>\n",
       "      <td>-1.806703</td>\n",
       "      <td>-1.545737</td>\n",
       "      <td>-1.545737</td>\n",
       "      <td>-inf</td>\n",
       "      <td>-1.806703</td>\n",
       "      <td>-1.347311</td>\n",
       "      <td>...</td>\n",
       "      <td>-1.266791</td>\n",
       "      <td>-1.005825</td>\n",
       "      <td>-1.323888</td>\n",
       "      <td>-1.323888</td>\n",
       "      <td>-1.584855</td>\n",
       "      <td>-3.542103</td>\n",
       "      <td>-1.584855</td>\n",
       "      <td>-1.130764</td>\n",
       "      <td>-1.090700</td>\n",
       "      <td>-1.130764</td>\n",
       "    </tr>\n",
       "    <tr>\n",
       "      <th>11</th>\n",
       "      <td>-1.678941</td>\n",
       "      <td>-7.345455</td>\n",
       "      <td>-1.638878</td>\n",
       "      <td>-1.678941</td>\n",
       "      <td>-1.365877</td>\n",
       "      <td>-1.405940</td>\n",
       "      <td>-1.405940</td>\n",
       "      <td>-7.137256</td>\n",
       "      <td>-inf</td>\n",
       "      <td>-4.655814</td>\n",
       "      <td>...</td>\n",
       "      <td>-1.126994</td>\n",
       "      <td>-0.866028</td>\n",
       "      <td>-1.184091</td>\n",
       "      <td>-1.184091</td>\n",
       "      <td>-1.445058</td>\n",
       "      <td>-8.553897</td>\n",
       "      <td>-1.445058</td>\n",
       "      <td>-0.990967</td>\n",
       "      <td>-0.950903</td>\n",
       "      <td>-0.990967</td>\n",
       "    </tr>\n",
       "    <tr>\n",
       "      <th>13</th>\n",
       "      <td>-1.798706</td>\n",
       "      <td>-4.016920</td>\n",
       "      <td>-1.758642</td>\n",
       "      <td>-1.798706</td>\n",
       "      <td>-1.786671</td>\n",
       "      <td>-1.525704</td>\n",
       "      <td>-1.525704</td>\n",
       "      <td>-3.808721</td>\n",
       "      <td>-1.786671</td>\n",
       "      <td>-inf</td>\n",
       "      <td>...</td>\n",
       "      <td>-1.246759</td>\n",
       "      <td>-0.985792</td>\n",
       "      <td>-1.303856</td>\n",
       "      <td>-1.303856</td>\n",
       "      <td>-1.564822</td>\n",
       "      <td>-5.225362</td>\n",
       "      <td>-1.564822</td>\n",
       "      <td>-1.110731</td>\n",
       "      <td>-1.070668</td>\n",
       "      <td>-1.110731</td>\n",
       "    </tr>\n",
       "    <tr>\n",
       "      <th>14</th>\n",
       "      <td>-2.385584</td>\n",
       "      <td>-0.263434</td>\n",
       "      <td>-1.306403</td>\n",
       "      <td>-2.385584</td>\n",
       "      <td>-1.442623</td>\n",
       "      <td>-2.220774</td>\n",
       "      <td>-2.220774</td>\n",
       "      <td>-3.464673</td>\n",
       "      <td>-1.442623</td>\n",
       "      <td>-0.983230</td>\n",
       "      <td>...</td>\n",
       "      <td>-1.818286</td>\n",
       "      <td>-2.596438</td>\n",
       "      <td>-2.596438</td>\n",
       "      <td>-2.596438</td>\n",
       "      <td>-1.818286</td>\n",
       "      <td>-4.618488</td>\n",
       "      <td>-1.818286</td>\n",
       "      <td>-2.897468</td>\n",
       "      <td>-1.818286</td>\n",
       "      <td>-2.897468</td>\n",
       "    </tr>\n",
       "  </tbody>\n",
       "</table>\n",
       "<p>11 rows × 26 columns</p>\n",
       "</div>"
      ],
      "text/plain": [
       "          1         2         3         4         6         7         8   \\\n",
       "1       -inf -6.805841 -1.581405 -1.055758 -1.678315 -1.152668 -1.152668   \n",
       "2  -2.710935      -inf -1.631754 -2.710935 -1.728664 -2.506815 -2.506815   \n",
       "3  -1.397011 -7.063525      -inf -1.397011 -1.453858 -1.192891 -1.192891   \n",
       "4  -1.055758 -6.805841 -1.581405      -inf -1.678315 -1.152668 -1.152668   \n",
       "6  -1.678941 -7.345455 -1.638878 -1.678941      -inf -1.405940 -1.405940   \n",
       "7  -1.609350 -7.058403 -1.833968 -1.609350 -1.861996      -inf -1.035319   \n",
       "8  -1.609350 -7.058403 -1.833968 -1.609350 -1.861996 -1.035319      -inf   \n",
       "10 -1.818738 -4.036953 -1.778675 -1.818738 -1.806703 -1.545737 -1.545737   \n",
       "11 -1.678941 -7.345455 -1.638878 -1.678941 -1.365877 -1.405940 -1.405940   \n",
       "13 -1.798706 -4.016920 -1.758642 -1.798706 -1.786671 -1.525704 -1.525704   \n",
       "14 -2.385584 -0.263434 -1.306403 -2.385584 -1.442623 -2.220774 -2.220774   \n",
       "\n",
       "          10        11        13    ...           21        22        23  \\\n",
       "1  -7.148665 -1.678315 -4.667222    ...    -1.377285 -0.851638 -1.754728   \n",
       "2  -3.750714 -1.728664 -1.269272    ...    -1.427634 -2.205785 -3.108875   \n",
       "3  -6.924208 -1.453858 -4.442765    ...    -1.152828 -0.891861 -1.794951   \n",
       "4  -7.148665 -1.678315 -4.667222    ...    -1.377285 -0.851638 -1.754728   \n",
       "6  -7.137256 -1.365877 -4.655814    ...    -1.126994 -0.866028 -1.184091   \n",
       "7  -7.332346 -1.861996 -4.850903    ...    -1.322084 -0.796437 -1.114500   \n",
       "8  -7.332346 -1.861996 -4.850903    ...    -1.322084 -0.796437 -1.114500   \n",
       "10      -inf -1.806703 -1.347311    ...    -1.266791 -1.005825 -1.323888   \n",
       "11 -7.137256      -inf -4.655814    ...    -1.126994 -0.866028 -1.184091   \n",
       "13 -3.808721 -1.786671      -inf    ...    -1.246759 -0.985792 -1.303856   \n",
       "14 -3.464673 -1.442623 -0.983230    ...    -1.818286 -2.596438 -2.596438   \n",
       "\n",
       "          24        25         26        27        28        29        30  \n",
       "1  -1.754728 -2.280375 -10.463374 -2.280375 -1.055758 -1.280375 -1.055758  \n",
       "2  -3.108875 -2.330724  -5.130925 -2.330724 -2.409905 -1.330724 -2.409905  \n",
       "3  -1.794951 -2.055918  -9.164757 -2.055918 -1.095981 -1.055918 -1.095981  \n",
       "4  -1.754728 -2.280375 -10.463374 -2.280375 -1.055758 -1.280375 -1.055758  \n",
       "6  -1.184091 -1.445058  -8.553897 -1.445058 -0.990967 -0.950903 -0.990967  \n",
       "7  -1.114500 -1.640148  -9.823147 -1.640148 -0.921376 -1.145993 -0.921376  \n",
       "8  -1.114500 -1.640148  -9.823147 -1.640148 -0.921376 -1.145993 -0.921376  \n",
       "10 -1.323888 -1.584855  -3.542103 -1.584855 -1.130764 -1.090700 -1.130764  \n",
       "11 -1.184091 -1.445058  -8.553897 -1.445058 -0.990967 -0.950903 -0.990967  \n",
       "13 -1.303856 -1.564822  -5.225362 -1.564822 -1.110731 -1.070668 -1.110731  \n",
       "14 -2.596438 -1.818286  -4.618488 -1.818286 -2.897468 -1.818286 -2.897468  \n",
       "\n",
       "[11 rows x 26 columns]"
      ]
     },
     "execution_count": 133,
     "metadata": {},
     "output_type": "execute_result"
    }
   ],
   "source": [
    "poi_logtransmat.head(11)"
   ]
  },
  {
   "cell_type": "markdown",
   "metadata": {},
   "source": [
    "Plot transition matrix heatmap."
   ]
  },
  {
   "cell_type": "code",
   "execution_count": 134,
   "metadata": {
    "collapsed": false
   },
   "outputs": [],
   "source": [
    "prob_mat = np.power(10, poi_logtransmat)"
   ]
  },
  {
   "cell_type": "code",
   "execution_count": 135,
   "metadata": {
    "collapsed": false
   },
   "outputs": [
    {
     "data": {
      "text/plain": [
       "<matplotlib.axes._subplots.AxesSubplot at 0x7fb3406fd400>"
      ]
     },
     "execution_count": 135,
     "metadata": {},
     "output_type": "execute_result"
    },
    {
     "data": {
      "image/png": "[encoded data removed]",
      "text/plain": [
       "<matplotlib.figure.Figure at 0x7fb3407597f0>"
      ]
     },
     "metadata": {},
     "output_type": "display_data"
    }
   ],
   "source": [
    "plt.figure(figsize=[13, 10])\n",
    "#plt.imshow(prob_mat, interpolation='none', cmap=plt.cm.hot)  # OK\n",
    "#ticks = prob_mat.index\n",
    "#plt.xticks(np.arange(prob_mat.shape[0]), ticks)\n",
    "#plt.yticks(np.arange(prob_mat.shape[0]), ticks)\n",
    "#plt.xlabel('POI ID')\n",
    "#plt.ylabel('POI ID')\n",
    "sns.heatmap(prob_mat)"
   ]
  },
  {
   "cell_type": "code",
   "execution_count": 136,
   "metadata": {
    "collapsed": false
   },
   "outputs": [
    {
     "data": {
      "text/plain": [
       "0.36086360045579829"
      ]
     },
     "execution_count": 136,
     "metadata": {},
     "output_type": "execute_result"
    }
   ],
   "source": [
    "prob_mat.loc[2, 17]"
   ]
  },
  {
   "cell_type": "code",
   "execution_count": 137,
   "metadata": {
    "collapsed": false
   },
   "outputs": [
    {
     "data": {
      "text/plain": [
       "0.54521286799137902"
      ]
     },
     "execution_count": 137,
     "metadata": {},
     "output_type": "execute_result"
    }
   ],
   "source": [
    "prob_mat.loc[14, 2]"
   ]
  },
  {
   "cell_type": "code",
   "execution_count": 138,
   "metadata": {
    "collapsed": false
   },
   "outputs": [
    {
     "data": {
      "text/plain": [
       "0.54521286799137902"
      ]
     },
     "execution_count": 138,
     "metadata": {},
     "output_type": "execute_result"
    }
   ],
   "source": [
    "prob_mat.loc[17, 2]"
   ]
  },
  {
   "cell_type": "code",
   "execution_count": 139,
   "metadata": {
    "collapsed": false
   },
   "outputs": [
    {
     "data": {
      "text/plain": [
       "0.00011911632032618286"
      ]
     },
     "execution_count": 139,
     "metadata": {},
     "output_type": "execute_result"
    }
   ],
   "source": [
    "prob_mat.loc[27, 19]"
   ]
  },
  {
   "cell_type": "code",
   "execution_count": 140,
   "metadata": {
    "collapsed": false
   },
   "outputs": [
    {
     "data": {
      "text/plain": [
       "0.072604010374794747"
      ]
     },
     "execution_count": 140,
     "metadata": {},
     "output_type": "execute_result"
    }
   ],
   "source": [
    "prob_mat.loc[15, 19]"
   ]
  },
  {
   "cell_type": "code",
   "execution_count": 141,
   "metadata": {
    "collapsed": false
   },
   "outputs": [
    {
     "data": {
      "text/html": [
       "<div>\n",
       "<table border=\"1\" class=\"dataframe\">\n",
       "  <thead>\n",
       "    <tr style=\"text-align: right;\">\n",
       "      <th></th>\n",
       "      <th>poiTheme</th>\n",
       "      <th>poiFreq</th>\n",
       "      <th>poiLon</th>\n",
       "      <th>poiLat</th>\n",
       "    </tr>\n",
       "    <tr>\n",
       "      <th>poiID</th>\n",
       "      <th></th>\n",
       "      <th></th>\n",
       "      <th></th>\n",
       "      <th></th>\n",
       "    </tr>\n",
       "  </thead>\n",
       "  <tbody>\n",
       "    <tr>\n",
       "      <th>2</th>\n",
       "      <td>Sport</td>\n",
       "      <td>609</td>\n",
       "      <td>-79.418634</td>\n",
       "      <td>43.632772</td>\n",
       "    </tr>\n",
       "    <tr>\n",
       "      <th>17</th>\n",
       "      <td>Amusement</td>\n",
       "      <td>808</td>\n",
       "      <td>-79.416011</td>\n",
       "      <td>43.632563</td>\n",
       "    </tr>\n",
       "  </tbody>\n",
       "</table>\n",
       "</div>"
      ],
      "text/plain": [
       "        poiTheme  poiFreq     poiLon     poiLat\n",
       "poiID                                          \n",
       "2          Sport      609 -79.418634  43.632772\n",
       "17     Amusement      808 -79.416011  43.632563"
      ]
     },
     "execution_count": 141,
     "metadata": {},
     "output_type": "execute_result"
    }
   ],
   "source": [
    "poi_all.loc[[2, 17]]"
   ]
  },
  {
   "cell_type": "code",
   "execution_count": 142,
   "metadata": {
    "collapsed": false
   },
   "outputs": [
    {
     "name": "stdout",
     "output_type": "stream",
     "text": [
      "Distance between POI 2 and 17 is 0.212 km.\n"
     ]
    }
   ],
   "source": [
    "d_ = calc_dist(poi_all.loc[2, 'poiLon'], poi_all.loc[2, 'poiLat'], poi_all.loc[17, 'poiLon'], poi_all.loc[17, 'poiLat'])\n",
    "print('Distance between POI %d and %d is %.3f km.' % (2, 17, d_))"
   ]
  },
  {
   "cell_type": "markdown",
   "metadata": {},
   "source": [
    "Combine the above steps."
   ]
  },
  {
   "cell_type": "code",
   "execution_count": 143,
   "metadata": {
    "collapsed": true
   },
   "outputs": [],
   "source": [
    "def gen_poi_logtransmat(seqid_set, seq_all, poi_info, nbins_pop=2, nbins_visit=2, nbins_duration=2, nclusters=5):\n",
    "    transmat_cat                        = gen_transmat_cat(seqid_set, seq_all, poi_info)\n",
    "    transmat_pop,      logbins_pop      = gen_transmat_pop(seqid_set, seq_all, poi_info, nbins_pop)\n",
    "    transmat_visit,    logbins_visit    = gen_transmat_visit(seqid_set, seq_all, poi_info, nbins_visit)\n",
    "    transmat_duration, logbins_duration = gen_transmat_duration(seqid_set, seq_all, poi_info, nbins_duration)\n",
    "    transmat_neighbor, poi_clusters     = gen_transmat_neighbor(seqid_set, seq_all, poi_info, nclusters)\n",
    "\n",
    "    # Kronecker product\n",
    "    transmat_ix = list(itertools.product(transmat_cat.index, transmat_pop.index, transmat_visit.index, \\\n",
    "                                         transmat_duration.index, transmat_neighbor.index))\n",
    "    transmat_value = transmat_cat.values\n",
    "    for transmat in [transmat_pop, transmat_visit, transmat_duration, transmat_neighbor]:\n",
    "        transmat_value = kron(transmat_value, transmat.values)\n",
    "    transmat_feature = pd.DataFrame(data=transmat_value, index=transmat_ix, columns=transmat_ix)\n",
    "    \n",
    "    #poi_train = seq_all[seq_all['seqID'].isin(seqid_set)]['poiID'].unique().tolist()\n",
    "    poi_train = poi_info.index.tolist()\n",
    "    #poi_train.sort()\n",
    "    #poi_info = calc_poi_info(seqid_set, seq_all, poi_all)\n",
    "    feature_names = ['poiTheme', 'popularity', 'nVisit', 'avgDuration', 'clusterID']\n",
    "    poi_features = pd.DataFrame(data=np.zeros((len(poi_train), len(feature_names))), \\\n",
    "                                columns=feature_names, index=poi_train)\n",
    "    poi_features.index.name = 'poiID'\n",
    "    poi_features['poiTheme'] = poi_info.loc[poi_train, 'poiTheme']\n",
    "    poi_features['popularity'] = np.digitize(poi_info.loc[poi_train, 'popularity'], logbins_pop)\n",
    "    poi_features['nVisit'] = np.digitize(poi_info.loc[poi_train, 'nVisit'], logbins_visit)\n",
    "    poi_features['avgDuration'] = np.digitize(poi_info.loc[poi_train, 'avgDuration(sec)'], logbins_duration)\n",
    "    poi_features['clusterID'] = poi_clusters.loc[poi_train, 'clusterID']\n",
    "    \n",
    "    # shrink the result of Kronecker product and deal with POIs with the same features\n",
    "    poi_logtransmat = pd.DataFrame(data=np.zeros((len(poi_train), len(poi_train)), dtype=np.float), \\\n",
    "                                   columns=poi_train, index=poi_train)\n",
    "    for p1 in poi_logtransmat.index:\n",
    "        rix = tuple(poi_features.loc[p1])\n",
    "        for p2 in poi_logtransmat.columns:\n",
    "            cix = tuple(poi_features.loc[p2])\n",
    "            value_ = transmat_feature.loc[(rix,), (cix,)]\n",
    "            poi_logtransmat.loc[p1, p2] = value_.values[0, 0]\n",
    "    \n",
    "    # group POIs with the same features\n",
    "    features_dup = dict()\n",
    "    for poi in poi_features.index:\n",
    "        key = tuple(poi_features.loc[poi])\n",
    "        if key in features_dup:\n",
    "            features_dup[key].append(poi)\n",
    "        else:\n",
    "            features_dup[key] = [poi]\n",
    "            \n",
    "    # deal with POIs with the same features\n",
    "    for feature in sorted(features_dup.keys()):\n",
    "        n = len(features_dup[feature])\n",
    "        if n > 1:\n",
    "            group = features_dup[feature]\n",
    "            v1 = poi_logtransmat.loc[group[0], group[0]]  # transition value of self-loop of POI group\n",
    "            \n",
    "            # divide incoming transition value (i.e. unnormalised transition probability) uniformly among group members\n",
    "            for poi in group:\n",
    "                poi_logtransmat[poi] /= n\n",
    "                \n",
    "            # outgoing transition value has already been duplicated (value copied above)\n",
    "            \n",
    "            # duplicate & divide transition value of self-loop of POI group uniformly among all outgoing transitions,\n",
    "            # from a POI to all other POIs in the same group (excluding POI self-loop)\n",
    "            v2 = v1 / (n - 1)\n",
    "            for pair in itertools.permutations(group, 2):\n",
    "                poi_logtransmat.loc[pair[0], pair[1]] = v2\n",
    "                            \n",
    "    # normalise each row\n",
    "    for p1 in poi_logtransmat.index:\n",
    "        poi_logtransmat.loc[p1, p1] = 0\n",
    "        rowsum = poi_logtransmat.loc[p1].sum()\n",
    "        assert(rowsum > 0)\n",
    "        logrowsum = np.log10(rowsum)\n",
    "        for p2 in poi_logtransmat.columns:\n",
    "            if p1 == p2:\n",
    "                poi_logtransmat.loc[p1, p2] = -np.inf  # deal with log(0) explicitly\n",
    "            else:\n",
    "                poi_logtransmat.loc[p1, p2] = np.log10(poi_logtransmat.loc[p1, p2]) - logrowsum\n",
    "    return poi_logtransmat"
   ]
  },
  {
   "cell_type": "markdown",
   "metadata": {},
   "source": [
    "<a id='sec4'></a>"
   ]
  },
  {
   "cell_type": "markdown",
   "metadata": {},
   "source": [
    "# 4. Combine Ranking with Factorised Markov Chain to Recommend"
   ]
  },
  {
   "cell_type": "markdown",
   "metadata": {},
   "source": [
    "NOTE that:\n",
    "- Ranking is over POIs (in POI space)\n",
    "- Transition probabilities of Markov Chain of POI features (in POI feature space)"
   ]
  },
  {
   "cell_type": "markdown",
   "metadata": {},
   "source": [
    "Two approaches to combine ranking with MC:\n",
    "- recommend trajectory in POI space: \n",
    "  - transform transition matrix of feature vector into transition matrix of POIs,\n",
    "  - recommend a sequence of POIs.\n",
    "- recommend trajectory in POI feature space: \n",
    "  - transform ranking probability of POIs into ranking probability of POI features,\n",
    "  - recommend a sequence of features, \n",
    "  - transform the squence of features into a sequence of POIs."
   ]
  },
  {
   "cell_type": "markdown",
   "metadata": {},
   "source": [
    "Here we implement the first approach, i.e., recommend trajectory in POI space."
   ]
  },
  {
   "cell_type": "markdown",
   "metadata": {},
   "source": [
    "Two methods for recommendation:\n",
    "- find a simple path with maximum objective in a digraph. (by negating log probabilities, it can be reduced to a finding shortest path will $k$-edges, which is probably NP-hard as it is the same as TSP when $L=|P|$, dynamic programming can be used for non-simple path.)\n",
    "- make greedy choice (of POI or POI feature vector) step-by-step"
   ]
  },
  {
   "cell_type": "markdown",
   "metadata": {},
   "source": [
    "Here we use dynamic programming to find a possibly non-simple path."
   ]
  },
  {
   "cell_type": "code",
   "execution_count": 144,
   "metadata": {
    "collapsed": true
   },
   "outputs": [],
   "source": [
    "def find_path(V, E, ps, pe, L):\n",
    "    assert(isinstance(V, pd.DataFrame))\n",
    "    assert(isinstance(E, pd.DataFrame))\n",
    "    assert(ps in V.index)\n",
    "    assert(pe in V.index)\n",
    "    assert(2 < L <= V.index.shape[0])\n",
    "    \n",
    "    A = pd.DataFrame(data=np.zeros((L-1, V.shape[0]), dtype=np.float), columns=V.index, index=np.arange(2, L+1))\n",
    "    B = pd.DataFrame(data=np.zeros((L-1, V.shape[0]), dtype=np.int),   columns=V.index, index=np.arange(2, L+1))\n",
    "    A += np.inf\n",
    "    for v in V.index:\n",
    "        if v != ps:\n",
    "            A.loc[2, v] = E.loc[ps, v] + V.loc[ps, 'weight'] + V.loc[v, 'weight']  # ps--v\n",
    "            B.loc[2, v] = ps\n",
    "    \n",
    "    for l in range(3, L+1):\n",
    "        for v in V.index:\n",
    "            values = [A.loc[l-1, v1] + E.loc[v1, v] + V.loc[v, 'weight'] for v1 in V.index]  # ps-~-v1---v\n",
    "            minix = np.argmin(values)\n",
    "            A.loc[l, v] = values[minix]\n",
    "            B.loc[l, v] = V.index[minix]\n",
    "            \n",
    "    path = [pe]\n",
    "    v = path[-1]\n",
    "    l = L\n",
    "    #while v != ps:  #incorrect if 'ps' happens to appear in the middle of a path\n",
    "    while l >= 2:\n",
    "        path.append(B.loc[l, v])\n",
    "        v = path[-1]\n",
    "        l -= 1\n",
    "    path.reverse()\n",
    "    return path"
   ]
  },
  {
   "cell_type": "markdown",
   "metadata": {},
   "source": [
    "Find a simple path using ILP."
   ]
  },
  {
   "cell_type": "code",
   "execution_count": 145,
   "metadata": {
    "collapsed": true
   },
   "outputs": [],
   "source": [
    "def find_path_ILP(V, E, ps, pe, L):\n",
    "    assert(isinstance(V, pd.DataFrame))\n",
    "    assert(isinstance(E, pd.DataFrame))\n",
    "    assert(ps in V.index)\n",
    "    assert(pe in V.index)\n",
    "    assert(2 < L <= V.index.shape[0])\n",
    "    \n",
    "    p0 = str(ps); pN = str(pe); N = V.index.shape[0]\n",
    "    \n",
    "    # deal with np.inf which will cause ILP solver failure\n",
    "    Edges = E.copy()\n",
    "    INF = 1e6\n",
    "    for p in Edges.index:\n",
    "        Edges.loc[p, p] = INF \n",
    "    maxL = np.max(Edges.values.flatten())\n",
    "    if maxL > INF:\n",
    "        for p in Edges.index:\n",
    "            Edges.loc[p, p] = maxL    \n",
    "    \n",
    "    # REF: pythonhosted.org/PuLP/index.html\n",
    "    pois = [str(p) for p in V.index] # create a string list for each POI\n",
    "    pb = pulp.LpProblem('MostLikelyTraj', pulp.LpMinimize) # create problem\n",
    "    # visit_i_j = 1 means POI i and j are visited in sequence\n",
    "    visit_vars = pulp.LpVariable.dicts('visit', (pois, pois), 0, 1, pulp.LpInteger) \n",
    "    # a dictionary contains all dummy variables\n",
    "    dummy_vars = pulp.LpVariable.dicts('u', [x for x in pois if x != p0], 2, N, pulp.LpInteger)\n",
    "    \n",
    "    # add objective\n",
    "    objlist = [V.loc[int(p0), 'weight']]\n",
    "    for pi in [x for x in pois if x != pN]:     # from\n",
    "        for pj in [y for y in pois if y != p0]: # to\n",
    "            objlist.append(visit_vars[pi][pj] * (V.loc[int(pj), 'weight'] + Edges.loc[int(pi), int(pj)]))\n",
    "    pb += pulp.lpSum(objlist), 'Objective'\n",
    "    \n",
    "    # add constraints, each constraint should be in ONE line\n",
    "    pb += pulp.lpSum([visit_vars[p0][pj] for pj in pois if pj != p0]) == 1, 'StartAt_p0'\n",
    "    pb += pulp.lpSum([visit_vars[pi][p0] for pi in pois]) == 0, 'NoIncoming_p0'\n",
    "    pb += pulp.lpSum([visit_vars[pi][pN] for pi in pois if pi != pN]) == 1, 'EndAt_pN'\n",
    "    pb += pulp.lpSum([visit_vars[pN][pj] for pj in pois]) == 0, 'NoOutgoing_pN'\n",
    "    pb += pulp.lpSum([visit_vars[pi][pj] for pi in pois if pi != pN for pj in pois if pj != p0]) == L-1, 'Length'\n",
    "    for pk in [x for x in pois if x not in {p0, pN}]:\n",
    "        pb += pulp.lpSum([visit_vars[pi][pk] for pi in pois if pi != pN]) == \\\n",
    "              pulp.lpSum([visit_vars[pk][pj] for pj in pois if pj != p0]), 'ConnectedAt_' + pk\n",
    "        pb += pulp.lpSum([visit_vars[pi][pk] for pi in pois if pi != pN]) <= 1, 'Enter_' + pk + '_AtMostOnce'\n",
    "        pb += pulp.lpSum([visit_vars[pk][pj] for pj in pois if pj != p0]) <= 1, 'Leave_' + pk + '_AtMostOnce'\n",
    "    for pi in [x for x in pois if x != p0]:\n",
    "        for pj in [y for y in pois if y != p0]:\n",
    "            pb += dummy_vars[pi] - dummy_vars[pj] + 1 <= (N - 1) * (1 - visit_vars[pi][pj]), \\\n",
    "                    'SubTourElimination_' + pi + '_' + pj\n",
    "    #pb.writeLP(\"traj_tmp.lp\")\n",
    "    # solve problem\n",
    "    pb.solve(pulp.PULP_CBC_CMD(options=['-threads', '6', '-strategy', '1', '-maxIt', '2000000'])) # CBC\n",
    "    visit_mat = pd.DataFrame(data=np.zeros((len(pois), len(pois)), dtype=np.float), index=pois, columns=pois)\n",
    "    for pi in pois:\n",
    "        for pj in pois: visit_mat.loc[pi, pj] = visit_vars[pi][pj].varValue\n",
    "\n",
    "    # build the recommended trajectory\n",
    "    recseq = [p0]\n",
    "    while True:\n",
    "        pi = recseq[-1]\n",
    "        pj = visit_mat.loc[pi].idxmax()\n",
    "        assert(round(visit_mat.loc[pi, pj]) == 1)\n",
    "        recseq.append(pj); \n",
    "        #print(recseq); sys.stdout.flush()\n",
    "        if pj == pN: return [int(x) for x in recseq]"
   ]
  },
  {
   "cell_type": "code",
   "execution_count": 146,
   "metadata": {
    "collapsed": true
   },
   "outputs": [],
   "source": [
    "def recommend(seqid_set_train, seq_all, poi_info, query_id_dict, startPOI, endPOI, nPOI, poi_logtransmat):\n",
    "    t0 = time.time()\n",
    "    train_df = gen_train_df(seqid_set_train, seq_all, poi_info, query_id_dict)\n",
    "    ranksvm = RankSVM(ranksvm_dir, useLinear=True)\n",
    "    ranksvm.train(train_df, cost=1000)\n",
    "    test_df = gen_test_df(startPOI, endPOI, nPOI, poi_info, query_id_dict)\n",
    "    rank_df = ranksvm.predict(test_df)\n",
    "    rank_df.set_index('poiID', inplace=True)\n",
    "    #rank_df.sort_values(by='rank', ascending=False, inplace=True)\n",
    "    #t1 = time.time()\n",
    "    #print('Ranking finished in %.1f sec' % (t1 - t0)); sys.stdout.flush()\n",
    "    nodes = rank_df.copy()\n",
    "    nodes['weight'] = -np.log(nodes['probability'])  # node weight is negative log of ranking probability\n",
    "    nodes.drop('probability', axis=1, inplace=True)\n",
    "    edges = poi_logtransmat.copy()\n",
    "    edges = -1 * edges  # edge weight is negative log of transition probability\n",
    "    t1 = time.time()\n",
    "    traj1 = find_path(nodes, edges, startPOI, endPOI, nPOI)\n",
    "    t2 = time.time()\n",
    "    traj2 = find_path_ILP(nodes, edges, startPOI, endPOI, nPOI)\n",
    "    t3 = time.time()\n",
    "    #print('DP finished in %.1f sec' % (time.time() - t1)); sys.stdout.flush()\n",
    "    return traj1, traj2, (t2-t1), (t3-t2)"
   ]
  },
  {
   "cell_type": "markdown",
   "metadata": {},
   "source": [
    "Sanity check."
   ]
  },
  {
   "cell_type": "code",
   "execution_count": 147,
   "metadata": {
    "collapsed": false
   },
   "outputs": [
    {
     "data": {
      "text/plain": [
       "[30, 22, 28, 23]"
      ]
     },
     "execution_count": 147,
     "metadata": {},
     "output_type": "execute_result"
    }
   ],
   "source": [
    "test_ix = 7\n",
    "test_seq = extract_seq(seqid_set_test0[test_ix], seq_all)\n",
    "#test_seq = [22, 4, 25, 11]\n",
    "#test_seq = [11, 29, 6, 22, 7, 1, 15]\n",
    "test_seq"
   ]
  },
  {
   "cell_type": "code",
   "execution_count": 148,
   "metadata": {
    "collapsed": false
   },
   "outputs": [
    {
     "data": {
      "text/plain": [
       "([30, 23, 22, 23], [30, 22, 28, 23], 0.42436718940734863, 0.6940405368804932)"
      ]
     },
     "execution_count": 148,
     "metadata": {},
     "output_type": "execute_result"
    }
   ],
   "source": [
    "recommend(seqid_set_train0, seq_all, poi_info_t, query_id_dict, test_seq[0], test_seq[-1], len(test_seq), poi_logtransmat)"
   ]
  },
  {
   "cell_type": "markdown",
   "metadata": {},
   "source": [
    "<a id='sec5'></a>"
   ]
  },
  {
   "cell_type": "markdown",
   "metadata": {},
   "source": [
    "# 5. IJCAI15 Methods"
   ]
  },
  {
   "cell_type": "markdown",
   "metadata": {},
   "source": [
    "Evaluation metrics without considering visiting order."
   ]
  },
  {
   "cell_type": "code",
   "execution_count": 149,
   "metadata": {
    "collapsed": false
   },
   "outputs": [],
   "source": [
    "def calc_F1score(seq_act, seq_rec):#, includeStartEnd=True):\n",
    "    assert(len(seq_act) > 2)\n",
    "    assert(len(seq_rec) > 2)\n",
    "\n",
    "    act_set = set(seq_act)\n",
    "    rec_set = set(seq_rec)\n",
    "    intersect = act_set & rec_set\n",
    "    \n",
    "    recall    = len(intersect) / len(act_set) #if includeStartEnd else (len(intersect)-2) / (len(act_set)-2)\n",
    "    precision = len(intersect) / len(rec_set) #if includeStartEnd else (len(intersect)-2) / (len(rec_set)-2)\n",
    "    #F1score   = 0 if abs(precision + recall) < 1e-6 else 2. * precision * recall / (precision + recall)\n",
    "    F1score   = 2. * precision * recall / (precision + recall)\n",
    "  \n",
    "    return F1score"
   ]
  },
  {
   "cell_type": "markdown",
   "metadata": {},
   "source": [
    "The IJCAI15 approach with time-based constraint replaced with #POI visited."
   ]
  },
  {
   "cell_type": "markdown",
   "metadata": {},
   "source": [
    "Compute user interest using all trajectories from training and querying set."
   ]
  },
  {
   "cell_type": "code",
   "execution_count": 150,
   "metadata": {
    "collapsed": true
   },
   "outputs": [],
   "source": [
    "def calc_user_interest(seqid_set, seq_all, poi_all, poi_info):\n",
    "    user_interest = seq_all[seq_all['seqID'].isin(seqid_set)][['userID', 'poiID', 'poiDuration(sec)']].copy()\n",
    "    user_interest['timeRatio'] = [poi_info.loc[x, 'avgDuration(sec)'] for x in user_interest['poiID']]\n",
    "    user_interest['timeRatio'] = user_interest['poiDuration(sec)'] / user_interest['timeRatio']\n",
    "    user_interest['poiTheme'] = [poi_all.loc[x, 'poiTheme'] for x in user_interest['poiID']]\n",
    "    user_interest.drop(['poiID', 'poiDuration(sec)'], axis=1, inplace=True)\n",
    "    user_interest = user_interest.groupby(['userID', 'poiTheme']).agg([np.sum, np.size]) # the sum\n",
    "    user_interest.columns = user_interest.columns.droplevel()\n",
    "    user_interest.rename(columns={'sum':'timeBased', 'size':'freqBased'}, inplace=True)\n",
    "    user_interest.reset_index(inplace=True)\n",
    "    user_interest.set_index(['userID', 'poiTheme'], inplace=True)\n",
    "    return user_interest.copy()"
   ]
  },
  {
   "cell_type": "code",
   "execution_count": 151,
   "metadata": {
    "collapsed": true
   },
   "outputs": [],
   "source": [
    "def calc_dist_mat(poi_info):\n",
    "    poi_dist_mat = pd.DataFrame(data=np.zeros((poi_info.shape[0], poi_info.shape[0]), dtype=np.float64), \\\n",
    "                            index=poi_info.index, columns=poi_info.index)\n",
    "    for i in range(poi_info.index.shape[0]):\n",
    "        for j in range(i+1, poi_info.index.shape[0]):\n",
    "            r = poi_info.index[i]\n",
    "            c = poi_info.index[j]\n",
    "            dist = calc_dist(poi_info.loc[r, 'poiLon'], poi_info.loc[r, 'poiLat'], \\\n",
    "                             poi_info.loc[c, 'poiLon'], poi_info.loc[c, 'poiLat'])\n",
    "            assert(dist > 0.)\n",
    "            poi_dist_mat.loc[r, c] = dist\n",
    "            poi_dist_mat.loc[c, r] = dist\n",
    "    return poi_dist_mat"
   ]
  },
  {
   "cell_type": "code",
   "execution_count": 152,
   "metadata": {
    "collapsed": false
   },
   "outputs": [
    {
     "data": {
      "text/plain": [
       "(487, 2)"
      ]
     },
     "execution_count": 152,
     "metadata": {},
     "output_type": "execute_result"
    }
   ],
   "source": [
    "user_int_t = calc_user_interest(seqid_set_train0, seq_all, poi_all, poi_info_t)\n",
    "user_int_t.shape"
   ]
  },
  {
   "cell_type": "code",
   "execution_count": 153,
   "metadata": {
    "collapsed": false
   },
   "outputs": [
    {
     "data": {
      "text/plain": [
       "(26, 26)"
      ]
     },
     "execution_count": 153,
     "metadata": {},
     "output_type": "execute_result"
    }
   ],
   "source": [
    "poi_dist_mat = calc_dist_mat(poi_info_t)\n",
    "poi_dist_mat.shape"
   ]
  },
  {
   "cell_type": "markdown",
   "metadata": {},
   "source": [
    "Recommend trajectory using ILP with time-based budget constraint."
   ]
  },
  {
   "cell_type": "code",
   "execution_count": 154,
   "metadata": {
    "collapsed": true
   },
   "outputs": [],
   "source": [
    "def calc_seq_budget(user, seq, poi_info, poi_dist_mat, user_interest):\n",
    "    \"\"\"Calculate the travel budget for the given travelling sequence\"\"\"\n",
    "    assert(len(seq) > 1)\n",
    "    speed = 4  # 4km/h\n",
    "    budget = 0. # travel budget\n",
    "    for i in range(len(seq)-1):\n",
    "        px = seq[i]\n",
    "        py = seq[i+1]\n",
    "        assert(px in poi_info.index)\n",
    "        assert(py in poi_info.index)\n",
    "        budget += 60 * 60 * poi_dist_mat.loc[px, py] / speed  # travel time (seconds)\n",
    "        caty = poi_info.loc[py, 'poiTheme']\n",
    "        avgtime = poi_info.loc[py, 'avgDuration(sec)']\n",
    "        userint = 0\n",
    "        if (user, caty) in user_interest.index: userint = user_interest.loc[user, caty] # for testing set\n",
    "        budget += userint * avgtime  # expected visit duration\n",
    "    return budget"
   ]
  },
  {
   "cell_type": "code",
   "execution_count": 155,
   "metadata": {
    "collapsed": true
   },
   "outputs": [],
   "source": [
    "def recommend_ijcai_ILP1(user, budget, eta, startPOI, endPOI, poi_info, poi_dist_mat, user_interest):\n",
    "    assert(0 <= eta <= 1); assert(budget > 0)\n",
    "    speed = 4  # 4km/h\n",
    "    p0 = str(startPOI); pN = str(endPOI); N = poi_info.index.shape[0]\n",
    "    \n",
    "    # REF: pythonhosted.org/PuLP/index.html\n",
    "    pois = [str(p) for p in poi_info.index] # create a string list for each POI\n",
    "    prob = pulp.LpProblem('TourRecommendation', pulp.LpMaximize) # create problem\n",
    "    # visit_i_j = 1 means POI i and j are visited in sequence\n",
    "    visit_vars = pulp.LpVariable.dicts('visit', (pois, pois), 0, 1, pulp.LpInteger) \n",
    "    # a dictionary contains all dummy variables\n",
    "    dummy_vars = pulp.LpVariable.dicts('u', [x for x in pois if x != p0], 2, N, pulp.LpInteger)\n",
    "\n",
    "    # add objective\n",
    "    objlist = []\n",
    "    for pi in [x for x in pois if x not in {p0, pN}]:\n",
    "        for pj in [y for y in pois if y != p0]:\n",
    "            cati = poi_info.loc[int(pi), 'poiTheme']\n",
    "            userint = 0; poipop = 0\n",
    "            if (user, cati) in user_interest.index: \n",
    "                userint = user_interest.loc[user, cati]\n",
    "            if int(pi) in poi_info.index: \n",
    "                poipop = poi_info.loc[int(pi), 'popularity']\n",
    "            objlist.append(visit_vars[pi][pj] * (eta * userint + (1.-eta) * poipop))\n",
    "    prob += pulp.lpSum(objlist), 'Objective'\n",
    "    \n",
    "    # add constraints, each constraint should be in ONE line\n",
    "    prob += pulp.lpSum([visit_vars[p0][pj] for pj in pois if pj != p0]) == 1, 'StartAtp0'\n",
    "    prob += pulp.lpSum([visit_vars[pi][pN] for pi in pois if pi != pN]) == 1, 'EndAtpN'\n",
    "    for pk in [x for x in pois if x not in {p0, pN}]:\n",
    "        prob += pulp.lpSum([visit_vars[pi][pk] for pi in pois if pi != pN]) == \\\n",
    "                pulp.lpSum([visit_vars[pk][pj] for pj in pois if pj != p0]), 'ConnectedAt_' + pk\n",
    "        prob += pulp.lpSum([visit_vars[pi][pk] for pi in pois if pi != pN]) <= 1, 'Enter_' + pk + '_AtMostOnce'\n",
    "        prob += pulp.lpSum([visit_vars[pk][pj] for pj in pois if pj != p0]) <= 1, 'Leave_' + pk + '_AtMostOnce'\n",
    "    \n",
    "    costlist = []\n",
    "    for pi in [x for x in pois if x != pN]:\n",
    "        for pj in [y for y in pois if y != p0]:\n",
    "            catj = poi_info.loc[int(pj), 'poiTheme']\n",
    "            traveltime = 60 * 60 * poi_dist_mat.loc[int(pi), int(pj)] / speed # seconds\n",
    "            userint = 0; avgtime = 0\n",
    "            if (user, catj) in user_interest.index: userint = user_interest.loc[user, catj]\n",
    "            if int(pj) in poi_info.index: avgtime = poi_info.loc[int(pj), 'avgDuration(sec)']\n",
    "            costlist.append(visit_vars[pi][pj] * (traveltime + userint * avgtime))\n",
    "    prob += pulp.lpSum(costlist) <= budget, 'WithinBudget'\n",
    "    \n",
    "    for pi in [x for x in pois if x != p0]:\n",
    "        for pj in [y for y in pois if y != p0]:\n",
    "            prob += dummy_vars[pi] - dummy_vars[pj] + 1 <= (N - 1) * (1 - visit_vars[pi][pj]), \\\n",
    "                    'SubTourElimination_' + str(pi) + '_' + str(pj)\n",
    "\n",
    "    # solve problem\n",
    "    prob.solve(pulp.PULP_CBC_CMD(options=['-threads', '6', '-strategy', '1', '-maxIt', '2000000'])) # CBC\n",
    "    \n",
    "    visit_mat = pd.DataFrame(data=np.zeros((len(pois), len(pois)), dtype=np.float), index=pois, columns=pois)\n",
    "    for pi in pois:\n",
    "        for pj in pois: visit_mat.loc[pi, pj] = visit_vars[pi][pj].varValue\n",
    "\n",
    "    # build the recommended trajectory\n",
    "    recseq = [p0]\n",
    "    while True:\n",
    "        pi = recseq[-1]\n",
    "        pj = visit_mat.loc[pi].idxmax()\n",
    "        assert(round(visit_mat.loc[pi, pj]) == 1)\n",
    "        recseq.append(pj); \n",
    "        #print(recseq); sys.stdout.flush()\n",
    "        if pj == pN: return [int(x) for x in recseq]"
   ]
  },
  {
   "cell_type": "markdown",
   "metadata": {},
   "source": [
    "Recommend trajectory using ILP, replace trajectory time budget constraint with trajectory length constraint."
   ]
  },
  {
   "cell_type": "code",
   "execution_count": 156,
   "metadata": {
    "collapsed": true
   },
   "outputs": [],
   "source": [
    "def recommend_ijcai_ILP2(user, user_interest, poi_info, eta, startPOI, endPOI, nPOI):\n",
    "    assert(nPOI > 2)\n",
    "    assert(0 <= eta <= 1)\n",
    "    p0 = str(startPOI); pN = str(endPOI); N = poi_info.index.shape[0]\n",
    "    \n",
    "    # REF: pythonhosted.org/PuLP/index.html\n",
    "    pois = [str(p) for p in poi_info.index] # create a string list for each POI\n",
    "    pb = pulp.LpProblem('MostLikelyTraj', pulp.LpMaximize) # create problem\n",
    "    # visit_i_j = 1 means POI i and j are visited in sequence\n",
    "    visit_vars = pulp.LpVariable.dicts('visit', (pois, pois), 0, 1, pulp.LpInteger) \n",
    "    # a dictionary contains all dummy variables\n",
    "    dummy_vars = pulp.LpVariable.dicts('u', [x for x in pois if x != p0], 2, N, pulp.LpInteger)\n",
    "    \n",
    "    # add objective\n",
    "    objlist = []\n",
    "    for pi in [x for x in pois if x not in {p0, pN}]:\n",
    "        for pj in [y for y in pois if y != p0]:\n",
    "            cati = poi_info.loc[int(pi), 'poiTheme']\n",
    "            userint = 0; poipop = 0\n",
    "            if (user, cati) in user_interest.index: \n",
    "                userint = user_interest.loc[user, cati]\n",
    "            if int(pi) in poi_info.index: \n",
    "                #poipop = poi_info.loc[int(pi), 'nVisit']\n",
    "                poipop = poi_info.loc[int(pi), 'popularity']\n",
    "            objlist.append(visit_vars[pi][pj] * (eta * userint + (1.-eta) * poipop))\n",
    "    pb += pulp.lpSum(objlist), 'Objective'\n",
    "    \n",
    "    # add constraints, each constraint should be in ONE line\n",
    "    pb += pulp.lpSum([visit_vars[p0][pj] for pj in pois if pj != p0]) == 1, 'StartAt_p0'\n",
    "    pb += pulp.lpSum([visit_vars[pi][p0] for pi in pois]) == 0, 'NoIncoming_p0'\n",
    "    pb += pulp.lpSum([visit_vars[pi][pN] for pi in pois if pi != pN]) == 1, 'EndAt_pN'\n",
    "    pb += pulp.lpSum([visit_vars[pN][pj] for pj in pois]) == 0, 'NoOutgoing_pN'\n",
    "    pb += pulp.lpSum([visit_vars[pi][pj] for pi in pois if pi != pN for pj in pois if pj != p0]) == nPOI-1, 'Length'\n",
    "    for pk in [x for x in pois if x not in {p0, pN}]:\n",
    "        pb += pulp.lpSum([visit_vars[pi][pk] for pi in pois if pi != pN]) == \\\n",
    "                pulp.lpSum([visit_vars[pk][pj] for pj in pois if pj != p0]), 'ConnectedAt_' + pk\n",
    "        pb += pulp.lpSum([visit_vars[pi][pk] for pi in pois if pi != pN]) <= 1, 'Enter_' + pk + '_AtMostOnce'\n",
    "        pb += pulp.lpSum([visit_vars[pk][pj] for pj in pois if pj != p0]) <= 1, 'Leave_' + pk + '_AtMostOnce'\n",
    "    for pi in [x for x in pois if x != p0]:\n",
    "        for pj in [y for y in pois if y != p0]:\n",
    "            pb += dummy_vars[pi] - dummy_vars[pj] + 1 <= (N - 1) * (1 - visit_vars[pi][pj]), \\\n",
    "                    'SubTourElimination_' + pi + '_' + pj\n",
    "    #pb.writeLP(\"traj_tmp2.lp\")\n",
    "    # solve problem\n",
    "    pb.solve(pulp.PULP_CBC_CMD(options=['-threads', '6', '-strategy', '1', '-maxIt', '2000000'])) # CBC\n",
    "    visit_mat = pd.DataFrame(data=np.zeros((len(pois), len(pois)), dtype=np.float), index=pois, columns=pois)\n",
    "    for pi in pois:\n",
    "        for pj in pois: visit_mat.loc[pi, pj] = visit_vars[pi][pj].varValue\n",
    "\n",
    "    # build the recommended trajectory\n",
    "    recseq = [p0]\n",
    "    while True:\n",
    "        pi = recseq[-1]\n",
    "        pj = visit_mat.loc[pi].idxmax()\n",
    "        assert(round(visit_mat.loc[pi, pj]) == 1)\n",
    "        recseq.append(pj); \n",
    "        #print(recseq); sys.stdout.flush()\n",
    "        if pj == pN: return [int(x) for x in recseq]"
   ]
  },
  {
   "cell_type": "markdown",
   "metadata": {},
   "source": [
    "<a id='sec6'></a>"
   ]
  },
  {
   "cell_type": "markdown",
   "metadata": {},
   "source": [
    "# 6. Comparison"
   ]
  },
  {
   "cell_type": "markdown",
   "metadata": {},
   "source": [
    "Random guessing."
   ]
  },
  {
   "cell_type": "code",
   "execution_count": 157,
   "metadata": {
    "collapsed": true
   },
   "outputs": [],
   "source": [
    "from scipy.misc import comb\n",
    "from math import factorial\n",
    "def rand_guess(npoi, length):\n",
    "    assert(length <= npoi)\n",
    "    if length == npoi: return 1\n",
    "    N = npoi - 2\n",
    "    m = length - 2 # number of correct POIs\n",
    "    k = m\n",
    "    expected_F1 = 0\n",
    "    while k >= 0:\n",
    "        F1 = (k + 2) / length\n",
    "        prob = comb(m, k) * comb(N-m, m-k) / comb(N, m)\n",
    "        expected_F1 += prob * F1\n",
    "        k -= 1\n",
    "    return expected_F1"
   ]
  },
  {
   "cell_type": "markdown",
   "metadata": {},
   "source": [
    "Sanity check."
   ]
  },
  {
   "cell_type": "code",
   "execution_count": 158,
   "metadata": {
    "collapsed": false
   },
   "outputs": [
    {
     "data": {
      "text/plain": [
       "0.5"
      ]
     },
     "execution_count": 158,
     "metadata": {},
     "output_type": "execute_result"
    }
   ],
   "source": [
    "rand_guess(20, 5)"
   ]
  },
  {
   "cell_type": "markdown",
   "metadata": {},
   "source": [
    "<a id='sec6.1'></a>"
   ]
  },
  {
   "cell_type": "markdown",
   "metadata": {},
   "source": [
    "## 6.1 Evaluation on test set"
   ]
  },
  {
   "cell_type": "markdown",
   "metadata": {},
   "source": [
    "Proposed Method vs. IJCAI15 ILP vs. Random guessing."
   ]
  },
  {
   "cell_type": "code",
   "execution_count": null,
   "metadata": {
    "collapsed": true
   },
   "outputs": [],
   "source": [
    "test_seqs = [extract_seq(seqid, seq_all) for seqid in seqid_set_test0]"
   ]
  },
  {
   "cell_type": "code",
   "execution_count": null,
   "metadata": {
    "collapsed": false
   },
   "outputs": [],
   "source": [
    "F1_proposed = []\n",
    "F1_ijcai = []\n",
    "#rec_seqs_ILP = []\n",
    "F1_guess = [rand_guess(len(poi_train), len(seq)) for seq in test_seqs]"
   ]
  },
  {
   "cell_type": "code",
   "execution_count": null,
   "metadata": {
    "collapsed": false,
    "scrolled": true
   },
   "outputs": [],
   "source": [
    "for seq in test_seqs:\n",
    "    seq_rec = recommend(seqid_set_train0, seq_all, poi_info_t, query_id_dict, seq[0], seq[-1], len(seq), poi_logtransmat)\n",
    "    F1 = calc_F1score(seq, seq_rec[0])\n",
    "    F1_proposed.append(F1)\n",
    "    print(seq, '->', seq_rec[0])\n",
    "    print('-'*50, '\\n'); sys.stdout.flush()"
   ]
  },
  {
   "cell_type": "code",
   "execution_count": null,
   "metadata": {
    "collapsed": false,
    "scrolled": true
   },
   "outputs": [],
   "source": [
    "time_based = True\n",
    "eta = 0.5\n",
    "cnt = len(seqid_set_test0)\n",
    "the_user_interest = None\n",
    "if time_based == True: \n",
    "    the_user_interest = user_int_t['timeBased'].copy()\n",
    "else: \n",
    "    the_user_interest = user_int_t['freqBased'].copy()\n",
    "for seqid in seqid_set_test0:\n",
    "    seq = extract_seq(seqid, seq_all)\n",
    "    print(seq, '->'); sys.stdout.flush()\n",
    "    t0 = time.time()\n",
    "    user = seq_stats.loc[seqid, 'userID']\n",
    "    seq_ = recommend_ijcai_ILP1(user, the_user_interest, poi_info_t, eta, seq[0], seq[-1], len(seq))\n",
    "    #rec_seqs_ILP.append(seq_)\n",
    "    F1 = calc_F1score(seq, seq_)\n",
    "    F1_ijcai.append(F1)\n",
    "    cnt -= 1\n",
    "    print(' '*8, seq_, 'used %.1f sec,' % (time.time() - t0), '%d remain to test' % cnt); sys.stdout.flush()"
   ]
  },
  {
   "cell_type": "code",
   "execution_count": null,
   "metadata": {
    "collapsed": false
   },
   "outputs": [],
   "source": [
    "print('Proposed:', np.mean(F1_proposed), np.std(F1_proposed))\n",
    "print('IJCAI15 ILP:', np.mean(F1_ILP), np.std(F1_ILP)) # 0.67 when use 'nVisit' instead of 'popularity' in ILP objective\n",
    "print('Random guessing:', np.mean(F1_guess), np.std(F1_guess))"
   ]
  },
  {
   "cell_type": "markdown",
   "metadata": {},
   "source": [
    "<a id='sec6.2'></a>"
   ]
  },
  {
   "cell_type": "markdown",
   "metadata": {},
   "source": [
    "## 6.2 Leave-one-out cross validation"
   ]
  },
  {
   "cell_type": "code",
   "execution_count": 159,
   "metadata": {
    "collapsed": true
   },
   "outputs": [],
   "source": [
    "F1_proposed1_cv = []\n",
    "F1_proposed2_cv = []\n",
    "#F1_ijcai1_cv = []\n",
    "#F1_ijcai2_cv = []\n",
    "F1_guess_cv = []"
   ]
  },
  {
   "cell_type": "code",
   "execution_count": 160,
   "metadata": {
    "collapsed": true
   },
   "outputs": [],
   "source": [
    "seqid_set_cv = seqid_set_exp.copy()\n",
    "#np.random.shuffle(seqid_set_cv)  # NOT necessary"
   ]
  },
  {
   "cell_type": "code",
   "execution_count": 161,
   "metadata": {
    "collapsed": false,
    "scrolled": true
   },
   "outputs": [
    {
     "name": "stdout",
     "output_type": "stream",
     "text": [
      "[7, 11, 27] sequence #1 ->\n",
      "           [7, 28, 27] Proposed DP: 0.2 sec\n",
      "           [7, 28, 27] Proposed ILP: 0.8 sec, total 37.4 sec\n",
      "[28, 23, 22] sequence #2 ->\n",
      "           [28, 23, 22] Proposed DP: 0.2 sec\n",
      "           [28, 23, 22] Proposed ILP: 0.8 sec, total 37.0 sec\n",
      "[22, 28, 23, 21] sequence #3 ->\n",
      "           [22, 23, 28, 21] Proposed DP: 0.4 sec\n",
      "           [22, 23, 28, 21] Proposed ILP: 0.6 sec, total 36.9 sec\n",
      "[3, 23, 27] sequence #4 ->\n",
      "           [3, 28, 27] Proposed DP: 0.2 sec\n",
      "           [3, 28, 27] Proposed ILP: 0.8 sec, total 36.8 sec\n",
      "[21, 23, 30] sequence #5 ->\n",
      "           [21, 23, 30] Proposed DP: 0.2 sec\n",
      "           [21, 23, 30] Proposed ILP: 0.8 sec, total 37.0 sec\n",
      "[3, 23, 22, 30] sequence #6 ->\n",
      "           [3, 28, 23, 30] Proposed DP: 0.4 sec\n",
      "           [3, 28, 23, 30] Proposed ILP: 0.7 sec, total 37.0 sec\n",
      "[16, 4, 22] sequence #7 ->\n",
      "           [16, 30, 22] Proposed DP: 0.2 sec\n",
      "           [16, 30, 22] Proposed ILP: 0.9 sec, total 38.2 sec\n",
      "[27, 23, 11] sequence #8 ->\n",
      "           [27, 22, 11] Proposed DP: 0.2 sec\n",
      "           [27, 22, 11] Proposed ILP: 0.9 sec, total 37.4 sec\n",
      "[7, 30, 22] sequence #9 ->\n",
      "           [7, 28, 22] Proposed DP: 0.2 sec\n",
      "           [7, 28, 22] Proposed ILP: 0.8 sec, total 37.2 sec\n",
      "[7, 22, 28] sequence #10 ->\n",
      "           [7, 22, 28] Proposed DP: 0.2 sec\n",
      "           [7, 22, 28] Proposed ILP: 0.9 sec, total 37.2 sec\n",
      "[16, 4, 30] sequence #11 ->\n",
      "           [16, 8, 30] Proposed DP: 0.2 sec\n",
      "           [16, 8, 30] Proposed ILP: 0.8 sec, total 37.1 sec\n",
      "[30, 16, 8] sequence #12 ->\n",
      "           [30, 16, 8] Proposed DP: 0.2 sec\n",
      "           [30, 16, 8] Proposed ILP: 0.9 sec, total 37.0 sec\n",
      "[16, 8, 30] sequence #13 ->\n",
      "           [16, 8, 30] Proposed DP: 0.2 sec\n",
      "           [16, 8, 30] Proposed ILP: 0.8 sec, total 37.2 sec\n",
      "[22, 7, 23, 28, 1, 29, 30, 8, 6, 11, 24, 4, 16] sequence #14 ->\n",
      "           [22, 28, 23, 28, 23, 28, 23, 28, 23, 28, 23, 30, 16] Proposed DP: 2.3 sec\n",
      "           [22, 23, 21, 28, 11, 6, 29, 24, 7, 30, 8, 4, 16] Proposed ILP: 1.7 sec, total 39.7 sec\n",
      "[8, 16, 4, 22] sequence #15 ->\n",
      "           [8, 22, 23, 22] Proposed DP: 0.5 sec\n",
      "           [8, 28, 23, 22] Proposed ILP: 0.8 sec, total 38.8 sec\n",
      "[16, 4, 8] sequence #16 ->\n",
      "           [16, 4, 8] Proposed DP: 0.2 sec\n",
      "           [16, 4, 8] Proposed ILP: 0.9 sec, total 38.4 sec\n",
      "[21, 27, 11] sequence #17 ->\n",
      "           [21, 28, 11] Proposed DP: 0.2 sec\n",
      "           [21, 28, 11] Proposed ILP: 0.9 sec, total 38.4 sec\n",
      "[30, 22, 6] sequence #18 ->\n",
      "           [30, 22, 6] Proposed DP: 0.2 sec\n",
      "           [30, 22, 6] Proposed ILP: 0.9 sec, total 38.9 sec\n",
      "[30, 22, 28, 23] sequence #19 ->\n",
      "           [30, 22, 28, 23] Proposed DP: 0.4 sec\n",
      "           [30, 22, 28, 23] Proposed ILP: 0.7 sec, total 38.5 sec\n",
      "[23, 28, 16] sequence #20 ->\n",
      "           [23, 28, 16] Proposed DP: 0.2 sec\n",
      "           [23, 28, 16] Proposed ILP: 0.9 sec, total 37.6 sec\n",
      "[16, 21, 23, 8, 28, 22, 27] sequence #21 ->\n",
      "           [16, 7, 30, 22, 28, 22, 27] Proposed DP: 1.1 sec\n",
      "           [16, 7, 30, 21, 28, 22, 27] Proposed ILP: 0.8 sec, total 38.2 sec\n",
      "[17, 2, 14] sequence #22 ->\n",
      "           [17, 2, 14] Proposed DP: 0.2 sec\n",
      "           [17, 2, 14] Proposed ILP: 0.8 sec, total 37.3 sec\n",
      "[28, 22, 23, 29, 7, 30, 16, 21] sequence #23 ->\n",
      "           [28, 23, 28, 23, 28, 23, 28, 21] Proposed DP: 1.2 sec\n",
      "           [28, 6, 16, 7, 30, 22, 23, 21] Proposed ILP: 1.7 sec, total 39.1 sec\n",
      "[16, 11, 23] sequence #24 ->\n",
      "           [16, 30, 23] Proposed DP: 0.2 sec\n",
      "           [16, 30, 23] Proposed ILP: 0.9 sec, total 37.7 sec\n",
      "[16, 22, 23] sequence #25 ->\n",
      "           [16, 30, 23] Proposed DP: 0.2 sec\n",
      "           [16, 30, 23] Proposed ILP: 0.9 sec, total 37.8 sec\n",
      "[25, 19, 15] sequence #26 ->\n",
      "           [25, 30, 15] Proposed DP: 0.2 sec\n",
      "           [25, 30, 15] Proposed ILP: 0.8 sec, total 37.1 sec\n",
      "[22, 8, 30, 7, 28, 23, 21, 16] sequence #27 ->\n",
      "           [22, 23, 28, 23, 28, 23, 28, 16] Proposed DP: 1.2 sec\n",
      "           [22, 23, 21, 28, 7, 30, 8, 16] Proposed ILP: 0.6 sec, total 37.8 sec\n",
      "[7, 30, 8] sequence #28 ->\n",
      "           [7, 16, 8] Proposed DP: 0.2 sec\n",
      "           [7, 16, 8] Proposed ILP: 0.9 sec, total 36.9 sec\n",
      "[22, 1, 8, 21, 28] sequence #29 ->\n",
      "           [22, 23, 28, 23, 28] Proposed DP: 0.6 sec\n",
      "           [22, 23, 21, 6, 28] Proposed ILP: 1.0 sec, total 37.6 sec\n",
      "[23, 22, 16] sequence #30 ->\n",
      "           [23, 28, 16] Proposed DP: 0.2 sec\n",
      "           [23, 28, 16] Proposed ILP: 0.8 sec, total 37.0 sec\n",
      "[21, 23, 24] sequence #31 ->\n",
      "           [21, 30, 24] Proposed DP: 0.2 sec\n",
      "           [21, 30, 24] Proposed ILP: 0.8 sec, total 36.8 sec\n",
      "[7, 23, 1] sequence #32 ->\n",
      "           [7, 16, 1] Proposed DP: 0.2 sec\n",
      "           [7, 16, 1] Proposed ILP: 0.8 sec, total 36.8 sec\n",
      "[22, 28, 23] sequence #33 ->\n",
      "           [22, 28, 23] Proposed DP: 0.2 sec\n",
      "           [22, 28, 23] Proposed ILP: 0.8 sec, total 37.0 sec\n",
      "[22, 6, 25] sequence #34 ->\n",
      "           [22, 28, 25] Proposed DP: 0.2 sec\n",
      "           [22, 28, 25] Proposed ILP: 0.8 sec, total 36.9 sec\n",
      "[23, 28, 16, 24, 4, 8, 30] sequence #35 ->\n",
      "           [23, 22, 23, 22, 23, 22, 30] Proposed DP: 1.0 sec\n",
      "           [23, 21, 22, 28, 16, 7, 30] Proposed ILP: 0.9 sec, total 37.7 sec\n",
      "[13, 16, 29] sequence #36 ->\n",
      "           [13, 23, 29] Proposed DP: 0.2 sec\n",
      "           [13, 23, 29] Proposed ILP: 0.9 sec, total 36.8 sec\n",
      "[22, 30, 7, 1, 8, 16, 21] sequence #37 ->\n",
      "           [22, 23, 22, 23, 22, 23, 21] Proposed DP: 1.0 sec\n",
      "           [22, 28, 16, 7, 30, 23, 21] Proposed ILP: 0.8 sec, total 37.6 sec\n",
      "[7, 16, 4, 8] sequence #38 ->\n",
      "           [7, 30, 16, 8] Proposed DP: 0.4 sec\n",
      "           [7, 30, 16, 8] Proposed ILP: 0.7 sec, total 36.9 sec\n",
      "[3, 29, 6, 22] sequence #39 ->\n",
      "           [3, 28, 23, 22] Proposed DP: 0.4 sec\n",
      "           [3, 28, 23, 22] Proposed ILP: 0.6 sec, total 36.7 sec\n",
      "[7, 23, 28, 21, 30] sequence #40 ->\n",
      "           [7, 30, 16, 7, 30] Proposed DP: 0.6 sec\n",
      "           [7, 28, 23, 22, 30] Proposed ILP: 1.2 sec, total 37.5 sec\n",
      "[7, 30, 23] sequence #41 ->\n",
      "           [7, 22, 23] Proposed DP: 0.2 sec\n",
      "           [7, 22, 23] Proposed ILP: 1.0 sec, total 37.0 sec\n",
      "[21, 7, 1] sequence #42 ->\n",
      "           [21, 30, 1] Proposed DP: 0.2 sec\n",
      "           [21, 30, 1] Proposed ILP: 0.8 sec, total 36.8 sec\n",
      "[7, 22, 23] sequence #43 ->\n",
      "           [7, 22, 23] Proposed DP: 0.2 sec\n",
      "           [7, 22, 23] Proposed ILP: 0.8 sec, total 36.8 sec\n",
      "[23, 21, 22, 7, 28] sequence #44 ->\n",
      "           [23, 22, 28, 22, 28] Proposed DP: 0.6 sec\n",
      "           [23, 22, 30, 21, 28] Proposed ILP: 0.8 sec, total 37.1 sec\n",
      "[7, 28, 23] sequence #45 ->\n",
      "           [7, 28, 23] Proposed DP: 0.2 sec\n",
      "           [7, 28, 23] Proposed ILP: 0.8 sec, total 36.9 sec\n",
      "[21, 23, 22] sequence #46 ->\n",
      "           [21, 28, 22] Proposed DP: 0.2 sec\n",
      "           [21, 28, 22] Proposed ILP: 0.8 sec, total 37.0 sec\n",
      "[28, 21, 30] sequence #47 ->\n",
      "           [28, 22, 30] Proposed DP: 0.2 sec\n",
      "           [28, 22, 30] Proposed ILP: 0.8 sec, total 37.0 sec\n",
      "[30, 21, 6] sequence #48 ->\n",
      "           [30, 23, 6] Proposed DP: 0.2 sec\n",
      "           [30, 23, 6] Proposed ILP: 0.9 sec, total 36.8 sec\n",
      "[30, 28, 23, 7] sequence #49 ->\n",
      "           [30, 7, 30, 7] Proposed DP: 0.4 sec\n",
      "           [30, 4, 16, 7] Proposed ILP: 1.1 sec, total 37.3 sec\n",
      "[28, 23, 21] sequence #50 ->\n",
      "           [28, 23, 21] Proposed DP: 0.2 sec\n",
      "           [28, 23, 21] Proposed ILP: 0.8 sec, total 37.0 sec\n",
      "[22, 21, 30] sequence #51 ->\n",
      "           [22, 23, 30] Proposed DP: 0.2 sec\n",
      "           [22, 23, 30] Proposed ILP: 0.8 sec, total 37.0 sec\n",
      "[7, 28, 30] sequence #52 ->\n",
      "           [7, 16, 30] Proposed DP: 0.2 sec\n",
      "           [7, 16, 30] Proposed ILP: 0.9 sec, total 37.0 sec\n",
      "[7, 30, 21, 23, 22] sequence #53 ->\n",
      "           [7, 23, 22, 23, 22] Proposed DP: 0.6 sec\n",
      "           [7, 28, 23, 30, 22] Proposed ILP: 0.7 sec, total 37.0 sec\n",
      "[7, 23, 21, 28] sequence #54 ->\n",
      "           [7, 23, 22, 28] Proposed DP: 0.4 sec\n",
      "           [7, 23, 22, 28] Proposed ILP: 0.7 sec, total 36.9 sec\n",
      "[28, 23, 21, 11, 22] sequence #55 ->\n",
      "           [28, 23, 22, 23, 22] Proposed DP: 0.6 sec\n",
      "           [28, 16, 7, 23, 22] Proposed ILP: 0.9 sec, total 37.3 sec\n",
      "[28, 23, 21] sequence #56 ->\n",
      "           [28, 23, 21] Proposed DP: 0.2 sec\n",
      "           [28, 23, 21] Proposed ILP: 0.8 sec, total 37.1 sec\n",
      "[30, 22, 7] sequence #57 ->\n",
      "           [30, 22, 7] Proposed DP: 0.2 sec\n",
      "           [30, 22, 7] Proposed ILP: 0.9 sec, total 38.3 sec\n",
      "[7, 30, 21, 23, 28] sequence #58 ->\n",
      "           [7, 23, 22, 23, 28] Proposed DP: 0.7 sec\n",
      "           [7, 30, 23, 22, 28] Proposed ILP: 0.7 sec, total 38.7 sec\n",
      "[8, 30, 28, 23] sequence #59 ->\n",
      "           [8, 28, 22, 23] Proposed DP: 0.5 sec\n",
      "           [8, 28, 22, 23] Proposed ILP: 0.8 sec, total 39.2 sec\n",
      "[30, 7, 28, 23] sequence #60 ->\n",
      "           [30, 23, 22, 23] Proposed DP: 0.4 sec\n",
      "           [30, 22, 28, 23] Proposed ILP: 0.7 sec, total 38.9 sec\n",
      "[23, 28, 30] sequence #61 ->\n",
      "           [23, 22, 30] Proposed DP: 0.2 sec\n",
      "           [23, 22, 30] Proposed ILP: 0.8 sec, total 37.1 sec\n",
      "[23, 28, 22] sequence #62 ->\n",
      "           [23, 28, 22] Proposed DP: 0.2 sec\n",
      "           [23, 28, 22] Proposed ILP: 0.8 sec, total 38.3 sec\n",
      "[7, 23, 28, 30] sequence #63 ->\n",
      "           [7, 30, 7, 30] Proposed DP: 0.4 sec\n",
      "           [7, 16, 4, 30] Proposed ILP: 0.8 sec, total 37.2 sec\n",
      "[23, 22, 28] sequence #64 ->\n",
      "           [23, 22, 28] Proposed DP: 0.2 sec\n",
      "           [23, 22, 28] Proposed ILP: 0.8 sec, total 37.1 sec\n",
      "[23, 16, 30] sequence #65 ->\n",
      "           [23, 22, 30] Proposed DP: 0.2 sec\n",
      "           [23, 22, 30] Proposed ILP: 0.8 sec, total 37.0 sec\n",
      "[1, 30, 7] sequence #66 ->\n",
      "           [1, 16, 7] Proposed DP: 0.2 sec\n",
      "           [1, 16, 7] Proposed ILP: 0.8 sec, total 37.0 sec\n",
      "[8, 30, 7] sequence #67 ->\n",
      "           [8, 30, 7] Proposed DP: 0.2 sec\n",
      "           [8, 30, 7] Proposed ILP: 0.8 sec, total 37.1 sec\n",
      "[28, 3, 21] sequence #68 ->\n",
      "           [28, 23, 21] Proposed DP: 0.2 sec\n",
      "           [28, 23, 21] Proposed ILP: 0.9 sec, total 36.9 sec\n",
      "[7, 23, 21] sequence #69 ->\n",
      "           [7, 28, 21] Proposed DP: 0.2 sec\n",
      "           [7, 28, 21] Proposed ILP: 0.8 sec, total 36.8 sec\n",
      "[7, 22, 30] sequence #70 ->\n",
      "           [7, 16, 30] Proposed DP: 0.2 sec\n",
      "           [7, 16, 30] Proposed ILP: 0.9 sec, total 37.1 sec\n",
      "[21, 23, 30] sequence #71 ->\n",
      "           [21, 23, 30] Proposed DP: 0.2 sec\n",
      "           [21, 23, 30] Proposed ILP: 0.9 sec, total 37.1 sec\n",
      "[23, 21, 28, 30] sequence #72 ->\n",
      "           [23, 28, 22, 30] Proposed DP: 0.4 sec\n",
      "           [23, 28, 22, 30] Proposed ILP: 0.7 sec, total 36.8 sec\n",
      "[8, 30, 16] sequence #73 ->\n",
      "           [8, 30, 16] Proposed DP: 0.2 sec\n",
      "           [8, 30, 16] Proposed ILP: 0.8 sec, total 36.8 sec\n",
      "[22, 23, 30] sequence #74 ->\n",
      "           [22, 23, 30] Proposed DP: 0.2 sec\n",
      "           [22, 23, 30] Proposed ILP: 0.8 sec, total 37.0 sec\n",
      "[7, 23, 28, 30, 21, 22, 11] sequence #75 ->\n",
      "           [7, 28, 23, 28, 23, 28, 11] Proposed DP: 1.1 sec\n",
      "           [7, 30, 21, 23, 22, 28, 11] Proposed ILP: 0.6 sec, total 37.5 sec\n",
      "[29, 23, 21] sequence #76 ->\n",
      "           [29, 23, 21] Proposed DP: 0.2 sec\n",
      "           [29, 23, 21] Proposed ILP: 0.9 sec, total 37.0 sec\n",
      "[30, 7, 21] sequence #77 ->\n",
      "           [30, 23, 21] Proposed DP: 0.2 sec\n",
      "           [30, 23, 21] Proposed ILP: 0.8 sec, total 36.9 sec\n",
      "[21, 7, 30] sequence #78 ->\n",
      "           [21, 23, 30] Proposed DP: 0.2 sec\n",
      "           [21, 23, 30] Proposed ILP: 0.8 sec, total 36.9 sec\n",
      "[29, 27, 21] sequence #79 ->\n",
      "           [29, 23, 21] Proposed DP: 0.2 sec\n",
      "           [29, 23, 21] Proposed ILP: 0.8 sec, total 37.0 sec\n",
      "[7, 21, 28, 23] sequence #80 ->\n",
      "           [7, 28, 22, 23] Proposed DP: 0.4 sec\n",
      "           [7, 28, 22, 23] Proposed ILP: 0.7 sec, total 37.0 sec\n",
      "[21, 23, 28] sequence #81 ->\n",
      "           [21, 23, 28] Proposed DP: 0.2 sec\n",
      "           [21, 23, 28] Proposed ILP: 0.8 sec, total 37.0 sec\n",
      "[30, 28, 23] sequence #82 ->\n",
      "           [30, 22, 23] Proposed DP: 0.2 sec\n",
      "           [30, 22, 23] Proposed ILP: 0.8 sec, total 37.2 sec\n",
      "[30, 7, 21] sequence #83 ->\n",
      "           [30, 23, 21] Proposed DP: 0.2 sec\n",
      "           [30, 23, 21] Proposed ILP: 0.8 sec, total 36.8 sec\n",
      "[28, 21, 3] sequence #84 ->\n",
      "           [28, 23, 3] Proposed DP: 0.2 sec\n",
      "           [28, 23, 3] Proposed ILP: 0.9 sec, total 36.8 sec\n",
      "[7, 22, 23, 29] sequence #85 ->\n",
      "           [7, 23, 22, 29] Proposed DP: 0.4 sec\n",
      "           [7, 23, 22, 29] Proposed ILP: 0.7 sec, total 37.0 sec\n",
      "[24, 7, 28] sequence #86 ->\n",
      "           [24, 22, 28] Proposed DP: 0.2 sec\n",
      "           [24, 22, 28] Proposed ILP: 0.8 sec, total 36.8 sec\n",
      "[24, 7, 23, 28] sequence #87 ->\n",
      "           [24, 30, 22, 28] Proposed DP: 0.4 sec\n",
      "           [24, 30, 22, 28] Proposed ILP: 0.7 sec, total 37.0 sec\n",
      "[23, 22, 7] sequence #88 ->\n",
      "           [23, 28, 7] Proposed DP: 0.2 sec\n",
      "           [23, 28, 7] Proposed ILP: 0.8 sec, total 36.8 sec\n",
      "[25, 23, 29] sequence #89 ->\n",
      "           [25, 22, 29] Proposed DP: 0.2 sec\n",
      "           [25, 22, 29] Proposed ILP: 0.9 sec, total 36.8 sec\n",
      "[16, 8, 30, 7] sequence #90 ->\n",
      "           [16, 4, 30, 7] Proposed DP: 0.4 sec\n",
      "           [16, 4, 30, 7] Proposed ILP: 0.7 sec, total 37.2 sec\n",
      "[7, 8, 16] sequence #91 ->\n",
      "           [7, 30, 16] Proposed DP: 0.2 sec\n",
      "           [7, 30, 16] Proposed ILP: 0.8 sec, total 36.9 sec\n",
      "[16, 6, 30, 8] sequence #92 ->\n",
      "           [16, 4, 16, 8] Proposed DP: 0.4 sec\n",
      "           [16, 4, 30, 8] Proposed ILP: 0.6 sec, total 37.1 sec\n",
      "[11, 13, 30] sequence #93 ->\n",
      "           [11, 23, 30] Proposed DP: 0.2 sec\n",
      "           [11, 23, 30] Proposed ILP: 0.9 sec, total 36.9 sec\n",
      "[4, 30, 22] sequence #94 ->\n",
      "           [4, 16, 22] Proposed DP: 0.2 sec\n",
      "           [4, 16, 22] Proposed ILP: 0.8 sec, total 37.1 sec\n",
      "[7, 30, 16, 28] sequence #95 ->\n",
      "           [7, 23, 22, 28] Proposed DP: 0.4 sec\n",
      "           [7, 23, 22, 28] Proposed ILP: 0.7 sec, total 37.0 sec\n",
      "[16, 11, 13] sequence #96 ->\n",
      "           [16, 4, 13] Proposed DP: 0.2 sec\n",
      "           [16, 4, 13] Proposed ILP: 0.9 sec, total 38.0 sec\n",
      "[11, 22, 23, 21] sequence #97 ->\n",
      "           [11, 28, 23, 21] Proposed DP: 0.4 sec\n",
      "           [11, 28, 23, 21] Proposed ILP: 0.7 sec, total 37.7 sec\n",
      "[10, 21, 28, 22] sequence #98 ->\n",
      "           [10, 28, 23, 22] Proposed DP: 0.5 sec\n",
      "           [10, 28, 23, 22] Proposed ILP: 0.7 sec, total 38.1 sec\n",
      "[23, 22, 28] sequence #99 ->\n",
      "           [23, 22, 28] Proposed DP: 0.2 sec\n",
      "           [23, 22, 28] Proposed ILP: 0.8 sec, total 37.9 sec\n",
      "[1, 8, 24] sequence #100 ->\n",
      "           [1, 30, 24] Proposed DP: 0.2 sec\n",
      "           [1, 30, 24] Proposed ILP: 0.9 sec, total 38.1 sec\n",
      "[6, 11, 26] sequence #101 ->\n",
      "           [6, 21, 26] Proposed DP: 0.2 sec\n",
      "           [6, 21, 26] Proposed ILP: 0.9 sec, total 37.7 sec\n",
      "[29, 8, 23] sequence #102 ->\n",
      "           [29, 22, 23] Proposed DP: 0.2 sec\n",
      "           [29, 22, 23] Proposed ILP: 0.8 sec, total 37.5 sec\n",
      "[16, 17, 19] sequence #103 ->\n",
      "           [16, 30, 19] Proposed DP: 0.2 sec\n",
      "           [16, 30, 19] Proposed ILP: 0.9 sec, total 37.6 sec\n",
      "[30, 24, 25, 11] sequence #104 ->\n",
      "           [30, 22, 23, 11] Proposed DP: 0.4 sec\n",
      "           [30, 22, 23, 11] Proposed ILP: 0.8 sec, total 37.2 sec\n",
      "[25, 16, 24] sequence #105 ->\n",
      "           [25, 30, 24] Proposed DP: 0.2 sec\n",
      "           [25, 30, 24] Proposed ILP: 0.8 sec, total 37.6 sec\n",
      "[21, 13, 8, 24] sequence #106 ->\n",
      "           [21, 23, 22, 24] Proposed DP: 0.4 sec\n",
      "           [21, 23, 22, 24] Proposed ILP: 0.7 sec, total 37.3 sec\n",
      "[21, 23, 30, 28] sequence #107 ->\n",
      "           [21, 28, 23, 28] Proposed DP: 0.4 sec\n",
      "           [21, 23, 22, 28] Proposed ILP: 0.6 sec, total 37.3 sec\n",
      "[8, 16, 4] sequence #108 ->\n",
      "           [8, 16, 4] Proposed DP: 0.2 sec\n",
      "           [8, 16, 4] Proposed ILP: 0.8 sec, total 37.0 sec\n",
      "[23, 7, 30, 16, 8, 4] sequence #109 ->\n",
      "           [23, 28, 22, 28, 16, 4] Proposed DP: 0.8 sec\n",
      "           [23, 28, 22, 30, 16, 4] Proposed ILP: 0.6 sec, total 37.2 sec\n",
      "[23, 22, 28, 1] sequence #110 ->\n",
      "           [23, 30, 16, 1] Proposed DP: 0.4 sec\n",
      "           [23, 30, 16, 1] Proposed ILP: 0.6 sec, total 36.7 sec\n",
      "[11, 27, 6] sequence #111 ->\n",
      "           [11, 28, 6] Proposed DP: 0.2 sec\n",
      "           [11, 28, 6] Proposed ILP: 0.8 sec, total 37.2 sec\n",
      "[16, 30, 28, 21] sequence #112 ->\n",
      "           [16, 7, 30, 21] Proposed DP: 0.4 sec\n",
      "           [16, 7, 30, 21] Proposed ILP: 0.6 sec, total 37.2 sec\n",
      "[28, 22, 1, 7] sequence #113 ->\n",
      "           [28, 23, 28, 7] Proposed DP: 0.4 sec\n",
      "           [28, 22, 23, 7] Proposed ILP: 0.7 sec, total 37.2 sec\n",
      "[8, 4, 16] sequence #114 ->\n",
      "           [8, 4, 16] Proposed DP: 0.2 sec\n",
      "           [8, 4, 16] Proposed ILP: 0.9 sec, total 37.3 sec\n",
      "[22, 30, 8] sequence #115 ->\n",
      "           [22, 23, 8] Proposed DP: 0.2 sec\n",
      "           [22, 23, 8] Proposed ILP: 0.8 sec, total 37.1 sec\n",
      "[28, 22, 23] sequence #116 ->\n",
      "           [28, 22, 23] Proposed DP: 0.2 sec\n",
      "           [28, 22, 23] Proposed ILP: 0.8 sec, total 37.0 sec\n",
      "[16, 8, 28, 22, 23, 21] sequence #117 ->\n",
      "           [16, 7, 30, 23, 28, 21] Proposed DP: 0.8 sec\n",
      "           [16, 7, 30, 23, 28, 21] Proposed ILP: 0.8 sec, total 37.5 sec\n",
      "[8, 16, 1] sequence #118 ->\n",
      "           [8, 16, 1] Proposed DP: 0.2 sec\n",
      "           [8, 16, 1] Proposed ILP: 0.9 sec, total 37.1 sec\n",
      "[16, 24, 13] sequence #119 ->\n",
      "           [16, 4, 13] Proposed DP: 0.2 sec\n",
      "           [16, 4, 13] Proposed ILP: 0.9 sec, total 37.6 sec\n",
      "[15, 19, 1] sequence #120 ->\n",
      "           [15, 16, 1] Proposed DP: 0.2 sec\n",
      "           [15, 16, 1] Proposed ILP: 0.9 sec, total 37.5 sec\n",
      "[30, 27, 21] sequence #121 ->\n",
      "           [30, 23, 21] Proposed DP: 0.2 sec\n",
      "           [30, 23, 21] Proposed ILP: 0.8 sec, total 37.5 sec\n",
      "[21, 28, 30] sequence #122 ->\n",
      "           [21, 23, 30] Proposed DP: 0.2 sec\n",
      "           [21, 23, 30] Proposed ILP: 0.8 sec, total 37.1 sec\n",
      "[30, 23, 28] sequence #123 ->\n",
      "           [30, 22, 28] Proposed DP: 0.2 sec\n",
      "           [30, 22, 28] Proposed ILP: 0.8 sec, total 37.2 sec\n",
      "[16, 23, 28, 22] sequence #124 ->\n",
      "           [16, 22, 23, 22] Proposed DP: 0.4 sec\n",
      "           [16, 7, 23, 22] Proposed ILP: 0.6 sec, total 36.8 sec\n",
      "[29, 30, 16] sequence #125 ->\n",
      "           [29, 7, 16] Proposed DP: 0.2 sec\n",
      "           [29, 7, 16] Proposed ILP: 0.9 sec, total 36.9 sec\n",
      "[6, 25, 23] sequence #126 ->\n",
      "           [6, 22, 23] Proposed DP: 0.2 sec\n",
      "           [6, 22, 23] Proposed ILP: 0.8 sec, total 36.9 sec\n",
      "[8, 4, 16] sequence #127 ->\n",
      "           [8, 30, 16] Proposed DP: 0.2 sec\n",
      "           [8, 30, 16] Proposed ILP: 0.8 sec, total 37.1 sec\n",
      "[16, 8, 30, 7] sequence #128 ->\n",
      "           [16, 4, 30, 7] Proposed DP: 0.4 sec\n",
      "           [16, 4, 30, 7] Proposed ILP: 0.8 sec, total 37.4 sec\n",
      "[21, 23, 22, 28] sequence #129 ->\n",
      "           [21, 28, 23, 28] Proposed DP: 0.4 sec\n",
      "           [21, 23, 22, 28] Proposed ILP: 0.6 sec, total 37.5 sec\n",
      "[28, 7, 30, 22, 27] sequence #130 ->\n",
      "           [28, 22, 28, 22, 27] Proposed DP: 0.6 sec\n",
      "           [28, 21, 23, 22, 27] Proposed ILP: 0.7 sec, total 37.4 sec\n",
      "[28, 22, 21] sequence #131 ->\n",
      "           [28, 23, 21] Proposed DP: 0.2 sec\n",
      "           [28, 23, 21] Proposed ILP: 0.9 sec, total 37.3 sec\n",
      "[7, 1, 16] sequence #132 ->\n",
      "           [7, 30, 16] Proposed DP: 0.2 sec\n",
      "           [7, 30, 16] Proposed ILP: 0.9 sec, total 37.8 sec\n",
      "[24, 8, 30] sequence #133 ->\n",
      "           [24, 7, 30] Proposed DP: 0.2 sec\n",
      "           [24, 7, 30] Proposed ILP: 0.9 sec, total 37.6 sec\n",
      "[23, 22, 25] sequence #134 ->\n",
      "           [23, 28, 25] Proposed DP: 0.2 sec\n",
      "           [23, 28, 25] Proposed ILP: 0.8 sec, total 37.2 sec\n",
      "[28, 7, 27] sequence #135 ->\n",
      "           [28, 22, 27] Proposed DP: 0.2 sec\n",
      "           [28, 22, 27] Proposed ILP: 0.8 sec, total 37.6 sec\n",
      "[28, 22, 25] sequence #136 ->\n",
      "           [28, 22, 25] Proposed DP: 0.2 sec\n",
      "           [28, 22, 25] Proposed ILP: 0.8 sec, total 37.4 sec\n",
      "[20, 6, 25, 11, 30, 24] sequence #137 ->\n",
      "           [20, 30, 16, 4, 30, 24] Proposed DP: 0.8 sec\n",
      "           [20, 30, 4, 16, 8, 24] Proposed ILP: 1.2 sec, total 37.9 sec\n",
      "[30, 16, 8, 21] sequence #138 ->\n",
      "           [30, 22, 23, 21] Proposed DP: 0.4 sec\n",
      "           [30, 22, 23, 21] Proposed ILP: 0.7 sec, total 37.1 sec\n",
      "[22, 29, 11] sequence #139 ->\n",
      "           [22, 28, 11] Proposed DP: 0.2 sec\n",
      "           [22, 28, 11] Proposed ILP: 0.8 sec, total 37.2 sec\n",
      "[19, 7, 23, 21] sequence #140 ->\n",
      "           [19, 30, 23, 21] Proposed DP: 0.4 sec\n",
      "           [19, 30, 23, 21] Proposed ILP: 0.7 sec, total 36.9 sec\n",
      "[22, 8, 30] sequence #141 ->\n",
      "           [22, 23, 30] Proposed DP: 0.2 sec\n",
      "           [22, 23, 30] Proposed ILP: 0.8 sec, total 37.7 sec\n",
      "[7, 27, 30] sequence #142 ->\n",
      "           [7, 16, 30] Proposed DP: 0.2 sec\n",
      "           [7, 16, 30] Proposed ILP: 0.9 sec, total 37.4 sec\n",
      "[22, 28, 23] sequence #143 ->\n",
      "           [22, 28, 23] Proposed DP: 0.2 sec\n",
      "           [22, 28, 23] Proposed ILP: 0.8 sec, total 37.6 sec\n",
      "[23, 21, 22] sequence #144 ->\n",
      "           [23, 28, 22] Proposed DP: 0.2 sec\n",
      "           [23, 28, 22] Proposed ILP: 0.8 sec, total 37.4 sec\n",
      "[22, 29, 1] sequence #145 ->\n",
      "           [22, 30, 1] Proposed DP: 0.2 sec\n",
      "           [22, 30, 1] Proposed ILP: 0.8 sec, total 36.7 sec\n",
      "[8, 16, 4, 1, 29] sequence #146 ->\n",
      "           [8, 22, 23, 22, 29] Proposed DP: 0.6 sec\n",
      "           [8, 22, 23, 21, 29] Proposed ILP: 0.7 sec, total 37.7 sec\n",
      "[30, 24, 4] sequence #147 ->\n",
      "           [30, 16, 4] Proposed DP: 0.2 sec\n",
      "           [30, 16, 4] Proposed ILP: 0.8 sec, total 37.4 sec\n",
      "[21, 23, 22] sequence #148 ->\n",
      "           [21, 23, 22] Proposed DP: 0.2 sec\n",
      "           [21, 23, 22] Proposed ILP: 0.8 sec, total 37.6 sec\n",
      "[2, 17, 14] sequence #149 ->\n",
      "           [2, 17, 14] Proposed DP: 0.2 sec\n",
      "           [2, 17, 14] Proposed ILP: 0.8 sec, total 37.1 sec\n",
      "[8, 16, 7] sequence #150 ->\n",
      "           [8, 30, 7] Proposed DP: 0.2 sec\n",
      "           [8, 30, 7] Proposed ILP: 0.8 sec, total 37.5 sec\n",
      "[17, 2, 14] sequence #151 ->\n",
      "           [17, 2, 14] Proposed DP: 0.2 sec\n",
      "           [17, 2, 14] Proposed ILP: 0.8 sec, total 37.1 sec\n",
      "[17, 14, 27, 11] sequence #152 ->\n",
      "           [17, 2, 28, 11] Proposed DP: 0.4 sec\n",
      "           [17, 2, 28, 11] Proposed ILP: 0.9 sec, total 37.5 sec\n",
      "[11, 29, 6, 23, 22] sequence #153 ->\n",
      "           [11, 28, 23, 28, 22] Proposed DP: 0.6 sec\n",
      "           [11, 28, 21, 23, 22] Proposed ILP: 0.8 sec, total 37.7 sec\n",
      "[8, 16, 13] sequence #154 ->\n",
      "           [8, 16, 13] Proposed DP: 0.2 sec\n",
      "           [8, 16, 13] Proposed ILP: 0.8 sec, total 37.1 sec\n",
      "[7, 30, 22, 21, 23] sequence #155 ->\n",
      "           [7, 28, 22, 28, 23] Proposed DP: 0.6 sec\n",
      "           [7, 30, 22, 28, 23] Proposed ILP: 0.6 sec, total 37.6 sec\n",
      "[7, 28, 29] sequence #156 ->\n",
      "           [7, 23, 29] Proposed DP: 0.2 sec\n",
      "           [7, 23, 29] Proposed ILP: 0.9 sec, total 37.1 sec\n",
      "[30, 22, 28, 29, 16] sequence #157 ->\n",
      "           [30, 22, 23, 22, 16] Proposed DP: 0.6 sec\n",
      "           [30, 22, 23, 4, 16] Proposed ILP: 0.7 sec, total 37.1 sec\n",
      "[22, 11, 7] sequence #158 ->\n",
      "           [22, 23, 7] Proposed DP: 0.2 sec\n",
      "           [22, 23, 7] Proposed ILP: 0.8 sec, total 36.8 sec\n",
      "[22, 28, 6] sequence #159 ->\n",
      "           [22, 28, 6] Proposed DP: 0.2 sec\n",
      "           [22, 28, 6] Proposed ILP: 0.8 sec, total 36.9 sec\n",
      "[23, 11, 21] sequence #160 ->\n",
      "           [23, 28, 21] Proposed DP: 0.2 sec\n",
      "           [23, 28, 21] Proposed ILP: 0.8 sec, total 37.0 sec\n",
      "[6, 21, 23, 28, 22] sequence #161 ->\n",
      "           [6, 28, 23, 28, 22] Proposed DP: 0.6 sec\n",
      "           [6, 28, 21, 23, 22] Proposed ILP: 0.7 sec, total 37.1 sec\n",
      "[22, 28, 21, 30, 1, 8, 16] sequence #162 ->\n",
      "           [22, 28, 23, 28, 23, 28, 16] Proposed DP: 1.0 sec\n",
      "           [22, 23, 28, 7, 30, 8, 16] Proposed ILP: 0.7 sec, total 37.5 sec\n",
      "[7, 22, 6] sequence #163 ->\n",
      "           [7, 30, 6] Proposed DP: 0.2 sec\n",
      "           [7, 30, 6] Proposed ILP: 0.8 sec, total 36.9 sec\n",
      "[30, 7, 16, 4] sequence #164 ->\n",
      "           [30, 7, 16, 4] Proposed DP: 0.4 sec\n",
      "           [30, 7, 16, 4] Proposed ILP: 0.7 sec, total 36.9 sec\n",
      "[24, 16, 30, 6, 21] sequence #165 ->\n",
      "           [24, 30, 23, 28, 21] Proposed DP: 0.6 sec\n",
      "           [24, 30, 23, 28, 21] Proposed ILP: 0.8 sec, total 37.3 sec\n",
      "[23, 21, 22] sequence #166 ->\n",
      "           [23, 28, 22] Proposed DP: 0.2 sec\n",
      "           [23, 28, 22] Proposed ILP: 0.8 sec, total 36.9 sec\n",
      "[23, 13, 21, 1, 22] sequence #167 ->\n",
      "           [23, 28, 23, 28, 22] Proposed DP: 0.6 sec\n",
      "           [23, 28, 21, 30, 22] Proposed ILP: 1.0 sec, total 37.2 sec\n",
      "[21, 16, 22] sequence #168 ->\n",
      "           [21, 28, 22] Proposed DP: 0.2 sec\n",
      "           [21, 28, 22] Proposed ILP: 0.8 sec, total 36.9 sec\n",
      "[7, 30, 4, 16, 8, 28, 22] sequence #169 ->\n",
      "           [7, 23, 22, 23, 22, 23, 22] Proposed DP: 1.0 sec\n",
      "           [7, 16, 4, 30, 23, 28, 22] Proposed ILP: 1.0 sec, total 37.8 sec\n",
      "[16, 30, 22, 6] sequence #170 ->\n",
      "           [16, 4, 16, 6] Proposed DP: 0.4 sec\n",
      "           [16, 4, 30, 6] Proposed ILP: 0.9 sec, total 37.0 sec\n",
      "[11, 27, 23] sequence #171 ->\n",
      "           [11, 22, 23] Proposed DP: 0.2 sec\n",
      "           [11, 22, 23] Proposed ILP: 0.8 sec, total 36.7 sec\n",
      "[21, 6, 7, 1] sequence #172 ->\n",
      "           [21, 30, 16, 1] Proposed DP: 0.4 sec\n",
      "           [21, 30, 16, 1] Proposed ILP: 0.6 sec, total 37.0 sec\n",
      "[1, 30, 7] sequence #173 ->\n",
      "           [1, 16, 7] Proposed DP: 0.2 sec\n",
      "           [1, 16, 7] Proposed ILP: 0.8 sec, total 37.0 sec\n",
      "[24, 28, 22, 21] sequence #174 ->\n",
      "           [24, 22, 23, 21] Proposed DP: 0.4 sec\n",
      "           [24, 22, 23, 21] Proposed ILP: 0.7 sec, total 36.8 sec\n",
      "[23, 28, 21] sequence #175 ->\n",
      "           [23, 28, 21] Proposed DP: 0.2 sec\n",
      "           [23, 28, 21] Proposed ILP: 0.8 sec, total 36.8 sec\n",
      "[21, 28, 22, 16] sequence #176 ->\n",
      "           [21, 23, 28, 16] Proposed DP: 0.4 sec\n",
      "           [21, 23, 28, 16] Proposed ILP: 0.7 sec, total 36.9 sec\n",
      "[24, 8, 16] sequence #177 ->\n",
      "           [24, 30, 16] Proposed DP: 0.2 sec\n",
      "           [24, 30, 16] Proposed ILP: 0.8 sec, total 36.9 sec\n",
      "[22, 25, 6] sequence #178 ->\n",
      "           [22, 28, 6] Proposed DP: 0.2 sec\n",
      "           [22, 28, 6] Proposed ILP: 0.8 sec, total 37.3 sec\n",
      "[7, 30, 16] sequence #179 ->\n",
      "           [7, 30, 16] Proposed DP: 0.2 sec\n",
      "           [7, 30, 16] Proposed ILP: 0.8 sec, total 36.8 sec\n",
      "[2, 14, 17] sequence #180 ->\n",
      "           [2, 14, 17] Proposed DP: 0.2 sec\n",
      "           [2, 14, 17] Proposed ILP: 0.9 sec, total 37.0 sec\n",
      "[22, 28, 23, 21] sequence #181 ->\n",
      "           [22, 23, 28, 21] Proposed DP: 0.4 sec\n",
      "           [22, 23, 28, 21] Proposed ILP: 0.6 sec, total 37.0 sec\n",
      "[22, 28, 21] sequence #182 ->\n",
      "           [22, 28, 21] Proposed DP: 0.2 sec\n",
      "           [22, 28, 21] Proposed ILP: 0.8 sec, total 36.9 sec\n",
      "[21, 23, 22, 28] sequence #183 ->\n",
      "           [21, 28, 23, 28] Proposed DP: 0.4 sec\n",
      "           [21, 23, 22, 28] Proposed ILP: 0.6 sec, total 36.8 sec\n",
      "[30, 8, 7] sequence #184 ->\n",
      "           [30, 16, 7] Proposed DP: 0.2 sec\n",
      "           [30, 16, 7] Proposed ILP: 0.9 sec, total 37.1 sec\n",
      "[25, 1, 7] sequence #185 ->\n",
      "           [25, 30, 7] Proposed DP: 0.2 sec\n",
      "           [25, 30, 7] Proposed ILP: 0.8 sec, total 36.6 sec\n",
      "[23, 28, 22] sequence #186 ->\n",
      "           [23, 28, 22] Proposed DP: 0.2 sec\n",
      "           [23, 28, 22] Proposed ILP: 0.8 sec, total 36.8 sec\n",
      "[23, 28, 21] sequence #187 ->\n",
      "           [23, 28, 21] Proposed DP: 0.2 sec\n",
      "           [23, 28, 21] Proposed ILP: 0.8 sec, total 36.9 sec\n",
      "[11, 29, 7] sequence #188 ->\n",
      "           [11, 28, 7] Proposed DP: 0.2 sec\n",
      "           [11, 28, 7] Proposed ILP: 0.8 sec, total 36.9 sec\n",
      "[21, 6, 25] sequence #189 ->\n",
      "           [21, 28, 25] Proposed DP: 0.2 sec\n",
      "           [21, 28, 25] Proposed ILP: 0.9 sec, total 37.0 sec\n",
      "[28, 16, 4] sequence #190 ->\n",
      "           [28, 16, 4] Proposed DP: 0.2 sec\n",
      "           [28, 16, 4] Proposed ILP: 0.8 sec, total 36.7 sec\n",
      "[24, 30, 7] sequence #191 ->\n",
      "           [24, 30, 7] Proposed DP: 0.2 sec\n",
      "           [24, 30, 7] Proposed ILP: 0.8 sec, total 37.0 sec\n",
      "[21, 23, 28, 22, 7] sequence #192 ->\n",
      "           [21, 28, 23, 28, 7] Proposed DP: 0.6 sec\n",
      "           [21, 28, 23, 30, 7] Proposed ILP: 0.6 sec, total 36.9 sec\n",
      "[7, 21, 23] sequence #193 ->\n",
      "           [7, 28, 23] Proposed DP: 0.2 sec\n",
      "           [7, 28, 23] Proposed ILP: 0.8 sec, total 36.9 sec\n",
      "[28, 22, 23] sequence #194 ->\n",
      "           [28, 22, 23] Proposed DP: 0.2 sec\n",
      "           [28, 22, 23] Proposed ILP: 0.8 sec, total 36.7 sec\n",
      "[6, 16, 4] sequence #195 ->\n",
      "           [6, 16, 4] Proposed DP: 0.2 sec\n",
      "           [6, 16, 4] Proposed ILP: 0.8 sec, total 36.9 sec\n",
      "[16, 4, 30, 21] sequence #196 ->\n",
      "           [16, 7, 28, 21] Proposed DP: 0.4 sec\n",
      "           [16, 7, 28, 21] Proposed ILP: 0.6 sec, total 36.8 sec\n",
      "[6, 22, 28] sequence #197 ->\n",
      "           [6, 23, 28] Proposed DP: 0.2 sec\n",
      "           [6, 23, 28] Proposed ILP: 1.0 sec, total 37.0 sec\n",
      "[21, 7, 30, 16, 4] sequence #198 ->\n",
      "           [21, 23, 28, 16, 4] Proposed DP: 0.6 sec\n",
      "           [21, 23, 28, 16, 4] Proposed ILP: 0.7 sec, total 37.2 sec\n",
      "[28, 22, 6] sequence #199 ->\n",
      "           [28, 23, 6] Proposed DP: 0.2 sec\n",
      "           [28, 23, 6] Proposed ILP: 0.9 sec, total 36.9 sec\n",
      "[23, 28, 3] sequence #200 ->\n",
      "           [23, 28, 3] Proposed DP: 0.2 sec\n",
      "           [23, 28, 3] Proposed ILP: 0.8 sec, total 36.9 sec\n",
      "[23, 27, 21] sequence #201 ->\n",
      "           [23, 28, 21] Proposed DP: 0.2 sec\n",
      "           [23, 28, 21] Proposed ILP: 0.9 sec, total 36.9 sec\n",
      "[23, 21, 28] sequence #202 ->\n",
      "           [23, 22, 28] Proposed DP: 0.2 sec\n",
      "           [23, 22, 28] Proposed ILP: 0.8 sec, total 37.0 sec\n",
      "[22, 4, 16, 24, 7, 6, 30] sequence #203 ->\n",
      "           [22, 23, 22, 23, 22, 23, 30] Proposed DP: 1.0 sec\n",
      "           [22, 23, 28, 8, 16, 7, 30] Proposed ILP: 0.8 sec, total 37.7 sec\n",
      "[30, 16, 7] sequence #204 ->\n",
      "           [30, 16, 7] Proposed DP: 0.2 sec\n",
      "           [30, 16, 7] Proposed ILP: 0.9 sec, total 36.9 sec\n",
      "[28, 25, 21] sequence #205 ->\n",
      "           [28, 23, 21] Proposed DP: 0.2 sec\n",
      "           [28, 23, 21] Proposed ILP: 0.8 sec, total 37.0 sec\n",
      "[29, 6, 22, 28, 21] sequence #206 ->\n",
      "           [29, 23, 28, 23, 21] Proposed DP: 0.6 sec\n",
      "           [29, 23, 22, 28, 21] Proposed ILP: 0.6 sec, total 37.1 sec\n",
      "[8, 4, 16] sequence #207 ->\n",
      "           [8, 4, 16] Proposed DP: 0.2 sec\n",
      "           [8, 4, 16] Proposed ILP: 0.9 sec, total 37.0 sec\n",
      "[22, 8, 3] sequence #208 ->\n",
      "           [22, 28, 3] Proposed DP: 0.2 sec\n",
      "           [22, 28, 3] Proposed ILP: 0.8 sec, total 36.7 sec\n",
      "[8, 19, 22] sequence #209 ->\n",
      "           [8, 23, 22] Proposed DP: 0.2 sec\n",
      "           [8, 23, 22] Proposed ILP: 0.8 sec, total 36.9 sec\n",
      "[8, 16, 22] sequence #210 ->\n",
      "           [8, 23, 22] Proposed DP: 0.2 sec\n",
      "           [8, 23, 22] Proposed ILP: 0.8 sec, total 37.0 sec\n",
      "[16, 4, 25] sequence #211 ->\n",
      "           [16, 30, 25] Proposed DP: 0.2 sec\n",
      "           [16, 30, 25] Proposed ILP: 0.8 sec, total 37.0 sec\n",
      "[21, 23, 22] sequence #212 ->\n",
      "           [21, 28, 22] Proposed DP: 0.2 sec\n",
      "           [21, 28, 22] Proposed ILP: 0.8 sec, total 37.0 sec\n",
      "[16, 7, 28] sequence #213 ->\n",
      "           [16, 7, 28] Proposed DP: 0.2 sec\n",
      "           [16, 7, 28] Proposed ILP: 0.8 sec, total 36.7 sec\n",
      "[27, 11, 30] sequence #214 ->\n",
      "           [27, 22, 30] Proposed DP: 0.2 sec\n",
      "           [27, 22, 30] Proposed ILP: 0.8 sec, total 37.0 sec\n",
      "[30, 23, 21, 22] sequence #215 ->\n",
      "           [30, 23, 28, 22] Proposed DP: 0.4 sec\n",
      "           [30, 23, 28, 22] Proposed ILP: 0.7 sec, total 36.8 sec\n",
      "[21, 30, 8, 16, 4] sequence #216 ->\n",
      "           [21, 23, 28, 16, 4] Proposed DP: 0.6 sec\n",
      "           [21, 23, 28, 16, 4] Proposed ILP: 0.7 sec, total 37.1 sec\n",
      "[21, 22, 4, 16, 25, 11] sequence #217 ->\n",
      "           [21, 23, 28, 23, 28, 11] Proposed DP: 0.8 sec\n",
      "           [21, 30, 23, 22, 28, 11] Proposed ILP: 0.8 sec, total 37.3 sec\n",
      "[7, 30, 6] sequence #218 ->\n",
      "           [7, 30, 6] Proposed DP: 0.2 sec\n",
      "           [7, 30, 6] Proposed ILP: 0.8 sec, total 37.1 sec\n",
      "[25, 7, 30] sequence #219 ->\n",
      "           [25, 22, 30] Proposed DP: 0.2 sec\n",
      "           [25, 22, 30] Proposed ILP: 0.8 sec, total 36.9 sec\n",
      "[8, 16, 1] sequence #220 ->\n",
      "           [8, 16, 1] Proposed DP: 0.2 sec\n",
      "           [8, 16, 1] Proposed ILP: 0.8 sec, total 37.6 sec\n",
      "[21, 8, 22, 28, 23, 3] sequence #221 ->\n",
      "           [21, 23, 28, 23, 28, 3] Proposed DP: 0.8 sec\n",
      "           [21, 23, 22, 28, 6, 3] Proposed ILP: 0.9 sec, total 37.5 sec\n",
      "[28, 23, 22] sequence #222 ->\n",
      "           [28, 23, 22] Proposed DP: 0.2 sec\n",
      "           [28, 23, 22] Proposed ILP: 0.9 sec, total 37.4 sec\n",
      "[8, 22, 28, 16, 7] sequence #223 ->\n",
      "           [8, 16, 4, 16, 7] Proposed DP: 0.6 sec\n",
      "           [8, 30, 4, 16, 7] Proposed ILP: 1.1 sec, total 37.6 sec\n",
      "[30, 24, 22] sequence #224 ->\n",
      "           [30, 23, 22] Proposed DP: 0.2 sec\n",
      "           [30, 23, 22] Proposed ILP: 0.8 sec, total 36.8 sec\n",
      "[30, 7, 23, 21] sequence #225 ->\n",
      "           [30, 23, 28, 21] Proposed DP: 0.4 sec\n",
      "           [30, 23, 28, 21] Proposed ILP: 0.6 sec, total 36.9 sec\n",
      "[4, 10, 1] sequence #226 ->\n",
      "           [4, 16, 1] Proposed DP: 0.2 sec\n",
      "           [4, 16, 1] Proposed ILP: 0.8 sec, total 36.8 sec\n",
      "[23, 30, 16] sequence #227 ->\n",
      "           [23, 28, 16] Proposed DP: 0.2 sec\n",
      "           [23, 28, 16] Proposed ILP: 0.8 sec, total 37.1 sec\n",
      "[22, 28, 4] sequence #228 ->\n",
      "           [22, 30, 4] Proposed DP: 0.2 sec\n",
      "           [22, 30, 4] Proposed ILP: 0.8 sec, total 36.9 sec\n",
      "[13, 4, 16] sequence #229 ->\n",
      "           [13, 22, 16] Proposed DP: 0.2 sec\n",
      "           [13, 22, 16] Proposed ILP: 0.9 sec, total 37.1 sec\n",
      "[8, 24, 30] sequence #230 ->\n",
      "           [8, 23, 30] Proposed DP: 0.2 sec\n",
      "           [8, 23, 30] Proposed ILP: 0.9 sec, total 36.9 sec\n",
      "[6, 21, 22] sequence #231 ->\n",
      "           [6, 28, 22] Proposed DP: 0.2 sec\n",
      "           [6, 28, 22] Proposed ILP: 0.8 sec, total 36.8 sec\n",
      "[22, 16, 4] sequence #232 ->\n",
      "           [22, 28, 4] Proposed DP: 0.2 sec\n",
      "           [22, 28, 4] Proposed ILP: 0.8 sec, total 37.0 sec\n",
      "[7, 11, 25] sequence #233 ->\n",
      "           [7, 30, 25] Proposed DP: 0.2 sec\n",
      "           [7, 30, 25] Proposed ILP: 0.8 sec, total 36.7 sec\n",
      "[22, 28, 23, 21] sequence #234 ->\n",
      "           [22, 23, 28, 21] Proposed DP: 0.4 sec\n",
      "           [22, 23, 28, 21] Proposed ILP: 0.6 sec, total 37.1 sec\n",
      "[28, 4, 16] sequence #235 ->\n",
      "           [28, 7, 16] Proposed DP: 0.2 sec\n",
      "           [28, 7, 16] Proposed ILP: 0.9 sec, total 37.0 sec\n",
      "[2, 17, 14] sequence #236 ->\n",
      "           [2, 17, 14] Proposed DP: 0.2 sec\n",
      "           [2, 17, 14] Proposed ILP: 0.8 sec, total 36.7 sec\n",
      "[23, 22, 29] sequence #237 ->\n",
      "           [23, 22, 29] Proposed DP: 0.2 sec\n",
      "           [23, 22, 29] Proposed ILP: 0.8 sec, total 36.6 sec\n",
      "[4, 16, 8] sequence #238 ->\n",
      "           [4, 16, 8] Proposed DP: 0.2 sec\n",
      "           [4, 16, 8] Proposed ILP: 0.8 sec, total 36.9 sec\n",
      "[7, 22, 30, 16] sequence #239 ->\n",
      "           [7, 30, 4, 16] Proposed DP: 0.4 sec\n",
      "           [7, 30, 4, 16] Proposed ILP: 0.7 sec, total 36.8 sec\n",
      "[22, 23, 28] sequence #240 ->\n",
      "           [22, 23, 28] Proposed DP: 0.2 sec\n",
      "           [22, 23, 28] Proposed ILP: 0.8 sec, total 36.9 sec\n",
      "[22, 29, 16] sequence #241 ->\n",
      "           [22, 30, 16] Proposed DP: 0.2 sec\n",
      "           [22, 30, 16] Proposed ILP: 0.8 sec, total 36.7 sec\n",
      "[16, 4, 22, 28] sequence #242 ->\n",
      "           [16, 23, 22, 28] Proposed DP: 0.4 sec\n",
      "           [16, 23, 22, 28] Proposed ILP: 0.7 sec, total 36.9 sec\n",
      "[16, 8, 4] sequence #243 ->\n",
      "           [16, 8, 4] Proposed DP: 0.2 sec\n",
      "           [16, 8, 4] Proposed ILP: 0.9 sec, total 36.8 sec\n",
      "[4, 16, 8] sequence #244 ->\n",
      "           [4, 16, 8] Proposed DP: 0.2 sec\n",
      "           [4, 16, 8] Proposed ILP: 0.8 sec, total 36.9 sec\n",
      "[22, 21, 30] sequence #245 ->\n",
      "           [22, 23, 30] Proposed DP: 0.2 sec\n",
      "           [22, 23, 30] Proposed ILP: 0.8 sec, total 37.0 sec\n",
      "[11, 23, 3, 30, 7, 16, 4, 1, 2] sequence #246 ->\n",
      "           [11, 28, 22, 28, 23, 22, 28, 16, 2] Proposed DP: 1.4 sec\n",
      "           [11, 28, 23, 22, 30, 16, 4, 17, 2] Proposed ILP: 1.0 sec, total 38.2 sec\n",
      "[29, 21, 3, 30] sequence #247 ->\n",
      "           [29, 23, 22, 30] Proposed DP: 0.4 sec\n",
      "           [29, 23, 22, 30] Proposed ILP: 0.6 sec, total 36.8 sec\n",
      "[27, 29, 23] sequence #248 ->\n",
      "           [27, 28, 23] Proposed DP: 0.2 sec\n",
      "           [27, 28, 23] Proposed ILP: 0.8 sec, total 36.9 sec\n",
      "[16, 30, 28, 22, 29] sequence #249 ->\n",
      "           [16, 22, 23, 22, 29] Proposed DP: 0.6 sec\n",
      "           [16, 8, 23, 22, 29] Proposed ILP: 0.7 sec, total 37.2 sec\n",
      "[24, 16, 8] sequence #250 ->\n",
      "           [24, 30, 8] Proposed DP: 0.2 sec\n",
      "           [24, 30, 8] Proposed ILP: 0.8 sec, total 37.5 sec\n",
      "[16, 8, 30, 11, 25] sequence #251 ->\n",
      "           [16, 22, 30, 22, 25] Proposed DP: 0.6 sec\n",
      "           [16, 4, 30, 22, 25] Proposed ILP: 0.6 sec, total 37.2 sec\n",
      "[21, 6, 22, 28] sequence #252 ->\n",
      "           [21, 28, 23, 28] Proposed DP: 0.4 sec\n",
      "           [21, 23, 22, 28] Proposed ILP: 0.7 sec, total 37.0 sec\n",
      "[27, 11, 8] sequence #253 ->\n",
      "           [27, 28, 8] Proposed DP: 0.2 sec\n",
      "           [27, 28, 8] Proposed ILP: 0.8 sec, total 36.9 sec\n",
      "[23, 28, 22, 25, 4, 21] sequence #254 ->\n",
      "           [23, 28, 23, 28, 23, 21] Proposed DP: 0.8 sec\n",
      "           [23, 22, 30, 7, 28, 21] Proposed ILP: 1.4 sec, total 37.8 sec\n",
      "[21, 6, 23] sequence #255 ->\n",
      "           [21, 28, 23] Proposed DP: 0.2 sec\n",
      "           [21, 28, 23] Proposed ILP: 0.8 sec, total 37.0 sec\n",
      "[21, 24, 30] sequence #256 ->\n",
      "           [21, 23, 30] Proposed DP: 0.2 sec\n",
      "           [21, 23, 30] Proposed ILP: 0.8 sec, total 37.0 sec\n",
      "[25, 6, 22, 21, 28] sequence #257 ->\n",
      "           [25, 22, 23, 22, 28] Proposed DP: 0.6 sec\n",
      "           [25, 21, 23, 22, 28] Proposed ILP: 0.7 sec, total 37.0 sec\n",
      "[22, 28, 21] sequence #258 ->\n",
      "           [22, 23, 21] Proposed DP: 0.2 sec\n",
      "           [22, 23, 21] Proposed ILP: 0.8 sec, total 36.8 sec\n",
      "[23, 22, 21] sequence #259 ->\n",
      "           [23, 28, 21] Proposed DP: 0.2 sec\n",
      "           [23, 28, 21] Proposed ILP: 0.8 sec, total 36.9 sec\n",
      "[22, 29, 11] sequence #260 ->\n",
      "           [22, 28, 11] Proposed DP: 0.2 sec\n",
      "           [22, 28, 11] Proposed ILP: 0.8 sec, total 36.9 sec\n",
      "[21, 23, 6, 25, 27] sequence #261 ->\n",
      "           [21, 28, 23, 28, 27] Proposed DP: 0.6 sec\n",
      "           [21, 28, 23, 22, 27] Proposed ILP: 0.6 sec, total 37.0 sec\n",
      "[16, 8, 28, 22, 6] sequence #262 ->\n",
      "           [16, 30, 22, 28, 6] Proposed DP: 0.6 sec\n",
      "           [16, 30, 22, 28, 6] Proposed ILP: 0.9 sec, total 37.3 sec\n",
      "[6, 13, 11] sequence #263 ->\n",
      "           [6, 22, 11] Proposed DP: 0.2 sec\n",
      "           [6, 22, 11] Proposed ILP: 0.9 sec, total 36.8 sec\n",
      "[1, 7, 28] sequence #264 ->\n",
      "           [1, 22, 28] Proposed DP: 0.2 sec\n",
      "           [1, 22, 28] Proposed ILP: 0.8 sec, total 36.5 sec\n",
      "[22, 23, 28] sequence #265 ->\n",
      "           [22, 23, 28] Proposed DP: 0.2 sec\n",
      "           [22, 23, 28] Proposed ILP: 0.8 sec, total 36.7 sec\n",
      "[21, 23, 28, 30, 16, 1, 4, 24, 7, 19] sequence #266 ->\n",
      "           [21, 28, 23, 22, 23, 22, 23, 22, 23, 19] Proposed DP: 1.7 sec\n",
      "           [21, 28, 7, 16, 4, 8, 30, 22, 23, 19] Proposed ILP: 0.9 sec, total 38.4 sec\n",
      "[28, 23, 21] sequence #267 ->\n",
      "           [28, 23, 21] Proposed DP: 0.2 sec\n",
      "           [28, 23, 21] Proposed ILP: 0.8 sec, total 36.8 sec\n",
      "[11, 19, 15] sequence #268 ->\n",
      "           [11, 22, 15] Proposed DP: 0.2 sec\n",
      "           [11, 22, 15] Proposed ILP: 0.9 sec, total 36.7 sec\n",
      "[30, 22, 28, 7, 8] sequence #269 ->\n",
      "           [30, 16, 4, 16, 8] Proposed DP: 0.6 sec\n",
      "           [30, 7, 16, 4, 8] Proposed ILP: 1.0 sec, total 37.3 sec\n",
      "[6, 27, 11] sequence #270 ->\n",
      "           [6, 28, 11] Proposed DP: 0.2 sec\n",
      "           [6, 28, 11] Proposed ILP: 0.8 sec, total 36.8 sec\n",
      "[23, 21, 30] sequence #271 ->\n",
      "           [23, 22, 30] Proposed DP: 0.2 sec\n",
      "           [23, 22, 30] Proposed ILP: 0.8 sec, total 36.8 sec\n",
      "[16, 4, 8] sequence #272 ->\n",
      "           [16, 4, 8] Proposed DP: 0.2 sec\n",
      "           [16, 4, 8] Proposed ILP: 0.9 sec, total 37.0 sec\n",
      "[30, 7, 22, 23, 21] sequence #273 ->\n",
      "           [30, 23, 22, 23, 21] Proposed DP: 0.6 sec\n",
      "           [30, 22, 28, 23, 21] Proposed ILP: 0.9 sec, total 37.2 sec\n",
      "[22, 11, 16] sequence #274 ->\n",
      "           [22, 28, 16] Proposed DP: 0.2 sec\n",
      "           [22, 28, 16] Proposed ILP: 0.8 sec, total 36.9 sec\n",
      "[22, 28, 23, 21] sequence #275 ->\n",
      "           [22, 23, 28, 21] Proposed DP: 0.4 sec\n",
      "           [22, 23, 28, 21] Proposed ILP: 0.6 sec, total 36.9 sec\n",
      "[3, 21, 22, 25] sequence #276 ->\n",
      "           [3, 28, 22, 25] Proposed DP: 0.4 sec\n",
      "           [3, 28, 22, 25] Proposed ILP: 0.8 sec, total 37.3 sec\n",
      "[4, 2, 17] sequence #277 ->\n",
      "           [4, 30, 17] Proposed DP: 0.2 sec\n",
      "           [4, 30, 17] Proposed ILP: 0.9 sec, total 36.7 sec\n",
      "[7, 22, 23, 3, 29] sequence #278 ->\n",
      "           [7, 23, 22, 23, 29] Proposed DP: 0.6 sec\n",
      "           [7, 28, 23, 22, 29] Proposed ILP: 0.8 sec, total 37.7 sec\n",
      "[21, 22, 3] sequence #279 ->\n",
      "           [21, 28, 3] Proposed DP: 0.2 sec\n",
      "           [21, 28, 3] Proposed ILP: 0.8 sec, total 36.8 sec\n",
      "[3, 21, 23] sequence #280 ->\n",
      "           [3, 28, 23] Proposed DP: 0.2 sec\n",
      "           [3, 28, 23] Proposed ILP: 0.8 sec, total 36.7 sec\n",
      "[3, 30, 22] sequence #281 ->\n",
      "           [3, 28, 22] Proposed DP: 0.2 sec\n",
      "           [3, 28, 22] Proposed ILP: 0.8 sec, total 36.7 sec\n",
      "[30, 23, 21, 22, 6, 16] sequence #282 ->\n",
      "           [30, 16, 4, 16, 4, 16] Proposed DP: 0.8 sec\n",
      "           [30, 22, 23, 28, 7, 16] Proposed ILP: 1.1 sec, total 37.6 sec\n",
      "[21, 23, 1] sequence #283 ->\n",
      "           [21, 30, 1] Proposed DP: 0.2 sec\n",
      "           [21, 30, 1] Proposed ILP: 0.8 sec, total 37.2 sec\n",
      "[6, 22, 28, 21, 23, 30, 7] sequence #284 ->\n",
      "           [6, 28, 22, 28, 22, 30, 7] Proposed DP: 1.0 sec\n",
      "           [6, 28, 21, 23, 22, 30, 7] Proposed ILP: 0.8 sec, total 37.6 sec\n",
      "[21, 22, 23] sequence #285 ->\n",
      "           [21, 28, 23] Proposed DP: 0.2 sec\n",
      "           [21, 28, 23] Proposed ILP: 0.9 sec, total 37.1 sec\n",
      "[3, 21, 23, 28, 7, 30, 22] sequence #286 ->\n",
      "           [3, 28, 23, 28, 23, 28, 22] Proposed DP: 1.0 sec\n",
      "           [3, 16, 7, 30, 23, 28, 22] Proposed ILP: 1.2 sec, total 38.0 sec\n",
      "[6, 4, 30, 7, 28, 21] sequence #287 ->\n",
      "           [6, 28, 23, 28, 23, 21] Proposed DP: 0.8 sec\n",
      "           [6, 30, 23, 22, 28, 21] Proposed ILP: 0.9 sec, total 37.5 sec\n",
      "[29, 22, 28, 23, 21, 27] sequence #288 ->\n",
      "           [29, 22, 23, 22, 21, 27] Proposed DP: 0.8 sec\n",
      "           [29, 22, 23, 21, 28, 27] Proposed ILP: 1.0 sec, total 37.6 sec\n",
      "[21, 23, 28, 6] sequence #289 ->\n",
      "           [21, 23, 28, 6] Proposed DP: 0.4 sec\n",
      "           [21, 23, 28, 6] Proposed ILP: 0.6 sec, total 36.7 sec\n",
      "[22, 29, 24, 11] sequence #290 ->\n",
      "           [22, 23, 28, 11] Proposed DP: 0.4 sec\n",
      "           [22, 23, 28, 11] Proposed ILP: 0.6 sec, total 37.0 sec\n",
      "[28, 22, 21] sequence #291 ->\n",
      "           [28, 23, 21] Proposed DP: 0.2 sec\n",
      "           [28, 23, 21] Proposed ILP: 0.8 sec, total 36.8 sec\n",
      "[2, 17, 14] sequence #292 ->\n",
      "           [2, 17, 14] Proposed DP: 0.2 sec\n",
      "           [2, 17, 14] Proposed ILP: 0.8 sec, total 36.7 sec\n",
      "[7, 28, 22, 30] sequence #293 ->\n",
      "           [7, 30, 7, 30] Proposed DP: 0.4 sec\n",
      "           [7, 16, 4, 30] Proposed ILP: 0.9 sec, total 37.2 sec\n",
      "[22, 28, 23, 3] sequence #294 ->\n",
      "           [22, 23, 28, 3] Proposed DP: 0.4 sec\n",
      "           [22, 23, 28, 3] Proposed ILP: 0.6 sec, total 36.7 sec\n",
      "[24, 15, 19] sequence #295 ->\n",
      "           [24, 30, 19] Proposed DP: 0.2 sec\n",
      "           [24, 30, 19] Proposed ILP: 0.9 sec, total 36.7 sec\n",
      "[23, 22, 21] sequence #296 ->\n",
      "           [23, 28, 21] Proposed DP: 0.2 sec\n",
      "           [23, 28, 21] Proposed ILP: 0.8 sec, total 36.9 sec\n",
      "[22, 21, 3, 23, 28] sequence #297 ->\n",
      "           [22, 23, 28, 23, 28] Proposed DP: 0.6 sec\n",
      "           [22, 23, 21, 6, 28] Proposed ILP: 1.0 sec, total 37.4 sec\n",
      "[22, 30, 21] sequence #298 ->\n",
      "           [22, 28, 21] Proposed DP: 0.2 sec\n",
      "           [22, 28, 21] Proposed ILP: 0.8 sec, total 36.7 sec\n",
      "[7, 28, 23, 21, 3, 4, 8, 16] sequence #299 ->\n",
      "           [7, 22, 23, 22, 23, 22, 30, 16] Proposed DP: 1.2 sec\n",
      "           [7, 30, 22, 23, 21, 28, 4, 16] Proposed ILP: 0.6 sec, total 37.6 sec\n",
      "[30, 1, 8, 16, 23] sequence #300 ->\n",
      "           [30, 22, 28, 22, 23] Proposed DP: 0.6 sec\n",
      "           [30, 22, 28, 21, 23] Proposed ILP: 0.6 sec, total 36.9 sec\n",
      "[13, 24, 16] sequence #301 ->\n",
      "           [13, 28, 16] Proposed DP: 0.2 sec\n",
      "           [13, 28, 16] Proposed ILP: 0.9 sec, total 37.0 sec\n",
      "[7, 16, 30] sequence #302 ->\n",
      "           [7, 16, 30] Proposed DP: 0.2 sec\n",
      "           [7, 16, 30] Proposed ILP: 0.9 sec, total 36.8 sec\n",
      "[7, 16, 8] sequence #303 ->\n",
      "           [7, 30, 8] Proposed DP: 0.2 sec\n",
      "           [7, 30, 8] Proposed ILP: 0.8 sec, total 36.9 sec\n",
      "[30, 7, 24, 16] sequence #304 ->\n",
      "           [30, 16, 4, 16] Proposed DP: 0.4 sec\n",
      "           [30, 23, 22, 16] Proposed ILP: 0.7 sec, total 36.8 sec\n",
      "[30, 16, 4, 1, 7] sequence #305 ->\n",
      "           [30, 22, 23, 22, 7] Proposed DP: 0.6 sec\n",
      "           [30, 23, 22, 28, 7] Proposed ILP: 0.7 sec, total 37.2 sec\n",
      "[6, 16, 11, 4, 8] sequence #306 ->\n",
      "           [6, 28, 22, 30, 8] Proposed DP: 0.6 sec\n",
      "           [6, 28, 22, 30, 8] Proposed ILP: 0.7 sec, total 37.1 sec\n",
      "[28, 22, 16, 30, 7] sequence #307 ->\n",
      "           [28, 23, 22, 28, 7] Proposed DP: 0.7 sec\n",
      "           [28, 23, 22, 30, 7] Proposed ILP: 0.7 sec, total 37.1 sec\n",
      "[3, 21, 22, 6] sequence #308 ->\n",
      "           [3, 22, 23, 6] Proposed DP: 0.4 sec\n",
      "           [3, 22, 23, 6] Proposed ILP: 1.0 sec, total 37.0 sec\n",
      "[22, 21, 6, 16] sequence #309 ->\n",
      "           [22, 23, 28, 16] Proposed DP: 0.4 sec\n",
      "           [22, 23, 28, 16] Proposed ILP: 0.7 sec, total 36.9 sec\n",
      "[7, 22, 16] sequence #310 ->\n",
      "           [7, 30, 16] Proposed DP: 0.2 sec\n",
      "           [7, 30, 16] Proposed ILP: 0.8 sec, total 36.9 sec\n",
      "[22, 28, 23] sequence #311 ->\n",
      "           [22, 28, 23] Proposed DP: 0.2 sec\n",
      "           [22, 28, 23] Proposed ILP: 0.8 sec, total 36.7 sec\n",
      "[23, 22, 16] sequence #312 ->\n",
      "           [23, 28, 16] Proposed DP: 0.2 sec\n",
      "           [23, 28, 16] Proposed ILP: 0.8 sec, total 36.8 sec\n",
      "[11, 24, 16, 7] sequence #313 ->\n",
      "           [11, 23, 28, 7] Proposed DP: 0.4 sec\n",
      "           [11, 23, 28, 7] Proposed ILP: 0.7 sec, total 36.9 sec\n",
      "[6, 11, 21, 28] sequence #314 ->\n",
      "           [6, 23, 22, 28] Proposed DP: 0.4 sec\n",
      "           [6, 23, 22, 28] Proposed ILP: 0.7 sec, total 36.8 sec\n",
      "[22, 16, 8] sequence #315 ->\n",
      "           [22, 30, 8] Proposed DP: 0.2 sec\n",
      "           [22, 30, 8] Proposed ILP: 0.8 sec, total 36.8 sec\n",
      "[28, 21, 23] sequence #316 ->\n",
      "           [28, 22, 23] Proposed DP: 0.2 sec\n",
      "           [28, 22, 23] Proposed ILP: 0.9 sec, total 36.8 sec\n",
      "[14, 2, 17] sequence #317 ->\n",
      "           [14, 2, 17] Proposed DP: 0.2 sec\n",
      "           [14, 2, 17] Proposed ILP: 0.8 sec, total 36.7 sec\n",
      "[25, 22, 23, 21] sequence #318 ->\n",
      "           [25, 22, 23, 21] Proposed DP: 0.4 sec\n",
      "           [25, 22, 23, 21] Proposed ILP: 0.7 sec, total 36.9 sec\n",
      "[21, 23, 28] sequence #319 ->\n",
      "           [21, 23, 28] Proposed DP: 0.2 sec\n",
      "           [21, 23, 28] Proposed ILP: 0.8 sec, total 37.0 sec\n",
      "[7, 16, 11] sequence #320 ->\n",
      "           [7, 23, 11] Proposed DP: 0.2 sec\n",
      "           [7, 23, 11] Proposed ILP: 0.8 sec, total 36.8 sec\n",
      "[7, 30, 8] sequence #321 ->\n",
      "           [7, 30, 8] Proposed DP: 0.2 sec\n",
      "           [7, 30, 8] Proposed ILP: 0.8 sec, total 36.9 sec\n",
      "[2, 14, 17] sequence #322 ->\n",
      "           [2, 14, 17] Proposed DP: 0.2 sec\n",
      "           [2, 14, 17] Proposed ILP: 0.8 sec, total 36.8 sec\n",
      "[28, 4, 16] sequence #323 ->\n",
      "           [28, 7, 16] Proposed DP: 0.2 sec\n",
      "           [28, 7, 16] Proposed ILP: 0.9 sec, total 36.8 sec\n",
      "[23, 28, 7, 24] sequence #324 ->\n",
      "           [23, 22, 28, 24] Proposed DP: 0.4 sec\n",
      "           [23, 22, 28, 24] Proposed ILP: 0.7 sec, total 36.9 sec\n",
      "[1, 30, 4] sequence #325 ->\n",
      "           [1, 16, 4] Proposed DP: 0.2 sec\n",
      "           [1, 16, 4] Proposed ILP: 0.8 sec, total 36.8 sec\n",
      "[22, 23, 21] sequence #326 ->\n",
      "           [22, 28, 21] Proposed DP: 0.2 sec\n",
      "           [22, 28, 21] Proposed ILP: 0.8 sec, total 36.7 sec\n",
      "[25, 29, 8] sequence #327 ->\n",
      "           [25, 30, 8] Proposed DP: 0.2 sec\n",
      "           [25, 30, 8] Proposed ILP: 0.8 sec, total 36.8 sec\n",
      "[28, 21, 30] sequence #328 ->\n",
      "           [28, 23, 30] Proposed DP: 0.2 sec\n",
      "           [28, 23, 30] Proposed ILP: 0.8 sec, total 36.8 sec\n",
      "[21, 23, 28] sequence #329 ->\n",
      "           [21, 23, 28] Proposed DP: 0.2 sec\n",
      "           [21, 23, 28] Proposed ILP: 0.8 sec, total 36.7 sec\n",
      "[11, 29, 6, 22, 28, 7, 30, 1, 15] sequence #330 ->\n",
      "           [11, 28, 23, 28, 23, 28, 23, 30, 15] Proposed DP: 1.5 sec\n",
      "           [11, 28, 22, 23, 21, 30, 16, 4, 15] Proposed ILP: 0.8 sec, total 38.1 sec\n",
      "[16, 22, 29] sequence #331 ->\n",
      "           [16, 8, 29] Proposed DP: 0.2 sec\n",
      "           [16, 8, 29] Proposed ILP: 0.8 sec, total 36.7 sec\n",
      "[11, 29, 13, 30, 2, 23, 7, 21] sequence #332 ->\n",
      "           [11, 28, 23, 21, 23, 21, 23, 21] Proposed DP: 1.3 sec\n",
      "           [11, 16, 4, 30, 22, 28, 23, 21] Proposed ILP: 1.0 sec, total 38.0 sec\n",
      "[22, 28, 21] sequence #333 ->\n",
      "           [22, 28, 21] Proposed DP: 0.2 sec\n",
      "           [22, 28, 21] Proposed ILP: 0.8 sec, total 36.7 sec\n",
      "[28, 23, 21] sequence #334 ->\n",
      "           [28, 23, 21] Proposed DP: 0.2 sec\n",
      "           [28, 23, 21] Proposed ILP: 0.8 sec, total 37.1 sec\n",
      "[23, 30, 22, 28, 3] sequence #335 ->\n",
      "           [23, 28, 22, 28, 3] Proposed DP: 0.6 sec\n",
      "           [23, 21, 22, 28, 3] Proposed ILP: 0.6 sec, total 36.8 sec\n"
     ]
    }
   ],
   "source": [
    "poi_info_ = calc_poi_info(seqid_set_cv, seq_all, poi_all) # use all dataset to compute aggregated features\n",
    "poi_dist_mat = calc_dist_mat(poi_info_)\n",
    "eta = 0.5\n",
    "n = 1\n",
    "for i in range(len(seqid_set_cv)):\n",
    "    seqid_set_train = seqid_set_cv[:i] + seqid_set_cv[i+1:]\n",
    "    seqid = seqid_set_cv[i]\n",
    "    seq_ = extract_seq(seqid, seq_all)\n",
    "    # some POI in sequence, e.g. 20 in [20, 25, 30], not exist in training set\n",
    "    # NOTE: only sequence [11, 29, 6, 22, 7, 1, 15] (seqid:5964 in seqid_set_exp) contains POI '15'\n",
    "    #poi_info_ = calc_poi_info(seqid_set_train, seq_all, poi_all)\n",
    "    print(seq_, 'sequence #%d ->' % n); sys.stdout.flush()\n",
    "    \n",
    "    # proposed method DP & ILP\n",
    "    poi_logtransmat = gen_poi_logtransmat(seqid_set_train, seq_all, poi_info_)\n",
    "    t1 = time.time()\n",
    "    seq_r1, seq_r2, dt1, dt2 = recommend(seqid_set_train, seq_all, poi_info_, query_id_dict, \\\n",
    "                                         seq_[0], seq_[-1], len(seq_), poi_logtransmat)\n",
    "    F1_proposed1_cv.append(calc_F1score(seq_, seq_r1))\n",
    "    F1_proposed2_cv.append(calc_F1score(seq_, seq_r2))\n",
    "    print(' '*10, seq_r1, 'Proposed DP: %.1f sec' % dt1)\n",
    "    print(' '*10, seq_r2, 'Proposed ILP: %.1f sec, total %.1f sec' % (dt2, (time.time() - t1))); sys.stdout.flush()   \n",
    "    \n",
    "    # IJCAI ILP time constraint\n",
    "    #user_int_ = calc_user_interest(seqid_set_train, seq_all, poi_all, poi_info_) \n",
    "    #the_user_interest = user_int_['timeBased'].copy()\n",
    "    #user = seq_stats.loc[seqid, 'userID']\n",
    "    #budget = calc_seq_budget(user, seq_, poi_info_, poi_dist_mat, the_user_interest)\n",
    "    #t3 = time.time()\n",
    "    #seq_r3 = recommend_ijcai_ILP1(user, budget, eta, seq_[0], seq_[-1], poi_info_, poi_dist_mat, the_user_interest)\n",
    "    #F1_ijcai1_cv.append(calc_F1score(seq_, seq_r3))\n",
    "    #print(' '*10, seq_r3, 'IJCAI Time: %.1f sec' % (time.time() - t3)); sys.stdout.flush()\n",
    "    \n",
    "    # IJCAI ILP length constraint\n",
    "    #t4 = time.time()\n",
    "    #seq_r4 = recommend_ijcai_ILP2(user, the_user_interest, poi_info_, eta, seq_[0], seq_[-1], len(seq_))\n",
    "    #F1_ijcai2_cv.append(calc_F1score(seq_, seq_r4))\n",
    "    #print(' '*10, seq_r4, 'IJCAI Length: %.1f sec' % (time.time() - t4)); sys.stdout.flush()\n",
    "    \n",
    "    # Random guessing\n",
    "    F1_guess_cv.append(rand_guess(poi_info_.shape[0], len(seq_)))\n",
    "    n += 1"
   ]
  },
  {
   "cell_type": "code",
   "execution_count": 162,
   "metadata": {
    "collapsed": false
   },
   "outputs": [
    {
     "name": "stdout",
     "output_type": "stream",
     "text": [
      "Proposed  DP: 0.737745074163 0.16797878617\n",
      "Proposed ILP: 0.752548156653 0.163974250382\n",
      "Random guessing: 0.617140882887 0.0891018863105\n"
     ]
    }
   ],
   "source": [
    "print('Proposed  DP:', np.mean(F1_proposed1_cv), np.std(F1_proposed1_cv))\n",
    "print('Proposed ILP:', np.mean(F1_proposed2_cv), np.std(F1_proposed2_cv))\n",
    "#print('IJCAI   Time:', np.mean(F1_ijcai1_cv), np.std(F1_ijcai1_cv))\n",
    "#print('IJCAI Length:', np.mean(F1_ijcai2_cv), np.std(F1_ijcai2_cv))\n",
    "print('Random guessing:', np.mean(F1_guess_cv), np.std(F1_guess_cv))"
   ]
  },
  {
   "cell_type": "code",
   "execution_count": null,
   "metadata": {
    "collapsed": true
   },
   "outputs": [],
   "source": [
    "# Filtering out short trajectories (length 1 and 2)\n",
    "# without filtering out POIs with only 1 photo in trajectory\n",
    "# without filtering out duplicated trajectories\n",
    "# Softmax instead of Platt scaling\n",
    "#Proposed  DP: 0.737745074163 0.16797878617\n",
    "#Proposed ILP: 0.752548156653 0.163974250382\n",
    "#Random guessing: 0.617140882887 0.0891018863105"
   ]
  },
  {
   "cell_type": "code",
   "execution_count": null,
   "metadata": {
    "collapsed": true
   },
   "outputs": [],
   "source": [
    "# Filtering out short trajectories (length 1 and 2)\n",
    "# without filtering out POIs with only 1 photo in trajectory\n",
    "# without filtering out duplicated trajectories\n",
    "# Platt scaling with weighted loss\n",
    "#Proposed  DP: 0.736465136658 0.166024556123\n",
    "#Proposed ILP: 0.753136879704 0.160065067123\n",
    "#Random guessing: 0.617140882887 0.0891018863105"
   ]
  },
  {
   "cell_type": "code",
   "execution_count": null,
   "metadata": {
    "collapsed": true
   },
   "outputs": [],
   "source": [
    "# Filtering out short trajectories (length 1 and 2)\n",
    "# Filtering out POIs with only 1 photo in trajectory\n",
    "# Filtering out duplicated trajectories\n",
    "# Platt scaling with weighted loss\n",
    "#Proposed  DP: 0.718449749484 0.154176913386\n",
    "#Proposed ILP: 0.734646962233 0.161565841302"
   ]
  },
  {
   "cell_type": "code",
   "execution_count": null,
   "metadata": {
    "collapsed": true
   },
   "outputs": [],
   "source": [
    "# Filtering out short trajectories (length 1 and 2)\n",
    "# Filtering out POIs with only 1 photo in trajectory\n",
    "# Filtering out duplicated trajectories\n",
    "# Platt scaling without weighted loss\n",
    "#Proposed  DP: 0.708725087173 0.158279039682\n",
    "#Proposed ILP: 0.728612479475 0.161413210745\n",
    "#IJCAI   Time: 0.604779794109 0.292807962858\n",
    "#IJCAI Length: 0.702931718664 0.125695310026\n",
    "#Random guessing: 0.616263621436 0.0844841130269"
   ]
  }
 ],
 "metadata": {
  "kernelspec": {
   "display_name": "Python 3",
   "language": "python",
   "name": "python3"
  },
  "language_info": {
   "codemirror_mode": {
    "name": "ipython",
    "version": 3
   },
   "file_extension": ".py",
   "mimetype": "text/x-python",
   "name": "python",
   "nbconvert_exporter": "python",
   "pygments_lexer": "ipython3",
   "version": "3.5.1"
  }
 },
 "nbformat": 4,
 "nbformat_minor": 0
}
