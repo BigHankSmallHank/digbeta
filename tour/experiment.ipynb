{
 "cells": [
  {
   "cell_type": "markdown",
   "metadata": {},
   "source": [
    "**Before running this notebook, please run script `src/ijcai15_setup.py` to setup data properly.**"
   ]
  },
  {
   "cell_type": "code",
   "execution_count": 1,
   "metadata": {
    "collapsed": true
   },
   "outputs": [],
   "source": [
    "%matplotlib inline\n",
    "\n",
    "import os\n",
    "import math\n",
    "import random\n",
    "import pandas as pd\n",
    "import numpy as np\n",
    "from datetime import datetime\n",
    "import matplotlib.pyplot as plt"
   ]
  },
  {
   "cell_type": "code",
   "execution_count": 2,
   "metadata": {
    "collapsed": true
   },
   "outputs": [],
   "source": [
    "nfeatures = 8 # number of features\n",
    "EPS = 1e-9    # smooth, deal with 0 probability"
   ]
  },
  {
   "cell_type": "code",
   "execution_count": 3,
   "metadata": {
    "collapsed": true
   },
   "outputs": [],
   "source": [
    "data_dir = 'data/data-ijcai15'\n",
    "fvisit = os.path.join(data_dir, 'userVisits-Edin.csv')\n",
    "fcoord = os.path.join(data_dir, 'photoCoords-Edin.csv')"
   ]
  },
  {
   "cell_type": "code",
   "execution_count": 4,
   "metadata": {
    "collapsed": false
   },
   "outputs": [
    {
     "data": {
      "text/html": [
       "<div>\n",
       "<table border=\"1\" class=\"dataframe\">\n",
       "  <thead>\n",
       "    <tr style=\"text-align: right;\">\n",
       "      <th></th>\n",
       "      <th>photoID</th>\n",
       "      <th>userID</th>\n",
       "      <th>dateTaken</th>\n",
       "      <th>poiID</th>\n",
       "      <th>poiTheme</th>\n",
       "      <th>poiFreq</th>\n",
       "      <th>seqID</th>\n",
       "    </tr>\n",
       "  </thead>\n",
       "  <tbody>\n",
       "    <tr>\n",
       "      <th>0</th>\n",
       "      <td>355803498</td>\n",
       "      <td>10063645@N00</td>\n",
       "      <td>1168492531</td>\n",
       "      <td>17</td>\n",
       "      <td>Structure</td>\n",
       "      <td>1303</td>\n",
       "      <td>1</td>\n",
       "    </tr>\n",
       "    <tr>\n",
       "      <th>1</th>\n",
       "      <td>355803564</td>\n",
       "      <td>10063645@N00</td>\n",
       "      <td>1168492549</td>\n",
       "      <td>17</td>\n",
       "      <td>Structure</td>\n",
       "      <td>1303</td>\n",
       "      <td>1</td>\n",
       "    </tr>\n",
       "    <tr>\n",
       "      <th>2</th>\n",
       "      <td>355803639</td>\n",
       "      <td>10063645@N00</td>\n",
       "      <td>1168492558</td>\n",
       "      <td>17</td>\n",
       "      <td>Structure</td>\n",
       "      <td>1303</td>\n",
       "      <td>1</td>\n",
       "    </tr>\n",
       "    <tr>\n",
       "      <th>3</th>\n",
       "      <td>1431486935</td>\n",
       "      <td>10091295@N02</td>\n",
       "      <td>1190421746</td>\n",
       "      <td>12</td>\n",
       "      <td>Cultural</td>\n",
       "      <td>1208</td>\n",
       "      <td>2</td>\n",
       "    </tr>\n",
       "    <tr>\n",
       "      <th>4</th>\n",
       "      <td>1432364530</td>\n",
       "      <td>10091295@N02</td>\n",
       "      <td>1190421792</td>\n",
       "      <td>12</td>\n",
       "      <td>Cultural</td>\n",
       "      <td>1208</td>\n",
       "      <td>2</td>\n",
       "    </tr>\n",
       "  </tbody>\n",
       "</table>\n",
       "</div>"
      ],
      "text/plain": [
       "      photoID        userID   dateTaken  poiID   poiTheme  poiFreq  seqID\n",
       "0   355803498  10063645@N00  1168492531     17  Structure     1303      1\n",
       "1   355803564  10063645@N00  1168492549     17  Structure     1303      1\n",
       "2   355803639  10063645@N00  1168492558     17  Structure     1303      1\n",
       "3  1431486935  10091295@N02  1190421746     12   Cultural     1208      2\n",
       "4  1432364530  10091295@N02  1190421792     12   Cultural     1208      2"
      ]
     },
     "execution_count": 4,
     "metadata": {},
     "output_type": "execute_result"
    }
   ],
   "source": [
    "visits = pd.read_csv(fvisit, sep=';')\n",
    "visits.head()"
   ]
  },
  {
   "cell_type": "code",
   "execution_count": 5,
   "metadata": {
    "collapsed": false
   },
   "outputs": [
    {
     "data": {
      "text/html": [
       "<div>\n",
       "<table border=\"1\" class=\"dataframe\">\n",
       "  <thead>\n",
       "    <tr style=\"text-align: right;\">\n",
       "      <th></th>\n",
       "      <th>photoID</th>\n",
       "      <th>photoLon</th>\n",
       "      <th>photoLat</th>\n",
       "    </tr>\n",
       "  </thead>\n",
       "  <tbody>\n",
       "    <tr>\n",
       "      <th>0</th>\n",
       "      <td>355803498</td>\n",
       "      <td>-3.187738</td>\n",
       "      <td>55.949806</td>\n",
       "    </tr>\n",
       "    <tr>\n",
       "      <th>1</th>\n",
       "      <td>355803564</td>\n",
       "      <td>-3.187736</td>\n",
       "      <td>55.949802</td>\n",
       "    </tr>\n",
       "    <tr>\n",
       "      <th>2</th>\n",
       "      <td>355803639</td>\n",
       "      <td>-3.187706</td>\n",
       "      <td>55.949764</td>\n",
       "    </tr>\n",
       "    <tr>\n",
       "      <th>3</th>\n",
       "      <td>1431486935</td>\n",
       "      <td>-3.206677</td>\n",
       "      <td>55.947060</td>\n",
       "    </tr>\n",
       "    <tr>\n",
       "      <th>4</th>\n",
       "      <td>1432364530</td>\n",
       "      <td>-3.206677</td>\n",
       "      <td>55.947060</td>\n",
       "    </tr>\n",
       "  </tbody>\n",
       "</table>\n",
       "</div>"
      ],
      "text/plain": [
       "      photoID  photoLon   photoLat\n",
       "0   355803498 -3.187738  55.949806\n",
       "1   355803564 -3.187736  55.949802\n",
       "2   355803639 -3.187706  55.949764\n",
       "3  1431486935 -3.206677  55.947060\n",
       "4  1432364530 -3.206677  55.947060"
      ]
     },
     "execution_count": 5,
     "metadata": {},
     "output_type": "execute_result"
    }
   ],
   "source": [
    "coords = pd.read_csv(fcoord, sep=';')\n",
    "coords.head()"
   ]
  },
  {
   "cell_type": "code",
   "execution_count": 6,
   "metadata": {
    "collapsed": false
   },
   "outputs": [
    {
     "data": {
      "text/html": [
       "<div>\n",
       "<table border=\"1\" class=\"dataframe\">\n",
       "  <thead>\n",
       "    <tr style=\"text-align: right;\">\n",
       "      <th></th>\n",
       "      <th>photoID</th>\n",
       "      <th>userID</th>\n",
       "      <th>dateTaken</th>\n",
       "      <th>poiID</th>\n",
       "      <th>poiTheme</th>\n",
       "      <th>poiFreq</th>\n",
       "      <th>seqID</th>\n",
       "      <th>photoLon</th>\n",
       "      <th>photoLat</th>\n",
       "    </tr>\n",
       "  </thead>\n",
       "  <tbody>\n",
       "    <tr>\n",
       "      <th>0</th>\n",
       "      <td>355803498</td>\n",
       "      <td>10063645@N00</td>\n",
       "      <td>1168492531</td>\n",
       "      <td>17</td>\n",
       "      <td>Structure</td>\n",
       "      <td>1303</td>\n",
       "      <td>1</td>\n",
       "      <td>-3.187738</td>\n",
       "      <td>55.949806</td>\n",
       "    </tr>\n",
       "    <tr>\n",
       "      <th>1</th>\n",
       "      <td>355803564</td>\n",
       "      <td>10063645@N00</td>\n",
       "      <td>1168492549</td>\n",
       "      <td>17</td>\n",
       "      <td>Structure</td>\n",
       "      <td>1303</td>\n",
       "      <td>1</td>\n",
       "      <td>-3.187736</td>\n",
       "      <td>55.949802</td>\n",
       "    </tr>\n",
       "    <tr>\n",
       "      <th>2</th>\n",
       "      <td>355803639</td>\n",
       "      <td>10063645@N00</td>\n",
       "      <td>1168492558</td>\n",
       "      <td>17</td>\n",
       "      <td>Structure</td>\n",
       "      <td>1303</td>\n",
       "      <td>1</td>\n",
       "      <td>-3.187706</td>\n",
       "      <td>55.949764</td>\n",
       "    </tr>\n",
       "    <tr>\n",
       "      <th>3</th>\n",
       "      <td>1431486935</td>\n",
       "      <td>10091295@N02</td>\n",
       "      <td>1190421746</td>\n",
       "      <td>12</td>\n",
       "      <td>Cultural</td>\n",
       "      <td>1208</td>\n",
       "      <td>2</td>\n",
       "      <td>-3.206677</td>\n",
       "      <td>55.947060</td>\n",
       "    </tr>\n",
       "    <tr>\n",
       "      <th>4</th>\n",
       "      <td>1432364530</td>\n",
       "      <td>10091295@N02</td>\n",
       "      <td>1190421792</td>\n",
       "      <td>12</td>\n",
       "      <td>Cultural</td>\n",
       "      <td>1208</td>\n",
       "      <td>2</td>\n",
       "      <td>-3.206677</td>\n",
       "      <td>55.947060</td>\n",
       "    </tr>\n",
       "  </tbody>\n",
       "</table>\n",
       "</div>"
      ],
      "text/plain": [
       "      photoID        userID   dateTaken  poiID   poiTheme  poiFreq  seqID  \\\n",
       "0   355803498  10063645@N00  1168492531     17  Structure     1303      1   \n",
       "1   355803564  10063645@N00  1168492549     17  Structure     1303      1   \n",
       "2   355803639  10063645@N00  1168492558     17  Structure     1303      1   \n",
       "3  1431486935  10091295@N02  1190421746     12   Cultural     1208      2   \n",
       "4  1432364530  10091295@N02  1190421792     12   Cultural     1208      2   \n",
       "\n",
       "   photoLon   photoLat  \n",
       "0 -3.187738  55.949806  \n",
       "1 -3.187736  55.949802  \n",
       "2 -3.187706  55.949764  \n",
       "3 -3.206677  55.947060  \n",
       "4 -3.206677  55.947060  "
      ]
     },
     "execution_count": 6,
     "metadata": {},
     "output_type": "execute_result"
    }
   ],
   "source": [
    "# merge data frames according to column 'photoID'\n",
    "assert(visits.shape[0] == coords.shape[0])\n",
    "traj = pd.merge(visits, coords, on='photoID')\n",
    "traj.head()"
   ]
  },
  {
   "cell_type": "code",
   "execution_count": 7,
   "metadata": {
    "collapsed": false
   },
   "outputs": [
    {
     "data": {
      "text/html": [
       "<div>\n",
       "<table border=\"1\" class=\"dataframe\">\n",
       "  <thead>\n",
       "    <tr style=\"text-align: right;\">\n",
       "      <th></th>\n",
       "      <th>photoLon</th>\n",
       "      <th>photoLat</th>\n",
       "    </tr>\n",
       "  </thead>\n",
       "  <tbody>\n",
       "    <tr>\n",
       "      <th>min</th>\n",
       "      <td>-3.404581</td>\n",
       "      <td>55.918015</td>\n",
       "    </tr>\n",
       "    <tr>\n",
       "      <th>max</th>\n",
       "      <td>-3.159000</td>\n",
       "      <td>56.002472</td>\n",
       "    </tr>\n",
       "    <tr>\n",
       "      <th>range</th>\n",
       "      <td>0.245581</td>\n",
       "      <td>0.084457</td>\n",
       "    </tr>\n",
       "  </tbody>\n",
       "</table>\n",
       "</div>"
      ],
      "text/plain": [
       "       photoLon   photoLat\n",
       "min   -3.404581  55.918015\n",
       "max   -3.159000  56.002472\n",
       "range  0.245581   0.084457"
      ]
     },
     "execution_count": 7,
     "metadata": {},
     "output_type": "execute_result"
    }
   ],
   "source": [
    "pd.DataFrame([traj[['photoLon', 'photoLat']].min(), traj[['photoLon', 'photoLat']].max(), \\\n",
    "             traj[['photoLon', 'photoLat']].max() - traj[['photoLon', 'photoLat']].min()], \\\n",
    "             index = ['min', 'max', 'range'])"
   ]
  },
  {
   "cell_type": "code",
   "execution_count": 8,
   "metadata": {
    "collapsed": false
   },
   "outputs": [
    {
     "data": {
      "text/plain": [
       "<matplotlib.collections.PathCollection at 0x7f0675067518>"
      ]
     },
     "execution_count": 8,
     "metadata": {},
     "output_type": "execute_result"
    },
    {
     "data": {
      "image/png": "[encoded data removed]",
      "text/plain": [
       "<matplotlib.figure.Figure at 0x7f0675243048>"
      ]
     },
     "metadata": {},
     "output_type": "display_data"
    }
   ],
   "source": [
    "plt.figure(figsize=[15, 5])\n",
    "plt.xlabel('Longitude')\n",
    "plt.ylabel('Latitude')\n",
    "plt.scatter(traj['photoLon'], traj['photoLat'], marker='+')"
   ]
  },
  {
   "cell_type": "code",
   "execution_count": 9,
   "metadata": {
    "collapsed": false
   },
   "outputs": [
    {
     "data": {
      "text/html": [
       "<div>\n",
       "<table border=\"1\" class=\"dataframe\">\n",
       "  <thead>\n",
       "    <tr style=\"text-align: right;\">\n",
       "      <th></th>\n",
       "      <th>Edinburgh</th>\n",
       "    </tr>\n",
       "  </thead>\n",
       "  <tbody>\n",
       "    <tr>\n",
       "      <th>#photo</th>\n",
       "      <td>33944.000000</td>\n",
       "    </tr>\n",
       "    <tr>\n",
       "      <th>#user</th>\n",
       "      <td>1454.000000</td>\n",
       "    </tr>\n",
       "    <tr>\n",
       "      <th>#seq</th>\n",
       "      <td>5028.000000</td>\n",
       "    </tr>\n",
       "    <tr>\n",
       "      <th>#photo/user</th>\n",
       "      <td>23.345254</td>\n",
       "    </tr>\n",
       "    <tr>\n",
       "      <th>#seq/user</th>\n",
       "      <td>3.458047</td>\n",
       "    </tr>\n",
       "  </tbody>\n",
       "</table>\n",
       "</div>"
      ],
      "text/plain": [
       "                Edinburgh\n",
       "#photo       33944.000000\n",
       "#user         1454.000000\n",
       "#seq          5028.000000\n",
       "#photo/user     23.345254\n",
       "#seq/user        3.458047"
      ]
     },
     "execution_count": 9,
     "metadata": {},
     "output_type": "execute_result"
    }
   ],
   "source": [
    "num_photo = traj['photoID'].unique().shape[0]\n",
    "num_user = traj['userID'].unique().shape[0]\n",
    "num_seq = traj['seqID'].unique().shape[0]\n",
    "pd.DataFrame([num_photo, num_user, num_seq, num_photo/num_user, num_seq/num_user], \\\n",
    "             index = ['#photo', '#user', '#seq', '#photo/user', '#seq/user'], columns=['Edinburgh'])"
   ]
  },
  {
   "cell_type": "markdown",
   "metadata": {},
   "source": [
    "### Compute POI DataFrame"
   ]
  },
  {
   "cell_type": "markdown",
   "metadata": {},
   "source": [
    "POI category and visiting frequency."
   ]
  },
  {
   "cell_type": "code",
   "execution_count": 10,
   "metadata": {
    "collapsed": false
   },
   "outputs": [],
   "source": [
    "poi_catfreq = traj[['poiID', 'poiTheme', 'poiFreq']].groupby('poiID').first()\n",
    "poi_catfreq.reset_index(inplace=True)\n",
    "#poi_catfreq"
   ]
  },
  {
   "cell_type": "markdown",
   "metadata": {},
   "source": [
    "Compute POI (Longitude, Latitude) as the average coordinates of the assigned photos."
   ]
  },
  {
   "cell_type": "code",
   "execution_count": 11,
   "metadata": {
    "collapsed": false
   },
   "outputs": [],
   "source": [
    "poi_coords = traj[['poiID', 'photoLon', 'photoLat']].groupby('poiID').mean()\n",
    "poi_coords.reset_index(inplace=True)\n",
    "poi_coords.rename(columns={'photoLon':'poiLon', 'photoLat':'poiLat'}, inplace=True)\n",
    "#poi_coords"
   ]
  },
  {
   "cell_type": "code",
   "execution_count": 12,
   "metadata": {
    "collapsed": false
   },
   "outputs": [
    {
     "data": {
      "text/html": [
       "<div>\n",
       "<table border=\"1\" class=\"dataframe\">\n",
       "  <thead>\n",
       "    <tr style=\"text-align: right;\">\n",
       "      <th></th>\n",
       "      <th>poiTheme</th>\n",
       "      <th>poiFreq</th>\n",
       "      <th>poiLon</th>\n",
       "      <th>poiLat</th>\n",
       "    </tr>\n",
       "    <tr>\n",
       "      <th>poiID</th>\n",
       "      <th></th>\n",
       "      <th></th>\n",
       "      <th></th>\n",
       "      <th></th>\n",
       "    </tr>\n",
       "  </thead>\n",
       "  <tbody>\n",
       "    <tr>\n",
       "      <th>1</th>\n",
       "      <td>Historical</td>\n",
       "      <td>4569</td>\n",
       "      <td>-3.199862</td>\n",
       "      <td>55.948847</td>\n",
       "    </tr>\n",
       "    <tr>\n",
       "      <th>2</th>\n",
       "      <td>Historical</td>\n",
       "      <td>699</td>\n",
       "      <td>-3.172468</td>\n",
       "      <td>55.952763</td>\n",
       "    </tr>\n",
       "    <tr>\n",
       "      <th>3</th>\n",
       "      <td>Museum</td>\n",
       "      <td>3140</td>\n",
       "      <td>-3.190347</td>\n",
       "      <td>55.946723</td>\n",
       "    </tr>\n",
       "    <tr>\n",
       "      <th>4</th>\n",
       "      <td>Structure</td>\n",
       "      <td>886</td>\n",
       "      <td>-3.175121</td>\n",
       "      <td>55.952234</td>\n",
       "    </tr>\n",
       "    <tr>\n",
       "      <th>5</th>\n",
       "      <td>Structure</td>\n",
       "      <td>12</td>\n",
       "      <td>-3.388720</td>\n",
       "      <td>55.999739</td>\n",
       "    </tr>\n",
       "    <tr>\n",
       "      <th>6</th>\n",
       "      <td>Structure</td>\n",
       "      <td>11</td>\n",
       "      <td>-3.404049</td>\n",
       "      <td>56.001282</td>\n",
       "    </tr>\n",
       "    <tr>\n",
       "      <th>7</th>\n",
       "      <td>Park</td>\n",
       "      <td>378</td>\n",
       "      <td>-3.161888</td>\n",
       "      <td>55.944121</td>\n",
       "    </tr>\n",
       "    <tr>\n",
       "      <th>8</th>\n",
       "      <td>Historical</td>\n",
       "      <td>1887</td>\n",
       "      <td>-3.193194</td>\n",
       "      <td>55.952539</td>\n",
       "    </tr>\n",
       "    <tr>\n",
       "      <th>9</th>\n",
       "      <td>Cultural</td>\n",
       "      <td>4452</td>\n",
       "      <td>-3.190637</td>\n",
       "      <td>55.949809</td>\n",
       "    </tr>\n",
       "    <tr>\n",
       "      <th>10</th>\n",
       "      <td>Park</td>\n",
       "      <td>845</td>\n",
       "      <td>-3.182957</td>\n",
       "      <td>55.955150</td>\n",
       "    </tr>\n",
       "    <tr>\n",
       "      <th>11</th>\n",
       "      <td>Historical</td>\n",
       "      <td>999</td>\n",
       "      <td>-3.181937</td>\n",
       "      <td>55.954605</td>\n",
       "    </tr>\n",
       "    <tr>\n",
       "      <th>12</th>\n",
       "      <td>Cultural</td>\n",
       "      <td>1208</td>\n",
       "      <td>-3.204491</td>\n",
       "      <td>55.946805</td>\n",
       "    </tr>\n",
       "    <tr>\n",
       "      <th>13</th>\n",
       "      <td>Cultural</td>\n",
       "      <td>1360</td>\n",
       "      <td>-3.186982</td>\n",
       "      <td>55.946355</td>\n",
       "    </tr>\n",
       "    <tr>\n",
       "      <th>14</th>\n",
       "      <td>Structure</td>\n",
       "      <td>411</td>\n",
       "      <td>-3.209618</td>\n",
       "      <td>55.946110</td>\n",
       "    </tr>\n",
       "    <tr>\n",
       "      <th>15</th>\n",
       "      <td>Structure</td>\n",
       "      <td>1726</td>\n",
       "      <td>-3.196985</td>\n",
       "      <td>55.951824</td>\n",
       "    </tr>\n",
       "    <tr>\n",
       "      <th>16</th>\n",
       "      <td>Museum</td>\n",
       "      <td>423</td>\n",
       "      <td>-3.195738</td>\n",
       "      <td>55.951009</td>\n",
       "    </tr>\n",
       "    <tr>\n",
       "      <th>17</th>\n",
       "      <td>Structure</td>\n",
       "      <td>1303</td>\n",
       "      <td>-3.190235</td>\n",
       "      <td>55.948768</td>\n",
       "    </tr>\n",
       "    <tr>\n",
       "      <th>18</th>\n",
       "      <td>Park</td>\n",
       "      <td>1351</td>\n",
       "      <td>-3.202454</td>\n",
       "      <td>55.950541</td>\n",
       "    </tr>\n",
       "    <tr>\n",
       "      <th>19</th>\n",
       "      <td>Structure</td>\n",
       "      <td>1559</td>\n",
       "      <td>-3.189239</td>\n",
       "      <td>55.952620</td>\n",
       "    </tr>\n",
       "    <tr>\n",
       "      <th>20</th>\n",
       "      <td>Park</td>\n",
       "      <td>881</td>\n",
       "      <td>-3.207735</td>\n",
       "      <td>55.965883</td>\n",
       "    </tr>\n",
       "    <tr>\n",
       "      <th>21</th>\n",
       "      <td>Structure</td>\n",
       "      <td>167</td>\n",
       "      <td>-3.172436</td>\n",
       "      <td>55.977925</td>\n",
       "    </tr>\n",
       "    <tr>\n",
       "      <th>22</th>\n",
       "      <td>Structure</td>\n",
       "      <td>317</td>\n",
       "      <td>-3.207617</td>\n",
       "      <td>55.951754</td>\n",
       "    </tr>\n",
       "    <tr>\n",
       "      <th>23</th>\n",
       "      <td>Structure</td>\n",
       "      <td>480</td>\n",
       "      <td>-3.184724</td>\n",
       "      <td>55.953708</td>\n",
       "    </tr>\n",
       "    <tr>\n",
       "      <th>24</th>\n",
       "      <td>Entertainment</td>\n",
       "      <td>409</td>\n",
       "      <td>-3.174234</td>\n",
       "      <td>55.950749</td>\n",
       "    </tr>\n",
       "    <tr>\n",
       "      <th>25</th>\n",
       "      <td>Historical</td>\n",
       "      <td>5</td>\n",
       "      <td>-3.239229</td>\n",
       "      <td>55.918418</td>\n",
       "    </tr>\n",
       "    <tr>\n",
       "      <th>27</th>\n",
       "      <td>Museum</td>\n",
       "      <td>169</td>\n",
       "      <td>-3.227195</td>\n",
       "      <td>55.950876</td>\n",
       "    </tr>\n",
       "    <tr>\n",
       "      <th>28</th>\n",
       "      <td>Structure</td>\n",
       "      <td>1325</td>\n",
       "      <td>-3.186862</td>\n",
       "      <td>55.948246</td>\n",
       "    </tr>\n",
       "    <tr>\n",
       "      <th>29</th>\n",
       "      <td>Structure</td>\n",
       "      <td>2972</td>\n",
       "      <td>-3.195232</td>\n",
       "      <td>55.949089</td>\n",
       "    </tr>\n",
       "  </tbody>\n",
       "</table>\n",
       "</div>"
      ],
      "text/plain": [
       "            poiTheme  poiFreq    poiLon     poiLat\n",
       "poiID                                             \n",
       "1         Historical     4569 -3.199862  55.948847\n",
       "2         Historical      699 -3.172468  55.952763\n",
       "3             Museum     3140 -3.190347  55.946723\n",
       "4          Structure      886 -3.175121  55.952234\n",
       "5          Structure       12 -3.388720  55.999739\n",
       "6          Structure       11 -3.404049  56.001282\n",
       "7               Park      378 -3.161888  55.944121\n",
       "8         Historical     1887 -3.193194  55.952539\n",
       "9           Cultural     4452 -3.190637  55.949809\n",
       "10              Park      845 -3.182957  55.955150\n",
       "11        Historical      999 -3.181937  55.954605\n",
       "12          Cultural     1208 -3.204491  55.946805\n",
       "13          Cultural     1360 -3.186982  55.946355\n",
       "14         Structure      411 -3.209618  55.946110\n",
       "15         Structure     1726 -3.196985  55.951824\n",
       "16            Museum      423 -3.195738  55.951009\n",
       "17         Structure     1303 -3.190235  55.948768\n",
       "18              Park     1351 -3.202454  55.950541\n",
       "19         Structure     1559 -3.189239  55.952620\n",
       "20              Park      881 -3.207735  55.965883\n",
       "21         Structure      167 -3.172436  55.977925\n",
       "22         Structure      317 -3.207617  55.951754\n",
       "23         Structure      480 -3.184724  55.953708\n",
       "24     Entertainment      409 -3.174234  55.950749\n",
       "25        Historical        5 -3.239229  55.918418\n",
       "27            Museum      169 -3.227195  55.950876\n",
       "28         Structure     1325 -3.186862  55.948246\n",
       "29         Structure     2972 -3.195232  55.949089"
      ]
     },
     "execution_count": 12,
     "metadata": {},
     "output_type": "execute_result"
    }
   ],
   "source": [
    "poi_all = pd.merge(poi_catfreq, poi_coords, on='poiID')\n",
    "poi_all.set_index('poiID', inplace=True)\n",
    "poi_all"
   ]
  },
  {
   "cell_type": "markdown",
   "metadata": {},
   "source": [
    "### Construct Travelling Sequences"
   ]
  },
  {
   "cell_type": "code",
   "execution_count": 13,
   "metadata": {
    "collapsed": false
   },
   "outputs": [],
   "source": [
    "seq_all = traj[['userID', 'seqID', 'poiID', 'dateTaken']].copy()\\\n",
    "          .groupby(['userID', 'seqID', 'poiID']).agg([np.min, np.max])\n",
    "#seq_all.head()"
   ]
  },
  {
   "cell_type": "code",
   "execution_count": 14,
   "metadata": {
    "collapsed": false
   },
   "outputs": [],
   "source": [
    "seq_all.columns = seq_all.columns.droplevel()\n",
    "#seq_all.head()"
   ]
  },
  {
   "cell_type": "code",
   "execution_count": 15,
   "metadata": {
    "collapsed": false
   },
   "outputs": [
    {
     "data": {
      "text/html": [
       "<div>\n",
       "<table border=\"1\" class=\"dataframe\">\n",
       "  <thead>\n",
       "    <tr style=\"text-align: right;\">\n",
       "      <th></th>\n",
       "      <th>userID</th>\n",
       "      <th>seqID</th>\n",
       "      <th>poiID</th>\n",
       "      <th>amin</th>\n",
       "      <th>amax</th>\n",
       "    </tr>\n",
       "  </thead>\n",
       "  <tbody>\n",
       "    <tr>\n",
       "      <th>0</th>\n",
       "      <td>10063645@N00</td>\n",
       "      <td>1</td>\n",
       "      <td>17</td>\n",
       "      <td>1168492531</td>\n",
       "      <td>1168492558</td>\n",
       "    </tr>\n",
       "    <tr>\n",
       "      <th>1</th>\n",
       "      <td>10091295@N02</td>\n",
       "      <td>2</td>\n",
       "      <td>1</td>\n",
       "      <td>1190423814</td>\n",
       "      <td>1190423916</td>\n",
       "    </tr>\n",
       "    <tr>\n",
       "      <th>2</th>\n",
       "      <td>10091295@N02</td>\n",
       "      <td>2</td>\n",
       "      <td>12</td>\n",
       "      <td>1190421746</td>\n",
       "      <td>1190421901</td>\n",
       "    </tr>\n",
       "    <tr>\n",
       "      <th>3</th>\n",
       "      <td>10091295@N02</td>\n",
       "      <td>3</td>\n",
       "      <td>28</td>\n",
       "      <td>1190988000</td>\n",
       "      <td>1190988000</td>\n",
       "    </tr>\n",
       "    <tr>\n",
       "      <th>4</th>\n",
       "      <td>10091295@N02</td>\n",
       "      <td>4</td>\n",
       "      <td>10</td>\n",
       "      <td>1191029287</td>\n",
       "      <td>1191029561</td>\n",
       "    </tr>\n",
       "  </tbody>\n",
       "</table>\n",
       "</div>"
      ],
      "text/plain": [
       "         userID  seqID  poiID        amin        amax\n",
       "0  10063645@N00      1     17  1168492531  1168492558\n",
       "1  10091295@N02      2      1  1190423814  1190423916\n",
       "2  10091295@N02      2     12  1190421746  1190421901\n",
       "3  10091295@N02      3     28  1190988000  1190988000\n",
       "4  10091295@N02      4     10  1191029287  1191029561"
      ]
     },
     "execution_count": 15,
     "metadata": {},
     "output_type": "execute_result"
    }
   ],
   "source": [
    "seq_all.reset_index(inplace=True)\n",
    "seq_all.head()"
   ]
  },
  {
   "cell_type": "code",
   "execution_count": 16,
   "metadata": {
    "collapsed": false
   },
   "outputs": [
    {
     "data": {
      "text/html": [
       "<div>\n",
       "<table border=\"1\" class=\"dataframe\">\n",
       "  <thead>\n",
       "    <tr style=\"text-align: right;\">\n",
       "      <th></th>\n",
       "      <th>userID</th>\n",
       "      <th>seqID</th>\n",
       "      <th>poiID</th>\n",
       "      <th>arrivalTime</th>\n",
       "      <th>departureTime</th>\n",
       "      <th>poiDuration(sec)</th>\n",
       "    </tr>\n",
       "  </thead>\n",
       "  <tbody>\n",
       "    <tr>\n",
       "      <th>0</th>\n",
       "      <td>10063645@N00</td>\n",
       "      <td>1</td>\n",
       "      <td>17</td>\n",
       "      <td>1168492531</td>\n",
       "      <td>1168492558</td>\n",
       "      <td>27</td>\n",
       "    </tr>\n",
       "    <tr>\n",
       "      <th>1</th>\n",
       "      <td>10091295@N02</td>\n",
       "      <td>2</td>\n",
       "      <td>1</td>\n",
       "      <td>1190423814</td>\n",
       "      <td>1190423916</td>\n",
       "      <td>102</td>\n",
       "    </tr>\n",
       "    <tr>\n",
       "      <th>2</th>\n",
       "      <td>10091295@N02</td>\n",
       "      <td>2</td>\n",
       "      <td>12</td>\n",
       "      <td>1190421746</td>\n",
       "      <td>1190421901</td>\n",
       "      <td>155</td>\n",
       "    </tr>\n",
       "    <tr>\n",
       "      <th>3</th>\n",
       "      <td>10091295@N02</td>\n",
       "      <td>3</td>\n",
       "      <td>28</td>\n",
       "      <td>1190988000</td>\n",
       "      <td>1190988000</td>\n",
       "      <td>0</td>\n",
       "    </tr>\n",
       "    <tr>\n",
       "      <th>4</th>\n",
       "      <td>10091295@N02</td>\n",
       "      <td>4</td>\n",
       "      <td>10</td>\n",
       "      <td>1191029287</td>\n",
       "      <td>1191029561</td>\n",
       "      <td>274</td>\n",
       "    </tr>\n",
       "  </tbody>\n",
       "</table>\n",
       "</div>"
      ],
      "text/plain": [
       "         userID  seqID  poiID  arrivalTime  departureTime  poiDuration(sec)\n",
       "0  10063645@N00      1     17   1168492531     1168492558                27\n",
       "1  10091295@N02      2      1   1190423814     1190423916               102\n",
       "2  10091295@N02      2     12   1190421746     1190421901               155\n",
       "3  10091295@N02      3     28   1190988000     1190988000                 0\n",
       "4  10091295@N02      4     10   1191029287     1191029561               274"
      ]
     },
     "execution_count": 16,
     "metadata": {},
     "output_type": "execute_result"
    }
   ],
   "source": [
    "seq_all.rename(columns={'amin':'arrivalTime', 'amax':'departureTime'}, inplace=True)\n",
    "seq_all['poiDuration(sec)'] = seq_all['departureTime'] - seq_all['arrivalTime']\n",
    "seq_all.head()"
   ]
  },
  {
   "cell_type": "markdown",
   "metadata": {},
   "source": [
    "### Choose Travelling Sequences for experiment"
   ]
  },
  {
   "cell_type": "code",
   "execution_count": 17,
   "metadata": {
    "collapsed": false
   },
   "outputs": [
    {
     "data": {
      "image/png": "[encoded data removed]",
      "text/plain": [
       "<matplotlib.figure.Figure at 0x7f0674fedb38>"
      ]
     },
     "metadata": {},
     "output_type": "display_data"
    }
   ],
   "source": [
    "seq_len = seq_all[['userID', 'seqID', 'poiID']].copy()\n",
    "seq_len = seq_len.groupby(['userID', 'seqID']).agg(np.size)\n",
    "seq_len.reset_index(inplace=True)\n",
    "seq_len.rename(columns={'poiID':'seqLen'}, inplace=True)\n",
    "#seq_len.head()\n",
    "ax = seq_len['seqLen'].hist(bins=20)\n",
    "ax.set_yscale('log')"
   ]
  },
  {
   "cell_type": "code",
   "execution_count": 18,
   "metadata": {
    "collapsed": false
   },
   "outputs": [
    {
     "data": {
      "text/plain": [
       "<matplotlib.axes._subplots.AxesSubplot at 0x7f0672d96be0>"
      ]
     },
     "execution_count": 18,
     "metadata": {},
     "output_type": "execute_result"
    },
    {
     "data": {
      "image/png": "[encoded data removed]",
      "text/plain": [
       "<matplotlib.figure.Figure at 0x7f0672d820b8>"
      ]
     },
     "metadata": {},
     "output_type": "display_data"
    }
   ],
   "source": [
    "seq_345 = seq_len[seq_len['seqLen'].isin({3, 4, 5})]\n",
    "seq_345['seqLen'].hist(bins=9)"
   ]
  },
  {
   "cell_type": "markdown",
   "metadata": {},
   "source": [
    "### Split travelling sequences into training set and testing set using leave-one-out for each user  \n",
    "*requires at least two travelling sequences for each user*"
   ]
  },
  {
   "cell_type": "markdown",
   "metadata": {},
   "source": [
    "#### Sanity check: the total number of travelling sequences could be used in experiment."
   ]
  },
  {
   "cell_type": "code",
   "execution_count": 19,
   "metadata": {
    "collapsed": false
   },
   "outputs": [
    {
     "name": "stdout",
     "output_type": "stream",
     "text": [
      "total #seq for experiment: 287\n"
     ]
    }
   ],
   "source": [
    "seq_exp = seq_345[['userID', 'seqID']].copy()\n",
    "seq_exp = seq_exp.groupby('userID').agg(np.size)\n",
    "seq_exp.reset_index(inplace=True)\n",
    "seq_exp.rename(columns={'seqID':'#seq'}, inplace=True)\n",
    "seq_exp = seq_exp[seq_exp['#seq'] > 1]\n",
    "print('total #seq for experiment:', seq_exp['#seq'].sum())\n",
    "#seq_exp.head()"
   ]
  },
  {
   "cell_type": "code",
   "execution_count": 20,
   "metadata": {
    "collapsed": false
   },
   "outputs": [
    {
     "data": {
      "text/plain": [
       "<matplotlib.axes._subplots.AxesSubplot at 0x7f0672cc0358>"
      ]
     },
     "execution_count": 20,
     "metadata": {},
     "output_type": "execute_result"
    },
    {
     "data": {
      "image/png": "[encoded data removed]",
      "text/plain": [
       "<matplotlib.figure.Figure at 0x7f0672ce6f28>"
      ]
     },
     "metadata": {},
     "output_type": "display_data"
    }
   ],
   "source": [
    "seqs = seq_345[seq_345['userID'].isin(seq_exp['userID'])]\n",
    "seqs = seqs[seqs['seqLen'].isin({3, 4, 5})]\n",
    "seqs['seqLen'].hist(bins=9)"
   ]
  },
  {
   "cell_type": "code",
   "execution_count": 21,
   "metadata": {
    "collapsed": true
   },
   "outputs": [],
   "source": [
    "train_set = []\n",
    "test_set = []"
   ]
  },
  {
   "cell_type": "code",
   "execution_count": 22,
   "metadata": {
    "collapsed": false
   },
   "outputs": [],
   "source": [
    "user_seqs = seq_345[['userID', 'seqID']].groupby('userID')"
   ]
  },
  {
   "cell_type": "code",
   "execution_count": 23,
   "metadata": {
    "collapsed": false
   },
   "outputs": [],
   "source": [
    "for user, indices in user_seqs.groups.items():\n",
    "    if len(indices) < 2: continue\n",
    "    idx = random.choice(indices)\n",
    "    test_set.append(seq_345.loc[idx, 'seqID'])\n",
    "    train_set.extend([seq_345.loc[x, 'seqID'] for x in indices if x != idx])"
   ]
  },
  {
   "cell_type": "code",
   "execution_count": 24,
   "metadata": {
    "collapsed": false
   },
   "outputs": [
    {
     "name": "stdout",
     "output_type": "stream",
     "text": [
      "#seq in trainset: 190\n",
      "#seq in testset: 97\n"
     ]
    },
    {
     "data": {
      "text/plain": [
       "<matplotlib.axes._subplots.AxesSubplot at 0x7f0672c39160>"
      ]
     },
     "execution_count": 24,
     "metadata": {},
     "output_type": "execute_result"
    },
    {
     "data": {
      "image/png": "[encoded data removed]",
      "text/plain": [
       "<matplotlib.figure.Figure at 0x7f0672cec080>"
      ]
     },
     "metadata": {},
     "output_type": "display_data"
    }
   ],
   "source": [
    "print('#seq in trainset:', len(train_set))\n",
    "print('#seq in testset:', len(test_set))\n",
    "seqs1 = seqs[seqs['seqID'].isin(train_set)]\n",
    "seqs1['seqLen'].hist(bins=9)\n",
    "#data = np.array(seqs1['seqLen'])\n",
    "#hist, bins = np.histogram(data, bins=3)\n",
    "#print(hist)"
   ]
  },
  {
   "cell_type": "markdown",
   "metadata": {},
   "source": [
    "### Compute the transition matrix using travelling sequences in training set"
   ]
  },
  {
   "cell_type": "code",
   "execution_count": 25,
   "metadata": {
    "collapsed": false
   },
   "outputs": [
    {
     "data": {
      "text/plain": [
       "['Cultural', 'Entertainment', 'Historical', 'Museum', 'Park', 'Structure']"
      ]
     },
     "execution_count": 25,
     "metadata": {},
     "output_type": "execute_result"
    }
   ],
   "source": [
    "poi_cats = traj['poiTheme'].unique().tolist()\n",
    "poi_cats.sort()\n",
    "poi_cats"
   ]
  },
  {
   "cell_type": "code",
   "execution_count": 26,
   "metadata": {
    "collapsed": false
   },
   "outputs": [],
   "source": [
    "ncats = len(poi_cats)\n",
    "trans_mat = pd.DataFrame(data=np.zeros((ncats, ncats), dtype=np.float64), index=poi_cats, columns=poi_cats)\n",
    "#trans_mat"
   ]
  },
  {
   "cell_type": "code",
   "execution_count": 27,
   "metadata": {
    "collapsed": false,
    "scrolled": true
   },
   "outputs": [
    {
     "data": {
      "text/html": [
       "<div>\n",
       "<table border=\"1\" class=\"dataframe\">\n",
       "  <thead>\n",
       "    <tr style=\"text-align: right;\">\n",
       "      <th></th>\n",
       "      <th>Cultural</th>\n",
       "      <th>Entertainment</th>\n",
       "      <th>Historical</th>\n",
       "      <th>Museum</th>\n",
       "      <th>Park</th>\n",
       "      <th>Structure</th>\n",
       "    </tr>\n",
       "  </thead>\n",
       "  <tbody>\n",
       "    <tr>\n",
       "      <th>Cultural</th>\n",
       "      <td>7</td>\n",
       "      <td>1</td>\n",
       "      <td>13</td>\n",
       "      <td>11</td>\n",
       "      <td>5</td>\n",
       "      <td>55</td>\n",
       "    </tr>\n",
       "    <tr>\n",
       "      <th>Entertainment</th>\n",
       "      <td>3</td>\n",
       "      <td>0</td>\n",
       "      <td>3</td>\n",
       "      <td>0</td>\n",
       "      <td>2</td>\n",
       "      <td>2</td>\n",
       "    </tr>\n",
       "    <tr>\n",
       "      <th>Historical</th>\n",
       "      <td>13</td>\n",
       "      <td>2</td>\n",
       "      <td>15</td>\n",
       "      <td>9</td>\n",
       "      <td>8</td>\n",
       "      <td>45</td>\n",
       "    </tr>\n",
       "    <tr>\n",
       "      <th>Museum</th>\n",
       "      <td>12</td>\n",
       "      <td>0</td>\n",
       "      <td>5</td>\n",
       "      <td>1</td>\n",
       "      <td>2</td>\n",
       "      <td>23</td>\n",
       "    </tr>\n",
       "    <tr>\n",
       "      <th>Park</th>\n",
       "      <td>6</td>\n",
       "      <td>0</td>\n",
       "      <td>10</td>\n",
       "      <td>3</td>\n",
       "      <td>0</td>\n",
       "      <td>17</td>\n",
       "    </tr>\n",
       "    <tr>\n",
       "      <th>Structure</th>\n",
       "      <td>36</td>\n",
       "      <td>7</td>\n",
       "      <td>47</td>\n",
       "      <td>31</td>\n",
       "      <td>22</td>\n",
       "      <td>59</td>\n",
       "    </tr>\n",
       "  </tbody>\n",
       "</table>\n",
       "</div>"
      ],
      "text/plain": [
       "               Cultural  Entertainment  Historical  Museum  Park  Structure\n",
       "Cultural              7              1          13      11     5         55\n",
       "Entertainment         3              0           3       0     2          2\n",
       "Historical           13              2          15       9     8         45\n",
       "Museum               12              0           5       1     2         23\n",
       "Park                  6              0          10       3     0         17\n",
       "Structure            36              7          47      31    22         59"
      ]
     },
     "execution_count": 27,
     "metadata": {},
     "output_type": "execute_result"
    }
   ],
   "source": [
    "#train_set = [4, 13, 32, 33, 34, 99, 101]\n",
    "#seq_all[seq_all['seqID'] == train_set[0]]\n",
    "for seqid in train_set:\n",
    "    seqi = seq_all[seq_all['seqID'] == seqid].copy()\n",
    "    seqi.sort(columns=['arrivalTime'], ascending=True, inplace=True)\n",
    "    for j in range(len(seqi.index)-1):\n",
    "        idx1 = seqi.index[j]\n",
    "        idx2 = seqi.index[j+1]\n",
    "        poi1 = seqi.loc[idx1, 'poiID']\n",
    "        poi2 = seqi.loc[idx2, 'poiID']\n",
    "        cat1 = poi_all.loc[poi1, 'poiTheme']\n",
    "        cat2 = poi_all.loc[poi2, 'poiTheme']\n",
    "        trans_mat.loc[cat1, cat2] += 1\n",
    "trans_mat"
   ]
  },
  {
   "cell_type": "code",
   "execution_count": 28,
   "metadata": {
    "collapsed": false
   },
   "outputs": [
    {
     "data": {
      "text/html": [
       "<div>\n",
       "<table border=\"1\" class=\"dataframe\">\n",
       "  <thead>\n",
       "    <tr style=\"text-align: right;\">\n",
       "      <th></th>\n",
       "      <th>Cultural</th>\n",
       "      <th>Entertainment</th>\n",
       "      <th>Historical</th>\n",
       "      <th>Museum</th>\n",
       "      <th>Park</th>\n",
       "      <th>Structure</th>\n",
       "    </tr>\n",
       "  </thead>\n",
       "  <tbody>\n",
       "    <tr>\n",
       "      <th>Cultural</th>\n",
       "      <td>0.076087</td>\n",
       "      <td>0.010870</td>\n",
       "      <td>0.141304</td>\n",
       "      <td>0.119565</td>\n",
       "      <td>0.054348</td>\n",
       "      <td>0.597826</td>\n",
       "    </tr>\n",
       "    <tr>\n",
       "      <th>Entertainment</th>\n",
       "      <td>0.300000</td>\n",
       "      <td>0.000000</td>\n",
       "      <td>0.300000</td>\n",
       "      <td>0.000000</td>\n",
       "      <td>0.200000</td>\n",
       "      <td>0.200000</td>\n",
       "    </tr>\n",
       "    <tr>\n",
       "      <th>Historical</th>\n",
       "      <td>0.141304</td>\n",
       "      <td>0.021739</td>\n",
       "      <td>0.163043</td>\n",
       "      <td>0.097826</td>\n",
       "      <td>0.086957</td>\n",
       "      <td>0.489130</td>\n",
       "    </tr>\n",
       "    <tr>\n",
       "      <th>Museum</th>\n",
       "      <td>0.279070</td>\n",
       "      <td>0.000000</td>\n",
       "      <td>0.116279</td>\n",
       "      <td>0.023256</td>\n",
       "      <td>0.046512</td>\n",
       "      <td>0.534884</td>\n",
       "    </tr>\n",
       "    <tr>\n",
       "      <th>Park</th>\n",
       "      <td>0.166667</td>\n",
       "      <td>0.000000</td>\n",
       "      <td>0.277778</td>\n",
       "      <td>0.083333</td>\n",
       "      <td>0.000000</td>\n",
       "      <td>0.472222</td>\n",
       "    </tr>\n",
       "    <tr>\n",
       "      <th>Structure</th>\n",
       "      <td>0.178218</td>\n",
       "      <td>0.034653</td>\n",
       "      <td>0.232673</td>\n",
       "      <td>0.153465</td>\n",
       "      <td>0.108911</td>\n",
       "      <td>0.292079</td>\n",
       "    </tr>\n",
       "  </tbody>\n",
       "</table>\n",
       "</div>"
      ],
      "text/plain": [
       "               Cultural  Entertainment  Historical    Museum      Park  \\\n",
       "Cultural       0.076087       0.010870    0.141304  0.119565  0.054348   \n",
       "Entertainment  0.300000       0.000000    0.300000  0.000000  0.200000   \n",
       "Historical     0.141304       0.021739    0.163043  0.097826  0.086957   \n",
       "Museum         0.279070       0.000000    0.116279  0.023256  0.046512   \n",
       "Park           0.166667       0.000000    0.277778  0.083333  0.000000   \n",
       "Structure      0.178218       0.034653    0.232673  0.153465  0.108911   \n",
       "\n",
       "               Structure  \n",
       "Cultural        0.597826  \n",
       "Entertainment   0.200000  \n",
       "Historical      0.489130  \n",
       "Museum          0.534884  \n",
       "Park            0.472222  \n",
       "Structure       0.292079  "
      ]
     },
     "execution_count": 28,
     "metadata": {},
     "output_type": "execute_result"
    }
   ],
   "source": [
    "for r in trans_mat.index:\n",
    "    rowsum = trans_mat.ix[r].sum()\n",
    "    for c in trans_mat.columns:\n",
    "        trans_mat.loc[r, c] /= rowsum\n",
    "trans_mat"
   ]
  },
  {
   "cell_type": "markdown",
   "metadata": {},
   "source": [
    "### Compute POI Popularity, Time/Frequency based User Interest using travelling sequences in training set"
   ]
  },
  {
   "cell_type": "code",
   "execution_count": 29,
   "metadata": {
    "collapsed": true
   },
   "outputs": [],
   "source": [
    "poi_avg_pop = seq_all[seq_all['seqID'].isin(train_set)]\n",
    "poi_avg_pop = poi_avg_pop[['poiID', 'poiDuration(sec)']].copy()"
   ]
  },
  {
   "cell_type": "code",
   "execution_count": 30,
   "metadata": {
    "collapsed": false
   },
   "outputs": [
    {
     "name": "stdout",
     "output_type": "stream",
     "text": [
      "#poi: 25\n",
      "#poi after extension: 28\n"
     ]
    },
    {
     "data": {
      "text/html": [
       "<div>\n",
       "<table border=\"1\" class=\"dataframe\">\n",
       "  <thead>\n",
       "    <tr style=\"text-align: right;\">\n",
       "      <th></th>\n",
       "      <th>avgDuration(sec)</th>\n",
       "      <th>popularity</th>\n",
       "    </tr>\n",
       "    <tr>\n",
       "      <th>poiID</th>\n",
       "      <th></th>\n",
       "      <th></th>\n",
       "    </tr>\n",
       "  </thead>\n",
       "  <tbody>\n",
       "    <tr>\n",
       "      <th>1</th>\n",
       "      <td>3555.868421</td>\n",
       "      <td>38</td>\n",
       "    </tr>\n",
       "    <tr>\n",
       "      <th>2</th>\n",
       "      <td>1854.352941</td>\n",
       "      <td>17</td>\n",
       "    </tr>\n",
       "    <tr>\n",
       "      <th>3</th>\n",
       "      <td>1851.272727</td>\n",
       "      <td>44</td>\n",
       "    </tr>\n",
       "    <tr>\n",
       "      <th>4</th>\n",
       "      <td>1415.000000</td>\n",
       "      <td>29</td>\n",
       "    </tr>\n",
       "    <tr>\n",
       "      <th>7</th>\n",
       "      <td>1134.428571</td>\n",
       "      <td>7</td>\n",
       "    </tr>\n",
       "    <tr>\n",
       "      <th>8</th>\n",
       "      <td>2022.705882</td>\n",
       "      <td>51</td>\n",
       "    </tr>\n",
       "    <tr>\n",
       "      <th>9</th>\n",
       "      <td>1607.714286</td>\n",
       "      <td>91</td>\n",
       "    </tr>\n",
       "    <tr>\n",
       "      <th>10</th>\n",
       "      <td>2557.692308</td>\n",
       "      <td>13</td>\n",
       "    </tr>\n",
       "    <tr>\n",
       "      <th>11</th>\n",
       "      <td>454.176471</td>\n",
       "      <td>17</td>\n",
       "    </tr>\n",
       "    <tr>\n",
       "      <th>12</th>\n",
       "      <td>540.800000</td>\n",
       "      <td>15</td>\n",
       "    </tr>\n",
       "    <tr>\n",
       "      <th>13</th>\n",
       "      <td>356.846154</td>\n",
       "      <td>13</td>\n",
       "    </tr>\n",
       "    <tr>\n",
       "      <th>14</th>\n",
       "      <td>265.375000</td>\n",
       "      <td>8</td>\n",
       "    </tr>\n",
       "    <tr>\n",
       "      <th>15</th>\n",
       "      <td>930.909091</td>\n",
       "      <td>66</td>\n",
       "    </tr>\n",
       "    <tr>\n",
       "      <th>16</th>\n",
       "      <td>185.518519</td>\n",
       "      <td>27</td>\n",
       "    </tr>\n",
       "    <tr>\n",
       "      <th>17</th>\n",
       "      <td>888.517241</td>\n",
       "      <td>29</td>\n",
       "    </tr>\n",
       "    <tr>\n",
       "      <th>18</th>\n",
       "      <td>1156.218750</td>\n",
       "      <td>32</td>\n",
       "    </tr>\n",
       "    <tr>\n",
       "      <th>19</th>\n",
       "      <td>808.048780</td>\n",
       "      <td>41</td>\n",
       "    </tr>\n",
       "    <tr>\n",
       "      <th>20</th>\n",
       "      <td>12878.333333</td>\n",
       "      <td>3</td>\n",
       "    </tr>\n",
       "    <tr>\n",
       "      <th>21</th>\n",
       "      <td>148.000000</td>\n",
       "      <td>1</td>\n",
       "    </tr>\n",
       "    <tr>\n",
       "      <th>22</th>\n",
       "      <td>3284.333333</td>\n",
       "      <td>9</td>\n",
       "    </tr>\n",
       "    <tr>\n",
       "      <th>23</th>\n",
       "      <td>1162.000000</td>\n",
       "      <td>14</td>\n",
       "    </tr>\n",
       "    <tr>\n",
       "      <th>24</th>\n",
       "      <td>3623.400000</td>\n",
       "      <td>15</td>\n",
       "    </tr>\n",
       "    <tr>\n",
       "      <th>27</th>\n",
       "      <td>4068.000000</td>\n",
       "      <td>1</td>\n",
       "    </tr>\n",
       "    <tr>\n",
       "      <th>28</th>\n",
       "      <td>2013.391304</td>\n",
       "      <td>23</td>\n",
       "    </tr>\n",
       "    <tr>\n",
       "      <th>29</th>\n",
       "      <td>3365.459016</td>\n",
       "      <td>61</td>\n",
       "    </tr>\n",
       "    <tr>\n",
       "      <th>25</th>\n",
       "      <td>0.000000</td>\n",
       "      <td>0</td>\n",
       "    </tr>\n",
       "    <tr>\n",
       "      <th>5</th>\n",
       "      <td>0.000000</td>\n",
       "      <td>0</td>\n",
       "    </tr>\n",
       "    <tr>\n",
       "      <th>6</th>\n",
       "      <td>0.000000</td>\n",
       "      <td>0</td>\n",
       "    </tr>\n",
       "  </tbody>\n",
       "</table>\n",
       "</div>"
      ],
      "text/plain": [
       "       avgDuration(sec)  popularity\n",
       "poiID                              \n",
       "1           3555.868421          38\n",
       "2           1854.352941          17\n",
       "3           1851.272727          44\n",
       "4           1415.000000          29\n",
       "7           1134.428571           7\n",
       "8           2022.705882          51\n",
       "9           1607.714286          91\n",
       "10          2557.692308          13\n",
       "11           454.176471          17\n",
       "12           540.800000          15\n",
       "13           356.846154          13\n",
       "14           265.375000           8\n",
       "15           930.909091          66\n",
       "16           185.518519          27\n",
       "17           888.517241          29\n",
       "18          1156.218750          32\n",
       "19           808.048780          41\n",
       "20         12878.333333           3\n",
       "21           148.000000           1\n",
       "22          3284.333333           9\n",
       "23          1162.000000          14\n",
       "24          3623.400000          15\n",
       "27          4068.000000           1\n",
       "28          2013.391304          23\n",
       "29          3365.459016          61\n",
       "25             0.000000           0\n",
       "5              0.000000           0\n",
       "6              0.000000           0"
      ]
     },
     "execution_count": 30,
     "metadata": {},
     "output_type": "execute_result"
    }
   ],
   "source": [
    "poi_avg_pop = poi_avg_pop.groupby('poiID').agg([np.mean, np.size])\n",
    "poi_avg_pop.columns = poi_avg_pop.columns.droplevel()\n",
    "poi_avg_pop.reset_index(inplace=True)\n",
    "poi_avg_pop.rename(columns={'mean':'avgDuration(sec)', 'size':'popularity'}, inplace=True)\n",
    "poi_avg_pop.set_index('poiID', inplace=True)\n",
    "print('#poi:', poi_avg_pop.shape[0])\n",
    "if poi_avg_pop.shape[0] < poi_all.shape[0]:\n",
    "    extra_index = list(set(poi_all.index) - set(poi_avg_pop.index))\n",
    "    extra_poi = pd.DataFrame(data=np.zeros((len(extra_index), 2), dtype=np.float64), \\\n",
    "                             index=extra_index, columns=['avgDuration(sec)', 'popularity'])\n",
    "    poi_avg_pop = poi_avg_pop.append(extra_poi)\n",
    "    print('#poi after extension:', poi_avg_pop.shape[0])\n",
    "poi_avg_pop"
   ]
  },
  {
   "cell_type": "code",
   "execution_count": 31,
   "metadata": {
    "collapsed": true
   },
   "outputs": [],
   "source": [
    "user_interest = seq_all[seq_all['seqID'].isin(train_set)]\n",
    "user_interest = user_interest[['userID', 'poiID', 'poiDuration(sec)']].copy()"
   ]
  },
  {
   "cell_type": "code",
   "execution_count": 32,
   "metadata": {
    "collapsed": false
   },
   "outputs": [
    {
     "data": {
      "text/html": [
       "<div>\n",
       "<table border=\"1\" class=\"dataframe\">\n",
       "  <thead>\n",
       "    <tr style=\"text-align: right;\">\n",
       "      <th></th>\n",
       "      <th></th>\n",
       "      <th>timeBased</th>\n",
       "      <th>freqBased</th>\n",
       "    </tr>\n",
       "    <tr>\n",
       "      <th>userID</th>\n",
       "      <th>poiTheme</th>\n",
       "      <th></th>\n",
       "      <th></th>\n",
       "    </tr>\n",
       "  </thead>\n",
       "  <tbody>\n",
       "    <tr>\n",
       "      <th rowspan=\"2\" valign=\"top\">10287726@N02</th>\n",
       "      <th>Historical</th>\n",
       "      <td>1.682166</td>\n",
       "      <td>1</td>\n",
       "    </tr>\n",
       "    <tr>\n",
       "      <th>Structure</th>\n",
       "      <td>0.000000</td>\n",
       "      <td>2</td>\n",
       "    </tr>\n",
       "    <tr>\n",
       "      <th rowspan=\"2\" valign=\"top\">10335112@N05</th>\n",
       "      <th>Historical</th>\n",
       "      <td>6.628254</td>\n",
       "      <td>3</td>\n",
       "    </tr>\n",
       "    <tr>\n",
       "      <th>Structure</th>\n",
       "      <td>3.351103</td>\n",
       "      <td>2</td>\n",
       "    </tr>\n",
       "    <tr>\n",
       "      <th>10655856@N04</th>\n",
       "      <th>Cultural</th>\n",
       "      <td>0.000000</td>\n",
       "      <td>1</td>\n",
       "    </tr>\n",
       "  </tbody>\n",
       "</table>\n",
       "</div>"
      ],
      "text/plain": [
       "                         timeBased  freqBased\n",
       "userID       poiTheme                        \n",
       "10287726@N02 Historical   1.682166          1\n",
       "             Structure    0.000000          2\n",
       "10335112@N05 Historical   6.628254          3\n",
       "             Structure    3.351103          2\n",
       "10655856@N04 Cultural     0.000000          1"
      ]
     },
     "execution_count": 32,
     "metadata": {},
     "output_type": "execute_result"
    }
   ],
   "source": [
    "user_interest['timeRatio'] = [poi_avg_pop.loc[x, 'avgDuration(sec)'] for x in user_interest['poiID']]\n",
    "user_interest['timeRatio'] = user_interest['poiDuration(sec)'] / user_interest['timeRatio']\n",
    "user_interest['poiTheme'] = [poi_all.loc[x, 'poiTheme'] for x in user_interest['poiID']]\n",
    "user_interest.drop(['poiID', 'poiDuration(sec)'], axis=1, inplace=True)\n",
    "user_interest = user_interest.groupby(['userID', 'poiTheme']).agg([np.sum, np.size])\n",
    "user_interest.columns = user_interest.columns.droplevel()\n",
    "user_interest.rename(columns={'sum':'timeBased', 'size':'freqBased'}, inplace=True)\n",
    "user_interest.reset_index(inplace=True)\n",
    "user_interest.set_index(['userID', 'poiTheme'], inplace=True)\n",
    "user_interest.head()"
   ]
  },
  {
   "cell_type": "code",
   "execution_count": 33,
   "metadata": {
    "collapsed": false
   },
   "outputs": [],
   "source": [
    "#user_interest.columns\n",
    "#user_interest.index\n",
    "#user_interest.loc['10287726@N02', 'Historical']['timeBased']\n",
    "#user_interest.loc['10335112@N05', 'Park']['freqBased']\n",
    "#('10335112@N05', 'Park') in user_interest.index # True"
   ]
  },
  {
   "cell_type": "markdown",
   "metadata": {},
   "source": [
    "### Enumerate Trajectories"
   ]
  },
  {
   "cell_type": "code",
   "execution_count": 34,
   "metadata": {
    "collapsed": false
   },
   "outputs": [],
   "source": [
    "enum_seqs = dict()\n",
    "train_seqs = dict()\n",
    "poilist = poi_all.index.tolist()"
   ]
  },
  {
   "cell_type": "code",
   "execution_count": 35,
   "metadata": {
    "collapsed": false
   },
   "outputs": [],
   "source": [
    "for seqid in train_set:\n",
    "    seqi = seq_all[seq_all['seqID'] == seqid].copy()\n",
    "    seqi.sort(columns=['arrivalTime'], ascending=True, inplace=True)\n",
    "    train_seqs[seqid] = seqi['poiID'].tolist()\n",
    "    p0 = seqi.loc[seqi.index[0], 'poiID']\n",
    "    pN = seqi.loc[seqi.index[-1],'poiID']\n",
    "    \n",
    "    # enumerate sequences with length 3\n",
    "    if seqi.shape[0] == 3:\n",
    "        enum_seqs[seqid] = [[p0, p, pN] \\\n",
    "                            for p in poilist if p not in {p0, pN}]\n",
    "\n",
    "    # enumerate sequences with length 4\n",
    "    if seqi.shape[0] == 4:\n",
    "        enum_seqs[seqid] = [[p0, p1, p2, pN] \\\n",
    "                            for p1 in poilist if p1 not in {p0, pN} \\\n",
    "                            for p2 in poilist if p2 not in {p0, p1, pN}]\n",
    "\n",
    "    # enumerate sequences with length 5\n",
    "    if seqi.shape[0] == 5:\n",
    "        enum_seqs[seqid] = [[p0, p1, p2, p3, pN] \\\n",
    "                            for p1 in poilist if p1 not in {p0, pN} \\\n",
    "                            for p2 in poilist if p2 not in {p0, p1, pN} \\\n",
    "                            for p3 in poilist if p3 not in {p0, p1, p2, pN}]    "
   ]
  },
  {
   "cell_type": "markdown",
   "metadata": {},
   "source": [
    "### Compute Features"
   ]
  },
  {
   "cell_type": "code",
   "execution_count": 36,
   "metadata": {
    "collapsed": true
   },
   "outputs": [],
   "source": [
    "def calc_dist(longitude1, latitude1, longitude2, latitude2):\n",
    "    \"\"\"Calculate the distance (unit: km) between two places on earth\"\"\"\n",
    "    # convert degrees to radians\n",
    "    lon1 = math.radians(longitude1)\n",
    "    lat1 = math.radians(latitude1)\n",
    "    lon2 = math.radians(longitude2)\n",
    "    lat2 = math.radians(latitude2)\n",
    "    radius = 6371.009 # mean earth radius is 6371.009km, en.wikipedia.org/wiki/Earth_radius#Mean_radius\n",
    "    # The haversine formula, en.wikipedia.org/wiki/Great-circle_distance\n",
    "    dlon = math.fabs(lon1 - lon2)\n",
    "    dlat = math.fabs(lat1 - lat2)\n",
    "    return 2 * radius * math.asin(math.sqrt(\\\n",
    "                (math.sin(0.5*dlat))**2 + math.cos(lat1) * math.cos(lat2) * (math.sin(0.5*dlon))**2 ))"
   ]
  },
  {
   "cell_type": "code",
   "execution_count": 37,
   "metadata": {
    "collapsed": true
   },
   "outputs": [],
   "source": [
    "poi_distmat = pd.DataFrame(data=np.zeros((poi_all.shape[0], poi_all.shape[0]), dtype=np.float64), \\\n",
    "                        index=poi_all.index, columns=poi_all.index)\n",
    "poi_rdistmat = poi_distmat.copy()"
   ]
  },
  {
   "cell_type": "code",
   "execution_count": 38,
   "metadata": {
    "collapsed": true
   },
   "outputs": [],
   "source": [
    "for i in range(poi_all.index.shape[0]):\n",
    "    for j in range(i+1, poi_all.index.shape[0]):\n",
    "        r = poi_all.index[i]\n",
    "        c = poi_all.index[j]\n",
    "        dist = calc_dist(poi_all.loc[r, 'poiLon'], poi_all.loc[r, 'poiLat'], \\\n",
    "                         poi_all.loc[c, 'poiLon'], poi_all.loc[c, 'poiLat'])\n",
    "        poi_distmat.loc[r, c] = dist\n",
    "        poi_distmat.loc[c, r] = dist\n",
    "        assert(dist > 0.)\n",
    "        rdist = 1./dist\n",
    "        poi_rdistmat.loc[r, c] = rdist\n",
    "        poi_rdistmat.loc[c, r] = rdist"
   ]
  },
  {
   "cell_type": "code",
   "execution_count": 39,
   "metadata": {
    "collapsed": true
   },
   "outputs": [],
   "source": [
    "num_enum_seq = 0 # total number of enumerated sequences\n",
    "score_indices = dict() # score vector index in the feature matrix"
   ]
  },
  {
   "cell_type": "code",
   "execution_count": 40,
   "metadata": {
    "collapsed": true
   },
   "outputs": [],
   "source": [
    "for seqid in train_set:\n",
    "    num = len(enum_seqs[seqid])\n",
    "    score_indices[seqid] = [x for x in range(num_enum_seq, num_enum_seq + num)]\n",
    "    num_enum_seq += num"
   ]
  },
  {
   "cell_type": "code",
   "execution_count": 41,
   "metadata": {
    "collapsed": true
   },
   "outputs": [],
   "source": [
    "features = np.zeros((num_enum_seq, nfeatures), dtype=np.float64)"
   ]
  },
  {
   "cell_type": "code",
   "execution_count": null,
   "metadata": {
    "collapsed": true
   },
   "outputs": [],
   "source": [
    "features.shape"
   ]
  },
  {
   "cell_type": "code",
   "execution_count": 42,
   "metadata": {
    "collapsed": false
   },
   "outputs": [],
   "source": [
    "for seqid in train_set:\n",
    "    user = seq_all[seq_all['seqID'] == seqid]['userID'].iloc[0]\n",
    "    seqs = enum_seqs[seqid]\n",
    "    indices = score_indices[seqid]\n",
    "    assert(len(seqs) == len(indices))\n",
    "    \n",
    "    for j in range(len(seqs)):\n",
    "        seq = seqs[j]\n",
    "        idx = indices[j]\n",
    "        assert(idx in range(num_enum_seq))\n",
    "        \n",
    "        # POI based features\n",
    "        for poi in seq:\n",
    "            cat = poi_all.loc[poi, 'poiTheme']\n",
    "            if (user, cat) in user_interest.index:\n",
    "                features[idx, 0] += user_interest.loc[user, cat]['timeBased'] # 1. time-based user interest\n",
    "                features[idx, 1] += user_interest.loc[user, cat]['freqBased'] # 2. freq-based user interest\n",
    "            if poi in poi_avg_pop.index:\n",
    "                features[idx, 2] += poi_avg_pop.loc[poi, 'popularity']        # 3. POI popularity\n",
    "    \n",
    "        # POI-pair base features\n",
    "        for k in range(len(seq)-1):\n",
    "            poi1 = seq[k]\n",
    "            poi2 = seq[k+1]\n",
    "            #lon1 = poi_all.loc[poi1, 'poiLon']\n",
    "            #lat1 = poi_all.loc[poi1, 'poiLat']\n",
    "            #lon2 = poi_all.loc[poi2, 'poiLon']\n",
    "            #lat2 = poi_all.loc[poi2, 'poiLat']\n",
    "            #dist = calc_dist(lon1, lat1, lon2, lat2)\n",
    "            cat1 = poi_all.loc[poi1, 'poiTheme']\n",
    "            cat2 = poi_all.loc[poi2, 'poiTheme']          \n",
    "            \n",
    "            features[idx, 3] += -1 * poi_distmat.loc[poi1, poi2]              # 4. travel distance        \n",
    "   \n",
    "            # features 5 to 8:\n",
    "            # trajectory log(probability) based on the transition matrix between different POI categories \n",
    "            # and the following rules for choosing a specific POI within certain category:\n",
    "            #  - The Nearest Neighbor of the current POI\n",
    "            #  - The most Popular POI\n",
    "            #  - A random POI choosing with probability proportional to the reciprocal of its distance to current POI\n",
    "            #  - A random POI choosing with probability proportional to its popularity\n",
    "            \n",
    "            transprob = math.log10(trans_mat.loc[cat1, cat2] + EPS) # log of transition probability\n",
    "            for l in range(4, 8):\n",
    "                features[idx, l] += transprob\n",
    "            \n",
    "            poi_cat2 = poi_all[poi_all['poiTheme'] == cat2].copy()\n",
    "            if cat1 == cat2: \n",
    "                poi_cat2.drop(poi1, axis=0, inplace=True) # drop row\n",
    "            \n",
    "            #distvec = pd.DataFrame(data=[1./calc_dist(lon1, lat1, poi_cat2.loc[x,'poiLon'], poi_cat2.loc[x,'poiLat']) \\\n",
    "            #                             for x in poi_cat2.index], index=poi_cat2.index)\n",
    "            distvec = pd.DataFrame(data=[poi_rdistmat.loc[poi1, x] for x in poi_cat2.index], index=poi_cat2.index)\n",
    "            if distvec.idxmax().iloc[0] == poi2:\n",
    "                features[idx, 4] += math.log10(1. + EPS) # poi2 is the nearest neighbor of poi1\n",
    "            else:\n",
    "                features[idx, 4] += math.log10(0. + EPS) # poi2 is not the nearest neighbor of poi1\n",
    "                \n",
    "            popvec = pd.DataFrame(data=[poi_avg_pop.loc[x,'popularity'] for x in poi_cat2.index], index=poi_cat2.index)\n",
    "            if popvec.idxmax().iloc[0] == poi2:\n",
    "                features[idx, 5] += math.log10(1. + EPS) # poi2 is the most popular one within cat2\n",
    "            else:\n",
    "                features[idx, 5] += math.log10(0. + EPS) # poi2 is not the most popular one within cat2\n",
    "             \n",
    "            features[idx, 6] += math.log10(EPS + distvec.loc[poi2].iloc[0] / distvec.sum().iloc[0])\n",
    "            features[idx, 7] += math.log10(EPS +  popvec.loc[poi2].iloc[0] /  popvec.sum().iloc[0])\n",
    "            \n",
    "        # normalise score, range [-1, 1]\n",
    "        features[idx] /= abs(features[idx]).max()"
   ]
  },
  {
   "cell_type": "markdown",
   "metadata": {
    "collapsed": true
   },
   "source": [
    "### Experiment with Single Feature"
   ]
  },
  {
   "cell_type": "code",
   "execution_count": 43,
   "metadata": {
    "collapsed": true
   },
   "outputs": [],
   "source": [
    "def calc_F1score(seq_act, seq_rec):\n",
    "    assert(len(seq_act) > 0)\n",
    "    assert(len(seq_rec) > 0)\n",
    "    actset = set(seq_act)\n",
    "    recset = set(seq_rec)\n",
    "    intersect = actset & recset\n",
    "    recall = len(intersect) / len(seq_act)\n",
    "    precision = len(intersect) / len(seq_rec)\n",
    "    return 2. * precision * recall / (precision + recall)"
   ]
  },
  {
   "cell_type": "code",
   "execution_count": 54,
   "metadata": {
    "collapsed": false
   },
   "outputs": [
    {
     "data": {
      "image/png": "[encoded data removed]",
      "text/plain": [
       "<matplotlib.figure.Figure at 0x7f066e62ba20>"
      ]
     },
     "metadata": {},
     "output_type": "display_data"
    }
   ],
   "source": [
    "#values = [-0.5, 0, 0.5]\n",
    "values = np.linspace(-1, 1, 11)\n",
    "plt.figure(figsize=[16, 16])\n",
    "for j in range(nfeatures):\n",
    "    all_F1scores = []\n",
    "    for k in range(len(values)):\n",
    "        weights = np.zeros(nfeatures, dtype=np.float64)\n",
    "        weights[j] = values[k]\n",
    "        all_scores = features.dot(weights)\n",
    "        F1scores = []\n",
    "        for seqid in train_set:\n",
    "            scores = np.array([all_scores[x] for x in score_indices[seqid]])\n",
    "            bestseq = enum_seqs[seqid][scores.argmax()]\n",
    "            F1scores.append(calc_F1score(train_seqs[seqid], bestseq))\n",
    "        all_F1scores.append(F1scores)\n",
    "    plt.subplot(4, 2, j+1)\n",
    "    plt.xlim([-1, 1])\n",
    "    plt.ylim([0.3, 0.9])\n",
    "    plt.xlabel('weight' + str(j+1))\n",
    "    plt.ylabel('F1-score')\n",
    "    #plt.boxplot(all_F1scores, labels=values) #OK\n",
    "    plt.scatter(values, [np.mean(x) for x in all_F1scores], marker='+')\n",
    "    plt.plot([-1, 1], [0.667, 0.667], color='g', linestyle='--')"
   ]
  }
 ],
 "metadata": {
  "kernelspec": {
   "display_name": "Python 3",
   "language": "python",
   "name": "python3"
  },
  "language_info": {
   "codemirror_mode": {
    "name": "ipython",
    "version": 3
   },
   "file_extension": ".py",
   "mimetype": "text/x-python",
   "name": "python",
   "nbconvert_exporter": "python",
   "pygments_lexer": "ipython3",
   "version": "3.4.3"
  }
 },
 "nbformat": 4,
 "nbformat_minor": 0
}
