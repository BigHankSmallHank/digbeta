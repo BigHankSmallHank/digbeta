{
 "cells": [
  {
   "cell_type": "markdown",
   "metadata": {},
   "source": [
    "Methods and Experiments\n",
    "============="
   ]
  },
  {
   "cell_type": "markdown",
   "metadata": {},
   "source": [
    "1. Experimental Setup\n",
    "----------------------\n",
    "Enumerate all trajectories for each user given the trajectory length (e.g. 3, 4, 5) and the (start, end) POIs.\n",
    "\n",
    "For each trajectory, compute a score based on the features below:\n",
    " * User Interest (time)\n",
    " * User interest (frequency)\n",
    " * POI Popularity\n",
    " * Travelling Cost\n",
    " * Trajectory probability based on the transition probabilities between different POI categories and the following rules for choosing a specific POI within certain category:\n",
    "  * The Nearest Neighbor of the current POI\n",
    "  * The most Popular POI\n",
    "  * A random POI choosing with probability proportional to the reciprocal of its distance to current POI\n",
    "  * A random POI choosing with probability proportional to its popularity\n",
    "\n",
    "Plot the scores of generated and actual trajectories for each (user, trajectoryLength, startPOI, endPOI) tuple with some degree of transparency (alpha).\n",
    "\n",
    "Recommend trajectory with the highest score and measure the performance of recommendation using recall, precision and F1-score.\n",
    "\n",
    "Optimise parameters in the score function by learning, in this specific case, the cost function could be based on recall, precision or F1-score, we can also control the estimation of transition matrix."
   ]
  },
  {
   "cell_type": "code",
   "execution_count": null,
   "metadata": {
    "collapsed": true
   },
   "outputs": [],
   "source": []
  }
 ],
 "metadata": {
  "kernelspec": {
   "display_name": "Python 3",
   "language": "python",
   "name": "python3"
  },
  "language_info": {
   "codemirror_mode": {
    "name": "ipython",
    "version": 3
   },
   "file_extension": ".py",
   "mimetype": "text/x-python",
   "name": "python",
   "nbconvert_exporter": "python",
   "pygments_lexer": "ipython3",
   "version": "3.4.3"
  }
 },
 "nbformat": 4,
 "nbformat_minor": 0
}
