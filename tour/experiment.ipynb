{
 "cells": [
  {
   "cell_type": "markdown",
   "metadata": {},
   "source": [
    "Methods and Experiments\n",
    "============="
   ]
  },
  {
   "cell_type": "markdown",
   "metadata": {},
   "source": [
    "<a id='sec1'></a>"
   ]
  },
  {
   "cell_type": "markdown",
   "metadata": {},
   "source": [
    "## 1. Experimental Setup"
   ]
  },
  {
   "cell_type": "markdown",
   "metadata": {},
   "source": [
    "Enumerate all trajectories for each user given the trajectory length (e.g. 3, 4, 5) and the (start, end) POIs.\n",
    "\n",
    "For each trajectory, compute a score based on the features below:\n",
    " * User Interest (time)\n",
    " * User interest (frequency)\n",
    " * POI Popularity\n",
    " * Travelling Cost\n",
    " * Trajectory probability based on the transition probabilities between different POI categories and the following rules for choosing a specific POI within certain category:\n",
    "  * The Nearest Neighbor of the current POI\n",
    "  * The most Popular POI\n",
    "  * A random POI choosing with probability proportional to the reciprocal of its distance to current POI\n",
    "  * A random POI choosing with probability proportional to its popularity\n",
    "\n",
    "Plot the scores of generated and actual trajectories for each (user, trajectoryLength, startPOI, endPOI) tuple with some degree of transparency (alpha).\n",
    "\n",
    "Recommend trajectory with the highest score and measure the performance of recommendation using recall, precision and F1-score.\n",
    "\n",
    "Optimise parameters in the score function by learning, in this specific case, the cost function could be based on recall, precision or F1-score, we can also control the estimation of transition matrix."
   ]
  },
  {
   "cell_type": "markdown",
   "metadata": {},
   "source": [
    "<a id='sec2'></a>"
   ]
  },
  {
   "cell_type": "markdown",
   "metadata": {
    "collapsed": true
   },
   "source": [
    "## 2. First Experiment Results"
   ]
  },
  {
   "cell_type": "markdown",
   "metadata": {},
   "source": [
    "### 2.1 Basic computing steps"
   ]
  },
  {
   "cell_type": "markdown",
   "metadata": {},
   "source": [
    "1. Split actual trajectories input two parts, one for training, the other for testing.  \n",
    "   Concretely, For each user, consider all the trajectories with length `3`, `4` and `5`, pick one for testing set and put all others into training set.\n",
    "   \n",
    "1. Use trajectories in training set to compute (MLE) a transition matrix where element `[i, j]` denotes the transition probability from POI category `i` to POI category `j`.\n",
    "\n",
    "1. For each trajectory $T$ in training set, enumerate all possible trajectories that satisfy the following requirements:\n",
    " * The trajectory length is the same as that of $T$\n",
    " * The start/end POI are the same as those of $T$\n",
    " * No sub-tour exists\n",
    " \n",
    "1. Compute the `8` scores [described above](#sec1), rescale each score into range `[-1, 1]`, compute the weighted sum of these score to get a single score (weights are normalised so that they are in range `[0, 1]` and their sum is `1`)\n",
    " \n",
    "1. Choose the trajectory with the highest score $T^*$ and compute F1 score as follows:  \n",
    " * recall = $\\frac{|T^* \\cap T|}{|T|}$  \n",
    " * precision = $\\frac{|T^* \\cap T|}{T^*}$  \n",
    " * F1-score = $\\frac{2 \\times \\text{recall} \\times \\text{precision}}{\\text{recall} + \\text{precision}}$\n",
    " \n",
    "1. Compute the mean F1 score for all trajectory $T$ in the training set.\n",
    "\n",
    "1. Use coordinate-wise greedy search to find an good weight vector such that the mean F1 score is as large as possible."
   ]
  },
  {
   "cell_type": "markdown",
   "metadata": {},
   "source": [
    "### 2.2 Some experimental results"
   ]
  },
  {
   "cell_type": "markdown",
   "metadata": {},
   "source": [
    "Random weights, use 10 random weight vector, the mean F1 scores are as follows:  \n",
    "`[0.717, 0.705, 0.665, 0.719, 0.698, 0.719, 0.704, 0.724, 0.693, 0.665]`,  mean = `0.701`, std = `0.02`"
   ]
  },
  {
   "cell_type": "markdown",
   "metadata": {},
   "source": [
    "Some arbitrary weights:  \n",
    "`[[1/8, 1/8, 1/8, 1/8, 1/8, 1/8, 1/8, 1/8], # avgF1: 0.712`  \n",
    " `[0.1, 0.1, 0.1, 0.1, 0.1, 0.1, 0.1, 0.1], # avgF1: 0.712`  \n",
    " `[0.2, 0.1, 0.1, 0.1, 0.1, 0.1, 0.1, 0.1], # avgF1: 0.707`  \n",
    " `[0.5, 0.1, 0.1, 0.1, 0.1, 0.1, 0.1, 0.1], # avgF1: 0.700`  \n",
    " `[0.2, 0.2, 0.2, 0.1, 0.1, 0.1, 0.1, 0.1]] # avgF1: 0.708`"
   ]
  },
  {
   "cell_type": "markdown",
   "metadata": {},
   "source": [
    "Coordinate-wise greedy search, start from `[0.1, 0.1, 0.1, 0.1, 0.1, 0.1, 0.1, 0.1]`, for each coordinate,  \n",
    "search a value in [0, 0.05, 0.1, 0.15, 0.2, ..., 0.95, 1] to maximize the mean F1 score while fixing other coordinates."
   ]
  },
  {
   "cell_type": "markdown",
   "metadata": {},
   "source": [
    "Search for the first coordinate,"
   ]
  },
  {
   "cell_type": "markdown",
   "metadata": {},
   "source": [
    "<img src='images/coord1.png'></img>"
   ]
  },
  {
   "cell_type": "markdown",
   "metadata": {},
   "source": [
    "Search for the second coordinate,"
   ]
  },
  {
   "cell_type": "markdown",
   "metadata": {},
   "source": [
    "<img src='images/coord2.png'></img>"
   ]
  },
  {
   "cell_type": "markdown",
   "metadata": {},
   "source": [
    "Search for the third coordinate,"
   ]
  },
  {
   "cell_type": "markdown",
   "metadata": {},
   "source": [
    "<img src='images/coord3.png'></img>"
   ]
  },
  {
   "cell_type": "markdown",
   "metadata": {},
   "source": [
    "Search for the fourth coordinate,"
   ]
  },
  {
   "cell_type": "markdown",
   "metadata": {},
   "source": [
    "<img src='images/coord4.png'></img>"
   ]
  },
  {
   "cell_type": "markdown",
   "metadata": {},
   "source": [
    "Search for the fifth coordinate,"
   ]
  },
  {
   "cell_type": "markdown",
   "metadata": {},
   "source": [
    "<img src='images/coord5.png'></img>"
   ]
  },
  {
   "cell_type": "markdown",
   "metadata": {},
   "source": [
    "Search for the sixth coordinate,"
   ]
  },
  {
   "cell_type": "markdown",
   "metadata": {},
   "source": [
    "<img src='images/coord6.png'></img>"
   ]
  },
  {
   "cell_type": "markdown",
   "metadata": {},
   "source": [
    "Search for the seventh coordinate,"
   ]
  },
  {
   "cell_type": "markdown",
   "metadata": {},
   "source": [
    "<img src='images/coord7.png'></img>"
   ]
  },
  {
   "cell_type": "markdown",
   "metadata": {},
   "source": [
    "Search for the eighth coordinate,"
   ]
  },
  {
   "cell_type": "markdown",
   "metadata": {},
   "source": [
    "<img src='images/coord8.png'></img>"
   ]
  },
  {
   "cell_type": "markdown",
   "metadata": {},
   "source": [
    "After that, a weight vector `[0.15, 0, 0.05, 0.25, 0.4, 0, 0, 0.9]` was found.\n",
    "The testing result (mean F1 score):"
   ]
  },
  {
   "cell_type": "markdown",
   "metadata": {},
   "source": [
    "Mean F1-score: `0.727` (`0.671` in ijcai15 paper)"
   ]
  }
 ],
 "metadata": {
  "kernelspec": {
   "display_name": "Python 3",
   "language": "python",
   "name": "python3"
  },
  "language_info": {
   "codemirror_mode": {
    "name": "ipython",
    "version": 3
   },
   "file_extension": ".py",
   "mimetype": "text/x-python",
   "name": "python",
   "nbconvert_exporter": "python",
   "pygments_lexer": "ipython3",
   "version": "3.4.3"
  }
 },
 "nbformat": 4,
 "nbformat_minor": 0
}
