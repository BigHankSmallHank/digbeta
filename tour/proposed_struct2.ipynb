{
 "cells": [
  {
   "cell_type": "markdown",
   "metadata": {
    "collapsed": true
   },
   "source": [
    "# Trajectory Recommendation using RankSVM and Structured Prediction"
   ]
  },
  {
   "cell_type": "markdown",
   "metadata": {},
   "source": [
    "<a id='toc'></a>"
   ]
  },
  {
   "cell_type": "markdown",
   "metadata": {},
   "source": [
    "[Table of Contents](#toc)\n",
    "1. [Preprocess Dataset](#sec1)\n",
    "  1. [Load Data](#sec1.1)\n",
    "  1. [Utility Functions](#sec1.2)\n",
    "1. [POI Ranking](#sec2)\n",
    "  1. [POI Features for Ranking](#sec2.1)\n",
    "  1. [Training DataFrame](#sec2.2)\n",
    "  1. [Test DataFrame](#sec2.3)\n",
    "  1. [Ranking POIs using rankSVM](#sec2.4)\n",
    "1. [Structured Prediction Model Training and Evaluation](#sec3)\n",
    "  1. [Features for Structured Prediction](#sec3.1)\n",
    "  1. [Leave-one-out Evaluation](#sec3.2)\n",
    "  1. [Discrepancy between Different BLAS Libraries](#sec3.3)\n",
    "  1. [Hyperparameter Tuning](#sec3.4)"
   ]
  },
  {
   "cell_type": "markdown",
   "metadata": {},
   "source": [
    "<a id='sec1'></a>"
   ]
  },
  {
   "cell_type": "markdown",
   "metadata": {},
   "source": [
    "# 1. Preprocess Dataset"
   ]
  },
  {
   "cell_type": "code",
   "execution_count": 90,
   "metadata": {
    "collapsed": false
   },
   "outputs": [],
   "source": [
    "% matplotlib inline\n",
    "\n",
    "import os, sys, time, pickle, tempfile\n",
    "import math, random, itertools\n",
    "import pandas as pd\n",
    "import numpy as np\n",
    "import matplotlib.pyplot as plt\n",
    "from joblib import Parallel, delayed\n",
    "import seaborn as sns\n",
    "\n",
    "from pystruct.models import ChainCRF\n",
    "from pystruct.models import EdgeFeatureGraphCRF\n",
    "from pystruct.learners import OneSlackSSVM\n",
    "from pystruct.learners import FrankWolfeSSVM\n",
    "\n",
    "from sklearn.cluster import KMeans\n",
    "from scipy.linalg import kron"
   ]
  },
  {
   "cell_type": "code",
   "execution_count": 2,
   "metadata": {
    "collapsed": true
   },
   "outputs": [],
   "source": [
    "random.seed(987654321) # control random choice when splitting training/testing set\n",
    "np.random.seed(987654321)\n",
    "ranksvm_dir = '$HOME/work/ranksvm'"
   ]
  },
  {
   "cell_type": "code",
   "execution_count": 3,
   "metadata": {
    "collapsed": true
   },
   "outputs": [],
   "source": [
    "data_dir = 'data/data-recsys16'\n",
    "suffix = ['Osak', 'Glas', 'Edin', 'Toro', 'Melb']"
   ]
  },
  {
   "cell_type": "code",
   "execution_count": 4,
   "metadata": {
    "collapsed": true
   },
   "outputs": [],
   "source": [
    "dat_ix = 0"
   ]
  },
  {
   "cell_type": "code",
   "execution_count": 5,
   "metadata": {
    "collapsed": true
   },
   "outputs": [],
   "source": [
    "noloop = True  # trajectories dataset with loop or not"
   ]
  },
  {
   "cell_type": "code",
   "execution_count": 6,
   "metadata": {
    "collapsed": true
   },
   "outputs": [],
   "source": [
    "datasettypes = ['all', 'nofew']"
   ]
  },
  {
   "cell_type": "code",
   "execution_count": 7,
   "metadata": {
    "collapsed": true
   },
   "outputs": [],
   "source": [
    "dstype = datasettypes[0]"
   ]
  },
  {
   "cell_type": "markdown",
   "metadata": {},
   "source": [
    "Hyperparameters."
   ]
  },
  {
   "cell_type": "code",
   "execution_count": 8,
   "metadata": {
    "collapsed": true
   },
   "outputs": [],
   "source": [
    "uspecific = False\n",
    "KX = 100  # KX folds in user specific setting [100, 50, 20, 10, 8, 4, 2, 1]\n",
    "kxstr = str(KX) + 'X-'"
   ]
  },
  {
   "cell_type": "code",
   "execution_count": 9,
   "metadata": {
    "collapsed": true
   },
   "outputs": [],
   "source": [
    "C = 1  # regularization parameter of SSVM\n",
    "cstr = 'C' + str(C).replace('.', '_') + '-'"
   ]
  },
  {
   "cell_type": "code",
   "execution_count": 10,
   "metadata": {
    "collapsed": true
   },
   "outputs": [],
   "source": [
    "BIN_CLUSTER = 5"
   ]
  },
  {
   "cell_type": "markdown",
   "metadata": {},
   "source": [
    "Method switches."
   ]
  },
  {
   "cell_type": "code",
   "execution_count": 11,
   "metadata": {
    "collapsed": true
   },
   "outputs": [],
   "source": [
    "run_crf = True"
   ]
  },
  {
   "cell_type": "code",
   "execution_count": 12,
   "metadata": {
    "collapsed": true
   },
   "outputs": [],
   "source": [
    "fpoi = os.path.join(data_dir, 'poi-' + suffix[dat_ix] + '.csv')\n",
    "if noloop == True:\n",
    "    ftraj = os.path.join(data_dir, 'traj-noloop-' + dstype + '-' + suffix[dat_ix] + '.csv')\n",
    "    if uspecific == True:\n",
    "        frecdict_crf = os.path.join(data_dir, 'crf-noloop-' + dstype + '-specific-' +cstr +kxstr +suffix[dat_ix] +'.pkl')\n",
    "    else:\n",
    "        frecdict_crf = os.path.join(data_dir, 'crf-noloop-' + dstype + '-agnostic-' + cstr + suffix[dat_ix] + '.pkl')\n",
    "else:\n",
    "    ftraj = os.path.join(data_dir, 'traj-' + dstype + '-' + suffix[dat_ix] + '.csv')\n",
    "    if uspecific == True:\n",
    "        frecdict_crf = os.path.join(data_dir, 'crf-' + dstype + '-specific-' + cstr + kxstr + suffix[dat_ix] + '.pkl')\n",
    "    else:\n",
    "        frecdict_crf = os.path.join(data_dir, 'crf-' + dstype + '-agnostic-' + cstr + suffix[dat_ix] + '.pkl')"
   ]
  },
  {
   "cell_type": "markdown",
   "metadata": {},
   "source": [
    "<a id='sec1.1'></a>"
   ]
  },
  {
   "cell_type": "markdown",
   "metadata": {},
   "source": [
    "## 1.1 Load Data"
   ]
  },
  {
   "cell_type": "code",
   "execution_count": 13,
   "metadata": {
    "collapsed": false
   },
   "outputs": [
    {
     "data": {
      "text/html": [
       "<div>\n",
       "<table border=\"1\" class=\"dataframe\">\n",
       "  <thead>\n",
       "    <tr style=\"text-align: right;\">\n",
       "      <th></th>\n",
       "      <th>userID</th>\n",
       "      <th>trajID</th>\n",
       "      <th>poiID</th>\n",
       "      <th>startTime</th>\n",
       "      <th>endTime</th>\n",
       "      <th>#photo</th>\n",
       "      <th>trajLen</th>\n",
       "      <th>poiDuration</th>\n",
       "    </tr>\n",
       "  </thead>\n",
       "  <tbody>\n",
       "    <tr>\n",
       "      <th>0</th>\n",
       "      <td>10297518@N00</td>\n",
       "      <td>1</td>\n",
       "      <td>20</td>\n",
       "      <td>1277719324</td>\n",
       "      <td>1277720832</td>\n",
       "      <td>6</td>\n",
       "      <td>1</td>\n",
       "      <td>1508</td>\n",
       "    </tr>\n",
       "    <tr>\n",
       "      <th>1</th>\n",
       "      <td>10307040@N08</td>\n",
       "      <td>2</td>\n",
       "      <td>6</td>\n",
       "      <td>1382608644</td>\n",
       "      <td>1382608644</td>\n",
       "      <td>1</td>\n",
       "      <td>4</td>\n",
       "      <td>0</td>\n",
       "    </tr>\n",
       "    <tr>\n",
       "      <th>2</th>\n",
       "      <td>10307040@N08</td>\n",
       "      <td>2</td>\n",
       "      <td>8</td>\n",
       "      <td>1382607812</td>\n",
       "      <td>1382607812</td>\n",
       "      <td>1</td>\n",
       "      <td>4</td>\n",
       "      <td>0</td>\n",
       "    </tr>\n",
       "    <tr>\n",
       "      <th>3</th>\n",
       "      <td>10307040@N08</td>\n",
       "      <td>2</td>\n",
       "      <td>21</td>\n",
       "      <td>1382607761</td>\n",
       "      <td>1382607774</td>\n",
       "      <td>2</td>\n",
       "      <td>4</td>\n",
       "      <td>13</td>\n",
       "    </tr>\n",
       "    <tr>\n",
       "      <th>4</th>\n",
       "      <td>10307040@N08</td>\n",
       "      <td>2</td>\n",
       "      <td>22</td>\n",
       "      <td>1382607879</td>\n",
       "      <td>1382608628</td>\n",
       "      <td>9</td>\n",
       "      <td>4</td>\n",
       "      <td>749</td>\n",
       "    </tr>\n",
       "  </tbody>\n",
       "</table>\n",
       "</div>"
      ],
      "text/plain": [
       "         userID  trajID  poiID   startTime     endTime  #photo  trajLen  \\\n",
       "0  10297518@N00       1     20  1277719324  1277720832       6        1   \n",
       "1  10307040@N08       2      6  1382608644  1382608644       1        4   \n",
       "2  10307040@N08       2      8  1382607812  1382607812       1        4   \n",
       "3  10307040@N08       2     21  1382607761  1382607774       2        4   \n",
       "4  10307040@N08       2     22  1382607879  1382608628       9        4   \n",
       "\n",
       "   poiDuration  \n",
       "0         1508  \n",
       "1            0  \n",
       "2            0  \n",
       "3           13  \n",
       "4          749  "
      ]
     },
     "execution_count": 13,
     "metadata": {},
     "output_type": "execute_result"
    }
   ],
   "source": [
    "traj_all = pd.read_csv(ftraj)\n",
    "traj_all.head()"
   ]
  },
  {
   "cell_type": "code",
   "execution_count": 14,
   "metadata": {
    "collapsed": false
   },
   "outputs": [
    {
     "data": {
      "text/html": [
       "<div>\n",
       "<table border=\"1\" class=\"dataframe\">\n",
       "  <thead>\n",
       "    <tr style=\"text-align: right;\">\n",
       "      <th></th>\n",
       "      <th>poiCat</th>\n",
       "      <th>poiLon</th>\n",
       "      <th>poiLat</th>\n",
       "    </tr>\n",
       "    <tr>\n",
       "      <th>poiID</th>\n",
       "      <th></th>\n",
       "      <th></th>\n",
       "      <th></th>\n",
       "    </tr>\n",
       "  </thead>\n",
       "  <tbody>\n",
       "    <tr>\n",
       "      <th>1</th>\n",
       "      <td>Amusement</td>\n",
       "      <td>135.428938</td>\n",
       "      <td>34.654792</td>\n",
       "    </tr>\n",
       "    <tr>\n",
       "      <th>2</th>\n",
       "      <td>Amusement</td>\n",
       "      <td>135.430627</td>\n",
       "      <td>34.656145</td>\n",
       "    </tr>\n",
       "    <tr>\n",
       "      <th>3</th>\n",
       "      <td>Amusement</td>\n",
       "      <td>135.508558</td>\n",
       "      <td>34.652423</td>\n",
       "    </tr>\n",
       "    <tr>\n",
       "      <th>4</th>\n",
       "      <td>Amusement</td>\n",
       "      <td>135.433627</td>\n",
       "      <td>34.664758</td>\n",
       "    </tr>\n",
       "    <tr>\n",
       "      <th>5</th>\n",
       "      <td>Amusement</td>\n",
       "      <td>135.499894</td>\n",
       "      <td>34.703680</td>\n",
       "    </tr>\n",
       "  </tbody>\n",
       "</table>\n",
       "</div>"
      ],
      "text/plain": [
       "          poiCat      poiLon     poiLat\n",
       "poiID                                  \n",
       "1      Amusement  135.428938  34.654792\n",
       "2      Amusement  135.430627  34.656145\n",
       "3      Amusement  135.508558  34.652423\n",
       "4      Amusement  135.433627  34.664758\n",
       "5      Amusement  135.499894  34.703680"
      ]
     },
     "execution_count": 14,
     "metadata": {},
     "output_type": "execute_result"
    }
   ],
   "source": [
    "poi_all = pd.read_csv(fpoi)\n",
    "poi_all.set_index('poiID', inplace=True)\n",
    "poi_all.head()"
   ]
  },
  {
   "cell_type": "code",
   "execution_count": 15,
   "metadata": {
    "collapsed": false
   },
   "outputs": [
    {
     "data": {
      "text/html": [
       "<div>\n",
       "<table border=\"1\" class=\"dataframe\">\n",
       "  <thead>\n",
       "    <tr style=\"text-align: right;\">\n",
       "      <th></th>\n",
       "      <th>#poi</th>\n",
       "      <th>#traj</th>\n",
       "      <th>#traj/user</th>\n",
       "      <th>#user</th>\n",
       "    </tr>\n",
       "  </thead>\n",
       "  <tbody>\n",
       "    <tr>\n",
       "      <th>Osak</th>\n",
       "      <td>27</td>\n",
       "      <td>1115</td>\n",
       "      <td>2.477778</td>\n",
       "      <td>450</td>\n",
       "    </tr>\n",
       "  </tbody>\n",
       "</table>\n",
       "</div>"
      ],
      "text/plain": [
       "      #poi  #traj  #traj/user  #user\n",
       "Osak    27   1115    2.477778    450"
      ]
     },
     "execution_count": 15,
     "metadata": {},
     "output_type": "execute_result"
    }
   ],
   "source": [
    "num_user = traj_all['userID'].unique().shape[0]\n",
    "num_poi = traj_all['poiID'].unique().shape[0]\n",
    "num_traj = traj_all['trajID'].unique().shape[0]\n",
    "#assert(num_poi == poi_all.shape[0])\n",
    "pd.DataFrame({'#user': num_user, '#poi': num_poi, '#traj': num_traj, '#traj/user': num_traj/num_user}, \\\n",
    "             index=[str(suffix[dat_ix])])"
   ]
  },
  {
   "cell_type": "code",
   "execution_count": 16,
   "metadata": {
    "collapsed": false
   },
   "outputs": [
    {
     "data": {
      "image/png": "[encoded data removed]",
      "text/plain": [
       "<matplotlib.figure.Figure at 0x7f42039ea7b8>"
      ]
     },
     "metadata": {},
     "output_type": "display_data"
    }
   ],
   "source": [
    "ax = traj_all['trajLen'].hist(bins=20)\n",
    "ax.set_yscale('log')"
   ]
  },
  {
   "cell_type": "markdown",
   "metadata": {},
   "source": [
    "Mapping trajectory to user."
   ]
  },
  {
   "cell_type": "code",
   "execution_count": 17,
   "metadata": {
    "collapsed": false
   },
   "outputs": [
    {
     "data": {
      "text/html": [
       "<div>\n",
       "<table border=\"1\" class=\"dataframe\">\n",
       "  <thead>\n",
       "    <tr style=\"text-align: right;\">\n",
       "      <th></th>\n",
       "      <th>userID</th>\n",
       "    </tr>\n",
       "    <tr>\n",
       "      <th>trajID</th>\n",
       "      <th></th>\n",
       "    </tr>\n",
       "  </thead>\n",
       "  <tbody>\n",
       "    <tr>\n",
       "      <th>1</th>\n",
       "      <td>10297518@N00</td>\n",
       "    </tr>\n",
       "    <tr>\n",
       "      <th>2</th>\n",
       "      <td>10307040@N08</td>\n",
       "    </tr>\n",
       "    <tr>\n",
       "      <th>3</th>\n",
       "      <td>10340578@N06</td>\n",
       "    </tr>\n",
       "    <tr>\n",
       "      <th>4</th>\n",
       "      <td>10340578@N06</td>\n",
       "    </tr>\n",
       "    <tr>\n",
       "      <th>5</th>\n",
       "      <td>10422365@N03</td>\n",
       "    </tr>\n",
       "  </tbody>\n",
       "</table>\n",
       "</div>"
      ],
      "text/plain": [
       "              userID\n",
       "trajID              \n",
       "1       10297518@N00\n",
       "2       10307040@N08\n",
       "3       10340578@N06\n",
       "4       10340578@N06\n",
       "5       10422365@N03"
      ]
     },
     "execution_count": 17,
     "metadata": {},
     "output_type": "execute_result"
    }
   ],
   "source": [
    "traj_user = traj_all[['trajID', 'userID']].copy().groupby('trajID').first()\n",
    "traj_user.head()"
   ]
  },
  {
   "cell_type": "markdown",
   "metadata": {},
   "source": [
    "<a id='sec1.2'></a>"
   ]
  },
  {
   "cell_type": "markdown",
   "metadata": {},
   "source": [
    "## 1.2 Utility Functions"
   ]
  },
  {
   "cell_type": "markdown",
   "metadata": {},
   "source": [
    "Print computing progress."
   ]
  },
  {
   "cell_type": "code",
   "execution_count": 18,
   "metadata": {
    "collapsed": true
   },
   "outputs": [],
   "source": [
    "def print_progress(cnt, total):\n",
    "    \"\"\"Display a progress bar\"\"\"\n",
    "    assert(cnt > 0 and total > 0 and cnt <= total)\n",
    "    length = 80\n",
    "    ratio = cnt / total\n",
    "    n = int(length * ratio)\n",
    "    sys.stdout.write('\\r[%-80s] %d%%' % ('-'*n, int(ratio*100)))\n",
    "    sys.stdout.flush()"
   ]
  },
  {
   "cell_type": "markdown",
   "metadata": {},
   "source": [
    "Extract trajectory, i.e., a list of POIs."
   ]
  },
  {
   "cell_type": "code",
   "execution_count": 19,
   "metadata": {
    "collapsed": true
   },
   "outputs": [],
   "source": [
    "def extract_traj(tid, traj_all):\n",
    "    traj = traj_all[traj_all['trajID'] == tid].copy()\n",
    "    traj.sort_values(by=['startTime'], ascending=True, inplace=True)\n",
    "    return traj['poiID'].tolist()"
   ]
  },
  {
   "cell_type": "markdown",
   "metadata": {},
   "source": [
    "Compute POI properties, e.g., popularity, total number of visit, average visit duration."
   ]
  },
  {
   "cell_type": "code",
   "execution_count": 20,
   "metadata": {
    "collapsed": true
   },
   "outputs": [],
   "source": [
    "def calc_poi_info(trajid_list, traj_all, poi_all):\n",
    "    assert(len(trajid_list) > 0)\n",
    "    # to allow duplicated trajid\n",
    "    poi_info = traj_all[traj_all['trajID'] == trajid_list[0]][['poiID', 'poiDuration']].copy() \n",
    "    for i in range(1, len(trajid_list)):\n",
    "        traj = traj_all[traj_all['trajID'] == trajid_list[i]][['poiID', 'poiDuration']]\n",
    "        poi_info = poi_info.append(traj, ignore_index=True)\n",
    "    \n",
    "    poi_info = poi_info.groupby('poiID').agg([np.mean, np.size])\n",
    "    poi_info.columns = poi_info.columns.droplevel()\n",
    "    poi_info.reset_index(inplace=True)\n",
    "    poi_info.rename(columns={'mean':'avgDuration', 'size':'nVisit'}, inplace=True)\n",
    "    poi_info.set_index('poiID', inplace=True) \n",
    "    poi_info['poiCat'] = poi_all.loc[poi_info.index, 'poiCat']\n",
    "    poi_info['poiLon'] = poi_all.loc[poi_info.index, 'poiLon']\n",
    "    poi_info['poiLat'] = poi_all.loc[poi_info.index, 'poiLat']\n",
    "    \n",
    "    # POI popularity: the number of distinct users that visited the POI\n",
    "    pop_df = traj_all[traj_all['trajID'].isin(trajid_list)][['poiID', 'userID']].copy()\n",
    "    pop_df = pop_df.groupby('poiID').agg(pd.Series.nunique)\n",
    "    pop_df.rename(columns={'userID':'nunique'}, inplace=True)\n",
    "    poi_info['popularity'] = pop_df.loc[poi_info.index, 'nunique']\n",
    "    \n",
    "    return poi_info.copy()"
   ]
  },
  {
   "cell_type": "markdown",
   "metadata": {},
   "source": [
    "Compute the F1 score for recommended trajectory."
   ]
  },
  {
   "cell_type": "code",
   "execution_count": 21,
   "metadata": {
    "collapsed": true
   },
   "outputs": [],
   "source": [
    "def calc_F1(traj_act, traj_rec, noloop=False):\n",
    "    '''Compute recall, precision and F1 for recommended trajectories'''\n",
    "    assert(isinstance(noloop, bool))\n",
    "    assert(len(traj_act) > 0)\n",
    "    assert(len(traj_rec) > 0)\n",
    "    \n",
    "    if noloop == True:\n",
    "        intersize = len(set(traj_act) & set(traj_rec))\n",
    "    else:\n",
    "        match_tags = np.zeros(len(traj_act), dtype=np.bool)\n",
    "        for poi in traj_rec:\n",
    "            for j in range(len(traj_act)):\n",
    "                if match_tags[j] == False and poi == traj_act[j]:\n",
    "                    match_tags[j] = True\n",
    "                    break\n",
    "        intersize = np.nonzero(match_tags)[0].shape[0]\n",
    "        \n",
    "    recall = intersize / len(traj_act)\n",
    "    precision = intersize / len(traj_rec)\n",
    "    F1 = 2 * precision * recall / (precision + recall)\n",
    "    return F1"
   ]
  },
  {
   "cell_type": "markdown",
   "metadata": {},
   "source": [
    "Compute distance between two POIs using [Haversine formula](http://en.wikipedia.org/wiki/Great-circle_distance)."
   ]
  },
  {
   "cell_type": "code",
   "execution_count": 22,
   "metadata": {
    "collapsed": true
   },
   "outputs": [],
   "source": [
    "def calc_dist_vec(longitudes1, latitudes1, longitudes2, latitudes2):\n",
    "    \"\"\"Calculate the distance (unit: km) between two places on earth, vectorised\"\"\"\n",
    "    # convert degrees to radians\n",
    "    lng1 = np.radians(longitudes1)\n",
    "    lat1 = np.radians(latitudes1)\n",
    "    lng2 = np.radians(longitudes2)\n",
    "    lat2 = np.radians(latitudes2)\n",
    "    radius = 6371.0088 # mean earth radius, en.wikipedia.org/wiki/Earth_radius#Mean_radius\n",
    "\n",
    "    # The haversine formula, en.wikipedia.org/wiki/Great-circle_distance\n",
    "    dlng = np.fabs(lng1 - lng2)\n",
    "    dlat = np.fabs(lat1 - lat2)\n",
    "    dist =  2 * radius * np.arcsin( np.sqrt( \n",
    "                (np.sin(0.5*dlat))**2 + np.cos(lat1) * np.cos(lat2) * (np.sin(0.5*dlng))**2 ))\n",
    "    return dist"
   ]
  },
  {
   "cell_type": "markdown",
   "metadata": {},
   "source": [
    "Distance between POIs."
   ]
  },
  {
   "cell_type": "code",
   "execution_count": 23,
   "metadata": {
    "collapsed": true
   },
   "outputs": [],
   "source": [
    "poi_distmat = pd.DataFrame(data=np.zeros((poi_all.shape[0], poi_all.shape[0]), dtype=np.float), \\\n",
    "                           index=poi_all.index, columns=poi_all.index)"
   ]
  },
  {
   "cell_type": "code",
   "execution_count": 24,
   "metadata": {
    "collapsed": true
   },
   "outputs": [],
   "source": [
    "for ix in poi_all.index:\n",
    "    poi_distmat.loc[ix] = calc_dist_vec(poi_all.loc[ix, 'poiLon'], \\\n",
    "                                        poi_all.loc[ix, 'poiLat'], \\\n",
    "                                        poi_all['poiLon'], \\\n",
    "                                        poi_all['poiLat'])"
   ]
  },
  {
   "cell_type": "markdown",
   "metadata": {},
   "source": [
    "Define a *query* (in IR terminology) using tuple (start POI, end POI, #POI) ~~user ID.~~"
   ]
  },
  {
   "cell_type": "code",
   "execution_count": 25,
   "metadata": {
    "collapsed": false
   },
   "outputs": [],
   "source": [
    "trajid_set_all = sorted(traj_all['trajID'].unique().tolist())"
   ]
  },
  {
   "cell_type": "code",
   "execution_count": 26,
   "metadata": {
    "collapsed": true
   },
   "outputs": [],
   "source": [
    "query_id_dict = dict()  # (start, end, length) --> qid"
   ]
  },
  {
   "cell_type": "code",
   "execution_count": 27,
   "metadata": {
    "collapsed": true
   },
   "outputs": [],
   "source": [
    "trajs = [extract_traj(tid, traj_all) for tid in trajid_set_all]\n",
    "keys = [(t[0], t[-1], len(t)) for t in trajs if len(t) > 2]\n",
    "cnt = 0\n",
    "for key in keys:\n",
    "    if key not in query_id_dict:   # (start, end, length) --> qid\n",
    "        query_id_dict[key] = cnt\n",
    "        cnt += 1"
   ]
  },
  {
   "cell_type": "code",
   "execution_count": 28,
   "metadata": {
    "collapsed": false
   },
   "outputs": [
    {
     "name": "stdout",
     "output_type": "stream",
     "text": [
      "#traj in total: 1115\n",
      "#traj (length > 2): 47\n",
      "#query tuple: 43\n"
     ]
    }
   ],
   "source": [
    "print('#traj in total:', len(trajid_set_all))\n",
    "print('#traj (length > 2):', traj_all[traj_all['trajLen'] > 2]['trajID'].unique().shape[0])\n",
    "print('#query tuple:', len(query_id_dict))"
   ]
  },
  {
   "cell_type": "markdown",
   "metadata": {},
   "source": [
    "<a id='sec2'></a>"
   ]
  },
  {
   "cell_type": "markdown",
   "metadata": {},
   "source": [
    "# 2. POI Ranking"
   ]
  },
  {
   "cell_type": "markdown",
   "metadata": {},
   "source": [
    "<a id='sec2.1'></a>"
   ]
  },
  {
   "cell_type": "markdown",
   "metadata": {},
   "source": [
    "## 2.1 POI Features for Ranking"
   ]
  },
  {
   "cell_type": "markdown",
   "metadata": {},
   "source": [
    "POI Features used for ranking:\n",
    "1. `popularity`: POI popularity, i.e., the number of distinct users that visited the POI\n",
    "1. `nVisit`: the total number of visit by all users\n",
    "1. `avgDuration`: average POI visit duration\n",
    "1. `sameCatStart`: 1 if POI category is the same as that of `startPOI`, -1 otherwise\n",
    "1. `sameCatEnd`: 1 if POI category is the same as that of `endPOI`, -1 otherwise\n",
    "1. `distStart`: distance (haversine formula) from `startPOI`\n",
    "1. `distEnd`: distance from `endPOI`\n",
    "1. `seqLen`: trajectory length (copy from query)\n",
    "1. `diffPopStart`: difference in POI popularity from `startPOI`\n",
    "1. `diffPopEnd`: difference in POI popularity from `endPOI`\n",
    "1. `diffNVisitStart`: difference in the total number of visit from `startPOI`\n",
    "1. `diffNVisitEnd`: difference in the total number of visit from `endPOI`\n",
    "1. `diffDurationStart`: difference in average POI visit duration from the actual duration spent at `startPOI`\n",
    "1. `diffDurationEnd`: difference in average POI visit duration from the actual duration spent at `endPOI`"
   ]
  },
  {
   "cell_type": "code",
   "execution_count": 29,
   "metadata": {
    "collapsed": true
   },
   "outputs": [],
   "source": [
    "df_columns = ['poiID', 'label', 'queryID', 'popularity', 'nVisit', 'avgDuration', \\\n",
    "              'sameCatStart', 'sameCatEnd', 'distStart', 'distEnd', 'trajLen', 'diffPopStart', \\\n",
    "              'diffPopEnd', 'diffNVisitStart', 'diffNVisitEnd', 'diffDurationStart', 'diffDurationEnd']"
   ]
  },
  {
   "cell_type": "markdown",
   "metadata": {},
   "source": [
    "~~Features aggregated from a number of trajectories:~~\n",
    "~~1. Compute POI `popularity` and average visit `duration` using all trajectories from training and querying set,~~\n",
    "~~1. Use the same features that computed above for the test set, except the distance based features.~~"
   ]
  },
  {
   "cell_type": "markdown",
   "metadata": {},
   "source": [
    "<a id='sec2.2'></a>"
   ]
  },
  {
   "cell_type": "markdown",
   "metadata": {},
   "source": [
    "## 2.2 Training DataFrame"
   ]
  },
  {
   "cell_type": "markdown",
   "metadata": {},
   "source": [
    "Training data are generated as follows:\n",
    "1. each input tuple $(\\text{startPOI}, \\text{endPOI}, \\text{#POI})$ form a `query` (in IR terminology).\n",
    "1. the label of a specific POI is the number of presence of that POI in a specific `query`, excluding the presence as $\\text{startPOI}$ or $\\text{endPOI}$.\n",
    "1. for each `query`, the label of all absence POIs from trajectories of that `query` in training set got a label 0."
   ]
  },
  {
   "cell_type": "markdown",
   "metadata": {},
   "source": [
    "The dimension of training data matrix is `#(qid, poi)` by `#feature`."
   ]
  },
  {
   "cell_type": "code",
   "execution_count": 30,
   "metadata": {
    "collapsed": true
   },
   "outputs": [],
   "source": [
    "def gen_train_subdf(poi_id, query_id_set, columns, poi_info, poi_distmat, query_id_rdict):\n",
    "    df_ = pd.DataFrame(data=np.zeros((len(query_id_set), len(columns)), dtype=np.float), columns=columns)\n",
    "    \n",
    "    pop = poi_info.loc[poi_id, 'popularity']; nvisit = poi_info.loc[poi_id, 'nVisit']\n",
    "    cat = poi_info.loc[poi_id, 'poiCat']; duration = poi_info.loc[poi_id, 'avgDuration']\n",
    "    \n",
    "    for j in range(len(query_id_set)):\n",
    "        qid = query_id_set[j]\n",
    "        assert(qid in query_id_rdict) # qid --> (start, end, length)\n",
    "        (p0, pN, trajLen) = query_id_rdict[qid]\n",
    "        idx = df_.index[j]\n",
    "        df_.loc[idx, 'poiID'] = poi_id\n",
    "        df_.loc[idx, 'queryID'] = qid\n",
    "        df_.loc[idx, 'popularity'] = pop\n",
    "        df_.loc[idx, 'nVisit'] = nvisit\n",
    "        df_.loc[idx, 'avgDuration'] = duration\n",
    "        df_.loc[idx, 'sameCatStart'] = 1 if cat == poi_info.loc[p0, 'poiCat'] else -1\n",
    "        df_.loc[idx, 'sameCatEnd']   = 1 if cat == poi_info.loc[pN, 'poiCat'] else -1\n",
    "        df_.loc[idx, 'distStart'] = poi_distmat.loc[poi_id, p0]\n",
    "        df_.loc[idx, 'distEnd']   = poi_distmat.loc[poi_id, pN]\n",
    "        df_.loc[idx, 'trajLen'] = trajLen\n",
    "        df_.loc[idx, 'diffPopStart'] = pop - poi_info.loc[p0, 'popularity']\n",
    "        df_.loc[idx, 'diffPopEnd']   = pop - poi_info.loc[pN, 'popularity']\n",
    "        df_.loc[idx, 'diffNVisitStart'] = nvisit - poi_info.loc[p0, 'nVisit']\n",
    "        df_.loc[idx, 'diffNVisitEnd']   = nvisit - poi_info.loc[pN, 'nVisit']\n",
    "        df_.loc[idx, 'diffDurationStart'] = duration - poi_info.loc[p0, 'avgDuration']\n",
    "        df_.loc[idx, 'diffDurationEnd']   = duration - poi_info.loc[pN, 'avgDuration']\n",
    "        \n",
    "    return df_"
   ]
  },
  {
   "cell_type": "code",
   "execution_count": 31,
   "metadata": {
    "collapsed": true
   },
   "outputs": [],
   "source": [
    "def gen_train_df(trajid_list, columns, traj_all, poi_info, poi_distmat, query_id_dict, n_jobs=2):\n",
    "    columns = columns.copy()\n",
    "    train_trajs = [extract_traj(tid, traj_all) for tid in trajid_list]\n",
    "    \n",
    "    qid_set = sorted(set([query_id_dict[(t[0], t[-1], len(t))] for t in train_trajs if len(t) > 2]))\n",
    "    poi_set = sorted(set(poi_info.index.tolist()))\n",
    "    \n",
    "    #qid_poi_pair = list(itertools.product(qid_set, poi_set)) # Cartesian product of qid_set and poi_set\n",
    "    #df_ = pd.DataFrame(data=np.zeros((len(qid_poi_pair), len(columns)), dtype= np.float), columns=columns)\n",
    "    \n",
    "    query_id_rdict = dict()\n",
    "    for k, v in query_id_dict.items(): \n",
    "        query_id_rdict[v] = k  # qid --> (start, end, length)\n",
    "    \n",
    "    train_df_list = Parallel(n_jobs=n_jobs)\\\n",
    "                            (delayed(gen_train_subdf)(poi, qid_set, columns, poi_info, poi_distmat, query_id_rdict) \\\n",
    "                             for poi in poi_set)\n",
    "                        \n",
    "    assert(len(train_df_list) > 0)\n",
    "    df_ = train_df_list[0]\n",
    "    for j in range(1, len(train_df_list)):\n",
    "        df_ = df_.append(train_df_list[j], ignore_index=True)            \n",
    "        \n",
    "    # set label\n",
    "    df_.set_index(['queryID', 'poiID'], inplace=True)\n",
    "    for t in train_trajs:\n",
    "        if len(t) > 2:\n",
    "            qid = query_id_dict[(t[0], t[-1], len(t))]\n",
    "            for poi in t[1:-1]:  # do NOT count if the POI is startPOI/endPOI\n",
    "                df_.loc[(qid, poi), 'label'] += 1\n",
    "    \n",
    "    df_.reset_index(inplace=True)\n",
    "    return df_"
   ]
  },
  {
   "cell_type": "markdown",
   "metadata": {},
   "source": [
    "Sanity check: \n",
    "- different POIs have different features for the same query trajectory\n",
    "- the same POI get different features for different query-id"
   ]
  },
  {
   "cell_type": "markdown",
   "metadata": {},
   "source": [
    "<a id='sec2.3'></a>"
   ]
  },
  {
   "cell_type": "markdown",
   "metadata": {},
   "source": [
    "## 2.3 Test DataFrame"
   ]
  },
  {
   "cell_type": "markdown",
   "metadata": {},
   "source": [
    "Test data are generated the same way as training data, except that the labels of testing data (unknown) could be arbitrary values as suggested in [libsvm FAQ](http://www.csie.ntu.edu.tw/~cjlin/libsvm/faq.html#f431).\n",
    "The reported accuracy (by `svm-predict` command) is meaningless as it is calculated based on these labels."
   ]
  },
  {
   "cell_type": "markdown",
   "metadata": {},
   "source": [
    "The dimension of training data matrix is `#poi` by `#feature` with one specific `query`, i.e. tuple $(\\text{startPOI}, \\text{endPOI}, \\text{#POI})$."
   ]
  },
  {
   "cell_type": "code",
   "execution_count": 32,
   "metadata": {
    "collapsed": true
   },
   "outputs": [],
   "source": [
    "def gen_test_df(startPOI, endPOI, nPOI, columns, poi_info, poi_distmat, query_id_dict):\n",
    "    columns = columns.copy()\n",
    "    key = (p0, pN, trajLen) = (startPOI, endPOI, nPOI)\n",
    "    assert(key in query_id_dict)\n",
    "    assert(p0 in poi_info.index)\n",
    "    assert(pN in poi_info.index)\n",
    "    \n",
    "    poi_set = sorted(set(poi_info.index.tolist()))\n",
    "    df_ = pd.DataFrame(data=np.zeros((len(poi_set), len(columns)), dtype= np.float), columns=columns)\n",
    "    \n",
    "    qid = query_id_dict[key]\n",
    "    df_['queryID'] = qid\n",
    "    df_['label'] = np.random.rand(df_.shape[0]) # label for test data is arbitrary according to libsvm FAQ\n",
    "\n",
    "    for i in range(df_.index.shape[0]):\n",
    "        poi = poi_set[i]\n",
    "        lon = poi_info.loc[poi, 'poiLon']; lat = poi_info.loc[poi, 'poiLat']\n",
    "        pop = poi_info.loc[poi, 'popularity']; nvisit = poi_info.loc[poi, 'nVisit']\n",
    "        cat = poi_info.loc[poi, 'poiCat']; duration = poi_info.loc[poi, 'avgDuration']\n",
    "        idx = df_.index[i]\n",
    "        df_.loc[idx, 'poiID'] = poi \n",
    "        df_.loc[idx, 'popularity'] = pop\n",
    "        df_.loc[idx, 'nVisit'] = nvisit\n",
    "        df_.loc[idx, 'avgDuration'] = duration\n",
    "        df_.loc[idx, 'sameCatStart'] = 1 if cat == poi_all.loc[p0, 'poiCat'] else -1\n",
    "        df_.loc[idx, 'sameCatEnd']   = 1 if cat == poi_all.loc[pN, 'poiCat'] else -1\n",
    "        df_.loc[idx, 'distStart'] = poi_distmat.loc[poi, p0]\n",
    "        df_.loc[idx, 'distEnd']   = poi_distmat.loc[poi, pN]\n",
    "        df_.loc[idx, 'trajLen'] = trajLen\n",
    "        df_.loc[idx, 'diffPopStart'] = pop - poi_info.loc[p0, 'popularity']\n",
    "        df_.loc[idx, 'diffPopEnd']   = pop - poi_info.loc[pN, 'popularity']\n",
    "        df_.loc[idx, 'diffNVisitStart'] = nvisit - poi_info.loc[p0, 'nVisit']\n",
    "        df_.loc[idx, 'diffNVisitEnd']   = nvisit - poi_info.loc[pN, 'nVisit']\n",
    "        df_.loc[idx, 'diffDurationStart'] = duration - poi_info.loc[p0, 'avgDuration']\n",
    "        df_.loc[idx, 'diffDurationEnd']   = duration - poi_info.loc[pN, 'avgDuration']\n",
    "    return df_"
   ]
  },
  {
   "cell_type": "markdown",
   "metadata": {},
   "source": [
    "Sanity check: \n",
    "- different POIs have different features for the same query trajectory\n",
    "- the same POI get different features for different query-id"
   ]
  },
  {
   "cell_type": "markdown",
   "metadata": {},
   "source": [
    "Generate a string for a training/test data frame."
   ]
  },
  {
   "cell_type": "code",
   "execution_count": 33,
   "metadata": {
    "collapsed": true
   },
   "outputs": [],
   "source": [
    "def gen_data_str(df_, df_columns=df_columns):\n",
    "    columns = df_columns[1:].copy()  # get rid of 'poiID'\n",
    "    for col in columns:\n",
    "        assert(col in df_.columns)\n",
    "        \n",
    "    lines = []\n",
    "    for idx in df_.index:\n",
    "        slist = [str(df_.loc[idx, 'label'])]\n",
    "        slist.append(' qid:')\n",
    "        slist.append(str(int(df_.loc[idx, 'queryID'])))\n",
    "        for j in range(2, len(columns)):\n",
    "            slist.append(' ')\n",
    "            slist.append(str(j-1))\n",
    "            slist.append(':')\n",
    "            slist.append(str(df_.loc[idx, columns[j]]))\n",
    "        slist.append('\\n')\n",
    "        lines.append(''.join(slist))\n",
    "    return ''.join(lines)"
   ]
  },
  {
   "cell_type": "markdown",
   "metadata": {},
   "source": [
    "<a id='sec2.4'></a>"
   ]
  },
  {
   "cell_type": "markdown",
   "metadata": {},
   "source": [
    "## 2.4 Ranking POIs using rankSVM"
   ]
  },
  {
   "cell_type": "markdown",
   "metadata": {},
   "source": [
    "RankSVM implementation in [libsvm.zip](https://www.csie.ntu.edu.tw/~cjlin/libsvmtools/ranksvm/libsvm-ranksvm-3.20.zip) or [liblinear.zip](https://www.csie.ntu.edu.tw/~cjlin/libsvmtools/ranksvm/liblinear-ranksvm-1.95.zip), please read `README.ranksvm` in the zip file for installation instructions."
   ]
  },
  {
   "cell_type": "markdown",
   "metadata": {},
   "source": [
    "Use [softmax function](https://en.wikipedia.org/wiki/Softmax_function) to convert ranking scores to a probability distribution."
   ]
  },
  {
   "cell_type": "code",
   "execution_count": 34,
   "metadata": {
    "collapsed": true
   },
   "outputs": [],
   "source": [
    "def softmax(x):\n",
    "    expx = np.exp(x)\n",
    "    return expx / np.sum(expx, axis=0) # column-wise sum"
   ]
  },
  {
   "cell_type": "markdown",
   "metadata": {},
   "source": [
    "Below is a python wrapper of the `svm-train` or `train` and `svm-predict` or `predict` commands of rankSVM with ranking probabilities $P(p_i \\lvert (p_s, p_e, len))$ computed using [softmax function](https://en.wikipedia.org/wiki/Softmax_function)."
   ]
  },
  {
   "cell_type": "code",
   "execution_count": 35,
   "metadata": {
    "collapsed": true
   },
   "outputs": [],
   "source": [
    "# python wrapper of rankSVM\n",
    "class RankSVM:\n",
    "    def __init__(self, bin_dir, useLinear=True, debug=False):\n",
    "        dir_ = !echo $bin_dir  # deal with environmental variables in path\n",
    "        assert(os.path.exists(dir_[0]))\n",
    "        self.bin_dir = dir_[0]\n",
    "        \n",
    "        self.bin_train = 'svm-train'\n",
    "        self.bin_predict = 'svm-predict'\n",
    "        if useLinear:\n",
    "            self.bin_train = 'train'\n",
    "            self.bin_predict = 'predict'\n",
    "        \n",
    "        assert(isinstance(debug, bool))\n",
    "        self.debug = debug\n",
    "        \n",
    "        # create named tmp files for model and feature scaling parameters\n",
    "        self.fmodel = None\n",
    "        self.fscale = None\n",
    "        with tempfile.NamedTemporaryFile(delete=False) as fd: \n",
    "            self.fmodel = fd.name\n",
    "        with tempfile.NamedTemporaryFile(delete=False) as fd: \n",
    "            self.fscale = fd.name\n",
    "        \n",
    "        if self.debug:\n",
    "            print('model file:', self.fmodel)\n",
    "            print('feature scaling parameter file:', self.fscale)\n",
    "    \n",
    "    \n",
    "    def __del__(self):\n",
    "        # remove tmp files\n",
    "        if self.fmodel is not None and os.path.exists(self.fmodel):\n",
    "            os.unlink(self.fmodel)\n",
    "        if self.fscale is not None and os.path.exists(self.fscale):\n",
    "            os.unlink(self.fscale)\n",
    "    \n",
    "    \n",
    "    def train(self, train_df, cost=1):\n",
    "        # cost is parameter C in SVM\n",
    "        # write train data to file\n",
    "        ftrain = None\n",
    "        with tempfile.NamedTemporaryFile(mode='w+t', delete=False) as fd: \n",
    "            ftrain = fd.name\n",
    "            datastr = gen_data_str(train_df)\n",
    "            fd.write(datastr)\n",
    "        \n",
    "        # feature scaling\n",
    "        ftrain_scaled = None\n",
    "        with tempfile.NamedTemporaryFile(mode='w+t', delete=False) as fd: \n",
    "            ftrain_scaled = fd.name\n",
    "        result = !$self.bin_dir/svm-scale -s $self.fscale $ftrain > $ftrain_scaled\n",
    "        \n",
    "        if self.debug:\n",
    "            print('cost:', cost)\n",
    "            print('train data file:', ftrain)\n",
    "            print('feature scaled train data file:', ftrain_scaled)\n",
    "        \n",
    "        # train rank svm and generate model file, if the model file exists, rewrite it\n",
    "        #n_cv = 10  # parameter k for k-fold cross-validation, NO model file will be generated in CV mode\n",
    "        #result = !$self.bin_dir/svm-train -c $cost -v $n_cv $ftrain $self.fmodel\n",
    "        result = !$self.bin_dir/$self.bin_train -c $cost $ftrain_scaled $self.fmodel\n",
    "        if self.debug:\n",
    "            print('Training finished.')\n",
    "            for i in range(len(result)): print(result[i])\n",
    "\n",
    "        # remove train data file\n",
    "        os.unlink(ftrain)\n",
    "        os.unlink(ftrain_scaled)        \n",
    "    \n",
    "    \n",
    "    def predict(self, test_df):\n",
    "        # predict ranking scores for the given feature matrix\n",
    "        if self.fmodel is None or not os.path.exists(self.fmodel):\n",
    "            print('Model should be trained before predicting')\n",
    "            return\n",
    "        \n",
    "        # write test data to file\n",
    "        ftest = None\n",
    "        with tempfile.NamedTemporaryFile(mode='w+t', delete=False) as fd: \n",
    "            ftest = fd.name\n",
    "            datastr = gen_data_str(test_df)\n",
    "            fd.write(datastr)\n",
    "                \n",
    "        # feature scaling\n",
    "        ftest_scaled = None\n",
    "        with tempfile.NamedTemporaryFile(delete=False) as fd: \n",
    "            ftest_scaled = fd.name\n",
    "        result = !$self.bin_dir/svm-scale -r $self.fscale $ftest > $ftest_scaled\n",
    "            \n",
    "        # generate prediction file\n",
    "        fpredict = None\n",
    "        with tempfile.NamedTemporaryFile(delete=False) as fd: \n",
    "            fpredict = fd.name\n",
    "            \n",
    "        if self.debug:\n",
    "            print('test data file:', ftest)\n",
    "            print('feature scaled test data file:', ftest_scaled)\n",
    "            print('predict result file:', fpredict)\n",
    "            \n",
    "        # predict using trained model and write prediction to file\n",
    "        result = !$self.bin_dir/$self.bin_predict $ftest_scaled $self.fmodel $fpredict\n",
    "        if self.debug:\n",
    "            print('Predict result: %-30s  %s' % (result[0], result[1]))\n",
    "        \n",
    "        # generate prediction DataFrame from prediction file\n",
    "        poi_rank_df = pd.read_csv(fpredict, header=None)\n",
    "        poi_rank_df.rename(columns={0:'rank'}, inplace=True)\n",
    "        poi_rank_df['poiID'] = test_df['poiID'].astype(np.int)\n",
    "        #poi_rank_df.set_index('poiID', inplace=True) # duplicated 'poiID' when evaluating training data\n",
    "        poi_rank_df['probability'] = softmax(poi_rank_df['rank'])  # softmax\n",
    "        \n",
    "        # remove test file and prediction file\n",
    "        os.unlink(ftest)\n",
    "        os.unlink(ftest_scaled)\n",
    "        os.unlink(fpredict)\n",
    "        \n",
    "        return poi_rank_df"
   ]
  },
  {
   "cell_type": "markdown",
   "metadata": {},
   "source": [
    "# Preparation for structured prediction"
   ]
  },
  {
   "cell_type": "markdown",
   "metadata": {},
   "source": [
    "## 3.1 Features for Structured Prediction"
   ]
  },
  {
   "cell_type": "markdown",
   "metadata": {},
   "source": [
    "For a trajectory `[start, ..., end]`, the features used to train/test are \n",
    "1. ~~feature for POI `start` is a binary vector of size `total_number_of_POIs`, \n",
    "   with `1` at the location corresponds to POI `start` and `0` anywhere else, e.g. one hot encoding.~~\n",
    "1. ~~feature for POI `end` is simliar, with `1` at the location corresponds to POI `end`.~~\n",
    "1. features for other POIs in the trajectory are the ranking probabilities \n",
    "   (produced by rankSVM, transformed by softmax) of all POIs,\n",
    "   i.e. features of different POIs in the middle (i.e. not the `start` or `end`) are the same."
   ]
  },
  {
   "cell_type": "markdown",
   "metadata": {},
   "source": [
    "## 3.2 POI Preprocessing"
   ]
  },
  {
   "cell_type": "markdown",
   "metadata": {},
   "source": [
    "**NOTE**: [PyStruct](https://pystruct.github.io/) assumes that [label `y` is a discrete vector](https://pystruct.github.io/intro.html) and [pystruct.learners assume labels `y` are integers starting with `0`](https://github.com/pystruct/pystruct/issues/114), concretely,\n",
    "- values in label vector $y$ should satisfy $y_i \\in Y$, \n",
    "  where $Y$ is the **index** of a discrete value space, and the index starts at 0.\n",
    "- label vector $y$ will be [transformed to one hot encoding (see function `joint_feature()`)](https://github.com/pystruct/pystruct/blob/master/pystruct/models/graph_crf.py).\n",
    "\n",
    "For example, if labels in training set is `[[1, 2], [0, 4, 9]]`, \n",
    "then it will cause an index out of bounds error as pystruct did something like this,\n",
    "1. construct an discrete value space: \n",
    "   - `set([1, 2] + [0, 4, 9]) -> {0, 1, 2, 4, 9}`\n",
    "   - `size({0, 1, 2, 4, 9}) = 5`\n",
    "1. convert labels using one hot encoding: \n",
    "   - label vector `[1, 2]` will be converted to a matrix of shape $2 \\times 5$,\n",
    "     with cells at `(0, 1), (1, 2)` set to `1` and others set to `0`.\n",
    "   - label vector `[0, 4, 9]` will be converted to a matrix of shape $3 \\times 5$,\n",
    "     with cells at `(0, 0)`, `(1, 4)`, **`(2, 9)` INDEX_OUT_OF_BOUNDS** set to `1` and others set to `0`."
   ]
  },
  {
   "cell_type": "code",
   "execution_count": 36,
   "metadata": {
    "collapsed": false
   },
   "outputs": [],
   "source": [
    "poi_info_all = calc_poi_info(trajid_set_all, traj_all, poi_all)"
   ]
  },
  {
   "cell_type": "markdown",
   "metadata": {},
   "source": [
    "Build a mapping for POIs: *POI_ID $\\to$ POI_INDEX* with POIs in trajectories of length $\\ge 3$, also a map of the reverse direction."
   ]
  },
  {
   "cell_type": "code",
   "execution_count": 37,
   "metadata": {
    "collapsed": true
   },
   "outputs": [],
   "source": [
    "#poi_set = set()\n",
    "poi_id_dict  = dict()\n",
    "poi_id_rdict = dict()\n",
    "poi_cnt_dict = dict()\n",
    "traj_dict = dict()"
   ]
  },
  {
   "cell_type": "code",
   "execution_count": 38,
   "metadata": {
    "collapsed": false
   },
   "outputs": [],
   "source": [
    "for tid in trajid_set_all:\n",
    "    t = extract_traj(tid, traj_all)\n",
    "    if len(t) < 3: continue\n",
    "    assert(tid not in traj_dict)\n",
    "    traj_dict[tid] = t\n",
    "    for poi in t:\n",
    "        if poi in poi_cnt_dict: \n",
    "            poi_cnt_dict[poi] += 1\n",
    "        else:\n",
    "            poi_cnt_dict[poi] = 1"
   ]
  },
  {
   "cell_type": "code",
   "execution_count": 39,
   "metadata": {
    "collapsed": true
   },
   "outputs": [],
   "source": [
    "#for ix, poi in enumerate(sorted(poi_set)): \n",
    "for ix, poi in enumerate(sorted(poi_cnt_dict.keys())): \n",
    "    poi_id_dict[poi] = ix\n",
    "for k, v in poi_id_dict.items(): \n",
    "    poi_id_rdict[v] = k"
   ]
  },
  {
   "cell_type": "code",
   "execution_count": 40,
   "metadata": {
    "collapsed": true
   },
   "outputs": [],
   "source": [
    "assert(len(poi_id_dict) == len(poi_id_rdict) <= poi_info_all.shape[0])"
   ]
  },
  {
   "cell_type": "code",
   "execution_count": 41,
   "metadata": {
    "collapsed": true
   },
   "outputs": [],
   "source": [
    "poi_ix = [poi_id_rdict[x] for x in sorted(poi_id_rdict.keys())]  # POIs in ascending order of mapped IDs"
   ]
  },
  {
   "cell_type": "code",
   "execution_count": 42,
   "metadata": {
    "collapsed": false
   },
   "outputs": [
    {
     "name": "stdout",
     "output_type": "stream",
     "text": [
      "21 [1, 2, 3, 5, 6, 7, 8, 10, 11, 12, 15, 16, 17, 18, 20, 21, 22, 23, 24, 25, 28]\n"
     ]
    }
   ],
   "source": [
    "print(len(poi_ix), poi_ix)"
   ]
  },
  {
   "cell_type": "markdown",
   "metadata": {},
   "source": [
    "<a id='sec3'></a>"
   ]
  },
  {
   "cell_type": "markdown",
   "metadata": {},
   "source": [
    "# 3. Factorise Transition Probabilities in POI Feature Space"
   ]
  },
  {
   "cell_type": "markdown",
   "metadata": {},
   "source": [
    "Estimate a transition matrix for each feature of POI, transition probabilities (matrix) between different POI features (vector) is obtrained by the Kronecker product of the individual transition matrix corresponding to each feature."
   ]
  },
  {
   "cell_type": "markdown",
   "metadata": {},
   "source": [
    "## 3.1 POI Features for Factorisation"
   ]
  },
  {
   "cell_type": "markdown",
   "metadata": {},
   "source": [
    "POI features used to factorise transition matrix of Markov Chain with POI features (vector) as states:\n",
    "- Category of POI\n",
    "- Popularity of POI (discritize with uniform log-scale bins, #bins <=5 )\n",
    "- The number of POI visits (discritize with uniform log-scale bins, #bins <=5 )\n",
    "- The average visit duration of POI (discritise with uniform log-scale bins, #bins <= 5)\n",
    "- The neighborhood relationship between POIs (clustering POI(lat, lon) using k-means, #clusters <= 5)"
   ]
  },
  {
   "cell_type": "markdown",
   "metadata": {},
   "source": [
    "We count the number of transition first, then normalise each row while taking care of zero by adding each cell a number $k=1$."
   ]
  },
  {
   "cell_type": "code",
   "execution_count": 43,
   "metadata": {
    "collapsed": true
   },
   "outputs": [],
   "source": [
    "def normalise_transmat(transmat_cnt):\n",
    "    transmat = transmat_cnt.copy()\n",
    "    assert(isinstance(transmat, pd.DataFrame))\n",
    "    for row in range(transmat.index.shape[0]):\n",
    "        #nonzeroidx = np.nonzero(transmat.iloc[row])[0].tolist()    \n",
    "        #if len(nonzeroidx) < transmat.columns.shape[0]:\n",
    "        #    if len(nonzeroidx) == 0:  # all zeros in row\n",
    "        #        transmat.iloc[row] = 1 / transmat.columns.shape[0]  # uniform distribution\n",
    "        #    else:\n",
    "        #        minv = np.min(transmat.iloc[row, nonzeroidx])\n",
    "        #        EPS = 0.2 * minv  # row-specific smooth factor\n",
    "        #        #zeroidx = list(set(range(len(transmat.columns))) - set(nonzeroidx))\n",
    "        #        #transmat.iloc[row, zeroidx] = EPS\n",
    "        #        transmat.iloc[row] += EPS\n",
    "        #        rowsum = np.sum(transmat.iloc[row])\n",
    "        #        assert(rowsum > 0)\n",
    "        #        transmat.iloc[row] /= rowsum\n",
    "        #else:\n",
    "        #    assert(len(nonzeroidx) == transmat.columns.shape[0])  # all non-zero in row\n",
    "        #    transmat.iloc[row] /= np.sum(transmat.iloc[row])\n",
    "        rowsum = np.sum(transmat.iloc[row] + 1)\n",
    "        assert(rowsum > 0)\n",
    "        transmat.iloc[row] = (transmat.iloc[row] + 1) / rowsum\n",
    "    return transmat"
   ]
  },
  {
   "cell_type": "markdown",
   "metadata": {},
   "source": [
    "POIs in training set."
   ]
  },
  {
   "cell_type": "code",
   "execution_count": 44,
   "metadata": {
    "collapsed": true
   },
   "outputs": [],
   "source": [
    "#poi_train_ = traj_all[traj_all['trajID'].isin(trajid_set_all)]['poiID'].unique().tolist()\n",
    "#poi_train_.sort()\n",
    "#poi_train\n",
    "poi_train = poi_ix"
   ]
  },
  {
   "cell_type": "markdown",
   "metadata": {},
   "source": [
    "## 3.2 Transition Matrix between POI Cateogries"
   ]
  },
  {
   "cell_type": "code",
   "execution_count": 45,
   "metadata": {
    "collapsed": false
   },
   "outputs": [
    {
     "data": {
      "text/plain": [
       "['Amusement', 'Entertainment', 'Historical', 'Park']"
      ]
     },
     "execution_count": 45,
     "metadata": {},
     "output_type": "execute_result"
    }
   ],
   "source": [
    "poi_cats = poi_all.loc[poi_train, 'poiCat'].unique().tolist()\n",
    "poi_cats.sort()\n",
    "poi_cats"
   ]
  },
  {
   "cell_type": "code",
   "execution_count": 46,
   "metadata": {
    "collapsed": true
   },
   "outputs": [],
   "source": [
    "def gen_transmat_cat(trajid_list, traj_all, poi_info, poi_cats=poi_cats):    \n",
    "    transmat_cat_cnt = pd.DataFrame(data=np.zeros((len(poi_cats), len(poi_cats)), dtype=np.float), \\\n",
    "                                    columns=poi_cats, index=poi_cats)\n",
    "    for tid in trajid_list:\n",
    "        t = extract_traj(tid, traj_all)\n",
    "        if len(t) > 1:\n",
    "            for pi in range(len(t)-1):\n",
    "                p1 = t[pi]\n",
    "                p2 = t[pi+1]\n",
    "                cat1 = poi_info.loc[p1, 'poiCat']\n",
    "                cat2 = poi_info.loc[p2, 'poiCat']\n",
    "                transmat_cat_cnt.loc[cat1, cat2] += 1\n",
    "    return normalise_transmat(transmat_cat_cnt)"
   ]
  },
  {
   "cell_type": "markdown",
   "metadata": {},
   "source": [
    "## 3.3 Transition Matrix between POI Popularity Classes"
   ]
  },
  {
   "cell_type": "code",
   "execution_count": 47,
   "metadata": {
    "collapsed": false
   },
   "outputs": [
    {
     "data": {
      "text/plain": [
       "[1, 7, 8, 12, 13, 14, 17, 20, 27, 31, 34, 39, 58, 65, 68, 69, 84, 107, 128]"
      ]
     },
     "execution_count": 47,
     "metadata": {},
     "output_type": "execute_result"
    }
   ],
   "source": [
    "poi_pops = poi_info_all.loc[poi_train, 'popularity']\n",
    "sorted(poi_pops.unique().tolist())"
   ]
  },
  {
   "cell_type": "markdown",
   "metadata": {},
   "source": [
    "Discretize POI popularity with uniform log-scale bins."
   ]
  },
  {
   "cell_type": "code",
   "execution_count": 48,
   "metadata": {
    "collapsed": false
   },
   "outputs": [
    {
     "name": "stdout",
     "output_type": "stream",
     "text": [
      "0.0 2.10720996965\n"
     ]
    }
   ],
   "source": [
    "expo_pop1 = np.log10(max(1, min(poi_pops)))\n",
    "expo_pop2 = np.log10(max(poi_pops))\n",
    "print(expo_pop1, expo_pop2)"
   ]
  },
  {
   "cell_type": "code",
   "execution_count": 51,
   "metadata": {
    "collapsed": false
   },
   "outputs": [
    {
     "data": {
      "text/plain": [
       "array([    0.        ,     3.98107171,    15.84893192,    63.09573445,\n",
       "         251.18864315,  1000.        ])"
      ]
     },
     "execution_count": 51,
     "metadata": {},
     "output_type": "execute_result"
    }
   ],
   "source": [
    "nbins_pop = BIN_CLUSTER\n",
    "logbins_pop = np.logspace(np.floor(expo_pop1), np.ceil(expo_pop2), nbins_pop+1)\n",
    "logbins_pop[0] = 0  # deal with underflow\n",
    "if uspecific == True:\n",
    "    logbins_pop[-1] = KX * logbins_pop[-1]  # deal with overflow\n",
    "if logbins_pop[-1] < poi_info_all['popularity'].max():\n",
    "    logbins_pop[-1] = poi_info_all['popularity'].max() + 1\n",
    "logbins_pop"
   ]
  },
  {
   "cell_type": "code",
   "execution_count": 52,
   "metadata": {
    "collapsed": false
   },
   "outputs": [
    {
     "data": {
      "image/png": "[encoded data removed]",
      "text/plain": [
       "<matplotlib.figure.Figure at 0x7f42018d54e0>"
      ]
     },
     "metadata": {},
     "output_type": "display_data"
    }
   ],
   "source": [
    "ax = pd.Series(poi_pops).hist(figsize=(5, 3), bins=logbins_pop)\n",
    "ax.set_xlim(xmin=0.1)\n",
    "ax.set_xscale('log')"
   ]
  },
  {
   "cell_type": "code",
   "execution_count": 53,
   "metadata": {
    "collapsed": true
   },
   "outputs": [],
   "source": [
    "def gen_transmat_pop(trajid_list, traj_all, poi_info, logbins_pop=logbins_pop):\n",
    "    nbins = len(logbins_pop) - 1\n",
    "    transmat_pop_cnt = pd.DataFrame(data=np.zeros((nbins, nbins), dtype=np.float), \\\n",
    "                                    columns=np.arange(1, nbins+1), index=np.arange(1, nbins+1))\n",
    "    for tid in trajid_list:\n",
    "        t = extract_traj(tid, traj_all)\n",
    "        if len(t) > 1:\n",
    "            for pi in range(len(t)-1):\n",
    "                p1 = t[pi]\n",
    "                p2 = t[pi+1]\n",
    "                pop1 = poi_info.loc[p1, 'popularity']\n",
    "                pop2 = poi_info.loc[p2, 'popularity']\n",
    "                pc1, pc2 = np.digitize([pop1, pop2], logbins_pop)\n",
    "                transmat_pop_cnt.loc[pc1, pc2] += 1\n",
    "    return normalise_transmat(transmat_pop_cnt), logbins_pop"
   ]
  },
  {
   "cell_type": "markdown",
   "metadata": {},
   "source": [
    "## 3.4 Transition Matrix between the Number of POI Visit Classes"
   ]
  },
  {
   "cell_type": "code",
   "execution_count": 54,
   "metadata": {
    "collapsed": false
   },
   "outputs": [
    {
     "data": {
      "text/plain": [
       "[1,\n",
       " 9,\n",
       " 14,\n",
       " 18,\n",
       " 21,\n",
       " 23,\n",
       " 24,\n",
       " 27,\n",
       " 33,\n",
       " 35,\n",
       " 39,\n",
       " 46,\n",
       " 49,\n",
       " 53,\n",
       " 71,\n",
       " 89,\n",
       " 107,\n",
       " 113,\n",
       " 127,\n",
       " 144,\n",
       " 146]"
      ]
     },
     "execution_count": 54,
     "metadata": {},
     "output_type": "execute_result"
    }
   ],
   "source": [
    "poi_visits = poi_info_all.loc[poi_train, 'nVisit']\n",
    "sorted(poi_visits.unique().tolist())"
   ]
  },
  {
   "cell_type": "markdown",
   "metadata": {},
   "source": [
    "Discretize the number of POI visit with uniform log-scale bins."
   ]
  },
  {
   "cell_type": "code",
   "execution_count": 55,
   "metadata": {
    "collapsed": false
   },
   "outputs": [
    {
     "name": "stdout",
     "output_type": "stream",
     "text": [
      "0.0 2.16435285578\n"
     ]
    }
   ],
   "source": [
    "expo_visit1 = np.log10(max(1, min(poi_visits)))\n",
    "expo_visit2 = np.log10(max(poi_visits))\n",
    "print(expo_visit1, expo_visit2)"
   ]
  },
  {
   "cell_type": "code",
   "execution_count": 57,
   "metadata": {
    "collapsed": false
   },
   "outputs": [
    {
     "data": {
      "text/plain": [
       "array([    0.        ,     3.98107171,    15.84893192,    63.09573445,\n",
       "         251.18864315,  1000.        ])"
      ]
     },
     "execution_count": 57,
     "metadata": {},
     "output_type": "execute_result"
    }
   ],
   "source": [
    "nbins_visit = BIN_CLUSTER\n",
    "logbins_visit = np.logspace(np.floor(expo_visit1), np.ceil(expo_visit2), nbins_visit+1)\n",
    "logbins_visit[0] = 0  # deal with underflow\n",
    "if uspecific == True:\n",
    "    logbins_visit[-1] = KX * logbins_visit[-1]  # deal with overflow\n",
    "if logbins_visit[-1] < poi_info_all['nVisit'].max():\n",
    "    logbins_visit[-1] = poi_info_all['nVisit'].max() + 1\n",
    "logbins_visit"
   ]
  },
  {
   "cell_type": "code",
   "execution_count": 58,
   "metadata": {
    "collapsed": false
   },
   "outputs": [
    {
     "data": {
      "image/png": "[encoded data removed]",
      "text/plain": [
       "<matplotlib.figure.Figure at 0x7f42039a72b0>"
      ]
     },
     "metadata": {},
     "output_type": "display_data"
    }
   ],
   "source": [
    "ax = pd.Series(poi_visits).hist(figsize=(5, 3), bins=logbins_visit)\n",
    "ax.set_xlim(xmin=0.1)\n",
    "ax.set_xscale('log')"
   ]
  },
  {
   "cell_type": "code",
   "execution_count": 59,
   "metadata": {
    "collapsed": true
   },
   "outputs": [],
   "source": [
    "def gen_transmat_visit(trajid_list, traj_all, poi_info, logbins_visit=logbins_visit):\n",
    "    nbins = len(logbins_visit) - 1\n",
    "    transmat_visit_cnt = pd.DataFrame(data=np.zeros((nbins, nbins), dtype=np.float), \\\n",
    "                                      columns=np.arange(1, nbins+1), index=np.arange(1, nbins+1))\n",
    "    for tid in trajid_list:\n",
    "        t = extract_traj(tid, traj_all)\n",
    "        if len(t) > 1:\n",
    "            for pi in range(len(t)-1):\n",
    "                p1 = t[pi]\n",
    "                p2 = t[pi+1]\n",
    "                visit1 = poi_info.loc[p1, 'nVisit']\n",
    "                visit2 = poi_info.loc[p2, 'nVisit']\n",
    "                vc1, vc2 = np.digitize([visit1, visit2], logbins_visit)\n",
    "                transmat_visit_cnt.loc[vc1, vc2] += 1\n",
    "    return normalise_transmat(transmat_visit_cnt), logbins_visit"
   ]
  },
  {
   "cell_type": "markdown",
   "metadata": {},
   "source": [
    "## 3.5 Transition Matrix between POI Average Visit Duration Classes"
   ]
  },
  {
   "cell_type": "code",
   "execution_count": 60,
   "metadata": {
    "collapsed": false
   },
   "outputs": [
    {
     "data": {
      "text/plain": [
       "[180.0,\n",
       " 545.8913043478261,\n",
       " 687.4814814814815,\n",
       " 920.3913043478261,\n",
       " 1113.6410256410256,\n",
       " 1247.03738317757,\n",
       " 1322.0,\n",
       " 1532.204081632653,\n",
       " 1602.867924528302,\n",
       " 1737.5590551181103,\n",
       " 1885.943661971831,\n",
       " 1895.047619047619,\n",
       " 2035.8,\n",
       " 2074.777777777778,\n",
       " 2303.969696969697,\n",
       " 2461.0342465753424,\n",
       " 2513.3451327433627,\n",
       " 2763.8888888888887,\n",
       " 3312.3571428571427,\n",
       " 3696.14606741573,\n",
       " 4450.041666666667]"
      ]
     },
     "execution_count": 60,
     "metadata": {},
     "output_type": "execute_result"
    }
   ],
   "source": [
    "poi_durations = poi_info_all.loc[poi_train, 'avgDuration']\n",
    "sorted(poi_durations.unique().tolist())"
   ]
  },
  {
   "cell_type": "code",
   "execution_count": 61,
   "metadata": {
    "collapsed": false
   },
   "outputs": [
    {
     "name": "stdout",
     "output_type": "stream",
     "text": [
      "2.2552725051 3.64836407739\n"
     ]
    }
   ],
   "source": [
    "expo_duration1 = np.log10(max(1, min(poi_durations)))\n",
    "expo_duration2 = np.log10(max(poi_durations))\n",
    "print(expo_duration1, expo_duration2)"
   ]
  },
  {
   "cell_type": "code",
   "execution_count": 74,
   "metadata": {
    "collapsed": false
   },
   "outputs": [
    {
     "data": {
      "text/plain": [
       "array([  0.00000000e+00,   2.51188643e+02,   6.30957344e+02,\n",
       "         1.58489319e+03,   3.98107171e+03,   4.45004167e+05])"
      ]
     },
     "execution_count": 74,
     "metadata": {},
     "output_type": "execute_result"
    }
   ],
   "source": [
    "nbins_duration = BIN_CLUSTER\n",
    "logbins_duration = np.logspace(np.floor(expo_duration1), np.ceil(expo_duration2), nbins_duration+1)\n",
    "logbins_duration[0] = 0  # deal with underflow\n",
    "if uspecific == True:\n",
    "    logbins_duration[-1] = KX * logbins_duration[-1]  # deal with overflow\n",
    "else:\n",
    "    logbins_duration[-1] = np.power(10, expo_duration2+2)\n",
    "logbins_duration"
   ]
  },
  {
   "cell_type": "code",
   "execution_count": 75,
   "metadata": {
    "collapsed": false
   },
   "outputs": [
    {
     "data": {
      "image/png": "[encoded data removed]",
      "text/plain": [
       "<matplotlib.figure.Figure at 0x7f4201913c50>"
      ]
     },
     "metadata": {},
     "output_type": "display_data"
    }
   ],
   "source": [
    "ax = pd.Series(poi_durations).hist(figsize=(5, 3), bins=logbins_duration)\n",
    "ax.set_xlim(xmin=0.1)\n",
    "ax.set_xscale('log')"
   ]
  },
  {
   "cell_type": "code",
   "execution_count": 76,
   "metadata": {
    "collapsed": true
   },
   "outputs": [],
   "source": [
    "def gen_transmat_duration(trajid_list, traj_all, poi_info, logbins_duration=logbins_duration):\n",
    "    nbins = len(logbins_duration) - 1\n",
    "    transmat_duration_cnt = pd.DataFrame(data=np.zeros((nbins, nbins), dtype=np.float), \\\n",
    "                                         columns=np.arange(1, nbins+1), index=np.arange(1, nbins+1))\n",
    "    for tid in trajid_list:\n",
    "        t = extract_traj(tid, traj_all)\n",
    "        if len(t) > 1:\n",
    "            for pi in range(len(t)-1):\n",
    "                p1 = t[pi]\n",
    "                p2 = t[pi+1]\n",
    "                d1 = poi_info.loc[p1, 'avgDuration']\n",
    "                d2 = poi_info.loc[p2, 'avgDuration']\n",
    "                dc1, dc2 = np.digitize([d1, d2], logbins_duration)\n",
    "                transmat_duration_cnt.loc[dc1, dc2] += 1\n",
    "    return normalise_transmat(transmat_duration_cnt), logbins_duration"
   ]
  },
  {
   "cell_type": "markdown",
   "metadata": {},
   "source": [
    "## 3.6 Transition Matrix between POI Neighborhood Classes"
   ]
  },
  {
   "cell_type": "markdown",
   "metadata": {},
   "source": [
    "KMeans in scikit-learn seems unable to use custom distance metric and no implementation of [Haversine formula](http://en.wikipedia.org/wiki/Great-circle_distance), use Euclidean distance to approximate."
   ]
  },
  {
   "cell_type": "code",
   "execution_count": 77,
   "metadata": {
    "collapsed": false
   },
   "outputs": [],
   "source": [
    "X = poi_all.loc[poi_train, ['poiLon', 'poiLat']]\n",
    "nclusters = BIN_CLUSTER"
   ]
  },
  {
   "cell_type": "code",
   "execution_count": 78,
   "metadata": {
    "collapsed": false
   },
   "outputs": [
    {
     "data": {
      "text/plain": [
       "KMeans(copy_x=True, init='k-means++', max_iter=300, n_clusters=5, n_init=10,\n",
       "    n_jobs=1, precompute_distances='auto', random_state=None, tol=0.0001,\n",
       "    verbose=0)"
      ]
     },
     "execution_count": 78,
     "metadata": {},
     "output_type": "execute_result"
    }
   ],
   "source": [
    "kmeans = KMeans(n_clusters=nclusters)\n",
    "kmeans.fit(X)"
   ]
  },
  {
   "cell_type": "code",
   "execution_count": 79,
   "metadata": {
    "collapsed": false
   },
   "outputs": [],
   "source": [
    "clusters = kmeans.predict(X)\n",
    "#clusters\n",
    "poi_clusters = pd.DataFrame(data=clusters, index=poi_train)\n",
    "poi_clusters.index.name = 'poiID'\n",
    "poi_clusters.rename(columns={0:'clusterID'}, inplace=True)\n",
    "#poi_clusters"
   ]
  },
  {
   "cell_type": "markdown",
   "metadata": {},
   "source": [
    "Scatter plot of POI coordinates with clustering results."
   ]
  },
  {
   "cell_type": "code",
   "execution_count": 80,
   "metadata": {
    "collapsed": false
   },
   "outputs": [
    {
     "data": {
      "text/plain": [
       "<matplotlib.collections.PathCollection at 0x7f42018647f0>"
      ]
     },
     "execution_count": 80,
     "metadata": {},
     "output_type": "execute_result"
    },
    {
     "data": {
      "image/png": "[encoded data removed]",
      "text/plain": [
       "<matplotlib.figure.Figure at 0x7f4201455dd8>"
      ]
     },
     "metadata": {},
     "output_type": "display_data"
    }
   ],
   "source": [
    "diff = poi_all.loc[poi_train, ['poiLon', 'poiLat']].max() - poi_all.loc[poi_train, ['poiLon', 'poiLat']].min()\n",
    "ratio = diff['poiLon'] / diff['poiLat']\n",
    "#ratio\n",
    "height = 4; width = int(round(ratio)*height)\n",
    "plt.figure(figsize=[width, height])\n",
    "plt.scatter(poi_all.loc[poi_train, 'poiLon'], poi_all.loc[poi_train, 'poiLat'], c=clusters, s=50)"
   ]
  },
  {
   "cell_type": "code",
   "execution_count": 81,
   "metadata": {
    "collapsed": true
   },
   "outputs": [],
   "source": [
    "def gen_transmat_neighbor(trajid_list, traj_all, poi_info, poi_clusters=poi_clusters):\n",
    "    nclusters = len(poi_clusters['clusterID'].unique())\n",
    "    transmat_neighbor_cnt = pd.DataFrame(data=np.zeros((nclusters, nclusters), dtype=np.float), \\\n",
    "                                         columns=np.arange(nclusters), index=np.arange(nclusters))\n",
    "    for tid in trajid_list:\n",
    "        t = extract_traj(tid, traj_all)\n",
    "        if len(t) > 1:\n",
    "            for pi in range(len(t)-1):\n",
    "                p1 = t[pi]\n",
    "                p2 = t[pi+1]\n",
    "                c1 = poi_clusters.loc[p1, 'clusterID']\n",
    "                c2 = poi_clusters.loc[p2, 'clusterID']\n",
    "                transmat_neighbor_cnt.loc[c1, c2] += 1\n",
    "    return normalise_transmat(transmat_neighbor_cnt), poi_clusters"
   ]
  },
  {
   "cell_type": "markdown",
   "metadata": {},
   "source": [
    "## 3.7 Transition Matrix between POIs"
   ]
  },
  {
   "cell_type": "markdown",
   "metadata": {},
   "source": [
    "Approximate transition probabilities (matrix) between different POI features (vector) using the [Kronecker product](https://en.wikipedia.org/wiki/Kronecker_product) of individual transition matrix corresponding to each feature, i.e., POI category, POI popularity (discritized), POI average visit duration (discritized) and POI neighborhoods (clusters)."
   ]
  },
  {
   "cell_type": "markdown",
   "metadata": {},
   "source": [
    "Deal with features without corresponding POIs and feature with more than one corresponding POIs. (*Before Normalisation*)\n",
    "- For features without corresponding POIs, just remove the rows and columns from the matrix obtained by Kronecker product.\n",
    "- For different POIs with the exact same feature, \n",
    "  - Let POIs with the same feature as a POI group,\n",
    "  - The *incoming* **transition value (i.e., unnormalised transition probability)** of this POI group \n",
    "    should be divided uniformly among the group members, \n",
    "    *which corresponds to choose a group member uniformly at random in the incoming case*.\n",
    "  - The *outgoing* transition value should be duplicated (i.e., the same) among all group members, \n",
    "    **as we were already in that group in the outgoing case**.\n",
    "  - For each POI in the group, the allocation transition value of the *self-loop of the POI group* is similar to \n",
    "    that in the *outgoing* case, **as we were already in that group**, so just duplicate and then divide uniformly among \n",
    "    the transitions from this POI to other POIs in the same group, \n",
    "    *which corresponds to choose a outgoing transition uniformly at random from all outgoing transitions\n",
    "    excluding the self-loop of this POI*.\n",
    "- **Concretely**, for a POI group with $n$ POIs, \n",
    "    1. If the *incoming* transition value of POI group is $m_1$,\n",
    "       then the corresponding *incoming* transition value for each group member is $\\frac{m_1}{n}$.\n",
    "    1. If the *outgoing* transition value of POI group is $m_2$,\n",
    "       then the corresponding *outgoing* transition value for each group member is also $m_2$.\n",
    "    1. If the transition value of *self-loop of the POI group* is $m_3$,\n",
    "       then transition value of *self-loop of individual POIs* should be $0$,  \n",
    "       and *other in-group transitions* with value $\\frac{m_3}{n-1}$\n",
    "       as the total number of outgoing transitions to other POIs in the same group is $n-1$ (excluding the self-loop),\n",
    "       i.e. $n-1$ choose $1$.\n",
    "       \n",
    "**NOTE**: execute the above division before or after row normalisation will lead to the same result, *as the division itself does NOT change the normalising constant of each row (i.e., the sum of each row before normalising)*."
   ]
  },
  {
   "cell_type": "code",
   "execution_count": 93,
   "metadata": {
    "collapsed": true
   },
   "outputs": [],
   "source": [
    "def gen_poi_transmat(trajid_list, traj_all, poi_info):\n",
    "    transmat_cat                        = gen_transmat_cat(trajid_list, traj_all, poi_info)\n",
    "    transmat_pop,      logbins_pop      = gen_transmat_pop(trajid_list, traj_all, poi_info)\n",
    "    transmat_visit,    logbins_visit    = gen_transmat_visit(trajid_list, traj_all, poi_info)\n",
    "    transmat_duration, logbins_duration = gen_transmat_duration(trajid_list, traj_all, poi_info)\n",
    "    transmat_neighbor, poi_clusters     = gen_transmat_neighbor(trajid_list, traj_all, poi_info)\n",
    "\n",
    "    # Kronecker product\n",
    "    transmat_ix = list(itertools.product(transmat_cat.index, transmat_pop.index, transmat_visit.index, \\\n",
    "                                         transmat_duration.index, transmat_neighbor.index))\n",
    "    transmat_value = transmat_cat.values\n",
    "    for transmat in [transmat_pop, transmat_visit, transmat_duration, transmat_neighbor]:\n",
    "        transmat_value = kron(transmat_value, transmat.values)\n",
    "    transmat_feature = pd.DataFrame(data=transmat_value, index=transmat_ix, columns=transmat_ix)\n",
    "    \n",
    "    poi_train = poi_info.index.tolist()\n",
    "    feature_names = ['poiCat', 'popularity', 'nVisit', 'avgDuration', 'clusterID']\n",
    "    poi_features = pd.DataFrame(data=np.zeros((len(poi_train), len(feature_names))), \\\n",
    "                                columns=feature_names, index=poi_train)\n",
    "    poi_features.index.name = 'poiID'\n",
    "    poi_features['poiCat'] = poi_info.loc[poi_train, 'poiCat']\n",
    "    poi_features['popularity'] = np.digitize(poi_info.loc[poi_train, 'popularity'], logbins_pop)\n",
    "    poi_features['nVisit'] = np.digitize(poi_info.loc[poi_train, 'nVisit'], logbins_visit)\n",
    "    poi_features['avgDuration'] = np.digitize(poi_info.loc[poi_train, 'avgDuration'], logbins_duration)\n",
    "    poi_features['clusterID'] = poi_clusters.loc[poi_train, 'clusterID']\n",
    "    \n",
    "    # shrink the result of Kronecker product and deal with POIs with the same features\n",
    "    poi_logtransmat = pd.DataFrame(data=np.zeros((len(poi_train), len(poi_train)), dtype=np.float), \\\n",
    "                                   columns=poi_train, index=poi_train)\n",
    "    for p1 in poi_logtransmat.index:\n",
    "        rix = tuple(poi_features.loc[p1])\n",
    "        for p2 in poi_logtransmat.columns:\n",
    "            cix = tuple(poi_features.loc[p2])\n",
    "            value_ = transmat_feature.loc[(rix,), (cix,)]\n",
    "            poi_logtransmat.loc[p1, p2] = value_.values[0, 0]\n",
    "    \n",
    "    # group POIs with the same features\n",
    "    features_dup = dict()\n",
    "    for poi in poi_features.index:\n",
    "        key = tuple(poi_features.loc[poi])\n",
    "        if key in features_dup:\n",
    "            features_dup[key].append(poi)\n",
    "        else:\n",
    "            features_dup[key] = [poi]\n",
    "            \n",
    "    # deal with POIs with the same features\n",
    "    for feature in sorted(features_dup.keys()):\n",
    "        n = len(features_dup[feature])\n",
    "        if n > 1:\n",
    "            group = features_dup[feature]\n",
    "            v1 = poi_logtransmat.loc[group[0], group[0]]  # transition value of self-loop of POI group\n",
    "            \n",
    "            # divide incoming transition value (i.e. unnormalised transition probability) uniformly among group members\n",
    "            for poi in group:\n",
    "                poi_logtransmat[poi] /= n\n",
    "                \n",
    "            # outgoing transition value has already been duplicated (value copied above)\n",
    "            \n",
    "            # duplicate & divide transition value of self-loop of POI group uniformly among all outgoing transitions,\n",
    "            # from a POI to all other POIs in the same group (excluding POI self-loop)\n",
    "            v2 = v1 / (n - 1)\n",
    "            for pair in itertools.permutations(group, 2):\n",
    "                poi_logtransmat.loc[pair[0], pair[1]] = v2\n",
    "                            \n",
    "    # normalise each row\n",
    "    for p1 in poi_logtransmat.index:\n",
    "        poi_logtransmat.loc[p1, p1] = 0\n",
    "        rowsum = poi_logtransmat.loc[p1].sum()\n",
    "        assert(rowsum > 0)\n",
    "        logrowsum = np.log10(rowsum)\n",
    "        for p2 in poi_logtransmat.columns:\n",
    "            if p1 == p2:\n",
    "                poi_logtransmat.loc[p1, p2] = -np.inf  # deal with log(0) explicitly\n",
    "            else:\n",
    "                poi_logtransmat.loc[p1, p2] = np.log10(poi_logtransmat.loc[p1, p2]) - logrowsum\n",
    "    \n",
    "    poi_transmat = np.power(10, poi_logtransmat)\n",
    "    return poi_transmat"
   ]
  },
  {
   "cell_type": "markdown",
   "metadata": {},
   "source": [
    "<a id='sec4'></a>"
   ]
  },
  {
   "cell_type": "markdown",
   "metadata": {},
   "source": [
    "# 4. Structured Prediction Model Training and Evaluation"
   ]
  },
  {
   "cell_type": "markdown",
   "metadata": {},
   "source": [
    "<a id='sec3.1'></a>"
   ]
  },
  {
   "cell_type": "markdown",
   "metadata": {},
   "source": [
    "<a id='sec3.2'></a>"
   ]
  },
  {
   "cell_type": "markdown",
   "metadata": {},
   "source": [
    "## 3.2 Leave-one-out Evaluation"
   ]
  },
  {
   "cell_type": "markdown",
   "metadata": {},
   "source": [
    "Train a [ChainCRF](https://pystruct.github.io/generated/pystruct.models.ChainCRF.html#pystruct.models.ChainCRF) using [OneSlackSSVM](https://pystruct.github.io/generated/pystruct.learners.OneSlackSSVM.html#pystruct.learners.OneSlackSSVM)."
   ]
  },
  {
   "cell_type": "code",
   "execution_count": 103,
   "metadata": {
    "collapsed": true
   },
   "outputs": [],
   "source": [
    "F1_train_list = []\n",
    "F1_test = []"
   ]
  },
  {
   "cell_type": "code",
   "execution_count": 104,
   "metadata": {
    "collapsed": true
   },
   "outputs": [],
   "source": [
    "trajid_set_exp = sorted(traj_dict.keys())"
   ]
  },
  {
   "cell_type": "code",
   "execution_count": 105,
   "metadata": {
    "collapsed": false,
    "scrolled": true
   },
   "outputs": [
    {
     "name": "stdout",
     "output_type": "stream",
     "text": [
      "[21, 8, 22, 6] #1 ->\n",
      "           [21, 23, 22, 6]\n",
      "           rank: 2.7 sec, train_data: 6.1 sec, train: 28.9 sec, total: 38.0 sec\n",
      "           Test F1: 0.750,\n",
      "[21, 22, 3] #2 ->\n",
      "           [21, 22, 3]\n",
      "           rank: 2.6 sec, train_data: 6.2 sec, train: 35.4 sec, total: 44.4 sec\n",
      "           Test F1: 1.000,\n",
      "[2, 1, 8] #3 ->\n",
      "           [2, 1, 8]\n",
      "           rank: 2.9 sec, train_data: 6.2 sec, train: 27.4 sec, total: 36.7 sec\n",
      "           Test F1: 1.000,\n",
      "[20, 24, 21] #4 ->\n",
      "           [20, 8, 21]\n",
      "           rank: 2.8 sec, train_data: 6.3 sec, train: 26.6 sec, total: 36.0 sec\n",
      "           Test F1: 0.667,\n",
      "[10, 3, 23, 20, 21] #5 ->\n",
      "           [10, 22, 22, 20, 21]\n",
      "           rank: 2.8 sec, train_data: 6.5 sec, train: 36.1 sec, total: 45.6 sec\n",
      "           Test F1: 0.600,\n",
      "[6, 20, 5] #6 ->\n",
      "           [6, 20, 5]\n",
      "           rank: 2.8 sec, train_data: 6.2 sec, train: 25.6 sec, total: 34.8 sec\n",
      "           Test F1: 1.000,\n",
      "[23, 22, 20] #7 ->\n",
      "           [23, 22, 20]\n",
      "           rank: 2.8 sec, train_data: 6.2 sec, train: 33.5 sec, total: 42.7 sec\n",
      "           Test F1: 1.000,\n",
      "[8, 1, 22, 20, 21] #8 ->\n",
      "           [8, 1, 22, 20, 21]\n",
      "           rank: 2.7 sec, train_data: 6.2 sec, train: 36.5 sec, total: 45.7 sec\n",
      "           Test F1: 1.000,\n",
      "[2, 1, 28] #9 ->\n",
      "           [2, 1, 28]\n",
      "           rank: 2.7 sec, train_data: 6.2 sec, train: 37.6 sec, total: 46.8 sec\n",
      "           Test F1: 1.000,\n",
      "[5, 20, 21] #10 ->\n",
      "           [5, 28, 21]\n",
      "           rank: 2.8 sec, train_data: 6.3 sec, train: 38.2 sec, total: 47.6 sec\n",
      "           Test F1: 0.667,\n",
      "[2, 1, 22, 20, 8] #11 ->\n",
      "           [2, 1, 2, 22, 8]\n",
      "           rank: 2.7 sec, train_data: 6.3 sec, train: 42.2 sec, total: 51.5 sec\n",
      "           Test F1: 0.800,\n",
      "[10, 22, 7] #12 ->\n",
      "           [10, 8, 7]\n",
      "           rank: 2.6 sec, train_data: 6.1 sec, train: 55.6 sec, total: 64.5 sec\n",
      "           Test F1: 0.667,\n",
      "[8, 1, 2, 5] #13 ->\n",
      "           [8, 1, 2, 5]\n",
      "           rank: 2.7 sec, train_data: 6.2 sec, train: 37.6 sec, total: 46.8 sec\n",
      "           Test F1: 1.000,\n",
      "[8, 21, 5] #14 ->\n",
      "           [8, 1, 5]\n",
      "           rank: 2.8 sec, train_data: 6.2 sec, train: 35.6 sec, total: 44.8 sec\n",
      "           Test F1: 0.667,\n",
      "[2, 1, 8] #15 ->\n",
      "           [2, 1, 8]\n",
      "           rank: 2.8 sec, train_data: 6.2 sec, train: 25.9 sec, total: 35.2 sec\n",
      "           Test F1: 1.000,\n",
      "[15, 8, 1, 6] #16 ->\n",
      "           [15, 22, 1, 6]\n",
      "           rank: 2.7 sec, train_data: 6.1 sec, train: 27.3 sec, total: 36.4 sec\n",
      "           Test F1: 0.750,\n",
      "[5, 28, 7] #17 ->\n",
      "           [5, 8, 7]\n",
      "           rank: 2.8 sec, train_data: 6.2 sec, train: 33.4 sec, total: 42.7 sec\n",
      "           Test F1: 0.667,\n",
      "[5, 6, 20, 23, 24] #18 ->\n",
      "           [5, 6, 20, 21, 24]\n",
      "           rank: 2.7 sec, train_data: 6.2 sec, train: 33.5 sec, total: 42.7 sec\n",
      "           Test F1: 0.800,\n",
      "[20, 6, 8] #19 ->\n",
      "           [20, 21, 8]\n",
      "           rank: 2.8 sec, train_data: 6.1 sec, train: 27.7 sec, total: 36.9 sec\n",
      "           Test F1: 0.667,\n",
      "[8, 21, 23, 22, 10] #20 ->\n",
      "           [8, 15, 22, 3, 10]\n",
      "           rank: 2.7 sec, train_data: 6.2 sec, train: 26.5 sec, total: 35.7 sec\n",
      "           Test F1: 0.600,\n",
      "[20, 8, 6] #21 ->\n",
      "           [20, 22, 6]\n",
      "           rank: 2.8 sec, train_data: 6.2 sec, train: 34.0 sec, total: 43.3 sec\n",
      "           Test F1: 0.667,\n",
      "[24, 15, 21] #22 ->\n",
      "           [24, 20, 21]\n",
      "           rank: 2.7 sec, train_data: 6.3 sec, train: 29.1 sec, total: 38.4 sec\n",
      "           Test F1: 0.667,\n",
      "[20, 24, 5] #23 ->\n",
      "           [20, 21, 5]\n",
      "           rank: 2.7 sec, train_data: 6.3 sec, train: 31.0 sec, total: 40.2 sec\n",
      "           Test F1: 0.667,\n",
      "[5, 2, 1] #24 ->\n",
      "           [5, 2, 1]\n",
      "           rank: 2.7 sec, train_data: 6.3 sec, train: 32.8 sec, total: 42.1 sec\n",
      "           Test F1: 1.000,\n",
      "[1, 2, 20] #25 ->\n",
      "           [1, 6, 20]\n",
      "           rank: 2.7 sec, train_data: 6.1 sec, train: 28.3 sec, total: 37.4 sec\n",
      "           Test F1: 0.667,\n",
      "[21, 7, 20] #26 ->\n",
      "           [21, 23, 20]\n",
      "           rank: 2.7 sec, train_data: 6.3 sec, train: 35.1 sec, total: 44.3 sec\n",
      "           Test F1: 0.667,\n",
      "[20, 24, 22, 3, 10, 15] #27 ->\n",
      "           [20, 23, 22, 6, 8, 15]\n",
      "           rank: 2.6 sec, train_data: 6.2 sec, train: 38.3 sec, total: 47.4 sec\n",
      "           Test F1: 0.500,\n",
      "[5, 20, 6] #28 ->\n",
      "           [5, 22, 6]\n",
      "           rank: 2.6 sec, train_data: 6.1 sec, train: 38.6 sec, total: 47.6 sec\n",
      "           Test F1: 0.667,\n",
      "[22, 8, 21] #29 ->\n",
      "           [22, 20, 21]\n",
      "           rank: 2.7 sec, train_data: 6.3 sec, train: 32.7 sec, total: 42.0 sec\n",
      "           Test F1: 0.667,\n",
      "[28, 21, 20] #30 ->\n",
      "           [28, 7, 20]\n",
      "           rank: 2.8 sec, train_data: 6.3 sec, train: 35.1 sec, total: 44.6 sec\n",
      "           Test F1: 0.667,\n",
      "[20, 21, 15, 22, 3] #31 ->\n",
      "           [20, 24, 15, 22, 3]\n",
      "           rank: 2.7 sec, train_data: 6.3 sec, train: 22.2 sec, total: 31.5 sec\n",
      "           Test F1: 0.800,\n",
      "[8, 2, 1] #32 ->\n",
      "           [8, 2, 1]\n",
      "           rank: 2.7 sec, train_data: 6.2 sec, train: 29.6 sec, total: 38.8 sec\n",
      "           Test F1: 1.000,\n",
      "[6, 20, 21] #33 ->\n",
      "           [6, 20, 21]\n",
      "           rank: 2.7 sec, train_data: 6.3 sec, train: 33.0 sec, total: 42.3 sec\n",
      "           Test F1: 1.000,\n",
      "[1, 2, 28] #34 ->\n",
      "           [1, 22, 28]\n",
      "           rank: 2.7 sec, train_data: 6.3 sec, train: 22.7 sec, total: 31.9 sec\n",
      "           Test F1: 0.667,\n",
      "[5, 28, 21] #35 ->\n",
      "           [5, 20, 21]\n",
      "           rank: 2.8 sec, train_data: 6.2 sec, train: 29.8 sec, total: 39.0 sec\n",
      "           Test F1: 0.667,\n",
      "[21, 23, 20] #36 ->\n",
      "           [21, 7, 20]\n",
      "           rank: 2.8 sec, train_data: 6.4 sec, train: 27.8 sec, total: 37.4 sec\n",
      "           Test F1: 0.667,\n",
      "[22, 6, 5] #37 ->\n",
      "           [22, 20, 5]\n",
      "           rank: 2.7 sec, train_data: 6.2 sec, train: 18.3 sec, total: 27.4 sec\n",
      "           Test F1: 0.667,\n",
      "[15, 10, 8] #38 ->\n",
      "           [15, 22, 8]\n",
      "           rank: 2.6 sec, train_data: 6.3 sec, train: 37.7 sec, total: 46.9 sec\n",
      "           Test F1: 0.667,\n",
      "[20, 22, 2] #39 ->\n",
      "           [20, 8, 2]\n",
      "           rank: 2.6 sec, train_data: 6.2 sec, train: 35.6 sec, total: 44.7 sec\n",
      "           Test F1: 0.667,\n",
      "[5, 8, 15, 22] #40 ->\n",
      "           [5, 20, 15, 22]\n",
      "           rank: 2.6 sec, train_data: 6.1 sec, train: 27.6 sec, total: 36.7 sec\n",
      "           Test F1: 0.750,\n",
      "[8, 15, 22, 6] #41 ->\n",
      "           [8, 15, 22, 6]\n",
      "           rank: 2.8 sec, train_data: 6.3 sec, train: 38.6 sec, total: 48.1 sec\n",
      "           Test F1: 1.000,\n"
     ]
    }
   ],
   "source": [
    "if run_crf == True:\n",
    "    recdict_crf = dict()\n",
    "    cost = 1000\n",
    "    cnt = 1\n",
    "    #for i in range(len(trajid_set_all)):\n",
    "    for i in range(len(trajid_set_exp)):\n",
    "        t0 = time.time()\n",
    "        tid = trajid_set_exp[i]\n",
    "        te = extract_traj(tid, traj_all)\n",
    "        \n",
    "        # trajectory too short\n",
    "        if len(te) < 3: continue\n",
    "            \n",
    "        # TSP, generally an ILP very hard for solvers (GUROBI/CBC)\n",
    "        if te[0] == te[-1]: continue\n",
    "\n",
    "        if uspecific == True:\n",
    "            user = traj_user.loc[tid, 'userID']\n",
    "            trajid_set_user = [x for x in traj_user[traj_user['userID'] == user].index.tolist() if x in traj_dict]\n",
    "            trajid_set_other = [x for x in traj_user[traj_user['userID'] != user].index.tolist() if x in traj_dict]\n",
    "            assert(tid in trajid_set_user)\n",
    "            trajid_set_add = [x for x in trajid_set_user if x != tid]\n",
    "            trajid_list_train = trajid_set_other.copy()\n",
    "            assert(KX > 0)\n",
    "            for k in range(KX):\n",
    "                trajid_list_train = trajid_list_train + trajid_set_add\n",
    "        else:\n",
    "            #trajid_list_train = trajid_set_all[:i] + trajid_set_all[i+1:]\n",
    "            trajid_list_train = trajid_set_exp[:i] + trajid_set_exp[i+1:]\n",
    "        \n",
    "        poi_info = calc_poi_info(trajid_list_train, traj_all, poi_all)\n",
    "        \n",
    "        # trajectory too long\n",
    "        if len(te) > poi_info.shape[0]: continue\n",
    "            \n",
    "        # start/end is not in training set\n",
    "        if not (te[0] in poi_info.index and te[-1] in poi_info.index): continue\n",
    "            \n",
    "        # training set should contain all POIs\n",
    "        goodTrainset = True\n",
    "        for poi in te:\n",
    "            assert(poi in poi_cnt_dict)\n",
    "            if poi_cnt_dict[poi] == 1:  # POI exists in test set only\n",
    "                goodTrainset = False\n",
    "                break\n",
    "        if goodTrainset == False: continue\n",
    "        \n",
    "        print(te, '#%d ->' % cnt); cnt += 1; sys.stdout.flush()\n",
    "        \n",
    "        t1 = time.time()\n",
    "        \n",
    "        # POI feature based ranking\n",
    "        n_jobs = 4\n",
    "        train_df = gen_train_df(trajid_list_train, df_columns, traj_all, poi_info, poi_distmat, query_id_dict, n_jobs)\n",
    "        ranksvm = RankSVM(ranksvm_dir, useLinear=True)\n",
    "        ranksvm.train(train_df, cost=cost)\n",
    "        \n",
    "        t2 = time.time()\n",
    "               \n",
    "        poi_transmat = gen_poi_transmat(trajid_list_train, traj_all, poi_info)\n",
    "        \n",
    "        #print(poi_transmat.shape)\n",
    "        #print(poi_transmat.index)\n",
    "        assert(poi_transmat.shape[0] == poi_transmat.shape[1] == len(poi_ix))\n",
    "            \n",
    "        # generate training data\n",
    "        X_train = []\n",
    "        y_train = []\n",
    "        train_set = sorted(set(traj_dict.keys()) - {tid})\n",
    "        train_df_list = Parallel(n_jobs=n_jobs)(delayed(gen_test_df)\\\n",
    "                                 (traj_dict[x][0], traj_dict[x][-1], len(traj_dict[x]), \\\n",
    "                                  df_columns, poi_info, poi_distmat, query_id_dict) for x in train_set)\n",
    "        assert(len(train_set) == len(train_df_list))\n",
    "        \n",
    "        for j in range(len(train_set)):\n",
    "            tr = traj_dict[train_set[j]]\n",
    "            assert(len(tr) >= 3)\n",
    "            tr_df = train_df_list[j]\n",
    "            tr_rank_df = ranksvm.predict(tr_df)\n",
    "            tr_rank_df.set_index('poiID', inplace=True)\n",
    "            # (traj_length - 2) x (total number of POIs in trajectories with length >= 3)\n",
    "            featuremat = np.tile(softmax(tr_rank_df.loc[poi_ix, 'rank']), (len(tr)-2, 1)) # without start and end\n",
    "            start_feature = np.zeros(len(poi_ix), dtype=np.float); start_feature[poi_id_dict[tr[0]]] = 1\n",
    "            end_feature = np.zeros(len(poi_ix), dtype=np.float); end_feature[poi_id_dict[tr[-1]]] = 1\n",
    "            node_features = np.vstack([start_feature, featuremat, end_feature])\n",
    "            edge_features = poi_transmat.loc[tr[:-1]].values.copy()\n",
    "            edges = np.vstack([np.arange(len(tr)-1), np.arange(1, len(tr))]).T  # shape: (n_edges, 2)\n",
    "            X_train.append((node_features, edges, edge_features))\n",
    "            y_train.append(np.array([poi_id_dict[x] for x in tr]))\n",
    "            \n",
    "        \n",
    "        t3 = time.time()        \n",
    "                \n",
    "        # train\n",
    "        #crf = ChainCRF(directed=True)\n",
    "        #crf = ChainCRF()\n",
    "        crf = EdgeFeatureGraphCRF()\n",
    "        #maxIter = 10000  # default max_iter is 10000\n",
    "        #ssvm = OneSlackSSVM(model=crf, C=C, max_iter=maxIter, n_jobs=4)\n",
    "        ssvm = OneSlackSSVM(model=crf, C=C)\n",
    "        ssvm.fit(X_train, y_train)\n",
    "        \n",
    "        t4 = time.time()\n",
    "        \n",
    "        # generate test data\n",
    "        X_test = []\n",
    "        te_df = gen_test_df(te[0], te[-1], len(te), df_columns, poi_info, poi_distmat, query_id_dict)\n",
    "        te_rank_df = ranksvm.predict(te_df)\n",
    "        te_rank_df.set_index('poiID', inplace=True)\n",
    "        featuremat = np.tile(softmax(te_rank_df.loc[poi_ix, 'rank']), (len(te)-2, 1))\n",
    "        start_feature = np.zeros(len(poi_ix), dtype=np.float); start_feature[poi_id_dict[te[0]]] = 1\n",
    "        end_feature = np.zeros(len(poi_ix), dtype=np.float); end_feature[poi_id_dict[te[-1]]] = 1                 \n",
    "        node_features = np.vstack([start_feature, featuremat, end_feature])\n",
    "        edge_features = poi_transmat.loc[te[:-1]].values.copy()\n",
    "        edges = np.vstack([np.arange(len(te)-1), np.arange(1, len(te))]).T\n",
    "        X_test.append((node_features, edges, edge_features))\n",
    "        \n",
    "        # test\n",
    "        y_pred = ssvm.predict(X_test)\n",
    "        rec = [poi_id_rdict[x] for x in y_pred[0]]\n",
    "        rec1 = [te[0]] + rec[1:-1] + [te[-1]]  # map POIs back\n",
    "        F1_test.append(calc_F1(te, rec1))\n",
    "        \n",
    "        # test on training set\n",
    "        #y_pred_train = ssvm.predict(X_train)\n",
    "        #F1_train = []\n",
    "        #assert(len(train_set) == len(y_pred_train))\n",
    "        #for j in range(len(train_set)):\n",
    "            #tr = traj_dict[train_set[j]]\n",
    "            #F1_train.append(calc_F1(tr, [tr[0]] + [poi_id_rdict[x] for x in y_pred_train[j]] + [tr[-1]]))\n",
    "        #F1_train_list.append(F1_train)\n",
    "        \n",
    "        key = trajid_set_all[i]\n",
    "        recdict_crf[key] = {'REAL':te, 'REC_CRF':rec1} \n",
    "        \n",
    "        t5 = time.time()\n",
    "        \n",
    "        print(' '*10, rec)\n",
    "        print(' '*10, 'rank: %.1f sec, train_data: %.1f sec, train: %.1f sec, total: %.1f sec'%(t2-t1,t3-t2,t4-t3,t5-t0))\n",
    "        #print(' '*10, 'Train F1: %.3f %.3f, Test F1: %.3f' % (np.mean(F1_train), np.std(F1_train), F1_test[-1]))\n",
    "        print(' '*10, 'Test F1: %.3f' % F1_test[-1])"
   ]
  },
  {
   "cell_type": "code",
   "execution_count": 107,
   "metadata": {
    "collapsed": false
   },
   "outputs": [
    {
     "name": "stdout",
     "output_type": "stream",
     "text": [
      "Test: 0.773, 0.155\n"
     ]
    }
   ],
   "source": [
    "print('Test: %.3f, %.3f' % (np.mean(F1_test), np.std(F1_test)))"
   ]
  },
  {
   "cell_type": "code",
   "execution_count": null,
   "metadata": {
    "collapsed": false
   },
   "outputs": [],
   "source": [
    "#n_features = len(poi_ix)\n",
    "#n_states = len(poi_ix)\n",
    "#transmat = ssvm.w[n_features * n_states:].reshape(n_states, n_states)"
   ]
  },
  {
   "cell_type": "code",
   "execution_count": null,
   "metadata": {
    "collapsed": true
   },
   "outputs": [],
   "source": [
    "#if run_crf == True:\n",
    "#    pickle.dump(recdict_crf, open(frecdict_crf, 'bw'))"
   ]
  },
  {
   "cell_type": "code",
   "execution_count": null,
   "metadata": {
    "collapsed": false
   },
   "outputs": [],
   "source": [
    "print('C = %.1f,' % C, suffix[dat_ix])"
   ]
  },
  {
   "cell_type": "code",
   "execution_count": null,
   "metadata": {
    "collapsed": false
   },
   "outputs": [],
   "source": [
    "print('Train: %.3f, %.3f' % (np.mean([x for y in F1_train_list for x in y]), \\\n",
    "                             np.std([x for y in F1_train_list for x in y])))"
   ]
  },
  {
   "cell_type": "code",
   "execution_count": null,
   "metadata": {
    "collapsed": false
   },
   "outputs": [],
   "source": [
    "print('Test: %.3f, %.3f' % (np.mean(F1_test), np.std(F1_test)))"
   ]
  },
  {
   "cell_type": "code",
   "execution_count": null,
   "metadata": {
    "collapsed": true
   },
   "outputs": [],
   "source": [
    "F1 = [calc_F1(recdict_crf[key]['REAL'], recdict_crf[key]['REC_CRF'], noloop=True) for key in sorted(recdict_crf.keys())]"
   ]
  },
  {
   "cell_type": "code",
   "execution_count": null,
   "metadata": {
    "collapsed": false
   },
   "outputs": [],
   "source": [
    "print(np.mean(F1), np.std(F1))"
   ]
  },
  {
   "cell_type": "code",
   "execution_count": null,
   "metadata": {
    "collapsed": false,
    "scrolled": true
   },
   "outputs": [],
   "source": [
    "#recdict_crf0 = pickle.load(open(os.path.join(data_dir, 'crf-noloop-all-agnostic-Glas.0.pkl'), 'rb'))\n",
    "#assert(len(recdict_crf0) == len(recdict_crf))\n",
    "#for key in sorted(recdict_crf.keys()):\n",
    "#    assert(key in recdict_crf0)\n",
    "#    if np.all(np.array(recdict_crf[key]['REAL']) != np.array(recdict_crf0[key]['REAL'])):\n",
    "#        print('REAL:', recdict_crf[key]['REAL'], recdict_crf0[key]['REAL'])\n",
    "#    if np.all(np.array(recdict_crf[key]['REC_CRF']) != np.array(recdict_crf0[key]['REC_CRF'])):\n",
    "#        print('REC:', recdict_crf[key]['REAL'], '->', recdict_crf[key]['REC_CRF'])\n",
    "#        print('REC0:', recdict_crf0[key]['REAL'], '->', recdict_crf0[key]['REC_CRF'])"
   ]
  },
  {
   "cell_type": "markdown",
   "metadata": {},
   "source": [
    "<a id='sec3.3'></a>"
   ]
  },
  {
   "cell_type": "markdown",
   "metadata": {},
   "source": [
    "## 3.3 Discrepancy between Different BLAS Libraries"
   ]
  },
  {
   "cell_type": "markdown",
   "metadata": {},
   "source": [
    "As Intel Math Kernel Library (MKL) is now [freely available in Anaconda](#https://docs.continuum.io/mkl-optimizations/index), I tried [CVXOPT v1.1.8](#http://cvxopt.org/) (used by [PyStruct v0.2.4](#https://pystruct.github.io/)) with both MKL and [OpenBLAS](#http://www.openblas.net/) and got some interesting findings.\n",
    "\n",
    "The MKL version is 11.3.1 distributed by Anaconda, OpenBLAS version are 0.2.15 and 0.2.17."
   ]
  },
  {
   "cell_type": "markdown",
   "metadata": {},
   "source": [
    "Training/test mean F1-scores on Osaka dataset of trajectories without loops ($42$ trajectories in total).  \n",
    "During the $6$ repeated runs (i.e., repeat the whole round of leave-one-out $6$ times), parameter $C$ of the [OneSlackSSVM](https://pystruct.github.io/generated/pystruct.learners.OneSlackSSVM.html) was set to $2$, and default values were used for all other parameters."
   ]
  },
  {
   "cell_type": "markdown",
   "metadata": {},
   "source": [
    "**MKL v11.3.1** (latest release from Anaconda)\n",
    "\n",
    "On server `braun`."
   ]
  },
  {
   "cell_type": "code",
   "execution_count": null,
   "metadata": {
    "collapsed": true
   },
   "outputs": [],
   "source": [
    "train_F1_mkl = [0.799, 0.802, 0.803, 0.804, 0.804, 0.803]\n",
    "test_F1_mkl = [0.705, 0.707, 0.697, 0.713, 0.700, 0.699]"
   ]
  },
  {
   "cell_type": "markdown",
   "metadata": {},
   "source": [
    "On machine `localPC`."
   ]
  },
  {
   "cell_type": "code",
   "execution_count": null,
   "metadata": {
    "collapsed": true
   },
   "outputs": [],
   "source": [
    "train_F1_mkll = [0.803, 0.803, 0.803, 0.803, 0.803, 0.803]\n",
    "test_F1_mkll = [0.708, 0.708, 0.708, 0.708, 0.708, 0.708]"
   ]
  },
  {
   "cell_type": "markdown",
   "metadata": {},
   "source": [
    "**OpenBLAS v0.2.15**  (default version of OpenBLAS on Debian 9)\n",
    "\n",
    "On server `braun`."
   ]
  },
  {
   "cell_type": "code",
   "execution_count": null,
   "metadata": {
    "collapsed": true
   },
   "outputs": [],
   "source": [
    "train_F1_openblas5 = [0.806, 0.806, 0.806, 0.806, 0.806, 0.806]\n",
    "test_F1_openblas5 = [0.711, 0.711, 0.711, 0.711, 0.711, 0.711]"
   ]
  },
  {
   "cell_type": "markdown",
   "metadata": {},
   "source": [
    "On machine `localPC`."
   ]
  },
  {
   "cell_type": "code",
   "execution_count": null,
   "metadata": {
    "collapsed": true
   },
   "outputs": [],
   "source": [
    "train_F1_openblas5l = [0.802, 0.802, 0.802, 0.802, 0.802, 0.802]\n",
    "test_F1_openblas5l = [0.728, 0.728, 0.728, 0.728, 0.728, 0.728]"
   ]
  },
  {
   "cell_type": "markdown",
   "metadata": {},
   "source": [
    "**OpenBLAS v0.2.17** (latest release of OpenBLAS)\n",
    "\n",
    "On server `braun`."
   ]
  },
  {
   "cell_type": "code",
   "execution_count": null,
   "metadata": {
    "collapsed": true
   },
   "outputs": [],
   "source": [
    "train_F1_openblas7 = [0.806, 0.806, 0.806, 0.806, 0.806, 0.806]\n",
    "test_F1_openblas7 = [0.711, 0.711, 0.711, 0.711, 0.711, 0.711]"
   ]
  },
  {
   "cell_type": "markdown",
   "metadata": {},
   "source": [
    "On machine `localPC`."
   ]
  },
  {
   "cell_type": "code",
   "execution_count": null,
   "metadata": {
    "collapsed": true
   },
   "outputs": [],
   "source": [
    "train_F1_openblas7l = [0.804, 0.804, 0.804, 0.804, 0.804, 0.804]\n",
    "test_F1_openblas7l = [0.700, 0.700, 0.700, 0.700, 0.700, 0.700]"
   ]
  },
  {
   "cell_type": "code",
   "execution_count": null,
   "metadata": {
    "collapsed": false
   },
   "outputs": [],
   "source": [
    "plt.figure(figsize=[14, 10])\n",
    "plt.subplot(2, 2, 1)\n",
    "plt.title('Training F1, Machine: braun')\n",
    "plt.plot(np.arange(1, len(train_F1_mkl)+1), train_F1_mkl, marker='o', ls='--', label='MKL-11.3.1')\n",
    "plt.plot(np.arange(1, len(train_F1_openblas5)+1), train_F1_openblas5, marker='s', ls='--', label='OpenBLAS-0.2.15')\n",
    "plt.plot(np.arange(1, len(train_F1_openblas7)+1), train_F1_openblas7, marker='^', ls='--', label='OpenBLAS-0.2.17')\n",
    "plt.xlim([0.5, 6.5])\n",
    "plt.ylim([0.795, 0.81])\n",
    "plt.ylabel('Mean F1')\n",
    "plt.legend(loc='best')\n",
    "\n",
    "plt.subplot(2, 2, 2)\n",
    "plt.title('Test F1, Machine: braun')\n",
    "plt.plot(np.arange(1, len(test_F1_mkl)+1), test_F1_mkl, marker='o', ls='--', label='MKL-11.3.1')\n",
    "plt.plot(np.arange(1, len(test_F1_openblas5)+1), test_F1_openblas5, marker='s', ls='--', label='OpenBLAS-0.2.15')\n",
    "plt.plot(np.arange(1, len(test_F1_openblas7)+1), test_F1_openblas7, marker='^', ls='--', label='OpenBLAS-0.2.17')\n",
    "plt.xlim([0.5, 6.5])\n",
    "plt.ylim([0.69, 0.73])\n",
    "plt.legend(loc='best')\n",
    "\n",
    "plt.subplot(2, 2, 3)\n",
    "plt.title('Training F1, Machine: localPC')\n",
    "plt.plot(np.arange(1, len(train_F1_mkll)+1), train_F1_mkll, marker='o', ls='--', label='MKL-11.3.1')\n",
    "plt.plot(np.arange(1, len(train_F1_openblas5l)+1), train_F1_openblas5l, marker='s', ls='--', label='OpenBLAS-0.2.15')\n",
    "plt.plot(np.arange(1, len(train_F1_openblas7l)+1), train_F1_openblas7l, marker='^', ls='--', label='OpenBLAS-0.2.17')\n",
    "plt.xlim([0.5, 6.5])\n",
    "plt.ylim([0.795, 0.81])\n",
    "plt.xlabel('#Runs')\n",
    "plt.ylabel('Mean F1')\n",
    "plt.legend(loc='best')\n",
    "\n",
    "plt.subplot(2, 2, 4)\n",
    "plt.title('Test F1, Machine: localPC')\n",
    "plt.plot(np.arange(1, len(test_F1_mkll)+1), test_F1_mkll, marker='o', ls='--', label='MKL-11.3.1')\n",
    "plt.plot(np.arange(1, len(test_F1_openblas5l)+1), test_F1_openblas5l, marker='s', ls='--', label='OpenBLAS-0.2.15')\n",
    "plt.plot(np.arange(1, len(test_F1_openblas7l)+1), test_F1_openblas7l, marker='^', ls='--', label='OpenBLAS-0.2.17')\n",
    "plt.xlim([0.5, 6.5])\n",
    "plt.ylim([0.69, 0.73])\n",
    "plt.xlabel('#Runs')\n",
    "plt.legend(loc='best')"
   ]
  },
  {
   "cell_type": "markdown",
   "metadata": {},
   "source": [
    "<a id='sec3.4'></a>"
   ]
  },
  {
   "cell_type": "markdown",
   "metadata": {},
   "source": [
    "## 3.4 Hyperparameter Tuning"
   ]
  },
  {
   "cell_type": "markdown",
   "metadata": {},
   "source": [
    "Tuning the regularization parameter $C$ in [OneSlackSSVM](https://pystruct.github.io/generated/pystruct.learners.OneSlackSSVM.html).\n",
    "\n",
    "NOTE: Suppose there were $N$ trajectories in total, training F1 was the mean of all F1-scores during all iterations of leave-one-out, i.e., $(N-1)*N$ F1-scores. Test F1 was the mean of all F1-score during all iterations of leave-one-out, i.e., $N$ F1-scores."
   ]
  },
  {
   "cell_type": "markdown",
   "metadata": {},
   "source": [
    "Datasets of trajectories without loops, based on running results on `localPC` with OpenBLAS v0.2.15.\n",
    "\n",
    "<table>\n",
    "<tr><td rowspan='2'><b>C</b></td><td colspan='2'><b>Edinburgh</b></td><td colspan='2'><b>Glasgow</b></td>\n",
    "                                 <td colspan='2'><b>Osaka</b></td><td colspan='2'><b>Toronto</b></td></tr>\n",
    "<tr><td><b>Train_F1</b></td><td><b>Test_F1</b></td><td><b>Train_F1</b></td><td><b>Test_F1</b></td>\n",
    "    <td><b>Train_F1</b></td><td><b>Test_F1</b></td><td><b>Train_F1</b></td><td><b>Test_F1</b></td></tr>\n",
    "<tr><td>0.1</td><td> </td><td> </td><td>0.732</td><td>0.708</td><td>0.720</td><td>0.646</td><td> </td><td> </td></tr>\n",
    "<tr><td>0.3</td><td> </td><td> </td><td>0.756</td><td>0.704</td><td>0.752</td><td>0.687</td><td> </td><td> </td></tr>\n",
    "<tr><td>1.0</td><td> </td><td> </td><td>0.776</td><td>0.740</td><td>0.787</td><td>0.705</td><td> </td><td> </td></tr>\n",
    "<tr><td>2.0</td><td> </td><td> </td><td>0.781</td><td>0.730</td><td>0.802</td><td>0.728</td><td> </td><td> </td></tr>\n",
    "<tr><td>3.0</td><td> </td><td> </td><td>0.793</td><td>0.732</td><td>0.807</td><td>0.698</td><td> </td><td> </td></tr>\n",
    "<tr><td>10 </td><td> </td><td> </td><td> </td><td> </td><td>0.818</td><td>0.683</td><td> </td><td> </td></tr>\n",
    "<tr><td>30 </td><td> </td><td> </td><td> </td><td> </td><td>0.827</td><td>0.695</td><td> </td><td> </td></tr>\n",
    "<tr><td>100</td><td> </td><td> </td><td> </td><td> </td><td>0.838</td><td>0.690</td><td> </td><td> </td></tr>\n",
    "<tr><td>300</td><td> </td><td> </td><td> </td><td> </td><td>0.841</td><td>0.690</td><td> </td><td> </td></tr>\n",
    "<tr><td>1000</td><td> </td><td> </td><td> </td><td> </td><td> </td><td> </td><td> </td><td> </td></tr>\n",
    "</table>"
   ]
  }
 ],
 "metadata": {
  "kernelspec": {
   "display_name": "Python 3",
   "language": "python",
   "name": "python3"
  },
  "language_info": {
   "codemirror_mode": {
    "name": "ipython",
    "version": 3
   },
   "file_extension": ".py",
   "mimetype": "text/x-python",
   "name": "python",
   "nbconvert_exporter": "python",
   "pygments_lexer": "ipython3",
   "version": "3.5.1"
  }
 },
 "nbformat": 4,
 "nbformat_minor": 0
}
