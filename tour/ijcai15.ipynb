{
 "cells": [
  {
   "cell_type": "markdown",
   "metadata": {},
   "source": [
    "Reproduce the IJCAI15 Paper\n",
    "======"
   ]
  },
  {
   "cell_type": "markdown",
   "metadata": {},
   "source": [
    "**NOTE: Before running this notebook, please run script `src/ijcai15_setup.py` to setup data properly.**"
   ]
  },
  {
   "cell_type": "markdown",
   "metadata": {},
   "source": [
    "<a id='toc'></a>"
   ]
  },
  {
   "cell_type": "markdown",
   "metadata": {},
   "source": [
    "1. [Dataset](#sec1)\n",
    "  1. [Compute POI Coordinates](#sec1.1)\n",
    "1. [Trajectory Recommendation Problem](#sec2)\n",
    "  1. [Definitions](#sec2.1)\n",
    "  1. [Problem Formulation](#sec2.2)\n",
    "1. [Prepare Data](#sec3)\n",
    "  1. [Load Trajectory Data](#sec3.1)\n",
    "  1. [Compute POI Info](#sec3.2)\n",
    "  1. [Construct Travelling Sequences](#sec3.3)\n",
    "  1. [Transition Matrix](#sec3.4)\n",
    "1. [Trajectory Recommendation -- Approach I](#sec4)\n",
    "  1. [Choose Cross Validation Sequences](#sec4.1)\n",
    "  1. [Recommendation by Solving ILPs](#sec4.2)\n",
    "  1. [Evaluation](#sec4.3)\n",
    "1. [Trajectory Recommendation -- Approach II](#sec5)\n",
    "  1. [Choose Travelling Sequences for Training and Testing](#sec5.1)\n",
    "  1. [Compute POI popularity and user interest using training set](#sec5.2)\n",
    "  1. [Generate ILP](#sec5.3)\n",
    "  1. [Evaluation](#sec5.4)\n",
    "1. [Issues](#sec6)"
   ]
  },
  {
   "cell_type": "markdown",
   "metadata": {},
   "source": [
    "<a id='sec1'></a>"
   ]
  },
  {
   "cell_type": "markdown",
   "metadata": {},
   "source": [
    "# 1. Dataset [&#8648;](#toc)"
   ]
  },
  {
   "cell_type": "markdown",
   "metadata": {},
   "source": [
    "The dataset used in [this paper](#https://sites.google.com/site/limkwanhui/publications/2015-IJCAI-personalTour.pdf?attredirects=0) can be downloaded [here](https://sites.google.com/site/limkwanhui/datacode/data-ijcai15.zip?attredirects=0), the [summary of this dataset](#https://sites.google.com/site/limkwanhui/datacode#ijcai15) is also available.\n",
    "Unfortunately, one critical portion of information is missing, i.e. the geo-coordinates of each POI,\n",
    "which is necessary for calculating the travel time from one POI to another.\n",
    "However, it could be approximated by averaging (longitude, latitude) of \n",
    "all photos mapped to a specific POI by retriving coordinates of all photos in this dataset from the original [YFCC100M dataset](#http://www.referitgame.com/vicente/flickr100M/) using photoID.\n",
    "\n",
    "Simple statistics of this dataset\n",
    "<table>\n",
    "<tr>\n",
    "<td><b>City</b></td>\n",
    "<td><b>#POIs</b></td>\n",
    "<td><b>#Users</b></td>\n",
    "<td><b>#POI_Visits</b></td>\n",
    "<td><b>#Travel_Sequences</b></td></tr>\n",
    "<tr><td>Toronto</td><td>29</td><td>1,395</td><td>39,419</td><td>6,057</td></tr>\n",
    "<tr><td>Osaka</td><td>27</td><td>450</td><td>7,747</td><td>1,115</td></tr>\n",
    "<tr><td>Glasgow</td><td>27</td><td>601</td><td>11,434</td><td>2,227</td></tr>\n",
    "<tr><td>Edinburgh</td><td>28</td><td>1,454</td><td>33,944</td><td>5,028</td></tr>\n",
    "</table>\n",
    "\n",
    "*NOTE: the number of photos for each city described in [the paper](#https://sites.google.com/site/limkwanhui/publications/2015-IJCAI-personalTour.pdf?attredirects=0) is NOT available in this dataset*"
   ]
  },
  {
   "cell_type": "markdown",
   "metadata": {},
   "source": [
    "<a id='sec1.1'></a>"
   ]
  },
  {
   "cell_type": "markdown",
   "metadata": {},
   "source": [
    "## 1.1 Compute POI Coordinates"
   ]
  },
  {
   "cell_type": "markdown",
   "metadata": {},
   "source": [
    "To compute the mean value of coordinates for all photos mapped to a POI, \n",
    "we need to search the coordinates for each photo from the 100 million records.\n",
    "To accelerate the searching process, first extract the photo id, longitude and latitude columns from the whole dataset  \n",
    "```\n",
    "cut -d $'\\t' -f1,11,12 yfcc100m_dataset >> dataset.yfcc\n",
    "```  \n",
    "and then import them to a database which was created by the following SQL scripts  \n",
    "```\n",
    "CREATE DATABASE yfcc100m;\n",
    "CREATE TABLE yfcc100m.tdata(\n",
    "    pv_id           BIGINT UNSIGNED NOT NULL UNIQUE PRIMARY KEY, /* Photo/video identifier */\n",
    "    longitude       FLOAT,  /* Longitude */\n",
    "    latitude        FLOAT   /* Latitude */\n",
    ");\n",
    "COMMIT;\n",
    "```"
   ]
  },
  {
   "cell_type": "markdown",
   "metadata": {},
   "source": [
    "Python scripts to import these data to DB looks like\n",
    "```\n",
    "import mysql.connector as db\n",
    "def import_data(fname):\n",
    "    dbconnection = db.connect(user='USERNAME', password='PASSWORD')\n",
    "    cursor = dbconnection.cursor()\n",
    "    with open(fname, 'r') as f:\n",
    "        for line in f:\n",
    "            items = line.split('\\t')\n",
    "            assert(len(items) == 3)\n",
    "            pv_id = items[0].strip()\n",
    "            lon   = items[1].strip()\n",
    "            lat   = items[2].strip()\n",
    "            if len(lon) == 0 or len(lat) == 0:\n",
    "                continue\n",
    "            sqlstr = 'INSERT INTO yfcc100m.tdata VALUES (' + pv_id + ', ' + lon + ', ' + lat + ')' \n",
    "            try:\n",
    "                cursor.execute(sqlstr)\n",
    "            except db.Error as error:\n",
    "                print('ERROR: {}'.format(error))\n",
    "    dbconnection.commit()\n",
    "    dbconnection.close()\n",
    "```"
   ]
  },
  {
   "cell_type": "markdown",
   "metadata": {},
   "source": [
    "Python scripts to search coordinates for photos looks like\n",
    "```\n",
    "import mysql.connector as db\n",
    "def search_coords(fin, fout):\n",
    "    dbconnection = db.connect(user='USERNAME', password='PASSWORD', database='yfcc100m')\n",
    "    cursor = dbconnection.cursor()\n",
    "    with open(fout, 'w') as fo:\n",
    "        with open(fin, 'r') as fi:\n",
    "            for line in fi:\n",
    "                items = line.split(';')\n",
    "                assert(len(items) == 7)\n",
    "                photoID = items[0].strip()\n",
    "                sqlstr = 'SELECT longitude, latitude FROM tdata WHERE pv_id = ' + photoID\n",
    "                cursor.execute(sqlstr)\n",
    "                for longitude, latitude in cursor:\n",
    "                    fo.write(photoID + ';' + str(longitude) + ';' + str(latitude) + '\\n')\n",
    "    dbconnection.commit()\n",
    "    dbconnection.close()\n",
    "```"
   ]
  },
  {
   "cell_type": "markdown",
   "metadata": {},
   "source": [
    "The above retrived results are available and will be downloaded automatically by executing scripts `src/ijcai15_setup.py`."
   ]
  },
  {
   "cell_type": "markdown",
   "metadata": {},
   "source": [
    "<a id='sec2'></a>"
   ]
  },
  {
   "cell_type": "markdown",
   "metadata": {},
   "source": [
    "# 2. Trajectory Recommendation Problem"
   ]
  },
  {
   "cell_type": "markdown",
   "metadata": {},
   "source": [
    "<a id='sec2.1'></a>"
   ]
  },
  {
   "cell_type": "markdown",
   "metadata": {},
   "source": [
    "## 2.1 Definitions"
   ]
  },
  {
   "cell_type": "markdown",
   "metadata": {},
   "source": [
    "For user $u$ and POI $p$, define"
   ]
  },
  {
   "cell_type": "markdown",
   "metadata": {},
   "source": [
    "* **Travel History**: \n",
    "\\begin{equation*}\n",
    "S_u = \\{(p_1, t_{p_1}^a, t_{p_1}^d), \\dots, (p_n, t_{p_n}^a, t_{p_n}^d)\\}\n",
    "\\end{equation*}\n",
    "where $t_{p_i}^a$ is the arrival time and $t_{p_i}^d$ the departure time of user $u$ at POI $p_i$"
   ]
  },
  {
   "cell_type": "markdown",
   "metadata": {},
   "source": [
    "* **Travel Sequences**: split $S_u$ if\n",
    "\\begin{equation*}\n",
    "|t_{p_i}^d - t_{p_{i+1}}^a| > \\tau ~(\\text{e.g.}~ \\tau = 8 ~\\text{hours})\n",
    "\\end{equation*}"
   ]
  },
  {
   "cell_type": "markdown",
   "metadata": {},
   "source": [
    "* **POI Popularity**:\n",
    "\\begin{equation*}\n",
    "Pop(p) = \\sum_{u \\in U} \\sum_{p_i \\in S_u} \\delta(p_i == p)\n",
    "\\end{equation*}"
   ]
  },
  {
   "cell_type": "markdown",
   "metadata": {},
   "source": [
    "* **Average POI Visit Duration**: \n",
    "\\begin{equation*}\n",
    "\\bar{V}(p) = \\frac{1}{N} \\sum_{u \\in U} \\sum_{p_i \\in S_u} (t_{p_i}^d - t_{p_i}^a) \\delta(p_i == p)\n",
    "\\end{equation*}\n",
    "where $N$ is \\#visits of POI $p$ by all users"
   ]
  },
  {
   "cell_type": "markdown",
   "metadata": {},
   "source": [
    "Define the interest of user $u$ in POI category $c$ as"
   ]
  },
  {
   "cell_type": "markdown",
   "metadata": {},
   "source": [
    "* **Time based User Interest**:\n",
    "\\begin{equation*}\n",
    "Int^{Time}(u, c) = \\sum_{p_i \\in S_u} \\frac{(t_{p_i}^d - t_{p_i}^a)}{\\bar{V}(p_i)} \\delta(Cat_{p_i} == c)\n",
    "\\end{equation*}\n",
    "where $Cat_{p_i}$ is the category of POI $p_i$  \n",
    "we also tried this one\n",
    "\\begin{equation*}\n",
    "Int^{Time}(u, c) = \\frac{1}{n} \\sum_{p_i \\in S_u} \\frac{(t_{p_i}^d - t_{p_i}^a)}{\\bar{V}(p_i)} \\delta(Cat_{p_i} == c)\n",
    "\\end{equation*}\n",
    "where $n$ is the number of visit of category $c$ by user $u$ (i.e. the frequency base user interest defined below),\n",
    "switch between the two definitions [here](#switch)."
   ]
  },
  {
   "cell_type": "markdown",
   "metadata": {},
   "source": [
    "* **Frequency based User Interest**:\n",
    "\\begin{equation*}\n",
    "Int^{Freq}(u, c) = \\sum_{p_i \\in S_u} \\delta(Cat_{p_i} == c)\n",
    "\\end{equation*}"
   ]
  },
  {
   "cell_type": "markdown",
   "metadata": {},
   "source": [
    "Evaluation metrics: Let $P_r$ be the set of POIs of the recommended trajectory and $P_v$ be the set of POIs visited in real-life travel sequence."
   ]
  },
  {
   "cell_type": "markdown",
   "metadata": {},
   "source": [
    "* **Tour Recall**:\n",
    "\\begin{equation}\n",
    "\\text{Recall} = \\frac{|P_r \\cap P_v|}{|P_v|}\n",
    "\\end{equation}"
   ]
  },
  {
   "cell_type": "markdown",
   "metadata": {},
   "source": [
    "* **Tour Precision**:\n",
    "\\begin{equation}\n",
    "\\text{Precision} = \\frac{|P_r \\cap P_v|}{|P_r|}\n",
    "\\end{equation}"
   ]
  },
  {
   "cell_type": "markdown",
   "metadata": {},
   "source": [
    "* **Tour F1-score**:\n",
    "\\begin{equation}\n",
    "\\text{F1-score} = \\frac{2 \\times \\text{Precsion} \\times \\text{Recall}}{\\text{Precsion} + \\text{Recall}}\n",
    "\\end{equation}"
   ]
  },
  {
   "cell_type": "markdown",
   "metadata": {},
   "source": [
    "<a id='sec2.2'></a>"
   ]
  },
  {
   "cell_type": "markdown",
   "metadata": {},
   "source": [
    "## 2.2 Problem Formulation"
   ]
  },
  {
   "cell_type": "markdown",
   "metadata": {},
   "source": [
    "The paper formulates the itinerary recommendation problem as an Integer Linear Programming(ILP) as follows.\n",
    "\n",
    "Given a set of POIs, time budget $B$, the starting/destination POI $p_1$/$p_N$,\n",
    "recommend a trajectory $(p_1,\\dots,p_N)$ to user $u$ that\n",
    "\\begin{equation*}\n",
    "    \\text{Maximize} \\sum_{i=2}^{N-1} \\sum_{j=2}^{N} x_{i,j} \\left(\\eta Int(u, Cat_{p_i}) + (1-\\eta) Pop(p_i)\\right)\n",
    "\\end{equation*}\n",
    "Subject to\n",
    "\\begin{align*}\n",
    "    %x_{i,j} \\in \\{0, 1\\}, & \\forall i,j = 1,\\dots,N \\\\\n",
    "    \\sum_{j=2}^N x_{1,j} &= \\sum_{i=1}^{N-1} x_{i,N} = 1 \\\\ %\\text{(starts/ends at $p_1$/$p_N$)} \\\\\n",
    "    \\sum_{i=1}^{N-1} x_{i,k} &= \\sum_{j=2}^{N} x_{k,j} \\le 1, \\forall k = 2,\\dots,N-1 \\\\ %\\text{(connected, enters/leaves $p_k$ at most once)}\n",
    "    %q_i \\in \\{2,\\dots,N\\}, & \\forall i = 2,\\dots,N \\\\\n",
    "    q_i - q_j + 1 &\\le (N-1)(1-x_{i,j}), \\forall i,j = 2,\\dots,N \\\\ %\\text{sub-tour elimination} \\\\\n",
    "    %\\sum_{i=1}^{N-1} \\sum_{j=2}^N x_{i,j} Cost(i,j) \\le B %\\text{(budget constraint)}\n",
    "    %\\sum_{i=1}^{N-1} \\sum_{j=2}^N x_{i,j} \\left(T^{Travel}(p_i, p_j) + Int(u, Cat_{p_j}) * \\bar{V}(p_j) \\right) & \\le B\n",
    "    \\sum_{i=1}^{N-1} \\sum_{j=2}^N x_{i,j} & \\left(Time(p_i, p_j) + Int(u, Cat_{p_j}) * \\bar{V}(p_j) \\right) \\le B\n",
    "\\end{align*}"
   ]
  },
  {
   "cell_type": "markdown",
   "metadata": {},
   "source": [
    "We use a Python library called [PuLP](https://github.com/coin-or/pulp) from the [COIN-OR](http://www.coin-or.org/) project to model the integer programs.\n",
    "PuLP enables many LP solvers such as [GLPK](http://www.gnu.org/software/glpk/), [CBC](https://projects.coin-or.org/Cbc), [CPLEX](http://www.ibm.com/software/commerce/optimization/cplex-optimizer/) and [Gurobi](http://www.gurobi.com) to be called to solve the model.\n",
    "Its comprehensive documentation is available [here](https://pythonhosted.org/PuLP/index.html)."
   ]
  },
  {
   "cell_type": "markdown",
   "metadata": {},
   "source": [
    "<a id='sec3'></a>"
   ]
  },
  {
   "cell_type": "markdown",
   "metadata": {},
   "source": [
    "# 3. Prepare Data"
   ]
  },
  {
   "cell_type": "markdown",
   "metadata": {},
   "source": [
    "<a id='sec3.1'></a>"
   ]
  },
  {
   "cell_type": "markdown",
   "metadata": {},
   "source": [
    "## 3.1 Load Trajectory Data"
   ]
  },
  {
   "cell_type": "code",
   "execution_count": 1,
   "metadata": {
    "collapsed": false
   },
   "outputs": [],
   "source": [
    "%matplotlib inline\n",
    "\n",
    "import os, sys, time, re\n",
    "import math, random, pickle\n",
    "import pandas as pd\n",
    "import numpy as np\n",
    "import matplotlib.pyplot as plt\n",
    "from datetime import datetime\n",
    "import pulp"
   ]
  },
  {
   "cell_type": "code",
   "execution_count": 2,
   "metadata": {
    "collapsed": true
   },
   "outputs": [],
   "source": [
    "speed = 4 # 4km/h\n",
    "random.seed(123456789)"
   ]
  },
  {
   "cell_type": "code",
   "execution_count": 3,
   "metadata": {
    "collapsed": true
   },
   "outputs": [],
   "source": [
    "data_dir = 'data/data-ijcai15'\n",
    "#fvisit = os.path.join(data_dir, 'userVisits-Osak.csv')\n",
    "#fcoord = os.path.join(data_dir, 'photoCoords-Osak.csv')\n",
    "#fvisit = os.path.join(data_dir, 'userVisits-Glas.csv')\n",
    "#fcoord = os.path.join(data_dir, 'photoCoords-Glas.csv')\n",
    "#fvisit = os.path.join(data_dir, 'userVisits-Edin.csv')\n",
    "#fcoord = os.path.join(data_dir, 'photoCoords-Edin.csv')\n",
    "fvisit = os.path.join(data_dir, 'userVisits-Toro.csv')\n",
    "fcoord = os.path.join(data_dir, 'photoCoords-Toro.csv')"
   ]
  },
  {
   "cell_type": "code",
   "execution_count": 4,
   "metadata": {
    "collapsed": true
   },
   "outputs": [],
   "source": [
    "suffix = fvisit.split('-')[-1].split('.')[0]\n",
    "frecseq = os.path.join(data_dir, 'reccommendSeq-' + suffix + '.pkl')"
   ]
  },
  {
   "cell_type": "code",
   "execution_count": 5,
   "metadata": {
    "collapsed": false
   },
   "outputs": [
    {
     "data": {
      "text/html": [
       "<div>\n",
       "<table border=\"1\" class=\"dataframe\">\n",
       "  <thead>\n",
       "    <tr style=\"text-align: right;\">\n",
       "      <th></th>\n",
       "      <th>photoID</th>\n",
       "      <th>userID</th>\n",
       "      <th>dateTaken</th>\n",
       "      <th>poiID</th>\n",
       "      <th>poiTheme</th>\n",
       "      <th>poiFreq</th>\n",
       "      <th>seqID</th>\n",
       "    </tr>\n",
       "  </thead>\n",
       "  <tbody>\n",
       "    <tr>\n",
       "      <th>0</th>\n",
       "      <td>7941504100</td>\n",
       "      <td>10007579@N00</td>\n",
       "      <td>1346844688</td>\n",
       "      <td>30</td>\n",
       "      <td>Structure</td>\n",
       "      <td>1538</td>\n",
       "      <td>1</td>\n",
       "    </tr>\n",
       "    <tr>\n",
       "      <th>1</th>\n",
       "      <td>4886005532</td>\n",
       "      <td>10012675@N05</td>\n",
       "      <td>1142731848</td>\n",
       "      <td>6</td>\n",
       "      <td>Cultural</td>\n",
       "      <td>986</td>\n",
       "      <td>2</td>\n",
       "    </tr>\n",
       "    <tr>\n",
       "      <th>2</th>\n",
       "      <td>4886006468</td>\n",
       "      <td>10012675@N05</td>\n",
       "      <td>1142732248</td>\n",
       "      <td>6</td>\n",
       "      <td>Cultural</td>\n",
       "      <td>986</td>\n",
       "      <td>2</td>\n",
       "    </tr>\n",
       "    <tr>\n",
       "      <th>3</th>\n",
       "      <td>4885404441</td>\n",
       "      <td>10012675@N05</td>\n",
       "      <td>1142732373</td>\n",
       "      <td>6</td>\n",
       "      <td>Cultural</td>\n",
       "      <td>986</td>\n",
       "      <td>2</td>\n",
       "    </tr>\n",
       "    <tr>\n",
       "      <th>4</th>\n",
       "      <td>4886008334</td>\n",
       "      <td>10012675@N05</td>\n",
       "      <td>1142732445</td>\n",
       "      <td>6</td>\n",
       "      <td>Cultural</td>\n",
       "      <td>986</td>\n",
       "      <td>2</td>\n",
       "    </tr>\n",
       "  </tbody>\n",
       "</table>\n",
       "</div>"
      ],
      "text/plain": [
       "      photoID        userID   dateTaken  poiID   poiTheme  poiFreq  seqID\n",
       "0  7941504100  10007579@N00  1346844688     30  Structure     1538      1\n",
       "1  4886005532  10012675@N05  1142731848      6   Cultural      986      2\n",
       "2  4886006468  10012675@N05  1142732248      6   Cultural      986      2\n",
       "3  4885404441  10012675@N05  1142732373      6   Cultural      986      2\n",
       "4  4886008334  10012675@N05  1142732445      6   Cultural      986      2"
      ]
     },
     "execution_count": 5,
     "metadata": {},
     "output_type": "execute_result"
    }
   ],
   "source": [
    "visits = pd.read_csv(fvisit, sep=';')\n",
    "visits.head()"
   ]
  },
  {
   "cell_type": "code",
   "execution_count": 6,
   "metadata": {
    "collapsed": false
   },
   "outputs": [
    {
     "data": {
      "text/html": [
       "<div>\n",
       "<table border=\"1\" class=\"dataframe\">\n",
       "  <thead>\n",
       "    <tr style=\"text-align: right;\">\n",
       "      <th></th>\n",
       "      <th>photoID</th>\n",
       "      <th>photoLon</th>\n",
       "      <th>photoLat</th>\n",
       "    </tr>\n",
       "  </thead>\n",
       "  <tbody>\n",
       "    <tr>\n",
       "      <th>0</th>\n",
       "      <td>7941504100</td>\n",
       "      <td>-79.380844</td>\n",
       "      <td>43.645641</td>\n",
       "    </tr>\n",
       "    <tr>\n",
       "      <th>1</th>\n",
       "      <td>4886005532</td>\n",
       "      <td>-79.391525</td>\n",
       "      <td>43.654335</td>\n",
       "    </tr>\n",
       "    <tr>\n",
       "      <th>2</th>\n",
       "      <td>4886006468</td>\n",
       "      <td>-79.391525</td>\n",
       "      <td>43.654335</td>\n",
       "    </tr>\n",
       "    <tr>\n",
       "      <th>3</th>\n",
       "      <td>4885404441</td>\n",
       "      <td>-79.391525</td>\n",
       "      <td>43.654335</td>\n",
       "    </tr>\n",
       "    <tr>\n",
       "      <th>4</th>\n",
       "      <td>4886008334</td>\n",
       "      <td>-79.391525</td>\n",
       "      <td>43.654335</td>\n",
       "    </tr>\n",
       "  </tbody>\n",
       "</table>\n",
       "</div>"
      ],
      "text/plain": [
       "      photoID   photoLon   photoLat\n",
       "0  7941504100 -79.380844  43.645641\n",
       "1  4886005532 -79.391525  43.654335\n",
       "2  4886006468 -79.391525  43.654335\n",
       "3  4885404441 -79.391525  43.654335\n",
       "4  4886008334 -79.391525  43.654335"
      ]
     },
     "execution_count": 6,
     "metadata": {},
     "output_type": "execute_result"
    }
   ],
   "source": [
    "coords = pd.read_csv(fcoord, sep=';')\n",
    "coords.head()"
   ]
  },
  {
   "cell_type": "code",
   "execution_count": 7,
   "metadata": {
    "collapsed": false
   },
   "outputs": [
    {
     "data": {
      "text/html": [
       "<div>\n",
       "<table border=\"1\" class=\"dataframe\">\n",
       "  <thead>\n",
       "    <tr style=\"text-align: right;\">\n",
       "      <th></th>\n",
       "      <th>photoID</th>\n",
       "      <th>userID</th>\n",
       "      <th>dateTaken</th>\n",
       "      <th>poiID</th>\n",
       "      <th>poiTheme</th>\n",
       "      <th>poiFreq</th>\n",
       "      <th>seqID</th>\n",
       "      <th>photoLon</th>\n",
       "      <th>photoLat</th>\n",
       "    </tr>\n",
       "  </thead>\n",
       "  <tbody>\n",
       "    <tr>\n",
       "      <th>0</th>\n",
       "      <td>7941504100</td>\n",
       "      <td>10007579@N00</td>\n",
       "      <td>1346844688</td>\n",
       "      <td>30</td>\n",
       "      <td>Structure</td>\n",
       "      <td>1538</td>\n",
       "      <td>1</td>\n",
       "      <td>-79.380844</td>\n",
       "      <td>43.645641</td>\n",
       "    </tr>\n",
       "    <tr>\n",
       "      <th>1</th>\n",
       "      <td>4886005532</td>\n",
       "      <td>10012675@N05</td>\n",
       "      <td>1142731848</td>\n",
       "      <td>6</td>\n",
       "      <td>Cultural</td>\n",
       "      <td>986</td>\n",
       "      <td>2</td>\n",
       "      <td>-79.391525</td>\n",
       "      <td>43.654335</td>\n",
       "    </tr>\n",
       "    <tr>\n",
       "      <th>2</th>\n",
       "      <td>4886006468</td>\n",
       "      <td>10012675@N05</td>\n",
       "      <td>1142732248</td>\n",
       "      <td>6</td>\n",
       "      <td>Cultural</td>\n",
       "      <td>986</td>\n",
       "      <td>2</td>\n",
       "      <td>-79.391525</td>\n",
       "      <td>43.654335</td>\n",
       "    </tr>\n",
       "    <tr>\n",
       "      <th>3</th>\n",
       "      <td>4885404441</td>\n",
       "      <td>10012675@N05</td>\n",
       "      <td>1142732373</td>\n",
       "      <td>6</td>\n",
       "      <td>Cultural</td>\n",
       "      <td>986</td>\n",
       "      <td>2</td>\n",
       "      <td>-79.391525</td>\n",
       "      <td>43.654335</td>\n",
       "    </tr>\n",
       "    <tr>\n",
       "      <th>4</th>\n",
       "      <td>4886008334</td>\n",
       "      <td>10012675@N05</td>\n",
       "      <td>1142732445</td>\n",
       "      <td>6</td>\n",
       "      <td>Cultural</td>\n",
       "      <td>986</td>\n",
       "      <td>2</td>\n",
       "      <td>-79.391525</td>\n",
       "      <td>43.654335</td>\n",
       "    </tr>\n",
       "  </tbody>\n",
       "</table>\n",
       "</div>"
      ],
      "text/plain": [
       "      photoID        userID   dateTaken  poiID   poiTheme  poiFreq  seqID  \\\n",
       "0  7941504100  10007579@N00  1346844688     30  Structure     1538      1   \n",
       "1  4886005532  10012675@N05  1142731848      6   Cultural      986      2   \n",
       "2  4886006468  10012675@N05  1142732248      6   Cultural      986      2   \n",
       "3  4885404441  10012675@N05  1142732373      6   Cultural      986      2   \n",
       "4  4886008334  10012675@N05  1142732445      6   Cultural      986      2   \n",
       "\n",
       "    photoLon   photoLat  \n",
       "0 -79.380844  43.645641  \n",
       "1 -79.391525  43.654335  \n",
       "2 -79.391525  43.654335  \n",
       "3 -79.391525  43.654335  \n",
       "4 -79.391525  43.654335  "
      ]
     },
     "execution_count": 7,
     "metadata": {},
     "output_type": "execute_result"
    }
   ],
   "source": [
    "# merge data frames according to column 'photoID'\n",
    "assert(visits.shape[0] == coords.shape[0])\n",
    "traj = pd.merge(visits, coords, on='photoID')\n",
    "traj.head()"
   ]
  },
  {
   "cell_type": "code",
   "execution_count": 8,
   "metadata": {
    "collapsed": false
   },
   "outputs": [
    {
     "data": {
      "text/html": [
       "<div>\n",
       "<table border=\"1\" class=\"dataframe\">\n",
       "  <thead>\n",
       "    <tr style=\"text-align: right;\">\n",
       "      <th></th>\n",
       "      <th>photoLon</th>\n",
       "      <th>photoLat</th>\n",
       "    </tr>\n",
       "  </thead>\n",
       "  <tbody>\n",
       "    <tr>\n",
       "      <th>min</th>\n",
       "      <td>-79.465088</td>\n",
       "      <td>43.618523</td>\n",
       "    </tr>\n",
       "    <tr>\n",
       "      <th>max</th>\n",
       "      <td>-79.180336</td>\n",
       "      <td>43.822018</td>\n",
       "    </tr>\n",
       "    <tr>\n",
       "      <th>range</th>\n",
       "      <td>0.284752</td>\n",
       "      <td>0.203495</td>\n",
       "    </tr>\n",
       "  </tbody>\n",
       "</table>\n",
       "</div>"
      ],
      "text/plain": [
       "        photoLon   photoLat\n",
       "min   -79.465088  43.618523\n",
       "max   -79.180336  43.822018\n",
       "range   0.284752   0.203495"
      ]
     },
     "execution_count": 8,
     "metadata": {},
     "output_type": "execute_result"
    }
   ],
   "source": [
    "pd.DataFrame([traj[['photoLon', 'photoLat']].min(), traj[['photoLon', 'photoLat']].max(), \\\n",
    "             traj[['photoLon', 'photoLat']].max() - traj[['photoLon', 'photoLat']].min()], \\\n",
    "             index = ['min', 'max', 'range'])"
   ]
  },
  {
   "cell_type": "code",
   "execution_count": 9,
   "metadata": {
    "collapsed": false
   },
   "outputs": [
    {
     "data": {
      "text/plain": [
       "<matplotlib.collections.PathCollection at 0x7feaef079208>"
      ]
     },
     "execution_count": 9,
     "metadata": {},
     "output_type": "execute_result"
    },
    {
     "data": {
      "image/png": "[encoded data removed]",
      "text/plain": [
       "<matplotlib.figure.Figure at 0x7feaef273320>"
      ]
     },
     "metadata": {},
     "output_type": "display_data"
    }
   ],
   "source": [
    "plt.figure(figsize=[15, 5])\n",
    "plt.xlabel('Longitude')\n",
    "plt.ylabel('Latitude')\n",
    "plt.scatter(traj['photoLon'], traj['photoLat'], marker='+')"
   ]
  },
  {
   "cell_type": "code",
   "execution_count": 10,
   "metadata": {
    "collapsed": false
   },
   "outputs": [
    {
     "data": {
      "text/html": [
       "<div>\n",
       "<table border=\"1\" class=\"dataframe\">\n",
       "  <thead>\n",
       "    <tr style=\"text-align: right;\">\n",
       "      <th></th>\n",
       "      <th>Toro</th>\n",
       "    </tr>\n",
       "  </thead>\n",
       "  <tbody>\n",
       "    <tr>\n",
       "      <th>#photo</th>\n",
       "      <td>39419.000000</td>\n",
       "    </tr>\n",
       "    <tr>\n",
       "      <th>#user</th>\n",
       "      <td>1395.000000</td>\n",
       "    </tr>\n",
       "    <tr>\n",
       "      <th>#seq</th>\n",
       "      <td>6057.000000</td>\n",
       "    </tr>\n",
       "    <tr>\n",
       "      <th>#poi</th>\n",
       "      <td>29.000000</td>\n",
       "    </tr>\n",
       "    <tr>\n",
       "      <th>#photo/user</th>\n",
       "      <td>28.257348</td>\n",
       "    </tr>\n",
       "    <tr>\n",
       "      <th>#seq/user</th>\n",
       "      <td>4.341935</td>\n",
       "    </tr>\n",
       "  </tbody>\n",
       "</table>\n",
       "</div>"
      ],
      "text/plain": [
       "                     Toro\n",
       "#photo       39419.000000\n",
       "#user         1395.000000\n",
       "#seq          6057.000000\n",
       "#poi            29.000000\n",
       "#photo/user     28.257348\n",
       "#seq/user        4.341935"
      ]
     },
     "execution_count": 10,
     "metadata": {},
     "output_type": "execute_result"
    }
   ],
   "source": [
    "num_photo = traj['photoID'].unique().shape[0]\n",
    "num_user = traj['userID'].unique().shape[0]\n",
    "num_seq = traj['seqID'].unique().shape[0]\n",
    "num_poi = traj['poiID'].unique().shape[0]\n",
    "pd.DataFrame([num_photo, num_user, num_seq, num_poi, num_photo/num_user, num_seq/num_user], \\\n",
    "             index = ['#photo', '#user', '#seq', '#poi', '#photo/user', '#seq/user'], columns=[str(suffix)])"
   ]
  },
  {
   "cell_type": "markdown",
   "metadata": {},
   "source": [
    "<a id='sec3.2'></a>"
   ]
  },
  {
   "cell_type": "markdown",
   "metadata": {},
   "source": [
    "## 3.2 Compute POI Info"
   ]
  },
  {
   "cell_type": "markdown",
   "metadata": {},
   "source": [
    "Compute POI (Longitude, Latitude) as the average coordinates of the assigned photos."
   ]
  },
  {
   "cell_type": "code",
   "execution_count": 11,
   "metadata": {
    "collapsed": false
   },
   "outputs": [
    {
     "data": {
      "text/html": [
       "<div>\n",
       "<table border=\"1\" class=\"dataframe\">\n",
       "  <thead>\n",
       "    <tr style=\"text-align: right;\">\n",
       "      <th></th>\n",
       "      <th>poiID</th>\n",
       "      <th>poiLon</th>\n",
       "      <th>poiLat</th>\n",
       "    </tr>\n",
       "  </thead>\n",
       "  <tbody>\n",
       "    <tr>\n",
       "      <th>0</th>\n",
       "      <td>1</td>\n",
       "      <td>-79.379341</td>\n",
       "      <td>43.643120</td>\n",
       "    </tr>\n",
       "    <tr>\n",
       "      <th>1</th>\n",
       "      <td>2</td>\n",
       "      <td>-79.418526</td>\n",
       "      <td>43.632698</td>\n",
       "    </tr>\n",
       "    <tr>\n",
       "      <th>2</th>\n",
       "      <td>3</td>\n",
       "      <td>-79.379921</td>\n",
       "      <td>43.662010</td>\n",
       "    </tr>\n",
       "    <tr>\n",
       "      <th>3</th>\n",
       "      <td>4</td>\n",
       "      <td>-79.389366</td>\n",
       "      <td>43.641151</td>\n",
       "    </tr>\n",
       "    <tr>\n",
       "      <th>4</th>\n",
       "      <td>6</td>\n",
       "      <td>-79.392502</td>\n",
       "      <td>43.653757</td>\n",
       "    </tr>\n",
       "  </tbody>\n",
       "</table>\n",
       "</div>"
      ],
      "text/plain": [
       "   poiID     poiLon     poiLat\n",
       "0      1 -79.379341  43.643120\n",
       "1      2 -79.418526  43.632698\n",
       "2      3 -79.379921  43.662010\n",
       "3      4 -79.389366  43.641151\n",
       "4      6 -79.392502  43.653757"
      ]
     },
     "execution_count": 11,
     "metadata": {},
     "output_type": "execute_result"
    }
   ],
   "source": [
    "#poi_coords = traj[['poiID', 'photoLon', 'photoLat']].groupby('poiID').agg(np.mean)\n",
    "poi_coords = traj[['poiID', 'photoLon', 'photoLat']].groupby('poiID').agg(np.median)\n",
    "poi_coords.reset_index(inplace=True)\n",
    "poi_coords.rename(columns={'photoLon':'poiLon', 'photoLat':'poiLat'}, inplace=True)\n",
    "poi_coords.head()"
   ]
  },
  {
   "cell_type": "markdown",
   "metadata": {},
   "source": [
    "Extract POI category and visiting frequency."
   ]
  },
  {
   "cell_type": "code",
   "execution_count": 12,
   "metadata": {
    "collapsed": false
   },
   "outputs": [
    {
     "data": {
      "text/html": [
       "<div>\n",
       "<table border=\"1\" class=\"dataframe\">\n",
       "  <thead>\n",
       "    <tr style=\"text-align: right;\">\n",
       "      <th></th>\n",
       "      <th>poiID</th>\n",
       "      <th>poiTheme</th>\n",
       "      <th>poiFreq</th>\n",
       "    </tr>\n",
       "  </thead>\n",
       "  <tbody>\n",
       "    <tr>\n",
       "      <th>0</th>\n",
       "      <td>1</td>\n",
       "      <td>Sport</td>\n",
       "      <td>3506</td>\n",
       "    </tr>\n",
       "    <tr>\n",
       "      <th>1</th>\n",
       "      <td>2</td>\n",
       "      <td>Sport</td>\n",
       "      <td>609</td>\n",
       "    </tr>\n",
       "    <tr>\n",
       "      <th>2</th>\n",
       "      <td>3</td>\n",
       "      <td>Sport</td>\n",
       "      <td>688</td>\n",
       "    </tr>\n",
       "    <tr>\n",
       "      <th>3</th>\n",
       "      <td>4</td>\n",
       "      <td>Sport</td>\n",
       "      <td>3056</td>\n",
       "    </tr>\n",
       "    <tr>\n",
       "      <th>4</th>\n",
       "      <td>6</td>\n",
       "      <td>Cultural</td>\n",
       "      <td>986</td>\n",
       "    </tr>\n",
       "  </tbody>\n",
       "</table>\n",
       "</div>"
      ],
      "text/plain": [
       "   poiID  poiTheme  poiFreq\n",
       "0      1     Sport     3506\n",
       "1      2     Sport      609\n",
       "2      3     Sport      688\n",
       "3      4     Sport     3056\n",
       "4      6  Cultural      986"
      ]
     },
     "execution_count": 12,
     "metadata": {},
     "output_type": "execute_result"
    }
   ],
   "source": [
    "poi_catfreq = traj[['poiID', 'poiTheme', 'poiFreq']].groupby('poiID').first()\n",
    "poi_catfreq.reset_index(inplace=True)\n",
    "poi_catfreq.head()"
   ]
  },
  {
   "cell_type": "code",
   "execution_count": 13,
   "metadata": {
    "collapsed": false
   },
   "outputs": [
    {
     "data": {
      "text/html": [
       "<div>\n",
       "<table border=\"1\" class=\"dataframe\">\n",
       "  <thead>\n",
       "    <tr style=\"text-align: right;\">\n",
       "      <th></th>\n",
       "      <th>poiTheme</th>\n",
       "      <th>poiFreq</th>\n",
       "      <th>poiLon</th>\n",
       "      <th>poiLat</th>\n",
       "    </tr>\n",
       "    <tr>\n",
       "      <th>poiID</th>\n",
       "      <th></th>\n",
       "      <th></th>\n",
       "      <th></th>\n",
       "      <th></th>\n",
       "    </tr>\n",
       "  </thead>\n",
       "  <tbody>\n",
       "    <tr>\n",
       "      <th>1</th>\n",
       "      <td>Sport</td>\n",
       "      <td>3506</td>\n",
       "      <td>-79.379341</td>\n",
       "      <td>43.643120</td>\n",
       "    </tr>\n",
       "    <tr>\n",
       "      <th>2</th>\n",
       "      <td>Sport</td>\n",
       "      <td>609</td>\n",
       "      <td>-79.418526</td>\n",
       "      <td>43.632698</td>\n",
       "    </tr>\n",
       "    <tr>\n",
       "      <th>3</th>\n",
       "      <td>Sport</td>\n",
       "      <td>688</td>\n",
       "      <td>-79.379921</td>\n",
       "      <td>43.662010</td>\n",
       "    </tr>\n",
       "    <tr>\n",
       "      <th>4</th>\n",
       "      <td>Sport</td>\n",
       "      <td>3056</td>\n",
       "      <td>-79.389366</td>\n",
       "      <td>43.641151</td>\n",
       "    </tr>\n",
       "    <tr>\n",
       "      <th>6</th>\n",
       "      <td>Cultural</td>\n",
       "      <td>986</td>\n",
       "      <td>-79.392502</td>\n",
       "      <td>43.653757</td>\n",
       "    </tr>\n",
       "  </tbody>\n",
       "</table>\n",
       "</div>"
      ],
      "text/plain": [
       "       poiTheme  poiFreq     poiLon     poiLat\n",
       "poiID                                         \n",
       "1         Sport     3506 -79.379341  43.643120\n",
       "2         Sport      609 -79.418526  43.632698\n",
       "3         Sport      688 -79.379921  43.662010\n",
       "4         Sport     3056 -79.389366  43.641151\n",
       "6      Cultural      986 -79.392502  43.653757"
      ]
     },
     "execution_count": 13,
     "metadata": {},
     "output_type": "execute_result"
    }
   ],
   "source": [
    "poi_all = pd.merge(poi_catfreq, poi_coords, on='poiID')\n",
    "poi_all.set_index('poiID', inplace=True)\n",
    "poi_all.head()"
   ]
  },
  {
   "cell_type": "markdown",
   "metadata": {},
   "source": [
    "<a id='sec3.3'></a>"
   ]
  },
  {
   "cell_type": "markdown",
   "metadata": {},
   "source": [
    "## 3.3 Construct Travelling Sequences"
   ]
  },
  {
   "cell_type": "code",
   "execution_count": 14,
   "metadata": {
    "collapsed": false
   },
   "outputs": [
    {
     "data": {
      "text/html": [
       "<div>\n",
       "<table border=\"1\" class=\"dataframe\">\n",
       "  <thead>\n",
       "    <tr>\n",
       "      <th></th>\n",
       "      <th></th>\n",
       "      <th></th>\n",
       "      <th colspan=\"2\" halign=\"left\">dateTaken</th>\n",
       "    </tr>\n",
       "    <tr>\n",
       "      <th></th>\n",
       "      <th></th>\n",
       "      <th></th>\n",
       "      <th>amin</th>\n",
       "      <th>amax</th>\n",
       "    </tr>\n",
       "    <tr>\n",
       "      <th>userID</th>\n",
       "      <th>seqID</th>\n",
       "      <th>poiID</th>\n",
       "      <th></th>\n",
       "      <th></th>\n",
       "    </tr>\n",
       "  </thead>\n",
       "  <tbody>\n",
       "    <tr>\n",
       "      <th>10007579@N00</th>\n",
       "      <th>1</th>\n",
       "      <th>30</th>\n",
       "      <td>1346844688</td>\n",
       "      <td>1346844688</td>\n",
       "    </tr>\n",
       "    <tr>\n",
       "      <th rowspan=\"3\" valign=\"top\">10012675@N05</th>\n",
       "      <th>2</th>\n",
       "      <th>6</th>\n",
       "      <td>1142731848</td>\n",
       "      <td>1142732445</td>\n",
       "    </tr>\n",
       "    <tr>\n",
       "      <th>3</th>\n",
       "      <th>6</th>\n",
       "      <td>1142916492</td>\n",
       "      <td>1142916492</td>\n",
       "    </tr>\n",
       "    <tr>\n",
       "      <th>4</th>\n",
       "      <th>13</th>\n",
       "      <td>1319327174</td>\n",
       "      <td>1319332848</td>\n",
       "    </tr>\n",
       "    <tr>\n",
       "      <th>10014440@N06</th>\n",
       "      <th>5</th>\n",
       "      <th>24</th>\n",
       "      <td>1196128621</td>\n",
       "      <td>1196128878</td>\n",
       "    </tr>\n",
       "  </tbody>\n",
       "</table>\n",
       "</div>"
      ],
      "text/plain": [
       "                           dateTaken            \n",
       "                                amin        amax\n",
       "userID       seqID poiID                        \n",
       "10007579@N00 1     30     1346844688  1346844688\n",
       "10012675@N05 2     6      1142731848  1142732445\n",
       "             3     6      1142916492  1142916492\n",
       "             4     13     1319327174  1319332848\n",
       "10014440@N06 5     24     1196128621  1196128878"
      ]
     },
     "execution_count": 14,
     "metadata": {},
     "output_type": "execute_result"
    }
   ],
   "source": [
    "seq_all = traj[['userID', 'seqID', 'poiID', 'dateTaken']].copy()\\\n",
    "          .groupby(['userID', 'seqID', 'poiID']).agg([np.min, np.max])\n",
    "seq_all.head()"
   ]
  },
  {
   "cell_type": "code",
   "execution_count": 15,
   "metadata": {
    "collapsed": false
   },
   "outputs": [
    {
     "data": {
      "text/html": [
       "<div>\n",
       "<table border=\"1\" class=\"dataframe\">\n",
       "  <thead>\n",
       "    <tr style=\"text-align: right;\">\n",
       "      <th></th>\n",
       "      <th></th>\n",
       "      <th></th>\n",
       "      <th>amin</th>\n",
       "      <th>amax</th>\n",
       "    </tr>\n",
       "    <tr>\n",
       "      <th>userID</th>\n",
       "      <th>seqID</th>\n",
       "      <th>poiID</th>\n",
       "      <th></th>\n",
       "      <th></th>\n",
       "    </tr>\n",
       "  </thead>\n",
       "  <tbody>\n",
       "    <tr>\n",
       "      <th>10007579@N00</th>\n",
       "      <th>1</th>\n",
       "      <th>30</th>\n",
       "      <td>1346844688</td>\n",
       "      <td>1346844688</td>\n",
       "    </tr>\n",
       "    <tr>\n",
       "      <th rowspan=\"3\" valign=\"top\">10012675@N05</th>\n",
       "      <th>2</th>\n",
       "      <th>6</th>\n",
       "      <td>1142731848</td>\n",
       "      <td>1142732445</td>\n",
       "    </tr>\n",
       "    <tr>\n",
       "      <th>3</th>\n",
       "      <th>6</th>\n",
       "      <td>1142916492</td>\n",
       "      <td>1142916492</td>\n",
       "    </tr>\n",
       "    <tr>\n",
       "      <th>4</th>\n",
       "      <th>13</th>\n",
       "      <td>1319327174</td>\n",
       "      <td>1319332848</td>\n",
       "    </tr>\n",
       "    <tr>\n",
       "      <th>10014440@N06</th>\n",
       "      <th>5</th>\n",
       "      <th>24</th>\n",
       "      <td>1196128621</td>\n",
       "      <td>1196128878</td>\n",
       "    </tr>\n",
       "  </tbody>\n",
       "</table>\n",
       "</div>"
      ],
      "text/plain": [
       "                                amin        amax\n",
       "userID       seqID poiID                        \n",
       "10007579@N00 1     30     1346844688  1346844688\n",
       "10012675@N05 2     6      1142731848  1142732445\n",
       "             3     6      1142916492  1142916492\n",
       "             4     13     1319327174  1319332848\n",
       "10014440@N06 5     24     1196128621  1196128878"
      ]
     },
     "execution_count": 15,
     "metadata": {},
     "output_type": "execute_result"
    }
   ],
   "source": [
    "seq_all.columns = seq_all.columns.droplevel()\n",
    "seq_all.head()"
   ]
  },
  {
   "cell_type": "code",
   "execution_count": 16,
   "metadata": {
    "collapsed": false
   },
   "outputs": [
    {
     "data": {
      "text/html": [
       "<div>\n",
       "<table border=\"1\" class=\"dataframe\">\n",
       "  <thead>\n",
       "    <tr style=\"text-align: right;\">\n",
       "      <th></th>\n",
       "      <th>userID</th>\n",
       "      <th>seqID</th>\n",
       "      <th>poiID</th>\n",
       "      <th>amin</th>\n",
       "      <th>amax</th>\n",
       "    </tr>\n",
       "  </thead>\n",
       "  <tbody>\n",
       "    <tr>\n",
       "      <th>0</th>\n",
       "      <td>10007579@N00</td>\n",
       "      <td>1</td>\n",
       "      <td>30</td>\n",
       "      <td>1346844688</td>\n",
       "      <td>1346844688</td>\n",
       "    </tr>\n",
       "    <tr>\n",
       "      <th>1</th>\n",
       "      <td>10012675@N05</td>\n",
       "      <td>2</td>\n",
       "      <td>6</td>\n",
       "      <td>1142731848</td>\n",
       "      <td>1142732445</td>\n",
       "    </tr>\n",
       "    <tr>\n",
       "      <th>2</th>\n",
       "      <td>10012675@N05</td>\n",
       "      <td>3</td>\n",
       "      <td>6</td>\n",
       "      <td>1142916492</td>\n",
       "      <td>1142916492</td>\n",
       "    </tr>\n",
       "    <tr>\n",
       "      <th>3</th>\n",
       "      <td>10012675@N05</td>\n",
       "      <td>4</td>\n",
       "      <td>13</td>\n",
       "      <td>1319327174</td>\n",
       "      <td>1319332848</td>\n",
       "    </tr>\n",
       "    <tr>\n",
       "      <th>4</th>\n",
       "      <td>10014440@N06</td>\n",
       "      <td>5</td>\n",
       "      <td>24</td>\n",
       "      <td>1196128621</td>\n",
       "      <td>1196128878</td>\n",
       "    </tr>\n",
       "  </tbody>\n",
       "</table>\n",
       "</div>"
      ],
      "text/plain": [
       "         userID  seqID  poiID        amin        amax\n",
       "0  10007579@N00      1     30  1346844688  1346844688\n",
       "1  10012675@N05      2      6  1142731848  1142732445\n",
       "2  10012675@N05      3      6  1142916492  1142916492\n",
       "3  10012675@N05      4     13  1319327174  1319332848\n",
       "4  10014440@N06      5     24  1196128621  1196128878"
      ]
     },
     "execution_count": 16,
     "metadata": {},
     "output_type": "execute_result"
    }
   ],
   "source": [
    "seq_all.reset_index(inplace=True)\n",
    "seq_all.head()"
   ]
  },
  {
   "cell_type": "code",
   "execution_count": 17,
   "metadata": {
    "collapsed": false
   },
   "outputs": [
    {
     "data": {
      "text/html": [
       "<div>\n",
       "<table border=\"1\" class=\"dataframe\">\n",
       "  <thead>\n",
       "    <tr style=\"text-align: right;\">\n",
       "      <th></th>\n",
       "      <th>userID</th>\n",
       "      <th>seqID</th>\n",
       "      <th>poiID</th>\n",
       "      <th>arrivalTime</th>\n",
       "      <th>departureTime</th>\n",
       "      <th>poiDuration(sec)</th>\n",
       "    </tr>\n",
       "  </thead>\n",
       "  <tbody>\n",
       "    <tr>\n",
       "      <th>0</th>\n",
       "      <td>10007579@N00</td>\n",
       "      <td>1</td>\n",
       "      <td>30</td>\n",
       "      <td>1346844688</td>\n",
       "      <td>1346844688</td>\n",
       "      <td>0</td>\n",
       "    </tr>\n",
       "    <tr>\n",
       "      <th>1</th>\n",
       "      <td>10012675@N05</td>\n",
       "      <td>2</td>\n",
       "      <td>6</td>\n",
       "      <td>1142731848</td>\n",
       "      <td>1142732445</td>\n",
       "      <td>597</td>\n",
       "    </tr>\n",
       "    <tr>\n",
       "      <th>2</th>\n",
       "      <td>10012675@N05</td>\n",
       "      <td>3</td>\n",
       "      <td>6</td>\n",
       "      <td>1142916492</td>\n",
       "      <td>1142916492</td>\n",
       "      <td>0</td>\n",
       "    </tr>\n",
       "    <tr>\n",
       "      <th>3</th>\n",
       "      <td>10012675@N05</td>\n",
       "      <td>4</td>\n",
       "      <td>13</td>\n",
       "      <td>1319327174</td>\n",
       "      <td>1319332848</td>\n",
       "      <td>5674</td>\n",
       "    </tr>\n",
       "    <tr>\n",
       "      <th>4</th>\n",
       "      <td>10014440@N06</td>\n",
       "      <td>5</td>\n",
       "      <td>24</td>\n",
       "      <td>1196128621</td>\n",
       "      <td>1196128878</td>\n",
       "      <td>257</td>\n",
       "    </tr>\n",
       "  </tbody>\n",
       "</table>\n",
       "</div>"
      ],
      "text/plain": [
       "         userID  seqID  poiID  arrivalTime  departureTime  poiDuration(sec)\n",
       "0  10007579@N00      1     30   1346844688     1346844688                 0\n",
       "1  10012675@N05      2      6   1142731848     1142732445               597\n",
       "2  10012675@N05      3      6   1142916492     1142916492                 0\n",
       "3  10012675@N05      4     13   1319327174     1319332848              5674\n",
       "4  10014440@N06      5     24   1196128621     1196128878               257"
      ]
     },
     "execution_count": 17,
     "metadata": {},
     "output_type": "execute_result"
    }
   ],
   "source": [
    "seq_all.rename(columns={'amin':'arrivalTime', 'amax':'departureTime'}, inplace=True)\n",
    "seq_all['poiDuration(sec)'] = seq_all['departureTime'] - seq_all['arrivalTime']\n",
    "seq_all.head()"
   ]
  },
  {
   "cell_type": "code",
   "execution_count": 18,
   "metadata": {
    "collapsed": false
   },
   "outputs": [],
   "source": [
    "#tseq = seq_all[['poiID', 'poiDuration(sec)']].copy().groupby('poiID').agg(np.mean)\n",
    "#tseq"
   ]
  },
  {
   "cell_type": "markdown",
   "metadata": {},
   "source": [
    "**Filtering out** all POIs with $0$ duration (i.e., only $1$ photo) in trajectory."
   ]
  },
  {
   "cell_type": "code",
   "execution_count": 19,
   "metadata": {
    "collapsed": true
   },
   "outputs": [],
   "source": [
    "#seq_all = seq_all[seq_all['poiDuration(sec)'] > 0]\n",
    "#sidx = seq_all[seq_all['poiDuration(sec)'] == 0].index\n",
    "#seq_all.loc[sidx, 'poiDuration(sec)'] = 15 * 60  # 15 minutes\n",
    "#lb = 5 * 60  # 5 minutes \n",
    "#lb = 10 * 60  # 10 minutes\n",
    "lb = 30 * 60  # 30 minutes\n",
    "sidx = seq_all[seq_all['poiDuration(sec)'] < lb].index\n",
    "seq_all.loc[sidx, 'poiDuration(sec)'] = lb"
   ]
  },
  {
   "cell_type": "code",
   "execution_count": 20,
   "metadata": {
    "collapsed": true
   },
   "outputs": [],
   "source": [
    "def extract_seq(seqid, seq_all):\n",
    "    seqi = seq_all[seq_all['seqID'] == seqid].copy()\n",
    "    seqi.sort_values(by=['arrivalTime'], ascending=True, inplace=True)\n",
    "    return seqi['poiID'].tolist()"
   ]
  },
  {
   "cell_type": "markdown",
   "metadata": {},
   "source": [
    "Sanity check."
   ]
  },
  {
   "cell_type": "code",
   "execution_count": 21,
   "metadata": {
    "collapsed": false
   },
   "outputs": [
    {
     "name": "stdout",
     "output_type": "stream",
     "text": [
      "[30, 7]\n"
     ]
    },
    {
     "data": {
      "text/html": [
       "<div>\n",
       "<table border=\"1\" class=\"dataframe\">\n",
       "  <thead>\n",
       "    <tr style=\"text-align: right;\">\n",
       "      <th></th>\n",
       "      <th>userID</th>\n",
       "      <th>seqID</th>\n",
       "      <th>poiID</th>\n",
       "      <th>arrivalTime</th>\n",
       "      <th>departureTime</th>\n",
       "      <th>poiDuration(sec)</th>\n",
       "    </tr>\n",
       "  </thead>\n",
       "  <tbody>\n",
       "    <tr>\n",
       "      <th>1269</th>\n",
       "      <td>20741443@N00</td>\n",
       "      <td>921</td>\n",
       "      <td>7</td>\n",
       "      <td>1326611049</td>\n",
       "      <td>1326611144</td>\n",
       "      <td>1800</td>\n",
       "    </tr>\n",
       "    <tr>\n",
       "      <th>1270</th>\n",
       "      <td>20741443@N00</td>\n",
       "      <td>921</td>\n",
       "      <td>30</td>\n",
       "      <td>1326610626</td>\n",
       "      <td>1326610626</td>\n",
       "      <td>1800</td>\n",
       "    </tr>\n",
       "  </tbody>\n",
       "</table>\n",
       "</div>"
      ],
      "text/plain": [
       "            userID  seqID  poiID  arrivalTime  departureTime  poiDuration(sec)\n",
       "1269  20741443@N00    921      7   1326611049     1326611144              1800\n",
       "1270  20741443@N00    921     30   1326610626     1326610626              1800"
      ]
     },
     "execution_count": 21,
     "metadata": {},
     "output_type": "execute_result"
    }
   ],
   "source": [
    "seqid_ = 921\n",
    "print(extract_seq(seqid_, seq_all))\n",
    "seq_all[seq_all['seqID'] == seqid_]"
   ]
  },
  {
   "cell_type": "code",
   "execution_count": 22,
   "metadata": {
    "collapsed": false
   },
   "outputs": [
    {
     "data": {
      "text/html": [
       "<div>\n",
       "<table border=\"1\" class=\"dataframe\">\n",
       "  <thead>\n",
       "    <tr style=\"text-align: right;\">\n",
       "      <th></th>\n",
       "      <th>userID</th>\n",
       "      <th>seqLen</th>\n",
       "    </tr>\n",
       "    <tr>\n",
       "      <th>seqID</th>\n",
       "      <th></th>\n",
       "      <th></th>\n",
       "    </tr>\n",
       "  </thead>\n",
       "  <tbody>\n",
       "    <tr>\n",
       "      <th>1</th>\n",
       "      <td>10007579@N00</td>\n",
       "      <td>1</td>\n",
       "    </tr>\n",
       "    <tr>\n",
       "      <th>2</th>\n",
       "      <td>10012675@N05</td>\n",
       "      <td>1</td>\n",
       "    </tr>\n",
       "    <tr>\n",
       "      <th>3</th>\n",
       "      <td>10012675@N05</td>\n",
       "      <td>1</td>\n",
       "    </tr>\n",
       "    <tr>\n",
       "      <th>4</th>\n",
       "      <td>10012675@N05</td>\n",
       "      <td>1</td>\n",
       "    </tr>\n",
       "    <tr>\n",
       "      <th>5</th>\n",
       "      <td>10014440@N06</td>\n",
       "      <td>1</td>\n",
       "    </tr>\n",
       "  </tbody>\n",
       "</table>\n",
       "</div>"
      ],
      "text/plain": [
       "             userID  seqLen\n",
       "seqID                      \n",
       "1      10007579@N00       1\n",
       "2      10012675@N05       1\n",
       "3      10012675@N05       1\n",
       "4      10012675@N05       1\n",
       "5      10014440@N06       1"
      ]
     },
     "execution_count": 22,
     "metadata": {},
     "output_type": "execute_result"
    }
   ],
   "source": [
    "seq_stats = seq_all[['userID', 'seqID', 'poiID']].copy().groupby(['userID', 'seqID']).agg(np.size)\n",
    "seq_stats.reset_index(inplace=True)\n",
    "seq_stats.rename(columns={'poiID':'seqLen'}, inplace=True)\n",
    "seq_stats.set_index('seqID', inplace=True)\n",
    "seq_stats.head()"
   ]
  },
  {
   "cell_type": "code",
   "execution_count": 23,
   "metadata": {
    "collapsed": false
   },
   "outputs": [
    {
     "data": {
      "image/png": "[encoded data removed]",
      "text/plain": [
       "<matplotlib.figure.Figure at 0x7feaef0bcbe0>"
      ]
     },
     "metadata": {},
     "output_type": "display_data"
    }
   ],
   "source": [
    "ax = seq_stats['seqLen'].hist(bins=20)\n",
    "ax.set_yscale('log')"
   ]
  },
  {
   "cell_type": "markdown",
   "metadata": {},
   "source": [
    "<a id='sec3.4'></a>"
   ]
  },
  {
   "cell_type": "markdown",
   "metadata": {},
   "source": [
    "## 3.4 Transition Matrix"
   ]
  },
  {
   "cell_type": "markdown",
   "metadata": {},
   "source": [
    "### 3.4.1 Transition Matrix for Time at POI"
   ]
  },
  {
   "cell_type": "code",
   "execution_count": 24,
   "metadata": {
    "collapsed": true
   },
   "outputs": [],
   "source": [
    "users = seq_all['userID'].unique()\n",
    "transmat_time = pd.DataFrame(np.zeros((len(users), poi_all.index.shape[0]), dtype=np.float64), \\\n",
    "                             index=users, columns=poi_all.index)"
   ]
  },
  {
   "cell_type": "code",
   "execution_count": 25,
   "metadata": {
    "collapsed": false
   },
   "outputs": [
    {
     "data": {
      "text/html": [
       "<div>\n",
       "<table border=\"1\" class=\"dataframe\">\n",
       "  <thead>\n",
       "    <tr style=\"text-align: right;\">\n",
       "      <th></th>\n",
       "      <th></th>\n",
       "      <th>poiDuration(sec)</th>\n",
       "    </tr>\n",
       "    <tr>\n",
       "      <th>userID</th>\n",
       "      <th>poiID</th>\n",
       "      <th></th>\n",
       "    </tr>\n",
       "  </thead>\n",
       "  <tbody>\n",
       "    <tr>\n",
       "      <th>10007579@N00</th>\n",
       "      <th>30</th>\n",
       "      <td>1800</td>\n",
       "    </tr>\n",
       "    <tr>\n",
       "      <th rowspan=\"2\" valign=\"top\">10012675@N05</th>\n",
       "      <th>6</th>\n",
       "      <td>3600</td>\n",
       "    </tr>\n",
       "    <tr>\n",
       "      <th>13</th>\n",
       "      <td>5674</td>\n",
       "    </tr>\n",
       "    <tr>\n",
       "      <th rowspan=\"2\" valign=\"top\">10014440@N06</th>\n",
       "      <th>4</th>\n",
       "      <td>1800</td>\n",
       "    </tr>\n",
       "    <tr>\n",
       "      <th>17</th>\n",
       "      <td>31482</td>\n",
       "    </tr>\n",
       "  </tbody>\n",
       "</table>\n",
       "</div>"
      ],
      "text/plain": [
       "                    poiDuration(sec)\n",
       "userID       poiID                  \n",
       "10007579@N00 30                 1800\n",
       "10012675@N05 6                  3600\n",
       "             13                 5674\n",
       "10014440@N06 4                  1800\n",
       "             17                31482"
      ]
     },
     "execution_count": 25,
     "metadata": {},
     "output_type": "execute_result"
    }
   ],
   "source": [
    "poi_time = seq_all[['userID', 'poiID', 'poiDuration(sec)']].copy().groupby(['userID', 'poiID']).agg(np.sum)\n",
    "poi_time.head()"
   ]
  },
  {
   "cell_type": "code",
   "execution_count": 26,
   "metadata": {
    "collapsed": false
   },
   "outputs": [
    {
     "name": "stdout",
     "output_type": "stream",
     "text": [
      "(1395, 29)\n"
     ]
    },
    {
     "data": {
      "text/html": [
       "<div>\n",
       "<table border=\"1\" class=\"dataframe\">\n",
       "  <thead>\n",
       "    <tr style=\"text-align: right;\">\n",
       "      <th>poiID</th>\n",
       "      <th>1</th>\n",
       "      <th>2</th>\n",
       "      <th>3</th>\n",
       "      <th>4</th>\n",
       "      <th>6</th>\n",
       "      <th>7</th>\n",
       "      <th>8</th>\n",
       "      <th>9</th>\n",
       "      <th>10</th>\n",
       "      <th>11</th>\n",
       "      <th>...</th>\n",
       "      <th>21</th>\n",
       "      <th>22</th>\n",
       "      <th>23</th>\n",
       "      <th>24</th>\n",
       "      <th>25</th>\n",
       "      <th>26</th>\n",
       "      <th>27</th>\n",
       "      <th>28</th>\n",
       "      <th>29</th>\n",
       "      <th>30</th>\n",
       "    </tr>\n",
       "  </thead>\n",
       "  <tbody>\n",
       "    <tr>\n",
       "      <th>10007579@N00</th>\n",
       "      <td>0</td>\n",
       "      <td>0</td>\n",
       "      <td>0</td>\n",
       "      <td>0</td>\n",
       "      <td>0</td>\n",
       "      <td>0</td>\n",
       "      <td>0</td>\n",
       "      <td>0</td>\n",
       "      <td>0</td>\n",
       "      <td>0</td>\n",
       "      <td>...</td>\n",
       "      <td>0</td>\n",
       "      <td>0</td>\n",
       "      <td>0</td>\n",
       "      <td>0</td>\n",
       "      <td>0</td>\n",
       "      <td>0</td>\n",
       "      <td>0</td>\n",
       "      <td>0</td>\n",
       "      <td>0</td>\n",
       "      <td>1800</td>\n",
       "    </tr>\n",
       "    <tr>\n",
       "      <th>10012675@N05</th>\n",
       "      <td>0</td>\n",
       "      <td>0</td>\n",
       "      <td>0</td>\n",
       "      <td>0</td>\n",
       "      <td>3600</td>\n",
       "      <td>0</td>\n",
       "      <td>0</td>\n",
       "      <td>0</td>\n",
       "      <td>0</td>\n",
       "      <td>0</td>\n",
       "      <td>...</td>\n",
       "      <td>0</td>\n",
       "      <td>0</td>\n",
       "      <td>0</td>\n",
       "      <td>0</td>\n",
       "      <td>0</td>\n",
       "      <td>0</td>\n",
       "      <td>0</td>\n",
       "      <td>0</td>\n",
       "      <td>0</td>\n",
       "      <td>0</td>\n",
       "    </tr>\n",
       "    <tr>\n",
       "      <th>10014440@N06</th>\n",
       "      <td>0</td>\n",
       "      <td>0</td>\n",
       "      <td>0</td>\n",
       "      <td>1800</td>\n",
       "      <td>0</td>\n",
       "      <td>0</td>\n",
       "      <td>0</td>\n",
       "      <td>0</td>\n",
       "      <td>0</td>\n",
       "      <td>0</td>\n",
       "      <td>...</td>\n",
       "      <td>0</td>\n",
       "      <td>0</td>\n",
       "      <td>7200</td>\n",
       "      <td>10800</td>\n",
       "      <td>7991</td>\n",
       "      <td>0</td>\n",
       "      <td>0</td>\n",
       "      <td>0</td>\n",
       "      <td>0</td>\n",
       "      <td>0</td>\n",
       "    </tr>\n",
       "    <tr>\n",
       "      <th>10031363@N00</th>\n",
       "      <td>0</td>\n",
       "      <td>0</td>\n",
       "      <td>1800</td>\n",
       "      <td>0</td>\n",
       "      <td>0</td>\n",
       "      <td>1800</td>\n",
       "      <td>0</td>\n",
       "      <td>0</td>\n",
       "      <td>0</td>\n",
       "      <td>0</td>\n",
       "      <td>...</td>\n",
       "      <td>3600</td>\n",
       "      <td>1800</td>\n",
       "      <td>0</td>\n",
       "      <td>0</td>\n",
       "      <td>3600</td>\n",
       "      <td>0</td>\n",
       "      <td>0</td>\n",
       "      <td>0</td>\n",
       "      <td>0</td>\n",
       "      <td>0</td>\n",
       "    </tr>\n",
       "    <tr>\n",
       "      <th>10116041@N02</th>\n",
       "      <td>0</td>\n",
       "      <td>0</td>\n",
       "      <td>0</td>\n",
       "      <td>0</td>\n",
       "      <td>0</td>\n",
       "      <td>0</td>\n",
       "      <td>0</td>\n",
       "      <td>0</td>\n",
       "      <td>0</td>\n",
       "      <td>0</td>\n",
       "      <td>...</td>\n",
       "      <td>0</td>\n",
       "      <td>5400</td>\n",
       "      <td>0</td>\n",
       "      <td>0</td>\n",
       "      <td>0</td>\n",
       "      <td>0</td>\n",
       "      <td>0</td>\n",
       "      <td>0</td>\n",
       "      <td>0</td>\n",
       "      <td>0</td>\n",
       "    </tr>\n",
       "  </tbody>\n",
       "</table>\n",
       "<p>5 rows × 29 columns</p>\n",
       "</div>"
      ],
      "text/plain": [
       "poiID         1   2     3     4     6     7   8   9   10  11  ...     21  \\\n",
       "10007579@N00   0   0     0     0     0     0   0   0   0   0  ...      0   \n",
       "10012675@N05   0   0     0     0  3600     0   0   0   0   0  ...      0   \n",
       "10014440@N06   0   0     0  1800     0     0   0   0   0   0  ...      0   \n",
       "10031363@N00   0   0  1800     0     0  1800   0   0   0   0  ...   3600   \n",
       "10116041@N02   0   0     0     0     0     0   0   0   0   0  ...      0   \n",
       "\n",
       "poiID           22    23     24    25  26  27  28  29    30  \n",
       "10007579@N00     0     0      0     0   0   0   0   0  1800  \n",
       "10012675@N05     0     0      0     0   0   0   0   0     0  \n",
       "10014440@N06     0  7200  10800  7991   0   0   0   0     0  \n",
       "10031363@N00  1800     0      0  3600   0   0   0   0     0  \n",
       "10116041@N02  5400     0      0     0   0   0   0   0     0  \n",
       "\n",
       "[5 rows x 29 columns]"
      ]
     },
     "execution_count": 26,
     "metadata": {},
     "output_type": "execute_result"
    }
   ],
   "source": [
    "for idx in poi_time.index:\n",
    "    transmat_time.loc[idx[0], idx[1]] += poi_time.loc[idx].iloc[0]\n",
    "print(transmat_time.shape)\n",
    "transmat_time.head()"
   ]
  },
  {
   "cell_type": "code",
   "execution_count": 27,
   "metadata": {
    "collapsed": false
   },
   "outputs": [
    {
     "name": "stdout",
     "output_type": "stream",
     "text": [
      "(1395, 29)\n"
     ]
    },
    {
     "data": {
      "text/html": [
       "<div>\n",
       "<table border=\"1\" class=\"dataframe\">\n",
       "  <thead>\n",
       "    <tr style=\"text-align: right;\">\n",
       "      <th>poiID</th>\n",
       "      <th>1</th>\n",
       "      <th>2</th>\n",
       "      <th>3</th>\n",
       "      <th>4</th>\n",
       "      <th>6</th>\n",
       "      <th>7</th>\n",
       "      <th>8</th>\n",
       "      <th>9</th>\n",
       "      <th>10</th>\n",
       "      <th>11</th>\n",
       "      <th>...</th>\n",
       "      <th>21</th>\n",
       "      <th>22</th>\n",
       "      <th>23</th>\n",
       "      <th>24</th>\n",
       "      <th>25</th>\n",
       "      <th>26</th>\n",
       "      <th>27</th>\n",
       "      <th>28</th>\n",
       "      <th>29</th>\n",
       "      <th>30</th>\n",
       "    </tr>\n",
       "  </thead>\n",
       "  <tbody>\n",
       "    <tr>\n",
       "      <th>10007579@N00</th>\n",
       "      <td>0</td>\n",
       "      <td>0</td>\n",
       "      <td>0.000000</td>\n",
       "      <td>0.000000</td>\n",
       "      <td>0.000000</td>\n",
       "      <td>0.000000</td>\n",
       "      <td>0</td>\n",
       "      <td>0</td>\n",
       "      <td>0</td>\n",
       "      <td>0</td>\n",
       "      <td>...</td>\n",
       "      <td>0.000000</td>\n",
       "      <td>0.000000</td>\n",
       "      <td>0.000000</td>\n",
       "      <td>0.000000</td>\n",
       "      <td>0.000000</td>\n",
       "      <td>0</td>\n",
       "      <td>0</td>\n",
       "      <td>0</td>\n",
       "      <td>0</td>\n",
       "      <td>3.255514</td>\n",
       "    </tr>\n",
       "    <tr>\n",
       "      <th>10012675@N05</th>\n",
       "      <td>0</td>\n",
       "      <td>0</td>\n",
       "      <td>0.000000</td>\n",
       "      <td>0.000000</td>\n",
       "      <td>3.556423</td>\n",
       "      <td>0.000000</td>\n",
       "      <td>0</td>\n",
       "      <td>0</td>\n",
       "      <td>0</td>\n",
       "      <td>0</td>\n",
       "      <td>...</td>\n",
       "      <td>0.000000</td>\n",
       "      <td>0.000000</td>\n",
       "      <td>0.000000</td>\n",
       "      <td>0.000000</td>\n",
       "      <td>0.000000</td>\n",
       "      <td>0</td>\n",
       "      <td>0</td>\n",
       "      <td>0</td>\n",
       "      <td>0</td>\n",
       "      <td>0.000000</td>\n",
       "    </tr>\n",
       "    <tr>\n",
       "      <th>10014440@N06</th>\n",
       "      <td>0</td>\n",
       "      <td>0</td>\n",
       "      <td>0.000000</td>\n",
       "      <td>3.255514</td>\n",
       "      <td>0.000000</td>\n",
       "      <td>0.000000</td>\n",
       "      <td>0</td>\n",
       "      <td>0</td>\n",
       "      <td>0</td>\n",
       "      <td>0</td>\n",
       "      <td>...</td>\n",
       "      <td>0.000000</td>\n",
       "      <td>0.000000</td>\n",
       "      <td>3.857393</td>\n",
       "      <td>4.033464</td>\n",
       "      <td>3.902655</td>\n",
       "      <td>0</td>\n",
       "      <td>0</td>\n",
       "      <td>0</td>\n",
       "      <td>0</td>\n",
       "      <td>0.000000</td>\n",
       "    </tr>\n",
       "    <tr>\n",
       "      <th>10031363@N00</th>\n",
       "      <td>0</td>\n",
       "      <td>0</td>\n",
       "      <td>3.255514</td>\n",
       "      <td>0.000000</td>\n",
       "      <td>0.000000</td>\n",
       "      <td>3.255514</td>\n",
       "      <td>0</td>\n",
       "      <td>0</td>\n",
       "      <td>0</td>\n",
       "      <td>0</td>\n",
       "      <td>...</td>\n",
       "      <td>3.556423</td>\n",
       "      <td>3.255514</td>\n",
       "      <td>0.000000</td>\n",
       "      <td>0.000000</td>\n",
       "      <td>3.556423</td>\n",
       "      <td>0</td>\n",
       "      <td>0</td>\n",
       "      <td>0</td>\n",
       "      <td>0</td>\n",
       "      <td>0.000000</td>\n",
       "    </tr>\n",
       "    <tr>\n",
       "      <th>10116041@N02</th>\n",
       "      <td>0</td>\n",
       "      <td>0</td>\n",
       "      <td>0.000000</td>\n",
       "      <td>0.000000</td>\n",
       "      <td>0.000000</td>\n",
       "      <td>0.000000</td>\n",
       "      <td>0</td>\n",
       "      <td>0</td>\n",
       "      <td>0</td>\n",
       "      <td>0</td>\n",
       "      <td>...</td>\n",
       "      <td>0.000000</td>\n",
       "      <td>3.732474</td>\n",
       "      <td>0.000000</td>\n",
       "      <td>0.000000</td>\n",
       "      <td>0.000000</td>\n",
       "      <td>0</td>\n",
       "      <td>0</td>\n",
       "      <td>0</td>\n",
       "      <td>0</td>\n",
       "      <td>0.000000</td>\n",
       "    </tr>\n",
       "  </tbody>\n",
       "</table>\n",
       "<p>5 rows × 29 columns</p>\n",
       "</div>"
      ],
      "text/plain": [
       "poiID         1   2         3         4         6         7   8   9   10  11  \\\n",
       "10007579@N00   0   0  0.000000  0.000000  0.000000  0.000000   0   0   0   0   \n",
       "10012675@N05   0   0  0.000000  0.000000  3.556423  0.000000   0   0   0   0   \n",
       "10014440@N06   0   0  0.000000  3.255514  0.000000  0.000000   0   0   0   0   \n",
       "10031363@N00   0   0  3.255514  0.000000  0.000000  3.255514   0   0   0   0   \n",
       "10116041@N02   0   0  0.000000  0.000000  0.000000  0.000000   0   0   0   0   \n",
       "\n",
       "poiID           ...           21        22        23        24        25  26  \\\n",
       "10007579@N00    ...     0.000000  0.000000  0.000000  0.000000  0.000000   0   \n",
       "10012675@N05    ...     0.000000  0.000000  0.000000  0.000000  0.000000   0   \n",
       "10014440@N06    ...     0.000000  0.000000  3.857393  4.033464  3.902655   0   \n",
       "10031363@N00    ...     3.556423  3.255514  0.000000  0.000000  3.556423   0   \n",
       "10116041@N02    ...     0.000000  3.732474  0.000000  0.000000  0.000000   0   \n",
       "\n",
       "poiID         27  28  29        30  \n",
       "10007579@N00   0   0   0  3.255514  \n",
       "10012675@N05   0   0   0  0.000000  \n",
       "10014440@N06   0   0   0  0.000000  \n",
       "10031363@N00   0   0   0  0.000000  \n",
       "10116041@N02   0   0   0  0.000000  \n",
       "\n",
       "[5 rows x 29 columns]"
      ]
     },
     "execution_count": 27,
     "metadata": {},
     "output_type": "execute_result"
    }
   ],
   "source": [
    "# add 1 (sec) to each cell as a smooth factor\n",
    "log10_transmat_time = np.log10(transmat_time.copy() + 1)\n",
    "print(log10_transmat_time.shape)\n",
    "log10_transmat_time.head()"
   ]
  },
  {
   "cell_type": "markdown",
   "metadata": {},
   "source": [
    "### 3.4.2 Transition Matrix for POI Category"
   ]
  },
  {
   "cell_type": "code",
   "execution_count": 28,
   "metadata": {
    "collapsed": false
   },
   "outputs": [
    {
     "data": {
      "text/plain": [
       "['Amusement', 'Beach', 'Cultural', 'Shopping', 'Sport', 'Structure']"
      ]
     },
     "execution_count": 28,
     "metadata": {},
     "output_type": "execute_result"
    }
   ],
   "source": [
    "poi_cats = traj['poiTheme'].unique().tolist()\n",
    "poi_cats.sort()\n",
    "poi_cats"
   ]
  },
  {
   "cell_type": "code",
   "execution_count": 29,
   "metadata": {
    "collapsed": true
   },
   "outputs": [],
   "source": [
    "ncats = len(poi_cats)\n",
    "transmat_cat = pd.DataFrame(data=np.zeros((ncats, ncats), dtype=np.float64), index=poi_cats, columns=poi_cats)"
   ]
  },
  {
   "cell_type": "code",
   "execution_count": 30,
   "metadata": {
    "collapsed": false
   },
   "outputs": [
    {
     "data": {
      "text/html": [
       "<div>\n",
       "<table border=\"1\" class=\"dataframe\">\n",
       "  <thead>\n",
       "    <tr style=\"text-align: right;\">\n",
       "      <th></th>\n",
       "      <th>Amusement</th>\n",
       "      <th>Beach</th>\n",
       "      <th>Cultural</th>\n",
       "      <th>Shopping</th>\n",
       "      <th>Sport</th>\n",
       "      <th>Structure</th>\n",
       "    </tr>\n",
       "  </thead>\n",
       "  <tbody>\n",
       "    <tr>\n",
       "      <th>Amusement</th>\n",
       "      <td>14</td>\n",
       "      <td>20</td>\n",
       "      <td>51</td>\n",
       "      <td>17</td>\n",
       "      <td>35</td>\n",
       "      <td>16</td>\n",
       "    </tr>\n",
       "    <tr>\n",
       "      <th>Beach</th>\n",
       "      <td>18</td>\n",
       "      <td>43</td>\n",
       "      <td>61</td>\n",
       "      <td>92</td>\n",
       "      <td>19</td>\n",
       "      <td>106</td>\n",
       "    </tr>\n",
       "    <tr>\n",
       "      <th>Cultural</th>\n",
       "      <td>46</td>\n",
       "      <td>70</td>\n",
       "      <td>40</td>\n",
       "      <td>72</td>\n",
       "      <td>22</td>\n",
       "      <td>94</td>\n",
       "    </tr>\n",
       "    <tr>\n",
       "      <th>Shopping</th>\n",
       "      <td>16</td>\n",
       "      <td>101</td>\n",
       "      <td>58</td>\n",
       "      <td>16</td>\n",
       "      <td>19</td>\n",
       "      <td>71</td>\n",
       "    </tr>\n",
       "    <tr>\n",
       "      <th>Sport</th>\n",
       "      <td>42</td>\n",
       "      <td>23</td>\n",
       "      <td>21</td>\n",
       "      <td>13</td>\n",
       "      <td>8</td>\n",
       "      <td>21</td>\n",
       "    </tr>\n",
       "    <tr>\n",
       "      <th>Structure</th>\n",
       "      <td>26</td>\n",
       "      <td>91</td>\n",
       "      <td>81</td>\n",
       "      <td>59</td>\n",
       "      <td>24</td>\n",
       "      <td>24</td>\n",
       "    </tr>\n",
       "  </tbody>\n",
       "</table>\n",
       "</div>"
      ],
      "text/plain": [
       "           Amusement  Beach  Cultural  Shopping  Sport  Structure\n",
       "Amusement         14     20        51        17     35         16\n",
       "Beach             18     43        61        92     19        106\n",
       "Cultural          46     70        40        72     22         94\n",
       "Shopping          16    101        58        16     19         71\n",
       "Sport             42     23        21        13      8         21\n",
       "Structure         26     91        81        59     24         24"
      ]
     },
     "execution_count": 30,
     "metadata": {},
     "output_type": "execute_result"
    }
   ],
   "source": [
    "for seqid in seq_all['seqID'].unique().tolist():\n",
    "    seqi = seq_all[seq_all['seqID'] == seqid].copy()\n",
    "    seqi.sort_values(by=['arrivalTime'], ascending=True, inplace=True)\n",
    "    for j in range(len(seqi.index)-1):\n",
    "        idx1 = seqi.index[j]\n",
    "        idx2 = seqi.index[j+1]\n",
    "        poi1 = seqi.loc[idx1, 'poiID']\n",
    "        poi2 = seqi.loc[idx2, 'poiID']\n",
    "        cat1 = poi_all.loc[poi1, 'poiTheme']\n",
    "        cat2 = poi_all.loc[poi2, 'poiTheme']\n",
    "        transmat_cat.loc[cat1, cat2] += 1\n",
    "transmat_cat"
   ]
  },
  {
   "cell_type": "markdown",
   "metadata": {},
   "source": [
    "Normalise each row to get an estimate of transition probabilities (MLE)."
   ]
  },
  {
   "cell_type": "code",
   "execution_count": 31,
   "metadata": {
    "collapsed": false
   },
   "outputs": [
    {
     "data": {
      "text/html": [
       "<div>\n",
       "<table border=\"1\" class=\"dataframe\">\n",
       "  <thead>\n",
       "    <tr style=\"text-align: right;\">\n",
       "      <th></th>\n",
       "      <th>Amusement</th>\n",
       "      <th>Beach</th>\n",
       "      <th>Cultural</th>\n",
       "      <th>Shopping</th>\n",
       "      <th>Sport</th>\n",
       "      <th>Structure</th>\n",
       "    </tr>\n",
       "  </thead>\n",
       "  <tbody>\n",
       "    <tr>\n",
       "      <th>Amusement</th>\n",
       "      <td>0.091503</td>\n",
       "      <td>0.130719</td>\n",
       "      <td>0.333333</td>\n",
       "      <td>0.111111</td>\n",
       "      <td>0.228758</td>\n",
       "      <td>0.104575</td>\n",
       "    </tr>\n",
       "    <tr>\n",
       "      <th>Beach</th>\n",
       "      <td>0.053097</td>\n",
       "      <td>0.126844</td>\n",
       "      <td>0.179941</td>\n",
       "      <td>0.271386</td>\n",
       "      <td>0.056047</td>\n",
       "      <td>0.312684</td>\n",
       "    </tr>\n",
       "    <tr>\n",
       "      <th>Cultural</th>\n",
       "      <td>0.133721</td>\n",
       "      <td>0.203488</td>\n",
       "      <td>0.116279</td>\n",
       "      <td>0.209302</td>\n",
       "      <td>0.063953</td>\n",
       "      <td>0.273256</td>\n",
       "    </tr>\n",
       "    <tr>\n",
       "      <th>Shopping</th>\n",
       "      <td>0.056940</td>\n",
       "      <td>0.359431</td>\n",
       "      <td>0.206406</td>\n",
       "      <td>0.056940</td>\n",
       "      <td>0.067616</td>\n",
       "      <td>0.252669</td>\n",
       "    </tr>\n",
       "    <tr>\n",
       "      <th>Sport</th>\n",
       "      <td>0.328125</td>\n",
       "      <td>0.179688</td>\n",
       "      <td>0.164062</td>\n",
       "      <td>0.101562</td>\n",
       "      <td>0.062500</td>\n",
       "      <td>0.164062</td>\n",
       "    </tr>\n",
       "    <tr>\n",
       "      <th>Structure</th>\n",
       "      <td>0.085246</td>\n",
       "      <td>0.298361</td>\n",
       "      <td>0.265574</td>\n",
       "      <td>0.193443</td>\n",
       "      <td>0.078689</td>\n",
       "      <td>0.078689</td>\n",
       "    </tr>\n",
       "  </tbody>\n",
       "</table>\n",
       "</div>"
      ],
      "text/plain": [
       "           Amusement     Beach  Cultural  Shopping     Sport  Structure\n",
       "Amusement   0.091503  0.130719  0.333333  0.111111  0.228758   0.104575\n",
       "Beach       0.053097  0.126844  0.179941  0.271386  0.056047   0.312684\n",
       "Cultural    0.133721  0.203488  0.116279  0.209302  0.063953   0.273256\n",
       "Shopping    0.056940  0.359431  0.206406  0.056940  0.067616   0.252669\n",
       "Sport       0.328125  0.179688  0.164062  0.101562  0.062500   0.164062\n",
       "Structure   0.085246  0.298361  0.265574  0.193443  0.078689   0.078689"
      ]
     },
     "execution_count": 31,
     "metadata": {},
     "output_type": "execute_result"
    }
   ],
   "source": [
    "for r in transmat_cat.index:\n",
    "    rowsum = transmat_cat.ix[r].sum()\n",
    "    if rowsum == 0: continue  # deal with lack of data\n",
    "    transmat_cat.loc[r] /= rowsum\n",
    "transmat_cat"
   ]
  },
  {
   "cell_type": "markdown",
   "metadata": {},
   "source": [
    "Compute the log of transition probabilities with smooth factor $\\epsilon=10^{-12}$."
   ]
  },
  {
   "cell_type": "code",
   "execution_count": 32,
   "metadata": {
    "collapsed": false
   },
   "outputs": [
    {
     "data": {
      "text/html": [
       "<div>\n",
       "<table border=\"1\" class=\"dataframe\">\n",
       "  <thead>\n",
       "    <tr style=\"text-align: right;\">\n",
       "      <th></th>\n",
       "      <th>Amusement</th>\n",
       "      <th>Beach</th>\n",
       "      <th>Cultural</th>\n",
       "      <th>Shopping</th>\n",
       "      <th>Sport</th>\n",
       "      <th>Structure</th>\n",
       "    </tr>\n",
       "  </thead>\n",
       "  <tbody>\n",
       "    <tr>\n",
       "      <th>Amusement</th>\n",
       "      <td>-1.038563</td>\n",
       "      <td>-0.883661</td>\n",
       "      <td>-0.477121</td>\n",
       "      <td>-0.954243</td>\n",
       "      <td>-0.640623</td>\n",
       "      <td>-0.980571</td>\n",
       "    </tr>\n",
       "    <tr>\n",
       "      <th>Beach</th>\n",
       "      <td>-1.274927</td>\n",
       "      <td>-0.896731</td>\n",
       "      <td>-0.744870</td>\n",
       "      <td>-0.566412</td>\n",
       "      <td>-1.251446</td>\n",
       "      <td>-0.504894</td>\n",
       "    </tr>\n",
       "    <tr>\n",
       "      <th>Cultural</th>\n",
       "      <td>-0.873801</td>\n",
       "      <td>-0.691460</td>\n",
       "      <td>-0.934498</td>\n",
       "      <td>-0.679226</td>\n",
       "      <td>-1.194136</td>\n",
       "      <td>-0.563431</td>\n",
       "    </tr>\n",
       "    <tr>\n",
       "      <th>Shopping</th>\n",
       "      <td>-1.244586</td>\n",
       "      <td>-0.444385</td>\n",
       "      <td>-0.685278</td>\n",
       "      <td>-1.244586</td>\n",
       "      <td>-1.169953</td>\n",
       "      <td>-0.597448</td>\n",
       "    </tr>\n",
       "    <tr>\n",
       "      <th>Sport</th>\n",
       "      <td>-0.483961</td>\n",
       "      <td>-0.745482</td>\n",
       "      <td>-0.784991</td>\n",
       "      <td>-0.993267</td>\n",
       "      <td>-1.204120</td>\n",
       "      <td>-0.784991</td>\n",
       "    </tr>\n",
       "    <tr>\n",
       "      <th>Structure</th>\n",
       "      <td>-1.069326</td>\n",
       "      <td>-0.525258</td>\n",
       "      <td>-0.575815</td>\n",
       "      <td>-0.713448</td>\n",
       "      <td>-1.104089</td>\n",
       "      <td>-1.104089</td>\n",
       "    </tr>\n",
       "  </tbody>\n",
       "</table>\n",
       "</div>"
      ],
      "text/plain": [
       "           Amusement     Beach  Cultural  Shopping     Sport  Structure\n",
       "Amusement  -1.038563 -0.883661 -0.477121 -0.954243 -0.640623  -0.980571\n",
       "Beach      -1.274927 -0.896731 -0.744870 -0.566412 -1.251446  -0.504894\n",
       "Cultural   -0.873801 -0.691460 -0.934498 -0.679226 -1.194136  -0.563431\n",
       "Shopping   -1.244586 -0.444385 -0.685278 -1.244586 -1.169953  -0.597448\n",
       "Sport      -0.483961 -0.745482 -0.784991 -0.993267 -1.204120  -0.784991\n",
       "Structure  -1.069326 -0.525258 -0.575815 -0.713448 -1.104089  -1.104089"
      ]
     },
     "execution_count": 32,
     "metadata": {},
     "output_type": "execute_result"
    }
   ],
   "source": [
    "log10_transmat_cat = np.log10(transmat_cat.copy() + 1e-12)\n",
    "log10_transmat_cat"
   ]
  },
  {
   "cell_type": "markdown",
   "metadata": {},
   "source": [
    "<a id='sec4'></a>"
   ]
  },
  {
   "cell_type": "markdown",
   "metadata": {},
   "source": [
    "# 4. Trajectory Recommendation - Leave-one-out CV"
   ]
  },
  {
   "cell_type": "markdown",
   "metadata": {},
   "source": [
    "We evaluate each trajectory (if length $ \\ge 3$) of all trajectories once (while using the remaining to train), as a result, the number of evaluation metrics (e.g. F1) is the number of trajectories of length $ \\ge 3$ for the whole evaluation process."
   ]
  },
  {
   "cell_type": "markdown",
   "metadata": {},
   "source": [
    "## 4.2 Recommendation by Solving ILPs"
   ]
  },
  {
   "cell_type": "markdown",
   "metadata": {},
   "source": [
    "Compute POI popularity and average visit duration."
   ]
  },
  {
   "cell_type": "code",
   "execution_count": 33,
   "metadata": {
    "collapsed": true
   },
   "outputs": [],
   "source": [
    "def calc_poi_info(seqid_set, seq_all, poi_all):\n",
    "    poi_info = seq_all[seq_all['seqID'].isin(seqid_set)][['poiID', 'poiDuration(sec)']].copy()\n",
    "    poi_info = poi_info.groupby('poiID').agg([np.mean, np.size])\n",
    "    poi_info.columns = poi_info.columns.droplevel()\n",
    "    poi_info.reset_index(inplace=True)\n",
    "    poi_info.rename(columns={'mean':'avgDuration(sec)', 'size':'nVisit'}, inplace=True)\n",
    "    poi_info.set_index('poiID', inplace=True)\n",
    "    poi_info['poiTheme'] = poi_all.loc[poi_info.index, 'poiTheme']\n",
    "    poi_info['poiLon'] = poi_all.loc[poi_info.index, 'poiLon']\n",
    "    poi_info['poiLat'] = poi_all.loc[poi_info.index, 'poiLat']\n",
    "    poi_info['poiFreq'] = poi_all.loc[poi_info.index, 'poiFreq']\n",
    "    \n",
    "    # POI popularity: the number of distinct users that visited the POI\n",
    "    pop_df = seq_all[seq_all['seqID'].isin(seqid_set)][['poiID', 'userID']].copy()\n",
    "    pop_df = pop_df.groupby('poiID').agg(pd.Series.nunique)\n",
    "    pop_df.rename(columns={'userID':'nunique'}, inplace=True)\n",
    "    poi_info['popularity'] = pop_df.loc[poi_info.index, 'nunique']\n",
    "    \n",
    "    return poi_info.copy()"
   ]
  },
  {
   "cell_type": "markdown",
   "metadata": {},
   "source": [
    "Compute time/frequence-based user interest."
   ]
  },
  {
   "cell_type": "code",
   "execution_count": 34,
   "metadata": {
    "collapsed": true
   },
   "outputs": [],
   "source": [
    "def calc_user_interest(seqid_set, seq_all, poi_all, poi_info):\n",
    "    user_interest = seq_all[seq_all['seqID'].isin(seqid_set)][['userID', 'poiID', 'poiDuration(sec)']].copy()\n",
    "    user_interest['timeRatio'] = [poi_info.loc[x, 'avgDuration(sec)'] for x in user_interest['poiID']]\n",
    "    user_interest['timeRatio'] = user_interest['poiDuration(sec)'] / user_interest['timeRatio']\n",
    "    user_interest['poiTheme'] = [poi_all.loc[x, 'poiTheme'] for x in user_interest['poiID']]\n",
    "    user_interest.drop(['poiID', 'poiDuration(sec)'], axis=1, inplace=True)\n",
    "    user_interest = user_interest.groupby(['userID', 'poiTheme']).agg([np.sum, np.size]) # the sum\n",
    "    user_interest.columns = user_interest.columns.droplevel()\n",
    "    user_interest.rename(columns={'sum':'timeBased', 'size':'freqBased'}, inplace=True)\n",
    "    user_interest.reset_index(inplace=True)\n",
    "    user_interest.set_index(['userID', 'poiTheme'], inplace=True)\n",
    "    return user_interest.copy()"
   ]
  },
  {
   "cell_type": "markdown",
   "metadata": {},
   "source": [
    "Compute distance between POIs using [the haversine formula](https://en.wikipedia.org/wiki/Great-circle_distance)."
   ]
  },
  {
   "cell_type": "code",
   "execution_count": 35,
   "metadata": {
    "collapsed": true
   },
   "outputs": [],
   "source": [
    "def calc_dist(longitude1, latitude1, longitude2, latitude2):\n",
    "    \"\"\"Calculate the distance (unit: km) between two places on earth\"\"\"\n",
    "    # convert degrees to radians\n",
    "    lon1 = math.radians(longitude1)\n",
    "    lat1 = math.radians(latitude1)\n",
    "    lon2 = math.radians(longitude2)\n",
    "    lat2 = math.radians(latitude2)\n",
    "    radius = 6371.009 # mean earth radius is 6371.009km, en.wikipedia.org/wiki/Earth_radius#Mean_radius\n",
    "    # The haversine formula, en.wikipedia.org/wiki/Great-circle_distance\n",
    "    dlon = math.fabs(lon1 - lon2)\n",
    "    dlat = math.fabs(lat1 - lat2)\n",
    "    return 2 * radius * math.asin(math.sqrt(\\\n",
    "               (math.sin(0.5*dlat))**2 + math.cos(lat1) * math.cos(lat2) * (math.sin(0.5*dlon))**2 ))"
   ]
  },
  {
   "cell_type": "markdown",
   "metadata": {},
   "source": [
    "Compute the distance matrix for all POI pairs."
   ]
  },
  {
   "cell_type": "code",
   "execution_count": 36,
   "metadata": {
    "collapsed": true
   },
   "outputs": [],
   "source": [
    "def calc_dist_mat(poi_info):\n",
    "    poi_dist_mat = pd.DataFrame(data=np.zeros((poi_info.shape[0], poi_info.shape[0]), dtype=np.float64), \\\n",
    "                            index=poi_info.index, columns=poi_info.index)\n",
    "    for i in range(poi_info.index.shape[0]):\n",
    "        for j in range(i+1, poi_info.index.shape[0]):\n",
    "            r = poi_info.index[i]\n",
    "            c = poi_info.index[j]\n",
    "            dist = calc_dist(poi_info.loc[r, 'poiLon'], poi_info.loc[r, 'poiLat'], \\\n",
    "                             poi_info.loc[c, 'poiLon'], poi_info.loc[c, 'poiLat'])\n",
    "            assert(dist > 0.)\n",
    "            poi_dist_mat.loc[r, c] = dist\n",
    "            poi_dist_mat.loc[c, r] = dist\n",
    "    return poi_dist_mat"
   ]
  },
  {
   "cell_type": "markdown",
   "metadata": {},
   "source": [
    "Compute the time budget for a specific sequence of a user."
   ]
  },
  {
   "cell_type": "code",
   "execution_count": 37,
   "metadata": {
    "collapsed": true
   },
   "outputs": [],
   "source": [
    "def calc_seq_budget(user, seq, poi_info, poi_dist_mat, user_interest):\n",
    "    \"\"\"Calculate the travel budget for the given travelling sequence\"\"\"\n",
    "    assert(len(seq) > 1)\n",
    "    budget = 0. # travel budget\n",
    "    for i in range(len(seq)-1):\n",
    "        px = seq[i]\n",
    "        py = seq[i+1]\n",
    "        assert(px in poi_info.index)\n",
    "        assert(py in poi_info.index)\n",
    "        budget += 60 * 60 * poi_dist_mat.loc[px, py] / speed  # travel time (seconds)\n",
    "        caty = poi_info.loc[py, 'poiTheme']\n",
    "        avgtime = poi_info.loc[py, 'avgDuration(sec)']\n",
    "        userint = 0\n",
    "        if (user, caty) in user_interest.index: \n",
    "            userint = user_interest.loc[user, caty] # for testing set\n",
    "        elif user in user_interest.index:\n",
    "            #userint = user_interest.loc[user].mean()  # assume an average interest of other categories\n",
    "            userint = user_interest.loc[user].min()\n",
    "        budget += userint * avgtime  # expected visit duration\n",
    "    return budget"
   ]
  },
  {
   "cell_type": "markdown",
   "metadata": {},
   "source": [
    "Recommend trajectory by solving an integer linear programming."
   ]
  },
  {
   "cell_type": "code",
   "execution_count": 38,
   "metadata": {
    "collapsed": false
   },
   "outputs": [],
   "source": [
    "def recommend_ILP(user, budget, startPoi, endPoi, poi_info, poi_dist_mat, eta, speed, user_interest):\n",
    "    assert(0 <= eta <= 1); assert(budget > 0)\n",
    "    p0 = str(startPoi); pN = str(endPoi); N = poi_info.index.shape[0]\n",
    "    \n",
    "    # REF: pythonhosted.org/PuLP/index.html\n",
    "    pois = [str(p) for p in poi_info.index] # create a string list for each POI\n",
    "    prob = pulp.LpProblem('TourRecommendation', pulp.LpMaximize) # create problem\n",
    "    # visit_i_j = 1 means POI i and j are visited in sequence\n",
    "    visit_vars = pulp.LpVariable.dicts('visit', (pois, pois), 0, 1, pulp.LpInteger) \n",
    "    # a dictionary contains all dummy variables\n",
    "    dummy_vars = pulp.LpVariable.dicts('u', [x for x in pois if x != p0], 2, N, pulp.LpInteger)\n",
    "\n",
    "    # add objective\n",
    "    objlist = []\n",
    "    for pi in [x for x in pois if x not in {p0, pN}]:\n",
    "        for pj in [y for y in pois if y != p0]:\n",
    "            cati = poi_info.loc[int(pi), 'poiTheme']\n",
    "            userint = 0; poipop = 0\n",
    "            if (user, cati) in user_interest.index: \n",
    "                userint = user_interest.loc[user, cati]\n",
    "            elif user in user_interest.index:\n",
    "                #serint = user_interest.loc[user].mean()  # assume an average interest of other categories\n",
    "                userint = user_interest.loc[user].min()\n",
    "            if int(pi) in poi_info.index: \n",
    "                #poipop = poi_info.loc[int(pi), 'popularity']  # new def: distinct number of users that visited\n",
    "                #poipop = poi_info.loc[int(pi), 'nVisit']  # total number of visit in training set\n",
    "                poipop = poi_info.loc[int(pi), 'poiFreq']  # total number of visit in all trajectories\n",
    "            objlist.append(visit_vars[pi][pj] * (eta * userint + (1.-eta) * poipop))\n",
    "    prob += pulp.lpSum(objlist), 'Objective'\n",
    "    \n",
    "    # add constraints, each constraint should be in ONE line\n",
    "    prob += pulp.lpSum([visit_vars[p0][pj] for pj in pois if pj != p0]) == 1, 'StartAt_p0'\n",
    "    prob += pulp.lpSum([visit_vars[pi][p0] for pi in pois]) == 0, 'NoIncoming_p0'\n",
    "    prob += pulp.lpSum([visit_vars[pi][pN] for pi in pois if pi != pN]) == 1, 'EndAt_pN'\n",
    "    prob += pulp.lpSum([visit_vars[pN][pj] for pj in pois]) == 0, 'NoOutgoing_pN'\n",
    "    for pk in [x for x in pois if x not in {p0, pN}]:\n",
    "        prob += pulp.lpSum([visit_vars[pi][pk] for pi in pois if pi != pN]) == \\\n",
    "                pulp.lpSum([visit_vars[pk][pj] for pj in pois if pj != p0]), 'ConnectedAt_' + pk\n",
    "        prob += pulp.lpSum([visit_vars[pi][pk] for pi in pois if pi != pN]) <= 1, 'Enter_' + pk + '_AtMostOnce'\n",
    "        prob += pulp.lpSum([visit_vars[pk][pj] for pj in pois if pj != p0]) <= 1, 'Leave_' + pk + '_AtMostOnce'\n",
    "    \n",
    "    costlist = []\n",
    "    for pi in [x for x in pois if x != pN]:\n",
    "        for pj in [y for y in pois if y != p0]:\n",
    "            catj = poi_info.loc[int(pj), 'poiTheme']\n",
    "            traveltime = 60 * 60 * poi_dist_mat.loc[int(pi), int(pj)] / speed # seconds\n",
    "            userint = 0; avgtime = 0\n",
    "            if (user, catj) in user_interest.index: \n",
    "                userint = user_interest.loc[user, catj]\n",
    "            elif user in user_interest.index:\n",
    "                #serint = user_interest.loc[user].mean()  # assume an average interest of other categories\n",
    "                userint = user_interest.loc[user].min()\n",
    "            if int(pj) in poi_info.index: avgtime = poi_info.loc[int(pj), 'avgDuration(sec)']\n",
    "            costlist.append(visit_vars[pi][pj] * (traveltime + userint * avgtime))\n",
    "    prob += pulp.lpSum(costlist) <= budget, 'WithinBudget'\n",
    "    \n",
    "    for pi in [x for x in pois if x != p0]:\n",
    "        for pj in [y for y in pois if y != p0]:\n",
    "            prob += dummy_vars[pi] - dummy_vars[pj] + 1 <= (N - 1) * (1 - visit_vars[pi][pj]), \\\n",
    "                    'SubTourElimination_' + str(pi) + '_' + str(pj)\n",
    "    #if nPOI is not None:\n",
    "    #    prob += pulp.lpSum([visit_vars[pi][pj] for pi in pois if pi != pN for pj in pois if pj != p0]) \\\n",
    "    #    == nPOI-1, 'Length'\n",
    "    # 'Model is infeasible' for sequence (seqid=2338, seq=[1, 30, 7], user=37517876@N07)\n",
    "\n",
    "    # solve problem\n",
    "    #prob.solve() # using PuLP's default solver\n",
    "    #prob.solve(pulp.PULP_CBC_CMD(options=['-threads', '8', '-strategy', '1', '-maxIt', '2000000'])) # CBC\n",
    "    #prob.solve(pulp.GLPK_CMD()) # GLPK\n",
    "    gurobi_options = [('TimeLimit', '3600'), ('Threads', '6'), ('NodefileStart', '0.9'), ('Cuts', '2')]\n",
    "    prob.solve(pulp.GUROBI_CMD(options=gurobi_options)) # GUROBI\n",
    "    \n",
    "    #print('status:', pulp.LpStatus[prob.status]) # print the status of the solution\n",
    "    #print('obj:', pulp.value(prob.objective)) # print the optimised objective function value\n",
    "    #for v in prob.variables(): # print each variable with it's resolved optimum value\n",
    "    #    print(v.name, '=', v.varValue)\n",
    "    #    if v.varValue != 0: print(v.name, '=', v.varValue)\n",
    "\n",
    "    visit_mat = pd.DataFrame(data=np.zeros((len(pois), len(pois)), dtype=np.float), index=pois, columns=pois)\n",
    "    for pi in pois:\n",
    "        for pj in pois: visit_mat.loc[pi, pj] = visit_vars[pi][pj].varValue\n",
    "\n",
    "    # build the recommended trajectory\n",
    "    recseq = [p0]\n",
    "    while True:\n",
    "        pi = recseq[-1]\n",
    "        pj = visit_mat.loc[pi].idxmax()\n",
    "        assert(round(visit_mat.loc[pi, pj]) == 1)\n",
    "        recseq.append(pj); \n",
    "        #print(recseq); sys.stdout.flush()\n",
    "        if pj == pN: return [int(x) for x in recseq]"
   ]
  },
  {
   "cell_type": "markdown",
   "metadata": {},
   "source": [
    "Compute the evaluation metrics, i.e., recall, precision and F1."
   ]
  },
  {
   "cell_type": "code",
   "execution_count": 39,
   "metadata": {
    "collapsed": true
   },
   "outputs": [],
   "source": [
    "def calc_recall_precision_F1score(seq_act, seq_rec):\n",
    "    assert(len(seq_act) > 0)\n",
    "    assert(len(seq_rec) > 0)\n",
    "    actset = set(seq_act)\n",
    "    recset = set(seq_rec)\n",
    "    intersect = actset & recset\n",
    "    recall = len(intersect) / len(seq_act)\n",
    "    precision = len(intersect) / len(seq_rec)\n",
    "    F1score = 2. * precision * recall / (precision + recall)\n",
    "    return recall, precision, F1score"
   ]
  },
  {
   "cell_type": "markdown",
   "metadata": {},
   "source": [
    "Leave-one-out cross evaluation."
   ]
  },
  {
   "cell_type": "markdown",
   "metadata": {},
   "source": [
    "Results from paper (Toronto data, time-based uesr interest, eta=0.5):  \n",
    " - Recall: 0.779&plusmn;0.10\n",
    " - Precision: 0.706&plusmn;0.013\n",
    " - F1-score: 0.732&plusmn;0.012"
   ]
  },
  {
   "cell_type": "code",
   "execution_count": 40,
   "metadata": {
    "collapsed": true
   },
   "outputs": [],
   "source": [
    "recall = []\n",
    "precision = []\n",
    "F1score = []"
   ]
  },
  {
   "cell_type": "code",
   "execution_count": 41,
   "metadata": {
    "collapsed": false
   },
   "outputs": [
    {
     "name": "stdout",
     "output_type": "stream",
     "text": [
      "Total number of sequence in experiment: 6057\n"
     ]
    }
   ],
   "source": [
    "seqid_set_all = sorted(seq_stats.index.tolist())\n",
    "print('Total number of sequence in experiment:', len(seqid_set_all))"
   ]
  },
  {
   "cell_type": "markdown",
   "metadata": {},
   "source": [
    "Use all trajectories to compute POI popularity, POI average visit duration and user interest."
   ]
  },
  {
   "cell_type": "code",
   "execution_count": 42,
   "metadata": {
    "collapsed": true
   },
   "outputs": [],
   "source": [
    "poi_info = calc_poi_info(seqid_set_all, seq_all, poi_all)\n",
    "poi_dist_mat = calc_dist_mat(poi_info)\n",
    "#user_interest = calc_user_interest(seqid_set_all, seq_all, poi_all, poi_info)"
   ]
  },
  {
   "cell_type": "code",
   "execution_count": 43,
   "metadata": {
    "collapsed": false
   },
   "outputs": [
    {
     "data": {
      "text/html": [
       "<div>\n",
       "<table border=\"1\" class=\"dataframe\">\n",
       "  <thead>\n",
       "    <tr style=\"text-align: right;\">\n",
       "      <th></th>\n",
       "      <th>avgDuration(sec)</th>\n",
       "      <th>nVisit</th>\n",
       "      <th>poiTheme</th>\n",
       "      <th>poiLon</th>\n",
       "      <th>poiLat</th>\n",
       "      <th>poiFreq</th>\n",
       "      <th>popularity</th>\n",
       "    </tr>\n",
       "    <tr>\n",
       "      <th>poiID</th>\n",
       "      <th></th>\n",
       "      <th></th>\n",
       "      <th></th>\n",
       "      <th></th>\n",
       "      <th></th>\n",
       "      <th></th>\n",
       "      <th></th>\n",
       "    </tr>\n",
       "  </thead>\n",
       "  <tbody>\n",
       "    <tr>\n",
       "      <th>1</th>\n",
       "      <td>4225.587662</td>\n",
       "      <td>308</td>\n",
       "      <td>Sport</td>\n",
       "      <td>-79.379341</td>\n",
       "      <td>43.643120</td>\n",
       "      <td>3506</td>\n",
       "      <td>129</td>\n",
       "    </tr>\n",
       "    <tr>\n",
       "      <th>2</th>\n",
       "      <td>3515.012821</td>\n",
       "      <td>78</td>\n",
       "      <td>Sport</td>\n",
       "      <td>-79.418526</td>\n",
       "      <td>43.632698</td>\n",
       "      <td>609</td>\n",
       "      <td>55</td>\n",
       "    </tr>\n",
       "    <tr>\n",
       "      <th>3</th>\n",
       "      <td>2851.145000</td>\n",
       "      <td>200</td>\n",
       "      <td>Sport</td>\n",
       "      <td>-79.379921</td>\n",
       "      <td>43.662010</td>\n",
       "      <td>688</td>\n",
       "      <td>83</td>\n",
       "    </tr>\n",
       "    <tr>\n",
       "      <th>4</th>\n",
       "      <td>6226.897661</td>\n",
       "      <td>342</td>\n",
       "      <td>Sport</td>\n",
       "      <td>-79.389366</td>\n",
       "      <td>43.641151</td>\n",
       "      <td>3056</td>\n",
       "      <td>155</td>\n",
       "    </tr>\n",
       "    <tr>\n",
       "      <th>6</th>\n",
       "      <td>2750.014493</td>\n",
       "      <td>345</td>\n",
       "      <td>Cultural</td>\n",
       "      <td>-79.392502</td>\n",
       "      <td>43.653757</td>\n",
       "      <td>986</td>\n",
       "      <td>209</td>\n",
       "    </tr>\n",
       "    <tr>\n",
       "      <th>7</th>\n",
       "      <td>2913.000000</td>\n",
       "      <td>498</td>\n",
       "      <td>Cultural</td>\n",
       "      <td>-79.377434</td>\n",
       "      <td>43.647038</td>\n",
       "      <td>2064</td>\n",
       "      <td>252</td>\n",
       "    </tr>\n",
       "    <tr>\n",
       "      <th>8</th>\n",
       "      <td>4580.986784</td>\n",
       "      <td>227</td>\n",
       "      <td>Cultural</td>\n",
       "      <td>-79.385208</td>\n",
       "      <td>43.642479</td>\n",
       "      <td>1736</td>\n",
       "      <td>157</td>\n",
       "    </tr>\n",
       "    <tr>\n",
       "      <th>9</th>\n",
       "      <td>4748.833333</td>\n",
       "      <td>36</td>\n",
       "      <td>Cultural</td>\n",
       "      <td>-79.338554</td>\n",
       "      <td>43.716404</td>\n",
       "      <td>278</td>\n",
       "      <td>26</td>\n",
       "    </tr>\n",
       "    <tr>\n",
       "      <th>10</th>\n",
       "      <td>3219.719512</td>\n",
       "      <td>82</td>\n",
       "      <td>Cultural</td>\n",
       "      <td>-79.361046</td>\n",
       "      <td>43.667041</td>\n",
       "      <td>346</td>\n",
       "      <td>32</td>\n",
       "    </tr>\n",
       "    <tr>\n",
       "      <th>11</th>\n",
       "      <td>3794.105788</td>\n",
       "      <td>501</td>\n",
       "      <td>Cultural</td>\n",
       "      <td>-79.394524</td>\n",
       "      <td>43.667301</td>\n",
       "      <td>4142</td>\n",
       "      <td>269</td>\n",
       "    </tr>\n",
       "    <tr>\n",
       "      <th>12</th>\n",
       "      <td>4210.094595</td>\n",
       "      <td>74</td>\n",
       "      <td>Cultural</td>\n",
       "      <td>-79.181931</td>\n",
       "      <td>43.820347</td>\n",
       "      <td>481</td>\n",
       "      <td>40</td>\n",
       "    </tr>\n",
       "    <tr>\n",
       "      <th>13</th>\n",
       "      <td>3201.457143</td>\n",
       "      <td>105</td>\n",
       "      <td>Cultural</td>\n",
       "      <td>-79.409470</td>\n",
       "      <td>43.678097</td>\n",
       "      <td>964</td>\n",
       "      <td>85</td>\n",
       "    </tr>\n",
       "    <tr>\n",
       "      <th>14</th>\n",
       "      <td>2359.000000</td>\n",
       "      <td>38</td>\n",
       "      <td>Amusement</td>\n",
       "      <td>-79.417213</td>\n",
       "      <td>43.634056</td>\n",
       "      <td>141</td>\n",
       "      <td>29</td>\n",
       "    </tr>\n",
       "    <tr>\n",
       "      <th>15</th>\n",
       "      <td>2941.837209</td>\n",
       "      <td>43</td>\n",
       "      <td>Amusement</td>\n",
       "      <td>-79.373917</td>\n",
       "      <td>43.619751</td>\n",
       "      <td>113</td>\n",
       "      <td>41</td>\n",
       "    </tr>\n",
       "    <tr>\n",
       "      <th>16</th>\n",
       "      <td>4118.129594</td>\n",
       "      <td>517</td>\n",
       "      <td>Amusement</td>\n",
       "      <td>-79.386993</td>\n",
       "      <td>43.642601</td>\n",
       "      <td>3553</td>\n",
       "      <td>377</td>\n",
       "    </tr>\n",
       "    <tr>\n",
       "      <th>17</th>\n",
       "      <td>7316.038462</td>\n",
       "      <td>52</td>\n",
       "      <td>Amusement</td>\n",
       "      <td>-79.416473</td>\n",
       "      <td>43.632504</td>\n",
       "      <td>808</td>\n",
       "      <td>37</td>\n",
       "    </tr>\n",
       "    <tr>\n",
       "      <th>18</th>\n",
       "      <td>2424.533333</td>\n",
       "      <td>15</td>\n",
       "      <td>Amusement</td>\n",
       "      <td>-79.451328</td>\n",
       "      <td>43.636975</td>\n",
       "      <td>26</td>\n",
       "      <td>15</td>\n",
       "    </tr>\n",
       "    <tr>\n",
       "      <th>19</th>\n",
       "      <td>2083.019231</td>\n",
       "      <td>52</td>\n",
       "      <td>Beach</td>\n",
       "      <td>-79.378128</td>\n",
       "      <td>43.622082</td>\n",
       "      <td>111</td>\n",
       "      <td>41</td>\n",
       "    </tr>\n",
       "    <tr>\n",
       "      <th>20</th>\n",
       "      <td>2007.000000</td>\n",
       "      <td>27</td>\n",
       "      <td>Beach</td>\n",
       "      <td>-79.462708</td>\n",
       "      <td>43.646423</td>\n",
       "      <td>89</td>\n",
       "      <td>18</td>\n",
       "    </tr>\n",
       "    <tr>\n",
       "      <th>21</th>\n",
       "      <td>2946.991443</td>\n",
       "      <td>818</td>\n",
       "      <td>Beach</td>\n",
       "      <td>-79.380363</td>\n",
       "      <td>43.656200</td>\n",
       "      <td>3594</td>\n",
       "      <td>309</td>\n",
       "    </tr>\n",
       "    <tr>\n",
       "      <th>22</th>\n",
       "      <td>3143.554094</td>\n",
       "      <td>684</td>\n",
       "      <td>Beach</td>\n",
       "      <td>-79.383720</td>\n",
       "      <td>43.652534</td>\n",
       "      <td>3619</td>\n",
       "      <td>346</td>\n",
       "    </tr>\n",
       "    <tr>\n",
       "      <th>23</th>\n",
       "      <td>2860.618147</td>\n",
       "      <td>529</td>\n",
       "      <td>Shopping</td>\n",
       "      <td>-79.379707</td>\n",
       "      <td>43.653988</td>\n",
       "      <td>1874</td>\n",
       "      <td>253</td>\n",
       "    </tr>\n",
       "    <tr>\n",
       "      <th>24</th>\n",
       "      <td>3428.760300</td>\n",
       "      <td>267</td>\n",
       "      <td>Shopping</td>\n",
       "      <td>-79.382668</td>\n",
       "      <td>43.638592</td>\n",
       "      <td>1028</td>\n",
       "      <td>149</td>\n",
       "    </tr>\n",
       "    <tr>\n",
       "      <th>25</th>\n",
       "      <td>2583.483951</td>\n",
       "      <td>405</td>\n",
       "      <td>Shopping</td>\n",
       "      <td>-79.401779</td>\n",
       "      <td>43.654613</td>\n",
       "      <td>1701</td>\n",
       "      <td>212</td>\n",
       "    </tr>\n",
       "    <tr>\n",
       "      <th>26</th>\n",
       "      <td>2591.735294</td>\n",
       "      <td>34</td>\n",
       "      <td>Shopping</td>\n",
       "      <td>-79.452553</td>\n",
       "      <td>43.725834</td>\n",
       "      <td>104</td>\n",
       "      <td>29</td>\n",
       "    </tr>\n",
       "    <tr>\n",
       "      <th>27</th>\n",
       "      <td>2466.129167</td>\n",
       "      <td>240</td>\n",
       "      <td>Shopping</td>\n",
       "      <td>-79.390991</td>\n",
       "      <td>43.669998</td>\n",
       "      <td>631</td>\n",
       "      <td>116</td>\n",
       "    </tr>\n",
       "    <tr>\n",
       "      <th>28</th>\n",
       "      <td>2417.512821</td>\n",
       "      <td>390</td>\n",
       "      <td>Structure</td>\n",
       "      <td>-79.381554</td>\n",
       "      <td>43.652210</td>\n",
       "      <td>936</td>\n",
       "      <td>234</td>\n",
       "    </tr>\n",
       "    <tr>\n",
       "      <th>29</th>\n",
       "      <td>2712.066176</td>\n",
       "      <td>136</td>\n",
       "      <td>Structure</td>\n",
       "      <td>-79.391151</td>\n",
       "      <td>43.661991</td>\n",
       "      <td>744</td>\n",
       "      <td>97</td>\n",
       "    </tr>\n",
       "    <tr>\n",
       "      <th>30</th>\n",
       "      <td>3005.560284</td>\n",
       "      <td>564</td>\n",
       "      <td>Structure</td>\n",
       "      <td>-79.380531</td>\n",
       "      <td>43.645641</td>\n",
       "      <td>1538</td>\n",
       "      <td>255</td>\n",
       "    </tr>\n",
       "  </tbody>\n",
       "</table>\n",
       "</div>"
      ],
      "text/plain": [
       "       avgDuration(sec)  nVisit   poiTheme     poiLon     poiLat  poiFreq  \\\n",
       "poiID                                                                       \n",
       "1           4225.587662     308      Sport -79.379341  43.643120     3506   \n",
       "2           3515.012821      78      Sport -79.418526  43.632698      609   \n",
       "3           2851.145000     200      Sport -79.379921  43.662010      688   \n",
       "4           6226.897661     342      Sport -79.389366  43.641151     3056   \n",
       "6           2750.014493     345   Cultural -79.392502  43.653757      986   \n",
       "7           2913.000000     498   Cultural -79.377434  43.647038     2064   \n",
       "8           4580.986784     227   Cultural -79.385208  43.642479     1736   \n",
       "9           4748.833333      36   Cultural -79.338554  43.716404      278   \n",
       "10          3219.719512      82   Cultural -79.361046  43.667041      346   \n",
       "11          3794.105788     501   Cultural -79.394524  43.667301     4142   \n",
       "12          4210.094595      74   Cultural -79.181931  43.820347      481   \n",
       "13          3201.457143     105   Cultural -79.409470  43.678097      964   \n",
       "14          2359.000000      38  Amusement -79.417213  43.634056      141   \n",
       "15          2941.837209      43  Amusement -79.373917  43.619751      113   \n",
       "16          4118.129594     517  Amusement -79.386993  43.642601     3553   \n",
       "17          7316.038462      52  Amusement -79.416473  43.632504      808   \n",
       "18          2424.533333      15  Amusement -79.451328  43.636975       26   \n",
       "19          2083.019231      52      Beach -79.378128  43.622082      111   \n",
       "20          2007.000000      27      Beach -79.462708  43.646423       89   \n",
       "21          2946.991443     818      Beach -79.380363  43.656200     3594   \n",
       "22          3143.554094     684      Beach -79.383720  43.652534     3619   \n",
       "23          2860.618147     529   Shopping -79.379707  43.653988     1874   \n",
       "24          3428.760300     267   Shopping -79.382668  43.638592     1028   \n",
       "25          2583.483951     405   Shopping -79.401779  43.654613     1701   \n",
       "26          2591.735294      34   Shopping -79.452553  43.725834      104   \n",
       "27          2466.129167     240   Shopping -79.390991  43.669998      631   \n",
       "28          2417.512821     390  Structure -79.381554  43.652210      936   \n",
       "29          2712.066176     136  Structure -79.391151  43.661991      744   \n",
       "30          3005.560284     564  Structure -79.380531  43.645641     1538   \n",
       "\n",
       "       popularity  \n",
       "poiID              \n",
       "1             129  \n",
       "2              55  \n",
       "3              83  \n",
       "4             155  \n",
       "6             209  \n",
       "7             252  \n",
       "8             157  \n",
       "9              26  \n",
       "10             32  \n",
       "11            269  \n",
       "12             40  \n",
       "13             85  \n",
       "14             29  \n",
       "15             41  \n",
       "16            377  \n",
       "17             37  \n",
       "18             15  \n",
       "19             41  \n",
       "20             18  \n",
       "21            309  \n",
       "22            346  \n",
       "23            253  \n",
       "24            149  \n",
       "25            212  \n",
       "26             29  \n",
       "27            116  \n",
       "28            234  \n",
       "29             97  \n",
       "30            255  "
      ]
     },
     "execution_count": 43,
     "metadata": {},
     "output_type": "execute_result"
    }
   ],
   "source": [
    "poi_info"
   ]
  },
  {
   "cell_type": "code",
   "execution_count": 44,
   "metadata": {
    "collapsed": true
   },
   "outputs": [],
   "source": [
    "eta = 0.5\n",
    "time_based = True"
   ]
  },
  {
   "cell_type": "code",
   "execution_count": 45,
   "metadata": {
    "collapsed": false,
    "scrolled": true
   },
   "outputs": [
    {
     "name": "stdout",
     "output_type": "stream",
     "text": [
      "sequence #1,  user: 10502709@N05,  budget: 69692.4\n",
      "[7, 11, 27] -> [7, 11, 27] 2.5 sec.\n",
      "\n",
      "sequence #2,  user: 10502709@N05,  budget: 59999.9\n",
      "[28, 23, 22] -> [28, 16, 30, 1, 4, 29, 21, 22] 2.8 sec.\n",
      "\n",
      "sequence #3,  user: 10502709@N05,  budget: 78090.9\n",
      "[22, 28, 23, 21] -> [22, 16, 1, 21] 2.6 sec.\n",
      "\n",
      "sequence #4,  user: 10627620@N06,  budget: 20256.0\n",
      "[3, 23, 27] -> [3, 21, 27] 2.3 sec.\n",
      "\n",
      "sequence #5,  user: 10627620@N06,  budget: 49264.7\n",
      "[21, 23, 30] -> [21, 22, 30] 2.4 sec.\n",
      "\n",
      "sequence #6,  user: 11090433@N05,  budget: 13024.9\n",
      "[3, 23, 22, 30] -> [3, 21, 7, 30] 2.7 sec.\n",
      "\n",
      "sequence #7,  user: 11191102@N07,  budget: 7687.7\n",
      "[16, 4, 22] -> [16, 1, 22] 2.2 sec.\n",
      "\n",
      "sequence #8,  user: 11191102@N07,  budget: 18547.7\n",
      "[27, 23, 11] -> [27, 23, 11] 2.2 sec.\n",
      "\n",
      "sequence #9,  user: 11191102@N07,  budget: 8824.4\n",
      "[7, 30, 22] -> [7, 21, 22] 2.2 sec.\n",
      "\n",
      "sequence #10,  user: 11241023@N03,  budget: 4058.4\n",
      "[7, 22, 28] -> [7, 22, 28] 3.0 sec.\n",
      "\n",
      "sequence #11,  user: 11349639@N00,  budget: 9244.2\n",
      "[16, 4, 30] -> [16, 22, 30] 2.5 sec.\n",
      "\n",
      "sequence #12,  user: 13273343@N00,  budget: 688.0\n",
      "[30, 16, 8] -> [30, 16, 8] 2.1 sec.\n",
      "\n",
      "sequence #13,  user: 13528098@N00,  budget: 5477.6\n",
      "[16, 8, 30] -> [16, 7, 30] 3.1 sec.\n",
      "\n",
      "sequence #14,  user: 13644648@N03,  budget: 13301.0\n",
      "[22, 7, 23, 28, 1, 29, 30, 8, 6, 11, 24, 4, 16] -> [22, 28, 23, 21, 3, 27, 11, 29, 6, 25, 2, 14, 17, 24, 1, 7, 30, 8, 4, 16] 4.3 sec.\n",
      "\n",
      "sequence #15,  user: 13672753@N00,  budget: 11328.7\n",
      "[8, 16, 4, 22] -> [8, 1, 30, 7, 21, 23, 28, 22] 2.9 sec.\n",
      "\n",
      "sequence #16,  user: 13907834@N00,  budget: 33225.6\n",
      "[16, 4, 8] -> [16, 1, 8] 2.4 sec.\n",
      "\n",
      "sequence #17,  user: 13907834@N00,  budget: 21105.3\n",
      "[21, 27, 11] -> [21, 1, 11] 2.3 sec.\n",
      "\n",
      "sequence #18,  user: 14391210@N00,  budget: 4749.7\n",
      "[30, 22, 6] -> [30, 22, 6] 2.7 sec.\n",
      "\n",
      "sequence #19,  user: 14391210@N00,  budget: 8026.8\n",
      "[30, 22, 28, 23] -> [30, 22, 21, 23] 2.5 sec.\n",
      "\n",
      "sequence #20,  user: 14878709@N00,  budget: 20638.8\n",
      "[23, 28, 16] -> [23, 28, 16] 2.4 sec.\n",
      "\n",
      "sequence #21,  user: 14878709@N00,  budget: 36584.5\n",
      "[16, 21, 23, 8, 28, 22, 27] -> [16, 4, 8, 24, 1, 7, 22, 23, 21, 25, 6, 3, 11, 27] 3.0 sec.\n",
      "\n",
      "sequence #22,  user: 15205252@N00,  budget: 7042.8\n",
      "[17, 2, 14] -> [17, 2, 14] 2.7 sec.\n",
      "\n",
      "sequence #23,  user: 16048448@N00,  budget: 5699.1\n",
      "[28, 22, 23, 29, 7, 30, 16, 21] -> [28, 22, 6, 25, 16, 4, 8, 1, 30, 7, 23, 21] 8.9 sec.\n",
      "\n",
      "sequence #24,  user: 16326397@N02,  budget: 8877.2\n",
      "[16, 11, 23] -> [16, 22, 28, 21, 23] 2.4 sec.\n",
      "\n",
      "sequence #25,  user: 16693950@N00,  budget: 35805.9\n",
      "[16, 22, 23] -> [16, 4, 1, 25, 11, 3, 23] 2.4 sec.\n",
      "\n",
      "sequence #26,  user: 16693950@N00,  budget: 21731.4\n",
      "[25, 19, 15] -> [25, 4, 16, 1, 15] 2.3 sec.\n",
      "\n",
      "sequence #27,  user: 16693950@N00,  budget: 36656.2\n",
      "[22, 8, 30, 7, 28, 23, 21, 16] -> [22, 11, 23, 7, 1, 8, 4, 16] 3.0 sec.\n",
      "\n",
      "sequence #28,  user: 16926694@N06,  budget: 35516.4\n",
      "[7, 30, 8] -> [7, 30, 8] 2.8 sec.\n",
      "\n",
      "sequence #29,  user: 17373191@N00,  budget: 58082.4\n",
      "[22, 1, 8, 21, 28] -> [22, 11, 21, 23, 7, 8, 16, 28] 3.4 sec.\n",
      "\n",
      "sequence #30,  user: 18412989@N00,  budget: 20525.9\n",
      "[23, 22, 16] -> [23, 7, 30, 28, 11, 6, 16] 2.4 sec.\n",
      "\n",
      "sequence #31,  user: 18412989@N00,  budget: 18614.6\n",
      "[21, 23, 24] -> [21, 11, 7, 24] 2.3 sec.\n",
      "\n",
      "sequence #32,  user: 18412989@N00,  budget: 15962.0\n",
      "[7, 23, 1] -> [7, 16, 1] 2.6 sec.\n",
      "\n",
      "sequence #33,  user: 18948547@N00,  budget: 24487.1\n",
      "[22, 28, 23] -> [22, 16, 7, 21, 23] 2.5 sec.\n",
      "\n",
      "sequence #34,  user: 20075574@N00,  budget: 1324.7\n",
      "[22, 6, 25] -> [22, 6, 25] 2.0 sec.\n",
      "\n",
      "sequence #35,  user: 20342758@N00,  budget: 16785.5\n",
      "[23, 28, 16, 24, 4, 8, 30] -> [23, 21, 22, 7, 16, 8, 1, 30] 3.1 sec.\n",
      "\n",
      "sequence #36,  user: 20344209@N00,  budget: 5871.0\n",
      "[13, 16, 29] -> [13, 11, 25, 6, 22, 28, 23, 21, 29] 31.5 sec.\n",
      "\n",
      "sequence #37,  user: 20456447@N03,  budget: 71439.6\n",
      "[22, 30, 7, 1, 8, 16, 21] -> [22, 29, 11, 25, 4, 24, 8, 1, 30, 7, 28, 23, 21] 4.3 sec.\n",
      "\n",
      "sequence #38,  user: 20456447@N03,  budget: 17567.6\n",
      "[7, 16, 4, 8] -> [7, 1, 24, 16, 8] 2.4 sec.\n",
      "\n",
      "sequence #39,  user: 20456447@N03,  budget: 13194.4\n",
      "[3, 29, 6, 22] -> [3, 21, 23, 30, 22] 2.5 sec.\n",
      "\n",
      "sequence #40,  user: 20741443@N00,  budget: 1587874.5\n",
      "[7, 23, 28, 21, 30] -> [7, 21, 3, 22, 14, 16, 4, 1, 30] 2.4 sec.\n",
      "\n",
      "sequence #41,  user: 20741443@N00,  budget: 806010.7\n",
      "[7, 30, 23] -> [7, 1, 16, 4, 25, 3, 23] 2.4 sec.\n",
      "\n",
      "sequence #42,  user: 20741443@N00,  budget: 553256.2\n",
      "[21, 7, 1] -> [21, 23, 3, 16, 4, 1] 2.5 sec.\n",
      "\n",
      "sequence #43,  user: 20741443@N00,  budget: 645105.1\n",
      "[7, 22, 23] -> [7, 1, 2, 16, 4, 3, 23] 2.2 sec.\n",
      "\n",
      "sequence #44,  user: 20741443@N00,  budget: 1632041.7\n",
      "[23, 21, 22, 7, 28] -> [23, 14, 2, 17, 3, 21, 22, 1, 16, 4, 28] 2.3 sec.\n",
      "\n",
      "sequence #45,  user: 20741443@N00,  budget: 706347.7\n",
      "[7, 28, 23] -> [7, 1, 14, 17, 4, 16, 3, 23] 2.2 sec.\n",
      "\n",
      "sequence #46,  user: 20741443@N00,  budget: 645150.5\n",
      "[21, 23, 22] -> [21, 14, 4, 16, 1, 22] 2.3 sec.\n",
      "\n",
      "sequence #47,  user: 20741443@N00,  budget: 882857.3\n",
      "[28, 21, 30] -> [28, 16, 1, 4, 2, 3, 30] 2.3 sec.\n",
      "\n",
      "sequence #48,  user: 20741443@N00,  budget: 806842.5\n",
      "[30, 21, 6] -> [30, 4, 16, 2, 1, 3, 6] 2.2 sec.\n",
      "\n",
      "sequence #49,  user: 20741443@N00,  budget: 1189657.1\n",
      "[30, 28, 23, 7] -> [30, 3, 21, 1, 4, 2, 16, 7] 2.3 sec.\n",
      "\n",
      "sequence #50,  user: 20741443@N00,  budget: 623631.7\n",
      "[28, 23, 21] -> [28, 16, 1, 4, 14, 21] 2.2 sec.\n",
      "\n",
      "sequence #51,  user: 20741443@N00,  budget: 883439.3\n",
      "[22, 21, 30] -> [22, 3, 1, 16, 4, 2, 30] 2.2 sec.\n",
      "\n",
      "sequence #52,  user: 20741443@N00,  budget: 963548.2\n",
      "[7, 28, 30] -> [7, 3, 17, 14, 4, 16, 1, 30] 2.2 sec.\n",
      "\n",
      "sequence #53,  user: 20741443@N00,  budget: 1511349.0\n",
      "[7, 30, 21, 23, 22] -> [7, 23, 21, 25, 4, 16, 3, 1, 22] 2.9 sec.\n",
      "\n",
      "sequence #54,  user: 20741443@N00,  budget: 1054952.2\n",
      "[7, 23, 21, 28] -> [7, 4, 16, 14, 21, 1, 28] 2.5 sec.\n",
      "\n",
      "sequence #55,  user: 20741443@N00,  budget: 1625205.4\n",
      "[28, 23, 21, 11, 22] -> [28, 21, 3, 25, 17, 4, 16, 23, 1, 22] 3.8 sec.\n",
      "\n",
      "sequence #56,  user: 20741443@N00,  budget: 623631.7\n",
      "[28, 23, 21] -> [28, 16, 1, 4, 14, 21] 2.2 sec.\n",
      "\n",
      "sequence #57,  user: 20741443@N00,  budget: 856831.1\n",
      "[30, 22, 7] -> [30, 1, 2, 4, 16, 3, 7] 2.3 sec.\n",
      "\n",
      "sequence #58,  user: 20741443@N00,  budget: 1584427.0\n",
      "[7, 30, 21, 23, 28] -> [7, 14, 17, 3, 21, 16, 4, 1, 22, 28] 2.3 sec.\n",
      "\n",
      "sequence #59,  user: 20741443@N00,  budget: 1238744.7\n",
      "[8, 30, 28, 23] -> [8, 1, 4, 16, 22, 21, 23] 2.3 sec.\n",
      "\n",
      "sequence #60,  user: 20741443@N00,  budget: 1167656.0\n",
      "[30, 7, 28, 23] -> [30, 16, 4, 25, 1, 21, 3, 23] 3.1 sec.\n",
      "\n",
      "sequence #61,  user: 20741443@N00,  budget: 937768.1\n",
      "[23, 28, 30] -> [23, 3, 4, 17, 14, 16, 1, 30] 2.3 sec.\n",
      "\n",
      "sequence #62,  user: 20741443@N00,  budget: 802213.9\n",
      "[23, 28, 22] -> [23, 3, 17, 14, 1, 4, 16, 22] 2.4 sec.\n",
      "\n",
      "sequence #63,  user: 20741443@N00,  budget: 1200636.5\n",
      "[7, 23, 28, 30] -> [7, 16, 1, 4, 14, 3, 21, 30] 2.6 sec.\n",
      "\n",
      "sequence #64,  user: 20741443@N00,  budget: 801559.3\n",
      "[23, 22, 28] -> [23, 4, 2, 1, 16, 3, 28] 2.3 sec.\n",
      "\n",
      "sequence #65,  user: 20741443@N00,  budget: 585933.0\n",
      "[23, 16, 30] -> [23, 16, 30] 2.2 sec.\n",
      "\n",
      "sequence #66,  user: 20741443@N00,  budget: 1020007.3\n",
      "[1, 30, 7] -> [1, 21, 3, 4, 16, 2, 7] 2.3 sec.\n",
      "\n",
      "sequence #67,  user: 20741443@N00,  budget: 1004716.6\n",
      "[8, 30, 7] -> [8, 15, 3, 2, 14, 17, 4, 16, 1, 7] 2.5 sec.\n",
      "\n",
      "sequence #68,  user: 20741443@N00,  budget: 394888.1\n",
      "[28, 3, 21] -> [28, 3, 21] 2.2 sec.\n",
      "\n",
      "sequence #69,  user: 20741443@N00,  budget: 607023.9\n",
      "[7, 23, 21] -> [7, 4, 16, 1, 21] 2.3 sec.\n",
      "\n",
      "sequence #70,  user: 20741443@N00,  budget: 908407.8\n",
      "[7, 22, 30] -> [7, 2, 16, 4, 3, 1, 30] 2.3 sec.\n",
      "\n",
      "sequence #71,  user: 20741443@N00,  budget: 811726.8\n",
      "[21, 23, 30] -> [21, 14, 4, 1, 16, 30] 2.3 sec.\n",
      "\n",
      "sequence #72,  user: 20741443@N00,  budget: 1311660.5\n",
      "[23, 21, 28, 30] -> [23, 14, 17, 4, 16, 1, 21, 3, 30] 3.7 sec.\n",
      "\n",
      "sequence #73,  user: 20741443@N00,  budget: 590452.7\n",
      "[8, 30, 16] -> [8, 21, 1, 4, 16] 2.3 sec.\n",
      "\n",
      "sequence #74,  user: 20741443@N00,  budget: 811825.3\n",
      "[22, 23, 30] -> [22, 16, 14, 1, 4, 30] 2.2 sec.\n",
      "\n",
      "sequence #75,  user: 20741443@N00,  budget: 2497797.7\n",
      "[7, 23, 28, 30, 21, 22, 11] -> [7, 1, 16, 4, 17, 2, 25, 22, 23, 21, 3, 27, 11] 2.4 sec.\n",
      "\n",
      "sequence #76,  user: 20741443@N00,  budget: 624561.6\n",
      "[29, 23, 21] -> [29, 14, 4, 1, 16, 21] 2.2 sec.\n",
      "\n",
      "sequence #77,  user: 20741443@N00,  budget: 833258.6\n",
      "[30, 7, 21] -> [30, 1, 16, 4, 17, 14, 2, 3, 21] 2.3 sec.\n",
      "\n",
      "sequence #78,  user: 20741443@N00,  budget: 1020738.8\n",
      "[21, 7, 30] -> [21, 3, 4, 16, 14, 2, 17, 1, 30] 2.4 sec.\n",
      "\n",
      "sequence #79,  user: 20741443@N00,  budget: 587243.4\n",
      "[29, 27, 21] -> [29, 4, 16, 1, 21] 2.2 sec.\n",
      "\n",
      "sequence #80,  user: 20741443@N00,  budget: 1055174.7\n",
      "[7, 21, 28, 23] -> [7, 17, 4, 16, 14, 21, 3, 1, 23] 3.2 sec.\n",
      "\n",
      "sequence #81,  user: 20741443@N00,  budget: 705976.6\n",
      "[21, 23, 28] -> [21, 16, 1, 4, 14, 28] 2.1 sec.\n",
      "\n",
      "sequence #82,  user: 20741443@N00,  budget: 704964.0\n",
      "[30, 28, 23] -> [30, 1, 14, 17, 4, 16, 3, 23] 2.2 sec.\n",
      "\n",
      "sequence #83,  user: 20741443@N00,  budget: 833258.6\n",
      "[30, 7, 21] -> [30, 4, 2, 16, 17, 14, 1, 3, 21] 2.4 sec.\n",
      "\n",
      "sequence #84,  user: 20741443@N00,  budget: 394308.8\n",
      "[28, 21, 3] -> [28, 16, 1, 4, 17, 3] 2.2 sec.\n",
      "\n",
      "sequence #85,  user: 20741443@N00,  budget: 1130963.6\n",
      "[7, 22, 23, 29] -> [7, 1, 21, 4, 16, 3, 29] 2.2 sec.\n",
      "\n",
      "sequence #86,  user: 20741443@N00,  budget: 909621.0\n",
      "[24, 7, 28] -> [24, 16, 4, 2, 17, 14, 3, 1, 28] 2.2 sec.\n",
      "\n",
      "sequence #87,  user: 20741443@N00,  budget: 1189867.9\n",
      "[24, 7, 23, 28] -> [24, 22, 3, 17, 4, 16, 1, 28] 3.8 sec.\n",
      "\n",
      "sequence #88,  user: 22111831@N05,  budget: 8148.0\n",
      "[23, 22, 7] -> [23, 22, 7] 2.6 sec.\n",
      "\n",
      "sequence #89,  user: 22979982@N06,  budget: 2751.8\n",
      "[25, 23, 29] -> [25, 6, 22, 21, 29] 2.2 sec.\n",
      "\n",
      "sequence #90,  user: 22996605@N05,  budget: 20127.4\n",
      "[16, 8, 30, 7] -> [16, 28, 23, 21, 22, 7] 2.2 sec.\n",
      "\n",
      "sequence #91,  user: 23119895@N00,  budget: 15975.9\n",
      "[7, 8, 16] -> [7, 22, 16] 3.0 sec.\n",
      "\n",
      "sequence #92,  user: 23269969@N00,  budget: 7740.9\n",
      "[16, 6, 30, 8] -> [16, 7, 22, 8] 3.2 sec.\n",
      "\n",
      "sequence #93,  user: 23339848@N00,  budget: 5394.1\n",
      "[11, 13, 30] -> [11, 29, 21, 23, 22, 28, 7, 1, 24, 4, 16, 8, 30] 2.5 sec.\n",
      "\n",
      "sequence #94,  user: 23908938@N02,  budget: 9770.4\n",
      "[4, 30, 22] -> [4, 30, 22] 2.6 sec.\n",
      "\n",
      "sequence #95,  user: 23908938@N02,  budget: 10215.5\n",
      "[7, 30, 16, 28] -> [7, 23, 21, 22, 28] 2.4 sec.\n",
      "\n",
      "sequence #96,  user: 23908938@N02,  budget: 19844.8\n",
      "[16, 11, 13] -> [16, 23, 22, 21, 25, 13] 2.4 sec.\n",
      "\n",
      "sequence #97,  user: 23987663@N00,  budget: 81594.1\n",
      "[11, 22, 23, 21] -> [11, 16, 1, 30, 7, 21] 2.4 sec.\n",
      "\n",
      "sequence #98,  user: 23987663@N00,  budget: 62363.5\n",
      "[10, 21, 28, 22] -> [10, 11, 16, 30, 22] 2.3 sec.\n",
      "\n",
      "sequence #99,  user: 23987663@N00,  budget: 35918.6\n",
      "[23, 22, 28] -> [23, 16, 14, 11, 28] 2.3 sec.\n",
      "\n",
      "sequence #100,  user: 24128704@N08,  budget: 4361.0\n",
      "[1, 8, 24] -> [1, 7, 24] 3.0 sec.\n",
      "\n",
      "sequence #101,  user: 24395354@N02,  budget: 8570.4\n",
      "[6, 11, 26] -> [6, 11, 26] 2.1 sec.\n",
      "\n",
      "sequence #102,  user: 24616128@N00,  budget: 164098.2\n",
      "[29, 8, 23] -> [29, 3, 21, 25, 22, 14, 2, 17, 16, 4, 24, 1, 30, 28, 23] 4.5 sec.\n",
      "\n",
      "sequence #103,  user: 24854893@N00,  budget: 45332.0\n",
      "[16, 17, 19] -> [16, 4, 22, 3, 1, 19] 2.4 sec.\n",
      "\n",
      "sequence #104,  user: 24854893@N00,  budget: 42439.4\n",
      "[30, 24, 25, 11] -> [30, 1, 4, 23, 3, 11] 2.3 sec.\n",
      "\n",
      "sequence #105,  user: 24854893@N00,  budget: 33072.3\n",
      "[25, 16, 24] -> [25, 3, 1, 4, 24] 2.2 sec.\n",
      "\n",
      "sequence #106,  user: 25133522@N00,  budget: 13601.1\n",
      "[21, 13, 8, 24] -> [21, 22, 7, 1, 16, 24] 3.2 sec.\n",
      "\n",
      "sequence #107,  user: 25475928@N04,  budget: 40133.3\n",
      "[21, 23, 30, 28] -> [21, 11, 25, 4, 24, 1, 7, 23, 22, 28] 2.8 sec.\n",
      "\n",
      "sequence #108,  user: 25561968@N00,  budget: 354.8\n",
      "[8, 16, 4] -> [8, 16, 4] 2.1 sec.\n",
      "\n",
      "sequence #109,  user: 25802393@N02,  budget: 1996.2\n",
      "[23, 7, 30, 16, 8, 4] -> [23, 28, 22, 30, 8, 16, 4] 2.0 sec.\n",
      "\n",
      "sequence #110,  user: 25846522@N00,  budget: 9429.0\n",
      "[23, 22, 28, 1] -> [23, 30, 16, 1] 2.7 sec.\n",
      "\n",
      "sequence #111,  user: 26195569@N00,  budget: 2000.8\n",
      "[11, 27, 6] -> [11, 29, 6] 2.1 sec.\n",
      "\n",
      "sequence #112,  user: 26240579@N05,  budget: 5286.7\n",
      "[16, 30, 28, 21] -> [16, 22, 21] 3.1 sec.\n",
      "\n",
      "sequence #113,  user: 26344918@N04,  budget: 10645.6\n",
      "[28, 22, 1, 7] -> [28, 21, 22, 7] 2.8 sec.\n",
      "\n",
      "sequence #114,  user: 26736723@N00,  budget: 5075.8\n",
      "[8, 4, 16] -> [8, 1, 16] 2.8 sec.\n",
      "\n",
      "sequence #115,  user: 27008470@N00,  budget: 1191.0\n",
      "[22, 30, 8] -> [22, 16, 8] 2.0 sec.\n",
      "\n",
      "sequence #116,  user: 27031977@N04,  budget: 485.1\n",
      "[28, 22, 23] -> [28, 22, 23] 2.1 sec.\n",
      "\n",
      "sequence #117,  user: 27168489@N00,  budget: 1850.6\n",
      "[16, 8, 28, 22, 23, 21] -> [16, 8, 22, 28, 23, 21] 2.1 sec.\n",
      "\n",
      "sequence #118,  user: 27895744@N00,  budget: 686.4\n",
      "[8, 16, 1] -> [8, 16, 1] 2.1 sec.\n",
      "\n",
      "sequence #119,  user: 27947906@N08,  budget: 4913.0\n",
      "[16, 24, 13] -> [16, 8, 22, 28, 23, 21, 29, 11, 13] 2.2 sec.\n",
      "\n",
      "sequence #120,  user: 28157992@N03,  budget: 21560.3\n",
      "[15, 19, 1] -> [15, 19, 1] 3.0 sec.\n",
      "\n",
      "sequence #121,  user: 28288718@N03,  budget: 36271.8\n",
      "[30, 27, 21] -> [30, 1, 3, 21] 2.4 sec.\n",
      "\n",
      "sequence #122,  user: 28288718@N03,  budget: 14851.4\n",
      "[21, 28, 30] -> [21, 3, 1, 30] 2.3 sec.\n",
      "\n",
      "sequence #123,  user: 28288718@N03,  budget: 11091.4\n",
      "[30, 23, 28] -> [30, 16, 28] 2.3 sec.\n",
      "\n",
      "sequence #124,  user: 29352917@N00,  budget: 17230.9\n",
      "[16, 23, 28, 22] -> [16, 4, 1, 21, 22] 2.5 sec.\n",
      "\n",
      "sequence #125,  user: 29352917@N00,  budget: 6403.9\n",
      "[29, 30, 16] -> [29, 22, 16] 2.3 sec.\n",
      "\n",
      "sequence #126,  user: 29352917@N00,  budget: 9202.0\n",
      "[6, 25, 23] -> [6, 22, 21, 23] 2.5 sec.\n",
      "\n",
      "sequence #127,  user: 29619840@N00,  budget: 6883.8\n",
      "[8, 4, 16] -> [8, 1, 16] 2.7 sec.\n",
      "\n",
      "sequence #128,  user: 30624156@N00,  budget: 96200.7\n",
      "[16, 8, 30, 7] -> [16, 11, 30, 7] 2.2 sec.\n",
      "\n",
      "sequence #129,  user: 30624156@N00,  budget: 104408.4\n",
      "[21, 23, 22, 28] -> [21, 11, 16, 1, 28] 2.2 sec.\n",
      "\n",
      "sequence #130,  user: 30624156@N00,  budget: 133125.9\n",
      "[28, 7, 30, 22, 27] -> [28, 16, 1, 30, 14, 11, 27] 2.1 sec.\n",
      "\n",
      "sequence #131,  user: 30739892@N03,  budget: 14114.5\n",
      "[28, 22, 21] -> [28, 16, 1, 21] 2.4 sec.\n",
      "\n",
      "sequence #132,  user: 30855862@N07,  budget: 6128.0\n",
      "[7, 1, 16] -> [7, 1, 16] 2.9 sec.\n",
      "\n",
      "sequence #133,  user: 31114347@N05,  budget: 893.8\n",
      "[24, 8, 30] -> [24, 1, 30] 2.0 sec.\n",
      "\n",
      "sequence #134,  user: 31349854@N00,  budget: 10420.3\n",
      "[23, 22, 25] -> [23, 1, 16, 25] 2.3 sec.\n",
      "\n",
      "sequence #135,  user: 32044903@N04,  budget: 3096.1\n",
      "[28, 7, 27] -> [28, 22, 23, 21, 3, 29, 11, 27] 2.1 sec.\n",
      "\n",
      "sequence #136,  user: 32781576@N04,  budget: 7038.7\n",
      "[28, 22, 25] -> [28, 22, 25] 2.6 sec.\n",
      "\n",
      "sequence #137,  user: 32827327@N03,  budget: 10302.6\n",
      "[20, 6, 25, 11, 30, 24] -> [20, 11, 29, 21, 23, 22, 28, 7, 1, 30, 8, 16, 4, 24] 2.4 sec.\n",
      "\n",
      "sequence #138,  user: 32934461@N00,  budget: 9115.1\n",
      "[30, 16, 8, 21] -> [30, 7, 22, 23, 21] 3.0 sec.\n",
      "\n",
      "sequence #139,  user: 32944866@N04,  budget: 18121.3\n",
      "[22, 29, 11] -> [22, 28, 11] 3.0 sec.\n",
      "\n",
      "sequence #140,  user: 33182025@N00,  budget: 10974.9\n",
      "[19, 7, 23, 21] -> [19, 7, 23, 21] 3.1 sec.\n",
      "\n",
      "sequence #141,  user: 33473816@N00,  budget: 111594.8\n",
      "[22, 8, 30] -> [22, 21, 19, 16, 1, 30] 2.4 sec.\n",
      "\n",
      "sequence #142,  user: 33473816@N00,  budget: 101603.4\n",
      "[7, 27, 30] -> [7, 21, 22, 30] 2.4 sec.\n",
      "\n",
      "sequence #143,  user: 33547369@N00,  budget: 17449.9\n",
      "[22, 28, 23] -> [22, 28, 23] 2.9 sec.\n",
      "\n",
      "sequence #144,  user: 33547369@N00,  budget: 21292.9\n",
      "[23, 21, 22] -> [23, 7, 16, 1, 22] 2.9 sec.\n",
      "\n",
      "sequence #145,  user: 33906853@N00,  budget: 19802.0\n",
      "[22, 29, 1] -> [22, 21, 1] 2.9 sec.\n",
      "\n",
      "sequence #146,  user: 34128007@N04,  budget: 3180.2\n",
      "[8, 16, 4, 1, 29] -> [8, 16, 4, 22, 28, 23, 21, 29] 2.1 sec.\n",
      "\n",
      "sequence #147,  user: 34211328@N00,  budget: 159961.7\n",
      "[30, 24, 4] -> [30, 1, 4] 1.9 sec.\n",
      "\n",
      "sequence #148,  user: 34211328@N00,  budget: 155194.9\n",
      "[21, 23, 22] -> [21, 1, 22] 1.9 sec.\n",
      "\n",
      "sequence #149,  user: 34211328@N00,  budget: 203224.6\n",
      "[2, 17, 14] -> [2, 1, 16, 14] 2.7 sec.\n",
      "\n",
      "sequence #150,  user: 34211328@N00,  budget: 221713.8\n",
      "[8, 16, 7] -> [8, 3, 1, 7] 2.1 sec.\n",
      "\n",
      "sequence #151,  user: 34211328@N00,  budget: 81255.3\n",
      "[17, 2, 14] -> [17, 2, 14] 2.1 sec.\n",
      "\n",
      "sequence #152,  user: 34211328@N00,  budget: 285186.7\n",
      "[17, 14, 27, 11] -> [17, 28, 1, 11] 1.9 sec.\n",
      "\n",
      "sequence #153,  user: 34211328@N00,  budget: 346103.9\n",
      "[11, 29, 6, 23, 22] -> [11, 21, 23, 1, 22] 2.1 sec.\n",
      "\n",
      "sequence #154,  user: 34211328@N00,  budget: 239306.7\n",
      "[8, 16, 13] -> [8, 1, 3, 13] 2.0 sec.\n",
      "\n",
      "sequence #155,  user: 34211328@N00,  budget: 302787.7\n",
      "[7, 30, 22, 21, 23] -> [7, 25, 4, 1, 30, 23] 2.3 sec.\n",
      "\n",
      "sequence #156,  user: 34211328@N00,  budget: 93325.0\n",
      "[7, 28, 29] -> [7, 28, 29] 1.9 sec.\n",
      "\n",
      "sequence #157,  user: 34314322@N00,  budget: 4051.6\n",
      "[30, 22, 28, 29, 16] -> [30, 22, 21, 23, 7, 1, 24, 8, 4, 16] 2.2 sec.\n",
      "\n",
      "sequence #158,  user: 34608255@N08,  budget: 34336.9\n",
      "[22, 11, 7] -> [22, 21, 1, 4, 16, 7] 2.2 sec.\n",
      "\n",
      "sequence #159,  user: 34619038@N00,  budget: 31741.8\n",
      "[22, 28, 6] -> [22, 4, 16, 8, 24, 1, 7, 23, 21, 3, 13, 11, 25, 6] 3.7 sec.\n",
      "\n",
      "sequence #160,  user: 34961066@N00,  budget: 40307.2\n",
      "[23, 11, 21] -> [23, 28, 16, 4, 24, 1, 30, 22, 25, 27, 3, 21] 3.0 sec.\n",
      "\n",
      "sequence #161,  user: 35034347485@N01,  budget: 9442.3\n",
      "[6, 21, 23, 28, 22] -> [6, 21, 23, 28, 22] 3.1 sec.\n",
      "\n",
      "sequence #162,  user: 35034348378@N01,  budget: 36832.1\n",
      "[22, 28, 21, 30, 1, 8, 16] -> [22, 3, 11, 25, 6, 21, 23, 7, 1, 24, 8, 4, 16] 2.9 sec.\n",
      "\n",
      "sequence #163,  user: 35107151@N04,  budget: 10923.0\n",
      "[7, 22, 6] -> [7, 22, 6] 3.0 sec.\n",
      "\n",
      "sequence #164,  user: 35237095252@N01,  budget: 1311.6\n",
      "[30, 7, 16, 4] -> [30, 1, 8, 16, 4] 2.0 sec.\n",
      "\n",
      "sequence #165,  user: 35468159247@N01,  budget: 19195.0\n",
      "[24, 16, 30, 6, 21] -> [24, 16, 1, 30, 28, 23, 21] 2.4 sec.\n",
      "\n",
      "sequence #166,  user: 35468159247@N01,  budget: 8106.6\n",
      "[23, 21, 22] -> [23, 21, 22] 2.3 sec.\n",
      "\n",
      "sequence #167,  user: 35764233@N00,  budget: 26974.2\n",
      "[23, 13, 21, 1, 22] -> [23, 21, 7, 30, 8, 16, 25, 11, 6, 22] 4.0 sec.\n",
      "\n",
      "sequence #168,  user: 35764233@N00,  budget: 11058.5\n",
      "[21, 16, 22] -> [21, 16, 22] 2.4 sec.\n",
      "\n",
      "sequence #169,  user: 36357702@N08,  budget: 13667.0\n",
      "[7, 30, 4, 16, 8, 28, 22] -> [7, 1, 16, 30, 23, 21, 28, 22] 2.7 sec.\n",
      "\n",
      "sequence #170,  user: 36553196@N08,  budget: 1933.2\n",
      "[16, 30, 22, 6] -> [16, 8, 22, 6] 2.1 sec.\n",
      "\n",
      "sequence #171,  user: 37517876@N07,  budget: 16742.6\n",
      "[11, 27, 23] -> [11, 16, 23] 2.1 sec.\n",
      "\n",
      "sequence #172,  user: 37517876@N07,  budget: 21469.4\n",
      "[21, 6, 7, 1] -> [21, 7, 4, 16, 1] 2.2 sec.\n",
      "\n",
      "sequence #173,  user: 37517876@N07,  budget: 12822.4\n",
      "[1, 30, 7] -> [1, 30, 7] 2.1 sec.\n",
      "\n",
      "sequence #174,  user: 37517876@N07,  budget: 34088.9\n",
      "[24, 28, 22, 21] -> [24, 4, 16, 1, 28, 21] 2.3 sec.\n",
      "\n",
      "sequence #175,  user: 37663331@N00,  budget: 6728.7\n",
      "[23, 28, 21] -> [23, 28, 21] 2.2 sec.\n",
      "\n",
      "sequence #176,  user: 37804979@N00,  budget: 4998.0\n",
      "[21, 28, 22, 16] -> [21, 28, 22, 16] 2.5 sec.\n",
      "\n",
      "sequence #177,  user: 37996606796@N01,  budget: 560.1\n",
      "[24, 8, 16] -> [24, 8, 16] 2.0 sec.\n",
      "\n",
      "sequence #178,  user: 39038071@N00,  budget: 6652.1\n",
      "[22, 25, 6] -> [22, 21, 6] 2.5 sec.\n",
      "\n",
      "sequence #179,  user: 39357749@N00,  budget: 30869.1\n",
      "[7, 30, 16] -> [7, 1, 22, 21, 3, 11, 2, 4, 16] 2.4 sec.\n",
      "\n",
      "sequence #180,  user: 39460517@N03,  budget: 15935.0\n",
      "[2, 14, 17] -> [2, 14, 17] 2.1 sec.\n",
      "\n",
      "sequence #181,  user: 39460517@N03,  budget: 221823.2\n",
      "[22, 28, 23, 21] -> [22, 7, 1, 16, 6, 11, 21] 2.2 sec.\n",
      "\n",
      "sequence #182,  user: 39460517@N03,  budget: 165115.6\n",
      "[22, 28, 21] -> [22, 7, 11, 21] 2.1 sec.\n",
      "\n",
      "sequence #183,  user: 39460517@N03,  budget: 235594.9\n",
      "[21, 23, 22, 28] -> [21, 23, 3, 11, 13, 6, 25, 2, 16, 4, 8, 1, 30, 7, 28] 2.2 sec.\n",
      "\n",
      "sequence #184,  user: 39587684@N00,  budget: 9022.9\n",
      "[30, 8, 7] -> [30, 1, 16, 7] 2.3 sec.\n",
      "\n",
      "sequence #185,  user: 39587684@N00,  budget: 9255.3\n",
      "[25, 1, 7] -> [25, 16, 7] 2.4 sec.\n",
      "\n",
      "sequence #186,  user: 39587684@N00,  budget: 5907.4\n",
      "[23, 28, 22] -> [23, 28, 22] 2.2 sec.\n",
      "\n",
      "sequence #187,  user: 41721440@N00,  budget: 2916.2\n",
      "[23, 28, 21] -> [23, 28, 21] 2.7 sec.\n",
      "\n",
      "sequence #188,  user: 41894165897@N01,  budget: 4839.5\n",
      "[11, 29, 7] -> [11, 28, 7] 2.8 sec.\n",
      "\n",
      "sequence #189,  user: 42536354@N00,  budget: 92451.8\n",
      "[21, 6, 25] -> [21, 3, 1, 16, 4, 17, 14, 25] 2.3 sec.\n",
      "\n",
      "sequence #190,  user: 42907325@N00,  budget: 21903.2\n",
      "[28, 16, 4] -> [28, 22, 4] 2.5 sec.\n",
      "\n",
      "sequence #191,  user: 43139087@N00,  budget: 108438.8\n",
      "[24, 30, 7] -> [24, 16, 17, 7] 2.1 sec.\n",
      "\n",
      "sequence #192,  user: 43139087@N00,  budget: 180171.4\n",
      "[21, 23, 28, 22, 7] -> [21, 22, 16, 1, 17, 14, 7] 2.2 sec.\n",
      "\n",
      "sequence #193,  user: 43334562@N00,  budget: 9018.0\n",
      "[7, 21, 23] -> [7, 1, 16, 23] 3.0 sec.\n",
      "\n",
      "sequence #194,  user: 43919105@N02,  budget: 4263.1\n",
      "[28, 22, 23] -> [28, 22, 23] 2.9 sec.\n",
      "\n",
      "sequence #195,  user: 44124367252@N01,  budget: 12283.4\n",
      "[6, 16, 4] -> [6, 16, 4] 2.5 sec.\n",
      "\n",
      "sequence #196,  user: 44359705@N07,  budget: 2063.5\n",
      "[16, 4, 30, 21] -> [16, 8, 1, 30, 7, 23, 21] 2.0 sec.\n",
      "\n",
      "sequence #197,  user: 44654079@N05,  budget: 14680.5\n",
      "[6, 22, 28] -> [6, 22, 28] 2.8 sec.\n",
      "\n",
      "sequence #198,  user: 44925192@N00,  budget: 1988.5\n",
      "[21, 7, 30, 16, 4] -> [21, 23, 28, 22, 8, 16, 4] 2.0 sec.\n",
      "\n",
      "sequence #199,  user: 46769540@N00,  budget: 38879.3\n",
      "[28, 22, 6] -> [28, 1, 16, 11, 6] 2.6 sec.\n",
      "\n",
      "sequence #200,  user: 47501960@N00,  budget: 16924.6\n",
      "[23, 28, 3] -> [23, 28, 3] 2.4 sec.\n",
      "\n",
      "sequence #201,  user: 47501960@N00,  budget: 15393.3\n",
      "[23, 27, 21] -> [23, 16, 21] 2.3 sec.\n",
      "\n",
      "sequence #202,  user: 47554402@N00,  budget: 3847.6\n",
      "[23, 21, 28] -> [23, 22, 28] 2.6 sec.\n",
      "\n",
      "sequence #203,  user: 47616704@N00,  budget: 42579.5\n",
      "[22, 4, 16, 24, 7, 6, 30] -> [22, 28, 23, 21, 3, 29, 25, 14, 2, 17, 16, 4, 24, 1, 30] 3.5 sec.\n",
      "\n",
      "sequence #204,  user: 48085290@N00,  budget: 8788.9\n",
      "[30, 16, 7] -> [30, 16, 7] 2.3 sec.\n",
      "\n",
      "sequence #205,  user: 48453097@N00,  budget: 15943.2\n",
      "[28, 25, 21] -> [28, 22, 21] 2.9 sec.\n",
      "\n",
      "sequence #206,  user: 48678427@N06,  budget: 37654.5\n",
      "[29, 6, 22, 28, 21] -> [29, 11, 4, 16, 1, 30, 28, 21] 2.9 sec.\n",
      "\n",
      "sequence #207,  user: 48784629@N00,  budget: 1291136.4\n",
      "[8, 4, 16] -> [8, 1, 7, 21, 23, 28, 22, 6, 27, 29, 11, 13, 25, 14, 17, 24, 30, 16] 38.0 sec.\n",
      "\n",
      "sequence #208,  user: 49503002894@N01,  budget: 60009.4\n",
      "[22, 8, 3] -> [22, 25, 4, 24, 16, 17, 14, 2, 15, 30, 1, 23, 28, 29, 27, 3] 3.0 sec.\n",
      "\n",
      "sequence #209,  user: 49503002894@N01,  budget: 163104.2\n",
      "[8, 19, 22] -> [8, 16, 4, 24, 15, 2, 17, 14, 25, 29, 27, 3, 23, 28, 1, 30, 22] 2.6 sec.\n",
      "\n",
      "sequence #210,  user: 49503002894@N01,  budget: 107939.4\n",
      "[8, 16, 22] -> [8, 16, 22] 2.6 sec.\n",
      "\n",
      "sequence #211,  user: 49877040@N03,  budget: 7225.8\n",
      "[16, 4, 25] -> [16, 22, 25] 2.6 sec.\n",
      "\n",
      "sequence #212,  user: 49894734@N00,  budget: 8064.5\n",
      "[21, 23, 22] -> [21, 7, 22] 2.7 sec.\n",
      "\n",
      "sequence #213,  user: 50542255@N00,  budget: 4012.3\n",
      "[16, 7, 28] -> [16, 22, 28] 2.7 sec.\n",
      "\n",
      "sequence #214,  user: 50642338@N00,  budget: 21826.8\n",
      "[27, 11, 30] -> [27, 21, 22, 30] 2.5 sec.\n",
      "\n",
      "sequence #215,  user: 51035555243@N01,  budget: 6474.4\n",
      "[30, 23, 21, 22] -> [30, 1, 7, 22] 2.8 sec.\n",
      "\n",
      "sequence #216,  user: 51035610516@N01,  budget: 12846.7\n",
      "[21, 30, 8, 16, 4] -> [21, 7, 1, 16, 4] 2.7 sec.\n",
      "\n",
      "sequence #217,  user: 51035681908@N01,  budget: 13542.6\n",
      "[21, 22, 4, 16, 25, 11] -> [21, 1, 16, 7, 22, 11] 3.6 sec.\n",
      "\n",
      "sequence #218,  user: 51035729697@N01,  budget: 4899.1\n",
      "[7, 30, 6] -> [7, 22, 6] 2.9 sec.\n",
      "\n",
      "sequence #219,  user: 51260381@N05,  budget: 5694.3\n",
      "[25, 7, 30] -> [25, 7, 30] 2.8 sec.\n",
      "\n",
      "sequence #220,  user: 53874606@N00,  budget: 3964.9\n",
      "[8, 16, 1] -> [8, 16, 1] 2.8 sec.\n",
      "\n",
      "sequence #221,  user: 54058873@N00,  budget: 64900.4\n",
      "[21, 8, 22, 28, 23, 3] -> [21, 28, 30, 7, 8, 22, 11, 3] 2.6 sec.\n",
      "\n",
      "sequence #222,  user: 55929357@N00,  budget: 31130.5\n",
      "[28, 23, 22] -> [28, 23, 22] 2.7 sec.\n",
      "\n",
      "sequence #223,  user: 57519914@N00,  budget: 12929.4\n",
      "[8, 22, 28, 16, 7] -> [8, 16, 22, 21, 7] 3.0 sec.\n",
      "\n",
      "sequence #224,  user: 58919362@N00,  budget: 22290.1\n",
      "[30, 24, 22] -> [30, 1, 16, 28, 22] 2.5 sec.\n",
      "\n",
      "sequence #225,  user: 58919362@N00,  budget: 55535.1\n",
      "[30, 7, 23, 21] -> [30, 1, 4, 16, 29, 11, 3, 28, 22, 21] 2.6 sec.\n",
      "\n",
      "sequence #226,  user: 59525924@N05,  budget: 19182.4\n",
      "[4, 10, 1] -> [4, 16, 21, 22, 1] 2.3 sec.\n",
      "\n",
      "sequence #227,  user: 60142746@N00,  budget: 1395.6\n",
      "[23, 30, 16] -> [23, 22, 16] 2.0 sec.\n",
      "\n",
      "sequence #228,  user: 60597745@N00,  budget: 3902.0\n",
      "[22, 28, 4] -> [22, 28, 4] 2.5 sec.\n",
      "\n",
      "sequence #229,  user: 60597745@N00,  budget: 16089.5\n",
      "[13, 4, 16] -> [13, 25, 22, 21, 23, 16] 2.3 sec.\n",
      "\n",
      "sequence #230,  user: 61239510@N00,  budget: 12963.0\n",
      "[8, 24, 30] -> [8, 16, 22, 28, 21, 30] 2.7 sec.\n",
      "\n",
      "sequence #231,  user: 61377999@N03,  budget: 4839.8\n",
      "[6, 21, 22] -> [6, 21, 22] 2.2 sec.\n",
      "\n",
      "sequence #232,  user: 61377999@N03,  budget: 7442.4\n",
      "[22, 16, 4] -> [22, 16, 4] 2.4 sec.\n",
      "\n",
      "sequence #233,  user: 61377999@N03,  budget: 6979.9\n",
      "[7, 11, 25] -> [7, 1, 4, 25] 2.3 sec.\n",
      "\n",
      "sequence #234,  user: 61609579@N00,  budget: 609.1\n",
      "[22, 28, 23, 21] -> [22, 28, 23, 21] 2.0 sec.\n",
      "\n",
      "sequence #235,  user: 62373848@N00,  budget: 4458.3\n",
      "[28, 4, 16] -> [28, 22, 30, 16] 2.7 sec.\n",
      "\n",
      "sequence #236,  user: 62486370@N00,  budget: 26348.9\n",
      "[2, 17, 14] -> [2, 22, 14] 2.9 sec.\n",
      "\n",
      "sequence #237,  user: 63706803@N00,  budget: 23111.8\n",
      "[23, 22, 29] -> [23, 22, 29] 2.4 sec.\n",
      "\n",
      "sequence #238,  user: 64834051@N00,  budget: 7921.5\n",
      "[4, 16, 8] -> [4, 16, 8] 2.4 sec.\n",
      "\n",
      "sequence #239,  user: 65438265@N00,  budget: 1999.6\n",
      "[7, 22, 30, 16] -> [7, 30, 1, 8, 4, 16] 2.1 sec.\n",
      "\n",
      "sequence #240,  user: 66922282@N00,  budget: 547.5\n",
      "[22, 23, 28] -> [22, 23, 28] 2.0 sec.\n",
      "\n",
      "sequence #241,  user: 67194633@N00,  budget: 3052.3\n",
      "[22, 29, 16] -> [22, 21, 23, 28, 7, 30, 1, 8, 4, 16] 2.1 sec.\n",
      "\n",
      "sequence #242,  user: 67694608@N00,  budget: 11781.7\n",
      "[16, 4, 22, 28] -> [16, 22, 21, 23, 28] 2.7 sec.\n",
      "\n",
      "sequence #243,  user: 67952341@N00,  budget: 10489.7\n",
      "[16, 8, 4] -> [16, 1, 21, 22, 4] 2.6 sec.\n",
      "\n",
      "sequence #244,  user: 68803445@N00,  budget: 9148.3\n",
      "[4, 16, 8] -> [4, 16, 8] 2.8 sec.\n",
      "\n",
      "sequence #245,  user: 69525052@N06,  budget: 1496.9\n",
      "[22, 21, 30] -> [22, 28, 7, 1, 30] 2.1 sec.\n",
      "\n",
      "sequence #246,  user: 69754957@N00,  budget: 43981.4\n",
      "[11, 23, 3, 30, 7, 16, 4, 1, 2] -> [11, 21, 23, 22, 7, 1, 8, 16, 4, 2] 3.1 sec.\n",
      "\n",
      "sequence #247,  user: 69754957@N00,  budget: 30700.6\n",
      "[29, 21, 3, 30] -> [29, 25, 22, 23, 21, 30] 2.3 sec.\n",
      "\n",
      "sequence #248,  user: 70289230@N00,  budget: 4610.8\n",
      "[27, 29, 23] -> [27, 29, 23] 2.4 sec.\n",
      "\n",
      "sequence #249,  user: 70554294@N00,  budget: 2468.6\n",
      "[16, 30, 28, 22, 29] -> [16, 22, 21, 29] 2.1 sec.\n",
      "\n",
      "sequence #250,  user: 71206023@N00,  budget: 5799.2\n",
      "[24, 16, 8] -> [24, 16, 8] 2.6 sec.\n",
      "\n",
      "sequence #251,  user: 71482738@N00,  budget: 49067.7\n",
      "[16, 8, 30, 11, 25] -> [16, 4, 24, 1, 30, 3, 21, 23, 28, 22, 25] 2.8 sec.\n",
      "\n",
      "sequence #252,  user: 71482738@N00,  budget: 9411.7\n",
      "[21, 6, 22, 28] -> [21, 23, 22, 28] 2.5 sec.\n",
      "\n",
      "sequence #253,  user: 72236905@N00,  budget: 2945.9\n",
      "[27, 11, 8] -> [27, 6, 16, 8] 2.0 sec.\n",
      "\n",
      "sequence #254,  user: 72778314@N00,  budget: 28070.9\n",
      "[23, 28, 22, 25, 4, 21] -> [23, 22, 4, 30, 1, 16, 28, 29, 3, 21] 3.0 sec.\n",
      "\n",
      "sequence #255,  user: 73416633@N00,  budget: 1839.0\n",
      "[21, 6, 23] -> [21, 22, 28, 23] 2.1 sec.\n",
      "\n",
      "sequence #256,  user: 75396048@N00,  budget: 5870.1\n",
      "[21, 24, 30] -> [21, 22, 28, 30] 2.6 sec.\n",
      "\n",
      "sequence #257,  user: 75450299@N07,  budget: 29032.6\n",
      "[25, 6, 22, 21, 28] -> [25, 1, 16, 11, 28] 2.6 sec.\n",
      "\n",
      "sequence #258,  user: 75450299@N07,  budget: 9456.1\n",
      "[22, 28, 21] -> [22, 28, 21] 2.5 sec.\n",
      "\n",
      "sequence #259,  user: 77112637@N00,  budget: 54785.7\n",
      "[23, 22, 21] -> [23, 11, 16, 8, 1, 7, 21] 2.4 sec.\n",
      "\n",
      "sequence #260,  user: 7776449@N06,  budget: 30655.2\n",
      "[22, 29, 11] -> [22, 1, 16, 11] 2.3 sec.\n",
      "\n",
      "sequence #261,  user: 7776449@N06,  budget: 30385.7\n",
      "[21, 23, 6, 25, 27] -> [21, 23, 1, 16, 25, 27] 2.4 sec.\n",
      "\n",
      "sequence #262,  user: 78015320@N00,  budget: 22270.4\n",
      "[16, 8, 28, 22, 6] -> [16, 4, 1, 23, 21, 22, 6] 2.8 sec.\n",
      "\n",
      "sequence #263,  user: 78015320@N00,  budget: 11584.6\n",
      "[6, 13, 11] -> [6, 21, 22, 11] 2.5 sec.\n",
      "\n",
      "sequence #264,  user: 78433558@N00,  budget: 10701.0\n",
      "[1, 7, 28] -> [1, 21, 22, 28] 2.5 sec.\n",
      "\n",
      "sequence #265,  user: 8070489@N02,  budget: 547.5\n",
      "[22, 23, 28] -> [22, 23, 28] 2.0 sec.\n",
      "\n",
      "sequence #266,  user: 8110030@N05,  budget: 6950.5\n",
      "[21, 23, 28, 30, 16, 1, 4, 24, 7, 19] -> [21, 23, 28, 22, 6, 4, 16, 8, 30, 7, 1, 24, 15, 19] 2.7 sec.\n",
      "\n",
      "sequence #267,  user: 81471618@N06,  budget: 4808.1\n",
      "[28, 23, 21] -> [28, 23, 21] 2.4 sec.\n",
      "\n",
      "sequence #268,  user: 81471618@N06,  budget: 7730.5\n",
      "[11, 19, 15] -> [11, 6, 15] 2.4 sec.\n",
      "\n",
      "sequence #269,  user: 8250978@N04,  budget: 2209.7\n",
      "[30, 22, 28, 7, 8] -> [30, 7, 1, 24, 4, 16, 8] 2.2 sec.\n",
      "\n",
      "sequence #270,  user: 82845843@N04,  budget: 5750.0\n",
      "[6, 27, 11] -> [6, 29, 11] 3.0 sec.\n",
      "\n",
      "sequence #271,  user: 84035351@N00,  budget: 4241.1\n",
      "[23, 21, 30] -> [23, 22, 30] 2.7 sec.\n",
      "\n",
      "sequence #272,  user: 84518681@N00,  budget: 15163.0\n",
      "[16, 4, 8] -> [16, 1, 8] 2.8 sec.\n",
      "\n",
      "sequence #273,  user: 84711541@N00,  budget: 129324.1\n",
      "[30, 7, 22, 23, 21] -> [30, 1, 8, 4, 16, 7, 3, 11, 6, 28, 21] 2.4 sec.\n",
      "\n",
      "sequence #274,  user: 84800532@N02,  budget: 12678.8\n",
      "[22, 11, 16] -> [22, 21, 23, 1, 4, 16] 2.7 sec.\n",
      "\n",
      "sequence #275,  user: 84987970@N00,  budget: 611913.5\n",
      "[22, 28, 23, 21] -> [22, 16, 7, 11, 6, 21] 2.1 sec.\n",
      "\n",
      "sequence #276,  user: 84987970@N00,  budget: 830256.8\n",
      "[3, 21, 22, 25] -> [3, 23, 6, 11, 16, 8, 7, 17, 13, 25] 2.5 sec.\n",
      "\n",
      "sequence #277,  user: 84987970@N00,  budget: 385427.9\n",
      "[4, 2, 17] -> [4, 16, 8, 7, 11, 17] 2.2 sec.\n",
      "\n",
      "sequence #278,  user: 84987970@N00,  budget: 900627.3\n",
      "[7, 22, 23, 3, 29] -> [7, 23, 8, 17, 16, 6, 25, 13, 11, 29] 2.9 sec.\n",
      "\n",
      "sequence #279,  user: 84987970@N00,  budget: 602353.5\n",
      "[21, 22, 3] -> [21, 16, 7, 6, 13, 11, 3] 2.3 sec.\n",
      "\n",
      "sequence #280,  user: 84987970@N00,  budget: 477424.3\n",
      "[3, 21, 23] -> [3, 7, 16, 13, 11, 6, 23] 2.2 sec.\n",
      "\n",
      "sequence #281,  user: 84987970@N00,  budget: 531372.7\n",
      "[3, 30, 22] -> [3, 11, 16, 22] 2.1 sec.\n",
      "\n",
      "sequence #282,  user: 84987970@N00,  budget: 958309.5\n",
      "[30, 23, 21, 22, 6, 16] -> [30, 14, 21, 7, 13, 11, 6, 8, 23, 16] 11.8 sec.\n",
      "\n",
      "sequence #283,  user: 84987970@N00,  budget: 502848.4\n",
      "[21, 23, 1] -> [21, 11, 16, 1] 2.2 sec.\n",
      "\n",
      "sequence #284,  user: 84987970@N00,  budget: 1089044.0\n",
      "[6, 22, 28, 21, 23, 30, 7] -> [6, 23, 21, 11, 13, 14, 25, 30, 8, 16, 7] 2.3 sec.\n",
      "\n",
      "sequence #285,  user: 84987970@N00,  budget: 488195.9\n",
      "[21, 22, 23] -> [21, 6, 7, 16, 11, 13, 23] 2.2 sec.\n",
      "\n",
      "sequence #286,  user: 84987970@N00,  budget: 1201841.3\n",
      "[3, 21, 23, 28, 7, 30, 22] -> [3, 11, 8, 16, 7, 6, 25, 23, 28, 13, 22] 3.2 sec.\n",
      "\n",
      "sequence #287,  user: 84987970@N00,  budget: 1226845.0\n",
      "[6, 4, 30, 7, 28, 21] -> [6, 22, 23, 7, 8, 16, 11, 13, 21] 5.1 sec.\n",
      "\n",
      "sequence #288,  user: 84987970@N00,  budget: 997067.0\n",
      "[29, 22, 28, 23, 21, 27] -> [29, 6, 16, 8, 7, 21, 23, 11, 13, 27] 377.8 sec.\n",
      "\n",
      "sequence #289,  user: 84987970@N00,  budget: 336900.9\n",
      "[21, 23, 28, 6] -> [21, 13, 7, 16, 11, 6] 2.2 sec.\n",
      "\n",
      "sequence #290,  user: 84987970@N00,  budget: 406082.2\n",
      "[22, 29, 24, 11] -> [22, 6, 7, 23, 16, 11] 2.3 sec.\n",
      "\n",
      "sequence #291,  user: 84987970@N00,  budget: 698136.0\n",
      "[28, 22, 21] -> [28, 13, 11, 6, 16, 7, 21] 2.2 sec.\n",
      "\n",
      "sequence #292,  user: 84987970@N00,  budget: 91507.2\n",
      "[2, 17, 14] -> [2, 16, 14] 2.1 sec.\n",
      "\n",
      "sequence #293,  user: 84987970@N00,  budget: 660260.2\n",
      "[7, 28, 22, 30] -> [7, 23, 14, 11, 16, 8, 6, 30] 3.9 sec.\n",
      "\n",
      "sequence #294,  user: 84987970@N00,  budget: 520665.2\n",
      "[22, 28, 23, 3] -> [22, 7, 16, 6, 11, 3] 2.2 sec.\n",
      "\n",
      "sequence #295,  user: 84987970@N00,  budget: 280960.7\n",
      "[24, 15, 19] -> [24, 14, 19] 2.1 sec.\n",
      "\n",
      "sequence #296,  user: 84987970@N00,  budget: 698300.8\n",
      "[23, 22, 21] -> [23, 6, 7, 16, 13, 11, 21] 2.2 sec.\n",
      "\n",
      "sequence #297,  user: 84987970@N00,  budget: 792576.0\n",
      "[22, 21, 3, 23, 28] -> [22, 8, 16, 6, 11, 21, 7, 28] 3.1 sec.\n",
      "\n",
      "sequence #298,  user: 84987970@N00,  budget: 506358.8\n",
      "[22, 30, 21] -> [22, 16, 11, 21] 2.1 sec.\n",
      "\n",
      "sequence #299,  user: 85801042@N00,  budget: 31240.0\n",
      "[7, 28, 23, 21, 3, 4, 8, 16] -> [7, 1, 22, 23, 21, 11, 25, 16] 3.2 sec.\n",
      "\n",
      "sequence #300,  user: 86292040@N00,  budget: 29198.0\n",
      "[30, 1, 8, 16, 23] -> [30, 16, 22, 28, 21, 23] 3.1 sec.\n",
      "\n",
      "sequence #301,  user: 87473264@N00,  budget: 8513.0\n",
      "[13, 24, 16] -> [13, 22, 16] 2.5 sec.\n",
      "\n",
      "sequence #302,  user: 88276719@N00,  budget: 4494.3\n",
      "[7, 16, 30] -> [7, 22, 30] 2.8 sec.\n",
      "\n",
      "sequence #303,  user: 89613559@N07,  budget: 952.3\n",
      "[7, 16, 8] -> [7, 16, 8] 2.0 sec.\n",
      "\n",
      "sequence #304,  user: 9025385@N07,  budget: 20889.2\n",
      "[30, 7, 24, 16] -> [30, 7, 23, 16] 2.7 sec.\n",
      "\n",
      "sequence #305,  user: 9025385@N07,  budget: 11148.2\n",
      "[30, 16, 4, 1, 7] -> [30, 16, 22, 21, 7] 2.5 sec.\n",
      "\n",
      "sequence #306,  user: 91008793@N00,  budget: 6689.5\n",
      "[6, 16, 11, 4, 8] -> [6, 11, 29, 3, 21, 23, 22, 28, 7, 30, 1, 24, 4, 16, 8] 3.2 sec.\n",
      "\n",
      "sequence #307,  user: 91032493@N00,  budget: 22889.2\n",
      "[28, 22, 16, 30, 7] -> [28, 23, 16, 4, 1, 7] 2.5 sec.\n",
      "\n",
      "sequence #308,  user: 91255327@N00,  budget: 1670.0\n",
      "[3, 21, 22, 6] -> [3, 21, 22, 6] 2.0 sec.\n",
      "\n",
      "sequence #309,  user: 9161595@N03,  budget: 7227.4\n",
      "[22, 21, 6, 16] -> [22, 21, 7, 16] 2.8 sec.\n",
      "\n",
      "sequence #310,  user: 92487715@N03,  budget: 18949.9\n",
      "[7, 22, 16] -> [7, 28, 23, 11, 6, 30, 1, 16] 3.5 sec.\n",
      "\n",
      "sequence #311,  user: 93241698@N00,  budget: 3239.4\n",
      "[22, 28, 23] -> [22, 28, 23] 2.7 sec.\n",
      "\n",
      "sequence #312,  user: 93241698@N00,  budget: 5504.9\n",
      "[23, 22, 16] -> [23, 22, 16] 2.7 sec.\n",
      "\n",
      "sequence #313,  user: 93897327@N00,  budget: 4330.0\n",
      "[11, 24, 16, 7] -> [11, 29, 21, 23, 28, 22, 16, 8, 1, 30, 7] 2.4 sec.\n",
      "\n",
      "sequence #314,  user: 94064020@N00,  budget: 18416.5\n",
      "[6, 11, 21, 28] -> [6, 25, 11, 23, 7, 28] 2.7 sec.\n",
      "\n",
      "sequence #315,  user: 9416709@N08,  budget: 1151.8\n",
      "[22, 16, 8] -> [22, 16, 8] 2.0 sec.\n",
      "\n",
      "sequence #316,  user: 9449875@N03,  budget: 69139.9\n",
      "[28, 21, 23] -> [28, 1, 30, 4, 29, 23] 2.2 sec.\n",
      "\n",
      "sequence #317,  user: 9449875@N03,  budget: 43642.8\n",
      "[14, 2, 17] -> [14, 2, 17] 2.3 sec.\n",
      "\n",
      "sequence #318,  user: 94725783@N00,  budget: 6530.6\n",
      "[25, 22, 23, 21] -> [25, 22, 23, 21] 2.5 sec.\n",
      "\n",
      "sequence #319,  user: 94828981@N08,  budget: 32811.9\n",
      "[21, 23, 28] -> [21, 11, 29, 6, 16, 8, 4, 30, 1, 7, 28] 2.4 sec.\n",
      "\n",
      "sequence #320,  user: 96083563@N00,  budget: 3353.7\n",
      "[7, 16, 11] -> [7, 30, 28, 22, 23, 21, 29, 11] 2.2 sec.\n",
      "\n",
      "sequence #321,  user: 96684313@N00,  budget: 727.8\n",
      "[7, 30, 8] -> [7, 30, 8] 2.0 sec.\n",
      "\n",
      "sequence #322,  user: 97675182@N00,  budget: 330.2\n",
      "[2, 14, 17] -> [2, 14, 17] 2.0 sec.\n",
      "\n",
      "sequence #323,  user: 98185064@N00,  budget: 13147.1\n",
      "[28, 4, 16] -> [28, 23, 22, 16] 2.8 sec.\n",
      "\n",
      "sequence #324,  user: 98222757@N02,  budget: 5575.0\n",
      "[23, 28, 7, 24] -> [23, 22, 24] 3.1 sec.\n",
      "\n",
      "sequence #325,  user: 98715075@N00,  budget: 23419.0\n",
      "[1, 30, 4] -> [1, 30, 4] 2.1 sec.\n",
      "\n",
      "sequence #326,  user: 98715075@N00,  budget: 6532.3\n",
      "[22, 23, 21] -> [22, 23, 21] 2.2 sec.\n",
      "\n",
      "sequence #327,  user: 9911655@N08,  budget: 12289.4\n",
      "[25, 29, 8] -> [25, 11, 1, 16, 8] 2.4 sec.\n",
      "\n",
      "sequence #328,  user: 9911655@N08,  budget: 49178.3\n",
      "[28, 21, 30] -> [28, 23, 3, 27, 11, 25, 6, 4, 16, 8, 1, 7, 30] 3.1 sec.\n",
      "\n",
      "sequence #329,  user: 99127884@N00,  budget: 6519.8\n",
      "[21, 23, 28] -> [21, 23, 28] 2.3 sec.\n",
      "\n",
      "sequence #330,  user: 99127884@N00,  budget: 21536.1\n",
      "[11, 29, 6, 22, 28, 7, 30, 1, 15] -> [11, 21, 23, 22, 7, 1, 16, 15] 2.9 sec.\n",
      "\n",
      "sequence #331,  user: 99436246@N00,  budget: 2110.6\n",
      "[16, 22, 29] -> [16, 22, 29] 2.1 sec.\n",
      "\n",
      "sequence #332,  user: 99771506@N00,  budget: 39617.7\n",
      "[11, 29, 13, 30, 2, 23, 7, 21] -> [11, 25, 4, 30, 7, 1, 16, 22, 28, 23, 21] 4.3 sec.\n",
      "\n",
      "sequence #333,  user: 9985167@N04,  budget: 78286.2\n",
      "[22, 28, 21] -> [22, 3, 16, 21] 2.3 sec.\n",
      "\n",
      "sequence #334,  user: 9985167@N04,  budget: 83130.1\n",
      "[28, 23, 21] -> [28, 3, 16, 1, 21] 2.3 sec.\n",
      "\n",
      "sequence #335,  user: 9985167@N04,  budget: 109005.2\n",
      "[23, 30, 22, 28, 3] -> [23, 7, 16, 1, 4, 2, 14, 25, 11, 3] 2.9 sec.\n",
      "\n"
     ]
    }
   ],
   "source": [
    "n = 1\n",
    "#the_user_interest = None\n",
    "#if time_based == True: \n",
    "#    the_user_interest = user_interest['timeBased'].copy()\n",
    "#else: \n",
    "#    the_user_interest = user_interest['freqBased'].copy()\n",
    "        \n",
    "for i in range(len(seqid_set_all)):\n",
    "    seqid = seqid_set_all[i]\n",
    "    seqid_set_train = seqid_set_all[:i] + seqid_set_all[i+1:]\n",
    "    seq = extract_seq(seqid, seq_all)\n",
    "    if len(seq) < 3: continue\n",
    "        \n",
    "    #poi_info = calc_poi_info(seqid_set_train, seq_all, poi_all)\n",
    "    #poi_dist_mat = calc_dist_mat(poi_info)\n",
    "    user_interest = calc_user_interest(seqid_set_train, seq_all, poi_all, poi_info)\n",
    "    the_user_interest = None\n",
    "    if time_based == True: \n",
    "        the_user_interest = user_interest['timeBased'].copy()\n",
    "    else: \n",
    "        the_user_interest = user_interest['freqBased'].copy()\n",
    "    \n",
    "    user = seq_stats.loc[seqid, 'userID']\n",
    "    budget = calc_seq_budget(user, seq, poi_info, poi_dist_mat, the_user_interest)\n",
    "    print('sequence #%d, ' % n, 'user: %s, ' % user, 'budget: %.1f' % budget); sys.stdout.flush()\n",
    "    \n",
    "    t0 = time.time()\n",
    "    recseq = recommend_ILP(user, budget, seq[0], seq[-1], poi_info, poi_dist_mat, eta, speed, the_user_interest)\n",
    "    r, p, F1 = calc_recall_precision_F1score(seq, recseq)\n",
    "    recall.append(r)\n",
    "    precision.append(p)\n",
    "    F1score.append(F1)\n",
    "    \n",
    "    print(seq, '->', recseq, '%.1f sec.\\n' % (time.time() - t0)); sys.stdout.flush()\n",
    "    n += 1"
   ]
  },
  {
   "cell_type": "code",
   "execution_count": 46,
   "metadata": {
    "collapsed": false
   },
   "outputs": [
    {
     "name": "stdout",
     "output_type": "stream",
     "text": [
      "Recall: 0.730, 0.161\n",
      "Precision: 0.564, 0.270\n",
      "F1-score: 0.618, 0.231\n"
     ]
    }
   ],
   "source": [
    "print('Recall: %.3f, %.3f' % (np.mean(recall), np.std(recall)))\n",
    "print('Precision: %.3f, %.3f' % (np.mean(precision), np.std(precision)))\n",
    "print('F1-score: %.3f, %.3f' % (np.mean(F1score), np.std(F1score)))"
   ]
  },
  {
   "cell_type": "code",
   "execution_count": null,
   "metadata": {
    "collapsed": true
   },
   "outputs": [],
   "source": [
    "# 1. obj contains poiFreq\n",
    "# 1. truncate visit duration to at least 10 minutes\n",
    "# 1. use median of photo coords to approximate POI coords\n",
    "# 1. poi info computed using all trajectories, user interest computed on training set\n",
    "#Recall: 0.745, 0.162\n",
    "#Precision: 0.560, 0.287\n",
    "#F1-score: 0.617, 0.245\n",
    "\n",
    "# 1. truncate visit duration to at least 30 minutes\n",
    "#Recall: 0.730, 0.161\n",
    "#Precision: 0.564, 0.270\n",
    "#F1-score: 0.618, 0.231"
   ]
  },
  {
   "cell_type": "code",
   "execution_count": null,
   "metadata": {
    "collapsed": true
   },
   "outputs": [],
   "source": [
    "# set user interest to her average interest in other categories if it does not exist\n",
    "# obj contains number of visit in training set\n",
    "#Recall: 0.749, 0.152\n",
    "#Precision: 0.522, 0.281\n",
    "#F1-score: 0.593, 0.239"
   ]
  },
  {
   "cell_type": "code",
   "execution_count": null,
   "metadata": {
    "collapsed": true
   },
   "outputs": [],
   "source": [
    "# set user interest to her minimum interest in other categories if it does not exist\n",
    "# obj contains number of visit in training set\n",
    "#Recall: 0.757, 0.154\n",
    "#Precision: 0.526, 0.298\n",
    "#F1-score: 0.593, 0.255"
   ]
  },
  {
   "cell_type": "code",
   "execution_count": null,
   "metadata": {
    "collapsed": true
   },
   "outputs": [],
   "source": [
    "# set user interest to constant 2 when it does not exist in training set but appears in test set\n",
    "# use photo coords median instead of mean to approximate POI coords\n",
    "#Recall: 0.726, 0.147\n",
    "#Precision: 0.503, 0.266\n",
    "#F1-score: 0.574, 0.227"
   ]
  },
  {
   "cell_type": "code",
   "execution_count": null,
   "metadata": {
    "collapsed": true
   },
   "outputs": [],
   "source": [
    "# use photo coords median instead of mean to approximate POI coords\n",
    "#Recall: 0.762, 0.155\n",
    "#Precision: 0.519, 0.305\n",
    "#F1-score: 0.589, 0.261"
   ]
  },
  {
   "cell_type": "code",
   "execution_count": null,
   "metadata": {
    "collapsed": true
   },
   "outputs": [],
   "source": [
    "# set POI visit duration to 1 minutes if it is < 1min\n",
    "# use trajectories in training set to compute POI popularity (new def) /visit duration, user interest\n",
    "#Recall: 0.757, 0.154\n",
    "#Precision: 0.512, 0.303\n",
    "#F1-score: 0.582, 0.262"
   ]
  },
  {
   "cell_type": "code",
   "execution_count": null,
   "metadata": {
    "collapsed": true
   },
   "outputs": [],
   "source": [
    "# set POI visit duration to 5 minutes if it is < 5min\n",
    "# use trajectories in training set to compute POI popularity (new def) /visit duration, user interest\n",
    "#Recall: 0.758, 0.154\n",
    "#Precision: 0.517, 0.301\n",
    "#F1-score: 0.588, 0.259"
   ]
  },
  {
   "cell_type": "code",
   "execution_count": null,
   "metadata": {
    "collapsed": true
   },
   "outputs": [],
   "source": [
    "# without filtering out POIs with visit duration 0, \n",
    "# use trajectories in training set to compute POI popularity (new def)/visit duration, user interest\n",
    "#Recall: 0.758, 0.155\n",
    "#Precision: 0.509, 0.309\n",
    "#F1-score: 0.580, 0.266\n",
    "\n",
    "# set POI visit duration to 15 minutes if it is 0\n",
    "# use trajectories in training set to compute POI popularity (new def)/visit duration, user interest\n",
    "#Recall: 0.751, 0.152\n",
    "#Precision: 0.504, 0.293\n",
    "#F1-score: 0.577, 0.251\n",
    "\n",
    "# set POI visit duration to 15 minutes if it is 0\n",
    "# use all trajectories to compute POI popularity (new def)/visit duration, user interest\n",
    "#Recall: 0.699, 0.122\n",
    "#Precision: 0.394, 0.227\n",
    "#F1-score: 0.482, 0.199"
   ]
  },
  {
   "cell_type": "code",
   "execution_count": null,
   "metadata": {
    "collapsed": true
   },
   "outputs": [],
   "source": [
    "# filtering out POIs with visit duration 0, \n",
    "# use trajectories in training set to compute POI popularity (new def)/visit duration, user interest\n",
    "#Recall: 0.744, 0.149\n",
    "#Precision: 0.485, 0.297\n",
    "#F1-score: 0.558, 0.252"
   ]
  },
  {
   "cell_type": "code",
   "execution_count": null,
   "metadata": {
    "collapsed": true
   },
   "outputs": [],
   "source": [
    "# filtering out POIs with visit duration 0, \n",
    "# use all trajectories to compute POI popularity (new def)/visit duration, user interest\n",
    "#Recall: 0.702, 0.125\n",
    "#Precision: 0.377, 0.245\n",
    "#F1-score: 0.465, 0.211"
   ]
  },
  {
   "cell_type": "code",
   "execution_count": null,
   "metadata": {
    "collapsed": true
   },
   "outputs": [],
   "source": [
    "# set POI visit duration to 15 minutes if it is 0\n",
    "# use trajectories in training set to compute POI popularity/visit duration, user interest\n",
    "#Recall: 0.753, 0.153\n",
    "#Precision: 0.515, 0.290\n",
    "#F1-score: 0.587, 0.249"
   ]
  },
  {
   "cell_type": "code",
   "execution_count": null,
   "metadata": {
    "collapsed": true
   },
   "outputs": [],
   "source": [
    "# set POI visit duration to 15 minutes if it is 0\n",
    "# use all trajectories to compute POI popularity/visit duration, user interest\n",
    "#Recall: 0.699, 0.123\n",
    "#Precision: 0.402, 0.226\n",
    "#F1-score: 0.490, 0.198"
   ]
  },
  {
   "cell_type": "code",
   "execution_count": null,
   "metadata": {
    "collapsed": true
   },
   "outputs": [],
   "source": [
    "# set POI visit duration to 15 minutes if it is 0\n",
    "# use all trajectories to compute POI visit duration, user interest\n",
    "# use poiFreq as POI popularity\n",
    "#Recall: 0.698, 0.127\n",
    "#Precision: 0.406, 0.235\n",
    "#F1-score: 0.490, 0.205"
   ]
  },
  {
   "cell_type": "code",
   "execution_count": null,
   "metadata": {
    "collapsed": true
   },
   "outputs": [],
   "source": [
    "# set POI visit duration to 15 minutes if it is 0\n",
    "# use trajectories in training set to compute POI visit duration, user interest\n",
    "# use poiFreq as POI popularity\n",
    "#Recall: 0.744, 0.151\n",
    "#Precision: 0.510, 0.285\n",
    "#F1-score: 0.580, 0.244"
   ]
  },
  {
   "cell_type": "code",
   "execution_count": null,
   "metadata": {
    "collapsed": true
   },
   "outputs": [],
   "source": [
    "# without filtering out POIs with visit duration 0, \n",
    "# use trajectories in training set to compute POI visit duration, user interest\n",
    "# use poiFreq as POI popularity\n",
    "#Recall: 0.756, 0.162\n",
    "#Precision: 0.520, 0.307\n",
    "#F1-score: 0.587, 0.264"
   ]
  },
  {
   "cell_type": "code",
   "execution_count": null,
   "metadata": {
    "collapsed": true
   },
   "outputs": [],
   "source": [
    "# without filtering out POIs with visit duration 0, \n",
    "# use all trajectories to compute POI visit duration, user interest\n",
    "# use poiFreq as POI popularity\n",
    "#Recall: 0.730, 0.145\n",
    "#Precision: 0.444, 0.285\n",
    "#F1-score: 0.522, 0.247"
   ]
  },
  {
   "cell_type": "code",
   "execution_count": null,
   "metadata": {
    "collapsed": true
   },
   "outputs": [],
   "source": [
    "# without filtering out POIs with visit duration 0, \n",
    "# use all trajectories to compute POI popularity/visit duration, user interest\n",
    "#Recall: 0.734, 0.138\n",
    "#Precision: 0.438, 0.279\n",
    "#F1-score: 0.519, 0.242"
   ]
  },
  {
   "cell_type": "code",
   "execution_count": null,
   "metadata": {
    "collapsed": true
   },
   "outputs": [],
   "source": [
    "# without filtering out POIs with visit duration 0, \n",
    "# use trajectories in training set to compute POI popularity/visit duration, user interest\n",
    "#Recall: 0.761, 0.155\n",
    "#Precision: 0.516, 0.303\n",
    "#F1-score: 0.586, 0.260"
   ]
  },
  {
   "cell_type": "code",
   "execution_count": null,
   "metadata": {
    "collapsed": true
   },
   "outputs": [],
   "source": [
    "# filtering out POIs with visit duration 0, \n",
    "# use trajectories in training set to compute POI visit duration, user interest\n",
    "# use poiFreq as POI popularity\n",
    "#Recall: 0.746, 0.148\n",
    "#Precision: 0.492, 0.293\n",
    "#F1-score: 0.563, 0.246"
   ]
  },
  {
   "cell_type": "code",
   "execution_count": null,
   "metadata": {
    "collapsed": true
   },
   "outputs": [],
   "source": [
    "# filtering out POIs with visit duration 0, \n",
    "# use all trajectories to compute POI visit duration, user interest\n",
    "# use poiFreq as POI popularity\n",
    "#Recall: 0.710, 0.131\n",
    "#Precision: 0.389, 0.262\n",
    "#F1-score: 0.474, 0.225"
   ]
  },
  {
   "cell_type": "code",
   "execution_count": null,
   "metadata": {
    "collapsed": true
   },
   "outputs": [],
   "source": [
    "# filtering out POIs with visit duration 0, \n",
    "# use trajectories in training set to compute POI popularity/visit duration, user interest\n",
    "#Recall: 0.750, 0.148\n",
    "#Precision: 0.488, 0.291\n",
    "#F1-score: 0.562, 0.248"
   ]
  },
  {
   "cell_type": "code",
   "execution_count": null,
   "metadata": {
    "collapsed": true
   },
   "outputs": [],
   "source": [
    "# filtering out POIs with visit duration 0, \n",
    "# use all trajectories to compute POI popularity/visit duration, user interest\n",
    "#Recall: 0.710, 0.128\n",
    "#Precision: 0.386, 0.251\n",
    "#F1-score: 0.473, 0.217"
   ]
  },
  {
   "cell_type": "markdown",
   "metadata": {},
   "source": [
    "Search the optimal value of $\\eta \\in [0, 1]$."
   ]
  },
  {
   "cell_type": "code",
   "execution_count": null,
   "metadata": {
    "collapsed": false
   },
   "outputs": [],
   "source": [
    "n = 1\n",
    "time_based = True\n",
    "for eta in np.arange(0, 1.1, 0.1):  # [0, 0.1, 0.2, ..., 0.9, 1]\n",
    "    Recall = []\n",
    "    Preci = []\n",
    "    F1s = []\n",
    "    print('eta:', eta); sys.stdout.flush()\n",
    "    for i in range(len(seqid_set_all)):\n",
    "        seqid = seqid_set_all[i]\n",
    "        seqid_set_train = seqid_set_all[:i] + seqid_set_all[i+1:]\n",
    "        seq = extract_seq(seqid, seq_all)\n",
    "        if len(seq) < 3: continue\n",
    "\n",
    "        poi_info = calc_poi_info(seqid_set_train, seq_all, poi_all)\n",
    "        poi_dist_mat = calc_dist_mat(poi_info)\n",
    "        user_interest = calc_user_interest(seqid_set_train, seq_all, poi_all, poi_info)\n",
    "        the_user_interest = None\n",
    "        if time_based == True: \n",
    "            the_user_interest = user_interest['timeBased'].copy()\n",
    "        else: \n",
    "            the_user_interest = user_interest['freqBased'].copy()\n",
    "\n",
    "        user = seq_stats.loc[seqid, 'userID']\n",
    "        budget = calc_seq_budget(user, seq, poi_info, poi_dist_mat, the_user_interest)\n",
    "        #print('sequence #%d, ' % n, 'user: %s, ' % user, 'budget: %.1f' % budget); sys.stdout.flush()\n",
    "\n",
    "        t0 = time.time()\n",
    "        recseq = recommend_ILP(user, budget, seq[0], seq[-1], poi_info, poi_dist_mat, eta, speed, the_user_interest)\n",
    "        r, p, F1 = calc_recall_precision_F1score(seq, recseq)\n",
    "        Recall.append(r)\n",
    "        Preci.append(p)\n",
    "        F1s.append(F1)\n",
    "\n",
    "        #print(seq, '->', recseq, '%.1f sec.\\n' % (time.time() - t0)); sys.stdout.flush()\n",
    "        #n += 1\n",
    "    print(' '*10, 'Recall: %.3f, %.3f' % (np.mean(Recall), np.std(Recall)))\n",
    "    print(' '*10, 'Precision: %.3f, %.3f' % (np.mean(Preci), np.std(Preci)))\n",
    "    print(' '*10, 'F1-score: %.3f, %.3f' % (np.mean(F1s), np.std(F1s)))"
   ]
  },
  {
   "cell_type": "markdown",
   "metadata": {},
   "source": [
    "POI popularity in ILP objective is the visit frequency (total number of visit in all trajectories) of POI.\n",
    "<table>\n",
    "<tr>\n",
    "<td>$\\eta$</td><td><b>Recall</b></td><td><b>Precision</b></td><td><b>F1-score</b></td>\n",
    "</tr>\n",
    "<tr>\n",
    "<td>0.0</td><td>0.755&plusmn;0.162</td><td>0.520&plusmn;0.307</td><td>0.587&plusmn;0.264</td>\n",
    "</tr>\n",
    "<tr>\n",
    "<td>0.1</td><td><b>0.756&plusmn;0.162</b></td><td>0.521&plusmn;0.307</td><td>0.588&plusmn;0.265</td>\n",
    "</tr>\n",
    "<tr>\n",
    "<td>0.2</td><td>0.755&plusmn;0.162</td><td>0.520&plusmn;0.307</td><td>0.587&plusmn;0.264</td>\n",
    "</tr>\n",
    "<tr>\n",
    "<td>0.3</td><td><b>0.756&plusmn;0.162</b></td><td>0.521&plusmn;0.307</td><td>0.588&plusmn;0.265</td>\n",
    "</tr>\n",
    "<tr>\n",
    "<td>0.4</td><td>0.755&plusmn;0.162</td><td>0.520&plusmn;0.307</td><td>0.587&plusmn;0.264</td>\n",
    "</tr>\n",
    "<tr>\n",
    "<td>0.5</td><td><b>0.756&plusmn;0.162</b></td><td>0.520&plusmn;0.307</td><td>0.587&plusmn;0.264</td>\n",
    "</tr>\n",
    "<tr>\n",
    "<td>0.6</td><td><b>0.756&plusmn;0.162</b></td><td>0.521&plusmn;0.307</td><td>0.588&plusmn;0.265</td>\n",
    "</tr>\n",
    "<tr>\n",
    "<td>0.7</td><td><b>0.756&plusmn;0.162</b></td><td>0.521&plusmn;0.307</td><td>0.588&plusmn;0.265</td>\n",
    "</tr>\n",
    "<tr>\n",
    "<td>0.8</td><td>0.755&plusmn;0.162</td><td>0.520&plusmn;0.307</td><td>0.587&plusmn;0.265</td>\n",
    "</tr>\n",
    "<tr>\n",
    "<td>0.9</td><td>0.754&plusmn;0.163</td><td>0.517&plusmn;0.309</td><td>0.584&plusmn;0.266</td>\n",
    "</tr>\n",
    "<tr>\n",
    "<td>1.0</td><td>0.673&plusmn;0.171</td><td><b>0.701&plusmn;0.312</b></td><td><b>0.648&plusmn;0.219</b></td>\n",
    "</tr>\n",
    "</table>"
   ]
  },
  {
   "cell_type": "markdown",
   "metadata": {},
   "source": [
    "POI popularity in ILP objective is the total number of visit in training set.\n",
    "<table>\n",
    "<tr>\n",
    "<td>$\\eta$</td><td><b>Recall</b></td><td><b>Precision</b></td><td><b>F1-score</b></td>\n",
    "</tr>\n",
    "<tr>\n",
    "<td>0.0</td><td><b>0.761&plusmn;0.155</b></td><td>0.518&plusmn;0.302</td><td>0.588&plusmn;0.259</td>\n",
    "</tr>\n",
    "<tr>\n",
    "<td>0.1</td><td>0.760&plusmn;0.154</td><td>0.517&plusmn;0.301</td><td>0.587&plusmn;0.259</td>\n",
    "</tr>\n",
    "<tr>\n",
    "<td>0.2</td><td>0.760&plusmn;0.154</td><td>0.514&plusmn;0.303</td><td>0.584&plusmn;0.260</td>\n",
    "</tr>\n",
    "<tr>\n",
    "<td>0.3</td><td><b>0.761&plusmn;0.155</b></td><td>0.516&plusmn;0.303</td><td>0.586&plusmn;0.260</td>\n",
    "</tr>\n",
    "<tr>\n",
    "<td>0.4</td><td>0.760&plusmn;0.154</td><td>0.515&plusmn;0.302</td><td>0.585&plusmn;0.260</td>\n",
    "</tr>\n",
    "<tr>\n",
    "<td>0.5</td><td><b>0.761&plusmn;0.155</b></td><td>0.516&plusmn;0.303</td><td>0.586&plusmn;0.260</td>\n",
    "</tr>\n",
    "<tr>\n",
    "<td>0.6</td><td>0.760&plusmn;0.154</td><td>0.516&plusmn;0.301</td><td>0.586&plusmn;0.259</td>\n",
    "</tr>\n",
    "<tr>\n",
    "<td>0.7</td><td>0.759&plusmn;0.155</td><td>0.514&plusmn;0.304</td><td>0.584&plusmn;0.261</td>\n",
    "</tr>\n",
    "<tr>\n",
    "<td>0.8</td><td>0.752&plusmn;0.159</td><td>0.511&plusmn;0.304</td><td>0.580&plusmn;0.262</td>\n",
    "</tr>\n",
    "<tr>\n",
    "<td>0.9</td><td>0.756&plusmn;0.157</td><td>0.518&plusmn;0.302</td><td>0.586&plusmn;0.260</td>\n",
    "</tr>\n",
    "<tr>\n",
    "<td>1.0</td><td>0.673&plusmn;0.171</td><td><b>0.701&plusmn;0.312</b></td><td><b>0.648&plusmn;0.219</b></td>\n",
    "</tr>\n",
    "</table>"
   ]
  },
  {
   "cell_type": "markdown",
   "metadata": {},
   "source": [
    "POI popularity in ILP objective is the number of distinct users that visited the POI (*new def*).\n",
    "<table>\n",
    "<tr>\n",
    "<td>$\\eta$</td><td><b>Recall</b></td><td><b>Precision</b></td><td><b>F1-score</b></td>\n",
    "</tr>\n",
    "<tr>\n",
    "<td>0.0</td><td>0.759&plusmn;0.155</td><td>0.510&plusmn;0.308</td><td>0.580&plusmn;0.266</td>\n",
    "</tr>\n",
    "<tr>\n",
    "<td>0.1</td><td>0.759&plusmn;0.155</td><td>0.509&plusmn;0.309</td><td>0.580&plusmn;0.266</td>\n",
    "</tr>\n",
    "<tr>\n",
    "<td>0.2</td><td>0.759&plusmn;0.155</td><td>0.509&plusmn;0.308</td><td>0.580&plusmn;0.266</td>\n",
    "</tr>\n",
    "<tr>\n",
    "<td>0.3</td><td>0.759&plusmn;0.155</td><td>0.509&plusmn;0.308</td><td>0.580&plusmn;0.266</td>\n",
    "</tr>\n",
    "<tr>\n",
    "<td>0.4</td><td><b>0.761&plusmn;0.153</b></td><td>0.511&plusmn;0.307</td><td>0.582&plusmn;0.264</td>\n",
    "</tr>\n",
    "<tr>\n",
    "<td>0.5</td><td>0.758&plusmn;0.155</td><td>0.509&plusmn;0.309</td><td>0.579&plusmn;0.266</td>\n",
    "</tr>\n",
    "<tr>\n",
    "<td>0.6</td><td>0.757&plusmn;0.156</td><td>0.510&plusmn;0.307</td><td>0.580&plusmn;0.265</td>\n",
    "</tr>\n",
    "<tr>\n",
    "<td>0.7</td><td>0.759&plusmn;0.154</td><td>0.513&plusmn;0.306</td><td>0.583&plusmn;0.263</td>\n",
    "</tr>\n",
    "<tr>\n",
    "<td>0.8</td><td>0.757&plusmn;0.157</td><td>0.513&plusmn;0.306</td><td>0.583&plusmn;0.264</td>\n",
    "</tr>\n",
    "<tr>\n",
    "<td>0.9</td><td>0.755&plusmn;0.159</td><td>0.519&plusmn;0.304</td><td>0.587&plusmn;0.262</td>\n",
    "</tr>\n",
    "<tr>\n",
    "<td>1.0</td><td>0.673&plusmn;0.171</td><td><b>0.701&plusmn;0.312</b></td><td><b>0.648&plusmn;0.219</b></td>\n",
    "</tr>\n",
    "</table>"
   ]
  },
  {
   "cell_type": "markdown",
   "metadata": {},
   "source": [
    "<a id='sec4.3'></a>"
   ]
  },
  {
   "cell_type": "markdown",
   "metadata": {},
   "source": [
    "# 4. Trajectory Recommendation -- Approach I"
   ]
  },
  {
   "cell_type": "markdown",
   "metadata": {},
   "source": [
    "A different leave-one-out cross-validation approach:\n",
    "  - For each user, choose one trajectory (with length >= 3) uniformly at random from all of his/her trajectories \n",
    "    as the validation trajectory\n",
    "  - Use all other trajectories (of all users) to 'train' (i.e. compute metrics for the ILP formulation)"
   ]
  },
  {
   "cell_type": "markdown",
   "metadata": {},
   "source": [
    "<a id='sec4.1'></a>"
   ]
  },
  {
   "cell_type": "markdown",
   "metadata": {},
   "source": [
    "## 4.1 Choose Cross Validation Sequences"
   ]
  },
  {
   "cell_type": "code",
   "execution_count": null,
   "metadata": {
    "collapsed": false
   },
   "outputs": [],
   "source": [
    "cv_seqs = seq_all[['userID', 'seqID', 'poiID']].copy().groupby(['userID', 'seqID']).agg(np.size)\n",
    "cv_seqs.rename(columns={'poiID':'seqLen'}, inplace=True)\n",
    "cv_seqs = cv_seqs[cv_seqs['seqLen'] > 2]\n",
    "cv_seqs.reset_index(inplace=True)\n",
    "print(cv_seqs.shape)\n",
    "cv_seqs.head()"
   ]
  },
  {
   "cell_type": "code",
   "execution_count": null,
   "metadata": {
    "collapsed": true
   },
   "outputs": [],
   "source": [
    "cv_seq_set = []"
   ]
  },
  {
   "cell_type": "code",
   "execution_count": null,
   "metadata": {
    "collapsed": false
   },
   "outputs": [],
   "source": [
    "# choose one sequence for each user in cv_seqs uniformly at random\n",
    "for user in cv_seqs['userID'].unique():\n",
    "    seqlist = cv_seqs[cv_seqs['userID'] == user]['seqID'].tolist()\n",
    "    seqid = random.choice(seqlist)\n",
    "    cv_seq_set.append(seqid)"
   ]
  },
  {
   "cell_type": "code",
   "execution_count": null,
   "metadata": {
    "collapsed": false
   },
   "outputs": [],
   "source": [
    "len(cv_seq_set)"
   ]
  },
  {
   "cell_type": "markdown",
   "metadata": {},
   "source": [
    "<a id='sec4.2'></a>"
   ]
  },
  {
   "cell_type": "markdown",
   "metadata": {},
   "source": [
    "## 4.2 Recommendation by Solving ILPs"
   ]
  },
  {
   "cell_type": "code",
   "execution_count": null,
   "metadata": {
    "collapsed": true
   },
   "outputs": [],
   "source": [
    "def calc_poi_info(seqid_set, seq_all, poi_all):\n",
    "    poi_info = seq_all[seq_all['seqID'].isin(seqid_set)][['poiID', 'poiDuration(sec)']].copy()\n",
    "    poi_info = poi_info.groupby('poiID').agg([np.mean, np.size])\n",
    "    poi_info.columns = poi_info.columns.droplevel()\n",
    "    poi_info.reset_index(inplace=True)\n",
    "    poi_info.rename(columns={'mean':'avgDuration(sec)', 'size':'popularity'}, inplace=True)\n",
    "    poi_info.set_index('poiID', inplace=True)\n",
    "    poi_info['poiTheme'] = poi_all.loc[poi_info.index, 'poiTheme']\n",
    "    poi_info['poiLon'] = poi_all.loc[poi_info.index, 'poiLon']\n",
    "    poi_info['poiLat'] = poi_all.loc[poi_info.index, 'poiLat']\n",
    "    return poi_info.copy()"
   ]
  },
  {
   "cell_type": "code",
   "execution_count": null,
   "metadata": {
    "collapsed": true
   },
   "outputs": [],
   "source": [
    "def calc_user_interest(seqid_set, seq_all, poi_all, poi_info):\n",
    "    user_interest = seq_all[seq_all['seqID'].isin(seqid_set)][['userID', 'poiID', 'poiDuration(sec)']].copy()\n",
    "    user_interest['timeRatio'] = [poi_info.loc[x, 'avgDuration(sec)'] for x in user_interest['poiID']]\n",
    "    user_interest['timeRatio'] = user_interest['poiDuration(sec)'] / user_interest['timeRatio']\n",
    "    user_interest['poiTheme'] = [poi_all.loc[x, 'poiTheme'] for x in user_interest['poiID']]\n",
    "    user_interest.drop(['poiID', 'poiDuration(sec)'], axis=1, inplace=True)\n",
    "    user_interest = user_interest.groupby(['userID', 'poiTheme']).agg([np.sum, np.size]) # the sum\n",
    "    user_interest.columns = user_interest.columns.droplevel()\n",
    "    user_interest.rename(columns={'sum':'timeBased', 'size':'freqBased'}, inplace=True)\n",
    "    user_interest.reset_index(inplace=True)\n",
    "    user_interest.set_index(['userID', 'poiTheme'], inplace=True)\n",
    "    return user_interest.copy()"
   ]
  },
  {
   "cell_type": "code",
   "execution_count": null,
   "metadata": {
    "collapsed": true
   },
   "outputs": [],
   "source": [
    "def calc_dist(longitude1, latitude1, longitude2, latitude2):\n",
    "    \"\"\"Calculate the distance (unit: km) between two places on earth\"\"\"\n",
    "    # convert degrees to radians\n",
    "    lon1 = math.radians(longitude1)\n",
    "    lat1 = math.radians(latitude1)\n",
    "    lon2 = math.radians(longitude2)\n",
    "    lat2 = math.radians(latitude2)\n",
    "    radius = 6371.009 # mean earth radius is 6371.009km, en.wikipedia.org/wiki/Earth_radius#Mean_radius\n",
    "    # The haversine formula, en.wikipedia.org/wiki/Great-circle_distance\n",
    "    dlon = math.fabs(lon1 - lon2)\n",
    "    dlat = math.fabs(lat1 - lat2)\n",
    "    return 2 * radius * math.asin(math.sqrt(\\\n",
    "               (math.sin(0.5*dlat))**2 + math.cos(lat1) * math.cos(lat2) * (math.sin(0.5*dlon))**2 ))"
   ]
  },
  {
   "cell_type": "code",
   "execution_count": null,
   "metadata": {
    "collapsed": true
   },
   "outputs": [],
   "source": [
    "def calc_dist_mat(poi_info):\n",
    "    poi_dist_mat = pd.DataFrame(data=np.zeros((poi_info.shape[0], poi_info.shape[0]), dtype=np.float64), \\\n",
    "                            index=poi_info.index, columns=poi_info.index)\n",
    "    for i in range(poi_info.index.shape[0]):\n",
    "        for j in range(i+1, poi_info.index.shape[0]):\n",
    "            r = poi_info.index[i]\n",
    "            c = poi_info.index[j]\n",
    "            dist = calc_dist(poi_info.loc[r, 'poiLon'], poi_info.loc[r, 'poiLat'], \\\n",
    "                             poi_info.loc[c, 'poiLon'], poi_info.loc[c, 'poiLat'])\n",
    "            assert(dist > 0.)\n",
    "            poi_dist_mat.loc[r, c] = dist\n",
    "            poi_dist_mat.loc[c, r] = dist\n",
    "    return poi_dist_mat"
   ]
  },
  {
   "cell_type": "code",
   "execution_count": null,
   "metadata": {
    "collapsed": true
   },
   "outputs": [],
   "source": [
    "def calc_seq_budget(user, seq, poi_info, poi_dist_mat, user_interest):\n",
    "    \"\"\"Calculate the travel budget for the given travelling sequence\"\"\"\n",
    "    assert(len(seq) > 1)\n",
    "    budget = 0. # travel budget\n",
    "    for i in range(len(seq)-1):\n",
    "        px = seq[i]\n",
    "        py = seq[i+1]\n",
    "        assert(px in poi_info.index)\n",
    "        assert(py in poi_info.index)\n",
    "        budget += 60 * 60 * poi_dist_mat.loc[px, py] / speed  # travel time (seconds)\n",
    "        caty = poi_info.loc[py, 'poiTheme']\n",
    "        avgtime = poi_info.loc[py, 'avgDuration(sec)']\n",
    "        userint = 0\n",
    "        if (user, caty) in user_interest.index: userint = user_interest.loc[user, caty] # for testing set\n",
    "        budget += userint * avgtime  # expected visit duration\n",
    "    return budget"
   ]
  },
  {
   "cell_type": "code",
   "execution_count": null,
   "metadata": {
    "collapsed": false
   },
   "outputs": [],
   "source": [
    "def recommend_ILP(user, budget, startPoi, endPoi, poi_info, poi_dist_mat, eta, speed, user_interest):\n",
    "    assert(0 <= eta <= 1); assert(budget > 0)\n",
    "    p0 = str(startPoi); pN = str(endPoi); N = poi_info.index.shape[0]\n",
    "    \n",
    "    # REF: pythonhosted.org/PuLP/index.html\n",
    "    pois = [str(p) for p in poi_info.index] # create a string list for each POI\n",
    "    prob = pulp.LpProblem('TourRecommendation', pulp.LpMaximize) # create problem\n",
    "    # visit_i_j = 1 means POI i and j are visited in sequence\n",
    "    visit_vars = pulp.LpVariable.dicts('visit', (pois, pois), 0, 1, pulp.LpInteger) \n",
    "    # a dictionary contains all dummy variables\n",
    "    dummy_vars = pulp.LpVariable.dicts('u', [x for x in pois if x != p0], 2, N, pulp.LpInteger)\n",
    "\n",
    "    # add objective\n",
    "    objlist = []\n",
    "    for pi in [x for x in pois if x not in {p0, pN}]:\n",
    "        for pj in [y for y in pois if y != p0]:\n",
    "            cati = poi_info.loc[int(pi), 'poiTheme']\n",
    "            userint = 0; poipop = 0\n",
    "            if (user, cati) in user_interest.index: userint = user_interest.loc[user, cati]\n",
    "            if int(pi) in poi_info.index: poipop = poi_info.loc[int(pi), 'popularity']\n",
    "            objlist.append(visit_vars[pi][pj] * (eta * userint + (1.-eta) * poipop))\n",
    "    prob += pulp.lpSum(objlist), 'Objective'\n",
    "    \n",
    "    # add constraints, each constraint should be in ONE line\n",
    "    prob += pulp.lpSum([visit_vars[p0][pj] for pj in pois if pj != p0]) == 1, 'StartAtp0'\n",
    "    prob += pulp.lpSum([visit_vars[pi][pN] for pi in pois if pi != pN]) == 1, 'EndAtpN'\n",
    "    for pk in [x for x in pois if x not in {p0, pN}]:\n",
    "        prob += pulp.lpSum([visit_vars[pi][pk] for pi in pois if pi != pN]) == \\\n",
    "                pulp.lpSum([visit_vars[pk][pj] for pj in pois if pj != p0]), 'Connected_' + pk\n",
    "        prob += pulp.lpSum([visit_vars[pi][pk] for pi in pois if pi != pN]) <= 1, 'LeaveAtMostOnce_' + pk\n",
    "        prob += pulp.lpSum([visit_vars[pk][pj] for pj in pois if pj != p0]) <= 1, 'EnterAtMostOnce_' + pk\n",
    "    \n",
    "    costlist = []\n",
    "    for pi in [x for x in pois if x != pN]:\n",
    "        for pj in [y for y in pois if y != p0]:\n",
    "            catj = poi_info.loc[int(pj), 'poiTheme']\n",
    "            traveltime = 60 * 60 * poi_dist_mat.loc[int(pi), int(pj)] / speed # seconds\n",
    "            userint = 0; avgtime = 0\n",
    "            if (user, catj) in user_interest.index: userint = user_interest.loc[user, catj]\n",
    "            if int(pj) in poi_info.index: avgtime = poi_info.loc[int(pj), 'avgDuration(sec)']\n",
    "            costlist.append(visit_vars[pi][pj] * (traveltime + userint * avgtime))\n",
    "    prob += pulp.lpSum(costlist) <= budget, 'WithinBudget'\n",
    "    \n",
    "    for pi in [x for x in pois if x != p0]:\n",
    "        for pj in [y for y in pois if y != p0]:\n",
    "            prob += dummy_vars[pi] - dummy_vars[pj] + 1 <= (N - 1) * (1 - visit_vars[pi][pj]), \\\n",
    "                    'SubTourElimination_' + str(pi) + '_' + str(pj)\n",
    "\n",
    "    # solve problem\n",
    "    #prob.solve() # using PuLP's default solver\n",
    "    #prob.solve(pulp.PULP_CBC_CMD(options=['-threads', '8', '-strategy', '1', '-maxIt', '2000000'])) # CBC\n",
    "    #prob.solve(pulp.GLPK_CMD()) # GLPK\n",
    "    gurobi_options = [('TimeLimit', '7200'), ('Threads', '18'), ('NodefileStart', '0.9'), ('Cuts', '2')]\n",
    "    prob.solve(pulp.GUROBI_CMD(options=gurobi_options)) # GUROBI\n",
    "    \n",
    "    print('status:', pulp.LpStatus[prob.status]) # print the status of the solution\n",
    "    #print('obj:', pulp.value(prob.objective)) # print the optimised objective function value\n",
    "    #for v in prob.variables(): # print each variable with it's resolved optimum value\n",
    "    #    print(v.name, '=', v.varValue)\n",
    "    #    if v.varValue != 0: print(v.name, '=', v.varValue)\n",
    "\n",
    "    visit_mat = pd.DataFrame(data=np.zeros((len(pois), len(pois)), dtype=np.float), index=pois, columns=pois)\n",
    "    for pi in pois:\n",
    "        for pj in pois: visit_mat.loc[pi, pj] = visit_vars[pi][pj].varValue\n",
    "\n",
    "    # build the recommended trajectory\n",
    "    recseq = [p0]\n",
    "    while True:\n",
    "        pi = recseq[-1]\n",
    "        pj = visit_mat.loc[pi].idxmax()\n",
    "        assert(round(visit_mat.loc[pi, pj]) == 1)\n",
    "        recseq.append(pj); \n",
    "        #print(recseq); sys.stdout.flush()\n",
    "        if pj == pN: return [int(x) for x in recseq]"
   ]
  },
  {
   "cell_type": "code",
   "execution_count": null,
   "metadata": {
    "collapsed": true
   },
   "outputs": [],
   "source": [
    "cv_seq_dict = dict()\n",
    "rec_seq_dict = dict()"
   ]
  },
  {
   "cell_type": "code",
   "execution_count": null,
   "metadata": {
    "collapsed": false
   },
   "outputs": [],
   "source": [
    "for seqid in cv_seq_set:\n",
    "    seqi = seq_all[seq_all['seqID'] == seqid].copy()\n",
    "    seqi.sort(columns=['arrivalTime'], ascending=True, inplace=True)\n",
    "    cv_seq_dict[seqid] = seqi['poiID'].tolist()"
   ]
  },
  {
   "cell_type": "code",
   "execution_count": null,
   "metadata": {
    "collapsed": true
   },
   "outputs": [],
   "source": [
    "eta = 0.5\n",
    "time_based = True"
   ]
  },
  {
   "cell_type": "code",
   "execution_count": null,
   "metadata": {
    "collapsed": true
   },
   "outputs": [],
   "source": [
    "doCompute = True"
   ]
  },
  {
   "cell_type": "code",
   "execution_count": null,
   "metadata": {
    "collapsed": true
   },
   "outputs": [],
   "source": [
    "if os.path.exists(frecseq):\n",
    "    seq_dict = pickle.load(open(frecseq, 'rb'))\n",
    "    if (np.array(sorted(cv_seq_dict.keys())) == np.array(sorted(seq_dict.keys()))).all():\n",
    "        rec_seq_dict = seq_dict\n",
    "        doCompute = False"
   ]
  },
  {
   "cell_type": "code",
   "execution_count": null,
   "metadata": {
    "collapsed": false
   },
   "outputs": [],
   "source": [
    "if doCompute:\n",
    "    n = 1\n",
    "    print('#sequences', len(cv_seq_set))\n",
    "    for seqid, seq in cv_seq_dict.items():\n",
    "        train_set = [x for x in seq_all['seqID'].unique() if x != seqid]\n",
    "        poi_info = calc_poi_info(train_set, seq_all, poi_all)\n",
    "        user_interest = calc_user_interest(train_set, seq_all, poi_all, poi_info)\n",
    "        poi_dist_mat = calc_dist_mat(poi_info)\n",
    "        user = seq_user.loc[seqid].iloc[0]\n",
    "        the_user_interest = None\n",
    "        if time_based == True: the_user_interest = user_interest['timeBased'].copy()\n",
    "        else: the_user_interest = user_interest['freqBased'].copy()\n",
    "        budget = calc_seq_budget(user, seq, poi_info, poi_dist_mat, the_user_interest)\n",
    "        print(n, 'sequence', seq, ', user', user, ', budget', budget); sys.stdout.flush()\n",
    "\n",
    "        recseq = recommend_ILP(user, budget, seq[0], seq[-1], poi_info, poi_dist_mat, eta, speed, the_user_interest)\n",
    "        rec_seq_dict[seqid] = recseq\n",
    "        print('->', recseq, '\\n'); sys.stdout.flush()\n",
    "        n += 1\n",
    "        \n",
    "    pickle.dump(rec_seq_dict, open(frecseq, 'wb'))"
   ]
  },
  {
   "cell_type": "markdown",
   "metadata": {},
   "source": [
    "<a id='sec4.3'></a>"
   ]
  },
  {
   "cell_type": "markdown",
   "metadata": {},
   "source": [
    "## 4.3 Evaluation"
   ]
  },
  {
   "cell_type": "markdown",
   "metadata": {},
   "source": [
    "Results from paper (Toronto data, time-based uesr interest, eta=0.5):  \n",
    " - Recall: 0.779&plusmn;0.10\n",
    " - Precision: 0.706&plusmn;0.013\n",
    " - F1-score: 0.732&plusmn;0.012"
   ]
  },
  {
   "cell_type": "code",
   "execution_count": null,
   "metadata": {
    "collapsed": true
   },
   "outputs": [],
   "source": [
    "def calc_recall_precision_F1score(seq_act, seq_rec):\n",
    "    assert(len(seq_act) > 0)\n",
    "    assert(len(seq_rec) > 0)\n",
    "    actset = set(seq_act)\n",
    "    recset = set(seq_rec)\n",
    "    intersect = actset & recset\n",
    "    recall = len(intersect) / len(seq_act)\n",
    "    precision = len(intersect) / len(seq_rec)\n",
    "    F1score = 2. * precision * recall / (precision + recall)\n",
    "    return recall, precision, F1score"
   ]
  },
  {
   "cell_type": "code",
   "execution_count": null,
   "metadata": {
    "collapsed": true
   },
   "outputs": [],
   "source": [
    "recall = []\n",
    "precision = []\n",
    "F1score = []"
   ]
  },
  {
   "cell_type": "code",
   "execution_count": null,
   "metadata": {
    "collapsed": true
   },
   "outputs": [],
   "source": [
    "for seqid in rec_seq_dict.keys():\n",
    "    assert(seqid in cv_seq_dict)\n",
    "    seq = cv_seq_dict[seqid]\n",
    "    recseq = rec_seq_dict[seqid]\n",
    "    r, p, F1 = calc_recall_precision_F1score(seq, recseq)\n",
    "    recall.append(r)\n",
    "    precision.append(p)\n",
    "    F1score.append(F1)"
   ]
  },
  {
   "cell_type": "code",
   "execution_count": null,
   "metadata": {
    "collapsed": false
   },
   "outputs": [],
   "source": [
    "print('Recall:', np.mean(recall), np.std(recall))\n",
    "print('Precision:', np.mean(precision), np.std(precision))\n",
    "print('F1-score:', np.mean(F1score), np.std(F1score))"
   ]
  },
  {
   "cell_type": "markdown",
   "metadata": {},
   "source": [
    "<a id='sec5'></a>"
   ]
  },
  {
   "cell_type": "markdown",
   "metadata": {},
   "source": [
    "# 5. Trajectory Recommendation -- Approach II"
   ]
  },
  {
   "cell_type": "markdown",
   "metadata": {},
   "source": [
    "The paper stated *\"We evaluate PERSTOUR and the baselines using leave-one-out cross-validation [Kohavi,1995] (i.e., when evaluating a specific travel sequence of a user, we use this user's other travel sequences for training our algorithms\"*\n",
    "\n",
    "While it's not clear if this means when evaluate a travel sequence for a user,\n",
    "   - all other sequences of this user (except the one for validation) as well as all sequences of other users are used for training, (i.e. the approach in the section above) or\n",
    "   - use leave-one-out for each user to construct a testing set (the approach in this section)"
   ]
  },
  {
   "cell_type": "markdown",
   "metadata": {},
   "source": [
    "<a id='sec5.1'></a>"
   ]
  },
  {
   "cell_type": "markdown",
   "metadata": {},
   "source": [
    "## 5.1 Choose Travelling Sequences for Training and Testing"
   ]
  },
  {
   "cell_type": "markdown",
   "metadata": {},
   "source": [
    "Trajectories with length greater than `3` are used in the paper."
   ]
  },
  {
   "cell_type": "code",
   "execution_count": null,
   "metadata": {
    "collapsed": false
   },
   "outputs": [],
   "source": [
    "seq_ge3 = seq_len[seq_len['seqLen'] >= 3]\n",
    "seq_ge3['seqLen'].hist(bins=20)"
   ]
  },
  {
   "cell_type": "markdown",
   "metadata": {},
   "source": [
    "Split travelling sequences into training set and testing set using leave-one-out for each user.  \n",
    "*For testing purpose, users with less than two travelling sequences are not considered in this experiment.*"
   ]
  },
  {
   "cell_type": "code",
   "execution_count": null,
   "metadata": {
    "collapsed": true
   },
   "outputs": [],
   "source": [
    "train_set = []\n",
    "test_set = []"
   ]
  },
  {
   "cell_type": "code",
   "execution_count": null,
   "metadata": {
    "collapsed": false
   },
   "outputs": [],
   "source": [
    "user_seqs = seq_ge3[['userID', 'seqID']].groupby('userID')"
   ]
  },
  {
   "cell_type": "code",
   "execution_count": null,
   "metadata": {
    "collapsed": false
   },
   "outputs": [],
   "source": [
    "for user, indices in user_seqs.groups.items():\n",
    "    if len(indices) < 2: continue\n",
    "    idx = random.choice(indices)\n",
    "    test_set.append(seq_ge3.loc[idx, 'seqID'])\n",
    "    train_set.extend([seq_ge3.loc[x, 'seqID'] for x in indices if x != idx])"
   ]
  },
  {
   "cell_type": "code",
   "execution_count": null,
   "metadata": {
    "collapsed": false
   },
   "outputs": [],
   "source": [
    "print('#seq in trainset:', len(train_set))\n",
    "print('#seq in testset:', len(test_set))\n",
    "seq_ge3[seq_ge3['seqID'].isin(train_set)]['seqLen'].hist(bins=20)\n",
    "#data = np.array(seqs1['seqLen'])\n",
    "#hist, bins = np.histogram(data, bins=3)\n",
    "#print(hist)"
   ]
  },
  {
   "cell_type": "markdown",
   "metadata": {},
   "source": [
    "#### Sanity check: the total number of travelling sequences used in training and testing"
   ]
  },
  {
   "cell_type": "code",
   "execution_count": null,
   "metadata": {
    "collapsed": false
   },
   "outputs": [],
   "source": [
    "seq_exp = seq_ge3[['userID', 'seqID']].copy()\n",
    "seq_exp = seq_exp.groupby('userID').agg(np.size)\n",
    "seq_exp.reset_index(inplace=True)\n",
    "seq_exp.rename(columns={'seqID':'#seq'}, inplace=True)\n",
    "seq_exp = seq_exp[seq_exp['#seq'] > 1] # user with more than 1 sequences\n",
    "print('total #seq for experiment:', seq_exp['#seq'].sum())\n",
    "#seq_exp.head()"
   ]
  },
  {
   "cell_type": "markdown",
   "metadata": {},
   "source": [
    "<a id='sec5.2'></a>"
   ]
  },
  {
   "cell_type": "markdown",
   "metadata": {},
   "source": [
    "## 5.2 Compute POI popularity and user interest using training set"
   ]
  },
  {
   "cell_type": "markdown",
   "metadata": {},
   "source": [
    "Compute average POI visit duration, POI popularity as defined at the [top of the notebook](#sec1.1)."
   ]
  },
  {
   "cell_type": "code",
   "execution_count": null,
   "metadata": {
    "collapsed": true
   },
   "outputs": [],
   "source": [
    "poi_info = seq_all[seq_all['seqID'].isin(train_set)]\n",
    "poi_info = poi_info[['poiID', 'poiDuration(sec)']].copy()"
   ]
  },
  {
   "cell_type": "code",
   "execution_count": null,
   "metadata": {
    "collapsed": false
   },
   "outputs": [],
   "source": [
    "poi_info = poi_info.groupby('poiID').agg([np.mean, np.size])\n",
    "poi_info.columns = poi_info.columns.droplevel()\n",
    "poi_info.reset_index(inplace=True)\n",
    "poi_info.rename(columns={'mean':'avgDuration(sec)', 'size':'popularity'}, inplace=True)\n",
    "poi_info.set_index('poiID', inplace=True)\n",
    "print('#poi:', poi_info.shape[0])\n",
    "if poi_info.shape[0] < poi_all.shape[0]:\n",
    "    extra_index = list(set(poi_all.index) - set(poi_info.index))\n",
    "    extra_poi = pd.DataFrame(data=np.zeros((len(extra_index), 2), dtype=np.float64), \\\n",
    "                             index=extra_index, columns=['avgDuration(sec)', 'popularity'])\n",
    "    poi_info = poi_info.append(extra_poi)\n",
    "    print('#poi after extension:', poi_info.shape[0])\n",
    "poi_info['poiTheme'] = poi_all.loc[poi_info.index, 'poiTheme']\n",
    "poi_info['poiLon'] = poi_all.loc[poi_info.index, 'poiLon']\n",
    "poi_info['poiLat'] = poi_all.loc[poi_info.index, 'poiLat']\n",
    "poi_info.head()"
   ]
  },
  {
   "cell_type": "markdown",
   "metadata": {},
   "source": [
    "Compute time/frequency based user interest as defined at the \n",
    "[top of the notebook](#sec1.1)."
   ]
  },
  {
   "cell_type": "code",
   "execution_count": null,
   "metadata": {
    "collapsed": true
   },
   "outputs": [],
   "source": [
    "user_interest = seq_all[seq_all['seqID'].isin(train_set)]\n",
    "user_interest = user_interest[['userID', 'poiID', 'poiDuration(sec)']].copy()"
   ]
  },
  {
   "cell_type": "code",
   "execution_count": null,
   "metadata": {
    "collapsed": false
   },
   "outputs": [],
   "source": [
    "user_interest['timeRatio'] = [poi_info.loc[x, 'avgDuration(sec)'] for x in user_interest['poiID']]\n",
    "#user_interest[user_interest['poiID'].isin({9, 10, 12, 18, 20, 26})]\n",
    "#user_interest[user_interest['timeRatio'] < 1]\n",
    "user_interest.head()"
   ]
  },
  {
   "cell_type": "code",
   "execution_count": null,
   "metadata": {
    "collapsed": false
   },
   "outputs": [],
   "source": [
    "user_interest['timeRatio'] = user_interest['poiDuration(sec)'] / user_interest['timeRatio']\n",
    "user_interest.head()"
   ]
  },
  {
   "cell_type": "code",
   "execution_count": null,
   "metadata": {
    "collapsed": true
   },
   "outputs": [],
   "source": [
    "user_interest['poiTheme'] = [poi_all.loc[x, 'poiTheme'] for x in user_interest['poiID']]\n",
    "user_interest.drop(['poiID', 'poiDuration(sec)'], axis=1, inplace=True)"
   ]
  },
  {
   "cell_type": "markdown",
   "metadata": {},
   "source": [
    "<a id='switch'></a>"
   ]
  },
  {
   "cell_type": "markdown",
   "metadata": {},
   "source": [
    "**Sum defined in paper, but sum of (time ratio) * (avg duration) will become extremely large in some cases, which is unrealistic, switch between the two to have a look at the effects.**"
   ]
  },
  {
   "cell_type": "code",
   "execution_count": null,
   "metadata": {
    "collapsed": false
   },
   "outputs": [],
   "source": [
    "#user_interest = user_interest.groupby(['userID', 'poiTheme']).agg([np.sum, np.size]) # the sum\n",
    "user_interest = user_interest.groupby(['userID', 'poiTheme']).agg([np.mean, np.size]) # try the mean value"
   ]
  },
  {
   "cell_type": "code",
   "execution_count": null,
   "metadata": {
    "collapsed": false
   },
   "outputs": [],
   "source": [
    "user_interest.columns = user_interest.columns.droplevel()\n",
    "#user_interest.rename(columns={'sum':'timeBased', 'size':'freqBased'}, inplace=True)\n",
    "user_interest.rename(columns={'mean':'timeBased', 'size':'freqBased'}, inplace=True)\n",
    "user_interest.reset_index(inplace=True)\n",
    "user_interest.set_index(['userID', 'poiTheme'], inplace=True)\n",
    "user_interest.head()"
   ]
  },
  {
   "cell_type": "code",
   "execution_count": null,
   "metadata": {
    "collapsed": false
   },
   "outputs": [],
   "source": [
    "#user_interest.columns.shape[0]"
   ]
  },
  {
   "cell_type": "markdown",
   "metadata": {},
   "source": [
    "<a id='sec5.3'></a>"
   ]
  },
  {
   "cell_type": "markdown",
   "metadata": {},
   "source": [
    "## 5.3 Generate ILP"
   ]
  },
  {
   "cell_type": "code",
   "execution_count": null,
   "metadata": {
    "collapsed": true
   },
   "outputs": [],
   "source": [
    "poi_dist_mat = pd.DataFrame(data=np.zeros((poi_info.shape[0], poi_info.shape[0]), dtype=np.float64), \\\n",
    "                            index=poi_info.index, columns=poi_info.index)\n",
    "for i in range(poi_info.index.shape[0]):\n",
    "    for j in range(i+1, poi_info.index.shape[0]):\n",
    "        r = poi_info.index[i]\n",
    "        c = poi_info.index[j]\n",
    "        dist = calc_dist(poi_info.loc[r, 'poiLon'], poi_info.loc[r, 'poiLat'], \\\n",
    "                         poi_info.loc[c, 'poiLon'], poi_info.loc[c, 'poiLat'])\n",
    "        assert(dist > 0.)\n",
    "        poi_dist_mat.loc[r, c] = dist\n",
    "        poi_dist_mat.loc[c, r] = dist"
   ]
  },
  {
   "cell_type": "code",
   "execution_count": null,
   "metadata": {
    "collapsed": false
   },
   "outputs": [],
   "source": [
    "def generate_ILP(lpFilename, user, budget, startPoi, endPoi, poi_info, poi_dist_mat, eta, speed, user_interest):\n",
    "    \"\"\"Recommend a trajectory given an existing travel sequence S_N, \n",
    "       the first/last POI and travel budget calculated based on S_N\n",
    "    \"\"\"\n",
    "    assert(0 <= eta <= 1)\n",
    "    assert(budget > 0)\n",
    "    p0 = str(startPoi)\n",
    "    pN = str(endPoi)\n",
    "    N = poi_info.index.shape[0]\n",
    "    \n",
    "    # The MIP problem\n",
    "    # REF: pythonhosted.org/PuLP/index.html\n",
    "    # create a string list for each POI\n",
    "    pois = [str(p) for p in poi_info.index]\n",
    "\n",
    "    # create problem\n",
    "    prob = pulp.LpProblem('TourRecommendation', pulp.LpMaximize)\n",
    "\n",
    "    # visit_i_j = 1 means POI i and j are visited in sequence\n",
    "    visit_vars = pulp.LpVariable.dicts('visit', (pois, pois), 0, 1, pulp.LpInteger)\n",
    "\n",
    "    # a dictionary contains all dummy variables\n",
    "    dummy_vars = pulp.LpVariable.dicts('u', [x for x in pois if x != p0], 2, N, pulp.LpInteger)\n",
    "\n",
    "    # add objective\n",
    "    objlist = []\n",
    "    for pi in [x for x in pois if x not in {p0, pN}]:\n",
    "        for pj in [y for y in pois if y != p0]:\n",
    "            cati = poi_info.loc[int(pi), 'poiTheme']\n",
    "            userint = 0\n",
    "            if (user, cati) in user_interest.index: userint = user_interest.loc[user, cati]\n",
    "            objlist.append(visit_vars[pi][pj] * (eta * userint + (1.-eta) * poi_info.loc[int(pi), 'popularity']))\n",
    "    prob += pulp.lpSum(objlist), 'Objective'\n",
    "    # add constraints\n",
    "    # each constraint should be in ONE line\n",
    "    prob += pulp.lpSum([visit_vars[p0][pj] for pj in pois if pj != p0]) == 1, 'StartAtp0' # starts at the first POI\n",
    "    prob += pulp.lpSum([visit_vars[pi][pN] for pi in pois if pi != pN]) == 1, 'EndAtpN'   # ends at the last POI\n",
    "    for pk in [x for x in pois if x not in {p0, pN}]:\n",
    "        prob += pulp.lpSum([visit_vars[pi][pk] for pi in pois if pi != pN]) == \\\n",
    "                pulp.lpSum([visit_vars[pk][pj] for pj in pois if pj != p0]), \\\n",
    "                'Connected_' + pk                                                         # the itinerary is connected\n",
    "        prob += pulp.lpSum([visit_vars[pi][pk] for pi in pois if pi != pN]) <= 1, \\\n",
    "                'LeaveAtMostOnce_' + pk                                                   # LEAVE POIk at most once\n",
    "        prob += pulp.lpSum([visit_vars[pk][pj] for pj in pois if pj != p0]) <= 1, \\\n",
    "                'EnterAtMostOnce_' + pk                                                   # ENTER POIk at most once\n",
    "    \n",
    "    # travel cost within budget\n",
    "    costlist = []\n",
    "    for pi in [x for x in pois if x != pN]:\n",
    "        for pj in [y for y in pois if y != p0]:\n",
    "            catj = poi_info.loc[int(pj), 'poiTheme']\n",
    "            traveltime = 60 * 60 * poi_dist_mat.loc[int(pi), int(pj)] / speed # seconds\n",
    "            userint = 0\n",
    "            if (user, catj) in user_interest.index: userint = user_interest.loc[user, catj]\n",
    "            costlist.append(visit_vars[pi][pj] * (traveltime + userint * poi_info.loc[int(pj), 'avgDuration(sec)']))\n",
    "    prob += pulp.lpSum(costlist) <= budget, 'WithinBudget'\n",
    "    \n",
    "    for pi in [x for x in pois if x != p0]:\n",
    "        for pj in [y for y in pois if y != p0]:\n",
    "            prob += dummy_vars[pi] - dummy_vars[pj] + 1 <= \\\n",
    "                    (N - 1) * (1 - visit_vars[pi][pj]), \\\n",
    "                    'SubTourElimination_' + str(pi) + '_' + str(pj)               # TSP sub-tour elimination\n",
    "\n",
    "    # write problem data to an .lp file\n",
    "    prob.writeLP(lpFilename)"
   ]
  },
  {
   "cell_type": "markdown",
   "metadata": {},
   "source": [
    "### 5.3.1 Generate ILPs for training set"
   ]
  },
  {
   "cell_type": "code",
   "execution_count": null,
   "metadata": {
    "collapsed": true
   },
   "outputs": [],
   "source": [
    "def extract_seq(seqid_set, seq_all):\n",
    "    \"\"\"Extract the actual sequences (i.e. a list of POI) from a set of sequence ID\"\"\"\n",
    "    seq_dict = dict()\n",
    "    for seqid in seqid_set:\n",
    "        seqi = seq_all[seq_all['seqID'] == seqid].copy()\n",
    "        seqi.sort(columns=['arrivalTime'], ascending=True, inplace=True)\n",
    "        seq_dict[seqid] = seqi['poiID'].tolist()\n",
    "    return seq_dict"
   ]
  },
  {
   "cell_type": "code",
   "execution_count": null,
   "metadata": {
    "collapsed": true
   },
   "outputs": [],
   "source": [
    "train_seqs = extract_seq(train_set, seq_all)"
   ]
  },
  {
   "cell_type": "code",
   "execution_count": null,
   "metadata": {
    "collapsed": false
   },
   "outputs": [],
   "source": [
    "lpDir = os.path.join(data_dir, 'lp_' + suffix)\n",
    "if not os.path.exists(lpDir):\n",
    "    print('Please create directory \"' + lpDir + '\"')"
   ]
  },
  {
   "cell_type": "code",
   "execution_count": null,
   "metadata": {
    "collapsed": true
   },
   "outputs": [],
   "source": [
    "eta = 0.5\n",
    "#eta = 1\n",
    "time_based = True"
   ]
  },
  {
   "cell_type": "code",
   "execution_count": null,
   "metadata": {
    "collapsed": false
   },
   "outputs": [],
   "source": [
    "for seqid in sorted(train_seqs.keys()):\n",
    "    if not os.path.exists(lpDir): \n",
    "        print('Please create directory \"' + lpDir + '\"')\n",
    "        break\n",
    "    seq = train_seqs[seqid]\n",
    "    lpFile = os.path.join(lpDir, str(seqid) + '.lp')\n",
    "    user = seq_user.loc[seqid].iloc[0]\n",
    "    the_user_interest = None\n",
    "    if time_based == True:\n",
    "        the_user_interest = user_interest['timeBased'].copy()\n",
    "    else: \n",
    "        the_user_interest = user_interest['freqBased'].copy()\n",
    "    budget = calc_seq_budget(user, seq, poi_info, poi_dist_mat, the_user_interest)\n",
    "    print('generating ILP', lpFile, 'for user', user, 'sequence', seq, 'budget', round(budget, 2))\n",
    "    generate_ILP(lpFile, user, budget, seq[0], seq[-1], poi_info, poi_dist_mat, eta, speed, the_user_interest)"
   ]
  },
  {
   "cell_type": "markdown",
   "metadata": {},
   "source": [
    "### 5.3.2 Generate ILPs for testing set"
   ]
  },
  {
   "cell_type": "code",
   "execution_count": null,
   "metadata": {
    "collapsed": true
   },
   "outputs": [],
   "source": [
    "test_seqs = extract_seq(test_set, seq_all)"
   ]
  },
  {
   "cell_type": "code",
   "execution_count": null,
   "metadata": {
    "collapsed": false
   },
   "outputs": [],
   "source": [
    "for seqid in sorted(test_seqs.keys()):\n",
    "    if not os.path.exists(lpDir): \n",
    "        print('Please create directory \"' + lpDir + '\"')\n",
    "        break\n",
    "    seq = test_seqs[seqid]\n",
    "    lpFile = os.path.join(lpDir, str(seqid) + '.lp')\n",
    "    user = seq_user.loc[seqid].iloc[0]\n",
    "    the_user_interest = None\n",
    "    if time_based == True:\n",
    "        the_user_interest = user_interest['timeBased'].copy()\n",
    "    else: \n",
    "        the_user_interest = user_interest['freqBased'].copy()\n",
    "    budget = calc_seq_budget(user, seq, poi_info, poi_dist_mat, the_user_interest)\n",
    "    print('generating ILP', lpFile, 'for user', user, 'sequence', seq, 'budget', round(budget, 2))\n",
    "    generate_ILP(lpFile, user, budget, seq[0], seq[-1], poi_info, poi_dist_mat, eta, speed, the_user_interest)"
   ]
  },
  {
   "cell_type": "markdown",
   "metadata": {},
   "source": [
    "<a id='sec5.4'></a>"
   ]
  },
  {
   "cell_type": "markdown",
   "metadata": {},
   "source": [
    "## 5.4 Evaluation"
   ]
  },
  {
   "cell_type": "code",
   "execution_count": null,
   "metadata": {
    "collapsed": true
   },
   "outputs": [],
   "source": [
    "def load_solution_gurobi(fsol, startPoi, endPoi):\n",
    "    \"\"\"Load recommended itinerary from MIP solution file by GUROBI\"\"\"\n",
    "    seqterm = [] \n",
    "    with open(fsol, 'r') as f:\n",
    "        for line in f:\n",
    "            if re.search('^visit_', line):      # e.g. visit_0_7 1\\n\n",
    "                item = line.strip().split(' ')  #      visit_21_16 1.56406801399038e-09\\n\n",
    "                if round(float(item[1])) == 1:\n",
    "                    fromto = item[0].split('_')\n",
    "                    seqterm.append((int(fromto[1]), int(fromto[2])))\n",
    "    p0 = startPoi\n",
    "    pN = endPoi\n",
    "    recseq = [p0]\n",
    "    while True:\n",
    "        px = recseq[-1]\n",
    "        for term in seqterm:\n",
    "            if term[0] == px:\n",
    "                recseq.append(term[1])\n",
    "                if term[1] == pN: \n",
    "                    return recseq\n",
    "                else:\n",
    "                    seqterm.remove(term)\n",
    "                    break"
   ]
  },
  {
   "cell_type": "markdown",
   "metadata": {},
   "source": [
    "### 5.4.1 Evaluation on training set"
   ]
  },
  {
   "cell_type": "code",
   "execution_count": null,
   "metadata": {
    "collapsed": true
   },
   "outputs": [],
   "source": [
    "train_seqs_rec = dict()"
   ]
  },
  {
   "cell_type": "code",
   "execution_count": null,
   "metadata": {
    "collapsed": false
   },
   "outputs": [],
   "source": [
    "solDir = os.path.join(data_dir, os.path.join('lp_' + suffix, 'eta05_time'))\n",
    "#solDir = os.path.join(data_dir, os.path.join('lp_' + suffix, 'eta10_time'))\n",
    "if not os.path.exists(solDir):\n",
    "    print('Directory for solution files', solDir, 'does not exist.')"
   ]
  },
  {
   "cell_type": "code",
   "execution_count": null,
   "metadata": {
    "collapsed": false
   },
   "outputs": [],
   "source": [
    "for seqid in sorted(train_seqs.keys()):\n",
    "    if not os.path.exists(solDir):\n",
    "        print('Directory for solution files', solDir, 'does not exist.')\n",
    "        break\n",
    "    seq = train_seqs[seqid]\n",
    "    solFile = os.path.join(solDir, str(seqid) + '.lp.sol')\n",
    "    recseq = load_solution_gurobi(solFile, seq[0], seq[-1])\n",
    "    train_seqs_rec[seqid] = recseq\n",
    "    print('Sequence', seqid, 'Actual:', seq, ', Recommended:', recseq)"
   ]
  },
  {
   "cell_type": "code",
   "execution_count": null,
   "metadata": {
    "collapsed": true
   },
   "outputs": [],
   "source": [
    "recall = []\n",
    "precision = []\n",
    "F1score = []\n",
    "for seqid in train_seqs.keys():\n",
    "    r, p, F1 = calc_recall_precision_F1score(train_seqs[seqid], train_seqs_rec[seqid])\n",
    "    recall.append(r)\n",
    "    precision.append(p)\n",
    "    F1score.append(F1)"
   ]
  },
  {
   "cell_type": "code",
   "execution_count": null,
   "metadata": {
    "collapsed": false
   },
   "outputs": [],
   "source": [
    "print('Recall:', round(np.mean(recall), 2), ',', round(np.std(recall), 2))\n",
    "print('Precision:', round(np.mean(precision), 2), ',', round(np.std(recall), 2))\n",
    "print('F1-score:', round(np.mean(F1score), 2), ',', round(np.std(recall), 2))"
   ]
  },
  {
   "cell_type": "markdown",
   "metadata": {},
   "source": [
    "### 5.4.2 Evaluation on testing set"
   ]
  },
  {
   "cell_type": "markdown",
   "metadata": {},
   "source": [
    "Results from paper (Toronto data, time-based uesr interest, eta=0.5):  \n",
    " - Recall: 0.779&plusmn;0.10\n",
    " - Precision: 0.706&plusmn;0.013\n",
    " - F1-score: 0.732&plusmn;0.012"
   ]
  },
  {
   "cell_type": "code",
   "execution_count": null,
   "metadata": {
    "collapsed": true
   },
   "outputs": [],
   "source": [
    "test_seqs_rec = dict()"
   ]
  },
  {
   "cell_type": "code",
   "execution_count": null,
   "metadata": {
    "collapsed": true
   },
   "outputs": [],
   "source": [
    "solDirTest = os.path.join(data_dir, os.path.join('lp_' + suffix, 'eta05_time.test'))\n",
    "if not os.path.exists(solDirTest):\n",
    "    print('Directory for solution files', solDirTest, 'does not exist.')"
   ]
  },
  {
   "cell_type": "code",
   "execution_count": null,
   "metadata": {
    "collapsed": false
   },
   "outputs": [],
   "source": [
    "for seqid in sorted(test_seqs.keys()):\n",
    "    if not os.path.exists(solDirTest):\n",
    "        print('Directory for solution files', solDirTest, 'does not exist.')\n",
    "        break\n",
    "    seq = test_seqs[seqid]\n",
    "    solFile = os.path.join(solDirTest, str(seqid) + '.lp.sol')\n",
    "    recseq = load_solution_gurobi(solFile, seq[0], seq[-1])\n",
    "    test_seqs_rec[seqid] = recseq\n",
    "    print('Sequence', seqid, 'Actual:', seq, ', Recommended:', recseq)"
   ]
  },
  {
   "cell_type": "code",
   "execution_count": null,
   "metadata": {
    "collapsed": true
   },
   "outputs": [],
   "source": [
    "recallT = []\n",
    "precisionT = []\n",
    "F1scoreT = []\n",
    "for seqid in test_seqs.keys():\n",
    "    r, p, F1 = calc_recall_precision_F1score(test_seqs[seqid], test_seqs_rec[seqid])\n",
    "    recallT.append(r)\n",
    "    precisionT.append(p)\n",
    "    F1scoreT.append(F1)"
   ]
  },
  {
   "cell_type": "code",
   "execution_count": null,
   "metadata": {
    "collapsed": false
   },
   "outputs": [],
   "source": [
    "print('Recall:', round(np.mean(recallT), 2), ',', round(np.std(recallT), 2))\n",
    "print('Precision:', round(np.mean(precisionT), 2), ',', round(np.std(recallT), 2))\n",
    "print('F1-score:', round(np.mean(F1scoreT), 2), ',', round(np.std(recallT), 2))"
   ]
  },
  {
   "cell_type": "markdown",
   "metadata": {},
   "source": [
    "<a id='sec6'></a>"
   ]
  },
  {
   "cell_type": "markdown",
   "metadata": {},
   "source": [
    "# 6. Issues [&#8648;](#toc)"
   ]
  },
  {
   "cell_type": "markdown",
   "metadata": {},
   "source": [
    "1. Large budget leads to unrealistic recommended trajectory.\n",
    "  - large budget mainly comes from user interest times the average POI visit duration, since user interest is cumulative (i.e. sum, as defined at the top of the notebook)\n",
    "  - we try to use averaging instead of cumulative (which seems more realistic, max budget 15 hours vs. max 170 hours).\n",
    "\n",
    "1. Is it necessary to consider visiting a certain POI more than one times? This paper ignores this setting.\n",
    "\n",
    "1. Dealing with edge case $\\bar{V}(p) = 0$\n",
    " \n",
    " It appears when POIs at which just one photo was taken for each visited user (including some user just took/uploaded two or more photos with the same timestamp), the case does appear in this [dataset](https://sites.google.com/site/limkwanhui/datacode#ijcai15).\n",
    "\n",
    " For all users $U$, POI $p$, arrival time $p^a$ and depature time $p^d$, The Average POI Visit Duration is defined as: \n",
    "$\\bar{V}(p) = \\frac{1}{n}\\sum_{u \\in U}\\sum_{p_x \\in S_u}(t_{p_x}^d - t_{p_x}^a)\\delta(p_x = p), \\forall p \\in P$\n",
    "\n",
    " and Time-based User Interest is defined as:\n",
    "$Int_u^Time(c) = \\sum_{p_x \\in S_u} \\frac{t_{p_x}^d - t_{p_x}^a}{\\bar{V}(p_x)} \\delta(Cat_{p_x} = c), \\forall c \\in C$\n",
    "\n",
    " Up to now, two strategies have been tried:\n",
    "  * let the term $\\frac{t_{p_x}^d - t_{p_x}^a}{\\bar{V}(p_x)} = K$, where $K$ is a constant (e.g. 2). This approach seems to work, but the effects of different constants should be tested\n",
    "  * discard all photo records in [dataset](https://sites.google.com/site/limkwanhui/datacode#ijcai15) related to the edge case. This approach suffers from throwing too much information, makes the useful dataset too small (at about 1% of the original dataset sometimes)\n",
    "\n",
    "1. [CBC](https://projects.coin-or.org/Cbc) is too slow for large sequences (length >= 4)\n",
    " * use [Gurobi](http://www.gurobi.com) on CECS servers"
   ]
  }
 ],
 "metadata": {
  "kernelspec": {
   "display_name": "Python 3",
   "language": "python",
   "name": "python3"
  },
  "language_info": {
   "codemirror_mode": {
    "name": "ipython",
    "version": 3
   },
   "file_extension": ".py",
   "mimetype": "text/x-python",
   "name": "python",
   "nbconvert_exporter": "python",
   "pygments_lexer": "ipython3",
   "version": "3.4.4"
  }
 },
 "nbformat": 4,
 "nbformat_minor": 0
}
