{
 "cells": [
  {
   "cell_type": "markdown",
   "metadata": {
    "collapsed": true
   },
   "source": [
    "# Trajectory Recommendation using RankSVM and Structured Prediction"
   ]
  },
  {
   "cell_type": "markdown",
   "metadata": {},
   "source": [
    "<a id='toc'></a>"
   ]
  },
  {
   "cell_type": "markdown",
   "metadata": {},
   "source": [
    "[Table of Contents](#toc)\n",
    "1. [Preprocess Dataset](#sec1)\n",
    "  1. [Load Data](#sec1.1)\n",
    "  1. [Utility Functions](#sec1.2)\n",
    "1. [POI Ranking](#sec2)\n",
    "  1. [POI Features for Ranking](#sec2.1)\n",
    "  1. [Training DataFrame](#sec2.2)\n",
    "  1. [Test DataFrame](#sec2.3)\n",
    "  1. [Ranking POIs using rankSVM](#sec2.4)\n",
    "1. [Structured Prediction Model Training and Evaluation](#sec3)\n",
    "  1. [Features for Structured Prediction](#sec3.1)\n",
    "  1. [Leave-one-out Evaluation](#sec3.2)\n",
    "  1. [Discrepancy between Different BLAS Libraries](#sec3.3)\n",
    "  1. [Hyperparameter Tuning](#sec3.4)"
   ]
  },
  {
   "cell_type": "markdown",
   "metadata": {},
   "source": [
    "<a id='sec1'></a>"
   ]
  },
  {
   "cell_type": "markdown",
   "metadata": {},
   "source": [
    "# 1. Preprocess Dataset"
   ]
  },
  {
   "cell_type": "code",
   "execution_count": 1,
   "metadata": {
    "collapsed": false
   },
   "outputs": [],
   "source": [
    "% matplotlib inline\n",
    "\n",
    "import os, sys, time, pickle, tempfile\n",
    "import math, random\n",
    "import pandas as pd\n",
    "import numpy as np\n",
    "import matplotlib.pyplot as plt\n",
    "from joblib import Parallel, delayed\n",
    "import seaborn as sns\n",
    "\n",
    "from pystruct.models import ChainCRF\n",
    "from pystruct.learners import OneSlackSSVM\n",
    "from pystruct.learners import FrankWolfeSSVM"
   ]
  },
  {
   "cell_type": "code",
   "execution_count": 2,
   "metadata": {
    "collapsed": true
   },
   "outputs": [],
   "source": [
    "random.seed(987654321) # control random choice when splitting training/testing set\n",
    "np.random.seed(987654321)\n",
    "ranksvm_dir = '$HOME/work/ranksvm'"
   ]
  },
  {
   "cell_type": "code",
   "execution_count": 3,
   "metadata": {
    "collapsed": true
   },
   "outputs": [],
   "source": [
    "data_dir = 'data/data-cikm16'\n",
    "suffix = ['Osak', 'Glas', 'Edin', 'Toro', 'Melb']"
   ]
  },
  {
   "cell_type": "code",
   "execution_count": 4,
   "metadata": {
    "collapsed": true
   },
   "outputs": [],
   "source": [
    "dat_ix = 0"
   ]
  },
  {
   "cell_type": "code",
   "execution_count": 5,
   "metadata": {
    "collapsed": true
   },
   "outputs": [],
   "source": [
    "noloop = True  # trajectories dataset with loop or not"
   ]
  },
  {
   "cell_type": "code",
   "execution_count": 6,
   "metadata": {
    "collapsed": true
   },
   "outputs": [],
   "source": [
    "datasettypes = ['all']"
   ]
  },
  {
   "cell_type": "code",
   "execution_count": 7,
   "metadata": {
    "collapsed": true
   },
   "outputs": [],
   "source": [
    "dstype = datasettypes[0]"
   ]
  },
  {
   "cell_type": "markdown",
   "metadata": {},
   "source": [
    "Hyperparameters."
   ]
  },
  {
   "cell_type": "code",
   "execution_count": 8,
   "metadata": {
    "collapsed": true
   },
   "outputs": [],
   "source": [
    "uspecific = False\n",
    "KX = 100  # KX folds in user specific setting [100, 50, 20, 10, 8, 4, 2, 1]\n",
    "kxstr = str(KX) + 'X-'"
   ]
  },
  {
   "cell_type": "code",
   "execution_count": 9,
   "metadata": {
    "collapsed": true
   },
   "outputs": [],
   "source": [
    "C = 2  # regularization parameter of SSVM\n",
    "cstr = 'C' + str(C).replace('.', '_') + '-'"
   ]
  },
  {
   "cell_type": "markdown",
   "metadata": {},
   "source": [
    "Method switches."
   ]
  },
  {
   "cell_type": "code",
   "execution_count": 10,
   "metadata": {
    "collapsed": true
   },
   "outputs": [],
   "source": [
    "run_crf = True"
   ]
  },
  {
   "cell_type": "code",
   "execution_count": 11,
   "metadata": {
    "collapsed": true
   },
   "outputs": [],
   "source": [
    "fpoi = os.path.join(data_dir, 'poi-' + suffix[dat_ix] + '.csv')\n",
    "if noloop == True:\n",
    "    ftraj = os.path.join(data_dir, 'traj-noloop-' + dstype + '-' + suffix[dat_ix] + '.csv')\n",
    "    if uspecific == True:\n",
    "        frecdict_crf = os.path.join(data_dir, 'crf-noloop-' + dstype + '-specific-' +cstr +kxstr +suffix[dat_ix] +'.pkl')\n",
    "    else:\n",
    "        frecdict_crf = os.path.join(data_dir, 'crf-noloop-' + dstype + '-agnostic-' + cstr + suffix[dat_ix] + '.pkl')\n",
    "else:\n",
    "    ftraj = os.path.join(data_dir, 'traj-' + dstype + '-' + suffix[dat_ix] + '.csv')\n",
    "    if uspecific == True:\n",
    "        frecdict_crf = os.path.join(data_dir, 'crf-' + dstype + '-specific-' + cstr + kxstr + suffix[dat_ix] + '.pkl')\n",
    "    else:\n",
    "        frecdict_crf = os.path.join(data_dir, 'crf-' + dstype + '-agnostic-' + cstr + suffix[dat_ix] + '.pkl')"
   ]
  },
  {
   "cell_type": "markdown",
   "metadata": {},
   "source": [
    "<a id='sec1.1'></a>"
   ]
  },
  {
   "cell_type": "markdown",
   "metadata": {},
   "source": [
    "## 1.1 Load Data"
   ]
  },
  {
   "cell_type": "code",
   "execution_count": 12,
   "metadata": {
    "collapsed": false
   },
   "outputs": [
    {
     "data": {
      "text/html": [
       "<div>\n",
       "<table border=\"1\" class=\"dataframe\">\n",
       "  <thead>\n",
       "    <tr style=\"text-align: right;\">\n",
       "      <th></th>\n",
       "      <th>userID</th>\n",
       "      <th>trajID</th>\n",
       "      <th>poiID</th>\n",
       "      <th>startTime</th>\n",
       "      <th>endTime</th>\n",
       "      <th>#photo</th>\n",
       "      <th>trajLen</th>\n",
       "      <th>poiDuration</th>\n",
       "    </tr>\n",
       "  </thead>\n",
       "  <tbody>\n",
       "    <tr>\n",
       "      <th>0</th>\n",
       "      <td>10297518@N00</td>\n",
       "      <td>1</td>\n",
       "      <td>20</td>\n",
       "      <td>1277719324</td>\n",
       "      <td>1277720832</td>\n",
       "      <td>6</td>\n",
       "      <td>1</td>\n",
       "      <td>1508</td>\n",
       "    </tr>\n",
       "    <tr>\n",
       "      <th>1</th>\n",
       "      <td>10307040@N08</td>\n",
       "      <td>2</td>\n",
       "      <td>6</td>\n",
       "      <td>1382608644</td>\n",
       "      <td>1382608644</td>\n",
       "      <td>1</td>\n",
       "      <td>4</td>\n",
       "      <td>0</td>\n",
       "    </tr>\n",
       "    <tr>\n",
       "      <th>2</th>\n",
       "      <td>10307040@N08</td>\n",
       "      <td>2</td>\n",
       "      <td>8</td>\n",
       "      <td>1382607812</td>\n",
       "      <td>1382607812</td>\n",
       "      <td>1</td>\n",
       "      <td>4</td>\n",
       "      <td>0</td>\n",
       "    </tr>\n",
       "    <tr>\n",
       "      <th>3</th>\n",
       "      <td>10307040@N08</td>\n",
       "      <td>2</td>\n",
       "      <td>21</td>\n",
       "      <td>1382607761</td>\n",
       "      <td>1382607774</td>\n",
       "      <td>2</td>\n",
       "      <td>4</td>\n",
       "      <td>13</td>\n",
       "    </tr>\n",
       "    <tr>\n",
       "      <th>4</th>\n",
       "      <td>10307040@N08</td>\n",
       "      <td>2</td>\n",
       "      <td>22</td>\n",
       "      <td>1382607879</td>\n",
       "      <td>1382608628</td>\n",
       "      <td>9</td>\n",
       "      <td>4</td>\n",
       "      <td>749</td>\n",
       "    </tr>\n",
       "  </tbody>\n",
       "</table>\n",
       "</div>"
      ],
      "text/plain": [
       "         userID  trajID  poiID   startTime     endTime  #photo  trajLen  \\\n",
       "0  10297518@N00       1     20  1277719324  1277720832       6        1   \n",
       "1  10307040@N08       2      6  1382608644  1382608644       1        4   \n",
       "2  10307040@N08       2      8  1382607812  1382607812       1        4   \n",
       "3  10307040@N08       2     21  1382607761  1382607774       2        4   \n",
       "4  10307040@N08       2     22  1382607879  1382608628       9        4   \n",
       "\n",
       "   poiDuration  \n",
       "0         1508  \n",
       "1            0  \n",
       "2            0  \n",
       "3           13  \n",
       "4          749  "
      ]
     },
     "execution_count": 12,
     "metadata": {},
     "output_type": "execute_result"
    }
   ],
   "source": [
    "traj_all = pd.read_csv(ftraj)\n",
    "traj_all.head()"
   ]
  },
  {
   "cell_type": "code",
   "execution_count": 13,
   "metadata": {
    "collapsed": false
   },
   "outputs": [
    {
     "data": {
      "text/html": [
       "<div>\n",
       "<table border=\"1\" class=\"dataframe\">\n",
       "  <thead>\n",
       "    <tr style=\"text-align: right;\">\n",
       "      <th></th>\n",
       "      <th>poiCat</th>\n",
       "      <th>poiLon</th>\n",
       "      <th>poiLat</th>\n",
       "    </tr>\n",
       "    <tr>\n",
       "      <th>poiID</th>\n",
       "      <th></th>\n",
       "      <th></th>\n",
       "      <th></th>\n",
       "    </tr>\n",
       "  </thead>\n",
       "  <tbody>\n",
       "    <tr>\n",
       "      <th>1</th>\n",
       "      <td>Amusement</td>\n",
       "      <td>135.428938</td>\n",
       "      <td>34.654792</td>\n",
       "    </tr>\n",
       "    <tr>\n",
       "      <th>2</th>\n",
       "      <td>Amusement</td>\n",
       "      <td>135.430627</td>\n",
       "      <td>34.656145</td>\n",
       "    </tr>\n",
       "    <tr>\n",
       "      <th>3</th>\n",
       "      <td>Amusement</td>\n",
       "      <td>135.508558</td>\n",
       "      <td>34.652423</td>\n",
       "    </tr>\n",
       "    <tr>\n",
       "      <th>4</th>\n",
       "      <td>Amusement</td>\n",
       "      <td>135.433627</td>\n",
       "      <td>34.664758</td>\n",
       "    </tr>\n",
       "    <tr>\n",
       "      <th>5</th>\n",
       "      <td>Amusement</td>\n",
       "      <td>135.499894</td>\n",
       "      <td>34.703680</td>\n",
       "    </tr>\n",
       "  </tbody>\n",
       "</table>\n",
       "</div>"
      ],
      "text/plain": [
       "          poiCat      poiLon     poiLat\n",
       "poiID                                  \n",
       "1      Amusement  135.428938  34.654792\n",
       "2      Amusement  135.430627  34.656145\n",
       "3      Amusement  135.508558  34.652423\n",
       "4      Amusement  135.433627  34.664758\n",
       "5      Amusement  135.499894  34.703680"
      ]
     },
     "execution_count": 13,
     "metadata": {},
     "output_type": "execute_result"
    }
   ],
   "source": [
    "poi_all = pd.read_csv(fpoi)\n",
    "poi_all.set_index('poiID', inplace=True)\n",
    "poi_all.head()"
   ]
  },
  {
   "cell_type": "code",
   "execution_count": 14,
   "metadata": {
    "collapsed": false
   },
   "outputs": [
    {
     "data": {
      "text/html": [
       "<div>\n",
       "<table border=\"1\" class=\"dataframe\">\n",
       "  <thead>\n",
       "    <tr style=\"text-align: right;\">\n",
       "      <th></th>\n",
       "      <th>#poi</th>\n",
       "      <th>#traj</th>\n",
       "      <th>#traj/user</th>\n",
       "      <th>#user</th>\n",
       "    </tr>\n",
       "  </thead>\n",
       "  <tbody>\n",
       "    <tr>\n",
       "      <th>Osak</th>\n",
       "      <td>27</td>\n",
       "      <td>1115</td>\n",
       "      <td>2.477778</td>\n",
       "      <td>450</td>\n",
       "    </tr>\n",
       "  </tbody>\n",
       "</table>\n",
       "</div>"
      ],
      "text/plain": [
       "      #poi  #traj  #traj/user  #user\n",
       "Osak    27   1115    2.477778    450"
      ]
     },
     "execution_count": 14,
     "metadata": {},
     "output_type": "execute_result"
    }
   ],
   "source": [
    "num_user = traj_all['userID'].unique().shape[0]\n",
    "num_poi = traj_all['poiID'].unique().shape[0]\n",
    "num_traj = traj_all['trajID'].unique().shape[0]\n",
    "#assert(num_poi == poi_all.shape[0])\n",
    "pd.DataFrame({'#user': num_user, '#poi': num_poi, '#traj': num_traj, '#traj/user': num_traj/num_user}, \\\n",
    "             index=[str(suffix[dat_ix])])"
   ]
  },
  {
   "cell_type": "code",
   "execution_count": 15,
   "metadata": {
    "collapsed": false
   },
   "outputs": [
    {
     "data": {
      "image/png": "[encoded data removed]",
      "text/plain": [
       "<matplotlib.figure.Figure at 0x7f1b1585f5f8>"
      ]
     },
     "metadata": {},
     "output_type": "display_data"
    }
   ],
   "source": [
    "ax = traj_all['trajLen'].hist(bins=20)\n",
    "ax.set_yscale('log')"
   ]
  },
  {
   "cell_type": "markdown",
   "metadata": {},
   "source": [
    "Mapping trajectory to user."
   ]
  },
  {
   "cell_type": "code",
   "execution_count": 16,
   "metadata": {
    "collapsed": false
   },
   "outputs": [
    {
     "data": {
      "text/html": [
       "<div>\n",
       "<table border=\"1\" class=\"dataframe\">\n",
       "  <thead>\n",
       "    <tr style=\"text-align: right;\">\n",
       "      <th></th>\n",
       "      <th>userID</th>\n",
       "    </tr>\n",
       "    <tr>\n",
       "      <th>trajID</th>\n",
       "      <th></th>\n",
       "    </tr>\n",
       "  </thead>\n",
       "  <tbody>\n",
       "    <tr>\n",
       "      <th>1</th>\n",
       "      <td>10297518@N00</td>\n",
       "    </tr>\n",
       "    <tr>\n",
       "      <th>2</th>\n",
       "      <td>10307040@N08</td>\n",
       "    </tr>\n",
       "    <tr>\n",
       "      <th>3</th>\n",
       "      <td>10340578@N06</td>\n",
       "    </tr>\n",
       "    <tr>\n",
       "      <th>4</th>\n",
       "      <td>10340578@N06</td>\n",
       "    </tr>\n",
       "    <tr>\n",
       "      <th>5</th>\n",
       "      <td>10422365@N03</td>\n",
       "    </tr>\n",
       "  </tbody>\n",
       "</table>\n",
       "</div>"
      ],
      "text/plain": [
       "              userID\n",
       "trajID              \n",
       "1       10297518@N00\n",
       "2       10307040@N08\n",
       "3       10340578@N06\n",
       "4       10340578@N06\n",
       "5       10422365@N03"
      ]
     },
     "execution_count": 16,
     "metadata": {},
     "output_type": "execute_result"
    }
   ],
   "source": [
    "traj_user = traj_all[['trajID', 'userID']].copy().groupby('trajID').first()\n",
    "traj_user.head()"
   ]
  },
  {
   "cell_type": "markdown",
   "metadata": {},
   "source": [
    "<a id='sec1.2'></a>"
   ]
  },
  {
   "cell_type": "markdown",
   "metadata": {},
   "source": [
    "## 1.2 Utility Functions"
   ]
  },
  {
   "cell_type": "markdown",
   "metadata": {},
   "source": [
    "Print computing progress."
   ]
  },
  {
   "cell_type": "code",
   "execution_count": 17,
   "metadata": {
    "collapsed": true
   },
   "outputs": [],
   "source": [
    "def print_progress(cnt, total):\n",
    "    \"\"\"Display a progress bar\"\"\"\n",
    "    assert(cnt > 0 and total > 0 and cnt <= total)\n",
    "    length = 80\n",
    "    ratio = cnt / total\n",
    "    n = int(length * ratio)\n",
    "    sys.stdout.write('\\r[%-80s] %d%%' % ('-'*n, int(ratio*100)))\n",
    "    sys.stdout.flush()"
   ]
  },
  {
   "cell_type": "markdown",
   "metadata": {},
   "source": [
    "Extract trajectory, i.e., a list of POIs."
   ]
  },
  {
   "cell_type": "code",
   "execution_count": 18,
   "metadata": {
    "collapsed": true
   },
   "outputs": [],
   "source": [
    "def extract_traj(tid, traj_all):\n",
    "    traj = traj_all[traj_all['trajID'] == tid].copy()\n",
    "    traj.sort_values(by=['startTime'], ascending=True, inplace=True)\n",
    "    return traj['poiID'].tolist()"
   ]
  },
  {
   "cell_type": "markdown",
   "metadata": {},
   "source": [
    "Compute POI properties, e.g., popularity, total number of visit, average visit duration."
   ]
  },
  {
   "cell_type": "code",
   "execution_count": 19,
   "metadata": {
    "collapsed": true
   },
   "outputs": [],
   "source": [
    "def calc_poi_info(trajid_list, traj_all, poi_all):\n",
    "    assert(len(trajid_list) > 0)\n",
    "    # to allow duplicated trajid\n",
    "    poi_info = traj_all[traj_all['trajID'] == trajid_list[0]][['poiID', 'poiDuration']].copy() \n",
    "    for i in range(1, len(trajid_list)):\n",
    "        traj = traj_all[traj_all['trajID'] == trajid_list[i]][['poiID', 'poiDuration']]\n",
    "        poi_info = poi_info.append(traj, ignore_index=True)\n",
    "    \n",
    "    poi_info = poi_info.groupby('poiID').agg([np.mean, np.size])\n",
    "    poi_info.columns = poi_info.columns.droplevel()\n",
    "    poi_info.reset_index(inplace=True)\n",
    "    poi_info.rename(columns={'mean':'avgDuration', 'size':'nVisit'}, inplace=True)\n",
    "    poi_info.set_index('poiID', inplace=True) \n",
    "    poi_info['poiCat'] = poi_all.loc[poi_info.index, 'poiCat']\n",
    "    poi_info['poiLon'] = poi_all.loc[poi_info.index, 'poiLon']\n",
    "    poi_info['poiLat'] = poi_all.loc[poi_info.index, 'poiLat']\n",
    "    \n",
    "    # POI popularity: the number of distinct users that visited the POI\n",
    "    pop_df = traj_all[traj_all['trajID'].isin(trajid_list)][['poiID', 'userID']].copy()\n",
    "    pop_df = pop_df.groupby('poiID').agg(pd.Series.nunique)\n",
    "    pop_df.rename(columns={'userID':'nunique'}, inplace=True)\n",
    "    poi_info['popularity'] = pop_df.loc[poi_info.index, 'nunique']\n",
    "    \n",
    "    return poi_info.copy()"
   ]
  },
  {
   "cell_type": "markdown",
   "metadata": {},
   "source": [
    "Compute the F1 score for recommended trajectory."
   ]
  },
  {
   "cell_type": "code",
   "execution_count": 20,
   "metadata": {
    "collapsed": true
   },
   "outputs": [],
   "source": [
    "def calc_F1(traj_act, traj_rec, noloop=False):\n",
    "    '''Compute recall, precision and F1 for recommended trajectories'''\n",
    "    assert(isinstance(noloop, bool))\n",
    "    assert(len(traj_act) > 0)\n",
    "    assert(len(traj_rec) > 0)\n",
    "    \n",
    "    if noloop == True:\n",
    "        intersize = len(set(traj_act) & set(traj_rec))\n",
    "    else:\n",
    "        match_tags = np.zeros(len(traj_act), dtype=np.bool)\n",
    "        for poi in traj_rec:\n",
    "            for j in range(len(traj_act)):\n",
    "                if match_tags[j] == False and poi == traj_act[j]:\n",
    "                    match_tags[j] = True\n",
    "                    break\n",
    "        intersize = np.nonzero(match_tags)[0].shape[0]\n",
    "        \n",
    "    recall = intersize / len(traj_act)\n",
    "    precision = intersize / len(traj_rec)\n",
    "    F1 = 2 * precision * recall / (precision + recall)\n",
    "    return F1"
   ]
  },
  {
   "cell_type": "markdown",
   "metadata": {},
   "source": [
    "Compute distance between two POIs using [Haversine formula](http://en.wikipedia.org/wiki/Great-circle_distance)."
   ]
  },
  {
   "cell_type": "code",
   "execution_count": 21,
   "metadata": {
    "collapsed": true
   },
   "outputs": [],
   "source": [
    "def calc_dist_vec(longitudes1, latitudes1, longitudes2, latitudes2):\n",
    "    \"\"\"Calculate the distance (unit: km) between two places on earth, vectorised\"\"\"\n",
    "    # convert degrees to radians\n",
    "    lng1 = np.radians(longitudes1)\n",
    "    lat1 = np.radians(latitudes1)\n",
    "    lng2 = np.radians(longitudes2)\n",
    "    lat2 = np.radians(latitudes2)\n",
    "    radius = 6371.0088 # mean earth radius, en.wikipedia.org/wiki/Earth_radius#Mean_radius\n",
    "\n",
    "    # The haversine formula, en.wikipedia.org/wiki/Great-circle_distance\n",
    "    dlng = np.fabs(lng1 - lng2)\n",
    "    dlat = np.fabs(lat1 - lat2)\n",
    "    dist =  2 * radius * np.arcsin( np.sqrt( \n",
    "                (np.sin(0.5*dlat))**2 + np.cos(lat1) * np.cos(lat2) * (np.sin(0.5*dlng))**2 ))\n",
    "    return dist"
   ]
  },
  {
   "cell_type": "markdown",
   "metadata": {},
   "source": [
    "Distance between POIs."
   ]
  },
  {
   "cell_type": "code",
   "execution_count": 22,
   "metadata": {
    "collapsed": true
   },
   "outputs": [],
   "source": [
    "poi_distmat = pd.DataFrame(data=np.zeros((poi_all.shape[0], poi_all.shape[0]), dtype=np.float), \\\n",
    "                           index=poi_all.index, columns=poi_all.index)"
   ]
  },
  {
   "cell_type": "code",
   "execution_count": 23,
   "metadata": {
    "collapsed": true
   },
   "outputs": [],
   "source": [
    "for ix in poi_all.index:\n",
    "    poi_distmat.loc[ix] = calc_dist_vec(poi_all.loc[ix, 'poiLon'], \\\n",
    "                                        poi_all.loc[ix, 'poiLat'], \\\n",
    "                                        poi_all['poiLon'], \\\n",
    "                                        poi_all['poiLat'])"
   ]
  },
  {
   "cell_type": "markdown",
   "metadata": {},
   "source": [
    "Define a *query* (in IR terminology) using tuple (start POI, end POI, #POI) ~~user ID.~~"
   ]
  },
  {
   "cell_type": "code",
   "execution_count": 24,
   "metadata": {
    "collapsed": false
   },
   "outputs": [],
   "source": [
    "trajid_set_all = sorted(traj_all['trajID'].unique().tolist())"
   ]
  },
  {
   "cell_type": "code",
   "execution_count": 25,
   "metadata": {
    "collapsed": true
   },
   "outputs": [],
   "source": [
    "query_id_dict = dict()  # (start, end, length) --> qid"
   ]
  },
  {
   "cell_type": "code",
   "execution_count": 26,
   "metadata": {
    "collapsed": true
   },
   "outputs": [],
   "source": [
    "trajs = [extract_traj(tid, traj_all) for tid in trajid_set_all]\n",
    "keys = [(t[0], t[-1], len(t)) for t in trajs if len(t) > 2]\n",
    "cnt = 0\n",
    "for key in keys:\n",
    "    if key not in query_id_dict:   # (start, end, length) --> qid\n",
    "        query_id_dict[key] = cnt\n",
    "        cnt += 1"
   ]
  },
  {
   "cell_type": "code",
   "execution_count": 27,
   "metadata": {
    "collapsed": false
   },
   "outputs": [
    {
     "data": {
      "text/html": [
       "<div>\n",
       "<table border=\"1\" class=\"dataframe\">\n",
       "  <thead>\n",
       "    <tr style=\"text-align: right;\">\n",
       "      <th></th>\n",
       "      <th>avgDuration</th>\n",
       "      <th>nVisit</th>\n",
       "      <th>poiCat</th>\n",
       "      <th>poiLon</th>\n",
       "      <th>poiLat</th>\n",
       "      <th>popularity</th>\n",
       "    </tr>\n",
       "    <tr>\n",
       "      <th>poiID</th>\n",
       "      <th></th>\n",
       "      <th></th>\n",
       "      <th></th>\n",
       "      <th></th>\n",
       "      <th></th>\n",
       "      <th></th>\n",
       "    </tr>\n",
       "  </thead>\n",
       "  <tbody>\n",
       "    <tr>\n",
       "      <th>1</th>\n",
       "      <td>3696.146067</td>\n",
       "      <td>89</td>\n",
       "      <td>Amusement</td>\n",
       "      <td>135.428938</td>\n",
       "      <td>34.654792</td>\n",
       "      <td>69</td>\n",
       "    </tr>\n",
       "    <tr>\n",
       "      <th>2</th>\n",
       "      <td>1532.204082</td>\n",
       "      <td>49</td>\n",
       "      <td>Amusement</td>\n",
       "      <td>135.430627</td>\n",
       "      <td>34.656145</td>\n",
       "      <td>39</td>\n",
       "    </tr>\n",
       "    <tr>\n",
       "      <th>3</th>\n",
       "      <td>4450.041667</td>\n",
       "      <td>24</td>\n",
       "      <td>Amusement</td>\n",
       "      <td>135.508558</td>\n",
       "      <td>34.652423</td>\n",
       "      <td>20</td>\n",
       "    </tr>\n",
       "    <tr>\n",
       "      <th>4</th>\n",
       "      <td>8226.625000</td>\n",
       "      <td>32</td>\n",
       "      <td>Amusement</td>\n",
       "      <td>135.433627</td>\n",
       "      <td>34.664758</td>\n",
       "      <td>27</td>\n",
       "    </tr>\n",
       "    <tr>\n",
       "      <th>5</th>\n",
       "      <td>1247.037383</td>\n",
       "      <td>107</td>\n",
       "      <td>Amusement</td>\n",
       "      <td>135.499894</td>\n",
       "      <td>34.703680</td>\n",
       "      <td>65</td>\n",
       "    </tr>\n",
       "  </tbody>\n",
       "</table>\n",
       "</div>"
      ],
      "text/plain": [
       "       avgDuration  nVisit     poiCat      poiLon     poiLat  popularity\n",
       "poiID                                                                   \n",
       "1      3696.146067      89  Amusement  135.428938  34.654792          69\n",
       "2      1532.204082      49  Amusement  135.430627  34.656145          39\n",
       "3      4450.041667      24  Amusement  135.508558  34.652423          20\n",
       "4      8226.625000      32  Amusement  135.433627  34.664758          27\n",
       "5      1247.037383     107  Amusement  135.499894  34.703680          65"
      ]
     },
     "execution_count": 27,
     "metadata": {},
     "output_type": "execute_result"
    }
   ],
   "source": [
    "poi_info_ = calc_poi_info(trajid_set_all, traj_all, poi_all)\n",
    "poi_info_.head()"
   ]
  },
  {
   "cell_type": "code",
   "execution_count": 28,
   "metadata": {
    "collapsed": false
   },
   "outputs": [
    {
     "name": "stdout",
     "output_type": "stream",
     "text": [
      "#traj in total: 1115\n",
      "#traj (length > 2): 47\n",
      "#query tuple: 43\n"
     ]
    }
   ],
   "source": [
    "print('#traj in total:', len(trajid_set_all))\n",
    "print('#traj (length > 2):', traj_all[traj_all['trajLen'] > 2]['trajID'].unique().shape[0])\n",
    "print('#query tuple:', len(query_id_dict))"
   ]
  },
  {
   "cell_type": "markdown",
   "metadata": {},
   "source": [
    "<a id='sec2'></a>"
   ]
  },
  {
   "cell_type": "markdown",
   "metadata": {},
   "source": [
    "# 2. POI Ranking"
   ]
  },
  {
   "cell_type": "markdown",
   "metadata": {},
   "source": [
    "<a id='sec2.1'></a>"
   ]
  },
  {
   "cell_type": "markdown",
   "metadata": {},
   "source": [
    "## 2.1 POI Features for Ranking"
   ]
  },
  {
   "cell_type": "markdown",
   "metadata": {},
   "source": [
    "POI Features used for ranking:\n",
    "1. `popularity`: POI popularity, i.e., the number of distinct users that visited the POI\n",
    "1. `nVisit`: the total number of visit by all users\n",
    "1. `avgDuration`: average POI visit duration\n",
    "1. `sameCatStart`: 1 if POI category is the same as that of `startPOI`, -1 otherwise\n",
    "1. `sameCatEnd`: 1 if POI category is the same as that of `endPOI`, -1 otherwise\n",
    "1. `distStart`: distance (haversine formula) from `startPOI`\n",
    "1. `distEnd`: distance from `endPOI`\n",
    "1. `seqLen`: trajectory length (copy from query)\n",
    "1. `diffPopStart`: difference in POI popularity from `startPOI`\n",
    "1. `diffPopEnd`: difference in POI popularity from `endPOI`\n",
    "1. `diffNVisitStart`: difference in the total number of visit from `startPOI`\n",
    "1. `diffNVisitEnd`: difference in the total number of visit from `endPOI`\n",
    "1. `diffDurationStart`: difference in average POI visit duration from the actual duration spent at `startPOI`\n",
    "1. `diffDurationEnd`: difference in average POI visit duration from the actual duration spent at `endPOI`"
   ]
  },
  {
   "cell_type": "code",
   "execution_count": 29,
   "metadata": {
    "collapsed": true
   },
   "outputs": [],
   "source": [
    "df_columns = ['poiID', 'label', 'queryID', 'popularity', 'nVisit', 'avgDuration', \\\n",
    "              'sameCatStart', 'sameCatEnd', 'distStart', 'distEnd', 'trajLen', 'diffPopStart', \\\n",
    "              'diffPopEnd', 'diffNVisitStart', 'diffNVisitEnd', 'diffDurationStart', 'diffDurationEnd']"
   ]
  },
  {
   "cell_type": "markdown",
   "metadata": {},
   "source": [
    "~~Features aggregated from a number of trajectories:~~\n",
    "~~1. Compute POI `popularity` and average visit `duration` using all trajectories from training and querying set,~~\n",
    "~~1. Use the same features that computed above for the test set, except the distance based features.~~"
   ]
  },
  {
   "cell_type": "markdown",
   "metadata": {},
   "source": [
    "<a id='sec2.2'></a>"
   ]
  },
  {
   "cell_type": "markdown",
   "metadata": {},
   "source": [
    "## 2.2 Training DataFrame"
   ]
  },
  {
   "cell_type": "markdown",
   "metadata": {},
   "source": [
    "Training data are generated as follows:\n",
    "1. each input tuple $(\\text{startPOI}, \\text{endPOI}, \\text{#POI})$ form a `query` (in IR terminology).\n",
    "1. the label of a specific POI is the number of presence of that POI in a specific `query`, excluding the presence as $\\text{startPOI}$ or $\\text{endPOI}$.\n",
    "1. for each `query`, the label of all absence POIs from trajectories of that `query` in training set got a label 0."
   ]
  },
  {
   "cell_type": "markdown",
   "metadata": {},
   "source": [
    "The dimension of training data matrix is `#(qid, poi)` by `#feature`."
   ]
  },
  {
   "cell_type": "code",
   "execution_count": 30,
   "metadata": {
    "collapsed": true
   },
   "outputs": [],
   "source": [
    "def gen_train_subdf(poi_id, query_id_set, columns, poi_info, poi_distmat, query_id_rdict):\n",
    "    df_ = pd.DataFrame(data=np.zeros((len(query_id_set), len(columns)), dtype=np.float), columns=columns)\n",
    "    \n",
    "    pop = poi_info.loc[poi_id, 'popularity']; nvisit = poi_info.loc[poi_id, 'nVisit']\n",
    "    cat = poi_info.loc[poi_id, 'poiCat']; duration = poi_info.loc[poi_id, 'avgDuration']\n",
    "    \n",
    "    for j in range(len(query_id_set)):\n",
    "        qid = query_id_set[j]\n",
    "        assert(qid in query_id_rdict) # qid --> (start, end, length)\n",
    "        (p0, pN, trajLen) = query_id_rdict[qid]\n",
    "        idx = df_.index[j]\n",
    "        df_.loc[idx, 'poiID'] = poi_id\n",
    "        df_.loc[idx, 'queryID'] = qid\n",
    "        df_.loc[idx, 'popularity'] = pop\n",
    "        df_.loc[idx, 'nVisit'] = nvisit\n",
    "        df_.loc[idx, 'avgDuration'] = duration\n",
    "        df_.loc[idx, 'sameCatStart'] = 1 if cat == poi_info.loc[p0, 'poiCat'] else -1\n",
    "        df_.loc[idx, 'sameCatEnd']   = 1 if cat == poi_info.loc[pN, 'poiCat'] else -1\n",
    "        df_.loc[idx, 'distStart'] = poi_distmat.loc[poi_id, p0]\n",
    "        df_.loc[idx, 'distEnd']   = poi_distmat.loc[poi_id, pN]\n",
    "        df_.loc[idx, 'trajLen'] = trajLen\n",
    "        df_.loc[idx, 'diffPopStart'] = pop - poi_info.loc[p0, 'popularity']\n",
    "        df_.loc[idx, 'diffPopEnd']   = pop - poi_info.loc[pN, 'popularity']\n",
    "        df_.loc[idx, 'diffNVisitStart'] = nvisit - poi_info.loc[p0, 'nVisit']\n",
    "        df_.loc[idx, 'diffNVisitEnd']   = nvisit - poi_info.loc[pN, 'nVisit']\n",
    "        df_.loc[idx, 'diffDurationStart'] = duration - poi_info.loc[p0, 'avgDuration']\n",
    "        df_.loc[idx, 'diffDurationEnd']   = duration - poi_info.loc[pN, 'avgDuration']\n",
    "        \n",
    "    return df_"
   ]
  },
  {
   "cell_type": "code",
   "execution_count": 31,
   "metadata": {
    "collapsed": true
   },
   "outputs": [],
   "source": [
    "def gen_train_df(trajid_list, columns, traj_all, poi_info, poi_distmat, query_id_dict, n_jobs=2):\n",
    "    columns = columns.copy()\n",
    "    train_trajs = [extract_traj(tid, traj_all) for tid in trajid_list]\n",
    "    \n",
    "    qid_set = sorted(set([query_id_dict[(t[0], t[-1], len(t))] for t in train_trajs if len(t) > 2]))\n",
    "    poi_set = sorted(set(poi_info.index.tolist()))\n",
    "    \n",
    "    #qid_poi_pair = list(itertools.product(qid_set, poi_set)) # Cartesian product of qid_set and poi_set\n",
    "    #df_ = pd.DataFrame(data=np.zeros((len(qid_poi_pair), len(columns)), dtype= np.float), columns=columns)\n",
    "    \n",
    "    query_id_rdict = dict()\n",
    "    for k, v in query_id_dict.items(): \n",
    "        query_id_rdict[v] = k  # qid --> (start, end, length)\n",
    "    \n",
    "    train_df_list = Parallel(n_jobs=n_jobs)\\\n",
    "                            (delayed(gen_train_subdf)(poi, qid_set, columns, poi_info, poi_distmat, query_id_rdict) \\\n",
    "                             for poi in poi_set)\n",
    "                        \n",
    "    assert(len(train_df_list) > 0)\n",
    "    df_ = train_df_list[0]\n",
    "    for j in range(1, len(train_df_list)):\n",
    "        df_ = df_.append(train_df_list[j], ignore_index=True)            \n",
    "        \n",
    "    # set label\n",
    "    df_.set_index(['queryID', 'poiID'], inplace=True)\n",
    "    for t in train_trajs:\n",
    "        if len(t) > 2:\n",
    "            qid = query_id_dict[(t[0], t[-1], len(t))]\n",
    "            for poi in t[1:-1]:  # do NOT count if the POI is startPOI/endPOI\n",
    "                df_.loc[(qid, poi), 'label'] += 1\n",
    "    \n",
    "    df_.reset_index(inplace=True)\n",
    "    return df_"
   ]
  },
  {
   "cell_type": "markdown",
   "metadata": {},
   "source": [
    "Sanity check: \n",
    "- different POIs have different features for the same query trajectory\n",
    "- the same POI get different features for different query-id"
   ]
  },
  {
   "cell_type": "markdown",
   "metadata": {},
   "source": [
    "<a id='sec2.3'></a>"
   ]
  },
  {
   "cell_type": "markdown",
   "metadata": {},
   "source": [
    "## 2.3 Test DataFrame"
   ]
  },
  {
   "cell_type": "markdown",
   "metadata": {},
   "source": [
    "Test data are generated the same way as training data, except that the labels of testing data (unknown) could be arbitrary values as suggested in [libsvm FAQ](http://www.csie.ntu.edu.tw/~cjlin/libsvm/faq.html#f431).\n",
    "The reported accuracy (by `svm-predict` command) is meaningless as it is calculated based on these labels."
   ]
  },
  {
   "cell_type": "markdown",
   "metadata": {},
   "source": [
    "The dimension of training data matrix is `#poi` by `#feature` with one specific `query`, i.e. tuple $(\\text{startPOI}, \\text{endPOI}, \\text{#POI})$."
   ]
  },
  {
   "cell_type": "code",
   "execution_count": 32,
   "metadata": {
    "collapsed": true
   },
   "outputs": [],
   "source": [
    "def gen_test_df(startPOI, endPOI, nPOI, columns, poi_info, poi_distmat, query_id_dict):\n",
    "    columns = columns.copy()\n",
    "    key = (p0, pN, trajLen) = (startPOI, endPOI, nPOI)\n",
    "    assert(key in query_id_dict)\n",
    "    assert(p0 in poi_info.index)\n",
    "    assert(pN in poi_info.index)\n",
    "    \n",
    "    poi_set = sorted(set(poi_info.index.tolist()))\n",
    "    df_ = pd.DataFrame(data=np.zeros((len(poi_set), len(columns)), dtype= np.float), columns=columns)\n",
    "    \n",
    "    qid = query_id_dict[key]\n",
    "    df_['queryID'] = qid\n",
    "    df_['label'] = np.random.rand(df_.shape[0]) # label for test data is arbitrary according to libsvm FAQ\n",
    "\n",
    "    for i in range(df_.index.shape[0]):\n",
    "        poi = poi_set[i]\n",
    "        lon = poi_info.loc[poi, 'poiLon']; lat = poi_info.loc[poi, 'poiLat']\n",
    "        pop = poi_info.loc[poi, 'popularity']; nvisit = poi_info.loc[poi, 'nVisit']\n",
    "        cat = poi_info.loc[poi, 'poiCat']; duration = poi_info.loc[poi, 'avgDuration']\n",
    "        idx = df_.index[i]\n",
    "        df_.loc[idx, 'poiID'] = poi \n",
    "        df_.loc[idx, 'popularity'] = pop\n",
    "        df_.loc[idx, 'nVisit'] = nvisit\n",
    "        df_.loc[idx, 'avgDuration'] = duration\n",
    "        df_.loc[idx, 'sameCatStart'] = 1 if cat == poi_all.loc[p0, 'poiCat'] else -1\n",
    "        df_.loc[idx, 'sameCatEnd']   = 1 if cat == poi_all.loc[pN, 'poiCat'] else -1\n",
    "        df_.loc[idx, 'distStart'] = poi_distmat.loc[poi, p0]\n",
    "        df_.loc[idx, 'distEnd']   = poi_distmat.loc[poi, pN]\n",
    "        df_.loc[idx, 'trajLen'] = trajLen\n",
    "        df_.loc[idx, 'diffPopStart'] = pop - poi_info.loc[p0, 'popularity']\n",
    "        df_.loc[idx, 'diffPopEnd']   = pop - poi_info.loc[pN, 'popularity']\n",
    "        df_.loc[idx, 'diffNVisitStart'] = nvisit - poi_info.loc[p0, 'nVisit']\n",
    "        df_.loc[idx, 'diffNVisitEnd']   = nvisit - poi_info.loc[pN, 'nVisit']\n",
    "        df_.loc[idx, 'diffDurationStart'] = duration - poi_info.loc[p0, 'avgDuration']\n",
    "        df_.loc[idx, 'diffDurationEnd']   = duration - poi_info.loc[pN, 'avgDuration']\n",
    "    return df_"
   ]
  },
  {
   "cell_type": "markdown",
   "metadata": {},
   "source": [
    "Sanity check: \n",
    "- different POIs have different features for the same query trajectory\n",
    "- the same POI get different features for different query-id"
   ]
  },
  {
   "cell_type": "markdown",
   "metadata": {},
   "source": [
    "Generate a string for a training/test data frame."
   ]
  },
  {
   "cell_type": "code",
   "execution_count": 33,
   "metadata": {
    "collapsed": true
   },
   "outputs": [],
   "source": [
    "def gen_data_str(df_, df_columns=df_columns):\n",
    "    columns = df_columns[1:].copy()  # get rid of 'poiID'\n",
    "    for col in columns:\n",
    "        assert(col in df_.columns)\n",
    "        \n",
    "    lines = []\n",
    "    for idx in df_.index:\n",
    "        slist = [str(df_.loc[idx, 'label'])]\n",
    "        slist.append(' qid:')\n",
    "        slist.append(str(int(df_.loc[idx, 'queryID'])))\n",
    "        for j in range(2, len(columns)):\n",
    "            slist.append(' ')\n",
    "            slist.append(str(j-1))\n",
    "            slist.append(':')\n",
    "            slist.append(str(df_.loc[idx, columns[j]]))\n",
    "        slist.append('\\n')\n",
    "        lines.append(''.join(slist))\n",
    "    return ''.join(lines)"
   ]
  },
  {
   "cell_type": "markdown",
   "metadata": {},
   "source": [
    "<a id='sec2.4'></a>"
   ]
  },
  {
   "cell_type": "markdown",
   "metadata": {},
   "source": [
    "## 2.4 Ranking POIs using rankSVM"
   ]
  },
  {
   "cell_type": "markdown",
   "metadata": {},
   "source": [
    "RankSVM implementation in [libsvm.zip](https://www.csie.ntu.edu.tw/~cjlin/libsvmtools/ranksvm/libsvm-ranksvm-3.20.zip) or [liblinear.zip](https://www.csie.ntu.edu.tw/~cjlin/libsvmtools/ranksvm/liblinear-ranksvm-1.95.zip), please read `README.ranksvm` in the zip file for installation instructions."
   ]
  },
  {
   "cell_type": "markdown",
   "metadata": {},
   "source": [
    "Use [softmax function](https://en.wikipedia.org/wiki/Softmax_function) to convert ranking scores to a probability distribution."
   ]
  },
  {
   "cell_type": "code",
   "execution_count": 34,
   "metadata": {
    "collapsed": true
   },
   "outputs": [],
   "source": [
    "def softmax(x):\n",
    "    expx = np.exp(x)\n",
    "    return expx / np.sum(expx, axis=0) # column-wise sum"
   ]
  },
  {
   "cell_type": "markdown",
   "metadata": {},
   "source": [
    "Below is a python wrapper of the `svm-train` or `train` and `svm-predict` or `predict` commands of rankSVM with ranking probabilities $P(p_i \\lvert (p_s, p_e, len))$ computed using [softmax function](https://en.wikipedia.org/wiki/Softmax_function)."
   ]
  },
  {
   "cell_type": "code",
   "execution_count": 35,
   "metadata": {
    "collapsed": true
   },
   "outputs": [],
   "source": [
    "# python wrapper of rankSVM\n",
    "class RankSVM:\n",
    "    def __init__(self, bin_dir, useLinear=True, debug=False):\n",
    "        dir_ = !echo $bin_dir  # deal with environmental variables in path\n",
    "        assert(os.path.exists(dir_[0]))\n",
    "        self.bin_dir = dir_[0]\n",
    "        \n",
    "        self.bin_train = 'svm-train'\n",
    "        self.bin_predict = 'svm-predict'\n",
    "        if useLinear:\n",
    "            self.bin_train = 'train'\n",
    "            self.bin_predict = 'predict'\n",
    "        \n",
    "        assert(isinstance(debug, bool))\n",
    "        self.debug = debug\n",
    "        \n",
    "        # create named tmp files for model and feature scaling parameters\n",
    "        self.fmodel = None\n",
    "        self.fscale = None\n",
    "        with tempfile.NamedTemporaryFile(delete=False) as fd: \n",
    "            self.fmodel = fd.name\n",
    "        with tempfile.NamedTemporaryFile(delete=False) as fd: \n",
    "            self.fscale = fd.name\n",
    "        \n",
    "        if self.debug:\n",
    "            print('model file:', self.fmodel)\n",
    "            print('feature scaling parameter file:', self.fscale)\n",
    "    \n",
    "    \n",
    "    def __del__(self):\n",
    "        # remove tmp files\n",
    "        if self.fmodel is not None and os.path.exists(self.fmodel):\n",
    "            os.unlink(self.fmodel)\n",
    "        if self.fscale is not None and os.path.exists(self.fscale):\n",
    "            os.unlink(self.fscale)\n",
    "    \n",
    "    \n",
    "    def train(self, train_df, cost=1):\n",
    "        # cost is parameter C in SVM\n",
    "        # write train data to file\n",
    "        ftrain = None\n",
    "        with tempfile.NamedTemporaryFile(mode='w+t', delete=False) as fd: \n",
    "            ftrain = fd.name\n",
    "            datastr = gen_data_str(train_df)\n",
    "            fd.write(datastr)\n",
    "        \n",
    "        # feature scaling\n",
    "        ftrain_scaled = None\n",
    "        with tempfile.NamedTemporaryFile(mode='w+t', delete=False) as fd: \n",
    "            ftrain_scaled = fd.name\n",
    "        result = !$self.bin_dir/svm-scale -s $self.fscale $ftrain > $ftrain_scaled\n",
    "        \n",
    "        if self.debug:\n",
    "            print('cost:', cost)\n",
    "            print('train data file:', ftrain)\n",
    "            print('feature scaled train data file:', ftrain_scaled)\n",
    "        \n",
    "        # train rank svm and generate model file, if the model file exists, rewrite it\n",
    "        #n_cv = 10  # parameter k for k-fold cross-validation, NO model file will be generated in CV mode\n",
    "        #result = !$self.bin_dir/svm-train -c $cost -v $n_cv $ftrain $self.fmodel\n",
    "        result = !$self.bin_dir/$self.bin_train -c $cost $ftrain_scaled $self.fmodel\n",
    "        if self.debug:\n",
    "            print('Training finished.')\n",
    "            for i in range(len(result)): print(result[i])\n",
    "\n",
    "        # remove train data file\n",
    "        os.unlink(ftrain)\n",
    "        os.unlink(ftrain_scaled)        \n",
    "    \n",
    "    \n",
    "    def predict(self, test_df):\n",
    "        # predict ranking scores for the given feature matrix\n",
    "        if self.fmodel is None or not os.path.exists(self.fmodel):\n",
    "            print('Model should be trained before predicting')\n",
    "            return\n",
    "        \n",
    "        # write test data to file\n",
    "        ftest = None\n",
    "        with tempfile.NamedTemporaryFile(mode='w+t', delete=False) as fd: \n",
    "            ftest = fd.name\n",
    "            datastr = gen_data_str(test_df)\n",
    "            fd.write(datastr)\n",
    "                \n",
    "        # feature scaling\n",
    "        ftest_scaled = None\n",
    "        with tempfile.NamedTemporaryFile(delete=False) as fd: \n",
    "            ftest_scaled = fd.name\n",
    "        result = !$self.bin_dir/svm-scale -r $self.fscale $ftest > $ftest_scaled\n",
    "            \n",
    "        # generate prediction file\n",
    "        fpredict = None\n",
    "        with tempfile.NamedTemporaryFile(delete=False) as fd: \n",
    "            fpredict = fd.name\n",
    "            \n",
    "        if self.debug:\n",
    "            print('test data file:', ftest)\n",
    "            print('feature scaled test data file:', ftest_scaled)\n",
    "            print('predict result file:', fpredict)\n",
    "            \n",
    "        # predict using trained model and write prediction to file\n",
    "        result = !$self.bin_dir/$self.bin_predict $ftest_scaled $self.fmodel $fpredict\n",
    "        if self.debug:\n",
    "            print('Predict result: %-30s  %s' % (result[0], result[1]))\n",
    "        \n",
    "        # generate prediction DataFrame from prediction file\n",
    "        poi_rank_df = pd.read_csv(fpredict, header=None)\n",
    "        poi_rank_df.rename(columns={0:'rank'}, inplace=True)\n",
    "        poi_rank_df['poiID'] = test_df['poiID'].astype(np.int)\n",
    "        #poi_rank_df.set_index('poiID', inplace=True) # duplicated 'poiID' when evaluating training data\n",
    "        poi_rank_df['probability'] = softmax(poi_rank_df['rank'])  # softmax\n",
    "        \n",
    "        # remove test file and prediction file\n",
    "        os.unlink(ftest)\n",
    "        os.unlink(ftest_scaled)\n",
    "        os.unlink(fpredict)\n",
    "        \n",
    "        return poi_rank_df"
   ]
  },
  {
   "cell_type": "markdown",
   "metadata": {},
   "source": [
    "<a id='sec3'></a>"
   ]
  },
  {
   "cell_type": "markdown",
   "metadata": {},
   "source": [
    "# 3. Structured Prediction Model Training and Evaluation"
   ]
  },
  {
   "cell_type": "markdown",
   "metadata": {},
   "source": [
    "<a id='sec3.1'></a>"
   ]
  },
  {
   "cell_type": "markdown",
   "metadata": {},
   "source": [
    "## 3.1 Features for Structured Prediction"
   ]
  },
  {
   "cell_type": "markdown",
   "metadata": {},
   "source": [
    "For a trajectory `[start, ..., end]`, the features used to train/test are \n",
    "1. ~~feature for POI `start` is a binary vector of size `total_number_of_POIs`, \n",
    "   with `1` at the location corresponds to POI `start` and `0` anywhere else, e.g. one hot encoding.~~\n",
    "1. ~~feature for POI `end` is simliar, with `1` at the location corresponds to POI `end`.~~\n",
    "1. features for other POIs in the trajectory are the ranking probabilities \n",
    "   (produced by rankSVM, transformed by softmax) of all POIs,\n",
    "   i.e. features of different POIs in the middle (i.e. not the `start` or `end`) are the same."
   ]
  },
  {
   "cell_type": "markdown",
   "metadata": {},
   "source": [
    "<a id='sec3.2'></a>"
   ]
  },
  {
   "cell_type": "markdown",
   "metadata": {},
   "source": [
    "## 3.2 Leave-one-out Evaluation"
   ]
  },
  {
   "cell_type": "markdown",
   "metadata": {},
   "source": [
    "**NOTE**: [PyStruct](https://pystruct.github.io/) assumes that [label `y` is a discrete vector](https://pystruct.github.io/intro.html) and [pystruct.learners assume labels `y` are integers starting with `0`](https://github.com/pystruct/pystruct/issues/114), concretely,\n",
    "- values in label vector $y$ should satisfy $y_i \\in Y$, \n",
    "  where $Y$ is the **index** of a discrete value space, and the index starts at 0.\n",
    "- label vector $y$ will be [transformed to one hot encoding (see function `joint_feature()`)](https://github.com/pystruct/pystruct/blob/master/pystruct/models/graph_crf.py).\n",
    "\n",
    "For example, if labels in training set is `[[1, 2], [0, 4, 9]]`, \n",
    "then it will cause an index out of bounds error as pystruct did something like this,\n",
    "1. construct an discrete value space: \n",
    "   - `set([1, 2] + [0, 4, 9]) -> {0, 1, 2, 4, 9}`\n",
    "   - `size({0, 1, 2, 4, 9}) = 5`\n",
    "1. convert labels using one hot encoding: \n",
    "   - label vector `[1, 2]` will be converted to a matrix of shape $2 \\times 5$,\n",
    "     with cells at `(0, 1), (1, 2)` set to `1` and others set to `0`.\n",
    "   - label vector `[0, 4, 9]` will be converted to a matrix of shape $3 \\times 5$,\n",
    "     with cells at `(0, 0)`, `(1, 4)`, **`(2, 9)` INDEX_OUT_OF_BOUNDS** set to `1` and others set to `0`."
   ]
  },
  {
   "cell_type": "markdown",
   "metadata": {},
   "source": [
    "Train a [ChainCRF](https://pystruct.github.io/generated/pystruct.models.ChainCRF.html#pystruct.models.ChainCRF) using [OneSlackSSVM](https://pystruct.github.io/generated/pystruct.learners.OneSlackSSVM.html#pystruct.learners.OneSlackSSVM)."
   ]
  },
  {
   "cell_type": "code",
   "execution_count": 40,
   "metadata": {
    "collapsed": false
   },
   "outputs": [],
   "source": [
    "poi_info_all = calc_poi_info(trajid_set_all, traj_all, poi_all)"
   ]
  },
  {
   "cell_type": "markdown",
   "metadata": {},
   "source": [
    "Build a mapping for POIs: *POI_ID $\\to$ POI_INDEX* with POIs in trajectories of length $\\ge 3$, also a map of the reverse direction."
   ]
  },
  {
   "cell_type": "code",
   "execution_count": 41,
   "metadata": {
    "collapsed": true
   },
   "outputs": [],
   "source": [
    "#poi_set = set()\n",
    "poi_id_dict  = dict()\n",
    "poi_id_rdict = dict()\n",
    "poi_cnt_dict = dict()\n",
    "traj_dict = dict()"
   ]
  },
  {
   "cell_type": "code",
   "execution_count": 42,
   "metadata": {
    "collapsed": true
   },
   "outputs": [],
   "source": [
    "for tid in trajid_set_all:\n",
    "    t = extract_traj(tid, traj_all)\n",
    "    if len(t) < 3: continue\n",
    "    #poi_set = poi_set | set(t)\n",
    "    #poi_set = poi_set | set(t[1:-1])  # exclude the start and end POI\n",
    "    assert(tid not in traj_dict)\n",
    "    traj_dict[tid] = t\n",
    "    for poi in t[1:-1]:\n",
    "        if poi in poi_cnt_dict: \n",
    "            poi_cnt_dict[poi] += 1\n",
    "        else:\n",
    "            poi_cnt_dict[poi] = 1"
   ]
  },
  {
   "cell_type": "code",
   "execution_count": 43,
   "metadata": {
    "collapsed": true
   },
   "outputs": [],
   "source": [
    "#for ix, poi in enumerate(sorted(poi_set)): \n",
    "for ix, poi in enumerate(sorted(poi_cnt_dict.keys())): \n",
    "    poi_id_dict[poi] = ix\n",
    "for k, v in poi_id_dict.items(): \n",
    "    poi_id_rdict[v] = k"
   ]
  },
  {
   "cell_type": "code",
   "execution_count": 44,
   "metadata": {
    "collapsed": true
   },
   "outputs": [],
   "source": [
    "assert(len(poi_id_dict) == len(poi_id_rdict) <= poi_info_all.shape[0])"
   ]
  },
  {
   "cell_type": "code",
   "execution_count": 45,
   "metadata": {
    "collapsed": true
   },
   "outputs": [],
   "source": [
    "poi_ix = [poi_id_rdict[x] for x in sorted(poi_id_rdict.keys())]  # POIs in ascending order of mapped IDs"
   ]
  },
  {
   "cell_type": "code",
   "execution_count": 46,
   "metadata": {
    "collapsed": true
   },
   "outputs": [],
   "source": [
    "F1_train_list = []\n",
    "F1_test = []"
   ]
  },
  {
   "cell_type": "code",
   "execution_count": 47,
   "metadata": {
    "collapsed": false,
    "scrolled": true
   },
   "outputs": [
    {
     "name": "stdout",
     "output_type": "stream",
     "text": [
      "[21, 8, 22, 6] #1 ->\n",
      "           [21, 15, 22, 6]\n",
      "           rank: 4.3 sec, train_data: 6.1 sec, train: 0.7 sec, total: 13.2 sec\n",
      "           Train F1: 0.800 0.187, Test F1: 0.750\n",
      "[21, 22, 3] #2 ->\n",
      "           [21, 5, 3]\n",
      "           rank: 4.1 sec, train_data: 5.8 sec, train: 0.7 sec, total: 12.7 sec\n",
      "           Train F1: 0.827 0.184, Test F1: 0.667\n",
      "[2, 1, 8] #3 ->\n",
      "           [2, 1, 8]\n",
      "           rank: 4.2 sec, train_data: 5.9 sec, train: 0.7 sec, total: 12.9 sec\n",
      "           Train F1: 0.787 0.189, Test F1: 1.000\n",
      "[20, 24, 21] #4 ->\n",
      "           [20, 22, 21]\n",
      "           rank: 4.2 sec, train_data: 5.9 sec, train: 0.7 sec, total: 12.8 sec\n",
      "           Train F1: 0.804 0.171, Test F1: 0.667\n",
      "[10, 3, 23, 20, 21] #5 ->\n",
      "           [10, 8, 15, 12, 21]\n",
      "           rank: 4.5 sec, train_data: 5.9 sec, train: 0.6 sec, total: 13.1 sec\n",
      "           Train F1: 0.805 0.174, Test F1: 0.400\n",
      "[6, 20, 5] #6 ->\n",
      "           [6, 20, 5]\n",
      "           rank: 4.2 sec, train_data: 5.9 sec, train: 0.7 sec, total: 12.9 sec\n",
      "           Train F1: 0.812 0.189, Test F1: 1.000\n",
      "[23, 22, 20] #7 ->\n",
      "           [23, 7, 20]\n",
      "           rank: 4.2 sec, train_data: 6.3 sec, train: 0.7 sec, total: 13.2 sec\n",
      "           Train F1: 0.805 0.171, Test F1: 0.667\n",
      "[8, 1, 22, 20, 21] #8 ->\n",
      "           [8, 21, 23, 22, 21]\n",
      "           rank: 4.4 sec, train_data: 6.0 sec, train: 0.7 sec, total: 13.2 sec\n",
      "           Train F1: 0.805 0.182, Test F1: 0.600\n",
      "[2, 1, 28] #9 ->\n",
      "           [2, 2, 28]\n",
      "           rank: 4.1 sec, train_data: 5.8 sec, train: 0.8 sec, total: 12.8 sec\n",
      "           Train F1: 0.777 0.173, Test F1: 0.667\n",
      "[5, 20, 21] #10 ->\n",
      "           [5, 20, 21]\n",
      "           rank: 4.2 sec, train_data: 5.9 sec, train: 0.6 sec, total: 12.7 sec\n",
      "           Train F1: 0.792 0.171, Test F1: 1.000\n",
      "[2, 1, 22, 20, 8] #11 ->\n",
      "           [2, 2, 1, 22, 8]\n",
      "           rank: 4.2 sec, train_data: 5.9 sec, train: 0.6 sec, total: 12.8 sec\n",
      "           Train F1: 0.807 0.181, Test F1: 0.800\n",
      "[10, 22, 7] #12 ->\n",
      "           [10, 21, 7]\n",
      "           rank: 4.1 sec, train_data: 6.1 sec, train: 0.6 sec, total: 13.0 sec\n",
      "           Train F1: 0.820 0.164, Test F1: 0.667\n",
      "[8, 1, 2, 5] #13 ->\n",
      "           [8, 8, 22, 5]\n",
      "           rank: 4.1 sec, train_data: 6.3 sec, train: 0.7 sec, total: 13.2 sec\n",
      "           Train F1: 0.815 0.156, Test F1: 0.500\n",
      "[8, 21, 5] #14 ->\n",
      "           [8, 6, 5]\n",
      "           rank: 4.4 sec, train_data: 6.1 sec, train: 1.1 sec, total: 13.7 sec\n",
      "           Train F1: 0.801 0.180, Test F1: 0.667\n",
      "[2, 1, 8] #15 ->\n",
      "           [2, 1, 8]\n",
      "           rank: 4.2 sec, train_data: 6.2 sec, train: 1.0 sec, total: 13.5 sec\n",
      "           Train F1: 0.822 0.174, Test F1: 1.000\n",
      "[15, 8, 1, 6] #16 ->\n",
      "           [15, 8, 22, 6]\n",
      "           rank: 4.1 sec, train_data: 5.9 sec, train: 0.7 sec, total: 12.7 sec\n",
      "           Train F1: 0.801 0.178, Test F1: 0.750\n",
      "[25, 8, 22, 20] #17 ->\n",
      "           [25, 8, 22, 20]\n",
      "           rank: 4.2 sec, train_data: 6.1 sec, train: 0.7 sec, total: 13.2 sec\n",
      "           Train F1: 0.817 0.170, Test F1: 1.000\n",
      "[5, 28, 7] #18 ->\n",
      "           [5, 1, 7]\n",
      "           rank: 4.2 sec, train_data: 5.9 sec, train: 0.7 sec, total: 12.9 sec\n",
      "           Train F1: 0.792 0.189, Test F1: 0.667\n",
      "[5, 6, 20, 23, 24] #19 ->\n",
      "           [5, 21, 23, 20, 24]\n",
      "           rank: 4.1 sec, train_data: 5.9 sec, train: 0.6 sec, total: 12.7 sec\n",
      "           Train F1: 0.826 0.178, Test F1: 0.800\n",
      "[20, 6, 8] #20 ->\n",
      "           [20, 10, 8]\n",
      "           rank: 4.3 sec, train_data: 6.0 sec, train: 0.7 sec, total: 13.2 sec\n",
      "           Train F1: 0.807 0.171, Test F1: 0.667\n",
      "[8, 21, 23, 22, 10] #21 ->\n",
      "           [8, 8, 1, 22, 10]\n",
      "           rank: 4.1 sec, train_data: 5.8 sec, train: 0.6 sec, total: 12.6 sec\n",
      "           Train F1: 0.806 0.184, Test F1: 0.600\n",
      "[20, 8, 6] #22 ->\n",
      "           [20, 22, 6]\n",
      "           rank: 4.1 sec, train_data: 6.0 sec, train: 0.6 sec, total: 12.8 sec\n",
      "           Train F1: 0.825 0.181, Test F1: 0.667\n",
      "[24, 15, 21] #23 ->\n",
      "           [24, 7, 21]\n",
      "           rank: 4.4 sec, train_data: 5.9 sec, train: 0.7 sec, total: 13.1 sec\n",
      "           Train F1: 0.783 0.190, Test F1: 0.667\n",
      "[20, 24, 5] #24 ->\n",
      "           [20, 22, 5]\n",
      "           rank: 4.4 sec, train_data: 6.2 sec, train: 0.7 sec, total: 13.4 sec\n",
      "           Train F1: 0.787 0.171, Test F1: 0.667\n",
      "[5, 2, 1] #25 ->\n",
      "           [5, 1, 1]\n",
      "           rank: 4.1 sec, train_data: 6.0 sec, train: 0.7 sec, total: 12.9 sec\n",
      "           Train F1: 0.795 0.177, Test F1: 0.667\n",
      "[1, 2, 20] #26 ->\n",
      "           [1, 1, 20]\n",
      "           rank: 4.1 sec, train_data: 5.9 sec, train: 0.9 sec, total: 13.0 sec\n",
      "           Train F1: 0.803 0.170, Test F1: 0.667\n",
      "[20, 24, 22, 3, 10, 15] #27 ->\n",
      "           [20, 21, 23, 20, 23, 15]\n",
      "           rank: 4.1 sec, train_data: 5.8 sec, train: 0.6 sec, total: 12.5 sec\n",
      "           Train F1: 0.811 0.174, Test F1: 0.333\n",
      "[18, 22, 6] #28 ->\n",
      "           [18, 20, 6]\n",
      "           rank: 4.2 sec, train_data: 5.9 sec, train: 0.7 sec, total: 12.8 sec\n",
      "           Train F1: 0.778 0.180, Test F1: 0.667\n",
      "[5, 20, 6] #29 ->\n",
      "           [5, 2, 6]\n",
      "           rank: 4.2 sec, train_data: 5.9 sec, train: 0.7 sec, total: 12.8 sec\n",
      "           Train F1: 0.829 0.170, Test F1: 0.667\n",
      "[22, 8, 21] #30 ->\n",
      "           [22, 21, 21]\n",
      "           rank: 4.1 sec, train_data: 6.0 sec, train: 0.8 sec, total: 13.0 sec\n",
      "           Train F1: 0.786 0.161, Test F1: 0.667\n",
      "[28, 21, 20] #31 ->\n",
      "           [28, 6, 20]\n",
      "           rank: 4.4 sec, train_data: 6.0 sec, train: 0.7 sec, total: 13.2 sec\n",
      "           Train F1: 0.804 0.187, Test F1: 0.667\n",
      "[20, 21, 15, 22, 3] #32 ->\n",
      "           [20, 22, 3, 10, 3]\n",
      "           rank: 4.4 sec, train_data: 6.1 sec, train: 0.7 sec, total: 13.3 sec\n",
      "           Train F1: 0.811 0.180, Test F1: 0.600\n",
      "[8, 2, 1] #33 ->\n",
      "           [8, 1, 1]\n",
      "           rank: 4.1 sec, train_data: 5.8 sec, train: 1.0 sec, total: 13.0 sec\n",
      "           Train F1: 0.781 0.174, Test F1: 0.667\n",
      "[6, 20, 21] #34 ->\n",
      "           [6, 20, 21]\n",
      "           rank: 4.1 sec, train_data: 5.8 sec, train: 0.7 sec, total: 12.7 sec\n",
      "           Train F1: 0.801 0.180, Test F1: 1.000\n",
      "[1, 2, 28] #35 ->\n",
      "           [1, 2, 28]\n",
      "           rank: 4.2 sec, train_data: 6.1 sec, train: 0.7 sec, total: 13.0 sec\n",
      "           Train F1: 0.801 0.182, Test F1: 1.000\n",
      "[5, 28, 21] #36 ->\n",
      "           [5, 20, 21]\n",
      "           rank: 4.4 sec, train_data: 5.8 sec, train: 0.6 sec, total: 13.0 sec\n",
      "           Train F1: 0.813 0.175, Test F1: 0.667\n",
      "[21, 23, 20] #37 ->\n",
      "           [21, 22, 20]\n",
      "           rank: 4.2 sec, train_data: 5.8 sec, train: 0.6 sec, total: 12.7 sec\n",
      "           Train F1: 0.803 0.186, Test F1: 0.667\n",
      "[22, 6, 5] #38 ->\n",
      "           [22, 8, 5]\n",
      "           rank: 4.3 sec, train_data: 5.8 sec, train: 0.7 sec, total: 12.8 sec\n",
      "           Train F1: 0.798 0.179, Test F1: 0.667\n",
      "[15, 10, 8] #39 ->\n",
      "           [15, 17, 8]\n",
      "           rank: 4.3 sec, train_data: 5.9 sec, train: 0.6 sec, total: 12.9 sec\n",
      "           Train F1: 0.805 0.176, Test F1: 0.667\n",
      "[20, 22, 2] #40 ->\n",
      "           [20, 2, 2]\n",
      "           rank: 4.3 sec, train_data: 5.9 sec, train: 0.7 sec, total: 13.0 sec\n",
      "           Train F1: 0.795 0.182, Test F1: 0.667\n",
      "[5, 8, 15, 22] #41 ->\n",
      "           [5, 15, 22, 22]\n",
      "           rank: 4.1 sec, train_data: 5.8 sec, train: 0.7 sec, total: 12.7 sec\n",
      "           Train F1: 0.807 0.182, Test F1: 0.750\n",
      "[8, 15, 22, 6] #42 ->\n",
      "           [8, 8, 1, 6]\n",
      "           rank: 4.4 sec, train_data: 5.8 sec, train: 0.7 sec, total: 13.0 sec\n",
      "           Train F1: 0.796 0.172, Test F1: 0.500\n"
     ]
    }
   ],
   "source": [
    "if run_crf == True:\n",
    "    recdict_crf = dict()\n",
    "    cost = 1000\n",
    "    cnt = 1\n",
    "    for i in range(len(trajid_set_all)):\n",
    "        t0 = time.time()\n",
    "        tid = trajid_set_all[i]\n",
    "        te = extract_traj(tid, traj_all)\n",
    "        \n",
    "        # trajectory too short\n",
    "        if len(te) < 3: continue\n",
    "            \n",
    "        # TSP, generally an ILP very hard for solvers (GUROBI/CBC)\n",
    "        if te[0] == te[-1]: continue\n",
    "\n",
    "        if uspecific == True:\n",
    "            user = traj_user.loc[tid, 'userID']\n",
    "            trajid_set_user = traj_user[traj_user['userID'] == user].index.tolist()\n",
    "            trajid_set_other = traj_user[traj_user['userID'] != user].index.tolist()\n",
    "            assert(tid in trajid_set_user)\n",
    "            trajid_set_add = [x for x in trajid_set_user if x != tid]\n",
    "            trajid_list_train = trajid_set_other.copy()\n",
    "            assert(KX > 0)\n",
    "            for k in range(KX):\n",
    "                trajid_list_train = trajid_list_train + trajid_set_add\n",
    "        else:\n",
    "            trajid_list_train = trajid_set_all[:i] + trajid_set_all[i+1:]\n",
    "        \n",
    "        poi_info = calc_poi_info(trajid_list_train, traj_all, poi_all)\n",
    "        \n",
    "        # trajectory too long\n",
    "        if len(te) > poi_info.shape[0]: continue\n",
    "            \n",
    "        # start/end is not in training set\n",
    "        if not (te[0] in poi_info.index and te[-1] in poi_info.index): continue\n",
    "            \n",
    "        # training set should contain all POIs\n",
    "        goodTrainset = True\n",
    "        for poi in te[1:-1]:\n",
    "            assert(poi in poi_cnt_dict)\n",
    "            if poi_cnt_dict[poi] == 1:  # POI exists in test set only\n",
    "                goodTrainset = False\n",
    "                break\n",
    "        if goodTrainset == False: continue\n",
    "        \n",
    "        print(te, '#%d ->' % cnt); cnt += 1; sys.stdout.flush()\n",
    "        \n",
    "        t1 = time.time()\n",
    "        \n",
    "        # POI feature based ranking\n",
    "        n_jobs = 4\n",
    "        train_df = gen_train_df(trajid_list_train, df_columns, traj_all, poi_info, poi_distmat, query_id_dict, n_jobs)\n",
    "        ranksvm = RankSVM(ranksvm_dir, useLinear=True)\n",
    "        ranksvm.train(train_df, cost=cost)\n",
    "        \n",
    "        t2 = time.time()\n",
    "            \n",
    "        # generate training data\n",
    "        X_train = []\n",
    "        y_train = []\n",
    "        train_set = sorted(set(traj_dict.keys()) - {tid})\n",
    "        train_df_list = Parallel(n_jobs=n_jobs)(delayed(gen_test_df)\\\n",
    "                                 (traj_dict[x][0], traj_dict[x][-1], len(traj_dict[x]), \\\n",
    "                                  df_columns, poi_info, poi_distmat, query_id_dict) for x in train_set)\n",
    "        assert(len(train_set) == len(train_df_list))\n",
    "        for j in range(len(train_set)):\n",
    "            tr = traj_dict[train_set[j]]\n",
    "            assert(len(tr) >= 3)\n",
    "            tr_df = train_df_list[j]\n",
    "            tr_rank_df = ranksvm.predict(tr_df)\n",
    "            tr_rank_df.set_index('poiID', inplace=True)\n",
    "            # (traj_length - 2) x (total number of POIs in trajectories with length >= 3)\n",
    "            featuremat = np.tile(softmax(tr_rank_df.loc[poi_ix, 'rank']), (len(tr)-2, 1)) # without start and end\n",
    "            X_train.append(featuremat)\n",
    "            y_train.append(np.array([poi_id_dict[x] for x in tr[1:-1]]))\n",
    "        \n",
    "        t3 = time.time()        \n",
    "                \n",
    "        # train\n",
    "        #crf = ChainCRF(directed=True)\n",
    "        crf = ChainCRF()\n",
    "        #maxIter = 10000  # default max_iter is 10000\n",
    "        #ssvm = OneSlackSSVM(model=crf, C=C, max_iter=maxIter, n_jobs=4)\n",
    "        ssvm = OneSlackSSVM(model=crf, C=C)\n",
    "        ssvm.fit(X_train, y_train)\n",
    "        \n",
    "        t4 = time.time()\n",
    "        \n",
    "        # generate test data\n",
    "        X_test = []\n",
    "        te_df = gen_test_df(te[0], te[-1], len(te), df_columns, poi_info, poi_distmat, query_id_dict)\n",
    "        te_rank_df = ranksvm.predict(te_df)\n",
    "        te_rank_df.set_index('poiID', inplace=True)\n",
    "        featuremat = np.tile(softmax(te_rank_df.loc[poi_ix, 'rank']), (len(te)-2, 1))\n",
    "        #startfv = np.zeros(len(poi_ix), dtype=np.float); startfv[poi_id_dict[te[0]]] = 1\n",
    "        #endfv = np.zeros(len(poi_ix), dtype=np.float); startfv[poi_id_dict[te[-1]]] = 1                 \n",
    "        #X_test.append(np.vstack([startfv, featuremat, endfv]))\n",
    "        X_test.append(featuremat)\n",
    "        \n",
    "        # test\n",
    "        y_pred = ssvm.predict(X_test)\n",
    "        rec = [te[0]] + [poi_id_rdict[x] for x in y_pred[0]] + [te[-1]]  # map POIs back\n",
    "        F1_test.append(calc_F1(te, rec, noloop=True))\n",
    "        \n",
    "        # test on training set\n",
    "        y_pred_train = ssvm.predict(X_train)\n",
    "        F1_train = []\n",
    "        assert(len(train_set) == len(y_pred_train))\n",
    "        for j in range(len(train_set)):\n",
    "            tr = traj_dict[train_set[j]]\n",
    "            F1_train.append(calc_F1(tr, [tr[0]] + [poi_id_rdict[x] for x in y_pred_train[j]] + [tr[-1]], noloop=True))\n",
    "        F1_train_list.append(F1_train)\n",
    "        \n",
    "        key = trajid_set_all[i]\n",
    "        recdict_crf[key] = {'REAL':te, 'REC_CRF':rec} \n",
    "        \n",
    "        t5 = time.time()\n",
    "        \n",
    "        print(' '*10, rec)\n",
    "        print(' '*10, 'rank: %.1f sec, train_data: %.1f sec, train: %.1f sec, total: %.1f sec'%(t2-t1,t3-t2,t4-t3,t5-t0))\n",
    "        print(' '*10, 'Train F1: %.3f %.3f, Test F1: %.3f' % (np.mean(F1_train), np.std(F1_train), F1_test[-1]))"
   ]
  },
  {
   "cell_type": "code",
   "execution_count": 48,
   "metadata": {
    "collapsed": true
   },
   "outputs": [],
   "source": [
    "if run_crf == True:\n",
    "    pickle.dump(recdict_crf, open(frecdict_crf, 'bw'))"
   ]
  },
  {
   "cell_type": "code",
   "execution_count": 49,
   "metadata": {
    "collapsed": false
   },
   "outputs": [
    {
     "name": "stdout",
     "output_type": "stream",
     "text": [
      "C = 2.0,  Osak\n"
     ]
    }
   ],
   "source": [
    "print('C = %.1f,' % C, suffix[dat_ix])"
   ]
  },
  {
   "cell_type": "code",
   "execution_count": 50,
   "metadata": {
    "collapsed": false
   },
   "outputs": [
    {
     "name": "stdout",
     "output_type": "stream",
     "text": [
      "Train: 0.803, 0.178\n"
     ]
    }
   ],
   "source": [
    "print('Train: %.3f, %.3f' % (np.mean([x for y in F1_train_list for x in y]), \\\n",
    "                             np.std([x for y in F1_train_list for x in y])))"
   ]
  },
  {
   "cell_type": "code",
   "execution_count": 51,
   "metadata": {
    "collapsed": false
   },
   "outputs": [
    {
     "name": "stdout",
     "output_type": "stream",
     "text": [
      "Test: 0.708, 0.155\n"
     ]
    }
   ],
   "source": [
    "print('Test: %.3f, %.3f' % (np.mean(F1_test), np.std(F1_test)))"
   ]
  },
  {
   "cell_type": "code",
   "execution_count": 52,
   "metadata": {
    "collapsed": true
   },
   "outputs": [],
   "source": [
    "F1 = [calc_F1(recdict_crf[key]['REAL'], recdict_crf[key]['REC_CRF'], noloop=True) for key in sorted(recdict_crf.keys())]"
   ]
  },
  {
   "cell_type": "code",
   "execution_count": 53,
   "metadata": {
    "collapsed": false
   },
   "outputs": [
    {
     "name": "stdout",
     "output_type": "stream",
     "text": [
      "0.70753968254 0.155464927438\n"
     ]
    }
   ],
   "source": [
    "print(np.mean(F1), np.std(F1))"
   ]
  },
  {
   "cell_type": "code",
   "execution_count": 54,
   "metadata": {
    "collapsed": false,
    "scrolled": true
   },
   "outputs": [],
   "source": [
    "#recdict_crf0 = pickle.load(open(os.path.join(data_dir, 'crf-noloop-all-agnostic-Glas.0.pkl'), 'rb'))\n",
    "#assert(len(recdict_crf0) == len(recdict_crf))\n",
    "#for key in sorted(recdict_crf.keys()):\n",
    "#    assert(key in recdict_crf0)\n",
    "#    if np.all(np.array(recdict_crf[key]['REAL']) != np.array(recdict_crf0[key]['REAL'])):\n",
    "#        print('REAL:', recdict_crf[key]['REAL'], recdict_crf0[key]['REAL'])\n",
    "#    if np.all(np.array(recdict_crf[key]['REC_CRF']) != np.array(recdict_crf0[key]['REC_CRF'])):\n",
    "#        print('REC:', recdict_crf[key]['REAL'], '->', recdict_crf[key]['REC_CRF'])\n",
    "#        print('REC0:', recdict_crf0[key]['REAL'], '->', recdict_crf0[key]['REC_CRF'])"
   ]
  },
  {
   "cell_type": "markdown",
   "metadata": {},
   "source": [
    "<a id='sec3.3'></a>"
   ]
  },
  {
   "cell_type": "markdown",
   "metadata": {},
   "source": [
    "## 3.3 Discrepancy between Different BLAS Libraries"
   ]
  },
  {
   "cell_type": "markdown",
   "metadata": {},
   "source": [
    "As Intel Math Kernel Library (MKL) is now [freely available in Anaconda](#https://docs.continuum.io/mkl-optimizations/index), I tried [CVXOPT v1.1.8](#http://cvxopt.org/) (used by [PyStruct v0.2.4](#https://pystruct.github.io/)) with both MKL and [OpenBLAS](#http://www.openblas.net/) and got some interesting findings.\n",
    "\n",
    "The MKL version is 11.3.1 distributed by Anaconda, OpenBLAS version are 0.2.15 and 0.2.17."
   ]
  },
  {
   "cell_type": "markdown",
   "metadata": {},
   "source": [
    "Training/test mean F1-scores on Osaka dataset of trajectories without loops ($42$ trajectories in total).  \n",
    "During the $6$ repeated runs (i.e., repeat the whole round of leave-one-out $6$ times), parameter $C$ of the [OneSlackSSVM](https://pystruct.github.io/generated/pystruct.learners.OneSlackSSVM.html) was set to $2$, and default values were used for all other parameters."
   ]
  },
  {
   "cell_type": "markdown",
   "metadata": {},
   "source": [
    "**MKL v11.3.1** (latest release from Anaconda)\n",
    "\n",
    "On server `braun`."
   ]
  },
  {
   "cell_type": "code",
   "execution_count": 93,
   "metadata": {
    "collapsed": true
   },
   "outputs": [],
   "source": [
    "train_F1_mkl = [0.799, 0.802, 0.803, 0.804, 0.804, 0.803]\n",
    "test_F1_mkl = [0.705, 0.707, 0.697, 0.713, 0.700, 0.699]"
   ]
  },
  {
   "cell_type": "markdown",
   "metadata": {},
   "source": [
    "On machine `localPC`."
   ]
  },
  {
   "cell_type": "code",
   "execution_count": 94,
   "metadata": {
    "collapsed": true
   },
   "outputs": [],
   "source": [
    "train_F1_mkll = [0.803, 0.803, 0.803, 0.803, 0.803, 0.803]\n",
    "test_F1_mkll = [0.708, 0.708, 0.708, 0.708, 0.708, 0.708]"
   ]
  },
  {
   "cell_type": "markdown",
   "metadata": {},
   "source": [
    "**OpenBLAS v0.2.15**  (default version of OpenBLAS on Debian 9)\n",
    "\n",
    "On server `braun`."
   ]
  },
  {
   "cell_type": "code",
   "execution_count": 95,
   "metadata": {
    "collapsed": true
   },
   "outputs": [],
   "source": [
    "train_F1_openblas5 = [0.806, 0.806, 0.806, 0.806, 0.806, 0.806]\n",
    "test_F1_openblas5 = [0.711, 0.711, 0.711, 0.711, 0.711, 0.711]"
   ]
  },
  {
   "cell_type": "markdown",
   "metadata": {},
   "source": [
    "On machine `localPC`."
   ]
  },
  {
   "cell_type": "code",
   "execution_count": 96,
   "metadata": {
    "collapsed": true
   },
   "outputs": [],
   "source": [
    "train_F1_openblas5l = [0.802, 0.802, 0.802, 0.802, 0.802, 0.802]\n",
    "test_F1_openblas5l = [0.728, 0.728, 0.728, 0.728, 0.728, 0.728]"
   ]
  },
  {
   "cell_type": "markdown",
   "metadata": {},
   "source": [
    "**OpenBLAS v0.2.17** (latest release of OpenBLAS)\n",
    "\n",
    "On server `braun`."
   ]
  },
  {
   "cell_type": "code",
   "execution_count": 97,
   "metadata": {
    "collapsed": true
   },
   "outputs": [],
   "source": [
    "train_F1_openblas7 = [0.806, 0.806, 0.806, 0.806, 0.806, 0.806]\n",
    "test_F1_openblas7 = [0.711, 0.711, 0.711, 0.711, 0.711, 0.711]"
   ]
  },
  {
   "cell_type": "markdown",
   "metadata": {},
   "source": [
    "On machine `localPC`."
   ]
  },
  {
   "cell_type": "code",
   "execution_count": 98,
   "metadata": {
    "collapsed": true
   },
   "outputs": [],
   "source": [
    "train_F1_openblas7l = [0.804, 0.804, 0.804, 0.804, 0.804, 0.804]\n",
    "test_F1_openblas7l = [0.700, 0.700, 0.700, 0.700, 0.700, 0.700]"
   ]
  },
  {
   "cell_type": "code",
   "execution_count": 105,
   "metadata": {
    "collapsed": false
   },
   "outputs": [
    {
     "data": {
      "text/plain": [
       "<matplotlib.legend.Legend at 0x7f1aefa9def0>"
      ]
     },
     "execution_count": 105,
     "metadata": {},
     "output_type": "execute_result"
    },
    {
     "data": {
      "image/png": "[encoded data removed]",
      "text/plain": [
       "<matplotlib.figure.Figure at 0x7f1aefc34208>"
      ]
     },
     "metadata": {},
     "output_type": "display_data"
    }
   ],
   "source": [
    "plt.figure(figsize=[14, 10])\n",
    "plt.subplot(2, 2, 1)\n",
    "plt.title('Training F1, Machine: braun')\n",
    "plt.plot(np.arange(1, len(train_F1_mkl)+1), train_F1_mkl, marker='o', ls='--', label='MKL-11.3.1')\n",
    "plt.plot(np.arange(1, len(train_F1_openblas5)+1), train_F1_openblas5, marker='s', ls='--', label='OpenBLAS-0.2.15')\n",
    "plt.plot(np.arange(1, len(train_F1_openblas7)+1), train_F1_openblas7, marker='^', ls='--', label='OpenBLAS-0.2.17')\n",
    "plt.xlim([0.5, 6.5])\n",
    "plt.ylim([0.795, 0.81])\n",
    "plt.ylabel('Mean F1')\n",
    "plt.legend(loc='best')\n",
    "\n",
    "plt.subplot(2, 2, 2)\n",
    "plt.title('Test F1, Machine: braun')\n",
    "plt.plot(np.arange(1, len(test_F1_mkl)+1), test_F1_mkl, marker='o', ls='--', label='MKL-11.3.1')\n",
    "plt.plot(np.arange(1, len(test_F1_openblas5)+1), test_F1_openblas5, marker='s', ls='--', label='OpenBLAS-0.2.15')\n",
    "plt.plot(np.arange(1, len(test_F1_openblas7)+1), test_F1_openblas7, marker='^', ls='--', label='OpenBLAS-0.2.17')\n",
    "plt.xlim([0.5, 6.5])\n",
    "plt.ylim([0.69, 0.73])\n",
    "plt.legend(loc='best')\n",
    "\n",
    "plt.subplot(2, 2, 3)\n",
    "plt.title('Training F1, Machine: localPC')\n",
    "plt.plot(np.arange(1, len(train_F1_mkll)+1), train_F1_mkll, marker='o', ls='--', label='MKL-11.3.1')\n",
    "plt.plot(np.arange(1, len(train_F1_openblas5l)+1), train_F1_openblas5l, marker='s', ls='--', label='OpenBLAS-0.2.15')\n",
    "plt.plot(np.arange(1, len(train_F1_openblas7l)+1), train_F1_openblas7l, marker='^', ls='--', label='OpenBLAS-0.2.17')\n",
    "plt.xlim([0.5, 6.5])\n",
    "plt.ylim([0.795, 0.81])\n",
    "plt.xlabel('#Runs')\n",
    "plt.ylabel('Mean F1')\n",
    "plt.legend(loc='best')\n",
    "\n",
    "plt.subplot(2, 2, 4)\n",
    "plt.title('Test F1, Machine: localPC')\n",
    "plt.plot(np.arange(1, len(test_F1_mkll)+1), test_F1_mkll, marker='o', ls='--', label='MKL-11.3.1')\n",
    "plt.plot(np.arange(1, len(test_F1_openblas5l)+1), test_F1_openblas5l, marker='s', ls='--', label='OpenBLAS-0.2.15')\n",
    "plt.plot(np.arange(1, len(test_F1_openblas7l)+1), test_F1_openblas7l, marker='^', ls='--', label='OpenBLAS-0.2.17')\n",
    "plt.xlim([0.5, 6.5])\n",
    "plt.ylim([0.69, 0.73])\n",
    "plt.xlabel('#Runs')\n",
    "plt.legend(loc='best')"
   ]
  },
  {
   "cell_type": "markdown",
   "metadata": {},
   "source": [
    "<a id='sec3.4'></a>"
   ]
  },
  {
   "cell_type": "markdown",
   "metadata": {},
   "source": [
    "## 3.4 Hyperparameter Tuning"
   ]
  },
  {
   "cell_type": "markdown",
   "metadata": {},
   "source": [
    "Tuning the regularization parameter $C$ in [OneSlackSSVM](https://pystruct.github.io/generated/pystruct.learners.OneSlackSSVM.html).\n",
    "\n",
    "NOTE: Suppose there were $N$ trajectories in total, training F1 was the mean of all F1-scores during all iterations of leave-one-out, i.e., $(N-1)*N$ F1-scores. Test F1 was the mean of all F1-score during all iterations of leave-one-out, i.e., $N$ F1-scores."
   ]
  },
  {
   "cell_type": "markdown",
   "metadata": {},
   "source": [
    "Datasets of trajectories without loops, based on running results on `localPC` with OpenBLAS v0.2.15.\n",
    "\n",
    "<table>\n",
    "<tr><td rowspan='2'><b>C</b></td><td colspan='2'><b>Edinburgh</b></td><td colspan='2'><b>Glasgow</b></td>\n",
    "                                 <td colspan='2'><b>Osaka</b></td><td colspan='2'><b>Toronto</b></td></tr>\n",
    "<tr><td><b>Train_F1</b></td><td><b>Test_F1</b></td><td><b>Train_F1</b></td><td><b>Test_F1</b></td>\n",
    "    <td><b>Train_F1</b></td><td><b>Test_F1</b></td><td><b>Train_F1</b></td><td><b>Test_F1</b></td></tr>\n",
    "<tr><td>0.1</td><td> </td><td> </td><td>0.732</td><td>0.708</td><td>0.720</td><td>0.646</td><td> </td><td> </td></tr>\n",
    "<tr><td>0.3</td><td> </td><td> </td><td>0.756</td><td>0.704</td><td>0.752</td><td>0.687</td><td> </td><td> </td></tr>\n",
    "<tr><td>1.0</td><td> </td><td> </td><td>0.776</td><td>0.740</td><td>0.787</td><td>0.705</td><td> </td><td> </td></tr>\n",
    "<tr><td>2.0</td><td> </td><td> </td><td>0.781</td><td>0.730</td><td>0.802</td><td>0.728</td><td> </td><td> </td></tr>\n",
    "<tr><td>3.0</td><td> </td><td> </td><td>0.793</td><td>0.732</td><td>0.807</td><td>0.698</td><td> </td><td> </td></tr>\n",
    "<tr><td>10 </td><td> </td><td> </td><td> </td><td> </td><td>0.818</td><td>0.683</td><td> </td><td> </td></tr>\n",
    "<tr><td>30 </td><td> </td><td> </td><td> </td><td> </td><td>0.827</td><td>0.695</td><td> </td><td> </td></tr>\n",
    "<tr><td>100</td><td> </td><td> </td><td> </td><td> </td><td>0.838</td><td>0.690</td><td> </td><td> </td></tr>\n",
    "<tr><td>300</td><td> </td><td> </td><td> </td><td> </td><td>0.841</td><td>0.690</td><td> </td><td> </td></tr>\n",
    "<tr><td>1000</td><td> </td><td> </td><td> </td><td> </td><td> </td><td> </td><td> </td><td> </td></tr>\n",
    "</table>"
   ]
  }
 ],
 "metadata": {
  "kernelspec": {
   "display_name": "Python 3",
   "language": "python",
   "name": "python3"
  },
  "language_info": {
   "codemirror_mode": {
    "name": "ipython",
    "version": 3
   },
   "file_extension": ".py",
   "mimetype": "text/x-python",
   "name": "python",
   "nbconvert_exporter": "python",
   "pygments_lexer": "ipython3",
   "version": "3.5.1"
  }
 },
 "nbformat": 4,
 "nbformat_minor": 0
}
