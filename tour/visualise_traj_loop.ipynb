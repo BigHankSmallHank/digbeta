{
 "cells": [
  {
   "cell_type": "markdown",
   "metadata": {
    "collapsed": true
   },
   "source": [
    "# Visualise Trajectories with Loops"
   ]
  },
  {
   "cell_type": "markdown",
   "metadata": {},
   "source": [
    "<a id='toc'></a>"
   ]
  },
  {
   "cell_type": "code",
   "execution_count": 1,
   "metadata": {
    "collapsed": false
   },
   "outputs": [],
   "source": [
    "% matplotlib inline\n",
    "\n",
    "import os\n",
    "import pandas as pd\n",
    "import numpy as np\n",
    "import matplotlib.pyplot as plt\n",
    "from datetime import datetime\n",
    "from fastkml import kml, styles\n",
    "from shapely.geometry import Point, LineString"
   ]
  },
  {
   "cell_type": "code",
   "execution_count": 2,
   "metadata": {
    "collapsed": true
   },
   "outputs": [],
   "source": [
    "dir_ijcai = 'data/data-ijcai15'\n",
    "dir_recsys = 'data/data-recsys16'"
   ]
  },
  {
   "cell_type": "code",
   "execution_count": 3,
   "metadata": {
    "collapsed": false
   },
   "outputs": [],
   "source": [
    "#fvisit = os.path.join(dir_ijcai, 'userVisits-Osak.csv')\n",
    "#fcoord = os.path.join(dir_ijcai, 'photoCoords-Osak.csv')\n",
    "#fvisit = os.path.join(dir_ijcai, 'userVisits-Glas.csv')\n",
    "#fcoord = os.path.join(dir_ijcai, 'photoCoords-Glas.csv')\n",
    "fvisit = os.path.join(dir_ijcai, 'userVisits-Edin.csv')\n",
    "fcoord = os.path.join(dir_ijcai, 'photoCoords-Edin.csv')\n",
    "#fvisit = os.path.join(dir_ijcai, 'userVisits-Toro.csv')\n",
    "#fcoord = os.path.join(dir_ijcai, 'photoCoords-Toro.csv')"
   ]
  },
  {
   "cell_type": "code",
   "execution_count": 4,
   "metadata": {
    "collapsed": true
   },
   "outputs": [],
   "source": [
    "suffix = fvisit.split('-')[-1].split('.')[0]"
   ]
  },
  {
   "cell_type": "code",
   "execution_count": 5,
   "metadata": {
    "collapsed": true
   },
   "outputs": [],
   "source": [
    "fpoi = os.path.join(dir_recsys, 'poi-' + suffix + '.csv')\n",
    "ftraj_all = os.path.join(dir_recsys, 'traj-all-' + suffix + '.csv')"
   ]
  },
  {
   "cell_type": "markdown",
   "metadata": {},
   "source": [
    "<a id='sec1'></a>"
   ]
  },
  {
   "cell_type": "markdown",
   "metadata": {},
   "source": [
    "## 1. Load Data"
   ]
  },
  {
   "cell_type": "markdown",
   "metadata": {},
   "source": [
    "Load user visit data and photo coordinates."
   ]
  },
  {
   "cell_type": "code",
   "execution_count": 6,
   "metadata": {
    "collapsed": false
   },
   "outputs": [],
   "source": [
    "visits = pd.read_csv(fvisit, sep=';')\n",
    "coords = pd.read_csv(fcoord, sep=';')\n",
    "assert(visits.shape[0] == coords.shape[0])\n",
    "visits = pd.merge(visits, coords, on='photoID') # merge data frames according to column 'photoID'"
   ]
  },
  {
   "cell_type": "code",
   "execution_count": 7,
   "metadata": {
    "collapsed": false
   },
   "outputs": [
    {
     "data": {
      "text/html": [
       "<div>\n",
       "<table border=\"1\" class=\"dataframe\">\n",
       "  <thead>\n",
       "    <tr style=\"text-align: right;\">\n",
       "      <th></th>\n",
       "      <th>photoID</th>\n",
       "      <th>userID</th>\n",
       "      <th>dateTaken</th>\n",
       "      <th>poiID</th>\n",
       "      <th>poiTheme</th>\n",
       "      <th>poiFreq</th>\n",
       "      <th>seqID</th>\n",
       "      <th>photoLon</th>\n",
       "      <th>photoLat</th>\n",
       "    </tr>\n",
       "  </thead>\n",
       "  <tbody>\n",
       "    <tr>\n",
       "      <th>0</th>\n",
       "      <td>7941504100</td>\n",
       "      <td>10007579@N00</td>\n",
       "      <td>1346844688</td>\n",
       "      <td>30</td>\n",
       "      <td>Structure</td>\n",
       "      <td>1538</td>\n",
       "      <td>1</td>\n",
       "      <td>-79.380844</td>\n",
       "      <td>43.645641</td>\n",
       "    </tr>\n",
       "    <tr>\n",
       "      <th>1</th>\n",
       "      <td>4886005532</td>\n",
       "      <td>10012675@N05</td>\n",
       "      <td>1142731848</td>\n",
       "      <td>6</td>\n",
       "      <td>Cultural</td>\n",
       "      <td>986</td>\n",
       "      <td>2</td>\n",
       "      <td>-79.391525</td>\n",
       "      <td>43.654335</td>\n",
       "    </tr>\n",
       "    <tr>\n",
       "      <th>2</th>\n",
       "      <td>4886006468</td>\n",
       "      <td>10012675@N05</td>\n",
       "      <td>1142732248</td>\n",
       "      <td>6</td>\n",
       "      <td>Cultural</td>\n",
       "      <td>986</td>\n",
       "      <td>2</td>\n",
       "      <td>-79.391525</td>\n",
       "      <td>43.654335</td>\n",
       "    </tr>\n",
       "    <tr>\n",
       "      <th>3</th>\n",
       "      <td>4885404441</td>\n",
       "      <td>10012675@N05</td>\n",
       "      <td>1142732373</td>\n",
       "      <td>6</td>\n",
       "      <td>Cultural</td>\n",
       "      <td>986</td>\n",
       "      <td>2</td>\n",
       "      <td>-79.391525</td>\n",
       "      <td>43.654335</td>\n",
       "    </tr>\n",
       "    <tr>\n",
       "      <th>4</th>\n",
       "      <td>4886008334</td>\n",
       "      <td>10012675@N05</td>\n",
       "      <td>1142732445</td>\n",
       "      <td>6</td>\n",
       "      <td>Cultural</td>\n",
       "      <td>986</td>\n",
       "      <td>2</td>\n",
       "      <td>-79.391525</td>\n",
       "      <td>43.654335</td>\n",
       "    </tr>\n",
       "  </tbody>\n",
       "</table>\n",
       "</div>"
      ],
      "text/plain": [
       "      photoID        userID   dateTaken  poiID   poiTheme  poiFreq  seqID  \\\n",
       "0  7941504100  10007579@N00  1346844688     30  Structure     1538      1   \n",
       "1  4886005532  10012675@N05  1142731848      6   Cultural      986      2   \n",
       "2  4886006468  10012675@N05  1142732248      6   Cultural      986      2   \n",
       "3  4885404441  10012675@N05  1142732373      6   Cultural      986      2   \n",
       "4  4886008334  10012675@N05  1142732445      6   Cultural      986      2   \n",
       "\n",
       "    photoLon   photoLat  \n",
       "0 -79.380844  43.645641  \n",
       "1 -79.391525  43.654335  \n",
       "2 -79.391525  43.654335  \n",
       "3 -79.391525  43.654335  \n",
       "4 -79.391525  43.654335  "
      ]
     },
     "execution_count": 7,
     "metadata": {},
     "output_type": "execute_result"
    }
   ],
   "source": [
    "visits.head()"
   ]
  },
  {
   "cell_type": "code",
   "execution_count": 8,
   "metadata": {
    "collapsed": false
   },
   "outputs": [
    {
     "data": {
      "text/html": [
       "<div>\n",
       "<table border=\"1\" class=\"dataframe\">\n",
       "  <thead>\n",
       "    <tr style=\"text-align: right;\">\n",
       "      <th></th>\n",
       "      <th>#photo</th>\n",
       "      <th>#photo/user</th>\n",
       "      <th>#poi</th>\n",
       "      <th>#traj</th>\n",
       "      <th>#traj/user</th>\n",
       "      <th>#user</th>\n",
       "    </tr>\n",
       "  </thead>\n",
       "  <tbody>\n",
       "    <tr>\n",
       "      <th>Toro</th>\n",
       "      <td>39419</td>\n",
       "      <td>28.257348</td>\n",
       "      <td>29</td>\n",
       "      <td>6057</td>\n",
       "      <td>4.341935</td>\n",
       "      <td>1395</td>\n",
       "    </tr>\n",
       "  </tbody>\n",
       "</table>\n",
       "</div>"
      ],
      "text/plain": [
       "      #photo  #photo/user  #poi  #traj  #traj/user  #user\n",
       "Toro   39419    28.257348    29   6057    4.341935   1395"
      ]
     },
     "execution_count": 8,
     "metadata": {},
     "output_type": "execute_result"
    }
   ],
   "source": [
    "num_photo = visits.shape[0]\n",
    "num_user = visits['userID'].unique().shape[0]\n",
    "num_poi = visits['poiID'].unique().shape[0]\n",
    "num_traj = visits['seqID'].unique().shape[0]\n",
    "pd.DataFrame({'#photo': num_photo, '#user': num_user, '#poi': num_poi, '#traj': num_traj, \\\n",
    "              '#photo/user': num_photo/num_user, '#traj/user': num_traj/num_user}, index=[str(suffix)])"
   ]
  },
  {
   "cell_type": "markdown",
   "metadata": {},
   "source": [
    "<a id='sec2'></a>"
   ]
  },
  {
   "cell_type": "markdown",
   "metadata": {},
   "source": [
    "## 2. Compute POI Information"
   ]
  },
  {
   "cell_type": "markdown",
   "metadata": {},
   "source": [
    "Compute POI (Longitude, Latitude) as the average coordinates of the assigned photos."
   ]
  },
  {
   "cell_type": "code",
   "execution_count": 9,
   "metadata": {
    "collapsed": true
   },
   "outputs": [],
   "source": [
    "poi_coords = visits[['poiID', 'photoLon', 'photoLat']].groupby('poiID').mean()\n",
    "poi_coords.reset_index(inplace=True)\n",
    "poi_coords.rename(columns={'photoLon':'poiLon', 'photoLat':'poiLat'}, inplace=True)"
   ]
  },
  {
   "cell_type": "markdown",
   "metadata": {},
   "source": [
    "Extract POI category."
   ]
  },
  {
   "cell_type": "code",
   "execution_count": 10,
   "metadata": {
    "collapsed": true
   },
   "outputs": [],
   "source": [
    "poi_cat = visits[['poiID', 'poiTheme']].groupby('poiID').first()\n",
    "poi_cat.reset_index(inplace=True)"
   ]
  },
  {
   "cell_type": "code",
   "execution_count": 11,
   "metadata": {
    "collapsed": false
   },
   "outputs": [],
   "source": [
    "poi_all = pd.merge(poi_cat, poi_coords, on='poiID')\n",
    "poi_all.set_index('poiID', inplace=True)\n",
    "poi_all.rename(columns={'poiTheme':'poiCat'}, inplace=True)"
   ]
  },
  {
   "cell_type": "code",
   "execution_count": 12,
   "metadata": {
    "collapsed": false
   },
   "outputs": [
    {
     "data": {
      "text/html": [
       "<div>\n",
       "<table border=\"1\" class=\"dataframe\">\n",
       "  <thead>\n",
       "    <tr style=\"text-align: right;\">\n",
       "      <th></th>\n",
       "      <th>poiCat</th>\n",
       "      <th>poiLon</th>\n",
       "      <th>poiLat</th>\n",
       "    </tr>\n",
       "    <tr>\n",
       "      <th>poiID</th>\n",
       "      <th></th>\n",
       "      <th></th>\n",
       "      <th></th>\n",
       "    </tr>\n",
       "  </thead>\n",
       "  <tbody>\n",
       "    <tr>\n",
       "      <th>1</th>\n",
       "      <td>Sport</td>\n",
       "      <td>-79.379243</td>\n",
       "      <td>43.643183</td>\n",
       "    </tr>\n",
       "    <tr>\n",
       "      <th>2</th>\n",
       "      <td>Sport</td>\n",
       "      <td>-79.418634</td>\n",
       "      <td>43.632772</td>\n",
       "    </tr>\n",
       "    <tr>\n",
       "      <th>3</th>\n",
       "      <td>Sport</td>\n",
       "      <td>-79.380045</td>\n",
       "      <td>43.662175</td>\n",
       "    </tr>\n",
       "    <tr>\n",
       "      <th>4</th>\n",
       "      <td>Sport</td>\n",
       "      <td>-79.389290</td>\n",
       "      <td>43.641297</td>\n",
       "    </tr>\n",
       "    <tr>\n",
       "      <th>6</th>\n",
       "      <td>Cultural</td>\n",
       "      <td>-79.392396</td>\n",
       "      <td>43.653662</td>\n",
       "    </tr>\n",
       "  </tbody>\n",
       "</table>\n",
       "</div>"
      ],
      "text/plain": [
       "         poiCat     poiLon     poiLat\n",
       "poiID                                \n",
       "1         Sport -79.379243  43.643183\n",
       "2         Sport -79.418634  43.632772\n",
       "3         Sport -79.380045  43.662175\n",
       "4         Sport -79.389290  43.641297\n",
       "6      Cultural -79.392396  43.653662"
      ]
     },
     "execution_count": 12,
     "metadata": {},
     "output_type": "execute_result"
    }
   ],
   "source": [
    "poi_all.head()"
   ]
  },
  {
   "cell_type": "markdown",
   "metadata": {},
   "source": [
    "Scatter plot of POI coordinates."
   ]
  },
  {
   "cell_type": "code",
   "execution_count": 13,
   "metadata": {
    "collapsed": false
   },
   "outputs": [
    {
     "data": {
      "text/plain": [
       "<matplotlib.collections.PathCollection at 0x7fef0d0c5898>"
      ]
     },
     "execution_count": 13,
     "metadata": {},
     "output_type": "execute_result"
    },
    {
     "data": {
      "image/png": "[encoded data removed]",
      "text/plain": [
       "<matplotlib.figure.Figure at 0x7fef0f152748>"
      ]
     },
     "metadata": {},
     "output_type": "display_data"
    }
   ],
   "source": [
    "height = 3\n",
    "ratio = (poi_all['poiLon'].max() - poi_all['poiLon'].min()) / (poi_all['poiLat'].max() - poi_all['poiLat'].min())\n",
    "plt.figure(figsize=[height * np.round(ratio), height])\n",
    "plt.scatter(poi_all['poiLon'], poi_all['poiLat'])"
   ]
  },
  {
   "cell_type": "markdown",
   "metadata": {},
   "source": [
    "<a id='sec3'></a>"
   ]
  },
  {
   "cell_type": "markdown",
   "metadata": {},
   "source": [
    "## 3. Visualise Trajectories with Loops"
   ]
  },
  {
   "cell_type": "markdown",
   "metadata": {},
   "source": [
    "Compute trajectories information including simple statistics such as length (#POIs), POI start time, POI endtime, etc."
   ]
  },
  {
   "cell_type": "code",
   "execution_count": 14,
   "metadata": {
    "collapsed": true
   },
   "outputs": [],
   "source": [
    "def calc_traj_df(seqid, visits):\n",
    "    \"\"\"Compute trajectories info, taking care of trajectories that contain sub-tours\"\"\"\n",
    "    traj_df = visits[visits['seqID'] == seqid].copy()\n",
    "    traj_df.sort_values(by='dateTaken', ascending=True, inplace=True)\n",
    "    df_ = pd.DataFrame(columns=['poiID', 'startTime', 'endTime', '#photo'])\n",
    "    assert(traj_df.shape[0] > 0)\n",
    "    ix = traj_df.index[0]\n",
    "    j = 0\n",
    "    df_.loc[j] = [traj_df.loc[ix, 'poiID'], traj_df.loc[ix, 'dateTaken'], traj_df.loc[ix, 'dateTaken'], 1]\n",
    "    for i in range(1, traj_df.shape[0]):\n",
    "        ix = traj_df.index[i]\n",
    "        if traj_df.loc[ix, 'poiID'] == df_.loc[j, 'poiID']:\n",
    "            df_.loc[j, 'endTime'] = traj_df.loc[ix, 'dateTaken']\n",
    "            df_.loc[j, '#photo'] += 1\n",
    "        else:\n",
    "            j += 1\n",
    "            df_.loc[j] = [traj_df.loc[ix, 'poiID'], traj_df.loc[ix, 'dateTaken'], traj_df.loc[ix, 'dateTaken'], 1]\n",
    "    df_['userID'] = traj_df.loc[traj_df.index[0], 'userID']\n",
    "    df_['trajID'] = seqid\n",
    "    df_['trajLen'] = df_.shape[0]\n",
    "    return df_"
   ]
  },
  {
   "cell_type": "markdown",
   "metadata": {},
   "source": [
    "Trajectories with loops/sub-tours."
   ]
  },
  {
   "cell_type": "code",
   "execution_count": 17,
   "metadata": {
    "collapsed": false,
    "scrolled": true
   },
   "outputs": [
    {
     "name": "stdout",
     "output_type": "stream",
     "text": [
      "67 : [28, 23, 22, 28]\n",
      "103 : [30, 7, 30]\n",
      "113 : [30, 7, 30]\n",
      "139 : [3, 23, 22, 30, 22]\n",
      "157 : [27, 23, 11, 27]\n",
      "171 : [28, 22, 28, 22]\n",
      "230 : [16, 8, 16]\n",
      "239 : [21, 23, 21]\n",
      "294 : [16, 8, 16, 30]\n",
      "298 : [22, 7, 23, 28, 1, 29, 30, 8, 29, 6, 28, 23, 30, 11, 24, 22, 29, 4, 16, 8, 30]\n",
      "315 : [16, 4, 16, 8, 16]\n",
      "316 : [21, 27, 11, 27, 11]\n",
      "384 : [22, 28, 22, 28, 22, 28]\n",
      "453 : [23, 28, 16, 28]\n",
      "454 : [16, 21, 23, 16, 8, 16, 8, 16, 8, 16, 28, 22, 28, 23, 27]\n",
      "514 : [16, 4, 16]\n",
      "524 : [25, 19, 15, 19]\n",
      "525 : [22, 8, 30, 7, 28, 22, 28, 23, 21, 30, 7, 8, 16, 21, 30, 21, 30, 21]\n",
      "533 : [16, 8, 16]\n",
      "544 : [7, 30, 8, 7]\n",
      "549 : [22, 1, 8, 21, 22, 28, 22]\n",
      "550 : [1, 21, 1]\n",
      "634 : [22, 28, 23, 28, 22]\n",
      "675 : [22, 6, 25, 6]\n",
      "681 : [23, 28, 16, 24, 4, 8, 30, 8, 16, 24]\n",
      "686 : [22, 30, 7, 1, 8, 16, 1, 21]\n",
      "687 : [7, 16, 4, 8, 4, 16]\n",
      "708 : [7, 23, 28, 23, 21, 30, 7]\n",
      "722 : [7, 22, 23, 22]\n",
      "729 : [23, 21, 22, 7, 28, 23]\n",
      "733 : [23, 21, 23, 21]\n",
      "741 : [21, 23, 21]\n",
      "758 : [30, 1, 30]\n",
      "782 : [7, 30, 7]\n",
      "786 : [7, 23, 21, 28, 7]\n",
      "799 : [7, 30, 7]\n",
      "800 : [30, 7, 30]\n",
      "807 : [30, 22, 7, 30]\n",
      "809 : [7, 30, 21, 23, 21, 23, 28, 7]\n",
      "814 : [30, 7, 28, 23, 30]\n",
      "815 : [30, 7, 30]\n",
      "824 : [21, 23, 21, 23, 21, 23, 21]\n",
      "852 : [1, 30, 7, 30, 1]\n",
      "862 : [7, 21, 7]\n",
      "879 : [7, 23, 7, 21, 23]\n",
      "883 : [21, 23, 30, 21, 30]\n",
      "903 : [21, 23, 21, 23, 21]\n",
      "905 : [7, 23, 28, 30, 23, 21, 23, 28, 22, 23, 7, 30, 11]\n",
      "917 : [21, 23, 21]\n",
      "920 : [30, 7, 30, 21]\n",
      "944 : [23, 21, 23, 21, 23]\n",
      "964 : [21, 23, 21]\n",
      "972 : [7, 30, 7]\n",
      "978 : [25, 23, 25]\n",
      "979 : [7, 22, 23, 29, 7]\n",
      "985 : [21, 23, 21]\n",
      "987 : [7, 21, 7]\n",
      "1030 : [7, 23, 7]\n",
      "1066 : [16, 8, 16, 30, 7]\n",
      "1070 : [4, 16, 4]\n",
      "1078 : [7, 8, 7, 16, 8]\n",
      "1095 : [21, 28, 21]\n",
      "1184 : [4, 16, 4]\n",
      "1237 : [30, 24, 25, 11, 30]\n",
      "1267 : [30, 7, 30]\n",
      "1270 : [21, 23, 30, 28, 21]\n",
      "1275 : [8, 16, 4, 16]\n",
      "1278 : [16, 8, 16]\n",
      "1281 : [23, 7, 30, 16, 8, 4, 16, 8, 16]\n",
      "1524 : [29, 30, 16, 29, 16, 29]\n",
      "1525 : [6, 25, 6, 23]\n",
      "1592 : [21, 23, 22, 28, 23]\n",
      "1598 : [28, 7, 30, 28, 22, 27]\n",
      "1622 : [22, 28, 22, 28, 22]\n",
      "1726 : [28, 7, 27, 7]\n",
      "1877 : [23, 21, 23, 22, 23, 22]\n",
      "1912 : [8, 16, 4, 1, 29, 16]\n",
      "1925 : [14, 17, 14, 17]\n",
      "1931 : [21, 23, 22, 23, 21]\n",
      "1932 : [30, 7, 30]\n",
      "1933 : [2, 17, 14, 17]\n",
      "1936 : [17, 14, 17]\n",
      "1968 : [7, 30, 22, 21, 23, 7, 30]\n",
      "1993 : [30, 22, 28, 29, 30, 16]\n",
      "2014 : [17, 14, 17]\n",
      "2017 : [28, 23, 28]\n",
      "2060 : [22, 25, 22]\n",
      "2069 : [6, 21, 23, 28, 22, 28]\n",
      "2073 : [29, 11, 29]\n",
      "2077 : [16, 8, 16]\n",
      "2117 : [27, 11, 27, 11, 27]\n",
      "2158 : [30, 7, 30, 16, 4, 16]\n",
      "2263 : [28, 22, 28]\n",
      "2275 : [16, 30, 16, 22, 6]\n",
      "2338 : [1, 30, 7, 30]\n",
      "2345 : [4, 16, 4]\n",
      "2349 : [23, 28, 23, 21]\n",
      "2362 : [27, 11, 27]\n",
      "2431 : [22, 25, 22, 6]\n",
      "2471 : [22, 28, 22, 21]\n",
      "2586 : [8, 16, 8]\n",
      "2592 : [23, 28, 21, 28]\n",
      "2669 : [22, 28, 22]\n",
      "2795 : [7, 21, 23, 21]\n",
      "2896 : [16, 4, 30, 16, 21]\n",
      "2916 : [21, 7, 30, 16, 4, 16]\n",
      "2986 : [16, 11, 16]\n",
      "3038 : [3, 21, 3]\n",
      "3052 : [22, 4, 16, 4, 24, 16, 7, 6, 30]\n",
      "3079 : [4, 16, 4, 16, 4]\n",
      "3131 : [21, 23, 21]\n",
      "3155 : [8, 4, 8, 16]\n",
      "3400 : [22, 1, 22]\n",
      "3401 : [22, 8, 22, 8, 22, 3]\n",
      "3403 : [8, 16, 8, 22]\n",
      "3428 : [30, 8, 30]\n",
      "3429 : [30, 8, 30]\n",
      "3438 : [16, 4, 16, 25]\n",
      "3481 : [27, 11, 27, 30]\n",
      "3501 : [21, 30, 8, 16, 4, 16]\n",
      "3527 : [22, 23, 22]\n",
      "3556 : [25, 7, 30, 7]\n",
      "3595 : [16, 8, 16]\n",
      "3626 : [8, 16, 8, 1]\n",
      "3636 : [21, 8, 22, 28, 23, 21, 3]\n",
      "3644 : [16, 4, 16, 4]\n",
      "3708 : [28, 22, 28]\n",
      "3750 : [22, 28, 22]\n",
      "3851 : [30, 24, 22, 24]\n",
      "4000 : [11, 27, 11]\n",
      "4004 : [28, 4, 16, 4, 16]\n",
      "4005 : [2, 17, 14, 17]\n",
      "4065 : [7, 22, 7]\n",
      "4162 : [30, 1, 30]\n",
      "4174 : [22, 16, 22]\n",
      "4284 : [16, 4, 16, 4, 16, 4, 22, 28]\n",
      "4302 : [23, 28, 23]\n",
      "4326 : [4, 16, 8, 16]\n",
      "4351 : [11, 23, 3, 30, 7, 30, 16, 4, 16, 1, 30, 2]\n",
      "4352 : [30, 1, 30]\n",
      "4451 : [21, 6, 22, 28, 22, 28, 22, 28, 6]\n",
      "4457 : [16, 8, 16]\n",
      "4478 : [17, 14, 17]\n",
      "4493 : [23, 28, 23, 22, 25, 4, 21]\n",
      "4580 : [22, 28, 21, 28]\n",
      "4736 : [4, 16, 4]\n",
      "4738 : [24, 30, 24]\n",
      "4745 : [22, 28, 22]\n",
      "4804 : [7, 28, 7, 28]\n",
      "4961 : [21, 23, 21, 23, 28, 30, 16, 1, 4, 16, 24, 1, 7, 19]\n",
      "4972 : [28, 23, 28, 21]\n",
      "4992 : [28, 23, 28]\n",
      "4997 : [30, 22, 28, 7, 30, 8, 22]\n",
      "4998 : [13, 16, 13, 16]\n",
      "5073 : [16, 4, 8, 16, 4]\n",
      "5180 : [22, 28, 22, 23, 21, 22]\n",
      "5228 : [3, 21, 23, 21, 23]\n",
      "5237 : [3, 30, 22, 3]\n",
      "5254 : [6, 22, 28, 22, 21, 23, 30, 7, 28, 22, 23]\n",
      "5256 : [21, 22, 23, 21]\n",
      "5261 : [21, 28, 21]\n",
      "5263 : [3, 21, 23, 28, 7, 30, 22, 23]\n",
      "5277 : [29, 22, 28, 23, 21, 29, 27, 28, 23, 21]\n",
      "5294 : [2, 17, 14, 17]\n",
      "5337 : [22, 21, 3, 21, 23, 28, 22, 28]\n",
      "5377 : [30, 1, 8, 16, 8, 23]\n",
      "5530 : [7, 16, 8, 16]\n",
      "5538 : [30, 8, 30]\n",
      "5540 : [30, 1, 30]\n",
      "5541 : [30, 16, 4, 30, 16, 1, 16, 30, 7]\n",
      "5553 : [16, 8, 16]\n",
      "5555 : [6, 16, 6, 11, 16, 4, 16, 8, 16]\n",
      "5642 : [22, 16, 22]\n",
      "5693 : [22, 28, 22, 28]\n",
      "5694 : [21, 23, 21]\n",
      "5908 : [3, 21, 3]\n",
      "5917 : [24, 16, 24]\n",
      "5981 : [11, 29, 13, 30, 2, 23, 7, 23, 7, 21, 11]\n"
     ]
    }
   ],
   "source": [
    "for tid in visits['seqID'].unique():\n",
    "    t = calc_traj_df(tid, visits)\n",
    "    t = t['poiID'].astype(np.int).tolist()\n",
    "    if len(t) != len(set(t)): \n",
    "        print(tid, ':', t)"
   ]
  },
  {
   "cell_type": "code",
   "execution_count": null,
   "metadata": {
    "collapsed": false
   },
   "outputs": [],
   "source": [
    "SEQ_ID = 687\n",
    "visits[visits['seqID'] == SEQ_ID]"
   ]
  },
  {
   "cell_type": "code",
   "execution_count": 64,
   "metadata": {
    "collapsed": true
   },
   "outputs": [],
   "source": [
    "def visualise_traj(tid, poi_all, visits):\n",
    "    k = kml.KML()\n",
    "    ns = '{http://www.opengis.net/kml/2.2}'\n",
    "    tdf = visits[visits['seqID'] == tid].copy()\n",
    "    tdf.sort_values(by='dateTaken', ascending=True, inplace=True)\n",
    "    t = tdf['poiID'].astype(np.int).tolist()\n",
    "    traj = [t[0]]\n",
    "    for poi in t[1:]: \n",
    "        if poi != traj[-1]: traj.append(poi)\n",
    "    \n",
    "    # Styles\n",
    "    #stys = []\n",
    "    #for width in width_set:\n",
    "    #    sid = 'sty' + str(width)\n",
    "    #    # colors in KML: aabbggrr, aa=00 is fully transparent\n",
    "    #    stys.append(styles.Style(id=sid, styles=[styles.LineStyle(color='3f0000ff', width=width)])) # transparent red\n",
    "    pm_list = []\n",
    "    \n",
    "    # draw trajectory\n",
    "    for i in range(len(traj)-1):\n",
    "        poi1 = traj[i]\n",
    "        poi2 = traj[i+1]\n",
    "        sid = str(poi1) + '->' + str(poi2)\n",
    "        desc = 'POI_' + str(poi1) + ' -> ' + 'POI_' + str(poi2)\n",
    "        pm = kml.Placemark(ns, sid, sid, desc)\n",
    "        pm.geometry = LineString([(poi_all.loc[x, 'poiLon'], poi_all.loc[x, 'poiLat']) for x in [poi1, poi2]])\n",
    "        pm_list.append(pm)\n",
    "        \n",
    "    # draw POIs\n",
    "    for poi in traj:\n",
    "        sid = str(poi)\n",
    "        desc = 'POI: ' + str(poi) + ', Category: ' + poi_all.loc[poi, 'poiCat']\n",
    "        pm = kml.Placemark(ns, sid, 'POI_' + str(poi), desc)\n",
    "        pm.geometry = Point(poi_all.loc[poi, 'poiLon'], poi_all.loc[poi, 'poiLat'])\n",
    "        pm_list.append(pm)\n",
    "    \n",
    "    # draw photos\n",
    "    for ix in tdf.index:\n",
    "        sid = str(tdf.loc[ix, 'photoID'])\n",
    "        poi = int(tdf.loc[ix, 'poiID'])\n",
    "        time = datetime.fromtimestamp(visits.loc[ix, 'dateTaken']).strftime('%Y-%m-%d %H:%M:%S')\n",
    "        desc = 'Photo: ' + sid + ', POI: ' + str(poi) + ', Date: ' + time\n",
    "        pm = kml.Placemark(ns, sid, 'PHOTO_POI_' + str(poi), desc)\n",
    "        pm.geometry = Point(visits.loc[ix, 'photoLon'], visits.loc[ix, 'photoLat'])\n",
    "        pm_list.append(pm)\n",
    "        \n",
    "    doc = kml.Document(ns, '1', 'Trajectory ' + str(tid) + ': ' + str(traj), 'Trajectory visualization')\n",
    "    for pm in pm_list: doc.append(pm)\n",
    "    k.append(doc)\n",
    "    \n",
    "    # save to file\n",
    "    fname = 'traj_' + str(tid) + '.kml'\n",
    "    kmlstr = k.to_string(prettyprint=True)\n",
    "    with open(fname, 'w') as f:\n",
    "        f.write('<?xml version=\"1.0\" encoding=\"UTF-8\"?>\\n')\n",
    "        f.write(kmlstr)\n",
    "    print('Write to file', fname)"
   ]
  },
  {
   "cell_type": "code",
   "execution_count": 65,
   "metadata": {
    "collapsed": false
   },
   "outputs": [],
   "source": [
    "trajid_set = [67, 524, 687]"
   ]
  },
  {
   "cell_type": "code",
   "execution_count": 67,
   "metadata": {
    "collapsed": false
   },
   "outputs": [
    {
     "name": "stdout",
     "output_type": "stream",
     "text": [
      "Write to file traj_67.kml\n",
      "Write to file traj_524.kml\n",
      "Write to file traj_687.kml\n"
     ]
    }
   ],
   "source": [
    "for tid in trajid_set:\n",
    "    visualise_traj(tid, poi_all, visits)"
   ]
  },
  {
   "cell_type": "markdown",
   "metadata": {},
   "source": [
    "An example of trajectories with loops is shown on [this map](https://drive.google.com/open?id=198v02j-pY1pNiPwMjX1bbgheJpg&usp=sharing)."
   ]
  }
 ],
 "metadata": {
  "kernelspec": {
   "display_name": "Python 3",
   "language": "python",
   "name": "python3"
  },
  "language_info": {
   "codemirror_mode": {
    "name": "ipython",
    "version": 3
   },
   "file_extension": ".py",
   "mimetype": "text/x-python",
   "name": "python",
   "nbconvert_exporter": "python",
   "pygments_lexer": "ipython3",
   "version": "3.5.1"
  }
 },
 "nbformat": 4,
 "nbformat_minor": 0
}
