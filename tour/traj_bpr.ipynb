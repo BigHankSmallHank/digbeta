{
 "cells": [
  {
   "cell_type": "markdown",
   "metadata": {},
   "source": [
    "# Trajectory Recommendation using BPR Ranking and Active Learning"
   ]
  },
  {
   "cell_type": "markdown",
   "metadata": {},
   "source": [
    "## 1. Overview"
   ]
  },
  {
   "cell_type": "markdown",
   "metadata": {},
   "source": [
    "1. BPR ranking of POIs\n",
    "1. Recommend a set of POIs given (start, end, length)\n",
    "1. Recommend POI visit duration\n",
    "1. Recommend visiting order"
   ]
  },
  {
   "cell_type": "code",
   "execution_count": 1,
   "metadata": {
    "collapsed": false
   },
   "outputs": [],
   "source": [
    "% matplotlib inline\n",
    "\n",
    "import os, re, sys, time, pickle\n",
    "import math, random, itertools\n",
    "import pandas as pd\n",
    "import numpy as np\n",
    "import matplotlib.pyplot as plt\n",
    "import scipy.optimize as sop\n",
    "from joblib import Parallel, delayed"
   ]
  },
  {
   "cell_type": "code",
   "execution_count": 2,
   "metadata": {
    "collapsed": true
   },
   "outputs": [],
   "source": [
    "random.seed(987654321) # control random choice when splitting training/testing set\n",
    "np.random.seed(987654321)"
   ]
  },
  {
   "cell_type": "code",
   "execution_count": 3,
   "metadata": {
    "collapsed": true
   },
   "outputs": [],
   "source": [
    "data_dir = 'data/data-ijcai15'\n",
    "#fvisit = os.path.join(data_dir, 'userVisits-Osak.csv')\n",
    "#fcoord = os.path.join(data_dir, 'photoCoords-Osak.csv')\n",
    "#fvisit = os.path.join(data_dir, 'userVisits-Glas.csv')\n",
    "#fcoord = os.path.join(data_dir, 'photoCoords-Glas.csv')\n",
    "#fvisit = os.path.join(data_dir, 'userVisits-Edin.csv')\n",
    "#fcoord = os.path.join(data_dir, 'photoCoords-Edin.csv')\n",
    "fvisit = os.path.join(data_dir, 'userVisits-Toro.csv')\n",
    "fcoord = os.path.join(data_dir, 'photoCoords-Toro.csv')"
   ]
  },
  {
   "cell_type": "code",
   "execution_count": 4,
   "metadata": {
    "collapsed": true
   },
   "outputs": [],
   "source": [
    "suffix = fvisit.split('-')[-1].split('.')[0]\n",
    "fseqpart = os.path.join(data_dir, 'seqPart-' + suffix + '.pkl')"
   ]
  },
  {
   "cell_type": "code",
   "execution_count": 5,
   "metadata": {
    "collapsed": true
   },
   "outputs": [],
   "source": [
    "visits = pd.read_csv(fvisit, sep=';')\n",
    "coords = pd.read_csv(fcoord, sep=';')\n",
    "assert(visits.shape[0] == coords.shape[0])\n",
    "traj = pd.merge(visits, coords, on='photoID') # merge data frames according to column 'photoID'\n",
    "#traj.head()"
   ]
  },
  {
   "cell_type": "code",
   "execution_count": 6,
   "metadata": {
    "collapsed": false
   },
   "outputs": [
    {
     "data": {
      "text/html": [
       "<div>\n",
       "<table border=\"1\" class=\"dataframe\">\n",
       "  <thead>\n",
       "    <tr style=\"text-align: right;\">\n",
       "      <th></th>\n",
       "      <th>#photo</th>\n",
       "      <th>#photo/user</th>\n",
       "      <th>#poi</th>\n",
       "      <th>#seq</th>\n",
       "      <th>#seq/user</th>\n",
       "      <th>#user</th>\n",
       "    </tr>\n",
       "  </thead>\n",
       "  <tbody>\n",
       "    <tr>\n",
       "      <th>Toro</th>\n",
       "      <td>39419</td>\n",
       "      <td>28.257348</td>\n",
       "      <td>29</td>\n",
       "      <td>6057</td>\n",
       "      <td>4.341935</td>\n",
       "      <td>1395</td>\n",
       "    </tr>\n",
       "  </tbody>\n",
       "</table>\n",
       "</div>"
      ],
      "text/plain": [
       "      #photo  #photo/user  #poi  #seq  #seq/user  #user\n",
       "Toro   39419    28.257348    29  6057   4.341935   1395"
      ]
     },
     "execution_count": 6,
     "metadata": {},
     "output_type": "execute_result"
    }
   ],
   "source": [
    "num_photo = traj['photoID'].unique().shape[0]\n",
    "num_user = traj['userID'].unique().shape[0]\n",
    "num_poi = traj['poiID'].unique().shape[0]\n",
    "num_seq = traj['seqID'].unique().shape[0]\n",
    "pd.DataFrame({'#photo': num_photo, '#user': num_user, '#poi': num_poi, '#seq': num_seq, \\\n",
    "              '#photo/user': num_photo/num_user, '#seq/user': num_seq/num_user}, index=[str(suffix)])"
   ]
  },
  {
   "cell_type": "markdown",
   "metadata": {},
   "source": [
    "## 2.1 Compute POI Information"
   ]
  },
  {
   "cell_type": "markdown",
   "metadata": {},
   "source": [
    "Compute POI (Longitude, Latitude) as the average coordinates of the assigned photos."
   ]
  },
  {
   "cell_type": "code",
   "execution_count": 7,
   "metadata": {
    "collapsed": true
   },
   "outputs": [],
   "source": [
    "poi_coords = traj[['poiID', 'photoLon', 'photoLat']].groupby('poiID').mean()\n",
    "poi_coords.reset_index(inplace=True)\n",
    "poi_coords.rename(columns={'photoLon':'poiLon', 'photoLat':'poiLat'}, inplace=True)"
   ]
  },
  {
   "cell_type": "markdown",
   "metadata": {},
   "source": [
    "Extract POI category and visiting frequency."
   ]
  },
  {
   "cell_type": "code",
   "execution_count": 8,
   "metadata": {
    "collapsed": true
   },
   "outputs": [],
   "source": [
    "poi_catfreq = traj[['poiID', 'poiTheme', 'poiFreq']].groupby('poiID').first()\n",
    "poi_catfreq.reset_index(inplace=True)"
   ]
  },
  {
   "cell_type": "code",
   "execution_count": 9,
   "metadata": {
    "collapsed": false
   },
   "outputs": [
    {
     "data": {
      "text/html": [
       "<div>\n",
       "<table border=\"1\" class=\"dataframe\">\n",
       "  <thead>\n",
       "    <tr style=\"text-align: right;\">\n",
       "      <th></th>\n",
       "      <th>poiTheme</th>\n",
       "      <th>poiFreq</th>\n",
       "      <th>poiLon</th>\n",
       "      <th>poiLat</th>\n",
       "    </tr>\n",
       "    <tr>\n",
       "      <th>poiID</th>\n",
       "      <th></th>\n",
       "      <th></th>\n",
       "      <th></th>\n",
       "      <th></th>\n",
       "    </tr>\n",
       "  </thead>\n",
       "  <tbody>\n",
       "    <tr>\n",
       "      <th>1</th>\n",
       "      <td>Sport</td>\n",
       "      <td>3506</td>\n",
       "      <td>-79.379243</td>\n",
       "      <td>43.643183</td>\n",
       "    </tr>\n",
       "    <tr>\n",
       "      <th>2</th>\n",
       "      <td>Sport</td>\n",
       "      <td>609</td>\n",
       "      <td>-79.418634</td>\n",
       "      <td>43.632772</td>\n",
       "    </tr>\n",
       "    <tr>\n",
       "      <th>3</th>\n",
       "      <td>Sport</td>\n",
       "      <td>688</td>\n",
       "      <td>-79.380045</td>\n",
       "      <td>43.662175</td>\n",
       "    </tr>\n",
       "    <tr>\n",
       "      <th>4</th>\n",
       "      <td>Sport</td>\n",
       "      <td>3056</td>\n",
       "      <td>-79.389290</td>\n",
       "      <td>43.641297</td>\n",
       "    </tr>\n",
       "    <tr>\n",
       "      <th>6</th>\n",
       "      <td>Cultural</td>\n",
       "      <td>986</td>\n",
       "      <td>-79.392396</td>\n",
       "      <td>43.653662</td>\n",
       "    </tr>\n",
       "  </tbody>\n",
       "</table>\n",
       "</div>"
      ],
      "text/plain": [
       "       poiTheme  poiFreq     poiLon     poiLat\n",
       "poiID                                         \n",
       "1         Sport     3506 -79.379243  43.643183\n",
       "2         Sport      609 -79.418634  43.632772\n",
       "3         Sport      688 -79.380045  43.662175\n",
       "4         Sport     3056 -79.389290  43.641297\n",
       "6      Cultural      986 -79.392396  43.653662"
      ]
     },
     "execution_count": 9,
     "metadata": {},
     "output_type": "execute_result"
    }
   ],
   "source": [
    "poi_all = pd.merge(poi_catfreq, poi_coords, on='poiID')\n",
    "poi_all.set_index('poiID', inplace=True)\n",
    "poi_all.head()\n",
    "#poi_all.to_csv(fpoi, index=True)"
   ]
  },
  {
   "cell_type": "markdown",
   "metadata": {},
   "source": [
    "## 2.2 Construct Travelling Sequences"
   ]
  },
  {
   "cell_type": "code",
   "execution_count": 10,
   "metadata": {
    "collapsed": false
   },
   "outputs": [
    {
     "data": {
      "text/html": [
       "<div>\n",
       "<table border=\"1\" class=\"dataframe\">\n",
       "  <thead>\n",
       "    <tr style=\"text-align: right;\">\n",
       "      <th></th>\n",
       "      <th>userID</th>\n",
       "      <th>seqID</th>\n",
       "      <th>poiID</th>\n",
       "      <th>arrivalTime</th>\n",
       "      <th>departureTime</th>\n",
       "      <th>#photo</th>\n",
       "      <th>poiDuration(sec)</th>\n",
       "    </tr>\n",
       "  </thead>\n",
       "  <tbody>\n",
       "    <tr>\n",
       "      <th>0</th>\n",
       "      <td>10007579@N00</td>\n",
       "      <td>1</td>\n",
       "      <td>30</td>\n",
       "      <td>1346844688</td>\n",
       "      <td>1346844688</td>\n",
       "      <td>1</td>\n",
       "      <td>0</td>\n",
       "    </tr>\n",
       "    <tr>\n",
       "      <th>1</th>\n",
       "      <td>10012675@N05</td>\n",
       "      <td>2</td>\n",
       "      <td>6</td>\n",
       "      <td>1142731848</td>\n",
       "      <td>1142732445</td>\n",
       "      <td>4</td>\n",
       "      <td>597</td>\n",
       "    </tr>\n",
       "    <tr>\n",
       "      <th>2</th>\n",
       "      <td>10012675@N05</td>\n",
       "      <td>3</td>\n",
       "      <td>6</td>\n",
       "      <td>1142916492</td>\n",
       "      <td>1142916492</td>\n",
       "      <td>1</td>\n",
       "      <td>0</td>\n",
       "    </tr>\n",
       "    <tr>\n",
       "      <th>3</th>\n",
       "      <td>10012675@N05</td>\n",
       "      <td>4</td>\n",
       "      <td>13</td>\n",
       "      <td>1319327174</td>\n",
       "      <td>1319332848</td>\n",
       "      <td>9</td>\n",
       "      <td>5674</td>\n",
       "    </tr>\n",
       "    <tr>\n",
       "      <th>4</th>\n",
       "      <td>10014440@N06</td>\n",
       "      <td>5</td>\n",
       "      <td>24</td>\n",
       "      <td>1196128621</td>\n",
       "      <td>1196128878</td>\n",
       "      <td>3</td>\n",
       "      <td>257</td>\n",
       "    </tr>\n",
       "  </tbody>\n",
       "</table>\n",
       "</div>"
      ],
      "text/plain": [
       "         userID  seqID  poiID  arrivalTime  departureTime  #photo  \\\n",
       "0  10007579@N00      1     30   1346844688     1346844688       1   \n",
       "1  10012675@N05      2      6   1142731848     1142732445       4   \n",
       "2  10012675@N05      3      6   1142916492     1142916492       1   \n",
       "3  10012675@N05      4     13   1319327174     1319332848       9   \n",
       "4  10014440@N06      5     24   1196128621     1196128878       3   \n",
       "\n",
       "   poiDuration(sec)  \n",
       "0                 0  \n",
       "1               597  \n",
       "2                 0  \n",
       "3              5674  \n",
       "4               257  "
      ]
     },
     "execution_count": 10,
     "metadata": {},
     "output_type": "execute_result"
    }
   ],
   "source": [
    "seq_all = traj[['userID', 'seqID', 'poiID', 'dateTaken']].copy().groupby(['userID', 'seqID', 'poiID'])\\\n",
    "          .agg([np.min, np.max, np.size])\n",
    "seq_all.columns = seq_all.columns.droplevel()\n",
    "seq_all.reset_index(inplace=True)\n",
    "seq_all.rename(columns={'amin':'arrivalTime', 'amax':'departureTime', 'size':'#photo'}, inplace=True)\n",
    "seq_all['poiDuration(sec)'] = seq_all['departureTime'] - seq_all['arrivalTime']\n",
    "seq_all.head()"
   ]
  },
  {
   "cell_type": "code",
   "execution_count": 11,
   "metadata": {
    "collapsed": false
   },
   "outputs": [
    {
     "data": {
      "text/html": [
       "<div>\n",
       "<table border=\"1\" class=\"dataframe\">\n",
       "  <thead>\n",
       "    <tr style=\"text-align: right;\">\n",
       "      <th></th>\n",
       "      <th>userID</th>\n",
       "      <th>seqLen</th>\n",
       "    </tr>\n",
       "    <tr>\n",
       "      <th>seqID</th>\n",
       "      <th></th>\n",
       "      <th></th>\n",
       "    </tr>\n",
       "  </thead>\n",
       "  <tbody>\n",
       "    <tr>\n",
       "      <th>1</th>\n",
       "      <td>10007579@N00</td>\n",
       "      <td>1</td>\n",
       "    </tr>\n",
       "    <tr>\n",
       "      <th>2</th>\n",
       "      <td>10012675@N05</td>\n",
       "      <td>1</td>\n",
       "    </tr>\n",
       "    <tr>\n",
       "      <th>3</th>\n",
       "      <td>10012675@N05</td>\n",
       "      <td>1</td>\n",
       "    </tr>\n",
       "    <tr>\n",
       "      <th>4</th>\n",
       "      <td>10012675@N05</td>\n",
       "      <td>1</td>\n",
       "    </tr>\n",
       "    <tr>\n",
       "      <th>5</th>\n",
       "      <td>10014440@N06</td>\n",
       "      <td>1</td>\n",
       "    </tr>\n",
       "  </tbody>\n",
       "</table>\n",
       "</div>"
      ],
      "text/plain": [
       "             userID  seqLen\n",
       "seqID                      \n",
       "1      10007579@N00       1\n",
       "2      10012675@N05       1\n",
       "3      10012675@N05       1\n",
       "4      10012675@N05       1\n",
       "5      10014440@N06       1"
      ]
     },
     "execution_count": 11,
     "metadata": {},
     "output_type": "execute_result"
    }
   ],
   "source": [
    "seq_user = seq_all[['userID', 'seqID', 'poiID']].copy().groupby(['userID', 'seqID']).agg(np.size)\n",
    "seq_user.reset_index(inplace=True)\n",
    "seq_user.rename(columns={'poiID':'seqLen'}, inplace=True)\n",
    "seq_user.set_index('seqID', inplace=True)\n",
    "seq_user.head()"
   ]
  },
  {
   "cell_type": "code",
   "execution_count": 12,
   "metadata": {
    "collapsed": true
   },
   "outputs": [],
   "source": [
    "def extract_seq(seqid, seq_all):\n",
    "    seqi = seq_all[seq_all['seqID'] == seqid].copy()\n",
    "    seqi.sort_values(by=['arrivalTime'], ascending=True, inplace=True)\n",
    "    return seqi['poiID'].tolist()"
   ]
  },
  {
   "cell_type": "markdown",
   "metadata": {},
   "source": [
    "## 2.3 Data Filtering "
   ]
  },
  {
   "cell_type": "markdown",
   "metadata": {},
   "source": [
    "Filtering out POI visits of which the duration is 0."
   ]
  },
  {
   "cell_type": "code",
   "execution_count": 13,
   "metadata": {
    "collapsed": false
   },
   "outputs": [
    {
     "data": {
      "text/html": [
       "<div>\n",
       "<table border=\"1\" class=\"dataframe\">\n",
       "  <thead>\n",
       "    <tr style=\"text-align: right;\">\n",
       "      <th></th>\n",
       "      <th>userID</th>\n",
       "      <th>seqID</th>\n",
       "      <th>poiID</th>\n",
       "      <th>arrivalTime</th>\n",
       "      <th>departureTime</th>\n",
       "      <th>#photo</th>\n",
       "      <th>poiDuration(sec)</th>\n",
       "    </tr>\n",
       "  </thead>\n",
       "  <tbody>\n",
       "    <tr>\n",
       "      <th>1</th>\n",
       "      <td>10012675@N05</td>\n",
       "      <td>2</td>\n",
       "      <td>6</td>\n",
       "      <td>1142731848</td>\n",
       "      <td>1142732445</td>\n",
       "      <td>4</td>\n",
       "      <td>597</td>\n",
       "    </tr>\n",
       "    <tr>\n",
       "      <th>3</th>\n",
       "      <td>10012675@N05</td>\n",
       "      <td>4</td>\n",
       "      <td>13</td>\n",
       "      <td>1319327174</td>\n",
       "      <td>1319332848</td>\n",
       "      <td>9</td>\n",
       "      <td>5674</td>\n",
       "    </tr>\n",
       "    <tr>\n",
       "      <th>4</th>\n",
       "      <td>10014440@N06</td>\n",
       "      <td>5</td>\n",
       "      <td>24</td>\n",
       "      <td>1196128621</td>\n",
       "      <td>1196128878</td>\n",
       "      <td>3</td>\n",
       "      <td>257</td>\n",
       "    </tr>\n",
       "    <tr>\n",
       "      <th>5</th>\n",
       "      <td>10014440@N06</td>\n",
       "      <td>6</td>\n",
       "      <td>23</td>\n",
       "      <td>1198051767</td>\n",
       "      <td>1198052832</td>\n",
       "      <td>12</td>\n",
       "      <td>1065</td>\n",
       "    </tr>\n",
       "    <tr>\n",
       "      <th>6</th>\n",
       "      <td>10014440@N06</td>\n",
       "      <td>7</td>\n",
       "      <td>23</td>\n",
       "      <td>1198627025</td>\n",
       "      <td>1198627598</td>\n",
       "      <td>5</td>\n",
       "      <td>573</td>\n",
       "    </tr>\n",
       "  </tbody>\n",
       "</table>\n",
       "</div>"
      ],
      "text/plain": [
       "         userID  seqID  poiID  arrivalTime  departureTime  #photo  \\\n",
       "1  10012675@N05      2      6   1142731848     1142732445       4   \n",
       "3  10012675@N05      4     13   1319327174     1319332848       9   \n",
       "4  10014440@N06      5     24   1196128621     1196128878       3   \n",
       "5  10014440@N06      6     23   1198051767     1198052832      12   \n",
       "6  10014440@N06      7     23   1198627025     1198627598       5   \n",
       "\n",
       "   poiDuration(sec)  \n",
       "1               597  \n",
       "3              5674  \n",
       "4               257  \n",
       "5              1065  \n",
       "6               573  "
      ]
     },
     "execution_count": 13,
     "metadata": {},
     "output_type": "execute_result"
    }
   ],
   "source": [
    "seq_all = seq_all[seq_all['poiDuration(sec)'] > 0]\n",
    "seq_all.head()"
   ]
  },
  {
   "cell_type": "code",
   "execution_count": 14,
   "metadata": {
    "collapsed": false
   },
   "outputs": [
    {
     "data": {
      "text/html": [
       "<div>\n",
       "<table border=\"1\" class=\"dataframe\">\n",
       "  <thead>\n",
       "    <tr style=\"text-align: right;\">\n",
       "      <th></th>\n",
       "      <th>userID</th>\n",
       "      <th>seqLen</th>\n",
       "    </tr>\n",
       "    <tr>\n",
       "      <th>seqID</th>\n",
       "      <th></th>\n",
       "      <th></th>\n",
       "    </tr>\n",
       "  </thead>\n",
       "  <tbody>\n",
       "    <tr>\n",
       "      <th>2</th>\n",
       "      <td>10012675@N05</td>\n",
       "      <td>1</td>\n",
       "    </tr>\n",
       "    <tr>\n",
       "      <th>4</th>\n",
       "      <td>10012675@N05</td>\n",
       "      <td>1</td>\n",
       "    </tr>\n",
       "    <tr>\n",
       "      <th>5</th>\n",
       "      <td>10014440@N06</td>\n",
       "      <td>1</td>\n",
       "    </tr>\n",
       "    <tr>\n",
       "      <th>6</th>\n",
       "      <td>10014440@N06</td>\n",
       "      <td>1</td>\n",
       "    </tr>\n",
       "    <tr>\n",
       "      <th>7</th>\n",
       "      <td>10014440@N06</td>\n",
       "      <td>1</td>\n",
       "    </tr>\n",
       "  </tbody>\n",
       "</table>\n",
       "</div>"
      ],
      "text/plain": [
       "             userID  seqLen\n",
       "seqID                      \n",
       "2      10012675@N05       1\n",
       "4      10012675@N05       1\n",
       "5      10014440@N06       1\n",
       "6      10014440@N06       1\n",
       "7      10014440@N06       1"
      ]
     },
     "execution_count": 14,
     "metadata": {},
     "output_type": "execute_result"
    }
   ],
   "source": [
    "seq_stats = seq_all[['userID', 'seqID', 'poiID']].copy().groupby(['userID', 'seqID']).agg(np.size)\n",
    "seq_stats.reset_index(inplace=True)\n",
    "seq_stats.rename(columns={'poiID':'seqLen'}, inplace=True)\n",
    "seq_stats.set_index('seqID', inplace=True)\n",
    "seq_stats.head()"
   ]
  },
  {
   "cell_type": "markdown",
   "metadata": {},
   "source": [
    "Filtering out sequences of which the length is less than 2."
   ]
  },
  {
   "cell_type": "code",
   "execution_count": 15,
   "metadata": {
    "collapsed": false
   },
   "outputs": [
    {
     "data": {
      "text/html": [
       "<div>\n",
       "<table border=\"1\" class=\"dataframe\">\n",
       "  <thead>\n",
       "    <tr style=\"text-align: right;\">\n",
       "      <th></th>\n",
       "      <th>seqID</th>\n",
       "      <th>userID</th>\n",
       "      <th>seqLen</th>\n",
       "    </tr>\n",
       "  </thead>\n",
       "  <tbody>\n",
       "    <tr>\n",
       "      <th>0</th>\n",
       "      <td>67</td>\n",
       "      <td>10502709@N05</td>\n",
       "      <td>3</td>\n",
       "    </tr>\n",
       "    <tr>\n",
       "      <th>1</th>\n",
       "      <td>100</td>\n",
       "      <td>10627620@N06</td>\n",
       "      <td>3</td>\n",
       "    </tr>\n",
       "    <tr>\n",
       "      <th>2</th>\n",
       "      <td>139</td>\n",
       "      <td>11090433@N05</td>\n",
       "      <td>4</td>\n",
       "    </tr>\n",
       "    <tr>\n",
       "      <th>3</th>\n",
       "      <td>166</td>\n",
       "      <td>11241023@N03</td>\n",
       "      <td>3</td>\n",
       "    </tr>\n",
       "    <tr>\n",
       "      <th>4</th>\n",
       "      <td>298</td>\n",
       "      <td>13644648@N03</td>\n",
       "      <td>7</td>\n",
       "    </tr>\n",
       "  </tbody>\n",
       "</table>\n",
       "</div>"
      ],
      "text/plain": [
       "   seqID        userID  seqLen\n",
       "0     67  10502709@N05       3\n",
       "1    100  10627620@N06       3\n",
       "2    139  11090433@N05       4\n",
       "3    166  11241023@N03       3\n",
       "4    298  13644648@N03       7"
      ]
     },
     "execution_count": 15,
     "metadata": {},
     "output_type": "execute_result"
    }
   ],
   "source": [
    "seq_stats = seq_stats[seq_stats['seqLen'] > 2]\n",
    "seq_stats.reset_index(inplace=True)\n",
    "seq_stats.head()"
   ]
  },
  {
   "cell_type": "code",
   "execution_count": 16,
   "metadata": {
    "collapsed": false
   },
   "outputs": [],
   "source": [
    "seq_stats1 = seq_stats[['userID', 'seqID']].copy().groupby('userID').agg(np.size)\n",
    "seq_stats1.rename(columns={'seqID':'#seq'}, inplace=True)"
   ]
  },
  {
   "cell_type": "code",
   "execution_count": 17,
   "metadata": {
    "collapsed": false
   },
   "outputs": [
    {
     "data": {
      "text/html": [
       "<div>\n",
       "<table border=\"1\" class=\"dataframe\">\n",
       "  <thead>\n",
       "    <tr style=\"text-align: right;\">\n",
       "      <th></th>\n",
       "      <th>#seq</th>\n",
       "    </tr>\n",
       "    <tr>\n",
       "      <th>userID</th>\n",
       "      <th></th>\n",
       "    </tr>\n",
       "  </thead>\n",
       "  <tbody>\n",
       "    <tr>\n",
       "      <th>20741443@N00</th>\n",
       "      <td>13</td>\n",
       "    </tr>\n",
       "    <tr>\n",
       "      <th>84987970@N00</th>\n",
       "      <td>15</td>\n",
       "    </tr>\n",
       "  </tbody>\n",
       "</table>\n",
       "</div>"
      ],
      "text/plain": [
       "              #seq\n",
       "userID            \n",
       "20741443@N00    13\n",
       "84987970@N00    15"
      ]
     },
     "execution_count": 17,
     "metadata": {},
     "output_type": "execute_result"
    }
   ],
   "source": [
    "seq_stats1 = seq_stats1[seq_stats1['#seq'] >= 10]\n",
    "seq_stats1.head()"
   ]
  },
  {
   "cell_type": "code",
   "execution_count": 18,
   "metadata": {
    "collapsed": false
   },
   "outputs": [
    {
     "data": {
      "text/plain": [
       "['20741443@N00', '84987970@N00']"
      ]
     },
     "execution_count": 18,
     "metadata": {},
     "output_type": "execute_result"
    }
   ],
   "source": [
    "user_list = seq_stats1.index.tolist()\n",
    "user_list.sort()\n",
    "user_list"
   ]
  },
  {
   "cell_type": "code",
   "execution_count": 19,
   "metadata": {
    "collapsed": false
   },
   "outputs": [
    {
     "name": "stdout",
     "output_type": "stream",
     "text": [
      "28\n"
     ]
    }
   ],
   "source": [
    "seqid_list = seq_stats[seq_stats['userID'].isin(user_list)]['seqID'].tolist()\n",
    "seqid_list.sort()\n",
    "print(len(seqid_list))"
   ]
  },
  {
   "cell_type": "markdown",
   "metadata": {},
   "source": [
    "## 2.4 Train vs. Query vs. Test Data"
   ]
  },
  {
   "cell_type": "code",
   "execution_count": 20,
   "metadata": {
    "collapsed": false
   },
   "outputs": [
    {
     "data": {
      "text/html": [
       "<div>\n",
       "<table border=\"1\" class=\"dataframe\">\n",
       "  <thead>\n",
       "    <tr style=\"text-align: right;\">\n",
       "      <th></th>\n",
       "      <th>userID</th>\n",
       "      <th>seqID</th>\n",
       "      <th>poiID</th>\n",
       "      <th>arrivalTime</th>\n",
       "      <th>departureTime</th>\n",
       "      <th>#photo</th>\n",
       "      <th>poiDuration(sec)</th>\n",
       "    </tr>\n",
       "  </thead>\n",
       "  <tbody>\n",
       "    <tr>\n",
       "      <th>900</th>\n",
       "      <td>20741443@N00</td>\n",
       "      <td>708</td>\n",
       "      <td>7</td>\n",
       "      <td>1160213392</td>\n",
       "      <td>1160224452</td>\n",
       "      <td>4</td>\n",
       "      <td>11060</td>\n",
       "    </tr>\n",
       "    <tr>\n",
       "      <th>901</th>\n",
       "      <td>20741443@N00</td>\n",
       "      <td>708</td>\n",
       "      <td>21</td>\n",
       "      <td>1160215990</td>\n",
       "      <td>1160216293</td>\n",
       "      <td>3</td>\n",
       "      <td>303</td>\n",
       "    </tr>\n",
       "    <tr>\n",
       "      <th>902</th>\n",
       "      <td>20741443@N00</td>\n",
       "      <td>708</td>\n",
       "      <td>23</td>\n",
       "      <td>1160214708</td>\n",
       "      <td>1160215087</td>\n",
       "      <td>3</td>\n",
       "      <td>379</td>\n",
       "    </tr>\n",
       "    <tr>\n",
       "      <th>904</th>\n",
       "      <td>20741443@N00</td>\n",
       "      <td>708</td>\n",
       "      <td>30</td>\n",
       "      <td>1160222055</td>\n",
       "      <td>1160222178</td>\n",
       "      <td>2</td>\n",
       "      <td>123</td>\n",
       "    </tr>\n",
       "    <tr>\n",
       "      <th>910</th>\n",
       "      <td>20741443@N00</td>\n",
       "      <td>712</td>\n",
       "      <td>7</td>\n",
       "      <td>1170541310</td>\n",
       "      <td>1170548979</td>\n",
       "      <td>7</td>\n",
       "      <td>7669</td>\n",
       "    </tr>\n",
       "  </tbody>\n",
       "</table>\n",
       "</div>"
      ],
      "text/plain": [
       "           userID  seqID  poiID  arrivalTime  departureTime  #photo  \\\n",
       "900  20741443@N00    708      7   1160213392     1160224452       4   \n",
       "901  20741443@N00    708     21   1160215990     1160216293       3   \n",
       "902  20741443@N00    708     23   1160214708     1160215087       3   \n",
       "904  20741443@N00    708     30   1160222055     1160222178       2   \n",
       "910  20741443@N00    712      7   1170541310     1170548979       7   \n",
       "\n",
       "     poiDuration(sec)  \n",
       "900             11060  \n",
       "901               303  \n",
       "902               379  \n",
       "904               123  \n",
       "910              7669  "
      ]
     },
     "execution_count": 20,
     "metadata": {},
     "output_type": "execute_result"
    }
   ],
   "source": [
    "seq_exp_all = seq_all[seq_all['seqID'].isin(seqid_list)]\n",
    "seq_exp_all.head()"
   ]
  },
  {
   "cell_type": "code",
   "execution_count": 21,
   "metadata": {
    "collapsed": false
   },
   "outputs": [
    {
     "data": {
      "text/plain": [
       "array([ 708,  712,  729,  783,  788,  807,  809,  825,  905,  920,  923,\n",
       "        979,  980, 5180, 5183, 5207, 5214, 5250, 5254, 5263, 5276, 5277,\n",
       "       5278, 5282, 5301, 5324, 5328, 5337])"
      ]
     },
     "execution_count": 21,
     "metadata": {},
     "output_type": "execute_result"
    }
   ],
   "source": [
    "seq_exp_all['seqID'].unique()"
   ]
  },
  {
   "cell_type": "code",
   "execution_count": 22,
   "metadata": {
    "collapsed": false
   },
   "outputs": [
    {
     "data": {
      "text/plain": [
       "[2, 3, 4, 6, 7, 11, 16, 17, 21, 22, 23, 24, 25, 27, 28, 29, 30]"
      ]
     },
     "execution_count": 22,
     "metadata": {},
     "output_type": "execute_result"
    }
   ],
   "source": [
    "poi_list = seq_exp_all['poiID'].unique().tolist()\n",
    "poi_list.sort()\n",
    "poi_list"
   ]
  },
  {
   "cell_type": "code",
   "execution_count": 23,
   "metadata": {
    "collapsed": false
   },
   "outputs": [],
   "source": [
    "user_seqid_all = dict()\n",
    "for user in user_list:\n",
    "    user_seqid_all[user] = seq_exp_all[seq_exp_all['userID'] == user]['seqID'].unique()"
   ]
  },
  {
   "cell_type": "code",
   "execution_count": 24,
   "metadata": {
    "collapsed": true
   },
   "outputs": [],
   "source": [
    "train_percent = 0.2\n",
    "query_percent = 0.5"
   ]
  },
  {
   "cell_type": "code",
   "execution_count": 25,
   "metadata": {
    "collapsed": true
   },
   "outputs": [],
   "source": [
    "user_seqid_train = dict()\n",
    "user_seqid_query = dict()\n",
    "user_seqid_test  = dict()"
   ]
  },
  {
   "cell_type": "code",
   "execution_count": 26,
   "metadata": {
    "collapsed": false
   },
   "outputs": [],
   "source": [
    "for user in user_list:\n",
    "    rand_idx = np.random.permutation(user_seqid_all[user].shape[0])\n",
    "    ntrain = round(train_percent*user_seqid_all[user].shape[0])\n",
    "    nquery = round(query_percent*user_seqid_all[user].shape[0])\n",
    "    user_seqid_train[user] = user_seqid_all[user][:ntrain]\n",
    "    user_seqid_query[user] = user_seqid_all[user][ntrain:ntrain+nquery]\n",
    "    user_seqid_test[user]  = user_seqid_all[user][ntrain+nquery:]"
   ]
  },
  {
   "cell_type": "code",
   "execution_count": 27,
   "metadata": {
    "collapsed": false
   },
   "outputs": [],
   "source": [
    "for user in user_list:\n",
    "    tmparray = np.sort(np.r_[user_seqid_train[user], user_seqid_query[user], user_seqid_test[user]])\n",
    "    assert(np.all(tmparray == np.sort(user_seqid_all[user])))"
   ]
  },
  {
   "cell_type": "markdown",
   "metadata": {},
   "source": [
    "## 2.5 Construct User-POI Visiting Matrix"
   ]
  },
  {
   "cell_type": "markdown",
   "metadata": {},
   "source": [
    "$M_{ij}$ denotes the number of visits for user $u_i$ at POI $p_j$, $NaN$ for non-observed visits."
   ]
  },
  {
   "cell_type": "code",
   "execution_count": 28,
   "metadata": {
    "collapsed": true
   },
   "outputs": [],
   "source": [
    "def calc_visit_df(user_list, poi_list, user_seqid_tuples):\n",
    "    # return a DataFrame counting the #visit at each POI for specified users\n",
    "    visit_df = pd.DataFrame(data=np.full((len(user_list), len(poi_list)), np.nan), columns=poi_list, index=user_list)\n",
    "    for tuple_ in user_seqid_tuples:\n",
    "        user = tuple_[0]\n",
    "        seqid = tuple_[1]\n",
    "        seq = extract_seq(seqid, seq_exp_all)\n",
    "        for poi in seq:\n",
    "            if np.isnan(visit_df.loc[user, poi]):\n",
    "                visit_df.loc[user, poi] = 1\n",
    "            else:\n",
    "                visit_df.loc[user, poi] += 1\n",
    "    return visit_df"
   ]
  },
  {
   "cell_type": "code",
   "execution_count": 29,
   "metadata": {
    "collapsed": false
   },
   "outputs": [],
   "source": [
    "user_seqid_tuples_all = [(user, seqid) for user in user_list for seqid in user_seqid_all[user]]\n",
    "#user_seqid_tuples_all\n",
    "visit_all_df = calc_visit_df(user_list, poi_list, user_seqid_tuples_all)"
   ]
  },
  {
   "cell_type": "code",
   "execution_count": 30,
   "metadata": {
    "collapsed": false
   },
   "outputs": [
    {
     "data": {
      "text/html": [
       "<div>\n",
       "<table border=\"1\" class=\"dataframe\">\n",
       "  <thead>\n",
       "    <tr style=\"text-align: right;\">\n",
       "      <th></th>\n",
       "      <th>2</th>\n",
       "      <th>3</th>\n",
       "      <th>4</th>\n",
       "      <th>6</th>\n",
       "      <th>7</th>\n",
       "      <th>11</th>\n",
       "      <th>16</th>\n",
       "      <th>17</th>\n",
       "      <th>21</th>\n",
       "      <th>22</th>\n",
       "      <th>23</th>\n",
       "      <th>24</th>\n",
       "      <th>25</th>\n",
       "      <th>27</th>\n",
       "      <th>28</th>\n",
       "      <th>29</th>\n",
       "      <th>30</th>\n",
       "    </tr>\n",
       "  </thead>\n",
       "  <tbody>\n",
       "    <tr>\n",
       "      <th>20741443@N00</th>\n",
       "      <td>NaN</td>\n",
       "      <td>NaN</td>\n",
       "      <td>NaN</td>\n",
       "      <td>NaN</td>\n",
       "      <td>11</td>\n",
       "      <td>1</td>\n",
       "      <td>NaN</td>\n",
       "      <td>NaN</td>\n",
       "      <td>6</td>\n",
       "      <td>6</td>\n",
       "      <td>7</td>\n",
       "      <td>1</td>\n",
       "      <td>NaN</td>\n",
       "      <td>NaN</td>\n",
       "      <td>3</td>\n",
       "      <td>NaN</td>\n",
       "      <td>6</td>\n",
       "    </tr>\n",
       "    <tr>\n",
       "      <th>84987970@N00</th>\n",
       "      <td>1</td>\n",
       "      <td>5</td>\n",
       "      <td>2</td>\n",
       "      <td>2</td>\n",
       "      <td>5</td>\n",
       "      <td>NaN</td>\n",
       "      <td>1</td>\n",
       "      <td>1</td>\n",
       "      <td>9</td>\n",
       "      <td>12</td>\n",
       "      <td>7</td>\n",
       "      <td>1</td>\n",
       "      <td>1</td>\n",
       "      <td>1</td>\n",
       "      <td>7</td>\n",
       "      <td>2</td>\n",
       "      <td>3</td>\n",
       "    </tr>\n",
       "  </tbody>\n",
       "</table>\n",
       "</div>"
      ],
      "text/plain": [
       "              2   3   4   6   7   11  16  17  21  22  23  24  25  27  28  29  \\\n",
       "20741443@N00 NaN NaN NaN NaN  11   1 NaN NaN   6   6   7   1 NaN NaN   3 NaN   \n",
       "84987970@N00   1   5   2   2   5 NaN   1   1   9  12   7   1   1   1   7   2   \n",
       "\n",
       "              30  \n",
       "20741443@N00   6  \n",
       "84987970@N00   3  "
      ]
     },
     "execution_count": 30,
     "metadata": {},
     "output_type": "execute_result"
    }
   ],
   "source": [
    "visit_all_df"
   ]
  },
  {
   "cell_type": "code",
   "execution_count": 31,
   "metadata": {
    "collapsed": false
   },
   "outputs": [],
   "source": [
    "nan_mask = np.isnan(visit_all_df)\n",
    "masked_visit = np.ma.masked_array(visit_all_df, nan_mask)"
   ]
  },
  {
   "cell_type": "code",
   "execution_count": 32,
   "metadata": {
    "collapsed": true
   },
   "outputs": [],
   "source": [
    "visits = pd.Series(masked_visit.flatten())"
   ]
  },
  {
   "cell_type": "code",
   "execution_count": 33,
   "metadata": {
    "collapsed": false
   },
   "outputs": [
    {
     "data": {
      "text/plain": [
       "count    24.000000\n",
       "mean      4.208333\n",
       "std       3.387691\n",
       "min       1.000000\n",
       "25%       1.000000\n",
       "50%       3.000000\n",
       "75%       6.250000\n",
       "max      12.000000\n",
       "dtype: float64"
      ]
     },
     "execution_count": 33,
     "metadata": {},
     "output_type": "execute_result"
    }
   ],
   "source": [
    "visits.describe()"
   ]
  },
  {
   "cell_type": "code",
   "execution_count": 34,
   "metadata": {
    "collapsed": false
   },
   "outputs": [
    {
     "data": {
      "text/plain": [
       "<matplotlib.axes._subplots.AxesSubplot at 0x7f06ddfc3d30>"
      ]
     },
     "execution_count": 34,
     "metadata": {},
     "output_type": "execute_result"
    },
    {
     "data": {
      "image/png": "[encoded data removed]",
      "text/plain": [
       "<matplotlib.figure.Figure at 0x7f06b95ee940>"
      ]
     },
     "metadata": {},
     "output_type": "display_data"
    }
   ],
   "source": [
    "fig, (ax1, ax2, ax3) = plt.subplots(1, 3, figsize=(15, 4))\n",
    "\n",
    "visits.plot(kind='hist', ax=ax1, bins=20, grid=False, title='Histogram of #visit')\n",
    "\n",
    "poi_means = visit_all_df.mean(axis=0, skipna=True)\n",
    "poi_means.plot(kind='bar', ax=ax2, grid=False, title='Mean #visit for all POIs')\n",
    "\n",
    "user_means = visit_all_df.mean(axis=1, skipna=True)\n",
    "user_means.plot(kind='bar', ax=ax3, grid=False, title='Mean #visit for all users')"
   ]
  },
  {
   "cell_type": "code",
   "execution_count": 35,
   "metadata": {
    "collapsed": false
   },
   "outputs": [],
   "source": [
    "user_seqid_tuples_train0 = [(user, seqid) for user in user_list for seqid in user_seqid_train[user]]\n",
    "#user_seqid_tuples_train0\n",
    "visit_train_df0 = calc_visit_df(user_list, poi_list, user_seqid_tuples_train0)"
   ]
  },
  {
   "cell_type": "code",
   "execution_count": 36,
   "metadata": {
    "collapsed": false
   },
   "outputs": [
    {
     "data": {
      "text/html": [
       "<div>\n",
       "<table border=\"1\" class=\"dataframe\">\n",
       "  <thead>\n",
       "    <tr style=\"text-align: right;\">\n",
       "      <th></th>\n",
       "      <th>2</th>\n",
       "      <th>3</th>\n",
       "      <th>4</th>\n",
       "      <th>6</th>\n",
       "      <th>7</th>\n",
       "      <th>11</th>\n",
       "      <th>16</th>\n",
       "      <th>17</th>\n",
       "      <th>21</th>\n",
       "      <th>22</th>\n",
       "      <th>23</th>\n",
       "      <th>24</th>\n",
       "      <th>25</th>\n",
       "      <th>27</th>\n",
       "      <th>28</th>\n",
       "      <th>29</th>\n",
       "      <th>30</th>\n",
       "    </tr>\n",
       "  </thead>\n",
       "  <tbody>\n",
       "    <tr>\n",
       "      <th>20741443@N00</th>\n",
       "      <td>NaN</td>\n",
       "      <td>NaN</td>\n",
       "      <td>NaN</td>\n",
       "      <td>NaN</td>\n",
       "      <td>3</td>\n",
       "      <td>NaN</td>\n",
       "      <td>NaN</td>\n",
       "      <td>NaN</td>\n",
       "      <td>1</td>\n",
       "      <td>1</td>\n",
       "      <td>3</td>\n",
       "      <td>NaN</td>\n",
       "      <td>NaN</td>\n",
       "      <td>NaN</td>\n",
       "      <td>NaN</td>\n",
       "      <td>NaN</td>\n",
       "      <td>2</td>\n",
       "    </tr>\n",
       "    <tr>\n",
       "      <th>84987970@N00</th>\n",
       "      <td>1</td>\n",
       "      <td>1</td>\n",
       "      <td>1</td>\n",
       "      <td>NaN</td>\n",
       "      <td>NaN</td>\n",
       "      <td>NaN</td>\n",
       "      <td>NaN</td>\n",
       "      <td>1</td>\n",
       "      <td>2</td>\n",
       "      <td>2</td>\n",
       "      <td>1</td>\n",
       "      <td>NaN</td>\n",
       "      <td>1</td>\n",
       "      <td>NaN</td>\n",
       "      <td>NaN</td>\n",
       "      <td>NaN</td>\n",
       "      <td>NaN</td>\n",
       "    </tr>\n",
       "  </tbody>\n",
       "</table>\n",
       "</div>"
      ],
      "text/plain": [
       "              2   3   4   6   7   11  16  17  21  22  23  24  25  27  28  29  \\\n",
       "20741443@N00 NaN NaN NaN NaN   3 NaN NaN NaN   1   1   3 NaN NaN NaN NaN NaN   \n",
       "84987970@N00   1   1   1 NaN NaN NaN NaN   1   2   2   1 NaN   1 NaN NaN NaN   \n",
       "\n",
       "              30  \n",
       "20741443@N00   2  \n",
       "84987970@N00 NaN  "
      ]
     },
     "execution_count": 36,
     "metadata": {},
     "output_type": "execute_result"
    }
   ],
   "source": [
    "visit_train_df0"
   ]
  },
  {
   "cell_type": "code",
   "execution_count": 37,
   "metadata": {
    "collapsed": false
   },
   "outputs": [],
   "source": [
    "nan_mask_train = np.isnan(visit_train_df0)\n",
    "masked_visit_train = np.ma.masked_array(visit_train_df0, nan_mask_train)"
   ]
  },
  {
   "cell_type": "code",
   "execution_count": 38,
   "metadata": {
    "collapsed": true
   },
   "outputs": [],
   "source": [
    "visits_train = pd.Series(masked_visit_train.flatten())"
   ]
  },
  {
   "cell_type": "code",
   "execution_count": 39,
   "metadata": {
    "collapsed": false
   },
   "outputs": [
    {
     "data": {
      "text/plain": [
       "count    13.000000\n",
       "mean      1.538462\n",
       "std       0.776250\n",
       "min       1.000000\n",
       "25%       1.000000\n",
       "50%       1.000000\n",
       "75%       2.000000\n",
       "max       3.000000\n",
       "dtype: float64"
      ]
     },
     "execution_count": 39,
     "metadata": {},
     "output_type": "execute_result"
    }
   ],
   "source": [
    "visits_train.describe()"
   ]
  },
  {
   "cell_type": "code",
   "execution_count": 40,
   "metadata": {
    "collapsed": false
   },
   "outputs": [
    {
     "data": {
      "text/plain": [
       "<matplotlib.axes._subplots.AxesSubplot at 0x7f06dcdd1a90>"
      ]
     },
     "execution_count": 40,
     "metadata": {},
     "output_type": "execute_result"
    },
    {
     "data": {
      "image/png": "[encoded data removed]",
      "text/plain": [
       "<matplotlib.figure.Figure at 0x7f06c42e7518>"
      ]
     },
     "metadata": {},
     "output_type": "display_data"
    }
   ],
   "source": [
    "fig, (ax1, ax2, ax3) = plt.subplots(1, 3, figsize=(15, 4))\n",
    "\n",
    "visits_train.plot(kind='hist', ax=ax1, bins=20, grid=False, title='Histogram of #visit')\n",
    "\n",
    "poi_means_train = visit_train_df0.mean(axis=0, skipna=True)\n",
    "poi_means_train.plot(kind='bar', ax=ax2, grid=False, title='Mean #visit for all POIs in training set')\n",
    "\n",
    "user_means_train = visit_train_df0.mean(axis=1, skipna=True)\n",
    "user_means_train.plot(kind='bar', ax=ax3, grid=False, title='Mean #visit for all users in training set')"
   ]
  },
  {
   "cell_type": "markdown",
   "metadata": {},
   "source": [
    "## 2.6 Training using BPR"
   ]
  },
  {
   "cell_type": "markdown",
   "metadata": {},
   "source": [
    "Compute index $(u, i, j)$ for user $u$ and visited POI $i$ and unvisited POI $j$."
   ]
  },
  {
   "cell_type": "code",
   "execution_count": 41,
   "metadata": {
    "collapsed": true
   },
   "outputs": [],
   "source": [
    "def calc_x_ind(visit_train_df):\n",
    "    # return array that stores tuple (u, i, j)\n",
    "    # user u\n",
    "    # POI i: u visited POI i\n",
    "    # POI j: u didn't visit POI j\n",
    "    \n",
    "    # NaN indicator matrix\n",
    "    nan_ind = np.isnan(visit_train_df)\n",
    "    #print(nan_ind)\n",
    "    \n",
    "    # array that stores tuple (u, i, j)\n",
    "    x_ind = []\n",
    "    for u in np.arange(visit_train_df.shape[0]):\n",
    "        #print(np.nonzero(nan_ind.iloc[u])[0])\n",
    "        unvisited_ind = np.nonzero(nan_ind.iloc[u])[0]\n",
    "        visited_ind = np.nonzero(~nan_ind.iloc[u])[0]\n",
    "        tuples_u = [[u, i, j] for i in visited_ind for j in unvisited_ind]\n",
    "        if len(x_ind) == 0:\n",
    "            x_ind = tuples_u\n",
    "        else:\n",
    "            x_ind = np.r_[x_ind, tuples_u]\n",
    "        \n",
    "    return x_ind"
   ]
  },
  {
   "cell_type": "markdown",
   "metadata": {},
   "source": [
    "Sanity check."
   ]
  },
  {
   "cell_type": "code",
   "execution_count": 42,
   "metadata": {
    "collapsed": false
   },
   "outputs": [],
   "source": [
    "#x_ind0 = calc_x_ind(visit_train_df)"
   ]
  },
  {
   "cell_type": "code",
   "execution_count": 43,
   "metadata": {
    "collapsed": false
   },
   "outputs": [],
   "source": [
    "#print(x_ind0)"
   ]
  },
  {
   "cell_type": "markdown",
   "metadata": {},
   "source": [
    "Objective function and gradient of (negative) BPR-OPT."
   ]
  },
  {
   "cell_type": "code",
   "execution_count": 44,
   "metadata": {
    "collapsed": true
   },
   "outputs": [],
   "source": [
    "def obj_func(Theta, x_ind, nUser, Lambda):\n",
    "    \"\"\"\n",
    "    :param Theta: ndarray, feature vectors/matrix of user and POI\n",
    "    :param x_ind: ndarray, array contains tuple (u, i, j)\n",
    "    :param nUser: int, number of users\n",
    "    :param Lambda: float, regularization parameter\n",
    "    :return negative of BPR-OPT, gradient of negative BPR-OPT w.r.t. parameters\n",
    "    \"\"\"\n",
    "    \n",
    "    # user features\n",
    "    Theta_u = Theta[:nUser]\n",
    "    \n",
    "    # POI features\n",
    "    Theta_p = Theta[nUser:]\n",
    "    \n",
    "    # user features w.r.t. index u\n",
    "    f_u = Theta_u[x_ind[:, 0]]\n",
    "    \n",
    "    # POI features w.r.t. index i\n",
    "    f_i = Theta_p[x_ind[:, 1]]\n",
    "    \n",
    "    # POI features w.r.t. index j\n",
    "    f_j = Theta_p[x_ind[:, 2]]\n",
    "    \n",
    "    assert(f_u.shape == f_i.shape == f_j.shape)\n",
    "    \n",
    "    # \\hat{x}_{ui} = dot_product(feature vector of user u, feature vector of POI i)\n",
    "    x_ui = [np.dot(f_u[idx], f_i[idx]) for idx in np.arange(x_ind.shape[0])]\n",
    "    #print(x_ui)\n",
    "    \n",
    "    # \\hat{x}_{uj}\n",
    "    x_uj = [np.dot(f_u[idx], f_j[idx]) for idx in np.arange(x_ind.shape[0])]\n",
    "    #print(x_uj)\n",
    "    \n",
    "    # \\hat{x}_{uij} = \\hat{x}_{ui} - \\hat{x}_{uj}\n",
    "    x_uij = np.array(x_ui) - np.array(x_uj)\n",
    "    #print(x_uij)\n",
    "    \n",
    "    # sum( ln( sigmoid(x_uij) ))\n",
    "    obj = np.sum(np.log(1. / (1. + np.exp(-x_uij))))\n",
    "    \n",
    "    # regularization term\n",
    "    #obj -= Lambda * np.multiply(Theta, Theta).sum() # causes math overflow when lambda=1\n",
    "    \n",
    "    # compute (negative) gradient of (negative) BPR-OPT w.r.t. model parameters\n",
    "    # for SGD, just compute gradients given a random tuple (u, i, j) \n",
    "    grad_u = np.zeros_like(Theta_u, dtype=np.float)\n",
    "    grad_p = np.zeros_like(Theta_p, dtype=np.float)   \n",
    "    idx = np.random.choice(np.arange(x_ind.shape[0]))\n",
    "    u, i, j = x_ind[idx]\n",
    "    grad_u[u] = Theta_p[i] - Theta_p[j]\n",
    "    grad_p[i] = Theta_u[u]\n",
    "    grad_p[j] = -Theta_u[u]\n",
    "    \n",
    "    tmpval = math.exp(-x_uij[idx])\n",
    "    grad = -tmpval / (1 + tmpval) * np.r_[grad_u, grad_p]\n",
    "    #grad -= Lambda * Theta # regularization term # causes math overflow when lambda=1\n",
    "    \n",
    "    return obj, grad"
   ]
  },
  {
   "cell_type": "code",
   "execution_count": 45,
   "metadata": {
    "collapsed": true
   },
   "outputs": [],
   "source": [
    "def learn_BPR_SGD(visit_train_df, Theta0, Lambda, Alpha=1e-2, maxIter=1e6, ftol=1e-9):\n",
    "    # learning procedure, maximize BPR-OPT w.r.t model parameters using stochastic gradient descent\n",
    "    # return model parameters and objective history\n",
    "    \n",
    "    # number of users\n",
    "    nUser = visit_train_df.shape[0]\n",
    "    \n",
    "    # index (u, i, j)\n",
    "    x_ind = calc_x_ind(visit_train_df)\n",
    "    \n",
    "    Theta = Theta0.copy()\n",
    "    \n",
    "    nit = 0\n",
    "    obj_prev = 0\n",
    "    obj_history = []\n",
    "    printstep = round(maxIter / 10, 2)\n",
    "    \n",
    "    while True:\n",
    "        f, df = obj_func(Theta, x_ind, nUser, Lambda)\n",
    "        if abs(obj_prev - f) < ftol or nit > maxIter:\n",
    "            break\n",
    "        obj_prev = f\n",
    "        Theta -= Alpha * df\n",
    "        obj_history.append(f)\n",
    "        if nit % printstep == 0:\n",
    "            print('Iteration %d, Objective: %.8f' % (nit, f)); sys.stdout.flush()\n",
    "        nit += 1\n",
    "            \n",
    "    print('Iteration %d, Objective: %.8f' % (nit, obj_history[-1]))\n",
    "    print('diff: %f' % np.abs(Theta - Theta0).sum())\n",
    "    \n",
    "    return Theta, obj_history\n",
    "    \n",
    "    #'Desired error not necessarily achieved due to precision loss.'\n",
    "    #Theta = Theta0.reshape(np.prod(Theta0.shape)) # reshape to 1-dimension vector\n",
    "    # minimize objective function using stochastic gradient descent (encoded in obj_func)\n",
    "    # using scipy.minimize\n",
    "    #result = sop.minimize(fun=obj_func, x0=Theta, args=(x_ind, nUser, Lambda), jac=True)\n",
    "    #print(result)\n",
    "    #if result.success:\n",
    "        #return result.x.reshape(Theta0.shape)\n",
    "    #else:\n",
    "        #return None"
   ]
  },
  {
   "cell_type": "code",
   "execution_count": 46,
   "metadata": {
    "collapsed": false
   },
   "outputs": [],
   "source": [
    "# dimension for hidden features\n",
    "# for each user: a DIM feature vector\n",
    "# for each POI: a DIM feature vector\n",
    "DIM = 10\n",
    "\n",
    "# regularization constant\n",
    "Lambda = 1e-5\n",
    "\n",
    "# learning rate\n",
    "Alpha = 0.01\n",
    "\n",
    "# maximum number of iteration\n",
    "maxIter = 1e6\n",
    "\n",
    "# feature matrix\n",
    "# for users: |U| x DIM\n",
    "# for POIs: |POI| x DIM\n",
    "Theta0 = np.random.rand(len(user_list) + len(poi_list), DIM)"
   ]
  },
  {
   "cell_type": "code",
   "execution_count": 47,
   "metadata": {
    "collapsed": false
   },
   "outputs": [
    {
     "name": "stdout",
     "output_type": "stream",
     "text": [
      "Iteration 0, Objective: -109.87386597\n",
      "Iteration 100000, Objective: -0.03697523\n",
      "Iteration 200000, Objective: -0.01642004\n",
      "Iteration 300000, Objective: -0.01031260\n",
      "Iteration 400000, Objective: -0.00742841\n",
      "Iteration 500000, Objective: -0.00576530\n",
      "Iteration 600000, Objective: -0.00469360\n",
      "Iteration 700000, Objective: -0.00394517\n",
      "Iteration 719829, Objective: -0.00382347\n",
      "diff: 81.519986\n"
     ]
    }
   ],
   "source": [
    "Theta, history = learn_BPR_SGD(visit_train_df0, Theta0, Lambda, Alpha, maxIter)"
   ]
  },
  {
   "cell_type": "code",
   "execution_count": 48,
   "metadata": {
    "collapsed": false
   },
   "outputs": [
    {
     "data": {
      "text/plain": [
       "[<matplotlib.lines.Line2D at 0x7f06b60f49e8>]"
      ]
     },
     "execution_count": 48,
     "metadata": {},
     "output_type": "execute_result"
    },
    {
     "data": {
      "image/png": "[encoded data removed]",
      "text/plain": [
       "<matplotlib.figure.Figure at 0x7f06c430e860>"
      ]
     },
     "metadata": {},
     "output_type": "display_data"
    }
   ],
   "source": [
    "plt.figure(figsize=[16, 6])\n",
    "plt.xlabel('#Iteration')\n",
    "plt.ylabel('Objective')\n",
    "plt.plot(np.arange(len(history)), history, ls='--', marker='+', color='g')"
   ]
  },
  {
   "cell_type": "code",
   "execution_count": 49,
   "metadata": {
    "collapsed": false
   },
   "outputs": [],
   "source": [
    "def calc_predicted_df(Theta, user_list, poi_list):\n",
    "    nUser = len(user_list)\n",
    "    Theta_u = Theta[:nUser] # user features\n",
    "    Theta_p = Theta[nUser:] # POI features\n",
    "    predicted_df = pd.DataFrame(data=np.zeros((nUser, len(poi_list)), dtype=np.float), columns=poi_list, index=user_list)\n",
    "    for u in np.arange(len(user_list)):\n",
    "        user = user_list[u]\n",
    "        for p in np.arange(len(poi_list)):\n",
    "            poi = poi_list[p]\n",
    "            predicted_df.loc[user, poi] = np.dot(Theta_u[u], Theta_p[p])\n",
    "    return predicted_df"
   ]
  },
  {
   "cell_type": "code",
   "execution_count": 50,
   "metadata": {
    "collapsed": false
   },
   "outputs": [],
   "source": [
    "def calc_compare_df(visited_df, predicted_df, scale_factor=1):\n",
    "    userlist_ = predicted_df.index.tolist()\n",
    "    poilist_ = predicted_df.columns.tolist()\n",
    "    compare_df = pd.DataFrame(data=np.zeros((len(poilist_), 2*len(userlist_)), dtype=np.float), index=poilist_)\n",
    "    for u in range(len(userlist_)):\n",
    "        user = userlist_[u]\n",
    "        compare_df.iloc[:, 2*u] = visited_df.loc[user]\n",
    "        compare_df.iloc[:, 2*u+1] = np.round(predicted_df.loc[user]*scale_factor, 1)\n",
    "        compare_df.rename(columns=\\\n",
    "                          {compare_df.columns[2*u]:'REAL_' + str(user), compare_df.columns[2*u+1]:'PRED_' + str(user)}, \\\n",
    "                          inplace=True)\n",
    "    return compare_df"
   ]
  },
  {
   "cell_type": "code",
   "execution_count": 51,
   "metadata": {
    "collapsed": false
   },
   "outputs": [
    {
     "data": {
      "text/html": [
       "<div>\n",
       "<table border=\"1\" class=\"dataframe\">\n",
       "  <thead>\n",
       "    <tr style=\"text-align: right;\">\n",
       "      <th></th>\n",
       "      <th>2</th>\n",
       "      <th>3</th>\n",
       "      <th>4</th>\n",
       "      <th>6</th>\n",
       "      <th>7</th>\n",
       "      <th>11</th>\n",
       "      <th>16</th>\n",
       "      <th>17</th>\n",
       "      <th>21</th>\n",
       "      <th>22</th>\n",
       "      <th>23</th>\n",
       "      <th>24</th>\n",
       "      <th>25</th>\n",
       "      <th>27</th>\n",
       "      <th>28</th>\n",
       "      <th>29</th>\n",
       "      <th>30</th>\n",
       "    </tr>\n",
       "  </thead>\n",
       "  <tbody>\n",
       "    <tr>\n",
       "      <th>20741443@N00</th>\n",
       "      <td>2.275346</td>\n",
       "      <td>1.974749</td>\n",
       "      <td>1.984462</td>\n",
       "      <td>2.175081</td>\n",
       "      <td>12.117608</td>\n",
       "      <td>1.778905</td>\n",
       "      <td>0.516224</td>\n",
       "      <td>2.229536</td>\n",
       "      <td>12.435821</td>\n",
       "      <td>12.353982</td>\n",
       "      <td>12.302821</td>\n",
       "      <td>1.203774</td>\n",
       "      <td>2.147599</td>\n",
       "      <td>1.666912</td>\n",
       "      <td>1.851245</td>\n",
       "      <td>1.664748</td>\n",
       "      <td>12.177024</td>\n",
       "    </tr>\n",
       "    <tr>\n",
       "      <th>84987970@N00</th>\n",
       "      <td>10.469863</td>\n",
       "      <td>10.726733</td>\n",
       "      <td>10.670921</td>\n",
       "      <td>-1.021348</td>\n",
       "      <td>0.542807</td>\n",
       "      <td>-0.159653</td>\n",
       "      <td>0.447198</td>\n",
       "      <td>10.656986</td>\n",
       "      <td>10.692132</td>\n",
       "      <td>11.005219</td>\n",
       "      <td>11.071115</td>\n",
       "      <td>0.309677</td>\n",
       "      <td>10.549592</td>\n",
       "      <td>0.127433</td>\n",
       "      <td>0.137684</td>\n",
       "      <td>0.237142</td>\n",
       "      <td>0.524658</td>\n",
       "    </tr>\n",
       "  </tbody>\n",
       "</table>\n",
       "</div>"
      ],
      "text/plain": [
       "                     2          3          4         6          7         11  \\\n",
       "20741443@N00   2.275346   1.974749   1.984462  2.175081  12.117608  1.778905   \n",
       "84987970@N00  10.469863  10.726733  10.670921 -1.021348   0.542807 -0.159653   \n",
       "\n",
       "                    16         17         21         22         23        24  \\\n",
       "20741443@N00  0.516224   2.229536  12.435821  12.353982  12.302821  1.203774   \n",
       "84987970@N00  0.447198  10.656986  10.692132  11.005219  11.071115  0.309677   \n",
       "\n",
       "                     25        27        28        29         30  \n",
       "20741443@N00   2.147599  1.666912  1.851245  1.664748  12.177024  \n",
       "84987970@N00  10.549592  0.127433  0.137684  0.237142   0.524658  "
      ]
     },
     "execution_count": 51,
     "metadata": {},
     "output_type": "execute_result"
    }
   ],
   "source": [
    "predicted_df = calc_predicted_df(Theta, user_list, poi_list)\n",
    "predicted_df"
   ]
  },
  {
   "cell_type": "code",
   "execution_count": 52,
   "metadata": {
    "collapsed": false
   },
   "outputs": [
    {
     "data": {
      "text/html": [
       "<div>\n",
       "<table border=\"1\" class=\"dataframe\">\n",
       "  <thead>\n",
       "    <tr style=\"text-align: right;\">\n",
       "      <th></th>\n",
       "      <th>REAL_20741443@N00</th>\n",
       "      <th>PRED_20741443@N00</th>\n",
       "      <th>REAL_84987970@N00</th>\n",
       "      <th>PRED_84987970@N00</th>\n",
       "    </tr>\n",
       "  </thead>\n",
       "  <tbody>\n",
       "    <tr>\n",
       "      <th>2</th>\n",
       "      <td>NaN</td>\n",
       "      <td>2.3</td>\n",
       "      <td>1</td>\n",
       "      <td>10.5</td>\n",
       "    </tr>\n",
       "    <tr>\n",
       "      <th>3</th>\n",
       "      <td>NaN</td>\n",
       "      <td>2.0</td>\n",
       "      <td>5</td>\n",
       "      <td>10.7</td>\n",
       "    </tr>\n",
       "    <tr>\n",
       "      <th>4</th>\n",
       "      <td>NaN</td>\n",
       "      <td>2.0</td>\n",
       "      <td>2</td>\n",
       "      <td>10.7</td>\n",
       "    </tr>\n",
       "    <tr>\n",
       "      <th>6</th>\n",
       "      <td>NaN</td>\n",
       "      <td>2.2</td>\n",
       "      <td>2</td>\n",
       "      <td>-1.0</td>\n",
       "    </tr>\n",
       "    <tr>\n",
       "      <th>7</th>\n",
       "      <td>11</td>\n",
       "      <td>12.1</td>\n",
       "      <td>5</td>\n",
       "      <td>0.5</td>\n",
       "    </tr>\n",
       "    <tr>\n",
       "      <th>11</th>\n",
       "      <td>1</td>\n",
       "      <td>1.8</td>\n",
       "      <td>NaN</td>\n",
       "      <td>-0.2</td>\n",
       "    </tr>\n",
       "    <tr>\n",
       "      <th>16</th>\n",
       "      <td>NaN</td>\n",
       "      <td>0.5</td>\n",
       "      <td>1</td>\n",
       "      <td>0.4</td>\n",
       "    </tr>\n",
       "    <tr>\n",
       "      <th>17</th>\n",
       "      <td>NaN</td>\n",
       "      <td>2.2</td>\n",
       "      <td>1</td>\n",
       "      <td>10.7</td>\n",
       "    </tr>\n",
       "    <tr>\n",
       "      <th>21</th>\n",
       "      <td>6</td>\n",
       "      <td>12.4</td>\n",
       "      <td>9</td>\n",
       "      <td>10.7</td>\n",
       "    </tr>\n",
       "    <tr>\n",
       "      <th>22</th>\n",
       "      <td>6</td>\n",
       "      <td>12.4</td>\n",
       "      <td>12</td>\n",
       "      <td>11.0</td>\n",
       "    </tr>\n",
       "    <tr>\n",
       "      <th>23</th>\n",
       "      <td>7</td>\n",
       "      <td>12.3</td>\n",
       "      <td>7</td>\n",
       "      <td>11.1</td>\n",
       "    </tr>\n",
       "    <tr>\n",
       "      <th>24</th>\n",
       "      <td>1</td>\n",
       "      <td>1.2</td>\n",
       "      <td>1</td>\n",
       "      <td>0.3</td>\n",
       "    </tr>\n",
       "    <tr>\n",
       "      <th>25</th>\n",
       "      <td>NaN</td>\n",
       "      <td>2.1</td>\n",
       "      <td>1</td>\n",
       "      <td>10.5</td>\n",
       "    </tr>\n",
       "    <tr>\n",
       "      <th>27</th>\n",
       "      <td>NaN</td>\n",
       "      <td>1.7</td>\n",
       "      <td>1</td>\n",
       "      <td>0.1</td>\n",
       "    </tr>\n",
       "    <tr>\n",
       "      <th>28</th>\n",
       "      <td>3</td>\n",
       "      <td>1.9</td>\n",
       "      <td>7</td>\n",
       "      <td>0.1</td>\n",
       "    </tr>\n",
       "    <tr>\n",
       "      <th>29</th>\n",
       "      <td>NaN</td>\n",
       "      <td>1.7</td>\n",
       "      <td>2</td>\n",
       "      <td>0.2</td>\n",
       "    </tr>\n",
       "    <tr>\n",
       "      <th>30</th>\n",
       "      <td>6</td>\n",
       "      <td>12.2</td>\n",
       "      <td>3</td>\n",
       "      <td>0.5</td>\n",
       "    </tr>\n",
       "  </tbody>\n",
       "</table>\n",
       "</div>"
      ],
      "text/plain": [
       "    REAL_20741443@N00  PRED_20741443@N00  REAL_84987970@N00  PRED_84987970@N00\n",
       "2                 NaN                2.3                  1               10.5\n",
       "3                 NaN                2.0                  5               10.7\n",
       "4                 NaN                2.0                  2               10.7\n",
       "6                 NaN                2.2                  2               -1.0\n",
       "7                  11               12.1                  5                0.5\n",
       "11                  1                1.8                NaN               -0.2\n",
       "16                NaN                0.5                  1                0.4\n",
       "17                NaN                2.2                  1               10.7\n",
       "21                  6               12.4                  9               10.7\n",
       "22                  6               12.4                 12               11.0\n",
       "23                  7               12.3                  7               11.1\n",
       "24                  1                1.2                  1                0.3\n",
       "25                NaN                2.1                  1               10.5\n",
       "27                NaN                1.7                  1                0.1\n",
       "28                  3                1.9                  7                0.1\n",
       "29                NaN                1.7                  2                0.2\n",
       "30                  6               12.2                  3                0.5"
      ]
     },
     "execution_count": 52,
     "metadata": {},
     "output_type": "execute_result"
    }
   ],
   "source": [
    "compare_df = calc_compare_df(visit_all_df, predicted_df)\n",
    "compare_df"
   ]
  },
  {
   "cell_type": "markdown",
   "metadata": {},
   "source": [
    "Compute the ranking order error, i.e. visited POI should ranked above unvisited POI, otherwise it's an error."
   ]
  },
  {
   "cell_type": "code",
   "execution_count": 53,
   "metadata": {
    "collapsed": true
   },
   "outputs": [],
   "source": [
    "def calc_order_error(visited_df, predicted_df):\n",
    "    error_rates = dict()\n",
    "    nan_ind = np.isnan(visited_df) # NaN indicator matrix\n",
    "    for u in range(visited_df.shape[0]):\n",
    "        unvisited_ind = np.nonzero(nan_ind.iloc[u])[0]\n",
    "        visited_ind = np.nonzero(~nan_ind.iloc[u])[0]\n",
    "        total = len(visited_ind) * len(unvisited_ind)\n",
    "        error = 0\n",
    "        for idx in unvisited_ind:\n",
    "            #print(predicted_df.iloc[u, idx])\n",
    "            #print(predicted_df.iloc[u, visited_ind].values)\n",
    "            error += np.sum(predicted_df.iloc[u, idx] > predicted_df.iloc[u, visited_ind].values)\n",
    "        #error_rates[predicted_df.index[u]] = [error / total, error, total]\n",
    "        error_rates[predicted_df.index[u]] = error / total\n",
    "    return error_rates"
   ]
  },
  {
   "cell_type": "code",
   "execution_count": 54,
   "metadata": {
    "collapsed": false
   },
   "outputs": [
    {
     "data": {
      "text/plain": [
       "{'20741443@N00': 0.27777777777777779, '84987970@N00': 0.0625}"
      ]
     },
     "execution_count": 54,
     "metadata": {},
     "output_type": "execute_result"
    }
   ],
   "source": [
    "calc_order_error(visit_all_df, predicted_df)"
   ]
  },
  {
   "cell_type": "code",
   "execution_count": 55,
   "metadata": {
    "collapsed": false
   },
   "outputs": [
    {
     "data": {
      "text/plain": [
       "{'20741443@N00': 0.0, '84987970@N00': 0.0}"
      ]
     },
     "execution_count": 55,
     "metadata": {},
     "output_type": "execute_result"
    }
   ],
   "source": [
    "train_error_rates0 = calc_order_error(visit_train_df0, predicted_df)\n",
    "train_error_rates0"
   ]
  },
  {
   "cell_type": "code",
   "execution_count": 56,
   "metadata": {
    "collapsed": false
   },
   "outputs": [],
   "source": [
    "user_seqid_tuples_test0 = [(user, seqid) for user in user_list for seqid in user_seqid_test[user]]\n",
    "visit_test_df0 = calc_visit_df(user_list, poi_list, user_seqid_tuples_test0)"
   ]
  },
  {
   "cell_type": "code",
   "execution_count": 57,
   "metadata": {
    "collapsed": false
   },
   "outputs": [
    {
     "data": {
      "text/plain": [
       "{'20741443@N00': 0.21428571428571427, '84987970@N00': 0.18181818181818182}"
      ]
     },
     "execution_count": 57,
     "metadata": {},
     "output_type": "execute_result"
    }
   ],
   "source": [
    "test_error_rates0 = calc_order_error(visit_test_df0, predicted_df)\n",
    "test_error_rates0"
   ]
  },
  {
   "cell_type": "markdown",
   "metadata": {},
   "source": [
    "## 3. Recommendation with Query Strategies"
   ]
  },
  {
   "cell_type": "code",
   "execution_count": 58,
   "metadata": {
    "collapsed": true
   },
   "outputs": [],
   "source": [
    "def enum_poi_set(poi_list, startPOI, endPOI, nPOI):\n",
    "    \"\"\"\n",
    "    Enumerate all possible subset of poi_list without startPOI and endPOI,\n",
    "    The size of subset is nPOI-2\n",
    "    \"\"\"\n",
    "    assert(nPOI > 2)\n",
    "    assert(nPOI < len(poi_list))\n",
    "    tuples = itertools.combinations([p for p in poi_list if p not in {startPOI, endPOI}], nPOI-2)\n",
    "    terminals = [startPOI, endPOI]\n",
    "    return [terminals.copy() + list(x) for x in tuples]"
   ]
  },
  {
   "cell_type": "code",
   "execution_count": 59,
   "metadata": {
    "collapsed": false
   },
   "outputs": [],
   "source": [
    "# sanity check\n",
    "#possible_sets = enum_poi_set(poi_list, 7, 23, 3)\n",
    "#print(poi_list)\n",
    "#possible_sets"
   ]
  },
  {
   "cell_type": "code",
   "execution_count": 60,
   "metadata": {
    "collapsed": true
   },
   "outputs": [],
   "source": [
    "def calc_poi_set_distribution(poi_set_list, user, predicted_df):\n",
    "    probs = np.zeros(len(poi_set_list), dtype=np.float)\n",
    "    for i in range(len(poi_set_list)):\n",
    "        probs[i] = predicted_df.loc[user, poi_set_list[i]].sum()\n",
    "    #print(probs)\n",
    "    probs /= probs.sum()\n",
    "    return probs"
   ]
  },
  {
   "cell_type": "code",
   "execution_count": 61,
   "metadata": {
    "collapsed": false
   },
   "outputs": [],
   "source": [
    "# sanity check\n",
    "#possible_sets = enum_poi_set(poi_list, 7, 23, 3)\n",
    "#print(possible_sets)\n",
    "#predicted_df.transpose()"
   ]
  },
  {
   "cell_type": "code",
   "execution_count": 62,
   "metadata": {
    "collapsed": false
   },
   "outputs": [],
   "source": [
    "#predicted_df.loc['20741443@N00', 7] + predicted_df.loc['20741443@N00', 23] + predicted_df.loc['20741443@N00', 30] "
   ]
  },
  {
   "cell_type": "code",
   "execution_count": 63,
   "metadata": {
    "collapsed": false
   },
   "outputs": [],
   "source": [
    "#probs = calc_poi_set_distribution(possible_sets, '20741443@N00', predicted_df)\n",
    "#probs"
   ]
  },
  {
   "cell_type": "code",
   "execution_count": 64,
   "metadata": {
    "collapsed": true
   },
   "outputs": [],
   "source": [
    "def calc_F1score(poi_set_act, poi_set_rec):\n",
    "    assert(len(poi_set_act) > 0)\n",
    "    assert(len(poi_set_rec) > 0)\n",
    "    actset = set(poi_set_act)\n",
    "    recset = set(poi_set_rec)\n",
    "    intersect = actset & recset\n",
    "    recall = len(intersect) / len(poi_set_act)\n",
    "    precision = len(intersect) / len(poi_set_rec)\n",
    "    F1score = 2. * precision * recall / (precision + recall)\n",
    "    return F1score"
   ]
  },
  {
   "cell_type": "code",
   "execution_count": 65,
   "metadata": {
    "collapsed": true
   },
   "outputs": [],
   "source": [
    "def evaluate(Theta, user_list, poi_list, user_seqid_tuples_test):\n",
    "    predicted_df = calc_predicted_df(Theta, user_list, poi_list)\n",
    "    F1scores = []\n",
    "    for user, seqid in user_seqid_tuples_test:\n",
    "        poi_set_act = extract_seq(seqid, seq_exp_all)\n",
    "        #print(poi_set_act)\n",
    "        p_idx = predicted_df.loc[user].argsort()\n",
    "        #print(p_idx)\n",
    "        decreased = predicted_df.columns[p_idx.values][::-1]\n",
    "        #print(decreased)\n",
    "        poi_set_rec = [p for p in decreased if p not in {poi_set_act[0], poi_set_act[-1]}][:len(poi_set_act)-2]\n",
    "        #print(poi_set_rec)\n",
    "        poi_set_rec.extend([poi_set_act[0], poi_set_act[-1]])\n",
    "        #print(poi_set_rec)\n",
    "        F1 = calc_F1score(poi_set_act, poi_set_rec)\n",
    "        #print(F1)\n",
    "        F1scores.append(F1)\n",
    "    return F1scores"
   ]
  },
  {
   "cell_type": "markdown",
   "metadata": {},
   "source": [
    "Evaluation using algorithm trained by initial training set."
   ]
  },
  {
   "cell_type": "code",
   "execution_count": 66,
   "metadata": {
    "collapsed": true
   },
   "outputs": [],
   "source": [
    "user_seqid_tuples_query0 = [(user, seqid) for user in user_list for seqid in user_seqid_query[user]]"
   ]
  },
  {
   "cell_type": "code",
   "execution_count": 67,
   "metadata": {
    "collapsed": false
   },
   "outputs": [
    {
     "name": "stdout",
     "output_type": "stream",
     "text": [
      "Iteration 0, Objective: -95.58195348\n",
      "Iteration 100000, Objective: -0.03690923\n",
      "Iteration 200000, Objective: -0.01638153\n",
      "Iteration 300000, Objective: -0.01025967\n",
      "Iteration 400000, Objective: -0.00738645\n",
      "Iteration 500000, Objective: -0.00573446\n",
      "Iteration 600000, Objective: -0.00466936\n",
      "Iteration 700000, Objective: -0.00392440\n",
      "Iteration 760377, Objective: -0.00357594\n",
      "diff: 79.836887\n",
      "F1: (0.72, 0.11)\n"
     ]
    }
   ],
   "source": [
    "Theta0 = np.random.rand(len(user_list) + len(poi_list), DIM)\n",
    "Theta_init, history = learn_BPR_SGD(visit_train_df0, Theta0, Lambda, Alpha, maxIter)\n",
    "F1scores_init = evaluate(Theta_init, user_list, poi_list, user_seqid_tuples_test0)\n",
    "print('F1: (%.2f, %.2f)' % (np.mean(F1scores_init), np.std(F1scores_init)))"
   ]
  },
  {
   "cell_type": "code",
   "execution_count": 68,
   "metadata": {
    "collapsed": false
   },
   "outputs": [
    {
     "data": {
      "text/html": [
       "<div>\n",
       "<table border=\"1\" class=\"dataframe\">\n",
       "  <thead>\n",
       "    <tr style=\"text-align: right;\">\n",
       "      <th></th>\n",
       "      <th>2</th>\n",
       "      <th>3</th>\n",
       "      <th>4</th>\n",
       "      <th>6</th>\n",
       "      <th>7</th>\n",
       "      <th>11</th>\n",
       "      <th>16</th>\n",
       "      <th>17</th>\n",
       "      <th>21</th>\n",
       "      <th>22</th>\n",
       "      <th>23</th>\n",
       "      <th>24</th>\n",
       "      <th>25</th>\n",
       "      <th>27</th>\n",
       "      <th>28</th>\n",
       "      <th>29</th>\n",
       "      <th>30</th>\n",
       "    </tr>\n",
       "  </thead>\n",
       "  <tbody>\n",
       "    <tr>\n",
       "      <th>20741443@N00</th>\n",
       "      <td>2.045006</td>\n",
       "      <td>2.157343</td>\n",
       "      <td>1.852842</td>\n",
       "      <td>0.157882</td>\n",
       "      <td>11.998237</td>\n",
       "      <td>1.919923</td>\n",
       "      <td>0.194159</td>\n",
       "      <td>1.955331</td>\n",
       "      <td>12.095283</td>\n",
       "      <td>12.088179</td>\n",
       "      <td>12.046194</td>\n",
       "      <td>1.171281</td>\n",
       "      <td>2.043037</td>\n",
       "      <td>1.202840</td>\n",
       "      <td>1.007795</td>\n",
       "      <td>1.070159</td>\n",
       "      <td>12.005806</td>\n",
       "    </tr>\n",
       "    <tr>\n",
       "      <th>84987970@N00</th>\n",
       "      <td>10.760220</td>\n",
       "      <td>10.678558</td>\n",
       "      <td>10.784970</td>\n",
       "      <td>0.537852</td>\n",
       "      <td>0.654835</td>\n",
       "      <td>-0.459652</td>\n",
       "      <td>0.488188</td>\n",
       "      <td>10.785083</td>\n",
       "      <td>11.489155</td>\n",
       "      <td>11.399070</td>\n",
       "      <td>11.538944</td>\n",
       "      <td>0.180398</td>\n",
       "      <td>10.748520</td>\n",
       "      <td>0.343746</td>\n",
       "      <td>0.404408</td>\n",
       "      <td>0.408547</td>\n",
       "      <td>0.607779</td>\n",
       "    </tr>\n",
       "  </tbody>\n",
       "</table>\n",
       "</div>"
      ],
      "text/plain": [
       "                     2          3          4         6          7         11  \\\n",
       "20741443@N00   2.045006   2.157343   1.852842  0.157882  11.998237  1.919923   \n",
       "84987970@N00  10.760220  10.678558  10.784970  0.537852   0.654835 -0.459652   \n",
       "\n",
       "                    16         17         21         22         23        24  \\\n",
       "20741443@N00  0.194159   1.955331  12.095283  12.088179  12.046194  1.171281   \n",
       "84987970@N00  0.488188  10.785083  11.489155  11.399070  11.538944  0.180398   \n",
       "\n",
       "                     25        27        28        29         30  \n",
       "20741443@N00   2.043037  1.202840  1.007795  1.070159  12.005806  \n",
       "84987970@N00  10.748520  0.343746  0.404408  0.408547   0.607779  "
      ]
     },
     "execution_count": 68,
     "metadata": {},
     "output_type": "execute_result"
    }
   ],
   "source": [
    "predicted_df0 = calc_predicted_df(Theta_init, user_list, poi_list)\n",
    "predicted_df0"
   ]
  },
  {
   "cell_type": "markdown",
   "metadata": {
    "collapsed": true
   },
   "source": [
    "## 3.1 Random Baseline"
   ]
  },
  {
   "cell_type": "markdown",
   "metadata": {},
   "source": [
    "Random baseline, i.e. passive learning."
   ]
  },
  {
   "cell_type": "markdown",
   "metadata": {},
   "source": [
    "Trajectory recommendation mesures."
   ]
  },
  {
   "cell_type": "code",
   "execution_count": 69,
   "metadata": {
    "collapsed": true
   },
   "outputs": [],
   "source": [
    "F1scores_rand = []\n",
    "F1scores_rand.append(F1scores_init)"
   ]
  },
  {
   "cell_type": "markdown",
   "metadata": {},
   "source": [
    "POI ranking mesures."
   ]
  },
  {
   "cell_type": "code",
   "execution_count": 70,
   "metadata": {
    "collapsed": false
   },
   "outputs": [],
   "source": [
    "ranking_errors_train = [np.mean(list(train_error_rates0.values()))]\n",
    "ranking_errors_test =  [np.mean(list(test_error_rates0.values()))]"
   ]
  },
  {
   "cell_type": "code",
   "execution_count": 71,
   "metadata": {
    "collapsed": true
   },
   "outputs": [],
   "source": [
    "visit_train_df = visit_train_df0.copy()\n",
    "visit_test_df = visit_test_df0.copy()\n",
    "user_seqid_tuples_query = user_seqid_tuples_query0.copy()\n",
    "user_seqid_tuples_test = user_seqid_tuples_test0.copy()\n",
    "Theta = Theta_init.copy()"
   ]
  },
  {
   "cell_type": "code",
   "execution_count": 72,
   "metadata": {
    "collapsed": false
   },
   "outputs": [
    {
     "name": "stdout",
     "output_type": "stream",
     "text": [
      "choose: (84987970@N00, [7, 22, 23, 3])\n",
      "Iteration 0, Objective: -4.39337339\n",
      "Iteration 6889, Objective: -0.05768919\n",
      "diff: 4.781625\n",
      "F1: (0.84, 0.16)\n",
      "mean ranking error: 0.00, 0.20\n",
      "choose: (84987970@N00, [6, 22, 28, 21, 23, 30, 7])\n",
      "Iteration 0, Objective: -8.08488216\n",
      "Iteration 7500, Objective: -0.11498052\n",
      "diff: 9.455690\n",
      "F1: (0.84, 0.16)\n",
      "mean ranking error: 0.00, 0.15\n",
      "choose: (20741443@N00, [7, 21, 22])\n",
      "Iteration 0, Objective: -0.11498053\n",
      "Iteration 22, Objective: -0.11482211\n",
      "diff: 0.002795\n",
      "F1: (0.84, 0.16)\n",
      "mean ranking error: 0.00, 0.15\n",
      "choose: (84987970@N00, [21, 23, 28])\n",
      "Iteration 0, Objective: -0.11482211\n",
      "Iteration 9, Objective: -0.11481639\n",
      "diff: 0.000231\n",
      "F1: (0.84, 0.16)\n",
      "mean ranking error: 0.00, 0.15\n",
      "choose: (84987970@N00, [22, 29, 24])\n",
      "Iteration 0, Objective: -4.25403114\n",
      "Iteration 33, Objective: -3.63644656\n",
      "diff: 0.293617\n",
      "F1: (0.84, 0.16)\n",
      "mean ranking error: 0.01, 0.15\n",
      "choose: (20741443@N00, [23, 22, 28])\n",
      "Iteration 0, Objective: -10.28903941\n",
      "Iteration 145, Objective: -5.14534626\n",
      "diff: 1.988400\n",
      "F1: (0.84, 0.16)\n",
      "mean ranking error: 0.00, 0.10\n",
      "choose: (84987970@N00, [3, 21, 23, 28, 7, 30, 22])\n",
      "Iteration 0, Objective: -5.14534626\n",
      "Iteration 371, Objective: -1.68837231\n",
      "diff: 2.659541\n",
      "F1: (0.84, 0.16)\n",
      "mean ranking error: 0.00, 0.10\n",
      "choose: (84987970@N00, [4, 30, 7])\n",
      "Iteration 0, Objective: -1.68837231\n",
      "Iteration 569, Objective: -0.83795010\n",
      "diff: 1.572541\n",
      "F1: (0.84, 0.16)\n",
      "mean ranking error: 0.00, 0.10\n",
      "choose: (20741443@N00, [7, 23, 28, 30])\n",
      "Iteration 0, Objective: -0.83795010\n",
      "Iteration 1656, Objective: -0.33843123\n",
      "diff: 2.102802\n",
      "F1: (0.84, 0.16)\n",
      "mean ranking error: 0.00, 0.10\n",
      "choose: (20741443@N00, [21, 11, 22])\n",
      "Iteration 0, Objective: -7.79928591\n",
      "Iteration 38, Objective: -3.87631962\n",
      "diff: 1.009713\n",
      "F1: (0.84, 0.16)\n",
      "mean ranking error: 0.00, 0.10\n",
      "choose: (84987970@N00, [21, 22, 6, 16])\n",
      "Iteration 0, Objective: -4.97419821\n",
      "Iteration 28, Objective: -4.29488196\n",
      "diff: 0.270803\n",
      "F1: (0.84, 0.16)\n",
      "mean ranking error: 0.00, 0.09\n",
      "choose: (84987970@N00, [29, 22, 28, 23, 21, 27])\n",
      "Iteration 0, Objective: -4.65838119\n",
      "Iteration 653, Objective: -0.98626959\n",
      "diff: 3.283656\n",
      "F1: (0.84, 0.16)\n",
      "mean ranking error: 0.00, 0.07\n",
      "choose: (20741443@N00, [30, 22, 7])\n",
      "Iteration 0, Objective: -0.98626959\n",
      "Iteration 122, Objective: -0.82315142\n",
      "diff: 0.372642\n",
      "F1: (0.84, 0.16)\n",
      "mean ranking error: 0.00, 0.07\n",
      "choose: (20741443@N00, [7, 21, 23])\n",
      "Iteration 0, Objective: -0.82315142\n",
      "Iteration 29, Objective: -0.78510702\n",
      "diff: 0.101570\n",
      "F1: (0.84, 0.16)\n",
      "mean ranking error: 0.00, 0.07\n"
     ]
    }
   ],
   "source": [
    "tuples_idx = np.arange(len(user_seqid_tuples_query))\n",
    "np.random.shuffle(tuples_idx)\n",
    "for idx in tuples_idx:\n",
    "    user = user_seqid_tuples_query[idx][0]\n",
    "    seqid = user_seqid_tuples_query[idx][1]\n",
    "    seq = extract_seq(seqid, seq_exp_all)\n",
    "    print('choose: (%s, %s)' % (user, seq))\n",
    "    for poi in seq:\n",
    "        if np.isnan(visit_train_df.loc[user, poi]): \n",
    "            visit_train_df.loc[user, poi] = 1\n",
    "        else:\n",
    "            visit_train_df.loc[user, poi] += 1\n",
    "    #Theta = np.random.rand(len(user_list) + len(poi_list), DIM) # random initialisation\n",
    "    #Theta = Theta # use the previous optimised parameter as the initial value of the current optimisation\n",
    "    Theta, history = learn_BPR_SGD(visit_train_df, Theta, Lambda, Alpha, maxIter)\n",
    "    \n",
    "    F1scores = evaluate(Theta, user_list, poi_list, user_seqid_tuples_test)\n",
    "    F1scores_rand.append(F1scores)\n",
    "    print('F1: (%.2f, %.2f)' % (np.mean(F1scores), np.std(F1scores)))\n",
    "    \n",
    "    # ranking order error\n",
    "    predicted_df = calc_predicted_df(Theta, user_list, poi_list)\n",
    "    err_train = np.mean(list(calc_order_error(visit_train_df, predicted_df).values()))\n",
    "    err_test = np.mean(list(calc_order_error(visit_test_df, predicted_df).values()))\n",
    "    ranking_errors_train.append(err_train)\n",
    "    ranking_errors_test.append(err_test)\n",
    "    print('mean ranking error: %.2f, %.2f' % (err_train, err_test))"
   ]
  },
  {
   "cell_type": "code",
   "execution_count": 73,
   "metadata": {
    "collapsed": false
   },
   "outputs": [
    {
     "data": {
      "text/plain": [
       "<matplotlib.legend.Legend at 0x7f06b6193860>"
      ]
     },
     "execution_count": 73,
     "metadata": {},
     "output_type": "execute_result"
    },
    {
     "data": {
      "image/png": "[encoded data removed]",
      "text/plain": [
       "<matplotlib.figure.Figure at 0x7f06b614bda0>"
      ]
     },
     "metadata": {},
     "output_type": "display_data"
    }
   ],
   "source": [
    "plt.figure(figsize=[15, 5])\n",
    "plt.xlabel('#Query')\n",
    "plt.ylabel('Mean Ranking Error')\n",
    "plt.ylim([-0.1, 0.5])\n",
    "plt.plot(np.arange(len(ranking_errors_train)), ranking_errors_train, label='Training Ranking Error', marker='o')\n",
    "plt.plot(np.arange(len(ranking_errors_test)), ranking_errors_test, label='Test Ranking Error', marker='^')\n",
    "plt.legend(loc='upper right')"
   ]
  },
  {
   "cell_type": "code",
   "execution_count": 74,
   "metadata": {
    "collapsed": false
   },
   "outputs": [
    {
     "data": {
      "text/plain": [
       "<matplotlib.legend.Legend at 0x7f06b62b6d68>"
      ]
     },
     "execution_count": 74,
     "metadata": {},
     "output_type": "execute_result"
    },
    {
     "data": {
      "image/png": "[encoded data removed]",
      "text/plain": [
       "<matplotlib.figure.Figure at 0x7f06dcca1208>"
      ]
     },
     "metadata": {},
     "output_type": "display_data"
    }
   ],
   "source": [
    "plt.figure(figsize=[15, 5])\n",
    "plt.xlabel('#Query')\n",
    "plt.ylabel('F1')\n",
    "plt.ylim([0.5, 1.1])\n",
    "plt.boxplot(F1scores_rand)\n",
    "plt.plot(np.arange(1, len(F1scores_rand)+1), [np.mean(x) for x in F1scores_rand], marker='^', ls='--', label='Mean')\n",
    "plt.plot(np.arange(1, len(F1scores_rand)+1), [np.median(x) for x in F1scores_rand], marker='o', ls='--', label='Median')\n",
    "plt.legend(loc='lower right')"
   ]
  },
  {
   "cell_type": "markdown",
   "metadata": {},
   "source": [
    "## 3.2 Least Confident"
   ]
  },
  {
   "cell_type": "markdown",
   "metadata": {},
   "source": [
    "Relevant Definitions\n",
    "- Example: $\\textbf{x} = (P_s, P_e, \\lvert Traj \\rvert)$\n",
    "- Label of Example: $\\textbf{y} = Traj$\n",
    "- Probability of Possible Label: Normalise the total ranking (i.e. sum the \"number\" for each POI in the trajectory) of all possible trajectories to form a probability distribution   \n",
    "*NOT Good because the \"number\" for each POI only optimised for ranking purpose, i.e. the absolute value of the \"number\" for each POI is meaningless as long as \"number\" for visited POI is greater than \"number\" for unvisited POI.*"
   ]
  },
  {
   "cell_type": "markdown",
   "metadata": {},
   "source": [
    "Trajectory recommendation mesures."
   ]
  },
  {
   "cell_type": "code",
   "execution_count": 75,
   "metadata": {
    "collapsed": true
   },
   "outputs": [],
   "source": [
    "F1scores_lc = []\n",
    "F1scores_lc.append(F1scores_init)"
   ]
  },
  {
   "cell_type": "markdown",
   "metadata": {
    "collapsed": true
   },
   "source": [
    "POI ranking mesures."
   ]
  },
  {
   "cell_type": "code",
   "execution_count": 76,
   "metadata": {
    "collapsed": false
   },
   "outputs": [],
   "source": [
    "ranking_errors_train = [np.mean(list(train_error_rates0.values()))]\n",
    "ranking_errors_test =  [np.mean(list(test_error_rates0.values()))]"
   ]
  },
  {
   "cell_type": "code",
   "execution_count": 77,
   "metadata": {
    "collapsed": false
   },
   "outputs": [],
   "source": [
    "visit_train_df = visit_train_df0.copy()\n",
    "visit_test_df = visit_test_df0.copy()\n",
    "user_seqid_tuples_query = user_seqid_tuples_query0.copy()\n",
    "user_seqid_tuples_test = user_seqid_tuples_test0.copy()\n",
    "predicted_df = predicted_df0.copy()\n",
    "Theta = Theta_init.copy()"
   ]
  },
  {
   "cell_type": "code",
   "execution_count": 78,
   "metadata": {
    "collapsed": false
   },
   "outputs": [
    {
     "name": "stdout",
     "output_type": "stream",
     "text": [
      "choose: (84987970@N00, [3, 21, 23, 28, 7, 30, 22])\n",
      "Iteration 0, Objective: -10.20276546\n",
      "Iteration 28569, Objective: -0.02923250\n",
      "diff: 12.538481\n",
      "F1: (0.80, 0.16)\n",
      "mean ranking error: 0.00, 0.14\n",
      "choose: (84987970@N00, [6, 22, 28, 21, 23, 30, 7])\n",
      "Iteration 0, Objective: -3.29765871\n",
      "Iteration 254, Objective: -1.54808926\n",
      "diff: 0.897281\n",
      "F1: (0.80, 0.16)\n",
      "mean ranking error: 0.00, 0.14\n",
      "choose: (84987970@N00, [29, 22, 28, 23, 21, 27])\n",
      "Iteration 0, Objective: -4.48321768\n",
      "Iteration 345, Objective: -1.87641278\n",
      "diff: 1.691658\n",
      "F1: (0.80, 0.16)\n",
      "mean ranking error: 0.00, 0.15\n",
      "choose: (84987970@N00, [7, 22, 23, 3])\n",
      "Iteration 0, Objective: -1.87641278\n",
      "Iteration 12, Objective: -1.81637278\n",
      "diff: 0.058826\n",
      "F1: (0.80, 0.16)\n",
      "mean ranking error: 0.00, 0.15\n",
      "choose: (20741443@N00, [7, 23, 28, 30])\n",
      "Iteration 0, Objective: -6.76985440\n",
      "Iteration 263, Objective: -2.77711013\n",
      "diff: 2.098225\n",
      "F1: (0.80, 0.16)\n",
      "mean ranking error: 0.00, 0.13\n",
      "choose: (84987970@N00, [21, 22, 6, 16])\n",
      "Iteration 0, Objective: -3.78518927\n",
      "Iteration 122, Objective: -2.27905691\n",
      "diff: 1.227032\n",
      "F1: (0.80, 0.16)\n",
      "mean ranking error: 0.00, 0.13\n",
      "choose: (20741443@N00, [30, 22, 7])\n",
      "Iteration 0, Objective: -2.27905691\n",
      "Iteration 262, Objective: -1.37751963\n",
      "diff: 1.178471\n",
      "F1: (0.80, 0.16)\n",
      "mean ranking error: 0.00, 0.13\n",
      "choose: (84987970@N00, [21, 23, 28])\n",
      "Iteration 0, Objective: -1.37751964\n",
      "Iteration 205, Objective: -1.04748494\n",
      "diff: 0.601863\n",
      "F1: (0.84, 0.16)\n",
      "mean ranking error: 0.00, 0.13\n",
      "choose: (20741443@N00, [7, 21, 22])\n",
      "Iteration 0, Objective: -1.04748494\n",
      "Iteration 185, Objective: -0.87759267\n",
      "diff: 0.422253\n",
      "F1: (0.84, 0.16)\n",
      "mean ranking error: 0.00, 0.13\n",
      "choose: (20741443@N00, [7, 21, 23])\n",
      "Iteration 0, Objective: -0.87759267\n",
      "Iteration 498, Objective: -0.52853704\n",
      "diff: 1.144768\n",
      "F1: (0.84, 0.16)\n",
      "mean ranking error: 0.00, 0.13\n",
      "choose: (84987970@N00, [4, 30, 7])\n",
      "Iteration 0, Objective: -0.52853704\n",
      "Iteration 154, Objective: -0.47946704\n",
      "diff: 0.217337\n",
      "F1: (0.84, 0.16)\n",
      "mean ranking error: 0.00, 0.13\n",
      "choose: (20741443@N00, [21, 11, 22])\n",
      "Iteration 0, Objective: -8.36886705\n",
      "Iteration 441, Objective: -1.47650858\n",
      "diff: 2.694473\n",
      "F1: (0.84, 0.16)\n",
      "mean ranking error: 0.00, 0.13\n",
      "choose: (84987970@N00, [22, 29, 24])\n",
      "Iteration 0, Objective: -2.19615590\n",
      "Iteration 320, Objective: -1.15743839\n",
      "diff: 1.355687\n",
      "F1: (0.84, 0.16)\n",
      "mean ranking error: 0.00, 0.13\n",
      "choose: (20741443@N00, [23, 22, 28])\n",
      "Iteration 0, Objective: -1.15743839\n",
      "Iteration 143, Objective: -0.94607892\n",
      "diff: 0.442724\n",
      "F1: (0.84, 0.16)\n",
      "mean ranking error: 0.00, 0.13\n"
     ]
    }
   ],
   "source": [
    "query_seqs = [extract_seq(x[1], seq_exp_all) for x in user_seqid_tuples_query]\n",
    "while len(user_seqid_tuples_query) > 0:\n",
    "    # choose the least confident example to query \n",
    "    seq_maxprobs = [max(calc_poi_set_distribution(\\\n",
    "                         enum_poi_set(poi_list, query_seqs[idx][0], query_seqs[idx][-1], len(query_seqs[idx])), \\\n",
    "                         user_seqid_tuples_query[idx][0], predicted_df)) for idx in range(len(user_seqid_tuples_query))] \n",
    "    seq_idx = np.argmin(seq_maxprobs) # least confident = 1 - maxprob\n",
    "    user = user_seqid_tuples_query[seq_idx][0]\n",
    "    seq = query_seqs[seq_idx]   \n",
    "\n",
    "    print('choose: (%s, %s)' % (user, seq))\n",
    "    for poi in seq:\n",
    "        if np.isnan(visit_train_df.loc[user, poi]): \n",
    "            visit_train_df.loc[user, poi] = 1\n",
    "        else:\n",
    "            visit_train_df.loc[user, poi] += 1\n",
    "    Theta, history = learn_BPR_SGD(visit_train_df, Theta, Lambda, Alpha, maxIter)\n",
    "    \n",
    "    F1scores = evaluate(Theta, user_list, poi_list, user_seqid_tuples_test)\n",
    "    F1scores_lc.append(F1scores)\n",
    "    print('F1: (%.2f, %.2f)' % (np.mean(F1scores), np.std(F1scores)))\n",
    "    \n",
    "    # remove the selected example after querying\n",
    "    del user_seqid_tuples_query[seq_idx]\n",
    "    del query_seqs[seq_idx]\n",
    "    \n",
    "    # ranking order error\n",
    "    predicted_df = calc_predicted_df(Theta, user_list, poi_list)\n",
    "    err_train = np.mean(list(calc_order_error(visit_train_df, predicted_df).values()))\n",
    "    err_test = np.mean(list(calc_order_error(visit_test_df, predicted_df).values()))\n",
    "    ranking_errors_train.append(err_train)\n",
    "    ranking_errors_test.append(err_test)\n",
    "    print('mean ranking error: %.2f, %.2f' % (err_train, err_test))"
   ]
  },
  {
   "cell_type": "code",
   "execution_count": 79,
   "metadata": {
    "collapsed": false
   },
   "outputs": [
    {
     "data": {
      "text/plain": [
       "<matplotlib.legend.Legend at 0x7f06dcc21128>"
      ]
     },
     "execution_count": 79,
     "metadata": {},
     "output_type": "execute_result"
    },
    {
     "data": {
      "image/png": "[encoded data removed]",
      "text/plain": [
       "<matplotlib.figure.Figure at 0x7f06b62c4c88>"
      ]
     },
     "metadata": {},
     "output_type": "display_data"
    }
   ],
   "source": [
    "plt.figure(figsize=[15, 5])\n",
    "plt.xlabel('#Query')\n",
    "plt.ylabel('Mean Ranking Error')\n",
    "plt.ylim([-0.1, 0.5])\n",
    "plt.plot(np.arange(len(ranking_errors_train)), ranking_errors_train, label='Training Ranking Error', marker='o')\n",
    "plt.plot(np.arange(len(ranking_errors_test)), ranking_errors_test, label='Test Ranking Error', marker='^')\n",
    "plt.legend(loc='upper right')"
   ]
  },
  {
   "cell_type": "code",
   "execution_count": 80,
   "metadata": {
    "collapsed": false
   },
   "outputs": [
    {
     "data": {
      "text/plain": [
       "<matplotlib.legend.Legend at 0x7f06dc9fae48>"
      ]
     },
     "execution_count": 80,
     "metadata": {},
     "output_type": "execute_result"
    },
    {
     "data": {
      "image/png": "[encoded data removed]",
      "text/plain": [
       "<matplotlib.figure.Figure at 0x7f06dcb6e208>"
      ]
     },
     "metadata": {},
     "output_type": "display_data"
    }
   ],
   "source": [
    "plt.figure(figsize=[15, 5])\n",
    "plt.xlabel('#Query')\n",
    "plt.ylabel('F1')\n",
    "plt.ylim([0.5, 1.1])\n",
    "plt.boxplot(F1scores_lc)\n",
    "plt.plot(np.arange(1, len(F1scores_lc)+1), [np.mean(x) for x in F1scores_lc], marker='^', ls='--', label='Mean')\n",
    "plt.plot(np.arange(1, len(F1scores_lc)+1), [np.median(x) for x in F1scores_lc], marker='o', ls='--', label='Median')\n",
    "plt.legend(loc='lower right')"
   ]
  },
  {
   "cell_type": "markdown",
   "metadata": {},
   "source": [
    "## 4. POI Visit Duration Prediction"
   ]
  },
  {
   "cell_type": "code",
   "execution_count": 127,
   "metadata": {
    "collapsed": true
   },
   "outputs": [],
   "source": [
    "import pymc3 as pm\n",
    "import theano, theano.tensor as T"
   ]
  },
  {
   "cell_type": "code",
   "execution_count": 128,
   "metadata": {
    "collapsed": true
   },
   "outputs": [],
   "source": [
    "theano.config.floatX = 'float32'\n",
    "theano.config.mode = 'FAST_RUN'\n",
    "theano.config.blas.ldflags = '-lopenblas'\n",
    "theano.config.compute_test_value = 'ignore'\n",
    "theano.config.gcc.cxxflags = '-O2'\n",
    "#theano.config.compute_test_value = 'off'\n",
    "#print(theano.config)"
   ]
  },
  {
   "cell_type": "code",
   "execution_count": 129,
   "metadata": {
    "collapsed": false
   },
   "outputs": [
    {
     "data": {
      "text/html": [
       "<div>\n",
       "<table border=\"1\" class=\"dataframe\">\n",
       "  <thead>\n",
       "    <tr style=\"text-align: right;\">\n",
       "      <th></th>\n",
       "      <th></th>\n",
       "      <th></th>\n",
       "      <th>poiDuration(sec)</th>\n",
       "    </tr>\n",
       "    <tr>\n",
       "      <th>userID</th>\n",
       "      <th>seqID</th>\n",
       "      <th>poiID</th>\n",
       "      <th></th>\n",
       "    </tr>\n",
       "  </thead>\n",
       "  <tbody>\n",
       "    <tr>\n",
       "      <th rowspan=\"5\" valign=\"top\">20741443@N00</th>\n",
       "      <th rowspan=\"4\" valign=\"top\">708</th>\n",
       "      <th>7</th>\n",
       "      <td>11060</td>\n",
       "    </tr>\n",
       "    <tr>\n",
       "      <th>21</th>\n",
       "      <td>303</td>\n",
       "    </tr>\n",
       "    <tr>\n",
       "      <th>23</th>\n",
       "      <td>379</td>\n",
       "    </tr>\n",
       "    <tr>\n",
       "      <th>30</th>\n",
       "      <td>123</td>\n",
       "    </tr>\n",
       "    <tr>\n",
       "      <th>712</th>\n",
       "      <th>7</th>\n",
       "      <td>7669</td>\n",
       "    </tr>\n",
       "  </tbody>\n",
       "</table>\n",
       "</div>"
      ],
      "text/plain": [
       "                          poiDuration(sec)\n",
       "userID       seqID poiID                  \n",
       "20741443@N00 708   7                 11060\n",
       "                   21                  303\n",
       "                   23                  379\n",
       "                   30                  123\n",
       "             712   7                  7669"
      ]
     },
     "execution_count": 129,
     "metadata": {},
     "output_type": "execute_result"
    }
   ],
   "source": [
    "poi_duration_df = seq_exp_all[['userID', 'seqID', 'poiID', 'poiDuration(sec)']].copy()\n",
    "poi_duration_df.set_index(['userID', 'seqID', 'poiID'], inplace=True)\n",
    "poi_duration_df.head()"
   ]
  },
  {
   "cell_type": "code",
   "execution_count": 130,
   "metadata": {
    "collapsed": false
   },
   "outputs": [
    {
     "data": {
      "text/plain": [
       "11060"
      ]
     },
     "execution_count": 130,
     "metadata": {},
     "output_type": "execute_result"
    }
   ],
   "source": [
    "poi_duration_df.loc[('20741443@N00', 708, 7), 'poiDuration(sec)']"
   ]
  },
  {
   "cell_type": "code",
   "execution_count": 131,
   "metadata": {
    "collapsed": false
   },
   "outputs": [],
   "source": [
    "visit_duration_train = pd.DataFrame(data=np.full((len(user_list), len(poi_list)), np.nan, dtype=np.object), \\\n",
    "                                    columns=poi_list, index=user_list)"
   ]
  },
  {
   "cell_type": "code",
   "execution_count": 132,
   "metadata": {
    "collapsed": false
   },
   "outputs": [],
   "source": [
    "nan_mask_train = pd.DataFrame(data=np.ones(visit_duration_train.shape, dtype=np.bool), columns=poi_list, index=user_list)"
   ]
  },
  {
   "cell_type": "code",
   "execution_count": 133,
   "metadata": {
    "collapsed": true
   },
   "outputs": [],
   "source": [
    "tuples = [x for x in user_seqid_tuples_train0]\n",
    "tuples.extend([x for x in user_seqid_tuples_query0])"
   ]
  },
  {
   "cell_type": "code",
   "execution_count": 134,
   "metadata": {
    "collapsed": false
   },
   "outputs": [],
   "source": [
    "for user, seqid in tuples:\n",
    "    seq = extract_seq(seqid, seq_exp_all)\n",
    "    for poi in seq:\n",
    "        if np.all(np.isnan(visit_duration_train.loc[user, poi])):\n",
    "            visit_duration_train.loc[user, poi] = np.array([poi_duration_df.loc[(user, seqid, poi), 'poiDuration(sec)']])\n",
    "        else:\n",
    "            visit_duration_train.loc[user, poi] = \\\n",
    "            np.r_[visit_duration_train.loc[user, poi], poi_duration_df.loc[(user, seqid, poi), 'poiDuration(sec)']]\n",
    "        nan_mask_train.loc[user, poi] = False"
   ]
  },
  {
   "cell_type": "code",
   "execution_count": 135,
   "metadata": {
    "collapsed": false
   },
   "outputs": [
    {
     "data": {
      "text/html": [
       "<div>\n",
       "<table border=\"1\" class=\"dataframe\">\n",
       "  <thead>\n",
       "    <tr style=\"text-align: right;\">\n",
       "      <th></th>\n",
       "      <th>2</th>\n",
       "      <th>3</th>\n",
       "      <th>4</th>\n",
       "      <th>6</th>\n",
       "      <th>7</th>\n",
       "      <th>11</th>\n",
       "      <th>16</th>\n",
       "      <th>17</th>\n",
       "      <th>21</th>\n",
       "      <th>22</th>\n",
       "      <th>23</th>\n",
       "      <th>24</th>\n",
       "      <th>25</th>\n",
       "      <th>27</th>\n",
       "      <th>28</th>\n",
       "      <th>29</th>\n",
       "      <th>30</th>\n",
       "    </tr>\n",
       "  </thead>\n",
       "  <tbody>\n",
       "    <tr>\n",
       "      <th>20741443@N00</th>\n",
       "      <td>NaN</td>\n",
       "      <td>NaN</td>\n",
       "      <td>NaN</td>\n",
       "      <td>NaN</td>\n",
       "      <td>[11060, 7669, 1070, 511, 102, 30971, 21600]</td>\n",
       "      <td>[1678]</td>\n",
       "      <td>NaN</td>\n",
       "      <td>NaN</td>\n",
       "      <td>[303, 10030, 111, 3665]</td>\n",
       "      <td>[1910, 1829, 1969, 533, 2261]</td>\n",
       "      <td>[379, 7554, 14204, 2750, 4672, 18900]</td>\n",
       "      <td>NaN</td>\n",
       "      <td>NaN</td>\n",
       "      <td>NaN</td>\n",
       "      <td>[2096, 13755]</td>\n",
       "      <td>NaN</td>\n",
       "      <td>[123, 6, 31230, 12390]</td>\n",
       "    </tr>\n",
       "    <tr>\n",
       "      <th>84987970@N00</th>\n",
       "      <td>[635]</td>\n",
       "      <td>[91, 523, 324]</td>\n",
       "      <td>[28, 295]</td>\n",
       "      <td>[31, 538]</td>\n",
       "      <td>[4974, 78, 159, 66]</td>\n",
       "      <td>NaN</td>\n",
       "      <td>[17]</td>\n",
       "      <td>[15753]</td>\n",
       "      <td>[301, 375, 191, 422, 559, 18339, 61]</td>\n",
       "      <td>[6904, 68, 15, 21, 24349, 146, 143, 15]</td>\n",
       "      <td>[190, 233, 22152, 2625, 18688, 1707]</td>\n",
       "      <td>[3022]</td>\n",
       "      <td>[9]</td>\n",
       "      <td>[208]</td>\n",
       "      <td>[23019, 97, 20138, 195]</td>\n",
       "      <td>[21415, 4614]</td>\n",
       "      <td>[1773, 57, 536]</td>\n",
       "    </tr>\n",
       "  </tbody>\n",
       "</table>\n",
       "</div>"
      ],
      "text/plain": [
       "                 2               3          4          6   \\\n",
       "20741443@N00    NaN             NaN        NaN        NaN   \n",
       "84987970@N00  [635]  [91, 523, 324]  [28, 295]  [31, 538]   \n",
       "\n",
       "                                                       7       11    16  \\\n",
       "20741443@N00  [11060, 7669, 1070, 511, 102, 30971, 21600]  [1678]   NaN   \n",
       "84987970@N00                          [4974, 78, 159, 66]     NaN  [17]   \n",
       "\n",
       "                   17                                    21  \\\n",
       "20741443@N00      NaN               [303, 10030, 111, 3665]   \n",
       "84987970@N00  [15753]  [301, 375, 191, 422, 559, 18339, 61]   \n",
       "\n",
       "                                                   22  \\\n",
       "20741443@N00            [1910, 1829, 1969, 533, 2261]   \n",
       "84987970@N00  [6904, 68, 15, 21, 24349, 146, 143, 15]   \n",
       "\n",
       "                                                 23      24   25     27  \\\n",
       "20741443@N00  [379, 7554, 14204, 2750, 4672, 18900]     NaN  NaN    NaN   \n",
       "84987970@N00   [190, 233, 22152, 2625, 18688, 1707]  [3022]  [9]  [208]   \n",
       "\n",
       "                                   28             29                      30  \n",
       "20741443@N00            [2096, 13755]            NaN  [123, 6, 31230, 12390]  \n",
       "84987970@N00  [23019, 97, 20138, 195]  [21415, 4614]         [1773, 57, 536]  "
      ]
     },
     "execution_count": 135,
     "metadata": {},
     "output_type": "execute_result"
    }
   ],
   "source": [
    "visit_duration_train"
   ]
  },
  {
   "cell_type": "code",
   "execution_count": 136,
   "metadata": {
    "collapsed": false
   },
   "outputs": [
    {
     "data": {
      "text/plain": [
       "array([11060,  7669,  1070,   511,   102, 30971, 21600])"
      ]
     },
     "execution_count": 136,
     "metadata": {},
     "output_type": "execute_result"
    }
   ],
   "source": [
    "visit_duration_train.iloc[0, 4]"
   ]
  },
  {
   "cell_type": "markdown",
   "metadata": {},
   "source": [
    "DataFrames with block values can't be used as observations, use average value instead (trivial implementation)."
   ]
  },
  {
   "cell_type": "code",
   "execution_count": 144,
   "metadata": {
    "collapsed": false
   },
   "outputs": [],
   "source": [
    "visit_duration_train2 = pd.DataFrame(data=np.full(visit_duration_train.shape, np.nan, dtype=float), \\\n",
    "                                     columns=poi_list, index=user_list)"
   ]
  },
  {
   "cell_type": "code",
   "execution_count": 146,
   "metadata": {
    "collapsed": false
   },
   "outputs": [],
   "source": [
    "for user in visit_duration_train.index:\n",
    "    for poi in visit_duration_train.columns:\n",
    "        if not np.all(np.isnan(visit_duration_train.loc[user, poi])):\n",
    "            visit_duration_train2.loc[user, poi] = np.mean(visit_duration_train.loc[user, poi])"
   ]
  },
  {
   "cell_type": "code",
   "execution_count": 147,
   "metadata": {
    "collapsed": false
   },
   "outputs": [
    {
     "data": {
      "text/html": [
       "<div>\n",
       "<table border=\"1\" class=\"dataframe\">\n",
       "  <thead>\n",
       "    <tr style=\"text-align: right;\">\n",
       "      <th></th>\n",
       "      <th>2</th>\n",
       "      <th>3</th>\n",
       "      <th>4</th>\n",
       "      <th>6</th>\n",
       "      <th>7</th>\n",
       "      <th>11</th>\n",
       "      <th>16</th>\n",
       "      <th>17</th>\n",
       "      <th>21</th>\n",
       "      <th>22</th>\n",
       "      <th>23</th>\n",
       "      <th>24</th>\n",
       "      <th>25</th>\n",
       "      <th>27</th>\n",
       "      <th>28</th>\n",
       "      <th>29</th>\n",
       "      <th>30</th>\n",
       "    </tr>\n",
       "  </thead>\n",
       "  <tbody>\n",
       "    <tr>\n",
       "      <th>20741443@N00</th>\n",
       "      <td>NaN</td>\n",
       "      <td>NaN</td>\n",
       "      <td>NaN</td>\n",
       "      <td>NaN</td>\n",
       "      <td>10426.142857</td>\n",
       "      <td>1678</td>\n",
       "      <td>NaN</td>\n",
       "      <td>NaN</td>\n",
       "      <td>3527.250000</td>\n",
       "      <td>1700.400</td>\n",
       "      <td>8076.500000</td>\n",
       "      <td>NaN</td>\n",
       "      <td>NaN</td>\n",
       "      <td>NaN</td>\n",
       "      <td>7925.50</td>\n",
       "      <td>NaN</td>\n",
       "      <td>10937.250000</td>\n",
       "    </tr>\n",
       "    <tr>\n",
       "      <th>84987970@N00</th>\n",
       "      <td>635</td>\n",
       "      <td>312.666667</td>\n",
       "      <td>161.5</td>\n",
       "      <td>284.5</td>\n",
       "      <td>1319.250000</td>\n",
       "      <td>NaN</td>\n",
       "      <td>17</td>\n",
       "      <td>15753</td>\n",
       "      <td>2892.571429</td>\n",
       "      <td>3957.625</td>\n",
       "      <td>7599.166667</td>\n",
       "      <td>3022</td>\n",
       "      <td>9</td>\n",
       "      <td>208</td>\n",
       "      <td>10862.25</td>\n",
       "      <td>13014.5</td>\n",
       "      <td>788.666667</td>\n",
       "    </tr>\n",
       "  </tbody>\n",
       "</table>\n",
       "</div>"
      ],
      "text/plain": [
       "               2           3      4      6             7     11  16     17  \\\n",
       "20741443@N00  NaN         NaN    NaN    NaN  10426.142857  1678 NaN    NaN   \n",
       "84987970@N00  635  312.666667  161.5  284.5   1319.250000   NaN  17  15753   \n",
       "\n",
       "                       21        22           23    24  25   27        28  \\\n",
       "20741443@N00  3527.250000  1700.400  8076.500000   NaN NaN  NaN   7925.50   \n",
       "84987970@N00  2892.571429  3957.625  7599.166667  3022   9  208  10862.25   \n",
       "\n",
       "                   29            30  \n",
       "20741443@N00      NaN  10937.250000  \n",
       "84987970@N00  13014.5    788.666667  "
      ]
     },
     "execution_count": 147,
     "metadata": {},
     "output_type": "execute_result"
    }
   ],
   "source": [
    "visit_duration_train2"
   ]
  },
  {
   "cell_type": "markdown",
   "metadata": {},
   "source": [
    "Build PMF model."
   ]
  },
  {
   "cell_type": "code",
   "execution_count": 140,
   "metadata": {
    "collapsed": true
   },
   "outputs": [],
   "source": [
    "def build_pmf(duration_train, mask, dim):\n",
    "    \"\"\"\n",
    "    Build the Probabilistic Matrix Factorization model using pymc3.\n",
    "    \"\"\"\n",
    "    obs_data = duration_train.copy()\n",
    "    n, m = obs_data.shape\n",
    "    std = 0.05 # for theano testing data\n",
    "    print('obs_data:', obs_data.shape)\n",
    "    print('dim:', dim)\n",
    "\n",
    "    masked_obs = np.ma.masked_array(obs_data, mask)\n",
    "\n",
    "    # Low precision reflects uncertainty; prevents overfitting.\n",
    "    alpha_u = 0.01\n",
    "    alpha_p = 0.01\n",
    "    alpha = 2\n",
    "\n",
    "    # Specify the model.\n",
    "    with pm.Model() as pmf:\n",
    "        # user features\n",
    "        U = pm.MvNormal('U', mu=0, tau=alpha_u * np.eye(dim), shape=(n, dim), # \"n\" multivariate normal of dim dimension\n",
    "                        testval=np.random.randn(n, dim) * std) # n x dim\n",
    "        # POI features\n",
    "        P = pm.MvNormal('P', mu=0, tau=alpha_p * np.eye(dim), shape=(m, dim), # \"m\" multivariate normal of dim dimension\n",
    "                        testval=np.random.randn(m, dim) * std) # m x dim\n",
    "        # POI visit durations\n",
    "        R = pm.Normal('R', mu=T.dot(U, P.T), tau=alpha * np.ones((n, m)), # \"n x m\" univariate normal\n",
    "                      observed=masked_obs)\n",
    "    return pmf"
   ]
  },
  {
   "cell_type": "code",
   "execution_count": 148,
   "metadata": {
    "collapsed": false
   },
   "outputs": [
    {
     "name": "stdout",
     "output_type": "stream",
     "text": [
      "obs_data: (2, 17)\n",
      "dim: 5\n"
     ]
    }
   ],
   "source": [
    "pmf = build_pmf(visit_duration_train2, mask=nan_mask_train, dim=5)"
   ]
  },
  {
   "cell_type": "markdown",
   "metadata": {},
   "source": [
    "Find the MAP."
   ]
  },
  {
   "cell_type": "code",
   "execution_count": 149,
   "metadata": {
    "collapsed": false
   },
   "outputs": [
    {
     "name": "stdout",
     "output_type": "stream",
     "text": [
      "Warning: Maximum number of function evaluations has been exceeded.\n",
      "9 seconds used.\n"
     ]
    }
   ],
   "source": [
    "t0 = time.time()\n",
    "map_estimate = pm.find_MAP(model=pmf, fmin=sop.fmin_powell, disp=True)\n",
    "print('%d seconds used.' % int(time.time() - t0))"
   ]
  },
  {
   "cell_type": "markdown",
   "metadata": {},
   "source": [
    "MAP estimation prediction error."
   ]
  },
  {
   "cell_type": "code",
   "execution_count": 159,
   "metadata": {
    "collapsed": true
   },
   "outputs": [],
   "source": [
    "def rmse(U, P, user_list, poi_list, test_tuples, seq_exp_all, poi_duration_df):\n",
    "    predicted = pd.DataFrame(data=np.dot(U, P.T), columns=poi_list, index=user_list)\n",
    "    #print(predicted)\n",
    "    se = [] # squared errors\n",
    "    for user, seqid in test_tuples:\n",
    "        seq = extract_seq(seqid, seq_exp_all)\n",
    "        for poi in seq:\n",
    "            if (user, seqid, poi) in poi_duration_df.index:\n",
    "                duration = poi_duration_df.loc[(user, seqid, poi), 'poiDuration(sec)']\n",
    "                se.append(abs(duration - predicted.loc[user, poi]) ** 2)\n",
    "    return math.sqrt(np.mean(se))    "
   ]
  },
  {
   "cell_type": "code",
   "execution_count": 163,
   "metadata": {
    "collapsed": false
   },
   "outputs": [
    {
     "name": "stdout",
     "output_type": "stream",
     "text": [
      "PMF MAP training RMSE: 7078.04729\n",
      "PMF MAP testing RMSE:  12377.39536\n",
      "Train/test difference: 5299.34807\n"
     ]
    }
   ],
   "source": [
    "U = map_estimate['U']\n",
    "P = map_estimate['P']\n",
    "\n",
    "# Make predictions and calculate RMSE on train & test sets.\n",
    "pmf_map_train_rmse = rmse(U, P, user_list, poi_list, tuples, seq_exp_all, poi_duration_df)\n",
    "pmf_map_test_rmse = rmse(U, P, user_list, poi_list, user_seqid_tuples_test, seq_exp_all, poi_duration_df)\n",
    "overfit = pmf_map_test_rmse - pmf_map_train_rmse\n",
    "\n",
    "# Print report.\n",
    "print('PMF MAP training RMSE: %.5f' % pmf_map_train_rmse)\n",
    "print('PMF MAP testing RMSE:  %.5f' % pmf_map_test_rmse)\n",
    "print('Train/test difference: %.5f' % overfit)"
   ]
  },
  {
   "cell_type": "markdown",
   "metadata": {},
   "source": [
    "Draw MCMC samples."
   ]
  },
  {
   "cell_type": "code",
   "execution_count": null,
   "metadata": {
    "collapsed": false
   },
   "outputs": [
    {
     "name": "stdout",
     "output_type": "stream",
     "text": [
      " [-----------------90%--------------    ] 452 of 500 complete in 527.8 sec"
     ]
    }
   ],
   "source": [
    "nsamples = 500\n",
    "start = map_estimate  # use MAP as the starting point\n",
    "with pmf:\n",
    "    step = pm.NUTS(scaling=start)\n",
    "    # NO real time progress bar for more than 1 jobs\n",
    "    #trace = pm.sample(nsamples, step=step, start=start, njobs=njobs, progressbar=True)\n",
    "    trace = pm.sample(nsamples, step=step, start=start)"
   ]
  },
  {
   "cell_type": "code",
   "execution_count": null,
   "metadata": {
    "collapsed": true
   },
   "outputs": [],
   "source": [
    "pm.traceplot(trace)"
   ]
  },
  {
   "cell_type": "code",
   "execution_count": null,
   "metadata": {
    "collapsed": true
   },
   "outputs": [],
   "source": []
  }
 ],
 "metadata": {
  "kernelspec": {
   "display_name": "Python 3",
   "language": "python",
   "name": "python3"
  },
  "language_info": {
   "codemirror_mode": {
    "name": "ipython",
    "version": 3
   },
   "file_extension": ".py",
   "mimetype": "text/x-python",
   "name": "python",
   "nbconvert_exporter": "python",
   "pygments_lexer": "ipython3",
   "version": "3.5.1"
  }
 },
 "nbformat": 4,
 "nbformat_minor": 0
}
