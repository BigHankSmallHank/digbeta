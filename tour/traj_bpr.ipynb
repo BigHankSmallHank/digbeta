{
 "cells": [
  {
   "cell_type": "markdown",
   "metadata": {},
   "source": [
    "# Trajectory Recommendation using BPR Ranking and Active Learning"
   ]
  },
  {
   "cell_type": "markdown",
   "metadata": {},
   "source": [
    "## 1. Overview"
   ]
  },
  {
   "cell_type": "markdown",
   "metadata": {},
   "source": [
    "1. BPR ranking of POIs\n",
    "1. Recommend a set of POIs given (start, end, length)\n",
    "1. Recommend POI visit duration\n",
    "1. Recommend visiting order"
   ]
  },
  {
   "cell_type": "code",
   "execution_count": 1,
   "metadata": {
    "collapsed": false
   },
   "outputs": [],
   "source": [
    "% matplotlib inline\n",
    "\n",
    "import os, re, sys, time, pickle\n",
    "import math, random\n",
    "import pandas as pd\n",
    "import numpy as np\n",
    "import matplotlib.pyplot as plt\n",
    "import scipy.optimize as sop\n",
    "from joblib import Parallel, delayed"
   ]
  },
  {
   "cell_type": "code",
   "execution_count": 2,
   "metadata": {
    "collapsed": true
   },
   "outputs": [],
   "source": [
    "random.seed(987654321) # control random choice when splitting training/testing set\n",
    "np.random.seed(987654321)"
   ]
  },
  {
   "cell_type": "code",
   "execution_count": 3,
   "metadata": {
    "collapsed": true
   },
   "outputs": [],
   "source": [
    "data_dir = 'data/data-ijcai15'\n",
    "#fvisit = os.path.join(data_dir, 'userVisits-Osak.csv')\n",
    "#fcoord = os.path.join(data_dir, 'photoCoords-Osak.csv')\n",
    "#fvisit = os.path.join(data_dir, 'userVisits-Glas.csv')\n",
    "#fcoord = os.path.join(data_dir, 'photoCoords-Glas.csv')\n",
    "#fvisit = os.path.join(data_dir, 'userVisits-Edin.csv')\n",
    "#fcoord = os.path.join(data_dir, 'photoCoords-Edin.csv')\n",
    "fvisit = os.path.join(data_dir, 'userVisits-Toro.csv')\n",
    "fcoord = os.path.join(data_dir, 'photoCoords-Toro.csv')"
   ]
  },
  {
   "cell_type": "code",
   "execution_count": 4,
   "metadata": {
    "collapsed": true
   },
   "outputs": [],
   "source": [
    "suffix = fvisit.split('-')[-1].split('.')[0]\n",
    "fseqpart = os.path.join(data_dir, 'seqPart-' + suffix + '.pkl')"
   ]
  },
  {
   "cell_type": "code",
   "execution_count": 5,
   "metadata": {
    "collapsed": true
   },
   "outputs": [],
   "source": [
    "visits = pd.read_csv(fvisit, sep=';')\n",
    "coords = pd.read_csv(fcoord, sep=';')\n",
    "assert(visits.shape[0] == coords.shape[0])\n",
    "traj = pd.merge(visits, coords, on='photoID') # merge data frames according to column 'photoID'\n",
    "#traj.head()"
   ]
  },
  {
   "cell_type": "code",
   "execution_count": 6,
   "metadata": {
    "collapsed": false
   },
   "outputs": [
    {
     "data": {
      "text/html": [
       "<div>\n",
       "<table border=\"1\" class=\"dataframe\">\n",
       "  <thead>\n",
       "    <tr style=\"text-align: right;\">\n",
       "      <th></th>\n",
       "      <th>#photo</th>\n",
       "      <th>#photo/user</th>\n",
       "      <th>#poi</th>\n",
       "      <th>#seq</th>\n",
       "      <th>#seq/user</th>\n",
       "      <th>#user</th>\n",
       "    </tr>\n",
       "  </thead>\n",
       "  <tbody>\n",
       "    <tr>\n",
       "      <th>Toro</th>\n",
       "      <td>39419</td>\n",
       "      <td>28.257348</td>\n",
       "      <td>29</td>\n",
       "      <td>6057</td>\n",
       "      <td>4.341935</td>\n",
       "      <td>1395</td>\n",
       "    </tr>\n",
       "  </tbody>\n",
       "</table>\n",
       "</div>"
      ],
      "text/plain": [
       "      #photo  #photo/user  #poi  #seq  #seq/user  #user\n",
       "Toro   39419    28.257348    29  6057   4.341935   1395"
      ]
     },
     "execution_count": 6,
     "metadata": {},
     "output_type": "execute_result"
    }
   ],
   "source": [
    "num_photo = traj['photoID'].unique().shape[0]\n",
    "num_user = traj['userID'].unique().shape[0]\n",
    "num_poi = traj['poiID'].unique().shape[0]\n",
    "num_seq = traj['seqID'].unique().shape[0]\n",
    "pd.DataFrame({'#photo': num_photo, '#user': num_user, '#poi': num_poi, '#seq': num_seq, \\\n",
    "              '#photo/user': num_photo/num_user, '#seq/user': num_seq/num_user}, index=[str(suffix)])"
   ]
  },
  {
   "cell_type": "markdown",
   "metadata": {},
   "source": [
    "## 2.1 Compute POI Information"
   ]
  },
  {
   "cell_type": "markdown",
   "metadata": {},
   "source": [
    "Compute POI (Longitude, Latitude) as the average coordinates of the assigned photos."
   ]
  },
  {
   "cell_type": "code",
   "execution_count": 7,
   "metadata": {
    "collapsed": true
   },
   "outputs": [],
   "source": [
    "poi_coords = traj[['poiID', 'photoLon', 'photoLat']].groupby('poiID').mean()\n",
    "poi_coords.reset_index(inplace=True)\n",
    "poi_coords.rename(columns={'photoLon':'poiLon', 'photoLat':'poiLat'}, inplace=True)"
   ]
  },
  {
   "cell_type": "markdown",
   "metadata": {},
   "source": [
    "Extract POI category and visiting frequency."
   ]
  },
  {
   "cell_type": "code",
   "execution_count": 8,
   "metadata": {
    "collapsed": true
   },
   "outputs": [],
   "source": [
    "poi_catfreq = traj[['poiID', 'poiTheme', 'poiFreq']].groupby('poiID').first()\n",
    "poi_catfreq.reset_index(inplace=True)"
   ]
  },
  {
   "cell_type": "code",
   "execution_count": 9,
   "metadata": {
    "collapsed": false
   },
   "outputs": [
    {
     "data": {
      "text/html": [
       "<div>\n",
       "<table border=\"1\" class=\"dataframe\">\n",
       "  <thead>\n",
       "    <tr style=\"text-align: right;\">\n",
       "      <th></th>\n",
       "      <th>poiTheme</th>\n",
       "      <th>poiFreq</th>\n",
       "      <th>poiLon</th>\n",
       "      <th>poiLat</th>\n",
       "    </tr>\n",
       "    <tr>\n",
       "      <th>poiID</th>\n",
       "      <th></th>\n",
       "      <th></th>\n",
       "      <th></th>\n",
       "      <th></th>\n",
       "    </tr>\n",
       "  </thead>\n",
       "  <tbody>\n",
       "    <tr>\n",
       "      <th>1</th>\n",
       "      <td>Sport</td>\n",
       "      <td>3506</td>\n",
       "      <td>-79.379243</td>\n",
       "      <td>43.643183</td>\n",
       "    </tr>\n",
       "    <tr>\n",
       "      <th>2</th>\n",
       "      <td>Sport</td>\n",
       "      <td>609</td>\n",
       "      <td>-79.418634</td>\n",
       "      <td>43.632772</td>\n",
       "    </tr>\n",
       "    <tr>\n",
       "      <th>3</th>\n",
       "      <td>Sport</td>\n",
       "      <td>688</td>\n",
       "      <td>-79.380045</td>\n",
       "      <td>43.662175</td>\n",
       "    </tr>\n",
       "    <tr>\n",
       "      <th>4</th>\n",
       "      <td>Sport</td>\n",
       "      <td>3056</td>\n",
       "      <td>-79.389290</td>\n",
       "      <td>43.641297</td>\n",
       "    </tr>\n",
       "    <tr>\n",
       "      <th>6</th>\n",
       "      <td>Cultural</td>\n",
       "      <td>986</td>\n",
       "      <td>-79.392396</td>\n",
       "      <td>43.653662</td>\n",
       "    </tr>\n",
       "  </tbody>\n",
       "</table>\n",
       "</div>"
      ],
      "text/plain": [
       "       poiTheme  poiFreq     poiLon     poiLat\n",
       "poiID                                         \n",
       "1         Sport     3506 -79.379243  43.643183\n",
       "2         Sport      609 -79.418634  43.632772\n",
       "3         Sport      688 -79.380045  43.662175\n",
       "4         Sport     3056 -79.389290  43.641297\n",
       "6      Cultural      986 -79.392396  43.653662"
      ]
     },
     "execution_count": 9,
     "metadata": {},
     "output_type": "execute_result"
    }
   ],
   "source": [
    "poi_all = pd.merge(poi_catfreq, poi_coords, on='poiID')\n",
    "poi_all.set_index('poiID', inplace=True)\n",
    "poi_all.head()\n",
    "#poi_all.to_csv(fpoi, index=True)"
   ]
  },
  {
   "cell_type": "markdown",
   "metadata": {},
   "source": [
    "## 2.2 Construct Travelling Sequences"
   ]
  },
  {
   "cell_type": "code",
   "execution_count": 10,
   "metadata": {
    "collapsed": false
   },
   "outputs": [
    {
     "data": {
      "text/html": [
       "<div>\n",
       "<table border=\"1\" class=\"dataframe\">\n",
       "  <thead>\n",
       "    <tr style=\"text-align: right;\">\n",
       "      <th></th>\n",
       "      <th>userID</th>\n",
       "      <th>seqID</th>\n",
       "      <th>poiID</th>\n",
       "      <th>arrivalTime</th>\n",
       "      <th>departureTime</th>\n",
       "      <th>#photo</th>\n",
       "      <th>poiDuration(sec)</th>\n",
       "    </tr>\n",
       "  </thead>\n",
       "  <tbody>\n",
       "    <tr>\n",
       "      <th>0</th>\n",
       "      <td>10007579@N00</td>\n",
       "      <td>1</td>\n",
       "      <td>30</td>\n",
       "      <td>1346844688</td>\n",
       "      <td>1346844688</td>\n",
       "      <td>1</td>\n",
       "      <td>0</td>\n",
       "    </tr>\n",
       "    <tr>\n",
       "      <th>1</th>\n",
       "      <td>10012675@N05</td>\n",
       "      <td>2</td>\n",
       "      <td>6</td>\n",
       "      <td>1142731848</td>\n",
       "      <td>1142732445</td>\n",
       "      <td>4</td>\n",
       "      <td>597</td>\n",
       "    </tr>\n",
       "    <tr>\n",
       "      <th>2</th>\n",
       "      <td>10012675@N05</td>\n",
       "      <td>3</td>\n",
       "      <td>6</td>\n",
       "      <td>1142916492</td>\n",
       "      <td>1142916492</td>\n",
       "      <td>1</td>\n",
       "      <td>0</td>\n",
       "    </tr>\n",
       "    <tr>\n",
       "      <th>3</th>\n",
       "      <td>10012675@N05</td>\n",
       "      <td>4</td>\n",
       "      <td>13</td>\n",
       "      <td>1319327174</td>\n",
       "      <td>1319332848</td>\n",
       "      <td>9</td>\n",
       "      <td>5674</td>\n",
       "    </tr>\n",
       "    <tr>\n",
       "      <th>4</th>\n",
       "      <td>10014440@N06</td>\n",
       "      <td>5</td>\n",
       "      <td>24</td>\n",
       "      <td>1196128621</td>\n",
       "      <td>1196128878</td>\n",
       "      <td>3</td>\n",
       "      <td>257</td>\n",
       "    </tr>\n",
       "  </tbody>\n",
       "</table>\n",
       "</div>"
      ],
      "text/plain": [
       "         userID  seqID  poiID  arrivalTime  departureTime  #photo  \\\n",
       "0  10007579@N00      1     30   1346844688     1346844688       1   \n",
       "1  10012675@N05      2      6   1142731848     1142732445       4   \n",
       "2  10012675@N05      3      6   1142916492     1142916492       1   \n",
       "3  10012675@N05      4     13   1319327174     1319332848       9   \n",
       "4  10014440@N06      5     24   1196128621     1196128878       3   \n",
       "\n",
       "   poiDuration(sec)  \n",
       "0                 0  \n",
       "1               597  \n",
       "2                 0  \n",
       "3              5674  \n",
       "4               257  "
      ]
     },
     "execution_count": 10,
     "metadata": {},
     "output_type": "execute_result"
    }
   ],
   "source": [
    "seq_all = traj[['userID', 'seqID', 'poiID', 'dateTaken']].copy().groupby(['userID', 'seqID', 'poiID'])\\\n",
    "          .agg([np.min, np.max, np.size])\n",
    "seq_all.columns = seq_all.columns.droplevel()\n",
    "seq_all.reset_index(inplace=True)\n",
    "seq_all.rename(columns={'amin':'arrivalTime', 'amax':'departureTime', 'size':'#photo'}, inplace=True)\n",
    "seq_all['poiDuration(sec)'] = seq_all['departureTime'] - seq_all['arrivalTime']\n",
    "seq_all.head()"
   ]
  },
  {
   "cell_type": "code",
   "execution_count": 11,
   "metadata": {
    "collapsed": false
   },
   "outputs": [
    {
     "data": {
      "text/html": [
       "<div>\n",
       "<table border=\"1\" class=\"dataframe\">\n",
       "  <thead>\n",
       "    <tr style=\"text-align: right;\">\n",
       "      <th></th>\n",
       "      <th>userID</th>\n",
       "      <th>seqLen</th>\n",
       "    </tr>\n",
       "    <tr>\n",
       "      <th>seqID</th>\n",
       "      <th></th>\n",
       "      <th></th>\n",
       "    </tr>\n",
       "  </thead>\n",
       "  <tbody>\n",
       "    <tr>\n",
       "      <th>1</th>\n",
       "      <td>10007579@N00</td>\n",
       "      <td>1</td>\n",
       "    </tr>\n",
       "    <tr>\n",
       "      <th>2</th>\n",
       "      <td>10012675@N05</td>\n",
       "      <td>1</td>\n",
       "    </tr>\n",
       "    <tr>\n",
       "      <th>3</th>\n",
       "      <td>10012675@N05</td>\n",
       "      <td>1</td>\n",
       "    </tr>\n",
       "    <tr>\n",
       "      <th>4</th>\n",
       "      <td>10012675@N05</td>\n",
       "      <td>1</td>\n",
       "    </tr>\n",
       "    <tr>\n",
       "      <th>5</th>\n",
       "      <td>10014440@N06</td>\n",
       "      <td>1</td>\n",
       "    </tr>\n",
       "  </tbody>\n",
       "</table>\n",
       "</div>"
      ],
      "text/plain": [
       "             userID  seqLen\n",
       "seqID                      \n",
       "1      10007579@N00       1\n",
       "2      10012675@N05       1\n",
       "3      10012675@N05       1\n",
       "4      10012675@N05       1\n",
       "5      10014440@N06       1"
      ]
     },
     "execution_count": 11,
     "metadata": {},
     "output_type": "execute_result"
    }
   ],
   "source": [
    "seq_user = seq_all[['userID', 'seqID', 'poiID']].copy().groupby(['userID', 'seqID']).agg(np.size)\n",
    "seq_user.reset_index(inplace=True)\n",
    "seq_user.rename(columns={'poiID':'seqLen'}, inplace=True)\n",
    "seq_user.set_index('seqID', inplace=True)\n",
    "seq_user.head()"
   ]
  },
  {
   "cell_type": "code",
   "execution_count": 12,
   "metadata": {
    "collapsed": true
   },
   "outputs": [],
   "source": [
    "def extract_seq(seqid, seq_all):\n",
    "    seqi = seq_all[seq_all['seqID'] == seqid].copy()\n",
    "    seqi.sort_values(by=['arrivalTime'], ascending=True, inplace=True)\n",
    "    return seqi['poiID'].tolist()"
   ]
  },
  {
   "cell_type": "markdown",
   "metadata": {},
   "source": [
    "## 2.3 Data Filtering "
   ]
  },
  {
   "cell_type": "markdown",
   "metadata": {},
   "source": [
    "Filtering out POI visits of which the duration is 0."
   ]
  },
  {
   "cell_type": "code",
   "execution_count": 13,
   "metadata": {
    "collapsed": false
   },
   "outputs": [
    {
     "data": {
      "text/html": [
       "<div>\n",
       "<table border=\"1\" class=\"dataframe\">\n",
       "  <thead>\n",
       "    <tr style=\"text-align: right;\">\n",
       "      <th></th>\n",
       "      <th>userID</th>\n",
       "      <th>seqID</th>\n",
       "      <th>poiID</th>\n",
       "      <th>arrivalTime</th>\n",
       "      <th>departureTime</th>\n",
       "      <th>#photo</th>\n",
       "      <th>poiDuration(sec)</th>\n",
       "    </tr>\n",
       "  </thead>\n",
       "  <tbody>\n",
       "    <tr>\n",
       "      <th>1</th>\n",
       "      <td>10012675@N05</td>\n",
       "      <td>2</td>\n",
       "      <td>6</td>\n",
       "      <td>1142731848</td>\n",
       "      <td>1142732445</td>\n",
       "      <td>4</td>\n",
       "      <td>597</td>\n",
       "    </tr>\n",
       "    <tr>\n",
       "      <th>3</th>\n",
       "      <td>10012675@N05</td>\n",
       "      <td>4</td>\n",
       "      <td>13</td>\n",
       "      <td>1319327174</td>\n",
       "      <td>1319332848</td>\n",
       "      <td>9</td>\n",
       "      <td>5674</td>\n",
       "    </tr>\n",
       "    <tr>\n",
       "      <th>4</th>\n",
       "      <td>10014440@N06</td>\n",
       "      <td>5</td>\n",
       "      <td>24</td>\n",
       "      <td>1196128621</td>\n",
       "      <td>1196128878</td>\n",
       "      <td>3</td>\n",
       "      <td>257</td>\n",
       "    </tr>\n",
       "    <tr>\n",
       "      <th>5</th>\n",
       "      <td>10014440@N06</td>\n",
       "      <td>6</td>\n",
       "      <td>23</td>\n",
       "      <td>1198051767</td>\n",
       "      <td>1198052832</td>\n",
       "      <td>12</td>\n",
       "      <td>1065</td>\n",
       "    </tr>\n",
       "    <tr>\n",
       "      <th>6</th>\n",
       "      <td>10014440@N06</td>\n",
       "      <td>7</td>\n",
       "      <td>23</td>\n",
       "      <td>1198627025</td>\n",
       "      <td>1198627598</td>\n",
       "      <td>5</td>\n",
       "      <td>573</td>\n",
       "    </tr>\n",
       "  </tbody>\n",
       "</table>\n",
       "</div>"
      ],
      "text/plain": [
       "         userID  seqID  poiID  arrivalTime  departureTime  #photo  \\\n",
       "1  10012675@N05      2      6   1142731848     1142732445       4   \n",
       "3  10012675@N05      4     13   1319327174     1319332848       9   \n",
       "4  10014440@N06      5     24   1196128621     1196128878       3   \n",
       "5  10014440@N06      6     23   1198051767     1198052832      12   \n",
       "6  10014440@N06      7     23   1198627025     1198627598       5   \n",
       "\n",
       "   poiDuration(sec)  \n",
       "1               597  \n",
       "3              5674  \n",
       "4               257  \n",
       "5              1065  \n",
       "6               573  "
      ]
     },
     "execution_count": 13,
     "metadata": {},
     "output_type": "execute_result"
    }
   ],
   "source": [
    "seq_all = seq_all[seq_all['poiDuration(sec)'] > 0]\n",
    "seq_all.head()"
   ]
  },
  {
   "cell_type": "code",
   "execution_count": 14,
   "metadata": {
    "collapsed": false
   },
   "outputs": [
    {
     "data": {
      "text/html": [
       "<div>\n",
       "<table border=\"1\" class=\"dataframe\">\n",
       "  <thead>\n",
       "    <tr style=\"text-align: right;\">\n",
       "      <th></th>\n",
       "      <th>userID</th>\n",
       "      <th>seqLen</th>\n",
       "    </tr>\n",
       "    <tr>\n",
       "      <th>seqID</th>\n",
       "      <th></th>\n",
       "      <th></th>\n",
       "    </tr>\n",
       "  </thead>\n",
       "  <tbody>\n",
       "    <tr>\n",
       "      <th>2</th>\n",
       "      <td>10012675@N05</td>\n",
       "      <td>1</td>\n",
       "    </tr>\n",
       "    <tr>\n",
       "      <th>4</th>\n",
       "      <td>10012675@N05</td>\n",
       "      <td>1</td>\n",
       "    </tr>\n",
       "    <tr>\n",
       "      <th>5</th>\n",
       "      <td>10014440@N06</td>\n",
       "      <td>1</td>\n",
       "    </tr>\n",
       "    <tr>\n",
       "      <th>6</th>\n",
       "      <td>10014440@N06</td>\n",
       "      <td>1</td>\n",
       "    </tr>\n",
       "    <tr>\n",
       "      <th>7</th>\n",
       "      <td>10014440@N06</td>\n",
       "      <td>1</td>\n",
       "    </tr>\n",
       "  </tbody>\n",
       "</table>\n",
       "</div>"
      ],
      "text/plain": [
       "             userID  seqLen\n",
       "seqID                      \n",
       "2      10012675@N05       1\n",
       "4      10012675@N05       1\n",
       "5      10014440@N06       1\n",
       "6      10014440@N06       1\n",
       "7      10014440@N06       1"
      ]
     },
     "execution_count": 14,
     "metadata": {},
     "output_type": "execute_result"
    }
   ],
   "source": [
    "seq_stats = seq_all[['userID', 'seqID', 'poiID']].copy().groupby(['userID', 'seqID']).agg(np.size)\n",
    "seq_stats.reset_index(inplace=True)\n",
    "seq_stats.rename(columns={'poiID':'seqLen'}, inplace=True)\n",
    "seq_stats.set_index('seqID', inplace=True)\n",
    "seq_stats.head()"
   ]
  },
  {
   "cell_type": "markdown",
   "metadata": {},
   "source": [
    "Filtering out sequences of which the length is less than 2."
   ]
  },
  {
   "cell_type": "code",
   "execution_count": 15,
   "metadata": {
    "collapsed": false
   },
   "outputs": [
    {
     "data": {
      "text/html": [
       "<div>\n",
       "<table border=\"1\" class=\"dataframe\">\n",
       "  <thead>\n",
       "    <tr style=\"text-align: right;\">\n",
       "      <th></th>\n",
       "      <th>seqID</th>\n",
       "      <th>userID</th>\n",
       "      <th>seqLen</th>\n",
       "    </tr>\n",
       "  </thead>\n",
       "  <tbody>\n",
       "    <tr>\n",
       "      <th>0</th>\n",
       "      <td>67</td>\n",
       "      <td>10502709@N05</td>\n",
       "      <td>3</td>\n",
       "    </tr>\n",
       "    <tr>\n",
       "      <th>1</th>\n",
       "      <td>100</td>\n",
       "      <td>10627620@N06</td>\n",
       "      <td>3</td>\n",
       "    </tr>\n",
       "    <tr>\n",
       "      <th>2</th>\n",
       "      <td>139</td>\n",
       "      <td>11090433@N05</td>\n",
       "      <td>4</td>\n",
       "    </tr>\n",
       "    <tr>\n",
       "      <th>3</th>\n",
       "      <td>166</td>\n",
       "      <td>11241023@N03</td>\n",
       "      <td>3</td>\n",
       "    </tr>\n",
       "    <tr>\n",
       "      <th>4</th>\n",
       "      <td>298</td>\n",
       "      <td>13644648@N03</td>\n",
       "      <td>7</td>\n",
       "    </tr>\n",
       "  </tbody>\n",
       "</table>\n",
       "</div>"
      ],
      "text/plain": [
       "   seqID        userID  seqLen\n",
       "0     67  10502709@N05       3\n",
       "1    100  10627620@N06       3\n",
       "2    139  11090433@N05       4\n",
       "3    166  11241023@N03       3\n",
       "4    298  13644648@N03       7"
      ]
     },
     "execution_count": 15,
     "metadata": {},
     "output_type": "execute_result"
    }
   ],
   "source": [
    "seq_stats = seq_stats[seq_stats['seqLen'] > 2]\n",
    "seq_stats.reset_index(inplace=True)\n",
    "seq_stats.head()"
   ]
  },
  {
   "cell_type": "code",
   "execution_count": 16,
   "metadata": {
    "collapsed": false
   },
   "outputs": [],
   "source": [
    "seq_stats1 = seq_stats[['userID', 'seqID']].copy().groupby('userID').agg(np.size)\n",
    "seq_stats1.rename(columns={'seqID':'#seq'}, inplace=True)"
   ]
  },
  {
   "cell_type": "code",
   "execution_count": 17,
   "metadata": {
    "collapsed": false
   },
   "outputs": [
    {
     "data": {
      "text/html": [
       "<div>\n",
       "<table border=\"1\" class=\"dataframe\">\n",
       "  <thead>\n",
       "    <tr style=\"text-align: right;\">\n",
       "      <th></th>\n",
       "      <th>#seq</th>\n",
       "    </tr>\n",
       "    <tr>\n",
       "      <th>userID</th>\n",
       "      <th></th>\n",
       "    </tr>\n",
       "  </thead>\n",
       "  <tbody>\n",
       "    <tr>\n",
       "      <th>20741443@N00</th>\n",
       "      <td>13</td>\n",
       "    </tr>\n",
       "    <tr>\n",
       "      <th>84987970@N00</th>\n",
       "      <td>15</td>\n",
       "    </tr>\n",
       "  </tbody>\n",
       "</table>\n",
       "</div>"
      ],
      "text/plain": [
       "              #seq\n",
       "userID            \n",
       "20741443@N00    13\n",
       "84987970@N00    15"
      ]
     },
     "execution_count": 17,
     "metadata": {},
     "output_type": "execute_result"
    }
   ],
   "source": [
    "seq_stats1 = seq_stats1[seq_stats1['#seq'] >= 10]\n",
    "seq_stats1.head()"
   ]
  },
  {
   "cell_type": "code",
   "execution_count": 18,
   "metadata": {
    "collapsed": false
   },
   "outputs": [
    {
     "data": {
      "text/plain": [
       "['20741443@N00', '84987970@N00']"
      ]
     },
     "execution_count": 18,
     "metadata": {},
     "output_type": "execute_result"
    }
   ],
   "source": [
    "user_list = seq_stats1.index.tolist()\n",
    "user_list.sort()\n",
    "user_list"
   ]
  },
  {
   "cell_type": "code",
   "execution_count": 19,
   "metadata": {
    "collapsed": false
   },
   "outputs": [
    {
     "name": "stdout",
     "output_type": "stream",
     "text": [
      "28\n"
     ]
    }
   ],
   "source": [
    "seqid_list = seq_stats[seq_stats['userID'].isin(user_list)]['seqID'].tolist()\n",
    "seqid_list.sort()\n",
    "print(len(seqid_list))"
   ]
  },
  {
   "cell_type": "markdown",
   "metadata": {},
   "source": [
    "## 2.4 Train vs. Query vs. Test Data"
   ]
  },
  {
   "cell_type": "code",
   "execution_count": 20,
   "metadata": {
    "collapsed": false
   },
   "outputs": [
    {
     "data": {
      "text/html": [
       "<div>\n",
       "<table border=\"1\" class=\"dataframe\">\n",
       "  <thead>\n",
       "    <tr style=\"text-align: right;\">\n",
       "      <th></th>\n",
       "      <th>userID</th>\n",
       "      <th>seqID</th>\n",
       "      <th>poiID</th>\n",
       "      <th>arrivalTime</th>\n",
       "      <th>departureTime</th>\n",
       "      <th>#photo</th>\n",
       "      <th>poiDuration(sec)</th>\n",
       "    </tr>\n",
       "  </thead>\n",
       "  <tbody>\n",
       "    <tr>\n",
       "      <th>900</th>\n",
       "      <td>20741443@N00</td>\n",
       "      <td>708</td>\n",
       "      <td>7</td>\n",
       "      <td>1160213392</td>\n",
       "      <td>1160224452</td>\n",
       "      <td>4</td>\n",
       "      <td>11060</td>\n",
       "    </tr>\n",
       "    <tr>\n",
       "      <th>901</th>\n",
       "      <td>20741443@N00</td>\n",
       "      <td>708</td>\n",
       "      <td>21</td>\n",
       "      <td>1160215990</td>\n",
       "      <td>1160216293</td>\n",
       "      <td>3</td>\n",
       "      <td>303</td>\n",
       "    </tr>\n",
       "    <tr>\n",
       "      <th>902</th>\n",
       "      <td>20741443@N00</td>\n",
       "      <td>708</td>\n",
       "      <td>23</td>\n",
       "      <td>1160214708</td>\n",
       "      <td>1160215087</td>\n",
       "      <td>3</td>\n",
       "      <td>379</td>\n",
       "    </tr>\n",
       "    <tr>\n",
       "      <th>904</th>\n",
       "      <td>20741443@N00</td>\n",
       "      <td>708</td>\n",
       "      <td>30</td>\n",
       "      <td>1160222055</td>\n",
       "      <td>1160222178</td>\n",
       "      <td>2</td>\n",
       "      <td>123</td>\n",
       "    </tr>\n",
       "    <tr>\n",
       "      <th>910</th>\n",
       "      <td>20741443@N00</td>\n",
       "      <td>712</td>\n",
       "      <td>7</td>\n",
       "      <td>1170541310</td>\n",
       "      <td>1170548979</td>\n",
       "      <td>7</td>\n",
       "      <td>7669</td>\n",
       "    </tr>\n",
       "  </tbody>\n",
       "</table>\n",
       "</div>"
      ],
      "text/plain": [
       "           userID  seqID  poiID  arrivalTime  departureTime  #photo  \\\n",
       "900  20741443@N00    708      7   1160213392     1160224452       4   \n",
       "901  20741443@N00    708     21   1160215990     1160216293       3   \n",
       "902  20741443@N00    708     23   1160214708     1160215087       3   \n",
       "904  20741443@N00    708     30   1160222055     1160222178       2   \n",
       "910  20741443@N00    712      7   1170541310     1170548979       7   \n",
       "\n",
       "     poiDuration(sec)  \n",
       "900             11060  \n",
       "901               303  \n",
       "902               379  \n",
       "904               123  \n",
       "910              7669  "
      ]
     },
     "execution_count": 20,
     "metadata": {},
     "output_type": "execute_result"
    }
   ],
   "source": [
    "seq_exp_all = seq_all[seq_all['seqID'].isin(seqid_list)]\n",
    "seq_exp_all.head()"
   ]
  },
  {
   "cell_type": "code",
   "execution_count": 21,
   "metadata": {
    "collapsed": false
   },
   "outputs": [
    {
     "data": {
      "text/plain": [
       "array([ 708,  712,  729,  783,  788,  807,  809,  825,  905,  920,  923,\n",
       "        979,  980, 5180, 5183, 5207, 5214, 5250, 5254, 5263, 5276, 5277,\n",
       "       5278, 5282, 5301, 5324, 5328, 5337])"
      ]
     },
     "execution_count": 21,
     "metadata": {},
     "output_type": "execute_result"
    }
   ],
   "source": [
    "seq_exp_all['seqID'].unique()"
   ]
  },
  {
   "cell_type": "code",
   "execution_count": 22,
   "metadata": {
    "collapsed": false
   },
   "outputs": [
    {
     "data": {
      "text/plain": [
       "[2, 3, 4, 6, 7, 11, 16, 17, 21, 22, 23, 24, 25, 27, 28, 29, 30]"
      ]
     },
     "execution_count": 22,
     "metadata": {},
     "output_type": "execute_result"
    }
   ],
   "source": [
    "poi_list = seq_exp_all['poiID'].unique().tolist()\n",
    "poi_list.sort()\n",
    "poi_list"
   ]
  },
  {
   "cell_type": "code",
   "execution_count": 23,
   "metadata": {
    "collapsed": false
   },
   "outputs": [],
   "source": [
    "user_seqid_all = dict()\n",
    "for user in user_list:\n",
    "    user_seqid_all[user] = seq_exp_all[seq_exp_all['userID'] == user]['seqID'].unique()"
   ]
  },
  {
   "cell_type": "code",
   "execution_count": 24,
   "metadata": {
    "collapsed": true
   },
   "outputs": [],
   "source": [
    "train_percent = 0.2\n",
    "query_percent = 0.6"
   ]
  },
  {
   "cell_type": "code",
   "execution_count": 25,
   "metadata": {
    "collapsed": true
   },
   "outputs": [],
   "source": [
    "user_seqid_train = dict()\n",
    "user_seqid_query = dict()\n",
    "user_seqid_test  = dict()"
   ]
  },
  {
   "cell_type": "code",
   "execution_count": 26,
   "metadata": {
    "collapsed": false
   },
   "outputs": [],
   "source": [
    "for user in user_list:\n",
    "    rand_idx = np.random.permutation(user_seqid_all[user].shape[0])\n",
    "    ntrain = round(train_percent*user_seqid_all[user].shape[0])\n",
    "    nquery = round(query_percent*user_seqid_all[user].shape[0])\n",
    "    user_seqid_train[user] = user_seqid_all[user][:ntrain]\n",
    "    user_seqid_query[user] = user_seqid_all[user][ntrain:ntrain+nquery]\n",
    "    user_seqid_test[user]  = user_seqid_all[user][ntrain+nquery:]"
   ]
  },
  {
   "cell_type": "code",
   "execution_count": 27,
   "metadata": {
    "collapsed": false
   },
   "outputs": [],
   "source": [
    "for user in user_list:\n",
    "    tmparray = np.sort(np.r_[user_seqid_train[user], user_seqid_query[user], user_seqid_test[user]])\n",
    "    assert(np.all(tmparray == np.sort(user_seqid_all[user])))"
   ]
  },
  {
   "cell_type": "markdown",
   "metadata": {},
   "source": [
    "## 2.5 Construct User-POI Visiting Matrix"
   ]
  },
  {
   "cell_type": "markdown",
   "metadata": {},
   "source": [
    "$M_{ij}$ denotes the number of visits for user $u_i$ at POI $p_j$, $NaN$ for non-observed visits."
   ]
  },
  {
   "cell_type": "code",
   "execution_count": 28,
   "metadata": {
    "collapsed": true
   },
   "outputs": [],
   "source": [
    "def calc_visit_df(user_list, poi_list, user_seqid_tuples):\n",
    "    # return a DataFrame counting the #visit at each POI for specified users\n",
    "    visit_df = pd.DataFrame(data=np.full((len(user_list), len(poi_list)), np.nan), columns=poi_list, index=user_list)\n",
    "    for tuple_ in user_seqid_tuples:\n",
    "        user = tuple_[0]\n",
    "        seqid = tuple_[1]\n",
    "        seq = extract_seq(seqid, seq_exp_all)\n",
    "        for poi in seq:\n",
    "            if np.isnan(visit_df.loc[user, poi]):\n",
    "                visit_df.loc[user, poi] = 1\n",
    "            else:\n",
    "                visit_df.loc[user, poi] += 1\n",
    "    return visit_df"
   ]
  },
  {
   "cell_type": "code",
   "execution_count": 29,
   "metadata": {
    "collapsed": false
   },
   "outputs": [],
   "source": [
    "user_seqid_tuples_all = [(user, seqid) for user in user_list for seqid in user_seqid_all[user]]\n",
    "#user_seqid_tuples_all\n",
    "visit_all_df = calc_visit_df(user_list, poi_list, user_seqid_tuples_all)"
   ]
  },
  {
   "cell_type": "code",
   "execution_count": 30,
   "metadata": {
    "collapsed": false
   },
   "outputs": [
    {
     "data": {
      "text/html": [
       "<div>\n",
       "<table border=\"1\" class=\"dataframe\">\n",
       "  <thead>\n",
       "    <tr style=\"text-align: right;\">\n",
       "      <th></th>\n",
       "      <th>2</th>\n",
       "      <th>3</th>\n",
       "      <th>4</th>\n",
       "      <th>6</th>\n",
       "      <th>7</th>\n",
       "      <th>11</th>\n",
       "      <th>16</th>\n",
       "      <th>17</th>\n",
       "      <th>21</th>\n",
       "      <th>22</th>\n",
       "      <th>23</th>\n",
       "      <th>24</th>\n",
       "      <th>25</th>\n",
       "      <th>27</th>\n",
       "      <th>28</th>\n",
       "      <th>29</th>\n",
       "      <th>30</th>\n",
       "    </tr>\n",
       "  </thead>\n",
       "  <tbody>\n",
       "    <tr>\n",
       "      <th>20741443@N00</th>\n",
       "      <td>NaN</td>\n",
       "      <td>NaN</td>\n",
       "      <td>NaN</td>\n",
       "      <td>NaN</td>\n",
       "      <td>11</td>\n",
       "      <td>1</td>\n",
       "      <td>NaN</td>\n",
       "      <td>NaN</td>\n",
       "      <td>6</td>\n",
       "      <td>6</td>\n",
       "      <td>7</td>\n",
       "      <td>1</td>\n",
       "      <td>NaN</td>\n",
       "      <td>NaN</td>\n",
       "      <td>3</td>\n",
       "      <td>NaN</td>\n",
       "      <td>6</td>\n",
       "    </tr>\n",
       "    <tr>\n",
       "      <th>84987970@N00</th>\n",
       "      <td>1</td>\n",
       "      <td>5</td>\n",
       "      <td>2</td>\n",
       "      <td>2</td>\n",
       "      <td>5</td>\n",
       "      <td>NaN</td>\n",
       "      <td>1</td>\n",
       "      <td>1</td>\n",
       "      <td>9</td>\n",
       "      <td>12</td>\n",
       "      <td>7</td>\n",
       "      <td>1</td>\n",
       "      <td>1</td>\n",
       "      <td>1</td>\n",
       "      <td>7</td>\n",
       "      <td>2</td>\n",
       "      <td>3</td>\n",
       "    </tr>\n",
       "  </tbody>\n",
       "</table>\n",
       "</div>"
      ],
      "text/plain": [
       "              2   3   4   6   7   11  16  17  21  22  23  24  25  27  28  29  \\\n",
       "20741443@N00 NaN NaN NaN NaN  11   1 NaN NaN   6   6   7   1 NaN NaN   3 NaN   \n",
       "84987970@N00   1   5   2   2   5 NaN   1   1   9  12   7   1   1   1   7   2   \n",
       "\n",
       "              30  \n",
       "20741443@N00   6  \n",
       "84987970@N00   3  "
      ]
     },
     "execution_count": 30,
     "metadata": {},
     "output_type": "execute_result"
    }
   ],
   "source": [
    "visit_all_df"
   ]
  },
  {
   "cell_type": "code",
   "execution_count": 31,
   "metadata": {
    "collapsed": false
   },
   "outputs": [],
   "source": [
    "nan_mask = np.isnan(visit_all_df)\n",
    "masked_visit = np.ma.masked_array(visit_all_df, nan_mask)"
   ]
  },
  {
   "cell_type": "code",
   "execution_count": 32,
   "metadata": {
    "collapsed": true
   },
   "outputs": [],
   "source": [
    "visits = pd.Series(masked_visit.flatten())"
   ]
  },
  {
   "cell_type": "code",
   "execution_count": 33,
   "metadata": {
    "collapsed": false
   },
   "outputs": [
    {
     "data": {
      "text/plain": [
       "count    24.000000\n",
       "mean      4.208333\n",
       "std       3.387691\n",
       "min       1.000000\n",
       "25%       1.000000\n",
       "50%       3.000000\n",
       "75%       6.250000\n",
       "max      12.000000\n",
       "dtype: float64"
      ]
     },
     "execution_count": 33,
     "metadata": {},
     "output_type": "execute_result"
    }
   ],
   "source": [
    "visits.describe()"
   ]
  },
  {
   "cell_type": "code",
   "execution_count": 34,
   "metadata": {
    "collapsed": false
   },
   "outputs": [
    {
     "data": {
      "text/plain": [
       "<matplotlib.axes._subplots.AxesSubplot at 0x109558c18>"
      ]
     },
     "execution_count": 34,
     "metadata": {},
     "output_type": "execute_result"
    },
    {
     "data": {
      "image/png": "[encoded data removed]",
      "text/plain": [
       "<matplotlib.figure.Figure at 0x1094e5208>"
      ]
     },
     "metadata": {},
     "output_type": "display_data"
    }
   ],
   "source": [
    "fig, (ax1, ax2, ax3) = plt.subplots(1, 3, figsize=(15, 4))\n",
    "\n",
    "visits.plot(kind='hist', ax=ax1, bins=20, grid=False, title='Histogram of #visit')\n",
    "\n",
    "poi_means = visit_all_df.mean(axis=0, skipna=True)\n",
    "poi_means.plot(kind='bar', ax=ax2, grid=False, title='Mean #visit for all POIs')\n",
    "\n",
    "user_means = visit_all_df.mean(axis=1, skipna=True)\n",
    "user_means.plot(kind='bar', ax=ax3, grid=False, title='Mean #visit for all users')"
   ]
  },
  {
   "cell_type": "code",
   "execution_count": 35,
   "metadata": {
    "collapsed": false
   },
   "outputs": [],
   "source": [
    "user_seqid_tuples_train = [(user, seqid) for user in user_list for seqid in user_seqid_train[user]]\n",
    "#user_seqid_tuples_train\n",
    "visit_train_df0 = calc_visit_df(user_list, poi_list, user_seqid_tuples_train)"
   ]
  },
  {
   "cell_type": "code",
   "execution_count": 36,
   "metadata": {
    "collapsed": false
   },
   "outputs": [
    {
     "data": {
      "text/html": [
       "<div>\n",
       "<table border=\"1\" class=\"dataframe\">\n",
       "  <thead>\n",
       "    <tr style=\"text-align: right;\">\n",
       "      <th></th>\n",
       "      <th>2</th>\n",
       "      <th>3</th>\n",
       "      <th>4</th>\n",
       "      <th>6</th>\n",
       "      <th>7</th>\n",
       "      <th>11</th>\n",
       "      <th>16</th>\n",
       "      <th>17</th>\n",
       "      <th>21</th>\n",
       "      <th>22</th>\n",
       "      <th>23</th>\n",
       "      <th>24</th>\n",
       "      <th>25</th>\n",
       "      <th>27</th>\n",
       "      <th>28</th>\n",
       "      <th>29</th>\n",
       "      <th>30</th>\n",
       "    </tr>\n",
       "  </thead>\n",
       "  <tbody>\n",
       "    <tr>\n",
       "      <th>20741443@N00</th>\n",
       "      <td>NaN</td>\n",
       "      <td>NaN</td>\n",
       "      <td>NaN</td>\n",
       "      <td>NaN</td>\n",
       "      <td>3</td>\n",
       "      <td>NaN</td>\n",
       "      <td>NaN</td>\n",
       "      <td>NaN</td>\n",
       "      <td>1</td>\n",
       "      <td>1</td>\n",
       "      <td>3</td>\n",
       "      <td>NaN</td>\n",
       "      <td>NaN</td>\n",
       "      <td>NaN</td>\n",
       "      <td>NaN</td>\n",
       "      <td>NaN</td>\n",
       "      <td>2</td>\n",
       "    </tr>\n",
       "    <tr>\n",
       "      <th>84987970@N00</th>\n",
       "      <td>1</td>\n",
       "      <td>1</td>\n",
       "      <td>1</td>\n",
       "      <td>NaN</td>\n",
       "      <td>NaN</td>\n",
       "      <td>NaN</td>\n",
       "      <td>NaN</td>\n",
       "      <td>1</td>\n",
       "      <td>2</td>\n",
       "      <td>2</td>\n",
       "      <td>1</td>\n",
       "      <td>NaN</td>\n",
       "      <td>1</td>\n",
       "      <td>NaN</td>\n",
       "      <td>NaN</td>\n",
       "      <td>NaN</td>\n",
       "      <td>NaN</td>\n",
       "    </tr>\n",
       "  </tbody>\n",
       "</table>\n",
       "</div>"
      ],
      "text/plain": [
       "              2   3   4   6   7   11  16  17  21  22  23  24  25  27  28  29  \\\n",
       "20741443@N00 NaN NaN NaN NaN   3 NaN NaN NaN   1   1   3 NaN NaN NaN NaN NaN   \n",
       "84987970@N00   1   1   1 NaN NaN NaN NaN   1   2   2   1 NaN   1 NaN NaN NaN   \n",
       "\n",
       "              30  \n",
       "20741443@N00   2  \n",
       "84987970@N00 NaN  "
      ]
     },
     "execution_count": 36,
     "metadata": {},
     "output_type": "execute_result"
    }
   ],
   "source": [
    "visit_train_df0"
   ]
  },
  {
   "cell_type": "code",
   "execution_count": 37,
   "metadata": {
    "collapsed": false
   },
   "outputs": [],
   "source": [
    "nan_mask_train = np.isnan(visit_train_df0)\n",
    "masked_visit_train = np.ma.masked_array(visit_train_df0, nan_mask_train)"
   ]
  },
  {
   "cell_type": "code",
   "execution_count": 38,
   "metadata": {
    "collapsed": true
   },
   "outputs": [],
   "source": [
    "visits_train = pd.Series(masked_visit_train.flatten())"
   ]
  },
  {
   "cell_type": "code",
   "execution_count": 39,
   "metadata": {
    "collapsed": false
   },
   "outputs": [
    {
     "data": {
      "text/plain": [
       "count    13.000000\n",
       "mean      1.538462\n",
       "std       0.776250\n",
       "min       1.000000\n",
       "25%       1.000000\n",
       "50%       1.000000\n",
       "75%       2.000000\n",
       "max       3.000000\n",
       "dtype: float64"
      ]
     },
     "execution_count": 39,
     "metadata": {},
     "output_type": "execute_result"
    }
   ],
   "source": [
    "visits_train.describe()"
   ]
  },
  {
   "cell_type": "code",
   "execution_count": 40,
   "metadata": {
    "collapsed": false
   },
   "outputs": [
    {
     "data": {
      "text/plain": [
       "<matplotlib.axes._subplots.AxesSubplot at 0x1099327f0>"
      ]
     },
     "execution_count": 40,
     "metadata": {},
     "output_type": "execute_result"
    },
    {
     "data": {
      "image/png": "[encoded data removed]",
      "text/plain": [
       "<matplotlib.figure.Figure at 0x1093b9240>"
      ]
     },
     "metadata": {},
     "output_type": "display_data"
    }
   ],
   "source": [
    "fig, (ax1, ax2, ax3) = plt.subplots(1, 3, figsize=(15, 4))\n",
    "\n",
    "visits_train.plot(kind='hist', ax=ax1, bins=20, grid=False, title='Histogram of #visit')\n",
    "\n",
    "poi_means_train = visit_train_df0.mean(axis=0, skipna=True)\n",
    "poi_means_train.plot(kind='bar', ax=ax2, grid=False, title='Mean #visit for all POIs in training set')\n",
    "\n",
    "user_means_train = visit_train_df0.mean(axis=1, skipna=True)\n",
    "user_means_train.plot(kind='bar', ax=ax3, grid=False, title='Mean #visit for all users in training set')"
   ]
  },
  {
   "cell_type": "markdown",
   "metadata": {},
   "source": [
    "## 2.6 Training using BPR"
   ]
  },
  {
   "cell_type": "markdown",
   "metadata": {},
   "source": [
    "Compute index $(u, i, j)$ for user $u$ and visited POI $i$ and unvisited POI $j$."
   ]
  },
  {
   "cell_type": "code",
   "execution_count": 41,
   "metadata": {
    "collapsed": true
   },
   "outputs": [],
   "source": [
    "def calc_x_ind(visit_train_df):\n",
    "    # return array that stores tuple (u, i, j)\n",
    "    # user u\n",
    "    # POI i: u visited POI i\n",
    "    # POI j: u didn't visit POI j\n",
    "    \n",
    "    # NaN indicator matrix\n",
    "    nan_ind = np.isnan(visit_train_df)\n",
    "    #print(nan_ind)\n",
    "    \n",
    "    # array that stores tuple (u, i, j)\n",
    "    x_ind = []\n",
    "    for u in np.arange(visit_train_df.shape[0]):\n",
    "        #print(np.nonzero(nan_ind.iloc[u])[0])\n",
    "        unvisited_ind = np.nonzero(nan_ind.iloc[u])[0]\n",
    "        visited_ind = np.nonzero(~nan_ind.iloc[u])[0]\n",
    "        tuples_u = [[u, i, j] for i in visited_ind for j in unvisited_ind]\n",
    "        if len(x_ind) == 0:\n",
    "            x_ind = tuples_u\n",
    "        else:\n",
    "            x_ind = np.r_[x_ind, tuples_u]\n",
    "        \n",
    "    return x_ind"
   ]
  },
  {
   "cell_type": "markdown",
   "metadata": {},
   "source": [
    "Sanity check."
   ]
  },
  {
   "cell_type": "code",
   "execution_count": 42,
   "metadata": {
    "collapsed": false
   },
   "outputs": [],
   "source": [
    "#x_ind0 = calc_x_ind(visit_train_df)"
   ]
  },
  {
   "cell_type": "code",
   "execution_count": 43,
   "metadata": {
    "collapsed": false
   },
   "outputs": [],
   "source": [
    "#print(x_ind0)"
   ]
  },
  {
   "cell_type": "markdown",
   "metadata": {},
   "source": [
    "Objective function and gradient of (negative) BPR-OPT."
   ]
  },
  {
   "cell_type": "code",
   "execution_count": 44,
   "metadata": {
    "collapsed": true
   },
   "outputs": [],
   "source": [
    "def obj_func(Theta, x_ind, nUser, Lambda):\n",
    "    \"\"\"\n",
    "    :param Theta: ndarray, feature vectors/matrix of user and POI\n",
    "    :param x_ind: ndarray, array contains tuple (u, i, j)\n",
    "    :param nUser: int, number of users\n",
    "    :param Lambda: float, regularization parameter\n",
    "    :return negative of BPR-OPT, gradient of negative BPR-OPT w.r.t. parameters\n",
    "    \"\"\"\n",
    "    \n",
    "    # user features\n",
    "    Theta_u = Theta[:nUser]\n",
    "    \n",
    "    # POI features\n",
    "    Theta_p = Theta[nUser:]\n",
    "    \n",
    "    # user features w.r.t. index u\n",
    "    f_u = Theta_u[x_ind[:, 0]]\n",
    "    \n",
    "    # POI features w.r.t. index i\n",
    "    f_i = Theta_p[x_ind[:, 1]]\n",
    "    \n",
    "    # POI features w.r.t. index j\n",
    "    f_j = Theta_p[x_ind[:, 2]]\n",
    "    \n",
    "    assert(f_u.shape == f_i.shape == f_j.shape)\n",
    "    \n",
    "    # \\hat{x}_{ui} = dot_product(feature vector of user u, feature vector of POI i)\n",
    "    x_ui = [np.dot(f_u[idx], f_i[idx]) for idx in np.arange(x_ind.shape[0])]\n",
    "    #print(x_ui)\n",
    "    \n",
    "    # \\hat{x}_{uj}\n",
    "    x_uj = [np.dot(f_u[idx], f_j[idx]) for idx in np.arange(x_ind.shape[0])]\n",
    "    #print(x_uj)\n",
    "    \n",
    "    # \\hat{x}_{uij} = \\hat{x}_{ui} - \\hat{x}_{uj}\n",
    "    x_uij = np.array(x_ui) - np.array(x_uj)\n",
    "    #print(x_uij)\n",
    "    \n",
    "    # sum( ln( sigmoid(x_uij) ))\n",
    "    obj = np.sum(np.log(1. / (1. + np.exp(-x_uij))))\n",
    "    \n",
    "    # regularization term\n",
    "    #obj -= Lambda * np.multiply(Theta, Theta).sum() # causes math overflow when lambda=1\n",
    "    \n",
    "    # compute (negative) gradient of (negative) BPR-OPT w.r.t. model parameters\n",
    "    # for SGD, just compute gradients given a random tuple (u, i, j) \n",
    "    grad_u = np.zeros_like(Theta_u, dtype=np.float)\n",
    "    grad_p = np.zeros_like(Theta_p, dtype=np.float)   \n",
    "    idx = np.random.choice(np.arange(x_ind.shape[0]))\n",
    "    u, i, j = x_ind[idx]\n",
    "    grad_u[u] = Theta_p[i] - Theta_p[j]\n",
    "    grad_p[i] = Theta_u[u]\n",
    "    grad_p[j] = -Theta_u[u]\n",
    "    \n",
    "    tmpval = math.exp(-x_uij[idx])\n",
    "    grad = -tmpval / (1 + tmpval) * np.r_[grad_u, grad_p]\n",
    "    #grad -= Lambda * Theta # regularization term # causes math overflow when lambda=1\n",
    "    \n",
    "    return obj, grad"
   ]
  },
  {
   "cell_type": "code",
   "execution_count": 45,
   "metadata": {
    "collapsed": true
   },
   "outputs": [],
   "source": [
    "def learn_BPR_SGD(visit_train_df, Theta0, Lambda, Alpha=1e-2, maxIter=1e6, ftol=1e-9):\n",
    "    # learning procedure, maximize BPR-OPT w.r.t model parameters using stochastic gradient descent\n",
    "    # return model parameters and objective history\n",
    "    \n",
    "    # number of users\n",
    "    nUser = visit_train_df.shape[0]\n",
    "    \n",
    "    # index (u, i, j)\n",
    "    x_ind = calc_x_ind(visit_train_df)\n",
    "    \n",
    "    Theta = Theta0.copy()\n",
    "    \n",
    "    nit = 0\n",
    "    obj_prev = 0\n",
    "    obj_history = []\n",
    "    printstep = round(maxIter / 5, 2)\n",
    "    \n",
    "    while True:\n",
    "        f, df = obj_func(Theta, x_ind, nUser, Lambda)\n",
    "        if abs(obj_prev - f) < ftol or nit > maxIter:\n",
    "            break\n",
    "        obj_prev = f\n",
    "        Theta -= Alpha * df\n",
    "        obj_history.append(f)\n",
    "        if nit % printstep == 0:\n",
    "            print('Iteration %d, Objective: %.8f' % (nit, f)); sys.stdout.flush()\n",
    "        nit += 1\n",
    "            \n",
    "    print('Iteration %d, Objective: %.8f' % (nit, obj_history[-1]))\n",
    "    print('diff: %f' % np.abs(Theta - Theta0).sum())\n",
    "    \n",
    "    return Theta, obj_history\n",
    "    \n",
    "    #'Desired error not necessarily achieved due to precision loss.'\n",
    "    #Theta = Theta0.reshape(np.prod(Theta0.shape)) # reshape to 1-dimension vector\n",
    "    # minimize objective function using stochastic gradient descent (encoded in obj_func)\n",
    "    # using scipy.minimize\n",
    "    #result = sop.minimize(fun=obj_func, x0=Theta, args=(x_ind, nUser, Lambda), jac=True)\n",
    "    #print(result)\n",
    "    #if result.success:\n",
    "        #return result.x.reshape(Theta0.shape)\n",
    "    #else:\n",
    "        #return None"
   ]
  },
  {
   "cell_type": "code",
   "execution_count": 46,
   "metadata": {
    "collapsed": false
   },
   "outputs": [],
   "source": [
    "# dimension for hidden features\n",
    "# for each user: a DIM feature vector\n",
    "# for each POI: a DIM feature vector\n",
    "DIM = 10\n",
    "\n",
    "# regularization constant\n",
    "Lambda = 1e-5\n",
    "\n",
    "# learning rate\n",
    "Alpha = 0.01\n",
    "\n",
    "# maximum number of iteration\n",
    "maxIter = 1e5\n",
    "\n",
    "# feature matrix\n",
    "# for users: |U| x DIM\n",
    "# for POIs: |POI| x DIM\n",
    "Theta0 = np.random.rand(len(user_list) + len(poi_list), DIM)"
   ]
  },
  {
   "cell_type": "code",
   "execution_count": 47,
   "metadata": {
    "collapsed": false
   },
   "outputs": [
    {
     "name": "stdout",
     "output_type": "stream",
     "text": [
      "Iteration 0, Objective: -109.87386597\n",
      "Iteration 20000, Objective: -0.27287665\n",
      "Iteration 40000, Objective: -0.11208064\n",
      "Iteration 60000, Objective: -0.06833318\n",
      "Iteration 80000, Objective: -0.04824043\n",
      "Iteration 100000, Objective: -0.03697523\n",
      "Iteration 100001, Objective: -0.03697523\n",
      "diff: 70.988202\n"
     ]
    }
   ],
   "source": [
    "Theta, history = learn_BPR_SGD(visit_train_df0, Theta0, Lambda, Alpha, maxIter)"
   ]
  },
  {
   "cell_type": "code",
   "execution_count": 48,
   "metadata": {
    "collapsed": false
   },
   "outputs": [
    {
     "data": {
      "text/plain": [
       "[<matplotlib.lines.Line2D at 0x109e92f98>]"
      ]
     },
     "execution_count": 48,
     "metadata": {},
     "output_type": "execute_result"
    },
    {
     "data": {
      "image/png": "[encoded data removed]",
      "text/plain": [
       "<matplotlib.figure.Figure at 0x1094cf550>"
      ]
     },
     "metadata": {},
     "output_type": "display_data"
    }
   ],
   "source": [
    "plt.figure(figsize=[16, 6])\n",
    "plt.xlabel('#Iteration')\n",
    "plt.ylabel('Objective')\n",
    "plt.plot(np.arange(len(history)), history, ls='--', marker='+', color='g')"
   ]
  },
  {
   "cell_type": "code",
   "execution_count": 49,
   "metadata": {
    "collapsed": false
   },
   "outputs": [],
   "source": [
    "def calc_predicted_df(Theta, user_list, poi_list):\n",
    "    nUser = len(user_list)\n",
    "    Theta_u = Theta[:nUser] # user features\n",
    "    Theta_p = Theta[nUser:] # POI features\n",
    "    predicted_df = pd.DataFrame(data=np.zeros((nUser, len(poi_list)), dtype=np.float), columns=poi_list, index=user_list)\n",
    "    for u in np.arange(len(user_list)):\n",
    "        user = user_list[u]\n",
    "        for p in np.arange(len(poi_list)):\n",
    "            poi = poi_list[p]\n",
    "            predicted_df.loc[user, poi] = np.dot(Theta_u[u], Theta_p[p])\n",
    "    return predicted_df"
   ]
  },
  {
   "cell_type": "code",
   "execution_count": 50,
   "metadata": {
    "collapsed": false
   },
   "outputs": [],
   "source": [
    "def calc_compare_df(visited_df, predicted_df, scale_factor=1):\n",
    "    userlist_ = predicted_df.index.tolist()\n",
    "    poilist_ = predicted_df.columns.tolist()\n",
    "    compare_df = pd.DataFrame(data=np.zeros((len(poilist_), 2*len(userlist_)), dtype=np.float), index=poilist_)\n",
    "    for u in range(len(userlist_)):\n",
    "        user = userlist_[u]\n",
    "        compare_df.iloc[:, 2*u] = visited_df.loc[user]\n",
    "        compare_df.iloc[:, 2*u+1] = np.round(predicted_df.loc[user]*scale_factor, 1)\n",
    "        compare_df.rename(columns=\\\n",
    "                          {compare_df.columns[2*u]:'REAL_' + str(user), compare_df.columns[2*u+1]:'PRED_' + str(user)}, \\\n",
    "                          inplace=True)\n",
    "    return compare_df"
   ]
  },
  {
   "cell_type": "code",
   "execution_count": 51,
   "metadata": {
    "collapsed": false
   },
   "outputs": [
    {
     "data": {
      "text/html": [
       "<div>\n",
       "<table border=\"1\" class=\"dataframe\">\n",
       "  <thead>\n",
       "    <tr style=\"text-align: right;\">\n",
       "      <th></th>\n",
       "      <th>2</th>\n",
       "      <th>3</th>\n",
       "      <th>4</th>\n",
       "      <th>6</th>\n",
       "      <th>7</th>\n",
       "      <th>11</th>\n",
       "      <th>16</th>\n",
       "      <th>17</th>\n",
       "      <th>21</th>\n",
       "      <th>22</th>\n",
       "      <th>23</th>\n",
       "      <th>24</th>\n",
       "      <th>25</th>\n",
       "      <th>27</th>\n",
       "      <th>28</th>\n",
       "      <th>29</th>\n",
       "      <th>30</th>\n",
       "    </tr>\n",
       "  </thead>\n",
       "  <tbody>\n",
       "    <tr>\n",
       "      <th>20741443@N00</th>\n",
       "      <td>2.552960</td>\n",
       "      <td>2.195888</td>\n",
       "      <td>2.174276</td>\n",
       "      <td>2.417906</td>\n",
       "      <td>10.010544</td>\n",
       "      <td>1.945830</td>\n",
       "      <td>0.674738</td>\n",
       "      <td>2.484097</td>\n",
       "      <td>10.446289</td>\n",
       "      <td>10.353489</td>\n",
       "      <td>10.257024</td>\n",
       "      <td>1.36027</td>\n",
       "      <td>2.402403</td>\n",
       "      <td>1.844503</td>\n",
       "      <td>2.062746</td>\n",
       "      <td>1.858002</td>\n",
       "      <td>10.092226</td>\n",
       "    </tr>\n",
       "    <tr>\n",
       "      <th>84987970@N00</th>\n",
       "      <td>8.685891</td>\n",
       "      <td>9.069142</td>\n",
       "      <td>8.988505</td>\n",
       "      <td>-0.652646</td>\n",
       "      <td>1.191739</td>\n",
       "      <td>0.269904</td>\n",
       "      <td>1.072170</td>\n",
       "      <td>9.007430</td>\n",
       "      <td>8.957274</td>\n",
       "      <td>9.409995</td>\n",
       "      <td>9.472484</td>\n",
       "      <td>0.86236</td>\n",
       "      <td>8.805264</td>\n",
       "      <td>0.627963</td>\n",
       "      <td>0.658094</td>\n",
       "      <td>0.801226</td>\n",
       "      <td>1.164977</td>\n",
       "    </tr>\n",
       "  </tbody>\n",
       "</table>\n",
       "</div>"
      ],
      "text/plain": [
       "                    2         3         4         6          7         11  \\\n",
       "20741443@N00  2.552960  2.195888  2.174276  2.417906  10.010544  1.945830   \n",
       "84987970@N00  8.685891  9.069142  8.988505 -0.652646   1.191739  0.269904   \n",
       "\n",
       "                    16        17         21         22         23       24  \\\n",
       "20741443@N00  0.674738  2.484097  10.446289  10.353489  10.257024  1.36027   \n",
       "84987970@N00  1.072170  9.007430   8.957274   9.409995   9.472484  0.86236   \n",
       "\n",
       "                    25        27        28        29         30  \n",
       "20741443@N00  2.402403  1.844503  2.062746  1.858002  10.092226  \n",
       "84987970@N00  8.805264  0.627963  0.658094  0.801226   1.164977  "
      ]
     },
     "execution_count": 51,
     "metadata": {},
     "output_type": "execute_result"
    }
   ],
   "source": [
    "predicted_df0 = calc_predicted_df(Theta, user_list, poi_list)\n",
    "predicted_df0"
   ]
  },
  {
   "cell_type": "code",
   "execution_count": 52,
   "metadata": {
    "collapsed": false
   },
   "outputs": [
    {
     "data": {
      "text/html": [
       "<div>\n",
       "<table border=\"1\" class=\"dataframe\">\n",
       "  <thead>\n",
       "    <tr style=\"text-align: right;\">\n",
       "      <th></th>\n",
       "      <th>REAL_20741443@N00</th>\n",
       "      <th>PRED_20741443@N00</th>\n",
       "      <th>REAL_84987970@N00</th>\n",
       "      <th>PRED_84987970@N00</th>\n",
       "    </tr>\n",
       "  </thead>\n",
       "  <tbody>\n",
       "    <tr>\n",
       "      <th>2</th>\n",
       "      <td>NaN</td>\n",
       "      <td>2.6</td>\n",
       "      <td>1</td>\n",
       "      <td>8.7</td>\n",
       "    </tr>\n",
       "    <tr>\n",
       "      <th>3</th>\n",
       "      <td>NaN</td>\n",
       "      <td>2.2</td>\n",
       "      <td>5</td>\n",
       "      <td>9.1</td>\n",
       "    </tr>\n",
       "    <tr>\n",
       "      <th>4</th>\n",
       "      <td>NaN</td>\n",
       "      <td>2.2</td>\n",
       "      <td>2</td>\n",
       "      <td>9.0</td>\n",
       "    </tr>\n",
       "    <tr>\n",
       "      <th>6</th>\n",
       "      <td>NaN</td>\n",
       "      <td>2.4</td>\n",
       "      <td>2</td>\n",
       "      <td>-0.7</td>\n",
       "    </tr>\n",
       "    <tr>\n",
       "      <th>7</th>\n",
       "      <td>11</td>\n",
       "      <td>10.0</td>\n",
       "      <td>5</td>\n",
       "      <td>1.2</td>\n",
       "    </tr>\n",
       "    <tr>\n",
       "      <th>11</th>\n",
       "      <td>1</td>\n",
       "      <td>1.9</td>\n",
       "      <td>NaN</td>\n",
       "      <td>0.3</td>\n",
       "    </tr>\n",
       "    <tr>\n",
       "      <th>16</th>\n",
       "      <td>NaN</td>\n",
       "      <td>0.7</td>\n",
       "      <td>1</td>\n",
       "      <td>1.1</td>\n",
       "    </tr>\n",
       "    <tr>\n",
       "      <th>17</th>\n",
       "      <td>NaN</td>\n",
       "      <td>2.5</td>\n",
       "      <td>1</td>\n",
       "      <td>9.0</td>\n",
       "    </tr>\n",
       "    <tr>\n",
       "      <th>21</th>\n",
       "      <td>6</td>\n",
       "      <td>10.4</td>\n",
       "      <td>9</td>\n",
       "      <td>9.0</td>\n",
       "    </tr>\n",
       "    <tr>\n",
       "      <th>22</th>\n",
       "      <td>6</td>\n",
       "      <td>10.4</td>\n",
       "      <td>12</td>\n",
       "      <td>9.4</td>\n",
       "    </tr>\n",
       "    <tr>\n",
       "      <th>23</th>\n",
       "      <td>7</td>\n",
       "      <td>10.3</td>\n",
       "      <td>7</td>\n",
       "      <td>9.5</td>\n",
       "    </tr>\n",
       "    <tr>\n",
       "      <th>24</th>\n",
       "      <td>1</td>\n",
       "      <td>1.4</td>\n",
       "      <td>1</td>\n",
       "      <td>0.9</td>\n",
       "    </tr>\n",
       "    <tr>\n",
       "      <th>25</th>\n",
       "      <td>NaN</td>\n",
       "      <td>2.4</td>\n",
       "      <td>1</td>\n",
       "      <td>8.8</td>\n",
       "    </tr>\n",
       "    <tr>\n",
       "      <th>27</th>\n",
       "      <td>NaN</td>\n",
       "      <td>1.8</td>\n",
       "      <td>1</td>\n",
       "      <td>0.6</td>\n",
       "    </tr>\n",
       "    <tr>\n",
       "      <th>28</th>\n",
       "      <td>3</td>\n",
       "      <td>2.1</td>\n",
       "      <td>7</td>\n",
       "      <td>0.7</td>\n",
       "    </tr>\n",
       "    <tr>\n",
       "      <th>29</th>\n",
       "      <td>NaN</td>\n",
       "      <td>1.9</td>\n",
       "      <td>2</td>\n",
       "      <td>0.8</td>\n",
       "    </tr>\n",
       "    <tr>\n",
       "      <th>30</th>\n",
       "      <td>6</td>\n",
       "      <td>10.1</td>\n",
       "      <td>3</td>\n",
       "      <td>1.2</td>\n",
       "    </tr>\n",
       "  </tbody>\n",
       "</table>\n",
       "</div>"
      ],
      "text/plain": [
       "    REAL_20741443@N00  PRED_20741443@N00  REAL_84987970@N00  PRED_84987970@N00\n",
       "2                 NaN                2.6                  1                8.7\n",
       "3                 NaN                2.2                  5                9.1\n",
       "4                 NaN                2.2                  2                9.0\n",
       "6                 NaN                2.4                  2               -0.7\n",
       "7                  11               10.0                  5                1.2\n",
       "11                  1                1.9                NaN                0.3\n",
       "16                NaN                0.7                  1                1.1\n",
       "17                NaN                2.5                  1                9.0\n",
       "21                  6               10.4                  9                9.0\n",
       "22                  6               10.4                 12                9.4\n",
       "23                  7               10.3                  7                9.5\n",
       "24                  1                1.4                  1                0.9\n",
       "25                NaN                2.4                  1                8.8\n",
       "27                NaN                1.8                  1                0.6\n",
       "28                  3                2.1                  7                0.7\n",
       "29                NaN                1.9                  2                0.8\n",
       "30                  6               10.1                  3                1.2"
      ]
     },
     "execution_count": 52,
     "metadata": {},
     "output_type": "execute_result"
    }
   ],
   "source": [
    "compare_df = calc_compare_df(visit_all_df, predicted_df0)\n",
    "compare_df"
   ]
  },
  {
   "cell_type": "code",
   "execution_count": 53,
   "metadata": {
    "collapsed": true
   },
   "outputs": [],
   "source": [
    "def calc_order_error(visited_df, predicted_df):\n",
    "    error_rates = dict()\n",
    "    nan_ind = np.isnan(visited_df) # NaN indicator matrix\n",
    "    for u in range(visited_df.shape[0]):\n",
    "        unvisited_ind = np.nonzero(nan_ind.iloc[u])[0]\n",
    "        visited_ind = np.nonzero(~nan_ind.iloc[u])[0]\n",
    "        total = len(visited_ind) * len(unvisited_ind)\n",
    "        error = 0\n",
    "        for idx in unvisited_ind:\n",
    "            #print(predicted_df.iloc[u, idx])\n",
    "            #print(predicted_df.iloc[u, visited_ind].values)\n",
    "            error += np.sum(predicted_df.iloc[u, idx] > predicted_df.iloc[u, visited_ind].values)\n",
    "        #error_rates[predicted_df.index[u]] = [error / total, error, total]\n",
    "        error_rates[predicted_df.index[u]] = error / total\n",
    "    return error_rates"
   ]
  },
  {
   "cell_type": "code",
   "execution_count": 54,
   "metadata": {
    "collapsed": false
   },
   "outputs": [
    {
     "data": {
      "text/plain": [
       "{'20741443@N00': 0.27777777777777779, '84987970@N00': 0.0625}"
      ]
     },
     "execution_count": 54,
     "metadata": {},
     "output_type": "execute_result"
    }
   ],
   "source": [
    "calc_order_error(visit_all_df, predicted_df0)"
   ]
  },
  {
   "cell_type": "code",
   "execution_count": 55,
   "metadata": {
    "collapsed": false
   },
   "outputs": [
    {
     "data": {
      "text/plain": [
       "{'20741443@N00': 0.0, '84987970@N00': 0.0}"
      ]
     },
     "execution_count": 55,
     "metadata": {},
     "output_type": "execute_result"
    }
   ],
   "source": [
    "train_error_rates0 = calc_order_error(visit_train_df0, predicted_df0)\n",
    "train_error_rates0"
   ]
  },
  {
   "cell_type": "code",
   "execution_count": 56,
   "metadata": {
    "collapsed": false
   },
   "outputs": [],
   "source": [
    "user_seqid_tuples_test = [(user, seqid) for user in user_list for seqid in user_seqid_test[user]]\n",
    "visit_test_df0 = calc_visit_df(user_list, poi_list, user_seqid_tuples_test)"
   ]
  },
  {
   "cell_type": "code",
   "execution_count": 57,
   "metadata": {
    "collapsed": false
   },
   "outputs": [
    {
     "data": {
      "text/plain": [
       "{'20741443@N00': 0.38333333333333336, '84987970@N00': 0.18333333333333332}"
      ]
     },
     "execution_count": 57,
     "metadata": {},
     "output_type": "execute_result"
    }
   ],
   "source": [
    "test_error_rates0 = calc_order_error(visit_test_df0, predicted_df0)\n",
    "test_error_rates0"
   ]
  },
  {
   "cell_type": "markdown",
   "metadata": {
    "collapsed": true
   },
   "source": [
    "## 2.7 Random Baseline"
   ]
  },
  {
   "cell_type": "markdown",
   "metadata": {},
   "source": [
    "Random baseline, i.e. passive learning."
   ]
  },
  {
   "cell_type": "code",
   "execution_count": 58,
   "metadata": {
    "collapsed": true
   },
   "outputs": [],
   "source": [
    "def calc_F1score(poi_set_act, poi_set_rec):\n",
    "    assert(len(poi_set_act) > 0)\n",
    "    assert(len(poi_set_rec) > 0)\n",
    "    actset = set(poi_set_act)\n",
    "    recset = set(poi_set_rec)\n",
    "    intersect = actset & recset\n",
    "    recall = len(intersect) / len(poi_set_act)\n",
    "    precision = len(intersect) / len(poi_set_rec)\n",
    "    F1score = 2. * precision * recall / (precision + recall)\n",
    "    return F1score"
   ]
  },
  {
   "cell_type": "code",
   "execution_count": 59,
   "metadata": {
    "collapsed": true
   },
   "outputs": [],
   "source": [
    "def evaluate(Theta, user_list, poi_list, user_seqid_tuples_test):\n",
    "    predicted_df = calc_predicted_df(Theta, user_list, poi_list)\n",
    "    F1scores = []\n",
    "    for user, seqid in user_seqid_tuples_test:\n",
    "        poi_set_act = extract_seq(seqid, seq_exp_all)\n",
    "        p_idx = predicted_df.loc[user].argsort()\n",
    "        decreased = predicted_df.columns[p_idx.values][::-1]\n",
    "        poi_set_rec = [p for p in decreased if p not in {poi_set_act[0], poi_set_act[-1]}][:len(poi_set_act)-2]\n",
    "        poi_set_rec.extend([poi_set_act[0], poi_set_act[-1]])\n",
    "        F1 = calc_F1score(poi_set_act, poi_set_rec)\n",
    "        F1scores.append(F1)\n",
    "    return F1scores"
   ]
  },
  {
   "cell_type": "code",
   "execution_count": 60,
   "metadata": {
    "collapsed": false
   },
   "outputs": [],
   "source": [
    "user_seqid_tuples_train = [(user, seqid) for user in user_list for seqid in user_seqid_train[user]]\n",
    "visit_train_df = calc_visit_df(user_list, poi_list, user_seqid_tuples_train)"
   ]
  },
  {
   "cell_type": "code",
   "execution_count": 61,
   "metadata": {
    "collapsed": false
   },
   "outputs": [
    {
     "data": {
      "text/plain": [
       "[0.0]"
      ]
     },
     "execution_count": 61,
     "metadata": {},
     "output_type": "execute_result"
    }
   ],
   "source": [
    "errors_train = [np.mean(list(train_error_rates0.values()))]\n",
    "errors_train"
   ]
  },
  {
   "cell_type": "code",
   "execution_count": 62,
   "metadata": {
    "collapsed": true
   },
   "outputs": [],
   "source": [
    "visit_test_df = visit_test_df0.copy()\n",
    "errors_test =  [np.mean(list(test_error_rates0.values()))]"
   ]
  },
  {
   "cell_type": "code",
   "execution_count": 63,
   "metadata": {
    "collapsed": false
   },
   "outputs": [],
   "source": [
    "user_seqid_tuples_query = [(user, seqid) for user in user_list for seqid in user_seqid_query[user]]\n",
    "#user_seqid_tuples_query"
   ]
  },
  {
   "cell_type": "code",
   "execution_count": 64,
   "metadata": {
    "collapsed": true
   },
   "outputs": [],
   "source": [
    "user_seqid_tuples_test = [(user, seqid) for user in user_list for seqid in user_seqid_test[user]]"
   ]
  },
  {
   "cell_type": "code",
   "execution_count": 65,
   "metadata": {
    "collapsed": false
   },
   "outputs": [
    {
     "name": "stdout",
     "output_type": "stream",
     "text": [
      "choose: (20741443@N00, [21, 11, 22])\n",
      "Iteration 0, Objective: -76.96142895\n",
      "Iteration 20000, Objective: -0.28028165\n",
      "Iteration 40000, Objective: -0.11773956\n",
      "Iteration 60000, Objective: -0.07203326\n",
      "Iteration 80000, Objective: -0.05115036\n",
      "Iteration 100000, Objective: -0.03929951\n",
      "Iteration 100001, Objective: -0.03929951\n",
      "diff: 67.403146\n",
      "F1: (0.75,  0)\n",
      "mean error: 0.00, 0.26\n",
      "choose: (20741443@N00, [30, 7, 21])\n",
      "Iteration 0, Objective: -108.80190090\n",
      "Iteration 20000, Objective: -0.28818901\n",
      "Iteration 40000, Objective: -0.11883760\n",
      "Iteration 60000, Objective: -0.07253172\n",
      "Iteration 80000, Objective: -0.05133719\n",
      "Iteration 100000, Objective: -0.03941696\n",
      "Iteration 100001, Objective: -0.03941696\n",
      "diff: 74.071189\n",
      "F1: (0.82,  0)\n",
      "mean error: 0.00, 0.26\n",
      "choose: (20741443@N00, [23, 22, 28])\n",
      "Iteration 0, Objective: -98.95764185\n",
      "Iteration 20000, Objective: -0.29492069\n",
      "Iteration 40000, Objective: -0.12232773\n",
      "Iteration 60000, Objective: -0.07475749\n",
      "Iteration 80000, Objective: -0.05301833\n",
      "Iteration 100000, Objective: -0.04074141\n",
      "Iteration 100001, Objective: -0.04074141\n",
      "diff: 71.650890\n",
      "F1: (0.70,  0)\n",
      "mean error: 0.00, 0.27\n",
      "choose: (20741443@N00, [21, 7, 30])\n",
      "Iteration 0, Objective: -111.88180029\n",
      "Iteration 20000, Objective: -0.29924965\n",
      "Iteration 40000, Objective: -0.12442416\n",
      "Iteration 60000, Objective: -0.07582264\n",
      "Iteration 80000, Objective: -0.05374892\n",
      "Iteration 100000, Objective: -0.04125322\n",
      "Iteration 100001, Objective: -0.04125322\n",
      "diff: 73.806674\n",
      "F1: (0.63,  0)\n",
      "mean error: 0.00, 0.27\n",
      "choose: (20741443@N00, [7, 21, 22])\n",
      "Iteration 0, Objective: -91.76305238\n",
      "Iteration 20000, Objective: -0.29834206\n",
      "Iteration 40000, Objective: -0.12430120\n",
      "Iteration 60000, Objective: -0.07590028\n",
      "Iteration 80000, Objective: -0.05380264\n",
      "Iteration 100000, Objective: -0.04133047\n",
      "Iteration 100001, Objective: -0.04133047\n",
      "diff: 66.514034\n",
      "F1: (0.63,  0)\n",
      "mean error: 0.00, 0.35\n",
      "choose: (84987970@N00, [4, 30, 7])\n",
      "Iteration 0, Objective: -112.60229508\n",
      "Iteration 20000, Objective: -0.30237762\n",
      "Iteration 40000, Objective: -0.12381286\n",
      "Iteration 60000, Objective: -0.07498808\n",
      "Iteration 80000, Objective: -0.05284978\n",
      "Iteration 100000, Objective: -0.04045981\n",
      "Iteration 100001, Objective: -0.04045981\n",
      "diff: 73.978168\n",
      "F1: (0.63,  0)\n",
      "mean error: 0.00, 0.24\n",
      "choose: (20741443@N00, [7, 21, 23])\n",
      "Iteration 0, Objective: -123.46313618\n",
      "Iteration 20000, Objective: -0.29906586\n",
      "Iteration 40000, Objective: -0.12370686\n",
      "Iteration 60000, Objective: -0.07509105\n",
      "Iteration 80000, Objective: -0.05307287\n",
      "Iteration 100000, Objective: -0.04069168\n",
      "Iteration 100001, Objective: -0.04069168\n",
      "diff: 75.815149\n",
      "F1: (0.70,  0)\n",
      "mean error: 0.00, 0.26\n",
      "choose: (84987970@N00, [7, 28, 22])\n",
      "Iteration 0, Objective: -93.62482463\n",
      "Iteration 20000, Objective: -0.31037291\n",
      "Iteration 40000, Objective: -0.12500691\n",
      "Iteration 60000, Objective: -0.07482595\n",
      "Iteration 80000, Objective: -0.05267758\n",
      "Iteration 100000, Objective: -0.04002907\n",
      "Iteration 100001, Objective: -0.04002907\n",
      "diff: 68.748053\n",
      "F1: (0.88,  0)\n",
      "mean error: 0.00, 0.12\n",
      "choose: (20741443@N00, [7, 23, 28, 30])\n",
      "Iteration 0, Objective: -94.16550269\n",
      "Iteration 20000, Objective: -0.30291425\n",
      "Iteration 40000, Objective: -0.12383091\n",
      "Iteration 60000, Objective: -0.07468220\n",
      "Iteration 80000, Objective: -0.05239803\n",
      "Iteration 100000, Objective: -0.04001082\n",
      "Iteration 100001, Objective: -0.04001082\n",
      "diff: 68.064738\n",
      "F1: (0.70,  0)\n",
      "mean error: 0.00, 0.22\n",
      "choose: (20741443@N00, [30, 22, 7])\n",
      "Iteration 0, Objective: -111.49385559\n",
      "Iteration 20000, Objective: -0.29792660\n",
      "Iteration 40000, Objective: -0.12220888\n",
      "Iteration 60000, Objective: -0.07394455\n",
      "Iteration 80000, Objective: -0.05215039\n",
      "Iteration 100000, Objective: -0.03985578\n",
      "Iteration 100001, Objective: -0.03985578\n",
      "diff: 75.505937\n",
      "F1: (0.70,  0)\n",
      "mean error: 0.00, 0.23\n",
      "choose: (84987970@N00, [7, 22, 23, 3])\n",
      "Iteration 0, Objective: -112.80252805\n",
      "Iteration 20000, Objective: -0.29881289\n",
      "Iteration 40000, Objective: -0.12102362\n",
      "Iteration 60000, Objective: -0.07300934\n",
      "Iteration 80000, Objective: -0.05127179\n",
      "Iteration 100000, Objective: -0.03910343\n",
      "Iteration 100001, Objective: -0.03910343\n",
      "diff: 69.664108\n",
      "F1: (0.63,  0)\n",
      "mean error: 0.00, 0.22\n",
      "choose: (84987970@N00, [6, 22, 28, 21, 23, 30, 7])\n",
      "Iteration 0, Objective: -72.92763617\n",
      "Iteration 20000, Objective: -0.28161014\n",
      "Iteration 40000, Objective: -0.11601508\n",
      "Iteration 60000, Objective: -0.06968559\n",
      "Iteration 80000, Objective: -0.04886278\n",
      "Iteration 100000, Objective: -0.03726981\n",
      "Iteration 100001, Objective: -0.03726981\n",
      "diff: 67.615366\n",
      "F1: (0.70,  0)\n",
      "mean error: 0.00, 0.23\n",
      "choose: (84987970@N00, [22, 29, 24])\n",
      "Iteration 0, Objective: -69.43343870\n",
      "Iteration 20000, Objective: -0.21095134\n",
      "Iteration 40000, Objective: -0.08810208\n",
      "Iteration 60000, Objective: -0.05365200\n",
      "Iteration 80000, Objective: -0.03796065\n",
      "Iteration 100000, Objective: -0.02905535\n",
      "Iteration 100001, Objective: -0.02905535\n",
      "diff: 61.877236\n",
      "F1: (0.63,  0)\n",
      "mean error: 0.00, 0.23\n",
      "choose: (84987970@N00, [29, 22, 28, 23, 21, 27])\n",
      "Iteration 0, Objective: -66.68645445\n",
      "Iteration 20000, Objective: -0.17323150\n",
      "Iteration 40000, Objective: -0.07187328\n",
      "Iteration 60000, Objective: -0.04362658\n",
      "Iteration 80000, Objective: -0.03090806\n",
      "Iteration 100000, Objective: -0.02369111\n",
      "Iteration 100001, Objective: -0.02369111\n",
      "diff: 62.044665\n",
      "F1: (0.70,  0)\n",
      "mean error: 0.00, 0.21\n",
      "choose: (84987970@N00, [21, 22, 6, 16])\n",
      "Iteration 0, Objective: -98.81753061\n",
      "Iteration 20000, Objective: -0.12094381\n",
      "Iteration 40000, Objective: -0.05070758\n",
      "Iteration 60000, Objective: -0.03109619\n",
      "Iteration 80000, Objective: -0.02213718\n",
      "Iteration 100000, Objective: -0.01699804\n",
      "Iteration 100001, Objective: -0.01699804\n",
      "diff: 63.097713\n",
      "F1: (0.63,  0)\n",
      "mean error: 0.00, 0.28\n",
      "choose: (84987970@N00, [21, 23, 28])\n",
      "Iteration 0, Objective: -58.31488711\n",
      "Iteration 20000, Objective: -0.11812246\n",
      "Iteration 40000, Objective: -0.04982002\n",
      "Iteration 60000, Objective: -0.03060189\n",
      "Iteration 80000, Objective: -0.02186686\n",
      "Iteration 100000, Objective: -0.01684185\n",
      "Iteration 100001, Objective: -0.01684185\n",
      "diff: 57.236659\n",
      "F1: (0.70,  0)\n",
      "mean error: 0.00, 0.36\n",
      "choose: (84987970@N00, [3, 21, 23, 28, 7, 30, 22])\n",
      "Iteration 0, Objective: -71.15582452\n",
      "Iteration 20000, Objective: -0.11478181\n",
      "Iteration 40000, Objective: -0.04899055\n",
      "Iteration 60000, Objective: -0.03034041\n",
      "Iteration 80000, Objective: -0.02161469\n",
      "Iteration 100000, Objective: -0.01663977\n",
      "Iteration 100001, Objective: -0.01663977\n",
      "diff: 58.310634\n",
      "F1: (0.63,  0)\n",
      "mean error: 0.00, 0.28\n"
     ]
    }
   ],
   "source": [
    "F1scores_test = []\n",
    "tuples_idx = np.arange(len(user_seqid_tuples_query))\n",
    "np.random.shuffle(tuples_idx)\n",
    "for idx in tuples_idx:\n",
    "    user = user_seqid_tuples_query[idx][0]\n",
    "    seqid = user_seqid_tuples_query[idx][1]\n",
    "    seq = extract_seq(seqid, seq_exp_all)\n",
    "    print('choose: (%s, %s)' % (user, seq))\n",
    "    for poi in seq:\n",
    "        if np.isnan(visit_train_df.loc[user, poi]): \n",
    "            visit_train_df.loc[user, poi] = 1\n",
    "        else:\n",
    "            visit_train_df.loc[user, poi] += 1\n",
    "    Theta0 = np.random.rand(len(user_list) + len(poi_list), DIM)\n",
    "    Theta, history = learn_BPR_SGD(visit_train_df, Theta0, Lambda, Alpha, maxIter)\n",
    "    \n",
    "    F1scores = evaluate(Theta, user_list, poi_list, user_seqid_tuples_test)\n",
    "    F1scores_test.append(F1scores)\n",
    "    print('F1: (%.2f, %2.f)' % (np.mean(F1scores), np.std(F1scores)))\n",
    "    \n",
    "    predicted_df = calc_predicted_df(Theta, user_list, poi_list)\n",
    "    \n",
    "    err_train = np.mean(list(calc_order_error(visit_train_df, predicted_df).values()))\n",
    "    err_test = np.mean(list(calc_order_error(visit_test_df, predicted_df).values()))\n",
    "    errors_train.append(err_train)\n",
    "    errors_test.append(err_test)\n",
    "    print('mean error: %.2f, %.2f' % (err_train, err_test))"
   ]
  },
  {
   "cell_type": "code",
   "execution_count": 66,
   "metadata": {
    "collapsed": false
   },
   "outputs": [
    {
     "data": {
      "text/plain": [
       "<matplotlib.legend.Legend at 0x10a28fe48>"
      ]
     },
     "execution_count": 66,
     "metadata": {},
     "output_type": "execute_result"
    },
    {
     "data": {
      "image/png": "[encoded data removed]",
      "text/plain": [
       "<matplotlib.figure.Figure at 0x109e81ba8>"
      ]
     },
     "metadata": {},
     "output_type": "display_data"
    }
   ],
   "source": [
    "plt.figure(figsize=[15, 5])\n",
    "plt.xlabel('#Query')\n",
    "plt.ylabel('Mean Ranking Error')\n",
    "plt.ylim([-0.1, 0.5])\n",
    "plt.plot(np.arange(len(errors_train)), errors_train, label='Training Error', marker='o')\n",
    "plt.plot(np.arange(len(errors_test)), errors_test, label='Test Error', marker='^')\n",
    "plt.legend(loc='upper right')"
   ]
  },
  {
   "cell_type": "code",
   "execution_count": 67,
   "metadata": {
    "collapsed": false
   },
   "outputs": [
    {
     "data": {
      "text/plain": [
       "[<matplotlib.lines.Line2D at 0x1031bb0b8>]"
      ]
     },
     "execution_count": 67,
     "metadata": {},
     "output_type": "execute_result"
    },
    {
     "data": {
      "image/png": "[encoded data removed]",
      "text/plain": [
       "<matplotlib.figure.Figure at 0x10312aa20>"
      ]
     },
     "metadata": {},
     "output_type": "display_data"
    }
   ],
   "source": [
    "plt.figure(figsize=[16, 6])\n",
    "plt.boxplot(F1scores_test)\n",
    "plt.plot(np.arange(len(F1scores_test)), [np.mean(x) for x in F1scores_test], marker='^', ls='--')"
   ]
  }
 ],
 "metadata": {
  "kernelspec": {
   "display_name": "Python 3",
   "language": "python",
   "name": "python3"
  },
  "language_info": {
   "codemirror_mode": {
    "name": "ipython",
    "version": 3
   },
   "file_extension": ".py",
   "mimetype": "text/x-python",
   "name": "python",
   "nbconvert_exporter": "python",
   "pygments_lexer": "ipython3",
   "version": "3.4.3"
  }
 },
 "nbformat": 4,
 "nbformat_minor": 0
}
