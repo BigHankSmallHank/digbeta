{
 "cells": [
  {
   "cell_type": "markdown",
   "metadata": {},
   "source": [
    "Trajectory Recommendation using HMM\n",
    "====="
   ]
  },
  {
   "cell_type": "markdown",
   "metadata": {},
   "source": [
    "Build a HMM using POI feature and single step (i.e. POI pair) features, without using user-specific features."
   ]
  },
  {
   "cell_type": "markdown",
   "metadata": {},
   "source": [
    "# 1. Features"
   ]
  },
  {
   "cell_type": "markdown",
   "metadata": {},
   "source": [
    "1. POI feature\n",
    "  * POI popularity\n",
    "  * POI category\n",
    "\n",
    "1. Single step feature\n",
    "  * Travel distance\n",
    "  * Trajectory probability, computed from\n",
    "    1. Transition probability from one POI category to another, \n",
    "       i.e. a POI category transition matrix\n",
    "    1. Transition probability from a POI category to a specific POI of this category, \n",
    "       i.e. a transition vector for each POI category"
   ]
  },
  {
   "cell_type": "markdown",
   "metadata": {},
   "source": [
    "# 2. Load Data"
   ]
  },
  {
   "cell_type": "code",
   "execution_count": 2,
   "metadata": {
    "collapsed": true
   },
   "outputs": [],
   "source": [
    "%matplotlib inline\n",
    "\n",
    "import os\n",
    "import math\n",
    "import random\n",
    "import pickle\n",
    "import pandas as pd\n",
    "import numpy as np\n",
    "import numpy.matlib\n",
    "from datetime import datetime\n",
    "from joblib import Parallel, delayed\n",
    "import matplotlib.pyplot as plt"
   ]
  },
  {
   "cell_type": "code",
   "execution_count": 3,
   "metadata": {
    "collapsed": true
   },
   "outputs": [],
   "source": [
    "nfeatures = 8 # number of features\n",
    "EPS = 1e-12 # smooth, deal with 0 probability\n",
    "random.seed(123456789) # control random choice when splitting training/testing set"
   ]
  },
  {
   "cell_type": "code",
   "execution_count": 4,
   "metadata": {
    "collapsed": true
   },
   "outputs": [],
   "source": [
    "data_dir = 'data/data-ijcai15'\n",
    "#fvisit = os.path.join(data_dir, 'userVisits-Osak.csv')\n",
    "#fcoord = os.path.join(data_dir, 'photoCoords-Osak.csv')\n",
    "#fvisit = os.path.join(data_dir, 'userVisits-Glas.csv')\n",
    "#fcoord = os.path.join(data_dir, 'photoCoords-Glas.csv')\n",
    "#fvisit = os.path.join(data_dir, 'userVisits-Edin.csv')\n",
    "#fcoord = os.path.join(data_dir, 'photoCoords-Edin.csv')\n",
    "fvisit = os.path.join(data_dir, 'userVisits-Toro.csv')\n",
    "fcoord = os.path.join(data_dir, 'photoCoords-Toro.csv')"
   ]
  },
  {
   "cell_type": "code",
   "execution_count": 5,
   "metadata": {
    "collapsed": true
   },
   "outputs": [],
   "source": [
    "suffix = fvisit.split('-')[-1].split('.')[0]\n",
    "fpoi = os.path.join(data_dir, 'poiHMM-' + suffix + '.csv')  \n",
    "fseq = os.path.join(data_dir, 'seqHMM-' + suffix + '.csv')\n",
    "ftrain = os.path.join(data_dir, 'trainsetHMM-' + suffix + '.pkl')\n",
    "ftest  = os.path.join(data_dir, 'testsetHMM-' + suffix + '.pkl')\n",
    "ffeatures_train = os.path.join(data_dir, 'featuresTrainHMM-' + suffix + '.pkl')\n",
    "ffeatures_test  = os.path.join(data_dir, 'featuresTestHMM-' + suffix + '.pkl')"
   ]
  },
  {
   "cell_type": "code",
   "execution_count": 6,
   "metadata": {
    "collapsed": false
   },
   "outputs": [
    {
     "data": {
      "text/html": [
       "<div>\n",
       "<table border=\"1\" class=\"dataframe\">\n",
       "  <thead>\n",
       "    <tr style=\"text-align: right;\">\n",
       "      <th></th>\n",
       "      <th>photoID</th>\n",
       "      <th>userID</th>\n",
       "      <th>dateTaken</th>\n",
       "      <th>poiID</th>\n",
       "      <th>poiTheme</th>\n",
       "      <th>poiFreq</th>\n",
       "      <th>seqID</th>\n",
       "      <th>photoLon</th>\n",
       "      <th>photoLat</th>\n",
       "    </tr>\n",
       "  </thead>\n",
       "  <tbody>\n",
       "    <tr>\n",
       "      <th>0</th>\n",
       "      <td>7941504100</td>\n",
       "      <td>10007579@N00</td>\n",
       "      <td>1346844688</td>\n",
       "      <td>30</td>\n",
       "      <td>Structure</td>\n",
       "      <td>1538</td>\n",
       "      <td>1</td>\n",
       "      <td>-79.380844</td>\n",
       "      <td>43.645641</td>\n",
       "    </tr>\n",
       "    <tr>\n",
       "      <th>1</th>\n",
       "      <td>4886005532</td>\n",
       "      <td>10012675@N05</td>\n",
       "      <td>1142731848</td>\n",
       "      <td>6</td>\n",
       "      <td>Cultural</td>\n",
       "      <td>986</td>\n",
       "      <td>2</td>\n",
       "      <td>-79.391525</td>\n",
       "      <td>43.654335</td>\n",
       "    </tr>\n",
       "    <tr>\n",
       "      <th>2</th>\n",
       "      <td>4886006468</td>\n",
       "      <td>10012675@N05</td>\n",
       "      <td>1142732248</td>\n",
       "      <td>6</td>\n",
       "      <td>Cultural</td>\n",
       "      <td>986</td>\n",
       "      <td>2</td>\n",
       "      <td>-79.391525</td>\n",
       "      <td>43.654335</td>\n",
       "    </tr>\n",
       "    <tr>\n",
       "      <th>3</th>\n",
       "      <td>4885404441</td>\n",
       "      <td>10012675@N05</td>\n",
       "      <td>1142732373</td>\n",
       "      <td>6</td>\n",
       "      <td>Cultural</td>\n",
       "      <td>986</td>\n",
       "      <td>2</td>\n",
       "      <td>-79.391525</td>\n",
       "      <td>43.654335</td>\n",
       "    </tr>\n",
       "    <tr>\n",
       "      <th>4</th>\n",
       "      <td>4886008334</td>\n",
       "      <td>10012675@N05</td>\n",
       "      <td>1142732445</td>\n",
       "      <td>6</td>\n",
       "      <td>Cultural</td>\n",
       "      <td>986</td>\n",
       "      <td>2</td>\n",
       "      <td>-79.391525</td>\n",
       "      <td>43.654335</td>\n",
       "    </tr>\n",
       "  </tbody>\n",
       "</table>\n",
       "</div>"
      ],
      "text/plain": [
       "      photoID        userID   dateTaken  poiID   poiTheme  poiFreq  seqID  \\\n",
       "0  7941504100  10007579@N00  1346844688     30  Structure     1538      1   \n",
       "1  4886005532  10012675@N05  1142731848      6   Cultural      986      2   \n",
       "2  4886006468  10012675@N05  1142732248      6   Cultural      986      2   \n",
       "3  4885404441  10012675@N05  1142732373      6   Cultural      986      2   \n",
       "4  4886008334  10012675@N05  1142732445      6   Cultural      986      2   \n",
       "\n",
       "    photoLon   photoLat  \n",
       "0 -79.380844  43.645641  \n",
       "1 -79.391525  43.654335  \n",
       "2 -79.391525  43.654335  \n",
       "3 -79.391525  43.654335  \n",
       "4 -79.391525  43.654335  "
      ]
     },
     "execution_count": 6,
     "metadata": {},
     "output_type": "execute_result"
    }
   ],
   "source": [
    "visits = pd.read_csv(fvisit, sep=';')\n",
    "coords = pd.read_csv(fcoord, sep=';')\n",
    "# merge data frames according to column 'photoID'\n",
    "assert(visits.shape[0] == coords.shape[0])\n",
    "traj = pd.merge(visits, coords, on='photoID')\n",
    "traj.head()"
   ]
  },
  {
   "cell_type": "code",
   "execution_count": 7,
   "metadata": {
    "collapsed": false
   },
   "outputs": [
    {
     "data": {
      "text/html": [
       "<div>\n",
       "<table border=\"1\" class=\"dataframe\">\n",
       "  <thead>\n",
       "    <tr style=\"text-align: right;\">\n",
       "      <th></th>\n",
       "      <th>#photo</th>\n",
       "      <th>#photo/user</th>\n",
       "      <th>#poi</th>\n",
       "      <th>#seq</th>\n",
       "      <th>#seq/user</th>\n",
       "      <th>#user</th>\n",
       "    </tr>\n",
       "  </thead>\n",
       "  <tbody>\n",
       "    <tr>\n",
       "      <th>Toro</th>\n",
       "      <td>39419</td>\n",
       "      <td>28.257348</td>\n",
       "      <td>29</td>\n",
       "      <td>6057</td>\n",
       "      <td>4.341935</td>\n",
       "      <td>1395</td>\n",
       "    </tr>\n",
       "  </tbody>\n",
       "</table>\n",
       "</div>"
      ],
      "text/plain": [
       "      #photo  #photo/user  #poi  #seq  #seq/user  #user\n",
       "Toro   39419    28.257348    29  6057   4.341935   1395"
      ]
     },
     "execution_count": 7,
     "metadata": {},
     "output_type": "execute_result"
    }
   ],
   "source": [
    "num_photo = traj['photoID'].unique().shape[0]\n",
    "num_user = traj['userID'].unique().shape[0]\n",
    "num_poi = traj['poiID'].unique().shape[0]\n",
    "num_seq = traj['seqID'].unique().shape[0]\n",
    "pd.DataFrame({'#photo': num_photo, '#user': num_user, '#poi': num_poi, '#seq': num_seq, \\\n",
    "              '#photo/user': num_photo/num_user, '#seq/user': num_seq/num_user}, index=[str(suffix)])"
   ]
  },
  {
   "cell_type": "code",
   "execution_count": 8,
   "metadata": {
    "collapsed": false
   },
   "outputs": [
    {
     "data": {
      "text/plain": [
       "<matplotlib.collections.PathCollection at 0x7f8922bbdd68>"
      ]
     },
     "execution_count": 8,
     "metadata": {},
     "output_type": "execute_result"
    },
    {
     "data": {
      "image/png": "[encoded data removed]",
      "text/plain": [
       "<matplotlib.figure.Figure at 0x7f8924d8f4a8>"
      ]
     },
     "metadata": {},
     "output_type": "display_data"
    }
   ],
   "source": [
    "plt.figure(figsize=[15, 5])\n",
    "plt.xlabel('Longitude')\n",
    "plt.ylabel('Latitude')\n",
    "plt.scatter(traj['photoLon'], traj['photoLat'], marker='+')"
   ]
  },
  {
   "cell_type": "markdown",
   "metadata": {},
   "source": [
    "Compute POI (Longitude, Latitude) as the average coordinates of the assigned photos."
   ]
  },
  {
   "cell_type": "code",
   "execution_count": 9,
   "metadata": {
    "collapsed": true
   },
   "outputs": [],
   "source": [
    "poi_coords = traj[['poiID', 'photoLon', 'photoLat']].groupby('poiID').mean()\n",
    "poi_coords.reset_index(inplace=True)\n",
    "poi_coords.rename(columns={'photoLon':'poiLon', 'photoLat':'poiLat'}, inplace=True)"
   ]
  },
  {
   "cell_type": "markdown",
   "metadata": {},
   "source": [
    "Extract POI category and visiting frequency."
   ]
  },
  {
   "cell_type": "code",
   "execution_count": 10,
   "metadata": {
    "collapsed": true
   },
   "outputs": [],
   "source": [
    "poi_catfreq = traj[['poiID', 'poiTheme', 'poiFreq']].groupby('poiID').first()\n",
    "poi_catfreq.reset_index(inplace=True)"
   ]
  },
  {
   "cell_type": "code",
   "execution_count": 11,
   "metadata": {
    "collapsed": true
   },
   "outputs": [],
   "source": [
    "poi_all = pd.merge(poi_catfreq, poi_coords, on='poiID')\n",
    "poi_all.set_index('poiID', inplace=True)\n",
    "#poi_all.to_csv(fpoi, index=True)"
   ]
  },
  {
   "cell_type": "markdown",
   "metadata": {},
   "source": [
    "Construct Travelling Sequences"
   ]
  },
  {
   "cell_type": "code",
   "execution_count": 12,
   "metadata": {
    "collapsed": false
   },
   "outputs": [
    {
     "data": {
      "text/html": [
       "<div>\n",
       "<table border=\"1\" class=\"dataframe\">\n",
       "  <thead>\n",
       "    <tr style=\"text-align: right;\">\n",
       "      <th></th>\n",
       "      <th>seqID</th>\n",
       "      <th>poiID</th>\n",
       "      <th>arrivalTime</th>\n",
       "      <th>departureTime</th>\n",
       "      <th>#photo</th>\n",
       "      <th>poiDuration(sec)</th>\n",
       "    </tr>\n",
       "  </thead>\n",
       "  <tbody>\n",
       "    <tr>\n",
       "      <th>0</th>\n",
       "      <td>1</td>\n",
       "      <td>30</td>\n",
       "      <td>1346844688</td>\n",
       "      <td>1346844688</td>\n",
       "      <td>1</td>\n",
       "      <td>0</td>\n",
       "    </tr>\n",
       "    <tr>\n",
       "      <th>1</th>\n",
       "      <td>2</td>\n",
       "      <td>6</td>\n",
       "      <td>1142731848</td>\n",
       "      <td>1142732445</td>\n",
       "      <td>4</td>\n",
       "      <td>597</td>\n",
       "    </tr>\n",
       "    <tr>\n",
       "      <th>2</th>\n",
       "      <td>3</td>\n",
       "      <td>6</td>\n",
       "      <td>1142916492</td>\n",
       "      <td>1142916492</td>\n",
       "      <td>1</td>\n",
       "      <td>0</td>\n",
       "    </tr>\n",
       "    <tr>\n",
       "      <th>3</th>\n",
       "      <td>4</td>\n",
       "      <td>13</td>\n",
       "      <td>1319327174</td>\n",
       "      <td>1319332848</td>\n",
       "      <td>9</td>\n",
       "      <td>5674</td>\n",
       "    </tr>\n",
       "    <tr>\n",
       "      <th>4</th>\n",
       "      <td>5</td>\n",
       "      <td>24</td>\n",
       "      <td>1196128621</td>\n",
       "      <td>1196128878</td>\n",
       "      <td>3</td>\n",
       "      <td>257</td>\n",
       "    </tr>\n",
       "  </tbody>\n",
       "</table>\n",
       "</div>"
      ],
      "text/plain": [
       "   seqID  poiID  arrivalTime  departureTime  #photo  poiDuration(sec)\n",
       "0      1     30   1346844688     1346844688       1                 0\n",
       "1      2      6   1142731848     1142732445       4               597\n",
       "2      3      6   1142916492     1142916492       1                 0\n",
       "3      4     13   1319327174     1319332848       9              5674\n",
       "4      5     24   1196128621     1196128878       3               257"
      ]
     },
     "execution_count": 12,
     "metadata": {},
     "output_type": "execute_result"
    }
   ],
   "source": [
    "seq_raw = traj[['seqID', 'poiID', 'dateTaken']].copy().groupby(['seqID', 'poiID']).agg([np.min, np.max, np.size])\n",
    "seq_raw.columns = seq_raw.columns.droplevel()\n",
    "seq_raw.reset_index(inplace=True)\n",
    "seq_raw.rename(columns={'amin':'arrivalTime', 'amax':'departureTime', 'size':'#photo'}, inplace=True)\n",
    "seq_raw['poiDuration(sec)'] = seq_raw['departureTime'] - seq_raw['arrivalTime']\n",
    "seq_raw.head()"
   ]
  },
  {
   "cell_type": "code",
   "execution_count": 13,
   "metadata": {
    "collapsed": false
   },
   "outputs": [
    {
     "data": {
      "text/html": [
       "<div>\n",
       "<table border=\"1\" class=\"dataframe\">\n",
       "  <thead>\n",
       "    <tr style=\"text-align: right;\">\n",
       "      <th></th>\n",
       "      <th>seqID</th>\n",
       "      <th>seqLen</th>\n",
       "    </tr>\n",
       "  </thead>\n",
       "  <tbody>\n",
       "    <tr>\n",
       "      <th>0</th>\n",
       "      <td>1</td>\n",
       "      <td>1</td>\n",
       "    </tr>\n",
       "    <tr>\n",
       "      <th>1</th>\n",
       "      <td>2</td>\n",
       "      <td>1</td>\n",
       "    </tr>\n",
       "    <tr>\n",
       "      <th>2</th>\n",
       "      <td>3</td>\n",
       "      <td>1</td>\n",
       "    </tr>\n",
       "    <tr>\n",
       "      <th>3</th>\n",
       "      <td>4</td>\n",
       "      <td>1</td>\n",
       "    </tr>\n",
       "    <tr>\n",
       "      <th>4</th>\n",
       "      <td>5</td>\n",
       "      <td>1</td>\n",
       "    </tr>\n",
       "  </tbody>\n",
       "</table>\n",
       "</div>"
      ],
      "text/plain": [
       "   seqID  seqLen\n",
       "0      1       1\n",
       "1      2       1\n",
       "2      3       1\n",
       "3      4       1\n",
       "4      5       1"
      ]
     },
     "execution_count": 13,
     "metadata": {},
     "output_type": "execute_result"
    }
   ],
   "source": [
    "seq_len = seq_raw[['seqID', 'poiID']].copy().groupby('seqID').agg(np.size)\n",
    "seq_len.reset_index(inplace=True)\n",
    "seq_len.rename(columns={'poiID':'seqLen'}, inplace=True)\n",
    "seq_len.head()"
   ]
  },
  {
   "cell_type": "code",
   "execution_count": 14,
   "metadata": {
    "collapsed": false
   },
   "outputs": [
    {
     "data": {
      "text/html": [
       "<div>\n",
       "<table border=\"1\" class=\"dataframe\">\n",
       "  <thead>\n",
       "    <tr style=\"text-align: right;\">\n",
       "      <th></th>\n",
       "      <th>seqLen</th>\n",
       "      <th>#photo</th>\n",
       "      <th>totalPoiDuration(min)</th>\n",
       "    </tr>\n",
       "    <tr>\n",
       "      <th>seqID</th>\n",
       "      <th></th>\n",
       "      <th></th>\n",
       "      <th></th>\n",
       "    </tr>\n",
       "  </thead>\n",
       "  <tbody>\n",
       "    <tr>\n",
       "      <th>1</th>\n",
       "      <td>1</td>\n",
       "      <td>1</td>\n",
       "      <td>0.000000</td>\n",
       "    </tr>\n",
       "    <tr>\n",
       "      <th>2</th>\n",
       "      <td>1</td>\n",
       "      <td>4</td>\n",
       "      <td>9.950000</td>\n",
       "    </tr>\n",
       "    <tr>\n",
       "      <th>3</th>\n",
       "      <td>1</td>\n",
       "      <td>1</td>\n",
       "      <td>0.000000</td>\n",
       "    </tr>\n",
       "    <tr>\n",
       "      <th>4</th>\n",
       "      <td>1</td>\n",
       "      <td>9</td>\n",
       "      <td>94.566667</td>\n",
       "    </tr>\n",
       "    <tr>\n",
       "      <th>5</th>\n",
       "      <td>1</td>\n",
       "      <td>3</td>\n",
       "      <td>4.283333</td>\n",
       "    </tr>\n",
       "  </tbody>\n",
       "</table>\n",
       "</div>"
      ],
      "text/plain": [
       "       seqLen  #photo  totalPoiDuration(min)\n",
       "seqID                                       \n",
       "1           1       1               0.000000\n",
       "2           1       4               9.950000\n",
       "3           1       1               0.000000\n",
       "4           1       9              94.566667\n",
       "5           1       3               4.283333"
      ]
     },
     "execution_count": 14,
     "metadata": {},
     "output_type": "execute_result"
    }
   ],
   "source": [
    "seq_stats = seq_raw[['seqID', '#photo', 'poiDuration(sec)']].copy().groupby('seqID').agg(np.sum)\n",
    "seq_stats.reset_index(inplace=True)\n",
    "#seq_stats.rename(columns={'poiDuration(sec)':'totalPoiDuration(sec)'}, inplace=True)\n",
    "seq_stats = pd.merge(seq_len, seq_stats, on='seqID')\n",
    "seq_stats['poiDuration(sec)'] /= 60\n",
    "seq_stats.rename(columns={'poiDuration(sec)':'totalPoiDuration(min)'}, inplace=True)\n",
    "seq_stats.set_index('seqID', inplace=True)\n",
    "seq_stats.head()"
   ]
  },
  {
   "cell_type": "code",
   "execution_count": 15,
   "metadata": {
    "collapsed": false
   },
   "outputs": [
    {
     "data": {
      "image/png": "[encoded data removed]",
      "text/plain": [
       "<matplotlib.figure.Figure at 0x7f8924c08128>"
      ]
     },
     "metadata": {},
     "output_type": "display_data"
    }
   ],
   "source": [
    "ax = seq_stats['seqLen'].hist(bins=50)\n",
    "ax.set_xlabel('sequence length')\n",
    "ax.set_ylim([0.1, 1e4])\n",
    "ax.set_yscale('log')"
   ]
  },
  {
   "cell_type": "code",
   "execution_count": 16,
   "metadata": {
    "collapsed": false
   },
   "outputs": [
    {
     "data": {
      "image/png": "[encoded data removed]",
      "text/plain": [
       "<matplotlib.figure.Figure at 0x7f89224a6080>"
      ]
     },
     "metadata": {},
     "output_type": "display_data"
    }
   ],
   "source": [
    "ax = seq_stats['#photo'].hist(bins=50)\n",
    "ax.set_xlabel('#photo for sequence')\n",
    "ax.set_ylim([0.1, 1e4])\n",
    "ax.set_yscale('log')"
   ]
  },
  {
   "cell_type": "code",
   "execution_count": 17,
   "metadata": {
    "collapsed": false
   },
   "outputs": [
    {
     "data": {
      "image/png": "[encoded data removed]",
      "text/plain": [
       "<matplotlib.figure.Figure at 0x7f8922ac8b70>"
      ]
     },
     "metadata": {},
     "output_type": "display_data"
    }
   ],
   "source": [
    "ax = seq_stats['totalPoiDuration(min)'].hist(bins=100)\n",
    "ax.set_xlabel('totalPoiDuration(min)')\n",
    "ax.set_ylim([0.1, 1e4])\n",
    "ax.set_yscale('log')\n",
    "#ax.set_xscale('log')"
   ]
  },
  {
   "cell_type": "markdown",
   "metadata": {},
   "source": [
    "Sequences with length {3, 4, 5}"
   ]
  },
  {
   "cell_type": "code",
   "execution_count": 18,
   "metadata": {
    "collapsed": false
   },
   "outputs": [
    {
     "data": {
      "image/png": "[encoded data removed]",
      "text/plain": [
       "<matplotlib.figure.Figure at 0x7f8922433710>"
      ]
     },
     "metadata": {},
     "output_type": "display_data"
    }
   ],
   "source": [
    "seq_stats = seq_stats[seq_stats['seqLen'].isin({3, 4, 5})]\n",
    "ax = seq_stats['totalPoiDuration(min)'].hist(bins=50)\n",
    "ax.set_xlabel('totalPoiDuration(min)')\n",
    "ax.set_ylim([0.1, 1e4])\n",
    "ax.set_yscale('log')"
   ]
  },
  {
   "cell_type": "markdown",
   "metadata": {},
   "source": [
    "Do some filtering? (e.g. totalPoiDuration = 0 or too large, seqLen = 1 etc), 8 hours split vs. 6 hours split?"
   ]
  },
  {
   "cell_type": "code",
   "execution_count": 19,
   "metadata": {
    "collapsed": true
   },
   "outputs": [],
   "source": [
    "min_duration = 10  # 10 minutes\n",
    "max_duration = 960 # 16 hours"
   ]
  },
  {
   "cell_type": "code",
   "execution_count": 20,
   "metadata": {
    "collapsed": false
   },
   "outputs": [
    {
     "data": {
      "image/png": "[encoded data removed]",
      "text/plain": [
       "<matplotlib.figure.Figure at 0x7f892245f828>"
      ]
     },
     "metadata": {},
     "output_type": "display_data"
    }
   ],
   "source": [
    "seq_stats = seq_stats[seq_stats['totalPoiDuration(min)'] > min_duration]\n",
    "seq_stats = seq_stats[seq_stats['totalPoiDuration(min)'] < max_duration]\n",
    "ax = seq_stats['totalPoiDuration(min)'].hist(bins=50)\n",
    "ax.set_xlabel('totalPoiDuration(min)')\n",
    "ax.set_ylim([0.1, 1e4])\n",
    "ax.set_yscale('log')"
   ]
  },
  {
   "cell_type": "markdown",
   "metadata": {},
   "source": [
    "Sequences with the same (start, end), some (start, end) are more popular than others.\n",
    "\n",
    "what do we need? (start POI category, end POI category) vs. (start POI, end POI)"
   ]
  },
  {
   "cell_type": "code",
   "execution_count": 21,
   "metadata": {
    "collapsed": false
   },
   "outputs": [],
   "source": [
    "seq_dict = dict()\n",
    "for seqid in seq_stats.index:\n",
    "    assert(seq_stats.loc[seqid, 'seqLen'] >= 2)\n",
    "    seqi = seq_raw[seq_raw['seqID'] == seqid].copy()\n",
    "    seqi.sort(columns=['arrivalTime'], ascending=True, inplace=True)\n",
    "    pois = seqi['poiID'].tolist()\n",
    "    p0 = pois[0]\n",
    "    pN = pois[-1]\n",
    "    if (p0, pN, len(pois)) not in seq_dict:\n",
    "        seq_dict[(p0, pN, len(pois))] = []\n",
    "    seq_dict[(p0, pN, len(pois))].append(pois)"
   ]
  },
  {
   "cell_type": "code",
   "execution_count": 22,
   "metadata": {
    "collapsed": false
   },
   "outputs": [
    {
     "name": "stdout",
     "output_type": "stream",
     "text": [
      "max: 5 sequences with (start, end, seqLen) (23, 21, 3)\n",
      "min: 1 sequences with (start, end, seqLen) (3, 22, 3)\n"
     ]
    },
    {
     "data": {
      "text/plain": [
       "<matplotlib.text.Text at 0x7f89228454e0>"
      ]
     },
     "execution_count": 22,
     "metadata": {},
     "output_type": "execute_result"
    },
    {
     "data": {
      "image/png": "[encoded data removed]",
      "text/plain": [
       "<matplotlib.figure.Figure at 0x7f8922543668>"
      ]
     },
     "metadata": {},
     "output_type": "display_data"
    }
   ],
   "source": [
    "tuples = sorted(seq_dict.keys())\n",
    "group_size = np.array([len(seq_dict[x]) for x in tuples])\n",
    "maxidx = group_size.argmax()\n",
    "minidx = group_size.argmin()\n",
    "print('max: %d sequences with (start, end, seqLen) %s' % (group_size[maxidx], str(tuples[maxidx])))\n",
    "print('min: %d sequences with (start, end, seqLen) %s' % (group_size[minidx], str(tuples[minidx])))\n",
    "ax = pd.Series(group_size).hist(bins=20)\n",
    "ax.set_xlabel('#sequence with same (start, end, seqLen)')\n",
    "ax.set_ylabel('#(start, end, seqLen) tuples')"
   ]
  },
  {
   "cell_type": "markdown",
   "metadata": {},
   "source": [
    "Split sequences into training set and testing set. which kind of split? hold one sequence in each type of (start, end)?"
   ]
  },
  {
   "cell_type": "markdown",
   "metadata": {},
   "source": [
    "# 3. Compute Transition Probabilities"
   ]
  },
  {
   "cell_type": "markdown",
   "metadata": {},
   "source": [
    "## 3.1 Basic Definitions"
   ]
  },
  {
   "cell_type": "markdown",
   "metadata": {},
   "source": [
    "- $\\text{Pr}(\\text{POI}_i \\to \\text{POI}_j)$: \n",
    "   the transition probability from $\\text{POI}_i$ to $\\text{POI }_j$\n",
    "- $\\text{Pr}(\\text{Cat}_i \\to \\text{Cat}_j)$:\n",
    "   the transition probability from a POI of category $\\text{Cat}_i$ to a POI of category $\\text{Cat}_j$\n",
    "- $\\text{Pr}(\\text{Pop}_i \\to \\text{Pop}_j)$:\n",
    "   the transition probability from a POI of Popularity class $\\text{Pop}_i$ to a POI of Popularity class $\\text{Pop}_j$\n",
    "- $\\text{Pr}(\\text{Dist}_i \\to \\text{Dist}_j)$:\n",
    "   the transition probability from a POI-POI pair with distance (between the two) class $\\text{Dist}_i$ to a POI-POI pair with distance (between the two) class $\\text{Dist}_j$"
   ]
  },
  {
   "cell_type": "markdown",
   "metadata": {},
   "source": [
    "By design, $\\text{Pr}(\\text{POI}_i \\to \\text{POI}_j)$ should be bigger \n",
    "if any of $\\text{Pr}(\\text{Cat}_i \\to \\text{Cat}_j)$, $\\text{Pr}(\\text{Pop}_i \\to \\text{Pop}_j)$ and\n",
    "$\\text{Pr}(\\text{Dist}_i \\to \\text{Dist}_j)$ becomes bigger (if other factors stay the same)."
   ]
  },
  {
   "cell_type": "markdown",
   "metadata": {},
   "source": [
    "So how to combine these probabilities?  \n",
    "Both addition and multiplication seems to be able to serve this purpose, what is the difference?"
   ]
  },
  {
   "cell_type": "markdown",
   "metadata": {},
   "source": [
    "### The Addition Case"
   ]
  },
  {
   "cell_type": "markdown",
   "metadata": {},
   "source": [
    "For the addtion case, \n",
    "\n",
    "\\begin{equation}\n",
    "\\text{Pr}(\\text{POI}_i \\to \\text{POI}_j) = \\frac{\n",
    "\\text{Pr}(\\text{Cat}_{\\text{POI}_i} \\to \\text{Cat}_{\\text{POI}_j}) + \n",
    "\\text{Pr}(\\text{Pop}_{\\text{POI}_i} \\to \\text{Pop}_{\\text{POI}_j}) + \n",
    "\\text{Pr}(\\text{Dist}_{\\text{POI}_{i-1} \\to \\text{POI}_i} \\to \\text{Dist}_{\\text{POI}_{i} \\to \\text{POI}_j})\n",
    "}\n",
    "{Z_i}\n",
    "\\end{equation}\n",
    "\n",
    "where $\\text{POI}_{i-1}$ is the direct predecessor of $\\text{POI}_i$ in a trajectory and $Z_i$ is a normalizing constant."
   ]
  },
  {
   "cell_type": "markdown",
   "metadata": {},
   "source": [
    "### The Multiplication Case"
   ]
  },
  {
   "cell_type": "markdown",
   "metadata": {},
   "source": [
    "For the addtion case, \n",
    "\n",
    "\\begin{equation}\n",
    "\\text{Pr}(\\text{POI}_i \\to \\text{POI}_j) = \\frac{\n",
    "\\text{Pr}(\\text{Cat}_{\\text{POI}_i} \\to \\text{Cat}_{\\text{POI}_j}) \\times\n",
    "\\text{Pr}(\\text{Pop}_{\\text{POI}_i} \\to \\text{Pop}_{\\text{POI}_j}) \\times\n",
    "\\text{Pr}(\\text{Dist}_{\\text{POI}_{i-1} \\to \\text{POI}_i} \\to \\text{Dist}_{\\text{POI}_{i} \\to \\text{POI}_j})\n",
    "}\n",
    "{Z_i}\n",
    "\\end{equation}\n",
    "\n",
    "similarly, $\\text{POI}_{i-1}$ is the direct predecessor of $\\text{POI}_i$ in a trajectory and $Z_i$ is again a normalizing constant."
   ]
  },
  {
   "cell_type": "markdown",
   "metadata": {},
   "source": [
    "### The Difference between Addition and Multiplication"
   ]
  },
  {
   "cell_type": "markdown",
   "metadata": {},
   "source": [
    "It is important to note the fact that, by design, $\\text{Pr}(\\text{POI}_i \\to \\text{POI}_j)$ should be very small\n",
    "if any of $\\text{Pr}(\\text{Cat}_i \\to \\text{Cat}_j)$, $\\text{Pr}(\\text{Pop}_i \\to \\text{Pop}_j)$ and\n",
    "$\\text{Pr}(\\text{Dist}_i \\to \\text{Dist}_j)$ is very small, in the extreme case, if any of the three probabilities is $0$, then $\\text{Pr}(\\text{POI}_i \\to \\text{POI}_j)$ should be $0$\n",
    "because the event \"*Transition from POI$_i$ to POI$_j$*\" is impossible."
   ]
  },
  {
   "cell_type": "markdown",
   "metadata": {},
   "source": [
    "From the equation of the addition case, it is clear that the addition rule **contradicts** the above fact while the multiplication rule is **consistent** with it."
   ]
  },
  {
   "cell_type": "markdown",
   "metadata": {},
   "source": [
    "Intuitively, the addition rule could make an unlikely event become much more likely, especially, \n",
    "make an impossible event become possible."
   ]
  },
  {
   "cell_type": "markdown",
   "metadata": {},
   "source": [
    "## 3.2 Transition Probabilities between POI Categories"
   ]
  },
  {
   "cell_type": "code",
   "execution_count": 23,
   "metadata": {
    "collapsed": true
   },
   "outputs": [],
   "source": [
    "def calc_poi_cat_transmat(seqid_set, poi_all, seq_all):\n",
    "    poi_cats = poi_all['poiTheme'].unique().tolist()\n",
    "    poi_cats.sort()\n",
    "    poi_cat_transmat = pd.DataFrame(data=np.zeros((len(poi_cats), len(poi_cats)), dtype=np.float), \\\n",
    "                                    index=poi_cats, columns=poi_cats)\n",
    "    for seqid in train_set:\n",
    "        seqi = seq_all[seq_all['seqID'] == seqid].copy()\n",
    "        seqi.sort(columns=['arrivalTime'], ascending=True, inplace=True)\n",
    "        for j in range(len(seqi.index)-1):\n",
    "            idx1 = seqi.index[j]\n",
    "            idx2 = seqi.index[j+1]\n",
    "            poi1 = seqi.loc[idx1, 'poiID']\n",
    "            poi2 = seqi.loc[idx2, 'poiID']\n",
    "            cat1 = poi_all.loc[poi1, 'poiTheme']\n",
    "            cat2 = poi_all.loc[poi2, 'poiTheme']\n",
    "            poi_cat_transmat.loc[cat1, cat2] += 1\n",
    "    return poi_cat_transmat"
   ]
  },
  {
   "cell_type": "code",
   "execution_count": 24,
   "metadata": {
    "collapsed": true
   },
   "outputs": [],
   "source": [
    "def normalise_transmat(transmat):\n",
    "    assert(isinstance(transmat, pd.DataFrame))\n",
    "    for row in transmat.index:\n",
    "        nonzeroidx = np.nonzero(transmat.loc[row])[0].tolist()\n",
    "        minv = np.min(transmat.ix[row, nonzeroidx])\n",
    "        EPS = 0.2 * minv  # row-specific smooth factor\n",
    "        zeroidx = list(set(range(len(transmat.columns))) - set(nonzeroidx))\n",
    "        transmat.ix[row, zeroidx] = EPS\n",
    "        rowsum = np.sum(transmat.loc[row])\n",
    "        assert(rowsum > 0)\n",
    "        transmat.loc[row] /= rowsum\n",
    "    return transmat        "
   ]
  },
  {
   "cell_type": "markdown",
   "metadata": {},
   "source": [
    "## 3.3 Transition Probabilities between POI Popularity Classes"
   ]
  },
  {
   "cell_type": "markdown",
   "metadata": {},
   "source": [
    "### Discretize POI Popularity"
   ]
  },
  {
   "cell_type": "code",
   "execution_count": 32,
   "metadata": {
    "collapsed": false
   },
   "outputs": [
    {
     "data": {
      "text/plain": [
       "count      29.000000\n",
       "mean     1360.896552\n",
       "std      1289.191534\n",
       "min        26.000000\n",
       "25%       346.000000\n",
       "50%       936.000000\n",
       "75%      1874.000000\n",
       "max      4142.000000\n",
       "Name: poiFreq, dtype: float64"
      ]
     },
     "execution_count": 32,
     "metadata": {},
     "output_type": "execute_result"
    }
   ],
   "source": [
    "poi_all['poiFreq'].describe()"
   ]
  },
  {
   "cell_type": "code",
   "execution_count": 34,
   "metadata": {
    "collapsed": false
   },
   "outputs": [
    {
     "data": {
      "image/png": "[encoded data removed]",
      "text/plain": [
       "<matplotlib.figure.Figure at 0x7f8921edb1d0>"
      ]
     },
     "metadata": {},
     "output_type": "display_data"
    }
   ],
   "source": [
    "ax = poi_all['poiFreq'].hist(bins=np.linspace(0, 10000, 11))\n",
    "#ax.set_xscale('log')"
   ]
  },
  {
   "cell_type": "markdown",
   "metadata": {},
   "source": [
    "### Compute Transition Probabilities"
   ]
  },
  {
   "cell_type": "code",
   "execution_count": null,
   "metadata": {
    "collapsed": true
   },
   "outputs": [],
   "source": []
  },
  {
   "cell_type": "markdown",
   "metadata": {},
   "source": [
    "## 3.4 Transition Probabilities between POI Pair Distance Classes"
   ]
  },
  {
   "cell_type": "markdown",
   "metadata": {},
   "source": [
    "### Compute POI Pair Distance"
   ]
  },
  {
   "cell_type": "code",
   "execution_count": 37,
   "metadata": {
    "collapsed": true
   },
   "outputs": [],
   "source": [
    "def calc_dist(longitude1, latitude1, longitude2, latitude2):\n",
    "    \"\"\"Calculate the distance (unit: km) between two places on earth\"\"\"\n",
    "    # convert degrees to radians\n",
    "    lon1 = math.radians(longitude1)\n",
    "    lat1 = math.radians(latitude1)\n",
    "    lon2 = math.radians(longitude2)\n",
    "    lat2 = math.radians(latitude2)\n",
    "    radius = 6371.009 # mean earth radius is 6371.009km, en.wikipedia.org/wiki/Earth_radius#Mean_radius\n",
    "    # The haversine formula, en.wikipedia.org/wiki/Great-circle_distance\n",
    "    dlon = math.fabs(lon1 - lon2)\n",
    "    dlat = math.fabs(lat1 - lat2)\n",
    "    return 2 * radius * math.asin( math.sqrt( \\\n",
    "               (math.sin(0.5*dlat))**2 + math.cos(lat1) * math.cos(lat2) * (math.sin(0.5*dlon))**2 ))"
   ]
  },
  {
   "cell_type": "code",
   "execution_count": 35,
   "metadata": {
    "collapsed": true
   },
   "outputs": [],
   "source": [
    "poi_distmat = pd.DataFrame(data=np.zeros((poi_all.shape[0], poi_all.shape[0]), dtype=np.float), \\\n",
    "                           index=poi_all.index, columns=poi_all.index)"
   ]
  },
  {
   "cell_type": "code",
   "execution_count": 38,
   "metadata": {
    "collapsed": false
   },
   "outputs": [],
   "source": [
    "for i in range(poi_distmat.index.shape[0]):\n",
    "    poi1 = poi_distmat.index[i]\n",
    "    for j in range(i+1, poi_distmat.index.shape[0]):\n",
    "        poi2 = poi_distmat.index[j]\n",
    "        dist = calc_dist(poi_all.loc[poi1, 'poiLon'], poi_all.loc[poi1, 'poiLat'], \\\n",
    "                         poi_all.loc[poi2, 'poiLon'], poi_all.loc[poi2, 'poiLat'])\n",
    "        poi_distmat.loc[poi1, poi2] = dist\n",
    "        poi_distmat.loc[poi2, poi1] = dist        "
   ]
  },
  {
   "cell_type": "markdown",
   "metadata": {},
   "source": [
    "### Discretize POI Pair Distance"
   ]
  },
  {
   "cell_type": "code",
   "execution_count": 55,
   "metadata": {
    "collapsed": true
   },
   "outputs": [],
   "source": [
    "distdata = pd.Series(poi_distmat.get_values().flatten())"
   ]
  },
  {
   "cell_type": "code",
   "execution_count": 56,
   "metadata": {
    "collapsed": false
   },
   "outputs": [
    {
     "data": {
      "text/plain": [
       "count    812.000000\n",
       "mean       5.356406\n",
       "std        6.126595\n",
       "min        0.147439\n",
       "25%        1.831988\n",
       "50%        3.389827\n",
       "75%        6.050006\n",
       "max       29.654568\n",
       "dtype: float64"
      ]
     },
     "execution_count": 56,
     "metadata": {},
     "output_type": "execute_result"
    }
   ],
   "source": [
    "distdata.ix[np.nonzero(distdata)].describe()"
   ]
  },
  {
   "cell_type": "code",
   "execution_count": 57,
   "metadata": {
    "collapsed": false
   },
   "outputs": [
    {
     "data": {
      "text/plain": [
       "<matplotlib.axes._subplots.AxesSubplot at 0x7f8921e9fda0>"
      ]
     },
     "execution_count": 57,
     "metadata": {},
     "output_type": "execute_result"
    },
    {
     "data": {
      "image/png": "[encoded data removed]",
      "text/plain": [
       "<matplotlib.figure.Figure at 0x7f8921f35a20>"
      ]
     },
     "metadata": {},
     "output_type": "display_data"
    }
   ],
   "source": [
    "distdata.ix[np.nonzero(distdata)].hist(bins=np.linspace(0, 30, 7))"
   ]
  },
  {
   "cell_type": "markdown",
   "metadata": {},
   "source": [
    "### Compute Transition Probabilities"
   ]
  },
  {
   "cell_type": "code",
   "execution_count": null,
   "metadata": {
    "collapsed": true
   },
   "outputs": [],
   "source": []
  },
  {
   "cell_type": "markdown",
   "metadata": {},
   "source": [
    "## 3.5 Transition Probabilities between POIs"
   ]
  },
  {
   "cell_type": "code",
   "execution_count": null,
   "metadata": {
    "collapsed": true
   },
   "outputs": [],
   "source": []
  }
 ],
 "metadata": {
  "kernelspec": {
   "display_name": "Python 3",
   "language": "python",
   "name": "python3"
  },
  "language_info": {
   "codemirror_mode": {
    "name": "ipython",
    "version": 3
   },
   "file_extension": ".py",
   "mimetype": "text/x-python",
   "name": "python",
   "nbconvert_exporter": "python",
   "pygments_lexer": "ipython3",
   "version": "3.4.3"
  }
 },
 "nbformat": 4,
 "nbformat_minor": 0
}
