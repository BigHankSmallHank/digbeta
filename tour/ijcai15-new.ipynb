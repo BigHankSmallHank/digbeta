{
 "cells": [
  {
   "cell_type": "markdown",
   "metadata": {},
   "source": [
    "# Trajectory Recommendation Results of IJCAI15"
   ]
  },
  {
   "cell_type": "markdown",
   "metadata": {},
   "source": [
    "Trajectory Recommendation results of IJCAI'15 paper, results are produced by the R code and data provided by K.H."
   ]
  },
  {
   "cell_type": "markdown",
   "metadata": {},
   "source": [
    "[Table of Contents](#toc)\n",
    "1. [Initial Recommendation Results](#sec1)\n",
    "1. [Problems](#sec2)\n",
    "1. [New Results](#sec3)"
   ]
  },
  {
   "cell_type": "code",
   "execution_count": 1,
   "metadata": {
    "collapsed": true
   },
   "outputs": [],
   "source": [
    "import os, sys\n",
    "import pandas as pd\n",
    "import numpy as np\n",
    "import matplotlib.pyplot as plt"
   ]
  },
  {
   "cell_type": "code",
   "execution_count": 2,
   "metadata": {
    "collapsed": true
   },
   "outputs": [],
   "source": [
    "data_dir = 'data/data-ijcai15'"
   ]
  },
  {
   "cell_type": "code",
   "execution_count": 3,
   "metadata": {
    "collapsed": true
   },
   "outputs": [],
   "source": [
    "frec_Edin = os.path.join(data_dir, 'results-tourRec-EdinPOI-exp20personal.csv')\n",
    "frec_Glas = os.path.join(data_dir, 'results-tourRec-GlasPOI-exp20personal.csv')\n",
    "frec_Osak = os.path.join(data_dir, 'results-tourRec-OsakPOI-exp20personal.csv')\n",
    "frec_Toro = os.path.join(data_dir, 'results-tourRec-ToroPOI-exp20personal.csv')"
   ]
  },
  {
   "cell_type": "code",
   "execution_count": 4,
   "metadata": {
    "collapsed": true
   },
   "outputs": [],
   "source": [
    "frec_Edin_new = os.path.join(data_dir, 'results-tourRec-EdinPOI-exp20personal-new.csv')\n",
    "frec_Glas_new = os.path.join(data_dir, 'results-tourRec-GlasPOI-exp20personal-new.csv')\n",
    "frec_Osak_new = os.path.join(data_dir, 'results-tourRec-OsakPOI-exp20personal-new.csv')\n",
    "frec_Toro_new = os.path.join(data_dir, 'results-tourRec-ToroPOI-exp20personal-new.csv')"
   ]
  },
  {
   "cell_type": "code",
   "execution_count": 5,
   "metadata": {
    "collapsed": true
   },
   "outputs": [],
   "source": [
    "fToro0 = os.path.join(data_dir, 'dfVisits-Toro.csv')\n",
    "fToro1 = os.path.join(data_dir, 'dfVisits1-Toro.csv')\n",
    "fToro2 = os.path.join(data_dir, 'dfVisits2-Toro.csv')\n",
    "fToro11 = os.path.join(data_dir, 'dfVisits11-Toro.csv')\n",
    "fToro_time = os.path.join(data_dir, 'dfVisitsTimes-Toro.csv')"
   ]
  },
  {
   "cell_type": "markdown",
   "metadata": {},
   "source": [
    "<a id='sec1'></a>"
   ]
  },
  {
   "cell_type": "markdown",
   "metadata": {},
   "source": [
    "## 1. Initial Recommendation Results"
   ]
  },
  {
   "cell_type": "markdown",
   "metadata": {},
   "source": [
    "### 1.1 Load Results"
   ]
  },
  {
   "cell_type": "code",
   "execution_count": 6,
   "metadata": {
    "collapsed": false
   },
   "outputs": [],
   "source": [
    "rec_Edin = pd.read_csv(frec_Edin, sep=';')\n",
    "rec_Glas = pd.read_csv(frec_Glas, sep=';')\n",
    "rec_Osak = pd.read_csv(frec_Osak, sep=';')\n",
    "rec_Toro = pd.read_csv(frec_Toro, sep=';')"
   ]
  },
  {
   "cell_type": "code",
   "execution_count": 7,
   "metadata": {
    "collapsed": false
   },
   "outputs": [
    {
     "name": "stdout",
     "output_type": "stream",
     "text": [
      "(1324, 14)\n"
     ]
    },
    {
     "data": {
      "text/html": [
       "<div>\n",
       "<table border=\"1\" class=\"dataframe\">\n",
       "  <thead>\n",
       "    <tr style=\"text-align: right;\">\n",
       "      <th></th>\n",
       "      <th>algo</th>\n",
       "      <th>startNode</th>\n",
       "      <th>endNode</th>\n",
       "      <th>budget</th>\n",
       "      <th>totalPOI</th>\n",
       "      <th>totalCost</th>\n",
       "      <th>totalProfit</th>\n",
       "      <th>totalInterest</th>\n",
       "      <th>precision</th>\n",
       "      <th>recall</th>\n",
       "      <th>f1score</th>\n",
       "      <th>recTimeRMSE</th>\n",
       "      <th>baselineRMSE</th>\n",
       "      <th>totalPopInt</th>\n",
       "    </tr>\n",
       "  </thead>\n",
       "  <tbody>\n",
       "    <tr>\n",
       "      <th>0</th>\n",
       "      <td>tourRecLPmultiObjIntTime_i1</td>\n",
       "      <td>13</td>\n",
       "      <td>3</td>\n",
       "      <td>74.283598</td>\n",
       "      <td>3.0</td>\n",
       "      <td>72.536371</td>\n",
       "      <td>1.157584</td>\n",
       "      <td>0.200461</td>\n",
       "      <td>0.500</td>\n",
       "      <td>0.666667</td>\n",
       "      <td>0.571429</td>\n",
       "      <td>14.442480</td>\n",
       "      <td>31.167593</td>\n",
       "      <td>0.679022</td>\n",
       "    </tr>\n",
       "    <tr>\n",
       "      <th>1</th>\n",
       "      <td>tourRecLPmultiObjIntTime_i.5</td>\n",
       "      <td>13</td>\n",
       "      <td>3</td>\n",
       "      <td>74.283598</td>\n",
       "      <td>3.0</td>\n",
       "      <td>72.264047</td>\n",
       "      <td>2.100241</td>\n",
       "      <td>0.090259</td>\n",
       "      <td>0.500</td>\n",
       "      <td>0.666667</td>\n",
       "      <td>0.571429</td>\n",
       "      <td>14.442480</td>\n",
       "      <td>31.167593</td>\n",
       "      <td>1.095250</td>\n",
       "    </tr>\n",
       "    <tr>\n",
       "      <th>2</th>\n",
       "      <td>tourRecLPmultiObjIntTime_i1</td>\n",
       "      <td>28</td>\n",
       "      <td>9</td>\n",
       "      <td>225.233818</td>\n",
       "      <td>4.0</td>\n",
       "      <td>64.062699</td>\n",
       "      <td>1.629022</td>\n",
       "      <td>3.000000</td>\n",
       "      <td>0.400</td>\n",
       "      <td>0.400000</td>\n",
       "      <td>0.400000</td>\n",
       "      <td>NaN</td>\n",
       "      <td>NaN</td>\n",
       "      <td>2.314511</td>\n",
       "    </tr>\n",
       "    <tr>\n",
       "      <th>3</th>\n",
       "      <td>tourRecLPmultiObjIntTime_i.5</td>\n",
       "      <td>28</td>\n",
       "      <td>9</td>\n",
       "      <td>225.233818</td>\n",
       "      <td>7.0</td>\n",
       "      <td>224.921845</td>\n",
       "      <td>3.379733</td>\n",
       "      <td>3.000000</td>\n",
       "      <td>0.375</td>\n",
       "      <td>0.600000</td>\n",
       "      <td>0.461538</td>\n",
       "      <td>NaN</td>\n",
       "      <td>NaN</td>\n",
       "      <td>3.189866</td>\n",
       "    </tr>\n",
       "    <tr>\n",
       "      <th>4</th>\n",
       "      <td>tourRecLPmultiObjIntTime_i1</td>\n",
       "      <td>15</td>\n",
       "      <td>8</td>\n",
       "      <td>16.043956</td>\n",
       "      <td>2.0</td>\n",
       "      <td>16.043956</td>\n",
       "      <td>0.505581</td>\n",
       "      <td>0.070517</td>\n",
       "      <td>1.000</td>\n",
       "      <td>1.000000</td>\n",
       "      <td>1.000000</td>\n",
       "      <td>13.996831</td>\n",
       "      <td>13.960508</td>\n",
       "      <td>0.288049</td>\n",
       "    </tr>\n",
       "  </tbody>\n",
       "</table>\n",
       "</div>"
      ],
      "text/plain": [
       "                           algo  startNode  endNode      budget  totalPOI  \\\n",
       "0   tourRecLPmultiObjIntTime_i1         13        3   74.283598       3.0   \n",
       "1  tourRecLPmultiObjIntTime_i.5         13        3   74.283598       3.0   \n",
       "2   tourRecLPmultiObjIntTime_i1         28        9  225.233818       4.0   \n",
       "3  tourRecLPmultiObjIntTime_i.5         28        9  225.233818       7.0   \n",
       "4   tourRecLPmultiObjIntTime_i1         15        8   16.043956       2.0   \n",
       "\n",
       "    totalCost  totalProfit  totalInterest  precision    recall   f1score  \\\n",
       "0   72.536371     1.157584       0.200461      0.500  0.666667  0.571429   \n",
       "1   72.264047     2.100241       0.090259      0.500  0.666667  0.571429   \n",
       "2   64.062699     1.629022       3.000000      0.400  0.400000  0.400000   \n",
       "3  224.921845     3.379733       3.000000      0.375  0.600000  0.461538   \n",
       "4   16.043956     0.505581       0.070517      1.000  1.000000  1.000000   \n",
       "\n",
       "   recTimeRMSE  baselineRMSE  totalPopInt  \n",
       "0    14.442480     31.167593     0.679022  \n",
       "1    14.442480     31.167593     1.095250  \n",
       "2          NaN           NaN     2.314511  \n",
       "3          NaN           NaN     3.189866  \n",
       "4    13.996831     13.960508     0.288049  "
      ]
     },
     "execution_count": 7,
     "metadata": {},
     "output_type": "execute_result"
    }
   ],
   "source": [
    "print(rec_Edin.shape)\n",
    "rec_Edin.head()"
   ]
  },
  {
   "cell_type": "code",
   "execution_count": 8,
   "metadata": {
    "collapsed": false
   },
   "outputs": [
    {
     "data": {
      "text/plain": [
       "(656, 14)"
      ]
     },
     "execution_count": 8,
     "metadata": {},
     "output_type": "execute_result"
    }
   ],
   "source": [
    "rec_Edin[rec_Edin['algo'] == 'tourRecLPmultiObjIntTime_i1'].shape"
   ]
  },
  {
   "cell_type": "code",
   "execution_count": 9,
   "metadata": {
    "collapsed": false
   },
   "outputs": [
    {
     "name": "stdout",
     "output_type": "stream",
     "text": [
      "(232, 14)\n"
     ]
    }
   ],
   "source": [
    "print(rec_Glas.shape)\n",
    "#rec_Glas.head()"
   ]
  },
  {
   "cell_type": "code",
   "execution_count": 10,
   "metadata": {
    "collapsed": false
   },
   "outputs": [
    {
     "name": "stdout",
     "output_type": "stream",
     "text": [
      "(96, 14)\n"
     ]
    }
   ],
   "source": [
    "print(rec_Osak.shape)\n",
    "#rec_Osak.head()"
   ]
  },
  {
   "cell_type": "code",
   "execution_count": 11,
   "metadata": {
    "collapsed": false
   },
   "outputs": [
    {
     "name": "stdout",
     "output_type": "stream",
     "text": [
      "(688, 14)\n"
     ]
    }
   ],
   "source": [
    "print(rec_Toro.shape)\n",
    "#rec_Toro.head()"
   ]
  },
  {
   "cell_type": "markdown",
   "metadata": {},
   "source": [
    "#### Results of different recommendation algoirthms on Edinburgh dataset."
   ]
  },
  {
   "cell_type": "code",
   "execution_count": 12,
   "metadata": {
    "collapsed": false
   },
   "outputs": [
    {
     "data": {
      "text/plain": [
       "array(['tourRecLPmultiObjIntTime_i1', 'tourRecLPmultiObjIntTime_i.5'], dtype=object)"
      ]
     },
     "execution_count": 12,
     "metadata": {},
     "output_type": "execute_result"
    }
   ],
   "source": [
    "algo_Edin = rec_Edin['algo'].unique()\n",
    "algo_Edin"
   ]
  },
  {
   "cell_type": "code",
   "execution_count": 13,
   "metadata": {
    "collapsed": false
   },
   "outputs": [
    {
     "name": "stdout",
     "output_type": "stream",
     "text": [
      "(656, 14) (1324, 14)\n"
     ]
    }
   ],
   "source": [
    "algo10_Edin = rec_Edin[rec_Edin['algo'] == algo_Edin[0]]\n",
    "print(algo10_Edin.shape, rec_Edin.shape)"
   ]
  },
  {
   "cell_type": "code",
   "execution_count": 14,
   "metadata": {
    "collapsed": false
   },
   "outputs": [
    {
     "name": "stdout",
     "output_type": "stream",
     "text": [
      "0.61813332561\n",
      "0.199491182284\n"
     ]
    }
   ],
   "source": [
    "print(algo10_Edin['f1score'].mean())\n",
    "print(algo10_Edin['f1score'].std())"
   ]
  },
  {
   "cell_type": "code",
   "execution_count": 15,
   "metadata": {
    "collapsed": false
   },
   "outputs": [
    {
     "name": "stdout",
     "output_type": "stream",
     "text": [
      "(668, 14) (1324, 14)\n"
     ]
    }
   ],
   "source": [
    "algo05_Edin = rec_Edin[rec_Edin['algo'] == algo_Edin[1]]\n",
    "print(algo05_Edin.shape, rec_Edin.shape)"
   ]
  },
  {
   "cell_type": "code",
   "execution_count": 16,
   "metadata": {
    "collapsed": false
   },
   "outputs": [
    {
     "name": "stdout",
     "output_type": "stream",
     "text": [
      "0.671261893658\n",
      "0.218175919343\n"
     ]
    }
   ],
   "source": [
    "print(algo05_Edin['f1score'].mean())\n",
    "print(algo05_Edin['f1score'].std())"
   ]
  },
  {
   "cell_type": "markdown",
   "metadata": {},
   "source": [
    "#### Results of different recommendation algoirthms on Glasgow dataset."
   ]
  },
  {
   "cell_type": "code",
   "execution_count": 17,
   "metadata": {
    "collapsed": false
   },
   "outputs": [
    {
     "data": {
      "text/plain": [
       "array(['tourRecLPmultiObjIntTime_i1', 'tourRecLPmultiObjIntTime_i.5'], dtype=object)"
      ]
     },
     "execution_count": 17,
     "metadata": {},
     "output_type": "execute_result"
    }
   ],
   "source": [
    "algo_Glas = rec_Glas['algo'].unique()\n",
    "algo_Glas"
   ]
  },
  {
   "cell_type": "code",
   "execution_count": 18,
   "metadata": {
    "collapsed": false
   },
   "outputs": [
    {
     "name": "stdout",
     "output_type": "stream",
     "text": [
      "(116, 14) (232, 14)\n"
     ]
    }
   ],
   "source": [
    "algo10_Glas = rec_Glas[rec_Glas['algo'] == algo_Glas[0]]\n",
    "print(algo10_Glas.shape, rec_Glas.shape)"
   ]
  },
  {
   "cell_type": "code",
   "execution_count": 19,
   "metadata": {
    "collapsed": false
   },
   "outputs": [
    {
     "name": "stdout",
     "output_type": "stream",
     "text": [
      "0.727576108813\n",
      "0.204616820208\n"
     ]
    }
   ],
   "source": [
    "print(algo10_Glas['f1score'].mean())\n",
    "print(algo10_Glas['f1score'].std())"
   ]
  },
  {
   "cell_type": "code",
   "execution_count": 20,
   "metadata": {
    "collapsed": false
   },
   "outputs": [
    {
     "name": "stdout",
     "output_type": "stream",
     "text": [
      "(116, 14) (232, 14)\n"
     ]
    }
   ],
   "source": [
    "algo05_Glas = rec_Glas[rec_Glas['algo'] == algo_Glas[1]]\n",
    "print(algo05_Glas.shape, rec_Glas.shape)"
   ]
  },
  {
   "cell_type": "code",
   "execution_count": 21,
   "metadata": {
    "collapsed": false
   },
   "outputs": [
    {
     "name": "stdout",
     "output_type": "stream",
     "text": [
      "0.798167230205\n",
      "0.217465775104\n"
     ]
    }
   ],
   "source": [
    "print(algo05_Glas['f1score'].mean())\n",
    "print(algo05_Glas['f1score'].std())"
   ]
  },
  {
   "cell_type": "markdown",
   "metadata": {},
   "source": [
    "#### Results of different recommendation algoirthms on Osaka dataset."
   ]
  },
  {
   "cell_type": "code",
   "execution_count": 22,
   "metadata": {
    "collapsed": false
   },
   "outputs": [
    {
     "data": {
      "text/plain": [
       "array(['tourRecLPmultiObjIntTime_i1', 'tourRecLPmultiObjIntTime_i.5'], dtype=object)"
      ]
     },
     "execution_count": 22,
     "metadata": {},
     "output_type": "execute_result"
    }
   ],
   "source": [
    "algo_Osak = rec_Osak['algo'].unique()\n",
    "algo_Osak"
   ]
  },
  {
   "cell_type": "code",
   "execution_count": 23,
   "metadata": {
    "collapsed": false
   },
   "outputs": [
    {
     "name": "stdout",
     "output_type": "stream",
     "text": [
      "(48, 14) (96, 14)\n"
     ]
    }
   ],
   "source": [
    "algo10_Osak = rec_Osak[rec_Osak['algo'] == algo_Osak[0]]\n",
    "print(algo10_Osak.shape, rec_Osak.shape)"
   ]
  },
  {
   "cell_type": "code",
   "execution_count": 24,
   "metadata": {
    "collapsed": false
   },
   "outputs": [
    {
     "name": "stdout",
     "output_type": "stream",
     "text": [
      "0.640863997114\n",
      "0.198332414796\n"
     ]
    }
   ],
   "source": [
    "print(algo10_Osak['f1score'].mean())\n",
    "print(algo10_Osak['f1score'].std())"
   ]
  },
  {
   "cell_type": "code",
   "execution_count": 25,
   "metadata": {
    "collapsed": false
   },
   "outputs": [
    {
     "name": "stdout",
     "output_type": "stream",
     "text": [
      "(48, 14) (96, 14)\n"
     ]
    }
   ],
   "source": [
    "algo05_Osak = rec_Osak[rec_Osak['algo'] == algo_Osak[1]]\n",
    "print(algo05_Osak.shape, rec_Osak.shape)"
   ]
  },
  {
   "cell_type": "code",
   "execution_count": 26,
   "metadata": {
    "collapsed": false
   },
   "outputs": [
    {
     "name": "stdout",
     "output_type": "stream",
     "text": [
      "0.698995911496\n",
      "0.226146335368\n"
     ]
    }
   ],
   "source": [
    "print(algo05_Osak['f1score'].mean())\n",
    "print(algo05_Osak['f1score'].std())"
   ]
  },
  {
   "cell_type": "markdown",
   "metadata": {},
   "source": [
    "#### Results of different recommendation algoirthms on Toronto dataset."
   ]
  },
  {
   "cell_type": "code",
   "execution_count": 27,
   "metadata": {
    "collapsed": false
   },
   "outputs": [
    {
     "data": {
      "text/plain": [
       "array(['tourRecLPmultiObjIntTime_i1', 'tourRecLPmultiObjIntTime_i.5'], dtype=object)"
      ]
     },
     "execution_count": 27,
     "metadata": {},
     "output_type": "execute_result"
    }
   ],
   "source": [
    "algo_Toro = rec_Toro['algo'].unique()\n",
    "algo_Toro"
   ]
  },
  {
   "cell_type": "code",
   "execution_count": 28,
   "metadata": {
    "collapsed": false
   },
   "outputs": [
    {
     "name": "stdout",
     "output_type": "stream",
     "text": [
      "(342, 14) (688, 14)\n"
     ]
    }
   ],
   "source": [
    "algo10_Toro = rec_Toro[rec_Toro['algo'] == algo_Toro[0]]\n",
    "print(algo10_Toro.shape, rec_Toro.shape)"
   ]
  },
  {
   "cell_type": "code",
   "execution_count": 29,
   "metadata": {
    "collapsed": false
   },
   "outputs": [
    {
     "name": "stdout",
     "output_type": "stream",
     "text": [
      "0.717827219698\n",
      "0.219277869975\n"
     ]
    }
   ],
   "source": [
    "print(algo10_Toro['f1score'].mean())\n",
    "print(algo10_Toro['f1score'].std())"
   ]
  },
  {
   "cell_type": "code",
   "execution_count": 30,
   "metadata": {
    "collapsed": false
   },
   "outputs": [
    {
     "name": "stdout",
     "output_type": "stream",
     "text": [
      "(346, 14) (688, 14)\n"
     ]
    }
   ],
   "source": [
    "algo05_Toro = rec_Toro[rec_Toro['algo'] == algo_Toro[1]]\n",
    "print(algo05_Toro.shape, rec_Toro.shape)"
   ]
  },
  {
   "cell_type": "code",
   "execution_count": 31,
   "metadata": {
    "collapsed": false
   },
   "outputs": [
    {
     "name": "stdout",
     "output_type": "stream",
     "text": [
      "0.73238356624\n",
      "0.217999794847\n"
     ]
    }
   ],
   "source": [
    "print(algo05_Toro['f1score'].mean())\n",
    "print(algo05_Toro['f1score'].std())"
   ]
  },
  {
   "cell_type": "markdown",
   "metadata": {},
   "source": [
    "### 1.2 Results Table"
   ]
  },
  {
   "cell_type": "code",
   "execution_count": 32,
   "metadata": {
    "collapsed": true
   },
   "outputs": [],
   "source": [
    "df_columns = ['#Trajectory', 'Recall_mean', 'Recall_std', 'Precision_mean', 'Precision_std', 'F1_mean', 'F1_std']"
   ]
  },
  {
   "cell_type": "code",
   "execution_count": 33,
   "metadata": {
    "collapsed": true
   },
   "outputs": [],
   "source": [
    "df_indices = ['Edinburgh', 'Glasgow', 'Osaka', 'Toronto']"
   ]
  },
  {
   "cell_type": "markdown",
   "metadata": {},
   "source": [
    "Performance when $\\eta = 1.0$."
   ]
  },
  {
   "cell_type": "code",
   "execution_count": 34,
   "metadata": {
    "collapsed": true
   },
   "outputs": [],
   "source": [
    "data10_df = [algo10_Edin, algo10_Glas, algo10_Osak, algo10_Toro]"
   ]
  },
  {
   "cell_type": "code",
   "execution_count": 35,
   "metadata": {
    "collapsed": false
   },
   "outputs": [],
   "source": [
    "algo10_df = pd.DataFrame(data=np.zeros((4, 7), dtype=np.float), columns=df_columns, index=df_indices)"
   ]
  },
  {
   "cell_type": "code",
   "execution_count": 36,
   "metadata": {
    "collapsed": true
   },
   "outputs": [],
   "source": [
    "assert(len(df_indices) == len(data10_df))\n",
    "for i in range(len(df_indices)):\n",
    "    ix = df_indices[i]\n",
    "    algo10_df.loc[ix, '#Trajectory']    = data10_df[i].shape[0]\n",
    "    algo10_df.loc[ix, 'Recall_mean']    = np.round(data10_df[i]['recall'].mean(), 3)\n",
    "    algo10_df.loc[ix, 'Recall_std']     = np.round(data10_df[i]['recall'].std(), 3)\n",
    "    algo10_df.loc[ix, 'Precision_mean'] = np.round(data10_df[i]['precision'].mean(), 3)\n",
    "    algo10_df.loc[ix, 'Precision_std']  = np.round(data10_df[i]['precision'].std(), 3)\n",
    "    algo10_df.loc[ix, 'F1_mean']        = np.round(data10_df[i]['f1score'].mean(), 3)\n",
    "    algo10_df.loc[ix, 'F1_std']         = np.round(data10_df[i]['f1score'].std(), 3)\n",
    "algo10_df['#Trajectory'] = algo10_df['#Trajectory'].astype(np.int)"
   ]
  },
  {
   "cell_type": "code",
   "execution_count": 37,
   "metadata": {
    "collapsed": false
   },
   "outputs": [
    {
     "data": {
      "text/html": [
       "<div>\n",
       "<table border=\"1\" class=\"dataframe\">\n",
       "  <thead>\n",
       "    <tr style=\"text-align: right;\">\n",
       "      <th></th>\n",
       "      <th>#Trajectory</th>\n",
       "      <th>Recall_mean</th>\n",
       "      <th>Recall_std</th>\n",
       "      <th>Precision_mean</th>\n",
       "      <th>Precision_std</th>\n",
       "      <th>F1_mean</th>\n",
       "      <th>F1_std</th>\n",
       "    </tr>\n",
       "  </thead>\n",
       "  <tbody>\n",
       "    <tr>\n",
       "      <th>Edinburgh</th>\n",
       "      <td>656</td>\n",
       "      <td>0.668</td>\n",
       "      <td>0.184</td>\n",
       "      <td>0.601</td>\n",
       "      <td>0.229</td>\n",
       "      <td>0.618</td>\n",
       "      <td>0.199</td>\n",
       "    </tr>\n",
       "    <tr>\n",
       "      <th>Glasgow</th>\n",
       "      <td>116</td>\n",
       "      <td>0.739</td>\n",
       "      <td>0.196</td>\n",
       "      <td>0.736</td>\n",
       "      <td>0.228</td>\n",
       "      <td>0.728</td>\n",
       "      <td>0.205</td>\n",
       "    </tr>\n",
       "    <tr>\n",
       "      <th>Osaka</th>\n",
       "      <td>48</td>\n",
       "      <td>0.683</td>\n",
       "      <td>0.173</td>\n",
       "      <td>0.622</td>\n",
       "      <td>0.225</td>\n",
       "      <td>0.641</td>\n",
       "      <td>0.198</td>\n",
       "    </tr>\n",
       "    <tr>\n",
       "      <th>Toronto</th>\n",
       "      <td>342</td>\n",
       "      <td>0.744</td>\n",
       "      <td>0.199</td>\n",
       "      <td>0.710</td>\n",
       "      <td>0.241</td>\n",
       "      <td>0.718</td>\n",
       "      <td>0.219</td>\n",
       "    </tr>\n",
       "  </tbody>\n",
       "</table>\n",
       "</div>"
      ],
      "text/plain": [
       "           #Trajectory  Recall_mean  Recall_std  Precision_mean  \\\n",
       "Edinburgh          656        0.668       0.184           0.601   \n",
       "Glasgow            116        0.739       0.196           0.736   \n",
       "Osaka               48        0.683       0.173           0.622   \n",
       "Toronto            342        0.744       0.199           0.710   \n",
       "\n",
       "           Precision_std  F1_mean  F1_std  \n",
       "Edinburgh          0.229    0.618   0.199  \n",
       "Glasgow            0.228    0.728   0.205  \n",
       "Osaka              0.225    0.641   0.198  \n",
       "Toronto            0.241    0.718   0.219  "
      ]
     },
     "execution_count": 37,
     "metadata": {},
     "output_type": "execute_result"
    }
   ],
   "source": [
    "algo10_df"
   ]
  },
  {
   "cell_type": "markdown",
   "metadata": {},
   "source": [
    "Performance when $\\eta = 0.5$."
   ]
  },
  {
   "cell_type": "code",
   "execution_count": 38,
   "metadata": {
    "collapsed": true
   },
   "outputs": [],
   "source": [
    "data05_df = [algo05_Edin, algo05_Glas, algo05_Osak, algo05_Toro]"
   ]
  },
  {
   "cell_type": "code",
   "execution_count": 39,
   "metadata": {
    "collapsed": true
   },
   "outputs": [],
   "source": [
    "algo05_df = pd.DataFrame(data=np.zeros((4, 7), dtype=np.float), columns=df_columns, index=df_indices)"
   ]
  },
  {
   "cell_type": "code",
   "execution_count": 40,
   "metadata": {
    "collapsed": true
   },
   "outputs": [],
   "source": [
    "assert(len(df_indices) == len(data05_df))\n",
    "for i in range(len(df_indices)):\n",
    "    ix = df_indices[i]\n",
    "    algo05_df.loc[ix, '#Trajectory']    = data05_df[i].shape[0]\n",
    "    algo05_df.loc[ix, 'Recall_mean']    = np.round(data05_df[i]['recall'].mean(), 3)\n",
    "    algo05_df.loc[ix, 'Recall_std']     = np.round(data05_df[i]['recall'].std(), 3)\n",
    "    algo05_df.loc[ix, 'Precision_mean'] = np.round(data05_df[i]['precision'].mean(), 3)\n",
    "    algo05_df.loc[ix, 'Precision_std']  = np.round(data05_df[i]['precision'].std(), 3)\n",
    "    algo05_df.loc[ix, 'F1_mean']        = np.round(data05_df[i]['f1score'].mean(), 3)\n",
    "    algo05_df.loc[ix, 'F1_std']         = np.round(data05_df[i]['f1score'].std(), 3)\n",
    "algo05_df['#Trajectory'] = algo05_df['#Trajectory'].astype(np.int)"
   ]
  },
  {
   "cell_type": "code",
   "execution_count": 41,
   "metadata": {
    "collapsed": false
   },
   "outputs": [
    {
     "data": {
      "text/html": [
       "<div>\n",
       "<table border=\"1\" class=\"dataframe\">\n",
       "  <thead>\n",
       "    <tr style=\"text-align: right;\">\n",
       "      <th></th>\n",
       "      <th>#Trajectory</th>\n",
       "      <th>Recall_mean</th>\n",
       "      <th>Recall_std</th>\n",
       "      <th>Precision_mean</th>\n",
       "      <th>Precision_std</th>\n",
       "      <th>F1_mean</th>\n",
       "      <th>F1_std</th>\n",
       "    </tr>\n",
       "  </thead>\n",
       "  <tbody>\n",
       "    <tr>\n",
       "      <th>Edinburgh</th>\n",
       "      <td>668</td>\n",
       "      <td>0.740</td>\n",
       "      <td>0.177</td>\n",
       "      <td>0.633</td>\n",
       "      <td>0.250</td>\n",
       "      <td>0.671</td>\n",
       "      <td>0.218</td>\n",
       "    </tr>\n",
       "    <tr>\n",
       "      <th>Glasgow</th>\n",
       "      <td>116</td>\n",
       "      <td>0.826</td>\n",
       "      <td>0.185</td>\n",
       "      <td>0.782</td>\n",
       "      <td>0.241</td>\n",
       "      <td>0.798</td>\n",
       "      <td>0.217</td>\n",
       "    </tr>\n",
       "    <tr>\n",
       "      <th>Osaka</th>\n",
       "      <td>48</td>\n",
       "      <td>0.759</td>\n",
       "      <td>0.180</td>\n",
       "      <td>0.662</td>\n",
       "      <td>0.259</td>\n",
       "      <td>0.699</td>\n",
       "      <td>0.226</td>\n",
       "    </tr>\n",
       "    <tr>\n",
       "      <th>Toronto</th>\n",
       "      <td>346</td>\n",
       "      <td>0.779</td>\n",
       "      <td>0.177</td>\n",
       "      <td>0.706</td>\n",
       "      <td>0.248</td>\n",
       "      <td>0.732</td>\n",
       "      <td>0.218</td>\n",
       "    </tr>\n",
       "  </tbody>\n",
       "</table>\n",
       "</div>"
      ],
      "text/plain": [
       "           #Trajectory  Recall_mean  Recall_std  Precision_mean  \\\n",
       "Edinburgh          668        0.740       0.177           0.633   \n",
       "Glasgow            116        0.826       0.185           0.782   \n",
       "Osaka               48        0.759       0.180           0.662   \n",
       "Toronto            346        0.779       0.177           0.706   \n",
       "\n",
       "           Precision_std  F1_mean  F1_std  \n",
       "Edinburgh          0.250    0.671   0.218  \n",
       "Glasgow            0.241    0.798   0.217  \n",
       "Osaka              0.259    0.699   0.226  \n",
       "Toronto            0.248    0.732   0.218  "
      ]
     },
     "execution_count": 41,
     "metadata": {},
     "output_type": "execute_result"
    }
   ],
   "source": [
    "algo05_df"
   ]
  },
  {
   "cell_type": "markdown",
   "metadata": {},
   "source": [
    "The mean values of recall/precision/F1 are consistent with numbers reported in IJCAI'15 paper, but the standard deviations are about $10$ times larger than those reported in paper."
   ]
  },
  {
   "cell_type": "markdown",
   "metadata": {},
   "source": [
    "<a id='sec2'></a>"
   ]
  },
  {
   "cell_type": "markdown",
   "metadata": {},
   "source": [
    "## 2. Problems"
   ]
  },
  {
   "cell_type": "markdown",
   "metadata": {},
   "source": [
    "### 2.1 Trajectory Extraction"
   ]
  },
  {
   "cell_type": "markdown",
   "metadata": {},
   "source": [
    "All trajectories used to evaluate (i.e., compute recall/precision/F1) are extracted in a way to get rid of loops/sub-tours, the order of a POI in a trajectory is the order of the first occurrence of that POI in the trajectory, namely, dataset are filtered in the following way.\n",
    "\n",
    "**NOTE: **\n",
    "1. The above filtering are only used to evaluate the recommended trajectories, POI features such as visit duration are computed use all photos (i.e., without filtering).\n",
    "1. Photo records in dataset files provided by IJCAI'15 paper were sorted by `[seqID, dateTaken]` in ascending order."
   ]
  },
  {
   "cell_type": "code",
   "execution_count": 42,
   "metadata": {
    "collapsed": false
   },
   "outputs": [
    {
     "data": {
      "text/plain": [
       "(39419, 7)"
      ]
     },
     "execution_count": 42,
     "metadata": {},
     "output_type": "execute_result"
    }
   ],
   "source": [
    "df_Toro0 = pd.read_csv(fToro0, sep=';')\n",
    "df_Toro0.shape"
   ]
  },
  {
   "cell_type": "code",
   "execution_count": 43,
   "metadata": {
    "collapsed": false
   },
   "outputs": [
    {
     "data": {
      "text/plain": [
       "(7607, 7)"
      ]
     },
     "execution_count": 43,
     "metadata": {},
     "output_type": "execute_result"
    }
   ],
   "source": [
    "traj_Toro = df_Toro0[~df_Toro0.duplicated(subset=['poiID', 'seqID'])]\n",
    "traj_Toro.shape"
   ]
  },
  {
   "cell_type": "markdown",
   "metadata": {},
   "source": [
    "### 2.2 Reason of Duplicated Recommendation Results"
   ]
  },
  {
   "cell_type": "markdown",
   "metadata": {},
   "source": [
    "Results of Edinburgh and Toronto dataset are interesting, i.e., the total number of recommended trajectories for algorithm `'tourRecLPmultiObjIntTime_i1` and `tourRecLPmultiObjIntTime_i.5` is different."
   ]
  },
  {
   "cell_type": "code",
   "execution_count": 44,
   "metadata": {
    "collapsed": false
   },
   "outputs": [
    {
     "data": {
      "text/plain": [
       "(656, 14)"
      ]
     },
     "execution_count": 44,
     "metadata": {},
     "output_type": "execute_result"
    }
   ],
   "source": [
    "rec_Edin[rec_Edin['algo'] == 'tourRecLPmultiObjIntTime_i1'].shape"
   ]
  },
  {
   "cell_type": "code",
   "execution_count": 45,
   "metadata": {
    "collapsed": false
   },
   "outputs": [
    {
     "data": {
      "text/plain": [
       "(668, 14)"
      ]
     },
     "execution_count": 45,
     "metadata": {},
     "output_type": "execute_result"
    }
   ],
   "source": [
    "rec_Edin[rec_Edin['algo'] == 'tourRecLPmultiObjIntTime_i.5'].shape"
   ]
  },
  {
   "cell_type": "code",
   "execution_count": 46,
   "metadata": {
    "collapsed": false
   },
   "outputs": [
    {
     "data": {
      "text/plain": [
       "(342, 14)"
      ]
     },
     "execution_count": 46,
     "metadata": {},
     "output_type": "execute_result"
    }
   ],
   "source": [
    "rec_Toro[rec_Toro['algo'] == 'tourRecLPmultiObjIntTime_i1'].shape"
   ]
  },
  {
   "cell_type": "code",
   "execution_count": 47,
   "metadata": {
    "collapsed": false
   },
   "outputs": [
    {
     "data": {
      "text/plain": [
       "(346, 14)"
      ]
     },
     "execution_count": 47,
     "metadata": {},
     "output_type": "execute_result"
    }
   ],
   "source": [
    "rec_Toro[rec_Toro['algo'] == 'tourRecLPmultiObjIntTime_i.5'].shape"
   ]
  },
  {
   "cell_type": "markdown",
   "metadata": {},
   "source": [
    "The reason of the above phenomenon is the duplicated recommendation results for some trajectories.  \n",
    "For example, to recommend a trajectory w.r.t (start=21, end=19), this is a trajectory with `seqID=4961` in Toronto dataset, the results are"
   ]
  },
  {
   "cell_type": "code",
   "execution_count": 48,
   "metadata": {
    "collapsed": true
   },
   "outputs": [],
   "source": [
    "SEQ_ID = 4961"
   ]
  },
  {
   "cell_type": "code",
   "execution_count": 49,
   "metadata": {
    "collapsed": false
   },
   "outputs": [
    {
     "data": {
      "text/html": [
       "<div>\n",
       "<table border=\"1\" class=\"dataframe\">\n",
       "  <thead>\n",
       "    <tr style=\"text-align: right;\">\n",
       "      <th></th>\n",
       "      <th>algo</th>\n",
       "      <th>startNode</th>\n",
       "      <th>endNode</th>\n",
       "      <th>budget</th>\n",
       "      <th>totalPOI</th>\n",
       "      <th>totalCost</th>\n",
       "      <th>totalProfit</th>\n",
       "      <th>totalInterest</th>\n",
       "      <th>precision</th>\n",
       "      <th>recall</th>\n",
       "      <th>f1score</th>\n",
       "      <th>recTimeRMSE</th>\n",
       "      <th>baselineRMSE</th>\n",
       "      <th>totalPopInt</th>\n",
       "    </tr>\n",
       "  </thead>\n",
       "  <tbody>\n",
       "    <tr>\n",
       "      <th>130</th>\n",
       "      <td>tourRecLPmultiObjIntTime_i1</td>\n",
       "      <td>21</td>\n",
       "      <td>19</td>\n",
       "      <td>756.88289</td>\n",
       "      <td>3.0</td>\n",
       "      <td>164.485187</td>\n",
       "      <td>0.751086</td>\n",
       "      <td>0.0</td>\n",
       "      <td>1.000000</td>\n",
       "      <td>0.4</td>\n",
       "      <td>0.571429</td>\n",
       "      <td>89.049916</td>\n",
       "      <td>22.770471</td>\n",
       "      <td>0.375543</td>\n",
       "    </tr>\n",
       "    <tr>\n",
       "      <th>131</th>\n",
       "      <td>tourRecLPmultiObjIntTime_i.5</td>\n",
       "      <td>21</td>\n",
       "      <td>19</td>\n",
       "      <td>756.88289</td>\n",
       "      <td>10.0</td>\n",
       "      <td>751.699867</td>\n",
       "      <td>5.563496</td>\n",
       "      <td>0.0</td>\n",
       "      <td>0.727273</td>\n",
       "      <td>0.8</td>\n",
       "      <td>0.761905</td>\n",
       "      <td>77.917991</td>\n",
       "      <td>44.482318</td>\n",
       "      <td>2.781748</td>\n",
       "    </tr>\n",
       "    <tr>\n",
       "      <th>132</th>\n",
       "      <td>tourRecLPmultiObjIntTime_i.5</td>\n",
       "      <td>21</td>\n",
       "      <td>19</td>\n",
       "      <td>756.88289</td>\n",
       "      <td>10.0</td>\n",
       "      <td>751.699867</td>\n",
       "      <td>5.563496</td>\n",
       "      <td>0.0</td>\n",
       "      <td>0.727273</td>\n",
       "      <td>0.8</td>\n",
       "      <td>0.761905</td>\n",
       "      <td>83.944269</td>\n",
       "      <td>46.877952</td>\n",
       "      <td>2.781748</td>\n",
       "    </tr>\n",
       "  </tbody>\n",
       "</table>\n",
       "</div>"
      ],
      "text/plain": [
       "                             algo  startNode  endNode     budget  totalPOI  \\\n",
       "130   tourRecLPmultiObjIntTime_i1         21       19  756.88289       3.0   \n",
       "131  tourRecLPmultiObjIntTime_i.5         21       19  756.88289      10.0   \n",
       "132  tourRecLPmultiObjIntTime_i.5         21       19  756.88289      10.0   \n",
       "\n",
       "      totalCost  totalProfit  totalInterest  precision  recall   f1score  \\\n",
       "130  164.485187     0.751086            0.0   1.000000     0.4  0.571429   \n",
       "131  751.699867     5.563496            0.0   0.727273     0.8  0.761905   \n",
       "132  751.699867     5.563496            0.0   0.727273     0.8  0.761905   \n",
       "\n",
       "     recTimeRMSE  baselineRMSE  totalPopInt  \n",
       "130    89.049916     22.770471     0.375543  \n",
       "131    77.917991     44.482318     2.781748  \n",
       "132    83.944269     46.877952     2.781748  "
      ]
     },
     "execution_count": 49,
     "metadata": {},
     "output_type": "execute_result"
    }
   ],
   "source": [
    "rec_Toro[np.logical_and(rec_Toro['startNode'] == 21, rec_Toro['endNode'] == 19)]"
   ]
  },
  {
   "cell_type": "markdown",
   "metadata": {},
   "source": [
    "While the ILP solver returns only one solution for algorithm `tourRecLPmultiObjIntTime_i.5` (function `tourRecLPmultiObj()`), but the function `calcStats()` produce $2$ rows (as shown above) when computing statistics of the ILP solution."
   ]
  },
  {
   "cell_type": "code",
   "execution_count": 50,
   "metadata": {
    "collapsed": false
   },
   "outputs": [],
   "source": [
    "df_Toro_time = pd.read_csv(fToro_time, sep=';')"
   ]
  },
  {
   "cell_type": "code",
   "execution_count": 51,
   "metadata": {
    "collapsed": false
   },
   "outputs": [
    {
     "data": {
      "text/html": [
       "<div>\n",
       "<table border=\"1\" class=\"dataframe\">\n",
       "  <thead>\n",
       "    <tr style=\"text-align: right;\">\n",
       "      <th></th>\n",
       "      <th>poiID</th>\n",
       "      <th>seqID</th>\n",
       "      <th>userID</th>\n",
       "      <th>poiTheme</th>\n",
       "      <th>visitDuration</th>\n",
       "      <th>avgDuration</th>\n",
       "    </tr>\n",
       "  </thead>\n",
       "  <tbody>\n",
       "    <tr>\n",
       "      <th>68</th>\n",
       "      <td>1</td>\n",
       "      <td>4961</td>\n",
       "      <td>8110030@N05</td>\n",
       "      <td>Sport</td>\n",
       "      <td>140.150000</td>\n",
       "      <td>120.482161</td>\n",
       "    </tr>\n",
       "    <tr>\n",
       "      <th>631</th>\n",
       "      <td>7</td>\n",
       "      <td>4961</td>\n",
       "      <td>8110030@N05</td>\n",
       "      <td>Cultural</td>\n",
       "      <td>63.816667</td>\n",
       "      <td>52.975737</td>\n",
       "    </tr>\n",
       "    <tr>\n",
       "      <th>1407</th>\n",
       "      <td>16</td>\n",
       "      <td>4961</td>\n",
       "      <td>8110030@N05</td>\n",
       "      <td>Amusement</td>\n",
       "      <td>72.883333</td>\n",
       "      <td>94.618018</td>\n",
       "    </tr>\n",
       "    <tr>\n",
       "      <th>1684</th>\n",
       "      <td>19</td>\n",
       "      <td>4961</td>\n",
       "      <td>8110030@N05</td>\n",
       "      <td>Beach</td>\n",
       "      <td>1.016667</td>\n",
       "      <td>32.273333</td>\n",
       "    </tr>\n",
       "    <tr>\n",
       "      <th>1783</th>\n",
       "      <td>21</td>\n",
       "      <td>4961</td>\n",
       "      <td>8110030@N05</td>\n",
       "      <td>Beach</td>\n",
       "      <td>14.633333</td>\n",
       "      <td>62.992631</td>\n",
       "    </tr>\n",
       "    <tr>\n",
       "      <th>2479</th>\n",
       "      <td>23</td>\n",
       "      <td>4961</td>\n",
       "      <td>8110030@N05</td>\n",
       "      <td>Shopping</td>\n",
       "      <td>58.450000</td>\n",
       "      <td>59.085668</td>\n",
       "    </tr>\n",
       "    <tr>\n",
       "      <th>2650</th>\n",
       "      <td>24</td>\n",
       "      <td>4961</td>\n",
       "      <td>8110030@N05</td>\n",
       "      <td>Shopping</td>\n",
       "      <td>3.833333</td>\n",
       "      <td>75.604557</td>\n",
       "    </tr>\n",
       "    <tr>\n",
       "      <th>3060</th>\n",
       "      <td>28</td>\n",
       "      <td>4961</td>\n",
       "      <td>8110030@N05</td>\n",
       "      <td>Structure</td>\n",
       "      <td>5.500000</td>\n",
       "      <td>31.241667</td>\n",
       "    </tr>\n",
       "  </tbody>\n",
       "</table>\n",
       "</div>"
      ],
      "text/plain": [
       "      poiID  seqID       userID   poiTheme  visitDuration  avgDuration\n",
       "68        1   4961  8110030@N05      Sport     140.150000   120.482161\n",
       "631       7   4961  8110030@N05   Cultural      63.816667    52.975737\n",
       "1407     16   4961  8110030@N05  Amusement      72.883333    94.618018\n",
       "1684     19   4961  8110030@N05      Beach       1.016667    32.273333\n",
       "1783     21   4961  8110030@N05      Beach      14.633333    62.992631\n",
       "2479     23   4961  8110030@N05   Shopping      58.450000    59.085668\n",
       "2650     24   4961  8110030@N05   Shopping       3.833333    75.604557\n",
       "3060     28   4961  8110030@N05  Structure       5.500000    31.241667"
      ]
     },
     "execution_count": 51,
     "metadata": {},
     "output_type": "execute_result"
    }
   ],
   "source": [
    "tempDfVisitTimes = df_Toro_time[df_Toro_time['seqID'] == SEQ_ID]\n",
    "tempDfVisitTimes"
   ]
  },
  {
   "cell_type": "markdown",
   "metadata": {},
   "source": [
    "This is because statement `tempDfVisitTimes[tempDfVisitTimes$poiID==tempTo,]$visitDuration` produces two values when computing the RMSE of recommended visit duration for POI `tempTo` in function `calcStats()`, i.e., there are two values in column `poiID` of dataframe `tempDfVisitTimes` that equals to `tempTo` (for POI `1` and `23`)."
   ]
  },
  {
   "cell_type": "markdown",
   "metadata": {},
   "source": [
    "On the other hand, the above trajectory looks strange, let's check it from the trajectory dataframe."
   ]
  },
  {
   "cell_type": "code",
   "execution_count": 52,
   "metadata": {
    "collapsed": false
   },
   "outputs": [
    {
     "data": {
      "text/html": [
       "<div>\n",
       "<table border=\"1\" class=\"dataframe\">\n",
       "  <thead>\n",
       "    <tr style=\"text-align: right;\">\n",
       "      <th></th>\n",
       "      <th>photoID</th>\n",
       "      <th>userID</th>\n",
       "      <th>dateTaken</th>\n",
       "      <th>poiID</th>\n",
       "      <th>poiTheme</th>\n",
       "      <th>poiFreq</th>\n",
       "      <th>seqID</th>\n",
       "    </tr>\n",
       "  </thead>\n",
       "  <tbody>\n",
       "    <tr>\n",
       "      <th>32736</th>\n",
       "      <td>2496437324</td>\n",
       "      <td>8110030@N05</td>\n",
       "      <td>1210645664</td>\n",
       "      <td>21</td>\n",
       "      <td>Beach</td>\n",
       "      <td>3594</td>\n",
       "      <td>4961</td>\n",
       "    </tr>\n",
       "    <tr>\n",
       "      <th>32737</th>\n",
       "      <td>2495612613</td>\n",
       "      <td>8110030@N05</td>\n",
       "      <td>1210646225</td>\n",
       "      <td>23</td>\n",
       "      <td>Shopping</td>\n",
       "      <td>1874</td>\n",
       "      <td>4961</td>\n",
       "    </tr>\n",
       "    <tr>\n",
       "      <th>32743</th>\n",
       "      <td>2496510540</td>\n",
       "      <td>8110030@N05</td>\n",
       "      <td>1210649845</td>\n",
       "      <td>28</td>\n",
       "      <td>Structure</td>\n",
       "      <td>936</td>\n",
       "      <td>4961</td>\n",
       "    </tr>\n",
       "    <tr>\n",
       "      <th>32746</th>\n",
       "      <td>2496456664</td>\n",
       "      <td>8110030@N05</td>\n",
       "      <td>1210650968</td>\n",
       "      <td>30</td>\n",
       "      <td>Structure</td>\n",
       "      <td>1538</td>\n",
       "      <td>4961</td>\n",
       "    </tr>\n",
       "    <tr>\n",
       "      <th>32747</th>\n",
       "      <td>2550882990</td>\n",
       "      <td>8110030@N05</td>\n",
       "      <td>1210651491</td>\n",
       "      <td>16</td>\n",
       "      <td>Amusement</td>\n",
       "      <td>3553</td>\n",
       "      <td>4961</td>\n",
       "    </tr>\n",
       "    <tr>\n",
       "      <th>32749</th>\n",
       "      <td>2496567652</td>\n",
       "      <td>8110030@N05</td>\n",
       "      <td>1210653751</td>\n",
       "      <td>1</td>\n",
       "      <td>Sport</td>\n",
       "      <td>3506</td>\n",
       "      <td>4961</td>\n",
       "    </tr>\n",
       "    <tr>\n",
       "      <th>32750</th>\n",
       "      <td>2495795797</td>\n",
       "      <td>8110030@N05</td>\n",
       "      <td>1210654091</td>\n",
       "      <td>4</td>\n",
       "      <td>Sport</td>\n",
       "      <td>3056</td>\n",
       "      <td>4961</td>\n",
       "    </tr>\n",
       "    <tr>\n",
       "      <th>32754</th>\n",
       "      <td>2495726207</td>\n",
       "      <td>8110030@N05</td>\n",
       "      <td>1210660662</td>\n",
       "      <td>24</td>\n",
       "      <td>Shopping</td>\n",
       "      <td>1028</td>\n",
       "      <td>4961</td>\n",
       "    </tr>\n",
       "    <tr>\n",
       "      <th>32759</th>\n",
       "      <td>2550064695</td>\n",
       "      <td>8110030@N05</td>\n",
       "      <td>1210662173</td>\n",
       "      <td>7</td>\n",
       "      <td>Cultural</td>\n",
       "      <td>2064</td>\n",
       "      <td>4961</td>\n",
       "    </tr>\n",
       "    <tr>\n",
       "      <th>32765</th>\n",
       "      <td>2497124834</td>\n",
       "      <td>8110030@N05</td>\n",
       "      <td>1210682928</td>\n",
       "      <td>19</td>\n",
       "      <td>Beach</td>\n",
       "      <td>111</td>\n",
       "      <td>4961</td>\n",
       "    </tr>\n",
       "  </tbody>\n",
       "</table>\n",
       "</div>"
      ],
      "text/plain": [
       "          photoID       userID   dateTaken  poiID   poiTheme  poiFreq  seqID\n",
       "32736  2496437324  8110030@N05  1210645664     21      Beach     3594   4961\n",
       "32737  2495612613  8110030@N05  1210646225     23   Shopping     1874   4961\n",
       "32743  2496510540  8110030@N05  1210649845     28  Structure      936   4961\n",
       "32746  2496456664  8110030@N05  1210650968     30  Structure     1538   4961\n",
       "32747  2550882990  8110030@N05  1210651491     16  Amusement     3553   4961\n",
       "32749  2496567652  8110030@N05  1210653751      1      Sport     3506   4961\n",
       "32750  2495795797  8110030@N05  1210654091      4      Sport     3056   4961\n",
       "32754  2495726207  8110030@N05  1210660662     24   Shopping     1028   4961\n",
       "32759  2550064695  8110030@N05  1210662173      7   Cultural     2064   4961\n",
       "32765  2497124834  8110030@N05  1210682928     19      Beach      111   4961"
      ]
     },
     "execution_count": 52,
     "metadata": {},
     "output_type": "execute_result"
    }
   ],
   "source": [
    "traj_Toro[traj_Toro['seqID'] == SEQ_ID]"
   ]
  },
  {
   "cell_type": "markdown",
   "metadata": {},
   "source": [
    "They are **NOT** the same! This is **unexpected** as dataframe `df_Toro_time` is computed by taking the original visiting data (i.e. dataframe `df_Toro0` in the above section) as input, in function `addVisitDuration()`, and compute visit duration for each POI in each trajectory as well as the average visit duration for each POI."
   ]
  },
  {
   "cell_type": "markdown",
   "metadata": {},
   "source": [
    "Let's dive into function `addVisitDuration()` and check what happened."
   ]
  },
  {
   "cell_type": "markdown",
   "metadata": {},
   "source": [
    "The logic of function `addVisitDuration()` is:\n",
    "0. sort photo records by `[seqID, dateTaken]` in descending order,\n",
    "1. compute the number of photos taken at each POI in each trajectory,\n",
    "1. compute the time taken the first and last photo at each POI, a.k.a, arrivalTime and departureTime of a POI,\n",
    "1. compute the POI visit duration = departureTime - arrivalTime, \n",
    "1. filtering out a POI in a trajectory if its visit duration is $0$ in that trajectory,\n",
    "1. compute the average visit duration of each POI.\n",
    "\n",
    "Let's check it step by step."
   ]
  },
  {
   "cell_type": "markdown",
   "metadata": {},
   "source": [
    "`2.` compute the number of photos taken at each POI in each trajectory,"
   ]
  },
  {
   "cell_type": "code",
   "execution_count": 53,
   "metadata": {
    "collapsed": true
   },
   "outputs": [],
   "source": [
    "df_Toro1 = pd.read_csv(fToro1, sep=';')"
   ]
  },
  {
   "cell_type": "code",
   "execution_count": 54,
   "metadata": {
    "collapsed": false,
    "scrolled": true
   },
   "outputs": [
    {
     "data": {
      "text/html": [
       "<div>\n",
       "<table border=\"1\" class=\"dataframe\">\n",
       "  <thead>\n",
       "    <tr style=\"text-align: right;\">\n",
       "      <th></th>\n",
       "      <th>seqID</th>\n",
       "      <th>poiID</th>\n",
       "      <th>photoID</th>\n",
       "      <th>userID</th>\n",
       "      <th>dateTaken</th>\n",
       "      <th>poiTheme</th>\n",
       "      <th>poiFreq</th>\n",
       "      <th>visitFreq</th>\n",
       "    </tr>\n",
       "  </thead>\n",
       "  <tbody>\n",
       "    <tr>\n",
       "      <th>5923</th>\n",
       "      <td>4961</td>\n",
       "      <td>19</td>\n",
       "      <td>2497127026</td>\n",
       "      <td>8110030@N05</td>\n",
       "      <td>1210682989</td>\n",
       "      <td>Beach</td>\n",
       "      <td>111</td>\n",
       "      <td>2</td>\n",
       "    </tr>\n",
       "    <tr>\n",
       "      <th>5924</th>\n",
       "      <td>4961</td>\n",
       "      <td>19</td>\n",
       "      <td>2497124834</td>\n",
       "      <td>8110030@N05</td>\n",
       "      <td>1210682928</td>\n",
       "      <td>Beach</td>\n",
       "      <td>111</td>\n",
       "      <td>2</td>\n",
       "    </tr>\n",
       "    <tr>\n",
       "      <th>5925</th>\n",
       "      <td>4961</td>\n",
       "      <td>7</td>\n",
       "      <td>2495790615</td>\n",
       "      <td>8110030@N05</td>\n",
       "      <td>1210666002</td>\n",
       "      <td>Cultural</td>\n",
       "      <td>2064</td>\n",
       "      <td>6</td>\n",
       "    </tr>\n",
       "    <tr>\n",
       "      <th>5926</th>\n",
       "      <td>4961</td>\n",
       "      <td>7</td>\n",
       "      <td>2495762153</td>\n",
       "      <td>8110030@N05</td>\n",
       "      <td>1210665727</td>\n",
       "      <td>Cultural</td>\n",
       "      <td>2064</td>\n",
       "      <td>6</td>\n",
       "    </tr>\n",
       "    <tr>\n",
       "      <th>5927</th>\n",
       "      <td>4961</td>\n",
       "      <td>7</td>\n",
       "      <td>2496574408</td>\n",
       "      <td>8110030@N05</td>\n",
       "      <td>1210665618</td>\n",
       "      <td>Cultural</td>\n",
       "      <td>2064</td>\n",
       "      <td>6</td>\n",
       "    </tr>\n",
       "    <tr>\n",
       "      <th>5928</th>\n",
       "      <td>4961</td>\n",
       "      <td>7</td>\n",
       "      <td>2495744275</td>\n",
       "      <td>8110030@N05</td>\n",
       "      <td>1210665528</td>\n",
       "      <td>Cultural</td>\n",
       "      <td>2064</td>\n",
       "      <td>6</td>\n",
       "    </tr>\n",
       "    <tr>\n",
       "      <th>5929</th>\n",
       "      <td>4961</td>\n",
       "      <td>7</td>\n",
       "      <td>2496551970</td>\n",
       "      <td>8110030@N05</td>\n",
       "      <td>1210665511</td>\n",
       "      <td>Cultural</td>\n",
       "      <td>2064</td>\n",
       "      <td>6</td>\n",
       "    </tr>\n",
       "    <tr>\n",
       "      <th>5930</th>\n",
       "      <td>4961</td>\n",
       "      <td>7</td>\n",
       "      <td>2550064695</td>\n",
       "      <td>8110030@N05</td>\n",
       "      <td>1210662173</td>\n",
       "      <td>Cultural</td>\n",
       "      <td>2064</td>\n",
       "      <td>6</td>\n",
       "    </tr>\n",
       "    <tr>\n",
       "      <th>5931</th>\n",
       "      <td>4961</td>\n",
       "      <td>1</td>\n",
       "      <td>2495792291</td>\n",
       "      <td>8110030@N05</td>\n",
       "      <td>1210662160</td>\n",
       "      <td>Sport</td>\n",
       "      <td>3506</td>\n",
       "      <td>4</td>\n",
       "    </tr>\n",
       "    <tr>\n",
       "      <th>5932</th>\n",
       "      <td>4961</td>\n",
       "      <td>1</td>\n",
       "      <td>2495784287</td>\n",
       "      <td>8110030@N05</td>\n",
       "      <td>1210662131</td>\n",
       "      <td>Sport</td>\n",
       "      <td>3506</td>\n",
       "      <td>4</td>\n",
       "    </tr>\n",
       "    <tr>\n",
       "      <th>5933</th>\n",
       "      <td>4961</td>\n",
       "      <td>1</td>\n",
       "      <td>2495774905</td>\n",
       "      <td>8110030@N05</td>\n",
       "      <td>1210662111</td>\n",
       "      <td>Sport</td>\n",
       "      <td>3506</td>\n",
       "      <td>4</td>\n",
       "    </tr>\n",
       "    <tr>\n",
       "      <th>5934</th>\n",
       "      <td>4961</td>\n",
       "      <td>24</td>\n",
       "      <td>2496570740</td>\n",
       "      <td>8110030@N05</td>\n",
       "      <td>1210660892</td>\n",
       "      <td>Shopping</td>\n",
       "      <td>1028</td>\n",
       "      <td>2</td>\n",
       "    </tr>\n",
       "    <tr>\n",
       "      <th>5935</th>\n",
       "      <td>4961</td>\n",
       "      <td>24</td>\n",
       "      <td>2495726207</td>\n",
       "      <td>8110030@N05</td>\n",
       "      <td>1210660662</td>\n",
       "      <td>Shopping</td>\n",
       "      <td>1028</td>\n",
       "      <td>2</td>\n",
       "    </tr>\n",
       "    <tr>\n",
       "      <th>5936</th>\n",
       "      <td>4961</td>\n",
       "      <td>16</td>\n",
       "      <td>2550885224</td>\n",
       "      <td>8110030@N05</td>\n",
       "      <td>1210655867</td>\n",
       "      <td>Amusement</td>\n",
       "      <td>3553</td>\n",
       "      <td>5</td>\n",
       "    </tr>\n",
       "    <tr>\n",
       "      <th>5937</th>\n",
       "      <td>4961</td>\n",
       "      <td>16</td>\n",
       "      <td>2495737537</td>\n",
       "      <td>8110030@N05</td>\n",
       "      <td>1210655864</td>\n",
       "      <td>Amusement</td>\n",
       "      <td>3553</td>\n",
       "      <td>5</td>\n",
       "    </tr>\n",
       "    <tr>\n",
       "      <th>5938</th>\n",
       "      <td>4961</td>\n",
       "      <td>16</td>\n",
       "      <td>2495724685</td>\n",
       "      <td>8110030@N05</td>\n",
       "      <td>1210655829</td>\n",
       "      <td>Amusement</td>\n",
       "      <td>3553</td>\n",
       "      <td>5</td>\n",
       "    </tr>\n",
       "    <tr>\n",
       "      <th>5939</th>\n",
       "      <td>4961</td>\n",
       "      <td>1</td>\n",
       "      <td>2496567652</td>\n",
       "      <td>8110030@N05</td>\n",
       "      <td>1210653751</td>\n",
       "      <td>Sport</td>\n",
       "      <td>3506</td>\n",
       "      <td>4</td>\n",
       "    </tr>\n",
       "    <tr>\n",
       "      <th>5940</th>\n",
       "      <td>4961</td>\n",
       "      <td>16</td>\n",
       "      <td>2495703021</td>\n",
       "      <td>8110030@N05</td>\n",
       "      <td>1210653284</td>\n",
       "      <td>Amusement</td>\n",
       "      <td>3553</td>\n",
       "      <td>5</td>\n",
       "    </tr>\n",
       "    <tr>\n",
       "      <th>5941</th>\n",
       "      <td>4961</td>\n",
       "      <td>16</td>\n",
       "      <td>2550882990</td>\n",
       "      <td>8110030@N05</td>\n",
       "      <td>1210651491</td>\n",
       "      <td>Amusement</td>\n",
       "      <td>3553</td>\n",
       "      <td>5</td>\n",
       "    </tr>\n",
       "    <tr>\n",
       "      <th>5942</th>\n",
       "      <td>4961</td>\n",
       "      <td>28</td>\n",
       "      <td>2495607515</td>\n",
       "      <td>8110030@N05</td>\n",
       "      <td>1210650175</td>\n",
       "      <td>Structure</td>\n",
       "      <td>936</td>\n",
       "      <td>3</td>\n",
       "    </tr>\n",
       "    <tr>\n",
       "      <th>5943</th>\n",
       "      <td>4961</td>\n",
       "      <td>28</td>\n",
       "      <td>2495604829</td>\n",
       "      <td>8110030@N05</td>\n",
       "      <td>1210649993</td>\n",
       "      <td>Structure</td>\n",
       "      <td>936</td>\n",
       "      <td>3</td>\n",
       "    </tr>\n",
       "    <tr>\n",
       "      <th>5944</th>\n",
       "      <td>4961</td>\n",
       "      <td>28</td>\n",
       "      <td>2496510540</td>\n",
       "      <td>8110030@N05</td>\n",
       "      <td>1210649845</td>\n",
       "      <td>Structure</td>\n",
       "      <td>936</td>\n",
       "      <td>3</td>\n",
       "    </tr>\n",
       "    <tr>\n",
       "      <th>5945</th>\n",
       "      <td>4961</td>\n",
       "      <td>23</td>\n",
       "      <td>2495681373</td>\n",
       "      <td>8110030@N05</td>\n",
       "      <td>1210649732</td>\n",
       "      <td>Shopping</td>\n",
       "      <td>1874</td>\n",
       "      <td>3</td>\n",
       "    </tr>\n",
       "    <tr>\n",
       "      <th>5946</th>\n",
       "      <td>4961</td>\n",
       "      <td>23</td>\n",
       "      <td>2495679397</td>\n",
       "      <td>8110030@N05</td>\n",
       "      <td>1210649689</td>\n",
       "      <td>Shopping</td>\n",
       "      <td>1874</td>\n",
       "      <td>3</td>\n",
       "    </tr>\n",
       "    <tr>\n",
       "      <th>5947</th>\n",
       "      <td>4961</td>\n",
       "      <td>21</td>\n",
       "      <td>2496484790</td>\n",
       "      <td>8110030@N05</td>\n",
       "      <td>1210646542</td>\n",
       "      <td>Beach</td>\n",
       "      <td>3594</td>\n",
       "      <td>4</td>\n",
       "    </tr>\n",
       "    <tr>\n",
       "      <th>5948</th>\n",
       "      <td>4961</td>\n",
       "      <td>21</td>\n",
       "      <td>2496468192</td>\n",
       "      <td>8110030@N05</td>\n",
       "      <td>1210646384</td>\n",
       "      <td>Beach</td>\n",
       "      <td>3594</td>\n",
       "      <td>4</td>\n",
       "    </tr>\n",
       "    <tr>\n",
       "      <th>5949</th>\n",
       "      <td>4961</td>\n",
       "      <td>21</td>\n",
       "      <td>2550059933</td>\n",
       "      <td>8110030@N05</td>\n",
       "      <td>1210646384</td>\n",
       "      <td>Beach</td>\n",
       "      <td>3594</td>\n",
       "      <td>4</td>\n",
       "    </tr>\n",
       "    <tr>\n",
       "      <th>5950</th>\n",
       "      <td>4961</td>\n",
       "      <td>23</td>\n",
       "      <td>2495612613</td>\n",
       "      <td>8110030@N05</td>\n",
       "      <td>1210646225</td>\n",
       "      <td>Shopping</td>\n",
       "      <td>1874</td>\n",
       "      <td>3</td>\n",
       "    </tr>\n",
       "    <tr>\n",
       "      <th>5951</th>\n",
       "      <td>4961</td>\n",
       "      <td>21</td>\n",
       "      <td>2496437324</td>\n",
       "      <td>8110030@N05</td>\n",
       "      <td>1210645664</td>\n",
       "      <td>Beach</td>\n",
       "      <td>3594</td>\n",
       "      <td>4</td>\n",
       "    </tr>\n",
       "  </tbody>\n",
       "</table>\n",
       "</div>"
      ],
      "text/plain": [
       "      seqID  poiID     photoID       userID   dateTaken   poiTheme  poiFreq  \\\n",
       "5923   4961     19  2497127026  8110030@N05  1210682989      Beach      111   \n",
       "5924   4961     19  2497124834  8110030@N05  1210682928      Beach      111   \n",
       "5925   4961      7  2495790615  8110030@N05  1210666002   Cultural     2064   \n",
       "5926   4961      7  2495762153  8110030@N05  1210665727   Cultural     2064   \n",
       "5927   4961      7  2496574408  8110030@N05  1210665618   Cultural     2064   \n",
       "5928   4961      7  2495744275  8110030@N05  1210665528   Cultural     2064   \n",
       "5929   4961      7  2496551970  8110030@N05  1210665511   Cultural     2064   \n",
       "5930   4961      7  2550064695  8110030@N05  1210662173   Cultural     2064   \n",
       "5931   4961      1  2495792291  8110030@N05  1210662160      Sport     3506   \n",
       "5932   4961      1  2495784287  8110030@N05  1210662131      Sport     3506   \n",
       "5933   4961      1  2495774905  8110030@N05  1210662111      Sport     3506   \n",
       "5934   4961     24  2496570740  8110030@N05  1210660892   Shopping     1028   \n",
       "5935   4961     24  2495726207  8110030@N05  1210660662   Shopping     1028   \n",
       "5936   4961     16  2550885224  8110030@N05  1210655867  Amusement     3553   \n",
       "5937   4961     16  2495737537  8110030@N05  1210655864  Amusement     3553   \n",
       "5938   4961     16  2495724685  8110030@N05  1210655829  Amusement     3553   \n",
       "5939   4961      1  2496567652  8110030@N05  1210653751      Sport     3506   \n",
       "5940   4961     16  2495703021  8110030@N05  1210653284  Amusement     3553   \n",
       "5941   4961     16  2550882990  8110030@N05  1210651491  Amusement     3553   \n",
       "5942   4961     28  2495607515  8110030@N05  1210650175  Structure      936   \n",
       "5943   4961     28  2495604829  8110030@N05  1210649993  Structure      936   \n",
       "5944   4961     28  2496510540  8110030@N05  1210649845  Structure      936   \n",
       "5945   4961     23  2495681373  8110030@N05  1210649732   Shopping     1874   \n",
       "5946   4961     23  2495679397  8110030@N05  1210649689   Shopping     1874   \n",
       "5947   4961     21  2496484790  8110030@N05  1210646542      Beach     3594   \n",
       "5948   4961     21  2496468192  8110030@N05  1210646384      Beach     3594   \n",
       "5949   4961     21  2550059933  8110030@N05  1210646384      Beach     3594   \n",
       "5950   4961     23  2495612613  8110030@N05  1210646225   Shopping     1874   \n",
       "5951   4961     21  2496437324  8110030@N05  1210645664      Beach     3594   \n",
       "\n",
       "      visitFreq  \n",
       "5923          2  \n",
       "5924          2  \n",
       "5925          6  \n",
       "5926          6  \n",
       "5927          6  \n",
       "5928          6  \n",
       "5929          6  \n",
       "5930          6  \n",
       "5931          4  \n",
       "5932          4  \n",
       "5933          4  \n",
       "5934          2  \n",
       "5935          2  \n",
       "5936          5  \n",
       "5937          5  \n",
       "5938          5  \n",
       "5939          4  \n",
       "5940          5  \n",
       "5941          5  \n",
       "5942          3  \n",
       "5943          3  \n",
       "5944          3  \n",
       "5945          3  \n",
       "5946          3  \n",
       "5947          4  \n",
       "5948          4  \n",
       "5949          4  \n",
       "5950          3  \n",
       "5951          4  "
      ]
     },
     "execution_count": 54,
     "metadata": {},
     "output_type": "execute_result"
    }
   ],
   "source": [
    "df_Toro1[df_Toro1['seqID'] == SEQ_ID]"
   ]
  },
  {
   "cell_type": "markdown",
   "metadata": {},
   "source": [
    "`3.` compute the time taken the first and last photo at each POI, a.k.a, arrivalTime and departureTime of a POI,"
   ]
  },
  {
   "cell_type": "code",
   "execution_count": 55,
   "metadata": {
    "collapsed": true
   },
   "outputs": [],
   "source": [
    "df_Toro11 = pd.read_csv(fToro11, sep=';')"
   ]
  },
  {
   "cell_type": "code",
   "execution_count": 56,
   "metadata": {
    "collapsed": false,
    "scrolled": true
   },
   "outputs": [
    {
     "data": {
      "text/html": [
       "<div>\n",
       "<table border=\"1\" class=\"dataframe\">\n",
       "  <thead>\n",
       "    <tr style=\"text-align: right;\">\n",
       "      <th></th>\n",
       "      <th>seqID</th>\n",
       "      <th>poiID</th>\n",
       "      <th>photoID</th>\n",
       "      <th>userID</th>\n",
       "      <th>dateTaken</th>\n",
       "      <th>poiTheme</th>\n",
       "      <th>poiFreq</th>\n",
       "      <th>visitFreq</th>\n",
       "    </tr>\n",
       "  </thead>\n",
       "  <tbody>\n",
       "    <tr>\n",
       "      <th>5540</th>\n",
       "      <td>4961</td>\n",
       "      <td>1</td>\n",
       "      <td>2495792291</td>\n",
       "      <td>8110030@N05</td>\n",
       "      <td>1210662160</td>\n",
       "      <td>Sport</td>\n",
       "      <td>3506</td>\n",
       "      <td>4</td>\n",
       "    </tr>\n",
       "    <tr>\n",
       "      <th>5541</th>\n",
       "      <td>4961</td>\n",
       "      <td>1</td>\n",
       "      <td>2496567652</td>\n",
       "      <td>8110030@N05</td>\n",
       "      <td>1210653751</td>\n",
       "      <td>Sport</td>\n",
       "      <td>3506</td>\n",
       "      <td>4</td>\n",
       "    </tr>\n",
       "    <tr>\n",
       "      <th>5542</th>\n",
       "      <td>4961</td>\n",
       "      <td>7</td>\n",
       "      <td>2495790615</td>\n",
       "      <td>8110030@N05</td>\n",
       "      <td>1210666002</td>\n",
       "      <td>Cultural</td>\n",
       "      <td>2064</td>\n",
       "      <td>6</td>\n",
       "    </tr>\n",
       "    <tr>\n",
       "      <th>5543</th>\n",
       "      <td>4961</td>\n",
       "      <td>7</td>\n",
       "      <td>2550064695</td>\n",
       "      <td>8110030@N05</td>\n",
       "      <td>1210662173</td>\n",
       "      <td>Cultural</td>\n",
       "      <td>2064</td>\n",
       "      <td>6</td>\n",
       "    </tr>\n",
       "    <tr>\n",
       "      <th>5544</th>\n",
       "      <td>4961</td>\n",
       "      <td>16</td>\n",
       "      <td>2495737537</td>\n",
       "      <td>8110030@N05</td>\n",
       "      <td>1210655864</td>\n",
       "      <td>Amusement</td>\n",
       "      <td>3553</td>\n",
       "      <td>5</td>\n",
       "    </tr>\n",
       "    <tr>\n",
       "      <th>5545</th>\n",
       "      <td>4961</td>\n",
       "      <td>16</td>\n",
       "      <td>2550882990</td>\n",
       "      <td>8110030@N05</td>\n",
       "      <td>1210651491</td>\n",
       "      <td>Amusement</td>\n",
       "      <td>3553</td>\n",
       "      <td>5</td>\n",
       "    </tr>\n",
       "    <tr>\n",
       "      <th>5546</th>\n",
       "      <td>4961</td>\n",
       "      <td>19</td>\n",
       "      <td>2497127026</td>\n",
       "      <td>8110030@N05</td>\n",
       "      <td>1210682989</td>\n",
       "      <td>Beach</td>\n",
       "      <td>111</td>\n",
       "      <td>2</td>\n",
       "    </tr>\n",
       "    <tr>\n",
       "      <th>5547</th>\n",
       "      <td>4961</td>\n",
       "      <td>19</td>\n",
       "      <td>2497124834</td>\n",
       "      <td>8110030@N05</td>\n",
       "      <td>1210682928</td>\n",
       "      <td>Beach</td>\n",
       "      <td>111</td>\n",
       "      <td>2</td>\n",
       "    </tr>\n",
       "    <tr>\n",
       "      <th>5548</th>\n",
       "      <td>4961</td>\n",
       "      <td>21</td>\n",
       "      <td>2496484790</td>\n",
       "      <td>8110030@N05</td>\n",
       "      <td>1210646542</td>\n",
       "      <td>Beach</td>\n",
       "      <td>3594</td>\n",
       "      <td>4</td>\n",
       "    </tr>\n",
       "    <tr>\n",
       "      <th>5549</th>\n",
       "      <td>4961</td>\n",
       "      <td>21</td>\n",
       "      <td>2496437324</td>\n",
       "      <td>8110030@N05</td>\n",
       "      <td>1210645664</td>\n",
       "      <td>Beach</td>\n",
       "      <td>3594</td>\n",
       "      <td>4</td>\n",
       "    </tr>\n",
       "    <tr>\n",
       "      <th>5550</th>\n",
       "      <td>4961</td>\n",
       "      <td>23</td>\n",
       "      <td>2495681373</td>\n",
       "      <td>8110030@N05</td>\n",
       "      <td>1210649732</td>\n",
       "      <td>Shopping</td>\n",
       "      <td>1874</td>\n",
       "      <td>3</td>\n",
       "    </tr>\n",
       "    <tr>\n",
       "      <th>5551</th>\n",
       "      <td>4961</td>\n",
       "      <td>23</td>\n",
       "      <td>2495612613</td>\n",
       "      <td>8110030@N05</td>\n",
       "      <td>1210646225</td>\n",
       "      <td>Shopping</td>\n",
       "      <td>1874</td>\n",
       "      <td>3</td>\n",
       "    </tr>\n",
       "    <tr>\n",
       "      <th>5552</th>\n",
       "      <td>4961</td>\n",
       "      <td>24</td>\n",
       "      <td>2496570740</td>\n",
       "      <td>8110030@N05</td>\n",
       "      <td>1210660892</td>\n",
       "      <td>Shopping</td>\n",
       "      <td>1028</td>\n",
       "      <td>2</td>\n",
       "    </tr>\n",
       "    <tr>\n",
       "      <th>5553</th>\n",
       "      <td>4961</td>\n",
       "      <td>24</td>\n",
       "      <td>2495726207</td>\n",
       "      <td>8110030@N05</td>\n",
       "      <td>1210660662</td>\n",
       "      <td>Shopping</td>\n",
       "      <td>1028</td>\n",
       "      <td>2</td>\n",
       "    </tr>\n",
       "    <tr>\n",
       "      <th>5554</th>\n",
       "      <td>4961</td>\n",
       "      <td>28</td>\n",
       "      <td>2495607515</td>\n",
       "      <td>8110030@N05</td>\n",
       "      <td>1210650175</td>\n",
       "      <td>Structure</td>\n",
       "      <td>936</td>\n",
       "      <td>3</td>\n",
       "    </tr>\n",
       "    <tr>\n",
       "      <th>5555</th>\n",
       "      <td>4961</td>\n",
       "      <td>28</td>\n",
       "      <td>2496510540</td>\n",
       "      <td>8110030@N05</td>\n",
       "      <td>1210649845</td>\n",
       "      <td>Structure</td>\n",
       "      <td>936</td>\n",
       "      <td>3</td>\n",
       "    </tr>\n",
       "  </tbody>\n",
       "</table>\n",
       "</div>"
      ],
      "text/plain": [
       "      seqID  poiID     photoID       userID   dateTaken   poiTheme  poiFreq  \\\n",
       "5540   4961      1  2495792291  8110030@N05  1210662160      Sport     3506   \n",
       "5541   4961      1  2496567652  8110030@N05  1210653751      Sport     3506   \n",
       "5542   4961      7  2495790615  8110030@N05  1210666002   Cultural     2064   \n",
       "5543   4961      7  2550064695  8110030@N05  1210662173   Cultural     2064   \n",
       "5544   4961     16  2495737537  8110030@N05  1210655864  Amusement     3553   \n",
       "5545   4961     16  2550882990  8110030@N05  1210651491  Amusement     3553   \n",
       "5546   4961     19  2497127026  8110030@N05  1210682989      Beach      111   \n",
       "5547   4961     19  2497124834  8110030@N05  1210682928      Beach      111   \n",
       "5548   4961     21  2496484790  8110030@N05  1210646542      Beach     3594   \n",
       "5549   4961     21  2496437324  8110030@N05  1210645664      Beach     3594   \n",
       "5550   4961     23  2495681373  8110030@N05  1210649732   Shopping     1874   \n",
       "5551   4961     23  2495612613  8110030@N05  1210646225   Shopping     1874   \n",
       "5552   4961     24  2496570740  8110030@N05  1210660892   Shopping     1028   \n",
       "5553   4961     24  2495726207  8110030@N05  1210660662   Shopping     1028   \n",
       "5554   4961     28  2495607515  8110030@N05  1210650175  Structure      936   \n",
       "5555   4961     28  2496510540  8110030@N05  1210649845  Structure      936   \n",
       "\n",
       "      visitFreq  \n",
       "5540          4  \n",
       "5541          4  \n",
       "5542          6  \n",
       "5543          6  \n",
       "5544          5  \n",
       "5545          5  \n",
       "5546          2  \n",
       "5547          2  \n",
       "5548          4  \n",
       "5549          4  \n",
       "5550          3  \n",
       "5551          3  \n",
       "5552          2  \n",
       "5553          2  \n",
       "5554          3  \n",
       "5555          3  "
      ]
     },
     "execution_count": 56,
     "metadata": {},
     "output_type": "execute_result"
    }
   ],
   "source": [
    "df_Toro11[df_Toro11['seqID'] == SEQ_ID]"
   ]
  },
  {
   "cell_type": "markdown",
   "metadata": {},
   "source": [
    "`4.` compute the POI visit duration = departureTime - arrivalTime, the code made the following **ASSUMPTIONS**:\n",
    "1. The total number of rows of the dataframe is a even number,\n",
    "1. Row $2i$ and row $2i+1$ are associated with the **SAME** POI in a trajectory,\n",
    "1. Row $2i$ contains the time of the **LAST** photo taken at the POI, i.e., departureTime,\n",
    "1. Row $2i+1$ contains the time of the **FIRST** photo taken at the POI, i.e. arrivalTime.\n",
    "\n",
    "**BUT** before computing POI visit duration, there's a sorting statement:  \n",
    "`dfVisits=dfVisits[order(dfVisits$seqID, dfVisits$dateTaken, decreasing=TRUE),]#re-order the visit seq in descending order`  \n",
    "Let's have a look of the dataframe after sorting,"
   ]
  },
  {
   "cell_type": "code",
   "execution_count": 57,
   "metadata": {
    "collapsed": true
   },
   "outputs": [],
   "source": [
    "df_Toro2 = pd.read_csv(fToro2, sep=';')"
   ]
  },
  {
   "cell_type": "code",
   "execution_count": 58,
   "metadata": {
    "collapsed": false,
    "scrolled": true
   },
   "outputs": [
    {
     "data": {
      "text/html": [
       "<div>\n",
       "<table border=\"1\" class=\"dataframe\">\n",
       "  <thead>\n",
       "    <tr style=\"text-align: right;\">\n",
       "      <th></th>\n",
       "      <th>seqID</th>\n",
       "      <th>poiID</th>\n",
       "      <th>photoID</th>\n",
       "      <th>userID</th>\n",
       "      <th>dateTaken</th>\n",
       "      <th>poiTheme</th>\n",
       "      <th>poiFreq</th>\n",
       "      <th>visitFreq</th>\n",
       "    </tr>\n",
       "  </thead>\n",
       "  <tbody>\n",
       "    <tr>\n",
       "      <th>1312</th>\n",
       "      <td>4961</td>\n",
       "      <td>19</td>\n",
       "      <td>2497127026</td>\n",
       "      <td>8110030@N05</td>\n",
       "      <td>1210682989</td>\n",
       "      <td>Beach</td>\n",
       "      <td>111</td>\n",
       "      <td>2</td>\n",
       "    </tr>\n",
       "    <tr>\n",
       "      <th>1313</th>\n",
       "      <td>4961</td>\n",
       "      <td>19</td>\n",
       "      <td>2497124834</td>\n",
       "      <td>8110030@N05</td>\n",
       "      <td>1210682928</td>\n",
       "      <td>Beach</td>\n",
       "      <td>111</td>\n",
       "      <td>2</td>\n",
       "    </tr>\n",
       "    <tr>\n",
       "      <th>1314</th>\n",
       "      <td>4961</td>\n",
       "      <td>7</td>\n",
       "      <td>2495790615</td>\n",
       "      <td>8110030@N05</td>\n",
       "      <td>1210666002</td>\n",
       "      <td>Cultural</td>\n",
       "      <td>2064</td>\n",
       "      <td>6</td>\n",
       "    </tr>\n",
       "    <tr>\n",
       "      <th>1315</th>\n",
       "      <td>4961</td>\n",
       "      <td>7</td>\n",
       "      <td>2550064695</td>\n",
       "      <td>8110030@N05</td>\n",
       "      <td>1210662173</td>\n",
       "      <td>Cultural</td>\n",
       "      <td>2064</td>\n",
       "      <td>6</td>\n",
       "    </tr>\n",
       "    <tr>\n",
       "      <th>1316</th>\n",
       "      <td>4961</td>\n",
       "      <td>1</td>\n",
       "      <td>2495792291</td>\n",
       "      <td>8110030@N05</td>\n",
       "      <td>1210662160</td>\n",
       "      <td>Sport</td>\n",
       "      <td>3506</td>\n",
       "      <td>4</td>\n",
       "    </tr>\n",
       "    <tr>\n",
       "      <th>1317</th>\n",
       "      <td>4961</td>\n",
       "      <td>24</td>\n",
       "      <td>2496570740</td>\n",
       "      <td>8110030@N05</td>\n",
       "      <td>1210660892</td>\n",
       "      <td>Shopping</td>\n",
       "      <td>1028</td>\n",
       "      <td>2</td>\n",
       "    </tr>\n",
       "    <tr>\n",
       "      <th>1318</th>\n",
       "      <td>4961</td>\n",
       "      <td>24</td>\n",
       "      <td>2495726207</td>\n",
       "      <td>8110030@N05</td>\n",
       "      <td>1210660662</td>\n",
       "      <td>Shopping</td>\n",
       "      <td>1028</td>\n",
       "      <td>2</td>\n",
       "    </tr>\n",
       "    <tr>\n",
       "      <th>1319</th>\n",
       "      <td>4961</td>\n",
       "      <td>16</td>\n",
       "      <td>2495737537</td>\n",
       "      <td>8110030@N05</td>\n",
       "      <td>1210655864</td>\n",
       "      <td>Amusement</td>\n",
       "      <td>3553</td>\n",
       "      <td>5</td>\n",
       "    </tr>\n",
       "    <tr>\n",
       "      <th>1320</th>\n",
       "      <td>4961</td>\n",
       "      <td>1</td>\n",
       "      <td>2496567652</td>\n",
       "      <td>8110030@N05</td>\n",
       "      <td>1210653751</td>\n",
       "      <td>Sport</td>\n",
       "      <td>3506</td>\n",
       "      <td>4</td>\n",
       "    </tr>\n",
       "    <tr>\n",
       "      <th>1321</th>\n",
       "      <td>4961</td>\n",
       "      <td>16</td>\n",
       "      <td>2550882990</td>\n",
       "      <td>8110030@N05</td>\n",
       "      <td>1210651491</td>\n",
       "      <td>Amusement</td>\n",
       "      <td>3553</td>\n",
       "      <td>5</td>\n",
       "    </tr>\n",
       "    <tr>\n",
       "      <th>1322</th>\n",
       "      <td>4961</td>\n",
       "      <td>28</td>\n",
       "      <td>2495607515</td>\n",
       "      <td>8110030@N05</td>\n",
       "      <td>1210650175</td>\n",
       "      <td>Structure</td>\n",
       "      <td>936</td>\n",
       "      <td>3</td>\n",
       "    </tr>\n",
       "    <tr>\n",
       "      <th>1323</th>\n",
       "      <td>4961</td>\n",
       "      <td>28</td>\n",
       "      <td>2496510540</td>\n",
       "      <td>8110030@N05</td>\n",
       "      <td>1210649845</td>\n",
       "      <td>Structure</td>\n",
       "      <td>936</td>\n",
       "      <td>3</td>\n",
       "    </tr>\n",
       "    <tr>\n",
       "      <th>1324</th>\n",
       "      <td>4961</td>\n",
       "      <td>23</td>\n",
       "      <td>2495681373</td>\n",
       "      <td>8110030@N05</td>\n",
       "      <td>1210649732</td>\n",
       "      <td>Shopping</td>\n",
       "      <td>1874</td>\n",
       "      <td>3</td>\n",
       "    </tr>\n",
       "    <tr>\n",
       "      <th>1325</th>\n",
       "      <td>4961</td>\n",
       "      <td>21</td>\n",
       "      <td>2496484790</td>\n",
       "      <td>8110030@N05</td>\n",
       "      <td>1210646542</td>\n",
       "      <td>Beach</td>\n",
       "      <td>3594</td>\n",
       "      <td>4</td>\n",
       "    </tr>\n",
       "    <tr>\n",
       "      <th>1326</th>\n",
       "      <td>4961</td>\n",
       "      <td>23</td>\n",
       "      <td>2495612613</td>\n",
       "      <td>8110030@N05</td>\n",
       "      <td>1210646225</td>\n",
       "      <td>Shopping</td>\n",
       "      <td>1874</td>\n",
       "      <td>3</td>\n",
       "    </tr>\n",
       "    <tr>\n",
       "      <th>1327</th>\n",
       "      <td>4961</td>\n",
       "      <td>21</td>\n",
       "      <td>2496437324</td>\n",
       "      <td>8110030@N05</td>\n",
       "      <td>1210645664</td>\n",
       "      <td>Beach</td>\n",
       "      <td>3594</td>\n",
       "      <td>4</td>\n",
       "    </tr>\n",
       "  </tbody>\n",
       "</table>\n",
       "</div>"
      ],
      "text/plain": [
       "      seqID  poiID     photoID       userID   dateTaken   poiTheme  poiFreq  \\\n",
       "1312   4961     19  2497127026  8110030@N05  1210682989      Beach      111   \n",
       "1313   4961     19  2497124834  8110030@N05  1210682928      Beach      111   \n",
       "1314   4961      7  2495790615  8110030@N05  1210666002   Cultural     2064   \n",
       "1315   4961      7  2550064695  8110030@N05  1210662173   Cultural     2064   \n",
       "1316   4961      1  2495792291  8110030@N05  1210662160      Sport     3506   \n",
       "1317   4961     24  2496570740  8110030@N05  1210660892   Shopping     1028   \n",
       "1318   4961     24  2495726207  8110030@N05  1210660662   Shopping     1028   \n",
       "1319   4961     16  2495737537  8110030@N05  1210655864  Amusement     3553   \n",
       "1320   4961      1  2496567652  8110030@N05  1210653751      Sport     3506   \n",
       "1321   4961     16  2550882990  8110030@N05  1210651491  Amusement     3553   \n",
       "1322   4961     28  2495607515  8110030@N05  1210650175  Structure      936   \n",
       "1323   4961     28  2496510540  8110030@N05  1210649845  Structure      936   \n",
       "1324   4961     23  2495681373  8110030@N05  1210649732   Shopping     1874   \n",
       "1325   4961     21  2496484790  8110030@N05  1210646542      Beach     3594   \n",
       "1326   4961     23  2495612613  8110030@N05  1210646225   Shopping     1874   \n",
       "1327   4961     21  2496437324  8110030@N05  1210645664      Beach     3594   \n",
       "\n",
       "      visitFreq  \n",
       "1312          2  \n",
       "1313          2  \n",
       "1314          6  \n",
       "1315          6  \n",
       "1316          4  \n",
       "1317          2  \n",
       "1318          2  \n",
       "1319          5  \n",
       "1320          4  \n",
       "1321          5  \n",
       "1322          3  \n",
       "1323          3  \n",
       "1324          3  \n",
       "1325          4  \n",
       "1326          3  \n",
       "1327          4  "
      ]
     },
     "execution_count": 58,
     "metadata": {},
     "output_type": "execute_result"
    }
   ],
   "source": [
    "df_Toro2[df_Toro2['seqID'] == SEQ_ID]"
   ]
  },
  {
   "cell_type": "markdown",
   "metadata": {},
   "source": [
    "Have you seen that? All assumptions except the first one are **NOT** satisfied any more after sorting!"
   ]
  },
  {
   "cell_type": "markdown",
   "metadata": {},
   "source": [
    "The code continue executing as if the above assumptions were still satisfied, i.e., compute POI visit duration using the `dateTaken` data at row $2i$ to minus that at row $2i+1$, removing rows $2i+1$ after finishing all these minus operations."
   ]
  },
  {
   "cell_type": "markdown",
   "metadata": {},
   "source": [
    "In conclusion, the incorrect results are caused by the very sorting statement."
   ]
  },
  {
   "cell_type": "markdown",
   "metadata": {},
   "source": [
    "<a id='sec3'></a>"
   ]
  },
  {
   "cell_type": "markdown",
   "metadata": {},
   "source": [
    "## 3. New Results"
   ]
  },
  {
   "cell_type": "markdown",
   "metadata": {},
   "source": [
    "After commenting the sorting statement mentioned above, new results are described below."
   ]
  },
  {
   "cell_type": "markdown",
   "metadata": {},
   "source": [
    "### 3.1 Load Results"
   ]
  },
  {
   "cell_type": "markdown",
   "metadata": {},
   "source": [
    "#### Results on Edinburgh dataset."
   ]
  },
  {
   "cell_type": "code",
   "execution_count": 59,
   "metadata": {
    "collapsed": false
   },
   "outputs": [
    {
     "data": {
      "text/plain": [
       "(1266, 14)"
      ]
     },
     "execution_count": 59,
     "metadata": {},
     "output_type": "execute_result"
    }
   ],
   "source": [
    "rec_Edin_new = pd.read_csv(frec_Edin_new, sep=';')\n",
    "rec_Edin_new.shape"
   ]
  },
  {
   "cell_type": "code",
   "execution_count": 60,
   "metadata": {
    "collapsed": false
   },
   "outputs": [
    {
     "data": {
      "text/plain": [
       "array(['tourRecLPmultiObjIntTime_i1', 'tourRecLPmultiObjIntTime_i.5'], dtype=object)"
      ]
     },
     "execution_count": 60,
     "metadata": {},
     "output_type": "execute_result"
    }
   ],
   "source": [
    "algo_Edin = rec_Edin_new['algo'].unique()\n",
    "algo_Edin"
   ]
  },
  {
   "cell_type": "markdown",
   "metadata": {},
   "source": [
    "Sanity check: NO duplication results."
   ]
  },
  {
   "cell_type": "code",
   "execution_count": 61,
   "metadata": {
    "collapsed": true
   },
   "outputs": [],
   "source": [
    "for i in range(rec_Edin_new.shape[0]):\n",
    "    if i % 2 == 0: assert(rec_Edin_new.iloc[i]['algo'] == algo_Edin[0])\n",
    "    else:          assert(rec_Edin_new.iloc[i]['algo'] == algo_Edin[1])"
   ]
  },
  {
   "cell_type": "code",
   "execution_count": 62,
   "metadata": {
    "collapsed": false
   },
   "outputs": [
    {
     "name": "stdout",
     "output_type": "stream",
     "text": [
      "(633, 14) (633, 14)\n"
     ]
    }
   ],
   "source": [
    "algo10_Edin_new = rec_Edin_new[rec_Edin_new['algo'] == algo_Edin[0]]\n",
    "algo05_Edin_new = rec_Edin_new[rec_Edin_new['algo'] == algo_Edin[1]]\n",
    "print(algo10_Edin_new.shape, algo05_Edin_new.shape)"
   ]
  },
  {
   "cell_type": "markdown",
   "metadata": {},
   "source": [
    "#### Results on Glasgow dataset."
   ]
  },
  {
   "cell_type": "code",
   "execution_count": 63,
   "metadata": {
    "collapsed": false
   },
   "outputs": [
    {
     "data": {
      "text/plain": [
       "(222, 14)"
      ]
     },
     "execution_count": 63,
     "metadata": {},
     "output_type": "execute_result"
    }
   ],
   "source": [
    "rec_Glas_new = pd.read_csv(frec_Glas_new, sep=';')\n",
    "rec_Glas_new.shape"
   ]
  },
  {
   "cell_type": "code",
   "execution_count": 64,
   "metadata": {
    "collapsed": false
   },
   "outputs": [
    {
     "data": {
      "text/plain": [
       "array(['tourRecLPmultiObjIntTime_i1', 'tourRecLPmultiObjIntTime_i.5'], dtype=object)"
      ]
     },
     "execution_count": 64,
     "metadata": {},
     "output_type": "execute_result"
    }
   ],
   "source": [
    "algo_Glas = rec_Glas_new['algo'].unique()\n",
    "algo_Glas"
   ]
  },
  {
   "cell_type": "markdown",
   "metadata": {},
   "source": [
    "Sanity check: NO duplication results."
   ]
  },
  {
   "cell_type": "code",
   "execution_count": 65,
   "metadata": {
    "collapsed": true
   },
   "outputs": [],
   "source": [
    "for i in range(rec_Glas_new.shape[0]):\n",
    "    if i % 2 == 0: assert(rec_Glas_new.iloc[i]['algo'] == algo_Glas[0])\n",
    "    else:          assert(rec_Glas_new.iloc[i]['algo'] == algo_Glas[1])"
   ]
  },
  {
   "cell_type": "code",
   "execution_count": 66,
   "metadata": {
    "collapsed": false
   },
   "outputs": [
    {
     "name": "stdout",
     "output_type": "stream",
     "text": [
      "(111, 14) (111, 14)\n"
     ]
    }
   ],
   "source": [
    "algo10_Glas_new = rec_Glas_new[rec_Glas_new['algo'] == algo_Glas[0]]\n",
    "algo05_Glas_new = rec_Glas_new[rec_Glas_new['algo'] == algo_Glas[1]]\n",
    "print(algo10_Glas_new.shape, algo05_Glas_new.shape)"
   ]
  },
  {
   "cell_type": "markdown",
   "metadata": {},
   "source": [
    "#### Results on Osaka dataset."
   ]
  },
  {
   "cell_type": "code",
   "execution_count": 67,
   "metadata": {
    "collapsed": false
   },
   "outputs": [
    {
     "data": {
      "text/plain": [
       "(94, 14)"
      ]
     },
     "execution_count": 67,
     "metadata": {},
     "output_type": "execute_result"
    }
   ],
   "source": [
    "rec_Osak_new = pd.read_csv(frec_Osak_new, sep=';')\n",
    "rec_Osak_new.shape"
   ]
  },
  {
   "cell_type": "code",
   "execution_count": 68,
   "metadata": {
    "collapsed": false
   },
   "outputs": [
    {
     "data": {
      "text/plain": [
       "array(['tourRecLPmultiObjIntTime_i1', 'tourRecLPmultiObjIntTime_i.5'], dtype=object)"
      ]
     },
     "execution_count": 68,
     "metadata": {},
     "output_type": "execute_result"
    }
   ],
   "source": [
    "algo_Osak = rec_Osak_new['algo'].unique()\n",
    "algo_Osak"
   ]
  },
  {
   "cell_type": "markdown",
   "metadata": {},
   "source": [
    "Sanity check: NO duplication results."
   ]
  },
  {
   "cell_type": "code",
   "execution_count": 69,
   "metadata": {
    "collapsed": true
   },
   "outputs": [],
   "source": [
    "for i in range(rec_Osak_new.shape[0]):\n",
    "    if i % 2 == 0: assert(rec_Osak_new.iloc[i]['algo'] == algo_Osak[0])\n",
    "    else:          assert(rec_Osak_new.iloc[i]['algo'] == algo_Osak[1])"
   ]
  },
  {
   "cell_type": "code",
   "execution_count": 70,
   "metadata": {
    "collapsed": false
   },
   "outputs": [
    {
     "name": "stdout",
     "output_type": "stream",
     "text": [
      "(47, 14) (47, 14)\n"
     ]
    }
   ],
   "source": [
    "algo10_Osak_new = rec_Osak_new[rec_Osak_new['algo'] == algo_Osak[0]]\n",
    "algo05_Osak_new = rec_Osak_new[rec_Osak_new['algo'] == algo_Osak[1]]\n",
    "print(algo10_Osak_new.shape, algo05_Osak_new.shape)"
   ]
  },
  {
   "cell_type": "markdown",
   "metadata": {},
   "source": [
    "#### Results on Toronto dataset."
   ]
  },
  {
   "cell_type": "code",
   "execution_count": 71,
   "metadata": {
    "collapsed": false
   },
   "outputs": [
    {
     "data": {
      "text/plain": [
       "(670, 14)"
      ]
     },
     "execution_count": 71,
     "metadata": {},
     "output_type": "execute_result"
    }
   ],
   "source": [
    "rec_Toro_new = pd.read_csv(frec_Toro_new, sep=';')\n",
    "rec_Toro_new.shape"
   ]
  },
  {
   "cell_type": "code",
   "execution_count": 72,
   "metadata": {
    "collapsed": false
   },
   "outputs": [
    {
     "data": {
      "text/plain": [
       "array(['tourRecLPmultiObjIntTime_i1', 'tourRecLPmultiObjIntTime_i.5'], dtype=object)"
      ]
     },
     "execution_count": 72,
     "metadata": {},
     "output_type": "execute_result"
    }
   ],
   "source": [
    "algo_Toro = rec_Toro_new['algo'].unique()\n",
    "algo_Toro"
   ]
  },
  {
   "cell_type": "markdown",
   "metadata": {},
   "source": [
    "Sanity check: NO duplication results."
   ]
  },
  {
   "cell_type": "code",
   "execution_count": 73,
   "metadata": {
    "collapsed": false
   },
   "outputs": [],
   "source": [
    "for i in range(rec_Toro_new.shape[0]):\n",
    "    if i % 2 == 0: assert(rec_Toro_new.iloc[i]['algo'] == algo_Toro[0])\n",
    "    else:          assert(rec_Toro_new.iloc[i]['algo'] == algo_Toro[1])"
   ]
  },
  {
   "cell_type": "code",
   "execution_count": 74,
   "metadata": {
    "collapsed": false
   },
   "outputs": [
    {
     "name": "stdout",
     "output_type": "stream",
     "text": [
      "(335, 14) (335, 14)\n"
     ]
    }
   ],
   "source": [
    "algo10_Toro_new = rec_Toro_new[rec_Toro_new['algo'] == algo_Toro[0]]\n",
    "algo05_Toro_new = rec_Toro_new[rec_Toro_new['algo'] == algo_Toro[1]]\n",
    "print(algo10_Toro_new.shape, algo05_Toro_new.shape)"
   ]
  },
  {
   "cell_type": "markdown",
   "metadata": {},
   "source": [
    "### 3.2 Results Table"
   ]
  },
  {
   "cell_type": "markdown",
   "metadata": {},
   "source": [
    "Performance when $\\eta = 1.0$."
   ]
  },
  {
   "cell_type": "code",
   "execution_count": 75,
   "metadata": {
    "collapsed": true
   },
   "outputs": [],
   "source": [
    "data10_ndf = [algo10_Edin_new, algo10_Glas_new, algo10_Osak_new, algo10_Toro_new]"
   ]
  },
  {
   "cell_type": "code",
   "execution_count": 76,
   "metadata": {
    "collapsed": false
   },
   "outputs": [],
   "source": [
    "algo10_ndf = pd.DataFrame(data=np.zeros((4, 7), dtype=np.float), columns=df_columns, index=df_indices)"
   ]
  },
  {
   "cell_type": "code",
   "execution_count": 77,
   "metadata": {
    "collapsed": false
   },
   "outputs": [],
   "source": [
    "assert(len(df_indices) == len(data10_ndf))\n",
    "for i in range(len(df_indices)):\n",
    "    ix = df_indices[i]\n",
    "    algo10_ndf.loc[ix, '#Trajectory']    = data10_ndf[i].shape[0]\n",
    "    algo10_ndf.loc[ix, 'Recall_mean']    = np.round(data10_ndf[i]['recall'].mean(), 3)\n",
    "    algo10_ndf.loc[ix, 'Recall_std']     = np.round(data10_ndf[i]['recall'].std(), 3)\n",
    "    algo10_ndf.loc[ix, 'Precision_mean'] = np.round(data10_ndf[i]['precision'].mean(), 3)\n",
    "    algo10_ndf.loc[ix, 'Precision_std']  = np.round(data10_ndf[i]['precision'].std(), 3)\n",
    "    algo10_ndf.loc[ix, 'F1_mean']        = np.round(data10_ndf[i]['f1score'].mean(), 3)\n",
    "    algo10_ndf.loc[ix, 'F1_std']         = np.round(data10_ndf[i]['f1score'].std(), 3)\n",
    "algo10_ndf['#Trajectory'] = algo10_ndf['#Trajectory'].astype(np.int)"
   ]
  },
  {
   "cell_type": "code",
   "execution_count": 78,
   "metadata": {
    "collapsed": false
   },
   "outputs": [
    {
     "data": {
      "text/html": [
       "<div>\n",
       "<table border=\"1\" class=\"dataframe\">\n",
       "  <thead>\n",
       "    <tr style=\"text-align: right;\">\n",
       "      <th></th>\n",
       "      <th>#Trajectory</th>\n",
       "      <th>Recall_mean</th>\n",
       "      <th>Recall_std</th>\n",
       "      <th>Precision_mean</th>\n",
       "      <th>Precision_std</th>\n",
       "      <th>F1_mean</th>\n",
       "      <th>F1_std</th>\n",
       "    </tr>\n",
       "  </thead>\n",
       "  <tbody>\n",
       "    <tr>\n",
       "      <th>Edinburgh</th>\n",
       "      <td>633</td>\n",
       "      <td>0.666</td>\n",
       "      <td>0.183</td>\n",
       "      <td>0.591</td>\n",
       "      <td>0.234</td>\n",
       "      <td>0.611</td>\n",
       "      <td>0.201</td>\n",
       "    </tr>\n",
       "    <tr>\n",
       "      <th>Glasgow</th>\n",
       "      <td>111</td>\n",
       "      <td>0.740</td>\n",
       "      <td>0.199</td>\n",
       "      <td>0.716</td>\n",
       "      <td>0.231</td>\n",
       "      <td>0.719</td>\n",
       "      <td>0.211</td>\n",
       "    </tr>\n",
       "    <tr>\n",
       "      <th>Osaka</th>\n",
       "      <td>47</td>\n",
       "      <td>0.697</td>\n",
       "      <td>0.174</td>\n",
       "      <td>0.606</td>\n",
       "      <td>0.230</td>\n",
       "      <td>0.639</td>\n",
       "      <td>0.202</td>\n",
       "    </tr>\n",
       "    <tr>\n",
       "      <th>Toronto</th>\n",
       "      <td>335</td>\n",
       "      <td>0.736</td>\n",
       "      <td>0.200</td>\n",
       "      <td>0.702</td>\n",
       "      <td>0.242</td>\n",
       "      <td>0.709</td>\n",
       "      <td>0.219</td>\n",
       "    </tr>\n",
       "  </tbody>\n",
       "</table>\n",
       "</div>"
      ],
      "text/plain": [
       "           #Trajectory  Recall_mean  Recall_std  Precision_mean  \\\n",
       "Edinburgh          633        0.666       0.183           0.591   \n",
       "Glasgow            111        0.740       0.199           0.716   \n",
       "Osaka               47        0.697       0.174           0.606   \n",
       "Toronto            335        0.736       0.200           0.702   \n",
       "\n",
       "           Precision_std  F1_mean  F1_std  \n",
       "Edinburgh          0.234    0.611   0.201  \n",
       "Glasgow            0.231    0.719   0.211  \n",
       "Osaka              0.230    0.639   0.202  \n",
       "Toronto            0.242    0.709   0.219  "
      ]
     },
     "execution_count": 78,
     "metadata": {},
     "output_type": "execute_result"
    }
   ],
   "source": [
    "algo10_ndf"
   ]
  },
  {
   "cell_type": "markdown",
   "metadata": {},
   "source": [
    "Performance when $\\eta = 0.5$."
   ]
  },
  {
   "cell_type": "code",
   "execution_count": 79,
   "metadata": {
    "collapsed": true
   },
   "outputs": [],
   "source": [
    "data05_ndf = [algo05_Edin_new, algo05_Glas_new, algo05_Osak_new, algo05_Toro_new]"
   ]
  },
  {
   "cell_type": "code",
   "execution_count": 80,
   "metadata": {
    "collapsed": false
   },
   "outputs": [],
   "source": [
    "algo05_ndf = pd.DataFrame(data=np.zeros((4, 7), dtype=np.float), columns=df_columns, index=df_indices)"
   ]
  },
  {
   "cell_type": "code",
   "execution_count": 81,
   "metadata": {
    "collapsed": false
   },
   "outputs": [],
   "source": [
    "assert(len(df_indices) == len(data05_ndf))\n",
    "for i in range(len(df_indices)):\n",
    "    ix = df_indices[i]\n",
    "    algo05_ndf.loc[ix, '#Trajectory']    = data05_ndf[i].shape[0]\n",
    "    algo05_ndf.loc[ix, 'Recall_mean']    = np.round(data05_ndf[i]['recall'].mean(), 3)\n",
    "    algo05_ndf.loc[ix, 'Recall_std']     = np.round(data05_ndf[i]['recall'].std(), 3)\n",
    "    algo05_ndf.loc[ix, 'Precision_mean'] = np.round(data05_ndf[i]['precision'].mean(), 3)\n",
    "    algo05_ndf.loc[ix, 'Precision_std']  = np.round(data05_ndf[i]['precision'].std(), 3)\n",
    "    algo05_ndf.loc[ix, 'F1_mean']        = np.round(data05_ndf[i]['f1score'].mean(), 3)\n",
    "    algo05_ndf.loc[ix, 'F1_std']         = np.round(data05_ndf[i]['f1score'].std(), 3)\n",
    "algo05_ndf['#Trajectory'] = algo05_ndf['#Trajectory'].astype(np.int)"
   ]
  },
  {
   "cell_type": "code",
   "execution_count": 82,
   "metadata": {
    "collapsed": false
   },
   "outputs": [
    {
     "data": {
      "text/html": [
       "<div>\n",
       "<table border=\"1\" class=\"dataframe\">\n",
       "  <thead>\n",
       "    <tr style=\"text-align: right;\">\n",
       "      <th></th>\n",
       "      <th>#Trajectory</th>\n",
       "      <th>Recall_mean</th>\n",
       "      <th>Recall_std</th>\n",
       "      <th>Precision_mean</th>\n",
       "      <th>Precision_std</th>\n",
       "      <th>F1_mean</th>\n",
       "      <th>F1_std</th>\n",
       "    </tr>\n",
       "  </thead>\n",
       "  <tbody>\n",
       "    <tr>\n",
       "      <th>Edinburgh</th>\n",
       "      <td>633</td>\n",
       "      <td>0.735</td>\n",
       "      <td>0.179</td>\n",
       "      <td>0.613</td>\n",
       "      <td>0.255</td>\n",
       "      <td>0.656</td>\n",
       "      <td>0.223</td>\n",
       "    </tr>\n",
       "    <tr>\n",
       "      <th>Glasgow</th>\n",
       "      <td>111</td>\n",
       "      <td>0.837</td>\n",
       "      <td>0.178</td>\n",
       "      <td>0.781</td>\n",
       "      <td>0.241</td>\n",
       "      <td>0.801</td>\n",
       "      <td>0.214</td>\n",
       "    </tr>\n",
       "    <tr>\n",
       "      <th>Osaka</th>\n",
       "      <td>47</td>\n",
       "      <td>0.767</td>\n",
       "      <td>0.179</td>\n",
       "      <td>0.638</td>\n",
       "      <td>0.270</td>\n",
       "      <td>0.686</td>\n",
       "      <td>0.233</td>\n",
       "    </tr>\n",
       "    <tr>\n",
       "      <th>Toronto</th>\n",
       "      <td>335</td>\n",
       "      <td>0.773</td>\n",
       "      <td>0.172</td>\n",
       "      <td>0.691</td>\n",
       "      <td>0.247</td>\n",
       "      <td>0.720</td>\n",
       "      <td>0.215</td>\n",
       "    </tr>\n",
       "  </tbody>\n",
       "</table>\n",
       "</div>"
      ],
      "text/plain": [
       "           #Trajectory  Recall_mean  Recall_std  Precision_mean  \\\n",
       "Edinburgh          633        0.735       0.179           0.613   \n",
       "Glasgow            111        0.837       0.178           0.781   \n",
       "Osaka               47        0.767       0.179           0.638   \n",
       "Toronto            335        0.773       0.172           0.691   \n",
       "\n",
       "           Precision_std  F1_mean  F1_std  \n",
       "Edinburgh          0.255    0.656   0.223  \n",
       "Glasgow            0.241    0.801   0.214  \n",
       "Osaka              0.270    0.686   0.233  \n",
       "Toronto            0.247    0.720   0.215  "
      ]
     },
     "execution_count": 82,
     "metadata": {},
     "output_type": "execute_result"
    }
   ],
   "source": [
    "algo05_ndf"
   ]
  },
  {
   "cell_type": "markdown",
   "metadata": {},
   "source": [
    "Difference between results without and that with duplication."
   ]
  },
  {
   "cell_type": "code",
   "execution_count": 83,
   "metadata": {
    "collapsed": false
   },
   "outputs": [
    {
     "data": {
      "text/html": [
       "<div>\n",
       "<table border=\"1\" class=\"dataframe\">\n",
       "  <thead>\n",
       "    <tr style=\"text-align: right;\">\n",
       "      <th></th>\n",
       "      <th>#Trajectory</th>\n",
       "      <th>Recall_mean</th>\n",
       "      <th>Recall_std</th>\n",
       "      <th>Precision_mean</th>\n",
       "      <th>Precision_std</th>\n",
       "      <th>F1_mean</th>\n",
       "      <th>F1_std</th>\n",
       "    </tr>\n",
       "  </thead>\n",
       "  <tbody>\n",
       "    <tr>\n",
       "      <th>Edinburgh</th>\n",
       "      <td>-23</td>\n",
       "      <td>-0.002</td>\n",
       "      <td>-0.001</td>\n",
       "      <td>-0.010</td>\n",
       "      <td>0.005</td>\n",
       "      <td>-0.007</td>\n",
       "      <td>0.002</td>\n",
       "    </tr>\n",
       "    <tr>\n",
       "      <th>Glasgow</th>\n",
       "      <td>-5</td>\n",
       "      <td>0.001</td>\n",
       "      <td>0.003</td>\n",
       "      <td>-0.020</td>\n",
       "      <td>0.003</td>\n",
       "      <td>-0.009</td>\n",
       "      <td>0.006</td>\n",
       "    </tr>\n",
       "    <tr>\n",
       "      <th>Osaka</th>\n",
       "      <td>-1</td>\n",
       "      <td>0.014</td>\n",
       "      <td>0.001</td>\n",
       "      <td>-0.016</td>\n",
       "      <td>0.005</td>\n",
       "      <td>-0.002</td>\n",
       "      <td>0.004</td>\n",
       "    </tr>\n",
       "    <tr>\n",
       "      <th>Toronto</th>\n",
       "      <td>-7</td>\n",
       "      <td>-0.008</td>\n",
       "      <td>0.001</td>\n",
       "      <td>-0.008</td>\n",
       "      <td>0.001</td>\n",
       "      <td>-0.009</td>\n",
       "      <td>0.000</td>\n",
       "    </tr>\n",
       "  </tbody>\n",
       "</table>\n",
       "</div>"
      ],
      "text/plain": [
       "           #Trajectory  Recall_mean  Recall_std  Precision_mean  \\\n",
       "Edinburgh          -23       -0.002      -0.001          -0.010   \n",
       "Glasgow             -5        0.001       0.003          -0.020   \n",
       "Osaka               -1        0.014       0.001          -0.016   \n",
       "Toronto             -7       -0.008       0.001          -0.008   \n",
       "\n",
       "           Precision_std  F1_mean  F1_std  \n",
       "Edinburgh          0.005   -0.007   0.002  \n",
       "Glasgow            0.003   -0.009   0.006  \n",
       "Osaka              0.005   -0.002   0.004  \n",
       "Toronto            0.001   -0.009   0.000  "
      ]
     },
     "execution_count": 83,
     "metadata": {},
     "output_type": "execute_result"
    }
   ],
   "source": [
    "algo10_ndf - algo10_df"
   ]
  },
  {
   "cell_type": "code",
   "execution_count": 84,
   "metadata": {
    "collapsed": false
   },
   "outputs": [
    {
     "data": {
      "text/html": [
       "<div>\n",
       "<table border=\"1\" class=\"dataframe\">\n",
       "  <thead>\n",
       "    <tr style=\"text-align: right;\">\n",
       "      <th></th>\n",
       "      <th>#Trajectory</th>\n",
       "      <th>Recall_mean</th>\n",
       "      <th>Recall_std</th>\n",
       "      <th>Precision_mean</th>\n",
       "      <th>Precision_std</th>\n",
       "      <th>F1_mean</th>\n",
       "      <th>F1_std</th>\n",
       "    </tr>\n",
       "  </thead>\n",
       "  <tbody>\n",
       "    <tr>\n",
       "      <th>Edinburgh</th>\n",
       "      <td>-35</td>\n",
       "      <td>-0.005</td>\n",
       "      <td>0.002</td>\n",
       "      <td>-0.020</td>\n",
       "      <td>0.005</td>\n",
       "      <td>-0.015</td>\n",
       "      <td>0.005</td>\n",
       "    </tr>\n",
       "    <tr>\n",
       "      <th>Glasgow</th>\n",
       "      <td>-5</td>\n",
       "      <td>0.011</td>\n",
       "      <td>-0.007</td>\n",
       "      <td>-0.001</td>\n",
       "      <td>0.000</td>\n",
       "      <td>0.003</td>\n",
       "      <td>-0.003</td>\n",
       "    </tr>\n",
       "    <tr>\n",
       "      <th>Osaka</th>\n",
       "      <td>-1</td>\n",
       "      <td>0.008</td>\n",
       "      <td>-0.001</td>\n",
       "      <td>-0.024</td>\n",
       "      <td>0.011</td>\n",
       "      <td>-0.013</td>\n",
       "      <td>0.007</td>\n",
       "    </tr>\n",
       "    <tr>\n",
       "      <th>Toronto</th>\n",
       "      <td>-11</td>\n",
       "      <td>-0.006</td>\n",
       "      <td>-0.005</td>\n",
       "      <td>-0.015</td>\n",
       "      <td>-0.001</td>\n",
       "      <td>-0.012</td>\n",
       "      <td>-0.003</td>\n",
       "    </tr>\n",
       "  </tbody>\n",
       "</table>\n",
       "</div>"
      ],
      "text/plain": [
       "           #Trajectory  Recall_mean  Recall_std  Precision_mean  \\\n",
       "Edinburgh          -35       -0.005       0.002          -0.020   \n",
       "Glasgow             -5        0.011      -0.007          -0.001   \n",
       "Osaka               -1        0.008      -0.001          -0.024   \n",
       "Toronto            -11       -0.006      -0.005          -0.015   \n",
       "\n",
       "           Precision_std  F1_mean  F1_std  \n",
       "Edinburgh          0.005   -0.015   0.005  \n",
       "Glasgow            0.000    0.003  -0.003  \n",
       "Osaka              0.011   -0.013   0.007  \n",
       "Toronto           -0.001   -0.012  -0.003  "
      ]
     },
     "execution_count": 84,
     "metadata": {},
     "output_type": "execute_result"
    }
   ],
   "source": [
    "algo05_ndf - algo05_df"
   ]
  }
 ],
 "metadata": {
  "kernelspec": {
   "display_name": "Python 3",
   "language": "python",
   "name": "python3"
  },
  "language_info": {
   "codemirror_mode": {
    "name": "ipython",
    "version": 3
   },
   "file_extension": ".py",
   "mimetype": "text/x-python",
   "name": "python",
   "nbconvert_exporter": "python",
   "pygments_lexer": "ipython3",
   "version": "3.5.1"
  }
 },
 "nbformat": 4,
 "nbformat_minor": 0
}
