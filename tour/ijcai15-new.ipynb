{
 "cells": [
  {
   "cell_type": "markdown",
   "metadata": {},
   "source": [
    "# Trajectory Recommendation Results of IJCAI15"
   ]
  },
  {
   "cell_type": "markdown",
   "metadata": {},
   "source": [
    "Trajectory Recommendation results of IJCAI15, results are produced by the R code and data provided by Kwan Hui."
   ]
  },
  {
   "cell_type": "code",
   "execution_count": 1,
   "metadata": {
    "collapsed": true
   },
   "outputs": [],
   "source": [
    "import os, sys\n",
    "import pandas as pd\n",
    "import numpy as np\n",
    "import matplotlib.pyplot as plt"
   ]
  },
  {
   "cell_type": "code",
   "execution_count": 2,
   "metadata": {
    "collapsed": true
   },
   "outputs": [],
   "source": [
    "frec_Edin = 'results-tourRec-EdinPOI-exp20personal.csv'\n",
    "frec_Glas = 'results-tourRec-GlasPOI-exp20personal.csv'\n",
    "frec_Osak = 'results-tourRec-OsakPOI-exp20personal.csv'\n",
    "frec_Toro = 'results-tourRec-ToroPOI-exp20personal.csv'"
   ]
  },
  {
   "cell_type": "markdown",
   "metadata": {},
   "source": [
    "## Load Recommendation Results"
   ]
  },
  {
   "cell_type": "code",
   "execution_count": 3,
   "metadata": {
    "collapsed": false
   },
   "outputs": [],
   "source": [
    "rec_Edin = pd.read_csv(frec_Edin, sep=';')\n",
    "rec_Glas = pd.read_csv(frec_Glas, sep=';')\n",
    "rec_Osak = pd.read_csv(frec_Osak, sep=';')\n",
    "rec_Toro = pd.read_csv(frec_Toro, sep=';')"
   ]
  },
  {
   "cell_type": "code",
   "execution_count": 4,
   "metadata": {
    "collapsed": false
   },
   "outputs": [
    {
     "name": "stdout",
     "output_type": "stream",
     "text": [
      "(1324, 14)\n"
     ]
    },
    {
     "data": {
      "text/html": [
       "<div>\n",
       "<table border=\"1\" class=\"dataframe\">\n",
       "  <thead>\n",
       "    <tr style=\"text-align: right;\">\n",
       "      <th></th>\n",
       "      <th>algo</th>\n",
       "      <th>startNode</th>\n",
       "      <th>endNode</th>\n",
       "      <th>budget</th>\n",
       "      <th>totalPOI</th>\n",
       "      <th>totalCost</th>\n",
       "      <th>totalProfit</th>\n",
       "      <th>totalInterest</th>\n",
       "      <th>precision</th>\n",
       "      <th>recall</th>\n",
       "      <th>f1score</th>\n",
       "      <th>recTimeRMSE</th>\n",
       "      <th>baselineRMSE</th>\n",
       "      <th>totalPopInt</th>\n",
       "    </tr>\n",
       "  </thead>\n",
       "  <tbody>\n",
       "    <tr>\n",
       "      <th>0</th>\n",
       "      <td>tourRecLPmultiObjIntTime_i1</td>\n",
       "      <td>13</td>\n",
       "      <td>3</td>\n",
       "      <td>74.283598</td>\n",
       "      <td>3.0</td>\n",
       "      <td>72.536371</td>\n",
       "      <td>1.157584</td>\n",
       "      <td>0.200461</td>\n",
       "      <td>0.500</td>\n",
       "      <td>0.666667</td>\n",
       "      <td>0.571429</td>\n",
       "      <td>14.442480</td>\n",
       "      <td>31.167593</td>\n",
       "      <td>0.679022</td>\n",
       "    </tr>\n",
       "    <tr>\n",
       "      <th>1</th>\n",
       "      <td>tourRecLPmultiObjIntTime_i.5</td>\n",
       "      <td>13</td>\n",
       "      <td>3</td>\n",
       "      <td>74.283598</td>\n",
       "      <td>3.0</td>\n",
       "      <td>72.264047</td>\n",
       "      <td>2.100241</td>\n",
       "      <td>0.090259</td>\n",
       "      <td>0.500</td>\n",
       "      <td>0.666667</td>\n",
       "      <td>0.571429</td>\n",
       "      <td>14.442480</td>\n",
       "      <td>31.167593</td>\n",
       "      <td>1.095250</td>\n",
       "    </tr>\n",
       "    <tr>\n",
       "      <th>2</th>\n",
       "      <td>tourRecLPmultiObjIntTime_i1</td>\n",
       "      <td>28</td>\n",
       "      <td>9</td>\n",
       "      <td>225.233818</td>\n",
       "      <td>4.0</td>\n",
       "      <td>64.062699</td>\n",
       "      <td>1.629022</td>\n",
       "      <td>3.000000</td>\n",
       "      <td>0.400</td>\n",
       "      <td>0.400000</td>\n",
       "      <td>0.400000</td>\n",
       "      <td>NaN</td>\n",
       "      <td>NaN</td>\n",
       "      <td>2.314511</td>\n",
       "    </tr>\n",
       "    <tr>\n",
       "      <th>3</th>\n",
       "      <td>tourRecLPmultiObjIntTime_i.5</td>\n",
       "      <td>28</td>\n",
       "      <td>9</td>\n",
       "      <td>225.233818</td>\n",
       "      <td>7.0</td>\n",
       "      <td>224.921845</td>\n",
       "      <td>3.379733</td>\n",
       "      <td>3.000000</td>\n",
       "      <td>0.375</td>\n",
       "      <td>0.600000</td>\n",
       "      <td>0.461538</td>\n",
       "      <td>NaN</td>\n",
       "      <td>NaN</td>\n",
       "      <td>3.189866</td>\n",
       "    </tr>\n",
       "    <tr>\n",
       "      <th>4</th>\n",
       "      <td>tourRecLPmultiObjIntTime_i1</td>\n",
       "      <td>15</td>\n",
       "      <td>8</td>\n",
       "      <td>16.043956</td>\n",
       "      <td>2.0</td>\n",
       "      <td>16.043956</td>\n",
       "      <td>0.505581</td>\n",
       "      <td>0.070517</td>\n",
       "      <td>1.000</td>\n",
       "      <td>1.000000</td>\n",
       "      <td>1.000000</td>\n",
       "      <td>13.996831</td>\n",
       "      <td>13.960508</td>\n",
       "      <td>0.288049</td>\n",
       "    </tr>\n",
       "  </tbody>\n",
       "</table>\n",
       "</div>"
      ],
      "text/plain": [
       "                           algo  startNode  endNode      budget  totalPOI  \\\n",
       "0   tourRecLPmultiObjIntTime_i1         13        3   74.283598       3.0   \n",
       "1  tourRecLPmultiObjIntTime_i.5         13        3   74.283598       3.0   \n",
       "2   tourRecLPmultiObjIntTime_i1         28        9  225.233818       4.0   \n",
       "3  tourRecLPmultiObjIntTime_i.5         28        9  225.233818       7.0   \n",
       "4   tourRecLPmultiObjIntTime_i1         15        8   16.043956       2.0   \n",
       "\n",
       "    totalCost  totalProfit  totalInterest  precision    recall   f1score  \\\n",
       "0   72.536371     1.157584       0.200461      0.500  0.666667  0.571429   \n",
       "1   72.264047     2.100241       0.090259      0.500  0.666667  0.571429   \n",
       "2   64.062699     1.629022       3.000000      0.400  0.400000  0.400000   \n",
       "3  224.921845     3.379733       3.000000      0.375  0.600000  0.461538   \n",
       "4   16.043956     0.505581       0.070517      1.000  1.000000  1.000000   \n",
       "\n",
       "   recTimeRMSE  baselineRMSE  totalPopInt  \n",
       "0    14.442480     31.167593     0.679022  \n",
       "1    14.442480     31.167593     1.095250  \n",
       "2          NaN           NaN     2.314511  \n",
       "3          NaN           NaN     3.189866  \n",
       "4    13.996831     13.960508     0.288049  "
      ]
     },
     "execution_count": 4,
     "metadata": {},
     "output_type": "execute_result"
    }
   ],
   "source": [
    "print(rec_Edin.shape)\n",
    "rec_Edin.head()"
   ]
  },
  {
   "cell_type": "code",
   "execution_count": 5,
   "metadata": {
    "collapsed": false
   },
   "outputs": [
    {
     "name": "stdout",
     "output_type": "stream",
     "text": [
      "(232, 14)\n"
     ]
    },
    {
     "data": {
      "text/html": [
       "<div>\n",
       "<table border=\"1\" class=\"dataframe\">\n",
       "  <thead>\n",
       "    <tr style=\"text-align: right;\">\n",
       "      <th></th>\n",
       "      <th>algo</th>\n",
       "      <th>startNode</th>\n",
       "      <th>endNode</th>\n",
       "      <th>budget</th>\n",
       "      <th>totalPOI</th>\n",
       "      <th>totalCost</th>\n",
       "      <th>totalProfit</th>\n",
       "      <th>totalInterest</th>\n",
       "      <th>precision</th>\n",
       "      <th>recall</th>\n",
       "      <th>f1score</th>\n",
       "      <th>recTimeRMSE</th>\n",
       "      <th>baselineRMSE</th>\n",
       "      <th>totalPopInt</th>\n",
       "    </tr>\n",
       "  </thead>\n",
       "  <tbody>\n",
       "    <tr>\n",
       "      <th>0</th>\n",
       "      <td>tourRecLPmultiObjIntTime_i1</td>\n",
       "      <td>20</td>\n",
       "      <td>2</td>\n",
       "      <td>35.813754</td>\n",
       "      <td>2</td>\n",
       "      <td>35.813754</td>\n",
       "      <td>1.183099</td>\n",
       "      <td>0.828683</td>\n",
       "      <td>1.000000</td>\n",
       "      <td>1.00</td>\n",
       "      <td>1.000000</td>\n",
       "      <td>27.114951</td>\n",
       "      <td>16.610256</td>\n",
       "      <td>1.005891</td>\n",
       "    </tr>\n",
       "    <tr>\n",
       "      <th>1</th>\n",
       "      <td>tourRecLPmultiObjIntTime_i.5</td>\n",
       "      <td>20</td>\n",
       "      <td>2</td>\n",
       "      <td>35.813754</td>\n",
       "      <td>2</td>\n",
       "      <td>35.813754</td>\n",
       "      <td>1.183099</td>\n",
       "      <td>0.828683</td>\n",
       "      <td>1.000000</td>\n",
       "      <td>1.00</td>\n",
       "      <td>1.000000</td>\n",
       "      <td>27.114951</td>\n",
       "      <td>16.610256</td>\n",
       "      <td>1.005891</td>\n",
       "    </tr>\n",
       "    <tr>\n",
       "      <th>2</th>\n",
       "      <td>tourRecLPmultiObjIntTime_i1</td>\n",
       "      <td>2</td>\n",
       "      <td>21</td>\n",
       "      <td>159.517415</td>\n",
       "      <td>6</td>\n",
       "      <td>158.869735</td>\n",
       "      <td>1.855131</td>\n",
       "      <td>1.678304</td>\n",
       "      <td>0.428571</td>\n",
       "      <td>0.75</td>\n",
       "      <td>0.545455</td>\n",
       "      <td>NaN</td>\n",
       "      <td>NaN</td>\n",
       "      <td>1.766717</td>\n",
       "    </tr>\n",
       "    <tr>\n",
       "      <th>3</th>\n",
       "      <td>tourRecLPmultiObjIntTime_i.5</td>\n",
       "      <td>2</td>\n",
       "      <td>21</td>\n",
       "      <td>159.517415</td>\n",
       "      <td>3</td>\n",
       "      <td>159.517415</td>\n",
       "      <td>1.983233</td>\n",
       "      <td>1.675665</td>\n",
       "      <td>1.000000</td>\n",
       "      <td>1.00</td>\n",
       "      <td>1.000000</td>\n",
       "      <td>NaN</td>\n",
       "      <td>NaN</td>\n",
       "      <td>1.829449</td>\n",
       "    </tr>\n",
       "    <tr>\n",
       "      <th>4</th>\n",
       "      <td>tourRecLPmultiObjIntTime_i1</td>\n",
       "      <td>21</td>\n",
       "      <td>11</td>\n",
       "      <td>158.231934</td>\n",
       "      <td>5</td>\n",
       "      <td>132.874632</td>\n",
       "      <td>1.749832</td>\n",
       "      <td>1.021407</td>\n",
       "      <td>0.500000</td>\n",
       "      <td>0.75</td>\n",
       "      <td>0.600000</td>\n",
       "      <td>292.129221</td>\n",
       "      <td>206.469697</td>\n",
       "      <td>1.385620</td>\n",
       "    </tr>\n",
       "  </tbody>\n",
       "</table>\n",
       "</div>"
      ],
      "text/plain": [
       "                           algo  startNode  endNode      budget  totalPOI  \\\n",
       "0   tourRecLPmultiObjIntTime_i1         20        2   35.813754         2   \n",
       "1  tourRecLPmultiObjIntTime_i.5         20        2   35.813754         2   \n",
       "2   tourRecLPmultiObjIntTime_i1          2       21  159.517415         6   \n",
       "3  tourRecLPmultiObjIntTime_i.5          2       21  159.517415         3   \n",
       "4   tourRecLPmultiObjIntTime_i1         21       11  158.231934         5   \n",
       "\n",
       "    totalCost  totalProfit  totalInterest  precision  recall   f1score  \\\n",
       "0   35.813754     1.183099       0.828683   1.000000    1.00  1.000000   \n",
       "1   35.813754     1.183099       0.828683   1.000000    1.00  1.000000   \n",
       "2  158.869735     1.855131       1.678304   0.428571    0.75  0.545455   \n",
       "3  159.517415     1.983233       1.675665   1.000000    1.00  1.000000   \n",
       "4  132.874632     1.749832       1.021407   0.500000    0.75  0.600000   \n",
       "\n",
       "   recTimeRMSE  baselineRMSE  totalPopInt  \n",
       "0    27.114951     16.610256     1.005891  \n",
       "1    27.114951     16.610256     1.005891  \n",
       "2          NaN           NaN     1.766717  \n",
       "3          NaN           NaN     1.829449  \n",
       "4   292.129221    206.469697     1.385620  "
      ]
     },
     "execution_count": 5,
     "metadata": {},
     "output_type": "execute_result"
    }
   ],
   "source": [
    "print(rec_Glas.shape)\n",
    "rec_Glas.head()"
   ]
  },
  {
   "cell_type": "code",
   "execution_count": 6,
   "metadata": {
    "collapsed": false
   },
   "outputs": [
    {
     "name": "stdout",
     "output_type": "stream",
     "text": [
      "(96, 14)\n"
     ]
    },
    {
     "data": {
      "text/html": [
       "<div>\n",
       "<table border=\"1\" class=\"dataframe\">\n",
       "  <thead>\n",
       "    <tr style=\"text-align: right;\">\n",
       "      <th></th>\n",
       "      <th>algo</th>\n",
       "      <th>startNode</th>\n",
       "      <th>endNode</th>\n",
       "      <th>budget</th>\n",
       "      <th>totalPOI</th>\n",
       "      <th>totalCost</th>\n",
       "      <th>totalProfit</th>\n",
       "      <th>totalInterest</th>\n",
       "      <th>precision</th>\n",
       "      <th>recall</th>\n",
       "      <th>f1score</th>\n",
       "      <th>recTimeRMSE</th>\n",
       "      <th>baselineRMSE</th>\n",
       "      <th>totalPopInt</th>\n",
       "    </tr>\n",
       "  </thead>\n",
       "  <tbody>\n",
       "    <tr>\n",
       "      <th>0</th>\n",
       "      <td>tourRecLPmultiObjIntTime_i1</td>\n",
       "      <td>22</td>\n",
       "      <td>21</td>\n",
       "      <td>237.312211</td>\n",
       "      <td>3</td>\n",
       "      <td>168.933483</td>\n",
       "      <td>0.338944</td>\n",
       "      <td>0.000000</td>\n",
       "      <td>0.500000</td>\n",
       "      <td>0.666667</td>\n",
       "      <td>0.571429</td>\n",
       "      <td>NaN</td>\n",
       "      <td>NaN</td>\n",
       "      <td>0.169472</td>\n",
       "    </tr>\n",
       "    <tr>\n",
       "      <th>1</th>\n",
       "      <td>tourRecLPmultiObjIntTime_i.5</td>\n",
       "      <td>22</td>\n",
       "      <td>21</td>\n",
       "      <td>237.312211</td>\n",
       "      <td>2</td>\n",
       "      <td>237.312211</td>\n",
       "      <td>1.227238</td>\n",
       "      <td>0.000000</td>\n",
       "      <td>1.000000</td>\n",
       "      <td>1.000000</td>\n",
       "      <td>1.000000</td>\n",
       "      <td>10.833333</td>\n",
       "      <td>61.547119</td>\n",
       "      <td>0.613619</td>\n",
       "    </tr>\n",
       "    <tr>\n",
       "      <th>2</th>\n",
       "      <td>tourRecLPmultiObjIntTime_i1</td>\n",
       "      <td>5</td>\n",
       "      <td>21</td>\n",
       "      <td>163.135593</td>\n",
       "      <td>2</td>\n",
       "      <td>155.821111</td>\n",
       "      <td>0.243305</td>\n",
       "      <td>0.872973</td>\n",
       "      <td>0.666667</td>\n",
       "      <td>0.666667</td>\n",
       "      <td>0.666667</td>\n",
       "      <td>51.345269</td>\n",
       "      <td>1.000000</td>\n",
       "      <td>0.558139</td>\n",
       "    </tr>\n",
       "    <tr>\n",
       "      <th>3</th>\n",
       "      <td>tourRecLPmultiObjIntTime_i.5</td>\n",
       "      <td>5</td>\n",
       "      <td>21</td>\n",
       "      <td>163.135593</td>\n",
       "      <td>2</td>\n",
       "      <td>137.556544</td>\n",
       "      <td>0.322877</td>\n",
       "      <td>0.872973</td>\n",
       "      <td>0.666667</td>\n",
       "      <td>0.666667</td>\n",
       "      <td>0.666667</td>\n",
       "      <td>51.345269</td>\n",
       "      <td>1.000000</td>\n",
       "      <td>0.597925</td>\n",
       "    </tr>\n",
       "    <tr>\n",
       "      <th>4</th>\n",
       "      <td>tourRecLPmultiObjIntTime_i1</td>\n",
       "      <td>28</td>\n",
       "      <td>20</td>\n",
       "      <td>174.396199</td>\n",
       "      <td>4</td>\n",
       "      <td>168.729694</td>\n",
       "      <td>1.234889</td>\n",
       "      <td>0.644839</td>\n",
       "      <td>0.400000</td>\n",
       "      <td>0.666667</td>\n",
       "      <td>0.500000</td>\n",
       "      <td>23.037944</td>\n",
       "      <td>95.705208</td>\n",
       "      <td>0.939864</td>\n",
       "    </tr>\n",
       "  </tbody>\n",
       "</table>\n",
       "</div>"
      ],
      "text/plain": [
       "                           algo  startNode  endNode      budget  totalPOI  \\\n",
       "0   tourRecLPmultiObjIntTime_i1         22       21  237.312211         3   \n",
       "1  tourRecLPmultiObjIntTime_i.5         22       21  237.312211         2   \n",
       "2   tourRecLPmultiObjIntTime_i1          5       21  163.135593         2   \n",
       "3  tourRecLPmultiObjIntTime_i.5          5       21  163.135593         2   \n",
       "4   tourRecLPmultiObjIntTime_i1         28       20  174.396199         4   \n",
       "\n",
       "    totalCost  totalProfit  totalInterest  precision    recall   f1score  \\\n",
       "0  168.933483     0.338944       0.000000   0.500000  0.666667  0.571429   \n",
       "1  237.312211     1.227238       0.000000   1.000000  1.000000  1.000000   \n",
       "2  155.821111     0.243305       0.872973   0.666667  0.666667  0.666667   \n",
       "3  137.556544     0.322877       0.872973   0.666667  0.666667  0.666667   \n",
       "4  168.729694     1.234889       0.644839   0.400000  0.666667  0.500000   \n",
       "\n",
       "   recTimeRMSE  baselineRMSE  totalPopInt  \n",
       "0          NaN           NaN     0.169472  \n",
       "1    10.833333     61.547119     0.613619  \n",
       "2    51.345269      1.000000     0.558139  \n",
       "3    51.345269      1.000000     0.597925  \n",
       "4    23.037944     95.705208     0.939864  "
      ]
     },
     "execution_count": 6,
     "metadata": {},
     "output_type": "execute_result"
    }
   ],
   "source": [
    "print(rec_Osak.shape)\n",
    "rec_Osak.head()"
   ]
  },
  {
   "cell_type": "code",
   "execution_count": 7,
   "metadata": {
    "collapsed": false
   },
   "outputs": [
    {
     "name": "stdout",
     "output_type": "stream",
     "text": [
      "(688, 14)\n"
     ]
    },
    {
     "data": {
      "text/html": [
       "<div>\n",
       "<table border=\"1\" class=\"dataframe\">\n",
       "  <thead>\n",
       "    <tr style=\"text-align: right;\">\n",
       "      <th></th>\n",
       "      <th>algo</th>\n",
       "      <th>startNode</th>\n",
       "      <th>endNode</th>\n",
       "      <th>budget</th>\n",
       "      <th>totalPOI</th>\n",
       "      <th>totalCost</th>\n",
       "      <th>totalProfit</th>\n",
       "      <th>totalInterest</th>\n",
       "      <th>precision</th>\n",
       "      <th>recall</th>\n",
       "      <th>f1score</th>\n",
       "      <th>recTimeRMSE</th>\n",
       "      <th>baselineRMSE</th>\n",
       "      <th>totalPopInt</th>\n",
       "    </tr>\n",
       "  </thead>\n",
       "  <tbody>\n",
       "    <tr>\n",
       "      <th>0</th>\n",
       "      <td>tourRecLPmultiObjIntTime_i1</td>\n",
       "      <td>16</td>\n",
       "      <td>28</td>\n",
       "      <td>257.204961</td>\n",
       "      <td>4.0</td>\n",
       "      <td>257.135278</td>\n",
       "      <td>1.962337</td>\n",
       "      <td>3.000000</td>\n",
       "      <td>0.4</td>\n",
       "      <td>0.5</td>\n",
       "      <td>0.444444</td>\n",
       "      <td>1.883333</td>\n",
       "      <td>28.255128</td>\n",
       "      <td>2.481169</td>\n",
       "    </tr>\n",
       "    <tr>\n",
       "      <th>1</th>\n",
       "      <td>tourRecLPmultiObjIntTime_i.5</td>\n",
       "      <td>16</td>\n",
       "      <td>28</td>\n",
       "      <td>257.204961</td>\n",
       "      <td>4.0</td>\n",
       "      <td>257.135278</td>\n",
       "      <td>1.962337</td>\n",
       "      <td>3.000000</td>\n",
       "      <td>0.4</td>\n",
       "      <td>0.5</td>\n",
       "      <td>0.444444</td>\n",
       "      <td>1.883333</td>\n",
       "      <td>28.255128</td>\n",
       "      <td>2.481169</td>\n",
       "    </tr>\n",
       "    <tr>\n",
       "      <th>2</th>\n",
       "      <td>tourRecLPmultiObjIntTime_i1</td>\n",
       "      <td>7</td>\n",
       "      <td>30</td>\n",
       "      <td>138.550726</td>\n",
       "      <td>3.0</td>\n",
       "      <td>138.550726</td>\n",
       "      <td>1.471028</td>\n",
       "      <td>1.676318</td>\n",
       "      <td>1.0</td>\n",
       "      <td>1.0</td>\n",
       "      <td>1.000000</td>\n",
       "      <td>26.993119</td>\n",
       "      <td>38.001388</td>\n",
       "      <td>1.573673</td>\n",
       "    </tr>\n",
       "    <tr>\n",
       "      <th>3</th>\n",
       "      <td>tourRecLPmultiObjIntTime_i.5</td>\n",
       "      <td>7</td>\n",
       "      <td>30</td>\n",
       "      <td>138.550726</td>\n",
       "      <td>3.0</td>\n",
       "      <td>138.550726</td>\n",
       "      <td>1.471028</td>\n",
       "      <td>1.676318</td>\n",
       "      <td>1.0</td>\n",
       "      <td>1.0</td>\n",
       "      <td>1.000000</td>\n",
       "      <td>26.993119</td>\n",
       "      <td>38.001388</td>\n",
       "      <td>1.573673</td>\n",
       "    </tr>\n",
       "    <tr>\n",
       "      <th>4</th>\n",
       "      <td>tourRecLPmultiObjIntTime_i1</td>\n",
       "      <td>23</td>\n",
       "      <td>21</td>\n",
       "      <td>384.998030</td>\n",
       "      <td>4.0</td>\n",
       "      <td>378.456716</td>\n",
       "      <td>1.789715</td>\n",
       "      <td>4.000000</td>\n",
       "      <td>0.6</td>\n",
       "      <td>0.5</td>\n",
       "      <td>0.545455</td>\n",
       "      <td>NaN</td>\n",
       "      <td>NaN</td>\n",
       "      <td>2.894858</td>\n",
       "    </tr>\n",
       "  </tbody>\n",
       "</table>\n",
       "</div>"
      ],
      "text/plain": [
       "                           algo  startNode  endNode      budget  totalPOI  \\\n",
       "0   tourRecLPmultiObjIntTime_i1         16       28  257.204961       4.0   \n",
       "1  tourRecLPmultiObjIntTime_i.5         16       28  257.204961       4.0   \n",
       "2   tourRecLPmultiObjIntTime_i1          7       30  138.550726       3.0   \n",
       "3  tourRecLPmultiObjIntTime_i.5          7       30  138.550726       3.0   \n",
       "4   tourRecLPmultiObjIntTime_i1         23       21  384.998030       4.0   \n",
       "\n",
       "    totalCost  totalProfit  totalInterest  precision  recall   f1score  \\\n",
       "0  257.135278     1.962337       3.000000        0.4     0.5  0.444444   \n",
       "1  257.135278     1.962337       3.000000        0.4     0.5  0.444444   \n",
       "2  138.550726     1.471028       1.676318        1.0     1.0  1.000000   \n",
       "3  138.550726     1.471028       1.676318        1.0     1.0  1.000000   \n",
       "4  378.456716     1.789715       4.000000        0.6     0.5  0.545455   \n",
       "\n",
       "   recTimeRMSE  baselineRMSE  totalPopInt  \n",
       "0     1.883333     28.255128     2.481169  \n",
       "1     1.883333     28.255128     2.481169  \n",
       "2    26.993119     38.001388     1.573673  \n",
       "3    26.993119     38.001388     1.573673  \n",
       "4          NaN           NaN     2.894858  "
      ]
     },
     "execution_count": 7,
     "metadata": {},
     "output_type": "execute_result"
    }
   ],
   "source": [
    "print(rec_Toro.shape)\n",
    "rec_Toro.head()"
   ]
  },
  {
   "cell_type": "markdown",
   "metadata": {},
   "source": [
    "Results of different recommendation algoirthms on Edinburgh dataset."
   ]
  },
  {
   "cell_type": "code",
   "execution_count": 8,
   "metadata": {
    "collapsed": false
   },
   "outputs": [
    {
     "data": {
      "text/plain": [
       "array(['tourRecLPmultiObjIntTime_i1', 'tourRecLPmultiObjIntTime_i.5'], dtype=object)"
      ]
     },
     "execution_count": 8,
     "metadata": {},
     "output_type": "execute_result"
    }
   ],
   "source": [
    "algo_Edin = rec_Edin['algo'].unique()\n",
    "algo_Edin"
   ]
  },
  {
   "cell_type": "code",
   "execution_count": 38,
   "metadata": {
    "collapsed": false
   },
   "outputs": [
    {
     "name": "stdout",
     "output_type": "stream",
     "text": [
      "(656, 14) (1324, 14)\n"
     ]
    }
   ],
   "source": [
    "algo10_Edin = rec_Edin[rec_Edin['algo'] == algo_Edin[0]]\n",
    "print(algo10_Edin.shape, rec_Edin.shape)"
   ]
  },
  {
   "cell_type": "code",
   "execution_count": 10,
   "metadata": {
    "collapsed": false
   },
   "outputs": [
    {
     "name": "stdout",
     "output_type": "stream",
     "text": [
      "0.61813332561\n",
      "0.199491182284\n"
     ]
    }
   ],
   "source": [
    "print(algo10_Edin['f1score'].mean())\n",
    "print(algo10_Edin['f1score'].std())"
   ]
  },
  {
   "cell_type": "code",
   "execution_count": 39,
   "metadata": {
    "collapsed": false
   },
   "outputs": [
    {
     "name": "stdout",
     "output_type": "stream",
     "text": [
      "(668, 14) (1324, 14)\n"
     ]
    }
   ],
   "source": [
    "algo05_Edin = rec_Edin[rec_Edin['algo'] == algo_Edin[1]]\n",
    "print(algo05_Edin.shape, rec_Edin.shape)"
   ]
  },
  {
   "cell_type": "code",
   "execution_count": 12,
   "metadata": {
    "collapsed": false
   },
   "outputs": [
    {
     "name": "stdout",
     "output_type": "stream",
     "text": [
      "0.671261893658\n",
      "0.218175919343\n"
     ]
    }
   ],
   "source": [
    "print(algo05_Edin['f1score'].mean())\n",
    "print(algo05_Edin['f1score'].std())"
   ]
  },
  {
   "cell_type": "markdown",
   "metadata": {},
   "source": [
    "Results of different recommendation algoirthms on Glasgow dataset."
   ]
  },
  {
   "cell_type": "code",
   "execution_count": 13,
   "metadata": {
    "collapsed": false
   },
   "outputs": [
    {
     "data": {
      "text/plain": [
       "array(['tourRecLPmultiObjIntTime_i1', 'tourRecLPmultiObjIntTime_i.5'], dtype=object)"
      ]
     },
     "execution_count": 13,
     "metadata": {},
     "output_type": "execute_result"
    }
   ],
   "source": [
    "algo_Glas = rec_Glas['algo'].unique()\n",
    "algo_Glas"
   ]
  },
  {
   "cell_type": "code",
   "execution_count": 40,
   "metadata": {
    "collapsed": false
   },
   "outputs": [
    {
     "name": "stdout",
     "output_type": "stream",
     "text": [
      "(116, 14) (232, 14)\n"
     ]
    }
   ],
   "source": [
    "algo10_Glas = rec_Glas[rec_Glas['algo'] == algo_Glas[0]]\n",
    "print(algo10_Glas.shape, rec_Glas.shape)"
   ]
  },
  {
   "cell_type": "code",
   "execution_count": 15,
   "metadata": {
    "collapsed": false
   },
   "outputs": [
    {
     "name": "stdout",
     "output_type": "stream",
     "text": [
      "0.727576108813\n",
      "0.204616820208\n"
     ]
    }
   ],
   "source": [
    "print(algo10_Glas['f1score'].mean())\n",
    "print(algo10_Glas['f1score'].std())"
   ]
  },
  {
   "cell_type": "code",
   "execution_count": 41,
   "metadata": {
    "collapsed": false
   },
   "outputs": [
    {
     "name": "stdout",
     "output_type": "stream",
     "text": [
      "(116, 14) (232, 14)\n"
     ]
    }
   ],
   "source": [
    "algo05_Glas = rec_Glas[rec_Glas['algo'] == algo_Glas[1]]\n",
    "print(algo05_Glas.shape, rec_Glas.shape)"
   ]
  },
  {
   "cell_type": "code",
   "execution_count": 17,
   "metadata": {
    "collapsed": false
   },
   "outputs": [
    {
     "name": "stdout",
     "output_type": "stream",
     "text": [
      "0.798167230205\n",
      "0.217465775104\n"
     ]
    }
   ],
   "source": [
    "print(algo05_Glas['f1score'].mean())\n",
    "print(algo05_Glas['f1score'].std())"
   ]
  },
  {
   "cell_type": "markdown",
   "metadata": {},
   "source": [
    "Results of different recommendation algoirthms on Osaka dataset."
   ]
  },
  {
   "cell_type": "code",
   "execution_count": 18,
   "metadata": {
    "collapsed": false
   },
   "outputs": [
    {
     "data": {
      "text/plain": [
       "array(['tourRecLPmultiObjIntTime_i1', 'tourRecLPmultiObjIntTime_i.5'], dtype=object)"
      ]
     },
     "execution_count": 18,
     "metadata": {},
     "output_type": "execute_result"
    }
   ],
   "source": [
    "algo_Osak = rec_Osak['algo'].unique()\n",
    "algo_Osak"
   ]
  },
  {
   "cell_type": "code",
   "execution_count": 42,
   "metadata": {
    "collapsed": false
   },
   "outputs": [
    {
     "name": "stdout",
     "output_type": "stream",
     "text": [
      "(48, 14) (96, 14)\n"
     ]
    }
   ],
   "source": [
    "algo10_Osak = rec_Osak[rec_Osak['algo'] == algo_Osak[0]]\n",
    "print(algo10_Osak.shape, rec_Osak.shape)"
   ]
  },
  {
   "cell_type": "code",
   "execution_count": 20,
   "metadata": {
    "collapsed": false
   },
   "outputs": [
    {
     "name": "stdout",
     "output_type": "stream",
     "text": [
      "0.640863997114\n",
      "0.198332414796\n"
     ]
    }
   ],
   "source": [
    "print(algo10_Osak['f1score'].mean())\n",
    "print(algo10_Osak['f1score'].std())"
   ]
  },
  {
   "cell_type": "code",
   "execution_count": 43,
   "metadata": {
    "collapsed": false
   },
   "outputs": [
    {
     "name": "stdout",
     "output_type": "stream",
     "text": [
      "(48, 14) (96, 14)\n"
     ]
    }
   ],
   "source": [
    "algo05_Osak = rec_Osak[rec_Osak['algo'] == algo_Osak[1]]\n",
    "print(algo05_Osak.shape, rec_Osak.shape)"
   ]
  },
  {
   "cell_type": "code",
   "execution_count": 22,
   "metadata": {
    "collapsed": false
   },
   "outputs": [
    {
     "name": "stdout",
     "output_type": "stream",
     "text": [
      "0.698995911496\n",
      "0.226146335368\n"
     ]
    }
   ],
   "source": [
    "print(algo05_Osak['f1score'].mean())\n",
    "print(algo05_Osak['f1score'].std())"
   ]
  },
  {
   "cell_type": "markdown",
   "metadata": {},
   "source": [
    "Results of different recommendation algoirthms on Toronto dataset."
   ]
  },
  {
   "cell_type": "code",
   "execution_count": 23,
   "metadata": {
    "collapsed": false
   },
   "outputs": [
    {
     "data": {
      "text/plain": [
       "array(['tourRecLPmultiObjIntTime_i1', 'tourRecLPmultiObjIntTime_i.5'], dtype=object)"
      ]
     },
     "execution_count": 23,
     "metadata": {},
     "output_type": "execute_result"
    }
   ],
   "source": [
    "algo_Toro = rec_Toro['algo'].unique()\n",
    "algo_Toro"
   ]
  },
  {
   "cell_type": "code",
   "execution_count": 44,
   "metadata": {
    "collapsed": false
   },
   "outputs": [
    {
     "name": "stdout",
     "output_type": "stream",
     "text": [
      "(342, 14) (688, 14)\n"
     ]
    }
   ],
   "source": [
    "algo10_Toro = rec_Toro[rec_Toro['algo'] == algo_Toro[0]]\n",
    "print(algo10_Toro.shape, rec_Toro.shape)"
   ]
  },
  {
   "cell_type": "code",
   "execution_count": 25,
   "metadata": {
    "collapsed": false
   },
   "outputs": [
    {
     "name": "stdout",
     "output_type": "stream",
     "text": [
      "0.717827219698\n",
      "0.219277869975\n"
     ]
    }
   ],
   "source": [
    "print(algo10_Toro['f1score'].mean())\n",
    "print(algo10_Toro['f1score'].std())"
   ]
  },
  {
   "cell_type": "code",
   "execution_count": 45,
   "metadata": {
    "collapsed": false
   },
   "outputs": [
    {
     "name": "stdout",
     "output_type": "stream",
     "text": [
      "(346, 14) (688, 14)\n"
     ]
    }
   ],
   "source": [
    "algo05_Toro = rec_Toro[rec_Toro['algo'] == algo_Toro[1]]\n",
    "print(algo05_Toro.shape, rec_Toro.shape)"
   ]
  },
  {
   "cell_type": "code",
   "execution_count": 27,
   "metadata": {
    "collapsed": false
   },
   "outputs": [
    {
     "name": "stdout",
     "output_type": "stream",
     "text": [
      "0.73238356624\n",
      "0.217999794847\n"
     ]
    }
   ],
   "source": [
    "print(algo05_Toro['f1score'].mean())\n",
    "print(algo05_Toro['f1score'].std())"
   ]
  },
  {
   "cell_type": "markdown",
   "metadata": {},
   "source": [
    "## Results Table"
   ]
  },
  {
   "cell_type": "code",
   "execution_count": 28,
   "metadata": {
    "collapsed": true
   },
   "outputs": [],
   "source": [
    "df_columns = ['#Trajectory', 'Recall_mean', 'Recall_std', 'Precision_mean', 'Precision_std', 'F1_mean', 'F1_std']"
   ]
  },
  {
   "cell_type": "code",
   "execution_count": 29,
   "metadata": {
    "collapsed": true
   },
   "outputs": [],
   "source": [
    "df_indices = ['Edinburgh', 'Glasgow', 'Osaka', 'Toronto']"
   ]
  },
  {
   "cell_type": "code",
   "execution_count": 30,
   "metadata": {
    "collapsed": true
   },
   "outputs": [],
   "source": [
    "data10_df = [algo10_Edin, algo10_Glas, algo10_Osak, algo10_Toro]"
   ]
  },
  {
   "cell_type": "code",
   "execution_count": 31,
   "metadata": {
    "collapsed": false
   },
   "outputs": [],
   "source": [
    "algo10_df = pd.DataFrame(data=np.zeros((4, 7), dtype=np.float), columns=df_columns, index=df_indices)"
   ]
  },
  {
   "cell_type": "code",
   "execution_count": 32,
   "metadata": {
    "collapsed": true
   },
   "outputs": [],
   "source": [
    "assert(len(df_indices) == len(data10_df))\n",
    "for i in range(len(df_indices)):\n",
    "    ix = df_indices[i]\n",
    "    algo10_df.loc[ix, '#Trajectory']    = data10_df[i].shape[0]\n",
    "    algo10_df.loc[ix, 'Recall_mean']    = data10_df[i]['recall'].mean()\n",
    "    algo10_df.loc[ix, 'Recall_std']     = data10_df[i]['recall'].std()\n",
    "    algo10_df.loc[ix, 'Precision_mean'] = data10_df[i]['precision'].mean()\n",
    "    algo10_df.loc[ix, 'Precision_std']  = data10_df[i]['precision'].std()\n",
    "    algo10_df.loc[ix, 'F1_mean']        = data10_df[i]['f1score'].mean()\n",
    "    algo10_df.loc[ix, 'F1_std']         = data10_df[i]['f1score'].std()\n",
    "algo10_df['#Trajectory'] = algo10_df['#Trajectory'].astype(np.int)"
   ]
  },
  {
   "cell_type": "code",
   "execution_count": 33,
   "metadata": {
    "collapsed": false
   },
   "outputs": [
    {
     "data": {
      "text/html": [
       "<div>\n",
       "<table border=\"1\" class=\"dataframe\">\n",
       "  <thead>\n",
       "    <tr style=\"text-align: right;\">\n",
       "      <th></th>\n",
       "      <th>#Trajectory</th>\n",
       "      <th>Recall_mean</th>\n",
       "      <th>Recall_std</th>\n",
       "      <th>Precision_mean</th>\n",
       "      <th>Precision_std</th>\n",
       "      <th>F1_mean</th>\n",
       "      <th>F1_std</th>\n",
       "    </tr>\n",
       "  </thead>\n",
       "  <tbody>\n",
       "    <tr>\n",
       "      <th>Edinburgh</th>\n",
       "      <td>656</td>\n",
       "      <td>0.667755</td>\n",
       "      <td>0.184078</td>\n",
       "      <td>0.600600</td>\n",
       "      <td>0.229101</td>\n",
       "      <td>0.618133</td>\n",
       "      <td>0.199491</td>\n",
       "    </tr>\n",
       "    <tr>\n",
       "      <th>Glasgow</th>\n",
       "      <td>116</td>\n",
       "      <td>0.738844</td>\n",
       "      <td>0.195753</td>\n",
       "      <td>0.735991</td>\n",
       "      <td>0.228247</td>\n",
       "      <td>0.727576</td>\n",
       "      <td>0.204617</td>\n",
       "    </tr>\n",
       "    <tr>\n",
       "      <th>Osaka</th>\n",
       "      <td>48</td>\n",
       "      <td>0.682639</td>\n",
       "      <td>0.173408</td>\n",
       "      <td>0.621825</td>\n",
       "      <td>0.224965</td>\n",
       "      <td>0.640864</td>\n",
       "      <td>0.198332</td>\n",
       "    </tr>\n",
       "    <tr>\n",
       "      <th>Toronto</th>\n",
       "      <td>342</td>\n",
       "      <td>0.743630</td>\n",
       "      <td>0.199341</td>\n",
       "      <td>0.709986</td>\n",
       "      <td>0.241362</td>\n",
       "      <td>0.717827</td>\n",
       "      <td>0.219278</td>\n",
       "    </tr>\n",
       "  </tbody>\n",
       "</table>\n",
       "</div>"
      ],
      "text/plain": [
       "           #Trajectory  Recall_mean  Recall_std  Precision_mean  \\\n",
       "Edinburgh          656     0.667755    0.184078        0.600600   \n",
       "Glasgow            116     0.738844    0.195753        0.735991   \n",
       "Osaka               48     0.682639    0.173408        0.621825   \n",
       "Toronto            342     0.743630    0.199341        0.709986   \n",
       "\n",
       "           Precision_std   F1_mean    F1_std  \n",
       "Edinburgh       0.229101  0.618133  0.199491  \n",
       "Glasgow         0.228247  0.727576  0.204617  \n",
       "Osaka           0.224965  0.640864  0.198332  \n",
       "Toronto         0.241362  0.717827  0.219278  "
      ]
     },
     "execution_count": 33,
     "metadata": {},
     "output_type": "execute_result"
    }
   ],
   "source": [
    "algo10_df"
   ]
  },
  {
   "cell_type": "code",
   "execution_count": 34,
   "metadata": {
    "collapsed": true
   },
   "outputs": [],
   "source": [
    "data05_df = [algo05_Edin, algo05_Glas, algo05_Osak, algo05_Toro]"
   ]
  },
  {
   "cell_type": "code",
   "execution_count": 35,
   "metadata": {
    "collapsed": true
   },
   "outputs": [],
   "source": [
    "algo05_df = pd.DataFrame(data=np.zeros((4, 7), dtype=np.float), columns=df_columns, index=df_indices)"
   ]
  },
  {
   "cell_type": "code",
   "execution_count": 36,
   "metadata": {
    "collapsed": true
   },
   "outputs": [],
   "source": [
    "assert(len(df_indices) == len(data05_df))\n",
    "for i in range(len(df_indices)):\n",
    "    ix = df_indices[i]\n",
    "    algo05_df.loc[ix, '#Trajectory']    = data05_df[i].shape[0]\n",
    "    algo05_df.loc[ix, 'Recall_mean']    = data05_df[i]['recall'].mean()\n",
    "    algo05_df.loc[ix, 'Recall_std']     = data05_df[i]['recall'].std()\n",
    "    algo05_df.loc[ix, 'Precision_mean'] = data05_df[i]['precision'].mean()\n",
    "    algo05_df.loc[ix, 'Precision_std']  = data05_df[i]['precision'].std()\n",
    "    algo05_df.loc[ix, 'F1_mean']        = data05_df[i]['f1score'].mean()\n",
    "    algo05_df.loc[ix, 'F1_std']         = data05_df[i]['f1score'].std()\n",
    "algo05_df['#Trajectory'] = algo05_df['#Trajectory'].astype(np.int)"
   ]
  },
  {
   "cell_type": "code",
   "execution_count": 37,
   "metadata": {
    "collapsed": false
   },
   "outputs": [
    {
     "data": {
      "text/html": [
       "<div>\n",
       "<table border=\"1\" class=\"dataframe\">\n",
       "  <thead>\n",
       "    <tr style=\"text-align: right;\">\n",
       "      <th></th>\n",
       "      <th>#Trajectory</th>\n",
       "      <th>Recall_mean</th>\n",
       "      <th>Recall_std</th>\n",
       "      <th>Precision_mean</th>\n",
       "      <th>Precision_std</th>\n",
       "      <th>F1_mean</th>\n",
       "      <th>F1_std</th>\n",
       "    </tr>\n",
       "  </thead>\n",
       "  <tbody>\n",
       "    <tr>\n",
       "      <th>Edinburgh</th>\n",
       "      <td>668</td>\n",
       "      <td>0.740181</td>\n",
       "      <td>0.177193</td>\n",
       "      <td>0.632600</td>\n",
       "      <td>0.250028</td>\n",
       "      <td>0.671262</td>\n",
       "      <td>0.218176</td>\n",
       "    </tr>\n",
       "    <tr>\n",
       "      <th>Glasgow</th>\n",
       "      <td>116</td>\n",
       "      <td>0.826457</td>\n",
       "      <td>0.184739</td>\n",
       "      <td>0.781568</td>\n",
       "      <td>0.241362</td>\n",
       "      <td>0.798167</td>\n",
       "      <td>0.217466</td>\n",
       "    </tr>\n",
       "    <tr>\n",
       "      <th>Osaka</th>\n",
       "      <td>48</td>\n",
       "      <td>0.759028</td>\n",
       "      <td>0.179833</td>\n",
       "      <td>0.662202</td>\n",
       "      <td>0.259361</td>\n",
       "      <td>0.698996</td>\n",
       "      <td>0.226146</td>\n",
       "    </tr>\n",
       "    <tr>\n",
       "      <th>Toronto</th>\n",
       "      <td>346</td>\n",
       "      <td>0.778628</td>\n",
       "      <td>0.176512</td>\n",
       "      <td>0.705728</td>\n",
       "      <td>0.247908</td>\n",
       "      <td>0.732384</td>\n",
       "      <td>0.218000</td>\n",
       "    </tr>\n",
       "  </tbody>\n",
       "</table>\n",
       "</div>"
      ],
      "text/plain": [
       "           #Trajectory  Recall_mean  Recall_std  Precision_mean  \\\n",
       "Edinburgh          668     0.740181    0.177193        0.632600   \n",
       "Glasgow            116     0.826457    0.184739        0.781568   \n",
       "Osaka               48     0.759028    0.179833        0.662202   \n",
       "Toronto            346     0.778628    0.176512        0.705728   \n",
       "\n",
       "           Precision_std   F1_mean    F1_std  \n",
       "Edinburgh       0.250028  0.671262  0.218176  \n",
       "Glasgow         0.241362  0.798167  0.217466  \n",
       "Osaka           0.259361  0.698996  0.226146  \n",
       "Toronto         0.247908  0.732384  0.218000  "
      ]
     },
     "execution_count": 37,
     "metadata": {},
     "output_type": "execute_result"
    }
   ],
   "source": [
    "algo05_df"
   ]
  }
 ],
 "metadata": {
  "kernelspec": {
   "display_name": "Python 3",
   "language": "python",
   "name": "python3"
  },
  "language_info": {
   "codemirror_mode": {
    "name": "ipython",
    "version": 3
   },
   "file_extension": ".py",
   "mimetype": "text/x-python",
   "name": "python",
   "nbconvert_exporter": "python",
   "pygments_lexer": "ipython3",
   "version": "3.5.1"
  }
 },
 "nbformat": 4,
 "nbformat_minor": 0
}
