{
 "cells": [
  {
   "cell_type": "markdown",
   "metadata": {
    "collapsed": true
   },
   "source": [
    "# Trajectory Recommendation"
   ]
  },
  {
   "cell_type": "markdown",
   "metadata": {},
   "source": [
    "<a id='toc'></a>"
   ]
  },
  {
   "cell_type": "markdown",
   "metadata": {},
   "source": [
    "[Table of Contents](#toc)\n",
    "1. [Preprocess Dataset](#sec1)\n",
    "  1. [Load Data](#sec1.1)\n",
    "  1. [Compute POI Information](#sec1.2)\n",
    "  1. [Construct Travelling Sequences](#sec1.3)\n",
    "  1. [Train vs. Test Data](#sec1.4)\n",
    "\n",
    "1. [User Agnostic POI Ranking](#sec2)\n",
    "  1. [POI Features for Ranking](#sec2.1)\n",
    "  1. [Training DataFrame](#sec2.2)\n",
    "  1. [Test DataFrame](#sec2.3)\n",
    "  1. [Ranking POIs using rankSVM](#sec2.4)\n",
    "\n",
    "1. [Factorise Transition Probabilities in POI Feature Space](#sec3)\n",
    "  1. [POI Features for Factorisation](#sec3.1)\n",
    "  1. [Transition Matrix between POI Cateogries](#sec3.2)\n",
    "  1. [Transition Matrix between POI Popularity Classes](#sec3.3)\n",
    "  1. [Transition Matrix between POI Average Visit Duration Classes](#sec3.4)\n",
    "  1. [Transition Matrix between POI Neighborhood Classes](#sec3.5)\n",
    "  1. [Transition Matrix between POIs](#sec3.6)\n",
    "\n",
    "1. [Combine Ranking with Factorised Markov Chain to Recommend](#sec4)\n",
    "1. [IJCAI15 Methods](#sec5)\n",
    "1. [Comparison](#sec6)\n",
    "  1. [Leave-one-out cross validation (user specific)](#sec6.1)"
   ]
  },
  {
   "cell_type": "markdown",
   "metadata": {},
   "source": [
    "<a id='sec1'></a>"
   ]
  },
  {
   "cell_type": "markdown",
   "metadata": {},
   "source": [
    "# 1. Preprocess Dataset"
   ]
  },
  {
   "cell_type": "code",
   "execution_count": 1,
   "metadata": {
    "collapsed": false
   },
   "outputs": [],
   "source": [
    "% matplotlib inline\n",
    "\n",
    "import os, re, sys, time, pickle, tempfile\n",
    "import math, random, itertools, scipy\n",
    "import pandas as pd\n",
    "import numpy as np\n",
    "import matplotlib.pyplot as plt\n",
    "import scipy.optimize as sop\n",
    "from scipy.linalg import kron\n",
    "from scipy.misc import logsumexp\n",
    "from joblib import Parallel, delayed\n",
    "from numba import jit\n",
    "from sklearn.cluster import KMeans\n",
    "import seaborn as sns\n",
    "import pulp"
   ]
  },
  {
   "cell_type": "code",
   "execution_count": 2,
   "metadata": {
    "collapsed": true
   },
   "outputs": [],
   "source": [
    "random.seed(987654321) # control random choice when splitting training/testing set\n",
    "np.random.seed(987654321)\n",
    "ranksvm_dir = '$HOME/work/ranksvm'"
   ]
  },
  {
   "cell_type": "code",
   "execution_count": 3,
   "metadata": {
    "collapsed": true
   },
   "outputs": [],
   "source": [
    "def print_progress(cnt, total):\n",
    "    \"\"\"\n",
    "    Display a progress bar.\n",
    "    \"\"\"\n",
    "    assert(cnt > 0 and total > 0 and cnt <= total)\n",
    "    length = 80\n",
    "    ratio = cnt / total\n",
    "    n = int(length * ratio)\n",
    "    sys.stdout.write('\\r[%-80s] %d%%' % ('-'*n, int(ratio*100)))\n",
    "    sys.stdout.flush()"
   ]
  },
  {
   "cell_type": "code",
   "execution_count": 4,
   "metadata": {
    "collapsed": true
   },
   "outputs": [],
   "source": [
    "data_dir = 'data/data-ijcai15'\n",
    "#fvisit = os.path.join(data_dir, 'userVisits-Osak.csv')\n",
    "#fcoord = os.path.join(data_dir, 'photoCoords-Osak.csv')\n",
    "#fvisit = os.path.join(data_dir, 'userVisits-Glas.csv')\n",
    "#fcoord = os.path.join(data_dir, 'photoCoords-Glas.csv')\n",
    "#fvisit = os.path.join(data_dir, 'userVisits-Edin.csv')\n",
    "#fcoord = os.path.join(data_dir, 'photoCoords-Edin.csv')\n",
    "fvisit = os.path.join(data_dir, 'userVisits-Toro.csv')\n",
    "fcoord = os.path.join(data_dir, 'photoCoords-Toro.csv')"
   ]
  },
  {
   "cell_type": "code",
   "execution_count": 5,
   "metadata": {
    "collapsed": true
   },
   "outputs": [],
   "source": [
    "suffix = fvisit.split('-')[-1].split('.')[0]\n",
    "fseqpart = os.path.join(data_dir, 'seqPart-user-agnostic-' + suffix + '.pkl')\n",
    "#fF1data = os.path.join(data_dir, 'F1-combine-' + suffix + '.pkl')\n",
    "#fmlikeseq = os.path.join(data_dir, 'mlike-seq-' + suffix + '.pkl')"
   ]
  },
  {
   "cell_type": "markdown",
   "metadata": {},
   "source": [
    "<a id='sec1.1'></a>"
   ]
  },
  {
   "cell_type": "markdown",
   "metadata": {},
   "source": [
    "## 1.1 Load Data"
   ]
  },
  {
   "cell_type": "code",
   "execution_count": 6,
   "metadata": {
    "collapsed": true
   },
   "outputs": [],
   "source": [
    "visits = pd.read_csv(fvisit, sep=';')\n",
    "coords = pd.read_csv(fcoord, sep=';')\n",
    "assert(visits.shape[0] == coords.shape[0])\n",
    "traj = pd.merge(visits, coords, on='photoID') # merge data frames according to column 'photoID'\n",
    "#traj.head()"
   ]
  },
  {
   "cell_type": "code",
   "execution_count": 7,
   "metadata": {
    "collapsed": false
   },
   "outputs": [
    {
     "data": {
      "text/html": [
       "<div>\n",
       "<table border=\"1\" class=\"dataframe\">\n",
       "  <thead>\n",
       "    <tr style=\"text-align: right;\">\n",
       "      <th></th>\n",
       "      <th>#photo</th>\n",
       "      <th>#photo/user</th>\n",
       "      <th>#poi</th>\n",
       "      <th>#seq</th>\n",
       "      <th>#seq/user</th>\n",
       "      <th>#user</th>\n",
       "    </tr>\n",
       "  </thead>\n",
       "  <tbody>\n",
       "    <tr>\n",
       "      <th>Toro</th>\n",
       "      <td>39419</td>\n",
       "      <td>28.257348</td>\n",
       "      <td>29</td>\n",
       "      <td>6057</td>\n",
       "      <td>4.341935</td>\n",
       "      <td>1395</td>\n",
       "    </tr>\n",
       "  </tbody>\n",
       "</table>\n",
       "</div>"
      ],
      "text/plain": [
       "      #photo  #photo/user  #poi  #seq  #seq/user  #user\n",
       "Toro   39419    28.257348    29  6057   4.341935   1395"
      ]
     },
     "execution_count": 7,
     "metadata": {},
     "output_type": "execute_result"
    }
   ],
   "source": [
    "num_photo = traj['photoID'].unique().shape[0]\n",
    "num_user = traj['userID'].unique().shape[0]\n",
    "num_poi = traj['poiID'].unique().shape[0]\n",
    "num_seq = traj['seqID'].unique().shape[0]\n",
    "pd.DataFrame({'#photo': num_photo, '#user': num_user, '#poi': num_poi, '#seq': num_seq, \\\n",
    "              '#photo/user': num_photo/num_user, '#seq/user': num_seq/num_user}, index=[str(suffix)])"
   ]
  },
  {
   "cell_type": "markdown",
   "metadata": {},
   "source": [
    "<a id='sec1.2'></a>"
   ]
  },
  {
   "cell_type": "markdown",
   "metadata": {},
   "source": [
    "## 1.2 Compute POI Information"
   ]
  },
  {
   "cell_type": "markdown",
   "metadata": {},
   "source": [
    "Compute POI (Longitude, Latitude) as the average coordinates of the assigned photos."
   ]
  },
  {
   "cell_type": "code",
   "execution_count": 8,
   "metadata": {
    "collapsed": true
   },
   "outputs": [],
   "source": [
    "poi_coords = traj[['poiID', 'photoLon', 'photoLat']].groupby('poiID').mean()\n",
    "poi_coords.reset_index(inplace=True)\n",
    "poi_coords.rename(columns={'photoLon':'poiLon', 'photoLat':'poiLat'}, inplace=True)"
   ]
  },
  {
   "cell_type": "markdown",
   "metadata": {},
   "source": [
    "Extract POI category and visiting frequency."
   ]
  },
  {
   "cell_type": "code",
   "execution_count": 9,
   "metadata": {
    "collapsed": true
   },
   "outputs": [],
   "source": [
    "poi_catfreq = traj[['poiID', 'poiTheme', 'poiFreq']].groupby('poiID').first()\n",
    "poi_catfreq.reset_index(inplace=True)"
   ]
  },
  {
   "cell_type": "code",
   "execution_count": 10,
   "metadata": {
    "collapsed": false
   },
   "outputs": [
    {
     "data": {
      "text/html": [
       "<div>\n",
       "<table border=\"1\" class=\"dataframe\">\n",
       "  <thead>\n",
       "    <tr style=\"text-align: right;\">\n",
       "      <th></th>\n",
       "      <th>poiTheme</th>\n",
       "      <th>poiFreq</th>\n",
       "      <th>poiLon</th>\n",
       "      <th>poiLat</th>\n",
       "    </tr>\n",
       "    <tr>\n",
       "      <th>poiID</th>\n",
       "      <th></th>\n",
       "      <th></th>\n",
       "      <th></th>\n",
       "      <th></th>\n",
       "    </tr>\n",
       "  </thead>\n",
       "  <tbody>\n",
       "    <tr>\n",
       "      <th>1</th>\n",
       "      <td>Sport</td>\n",
       "      <td>3506</td>\n",
       "      <td>-79.379243</td>\n",
       "      <td>43.643183</td>\n",
       "    </tr>\n",
       "    <tr>\n",
       "      <th>2</th>\n",
       "      <td>Sport</td>\n",
       "      <td>609</td>\n",
       "      <td>-79.418634</td>\n",
       "      <td>43.632772</td>\n",
       "    </tr>\n",
       "    <tr>\n",
       "      <th>3</th>\n",
       "      <td>Sport</td>\n",
       "      <td>688</td>\n",
       "      <td>-79.380045</td>\n",
       "      <td>43.662175</td>\n",
       "    </tr>\n",
       "    <tr>\n",
       "      <th>4</th>\n",
       "      <td>Sport</td>\n",
       "      <td>3056</td>\n",
       "      <td>-79.389290</td>\n",
       "      <td>43.641297</td>\n",
       "    </tr>\n",
       "    <tr>\n",
       "      <th>6</th>\n",
       "      <td>Cultural</td>\n",
       "      <td>986</td>\n",
       "      <td>-79.392396</td>\n",
       "      <td>43.653662</td>\n",
       "    </tr>\n",
       "  </tbody>\n",
       "</table>\n",
       "</div>"
      ],
      "text/plain": [
       "       poiTheme  poiFreq     poiLon     poiLat\n",
       "poiID                                         \n",
       "1         Sport     3506 -79.379243  43.643183\n",
       "2         Sport      609 -79.418634  43.632772\n",
       "3         Sport      688 -79.380045  43.662175\n",
       "4         Sport     3056 -79.389290  43.641297\n",
       "6      Cultural      986 -79.392396  43.653662"
      ]
     },
     "execution_count": 10,
     "metadata": {},
     "output_type": "execute_result"
    }
   ],
   "source": [
    "poi_all = pd.merge(poi_catfreq, poi_coords, on='poiID')\n",
    "poi_all.set_index('poiID', inplace=True)\n",
    "poi_all.head()\n",
    "#poi_all.to_csv(fpoi, index=True)"
   ]
  },
  {
   "cell_type": "markdown",
   "metadata": {},
   "source": [
    "<a id='sec1.3'></a>"
   ]
  },
  {
   "cell_type": "markdown",
   "metadata": {},
   "source": [
    "## 1.3 Construct Travelling Sequences"
   ]
  },
  {
   "cell_type": "code",
   "execution_count": 11,
   "metadata": {
    "collapsed": false
   },
   "outputs": [
    {
     "data": {
      "text/html": [
       "<div>\n",
       "<table border=\"1\" class=\"dataframe\">\n",
       "  <thead>\n",
       "    <tr style=\"text-align: right;\">\n",
       "      <th></th>\n",
       "      <th>userID</th>\n",
       "      <th>seqID</th>\n",
       "      <th>poiID</th>\n",
       "      <th>arrivalTime</th>\n",
       "      <th>departureTime</th>\n",
       "      <th>#photo</th>\n",
       "      <th>poiDuration(sec)</th>\n",
       "    </tr>\n",
       "  </thead>\n",
       "  <tbody>\n",
       "    <tr>\n",
       "      <th>0</th>\n",
       "      <td>10007579@N00</td>\n",
       "      <td>1</td>\n",
       "      <td>30</td>\n",
       "      <td>1346844688</td>\n",
       "      <td>1346844688</td>\n",
       "      <td>1</td>\n",
       "      <td>0</td>\n",
       "    </tr>\n",
       "    <tr>\n",
       "      <th>1</th>\n",
       "      <td>10012675@N05</td>\n",
       "      <td>2</td>\n",
       "      <td>6</td>\n",
       "      <td>1142731848</td>\n",
       "      <td>1142732445</td>\n",
       "      <td>4</td>\n",
       "      <td>597</td>\n",
       "    </tr>\n",
       "    <tr>\n",
       "      <th>2</th>\n",
       "      <td>10012675@N05</td>\n",
       "      <td>3</td>\n",
       "      <td>6</td>\n",
       "      <td>1142916492</td>\n",
       "      <td>1142916492</td>\n",
       "      <td>1</td>\n",
       "      <td>0</td>\n",
       "    </tr>\n",
       "    <tr>\n",
       "      <th>3</th>\n",
       "      <td>10012675@N05</td>\n",
       "      <td>4</td>\n",
       "      <td>13</td>\n",
       "      <td>1319327174</td>\n",
       "      <td>1319332848</td>\n",
       "      <td>9</td>\n",
       "      <td>5674</td>\n",
       "    </tr>\n",
       "    <tr>\n",
       "      <th>4</th>\n",
       "      <td>10014440@N06</td>\n",
       "      <td>5</td>\n",
       "      <td>24</td>\n",
       "      <td>1196128621</td>\n",
       "      <td>1196128878</td>\n",
       "      <td>3</td>\n",
       "      <td>257</td>\n",
       "    </tr>\n",
       "  </tbody>\n",
       "</table>\n",
       "</div>"
      ],
      "text/plain": [
       "         userID  seqID  poiID  arrivalTime  departureTime  #photo  \\\n",
       "0  10007579@N00      1     30   1346844688     1346844688       1   \n",
       "1  10012675@N05      2      6   1142731848     1142732445       4   \n",
       "2  10012675@N05      3      6   1142916492     1142916492       1   \n",
       "3  10012675@N05      4     13   1319327174     1319332848       9   \n",
       "4  10014440@N06      5     24   1196128621     1196128878       3   \n",
       "\n",
       "   poiDuration(sec)  \n",
       "0                 0  \n",
       "1               597  \n",
       "2                 0  \n",
       "3              5674  \n",
       "4               257  "
      ]
     },
     "execution_count": 11,
     "metadata": {},
     "output_type": "execute_result"
    }
   ],
   "source": [
    "seq_all = traj[['userID', 'seqID', 'poiID', 'dateTaken']].copy().groupby(['userID', 'seqID', 'poiID'])\\\n",
    "          .agg([np.min, np.max, np.size])\n",
    "seq_all.columns = seq_all.columns.droplevel()\n",
    "seq_all.reset_index(inplace=True)\n",
    "seq_all.rename(columns={'amin':'arrivalTime', 'amax':'departureTime', 'size':'#photo'}, inplace=True)\n",
    "seq_all['poiDuration(sec)'] = seq_all['departureTime'] - seq_all['arrivalTime']\n",
    "seq_all.head()"
   ]
  },
  {
   "cell_type": "markdown",
   "metadata": {},
   "source": [
    "~~**Filtering out** a visit of POI with $0$ duration, i.e. only one photo was taken.~~"
   ]
  },
  {
   "cell_type": "code",
   "execution_count": 12,
   "metadata": {
    "collapsed": false
   },
   "outputs": [],
   "source": [
    "#seq_all = seq_all[seq_all['#photo'] > 1]\n",
    "#seq_all.head()"
   ]
  },
  {
   "cell_type": "code",
   "execution_count": 13,
   "metadata": {
    "collapsed": false
   },
   "outputs": [],
   "source": [
    "seq_stats = seq_all[['userID', 'seqID', 'poiID']].copy().groupby(['userID', 'seqID']).agg(np.size)\n",
    "seq_stats.reset_index(inplace=True)\n",
    "seq_stats.rename(columns={'poiID':'seqLen'}, inplace=True)\n",
    "seq_stats.set_index('seqID', inplace=True)\n",
    "#seq_stats.head()"
   ]
  },
  {
   "cell_type": "code",
   "execution_count": 14,
   "metadata": {
    "collapsed": false
   },
   "outputs": [
    {
     "data": {
      "text/html": [
       "<div>\n",
       "<table border=\"1\" class=\"dataframe\">\n",
       "  <thead>\n",
       "    <tr style=\"text-align: right;\">\n",
       "      <th></th>\n",
       "      <th>userID</th>\n",
       "      <th>seqLen</th>\n",
       "    </tr>\n",
       "    <tr>\n",
       "      <th>seqID</th>\n",
       "      <th></th>\n",
       "      <th></th>\n",
       "    </tr>\n",
       "  </thead>\n",
       "  <tbody>\n",
       "    <tr>\n",
       "      <th>2</th>\n",
       "      <td>10012675@N05</td>\n",
       "      <td>1</td>\n",
       "    </tr>\n",
       "    <tr>\n",
       "      <th>3</th>\n",
       "      <td>10012675@N05</td>\n",
       "      <td>1</td>\n",
       "    </tr>\n",
       "    <tr>\n",
       "      <th>4</th>\n",
       "      <td>10012675@N05</td>\n",
       "      <td>1</td>\n",
       "    </tr>\n",
       "  </tbody>\n",
       "</table>\n",
       "</div>"
      ],
      "text/plain": [
       "             userID  seqLen\n",
       "seqID                      \n",
       "2      10012675@N05       1\n",
       "3      10012675@N05       1\n",
       "4      10012675@N05       1"
      ]
     },
     "execution_count": 14,
     "metadata": {},
     "output_type": "execute_result"
    }
   ],
   "source": [
    "seq_stats[seq_stats['userID'] == '10012675@N05']#.index"
   ]
  },
  {
   "cell_type": "markdown",
   "metadata": {},
   "source": [
    "Start time of each sequence."
   ]
  },
  {
   "cell_type": "code",
   "execution_count": 15,
   "metadata": {
    "collapsed": false
   },
   "outputs": [],
   "source": [
    "seq_starttime = seq_all[['userID', 'seqID', 'arrivalTime']].copy().groupby(['userID', 'seqID']).agg(np.min)\n",
    "seq_starttime.reset_index(inplace=True)\n",
    "seq_starttime.rename(columns={'arrivalTime':'startTime'}, inplace=True)\n",
    "seq_starttime.set_index('seqID', inplace=True)\n",
    "#seq_starttime.head()"
   ]
  },
  {
   "cell_type": "code",
   "execution_count": 16,
   "metadata": {
    "collapsed": false
   },
   "outputs": [
    {
     "data": {
      "text/html": [
       "<div>\n",
       "<table border=\"1\" class=\"dataframe\">\n",
       "  <thead>\n",
       "    <tr style=\"text-align: right;\">\n",
       "      <th></th>\n",
       "      <th>userID</th>\n",
       "      <th>seqLen</th>\n",
       "      <th>startTime</th>\n",
       "    </tr>\n",
       "    <tr>\n",
       "      <th>seqID</th>\n",
       "      <th></th>\n",
       "      <th></th>\n",
       "      <th></th>\n",
       "    </tr>\n",
       "  </thead>\n",
       "  <tbody>\n",
       "    <tr>\n",
       "      <th>1</th>\n",
       "      <td>10007579@N00</td>\n",
       "      <td>1</td>\n",
       "      <td>1346844688</td>\n",
       "    </tr>\n",
       "    <tr>\n",
       "      <th>2</th>\n",
       "      <td>10012675@N05</td>\n",
       "      <td>1</td>\n",
       "      <td>1142731848</td>\n",
       "    </tr>\n",
       "    <tr>\n",
       "      <th>3</th>\n",
       "      <td>10012675@N05</td>\n",
       "      <td>1</td>\n",
       "      <td>1142916492</td>\n",
       "    </tr>\n",
       "    <tr>\n",
       "      <th>4</th>\n",
       "      <td>10012675@N05</td>\n",
       "      <td>1</td>\n",
       "      <td>1319327174</td>\n",
       "    </tr>\n",
       "    <tr>\n",
       "      <th>5</th>\n",
       "      <td>10014440@N06</td>\n",
       "      <td>1</td>\n",
       "      <td>1196128621</td>\n",
       "    </tr>\n",
       "  </tbody>\n",
       "</table>\n",
       "</div>"
      ],
      "text/plain": [
       "             userID  seqLen   startTime\n",
       "seqID                                  \n",
       "1      10007579@N00       1  1346844688\n",
       "2      10012675@N05       1  1142731848\n",
       "3      10012675@N05       1  1142916492\n",
       "4      10012675@N05       1  1319327174\n",
       "5      10014440@N06       1  1196128621"
      ]
     },
     "execution_count": 16,
     "metadata": {},
     "output_type": "execute_result"
    }
   ],
   "source": [
    "seq_stats['startTime'] = seq_starttime.loc[seq_stats.index, 'startTime']\n",
    "seq_stats.head()"
   ]
  },
  {
   "cell_type": "markdown",
   "metadata": {},
   "source": [
    "~~**Filtering out** sequences that are too short or too long.~~"
   ]
  },
  {
   "cell_type": "code",
   "execution_count": 17,
   "metadata": {
    "collapsed": false
   },
   "outputs": [],
   "source": [
    "#seq_stats = seq_stats[seq_stats['seqLen'] > 2]\n",
    "#seq_stats = seq_stats[seq_stats['seqLen'] < 10]\n",
    "#seq_stats.head()"
   ]
  },
  {
   "cell_type": "code",
   "execution_count": 18,
   "metadata": {
    "collapsed": false
   },
   "outputs": [
    {
     "data": {
      "text/plain": [
       "(6057, 3)"
      ]
     },
     "execution_count": 18,
     "metadata": {},
     "output_type": "execute_result"
    }
   ],
   "source": [
    "seq_stats.shape"
   ]
  },
  {
   "cell_type": "code",
   "execution_count": 19,
   "metadata": {
    "collapsed": false
   },
   "outputs": [
    {
     "data": {
      "text/plain": [
       "(1395,)"
      ]
     },
     "execution_count": 19,
     "metadata": {},
     "output_type": "execute_result"
    }
   ],
   "source": [
    "seq_stats['userID'].unique().shape"
   ]
  },
  {
   "cell_type": "code",
   "execution_count": 20,
   "metadata": {
    "collapsed": true
   },
   "outputs": [],
   "source": [
    "def extract_seq(seqid, seq_all):\n",
    "    seqi = seq_all[seq_all['seqID'] == seqid].copy()\n",
    "    seqi.sort_values(by=['arrivalTime'], ascending=True, inplace=True)\n",
    "    return seqi['poiID'].tolist()"
   ]
  },
  {
   "cell_type": "code",
   "execution_count": 21,
   "metadata": {
    "collapsed": true
   },
   "outputs": [],
   "source": [
    "def calc_poi_info(seqid_set, seq_all, poi_all):\n",
    "    #poi_info = seq_all[seq_all['seqID'].isin(seqid_set)][['poiID', 'poiDuration(sec)']].copy() \n",
    "    poi_info = seq_all[seq_all['seqID'] == seqid_set[0]][['poiID', 'poiDuration(sec)']].copy() \n",
    "    for i in range(1, len(seqid_set)):  # to allow duplicated seqid\n",
    "        seqi = seq_all[seq_all['seqID'] == seqid_set[i]][['poiID', 'poiDuration(sec)']]\n",
    "        poi_info = poi_info.append(seqi, ignore_index=True)\n",
    "        \n",
    "    poi_info = poi_info.groupby('poiID').agg([np.mean, np.size])\n",
    "    poi_info.columns = poi_info.columns.droplevel()\n",
    "    poi_info.reset_index(inplace=True)\n",
    "    poi_info.rename(columns={'mean':'avgDuration(sec)', 'size':'nVisit'}, inplace=True)\n",
    "    poi_info.set_index('poiID', inplace=True) \n",
    "    poi_info['poiTheme'] = poi_all.loc[poi_info.index, 'poiTheme']\n",
    "    poi_info['poiLon'] = poi_all.loc[poi_info.index, 'poiLon']\n",
    "    poi_info['poiLat'] = poi_all.loc[poi_info.index, 'poiLat']\n",
    "    \n",
    "    # POI popularity: the number of distinct users that visited the POI\n",
    "    pop_df = seq_all[seq_all['seqID'].isin(seqid_set)][['poiID', 'userID']].copy()\n",
    "    pop_df = pop_df.groupby('poiID').agg(pd.Series.nunique)\n",
    "    pop_df.rename(columns={'userID':'nunique'}, inplace=True)\n",
    "    poi_info['popularity'] = pop_df.loc[poi_info.index, 'nunique']\n",
    "    \n",
    "    return poi_info.copy()"
   ]
  },
  {
   "cell_type": "markdown",
   "metadata": {},
   "source": [
    "<a id='sec1.4'></a>"
   ]
  },
  {
   "cell_type": "markdown",
   "metadata": {},
   "source": [
    "## 1.4 Train vs. Test Data"
   ]
  },
  {
   "cell_type": "markdown",
   "metadata": {},
   "source": [
    "~~Remove duplicate trajectories, i.e. same trajectory for different users.~~"
   ]
  },
  {
   "cell_type": "code",
   "execution_count": 22,
   "metadata": {
    "collapsed": true
   },
   "outputs": [],
   "source": [
    "#seqid_set_ = seq_stats.index.tolist()\n",
    "#seq_dict = dict()\n",
    "#for seqid in seqid_set_:\n",
    "#    seq = extract_seq(seqid, seq_all)\n",
    "#    key = str(seq)\n",
    "#    if key in seq_dict: seq_dict[key].append(seqid)\n",
    "#    else: seq_dict[key] = [seqid]"
   ]
  },
  {
   "cell_type": "code",
   "execution_count": 23,
   "metadata": {
    "collapsed": false
   },
   "outputs": [],
   "source": [
    "#len(seqid_set_)"
   ]
  },
  {
   "cell_type": "code",
   "execution_count": 24,
   "metadata": {
    "collapsed": true
   },
   "outputs": [],
   "source": [
    "#seqid_set_exp = [seq_dict[x][0] for x in sorted(seq_dict.keys())]"
   ]
  },
  {
   "cell_type": "code",
   "execution_count": 25,
   "metadata": {
    "collapsed": false
   },
   "outputs": [],
   "source": [
    "#len(seqid_set_exp)"
   ]
  },
  {
   "cell_type": "code",
   "execution_count": 26,
   "metadata": {
    "collapsed": true
   },
   "outputs": [],
   "source": [
    "seqid_set_exp = sorted(seq_all['seqID'].unique().tolist())"
   ]
  },
  {
   "cell_type": "markdown",
   "metadata": {},
   "source": [
    "Define a *query* (in IR terminology) using tuple (start POI, end POI, #POI) ~~user ID.~~"
   ]
  },
  {
   "cell_type": "code",
   "execution_count": 27,
   "metadata": {
    "collapsed": true
   },
   "outputs": [],
   "source": [
    "query_id_dict = dict()  # (start, end, length) --> qid"
   ]
  },
  {
   "cell_type": "code",
   "execution_count": 28,
   "metadata": {
    "collapsed": true
   },
   "outputs": [],
   "source": [
    "seqs_exp = [extract_seq(seqid, seq_all) for seqid in seqid_set_exp]\n",
    "keys = [(seq[0], seq[-1], len(seq)) for seq in seqs_exp if len(seq) > 2]\n",
    "cnt = 0\n",
    "for key in keys:\n",
    "    if key not in query_id_dict:   # (start, end, length) --> qid\n",
    "        query_id_dict[key] = cnt\n",
    "        cnt += 1"
   ]
  },
  {
   "cell_type": "code",
   "execution_count": 29,
   "metadata": {
    "collapsed": false
   },
   "outputs": [
    {
     "name": "stdout",
     "output_type": "stream",
     "text": [
      "232\n"
     ]
    }
   ],
   "source": [
    "print(len(query_id_dict))"
   ]
  },
  {
   "cell_type": "markdown",
   "metadata": {},
   "source": [
    "Random split trajectories for training and testing.  \n",
    "Make sure all POIs in test set are covered in trajectories for training."
   ]
  },
  {
   "cell_type": "code",
   "execution_count": 30,
   "metadata": {
    "collapsed": true
   },
   "outputs": [],
   "source": [
    "train_percent = 0.67\n",
    "seqid_set_train0 = []\n",
    "seqid_set_test0 = []"
   ]
  },
  {
   "cell_type": "code",
   "execution_count": 31,
   "metadata": {
    "collapsed": true
   },
   "outputs": [],
   "source": [
    "if os.path.exists(fseqpart):\n",
    "    (seqid_set_train0, seqid_set_test0) = pickle.load(open(fseqpart, 'rb'))\n",
    "else:\n",
    "    ntrain = int(train_percent * len(seqid_set_exp))\n",
    "    while True:\n",
    "        np.random.shuffle(seqid_set_exp)\n",
    "\n",
    "        seqid_set_train0 = sorted(list(seqid_set_exp[:ntrain]))\n",
    "        seqid_set_test0 = sorted(list(seqid_set_exp[ntrain:]))\n",
    "        poi_train = seq_all[seq_all['seqID'].isin(seqid_set_train0)]['poiID'].unique().tolist()\n",
    "        poi_test  = seq_all[seq_all['seqID'].isin(seqid_set_test0)]['poiID'].unique().tolist()\n",
    "        if len(set(poi_test)) == len(set(poi_train) & set(poi_test)):\n",
    "            pickle.dump((seqid_set_train0, seqid_set_test0), open(fseqpart, 'wb'))\n",
    "            break"
   ]
  },
  {
   "cell_type": "code",
   "execution_count": 32,
   "metadata": {
    "collapsed": false
   },
   "outputs": [
    {
     "name": "stdout",
     "output_type": "stream",
     "text": [
      "#seq in total: 6057\n",
      "#seq for training: 4058\n",
      "#seq for testing: 1999\n",
      "#query tuple: 232\n"
     ]
    }
   ],
   "source": [
    "print('#seq in total:', len(seqid_set_exp))\n",
    "print('#seq for training:', len(seqid_set_train0))\n",
    "print('#seq for testing:', len(seqid_set_test0))\n",
    "print('#query tuple:', len(query_id_dict))"
   ]
  },
  {
   "cell_type": "markdown",
   "metadata": {},
   "source": [
    "<a id='sec2'></a>"
   ]
  },
  {
   "cell_type": "markdown",
   "metadata": {},
   "source": [
    "# 2. POI Ranking"
   ]
  },
  {
   "cell_type": "markdown",
   "metadata": {},
   "source": [
    "<a id='sec2.1'></a>"
   ]
  },
  {
   "cell_type": "markdown",
   "metadata": {},
   "source": [
    "## 2.1 POI Features for Ranking"
   ]
  },
  {
   "cell_type": "markdown",
   "metadata": {},
   "source": [
    "POI Features used for ranking:\n",
    "1. `popularity`: POI popularity, i.e., the number of distinct users that visited the POI\n",
    "1. `nVisit`: the total number of visit by all users\n",
    "1. `avgDuration`: average POI visit duration\n",
    "1. `sameCatStart`: 1 if POI category is the same as that of `startPOI`, -1 otherwise\n",
    "1. `sameCatEnd`: 1 if POI category is the same as that of `endPOI`, -1 otherwise\n",
    "1. `distStart`: distance (haversine formula) from `startPOI`\n",
    "1. `distEnd`: distance from `endPOI`\n",
    "1. `seqLen`: trajectory length (copy from query)\n",
    "1. `diffPopStart`: difference in POI popularity from `startPOI`\n",
    "1. `diffPopEnd`: difference in POI popularity from `endPOI`\n",
    "1. `diffNVisitStart`: difference in the total number of visit from `startPOI`\n",
    "1. `diffNVisitEnd`: difference in the total number of visit from `endPOI`\n",
    "1. `diffDurationStart`: difference in average POI visit duration from the actual duration spent at `startPOI`\n",
    "1. `diffDurationEnd`: difference in average POI visit duration from the actual duration spent at `endPOI`"
   ]
  },
  {
   "cell_type": "code",
   "execution_count": 33,
   "metadata": {
    "collapsed": true
   },
   "outputs": [],
   "source": [
    "df_columns = ['poiID', 'label', 'queryID', 'popularity', 'nVisit', 'avgDuration(sec)', \\\n",
    "              'sameCatStart', 'sameCatEnd', 'distStart', 'distEnd', 'seqLen', 'diffPopStart', \\\n",
    "              'diffPopEnd', 'diffNVisitStart', 'diffNVisitEnd', 'diffDurationStart', 'diffDurationEnd']"
   ]
  },
  {
   "cell_type": "markdown",
   "metadata": {},
   "source": [
    "Features aggregated from a number of trajectories:\n",
    "1. Compute POI `popularity` and average visit `duration` using all trajectories from training and querying set,\n",
    "1. Use the same features that computed above for the test set, except the distance based features."
   ]
  },
  {
   "cell_type": "code",
   "execution_count": 34,
   "metadata": {
    "collapsed": false
   },
   "outputs": [
    {
     "name": "stdout",
     "output_type": "stream",
     "text": [
      "(29, 6)\n"
     ]
    }
   ],
   "source": [
    "poi_info_t = calc_poi_info(seqid_set_train0, seq_all, poi_all)\n",
    "print(poi_info_t.shape)"
   ]
  },
  {
   "cell_type": "code",
   "execution_count": 35,
   "metadata": {
    "collapsed": false
   },
   "outputs": [
    {
     "data": {
      "text/html": [
       "<div>\n",
       "<table border=\"1\" class=\"dataframe\">\n",
       "  <thead>\n",
       "    <tr style=\"text-align: right;\">\n",
       "      <th></th>\n",
       "      <th>avgDuration(sec)</th>\n",
       "      <th>nVisit</th>\n",
       "      <th>poiTheme</th>\n",
       "      <th>poiLon</th>\n",
       "      <th>poiLat</th>\n",
       "      <th>popularity</th>\n",
       "    </tr>\n",
       "    <tr>\n",
       "      <th>poiID</th>\n",
       "      <th></th>\n",
       "      <th></th>\n",
       "      <th></th>\n",
       "      <th></th>\n",
       "      <th></th>\n",
       "      <th></th>\n",
       "    </tr>\n",
       "  </thead>\n",
       "  <tbody>\n",
       "    <tr>\n",
       "      <th>1</th>\n",
       "      <td>2426.128866</td>\n",
       "      <td>194</td>\n",
       "      <td>Sport</td>\n",
       "      <td>-79.379243</td>\n",
       "      <td>43.643183</td>\n",
       "      <td>91</td>\n",
       "    </tr>\n",
       "    <tr>\n",
       "      <th>2</th>\n",
       "      <td>2348.842105</td>\n",
       "      <td>57</td>\n",
       "      <td>Sport</td>\n",
       "      <td>-79.418634</td>\n",
       "      <td>43.632772</td>\n",
       "      <td>44</td>\n",
       "    </tr>\n",
       "    <tr>\n",
       "      <th>3</th>\n",
       "      <td>1210.301471</td>\n",
       "      <td>136</td>\n",
       "      <td>Sport</td>\n",
       "      <td>-79.380045</td>\n",
       "      <td>43.662175</td>\n",
       "      <td>66</td>\n",
       "    </tr>\n",
       "    <tr>\n",
       "      <th>4</th>\n",
       "      <td>5314.463830</td>\n",
       "      <td>235</td>\n",
       "      <td>Sport</td>\n",
       "      <td>-79.389290</td>\n",
       "      <td>43.641297</td>\n",
       "      <td>124</td>\n",
       "    </tr>\n",
       "    <tr>\n",
       "      <th>6</th>\n",
       "      <td>1369.454148</td>\n",
       "      <td>229</td>\n",
       "      <td>Cultural</td>\n",
       "      <td>-79.392396</td>\n",
       "      <td>43.653662</td>\n",
       "      <td>153</td>\n",
       "    </tr>\n",
       "    <tr>\n",
       "      <th>7</th>\n",
       "      <td>1508.864307</td>\n",
       "      <td>339</td>\n",
       "      <td>Cultural</td>\n",
       "      <td>-79.377327</td>\n",
       "      <td>43.647151</td>\n",
       "      <td>188</td>\n",
       "    </tr>\n",
       "    <tr>\n",
       "      <th>8</th>\n",
       "      <td>3010.233333</td>\n",
       "      <td>150</td>\n",
       "      <td>Cultural</td>\n",
       "      <td>-79.385349</td>\n",
       "      <td>43.642385</td>\n",
       "      <td>118</td>\n",
       "    </tr>\n",
       "    <tr>\n",
       "      <th>9</th>\n",
       "      <td>4420.000000</td>\n",
       "      <td>27</td>\n",
       "      <td>Cultural</td>\n",
       "      <td>-79.339170</td>\n",
       "      <td>43.716447</td>\n",
       "      <td>20</td>\n",
       "    </tr>\n",
       "    <tr>\n",
       "      <th>10</th>\n",
       "      <td>2416.740000</td>\n",
       "      <td>50</td>\n",
       "      <td>Cultural</td>\n",
       "      <td>-79.361107</td>\n",
       "      <td>43.667067</td>\n",
       "      <td>22</td>\n",
       "    </tr>\n",
       "    <tr>\n",
       "      <th>11</th>\n",
       "      <td>2513.509036</td>\n",
       "      <td>332</td>\n",
       "      <td>Cultural</td>\n",
       "      <td>-79.394458</td>\n",
       "      <td>43.667183</td>\n",
       "      <td>199</td>\n",
       "    </tr>\n",
       "    <tr>\n",
       "      <th>12</th>\n",
       "      <td>3116.942308</td>\n",
       "      <td>52</td>\n",
       "      <td>Cultural</td>\n",
       "      <td>-79.182211</td>\n",
       "      <td>43.820080</td>\n",
       "      <td>30</td>\n",
       "    </tr>\n",
       "    <tr>\n",
       "      <th>13</th>\n",
       "      <td>1998.628205</td>\n",
       "      <td>78</td>\n",
       "      <td>Cultural</td>\n",
       "      <td>-79.409364</td>\n",
       "      <td>43.678157</td>\n",
       "      <td>67</td>\n",
       "    </tr>\n",
       "    <tr>\n",
       "      <th>14</th>\n",
       "      <td>618.000000</td>\n",
       "      <td>24</td>\n",
       "      <td>Amusement</td>\n",
       "      <td>-79.417001</td>\n",
       "      <td>43.633924</td>\n",
       "      <td>19</td>\n",
       "    </tr>\n",
       "    <tr>\n",
       "      <th>15</th>\n",
       "      <td>946.857143</td>\n",
       "      <td>28</td>\n",
       "      <td>Amusement</td>\n",
       "      <td>-79.373573</td>\n",
       "      <td>43.619836</td>\n",
       "      <td>26</td>\n",
       "    </tr>\n",
       "    <tr>\n",
       "      <th>16</th>\n",
       "      <td>3030.079412</td>\n",
       "      <td>340</td>\n",
       "      <td>Amusement</td>\n",
       "      <td>-79.387065</td>\n",
       "      <td>43.642849</td>\n",
       "      <td>268</td>\n",
       "    </tr>\n",
       "    <tr>\n",
       "      <th>17</th>\n",
       "      <td>7800.866667</td>\n",
       "      <td>30</td>\n",
       "      <td>Amusement</td>\n",
       "      <td>-79.416011</td>\n",
       "      <td>43.632563</td>\n",
       "      <td>24</td>\n",
       "    </tr>\n",
       "    <tr>\n",
       "      <th>18</th>\n",
       "      <td>455.250000</td>\n",
       "      <td>8</td>\n",
       "      <td>Amusement</td>\n",
       "      <td>-79.450808</td>\n",
       "      <td>43.637183</td>\n",
       "      <td>8</td>\n",
       "    </tr>\n",
       "    <tr>\n",
       "      <th>19</th>\n",
       "      <td>711.157895</td>\n",
       "      <td>38</td>\n",
       "      <td>Beach</td>\n",
       "      <td>-79.378227</td>\n",
       "      <td>43.621697</td>\n",
       "      <td>31</td>\n",
       "    </tr>\n",
       "    <tr>\n",
       "      <th>20</th>\n",
       "      <td>618.157895</td>\n",
       "      <td>19</td>\n",
       "      <td>Beach</td>\n",
       "      <td>-79.462382</td>\n",
       "      <td>43.646557</td>\n",
       "      <td>16</td>\n",
       "    </tr>\n",
       "    <tr>\n",
       "      <th>21</th>\n",
       "      <td>1581.205776</td>\n",
       "      <td>554</td>\n",
       "      <td>Beach</td>\n",
       "      <td>-79.380453</td>\n",
       "      <td>43.656274</td>\n",
       "      <td>237</td>\n",
       "    </tr>\n",
       "    <tr>\n",
       "      <th>22</th>\n",
       "      <td>1840.535632</td>\n",
       "      <td>435</td>\n",
       "      <td>Beach</td>\n",
       "      <td>-79.383702</td>\n",
       "      <td>43.652478</td>\n",
       "      <td>242</td>\n",
       "    </tr>\n",
       "    <tr>\n",
       "      <th>23</th>\n",
       "      <td>1336.685393</td>\n",
       "      <td>356</td>\n",
       "      <td>Shopping</td>\n",
       "      <td>-79.379884</td>\n",
       "      <td>43.653868</td>\n",
       "      <td>199</td>\n",
       "    </tr>\n",
       "    <tr>\n",
       "      <th>24</th>\n",
       "      <td>1666.796407</td>\n",
       "      <td>167</td>\n",
       "      <td>Shopping</td>\n",
       "      <td>-79.382320</td>\n",
       "      <td>43.638621</td>\n",
       "      <td>105</td>\n",
       "    </tr>\n",
       "    <tr>\n",
       "      <th>25</th>\n",
       "      <td>1172.088235</td>\n",
       "      <td>272</td>\n",
       "      <td>Shopping</td>\n",
       "      <td>-79.401168</td>\n",
       "      <td>43.654748</td>\n",
       "      <td>154</td>\n",
       "    </tr>\n",
       "    <tr>\n",
       "      <th>26</th>\n",
       "      <td>1459.000000</td>\n",
       "      <td>21</td>\n",
       "      <td>Shopping</td>\n",
       "      <td>-79.452683</td>\n",
       "      <td>43.725761</td>\n",
       "      <td>21</td>\n",
       "    </tr>\n",
       "    <tr>\n",
       "      <th>27</th>\n",
       "      <td>897.936306</td>\n",
       "      <td>157</td>\n",
       "      <td>Shopping</td>\n",
       "      <td>-79.390935</td>\n",
       "      <td>43.670104</td>\n",
       "      <td>88</td>\n",
       "    </tr>\n",
       "    <tr>\n",
       "      <th>28</th>\n",
       "      <td>783.756458</td>\n",
       "      <td>271</td>\n",
       "      <td>Structure</td>\n",
       "      <td>-79.381184</td>\n",
       "      <td>43.652181</td>\n",
       "      <td>173</td>\n",
       "    </tr>\n",
       "    <tr>\n",
       "      <th>29</th>\n",
       "      <td>1210.480000</td>\n",
       "      <td>100</td>\n",
       "      <td>Structure</td>\n",
       "      <td>-79.391265</td>\n",
       "      <td>43.662138</td>\n",
       "      <td>77</td>\n",
       "    </tr>\n",
       "    <tr>\n",
       "      <th>30</th>\n",
       "      <td>1648.789744</td>\n",
       "      <td>390</td>\n",
       "      <td>Structure</td>\n",
       "      <td>-79.380584</td>\n",
       "      <td>43.645651</td>\n",
       "      <td>196</td>\n",
       "    </tr>\n",
       "  </tbody>\n",
       "</table>\n",
       "</div>"
      ],
      "text/plain": [
       "       avgDuration(sec)  nVisit   poiTheme     poiLon     poiLat  popularity\n",
       "poiID                                                                       \n",
       "1           2426.128866     194      Sport -79.379243  43.643183          91\n",
       "2           2348.842105      57      Sport -79.418634  43.632772          44\n",
       "3           1210.301471     136      Sport -79.380045  43.662175          66\n",
       "4           5314.463830     235      Sport -79.389290  43.641297         124\n",
       "6           1369.454148     229   Cultural -79.392396  43.653662         153\n",
       "7           1508.864307     339   Cultural -79.377327  43.647151         188\n",
       "8           3010.233333     150   Cultural -79.385349  43.642385         118\n",
       "9           4420.000000      27   Cultural -79.339170  43.716447          20\n",
       "10          2416.740000      50   Cultural -79.361107  43.667067          22\n",
       "11          2513.509036     332   Cultural -79.394458  43.667183         199\n",
       "12          3116.942308      52   Cultural -79.182211  43.820080          30\n",
       "13          1998.628205      78   Cultural -79.409364  43.678157          67\n",
       "14           618.000000      24  Amusement -79.417001  43.633924          19\n",
       "15           946.857143      28  Amusement -79.373573  43.619836          26\n",
       "16          3030.079412     340  Amusement -79.387065  43.642849         268\n",
       "17          7800.866667      30  Amusement -79.416011  43.632563          24\n",
       "18           455.250000       8  Amusement -79.450808  43.637183           8\n",
       "19           711.157895      38      Beach -79.378227  43.621697          31\n",
       "20           618.157895      19      Beach -79.462382  43.646557          16\n",
       "21          1581.205776     554      Beach -79.380453  43.656274         237\n",
       "22          1840.535632     435      Beach -79.383702  43.652478         242\n",
       "23          1336.685393     356   Shopping -79.379884  43.653868         199\n",
       "24          1666.796407     167   Shopping -79.382320  43.638621         105\n",
       "25          1172.088235     272   Shopping -79.401168  43.654748         154\n",
       "26          1459.000000      21   Shopping -79.452683  43.725761          21\n",
       "27           897.936306     157   Shopping -79.390935  43.670104          88\n",
       "28           783.756458     271  Structure -79.381184  43.652181         173\n",
       "29          1210.480000     100  Structure -79.391265  43.662138          77\n",
       "30          1648.789744     390  Structure -79.380584  43.645651         196"
      ]
     },
     "execution_count": 35,
     "metadata": {},
     "output_type": "execute_result"
    }
   ],
   "source": [
    "poi_info_t"
   ]
  },
  {
   "cell_type": "markdown",
   "metadata": {},
   "source": [
    "Compute distance between two POIs using [Haversine formula](http://en.wikipedia.org/wiki/Great-circle_distance)."
   ]
  },
  {
   "cell_type": "code",
   "execution_count": 36,
   "metadata": {
    "collapsed": true
   },
   "outputs": [],
   "source": [
    "def calc_dist(longitude1, latitude1, longitude2, latitude2):\n",
    "    \"\"\"Calculate the distance (unit: km) between two places on earth\"\"\"\n",
    "    # convert degrees to radians\n",
    "    lon1 = math.radians(longitude1)\n",
    "    lat1 = math.radians(latitude1)\n",
    "    lon2 = math.radians(longitude2)\n",
    "    lat2 = math.radians(latitude2)\n",
    "    radius = 6371.0088 # mean earth radius is 6371.009km, en.wikipedia.org/wiki/Earth_radius#Mean_radius\n",
    "    # The haversine formula, en.wikipedia.org/wiki/Great-circle_distance\n",
    "    dlon = math.fabs(lon1 - lon2)\n",
    "    dlat = math.fabs(lat1 - lat2)\n",
    "    return 2 * radius * math.asin(math.sqrt(\\\n",
    "               (math.sin(0.5*dlat))**2 + math.cos(lat1) * math.cos(lat2) * (math.sin(0.5*dlon))**2 ))"
   ]
  },
  {
   "cell_type": "markdown",
   "metadata": {},
   "source": [
    "<a id='sec2.2'></a>"
   ]
  },
  {
   "cell_type": "markdown",
   "metadata": {},
   "source": [
    "## 2.2 Training DataFrame"
   ]
  },
  {
   "cell_type": "markdown",
   "metadata": {},
   "source": [
    "Training data are generated as follows:\n",
    "1. each input tuple $(\\text{startPOI}, \\text{endPOI}, \\text{#POI})$ form a `query` (in IR terminology).\n",
    "1. the label of a specific POI is the number of presence of that POI in a specific `query`, excluding the presence as $\\text{startPOI}$ or $\\text{endPOI}$.\n",
    "1. for each `query`, the label of all absence POIs from trajectories of that `query` in training set got a label 0."
   ]
  },
  {
   "cell_type": "markdown",
   "metadata": {},
   "source": [
    "The dimension of training data matrix is `#(qid, poi)` by `#feature`."
   ]
  },
  {
   "cell_type": "code",
   "execution_count": 37,
   "metadata": {
    "collapsed": true
   },
   "outputs": [],
   "source": [
    "def gen_train_df(seqid_set, seq_all, poi_info, query_id_dict):\n",
    "    columns = df_columns.copy()\n",
    "    #seqid_set = sorted(set(seqid_set)) # to allow duplicated seqids\n",
    "    train_seqs = [extract_seq(seqid, seq_all) for seqid in seqid_set]\n",
    "    \n",
    "    qid_set = sorted(set([query_id_dict[(seq[0], seq[-1], len(seq))] for seq in train_seqs if len(seq) > 2]))\n",
    "    poi_set = sorted(set(poi_info.index.tolist()))\n",
    "    qid_poi_pair = list(itertools.product(qid_set, poi_set)) # Cartesian product of qid_set and poi_set\n",
    "    \n",
    "    df_ = pd.DataFrame(data=np.zeros((len(qid_poi_pair), len(columns)), dtype= np.float), columns=columns)\n",
    "    \n",
    "    query_id_rdict = dict()\n",
    "    for k, v in query_id_dict.items(): \n",
    "        query_id_rdict[v] = k  # qid --> (start, end, length)\n",
    "    \n",
    "    for i in range(df_.index.shape[0]):\n",
    "        qid = qid_poi_pair[i][0]\n",
    "        poi = qid_poi_pair[i][1]\n",
    "        (p0, pN, seqLen) = query_id_rdict[qid]\n",
    "        lon0 = poi_info.loc[p0, 'poiLon']; lat0 = poi_info.loc[p0, 'poiLat']\n",
    "        lonN = poi_info.loc[pN, 'poiLon']; latN = poi_info.loc[pN, 'poiLat']\n",
    "        lon = poi_info.loc[poi, 'poiLon']; lat = poi_info.loc[poi, 'poiLat']\n",
    "        pop = poi_info.loc[poi, 'popularity']; nvisit = poi_info.loc[poi, 'nVisit']\n",
    "        cat = poi_info.loc[poi, 'poiTheme']; duration = poi_info.loc[poi, 'avgDuration(sec)']\n",
    "        idx = df_.index[i]\n",
    "        df_.loc[idx, 'poiID'] = poi\n",
    "        df_.loc[idx, 'queryID'] = qid\n",
    "        df_.loc[idx, 'popularity'] = pop\n",
    "        df_.loc[idx, 'nVisit'] = nvisit\n",
    "        df_.loc[idx, 'avgDuration(sec)'] = duration\n",
    "        df_.loc[idx, 'sameCatStart'] = 1 if cat == poi_info.loc[p0, 'poiTheme'] else -1\n",
    "        df_.loc[idx, 'sameCatEnd']   = 1 if cat == poi_info.loc[pN, 'poiTheme'] else -1\n",
    "        df_.loc[idx, 'distStart'] = 0 if poi == p0 else calc_dist(lon, lat, lon0, lat0)\n",
    "        df_.loc[idx, 'distEnd']   = 0 if poi == pN else calc_dist(lon, lat, lonN, latN)\n",
    "        df_.loc[idx, 'seqLen'] = seqLen\n",
    "        df_.loc[idx, 'diffPopStart'] = 0 if poi == p0 else pop - poi_info.loc[p0, 'popularity']\n",
    "        df_.loc[idx, 'diffPopEnd']   = 0 if poi == pN else pop - poi_info.loc[pN, 'popularity']\n",
    "        df_.loc[idx, 'diffNVisitStart'] = 0 if poi == p0 else nvisit - poi_info.loc[p0, 'nVisit']\n",
    "        df_.loc[idx, 'diffNVisitEnd']   = 0 if poi == pN else nvisit - poi_info.loc[pN, 'nVisit']\n",
    "        df_.loc[idx, 'diffDurationStart'] = 0 if poi == p0 else duration - poi_info.loc[p0, 'avgDuration(sec)']\n",
    "        df_.loc[idx, 'diffDurationEnd']   = 0 if poi == pN else duration - poi_info.loc[pN, 'avgDuration(sec)']\n",
    "    \n",
    "    # set label\n",
    "    df_.set_index(['queryID', 'poiID'], inplace=True)\n",
    "    for seq in train_seqs:\n",
    "        if len(seq) > 2:\n",
    "            qid = query_id_dict[(seq[0], seq[-1], len(seq))]\n",
    "            for poi in seq[1:-1]:  # do NOT count if the POI is startPOI/endPOI\n",
    "                df_.loc[(qid, poi), 'label'] += 1\n",
    "    \n",
    "    df_.reset_index(inplace=True)\n",
    "    return df_"
   ]
  },
  {
   "cell_type": "markdown",
   "metadata": {},
   "source": [
    "Sanity check: \n",
    "- different POIs have different features for the same query trajectory\n",
    "- the same POI get different features for different query-id"
   ]
  },
  {
   "cell_type": "markdown",
   "metadata": {},
   "source": [
    "<a id='sec2.3'></a>"
   ]
  },
  {
   "cell_type": "markdown",
   "metadata": {},
   "source": [
    "## 2.3 Test DataFrame"
   ]
  },
  {
   "cell_type": "markdown",
   "metadata": {},
   "source": [
    "Test data are generated the same way as training data, except that the labels of testing data (unknown) could be arbitrary values as suggested in [libsvm FAQ](http://www.csie.ntu.edu.tw/~cjlin/libsvm/faq.html#f431).\n",
    "The reported accuracy (by `svm-predict` command) is meaningless as it is calculated based on these labels."
   ]
  },
  {
   "cell_type": "markdown",
   "metadata": {},
   "source": [
    "The dimension of training data matrix is `#poi` by `#feature` with one specific `query`, i.e. tuple $(\\text{startPOI}, \\text{endPOI}, \\text{#POI})$."
   ]
  },
  {
   "cell_type": "code",
   "execution_count": 38,
   "metadata": {
    "collapsed": true
   },
   "outputs": [],
   "source": [
    "def gen_test_df(startPOI, endPOI, nPOI, poi_info, query_id_dict):\n",
    "    columns = df_columns.copy()\n",
    "    key = (p0, pN, seqLen) = (startPOI, endPOI, nPOI)\n",
    "    assert(key in query_id_dict)\n",
    "    \n",
    "    poi_set = sorted(set(poi_info.index.tolist()))\n",
    "    df_ = pd.DataFrame(data=np.zeros((len(poi_set), len(columns)), dtype= np.float), columns=columns)\n",
    "    \n",
    "    qid = query_id_dict[key]\n",
    "    df_['queryID'] = qid\n",
    "    df_['label'] = np.random.rand(df_.shape[0]) # label for test data is arbitrary according to libsvm FAQ\n",
    "\n",
    "    lon0 = poi_info.loc[p0, 'poiLon']; lat0 = poi_info.loc[p0, 'poiLat']\n",
    "    lonN = poi_info.loc[pN, 'poiLon']; latN = poi_info.loc[pN, 'poiLat']\n",
    "    for i in range(df_.index.shape[0]):\n",
    "        poi = poi_set[i]\n",
    "        lon = poi_info.loc[poi, 'poiLon']; lat = poi_info.loc[poi, 'poiLat']\n",
    "        pop = poi_info.loc[poi, 'popularity']; nvisit = poi_info.loc[poi, 'nVisit']\n",
    "        cat = poi_info.loc[poi, 'poiTheme']; duration = poi_info.loc[poi, 'avgDuration(sec)']\n",
    "        idx = df_.index[i]\n",
    "        df_.loc[idx, 'poiID'] = poi \n",
    "        df_.loc[idx, 'popularity'] = pop\n",
    "        df_.loc[idx, 'nVisit'] = nvisit\n",
    "        df_.loc[idx, 'avgDuration(sec)'] = duration\n",
    "        df_.loc[idx, 'sameCatStart'] = 1 if cat == poi_info.loc[p0, 'poiTheme'] else -1\n",
    "        df_.loc[idx, 'sameCatEnd']   = 1 if cat == poi_info.loc[pN, 'poiTheme'] else -1\n",
    "        df_.loc[idx, 'distStart'] = 0 if poi == p0 else calc_dist(lon, lat, lon0, lat0)\n",
    "        df_.loc[idx, 'distEnd']   = 0 if poi == pN else calc_dist(lon, lat, lonN, latN)\n",
    "        df_.loc[idx, 'seqLen'] = seqLen\n",
    "        df_.loc[idx, 'diffPopStart'] = 0 if poi == p0 else pop - poi_info.loc[p0, 'popularity']\n",
    "        df_.loc[idx, 'diffPopEnd']   = 0 if poi == pN else pop - poi_info.loc[pN, 'popularity']\n",
    "        df_.loc[idx, 'diffNVisitStart'] = 0 if poi == p0 else nvisit - poi_info.loc[p0, 'nVisit']\n",
    "        df_.loc[idx, 'diffNVisitEnd']   = 0 if poi == pN else nvisit - poi_info.loc[pN, 'nVisit']\n",
    "        df_.loc[idx, 'diffDurationStart'] = 0 if poi == p0 else duration - poi_info.loc[p0, 'avgDuration(sec)']\n",
    "        df_.loc[idx, 'diffDurationEnd']   = 0 if poi == pN else duration - poi_info.loc[pN, 'avgDuration(sec)']\n",
    "    return df_"
   ]
  },
  {
   "cell_type": "markdown",
   "metadata": {},
   "source": [
    "Sanity check: \n",
    "- different POIs have different features for the same query trajectory\n",
    "- the same POI get different features for different query-id"
   ]
  },
  {
   "cell_type": "markdown",
   "metadata": {},
   "source": [
    "Generate a string for a training/test data frame."
   ]
  },
  {
   "cell_type": "code",
   "execution_count": 39,
   "metadata": {
    "collapsed": true
   },
   "outputs": [],
   "source": [
    "def gen_data_str(df_):\n",
    "    columns = df_columns[1:].copy()  # get rid of 'poiID'\n",
    "    for col in columns:\n",
    "        assert(col in df_.columns)\n",
    "        \n",
    "    lines = []\n",
    "    for idx in df_.index:\n",
    "        slist = [str(df_.loc[idx, 'label'])]\n",
    "        slist.append(' qid:')\n",
    "        slist.append(str(int(df_.loc[idx, 'queryID'])))\n",
    "        for j in range(2, len(columns)):\n",
    "            slist.append(' ')\n",
    "            slist.append(str(j-1))\n",
    "            slist.append(':')\n",
    "            slist.append(str(df_.loc[idx, columns[j]]))\n",
    "        slist.append('\\n')\n",
    "        lines.append(''.join(slist))\n",
    "    return ''.join(lines)"
   ]
  },
  {
   "cell_type": "markdown",
   "metadata": {},
   "source": [
    "<a id='sec2.4'></a>"
   ]
  },
  {
   "cell_type": "markdown",
   "metadata": {},
   "source": [
    "## 2.4 Ranking POIs using rankSVM"
   ]
  },
  {
   "cell_type": "markdown",
   "metadata": {},
   "source": [
    "RankSVM implementation in [libsvm.zip](https://www.csie.ntu.edu.tw/~cjlin/libsvmtools/ranksvm/libsvm-ranksvm-3.20.zip) or [liblinear.zip](https://www.csie.ntu.edu.tw/~cjlin/libsvmtools/ranksvm/liblinear-ranksvm-1.95.zip), please read `README.ranksvm` in the zip file for installation instructions."
   ]
  },
  {
   "cell_type": "markdown",
   "metadata": {},
   "source": [
    "Use [softmax function](https://en.wikipedia.org/wiki/Softmax_function) to convert ranking scores to a probability distribution."
   ]
  },
  {
   "cell_type": "code",
   "execution_count": 40,
   "metadata": {
    "collapsed": true
   },
   "outputs": [],
   "source": [
    "def softmax(x):\n",
    "    expx = np.exp(x)\n",
    "    return expx / np.sum(expx, axis=0) # column-wise sum"
   ]
  },
  {
   "cell_type": "markdown",
   "metadata": {},
   "source": [
    "Below is a python wrapper of the `svm-train` or `train` and `svm-predict` or `predict` commands of rankSVM with ranking probabilities $P(p_i \\lvert (p_s, p_e, len))$ computed using [softmax function](https://en.wikipedia.org/wiki/Softmax_function)."
   ]
  },
  {
   "cell_type": "code",
   "execution_count": 41,
   "metadata": {
    "collapsed": true
   },
   "outputs": [],
   "source": [
    "# python wrapper of rankSVM\n",
    "class RankSVM:\n",
    "    def __init__(self, bin_dir, useLinear=True, debug=False):\n",
    "        dir_ = !echo $bin_dir  # deal with environmental variables in path\n",
    "        assert(os.path.exists(dir_[0]))\n",
    "        self.bin_dir = dir_[0]\n",
    "        \n",
    "        self.bin_train = 'svm-train'\n",
    "        self.bin_predict = 'svm-predict'\n",
    "        if useLinear:\n",
    "            self.bin_train = 'train'\n",
    "            self.bin_predict = 'predict'\n",
    "        \n",
    "        assert(isinstance(debug, bool))\n",
    "        self.debug = debug\n",
    "        \n",
    "        # create named tmp files for model and feature scaling parameters\n",
    "        self.fmodel = None\n",
    "        self.fscale = None\n",
    "        with tempfile.NamedTemporaryFile(delete=False) as fd: \n",
    "            self.fmodel = fd.name\n",
    "        with tempfile.NamedTemporaryFile(delete=False) as fd: \n",
    "            self.fscale = fd.name\n",
    "        \n",
    "        if self.debug:\n",
    "            print('model file:', self.fmodel)\n",
    "            print('feature scaling parameter file:', self.fscale)\n",
    "    \n",
    "    \n",
    "    def __del__(self):\n",
    "        # remove tmp files\n",
    "        if self.fmodel is not None and os.path.exists(self.fmodel):\n",
    "            os.unlink(self.fmodel)\n",
    "        if self.fscale is not None and os.path.exists(self.fscale):\n",
    "            os.unlink(self.fscale)\n",
    "    \n",
    "    \n",
    "    def train(self, train_df, cost=1):\n",
    "        # cost is parameter C in SVM\n",
    "        # write train data to file\n",
    "        ftrain = None\n",
    "        with tempfile.NamedTemporaryFile(mode='w+t', delete=False) as fd: \n",
    "            ftrain = fd.name\n",
    "            datastr = gen_data_str(train_df)\n",
    "            fd.write(datastr)\n",
    "        \n",
    "        # feature scaling\n",
    "        ftrain_scaled = None\n",
    "        with tempfile.NamedTemporaryFile(mode='w+t', delete=False) as fd: \n",
    "            ftrain_scaled = fd.name\n",
    "        result = !$self.bin_dir/svm-scale -s $self.fscale $ftrain > $ftrain_scaled\n",
    "        \n",
    "        if self.debug:\n",
    "            print('cost:', cost)\n",
    "            print('train data file:', ftrain)\n",
    "            print('feature scaled train data file:', ftrain_scaled)\n",
    "        \n",
    "        # train rank svm and generate model file, if the model file exists, rewrite it\n",
    "        #n_cv = 10  # parameter k for k-fold cross-validation, NO model file will be generated in CV mode\n",
    "        #result = !$self.bin_dir/svm-train -c $cost -v $n_cv $ftrain $self.fmodel\n",
    "        result = !$self.bin_dir/$self.bin_train -c $cost $ftrain_scaled $self.fmodel\n",
    "        if self.debug:\n",
    "            print('Training finished.')\n",
    "            for i in range(len(result)): print(result[i])\n",
    "\n",
    "        # remove train data file\n",
    "        os.unlink(ftrain)\n",
    "        os.unlink(ftrain_scaled)        \n",
    "    \n",
    "    \n",
    "    def predict(self, test_df):\n",
    "        # predict ranking scores for the given feature matrix\n",
    "        if self.fmodel is None or not os.path.exists(self.fmodel):\n",
    "            print('Model should be trained before predicting')\n",
    "            return\n",
    "        \n",
    "        # write test data to file\n",
    "        ftest = None\n",
    "        with tempfile.NamedTemporaryFile(mode='w+t', delete=False) as fd: \n",
    "            ftest = fd.name\n",
    "            datastr = gen_data_str(test_df)\n",
    "            fd.write(datastr)\n",
    "                \n",
    "        # feature scaling\n",
    "        ftest_scaled = None\n",
    "        with tempfile.NamedTemporaryFile(delete=False) as fd: \n",
    "            ftest_scaled = fd.name\n",
    "        result = !$self.bin_dir/svm-scale -r $self.fscale $ftest > $ftest_scaled\n",
    "            \n",
    "        # generate prediction file\n",
    "        fpredict = None\n",
    "        with tempfile.NamedTemporaryFile(delete=False) as fd: \n",
    "            fpredict = fd.name\n",
    "            \n",
    "        if self.debug:\n",
    "            print('test data file:', ftest)\n",
    "            print('feature scaled test data file:', ftest_scaled)\n",
    "            print('predict result file:', fpredict)\n",
    "            \n",
    "        # predict using trained model and write prediction to file\n",
    "        result = !$self.bin_dir/$self.bin_predict $ftest_scaled $self.fmodel $fpredict\n",
    "        if self.debug:\n",
    "            print('Predict result: %-30s  %s' % (result[0], result[1]))\n",
    "        \n",
    "        # generate prediction DataFrame from prediction file\n",
    "        poi_rank_df = pd.read_csv(fpredict, header=None)\n",
    "        poi_rank_df.rename(columns={0:'rank'}, inplace=True)\n",
    "        poi_rank_df['poiID'] = test_df['poiID'].astype(np.int)\n",
    "        #poi_rank_df.set_index('poiID', inplace=True) # duplicated 'poiID' when evaluating training data\n",
    "        poi_rank_df['probability'] = softmax(poi_rank_df['rank'])  # softmax\n",
    "        \n",
    "        # remove test file and prediction file\n",
    "        os.unlink(ftest)\n",
    "        os.unlink(ftest_scaled)\n",
    "        os.unlink(fpredict)\n",
    "        \n",
    "        return poi_rank_df"
   ]
  },
  {
   "cell_type": "markdown",
   "metadata": {},
   "source": [
    "Sanity check."
   ]
  },
  {
   "cell_type": "code",
   "execution_count": 42,
   "metadata": {
    "collapsed": false
   },
   "outputs": [],
   "source": [
    "train_df_ = gen_train_df(seqid_set_train0, seq_all, poi_info_t, query_id_dict)"
   ]
  },
  {
   "cell_type": "code",
   "execution_count": 43,
   "metadata": {
    "collapsed": false
   },
   "outputs": [],
   "source": [
    "ranksvm_ = RankSVM(ranksvm_dir, useLinear=True)\n",
    "ranksvm_.train(train_df_, cost=1000)"
   ]
  },
  {
   "cell_type": "markdown",
   "metadata": {},
   "source": [
    "Histograms on training set."
   ]
  },
  {
   "cell_type": "code",
   "execution_count": 44,
   "metadata": {
    "collapsed": true
   },
   "outputs": [],
   "source": [
    "rank_train_ = ranksvm_.predict(train_df_)"
   ]
  },
  {
   "cell_type": "code",
   "execution_count": 45,
   "metadata": {
    "collapsed": false
   },
   "outputs": [
    {
     "name": "stdout",
     "output_type": "stream",
     "text": [
      "(5133, 17) (5133, 3)\n"
     ]
    }
   ],
   "source": [
    "print(train_df_.shape, rank_train_.shape)"
   ]
  },
  {
   "cell_type": "code",
   "execution_count": 46,
   "metadata": {
    "collapsed": false
   },
   "outputs": [
    {
     "data": {
      "text/plain": [
       "array([ 0.,  1.,  2.,  3.])"
      ]
     },
     "execution_count": 46,
     "metadata": {},
     "output_type": "execute_result"
    }
   ],
   "source": [
    "train_df_['label'].unique()"
   ]
  },
  {
   "cell_type": "code",
   "execution_count": 47,
   "metadata": {
    "collapsed": false
   },
   "outputs": [
    {
     "name": "stdout",
     "output_type": "stream",
     "text": [
      "#Label=0: 4773\n",
      "#Label=1: 335\n",
      "#Label=2: 24\n",
      "#Label=3: 1\n"
     ]
    }
   ],
   "source": [
    "ix0 = train_df_[train_df_['label'] == 0].index\n",
    "ix1 = train_df_[train_df_['label'] == 1].index\n",
    "ix2 = train_df_[train_df_['label'] == 2].index\n",
    "ix3 = train_df_[train_df_['label'] == 3].index\n",
    "print('#Label=0:', ix0.shape[0])\n",
    "print('#Label=1:', ix1.shape[0])\n",
    "print('#Label=2:', ix2.shape[0])\n",
    "print('#Label=3:', ix3.shape[0])"
   ]
  },
  {
   "cell_type": "code",
   "execution_count": 48,
   "metadata": {
    "collapsed": false
   },
   "outputs": [
    {
     "name": "stdout",
     "output_type": "stream",
     "text": [
      "-4.90498 5.92951\n",
      "-5.0 6.0\n"
     ]
    }
   ],
   "source": [
    "rmin_ = rank_train_['rank'].min()\n",
    "rmax_ = rank_train_['rank'].max()\n",
    "print(rmin_, rmax_)\n",
    "rmin1_ = np.round(rmin_); rmin1_ = rmin1_ if rmin1_ < rmin_ else rmin1_ - 0.5\n",
    "rmax1_ = np.round(rmax_); rmax1_ = rmax1_ if rmax1_ > rmax_ else rmax1_ + 0.5\n",
    "print(rmin1_, rmax1_)"
   ]
  },
  {
   "cell_type": "code",
   "execution_count": 164,
   "metadata": {
    "collapsed": false
   },
   "outputs": [
    {
     "name": "stdout",
     "output_type": "stream",
     "text": [
      "1.26288571169e-08 0.00064080113292\n",
      "0.0 0.001\n"
     ]
    }
   ],
   "source": [
    "pmin_ = rank_train_['probability'].min()\n",
    "pmax_ = rank_train_['probability'].max()\n",
    "print(pmin_, pmax_)\n",
    "pmin1_ = np.round(pmin_); pmin1_ = pmin1_ if pmin1_ < pmin_ else max(0, pmin1_ - 0.001)\n",
    "pmax1_ = np.round(pmax_); pmax1_ = pmax1_ if pmax1_ > pmax_ else min(1, pmax1_ + 0.001)\n",
    "print(pmin1_, pmax1_)"
   ]
  },
  {
   "cell_type": "code",
   "execution_count": 166,
   "metadata": {
    "collapsed": false
   },
   "outputs": [
    {
     "name": "stdout",
     "output_type": "stream",
     "text": [
      "NOTE: labels of POI in training set is query specific\n"
     ]
    },
    {
     "data": {
      "image/png": "[encoded data removed]",
      "text/plain": [
       "<matplotlib.figure.Figure at 0x7fcf929ab860>"
      ]
     },
     "metadata": {},
     "output_type": "display_data"
    }
   ],
   "source": [
    "plt.figure(figsize=[12, 4])\n",
    "ax1 = plt.subplot(1, 2, 1); plt.title('Histogram of Ranking Score (Train)')\n",
    "#hist1, bins1 = np.histogram(rank_train_['rank'], bins=5)\n",
    "bins1_train = np.r_[np.arange(rmin1_, rmax1_, 0.5), rmax1_]  # [-1.5, -1.0, -0.5, 0, 0.5, 1.0, 1.5, 2.0]\n",
    "rank_train_.loc[ix0, 'rank'].hist(ax=ax1, bins=bins1_train, label='Label=0', alpha=0.7)\n",
    "rank_train_.loc[ix1, 'rank'].hist(ax=ax1, bins=bins1_train, label='Label=1', alpha=0.7)\n",
    "rank_train_.loc[ix2, 'rank'].hist(ax=ax1, bins=bins1_train, label='Label=2', alpha=0.7)\n",
    "rank_train_.loc[ix3, 'rank'].hist(ax=ax1, bins=bins1_train, label='Label=3', alpha=0.7)\n",
    "ax1.set_yscale('log')\n",
    "ax1.set_ylim(ymin=0.1)\n",
    "ax1.set_xlabel('Ranking Score')\n",
    "plt.legend(loc='upper left')\n",
    "\n",
    "ax2 = plt.subplot(1, 2, 2); plt.title('Histogram of Ranking Probability (Train)')\n",
    "#hist2, bins2 = np.histogram(rank_train_['probability'], bins=5)\n",
    "bins2_train = np.r_[np.arange(pmin1_, pmax1_, 0.0001), pmax1_]  # [0.0, 0.05, 0.1, 0.15, 0.2, 0.25, 0.3, 0.35, 0.4, 0.45]\n",
    "rank_train_.loc[ix0, 'probability'].hist(ax=ax2, bins=bins2_train, label='Label=0', alpha=0.7)\n",
    "rank_train_.loc[ix1, 'probability'].hist(ax=ax2, bins=bins2_train, label='Label=1', alpha=0.7)\n",
    "rank_train_.loc[ix2, 'probability'].hist(ax=ax2, bins=bins2_train, label='Label=2', alpha=0.7)\n",
    "rank_train_.loc[ix3, 'probability'].hist(ax=ax2, bins=bins2_train, label='Label=3', alpha=0.7)\n",
    "ax2.set_yscale('log')\n",
    "ax2.set_ylim(ymin=0.1)\n",
    "ax2.set_xlabel('Ranking Probability')\n",
    "plt.legend(loc='upper right')\n",
    "print('NOTE: labels of POI in training set is query specific')"
   ]
  },
  {
   "cell_type": "code",
   "execution_count": 51,
   "metadata": {
    "collapsed": false
   },
   "outputs": [
    {
     "name": "stdout",
     "output_type": "stream",
     "text": [
      "[21, 23, 30]\n"
     ]
    }
   ],
   "source": [
    "for seqid_idx_ in range(len(seqid_set_test0)):\n",
    "    seq_ = extract_seq(seqid_set_test0[seqid_idx_], seq_all)\n",
    "    if len(seq_) > 2:\n",
    "        print(seq_)\n",
    "        test_df_ = gen_test_df(seq_[0], seq_[-1], len(seq_), poi_info_t, query_id_dict)\n",
    "        break"
   ]
  },
  {
   "cell_type": "code",
   "execution_count": 52,
   "metadata": {
    "collapsed": false
   },
   "outputs": [],
   "source": [
    "rank_test_ = ranksvm_.predict(test_df_)\n",
    "rank_test_.set_index('poiID', inplace=True)\n",
    "rank_test_.sort_values(by='rank', ascending=False, inplace=True)"
   ]
  },
  {
   "cell_type": "markdown",
   "metadata": {},
   "source": [
    "Histograms of one test query."
   ]
  },
  {
   "cell_type": "code",
   "execution_count": 53,
   "metadata": {
    "collapsed": false
   },
   "outputs": [
    {
     "name": "stdout",
     "output_type": "stream",
     "text": [
      "(29, 17) (29, 2)\n"
     ]
    }
   ],
   "source": [
    "print(test_df_.shape, rank_test_.shape)"
   ]
  },
  {
   "cell_type": "code",
   "execution_count": 54,
   "metadata": {
    "collapsed": false
   },
   "outputs": [],
   "source": [
    "#test_df_['label'].unique()  # 'label' in test set are random numbers (a place holder)"
   ]
  },
  {
   "cell_type": "code",
   "execution_count": 55,
   "metadata": {
    "collapsed": false
   },
   "outputs": [
    {
     "name": "stdout",
     "output_type": "stream",
     "text": [
      "-3.75274 5.55332\n",
      "-4.0 6.0\n"
     ]
    }
   ],
   "source": [
    "rmin = rank_test_['rank'].min()\n",
    "rmax = rank_test_['rank'].max()\n",
    "print(rmin, rmax)\n",
    "rmin1 = np.round(rmin); rmin1 = rmin1 if rmin1 < rmin else rmin1 - 0.5\n",
    "rmax1 = np.round(rmax); rmax1 = rmax1 if rmax1 > rmax else rmax1 + 0.5\n",
    "print(rmin1, rmax1)"
   ]
  },
  {
   "cell_type": "code",
   "execution_count": 56,
   "metadata": {
    "collapsed": false
   },
   "outputs": [
    {
     "name": "stdout",
     "output_type": "stream",
     "text": [
      "6.72002752786e-06 0.07395057554\n",
      "0.0 0.5\n"
     ]
    }
   ],
   "source": [
    "pmin = rank_test_['probability'].min()\n",
    "pmax = rank_test_['probability'].max()\n",
    "print(pmin, pmax)\n",
    "pmin1 = np.round(pmin); pmin1 = pmin1 if pmin1 < pmin else max(0, pmin1 - 0.5)\n",
    "pmax1 = np.round(pmax); pmax1 = pmax1 if pmax1 > pmax else min(1, pmax1 + 0.5)\n",
    "print(pmin1, pmax1)"
   ]
  },
  {
   "cell_type": "code",
   "execution_count": 57,
   "metadata": {
    "collapsed": false
   },
   "outputs": [
    {
     "data": {
      "text/plain": [
       "<matplotlib.axes._subplots.AxesSubplot at 0x7fd133693b70>"
      ]
     },
     "execution_count": 57,
     "metadata": {},
     "output_type": "execute_result"
    },
    {
     "data": {
      "image/png": "[encoded data removed]",
      "text/plain": [
       "<matplotlib.figure.Figure at 0x7fd1334e0978>"
      ]
     },
     "metadata": {},
     "output_type": "display_data"
    }
   ],
   "source": [
    "plt.figure(figsize=[12, 4])\n",
    "plt.suptitle('Test Query: (start=%d, end=%d, length=%d)' % (seq_[0], seq_[-1], len(seq_)), fontsize=13, y=1)\n",
    "\n",
    "ax1 = plt.subplot(1, 2, 1); plt.title('Histogram of Ranking Score (Test)')\n",
    "bins1_test = np.r_[np.arange(rmin1, rmax1, 0.5), rmax1]  # [-1.5, -1.0, -0.5, 0, 0.5, 1.0, 1.5]\n",
    "rank_test_['rank'].hist(ax=ax1, bins=bins1_test)\n",
    "\n",
    "ax2 = plt.subplot(1, 2, 2); plt.title('Histogram of Ranking Probability (Test)')\n",
    "bins2_test = np.r_[np.arange(pmin1, pmax1, 0.05), pmax1]  # [0.0, 0.05, 0.1, 0.15, 0.2, 0.25, 0.3]\n",
    "rank_test_['probability'].hist(ax=ax2, bins=bins2_test)"
   ]
  },
  {
   "cell_type": "code",
   "execution_count": 58,
   "metadata": {
    "collapsed": false
   },
   "outputs": [
    {
     "name": "stdout",
     "output_type": "stream",
     "text": [
      "1.0\n"
     ]
    },
    {
     "data": {
      "text/html": [
       "<div>\n",
       "<table border=\"1\" class=\"dataframe\">\n",
       "  <thead>\n",
       "    <tr style=\"text-align: right;\">\n",
       "      <th></th>\n",
       "      <th>rank</th>\n",
       "      <th>probability</th>\n",
       "    </tr>\n",
       "    <tr>\n",
       "      <th>poiID</th>\n",
       "      <th></th>\n",
       "      <th></th>\n",
       "    </tr>\n",
       "  </thead>\n",
       "  <tbody>\n",
       "    <tr>\n",
       "      <th>23</th>\n",
       "      <td>5.55332</td>\n",
       "      <td>0.073951</td>\n",
       "    </tr>\n",
       "    <tr>\n",
       "      <th>16</th>\n",
       "      <td>5.50072</td>\n",
       "      <td>0.070161</td>\n",
       "    </tr>\n",
       "    <tr>\n",
       "      <th>7</th>\n",
       "      <td>5.47484</td>\n",
       "      <td>0.068369</td>\n",
       "    </tr>\n",
       "    <tr>\n",
       "      <th>22</th>\n",
       "      <td>5.29216</td>\n",
       "      <td>0.056954</td>\n",
       "    </tr>\n",
       "    <tr>\n",
       "      <th>28</th>\n",
       "      <td>5.28848</td>\n",
       "      <td>0.056744</td>\n",
       "    </tr>\n",
       "    <tr>\n",
       "      <th>21</th>\n",
       "      <td>5.28381</td>\n",
       "      <td>0.056480</td>\n",
       "    </tr>\n",
       "    <tr>\n",
       "      <th>30</th>\n",
       "      <td>5.28021</td>\n",
       "      <td>0.056277</td>\n",
       "    </tr>\n",
       "    <tr>\n",
       "      <th>6</th>\n",
       "      <td>5.24899</td>\n",
       "      <td>0.054547</td>\n",
       "    </tr>\n",
       "    <tr>\n",
       "      <th>8</th>\n",
       "      <td>5.14857</td>\n",
       "      <td>0.049336</td>\n",
       "    </tr>\n",
       "    <tr>\n",
       "      <th>1</th>\n",
       "      <td>5.14291</td>\n",
       "      <td>0.049057</td>\n",
       "    </tr>\n",
       "    <tr>\n",
       "      <th>24</th>\n",
       "      <td>5.02264</td>\n",
       "      <td>0.043498</td>\n",
       "    </tr>\n",
       "    <tr>\n",
       "      <th>3</th>\n",
       "      <td>5.01293</td>\n",
       "      <td>0.043078</td>\n",
       "    </tr>\n",
       "    <tr>\n",
       "      <th>25</th>\n",
       "      <td>5.00286</td>\n",
       "      <td>0.042646</td>\n",
       "    </tr>\n",
       "    <tr>\n",
       "      <th>4</th>\n",
       "      <td>4.98395</td>\n",
       "      <td>0.041847</td>\n",
       "    </tr>\n",
       "    <tr>\n",
       "      <th>11</th>\n",
       "      <td>4.96006</td>\n",
       "      <td>0.040859</td>\n",
       "    </tr>\n",
       "    <tr>\n",
       "      <th>29</th>\n",
       "      <td>4.71096</td>\n",
       "      <td>0.031850</td>\n",
       "    </tr>\n",
       "    <tr>\n",
       "      <th>27</th>\n",
       "      <td>4.68728</td>\n",
       "      <td>0.031105</td>\n",
       "    </tr>\n",
       "    <tr>\n",
       "      <th>10</th>\n",
       "      <td>4.45149</td>\n",
       "      <td>0.024571</td>\n",
       "    </tr>\n",
       "    <tr>\n",
       "      <th>15</th>\n",
       "      <td>4.07551</td>\n",
       "      <td>0.016871</td>\n",
       "    </tr>\n",
       "    <tr>\n",
       "      <th>14</th>\n",
       "      <td>4.06411</td>\n",
       "      <td>0.016680</td>\n",
       "    </tr>\n",
       "    <tr>\n",
       "      <th>13</th>\n",
       "      <td>4.05573</td>\n",
       "      <td>0.016540</td>\n",
       "    </tr>\n",
       "    <tr>\n",
       "      <th>2</th>\n",
       "      <td>4.01418</td>\n",
       "      <td>0.015867</td>\n",
       "    </tr>\n",
       "    <tr>\n",
       "      <th>17</th>\n",
       "      <td>3.88478</td>\n",
       "      <td>0.013941</td>\n",
       "    </tr>\n",
       "    <tr>\n",
       "      <th>19</th>\n",
       "      <td>3.86245</td>\n",
       "      <td>0.013633</td>\n",
       "    </tr>\n",
       "    <tr>\n",
       "      <th>18</th>\n",
       "      <td>3.17582</td>\n",
       "      <td>0.006861</td>\n",
       "    </tr>\n",
       "    <tr>\n",
       "      <th>20</th>\n",
       "      <td>2.59752</td>\n",
       "      <td>0.003848</td>\n",
       "    </tr>\n",
       "    <tr>\n",
       "      <th>9</th>\n",
       "      <td>2.33636</td>\n",
       "      <td>0.002964</td>\n",
       "    </tr>\n",
       "    <tr>\n",
       "      <th>26</th>\n",
       "      <td>1.62632</td>\n",
       "      <td>0.001457</td>\n",
       "    </tr>\n",
       "    <tr>\n",
       "      <th>12</th>\n",
       "      <td>-3.75274</td>\n",
       "      <td>0.000007</td>\n",
       "    </tr>\n",
       "  </tbody>\n",
       "</table>\n",
       "</div>"
      ],
      "text/plain": [
       "          rank  probability\n",
       "poiID                      \n",
       "23     5.55332     0.073951\n",
       "16     5.50072     0.070161\n",
       "7      5.47484     0.068369\n",
       "22     5.29216     0.056954\n",
       "28     5.28848     0.056744\n",
       "21     5.28381     0.056480\n",
       "30     5.28021     0.056277\n",
       "6      5.24899     0.054547\n",
       "8      5.14857     0.049336\n",
       "1      5.14291     0.049057\n",
       "24     5.02264     0.043498\n",
       "3      5.01293     0.043078\n",
       "25     5.00286     0.042646\n",
       "4      4.98395     0.041847\n",
       "11     4.96006     0.040859\n",
       "29     4.71096     0.031850\n",
       "27     4.68728     0.031105\n",
       "10     4.45149     0.024571\n",
       "15     4.07551     0.016871\n",
       "14     4.06411     0.016680\n",
       "13     4.05573     0.016540\n",
       "2      4.01418     0.015867\n",
       "17     3.88478     0.013941\n",
       "19     3.86245     0.013633\n",
       "18     3.17582     0.006861\n",
       "20     2.59752     0.003848\n",
       "9      2.33636     0.002964\n",
       "26     1.62632     0.001457\n",
       "12    -3.75274     0.000007"
      ]
     },
     "execution_count": 58,
     "metadata": {},
     "output_type": "execute_result"
    }
   ],
   "source": [
    "print(rank_test_['probability'].sum())  # it is ranking probabilities, not probability distribution\n",
    "rank_test_"
   ]
  },
  {
   "cell_type": "markdown",
   "metadata": {},
   "source": [
    "<a id='sec3'></a>"
   ]
  },
  {
   "cell_type": "markdown",
   "metadata": {},
   "source": [
    "# 3. Factorise Transition Probabilities in POI Feature Space"
   ]
  },
  {
   "cell_type": "markdown",
   "metadata": {},
   "source": [
    "Estimate a transition matrix for each feature of POI, transition probabilities (matrix) between different POI features (vector) is obtrained by the [Kronecker product](https://en.wikipedia.org/wiki/Kronecker_product) of the individual transition matrix corresponding to each feature."
   ]
  },
  {
   "cell_type": "markdown",
   "metadata": {},
   "source": [
    "<a id='sec3.1'></a>"
   ]
  },
  {
   "cell_type": "markdown",
   "metadata": {},
   "source": [
    "## 3.1 POI Features for Factorisation"
   ]
  },
  {
   "cell_type": "markdown",
   "metadata": {},
   "source": [
    "POI features used to factorise transition matrix of Markov Chain with POI features (vector) as states:\n",
    "- Category of POI\n",
    "- Popularity of POI (discritize with uniform log-scale bins, #bins <=5 )\n",
    "- The number of POI visits (discritize with uniform log-scale bins, #bins <=5 )\n",
    "- The average visit duration of POI (discritise with uniform log-scale bins, #bins <= 5)\n",
    "- The neighborhood relationship between POIs (clustering POI(lat, lon) using k-means, #clusters <= 5)"
   ]
  },
  {
   "cell_type": "markdown",
   "metadata": {},
   "source": [
    "We count the number of transition first, then normalise each row while taking care of zero by adding each cell a small number (i.e. $0.2$ times the minimum value of that row) if there exists a zero cell."
   ]
  },
  {
   "cell_type": "code",
   "execution_count": 59,
   "metadata": {
    "collapsed": true
   },
   "outputs": [],
   "source": [
    "def normalise_transmat(transmat):\n",
    "    assert(isinstance(transmat, pd.DataFrame))\n",
    "    for row in range(transmat.index.shape[0]):\n",
    "        nonzeroidx = np.nonzero(transmat.iloc[row])[0].tolist()    \n",
    "        if len(nonzeroidx) < transmat.columns.shape[0]:\n",
    "            if len(nonzeroidx) == 0:  # all zeros in row\n",
    "                transmat.iloc[row] = 1 / transmat.columns.shape[0]  # uniform distribution\n",
    "            else:\n",
    "                minv = np.min(transmat.iloc[row, nonzeroidx])\n",
    "                EPS = 0.2 * minv  # row-specific smooth factor\n",
    "                #zeroidx = list(set(range(len(transmat.columns))) - set(nonzeroidx))\n",
    "                #transmat.iloc[row, zeroidx] = EPS\n",
    "                transmat.iloc[row] += EPS\n",
    "                rowsum = np.sum(transmat.iloc[row])\n",
    "                assert(rowsum > 0)\n",
    "                transmat.iloc[row] /= rowsum\n",
    "        else:\n",
    "            assert(len(nonzeroidx) == transmat.columns.shape[0])  # all non-zero in row\n",
    "            transmat.iloc[row] /= np.sum(transmat.iloc[row])\n",
    "    return transmat"
   ]
  },
  {
   "cell_type": "markdown",
   "metadata": {},
   "source": [
    "POIs in training set."
   ]
  },
  {
   "cell_type": "code",
   "execution_count": 60,
   "metadata": {
    "collapsed": false
   },
   "outputs": [],
   "source": [
    "poi_train = seq_all[seq_all['seqID'].isin(seqid_set_train0)]['poiID'].unique().tolist()\n",
    "poi_train.sort()\n",
    "#poi_train"
   ]
  },
  {
   "cell_type": "markdown",
   "metadata": {},
   "source": [
    "<a id='sec3.2'></a>"
   ]
  },
  {
   "cell_type": "markdown",
   "metadata": {},
   "source": [
    "## 3.2 Transition Matrix between POI Cateogries"
   ]
  },
  {
   "cell_type": "code",
   "execution_count": 61,
   "metadata": {
    "collapsed": false
   },
   "outputs": [
    {
     "data": {
      "text/plain": [
       "['Amusement', 'Beach', 'Cultural', 'Shopping', 'Sport', 'Structure']"
      ]
     },
     "execution_count": 61,
     "metadata": {},
     "output_type": "execute_result"
    }
   ],
   "source": [
    "poi_cats = poi_all.loc[poi_train, 'poiTheme'].unique().tolist()\n",
    "poi_cats.sort()\n",
    "poi_cats"
   ]
  },
  {
   "cell_type": "code",
   "execution_count": 62,
   "metadata": {
    "collapsed": true
   },
   "outputs": [],
   "source": [
    "transmat_cat = pd.DataFrame(data=np.zeros((len(poi_cats), len(poi_cats)), dtype=np.float), \\\n",
    "                            columns=poi_cats, index=poi_cats)"
   ]
  },
  {
   "cell_type": "markdown",
   "metadata": {},
   "source": [
    "Count the number of transitions between POI categories."
   ]
  },
  {
   "cell_type": "code",
   "execution_count": 63,
   "metadata": {
    "collapsed": false
   },
   "outputs": [],
   "source": [
    "for seqid in seqid_set_train0:\n",
    "    seq = extract_seq(seqid, seq_all)\n",
    "    if len(seq) > 1:\n",
    "        for pi in range(len(seq)-1):\n",
    "            p1 = seq[pi]\n",
    "            p2 = seq[pi+1]\n",
    "            cat1 = poi_all.loc[p1, 'poiTheme']\n",
    "            cat2 = poi_all.loc[p2, 'poiTheme']\n",
    "            transmat_cat.loc[cat1, cat2] += 1"
   ]
  },
  {
   "cell_type": "code",
   "execution_count": 64,
   "metadata": {
    "collapsed": false
   },
   "outputs": [
    {
     "data": {
      "text/html": [
       "<div>\n",
       "<table border=\"1\" class=\"dataframe\">\n",
       "  <thead>\n",
       "    <tr style=\"text-align: right;\">\n",
       "      <th></th>\n",
       "      <th>Amusement</th>\n",
       "      <th>Beach</th>\n",
       "      <th>Cultural</th>\n",
       "      <th>Shopping</th>\n",
       "      <th>Sport</th>\n",
       "      <th>Structure</th>\n",
       "    </tr>\n",
       "  </thead>\n",
       "  <tbody>\n",
       "    <tr>\n",
       "      <th>Amusement</th>\n",
       "      <td>8</td>\n",
       "      <td>15</td>\n",
       "      <td>30</td>\n",
       "      <td>12</td>\n",
       "      <td>21</td>\n",
       "      <td>14</td>\n",
       "    </tr>\n",
       "    <tr>\n",
       "      <th>Beach</th>\n",
       "      <td>10</td>\n",
       "      <td>33</td>\n",
       "      <td>43</td>\n",
       "      <td>60</td>\n",
       "      <td>14</td>\n",
       "      <td>69</td>\n",
       "    </tr>\n",
       "    <tr>\n",
       "      <th>Cultural</th>\n",
       "      <td>22</td>\n",
       "      <td>45</td>\n",
       "      <td>31</td>\n",
       "      <td>53</td>\n",
       "      <td>18</td>\n",
       "      <td>64</td>\n",
       "    </tr>\n",
       "    <tr>\n",
       "      <th>Shopping</th>\n",
       "      <td>9</td>\n",
       "      <td>61</td>\n",
       "      <td>38</td>\n",
       "      <td>10</td>\n",
       "      <td>11</td>\n",
       "      <td>48</td>\n",
       "    </tr>\n",
       "    <tr>\n",
       "      <th>Sport</th>\n",
       "      <td>27</td>\n",
       "      <td>16</td>\n",
       "      <td>15</td>\n",
       "      <td>10</td>\n",
       "      <td>7</td>\n",
       "      <td>18</td>\n",
       "    </tr>\n",
       "    <tr>\n",
       "      <th>Structure</th>\n",
       "      <td>20</td>\n",
       "      <td>60</td>\n",
       "      <td>56</td>\n",
       "      <td>37</td>\n",
       "      <td>11</td>\n",
       "      <td>15</td>\n",
       "    </tr>\n",
       "  </tbody>\n",
       "</table>\n",
       "</div>"
      ],
      "text/plain": [
       "           Amusement  Beach  Cultural  Shopping  Sport  Structure\n",
       "Amusement          8     15        30        12     21         14\n",
       "Beach             10     33        43        60     14         69\n",
       "Cultural          22     45        31        53     18         64\n",
       "Shopping           9     61        38        10     11         48\n",
       "Sport             27     16        15        10      7         18\n",
       "Structure         20     60        56        37     11         15"
      ]
     },
     "execution_count": 64,
     "metadata": {},
     "output_type": "execute_result"
    }
   ],
   "source": [
    "transmat_cat"
   ]
  },
  {
   "cell_type": "markdown",
   "metadata": {},
   "source": [
    "Normalise each row to obtain transition probabilities."
   ]
  },
  {
   "cell_type": "code",
   "execution_count": 65,
   "metadata": {
    "collapsed": false
   },
   "outputs": [],
   "source": [
    "transmat_cat = normalise_transmat(transmat_cat)"
   ]
  },
  {
   "cell_type": "code",
   "execution_count": 66,
   "metadata": {
    "collapsed": false
   },
   "outputs": [
    {
     "data": {
      "text/html": [
       "<div>\n",
       "<table border=\"1\" class=\"dataframe\">\n",
       "  <thead>\n",
       "    <tr style=\"text-align: right;\">\n",
       "      <th></th>\n",
       "      <th>Amusement</th>\n",
       "      <th>Beach</th>\n",
       "      <th>Cultural</th>\n",
       "      <th>Shopping</th>\n",
       "      <th>Sport</th>\n",
       "      <th>Structure</th>\n",
       "    </tr>\n",
       "  </thead>\n",
       "  <tbody>\n",
       "    <tr>\n",
       "      <th>Amusement</th>\n",
       "      <td>0.080000</td>\n",
       "      <td>0.150000</td>\n",
       "      <td>0.300000</td>\n",
       "      <td>0.120000</td>\n",
       "      <td>0.210000</td>\n",
       "      <td>0.140000</td>\n",
       "    </tr>\n",
       "    <tr>\n",
       "      <th>Beach</th>\n",
       "      <td>0.043668</td>\n",
       "      <td>0.144105</td>\n",
       "      <td>0.187773</td>\n",
       "      <td>0.262009</td>\n",
       "      <td>0.061135</td>\n",
       "      <td>0.301310</td>\n",
       "    </tr>\n",
       "    <tr>\n",
       "      <th>Cultural</th>\n",
       "      <td>0.094421</td>\n",
       "      <td>0.193133</td>\n",
       "      <td>0.133047</td>\n",
       "      <td>0.227468</td>\n",
       "      <td>0.077253</td>\n",
       "      <td>0.274678</td>\n",
       "    </tr>\n",
       "    <tr>\n",
       "      <th>Shopping</th>\n",
       "      <td>0.050847</td>\n",
       "      <td>0.344633</td>\n",
       "      <td>0.214689</td>\n",
       "      <td>0.056497</td>\n",
       "      <td>0.062147</td>\n",
       "      <td>0.271186</td>\n",
       "    </tr>\n",
       "    <tr>\n",
       "      <th>Sport</th>\n",
       "      <td>0.290323</td>\n",
       "      <td>0.172043</td>\n",
       "      <td>0.161290</td>\n",
       "      <td>0.107527</td>\n",
       "      <td>0.075269</td>\n",
       "      <td>0.193548</td>\n",
       "    </tr>\n",
       "    <tr>\n",
       "      <th>Structure</th>\n",
       "      <td>0.100503</td>\n",
       "      <td>0.301508</td>\n",
       "      <td>0.281407</td>\n",
       "      <td>0.185930</td>\n",
       "      <td>0.055276</td>\n",
       "      <td>0.075377</td>\n",
       "    </tr>\n",
       "  </tbody>\n",
       "</table>\n",
       "</div>"
      ],
      "text/plain": [
       "           Amusement     Beach  Cultural  Shopping     Sport  Structure\n",
       "Amusement   0.080000  0.150000  0.300000  0.120000  0.210000   0.140000\n",
       "Beach       0.043668  0.144105  0.187773  0.262009  0.061135   0.301310\n",
       "Cultural    0.094421  0.193133  0.133047  0.227468  0.077253   0.274678\n",
       "Shopping    0.050847  0.344633  0.214689  0.056497  0.062147   0.271186\n",
       "Sport       0.290323  0.172043  0.161290  0.107527  0.075269   0.193548\n",
       "Structure   0.100503  0.301508  0.281407  0.185930  0.055276   0.075377"
      ]
     },
     "execution_count": 66,
     "metadata": {},
     "output_type": "execute_result"
    }
   ],
   "source": [
    "transmat_cat"
   ]
  },
  {
   "cell_type": "markdown",
   "metadata": {},
   "source": [
    "Combine the above steps."
   ]
  },
  {
   "cell_type": "code",
   "execution_count": 67,
   "metadata": {
    "collapsed": true
   },
   "outputs": [],
   "source": [
    "def gen_transmat_cat(seqid_set, seq_all, poi_info):\n",
    "    #poi_train = seq_all[seq_all['seqID'].isin(seqid_set)]['poiID'].unique().tolist()\n",
    "    poi_train = poi_info.index.tolist()\n",
    "    #poi_train.sort()\n",
    "    poi_cats = poi_info.loc[poi_train, 'poiTheme'].unique().tolist()\n",
    "    poi_cats.sort()\n",
    "    transmat_cat = pd.DataFrame(data=np.zeros((len(poi_cats), len(poi_cats)), dtype=np.float), \\\n",
    "                                columns=poi_cats, index=poi_cats)\n",
    "    for seqid in seqid_set:\n",
    "        seq = extract_seq(seqid, seq_all)\n",
    "        if len(seq) > 1:\n",
    "            for pi in range(len(seq)-1):\n",
    "                p1 = seq[pi]\n",
    "                p2 = seq[pi+1]\n",
    "                cat1 = poi_all.loc[p1, 'poiTheme']\n",
    "                cat2 = poi_all.loc[p2, 'poiTheme']\n",
    "                transmat_cat.loc[cat1, cat2] += 1\n",
    "    return normalise_transmat(transmat_cat)"
   ]
  },
  {
   "cell_type": "markdown",
   "metadata": {},
   "source": [
    "<a id='sec3.3'></a>"
   ]
  },
  {
   "cell_type": "markdown",
   "metadata": {},
   "source": [
    "## 3.3 Transition Matrix between POI Popularity Classes"
   ]
  },
  {
   "cell_type": "code",
   "execution_count": 68,
   "metadata": {
    "collapsed": false
   },
   "outputs": [
    {
     "data": {
      "text/plain": [
       "[8,\n",
       " 16,\n",
       " 19,\n",
       " 20,\n",
       " 21,\n",
       " 22,\n",
       " 24,\n",
       " 26,\n",
       " 30,\n",
       " 31,\n",
       " 44,\n",
       " 66,\n",
       " 67,\n",
       " 77,\n",
       " 88,\n",
       " 91,\n",
       " 105,\n",
       " 118,\n",
       " 124,\n",
       " 153,\n",
       " 154,\n",
       " 173,\n",
       " 188,\n",
       " 196,\n",
       " 199,\n",
       " 237,\n",
       " 242,\n",
       " 268]"
      ]
     },
     "execution_count": 68,
     "metadata": {},
     "output_type": "execute_result"
    }
   ],
   "source": [
    "poi_pops = poi_info_t.loc[poi_train, 'popularity'].unique().tolist()\n",
    "poi_pops.sort()\n",
    "poi_pops"
   ]
  },
  {
   "cell_type": "markdown",
   "metadata": {},
   "source": [
    "Discretize POI popularity with uniform log-scale bins (#bins $\\le 5$)."
   ]
  },
  {
   "cell_type": "code",
   "execution_count": 69,
   "metadata": {
    "collapsed": false
   },
   "outputs": [
    {
     "data": {
      "text/plain": [
       "4142"
      ]
     },
     "execution_count": 69,
     "metadata": {},
     "output_type": "execute_result"
    }
   ],
   "source": [
    "poi_all['poiFreq'].max()"
   ]
  },
  {
   "cell_type": "code",
   "execution_count": 70,
   "metadata": {
    "collapsed": false
   },
   "outputs": [
    {
     "name": "stdout",
     "output_type": "stream",
     "text": [
      "0.903089986992 2.42813479403\n"
     ]
    }
   ],
   "source": [
    "expo_pop1 = np.log10(min(poi_pops))\n",
    "expo_pop2 = np.log10(max(poi_pops))\n",
    "print(expo_pop1, expo_pop2)"
   ]
  },
  {
   "cell_type": "code",
   "execution_count": 71,
   "metadata": {
    "collapsed": false
   },
   "outputs": [
    {
     "data": {
      "text/plain": [
       "array([    1.       ,    31.6227766,  1000.       ])"
      ]
     },
     "execution_count": 71,
     "metadata": {},
     "output_type": "execute_result"
    }
   ],
   "source": [
    "nbins_pop = 2\n",
    "logbins_pop = np.logspace(np.floor(expo_pop1), np.ceil(expo_pop2), nbins_pop+1)\n",
    "logbins_pop"
   ]
  },
  {
   "cell_type": "code",
   "execution_count": 72,
   "metadata": {
    "collapsed": false
   },
   "outputs": [
    {
     "data": {
      "image/png": "[encoded data removed]",
      "text/plain": [
       "<matplotlib.figure.Figure at 0x7fd1333c3ac8>"
      ]
     },
     "metadata": {},
     "output_type": "display_data"
    }
   ],
   "source": [
    "ax = pd.Series(poi_pops).hist(figsize=(5, 3), bins=logbins_pop)\n",
    "ax.set_xscale('log')"
   ]
  },
  {
   "cell_type": "code",
   "execution_count": 73,
   "metadata": {
    "collapsed": false
   },
   "outputs": [],
   "source": [
    "transmat_pop = pd.DataFrame(data=np.zeros((nbins_pop, nbins_pop), dtype=np.float), \\\n",
    "                            columns=np.arange(1, nbins_pop+1), index=np.arange(1, nbins_pop+1))"
   ]
  },
  {
   "cell_type": "markdown",
   "metadata": {},
   "source": [
    "Count the number of transitions between POI popularity classes."
   ]
  },
  {
   "cell_type": "code",
   "execution_count": 74,
   "metadata": {
    "collapsed": false
   },
   "outputs": [],
   "source": [
    "#np.digitize([101, 0.1], logbins_pop)"
   ]
  },
  {
   "cell_type": "code",
   "execution_count": 75,
   "metadata": {
    "collapsed": true
   },
   "outputs": [],
   "source": [
    "for seqid in seqid_set_train0:\n",
    "    seq = extract_seq(seqid, seq_all)\n",
    "    if len(seq) > 1:\n",
    "        for pi in range(len(seq)-1):\n",
    "            p1 = seq[pi]\n",
    "            p2 = seq[pi+1]\n",
    "            pop1 = poi_info_t.loc[p1, 'popularity']\n",
    "            pop2 = poi_info_t.loc[p2, 'popularity']\n",
    "            pc1, pc2 = np.digitize([pop1, pop2], logbins_pop)\n",
    "            transmat_pop.loc[pc1, pc2] += 1"
   ]
  },
  {
   "cell_type": "code",
   "execution_count": 76,
   "metadata": {
    "collapsed": false
   },
   "outputs": [
    {
     "data": {
      "text/html": [
       "<div>\n",
       "<table border=\"1\" class=\"dataframe\">\n",
       "  <thead>\n",
       "    <tr style=\"text-align: right;\">\n",
       "      <th></th>\n",
       "      <th>1</th>\n",
       "      <th>2</th>\n",
       "    </tr>\n",
       "  </thead>\n",
       "  <tbody>\n",
       "    <tr>\n",
       "      <th>1</th>\n",
       "      <td>15</td>\n",
       "      <td>18</td>\n",
       "    </tr>\n",
       "    <tr>\n",
       "      <th>2</th>\n",
       "      <td>20</td>\n",
       "      <td>978</td>\n",
       "    </tr>\n",
       "  </tbody>\n",
       "</table>\n",
       "</div>"
      ],
      "text/plain": [
       "    1    2\n",
       "1  15   18\n",
       "2  20  978"
      ]
     },
     "execution_count": 76,
     "metadata": {},
     "output_type": "execute_result"
    }
   ],
   "source": [
    "transmat_pop"
   ]
  },
  {
   "cell_type": "markdown",
   "metadata": {},
   "source": [
    "Normalise each row to obtain transition probabilities."
   ]
  },
  {
   "cell_type": "code",
   "execution_count": 77,
   "metadata": {
    "collapsed": false
   },
   "outputs": [],
   "source": [
    "transmat_pop = normalise_transmat(transmat_pop)"
   ]
  },
  {
   "cell_type": "code",
   "execution_count": 78,
   "metadata": {
    "collapsed": false
   },
   "outputs": [
    {
     "data": {
      "text/html": [
       "<div>\n",
       "<table border=\"1\" class=\"dataframe\">\n",
       "  <thead>\n",
       "    <tr style=\"text-align: right;\">\n",
       "      <th></th>\n",
       "      <th>1</th>\n",
       "      <th>2</th>\n",
       "    </tr>\n",
       "  </thead>\n",
       "  <tbody>\n",
       "    <tr>\n",
       "      <th>1</th>\n",
       "      <td>0.454545</td>\n",
       "      <td>0.545455</td>\n",
       "    </tr>\n",
       "    <tr>\n",
       "      <th>2</th>\n",
       "      <td>0.020040</td>\n",
       "      <td>0.979960</td>\n",
       "    </tr>\n",
       "  </tbody>\n",
       "</table>\n",
       "</div>"
      ],
      "text/plain": [
       "          1         2\n",
       "1  0.454545  0.545455\n",
       "2  0.020040  0.979960"
      ]
     },
     "execution_count": 78,
     "metadata": {},
     "output_type": "execute_result"
    }
   ],
   "source": [
    "transmat_pop"
   ]
  },
  {
   "cell_type": "markdown",
   "metadata": {},
   "source": [
    "Combine the above steps."
   ]
  },
  {
   "cell_type": "code",
   "execution_count": 79,
   "metadata": {
    "collapsed": true
   },
   "outputs": [],
   "source": [
    "def gen_transmat_pop(seqid_set, seq_all, poi_info, nbins=2):\n",
    "    #poi_train = seq_all[seq_all['seqID'].isin(seqid_set)]['poiID'].unique().tolist()\n",
    "    poi_train = poi_info.index.tolist()\n",
    "    #poi_train.sort()\n",
    "    #poi_info = calc_poi_info(seqid_set, seq_all, poi_all)\n",
    "    poi_pops = poi_info.loc[poi_train, 'popularity'].unique().tolist()\n",
    "    poi_pops.sort()\n",
    "    expo_pop1 = np.log10(min(poi_pops))\n",
    "    expo_pop2 = np.log10(max(poi_pops))\n",
    "    logbins_pop = np.logspace(np.floor(expo_pop1), np.ceil(expo_pop2), nbins+1)\n",
    "    transmat_pop = pd.DataFrame(data=np.zeros((nbins, nbins), dtype=np.float), \\\n",
    "                                columns=np.arange(1, nbins+1), index=np.arange(1, nbins+1))\n",
    "    for seqid in seqid_set:\n",
    "        seq = extract_seq(seqid, seq_all)\n",
    "        if len(seq) > 1:\n",
    "            for pi in range(len(seq)-1):\n",
    "                p1 = seq[pi]\n",
    "                p2 = seq[pi+1]\n",
    "                pop1 = poi_info.loc[p1, 'popularity']\n",
    "                pop2 = poi_info.loc[p2, 'popularity']\n",
    "                pc1, pc2 = np.digitize([pop1, pop2], logbins_pop)\n",
    "                transmat_pop.loc[pc1, pc2] += 1\n",
    "    return normalise_transmat(transmat_pop), logbins_pop"
   ]
  },
  {
   "cell_type": "markdown",
   "metadata": {},
   "source": [
    "<a id='sec3.4'></a>"
   ]
  },
  {
   "cell_type": "markdown",
   "metadata": {},
   "source": [
    "## 3.3 Transition Matrix between the Number of POI Visit Classes"
   ]
  },
  {
   "cell_type": "code",
   "execution_count": 80,
   "metadata": {
    "collapsed": false
   },
   "outputs": [
    {
     "data": {
      "text/plain": [
       "[8,\n",
       " 19,\n",
       " 21,\n",
       " 24,\n",
       " 27,\n",
       " 28,\n",
       " 30,\n",
       " 38,\n",
       " 50,\n",
       " 52,\n",
       " 57,\n",
       " 78,\n",
       " 100,\n",
       " 136,\n",
       " 150,\n",
       " 157,\n",
       " 167,\n",
       " 194,\n",
       " 229,\n",
       " 235,\n",
       " 271,\n",
       " 272,\n",
       " 332,\n",
       " 339,\n",
       " 340,\n",
       " 356,\n",
       " 390,\n",
       " 435,\n",
       " 554]"
      ]
     },
     "execution_count": 80,
     "metadata": {},
     "output_type": "execute_result"
    }
   ],
   "source": [
    "poi_visits = poi_info_t.loc[poi_train, 'nVisit'].unique().tolist()\n",
    "poi_visits.sort()\n",
    "poi_visits"
   ]
  },
  {
   "cell_type": "markdown",
   "metadata": {},
   "source": [
    "Discretize the number of POI visit with uniform log-scale bins (#bins $\\le 5$)."
   ]
  },
  {
   "cell_type": "code",
   "execution_count": 81,
   "metadata": {
    "collapsed": false
   },
   "outputs": [
    {
     "name": "stdout",
     "output_type": "stream",
     "text": [
      "0.903089986992 2.74350976473\n"
     ]
    }
   ],
   "source": [
    "expo_visit1 = np.log10(min(poi_visits))\n",
    "expo_visit2 = np.log10(max(poi_visits))\n",
    "print(expo_visit1, expo_visit2)"
   ]
  },
  {
   "cell_type": "code",
   "execution_count": 82,
   "metadata": {
    "collapsed": false
   },
   "outputs": [
    {
     "data": {
      "text/plain": [
       "0.0"
      ]
     },
     "execution_count": 82,
     "metadata": {},
     "output_type": "execute_result"
    }
   ],
   "source": [
    "np.floor(expo_visit1)"
   ]
  },
  {
   "cell_type": "code",
   "execution_count": 83,
   "metadata": {
    "collapsed": false
   },
   "outputs": [
    {
     "data": {
      "text/plain": [
       "array([    1.       ,    31.6227766,  1000.       ])"
      ]
     },
     "execution_count": 83,
     "metadata": {},
     "output_type": "execute_result"
    }
   ],
   "source": [
    "nbins_visit = 2\n",
    "logbins_visit = np.logspace(np.floor(expo_visit1), np.ceil(expo_visit2), nbins_visit+1)\n",
    "logbins_visit"
   ]
  },
  {
   "cell_type": "code",
   "execution_count": 84,
   "metadata": {
    "collapsed": false
   },
   "outputs": [
    {
     "data": {
      "image/png": "[encoded data removed]",
      "text/plain": [
       "<matplotlib.figure.Figure at 0x7fd13328a278>"
      ]
     },
     "metadata": {},
     "output_type": "display_data"
    }
   ],
   "source": [
    "ax = pd.Series(poi_visits).hist(figsize=(5, 3), bins=logbins_visit)\n",
    "ax.set_xscale('log')"
   ]
  },
  {
   "cell_type": "code",
   "execution_count": 85,
   "metadata": {
    "collapsed": false
   },
   "outputs": [],
   "source": [
    "transmat_visit = pd.DataFrame(data=np.zeros((nbins_visit, nbins_visit), dtype=np.float), \\\n",
    "                              columns=np.arange(1, nbins_visit+1), index=np.arange(1, nbins_visit+1))"
   ]
  },
  {
   "cell_type": "markdown",
   "metadata": {},
   "source": [
    "Count the number of transitions between POI popularity classes."
   ]
  },
  {
   "cell_type": "code",
   "execution_count": 86,
   "metadata": {
    "collapsed": true
   },
   "outputs": [],
   "source": [
    "for seqid in seqid_set_train0:\n",
    "    seq = extract_seq(seqid, seq_all)\n",
    "    if len(seq) > 1:\n",
    "        for pi in range(len(seq)-1):\n",
    "            p1 = seq[pi]\n",
    "            p2 = seq[pi+1]\n",
    "            visit1 = poi_info_t.loc[p1, 'nVisit']\n",
    "            visit2 = poi_info_t.loc[p2, 'nVisit']\n",
    "            vc1, vc2 = np.digitize([visit1, visit2], logbins_visit)\n",
    "            transmat_visit.loc[vc1, vc2] += 1"
   ]
  },
  {
   "cell_type": "code",
   "execution_count": 87,
   "metadata": {
    "collapsed": false
   },
   "outputs": [
    {
     "data": {
      "text/html": [
       "<div>\n",
       "<table border=\"1\" class=\"dataframe\">\n",
       "  <thead>\n",
       "    <tr style=\"text-align: right;\">\n",
       "      <th></th>\n",
       "      <th>1</th>\n",
       "      <th>2</th>\n",
       "    </tr>\n",
       "  </thead>\n",
       "  <tbody>\n",
       "    <tr>\n",
       "      <th>1</th>\n",
       "      <td>8</td>\n",
       "      <td>14</td>\n",
       "    </tr>\n",
       "    <tr>\n",
       "      <th>2</th>\n",
       "      <td>17</td>\n",
       "      <td>992</td>\n",
       "    </tr>\n",
       "  </tbody>\n",
       "</table>\n",
       "</div>"
      ],
      "text/plain": [
       "    1    2\n",
       "1   8   14\n",
       "2  17  992"
      ]
     },
     "execution_count": 87,
     "metadata": {},
     "output_type": "execute_result"
    }
   ],
   "source": [
    "transmat_visit"
   ]
  },
  {
   "cell_type": "markdown",
   "metadata": {},
   "source": [
    "Normalise each row to obtain transition probabilities."
   ]
  },
  {
   "cell_type": "code",
   "execution_count": 88,
   "metadata": {
    "collapsed": false
   },
   "outputs": [],
   "source": [
    "transmat_visit = normalise_transmat(transmat_visit)"
   ]
  },
  {
   "cell_type": "code",
   "execution_count": 89,
   "metadata": {
    "collapsed": false
   },
   "outputs": [
    {
     "data": {
      "text/html": [
       "<div>\n",
       "<table border=\"1\" class=\"dataframe\">\n",
       "  <thead>\n",
       "    <tr style=\"text-align: right;\">\n",
       "      <th></th>\n",
       "      <th>1</th>\n",
       "      <th>2</th>\n",
       "    </tr>\n",
       "  </thead>\n",
       "  <tbody>\n",
       "    <tr>\n",
       "      <th>1</th>\n",
       "      <td>0.363636</td>\n",
       "      <td>0.636364</td>\n",
       "    </tr>\n",
       "    <tr>\n",
       "      <th>2</th>\n",
       "      <td>0.016848</td>\n",
       "      <td>0.983152</td>\n",
       "    </tr>\n",
       "  </tbody>\n",
       "</table>\n",
       "</div>"
      ],
      "text/plain": [
       "          1         2\n",
       "1  0.363636  0.636364\n",
       "2  0.016848  0.983152"
      ]
     },
     "execution_count": 89,
     "metadata": {},
     "output_type": "execute_result"
    }
   ],
   "source": [
    "transmat_visit"
   ]
  },
  {
   "cell_type": "markdown",
   "metadata": {},
   "source": [
    "Combine the above steps."
   ]
  },
  {
   "cell_type": "code",
   "execution_count": 90,
   "metadata": {
    "collapsed": true
   },
   "outputs": [],
   "source": [
    "def gen_transmat_visit(seqid_set, seq_all, poi_info, nbins=2):\n",
    "    #poi_train = seq_all[seq_all['seqID'].isin(seqid_set)]['poiID'].unique().tolist()\n",
    "    poi_train = poi_info.index.tolist()\n",
    "    #poi_train.sort()\n",
    "    #poi_info = calc_poi_info(seqid_set, seq_all, poi_all)\n",
    "    poi_visits = poi_info.loc[poi_train, 'nVisit'].unique().tolist()\n",
    "    poi_visits.sort()\n",
    "    expo_visit1 = np.log10(min(poi_visits))\n",
    "    expo_visit2 = np.log10(max(poi_visits))\n",
    "    logbins_visit = np.logspace(np.floor(expo_visit1), np.ceil(expo_visit2), nbins+1)\n",
    "    transmat_visit = pd.DataFrame(data=np.zeros((nbins, nbins), dtype=np.float), \\\n",
    "                                  columns=np.arange(1, nbins+1), index=np.arange(1, nbins+1))\n",
    "    for seqid in seqid_set:\n",
    "        seq = extract_seq(seqid, seq_all)\n",
    "        if len(seq) > 1:\n",
    "            for pi in range(len(seq)-1):\n",
    "                p1 = seq[pi]\n",
    "                p2 = seq[pi+1]\n",
    "                visit1 = poi_info.loc[p1, 'nVisit']\n",
    "                visit2 = poi_info.loc[p2, 'nVisit']\n",
    "                vc1, vc2 = np.digitize([visit1, visit2], logbins_visit)\n",
    "                transmat_visit.loc[vc1, vc2] += 1\n",
    "    return normalise_transmat(transmat_visit), logbins_visit"
   ]
  },
  {
   "cell_type": "markdown",
   "metadata": {},
   "source": [
    "<a id='sec3.5'></a>"
   ]
  },
  {
   "cell_type": "markdown",
   "metadata": {},
   "source": [
    "## 3.5 Transition Matrix between POI Average Visit Duration Classes"
   ]
  },
  {
   "cell_type": "code",
   "execution_count": 91,
   "metadata": {
    "collapsed": false
   },
   "outputs": [
    {
     "data": {
      "text/plain": [
       "array([  455.25,   618.  ,   618.16,   711.16,   783.76,   897.94,\n",
       "         946.86,  1172.09,  1210.3 ,  1210.48,  1336.69,  1369.45,\n",
       "        1459.  ,  1508.86,  1581.21,  1648.79,  1666.8 ,  1840.54,\n",
       "        1998.63,  2348.84,  2416.74,  2426.13,  2513.51,  3010.23,\n",
       "        3030.08,  3116.94,  4420.  ,  5314.46,  7800.87])"
      ]
     },
     "execution_count": 91,
     "metadata": {},
     "output_type": "execute_result"
    }
   ],
   "source": [
    "poi_durations = poi_info_t.loc[poi_train, 'avgDuration(sec)'].unique().tolist()\n",
    "poi_durations.sort()\n",
    "np.round(poi_durations, 2)"
   ]
  },
  {
   "cell_type": "markdown",
   "metadata": {},
   "source": [
    "Discretize POI average visit duration with uniform log-scale bins (#bins $\\le 5$)."
   ]
  },
  {
   "cell_type": "code",
   "execution_count": 92,
   "metadata": {
    "collapsed": false
   },
   "outputs": [
    {
     "name": "stdout",
     "output_type": "stream",
     "text": [
      "2.65824995447 3.89214285495\n"
     ]
    }
   ],
   "source": [
    "expo_duration1 = np.log10(min(poi_durations))\n",
    "expo_duration2 = np.log10(max(poi_durations))\n",
    "print(expo_duration1, expo_duration2)"
   ]
  },
  {
   "cell_type": "code",
   "execution_count": 93,
   "metadata": {
    "collapsed": false
   },
   "outputs": [
    {
     "data": {
      "text/plain": [
       "array([   100.,   1000.,  10000.])"
      ]
     },
     "execution_count": 93,
     "metadata": {},
     "output_type": "execute_result"
    }
   ],
   "source": [
    "nbins_duration = 2\n",
    "logbins_duration = np.logspace(np.floor(expo_duration1), np.ceil(expo_duration2), nbins_duration+1)\n",
    "logbins_duration"
   ]
  },
  {
   "cell_type": "code",
   "execution_count": 94,
   "metadata": {
    "collapsed": false
   },
   "outputs": [
    {
     "data": {
      "image/png": "[encoded data removed]",
      "text/plain": [
       "<matplotlib.figure.Figure at 0x7fd133088668>"
      ]
     },
     "metadata": {},
     "output_type": "display_data"
    }
   ],
   "source": [
    "ax = pd.Series(poi_durations).hist(figsize=(5, 3), bins=logbins_duration)\n",
    "ax.set_xscale('log')"
   ]
  },
  {
   "cell_type": "code",
   "execution_count": 95,
   "metadata": {
    "collapsed": false
   },
   "outputs": [],
   "source": [
    "transmat_duration = pd.DataFrame(data=np.zeros((nbins_duration, nbins_duration), dtype=np.float), \\\n",
    "                                 columns=np.arange(1, nbins_duration+1), index=np.arange(1, nbins_duration+1))"
   ]
  },
  {
   "cell_type": "markdown",
   "metadata": {},
   "source": [
    "Count the number of transitions between POI average visit duration classes."
   ]
  },
  {
   "cell_type": "code",
   "execution_count": 96,
   "metadata": {
    "collapsed": false
   },
   "outputs": [],
   "source": [
    "for seqid in seqid_set_train0:\n",
    "    seq = extract_seq(seqid, seq_all)\n",
    "    if len(seq) > 1:\n",
    "        for pi in range(len(seq)-1):\n",
    "            p1 = seq[pi]\n",
    "            p2 = seq[pi+1]\n",
    "            d1 = poi_info_t.loc[p1, 'avgDuration(sec)']\n",
    "            d2 = poi_info_t.loc[p2, 'avgDuration(sec)']\n",
    "            dc1, dc2 = np.digitize([d1, d2], logbins_duration)\n",
    "            transmat_duration.loc[dc1, dc2] += 1"
   ]
  },
  {
   "cell_type": "code",
   "execution_count": 97,
   "metadata": {
    "collapsed": false
   },
   "outputs": [
    {
     "data": {
      "text/html": [
       "<div>\n",
       "<table border=\"1\" class=\"dataframe\">\n",
       "  <thead>\n",
       "    <tr style=\"text-align: right;\">\n",
       "      <th></th>\n",
       "      <th>1</th>\n",
       "      <th>2</th>\n",
       "    </tr>\n",
       "  </thead>\n",
       "  <tbody>\n",
       "    <tr>\n",
       "      <th>1</th>\n",
       "      <td>10</td>\n",
       "      <td>118</td>\n",
       "    </tr>\n",
       "    <tr>\n",
       "      <th>2</th>\n",
       "      <td>141</td>\n",
       "      <td>762</td>\n",
       "    </tr>\n",
       "  </tbody>\n",
       "</table>\n",
       "</div>"
      ],
      "text/plain": [
       "     1    2\n",
       "1   10  118\n",
       "2  141  762"
      ]
     },
     "execution_count": 97,
     "metadata": {},
     "output_type": "execute_result"
    }
   ],
   "source": [
    "transmat_duration"
   ]
  },
  {
   "cell_type": "markdown",
   "metadata": {},
   "source": [
    "Normalise each row to obtain transition probabilities."
   ]
  },
  {
   "cell_type": "code",
   "execution_count": 98,
   "metadata": {
    "collapsed": true
   },
   "outputs": [],
   "source": [
    "transmat_duration = normalise_transmat(transmat_duration)"
   ]
  },
  {
   "cell_type": "code",
   "execution_count": 99,
   "metadata": {
    "collapsed": false
   },
   "outputs": [
    {
     "data": {
      "text/html": [
       "<div>\n",
       "<table border=\"1\" class=\"dataframe\">\n",
       "  <thead>\n",
       "    <tr style=\"text-align: right;\">\n",
       "      <th></th>\n",
       "      <th>1</th>\n",
       "      <th>2</th>\n",
       "    </tr>\n",
       "  </thead>\n",
       "  <tbody>\n",
       "    <tr>\n",
       "      <th>1</th>\n",
       "      <td>0.078125</td>\n",
       "      <td>0.921875</td>\n",
       "    </tr>\n",
       "    <tr>\n",
       "      <th>2</th>\n",
       "      <td>0.156146</td>\n",
       "      <td>0.843854</td>\n",
       "    </tr>\n",
       "  </tbody>\n",
       "</table>\n",
       "</div>"
      ],
      "text/plain": [
       "          1         2\n",
       "1  0.078125  0.921875\n",
       "2  0.156146  0.843854"
      ]
     },
     "execution_count": 99,
     "metadata": {},
     "output_type": "execute_result"
    }
   ],
   "source": [
    "transmat_duration"
   ]
  },
  {
   "cell_type": "markdown",
   "metadata": {},
   "source": [
    "Combine the above steps."
   ]
  },
  {
   "cell_type": "code",
   "execution_count": 100,
   "metadata": {
    "collapsed": true
   },
   "outputs": [],
   "source": [
    "def gen_transmat_duration(seqid_set, seq_all, poi_info, nbins=2):\n",
    "    #poi_train = seq_all[seq_all['seqID'].isin(seqid_set)]['poiID'].unique().tolist()\n",
    "    poi_train = poi_info.index.tolist()\n",
    "    #poi_train.sort()\n",
    "    #poi_info = calc_poi_info(seqid_set, seq_all, poi_all)\n",
    "    poi_durations = poi_info.loc[poi_train, 'avgDuration(sec)'].unique().tolist()\n",
    "    poi_durations.sort()\n",
    "    expo_duration1 = np.log10(min(poi_durations))\n",
    "    expo_duration2 = np.log10(max(poi_durations))\n",
    "    logbins_duration = np.logspace(np.floor(expo_duration1), np.ceil(expo_duration2), nbins+1)\n",
    "    transmat_duration = pd.DataFrame(data=np.zeros((nbins, nbins), dtype=np.float), \\\n",
    "                                     columns=np.arange(1, nbins+1), index=np.arange(1, nbins+1))\n",
    "    for seqid in seqid_set:\n",
    "        seq = extract_seq(seqid, seq_all)\n",
    "        if len(seq) > 1:\n",
    "            for pi in range(len(seq)-1):\n",
    "                p1 = seq[pi]\n",
    "                p2 = seq[pi+1]\n",
    "                d1 = poi_info.loc[p1, 'avgDuration(sec)']\n",
    "                d2 = poi_info.loc[p2, 'avgDuration(sec)']\n",
    "                dc1, dc2 = np.digitize([d1, d2], logbins_duration)\n",
    "                transmat_duration.loc[dc1, dc2] += 1\n",
    "    return normalise_transmat(transmat_duration), logbins_duration"
   ]
  },
  {
   "cell_type": "markdown",
   "metadata": {},
   "source": [
    "<a id='sec3.6'></a>"
   ]
  },
  {
   "cell_type": "markdown",
   "metadata": {},
   "source": [
    "## 3.6 Transition Matrix between POI Neighborhood Classes"
   ]
  },
  {
   "cell_type": "markdown",
   "metadata": {},
   "source": [
    "Compute POI neighborhoods, i.e., clustering POI (lat, lon) in training set using k-means, #clusters $\\le 5$."
   ]
  },
  {
   "cell_type": "markdown",
   "metadata": {},
   "source": [
    "KMeans in scikit-learn seems unable to use custom distance metric and no implementation of [Haversine formula](http://en.wikipedia.org/wiki/Great-circle_distance), use Euclidean distance to approximate."
   ]
  },
  {
   "cell_type": "code",
   "execution_count": 101,
   "metadata": {
    "collapsed": false
   },
   "outputs": [],
   "source": [
    "#from sklearn.cluster import KMeans\n",
    "X = poi_all.loc[poi_train, ['poiLon', 'poiLat']]\n",
    "nclusters = 5"
   ]
  },
  {
   "cell_type": "code",
   "execution_count": 102,
   "metadata": {
    "collapsed": false
   },
   "outputs": [
    {
     "data": {
      "text/plain": [
       "KMeans(copy_x=True, init='k-means++', max_iter=300, n_clusters=5, n_init=10,\n",
       "    n_jobs=1, precompute_distances='auto', random_state=None, tol=0.0001,\n",
       "    verbose=0)"
      ]
     },
     "execution_count": 102,
     "metadata": {},
     "output_type": "execute_result"
    }
   ],
   "source": [
    "kmeans = KMeans(n_clusters=nclusters)\n",
    "kmeans.fit(X)"
   ]
  },
  {
   "cell_type": "code",
   "execution_count": 103,
   "metadata": {
    "collapsed": false
   },
   "outputs": [
    {
     "data": {
      "text/plain": [
       "array([3, 0, 3, 3, 3, 3, 3, 4, 3, 3, 1, 3, 0, 3, 3, 0, 0, 3, 0, 3, 3, 3, 3,\n",
       "       3, 2, 3, 3, 3, 3], dtype=int32)"
      ]
     },
     "execution_count": 103,
     "metadata": {},
     "output_type": "execute_result"
    }
   ],
   "source": [
    "clusters = kmeans.predict(X)\n",
    "clusters"
   ]
  },
  {
   "cell_type": "code",
   "execution_count": 104,
   "metadata": {
    "collapsed": false
   },
   "outputs": [],
   "source": [
    "poi_clusters = pd.DataFrame(data=clusters, index=poi_train)\n",
    "poi_clusters.index.name = 'poiID'\n",
    "poi_clusters.rename(columns={0:'clusterID'}, inplace=True)\n",
    "#poi_clusters"
   ]
  },
  {
   "cell_type": "code",
   "execution_count": 105,
   "metadata": {
    "collapsed": false
   },
   "outputs": [
    {
     "data": {
      "text/plain": [
       "1.3991425640130917"
      ]
     },
     "execution_count": 105,
     "metadata": {},
     "output_type": "execute_result"
    }
   ],
   "source": [
    "diff = poi_all.loc[poi_train, ['poiLon', 'poiLat']].max() - poi_all.loc[poi_train, ['poiLon', 'poiLat']].min()\n",
    "diff['poiLon'] / diff['poiLat']"
   ]
  },
  {
   "cell_type": "markdown",
   "metadata": {},
   "source": [
    "A $3:2$ figure should be fine."
   ]
  },
  {
   "cell_type": "code",
   "execution_count": 106,
   "metadata": {
    "collapsed": false
   },
   "outputs": [
    {
     "data": {
      "text/plain": [
       "<matplotlib.collections.PathCollection at 0x7fd1333e27f0>"
      ]
     },
     "execution_count": 106,
     "metadata": {},
     "output_type": "execute_result"
    },
    {
     "data": {
      "image/png": "[encoded data removed]",
      "text/plain": [
       "<matplotlib.figure.Figure at 0x7fd13316ae10>"
      ]
     },
     "metadata": {},
     "output_type": "display_data"
    }
   ],
   "source": [
    "plt.figure(figsize=[12, 8])\n",
    "plt.scatter(poi_all.loc[poi_train, 'poiLon'], poi_all.loc[poi_train, 'poiLat'], c=clusters, s=50)"
   ]
  },
  {
   "cell_type": "code",
   "execution_count": 107,
   "metadata": {
    "collapsed": false
   },
   "outputs": [],
   "source": [
    "transmat_neighbor = pd.DataFrame(data=np.zeros((nclusters, nclusters), dtype=np.float), \\\n",
    "                                 columns=np.arange(nclusters), index=np.arange(nclusters))"
   ]
  },
  {
   "cell_type": "markdown",
   "metadata": {},
   "source": [
    "Count the number of transitions between POIs in different clusters."
   ]
  },
  {
   "cell_type": "code",
   "execution_count": 108,
   "metadata": {
    "collapsed": false
   },
   "outputs": [],
   "source": [
    "for seqid in seqid_set_train0:\n",
    "    seq = extract_seq(seqid, seq_all)\n",
    "    if len(seq) > 1:\n",
    "        for pi in range(len(seq)-1):\n",
    "            p1 = seq[pi]\n",
    "            p2 = seq[pi+1]\n",
    "            c1 = poi_clusters.loc[p1, 'clusterID']\n",
    "            c2 = poi_clusters.loc[p2, 'clusterID']\n",
    "            transmat_neighbor.loc[c1, c2] += 1"
   ]
  },
  {
   "cell_type": "code",
   "execution_count": 109,
   "metadata": {
    "collapsed": false
   },
   "outputs": [
    {
     "data": {
      "text/html": [
       "<div>\n",
       "<table border=\"1\" class=\"dataframe\">\n",
       "  <thead>\n",
       "    <tr style=\"text-align: right;\">\n",
       "      <th></th>\n",
       "      <th>0</th>\n",
       "      <th>1</th>\n",
       "      <th>2</th>\n",
       "      <th>3</th>\n",
       "      <th>4</th>\n",
       "    </tr>\n",
       "  </thead>\n",
       "  <tbody>\n",
       "    <tr>\n",
       "      <th>0</th>\n",
       "      <td>21</td>\n",
       "      <td>0</td>\n",
       "      <td>0</td>\n",
       "      <td>4</td>\n",
       "      <td>0</td>\n",
       "    </tr>\n",
       "    <tr>\n",
       "      <th>1</th>\n",
       "      <td>0</td>\n",
       "      <td>0</td>\n",
       "      <td>0</td>\n",
       "      <td>0</td>\n",
       "      <td>0</td>\n",
       "    </tr>\n",
       "    <tr>\n",
       "      <th>2</th>\n",
       "      <td>0</td>\n",
       "      <td>0</td>\n",
       "      <td>0</td>\n",
       "      <td>2</td>\n",
       "      <td>0</td>\n",
       "    </tr>\n",
       "    <tr>\n",
       "      <th>3</th>\n",
       "      <td>3</td>\n",
       "      <td>0</td>\n",
       "      <td>1</td>\n",
       "      <td>998</td>\n",
       "      <td>1</td>\n",
       "    </tr>\n",
       "    <tr>\n",
       "      <th>4</th>\n",
       "      <td>0</td>\n",
       "      <td>0</td>\n",
       "      <td>0</td>\n",
       "      <td>1</td>\n",
       "      <td>0</td>\n",
       "    </tr>\n",
       "  </tbody>\n",
       "</table>\n",
       "</div>"
      ],
      "text/plain": [
       "    0  1  2    3  4\n",
       "0  21  0  0    4  0\n",
       "1   0  0  0    0  0\n",
       "2   0  0  0    2  0\n",
       "3   3  0  1  998  1\n",
       "4   0  0  0    1  0"
      ]
     },
     "execution_count": 109,
     "metadata": {},
     "output_type": "execute_result"
    }
   ],
   "source": [
    "transmat_neighbor"
   ]
  },
  {
   "cell_type": "markdown",
   "metadata": {},
   "source": [
    "Normalise each row to obtain transition probabilities."
   ]
  },
  {
   "cell_type": "code",
   "execution_count": 110,
   "metadata": {
    "collapsed": true
   },
   "outputs": [],
   "source": [
    "transmat_neighbor = normalise_transmat(transmat_neighbor)"
   ]
  },
  {
   "cell_type": "code",
   "execution_count": 111,
   "metadata": {
    "collapsed": false
   },
   "outputs": [
    {
     "data": {
      "text/html": [
       "<div>\n",
       "<table border=\"1\" class=\"dataframe\">\n",
       "  <thead>\n",
       "    <tr style=\"text-align: right;\">\n",
       "      <th></th>\n",
       "      <th>0</th>\n",
       "      <th>1</th>\n",
       "      <th>2</th>\n",
       "      <th>3</th>\n",
       "      <th>4</th>\n",
       "    </tr>\n",
       "  </thead>\n",
       "  <tbody>\n",
       "    <tr>\n",
       "      <th>0</th>\n",
       "      <td>0.751724</td>\n",
       "      <td>0.027586</td>\n",
       "      <td>0.027586</td>\n",
       "      <td>0.165517</td>\n",
       "      <td>0.027586</td>\n",
       "    </tr>\n",
       "    <tr>\n",
       "      <th>1</th>\n",
       "      <td>0.200000</td>\n",
       "      <td>0.200000</td>\n",
       "      <td>0.200000</td>\n",
       "      <td>0.200000</td>\n",
       "      <td>0.200000</td>\n",
       "    </tr>\n",
       "    <tr>\n",
       "      <th>2</th>\n",
       "      <td>0.100000</td>\n",
       "      <td>0.100000</td>\n",
       "      <td>0.100000</td>\n",
       "      <td>0.600000</td>\n",
       "      <td>0.100000</td>\n",
       "    </tr>\n",
       "    <tr>\n",
       "      <th>3</th>\n",
       "      <td>0.003187</td>\n",
       "      <td>0.000199</td>\n",
       "      <td>0.001195</td>\n",
       "      <td>0.994223</td>\n",
       "      <td>0.001195</td>\n",
       "    </tr>\n",
       "    <tr>\n",
       "      <th>4</th>\n",
       "      <td>0.100000</td>\n",
       "      <td>0.100000</td>\n",
       "      <td>0.100000</td>\n",
       "      <td>0.600000</td>\n",
       "      <td>0.100000</td>\n",
       "    </tr>\n",
       "  </tbody>\n",
       "</table>\n",
       "</div>"
      ],
      "text/plain": [
       "          0         1         2         3         4\n",
       "0  0.751724  0.027586  0.027586  0.165517  0.027586\n",
       "1  0.200000  0.200000  0.200000  0.200000  0.200000\n",
       "2  0.100000  0.100000  0.100000  0.600000  0.100000\n",
       "3  0.003187  0.000199  0.001195  0.994223  0.001195\n",
       "4  0.100000  0.100000  0.100000  0.600000  0.100000"
      ]
     },
     "execution_count": 111,
     "metadata": {},
     "output_type": "execute_result"
    }
   ],
   "source": [
    "transmat_neighbor"
   ]
  },
  {
   "cell_type": "markdown",
   "metadata": {},
   "source": [
    "Combine the above steps."
   ]
  },
  {
   "cell_type": "code",
   "execution_count": 112,
   "metadata": {
    "collapsed": true
   },
   "outputs": [],
   "source": [
    "def gen_transmat_neighbor(seqid_set, seq_all, poi_info, nclusters=5):\n",
    "    #poi_train = seq_all[seq_all['seqID'].isin(seqid_set)]['poiID'].unique().tolist()\n",
    "    poi_train = poi_info.index.tolist()\n",
    "    #poi_train.sort()\n",
    "    X = poi_info.loc[poi_train, ['poiLon', 'poiLat']]\n",
    "    kmeans = KMeans(n_clusters=nclusters)\n",
    "    kmeans.fit(X)\n",
    "    clusters = kmeans.predict(X)\n",
    "    poi_clusters = pd.DataFrame(data=clusters, index=poi_train)\n",
    "    poi_clusters.index.name = 'poiID'\n",
    "    poi_clusters.rename(columns={0:'clusterID'}, inplace=True)\n",
    "    transmat_neighbor = pd.DataFrame(data=np.zeros((nclusters, nclusters), dtype=np.float), \\\n",
    "                                     columns=np.arange(nclusters), index=np.arange(nclusters))\n",
    "    for seqid in seqid_set:\n",
    "        seq = extract_seq(seqid, seq_all)\n",
    "        if len(seq) > 1:\n",
    "            for pi in range(len(seq)-1):\n",
    "                p1 = seq[pi]\n",
    "                p2 = seq[pi+1]\n",
    "                c1 = poi_clusters.loc[p1, 'clusterID']\n",
    "                c2 = poi_clusters.loc[p2, 'clusterID']\n",
    "                transmat_neighbor.loc[c1, c2] += 1\n",
    "    return normalise_transmat(transmat_neighbor), poi_clusters"
   ]
  },
  {
   "cell_type": "markdown",
   "metadata": {},
   "source": [
    "<a id='sec3.7'></a>"
   ]
  },
  {
   "cell_type": "markdown",
   "metadata": {},
   "source": [
    "## 3.7 Transition Matrix between POIs"
   ]
  },
  {
   "cell_type": "markdown",
   "metadata": {},
   "source": [
    "Approximate transition probabilities (matrix) between different POI features (vector) using the [Kronecker product](https://en.wikipedia.org/wiki/Kronecker_product) of individual transition matrix corresponding to each feature, i.e., POI category, POI popularity (discritized), POI average visit duration (discritized) and POI neighborhoods (clusters)."
   ]
  },
  {
   "cell_type": "code",
   "execution_count": 113,
   "metadata": {
    "collapsed": false
   },
   "outputs": [],
   "source": [
    "#from scipy.linalg import kron\n",
    "transmat_value = transmat_cat.values\n",
    "for transmat in [transmat_pop, transmat_visit, transmat_duration, transmat_neighbor]:\n",
    "    transmat_value = kron(transmat_value, transmat.values)"
   ]
  },
  {
   "cell_type": "markdown",
   "metadata": {},
   "source": [
    "Index of Kronecker product."
   ]
  },
  {
   "cell_type": "code",
   "execution_count": 114,
   "metadata": {
    "collapsed": true
   },
   "outputs": [],
   "source": [
    "transmat_ix = list(itertools.product(transmat_cat.index, transmat_pop.index, transmat_visit.index, \\\n",
    "                                     transmat_duration.index, transmat_neighbor.index))"
   ]
  },
  {
   "cell_type": "code",
   "execution_count": 115,
   "metadata": {
    "collapsed": false
   },
   "outputs": [],
   "source": [
    "transmat_feature = pd.DataFrame(data=transmat_value, index=transmat_ix, columns=transmat_ix)\n",
    "transmat_feature.index.name = '(poiTheme, popularity, avgDuration, clusterID)'\n",
    "#transmat_feature.head()"
   ]
  },
  {
   "cell_type": "code",
   "execution_count": 116,
   "metadata": {
    "collapsed": false
   },
   "outputs": [
    {
     "name": "stdout",
     "output_type": "stream",
     "text": [
      "(6, 6)\n",
      "(2, 2)\n",
      "(2, 2)\n",
      "(2, 2)\n",
      "(5, 5)\n",
      "(240, 240)\n"
     ]
    }
   ],
   "source": [
    "print(transmat_cat.shape)\n",
    "print(transmat_pop.shape)\n",
    "print(transmat_visit.shape)\n",
    "print(transmat_duration.shape)\n",
    "print(transmat_neighbor.shape)\n",
    "print(transmat_feature.shape)"
   ]
  },
  {
   "cell_type": "code",
   "execution_count": 117,
   "metadata": {
    "collapsed": false
   },
   "outputs": [
    {
     "data": {
      "text/html": [
       "<div>\n",
       "<table border=\"1\" class=\"dataframe\">\n",
       "  <thead>\n",
       "    <tr style=\"text-align: right;\">\n",
       "      <th></th>\n",
       "      <th>(Amusement, 1, 1, 1, 0)</th>\n",
       "      <th>(Amusement, 1, 1, 1, 1)</th>\n",
       "      <th>(Amusement, 1, 1, 1, 2)</th>\n",
       "      <th>(Amusement, 1, 1, 1, 3)</th>\n",
       "      <th>(Amusement, 1, 1, 1, 4)</th>\n",
       "      <th>(Amusement, 1, 1, 2, 0)</th>\n",
       "      <th>(Amusement, 1, 1, 2, 1)</th>\n",
       "      <th>(Amusement, 1, 1, 2, 2)</th>\n",
       "      <th>(Amusement, 1, 1, 2, 3)</th>\n",
       "      <th>(Amusement, 1, 1, 2, 4)</th>\n",
       "      <th>...</th>\n",
       "      <th>(Structure, 2, 2, 1, 0)</th>\n",
       "      <th>(Structure, 2, 2, 1, 1)</th>\n",
       "      <th>(Structure, 2, 2, 1, 2)</th>\n",
       "      <th>(Structure, 2, 2, 1, 3)</th>\n",
       "      <th>(Structure, 2, 2, 1, 4)</th>\n",
       "      <th>(Structure, 2, 2, 2, 0)</th>\n",
       "      <th>(Structure, 2, 2, 2, 1)</th>\n",
       "      <th>(Structure, 2, 2, 2, 2)</th>\n",
       "      <th>(Structure, 2, 2, 2, 3)</th>\n",
       "      <th>(Structure, 2, 2, 2, 4)</th>\n",
       "    </tr>\n",
       "    <tr>\n",
       "      <th>(poiTheme, popularity, avgDuration, clusterID)</th>\n",
       "      <th></th>\n",
       "      <th></th>\n",
       "      <th></th>\n",
       "      <th></th>\n",
       "      <th></th>\n",
       "      <th></th>\n",
       "      <th></th>\n",
       "      <th></th>\n",
       "      <th></th>\n",
       "      <th></th>\n",
       "      <th></th>\n",
       "      <th></th>\n",
       "      <th></th>\n",
       "      <th></th>\n",
       "      <th></th>\n",
       "      <th></th>\n",
       "      <th></th>\n",
       "      <th></th>\n",
       "      <th></th>\n",
       "      <th></th>\n",
       "      <th></th>\n",
       "    </tr>\n",
       "  </thead>\n",
       "  <tbody>\n",
       "    <tr>\n",
       "      <th>(Amusement, 1, 1, 1, 0)</th>\n",
       "      <td>0.000777</td>\n",
       "      <td>2.849815e-05</td>\n",
       "      <td>0.000028</td>\n",
       "      <td>0.000171</td>\n",
       "      <td>0.000028</td>\n",
       "      <td>0.009164</td>\n",
       "      <td>0.000336</td>\n",
       "      <td>0.000336</td>\n",
       "      <td>0.002018</td>\n",
       "      <td>0.000336</td>\n",
       "      <td>...</td>\n",
       "      <td>0.002854</td>\n",
       "      <td>1.047307e-04</td>\n",
       "      <td>0.000105</td>\n",
       "      <td>0.000628</td>\n",
       "      <td>0.000105</td>\n",
       "      <td>0.033676</td>\n",
       "      <td>0.001236</td>\n",
       "      <td>0.001236</td>\n",
       "      <td>0.007415</td>\n",
       "      <td>0.001236</td>\n",
       "    </tr>\n",
       "    <tr>\n",
       "      <th>(Amusement, 1, 1, 1, 1)</th>\n",
       "      <td>0.000207</td>\n",
       "      <td>2.066116e-04</td>\n",
       "      <td>0.000207</td>\n",
       "      <td>0.000207</td>\n",
       "      <td>0.000207</td>\n",
       "      <td>0.002438</td>\n",
       "      <td>0.002438</td>\n",
       "      <td>0.002438</td>\n",
       "      <td>0.002438</td>\n",
       "      <td>0.002438</td>\n",
       "      <td>...</td>\n",
       "      <td>0.000759</td>\n",
       "      <td>7.592975e-04</td>\n",
       "      <td>0.000759</td>\n",
       "      <td>0.000759</td>\n",
       "      <td>0.000759</td>\n",
       "      <td>0.008960</td>\n",
       "      <td>0.008960</td>\n",
       "      <td>0.008960</td>\n",
       "      <td>0.008960</td>\n",
       "      <td>0.008960</td>\n",
       "    </tr>\n",
       "    <tr>\n",
       "      <th>(Amusement, 1, 1, 1, 2)</th>\n",
       "      <td>0.000103</td>\n",
       "      <td>1.033058e-04</td>\n",
       "      <td>0.000103</td>\n",
       "      <td>0.000620</td>\n",
       "      <td>0.000103</td>\n",
       "      <td>0.001219</td>\n",
       "      <td>0.001219</td>\n",
       "      <td>0.001219</td>\n",
       "      <td>0.007314</td>\n",
       "      <td>0.001219</td>\n",
       "      <td>...</td>\n",
       "      <td>0.000380</td>\n",
       "      <td>3.796488e-04</td>\n",
       "      <td>0.000380</td>\n",
       "      <td>0.002278</td>\n",
       "      <td>0.000380</td>\n",
       "      <td>0.004480</td>\n",
       "      <td>0.004480</td>\n",
       "      <td>0.004480</td>\n",
       "      <td>0.026879</td>\n",
       "      <td>0.004480</td>\n",
       "    </tr>\n",
       "    <tr>\n",
       "      <th>(Amusement, 1, 1, 1, 3)</th>\n",
       "      <td>0.000003</td>\n",
       "      <td>2.057884e-07</td>\n",
       "      <td>0.000001</td>\n",
       "      <td>0.001027</td>\n",
       "      <td>0.000001</td>\n",
       "      <td>0.000039</td>\n",
       "      <td>0.000002</td>\n",
       "      <td>0.000015</td>\n",
       "      <td>0.012120</td>\n",
       "      <td>0.000015</td>\n",
       "      <td>...</td>\n",
       "      <td>0.000012</td>\n",
       "      <td>7.562724e-07</td>\n",
       "      <td>0.000005</td>\n",
       "      <td>0.003775</td>\n",
       "      <td>0.000005</td>\n",
       "      <td>0.000143</td>\n",
       "      <td>0.000009</td>\n",
       "      <td>0.000054</td>\n",
       "      <td>0.044540</td>\n",
       "      <td>0.000054</td>\n",
       "    </tr>\n",
       "    <tr>\n",
       "      <th>(Amusement, 1, 1, 1, 4)</th>\n",
       "      <td>0.000103</td>\n",
       "      <td>1.033058e-04</td>\n",
       "      <td>0.000103</td>\n",
       "      <td>0.000620</td>\n",
       "      <td>0.000103</td>\n",
       "      <td>0.001219</td>\n",
       "      <td>0.001219</td>\n",
       "      <td>0.001219</td>\n",
       "      <td>0.007314</td>\n",
       "      <td>0.001219</td>\n",
       "      <td>...</td>\n",
       "      <td>0.000380</td>\n",
       "      <td>3.796488e-04</td>\n",
       "      <td>0.000380</td>\n",
       "      <td>0.002278</td>\n",
       "      <td>0.000380</td>\n",
       "      <td>0.004480</td>\n",
       "      <td>0.004480</td>\n",
       "      <td>0.004480</td>\n",
       "      <td>0.026879</td>\n",
       "      <td>0.004480</td>\n",
       "    </tr>\n",
       "  </tbody>\n",
       "</table>\n",
       "<p>5 rows × 240 columns</p>\n",
       "</div>"
      ],
      "text/plain": [
       "                                                (Amusement, 1, 1, 1, 0)  \\\n",
       "(poiTheme, popularity, avgDuration, clusterID)                            \n",
       "(Amusement, 1, 1, 1, 0)                                        0.000777   \n",
       "(Amusement, 1, 1, 1, 1)                                        0.000207   \n",
       "(Amusement, 1, 1, 1, 2)                                        0.000103   \n",
       "(Amusement, 1, 1, 1, 3)                                        0.000003   \n",
       "(Amusement, 1, 1, 1, 4)                                        0.000103   \n",
       "\n",
       "                                                (Amusement, 1, 1, 1, 1)  \\\n",
       "(poiTheme, popularity, avgDuration, clusterID)                            \n",
       "(Amusement, 1, 1, 1, 0)                                    2.849815e-05   \n",
       "(Amusement, 1, 1, 1, 1)                                    2.066116e-04   \n",
       "(Amusement, 1, 1, 1, 2)                                    1.033058e-04   \n",
       "(Amusement, 1, 1, 1, 3)                                    2.057884e-07   \n",
       "(Amusement, 1, 1, 1, 4)                                    1.033058e-04   \n",
       "\n",
       "                                                (Amusement, 1, 1, 1, 2)  \\\n",
       "(poiTheme, popularity, avgDuration, clusterID)                            \n",
       "(Amusement, 1, 1, 1, 0)                                        0.000028   \n",
       "(Amusement, 1, 1, 1, 1)                                        0.000207   \n",
       "(Amusement, 1, 1, 1, 2)                                        0.000103   \n",
       "(Amusement, 1, 1, 1, 3)                                        0.000001   \n",
       "(Amusement, 1, 1, 1, 4)                                        0.000103   \n",
       "\n",
       "                                                (Amusement, 1, 1, 1, 3)  \\\n",
       "(poiTheme, popularity, avgDuration, clusterID)                            \n",
       "(Amusement, 1, 1, 1, 0)                                        0.000171   \n",
       "(Amusement, 1, 1, 1, 1)                                        0.000207   \n",
       "(Amusement, 1, 1, 1, 2)                                        0.000620   \n",
       "(Amusement, 1, 1, 1, 3)                                        0.001027   \n",
       "(Amusement, 1, 1, 1, 4)                                        0.000620   \n",
       "\n",
       "                                                (Amusement, 1, 1, 1, 4)  \\\n",
       "(poiTheme, popularity, avgDuration, clusterID)                            \n",
       "(Amusement, 1, 1, 1, 0)                                        0.000028   \n",
       "(Amusement, 1, 1, 1, 1)                                        0.000207   \n",
       "(Amusement, 1, 1, 1, 2)                                        0.000103   \n",
       "(Amusement, 1, 1, 1, 3)                                        0.000001   \n",
       "(Amusement, 1, 1, 1, 4)                                        0.000103   \n",
       "\n",
       "                                                (Amusement, 1, 1, 2, 0)  \\\n",
       "(poiTheme, popularity, avgDuration, clusterID)                            \n",
       "(Amusement, 1, 1, 1, 0)                                        0.009164   \n",
       "(Amusement, 1, 1, 1, 1)                                        0.002438   \n",
       "(Amusement, 1, 1, 1, 2)                                        0.001219   \n",
       "(Amusement, 1, 1, 1, 3)                                        0.000039   \n",
       "(Amusement, 1, 1, 1, 4)                                        0.001219   \n",
       "\n",
       "                                                (Amusement, 1, 1, 2, 1)  \\\n",
       "(poiTheme, popularity, avgDuration, clusterID)                            \n",
       "(Amusement, 1, 1, 1, 0)                                        0.000336   \n",
       "(Amusement, 1, 1, 1, 1)                                        0.002438   \n",
       "(Amusement, 1, 1, 1, 2)                                        0.001219   \n",
       "(Amusement, 1, 1, 1, 3)                                        0.000002   \n",
       "(Amusement, 1, 1, 1, 4)                                        0.001219   \n",
       "\n",
       "                                                (Amusement, 1, 1, 2, 2)  \\\n",
       "(poiTheme, popularity, avgDuration, clusterID)                            \n",
       "(Amusement, 1, 1, 1, 0)                                        0.000336   \n",
       "(Amusement, 1, 1, 1, 1)                                        0.002438   \n",
       "(Amusement, 1, 1, 1, 2)                                        0.001219   \n",
       "(Amusement, 1, 1, 1, 3)                                        0.000015   \n",
       "(Amusement, 1, 1, 1, 4)                                        0.001219   \n",
       "\n",
       "                                                (Amusement, 1, 1, 2, 3)  \\\n",
       "(poiTheme, popularity, avgDuration, clusterID)                            \n",
       "(Amusement, 1, 1, 1, 0)                                        0.002018   \n",
       "(Amusement, 1, 1, 1, 1)                                        0.002438   \n",
       "(Amusement, 1, 1, 1, 2)                                        0.007314   \n",
       "(Amusement, 1, 1, 1, 3)                                        0.012120   \n",
       "(Amusement, 1, 1, 1, 4)                                        0.007314   \n",
       "\n",
       "                                                (Amusement, 1, 1, 2, 4)  \\\n",
       "(poiTheme, popularity, avgDuration, clusterID)                            \n",
       "(Amusement, 1, 1, 1, 0)                                        0.000336   \n",
       "(Amusement, 1, 1, 1, 1)                                        0.002438   \n",
       "(Amusement, 1, 1, 1, 2)                                        0.001219   \n",
       "(Amusement, 1, 1, 1, 3)                                        0.000015   \n",
       "(Amusement, 1, 1, 1, 4)                                        0.001219   \n",
       "\n",
       "                                                         ...             \\\n",
       "(poiTheme, popularity, avgDuration, clusterID)           ...              \n",
       "(Amusement, 1, 1, 1, 0)                                  ...              \n",
       "(Amusement, 1, 1, 1, 1)                                  ...              \n",
       "(Amusement, 1, 1, 1, 2)                                  ...              \n",
       "(Amusement, 1, 1, 1, 3)                                  ...              \n",
       "(Amusement, 1, 1, 1, 4)                                  ...              \n",
       "\n",
       "                                                (Structure, 2, 2, 1, 0)  \\\n",
       "(poiTheme, popularity, avgDuration, clusterID)                            \n",
       "(Amusement, 1, 1, 1, 0)                                        0.002854   \n",
       "(Amusement, 1, 1, 1, 1)                                        0.000759   \n",
       "(Amusement, 1, 1, 1, 2)                                        0.000380   \n",
       "(Amusement, 1, 1, 1, 3)                                        0.000012   \n",
       "(Amusement, 1, 1, 1, 4)                                        0.000380   \n",
       "\n",
       "                                                (Structure, 2, 2, 1, 1)  \\\n",
       "(poiTheme, popularity, avgDuration, clusterID)                            \n",
       "(Amusement, 1, 1, 1, 0)                                    1.047307e-04   \n",
       "(Amusement, 1, 1, 1, 1)                                    7.592975e-04   \n",
       "(Amusement, 1, 1, 1, 2)                                    3.796488e-04   \n",
       "(Amusement, 1, 1, 1, 3)                                    7.562724e-07   \n",
       "(Amusement, 1, 1, 1, 4)                                    3.796488e-04   \n",
       "\n",
       "                                                (Structure, 2, 2, 1, 2)  \\\n",
       "(poiTheme, popularity, avgDuration, clusterID)                            \n",
       "(Amusement, 1, 1, 1, 0)                                        0.000105   \n",
       "(Amusement, 1, 1, 1, 1)                                        0.000759   \n",
       "(Amusement, 1, 1, 1, 2)                                        0.000380   \n",
       "(Amusement, 1, 1, 1, 3)                                        0.000005   \n",
       "(Amusement, 1, 1, 1, 4)                                        0.000380   \n",
       "\n",
       "                                                (Structure, 2, 2, 1, 3)  \\\n",
       "(poiTheme, popularity, avgDuration, clusterID)                            \n",
       "(Amusement, 1, 1, 1, 0)                                        0.000628   \n",
       "(Amusement, 1, 1, 1, 1)                                        0.000759   \n",
       "(Amusement, 1, 1, 1, 2)                                        0.002278   \n",
       "(Amusement, 1, 1, 1, 3)                                        0.003775   \n",
       "(Amusement, 1, 1, 1, 4)                                        0.002278   \n",
       "\n",
       "                                                (Structure, 2, 2, 1, 4)  \\\n",
       "(poiTheme, popularity, avgDuration, clusterID)                            \n",
       "(Amusement, 1, 1, 1, 0)                                        0.000105   \n",
       "(Amusement, 1, 1, 1, 1)                                        0.000759   \n",
       "(Amusement, 1, 1, 1, 2)                                        0.000380   \n",
       "(Amusement, 1, 1, 1, 3)                                        0.000005   \n",
       "(Amusement, 1, 1, 1, 4)                                        0.000380   \n",
       "\n",
       "                                                (Structure, 2, 2, 2, 0)  \\\n",
       "(poiTheme, popularity, avgDuration, clusterID)                            \n",
       "(Amusement, 1, 1, 1, 0)                                        0.033676   \n",
       "(Amusement, 1, 1, 1, 1)                                        0.008960   \n",
       "(Amusement, 1, 1, 1, 2)                                        0.004480   \n",
       "(Amusement, 1, 1, 1, 3)                                        0.000143   \n",
       "(Amusement, 1, 1, 1, 4)                                        0.004480   \n",
       "\n",
       "                                                (Structure, 2, 2, 2, 1)  \\\n",
       "(poiTheme, popularity, avgDuration, clusterID)                            \n",
       "(Amusement, 1, 1, 1, 0)                                        0.001236   \n",
       "(Amusement, 1, 1, 1, 1)                                        0.008960   \n",
       "(Amusement, 1, 1, 1, 2)                                        0.004480   \n",
       "(Amusement, 1, 1, 1, 3)                                        0.000009   \n",
       "(Amusement, 1, 1, 1, 4)                                        0.004480   \n",
       "\n",
       "                                                (Structure, 2, 2, 2, 2)  \\\n",
       "(poiTheme, popularity, avgDuration, clusterID)                            \n",
       "(Amusement, 1, 1, 1, 0)                                        0.001236   \n",
       "(Amusement, 1, 1, 1, 1)                                        0.008960   \n",
       "(Amusement, 1, 1, 1, 2)                                        0.004480   \n",
       "(Amusement, 1, 1, 1, 3)                                        0.000054   \n",
       "(Amusement, 1, 1, 1, 4)                                        0.004480   \n",
       "\n",
       "                                                (Structure, 2, 2, 2, 3)  \\\n",
       "(poiTheme, popularity, avgDuration, clusterID)                            \n",
       "(Amusement, 1, 1, 1, 0)                                        0.007415   \n",
       "(Amusement, 1, 1, 1, 1)                                        0.008960   \n",
       "(Amusement, 1, 1, 1, 2)                                        0.026879   \n",
       "(Amusement, 1, 1, 1, 3)                                        0.044540   \n",
       "(Amusement, 1, 1, 1, 4)                                        0.026879   \n",
       "\n",
       "                                                (Structure, 2, 2, 2, 4)  \n",
       "(poiTheme, popularity, avgDuration, clusterID)                           \n",
       "(Amusement, 1, 1, 1, 0)                                        0.001236  \n",
       "(Amusement, 1, 1, 1, 1)                                        0.008960  \n",
       "(Amusement, 1, 1, 1, 2)                                        0.004480  \n",
       "(Amusement, 1, 1, 1, 3)                                        0.000054  \n",
       "(Amusement, 1, 1, 1, 4)                                        0.004480  \n",
       "\n",
       "[5 rows x 240 columns]"
      ]
     },
     "execution_count": 117,
     "metadata": {},
     "output_type": "execute_result"
    }
   ],
   "source": [
    "transmat_feature.head()"
   ]
  },
  {
   "cell_type": "markdown",
   "metadata": {},
   "source": [
    "The result of [Kronecker product](https://en.wikipedia.org/wiki/Kronecker_product) should be normalised to obtain transition probabilities."
   ]
  },
  {
   "cell_type": "code",
   "execution_count": 118,
   "metadata": {
    "collapsed": false
   },
   "outputs": [
    {
     "data": {
      "text/html": [
       "<div>\n",
       "<table border=\"1\" class=\"dataframe\">\n",
       "  <thead>\n",
       "    <tr style=\"text-align: right;\">\n",
       "      <th></th>\n",
       "      <th>(Amusement, 1, 1, 1, 0)</th>\n",
       "      <th>(Amusement, 1, 1, 1, 1)</th>\n",
       "      <th>(Amusement, 1, 1, 1, 2)</th>\n",
       "      <th>(Amusement, 1, 1, 1, 3)</th>\n",
       "      <th>(Amusement, 1, 1, 1, 4)</th>\n",
       "      <th>(Amusement, 1, 1, 2, 0)</th>\n",
       "      <th>(Amusement, 1, 1, 2, 1)</th>\n",
       "      <th>(Amusement, 1, 1, 2, 2)</th>\n",
       "      <th>(Amusement, 1, 1, 2, 3)</th>\n",
       "      <th>(Amusement, 1, 1, 2, 4)</th>\n",
       "      <th>...</th>\n",
       "      <th>(Structure, 2, 2, 1, 0)</th>\n",
       "      <th>(Structure, 2, 2, 1, 1)</th>\n",
       "      <th>(Structure, 2, 2, 1, 2)</th>\n",
       "      <th>(Structure, 2, 2, 1, 3)</th>\n",
       "      <th>(Structure, 2, 2, 1, 4)</th>\n",
       "      <th>(Structure, 2, 2, 2, 0)</th>\n",
       "      <th>(Structure, 2, 2, 2, 1)</th>\n",
       "      <th>(Structure, 2, 2, 2, 2)</th>\n",
       "      <th>(Structure, 2, 2, 2, 3)</th>\n",
       "      <th>(Structure, 2, 2, 2, 4)</th>\n",
       "    </tr>\n",
       "    <tr>\n",
       "      <th>(poiTheme, popularity, avgDuration, clusterID)</th>\n",
       "      <th></th>\n",
       "      <th></th>\n",
       "      <th></th>\n",
       "      <th></th>\n",
       "      <th></th>\n",
       "      <th></th>\n",
       "      <th></th>\n",
       "      <th></th>\n",
       "      <th></th>\n",
       "      <th></th>\n",
       "      <th></th>\n",
       "      <th></th>\n",
       "      <th></th>\n",
       "      <th></th>\n",
       "      <th></th>\n",
       "      <th></th>\n",
       "      <th></th>\n",
       "      <th></th>\n",
       "      <th></th>\n",
       "      <th></th>\n",
       "      <th></th>\n",
       "    </tr>\n",
       "  </thead>\n",
       "  <tbody>\n",
       "    <tr>\n",
       "      <th>(Amusement, 1, 1, 1, 0)</th>\n",
       "      <td>-7.160618</td>\n",
       "      <td>-10.465671</td>\n",
       "      <td>-10.465671</td>\n",
       "      <td>-8.673912</td>\n",
       "      <td>-10.465671</td>\n",
       "      <td>-4.692518</td>\n",
       "      <td>-7.997572</td>\n",
       "      <td>-7.997572</td>\n",
       "      <td>-6.205812</td>\n",
       "      <td>-7.997572</td>\n",
       "      <td>...</td>\n",
       "      <td>-5.859065</td>\n",
       "      <td>-9.164118</td>\n",
       "      <td>-9.164118</td>\n",
       "      <td>-7.372359</td>\n",
       "      <td>-9.164118</td>\n",
       "      <td>-3.390965</td>\n",
       "      <td>-6.696019</td>\n",
       "      <td>-6.696019</td>\n",
       "      <td>-4.904259</td>\n",
       "      <td>-6.696019</td>\n",
       "    </tr>\n",
       "    <tr>\n",
       "      <th>(Amusement, 1, 1, 1, 1)</th>\n",
       "      <td>-8.484670</td>\n",
       "      <td>-8.484670</td>\n",
       "      <td>-8.484670</td>\n",
       "      <td>-8.484670</td>\n",
       "      <td>-8.484670</td>\n",
       "      <td>-6.016570</td>\n",
       "      <td>-6.016570</td>\n",
       "      <td>-6.016570</td>\n",
       "      <td>-6.016570</td>\n",
       "      <td>-6.016570</td>\n",
       "      <td>...</td>\n",
       "      <td>-7.183117</td>\n",
       "      <td>-7.183117</td>\n",
       "      <td>-7.183117</td>\n",
       "      <td>-7.183117</td>\n",
       "      <td>-7.183117</td>\n",
       "      <td>-4.715017</td>\n",
       "      <td>-4.715017</td>\n",
       "      <td>-4.715017</td>\n",
       "      <td>-4.715017</td>\n",
       "      <td>-4.715017</td>\n",
       "    </tr>\n",
       "    <tr>\n",
       "      <th>(Amusement, 1, 1, 1, 2)</th>\n",
       "      <td>-9.177817</td>\n",
       "      <td>-9.177817</td>\n",
       "      <td>-9.177817</td>\n",
       "      <td>-7.386058</td>\n",
       "      <td>-9.177817</td>\n",
       "      <td>-6.709718</td>\n",
       "      <td>-6.709718</td>\n",
       "      <td>-6.709718</td>\n",
       "      <td>-4.917958</td>\n",
       "      <td>-6.709718</td>\n",
       "      <td>...</td>\n",
       "      <td>-7.876264</td>\n",
       "      <td>-7.876264</td>\n",
       "      <td>-7.876264</td>\n",
       "      <td>-6.084505</td>\n",
       "      <td>-7.876264</td>\n",
       "      <td>-5.408165</td>\n",
       "      <td>-5.408165</td>\n",
       "      <td>-5.408165</td>\n",
       "      <td>-3.616405</td>\n",
       "      <td>-5.408165</td>\n",
       "    </tr>\n",
       "    <tr>\n",
       "      <th>(Amusement, 1, 1, 1, 3)</th>\n",
       "      <td>-12.623829</td>\n",
       "      <td>-15.396417</td>\n",
       "      <td>-13.604658</td>\n",
       "      <td>-6.881026</td>\n",
       "      <td>-13.604658</td>\n",
       "      <td>-10.155729</td>\n",
       "      <td>-12.928318</td>\n",
       "      <td>-11.136558</td>\n",
       "      <td>-4.412926</td>\n",
       "      <td>-11.136558</td>\n",
       "      <td>...</td>\n",
       "      <td>-11.322275</td>\n",
       "      <td>-14.094864</td>\n",
       "      <td>-12.303105</td>\n",
       "      <td>-5.579473</td>\n",
       "      <td>-12.303105</td>\n",
       "      <td>-8.854176</td>\n",
       "      <td>-11.626765</td>\n",
       "      <td>-9.835005</td>\n",
       "      <td>-3.111373</td>\n",
       "      <td>-9.835005</td>\n",
       "    </tr>\n",
       "    <tr>\n",
       "      <th>(Amusement, 1, 1, 1, 4)</th>\n",
       "      <td>-9.177817</td>\n",
       "      <td>-9.177817</td>\n",
       "      <td>-9.177817</td>\n",
       "      <td>-7.386058</td>\n",
       "      <td>-9.177817</td>\n",
       "      <td>-6.709718</td>\n",
       "      <td>-6.709718</td>\n",
       "      <td>-6.709718</td>\n",
       "      <td>-4.917958</td>\n",
       "      <td>-6.709718</td>\n",
       "      <td>...</td>\n",
       "      <td>-7.876264</td>\n",
       "      <td>-7.876264</td>\n",
       "      <td>-7.876264</td>\n",
       "      <td>-6.084505</td>\n",
       "      <td>-7.876264</td>\n",
       "      <td>-5.408165</td>\n",
       "      <td>-5.408165</td>\n",
       "      <td>-5.408165</td>\n",
       "      <td>-3.616405</td>\n",
       "      <td>-5.408165</td>\n",
       "    </tr>\n",
       "  </tbody>\n",
       "</table>\n",
       "<p>5 rows × 240 columns</p>\n",
       "</div>"
      ],
      "text/plain": [
       "                                                (Amusement, 1, 1, 1, 0)  \\\n",
       "(poiTheme, popularity, avgDuration, clusterID)                            \n",
       "(Amusement, 1, 1, 1, 0)                                       -7.160618   \n",
       "(Amusement, 1, 1, 1, 1)                                       -8.484670   \n",
       "(Amusement, 1, 1, 1, 2)                                       -9.177817   \n",
       "(Amusement, 1, 1, 1, 3)                                      -12.623829   \n",
       "(Amusement, 1, 1, 1, 4)                                       -9.177817   \n",
       "\n",
       "                                                (Amusement, 1, 1, 1, 1)  \\\n",
       "(poiTheme, popularity, avgDuration, clusterID)                            \n",
       "(Amusement, 1, 1, 1, 0)                                      -10.465671   \n",
       "(Amusement, 1, 1, 1, 1)                                       -8.484670   \n",
       "(Amusement, 1, 1, 1, 2)                                       -9.177817   \n",
       "(Amusement, 1, 1, 1, 3)                                      -15.396417   \n",
       "(Amusement, 1, 1, 1, 4)                                       -9.177817   \n",
       "\n",
       "                                                (Amusement, 1, 1, 1, 2)  \\\n",
       "(poiTheme, popularity, avgDuration, clusterID)                            \n",
       "(Amusement, 1, 1, 1, 0)                                      -10.465671   \n",
       "(Amusement, 1, 1, 1, 1)                                       -8.484670   \n",
       "(Amusement, 1, 1, 1, 2)                                       -9.177817   \n",
       "(Amusement, 1, 1, 1, 3)                                      -13.604658   \n",
       "(Amusement, 1, 1, 1, 4)                                       -9.177817   \n",
       "\n",
       "                                                (Amusement, 1, 1, 1, 3)  \\\n",
       "(poiTheme, popularity, avgDuration, clusterID)                            \n",
       "(Amusement, 1, 1, 1, 0)                                       -8.673912   \n",
       "(Amusement, 1, 1, 1, 1)                                       -8.484670   \n",
       "(Amusement, 1, 1, 1, 2)                                       -7.386058   \n",
       "(Amusement, 1, 1, 1, 3)                                       -6.881026   \n",
       "(Amusement, 1, 1, 1, 4)                                       -7.386058   \n",
       "\n",
       "                                                (Amusement, 1, 1, 1, 4)  \\\n",
       "(poiTheme, popularity, avgDuration, clusterID)                            \n",
       "(Amusement, 1, 1, 1, 0)                                      -10.465671   \n",
       "(Amusement, 1, 1, 1, 1)                                       -8.484670   \n",
       "(Amusement, 1, 1, 1, 2)                                       -9.177817   \n",
       "(Amusement, 1, 1, 1, 3)                                      -13.604658   \n",
       "(Amusement, 1, 1, 1, 4)                                       -9.177817   \n",
       "\n",
       "                                                (Amusement, 1, 1, 2, 0)  \\\n",
       "(poiTheme, popularity, avgDuration, clusterID)                            \n",
       "(Amusement, 1, 1, 1, 0)                                       -4.692518   \n",
       "(Amusement, 1, 1, 1, 1)                                       -6.016570   \n",
       "(Amusement, 1, 1, 1, 2)                                       -6.709718   \n",
       "(Amusement, 1, 1, 1, 3)                                      -10.155729   \n",
       "(Amusement, 1, 1, 1, 4)                                       -6.709718   \n",
       "\n",
       "                                                (Amusement, 1, 1, 2, 1)  \\\n",
       "(poiTheme, popularity, avgDuration, clusterID)                            \n",
       "(Amusement, 1, 1, 1, 0)                                       -7.997572   \n",
       "(Amusement, 1, 1, 1, 1)                                       -6.016570   \n",
       "(Amusement, 1, 1, 1, 2)                                       -6.709718   \n",
       "(Amusement, 1, 1, 1, 3)                                      -12.928318   \n",
       "(Amusement, 1, 1, 1, 4)                                       -6.709718   \n",
       "\n",
       "                                                (Amusement, 1, 1, 2, 2)  \\\n",
       "(poiTheme, popularity, avgDuration, clusterID)                            \n",
       "(Amusement, 1, 1, 1, 0)                                       -7.997572   \n",
       "(Amusement, 1, 1, 1, 1)                                       -6.016570   \n",
       "(Amusement, 1, 1, 1, 2)                                       -6.709718   \n",
       "(Amusement, 1, 1, 1, 3)                                      -11.136558   \n",
       "(Amusement, 1, 1, 1, 4)                                       -6.709718   \n",
       "\n",
       "                                                (Amusement, 1, 1, 2, 3)  \\\n",
       "(poiTheme, popularity, avgDuration, clusterID)                            \n",
       "(Amusement, 1, 1, 1, 0)                                       -6.205812   \n",
       "(Amusement, 1, 1, 1, 1)                                       -6.016570   \n",
       "(Amusement, 1, 1, 1, 2)                                       -4.917958   \n",
       "(Amusement, 1, 1, 1, 3)                                       -4.412926   \n",
       "(Amusement, 1, 1, 1, 4)                                       -4.917958   \n",
       "\n",
       "                                                (Amusement, 1, 1, 2, 4)  \\\n",
       "(poiTheme, popularity, avgDuration, clusterID)                            \n",
       "(Amusement, 1, 1, 1, 0)                                       -7.997572   \n",
       "(Amusement, 1, 1, 1, 1)                                       -6.016570   \n",
       "(Amusement, 1, 1, 1, 2)                                       -6.709718   \n",
       "(Amusement, 1, 1, 1, 3)                                      -11.136558   \n",
       "(Amusement, 1, 1, 1, 4)                                       -6.709718   \n",
       "\n",
       "                                                         ...             \\\n",
       "(poiTheme, popularity, avgDuration, clusterID)           ...              \n",
       "(Amusement, 1, 1, 1, 0)                                  ...              \n",
       "(Amusement, 1, 1, 1, 1)                                  ...              \n",
       "(Amusement, 1, 1, 1, 2)                                  ...              \n",
       "(Amusement, 1, 1, 1, 3)                                  ...              \n",
       "(Amusement, 1, 1, 1, 4)                                  ...              \n",
       "\n",
       "                                                (Structure, 2, 2, 1, 0)  \\\n",
       "(poiTheme, popularity, avgDuration, clusterID)                            \n",
       "(Amusement, 1, 1, 1, 0)                                       -5.859065   \n",
       "(Amusement, 1, 1, 1, 1)                                       -7.183117   \n",
       "(Amusement, 1, 1, 1, 2)                                       -7.876264   \n",
       "(Amusement, 1, 1, 1, 3)                                      -11.322275   \n",
       "(Amusement, 1, 1, 1, 4)                                       -7.876264   \n",
       "\n",
       "                                                (Structure, 2, 2, 1, 1)  \\\n",
       "(poiTheme, popularity, avgDuration, clusterID)                            \n",
       "(Amusement, 1, 1, 1, 0)                                       -9.164118   \n",
       "(Amusement, 1, 1, 1, 1)                                       -7.183117   \n",
       "(Amusement, 1, 1, 1, 2)                                       -7.876264   \n",
       "(Amusement, 1, 1, 1, 3)                                      -14.094864   \n",
       "(Amusement, 1, 1, 1, 4)                                       -7.876264   \n",
       "\n",
       "                                                (Structure, 2, 2, 1, 2)  \\\n",
       "(poiTheme, popularity, avgDuration, clusterID)                            \n",
       "(Amusement, 1, 1, 1, 0)                                       -9.164118   \n",
       "(Amusement, 1, 1, 1, 1)                                       -7.183117   \n",
       "(Amusement, 1, 1, 1, 2)                                       -7.876264   \n",
       "(Amusement, 1, 1, 1, 3)                                      -12.303105   \n",
       "(Amusement, 1, 1, 1, 4)                                       -7.876264   \n",
       "\n",
       "                                                (Structure, 2, 2, 1, 3)  \\\n",
       "(poiTheme, popularity, avgDuration, clusterID)                            \n",
       "(Amusement, 1, 1, 1, 0)                                       -7.372359   \n",
       "(Amusement, 1, 1, 1, 1)                                       -7.183117   \n",
       "(Amusement, 1, 1, 1, 2)                                       -6.084505   \n",
       "(Amusement, 1, 1, 1, 3)                                       -5.579473   \n",
       "(Amusement, 1, 1, 1, 4)                                       -6.084505   \n",
       "\n",
       "                                                (Structure, 2, 2, 1, 4)  \\\n",
       "(poiTheme, popularity, avgDuration, clusterID)                            \n",
       "(Amusement, 1, 1, 1, 0)                                       -9.164118   \n",
       "(Amusement, 1, 1, 1, 1)                                       -7.183117   \n",
       "(Amusement, 1, 1, 1, 2)                                       -7.876264   \n",
       "(Amusement, 1, 1, 1, 3)                                      -12.303105   \n",
       "(Amusement, 1, 1, 1, 4)                                       -7.876264   \n",
       "\n",
       "                                                (Structure, 2, 2, 2, 0)  \\\n",
       "(poiTheme, popularity, avgDuration, clusterID)                            \n",
       "(Amusement, 1, 1, 1, 0)                                       -3.390965   \n",
       "(Amusement, 1, 1, 1, 1)                                       -4.715017   \n",
       "(Amusement, 1, 1, 1, 2)                                       -5.408165   \n",
       "(Amusement, 1, 1, 1, 3)                                       -8.854176   \n",
       "(Amusement, 1, 1, 1, 4)                                       -5.408165   \n",
       "\n",
       "                                                (Structure, 2, 2, 2, 1)  \\\n",
       "(poiTheme, popularity, avgDuration, clusterID)                            \n",
       "(Amusement, 1, 1, 1, 0)                                       -6.696019   \n",
       "(Amusement, 1, 1, 1, 1)                                       -4.715017   \n",
       "(Amusement, 1, 1, 1, 2)                                       -5.408165   \n",
       "(Amusement, 1, 1, 1, 3)                                      -11.626765   \n",
       "(Amusement, 1, 1, 1, 4)                                       -5.408165   \n",
       "\n",
       "                                                (Structure, 2, 2, 2, 2)  \\\n",
       "(poiTheme, popularity, avgDuration, clusterID)                            \n",
       "(Amusement, 1, 1, 1, 0)                                       -6.696019   \n",
       "(Amusement, 1, 1, 1, 1)                                       -4.715017   \n",
       "(Amusement, 1, 1, 1, 2)                                       -5.408165   \n",
       "(Amusement, 1, 1, 1, 3)                                       -9.835005   \n",
       "(Amusement, 1, 1, 1, 4)                                       -5.408165   \n",
       "\n",
       "                                                (Structure, 2, 2, 2, 3)  \\\n",
       "(poiTheme, popularity, avgDuration, clusterID)                            \n",
       "(Amusement, 1, 1, 1, 0)                                       -4.904259   \n",
       "(Amusement, 1, 1, 1, 1)                                       -4.715017   \n",
       "(Amusement, 1, 1, 1, 2)                                       -3.616405   \n",
       "(Amusement, 1, 1, 1, 3)                                       -3.111373   \n",
       "(Amusement, 1, 1, 1, 4)                                       -3.616405   \n",
       "\n",
       "                                                (Structure, 2, 2, 2, 4)  \n",
       "(poiTheme, popularity, avgDuration, clusterID)                           \n",
       "(Amusement, 1, 1, 1, 0)                                       -6.696019  \n",
       "(Amusement, 1, 1, 1, 1)                                       -4.715017  \n",
       "(Amusement, 1, 1, 1, 2)                                       -5.408165  \n",
       "(Amusement, 1, 1, 1, 3)                                       -9.835005  \n",
       "(Amusement, 1, 1, 1, 4)                                       -5.408165  \n",
       "\n",
       "[5 rows x 240 columns]"
      ]
     },
     "execution_count": 118,
     "metadata": {},
     "output_type": "execute_result"
    }
   ],
   "source": [
    "#from scipy.misc import logsumexp\n",
    "logtransmat_feature = np.log(transmat_feature)\n",
    "for row in range(logtransmat_feature.shape[0]):\n",
    "    logtransmat_feature.iloc[row] -= logsumexp(logtransmat_feature.iloc[row])\n",
    "logtransmat_feature.head()"
   ]
  },
  {
   "cell_type": "code",
   "execution_count": 119,
   "metadata": {
    "collapsed": false
   },
   "outputs": [
    {
     "data": {
      "text/plain": [
       "(Beach, 2, 2, 2, 3)       -1.189651\n",
       "(Structure, 2, 2, 2, 3)   -1.323990\n",
       "(Cultural, 2, 2, 2, 3)    -1.328348\n",
       "(Amusement, 2, 2, 2, 3)   -1.361137\n",
       "(Shopping, 2, 2, 2, 3)    -1.463752\n",
       "(Beach, 2, 2, 2, 0)       -1.469243\n",
       "(Structure, 2, 2, 2, 0)   -1.603583\n",
       "(Cultural, 2, 2, 2, 0)    -1.607940\n",
       "(Amusement, 2, 2, 2, 0)   -1.640730\n",
       "(Sport, 2, 2, 2, 3)       -1.685023\n",
       "dtype: float64"
      ]
     },
     "execution_count": 119,
     "metadata": {},
     "output_type": "execute_result"
    }
   ],
   "source": [
    "logtransmat_feature.max().sort_values(ascending=False).head(10)"
   ]
  },
  {
   "cell_type": "code",
   "execution_count": 120,
   "metadata": {
    "collapsed": false
   },
   "outputs": [
    {
     "data": {
      "text/plain": [
       "<matplotlib.axes._subplots.AxesSubplot at 0x7fd1331f3668>"
      ]
     },
     "execution_count": 120,
     "metadata": {},
     "output_type": "execute_result"
    },
    {
     "data": {
      "image/png": "[encoded data removed]",
      "text/plain": [
       "<matplotlib.figure.Figure at 0x7fd13322ae10>"
      ]
     },
     "metadata": {},
     "output_type": "display_data"
    }
   ],
   "source": [
    "plt.figure(figsize=[13, 10])\n",
    "sns.heatmap(np.exp(logtransmat_feature), xticklabels=False, yticklabels=False)"
   ]
  },
  {
   "cell_type": "markdown",
   "metadata": {},
   "source": [
    "Deal with features without corresponding POIs and feature with more than one corresponding POIs. (*Before Normalisation*)\n",
    "- For features without corresponding POIs, just remove the rows and columns from the matrix obtained by Kronecker product.\n",
    "- For different POIs with the exact same feature, \n",
    "  - Let POIs with the same feature as a POI group,\n",
    "  - The *incoming* **transition value (i.e., unnormalised transition probability)** of this POI group \n",
    "    should be divided uniformly among the group members, \n",
    "    *which corresponds to choose a group member uniformly at random in the incoming case*.\n",
    "  - The *outgoing* transition value should be duplicated (i.e., the same) among all group members, \n",
    "    **as we were already in that group in the outgoing case**.\n",
    "  - For each POI in the group, the allocation transition value of the *self-loop of the POI group* is similar to \n",
    "    that in the *outgoing* case, **as we were already in that group**, so just duplicate and then divide uniformly among \n",
    "    the transitions from this POI to other POIs in the same group, \n",
    "    *which corresponds to choose a outgoing transition uniformly at random from all outgoing transitions\n",
    "    excluding the self-loop of this POI*.\n",
    "- **Concretely**, for a POI group with $n$ POIs, \n",
    "    1. If the *incoming* transition value of POI group is $m_1$,\n",
    "       then the corresponding *incoming* transition value for each group member is $\\frac{m_1}{n}$.\n",
    "    1. If the *outgoing* transition value of POI group is $m_2$,\n",
    "       then the corresponding *outgoing* transition value for each group member is also $m_2$.\n",
    "    1. If the transition value of *self-loop of the POI group* is $m_3$,\n",
    "       then transition value of *self-loop of individual POIs* should be $0$,  \n",
    "       and *other in-group transitions* with value $\\frac{m_3}{n-1}$\n",
    "       as the total number of outgoing transitions to other POIs in the same group is $n-1$ (excluding the self-loop),\n",
    "       i.e. $n-1$ choose $1$.\n",
    "       \n",
    "**NOTE**: execute the above division before or after row normalisation will lead to the same result, *as the division itself does NOT change the normalising constant of each row (i.e., the sum of each row before normalising)*."
   ]
  },
  {
   "cell_type": "code",
   "execution_count": 121,
   "metadata": {
    "collapsed": true
   },
   "outputs": [],
   "source": [
    "feature_names = ['poiTheme', 'popularity', 'nVisit', 'avgDuration', 'clusterID']\n",
    "poi_features = pd.DataFrame(data=np.zeros((len(poi_train), len(feature_names))), \\\n",
    "                            columns=feature_names, index=poi_train)\n",
    "poi_features.index.name = 'poiID'"
   ]
  },
  {
   "cell_type": "code",
   "execution_count": 122,
   "metadata": {
    "collapsed": true
   },
   "outputs": [],
   "source": [
    "poi_features['poiTheme'] = poi_info_t.loc[poi_train, 'poiTheme']\n",
    "poi_features['popularity'] = np.digitize(poi_info_t.loc[poi_train, 'popularity'], logbins_pop)\n",
    "poi_features['nVisit'] = np.digitize(poi_info_t.loc[poi_train, 'nVisit'], logbins_visit)\n",
    "poi_features['avgDuration'] = np.digitize(poi_info_t.loc[poi_train, 'avgDuration(sec)'], logbins_duration)\n",
    "poi_features['clusterID'] = poi_clusters.loc[poi_train, 'clusterID']"
   ]
  },
  {
   "cell_type": "code",
   "execution_count": 123,
   "metadata": {
    "collapsed": false,
    "scrolled": true
   },
   "outputs": [],
   "source": [
    "#poi_features.duplicated()"
   ]
  },
  {
   "cell_type": "code",
   "execution_count": 124,
   "metadata": {
    "collapsed": false
   },
   "outputs": [
    {
     "data": {
      "text/html": [
       "<div>\n",
       "<table border=\"1\" class=\"dataframe\">\n",
       "  <thead>\n",
       "    <tr style=\"text-align: right;\">\n",
       "      <th></th>\n",
       "      <th>(Amusement, 1, 1, 1, 1)</th>\n",
       "    </tr>\n",
       "    <tr>\n",
       "      <th>(poiTheme, popularity, avgDuration, clusterID)</th>\n",
       "      <th></th>\n",
       "    </tr>\n",
       "  </thead>\n",
       "  <tbody>\n",
       "    <tr>\n",
       "      <th>(Amusement, 1, 1, 1, 0)</th>\n",
       "      <td>0.000028</td>\n",
       "    </tr>\n",
       "  </tbody>\n",
       "</table>\n",
       "</div>"
      ],
      "text/plain": [
       "                                                (Amusement, 1, 1, 1, 1)\n",
       "(poiTheme, popularity, avgDuration, clusterID)                         \n",
       "(Amusement, 1, 1, 1, 0)                                        0.000028"
      ]
     },
     "execution_count": 124,
     "metadata": {},
     "output_type": "execute_result"
    }
   ],
   "source": [
    "ix = transmat_feature.index[0]; ix1 = transmat_feature.index[1]\n",
    "# simply use df.loc[tuple,:] will trigger an error as pandas treat the tuple as multiindex\n",
    "# see https://github.com/pydata/pandas/issues/7548\n",
    "#transmat_feature.loc[(ix,),]   # OK\n",
    "#transmat_feature.loc[(ix,),:]  # OK\n",
    "transmat_feature.loc[(ix,), (ix1,)] "
   ]
  },
  {
   "cell_type": "code",
   "execution_count": 125,
   "metadata": {
    "collapsed": true
   },
   "outputs": [],
   "source": [
    "poi_logtransmat = pd.DataFrame(data=np.zeros((len(poi_train), len(poi_train)), dtype=np.float), \\\n",
    "                               columns=poi_train, index=poi_train)"
   ]
  },
  {
   "cell_type": "markdown",
   "metadata": {},
   "source": [
    "Copy transition values between features with corresponding POIs."
   ]
  },
  {
   "cell_type": "code",
   "execution_count": 126,
   "metadata": {
    "collapsed": false
   },
   "outputs": [],
   "source": [
    "for p1 in poi_logtransmat.index:\n",
    "    rix = tuple(poi_features.loc[p1])\n",
    "    for p2 in poi_logtransmat.columns:\n",
    "        cix = tuple(poi_features.loc[p2])\n",
    "        value_ = transmat_feature.loc[(rix,), (cix,)]\n",
    "        #print(value_.values)\n",
    "        poi_logtransmat.loc[p1, p2] = value_.values[0, 0]"
   ]
  },
  {
   "cell_type": "code",
   "execution_count": 127,
   "metadata": {
    "collapsed": false
   },
   "outputs": [
    {
     "data": {
      "text/html": [
       "<div>\n",
       "<table border=\"1\" class=\"dataframe\">\n",
       "  <thead>\n",
       "    <tr style=\"text-align: right;\">\n",
       "      <th></th>\n",
       "      <th>1</th>\n",
       "      <th>2</th>\n",
       "      <th>3</th>\n",
       "      <th>4</th>\n",
       "      <th>6</th>\n",
       "      <th>7</th>\n",
       "      <th>8</th>\n",
       "      <th>9</th>\n",
       "      <th>10</th>\n",
       "      <th>11</th>\n",
       "      <th>...</th>\n",
       "      <th>21</th>\n",
       "      <th>22</th>\n",
       "      <th>23</th>\n",
       "      <th>24</th>\n",
       "      <th>25</th>\n",
       "      <th>26</th>\n",
       "      <th>27</th>\n",
       "      <th>28</th>\n",
       "      <th>29</th>\n",
       "      <th>30</th>\n",
       "    </tr>\n",
       "  </thead>\n",
       "  <tbody>\n",
       "    <tr>\n",
       "      <th>1</th>\n",
       "      <td>0.060841</td>\n",
       "      <td>0.000195</td>\n",
       "      <td>0.060841</td>\n",
       "      <td>0.060841</td>\n",
       "      <td>0.130373</td>\n",
       "      <td>0.130373</td>\n",
       "      <td>0.130373</td>\n",
       "      <td>5.492629e-08</td>\n",
       "      <td>0.002666</td>\n",
       "      <td>0.130373</td>\n",
       "      <td>...</td>\n",
       "      <td>0.139065</td>\n",
       "      <td>0.139065</td>\n",
       "      <td>0.086915</td>\n",
       "      <td>0.086915</td>\n",
       "      <td>0.086915</td>\n",
       "      <td>3.661753e-08</td>\n",
       "      <td>0.016083</td>\n",
       "      <td>0.028949</td>\n",
       "      <td>0.156448</td>\n",
       "      <td>0.156448</td>\n",
       "    </tr>\n",
       "    <tr>\n",
       "      <th>2</th>\n",
       "      <td>0.010129</td>\n",
       "      <td>0.046001</td>\n",
       "      <td>0.010129</td>\n",
       "      <td>0.010129</td>\n",
       "      <td>0.021704</td>\n",
       "      <td>0.021704</td>\n",
       "      <td>0.021704</td>\n",
       "      <td>1.267724e-06</td>\n",
       "      <td>0.000444</td>\n",
       "      <td>0.021704</td>\n",
       "      <td>...</td>\n",
       "      <td>0.023151</td>\n",
       "      <td>0.023151</td>\n",
       "      <td>0.014470</td>\n",
       "      <td>0.014470</td>\n",
       "      <td>0.014470</td>\n",
       "      <td>8.451494e-07</td>\n",
       "      <td>0.002677</td>\n",
       "      <td>0.004819</td>\n",
       "      <td>0.026045</td>\n",
       "      <td>0.026045</td>\n",
       "    </tr>\n",
       "    <tr>\n",
       "      <th>3</th>\n",
       "      <td>0.060841</td>\n",
       "      <td>0.000195</td>\n",
       "      <td>0.060841</td>\n",
       "      <td>0.060841</td>\n",
       "      <td>0.130373</td>\n",
       "      <td>0.130373</td>\n",
       "      <td>0.130373</td>\n",
       "      <td>5.492629e-08</td>\n",
       "      <td>0.002666</td>\n",
       "      <td>0.130373</td>\n",
       "      <td>...</td>\n",
       "      <td>0.139065</td>\n",
       "      <td>0.139065</td>\n",
       "      <td>0.086915</td>\n",
       "      <td>0.086915</td>\n",
       "      <td>0.086915</td>\n",
       "      <td>3.661753e-08</td>\n",
       "      <td>0.016083</td>\n",
       "      <td>0.028949</td>\n",
       "      <td>0.156448</td>\n",
       "      <td>0.156448</td>\n",
       "    </tr>\n",
       "    <tr>\n",
       "      <th>4</th>\n",
       "      <td>0.060841</td>\n",
       "      <td>0.000195</td>\n",
       "      <td>0.060841</td>\n",
       "      <td>0.060841</td>\n",
       "      <td>0.130373</td>\n",
       "      <td>0.130373</td>\n",
       "      <td>0.130373</td>\n",
       "      <td>5.492629e-08</td>\n",
       "      <td>0.002666</td>\n",
       "      <td>0.130373</td>\n",
       "      <td>...</td>\n",
       "      <td>0.139065</td>\n",
       "      <td>0.139065</td>\n",
       "      <td>0.086915</td>\n",
       "      <td>0.086915</td>\n",
       "      <td>0.086915</td>\n",
       "      <td>3.661753e-08</td>\n",
       "      <td>0.016083</td>\n",
       "      <td>0.028949</td>\n",
       "      <td>0.156448</td>\n",
       "      <td>0.156448</td>\n",
       "    </tr>\n",
       "    <tr>\n",
       "      <th>6</th>\n",
       "      <td>0.062445</td>\n",
       "      <td>0.000200</td>\n",
       "      <td>0.062445</td>\n",
       "      <td>0.062445</td>\n",
       "      <td>0.107544</td>\n",
       "      <td>0.107544</td>\n",
       "      <td>0.107544</td>\n",
       "      <td>4.530830e-08</td>\n",
       "      <td>0.002199</td>\n",
       "      <td>0.107544</td>\n",
       "      <td>...</td>\n",
       "      <td>0.156112</td>\n",
       "      <td>0.156112</td>\n",
       "      <td>0.183865</td>\n",
       "      <td>0.183865</td>\n",
       "      <td>0.183865</td>\n",
       "      <td>7.746257e-08</td>\n",
       "      <td>0.034022</td>\n",
       "      <td>0.041084</td>\n",
       "      <td>0.222026</td>\n",
       "      <td>0.222026</td>\n",
       "    </tr>\n",
       "    <tr>\n",
       "      <th>7</th>\n",
       "      <td>0.062445</td>\n",
       "      <td>0.000200</td>\n",
       "      <td>0.062445</td>\n",
       "      <td>0.062445</td>\n",
       "      <td>0.107544</td>\n",
       "      <td>0.107544</td>\n",
       "      <td>0.107544</td>\n",
       "      <td>4.530830e-08</td>\n",
       "      <td>0.002199</td>\n",
       "      <td>0.107544</td>\n",
       "      <td>...</td>\n",
       "      <td>0.156112</td>\n",
       "      <td>0.156112</td>\n",
       "      <td>0.183865</td>\n",
       "      <td>0.183865</td>\n",
       "      <td>0.183865</td>\n",
       "      <td>7.746257e-08</td>\n",
       "      <td>0.034022</td>\n",
       "      <td>0.041084</td>\n",
       "      <td>0.222026</td>\n",
       "      <td>0.222026</td>\n",
       "    </tr>\n",
       "    <tr>\n",
       "      <th>8</th>\n",
       "      <td>0.062445</td>\n",
       "      <td>0.000200</td>\n",
       "      <td>0.062445</td>\n",
       "      <td>0.062445</td>\n",
       "      <td>0.107544</td>\n",
       "      <td>0.107544</td>\n",
       "      <td>0.107544</td>\n",
       "      <td>4.530830e-08</td>\n",
       "      <td>0.002199</td>\n",
       "      <td>0.107544</td>\n",
       "      <td>...</td>\n",
       "      <td>0.156112</td>\n",
       "      <td>0.156112</td>\n",
       "      <td>0.183865</td>\n",
       "      <td>0.183865</td>\n",
       "      <td>0.183865</td>\n",
       "      <td>7.746257e-08</td>\n",
       "      <td>0.034022</td>\n",
       "      <td>0.041084</td>\n",
       "      <td>0.222026</td>\n",
       "      <td>0.222026</td>\n",
       "    </tr>\n",
       "    <tr>\n",
       "      <th>9</th>\n",
       "      <td>0.013577</td>\n",
       "      <td>0.002263</td>\n",
       "      <td>0.013577</td>\n",
       "      <td>0.013577</td>\n",
       "      <td>0.023382</td>\n",
       "      <td>0.023382</td>\n",
       "      <td>0.023382</td>\n",
       "      <td>1.855742e-03</td>\n",
       "      <td>0.019485</td>\n",
       "      <td>0.023382</td>\n",
       "      <td>...</td>\n",
       "      <td>0.033942</td>\n",
       "      <td>0.033942</td>\n",
       "      <td>0.039976</td>\n",
       "      <td>0.039976</td>\n",
       "      <td>0.039976</td>\n",
       "      <td>3.172720e-03</td>\n",
       "      <td>0.007397</td>\n",
       "      <td>0.008932</td>\n",
       "      <td>0.048273</td>\n",
       "      <td>0.048273</td>\n",
       "    </tr>\n",
       "    <tr>\n",
       "      <th>10</th>\n",
       "      <td>0.034757</td>\n",
       "      <td>0.000111</td>\n",
       "      <td>0.034757</td>\n",
       "      <td>0.034757</td>\n",
       "      <td>0.059860</td>\n",
       "      <td>0.059860</td>\n",
       "      <td>0.059860</td>\n",
       "      <td>1.027675e-06</td>\n",
       "      <td>0.049883</td>\n",
       "      <td>0.059860</td>\n",
       "      <td>...</td>\n",
       "      <td>0.086893</td>\n",
       "      <td>0.086893</td>\n",
       "      <td>0.102341</td>\n",
       "      <td>0.102341</td>\n",
       "      <td>0.102341</td>\n",
       "      <td>1.756992e-06</td>\n",
       "      <td>0.018937</td>\n",
       "      <td>0.022867</td>\n",
       "      <td>0.123582</td>\n",
       "      <td>0.123582</td>\n",
       "    </tr>\n",
       "    <tr>\n",
       "      <th>11</th>\n",
       "      <td>0.062445</td>\n",
       "      <td>0.000200</td>\n",
       "      <td>0.062445</td>\n",
       "      <td>0.062445</td>\n",
       "      <td>0.107544</td>\n",
       "      <td>0.107544</td>\n",
       "      <td>0.107544</td>\n",
       "      <td>4.530830e-08</td>\n",
       "      <td>0.002199</td>\n",
       "      <td>0.107544</td>\n",
       "      <td>...</td>\n",
       "      <td>0.156112</td>\n",
       "      <td>0.156112</td>\n",
       "      <td>0.183865</td>\n",
       "      <td>0.183865</td>\n",
       "      <td>0.183865</td>\n",
       "      <td>7.746257e-08</td>\n",
       "      <td>0.034022</td>\n",
       "      <td>0.041084</td>\n",
       "      <td>0.222026</td>\n",
       "      <td>0.222026</td>\n",
       "    </tr>\n",
       "    <tr>\n",
       "      <th>12</th>\n",
       "      <td>0.006992</td>\n",
       "      <td>0.006992</td>\n",
       "      <td>0.006992</td>\n",
       "      <td>0.006992</td>\n",
       "      <td>0.012042</td>\n",
       "      <td>0.012042</td>\n",
       "      <td>0.012042</td>\n",
       "      <td>1.719642e-04</td>\n",
       "      <td>0.010035</td>\n",
       "      <td>0.012042</td>\n",
       "      <td>...</td>\n",
       "      <td>0.017480</td>\n",
       "      <td>0.017480</td>\n",
       "      <td>0.020587</td>\n",
       "      <td>0.020587</td>\n",
       "      <td>0.020587</td>\n",
       "      <td>2.940033e-04</td>\n",
       "      <td>0.003809</td>\n",
       "      <td>0.004600</td>\n",
       "      <td>0.024860</td>\n",
       "      <td>0.024860</td>\n",
       "    </tr>\n",
       "  </tbody>\n",
       "</table>\n",
       "<p>11 rows × 29 columns</p>\n",
       "</div>"
      ],
      "text/plain": [
       "          1         2         3         4         6         7         8   \\\n",
       "1   0.060841  0.000195  0.060841  0.060841  0.130373  0.130373  0.130373   \n",
       "2   0.010129  0.046001  0.010129  0.010129  0.021704  0.021704  0.021704   \n",
       "3   0.060841  0.000195  0.060841  0.060841  0.130373  0.130373  0.130373   \n",
       "4   0.060841  0.000195  0.060841  0.060841  0.130373  0.130373  0.130373   \n",
       "6   0.062445  0.000200  0.062445  0.062445  0.107544  0.107544  0.107544   \n",
       "7   0.062445  0.000200  0.062445  0.062445  0.107544  0.107544  0.107544   \n",
       "8   0.062445  0.000200  0.062445  0.062445  0.107544  0.107544  0.107544   \n",
       "9   0.013577  0.002263  0.013577  0.013577  0.023382  0.023382  0.023382   \n",
       "10  0.034757  0.000111  0.034757  0.034757  0.059860  0.059860  0.059860   \n",
       "11  0.062445  0.000200  0.062445  0.062445  0.107544  0.107544  0.107544   \n",
       "12  0.006992  0.006992  0.006992  0.006992  0.012042  0.012042  0.012042   \n",
       "\n",
       "              9         10        11    ...           21        22        23  \\\n",
       "1   5.492629e-08  0.002666  0.130373    ...     0.139065  0.139065  0.086915   \n",
       "2   1.267724e-06  0.000444  0.021704    ...     0.023151  0.023151  0.014470   \n",
       "3   5.492629e-08  0.002666  0.130373    ...     0.139065  0.139065  0.086915   \n",
       "4   5.492629e-08  0.002666  0.130373    ...     0.139065  0.139065  0.086915   \n",
       "6   4.530830e-08  0.002199  0.107544    ...     0.156112  0.156112  0.183865   \n",
       "7   4.530830e-08  0.002199  0.107544    ...     0.156112  0.156112  0.183865   \n",
       "8   4.530830e-08  0.002199  0.107544    ...     0.156112  0.156112  0.183865   \n",
       "9   1.855742e-03  0.019485  0.023382    ...     0.033942  0.033942  0.039976   \n",
       "10  1.027675e-06  0.049883  0.059860    ...     0.086893  0.086893  0.102341   \n",
       "11  4.530830e-08  0.002199  0.107544    ...     0.156112  0.156112  0.183865   \n",
       "12  1.719642e-04  0.010035  0.012042    ...     0.017480  0.017480  0.020587   \n",
       "\n",
       "          24        25            26        27        28        29        30  \n",
       "1   0.086915  0.086915  3.661753e-08  0.016083  0.028949  0.156448  0.156448  \n",
       "2   0.014470  0.014470  8.451494e-07  0.002677  0.004819  0.026045  0.026045  \n",
       "3   0.086915  0.086915  3.661753e-08  0.016083  0.028949  0.156448  0.156448  \n",
       "4   0.086915  0.086915  3.661753e-08  0.016083  0.028949  0.156448  0.156448  \n",
       "6   0.183865  0.183865  7.746257e-08  0.034022  0.041084  0.222026  0.222026  \n",
       "7   0.183865  0.183865  7.746257e-08  0.034022  0.041084  0.222026  0.222026  \n",
       "8   0.183865  0.183865  7.746257e-08  0.034022  0.041084  0.222026  0.222026  \n",
       "9   0.039976  0.039976  3.172720e-03  0.007397  0.008932  0.048273  0.048273  \n",
       "10  0.102341  0.102341  1.756992e-06  0.018937  0.022867  0.123582  0.123582  \n",
       "11  0.183865  0.183865  7.746257e-08  0.034022  0.041084  0.222026  0.222026  \n",
       "12  0.020587  0.020587  2.940033e-04  0.003809  0.004600  0.024860  0.024860  \n",
       "\n",
       "[11 rows x 29 columns]"
      ]
     },
     "execution_count": 127,
     "metadata": {},
     "output_type": "execute_result"
    }
   ],
   "source": [
    "poi_logtransmat.head(11)"
   ]
  },
  {
   "cell_type": "markdown",
   "metadata": {},
   "source": [
    "Deal with POI features that correspond to more than once POIs."
   ]
  },
  {
   "cell_type": "code",
   "execution_count": 128,
   "metadata": {
    "collapsed": false
   },
   "outputs": [
    {
     "data": {
      "text/plain": [
       "{('Amusement', 1, 1, 1, 0): [14, 18],\n",
       " ('Amusement', 1, 1, 1, 3): [15],\n",
       " ('Amusement', 1, 1, 2, 0): [17],\n",
       " ('Amusement', 2, 2, 2, 3): [16],\n",
       " ('Beach', 1, 1, 1, 0): [20],\n",
       " ('Beach', 1, 2, 1, 3): [19],\n",
       " ('Beach', 2, 2, 2, 3): [21, 22],\n",
       " ('Cultural', 1, 1, 2, 4): [9],\n",
       " ('Cultural', 1, 2, 2, 1): [12],\n",
       " ('Cultural', 1, 2, 2, 3): [10],\n",
       " ('Cultural', 2, 2, 2, 3): [6, 7, 8, 11, 13],\n",
       " ('Shopping', 1, 1, 2, 2): [26],\n",
       " ('Shopping', 2, 2, 1, 3): [27],\n",
       " ('Shopping', 2, 2, 2, 3): [23, 24, 25],\n",
       " ('Sport', 2, 2, 2, 0): [2],\n",
       " ('Sport', 2, 2, 2, 3): [1, 3, 4],\n",
       " ('Structure', 2, 2, 1, 3): [28],\n",
       " ('Structure', 2, 2, 2, 3): [29, 30]}"
      ]
     },
     "execution_count": 128,
     "metadata": {},
     "output_type": "execute_result"
    }
   ],
   "source": [
    "features_dup = dict()\n",
    "for poi in poi_features.index:\n",
    "    key = tuple(poi_features.loc[poi])\n",
    "    if key in features_dup:\n",
    "        features_dup[key].append(poi)\n",
    "    else:\n",
    "        features_dup[key] = [poi]\n",
    "features_dup"
   ]
  },
  {
   "cell_type": "code",
   "execution_count": 129,
   "metadata": {
    "collapsed": true
   },
   "outputs": [],
   "source": [
    "for feature in sorted(features_dup.keys()):\n",
    "    n = len(features_dup[feature])\n",
    "    if n > 1:\n",
    "        group = features_dup[feature]\n",
    "        v1 = poi_logtransmat.loc[group[0], group[0]]  # transition value of self-loop of POI group\n",
    "        \n",
    "        # divide incoming transition value (i.e. unnormalised transition probability) uniformly among group members\n",
    "        for poi in group:\n",
    "            poi_logtransmat[poi] /= n\n",
    "        \n",
    "        # outgoing transition value has already been duplicated (value copied above)\n",
    "        \n",
    "        # duplicate & divide transition value of self-loop of POI group uniformly among all outgoing transitions,\n",
    "        # from a POI to all other POIs in the same group (excluding POI self-loop)\n",
    "        v2 = v1 / (n - 1)\n",
    "        for pair in itertools.permutations(group, 2):\n",
    "            poi_logtransmat.loc[pair[0], pair[1]] = v2"
   ]
  },
  {
   "cell_type": "markdown",
   "metadata": {},
   "source": [
    "Make the transition value of all self-loops of POIs to $0$."
   ]
  },
  {
   "cell_type": "code",
   "execution_count": 130,
   "metadata": {
    "collapsed": true
   },
   "outputs": [],
   "source": [
    "for p1 in poi_logtransmat.index:\n",
    "    poi_logtransmat.loc[p1, p1] = 0"
   ]
  },
  {
   "cell_type": "code",
   "execution_count": 131,
   "metadata": {
    "collapsed": false
   },
   "outputs": [
    {
     "data": {
      "text/html": [
       "<div>\n",
       "<table border=\"1\" class=\"dataframe\">\n",
       "  <thead>\n",
       "    <tr style=\"text-align: right;\">\n",
       "      <th></th>\n",
       "      <th>1</th>\n",
       "      <th>2</th>\n",
       "      <th>3</th>\n",
       "      <th>4</th>\n",
       "      <th>6</th>\n",
       "      <th>7</th>\n",
       "      <th>8</th>\n",
       "      <th>9</th>\n",
       "      <th>10</th>\n",
       "      <th>11</th>\n",
       "      <th>...</th>\n",
       "      <th>21</th>\n",
       "      <th>22</th>\n",
       "      <th>23</th>\n",
       "      <th>24</th>\n",
       "      <th>25</th>\n",
       "      <th>26</th>\n",
       "      <th>27</th>\n",
       "      <th>28</th>\n",
       "      <th>29</th>\n",
       "      <th>30</th>\n",
       "    </tr>\n",
       "  </thead>\n",
       "  <tbody>\n",
       "    <tr>\n",
       "      <th>1</th>\n",
       "      <td>0.000000</td>\n",
       "      <td>0.000195</td>\n",
       "      <td>0.030420</td>\n",
       "      <td>0.030420</td>\n",
       "      <td>0.026075</td>\n",
       "      <td>0.026075</td>\n",
       "      <td>0.026075</td>\n",
       "      <td>5.492629e-08</td>\n",
       "      <td>0.002666</td>\n",
       "      <td>0.026075</td>\n",
       "      <td>...</td>\n",
       "      <td>0.069532</td>\n",
       "      <td>0.069532</td>\n",
       "      <td>0.028972</td>\n",
       "      <td>0.028972</td>\n",
       "      <td>0.028972</td>\n",
       "      <td>3.661753e-08</td>\n",
       "      <td>0.016083</td>\n",
       "      <td>0.028949</td>\n",
       "      <td>0.078224</td>\n",
       "      <td>0.078224</td>\n",
       "    </tr>\n",
       "    <tr>\n",
       "      <th>2</th>\n",
       "      <td>0.003376</td>\n",
       "      <td>0.000000</td>\n",
       "      <td>0.003376</td>\n",
       "      <td>0.003376</td>\n",
       "      <td>0.004341</td>\n",
       "      <td>0.004341</td>\n",
       "      <td>0.004341</td>\n",
       "      <td>1.267724e-06</td>\n",
       "      <td>0.000444</td>\n",
       "      <td>0.004341</td>\n",
       "      <td>...</td>\n",
       "      <td>0.011576</td>\n",
       "      <td>0.011576</td>\n",
       "      <td>0.004823</td>\n",
       "      <td>0.004823</td>\n",
       "      <td>0.004823</td>\n",
       "      <td>8.451494e-07</td>\n",
       "      <td>0.002677</td>\n",
       "      <td>0.004819</td>\n",
       "      <td>0.013023</td>\n",
       "      <td>0.013023</td>\n",
       "    </tr>\n",
       "    <tr>\n",
       "      <th>3</th>\n",
       "      <td>0.030420</td>\n",
       "      <td>0.000195</td>\n",
       "      <td>0.000000</td>\n",
       "      <td>0.030420</td>\n",
       "      <td>0.026075</td>\n",
       "      <td>0.026075</td>\n",
       "      <td>0.026075</td>\n",
       "      <td>5.492629e-08</td>\n",
       "      <td>0.002666</td>\n",
       "      <td>0.026075</td>\n",
       "      <td>...</td>\n",
       "      <td>0.069532</td>\n",
       "      <td>0.069532</td>\n",
       "      <td>0.028972</td>\n",
       "      <td>0.028972</td>\n",
       "      <td>0.028972</td>\n",
       "      <td>3.661753e-08</td>\n",
       "      <td>0.016083</td>\n",
       "      <td>0.028949</td>\n",
       "      <td>0.078224</td>\n",
       "      <td>0.078224</td>\n",
       "    </tr>\n",
       "    <tr>\n",
       "      <th>4</th>\n",
       "      <td>0.030420</td>\n",
       "      <td>0.000195</td>\n",
       "      <td>0.030420</td>\n",
       "      <td>0.000000</td>\n",
       "      <td>0.026075</td>\n",
       "      <td>0.026075</td>\n",
       "      <td>0.026075</td>\n",
       "      <td>5.492629e-08</td>\n",
       "      <td>0.002666</td>\n",
       "      <td>0.026075</td>\n",
       "      <td>...</td>\n",
       "      <td>0.069532</td>\n",
       "      <td>0.069532</td>\n",
       "      <td>0.028972</td>\n",
       "      <td>0.028972</td>\n",
       "      <td>0.028972</td>\n",
       "      <td>3.661753e-08</td>\n",
       "      <td>0.016083</td>\n",
       "      <td>0.028949</td>\n",
       "      <td>0.078224</td>\n",
       "      <td>0.078224</td>\n",
       "    </tr>\n",
       "    <tr>\n",
       "      <th>6</th>\n",
       "      <td>0.020815</td>\n",
       "      <td>0.000200</td>\n",
       "      <td>0.020815</td>\n",
       "      <td>0.020815</td>\n",
       "      <td>0.000000</td>\n",
       "      <td>0.026886</td>\n",
       "      <td>0.026886</td>\n",
       "      <td>4.530830e-08</td>\n",
       "      <td>0.002199</td>\n",
       "      <td>0.026886</td>\n",
       "      <td>...</td>\n",
       "      <td>0.078056</td>\n",
       "      <td>0.078056</td>\n",
       "      <td>0.061288</td>\n",
       "      <td>0.061288</td>\n",
       "      <td>0.061288</td>\n",
       "      <td>7.746257e-08</td>\n",
       "      <td>0.034022</td>\n",
       "      <td>0.041084</td>\n",
       "      <td>0.111013</td>\n",
       "      <td>0.111013</td>\n",
       "    </tr>\n",
       "    <tr>\n",
       "      <th>7</th>\n",
       "      <td>0.020815</td>\n",
       "      <td>0.000200</td>\n",
       "      <td>0.020815</td>\n",
       "      <td>0.020815</td>\n",
       "      <td>0.026886</td>\n",
       "      <td>0.000000</td>\n",
       "      <td>0.026886</td>\n",
       "      <td>4.530830e-08</td>\n",
       "      <td>0.002199</td>\n",
       "      <td>0.026886</td>\n",
       "      <td>...</td>\n",
       "      <td>0.078056</td>\n",
       "      <td>0.078056</td>\n",
       "      <td>0.061288</td>\n",
       "      <td>0.061288</td>\n",
       "      <td>0.061288</td>\n",
       "      <td>7.746257e-08</td>\n",
       "      <td>0.034022</td>\n",
       "      <td>0.041084</td>\n",
       "      <td>0.111013</td>\n",
       "      <td>0.111013</td>\n",
       "    </tr>\n",
       "    <tr>\n",
       "      <th>8</th>\n",
       "      <td>0.020815</td>\n",
       "      <td>0.000200</td>\n",
       "      <td>0.020815</td>\n",
       "      <td>0.020815</td>\n",
       "      <td>0.026886</td>\n",
       "      <td>0.026886</td>\n",
       "      <td>0.000000</td>\n",
       "      <td>4.530830e-08</td>\n",
       "      <td>0.002199</td>\n",
       "      <td>0.026886</td>\n",
       "      <td>...</td>\n",
       "      <td>0.078056</td>\n",
       "      <td>0.078056</td>\n",
       "      <td>0.061288</td>\n",
       "      <td>0.061288</td>\n",
       "      <td>0.061288</td>\n",
       "      <td>7.746257e-08</td>\n",
       "      <td>0.034022</td>\n",
       "      <td>0.041084</td>\n",
       "      <td>0.111013</td>\n",
       "      <td>0.111013</td>\n",
       "    </tr>\n",
       "    <tr>\n",
       "      <th>9</th>\n",
       "      <td>0.004526</td>\n",
       "      <td>0.002263</td>\n",
       "      <td>0.004526</td>\n",
       "      <td>0.004526</td>\n",
       "      <td>0.004676</td>\n",
       "      <td>0.004676</td>\n",
       "      <td>0.004676</td>\n",
       "      <td>0.000000e+00</td>\n",
       "      <td>0.019485</td>\n",
       "      <td>0.004676</td>\n",
       "      <td>...</td>\n",
       "      <td>0.016971</td>\n",
       "      <td>0.016971</td>\n",
       "      <td>0.013325</td>\n",
       "      <td>0.013325</td>\n",
       "      <td>0.013325</td>\n",
       "      <td>3.172720e-03</td>\n",
       "      <td>0.007397</td>\n",
       "      <td>0.008932</td>\n",
       "      <td>0.024137</td>\n",
       "      <td>0.024137</td>\n",
       "    </tr>\n",
       "    <tr>\n",
       "      <th>10</th>\n",
       "      <td>0.011586</td>\n",
       "      <td>0.000111</td>\n",
       "      <td>0.011586</td>\n",
       "      <td>0.011586</td>\n",
       "      <td>0.011972</td>\n",
       "      <td>0.011972</td>\n",
       "      <td>0.011972</td>\n",
       "      <td>1.027675e-06</td>\n",
       "      <td>0.000000</td>\n",
       "      <td>0.011972</td>\n",
       "      <td>...</td>\n",
       "      <td>0.043447</td>\n",
       "      <td>0.043447</td>\n",
       "      <td>0.034114</td>\n",
       "      <td>0.034114</td>\n",
       "      <td>0.034114</td>\n",
       "      <td>1.756992e-06</td>\n",
       "      <td>0.018937</td>\n",
       "      <td>0.022867</td>\n",
       "      <td>0.061791</td>\n",
       "      <td>0.061791</td>\n",
       "    </tr>\n",
       "    <tr>\n",
       "      <th>11</th>\n",
       "      <td>0.020815</td>\n",
       "      <td>0.000200</td>\n",
       "      <td>0.020815</td>\n",
       "      <td>0.020815</td>\n",
       "      <td>0.026886</td>\n",
       "      <td>0.026886</td>\n",
       "      <td>0.026886</td>\n",
       "      <td>4.530830e-08</td>\n",
       "      <td>0.002199</td>\n",
       "      <td>0.000000</td>\n",
       "      <td>...</td>\n",
       "      <td>0.078056</td>\n",
       "      <td>0.078056</td>\n",
       "      <td>0.061288</td>\n",
       "      <td>0.061288</td>\n",
       "      <td>0.061288</td>\n",
       "      <td>7.746257e-08</td>\n",
       "      <td>0.034022</td>\n",
       "      <td>0.041084</td>\n",
       "      <td>0.111013</td>\n",
       "      <td>0.111013</td>\n",
       "    </tr>\n",
       "    <tr>\n",
       "      <th>12</th>\n",
       "      <td>0.002331</td>\n",
       "      <td>0.006992</td>\n",
       "      <td>0.002331</td>\n",
       "      <td>0.002331</td>\n",
       "      <td>0.002408</td>\n",
       "      <td>0.002408</td>\n",
       "      <td>0.002408</td>\n",
       "      <td>1.719642e-04</td>\n",
       "      <td>0.010035</td>\n",
       "      <td>0.002408</td>\n",
       "      <td>...</td>\n",
       "      <td>0.008740</td>\n",
       "      <td>0.008740</td>\n",
       "      <td>0.006862</td>\n",
       "      <td>0.006862</td>\n",
       "      <td>0.006862</td>\n",
       "      <td>2.940033e-04</td>\n",
       "      <td>0.003809</td>\n",
       "      <td>0.004600</td>\n",
       "      <td>0.012430</td>\n",
       "      <td>0.012430</td>\n",
       "    </tr>\n",
       "  </tbody>\n",
       "</table>\n",
       "<p>11 rows × 29 columns</p>\n",
       "</div>"
      ],
      "text/plain": [
       "          1         2         3         4         6         7         8   \\\n",
       "1   0.000000  0.000195  0.030420  0.030420  0.026075  0.026075  0.026075   \n",
       "2   0.003376  0.000000  0.003376  0.003376  0.004341  0.004341  0.004341   \n",
       "3   0.030420  0.000195  0.000000  0.030420  0.026075  0.026075  0.026075   \n",
       "4   0.030420  0.000195  0.030420  0.000000  0.026075  0.026075  0.026075   \n",
       "6   0.020815  0.000200  0.020815  0.020815  0.000000  0.026886  0.026886   \n",
       "7   0.020815  0.000200  0.020815  0.020815  0.026886  0.000000  0.026886   \n",
       "8   0.020815  0.000200  0.020815  0.020815  0.026886  0.026886  0.000000   \n",
       "9   0.004526  0.002263  0.004526  0.004526  0.004676  0.004676  0.004676   \n",
       "10  0.011586  0.000111  0.011586  0.011586  0.011972  0.011972  0.011972   \n",
       "11  0.020815  0.000200  0.020815  0.020815  0.026886  0.026886  0.026886   \n",
       "12  0.002331  0.006992  0.002331  0.002331  0.002408  0.002408  0.002408   \n",
       "\n",
       "              9         10        11    ...           21        22        23  \\\n",
       "1   5.492629e-08  0.002666  0.026075    ...     0.069532  0.069532  0.028972   \n",
       "2   1.267724e-06  0.000444  0.004341    ...     0.011576  0.011576  0.004823   \n",
       "3   5.492629e-08  0.002666  0.026075    ...     0.069532  0.069532  0.028972   \n",
       "4   5.492629e-08  0.002666  0.026075    ...     0.069532  0.069532  0.028972   \n",
       "6   4.530830e-08  0.002199  0.026886    ...     0.078056  0.078056  0.061288   \n",
       "7   4.530830e-08  0.002199  0.026886    ...     0.078056  0.078056  0.061288   \n",
       "8   4.530830e-08  0.002199  0.026886    ...     0.078056  0.078056  0.061288   \n",
       "9   0.000000e+00  0.019485  0.004676    ...     0.016971  0.016971  0.013325   \n",
       "10  1.027675e-06  0.000000  0.011972    ...     0.043447  0.043447  0.034114   \n",
       "11  4.530830e-08  0.002199  0.000000    ...     0.078056  0.078056  0.061288   \n",
       "12  1.719642e-04  0.010035  0.002408    ...     0.008740  0.008740  0.006862   \n",
       "\n",
       "          24        25            26        27        28        29        30  \n",
       "1   0.028972  0.028972  3.661753e-08  0.016083  0.028949  0.078224  0.078224  \n",
       "2   0.004823  0.004823  8.451494e-07  0.002677  0.004819  0.013023  0.013023  \n",
       "3   0.028972  0.028972  3.661753e-08  0.016083  0.028949  0.078224  0.078224  \n",
       "4   0.028972  0.028972  3.661753e-08  0.016083  0.028949  0.078224  0.078224  \n",
       "6   0.061288  0.061288  7.746257e-08  0.034022  0.041084  0.111013  0.111013  \n",
       "7   0.061288  0.061288  7.746257e-08  0.034022  0.041084  0.111013  0.111013  \n",
       "8   0.061288  0.061288  7.746257e-08  0.034022  0.041084  0.111013  0.111013  \n",
       "9   0.013325  0.013325  3.172720e-03  0.007397  0.008932  0.024137  0.024137  \n",
       "10  0.034114  0.034114  1.756992e-06  0.018937  0.022867  0.061791  0.061791  \n",
       "11  0.061288  0.061288  7.746257e-08  0.034022  0.041084  0.111013  0.111013  \n",
       "12  0.006862  0.006862  2.940033e-04  0.003809  0.004600  0.012430  0.012430  \n",
       "\n",
       "[11 rows x 29 columns]"
      ]
     },
     "execution_count": 131,
     "metadata": {},
     "output_type": "execute_result"
    }
   ],
   "source": [
    "poi_logtransmat.head(11)"
   ]
  },
  {
   "cell_type": "markdown",
   "metadata": {},
   "source": [
    "Normalise and compute log probability."
   ]
  },
  {
   "cell_type": "code",
   "execution_count": 132,
   "metadata": {
    "collapsed": true
   },
   "outputs": [],
   "source": [
    "for p1 in poi_logtransmat.index:\n",
    "    rowsum = poi_logtransmat.loc[p1].sum()\n",
    "    assert(rowsum > 0)\n",
    "    logrowsum = np.log10(rowsum)\n",
    "    for p2 in poi_logtransmat.columns:\n",
    "        if p1 == p2:\n",
    "            poi_logtransmat.loc[p1, p2] = -np.inf  # deal with log(0) explicitly\n",
    "        else:\n",
    "            poi_logtransmat.loc[p1, p2] = np.log10(poi_logtransmat.loc[p1, p2]) - logrowsum"
   ]
  },
  {
   "cell_type": "code",
   "execution_count": 133,
   "metadata": {
    "collapsed": false
   },
   "outputs": [
    {
     "data": {
      "text/html": [
       "<div>\n",
       "<table border=\"1\" class=\"dataframe\">\n",
       "  <thead>\n",
       "    <tr style=\"text-align: right;\">\n",
       "      <th></th>\n",
       "      <th>1</th>\n",
       "      <th>2</th>\n",
       "      <th>3</th>\n",
       "      <th>4</th>\n",
       "      <th>6</th>\n",
       "      <th>7</th>\n",
       "      <th>8</th>\n",
       "      <th>9</th>\n",
       "      <th>10</th>\n",
       "      <th>11</th>\n",
       "      <th>...</th>\n",
       "      <th>21</th>\n",
       "      <th>22</th>\n",
       "      <th>23</th>\n",
       "      <th>24</th>\n",
       "      <th>25</th>\n",
       "      <th>26</th>\n",
       "      <th>27</th>\n",
       "      <th>28</th>\n",
       "      <th>29</th>\n",
       "      <th>30</th>\n",
       "    </tr>\n",
       "  </thead>\n",
       "  <tbody>\n",
       "    <tr>\n",
       "      <th>1</th>\n",
       "      <td>-inf</td>\n",
       "      <td>-3.642726</td>\n",
       "      <td>-1.449689</td>\n",
       "      <td>-1.449689</td>\n",
       "      <td>-1.516635</td>\n",
       "      <td>-1.516635</td>\n",
       "      <td>-1.516635</td>\n",
       "      <td>-7.193073</td>\n",
       "      <td>-2.506974</td>\n",
       "      <td>-1.516635</td>\n",
       "      <td>...</td>\n",
       "      <td>-1.090667</td>\n",
       "      <td>-1.090667</td>\n",
       "      <td>-1.470878</td>\n",
       "      <td>-1.470878</td>\n",
       "      <td>-1.470878</td>\n",
       "      <td>-7.369165</td>\n",
       "      <td>-1.726493</td>\n",
       "      <td>-1.471220</td>\n",
       "      <td>-1.039514</td>\n",
       "      <td>-1.039514</td>\n",
       "    </tr>\n",
       "    <tr>\n",
       "      <th>2</th>\n",
       "      <td>-1.626157</td>\n",
       "      <td>-inf</td>\n",
       "      <td>-1.626157</td>\n",
       "      <td>-1.626157</td>\n",
       "      <td>-1.517013</td>\n",
       "      <td>-1.517013</td>\n",
       "      <td>-1.517013</td>\n",
       "      <td>-5.051566</td>\n",
       "      <td>-2.507352</td>\n",
       "      <td>-1.517013</td>\n",
       "      <td>...</td>\n",
       "      <td>-1.091044</td>\n",
       "      <td>-1.091044</td>\n",
       "      <td>-1.471255</td>\n",
       "      <td>-1.471255</td>\n",
       "      <td>-1.471255</td>\n",
       "      <td>-5.227657</td>\n",
       "      <td>-1.726870</td>\n",
       "      <td>-1.471597</td>\n",
       "      <td>-1.039891</td>\n",
       "      <td>-1.039891</td>\n",
       "    </tr>\n",
       "    <tr>\n",
       "      <th>3</th>\n",
       "      <td>-1.449689</td>\n",
       "      <td>-3.642726</td>\n",
       "      <td>-inf</td>\n",
       "      <td>-1.449689</td>\n",
       "      <td>-1.516635</td>\n",
       "      <td>-1.516635</td>\n",
       "      <td>-1.516635</td>\n",
       "      <td>-7.193073</td>\n",
       "      <td>-2.506974</td>\n",
       "      <td>-1.516635</td>\n",
       "      <td>...</td>\n",
       "      <td>-1.090667</td>\n",
       "      <td>-1.090667</td>\n",
       "      <td>-1.470878</td>\n",
       "      <td>-1.470878</td>\n",
       "      <td>-1.470878</td>\n",
       "      <td>-7.369165</td>\n",
       "      <td>-1.726493</td>\n",
       "      <td>-1.471220</td>\n",
       "      <td>-1.039514</td>\n",
       "      <td>-1.039514</td>\n",
       "    </tr>\n",
       "    <tr>\n",
       "      <th>4</th>\n",
       "      <td>-1.449689</td>\n",
       "      <td>-3.642726</td>\n",
       "      <td>-1.449689</td>\n",
       "      <td>-inf</td>\n",
       "      <td>-1.516635</td>\n",
       "      <td>-1.516635</td>\n",
       "      <td>-1.516635</td>\n",
       "      <td>-7.193073</td>\n",
       "      <td>-2.506974</td>\n",
       "      <td>-1.516635</td>\n",
       "      <td>...</td>\n",
       "      <td>-1.090667</td>\n",
       "      <td>-1.090667</td>\n",
       "      <td>-1.470878</td>\n",
       "      <td>-1.470878</td>\n",
       "      <td>-1.470878</td>\n",
       "      <td>-7.369165</td>\n",
       "      <td>-1.726493</td>\n",
       "      <td>-1.471220</td>\n",
       "      <td>-1.039514</td>\n",
       "      <td>-1.039514</td>\n",
       "    </tr>\n",
       "    <tr>\n",
       "      <th>6</th>\n",
       "      <td>-1.629262</td>\n",
       "      <td>-3.646208</td>\n",
       "      <td>-1.629262</td>\n",
       "      <td>-1.629262</td>\n",
       "      <td>-inf</td>\n",
       "      <td>-1.518112</td>\n",
       "      <td>-1.518112</td>\n",
       "      <td>-7.291460</td>\n",
       "      <td>-2.605360</td>\n",
       "      <td>-1.518112</td>\n",
       "      <td>...</td>\n",
       "      <td>-1.055231</td>\n",
       "      <td>-1.055231</td>\n",
       "      <td>-1.160259</td>\n",
       "      <td>-1.160259</td>\n",
       "      <td>-1.160259</td>\n",
       "      <td>-7.058545</td>\n",
       "      <td>-1.415873</td>\n",
       "      <td>-1.333969</td>\n",
       "      <td>-0.902263</td>\n",
       "      <td>-0.902263</td>\n",
       "    </tr>\n",
       "    <tr>\n",
       "      <th>7</th>\n",
       "      <td>-1.629262</td>\n",
       "      <td>-3.646208</td>\n",
       "      <td>-1.629262</td>\n",
       "      <td>-1.629262</td>\n",
       "      <td>-1.518112</td>\n",
       "      <td>-inf</td>\n",
       "      <td>-1.518112</td>\n",
       "      <td>-7.291460</td>\n",
       "      <td>-2.605360</td>\n",
       "      <td>-1.518112</td>\n",
       "      <td>...</td>\n",
       "      <td>-1.055231</td>\n",
       "      <td>-1.055231</td>\n",
       "      <td>-1.160259</td>\n",
       "      <td>-1.160259</td>\n",
       "      <td>-1.160259</td>\n",
       "      <td>-7.058545</td>\n",
       "      <td>-1.415873</td>\n",
       "      <td>-1.333969</td>\n",
       "      <td>-0.902263</td>\n",
       "      <td>-0.902263</td>\n",
       "    </tr>\n",
       "    <tr>\n",
       "      <th>8</th>\n",
       "      <td>-1.629262</td>\n",
       "      <td>-3.646208</td>\n",
       "      <td>-1.629262</td>\n",
       "      <td>-1.629262</td>\n",
       "      <td>-1.518112</td>\n",
       "      <td>-1.518112</td>\n",
       "      <td>-inf</td>\n",
       "      <td>-7.291460</td>\n",
       "      <td>-2.605360</td>\n",
       "      <td>-1.518112</td>\n",
       "      <td>...</td>\n",
       "      <td>-1.055231</td>\n",
       "      <td>-1.055231</td>\n",
       "      <td>-1.160259</td>\n",
       "      <td>-1.160259</td>\n",
       "      <td>-1.160259</td>\n",
       "      <td>-7.058545</td>\n",
       "      <td>-1.415873</td>\n",
       "      <td>-1.333969</td>\n",
       "      <td>-0.902263</td>\n",
       "      <td>-0.902263</td>\n",
       "    </tr>\n",
       "    <tr>\n",
       "      <th>9</th>\n",
       "      <td>-1.704154</td>\n",
       "      <td>-2.005184</td>\n",
       "      <td>-1.704154</td>\n",
       "      <td>-1.704154</td>\n",
       "      <td>-1.689913</td>\n",
       "      <td>-1.689913</td>\n",
       "      <td>-1.689913</td>\n",
       "      <td>-inf</td>\n",
       "      <td>-1.070125</td>\n",
       "      <td>-1.689913</td>\n",
       "      <td>...</td>\n",
       "      <td>-1.130123</td>\n",
       "      <td>-1.130123</td>\n",
       "      <td>-1.235150</td>\n",
       "      <td>-1.235150</td>\n",
       "      <td>-1.235150</td>\n",
       "      <td>-1.858400</td>\n",
       "      <td>-1.490765</td>\n",
       "      <td>-1.408861</td>\n",
       "      <td>-0.977155</td>\n",
       "      <td>-0.977155</td>\n",
       "    </tr>\n",
       "    <tr>\n",
       "      <th>10</th>\n",
       "      <td>-1.639673</td>\n",
       "      <td>-3.656620</td>\n",
       "      <td>-1.639673</td>\n",
       "      <td>-1.639673</td>\n",
       "      <td>-1.625433</td>\n",
       "      <td>-1.625433</td>\n",
       "      <td>-1.625433</td>\n",
       "      <td>-5.691743</td>\n",
       "      <td>-inf</td>\n",
       "      <td>-1.625433</td>\n",
       "      <td>...</td>\n",
       "      <td>-1.065642</td>\n",
       "      <td>-1.065642</td>\n",
       "      <td>-1.170670</td>\n",
       "      <td>-1.170670</td>\n",
       "      <td>-1.170670</td>\n",
       "      <td>-5.458829</td>\n",
       "      <td>-1.426285</td>\n",
       "      <td>-1.344381</td>\n",
       "      <td>-0.912675</td>\n",
       "      <td>-0.912675</td>\n",
       "    </tr>\n",
       "    <tr>\n",
       "      <th>11</th>\n",
       "      <td>-1.629262</td>\n",
       "      <td>-3.646208</td>\n",
       "      <td>-1.629262</td>\n",
       "      <td>-1.629262</td>\n",
       "      <td>-1.518112</td>\n",
       "      <td>-1.518112</td>\n",
       "      <td>-1.518112</td>\n",
       "      <td>-7.291460</td>\n",
       "      <td>-2.605360</td>\n",
       "      <td>-inf</td>\n",
       "      <td>...</td>\n",
       "      <td>-1.055231</td>\n",
       "      <td>-1.055231</td>\n",
       "      <td>-1.160259</td>\n",
       "      <td>-1.160259</td>\n",
       "      <td>-1.160259</td>\n",
       "      <td>-7.058545</td>\n",
       "      <td>-1.415873</td>\n",
       "      <td>-1.333969</td>\n",
       "      <td>-0.902263</td>\n",
       "      <td>-0.902263</td>\n",
       "    </tr>\n",
       "    <tr>\n",
       "      <th>12</th>\n",
       "      <td>-1.709229</td>\n",
       "      <td>-1.232108</td>\n",
       "      <td>-1.709229</td>\n",
       "      <td>-1.709229</td>\n",
       "      <td>-1.694988</td>\n",
       "      <td>-1.694988</td>\n",
       "      <td>-1.694988</td>\n",
       "      <td>-2.841262</td>\n",
       "      <td>-1.075200</td>\n",
       "      <td>-1.694988</td>\n",
       "      <td>...</td>\n",
       "      <td>-1.135198</td>\n",
       "      <td>-1.135198</td>\n",
       "      <td>-1.240225</td>\n",
       "      <td>-1.240225</td>\n",
       "      <td>-1.240225</td>\n",
       "      <td>-2.608348</td>\n",
       "      <td>-1.495840</td>\n",
       "      <td>-1.413936</td>\n",
       "      <td>-0.982230</td>\n",
       "      <td>-0.982230</td>\n",
       "    </tr>\n",
       "  </tbody>\n",
       "</table>\n",
       "<p>11 rows × 29 columns</p>\n",
       "</div>"
      ],
      "text/plain": [
       "          1         2         3         4         6         7         8   \\\n",
       "1       -inf -3.642726 -1.449689 -1.449689 -1.516635 -1.516635 -1.516635   \n",
       "2  -1.626157      -inf -1.626157 -1.626157 -1.517013 -1.517013 -1.517013   \n",
       "3  -1.449689 -3.642726      -inf -1.449689 -1.516635 -1.516635 -1.516635   \n",
       "4  -1.449689 -3.642726 -1.449689      -inf -1.516635 -1.516635 -1.516635   \n",
       "6  -1.629262 -3.646208 -1.629262 -1.629262      -inf -1.518112 -1.518112   \n",
       "7  -1.629262 -3.646208 -1.629262 -1.629262 -1.518112      -inf -1.518112   \n",
       "8  -1.629262 -3.646208 -1.629262 -1.629262 -1.518112 -1.518112      -inf   \n",
       "9  -1.704154 -2.005184 -1.704154 -1.704154 -1.689913 -1.689913 -1.689913   \n",
       "10 -1.639673 -3.656620 -1.639673 -1.639673 -1.625433 -1.625433 -1.625433   \n",
       "11 -1.629262 -3.646208 -1.629262 -1.629262 -1.518112 -1.518112 -1.518112   \n",
       "12 -1.709229 -1.232108 -1.709229 -1.709229 -1.694988 -1.694988 -1.694988   \n",
       "\n",
       "          9         10        11    ...           21        22        23  \\\n",
       "1  -7.193073 -2.506974 -1.516635    ...    -1.090667 -1.090667 -1.470878   \n",
       "2  -5.051566 -2.507352 -1.517013    ...    -1.091044 -1.091044 -1.471255   \n",
       "3  -7.193073 -2.506974 -1.516635    ...    -1.090667 -1.090667 -1.470878   \n",
       "4  -7.193073 -2.506974 -1.516635    ...    -1.090667 -1.090667 -1.470878   \n",
       "6  -7.291460 -2.605360 -1.518112    ...    -1.055231 -1.055231 -1.160259   \n",
       "7  -7.291460 -2.605360 -1.518112    ...    -1.055231 -1.055231 -1.160259   \n",
       "8  -7.291460 -2.605360 -1.518112    ...    -1.055231 -1.055231 -1.160259   \n",
       "9       -inf -1.070125 -1.689913    ...    -1.130123 -1.130123 -1.235150   \n",
       "10 -5.691743      -inf -1.625433    ...    -1.065642 -1.065642 -1.170670   \n",
       "11 -7.291460 -2.605360      -inf    ...    -1.055231 -1.055231 -1.160259   \n",
       "12 -2.841262 -1.075200 -1.694988    ...    -1.135198 -1.135198 -1.240225   \n",
       "\n",
       "          24        25        26        27        28        29        30  \n",
       "1  -1.470878 -1.470878 -7.369165 -1.726493 -1.471220 -1.039514 -1.039514  \n",
       "2  -1.471255 -1.471255 -5.227657 -1.726870 -1.471597 -1.039891 -1.039891  \n",
       "3  -1.470878 -1.470878 -7.369165 -1.726493 -1.471220 -1.039514 -1.039514  \n",
       "4  -1.470878 -1.470878 -7.369165 -1.726493 -1.471220 -1.039514 -1.039514  \n",
       "6  -1.160259 -1.160259 -7.058545 -1.415873 -1.333969 -0.902263 -0.902263  \n",
       "7  -1.160259 -1.160259 -7.058545 -1.415873 -1.333969 -0.902263 -0.902263  \n",
       "8  -1.160259 -1.160259 -7.058545 -1.415873 -1.333969 -0.902263 -0.902263  \n",
       "9  -1.235150 -1.235150 -1.858400 -1.490765 -1.408861 -0.977155 -0.977155  \n",
       "10 -1.170670 -1.170670 -5.458829 -1.426285 -1.344381 -0.912675 -0.912675  \n",
       "11 -1.160259 -1.160259 -7.058545 -1.415873 -1.333969 -0.902263 -0.902263  \n",
       "12 -1.240225 -1.240225 -2.608348 -1.495840 -1.413936 -0.982230 -0.982230  \n",
       "\n",
       "[11 rows x 29 columns]"
      ]
     },
     "execution_count": 133,
     "metadata": {},
     "output_type": "execute_result"
    }
   ],
   "source": [
    "poi_logtransmat.head(11)"
   ]
  },
  {
   "cell_type": "markdown",
   "metadata": {},
   "source": [
    "Plot transition matrix heatmap."
   ]
  },
  {
   "cell_type": "code",
   "execution_count": 134,
   "metadata": {
    "collapsed": false
   },
   "outputs": [],
   "source": [
    "prob_mat = np.power(10, poi_logtransmat)"
   ]
  },
  {
   "cell_type": "code",
   "execution_count": 135,
   "metadata": {
    "collapsed": false
   },
   "outputs": [
    {
     "data": {
      "text/plain": [
       "<matplotlib.axes._subplots.AxesSubplot at 0x7fd13301d828>"
      ]
     },
     "execution_count": 135,
     "metadata": {},
     "output_type": "execute_result"
    },
    {
     "data": {
      "image/png": "[encoded data removed]",
      "text/plain": [
       "<matplotlib.figure.Figure at 0x7fd133088d68>"
      ]
     },
     "metadata": {},
     "output_type": "display_data"
    }
   ],
   "source": [
    "plt.figure(figsize=[13, 10])\n",
    "#plt.imshow(prob_mat, interpolation='none', cmap=plt.cm.hot)  # OK\n",
    "#ticks = prob_mat.index\n",
    "#plt.xticks(np.arange(prob_mat.shape[0]), ticks)\n",
    "#plt.yticks(np.arange(prob_mat.shape[0]), ticks)\n",
    "#plt.xlabel('POI ID')\n",
    "#plt.ylabel('POI ID')\n",
    "sns.heatmap(prob_mat)"
   ]
  },
  {
   "cell_type": "code",
   "execution_count": 136,
   "metadata": {
    "collapsed": false
   },
   "outputs": [
    {
     "data": {
      "text/plain": [
       "0.00043558556236812938"
      ]
     },
     "execution_count": 136,
     "metadata": {},
     "output_type": "execute_result"
    }
   ],
   "source": [
    "prob_mat.loc[2, 17]"
   ]
  },
  {
   "cell_type": "code",
   "execution_count": 137,
   "metadata": {
    "collapsed": false
   },
   "outputs": [
    {
     "data": {
      "text/plain": [
       "0.37700970988393417"
      ]
     },
     "execution_count": 137,
     "metadata": {},
     "output_type": "execute_result"
    }
   ],
   "source": [
    "prob_mat.loc[14, 2]"
   ]
  },
  {
   "cell_type": "code",
   "execution_count": 138,
   "metadata": {
    "collapsed": false
   },
   "outputs": [
    {
     "data": {
      "text/plain": [
       "0.3894316832484036"
      ]
     },
     "execution_count": 138,
     "metadata": {},
     "output_type": "execute_result"
    }
   ],
   "source": [
    "prob_mat.loc[17, 2]"
   ]
  },
  {
   "cell_type": "code",
   "execution_count": 139,
   "metadata": {
    "collapsed": false
   },
   "outputs": [
    {
     "data": {
      "text/plain": [
       "0.00058089842293407084"
      ]
     },
     "execution_count": 139,
     "metadata": {},
     "output_type": "execute_result"
    }
   ],
   "source": [
    "prob_mat.loc[27, 19]"
   ]
  },
  {
   "cell_type": "code",
   "execution_count": 140,
   "metadata": {
    "collapsed": false
   },
   "outputs": [
    {
     "data": {
      "text/plain": [
       "0.0082518249705588933"
      ]
     },
     "execution_count": 140,
     "metadata": {},
     "output_type": "execute_result"
    }
   ],
   "source": [
    "prob_mat.loc[15, 19]"
   ]
  },
  {
   "cell_type": "code",
   "execution_count": 141,
   "metadata": {
    "collapsed": false
   },
   "outputs": [
    {
     "data": {
      "text/html": [
       "<div>\n",
       "<table border=\"1\" class=\"dataframe\">\n",
       "  <thead>\n",
       "    <tr style=\"text-align: right;\">\n",
       "      <th></th>\n",
       "      <th>poiTheme</th>\n",
       "      <th>poiFreq</th>\n",
       "      <th>poiLon</th>\n",
       "      <th>poiLat</th>\n",
       "    </tr>\n",
       "    <tr>\n",
       "      <th>poiID</th>\n",
       "      <th></th>\n",
       "      <th></th>\n",
       "      <th></th>\n",
       "      <th></th>\n",
       "    </tr>\n",
       "  </thead>\n",
       "  <tbody>\n",
       "    <tr>\n",
       "      <th>2</th>\n",
       "      <td>Sport</td>\n",
       "      <td>609</td>\n",
       "      <td>-79.418634</td>\n",
       "      <td>43.632772</td>\n",
       "    </tr>\n",
       "    <tr>\n",
       "      <th>17</th>\n",
       "      <td>Amusement</td>\n",
       "      <td>808</td>\n",
       "      <td>-79.416011</td>\n",
       "      <td>43.632563</td>\n",
       "    </tr>\n",
       "  </tbody>\n",
       "</table>\n",
       "</div>"
      ],
      "text/plain": [
       "        poiTheme  poiFreq     poiLon     poiLat\n",
       "poiID                                          \n",
       "2          Sport      609 -79.418634  43.632772\n",
       "17     Amusement      808 -79.416011  43.632563"
      ]
     },
     "execution_count": 141,
     "metadata": {},
     "output_type": "execute_result"
    }
   ],
   "source": [
    "poi_all.loc[[2, 17]]"
   ]
  },
  {
   "cell_type": "code",
   "execution_count": 142,
   "metadata": {
    "collapsed": false
   },
   "outputs": [
    {
     "name": "stdout",
     "output_type": "stream",
     "text": [
      "Distance between POI 2 and 17 is 0.212 km.\n"
     ]
    }
   ],
   "source": [
    "d_ = calc_dist(poi_all.loc[2, 'poiLon'], poi_all.loc[2, 'poiLat'], poi_all.loc[17, 'poiLon'], poi_all.loc[17, 'poiLat'])\n",
    "print('Distance between POI %d and %d is %.3f km.' % (2, 17, d_))"
   ]
  },
  {
   "cell_type": "markdown",
   "metadata": {},
   "source": [
    "Combine the above steps."
   ]
  },
  {
   "cell_type": "code",
   "execution_count": 143,
   "metadata": {
    "collapsed": true
   },
   "outputs": [],
   "source": [
    "def gen_poi_logtransmat(seqid_set, seq_all, poi_info, nbins_pop=2, nbins_visit=2, nbins_duration=2, nclusters=5):\n",
    "    transmat_cat                        = gen_transmat_cat(seqid_set, seq_all, poi_info)\n",
    "    transmat_pop,      logbins_pop      = gen_transmat_pop(seqid_set, seq_all, poi_info, nbins_pop)\n",
    "    transmat_visit,    logbins_visit    = gen_transmat_visit(seqid_set, seq_all, poi_info, nbins_visit)\n",
    "    transmat_duration, logbins_duration = gen_transmat_duration(seqid_set, seq_all, poi_info, nbins_duration)\n",
    "    transmat_neighbor, poi_clusters     = gen_transmat_neighbor(seqid_set, seq_all, poi_info, nclusters)\n",
    "\n",
    "    # Kronecker product\n",
    "    transmat_ix = list(itertools.product(transmat_cat.index, transmat_pop.index, transmat_visit.index, \\\n",
    "                                         transmat_duration.index, transmat_neighbor.index))\n",
    "    transmat_value = transmat_cat.values\n",
    "    for transmat in [transmat_pop, transmat_visit, transmat_duration, transmat_neighbor]:\n",
    "        transmat_value = kron(transmat_value, transmat.values)\n",
    "    transmat_feature = pd.DataFrame(data=transmat_value, index=transmat_ix, columns=transmat_ix)\n",
    "    \n",
    "    #poi_train = seq_all[seq_all['seqID'].isin(seqid_set)]['poiID'].unique().tolist()\n",
    "    poi_train = poi_info.index.tolist()\n",
    "    #poi_train.sort()\n",
    "    #poi_info = calc_poi_info(seqid_set, seq_all, poi_all)\n",
    "    feature_names = ['poiTheme', 'popularity', 'nVisit', 'avgDuration', 'clusterID']\n",
    "    poi_features = pd.DataFrame(data=np.zeros((len(poi_train), len(feature_names))), \\\n",
    "                                columns=feature_names, index=poi_train)\n",
    "    poi_features.index.name = 'poiID'\n",
    "    poi_features['poiTheme'] = poi_info.loc[poi_train, 'poiTheme']\n",
    "    poi_features['popularity'] = np.digitize(poi_info.loc[poi_train, 'popularity'], logbins_pop)\n",
    "    poi_features['nVisit'] = np.digitize(poi_info.loc[poi_train, 'nVisit'], logbins_visit)\n",
    "    poi_features['avgDuration'] = np.digitize(poi_info.loc[poi_train, 'avgDuration(sec)'], logbins_duration)\n",
    "    poi_features['clusterID'] = poi_clusters.loc[poi_train, 'clusterID']\n",
    "    \n",
    "    # shrink the result of Kronecker product and deal with POIs with the same features\n",
    "    poi_logtransmat = pd.DataFrame(data=np.zeros((len(poi_train), len(poi_train)), dtype=np.float), \\\n",
    "                                   columns=poi_train, index=poi_train)\n",
    "    for p1 in poi_logtransmat.index:\n",
    "        rix = tuple(poi_features.loc[p1])\n",
    "        for p2 in poi_logtransmat.columns:\n",
    "            cix = tuple(poi_features.loc[p2])\n",
    "            value_ = transmat_feature.loc[(rix,), (cix,)]\n",
    "            poi_logtransmat.loc[p1, p2] = value_.values[0, 0]\n",
    "    \n",
    "    # group POIs with the same features\n",
    "    features_dup = dict()\n",
    "    for poi in poi_features.index:\n",
    "        key = tuple(poi_features.loc[poi])\n",
    "        if key in features_dup:\n",
    "            features_dup[key].append(poi)\n",
    "        else:\n",
    "            features_dup[key] = [poi]\n",
    "            \n",
    "    # deal with POIs with the same features\n",
    "    for feature in sorted(features_dup.keys()):\n",
    "        n = len(features_dup[feature])\n",
    "        if n > 1:\n",
    "            group = features_dup[feature]\n",
    "            v1 = poi_logtransmat.loc[group[0], group[0]]  # transition value of self-loop of POI group\n",
    "            \n",
    "            # divide incoming transition value (i.e. unnormalised transition probability) uniformly among group members\n",
    "            for poi in group:\n",
    "                poi_logtransmat[poi] /= n\n",
    "                \n",
    "            # outgoing transition value has already been duplicated (value copied above)\n",
    "            \n",
    "            # duplicate & divide transition value of self-loop of POI group uniformly among all outgoing transitions,\n",
    "            # from a POI to all other POIs in the same group (excluding POI self-loop)\n",
    "            v2 = v1 / (n - 1)\n",
    "            for pair in itertools.permutations(group, 2):\n",
    "                poi_logtransmat.loc[pair[0], pair[1]] = v2\n",
    "                            \n",
    "    # normalise each row\n",
    "    for p1 in poi_logtransmat.index:\n",
    "        poi_logtransmat.loc[p1, p1] = 0\n",
    "        rowsum = poi_logtransmat.loc[p1].sum()\n",
    "        assert(rowsum > 0)\n",
    "        logrowsum = np.log10(rowsum)\n",
    "        for p2 in poi_logtransmat.columns:\n",
    "            if p1 == p2:\n",
    "                poi_logtransmat.loc[p1, p2] = -np.inf  # deal with log(0) explicitly\n",
    "            else:\n",
    "                poi_logtransmat.loc[p1, p2] = np.log10(poi_logtransmat.loc[p1, p2]) - logrowsum\n",
    "    return poi_logtransmat"
   ]
  },
  {
   "cell_type": "markdown",
   "metadata": {},
   "source": [
    "<a id='sec4'></a>"
   ]
  },
  {
   "cell_type": "markdown",
   "metadata": {},
   "source": [
    "# 4. Combine Ranking with Factorised Markov Chain to Recommend"
   ]
  },
  {
   "cell_type": "markdown",
   "metadata": {},
   "source": [
    "NOTE that:\n",
    "- Ranking is over POIs (in POI space)\n",
    "- Transition probabilities of Markov Chain of POI features (in POI feature space)"
   ]
  },
  {
   "cell_type": "markdown",
   "metadata": {},
   "source": [
    "Two approaches to combine ranking with MC:\n",
    "- recommend trajectory in POI space: \n",
    "  - transform transition matrix of feature vector into transition matrix of POIs,\n",
    "  - recommend a sequence of POIs.\n",
    "- recommend trajectory in POI feature space: \n",
    "  - transform ranking probability of POIs into ranking probability of POI features,\n",
    "  - recommend a sequence of features, \n",
    "  - transform the squence of features into a sequence of POIs."
   ]
  },
  {
   "cell_type": "markdown",
   "metadata": {},
   "source": [
    "Here we implement the first approach, i.e., recommend trajectory in POI space."
   ]
  },
  {
   "cell_type": "markdown",
   "metadata": {},
   "source": [
    "Two methods for recommendation:\n",
    "- find a simple path with maximum objective in a digraph. (by negating log probabilities, it can be reduced to a finding shortest path will $k$-edges, which is probably NP-hard as it is the same as TSP when $L=|P|$, dynamic programming can be used for non-simple path.)\n",
    "- make greedy choice (of POI or POI feature vector) step-by-step"
   ]
  },
  {
   "cell_type": "markdown",
   "metadata": {},
   "source": [
    "Here we use dynamic programming to find a possibly non-simple path."
   ]
  },
  {
   "cell_type": "code",
   "execution_count": 144,
   "metadata": {
    "collapsed": true
   },
   "outputs": [],
   "source": [
    "def find_path(V, E, ps, pe, L):\n",
    "    assert(isinstance(V, pd.DataFrame))\n",
    "    assert(isinstance(E, pd.DataFrame))\n",
    "    assert(ps in V.index)\n",
    "    assert(pe in V.index)\n",
    "    assert(2 < L <= V.index.shape[0])\n",
    "    \n",
    "    A = pd.DataFrame(data=np.zeros((L-1, V.shape[0]), dtype=np.float), columns=V.index, index=np.arange(2, L+1))\n",
    "    B = pd.DataFrame(data=np.zeros((L-1, V.shape[0]), dtype=np.int),   columns=V.index, index=np.arange(2, L+1))\n",
    "    A += np.inf\n",
    "    for v in V.index:\n",
    "        if v != ps:\n",
    "            A.loc[2, v] = E.loc[ps, v] + V.loc[ps, 'weight'] + V.loc[v, 'weight']  # ps--v\n",
    "            B.loc[2, v] = ps\n",
    "    \n",
    "    for l in range(3, L+1):\n",
    "        for v in V.index:\n",
    "            values = [A.loc[l-1, v1] + E.loc[v1, v] + V.loc[v, 'weight'] for v1 in V.index]  # ps-~-v1---v\n",
    "            minix = np.argmin(values)\n",
    "            A.loc[l, v] = values[minix]\n",
    "            B.loc[l, v] = V.index[minix]\n",
    "            \n",
    "    path = [pe]\n",
    "    v = path[-1]\n",
    "    l = L\n",
    "    #while v != ps:  #incorrect if 'ps' happens to appear in the middle of a path\n",
    "    while l >= 2:\n",
    "        path.append(B.loc[l, v])\n",
    "        v = path[-1]\n",
    "        l -= 1\n",
    "    path.reverse()\n",
    "    return path"
   ]
  },
  {
   "cell_type": "markdown",
   "metadata": {},
   "source": [
    "Find a simple path using ILP."
   ]
  },
  {
   "cell_type": "code",
   "execution_count": 145,
   "metadata": {
    "collapsed": true
   },
   "outputs": [],
   "source": [
    "def find_path_ILP(V, E, ps, pe, L):\n",
    "    assert(isinstance(V, pd.DataFrame))\n",
    "    assert(isinstance(E, pd.DataFrame))\n",
    "    assert(ps in V.index)\n",
    "    assert(pe in V.index)\n",
    "    assert(2 < L <= V.index.shape[0])\n",
    "    \n",
    "    p0 = str(ps); pN = str(pe); N = V.index.shape[0]\n",
    "    \n",
    "    # deal with np.inf which will cause ILP solver failure\n",
    "    Edges = E.copy()\n",
    "    INF = 1e6\n",
    "    for p in Edges.index:\n",
    "        Edges.loc[p, p] = INF \n",
    "    maxL = np.max(Edges.values.flatten())\n",
    "    if maxL > INF:\n",
    "        for p in Edges.index:\n",
    "            Edges.loc[p, p] = maxL    \n",
    "    \n",
    "    # REF: pythonhosted.org/PuLP/index.html\n",
    "    pois = [str(p) for p in V.index] # create a string list for each POI\n",
    "    pb = pulp.LpProblem('MostLikelyTraj', pulp.LpMinimize) # create problem\n",
    "    # visit_i_j = 1 means POI i and j are visited in sequence\n",
    "    visit_vars = pulp.LpVariable.dicts('visit', (pois, pois), 0, 1, pulp.LpInteger) \n",
    "    # a dictionary contains all dummy variables\n",
    "    dummy_vars = pulp.LpVariable.dicts('u', [x for x in pois if x != p0], 2, N, pulp.LpInteger)\n",
    "    \n",
    "    # add objective\n",
    "    objlist = [V.loc[int(p0), 'weight']]\n",
    "    for pi in [x for x in pois if x != pN]:     # from\n",
    "        for pj in [y for y in pois if y != p0]: # to\n",
    "            objlist.append(visit_vars[pi][pj] * (V.loc[int(pj), 'weight'] + Edges.loc[int(pi), int(pj)]))\n",
    "    pb += pulp.lpSum(objlist), 'Objective'\n",
    "    \n",
    "    # add constraints, each constraint should be in ONE line\n",
    "    pb += pulp.lpSum([visit_vars[p0][pj] for pj in pois if pj != p0]) == 1, 'StartAt_p0'\n",
    "    pb += pulp.lpSum([visit_vars[pi][p0] for pi in pois]) == 0, 'NoIncoming_p0'\n",
    "    pb += pulp.lpSum([visit_vars[pi][pN] for pi in pois if pi != pN]) == 1, 'EndAt_pN'\n",
    "    pb += pulp.lpSum([visit_vars[pN][pj] for pj in pois]) == 0, 'NoOutgoing_pN'\n",
    "    pb += pulp.lpSum([visit_vars[pi][pj] for pi in pois if pi != pN for pj in pois if pj != p0]) == L-1, 'Length'\n",
    "    for pk in [x for x in pois if x not in {p0, pN}]:\n",
    "        pb += pulp.lpSum([visit_vars[pi][pk] for pi in pois if pi != pN]) == \\\n",
    "              pulp.lpSum([visit_vars[pk][pj] for pj in pois if pj != p0]), 'ConnectedAt_' + pk\n",
    "        pb += pulp.lpSum([visit_vars[pi][pk] for pi in pois if pi != pN]) <= 1, 'Enter_' + pk + '_AtMostOnce'\n",
    "        pb += pulp.lpSum([visit_vars[pk][pj] for pj in pois if pj != p0]) <= 1, 'Leave_' + pk + '_AtMostOnce'\n",
    "    for pi in [x for x in pois if x != p0]:\n",
    "        for pj in [y for y in pois if y != p0]:\n",
    "            pb += dummy_vars[pi] - dummy_vars[pj] + 1 <= (N - 1) * (1 - visit_vars[pi][pj]), \\\n",
    "                    'SubTourElimination_' + pi + '_' + pj\n",
    "    #pb.writeLP(\"traj_tmp.lp\")\n",
    "    # solve problem\n",
    "    pb.solve(pulp.PULP_CBC_CMD(options=['-threads', '6', '-strategy', '1', '-maxIt', '2000000'])) # CBC\n",
    "    visit_mat = pd.DataFrame(data=np.zeros((len(pois), len(pois)), dtype=np.float), index=pois, columns=pois)\n",
    "    for pi in pois:\n",
    "        for pj in pois: visit_mat.loc[pi, pj] = visit_vars[pi][pj].varValue\n",
    "\n",
    "    # build the recommended trajectory\n",
    "    recseq = [p0]\n",
    "    while True:\n",
    "        pi = recseq[-1]\n",
    "        pj = visit_mat.loc[pi].idxmax()\n",
    "        assert(round(visit_mat.loc[pi, pj]) == 1)\n",
    "        recseq.append(pj); \n",
    "        #print(recseq); sys.stdout.flush()\n",
    "        if pj == pN: return [int(x) for x in recseq]"
   ]
  },
  {
   "cell_type": "code",
   "execution_count": 146,
   "metadata": {
    "collapsed": true
   },
   "outputs": [],
   "source": [
    "def recommend(seqid_set_train, seq_all, poi_info, query_id_dict, startPOI, endPOI, nPOI, poi_logtransmat):\n",
    "    t0 = time.time()\n",
    "    train_df = gen_train_df(seqid_set_train, seq_all, poi_info, query_id_dict)\n",
    "    ranksvm = RankSVM(ranksvm_dir, useLinear=True)\n",
    "    ranksvm.train(train_df, cost=1000)\n",
    "    test_df = gen_test_df(startPOI, endPOI, nPOI, poi_info, query_id_dict)\n",
    "    rank_df = ranksvm.predict(test_df)\n",
    "    rank_df.set_index('poiID', inplace=True)\n",
    "    #rank_df.sort_values(by='rank', ascending=False, inplace=True)\n",
    "    #t1 = time.time()\n",
    "    #print('Ranking finished in %.1f sec' % (t1 - t0)); sys.stdout.flush()\n",
    "    nodes = rank_df.copy()\n",
    "    nodes['weight'] = -np.log(nodes['probability'])  # node weight is negative log of ranking probability\n",
    "    nodes.drop('probability', axis=1, inplace=True)\n",
    "    edges = poi_logtransmat.copy()\n",
    "    edges = -1 * edges  # edge weight is negative log of transition probability\n",
    "    t1 = time.time()\n",
    "    traj1 = find_path(nodes, edges, startPOI, endPOI, nPOI)\n",
    "    t2 = time.time()\n",
    "    traj2 = find_path_ILP(nodes, edges, startPOI, endPOI, nPOI)\n",
    "    t3 = time.time()\n",
    "    #print('DP finished in %.1f sec' % (time.time() - t1)); sys.stdout.flush()\n",
    "    return traj1, traj2, (t2-t1), (t3-t2)"
   ]
  },
  {
   "cell_type": "markdown",
   "metadata": {},
   "source": [
    "Sanity check."
   ]
  },
  {
   "cell_type": "code",
   "execution_count": 147,
   "metadata": {
    "collapsed": false
   },
   "outputs": [
    {
     "data": {
      "text/plain": [
       "[16, 8, 30]"
      ]
     },
     "execution_count": 147,
     "metadata": {},
     "output_type": "execute_result"
    }
   ],
   "source": [
    "test_ix = 97\n",
    "test_seq = extract_seq(seqid_set_test0[test_ix], seq_all)\n",
    "#test_seq = [22, 4, 25, 11]\n",
    "#test_seq = [11, 29, 6, 22, 7, 1, 15]\n",
    "test_seq"
   ]
  },
  {
   "cell_type": "code",
   "execution_count": 148,
   "metadata": {
    "collapsed": false
   },
   "outputs": [
    {
     "data": {
      "text/plain": [
       "([16, 22, 30], [16, 22, 30], 0.28263306617736816, 0.8095712661743164)"
      ]
     },
     "execution_count": 148,
     "metadata": {},
     "output_type": "execute_result"
    }
   ],
   "source": [
    "recommend(seqid_set_train0, seq_all, poi_info_t, query_id_dict, test_seq[0], test_seq[-1], len(test_seq), poi_logtransmat)"
   ]
  },
  {
   "cell_type": "markdown",
   "metadata": {},
   "source": [
    "<a id='sec5'></a>"
   ]
  },
  {
   "cell_type": "markdown",
   "metadata": {},
   "source": [
    "# 5. IJCAI15 Methods"
   ]
  },
  {
   "cell_type": "markdown",
   "metadata": {},
   "source": [
    "Evaluation metrics without considering visiting order."
   ]
  },
  {
   "cell_type": "code",
   "execution_count": 149,
   "metadata": {
    "collapsed": false
   },
   "outputs": [],
   "source": [
    "def calc_F1score(seq_act, seq_rec):#, includeStartEnd=True):\n",
    "    assert(len(seq_act) > 2)\n",
    "    assert(len(seq_rec) > 2)\n",
    "\n",
    "    act_set = set(seq_act)\n",
    "    rec_set = set(seq_rec)\n",
    "    intersect = act_set & rec_set\n",
    "    \n",
    "    recall    = len(intersect) / len(act_set) #if includeStartEnd else (len(intersect)-2) / (len(act_set)-2)\n",
    "    precision = len(intersect) / len(rec_set) #if includeStartEnd else (len(intersect)-2) / (len(rec_set)-2)\n",
    "    #F1score   = 0 if abs(precision + recall) < 1e-6 else 2. * precision * recall / (precision + recall)\n",
    "    F1score   = 2. * precision * recall / (precision + recall)\n",
    "  \n",
    "    return F1score"
   ]
  },
  {
   "cell_type": "markdown",
   "metadata": {},
   "source": [
    "The IJCAI15 approach with time-based constraint replaced with #POI visited."
   ]
  },
  {
   "cell_type": "markdown",
   "metadata": {},
   "source": [
    "Compute user interest using all trajectories from training and querying set."
   ]
  },
  {
   "cell_type": "code",
   "execution_count": 150,
   "metadata": {
    "collapsed": true
   },
   "outputs": [],
   "source": [
    "def calc_user_interest(seqid_set, seq_all, poi_all, poi_info):\n",
    "    user_interest = seq_all[seq_all['seqID'].isin(seqid_set)][['userID', 'poiID', 'poiDuration(sec)']].copy()\n",
    "    user_interest['timeRatio'] = [poi_info.loc[x, 'avgDuration(sec)'] for x in user_interest['poiID']]\n",
    "    user_interest['timeRatio'] = user_interest['poiDuration(sec)'] / user_interest['timeRatio']\n",
    "    user_interest['poiTheme'] = [poi_all.loc[x, 'poiTheme'] for x in user_interest['poiID']]\n",
    "    user_interest.drop(['poiID', 'poiDuration(sec)'], axis=1, inplace=True)\n",
    "    user_interest = user_interest.groupby(['userID', 'poiTheme']).agg([np.sum, np.size]) # the sum\n",
    "    user_interest.columns = user_interest.columns.droplevel()\n",
    "    user_interest.rename(columns={'sum':'timeBased', 'size':'freqBased'}, inplace=True)\n",
    "    user_interest.reset_index(inplace=True)\n",
    "    user_interest.set_index(['userID', 'poiTheme'], inplace=True)\n",
    "    return user_interest.copy()"
   ]
  },
  {
   "cell_type": "code",
   "execution_count": 151,
   "metadata": {
    "collapsed": true
   },
   "outputs": [],
   "source": [
    "def calc_dist_mat(poi_info):\n",
    "    poi_dist_mat = pd.DataFrame(data=np.zeros((poi_info.shape[0], poi_info.shape[0]), dtype=np.float64), \\\n",
    "                            index=poi_info.index, columns=poi_info.index)\n",
    "    for i in range(poi_info.index.shape[0]):\n",
    "        for j in range(i+1, poi_info.index.shape[0]):\n",
    "            r = poi_info.index[i]\n",
    "            c = poi_info.index[j]\n",
    "            dist = calc_dist(poi_info.loc[r, 'poiLon'], poi_info.loc[r, 'poiLat'], \\\n",
    "                             poi_info.loc[c, 'poiLon'], poi_info.loc[c, 'poiLat'])\n",
    "            assert(dist > 0.)\n",
    "            poi_dist_mat.loc[r, c] = dist\n",
    "            poi_dist_mat.loc[c, r] = dist\n",
    "    return poi_dist_mat"
   ]
  },
  {
   "cell_type": "code",
   "execution_count": 152,
   "metadata": {
    "collapsed": false
   },
   "outputs": [
    {
     "data": {
      "text/plain": [
       "(2328, 2)"
      ]
     },
     "execution_count": 152,
     "metadata": {},
     "output_type": "execute_result"
    }
   ],
   "source": [
    "user_int_t = calc_user_interest(seqid_set_train0, seq_all, poi_all, poi_info_t)\n",
    "user_int_t.shape"
   ]
  },
  {
   "cell_type": "code",
   "execution_count": 153,
   "metadata": {
    "collapsed": false
   },
   "outputs": [
    {
     "data": {
      "text/plain": [
       "(29, 29)"
      ]
     },
     "execution_count": 153,
     "metadata": {},
     "output_type": "execute_result"
    }
   ],
   "source": [
    "poi_dist_mat = calc_dist_mat(poi_info_t)\n",
    "poi_dist_mat.shape"
   ]
  },
  {
   "cell_type": "markdown",
   "metadata": {},
   "source": [
    "Recommend trajectory using ILP with time-based budget constraint."
   ]
  },
  {
   "cell_type": "code",
   "execution_count": 154,
   "metadata": {
    "collapsed": true
   },
   "outputs": [],
   "source": [
    "def calc_seq_budget(user, seq, poi_info, poi_dist_mat, user_interest):\n",
    "    \"\"\"Calculate the travel budget for the given travelling sequence\"\"\"\n",
    "    assert(len(seq) > 1)\n",
    "    speed = 4  # 4km/h\n",
    "    budget = 0. # travel budget\n",
    "    for i in range(len(seq)-1):\n",
    "        px = seq[i]\n",
    "        py = seq[i+1]\n",
    "        assert(px in poi_info.index)\n",
    "        assert(py in poi_info.index)\n",
    "        budget += 60 * 60 * poi_dist_mat.loc[px, py] / speed  # travel time (seconds)\n",
    "        caty = poi_info.loc[py, 'poiTheme']\n",
    "        avgtime = poi_info.loc[py, 'avgDuration(sec)']\n",
    "        userint = 0\n",
    "        if (user, caty) in user_interest.index: userint = user_interest.loc[user, caty] # for testing set\n",
    "        budget += userint * avgtime  # expected visit duration\n",
    "    return budget"
   ]
  },
  {
   "cell_type": "code",
   "execution_count": 155,
   "metadata": {
    "collapsed": true
   },
   "outputs": [],
   "source": [
    "def recommend_ijcai_ILP1(user, budget, eta, startPOI, endPOI, poi_info, poi_dist_mat, user_interest):\n",
    "    assert(0 <= eta <= 1); assert(budget > 0)\n",
    "    speed = 4  # 4km/h\n",
    "    p0 = str(startPOI); pN = str(endPOI); N = poi_info.index.shape[0]\n",
    "    \n",
    "    # REF: pythonhosted.org/PuLP/index.html\n",
    "    pois = [str(p) for p in poi_info.index] # create a string list for each POI\n",
    "    prob = pulp.LpProblem('TourRecommendation', pulp.LpMaximize) # create problem\n",
    "    # visit_i_j = 1 means POI i and j are visited in sequence\n",
    "    visit_vars = pulp.LpVariable.dicts('visit', (pois, pois), 0, 1, pulp.LpInteger) \n",
    "    # a dictionary contains all dummy variables\n",
    "    dummy_vars = pulp.LpVariable.dicts('u', [x for x in pois if x != p0], 2, N, pulp.LpInteger)\n",
    "\n",
    "    # add objective\n",
    "    objlist = []\n",
    "    for pi in [x for x in pois if x not in {p0, pN}]:\n",
    "        for pj in [y for y in pois if y != p0]:\n",
    "            cati = poi_info.loc[int(pi), 'poiTheme']\n",
    "            userint = 0; poipop = 0\n",
    "            if (user, cati) in user_interest.index: \n",
    "                userint = user_interest.loc[user, cati]\n",
    "            if int(pi) in poi_info.index: \n",
    "                poipop = poi_info.loc[int(pi), 'popularity']\n",
    "            objlist.append(visit_vars[pi][pj] * (eta * userint + (1.-eta) * poipop))\n",
    "    prob += pulp.lpSum(objlist), 'Objective'\n",
    "    \n",
    "    # add constraints, each constraint should be in ONE line\n",
    "    prob += pulp.lpSum([visit_vars[p0][pj] for pj in pois if pj != p0]) == 1, 'StartAtp0'\n",
    "    prob += pulp.lpSum([visit_vars[pi][pN] for pi in pois if pi != pN]) == 1, 'EndAtpN'\n",
    "    for pk in [x for x in pois if x not in {p0, pN}]:\n",
    "        prob += pulp.lpSum([visit_vars[pi][pk] for pi in pois if pi != pN]) == \\\n",
    "                pulp.lpSum([visit_vars[pk][pj] for pj in pois if pj != p0]), 'ConnectedAt_' + pk\n",
    "        prob += pulp.lpSum([visit_vars[pi][pk] for pi in pois if pi != pN]) <= 1, 'Enter_' + pk + '_AtMostOnce'\n",
    "        prob += pulp.lpSum([visit_vars[pk][pj] for pj in pois if pj != p0]) <= 1, 'Leave_' + pk + '_AtMostOnce'\n",
    "    \n",
    "    costlist = []\n",
    "    for pi in [x for x in pois if x != pN]:\n",
    "        for pj in [y for y in pois if y != p0]:\n",
    "            catj = poi_info.loc[int(pj), 'poiTheme']\n",
    "            traveltime = 60 * 60 * poi_dist_mat.loc[int(pi), int(pj)] / speed # seconds\n",
    "            userint = 0; avgtime = 0\n",
    "            if (user, catj) in user_interest.index: userint = user_interest.loc[user, catj]\n",
    "            if int(pj) in poi_info.index: avgtime = poi_info.loc[int(pj), 'avgDuration(sec)']\n",
    "            costlist.append(visit_vars[pi][pj] * (traveltime + userint * avgtime))\n",
    "    prob += pulp.lpSum(costlist) <= budget, 'WithinBudget'\n",
    "    \n",
    "    for pi in [x for x in pois if x != p0]:\n",
    "        for pj in [y for y in pois if y != p0]:\n",
    "            prob += dummy_vars[pi] - dummy_vars[pj] + 1 <= (N - 1) * (1 - visit_vars[pi][pj]), \\\n",
    "                    'SubTourElimination_' + str(pi) + '_' + str(pj)\n",
    "\n",
    "    # solve problem\n",
    "    prob.solve(pulp.PULP_CBC_CMD(options=['-threads', '6', '-strategy', '1', '-maxIt', '2000000'])) # CBC\n",
    "    \n",
    "    visit_mat = pd.DataFrame(data=np.zeros((len(pois), len(pois)), dtype=np.float), index=pois, columns=pois)\n",
    "    for pi in pois:\n",
    "        for pj in pois: visit_mat.loc[pi, pj] = visit_vars[pi][pj].varValue\n",
    "\n",
    "    # build the recommended trajectory\n",
    "    recseq = [p0]\n",
    "    while True:\n",
    "        pi = recseq[-1]\n",
    "        pj = visit_mat.loc[pi].idxmax()\n",
    "        assert(round(visit_mat.loc[pi, pj]) == 1)\n",
    "        recseq.append(pj); \n",
    "        #print(recseq); sys.stdout.flush()\n",
    "        if pj == pN: return [int(x) for x in recseq]"
   ]
  },
  {
   "cell_type": "markdown",
   "metadata": {},
   "source": [
    "Recommend trajectory using ILP, replace trajectory time budget constraint with trajectory length constraint."
   ]
  },
  {
   "cell_type": "code",
   "execution_count": 156,
   "metadata": {
    "collapsed": true
   },
   "outputs": [],
   "source": [
    "def recommend_ijcai_ILP2(user, user_interest, poi_info, eta, startPOI, endPOI, nPOI):\n",
    "    assert(nPOI > 2)\n",
    "    assert(0 <= eta <= 1)\n",
    "    p0 = str(startPOI); pN = str(endPOI); N = poi_info.index.shape[0]\n",
    "    \n",
    "    # REF: pythonhosted.org/PuLP/index.html\n",
    "    pois = [str(p) for p in poi_info.index] # create a string list for each POI\n",
    "    pb = pulp.LpProblem('MostLikelyTraj', pulp.LpMaximize) # create problem\n",
    "    # visit_i_j = 1 means POI i and j are visited in sequence\n",
    "    visit_vars = pulp.LpVariable.dicts('visit', (pois, pois), 0, 1, pulp.LpInteger) \n",
    "    # a dictionary contains all dummy variables\n",
    "    dummy_vars = pulp.LpVariable.dicts('u', [x for x in pois if x != p0], 2, N, pulp.LpInteger)\n",
    "    \n",
    "    # add objective\n",
    "    objlist = []\n",
    "    for pi in [x for x in pois if x not in {p0, pN}]:\n",
    "        for pj in [y for y in pois if y != p0]:\n",
    "            cati = poi_info.loc[int(pi), 'poiTheme']\n",
    "            userint = 0; poipop = 0\n",
    "            if (user, cati) in user_interest.index: \n",
    "                userint = user_interest.loc[user, cati]\n",
    "            if int(pi) in poi_info.index: \n",
    "                #poipop = poi_info.loc[int(pi), 'nVisit']\n",
    "                poipop = poi_info.loc[int(pi), 'popularity']\n",
    "            objlist.append(visit_vars[pi][pj] * (eta * userint + (1.-eta) * poipop))\n",
    "    pb += pulp.lpSum(objlist), 'Objective'\n",
    "    \n",
    "    # add constraints, each constraint should be in ONE line\n",
    "    pb += pulp.lpSum([visit_vars[p0][pj] for pj in pois if pj != p0]) == 1, 'StartAt_p0'\n",
    "    pb += pulp.lpSum([visit_vars[pi][p0] for pi in pois]) == 0, 'NoIncoming_p0'\n",
    "    pb += pulp.lpSum([visit_vars[pi][pN] for pi in pois if pi != pN]) == 1, 'EndAt_pN'\n",
    "    pb += pulp.lpSum([visit_vars[pN][pj] for pj in pois]) == 0, 'NoOutgoing_pN'\n",
    "    pb += pulp.lpSum([visit_vars[pi][pj] for pi in pois if pi != pN for pj in pois if pj != p0]) == nPOI-1, 'Length'\n",
    "    for pk in [x for x in pois if x not in {p0, pN}]:\n",
    "        pb += pulp.lpSum([visit_vars[pi][pk] for pi in pois if pi != pN]) == \\\n",
    "                pulp.lpSum([visit_vars[pk][pj] for pj in pois if pj != p0]), 'ConnectedAt_' + pk\n",
    "        pb += pulp.lpSum([visit_vars[pi][pk] for pi in pois if pi != pN]) <= 1, 'Enter_' + pk + '_AtMostOnce'\n",
    "        pb += pulp.lpSum([visit_vars[pk][pj] for pj in pois if pj != p0]) <= 1, 'Leave_' + pk + '_AtMostOnce'\n",
    "    for pi in [x for x in pois if x != p0]:\n",
    "        for pj in [y for y in pois if y != p0]:\n",
    "            pb += dummy_vars[pi] - dummy_vars[pj] + 1 <= (N - 1) * (1 - visit_vars[pi][pj]), \\\n",
    "                    'SubTourElimination_' + pi + '_' + pj\n",
    "    #pb.writeLP(\"traj_tmp2.lp\")\n",
    "    # solve problem\n",
    "    pb.solve(pulp.PULP_CBC_CMD(options=['-threads', '6', '-strategy', '1', '-maxIt', '2000000'])) # CBC\n",
    "    visit_mat = pd.DataFrame(data=np.zeros((len(pois), len(pois)), dtype=np.float), index=pois, columns=pois)\n",
    "    for pi in pois:\n",
    "        for pj in pois: visit_mat.loc[pi, pj] = visit_vars[pi][pj].varValue\n",
    "\n",
    "    # build the recommended trajectory\n",
    "    recseq = [p0]\n",
    "    while True:\n",
    "        pi = recseq[-1]\n",
    "        pj = visit_mat.loc[pi].idxmax()\n",
    "        assert(round(visit_mat.loc[pi, pj]) == 1)\n",
    "        recseq.append(pj); \n",
    "        #print(recseq); sys.stdout.flush()\n",
    "        if pj == pN: return [int(x) for x in recseq]"
   ]
  },
  {
   "cell_type": "markdown",
   "metadata": {},
   "source": [
    "<a id='sec6'></a>"
   ]
  },
  {
   "cell_type": "markdown",
   "metadata": {},
   "source": [
    "# 6. Comparison"
   ]
  },
  {
   "cell_type": "markdown",
   "metadata": {},
   "source": [
    "Random guessing."
   ]
  },
  {
   "cell_type": "code",
   "execution_count": 157,
   "metadata": {
    "collapsed": true
   },
   "outputs": [],
   "source": [
    "from scipy.misc import comb\n",
    "from math import factorial\n",
    "def rand_guess(npoi, length):\n",
    "    assert(length <= npoi)\n",
    "    if length == npoi: return 1\n",
    "    N = npoi - 2\n",
    "    m = length - 2 # number of correct POIs\n",
    "    k = m\n",
    "    expected_F1 = 0\n",
    "    while k >= 0:\n",
    "        F1 = (k + 2) / length\n",
    "        prob = comb(m, k) * comb(N-m, m-k) / comb(N, m)\n",
    "        expected_F1 += prob * F1\n",
    "        k -= 1\n",
    "    return expected_F1"
   ]
  },
  {
   "cell_type": "markdown",
   "metadata": {},
   "source": [
    "Sanity check."
   ]
  },
  {
   "cell_type": "code",
   "execution_count": 158,
   "metadata": {
    "collapsed": false
   },
   "outputs": [
    {
     "data": {
      "text/plain": [
       "0.5"
      ]
     },
     "execution_count": 158,
     "metadata": {},
     "output_type": "execute_result"
    }
   ],
   "source": [
    "rand_guess(20, 5)"
   ]
  },
  {
   "cell_type": "markdown",
   "metadata": {},
   "source": [
    "<a id='sec6.1'></a>"
   ]
  },
  {
   "cell_type": "markdown",
   "metadata": {},
   "source": [
    "## 6.1 Leave-one-out cross validation (user specific)"
   ]
  },
  {
   "cell_type": "markdown",
   "metadata": {},
   "source": [
    "User specific leave-one-out evaluation settting:\n",
    "1. use $k$X (e.g., $k=100$) of trajectories of a specific user (except the one used to evaluate) in training set.\n",
    "1. use the training set from the above step to ranking POIs and compute POI transition matrix.\n",
    "1. recommend trajectory as before."
   ]
  },
  {
   "cell_type": "code",
   "execution_count": 159,
   "metadata": {
    "collapsed": true
   },
   "outputs": [],
   "source": [
    "F1_proposed1_cv = []\n",
    "F1_proposed2_cv = []\n",
    "K = 100"
   ]
  },
  {
   "cell_type": "code",
   "execution_count": 160,
   "metadata": {
    "collapsed": false,
    "scrolled": true
   },
   "outputs": [
    {
     "name": "stdout",
     "output_type": "stream",
     "text": [
      "[7, 11, 27], 10502709@N05 ->\n",
      "           [7, 28, 27] Proposed DP: 0.3 sec\n",
      "           [7, 28, 27] Proposed ILP: 0.9 sec, total 46.8 sec\n",
      "[28, 23, 22], 10502709@N05 ->\n",
      "           [28, 23, 22] Proposed DP: 0.3 sec\n",
      "           [28, 23, 22] Proposed ILP: 0.8 sec, total 47.8 sec\n",
      "[22, 28, 23, 21], 10502709@N05 ->\n",
      "           [22, 28, 23, 21] Proposed DP: 0.5 sec\n",
      "           [22, 28, 23, 21] Proposed ILP: 0.8 sec, total 47.6 sec\n",
      "[3, 23, 27], 10627620@N06 ->\n",
      "           [3, 11, 27] Proposed DP: 0.3 sec\n",
      "           [3, 11, 27] Proposed ILP: 0.8 sec, total 47.4 sec\n",
      "[21, 23, 30], 10627620@N06 ->\n",
      "           [21, 23, 30] Proposed DP: 0.3 sec\n",
      "           [21, 23, 30] Proposed ILP: 0.8 sec, total 47.4 sec\n",
      "[3, 23, 22, 30], 11090433@N05 ->\n",
      "           [3, 16, 22, 30] Proposed DP: 0.5 sec\n",
      "           [3, 16, 22, 30] Proposed ILP: 0.8 sec, total 46.9 sec\n",
      "[16, 4, 22], 11191102@N07 ->\n",
      "           [16, 30, 22] Proposed DP: 0.3 sec\n",
      "           [16, 30, 22] Proposed ILP: 0.9 sec, total 46.5 sec\n",
      "[27, 23, 11], 11191102@N07 ->\n",
      "           [27, 21, 11] Proposed DP: 0.3 sec\n",
      "           [27, 21, 11] Proposed ILP: 0.8 sec, total 46.7 sec\n",
      "[7, 30, 22], 11191102@N07 ->\n",
      "           [7, 30, 22] Proposed DP: 0.3 sec\n",
      "           [7, 30, 22] Proposed ILP: 0.8 sec, total 46.5 sec\n",
      "[7, 22, 28], 11241023@N03 ->\n",
      "           [7, 22, 28] Proposed DP: 0.3 sec\n",
      "           [7, 22, 28] Proposed ILP: 0.9 sec, total 45.6 sec\n",
      "[16, 4, 30], 11349639@N00 ->\n",
      "           [16, 22, 30] Proposed DP: 0.3 sec\n",
      "           [16, 22, 30] Proposed ILP: 0.8 sec, total 46.1 sec\n",
      "[30, 16, 8], 13273343@N00 ->\n",
      "           [30, 16, 8] Proposed DP: 0.3 sec\n",
      "           [30, 16, 8] Proposed ILP: 0.8 sec, total 45.6 sec\n",
      "[16, 8, 30], 13528098@N00 ->\n",
      "           [16, 7, 30] Proposed DP: 0.3 sec\n",
      "           [16, 7, 30] Proposed ILP: 0.8 sec, total 46.3 sec\n",
      "[22, 7, 23, 28, 1, 29, 30, 8, 6, 11, 24, 4, 16], 13644648@N03 ->\n",
      "           [22, 30, 22, 30, 22, 30, 22, 30, 22, 30, 22, 30, 16] Proposed DP: 2.8 sec\n",
      "           [22, 25, 21, 24, 6, 30, 7, 28, 8, 23, 1, 4, 16] Proposed ILP: 1.6 sec, total 49.0 sec\n",
      "[8, 16, 4, 22], 13672753@N00 ->\n",
      "           [8, 22, 30, 22] Proposed DP: 0.5 sec\n",
      "           [8, 16, 30, 22] Proposed ILP: 0.9 sec, total 45.9 sec\n",
      "[16, 4, 8], 13907834@N00 ->\n",
      "           [16, 4, 8] Proposed DP: 0.3 sec\n",
      "           [16, 4, 8] Proposed ILP: 0.9 sec, total 47.4 sec\n",
      "[21, 27, 11], 13907834@N00 ->\n",
      "           [21, 28, 11] Proposed DP: 0.3 sec\n",
      "           [21, 28, 11] Proposed ILP: 0.8 sec, total 46.3 sec\n",
      "[30, 22, 6], 14391210@N00 ->\n",
      "           [30, 22, 6] Proposed DP: 0.3 sec\n",
      "           [30, 22, 6] Proposed ILP: 0.8 sec, total 45.9 sec\n",
      "[30, 22, 28, 23], 14391210@N00 ->\n",
      "           [30, 22, 30, 23] Proposed DP: 0.5 sec\n",
      "           [30, 21, 22, 23] Proposed ILP: 0.9 sec, total 46.0 sec\n",
      "[23, 28, 16], 14878709@N00 ->\n",
      "           [23, 30, 16] Proposed DP: 0.3 sec\n",
      "           [23, 30, 16] Proposed ILP: 0.8 sec, total 45.8 sec\n",
      "[16, 21, 23, 8, 28, 22, 27], 14878709@N00 ->\n",
      "           [16, 4, 16, 4, 16, 22, 27] Proposed DP: 2.8 sec\n",
      "           [16, 11, 30, 22, 28, 21, 27] Proposed ILP: 1.3 sec, total 48.6 sec\n",
      "[17, 2, 14], 15205252@N00 ->\n",
      "           [17, 2, 14] Proposed DP: 0.3 sec\n",
      "           [17, 2, 14] Proposed ILP: 0.8 sec, total 53.6 sec\n",
      "[28, 22, 23, 29, 7, 30, 16, 21], 16048448@N00 ->\n",
      "           [28, 22, 23, 22, 23, 22, 23, 21] Proposed DP: 1.6 sec\n",
      "           [28, 7, 16, 6, 30, 22, 23, 21] Proposed ILP: 1.0 sec, total 46.9 sec\n",
      "[16, 11, 23], 16326397@N02 ->\n",
      "           [16, 22, 23] Proposed DP: 0.3 sec\n",
      "           [16, 22, 23] Proposed ILP: 0.8 sec, total 45.7 sec\n",
      "[16, 22, 23], 16693950@N00 ->\n",
      "           [16, 30, 23] Proposed DP: 0.3 sec\n",
      "           [16, 30, 23] Proposed ILP: 0.8 sec, total 45.6 sec\n",
      "[25, 19, 15], 16693950@N00 ->\n",
      "           [25, 22, 15] Proposed DP: 0.3 sec\n",
      "           [25, 22, 15] Proposed ILP: 0.8 sec, total 45.7 sec\n",
      "[22, 8, 30, 7, 28, 23, 21, 16], 16693950@N00 ->\n",
      "           [22, 16, 22, 16, 22, 16, 22, 16] Proposed DP: 1.6 sec\n",
      "           [22, 24, 21, 23, 7, 30, 4, 16] Proposed ILP: 1.1 sec, total 47.0 sec\n",
      "[7, 30, 8], 16926694@N06 ->\n",
      "           [7, 30, 8] Proposed DP: 0.3 sec\n",
      "           [7, 30, 8] Proposed ILP: 0.8 sec, total 46.0 sec\n",
      "[22, 1, 8, 21, 28], 17373191@N00 ->\n",
      "           [22, 30, 23, 22, 28] Proposed DP: 1.7 sec\n",
      "           [22, 30, 23, 21, 28] Proposed ILP: 1.2 sec, total 54.3 sec\n",
      "[23, 22, 16], 18412989@N00 ->\n",
      "           [23, 4, 16] Proposed DP: 0.3 sec\n",
      "           [23, 4, 16] Proposed ILP: 0.8 sec, total 45.7 sec\n",
      "[21, 23, 24], 18412989@N00 ->\n",
      "           [21, 30, 24] Proposed DP: 0.3 sec\n",
      "           [21, 30, 24] Proposed ILP: 0.8 sec, total 45.9 sec\n",
      "[7, 23, 1], 18412989@N00 ->\n",
      "           [7, 16, 1] Proposed DP: 0.3 sec\n",
      "           [7, 16, 1] Proposed ILP: 0.8 sec, total 45.8 sec\n",
      "[22, 28, 23], 18948547@N00 ->\n",
      "           [22, 30, 23] Proposed DP: 0.3 sec\n",
      "           [22, 30, 23] Proposed ILP: 0.8 sec, total 46.0 sec\n",
      "[22, 6, 25], 20075574@N00 ->\n",
      "           [22, 30, 25] Proposed DP: 0.3 sec\n",
      "           [22, 30, 25] Proposed ILP: 0.8 sec, total 45.1 sec\n",
      "[23, 28, 16, 24, 4, 8, 30], 20342758@N00 ->\n",
      "           [23, 22, 30, 22, 30, 22, 30] Proposed DP: 1.3 sec\n",
      "           [23, 22, 21, 1, 16, 7, 30] Proposed ILP: 1.4 sec, total 47.1 sec\n",
      "[13, 16, 29], 20344209@N00 ->\n",
      "           [13, 21, 29] Proposed DP: 0.3 sec\n",
      "           [13, 21, 29] Proposed ILP: 0.9 sec, total 45.2 sec\n",
      "[22, 30, 7, 1, 8, 16, 21], 20456447@N03 ->\n",
      "           [22, 30, 7, 16, 1, 30, 21] Proposed DP: 1.3 sec\n",
      "           [22, 30, 7, 16, 1, 28, 21] Proposed ILP: 1.4 sec, total 47.2 sec\n",
      "[7, 16, 4, 8], 20456447@N03 ->\n",
      "           [7, 22, 30, 8] Proposed DP: 0.5 sec\n",
      "           [7, 22, 30, 8] Proposed ILP: 0.8 sec, total 45.7 sec\n",
      "[3, 29, 6, 22], 20456447@N03 ->\n",
      "           [3, 6, 16, 22] Proposed DP: 0.5 sec\n",
      "           [3, 6, 16, 22] Proposed ILP: 0.8 sec, total 45.8 sec\n",
      "[7, 23, 28, 21, 30], 20741443@N00 ->\n",
      "           [7, 22, 23, 22, 30] Proposed DP: 0.8 sec\n",
      "           [7, 22, 23, 21, 30] Proposed ILP: 1.0 sec, total 67.1 sec\n",
      "[7, 30, 23], 20741443@N00 ->\n",
      "           [7, 21, 23] Proposed DP: 0.3 sec\n",
      "           [7, 21, 23] Proposed ILP: 0.8 sec, total 66.6 sec\n",
      "[21, 7, 1], 20741443@N00 ->\n",
      "           [21, 30, 1] Proposed DP: 0.3 sec\n",
      "           [21, 30, 1] Proposed ILP: 0.8 sec, total 66.4 sec\n",
      "[7, 22, 23], 20741443@N00 ->\n",
      "           [7, 21, 23] Proposed DP: 0.3 sec\n",
      "           [7, 21, 23] Proposed ILP: 0.8 sec, total 66.4 sec\n",
      "[23, 21, 22, 7, 28], 20741443@N00 ->\n",
      "           [23, 21, 23, 21, 28] Proposed DP: 0.8 sec\n",
      "           [23, 22, 21, 7, 28] Proposed ILP: 0.8 sec, total 66.4 sec\n",
      "[7, 28, 23], 20741443@N00 ->\n",
      "           [7, 21, 23] Proposed DP: 0.3 sec\n",
      "           [7, 21, 23] Proposed ILP: 0.8 sec, total 66.3 sec\n",
      "[21, 23, 22], 20741443@N00 ->\n",
      "           [21, 23, 22] Proposed DP: 0.3 sec\n",
      "           [21, 23, 22] Proposed ILP: 0.8 sec, total 66.5 sec\n",
      "[28, 21, 30], 20741443@N00 ->\n",
      "           [28, 7, 30] Proposed DP: 0.3 sec\n",
      "           [28, 7, 30] Proposed ILP: 0.9 sec, total 67.0 sec\n",
      "[30, 21, 6], 20741443@N00 ->\n",
      "           [30, 22, 6] Proposed DP: 0.3 sec\n",
      "           [30, 22, 6] Proposed ILP: 0.8 sec, total 66.8 sec\n",
      "[30, 28, 23, 7], 20741443@N00 ->\n",
      "           [30, 23, 22, 7] Proposed DP: 0.5 sec\n",
      "           [30, 23, 22, 7] Proposed ILP: 1.0 sec, total 67.0 sec\n",
      "[28, 23, 21], 20741443@N00 ->\n",
      "           [28, 23, 21] Proposed DP: 0.3 sec\n",
      "           [28, 23, 21] Proposed ILP: 0.8 sec, total 66.9 sec\n",
      "[22, 21, 30], 20741443@N00 ->\n",
      "           [22, 23, 30] Proposed DP: 0.3 sec\n",
      "           [22, 23, 30] Proposed ILP: 0.8 sec, total 66.9 sec\n",
      "[7, 28, 30], 20741443@N00 ->\n",
      "           [7, 23, 30] Proposed DP: 0.3 sec\n",
      "           [7, 23, 30] Proposed ILP: 0.9 sec, total 67.2 sec\n",
      "[7, 30, 21, 23, 22], 20741443@N00 ->\n",
      "           [7, 30, 28, 23, 22] Proposed DP: 0.8 sec\n",
      "           [7, 28, 30, 23, 22] Proposed ILP: 0.8 sec, total 67.2 sec\n",
      "[7, 23, 21, 28], 20741443@N00 ->\n",
      "           [7, 22, 23, 28] Proposed DP: 0.5 sec\n",
      "           [7, 22, 23, 28] Proposed ILP: 0.9 sec, total 67.0 sec\n",
      "[28, 23, 21, 11, 22], 20741443@N00 ->\n",
      "           [28, 23, 22, 23, 22] Proposed DP: 0.8 sec\n",
      "           [28, 30, 21, 23, 22] Proposed ILP: 0.9 sec, total 66.8 sec\n",
      "[28, 23, 21], 20741443@N00 ->\n",
      "           [28, 23, 21] Proposed DP: 0.3 sec\n",
      "           [28, 23, 21] Proposed ILP: 0.8 sec, total 66.5 sec\n",
      "[30, 22, 7], 20741443@N00 ->\n",
      "           [30, 22, 7] Proposed DP: 0.3 sec\n",
      "           [30, 22, 7] Proposed ILP: 0.9 sec, total 66.2 sec\n",
      "[7, 30, 21, 23, 28], 20741443@N00 ->\n",
      "           [7, 22, 23, 22, 28] Proposed DP: 0.8 sec\n",
      "           [7, 22, 23, 21, 28] Proposed ILP: 1.1 sec, total 66.8 sec\n",
      "[8, 30, 28, 23], 20741443@N00 ->\n",
      "           [8, 23, 22, 23] Proposed DP: 0.5 sec\n",
      "           [8, 30, 22, 23] Proposed ILP: 0.8 sec, total 66.5 sec\n",
      "[30, 7, 28, 23], 20741443@N00 ->\n",
      "           [30, 23, 22, 23] Proposed DP: 0.5 sec\n",
      "           [30, 22, 21, 23] Proposed ILP: 0.8 sec, total 66.7 sec\n",
      "[23, 28, 30], 20741443@N00 ->\n",
      "           [23, 21, 30] Proposed DP: 0.3 sec\n",
      "           [23, 21, 30] Proposed ILP: 0.8 sec, total 66.4 sec\n",
      "[23, 28, 22], 20741443@N00 ->\n",
      "           [23, 21, 22] Proposed DP: 0.3 sec\n",
      "           [23, 21, 22] Proposed ILP: 0.9 sec, total 66.4 sec\n",
      "[7, 23, 28, 30], 20741443@N00 ->\n",
      "           [7, 30, 23, 30] Proposed DP: 0.5 sec\n",
      "           [7, 22, 23, 30] Proposed ILP: 0.9 sec, total 66.8 sec\n",
      "[23, 22, 28], 20741443@N00 ->\n",
      "           [23, 21, 28] Proposed DP: 0.3 sec\n",
      "           [23, 21, 28] Proposed ILP: 0.8 sec, total 66.3 sec\n",
      "[23, 16, 30], 20741443@N00 ->\n",
      "           [23, 21, 30] Proposed DP: 0.3 sec\n",
      "           [23, 21, 30] Proposed ILP: 0.8 sec, total 66.5 sec\n",
      "[1, 30, 7], 20741443@N00 ->\n",
      "           [1, 22, 7] Proposed DP: 0.3 sec\n",
      "           [1, 22, 7] Proposed ILP: 0.8 sec, total 66.6 sec\n",
      "[8, 30, 7], 20741443@N00 ->\n",
      "           [8, 30, 7] Proposed DP: 0.3 sec\n",
      "           [8, 30, 7] Proposed ILP: 0.8 sec, total 66.4 sec\n",
      "[28, 3, 21], 20741443@N00 ->\n",
      "           [28, 23, 21] Proposed DP: 0.3 sec\n",
      "           [28, 23, 21] Proposed ILP: 0.8 sec, total 66.4 sec\n",
      "[7, 23, 21], 20741443@N00 ->\n",
      "           [7, 30, 21] Proposed DP: 0.3 sec\n",
      "           [7, 30, 21] Proposed ILP: 0.8 sec, total 66.5 sec\n",
      "[7, 22, 30], 20741443@N00 ->\n",
      "           [7, 23, 30] Proposed DP: 0.3 sec\n",
      "           [7, 23, 30] Proposed ILP: 0.9 sec, total 66.0 sec\n",
      "[21, 23, 30], 20741443@N00 ->\n",
      "           [21, 23, 30] Proposed DP: 0.3 sec\n",
      "           [21, 23, 30] Proposed ILP: 0.8 sec, total 65.9 sec\n",
      "[23, 21, 28, 30], 20741443@N00 ->\n",
      "           [23, 21, 22, 30] Proposed DP: 0.5 sec\n",
      "           [23, 21, 22, 30] Proposed ILP: 0.8 sec, total 66.1 sec\n",
      "[8, 30, 16], 20741443@N00 ->\n",
      "           [8, 30, 16] Proposed DP: 0.3 sec\n",
      "           [8, 30, 16] Proposed ILP: 0.8 sec, total 66.1 sec\n",
      "[22, 23, 30], 20741443@N00 ->\n",
      "           [22, 23, 30] Proposed DP: 0.3 sec\n",
      "           [22, 23, 30] Proposed ILP: 0.8 sec, total 65.9 sec\n",
      "[7, 23, 28, 30, 21, 22, 11], 20741443@N00 ->\n",
      "           [7, 30, 21, 23, 21, 30, 11] Proposed DP: 1.3 sec\n",
      "           [7, 30, 23, 22, 25, 21, 11] Proposed ILP: 1.1 sec, total 67.3 sec\n",
      "[29, 23, 21], 20741443@N00 ->\n",
      "           [29, 23, 21] Proposed DP: 0.3 sec\n",
      "           [29, 23, 21] Proposed ILP: 0.8 sec, total 66.1 sec\n",
      "[30, 7, 21], 20741443@N00 ->\n",
      "           [30, 23, 21] Proposed DP: 0.3 sec\n",
      "           [30, 23, 21] Proposed ILP: 0.8 sec, total 66.0 sec\n",
      "[21, 7, 30], 20741443@N00 ->\n",
      "           [21, 23, 30] Proposed DP: 0.3 sec\n",
      "           [21, 23, 30] Proposed ILP: 0.8 sec, total 65.8 sec\n",
      "[29, 27, 21], 20741443@N00 ->\n",
      "           [29, 23, 21] Proposed DP: 0.3 sec\n",
      "           [29, 23, 21] Proposed ILP: 0.8 sec, total 66.0 sec\n",
      "[7, 21, 28, 23], 20741443@N00 ->\n",
      "           [7, 30, 21, 23] Proposed DP: 0.5 sec\n",
      "           [7, 30, 21, 23] Proposed ILP: 0.8 sec, total 66.1 sec\n",
      "[21, 23, 28], 20741443@N00 ->\n",
      "           [21, 23, 28] Proposed DP: 0.3 sec\n",
      "           [21, 23, 28] Proposed ILP: 0.8 sec, total 66.0 sec\n",
      "[30, 28, 23], 20741443@N00 ->\n",
      "           [30, 22, 23] Proposed DP: 0.3 sec\n",
      "           [30, 22, 23] Proposed ILP: 0.8 sec, total 65.8 sec\n",
      "[30, 7, 21], 20741443@N00 ->\n",
      "           [30, 23, 21] Proposed DP: 0.3 sec\n",
      "           [30, 23, 21] Proposed ILP: 0.8 sec, total 66.0 sec\n",
      "[28, 21, 3], 20741443@N00 ->\n",
      "           [28, 30, 3] Proposed DP: 0.3 sec\n",
      "           [28, 30, 3] Proposed ILP: 0.9 sec, total 65.9 sec\n",
      "[7, 22, 23, 29], 20741443@N00 ->\n",
      "           [7, 23, 21, 29] Proposed DP: 0.5 sec\n",
      "           [7, 23, 21, 29] Proposed ILP: 0.9 sec, total 66.1 sec\n",
      "[24, 7, 28], 20741443@N00 ->\n",
      "           [24, 22, 28] Proposed DP: 0.3 sec\n",
      "           [24, 22, 28] Proposed ILP: 0.8 sec, total 65.9 sec\n",
      "[24, 7, 23, 28], 20741443@N00 ->\n",
      "           [24, 22, 23, 28] Proposed DP: 0.5 sec\n",
      "           [24, 22, 23, 28] Proposed ILP: 0.8 sec, total 65.9 sec\n",
      "[23, 22, 7], 22111831@N05 ->\n",
      "           [23, 30, 7] Proposed DP: 0.3 sec\n",
      "           [23, 30, 7] Proposed ILP: 0.8 sec, total 45.5 sec\n",
      "[25, 23, 29], 22979982@N06 ->\n",
      "           [25, 22, 29] Proposed DP: 0.3 sec\n",
      "           [25, 22, 29] Proposed ILP: 0.8 sec, total 44.9 sec\n",
      "[16, 8, 30, 7], 22996605@N05 ->\n",
      "           [16, 1, 16, 7] Proposed DP: 0.5 sec\n",
      "           [16, 22, 30, 7] Proposed ILP: 1.0 sec, total 45.9 sec\n",
      "[7, 8, 16], 23119895@N00 ->\n",
      "           [7, 30, 16] Proposed DP: 0.3 sec\n",
      "           [7, 30, 16] Proposed ILP: 0.8 sec, total 45.2 sec\n",
      "[16, 6, 30, 8], 23269969@N00 ->\n",
      "           [16, 4, 16, 8] Proposed DP: 0.5 sec\n",
      "           [16, 22, 30, 8] Proposed ILP: 0.9 sec, total 45.6 sec\n",
      "[11, 13, 30], 23339848@N00 ->\n",
      "           [11, 22, 30] Proposed DP: 0.3 sec\n",
      "           [11, 22, 30] Proposed ILP: 0.8 sec, total 44.7 sec\n",
      "[4, 30, 22], 23908938@N02 ->\n",
      "           [4, 30, 22] Proposed DP: 0.3 sec\n",
      "           [4, 30, 22] Proposed ILP: 0.8 sec, total 45.3 sec\n",
      "[7, 30, 16, 28], 23908938@N02 ->\n",
      "           [7, 30, 22, 28] Proposed DP: 0.5 sec\n",
      "           [7, 30, 22, 28] Proposed ILP: 0.8 sec, total 45.8 sec\n",
      "[16, 11, 13], 23908938@N02 ->\n",
      "           [16, 30, 13] Proposed DP: 0.3 sec\n",
      "           [16, 30, 13] Proposed ILP: 0.8 sec, total 45.6 sec\n",
      "[11, 22, 23, 21], 23987663@N00 ->\n",
      "           [11, 21, 28, 21] Proposed DP: 0.5 sec\n",
      "           [11, 22, 28, 21] Proposed ILP: 0.8 sec, total 48.1 sec\n",
      "[10, 21, 28, 22], 23987663@N00 ->\n",
      "           [10, 22, 23, 22] Proposed DP: 0.5 sec\n",
      "           [10, 21, 23, 22] Proposed ILP: 0.8 sec, total 48.1 sec\n",
      "[23, 22, 28], 23987663@N00 ->\n",
      "           [23, 21, 28] Proposed DP: 0.3 sec\n",
      "           [23, 21, 28] Proposed ILP: 0.8 sec, total 48.3 sec\n",
      "[1, 8, 24], 24128704@N08 ->\n",
      "           [1, 16, 24] Proposed DP: 0.3 sec\n",
      "           [1, 16, 24] Proposed ILP: 0.8 sec, total 44.9 sec\n",
      "[6, 11, 26], 24395354@N02 ->\n",
      "           [6, 22, 26] Proposed DP: 0.3 sec\n",
      "           [6, 22, 26] Proposed ILP: 0.8 sec, total 45.0 sec\n",
      "[29, 8, 23], 24616128@N00 ->\n",
      "           [29, 22, 23] Proposed DP: 0.3 sec\n",
      "           [29, 22, 23] Proposed ILP: 0.8 sec, total 46.1 sec\n",
      "[16, 17, 19], 24854893@N00 ->\n",
      "           [16, 23, 19] Proposed DP: 0.3 sec\n",
      "           [16, 23, 19] Proposed ILP: 0.8 sec, total 47.4 sec\n",
      "[30, 24, 25, 11], 24854893@N00 ->\n",
      "           [30, 22, 30, 11] Proposed DP: 0.5 sec\n",
      "           [30, 22, 28, 11] Proposed ILP: 0.8 sec, total 47.9 sec\n",
      "[25, 16, 24], 24854893@N00 ->\n",
      "           [25, 22, 24] Proposed DP: 0.3 sec\n",
      "           [25, 22, 24] Proposed ILP: 0.9 sec, total 47.5 sec\n",
      "[21, 13, 8, 24], 25133522@N00 ->\n",
      "           [21, 30, 22, 24] Proposed DP: 0.5 sec\n",
      "           [21, 30, 22, 24] Proposed ILP: 0.9 sec, total 45.5 sec\n",
      "[21, 23, 30, 28], 25475928@N04 ->\n",
      "           [21, 23, 22, 28] Proposed DP: 0.5 sec\n",
      "           [21, 23, 22, 28] Proposed ILP: 0.8 sec, total 45.7 sec\n",
      "[8, 16, 4], 25561968@N00 ->\n",
      "           [8, 16, 4] Proposed DP: 0.3 sec\n",
      "           [8, 16, 4] Proposed ILP: 0.8 sec, total 45.1 sec\n",
      "[23, 7, 30, 16, 8, 4], 25802393@N02 ->\n",
      "           [23, 30, 22, 30, 16, 4] Proposed DP: 1.0 sec\n",
      "           [23, 22, 21, 30, 16, 4] Proposed ILP: 0.8 sec, total 45.6 sec\n",
      "[23, 22, 28, 1], 25846522@N00 ->\n",
      "           [23, 30, 16, 1] Proposed DP: 0.5 sec\n",
      "           [23, 30, 16, 1] Proposed ILP: 0.8 sec, total 45.6 sec\n",
      "[11, 27, 6], 26195569@N00 ->\n",
      "           [11, 30, 6] Proposed DP: 0.3 sec\n",
      "           [11, 30, 6] Proposed ILP: 0.8 sec, total 44.8 sec\n",
      "[16, 30, 28, 21], 26240579@N05 ->\n",
      "           [16, 7, 30, 21] Proposed DP: 0.5 sec\n",
      "           [16, 7, 30, 21] Proposed ILP: 0.8 sec, total 45.7 sec\n",
      "[28, 22, 1, 7], 26344918@N04 ->\n",
      "           [28, 22, 30, 7] Proposed DP: 0.5 sec\n",
      "           [28, 22, 30, 7] Proposed ILP: 0.8 sec, total 45.2 sec\n",
      "[8, 4, 16], 26736723@N00 ->\n",
      "           [8, 1, 16] Proposed DP: 0.3 sec\n",
      "           [8, 1, 16] Proposed ILP: 0.9 sec, total 45.6 sec\n",
      "[22, 30, 8], 27008470@N00 ->\n",
      "           [22, 30, 8] Proposed DP: 0.3 sec\n",
      "           [22, 30, 8] Proposed ILP: 0.8 sec, total 45.3 sec\n",
      "[28, 22, 23], 27031977@N04 ->\n",
      "           [28, 22, 23] Proposed DP: 0.3 sec\n",
      "           [28, 22, 23] Proposed ILP: 0.8 sec, total 45.1 sec\n",
      "[16, 8, 28, 22, 23, 21], 27168489@N00 ->\n",
      "           [16, 7, 30, 22, 30, 21] Proposed DP: 1.0 sec\n",
      "           [16, 7, 30, 22, 23, 21] Proposed ILP: 0.8 sec, total 45.8 sec\n",
      "[8, 16, 1], 27895744@N00 ->\n",
      "           [8, 16, 1] Proposed DP: 0.3 sec\n",
      "           [8, 16, 1] Proposed ILP: 0.8 sec, total 45.2 sec\n",
      "[16, 24, 13], 27947906@N08 ->\n",
      "           [16, 30, 13] Proposed DP: 0.3 sec\n",
      "           [16, 30, 13] Proposed ILP: 0.9 sec, total 45.7 sec\n",
      "[15, 19, 1], 28157992@N03 ->\n",
      "           [15, 16, 1] Proposed DP: 0.3 sec\n",
      "           [15, 16, 1] Proposed ILP: 0.9 sec, total 45.5 sec\n",
      "[30, 27, 21], 28288718@N03 ->\n",
      "           [30, 23, 21] Proposed DP: 0.3 sec\n",
      "           [30, 23, 21] Proposed ILP: 0.8 sec, total 46.3 sec\n",
      "[21, 28, 30], 28288718@N03 ->\n",
      "           [21, 7, 30] Proposed DP: 0.3 sec\n",
      "           [21, 7, 30] Proposed ILP: 0.8 sec, total 45.9 sec\n",
      "[30, 23, 28], 28288718@N03 ->\n",
      "           [30, 22, 28] Proposed DP: 0.3 sec\n",
      "           [30, 22, 28] Proposed ILP: 0.9 sec, total 46.2 sec\n",
      "[16, 23, 28, 22], 29352917@N00 ->\n",
      "           [16, 30, 16, 22] Proposed DP: 0.5 sec\n",
      "           [16, 7, 30, 22] Proposed ILP: 0.9 sec, total 45.8 sec\n",
      "[29, 30, 16], 29352917@N00 ->\n",
      "           [29, 22, 16] Proposed DP: 0.3 sec\n",
      "           [29, 22, 16] Proposed ILP: 0.8 sec, total 45.7 sec\n",
      "[6, 25, 23], 29352917@N00 ->\n",
      "           [6, 16, 23] Proposed DP: 0.3 sec\n",
      "           [6, 16, 23] Proposed ILP: 0.8 sec, total 45.3 sec\n",
      "[8, 4, 16], 29619840@N00 ->\n",
      "           [8, 30, 16] Proposed DP: 0.3 sec\n",
      "           [8, 30, 16] Proposed ILP: 0.9 sec, total 45.9 sec\n",
      "[16, 8, 30, 7], 30624156@N00 ->\n",
      "           [16, 4, 16, 7] Proposed DP: 0.5 sec\n",
      "           [16, 22, 30, 7] Proposed ILP: 1.0 sec, total 49.6 sec\n",
      "[21, 23, 22, 28], 30624156@N00 ->\n",
      "           [21, 23, 22, 28] Proposed DP: 0.5 sec\n",
      "           [21, 23, 22, 28] Proposed ILP: 0.8 sec, total 49.5 sec\n",
      "[28, 7, 30, 22, 27], 30624156@N00 ->\n",
      "           [28, 11, 22, 21, 27] Proposed DP: 0.8 sec\n",
      "           [28, 11, 21, 22, 27] Proposed ILP: 0.8 sec, total 49.4 sec\n",
      "[28, 22, 21], 30739892@N03 ->\n",
      "           [28, 22, 21] Proposed DP: 0.3 sec\n",
      "           [28, 22, 21] Proposed ILP: 0.8 sec, total 46.1 sec\n",
      "[7, 1, 16], 30855862@N07 ->\n",
      "           [7, 30, 16] Proposed DP: 0.3 sec\n",
      "           [7, 30, 16] Proposed ILP: 0.9 sec, total 45.6 sec\n",
      "[24, 8, 30], 31114347@N05 ->\n",
      "           [24, 22, 30] Proposed DP: 0.3 sec\n",
      "           [24, 22, 30] Proposed ILP: 0.9 sec, total 45.2 sec\n",
      "[23, 22, 25], 31349854@N00 ->\n",
      "           [23, 22, 25] Proposed DP: 0.3 sec\n",
      "           [23, 22, 25] Proposed ILP: 0.8 sec, total 46.0 sec\n",
      "[28, 7, 27], 32044903@N04 ->\n",
      "           [28, 22, 27] Proposed DP: 0.3 sec\n",
      "           [28, 22, 27] Proposed ILP: 0.8 sec, total 45.2 sec\n",
      "[28, 22, 25], 32781576@N04 ->\n",
      "           [28, 22, 25] Proposed DP: 0.3 sec\n",
      "           [28, 22, 25] Proposed ILP: 0.8 sec, total 45.3 sec\n",
      "[20, 6, 25, 11, 30, 24], 32827327@N03 ->\n",
      "           [20, 30, 16, 4, 16, 24] Proposed DP: 1.0 sec\n",
      "           [20, 2, 16, 8, 30, 24] Proposed ILP: 1.1 sec, total 46.0 sec\n",
      "[30, 16, 8, 21], 32934461@N00 ->\n",
      "           [30, 22, 30, 21] Proposed DP: 0.5 sec\n",
      "           [30, 22, 23, 21] Proposed ILP: 0.9 sec, total 45.7 sec\n",
      "[22, 29, 11], 32944866@N04 ->\n",
      "           [22, 30, 11] Proposed DP: 0.3 sec\n",
      "           [22, 30, 11] Proposed ILP: 0.8 sec, total 45.1 sec\n",
      "[19, 7, 23, 21], 33182025@N00 ->\n",
      "           [19, 30, 23, 21] Proposed DP: 0.5 sec\n",
      "           [19, 30, 23, 21] Proposed ILP: 0.9 sec, total 45.6 sec\n",
      "[22, 8, 30], 33473816@N00 ->\n",
      "           [22, 23, 30] Proposed DP: 0.3 sec\n",
      "           [22, 23, 30] Proposed ILP: 0.8 sec, total 48.5 sec\n",
      "[7, 27, 30], 33473816@N00 ->\n",
      "           [7, 23, 30] Proposed DP: 0.3 sec\n",
      "           [7, 23, 30] Proposed ILP: 0.8 sec, total 48.9 sec\n",
      "[22, 28, 23], 33547369@N00 ->\n",
      "           [22, 21, 23] Proposed DP: 0.3 sec\n",
      "           [22, 21, 23] Proposed ILP: 0.8 sec, total 45.4 sec\n",
      "[23, 21, 22], 33547369@N00 ->\n",
      "           [23, 28, 22] Proposed DP: 0.3 sec\n",
      "           [23, 28, 22] Proposed ILP: 0.8 sec, total 45.4 sec\n",
      "[22, 29, 1], 33906853@N00 ->\n",
      "           [22, 30, 1] Proposed DP: 0.3 sec\n",
      "           [22, 30, 1] Proposed ILP: 0.8 sec, total 44.9 sec\n",
      "[8, 16, 4, 1, 29], 34128007@N04 ->\n",
      "           [8, 22, 30, 22, 29] Proposed DP: 0.8 sec\n",
      "           [8, 30, 22, 21, 29] Proposed ILP: 1.0 sec, total 45.6 sec\n",
      "[30, 24, 4], 34211328@N00 ->\n",
      "           [30, 16, 4] Proposed DP: 0.3 sec\n",
      "           [30, 16, 4] Proposed ILP: 0.8 sec, total 50.4 sec\n",
      "[21, 23, 22], 34211328@N00 ->\n",
      "           [21, 23, 22] Proposed DP: 0.3 sec\n",
      "           [21, 23, 22] Proposed ILP: 0.8 sec, total 51.0 sec\n",
      "[2, 17, 14], 34211328@N00 ->\n",
      "           [2, 17, 14] Proposed DP: 0.3 sec\n",
      "           [2, 17, 14] Proposed ILP: 0.8 sec, total 50.7 sec\n",
      "[8, 16, 7], 34211328@N00 ->\n",
      "           [8, 16, 7] Proposed DP: 0.3 sec\n",
      "           [8, 16, 7] Proposed ILP: 0.8 sec, total 50.8 sec\n",
      "[17, 2, 14], 34211328@N00 ->\n",
      "           [17, 2, 14] Proposed DP: 0.3 sec\n",
      "           [17, 2, 14] Proposed ILP: 0.9 sec, total 51.1 sec\n",
      "[17, 14, 27, 11], 34211328@N00 ->\n",
      "           [17, 3, 16, 11] Proposed DP: 0.5 sec\n",
      "           [17, 3, 16, 11] Proposed ILP: 0.9 sec, total 50.8 sec\n",
      "[11, 29, 6, 23, 22], 34211328@N00 ->\n",
      "           [11, 21, 22, 21, 22] Proposed DP: 0.8 sec\n",
      "           [11, 28, 23, 21, 22] Proposed ILP: 0.9 sec, total 51.1 sec\n",
      "[8, 16, 13], 34211328@N00 ->\n",
      "           [8, 16, 13] Proposed DP: 0.3 sec\n",
      "           [8, 16, 13] Proposed ILP: 0.8 sec, total 50.6 sec\n",
      "[7, 30, 22, 21, 23], 34211328@N00 ->\n",
      "           [7, 22, 21, 22, 23] Proposed DP: 0.8 sec\n",
      "           [7, 28, 21, 22, 23] Proposed ILP: 0.9 sec, total 51.2 sec\n",
      "[7, 28, 29], 34211328@N00 ->\n",
      "           [7, 22, 29] Proposed DP: 0.3 sec\n",
      "           [7, 22, 29] Proposed ILP: 0.8 sec, total 50.8 sec\n",
      "[30, 22, 28, 29, 16], 34314322@N00 ->\n",
      "           [30, 22, 30, 1, 16] Proposed DP: 0.8 sec\n",
      "           [30, 21, 22, 1, 16] Proposed ILP: 0.9 sec, total 45.9 sec\n",
      "[22, 11, 7], 34608255@N08 ->\n",
      "           [22, 30, 7] Proposed DP: 0.3 sec\n",
      "           [22, 30, 7] Proposed ILP: 0.8 sec, total 46.2 sec\n",
      "[22, 28, 6], 34619038@N00 ->\n",
      "           [22, 28, 6] Proposed DP: 0.3 sec\n",
      "           [22, 28, 6] Proposed ILP: 0.8 sec, total 45.6 sec\n",
      "[23, 11, 21], 34961066@N00 ->\n",
      "           [23, 30, 21] Proposed DP: 0.3 sec\n",
      "           [23, 30, 21] Proposed ILP: 0.8 sec, total 46.2 sec\n",
      "[6, 21, 23, 28, 22], 35034347485@N01 ->\n",
      "           [6, 30, 22, 30, 22] Proposed DP: 0.8 sec\n",
      "           [6, 30, 21, 23, 22] Proposed ILP: 0.9 sec, total 45.5 sec\n",
      "[22, 28, 21, 30, 1, 8, 16], 35034348378@N01 ->\n",
      "           [22, 30, 22, 30, 22, 30, 16] Proposed DP: 1.3 sec\n",
      "           [22, 23, 28, 8, 30, 7, 16] Proposed ILP: 1.0 sec, total 46.8 sec\n",
      "[7, 22, 6], 35107151@N04 ->\n",
      "           [7, 30, 6] Proposed DP: 0.3 sec\n",
      "           [7, 30, 6] Proposed ILP: 0.8 sec, total 45.5 sec\n",
      "[30, 7, 16, 4], 35237095252@N01 ->\n",
      "           [30, 7, 16, 4] Proposed DP: 0.5 sec\n",
      "           [30, 7, 16, 4] Proposed ILP: 0.9 sec, total 45.9 sec\n",
      "[24, 16, 30, 6, 21], 35468159247@N01 ->\n",
      "           [24, 22, 21, 22, 21] Proposed DP: 0.8 sec\n",
      "           [24, 22, 7, 30, 21] Proposed ILP: 1.2 sec, total 46.4 sec\n",
      "[23, 21, 22], 35468159247@N01 ->\n",
      "           [23, 30, 22] Proposed DP: 0.3 sec\n",
      "           [23, 30, 22] Proposed ILP: 0.8 sec, total 45.9 sec\n",
      "[23, 13, 21, 1, 22], 35764233@N00 ->\n",
      "           [23, 30, 22, 16, 22] Proposed DP: 0.8 sec\n",
      "           [23, 30, 21, 16, 22] Proposed ILP: 0.8 sec, total 46.2 sec\n",
      "[21, 16, 22], 35764233@N00 ->\n",
      "           [21, 30, 22] Proposed DP: 0.3 sec\n",
      "           [21, 30, 22] Proposed ILP: 0.8 sec, total 45.6 sec\n",
      "[7, 30, 4, 16, 8, 28, 22], 36357702@N08 ->\n",
      "           [7, 30, 22, 30, 22, 30, 22] Proposed DP: 1.3 sec\n",
      "           [7, 16, 23, 30, 21, 28, 22] Proposed ILP: 1.2 sec, total 46.3 sec\n",
      "[16, 30, 22, 6], 36553196@N08 ->\n",
      "           [16, 4, 16, 6] Proposed DP: 0.5 sec\n",
      "           [16, 22, 30, 6] Proposed ILP: 1.0 sec, total 45.5 sec\n",
      "[11, 27, 23], 37517876@N07 ->\n",
      "           [11, 22, 23] Proposed DP: 0.3 sec\n",
      "           [11, 22, 23] Proposed ILP: 0.8 sec, total 45.8 sec\n",
      "[21, 6, 7, 1], 37517876@N07 ->\n",
      "           [21, 30, 16, 1] Proposed DP: 0.5 sec\n",
      "           [21, 30, 16, 1] Proposed ILP: 0.8 sec, total 46.3 sec\n",
      "[1, 30, 7], 37517876@N07 ->\n",
      "           [1, 16, 7] Proposed DP: 0.3 sec\n",
      "           [1, 16, 7] Proposed ILP: 0.8 sec, total 46.1 sec\n",
      "[24, 28, 22, 21], 37517876@N07 ->\n",
      "           [24, 22, 30, 21] Proposed DP: 0.5 sec\n",
      "           [24, 22, 30, 21] Proposed ILP: 0.8 sec, total 46.0 sec\n",
      "[23, 28, 21], 37663331@N00 ->\n",
      "           [23, 28, 21] Proposed DP: 0.3 sec\n",
      "           [23, 28, 21] Proposed ILP: 0.8 sec, total 46.8 sec\n",
      "[21, 28, 22, 16], 37804979@N00 ->\n",
      "           [21, 22, 30, 16] Proposed DP: 0.5 sec\n",
      "           [21, 22, 30, 16] Proposed ILP: 0.9 sec, total 45.4 sec\n",
      "[24, 8, 16], 37996606796@N01 ->\n",
      "           [24, 30, 16] Proposed DP: 0.3 sec\n",
      "           [24, 30, 16] Proposed ILP: 0.8 sec, total 45.0 sec\n",
      "[22, 25, 6], 39038071@N00 ->\n",
      "           [22, 30, 6] Proposed DP: 0.3 sec\n",
      "           [22, 30, 6] Proposed ILP: 0.8 sec, total 45.4 sec\n",
      "[7, 30, 16], 39357749@N00 ->\n",
      "           [7, 30, 16] Proposed DP: 0.3 sec\n",
      "           [7, 30, 16] Proposed ILP: 0.9 sec, total 46.5 sec\n",
      "[2, 14, 17], 39460517@N03 ->\n",
      "           [2, 14, 17] Proposed DP: 0.3 sec\n",
      "           [2, 14, 17] Proposed ILP: 0.9 sec, total 47.5 sec\n",
      "[22, 28, 23, 21], 39460517@N03 ->\n",
      "           [22, 28, 23, 21] Proposed DP: 0.5 sec\n",
      "           [22, 28, 23, 21] Proposed ILP: 0.9 sec, total 47.9 sec\n",
      "[22, 28, 21], 39460517@N03 ->\n",
      "           [22, 23, 21] Proposed DP: 0.3 sec\n",
      "           [22, 23, 21] Proposed ILP: 0.8 sec, total 47.5 sec\n",
      "[21, 23, 22, 28], 39460517@N03 ->\n",
      "           [21, 28, 21, 28] Proposed DP: 0.5 sec\n",
      "           [21, 23, 22, 28] Proposed ILP: 0.9 sec, total 47.8 sec\n",
      "[30, 8, 7], 39587684@N00 ->\n",
      "           [30, 22, 7] Proposed DP: 0.3 sec\n",
      "           [30, 22, 7] Proposed ILP: 0.8 sec, total 45.5 sec\n",
      "[25, 1, 7], 39587684@N00 ->\n",
      "           [25, 30, 7] Proposed DP: 0.3 sec\n",
      "           [25, 30, 7] Proposed ILP: 0.8 sec, total 45.4 sec\n",
      "[23, 28, 22], 39587684@N00 ->\n",
      "           [23, 30, 22] Proposed DP: 0.3 sec\n",
      "           [23, 30, 22] Proposed ILP: 0.8 sec, total 45.7 sec\n",
      "[23, 28, 21], 41721440@N00 ->\n",
      "           [23, 30, 21] Proposed DP: 0.3 sec\n",
      "           [23, 30, 21] Proposed ILP: 0.8 sec, total 45.5 sec\n",
      "[11, 29, 7], 41894165897@N01 ->\n",
      "           [11, 30, 7] Proposed DP: 0.3 sec\n",
      "           [11, 30, 7] Proposed ILP: 0.8 sec, total 45.3 sec\n",
      "[21, 6, 25], 42536354@N00 ->\n",
      "           [21, 30, 25] Proposed DP: 0.3 sec\n",
      "           [21, 30, 25] Proposed ILP: 0.8 sec, total 48.0 sec\n",
      "[28, 16, 4], 42907325@N00 ->\n",
      "           [28, 16, 4] Proposed DP: 0.3 sec\n",
      "           [28, 16, 4] Proposed ILP: 0.8 sec, total 45.7 sec\n",
      "[24, 30, 7], 43139087@N00 ->\n",
      "           [24, 30, 7] Proposed DP: 0.3 sec\n",
      "           [24, 30, 7] Proposed ILP: 0.8 sec, total 51.2 sec\n",
      "[21, 23, 28, 22, 7], 43139087@N00 ->\n",
      "           [21, 30, 22, 30, 7] Proposed DP: 0.8 sec\n",
      "           [21, 30, 22, 28, 7] Proposed ILP: 0.8 sec, total 51.2 sec\n",
      "[7, 21, 23], 43334562@N00 ->\n",
      "           [7, 30, 23] Proposed DP: 0.3 sec\n",
      "           [7, 30, 23] Proposed ILP: 0.9 sec, total 45.3 sec\n",
      "[28, 22, 23], 43919105@N02 ->\n",
      "           [28, 21, 23] Proposed DP: 0.3 sec\n",
      "           [28, 21, 23] Proposed ILP: 0.8 sec, total 45.3 sec\n",
      "[6, 16, 4], 44124367252@N01 ->\n",
      "           [6, 16, 4] Proposed DP: 0.3 sec\n",
      "           [6, 16, 4] Proposed ILP: 0.8 sec, total 45.4 sec\n",
      "[16, 4, 30, 21], 44359705@N07 ->\n",
      "           [16, 7, 30, 21] Proposed DP: 0.5 sec\n",
      "           [16, 7, 30, 21] Proposed ILP: 0.8 sec, total 45.3 sec\n",
      "[6, 22, 28], 44654079@N05 ->\n",
      "           [6, 22, 28] Proposed DP: 0.3 sec\n",
      "           [6, 22, 28] Proposed ILP: 0.8 sec, total 45.2 sec\n",
      "[21, 7, 30, 16, 4], 44925192@N00 ->\n",
      "           [21, 22, 30, 16, 4] Proposed DP: 0.8 sec\n",
      "           [21, 22, 30, 16, 4] Proposed ILP: 0.8 sec, total 45.8 sec\n",
      "[28, 22, 6], 46769540@N00 ->\n",
      "           [28, 22, 6] Proposed DP: 0.3 sec\n",
      "           [28, 22, 6] Proposed ILP: 0.8 sec, total 46.4 sec\n",
      "[23, 28, 3], 47501960@N00 ->\n",
      "           [23, 22, 3] Proposed DP: 0.3 sec\n",
      "           [23, 22, 3] Proposed ILP: 0.9 sec, total 45.9 sec\n",
      "[23, 27, 21], 47501960@N00 ->\n",
      "           [23, 22, 21] Proposed DP: 0.3 sec\n",
      "           [23, 22, 21] Proposed ILP: 0.8 sec, total 46.1 sec\n",
      "[23, 21, 28], 47554402@N00 ->\n",
      "           [23, 22, 28] Proposed DP: 0.3 sec\n",
      "           [23, 22, 28] Proposed ILP: 0.8 sec, total 45.7 sec\n",
      "[22, 4, 16, 24, 7, 6, 30], 47616704@N00 ->\n",
      "           [22, 30, 22, 30, 7, 22, 30] Proposed DP: 1.3 sec\n",
      "           [22, 23, 1, 16, 7, 21, 30] Proposed ILP: 1.2 sec, total 46.9 sec\n",
      "[30, 16, 7], 48085290@N00 ->\n",
      "           [30, 16, 7] Proposed DP: 0.3 sec\n",
      "           [30, 16, 7] Proposed ILP: 0.9 sec, total 46.4 sec\n",
      "[28, 25, 21], 48453097@N00 ->\n",
      "           [28, 22, 21] Proposed DP: 0.3 sec\n",
      "           [28, 22, 21] Proposed ILP: 0.8 sec, total 45.8 sec\n",
      "[29, 6, 22, 28, 21], 48678427@N06 ->\n",
      "           [29, 23, 21, 23, 21] Proposed DP: 0.8 sec\n",
      "           [29, 22, 30, 23, 21] Proposed ILP: 0.9 sec, total 46.6 sec\n",
      "[8, 4, 16], 48784629@N00 ->\n",
      "           [8, 30, 16] Proposed DP: 0.3 sec\n",
      "           [8, 30, 16] Proposed ILP: 0.9 sec, total 57.8 sec\n",
      "[22, 8, 3], 49503002894@N01 ->\n",
      "           [22, 21, 3] Proposed DP: 0.3 sec\n",
      "           [22, 21, 3] Proposed ILP: 0.8 sec, total 45.7 sec\n",
      "[8, 19, 22], 49503002894@N01 ->\n",
      "           [8, 16, 22] Proposed DP: 0.3 sec\n",
      "           [8, 16, 22] Proposed ILP: 0.8 sec, total 45.8 sec\n",
      "[8, 16, 22], 49503002894@N01 ->\n",
      "           [8, 21, 22] Proposed DP: 0.3 sec\n",
      "           [8, 21, 22] Proposed ILP: 0.8 sec, total 45.8 sec\n",
      "[16, 4, 25], 49877040@N03 ->\n",
      "           [16, 22, 25] Proposed DP: 0.3 sec\n",
      "           [16, 22, 25] Proposed ILP: 0.8 sec, total 45.2 sec\n",
      "[21, 23, 22], 49894734@N00 ->\n",
      "           [21, 30, 22] Proposed DP: 0.3 sec\n",
      "           [21, 30, 22] Proposed ILP: 0.8 sec, total 45.3 sec\n",
      "[16, 7, 28], 50542255@N00 ->\n",
      "           [16, 22, 28] Proposed DP: 0.3 sec\n",
      "           [16, 22, 28] Proposed ILP: 0.8 sec, total 45.1 sec\n",
      "[27, 11, 30], 50642338@N00 ->\n",
      "           [27, 22, 30] Proposed DP: 0.3 sec\n",
      "           [27, 22, 30] Proposed ILP: 0.8 sec, total 45.7 sec\n",
      "[30, 23, 21, 22], 51035555243@N01 ->\n",
      "           [30, 22, 30, 22] Proposed DP: 0.5 sec\n",
      "           [30, 16, 7, 22] Proposed ILP: 0.9 sec, total 45.7 sec\n",
      "[21, 30, 8, 16, 4], 51035610516@N01 ->\n",
      "           [21, 30, 22, 30, 4] Proposed DP: 0.8 sec\n",
      "           [21, 22, 30, 16, 4] Proposed ILP: 0.9 sec, total 45.8 sec\n",
      "[21, 22, 4, 16, 25, 11], 51035681908@N01 ->\n",
      "           [21, 30, 23, 21, 30, 11] Proposed DP: 1.0 sec\n",
      "           [21, 23, 22, 30, 16, 11] Proposed ILP: 1.1 sec, total 46.1 sec\n",
      "[7, 30, 6], 51035729697@N01 ->\n",
      "           [7, 30, 6] Proposed DP: 0.3 sec\n",
      "           [7, 30, 6] Proposed ILP: 0.8 sec, total 45.4 sec\n",
      "[25, 7, 30], 51260381@N05 ->\n",
      "           [25, 22, 30] Proposed DP: 0.3 sec\n",
      "           [25, 22, 30] Proposed ILP: 0.8 sec, total 45.5 sec\n",
      "[8, 16, 1], 53874606@N00 ->\n",
      "           [8, 16, 1] Proposed DP: 0.3 sec\n",
      "           [8, 16, 1] Proposed ILP: 0.8 sec, total 45.6 sec\n",
      "[21, 8, 22, 28, 23, 3], 54058873@N00 ->\n",
      "           [21, 23, 21, 30, 16, 3] Proposed DP: 1.0 sec\n",
      "           [21, 23, 22, 30, 16, 3] Proposed ILP: 0.8 sec, total 46.8 sec\n",
      "[28, 23, 22], 55929357@N00 ->\n",
      "           [28, 21, 22] Proposed DP: 0.3 sec\n",
      "           [28, 21, 22] Proposed ILP: 0.8 sec, total 45.9 sec\n",
      "[8, 22, 28, 16, 7], 57519914@N00 ->\n",
      "           [8, 30, 22, 30, 7] Proposed DP: 0.9 sec\n",
      "           [8, 22, 30, 16, 7] Proposed ILP: 1.0 sec, total 46.0 sec\n",
      "[30, 24, 22], 58919362@N00 ->\n",
      "           [30, 23, 22] Proposed DP: 0.3 sec\n",
      "           [30, 23, 22] Proposed ILP: 0.8 sec, total 45.8 sec\n",
      "[30, 7, 23, 21], 58919362@N00 ->\n",
      "           [30, 23, 22, 21] Proposed DP: 0.5 sec\n",
      "           [30, 23, 22, 21] Proposed ILP: 0.9 sec, total 46.4 sec\n",
      "[4, 10, 1], 59525924@N05 ->\n",
      "           [4, 16, 1] Proposed DP: 0.3 sec\n",
      "           [4, 16, 1] Proposed ILP: 0.8 sec, total 46.1 sec\n",
      "[23, 30, 16], 60142746@N00 ->\n",
      "           [23, 30, 16] Proposed DP: 0.3 sec\n",
      "           [23, 30, 16] Proposed ILP: 0.8 sec, total 45.5 sec\n",
      "[22, 28, 4], 60597745@N00 ->\n",
      "           [22, 8, 4] Proposed DP: 0.3 sec\n",
      "           [22, 8, 4] Proposed ILP: 0.8 sec, total 45.7 sec\n",
      "[13, 4, 16], 60597745@N00 ->\n",
      "           [13, 1, 16] Proposed DP: 0.3 sec\n",
      "           [13, 1, 16] Proposed ILP: 0.8 sec, total 46.0 sec\n",
      "[8, 24, 30], 61239510@N00 ->\n",
      "           [8, 22, 30] Proposed DP: 0.3 sec\n",
      "           [8, 22, 30] Proposed ILP: 0.8 sec, total 46.0 sec\n",
      "[6, 21, 22], 61377999@N03 ->\n",
      "           [6, 23, 22] Proposed DP: 0.3 sec\n",
      "           [6, 23, 22] Proposed ILP: 0.8 sec, total 45.6 sec\n",
      "[22, 16, 4], 61377999@N03 ->\n",
      "           [22, 30, 4] Proposed DP: 0.3 sec\n",
      "           [22, 30, 4] Proposed ILP: 0.8 sec, total 45.8 sec\n",
      "[7, 11, 25], 61377999@N03 ->\n",
      "           [7, 22, 25] Proposed DP: 0.3 sec\n",
      "           [7, 22, 25] Proposed ILP: 0.8 sec, total 45.5 sec\n",
      "[22, 28, 23, 21], 61609579@N00 ->\n",
      "           [22, 30, 23, 21] Proposed DP: 0.5 sec\n",
      "           [22, 30, 23, 21] Proposed ILP: 0.8 sec, total 45.8 sec\n",
      "[28, 4, 16], 62373848@N00 ->\n",
      "           [28, 22, 16] Proposed DP: 0.3 sec\n",
      "           [28, 22, 16] Proposed ILP: 0.8 sec, total 45.5 sec\n",
      "[2, 17, 14], 62486370@N00 ->\n",
      "           [2, 17, 14] Proposed DP: 0.3 sec\n",
      "           [2, 17, 14] Proposed ILP: 0.8 sec, total 45.3 sec\n",
      "[23, 22, 29], 63706803@N00 ->\n",
      "           [23, 22, 29] Proposed DP: 0.3 sec\n",
      "           [23, 22, 29] Proposed ILP: 0.8 sec, total 46.3 sec\n",
      "[4, 16, 8], 64834051@N00 ->\n",
      "           [4, 16, 8] Proposed DP: 0.3 sec\n",
      "           [4, 16, 8] Proposed ILP: 0.8 sec, total 45.4 sec\n",
      "[7, 22, 30, 16], 65438265@N00 ->\n",
      "           [7, 22, 30, 16] Proposed DP: 0.5 sec\n",
      "           [7, 22, 30, 16] Proposed ILP: 0.9 sec, total 45.5 sec\n",
      "[22, 23, 28], 66922282@N00 ->\n",
      "           [22, 23, 28] Proposed DP: 0.3 sec\n",
      "           [22, 23, 28] Proposed ILP: 0.8 sec, total 45.1 sec\n",
      "[22, 29, 16], 67194633@N00 ->\n",
      "           [22, 30, 16] Proposed DP: 0.3 sec\n",
      "           [22, 30, 16] Proposed ILP: 0.8 sec, total 45.1 sec\n",
      "[16, 4, 22, 28], 67694608@N00 ->\n",
      "           [16, 30, 22, 28] Proposed DP: 0.5 sec\n",
      "           [16, 30, 22, 28] Proposed ILP: 0.9 sec, total 45.6 sec\n",
      "[16, 8, 4], 67952341@N00 ->\n",
      "           [16, 30, 4] Proposed DP: 0.3 sec\n",
      "           [16, 30, 4] Proposed ILP: 0.8 sec, total 45.5 sec\n",
      "[4, 16, 8], 68803445@N00 ->\n",
      "           [4, 16, 8] Proposed DP: 0.3 sec\n",
      "           [4, 16, 8] Proposed ILP: 0.8 sec, total 45.0 sec\n",
      "[22, 21, 30], 69525052@N06 ->\n",
      "           [22, 23, 30] Proposed DP: 0.3 sec\n",
      "           [22, 23, 30] Proposed ILP: 0.8 sec, total 45.1 sec\n",
      "[11, 23, 3, 30, 7, 16, 4, 1, 2], 69754957@N00 ->\n",
      "           [11, 30, 22, 30, 22, 30, 22, 30, 2] Proposed DP: 1.8 sec\n",
      "           [11, 16, 6, 23, 22, 25, 30, 21, 2] Proposed ILP: 1.0 sec, total 47.2 sec\n",
      "[29, 21, 3, 30], 69754957@N00 ->\n",
      "           [29, 22, 21, 30] Proposed DP: 0.5 sec\n",
      "           [29, 21, 22, 30] Proposed ILP: 0.9 sec, total 45.9 sec\n",
      "[27, 29, 23], 70289230@N00 ->\n",
      "           [27, 22, 23] Proposed DP: 0.3 sec\n",
      "           [27, 22, 23] Proposed ILP: 0.8 sec, total 45.1 sec\n",
      "[16, 30, 28, 22, 29], 70554294@N00 ->\n",
      "           [16, 22, 30, 22, 29] Proposed DP: 0.8 sec\n",
      "           [16, 22, 30, 21, 29] Proposed ILP: 0.8 sec, total 45.7 sec\n",
      "[24, 16, 8], 71206023@N00 ->\n",
      "           [24, 30, 8] Proposed DP: 0.3 sec\n",
      "           [24, 30, 8] Proposed ILP: 0.8 sec, total 45.2 sec\n",
      "[16, 8, 30, 11, 25], 71482738@N00 ->\n",
      "           [16, 30, 22, 30, 25] Proposed DP: 0.8 sec\n",
      "           [16, 6, 22, 30, 25] Proposed ILP: 0.8 sec, total 45.9 sec\n",
      "[21, 6, 22, 28], 71482738@N00 ->\n",
      "           [21, 23, 21, 28] Proposed DP: 0.5 sec\n",
      "           [21, 23, 22, 28] Proposed ILP: 0.8 sec, total 45.5 sec\n",
      "[27, 11, 8], 72236905@N00 ->\n",
      "           [27, 30, 8] Proposed DP: 0.3 sec\n",
      "           [27, 30, 8] Proposed ILP: 0.8 sec, total 44.7 sec\n",
      "[23, 28, 22, 25, 4, 21], 72778314@N00 ->\n",
      "           [23, 21, 30, 21, 30, 21] Proposed DP: 1.0 sec\n",
      "           [23, 22, 28, 7, 30, 21] Proposed ILP: 1.1 sec, total 46.8 sec\n",
      "[21, 6, 23], 73416633@N00 ->\n",
      "           [21, 30, 23] Proposed DP: 0.3 sec\n",
      "           [21, 30, 23] Proposed ILP: 0.8 sec, total 45.2 sec\n",
      "[21, 24, 30], 75396048@N00 ->\n",
      "           [21, 22, 30] Proposed DP: 0.3 sec\n",
      "           [21, 22, 30] Proposed ILP: 0.9 sec, total 45.3 sec\n",
      "[25, 6, 22, 21, 28], 75450299@N07 ->\n",
      "           [25, 22, 28, 22, 28] Proposed DP: 0.8 sec\n",
      "           [25, 22, 23, 21, 28] Proposed ILP: 0.9 sec, total 46.5 sec\n",
      "[22, 28, 21], 75450299@N07 ->\n",
      "           [22, 23, 21] Proposed DP: 0.3 sec\n",
      "           [22, 23, 21] Proposed ILP: 0.9 sec, total 45.6 sec\n",
      "[23, 22, 21], 77112637@N00 ->\n",
      "           [23, 30, 21] Proposed DP: 0.3 sec\n",
      "           [23, 30, 21] Proposed ILP: 0.8 sec, total 46.9 sec\n",
      "[22, 29, 11], 7776449@N06 ->\n",
      "           [22, 23, 11] Proposed DP: 0.3 sec\n",
      "           [22, 23, 11] Proposed ILP: 0.8 sec, total 46.8 sec\n",
      "[21, 23, 6, 25, 27], 7776449@N06 ->\n",
      "           [21, 23, 21, 11, 27] Proposed DP: 0.8 sec\n",
      "           [21, 23, 22, 11, 27] Proposed ILP: 0.9 sec, total 47.0 sec\n",
      "[16, 8, 28, 22, 6], 78015320@N00 ->\n",
      "           [16, 30, 22, 30, 6] Proposed DP: 0.8 sec\n",
      "           [16, 4, 22, 30, 6] Proposed ILP: 1.0 sec, total 45.8 sec\n",
      "[6, 13, 11], 78015320@N00 ->\n",
      "           [6, 16, 11] Proposed DP: 0.3 sec\n",
      "           [6, 16, 11] Proposed ILP: 0.8 sec, total 45.4 sec\n",
      "[1, 7, 28], 78433558@N00 ->\n",
      "           [1, 16, 28] Proposed DP: 0.3 sec\n",
      "           [1, 16, 28] Proposed ILP: 0.8 sec, total 45.2 sec\n",
      "[22, 23, 28], 8070489@N02 ->\n",
      "           [22, 23, 28] Proposed DP: 0.3 sec\n",
      "           [22, 23, 28] Proposed ILP: 0.8 sec, total 45.0 sec\n",
      "[21, 23, 28, 30, 16, 1, 4, 24, 7, 19], 8110030@N05 ->\n",
      "           [21, 30, 16, 1, 16, 1, 16, 7, 30, 19] Proposed DP: 2.1 sec\n",
      "           [21, 23, 22, 28, 1, 16, 7, 30, 24, 19] Proposed ILP: 1.7 sec, total 47.7 sec\n",
      "[28, 23, 21], 81471618@N06 ->\n",
      "           [28, 23, 21] Proposed DP: 0.3 sec\n",
      "           [28, 23, 21] Proposed ILP: 0.8 sec, total 45.6 sec\n",
      "[11, 19, 15], 81471618@N06 ->\n",
      "           [11, 28, 15] Proposed DP: 0.3 sec\n",
      "           [11, 28, 15] Proposed ILP: 0.8 sec, total 45.6 sec\n",
      "[30, 22, 28, 7, 8], 8250978@N04 ->\n",
      "           [30, 16, 1, 16, 8] Proposed DP: 0.8 sec\n",
      "           [30, 22, 1, 16, 8] Proposed ILP: 1.0 sec, total 45.8 sec\n",
      "[6, 27, 11], 82845843@N04 ->\n",
      "           [6, 30, 11] Proposed DP: 0.3 sec\n",
      "           [6, 30, 11] Proposed ILP: 0.8 sec, total 45.8 sec\n",
      "[23, 21, 30], 84035351@N00 ->\n",
      "           [23, 22, 30] Proposed DP: 0.3 sec\n",
      "           [23, 22, 30] Proposed ILP: 0.8 sec, total 45.3 sec\n",
      "[16, 4, 8], 84518681@N00 ->\n",
      "           [16, 30, 8] Proposed DP: 0.3 sec\n",
      "           [16, 30, 8] Proposed ILP: 0.8 sec, total 45.4 sec\n",
      "[30, 7, 22, 23, 21], 84711541@N00 ->\n",
      "           [30, 16, 7, 30, 21] Proposed DP: 0.8 sec\n",
      "           [30, 16, 7, 23, 21] Proposed ILP: 0.9 sec, total 48.4 sec\n",
      "[22, 11, 16], 84800532@N02 ->\n",
      "           [22, 30, 16] Proposed DP: 0.3 sec\n",
      "           [22, 30, 16] Proposed ILP: 0.8 sec, total 45.8 sec\n",
      "[22, 28, 23, 21], 84987970@N00 ->\n",
      "           [22, 21, 22, 21] Proposed DP: 0.5 sec\n",
      "           [22, 23, 28, 21] Proposed ILP: 0.8 sec, total 60.3 sec\n",
      "[3, 21, 22, 25], 84987970@N00 ->\n",
      "           [3, 21, 22, 25] Proposed DP: 0.5 sec\n",
      "           [3, 22, 21, 25] Proposed ILP: 0.8 sec, total 59.7 sec\n",
      "[4, 2, 17], 84987970@N00 ->\n",
      "           [4, 16, 17] Proposed DP: 0.3 sec\n",
      "           [4, 16, 17] Proposed ILP: 0.8 sec, total 59.4 sec\n",
      "[7, 22, 23, 3, 29], 84987970@N00 ->\n",
      "           [7, 22, 21, 22, 29] Proposed DP: 0.8 sec\n",
      "           [7, 16, 21, 22, 29] Proposed ILP: 0.9 sec, total 59.9 sec\n",
      "[21, 22, 3], 84987970@N00 ->\n",
      "           [21, 23, 3] Proposed DP: 0.3 sec\n",
      "           [21, 23, 3] Proposed ILP: 0.8 sec, total 59.5 sec\n",
      "[3, 21, 23], 84987970@N00 ->\n",
      "           [3, 21, 23] Proposed DP: 0.3 sec\n",
      "           [3, 21, 23] Proposed ILP: 0.9 sec, total 59.4 sec\n",
      "[3, 30, 22], 84987970@N00 ->\n",
      "           [3, 21, 22] Proposed DP: 0.3 sec\n",
      "           [3, 21, 22] Proposed ILP: 0.8 sec, total 59.4 sec\n",
      "[30, 23, 21, 22, 6, 16], 84987970@N00 ->\n",
      "           [30, 22, 21, 22, 4, 16] Proposed DP: 1.0 sec\n",
      "           [30, 22, 21, 24, 4, 16] Proposed ILP: 0.8 sec, total 60.3 sec\n",
      "[21, 23, 1], 84987970@N00 ->\n",
      "           [21, 22, 1] Proposed DP: 0.3 sec\n",
      "           [21, 22, 1] Proposed ILP: 0.8 sec, total 59.7 sec\n",
      "[6, 22, 28, 21, 23, 30, 7], 84987970@N00 ->\n",
      "           [6, 22, 21, 22, 21, 30, 7] Proposed DP: 1.3 sec\n",
      "           [6, 30, 22, 21, 4, 16, 7] Proposed ILP: 1.1 sec, total 60.6 sec\n",
      "[21, 22, 23], 84987970@N00 ->\n",
      "           [21, 22, 23] Proposed DP: 0.3 sec\n",
      "           [21, 22, 23] Proposed ILP: 0.8 sec, total 59.6 sec\n",
      "[3, 21, 23, 28, 7, 30, 22], 84987970@N00 ->\n",
      "           [3, 28, 22, 21, 22, 21, 22] Proposed DP: 1.3 sec\n",
      "           [3, 16, 6, 28, 23, 21, 22] Proposed ILP: 1.0 sec, total 60.6 sec\n",
      "[6, 4, 30, 7, 28, 21], 84987970@N00 ->\n",
      "           [6, 21, 22, 21, 22, 21] Proposed DP: 1.0 sec\n",
      "           [6, 30, 23, 28, 22, 21] Proposed ILP: 1.0 sec, total 60.3 sec\n",
      "[29, 22, 28, 23, 21, 27], 84987970@N00 ->\n",
      "           [29, 22, 21, 22, 21, 27] Proposed DP: 1.0 sec\n",
      "           [29, 11, 16, 22, 21, 27] Proposed ILP: 1.1 sec, total 60.0 sec\n",
      "[21, 23, 28, 6], 84987970@N00 ->\n",
      "           [21, 22, 28, 6] Proposed DP: 0.5 sec\n",
      "           [21, 22, 28, 6] Proposed ILP: 0.8 sec, total 59.7 sec\n",
      "[22, 29, 24, 11], 84987970@N00 ->\n",
      "           [22, 21, 28, 11] Proposed DP: 0.5 sec\n",
      "           [22, 21, 28, 11] Proposed ILP: 0.8 sec, total 59.5 sec\n",
      "[28, 22, 21], 84987970@N00 ->\n",
      "           [28, 22, 21] Proposed DP: 0.3 sec\n",
      "           [28, 22, 21] Proposed ILP: 0.8 sec, total 59.5 sec\n",
      "[2, 17, 14], 84987970@N00 ->\n",
      "           [2, 18, 14] Proposed DP: 0.3 sec\n",
      "           [2, 18, 14] Proposed ILP: 0.9 sec, total 59.6 sec\n",
      "[7, 28, 22, 30], 84987970@N00 ->\n",
      "           [7, 22, 21, 30] Proposed DP: 0.5 sec\n",
      "           [7, 22, 21, 30] Proposed ILP: 0.9 sec, total 60.0 sec\n",
      "[22, 28, 23, 3], 84987970@N00 ->\n",
      "           [22, 21, 22, 3] Proposed DP: 0.5 sec\n",
      "           [22, 21, 23, 3] Proposed ILP: 0.9 sec, total 59.9 sec\n",
      "[24, 15, 19], 84987970@N00 ->\n",
      "           [24, 30, 19] Proposed DP: 0.3 sec\n",
      "           [24, 30, 19] Proposed ILP: 0.8 sec, total 59.5 sec\n",
      "[23, 22, 21], 84987970@N00 ->\n",
      "           [23, 28, 21] Proposed DP: 0.3 sec\n",
      "           [23, 28, 21] Proposed ILP: 0.8 sec, total 59.5 sec\n",
      "[22, 21, 3, 23, 28], 84987970@N00 ->\n",
      "           [22, 21, 22, 21, 28] Proposed DP: 0.8 sec\n",
      "           [22, 21, 23, 4, 28] Proposed ILP: 0.9 sec, total 60.6 sec\n",
      "[22, 30, 21], 84987970@N00 ->\n",
      "           [22, 28, 21] Proposed DP: 0.3 sec\n",
      "           [22, 28, 21] Proposed ILP: 0.8 sec, total 60.0 sec\n",
      "[7, 28, 23, 21, 3, 4, 8, 16], 85801042@N00 ->\n",
      "           [7, 22, 30, 22, 30, 22, 30, 16] Proposed DP: 1.6 sec\n",
      "           [7, 24, 22, 23, 21, 30, 1, 16] Proposed ILP: 1.3 sec, total 47.3 sec\n",
      "[30, 1, 8, 16, 23], 86292040@N00 ->\n",
      "           [30, 22, 30, 22, 23] Proposed DP: 0.8 sec\n",
      "           [30, 7, 22, 21, 23] Proposed ILP: 1.0 sec, total 46.1 sec\n",
      "[13, 24, 16], 87473264@N00 ->\n",
      "           [13, 30, 16] Proposed DP: 0.3 sec\n",
      "           [13, 30, 16] Proposed ILP: 0.8 sec, total 45.8 sec\n",
      "[7, 16, 30], 88276719@N00 ->\n",
      "           [7, 22, 30] Proposed DP: 0.3 sec\n",
      "           [7, 22, 30] Proposed ILP: 0.8 sec, total 45.4 sec\n",
      "[7, 16, 8], 89613559@N07 ->\n",
      "           [7, 30, 8] Proposed DP: 0.3 sec\n",
      "           [7, 30, 8] Proposed ILP: 0.8 sec, total 45.4 sec\n",
      "[30, 7, 24, 16], 9025385@N07 ->\n",
      "           [30, 16, 4, 16] Proposed DP: 0.5 sec\n",
      "           [30, 4, 1, 16] Proposed ILP: 0.9 sec, total 45.7 sec\n",
      "[30, 16, 4, 1, 7], 9025385@N07 ->\n",
      "           [30, 1, 16, 30, 7] Proposed DP: 0.8 sec\n",
      "           [30, 22, 23, 16, 7] Proposed ILP: 1.1 sec, total 46.2 sec\n",
      "[6, 16, 11, 4, 8], 91008793@N00 ->\n",
      "           [6, 30, 22, 30, 8] Proposed DP: 0.8 sec\n",
      "           [6, 22, 30, 16, 8] Proposed ILP: 1.0 sec, total 45.5 sec\n",
      "[28, 22, 16, 30, 7], 91032493@N00 ->\n",
      "           [28, 22, 30, 22, 7] Proposed DP: 0.8 sec\n",
      "           [28, 21, 22, 30, 7] Proposed ILP: 1.0 sec, total 46.6 sec\n",
      "[3, 21, 22, 6], 91255327@N00 ->\n",
      "           [3, 22, 30, 6] Proposed DP: 0.5 sec\n",
      "           [3, 22, 30, 6] Proposed ILP: 0.9 sec, total 45.4 sec\n",
      "[22, 21, 6, 16], 9161595@N03 ->\n",
      "           [22, 23, 30, 16] Proposed DP: 0.5 sec\n",
      "           [22, 23, 30, 16] Proposed ILP: 0.8 sec, total 45.2 sec\n",
      "[7, 22, 16], 92487715@N03 ->\n",
      "           [7, 30, 16] Proposed DP: 0.3 sec\n",
      "           [7, 30, 16] Proposed ILP: 0.8 sec, total 45.4 sec\n",
      "[22, 28, 23], 93241698@N00 ->\n",
      "           [22, 30, 23] Proposed DP: 0.3 sec\n",
      "           [22, 30, 23] Proposed ILP: 0.8 sec, total 45.1 sec\n",
      "[23, 22, 16], 93241698@N00 ->\n",
      "           [23, 30, 16] Proposed DP: 0.3 sec\n",
      "           [23, 30, 16] Proposed ILP: 0.8 sec, total 45.4 sec\n",
      "[11, 24, 16, 7], 93897327@N00 ->\n",
      "           [11, 22, 30, 7] Proposed DP: 0.5 sec\n",
      "           [11, 22, 30, 7] Proposed ILP: 0.8 sec, total 45.2 sec\n",
      "[6, 11, 21, 28], 94064020@N00 ->\n",
      "           [6, 30, 22, 28] Proposed DP: 0.5 sec\n",
      "           [6, 30, 22, 28] Proposed ILP: 0.8 sec, total 45.6 sec\n",
      "[22, 16, 8], 9416709@N08 ->\n",
      "           [22, 30, 8] Proposed DP: 0.3 sec\n",
      "           [22, 30, 8] Proposed ILP: 0.8 sec, total 45.0 sec\n",
      "[28, 21, 23], 9449875@N03 ->\n",
      "           [28, 22, 23] Proposed DP: 0.3 sec\n",
      "           [28, 22, 23] Proposed ILP: 0.8 sec, total 46.4 sec\n",
      "[14, 2, 17], 9449875@N03 ->\n",
      "           [14, 2, 17] Proposed DP: 0.3 sec\n",
      "           [14, 2, 17] Proposed ILP: 0.8 sec, total 46.3 sec\n",
      "[25, 22, 23, 21], 94725783@N00 ->\n",
      "           [25, 22, 30, 21] Proposed DP: 0.5 sec\n",
      "           [25, 22, 30, 21] Proposed ILP: 0.8 sec, total 45.6 sec\n",
      "[21, 23, 28], 94828981@N08 ->\n",
      "           [21, 23, 28] Proposed DP: 0.3 sec\n",
      "           [21, 23, 28] Proposed ILP: 0.8 sec, total 47.7 sec\n",
      "[7, 16, 11], 96083563@N00 ->\n",
      "           [7, 30, 11] Proposed DP: 0.3 sec\n",
      "           [7, 30, 11] Proposed ILP: 0.8 sec, total 44.8 sec\n",
      "[7, 30, 8], 96684313@N00 ->\n",
      "           [7, 30, 8] Proposed DP: 0.3 sec\n",
      "           [7, 30, 8] Proposed ILP: 0.8 sec, total 45.1 sec\n",
      "[2, 14, 17], 97675182@N00 ->\n",
      "           [2, 14, 17] Proposed DP: 0.3 sec\n",
      "           [2, 14, 17] Proposed ILP: 0.9 sec, total 45.3 sec\n",
      "[28, 4, 16], 98185064@N00 ->\n",
      "           [28, 22, 16] Proposed DP: 0.3 sec\n",
      "           [28, 22, 16] Proposed ILP: 0.8 sec, total 45.3 sec\n",
      "[23, 28, 7, 24], 98222757@N02 ->\n",
      "           [23, 22, 30, 24] Proposed DP: 0.5 sec\n",
      "           [23, 22, 30, 24] Proposed ILP: 0.8 sec, total 45.2 sec\n",
      "[1, 30, 4], 98715075@N00 ->\n",
      "           [1, 16, 4] Proposed DP: 0.3 sec\n",
      "           [1, 16, 4] Proposed ILP: 0.8 sec, total 46.2 sec\n",
      "[22, 23, 21], 98715075@N00 ->\n",
      "           [22, 23, 21] Proposed DP: 0.3 sec\n",
      "           [22, 23, 21] Proposed ILP: 0.8 sec, total 46.2 sec\n",
      "[25, 29, 8], 9911655@N08 ->\n",
      "           [25, 22, 8] Proposed DP: 0.3 sec\n",
      "           [25, 22, 8] Proposed ILP: 0.8 sec, total 46.0 sec\n",
      "[28, 21, 30], 9911655@N08 ->\n",
      "           [28, 22, 30] Proposed DP: 0.3 sec\n",
      "           [28, 22, 30] Proposed ILP: 0.8 sec, total 45.8 sec\n",
      "[21, 23, 28], 99127884@N00 ->\n",
      "           [21, 22, 28] Proposed DP: 0.3 sec\n",
      "           [21, 22, 28] Proposed ILP: 0.9 sec, total 45.7 sec\n",
      "[11, 29, 6, 22, 28, 7, 30, 1, 15], 99127884@N00 ->\n",
      "           [11, 30, 22, 23, 30, 22, 23, 30, 15] Proposed DP: 1.8 sec\n",
      "           [11, 22, 23, 21, 25, 30, 16, 4, 15] Proposed ILP: 1.5 sec, total 47.2 sec\n",
      "[16, 22, 29], 99436246@N00 ->\n",
      "           [16, 22, 29] Proposed DP: 0.3 sec\n",
      "           [16, 22, 29] Proposed ILP: 0.8 sec, total 45.2 sec\n",
      "[11, 29, 13, 30, 2, 23, 7, 21], 99771506@N00 ->\n",
      "           [11, 21, 30, 21, 30, 21, 30, 21] Proposed DP: 1.5 sec\n",
      "           [11, 30, 6, 16, 23, 22, 25, 21] Proposed ILP: 1.9 sec, total 48.0 sec\n",
      "[22, 28, 21], 9985167@N04 ->\n",
      "           [22, 30, 21] Proposed DP: 0.3 sec\n",
      "           [22, 30, 21] Proposed ILP: 0.8 sec, total 48.4 sec\n",
      "[28, 23, 21], 9985167@N04 ->\n",
      "           [28, 23, 21] Proposed DP: 0.3 sec\n",
      "           [28, 23, 21] Proposed ILP: 0.8 sec, total 48.5 sec\n",
      "[23, 30, 22, 28, 3], 9985167@N04 ->\n",
      "           [23, 21, 28, 21, 3] Proposed DP: 0.8 sec\n",
      "           [23, 22, 28, 21, 3] Proposed ILP: 0.8 sec, total 48.9 sec\n"
     ]
    }
   ],
   "source": [
    "for user in seq_stats['userID'].unique():\n",
    "    seqid_set_user = seq_stats[seq_stats['userID'] == user].index.tolist()\n",
    "    seqid_set_other = seq_stats[seq_stats['userID'] != user].index.tolist()\n",
    "    for i in range(len(seqid_set_user)):\n",
    "        seqid = seqid_set_user[i]\n",
    "        seq_ = extract_seq(seqid, seq_all)\n",
    "        if len(seq_) < 3: continue\n",
    "        seqid_set_train = seqid_set_other.copy()\n",
    "        for k in range(K):\n",
    "            seqid_set_train = seqid_set_train + seqid_set_user[:i] + seqid_set_user[i+1:]\n",
    "        poi_info_ = calc_poi_info(seqid_set_train.copy(), seq_all, poi_all)\n",
    "        print('%s, %s ->' % (seq_, user)); sys.stdout.flush()\n",
    "\n",
    "        # proposed method DP & ILP\n",
    "        poi_logtransmat = gen_poi_logtransmat(seqid_set_train.copy(), seq_all, poi_info_)\n",
    "        t1 = time.time()\n",
    "        seq_r1, seq_r2, dt1, dt2 = recommend(seqid_set_train.copy(), seq_all, poi_info_, query_id_dict, \\\n",
    "                                             seq_[0], seq_[-1], len(seq_), poi_logtransmat)\n",
    "        F1_proposed1_cv.append(calc_F1score(seq_, seq_r1))\n",
    "        F1_proposed2_cv.append(calc_F1score(seq_, seq_r2))\n",
    "        print(' '*10, seq_r1, 'Proposed DP: %.1f sec' % dt1)\n",
    "        print(' '*10, seq_r2, 'Proposed ILP: %.1f sec, total %.1f sec' % (dt2, (time.time() - t1))); sys.stdout.flush()"
   ]
  },
  {
   "cell_type": "code",
   "execution_count": 161,
   "metadata": {
    "collapsed": false
   },
   "outputs": [
    {
     "name": "stdout",
     "output_type": "stream",
     "text": [
      "Proposed  DP: 0.725, 0.160\n",
      "Proposed ILP: 0.742, 0.152\n"
     ]
    }
   ],
   "source": [
    "print('Proposed  DP: %.3f, %.3f' % (np.mean(F1_proposed1_cv), np.std(F1_proposed1_cv)))\n",
    "print('Proposed ILP: %.3f, %.3f' % (np.mean(F1_proposed2_cv), np.std(F1_proposed2_cv)))\n",
    "#print('IJCAI   Time: %.3f, %.3f' % (np.mean(F1_ijcai1_cv), np.std(F1_ijcai1_cv)))\n",
    "#print('IJCAI Length: %.3f, %.3f' % (np.mean(F1_ijcai2_cv), np.std(F1_ijcai2_cv)))\n",
    "#print('Random guessing: %.3f, %.3f' % (np.mean(F1_guess_cv), np.std(F1_guess_cv)))"
   ]
  }
 ],
 "metadata": {
  "kernelspec": {
   "display_name": "Python 3",
   "language": "python",
   "name": "python3"
  },
  "language_info": {
   "codemirror_mode": {
    "name": "ipython",
    "version": 3
   },
   "file_extension": ".py",
   "mimetype": "text/x-python",
   "name": "python",
   "nbconvert_exporter": "python",
   "pygments_lexer": "ipython3",
   "version": "3.5.1"
  }
 },
 "nbformat": 4,
 "nbformat_minor": 0
}
