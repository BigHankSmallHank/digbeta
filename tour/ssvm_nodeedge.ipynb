{
 "cells": [
  {
   "cell_type": "markdown",
   "metadata": {
    "collapsed": true
   },
   "source": [
    "# Trajectory Recommendation using RankSVM and Structured Prediction"
   ]
  },
  {
   "cell_type": "markdown",
   "metadata": {},
   "source": [
    "<a id='toc'></a>"
   ]
  },
  {
   "cell_type": "markdown",
   "metadata": {},
   "source": [
    "[Table of Contents](#toc)\n",
    "1. [Preprocess Dataset](#sec1)\n",
    "  1. [Load Data](#sec1.1)\n",
    "  1. [Utility Functions](#sec1.2)\n",
    "1. [POI Ranking](#sec2)\n",
    "  1. [POI Features for Ranking](#sec2.1)\n",
    "  1. [Training DataFrame](#sec2.2)\n",
    "  1. [Test DataFrame](#sec2.3)\n",
    "  1. [Ranking POIs using rankSVM](#sec2.4)\n",
    "1. [Structured Prediction](#sec3)\n",
    "  1. [Structured Predition using PyStruct](#sec3.1)\n",
    "  1. [Node Features](#sec3.2)\n",
    "  1. [Edge Features](#sec3.3)\n",
    "  1. [Leave-one-out Evaluation](#sec3.4)"
   ]
  },
  {
   "cell_type": "markdown",
   "metadata": {},
   "source": [
    "<a id='sec1'></a>"
   ]
  },
  {
   "cell_type": "markdown",
   "metadata": {},
   "source": [
    "# 1. Preprocess Dataset"
   ]
  },
  {
   "cell_type": "code",
   "execution_count": 1,
   "metadata": {
    "collapsed": false
   },
   "outputs": [],
   "source": [
    "% matplotlib inline\n",
    "\n",
    "import os, sys, time, pickle, tempfile\n",
    "import math, random, itertools\n",
    "import pandas as pd\n",
    "import numpy as np\n",
    "import matplotlib.pyplot as plt\n",
    "from joblib import Parallel, delayed\n",
    "from scipy.misc import logsumexp\n",
    "\n",
    "import seaborn as sns\n",
    "\n",
    "from sklearn.cluster import KMeans\n",
    "from scipy.linalg import kron\n",
    "\n",
    "from pystruct.models import EdgeFeatureGraphCRF\n",
    "from pystruct.learners import OneSlackSSVM"
   ]
  },
  {
   "cell_type": "code",
   "execution_count": 2,
   "metadata": {
    "collapsed": true
   },
   "outputs": [],
   "source": [
    "random.seed(987654321) # control random choice when splitting training/testing set\n",
    "np.random.seed(987654321)\n",
    "ranksvm_dir = '$HOME/work/ranksvm'"
   ]
  },
  {
   "cell_type": "code",
   "execution_count": 3,
   "metadata": {
    "collapsed": true
   },
   "outputs": [],
   "source": [
    "data_dir = 'data/data-cikm16'\n",
    "dat_suffix = ['Osak', 'Glas', 'Edin', 'Toro', 'Melb']\n",
    "dat_types = ['all']"
   ]
  },
  {
   "cell_type": "code",
   "execution_count": 4,
   "metadata": {
    "collapsed": true
   },
   "outputs": [],
   "source": [
    "dat_ix = 1\n",
    "type_ix = 0"
   ]
  },
  {
   "cell_type": "code",
   "execution_count": 5,
   "metadata": {
    "collapsed": true
   },
   "outputs": [],
   "source": [
    "noloop = True  # trajectories dataset with loop or not"
   ]
  },
  {
   "cell_type": "code",
   "execution_count": 6,
   "metadata": {
    "collapsed": true
   },
   "outputs": [],
   "source": [
    "uspecific = False  # user specific training/prediction or not"
   ]
  },
  {
   "cell_type": "markdown",
   "metadata": {},
   "source": [
    "Hyperparameters."
   ]
  },
  {
   "cell_type": "code",
   "execution_count": 7,
   "metadata": {
    "collapsed": true
   },
   "outputs": [],
   "source": [
    "KX = 100  # KX folds in user specific setting [100, 50, 20, 10, 8, 4, 2, 1]"
   ]
  },
  {
   "cell_type": "code",
   "execution_count": 8,
   "metadata": {
    "collapsed": true
   },
   "outputs": [],
   "source": [
    "C = 1  # regularization parameter of SSVM"
   ]
  },
  {
   "cell_type": "code",
   "execution_count": 9,
   "metadata": {
    "collapsed": true
   },
   "outputs": [],
   "source": [
    "BIN_CLUSTER = 5  # discritization parameter"
   ]
  },
  {
   "cell_type": "markdown",
   "metadata": {},
   "source": [
    "Method switches."
   ]
  },
  {
   "cell_type": "code",
   "execution_count": 10,
   "metadata": {
    "collapsed": true
   },
   "outputs": [],
   "source": [
    "run_crf = True"
   ]
  },
  {
   "cell_type": "markdown",
   "metadata": {},
   "source": [
    "Generate results filenames."
   ]
  },
  {
   "cell_type": "code",
   "execution_count": 11,
   "metadata": {
    "collapsed": true
   },
   "outputs": [],
   "source": [
    "def gen_fname(dat_ix, type_ix, noloop, uspecific, C, KX):\n",
    "    assert(0 <= dat_ix < len(dat_suffix))\n",
    "    assert(0 <= type_ix < len(dat_types))\n",
    "    assert(isinstance(noloop, bool))\n",
    "    assert(isinstance(uspecific, bool))\n",
    "    C_str = 'C' + str(C) + '-'\n",
    "    KX_str = str(KX) + 'X-'\n",
    "    \n",
    "    if noloop == True:\n",
    "        loop_str = 'noloop-'\n",
    "    else:\n",
    "        loop_str = ''\n",
    "    \n",
    "    type_str = dat_types[type_ix] + '-'\n",
    "    \n",
    "    if uspecific == True:\n",
    "        user_str = 'specific-'\n",
    "        suffix = KX_str + dat_suffix[dat_ix] + '.pkl'\n",
    "    else:\n",
    "        user_str = 'agnostic-'\n",
    "        suffix = dat_suffix[dat_ix] + '.pkl'\n",
    "    \n",
    "    fname = loop_str + type_str + user_str\n",
    "    fcrf1 = os.path.join(data_dir, 'crf2-' + fname + C_str + suffix)\n",
    "    return fcrf1"
   ]
  },
  {
   "cell_type": "code",
   "execution_count": 12,
   "metadata": {
    "collapsed": false
   },
   "outputs": [
    {
     "data": {
      "text/plain": [
       "'data/data-cikm16/crf2-noloop-all-agnostic-C1-Glas.pkl'"
      ]
     },
     "execution_count": 12,
     "metadata": {},
     "output_type": "execute_result"
    }
   ],
   "source": [
    "frecdict_crf = gen_fname(dat_ix, type_ix, noloop, uspecific, C, KX)\n",
    "frecdict_crf"
   ]
  },
  {
   "cell_type": "markdown",
   "metadata": {},
   "source": [
    "<a id='sec1.1'></a>"
   ]
  },
  {
   "cell_type": "markdown",
   "metadata": {},
   "source": [
    "## 1.1 Load Data"
   ]
  },
  {
   "cell_type": "code",
   "execution_count": 13,
   "metadata": {
    "collapsed": true
   },
   "outputs": [],
   "source": [
    "fpoi = os.path.join(data_dir, 'poi-' + dat_suffix[dat_ix] + '.csv')"
   ]
  },
  {
   "cell_type": "code",
   "execution_count": 14,
   "metadata": {
    "collapsed": false
   },
   "outputs": [
    {
     "data": {
      "text/html": [
       "<div>\n",
       "<table border=\"1\" class=\"dataframe\">\n",
       "  <thead>\n",
       "    <tr style=\"text-align: right;\">\n",
       "      <th></th>\n",
       "      <th>poiCat</th>\n",
       "      <th>poiLon</th>\n",
       "      <th>poiLat</th>\n",
       "    </tr>\n",
       "    <tr>\n",
       "      <th>poiID</th>\n",
       "      <th></th>\n",
       "      <th></th>\n",
       "      <th></th>\n",
       "    </tr>\n",
       "  </thead>\n",
       "  <tbody>\n",
       "    <tr>\n",
       "      <th>1</th>\n",
       "      <td>Transport</td>\n",
       "      <td>-4.258101</td>\n",
       "      <td>55.857920</td>\n",
       "    </tr>\n",
       "    <tr>\n",
       "      <th>2</th>\n",
       "      <td>Transport</td>\n",
       "      <td>-4.250728</td>\n",
       "      <td>55.861496</td>\n",
       "    </tr>\n",
       "    <tr>\n",
       "      <th>4</th>\n",
       "      <td>Transport</td>\n",
       "      <td>-4.595632</td>\n",
       "      <td>55.509388</td>\n",
       "    </tr>\n",
       "    <tr>\n",
       "      <th>5</th>\n",
       "      <td>Transport</td>\n",
       "      <td>-4.331517</td>\n",
       "      <td>55.868897</td>\n",
       "    </tr>\n",
       "    <tr>\n",
       "      <th>6</th>\n",
       "      <td>Transport</td>\n",
       "      <td>-4.269905</td>\n",
       "      <td>55.856135</td>\n",
       "    </tr>\n",
       "  </tbody>\n",
       "</table>\n",
       "</div>"
      ],
      "text/plain": [
       "          poiCat    poiLon     poiLat\n",
       "poiID                                \n",
       "1      Transport -4.258101  55.857920\n",
       "2      Transport -4.250728  55.861496\n",
       "4      Transport -4.595632  55.509388\n",
       "5      Transport -4.331517  55.868897\n",
       "6      Transport -4.269905  55.856135"
      ]
     },
     "execution_count": 14,
     "metadata": {},
     "output_type": "execute_result"
    }
   ],
   "source": [
    "poi_all = pd.read_csv(fpoi)\n",
    "poi_all.set_index('poiID', inplace=True)\n",
    "poi_all.head()"
   ]
  },
  {
   "cell_type": "code",
   "execution_count": 15,
   "metadata": {
    "collapsed": true
   },
   "outputs": [],
   "source": [
    "if noloop == True:\n",
    "    ftraj = os.path.join(data_dir, 'traj-noloop-' + dat_types[type_ix] + '-' + dat_suffix[dat_ix] + '.csv')\n",
    "else:\n",
    "    ftraj = os.path.join(data_dir, 'traj-' + dat_types[type_ix] + '-' + dat_suffix[dat_ix] + '.csv')"
   ]
  },
  {
   "cell_type": "code",
   "execution_count": 16,
   "metadata": {
    "collapsed": false
   },
   "outputs": [
    {
     "data": {
      "text/html": [
       "<div>\n",
       "<table border=\"1\" class=\"dataframe\">\n",
       "  <thead>\n",
       "    <tr style=\"text-align: right;\">\n",
       "      <th></th>\n",
       "      <th>userID</th>\n",
       "      <th>trajID</th>\n",
       "      <th>poiID</th>\n",
       "      <th>startTime</th>\n",
       "      <th>endTime</th>\n",
       "      <th>#photo</th>\n",
       "      <th>trajLen</th>\n",
       "      <th>poiDuration</th>\n",
       "    </tr>\n",
       "  </thead>\n",
       "  <tbody>\n",
       "    <tr>\n",
       "      <th>0</th>\n",
       "      <td>10063645@N00</td>\n",
       "      <td>1</td>\n",
       "      <td>11</td>\n",
       "      <td>1160716026</td>\n",
       "      <td>1160716026</td>\n",
       "      <td>1</td>\n",
       "      <td>1</td>\n",
       "      <td>0</td>\n",
       "    </tr>\n",
       "    <tr>\n",
       "      <th>1</th>\n",
       "      <td>10063645@N00</td>\n",
       "      <td>2</td>\n",
       "      <td>2</td>\n",
       "      <td>1162247008</td>\n",
       "      <td>1162247008</td>\n",
       "      <td>1</td>\n",
       "      <td>1</td>\n",
       "      <td>0</td>\n",
       "    </tr>\n",
       "    <tr>\n",
       "      <th>2</th>\n",
       "      <td>10063645@N00</td>\n",
       "      <td>3</td>\n",
       "      <td>11</td>\n",
       "      <td>1162333588</td>\n",
       "      <td>1162333588</td>\n",
       "      <td>1</td>\n",
       "      <td>1</td>\n",
       "      <td>0</td>\n",
       "    </tr>\n",
       "    <tr>\n",
       "      <th>3</th>\n",
       "      <td>10063645@N00</td>\n",
       "      <td>4</td>\n",
       "      <td>16</td>\n",
       "      <td>1162693595</td>\n",
       "      <td>1162693595</td>\n",
       "      <td>1</td>\n",
       "      <td>2</td>\n",
       "      <td>0</td>\n",
       "    </tr>\n",
       "    <tr>\n",
       "      <th>4</th>\n",
       "      <td>10063645@N00</td>\n",
       "      <td>4</td>\n",
       "      <td>21</td>\n",
       "      <td>1162693817</td>\n",
       "      <td>1162693829</td>\n",
       "      <td>2</td>\n",
       "      <td>2</td>\n",
       "      <td>12</td>\n",
       "    </tr>\n",
       "  </tbody>\n",
       "</table>\n",
       "</div>"
      ],
      "text/plain": [
       "         userID  trajID  poiID   startTime     endTime  #photo  trajLen  \\\n",
       "0  10063645@N00       1     11  1160716026  1160716026       1        1   \n",
       "1  10063645@N00       2      2  1162247008  1162247008       1        1   \n",
       "2  10063645@N00       3     11  1162333588  1162333588       1        1   \n",
       "3  10063645@N00       4     16  1162693595  1162693595       1        2   \n",
       "4  10063645@N00       4     21  1162693817  1162693829       2        2   \n",
       "\n",
       "   poiDuration  \n",
       "0            0  \n",
       "1            0  \n",
       "2            0  \n",
       "3            0  \n",
       "4           12  "
      ]
     },
     "execution_count": 16,
     "metadata": {},
     "output_type": "execute_result"
    }
   ],
   "source": [
    "traj_all = pd.read_csv(ftraj)\n",
    "traj_all.head()"
   ]
  },
  {
   "cell_type": "code",
   "execution_count": 17,
   "metadata": {
    "collapsed": false
   },
   "outputs": [
    {
     "data": {
      "text/html": [
       "<div>\n",
       "<table border=\"1\" class=\"dataframe\">\n",
       "  <thead>\n",
       "    <tr style=\"text-align: right;\">\n",
       "      <th></th>\n",
       "      <th>#poi</th>\n",
       "      <th>#traj</th>\n",
       "      <th>#traj/user</th>\n",
       "      <th>#user</th>\n",
       "    </tr>\n",
       "  </thead>\n",
       "  <tbody>\n",
       "    <tr>\n",
       "      <th>Glas</th>\n",
       "      <td>27</td>\n",
       "      <td>2227</td>\n",
       "      <td>3.705491</td>\n",
       "      <td>601</td>\n",
       "    </tr>\n",
       "  </tbody>\n",
       "</table>\n",
       "</div>"
      ],
      "text/plain": [
       "      #poi  #traj  #traj/user  #user\n",
       "Glas    27   2227    3.705491    601"
      ]
     },
     "execution_count": 17,
     "metadata": {},
     "output_type": "execute_result"
    }
   ],
   "source": [
    "num_user = traj_all['userID'].unique().shape[0]\n",
    "num_poi = traj_all['poiID'].unique().shape[0]\n",
    "num_traj = traj_all['trajID'].unique().shape[0]\n",
    "#assert(num_poi == poi_all.shape[0])\n",
    "pd.DataFrame({'#user': num_user, '#poi': num_poi, '#traj': num_traj, '#traj/user': num_traj/num_user}, \\\n",
    "             index=[str(dat_suffix[dat_ix])])"
   ]
  },
  {
   "cell_type": "code",
   "execution_count": 18,
   "metadata": {
    "collapsed": false
   },
   "outputs": [
    {
     "data": {
      "image/png": "[encoded data removed]",
      "text/plain": [
       "<matplotlib.figure.Figure at 0x7f96364072e8>"
      ]
     },
     "metadata": {},
     "output_type": "display_data"
    }
   ],
   "source": [
    "ax = traj_all['trajLen'].hist(bins=20)\n",
    "ax.set_yscale('log')"
   ]
  },
  {
   "cell_type": "markdown",
   "metadata": {},
   "source": [
    "Mapping trajectory to user."
   ]
  },
  {
   "cell_type": "code",
   "execution_count": 19,
   "metadata": {
    "collapsed": false
   },
   "outputs": [
    {
     "data": {
      "text/html": [
       "<div>\n",
       "<table border=\"1\" class=\"dataframe\">\n",
       "  <thead>\n",
       "    <tr style=\"text-align: right;\">\n",
       "      <th></th>\n",
       "      <th>userID</th>\n",
       "    </tr>\n",
       "    <tr>\n",
       "      <th>trajID</th>\n",
       "      <th></th>\n",
       "    </tr>\n",
       "  </thead>\n",
       "  <tbody>\n",
       "    <tr>\n",
       "      <th>1</th>\n",
       "      <td>10063645@N00</td>\n",
       "    </tr>\n",
       "    <tr>\n",
       "      <th>2</th>\n",
       "      <td>10063645@N00</td>\n",
       "    </tr>\n",
       "    <tr>\n",
       "      <th>3</th>\n",
       "      <td>10063645@N00</td>\n",
       "    </tr>\n",
       "    <tr>\n",
       "      <th>4</th>\n",
       "      <td>10063645@N00</td>\n",
       "    </tr>\n",
       "    <tr>\n",
       "      <th>5</th>\n",
       "      <td>10063645@N00</td>\n",
       "    </tr>\n",
       "  </tbody>\n",
       "</table>\n",
       "</div>"
      ],
      "text/plain": [
       "              userID\n",
       "trajID              \n",
       "1       10063645@N00\n",
       "2       10063645@N00\n",
       "3       10063645@N00\n",
       "4       10063645@N00\n",
       "5       10063645@N00"
      ]
     },
     "execution_count": 19,
     "metadata": {},
     "output_type": "execute_result"
    }
   ],
   "source": [
    "traj_user = traj_all[['trajID', 'userID']].copy().groupby('trajID').first()\n",
    "traj_user.head()"
   ]
  },
  {
   "cell_type": "markdown",
   "metadata": {},
   "source": [
    "<a id='sec1.2'></a>"
   ]
  },
  {
   "cell_type": "markdown",
   "metadata": {},
   "source": [
    "## 1.2 Utility Functions"
   ]
  },
  {
   "cell_type": "markdown",
   "metadata": {},
   "source": [
    "Print computing progress."
   ]
  },
  {
   "cell_type": "code",
   "execution_count": 20,
   "metadata": {
    "collapsed": true
   },
   "outputs": [],
   "source": [
    "def print_progress(cnt, total):\n",
    "    \"\"\"Display a progress bar\"\"\"\n",
    "    assert(cnt > 0 and total > 0 and cnt <= total)\n",
    "    length = 80\n",
    "    ratio = cnt / total\n",
    "    n = int(length * ratio)\n",
    "    sys.stdout.write('\\r[%-80s] %d%%' % ('-'*n, int(ratio*100)))\n",
    "    sys.stdout.flush()"
   ]
  },
  {
   "cell_type": "markdown",
   "metadata": {},
   "source": [
    "Extract trajectory, i.e., a list of POIs."
   ]
  },
  {
   "cell_type": "code",
   "execution_count": 21,
   "metadata": {
    "collapsed": true
   },
   "outputs": [],
   "source": [
    "def extract_traj(tid, traj_all):\n",
    "    traj = traj_all[traj_all['trajID'] == tid].copy()\n",
    "    traj.sort_values(by=['startTime'], ascending=True, inplace=True)\n",
    "    return traj['poiID'].tolist()"
   ]
  },
  {
   "cell_type": "markdown",
   "metadata": {},
   "source": [
    "Compute POI properties, e.g., popularity, total number of visit, average visit duration."
   ]
  },
  {
   "cell_type": "code",
   "execution_count": 22,
   "metadata": {
    "collapsed": true
   },
   "outputs": [],
   "source": [
    "def calc_poi_info(trajid_list, traj_all, poi_all):\n",
    "    assert(len(trajid_list) > 0)\n",
    "    # to allow duplicated trajid\n",
    "    poi_info = traj_all[traj_all['trajID'] == trajid_list[0]][['poiID', 'poiDuration']].copy() \n",
    "    for i in range(1, len(trajid_list)):\n",
    "        traj = traj_all[traj_all['trajID'] == trajid_list[i]][['poiID', 'poiDuration']]\n",
    "        poi_info = poi_info.append(traj, ignore_index=True)\n",
    "    \n",
    "    poi_info = poi_info.groupby('poiID').agg([np.mean, np.size])\n",
    "    poi_info.columns = poi_info.columns.droplevel()\n",
    "    poi_info.reset_index(inplace=True)\n",
    "    poi_info.rename(columns={'mean':'avgDuration', 'size':'nVisit'}, inplace=True)\n",
    "    poi_info.set_index('poiID', inplace=True) \n",
    "    poi_info['poiCat'] = poi_all.loc[poi_info.index, 'poiCat']\n",
    "    poi_info['poiLon'] = poi_all.loc[poi_info.index, 'poiLon']\n",
    "    poi_info['poiLat'] = poi_all.loc[poi_info.index, 'poiLat']\n",
    "    \n",
    "    # POI popularity: the number of distinct users that visited the POI\n",
    "    pop_df = traj_all[traj_all['trajID'].isin(trajid_list)][['poiID', 'userID']].copy()\n",
    "    pop_df = pop_df.groupby('poiID').agg(pd.Series.nunique)\n",
    "    pop_df.rename(columns={'userID':'nunique'}, inplace=True)\n",
    "    poi_info['popularity'] = pop_df.loc[poi_info.index, 'nunique']\n",
    "    \n",
    "    return poi_info.copy()"
   ]
  },
  {
   "cell_type": "markdown",
   "metadata": {},
   "source": [
    "Compute the F1 score for recommended trajectory."
   ]
  },
  {
   "cell_type": "code",
   "execution_count": 23,
   "metadata": {
    "collapsed": true
   },
   "outputs": [],
   "source": [
    "def calc_F1(traj_act, traj_rec, noloop=False):\n",
    "    '''Compute recall, precision and F1 for recommended trajectories'''\n",
    "    assert(isinstance(noloop, bool))\n",
    "    assert(len(traj_act) > 0)\n",
    "    assert(len(traj_rec) > 0)\n",
    "    \n",
    "    if noloop == True:\n",
    "        intersize = len(set(traj_act) & set(traj_rec))\n",
    "    else:\n",
    "        match_tags = np.zeros(len(traj_act), dtype=np.bool)\n",
    "        for poi in traj_rec:\n",
    "            for j in range(len(traj_act)):\n",
    "                if match_tags[j] == False and poi == traj_act[j]:\n",
    "                    match_tags[j] = True\n",
    "                    break\n",
    "        intersize = np.nonzero(match_tags)[0].shape[0]\n",
    "        \n",
    "    recall = intersize / len(traj_act)\n",
    "    precision = intersize / len(traj_rec)\n",
    "    F1 = 2 * precision * recall / (precision + recall)\n",
    "    return F1"
   ]
  },
  {
   "cell_type": "markdown",
   "metadata": {},
   "source": [
    "Compute distance between two POIs using [Haversine formula](http://en.wikipedia.org/wiki/Great-circle_distance)."
   ]
  },
  {
   "cell_type": "code",
   "execution_count": 24,
   "metadata": {
    "collapsed": true
   },
   "outputs": [],
   "source": [
    "def calc_dist_vec(longitudes1, latitudes1, longitudes2, latitudes2):\n",
    "    \"\"\"Calculate the distance (unit: km) between two places on earth, vectorised\"\"\"\n",
    "    # convert degrees to radians\n",
    "    lng1 = np.radians(longitudes1)\n",
    "    lat1 = np.radians(latitudes1)\n",
    "    lng2 = np.radians(longitudes2)\n",
    "    lat2 = np.radians(latitudes2)\n",
    "    radius = 6371.0088 # mean earth radius, en.wikipedia.org/wiki/Earth_radius#Mean_radius\n",
    "\n",
    "    # The haversine formula, en.wikipedia.org/wiki/Great-circle_distance\n",
    "    dlng = np.fabs(lng1 - lng2)\n",
    "    dlat = np.fabs(lat1 - lat2)\n",
    "    dist =  2 * radius * np.arcsin( np.sqrt( \n",
    "                (np.sin(0.5*dlat))**2 + np.cos(lat1) * np.cos(lat2) * (np.sin(0.5*dlng))**2 ))\n",
    "    return dist"
   ]
  },
  {
   "cell_type": "markdown",
   "metadata": {},
   "source": [
    "Distance between POIs."
   ]
  },
  {
   "cell_type": "code",
   "execution_count": 25,
   "metadata": {
    "collapsed": true
   },
   "outputs": [],
   "source": [
    "POI_DISTMAT = pd.DataFrame(data=np.zeros((poi_all.shape[0], poi_all.shape[0]), dtype=np.float), \\\n",
    "                           index=poi_all.index, columns=poi_all.index)"
   ]
  },
  {
   "cell_type": "code",
   "execution_count": 26,
   "metadata": {
    "collapsed": true
   },
   "outputs": [],
   "source": [
    "for ix in poi_all.index:\n",
    "    POI_DISTMAT.loc[ix] = calc_dist_vec(poi_all.loc[ix, 'poiLon'], \\\n",
    "                                        poi_all.loc[ix, 'poiLat'], \\\n",
    "                                        poi_all['poiLon'], \\\n",
    "                                        poi_all['poiLat'])"
   ]
  },
  {
   "cell_type": "code",
   "execution_count": 27,
   "metadata": {
    "collapsed": false
   },
   "outputs": [],
   "source": [
    "trajid_set_all = sorted(traj_all['trajID'].unique().tolist())"
   ]
  },
  {
   "cell_type": "code",
   "execution_count": 28,
   "metadata": {
    "collapsed": true
   },
   "outputs": [],
   "source": [
    "poi_info_all = calc_poi_info(trajid_set_all, traj_all, poi_all)"
   ]
  },
  {
   "cell_type": "markdown",
   "metadata": {},
   "source": [
    "Filtering out POI visits with 0 duration."
   ]
  },
  {
   "cell_type": "code",
   "execution_count": 29,
   "metadata": {
    "collapsed": false
   },
   "outputs": [
    {
     "data": {
      "text/html": [
       "<div>\n",
       "<table border=\"1\" class=\"dataframe\">\n",
       "  <thead>\n",
       "    <tr style=\"text-align: right;\">\n",
       "      <th></th>\n",
       "      <th>avgDuration</th>\n",
       "      <th>nVisit</th>\n",
       "      <th>poiCat</th>\n",
       "      <th>poiLon</th>\n",
       "      <th>poiLat</th>\n",
       "      <th>popularity</th>\n",
       "    </tr>\n",
       "    <tr>\n",
       "      <th>poiID</th>\n",
       "      <th></th>\n",
       "      <th></th>\n",
       "      <th></th>\n",
       "      <th></th>\n",
       "      <th></th>\n",
       "      <th></th>\n",
       "    </tr>\n",
       "  </thead>\n",
       "  <tbody>\n",
       "    <tr>\n",
       "      <th>4</th>\n",
       "      <td>0.0</td>\n",
       "      <td>1</td>\n",
       "      <td>Transport</td>\n",
       "      <td>-4.595632</td>\n",
       "      <td>55.509388</td>\n",
       "      <td>1</td>\n",
       "    </tr>\n",
       "    <tr>\n",
       "      <th>5</th>\n",
       "      <td>0.0</td>\n",
       "      <td>2</td>\n",
       "      <td>Transport</td>\n",
       "      <td>-4.331517</td>\n",
       "      <td>55.868897</td>\n",
       "      <td>2</td>\n",
       "    </tr>\n",
       "  </tbody>\n",
       "</table>\n",
       "</div>"
      ],
      "text/plain": [
       "       avgDuration  nVisit     poiCat    poiLon     poiLat  popularity\n",
       "poiID                                                                 \n",
       "4              0.0       1  Transport -4.595632  55.509388           1\n",
       "5              0.0       2  Transport -4.331517  55.868897           2"
      ]
     },
     "execution_count": 29,
     "metadata": {},
     "output_type": "execute_result"
    }
   ],
   "source": [
    "zero_duration = poi_info_all[poi_info_all['avgDuration'] < 1]\n",
    "zero_duration"
   ]
  },
  {
   "cell_type": "code",
   "execution_count": 30,
   "metadata": {
    "collapsed": false
   },
   "outputs": [
    {
     "name": "stdout",
     "output_type": "stream",
     "text": [
      "(2749, 8)\n",
      "(2746, 8)\n"
     ]
    }
   ],
   "source": [
    "print(traj_all.shape)\n",
    "traj_all = traj_all[traj_all['poiID'].isin(set(poi_info_all.index) - set(zero_duration.index))]\n",
    "print(traj_all.shape)"
   ]
  },
  {
   "cell_type": "markdown",
   "metadata": {},
   "source": [
    "Dictionary maps every trajectory ID to the actual trajectory."
   ]
  },
  {
   "cell_type": "code",
   "execution_count": 31,
   "metadata": {
    "collapsed": true
   },
   "outputs": [],
   "source": [
    "traj_dict = dict()"
   ]
  },
  {
   "cell_type": "code",
   "execution_count": 32,
   "metadata": {
    "collapsed": true
   },
   "outputs": [],
   "source": [
    "for trajid in trajid_set_all:\n",
    "    traj = extract_traj(trajid, traj_all)\n",
    "    assert(trajid not in traj_dict)\n",
    "    traj_dict[trajid] = traj"
   ]
  },
  {
   "cell_type": "markdown",
   "metadata": {},
   "source": [
    "Define a *query* (in IR terminology) using tuple (start POI, end POI, #POI) ~~user ID.~~"
   ]
  },
  {
   "cell_type": "code",
   "execution_count": 33,
   "metadata": {
    "collapsed": true
   },
   "outputs": [],
   "source": [
    "QUERY_ID_DICT = dict()  # (start, end, length) --> qid"
   ]
  },
  {
   "cell_type": "code",
   "execution_count": 34,
   "metadata": {
    "collapsed": true
   },
   "outputs": [],
   "source": [
    "keys = [(traj_dict[x][0], traj_dict[x][-1], len(traj_dict[x])) \\\n",
    "        for x in sorted(traj_dict.keys()) if len(traj_dict[x]) > 2]\n",
    "cnt = 0\n",
    "for key in keys:\n",
    "    if key not in QUERY_ID_DICT:   # (start, end, length) --> qid\n",
    "        QUERY_ID_DICT[key] = cnt\n",
    "        cnt += 1"
   ]
  },
  {
   "cell_type": "code",
   "execution_count": 35,
   "metadata": {
    "collapsed": false
   },
   "outputs": [
    {
     "name": "stdout",
     "output_type": "stream",
     "text": [
      "#traj in total: 2227\n",
      "#traj (length > 2): 112\n",
      "#query tuple: 97\n"
     ]
    }
   ],
   "source": [
    "print('#traj in total:', len(trajid_set_all))\n",
    "print('#traj (length > 2):', traj_all[traj_all['trajLen'] > 2]['trajID'].unique().shape[0])\n",
    "print('#query tuple:', len(QUERY_ID_DICT))"
   ]
  },
  {
   "cell_type": "markdown",
   "metadata": {},
   "source": [
    "<a id='sec2'></a>"
   ]
  },
  {
   "cell_type": "markdown",
   "metadata": {},
   "source": [
    "# 2. POI Ranking"
   ]
  },
  {
   "cell_type": "markdown",
   "metadata": {},
   "source": [
    "<a id='sec2.1'></a>"
   ]
  },
  {
   "cell_type": "markdown",
   "metadata": {},
   "source": [
    "## 2.1 POI Features for Ranking"
   ]
  },
  {
   "cell_type": "markdown",
   "metadata": {},
   "source": [
    "POI Features used for ranking:\n",
    "1. `popularity`: POI popularity, i.e., the number of distinct users that visited the POI\n",
    "1. `nVisit`: the total number of visit by all users\n",
    "1. `avgDuration`: average POI visit duration\n",
    "1. `sameCatStart`: 1 if POI category is the same as that of `startPOI`, -1 otherwise\n",
    "1. `sameCatEnd`: 1 if POI category is the same as that of `endPOI`, -1 otherwise\n",
    "1. `distStart`: distance (haversine formula) from `startPOI`\n",
    "1. `distEnd`: distance from `endPOI`\n",
    "1. `seqLen`: trajectory length (copy from query)\n",
    "1. `diffPopStart`: difference in POI popularity from `startPOI`\n",
    "1. `diffPopEnd`: difference in POI popularity from `endPOI`\n",
    "1. `diffNVisitStart`: difference in the total number of visit from `startPOI`\n",
    "1. `diffNVisitEnd`: difference in the total number of visit from `endPOI`\n",
    "1. `diffDurationStart`: difference in average POI visit duration from the actual duration spent at `startPOI`\n",
    "1. `diffDurationEnd`: difference in average POI visit duration from the actual duration spent at `endPOI`"
   ]
  },
  {
   "cell_type": "code",
   "execution_count": 36,
   "metadata": {
    "collapsed": true
   },
   "outputs": [],
   "source": [
    "DF_COLUMNS = ['poiID', 'label', 'queryID', 'popularity', 'nVisit', 'avgDuration', 'sameCatStart', 'sameCatEnd', \\\n",
    "              'distStart', 'distEnd', 'trajLen', 'diffPopStart', 'diffPopEnd', 'diffNVisitStart', 'diffNVisitEnd', \\\n",
    "              'diffDurationStart', 'diffDurationEnd', 'sameClusterStart', 'sameClusterEnd']"
   ]
  },
  {
   "cell_type": "markdown",
   "metadata": {},
   "source": [
    "~~Features aggregated from a number of trajectories:~~\n",
    "~~1. Compute POI `popularity` and average visit `duration` using all trajectories from training and querying set,~~\n",
    "~~1. Use the same features that computed above for the test set, except the distance based features.~~"
   ]
  },
  {
   "cell_type": "markdown",
   "metadata": {},
   "source": [
    "<a id='sec2.2'></a>"
   ]
  },
  {
   "cell_type": "markdown",
   "metadata": {},
   "source": [
    "## 2.2 Training DataFrame"
   ]
  },
  {
   "cell_type": "markdown",
   "metadata": {},
   "source": [
    "Training data are generated as follows:\n",
    "1. each input tuple $(\\text{startPOI}, \\text{endPOI}, \\text{#POI})$ form a `query` (in IR terminology).\n",
    "1. the label of a specific POI is the number of presence of that POI in a specific `query`, excluding the presence as $\\text{startPOI}$ or $\\text{endPOI}$.\n",
    "1. for each `query`, the label of all absence POIs from trajectories of that `query` in training set got a label 0."
   ]
  },
  {
   "cell_type": "markdown",
   "metadata": {},
   "source": [
    "The dimension of training data matrix is `#(qid, poi)` by `#feature`."
   ]
  },
  {
   "cell_type": "code",
   "execution_count": 37,
   "metadata": {
    "collapsed": true
   },
   "outputs": [],
   "source": [
    "def gen_train_subdf(poi_id, query_id_set, poi_info, poi_clusters, query_id_rdict):\n",
    "    columns = DF_COLUMNS\n",
    "    poi_distmat = POI_DISTMAT\n",
    "    df_ = pd.DataFrame(data=np.zeros((len(query_id_set), len(columns)), dtype=np.float), columns=columns)\n",
    "    \n",
    "    pop, nvisit = poi_info.loc[poi_id, 'popularity'], poi_info.loc[poi_id, 'nVisit']\n",
    "    cat, cluster = poi_info.loc[poi_id, 'poiCat'], poi_clusters.loc[poi_id, 'clusterID'] \n",
    "    duration = poi_info.loc[poi_id, 'avgDuration']\n",
    "    \n",
    "    for j in range(len(query_id_set)):\n",
    "        qid = query_id_set[j]\n",
    "        assert(qid in query_id_rdict) # qid --> (start, end, length)\n",
    "        (p0, pN, trajLen) = query_id_rdict[qid]\n",
    "        idx = df_.index[j]\n",
    "        df_.loc[idx, 'poiID'] = poi_id\n",
    "        df_.loc[idx, 'queryID'] = qid\n",
    "        df_.loc[idx, 'popularity'] = pop\n",
    "        df_.loc[idx, 'nVisit'] = nvisit\n",
    "        df_.loc[idx, 'avgDuration'] = duration\n",
    "        df_.loc[idx, 'sameCatStart'] = 1 if cat == poi_info.loc[p0, 'poiCat'] else -1\n",
    "        df_.loc[idx, 'sameCatEnd']   = 1 if cat == poi_info.loc[pN, 'poiCat'] else -1\n",
    "        df_.loc[idx, 'distStart'] = poi_distmat.loc[poi_id, p0]\n",
    "        df_.loc[idx, 'distEnd']   = poi_distmat.loc[poi_id, pN]\n",
    "        df_.loc[idx, 'trajLen'] = trajLen\n",
    "        df_.loc[idx, 'diffPopStart'] = pop - poi_info.loc[p0, 'popularity']\n",
    "        df_.loc[idx, 'diffPopEnd']   = pop - poi_info.loc[pN, 'popularity']\n",
    "        df_.loc[idx, 'diffNVisitStart'] = nvisit - poi_info.loc[p0, 'nVisit']\n",
    "        df_.loc[idx, 'diffNVisitEnd']   = nvisit - poi_info.loc[pN, 'nVisit']\n",
    "        df_.loc[idx, 'diffDurationStart'] = duration - poi_info.loc[p0, 'avgDuration']\n",
    "        df_.loc[idx, 'diffDurationEnd']   = duration - poi_info.loc[pN, 'avgDuration']\n",
    "        df_.loc[idx, 'sameClusterStart'] = 1 if cluster == poi_clusters.loc[p0, 'clusterID'] else -1\n",
    "        df_.loc[idx, 'sameClusterEnd']   = 1 if cluster == poi_clusters.loc[pN, 'clusterID'] else -1\n",
    "        \n",
    "    return df_"
   ]
  },
  {
   "cell_type": "code",
   "execution_count": 38,
   "metadata": {
    "collapsed": false
   },
   "outputs": [],
   "source": [
    "def gen_train_df(trajid_list, traj_dict, poi_info, poi_clusters, n_jobs=-1):\n",
    "    columns = DF_COLUMNS\n",
    "    poi_distmat = POI_DISTMAT\n",
    "    query_id_dict = QUERY_ID_DICT\n",
    "    train_trajs = [traj_dict[x] for x in trajid_list if len(traj_dict[x]) > 2]\n",
    "    \n",
    "    qid_set = sorted(set([query_id_dict[(t[0], t[-1], len(t))] for t in train_trajs]))\n",
    "    poi_set = set()\n",
    "    for tr in train_trajs:\n",
    "        poi_set = poi_set | set(tr)\n",
    "    \n",
    "    #qid_poi_pair = list(itertools.product(qid_set, poi_set)) # Cartesian product of qid_set and poi_set\n",
    "    #df_ = pd.DataFrame(data=np.zeros((len(qid_poi_pair), len(columns)), dtype= np.float), columns=columns)\n",
    "    \n",
    "    query_id_rdict = dict()\n",
    "    for k, v in query_id_dict.items(): \n",
    "        query_id_rdict[v] = k  # qid --> (start, end, length)\n",
    "    \n",
    "    train_df_list = Parallel(n_jobs=n_jobs)\\\n",
    "                            (delayed(gen_train_subdf)(poi, qid_set, poi_info, poi_clusters, query_id_rdict) \\\n",
    "                             for poi in poi_set)\n",
    "                        \n",
    "    assert(len(train_df_list) > 0)\n",
    "    df_ = train_df_list[0]\n",
    "    for j in range(1, len(train_df_list)):\n",
    "        df_ = df_.append(train_df_list[j], ignore_index=True)            \n",
    "        \n",
    "    # set label\n",
    "    df_.set_index(['queryID', 'poiID'], inplace=True)\n",
    "    for t in train_trajs:\n",
    "        qid = query_id_dict[(t[0], t[-1], len(t))]\n",
    "        for poi in t[1:-1]:  # do NOT count if the POI is startPOI/endPOI\n",
    "            df_.loc[(qid, poi), 'label'] += 1\n",
    "\n",
    "    df_.reset_index(inplace=True)\n",
    "    return df_"
   ]
  },
  {
   "cell_type": "markdown",
   "metadata": {},
   "source": [
    "Sanity check: \n",
    "- different POIs have different features for the same query trajectory\n",
    "- the same POI get different features for different query-id"
   ]
  },
  {
   "cell_type": "markdown",
   "metadata": {},
   "source": [
    "<a id='sec2.3'></a>"
   ]
  },
  {
   "cell_type": "markdown",
   "metadata": {},
   "source": [
    "## 2.3 Test DataFrame"
   ]
  },
  {
   "cell_type": "markdown",
   "metadata": {},
   "source": [
    "Test data are generated the same way as training data, except that the labels of testing data (unknown) could be arbitrary values as suggested in [libsvm FAQ](http://www.csie.ntu.edu.tw/~cjlin/libsvm/faq.html#f431).\n",
    "The reported accuracy (by `svm-predict` command) is meaningless as it is calculated based on these labels."
   ]
  },
  {
   "cell_type": "markdown",
   "metadata": {},
   "source": [
    "The dimension of training data matrix is `#poi` by `#feature` with one specific `query`, i.e. tuple $(\\text{startPOI}, \\text{endPOI}, \\text{#POI})$."
   ]
  },
  {
   "cell_type": "code",
   "execution_count": 39,
   "metadata": {
    "collapsed": true
   },
   "outputs": [],
   "source": [
    "def gen_test_df(startPOI, endPOI, nPOI, poi_info, poi_clusters):\n",
    "    columns = DF_COLUMNS\n",
    "    poi_distmat = POI_DISTMAT\n",
    "    query_id_dict = QUERY_ID_DICT\n",
    "    key = (p0, pN, trajLen) = (startPOI, endPOI, nPOI)\n",
    "    assert(key in query_id_dict)\n",
    "    assert(p0 in poi_info.index)\n",
    "    assert(pN in poi_info.index)\n",
    "    \n",
    "    df_ = pd.DataFrame(data=np.zeros((poi_info.shape[0], len(columns)), dtype= np.float), columns=columns)\n",
    "    poi_list = sorted(poi_info.index)\n",
    "    \n",
    "    qid = query_id_dict[key]\n",
    "    df_['queryID'] = qid\n",
    "    df_['label'] = np.random.rand(df_.shape[0]) # label for test data is arbitrary according to libsvm FAQ\n",
    "\n",
    "    for i in range(df_.index.shape[0]):\n",
    "        poi = poi_list[i]\n",
    "        lon, lat = poi_info.loc[poi, 'poiLon'], poi_info.loc[poi, 'poiLat']\n",
    "        pop, nvisit = poi_info.loc[poi, 'popularity'], poi_info.loc[poi, 'nVisit']\n",
    "        cat, cluster = poi_info.loc[poi, 'poiCat'], poi_clusters.loc[poi, 'clusterID']\n",
    "        duration = poi_info.loc[poi, 'avgDuration']\n",
    "        idx = df_.index[i]\n",
    "        df_.loc[idx, 'poiID'] = poi \n",
    "        df_.loc[idx, 'popularity'] = pop\n",
    "        df_.loc[idx, 'nVisit'] = nvisit\n",
    "        df_.loc[idx, 'avgDuration'] = duration\n",
    "        df_.loc[idx, 'sameCatStart'] = 1 if cat == poi_all.loc[p0, 'poiCat'] else -1\n",
    "        df_.loc[idx, 'sameCatEnd']   = 1 if cat == poi_all.loc[pN, 'poiCat'] else -1\n",
    "        df_.loc[idx, 'distStart'] = poi_distmat.loc[poi, p0]\n",
    "        df_.loc[idx, 'distEnd']   = poi_distmat.loc[poi, pN]\n",
    "        df_.loc[idx, 'trajLen'] = trajLen\n",
    "        df_.loc[idx, 'diffPopStart'] = pop - poi_info.loc[p0, 'popularity']\n",
    "        df_.loc[idx, 'diffPopEnd']   = pop - poi_info.loc[pN, 'popularity']\n",
    "        df_.loc[idx, 'diffNVisitStart'] = nvisit - poi_info.loc[p0, 'nVisit']\n",
    "        df_.loc[idx, 'diffNVisitEnd']   = nvisit - poi_info.loc[pN, 'nVisit']\n",
    "        df_.loc[idx, 'diffDurationStart'] = duration - poi_info.loc[p0, 'avgDuration']\n",
    "        df_.loc[idx, 'diffDurationEnd']   = duration - poi_info.loc[pN, 'avgDuration']\n",
    "        df_.loc[idx, 'sameClusterStart'] = 1 if cluster == poi_clusters.loc[p0, 'clusterID'] else -1\n",
    "        df_.loc[idx, 'sameClusterEnd']   = 1 if cluster == poi_clusters.loc[pN, 'clusterID'] else -1\n",
    "        \n",
    "    return df_"
   ]
  },
  {
   "cell_type": "markdown",
   "metadata": {},
   "source": [
    "Sanity check: \n",
    "- different POIs have different features for the same query trajectory\n",
    "- the same POI get different features for different query-id"
   ]
  },
  {
   "cell_type": "markdown",
   "metadata": {},
   "source": [
    "Generate a string for a training/test data frame."
   ]
  },
  {
   "cell_type": "code",
   "execution_count": 40,
   "metadata": {
    "collapsed": true
   },
   "outputs": [],
   "source": [
    "def gen_data_str(df_, df_columns=DF_COLUMNS):\n",
    "    columns = df_columns[1:].copy()  # get rid of 'poiID'\n",
    "    for col in columns:\n",
    "        assert(col in df_.columns)\n",
    "        \n",
    "    lines = []\n",
    "    for idx in df_.index:\n",
    "        slist = [str(df_.loc[idx, 'label'])]\n",
    "        slist.append(' qid:')\n",
    "        slist.append(str(int(df_.loc[idx, 'queryID'])))\n",
    "        for j in range(2, len(columns)):\n",
    "            slist.append(' ')\n",
    "            slist.append(str(j-1))\n",
    "            slist.append(':')\n",
    "            slist.append(str(df_.loc[idx, columns[j]]))\n",
    "        slist.append('\\n')\n",
    "        lines.append(''.join(slist))\n",
    "    return ''.join(lines)"
   ]
  },
  {
   "cell_type": "markdown",
   "metadata": {},
   "source": [
    "<a id='sec2.4'></a>"
   ]
  },
  {
   "cell_type": "markdown",
   "metadata": {},
   "source": [
    "## 2.4 Ranking POIs using rankSVM"
   ]
  },
  {
   "cell_type": "markdown",
   "metadata": {},
   "source": [
    "RankSVM implementation in [libsvm.zip](https://www.csie.ntu.edu.tw/~cjlin/libsvmtools/ranksvm/libsvm-ranksvm-3.20.zip) or [liblinear.zip](https://www.csie.ntu.edu.tw/~cjlin/libsvmtools/ranksvm/liblinear-ranksvm-1.95.zip), please read `README.ranksvm` in the zip file for installation instructions."
   ]
  },
  {
   "cell_type": "markdown",
   "metadata": {},
   "source": [
    "Use [softmax function](https://en.wikipedia.org/wiki/Softmax_function) to convert ranking scores to a probability distribution."
   ]
  },
  {
   "cell_type": "code",
   "execution_count": 41,
   "metadata": {
    "collapsed": true
   },
   "outputs": [],
   "source": [
    "def softmax(x):\n",
    "    x1 = x.copy()\n",
    "    x1 -= np.max(x1)  # numerically more stable, REF: http://cs231n.github.io/linear-classify/#softmax\n",
    "    expx = np.exp(x1)\n",
    "    return expx / np.sum(expx, axis=0) # column-wise sum"
   ]
  },
  {
   "cell_type": "markdown",
   "metadata": {},
   "source": [
    "Below is a python wrapper of the `svm-train` or `train` and `svm-predict` or `predict` commands of rankSVM with ranking probabilities $P(p_i \\lvert (p_s, p_e, len))$ computed using [softmax function](https://en.wikipedia.org/wiki/Softmax_function)."
   ]
  },
  {
   "cell_type": "code",
   "execution_count": 42,
   "metadata": {
    "collapsed": true
   },
   "outputs": [],
   "source": [
    "# python wrapper of rankSVM\n",
    "class RankSVM:\n",
    "    def __init__(self, bin_dir, useLinear=True, debug=False):\n",
    "        dir_ = !echo $bin_dir  # deal with environmental variables in path\n",
    "        assert(os.path.exists(dir_[0]))\n",
    "        self.bin_dir = dir_[0]\n",
    "        \n",
    "        self.bin_train = 'svm-train'\n",
    "        self.bin_predict = 'svm-predict'\n",
    "        if useLinear:\n",
    "            self.bin_train = 'train'\n",
    "            self.bin_predict = 'predict'\n",
    "        \n",
    "        assert(isinstance(debug, bool))\n",
    "        self.debug = debug\n",
    "        \n",
    "        # create named tmp files for model and feature scaling parameters\n",
    "        self.fmodel = None\n",
    "        self.fscale = None\n",
    "        with tempfile.NamedTemporaryFile(delete=False) as fd: \n",
    "            self.fmodel = fd.name\n",
    "        with tempfile.NamedTemporaryFile(delete=False) as fd: \n",
    "            self.fscale = fd.name\n",
    "        \n",
    "        if self.debug:\n",
    "            print('model file:', self.fmodel)\n",
    "            print('feature scaling parameter file:', self.fscale)\n",
    "    \n",
    "    \n",
    "    def __del__(self):\n",
    "        # remove tmp files\n",
    "        if self.fmodel is not None and os.path.exists(self.fmodel):\n",
    "            os.unlink(self.fmodel)\n",
    "        if self.fscale is not None and os.path.exists(self.fscale):\n",
    "            os.unlink(self.fscale)\n",
    "    \n",
    "    \n",
    "    def train(self, train_df, cost=1):\n",
    "        # cost is parameter C in SVM\n",
    "        # write train data to file\n",
    "        ftrain = None\n",
    "        with tempfile.NamedTemporaryFile(mode='w+t', delete=False) as fd: \n",
    "            ftrain = fd.name\n",
    "            datastr = gen_data_str(train_df)\n",
    "            fd.write(datastr)\n",
    "        \n",
    "        # feature scaling\n",
    "        ftrain_scaled = None\n",
    "        with tempfile.NamedTemporaryFile(mode='w+t', delete=False) as fd: \n",
    "            ftrain_scaled = fd.name\n",
    "        result = !$self.bin_dir/svm-scale -s $self.fscale $ftrain > $ftrain_scaled\n",
    "        \n",
    "        if self.debug:\n",
    "            print('cost:', cost)\n",
    "            print('train data file:', ftrain)\n",
    "            print('feature scaled train data file:', ftrain_scaled)\n",
    "        \n",
    "        # train rank svm and generate model file, if the model file exists, rewrite it\n",
    "        #n_cv = 10  # parameter k for k-fold cross-validation, NO model file will be generated in CV mode\n",
    "        #result = !$self.bin_dir/svm-train -c $cost -v $n_cv $ftrain $self.fmodel\n",
    "        result = !$self.bin_dir/$self.bin_train -c $cost $ftrain_scaled $self.fmodel\n",
    "        if self.debug:\n",
    "            print('Training finished.')\n",
    "            for i in range(len(result)): print(result[i])\n",
    "\n",
    "        # remove train data file\n",
    "        os.unlink(ftrain)\n",
    "        os.unlink(ftrain_scaled)        \n",
    "        \n",
    "    \n",
    "    def predict(self, test_df):\n",
    "        # predict ranking scores for the given feature matrix\n",
    "        if self.fmodel is None or not os.path.exists(self.fmodel):\n",
    "            print('Model should be trained before predicting')\n",
    "            return\n",
    "        \n",
    "        # write test data to file\n",
    "        ftest = None\n",
    "        with tempfile.NamedTemporaryFile(mode='w+t', delete=False) as fd: \n",
    "            ftest = fd.name\n",
    "            datastr = gen_data_str(test_df)\n",
    "            fd.write(datastr)\n",
    "                \n",
    "        # feature scaling\n",
    "        ftest_scaled = None\n",
    "        with tempfile.NamedTemporaryFile(delete=False) as fd: \n",
    "            ftest_scaled = fd.name\n",
    "        result = !$self.bin_dir/svm-scale -r $self.fscale $ftest > $ftest_scaled\n",
    "            \n",
    "        # generate prediction file\n",
    "        fpredict = None\n",
    "        with tempfile.NamedTemporaryFile(delete=False) as fd: \n",
    "            fpredict = fd.name\n",
    "            \n",
    "        if self.debug:\n",
    "            print('test data file:', ftest)\n",
    "            print('feature scaled test data file:', ftest_scaled)\n",
    "            print('predict result file:', fpredict)\n",
    "            \n",
    "        # predict using trained model and write prediction to file\n",
    "        result = !$self.bin_dir/$self.bin_predict $ftest_scaled $self.fmodel $fpredict\n",
    "        if self.debug:\n",
    "            print('Predict result: %-30s  %s' % (result[0], result[1]))\n",
    "        \n",
    "        # generate prediction DataFrame from prediction file\n",
    "        poi_rank_df = pd.read_csv(fpredict, header=None)\n",
    "        poi_rank_df.rename(columns={0:'rank'}, inplace=True)\n",
    "        poi_rank_df['poiID'] = test_df['poiID'].astype(np.int)\n",
    "        poi_rank_df.set_index('poiID', inplace=True) # duplicated 'poiID' when evaluating training data\n",
    "        #poi_rank_df['probability'] = softmax(poi_rank_df['rank'])  # softmax\n",
    "        \n",
    "        # remove test file and prediction file\n",
    "        os.unlink(ftest)\n",
    "        os.unlink(ftest_scaled)\n",
    "        os.unlink(fpredict)\n",
    "        \n",
    "        return poi_rank_df"
   ]
  },
  {
   "cell_type": "markdown",
   "metadata": {},
   "source": [
    "<a id='sec3'></a>"
   ]
  },
  {
   "cell_type": "markdown",
   "metadata": {},
   "source": [
    "# 3. Structured Prediction"
   ]
  },
  {
   "cell_type": "markdown",
   "metadata": {},
   "source": [
    "[PyStruct](https://pystruct.github.io/) assumes that [label `y` is a discrete vector](https://pystruct.github.io/intro.html) and [pystruct.learners assume labels `y` are integers starting with `0`](https://github.com/pystruct/pystruct/issues/114), concretely,\n",
    "- values in label vector $y$ should satisfy $y_i \\in Y$, \n",
    "  where $Y$ is the **index** of a discrete value space, and the index starts at 0.\n",
    "- label vector $y$ will be [transformed to one hot encoding (see function `joint_feature()`)](https://github.com/pystruct/pystruct/blob/master/pystruct/models/graph_crf.py)."
   ]
  },
  {
   "cell_type": "markdown",
   "metadata": {},
   "source": [
    "For example, if labels in training set is `[[1, 2], [0, 4, 9]]`, \n",
    "then it will cause an index out of bounds error as pystruct did something like this,\n",
    "1. construct an discrete value space: \n",
    "   - `set([1, 2] + [0, 4, 9]) -> {0, 1, 2, 4, 9}`\n",
    "   - `size({0, 1, 2, 4, 9}) = 5`\n",
    "1. convert labels using one hot encoding: \n",
    "   - label vector `[1, 2]` will be converted to a matrix of shape $2 \\times 5$,\n",
    "     with cells at `(0, 1), (1, 2)` set to `1` and others set to `0`.\n",
    "   - label vector `[0, 4, 9]` will be converted to a matrix of shape $3 \\times 5$,\n",
    "     with cells at `(0, 0)`, `(1, 4)`, **`(2, 9)` INDEX_OUT_OF_BOUNDS** set to `1` and others set to `0`."
   ]
  },
  {
   "cell_type": "markdown",
   "metadata": {},
   "source": [
    "<a id='sec3.1'></a>"
   ]
  },
  {
   "cell_type": "markdown",
   "metadata": {},
   "source": [
    "## 3.1 Structured Predition using PyStruct"
   ]
  },
  {
   "cell_type": "markdown",
   "metadata": {},
   "source": [
    "We will analyse the process of using structured SVM to training a CRF and make preditions on new instances."
   ]
  },
  {
   "cell_type": "markdown",
   "metadata": {},
   "source": [
    "Recall that the 1-slack formulation (with margin rescaling) of structured SVM is"
   ]
  },
  {
   "cell_type": "markdown",
   "metadata": {},
   "source": [
    "\\begin{align}\n",
    "\\min_{\\mathbf{w}, \\xi \\ge 0} & \\frac{1}{2} \\mathbf{w}^T \\mathbf{w} + C \\xi \\\\\n",
    "s.t. \\forall(\\bar{y}_1, \\dots, \\bar{y}_n) \\in \\mathcal{Y}^n: & \n",
    "\\frac{1}{n} \\mathbf{w}^T \\sum_{i=1}^n \\left( \\Psi(x_i, y_i) - \\Psi(x_i, \\bar{y}_i) \\right) \\ge \n",
    "\\frac{1}{n} \\sum_{i=1}^n \\Delta(y_i, \\bar{y}_i) - \\xi\n",
    "\\end{align}"
   ]
  },
  {
   "cell_type": "markdown",
   "metadata": {},
   "source": [
    "Where \n",
    "- $\\mathbf{w}$ is the parameter vector\n",
    "- $\\Psi(x_i, y_i)$ is the joint feature (vector) related to example $x_i$ and its label $y_i$\n",
    "- The size of $\\mathbf{w}$ is the same as $\\Psi(x_i, y_i)$\n",
    "- $\\Delta(\\centerdot)$ is the loss function, here we use Hamming loss, i.e., per-variable 0-1 loss, as indicated by function [loss()](https://github.com/pystruct/pystruct/blob/master/pystruct/models/base.py) and [fit()](https://github.com/pystruct/pystruct/blob/master/pystruct/learners/one_slack_ssvm.py).\n",
    "- $n$ is the total number of training examples, $C$ is the regularisation parameter, $\\xi$ is the slack variable\n"
   ]
  },
  {
   "cell_type": "markdown",
   "metadata": {},
   "source": [
    "### Basics"
   ]
  },
  {
   "cell_type": "markdown",
   "metadata": {},
   "source": [
    "Before introducing the training and prediction procedure, we define some concepts that will be used later.\n",
    "- `n_states`: #states for all variables, (this is the total number of unique POIs in training set here).\n",
    "- `n_features`: #features per node, (this is the number of POI features, i.e., the ranking probabilities of all POIs).\n",
    "- `n_edges`: #edges in each training/test example, (this is the number of POIs in a trajectory).\n",
    "- `n_edge_features`: #features per edge, (this is the number of features for each transition, \n",
    "   i.e., the out-going transition probabilities to all POIs).\n",
    "- $x$ is made up of three parts: (`node_features`, `edges`, `edge_features`).\n",
    "- `node_features`: `n_nodes` $\\times$ `n_features`\n",
    "- `edge_features`: `n_edges` $\\times$ `n_edge_features`\n",
    "- `edges`: `n_edges` $\\times$ $2$, e.g. for trajectory `[3, 1, 2]` and `[5, 9, 6]`, their `edges` are the same matrix\n",
    "   `[[0, 1], [1, 2]]`."
   ]
  },
  {
   "cell_type": "markdown",
   "metadata": {},
   "source": [
    "For [EdgeFeatureGraphCRF](https://pystruct.github.io/generated/pystruct.models.EdgeFeatureGraphCRF.html), the pairwise potentials are asymmetric and shared over all edges, and the size of \n",
    "- **Parameter vector $\\mathbf{w}$: `n_states` $\\times$ `n_features` $+$ `n_edge_features` $\\times$ `(n_states)`$^2$**\n",
    "- The first part of $\\mathbf{w}$, let's call it **`unary_params`**: `n_states` $\\times$ `n_features`, is the parameters \n",
    "  used to compute unary potentials.\n",
    "- The second part of $\\mathbf{w}$, let's call it **`pairwise_params`**: `n_edge_features` $\\times$ `(n_states)`$^2$, \n",
    "  is the parameters used to compute pairwise potentials. "
   ]
  },
  {
   "cell_type": "markdown",
   "metadata": {},
   "source": [
    "### Training"
   ]
  },
  {
   "cell_type": "markdown",
   "metadata": {},
   "source": [
    "#### Compute the joint feature vector $\\Psi(x, y)$\n",
    "\n",
    "When training a CRF using [OneSlackSSVM](https://pystruct.github.io/generated/pystruct.learners.OneSlackSSVM.html), we need to compute the joint feature vector $\\Psi(x, y)$ for each training example, it is computed \n",
    "(for EdgeFeatureGraphCRF in PyStruct) as follows:"
   ]
  },
  {
   "cell_type": "markdown",
   "metadata": {},
   "source": [
    "**Unary part of $\\Psi(x, y)$**:\n",
    "- make one-hot encoding of $y$, its size: `n_nodes` $\\times$ `n_states`\n",
    "- *value*: $y^T \\times$ `node_features`\n",
    "- *dimension*: `(n_nodes` $\\times$ `n_states)`$^T$ $\\times$ `(n_nodes` $\\times$ `n_features)` \n",
    "  $\\to$ `(n_states` $\\times$ `n_features)`"
   ]
  },
  {
   "cell_type": "markdown",
   "metadata": {},
   "source": [
    "**Pairwise Part of $\\Psi(x, y)$**:\n",
    "- make one-hot encoding of `edges`, its size: `n_edges` $\\times$ `(n_states)`$^2$\n",
    "- *value*: `edge_features` $\\times$ `edges`\n",
    "- *dimension*: `(n_edges` $\\times$ `n_edge_features)`$^T$ $\\times$ `(n_edges` $\\times$ `(n_states)`$^2$"
   ]
  },
  {
   "cell_type": "markdown",
   "metadata": {},
   "source": [
    "Then for each training example, $\\Psi(x_i, y_i)$ = `[unary part, pairwise part]`, solve the above QP problem (1-slack formulation) to get a parameter vector $\\mathbf{w}$."
   ]
  },
  {
   "cell_type": "markdown",
   "metadata": {},
   "source": [
    "### Prediction"
   ]
  },
  {
   "cell_type": "markdown",
   "metadata": {},
   "source": [
    "As a trajectory is chain structured, so we use `max-product` belief propagation (Viterbi algorithm in this case) to do inference in the trained CRF.  \n",
    "To predict the label of a new instance $x$, we need to compute the unary potential and pairwise potential of $x$."
   ]
  },
  {
   "cell_type": "markdown",
   "metadata": {},
   "source": [
    "**Unary potential:** \n",
    "- *value*: `node_features` $\\times$ `(unary_params)`$^T$ (first part of $\\mathbf{w}$)\n",
    "- *dimension*: `(n_nodes` $\\times$ `n_features)` $\\times$ `(n_states` $\\times$ `n_features)`$^T$ $\\to$ \n",
    "  `(n_nodes` $\\times$ `n_states)`"
   ]
  },
  {
   "cell_type": "markdown",
   "metadata": {},
   "source": [
    "**Pairwise potential:**\n",
    "- *value*: `edge_features` $\\times$ `pairwise_params` (second part of $\\mathbf{w}$)\n",
    "- *dimension*: `(n_edges` $\\times$ `n_edge_features)` $\\times$ `(n_edge_features` $\\times$ `n_states`$^2$ `)`, \n",
    "  reshape to `(n_edges` $\\times$ `n_states` $\\times$ `n_states)`"
   ]
  },
  {
   "cell_type": "markdown",
   "metadata": {},
   "source": [
    "With unary potential and pairwise potential computed, as we could know from `edges` that our example $x$ is chain structured, so we do inference using Viterbi algorithm to compute the most likely label of $x$."
   ]
  },
  {
   "cell_type": "markdown",
   "metadata": {},
   "source": [
    "<a id='sec3.2'></a>"
   ]
  },
  {
   "cell_type": "markdown",
   "metadata": {},
   "source": [
    "## 3.2 Node Features -- POI Ranking Probabilities"
   ]
  },
  {
   "cell_type": "markdown",
   "metadata": {},
   "source": [
    "For a trajectory `[start, ..., end]`, the features used to train/test are \n",
    "1. feature for POI `start` is a binary vector of size `total_number_of_POIs`, \n",
    "   with `1` at the location corresponds to POI `start` and `0` anywhere else, e.g. one hot encoding.\n",
    "1. feature for POI `end` is simliar, with `1` at the location corresponds to POI `end`.\n",
    "1. features for other POIs in the trajectory are the ranking probabilities \n",
    "   (produced by rankSVM, transformed by softmax) of all POIs,\n",
    "   i.e. features of different POIs in the middle (i.e. not the `start` or `end`) are the same."
   ]
  },
  {
   "cell_type": "markdown",
   "metadata": {},
   "source": [
    "Need to build a mapping for POIs: *POI_ID $\\to$ POI_INDEX* with POIs in trajectories in training set, also a map of the reverse direction."
   ]
  },
  {
   "cell_type": "markdown",
   "metadata": {},
   "source": [
    "<a id='sec3.3'></a>"
   ]
  },
  {
   "cell_type": "markdown",
   "metadata": {},
   "source": [
    "## 3.3 Edge Features -- Factorised Transition Probabilities between POIs"
   ]
  },
  {
   "cell_type": "markdown",
   "metadata": {},
   "source": [
    "Estimate a transition matrix for each feature of POI, transition probabilities (matrix) between different POI features (vector) is obtrained by the Kronecker product of the individual transition matrix corresponding to each feature."
   ]
  },
  {
   "cell_type": "markdown",
   "metadata": {},
   "source": [
    "### 3.3.1 POI Features for Factorisation"
   ]
  },
  {
   "cell_type": "markdown",
   "metadata": {},
   "source": [
    "POI features used to factorise transition matrix of Markov Chain with POI features (vector) as states:\n",
    "- Category of POI\n",
    "- Popularity of POI (discritize with uniform log-scale bins, #bins <=5 )\n",
    "- The number of POI visits (discritize with uniform log-scale bins, #bins <=5 )\n",
    "- The average visit duration of POI (discritise with uniform log-scale bins, #bins <= 5)\n",
    "- The neighborhood relationship between POIs (clustering POI(lat, lon) using k-means, #clusters <= 5)"
   ]
  },
  {
   "cell_type": "markdown",
   "metadata": {},
   "source": [
    "We count the number of transition first, then normalise each row while taking care of zero by adding each cell a number $k=1$."
   ]
  },
  {
   "cell_type": "code",
   "execution_count": 43,
   "metadata": {
    "collapsed": true
   },
   "outputs": [],
   "source": [
    "def normalise_transmat(transmat_cnt):\n",
    "    transmat = transmat_cnt.copy()\n",
    "    assert(isinstance(transmat, pd.DataFrame))\n",
    "    for row in range(transmat.index.shape[0]):\n",
    "        rowsum = np.sum(transmat.iloc[row] + 1)\n",
    "        assert(rowsum > 0)\n",
    "        transmat.iloc[row] = (transmat.iloc[row] + 1) / rowsum\n",
    "    return transmat"
   ]
  },
  {
   "cell_type": "markdown",
   "metadata": {},
   "source": [
    "POIs in training set."
   ]
  },
  {
   "cell_type": "code",
   "execution_count": 44,
   "metadata": {
    "collapsed": true
   },
   "outputs": [],
   "source": [
    "poi_train = sorted(poi_info_all.index)"
   ]
  },
  {
   "cell_type": "markdown",
   "metadata": {},
   "source": [
    "### 3.3.2 Transition Matrix between POI Cateogries"
   ]
  },
  {
   "cell_type": "code",
   "execution_count": 45,
   "metadata": {
    "collapsed": false
   },
   "outputs": [
    {
     "data": {
      "text/plain": [
       "['Education',\n",
       " 'Museum',\n",
       " 'Park',\n",
       " 'Religion',\n",
       " 'Shopping',\n",
       " 'Structure',\n",
       " 'Transport']"
      ]
     },
     "execution_count": 45,
     "metadata": {},
     "output_type": "execute_result"
    }
   ],
   "source": [
    "poi_cats = poi_all.loc[poi_train, 'poiCat'].unique().tolist()\n",
    "poi_cats.sort()\n",
    "poi_cats"
   ]
  },
  {
   "cell_type": "code",
   "execution_count": 46,
   "metadata": {
    "collapsed": true
   },
   "outputs": [],
   "source": [
    "def gen_transmat_cat(trajid_list, traj_dict, poi_info, poi_cats=poi_cats):\n",
    "    transmat_cat_cnt = pd.DataFrame(data=np.zeros((len(poi_cats), len(poi_cats)), dtype=np.float), \\\n",
    "                                    columns=poi_cats, index=poi_cats)\n",
    "    for tid in trajid_list:\n",
    "        t = traj_dict[tid]\n",
    "        if len(t) > 1:\n",
    "            for pi in range(len(t)-1):\n",
    "                p1 = t[pi]\n",
    "                p2 = t[pi+1]\n",
    "                assert(p1 in poi_info.index and p2 in poi_info.index)\n",
    "                cat1 = poi_info.loc[p1, 'poiCat']\n",
    "                cat2 = poi_info.loc[p2, 'poiCat']\n",
    "                transmat_cat_cnt.loc[cat1, cat2] += 1\n",
    "    return normalise_transmat(transmat_cat_cnt)"
   ]
  },
  {
   "cell_type": "code",
   "execution_count": 47,
   "metadata": {
    "collapsed": false
   },
   "outputs": [
    {
     "data": {
      "text/html": [
       "<div>\n",
       "<table border=\"1\" class=\"dataframe\">\n",
       "  <thead>\n",
       "    <tr style=\"text-align: right;\">\n",
       "      <th></th>\n",
       "      <th>Education</th>\n",
       "      <th>Museum</th>\n",
       "      <th>Park</th>\n",
       "      <th>Religion</th>\n",
       "      <th>Shopping</th>\n",
       "      <th>Structure</th>\n",
       "      <th>Transport</th>\n",
       "    </tr>\n",
       "  </thead>\n",
       "  <tbody>\n",
       "    <tr>\n",
       "      <th>Education</th>\n",
       "      <td>0.285714</td>\n",
       "      <td>0.178571</td>\n",
       "      <td>0.008929</td>\n",
       "      <td>0.062500</td>\n",
       "      <td>0.178571</td>\n",
       "      <td>0.178571</td>\n",
       "      <td>0.107143</td>\n",
       "    </tr>\n",
       "    <tr>\n",
       "      <th>Museum</th>\n",
       "      <td>0.097561</td>\n",
       "      <td>0.227642</td>\n",
       "      <td>0.024390</td>\n",
       "      <td>0.040650</td>\n",
       "      <td>0.195122</td>\n",
       "      <td>0.162602</td>\n",
       "      <td>0.252033</td>\n",
       "    </tr>\n",
       "    <tr>\n",
       "      <th>Park</th>\n",
       "      <td>0.100000</td>\n",
       "      <td>0.200000</td>\n",
       "      <td>0.100000</td>\n",
       "      <td>0.100000</td>\n",
       "      <td>0.100000</td>\n",
       "      <td>0.200000</td>\n",
       "      <td>0.200000</td>\n",
       "    </tr>\n",
       "    <tr>\n",
       "      <th>Religion</th>\n",
       "      <td>0.151515</td>\n",
       "      <td>0.121212</td>\n",
       "      <td>0.060606</td>\n",
       "      <td>0.090909</td>\n",
       "      <td>0.060606</td>\n",
       "      <td>0.303030</td>\n",
       "      <td>0.212121</td>\n",
       "    </tr>\n",
       "    <tr>\n",
       "      <th>Shopping</th>\n",
       "      <td>0.254902</td>\n",
       "      <td>0.235294</td>\n",
       "      <td>0.019608</td>\n",
       "      <td>0.049020</td>\n",
       "      <td>0.019608</td>\n",
       "      <td>0.127451</td>\n",
       "      <td>0.294118</td>\n",
       "    </tr>\n",
       "    <tr>\n",
       "      <th>Structure</th>\n",
       "      <td>0.296296</td>\n",
       "      <td>0.098765</td>\n",
       "      <td>0.012346</td>\n",
       "      <td>0.037037</td>\n",
       "      <td>0.086420</td>\n",
       "      <td>0.222222</td>\n",
       "      <td>0.246914</td>\n",
       "    </tr>\n",
       "    <tr>\n",
       "      <th>Transport</th>\n",
       "      <td>0.137615</td>\n",
       "      <td>0.357798</td>\n",
       "      <td>0.009174</td>\n",
       "      <td>0.073394</td>\n",
       "      <td>0.238532</td>\n",
       "      <td>0.128440</td>\n",
       "      <td>0.055046</td>\n",
       "    </tr>\n",
       "  </tbody>\n",
       "</table>\n",
       "</div>"
      ],
      "text/plain": [
       "           Education    Museum      Park  Religion  Shopping  Structure  \\\n",
       "Education   0.285714  0.178571  0.008929  0.062500  0.178571   0.178571   \n",
       "Museum      0.097561  0.227642  0.024390  0.040650  0.195122   0.162602   \n",
       "Park        0.100000  0.200000  0.100000  0.100000  0.100000   0.200000   \n",
       "Religion    0.151515  0.121212  0.060606  0.090909  0.060606   0.303030   \n",
       "Shopping    0.254902  0.235294  0.019608  0.049020  0.019608   0.127451   \n",
       "Structure   0.296296  0.098765  0.012346  0.037037  0.086420   0.222222   \n",
       "Transport   0.137615  0.357798  0.009174  0.073394  0.238532   0.128440   \n",
       "\n",
       "           Transport  \n",
       "Education   0.107143  \n",
       "Museum      0.252033  \n",
       "Park        0.200000  \n",
       "Religion    0.212121  \n",
       "Shopping    0.294118  \n",
       "Structure   0.246914  \n",
       "Transport   0.055046  "
      ]
     },
     "execution_count": 47,
     "metadata": {},
     "output_type": "execute_result"
    }
   ],
   "source": [
    "gen_transmat_cat(trajid_set_all, traj_dict, poi_info_all)"
   ]
  },
  {
   "cell_type": "markdown",
   "metadata": {},
   "source": [
    "### 3.3.3 Transition Matrix between POI Popularity Classes"
   ]
  },
  {
   "cell_type": "code",
   "execution_count": 48,
   "metadata": {
    "collapsed": false
   },
   "outputs": [],
   "source": [
    "poi_pops = poi_info_all.loc[poi_train, 'popularity']\n",
    "#sorted(poi_pops.unique().tolist())"
   ]
  },
  {
   "cell_type": "markdown",
   "metadata": {},
   "source": [
    "Discretize POI popularity with uniform log-scale bins."
   ]
  },
  {
   "cell_type": "code",
   "execution_count": 49,
   "metadata": {
    "collapsed": false
   },
   "outputs": [
    {
     "name": "stdout",
     "output_type": "stream",
     "text": [
      "0.0 2.25767857487\n"
     ]
    }
   ],
   "source": [
    "expo_pop1 = np.log10(max(1, min(poi_pops)))\n",
    "expo_pop2 = np.log10(max(poi_pops))\n",
    "print(expo_pop1, expo_pop2)"
   ]
  },
  {
   "cell_type": "code",
   "execution_count": 50,
   "metadata": {
    "collapsed": false
   },
   "outputs": [
    {
     "data": {
      "text/plain": [
       "array([    0.        ,     3.98107171,    15.84893192,    63.09573445,\n",
       "         251.18864315,  1000.        ])"
      ]
     },
     "execution_count": 50,
     "metadata": {},
     "output_type": "execute_result"
    }
   ],
   "source": [
    "nbins_pop = BIN_CLUSTER\n",
    "logbins_pop = np.logspace(np.floor(expo_pop1), np.ceil(expo_pop2), nbins_pop+1)\n",
    "logbins_pop[0] = 0  # deal with underflow\n",
    "if uspecific == True:\n",
    "    logbins_pop[-1] = KX * logbins_pop[-1]  # deal with overflow\n",
    "if logbins_pop[-1] < poi_info_all['popularity'].max():\n",
    "    logbins_pop[-1] = poi_info_all['popularity'].max() + 1\n",
    "logbins_pop"
   ]
  },
  {
   "cell_type": "code",
   "execution_count": 51,
   "metadata": {
    "collapsed": false
   },
   "outputs": [
    {
     "data": {
      "image/png": "[encoded data removed]",
      "text/plain": [
       "<matplotlib.figure.Figure at 0x7f96340c14e0>"
      ]
     },
     "metadata": {},
     "output_type": "display_data"
    }
   ],
   "source": [
    "ax = pd.Series(poi_pops).hist(figsize=(5, 3), bins=logbins_pop)\n",
    "ax.set_xlim(xmin=0.1)\n",
    "ax.set_xscale('log')"
   ]
  },
  {
   "cell_type": "code",
   "execution_count": 52,
   "metadata": {
    "collapsed": true
   },
   "outputs": [],
   "source": [
    "def gen_transmat_pop(trajid_list, traj_dict, poi_info, logbins_pop=logbins_pop):\n",
    "    nbins = len(logbins_pop) - 1\n",
    "    transmat_pop_cnt = pd.DataFrame(data=np.zeros((nbins, nbins), dtype=np.float), \\\n",
    "                                    columns=np.arange(1, nbins+1), index=np.arange(1, nbins+1))\n",
    "    for tid in trajid_list:\n",
    "        t = traj_dict[tid]\n",
    "        if len(t) > 1:\n",
    "            for pi in range(len(t)-1):\n",
    "                p1 = t[pi]\n",
    "                p2 = t[pi+1]\n",
    "                assert(p1 in poi_info.index and p2 in poi_info.index)\n",
    "                pop1 = poi_info.loc[p1, 'popularity']\n",
    "                pop2 = poi_info.loc[p2, 'popularity']\n",
    "                pc1, pc2 = np.digitize([pop1, pop2], logbins_pop)\n",
    "                transmat_pop_cnt.loc[pc1, pc2] += 1\n",
    "    return normalise_transmat(transmat_pop_cnt), logbins_pop"
   ]
  },
  {
   "cell_type": "code",
   "execution_count": 53,
   "metadata": {
    "collapsed": false
   },
   "outputs": [
    {
     "data": {
      "text/html": [
       "<div>\n",
       "<table border=\"1\" class=\"dataframe\">\n",
       "  <thead>\n",
       "    <tr style=\"text-align: right;\">\n",
       "      <th></th>\n",
       "      <th>1</th>\n",
       "      <th>2</th>\n",
       "      <th>3</th>\n",
       "      <th>4</th>\n",
       "      <th>5</th>\n",
       "    </tr>\n",
       "  </thead>\n",
       "  <tbody>\n",
       "    <tr>\n",
       "      <th>1</th>\n",
       "      <td>0.200000</td>\n",
       "      <td>0.200000</td>\n",
       "      <td>0.200000</td>\n",
       "      <td>0.200000</td>\n",
       "      <td>0.200000</td>\n",
       "    </tr>\n",
       "    <tr>\n",
       "      <th>2</th>\n",
       "      <td>0.055556</td>\n",
       "      <td>0.333333</td>\n",
       "      <td>0.055556</td>\n",
       "      <td>0.500000</td>\n",
       "      <td>0.055556</td>\n",
       "    </tr>\n",
       "    <tr>\n",
       "      <th>3</th>\n",
       "      <td>0.014925</td>\n",
       "      <td>0.029851</td>\n",
       "      <td>0.089552</td>\n",
       "      <td>0.850746</td>\n",
       "      <td>0.014925</td>\n",
       "    </tr>\n",
       "    <tr>\n",
       "      <th>4</th>\n",
       "      <td>0.002217</td>\n",
       "      <td>0.019956</td>\n",
       "      <td>0.119734</td>\n",
       "      <td>0.855876</td>\n",
       "      <td>0.002217</td>\n",
       "    </tr>\n",
       "    <tr>\n",
       "      <th>5</th>\n",
       "      <td>0.200000</td>\n",
       "      <td>0.200000</td>\n",
       "      <td>0.200000</td>\n",
       "      <td>0.200000</td>\n",
       "      <td>0.200000</td>\n",
       "    </tr>\n",
       "  </tbody>\n",
       "</table>\n",
       "</div>"
      ],
      "text/plain": [
       "          1         2         3         4         5\n",
       "1  0.200000  0.200000  0.200000  0.200000  0.200000\n",
       "2  0.055556  0.333333  0.055556  0.500000  0.055556\n",
       "3  0.014925  0.029851  0.089552  0.850746  0.014925\n",
       "4  0.002217  0.019956  0.119734  0.855876  0.002217\n",
       "5  0.200000  0.200000  0.200000  0.200000  0.200000"
      ]
     },
     "execution_count": 53,
     "metadata": {},
     "output_type": "execute_result"
    }
   ],
   "source": [
    "gen_transmat_pop(trajid_set_all, traj_dict, poi_info_all)[0]"
   ]
  },
  {
   "cell_type": "markdown",
   "metadata": {},
   "source": [
    "### 3.3.4 Transition Matrix between the Number of POI Visit Classes"
   ]
  },
  {
   "cell_type": "code",
   "execution_count": 54,
   "metadata": {
    "collapsed": false
   },
   "outputs": [],
   "source": [
    "poi_visits = poi_info_all.loc[poi_train, 'nVisit']\n",
    "#sorted(poi_visits.unique().tolist())"
   ]
  },
  {
   "cell_type": "markdown",
   "metadata": {},
   "source": [
    "Discretize the number of POI visit with uniform log-scale bins."
   ]
  },
  {
   "cell_type": "code",
   "execution_count": 55,
   "metadata": {
    "collapsed": false
   },
   "outputs": [
    {
     "name": "stdout",
     "output_type": "stream",
     "text": [
      "0.0 2.44560420327\n"
     ]
    }
   ],
   "source": [
    "expo_visit1 = np.log10(max(1, min(poi_visits)))\n",
    "expo_visit2 = np.log10(max(poi_visits))\n",
    "print(expo_visit1, expo_visit2)"
   ]
  },
  {
   "cell_type": "code",
   "execution_count": 56,
   "metadata": {
    "collapsed": false
   },
   "outputs": [
    {
     "data": {
      "text/plain": [
       "array([    0.        ,     3.98107171,    15.84893192,    63.09573445,\n",
       "         251.18864315,  1000.        ])"
      ]
     },
     "execution_count": 56,
     "metadata": {},
     "output_type": "execute_result"
    }
   ],
   "source": [
    "nbins_visit = BIN_CLUSTER\n",
    "logbins_visit = np.logspace(np.floor(expo_visit1), np.ceil(expo_visit2), nbins_visit+1)\n",
    "logbins_visit[0] = 0  # deal with underflow\n",
    "if uspecific == True:\n",
    "    logbins_visit[-1] = KX * logbins_visit[-1]  # deal with overflow\n",
    "if logbins_visit[-1] < poi_info_all['nVisit'].max():\n",
    "    logbins_visit[-1] = poi_info_all['nVisit'].max() + 1\n",
    "logbins_visit"
   ]
  },
  {
   "cell_type": "code",
   "execution_count": 57,
   "metadata": {
    "collapsed": false
   },
   "outputs": [
    {
     "data": {
      "image/png": "[encoded data removed]",
      "text/plain": [
       "<matplotlib.figure.Figure at 0x7f96342807f0>"
      ]
     },
     "metadata": {},
     "output_type": "display_data"
    }
   ],
   "source": [
    "ax = pd.Series(poi_visits).hist(figsize=(5, 3), bins=logbins_visit)\n",
    "ax.set_xlim(xmin=0.1)\n",
    "ax.set_xscale('log')"
   ]
  },
  {
   "cell_type": "code",
   "execution_count": 58,
   "metadata": {
    "collapsed": true
   },
   "outputs": [],
   "source": [
    "def gen_transmat_visit(trajid_list, traj_dict, poi_info, logbins_visit=logbins_visit):\n",
    "    nbins = len(logbins_visit) - 1\n",
    "    transmat_visit_cnt = pd.DataFrame(data=np.zeros((nbins, nbins), dtype=np.float), \\\n",
    "                                      columns=np.arange(1, nbins+1), index=np.arange(1, nbins+1))\n",
    "    for tid in trajid_list:\n",
    "        t = traj_dict[tid]\n",
    "        if len(t) > 1:\n",
    "            for pi in range(len(t)-1):\n",
    "                p1 = t[pi]\n",
    "                p2 = t[pi+1]\n",
    "                assert(p1 in poi_info.index and p2 in poi_info.index)\n",
    "                visit1 = poi_info.loc[p1, 'nVisit']\n",
    "                visit2 = poi_info.loc[p2, 'nVisit']\n",
    "                vc1, vc2 = np.digitize([visit1, visit2], logbins_visit)\n",
    "                transmat_visit_cnt.loc[vc1, vc2] += 1\n",
    "    return normalise_transmat(transmat_visit_cnt), logbins_visit"
   ]
  },
  {
   "cell_type": "code",
   "execution_count": 59,
   "metadata": {
    "collapsed": false
   },
   "outputs": [
    {
     "data": {
      "text/html": [
       "<div>\n",
       "<table border=\"1\" class=\"dataframe\">\n",
       "  <thead>\n",
       "    <tr style=\"text-align: right;\">\n",
       "      <th></th>\n",
       "      <th>1</th>\n",
       "      <th>2</th>\n",
       "      <th>3</th>\n",
       "      <th>4</th>\n",
       "      <th>5</th>\n",
       "    </tr>\n",
       "  </thead>\n",
       "  <tbody>\n",
       "    <tr>\n",
       "      <th>1</th>\n",
       "      <td>0.200000</td>\n",
       "      <td>0.200000</td>\n",
       "      <td>0.200000</td>\n",
       "      <td>0.200000</td>\n",
       "      <td>0.200000</td>\n",
       "    </tr>\n",
       "    <tr>\n",
       "      <th>2</th>\n",
       "      <td>0.066667</td>\n",
       "      <td>0.066667</td>\n",
       "      <td>0.266667</td>\n",
       "      <td>0.533333</td>\n",
       "      <td>0.066667</td>\n",
       "    </tr>\n",
       "    <tr>\n",
       "      <th>3</th>\n",
       "      <td>0.025641</td>\n",
       "      <td>0.076923</td>\n",
       "      <td>0.076923</td>\n",
       "      <td>0.743590</td>\n",
       "      <td>0.076923</td>\n",
       "    </tr>\n",
       "    <tr>\n",
       "      <th>4</th>\n",
       "      <td>0.002387</td>\n",
       "      <td>0.011933</td>\n",
       "      <td>0.085919</td>\n",
       "      <td>0.744630</td>\n",
       "      <td>0.155131</td>\n",
       "    </tr>\n",
       "    <tr>\n",
       "      <th>5</th>\n",
       "      <td>0.014706</td>\n",
       "      <td>0.014706</td>\n",
       "      <td>0.029412</td>\n",
       "      <td>0.926471</td>\n",
       "      <td>0.014706</td>\n",
       "    </tr>\n",
       "  </tbody>\n",
       "</table>\n",
       "</div>"
      ],
      "text/plain": [
       "          1         2         3         4         5\n",
       "1  0.200000  0.200000  0.200000  0.200000  0.200000\n",
       "2  0.066667  0.066667  0.266667  0.533333  0.066667\n",
       "3  0.025641  0.076923  0.076923  0.743590  0.076923\n",
       "4  0.002387  0.011933  0.085919  0.744630  0.155131\n",
       "5  0.014706  0.014706  0.029412  0.926471  0.014706"
      ]
     },
     "execution_count": 59,
     "metadata": {},
     "output_type": "execute_result"
    }
   ],
   "source": [
    "gen_transmat_visit(trajid_set_all, traj_dict, poi_info_all)[0]"
   ]
  },
  {
   "cell_type": "markdown",
   "metadata": {},
   "source": [
    "### 3.3.5 Transition Matrix between POI Average Visit Duration Classes"
   ]
  },
  {
   "cell_type": "code",
   "execution_count": 60,
   "metadata": {
    "collapsed": false
   },
   "outputs": [],
   "source": [
    "poi_durations = poi_info_all.loc[poi_train, 'avgDuration']\n",
    "#sorted(poi_durations.unique().tolist())"
   ]
  },
  {
   "cell_type": "code",
   "execution_count": 61,
   "metadata": {
    "collapsed": false
   },
   "outputs": [
    {
     "name": "stdout",
     "output_type": "stream",
     "text": [
      "0.0 3.44236216438\n"
     ]
    }
   ],
   "source": [
    "expo_duration1 = np.log10(max(1, min(poi_durations)))\n",
    "expo_duration2 = np.log10(max(poi_durations))\n",
    "print(expo_duration1, expo_duration2)"
   ]
  },
  {
   "cell_type": "code",
   "execution_count": 62,
   "metadata": {
    "collapsed": false
   },
   "outputs": [
    {
     "data": {
      "text/plain": [
       "array([  0.00000000e+00,   6.30957344e+00,   3.98107171e+01,\n",
       "         2.51188643e+02,   1.58489319e+03,   2.76925000e+05])"
      ]
     },
     "execution_count": 62,
     "metadata": {},
     "output_type": "execute_result"
    }
   ],
   "source": [
    "nbins_duration = BIN_CLUSTER\n",
    "logbins_duration = np.logspace(np.floor(expo_duration1), np.ceil(expo_duration2), nbins_duration+1)\n",
    "logbins_duration[0] = 0  # deal with underflow\n",
    "if uspecific == True:\n",
    "    logbins_duration[-1] = KX * logbins_duration[-1]  # deal with overflow\n",
    "else:\n",
    "    logbins_duration[-1] = np.power(10, expo_duration2+2)\n",
    "logbins_duration"
   ]
  },
  {
   "cell_type": "code",
   "execution_count": 63,
   "metadata": {
    "collapsed": false
   },
   "outputs": [
    {
     "data": {
      "image/png": "[encoded data removed]",
      "text/plain": [
       "<matplotlib.figure.Figure at 0x7f9634039c18>"
      ]
     },
     "metadata": {},
     "output_type": "display_data"
    }
   ],
   "source": [
    "ax = pd.Series(poi_durations).hist(figsize=(5, 3), bins=logbins_duration)\n",
    "ax.set_xlim(xmin=0.1)\n",
    "ax.set_xscale('log')"
   ]
  },
  {
   "cell_type": "code",
   "execution_count": 64,
   "metadata": {
    "collapsed": true
   },
   "outputs": [],
   "source": [
    "def gen_transmat_duration(trajid_list, traj_dict, poi_info, logbins_duration=logbins_duration):\n",
    "    nbins = len(logbins_duration) - 1\n",
    "    transmat_duration_cnt = pd.DataFrame(data=np.zeros((nbins, nbins), dtype=np.float), \\\n",
    "                                         columns=np.arange(1, nbins+1), index=np.arange(1, nbins+1))\n",
    "    for tid in trajid_list:\n",
    "        t = traj_dict[tid]\n",
    "        if len(t) > 1:\n",
    "            for pi in range(len(t)-1):\n",
    "                p1 = t[pi]\n",
    "                p2 = t[pi+1]\n",
    "                assert(p1 in poi_info.index and p2 in poi_info.index)\n",
    "                d1 = poi_info.loc[p1, 'avgDuration']\n",
    "                d2 = poi_info.loc[p2, 'avgDuration']\n",
    "                dc1, dc2 = np.digitize([d1, d2], logbins_duration)\n",
    "                transmat_duration_cnt.loc[dc1, dc2] += 1\n",
    "    return normalise_transmat(transmat_duration_cnt), logbins_duration"
   ]
  },
  {
   "cell_type": "code",
   "execution_count": 65,
   "metadata": {
    "collapsed": false
   },
   "outputs": [
    {
     "data": {
      "text/html": [
       "<div>\n",
       "<table border=\"1\" class=\"dataframe\">\n",
       "  <thead>\n",
       "    <tr style=\"text-align: right;\">\n",
       "      <th></th>\n",
       "      <th>1</th>\n",
       "      <th>2</th>\n",
       "      <th>3</th>\n",
       "      <th>4</th>\n",
       "      <th>5</th>\n",
       "    </tr>\n",
       "  </thead>\n",
       "  <tbody>\n",
       "    <tr>\n",
       "      <th>1</th>\n",
       "      <td>0.200000</td>\n",
       "      <td>0.200000</td>\n",
       "      <td>0.200000</td>\n",
       "      <td>0.200000</td>\n",
       "      <td>0.200000</td>\n",
       "    </tr>\n",
       "    <tr>\n",
       "      <th>2</th>\n",
       "      <td>0.200000</td>\n",
       "      <td>0.200000</td>\n",
       "      <td>0.200000</td>\n",
       "      <td>0.200000</td>\n",
       "      <td>0.200000</td>\n",
       "    </tr>\n",
       "    <tr>\n",
       "      <th>3</th>\n",
       "      <td>0.200000</td>\n",
       "      <td>0.200000</td>\n",
       "      <td>0.200000</td>\n",
       "      <td>0.200000</td>\n",
       "      <td>0.200000</td>\n",
       "    </tr>\n",
       "    <tr>\n",
       "      <th>4</th>\n",
       "      <td>0.002591</td>\n",
       "      <td>0.002591</td>\n",
       "      <td>0.002591</td>\n",
       "      <td>0.735751</td>\n",
       "      <td>0.256477</td>\n",
       "    </tr>\n",
       "    <tr>\n",
       "      <th>5</th>\n",
       "      <td>0.006897</td>\n",
       "      <td>0.006897</td>\n",
       "      <td>0.006897</td>\n",
       "      <td>0.710345</td>\n",
       "      <td>0.268966</td>\n",
       "    </tr>\n",
       "  </tbody>\n",
       "</table>\n",
       "</div>"
      ],
      "text/plain": [
       "          1         2         3         4         5\n",
       "1  0.200000  0.200000  0.200000  0.200000  0.200000\n",
       "2  0.200000  0.200000  0.200000  0.200000  0.200000\n",
       "3  0.200000  0.200000  0.200000  0.200000  0.200000\n",
       "4  0.002591  0.002591  0.002591  0.735751  0.256477\n",
       "5  0.006897  0.006897  0.006897  0.710345  0.268966"
      ]
     },
     "execution_count": 65,
     "metadata": {},
     "output_type": "execute_result"
    }
   ],
   "source": [
    "gen_transmat_duration(trajid_set_all, traj_dict, poi_info_all)[0]"
   ]
  },
  {
   "cell_type": "markdown",
   "metadata": {},
   "source": [
    "### 3.3.6 Transition Matrix between POI Neighborhood Classes"
   ]
  },
  {
   "cell_type": "markdown",
   "metadata": {},
   "source": [
    "KMeans in scikit-learn seems unable to use custom distance metric and no implementation of [Haversine formula](http://en.wikipedia.org/wiki/Great-circle_distance), use Euclidean distance to approximate."
   ]
  },
  {
   "cell_type": "code",
   "execution_count": 66,
   "metadata": {
    "collapsed": false
   },
   "outputs": [],
   "source": [
    "X = poi_all.loc[poi_train, ['poiLon', 'poiLat']]\n",
    "nclusters = BIN_CLUSTER"
   ]
  },
  {
   "cell_type": "code",
   "execution_count": 67,
   "metadata": {
    "collapsed": false
   },
   "outputs": [
    {
     "data": {
      "text/plain": [
       "KMeans(copy_x=True, init='k-means++', max_iter=300, n_clusters=5, n_init=10,\n",
       "    n_jobs=1, precompute_distances='auto', random_state=None, tol=0.0001,\n",
       "    verbose=0)"
      ]
     },
     "execution_count": 67,
     "metadata": {},
     "output_type": "execute_result"
    }
   ],
   "source": [
    "kmeans = KMeans(n_clusters=nclusters)\n",
    "kmeans.fit(X)"
   ]
  },
  {
   "cell_type": "code",
   "execution_count": 68,
   "metadata": {
    "collapsed": false
   },
   "outputs": [],
   "source": [
    "clusters = kmeans.predict(X)\n",
    "#clusters\n",
    "POI_CLUSTERS = pd.DataFrame(data=clusters, index=poi_train)\n",
    "POI_CLUSTERS.index.name = 'poiID'\n",
    "POI_CLUSTERS.rename(columns={0:'clusterID'}, inplace=True)\n",
    "POI_CLUSTERS['clusterID'] = POI_CLUSTERS['clusterID'].astype(np.int)\n",
    "#POI_CLUSTERS"
   ]
  },
  {
   "cell_type": "markdown",
   "metadata": {},
   "source": [
    "Scatter plot of POI coordinates with clustering results."
   ]
  },
  {
   "cell_type": "code",
   "execution_count": 69,
   "metadata": {
    "collapsed": false
   },
   "outputs": [
    {
     "data": {
      "text/plain": [
       "<matplotlib.collections.PathCollection at 0x7f9634091cc0>"
      ]
     },
     "execution_count": 69,
     "metadata": {},
     "output_type": "execute_result"
    },
    {
     "data": {
      "image/png": "[encoded data removed]",
      "text/plain": [
       "<matplotlib.figure.Figure at 0x7f96342f5748>"
      ]
     },
     "metadata": {},
     "output_type": "display_data"
    }
   ],
   "source": [
    "diff = poi_all.loc[poi_train, ['poiLon', 'poiLat']].max() - poi_all.loc[poi_train, ['poiLon', 'poiLat']].min()\n",
    "ratio = diff['poiLon'] / diff['poiLat']\n",
    "#ratio\n",
    "height = 6; width = int(round(ratio)*height)\n",
    "plt.figure(figsize=[width, height])\n",
    "plt.scatter(poi_all.loc[poi_train, 'poiLon'], poi_all.loc[poi_train, 'poiLat'], c=clusters, s=50)"
   ]
  },
  {
   "cell_type": "code",
   "execution_count": 70,
   "metadata": {
    "collapsed": true
   },
   "outputs": [],
   "source": [
    "def gen_transmat_neighbor(trajid_list, traj_dict, poi_info, poi_clusters=POI_CLUSTERS):\n",
    "    nclusters = len(poi_clusters['clusterID'].unique())\n",
    "    transmat_neighbor_cnt = pd.DataFrame(data=np.zeros((nclusters, nclusters), dtype=np.float), \\\n",
    "                                         columns=np.arange(nclusters), index=np.arange(nclusters))\n",
    "    for tid in trajid_list:\n",
    "        t = traj_dict[tid]\n",
    "        if len(t) > 1:\n",
    "            for pi in range(len(t)-1):\n",
    "                p1 = t[pi]\n",
    "                p2 = t[pi+1]\n",
    "                assert(p1 in poi_info.index and p2 in poi_info.index)\n",
    "                c1 = poi_clusters.loc[p1, 'clusterID']\n",
    "                c2 = poi_clusters.loc[p2, 'clusterID']\n",
    "                transmat_neighbor_cnt.loc[c1, c2] += 1\n",
    "    return normalise_transmat(transmat_neighbor_cnt), poi_clusters"
   ]
  },
  {
   "cell_type": "code",
   "execution_count": 71,
   "metadata": {
    "collapsed": false
   },
   "outputs": [
    {
     "data": {
      "text/html": [
       "<div>\n",
       "<table border=\"1\" class=\"dataframe\">\n",
       "  <thead>\n",
       "    <tr style=\"text-align: right;\">\n",
       "      <th></th>\n",
       "      <th>0</th>\n",
       "      <th>1</th>\n",
       "      <th>2</th>\n",
       "      <th>3</th>\n",
       "      <th>4</th>\n",
       "    </tr>\n",
       "  </thead>\n",
       "  <tbody>\n",
       "    <tr>\n",
       "      <th>0</th>\n",
       "      <td>0.673469</td>\n",
       "      <td>0.006803</td>\n",
       "      <td>0.251701</td>\n",
       "      <td>0.034014</td>\n",
       "      <td>0.034014</td>\n",
       "    </tr>\n",
       "    <tr>\n",
       "      <th>1</th>\n",
       "      <td>0.200000</td>\n",
       "      <td>0.200000</td>\n",
       "      <td>0.200000</td>\n",
       "      <td>0.200000</td>\n",
       "      <td>0.200000</td>\n",
       "    </tr>\n",
       "    <tr>\n",
       "      <th>2</th>\n",
       "      <td>0.084302</td>\n",
       "      <td>0.002907</td>\n",
       "      <td>0.848837</td>\n",
       "      <td>0.005814</td>\n",
       "      <td>0.058140</td>\n",
       "    </tr>\n",
       "    <tr>\n",
       "      <th>3</th>\n",
       "      <td>0.285714</td>\n",
       "      <td>0.071429</td>\n",
       "      <td>0.142857</td>\n",
       "      <td>0.428571</td>\n",
       "      <td>0.071429</td>\n",
       "    </tr>\n",
       "    <tr>\n",
       "      <th>4</th>\n",
       "      <td>0.138889</td>\n",
       "      <td>0.027778</td>\n",
       "      <td>0.638889</td>\n",
       "      <td>0.027778</td>\n",
       "      <td>0.166667</td>\n",
       "    </tr>\n",
       "  </tbody>\n",
       "</table>\n",
       "</div>"
      ],
      "text/plain": [
       "          0         1         2         3         4\n",
       "0  0.673469  0.006803  0.251701  0.034014  0.034014\n",
       "1  0.200000  0.200000  0.200000  0.200000  0.200000\n",
       "2  0.084302  0.002907  0.848837  0.005814  0.058140\n",
       "3  0.285714  0.071429  0.142857  0.428571  0.071429\n",
       "4  0.138889  0.027778  0.638889  0.027778  0.166667"
      ]
     },
     "execution_count": 71,
     "metadata": {},
     "output_type": "execute_result"
    }
   ],
   "source": [
    "gen_transmat_neighbor(trajid_set_all, traj_dict, poi_info_all)[0]"
   ]
  },
  {
   "cell_type": "markdown",
   "metadata": {},
   "source": [
    "### 3.3.7 Transition Matrix between POIs"
   ]
  },
  {
   "cell_type": "markdown",
   "metadata": {},
   "source": [
    "Approximate transition probabilities (matrix) between different POI features (vector) using the [Kronecker product](https://en.wikipedia.org/wiki/Kronecker_product) of individual transition matrix corresponding to each feature, i.e., POI category, POI popularity (discritized), POI average visit duration (discritized) and POI neighborhoods (clusters)."
   ]
  },
  {
   "cell_type": "markdown",
   "metadata": {},
   "source": [
    "Deal with features without corresponding POIs and feature with more than one corresponding POIs. (*Before Normalisation*)\n",
    "- For features without corresponding POIs, just remove the rows and columns from the matrix obtained by Kronecker product.\n",
    "- For different POIs with the exact same feature, \n",
    "  - Let POIs with the same feature as a POI group,\n",
    "  - The *incoming* **transition value (i.e., unnormalised transition probability)** of this POI group \n",
    "    should be divided uniformly among the group members, \n",
    "    *which corresponds to choose a group member uniformly at random in the incoming case*.\n",
    "  - The *outgoing* transition value should be duplicated (i.e., the same) among all group members, \n",
    "    **as we were already in that group in the outgoing case**.\n",
    "  - For each POI in the group, the allocation transition value of the *self-loop of the POI group* is similar to \n",
    "    that in the *outgoing* case, **as we were already in that group**, so just duplicate and then divide uniformly among \n",
    "    the transitions from this POI to other POIs in the same group, \n",
    "    *which corresponds to choose a outgoing transition uniformly at random from all outgoing transitions\n",
    "    excluding the self-loop of this POI*.\n",
    "- **Concretely**, for a POI group with $n$ POIs, \n",
    "    1. If the *incoming* transition value of POI group is $m_1$,\n",
    "       then the corresponding *incoming* transition value for each group member is $\\frac{m_1}{n}$.\n",
    "    1. If the *outgoing* transition value of POI group is $m_2$,\n",
    "       then the corresponding *outgoing* transition value for each group member is also $m_2$.\n",
    "    1. If the transition value of *self-loop of the POI group* is $m_3$,\n",
    "       then transition value of *self-loop of individual POIs* should be $0$,  \n",
    "       and *other in-group transitions* with value $\\frac{m_3}{n-1}$\n",
    "       as the total number of outgoing transitions to other POIs in the same group is $n-1$ (excluding the self-loop),\n",
    "       i.e. $n-1$ choose $1$.\n",
    "       \n",
    "**NOTE**: execute the above division before or after row normalisation will lead to the same result, *as the division itself does NOT change the normalising constant of each row (i.e., the sum of each row before normalising)*."
   ]
  },
  {
   "cell_type": "code",
   "execution_count": 72,
   "metadata": {
    "collapsed": true
   },
   "outputs": [],
   "source": [
    "def gen_poi_transmat(trajid_list, poi_set, traj_dict, poi_info, debug=False):\n",
    "    transmat_cat                        = gen_transmat_cat(trajid_list, traj_dict, poi_info)\n",
    "    transmat_pop,      logbins_pop      = gen_transmat_pop(trajid_list, traj_dict, poi_info)\n",
    "    transmat_visit,    logbins_visit    = gen_transmat_visit(trajid_list, traj_dict, poi_info)\n",
    "    transmat_duration, logbins_duration = gen_transmat_duration(trajid_list, traj_dict, poi_info)\n",
    "    transmat_neighbor, poi_clusters     = gen_transmat_neighbor(trajid_list, traj_dict, poi_info)\n",
    "\n",
    "    # Kronecker product\n",
    "    transmat_ix = list(itertools.product(transmat_cat.index, transmat_pop.index, transmat_visit.index, \\\n",
    "                                         transmat_duration.index, transmat_neighbor.index))\n",
    "    transmat_value = transmat_cat.values\n",
    "    for transmat in [transmat_pop, transmat_visit, transmat_duration, transmat_neighbor]:\n",
    "        transmat_value = kron(transmat_value, transmat.values)\n",
    "    transmat_feature = pd.DataFrame(data=transmat_value, index=transmat_ix, columns=transmat_ix)\n",
    "    \n",
    "    poi_train = sorted(poi_set)\n",
    "    feature_names = ['poiCat', 'popularity', 'nVisit', 'avgDuration', 'clusterID']\n",
    "    poi_features = pd.DataFrame(data=np.zeros((len(poi_train), len(feature_names))), \\\n",
    "                                columns=feature_names, index=poi_train)\n",
    "    poi_features.index.name = 'poiID'\n",
    "    poi_features['poiCat'] = poi_info.loc[poi_train, 'poiCat']\n",
    "    poi_features['popularity'] = np.digitize(poi_info.loc[poi_train, 'popularity'], logbins_pop)\n",
    "    poi_features['nVisit'] = np.digitize(poi_info.loc[poi_train, 'nVisit'], logbins_visit)\n",
    "    poi_features['avgDuration'] = np.digitize(poi_info.loc[poi_train, 'avgDuration'], logbins_duration)\n",
    "    poi_features['clusterID'] = poi_clusters.loc[poi_train, 'clusterID']\n",
    "    \n",
    "    # shrink the result of Kronecker product and deal with POIs with the same features\n",
    "    poi_logtransmat = pd.DataFrame(data=np.zeros((len(poi_train), len(poi_train)), dtype=np.float), \\\n",
    "                                   columns=poi_train, index=poi_train)\n",
    "    for p1 in poi_logtransmat.index:\n",
    "        rix = tuple(poi_features.loc[p1])\n",
    "        for p2 in poi_logtransmat.columns:\n",
    "            cix = tuple(poi_features.loc[p2])\n",
    "            value_ = transmat_feature.loc[(rix,), (cix,)]\n",
    "            poi_logtransmat.loc[p1, p2] = value_.values[0, 0]\n",
    "    \n",
    "    # group POIs with the same features\n",
    "    features_dup = dict()\n",
    "    for poi in poi_features.index:\n",
    "        key = tuple(poi_features.loc[poi])\n",
    "        if key in features_dup:\n",
    "            features_dup[key].append(poi)\n",
    "        else:\n",
    "            features_dup[key] = [poi]\n",
    "    if debug == True:\n",
    "        for key in sorted(features_dup.keys()):\n",
    "            print(key, '->', features_dup[key])\n",
    "            \n",
    "    # deal with POIs with the same features\n",
    "    for feature in sorted(features_dup.keys()):\n",
    "        n = len(features_dup[feature])\n",
    "        if n > 1:\n",
    "            group = features_dup[feature]\n",
    "            v1 = poi_logtransmat.loc[group[0], group[0]]  # transition value of self-loop of POI group\n",
    "            \n",
    "            # divide incoming transition value (i.e. unnormalised transition probability) uniformly among group members\n",
    "            for poi in group:\n",
    "                poi_logtransmat[poi] /= n\n",
    "                \n",
    "            # outgoing transition value has already been duplicated (value copied above)\n",
    "            \n",
    "            # duplicate & divide transition value of self-loop of POI group uniformly among all outgoing transitions,\n",
    "            # from a POI to all other POIs in the same group (excluding POI self-loop)\n",
    "            v2 = v1 / (n - 1)\n",
    "            for pair in itertools.permutations(group, 2):\n",
    "                poi_logtransmat.loc[pair[0], pair[1]] = v2\n",
    "                            \n",
    "    # normalise each row\n",
    "    for p1 in poi_logtransmat.index:\n",
    "        poi_logtransmat.loc[p1, p1] = 0\n",
    "        rowsum = poi_logtransmat.loc[p1].sum()\n",
    "        assert(rowsum > 0)\n",
    "        logrowsum = np.log10(rowsum)\n",
    "        for p2 in poi_logtransmat.columns:\n",
    "            if p1 == p2:\n",
    "                poi_logtransmat.loc[p1, p2] = -np.inf  # deal with log(0) explicitly\n",
    "            else:\n",
    "                poi_logtransmat.loc[p1, p2] = np.log10(poi_logtransmat.loc[p1, p2]) - logrowsum\n",
    "    \n",
    "    poi_transmat = np.power(10, poi_logtransmat)\n",
    "    return poi_transmat"
   ]
  },
  {
   "cell_type": "code",
   "execution_count": 73,
   "metadata": {
    "collapsed": false
   },
   "outputs": [
    {
     "name": "stdout",
     "output_type": "stream",
     "text": [
      "('Education', 2, 2, 4, 2) -> [8]\n",
      "('Education', 3, 3, 5, 4) -> [7]\n",
      "('Education', 3, 4, 4, 0) -> [9]\n",
      "('Education', 4, 4, 4, 0) -> [10]\n",
      "('Education', 4, 4, 4, 2) -> [12]\n",
      "('Education', 4, 4, 5, 2) -> [11]\n",
      "('Museum', 2, 2, 5, 3) -> [17]\n",
      "('Museum', 3, 3, 4, 0) -> [25]\n",
      "('Museum', 4, 4, 4, 2) -> [21]\n",
      "('Museum', 4, 4, 5, 0) -> [26]\n",
      "('Park', 2, 2, 4, 4) -> [18]\n",
      "('Park', 3, 3, 4, 4) -> [22]\n",
      "('Religion', 2, 2, 4, 2) -> [14]\n",
      "('Religion', 4, 4, 5, 4) -> [13]\n",
      "('Shopping', 4, 4, 4, 0) -> [15]\n",
      "('Shopping', 4, 4, 4, 2) -> [16]\n",
      "('Structure', 2, 3, 5, 3) -> [24, 27]\n",
      "('Structure', 3, 3, 4, 2) -> [29]\n",
      "('Structure', 3, 4, 5, 0) -> [19]\n",
      "('Structure', 4, 4, 4, 2) -> [20, 28]\n",
      "('Transport', 1, 1, 1, 1) -> [4]\n",
      "('Transport', 1, 1, 1, 3) -> [5]\n",
      "('Transport', 3, 3, 4, 2) -> [6]\n",
      "('Transport', 4, 4, 5, 2) -> [1]\n",
      "('Transport', 4, 5, 4, 2) -> [2]\n"
     ]
    }
   ],
   "source": [
    "transmat_ = gen_poi_transmat(trajid_set_all, set(poi_info_all.index), traj_dict, poi_info_all, debug=True)"
   ]
  },
  {
   "cell_type": "markdown",
   "metadata": {},
   "source": [
    "<a id='sec3.4'></a>"
   ]
  },
  {
   "cell_type": "markdown",
   "metadata": {},
   "source": [
    "## 3.4 Leave-one-out Evaluation"
   ]
  },
  {
   "cell_type": "markdown",
   "metadata": {},
   "source": [
    "Train an [EdgeFeatureGraphCRF](https://pystruct.github.io/generated/pystruct.models.EdgeFeatureGraphCRF.html) using [OneSlackSSVM](https://pystruct.github.io/generated/pystruct.learners.OneSlackSSVM.html#pystruct.learners.OneSlackSSVM):\n",
    "- Node features: POI ranking probabilities\n",
    "- Edge features: Outgoing POI transition probabilities"
   ]
  },
  {
   "cell_type": "code",
   "execution_count": 74,
   "metadata": {
    "collapsed": false
   },
   "outputs": [],
   "source": [
    "def gen_features(startPOI, endPOI, nPOI, rank_df, transmat_mapped, poi_ix, poi_id_dict):\n",
    "    assert(len(poi_ix) == transmat_mapped.shape[0] == transmat_mapped.shape[1])\n",
    "    assert(startPOI in poi_id_dict and startPOI in poi_ix)\n",
    "    assert(endPOI   in poi_id_dict and endPOI   in poi_ix)\n",
    "    assert(nPOI > 2)\n",
    "    p0, pN, L = startPOI, endPOI, nPOI\n",
    "    \n",
    "    # node features\n",
    "    # (traj_length - 2) x (total number of POIs in trajectories with length >= 3)\n",
    "    featuremat = np.tile(softmax(rank_df.loc[poi_ix, 'rank']), (L-2, 1)) # without start/end\n",
    "    node_s = np.zeros(len(poi_ix), dtype=np.float)\n",
    "    node_e = np.zeros(len(poi_ix), dtype=np.float)\n",
    "    node_s[poi_id_dict[p0]] = 1\n",
    "    node_e[poi_id_dict[pN]] = 1\n",
    "    node_features = np.vstack([node_s, featuremat, node_e])\n",
    "    \n",
    "    # edge features\n",
    "    #s_ix = np.argmax(p0 == np.array(poi_ix))\n",
    "    #e_ix = np.argmax(pN == np.array(poi_ix))\n",
    "    #edge_s = np.zeros_like(transmat_mapped) \n",
    "    #edge_e = np.zeros_like(transmat_mapped)\n",
    "    #edge_s[s_ix] = transmat_mapped[s_ix];    edge_s = edge_s.flatten()\n",
    "    #edge_e[e_ix] = transmat_mapped[:, e_ix]; edge_e = edge_e.flatten()\n",
    "    #edge_features = np.vstack([edge_s, np.tile(transmat_mapped.flatten(), (len(tr)-3, 1)), edge_e])\n",
    "    s0 = np.zeros(transmat_mapped.shape[0])\n",
    "    sN = np.zeros(transmat_mapped.shape[0])\n",
    "    s0[poi_id_dict[p0]] = 1\n",
    "    sN[poi_id_dict[pN]] = 1\n",
    "    MC_forward  = [s0]   # states of nodes\n",
    "    #MC_backward = [sN]\n",
    "    for ei in range(L-3):\n",
    "        # walk the MC forward, result is a normalised vector as both arguments of np.dot() are normalised (easy to prove)\n",
    "        MC_forward.append(np.dot(MC_forward[-1], transmat_mapped))\n",
    "        #MC_backward = [softmax(np.dot(MC_backward[0], transmat_inv))] + MC_backward  # walk the MC backward\n",
    "    edge_features = np.dot(np.vstack(MC_forward), transmat_mapped)\n",
    "    #edge_features = np.vstack([edge_features, sN])\n",
    "    #edge_last = np.log(transmat_mapped[:, poi_id_dict[pN]])\n",
    "    #edge_last = np.exp(edge_last - logsumexp(edge_last))  # renormalise\n",
    "    large_prob = 0.6\n",
    "    small_prob = (1 - large_prob) / (sN.shape[0] - 1)\n",
    "    edge_last = sN * small_prob; edge_last[poi_id_dict[pN]] = large_prob\n",
    "    edge_features = np.vstack([edge_features, edge_last])\n",
    "    #edge_features = np.dot(np.vstack(MC_backward[:-1]), transmat_mapped)       \n",
    "    #ss = 0.5 * (np.vstack(MC_forward[:-1]) + np.vstack(MC_backward[:-1]))  # remove the last state when computing edges\n",
    "    #edge_features = np.dot(ss, transmat_mapped)\n",
    "    \n",
    "    #r1 = [0.5**x for x in range(L-1)]  # ratios forward\n",
    "    #r2 = r1.copy(); r2.reverse()       # ratios backward\n",
    "    #sums = np.array(r1) + np.array(r2)\n",
    "    #r1 = np.array(r1) / sums           # normalise ratios\n",
    "    #r2 = np.array(r2) / sums\n",
    "    #forward  = np.multiply(np.tile(r1, (s0.shape[0], 1)).T, np.vstack(MC_forward[:-1]))\n",
    "    #backward = np.multiply(np.tile(r2, (sN.shape[0], 1)).T, np.vstack(MC_backward[:-1]))\n",
    "    #edge_features = np.dot(forward + backward, transmat_mapped)\n",
    "    \n",
    "    #edge_features = np.hstack([np.dot(np.vstack(MC_forward[:-1]), transmat_mapped), \\\n",
    "    #                           np.dot(np.vstack(MC_backward[:-1]), transmat_mapped)])\n",
    "    \n",
    "    # edges\n",
    "    edges = np.vstack([np.arange(L-1), np.arange(1, L)]).T  # shape: (n_edges, 2)\n",
    "    return (node_features, edges, edge_features)    "
   ]
  },
  {
   "cell_type": "code",
   "execution_count": 75,
   "metadata": {
    "collapsed": true
   },
   "outputs": [],
   "source": [
    "F1_train_list = []\n",
    "F1_test = []"
   ]
  },
  {
   "cell_type": "code",
   "execution_count": 76,
   "metadata": {
    "collapsed": false,
    "scrolled": true
   },
   "outputs": [
    {
     "name": "stdout",
     "output_type": "stream",
     "text": [
      "[20, 16, 21, 2] #1 ->\n",
      "           [20, 2, 21, 2]\n",
      "           rank: 7.8 sec, transition: 2.7 sec, train_data: 15.6 sec, train: 5.4 sec, total: 33.7 sec\n",
      "           Test F1: 0.750\n",
      "[13, 21, 2] #2 ->\n",
      "           [13, 21, 2]\n",
      "           rank: 7.7 sec, transition: 2.6 sec, train_data: 16.3 sec, train: 4.8 sec, total: 33.7 sec\n",
      "           Test F1: 1.000\n",
      "[2, 21, 16] #3 ->\n",
      "           [2, 21, 16]\n",
      "           rank: 7.6 sec, transition: 2.7 sec, train_data: 16.6 sec, train: 5.0 sec, total: 34.2 sec\n",
      "           Test F1: 1.000\n",
      "[2, 10, 21, 26] #4 ->\n",
      "           [2, 26, 25, 26]\n",
      "           rank: 7.4 sec, transition: 2.6 sec, train_data: 15.5 sec, train: 4.8 sec, total: 32.7 sec\n",
      "           Test F1: 0.500\n",
      "[28, 2, 13] #5 ->\n",
      "           [28, 12, 13]\n",
      "           rank: 7.7 sec, transition: 2.6 sec, train_data: 16.7 sec, train: 4.9 sec, total: 34.3 sec\n",
      "           Test F1: 0.667\n",
      "[11, 26, 25, 20, 28] #6 ->\n",
      "           [11, 28, 11, 12, 28]\n",
      "           rank: 7.4 sec, transition: 2.6 sec, train_data: 15.4 sec, train: 4.8 sec, total: 32.6 sec\n",
      "           Test F1: 0.400\n",
      "[2, 16, 1, 12, 21, 14] #7 ->\n",
      "           [2, 21, 16, 21, 16, 10]\n",
      "           rank: 7.8 sec, transition: 2.6 sec, train_data: 15.8 sec, train: 4.6 sec, total: 33.2 sec\n",
      "           Test F1: 0.667\n",
      "[9, 10, 15] #8 ->\n",
      "           [9, 10, 15]\n",
      "           rank: 8.4 sec, transition: 2.8 sec, train_data: 15.8 sec, train: 5.1 sec, total: 34.5 sec\n",
      "           Test F1: 1.000\n",
      "[12, 20, 16, 21, 1] #9 ->\n",
      "           [12, 1, 20, 16, 1]\n",
      "           rank: 7.6 sec, transition: 2.6 sec, train_data: 15.7 sec, train: 5.4 sec, total: 33.8 sec\n",
      "           Test F1: 0.800\n",
      "[19, 11, 28] #10 ->\n",
      "           [19, 25, 28]\n",
      "           rank: 7.5 sec, transition: 2.7 sec, train_data: 15.6 sec, train: 5.6 sec, total: 33.8 sec\n",
      "           Test F1: 0.667\n",
      "[12, 1, 16, 21, 2] #11 ->\n",
      "           [12, 20, 16, 21, 2]\n",
      "           rank: 7.8 sec, transition: 2.6 sec, train_data: 15.7 sec, train: 5.4 sec, total: 33.9 sec\n",
      "           Test F1: 0.800\n",
      "[28, 11, 16] #12 ->\n",
      "           [28, 21, 16]\n",
      "           rank: 7.8 sec, transition: 2.6 sec, train_data: 15.9 sec, train: 5.2 sec, total: 33.9 sec\n",
      "           Test F1: 0.667\n",
      "[1, 2, 21] #13 ->\n",
      "           [1, 16, 21]\n",
      "           rank: 8.5 sec, transition: 2.6 sec, train_data: 15.9 sec, train: 5.3 sec, total: 34.7 sec\n",
      "           Test F1: 0.667\n",
      "[13, 2, 21, 16] #14 ->\n",
      "           [13, 1, 21, 16]\n",
      "           rank: 7.8 sec, transition: 2.6 sec, train_data: 15.8 sec, train: 5.6 sec, total: 34.2 sec\n",
      "           Test F1: 0.750\n",
      "[9, 26, 2] #15 ->\n",
      "           [9, 10, 2]\n",
      "           rank: 7.4 sec, transition: 2.6 sec, train_data: 15.5 sec, train: 4.9 sec, total: 32.9 sec\n",
      "           Test F1: 0.667\n",
      "[1, 16, 2] #16 ->\n",
      "           [1, 21, 2]\n",
      "           rank: 8.1 sec, transition: 2.6 sec, train_data: 15.7 sec, train: 5.1 sec, total: 33.9 sec\n",
      "           Test F1: 0.667\n",
      "[2, 9, 10, 21] #17 ->\n",
      "           [2, 21, 16, 21]\n",
      "           rank: 8.0 sec, transition: 2.6 sec, train_data: 16.0 sec, train: 5.1 sec, total: 34.0 sec\n",
      "           Test F1: 0.500\n",
      "[16, 21, 26] #18 ->\n",
      "           [16, 2, 26]\n",
      "           rank: 7.7 sec, transition: 2.6 sec, train_data: 15.8 sec, train: 5.1 sec, total: 33.5 sec\n",
      "           Test F1: 0.667\n",
      "[17, 26, 27] #19 ->\n",
      "           [9, 10, 27]\n",
      "           rank: 7.5 sec, transition: 2.6 sec, train_data: 15.6 sec, train: 5.0 sec, total: 33.0 sec\n",
      "           Test F1: 0.667\n",
      "[15, 25, 26] #20 ->\n",
      "           [15, 10, 26]\n",
      "           rank: 7.5 sec, transition: 2.7 sec, train_data: 15.6 sec, train: 5.2 sec, total: 33.4 sec\n",
      "           Test F1: 0.667\n",
      "[1, 21, 2] #21 ->\n",
      "           [1, 16, 2]\n",
      "           rank: 7.9 sec, transition: 2.7 sec, train_data: 16.1 sec, train: 5.2 sec, total: 34.3 sec\n",
      "           Test F1: 0.667\n",
      "[26, 19, 2] #22 ->\n",
      "           [26, 9, 2]\n",
      "           rank: 7.6 sec, transition: 2.7 sec, train_data: 16.5 sec, train: 4.8 sec, total: 34.0 sec\n",
      "           Test F1: 0.667\n",
      "[13, 2, 20] #23 ->\n",
      "           [13, 28, 20]\n",
      "           rank: 7.5 sec, transition: 2.7 sec, train_data: 15.9 sec, train: 5.4 sec, total: 33.9 sec\n",
      "           Test F1: 0.667\n",
      "[21, 2, 11] #24 ->\n",
      "           [21, 16, 11]\n",
      "           rank: 7.7 sec, transition: 2.7 sec, train_data: 16.1 sec, train: 5.1 sec, total: 34.0 sec\n",
      "           Test F1: 0.667\n",
      "[21, 2, 7, 13, 28, 11, 12, 16] #25 ->\n",
      "           [21, 16, 21, 16, 1, 16, 21, 16]\n",
      "           rank: 7.3 sec, transition: 2.5 sec, train_data: 16.0 sec, train: 5.1 sec, total: 33.2 sec\n",
      "           Test F1: 0.250\n",
      "[1, 11, 26, 25, 29, 28, 12] #26 ->\n",
      "           [1, 16, 1, 16, 13, 28, 12]\n",
      "           rank: 7.6 sec, transition: 2.8 sec, train_data: 16.2 sec, train: 5.2 sec, total: 34.0 sec\n",
      "           Test F1: 0.429\n",
      "[25, 10, 12] #27 ->\n",
      "           [25, 28, 12]\n",
      "           rank: 7.7 sec, transition: 2.7 sec, train_data: 16.0 sec, train: 5.0 sec, total: 33.7 sec\n",
      "           Test F1: 0.667\n",
      "[11, 12, 26] #28 ->\n",
      "           [11, 20, 26]\n",
      "           rank: 7.9 sec, transition: 2.6 sec, train_data: 15.9 sec, train: 5.1 sec, total: 33.9 sec\n",
      "           Test F1: 0.667\n",
      "[28, 12, 20] #29 ->\n",
      "           [28, 2, 20]\n",
      "           rank: 7.6 sec, transition: 2.7 sec, train_data: 15.9 sec, train: 5.4 sec, total: 33.8 sec\n",
      "           Test F1: 0.667\n",
      "[20, 2, 12] #30 ->\n",
      "           [20, 28, 12]\n",
      "           rank: 7.9 sec, transition: 2.6 sec, train_data: 15.4 sec, train: 5.0 sec, total: 33.3 sec\n",
      "           Test F1: 0.667\n",
      "[2, 13, 11] #31 ->\n",
      "           [2, 20, 11]\n",
      "           rank: 7.6 sec, transition: 2.6 sec, train_data: 16.1 sec, train: 5.4 sec, total: 34.0 sec\n",
      "           Test F1: 0.667\n",
      "[2, 16, 1] #32 ->\n",
      "           [2, 21, 1]\n",
      "           rank: 8.0 sec, transition: 2.7 sec, train_data: 16.0 sec, train: 5.2 sec, total: 34.2 sec\n",
      "           Test F1: 0.667\n",
      "[2, 26, 20] #33 ->\n",
      "           [2, 13, 20]\n",
      "           rank: 7.5 sec, transition: 2.8 sec, train_data: 16.4 sec, train: 5.0 sec, total: 34.0 sec\n",
      "           Test F1: 0.667\n",
      "[21, 2, 16] #34 ->\n",
      "           [21, 21, 16]\n",
      "           rank: 7.9 sec, transition: 2.6 sec, train_data: 15.8 sec, train: 5.4 sec, total: 34.1 sec\n",
      "           Test F1: 0.667\n",
      "[21, 16, 2] #35 ->\n",
      "           [21, 16, 2]\n",
      "           rank: 7.8 sec, transition: 2.6 sec, train_data: 16.7 sec, train: 5.7 sec, total: 35.1 sec\n",
      "           Test F1: 1.000\n",
      "[1, 16, 2] #36 ->\n",
      "           [1, 21, 2]\n",
      "           rank: 7.9 sec, transition: 2.8 sec, train_data: 15.9 sec, train: 5.6 sec, total: 34.5 sec\n",
      "           Test F1: 0.667\n",
      "[16, 14, 13] #37 ->\n",
      "           [16, 21, 13]\n",
      "           rank: 7.9 sec, transition: 2.7 sec, train_data: 15.7 sec, train: 5.2 sec, total: 33.7 sec\n",
      "           Test F1: 0.667\n",
      "[1, 21, 16, 6] #38 ->\n",
      "           [1, 16, 26, 6]\n",
      "           rank: 7.5 sec, transition: 2.7 sec, train_data: 15.5 sec, train: 5.6 sec, total: 33.5 sec\n",
      "           Test F1: 0.750\n",
      "[13, 20, 28] #39 ->\n",
      "           [13, 2, 28]\n",
      "           rank: 7.7 sec, transition: 2.7 sec, train_data: 15.5 sec, train: 4.8 sec, total: 33.0 sec\n",
      "           Test F1: 0.667\n",
      "[1, 16, 28] #40 ->\n",
      "           [1, 11, 28]\n",
      "           rank: 7.6 sec, transition: 2.6 sec, train_data: 16.2 sec, train: 6.3 sec, total: 35.1 sec\n",
      "           Test F1: 0.667\n",
      "[1, 28, 20, 9] #41 ->\n",
      "           [1, 16, 10, 9]\n",
      "           rank: 8.2 sec, transition: 2.7 sec, train_data: 15.8 sec, train: 5.2 sec, total: 34.1 sec\n",
      "           Test F1: 0.500\n",
      "[29, 28, 12] #42 ->\n",
      "           [29, 28, 12]\n",
      "           rank: 7.5 sec, transition: 2.8 sec, train_data: 17.1 sec, train: 5.6 sec, total: 35.3 sec\n",
      "           Test F1: 1.000\n",
      "[10, 25, 26] #43 ->\n",
      "           [10, 9, 26]\n",
      "           rank: 7.7 sec, transition: 2.7 sec, train_data: 16.7 sec, train: 5.3 sec, total: 34.7 sec\n",
      "           Test F1: 0.667\n",
      "[15, 10, 26, 25] #44 ->\n",
      "           [15, 10, 15, 25]\n",
      "           rank: 7.8 sec, transition: 2.6 sec, train_data: 16.3 sec, train: 5.3 sec, total: 34.4 sec\n",
      "           Test F1: 0.750\n",
      "[10, 15, 25] #45 ->\n",
      "           [10, 26, 25]\n",
      "           rank: 7.9 sec, transition: 2.6 sec, train_data: 15.9 sec, train: 5.3 sec, total: 34.1 sec\n",
      "           Test F1: 0.667\n",
      "[2, 21, 16, 1] #46 ->\n",
      "           [2, 16, 21, 1]\n",
      "           rank: 8.1 sec, transition: 2.7 sec, train_data: 16.9 sec, train: 5.4 sec, total: 35.4 sec\n",
      "           Test F1: 1.000\n",
      "[25, 10, 9, 2] #47 ->\n",
      "           [25, 10, 21, 2]\n",
      "           rank: 7.6 sec, transition: 2.8 sec, train_data: 15.6 sec, train: 5.3 sec, total: 33.7 sec\n",
      "           Test F1: 0.750\n",
      "[15, 10, 19] #48 ->\n",
      "           [15, 10, 19]\n",
      "           rank: 7.6 sec, transition: 2.6 sec, train_data: 15.9 sec, train: 5.0 sec, total: 33.4 sec\n",
      "           Test F1: 1.000\n",
      "[21, 16, 1, 26, 9, 10, 15] #49 ->\n",
      "           [21, 16, 2, 13, 9, 10, 15]\n",
      "           rank: 7.5 sec, transition: 2.6 sec, train_data: 15.7 sec, train: 4.6 sec, total: 32.8 sec\n",
      "           Test F1: 0.714\n",
      "[29, 16, 2] #50 ->\n",
      "           [29, 21, 2]\n",
      "           rank: 8.1 sec, transition: 2.6 sec, train_data: 16.0 sec, train: 5.3 sec, total: 34.4 sec\n",
      "           Test F1: 0.667\n",
      "[10, 9, 26] #51 ->\n",
      "           [10, 25, 26]\n",
      "           rank: 7.9 sec, transition: 2.6 sec, train_data: 15.7 sec, train: 4.9 sec, total: 33.4 sec\n",
      "           Test F1: 0.667\n",
      "[26, 13, 20] #52 ->\n",
      "           [26, 10, 20]\n",
      "           rank: 7.5 sec, transition: 2.6 sec, train_data: 15.4 sec, train: 5.0 sec, total: 32.8 sec\n",
      "           Test F1: 0.667\n",
      "[11, 1, 16, 9] #53 ->\n",
      "           [11, 26, 10, 9]\n",
      "           rank: 7.8 sec, transition: 2.6 sec, train_data: 15.3 sec, train: 5.0 sec, total: 33.0 sec\n",
      "           Test F1: 0.500\n",
      "[16, 2, 21] #54 ->\n",
      "           [16, 2, 21]\n",
      "           rank: 8.2 sec, transition: 2.9 sec, train_data: 16.5 sec, train: 5.2 sec, total: 35.0 sec\n",
      "           Test F1: 1.000\n",
      "[1, 21, 2] #55 ->\n",
      "           [1, 16, 2]\n",
      "           rank: 7.8 sec, transition: 2.6 sec, train_data: 15.6 sec, train: 5.0 sec, total: 33.3 sec\n",
      "           Test F1: 0.667\n",
      "[26, 10, 9] #56 ->\n",
      "           [26, 10, 9]\n",
      "           rank: 7.4 sec, transition: 2.6 sec, train_data: 16.4 sec, train: 5.2 sec, total: 34.0 sec\n",
      "           Test F1: 1.000\n",
      "[13, 28, 2, 26] #57 ->\n",
      "           [13, 28, 12, 26]\n",
      "           rank: 7.6 sec, transition: 2.6 sec, train_data: 15.3 sec, train: 4.9 sec, total: 32.8 sec\n",
      "           Test F1: 0.750\n",
      "[1, 2, 20] #58 ->\n",
      "           [1, 16, 20]\n",
      "           rank: 8.3 sec, transition: 2.6 sec, train_data: 15.9 sec, train: 4.9 sec, total: 33.9 sec\n",
      "           Test F1: 0.667\n",
      "[2, 13, 9, 16, 21] #59 ->\n",
      "           [2, 16, 1, 2, 21]\n",
      "           rank: 7.7 sec, transition: 2.6 sec, train_data: 16.7 sec, train: 4.8 sec, total: 34.2 sec\n",
      "           Test F1: 0.600\n",
      "[2, 20, 26] #60 ->\n",
      "           [2, 21, 26]\n",
      "           rank: 7.8 sec, transition: 2.6 sec, train_data: 15.9 sec, train: 4.9 sec, total: 33.6 sec\n",
      "           Test F1: 0.667\n",
      "[11, 12, 28] #61 ->\n",
      "           [11, 20, 28]\n",
      "           rank: 7.8 sec, transition: 2.7 sec, train_data: 16.0 sec, train: 5.3 sec, total: 34.0 sec\n",
      "           Test F1: 0.667\n",
      "[13, 28, 12] #62 ->\n",
      "           [13, 28, 12]\n",
      "           rank: 8.1 sec, transition: 2.6 sec, train_data: 16.7 sec, train: 5.4 sec, total: 35.0 sec\n",
      "           Test F1: 1.000\n",
      "[11, 28, 20, 2] #63 ->\n",
      "           [11, 16, 21, 2]\n",
      "           rank: 7.6 sec, transition: 2.6 sec, train_data: 15.9 sec, train: 5.2 sec, total: 33.7 sec\n",
      "           Test F1: 0.500\n",
      "[2, 21, 16, 13, 10] #64 ->\n",
      "           [2, 13, 28, 20, 10]\n",
      "           rank: 7.7 sec, transition: 2.6 sec, train_data: 15.5 sec, train: 5.1 sec, total: 33.2 sec\n",
      "           Test F1: 0.600\n",
      "[16, 2, 21] #65 ->\n",
      "           [16, 2, 21]\n",
      "           rank: 7.7 sec, transition: 2.6 sec, train_data: 16.3 sec, train: 4.8 sec, total: 33.8 sec\n",
      "           Test F1: 1.000\n",
      "[12, 20, 2] #66 ->\n",
      "           [12, 21, 2]\n",
      "           rank: 7.8 sec, transition: 2.6 sec, train_data: 16.0 sec, train: 5.2 sec, total: 33.9 sec\n",
      "           Test F1: 0.667\n",
      "[20, 28, 12, 16, 1] #67 ->\n",
      "           [20, 2, 9, 10, 1]\n",
      "           rank: 7.6 sec, transition: 2.6 sec, train_data: 16.7 sec, train: 5.1 sec, total: 34.3 sec\n",
      "           Test F1: 0.400\n",
      "[9, 10, 15] #68 ->\n",
      "           [9, 10, 15]\n",
      "           rank: 7.5 sec, transition: 2.6 sec, train_data: 15.4 sec, train: 5.1 sec, total: 32.9 sec\n",
      "           Test F1: 1.000\n",
      "[9, 10, 1] #69 ->\n",
      "           [9, 10, 1]\n",
      "           rank: 7.9 sec, transition: 2.7 sec, train_data: 17.7 sec, train: 5.0 sec, total: 35.7 sec\n",
      "           Test F1: 1.000\n",
      "[1, 16, 2, 26, 6] #70 ->\n",
      "           [1, 16, 1, 16, 6]\n",
      "           rank: 8.0 sec, transition: 2.6 sec, train_data: 16.7 sec, train: 5.1 sec, total: 34.7 sec\n",
      "           Test F1: 0.600\n",
      "[10, 15, 11, 16, 21] #71 ->\n",
      "           [10, 15, 10, 2, 21]\n",
      "           rank: 7.8 sec, transition: 2.6 sec, train_data: 15.9 sec, train: 5.0 sec, total: 33.6 sec\n",
      "           Test F1: 0.600\n",
      "[2, 28, 12] #72 ->\n",
      "           [2, 28, 12]\n",
      "           rank: 7.7 sec, transition: 2.6 sec, train_data: 15.4 sec, train: 4.9 sec, total: 32.9 sec\n",
      "           Test F1: 1.000\n",
      "[21, 2, 19, 20] #73 ->\n",
      "           [21, 16, 21, 20]\n",
      "           rank: 7.8 sec, transition: 2.6 sec, train_data: 15.4 sec, train: 5.0 sec, total: 33.2 sec\n",
      "           Test F1: 0.500\n",
      "[2, 16, 21, 28] #74 ->\n",
      "           [2, 21, 16, 28]\n",
      "           rank: 7.8 sec, transition: 2.7 sec, train_data: 15.7 sec, train: 4.7 sec, total: 33.2 sec\n",
      "           Test F1: 1.000\n",
      "[16, 8, 12] #75 ->\n",
      "           [16, 28, 12]\n",
      "           rank: 8.1 sec, transition: 2.6 sec, train_data: 16.3 sec, train: 4.8 sec, total: 34.2 sec\n",
      "           Test F1: 0.667\n",
      "[13, 1, 11] #76 ->\n",
      "           [13, 2, 11]\n",
      "           rank: 7.9 sec, transition: 2.7 sec, train_data: 15.3 sec, train: 5.0 sec, total: 33.1 sec\n",
      "           Test F1: 0.667\n",
      "[19, 25, 26] #77 ->\n",
      "           [19, 11, 26]\n",
      "           rank: 7.4 sec, transition: 2.6 sec, train_data: 15.7 sec, train: 5.3 sec, total: 33.3 sec\n",
      "           Test F1: 0.667\n",
      "[8, 21, 16] #78 ->\n",
      "           [10, 21, 16]\n",
      "           rank: 9.0 sec, transition: 2.6 sec, train_data: 15.7 sec, train: 5.2 sec, total: 34.7 sec\n",
      "           Test F1: 1.000\n",
      "[15, 21, 12] #79 ->\n",
      "           [15, 28, 12]\n",
      "           rank: 7.7 sec, transition: 2.6 sec, train_data: 16.6 sec, train: 4.8 sec, total: 34.0 sec\n",
      "           Test F1: 0.667\n",
      "[20, 16, 2] #80 ->\n",
      "           [20, 16, 2]\n",
      "           rank: 8.5 sec, transition: 2.6 sec, train_data: 16.6 sec, train: 5.2 sec, total: 35.2 sec\n",
      "           Test F1: 1.000\n",
      "[20, 2, 16] #81 ->\n",
      "           [20, 21, 16]\n",
      "           rank: 7.7 sec, transition: 2.6 sec, train_data: 15.9 sec, train: 5.3 sec, total: 33.9 sec\n",
      "           Test F1: 0.667\n",
      "[21, 16, 20, 11] #82 ->\n",
      "           [21, 16, 13, 11]\n",
      "           rank: 8.3 sec, transition: 2.6 sec, train_data: 16.6 sec, train: 5.3 sec, total: 35.1 sec\n",
      "           Test F1: 0.750\n",
      "[11, 20, 10] #83 ->\n",
      "           [11, 13, 10]\n",
      "           rank: 7.8 sec, transition: 2.6 sec, train_data: 15.8 sec, train: 5.0 sec, total: 33.5 sec\n",
      "           Test F1: 0.667\n",
      "[1, 16, 13] #84 ->\n",
      "           [1, 2, 13]\n",
      "           rank: 7.4 sec, transition: 2.6 sec, train_data: 15.6 sec, train: 5.1 sec, total: 33.1 sec\n",
      "           Test F1: 0.667\n",
      "[1, 16, 20] #85 ->\n",
      "           [1, 21, 20]\n",
      "           rank: 7.4 sec, transition: 2.6 sec, train_data: 15.3 sec, train: 5.0 sec, total: 32.6 sec\n",
      "           Test F1: 0.667\n",
      "[20, 2, 21, 16] #86 ->\n",
      "           [20, 16, 21, 16]\n",
      "           rank: 8.1 sec, transition: 2.6 sec, train_data: 15.7 sec, train: 5.3 sec, total: 34.0 sec\n",
      "           Test F1: 0.750\n",
      "[21, 16, 12, 20, 2] #87 ->\n",
      "           [21, 16, 21, 16, 2]\n",
      "           rank: 7.7 sec, transition: 2.6 sec, train_data: 16.0 sec, train: 5.1 sec, total: 33.7 sec\n",
      "           Test F1: 0.600\n",
      "[1, 16, 11] #88 ->\n",
      "           [1, 1, 11]\n",
      "           rank: 7.7 sec, transition: 2.6 sec, train_data: 15.7 sec, train: 5.0 sec, total: 33.3 sec\n",
      "           Test F1: 0.667\n",
      "[1, 21, 2] #89 ->\n",
      "           [1, 16, 2]\n",
      "           rank: 7.6 sec, transition: 2.6 sec, train_data: 15.4 sec, train: 5.3 sec, total: 33.2 sec\n",
      "           Test F1: 0.667\n",
      "[26, 10, 20] #90 ->\n",
      "           [26, 19, 20]\n",
      "           rank: 8.2 sec, transition: 2.6 sec, train_data: 15.4 sec, train: 4.7 sec, total: 33.3 sec\n",
      "           Test F1: 0.667\n",
      "[13, 2, 28] #91 ->\n",
      "           [13, 20, 28]\n",
      "           rank: 7.9 sec, transition: 2.6 sec, train_data: 15.6 sec, train: 5.2 sec, total: 33.7 sec\n",
      "           Test F1: 0.667\n",
      "[2, 21, 13] #92 ->\n",
      "           [2, 10, 13]\n",
      "           rank: 7.5 sec, transition: 2.6 sec, train_data: 16.7 sec, train: 5.2 sec, total: 34.4 sec\n",
      "           Test F1: 0.667\n",
      "[21, 16, 2] #93 ->\n",
      "           [21, 16, 2]\n",
      "           rank: 8.2 sec, transition: 2.6 sec, train_data: 15.4 sec, train: 5.3 sec, total: 33.8 sec\n",
      "           Test F1: 1.000\n",
      "[16, 21, 20] #94 ->\n",
      "           [16, 21, 20]\n",
      "           rank: 7.5 sec, transition: 2.6 sec, train_data: 15.3 sec, train: 5.0 sec, total: 32.8 sec\n",
      "           Test F1: 1.000\n",
      "[16, 21, 20] #95 ->\n",
      "           [16, 21, 20]\n",
      "           rank: 8.3 sec, transition: 2.6 sec, train_data: 15.3 sec, train: 5.0 sec, total: 33.5 sec\n",
      "           Test F1: 1.000\n",
      "[2, 16, 1, 21] #96 ->\n",
      "           [2, 13, 2, 21]\n",
      "           rank: 7.5 sec, transition: 2.6 sec, train_data: 15.7 sec, train: 5.1 sec, total: 33.2 sec\n",
      "           Test F1: 0.500\n",
      "[10, 12, 2] #97 ->\n",
      "           [10, 15, 2]\n",
      "           rank: 8.1 sec, transition: 2.6 sec, train_data: 16.6 sec, train: 5.1 sec, total: 34.8 sec\n",
      "           Test F1: 0.667\n",
      "[10, 9, 26, 15] #98 ->\n",
      "           [10, 15, 10, 15]\n",
      "           rank: 8.0 sec, transition: 2.6 sec, train_data: 16.0 sec, train: 5.1 sec, total: 34.0 sec\n",
      "           Test F1: 0.500\n",
      "[2, 10, 13] #99 ->\n",
      "           [2, 16, 13]\n",
      "           rank: 8.1 sec, transition: 2.6 sec, train_data: 15.9 sec, train: 4.7 sec, total: 33.7 sec\n",
      "           Test F1: 0.667\n",
      "[2, 16, 21] #100 ->\n",
      "           [2, 16, 21]\n",
      "           rank: 8.1 sec, transition: 2.6 sec, train_data: 16.7 sec, train: 4.9 sec, total: 34.7 sec\n",
      "           Test F1: 1.000\n",
      "[26, 9, 10, 1, 2] #101 ->\n",
      "           [26, 10, 9, 26, 2]\n",
      "           rank: 7.8 sec, transition: 2.6 sec, train_data: 16.6 sec, train: 5.2 sec, total: 34.6 sec\n",
      "           Test F1: 0.800\n",
      "[21, 16, 27, 11, 13, 2] #102 ->\n",
      "           [21, 16, 21, 16, 21, 2]\n",
      "           rank: 8.1 sec, transition: 2.6 sec, train_data: 15.2 sec, train: 4.4 sec, total: 32.6 sec\n",
      "           Test F1: 0.500\n",
      "[16, 20, 29, 1] #103 ->\n",
      "           [16, 21, 16, 1]\n",
      "           rank: 7.4 sec, transition: 2.6 sec, train_data: 16.3 sec, train: 5.2 sec, total: 33.9 sec\n",
      "           Test F1: 0.500\n",
      "[15, 10, 9] #104 ->\n",
      "           [15, 10, 9]\n",
      "           rank: 7.6 sec, transition: 2.6 sec, train_data: 15.7 sec, train: 5.2 sec, total: 33.5 sec\n",
      "           Test F1: 1.000\n",
      "[16, 21, 2] #105 ->\n",
      "           [16, 21, 2]\n",
      "           rank: 7.9 sec, transition: 2.6 sec, train_data: 15.9 sec, train: 5.0 sec, total: 33.7 sec\n",
      "           Test F1: 1.000\n",
      "[27, 17, 26] #106 ->\n",
      "           [27, 25, 26]\n",
      "           rank: 7.5 sec, transition: 2.6 sec, train_data: 15.7 sec, train: 5.1 sec, total: 33.2 sec\n",
      "           Test F1: 0.667\n",
      "[2, 21, 1, 13] #107 ->\n",
      "           [2, 16, 14, 13]\n",
      "           rank: 7.8 sec, transition: 2.7 sec, train_data: 16.8 sec, train: 5.3 sec, total: 35.2 sec\n",
      "           Test F1: 0.500\n",
      "[16, 21, 1] #108 ->\n",
      "           [16, 21, 1]\n",
      "           rank: 8.2 sec, transition: 2.7 sec, train_data: 16.8 sec, train: 5.2 sec, total: 35.2 sec\n",
      "           Test F1: 1.000\n",
      "[26, 11, 28] #109 ->\n",
      "           [26, 11, 28]\n",
      "           rank: 8.2 sec, transition: 2.6 sec, train_data: 16.4 sec, train: 5.3 sec, total: 34.8 sec\n",
      "           Test F1: 1.000\n",
      "[13, 2, 21] #110 ->\n",
      "           [13, 2, 21]\n",
      "           rank: 8.0 sec, transition: 2.6 sec, train_data: 15.9 sec, train: 5.6 sec, total: 34.5 sec\n",
      "           Test F1: 1.000\n"
     ]
    }
   ],
   "source": [
    "if run_crf == True:\n",
    "    recdict_crf = dict()\n",
    "    cost = 10\n",
    "    n_jobs = 4\n",
    "    cnt = 1\n",
    "    for i in range(len(trajid_set_all)):\n",
    "        t0 = time.time()\n",
    "        tid_ = trajid_set_all[i]\n",
    "        te = traj_dict[tid_]\n",
    "        \n",
    "        # trajectory too short\n",
    "        if len(te) < 3: continue\n",
    "            \n",
    "        trajid_list_train = trajid_set_all[:i] + trajid_set_all[i+1:]\n",
    "        poi_info = calc_poi_info(trajid_list_train, traj_all, poi_all)\n",
    "        \n",
    "        assert(len(te) <= poi_info.shape[0])\n",
    "            \n",
    "        # build POI_ID <--> POI__INDEX mapping for POIs used to train CRF\n",
    "        # which means only POIs in traj such that len(traj) >= 3 are included\n",
    "        poi_set = set()\n",
    "        for x in trajid_list_train:\n",
    "            if len(traj_dict[x]) >= 3:\n",
    "                poi_set = poi_set | set(traj_dict[x])                \n",
    "        poi_ix = sorted(poi_set)\n",
    "        poi_id_dict, poi_id_rdict = dict(), dict()\n",
    "        for idx, poi in enumerate(poi_ix):\n",
    "            poi_id_dict[poi] = idx\n",
    "            poi_id_rdict[idx] = poi\n",
    "            \n",
    "        # start/end is not in training set\n",
    "        if not (te[0] in poi_set and te[-1] in poi_set): continue\n",
    "            \n",
    "        print(te, '#%d ->' % cnt); cnt += 1; sys.stdout.flush()\n",
    "        \n",
    "        t1 = time.time()\n",
    "        \n",
    "        # POI feature based ranking\n",
    "        train_df = gen_train_df(trajid_list_train, traj_dict, poi_info, POI_CLUSTERS, n_jobs)\n",
    "        ranksvm = RankSVM(ranksvm_dir, useLinear=True)\n",
    "        ranksvm.train(train_df, cost=cost)\n",
    "        \n",
    "        t2 = time.time()\n",
    "               \n",
    "        poi_transmat = gen_poi_transmat(trajid_list_train, set(poi_ix), traj_dict, poi_info) \n",
    "        assert(poi_transmat.shape[0] == poi_transmat.shape[1] == len(poi_ix))\n",
    "        transmat_mapped = np.zeros_like(poi_transmat)\n",
    "        for ix in range(len(poi_ix)):  # reorder the transition probabilites according to the order of mapped POIs\n",
    "            pi = poi_ix[ix]\n",
    "            for jx in range(len(poi_ix)):\n",
    "                pj = poi_ix[jx]\n",
    "                transmat_mapped[ix, jx] = poi_transmat.loc[pi, pj]\n",
    "        \n",
    "        t3 = time.time()\n",
    "            \n",
    "        # generate training data\n",
    "        X_train = []\n",
    "        y_train = []\n",
    "        train_traj_list = [traj_dict[x] for x in trajid_list_train if len(traj_dict[x]) > 2]\n",
    "        train_df_list = Parallel(n_jobs=n_jobs)(delayed(gen_test_df)(tr[0], tr[-1], len(tr), poi_info, POI_CLUSTERS) \\\n",
    "                                                for tr in train_traj_list)\n",
    "        rank_df_list = [ranksvm.predict(tr_df) for tr_df in train_df_list]\n",
    "        assert(len(train_traj_list) == len(rank_df_list))\n",
    "        X_train = Parallel(n_jobs=n_jobs)\\\n",
    "                          (delayed(gen_features)\\\n",
    "                           (train_traj_list[x][0], train_traj_list[x][-1], len(train_traj_list[x]), rank_df_list[x], \\\n",
    "                            transmat_mapped, poi_ix, poi_id_dict) for x in range(len(rank_df_list)))\n",
    "        y_train = [np.array([poi_id_dict[x] for x in tr]) for tr in train_traj_list]\n",
    "        assert(len(train_traj_list) == len(X_train) == len(y_train))\n",
    "        #for ix in range(len(X_train)):\n",
    "        #    print('edge features of', train_traj_list[ix])\n",
    "        #    print(X_train[ix][2])\n",
    "        \n",
    "        #for j in range(len(train_set)):\n",
    "        #    tr = traj_dict[train_set[j]]\n",
    "        #    assert(len(tr) >= 3)\n",
    "        #    tr_df = train_df_list[j]\n",
    "        #    tr_rank_df = ranksvm.predict(tr_df)\n",
    "        #    X_train.append(gen_features(tr[0], tr[-1], len(tr), tr_rank_df, transmat_mapped, poi_ix, poi_id_dict))\n",
    "        #    y_train.append(np.array([poi_id_dict[x] for x in tr]))\n",
    "        \n",
    "        t4 = time.time()        \n",
    "                \n",
    "        # train\n",
    "        crf = EdgeFeatureGraphCRF(inference_method='max-product')  # use belief propagation as it is essentially a chain\n",
    "        #ssvm = OneSlackSSVM(model=crf, C=C, max_iter=maxIter, n_jobs=4) # default: C=1, max_iter=10000, n_jobs=1\n",
    "        ssvm = OneSlackSSVM(model=crf, C=C) # optimized BLAS libraries, e.g. OpenBLAS/MKL will use all available threads \n",
    "        ssvm.fit(X_train, y_train)\n",
    "        \n",
    "        t5 = time.time()\n",
    "        \n",
    "        # generate test data\n",
    "        X_test = []\n",
    "        te_df = gen_test_df(te[0], te[-1], len(te), poi_info, poi_clusters=POI_CLUSTERS)\n",
    "        te_rank_df = ranksvm.predict(te_df)\n",
    "        #te_rank_df.set_index('poiID', inplace=True)\n",
    "        X_test.append(gen_features(te[0], te[-1], len(te), te_rank_df, transmat_mapped, \\\n",
    "                                   poi_ix, poi_id_dict))\n",
    "        \n",
    "        # test\n",
    "        y_pred = ssvm.predict(X_test)\n",
    "        rec = [poi_id_rdict[x] for x in y_pred[0]] # map POIs back\n",
    "        rec1 = [te[0]] + rec[1:-1] + [te[-1]]\n",
    "        F1_test.append(calc_F1(te, rec1))\n",
    "        \n",
    "        # test on training set\n",
    "        #y_pred_train = ssvm.predict(X_train)\n",
    "        #F1_train = []\n",
    "        #assert(len(train_set) == len(y_pred_train))\n",
    "        #for j in range(len(train_set)):\n",
    "        #    tr = traj_dict[train_set[j]]\n",
    "        #    F1_train.append(calc_F1(tr, [tr[0]] + [poi_id_rdict[x] for x in y_pred_train[j][1:-1]] + [tr[-1]]))\n",
    "        #F1_train_list.append(F1_train)\n",
    "        \n",
    "        recdict_crf[tid_] = {'REAL':te, 'REC_CRF':rec1} \n",
    "        \n",
    "        t6 = time.time()\n",
    "        \n",
    "        print(' '*10, rec)\n",
    "        print(' '*10, 'rank: %.1f sec, transition: %.1f sec, train_data: %.1f sec, train: %.1f sec, total: %.1f sec' % \\\n",
    "              (t2 - t1, t3 - t2, t4 - t3, t5 - t4, t6 - t0))\n",
    "        #print(' '*10, 'Train F1: %.3f %.3f, Test F1: %.3f' % (np.mean(F1_train), np.std(F1_train), F1_test[-1]))\n",
    "        print(' '*10, 'Test F1: %.3f' % F1_test[-1])"
   ]
  },
  {
   "cell_type": "code",
   "execution_count": 77,
   "metadata": {
    "collapsed": false
   },
   "outputs": [
    {
     "name": "stdout",
     "output_type": "stream",
     "text": [
      "Test: 0.725, 0.174\n"
     ]
    }
   ],
   "source": [
    "print('Test: %.3f, %.3f' % (np.mean(F1_test), np.std(F1_test)))"
   ]
  },
  {
   "cell_type": "code",
   "execution_count": 78,
   "metadata": {
    "collapsed": false
   },
   "outputs": [
    {
     "name": "stdout",
     "output_type": "stream",
     "text": [
      "data/data-cikm16/crf2-noloop-all-agnostic-C1-Glas.pkl\n"
     ]
    }
   ],
   "source": [
    "if run_crf == True:\n",
    "    print(frecdict_crf)\n",
    "    pickle.dump(recdict_crf, open(frecdict_crf, 'bw'))"
   ]
  },
  {
   "cell_type": "code",
   "execution_count": 79,
   "metadata": {
    "collapsed": false
   },
   "outputs": [],
   "source": [
    "#print('Train: %.3f, %.3f' % (np.mean([x for y in F1_train_list for x in y]), \\\n",
    "#                             np.std([x for y in F1_train_list for x in y])))"
   ]
  },
  {
   "cell_type": "code",
   "execution_count": 80,
   "metadata": {
    "collapsed": false
   },
   "outputs": [
    {
     "name": "stdout",
     "output_type": "stream",
     "text": [
      "C = 1.0, Glas\n"
     ]
    }
   ],
   "source": [
    "print('C = %.1f,' % C, dat_suffix[dat_ix])"
   ]
  },
  {
   "cell_type": "code",
   "execution_count": 81,
   "metadata": {
    "collapsed": false
   },
   "outputs": [],
   "source": [
    "F1 = [calc_F1(recdict_crf[key]['REAL'], recdict_crf[key]['REC_CRF'], noloop=True) for key in sorted(recdict_crf.keys())]"
   ]
  },
  {
   "cell_type": "code",
   "execution_count": 82,
   "metadata": {
    "collapsed": false
   },
   "outputs": [
    {
     "name": "stdout",
     "output_type": "stream",
     "text": [
      "0.725086580087 0.173858048517\n"
     ]
    }
   ],
   "source": [
    "print(np.mean(F1), np.std(F1))"
   ]
  }
 ],
 "metadata": {
  "kernelspec": {
   "display_name": "Python 3",
   "language": "python",
   "name": "python3"
  },
  "language_info": {
   "codemirror_mode": {
    "name": "ipython",
    "version": 3
   },
   "file_extension": ".py",
   "mimetype": "text/x-python",
   "name": "python",
   "nbconvert_exporter": "python",
   "pygments_lexer": "ipython3",
   "version": "3.5.1"
  }
 },
 "nbformat": 4,
 "nbformat_minor": 0
}
